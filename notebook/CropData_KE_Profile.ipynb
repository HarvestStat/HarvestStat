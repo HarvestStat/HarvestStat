{
 "cells": [
  {
   "cell_type": "markdown",
   "id": "5a54535d-4fd0-4290-a987-d6baff7aa821",
   "metadata": {},
   "source": [
    "# HarvestStat Data Profiling - Kenya"
   ]
  },
  {
   "cell_type": "code",
   "execution_count": 2,
   "id": "423b4763-5783-4282-ba84-d8ae8ba04fb5",
   "metadata": {},
   "outputs": [],
   "source": [
    "import glob, json\n",
    "import warnings\n",
    "warnings.simplefilter(action='ignore', category=FutureWarning)\n",
    "import requests\n",
    "import numpy as np\n",
    "import pandas as pd\n",
    "import geopandas as gpd\n",
    "from tools import save_npz, PrintAdminUnits, PlotAdminShapes\n",
    "from tools import FDW_PD_Sweeper, FDW_PD_AvalTable, FDW_PD_Compiling, FDW_PD_ValidateFnidName\n",
    "from tools import FDW_PD_CreateAdminLink, FDW_PD_RatioAdminLink, FDW_PD_ConnectAdminLink\n",
    "from tools import product_name_mapping, FDW_PD_CaliSeasonYear, FDW_PD_MergeCropProductionSystem\n",
    "from tools_graphic import PlotBarProduction, PlotLinePAY\n",
    "warnings.simplefilter(action='ignore', category=pd.errors.PerformanceWarning)\n",
    "pd.options.mode.chained_assignment = None"
   ]
  },
  {
   "cell_type": "code",
   "execution_count": 3,
   "id": "848596e1-fdf4-4569-a72f-f2b8c1a05718",
   "metadata": {},
   "outputs": [],
   "source": [
    "# Load FEWS NET administrative boundaries ------- #\n",
    "epsg = 'epsg:32736' # Kenya\n",
    "fn_shapes = sorted(glob.glob('../data/shapefile/fewsnet/KE_Admin?_????.shp'))\n",
    "shape_all = []\n",
    "for fn in fn_shapes:\n",
    "    name = fn[-18:-4]\n",
    "    exec('%s = gpd.read_file(\"%s\").to_crs(\"%s\")' % (name, fn, epsg))\n",
    "    exec('%s = %s.dissolve(\"FNID\").reset_index()' % (name, name))\n",
    "    exec('%s[\"area\"] = %s[\"geometry\"].area/10**6' % (name, name))\n",
    "    exec('shape_all.append(%s)' % (name))\n",
    "shape_all = pd.concat(shape_all, axis=0).reset_index(drop=True)\n",
    "#PrintAdminUnits(shape_all)\n",
    "# ----------------------------------------------- #\n",
    "\n",
    "# FDW API host address -------------------------- #\n",
    "host = 'https://fdw.fews.net'\n",
    "parameters = {\n",
    "    'format': 'json',\n",
    "    'country': 'Kenya',\n",
    "    'product':['R011','R012','R013','R014','R015','R016','R017','R018','R019'],\n",
    "    'survey_type': 'crop:best',\n",
    "    'status':'Collected'\n",
    "}\n",
    "endpoint = '/api/cropproductionindicatorvalue/'\n",
    "response = requests.get(host + endpoint, params=parameters, proxies={})\n",
    "response.raise_for_status()\n",
    "df = pd.DataFrame.from_records(response.json())\n",
    "# ----------------------------------------------- #"
   ]
  },
  {
   "cell_type": "code",
   "execution_count": 4,
   "id": "5a862c8e-1124-46de-a4c8-046087557eb0",
   "metadata": {},
   "outputs": [
    {
     "name": "stdout",
     "output_type": "stream",
     "text": [
      "../data/crop_raw_data/adm_crop_data_raw_KE.csv is saved.\n"
     ]
    }
   ],
   "source": [
    "# Save data\n",
    "df_raw_out = '../data/crop_raw_data/adm_crop_data_raw_KE.csv'\n",
    "df.to_csv(df_raw_out); print(f'{df_raw_out} is saved.')"
   ]
  },
  {
   "cell_type": "code",
   "execution_count": 5,
   "id": "dbae5dfc-bf52-4ac4-a6cb-4742415eafb3",
   "metadata": {},
   "outputs": [
    {
     "name": "stdout",
     "output_type": "stream",
     "text": [
      "- Remove missing records ---------------------- #\n",
      "Orignial data points: 39,864\n",
      "13,498/13,498 \"Area Harvested\" points are retained.\n",
      "13,242/13,242 \"Quantity Produced\" points are retained.\n",
      "13,112/13,112 \"Yield\" points are retained.\n",
      "12/12 \"Area Planted\" points are retained.\n",
      "Current data points: 39,864\n",
      "\n"
     ]
    },
    {
     "ename": "AssertionError",
     "evalue": "",
     "output_type": "error",
     "traceback": [
      "\u001b[0;31m---------------------------------------------------------------------------\u001b[0m",
      "\u001b[0;31mAssertionError\u001b[0m                            Traceback (most recent call last)",
      "Cell \u001b[0;32mIn[5], line 12\u001b[0m\n\u001b[1;32m      8\u001b[0m df\u001b[38;5;241m.\u001b[39mloc[df[\u001b[38;5;124m'\u001b[39m\u001b[38;5;124mpopulation_group\u001b[39m\u001b[38;5;124m'\u001b[39m] \u001b[38;5;241m==\u001b[39m \u001b[38;5;124m'\u001b[39m\u001b[38;5;124m'\u001b[39m, \u001b[38;5;124m'\u001b[39m\u001b[38;5;124mpopulation_group\u001b[39m\u001b[38;5;124m'\u001b[39m] \u001b[38;5;241m=\u001b[39m \u001b[38;5;124m'\u001b[39m\u001b[38;5;124mnone\u001b[39m\u001b[38;5;124m'\u001b[39m\n\u001b[1;32m      9\u001b[0m \u001b[38;5;66;03m# ----------------------------------------------- #\u001b[39;00m\n\u001b[1;32m     10\u001b[0m \n\u001b[1;32m     11\u001b[0m \u001b[38;5;66;03m# FDW Production Data Inspection ---------------- #\u001b[39;00m\n\u001b[0;32m---> 12\u001b[0m df, df_raw \u001b[38;5;241m=\u001b[39m FDW_PD_Sweeper(df, area_priority\u001b[38;5;241m=\u001b[39m\u001b[38;5;124m'\u001b[39m\u001b[38;5;124mArea Planted\u001b[39m\u001b[38;5;124m'\u001b[39m)\n\u001b[1;32m     13\u001b[0m table_dict \u001b[38;5;241m=\u001b[39m FDW_PD_AvalTable(df, shape_all)\n\u001b[1;32m     14\u001b[0m \u001b[38;5;66;03m# ----------------------------------------------- #\u001b[39;00m\n\u001b[1;32m     15\u001b[0m \n\u001b[1;32m     16\u001b[0m \u001b[38;5;66;03m# FEWS NET Shapefile comparison ----------------- #\u001b[39;00m\n",
      "File \u001b[0;32m~/Documents/Code/Project/HarvestStat/HarvestStat/notebook/tools.py:319\u001b[0m, in \u001b[0;36mFDW_PD_Sweeper\u001b[0;34m(df, area_priority)\u001b[0m\n\u001b[1;32m    317\u001b[0m \u001b[38;5;66;03m# - Check duplicated data points\u001b[39;00m\n\u001b[1;32m    318\u001b[0m rows \u001b[38;5;241m=\u001b[39m [\u001b[38;5;124m'\u001b[39m\u001b[38;5;124mfnid\u001b[39m\u001b[38;5;124m'\u001b[39m,\u001b[38;5;124m'\u001b[39m\u001b[38;5;124mcrop_production_system\u001b[39m\u001b[38;5;124m'\u001b[39m,\u001b[38;5;124m'\u001b[39m\u001b[38;5;124mseason_year\u001b[39m\u001b[38;5;124m'\u001b[39m, \u001b[38;5;124m'\u001b[39m\u001b[38;5;124mproduct\u001b[39m\u001b[38;5;124m'\u001b[39m,\u001b[38;5;124m'\u001b[39m\u001b[38;5;124mindicator\u001b[39m\u001b[38;5;124m'\u001b[39m]\n\u001b[0;32m--> 319\u001b[0m \u001b[38;5;28;01massert\u001b[39;00m df[df[rows]\u001b[38;5;241m.\u001b[39mduplicated(keep\u001b[38;5;241m=\u001b[39m\u001b[38;5;28;01mFalse\u001b[39;00m)]\u001b[38;5;241m.\u001b[39mshape[\u001b[38;5;241m0\u001b[39m] \u001b[38;5;241m==\u001b[39m \u001b[38;5;241m0\u001b[39m\n\u001b[1;32m    320\u001b[0m \u001b[38;5;66;03m# ---------------------------------------------------- #\u001b[39;00m\n\u001b[1;32m    321\u001b[0m \n\u001b[1;32m    322\u001b[0m \u001b[38;5;66;03m# Minor changes -------------------------------------- #\u001b[39;00m\n\u001b[1;32m    323\u001b[0m \u001b[38;5;66;03m# planting year and month (based on FDW's \"season_date\"; \"planting_month\" might be manually changed later)\u001b[39;00m\n\u001b[1;32m    324\u001b[0m df[\u001b[38;5;124m'\u001b[39m\u001b[38;5;124mseason_date\u001b[39m\u001b[38;5;124m'\u001b[39m] \u001b[38;5;241m=\u001b[39m pd\u001b[38;5;241m.\u001b[39mto_datetime(pd\u001b[38;5;241m.\u001b[39mto_datetime(df[\u001b[38;5;124m'\u001b[39m\u001b[38;5;124mseason_date\u001b[39m\u001b[38;5;124m'\u001b[39m])\u001b[38;5;241m.\u001b[39mdt\u001b[38;5;241m.\u001b[39mstrftime(\u001b[38;5;124m'\u001b[39m\u001b[38;5;124m%\u001b[39m\u001b[38;5;124mY-\u001b[39m\u001b[38;5;124m%\u001b[39m\u001b[38;5;124mm-01\u001b[39m\u001b[38;5;124m'\u001b[39m))\n",
      "\u001b[0;31mAssertionError\u001b[0m: "
     ]
    }
   ],
   "source": [
    "# Manual Pre-processing before Sweeping --------- #\n",
    "# 1. Default setting \n",
    "# a) None-type crop production system\n",
    "df.loc[df['crop_production_system'].isna(), 'crop_production_system'] = 'none'\n",
    "df.loc[df['crop_production_system'] == '', 'crop_production_system'] = 'none'\n",
    "# b) None-type population group\n",
    "df.loc[df['population_group'].isna(), 'population_group'] = 'none'\n",
    "df.loc[df['population_group'] == '', 'population_group'] = 'none'\n",
    "# ----------------------------------------------- #\n",
    "\n",
    "# FDW Production Data Inspection ---------------- #\n",
    "df, df_raw = FDW_PD_Sweeper(df, area_priority='Area Planted')\n",
    "table_dict = FDW_PD_AvalTable(df, shape_all)\n",
    "# ----------------------------------------------- #\n",
    "\n",
    "# FEWS NET Shapefile comparison ----------------- #\n",
    "shape_used = pd.concat([KE_Admin2_1982, KE_Admin2_1989, KE_Admin1_2013], axis=0)\n",
    "PlotAdminShapes(shape_used, label=True)\n",
    "# ----------------------------------------------- #"
   ]
  },
  {
   "cell_type": "code",
   "execution_count": 22,
   "id": "16485889-deff-4d4a-94ae-84983ff7a2e1",
   "metadata": {},
   "outputs": [
    {
     "data": {
      "text/plain": [
       "array(['Coffee (unspecified)'], dtype=object)"
      ]
     },
     "execution_count": 22,
     "metadata": {},
     "output_type": "execute_result"
    }
   ],
   "source": [
    "pd.options.display.max_columns=100\n",
    "rows = ['fnid','crop_production_system','season_year', 'product','indicator']\n",
    "df.loc[(df[rows].duplicated(keep=False)),'product'].unique()"
   ]
  },
  {
   "cell_type": "markdown",
   "id": "c306101b-6d9e-45d3-af48-3cecb4033e29",
   "metadata": {
    "tags": []
   },
   "source": [
    "- Kenya crop seasonal calendar\n",
    "\n",
    "<img src=\"https://fews.net/sites/default/files/styles/large_width_880/public/2023-03/seasonal-calendar-kenya.png?itok=0Wob_hCK\" width=900>\n",
    "\n",
    "- FDW data consists of `KE1982A1`, `KE1982A2`, `KE1989A1`, `KE1989A2`, `KE2013A1`.\n",
    "\n",
    "| Year | Admin-1 | # units  | Admin-2  | # units |\n",
    "| :---: | :----:  | :----:   | :----:   | :---:  |\n",
    "| 1982 | **`KE1982A1`**| 8  | **`KE1982A2`** | 41|\n",
    "| 1989 | **`KE1989A1`**| 8  | **`KE1989A2`** | 47|\n",
    "| 2009 | KE2009A1| 8        | KE2009A2 | 47      |\n",
    "| 2013 | **`KE2013A1`**| 47 | KE2013A2 | 290     |\n",
    "\n",
    "- Comparison between admin boundaries.\n",
    "\n",
    "<img src=\"../figures/KE_admin_shapes.png\" width=900>\n",
    "\n",
    "- In 1989, 6 districts are divided and added.\n",
    "\n",
    "| 1982-1989 (original) |1989-2013 (changed)|1989-2013 (added)|\n",
    "| :---:| :---:|:---:|\n",
    "|Meru (KE1982A25020)    | Meru (KE1989A25017)    | Tharaka Nithi (KE1989A25018)|\n",
    "|Machakos (KE1982A25019)| Machakos(KE1989A25004) | Makueni       (KE1989A25005)|\n",
    "|Kericho  (KE1982A25424)| Kericho  (KE1989A25422)| Bomet         (KE1989A25420)|\n",
    "|Kissi    (KE1982A25319)| Kissi    (KE1989A25314)| Nyamira       (KE1989A25308)|\n",
    "|Homa Bay (KE1982A25318)| Homa Bay (KE1989A25313)| Migori        (KE1989A25316)|\n",
    "|Kakamega (KE1982A25512)| Kakamega (KE1989A25511)| Vihiga        (KE1989A25508)|\n",
    "\n",
    "- In 2013, Admin-2 became Admin-1 (no name changes).\n",
    "- **`KE2013A1`** is used to represent all admin-level 1 crop data.\n",
    "- Kenya has three crop seasons: `Annual harvest`, `Long rains harvest`, `Short rains harvest`.\n",
    "- Kenya has a single crop production system: `None`."
   ]
  },
  {
   "cell_type": "code",
   "execution_count": null,
   "id": "77264b46-2a4e-4dbc-adff-9b300b5e907c",
   "metadata": {},
   "outputs": [],
   "source": [
    "# Define the latest shapefile ------------------- #\n",
    "latest_level = 1\n",
    "shape_latest = KE_Admin1_2013.copy().to_crs('epsg:4326')\n",
    "# ----------------------------------------------- #\n",
    "\n",
    "# Validation of FNIDs and Names ----------------- #\n",
    "df = FDW_PD_ValidateFnidName(df, shape_used, shape_latest)\n",
    "df['season_name'] = df['season_name'].replace({'Annual harvest':'Annual', 'Long rains harvest':'Long', 'Short rains harvest':'Short'})\n",
    "# ----------------------------------------------- #\n",
    "\n",
    "# FDW Production Data Compiling ----------------- #\n",
    "area, prod = FDW_PD_Compiling(df, shape_used)\n",
    "area_all, prod_all = area.copy(), prod.copy()\n",
    "mdx_pss = area.columns.droplevel([0,1]).unique()\n",
    "# ----------------------------------------------- #"
   ]
  },
  {
   "cell_type": "code",
   "execution_count": null,
   "id": "59432da0-85a3-475a-a498-179ed0886374",
   "metadata": {},
   "outputs": [],
   "source": [
    "# Link admin boundaries ------------------------- #\n",
    "link_1982, over_1982 = FDW_PD_CreateAdminLink(KE_Admin2_1982, KE_Admin1_2013, 'ADMIN2', 'ADMIN1', prod, epsg)\n",
    "assert all(np.unique([v['method'] for k,v in link_1982.items()]) == 'PBR')\n",
    "link_1989, over_1989 = FDW_PD_CreateAdminLink(KE_Admin2_1989, KE_Admin1_2013, 'ADMIN2', 'ADMIN1', prod, epsg)\n",
    "assert all(np.unique([v['method'] for k,v in link_1989.items()]) == 'PBR')\n",
    "# Crop specific ratios\n",
    "link_ratio_1982 = FDW_PD_RatioAdminLink(link_1982, prod, over_1982, mdx_pss)\n",
    "link_ratio_1989 = FDW_PD_RatioAdminLink(link_1989, prod, over_1989, mdx_pss)\n",
    "# Merge link_ratio\n",
    "assert link_ratio_1982.keys() == link_ratio_1989.keys()\n",
    "link_merged = [link_ratio_1982, link_ratio_1989]\n",
    "fnids_new = list(link_merged[0].keys())\n",
    "link_ratio = dict()\n",
    "for fnid in fnids_new:\n",
    "    container = []\n",
    "    for link in link_merged:\n",
    "        container.append(link[fnid])\n",
    "    link_ratio[fnid] = pd.concat(container, axis=1)\n",
    "# Add current unit to link_ratio\n",
    "for fnid_new in link_ratio.keys():\n",
    "    link_ratio[fnid_new][fnid_new] = 1.0\n",
    "    link_ratio[fnid_new] = link_ratio[fnid_new].sort_index(axis=1, ascending=False)\n",
    "# Connect data with AdminLink\n",
    "area_new, prod_new = FDW_PD_ConnectAdminLink(link_ratio, area, prod, validation=False)\n",
    "# ----------------------------------------------- #"
   ]
  },
  {
   "cell_type": "code",
   "execution_count": null,
   "id": "8949c3fa-d491-41cd-9501-8990b84994b5",
   "metadata": {},
   "outputs": [],
   "source": [
    "# Manual correction ----------------------------- #\n",
    "crop_new = prod_new/area_new\n",
    "# - Remove \"Short\" season yield over 4 mt/ha\n",
    "rdx = crop_new.loc[:,pd.IndexSlice[:,:,'Maize Grain (White)','Short']] > 4\n",
    "crop_new[rdx] = np.nan\n",
    "# prod_new[rdx] = np.nan\n",
    "# ----------------------------------------------- #\n",
    "\n",
    "# Complete long format DataFrame ---------------- #\n",
    "df_area = area_new.T.stack().rename('value').reset_index()\n",
    "df_area['indicator'] = 'area'\n",
    "df_prod = prod_new.T.stack().rename('value').reset_index()\n",
    "df_prod['indicator'] = 'production'\n",
    "df_yield = crop_new.T.stack().rename('value').reset_index()\n",
    "df_yield['indicator'] = 'yield'\n",
    "stack = pd.concat([df_area, df_prod, df_yield], axis=0)\n",
    "# Add \"planting year\"\n",
    "cols = ['season_name','product','crop_production_system','planting_month','harvest_year','harvest_month','planting_year']\n",
    "season_table = df[cols].drop_duplicates()\n",
    "stack = stack.merge(season_table, on=cols[:-1])\n",
    "# Add country and admin names\n",
    "stack = stack.merge(df[['fnid','country','country_code','admin_1','admin_2']].drop_duplicates(), on='fnid', how='inner')\n",
    "names = [\n",
    "    'fnid','country','country_code','admin_1','admin_2','name',\n",
    "    'product','season_name','planting_year','planting_month','harvest_year','harvest_month',\n",
    "    'crop_production_system','indicator','value'\n",
    "]\n",
    "stack = stack[names]\n",
    "# ----------------------------------------------- #\n",
    "\n",
    "# Final Processing ------------------------------ #\n",
    "# Product name mapping\n",
    "stack = product_name_mapping(stack, list_except=None)\n",
    "# Calibration of crop calendar using External Season Calendar (ESC)\n",
    "esc = pd.read_csv('../data/crop_calendar/external_season_calendar.csv')\n",
    "stack, link_ratio = FDW_PD_CaliSeasonYear(stack, esc, link_ratio=None)\n",
    "# None admin names\n",
    "stack.loc[stack['admin_1'].isna(), 'admin_1'] = 'none'\n",
    "stack.loc[stack['admin_2'].isna(), 'admin_2'] = 'none'\n",
    "# ----------------------------------------------- #"
   ]
  },
  {
   "cell_type": "markdown",
   "id": "0d31a48e",
   "metadata": {},
   "source": [
    "# Postprocessing outlier removal"
   ]
  },
  {
   "cell_type": "code",
   "execution_count": null,
   "id": "52190992",
   "metadata": {},
   "outputs": [],
   "source": [
    "from matplotlib import pyplot as plt\n",
    "\n",
    "#define a QC flag field\n",
    "# 0 = no flag\n",
    "# 1 = outlier\n",
    "stack['QC_flag'] = 0\n",
    "\n",
    "\n",
    "outliers = [\n",
    "    ['KE2013A101','Maize','Short',1998],\n",
    "    ['KE2013A111','Maize','Annual',1988]\n",
    "]\n",
    "stack=stack.sort_values(by='harvest_year')\n",
    "\n",
    "#first plot, then flag the values (yield, production and harvested area)\n",
    "for iou in outliers:\n",
    "    plt.figure()\n",
    "    plt.plot(stack[(stack.fnid==iou[0])&(stack['product']==iou[1])&(stack.season_name==iou[2])&(stack.indicator=='yield')].harvest_year.values,\n",
    "            stack[(stack.fnid==iou[0])&(stack['product']==iou[1])&(stack.season_name==iou[2])&(stack.indicator=='yield')].value.values,'-o')\n",
    "    plt.plot(stack[(stack.fnid==iou[0])&(stack['product']==iou[1])&(stack.season_name==iou[2])&(stack.indicator=='yield')&(stack.harvest_year==iou[3])].harvest_year.values,\n",
    "            stack[(stack.fnid==iou[0])&(stack['product']==iou[1])&(stack.season_name==iou[2])&(stack.indicator=='yield')&(stack.harvest_year==iou[3])].value.values,'D',markersize=10)\n",
    "    plt.title('Outlier in FNID: '+iou[0]+'\\nfor '+iou[1]+' in the '+str(iou[3])+' '+iou[2]+' season')\n",
    "    plt.ylabel('tons/ha')\n",
    "    stack.loc[((stack.fnid==iou[0])&(stack['product']==iou[1])&(stack.season_name==iou[2])&(stack.harvest_year==iou[3])),'QC_flag']=1  "
   ]
  },
  {
   "cell_type": "code",
   "execution_count": null,
   "id": "8eb31ebe",
   "metadata": {},
   "outputs": [],
   "source": [
    "# Save data\n",
    "fn_out = '../data/crop/adm_crop_production_KE.csv'\n",
    "stack.to_csv(fn_out); print(f'{fn_out} is saved.')\n",
    "save_npz('../data/crop/adm_crop_production_KE_ratio.npz', link_ratio)"
   ]
  },
  {
   "cell_type": "markdown",
   "id": "47ce52b0-8ddd-40b8-a49e-b818b56e222a",
   "metadata": {},
   "source": [
    "# Visualization of production data"
   ]
  },
  {
   "cell_type": "code",
   "execution_count": null,
   "id": "2b6edb6f-0b08-4493-b707-902b4dec3564",
   "metadata": {},
   "outputs": [],
   "source": [
    "# Bar chart of national crop production\n",
    "country_iso, country_name = 'KE', 'Kenya'\n",
    "df = pd.read_csv('../data/crop/adm_crop_production_%s.csv' % country_iso, index_col=0)\n",
    "df = df[df['QC_flag'] == 0] # remove outliers\n",
    "df['year'] = df['harvest_year']\n",
    "year = [df['year'].min(), df['year'].max()]\n",
    "for season_name in ['Annual','Long','Short']:\n",
    "    footnote = 'National crop production of %s - %s' % (country_name, season_name)\n",
    "    fn_save = '../figures/%s_bar_natgrainprod_%s.png' % (country_iso, season_name)\n",
    "    sub = df[df['season_name'] == season_name]\n",
    "    PlotBarProduction(sub, year, footnote, fn_save)"
   ]
  },
  {
   "cell_type": "code",
   "execution_count": null,
   "id": "f6e42326",
   "metadata": {},
   "outputs": [],
   "source": [
    "# Lineplot of Production-Area-Yield time-series\n",
    "country_iso, country_name = 'KE', 'Kenya'\n",
    "df = pd.read_csv('../data/crop/adm_crop_production_%s.csv' % country_iso, index_col=0)\n",
    "df = df[df['QC_flag'] == 0] # remove outliers\n",
    "df['year'] = df['harvest_year']\n",
    "year = [df['year'].min(), df['year'].max()]\n",
    "product_season = [\n",
    "    ['Maize','Annual'],\n",
    "    ['Maize','Long'],\n",
    "    ['Maize','Short']\n",
    "]\n",
    "for product_name, season_name in product_season:\n",
    "    footnote = 'Time-series of %s - %s - %s' % (country_iso, product_name, season_name)\n",
    "    fn_save = '../figures/%s_line_pay_%s_%s.png' % (country_iso, product_name, season_name)\n",
    "    sub = df[(df['product'] == product_name) & (df['season_name'] == season_name)]\n",
    "    PlotLinePAY(sub, year, footnote)"
   ]
  }
 ],
 "metadata": {
  "kernelspec": {
   "display_name": "Python 3 (ipykernel)",
   "language": "python",
   "name": "python3"
  },
  "language_info": {
   "codemirror_mode": {
    "name": "ipython",
    "version": 3
   },
   "file_extension": ".py",
   "mimetype": "text/x-python",
   "name": "python",
   "nbconvert_exporter": "python",
   "pygments_lexer": "ipython3",
   "version": "3.12.2"
  }
 },
 "nbformat": 4,
 "nbformat_minor": 5
}
