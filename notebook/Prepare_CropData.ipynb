{
 "cells": [
  {
   "cell_type": "markdown",
   "id": "975373b3-d65d-4b92-bfbc-c85c6927bf2e",
   "metadata": {},
   "source": [
    "## Preparation for FDW Crop Production Data Profiling\n",
    "- [FEWS NET Data Warehouse (FDW)](https://fdw.fews.net/en/)\n",
    "- [FDW API Guide](https://fdw.fews.net/en/docs/api_reference/api_reference.html)\n",
    "- [FEWSNET Data Inventory](https://fdw.fews.net/dashboard/inventory/)\n",
    "- [FEWS NET CropProduction Explorer](https://fdw.fews.net/dashboard/crop-production/)\n",
    "\n",
    "Donghoon Lee (donghoonlee@ucsb.edu)</br>\n",
    "Revised at 2022.08.25"
   ]
  },
  {
   "cell_type": "markdown",
   "id": "1b74d048-e43e-4f12-82d5-1c3a0531aa4c",
   "metadata": {},
   "source": [
    "### Pre-installation\n",
    "We have many static shapefiles (downloaded from [FEWS NET Data Center](https://fews.net/fews-data/334)) and IIASA-IFPRI cropmask files that do not need to be in the GitHub repository.</br>\n",
    "Please download them using rsync service as below:\n",
    "```shell\n",
    "rsync -auzv --delete chc-data-out.chc.ucsb.edu::chc-out/people/dlee/gscd/data [GSCD home directory]\n",
    "```\n",
    "The above code will rsync https://data.chc.ucsb.edu/people/dlee/gscd/data/ to the GSCD home directory.</br>"
   ]
  },
  {
   "cell_type": "code",
   "execution_count": 1,
   "id": "b1fe7498-4fd2-4903-97eb-4ebd79cd84db",
   "metadata": {},
   "outputs": [],
   "source": [
    "import os, sys, json, time\n",
    "import shutil\n",
    "from itertools import product, compress, chain\n",
    "from functools import reduce\n",
    "import warnings\n",
    "warnings.simplefilter(action='ignore', category=FutureWarning)\n",
    "import requests\n",
    "import numpy as np\n",
    "import pandas as pd\n",
    "pd.set_option('mode.chained_assignment', None)\n",
    "import geopandas as gpd\n",
    "import plotly\n",
    "import plotly.graph_objects as go\n",
    "import plotly.express as px"
   ]
  },
  {
   "cell_type": "code",
   "execution_count": 2,
   "id": "d143abce-9c93-4eb4-a7ff-614dad28d3c3",
   "metadata": {},
   "outputs": [
    {
     "ename": "KeyboardInterrupt",
     "evalue": "",
     "output_type": "error",
     "traceback": [
      "\u001b[0;31m---------------------------------------------------------------------------\u001b[0m",
      "\u001b[0;31mKeyboardInterrupt\u001b[0m                         Traceback (most recent call last)",
      "Cell \u001b[0;32mIn[2], line 16\u001b[0m\n\u001b[1;32m      9\u001b[0m parameters \u001b[38;5;241m=\u001b[39m {\n\u001b[1;32m     10\u001b[0m     \u001b[38;5;124m'\u001b[39m\u001b[38;5;124mformat\u001b[39m\u001b[38;5;124m'\u001b[39m: \u001b[38;5;124m'\u001b[39m\u001b[38;5;124mjson\u001b[39m\u001b[38;5;124m'\u001b[39m,\n\u001b[1;32m     11\u001b[0m     \u001b[38;5;124m'\u001b[39m\u001b[38;5;124mproduct\u001b[39m\u001b[38;5;124m'\u001b[39m: \u001b[38;5;124m'\u001b[39m\u001b[38;5;124mR011\u001b[39m\u001b[38;5;124m'\u001b[39m,\n\u001b[1;32m     12\u001b[0m     \u001b[38;5;124m'\u001b[39m\u001b[38;5;124msurvey_type\u001b[39m\u001b[38;5;124m'\u001b[39m: \u001b[38;5;124m'\u001b[39m\u001b[38;5;124mcrop:best\u001b[39m\u001b[38;5;124m'\u001b[39m,\n\u001b[1;32m     13\u001b[0m     \u001b[38;5;124m'\u001b[39m\u001b[38;5;124mfields\u001b[39m\u001b[38;5;124m'\u001b[39m: \u001b[38;5;124m'\u001b[39m\u001b[38;5;124msimple\u001b[39m\u001b[38;5;124m'\u001b[39m\n\u001b[1;32m     14\u001b[0m }\n\u001b[1;32m     15\u001b[0m endpoint \u001b[38;5;241m=\u001b[39m \u001b[38;5;124m'\u001b[39m\u001b[38;5;124m/api/cropproductionfacts/\u001b[39m\u001b[38;5;124m'\u001b[39m\n\u001b[0;32m---> 16\u001b[0m response \u001b[38;5;241m=\u001b[39m \u001b[43mrequests\u001b[49m\u001b[38;5;241;43m.\u001b[39;49m\u001b[43mget\u001b[49m\u001b[43m(\u001b[49m\u001b[43mhost\u001b[49m\u001b[43m \u001b[49m\u001b[38;5;241;43m+\u001b[39;49m\u001b[43m \u001b[49m\u001b[43mendpoint\u001b[49m\u001b[43m,\u001b[49m\u001b[43m \u001b[49m\u001b[43mauth\u001b[49m\u001b[38;5;241;43m=\u001b[39;49m\u001b[43mauth\u001b[49m\u001b[43m,\u001b[49m\u001b[43m \u001b[49m\u001b[43mparams\u001b[49m\u001b[38;5;241;43m=\u001b[39;49m\u001b[43mparameters\u001b[49m\u001b[43m,\u001b[49m\u001b[43m \u001b[49m\u001b[43mproxies\u001b[49m\u001b[38;5;241;43m=\u001b[39;49m\u001b[43m{\u001b[49m\u001b[43m}\u001b[49m\u001b[43m)\u001b[49m\n\u001b[1;32m     17\u001b[0m response\u001b[38;5;241m.\u001b[39mraise_for_status()\n\u001b[1;32m     18\u001b[0m df \u001b[38;5;241m=\u001b[39m pd\u001b[38;5;241m.\u001b[39mDataFrame\u001b[38;5;241m.\u001b[39mfrom_records(response\u001b[38;5;241m.\u001b[39mjson())\n",
      "File \u001b[0;32m~/opt/anaconda3/lib/python3.8/site-packages/requests/api.py:73\u001b[0m, in \u001b[0;36mget\u001b[0;34m(url, params, **kwargs)\u001b[0m\n\u001b[1;32m     62\u001b[0m \u001b[38;5;28;01mdef\u001b[39;00m \u001b[38;5;21mget\u001b[39m(url, params\u001b[38;5;241m=\u001b[39m\u001b[38;5;28;01mNone\u001b[39;00m, \u001b[38;5;241m*\u001b[39m\u001b[38;5;241m*\u001b[39mkwargs):\n\u001b[1;32m     63\u001b[0m \u001b[38;5;250m    \u001b[39m\u001b[38;5;124mr\u001b[39m\u001b[38;5;124;03m\"\"\"Sends a GET request.\u001b[39;00m\n\u001b[1;32m     64\u001b[0m \n\u001b[1;32m     65\u001b[0m \u001b[38;5;124;03m    :param url: URL for the new :class:`Request` object.\u001b[39;00m\n\u001b[0;32m   (...)\u001b[0m\n\u001b[1;32m     70\u001b[0m \u001b[38;5;124;03m    :rtype: requests.Response\u001b[39;00m\n\u001b[1;32m     71\u001b[0m \u001b[38;5;124;03m    \"\"\"\u001b[39;00m\n\u001b[0;32m---> 73\u001b[0m     \u001b[38;5;28;01mreturn\u001b[39;00m \u001b[43mrequest\u001b[49m\u001b[43m(\u001b[49m\u001b[38;5;124;43m\"\u001b[39;49m\u001b[38;5;124;43mget\u001b[39;49m\u001b[38;5;124;43m\"\u001b[39;49m\u001b[43m,\u001b[49m\u001b[43m \u001b[49m\u001b[43murl\u001b[49m\u001b[43m,\u001b[49m\u001b[43m \u001b[49m\u001b[43mparams\u001b[49m\u001b[38;5;241;43m=\u001b[39;49m\u001b[43mparams\u001b[49m\u001b[43m,\u001b[49m\u001b[43m \u001b[49m\u001b[38;5;241;43m*\u001b[39;49m\u001b[38;5;241;43m*\u001b[39;49m\u001b[43mkwargs\u001b[49m\u001b[43m)\u001b[49m\n",
      "File \u001b[0;32m~/opt/anaconda3/lib/python3.8/site-packages/requests/api.py:59\u001b[0m, in \u001b[0;36mrequest\u001b[0;34m(method, url, **kwargs)\u001b[0m\n\u001b[1;32m     55\u001b[0m \u001b[38;5;66;03m# By using the 'with' statement we are sure the session is closed, thus we\u001b[39;00m\n\u001b[1;32m     56\u001b[0m \u001b[38;5;66;03m# avoid leaving sockets open which can trigger a ResourceWarning in some\u001b[39;00m\n\u001b[1;32m     57\u001b[0m \u001b[38;5;66;03m# cases, and look like a memory leak in others.\u001b[39;00m\n\u001b[1;32m     58\u001b[0m \u001b[38;5;28;01mwith\u001b[39;00m sessions\u001b[38;5;241m.\u001b[39mSession() \u001b[38;5;28;01mas\u001b[39;00m session:\n\u001b[0;32m---> 59\u001b[0m     \u001b[38;5;28;01mreturn\u001b[39;00m \u001b[43msession\u001b[49m\u001b[38;5;241;43m.\u001b[39;49m\u001b[43mrequest\u001b[49m\u001b[43m(\u001b[49m\u001b[43mmethod\u001b[49m\u001b[38;5;241;43m=\u001b[39;49m\u001b[43mmethod\u001b[49m\u001b[43m,\u001b[49m\u001b[43m \u001b[49m\u001b[43murl\u001b[49m\u001b[38;5;241;43m=\u001b[39;49m\u001b[43murl\u001b[49m\u001b[43m,\u001b[49m\u001b[43m \u001b[49m\u001b[38;5;241;43m*\u001b[39;49m\u001b[38;5;241;43m*\u001b[39;49m\u001b[43mkwargs\u001b[49m\u001b[43m)\u001b[49m\n",
      "File \u001b[0;32m~/opt/anaconda3/lib/python3.8/site-packages/requests/sessions.py:587\u001b[0m, in \u001b[0;36mSession.request\u001b[0;34m(self, method, url, params, data, headers, cookies, files, auth, timeout, allow_redirects, proxies, hooks, stream, verify, cert, json)\u001b[0m\n\u001b[1;32m    582\u001b[0m send_kwargs \u001b[38;5;241m=\u001b[39m {\n\u001b[1;32m    583\u001b[0m     \u001b[38;5;124m\"\u001b[39m\u001b[38;5;124mtimeout\u001b[39m\u001b[38;5;124m\"\u001b[39m: timeout,\n\u001b[1;32m    584\u001b[0m     \u001b[38;5;124m\"\u001b[39m\u001b[38;5;124mallow_redirects\u001b[39m\u001b[38;5;124m\"\u001b[39m: allow_redirects,\n\u001b[1;32m    585\u001b[0m }\n\u001b[1;32m    586\u001b[0m send_kwargs\u001b[38;5;241m.\u001b[39mupdate(settings)\n\u001b[0;32m--> 587\u001b[0m resp \u001b[38;5;241m=\u001b[39m \u001b[38;5;28;43mself\u001b[39;49m\u001b[38;5;241;43m.\u001b[39;49m\u001b[43msend\u001b[49m\u001b[43m(\u001b[49m\u001b[43mprep\u001b[49m\u001b[43m,\u001b[49m\u001b[43m \u001b[49m\u001b[38;5;241;43m*\u001b[39;49m\u001b[38;5;241;43m*\u001b[39;49m\u001b[43msend_kwargs\u001b[49m\u001b[43m)\u001b[49m\n\u001b[1;32m    589\u001b[0m \u001b[38;5;28;01mreturn\u001b[39;00m resp\n",
      "File \u001b[0;32m~/opt/anaconda3/lib/python3.8/site-packages/requests/sessions.py:701\u001b[0m, in \u001b[0;36mSession.send\u001b[0;34m(self, request, **kwargs)\u001b[0m\n\u001b[1;32m    698\u001b[0m start \u001b[38;5;241m=\u001b[39m preferred_clock()\n\u001b[1;32m    700\u001b[0m \u001b[38;5;66;03m# Send the request\u001b[39;00m\n\u001b[0;32m--> 701\u001b[0m r \u001b[38;5;241m=\u001b[39m \u001b[43madapter\u001b[49m\u001b[38;5;241;43m.\u001b[39;49m\u001b[43msend\u001b[49m\u001b[43m(\u001b[49m\u001b[43mrequest\u001b[49m\u001b[43m,\u001b[49m\u001b[43m \u001b[49m\u001b[38;5;241;43m*\u001b[39;49m\u001b[38;5;241;43m*\u001b[39;49m\u001b[43mkwargs\u001b[49m\u001b[43m)\u001b[49m\n\u001b[1;32m    703\u001b[0m \u001b[38;5;66;03m# Total elapsed time of the request (approximately)\u001b[39;00m\n\u001b[1;32m    704\u001b[0m elapsed \u001b[38;5;241m=\u001b[39m preferred_clock() \u001b[38;5;241m-\u001b[39m start\n",
      "File \u001b[0;32m~/opt/anaconda3/lib/python3.8/site-packages/requests/adapters.py:487\u001b[0m, in \u001b[0;36mHTTPAdapter.send\u001b[0;34m(self, request, stream, timeout, verify, cert, proxies)\u001b[0m\n\u001b[1;32m    484\u001b[0m     timeout \u001b[38;5;241m=\u001b[39m TimeoutSauce(connect\u001b[38;5;241m=\u001b[39mtimeout, read\u001b[38;5;241m=\u001b[39mtimeout)\n\u001b[1;32m    486\u001b[0m \u001b[38;5;28;01mtry\u001b[39;00m:\n\u001b[0;32m--> 487\u001b[0m     resp \u001b[38;5;241m=\u001b[39m \u001b[43mconn\u001b[49m\u001b[38;5;241;43m.\u001b[39;49m\u001b[43murlopen\u001b[49m\u001b[43m(\u001b[49m\n\u001b[1;32m    488\u001b[0m \u001b[43m        \u001b[49m\u001b[43mmethod\u001b[49m\u001b[38;5;241;43m=\u001b[39;49m\u001b[43mrequest\u001b[49m\u001b[38;5;241;43m.\u001b[39;49m\u001b[43mmethod\u001b[49m\u001b[43m,\u001b[49m\n\u001b[1;32m    489\u001b[0m \u001b[43m        \u001b[49m\u001b[43murl\u001b[49m\u001b[38;5;241;43m=\u001b[39;49m\u001b[43murl\u001b[49m\u001b[43m,\u001b[49m\n\u001b[1;32m    490\u001b[0m \u001b[43m        \u001b[49m\u001b[43mbody\u001b[49m\u001b[38;5;241;43m=\u001b[39;49m\u001b[43mrequest\u001b[49m\u001b[38;5;241;43m.\u001b[39;49m\u001b[43mbody\u001b[49m\u001b[43m,\u001b[49m\n\u001b[1;32m    491\u001b[0m \u001b[43m        \u001b[49m\u001b[43mheaders\u001b[49m\u001b[38;5;241;43m=\u001b[39;49m\u001b[43mrequest\u001b[49m\u001b[38;5;241;43m.\u001b[39;49m\u001b[43mheaders\u001b[49m\u001b[43m,\u001b[49m\n\u001b[1;32m    492\u001b[0m \u001b[43m        \u001b[49m\u001b[43mredirect\u001b[49m\u001b[38;5;241;43m=\u001b[39;49m\u001b[38;5;28;43;01mFalse\u001b[39;49;00m\u001b[43m,\u001b[49m\n\u001b[1;32m    493\u001b[0m \u001b[43m        \u001b[49m\u001b[43massert_same_host\u001b[49m\u001b[38;5;241;43m=\u001b[39;49m\u001b[38;5;28;43;01mFalse\u001b[39;49;00m\u001b[43m,\u001b[49m\n\u001b[1;32m    494\u001b[0m \u001b[43m        \u001b[49m\u001b[43mpreload_content\u001b[49m\u001b[38;5;241;43m=\u001b[39;49m\u001b[38;5;28;43;01mFalse\u001b[39;49;00m\u001b[43m,\u001b[49m\n\u001b[1;32m    495\u001b[0m \u001b[43m        \u001b[49m\u001b[43mdecode_content\u001b[49m\u001b[38;5;241;43m=\u001b[39;49m\u001b[38;5;28;43;01mFalse\u001b[39;49;00m\u001b[43m,\u001b[49m\n\u001b[1;32m    496\u001b[0m \u001b[43m        \u001b[49m\u001b[43mretries\u001b[49m\u001b[38;5;241;43m=\u001b[39;49m\u001b[38;5;28;43mself\u001b[39;49m\u001b[38;5;241;43m.\u001b[39;49m\u001b[43mmax_retries\u001b[49m\u001b[43m,\u001b[49m\n\u001b[1;32m    497\u001b[0m \u001b[43m        \u001b[49m\u001b[43mtimeout\u001b[49m\u001b[38;5;241;43m=\u001b[39;49m\u001b[43mtimeout\u001b[49m\u001b[43m,\u001b[49m\n\u001b[1;32m    498\u001b[0m \u001b[43m        \u001b[49m\u001b[43mchunked\u001b[49m\u001b[38;5;241;43m=\u001b[39;49m\u001b[43mchunked\u001b[49m\u001b[43m,\u001b[49m\n\u001b[1;32m    499\u001b[0m \u001b[43m    \u001b[49m\u001b[43m)\u001b[49m\n\u001b[1;32m    501\u001b[0m \u001b[38;5;28;01mexcept\u001b[39;00m (ProtocolError, \u001b[38;5;167;01mOSError\u001b[39;00m) \u001b[38;5;28;01mas\u001b[39;00m err:\n\u001b[1;32m    502\u001b[0m     \u001b[38;5;28;01mraise\u001b[39;00m \u001b[38;5;167;01mConnectionError\u001b[39;00m(err, request\u001b[38;5;241m=\u001b[39mrequest)\n",
      "File \u001b[0;32m~/opt/anaconda3/lib/python3.8/site-packages/urllib3/connectionpool.py:703\u001b[0m, in \u001b[0;36mHTTPConnectionPool.urlopen\u001b[0;34m(self, method, url, body, headers, retries, redirect, assert_same_host, timeout, pool_timeout, release_conn, chunked, body_pos, **response_kw)\u001b[0m\n\u001b[1;32m    700\u001b[0m     \u001b[38;5;28mself\u001b[39m\u001b[38;5;241m.\u001b[39m_prepare_proxy(conn)\n\u001b[1;32m    702\u001b[0m \u001b[38;5;66;03m# Make the request on the httplib connection object.\u001b[39;00m\n\u001b[0;32m--> 703\u001b[0m httplib_response \u001b[38;5;241m=\u001b[39m \u001b[38;5;28;43mself\u001b[39;49m\u001b[38;5;241;43m.\u001b[39;49m\u001b[43m_make_request\u001b[49m\u001b[43m(\u001b[49m\n\u001b[1;32m    704\u001b[0m \u001b[43m    \u001b[49m\u001b[43mconn\u001b[49m\u001b[43m,\u001b[49m\n\u001b[1;32m    705\u001b[0m \u001b[43m    \u001b[49m\u001b[43mmethod\u001b[49m\u001b[43m,\u001b[49m\n\u001b[1;32m    706\u001b[0m \u001b[43m    \u001b[49m\u001b[43murl\u001b[49m\u001b[43m,\u001b[49m\n\u001b[1;32m    707\u001b[0m \u001b[43m    \u001b[49m\u001b[43mtimeout\u001b[49m\u001b[38;5;241;43m=\u001b[39;49m\u001b[43mtimeout_obj\u001b[49m\u001b[43m,\u001b[49m\n\u001b[1;32m    708\u001b[0m \u001b[43m    \u001b[49m\u001b[43mbody\u001b[49m\u001b[38;5;241;43m=\u001b[39;49m\u001b[43mbody\u001b[49m\u001b[43m,\u001b[49m\n\u001b[1;32m    709\u001b[0m \u001b[43m    \u001b[49m\u001b[43mheaders\u001b[49m\u001b[38;5;241;43m=\u001b[39;49m\u001b[43mheaders\u001b[49m\u001b[43m,\u001b[49m\n\u001b[1;32m    710\u001b[0m \u001b[43m    \u001b[49m\u001b[43mchunked\u001b[49m\u001b[38;5;241;43m=\u001b[39;49m\u001b[43mchunked\u001b[49m\u001b[43m,\u001b[49m\n\u001b[1;32m    711\u001b[0m \u001b[43m\u001b[49m\u001b[43m)\u001b[49m\n\u001b[1;32m    713\u001b[0m \u001b[38;5;66;03m# If we're going to release the connection in ``finally:``, then\u001b[39;00m\n\u001b[1;32m    714\u001b[0m \u001b[38;5;66;03m# the response doesn't need to know about the connection. Otherwise\u001b[39;00m\n\u001b[1;32m    715\u001b[0m \u001b[38;5;66;03m# it will also try to release it and we'll have a double-release\u001b[39;00m\n\u001b[1;32m    716\u001b[0m \u001b[38;5;66;03m# mess.\u001b[39;00m\n\u001b[1;32m    717\u001b[0m response_conn \u001b[38;5;241m=\u001b[39m conn \u001b[38;5;28;01mif\u001b[39;00m \u001b[38;5;129;01mnot\u001b[39;00m release_conn \u001b[38;5;28;01melse\u001b[39;00m \u001b[38;5;28;01mNone\u001b[39;00m\n",
      "File \u001b[0;32m~/opt/anaconda3/lib/python3.8/site-packages/urllib3/connectionpool.py:449\u001b[0m, in \u001b[0;36mHTTPConnectionPool._make_request\u001b[0;34m(self, conn, method, url, timeout, chunked, **httplib_request_kw)\u001b[0m\n\u001b[1;32m    444\u001b[0m             httplib_response \u001b[38;5;241m=\u001b[39m conn\u001b[38;5;241m.\u001b[39mgetresponse()\n\u001b[1;32m    445\u001b[0m         \u001b[38;5;28;01mexcept\u001b[39;00m \u001b[38;5;167;01mBaseException\u001b[39;00m \u001b[38;5;28;01mas\u001b[39;00m e:\n\u001b[1;32m    446\u001b[0m             \u001b[38;5;66;03m# Remove the TypeError from the exception chain in\u001b[39;00m\n\u001b[1;32m    447\u001b[0m             \u001b[38;5;66;03m# Python 3 (including for exceptions like SystemExit).\u001b[39;00m\n\u001b[1;32m    448\u001b[0m             \u001b[38;5;66;03m# Otherwise it looks like a bug in the code.\u001b[39;00m\n\u001b[0;32m--> 449\u001b[0m             \u001b[43msix\u001b[49m\u001b[38;5;241;43m.\u001b[39;49m\u001b[43mraise_from\u001b[49m\u001b[43m(\u001b[49m\u001b[43me\u001b[49m\u001b[43m,\u001b[49m\u001b[43m \u001b[49m\u001b[38;5;28;43;01mNone\u001b[39;49;00m\u001b[43m)\u001b[49m\n\u001b[1;32m    450\u001b[0m \u001b[38;5;28;01mexcept\u001b[39;00m (SocketTimeout, BaseSSLError, SocketError) \u001b[38;5;28;01mas\u001b[39;00m e:\n\u001b[1;32m    451\u001b[0m     \u001b[38;5;28mself\u001b[39m\u001b[38;5;241m.\u001b[39m_raise_timeout(err\u001b[38;5;241m=\u001b[39me, url\u001b[38;5;241m=\u001b[39murl, timeout_value\u001b[38;5;241m=\u001b[39mread_timeout)\n",
      "File \u001b[0;32m<string>:3\u001b[0m, in \u001b[0;36mraise_from\u001b[0;34m(value, from_value)\u001b[0m\n",
      "File \u001b[0;32m~/opt/anaconda3/lib/python3.8/site-packages/urllib3/connectionpool.py:444\u001b[0m, in \u001b[0;36mHTTPConnectionPool._make_request\u001b[0;34m(self, conn, method, url, timeout, chunked, **httplib_request_kw)\u001b[0m\n\u001b[1;32m    441\u001b[0m \u001b[38;5;28;01mexcept\u001b[39;00m \u001b[38;5;167;01mTypeError\u001b[39;00m:\n\u001b[1;32m    442\u001b[0m     \u001b[38;5;66;03m# Python 3\u001b[39;00m\n\u001b[1;32m    443\u001b[0m     \u001b[38;5;28;01mtry\u001b[39;00m:\n\u001b[0;32m--> 444\u001b[0m         httplib_response \u001b[38;5;241m=\u001b[39m \u001b[43mconn\u001b[49m\u001b[38;5;241;43m.\u001b[39;49m\u001b[43mgetresponse\u001b[49m\u001b[43m(\u001b[49m\u001b[43m)\u001b[49m\n\u001b[1;32m    445\u001b[0m     \u001b[38;5;28;01mexcept\u001b[39;00m \u001b[38;5;167;01mBaseException\u001b[39;00m \u001b[38;5;28;01mas\u001b[39;00m e:\n\u001b[1;32m    446\u001b[0m         \u001b[38;5;66;03m# Remove the TypeError from the exception chain in\u001b[39;00m\n\u001b[1;32m    447\u001b[0m         \u001b[38;5;66;03m# Python 3 (including for exceptions like SystemExit).\u001b[39;00m\n\u001b[1;32m    448\u001b[0m         \u001b[38;5;66;03m# Otherwise it looks like a bug in the code.\u001b[39;00m\n\u001b[1;32m    449\u001b[0m         six\u001b[38;5;241m.\u001b[39mraise_from(e, \u001b[38;5;28;01mNone\u001b[39;00m)\n",
      "File \u001b[0;32m~/opt/anaconda3/lib/python3.8/http/client.py:1348\u001b[0m, in \u001b[0;36mHTTPConnection.getresponse\u001b[0;34m(self)\u001b[0m\n\u001b[1;32m   1346\u001b[0m \u001b[38;5;28;01mtry\u001b[39;00m:\n\u001b[1;32m   1347\u001b[0m     \u001b[38;5;28;01mtry\u001b[39;00m:\n\u001b[0;32m-> 1348\u001b[0m         \u001b[43mresponse\u001b[49m\u001b[38;5;241;43m.\u001b[39;49m\u001b[43mbegin\u001b[49m\u001b[43m(\u001b[49m\u001b[43m)\u001b[49m\n\u001b[1;32m   1349\u001b[0m     \u001b[38;5;28;01mexcept\u001b[39;00m \u001b[38;5;167;01mConnectionError\u001b[39;00m:\n\u001b[1;32m   1350\u001b[0m         \u001b[38;5;28mself\u001b[39m\u001b[38;5;241m.\u001b[39mclose()\n",
      "File \u001b[0;32m~/opt/anaconda3/lib/python3.8/http/client.py:316\u001b[0m, in \u001b[0;36mHTTPResponse.begin\u001b[0;34m(self)\u001b[0m\n\u001b[1;32m    314\u001b[0m \u001b[38;5;66;03m# read until we get a non-100 response\u001b[39;00m\n\u001b[1;32m    315\u001b[0m \u001b[38;5;28;01mwhile\u001b[39;00m \u001b[38;5;28;01mTrue\u001b[39;00m:\n\u001b[0;32m--> 316\u001b[0m     version, status, reason \u001b[38;5;241m=\u001b[39m \u001b[38;5;28;43mself\u001b[39;49m\u001b[38;5;241;43m.\u001b[39;49m\u001b[43m_read_status\u001b[49m\u001b[43m(\u001b[49m\u001b[43m)\u001b[49m\n\u001b[1;32m    317\u001b[0m     \u001b[38;5;28;01mif\u001b[39;00m status \u001b[38;5;241m!=\u001b[39m CONTINUE:\n\u001b[1;32m    318\u001b[0m         \u001b[38;5;28;01mbreak\u001b[39;00m\n",
      "File \u001b[0;32m~/opt/anaconda3/lib/python3.8/http/client.py:277\u001b[0m, in \u001b[0;36mHTTPResponse._read_status\u001b[0;34m(self)\u001b[0m\n\u001b[1;32m    276\u001b[0m \u001b[38;5;28;01mdef\u001b[39;00m \u001b[38;5;21m_read_status\u001b[39m(\u001b[38;5;28mself\u001b[39m):\n\u001b[0;32m--> 277\u001b[0m     line \u001b[38;5;241m=\u001b[39m \u001b[38;5;28mstr\u001b[39m(\u001b[38;5;28;43mself\u001b[39;49m\u001b[38;5;241;43m.\u001b[39;49m\u001b[43mfp\u001b[49m\u001b[38;5;241;43m.\u001b[39;49m\u001b[43mreadline\u001b[49m\u001b[43m(\u001b[49m\u001b[43m_MAXLINE\u001b[49m\u001b[43m \u001b[49m\u001b[38;5;241;43m+\u001b[39;49m\u001b[43m \u001b[49m\u001b[38;5;241;43m1\u001b[39;49m\u001b[43m)\u001b[49m, \u001b[38;5;124m\"\u001b[39m\u001b[38;5;124miso-8859-1\u001b[39m\u001b[38;5;124m\"\u001b[39m)\n\u001b[1;32m    278\u001b[0m     \u001b[38;5;28;01mif\u001b[39;00m \u001b[38;5;28mlen\u001b[39m(line) \u001b[38;5;241m>\u001b[39m _MAXLINE:\n\u001b[1;32m    279\u001b[0m         \u001b[38;5;28;01mraise\u001b[39;00m LineTooLong(\u001b[38;5;124m\"\u001b[39m\u001b[38;5;124mstatus line\u001b[39m\u001b[38;5;124m\"\u001b[39m)\n",
      "File \u001b[0;32m~/opt/anaconda3/lib/python3.8/socket.py:669\u001b[0m, in \u001b[0;36mSocketIO.readinto\u001b[0;34m(self, b)\u001b[0m\n\u001b[1;32m    667\u001b[0m \u001b[38;5;28;01mwhile\u001b[39;00m \u001b[38;5;28;01mTrue\u001b[39;00m:\n\u001b[1;32m    668\u001b[0m     \u001b[38;5;28;01mtry\u001b[39;00m:\n\u001b[0;32m--> 669\u001b[0m         \u001b[38;5;28;01mreturn\u001b[39;00m \u001b[38;5;28;43mself\u001b[39;49m\u001b[38;5;241;43m.\u001b[39;49m\u001b[43m_sock\u001b[49m\u001b[38;5;241;43m.\u001b[39;49m\u001b[43mrecv_into\u001b[49m\u001b[43m(\u001b[49m\u001b[43mb\u001b[49m\u001b[43m)\u001b[49m\n\u001b[1;32m    670\u001b[0m     \u001b[38;5;28;01mexcept\u001b[39;00m timeout:\n\u001b[1;32m    671\u001b[0m         \u001b[38;5;28mself\u001b[39m\u001b[38;5;241m.\u001b[39m_timeout_occurred \u001b[38;5;241m=\u001b[39m \u001b[38;5;28;01mTrue\u001b[39;00m\n",
      "File \u001b[0;32m~/opt/anaconda3/lib/python3.8/ssl.py:1241\u001b[0m, in \u001b[0;36mSSLSocket.recv_into\u001b[0;34m(self, buffer, nbytes, flags)\u001b[0m\n\u001b[1;32m   1237\u001b[0m     \u001b[38;5;28;01mif\u001b[39;00m flags \u001b[38;5;241m!=\u001b[39m \u001b[38;5;241m0\u001b[39m:\n\u001b[1;32m   1238\u001b[0m         \u001b[38;5;28;01mraise\u001b[39;00m \u001b[38;5;167;01mValueError\u001b[39;00m(\n\u001b[1;32m   1239\u001b[0m           \u001b[38;5;124m\"\u001b[39m\u001b[38;5;124mnon-zero flags not allowed in calls to recv_into() on \u001b[39m\u001b[38;5;132;01m%s\u001b[39;00m\u001b[38;5;124m\"\u001b[39m \u001b[38;5;241m%\u001b[39m\n\u001b[1;32m   1240\u001b[0m           \u001b[38;5;28mself\u001b[39m\u001b[38;5;241m.\u001b[39m\u001b[38;5;18m__class__\u001b[39m)\n\u001b[0;32m-> 1241\u001b[0m     \u001b[38;5;28;01mreturn\u001b[39;00m \u001b[38;5;28;43mself\u001b[39;49m\u001b[38;5;241;43m.\u001b[39;49m\u001b[43mread\u001b[49m\u001b[43m(\u001b[49m\u001b[43mnbytes\u001b[49m\u001b[43m,\u001b[49m\u001b[43m \u001b[49m\u001b[43mbuffer\u001b[49m\u001b[43m)\u001b[49m\n\u001b[1;32m   1242\u001b[0m \u001b[38;5;28;01melse\u001b[39;00m:\n\u001b[1;32m   1243\u001b[0m     \u001b[38;5;28;01mreturn\u001b[39;00m \u001b[38;5;28msuper\u001b[39m()\u001b[38;5;241m.\u001b[39mrecv_into(buffer, nbytes, flags)\n",
      "File \u001b[0;32m~/opt/anaconda3/lib/python3.8/ssl.py:1099\u001b[0m, in \u001b[0;36mSSLSocket.read\u001b[0;34m(self, len, buffer)\u001b[0m\n\u001b[1;32m   1097\u001b[0m \u001b[38;5;28;01mtry\u001b[39;00m:\n\u001b[1;32m   1098\u001b[0m     \u001b[38;5;28;01mif\u001b[39;00m buffer \u001b[38;5;129;01mis\u001b[39;00m \u001b[38;5;129;01mnot\u001b[39;00m \u001b[38;5;28;01mNone\u001b[39;00m:\n\u001b[0;32m-> 1099\u001b[0m         \u001b[38;5;28;01mreturn\u001b[39;00m \u001b[38;5;28;43mself\u001b[39;49m\u001b[38;5;241;43m.\u001b[39;49m\u001b[43m_sslobj\u001b[49m\u001b[38;5;241;43m.\u001b[39;49m\u001b[43mread\u001b[49m\u001b[43m(\u001b[49m\u001b[38;5;28;43mlen\u001b[39;49m\u001b[43m,\u001b[49m\u001b[43m \u001b[49m\u001b[43mbuffer\u001b[49m\u001b[43m)\u001b[49m\n\u001b[1;32m   1100\u001b[0m     \u001b[38;5;28;01melse\u001b[39;00m:\n\u001b[1;32m   1101\u001b[0m         \u001b[38;5;28;01mreturn\u001b[39;00m \u001b[38;5;28mself\u001b[39m\u001b[38;5;241m.\u001b[39m_sslobj\u001b[38;5;241m.\u001b[39mread(\u001b[38;5;28mlen\u001b[39m)\n",
      "\u001b[0;31mKeyboardInterrupt\u001b[0m: "
     ]
    }
   ],
   "source": [
    "stime = time.time()\n",
    "\n",
    "# Retrieve all grain data using API\n",
    "host = 'https://fdw.fews.net'\n",
    "auth = tuple(json.loads(open('token.json', \"r\").read()))\n",
    "parameters = {\n",
    "    'format': 'json',\n",
    "    'product': 'R011',\n",
    "    'survey_type': 'crop:best',\n",
    "    'fields': 'simple'\n",
    "}\n",
    "endpoint = '/api/cropproductionfacts/'\n",
    "response = requests.get(host + endpoint, auth=auth, params=parameters, proxies={})\n",
    "response.raise_for_status()\n",
    "df = pd.DataFrame.from_records(response.json())\n",
    "\n",
    "print('took %ds.' % (time.time() - stime))"
   ]
  },
  {
   "cell_type": "markdown",
   "id": "61a98b4b-0c6c-4b11-9739-0b6119dd9daa",
   "metadata": {},
   "source": [
    "### 1. Central Product Classification (CPC) Version 2.1 (CPCV2) code - Grain products\n",
    "- UN's CPC Version 2.1 document can be found at [here](https://digitallibrary.un.org/record/3900378?ln=en), [table](http://datalab.review.fao.org/datalab/caliper/web/classification-page/39), [pdf](https://unstats.un.org/unsd/classifications/unsdclassifications/cpcv21.pdf).\n",
    "- code/broader category\n",
    "    - 0: Agriculture, forestry and fishery products\n",
    "    - 01: Products of agriculture, horticulture and market gardening\n",
    "    - 011: Cereals\n",
    "    - 0111: Wheat\n",
    "    - 0112: Maize\n",
    "    - 0113: Rice\n",
    "    - 0114: Sorghum\n",
    "    - 0115: Barley\n",
    "    - 0116: Rye\n",
    "    - 0117: Oats\n",
    "    - 0118: Millet\n",
    "    - 0119: Other cereals"
   ]
  },
  {
   "cell_type": "code",
   "execution_count": null,
   "id": "d0c058fa-9fe9-421c-9f5c-6536e8fd0559",
   "metadata": {
    "tags": []
   },
   "outputs": [],
   "source": [
    "# Create a grain_code table\n",
    "cpcv_category_name = {\n",
    "    '111': 'Wheat', \n",
    "    '112': 'Maize', \n",
    "    '113': 'Rice', \n",
    "    '114': 'Sorghum', \n",
    "    '115': 'Barley', \n",
    "    '116': 'Rye', \n",
    "    '117': 'Oats', \n",
    "    '118': 'Millet', \n",
    "}\n",
    "grain_code = df[['cpcv2', 'cpcv2_description', 'product']].drop_duplicates().sort_values('cpcv2').reset_index(drop=True)\n",
    "grain_code['cpcv2_category'] = grain_code['cpcv2'].apply(lambda x: x[2:5])\n",
    "grain_code['product_category'] = grain_code['cpcv2_category'].replace(cpcv_category_name)\n",
    "grain_code.loc[grain_code['cpcv2'] == 'R01190AA', 'product_category'] = 'Teff'\n",
    "grain_code.loc[grain_code['cpcv2'] == 'R01190AB', 'product_category'] = 'Fonio'\n",
    "grain_code.loc[grain_code['cpcv2'] == 'R01190XX', 'product_category'] = 'Mixed'\n",
    "fn_out = './data/crop/grain_cpcv2_code.hdf'\n",
    "grain_code.to_hdf(fn_out, 'df')\n",
    "print('%s is saved.' % fn_out)\n",
    "grain_code"
   ]
  },
  {
   "cell_type": "markdown",
   "id": "7db70acc-2ce3-4042-b3a9-48c50c921378",
   "metadata": {},
   "source": [
    "### 2. African countries where FDW grain data is available"
   ]
  },
  {
   "cell_type": "code",
   "execution_count": null,
   "id": "425b964f-a7dd-4b1e-af2e-c0f9fcd85ec9",
   "metadata": {},
   "outputs": [],
   "source": [
    "sub = df[df['status'] == 'Collected']\n",
    "sub.pivot_table(index='country',columns='indicator',values='value',aggfunc=len,fill_value=0)"
   ]
  },
  {
   "cell_type": "code",
   "execution_count": null,
   "id": "326b7c67-309c-4fa7-a2ea-0595c0362398",
   "metadata": {
    "tags": []
   },
   "outputs": [],
   "source": [
    "# Comparison with a world shapefile\n",
    "country_fdw = df['country'].unique()\n",
    "world = gpd.read_file(gpd.datasets.get_path('naturalearth_lowres'))\n",
    "lims = world[world.continent == 'Africa'].total_bounds[[0,2,1,3]]\n",
    "world['name'] = world['name'].replace({\n",
    "    'S. Sudan': 'South Sudan',\n",
    "    'Tanzania': 'Tanzania, United Republic of',\n",
    "    'Central African Rep.': 'Central African Republic',\n",
    "    'Somaliland': 'Somalia',\n",
    "    'Dem. Rep. Congo': 'Congo, The Democratic Republic of the'\n",
    "})\n",
    "world = world.dissolve(by='name',as_index=False)\n",
    "\n",
    "# Select African countries\n",
    "country = world.loc[world['name'].isin(country_fdw)]\n",
    "country_africa = country[country['continent'] == 'Africa']\n",
    "num_country_africa = country_africa.shape[0]\n",
    "print('FDW grain data exists in %d African countries.' % num_country_africa)\n",
    "world['fdw_data'] = np.nan\n",
    "world.loc[world.name.isin(country_africa['name']), 'fdw_data'] = 1\n",
    "geojson = json.loads(world[['name','geometry']].to_json())\n",
    "assert world.name.isin(country_fdw).sum() == len(country_fdw)\n",
    "\n",
    "# Mapping\n",
    "fig = go.Figure(data=go.Choropleth(\n",
    "    locations = world.name,\n",
    "    z = world.fdw_data,\n",
    "    geojson=geojson,\n",
    "    featureidkey='properties.name',\n",
    "    marker_line_width=1,\n",
    "    marker_line_color='black',zmin=0, zmax=1,\n",
    "    colorbar = None,\n",
    "))\n",
    "fig.update_traces(showscale=False)\n",
    "fig.update_geos(visible=False, resolution=50,\n",
    "                showcountries=True, countrycolor=\"grey\",\n",
    "                lonaxis_range=lims[:2],\n",
    "                lataxis_range=lims[2:4],\n",
    "                showframe=False,\n",
    "               )\n",
    "fig.update_layout(\n",
    "    width=600, height=600,\n",
    "    margin={\"r\":0,\"t\":0,\"l\":0,\"b\":20},\n",
    "    font_size=14,\n",
    "    dragmode=False\n",
    ")\n",
    "fig.add_annotation(\n",
    "    xref='paper',yref='paper',\n",
    "    x=0, y= -0.03,\n",
    "    text='*%d African countries where FDW grain data is available' % num_country_africa,\n",
    "    align=\"left\",\n",
    "    showarrow=False,\n",
    "    font = {'family':'arial','size':15, 'color':'dimgrey'},\n",
    ")\n",
    "# fig.show()\n",
    "fn_save = './figures/map_fdw_available.png'\n",
    "fig.write_image(fn_save)\n",
    "print('%s is saved.' % fn_save)\n",
    "fn_out = './data/shapefile/country_fdw_grain_data_available.shp'\n",
    "world.to_file(fn_out)\n",
    "print('%s is saved.' % fn_out)"
   ]
  },
  {
   "cell_type": "markdown",
   "id": "10f7432b-92c9-434a-bde6-f4bca50d4735",
   "metadata": {},
   "source": [
    "![image](https://github.com/chc-ucsb/gscd/blob/main/figures/map_fdw_available.png?raw=true)"
   ]
  },
  {
   "cell_type": "code",
   "execution_count": null,
   "id": "e747d83e-1252-41e2-8133-bcfa6ec3ff43",
   "metadata": {},
   "outputs": [],
   "source": [
    "world.loc[world['fdw_data'].notna(),'name'].reset_index(drop=True)"
   ]
  },
  {
   "cell_type": "markdown",
   "id": "d097c3d6-276c-41ff-b1c3-34cb542bf453",
   "metadata": {},
   "source": [
    "### 3. Download all FEWS NET shapefiles\n",
    "You do not need to run the commented codes if you downloaded all shapefiles through [pre-installation](#Pre-installation)"
   ]
  },
  {
   "cell_type": "code",
   "execution_count": null,
   "id": "864d9bf6-8d0a-4710-8236-f92743834f06",
   "metadata": {},
   "outputs": [],
   "source": [
    "# ISO codes of all countries from the African shapefile\n",
    "df1 = gpd.read_file('./data/shapefile/fewsnet/FEWSNET_Admin1.shp')\n",
    "df2 = gpd.read_file('./data/shapefile/fewsnet/FEWSNET_Admin2.shp')\n",
    "country_code1 = df1.loc[df1['COUNTRY'].notna(),['COUNTRY','ADMIN0']].drop_duplicates().reset_index(drop=True)\n",
    "country_code2 = df2.loc[df2['COUNTRY'].notna(),['COUNTRY','ADMIN0']].drop_duplicates().reset_index(drop=True)\n",
    "fnid_code = pd.concat([df1['FNID'].apply(lambda x: str(x)[:8]), df2['FNID'].apply(lambda x: str(x)[:8])],axis=0)\n",
    "fnid_code = fnid_code.unique()\n",
    "\n",
    "# # # Extract \"ZA_Admin1_1994.shp\" from \"FEWSNET_Admin1.shp\"\n",
    "# # sub = df1[df1['FNID'].apply(lambda x: str(x)[:8] == 'ZA1994A1')].reset_index(drop=True)\n",
    "# # fn_out = './data/shapefile/fewsnet/ZA_Admin1_1994.shp'\n",
    "# # sub.to_file(fn_out)\n",
    "# # print('%s is saved.' % fn_out)\n",
    "\n",
    "# # Download shapefiles of administrative boundaries from FEWS NET\n",
    "# path_url = 'https://fews.net/data_portal_download/download?data_file_path=http%3A//shapefiles.fews.net.s3.amazonaws.com/ADMIN/'\n",
    "# path_dir = './data/shapefile/fewsnet/'\n",
    "# comb = product(list(country_code1['COUNTRY'].unique()),[1,2],list(np.arange(1950,2023)))\n",
    "# for (code, level, year) in comb:\n",
    "#     shape_name = '%s_Admin%d_%d.zip' % (code, level, year)\n",
    "#     fn_url = os.path.join(path_url, shape_name)\n",
    "#     fn_dir = os.path.join(path_dir, shape_name)\n",
    "#     if os.path.exists(fn_dir[:-3]+'shp'):\n",
    "#         print('%s exsits.' % (fn_dir[:-3]+'shp'))\n",
    "#         continue\n",
    "#     else:\n",
    "#         response = requests.get(fn_url)\n",
    "#         response.raise_for_status()\n",
    "#         if len(response.content) == 0:\n",
    "#             # print('%s is not available (no content).' % shape_name)\n",
    "#             continue\n",
    "#         else:\n",
    "#             f = open(fn_dir,'wb')\n",
    "#             f.write(response.content)\n",
    "#             f.close()\n",
    "#             shutil.unpack_archive(fn_dir, path_dir)\n",
    "#             print('%s is saved.' % (fn_dir[:-3]+'shp'))\n",
    "#             os.remove(fn_dir)"
   ]
  },
  {
   "cell_type": "code",
   "execution_count": null,
   "id": "793a2956-6682-4ef5-b69f-531a9a9e5cdc",
   "metadata": {},
   "outputs": [],
   "source": [
    "country_code1"
   ]
  },
  {
   "cell_type": "markdown",
   "id": "6f56fb2b-8f88-40bd-be00-25fb3847dbe2",
   "metadata": {},
   "source": [
    "### Countries with population_group"
   ]
  },
  {
   "cell_type": "code",
   "execution_count": null,
   "id": "f01c3dd1-49b1-4243-858e-f040dc0f262b",
   "metadata": {},
   "outputs": [],
   "source": [
    "df.loc[df['population_group'] != '', ['country','population_group']].drop_duplicates()"
   ]
  },
  {
   "cell_type": "markdown",
   "id": "7485557d-b1ac-499a-9a9b-0d7c036913cc",
   "metadata": {},
   "source": [
    "### Cross-comparison bewteen FDW data and FEWS NET shapefiles"
   ]
  },
  {
   "cell_type": "code",
   "execution_count": null,
   "id": "475ad5ad-284d-41ae-8d47-823bd5862e7f",
   "metadata": {},
   "outputs": [],
   "source": [
    "# Country, ISO code, and Admin levels\n",
    "path_url = 'https://fews.net/data_portal_download/download?data_file_path=http%3A//shapefiles.fews.net.s3.amazonaws.com/ADMIN/'\n",
    "path_dir = './data/shapefile/fewsnet/'\n",
    "code_year = pd.concat([df['country'], df['fnid'].apply(lambda x: x[:2]), df['fnid'].apply(lambda x: x[2:8])],axis=1)\n",
    "code_year = code_year.drop_duplicates().reset_index(drop=True)\n",
    "code_year.columns = ['country','code','year']\n",
    "for i, row in code_year[['country','code']].drop_duplicates().iterrows():\n",
    "    country, code = row['country'], row['code']\n",
    "    year = code_year.loc[code_year['code'] == code, 'year']\n",
    "    print(country, code, sorted(year.values))\n",
    "code_year['shape'] = False\n",
    "for i, row in code_year.iterrows():\n",
    "    country, code, year = row['country'], row['code'], row['year']\n",
    "    shape_name = '%s_Admin%d_%d.shp' % (code, int(year[-1]), int(year[:4]))\n",
    "    exist = os.path.exists(os.path.join(path_dir, shape_name))\n",
    "    if exist == True:\n",
    "        code_year.loc[i, 'shape'] = exist\n",
    "    else:\n",
    "        fn_url = os.path.join(path_url, shape_name[:-3] + 'zip')\n",
    "        fn_dir = os.path.join(path_dir, shape_name[:-3] + 'zip')\n",
    "        response = requests.get(fn_url)\n",
    "        response.raise_for_status()\n",
    "        if len(response.content) == 0:\n",
    "            continue\n",
    "        else:\n",
    "            f = open(fn_dir,'wb')\n",
    "            f.write(response.content)\n",
    "            f.close()\n",
    "            print(fn_dir, 'is saved.')\n",
    "            shutil.unpack_archive(fn_dir, path_dir)\n",
    "            os.remove(fn_dir)\n",
    "code_year_miss = code_year[code_year['shape'] == False]\n",
    "reporting_unit = code_year_miss['year'].apply(lambda x: x[-2] == 'R')\n",
    "code_year_miss = code_year_miss[~reporting_unit].reset_index(drop=True)"
   ]
  },
  {
   "cell_type": "markdown",
   "id": "4f5d8200-fa8a-4a5c-8870-318dee18b490",
   "metadata": {
    "tags": []
   },
   "source": [
    "### Data Availability Table"
   ]
  },
  {
   "cell_type": "code",
   "execution_count": null,
   "id": "27f14bfa-027b-4a1a-b6fb-3bdd7ca64260",
   "metadata": {},
   "outputs": [],
   "source": [
    "df.to_hdf('./removable_all_data.hdf', 'data')\n",
    "df = pd.read_hdf('./removable_all_data.hdf')\n",
    "sub = df[df['status'] == 'Collected']\n",
    "\n",
    "# Basic setting\n",
    "sub.loc[:, 'country_iso'] = sub['fnid'].apply(lambda x: str(x[:2]))\n",
    "sub.loc[:, 'admin_code'] = sub['fnid'].apply(lambda x: str(x[:8]))\n",
    "sub.loc[:, 'admin_level'] = sub['fnid'].apply(lambda x: str(x[6:8]))\n",
    "sub.loc[:, 'year'] = sub['season_year'].apply(lambda x: x[-4:]).astype(int)\n",
    "sub.loc[sub['crop_production_system'].isna(), 'crop_production_system'] = 'None'\n",
    "sub.loc[sub['population_group'].isna(), 'population_group'] = 'None'\n",
    "sub.loc[sub['population_group'] == '', 'population_group'] = 'None'\n",
    "\n",
    "# Reduce the dataframe\n",
    "sub = sub[\n",
    "    (sub['population_group'] == 'None') &\n",
    "    (sub['admin_level'].isin(['A1','A2','A3'])) &\n",
    "    (~sub['country'].isin(['Cuba','Panama','Paraguay','Thailand','Haiti']))\n",
    "]\n",
    "\n",
    "# Some admin_code does not exist in FEWS NET shapefiles\n",
    "sub['admin_code'] = sub['admin_code'].replace({'AF2018A1':'AF2017A1', 'YE1990A1':'YE2004A1'})\n",
    "\n",
    "# Calculate the number of admin_code\n",
    "admin_code_number = pd.Series(index=sub['admin_code'].unique(), dtype=int)\n",
    "for c in sub['admin_code'].unique():\n",
    "    path_dir = './data/shapefile/fewsnet/%s_Admin%s_%s.shp' % (c[:2], c[-1], c[2:6])\n",
    "    admin_code_number[c] = gpd.read_file(path_dir).shape[0]\n",
    "admin_code_number = admin_code_number.astype(int)\n",
    "sub['admin_code_numb'] = sub['admin_code'].replace(admin_code_number.to_dict())\n",
    "\n",
    "# Table of data availability\n",
    "table_count = sub.loc[sub['indicator'] == 'Quantity Produced'].pivot_table(\n",
    "    index=['country','product','season_name','crop_production_system','admin_level'],\n",
    "    columns='year',values='value',aggfunc=len,fill_value=0\n",
    ")\n",
    "table_numb = sub.loc[sub['indicator'] == 'Quantity Produced'].pivot_table(\n",
    "    index=['country','product','season_name','crop_production_system','admin_level'],\n",
    "    columns='year',values='admin_code_numb',aggfunc='max', fill_value=0    # \"Max\" could work well but not perfectly.\n",
    ")\n",
    "table_string = table_count.astype(str)+'/'+table_numb.astype(str)\n",
    "table_percent = table_count/table_numb*100\n",
    "table_percent[table_percent.isna()] = 0\n",
    "table_percent = table_percent.astype(int)\n",
    "table_percent[table_percent == 0] = np.nan\n",
    "with pd.ExcelWriter('./data/crop/data_availability.xlsx') as writer:  \n",
    "    table_string.to_excel(writer, sheet_name='number_of_records')\n",
    "    table_percent.to_excel(writer, sheet_name='percent_of_records')\n",
    "    print('%s is saved.' % './data/crop/data_availability.xlsx')"
   ]
  },
  {
   "cell_type": "code",
   "execution_count": null,
   "id": "63e5a0d3-5bf2-4e3b-a9df-7af21bf0999c",
   "metadata": {},
   "outputs": [],
   "source": [
    "table_string.loc[pd.IndexSlice['Somalia','Maize (Corn)'],2000:]"
   ]
  },
  {
   "cell_type": "code",
   "execution_count": null,
   "id": "a402d9c0-c66a-4dbe-995c-65ecbd113e0c",
   "metadata": {},
   "outputs": [],
   "source": []
  }
 ],
 "metadata": {
  "kernelspec": {
   "display_name": "Python 3 (ipykernel)",
   "language": "python",
   "name": "python3"
  },
  "language_info": {
   "codemirror_mode": {
    "name": "ipython",
    "version": 3
   },
   "file_extension": ".py",
   "mimetype": "text/x-python",
   "name": "python",
   "nbconvert_exporter": "python",
   "pygments_lexer": "ipython3",
   "version": "3.8.12"
  }
 },
 "nbformat": 4,
 "nbformat_minor": 5
}
