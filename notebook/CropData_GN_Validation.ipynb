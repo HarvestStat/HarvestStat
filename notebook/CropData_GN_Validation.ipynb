{
 "cells": [
  {
   "attachments": {},
   "cell_type": "markdown",
   "id": "60d467f8-fee5-4752-9632-9a2bb58f8d01",
   "metadata": {},
   "source": [
    "# FDW Crop Production Data Analysis - Guinea"
   ]
  },
  {
   "cell_type": "code",
   "execution_count": 1,
   "id": "4eac4bd1",
   "metadata": {},
   "outputs": [],
   "source": [
    "import json, requests\n",
    "from functools import reduce\n",
    "import numpy as np\n",
    "import pandas as pd\n",
    "import geopandas as gpd\n",
    "import matplotlib.pyplot as plt\n",
    "import seaborn as sns"
   ]
  },
  {
   "attachments": {},
   "cell_type": "markdown",
   "id": "166eebb3",
   "metadata": {},
   "source": [
    "## Validation with FAO-STAT"
   ]
  },
  {
   "cell_type": "code",
   "execution_count": 2,
   "id": "ec72643d-d48f-41b9-92a9-f72009f6651a",
   "metadata": {},
   "outputs": [
    {
     "data": {
      "image/png": "[encoded data removed]",
      "text/plain": [
       "<Figure size 700x300 with 1 Axes>"
      ]
     },
     "metadata": {},
     "output_type": "display_data"
    }
   ],
   "source": [
    "#%% Validation with FAO-STAT national production data\n",
    "# Load GSCD crop data -------------------------------- # \n",
    "country_iso, country_name, product_name_fdw, product_name_fao = 'GN', 'Guinea', 'Rice', 'Rice'\n",
    "# country_iso, country_name, product_name_fdw, product_name_fao = 'GN', 'Guinea', 'Maize', 'Maize (corn)'\n",
    "df = pd.read_hdf('../data/crop/adm_crop_production_%s.hdf' % country_iso)\n",
    "df = df[df['gscd_code']=='calibrated']; fnids = list(df['fnid'].unique())\n",
    "df = df[\n",
    "    (df['product'] == product_name_fdw) &\n",
    "    (df['indicator'] == 'production')\n",
    "]\n",
    "df['year'] = df['harvest_year']\n",
    "data_fdw = df.pivot_table(index='year',columns='product',values='value',aggfunc='sum').sum(1).rename('FDW')\n",
    "# ---------------------------------------------------- #\n",
    "\n",
    "# Load FAO-STAT National Production Data ------------- #\n",
    "df = pd.read_csv('../data/crop/adm_fao_stat.csv', index_col=0)\n",
    "data_fao = df[\n",
    "    (df['cnt_name'] == country_name) &\n",
    "    (df['cpc2_name'] == product_name_fao) &\n",
    "    (df['indicator'] == 'Production')\n",
    "].set_index('year')['value']\n",
    "# ---------------------------------------------------- #\n",
    "data = pd.concat([data_fao, data_fdw], axis=1, keys=['FAO','FDW']).sort_index()\n",
    "ax = data.plot(xlim=[1980,2023],figsize=[7,3],grid=True, markerfacecolor='None')\n",
    "marker = ['.','s']\n",
    "for i, line in enumerate(ax.get_lines()):\n",
    "    line.set_marker(marker[i])"
   ]
  },
  {
   "attachments": {},
   "cell_type": "markdown",
   "id": "30839970",
   "metadata": {},
   "source": [
    "## Validation with CHIRPS Precipitation\n",
    "- PRCP is processed only for GN2014"
   ]
  },
  {
   "cell_type": "code",
   "execution_count": 12,
   "id": "b27c7fbc",
   "metadata": {},
   "outputs": [],
   "source": [
    "# #%% Correlation with growing season CHIRPS precipitation\n",
    "# # Load GSCD crop data -------------------------------- #\n",
    "# country_iso, country_name = 'GN', 'Guinea'\n",
    "# df = pd.read_hdf('../data/crop/adm_crop_production_%s.hdf' % country_iso)\n",
    "# df = df[df['gscd_code']=='calibrated']; fnids = list(df['fnid'].unique())\n",
    "# season_name, product_name, prcp_start_month, prcp_season_name = 'Main', 'Rice', 6, 'JJA PRCP (mm)'\n",
    "# df = df[\n",
    "#     (df['season_name'] == season_name) &\n",
    "#     (df['product'].isin([product_name])) &\n",
    "#     (df['indicator'] == 'production')\n",
    "# ]\n",
    "# df['year'] = df['harvest_year']\n",
    "# data = df.pivot_table(index='year',columns='product',values='value',aggfunc='sum').sum(1).rename('FDW')\n",
    "# # ---------------------------------------------------- #\n",
    "\n",
    "# # Load precipitation --------------------------------- #\n",
    "# prcp = pd.read_hdf('../data/adm.prcp.chirps-v2.crop.extended.hdf')[fnids]\n",
    "# prcp.index = pd.to_datetime(prcp.index)\n",
    "# prcp = prcp.resample('1M').agg('sum')\n",
    "# prcp.index = prcp.index.map(lambda x: x.replace(day=1))\n",
    "# assert prcp.isna().sum().sum() == 0 # if not, use FillMissMonthMean\n",
    "# # National seasonal precipitation\n",
    "# prcp_nat = prcp.mean(1).rename('PRCP')\n",
    "# # Forward rolling summation\n",
    "# indexer = pd.api.indexers.FixedForwardWindowIndexer(window_size=3)   # Forward Rolling Window\n",
    "# prcp_nat = prcp_nat.rolling(window=indexer, min_periods=3).sum()\n",
    "# prcp_nat = prcp_nat[prcp_nat.index.month == prcp_start_month]                      # Start month\n",
    "# prcp_nat = prcp_nat.groupby(prcp_nat.index.year).sum()\n",
    "# prcp_label = prcp_season_name\n",
    "# # Correlations\n",
    "# corr_value = pd.concat([data,prcp_nat],axis=1).corr()\n",
    "# print(f'{season_name}-{product_name} Correlation:\\n{corr_value}')\n",
    "# # ---------------------------------------------------- #\n",
    "\n",
    "# # Validation figure ---------------------------------- #\n",
    "# years = np.arange(1990,2020)\n",
    "# sns.set(style=\"white\", font_scale=1.2)\n",
    "# fig, ax1 = plt.subplots(nrows=1, ncols=1, sharex=True, figsize=(9,4))\n",
    "# data = data.reindex(np.arange(data.index[0],data.index[-1]+1))\n",
    "# data.plot(ax=ax1, legend=None, linewidth=2.5, marker='s', color=['#405E7B','#FB6222','#17AB6F'])\n",
    "# ax1.set_xlim([years.min()-0.5, years.max()+0.5])\n",
    "# ax1.set_xticks(years)\n",
    "# ax1.set_xticklabels(['%02d'% yr for yr in np.mod(years,100)])\n",
    "# ax1.xaxis.grid(True)\n",
    "# ax1.grid(True)\n",
    "# ax1.set_xlabel('')\n",
    "# ax1.set_ylabel('National Production (ton)')\n",
    "# year, value = prcp_nat.index, prcp_nat.values\n",
    "# ax2 = ax1.twinx()\n",
    "# plt.bar(year, value, alpha=.25, color='grey')\n",
    "# ax2.set_ylim([0, value.max()*1.3])\n",
    "# ax2.set_ylabel(prcp_label, labelpad=10)\n",
    "# ax1.set_zorder(1)  # default zorder is 0 for ax1 and ax2\n",
    "# ax1.patch.set_visible(False)  # prevents ax1 from hiding ax2\n",
    "# ax1.legend(bbox_to_anchor=(0.5, 1.01), columnspacing=0.7, ncol=3, fontsize=14)\n",
    "# plt.tight_layout(pad=0)\n",
    "# plt.show()\n",
    "# # ---------------------------------------------------- #"
   ]
  }
 ],
 "metadata": {
  "kernelspec": {
   "display_name": "Python 3 (ipykernel)",
   "language": "python",
   "name": "python3"
  },
  "language_info": {
   "codemirror_mode": {
    "name": "ipython",
    "version": 3
   },
   "file_extension": ".py",
   "mimetype": "text/x-python",
   "name": "python",
   "nbconvert_exporter": "python",
   "pygments_lexer": "ipython3",
   "version": "3.10.10"
  }
 },
 "nbformat": 4,
 "nbformat_minor": 5
}
