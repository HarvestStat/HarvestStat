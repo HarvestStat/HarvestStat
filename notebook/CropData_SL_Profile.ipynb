{
 "cells": [
  {
   "cell_type": "markdown",
   "id": "b139dc59",
   "metadata": {},
   "source": [
    "# HarvestStat Data Profiling - Sierra Leone"
   ]
  },
  {
   "cell_type": "code",
   "execution_count": 1,
   "id": "e6a60bf2",
   "metadata": {},
   "outputs": [],
   "source": [
    "import glob, json\n",
    "import warnings\n",
    "warnings.simplefilter(action='ignore', category=FutureWarning)\n",
    "import requests\n",
    "import numpy as np\n",
    "import pandas as pd\n",
    "import geopandas as gpd\n",
    "from tools import save_npz, PrintAdminUnits, PlotAdminShapes\n",
    "from tools import FDW_PD_Sweeper, FDW_PD_AvalTable, FDW_PD_Compiling, FDW_PD_ValidateFnidName\n",
    "from tools import FDW_PD_CreateAdminLink, FDW_PD_RatioAdminLink, FDW_PD_ConnectAdminLink\n",
    "from tools import FDW_PD_CaliSeasonYear, FDW_PD_MergeCropProductionSystem\n",
    "from tools_graphic import PlotBarProduction, PlotLinePAY\n",
    "warnings.simplefilter(action='ignore', category=pd.errors.PerformanceWarning)\n",
    "pd.options.mode.chained_assignment = None"
   ]
  },
  {
   "cell_type": "code",
   "execution_count": 2,
   "id": "5258facf",
   "metadata": {},
   "outputs": [
    {
     "name": "stdout",
     "output_type": "stream",
     "text": [
      "- FEWS NET admin shapefiles ------------------- #\n",
      "| year\t | Admin1   | # units   | Admin2   | # units   | Admin3   | # units   |\n",
      "| 1960\t | SL1960A1 | 4\t| SL1960A2\t| 14\t| nan\t| 0\t|\n",
      "| 2010\t | SL2010A1 | 4\t| SL2010A2\t| 14\t| nan\t| 0\t|\n",
      "| 2017\t | nan | 0\t| SL2017A2\t| 16\t| nan\t| 0\t|\n",
      "----------------------------------------------- #\n"
     ]
    }
   ],
   "source": [
    "# Load FEWS NET administrative boundaries ------- #\n",
    "epsg = 'epsg:32629' # Sierra Leone\n",
    "fn_shapes = sorted(glob.glob('../data/shapefile/fewsnet/SL_Admin?_????.shp'))\n",
    "shape_all = []\n",
    "for fn in fn_shapes:\n",
    "    name = fn[-18:-4]\n",
    "    exec('%s = gpd.read_file(\"%s\").to_crs(\"%s\")' % (name, fn, epsg))\n",
    "    exec('%s[\"area\"] = %s[\"geometry\"].area/10**6' % (name, name))\n",
    "    exec('shape_all.append(%s)' % (name))\n",
    "shape_all = pd.concat(shape_all, axis=0).reset_index(drop=True)\n",
    "PrintAdminUnits(shape_all)\n",
    "# ----------------------------------------------- #\n",
    "\n",
    "# FDW API host address -------------------------- #\n",
    "host = 'https://fdw.fews.net'\n",
    "#auth = tuple(json.loads(open('token.json', \"r\").read()))\n",
    "\n",
    "parameters = {\n",
    "    'format': 'json',\n",
    "    'country':  'Sierra Leone',\n",
    "    'product': ['R011','R012','R013','R014','R015','R017','R018'],\n",
    "    'survey_type': 'crop:best'\n",
    "}\n",
    "endpoint = '/api/cropproductionindicatorvalue/'\n",
    "response = requests.get(host + endpoint, params=parameters, proxies={})#auth=auth, \n",
    "response.raise_for_status()\n",
    "df = pd.DataFrame.from_records(response.json())\n",
    "df_origin = df.copy()\n",
    "# ----------------------------------------------- #"
   ]
  },
  {
   "cell_type": "code",
   "execution_count": 3,
   "id": "5e5574d6",
   "metadata": {},
   "outputs": [
    {
     "name": "stdout",
     "output_type": "stream",
     "text": [
      "- Remove missing records ---------------------- #\n",
      "Orignial data points: 475\n",
      "244/244 \"Quantity Produced\" points are retained.\n",
      "195/195 \"Area Harvested\" points are retained.\n",
      "36/36 \"Yield\" points are retained.\n",
      "Current data points: 475\n",
      "\n",
      "- Minor changes are applied ------------------- #\n",
      "\n",
      "- Basic information --------------------------- #\n",
      "Data period: 1986 - 2016\n",
      "12 grain types are found: Banana (unspecified), Cashew (unshelled), Cassava, Groundnuts (In Shell), Maize (Corn), Millet, Okras (Fresh), Potato (unspecified), Rice (Paddy), Sesame Seed, Sorghum, Sweet Potatoes\n",
      "1 seasons are found: Main (05-01)\n",
      "1 crop production system are found: none\n",
      "Data sources include:\n",
      "[1] Ministry of Agriculture, Forestry and Food Security, Sierra Leone --- Crop production survey, Sierra Leone\n",
      "[2] Ministry of Agriculture, Forestry and Food Security, Sierra Leone --- FEWS NET Agro Maps, Sierra Leone\n",
      "Administrative-1 fnids: 0\n",
      "Administrative-2 fnids: 13\n",
      "0 reporting units are found: \n",
      "\n",
      "- Total production over time ------------------ #\n",
      "season_name             Main\n",
      "                            \n",
      "Cassava                64.3%\n",
      "Groundnuts (In Shell)   0.8%\n",
      "Maize (Corn)            0.7%\n",
      "Okras (Fresh)           0.2%\n",
      "Rice (Paddy)           28.9%\n",
      "Sesame Seed             0.1%\n",
      "Sorghum                 1.1%\n",
      "Sweet Potatoes          3.8%\n",
      "\n",
      "- Crop calendar ------------------------------- #\n",
      "                  product season_name planting_month harvest_month\n",
      "0    Banana (unspecified)        Main          05-01         12-01\n",
      "1      Cashew (unshelled)        Main          05-01         12-01\n",
      "2                 Cassava        Main          05-01         12-01\n",
      "3   Groundnuts (In Shell)        Main          05-01         12-01\n",
      "4            Maize (Corn)        Main          05-01         12-01\n",
      "5                  Millet        Main          05-01         12-01\n",
      "6           Okras (Fresh)        Main          05-01         12-01\n",
      "7    Potato (unspecified)        Main          05-01         12-01\n",
      "8            Rice (Paddy)        Main          05-01         12-01\n",
      "9             Sesame Seed        Main          05-01         12-01\n",
      "10                Sorghum        Main          05-01         12-01\n",
      "11         Sweet Potatoes        Main          05-01         12-01\n",
      "\n",
      "- Recorded years per season ------------------- #\n",
      "Main: 31 years (1986-2016) (missing: 25 years)\n",
      "\n",
      "- Number of \"Quantity Produced\" data points --- #\n",
      "SL1960A2: 244 data points are found.\n",
      "\n",
      "- Districts with population group(s) ---------- #\n",
      "0 districts includes 'population_group'.\n",
      "\n",
      "Table of available data\n",
      "----------------------------------------------- #\n",
      "Crop type: Banana (unspecified)\n",
      "----------------------------------------------- #\n",
      "season_name              Main\n",
      "crop_production_system   none\n",
      "fnid_short             1960A2\n",
      "year                         \n",
      "2003                    13/14\n",
      "----------------------------------------------- #\n",
      "Crop type: Cashew (unshelled)\n",
      "----------------------------------------------- #\n",
      "season_name              Main\n",
      "crop_production_system   none\n",
      "fnid_short             1960A2\n",
      "year                         \n",
      "2003                     8/14\n",
      "----------------------------------------------- #\n",
      "Crop type: Cassava\n",
      "----------------------------------------------- #\n",
      "season_name              Main\n",
      "crop_production_system   none\n",
      "fnid_short             1960A2\n",
      "year                         \n",
      "2003                    13/14\n",
      "2004                    13/14\n",
      "2005                      NaN\n",
      "2006                      NaN\n",
      "2007                      NaN\n",
      "2008                      NaN\n",
      "2009                      NaN\n",
      "2010                      NaN\n",
      "2011                      NaN\n",
      "2012                      NaN\n",
      "2013                      NaN\n",
      "2014                      NaN\n",
      "2015                    13/14\n",
      "2016                    13/14\n",
      "----------------------------------------------- #\n",
      "Crop type: Groundnuts (In Shell)\n",
      "----------------------------------------------- #\n",
      "season_name              Main\n",
      "crop_production_system   none\n",
      "fnid_short             1960A2\n",
      "year                         \n",
      "1986                    12/14\n",
      "1987                      NaN\n",
      "1988                      NaN\n",
      "1989                      NaN\n",
      "1990                      NaN\n",
      "1991                      NaN\n",
      "1992                      NaN\n",
      "1993                      NaN\n",
      "1994                      NaN\n",
      "1995                      NaN\n",
      "1996                      NaN\n",
      "1997                      NaN\n",
      "1998                      NaN\n",
      "1999                      NaN\n",
      "2000                      NaN\n",
      "2001                      NaN\n",
      "2002                      NaN\n",
      "2003                    13/14\n",
      "2004                    13/14\n",
      "2005                      NaN\n",
      "2006                      NaN\n",
      "2007                      NaN\n",
      "2008                      NaN\n",
      "2009                      NaN\n",
      "2010                      NaN\n",
      "2011                      NaN\n",
      "2012                      NaN\n",
      "2013                      NaN\n",
      "2014                      NaN\n",
      "2015                    13/14\n",
      "2016                    13/14\n",
      "----------------------------------------------- #\n",
      "Crop type: Maize (Corn)\n",
      "----------------------------------------------- #\n",
      "season_name              Main\n",
      "crop_production_system   none\n",
      "fnid_short             1960A2\n",
      "year                         \n",
      "1986                    12/14\n",
      "1987                      NaN\n",
      "1988                      NaN\n",
      "1989                      NaN\n",
      "1990                      NaN\n",
      "1991                      NaN\n",
      "1992                      NaN\n",
      "1993                      NaN\n",
      "1994                      NaN\n",
      "1995                      NaN\n",
      "1996                      NaN\n",
      "1997                      NaN\n",
      "1998                      NaN\n",
      "1999                      NaN\n",
      "2000                      NaN\n",
      "2001                      NaN\n",
      "2002                      NaN\n",
      "2003                    12/14\n",
      "2004                    13/14\n",
      "2005                      NaN\n",
      "2006                      NaN\n",
      "2007                      NaN\n",
      "2008                      NaN\n",
      "2009                      NaN\n",
      "2010                      NaN\n",
      "2011                      NaN\n",
      "2012                      NaN\n",
      "2013                      NaN\n",
      "2014                      NaN\n",
      "2015                    13/14\n",
      "2016                    13/14\n",
      "----------------------------------------------- #\n",
      "Crop type: Millet\n",
      "----------------------------------------------- #\n",
      "season_name              Main\n",
      "crop_production_system   none\n",
      "fnid_short             1960A2\n",
      "year                         \n",
      "2003                     9/14\n",
      "----------------------------------------------- #\n",
      "Crop type: Okras (Fresh)\n",
      "----------------------------------------------- #\n",
      "season_name              Main\n",
      "crop_production_system   none\n",
      "fnid_short             1960A2\n",
      "year                         \n",
      "2015                    13/14\n",
      "2016                    13/14\n",
      "----------------------------------------------- #\n",
      "Crop type: Potato (unspecified)\n",
      "----------------------------------------------- #\n",
      "season_name              Main\n",
      "crop_production_system   none\n",
      "fnid_short             1960A2\n",
      "year                         \n",
      "2004                    13/14\n",
      "----------------------------------------------- #\n",
      "Crop type: Rice (Paddy)\n",
      "----------------------------------------------- #\n",
      "season_name              Main\n",
      "crop_production_system   none\n",
      "fnid_short             1960A2\n",
      "year                         \n",
      "1986                    12/14\n",
      "1987                      NaN\n",
      "1988                      NaN\n",
      "1989                      NaN\n",
      "1990                      NaN\n",
      "1991                      NaN\n",
      "1992                      NaN\n",
      "1993                      NaN\n",
      "1994                      NaN\n",
      "1995                      NaN\n",
      "1996                      NaN\n",
      "1997                      NaN\n",
      "1998                      NaN\n",
      "1999                      NaN\n",
      "2000                      NaN\n",
      "2001                      NaN\n",
      "2002                    13/14\n",
      "2003                      NaN\n",
      "2004                    13/14\n",
      "2005                      NaN\n",
      "2006                      NaN\n",
      "2007                      NaN\n",
      "2008                      NaN\n",
      "2009                      NaN\n",
      "2010                      NaN\n",
      "2011                      NaN\n",
      "2012                      NaN\n",
      "2013                      NaN\n",
      "2014                      NaN\n",
      "2015                    13/14\n",
      "2016                    13/14\n",
      "----------------------------------------------- #\n",
      "Crop type: Sesame Seed\n",
      "----------------------------------------------- #\n",
      "season_name              Main\n",
      "crop_production_system   none\n",
      "fnid_short             1960A2\n",
      "year                         \n",
      "2015                    13/14\n",
      "2016                    13/14\n",
      "----------------------------------------------- #\n",
      "Crop type: Sorghum\n",
      "----------------------------------------------- #\n",
      "season_name              Main\n",
      "crop_production_system   none\n",
      "fnid_short             1960A2\n",
      "year                         \n",
      "2015                    13/14\n",
      "2016                    13/14\n",
      "----------------------------------------------- #\n",
      "Crop type: Sweet Potatoes\n",
      "----------------------------------------------- #\n",
      "season_name              Main\n",
      "crop_production_system   none\n",
      "fnid_short             1960A2\n",
      "year                         \n",
      "2003                    13/14\n",
      "2004                      NaN\n",
      "2005                      NaN\n",
      "2006                      NaN\n",
      "2007                      NaN\n",
      "2008                      NaN\n",
      "2009                      NaN\n",
      "2010                      NaN\n",
      "2011                      NaN\n",
      "2012                      NaN\n",
      "2013                      NaN\n",
      "2014                      NaN\n",
      "2015                    13/14\n",
      "2016                    13/14\n",
      "----------------------------------------------- #\n",
      "../figures/SL_admin_shapes.png is saved.\n"
     ]
    }
   ],
   "source": [
    "# Manual Pre-processing before Sweeping --------- #\n",
    "# 1. Default setting \n",
    "# a) None-type crop production system\n",
    "df.loc[df['crop_production_system'].isna(), 'crop_production_system'] = 'none'\n",
    "df.loc[df['crop_production_system'] == '', 'crop_production_system'] = 'none'\n",
    "# b) None-type population group\n",
    "df.loc[df['population_group'].isna(), 'population_group'] = 'none'\n",
    "df.loc[df['population_group'] == '', 'population_group'] = 'none'\n",
    "# Replace season name\n",
    "df['season_name'] = df['season_name'].replace({\n",
    "    'Main season': \"Main\"\n",
    "})\n",
    "# ----------------------------------------------- #\n",
    "df = df[np.isfinite(df.value)]\n",
    "df_admin1=df[df['admin_2'].isna()]\n",
    "df = df.dropna(subset=['admin_2'])\n",
    "\n",
    "# FDW Production Data Inspection ---------------- #\n",
    "df, df_raw = FDW_PD_Sweeper(df, area_priority=\"Area Planted\")\n",
    "table_dict = FDW_PD_AvalTable(df, shape_all)\n",
    "# ----------------------------------------------- #\n",
    "\n",
    "# FEWS NET Shapefile comparison ----------------- #\n",
    "shape_used = pd.concat([SL_Admin2_1960], axis=0)\n",
    "PlotAdminShapes(shape_used, label=True)\n",
    "# ----------------------------------------------- #"
   ]
  },
  {
   "cell_type": "markdown",
   "id": "8cb113bf",
   "metadata": {},
   "source": [
    "## Sierra Leone\n",
    "Sierra Leone crop seasonal calendar\n",
    "\n",
    "![FEWS NET](https://fews.net/sites/default/files/styles/large_width_880/public/2023-03/seasonal-calendar-sierre-leone.png?itok=Cba4Gu41)\n",
    "\n",
    "![USDA](https://ipad.fas.usda.gov/rssiws/al/crop_calendar/images/wafrica_sl_calendar.png)\n",
    "\n",
    "- comparison of boundaries</br>\n",
    "<img src=\"../figures/SL_admin_shapes.png\"  width=\"50%\" height=\"50%\">\n",
    "\n",
    "- In Sierra Leone, basd on the FEWS NET data, there were two times of changes in administrative units. We will use the 1960 administrative units\n",
    "\n",
    "\n",
    "\n",
    "| Year  | Admin-1  | # units  | Admin-2  | # units | Admin-3  | # units |\n",
    "| :---: | :----:   | :----:   | :----:   | :---:   | :----:   | :---:   |\n",
    "| 1960\t | SL1960A1 | 4\t| SL1960A2\t| 14\t| nan\t| 0\t|\n",
    "| 2010\t | SL2010A1 | 4\t| SL2010A2\t| 14\t| SL2010A3\t| 166\t|\n",
    "| 2017\t | nan | 0\t| SL2017A2\t| 16\t| nan\t| 0\t"
   ]
  },
  {
   "cell_type": "code",
   "execution_count": 4,
   "id": "1b753964",
   "metadata": {},
   "outputs": [
    {
     "name": "stdout",
     "output_type": "stream",
     "text": [
      "CBR is considered for 'SL1960A20402' as no record found in: ['SL1960A20402']\n"
     ]
    }
   ],
   "source": [
    "# Define the latest shapefile ------------------- #\n",
    "latest_level = 2\n",
    "shape_latest = SL_Admin2_1960.copy().to_crs('epsg:32629')\n",
    "# ----------------------------------------------- #\n",
    "\n",
    "# Validation of FNIDs and Names ----------------- #\n",
    "df = FDW_PD_ValidateFnidName(df, shape_used, shape_latest)\n",
    "# ----------------------------------------------- #\n",
    "\n",
    "# FDW Production Data Compiling ----------------- #\n",
    "area, prod = FDW_PD_Compiling(df, shape_used)\n",
    "area_all, prod_all = area.copy(), prod.copy()\n",
    "mdx_pss = area.columns.droplevel([0,1]).unique()\n",
    "# ----------------------------------------------- #\n",
    "# Link admin boundaries ------------------------- #\n",
    "link_1960, over_1960 = FDW_PD_CreateAdminLink(SL_Admin2_1960, SL_Admin2_1960, 'ADMIN2', 'ADMIN2', prod, epsg)\n",
    "\n",
    "link_ratio = FDW_PD_RatioAdminLink(link_1960, prod, over_1960, mdx_pss)\n",
    "\n",
    "# Connect data with AdminLink\n",
    "area_new, prod_new = FDW_PD_ConnectAdminLink(link_ratio, area, prod, validation=False)\n",
    "# ----------------------------------------------- #\n"
   ]
  },
  {
   "cell_type": "code",
   "execution_count": 5,
   "id": "d4da40fd",
   "metadata": {},
   "outputs": [
    {
     "name": "stdout",
     "output_type": "stream",
     "text": [
      "All [season_name, product, crop_production_system] are in the external crop calendar.\n",
      "../data/crop/adm_crop_production_SL.csv is saved.\n",
      "../data/crop/adm_crop_production_SL_ratio.npz is saved.\n"
     ]
    }
   ],
   "source": [
    "# Manual correction ----------------------------- #\n",
    "crop_new = prod_new/area_new\n",
    "\n",
    "# Complete long format DataFrame ---------------- #\n",
    "df_area = area_new.T.stack().rename('value').reset_index()\n",
    "df_area['indicator'] = 'area'\n",
    "df_prod = prod_new.T.stack().rename('value').reset_index()\n",
    "df_prod['indicator'] = 'production'\n",
    "df_yield = crop_new.T.stack().rename('value').reset_index()\n",
    "df_yield['indicator'] = 'yield'\n",
    "stack = pd.concat([df_area, df_prod, df_yield], axis=0)\n",
    "# Add \"planting year\"\n",
    "cols = ['season_name','product','crop_production_system','planting_month','harvest_year','harvest_month','planting_year']\n",
    "season_table = df[cols].drop_duplicates()\n",
    "stack = stack.merge(season_table, on=cols[:-1])\n",
    "# Add country and admin names\n",
    "stack = stack.merge(df[['fnid','country','country_code','admin_1','admin_2']].drop_duplicates(), on='fnid', how='inner')\n",
    "names = [\n",
    "    'fnid','country','country_code','admin_1','admin_2','name',\n",
    "    'product','season_name','planting_year','planting_month','harvest_year','harvest_month',\n",
    "    'crop_production_system','indicator','value'\n",
    "]\n",
    "stack = stack[names]\n",
    "# ----------------------------------------------- #\n",
    "\n",
    "# Final Processing ------------------------------ #\n",
    "# Manual change of product name\n",
    "product_category_custom = {   \n",
    "#    'Banana (unspecified)': 'Banana',   \n",
    "#    'Cashew (unshelled)': 'Cashew',\n",
    "    'Cassava': 'Cassava',\n",
    "    'Groundnuts (In Shell)': 'Groundnuts (In Shell)',\n",
    "    'Maize (Corn)': 'Maize',\n",
    "#    'Millet': 'Millet',\n",
    "    'Okras (Fresh)': 'Okras',\n",
    "#    'Potato (unspecified)': 'Potato',\n",
    "    'Rice (Paddy)': 'Rice',\n",
    "    'Sorghum': 'Sorghum',\n",
    "    'Sweet Potatoes': 'Sweet Potatoes',\n",
    "    'Sesame Seed': 'Sesame Seed'\n",
    "}\n",
    "\n",
    "assert set(stack['product'].unique()) == set(product_category_custom.keys())\n",
    "stack['product'] = stack['product'].replace(product_category_custom)\n",
    "for f, r in link_ratio.items():\n",
    "    mdx = pd.MultiIndex.from_frame(r.index.to_frame().reset_index(drop=True).replace(product_category_custom))\n",
    "    r.index = mdx\n",
    "    link_ratio[f] = r\n",
    "# Calibration of crop calendar using External Crop Calendar (ECC)\n",
    "ecc = pd.read_csv('../data/crop_calendar/external_crop_calendar.csv')\n",
    "ecc = ecc[ecc['country'] == 'Sierra Leone']\n",
    "stack, link_ratio = FDW_PD_CaliSeasonYear(stack, ecc, link_ratio)\n",
    "# None admin names\n",
    "stack.loc[stack['admin_1'].isna(), 'admin_1'] = 'none'\n",
    "stack.loc[stack['admin_2'].isna(), 'admin_2'] = 'none'\n",
    "# ----------------------------------------------- #\n",
    "\n",
    "#define a QC flag field\n",
    "# 0 = no flag\n",
    "# 1 = outlier\n",
    "stack['QC_flag'] = 0\n",
    "\n",
    "# Save data\n",
    "fn_out = '../data/crop/adm_crop_production_SL.csv'\n",
    "stack.to_csv(fn_out); print(f'{fn_out} is saved.')\n",
    "save_npz('../data/crop/adm_crop_production_SL_ratio.npz', link_ratio)"
   ]
  },
  {
   "cell_type": "markdown",
   "id": "3eeba8dc",
   "metadata": {},
   "source": [
    "# Visualization of production data"
   ]
  },
  {
   "cell_type": "code",
   "execution_count": 6,
   "id": "0b531ab3",
   "metadata": {},
   "outputs": [
    {
     "data": {
      "application/vnd.plotly.v1+json": {
       "config": {
        "plotlyServerURL": "https://plot.ly"
       },
       "data": [
        {
         "alignmentgroup": "True",
         "hovertemplate": "product=Maize<br>season_name=Main<br>type=orig_unit<br>year=%{x}<br>value=%{y}<extra></extra>",
         "legendgroup": "Maize",
         "marker": {
          "color": "#636efa",
          "pattern": {
           "shape": ""
          }
         },
         "name": "Maize",
         "offsetgroup": "Maize",
         "orientation": "v",
         "showlegend": true,
         "textposition": "auto",
         "type": "bar",
         "x": [
          1986,
          2015,
          2016
         ],
         "xaxis": "x2",
         "y": [
          9851,
          22877.316,
          25165.047599999998
         ],
         "yaxis": "y2"
        },
        {
         "alignmentgroup": "True",
         "hovertemplate": "product=Maize<br>season_name=Main<br>type=percent<br>year=%{x}<br>value=%{y}<extra></extra>",
         "legendgroup": "Maize",
         "marker": {
          "color": "#636efa",
          "pattern": {
           "shape": ""
          }
         },
         "name": "Maize",
         "offsetgroup": "Maize",
         "orientation": "v",
         "showlegend": false,
         "textposition": "auto",
         "type": "bar",
         "x": [
          1986,
          2015,
          2016
         ],
         "xaxis": "x",
         "y": [
          1.7814161996574964,
          0.6222052021378969,
          0.5916872972346886
         ],
         "yaxis": "y"
        },
        {
         "alignmentgroup": "True",
         "hovertemplate": "product=Rice<br>season_name=Main<br>type=orig_unit<br>year=%{x}<br>value=%{y}<extra></extra>",
         "legendgroup": "Rice",
         "marker": {
          "color": "#00cc96",
          "pattern": {
           "shape": ""
          }
         },
         "name": "Rice",
         "offsetgroup": "Rice",
         "orientation": "v",
         "showlegend": true,
         "textposition": "auto",
         "type": "bar",
         "x": [
          1986,
          2015,
          2016
         ],
         "xaxis": "x2",
         "y": [
          524989,
          869958,
          1060779
         ],
         "yaxis": "y2"
        },
        {
         "alignmentgroup": "True",
         "hovertemplate": "product=Rice<br>season_name=Main<br>type=percent<br>year=%{x}<br>value=%{y}<extra></extra>",
         "legendgroup": "Rice",
         "marker": {
          "color": "#00cc96",
          "pattern": {
           "shape": ""
          }
         },
         "name": "Rice",
         "offsetgroup": "Rice",
         "orientation": "v",
         "showlegend": false,
         "textposition": "auto",
         "type": "bar",
         "x": [
          1986,
          2015,
          2016
         ],
         "xaxis": "x",
         "y": [
          94.93695150157237,
          23.660659897405818,
          24.941318190604804
         ],
         "yaxis": "y"
        },
        {
         "alignmentgroup": "True",
         "hovertemplate": "product=Sorghum<br>season_name=Main<br>type=orig_unit<br>year=%{x}<br>value=%{y}<extra></extra>",
         "legendgroup": "Sorghum",
         "marker": {
          "color": "#ab63fa",
          "pattern": {
           "shape": ""
          }
         },
         "name": "Sorghum",
         "offsetgroup": "Sorghum",
         "orientation": "v",
         "showlegend": true,
         "textposition": "auto",
         "type": "bar",
         "x": [
          2015,
          2016
         ],
         "xaxis": "x2",
         "y": [
          45555.5386,
          50111.09246
         ],
         "yaxis": "y2"
        },
        {
         "alignmentgroup": "True",
         "hovertemplate": "product=Sorghum<br>season_name=Main<br>type=percent<br>year=%{x}<br>value=%{y}<extra></extra>",
         "legendgroup": "Sorghum",
         "marker": {
          "color": "#ab63fa",
          "pattern": {
           "shape": ""
          }
         },
         "name": "Sorghum",
         "offsetgroup": "Sorghum",
         "orientation": "v",
         "showlegend": false,
         "textposition": "auto",
         "type": "bar",
         "x": [
          2015,
          2016
         ],
         "xaxis": "x",
         "y": [
          1.2389955667489037,
          1.1782253437555583
         ],
         "yaxis": "y"
        },
        {
         "alignmentgroup": "True",
         "hovertemplate": "product=Cassava<br>season_name=Main<br>type=orig_unit<br>year=%{x}<br>value=%{y}<extra></extra>",
         "legendgroup": "Cassava",
         "marker": {
          "color": "#FFA15A",
          "pattern": {
           "shape": ""
          }
         },
         "name": "Cassava",
         "offsetgroup": "Cassava",
         "orientation": "v",
         "showlegend": true,
         "textposition": "auto",
         "type": "bar",
         "x": [
          2015,
          2016
         ],
         "xaxis": "x2",
         "y": [
          2549288,
          2909272
         ],
         "yaxis": "y2"
        },
        {
         "alignmentgroup": "True",
         "hovertemplate": "product=Cassava<br>season_name=Main<br>type=percent<br>year=%{x}<br>value=%{y}<extra></extra>",
         "legendgroup": "Cassava",
         "marker": {
          "color": "#FFA15A",
          "pattern": {
           "shape": ""
          }
         },
         "name": "Cassava",
         "offsetgroup": "Cassava",
         "orientation": "v",
         "showlegend": false,
         "textposition": "auto",
         "type": "bar",
         "x": [
          2015,
          2016
         ],
         "xaxis": "x",
         "y": [
          69.33419354559402,
          68.40357761137543
         ],
         "yaxis": "y"
        },
        {
         "alignmentgroup": "True",
         "hovertemplate": "product=Groundnuts (In Shell)<br>season_name=Main<br>type=orig_unit<br>year=%{x}<br>value=%{y}<extra></extra>",
         "legendgroup": "Groundnuts (In Shell)",
         "marker": {
          "color": "#19d3f3",
          "pattern": {
           "shape": ""
          }
         },
         "name": "Groundnuts (In Shell)",
         "offsetgroup": "Groundnuts (In Shell)",
         "orientation": "v",
         "showlegend": true,
         "textposition": "auto",
         "type": "bar",
         "x": [
          1986,
          2015,
          2016
         ],
         "xaxis": "x2",
         "y": [
          18147,
          25337,
          22388
         ],
         "yaxis": "y2"
        },
        {
         "alignmentgroup": "True",
         "hovertemplate": "product=Groundnuts (In Shell)<br>season_name=Main<br>type=percent<br>year=%{x}<br>value=%{y}<extra></extra>",
         "legendgroup": "Groundnuts (In Shell)",
         "marker": {
          "color": "#19d3f3",
          "pattern": {
           "shape": ""
          }
         },
         "name": "Groundnuts (In Shell)",
         "offsetgroup": "Groundnuts (In Shell)",
         "orientation": "v",
         "showlegend": false,
         "textposition": "auto",
         "type": "bar",
         "x": [
          1986,
          2015,
          2016
         ],
         "xaxis": "x",
         "y": [
          3.281632298770134,
          0.6891023932426292,
          0.5263926149096658
         ],
         "yaxis": "y"
        },
        {
         "alignmentgroup": "True",
         "hovertemplate": "product=Okras<br>season_name=Main<br>type=orig_unit<br>year=%{x}<br>value=%{y}<extra></extra>",
         "legendgroup": "Okras",
         "marker": {
          "color": "#FF6692",
          "pattern": {
           "shape": ""
          }
         },
         "name": "Okras",
         "offsetgroup": "Okras",
         "orientation": "v",
         "showlegend": true,
         "textposition": "auto",
         "type": "bar",
         "x": [
          2015,
          2016
         ],
         "xaxis": "x2",
         "y": [
          6079.2435,
          6687.16785
         ],
         "yaxis": "y2"
        },
        {
         "alignmentgroup": "True",
         "hovertemplate": "product=Okras<br>season_name=Main<br>type=percent<br>year=%{x}<br>value=%{y}<extra></extra>",
         "legendgroup": "Okras",
         "marker": {
          "color": "#FF6692",
          "pattern": {
           "shape": ""
          }
         },
         "name": "Okras",
         "offsetgroup": "Okras",
         "orientation": "v",
         "showlegend": false,
         "textposition": "auto",
         "type": "bar",
         "x": [
          2015,
          2016
         ],
         "xaxis": "x",
         "y": [
          0.16534006571238494,
          0.15723047038151455
         ],
         "yaxis": "y"
        },
        {
         "alignmentgroup": "True",
         "hovertemplate": "product=Sesame Seed<br>season_name=Main<br>type=orig_unit<br>year=%{x}<br>value=%{y}<extra></extra>",
         "legendgroup": "Sesame Seed",
         "marker": {
          "color": "#B6E880",
          "pattern": {
           "shape": ""
          }
         },
         "name": "Sesame Seed",
         "offsetgroup": "Sesame Seed",
         "orientation": "v",
         "showlegend": true,
         "textposition": "auto",
         "type": "bar",
         "x": [
          2015,
          2016
         ],
         "xaxis": "x2",
         "y": [
          5775.264,
          6352.7904
         ],
         "yaxis": "y2"
        },
        {
         "alignmentgroup": "True",
         "hovertemplate": "product=Sesame Seed<br>season_name=Main<br>type=percent<br>year=%{x}<br>value=%{y}<extra></extra>",
         "legendgroup": "Sesame Seed",
         "marker": {
          "color": "#B6E880",
          "pattern": {
           "shape": ""
          }
         },
         "name": "Sesame Seed",
         "offsetgroup": "Sesame Seed",
         "orientation": "v",
         "showlegend": false,
         "textposition": "auto",
         "type": "bar",
         "x": [
          2015,
          2016
         ],
         "xaxis": "x",
         "y": [
          0.1570725912305324,
          0.14936849877742636
         ],
         "yaxis": "y"
        },
        {
         "alignmentgroup": "True",
         "hovertemplate": "product=Sweet Potatoes<br>season_name=Main<br>type=orig_unit<br>year=%{x}<br>value=%{y}<extra></extra>",
         "legendgroup": "Sweet Potatoes",
         "marker": {
          "color": "#FF97FF",
          "pattern": {
           "shape": ""
          }
         },
         "name": "Sweet Potatoes",
         "offsetgroup": "Sweet Potatoes",
         "orientation": "v",
         "showlegend": true,
         "textposition": "auto",
         "type": "bar",
         "x": [
          2015,
          2016
         ],
         "xaxis": "x2",
         "y": [
          151941.71234,
          172344.083912
         ],
         "yaxis": "y2"
        },
        {
         "alignmentgroup": "True",
         "hovertemplate": "product=Sweet Potatoes<br>season_name=Main<br>type=percent<br>year=%{x}<br>value=%{y}<extra></extra>",
         "legendgroup": "Sweet Potatoes",
         "marker": {
          "color": "#FF97FF",
          "pattern": {
           "shape": ""
          }
         },
         "name": "Sweet Potatoes",
         "offsetgroup": "Sweet Potatoes",
         "orientation": "v",
         "showlegend": false,
         "textposition": "auto",
         "type": "bar",
         "x": [
          2015,
          2016
         ],
         "xaxis": "x",
         "y": [
          4.132430737927819,
          4.052199972960897
         ],
         "yaxis": "y"
        }
       ],
       "layout": {
        "annotations": [
         {
          "showarrow": false,
          "text": "",
          "textangle": 90,
          "x": 0.98,
          "xanchor": "left",
          "xref": "paper",
          "y": 0.2375,
          "yanchor": "middle",
          "yref": "paper"
         },
         {
          "showarrow": false,
          "text": "",
          "textangle": 90,
          "x": 0.98,
          "xanchor": "left",
          "xref": "paper",
          "y": 0.7625,
          "yanchor": "middle",
          "yref": "paper"
         },
         {
          "align": "left",
          "font": {
           "color": "dimgrey",
           "family": "arial",
           "size": 15
          },
          "showarrow": false,
          "text": "National crop production in Sierra Leone - Main",
          "x": 0,
          "xref": "paper",
          "y": -0.13,
          "yref": "paper"
         }
        ],
        "barmode": "relative",
        "font": {
         "color": "black",
         "family": "arial",
         "size": 15
        },
        "height": 600,
        "legend": {
         "title": {
          "text": "Product"
         },
         "tracegroupgap": 0,
         "x": 1,
         "y": 1.01
        },
        "margin": {
         "b": 0,
         "l": 0,
         "r": 0,
         "t": 0
        },
        "template": {
         "data": {
          "bar": [
           {
            "error_x": {
             "color": "#2a3f5f"
            },
            "error_y": {
             "color": "#2a3f5f"
            },
            "marker": {
             "line": {
              "color": "#E5ECF6",
              "width": 0.5
             },
             "pattern": {
              "fillmode": "overlay",
              "size": 10,
              "solidity": 0.2
             }
            },
            "type": "bar"
           }
          ],
          "barpolar": [
           {
            "marker": {
             "line": {
              "color": "#E5ECF6",
              "width": 0.5
             },
             "pattern": {
              "fillmode": "overlay",
              "size": 10,
              "solidity": 0.2
             }
            },
            "type": "barpolar"
           }
          ],
          "carpet": [
           {
            "aaxis": {
             "endlinecolor": "#2a3f5f",
             "gridcolor": "white",
             "linecolor": "white",
             "minorgridcolor": "white",
             "startlinecolor": "#2a3f5f"
            },
            "baxis": {
             "endlinecolor": "#2a3f5f",
             "gridcolor": "white",
             "linecolor": "white",
             "minorgridcolor": "white",
             "startlinecolor": "#2a3f5f"
            },
            "type": "carpet"
           }
          ],
          "choropleth": [
           {
            "colorbar": {
             "outlinewidth": 0,
             "ticks": ""
            },
            "type": "choropleth"
           }
          ],
          "contour": [
           {
            "colorbar": {
             "outlinewidth": 0,
             "ticks": ""
            },
            "colorscale": [
             [
              0,
              "#0d0887"
             ],
             [
              0.1111111111111111,
              "#46039f"
             ],
             [
              0.2222222222222222,
              "#7201a8"
             ],
             [
              0.3333333333333333,
              "#9c179e"
             ],
             [
              0.4444444444444444,
              "#bd3786"
             ],
             [
              0.5555555555555556,
              "#d8576b"
             ],
             [
              0.6666666666666666,
              "#ed7953"
             ],
             [
              0.7777777777777778,
              "#fb9f3a"
             ],
             [
              0.8888888888888888,
              "#fdca26"
             ],
             [
              1,
              "#f0f921"
             ]
            ],
            "type": "contour"
           }
          ],
          "contourcarpet": [
           {
            "colorbar": {
             "outlinewidth": 0,
             "ticks": ""
            },
            "type": "contourcarpet"
           }
          ],
          "heatmap": [
           {
            "colorbar": {
             "outlinewidth": 0,
             "ticks": ""
            },
            "colorscale": [
             [
              0,
              "#0d0887"
             ],
             [
              0.1111111111111111,
              "#46039f"
             ],
             [
              0.2222222222222222,
              "#7201a8"
             ],
             [
              0.3333333333333333,
              "#9c179e"
             ],
             [
              0.4444444444444444,
              "#bd3786"
             ],
             [
              0.5555555555555556,
              "#d8576b"
             ],
             [
              0.6666666666666666,
              "#ed7953"
             ],
             [
              0.7777777777777778,
              "#fb9f3a"
             ],
             [
              0.8888888888888888,
              "#fdca26"
             ],
             [
              1,
              "#f0f921"
             ]
            ],
            "type": "heatmap"
           }
          ],
          "heatmapgl": [
           {
            "colorbar": {
             "outlinewidth": 0,
             "ticks": ""
            },
            "colorscale": [
             [
              0,
              "#0d0887"
             ],
             [
              0.1111111111111111,
              "#46039f"
             ],
             [
              0.2222222222222222,
              "#7201a8"
             ],
             [
              0.3333333333333333,
              "#9c179e"
             ],
             [
              0.4444444444444444,
              "#bd3786"
             ],
             [
              0.5555555555555556,
              "#d8576b"
             ],
             [
              0.6666666666666666,
              "#ed7953"
             ],
             [
              0.7777777777777778,
              "#fb9f3a"
             ],
             [
              0.8888888888888888,
              "#fdca26"
             ],
             [
              1,
              "#f0f921"
             ]
            ],
            "type": "heatmapgl"
           }
          ],
          "histogram": [
           {
            "marker": {
             "pattern": {
              "fillmode": "overlay",
              "size": 10,
              "solidity": 0.2
             }
            },
            "type": "histogram"
           }
          ],
          "histogram2d": [
           {
            "colorbar": {
             "outlinewidth": 0,
             "ticks": ""
            },
            "colorscale": [
             [
              0,
              "#0d0887"
             ],
             [
              0.1111111111111111,
              "#46039f"
             ],
             [
              0.2222222222222222,
              "#7201a8"
             ],
             [
              0.3333333333333333,
              "#9c179e"
             ],
             [
              0.4444444444444444,
              "#bd3786"
             ],
             [
              0.5555555555555556,
              "#d8576b"
             ],
             [
              0.6666666666666666,
              "#ed7953"
             ],
             [
              0.7777777777777778,
              "#fb9f3a"
             ],
             [
              0.8888888888888888,
              "#fdca26"
             ],
             [
              1,
              "#f0f921"
             ]
            ],
            "type": "histogram2d"
           }
          ],
          "histogram2dcontour": [
           {
            "colorbar": {
             "outlinewidth": 0,
             "ticks": ""
            },
            "colorscale": [
             [
              0,
              "#0d0887"
             ],
             [
              0.1111111111111111,
              "#46039f"
             ],
             [
              0.2222222222222222,
              "#7201a8"
             ],
             [
              0.3333333333333333,
              "#9c179e"
             ],
             [
              0.4444444444444444,
              "#bd3786"
             ],
             [
              0.5555555555555556,
              "#d8576b"
             ],
             [
              0.6666666666666666,
              "#ed7953"
             ],
             [
              0.7777777777777778,
              "#fb9f3a"
             ],
             [
              0.8888888888888888,
              "#fdca26"
             ],
             [
              1,
              "#f0f921"
             ]
            ],
            "type": "histogram2dcontour"
           }
          ],
          "mesh3d": [
           {
            "colorbar": {
             "outlinewidth": 0,
             "ticks": ""
            },
            "type": "mesh3d"
           }
          ],
          "parcoords": [
           {
            "line": {
             "colorbar": {
              "outlinewidth": 0,
              "ticks": ""
             }
            },
            "type": "parcoords"
           }
          ],
          "pie": [
           {
            "automargin": true,
            "type": "pie"
           }
          ],
          "scatter": [
           {
            "fillpattern": {
             "fillmode": "overlay",
             "size": 10,
             "solidity": 0.2
            },
            "type": "scatter"
           }
          ],
          "scatter3d": [
           {
            "line": {
             "colorbar": {
              "outlinewidth": 0,
              "ticks": ""
             }
            },
            "marker": {
             "colorbar": {
              "outlinewidth": 0,
              "ticks": ""
             }
            },
            "type": "scatter3d"
           }
          ],
          "scattercarpet": [
           {
            "marker": {
             "colorbar": {
              "outlinewidth": 0,
              "ticks": ""
             }
            },
            "type": "scattercarpet"
           }
          ],
          "scattergeo": [
           {
            "marker": {
             "colorbar": {
              "outlinewidth": 0,
              "ticks": ""
             }
            },
            "type": "scattergeo"
           }
          ],
          "scattergl": [
           {
            "marker": {
             "colorbar": {
              "outlinewidth": 0,
              "ticks": ""
             }
            },
            "type": "scattergl"
           }
          ],
          "scattermapbox": [
           {
            "marker": {
             "colorbar": {
              "outlinewidth": 0,
              "ticks": ""
             }
            },
            "type": "scattermapbox"
           }
          ],
          "scatterpolar": [
           {
            "marker": {
             "colorbar": {
              "outlinewidth": 0,
              "ticks": ""
             }
            },
            "type": "scatterpolar"
           }
          ],
          "scatterpolargl": [
           {
            "marker": {
             "colorbar": {
              "outlinewidth": 0,
              "ticks": ""
             }
            },
            "type": "scatterpolargl"
           }
          ],
          "scatterternary": [
           {
            "marker": {
             "colorbar": {
              "outlinewidth": 0,
              "ticks": ""
             }
            },
            "type": "scatterternary"
           }
          ],
          "surface": [
           {
            "colorbar": {
             "outlinewidth": 0,
             "ticks": ""
            },
            "colorscale": [
             [
              0,
              "#0d0887"
             ],
             [
              0.1111111111111111,
              "#46039f"
             ],
             [
              0.2222222222222222,
              "#7201a8"
             ],
             [
              0.3333333333333333,
              "#9c179e"
             ],
             [
              0.4444444444444444,
              "#bd3786"
             ],
             [
              0.5555555555555556,
              "#d8576b"
             ],
             [
              0.6666666666666666,
              "#ed7953"
             ],
             [
              0.7777777777777778,
              "#fb9f3a"
             ],
             [
              0.8888888888888888,
              "#fdca26"
             ],
             [
              1,
              "#f0f921"
             ]
            ],
            "type": "surface"
           }
          ],
          "table": [
           {
            "cells": {
             "fill": {
              "color": "#EBF0F8"
             },
             "line": {
              "color": "white"
             }
            },
            "header": {
             "fill": {
              "color": "#C8D4E3"
             },
             "line": {
              "color": "white"
             }
            },
            "type": "table"
           }
          ]
         },
         "layout": {
          "annotationdefaults": {
           "arrowcolor": "#2a3f5f",
           "arrowhead": 0,
           "arrowwidth": 1
          },
          "autotypenumbers": "strict",
          "coloraxis": {
           "colorbar": {
            "outlinewidth": 0,
            "ticks": ""
           }
          },
          "colorscale": {
           "diverging": [
            [
             0,
             "#8e0152"
            ],
            [
             0.1,
             "#c51b7d"
            ],
            [
             0.2,
             "#de77ae"
            ],
            [
             0.3,
             "#f1b6da"
            ],
            [
             0.4,
             "#fde0ef"
            ],
            [
             0.5,
             "#f7f7f7"
            ],
            [
             0.6,
             "#e6f5d0"
            ],
            [
             0.7,
             "#b8e186"
            ],
            [
             0.8,
             "#7fbc41"
            ],
            [
             0.9,
             "#4d9221"
            ],
            [
             1,
             "#276419"
            ]
           ],
           "sequential": [
            [
             0,
             "#0d0887"
            ],
            [
             0.1111111111111111,
             "#46039f"
            ],
            [
             0.2222222222222222,
             "#7201a8"
            ],
            [
             0.3333333333333333,
             "#9c179e"
            ],
            [
             0.4444444444444444,
             "#bd3786"
            ],
            [
             0.5555555555555556,
             "#d8576b"
            ],
            [
             0.6666666666666666,
             "#ed7953"
            ],
            [
             0.7777777777777778,
             "#fb9f3a"
            ],
            [
             0.8888888888888888,
             "#fdca26"
            ],
            [
             1,
             "#f0f921"
            ]
           ],
           "sequentialminus": [
            [
             0,
             "#0d0887"
            ],
            [
             0.1111111111111111,
             "#46039f"
            ],
            [
             0.2222222222222222,
             "#7201a8"
            ],
            [
             0.3333333333333333,
             "#9c179e"
            ],
            [
             0.4444444444444444,
             "#bd3786"
            ],
            [
             0.5555555555555556,
             "#d8576b"
            ],
            [
             0.6666666666666666,
             "#ed7953"
            ],
            [
             0.7777777777777778,
             "#fb9f3a"
            ],
            [
             0.8888888888888888,
             "#fdca26"
            ],
            [
             1,
             "#f0f921"
            ]
           ]
          },
          "colorway": [
           "#636efa",
           "#EF553B",
           "#00cc96",
           "#ab63fa",
           "#FFA15A",
           "#19d3f3",
           "#FF6692",
           "#B6E880",
           "#FF97FF",
           "#FECB52"
          ],
          "font": {
           "color": "#2a3f5f"
          },
          "geo": {
           "bgcolor": "white",
           "lakecolor": "white",
           "landcolor": "#E5ECF6",
           "showlakes": true,
           "showland": true,
           "subunitcolor": "white"
          },
          "hoverlabel": {
           "align": "left"
          },
          "hovermode": "closest",
          "mapbox": {
           "style": "light"
          },
          "paper_bgcolor": "white",
          "plot_bgcolor": "#E5ECF6",
          "polar": {
           "angularaxis": {
            "gridcolor": "white",
            "linecolor": "white",
            "ticks": ""
           },
           "bgcolor": "#E5ECF6",
           "radialaxis": {
            "gridcolor": "white",
            "linecolor": "white",
            "ticks": ""
           }
          },
          "scene": {
           "xaxis": {
            "backgroundcolor": "#E5ECF6",
            "gridcolor": "white",
            "gridwidth": 2,
            "linecolor": "white",
            "showbackground": true,
            "ticks": "",
            "zerolinecolor": "white"
           },
           "yaxis": {
            "backgroundcolor": "#E5ECF6",
            "gridcolor": "white",
            "gridwidth": 2,
            "linecolor": "white",
            "showbackground": true,
            "ticks": "",
            "zerolinecolor": "white"
           },
           "zaxis": {
            "backgroundcolor": "#E5ECF6",
            "gridcolor": "white",
            "gridwidth": 2,
            "linecolor": "white",
            "showbackground": true,
            "ticks": "",
            "zerolinecolor": "white"
           }
          },
          "shapedefaults": {
           "line": {
            "color": "#2a3f5f"
           }
          },
          "ternary": {
           "aaxis": {
            "gridcolor": "white",
            "linecolor": "white",
            "ticks": ""
           },
           "baxis": {
            "gridcolor": "white",
            "linecolor": "white",
            "ticks": ""
           },
           "bgcolor": "#E5ECF6",
           "caxis": {
            "gridcolor": "white",
            "linecolor": "white",
            "ticks": ""
           }
          },
          "title": {
           "x": 0.05
          },
          "xaxis": {
           "automargin": true,
           "gridcolor": "white",
           "linecolor": "white",
           "ticks": "",
           "title": {
            "standoff": 15
           },
           "zerolinecolor": "white",
           "zerolinewidth": 2
          },
          "yaxis": {
           "automargin": true,
           "gridcolor": "white",
           "linecolor": "white",
           "ticks": "",
           "title": {
            "standoff": 15
           },
           "zerolinecolor": "white",
           "zerolinewidth": 2
          }
         }
        },
        "width": 900,
        "xaxis": {
         "anchor": "y",
         "domain": [
          0,
          0.98
         ],
         "dtick": 1,
         "range": [
          1985.5,
          2016.5
         ],
         "title": {
          "text": ""
         }
        },
        "xaxis2": {
         "anchor": "y2",
         "domain": [
          0,
          0.98
         ],
         "matches": "x",
         "showticklabels": false
        },
        "yaxis": {
         "anchor": "x",
         "domain": [
          0,
          0.475
         ],
         "range": [
          0,
          100
         ],
         "title": {
          "text": "Production (%)"
         }
        },
        "yaxis2": {
         "anchor": "x2",
         "domain": [
          0.525,
          1
         ],
         "title": {
          "text": "Production (t)"
         }
        }
       }
      },
      "text/html": [
       "<div>                            <div id=\"235523f0-185d-40e0-9882-39efde41beee\" class=\"plotly-graph-div\" style=\"height:600px; width:900px;\"></div>            <script type=\"text/javascript\">                require([\"plotly\"], function(Plotly) {                    window.PLOTLYENV=window.PLOTLYENV || {};                                    if (document.getElementById(\"235523f0-185d-40e0-9882-39efde41beee\")) {                    Plotly.newPlot(                        \"235523f0-185d-40e0-9882-39efde41beee\",                        [{\"alignmentgroup\":\"True\",\"hovertemplate\":\"product=Maize<br>season_name=Main season<br>type=orig_unit<br>year=%{x}<br>value=%{y}<extra></extra>\",\"legendgroup\":\"Maize\",\"marker\":{\"color\":\"#636efa\",\"pattern\":{\"shape\":\"\"}},\"name\":\"Maize\",\"offsetgroup\":\"Maize\",\"orientation\":\"v\",\"showlegend\":true,\"textposition\":\"auto\",\"x\":[1986,2015,2016],\"xaxis\":\"x2\",\"y\":[9851.0,22877.316,25165.047599999998],\"yaxis\":\"y2\",\"type\":\"bar\"},{\"alignmentgroup\":\"True\",\"hovertemplate\":\"product=Maize<br>season_name=Main season<br>type=percent<br>year=%{x}<br>value=%{y}<extra></extra>\",\"legendgroup\":\"Maize\",\"marker\":{\"color\":\"#636efa\",\"pattern\":{\"shape\":\"\"}},\"name\":\"Maize\",\"offsetgroup\":\"Maize\",\"orientation\":\"v\",\"showlegend\":false,\"textposition\":\"auto\",\"x\":[1986,2015,2016],\"xaxis\":\"x\",\"y\":[1.7814161996574964,0.6222052021378969,0.5916872972346886],\"yaxis\":\"y\",\"type\":\"bar\"},{\"alignmentgroup\":\"True\",\"hovertemplate\":\"product=Rice<br>season_name=Main season<br>type=orig_unit<br>year=%{x}<br>value=%{y}<extra></extra>\",\"legendgroup\":\"Rice\",\"marker\":{\"color\":\"#00cc96\",\"pattern\":{\"shape\":\"\"}},\"name\":\"Rice\",\"offsetgroup\":\"Rice\",\"orientation\":\"v\",\"showlegend\":true,\"textposition\":\"auto\",\"x\":[1986,2015,2016],\"xaxis\":\"x2\",\"y\":[524989.0,869958.0,1060779.0],\"yaxis\":\"y2\",\"type\":\"bar\"},{\"alignmentgroup\":\"True\",\"hovertemplate\":\"product=Rice<br>season_name=Main season<br>type=percent<br>year=%{x}<br>value=%{y}<extra></extra>\",\"legendgroup\":\"Rice\",\"marker\":{\"color\":\"#00cc96\",\"pattern\":{\"shape\":\"\"}},\"name\":\"Rice\",\"offsetgroup\":\"Rice\",\"orientation\":\"v\",\"showlegend\":false,\"textposition\":\"auto\",\"x\":[1986,2015,2016],\"xaxis\":\"x\",\"y\":[94.93695150157237,23.660659897405818,24.941318190604804],\"yaxis\":\"y\",\"type\":\"bar\"},{\"alignmentgroup\":\"True\",\"hovertemplate\":\"product=Sorghum<br>season_name=Main season<br>type=orig_unit<br>year=%{x}<br>value=%{y}<extra></extra>\",\"legendgroup\":\"Sorghum\",\"marker\":{\"color\":\"#ab63fa\",\"pattern\":{\"shape\":\"\"}},\"name\":\"Sorghum\",\"offsetgroup\":\"Sorghum\",\"orientation\":\"v\",\"showlegend\":true,\"textposition\":\"auto\",\"x\":[2015,2016],\"xaxis\":\"x2\",\"y\":[45555.5386,50111.09246],\"yaxis\":\"y2\",\"type\":\"bar\"},{\"alignmentgroup\":\"True\",\"hovertemplate\":\"product=Sorghum<br>season_name=Main season<br>type=percent<br>year=%{x}<br>value=%{y}<extra></extra>\",\"legendgroup\":\"Sorghum\",\"marker\":{\"color\":\"#ab63fa\",\"pattern\":{\"shape\":\"\"}},\"name\":\"Sorghum\",\"offsetgroup\":\"Sorghum\",\"orientation\":\"v\",\"showlegend\":false,\"textposition\":\"auto\",\"x\":[2015,2016],\"xaxis\":\"x\",\"y\":[1.2389955667489037,1.1782253437555583],\"yaxis\":\"y\",\"type\":\"bar\"},{\"alignmentgroup\":\"True\",\"hovertemplate\":\"product=Cassava<br>season_name=Main season<br>type=orig_unit<br>year=%{x}<br>value=%{y}<extra></extra>\",\"legendgroup\":\"Cassava\",\"marker\":{\"color\":\"#FFA15A\",\"pattern\":{\"shape\":\"\"}},\"name\":\"Cassava\",\"offsetgroup\":\"Cassava\",\"orientation\":\"v\",\"showlegend\":true,\"textposition\":\"auto\",\"x\":[2015,2016],\"xaxis\":\"x2\",\"y\":[2549288.0,2909272.0],\"yaxis\":\"y2\",\"type\":\"bar\"},{\"alignmentgroup\":\"True\",\"hovertemplate\":\"product=Cassava<br>season_name=Main season<br>type=percent<br>year=%{x}<br>value=%{y}<extra></extra>\",\"legendgroup\":\"Cassava\",\"marker\":{\"color\":\"#FFA15A\",\"pattern\":{\"shape\":\"\"}},\"name\":\"Cassava\",\"offsetgroup\":\"Cassava\",\"orientation\":\"v\",\"showlegend\":false,\"textposition\":\"auto\",\"x\":[2015,2016],\"xaxis\":\"x\",\"y\":[69.33419354559402,68.40357761137543],\"yaxis\":\"y\",\"type\":\"bar\"},{\"alignmentgroup\":\"True\",\"hovertemplate\":\"product=Groundnuts<br>season_name=Main season<br>type=orig_unit<br>year=%{x}<br>value=%{y}<extra></extra>\",\"legendgroup\":\"Groundnuts\",\"marker\":{\"color\":\"#19d3f3\",\"pattern\":{\"shape\":\"\"}},\"name\":\"Groundnuts\",\"offsetgroup\":\"Groundnuts\",\"orientation\":\"v\",\"showlegend\":true,\"textposition\":\"auto\",\"x\":[1986,2015,2016],\"xaxis\":\"x2\",\"y\":[18147.0,25337.0,22388.0],\"yaxis\":\"y2\",\"type\":\"bar\"},{\"alignmentgroup\":\"True\",\"hovertemplate\":\"product=Groundnuts<br>season_name=Main season<br>type=percent<br>year=%{x}<br>value=%{y}<extra></extra>\",\"legendgroup\":\"Groundnuts\",\"marker\":{\"color\":\"#19d3f3\",\"pattern\":{\"shape\":\"\"}},\"name\":\"Groundnuts\",\"offsetgroup\":\"Groundnuts\",\"orientation\":\"v\",\"showlegend\":false,\"textposition\":\"auto\",\"x\":[1986,2015,2016],\"xaxis\":\"x\",\"y\":[3.281632298770134,0.6891023932426292,0.5263926149096658],\"yaxis\":\"y\",\"type\":\"bar\"},{\"alignmentgroup\":\"True\",\"hovertemplate\":\"product=Okras<br>season_name=Main season<br>type=orig_unit<br>year=%{x}<br>value=%{y}<extra></extra>\",\"legendgroup\":\"Okras\",\"marker\":{\"color\":\"#FF6692\",\"pattern\":{\"shape\":\"\"}},\"name\":\"Okras\",\"offsetgroup\":\"Okras\",\"orientation\":\"v\",\"showlegend\":true,\"textposition\":\"auto\",\"x\":[2015,2016],\"xaxis\":\"x2\",\"y\":[6079.2435,6687.16785],\"yaxis\":\"y2\",\"type\":\"bar\"},{\"alignmentgroup\":\"True\",\"hovertemplate\":\"product=Okras<br>season_name=Main season<br>type=percent<br>year=%{x}<br>value=%{y}<extra></extra>\",\"legendgroup\":\"Okras\",\"marker\":{\"color\":\"#FF6692\",\"pattern\":{\"shape\":\"\"}},\"name\":\"Okras\",\"offsetgroup\":\"Okras\",\"orientation\":\"v\",\"showlegend\":false,\"textposition\":\"auto\",\"x\":[2015,2016],\"xaxis\":\"x\",\"y\":[0.16534006571238494,0.15723047038151455],\"yaxis\":\"y\",\"type\":\"bar\"},{\"alignmentgroup\":\"True\",\"hovertemplate\":\"product=Sesame Seed<br>season_name=Main season<br>type=orig_unit<br>year=%{x}<br>value=%{y}<extra></extra>\",\"legendgroup\":\"Sesame Seed\",\"marker\":{\"color\":\"#B6E880\",\"pattern\":{\"shape\":\"\"}},\"name\":\"Sesame Seed\",\"offsetgroup\":\"Sesame Seed\",\"orientation\":\"v\",\"showlegend\":true,\"textposition\":\"auto\",\"x\":[2015,2016],\"xaxis\":\"x2\",\"y\":[5775.264,6352.7904],\"yaxis\":\"y2\",\"type\":\"bar\"},{\"alignmentgroup\":\"True\",\"hovertemplate\":\"product=Sesame Seed<br>season_name=Main season<br>type=percent<br>year=%{x}<br>value=%{y}<extra></extra>\",\"legendgroup\":\"Sesame Seed\",\"marker\":{\"color\":\"#B6E880\",\"pattern\":{\"shape\":\"\"}},\"name\":\"Sesame Seed\",\"offsetgroup\":\"Sesame Seed\",\"orientation\":\"v\",\"showlegend\":false,\"textposition\":\"auto\",\"x\":[2015,2016],\"xaxis\":\"x\",\"y\":[0.1570725912305324,0.14936849877742636],\"yaxis\":\"y\",\"type\":\"bar\"},{\"alignmentgroup\":\"True\",\"hovertemplate\":\"product=Sweet Potatoes<br>season_name=Main season<br>type=orig_unit<br>year=%{x}<br>value=%{y}<extra></extra>\",\"legendgroup\":\"Sweet Potatoes\",\"marker\":{\"color\":\"#FF97FF\",\"pattern\":{\"shape\":\"\"}},\"name\":\"Sweet Potatoes\",\"offsetgroup\":\"Sweet Potatoes\",\"orientation\":\"v\",\"showlegend\":true,\"textposition\":\"auto\",\"x\":[2015,2016],\"xaxis\":\"x2\",\"y\":[151941.71234,172344.083912],\"yaxis\":\"y2\",\"type\":\"bar\"},{\"alignmentgroup\":\"True\",\"hovertemplate\":\"product=Sweet Potatoes<br>season_name=Main season<br>type=percent<br>year=%{x}<br>value=%{y}<extra></extra>\",\"legendgroup\":\"Sweet Potatoes\",\"marker\":{\"color\":\"#FF97FF\",\"pattern\":{\"shape\":\"\"}},\"name\":\"Sweet Potatoes\",\"offsetgroup\":\"Sweet Potatoes\",\"orientation\":\"v\",\"showlegend\":false,\"textposition\":\"auto\",\"x\":[2015,2016],\"xaxis\":\"x\",\"y\":[4.132430737927819,4.052199972960897],\"yaxis\":\"y\",\"type\":\"bar\"}],                        {\"template\":{\"data\":{\"histogram2dcontour\":[{\"type\":\"histogram2dcontour\",\"colorbar\":{\"outlinewidth\":0,\"ticks\":\"\"},\"colorscale\":[[0.0,\"#0d0887\"],[0.1111111111111111,\"#46039f\"],[0.2222222222222222,\"#7201a8\"],[0.3333333333333333,\"#9c179e\"],[0.4444444444444444,\"#bd3786\"],[0.5555555555555556,\"#d8576b\"],[0.6666666666666666,\"#ed7953\"],[0.7777777777777778,\"#fb9f3a\"],[0.8888888888888888,\"#fdca26\"],[1.0,\"#f0f921\"]]}],\"choropleth\":[{\"type\":\"choropleth\",\"colorbar\":{\"outlinewidth\":0,\"ticks\":\"\"}}],\"histogram2d\":[{\"type\":\"histogram2d\",\"colorbar\":{\"outlinewidth\":0,\"ticks\":\"\"},\"colorscale\":[[0.0,\"#0d0887\"],[0.1111111111111111,\"#46039f\"],[0.2222222222222222,\"#7201a8\"],[0.3333333333333333,\"#9c179e\"],[0.4444444444444444,\"#bd3786\"],[0.5555555555555556,\"#d8576b\"],[0.6666666666666666,\"#ed7953\"],[0.7777777777777778,\"#fb9f3a\"],[0.8888888888888888,\"#fdca26\"],[1.0,\"#f0f921\"]]}],\"heatmap\":[{\"type\":\"heatmap\",\"colorbar\":{\"outlinewidth\":0,\"ticks\":\"\"},\"colorscale\":[[0.0,\"#0d0887\"],[0.1111111111111111,\"#46039f\"],[0.2222222222222222,\"#7201a8\"],[0.3333333333333333,\"#9c179e\"],[0.4444444444444444,\"#bd3786\"],[0.5555555555555556,\"#d8576b\"],[0.6666666666666666,\"#ed7953\"],[0.7777777777777778,\"#fb9f3a\"],[0.8888888888888888,\"#fdca26\"],[1.0,\"#f0f921\"]]}],\"heatmapgl\":[{\"type\":\"heatmapgl\",\"colorbar\":{\"outlinewidth\":0,\"ticks\":\"\"},\"colorscale\":[[0.0,\"#0d0887\"],[0.1111111111111111,\"#46039f\"],[0.2222222222222222,\"#7201a8\"],[0.3333333333333333,\"#9c179e\"],[0.4444444444444444,\"#bd3786\"],[0.5555555555555556,\"#d8576b\"],[0.6666666666666666,\"#ed7953\"],[0.7777777777777778,\"#fb9f3a\"],[0.8888888888888888,\"#fdca26\"],[1.0,\"#f0f921\"]]}],\"contourcarpet\":[{\"type\":\"contourcarpet\",\"colorbar\":{\"outlinewidth\":0,\"ticks\":\"\"}}],\"contour\":[{\"type\":\"contour\",\"colorbar\":{\"outlinewidth\":0,\"ticks\":\"\"},\"colorscale\":[[0.0,\"#0d0887\"],[0.1111111111111111,\"#46039f\"],[0.2222222222222222,\"#7201a8\"],[0.3333333333333333,\"#9c179e\"],[0.4444444444444444,\"#bd3786\"],[0.5555555555555556,\"#d8576b\"],[0.6666666666666666,\"#ed7953\"],[0.7777777777777778,\"#fb9f3a\"],[0.8888888888888888,\"#fdca26\"],[1.0,\"#f0f921\"]]}],\"surface\":[{\"type\":\"surface\",\"colorbar\":{\"outlinewidth\":0,\"ticks\":\"\"},\"colorscale\":[[0.0,\"#0d0887\"],[0.1111111111111111,\"#46039f\"],[0.2222222222222222,\"#7201a8\"],[0.3333333333333333,\"#9c179e\"],[0.4444444444444444,\"#bd3786\"],[0.5555555555555556,\"#d8576b\"],[0.6666666666666666,\"#ed7953\"],[0.7777777777777778,\"#fb9f3a\"],[0.8888888888888888,\"#fdca26\"],[1.0,\"#f0f921\"]]}],\"mesh3d\":[{\"type\":\"mesh3d\",\"colorbar\":{\"outlinewidth\":0,\"ticks\":\"\"}}],\"scatter\":[{\"fillpattern\":{\"fillmode\":\"overlay\",\"size\":10,\"solidity\":0.2},\"type\":\"scatter\"}],\"parcoords\":[{\"type\":\"parcoords\",\"line\":{\"colorbar\":{\"outlinewidth\":0,\"ticks\":\"\"}}}],\"scatterpolargl\":[{\"type\":\"scatterpolargl\",\"marker\":{\"colorbar\":{\"outlinewidth\":0,\"ticks\":\"\"}}}],\"bar\":[{\"error_x\":{\"color\":\"#2a3f5f\"},\"error_y\":{\"color\":\"#2a3f5f\"},\"marker\":{\"line\":{\"color\":\"#E5ECF6\",\"width\":0.5},\"pattern\":{\"fillmode\":\"overlay\",\"size\":10,\"solidity\":0.2}},\"type\":\"bar\"}],\"scattergeo\":[{\"type\":\"scattergeo\",\"marker\":{\"colorbar\":{\"outlinewidth\":0,\"ticks\":\"\"}}}],\"scatterpolar\":[{\"type\":\"scatterpolar\",\"marker\":{\"colorbar\":{\"outlinewidth\":0,\"ticks\":\"\"}}}],\"histogram\":[{\"marker\":{\"pattern\":{\"fillmode\":\"overlay\",\"size\":10,\"solidity\":0.2}},\"type\":\"histogram\"}],\"scattergl\":[{\"type\":\"scattergl\",\"marker\":{\"colorbar\":{\"outlinewidth\":0,\"ticks\":\"\"}}}],\"scatter3d\":[{\"type\":\"scatter3d\",\"line\":{\"colorbar\":{\"outlinewidth\":0,\"ticks\":\"\"}},\"marker\":{\"colorbar\":{\"outlinewidth\":0,\"ticks\":\"\"}}}],\"scattermapbox\":[{\"type\":\"scattermapbox\",\"marker\":{\"colorbar\":{\"outlinewidth\":0,\"ticks\":\"\"}}}],\"scatterternary\":[{\"type\":\"scatterternary\",\"marker\":{\"colorbar\":{\"outlinewidth\":0,\"ticks\":\"\"}}}],\"scattercarpet\":[{\"type\":\"scattercarpet\",\"marker\":{\"colorbar\":{\"outlinewidth\":0,\"ticks\":\"\"}}}],\"carpet\":[{\"aaxis\":{\"endlinecolor\":\"#2a3f5f\",\"gridcolor\":\"white\",\"linecolor\":\"white\",\"minorgridcolor\":\"white\",\"startlinecolor\":\"#2a3f5f\"},\"baxis\":{\"endlinecolor\":\"#2a3f5f\",\"gridcolor\":\"white\",\"linecolor\":\"white\",\"minorgridcolor\":\"white\",\"startlinecolor\":\"#2a3f5f\"},\"type\":\"carpet\"}],\"table\":[{\"cells\":{\"fill\":{\"color\":\"#EBF0F8\"},\"line\":{\"color\":\"white\"}},\"header\":{\"fill\":{\"color\":\"#C8D4E3\"},\"line\":{\"color\":\"white\"}},\"type\":\"table\"}],\"barpolar\":[{\"marker\":{\"line\":{\"color\":\"#E5ECF6\",\"width\":0.5},\"pattern\":{\"fillmode\":\"overlay\",\"size\":10,\"solidity\":0.2}},\"type\":\"barpolar\"}],\"pie\":[{\"automargin\":true,\"type\":\"pie\"}]},\"layout\":{\"autotypenumbers\":\"strict\",\"colorway\":[\"#636efa\",\"#EF553B\",\"#00cc96\",\"#ab63fa\",\"#FFA15A\",\"#19d3f3\",\"#FF6692\",\"#B6E880\",\"#FF97FF\",\"#FECB52\"],\"font\":{\"color\":\"#2a3f5f\"},\"hovermode\":\"closest\",\"hoverlabel\":{\"align\":\"left\"},\"paper_bgcolor\":\"white\",\"plot_bgcolor\":\"#E5ECF6\",\"polar\":{\"bgcolor\":\"#E5ECF6\",\"angularaxis\":{\"gridcolor\":\"white\",\"linecolor\":\"white\",\"ticks\":\"\"},\"radialaxis\":{\"gridcolor\":\"white\",\"linecolor\":\"white\",\"ticks\":\"\"}},\"ternary\":{\"bgcolor\":\"#E5ECF6\",\"aaxis\":{\"gridcolor\":\"white\",\"linecolor\":\"white\",\"ticks\":\"\"},\"baxis\":{\"gridcolor\":\"white\",\"linecolor\":\"white\",\"ticks\":\"\"},\"caxis\":{\"gridcolor\":\"white\",\"linecolor\":\"white\",\"ticks\":\"\"}},\"coloraxis\":{\"colorbar\":{\"outlinewidth\":0,\"ticks\":\"\"}},\"colorscale\":{\"sequential\":[[0.0,\"#0d0887\"],[0.1111111111111111,\"#46039f\"],[0.2222222222222222,\"#7201a8\"],[0.3333333333333333,\"#9c179e\"],[0.4444444444444444,\"#bd3786\"],[0.5555555555555556,\"#d8576b\"],[0.6666666666666666,\"#ed7953\"],[0.7777777777777778,\"#fb9f3a\"],[0.8888888888888888,\"#fdca26\"],[1.0,\"#f0f921\"]],\"sequentialminus\":[[0.0,\"#0d0887\"],[0.1111111111111111,\"#46039f\"],[0.2222222222222222,\"#7201a8\"],[0.3333333333333333,\"#9c179e\"],[0.4444444444444444,\"#bd3786\"],[0.5555555555555556,\"#d8576b\"],[0.6666666666666666,\"#ed7953\"],[0.7777777777777778,\"#fb9f3a\"],[0.8888888888888888,\"#fdca26\"],[1.0,\"#f0f921\"]],\"diverging\":[[0,\"#8e0152\"],[0.1,\"#c51b7d\"],[0.2,\"#de77ae\"],[0.3,\"#f1b6da\"],[0.4,\"#fde0ef\"],[0.5,\"#f7f7f7\"],[0.6,\"#e6f5d0\"],[0.7,\"#b8e186\"],[0.8,\"#7fbc41\"],[0.9,\"#4d9221\"],[1,\"#276419\"]]},\"xaxis\":{\"gridcolor\":\"white\",\"linecolor\":\"white\",\"ticks\":\"\",\"title\":{\"standoff\":15},\"zerolinecolor\":\"white\",\"automargin\":true,\"zerolinewidth\":2},\"yaxis\":{\"gridcolor\":\"white\",\"linecolor\":\"white\",\"ticks\":\"\",\"title\":{\"standoff\":15},\"zerolinecolor\":\"white\",\"automargin\":true,\"zerolinewidth\":2},\"scene\":{\"xaxis\":{\"backgroundcolor\":\"#E5ECF6\",\"gridcolor\":\"white\",\"linecolor\":\"white\",\"showbackground\":true,\"ticks\":\"\",\"zerolinecolor\":\"white\",\"gridwidth\":2},\"yaxis\":{\"backgroundcolor\":\"#E5ECF6\",\"gridcolor\":\"white\",\"linecolor\":\"white\",\"showbackground\":true,\"ticks\":\"\",\"zerolinecolor\":\"white\",\"gridwidth\":2},\"zaxis\":{\"backgroundcolor\":\"#E5ECF6\",\"gridcolor\":\"white\",\"linecolor\":\"white\",\"showbackground\":true,\"ticks\":\"\",\"zerolinecolor\":\"white\",\"gridwidth\":2}},\"shapedefaults\":{\"line\":{\"color\":\"#2a3f5f\"}},\"annotationdefaults\":{\"arrowcolor\":\"#2a3f5f\",\"arrowhead\":0,\"arrowwidth\":1},\"geo\":{\"bgcolor\":\"white\",\"landcolor\":\"#E5ECF6\",\"subunitcolor\":\"white\",\"showland\":true,\"showlakes\":true,\"lakecolor\":\"white\"},\"title\":{\"x\":0.05},\"mapbox\":{\"style\":\"light\"}}},\"xaxis\":{\"anchor\":\"y\",\"domain\":[0.0,0.98],\"title\":{\"text\":\"\"},\"dtick\":1,\"range\":[1985.5,2016.5]},\"yaxis\":{\"anchor\":\"x\",\"domain\":[0.0,0.475],\"title\":{\"text\":\"Production (%)\"},\"range\":[0,100]},\"xaxis2\":{\"anchor\":\"y2\",\"domain\":[0.0,0.98],\"matches\":\"x\",\"showticklabels\":false},\"yaxis2\":{\"anchor\":\"x2\",\"domain\":[0.525,1.0],\"title\":{\"text\":\"Production (t)\"}},\"annotations\":[{\"showarrow\":false,\"text\":\"\",\"textangle\":90,\"x\":0.98,\"xanchor\":\"left\",\"xref\":\"paper\",\"y\":0.2375,\"yanchor\":\"middle\",\"yref\":\"paper\"},{\"showarrow\":false,\"text\":\"\",\"textangle\":90,\"x\":0.98,\"xanchor\":\"left\",\"xref\":\"paper\",\"y\":0.7625,\"yanchor\":\"middle\",\"yref\":\"paper\"},{\"align\":\"left\",\"font\":{\"color\":\"dimgrey\",\"family\":\"arial\",\"size\":15},\"showarrow\":false,\"text\":\"National crop production in Sierra Leone - Main season\",\"x\":0,\"xref\":\"paper\",\"y\":-0.13,\"yref\":\"paper\"}],\"legend\":{\"title\":{\"text\":\"Product\"},\"tracegroupgap\":0,\"x\":1.0,\"y\":1.01},\"margin\":{\"t\":0,\"r\":0,\"l\":0,\"b\":0},\"barmode\":\"relative\",\"font\":{\"family\":\"arial\",\"size\":15,\"color\":\"black\"},\"width\":900,\"height\":600},                        {\"responsive\": true}                    ).then(function(){\n",
       "                            \n",
       "var gd = document.getElementById('235523f0-185d-40e0-9882-39efde41beee');\n",
       "var x = new MutationObserver(function (mutations, observer) {{\n",
       "        var display = window.getComputedStyle(gd).display;\n",
       "        if (!display || display === 'none') {{\n",
       "            console.log([gd, 'removed!']);\n",
       "            Plotly.purge(gd);\n",
       "            observer.disconnect();\n",
       "        }}\n",
       "}});\n",
       "\n",
       "// Listen for the removal of the full notebook cells\n",
       "var notebookContainer = gd.closest('#notebook-container');\n",
       "if (notebookContainer) {{\n",
       "    x.observe(notebookContainer, {childList: true});\n",
       "}}\n",
       "\n",
       "// Listen for the clearing of the current output cell\n",
       "var outputEl = gd.closest('.output');\n",
       "if (outputEl) {{\n",
       "    x.observe(outputEl, {childList: true});\n",
       "}}\n",
       "\n",
       "                        })                };                });            </script>        </div>"
      ]
     },
     "metadata": {},
     "output_type": "display_data"
    }
   ],
   "source": [
    "# Bar chart of national crop production\n",
    "country_iso, country_name = 'SL', 'Sierra Leone'\n",
    "df = pd.read_csv('../data/crop/adm_crop_production_%s.csv' % country_iso, index_col=0)\n",
    "df['year'] = df['harvest_year']\n",
    "year = [df['year'].min(), df['year'].max()]\n",
    "product_order = ['Maize', 'Millet', 'Rice', 'Sorghum']\n",
    "for season_name   in ['Main']:\n",
    "    footnote = 'National crop production in %s - %s' % (country_name, season_name)\n",
    "    fn_save = '../figures/%s_bar_natgrainprod_%s.png' % (country_iso, season_name)\n",
    "    sub = df[df['season_name'] == season_name]\n",
    "    fig = PlotBarProduction(sub, year, product_order, footnote)#, fn_save)\n",
    "    fig.show()"
   ]
  },
  {
   "cell_type": "code",
   "execution_count": 7,
   "id": "67106e98",
   "metadata": {},
   "outputs": [
    {
     "data": {
      "application/vnd.plotly.v1+json": {
       "config": {
        "plotlyServerURL": "https://plot.ly"
       },
       "data": [
        {
         "connectgaps": false,
         "hovertemplate": "fnid=SL1960A20101<br>indicator=production<br>year=%{x}<br>value=%{y}<extra></extra>",
         "legendgroup": "SL1960A20101",
         "line": {
          "color": "#636efa",
          "dash": "solid"
         },
         "marker": {
          "symbol": "circle"
         },
         "mode": "markers+lines",
         "name": "SL1960A20101",
         "showlegend": true,
         "type": "scattergl",
         "x": [
          1986,
          1987,
          1988,
          1989,
          1990,
          1991,
          1992,
          1993,
          1994,
          1995,
          1996,
          1997,
          1998,
          1999,
          2000,
          2001,
          2002,
          2003,
          2004,
          2005,
          2006,
          2007,
          2008,
          2009,
          2010,
          2011,
          2012,
          2013,
          2014,
          2015,
          2016
         ],
         "xaxis": "x3",
         "y": [
          362,
          null,
          null,
          null,
          null,
          null,
          null,
          null,
          null,
          null,
          null,
          null,
          null,
          null,
          null,
          null,
          null,
          null,
          null,
          null,
          null,
          null,
          null,
          null,
          null,
          null,
          null,
          null,
          null,
          1457.61,
          1603.371
         ],
         "yaxis": "y3"
        },
        {
         "connectgaps": false,
         "hovertemplate": "fnid=SL1960A20101<br>indicator=area<br>year=%{x}<br>value=%{y}<extra></extra>",
         "legendgroup": "SL1960A20101",
         "line": {
          "color": "#636efa",
          "dash": "solid"
         },
         "marker": {
          "symbol": "circle"
         },
         "mode": "markers+lines",
         "name": "SL1960A20101",
         "showlegend": false,
         "type": "scattergl",
         "x": [
          1986,
          1987,
          1988,
          1989,
          1990,
          1991,
          1992,
          1993,
          1994,
          1995,
          1996,
          1997,
          1998,
          1999,
          2000,
          2001,
          2002,
          2003,
          2004,
          2005,
          2006,
          2007,
          2008,
          2009,
          2010,
          2011,
          2012,
          2013,
          2014,
          2015,
          2016
         ],
         "xaxis": "x2",
         "y": [
          807,
          null,
          null,
          null,
          null,
          null,
          null,
          null,
          null,
          null,
          null,
          null,
          null,
          null,
          null,
          null,
          null,
          231.255,
          836,
          null,
          null,
          null,
          null,
          null,
          null,
          null,
          null,
          null,
          null,
          null,
          null
         ],
         "yaxis": "y2"
        },
        {
         "connectgaps": false,
         "hovertemplate": "fnid=SL1960A20101<br>indicator=yield<br>year=%{x}<br>value=%{y}<extra></extra>",
         "legendgroup": "SL1960A20101",
         "line": {
          "color": "#636efa",
          "dash": "solid"
         },
         "marker": {
          "symbol": "circle"
         },
         "mode": "markers+lines",
         "name": "SL1960A20101",
         "showlegend": false,
         "type": "scattergl",
         "x": [
          1986,
          1987,
          1988,
          1989,
          1990,
          1991,
          1992,
          1993,
          1994,
          1995,
          1996,
          1997,
          1998,
          1999,
          2000,
          2001,
          2002,
          2003,
          2004,
          2005,
          2006,
          2007,
          2008,
          2009,
          2010,
          2011,
          2012,
          2013,
          2014,
          2015,
          2016
         ],
         "xaxis": "x",
         "y": [
          0.4485749690210657,
          null,
          null,
          null,
          null,
          null,
          null,
          null,
          null,
          null,
          null,
          null,
          null,
          null,
          null,
          null,
          null,
          null,
          null,
          null,
          null,
          null,
          null,
          null,
          null,
          null,
          null,
          null,
          null,
          null,
          null
         ],
         "yaxis": "y"
        },
        {
         "connectgaps": false,
         "hovertemplate": "fnid=SL1960A20102<br>indicator=production<br>year=%{x}<br>value=%{y}<extra></extra>",
         "legendgroup": "SL1960A20102",
         "line": {
          "color": "#EF553B",
          "dash": "solid"
         },
         "marker": {
          "symbol": "circle"
         },
         "mode": "markers+lines",
         "name": "SL1960A20102",
         "showlegend": true,
         "type": "scattergl",
         "x": [
          1986,
          1987,
          1988,
          1989,
          1990,
          1991,
          1992,
          1993,
          1994,
          1995,
          1996,
          1997,
          1998,
          1999,
          2000,
          2001,
          2002,
          2003,
          2004,
          2005,
          2006,
          2007,
          2008,
          2009,
          2010,
          2011,
          2012,
          2013,
          2014,
          2015,
          2016
         ],
         "xaxis": "x3",
         "y": [
          286,
          null,
          null,
          null,
          null,
          null,
          null,
          null,
          null,
          null,
          null,
          null,
          null,
          null,
          null,
          null,
          null,
          null,
          null,
          null,
          null,
          null,
          null,
          null,
          null,
          null,
          null,
          null,
          null,
          2188.494,
          2407.3434
         ],
         "yaxis": "y3"
        },
        {
         "connectgaps": false,
         "hovertemplate": "fnid=SL1960A20102<br>indicator=area<br>year=%{x}<br>value=%{y}<extra></extra>",
         "legendgroup": "SL1960A20102",
         "line": {
          "color": "#EF553B",
          "dash": "solid"
         },
         "marker": {
          "symbol": "circle"
         },
         "mode": "markers+lines",
         "name": "SL1960A20102",
         "showlegend": false,
         "type": "scattergl",
         "x": [
          1986,
          1987,
          1988,
          1989,
          1990,
          1991,
          1992,
          1993,
          1994,
          1995,
          1996,
          1997,
          1998,
          1999,
          2000,
          2001,
          2002,
          2003,
          2004,
          2005,
          2006,
          2007,
          2008,
          2009,
          2010,
          2011,
          2012,
          2013,
          2014,
          2015,
          2016
         ],
         "xaxis": "x2",
         "y": [
          637,
          null,
          null,
          null,
          null,
          null,
          null,
          null,
          null,
          null,
          null,
          null,
          null,
          null,
          null,
          null,
          null,
          455.625,
          9042,
          null,
          null,
          null,
          null,
          null,
          null,
          null,
          null,
          null,
          null,
          null,
          null
         ],
         "yaxis": "y2"
        },
        {
         "connectgaps": false,
         "hovertemplate": "fnid=SL1960A20102<br>indicator=yield<br>year=%{x}<br>value=%{y}<extra></extra>",
         "legendgroup": "SL1960A20102",
         "line": {
          "color": "#EF553B",
          "dash": "solid"
         },
         "marker": {
          "symbol": "circle"
         },
         "mode": "markers+lines",
         "name": "SL1960A20102",
         "showlegend": false,
         "type": "scattergl",
         "x": [
          1986,
          1987,
          1988,
          1989,
          1990,
          1991,
          1992,
          1993,
          1994,
          1995,
          1996,
          1997,
          1998,
          1999,
          2000,
          2001,
          2002,
          2003,
          2004,
          2005,
          2006,
          2007,
          2008,
          2009,
          2010,
          2011,
          2012,
          2013,
          2014,
          2015,
          2016
         ],
         "xaxis": "x",
         "y": [
          0.4489795918367347,
          null,
          null,
          null,
          null,
          null,
          null,
          null,
          null,
          null,
          null,
          null,
          null,
          null,
          null,
          null,
          null,
          null,
          null,
          null,
          null,
          null,
          null,
          null,
          null,
          null,
          null,
          null,
          null,
          null,
          null
         ],
         "yaxis": "y"
        },
        {
         "connectgaps": false,
         "hovertemplate": "fnid=SL1960A20103<br>indicator=production<br>year=%{x}<br>value=%{y}<extra></extra>",
         "legendgroup": "SL1960A20103",
         "line": {
          "color": "#00cc96",
          "dash": "solid"
         },
         "marker": {
          "symbol": "circle"
         },
         "mode": "markers+lines",
         "name": "SL1960A20103",
         "showlegend": true,
         "type": "scattergl",
         "x": [
          1986,
          1987,
          1988,
          1989,
          1990,
          1991,
          1992,
          1993,
          1994,
          1995,
          1996,
          1997,
          1998,
          1999,
          2000,
          2001,
          2002,
          2003,
          2004,
          2005,
          2006,
          2007,
          2008,
          2009,
          2010,
          2011,
          2012,
          2013,
          2014,
          2015,
          2016
         ],
         "xaxis": "x3",
         "y": [
          164,
          null,
          null,
          null,
          null,
          null,
          null,
          null,
          null,
          null,
          null,
          null,
          null,
          null,
          null,
          null,
          null,
          null,
          null,
          null,
          null,
          null,
          null,
          null,
          null,
          null,
          null,
          null,
          null,
          2176.944,
          2394.6384
         ],
         "yaxis": "y3"
        },
        {
         "connectgaps": false,
         "hovertemplate": "fnid=SL1960A20103<br>indicator=area<br>year=%{x}<br>value=%{y}<extra></extra>",
         "legendgroup": "SL1960A20103",
         "line": {
          "color": "#00cc96",
          "dash": "solid"
         },
         "marker": {
          "symbol": "circle"
         },
         "mode": "markers+lines",
         "name": "SL1960A20103",
         "showlegend": false,
         "type": "scattergl",
         "x": [
          1986,
          1987,
          1988,
          1989,
          1990,
          1991,
          1992,
          1993,
          1994,
          1995,
          1996,
          1997,
          1998,
          1999,
          2000,
          2001,
          2002,
          2003,
          2004,
          2005,
          2006,
          2007,
          2008,
          2009,
          2010,
          2011,
          2012,
          2013,
          2014,
          2015,
          2016
         ],
         "xaxis": "x2",
         "y": [
          3900,
          null,
          null,
          null,
          null,
          null,
          null,
          null,
          null,
          null,
          null,
          null,
          null,
          null,
          null,
          null,
          null,
          17415,
          14740,
          null,
          null,
          null,
          null,
          null,
          null,
          null,
          null,
          null,
          null,
          null,
          null
         ],
         "yaxis": "y2"
        },
        {
         "connectgaps": false,
         "hovertemplate": "fnid=SL1960A20103<br>indicator=yield<br>year=%{x}<br>value=%{y}<extra></extra>",
         "legendgroup": "SL1960A20103",
         "line": {
          "color": "#00cc96",
          "dash": "solid"
         },
         "marker": {
          "symbol": "circle"
         },
         "mode": "markers+lines",
         "name": "SL1960A20103",
         "showlegend": false,
         "type": "scattergl",
         "x": [
          1986,
          1987,
          1988,
          1989,
          1990,
          1991,
          1992,
          1993,
          1994,
          1995,
          1996,
          1997,
          1998,
          1999,
          2000,
          2001,
          2002,
          2003,
          2004,
          2005,
          2006,
          2007,
          2008,
          2009,
          2010,
          2011,
          2012,
          2013,
          2014,
          2015,
          2016
         ],
         "xaxis": "x",
         "y": [
          0.042051282051282,
          null,
          null,
          null,
          null,
          null,
          null,
          null,
          null,
          null,
          null,
          null,
          null,
          null,
          null,
          null,
          null,
          null,
          null,
          null,
          null,
          null,
          null,
          null,
          null,
          null,
          null,
          null,
          null,
          null,
          null
         ],
         "yaxis": "y"
        },
        {
         "connectgaps": false,
         "hovertemplate": "fnid=SL1960A20201<br>indicator=production<br>year=%{x}<br>value=%{y}<extra></extra>",
         "legendgroup": "SL1960A20201",
         "line": {
          "color": "#ab63fa",
          "dash": "solid"
         },
         "marker": {
          "symbol": "circle"
         },
         "mode": "markers+lines",
         "name": "SL1960A20201",
         "showlegend": true,
         "type": "scattergl",
         "x": [
          1986,
          1987,
          1988,
          1989,
          1990,
          1991,
          1992,
          1993,
          1994,
          1995,
          1996,
          1997,
          1998,
          1999,
          2000,
          2001,
          2002,
          2003,
          2004,
          2005,
          2006,
          2007,
          2008,
          2009,
          2010,
          2011,
          2012,
          2013,
          2014,
          2015,
          2016
         ],
         "xaxis": "x3",
         "y": [
          1181,
          null,
          null,
          null,
          null,
          null,
          null,
          null,
          null,
          null,
          null,
          null,
          null,
          null,
          null,
          null,
          null,
          null,
          null,
          null,
          null,
          null,
          null,
          null,
          null,
          null,
          null,
          null,
          null,
          1822.59,
          2004.849
         ],
         "yaxis": "y3"
        },
        {
         "connectgaps": false,
         "hovertemplate": "fnid=SL1960A20201<br>indicator=area<br>year=%{x}<br>value=%{y}<extra></extra>",
         "legendgroup": "SL1960A20201",
         "line": {
          "color": "#ab63fa",
          "dash": "solid"
         },
         "marker": {
          "symbol": "circle"
         },
         "mode": "markers+lines",
         "name": "SL1960A20201",
         "showlegend": false,
         "type": "scattergl",
         "x": [
          1986,
          1987,
          1988,
          1989,
          1990,
          1991,
          1992,
          1993,
          1994,
          1995,
          1996,
          1997,
          1998,
          1999,
          2000,
          2001,
          2002,
          2003,
          2004,
          2005,
          2006,
          2007,
          2008,
          2009,
          2010,
          2011,
          2012,
          2013,
          2014,
          2015,
          2016
         ],
         "xaxis": "x2",
         "y": [
          1809,
          null,
          null,
          null,
          null,
          null,
          null,
          null,
          null,
          null,
          null,
          null,
          null,
          null,
          null,
          null,
          null,
          623.7,
          1246,
          null,
          null,
          null,
          null,
          null,
          null,
          null,
          null,
          null,
          null,
          null,
          null
         ],
         "yaxis": "y2"
        },
        {
         "connectgaps": false,
         "hovertemplate": "fnid=SL1960A20201<br>indicator=yield<br>year=%{x}<br>value=%{y}<extra></extra>",
         "legendgroup": "SL1960A20201",
         "line": {
          "color": "#ab63fa",
          "dash": "solid"
         },
         "marker": {
          "symbol": "circle"
         },
         "mode": "markers+lines",
         "name": "SL1960A20201",
         "showlegend": false,
         "type": "scattergl",
         "x": [
          1986,
          1987,
          1988,
          1989,
          1990,
          1991,
          1992,
          1993,
          1994,
          1995,
          1996,
          1997,
          1998,
          1999,
          2000,
          2001,
          2002,
          2003,
          2004,
          2005,
          2006,
          2007,
          2008,
          2009,
          2010,
          2011,
          2012,
          2013,
          2014,
          2015,
          2016
         ],
         "xaxis": "x",
         "y": [
          0.6528468767274738,
          null,
          null,
          null,
          null,
          null,
          null,
          null,
          null,
          null,
          null,
          null,
          null,
          null,
          null,
          null,
          null,
          null,
          null,
          null,
          null,
          null,
          null,
          null,
          null,
          null,
          null,
          null,
          null,
          null,
          null
         ],
         "yaxis": "y"
        },
        {
         "connectgaps": false,
         "hovertemplate": "fnid=SL1960A20202<br>indicator=production<br>year=%{x}<br>value=%{y}<extra></extra>",
         "legendgroup": "SL1960A20202",
         "line": {
          "color": "#FFA15A",
          "dash": "solid"
         },
         "marker": {
          "symbol": "circle"
         },
         "mode": "markers+lines",
         "name": "SL1960A20202",
         "showlegend": true,
         "type": "scattergl",
         "x": [
          1986,
          1987,
          1988,
          1989,
          1990,
          1991,
          1992,
          1993,
          1994,
          1995,
          1996,
          1997,
          1998,
          1999,
          2000,
          2001,
          2002,
          2003,
          2004,
          2005,
          2006,
          2007,
          2008,
          2009,
          2010,
          2011,
          2012,
          2013,
          2014,
          2015,
          2016
         ],
         "xaxis": "x3",
         "y": [
          261,
          null,
          null,
          null,
          null,
          null,
          null,
          null,
          null,
          null,
          null,
          null,
          null,
          null,
          null,
          null,
          null,
          null,
          null,
          null,
          null,
          null,
          null,
          null,
          null,
          null,
          null,
          null,
          null,
          1748.67,
          1923.537
         ],
         "yaxis": "y3"
        },
        {
         "connectgaps": false,
         "hovertemplate": "fnid=SL1960A20202<br>indicator=area<br>year=%{x}<br>value=%{y}<extra></extra>",
         "legendgroup": "SL1960A20202",
         "line": {
          "color": "#FFA15A",
          "dash": "solid"
         },
         "marker": {
          "symbol": "circle"
         },
         "mode": "markers+lines",
         "name": "SL1960A20202",
         "showlegend": false,
         "type": "scattergl",
         "x": [
          1986,
          1987,
          1988,
          1989,
          1990,
          1991,
          1992,
          1993,
          1994,
          1995,
          1996,
          1997,
          1998,
          1999,
          2000,
          2001,
          2002,
          2003,
          2004,
          2005,
          2006,
          2007,
          2008,
          2009,
          2010,
          2011,
          2012,
          2013,
          2014,
          2015,
          2016
         ],
         "xaxis": "x2",
         "y": [
          827,
          null,
          null,
          null,
          null,
          null,
          null,
          null,
          null,
          null,
          null,
          null,
          null,
          null,
          null,
          null,
          null,
          8100,
          9834,
          null,
          null,
          null,
          null,
          null,
          null,
          null,
          null,
          null,
          null,
          null,
          null
         ],
         "yaxis": "y2"
        },
        {
         "connectgaps": false,
         "hovertemplate": "fnid=SL1960A20202<br>indicator=yield<br>year=%{x}<br>value=%{y}<extra></extra>",
         "legendgroup": "SL1960A20202",
         "line": {
          "color": "#FFA15A",
          "dash": "solid"
         },
         "marker": {
          "symbol": "circle"
         },
         "mode": "markers+lines",
         "name": "SL1960A20202",
         "showlegend": false,
         "type": "scattergl",
         "x": [
          1986,
          1987,
          1988,
          1989,
          1990,
          1991,
          1992,
          1993,
          1994,
          1995,
          1996,
          1997,
          1998,
          1999,
          2000,
          2001,
          2002,
          2003,
          2004,
          2005,
          2006,
          2007,
          2008,
          2009,
          2010,
          2011,
          2012,
          2013,
          2014,
          2015,
          2016
         ],
         "xaxis": "x",
         "y": [
          0.3155985489721886,
          null,
          null,
          null,
          null,
          null,
          null,
          null,
          null,
          null,
          null,
          null,
          null,
          null,
          null,
          null,
          null,
          null,
          null,
          null,
          null,
          null,
          null,
          null,
          null,
          null,
          null,
          null,
          null,
          null,
          null
         ],
         "yaxis": "y"
        },
        {
         "connectgaps": false,
         "hovertemplate": "fnid=SL1960A20203<br>indicator=production<br>year=%{x}<br>value=%{y}<extra></extra>",
         "legendgroup": "SL1960A20203",
         "line": {
          "color": "#19d3f3",
          "dash": "solid"
         },
         "marker": {
          "symbol": "circle"
         },
         "mode": "markers+lines",
         "name": "SL1960A20203",
         "showlegend": true,
         "type": "scattergl",
         "x": [
          1986,
          1987,
          1988,
          1989,
          1990,
          1991,
          1992,
          1993,
          1994,
          1995,
          1996,
          1997,
          1998,
          1999,
          2000,
          2001,
          2002,
          2003,
          2004,
          2005,
          2006,
          2007,
          2008,
          2009,
          2010,
          2011,
          2012,
          2013,
          2014,
          2015,
          2016
         ],
         "xaxis": "x3",
         "y": [
          1132,
          null,
          null,
          null,
          null,
          null,
          null,
          null,
          null,
          null,
          null,
          null,
          null,
          null,
          null,
          null,
          null,
          null,
          null,
          null,
          null,
          null,
          null,
          null,
          null,
          null,
          null,
          null,
          null,
          1784.244,
          1962.6684
         ],
         "yaxis": "y3"
        },
        {
         "connectgaps": false,
         "hovertemplate": "fnid=SL1960A20203<br>indicator=area<br>year=%{x}<br>value=%{y}<extra></extra>",
         "legendgroup": "SL1960A20203",
         "line": {
          "color": "#19d3f3",
          "dash": "solid"
         },
         "marker": {
          "symbol": "circle"
         },
         "mode": "markers+lines",
         "name": "SL1960A20203",
         "showlegend": false,
         "type": "scattergl",
         "x": [
          1986,
          1987,
          1988,
          1989,
          1990,
          1991,
          1992,
          1993,
          1994,
          1995,
          1996,
          1997,
          1998,
          1999,
          2000,
          2001,
          2002,
          2003,
          2004,
          2005,
          2006,
          2007,
          2008,
          2009,
          2010,
          2011,
          2012,
          2013,
          2014,
          2015,
          2016
         ],
         "xaxis": "x2",
         "y": [
          1838,
          null,
          null,
          null,
          null,
          null,
          null,
          null,
          null,
          null,
          null,
          null,
          null,
          null,
          null,
          null,
          null,
          12202.65,
          18090,
          null,
          null,
          null,
          null,
          null,
          null,
          null,
          null,
          null,
          null,
          null,
          null
         ],
         "yaxis": "y2"
        },
        {
         "connectgaps": false,
         "hovertemplate": "fnid=SL1960A20203<br>indicator=yield<br>year=%{x}<br>value=%{y}<extra></extra>",
         "legendgroup": "SL1960A20203",
         "line": {
          "color": "#19d3f3",
          "dash": "solid"
         },
         "marker": {
          "symbol": "circle"
         },
         "mode": "markers+lines",
         "name": "SL1960A20203",
         "showlegend": false,
         "type": "scattergl",
         "x": [
          1986,
          1987,
          1988,
          1989,
          1990,
          1991,
          1992,
          1993,
          1994,
          1995,
          1996,
          1997,
          1998,
          1999,
          2000,
          2001,
          2002,
          2003,
          2004,
          2005,
          2006,
          2007,
          2008,
          2009,
          2010,
          2011,
          2012,
          2013,
          2014,
          2015,
          2016
         ],
         "xaxis": "x",
         "y": [
          0.6158868335146899,
          null,
          null,
          null,
          null,
          null,
          null,
          null,
          null,
          null,
          null,
          null,
          null,
          null,
          null,
          null,
          null,
          null,
          null,
          null,
          null,
          null,
          null,
          null,
          null,
          null,
          null,
          null,
          null,
          null,
          null
         ],
         "yaxis": "y"
        },
        {
         "connectgaps": false,
         "hovertemplate": "fnid=SL1960A20204<br>indicator=production<br>year=%{x}<br>value=%{y}<extra></extra>",
         "legendgroup": "SL1960A20204",
         "line": {
          "color": "#FF6692",
          "dash": "solid"
         },
         "marker": {
          "symbol": "circle"
         },
         "mode": "markers+lines",
         "name": "SL1960A20204",
         "showlegend": true,
         "type": "scattergl",
         "x": [
          1986,
          1987,
          1988,
          1989,
          1990,
          1991,
          1992,
          1993,
          1994,
          1995,
          1996,
          1997,
          1998,
          1999,
          2000,
          2001,
          2002,
          2003,
          2004,
          2005,
          2006,
          2007,
          2008,
          2009,
          2010,
          2011,
          2012,
          2013,
          2014,
          2015,
          2016
         ],
         "xaxis": "x3",
         "y": [
          178,
          null,
          null,
          null,
          null,
          null,
          null,
          null,
          null,
          null,
          null,
          null,
          null,
          null,
          null,
          null,
          null,
          null,
          null,
          null,
          null,
          null,
          null,
          null,
          null,
          null,
          null,
          null,
          null,
          2022.405,
          2224.6455
         ],
         "yaxis": "y3"
        },
        {
         "connectgaps": false,
         "hovertemplate": "fnid=SL1960A20204<br>indicator=area<br>year=%{x}<br>value=%{y}<extra></extra>",
         "legendgroup": "SL1960A20204",
         "line": {
          "color": "#FF6692",
          "dash": "solid"
         },
         "marker": {
          "symbol": "circle"
         },
         "mode": "markers+lines",
         "name": "SL1960A20204",
         "showlegend": false,
         "type": "scattergl",
         "x": [
          1986,
          1987,
          1988,
          1989,
          1990,
          1991,
          1992,
          1993,
          1994,
          1995,
          1996,
          1997,
          1998,
          1999,
          2000,
          2001,
          2002,
          2003,
          2004,
          2005,
          2006,
          2007,
          2008,
          2009,
          2010,
          2011,
          2012,
          2013,
          2014,
          2015,
          2016
         ],
         "xaxis": "x2",
         "y": [
          740,
          null,
          null,
          null,
          null,
          null,
          null,
          null,
          null,
          null,
          null,
          null,
          null,
          null,
          null,
          null,
          null,
          313.875,
          1163,
          null,
          null,
          null,
          null,
          null,
          null,
          null,
          null,
          null,
          null,
          null,
          null
         ],
         "yaxis": "y2"
        },
        {
         "connectgaps": false,
         "hovertemplate": "fnid=SL1960A20204<br>indicator=yield<br>year=%{x}<br>value=%{y}<extra></extra>",
         "legendgroup": "SL1960A20204",
         "line": {
          "color": "#FF6692",
          "dash": "solid"
         },
         "marker": {
          "symbol": "circle"
         },
         "mode": "markers+lines",
         "name": "SL1960A20204",
         "showlegend": false,
         "type": "scattergl",
         "x": [
          1986,
          1987,
          1988,
          1989,
          1990,
          1991,
          1992,
          1993,
          1994,
          1995,
          1996,
          1997,
          1998,
          1999,
          2000,
          2001,
          2002,
          2003,
          2004,
          2005,
          2006,
          2007,
          2008,
          2009,
          2010,
          2011,
          2012,
          2013,
          2014,
          2015,
          2016
         ],
         "xaxis": "x",
         "y": [
          0.2405405405405405,
          null,
          null,
          null,
          null,
          null,
          null,
          null,
          null,
          null,
          null,
          null,
          null,
          null,
          null,
          null,
          null,
          null,
          null,
          null,
          null,
          null,
          null,
          null,
          null,
          null,
          null,
          null,
          null,
          null,
          null
         ],
         "yaxis": "y"
        },
        {
         "connectgaps": false,
         "hovertemplate": "fnid=SL1960A20205<br>indicator=production<br>year=%{x}<br>value=%{y}<extra></extra>",
         "legendgroup": "SL1960A20205",
         "line": {
          "color": "#B6E880",
          "dash": "solid"
         },
         "marker": {
          "symbol": "circle"
         },
         "mode": "markers+lines",
         "name": "SL1960A20205",
         "showlegend": true,
         "type": "scattergl",
         "x": [
          1986,
          1987,
          1988,
          1989,
          1990,
          1991,
          1992,
          1993,
          1994,
          1995,
          1996,
          1997,
          1998,
          1999,
          2000,
          2001,
          2002,
          2003,
          2004,
          2005,
          2006,
          2007,
          2008,
          2009,
          2010,
          2011,
          2012,
          2013,
          2014,
          2015,
          2016
         ],
         "xaxis": "x3",
         "y": [
          1591,
          null,
          null,
          null,
          null,
          null,
          null,
          null,
          null,
          null,
          null,
          null,
          null,
          null,
          null,
          null,
          null,
          null,
          null,
          null,
          null,
          null,
          null,
          null,
          null,
          null,
          null,
          null,
          null,
          2315.544,
          2547.0984
         ],
         "yaxis": "y3"
        },
        {
         "connectgaps": false,
         "hovertemplate": "fnid=SL1960A20205<br>indicator=area<br>year=%{x}<br>value=%{y}<extra></extra>",
         "legendgroup": "SL1960A20205",
         "line": {
          "color": "#B6E880",
          "dash": "solid"
         },
         "marker": {
          "symbol": "circle"
         },
         "mode": "markers+lines",
         "name": "SL1960A20205",
         "showlegend": false,
         "type": "scattergl",
         "x": [
          1986,
          1987,
          1988,
          1989,
          1990,
          1991,
          1992,
          1993,
          1994,
          1995,
          1996,
          1997,
          1998,
          1999,
          2000,
          2001,
          2002,
          2003,
          2004,
          2005,
          2006,
          2007,
          2008,
          2009,
          2010,
          2011,
          2012,
          2013,
          2014,
          2015,
          2016
         ],
         "xaxis": "x2",
         "y": [
          2437,
          null,
          null,
          null,
          null,
          null,
          null,
          null,
          null,
          null,
          null,
          null,
          null,
          null,
          null,
          null,
          null,
          24422,
          14023,
          null,
          null,
          null,
          null,
          null,
          null,
          null,
          null,
          null,
          null,
          null,
          null
         ],
         "yaxis": "y2"
        },
        {
         "connectgaps": false,
         "hovertemplate": "fnid=SL1960A20205<br>indicator=yield<br>year=%{x}<br>value=%{y}<extra></extra>",
         "legendgroup": "SL1960A20205",
         "line": {
          "color": "#B6E880",
          "dash": "solid"
         },
         "marker": {
          "symbol": "circle"
         },
         "mode": "markers+lines",
         "name": "SL1960A20205",
         "showlegend": false,
         "type": "scattergl",
         "x": [
          1986,
          1987,
          1988,
          1989,
          1990,
          1991,
          1992,
          1993,
          1994,
          1995,
          1996,
          1997,
          1998,
          1999,
          2000,
          2001,
          2002,
          2003,
          2004,
          2005,
          2006,
          2007,
          2008,
          2009,
          2010,
          2011,
          2012,
          2013,
          2014,
          2015,
          2016
         ],
         "xaxis": "x",
         "y": [
          0.6528518670496513,
          null,
          null,
          null,
          null,
          null,
          null,
          null,
          null,
          null,
          null,
          null,
          null,
          null,
          null,
          null,
          null,
          null,
          null,
          null,
          null,
          null,
          null,
          null,
          null,
          null,
          null,
          null,
          null,
          null,
          null
         ],
         "yaxis": "y"
        },
        {
         "connectgaps": false,
         "hovertemplate": "fnid=SL1960A20301<br>indicator=production<br>year=%{x}<br>value=%{y}<extra></extra>",
         "legendgroup": "SL1960A20301",
         "line": {
          "color": "#FF97FF",
          "dash": "solid"
         },
         "marker": {
          "symbol": "circle"
         },
         "mode": "markers+lines",
         "name": "SL1960A20301",
         "showlegend": true,
         "type": "scattergl",
         "x": [
          1986,
          1987,
          1988,
          1989,
          1990,
          1991,
          1992,
          1993,
          1994,
          1995,
          1996,
          1997,
          1998,
          1999,
          2000,
          2001,
          2002,
          2003,
          2004,
          2005,
          2006,
          2007,
          2008,
          2009,
          2010,
          2011,
          2012,
          2013,
          2014,
          2015,
          2016
         ],
         "xaxis": "x3",
         "y": [
          155,
          null,
          null,
          null,
          null,
          null,
          null,
          null,
          null,
          null,
          null,
          null,
          null,
          null,
          null,
          null,
          null,
          null,
          null,
          null,
          null,
          null,
          null,
          null,
          null,
          null,
          null,
          null,
          null,
          1485.33,
          1633.863
         ],
         "yaxis": "y3"
        },
        {
         "connectgaps": false,
         "hovertemplate": "fnid=SL1960A20301<br>indicator=area<br>year=%{x}<br>value=%{y}<extra></extra>",
         "legendgroup": "SL1960A20301",
         "line": {
          "color": "#FF97FF",
          "dash": "solid"
         },
         "marker": {
          "symbol": "circle"
         },
         "mode": "markers+lines",
         "name": "SL1960A20301",
         "showlegend": false,
         "type": "scattergl",
         "x": [
          1986,
          1987,
          1988,
          1989,
          1990,
          1991,
          1992,
          1993,
          1994,
          1995,
          1996,
          1997,
          1998,
          1999,
          2000,
          2001,
          2002,
          2003,
          2004,
          2005,
          2006,
          2007,
          2008,
          2009,
          2010,
          2011,
          2012,
          2013,
          2014,
          2015,
          2016
         ],
         "xaxis": "x2",
         "y": [
          491,
          null,
          null,
          null,
          null,
          null,
          null,
          null,
          null,
          null,
          null,
          null,
          null,
          null,
          null,
          null,
          null,
          104.49,
          1171,
          null,
          null,
          null,
          null,
          null,
          null,
          null,
          null,
          null,
          null,
          null,
          null
         ],
         "yaxis": "y2"
        },
        {
         "connectgaps": false,
         "hovertemplate": "fnid=SL1960A20301<br>indicator=yield<br>year=%{x}<br>value=%{y}<extra></extra>",
         "legendgroup": "SL1960A20301",
         "line": {
          "color": "#FF97FF",
          "dash": "solid"
         },
         "marker": {
          "symbol": "circle"
         },
         "mode": "markers+lines",
         "name": "SL1960A20301",
         "showlegend": false,
         "type": "scattergl",
         "x": [
          1986,
          1987,
          1988,
          1989,
          1990,
          1991,
          1992,
          1993,
          1994,
          1995,
          1996,
          1997,
          1998,
          1999,
          2000,
          2001,
          2002,
          2003,
          2004,
          2005,
          2006,
          2007,
          2008,
          2009,
          2010,
          2011,
          2012,
          2013,
          2014,
          2015,
          2016
         ],
         "xaxis": "x",
         "y": [
          0.3156822810590631,
          null,
          null,
          null,
          null,
          null,
          null,
          null,
          null,
          null,
          null,
          null,
          null,
          null,
          null,
          null,
          null,
          null,
          null,
          null,
          null,
          null,
          null,
          null,
          null,
          null,
          null,
          null,
          null,
          null,
          null
         ],
         "yaxis": "y"
        },
        {
         "connectgaps": false,
         "hovertemplate": "fnid=SL1960A20302<br>indicator=production<br>year=%{x}<br>value=%{y}<extra></extra>",
         "legendgroup": "SL1960A20302",
         "line": {
          "color": "#FECB52",
          "dash": "solid"
         },
         "marker": {
          "symbol": "circle"
         },
         "mode": "markers+lines",
         "name": "SL1960A20302",
         "showlegend": true,
         "type": "scattergl",
         "x": [
          1986,
          1987,
          1988,
          1989,
          1990,
          1991,
          1992,
          1993,
          1994,
          1995,
          1996,
          1997,
          1998,
          1999,
          2000,
          2001,
          2002,
          2003,
          2004,
          2005,
          2006,
          2007,
          2008,
          2009,
          2010,
          2011,
          2012,
          2013,
          2014,
          2015,
          2016
         ],
         "xaxis": "x3",
         "y": [
          1600,
          null,
          null,
          null,
          null,
          null,
          null,
          null,
          null,
          null,
          null,
          null,
          null,
          null,
          null,
          null,
          null,
          null,
          null,
          null,
          null,
          null,
          null,
          null,
          null,
          null,
          null,
          null,
          null,
          1027.95,
          1130.745
         ],
         "yaxis": "y3"
        },
        {
         "connectgaps": false,
         "hovertemplate": "fnid=SL1960A20302<br>indicator=area<br>year=%{x}<br>value=%{y}<extra></extra>",
         "legendgroup": "SL1960A20302",
         "line": {
          "color": "#FECB52",
          "dash": "solid"
         },
         "marker": {
          "symbol": "circle"
         },
         "mode": "markers+lines",
         "name": "SL1960A20302",
         "showlegend": false,
         "type": "scattergl",
         "x": [
          1986,
          1987,
          1988,
          1989,
          1990,
          1991,
          1992,
          1993,
          1994,
          1995,
          1996,
          1997,
          1998,
          1999,
          2000,
          2001,
          2002,
          2003,
          2004,
          2005,
          2006,
          2007,
          2008,
          2009,
          2010,
          2011,
          2012,
          2013,
          2014,
          2015,
          2016
         ],
         "xaxis": "x2",
         "y": [
          8400,
          null,
          null,
          null,
          null,
          null,
          null,
          null,
          null,
          null,
          null,
          null,
          null,
          null,
          null,
          null,
          null,
          2552,
          2493,
          null,
          null,
          null,
          null,
          null,
          null,
          null,
          null,
          null,
          null,
          null,
          null
         ],
         "yaxis": "y2"
        },
        {
         "connectgaps": false,
         "hovertemplate": "fnid=SL1960A20302<br>indicator=yield<br>year=%{x}<br>value=%{y}<extra></extra>",
         "legendgroup": "SL1960A20302",
         "line": {
          "color": "#FECB52",
          "dash": "solid"
         },
         "marker": {
          "symbol": "circle"
         },
         "mode": "markers+lines",
         "name": "SL1960A20302",
         "showlegend": false,
         "type": "scattergl",
         "x": [
          1986,
          1987,
          1988,
          1989,
          1990,
          1991,
          1992,
          1993,
          1994,
          1995,
          1996,
          1997,
          1998,
          1999,
          2000,
          2001,
          2002,
          2003,
          2004,
          2005,
          2006,
          2007,
          2008,
          2009,
          2010,
          2011,
          2012,
          2013,
          2014,
          2015,
          2016
         ],
         "xaxis": "x",
         "y": [
          0.1904761904761904,
          null,
          null,
          null,
          null,
          null,
          null,
          null,
          null,
          null,
          null,
          null,
          null,
          null,
          null,
          null,
          null,
          null,
          null,
          null,
          null,
          null,
          null,
          null,
          null,
          null,
          null,
          null,
          null,
          null,
          null
         ],
         "yaxis": "y"
        },
        {
         "connectgaps": false,
         "hovertemplate": "fnid=SL1960A20303<br>indicator=production<br>year=%{x}<br>value=%{y}<extra></extra>",
         "legendgroup": "SL1960A20303",
         "line": {
          "color": "#636efa",
          "dash": "solid"
         },
         "marker": {
          "symbol": "circle"
         },
         "mode": "markers+lines",
         "name": "SL1960A20303",
         "showlegend": true,
         "type": "scattergl",
         "x": [
          1986,
          1987,
          1988,
          1989,
          1990,
          1991,
          1992,
          1993,
          1994,
          1995,
          1996,
          1997,
          1998,
          1999,
          2000,
          2001,
          2002,
          2003,
          2004,
          2005,
          2006,
          2007,
          2008,
          2009,
          2010,
          2011,
          2012,
          2013,
          2014,
          2015,
          2016
         ],
         "xaxis": "x3",
         "y": [
          2874,
          null,
          null,
          null,
          null,
          null,
          null,
          null,
          null,
          null,
          null,
          null,
          null,
          null,
          null,
          null,
          null,
          null,
          null,
          null,
          null,
          null,
          null,
          null,
          null,
          null,
          null,
          null,
          null,
          2798.796,
          3078.6756
         ],
         "yaxis": "y3"
        },
        {
         "connectgaps": false,
         "hovertemplate": "fnid=SL1960A20303<br>indicator=area<br>year=%{x}<br>value=%{y}<extra></extra>",
         "legendgroup": "SL1960A20303",
         "line": {
          "color": "#636efa",
          "dash": "solid"
         },
         "marker": {
          "symbol": "circle"
         },
         "mode": "markers+lines",
         "name": "SL1960A20303",
         "showlegend": false,
         "type": "scattergl",
         "x": [
          1986,
          1987,
          1988,
          1989,
          1990,
          1991,
          1992,
          1993,
          1994,
          1995,
          1996,
          1997,
          1998,
          1999,
          2000,
          2001,
          2002,
          2003,
          2004,
          2005,
          2006,
          2007,
          2008,
          2009,
          2010,
          2011,
          2012,
          2013,
          2014,
          2015,
          2016
         ],
         "xaxis": "x2",
         "y": [
          4168,
          null,
          null,
          null,
          null,
          null,
          null,
          null,
          null,
          null,
          null,
          null,
          null,
          null,
          null,
          null,
          null,
          null,
          29414,
          null,
          null,
          null,
          null,
          null,
          null,
          null,
          null,
          null,
          null,
          null,
          null
         ],
         "yaxis": "y2"
        },
        {
         "connectgaps": false,
         "hovertemplate": "fnid=SL1960A20303<br>indicator=yield<br>year=%{x}<br>value=%{y}<extra></extra>",
         "legendgroup": "SL1960A20303",
         "line": {
          "color": "#636efa",
          "dash": "solid"
         },
         "marker": {
          "symbol": "circle"
         },
         "mode": "markers+lines",
         "name": "SL1960A20303",
         "showlegend": false,
         "type": "scattergl",
         "x": [
          1986,
          1987,
          1988,
          1989,
          1990,
          1991,
          1992,
          1993,
          1994,
          1995,
          1996,
          1997,
          1998,
          1999,
          2000,
          2001,
          2002,
          2003,
          2004,
          2005,
          2006,
          2007,
          2008,
          2009,
          2010,
          2011,
          2012,
          2013,
          2014,
          2015,
          2016
         ],
         "xaxis": "x",
         "y": [
          0.6895393474088292,
          null,
          null,
          null,
          null,
          null,
          null,
          null,
          null,
          null,
          null,
          null,
          null,
          null,
          null,
          null,
          null,
          null,
          null,
          null,
          null,
          null,
          null,
          null,
          null,
          null,
          null,
          null,
          null,
          null,
          null
         ],
         "yaxis": "y"
        },
        {
         "connectgaps": false,
         "hovertemplate": "fnid=SL1960A20304<br>indicator=production<br>year=%{x}<br>value=%{y}<extra></extra>",
         "legendgroup": "SL1960A20304",
         "line": {
          "color": "#EF553B",
          "dash": "solid"
         },
         "marker": {
          "symbol": "circle"
         },
         "mode": "markers+lines",
         "name": "SL1960A20304",
         "showlegend": true,
         "type": "scattergl",
         "x": [
          1986,
          1987,
          1988,
          1989,
          1990,
          1991,
          1992,
          1993,
          1994,
          1995,
          1996,
          1997,
          1998,
          1999,
          2000,
          2001,
          2002,
          2003,
          2004,
          2005,
          2006,
          2007,
          2008,
          2009,
          2010,
          2011,
          2012,
          2013,
          2014,
          2015,
          2016
         ],
         "xaxis": "x3",
         "y": [
          67,
          null,
          null,
          null,
          null,
          null,
          null,
          null,
          null,
          null,
          null,
          null,
          null,
          null,
          null,
          null,
          null,
          null,
          null,
          null,
          null,
          null,
          null,
          null,
          null,
          null,
          null,
          null,
          null,
          1226.61,
          1349.271
         ],
         "yaxis": "y3"
        },
        {
         "connectgaps": false,
         "hovertemplate": "fnid=SL1960A20304<br>indicator=area<br>year=%{x}<br>value=%{y}<extra></extra>",
         "legendgroup": "SL1960A20304",
         "line": {
          "color": "#EF553B",
          "dash": "solid"
         },
         "marker": {
          "symbol": "circle"
         },
         "mode": "markers+lines",
         "name": "SL1960A20304",
         "showlegend": false,
         "type": "scattergl",
         "x": [
          1986,
          1987,
          1988,
          1989,
          1990,
          1991,
          1992,
          1993,
          1994,
          1995,
          1996,
          1997,
          1998,
          1999,
          2000,
          2001,
          2002,
          2003,
          2004,
          2005,
          2006,
          2007,
          2008,
          2009,
          2010,
          2011,
          2012,
          2013,
          2014,
          2015,
          2016
         ],
         "xaxis": "x2",
         "y": [
          212,
          null,
          null,
          null,
          null,
          null,
          null,
          null,
          null,
          null,
          null,
          null,
          null,
          null,
          null,
          null,
          null,
          2228,
          6986,
          null,
          null,
          null,
          null,
          null,
          null,
          null,
          null,
          null,
          null,
          null,
          null
         ],
         "yaxis": "y2"
        },
        {
         "connectgaps": false,
         "hovertemplate": "fnid=SL1960A20304<br>indicator=yield<br>year=%{x}<br>value=%{y}<extra></extra>",
         "legendgroup": "SL1960A20304",
         "line": {
          "color": "#EF553B",
          "dash": "solid"
         },
         "marker": {
          "symbol": "circle"
         },
         "mode": "markers+lines",
         "name": "SL1960A20304",
         "showlegend": false,
         "type": "scattergl",
         "x": [
          1986,
          1987,
          1988,
          1989,
          1990,
          1991,
          1992,
          1993,
          1994,
          1995,
          1996,
          1997,
          1998,
          1999,
          2000,
          2001,
          2002,
          2003,
          2004,
          2005,
          2006,
          2007,
          2008,
          2009,
          2010,
          2011,
          2012,
          2013,
          2014,
          2015,
          2016
         ],
         "xaxis": "x",
         "y": [
          0.3160377358490566,
          null,
          null,
          null,
          null,
          null,
          null,
          null,
          null,
          null,
          null,
          null,
          null,
          null,
          null,
          null,
          null,
          null,
          null,
          null,
          null,
          null,
          null,
          null,
          null,
          null,
          null,
          null,
          null,
          null,
          null
         ],
         "yaxis": "y"
        },
        {
         "connectgaps": false,
         "hovertemplate": "fnid=SL1960A20401<br>indicator=production<br>year=%{x}<br>value=%{y}<extra></extra>",
         "legendgroup": "SL1960A20401",
         "line": {
          "color": "#00cc96",
          "dash": "solid"
         },
         "marker": {
          "symbol": "circle"
         },
         "mode": "markers+lines",
         "name": "SL1960A20401",
         "showlegend": true,
         "type": "scattergl",
         "x": [
          1986,
          1987,
          1988,
          1989,
          1990,
          1991,
          1992,
          1993,
          1994,
          1995,
          1996,
          1997,
          1998,
          1999,
          2000,
          2001,
          2002,
          2003,
          2004,
          2005,
          2006,
          2007,
          2008,
          2009,
          2010,
          2011,
          2012,
          2013,
          2014,
          2015,
          2016
         ],
         "xaxis": "x3",
         "y": [
          null,
          null,
          null,
          null,
          null,
          null,
          null,
          null,
          null,
          null,
          null,
          null,
          null,
          null,
          null,
          null,
          null,
          null,
          null,
          null,
          null,
          null,
          null,
          null,
          null,
          null,
          null,
          null,
          null,
          822.129,
          904.3419
         ],
         "yaxis": "y3"
        },
        {
         "connectgaps": false,
         "hovertemplate": "fnid=SL1960A20401<br>indicator=area<br>year=%{x}<br>value=%{y}<extra></extra>",
         "legendgroup": "SL1960A20401",
         "line": {
          "color": "#00cc96",
          "dash": "solid"
         },
         "marker": {
          "symbol": "circle"
         },
         "mode": "markers+lines",
         "name": "SL1960A20401",
         "showlegend": false,
         "type": "scattergl",
         "x": [
          1986,
          1987,
          1988,
          1989,
          1990,
          1991,
          1992,
          1993,
          1994,
          1995,
          1996,
          1997,
          1998,
          1999,
          2000,
          2001,
          2002,
          2003,
          2004,
          2005,
          2006,
          2007,
          2008,
          2009,
          2010,
          2011,
          2012,
          2013,
          2014,
          2015,
          2016
         ],
         "xaxis": "x2",
         "y": [
          null,
          null,
          null,
          null,
          null,
          null,
          null,
          null,
          null,
          null,
          null,
          null,
          null,
          null,
          null,
          null,
          null,
          71.28,
          1272,
          null,
          null,
          null,
          null,
          null,
          null,
          null,
          null,
          null,
          null,
          null,
          null
         ],
         "yaxis": "y2"
        }
       ],
       "layout": {
        "annotations": [
         {
          "showarrow": false,
          "text": "",
          "textangle": 90,
          "x": 0.98,
          "xanchor": "left",
          "xref": "paper",
          "y": 0.16333333333333333,
          "yanchor": "middle",
          "yref": "paper"
         },
         {
          "showarrow": false,
          "text": "",
          "textangle": 90,
          "x": 0.98,
          "xanchor": "left",
          "xref": "paper",
          "y": 0.5,
          "yanchor": "middle",
          "yref": "paper"
         },
         {
          "showarrow": false,
          "text": "",
          "textangle": 90,
          "x": 0.98,
          "xanchor": "left",
          "xref": "paper",
          "y": 0.8366666666666667,
          "yanchor": "middle",
          "yref": "paper"
         },
         {
          "align": "left",
          "font": {
           "color": "dimgrey",
           "family": "arial",
           "size": 15
          },
          "showarrow": false,
          "text": "Production-Area-Yield time-series of SL - Maize - Main season",
          "x": -0.014,
          "xref": "paper",
          "y": -0.14,
          "yref": "paper"
         }
        ],
        "font": {
         "color": "black",
         "family": "arial",
         "size": 16
        },
        "height": 600,
        "legend": {
         "font": {
          "size": 14
         },
         "title": {
          "text": "FNID"
         },
         "tracegroupgap": 0,
         "x": 1,
         "xanchor": "left",
         "y": 1,
         "yanchor": "top"
        },
        "margin": {
         "b": 25,
         "l": 0,
         "r": 0,
         "t": 0
        },
        "template": {
         "data": {
          "bar": [
           {
            "error_x": {
             "color": "#2a3f5f"
            },
            "error_y": {
             "color": "#2a3f5f"
            },
            "marker": {
             "line": {
              "color": "#E5ECF6",
              "width": 0.5
             },
             "pattern": {
              "fillmode": "overlay",
              "size": 10,
              "solidity": 0.2
             }
            },
            "type": "bar"
           }
          ],
          "barpolar": [
           {
            "marker": {
             "line": {
              "color": "#E5ECF6",
              "width": 0.5
             },
             "pattern": {
              "fillmode": "overlay",
              "size": 10,
              "solidity": 0.2
             }
            },
            "type": "barpolar"
           }
          ],
          "carpet": [
           {
            "aaxis": {
             "endlinecolor": "#2a3f5f",
             "gridcolor": "white",
             "linecolor": "white",
             "minorgridcolor": "white",
             "startlinecolor": "#2a3f5f"
            },
            "baxis": {
             "endlinecolor": "#2a3f5f",
             "gridcolor": "white",
             "linecolor": "white",
             "minorgridcolor": "white",
             "startlinecolor": "#2a3f5f"
            },
            "type": "carpet"
           }
          ],
          "choropleth": [
           {
            "colorbar": {
             "outlinewidth": 0,
             "ticks": ""
            },
            "type": "choropleth"
           }
          ],
          "contour": [
           {
            "colorbar": {
             "outlinewidth": 0,
             "ticks": ""
            },
            "colorscale": [
             [
              0,
              "#0d0887"
             ],
             [
              0.1111111111111111,
              "#46039f"
             ],
             [
              0.2222222222222222,
              "#7201a8"
             ],
             [
              0.3333333333333333,
              "#9c179e"
             ],
             [
              0.4444444444444444,
              "#bd3786"
             ],
             [
              0.5555555555555556,
              "#d8576b"
             ],
             [
              0.6666666666666666,
              "#ed7953"
             ],
             [
              0.7777777777777778,
              "#fb9f3a"
             ],
             [
              0.8888888888888888,
              "#fdca26"
             ],
             [
              1,
              "#f0f921"
             ]
            ],
            "type": "contour"
           }
          ],
          "contourcarpet": [
           {
            "colorbar": {
             "outlinewidth": 0,
             "ticks": ""
            },
            "type": "contourcarpet"
           }
          ],
          "heatmap": [
           {
            "colorbar": {
             "outlinewidth": 0,
             "ticks": ""
            },
            "colorscale": [
             [
              0,
              "#0d0887"
             ],
             [
              0.1111111111111111,
              "#46039f"
             ],
             [
              0.2222222222222222,
              "#7201a8"
             ],
             [
              0.3333333333333333,
              "#9c179e"
             ],
             [
              0.4444444444444444,
              "#bd3786"
             ],
             [
              0.5555555555555556,
              "#d8576b"
             ],
             [
              0.6666666666666666,
              "#ed7953"
             ],
             [
              0.7777777777777778,
              "#fb9f3a"
             ],
             [
              0.8888888888888888,
              "#fdca26"
             ],
             [
              1,
              "#f0f921"
             ]
            ],
            "type": "heatmap"
           }
          ],
          "heatmapgl": [
           {
            "colorbar": {
             "outlinewidth": 0,
             "ticks": ""
            },
            "colorscale": [
             [
              0,
              "#0d0887"
             ],
             [
              0.1111111111111111,
              "#46039f"
             ],
             [
              0.2222222222222222,
              "#7201a8"
             ],
             [
              0.3333333333333333,
              "#9c179e"
             ],
             [
              0.4444444444444444,
              "#bd3786"
             ],
             [
              0.5555555555555556,
              "#d8576b"
             ],
             [
              0.6666666666666666,
              "#ed7953"
             ],
             [
              0.7777777777777778,
              "#fb9f3a"
             ],
             [
              0.8888888888888888,
              "#fdca26"
             ],
             [
              1,
              "#f0f921"
             ]
            ],
            "type": "heatmapgl"
           }
          ],
          "histogram": [
           {
            "marker": {
             "pattern": {
              "fillmode": "overlay",
              "size": 10,
              "solidity": 0.2
             }
            },
            "type": "histogram"
           }
          ],
          "histogram2d": [
           {
            "colorbar": {
             "outlinewidth": 0,
             "ticks": ""
            },
            "colorscale": [
             [
              0,
              "#0d0887"
             ],
             [
              0.1111111111111111,
              "#46039f"
             ],
             [
              0.2222222222222222,
              "#7201a8"
             ],
             [
              0.3333333333333333,
              "#9c179e"
             ],
             [
              0.4444444444444444,
              "#bd3786"
             ],
             [
              0.5555555555555556,
              "#d8576b"
             ],
             [
              0.6666666666666666,
              "#ed7953"
             ],
             [
              0.7777777777777778,
              "#fb9f3a"
             ],
             [
              0.8888888888888888,
              "#fdca26"
             ],
             [
              1,
              "#f0f921"
             ]
            ],
            "type": "histogram2d"
           }
          ],
          "histogram2dcontour": [
           {
            "colorbar": {
             "outlinewidth": 0,
             "ticks": ""
            },
            "colorscale": [
             [
              0,
              "#0d0887"
             ],
             [
              0.1111111111111111,
              "#46039f"
             ],
             [
              0.2222222222222222,
              "#7201a8"
             ],
             [
              0.3333333333333333,
              "#9c179e"
             ],
             [
              0.4444444444444444,
              "#bd3786"
             ],
             [
              0.5555555555555556,
              "#d8576b"
             ],
             [
              0.6666666666666666,
              "#ed7953"
             ],
             [
              0.7777777777777778,
              "#fb9f3a"
             ],
             [
              0.8888888888888888,
              "#fdca26"
             ],
             [
              1,
              "#f0f921"
             ]
            ],
            "type": "histogram2dcontour"
           }
          ],
          "mesh3d": [
           {
            "colorbar": {
             "outlinewidth": 0,
             "ticks": ""
            },
            "type": "mesh3d"
           }
          ],
          "parcoords": [
           {
            "line": {
             "colorbar": {
              "outlinewidth": 0,
              "ticks": ""
             }
            },
            "type": "parcoords"
           }
          ],
          "pie": [
           {
            "automargin": true,
            "type": "pie"
           }
          ],
          "scatter": [
           {
            "fillpattern": {
             "fillmode": "overlay",
             "size": 10,
             "solidity": 0.2
            },
            "type": "scatter"
           }
          ],
          "scatter3d": [
           {
            "line": {
             "colorbar": {
              "outlinewidth": 0,
              "ticks": ""
             }
            },
            "marker": {
             "colorbar": {
              "outlinewidth": 0,
              "ticks": ""
             }
            },
            "type": "scatter3d"
           }
          ],
          "scattercarpet": [
           {
            "marker": {
             "colorbar": {
              "outlinewidth": 0,
              "ticks": ""
             }
            },
            "type": "scattercarpet"
           }
          ],
          "scattergeo": [
           {
            "marker": {
             "colorbar": {
              "outlinewidth": 0,
              "ticks": ""
             }
            },
            "type": "scattergeo"
           }
          ],
          "scattergl": [
           {
            "marker": {
             "colorbar": {
              "outlinewidth": 0,
              "ticks": ""
             }
            },
            "type": "scattergl"
           }
          ],
          "scattermapbox": [
           {
            "marker": {
             "colorbar": {
              "outlinewidth": 0,
              "ticks": ""
             }
            },
            "type": "scattermapbox"
           }
          ],
          "scatterpolar": [
           {
            "marker": {
             "colorbar": {
              "outlinewidth": 0,
              "ticks": ""
             }
            },
            "type": "scatterpolar"
           }
          ],
          "scatterpolargl": [
           {
            "marker": {
             "colorbar": {
              "outlinewidth": 0,
              "ticks": ""
             }
            },
            "type": "scatterpolargl"
           }
          ],
          "scatterternary": [
           {
            "marker": {
             "colorbar": {
              "outlinewidth": 0,
              "ticks": ""
             }
            },
            "type": "scatterternary"
           }
          ],
          "surface": [
           {
            "colorbar": {
             "outlinewidth": 0,
             "ticks": ""
            },
            "colorscale": [
             [
              0,
              "#0d0887"
             ],
             [
              0.1111111111111111,
              "#46039f"
             ],
             [
              0.2222222222222222,
              "#7201a8"
             ],
             [
              0.3333333333333333,
              "#9c179e"
             ],
             [
              0.4444444444444444,
              "#bd3786"
             ],
             [
              0.5555555555555556,
              "#d8576b"
             ],
             [
              0.6666666666666666,
              "#ed7953"
             ],
             [
              0.7777777777777778,
              "#fb9f3a"
             ],
             [
              0.8888888888888888,
              "#fdca26"
             ],
             [
              1,
              "#f0f921"
             ]
            ],
            "type": "surface"
           }
          ],
          "table": [
           {
            "cells": {
             "fill": {
              "color": "#EBF0F8"
             },
             "line": {
              "color": "white"
             }
            },
            "header": {
             "fill": {
              "color": "#C8D4E3"
             },
             "line": {
              "color": "white"
             }
            },
            "type": "table"
           }
          ]
         },
         "layout": {
          "annotationdefaults": {
           "arrowcolor": "#2a3f5f",
           "arrowhead": 0,
           "arrowwidth": 1
          },
          "autotypenumbers": "strict",
          "coloraxis": {
           "colorbar": {
            "outlinewidth": 0,
            "ticks": ""
           }
          },
          "colorscale": {
           "diverging": [
            [
             0,
             "#8e0152"
            ],
            [
             0.1,
             "#c51b7d"
            ],
            [
             0.2,
             "#de77ae"
            ],
            [
             0.3,
             "#f1b6da"
            ],
            [
             0.4,
             "#fde0ef"
            ],
            [
             0.5,
             "#f7f7f7"
            ],
            [
             0.6,
             "#e6f5d0"
            ],
            [
             0.7,
             "#b8e186"
            ],
            [
             0.8,
             "#7fbc41"
            ],
            [
             0.9,
             "#4d9221"
            ],
            [
             1,
             "#276419"
            ]
           ],
           "sequential": [
            [
             0,
             "#0d0887"
            ],
            [
             0.1111111111111111,
             "#46039f"
            ],
            [
             0.2222222222222222,
             "#7201a8"
            ],
            [
             0.3333333333333333,
             "#9c179e"
            ],
            [
             0.4444444444444444,
             "#bd3786"
            ],
            [
             0.5555555555555556,
             "#d8576b"
            ],
            [
             0.6666666666666666,
             "#ed7953"
            ],
            [
             0.7777777777777778,
             "#fb9f3a"
            ],
            [
             0.8888888888888888,
             "#fdca26"
            ],
            [
             1,
             "#f0f921"
            ]
           ],
           "sequentialminus": [
            [
             0,
             "#0d0887"
            ],
            [
             0.1111111111111111,
             "#46039f"
            ],
            [
             0.2222222222222222,
             "#7201a8"
            ],
            [
             0.3333333333333333,
             "#9c179e"
            ],
            [
             0.4444444444444444,
             "#bd3786"
            ],
            [
             0.5555555555555556,
             "#d8576b"
            ],
            [
             0.6666666666666666,
             "#ed7953"
            ],
            [
             0.7777777777777778,
             "#fb9f3a"
            ],
            [
             0.8888888888888888,
             "#fdca26"
            ],
            [
             1,
             "#f0f921"
            ]
           ]
          },
          "colorway": [
           "#636efa",
           "#EF553B",
           "#00cc96",
           "#ab63fa",
           "#FFA15A",
           "#19d3f3",
           "#FF6692",
           "#B6E880",
           "#FF97FF",
           "#FECB52"
          ],
          "font": {
           "color": "#2a3f5f"
          },
          "geo": {
           "bgcolor": "white",
           "lakecolor": "white",
           "landcolor": "#E5ECF6",
           "showlakes": true,
           "showland": true,
           "subunitcolor": "white"
          },
          "hoverlabel": {
           "align": "left"
          },
          "hovermode": "closest",
          "mapbox": {
           "style": "light"
          },
          "paper_bgcolor": "white",
          "plot_bgcolor": "#E5ECF6",
          "polar": {
           "angularaxis": {
            "gridcolor": "white",
            "linecolor": "white",
            "ticks": ""
           },
           "bgcolor": "#E5ECF6",
           "radialaxis": {
            "gridcolor": "white",
            "linecolor": "white",
            "ticks": ""
           }
          },
          "scene": {
           "xaxis": {
            "backgroundcolor": "#E5ECF6",
            "gridcolor": "white",
            "gridwidth": 2,
            "linecolor": "white",
            "showbackground": true,
            "ticks": "",
            "zerolinecolor": "white"
           },
           "yaxis": {
            "backgroundcolor": "#E5ECF6",
            "gridcolor": "white",
            "gridwidth": 2,
            "linecolor": "white",
            "showbackground": true,
            "ticks": "",
            "zerolinecolor": "white"
           },
           "zaxis": {
            "backgroundcolor": "#E5ECF6",
            "gridcolor": "white",
            "gridwidth": 2,
            "linecolor": "white",
            "showbackground": true,
            "ticks": "",
            "zerolinecolor": "white"
           }
          },
          "shapedefaults": {
           "line": {
            "color": "#2a3f5f"
           }
          },
          "ternary": {
           "aaxis": {
            "gridcolor": "white",
            "linecolor": "white",
            "ticks": ""
           },
           "baxis": {
            "gridcolor": "white",
            "linecolor": "white",
            "ticks": ""
           },
           "bgcolor": "#E5ECF6",
           "caxis": {
            "gridcolor": "white",
            "linecolor": "white",
            "ticks": ""
           }
          },
          "title": {
           "x": 0.05
          },
          "xaxis": {
           "automargin": true,
           "gridcolor": "white",
           "linecolor": "white",
           "ticks": "",
           "title": {
            "standoff": 15
           },
           "zerolinecolor": "white",
           "zerolinewidth": 2
          },
          "yaxis": {
           "automargin": true,
           "gridcolor": "white",
           "linecolor": "white",
           "ticks": "",
           "title": {
            "standoff": 15
           },
           "zerolinecolor": "white",
           "zerolinewidth": 2
          }
         }
        },
        "width": 900,
        "xaxis": {
         "anchor": "y",
         "domain": [
          0,
          0.98
         ],
         "dtick": 1,
         "range": [
          1986,
          2016
         ],
         "title": {
          "text": ""
         },
         "type": "linear"
        },
        "xaxis2": {
         "anchor": "y2",
         "domain": [
          0,
          0.98
         ],
         "dtick": 1,
         "matches": "x",
         "showticklabels": false,
         "type": "linear"
        },
        "xaxis3": {
         "anchor": "y3",
         "domain": [
          0,
          0.98
         ],
         "dtick": 1,
         "matches": "x",
         "showticklabels": false,
         "type": "linear"
        },
        "yaxis": {
         "anchor": "x",
         "autorange": true,
         "domain": [
          0,
          0.32666666666666666
         ],
         "range": [
          -0.012218591945472215,
          0.7438092214055834
         ],
         "title": {
          "text": "Yield (mt/ha)"
         },
         "type": "linear"
        },
        "yaxis2": {
         "anchor": "x2",
         "autorange": true,
         "domain": [
          0.33666666666666667,
          0.6633333333333333
         ],
         "range": [
          -2388.110068051203,
          31873.3900680512
         ],
         "title": {
          "text": "Area (ha)"
         },
         "type": "linear"
        },
        "yaxis3": {
         "anchor": "x3",
         "autorange": true,
         "domain": [
          0.6733333333333333,
          1
         ],
         "range": [
          -185.42666865349048,
          3331.1022686534907
         ],
         "title": {
          "text": "Production (mt)"
         },
         "type": "linear"
        }
       }
      },
      "text/html": [
       "<div>                            <div id=\"85d94a7a-c1b1-4564-84e5-7b6619ca8dd9\" class=\"plotly-graph-div\" style=\"height:600px; width:900px;\"></div>            <script type=\"text/javascript\">                require([\"plotly\"], function(Plotly) {                    window.PLOTLYENV=window.PLOTLYENV || {};                                    if (document.getElementById(\"85d94a7a-c1b1-4564-84e5-7b6619ca8dd9\")) {                    Plotly.newPlot(                        \"85d94a7a-c1b1-4564-84e5-7b6619ca8dd9\",                        [{\"hovertemplate\":\"fnid=SL1960A20101<br>indicator=production<br>year=%{x}<br>value=%{y}<extra></extra>\",\"legendgroup\":\"SL1960A20101\",\"line\":{\"color\":\"#636efa\",\"dash\":\"solid\"},\"marker\":{\"symbol\":\"circle\"},\"mode\":\"markers+lines\",\"name\":\"SL1960A20101\",\"showlegend\":true,\"x\":[1986,1987,1988,1989,1990,1991,1992,1993,1994,1995,1996,1997,1998,1999,2000,2001,2002,2003,2004,2005,2006,2007,2008,2009,2010,2011,2012,2013,2014,2015,2016],\"xaxis\":\"x3\",\"y\":[362.0,null,null,null,null,null,null,null,null,null,null,null,null,null,null,null,null,null,null,null,null,null,null,null,null,null,null,null,null,1457.61,1603.371],\"yaxis\":\"y3\",\"type\":\"scattergl\",\"connectgaps\":false},{\"hovertemplate\":\"fnid=SL1960A20101<br>indicator=area<br>year=%{x}<br>value=%{y}<extra></extra>\",\"legendgroup\":\"SL1960A20101\",\"line\":{\"color\":\"#636efa\",\"dash\":\"solid\"},\"marker\":{\"symbol\":\"circle\"},\"mode\":\"markers+lines\",\"name\":\"SL1960A20101\",\"showlegend\":false,\"x\":[1986,1987,1988,1989,1990,1991,1992,1993,1994,1995,1996,1997,1998,1999,2000,2001,2002,2003,2004,2005,2006,2007,2008,2009,2010,2011,2012,2013,2014,2015,2016],\"xaxis\":\"x2\",\"y\":[807.0,null,null,null,null,null,null,null,null,null,null,null,null,null,null,null,null,231.255,836.0,null,null,null,null,null,null,null,null,null,null,null,null],\"yaxis\":\"y2\",\"type\":\"scattergl\",\"connectgaps\":false},{\"hovertemplate\":\"fnid=SL1960A20101<br>indicator=yield<br>year=%{x}<br>value=%{y}<extra></extra>\",\"legendgroup\":\"SL1960A20101\",\"line\":{\"color\":\"#636efa\",\"dash\":\"solid\"},\"marker\":{\"symbol\":\"circle\"},\"mode\":\"markers+lines\",\"name\":\"SL1960A20101\",\"showlegend\":false,\"x\":[1986,1987,1988,1989,1990,1991,1992,1993,1994,1995,1996,1997,1998,1999,2000,2001,2002,2003,2004,2005,2006,2007,2008,2009,2010,2011,2012,2013,2014,2015,2016],\"xaxis\":\"x\",\"y\":[0.4485749690210657,null,null,null,null,null,null,null,null,null,null,null,null,null,null,null,null,null,null,null,null,null,null,null,null,null,null,null,null,null,null],\"yaxis\":\"y\",\"type\":\"scattergl\",\"connectgaps\":false},{\"hovertemplate\":\"fnid=SL1960A20102<br>indicator=production<br>year=%{x}<br>value=%{y}<extra></extra>\",\"legendgroup\":\"SL1960A20102\",\"line\":{\"color\":\"#EF553B\",\"dash\":\"solid\"},\"marker\":{\"symbol\":\"circle\"},\"mode\":\"markers+lines\",\"name\":\"SL1960A20102\",\"showlegend\":true,\"x\":[1986,1987,1988,1989,1990,1991,1992,1993,1994,1995,1996,1997,1998,1999,2000,2001,2002,2003,2004,2005,2006,2007,2008,2009,2010,2011,2012,2013,2014,2015,2016],\"xaxis\":\"x3\",\"y\":[286.0,null,null,null,null,null,null,null,null,null,null,null,null,null,null,null,null,null,null,null,null,null,null,null,null,null,null,null,null,2188.494,2407.3434],\"yaxis\":\"y3\",\"type\":\"scattergl\",\"connectgaps\":false},{\"hovertemplate\":\"fnid=SL1960A20102<br>indicator=area<br>year=%{x}<br>value=%{y}<extra></extra>\",\"legendgroup\":\"SL1960A20102\",\"line\":{\"color\":\"#EF553B\",\"dash\":\"solid\"},\"marker\":{\"symbol\":\"circle\"},\"mode\":\"markers+lines\",\"name\":\"SL1960A20102\",\"showlegend\":false,\"x\":[1986,1987,1988,1989,1990,1991,1992,1993,1994,1995,1996,1997,1998,1999,2000,2001,2002,2003,2004,2005,2006,2007,2008,2009,2010,2011,2012,2013,2014,2015,2016],\"xaxis\":\"x2\",\"y\":[637.0,null,null,null,null,null,null,null,null,null,null,null,null,null,null,null,null,455.625,9042.0,null,null,null,null,null,null,null,null,null,null,null,null],\"yaxis\":\"y2\",\"type\":\"scattergl\",\"connectgaps\":false},{\"hovertemplate\":\"fnid=SL1960A20102<br>indicator=yield<br>year=%{x}<br>value=%{y}<extra></extra>\",\"legendgroup\":\"SL1960A20102\",\"line\":{\"color\":\"#EF553B\",\"dash\":\"solid\"},\"marker\":{\"symbol\":\"circle\"},\"mode\":\"markers+lines\",\"name\":\"SL1960A20102\",\"showlegend\":false,\"x\":[1986,1987,1988,1989,1990,1991,1992,1993,1994,1995,1996,1997,1998,1999,2000,2001,2002,2003,2004,2005,2006,2007,2008,2009,2010,2011,2012,2013,2014,2015,2016],\"xaxis\":\"x\",\"y\":[0.4489795918367347,null,null,null,null,null,null,null,null,null,null,null,null,null,null,null,null,null,null,null,null,null,null,null,null,null,null,null,null,null,null],\"yaxis\":\"y\",\"type\":\"scattergl\",\"connectgaps\":false},{\"hovertemplate\":\"fnid=SL1960A20103<br>indicator=production<br>year=%{x}<br>value=%{y}<extra></extra>\",\"legendgroup\":\"SL1960A20103\",\"line\":{\"color\":\"#00cc96\",\"dash\":\"solid\"},\"marker\":{\"symbol\":\"circle\"},\"mode\":\"markers+lines\",\"name\":\"SL1960A20103\",\"showlegend\":true,\"x\":[1986,1987,1988,1989,1990,1991,1992,1993,1994,1995,1996,1997,1998,1999,2000,2001,2002,2003,2004,2005,2006,2007,2008,2009,2010,2011,2012,2013,2014,2015,2016],\"xaxis\":\"x3\",\"y\":[164.0,null,null,null,null,null,null,null,null,null,null,null,null,null,null,null,null,null,null,null,null,null,null,null,null,null,null,null,null,2176.944,2394.6384],\"yaxis\":\"y3\",\"type\":\"scattergl\",\"connectgaps\":false},{\"hovertemplate\":\"fnid=SL1960A20103<br>indicator=area<br>year=%{x}<br>value=%{y}<extra></extra>\",\"legendgroup\":\"SL1960A20103\",\"line\":{\"color\":\"#00cc96\",\"dash\":\"solid\"},\"marker\":{\"symbol\":\"circle\"},\"mode\":\"markers+lines\",\"name\":\"SL1960A20103\",\"showlegend\":false,\"x\":[1986,1987,1988,1989,1990,1991,1992,1993,1994,1995,1996,1997,1998,1999,2000,2001,2002,2003,2004,2005,2006,2007,2008,2009,2010,2011,2012,2013,2014,2015,2016],\"xaxis\":\"x2\",\"y\":[3900.0,null,null,null,null,null,null,null,null,null,null,null,null,null,null,null,null,17415.0,14740.0,null,null,null,null,null,null,null,null,null,null,null,null],\"yaxis\":\"y2\",\"type\":\"scattergl\",\"connectgaps\":false},{\"hovertemplate\":\"fnid=SL1960A20103<br>indicator=yield<br>year=%{x}<br>value=%{y}<extra></extra>\",\"legendgroup\":\"SL1960A20103\",\"line\":{\"color\":\"#00cc96\",\"dash\":\"solid\"},\"marker\":{\"symbol\":\"circle\"},\"mode\":\"markers+lines\",\"name\":\"SL1960A20103\",\"showlegend\":false,\"x\":[1986,1987,1988,1989,1990,1991,1992,1993,1994,1995,1996,1997,1998,1999,2000,2001,2002,2003,2004,2005,2006,2007,2008,2009,2010,2011,2012,2013,2014,2015,2016],\"xaxis\":\"x\",\"y\":[0.042051282051282,null,null,null,null,null,null,null,null,null,null,null,null,null,null,null,null,null,null,null,null,null,null,null,null,null,null,null,null,null,null],\"yaxis\":\"y\",\"type\":\"scattergl\",\"connectgaps\":false},{\"hovertemplate\":\"fnid=SL1960A20201<br>indicator=production<br>year=%{x}<br>value=%{y}<extra></extra>\",\"legendgroup\":\"SL1960A20201\",\"line\":{\"color\":\"#ab63fa\",\"dash\":\"solid\"},\"marker\":{\"symbol\":\"circle\"},\"mode\":\"markers+lines\",\"name\":\"SL1960A20201\",\"showlegend\":true,\"x\":[1986,1987,1988,1989,1990,1991,1992,1993,1994,1995,1996,1997,1998,1999,2000,2001,2002,2003,2004,2005,2006,2007,2008,2009,2010,2011,2012,2013,2014,2015,2016],\"xaxis\":\"x3\",\"y\":[1181.0,null,null,null,null,null,null,null,null,null,null,null,null,null,null,null,null,null,null,null,null,null,null,null,null,null,null,null,null,1822.59,2004.849],\"yaxis\":\"y3\",\"type\":\"scattergl\",\"connectgaps\":false},{\"hovertemplate\":\"fnid=SL1960A20201<br>indicator=area<br>year=%{x}<br>value=%{y}<extra></extra>\",\"legendgroup\":\"SL1960A20201\",\"line\":{\"color\":\"#ab63fa\",\"dash\":\"solid\"},\"marker\":{\"symbol\":\"circle\"},\"mode\":\"markers+lines\",\"name\":\"SL1960A20201\",\"showlegend\":false,\"x\":[1986,1987,1988,1989,1990,1991,1992,1993,1994,1995,1996,1997,1998,1999,2000,2001,2002,2003,2004,2005,2006,2007,2008,2009,2010,2011,2012,2013,2014,2015,2016],\"xaxis\":\"x2\",\"y\":[1809.0,null,null,null,null,null,null,null,null,null,null,null,null,null,null,null,null,623.7,1246.0,null,null,null,null,null,null,null,null,null,null,null,null],\"yaxis\":\"y2\",\"type\":\"scattergl\",\"connectgaps\":false},{\"hovertemplate\":\"fnid=SL1960A20201<br>indicator=yield<br>year=%{x}<br>value=%{y}<extra></extra>\",\"legendgroup\":\"SL1960A20201\",\"line\":{\"color\":\"#ab63fa\",\"dash\":\"solid\"},\"marker\":{\"symbol\":\"circle\"},\"mode\":\"markers+lines\",\"name\":\"SL1960A20201\",\"showlegend\":false,\"x\":[1986,1987,1988,1989,1990,1991,1992,1993,1994,1995,1996,1997,1998,1999,2000,2001,2002,2003,2004,2005,2006,2007,2008,2009,2010,2011,2012,2013,2014,2015,2016],\"xaxis\":\"x\",\"y\":[0.6528468767274738,null,null,null,null,null,null,null,null,null,null,null,null,null,null,null,null,null,null,null,null,null,null,null,null,null,null,null,null,null,null],\"yaxis\":\"y\",\"type\":\"scattergl\",\"connectgaps\":false},{\"hovertemplate\":\"fnid=SL1960A20202<br>indicator=production<br>year=%{x}<br>value=%{y}<extra></extra>\",\"legendgroup\":\"SL1960A20202\",\"line\":{\"color\":\"#FFA15A\",\"dash\":\"solid\"},\"marker\":{\"symbol\":\"circle\"},\"mode\":\"markers+lines\",\"name\":\"SL1960A20202\",\"showlegend\":true,\"x\":[1986,1987,1988,1989,1990,1991,1992,1993,1994,1995,1996,1997,1998,1999,2000,2001,2002,2003,2004,2005,2006,2007,2008,2009,2010,2011,2012,2013,2014,2015,2016],\"xaxis\":\"x3\",\"y\":[261.0,null,null,null,null,null,null,null,null,null,null,null,null,null,null,null,null,null,null,null,null,null,null,null,null,null,null,null,null,1748.67,1923.537],\"yaxis\":\"y3\",\"type\":\"scattergl\",\"connectgaps\":false},{\"hovertemplate\":\"fnid=SL1960A20202<br>indicator=area<br>year=%{x}<br>value=%{y}<extra></extra>\",\"legendgroup\":\"SL1960A20202\",\"line\":{\"color\":\"#FFA15A\",\"dash\":\"solid\"},\"marker\":{\"symbol\":\"circle\"},\"mode\":\"markers+lines\",\"name\":\"SL1960A20202\",\"showlegend\":false,\"x\":[1986,1987,1988,1989,1990,1991,1992,1993,1994,1995,1996,1997,1998,1999,2000,2001,2002,2003,2004,2005,2006,2007,2008,2009,2010,2011,2012,2013,2014,2015,2016],\"xaxis\":\"x2\",\"y\":[827.0,null,null,null,null,null,null,null,null,null,null,null,null,null,null,null,null,8100.0,9834.0,null,null,null,null,null,null,null,null,null,null,null,null],\"yaxis\":\"y2\",\"type\":\"scattergl\",\"connectgaps\":false},{\"hovertemplate\":\"fnid=SL1960A20202<br>indicator=yield<br>year=%{x}<br>value=%{y}<extra></extra>\",\"legendgroup\":\"SL1960A20202\",\"line\":{\"color\":\"#FFA15A\",\"dash\":\"solid\"},\"marker\":{\"symbol\":\"circle\"},\"mode\":\"markers+lines\",\"name\":\"SL1960A20202\",\"showlegend\":false,\"x\":[1986,1987,1988,1989,1990,1991,1992,1993,1994,1995,1996,1997,1998,1999,2000,2001,2002,2003,2004,2005,2006,2007,2008,2009,2010,2011,2012,2013,2014,2015,2016],\"xaxis\":\"x\",\"y\":[0.3155985489721886,null,null,null,null,null,null,null,null,null,null,null,null,null,null,null,null,null,null,null,null,null,null,null,null,null,null,null,null,null,null],\"yaxis\":\"y\",\"type\":\"scattergl\",\"connectgaps\":false},{\"hovertemplate\":\"fnid=SL1960A20203<br>indicator=production<br>year=%{x}<br>value=%{y}<extra></extra>\",\"legendgroup\":\"SL1960A20203\",\"line\":{\"color\":\"#19d3f3\",\"dash\":\"solid\"},\"marker\":{\"symbol\":\"circle\"},\"mode\":\"markers+lines\",\"name\":\"SL1960A20203\",\"showlegend\":true,\"x\":[1986,1987,1988,1989,1990,1991,1992,1993,1994,1995,1996,1997,1998,1999,2000,2001,2002,2003,2004,2005,2006,2007,2008,2009,2010,2011,2012,2013,2014,2015,2016],\"xaxis\":\"x3\",\"y\":[1132.0,null,null,null,null,null,null,null,null,null,null,null,null,null,null,null,null,null,null,null,null,null,null,null,null,null,null,null,null,1784.244,1962.6684],\"yaxis\":\"y3\",\"type\":\"scattergl\",\"connectgaps\":false},{\"hovertemplate\":\"fnid=SL1960A20203<br>indicator=area<br>year=%{x}<br>value=%{y}<extra></extra>\",\"legendgroup\":\"SL1960A20203\",\"line\":{\"color\":\"#19d3f3\",\"dash\":\"solid\"},\"marker\":{\"symbol\":\"circle\"},\"mode\":\"markers+lines\",\"name\":\"SL1960A20203\",\"showlegend\":false,\"x\":[1986,1987,1988,1989,1990,1991,1992,1993,1994,1995,1996,1997,1998,1999,2000,2001,2002,2003,2004,2005,2006,2007,2008,2009,2010,2011,2012,2013,2014,2015,2016],\"xaxis\":\"x2\",\"y\":[1838.0,null,null,null,null,null,null,null,null,null,null,null,null,null,null,null,null,12202.65,18090.0,null,null,null,null,null,null,null,null,null,null,null,null],\"yaxis\":\"y2\",\"type\":\"scattergl\",\"connectgaps\":false},{\"hovertemplate\":\"fnid=SL1960A20203<br>indicator=yield<br>year=%{x}<br>value=%{y}<extra></extra>\",\"legendgroup\":\"SL1960A20203\",\"line\":{\"color\":\"#19d3f3\",\"dash\":\"solid\"},\"marker\":{\"symbol\":\"circle\"},\"mode\":\"markers+lines\",\"name\":\"SL1960A20203\",\"showlegend\":false,\"x\":[1986,1987,1988,1989,1990,1991,1992,1993,1994,1995,1996,1997,1998,1999,2000,2001,2002,2003,2004,2005,2006,2007,2008,2009,2010,2011,2012,2013,2014,2015,2016],\"xaxis\":\"x\",\"y\":[0.6158868335146899,null,null,null,null,null,null,null,null,null,null,null,null,null,null,null,null,null,null,null,null,null,null,null,null,null,null,null,null,null,null],\"yaxis\":\"y\",\"type\":\"scattergl\",\"connectgaps\":false},{\"hovertemplate\":\"fnid=SL1960A20204<br>indicator=production<br>year=%{x}<br>value=%{y}<extra></extra>\",\"legendgroup\":\"SL1960A20204\",\"line\":{\"color\":\"#FF6692\",\"dash\":\"solid\"},\"marker\":{\"symbol\":\"circle\"},\"mode\":\"markers+lines\",\"name\":\"SL1960A20204\",\"showlegend\":true,\"x\":[1986,1987,1988,1989,1990,1991,1992,1993,1994,1995,1996,1997,1998,1999,2000,2001,2002,2003,2004,2005,2006,2007,2008,2009,2010,2011,2012,2013,2014,2015,2016],\"xaxis\":\"x3\",\"y\":[178.0,null,null,null,null,null,null,null,null,null,null,null,null,null,null,null,null,null,null,null,null,null,null,null,null,null,null,null,null,2022.405,2224.6455],\"yaxis\":\"y3\",\"type\":\"scattergl\",\"connectgaps\":false},{\"hovertemplate\":\"fnid=SL1960A20204<br>indicator=area<br>year=%{x}<br>value=%{y}<extra></extra>\",\"legendgroup\":\"SL1960A20204\",\"line\":{\"color\":\"#FF6692\",\"dash\":\"solid\"},\"marker\":{\"symbol\":\"circle\"},\"mode\":\"markers+lines\",\"name\":\"SL1960A20204\",\"showlegend\":false,\"x\":[1986,1987,1988,1989,1990,1991,1992,1993,1994,1995,1996,1997,1998,1999,2000,2001,2002,2003,2004,2005,2006,2007,2008,2009,2010,2011,2012,2013,2014,2015,2016],\"xaxis\":\"x2\",\"y\":[740.0,null,null,null,null,null,null,null,null,null,null,null,null,null,null,null,null,313.875,1163.0,null,null,null,null,null,null,null,null,null,null,null,null],\"yaxis\":\"y2\",\"type\":\"scattergl\",\"connectgaps\":false},{\"hovertemplate\":\"fnid=SL1960A20204<br>indicator=yield<br>year=%{x}<br>value=%{y}<extra></extra>\",\"legendgroup\":\"SL1960A20204\",\"line\":{\"color\":\"#FF6692\",\"dash\":\"solid\"},\"marker\":{\"symbol\":\"circle\"},\"mode\":\"markers+lines\",\"name\":\"SL1960A20204\",\"showlegend\":false,\"x\":[1986,1987,1988,1989,1990,1991,1992,1993,1994,1995,1996,1997,1998,1999,2000,2001,2002,2003,2004,2005,2006,2007,2008,2009,2010,2011,2012,2013,2014,2015,2016],\"xaxis\":\"x\",\"y\":[0.2405405405405405,null,null,null,null,null,null,null,null,null,null,null,null,null,null,null,null,null,null,null,null,null,null,null,null,null,null,null,null,null,null],\"yaxis\":\"y\",\"type\":\"scattergl\",\"connectgaps\":false},{\"hovertemplate\":\"fnid=SL1960A20205<br>indicator=production<br>year=%{x}<br>value=%{y}<extra></extra>\",\"legendgroup\":\"SL1960A20205\",\"line\":{\"color\":\"#B6E880\",\"dash\":\"solid\"},\"marker\":{\"symbol\":\"circle\"},\"mode\":\"markers+lines\",\"name\":\"SL1960A20205\",\"showlegend\":true,\"x\":[1986,1987,1988,1989,1990,1991,1992,1993,1994,1995,1996,1997,1998,1999,2000,2001,2002,2003,2004,2005,2006,2007,2008,2009,2010,2011,2012,2013,2014,2015,2016],\"xaxis\":\"x3\",\"y\":[1591.0,null,null,null,null,null,null,null,null,null,null,null,null,null,null,null,null,null,null,null,null,null,null,null,null,null,null,null,null,2315.544,2547.0984],\"yaxis\":\"y3\",\"type\":\"scattergl\",\"connectgaps\":false},{\"hovertemplate\":\"fnid=SL1960A20205<br>indicator=area<br>year=%{x}<br>value=%{y}<extra></extra>\",\"legendgroup\":\"SL1960A20205\",\"line\":{\"color\":\"#B6E880\",\"dash\":\"solid\"},\"marker\":{\"symbol\":\"circle\"},\"mode\":\"markers+lines\",\"name\":\"SL1960A20205\",\"showlegend\":false,\"x\":[1986,1987,1988,1989,1990,1991,1992,1993,1994,1995,1996,1997,1998,1999,2000,2001,2002,2003,2004,2005,2006,2007,2008,2009,2010,2011,2012,2013,2014,2015,2016],\"xaxis\":\"x2\",\"y\":[2437.0,null,null,null,null,null,null,null,null,null,null,null,null,null,null,null,null,24422.0,14023.0,null,null,null,null,null,null,null,null,null,null,null,null],\"yaxis\":\"y2\",\"type\":\"scattergl\",\"connectgaps\":false},{\"hovertemplate\":\"fnid=SL1960A20205<br>indicator=yield<br>year=%{x}<br>value=%{y}<extra></extra>\",\"legendgroup\":\"SL1960A20205\",\"line\":{\"color\":\"#B6E880\",\"dash\":\"solid\"},\"marker\":{\"symbol\":\"circle\"},\"mode\":\"markers+lines\",\"name\":\"SL1960A20205\",\"showlegend\":false,\"x\":[1986,1987,1988,1989,1990,1991,1992,1993,1994,1995,1996,1997,1998,1999,2000,2001,2002,2003,2004,2005,2006,2007,2008,2009,2010,2011,2012,2013,2014,2015,2016],\"xaxis\":\"x\",\"y\":[0.6528518670496513,null,null,null,null,null,null,null,null,null,null,null,null,null,null,null,null,null,null,null,null,null,null,null,null,null,null,null,null,null,null],\"yaxis\":\"y\",\"type\":\"scattergl\",\"connectgaps\":false},{\"hovertemplate\":\"fnid=SL1960A20301<br>indicator=production<br>year=%{x}<br>value=%{y}<extra></extra>\",\"legendgroup\":\"SL1960A20301\",\"line\":{\"color\":\"#FF97FF\",\"dash\":\"solid\"},\"marker\":{\"symbol\":\"circle\"},\"mode\":\"markers+lines\",\"name\":\"SL1960A20301\",\"showlegend\":true,\"x\":[1986,1987,1988,1989,1990,1991,1992,1993,1994,1995,1996,1997,1998,1999,2000,2001,2002,2003,2004,2005,2006,2007,2008,2009,2010,2011,2012,2013,2014,2015,2016],\"xaxis\":\"x3\",\"y\":[155.0,null,null,null,null,null,null,null,null,null,null,null,null,null,null,null,null,null,null,null,null,null,null,null,null,null,null,null,null,1485.33,1633.863],\"yaxis\":\"y3\",\"type\":\"scattergl\",\"connectgaps\":false},{\"hovertemplate\":\"fnid=SL1960A20301<br>indicator=area<br>year=%{x}<br>value=%{y}<extra></extra>\",\"legendgroup\":\"SL1960A20301\",\"line\":{\"color\":\"#FF97FF\",\"dash\":\"solid\"},\"marker\":{\"symbol\":\"circle\"},\"mode\":\"markers+lines\",\"name\":\"SL1960A20301\",\"showlegend\":false,\"x\":[1986,1987,1988,1989,1990,1991,1992,1993,1994,1995,1996,1997,1998,1999,2000,2001,2002,2003,2004,2005,2006,2007,2008,2009,2010,2011,2012,2013,2014,2015,2016],\"xaxis\":\"x2\",\"y\":[491.0,null,null,null,null,null,null,null,null,null,null,null,null,null,null,null,null,104.49,1171.0,null,null,null,null,null,null,null,null,null,null,null,null],\"yaxis\":\"y2\",\"type\":\"scattergl\",\"connectgaps\":false},{\"hovertemplate\":\"fnid=SL1960A20301<br>indicator=yield<br>year=%{x}<br>value=%{y}<extra></extra>\",\"legendgroup\":\"SL1960A20301\",\"line\":{\"color\":\"#FF97FF\",\"dash\":\"solid\"},\"marker\":{\"symbol\":\"circle\"},\"mode\":\"markers+lines\",\"name\":\"SL1960A20301\",\"showlegend\":false,\"x\":[1986,1987,1988,1989,1990,1991,1992,1993,1994,1995,1996,1997,1998,1999,2000,2001,2002,2003,2004,2005,2006,2007,2008,2009,2010,2011,2012,2013,2014,2015,2016],\"xaxis\":\"x\",\"y\":[0.3156822810590631,null,null,null,null,null,null,null,null,null,null,null,null,null,null,null,null,null,null,null,null,null,null,null,null,null,null,null,null,null,null],\"yaxis\":\"y\",\"type\":\"scattergl\",\"connectgaps\":false},{\"hovertemplate\":\"fnid=SL1960A20302<br>indicator=production<br>year=%{x}<br>value=%{y}<extra></extra>\",\"legendgroup\":\"SL1960A20302\",\"line\":{\"color\":\"#FECB52\",\"dash\":\"solid\"},\"marker\":{\"symbol\":\"circle\"},\"mode\":\"markers+lines\",\"name\":\"SL1960A20302\",\"showlegend\":true,\"x\":[1986,1987,1988,1989,1990,1991,1992,1993,1994,1995,1996,1997,1998,1999,2000,2001,2002,2003,2004,2005,2006,2007,2008,2009,2010,2011,2012,2013,2014,2015,2016],\"xaxis\":\"x3\",\"y\":[1600.0,null,null,null,null,null,null,null,null,null,null,null,null,null,null,null,null,null,null,null,null,null,null,null,null,null,null,null,null,1027.95,1130.745],\"yaxis\":\"y3\",\"type\":\"scattergl\",\"connectgaps\":false},{\"hovertemplate\":\"fnid=SL1960A20302<br>indicator=area<br>year=%{x}<br>value=%{y}<extra></extra>\",\"legendgroup\":\"SL1960A20302\",\"line\":{\"color\":\"#FECB52\",\"dash\":\"solid\"},\"marker\":{\"symbol\":\"circle\"},\"mode\":\"markers+lines\",\"name\":\"SL1960A20302\",\"showlegend\":false,\"x\":[1986,1987,1988,1989,1990,1991,1992,1993,1994,1995,1996,1997,1998,1999,2000,2001,2002,2003,2004,2005,2006,2007,2008,2009,2010,2011,2012,2013,2014,2015,2016],\"xaxis\":\"x2\",\"y\":[8400.0,null,null,null,null,null,null,null,null,null,null,null,null,null,null,null,null,2552.0,2493.0,null,null,null,null,null,null,null,null,null,null,null,null],\"yaxis\":\"y2\",\"type\":\"scattergl\",\"connectgaps\":false},{\"hovertemplate\":\"fnid=SL1960A20302<br>indicator=yield<br>year=%{x}<br>value=%{y}<extra></extra>\",\"legendgroup\":\"SL1960A20302\",\"line\":{\"color\":\"#FECB52\",\"dash\":\"solid\"},\"marker\":{\"symbol\":\"circle\"},\"mode\":\"markers+lines\",\"name\":\"SL1960A20302\",\"showlegend\":false,\"x\":[1986,1987,1988,1989,1990,1991,1992,1993,1994,1995,1996,1997,1998,1999,2000,2001,2002,2003,2004,2005,2006,2007,2008,2009,2010,2011,2012,2013,2014,2015,2016],\"xaxis\":\"x\",\"y\":[0.1904761904761904,null,null,null,null,null,null,null,null,null,null,null,null,null,null,null,null,null,null,null,null,null,null,null,null,null,null,null,null,null,null],\"yaxis\":\"y\",\"type\":\"scattergl\",\"connectgaps\":false},{\"hovertemplate\":\"fnid=SL1960A20303<br>indicator=production<br>year=%{x}<br>value=%{y}<extra></extra>\",\"legendgroup\":\"SL1960A20303\",\"line\":{\"color\":\"#636efa\",\"dash\":\"solid\"},\"marker\":{\"symbol\":\"circle\"},\"mode\":\"markers+lines\",\"name\":\"SL1960A20303\",\"showlegend\":true,\"x\":[1986,1987,1988,1989,1990,1991,1992,1993,1994,1995,1996,1997,1998,1999,2000,2001,2002,2003,2004,2005,2006,2007,2008,2009,2010,2011,2012,2013,2014,2015,2016],\"xaxis\":\"x3\",\"y\":[2874.0,null,null,null,null,null,null,null,null,null,null,null,null,null,null,null,null,null,null,null,null,null,null,null,null,null,null,null,null,2798.796,3078.6756],\"yaxis\":\"y3\",\"type\":\"scattergl\",\"connectgaps\":false},{\"hovertemplate\":\"fnid=SL1960A20303<br>indicator=area<br>year=%{x}<br>value=%{y}<extra></extra>\",\"legendgroup\":\"SL1960A20303\",\"line\":{\"color\":\"#636efa\",\"dash\":\"solid\"},\"marker\":{\"symbol\":\"circle\"},\"mode\":\"markers+lines\",\"name\":\"SL1960A20303\",\"showlegend\":false,\"x\":[1986,1987,1988,1989,1990,1991,1992,1993,1994,1995,1996,1997,1998,1999,2000,2001,2002,2003,2004,2005,2006,2007,2008,2009,2010,2011,2012,2013,2014,2015,2016],\"xaxis\":\"x2\",\"y\":[4168.0,null,null,null,null,null,null,null,null,null,null,null,null,null,null,null,null,null,29414.0,null,null,null,null,null,null,null,null,null,null,null,null],\"yaxis\":\"y2\",\"type\":\"scattergl\",\"connectgaps\":false},{\"hovertemplate\":\"fnid=SL1960A20303<br>indicator=yield<br>year=%{x}<br>value=%{y}<extra></extra>\",\"legendgroup\":\"SL1960A20303\",\"line\":{\"color\":\"#636efa\",\"dash\":\"solid\"},\"marker\":{\"symbol\":\"circle\"},\"mode\":\"markers+lines\",\"name\":\"SL1960A20303\",\"showlegend\":false,\"x\":[1986,1987,1988,1989,1990,1991,1992,1993,1994,1995,1996,1997,1998,1999,2000,2001,2002,2003,2004,2005,2006,2007,2008,2009,2010,2011,2012,2013,2014,2015,2016],\"xaxis\":\"x\",\"y\":[0.6895393474088292,null,null,null,null,null,null,null,null,null,null,null,null,null,null,null,null,null,null,null,null,null,null,null,null,null,null,null,null,null,null],\"yaxis\":\"y\",\"type\":\"scattergl\",\"connectgaps\":false},{\"hovertemplate\":\"fnid=SL1960A20304<br>indicator=production<br>year=%{x}<br>value=%{y}<extra></extra>\",\"legendgroup\":\"SL1960A20304\",\"line\":{\"color\":\"#EF553B\",\"dash\":\"solid\"},\"marker\":{\"symbol\":\"circle\"},\"mode\":\"markers+lines\",\"name\":\"SL1960A20304\",\"showlegend\":true,\"x\":[1986,1987,1988,1989,1990,1991,1992,1993,1994,1995,1996,1997,1998,1999,2000,2001,2002,2003,2004,2005,2006,2007,2008,2009,2010,2011,2012,2013,2014,2015,2016],\"xaxis\":\"x3\",\"y\":[67.0,null,null,null,null,null,null,null,null,null,null,null,null,null,null,null,null,null,null,null,null,null,null,null,null,null,null,null,null,1226.61,1349.271],\"yaxis\":\"y3\",\"type\":\"scattergl\",\"connectgaps\":false},{\"hovertemplate\":\"fnid=SL1960A20304<br>indicator=area<br>year=%{x}<br>value=%{y}<extra></extra>\",\"legendgroup\":\"SL1960A20304\",\"line\":{\"color\":\"#EF553B\",\"dash\":\"solid\"},\"marker\":{\"symbol\":\"circle\"},\"mode\":\"markers+lines\",\"name\":\"SL1960A20304\",\"showlegend\":false,\"x\":[1986,1987,1988,1989,1990,1991,1992,1993,1994,1995,1996,1997,1998,1999,2000,2001,2002,2003,2004,2005,2006,2007,2008,2009,2010,2011,2012,2013,2014,2015,2016],\"xaxis\":\"x2\",\"y\":[212.0,null,null,null,null,null,null,null,null,null,null,null,null,null,null,null,null,2228.0,6986.0,null,null,null,null,null,null,null,null,null,null,null,null],\"yaxis\":\"y2\",\"type\":\"scattergl\",\"connectgaps\":false},{\"hovertemplate\":\"fnid=SL1960A20304<br>indicator=yield<br>year=%{x}<br>value=%{y}<extra></extra>\",\"legendgroup\":\"SL1960A20304\",\"line\":{\"color\":\"#EF553B\",\"dash\":\"solid\"},\"marker\":{\"symbol\":\"circle\"},\"mode\":\"markers+lines\",\"name\":\"SL1960A20304\",\"showlegend\":false,\"x\":[1986,1987,1988,1989,1990,1991,1992,1993,1994,1995,1996,1997,1998,1999,2000,2001,2002,2003,2004,2005,2006,2007,2008,2009,2010,2011,2012,2013,2014,2015,2016],\"xaxis\":\"x\",\"y\":[0.3160377358490566,null,null,null,null,null,null,null,null,null,null,null,null,null,null,null,null,null,null,null,null,null,null,null,null,null,null,null,null,null,null],\"yaxis\":\"y\",\"type\":\"scattergl\",\"connectgaps\":false},{\"hovertemplate\":\"fnid=SL1960A20401<br>indicator=production<br>year=%{x}<br>value=%{y}<extra></extra>\",\"legendgroup\":\"SL1960A20401\",\"line\":{\"color\":\"#00cc96\",\"dash\":\"solid\"},\"marker\":{\"symbol\":\"circle\"},\"mode\":\"markers+lines\",\"name\":\"SL1960A20401\",\"showlegend\":true,\"x\":[1986,1987,1988,1989,1990,1991,1992,1993,1994,1995,1996,1997,1998,1999,2000,2001,2002,2003,2004,2005,2006,2007,2008,2009,2010,2011,2012,2013,2014,2015,2016],\"xaxis\":\"x3\",\"y\":[null,null,null,null,null,null,null,null,null,null,null,null,null,null,null,null,null,null,null,null,null,null,null,null,null,null,null,null,null,822.129,904.3419],\"yaxis\":\"y3\",\"type\":\"scattergl\",\"connectgaps\":false},{\"hovertemplate\":\"fnid=SL1960A20401<br>indicator=area<br>year=%{x}<br>value=%{y}<extra></extra>\",\"legendgroup\":\"SL1960A20401\",\"line\":{\"color\":\"#00cc96\",\"dash\":\"solid\"},\"marker\":{\"symbol\":\"circle\"},\"mode\":\"markers+lines\",\"name\":\"SL1960A20401\",\"showlegend\":false,\"x\":[1986,1987,1988,1989,1990,1991,1992,1993,1994,1995,1996,1997,1998,1999,2000,2001,2002,2003,2004,2005,2006,2007,2008,2009,2010,2011,2012,2013,2014,2015,2016],\"xaxis\":\"x2\",\"y\":[null,null,null,null,null,null,null,null,null,null,null,null,null,null,null,null,null,71.28,1272.0,null,null,null,null,null,null,null,null,null,null,null,null],\"yaxis\":\"y2\",\"type\":\"scattergl\",\"connectgaps\":false}],                        {\"template\":{\"data\":{\"histogram2dcontour\":[{\"type\":\"histogram2dcontour\",\"colorbar\":{\"outlinewidth\":0,\"ticks\":\"\"},\"colorscale\":[[0.0,\"#0d0887\"],[0.1111111111111111,\"#46039f\"],[0.2222222222222222,\"#7201a8\"],[0.3333333333333333,\"#9c179e\"],[0.4444444444444444,\"#bd3786\"],[0.5555555555555556,\"#d8576b\"],[0.6666666666666666,\"#ed7953\"],[0.7777777777777778,\"#fb9f3a\"],[0.8888888888888888,\"#fdca26\"],[1.0,\"#f0f921\"]]}],\"choropleth\":[{\"type\":\"choropleth\",\"colorbar\":{\"outlinewidth\":0,\"ticks\":\"\"}}],\"histogram2d\":[{\"type\":\"histogram2d\",\"colorbar\":{\"outlinewidth\":0,\"ticks\":\"\"},\"colorscale\":[[0.0,\"#0d0887\"],[0.1111111111111111,\"#46039f\"],[0.2222222222222222,\"#7201a8\"],[0.3333333333333333,\"#9c179e\"],[0.4444444444444444,\"#bd3786\"],[0.5555555555555556,\"#d8576b\"],[0.6666666666666666,\"#ed7953\"],[0.7777777777777778,\"#fb9f3a\"],[0.8888888888888888,\"#fdca26\"],[1.0,\"#f0f921\"]]}],\"heatmap\":[{\"type\":\"heatmap\",\"colorbar\":{\"outlinewidth\":0,\"ticks\":\"\"},\"colorscale\":[[0.0,\"#0d0887\"],[0.1111111111111111,\"#46039f\"],[0.2222222222222222,\"#7201a8\"],[0.3333333333333333,\"#9c179e\"],[0.4444444444444444,\"#bd3786\"],[0.5555555555555556,\"#d8576b\"],[0.6666666666666666,\"#ed7953\"],[0.7777777777777778,\"#fb9f3a\"],[0.8888888888888888,\"#fdca26\"],[1.0,\"#f0f921\"]]}],\"heatmapgl\":[{\"type\":\"heatmapgl\",\"colorbar\":{\"outlinewidth\":0,\"ticks\":\"\"},\"colorscale\":[[0.0,\"#0d0887\"],[0.1111111111111111,\"#46039f\"],[0.2222222222222222,\"#7201a8\"],[0.3333333333333333,\"#9c179e\"],[0.4444444444444444,\"#bd3786\"],[0.5555555555555556,\"#d8576b\"],[0.6666666666666666,\"#ed7953\"],[0.7777777777777778,\"#fb9f3a\"],[0.8888888888888888,\"#fdca26\"],[1.0,\"#f0f921\"]]}],\"contourcarpet\":[{\"type\":\"contourcarpet\",\"colorbar\":{\"outlinewidth\":0,\"ticks\":\"\"}}],\"contour\":[{\"type\":\"contour\",\"colorbar\":{\"outlinewidth\":0,\"ticks\":\"\"},\"colorscale\":[[0.0,\"#0d0887\"],[0.1111111111111111,\"#46039f\"],[0.2222222222222222,\"#7201a8\"],[0.3333333333333333,\"#9c179e\"],[0.4444444444444444,\"#bd3786\"],[0.5555555555555556,\"#d8576b\"],[0.6666666666666666,\"#ed7953\"],[0.7777777777777778,\"#fb9f3a\"],[0.8888888888888888,\"#fdca26\"],[1.0,\"#f0f921\"]]}],\"surface\":[{\"type\":\"surface\",\"colorbar\":{\"outlinewidth\":0,\"ticks\":\"\"},\"colorscale\":[[0.0,\"#0d0887\"],[0.1111111111111111,\"#46039f\"],[0.2222222222222222,\"#7201a8\"],[0.3333333333333333,\"#9c179e\"],[0.4444444444444444,\"#bd3786\"],[0.5555555555555556,\"#d8576b\"],[0.6666666666666666,\"#ed7953\"],[0.7777777777777778,\"#fb9f3a\"],[0.8888888888888888,\"#fdca26\"],[1.0,\"#f0f921\"]]}],\"mesh3d\":[{\"type\":\"mesh3d\",\"colorbar\":{\"outlinewidth\":0,\"ticks\":\"\"}}],\"scatter\":[{\"fillpattern\":{\"fillmode\":\"overlay\",\"size\":10,\"solidity\":0.2},\"type\":\"scatter\"}],\"parcoords\":[{\"type\":\"parcoords\",\"line\":{\"colorbar\":{\"outlinewidth\":0,\"ticks\":\"\"}}}],\"scatterpolargl\":[{\"type\":\"scatterpolargl\",\"marker\":{\"colorbar\":{\"outlinewidth\":0,\"ticks\":\"\"}}}],\"bar\":[{\"error_x\":{\"color\":\"#2a3f5f\"},\"error_y\":{\"color\":\"#2a3f5f\"},\"marker\":{\"line\":{\"color\":\"#E5ECF6\",\"width\":0.5},\"pattern\":{\"fillmode\":\"overlay\",\"size\":10,\"solidity\":0.2}},\"type\":\"bar\"}],\"scattergeo\":[{\"type\":\"scattergeo\",\"marker\":{\"colorbar\":{\"outlinewidth\":0,\"ticks\":\"\"}}}],\"scatterpolar\":[{\"type\":\"scatterpolar\",\"marker\":{\"colorbar\":{\"outlinewidth\":0,\"ticks\":\"\"}}}],\"histogram\":[{\"marker\":{\"pattern\":{\"fillmode\":\"overlay\",\"size\":10,\"solidity\":0.2}},\"type\":\"histogram\"}],\"scattergl\":[{\"type\":\"scattergl\",\"marker\":{\"colorbar\":{\"outlinewidth\":0,\"ticks\":\"\"}}}],\"scatter3d\":[{\"type\":\"scatter3d\",\"line\":{\"colorbar\":{\"outlinewidth\":0,\"ticks\":\"\"}},\"marker\":{\"colorbar\":{\"outlinewidth\":0,\"ticks\":\"\"}}}],\"scattermapbox\":[{\"type\":\"scattermapbox\",\"marker\":{\"colorbar\":{\"outlinewidth\":0,\"ticks\":\"\"}}}],\"scatterternary\":[{\"type\":\"scatterternary\",\"marker\":{\"colorbar\":{\"outlinewidth\":0,\"ticks\":\"\"}}}],\"scattercarpet\":[{\"type\":\"scattercarpet\",\"marker\":{\"colorbar\":{\"outlinewidth\":0,\"ticks\":\"\"}}}],\"carpet\":[{\"aaxis\":{\"endlinecolor\":\"#2a3f5f\",\"gridcolor\":\"white\",\"linecolor\":\"white\",\"minorgridcolor\":\"white\",\"startlinecolor\":\"#2a3f5f\"},\"baxis\":{\"endlinecolor\":\"#2a3f5f\",\"gridcolor\":\"white\",\"linecolor\":\"white\",\"minorgridcolor\":\"white\",\"startlinecolor\":\"#2a3f5f\"},\"type\":\"carpet\"}],\"table\":[{\"cells\":{\"fill\":{\"color\":\"#EBF0F8\"},\"line\":{\"color\":\"white\"}},\"header\":{\"fill\":{\"color\":\"#C8D4E3\"},\"line\":{\"color\":\"white\"}},\"type\":\"table\"}],\"barpolar\":[{\"marker\":{\"line\":{\"color\":\"#E5ECF6\",\"width\":0.5},\"pattern\":{\"fillmode\":\"overlay\",\"size\":10,\"solidity\":0.2}},\"type\":\"barpolar\"}],\"pie\":[{\"automargin\":true,\"type\":\"pie\"}]},\"layout\":{\"autotypenumbers\":\"strict\",\"colorway\":[\"#636efa\",\"#EF553B\",\"#00cc96\",\"#ab63fa\",\"#FFA15A\",\"#19d3f3\",\"#FF6692\",\"#B6E880\",\"#FF97FF\",\"#FECB52\"],\"font\":{\"color\":\"#2a3f5f\"},\"hovermode\":\"closest\",\"hoverlabel\":{\"align\":\"left\"},\"paper_bgcolor\":\"white\",\"plot_bgcolor\":\"#E5ECF6\",\"polar\":{\"bgcolor\":\"#E5ECF6\",\"angularaxis\":{\"gridcolor\":\"white\",\"linecolor\":\"white\",\"ticks\":\"\"},\"radialaxis\":{\"gridcolor\":\"white\",\"linecolor\":\"white\",\"ticks\":\"\"}},\"ternary\":{\"bgcolor\":\"#E5ECF6\",\"aaxis\":{\"gridcolor\":\"white\",\"linecolor\":\"white\",\"ticks\":\"\"},\"baxis\":{\"gridcolor\":\"white\",\"linecolor\":\"white\",\"ticks\":\"\"},\"caxis\":{\"gridcolor\":\"white\",\"linecolor\":\"white\",\"ticks\":\"\"}},\"coloraxis\":{\"colorbar\":{\"outlinewidth\":0,\"ticks\":\"\"}},\"colorscale\":{\"sequential\":[[0.0,\"#0d0887\"],[0.1111111111111111,\"#46039f\"],[0.2222222222222222,\"#7201a8\"],[0.3333333333333333,\"#9c179e\"],[0.4444444444444444,\"#bd3786\"],[0.5555555555555556,\"#d8576b\"],[0.6666666666666666,\"#ed7953\"],[0.7777777777777778,\"#fb9f3a\"],[0.8888888888888888,\"#fdca26\"],[1.0,\"#f0f921\"]],\"sequentialminus\":[[0.0,\"#0d0887\"],[0.1111111111111111,\"#46039f\"],[0.2222222222222222,\"#7201a8\"],[0.3333333333333333,\"#9c179e\"],[0.4444444444444444,\"#bd3786\"],[0.5555555555555556,\"#d8576b\"],[0.6666666666666666,\"#ed7953\"],[0.7777777777777778,\"#fb9f3a\"],[0.8888888888888888,\"#fdca26\"],[1.0,\"#f0f921\"]],\"diverging\":[[0,\"#8e0152\"],[0.1,\"#c51b7d\"],[0.2,\"#de77ae\"],[0.3,\"#f1b6da\"],[0.4,\"#fde0ef\"],[0.5,\"#f7f7f7\"],[0.6,\"#e6f5d0\"],[0.7,\"#b8e186\"],[0.8,\"#7fbc41\"],[0.9,\"#4d9221\"],[1,\"#276419\"]]},\"xaxis\":{\"gridcolor\":\"white\",\"linecolor\":\"white\",\"ticks\":\"\",\"title\":{\"standoff\":15},\"zerolinecolor\":\"white\",\"automargin\":true,\"zerolinewidth\":2},\"yaxis\":{\"gridcolor\":\"white\",\"linecolor\":\"white\",\"ticks\":\"\",\"title\":{\"standoff\":15},\"zerolinecolor\":\"white\",\"automargin\":true,\"zerolinewidth\":2},\"scene\":{\"xaxis\":{\"backgroundcolor\":\"#E5ECF6\",\"gridcolor\":\"white\",\"linecolor\":\"white\",\"showbackground\":true,\"ticks\":\"\",\"zerolinecolor\":\"white\",\"gridwidth\":2},\"yaxis\":{\"backgroundcolor\":\"#E5ECF6\",\"gridcolor\":\"white\",\"linecolor\":\"white\",\"showbackground\":true,\"ticks\":\"\",\"zerolinecolor\":\"white\",\"gridwidth\":2},\"zaxis\":{\"backgroundcolor\":\"#E5ECF6\",\"gridcolor\":\"white\",\"linecolor\":\"white\",\"showbackground\":true,\"ticks\":\"\",\"zerolinecolor\":\"white\",\"gridwidth\":2}},\"shapedefaults\":{\"line\":{\"color\":\"#2a3f5f\"}},\"annotationdefaults\":{\"arrowcolor\":\"#2a3f5f\",\"arrowhead\":0,\"arrowwidth\":1},\"geo\":{\"bgcolor\":\"white\",\"landcolor\":\"#E5ECF6\",\"subunitcolor\":\"white\",\"showland\":true,\"showlakes\":true,\"lakecolor\":\"white\"},\"title\":{\"x\":0.05},\"mapbox\":{\"style\":\"light\"}}},\"xaxis\":{\"anchor\":\"y\",\"domain\":[0.0,0.98],\"title\":{\"text\":\"\"},\"range\":[1986,2016],\"dtick\":1},\"yaxis\":{\"anchor\":\"x\",\"domain\":[0.0,0.32666666666666666],\"title\":{\"text\":\"Yield (mt/ha)\"}},\"xaxis2\":{\"anchor\":\"y2\",\"domain\":[0.0,0.98],\"matches\":\"x\",\"showticklabels\":false,\"dtick\":1},\"yaxis2\":{\"anchor\":\"x2\",\"domain\":[0.33666666666666667,0.6633333333333333],\"title\":{\"text\":\"Area (ha)\"}},\"xaxis3\":{\"anchor\":\"y3\",\"domain\":[0.0,0.98],\"matches\":\"x\",\"showticklabels\":false,\"dtick\":1},\"yaxis3\":{\"anchor\":\"x3\",\"domain\":[0.6733333333333333,1.0],\"title\":{\"text\":\"Production (mt)\"}},\"annotations\":[{\"showarrow\":false,\"text\":\"\",\"textangle\":90,\"x\":0.98,\"xanchor\":\"left\",\"xref\":\"paper\",\"y\":0.16333333333333333,\"yanchor\":\"middle\",\"yref\":\"paper\"},{\"showarrow\":false,\"text\":\"\",\"textangle\":90,\"x\":0.98,\"xanchor\":\"left\",\"xref\":\"paper\",\"y\":0.5,\"yanchor\":\"middle\",\"yref\":\"paper\"},{\"showarrow\":false,\"text\":\"\",\"textangle\":90,\"x\":0.98,\"xanchor\":\"left\",\"xref\":\"paper\",\"y\":0.8366666666666667,\"yanchor\":\"middle\",\"yref\":\"paper\"},{\"align\":\"left\",\"font\":{\"color\":\"dimgrey\",\"family\":\"arial\",\"size\":15},\"showarrow\":false,\"text\":\"Production-Area-Yield time-series of SL - Maize - Main season\",\"x\":-0.014,\"xref\":\"paper\",\"y\":-0.14,\"yref\":\"paper\"}],\"legend\":{\"title\":{\"text\":\"FNID\"},\"tracegroupgap\":0,\"yanchor\":\"top\",\"xanchor\":\"left\",\"y\":1.0,\"x\":1,\"font\":{\"size\":14}},\"margin\":{\"t\":0,\"r\":0,\"l\":0,\"b\":25},\"font\":{\"family\":\"arial\",\"size\":16,\"color\":\"black\"},\"width\":900,\"height\":600},                        {\"responsive\": true}                    ).then(function(){\n",
       "                            \n",
       "var gd = document.getElementById('85d94a7a-c1b1-4564-84e5-7b6619ca8dd9');\n",
       "var x = new MutationObserver(function (mutations, observer) {{\n",
       "        var display = window.getComputedStyle(gd).display;\n",
       "        if (!display || display === 'none') {{\n",
       "            console.log([gd, 'removed!']);\n",
       "            Plotly.purge(gd);\n",
       "            observer.disconnect();\n",
       "        }}\n",
       "}});\n",
       "\n",
       "// Listen for the removal of the full notebook cells\n",
       "var notebookContainer = gd.closest('#notebook-container');\n",
       "if (notebookContainer) {{\n",
       "    x.observe(notebookContainer, {childList: true});\n",
       "}}\n",
       "\n",
       "// Listen for the clearing of the current output cell\n",
       "var outputEl = gd.closest('.output');\n",
       "if (outputEl) {{\n",
       "    x.observe(outputEl, {childList: true});\n",
       "}}\n",
       "\n",
       "                        })                };                });            </script>        </div>"
      ]
     },
     "metadata": {},
     "output_type": "display_data"
    },
    {
     "data": {
      "application/vnd.plotly.v1+json": {
       "config": {
        "plotlyServerURL": "https://plot.ly"
       },
       "data": [
        {
         "connectgaps": false,
         "hovertemplate": "fnid=SL1960A20101<br>indicator=production<br>year=%{x}<br>value=%{y}<extra></extra>",
         "legendgroup": "SL1960A20101",
         "line": {
          "color": "#636efa",
          "dash": "solid"
         },
         "marker": {
          "symbol": "circle"
         },
         "mode": "markers+lines",
         "name": "SL1960A20101",
         "orientation": "v",
         "showlegend": true,
         "type": "scatter",
         "x": [
          2015,
          2016
         ],
         "xaxis": "x3",
         "y": [
          4259.97,
          4685.967
         ],
         "yaxis": "y3"
        },
        {
         "connectgaps": false,
         "hovertemplate": "fnid=SL1960A20102<br>indicator=production<br>year=%{x}<br>value=%{y}<extra></extra>",
         "legendgroup": "SL1960A20102",
         "line": {
          "color": "#EF553B",
          "dash": "solid"
         },
         "marker": {
          "symbol": "circle"
         },
         "mode": "markers+lines",
         "name": "SL1960A20102",
         "orientation": "v",
         "showlegend": true,
         "type": "scatter",
         "x": [
          2015,
          2016
         ],
         "xaxis": "x3",
         "y": [
          5113.68,
          5625.048
         ],
         "yaxis": "y3"
        },
        {
         "connectgaps": false,
         "hovertemplate": "fnid=SL1960A20103<br>indicator=production<br>year=%{x}<br>value=%{y}<extra></extra>",
         "legendgroup": "SL1960A20103",
         "line": {
          "color": "#00cc96",
          "dash": "solid"
         },
         "marker": {
          "symbol": "circle"
         },
         "mode": "markers+lines",
         "name": "SL1960A20103",
         "orientation": "v",
         "showlegend": true,
         "type": "scatter",
         "x": [
          2015,
          2016
         ],
         "xaxis": "x3",
         "y": [
          2376.66,
          2614.326
         ],
         "yaxis": "y3"
        },
        {
         "connectgaps": false,
         "hovertemplate": "fnid=SL1960A20201<br>indicator=production<br>year=%{x}<br>value=%{y}<extra></extra>",
         "legendgroup": "SL1960A20201",
         "line": {
          "color": "#ab63fa",
          "dash": "solid"
         },
         "marker": {
          "symbol": "circle"
         },
         "mode": "markers+lines",
         "name": "SL1960A20201",
         "orientation": "v",
         "showlegend": true,
         "type": "scatter",
         "x": [
          2015,
          2016
         ],
         "xaxis": "x3",
         "y": [
          2868.58,
          3155.438
         ],
         "yaxis": "y3"
        },
        {
         "connectgaps": false,
         "hovertemplate": "fnid=SL1960A20202<br>indicator=production<br>year=%{x}<br>value=%{y}<extra></extra>",
         "legendgroup": "SL1960A20202",
         "line": {
          "color": "#FFA15A",
          "dash": "solid"
         },
         "marker": {
          "symbol": "circle"
         },
         "mode": "markers+lines",
         "name": "SL1960A20202",
         "orientation": "v",
         "showlegend": true,
         "type": "scatter",
         "x": [
          2015,
          2016
         ],
         "xaxis": "x3",
         "y": [
          2515.37,
          2766.907
         ],
         "yaxis": "y3"
        },
        {
         "connectgaps": false,
         "hovertemplate": "fnid=SL1960A20203<br>indicator=production<br>year=%{x}<br>value=%{y}<extra></extra>",
         "legendgroup": "SL1960A20203",
         "line": {
          "color": "#19d3f3",
          "dash": "solid"
         },
         "marker": {
          "symbol": "circle"
         },
         "mode": "markers+lines",
         "name": "SL1960A20203",
         "orientation": "v",
         "showlegend": true,
         "type": "scatter",
         "x": [
          2015,
          2016
         ],
         "xaxis": "x3",
         "y": [
          1762.475,
          1938.7225
         ],
         "yaxis": "y3"
        },
        {
         "connectgaps": false,
         "hovertemplate": "fnid=SL1960A20204<br>indicator=production<br>year=%{x}<br>value=%{y}<extra></extra>",
         "legendgroup": "SL1960A20204",
         "line": {
          "color": "#FF6692",
          "dash": "solid"
         },
         "marker": {
          "symbol": "circle"
         },
         "mode": "markers+lines",
         "name": "SL1960A20204",
         "orientation": "v",
         "showlegend": true,
         "type": "scatter",
         "x": [
          2015,
          2016
         ],
         "xaxis": "x3",
         "y": [
          4340.765,
          4774.8415
         ],
         "yaxis": "y3"
        },
        {
         "connectgaps": false,
         "hovertemplate": "fnid=SL1960A20205<br>indicator=production<br>year=%{x}<br>value=%{y}<extra></extra>",
         "legendgroup": "SL1960A20205",
         "line": {
          "color": "#B6E880",
          "dash": "solid"
         },
         "marker": {
          "symbol": "circle"
         },
         "mode": "markers+lines",
         "name": "SL1960A20205",
         "orientation": "v",
         "showlegend": true,
         "type": "scatter",
         "x": [
          2015,
          2016
         ],
         "xaxis": "x3",
         "y": [
          6792.0996,
          7471.30956
         ],
         "yaxis": "y3"
        },
        {
         "connectgaps": false,
         "hovertemplate": "fnid=SL1960A20301<br>indicator=production<br>year=%{x}<br>value=%{y}<extra></extra>",
         "legendgroup": "SL1960A20301",
         "line": {
          "color": "#FF97FF",
          "dash": "solid"
         },
         "marker": {
          "symbol": "circle"
         },
         "mode": "markers+lines",
         "name": "SL1960A20301",
         "orientation": "v",
         "showlegend": true,
         "type": "scatter",
         "x": [
          2015,
          2016
         ],
         "xaxis": "x3",
         "y": [
          6329.895,
          6962.8845
         ],
         "yaxis": "y3"
        },
        {
         "connectgaps": false,
         "hovertemplate": "fnid=SL1960A20302<br>indicator=production<br>year=%{x}<br>value=%{y}<extra></extra>",
         "legendgroup": "SL1960A20302",
         "line": {
          "color": "#FECB52",
          "dash": "solid"
         },
         "marker": {
          "symbol": "circle"
         },
         "mode": "markers+lines",
         "name": "SL1960A20302",
         "orientation": "v",
         "showlegend": true,
         "type": "scatter",
         "x": [
          2015,
          2016
         ],
         "xaxis": "x3",
         "y": [
          1544.4,
          1698.84
         ],
         "yaxis": "y3"
        },
        {
         "connectgaps": false,
         "hovertemplate": "fnid=SL1960A20303<br>indicator=production<br>year=%{x}<br>value=%{y}<extra></extra>",
         "legendgroup": "SL1960A20303",
         "line": {
          "color": "#636efa",
          "dash": "solid"
         },
         "marker": {
          "symbol": "circle"
         },
         "mode": "markers+lines",
         "name": "SL1960A20303",
         "orientation": "v",
         "showlegend": true,
         "type": "scatter",
         "x": [
          2015,
          2016
         ],
         "xaxis": "x3",
         "y": [
          5599.88,
          6159.868
         ],
         "yaxis": "y3"
        },
        {
         "connectgaps": false,
         "hovertemplate": "fnid=SL1960A20304<br>indicator=production<br>year=%{x}<br>value=%{y}<extra></extra>",
         "legendgroup": "SL1960A20304",
         "line": {
          "color": "#EF553B",
          "dash": "solid"
         },
         "marker": {
          "symbol": "circle"
         },
         "mode": "markers+lines",
         "name": "SL1960A20304",
         "orientation": "v",
         "showlegend": true,
         "type": "scatter",
         "x": [
          2015,
          2016
         ],
         "xaxis": "x3",
         "y": [
          1765.335,
          1941.8685
         ],
         "yaxis": "y3"
        },
        {
         "connectgaps": false,
         "hovertemplate": "fnid=SL1960A20401<br>indicator=production<br>year=%{x}<br>value=%{y}<extra></extra>",
         "legendgroup": "SL1960A20401",
         "line": {
          "color": "#00cc96",
          "dash": "solid"
         },
         "marker": {
          "symbol": "circle"
         },
         "mode": "markers+lines",
         "name": "SL1960A20401",
         "orientation": "v",
         "showlegend": true,
         "type": "scatter",
         "x": [
          2015,
          2016
         ],
         "xaxis": "x3",
         "y": [
          286.429,
          315.0719
         ],
         "yaxis": "y3"
        }
       ],
       "layout": {
        "annotations": [
         {
          "showarrow": false,
          "text": "",
          "textangle": 90,
          "x": 0.98,
          "xanchor": "left",
          "xref": "paper",
          "y": 0.16333333333333333,
          "yanchor": "middle",
          "yref": "paper"
         },
         {
          "showarrow": false,
          "text": "",
          "textangle": 90,
          "x": 0.98,
          "xanchor": "left",
          "xref": "paper",
          "y": 0.5,
          "yanchor": "middle",
          "yref": "paper"
         },
         {
          "showarrow": false,
          "text": "",
          "textangle": 90,
          "x": 0.98,
          "xanchor": "left",
          "xref": "paper",
          "y": 0.8366666666666667,
          "yanchor": "middle",
          "yref": "paper"
         },
         {
          "align": "left",
          "font": {
           "color": "dimgrey",
           "family": "arial",
           "size": 15
          },
          "showarrow": false,
          "text": "Production-Area-Yield time-series of SL - Sorghum - Main season",
          "x": -0.014,
          "xref": "paper",
          "y": -0.14,
          "yref": "paper"
         }
        ],
        "font": {
         "color": "black",
         "family": "arial",
         "size": 16
        },
        "height": 600,
        "legend": {
         "font": {
          "size": 14
         },
         "title": {
          "text": "FNID"
         },
         "tracegroupgap": 0,
         "x": 1,
         "xanchor": "left",
         "y": 1,
         "yanchor": "top"
        },
        "margin": {
         "b": 25,
         "l": 0,
         "r": 0,
         "t": 0
        },
        "template": {
         "data": {
          "bar": [
           {
            "error_x": {
             "color": "#2a3f5f"
            },
            "error_y": {
             "color": "#2a3f5f"
            },
            "marker": {
             "line": {
              "color": "#E5ECF6",
              "width": 0.5
             },
             "pattern": {
              "fillmode": "overlay",
              "size": 10,
              "solidity": 0.2
             }
            },
            "type": "bar"
           }
          ],
          "barpolar": [
           {
            "marker": {
             "line": {
              "color": "#E5ECF6",
              "width": 0.5
             },
             "pattern": {
              "fillmode": "overlay",
              "size": 10,
              "solidity": 0.2
             }
            },
            "type": "barpolar"
           }
          ],
          "carpet": [
           {
            "aaxis": {
             "endlinecolor": "#2a3f5f",
             "gridcolor": "white",
             "linecolor": "white",
             "minorgridcolor": "white",
             "startlinecolor": "#2a3f5f"
            },
            "baxis": {
             "endlinecolor": "#2a3f5f",
             "gridcolor": "white",
             "linecolor": "white",
             "minorgridcolor": "white",
             "startlinecolor": "#2a3f5f"
            },
            "type": "carpet"
           }
          ],
          "choropleth": [
           {
            "colorbar": {
             "outlinewidth": 0,
             "ticks": ""
            },
            "type": "choropleth"
           }
          ],
          "contour": [
           {
            "colorbar": {
             "outlinewidth": 0,
             "ticks": ""
            },
            "colorscale": [
             [
              0,
              "#0d0887"
             ],
             [
              0.1111111111111111,
              "#46039f"
             ],
             [
              0.2222222222222222,
              "#7201a8"
             ],
             [
              0.3333333333333333,
              "#9c179e"
             ],
             [
              0.4444444444444444,
              "#bd3786"
             ],
             [
              0.5555555555555556,
              "#d8576b"
             ],
             [
              0.6666666666666666,
              "#ed7953"
             ],
             [
              0.7777777777777778,
              "#fb9f3a"
             ],
             [
              0.8888888888888888,
              "#fdca26"
             ],
             [
              1,
              "#f0f921"
             ]
            ],
            "type": "contour"
           }
          ],
          "contourcarpet": [
           {
            "colorbar": {
             "outlinewidth": 0,
             "ticks": ""
            },
            "type": "contourcarpet"
           }
          ],
          "heatmap": [
           {
            "colorbar": {
             "outlinewidth": 0,
             "ticks": ""
            },
            "colorscale": [
             [
              0,
              "#0d0887"
             ],
             [
              0.1111111111111111,
              "#46039f"
             ],
             [
              0.2222222222222222,
              "#7201a8"
             ],
             [
              0.3333333333333333,
              "#9c179e"
             ],
             [
              0.4444444444444444,
              "#bd3786"
             ],
             [
              0.5555555555555556,
              "#d8576b"
             ],
             [
              0.6666666666666666,
              "#ed7953"
             ],
             [
              0.7777777777777778,
              "#fb9f3a"
             ],
             [
              0.8888888888888888,
              "#fdca26"
             ],
             [
              1,
              "#f0f921"
             ]
            ],
            "type": "heatmap"
           }
          ],
          "heatmapgl": [
           {
            "colorbar": {
             "outlinewidth": 0,
             "ticks": ""
            },
            "colorscale": [
             [
              0,
              "#0d0887"
             ],
             [
              0.1111111111111111,
              "#46039f"
             ],
             [
              0.2222222222222222,
              "#7201a8"
             ],
             [
              0.3333333333333333,
              "#9c179e"
             ],
             [
              0.4444444444444444,
              "#bd3786"
             ],
             [
              0.5555555555555556,
              "#d8576b"
             ],
             [
              0.6666666666666666,
              "#ed7953"
             ],
             [
              0.7777777777777778,
              "#fb9f3a"
             ],
             [
              0.8888888888888888,
              "#fdca26"
             ],
             [
              1,
              "#f0f921"
             ]
            ],
            "type": "heatmapgl"
           }
          ],
          "histogram": [
           {
            "marker": {
             "pattern": {
              "fillmode": "overlay",
              "size": 10,
              "solidity": 0.2
             }
            },
            "type": "histogram"
           }
          ],
          "histogram2d": [
           {
            "colorbar": {
             "outlinewidth": 0,
             "ticks": ""
            },
            "colorscale": [
             [
              0,
              "#0d0887"
             ],
             [
              0.1111111111111111,
              "#46039f"
             ],
             [
              0.2222222222222222,
              "#7201a8"
             ],
             [
              0.3333333333333333,
              "#9c179e"
             ],
             [
              0.4444444444444444,
              "#bd3786"
             ],
             [
              0.5555555555555556,
              "#d8576b"
             ],
             [
              0.6666666666666666,
              "#ed7953"
             ],
             [
              0.7777777777777778,
              "#fb9f3a"
             ],
             [
              0.8888888888888888,
              "#fdca26"
             ],
             [
              1,
              "#f0f921"
             ]
            ],
            "type": "histogram2d"
           }
          ],
          "histogram2dcontour": [
           {
            "colorbar": {
             "outlinewidth": 0,
             "ticks": ""
            },
            "colorscale": [
             [
              0,
              "#0d0887"
             ],
             [
              0.1111111111111111,
              "#46039f"
             ],
             [
              0.2222222222222222,
              "#7201a8"
             ],
             [
              0.3333333333333333,
              "#9c179e"
             ],
             [
              0.4444444444444444,
              "#bd3786"
             ],
             [
              0.5555555555555556,
              "#d8576b"
             ],
             [
              0.6666666666666666,
              "#ed7953"
             ],
             [
              0.7777777777777778,
              "#fb9f3a"
             ],
             [
              0.8888888888888888,
              "#fdca26"
             ],
             [
              1,
              "#f0f921"
             ]
            ],
            "type": "histogram2dcontour"
           }
          ],
          "mesh3d": [
           {
            "colorbar": {
             "outlinewidth": 0,
             "ticks": ""
            },
            "type": "mesh3d"
           }
          ],
          "parcoords": [
           {
            "line": {
             "colorbar": {
              "outlinewidth": 0,
              "ticks": ""
             }
            },
            "type": "parcoords"
           }
          ],
          "pie": [
           {
            "automargin": true,
            "type": "pie"
           }
          ],
          "scatter": [
           {
            "fillpattern": {
             "fillmode": "overlay",
             "size": 10,
             "solidity": 0.2
            },
            "type": "scatter"
           }
          ],
          "scatter3d": [
           {
            "line": {
             "colorbar": {
              "outlinewidth": 0,
              "ticks": ""
             }
            },
            "marker": {
             "colorbar": {
              "outlinewidth": 0,
              "ticks": ""
             }
            },
            "type": "scatter3d"
           }
          ],
          "scattercarpet": [
           {
            "marker": {
             "colorbar": {
              "outlinewidth": 0,
              "ticks": ""
             }
            },
            "type": "scattercarpet"
           }
          ],
          "scattergeo": [
           {
            "marker": {
             "colorbar": {
              "outlinewidth": 0,
              "ticks": ""
             }
            },
            "type": "scattergeo"
           }
          ],
          "scattergl": [
           {
            "marker": {
             "colorbar": {
              "outlinewidth": 0,
              "ticks": ""
             }
            },
            "type": "scattergl"
           }
          ],
          "scattermapbox": [
           {
            "marker": {
             "colorbar": {
              "outlinewidth": 0,
              "ticks": ""
             }
            },
            "type": "scattermapbox"
           }
          ],
          "scatterpolar": [
           {
            "marker": {
             "colorbar": {
              "outlinewidth": 0,
              "ticks": ""
             }
            },
            "type": "scatterpolar"
           }
          ],
          "scatterpolargl": [
           {
            "marker": {
             "colorbar": {
              "outlinewidth": 0,
              "ticks": ""
             }
            },
            "type": "scatterpolargl"
           }
          ],
          "scatterternary": [
           {
            "marker": {
             "colorbar": {
              "outlinewidth": 0,
              "ticks": ""
             }
            },
            "type": "scatterternary"
           }
          ],
          "surface": [
           {
            "colorbar": {
             "outlinewidth": 0,
             "ticks": ""
            },
            "colorscale": [
             [
              0,
              "#0d0887"
             ],
             [
              0.1111111111111111,
              "#46039f"
             ],
             [
              0.2222222222222222,
              "#7201a8"
             ],
             [
              0.3333333333333333,
              "#9c179e"
             ],
             [
              0.4444444444444444,
              "#bd3786"
             ],
             [
              0.5555555555555556,
              "#d8576b"
             ],
             [
              0.6666666666666666,
              "#ed7953"
             ],
             [
              0.7777777777777778,
              "#fb9f3a"
             ],
             [
              0.8888888888888888,
              "#fdca26"
             ],
             [
              1,
              "#f0f921"
             ]
            ],
            "type": "surface"
           }
          ],
          "table": [
           {
            "cells": {
             "fill": {
              "color": "#EBF0F8"
             },
             "line": {
              "color": "white"
             }
            },
            "header": {
             "fill": {
              "color": "#C8D4E3"
             },
             "line": {
              "color": "white"
             }
            },
            "type": "table"
           }
          ]
         },
         "layout": {
          "annotationdefaults": {
           "arrowcolor": "#2a3f5f",
           "arrowhead": 0,
           "arrowwidth": 1
          },
          "autotypenumbers": "strict",
          "coloraxis": {
           "colorbar": {
            "outlinewidth": 0,
            "ticks": ""
           }
          },
          "colorscale": {
           "diverging": [
            [
             0,
             "#8e0152"
            ],
            [
             0.1,
             "#c51b7d"
            ],
            [
             0.2,
             "#de77ae"
            ],
            [
             0.3,
             "#f1b6da"
            ],
            [
             0.4,
             "#fde0ef"
            ],
            [
             0.5,
             "#f7f7f7"
            ],
            [
             0.6,
             "#e6f5d0"
            ],
            [
             0.7,
             "#b8e186"
            ],
            [
             0.8,
             "#7fbc41"
            ],
            [
             0.9,
             "#4d9221"
            ],
            [
             1,
             "#276419"
            ]
           ],
           "sequential": [
            [
             0,
             "#0d0887"
            ],
            [
             0.1111111111111111,
             "#46039f"
            ],
            [
             0.2222222222222222,
             "#7201a8"
            ],
            [
             0.3333333333333333,
             "#9c179e"
            ],
            [
             0.4444444444444444,
             "#bd3786"
            ],
            [
             0.5555555555555556,
             "#d8576b"
            ],
            [
             0.6666666666666666,
             "#ed7953"
            ],
            [
             0.7777777777777778,
             "#fb9f3a"
            ],
            [
             0.8888888888888888,
             "#fdca26"
            ],
            [
             1,
             "#f0f921"
            ]
           ],
           "sequentialminus": [
            [
             0,
             "#0d0887"
            ],
            [
             0.1111111111111111,
             "#46039f"
            ],
            [
             0.2222222222222222,
             "#7201a8"
            ],
            [
             0.3333333333333333,
             "#9c179e"
            ],
            [
             0.4444444444444444,
             "#bd3786"
            ],
            [
             0.5555555555555556,
             "#d8576b"
            ],
            [
             0.6666666666666666,
             "#ed7953"
            ],
            [
             0.7777777777777778,
             "#fb9f3a"
            ],
            [
             0.8888888888888888,
             "#fdca26"
            ],
            [
             1,
             "#f0f921"
            ]
           ]
          },
          "colorway": [
           "#636efa",
           "#EF553B",
           "#00cc96",
           "#ab63fa",
           "#FFA15A",
           "#19d3f3",
           "#FF6692",
           "#B6E880",
           "#FF97FF",
           "#FECB52"
          ],
          "font": {
           "color": "#2a3f5f"
          },
          "geo": {
           "bgcolor": "white",
           "lakecolor": "white",
           "landcolor": "#E5ECF6",
           "showlakes": true,
           "showland": true,
           "subunitcolor": "white"
          },
          "hoverlabel": {
           "align": "left"
          },
          "hovermode": "closest",
          "mapbox": {
           "style": "light"
          },
          "paper_bgcolor": "white",
          "plot_bgcolor": "#E5ECF6",
          "polar": {
           "angularaxis": {
            "gridcolor": "white",
            "linecolor": "white",
            "ticks": ""
           },
           "bgcolor": "#E5ECF6",
           "radialaxis": {
            "gridcolor": "white",
            "linecolor": "white",
            "ticks": ""
           }
          },
          "scene": {
           "xaxis": {
            "backgroundcolor": "#E5ECF6",
            "gridcolor": "white",
            "gridwidth": 2,
            "linecolor": "white",
            "showbackground": true,
            "ticks": "",
            "zerolinecolor": "white"
           },
           "yaxis": {
            "backgroundcolor": "#E5ECF6",
            "gridcolor": "white",
            "gridwidth": 2,
            "linecolor": "white",
            "showbackground": true,
            "ticks": "",
            "zerolinecolor": "white"
           },
           "zaxis": {
            "backgroundcolor": "#E5ECF6",
            "gridcolor": "white",
            "gridwidth": 2,
            "linecolor": "white",
            "showbackground": true,
            "ticks": "",
            "zerolinecolor": "white"
           }
          },
          "shapedefaults": {
           "line": {
            "color": "#2a3f5f"
           }
          },
          "ternary": {
           "aaxis": {
            "gridcolor": "white",
            "linecolor": "white",
            "ticks": ""
           },
           "baxis": {
            "gridcolor": "white",
            "linecolor": "white",
            "ticks": ""
           },
           "bgcolor": "#E5ECF6",
           "caxis": {
            "gridcolor": "white",
            "linecolor": "white",
            "ticks": ""
           }
          },
          "title": {
           "x": 0.05
          },
          "xaxis": {
           "automargin": true,
           "gridcolor": "white",
           "linecolor": "white",
           "ticks": "",
           "title": {
            "standoff": 15
           },
           "zerolinecolor": "white",
           "zerolinewidth": 2
          },
          "yaxis": {
           "automargin": true,
           "gridcolor": "white",
           "linecolor": "white",
           "ticks": "",
           "title": {
            "standoff": 15
           },
           "zerolinecolor": "white",
           "zerolinewidth": 2
          }
         }
        },
        "width": 900,
        "xaxis": {
         "anchor": "y",
         "domain": [
          0,
          0.98
         ],
         "dtick": 1,
         "range": [
          1986,
          2016
         ],
         "title": {
          "text": ""
         }
        },
        "xaxis2": {
         "anchor": "y2",
         "domain": [
          0,
          0.98
         ],
         "dtick": 1,
         "matches": "x",
         "showticklabels": false
        },
        "xaxis3": {
         "anchor": "y3",
         "domain": [
          0,
          0.98
         ],
         "dtick": 1,
         "matches": "x",
         "showticklabels": false
        },
        "yaxis": {
         "anchor": "x",
         "domain": [
          0,
          0.32666666666666666
         ],
         "title": {
          "text": "Yield (mt/ha)"
         }
        },
        "yaxis2": {
         "anchor": "x2",
         "domain": [
          0.33666666666666667,
          0.6633333333333333
         ],
         "title": {
          "text": "Area (ha)"
         }
        },
        "yaxis3": {
         "anchor": "x3",
         "domain": [
          0.6733333333333333,
          1
         ],
         "title": {
          "text": "Production (mt)"
         }
        }
       }
      }
     },
     "metadata": {},
     "output_type": "display_data"
    },
    {
     "data": {
      "application/vnd.plotly.v1+json": {
       "config": {
        "plotlyServerURL": "https://plot.ly"
       },
       "data": [
        {
         "connectgaps": false,
         "hovertemplate": "fnid=SL1960A20101<br>indicator=production<br>year=%{x}<br>value=%{y}<extra></extra>",
         "legendgroup": "SL1960A20101",
         "line": {
          "color": "#636efa",
          "dash": "solid"
         },
         "marker": {
          "symbol": "circle"
         },
         "mode": "lines+markers",
         "name": "SL1960A20101",
         "orientation": "v",
         "showlegend": true,
         "type": "scatter",
         "x": [
          2015,
          2016
         ],
         "xaxis": "x3",
         "y": [
          4259.97,
          4685.967
         ],
         "yaxis": "y3"
        },
        {
         "connectgaps": false,
         "hovertemplate": "fnid=SL1960A20102<br>indicator=production<br>year=%{x}<br>value=%{y}<extra></extra>",
         "legendgroup": "SL1960A20102",
         "line": {
          "color": "#EF553B",
          "dash": "solid"
         },
         "marker": {
          "symbol": "circle"
         },
         "mode": "lines+markers",
         "name": "SL1960A20102",
         "orientation": "v",
         "showlegend": true,
         "type": "scatter",
         "x": [
          2015,
          2016
         ],
         "xaxis": "x3",
         "y": [
          5113.68,
          5625.048
         ],
         "yaxis": "y3"
        },
        {
         "connectgaps": false,
         "hovertemplate": "fnid=SL1960A20103<br>indicator=production<br>year=%{x}<br>value=%{y}<extra></extra>",
         "legendgroup": "SL1960A20103",
         "line": {
          "color": "#00cc96",
          "dash": "solid"
         },
         "marker": {
          "symbol": "circle"
         },
         "mode": "lines+markers",
         "name": "SL1960A20103",
         "orientation": "v",
         "showlegend": true,
         "type": "scatter",
         "x": [
          2015,
          2016
         ],
         "xaxis": "x3",
         "y": [
          2376.66,
          2614.326
         ],
         "yaxis": "y3"
        },
        {
         "connectgaps": false,
         "hovertemplate": "fnid=SL1960A20201<br>indicator=production<br>year=%{x}<br>value=%{y}<extra></extra>",
         "legendgroup": "SL1960A20201",
         "line": {
          "color": "#ab63fa",
          "dash": "solid"
         },
         "marker": {
          "symbol": "circle"
         },
         "mode": "lines+markers",
         "name": "SL1960A20201",
         "orientation": "v",
         "showlegend": true,
         "type": "scatter",
         "x": [
          2015,
          2016
         ],
         "xaxis": "x3",
         "y": [
          2868.58,
          3155.438
         ],
         "yaxis": "y3"
        },
        {
         "connectgaps": false,
         "hovertemplate": "fnid=SL1960A20202<br>indicator=production<br>year=%{x}<br>value=%{y}<extra></extra>",
         "legendgroup": "SL1960A20202",
         "line": {
          "color": "#FFA15A",
          "dash": "solid"
         },
         "marker": {
          "symbol": "circle"
         },
         "mode": "lines+markers",
         "name": "SL1960A20202",
         "orientation": "v",
         "showlegend": true,
         "type": "scatter",
         "x": [
          2015,
          2016
         ],
         "xaxis": "x3",
         "y": [
          2515.37,
          2766.907
         ],
         "yaxis": "y3"
        },
        {
         "connectgaps": false,
         "hovertemplate": "fnid=SL1960A20203<br>indicator=production<br>year=%{x}<br>value=%{y}<extra></extra>",
         "legendgroup": "SL1960A20203",
         "line": {
          "color": "#19d3f3",
          "dash": "solid"
         },
         "marker": {
          "symbol": "circle"
         },
         "mode": "lines+markers",
         "name": "SL1960A20203",
         "orientation": "v",
         "showlegend": true,
         "type": "scatter",
         "x": [
          2015,
          2016
         ],
         "xaxis": "x3",
         "y": [
          1762.475,
          1938.7225
         ],
         "yaxis": "y3"
        },
        {
         "connectgaps": false,
         "hovertemplate": "fnid=SL1960A20204<br>indicator=production<br>year=%{x}<br>value=%{y}<extra></extra>",
         "legendgroup": "SL1960A20204",
         "line": {
          "color": "#FF6692",
          "dash": "solid"
         },
         "marker": {
          "symbol": "circle"
         },
         "mode": "lines+markers",
         "name": "SL1960A20204",
         "orientation": "v",
         "showlegend": true,
         "type": "scatter",
         "x": [
          2015,
          2016
         ],
         "xaxis": "x3",
         "y": [
          4340.765,
          4774.8415
         ],
         "yaxis": "y3"
        },
        {
         "connectgaps": false,
         "hovertemplate": "fnid=SL1960A20205<br>indicator=production<br>year=%{x}<br>value=%{y}<extra></extra>",
         "legendgroup": "SL1960A20205",
         "line": {
          "color": "#B6E880",
          "dash": "solid"
         },
         "marker": {
          "symbol": "circle"
         },
         "mode": "lines+markers",
         "name": "SL1960A20205",
         "orientation": "v",
         "showlegend": true,
         "type": "scatter",
         "x": [
          2015,
          2016
         ],
         "xaxis": "x3",
         "y": [
          6792.0996,
          7471.30956
         ],
         "yaxis": "y3"
        },
        {
         "connectgaps": false,
         "hovertemplate": "fnid=SL1960A20301<br>indicator=production<br>year=%{x}<br>value=%{y}<extra></extra>",
         "legendgroup": "SL1960A20301",
         "line": {
          "color": "#FF97FF",
          "dash": "solid"
         },
         "marker": {
          "symbol": "circle"
         },
         "mode": "lines+markers",
         "name": "SL1960A20301",
         "orientation": "v",
         "showlegend": true,
         "type": "scatter",
         "x": [
          2015,
          2016
         ],
         "xaxis": "x3",
         "y": [
          6329.895,
          6962.8845
         ],
         "yaxis": "y3"
        },
        {
         "connectgaps": false,
         "hovertemplate": "fnid=SL1960A20302<br>indicator=production<br>year=%{x}<br>value=%{y}<extra></extra>",
         "legendgroup": "SL1960A20302",
         "line": {
          "color": "#FECB52",
          "dash": "solid"
         },
         "marker": {
          "symbol": "circle"
         },
         "mode": "lines+markers",
         "name": "SL1960A20302",
         "orientation": "v",
         "showlegend": true,
         "type": "scatter",
         "x": [
          2015,
          2016
         ],
         "xaxis": "x3",
         "y": [
          1544.4,
          1698.84
         ],
         "yaxis": "y3"
        },
        {
         "connectgaps": false,
         "hovertemplate": "fnid=SL1960A20303<br>indicator=production<br>year=%{x}<br>value=%{y}<extra></extra>",
         "legendgroup": "SL1960A20303",
         "line": {
          "color": "#636efa",
          "dash": "solid"
         },
         "marker": {
          "symbol": "circle"
         },
         "mode": "lines+markers",
         "name": "SL1960A20303",
         "orientation": "v",
         "showlegend": true,
         "type": "scatter",
         "x": [
          2015,
          2016
         ],
         "xaxis": "x3",
         "y": [
          5599.88,
          6159.868
         ],
         "yaxis": "y3"
        },
        {
         "connectgaps": false,
         "hovertemplate": "fnid=SL1960A20304<br>indicator=production<br>year=%{x}<br>value=%{y}<extra></extra>",
         "legendgroup": "SL1960A20304",
         "line": {
          "color": "#EF553B",
          "dash": "solid"
         },
         "marker": {
          "symbol": "circle"
         },
         "mode": "lines+markers",
         "name": "SL1960A20304",
         "orientation": "v",
         "showlegend": true,
         "type": "scatter",
         "x": [
          2015,
          2016
         ],
         "xaxis": "x3",
         "y": [
          1765.335,
          1941.8685
         ],
         "yaxis": "y3"
        },
        {
         "connectgaps": false,
         "hovertemplate": "fnid=SL1960A20401<br>indicator=production<br>year=%{x}<br>value=%{y}<extra></extra>",
         "legendgroup": "SL1960A20401",
         "line": {
          "color": "#00cc96",
          "dash": "solid"
         },
         "marker": {
          "symbol": "circle"
         },
         "mode": "lines+markers",
         "name": "SL1960A20401",
         "orientation": "v",
         "showlegend": true,
         "type": "scatter",
         "x": [
          2015,
          2016
         ],
         "xaxis": "x3",
         "y": [
          286.429,
          315.0719
         ],
         "yaxis": "y3"
        }
       ],
       "layout": {
        "annotations": [
         {
          "showarrow": false,
          "text": "",
          "textangle": 90,
          "x": 0.98,
          "xanchor": "left",
          "xref": "paper",
          "y": 0.16333333333333333,
          "yanchor": "middle",
          "yref": "paper"
         },
         {
          "showarrow": false,
          "text": "",
          "textangle": 90,
          "x": 0.98,
          "xanchor": "left",
          "xref": "paper",
          "y": 0.5,
          "yanchor": "middle",
          "yref": "paper"
         },
         {
          "showarrow": false,
          "text": "",
          "textangle": 90,
          "x": 0.98,
          "xanchor": "left",
          "xref": "paper",
          "y": 0.8366666666666667,
          "yanchor": "middle",
          "yref": "paper"
         },
         {
          "align": "left",
          "font": {
           "color": "dimgrey",
           "family": "arial",
           "size": 15
          },
          "showarrow": false,
          "text": "Production-Area-Yield time-series of SL - Sorghum - Main",
          "x": -0.014,
          "xref": "paper",
          "y": -0.14,
          "yref": "paper"
         }
        ],
        "font": {
         "color": "black",
         "family": "arial",
         "size": 16
        },
        "height": 600,
        "legend": {
         "font": {
          "size": 14
         },
         "title": {
          "text": "FNID"
         },
         "tracegroupgap": 0,
         "x": 1,
         "xanchor": "left",
         "y": 1,
         "yanchor": "top"
        },
        "margin": {
         "b": 25,
         "l": 0,
         "r": 0,
         "t": 0
        },
        "template": {
         "data": {
          "bar": [
           {
            "error_x": {
             "color": "#2a3f5f"
            },
            "error_y": {
             "color": "#2a3f5f"
            },
            "marker": {
             "line": {
              "color": "#E5ECF6",
              "width": 0.5
             },
             "pattern": {
              "fillmode": "overlay",
              "size": 10,
              "solidity": 0.2
             }
            },
            "type": "bar"
           }
          ],
          "barpolar": [
           {
            "marker": {
             "line": {
              "color": "#E5ECF6",
              "width": 0.5
             },
             "pattern": {
              "fillmode": "overlay",
              "size": 10,
              "solidity": 0.2
             }
            },
            "type": "barpolar"
           }
          ],
          "carpet": [
           {
            "aaxis": {
             "endlinecolor": "#2a3f5f",
             "gridcolor": "white",
             "linecolor": "white",
             "minorgridcolor": "white",
             "startlinecolor": "#2a3f5f"
            },
            "baxis": {
             "endlinecolor": "#2a3f5f",
             "gridcolor": "white",
             "linecolor": "white",
             "minorgridcolor": "white",
             "startlinecolor": "#2a3f5f"
            },
            "type": "carpet"
           }
          ],
          "choropleth": [
           {
            "colorbar": {
             "outlinewidth": 0,
             "ticks": ""
            },
            "type": "choropleth"
           }
          ],
          "contour": [
           {
            "colorbar": {
             "outlinewidth": 0,
             "ticks": ""
            },
            "colorscale": [
             [
              0,
              "#0d0887"
             ],
             [
              0.1111111111111111,
              "#46039f"
             ],
             [
              0.2222222222222222,
              "#7201a8"
             ],
             [
              0.3333333333333333,
              "#9c179e"
             ],
             [
              0.4444444444444444,
              "#bd3786"
             ],
             [
              0.5555555555555556,
              "#d8576b"
             ],
             [
              0.6666666666666666,
              "#ed7953"
             ],
             [
              0.7777777777777778,
              "#fb9f3a"
             ],
             [
              0.8888888888888888,
              "#fdca26"
             ],
             [
              1,
              "#f0f921"
             ]
            ],
            "type": "contour"
           }
          ],
          "contourcarpet": [
           {
            "colorbar": {
             "outlinewidth": 0,
             "ticks": ""
            },
            "type": "contourcarpet"
           }
          ],
          "heatmap": [
           {
            "colorbar": {
             "outlinewidth": 0,
             "ticks": ""
            },
            "colorscale": [
             [
              0,
              "#0d0887"
             ],
             [
              0.1111111111111111,
              "#46039f"
             ],
             [
              0.2222222222222222,
              "#7201a8"
             ],
             [
              0.3333333333333333,
              "#9c179e"
             ],
             [
              0.4444444444444444,
              "#bd3786"
             ],
             [
              0.5555555555555556,
              "#d8576b"
             ],
             [
              0.6666666666666666,
              "#ed7953"
             ],
             [
              0.7777777777777778,
              "#fb9f3a"
             ],
             [
              0.8888888888888888,
              "#fdca26"
             ],
             [
              1,
              "#f0f921"
             ]
            ],
            "type": "heatmap"
           }
          ],
          "heatmapgl": [
           {
            "colorbar": {
             "outlinewidth": 0,
             "ticks": ""
            },
            "colorscale": [
             [
              0,
              "#0d0887"
             ],
             [
              0.1111111111111111,
              "#46039f"
             ],
             [
              0.2222222222222222,
              "#7201a8"
             ],
             [
              0.3333333333333333,
              "#9c179e"
             ],
             [
              0.4444444444444444,
              "#bd3786"
             ],
             [
              0.5555555555555556,
              "#d8576b"
             ],
             [
              0.6666666666666666,
              "#ed7953"
             ],
             [
              0.7777777777777778,
              "#fb9f3a"
             ],
             [
              0.8888888888888888,
              "#fdca26"
             ],
             [
              1,
              "#f0f921"
             ]
            ],
            "type": "heatmapgl"
           }
          ],
          "histogram": [
           {
            "marker": {
             "pattern": {
              "fillmode": "overlay",
              "size": 10,
              "solidity": 0.2
             }
            },
            "type": "histogram"
           }
          ],
          "histogram2d": [
           {
            "colorbar": {
             "outlinewidth": 0,
             "ticks": ""
            },
            "colorscale": [
             [
              0,
              "#0d0887"
             ],
             [
              0.1111111111111111,
              "#46039f"
             ],
             [
              0.2222222222222222,
              "#7201a8"
             ],
             [
              0.3333333333333333,
              "#9c179e"
             ],
             [
              0.4444444444444444,
              "#bd3786"
             ],
             [
              0.5555555555555556,
              "#d8576b"
             ],
             [
              0.6666666666666666,
              "#ed7953"
             ],
             [
              0.7777777777777778,
              "#fb9f3a"
             ],
             [
              0.8888888888888888,
              "#fdca26"
             ],
             [
              1,
              "#f0f921"
             ]
            ],
            "type": "histogram2d"
           }
          ],
          "histogram2dcontour": [
           {
            "colorbar": {
             "outlinewidth": 0,
             "ticks": ""
            },
            "colorscale": [
             [
              0,
              "#0d0887"
             ],
             [
              0.1111111111111111,
              "#46039f"
             ],
             [
              0.2222222222222222,
              "#7201a8"
             ],
             [
              0.3333333333333333,
              "#9c179e"
             ],
             [
              0.4444444444444444,
              "#bd3786"
             ],
             [
              0.5555555555555556,
              "#d8576b"
             ],
             [
              0.6666666666666666,
              "#ed7953"
             ],
             [
              0.7777777777777778,
              "#fb9f3a"
             ],
             [
              0.8888888888888888,
              "#fdca26"
             ],
             [
              1,
              "#f0f921"
             ]
            ],
            "type": "histogram2dcontour"
           }
          ],
          "mesh3d": [
           {
            "colorbar": {
             "outlinewidth": 0,
             "ticks": ""
            },
            "type": "mesh3d"
           }
          ],
          "parcoords": [
           {
            "line": {
             "colorbar": {
              "outlinewidth": 0,
              "ticks": ""
             }
            },
            "type": "parcoords"
           }
          ],
          "pie": [
           {
            "automargin": true,
            "type": "pie"
           }
          ],
          "scatter": [
           {
            "fillpattern": {
             "fillmode": "overlay",
             "size": 10,
             "solidity": 0.2
            },
            "type": "scatter"
           }
          ],
          "scatter3d": [
           {
            "line": {
             "colorbar": {
              "outlinewidth": 0,
              "ticks": ""
             }
            },
            "marker": {
             "colorbar": {
              "outlinewidth": 0,
              "ticks": ""
             }
            },
            "type": "scatter3d"
           }
          ],
          "scattercarpet": [
           {
            "marker": {
             "colorbar": {
              "outlinewidth": 0,
              "ticks": ""
             }
            },
            "type": "scattercarpet"
           }
          ],
          "scattergeo": [
           {
            "marker": {
             "colorbar": {
              "outlinewidth": 0,
              "ticks": ""
             }
            },
            "type": "scattergeo"
           }
          ],
          "scattergl": [
           {
            "marker": {
             "colorbar": {
              "outlinewidth": 0,
              "ticks": ""
             }
            },
            "type": "scattergl"
           }
          ],
          "scattermapbox": [
           {
            "marker": {
             "colorbar": {
              "outlinewidth": 0,
              "ticks": ""
             }
            },
            "type": "scattermapbox"
           }
          ],
          "scatterpolar": [
           {
            "marker": {
             "colorbar": {
              "outlinewidth": 0,
              "ticks": ""
             }
            },
            "type": "scatterpolar"
           }
          ],
          "scatterpolargl": [
           {
            "marker": {
             "colorbar": {
              "outlinewidth": 0,
              "ticks": ""
             }
            },
            "type": "scatterpolargl"
           }
          ],
          "scatterternary": [
           {
            "marker": {
             "colorbar": {
              "outlinewidth": 0,
              "ticks": ""
             }
            },
            "type": "scatterternary"
           }
          ],
          "surface": [
           {
            "colorbar": {
             "outlinewidth": 0,
             "ticks": ""
            },
            "colorscale": [
             [
              0,
              "#0d0887"
             ],
             [
              0.1111111111111111,
              "#46039f"
             ],
             [
              0.2222222222222222,
              "#7201a8"
             ],
             [
              0.3333333333333333,
              "#9c179e"
             ],
             [
              0.4444444444444444,
              "#bd3786"
             ],
             [
              0.5555555555555556,
              "#d8576b"
             ],
             [
              0.6666666666666666,
              "#ed7953"
             ],
             [
              0.7777777777777778,
              "#fb9f3a"
             ],
             [
              0.8888888888888888,
              "#fdca26"
             ],
             [
              1,
              "#f0f921"
             ]
            ],
            "type": "surface"
           }
          ],
          "table": [
           {
            "cells": {
             "fill": {
              "color": "#EBF0F8"
             },
             "line": {
              "color": "white"
             }
            },
            "header": {
             "fill": {
              "color": "#C8D4E3"
             },
             "line": {
              "color": "white"
             }
            },
            "type": "table"
           }
          ]
         },
         "layout": {
          "annotationdefaults": {
           "arrowcolor": "#2a3f5f",
           "arrowhead": 0,
           "arrowwidth": 1
          },
          "autotypenumbers": "strict",
          "coloraxis": {
           "colorbar": {
            "outlinewidth": 0,
            "ticks": ""
           }
          },
          "colorscale": {
           "diverging": [
            [
             0,
             "#8e0152"
            ],
            [
             0.1,
             "#c51b7d"
            ],
            [
             0.2,
             "#de77ae"
            ],
            [
             0.3,
             "#f1b6da"
            ],
            [
             0.4,
             "#fde0ef"
            ],
            [
             0.5,
             "#f7f7f7"
            ],
            [
             0.6,
             "#e6f5d0"
            ],
            [
             0.7,
             "#b8e186"
            ],
            [
             0.8,
             "#7fbc41"
            ],
            [
             0.9,
             "#4d9221"
            ],
            [
             1,
             "#276419"
            ]
           ],
           "sequential": [
            [
             0,
             "#0d0887"
            ],
            [
             0.1111111111111111,
             "#46039f"
            ],
            [
             0.2222222222222222,
             "#7201a8"
            ],
            [
             0.3333333333333333,
             "#9c179e"
            ],
            [
             0.4444444444444444,
             "#bd3786"
            ],
            [
             0.5555555555555556,
             "#d8576b"
            ],
            [
             0.6666666666666666,
             "#ed7953"
            ],
            [
             0.7777777777777778,
             "#fb9f3a"
            ],
            [
             0.8888888888888888,
             "#fdca26"
            ],
            [
             1,
             "#f0f921"
            ]
           ],
           "sequentialminus": [
            [
             0,
             "#0d0887"
            ],
            [
             0.1111111111111111,
             "#46039f"
            ],
            [
             0.2222222222222222,
             "#7201a8"
            ],
            [
             0.3333333333333333,
             "#9c179e"
            ],
            [
             0.4444444444444444,
             "#bd3786"
            ],
            [
             0.5555555555555556,
             "#d8576b"
            ],
            [
             0.6666666666666666,
             "#ed7953"
            ],
            [
             0.7777777777777778,
             "#fb9f3a"
            ],
            [
             0.8888888888888888,
             "#fdca26"
            ],
            [
             1,
             "#f0f921"
            ]
           ]
          },
          "colorway": [
           "#636efa",
           "#EF553B",
           "#00cc96",
           "#ab63fa",
           "#FFA15A",
           "#19d3f3",
           "#FF6692",
           "#B6E880",
           "#FF97FF",
           "#FECB52"
          ],
          "font": {
           "color": "#2a3f5f"
          },
          "geo": {
           "bgcolor": "white",
           "lakecolor": "white",
           "landcolor": "#E5ECF6",
           "showlakes": true,
           "showland": true,
           "subunitcolor": "white"
          },
          "hoverlabel": {
           "align": "left"
          },
          "hovermode": "closest",
          "mapbox": {
           "style": "light"
          },
          "paper_bgcolor": "white",
          "plot_bgcolor": "#E5ECF6",
          "polar": {
           "angularaxis": {
            "gridcolor": "white",
            "linecolor": "white",
            "ticks": ""
           },
           "bgcolor": "#E5ECF6",
           "radialaxis": {
            "gridcolor": "white",
            "linecolor": "white",
            "ticks": ""
           }
          },
          "scene": {
           "xaxis": {
            "backgroundcolor": "#E5ECF6",
            "gridcolor": "white",
            "gridwidth": 2,
            "linecolor": "white",
            "showbackground": true,
            "ticks": "",
            "zerolinecolor": "white"
           },
           "yaxis": {
            "backgroundcolor": "#E5ECF6",
            "gridcolor": "white",
            "gridwidth": 2,
            "linecolor": "white",
            "showbackground": true,
            "ticks": "",
            "zerolinecolor": "white"
           },
           "zaxis": {
            "backgroundcolor": "#E5ECF6",
            "gridcolor": "white",
            "gridwidth": 2,
            "linecolor": "white",
            "showbackground": true,
            "ticks": "",
            "zerolinecolor": "white"
           }
          },
          "shapedefaults": {
           "line": {
            "color": "#2a3f5f"
           }
          },
          "ternary": {
           "aaxis": {
            "gridcolor": "white",
            "linecolor": "white",
            "ticks": ""
           },
           "baxis": {
            "gridcolor": "white",
            "linecolor": "white",
            "ticks": ""
           },
           "bgcolor": "#E5ECF6",
           "caxis": {
            "gridcolor": "white",
            "linecolor": "white",
            "ticks": ""
           }
          },
          "title": {
           "x": 0.05
          },
          "xaxis": {
           "automargin": true,
           "gridcolor": "white",
           "linecolor": "white",
           "ticks": "",
           "title": {
            "standoff": 15
           },
           "zerolinecolor": "white",
           "zerolinewidth": 2
          },
          "yaxis": {
           "automargin": true,
           "gridcolor": "white",
           "linecolor": "white",
           "ticks": "",
           "title": {
            "standoff": 15
           },
           "zerolinecolor": "white",
           "zerolinewidth": 2
          }
         }
        },
        "width": 900,
        "xaxis": {
         "anchor": "y",
         "domain": [
          0,
          0.98
         ],
         "dtick": 1,
         "range": [
          1986,
          2016
         ],
         "title": {
          "text": ""
         }
        },
        "xaxis2": {
         "anchor": "y2",
         "domain": [
          0,
          0.98
         ],
         "dtick": 1,
         "matches": "x",
         "showticklabels": false
        },
        "xaxis3": {
         "anchor": "y3",
         "domain": [
          0,
          0.98
         ],
         "dtick": 1,
         "matches": "x",
         "showticklabels": false
        },
        "yaxis": {
         "anchor": "x",
         "domain": [
          0,
          0.32666666666666666
         ],
         "title": {
          "text": "Yield (mt/ha)"
         }
        },
        "yaxis2": {
         "anchor": "x2",
         "domain": [
          0.33666666666666667,
          0.6633333333333333
         ],
         "title": {
          "text": "Area (ha)"
         }
        },
        "yaxis3": {
         "anchor": "x3",
         "domain": [
          0.6733333333333333,
          1
         ],
         "title": {
          "text": "Production (mt)"
         }
        }
       }
      },
      "text/html": [
       "<div>                            <div id=\"0bc3953a-9d14-4bbc-b688-3225b974163d\" class=\"plotly-graph-div\" style=\"height:600px; width:900px;\"></div>            <script type=\"text/javascript\">                require([\"plotly\"], function(Plotly) {                    window.PLOTLYENV=window.PLOTLYENV || {};                                    if (document.getElementById(\"0bc3953a-9d14-4bbc-b688-3225b974163d\")) {                    Plotly.newPlot(                        \"0bc3953a-9d14-4bbc-b688-3225b974163d\",                        [{\"hovertemplate\":\"fnid=SL1960A20101<br>indicator=production<br>year=%{x}<br>value=%{y}<extra></extra>\",\"legendgroup\":\"SL1960A20101\",\"line\":{\"color\":\"#636efa\",\"dash\":\"solid\"},\"marker\":{\"symbol\":\"circle\"},\"mode\":\"markers+lines\",\"name\":\"SL1960A20101\",\"orientation\":\"v\",\"showlegend\":true,\"x\":[2015,2016],\"xaxis\":\"x3\",\"y\":[4259.97,4685.967],\"yaxis\":\"y3\",\"type\":\"scatter\",\"connectgaps\":false},{\"hovertemplate\":\"fnid=SL1960A20102<br>indicator=production<br>year=%{x}<br>value=%{y}<extra></extra>\",\"legendgroup\":\"SL1960A20102\",\"line\":{\"color\":\"#EF553B\",\"dash\":\"solid\"},\"marker\":{\"symbol\":\"circle\"},\"mode\":\"markers+lines\",\"name\":\"SL1960A20102\",\"orientation\":\"v\",\"showlegend\":true,\"x\":[2015,2016],\"xaxis\":\"x3\",\"y\":[5113.68,5625.048],\"yaxis\":\"y3\",\"type\":\"scatter\",\"connectgaps\":false},{\"hovertemplate\":\"fnid=SL1960A20103<br>indicator=production<br>year=%{x}<br>value=%{y}<extra></extra>\",\"legendgroup\":\"SL1960A20103\",\"line\":{\"color\":\"#00cc96\",\"dash\":\"solid\"},\"marker\":{\"symbol\":\"circle\"},\"mode\":\"markers+lines\",\"name\":\"SL1960A20103\",\"orientation\":\"v\",\"showlegend\":true,\"x\":[2015,2016],\"xaxis\":\"x3\",\"y\":[2376.66,2614.326],\"yaxis\":\"y3\",\"type\":\"scatter\",\"connectgaps\":false},{\"hovertemplate\":\"fnid=SL1960A20201<br>indicator=production<br>year=%{x}<br>value=%{y}<extra></extra>\",\"legendgroup\":\"SL1960A20201\",\"line\":{\"color\":\"#ab63fa\",\"dash\":\"solid\"},\"marker\":{\"symbol\":\"circle\"},\"mode\":\"markers+lines\",\"name\":\"SL1960A20201\",\"orientation\":\"v\",\"showlegend\":true,\"x\":[2015,2016],\"xaxis\":\"x3\",\"y\":[2868.58,3155.438],\"yaxis\":\"y3\",\"type\":\"scatter\",\"connectgaps\":false},{\"hovertemplate\":\"fnid=SL1960A20202<br>indicator=production<br>year=%{x}<br>value=%{y}<extra></extra>\",\"legendgroup\":\"SL1960A20202\",\"line\":{\"color\":\"#FFA15A\",\"dash\":\"solid\"},\"marker\":{\"symbol\":\"circle\"},\"mode\":\"markers+lines\",\"name\":\"SL1960A20202\",\"orientation\":\"v\",\"showlegend\":true,\"x\":[2015,2016],\"xaxis\":\"x3\",\"y\":[2515.37,2766.907],\"yaxis\":\"y3\",\"type\":\"scatter\",\"connectgaps\":false},{\"hovertemplate\":\"fnid=SL1960A20203<br>indicator=production<br>year=%{x}<br>value=%{y}<extra></extra>\",\"legendgroup\":\"SL1960A20203\",\"line\":{\"color\":\"#19d3f3\",\"dash\":\"solid\"},\"marker\":{\"symbol\":\"circle\"},\"mode\":\"markers+lines\",\"name\":\"SL1960A20203\",\"orientation\":\"v\",\"showlegend\":true,\"x\":[2015,2016],\"xaxis\":\"x3\",\"y\":[1762.475,1938.7225],\"yaxis\":\"y3\",\"type\":\"scatter\",\"connectgaps\":false},{\"hovertemplate\":\"fnid=SL1960A20204<br>indicator=production<br>year=%{x}<br>value=%{y}<extra></extra>\",\"legendgroup\":\"SL1960A20204\",\"line\":{\"color\":\"#FF6692\",\"dash\":\"solid\"},\"marker\":{\"symbol\":\"circle\"},\"mode\":\"markers+lines\",\"name\":\"SL1960A20204\",\"orientation\":\"v\",\"showlegend\":true,\"x\":[2015,2016],\"xaxis\":\"x3\",\"y\":[4340.765,4774.8415],\"yaxis\":\"y3\",\"type\":\"scatter\",\"connectgaps\":false},{\"hovertemplate\":\"fnid=SL1960A20205<br>indicator=production<br>year=%{x}<br>value=%{y}<extra></extra>\",\"legendgroup\":\"SL1960A20205\",\"line\":{\"color\":\"#B6E880\",\"dash\":\"solid\"},\"marker\":{\"symbol\":\"circle\"},\"mode\":\"markers+lines\",\"name\":\"SL1960A20205\",\"orientation\":\"v\",\"showlegend\":true,\"x\":[2015,2016],\"xaxis\":\"x3\",\"y\":[6792.0996,7471.30956],\"yaxis\":\"y3\",\"type\":\"scatter\",\"connectgaps\":false},{\"hovertemplate\":\"fnid=SL1960A20301<br>indicator=production<br>year=%{x}<br>value=%{y}<extra></extra>\",\"legendgroup\":\"SL1960A20301\",\"line\":{\"color\":\"#FF97FF\",\"dash\":\"solid\"},\"marker\":{\"symbol\":\"circle\"},\"mode\":\"markers+lines\",\"name\":\"SL1960A20301\",\"orientation\":\"v\",\"showlegend\":true,\"x\":[2015,2016],\"xaxis\":\"x3\",\"y\":[6329.895,6962.8845],\"yaxis\":\"y3\",\"type\":\"scatter\",\"connectgaps\":false},{\"hovertemplate\":\"fnid=SL1960A20302<br>indicator=production<br>year=%{x}<br>value=%{y}<extra></extra>\",\"legendgroup\":\"SL1960A20302\",\"line\":{\"color\":\"#FECB52\",\"dash\":\"solid\"},\"marker\":{\"symbol\":\"circle\"},\"mode\":\"markers+lines\",\"name\":\"SL1960A20302\",\"orientation\":\"v\",\"showlegend\":true,\"x\":[2015,2016],\"xaxis\":\"x3\",\"y\":[1544.4,1698.84],\"yaxis\":\"y3\",\"type\":\"scatter\",\"connectgaps\":false},{\"hovertemplate\":\"fnid=SL1960A20303<br>indicator=production<br>year=%{x}<br>value=%{y}<extra></extra>\",\"legendgroup\":\"SL1960A20303\",\"line\":{\"color\":\"#636efa\",\"dash\":\"solid\"},\"marker\":{\"symbol\":\"circle\"},\"mode\":\"markers+lines\",\"name\":\"SL1960A20303\",\"orientation\":\"v\",\"showlegend\":true,\"x\":[2015,2016],\"xaxis\":\"x3\",\"y\":[5599.88,6159.868],\"yaxis\":\"y3\",\"type\":\"scatter\",\"connectgaps\":false},{\"hovertemplate\":\"fnid=SL1960A20304<br>indicator=production<br>year=%{x}<br>value=%{y}<extra></extra>\",\"legendgroup\":\"SL1960A20304\",\"line\":{\"color\":\"#EF553B\",\"dash\":\"solid\"},\"marker\":{\"symbol\":\"circle\"},\"mode\":\"markers+lines\",\"name\":\"SL1960A20304\",\"orientation\":\"v\",\"showlegend\":true,\"x\":[2015,2016],\"xaxis\":\"x3\",\"y\":[1765.335,1941.8685],\"yaxis\":\"y3\",\"type\":\"scatter\",\"connectgaps\":false},{\"hovertemplate\":\"fnid=SL1960A20401<br>indicator=production<br>year=%{x}<br>value=%{y}<extra></extra>\",\"legendgroup\":\"SL1960A20401\",\"line\":{\"color\":\"#00cc96\",\"dash\":\"solid\"},\"marker\":{\"symbol\":\"circle\"},\"mode\":\"markers+lines\",\"name\":\"SL1960A20401\",\"orientation\":\"v\",\"showlegend\":true,\"x\":[2015,2016],\"xaxis\":\"x3\",\"y\":[286.429,315.0719],\"yaxis\":\"y3\",\"type\":\"scatter\",\"connectgaps\":false}],                        {\"template\":{\"data\":{\"histogram2dcontour\":[{\"type\":\"histogram2dcontour\",\"colorbar\":{\"outlinewidth\":0,\"ticks\":\"\"},\"colorscale\":[[0.0,\"#0d0887\"],[0.1111111111111111,\"#46039f\"],[0.2222222222222222,\"#7201a8\"],[0.3333333333333333,\"#9c179e\"],[0.4444444444444444,\"#bd3786\"],[0.5555555555555556,\"#d8576b\"],[0.6666666666666666,\"#ed7953\"],[0.7777777777777778,\"#fb9f3a\"],[0.8888888888888888,\"#fdca26\"],[1.0,\"#f0f921\"]]}],\"choropleth\":[{\"type\":\"choropleth\",\"colorbar\":{\"outlinewidth\":0,\"ticks\":\"\"}}],\"histogram2d\":[{\"type\":\"histogram2d\",\"colorbar\":{\"outlinewidth\":0,\"ticks\":\"\"},\"colorscale\":[[0.0,\"#0d0887\"],[0.1111111111111111,\"#46039f\"],[0.2222222222222222,\"#7201a8\"],[0.3333333333333333,\"#9c179e\"],[0.4444444444444444,\"#bd3786\"],[0.5555555555555556,\"#d8576b\"],[0.6666666666666666,\"#ed7953\"],[0.7777777777777778,\"#fb9f3a\"],[0.8888888888888888,\"#fdca26\"],[1.0,\"#f0f921\"]]}],\"heatmap\":[{\"type\":\"heatmap\",\"colorbar\":{\"outlinewidth\":0,\"ticks\":\"\"},\"colorscale\":[[0.0,\"#0d0887\"],[0.1111111111111111,\"#46039f\"],[0.2222222222222222,\"#7201a8\"],[0.3333333333333333,\"#9c179e\"],[0.4444444444444444,\"#bd3786\"],[0.5555555555555556,\"#d8576b\"],[0.6666666666666666,\"#ed7953\"],[0.7777777777777778,\"#fb9f3a\"],[0.8888888888888888,\"#fdca26\"],[1.0,\"#f0f921\"]]}],\"heatmapgl\":[{\"type\":\"heatmapgl\",\"colorbar\":{\"outlinewidth\":0,\"ticks\":\"\"},\"colorscale\":[[0.0,\"#0d0887\"],[0.1111111111111111,\"#46039f\"],[0.2222222222222222,\"#7201a8\"],[0.3333333333333333,\"#9c179e\"],[0.4444444444444444,\"#bd3786\"],[0.5555555555555556,\"#d8576b\"],[0.6666666666666666,\"#ed7953\"],[0.7777777777777778,\"#fb9f3a\"],[0.8888888888888888,\"#fdca26\"],[1.0,\"#f0f921\"]]}],\"contourcarpet\":[{\"type\":\"contourcarpet\",\"colorbar\":{\"outlinewidth\":0,\"ticks\":\"\"}}],\"contour\":[{\"type\":\"contour\",\"colorbar\":{\"outlinewidth\":0,\"ticks\":\"\"},\"colorscale\":[[0.0,\"#0d0887\"],[0.1111111111111111,\"#46039f\"],[0.2222222222222222,\"#7201a8\"],[0.3333333333333333,\"#9c179e\"],[0.4444444444444444,\"#bd3786\"],[0.5555555555555556,\"#d8576b\"],[0.6666666666666666,\"#ed7953\"],[0.7777777777777778,\"#fb9f3a\"],[0.8888888888888888,\"#fdca26\"],[1.0,\"#f0f921\"]]}],\"surface\":[{\"type\":\"surface\",\"colorbar\":{\"outlinewidth\":0,\"ticks\":\"\"},\"colorscale\":[[0.0,\"#0d0887\"],[0.1111111111111111,\"#46039f\"],[0.2222222222222222,\"#7201a8\"],[0.3333333333333333,\"#9c179e\"],[0.4444444444444444,\"#bd3786\"],[0.5555555555555556,\"#d8576b\"],[0.6666666666666666,\"#ed7953\"],[0.7777777777777778,\"#fb9f3a\"],[0.8888888888888888,\"#fdca26\"],[1.0,\"#f0f921\"]]}],\"mesh3d\":[{\"type\":\"mesh3d\",\"colorbar\":{\"outlinewidth\":0,\"ticks\":\"\"}}],\"scatter\":[{\"fillpattern\":{\"fillmode\":\"overlay\",\"size\":10,\"solidity\":0.2},\"type\":\"scatter\"}],\"parcoords\":[{\"type\":\"parcoords\",\"line\":{\"colorbar\":{\"outlinewidth\":0,\"ticks\":\"\"}}}],\"scatterpolargl\":[{\"type\":\"scatterpolargl\",\"marker\":{\"colorbar\":{\"outlinewidth\":0,\"ticks\":\"\"}}}],\"bar\":[{\"error_x\":{\"color\":\"#2a3f5f\"},\"error_y\":{\"color\":\"#2a3f5f\"},\"marker\":{\"line\":{\"color\":\"#E5ECF6\",\"width\":0.5},\"pattern\":{\"fillmode\":\"overlay\",\"size\":10,\"solidity\":0.2}},\"type\":\"bar\"}],\"scattergeo\":[{\"type\":\"scattergeo\",\"marker\":{\"colorbar\":{\"outlinewidth\":0,\"ticks\":\"\"}}}],\"scatterpolar\":[{\"type\":\"scatterpolar\",\"marker\":{\"colorbar\":{\"outlinewidth\":0,\"ticks\":\"\"}}}],\"histogram\":[{\"marker\":{\"pattern\":{\"fillmode\":\"overlay\",\"size\":10,\"solidity\":0.2}},\"type\":\"histogram\"}],\"scattergl\":[{\"type\":\"scattergl\",\"marker\":{\"colorbar\":{\"outlinewidth\":0,\"ticks\":\"\"}}}],\"scatter3d\":[{\"type\":\"scatter3d\",\"line\":{\"colorbar\":{\"outlinewidth\":0,\"ticks\":\"\"}},\"marker\":{\"colorbar\":{\"outlinewidth\":0,\"ticks\":\"\"}}}],\"scattermapbox\":[{\"type\":\"scattermapbox\",\"marker\":{\"colorbar\":{\"outlinewidth\":0,\"ticks\":\"\"}}}],\"scatterternary\":[{\"type\":\"scatterternary\",\"marker\":{\"colorbar\":{\"outlinewidth\":0,\"ticks\":\"\"}}}],\"scattercarpet\":[{\"type\":\"scattercarpet\",\"marker\":{\"colorbar\":{\"outlinewidth\":0,\"ticks\":\"\"}}}],\"carpet\":[{\"aaxis\":{\"endlinecolor\":\"#2a3f5f\",\"gridcolor\":\"white\",\"linecolor\":\"white\",\"minorgridcolor\":\"white\",\"startlinecolor\":\"#2a3f5f\"},\"baxis\":{\"endlinecolor\":\"#2a3f5f\",\"gridcolor\":\"white\",\"linecolor\":\"white\",\"minorgridcolor\":\"white\",\"startlinecolor\":\"#2a3f5f\"},\"type\":\"carpet\"}],\"table\":[{\"cells\":{\"fill\":{\"color\":\"#EBF0F8\"},\"line\":{\"color\":\"white\"}},\"header\":{\"fill\":{\"color\":\"#C8D4E3\"},\"line\":{\"color\":\"white\"}},\"type\":\"table\"}],\"barpolar\":[{\"marker\":{\"line\":{\"color\":\"#E5ECF6\",\"width\":0.5},\"pattern\":{\"fillmode\":\"overlay\",\"size\":10,\"solidity\":0.2}},\"type\":\"barpolar\"}],\"pie\":[{\"automargin\":true,\"type\":\"pie\"}]},\"layout\":{\"autotypenumbers\":\"strict\",\"colorway\":[\"#636efa\",\"#EF553B\",\"#00cc96\",\"#ab63fa\",\"#FFA15A\",\"#19d3f3\",\"#FF6692\",\"#B6E880\",\"#FF97FF\",\"#FECB52\"],\"font\":{\"color\":\"#2a3f5f\"},\"hovermode\":\"closest\",\"hoverlabel\":{\"align\":\"left\"},\"paper_bgcolor\":\"white\",\"plot_bgcolor\":\"#E5ECF6\",\"polar\":{\"bgcolor\":\"#E5ECF6\",\"angularaxis\":{\"gridcolor\":\"white\",\"linecolor\":\"white\",\"ticks\":\"\"},\"radialaxis\":{\"gridcolor\":\"white\",\"linecolor\":\"white\",\"ticks\":\"\"}},\"ternary\":{\"bgcolor\":\"#E5ECF6\",\"aaxis\":{\"gridcolor\":\"white\",\"linecolor\":\"white\",\"ticks\":\"\"},\"baxis\":{\"gridcolor\":\"white\",\"linecolor\":\"white\",\"ticks\":\"\"},\"caxis\":{\"gridcolor\":\"white\",\"linecolor\":\"white\",\"ticks\":\"\"}},\"coloraxis\":{\"colorbar\":{\"outlinewidth\":0,\"ticks\":\"\"}},\"colorscale\":{\"sequential\":[[0.0,\"#0d0887\"],[0.1111111111111111,\"#46039f\"],[0.2222222222222222,\"#7201a8\"],[0.3333333333333333,\"#9c179e\"],[0.4444444444444444,\"#bd3786\"],[0.5555555555555556,\"#d8576b\"],[0.6666666666666666,\"#ed7953\"],[0.7777777777777778,\"#fb9f3a\"],[0.8888888888888888,\"#fdca26\"],[1.0,\"#f0f921\"]],\"sequentialminus\":[[0.0,\"#0d0887\"],[0.1111111111111111,\"#46039f\"],[0.2222222222222222,\"#7201a8\"],[0.3333333333333333,\"#9c179e\"],[0.4444444444444444,\"#bd3786\"],[0.5555555555555556,\"#d8576b\"],[0.6666666666666666,\"#ed7953\"],[0.7777777777777778,\"#fb9f3a\"],[0.8888888888888888,\"#fdca26\"],[1.0,\"#f0f921\"]],\"diverging\":[[0,\"#8e0152\"],[0.1,\"#c51b7d\"],[0.2,\"#de77ae\"],[0.3,\"#f1b6da\"],[0.4,\"#fde0ef\"],[0.5,\"#f7f7f7\"],[0.6,\"#e6f5d0\"],[0.7,\"#b8e186\"],[0.8,\"#7fbc41\"],[0.9,\"#4d9221\"],[1,\"#276419\"]]},\"xaxis\":{\"gridcolor\":\"white\",\"linecolor\":\"white\",\"ticks\":\"\",\"title\":{\"standoff\":15},\"zerolinecolor\":\"white\",\"automargin\":true,\"zerolinewidth\":2},\"yaxis\":{\"gridcolor\":\"white\",\"linecolor\":\"white\",\"ticks\":\"\",\"title\":{\"standoff\":15},\"zerolinecolor\":\"white\",\"automargin\":true,\"zerolinewidth\":2},\"scene\":{\"xaxis\":{\"backgroundcolor\":\"#E5ECF6\",\"gridcolor\":\"white\",\"linecolor\":\"white\",\"showbackground\":true,\"ticks\":\"\",\"zerolinecolor\":\"white\",\"gridwidth\":2},\"yaxis\":{\"backgroundcolor\":\"#E5ECF6\",\"gridcolor\":\"white\",\"linecolor\":\"white\",\"showbackground\":true,\"ticks\":\"\",\"zerolinecolor\":\"white\",\"gridwidth\":2},\"zaxis\":{\"backgroundcolor\":\"#E5ECF6\",\"gridcolor\":\"white\",\"linecolor\":\"white\",\"showbackground\":true,\"ticks\":\"\",\"zerolinecolor\":\"white\",\"gridwidth\":2}},\"shapedefaults\":{\"line\":{\"color\":\"#2a3f5f\"}},\"annotationdefaults\":{\"arrowcolor\":\"#2a3f5f\",\"arrowhead\":0,\"arrowwidth\":1},\"geo\":{\"bgcolor\":\"white\",\"landcolor\":\"#E5ECF6\",\"subunitcolor\":\"white\",\"showland\":true,\"showlakes\":true,\"lakecolor\":\"white\"},\"title\":{\"x\":0.05},\"mapbox\":{\"style\":\"light\"}}},\"xaxis\":{\"anchor\":\"y\",\"domain\":[0.0,0.98],\"title\":{\"text\":\"\"},\"range\":[1986,2016],\"dtick\":1},\"yaxis\":{\"anchor\":\"x\",\"domain\":[0.0,0.32666666666666666],\"title\":{\"text\":\"Yield (mt/ha)\"}},\"xaxis2\":{\"anchor\":\"y2\",\"domain\":[0.0,0.98],\"matches\":\"x\",\"showticklabels\":false,\"dtick\":1},\"yaxis2\":{\"anchor\":\"x2\",\"domain\":[0.33666666666666667,0.6633333333333333],\"title\":{\"text\":\"Area (ha)\"}},\"xaxis3\":{\"anchor\":\"y3\",\"domain\":[0.0,0.98],\"matches\":\"x\",\"showticklabels\":false,\"dtick\":1},\"yaxis3\":{\"anchor\":\"x3\",\"domain\":[0.6733333333333333,1.0],\"title\":{\"text\":\"Production (mt)\"}},\"annotations\":[{\"showarrow\":false,\"text\":\"\",\"textangle\":90,\"x\":0.98,\"xanchor\":\"left\",\"xref\":\"paper\",\"y\":0.16333333333333333,\"yanchor\":\"middle\",\"yref\":\"paper\"},{\"showarrow\":false,\"text\":\"\",\"textangle\":90,\"x\":0.98,\"xanchor\":\"left\",\"xref\":\"paper\",\"y\":0.5,\"yanchor\":\"middle\",\"yref\":\"paper\"},{\"showarrow\":false,\"text\":\"\",\"textangle\":90,\"x\":0.98,\"xanchor\":\"left\",\"xref\":\"paper\",\"y\":0.8366666666666667,\"yanchor\":\"middle\",\"yref\":\"paper\"},{\"align\":\"left\",\"font\":{\"color\":\"dimgrey\",\"family\":\"arial\",\"size\":15},\"showarrow\":false,\"text\":\"Production-Area-Yield time-series of SL - Sorghum - Main season\",\"x\":-0.014,\"xref\":\"paper\",\"y\":-0.14,\"yref\":\"paper\"}],\"legend\":{\"title\":{\"text\":\"FNID\"},\"tracegroupgap\":0,\"yanchor\":\"top\",\"xanchor\":\"left\",\"y\":1.0,\"x\":1,\"font\":{\"size\":14}},\"margin\":{\"t\":0,\"r\":0,\"l\":0,\"b\":25},\"font\":{\"family\":\"arial\",\"size\":16,\"color\":\"black\"},\"width\":900,\"height\":600},                        {\"responsive\": true}                    ).then(function(){\n",
       "                            \n",
       "var gd = document.getElementById('0bc3953a-9d14-4bbc-b688-3225b974163d');\n",
       "var x = new MutationObserver(function (mutations, observer) {{\n",
       "        var display = window.getComputedStyle(gd).display;\n",
       "        if (!display || display === 'none') {{\n",
       "            console.log([gd, 'removed!']);\n",
       "            Plotly.purge(gd);\n",
       "            observer.disconnect();\n",
       "        }}\n",
       "}});\n",
       "\n",
       "// Listen for the removal of the full notebook cells\n",
       "var notebookContainer = gd.closest('#notebook-container');\n",
       "if (notebookContainer) {{\n",
       "    x.observe(notebookContainer, {childList: true});\n",
       "}}\n",
       "\n",
       "// Listen for the clearing of the current output cell\n",
       "var outputEl = gd.closest('.output');\n",
       "if (outputEl) {{\n",
       "    x.observe(outputEl, {childList: true});\n",
       "}}\n",
       "\n",
       "                        })                };                });            </script>        </div>"
      ]
     },
     "metadata": {},
     "output_type": "display_data"
    },
    {
     "data": {
      "application/vnd.plotly.v1+json": {
       "config": {
        "plotlyServerURL": "https://plot.ly"
       },
       "data": [
        {
         "connectgaps": false,
         "hovertemplate": "fnid=SL1960A20101<br>indicator=production<br>year=%{x}<br>value=%{y}<extra></extra>",
         "legendgroup": "SL1960A20101",
         "line": {
          "color": "#636efa",
          "dash": "solid"
         },
         "marker": {
          "symbol": "circle"
         },
         "mode": "markers+lines",
         "name": "SL1960A20101",
         "showlegend": true,
         "type": "scattergl",
         "x": [
          1986,
          1987,
          1988,
          1989,
          1990,
          1991,
          1992,
          1993,
          1994,
          1995,
          1996,
          1997,
          1998,
          1999,
          2000,
          2001,
          2002,
          2003,
          2004,
          2005,
          2006,
          2007,
          2008,
          2009,
          2010,
          2011,
          2012,
          2013,
          2014,
          2015,
          2016
         ],
         "xaxis": "x3",
         "y": [
          40379,
          null,
          null,
          null,
          null,
          null,
          null,
          null,
          null,
          null,
          null,
          null,
          null,
          null,
          null,
          null,
          null,
          null,
          null,
          null,
          null,
          null,
          null,
          null,
          null,
          null,
          null,
          null,
          null,
          62853,
          69761
         ],
         "yaxis": "y3"
        },
        {
         "connectgaps": false,
         "hovertemplate": "fnid=SL1960A20101<br>indicator=area<br>year=%{x}<br>value=%{y}<extra></extra>",
         "legendgroup": "SL1960A20101",
         "line": {
          "color": "#636efa",
          "dash": "solid"
         },
         "marker": {
          "symbol": "circle"
         },
         "mode": "markers+lines",
         "name": "SL1960A20101",
         "showlegend": false,
         "type": "scattergl",
         "x": [
          1986,
          1987,
          1988,
          1989,
          1990,
          1991,
          1992,
          1993,
          1994,
          1995,
          1996,
          1997,
          1998,
          1999,
          2000,
          2001,
          2002,
          2003,
          2004,
          2005,
          2006,
          2007,
          2008,
          2009,
          2010,
          2011,
          2012,
          2013,
          2014,
          2015,
          2016
         ],
         "xaxis": "x2",
         "y": [
          26345,
          null,
          null,
          null,
          null,
          null,
          null,
          null,
          null,
          null,
          null,
          null,
          null,
          null,
          null,
          null,
          25159.005,
          null,
          16710,
          null,
          null,
          null,
          null,
          null,
          null,
          null,
          null,
          null,
          null,
          null,
          null
         ],
         "yaxis": "y2"
        },
        {
         "connectgaps": false,
         "hovertemplate": "fnid=SL1960A20101<br>indicator=yield<br>year=%{x}<br>value=%{y}<extra></extra>",
         "legendgroup": "SL1960A20101",
         "line": {
          "color": "#636efa",
          "dash": "solid"
         },
         "marker": {
          "symbol": "circle"
         },
         "mode": "markers+lines",
         "name": "SL1960A20101",
         "showlegend": false,
         "type": "scattergl",
         "x": [
          1986,
          1987,
          1988,
          1989,
          1990,
          1991,
          1992,
          1993,
          1994,
          1995,
          1996,
          1997,
          1998,
          1999,
          2000,
          2001,
          2002,
          2003,
          2004,
          2005,
          2006,
          2007,
          2008,
          2009,
          2010,
          2011,
          2012,
          2013,
          2014,
          2015,
          2016
         ],
         "xaxis": "x",
         "y": [
          1.5327007022205352,
          null,
          null,
          null,
          null,
          null,
          null,
          null,
          null,
          null,
          null,
          null,
          null,
          null,
          null,
          null,
          null,
          null,
          null,
          null,
          null,
          null,
          null,
          null,
          null,
          null,
          null,
          null,
          null,
          null,
          null
         ],
         "yaxis": "y"
        },
        {
         "connectgaps": false,
         "hovertemplate": "fnid=SL1960A20102<br>indicator=production<br>year=%{x}<br>value=%{y}<extra></extra>",
         "legendgroup": "SL1960A20102",
         "line": {
          "color": "#EF553B",
          "dash": "solid"
         },
         "marker": {
          "symbol": "circle"
         },
         "mode": "markers+lines",
         "name": "SL1960A20102",
         "showlegend": true,
         "type": "scattergl",
         "x": [
          1986,
          1987,
          1988,
          1989,
          1990,
          1991,
          1992,
          1993,
          1994,
          1995,
          1996,
          1997,
          1998,
          1999,
          2000,
          2001,
          2002,
          2003,
          2004,
          2005,
          2006,
          2007,
          2008,
          2009,
          2010,
          2011,
          2012,
          2013,
          2014,
          2015,
          2016
         ],
         "xaxis": "x3",
         "y": [
          85753,
          null,
          null,
          null,
          null,
          null,
          null,
          null,
          null,
          null,
          null,
          null,
          null,
          null,
          null,
          null,
          null,
          null,
          null,
          null,
          null,
          null,
          null,
          null,
          null,
          null,
          null,
          null,
          null,
          89659,
          99514
         ],
         "yaxis": "y3"
        },
        {
         "connectgaps": false,
         "hovertemplate": "fnid=SL1960A20102<br>indicator=area<br>year=%{x}<br>value=%{y}<extra></extra>",
         "legendgroup": "SL1960A20102",
         "line": {
          "color": "#EF553B",
          "dash": "solid"
         },
         "marker": {
          "symbol": "circle"
         },
         "mode": "markers+lines",
         "name": "SL1960A20102",
         "showlegend": false,
         "type": "scattergl",
         "x": [
          1986,
          1987,
          1988,
          1989,
          1990,
          1991,
          1992,
          1993,
          1994,
          1995,
          1996,
          1997,
          1998,
          1999,
          2000,
          2001,
          2002,
          2003,
          2004,
          2005,
          2006,
          2007,
          2008,
          2009,
          2010,
          2011,
          2012,
          2013,
          2014,
          2015,
          2016
         ],
         "xaxis": "x2",
         "y": [
          49041,
          null,
          null,
          null,
          null,
          null,
          null,
          null,
          null,
          null,
          null,
          null,
          null,
          null,
          null,
          null,
          44731.44,
          null,
          39103,
          null,
          null,
          null,
          null,
          null,
          null,
          null,
          null,
          null,
          null,
          null,
          null
         ],
         "yaxis": "y2"
        },
        {
         "connectgaps": false,
         "hovertemplate": "fnid=SL1960A20102<br>indicator=yield<br>year=%{x}<br>value=%{y}<extra></extra>",
         "legendgroup": "SL1960A20102",
         "line": {
          "color": "#EF553B",
          "dash": "solid"
         },
         "marker": {
          "symbol": "circle"
         },
         "mode": "markers+lines",
         "name": "SL1960A20102",
         "showlegend": false,
         "type": "scattergl",
         "x": [
          1986,
          1987,
          1988,
          1989,
          1990,
          1991,
          1992,
          1993,
          1994,
          1995,
          1996,
          1997,
          1998,
          1999,
          2000,
          2001,
          2002,
          2003,
          2004,
          2005,
          2006,
          2007,
          2008,
          2009,
          2010,
          2011,
          2012,
          2013,
          2014,
          2015,
          2016
         ],
         "xaxis": "x",
         "y": [
          1.7485981117840177,
          null,
          null,
          null,
          null,
          null,
          null,
          null,
          null,
          null,
          null,
          null,
          null,
          null,
          null,
          null,
          null,
          null,
          null,
          null,
          null,
          null,
          null,
          null,
          null,
          null,
          null,
          null,
          null,
          null,
          null
         ],
         "yaxis": "y"
        },
        {
         "connectgaps": false,
         "hovertemplate": "fnid=SL1960A20103<br>indicator=production<br>year=%{x}<br>value=%{y}<extra></extra>",
         "legendgroup": "SL1960A20103",
         "line": {
          "color": "#00cc96",
          "dash": "solid"
         },
         "marker": {
          "symbol": "circle"
         },
         "mode": "markers+lines",
         "name": "SL1960A20103",
         "showlegend": true,
         "type": "scattergl",
         "x": [
          1986,
          1987,
          1988,
          1989,
          1990,
          1991,
          1992,
          1993,
          1994,
          1995,
          1996,
          1997,
          1998,
          1999,
          2000,
          2001,
          2002,
          2003,
          2004,
          2005,
          2006,
          2007,
          2008,
          2009,
          2010,
          2011,
          2012,
          2013,
          2014,
          2015,
          2016
         ],
         "xaxis": "x3",
         "y": [
          36848,
          null,
          null,
          null,
          null,
          null,
          null,
          null,
          null,
          null,
          null,
          null,
          null,
          null,
          null,
          null,
          null,
          null,
          null,
          null,
          null,
          null,
          null,
          null,
          null,
          null,
          null,
          null,
          null,
          43352,
          148117
         ],
         "yaxis": "y3"
        },
        {
         "connectgaps": false,
         "hovertemplate": "fnid=SL1960A20103<br>indicator=area<br>year=%{x}<br>value=%{y}<extra></extra>",
         "legendgroup": "SL1960A20103",
         "line": {
          "color": "#00cc96",
          "dash": "solid"
         },
         "marker": {
          "symbol": "circle"
         },
         "mode": "markers+lines",
         "name": "SL1960A20103",
         "showlegend": false,
         "type": "scattergl",
         "x": [
          1986,
          1987,
          1988,
          1989,
          1990,
          1991,
          1992,
          1993,
          1994,
          1995,
          1996,
          1997,
          1998,
          1999,
          2000,
          2001,
          2002,
          2003,
          2004,
          2005,
          2006,
          2007,
          2008,
          2009,
          2010,
          2011,
          2012,
          2013,
          2014,
          2015,
          2016
         ],
         "xaxis": "x2",
         "y": [
          22531,
          null,
          null,
          null,
          null,
          null,
          null,
          null,
          null,
          null,
          null,
          null,
          null,
          null,
          null,
          null,
          24714.72,
          null,
          13456,
          null,
          null,
          null,
          null,
          null,
          null,
          null,
          null,
          null,
          null,
          null,
          null
         ],
         "yaxis": "y2"
        },
        {
         "connectgaps": false,
         "hovertemplate": "fnid=SL1960A20103<br>indicator=yield<br>year=%{x}<br>value=%{y}<extra></extra>",
         "legendgroup": "SL1960A20103",
         "line": {
          "color": "#00cc96",
          "dash": "solid"
         },
         "marker": {
          "symbol": "circle"
         },
         "mode": "markers+lines",
         "name": "SL1960A20103",
         "showlegend": false,
         "type": "scattergl",
         "x": [
          1986,
          1987,
          1988,
          1989,
          1990,
          1991,
          1992,
          1993,
          1994,
          1995,
          1996,
          1997,
          1998,
          1999,
          2000,
          2001,
          2002,
          2003,
          2004,
          2005,
          2006,
          2007,
          2008,
          2009,
          2010,
          2011,
          2012,
          2013,
          2014,
          2015,
          2016
         ],
         "xaxis": "x",
         "y": [
          1.635435622031867,
          null,
          null,
          null,
          null,
          null,
          null,
          null,
          null,
          null,
          null,
          null,
          null,
          null,
          null,
          null,
          null,
          null,
          null,
          null,
          null,
          null,
          null,
          null,
          null,
          null,
          null,
          null,
          null,
          null,
          null
         ],
         "yaxis": "y"
        },
        {
         "connectgaps": false,
         "hovertemplate": "fnid=SL1960A20201<br>indicator=production<br>year=%{x}<br>value=%{y}<extra></extra>",
         "legendgroup": "SL1960A20201",
         "line": {
          "color": "#ab63fa",
          "dash": "solid"
         },
         "marker": {
          "symbol": "circle"
         },
         "mode": "markers+lines",
         "name": "SL1960A20201",
         "showlegend": true,
         "type": "scattergl",
         "x": [
          1986,
          1987,
          1988,
          1989,
          1990,
          1991,
          1992,
          1993,
          1994,
          1995,
          1996,
          1997,
          1998,
          1999,
          2000,
          2001,
          2002,
          2003,
          2004,
          2005,
          2006,
          2007,
          2008,
          2009,
          2010,
          2011,
          2012,
          2013,
          2014,
          2015,
          2016
         ],
         "xaxis": "x3",
         "y": [
          51517,
          null,
          null,
          null,
          null,
          null,
          null,
          null,
          null,
          null,
          null,
          null,
          null,
          null,
          null,
          null,
          null,
          null,
          null,
          null,
          null,
          null,
          null,
          null,
          null,
          null,
          null,
          null,
          null,
          66131,
          73400
         ],
         "yaxis": "y3"
        },
        {
         "connectgaps": false,
         "hovertemplate": "fnid=SL1960A20201<br>indicator=area<br>year=%{x}<br>value=%{y}<extra></extra>",
         "legendgroup": "SL1960A20201",
         "line": {
          "color": "#ab63fa",
          "dash": "solid"
         },
         "marker": {
          "symbol": "circle"
         },
         "mode": "markers+lines",
         "name": "SL1960A20201",
         "showlegend": false,
         "type": "scattergl",
         "x": [
          1986,
          1987,
          1988,
          1989,
          1990,
          1991,
          1992,
          1993,
          1994,
          1995,
          1996,
          1997,
          1998,
          1999,
          2000,
          2001,
          2002,
          2003,
          2004,
          2005,
          2006,
          2007,
          2008,
          2009,
          2010,
          2011,
          2012,
          2013,
          2014,
          2015,
          2016
         ],
         "xaxis": "x2",
         "y": [
          38059,
          null,
          null,
          null,
          null,
          null,
          null,
          null,
          null,
          null,
          null,
          null,
          null,
          null,
          null,
          null,
          29661.795,
          null,
          10830.4,
          null,
          null,
          null,
          null,
          null,
          null,
          null,
          null,
          null,
          null,
          null,
          null
         ],
         "yaxis": "y2"
        },
        {
         "connectgaps": false,
         "hovertemplate": "fnid=SL1960A20201<br>indicator=yield<br>year=%{x}<br>value=%{y}<extra></extra>",
         "legendgroup": "SL1960A20201",
         "line": {
          "color": "#ab63fa",
          "dash": "solid"
         },
         "marker": {
          "symbol": "circle"
         },
         "mode": "markers+lines",
         "name": "SL1960A20201",
         "showlegend": false,
         "type": "scattergl",
         "x": [
          1986,
          1987,
          1988,
          1989,
          1990,
          1991,
          1992,
          1993,
          1994,
          1995,
          1996,
          1997,
          1998,
          1999,
          2000,
          2001,
          2002,
          2003,
          2004,
          2005,
          2006,
          2007,
          2008,
          2009,
          2010,
          2011,
          2012,
          2013,
          2014,
          2015,
          2016
         ],
         "xaxis": "x",
         "y": [
          1.353608870438004,
          null,
          null,
          null,
          null,
          null,
          null,
          null,
          null,
          null,
          null,
          null,
          null,
          null,
          null,
          null,
          null,
          null,
          null,
          null,
          null,
          null,
          null,
          null,
          null,
          null,
          null,
          null,
          null,
          null,
          null
         ],
         "yaxis": "y"
        },
        {
         "connectgaps": false,
         "hovertemplate": "fnid=SL1960A20202<br>indicator=production<br>year=%{x}<br>value=%{y}<extra></extra>",
         "legendgroup": "SL1960A20202",
         "line": {
          "color": "#FFA15A",
          "dash": "solid"
         },
         "marker": {
          "symbol": "circle"
         },
         "mode": "markers+lines",
         "name": "SL1960A20202",
         "showlegend": true,
         "type": "scattergl",
         "x": [
          1986,
          1987,
          1988,
          1989,
          1990,
          1991,
          1992,
          1993,
          1994,
          1995,
          1996,
          1997,
          1998,
          1999,
          2000,
          2001,
          2002,
          2003,
          2004,
          2005,
          2006,
          2007,
          2008,
          2009,
          2010,
          2011,
          2012,
          2013,
          2014,
          2015,
          2016
         ],
         "xaxis": "x3",
         "y": [
          37643,
          null,
          null,
          null,
          null,
          null,
          null,
          null,
          null,
          null,
          null,
          null,
          null,
          null,
          null,
          null,
          null,
          null,
          null,
          null,
          null,
          null,
          null,
          null,
          null,
          null,
          null,
          null,
          null,
          66270,
          73554
         ],
         "yaxis": "y3"
        },
        {
         "connectgaps": false,
         "hovertemplate": "fnid=SL1960A20202<br>indicator=area<br>year=%{x}<br>value=%{y}<extra></extra>",
         "legendgroup": "SL1960A20202",
         "line": {
          "color": "#FFA15A",
          "dash": "solid"
         },
         "marker": {
          "symbol": "circle"
         },
         "mode": "markers+lines",
         "name": "SL1960A20202",
         "showlegend": false,
         "type": "scattergl",
         "x": [
          1986,
          1987,
          1988,
          1989,
          1990,
          1991,
          1992,
          1993,
          1994,
          1995,
          1996,
          1997,
          1998,
          1999,
          2000,
          2001,
          2002,
          2003,
          2004,
          2005,
          2006,
          2007,
          2008,
          2009,
          2010,
          2011,
          2012,
          2013,
          2014,
          2015,
          2016
         ],
         "xaxis": "x2",
         "y": [
          23615,
          null,
          null,
          null,
          null,
          null,
          null,
          null,
          null,
          null,
          null,
          null,
          null,
          null,
          null,
          null,
          22497.43,
          null,
          20546,
          null,
          null,
          null,
          null,
          null,
          null,
          null,
          null,
          null,
          null,
          null,
          null
         ],
         "yaxis": "y2"
        },
        {
         "connectgaps": false,
         "hovertemplate": "fnid=SL1960A20202<br>indicator=yield<br>year=%{x}<br>value=%{y}<extra></extra>",
         "legendgroup": "SL1960A20202",
         "line": {
          "color": "#FFA15A",
          "dash": "solid"
         },
         "marker": {
          "symbol": "circle"
         },
         "mode": "markers+lines",
         "name": "SL1960A20202",
         "showlegend": false,
         "type": "scattergl",
         "x": [
          1986,
          1987,
          1988,
          1989,
          1990,
          1991,
          1992,
          1993,
          1994,
          1995,
          1996,
          1997,
          1998,
          1999,
          2000,
          2001,
          2002,
          2003,
          2004,
          2005,
          2006,
          2007,
          2008,
          2009,
          2010,
          2011,
          2012,
          2013,
          2014,
          2015,
          2016
         ],
         "xaxis": "x",
         "y": [
          1.5940292187169172,
          null,
          null,
          null,
          null,
          null,
          null,
          null,
          null,
          null,
          null,
          null,
          null,
          null,
          null,
          null,
          null,
          null,
          null,
          null,
          null,
          null,
          null,
          null,
          null,
          null,
          null,
          null,
          null,
          null,
          null
         ],
         "yaxis": "y"
        },
        {
         "connectgaps": false,
         "hovertemplate": "fnid=SL1960A20203<br>indicator=production<br>year=%{x}<br>value=%{y}<extra></extra>",
         "legendgroup": "SL1960A20203",
         "line": {
          "color": "#19d3f3",
          "dash": "solid"
         },
         "marker": {
          "symbol": "circle"
         },
         "mode": "markers+lines",
         "name": "SL1960A20203",
         "showlegend": true,
         "type": "scattergl",
         "x": [
          1986,
          1987,
          1988,
          1989,
          1990,
          1991,
          1992,
          1993,
          1994,
          1995,
          1996,
          1997,
          1998,
          1999,
          2000,
          2001,
          2002,
          2003,
          2004,
          2005,
          2006,
          2007,
          2008,
          2009,
          2010,
          2011,
          2012,
          2013,
          2014,
          2015,
          2016
         ],
         "xaxis": "x3",
         "y": [
          60598,
          null,
          null,
          null,
          null,
          null,
          null,
          null,
          null,
          null,
          null,
          null,
          null,
          null,
          null,
          null,
          null,
          null,
          null,
          null,
          null,
          null,
          null,
          null,
          null,
          null,
          null,
          null,
          null,
          55707,
          61830
         ],
         "yaxis": "y3"
        },
        {
         "connectgaps": false,
         "hovertemplate": "fnid=SL1960A20203<br>indicator=area<br>year=%{x}<br>value=%{y}<extra></extra>",
         "legendgroup": "SL1960A20203",
         "line": {
          "color": "#19d3f3",
          "dash": "solid"
         },
         "marker": {
          "symbol": "circle"
         },
         "mode": "markers+lines",
         "name": "SL1960A20203",
         "showlegend": false,
         "type": "scattergl",
         "x": [
          1986,
          1987,
          1988,
          1989,
          1990,
          1991,
          1992,
          1993,
          1994,
          1995,
          1996,
          1997,
          1998,
          1999,
          2000,
          2001,
          2002,
          2003,
          2004,
          2005,
          2006,
          2007,
          2008,
          2009,
          2010,
          2011,
          2012,
          2013,
          2014,
          2015,
          2016
         ],
         "xaxis": "x2",
         "y": [
          27190,
          null,
          null,
          null,
          null,
          null,
          null,
          null,
          null,
          null,
          null,
          null,
          null,
          null,
          null,
          null,
          21282.75,
          null,
          42512,
          null,
          null,
          null,
          null,
          null,
          null,
          null,
          null,
          null,
          null,
          null,
          null
         ],
         "yaxis": "y2"
        },
        {
         "connectgaps": false,
         "hovertemplate": "fnid=SL1960A20203<br>indicator=yield<br>year=%{x}<br>value=%{y}<extra></extra>",
         "legendgroup": "SL1960A20203",
         "line": {
          "color": "#19d3f3",
          "dash": "solid"
         },
         "marker": {
          "symbol": "circle"
         },
         "mode": "markers+lines",
         "name": "SL1960A20203",
         "showlegend": false,
         "type": "scattergl",
         "x": [
          1986,
          1987,
          1988,
          1989,
          1990,
          1991,
          1992,
          1993,
          1994,
          1995,
          1996,
          1997,
          1998,
          1999,
          2000,
          2001,
          2002,
          2003,
          2004,
          2005,
          2006,
          2007,
          2008,
          2009,
          2010,
          2011,
          2012,
          2013,
          2014,
          2015,
          2016
         ],
         "xaxis": "x",
         "y": [
          2.228687017285767,
          null,
          null,
          null,
          null,
          null,
          null,
          null,
          null,
          null,
          null,
          null,
          null,
          null,
          null,
          null,
          null,
          null,
          null,
          null,
          null,
          null,
          null,
          null,
          null,
          null,
          null,
          null,
          null,
          null,
          null
         ],
         "yaxis": "y"
        },
        {
         "connectgaps": false,
         "hovertemplate": "fnid=SL1960A20204<br>indicator=production<br>year=%{x}<br>value=%{y}<extra></extra>",
         "legendgroup": "SL1960A20204",
         "line": {
          "color": "#FF6692",
          "dash": "solid"
         },
         "marker": {
          "symbol": "circle"
         },
         "mode": "markers+lines",
         "name": "SL1960A20204",
         "showlegend": true,
         "type": "scattergl",
         "x": [
          1986,
          1987,
          1988,
          1989,
          1990,
          1991,
          1992,
          1993,
          1994,
          1995,
          1996,
          1997,
          1998,
          1999,
          2000,
          2001,
          2002,
          2003,
          2004,
          2005,
          2006,
          2007,
          2008,
          2009,
          2010,
          2011,
          2012,
          2013,
          2014,
          2015,
          2016
         ],
         "xaxis": "x3",
         "y": [
          23618,
          null,
          null,
          null,
          null,
          null,
          null,
          null,
          null,
          null,
          null,
          null,
          null,
          null,
          null,
          null,
          null,
          null,
          null,
          null,
          null,
          null,
          null,
          null,
          null,
          null,
          null,
          null,
          null,
          83489,
          92665
         ],
         "yaxis": "y3"
        },
        {
         "connectgaps": false,
         "hovertemplate": "fnid=SL1960A20204<br>indicator=area<br>year=%{x}<br>value=%{y}<extra></extra>",
         "legendgroup": "SL1960A20204",
         "line": {
          "color": "#FF6692",
          "dash": "solid"
         },
         "marker": {
          "symbol": "circle"
         },
         "mode": "markers+lines",
         "name": "SL1960A20204",
         "showlegend": false,
         "type": "scattergl",
         "x": [
          1986,
          1987,
          1988,
          1989,
          1990,
          1991,
          1992,
          1993,
          1994,
          1995,
          1996,
          1997,
          1998,
          1999,
          2000,
          2001,
          2002,
          2003,
          2004,
          2005,
          2006,
          2007,
          2008,
          2009,
          2010,
          2011,
          2012,
          2013,
          2014,
          2015,
          2016
         ],
         "xaxis": "x2",
         "y": [
          23771,
          null,
          null,
          null,
          null,
          null,
          null,
          null,
          null,
          null,
          null,
          null,
          null,
          null,
          null,
          null,
          26485.785,
          null,
          17254,
          null,
          null,
          null,
          null,
          null,
          null,
          null,
          null,
          null,
          null,
          null,
          null
         ],
         "yaxis": "y2"
        },
        {
         "connectgaps": false,
         "hovertemplate": "fnid=SL1960A20204<br>indicator=yield<br>year=%{x}<br>value=%{y}<extra></extra>",
         "legendgroup": "SL1960A20204",
         "line": {
          "color": "#FF6692",
          "dash": "solid"
         },
         "marker": {
          "symbol": "circle"
         },
         "mode": "markers+lines",
         "name": "SL1960A20204",
         "showlegend": false,
         "type": "scattergl",
         "x": [
          1986,
          1987,
          1988,
          1989,
          1990,
          1991,
          1992,
          1993,
          1994,
          1995,
          1996,
          1997,
          1998,
          1999,
          2000,
          2001,
          2002,
          2003,
          2004,
          2005,
          2006,
          2007,
          2008,
          2009,
          2010,
          2011,
          2012,
          2013,
          2014,
          2015,
          2016
         ],
         "xaxis": "x",
         "y": [
          0.993563585881957,
          null,
          null,
          null,
          null,
          null,
          null,
          null,
          null,
          null,
          null,
          null,
          null,
          null,
          null,
          null,
          null,
          null,
          null,
          null,
          null,
          null,
          null,
          null,
          null,
          null,
          null,
          null,
          null,
          null,
          null
         ],
         "yaxis": "y"
        },
        {
         "connectgaps": false,
         "hovertemplate": "fnid=SL1960A20205<br>indicator=production<br>year=%{x}<br>value=%{y}<extra></extra>",
         "legendgroup": "SL1960A20205",
         "line": {
          "color": "#B6E880",
          "dash": "solid"
         },
         "marker": {
          "symbol": "circle"
         },
         "mode": "markers+lines",
         "name": "SL1960A20205",
         "showlegend": true,
         "type": "scattergl",
         "x": [
          1986,
          1987,
          1988,
          1989,
          1990,
          1991,
          1992,
          1993,
          1994,
          1995,
          1996,
          1997,
          1998,
          1999,
          2000,
          2001,
          2002,
          2003,
          2004,
          2005,
          2006,
          2007,
          2008,
          2009,
          2010,
          2011,
          2012,
          2013,
          2014,
          2015,
          2016
         ],
         "xaxis": "x3",
         "y": [
          28750,
          null,
          null,
          null,
          null,
          null,
          null,
          null,
          null,
          null,
          null,
          null,
          null,
          null,
          null,
          null,
          null,
          null,
          null,
          null,
          null,
          null,
          null,
          null,
          null,
          null,
          null,
          null,
          null,
          118934,
          132006
         ],
         "yaxis": "y3"
        },
        {
         "connectgaps": false,
         "hovertemplate": "fnid=SL1960A20205<br>indicator=area<br>year=%{x}<br>value=%{y}<extra></extra>",
         "legendgroup": "SL1960A20205",
         "line": {
          "color": "#B6E880",
          "dash": "solid"
         },
         "marker": {
          "symbol": "circle"
         },
         "mode": "markers+lines",
         "name": "SL1960A20205",
         "showlegend": false,
         "type": "scattergl",
         "x": [
          1986,
          1987,
          1988,
          1989,
          1990,
          1991,
          1992,
          1993,
          1994,
          1995,
          1996,
          1997,
          1998,
          1999,
          2000,
          2001,
          2002,
          2003,
          2004,
          2005,
          2006,
          2007,
          2008,
          2009,
          2010,
          2011,
          2012,
          2013,
          2014,
          2015,
          2016
         ],
         "xaxis": "x2",
         "y": [
          27131,
          null,
          null,
          null,
          null,
          null,
          null,
          null,
          null,
          null,
          null,
          null,
          null,
          null,
          null,
          null,
          34442.01,
          null,
          22052,
          null,
          null,
          null,
          null,
          null,
          null,
          null,
          null,
          null,
          null,
          null,
          null
         ],
         "yaxis": "y2"
        },
        {
         "connectgaps": false,
         "hovertemplate": "fnid=SL1960A20205<br>indicator=yield<br>year=%{x}<br>value=%{y}<extra></extra>",
         "legendgroup": "SL1960A20205",
         "line": {
          "color": "#B6E880",
          "dash": "solid"
         },
         "marker": {
          "symbol": "circle"
         },
         "mode": "markers+lines",
         "name": "SL1960A20205",
         "showlegend": false,
         "type": "scattergl",
         "x": [
          1986,
          1987,
          1988,
          1989,
          1990,
          1991,
          1992,
          1993,
          1994,
          1995,
          1996,
          1997,
          1998,
          1999,
          2000,
          2001,
          2002,
          2003,
          2004,
          2005,
          2006,
          2007,
          2008,
          2009,
          2010,
          2011,
          2012,
          2013,
          2014,
          2015,
          2016
         ],
         "xaxis": "x",
         "y": [
          1.0596734362905902,
          null,
          null,
          null,
          null,
          null,
          null,
          null,
          null,
          null,
          null,
          null,
          null,
          null,
          null,
          null,
          null,
          null,
          null,
          null,
          null,
          null,
          null,
          null,
          null,
          null,
          null,
          null,
          null,
          null,
          null
         ],
         "yaxis": "y"
        },
        {
         "connectgaps": false,
         "hovertemplate": "fnid=SL1960A20301<br>indicator=production<br>year=%{x}<br>value=%{y}<extra></extra>",
         "legendgroup": "SL1960A20301",
         "line": {
          "color": "#FF97FF",
          "dash": "solid"
         },
         "marker": {
          "symbol": "circle"
         },
         "mode": "markers+lines",
         "name": "SL1960A20301",
         "showlegend": true,
         "type": "scattergl",
         "x": [
          1986,
          1987,
          1988,
          1989,
          1990,
          1991,
          1992,
          1993,
          1994,
          1995,
          1996,
          1997,
          1998,
          1999,
          2000,
          2001,
          2002,
          2003,
          2004,
          2005,
          2006,
          2007,
          2008,
          2009,
          2010,
          2011,
          2012,
          2013,
          2014,
          2015,
          2016
         ],
         "xaxis": "x3",
         "y": [
          55903,
          null,
          null,
          null,
          null,
          null,
          null,
          null,
          null,
          null,
          null,
          null,
          null,
          null,
          null,
          null,
          null,
          null,
          null,
          null,
          null,
          null,
          null,
          null,
          null,
          null,
          null,
          null,
          null,
          129669,
          143921
         ],
         "yaxis": "y3"
        },
        {
         "connectgaps": false,
         "hovertemplate": "fnid=SL1960A20301<br>indicator=area<br>year=%{x}<br>value=%{y}<extra></extra>",
         "legendgroup": "SL1960A20301",
         "line": {
          "color": "#FF97FF",
          "dash": "solid"
         },
         "marker": {
          "symbol": "circle"
         },
         "mode": "markers+lines",
         "name": "SL1960A20301",
         "showlegend": false,
         "type": "scattergl",
         "x": [
          1986,
          1987,
          1988,
          1989,
          1990,
          1991,
          1992,
          1993,
          1994,
          1995,
          1996,
          1997,
          1998,
          1999,
          2000,
          2001,
          2002,
          2003,
          2004,
          2005,
          2006,
          2007,
          2008,
          2009,
          2010,
          2011,
          2012,
          2013,
          2014,
          2015,
          2016
         ],
         "xaxis": "x2",
         "y": [
          36541,
          null,
          null,
          null,
          null,
          null,
          null,
          null,
          null,
          null,
          null,
          null,
          null,
          null,
          null,
          null,
          30777.57,
          null,
          35671,
          null,
          null,
          null,
          null,
          null,
          null,
          null,
          null,
          null,
          null,
          null,
          null
         ],
         "yaxis": "y2"
        },
        {
         "connectgaps": false,
         "hovertemplate": "fnid=SL1960A20301<br>indicator=yield<br>year=%{x}<br>value=%{y}<extra></extra>",
         "legendgroup": "SL1960A20301",
         "line": {
          "color": "#FF97FF",
          "dash": "solid"
         },
         "marker": {
          "symbol": "circle"
         },
         "mode": "markers+lines",
         "name": "SL1960A20301",
         "showlegend": false,
         "type": "scattergl",
         "x": [
          1986,
          1987,
          1988,
          1989,
          1990,
          1991,
          1992,
          1993,
          1994,
          1995,
          1996,
          1997,
          1998,
          1999,
          2000,
          2001,
          2002,
          2003,
          2004,
          2005,
          2006,
          2007,
          2008,
          2009,
          2010,
          2011,
          2012,
          2013,
          2014,
          2015,
          2016
         ],
         "xaxis": "x",
         "y": [
          1.5298705563613475,
          null,
          null,
          null,
          null,
          null,
          null,
          null,
          null,
          null,
          null,
          null,
          null,
          null,
          null,
          null,
          null,
          null,
          null,
          null,
          null,
          null,
          null,
          null,
          null,
          null,
          null,
          null,
          null,
          null,
          null
         ],
         "yaxis": "y"
        },
        {
         "connectgaps": false,
         "hovertemplate": "fnid=SL1960A20302<br>indicator=production<br>year=%{x}<br>value=%{y}<extra></extra>",
         "legendgroup": "SL1960A20302",
         "line": {
          "color": "#FECB52",
          "dash": "solid"
         },
         "marker": {
          "symbol": "circle"
         },
         "mode": "markers+lines",
         "name": "SL1960A20302",
         "showlegend": true,
         "type": "scattergl",
         "x": [
          1986,
          1987,
          1988,
          1989,
          1990,
          1991,
          1992,
          1993,
          1994,
          1995,
          1996,
          1997,
          1998,
          1999,
          2000,
          2001,
          2002,
          2003,
          2004,
          2005,
          2006,
          2007,
          2008,
          2009,
          2010,
          2011,
          2012,
          2013,
          2014,
          2015,
          2016
         ],
         "xaxis": "x3",
         "y": [
          14745,
          null,
          null,
          null,
          null,
          null,
          null,
          null,
          null,
          null,
          null,
          null,
          null,
          null,
          null,
          null,
          null,
          null,
          null,
          null,
          null,
          null,
          null,
          null,
          null,
          null,
          null,
          null,
          null,
          31686,
          35169
         ],
         "yaxis": "y3"
        },
        {
         "connectgaps": false,
         "hovertemplate": "fnid=SL1960A20302<br>indicator=area<br>year=%{x}<br>value=%{y}<extra></extra>",
         "legendgroup": "SL1960A20302",
         "line": {
          "color": "#FECB52",
          "dash": "solid"
         },
         "marker": {
          "symbol": "circle"
         },
         "mode": "markers+lines",
         "name": "SL1960A20302",
         "showlegend": false,
         "type": "scattergl",
         "x": [
          1986,
          1987,
          1988,
          1989,
          1990,
          1991,
          1992,
          1993,
          1994,
          1995,
          1996,
          1997,
          1998,
          1999,
          2000,
          2001,
          2002,
          2003,
          2004,
          2005,
          2006,
          2007,
          2008,
          2009,
          2010,
          2011,
          2012,
          2013,
          2014,
          2015,
          2016
         ],
         "xaxis": "x2",
         "y": [
          12793,
          null,
          null,
          null,
          null,
          null,
          null,
          null,
          null,
          null,
          null,
          null,
          null,
          null,
          null,
          null,
          8203.275,
          null,
          26023,
          null,
          null,
          null,
          null,
          null,
          null,
          null,
          null,
          null,
          null,
          null,
          null
         ],
         "yaxis": "y2"
        },
        {
         "connectgaps": false,
         "hovertemplate": "fnid=SL1960A20302<br>indicator=yield<br>year=%{x}<br>value=%{y}<extra></extra>",
         "legendgroup": "SL1960A20302",
         "line": {
          "color": "#FECB52",
          "dash": "solid"
         },
         "marker": {
          "symbol": "circle"
         },
         "mode": "markers+lines",
         "name": "SL1960A20302",
         "showlegend": false,
         "type": "scattergl",
         "x": [
          1986,
          1987,
          1988,
          1989,
          1990,
          1991,
          1992,
          1993,
          1994,
          1995,
          1996,
          1997,
          1998,
          1999,
          2000,
          2001,
          2002,
          2003,
          2004,
          2005,
          2006,
          2007,
          2008,
          2009,
          2010,
          2011,
          2012,
          2013,
          2014,
          2015,
          2016
         ],
         "xaxis": "x",
         "y": [
          1.1525834440709763,
          null,
          null,
          null,
          null,
          null,
          null,
          null,
          null,
          null,
          null,
          null,
          null,
          null,
          null,
          null,
          null,
          null,
          null,
          null,
          null,
          null,
          null,
          null,
          null,
          null,
          null,
          null,
          null,
          null,
          null
         ],
         "yaxis": "y"
        },
        {
         "connectgaps": false,
         "hovertemplate": "fnid=SL1960A20303<br>indicator=production<br>year=%{x}<br>value=%{y}<extra></extra>",
         "legendgroup": "SL1960A20303",
         "line": {
          "color": "#636efa",
          "dash": "solid"
         },
         "marker": {
          "symbol": "circle"
         },
         "mode": "markers+lines",
         "name": "SL1960A20303",
         "showlegend": true,
         "type": "scattergl",
         "x": [
          1986,
          1987,
          1988,
          1989,
          1990,
          1991,
          1992,
          1993,
          1994,
          1995,
          1996,
          1997,
          1998,
          1999,
          2000,
          2001,
          2002,
          2003,
          2004,
          2005,
          2006,
          2007,
          2008,
          2009,
          2010,
          2011,
          2012,
          2013,
          2014,
          2015,
          2016
         ],
         "xaxis": "x3",
         "y": [
          66839,
          null,
          null,
          null,
          null,
          null,
          null,
          null,
          null,
          null,
          null,
          null,
          null,
          null,
          null,
          null,
          null,
          null,
          null,
          null,
          null,
          null,
          null,
          null,
          null,
          null,
          null,
          null,
          null,
          78731,
          87385
         ],
         "yaxis": "y3"
        },
        {
         "connectgaps": false,
         "hovertemplate": "fnid=SL1960A20303<br>indicator=area<br>year=%{x}<br>value=%{y}<extra></extra>",
         "legendgroup": "SL1960A20303",
         "line": {
          "color": "#636efa",
          "dash": "solid"
         },
         "marker": {
          "symbol": "circle"
         },
         "mode": "markers+lines",
         "name": "SL1960A20303",
         "showlegend": false,
         "type": "scattergl",
         "x": [
          1986,
          1987,
          1988,
          1989,
          1990,
          1991,
          1992,
          1993,
          1994,
          1995,
          1996,
          1997,
          1998,
          1999,
          2000,
          2001,
          2002,
          2003,
          2004,
          2005,
          2006,
          2007,
          2008,
          2009,
          2010,
          2011,
          2012,
          2013,
          2014,
          2015,
          2016
         ],
         "xaxis": "x2",
         "y": [
          36906,
          null,
          null,
          null,
          null,
          null,
          null,
          null,
          null,
          null,
          null,
          null,
          null,
          null,
          null,
          null,
          20296.98,
          null,
          15844,
          null,
          null,
          null,
          null,
          null,
          null,
          null,
          null,
          null,
          null,
          null,
          null
         ],
         "yaxis": "y2"
        },
        {
         "connectgaps": false,
         "hovertemplate": "fnid=SL1960A20303<br>indicator=yield<br>year=%{x}<br>value=%{y}<extra></extra>",
         "legendgroup": "SL1960A20303",
         "line": {
          "color": "#636efa",
          "dash": "solid"
         },
         "marker": {
          "symbol": "circle"
         },
         "mode": "markers+lines",
         "name": "SL1960A20303",
         "showlegend": false,
         "type": "scattergl",
         "x": [
          1986,
          1987,
          1988,
          1989,
          1990,
          1991,
          1992,
          1993,
          1994,
          1995,
          1996,
          1997,
          1998,
          1999,
          2000,
          2001,
          2002,
          2003,
          2004,
          2005,
          2006,
          2007,
          2008,
          2009,
          2010,
          2011,
          2012,
          2013,
          2014,
          2015,
          2016
         ],
         "xaxis": "x",
         "y": [
          1.811060532162792,
          null,
          null,
          null,
          null,
          null,
          null,
          null,
          null,
          null,
          null,
          null,
          null,
          null,
          null,
          null,
          null,
          null,
          null,
          null,
          null,
          null,
          null,
          null,
          null,
          null,
          null,
          null,
          null,
          null,
          null
         ],
         "yaxis": "y"
        },
        {
         "connectgaps": false,
         "hovertemplate": "fnid=SL1960A20304<br>indicator=production<br>year=%{x}<br>value=%{y}<extra></extra>",
         "legendgroup": "SL1960A20304",
         "line": {
          "color": "#EF553B",
          "dash": "solid"
         },
         "marker": {
          "symbol": "circle"
         },
         "mode": "markers+lines",
         "name": "SL1960A20304",
         "showlegend": true,
         "type": "scattergl",
         "x": [
          1986,
          1987,
          1988,
          1989,
          1990,
          1991,
          1992,
          1993,
          1994,
          1995,
          1996,
          1997,
          1998,
          1999,
          2000,
          2001,
          2002,
          2003,
          2004,
          2005,
          2006,
          2007,
          2008,
          2009,
          2010,
          2011,
          2012,
          2013,
          2014,
          2015,
          2016
         ],
         "xaxis": "x3",
         "y": [
          22396,
          null,
          null,
          null,
          null,
          null,
          null,
          null,
          null,
          null,
          null,
          null,
          null,
          null,
          null,
          null,
          null,
          null,
          null,
          null,
          null,
          null,
          null,
          null,
          null,
          null,
          null,
          null,
          null,
          30665,
          34036
         ],
         "yaxis": "y3"
        },
        {
         "connectgaps": false,
         "hovertemplate": "fnid=SL1960A20304<br>indicator=area<br>year=%{x}<br>value=%{y}<extra></extra>",
         "legendgroup": "SL1960A20304",
         "line": {
          "color": "#EF553B",
          "dash": "solid"
         },
         "marker": {
          "symbol": "circle"
         },
         "mode": "markers+lines",
         "name": "SL1960A20304",
         "showlegend": false,
         "type": "scattergl",
         "x": [
          1986,
          1987,
          1988,
          1989,
          1990,
          1991,
          1992,
          1993,
          1994,
          1995,
          1996,
          1997,
          1998,
          1999,
          2000,
          2001,
          2002,
          2003,
          2004,
          2005,
          2006,
          2007,
          2008,
          2009,
          2010,
          2011,
          2012,
          2013,
          2014,
          2015,
          2016
         ],
         "xaxis": "x2",
         "y": [
          15942,
          null,
          null,
          null,
          null,
          null,
          null,
          null,
          null,
          null,
          null,
          null,
          null,
          null,
          null,
          null,
          33081.21,
          null,
          11404,
          null,
          null,
          null,
          null,
          null,
          null,
          null,
          null,
          null,
          null,
          null,
          null
         ],
         "yaxis": "y2"
        },
        {
         "connectgaps": false,
         "hovertemplate": "fnid=SL1960A20304<br>indicator=yield<br>year=%{x}<br>value=%{y}<extra></extra>",
         "legendgroup": "SL1960A20304",
         "line": {
          "color": "#EF553B",
          "dash": "solid"
         },
         "marker": {
          "symbol": "circle"
         },
         "mode": "markers+lines",
         "name": "SL1960A20304",
         "showlegend": false,
         "type": "scattergl",
         "x": [
          1986,
          1987,
          1988,
          1989,
          1990,
          1991,
          1992,
          1993,
          1994,
          1995,
          1996,
          1997,
          1998,
          1999,
          2000,
          2001,
          2002,
          2003,
          2004,
          2005,
          2006,
          2007,
          2008,
          2009,
          2010,
          2011,
          2012,
          2013,
          2014,
          2015,
          2016
         ],
         "xaxis": "x",
         "y": [
          1.4048425542591896,
          null,
          null,
          null,
          null,
          null,
          null,
          null,
          null,
          null,
          null,
          null,
          null,
          null,
          null,
          null,
          null,
          null,
          null,
          null,
          null,
          null,
          null,
          null,
          null,
          null,
          null,
          null,
          null,
          null,
          null
         ],
         "yaxis": "y"
        },
        {
         "connectgaps": false,
         "hovertemplate": "fnid=SL1960A20401<br>indicator=production<br>year=%{x}<br>value=%{y}<extra></extra>",
         "legendgroup": "SL1960A20401",
         "line": {
          "color": "#00cc96",
          "dash": "solid"
         },
         "marker": {
          "symbol": "circle"
         },
         "mode": "markers+lines",
         "name": "SL1960A20401",
         "showlegend": true,
         "type": "scattergl",
         "x": [
          1986,
          1987,
          1988,
          1989,
          1990,
          1991,
          1992,
          1993,
          1994,
          1995,
          1996,
          1997,
          1998,
          1999,
          2000,
          2001,
          2002,
          2003,
          2004,
          2005,
          2006,
          2007,
          2008,
          2009,
          2010,
          2011,
          2012,
          2013,
          2014,
          2015,
          2016
         ],
         "xaxis": "x3",
         "y": [
          null,
          null,
          null,
          null,
          null,
          null,
          null,
          null,
          null,
          null,
          null,
          null,
          null,
          null,
          null,
          null,
          null,
          null,
          null,
          null,
          null,
          null,
          null,
          null,
          null,
          null,
          null,
          null,
          null,
          12812,
          9421
         ],
         "yaxis": "y3"
        },
        {
         "connectgaps": false,
         "hovertemplate": "fnid=SL1960A20401<br>indicator=area<br>year=%{x}<br>value=%{y}<extra></extra>",
         "legendgroup": "SL1960A20401",
         "line": {
          "color": "#00cc96",
          "dash": "solid"
         },
         "marker": {
          "symbol": "circle"
         },
         "mode": "markers+lines",
         "name": "SL1960A20401",
         "showlegend": false,
         "type": "scattergl",
         "x": [
          1986,
          1987,
          1988,
          1989,
          1990,
          1991,
          1992,
          1993,
          1994,
          1995,
          1996,
          1997,
          1998,
          1999,
          2000,
          2001,
          2002,
          2003,
          2004,
          2005,
          2006,
          2007,
          2008,
          2009,
          2010,
          2011,
          2012,
          2013,
          2014,
          2015,
          2016
         ],
         "xaxis": "x2",
         "y": [
          null,
          null,
          null,
          null,
          null,
          null,
          null,
          null,
          null,
          null,
          null,
          null,
          null,
          null,
          null,
          null,
          6390.09,
          null,
          8514,
          null,
          null,
          null,
          null,
          null,
          null,
          null,
          null,
          null,
          null,
          null,
          null
         ],
         "yaxis": "y2"
        }
       ],
       "layout": {
        "annotations": [
         {
          "showarrow": false,
          "text": "",
          "textangle": 90,
          "x": 0.98,
          "xanchor": "left",
          "xref": "paper",
          "y": 0.16333333333333333,
          "yanchor": "middle",
          "yref": "paper"
         },
         {
          "showarrow": false,
          "text": "",
          "textangle": 90,
          "x": 0.98,
          "xanchor": "left",
          "xref": "paper",
          "y": 0.5,
          "yanchor": "middle",
          "yref": "paper"
         },
         {
          "showarrow": false,
          "text": "",
          "textangle": 90,
          "x": 0.98,
          "xanchor": "left",
          "xref": "paper",
          "y": 0.8366666666666667,
          "yanchor": "middle",
          "yref": "paper"
         },
         {
          "align": "left",
          "font": {
           "color": "dimgrey",
           "family": "arial",
           "size": 15
          },
          "showarrow": false,
          "text": "Production-Area-Yield time-series of SL - Rice - Main",
          "x": -0.014,
          "xref": "paper",
          "y": -0.14,
          "yref": "paper"
         }
        ],
        "font": {
         "color": "black",
         "family": "arial",
         "size": 16
        },
        "height": 600,
        "legend": {
         "font": {
          "size": 14
         },
         "title": {
          "text": "FNID"
         },
         "tracegroupgap": 0,
         "x": 1,
         "xanchor": "left",
         "y": 1,
         "yanchor": "top"
        },
        "margin": {
         "b": 25,
         "l": 0,
         "r": 0,
         "t": 0
        },
        "template": {
         "data": {
          "bar": [
           {
            "error_x": {
             "color": "#2a3f5f"
            },
            "error_y": {
             "color": "#2a3f5f"
            },
            "marker": {
             "line": {
              "color": "#E5ECF6",
              "width": 0.5
             },
             "pattern": {
              "fillmode": "overlay",
              "size": 10,
              "solidity": 0.2
             }
            },
            "type": "bar"
           }
          ],
          "barpolar": [
           {
            "marker": {
             "line": {
              "color": "#E5ECF6",
              "width": 0.5
             },
             "pattern": {
              "fillmode": "overlay",
              "size": 10,
              "solidity": 0.2
             }
            },
            "type": "barpolar"
           }
          ],
          "carpet": [
           {
            "aaxis": {
             "endlinecolor": "#2a3f5f",
             "gridcolor": "white",
             "linecolor": "white",
             "minorgridcolor": "white",
             "startlinecolor": "#2a3f5f"
            },
            "baxis": {
             "endlinecolor": "#2a3f5f",
             "gridcolor": "white",
             "linecolor": "white",
             "minorgridcolor": "white",
             "startlinecolor": "#2a3f5f"
            },
            "type": "carpet"
           }
          ],
          "choropleth": [
           {
            "colorbar": {
             "outlinewidth": 0,
             "ticks": ""
            },
            "type": "choropleth"
           }
          ],
          "contour": [
           {
            "colorbar": {
             "outlinewidth": 0,
             "ticks": ""
            },
            "colorscale": [
             [
              0,
              "#0d0887"
             ],
             [
              0.1111111111111111,
              "#46039f"
             ],
             [
              0.2222222222222222,
              "#7201a8"
             ],
             [
              0.3333333333333333,
              "#9c179e"
             ],
             [
              0.4444444444444444,
              "#bd3786"
             ],
             [
              0.5555555555555556,
              "#d8576b"
             ],
             [
              0.6666666666666666,
              "#ed7953"
             ],
             [
              0.7777777777777778,
              "#fb9f3a"
             ],
             [
              0.8888888888888888,
              "#fdca26"
             ],
             [
              1,
              "#f0f921"
             ]
            ],
            "type": "contour"
           }
          ],
          "contourcarpet": [
           {
            "colorbar": {
             "outlinewidth": 0,
             "ticks": ""
            },
            "type": "contourcarpet"
           }
          ],
          "heatmap": [
           {
            "colorbar": {
             "outlinewidth": 0,
             "ticks": ""
            },
            "colorscale": [
             [
              0,
              "#0d0887"
             ],
             [
              0.1111111111111111,
              "#46039f"
             ],
             [
              0.2222222222222222,
              "#7201a8"
             ],
             [
              0.3333333333333333,
              "#9c179e"
             ],
             [
              0.4444444444444444,
              "#bd3786"
             ],
             [
              0.5555555555555556,
              "#d8576b"
             ],
             [
              0.6666666666666666,
              "#ed7953"
             ],
             [
              0.7777777777777778,
              "#fb9f3a"
             ],
             [
              0.8888888888888888,
              "#fdca26"
             ],
             [
              1,
              "#f0f921"
             ]
            ],
            "type": "heatmap"
           }
          ],
          "heatmapgl": [
           {
            "colorbar": {
             "outlinewidth": 0,
             "ticks": ""
            },
            "colorscale": [
             [
              0,
              "#0d0887"
             ],
             [
              0.1111111111111111,
              "#46039f"
             ],
             [
              0.2222222222222222,
              "#7201a8"
             ],
             [
              0.3333333333333333,
              "#9c179e"
             ],
             [
              0.4444444444444444,
              "#bd3786"
             ],
             [
              0.5555555555555556,
              "#d8576b"
             ],
             [
              0.6666666666666666,
              "#ed7953"
             ],
             [
              0.7777777777777778,
              "#fb9f3a"
             ],
             [
              0.8888888888888888,
              "#fdca26"
             ],
             [
              1,
              "#f0f921"
             ]
            ],
            "type": "heatmapgl"
           }
          ],
          "histogram": [
           {
            "marker": {
             "pattern": {
              "fillmode": "overlay",
              "size": 10,
              "solidity": 0.2
             }
            },
            "type": "histogram"
           }
          ],
          "histogram2d": [
           {
            "colorbar": {
             "outlinewidth": 0,
             "ticks": ""
            },
            "colorscale": [
             [
              0,
              "#0d0887"
             ],
             [
              0.1111111111111111,
              "#46039f"
             ],
             [
              0.2222222222222222,
              "#7201a8"
             ],
             [
              0.3333333333333333,
              "#9c179e"
             ],
             [
              0.4444444444444444,
              "#bd3786"
             ],
             [
              0.5555555555555556,
              "#d8576b"
             ],
             [
              0.6666666666666666,
              "#ed7953"
             ],
             [
              0.7777777777777778,
              "#fb9f3a"
             ],
             [
              0.8888888888888888,
              "#fdca26"
             ],
             [
              1,
              "#f0f921"
             ]
            ],
            "type": "histogram2d"
           }
          ],
          "histogram2dcontour": [
           {
            "colorbar": {
             "outlinewidth": 0,
             "ticks": ""
            },
            "colorscale": [
             [
              0,
              "#0d0887"
             ],
             [
              0.1111111111111111,
              "#46039f"
             ],
             [
              0.2222222222222222,
              "#7201a8"
             ],
             [
              0.3333333333333333,
              "#9c179e"
             ],
             [
              0.4444444444444444,
              "#bd3786"
             ],
             [
              0.5555555555555556,
              "#d8576b"
             ],
             [
              0.6666666666666666,
              "#ed7953"
             ],
             [
              0.7777777777777778,
              "#fb9f3a"
             ],
             [
              0.8888888888888888,
              "#fdca26"
             ],
             [
              1,
              "#f0f921"
             ]
            ],
            "type": "histogram2dcontour"
           }
          ],
          "mesh3d": [
           {
            "colorbar": {
             "outlinewidth": 0,
             "ticks": ""
            },
            "type": "mesh3d"
           }
          ],
          "parcoords": [
           {
            "line": {
             "colorbar": {
              "outlinewidth": 0,
              "ticks": ""
             }
            },
            "type": "parcoords"
           }
          ],
          "pie": [
           {
            "automargin": true,
            "type": "pie"
           }
          ],
          "scatter": [
           {
            "fillpattern": {
             "fillmode": "overlay",
             "size": 10,
             "solidity": 0.2
            },
            "type": "scatter"
           }
          ],
          "scatter3d": [
           {
            "line": {
             "colorbar": {
              "outlinewidth": 0,
              "ticks": ""
             }
            },
            "marker": {
             "colorbar": {
              "outlinewidth": 0,
              "ticks": ""
             }
            },
            "type": "scatter3d"
           }
          ],
          "scattercarpet": [
           {
            "marker": {
             "colorbar": {
              "outlinewidth": 0,
              "ticks": ""
             }
            },
            "type": "scattercarpet"
           }
          ],
          "scattergeo": [
           {
            "marker": {
             "colorbar": {
              "outlinewidth": 0,
              "ticks": ""
             }
            },
            "type": "scattergeo"
           }
          ],
          "scattergl": [
           {
            "marker": {
             "colorbar": {
              "outlinewidth": 0,
              "ticks": ""
             }
            },
            "type": "scattergl"
           }
          ],
          "scattermapbox": [
           {
            "marker": {
             "colorbar": {
              "outlinewidth": 0,
              "ticks": ""
             }
            },
            "type": "scattermapbox"
           }
          ],
          "scatterpolar": [
           {
            "marker": {
             "colorbar": {
              "outlinewidth": 0,
              "ticks": ""
             }
            },
            "type": "scatterpolar"
           }
          ],
          "scatterpolargl": [
           {
            "marker": {
             "colorbar": {
              "outlinewidth": 0,
              "ticks": ""
             }
            },
            "type": "scatterpolargl"
           }
          ],
          "scatterternary": [
           {
            "marker": {
             "colorbar": {
              "outlinewidth": 0,
              "ticks": ""
             }
            },
            "type": "scatterternary"
           }
          ],
          "surface": [
           {
            "colorbar": {
             "outlinewidth": 0,
             "ticks": ""
            },
            "colorscale": [
             [
              0,
              "#0d0887"
             ],
             [
              0.1111111111111111,
              "#46039f"
             ],
             [
              0.2222222222222222,
              "#7201a8"
             ],
             [
              0.3333333333333333,
              "#9c179e"
             ],
             [
              0.4444444444444444,
              "#bd3786"
             ],
             [
              0.5555555555555556,
              "#d8576b"
             ],
             [
              0.6666666666666666,
              "#ed7953"
             ],
             [
              0.7777777777777778,
              "#fb9f3a"
             ],
             [
              0.8888888888888888,
              "#fdca26"
             ],
             [
              1,
              "#f0f921"
             ]
            ],
            "type": "surface"
           }
          ],
          "table": [
           {
            "cells": {
             "fill": {
              "color": "#EBF0F8"
             },
             "line": {
              "color": "white"
             }
            },
            "header": {
             "fill": {
              "color": "#C8D4E3"
             },
             "line": {
              "color": "white"
             }
            },
            "type": "table"
           }
          ]
         },
         "layout": {
          "annotationdefaults": {
           "arrowcolor": "#2a3f5f",
           "arrowhead": 0,
           "arrowwidth": 1
          },
          "autotypenumbers": "strict",
          "coloraxis": {
           "colorbar": {
            "outlinewidth": 0,
            "ticks": ""
           }
          },
          "colorscale": {
           "diverging": [
            [
             0,
             "#8e0152"
            ],
            [
             0.1,
             "#c51b7d"
            ],
            [
             0.2,
             "#de77ae"
            ],
            [
             0.3,
             "#f1b6da"
            ],
            [
             0.4,
             "#fde0ef"
            ],
            [
             0.5,
             "#f7f7f7"
            ],
            [
             0.6,
             "#e6f5d0"
            ],
            [
             0.7,
             "#b8e186"
            ],
            [
             0.8,
             "#7fbc41"
            ],
            [
             0.9,
             "#4d9221"
            ],
            [
             1,
             "#276419"
            ]
           ],
           "sequential": [
            [
             0,
             "#0d0887"
            ],
            [
             0.1111111111111111,
             "#46039f"
            ],
            [
             0.2222222222222222,
             "#7201a8"
            ],
            [
             0.3333333333333333,
             "#9c179e"
            ],
            [
             0.4444444444444444,
             "#bd3786"
            ],
            [
             0.5555555555555556,
             "#d8576b"
            ],
            [
             0.6666666666666666,
             "#ed7953"
            ],
            [
             0.7777777777777778,
             "#fb9f3a"
            ],
            [
             0.8888888888888888,
             "#fdca26"
            ],
            [
             1,
             "#f0f921"
            ]
           ],
           "sequentialminus": [
            [
             0,
             "#0d0887"
            ],
            [
             0.1111111111111111,
             "#46039f"
            ],
            [
             0.2222222222222222,
             "#7201a8"
            ],
            [
             0.3333333333333333,
             "#9c179e"
            ],
            [
             0.4444444444444444,
             "#bd3786"
            ],
            [
             0.5555555555555556,
             "#d8576b"
            ],
            [
             0.6666666666666666,
             "#ed7953"
            ],
            [
             0.7777777777777778,
             "#fb9f3a"
            ],
            [
             0.8888888888888888,
             "#fdca26"
            ],
            [
             1,
             "#f0f921"
            ]
           ]
          },
          "colorway": [
           "#636efa",
           "#EF553B",
           "#00cc96",
           "#ab63fa",
           "#FFA15A",
           "#19d3f3",
           "#FF6692",
           "#B6E880",
           "#FF97FF",
           "#FECB52"
          ],
          "font": {
           "color": "#2a3f5f"
          },
          "geo": {
           "bgcolor": "white",
           "lakecolor": "white",
           "landcolor": "#E5ECF6",
           "showlakes": true,
           "showland": true,
           "subunitcolor": "white"
          },
          "hoverlabel": {
           "align": "left"
          },
          "hovermode": "closest",
          "mapbox": {
           "style": "light"
          },
          "paper_bgcolor": "white",
          "plot_bgcolor": "#E5ECF6",
          "polar": {
           "angularaxis": {
            "gridcolor": "white",
            "linecolor": "white",
            "ticks": ""
           },
           "bgcolor": "#E5ECF6",
           "radialaxis": {
            "gridcolor": "white",
            "linecolor": "white",
            "ticks": ""
           }
          },
          "scene": {
           "xaxis": {
            "backgroundcolor": "#E5ECF6",
            "gridcolor": "white",
            "gridwidth": 2,
            "linecolor": "white",
            "showbackground": true,
            "ticks": "",
            "zerolinecolor": "white"
           },
           "yaxis": {
            "backgroundcolor": "#E5ECF6",
            "gridcolor": "white",
            "gridwidth": 2,
            "linecolor": "white",
            "showbackground": true,
            "ticks": "",
            "zerolinecolor": "white"
           },
           "zaxis": {
            "backgroundcolor": "#E5ECF6",
            "gridcolor": "white",
            "gridwidth": 2,
            "linecolor": "white",
            "showbackground": true,
            "ticks": "",
            "zerolinecolor": "white"
           }
          },
          "shapedefaults": {
           "line": {
            "color": "#2a3f5f"
           }
          },
          "ternary": {
           "aaxis": {
            "gridcolor": "white",
            "linecolor": "white",
            "ticks": ""
           },
           "baxis": {
            "gridcolor": "white",
            "linecolor": "white",
            "ticks": ""
           },
           "bgcolor": "#E5ECF6",
           "caxis": {
            "gridcolor": "white",
            "linecolor": "white",
            "ticks": ""
           }
          },
          "title": {
           "x": 0.05
          },
          "xaxis": {
           "automargin": true,
           "gridcolor": "white",
           "linecolor": "white",
           "ticks": "",
           "title": {
            "standoff": 15
           },
           "zerolinecolor": "white",
           "zerolinewidth": 2
          },
          "yaxis": {
           "automargin": true,
           "gridcolor": "white",
           "linecolor": "white",
           "ticks": "",
           "title": {
            "standoff": 15
           },
           "zerolinecolor": "white",
           "zerolinewidth": 2
          }
         }
        },
        "width": 900,
        "xaxis": {
         "anchor": "y",
         "domain": [
          0,
          0.98
         ],
         "dtick": 1,
         "range": [
          1986,
          2016
         ],
         "title": {
          "text": ""
         }
        },
        "xaxis2": {
         "anchor": "y2",
         "domain": [
          0,
          0.98
         ],
         "dtick": 1,
         "matches": "x",
         "showticklabels": false
        },
        "xaxis3": {
         "anchor": "y3",
         "domain": [
          0,
          0.98
         ],
         "dtick": 1,
         "matches": "x",
         "showticklabels": false
        },
        "yaxis": {
         "anchor": "x",
         "domain": [
          0,
          0.32666666666666666
         ],
         "title": {
          "text": "Yield (mt/ha)"
         }
        },
        "yaxis2": {
         "anchor": "x2",
         "domain": [
          0.33666666666666667,
          0.6633333333333333
         ],
         "title": {
          "text": "Area (ha)"
         }
        },
        "yaxis3": {
         "anchor": "x3",
         "domain": [
          0.6733333333333333,
          1
         ],
         "title": {
          "text": "Production (mt)"
         }
        }
       }
      },
      "text/html": [
       "<div>                            <div id=\"42f47bef-4d35-4dda-8155-58935cb91916\" class=\"plotly-graph-div\" style=\"height:600px; width:900px;\"></div>            <script type=\"text/javascript\">                require([\"plotly\"], function(Plotly) {                    window.PLOTLYENV=window.PLOTLYENV || {};                                    if (document.getElementById(\"42f47bef-4d35-4dda-8155-58935cb91916\")) {                    Plotly.newPlot(                        \"42f47bef-4d35-4dda-8155-58935cb91916\",                        [{\"hovertemplate\":\"fnid=SL1960A20101<br>indicator=production<br>year=%{x}<br>value=%{y}<extra></extra>\",\"legendgroup\":\"SL1960A20101\",\"line\":{\"color\":\"#636efa\",\"dash\":\"solid\"},\"marker\":{\"symbol\":\"circle\"},\"mode\":\"markers+lines\",\"name\":\"SL1960A20101\",\"showlegend\":true,\"x\":[1986,1987,1988,1989,1990,1991,1992,1993,1994,1995,1996,1997,1998,1999,2000,2001,2002,2003,2004,2005,2006,2007,2008,2009,2010,2011,2012,2013,2014,2015,2016],\"xaxis\":\"x3\",\"y\":[40379.0,null,null,null,null,null,null,null,null,null,null,null,null,null,null,null,null,null,null,null,null,null,null,null,null,null,null,null,null,62853.0,69761.0],\"yaxis\":\"y3\",\"type\":\"scattergl\",\"connectgaps\":false},{\"hovertemplate\":\"fnid=SL1960A20101<br>indicator=area<br>year=%{x}<br>value=%{y}<extra></extra>\",\"legendgroup\":\"SL1960A20101\",\"line\":{\"color\":\"#636efa\",\"dash\":\"solid\"},\"marker\":{\"symbol\":\"circle\"},\"mode\":\"markers+lines\",\"name\":\"SL1960A20101\",\"showlegend\":false,\"x\":[1986,1987,1988,1989,1990,1991,1992,1993,1994,1995,1996,1997,1998,1999,2000,2001,2002,2003,2004,2005,2006,2007,2008,2009,2010,2011,2012,2013,2014,2015,2016],\"xaxis\":\"x2\",\"y\":[26345.0,null,null,null,null,null,null,null,null,null,null,null,null,null,null,null,25159.005,null,16710.0,null,null,null,null,null,null,null,null,null,null,null,null],\"yaxis\":\"y2\",\"type\":\"scattergl\",\"connectgaps\":false},{\"hovertemplate\":\"fnid=SL1960A20101<br>indicator=yield<br>year=%{x}<br>value=%{y}<extra></extra>\",\"legendgroup\":\"SL1960A20101\",\"line\":{\"color\":\"#636efa\",\"dash\":\"solid\"},\"marker\":{\"symbol\":\"circle\"},\"mode\":\"markers+lines\",\"name\":\"SL1960A20101\",\"showlegend\":false,\"x\":[1986,1987,1988,1989,1990,1991,1992,1993,1994,1995,1996,1997,1998,1999,2000,2001,2002,2003,2004,2005,2006,2007,2008,2009,2010,2011,2012,2013,2014,2015,2016],\"xaxis\":\"x\",\"y\":[1.5327007022205352,null,null,null,null,null,null,null,null,null,null,null,null,null,null,null,null,null,null,null,null,null,null,null,null,null,null,null,null,null,null],\"yaxis\":\"y\",\"type\":\"scattergl\",\"connectgaps\":false},{\"hovertemplate\":\"fnid=SL1960A20102<br>indicator=production<br>year=%{x}<br>value=%{y}<extra></extra>\",\"legendgroup\":\"SL1960A20102\",\"line\":{\"color\":\"#EF553B\",\"dash\":\"solid\"},\"marker\":{\"symbol\":\"circle\"},\"mode\":\"markers+lines\",\"name\":\"SL1960A20102\",\"showlegend\":true,\"x\":[1986,1987,1988,1989,1990,1991,1992,1993,1994,1995,1996,1997,1998,1999,2000,2001,2002,2003,2004,2005,2006,2007,2008,2009,2010,2011,2012,2013,2014,2015,2016],\"xaxis\":\"x3\",\"y\":[85753.0,null,null,null,null,null,null,null,null,null,null,null,null,null,null,null,null,null,null,null,null,null,null,null,null,null,null,null,null,89659.0,99514.0],\"yaxis\":\"y3\",\"type\":\"scattergl\",\"connectgaps\":false},{\"hovertemplate\":\"fnid=SL1960A20102<br>indicator=area<br>year=%{x}<br>value=%{y}<extra></extra>\",\"legendgroup\":\"SL1960A20102\",\"line\":{\"color\":\"#EF553B\",\"dash\":\"solid\"},\"marker\":{\"symbol\":\"circle\"},\"mode\":\"markers+lines\",\"name\":\"SL1960A20102\",\"showlegend\":false,\"x\":[1986,1987,1988,1989,1990,1991,1992,1993,1994,1995,1996,1997,1998,1999,2000,2001,2002,2003,2004,2005,2006,2007,2008,2009,2010,2011,2012,2013,2014,2015,2016],\"xaxis\":\"x2\",\"y\":[49041.0,null,null,null,null,null,null,null,null,null,null,null,null,null,null,null,44731.44,null,39103.0,null,null,null,null,null,null,null,null,null,null,null,null],\"yaxis\":\"y2\",\"type\":\"scattergl\",\"connectgaps\":false},{\"hovertemplate\":\"fnid=SL1960A20102<br>indicator=yield<br>year=%{x}<br>value=%{y}<extra></extra>\",\"legendgroup\":\"SL1960A20102\",\"line\":{\"color\":\"#EF553B\",\"dash\":\"solid\"},\"marker\":{\"symbol\":\"circle\"},\"mode\":\"markers+lines\",\"name\":\"SL1960A20102\",\"showlegend\":false,\"x\":[1986,1987,1988,1989,1990,1991,1992,1993,1994,1995,1996,1997,1998,1999,2000,2001,2002,2003,2004,2005,2006,2007,2008,2009,2010,2011,2012,2013,2014,2015,2016],\"xaxis\":\"x\",\"y\":[1.7485981117840177,null,null,null,null,null,null,null,null,null,null,null,null,null,null,null,null,null,null,null,null,null,null,null,null,null,null,null,null,null,null],\"yaxis\":\"y\",\"type\":\"scattergl\",\"connectgaps\":false},{\"hovertemplate\":\"fnid=SL1960A20103<br>indicator=production<br>year=%{x}<br>value=%{y}<extra></extra>\",\"legendgroup\":\"SL1960A20103\",\"line\":{\"color\":\"#00cc96\",\"dash\":\"solid\"},\"marker\":{\"symbol\":\"circle\"},\"mode\":\"markers+lines\",\"name\":\"SL1960A20103\",\"showlegend\":true,\"x\":[1986,1987,1988,1989,1990,1991,1992,1993,1994,1995,1996,1997,1998,1999,2000,2001,2002,2003,2004,2005,2006,2007,2008,2009,2010,2011,2012,2013,2014,2015,2016],\"xaxis\":\"x3\",\"y\":[36848.0,null,null,null,null,null,null,null,null,null,null,null,null,null,null,null,null,null,null,null,null,null,null,null,null,null,null,null,null,43352.0,148117.0],\"yaxis\":\"y3\",\"type\":\"scattergl\",\"connectgaps\":false},{\"hovertemplate\":\"fnid=SL1960A20103<br>indicator=area<br>year=%{x}<br>value=%{y}<extra></extra>\",\"legendgroup\":\"SL1960A20103\",\"line\":{\"color\":\"#00cc96\",\"dash\":\"solid\"},\"marker\":{\"symbol\":\"circle\"},\"mode\":\"markers+lines\",\"name\":\"SL1960A20103\",\"showlegend\":false,\"x\":[1986,1987,1988,1989,1990,1991,1992,1993,1994,1995,1996,1997,1998,1999,2000,2001,2002,2003,2004,2005,2006,2007,2008,2009,2010,2011,2012,2013,2014,2015,2016],\"xaxis\":\"x2\",\"y\":[22531.0,null,null,null,null,null,null,null,null,null,null,null,null,null,null,null,24714.72,null,13456.0,null,null,null,null,null,null,null,null,null,null,null,null],\"yaxis\":\"y2\",\"type\":\"scattergl\",\"connectgaps\":false},{\"hovertemplate\":\"fnid=SL1960A20103<br>indicator=yield<br>year=%{x}<br>value=%{y}<extra></extra>\",\"legendgroup\":\"SL1960A20103\",\"line\":{\"color\":\"#00cc96\",\"dash\":\"solid\"},\"marker\":{\"symbol\":\"circle\"},\"mode\":\"markers+lines\",\"name\":\"SL1960A20103\",\"showlegend\":false,\"x\":[1986,1987,1988,1989,1990,1991,1992,1993,1994,1995,1996,1997,1998,1999,2000,2001,2002,2003,2004,2005,2006,2007,2008,2009,2010,2011,2012,2013,2014,2015,2016],\"xaxis\":\"x\",\"y\":[1.635435622031867,null,null,null,null,null,null,null,null,null,null,null,null,null,null,null,null,null,null,null,null,null,null,null,null,null,null,null,null,null,null],\"yaxis\":\"y\",\"type\":\"scattergl\",\"connectgaps\":false},{\"hovertemplate\":\"fnid=SL1960A20201<br>indicator=production<br>year=%{x}<br>value=%{y}<extra></extra>\",\"legendgroup\":\"SL1960A20201\",\"line\":{\"color\":\"#ab63fa\",\"dash\":\"solid\"},\"marker\":{\"symbol\":\"circle\"},\"mode\":\"markers+lines\",\"name\":\"SL1960A20201\",\"showlegend\":true,\"x\":[1986,1987,1988,1989,1990,1991,1992,1993,1994,1995,1996,1997,1998,1999,2000,2001,2002,2003,2004,2005,2006,2007,2008,2009,2010,2011,2012,2013,2014,2015,2016],\"xaxis\":\"x3\",\"y\":[51517.0,null,null,null,null,null,null,null,null,null,null,null,null,null,null,null,null,null,null,null,null,null,null,null,null,null,null,null,null,66131.0,73400.0],\"yaxis\":\"y3\",\"type\":\"scattergl\",\"connectgaps\":false},{\"hovertemplate\":\"fnid=SL1960A20201<br>indicator=area<br>year=%{x}<br>value=%{y}<extra></extra>\",\"legendgroup\":\"SL1960A20201\",\"line\":{\"color\":\"#ab63fa\",\"dash\":\"solid\"},\"marker\":{\"symbol\":\"circle\"},\"mode\":\"markers+lines\",\"name\":\"SL1960A20201\",\"showlegend\":false,\"x\":[1986,1987,1988,1989,1990,1991,1992,1993,1994,1995,1996,1997,1998,1999,2000,2001,2002,2003,2004,2005,2006,2007,2008,2009,2010,2011,2012,2013,2014,2015,2016],\"xaxis\":\"x2\",\"y\":[38059.0,null,null,null,null,null,null,null,null,null,null,null,null,null,null,null,29661.795,null,10830.4,null,null,null,null,null,null,null,null,null,null,null,null],\"yaxis\":\"y2\",\"type\":\"scattergl\",\"connectgaps\":false},{\"hovertemplate\":\"fnid=SL1960A20201<br>indicator=yield<br>year=%{x}<br>value=%{y}<extra></extra>\",\"legendgroup\":\"SL1960A20201\",\"line\":{\"color\":\"#ab63fa\",\"dash\":\"solid\"},\"marker\":{\"symbol\":\"circle\"},\"mode\":\"markers+lines\",\"name\":\"SL1960A20201\",\"showlegend\":false,\"x\":[1986,1987,1988,1989,1990,1991,1992,1993,1994,1995,1996,1997,1998,1999,2000,2001,2002,2003,2004,2005,2006,2007,2008,2009,2010,2011,2012,2013,2014,2015,2016],\"xaxis\":\"x\",\"y\":[1.353608870438004,null,null,null,null,null,null,null,null,null,null,null,null,null,null,null,null,null,null,null,null,null,null,null,null,null,null,null,null,null,null],\"yaxis\":\"y\",\"type\":\"scattergl\",\"connectgaps\":false},{\"hovertemplate\":\"fnid=SL1960A20202<br>indicator=production<br>year=%{x}<br>value=%{y}<extra></extra>\",\"legendgroup\":\"SL1960A20202\",\"line\":{\"color\":\"#FFA15A\",\"dash\":\"solid\"},\"marker\":{\"symbol\":\"circle\"},\"mode\":\"markers+lines\",\"name\":\"SL1960A20202\",\"showlegend\":true,\"x\":[1986,1987,1988,1989,1990,1991,1992,1993,1994,1995,1996,1997,1998,1999,2000,2001,2002,2003,2004,2005,2006,2007,2008,2009,2010,2011,2012,2013,2014,2015,2016],\"xaxis\":\"x3\",\"y\":[37643.0,null,null,null,null,null,null,null,null,null,null,null,null,null,null,null,null,null,null,null,null,null,null,null,null,null,null,null,null,66270.0,73554.0],\"yaxis\":\"y3\",\"type\":\"scattergl\",\"connectgaps\":false},{\"hovertemplate\":\"fnid=SL1960A20202<br>indicator=area<br>year=%{x}<br>value=%{y}<extra></extra>\",\"legendgroup\":\"SL1960A20202\",\"line\":{\"color\":\"#FFA15A\",\"dash\":\"solid\"},\"marker\":{\"symbol\":\"circle\"},\"mode\":\"markers+lines\",\"name\":\"SL1960A20202\",\"showlegend\":false,\"x\":[1986,1987,1988,1989,1990,1991,1992,1993,1994,1995,1996,1997,1998,1999,2000,2001,2002,2003,2004,2005,2006,2007,2008,2009,2010,2011,2012,2013,2014,2015,2016],\"xaxis\":\"x2\",\"y\":[23615.0,null,null,null,null,null,null,null,null,null,null,null,null,null,null,null,22497.43,null,20546.0,null,null,null,null,null,null,null,null,null,null,null,null],\"yaxis\":\"y2\",\"type\":\"scattergl\",\"connectgaps\":false},{\"hovertemplate\":\"fnid=SL1960A20202<br>indicator=yield<br>year=%{x}<br>value=%{y}<extra></extra>\",\"legendgroup\":\"SL1960A20202\",\"line\":{\"color\":\"#FFA15A\",\"dash\":\"solid\"},\"marker\":{\"symbol\":\"circle\"},\"mode\":\"markers+lines\",\"name\":\"SL1960A20202\",\"showlegend\":false,\"x\":[1986,1987,1988,1989,1990,1991,1992,1993,1994,1995,1996,1997,1998,1999,2000,2001,2002,2003,2004,2005,2006,2007,2008,2009,2010,2011,2012,2013,2014,2015,2016],\"xaxis\":\"x\",\"y\":[1.5940292187169172,null,null,null,null,null,null,null,null,null,null,null,null,null,null,null,null,null,null,null,null,null,null,null,null,null,null,null,null,null,null],\"yaxis\":\"y\",\"type\":\"scattergl\",\"connectgaps\":false},{\"hovertemplate\":\"fnid=SL1960A20203<br>indicator=production<br>year=%{x}<br>value=%{y}<extra></extra>\",\"legendgroup\":\"SL1960A20203\",\"line\":{\"color\":\"#19d3f3\",\"dash\":\"solid\"},\"marker\":{\"symbol\":\"circle\"},\"mode\":\"markers+lines\",\"name\":\"SL1960A20203\",\"showlegend\":true,\"x\":[1986,1987,1988,1989,1990,1991,1992,1993,1994,1995,1996,1997,1998,1999,2000,2001,2002,2003,2004,2005,2006,2007,2008,2009,2010,2011,2012,2013,2014,2015,2016],\"xaxis\":\"x3\",\"y\":[60598.0,null,null,null,null,null,null,null,null,null,null,null,null,null,null,null,null,null,null,null,null,null,null,null,null,null,null,null,null,55707.0,61830.0],\"yaxis\":\"y3\",\"type\":\"scattergl\",\"connectgaps\":false},{\"hovertemplate\":\"fnid=SL1960A20203<br>indicator=area<br>year=%{x}<br>value=%{y}<extra></extra>\",\"legendgroup\":\"SL1960A20203\",\"line\":{\"color\":\"#19d3f3\",\"dash\":\"solid\"},\"marker\":{\"symbol\":\"circle\"},\"mode\":\"markers+lines\",\"name\":\"SL1960A20203\",\"showlegend\":false,\"x\":[1986,1987,1988,1989,1990,1991,1992,1993,1994,1995,1996,1997,1998,1999,2000,2001,2002,2003,2004,2005,2006,2007,2008,2009,2010,2011,2012,2013,2014,2015,2016],\"xaxis\":\"x2\",\"y\":[27190.0,null,null,null,null,null,null,null,null,null,null,null,null,null,null,null,21282.75,null,42512.0,null,null,null,null,null,null,null,null,null,null,null,null],\"yaxis\":\"y2\",\"type\":\"scattergl\",\"connectgaps\":false},{\"hovertemplate\":\"fnid=SL1960A20203<br>indicator=yield<br>year=%{x}<br>value=%{y}<extra></extra>\",\"legendgroup\":\"SL1960A20203\",\"line\":{\"color\":\"#19d3f3\",\"dash\":\"solid\"},\"marker\":{\"symbol\":\"circle\"},\"mode\":\"markers+lines\",\"name\":\"SL1960A20203\",\"showlegend\":false,\"x\":[1986,1987,1988,1989,1990,1991,1992,1993,1994,1995,1996,1997,1998,1999,2000,2001,2002,2003,2004,2005,2006,2007,2008,2009,2010,2011,2012,2013,2014,2015,2016],\"xaxis\":\"x\",\"y\":[2.228687017285767,null,null,null,null,null,null,null,null,null,null,null,null,null,null,null,null,null,null,null,null,null,null,null,null,null,null,null,null,null,null],\"yaxis\":\"y\",\"type\":\"scattergl\",\"connectgaps\":false},{\"hovertemplate\":\"fnid=SL1960A20204<br>indicator=production<br>year=%{x}<br>value=%{y}<extra></extra>\",\"legendgroup\":\"SL1960A20204\",\"line\":{\"color\":\"#FF6692\",\"dash\":\"solid\"},\"marker\":{\"symbol\":\"circle\"},\"mode\":\"markers+lines\",\"name\":\"SL1960A20204\",\"showlegend\":true,\"x\":[1986,1987,1988,1989,1990,1991,1992,1993,1994,1995,1996,1997,1998,1999,2000,2001,2002,2003,2004,2005,2006,2007,2008,2009,2010,2011,2012,2013,2014,2015,2016],\"xaxis\":\"x3\",\"y\":[23618.0,null,null,null,null,null,null,null,null,null,null,null,null,null,null,null,null,null,null,null,null,null,null,null,null,null,null,null,null,83489.0,92665.0],\"yaxis\":\"y3\",\"type\":\"scattergl\",\"connectgaps\":false},{\"hovertemplate\":\"fnid=SL1960A20204<br>indicator=area<br>year=%{x}<br>value=%{y}<extra></extra>\",\"legendgroup\":\"SL1960A20204\",\"line\":{\"color\":\"#FF6692\",\"dash\":\"solid\"},\"marker\":{\"symbol\":\"circle\"},\"mode\":\"markers+lines\",\"name\":\"SL1960A20204\",\"showlegend\":false,\"x\":[1986,1987,1988,1989,1990,1991,1992,1993,1994,1995,1996,1997,1998,1999,2000,2001,2002,2003,2004,2005,2006,2007,2008,2009,2010,2011,2012,2013,2014,2015,2016],\"xaxis\":\"x2\",\"y\":[23771.0,null,null,null,null,null,null,null,null,null,null,null,null,null,null,null,26485.785,null,17254.0,null,null,null,null,null,null,null,null,null,null,null,null],\"yaxis\":\"y2\",\"type\":\"scattergl\",\"connectgaps\":false},{\"hovertemplate\":\"fnid=SL1960A20204<br>indicator=yield<br>year=%{x}<br>value=%{y}<extra></extra>\",\"legendgroup\":\"SL1960A20204\",\"line\":{\"color\":\"#FF6692\",\"dash\":\"solid\"},\"marker\":{\"symbol\":\"circle\"},\"mode\":\"markers+lines\",\"name\":\"SL1960A20204\",\"showlegend\":false,\"x\":[1986,1987,1988,1989,1990,1991,1992,1993,1994,1995,1996,1997,1998,1999,2000,2001,2002,2003,2004,2005,2006,2007,2008,2009,2010,2011,2012,2013,2014,2015,2016],\"xaxis\":\"x\",\"y\":[0.993563585881957,null,null,null,null,null,null,null,null,null,null,null,null,null,null,null,null,null,null,null,null,null,null,null,null,null,null,null,null,null,null],\"yaxis\":\"y\",\"type\":\"scattergl\",\"connectgaps\":false},{\"hovertemplate\":\"fnid=SL1960A20205<br>indicator=production<br>year=%{x}<br>value=%{y}<extra></extra>\",\"legendgroup\":\"SL1960A20205\",\"line\":{\"color\":\"#B6E880\",\"dash\":\"solid\"},\"marker\":{\"symbol\":\"circle\"},\"mode\":\"markers+lines\",\"name\":\"SL1960A20205\",\"showlegend\":true,\"x\":[1986,1987,1988,1989,1990,1991,1992,1993,1994,1995,1996,1997,1998,1999,2000,2001,2002,2003,2004,2005,2006,2007,2008,2009,2010,2011,2012,2013,2014,2015,2016],\"xaxis\":\"x3\",\"y\":[28750.0,null,null,null,null,null,null,null,null,null,null,null,null,null,null,null,null,null,null,null,null,null,null,null,null,null,null,null,null,118934.0,132006.0],\"yaxis\":\"y3\",\"type\":\"scattergl\",\"connectgaps\":false},{\"hovertemplate\":\"fnid=SL1960A20205<br>indicator=area<br>year=%{x}<br>value=%{y}<extra></extra>\",\"legendgroup\":\"SL1960A20205\",\"line\":{\"color\":\"#B6E880\",\"dash\":\"solid\"},\"marker\":{\"symbol\":\"circle\"},\"mode\":\"markers+lines\",\"name\":\"SL1960A20205\",\"showlegend\":false,\"x\":[1986,1987,1988,1989,1990,1991,1992,1993,1994,1995,1996,1997,1998,1999,2000,2001,2002,2003,2004,2005,2006,2007,2008,2009,2010,2011,2012,2013,2014,2015,2016],\"xaxis\":\"x2\",\"y\":[27131.0,null,null,null,null,null,null,null,null,null,null,null,null,null,null,null,34442.01,null,22052.0,null,null,null,null,null,null,null,null,null,null,null,null],\"yaxis\":\"y2\",\"type\":\"scattergl\",\"connectgaps\":false},{\"hovertemplate\":\"fnid=SL1960A20205<br>indicator=yield<br>year=%{x}<br>value=%{y}<extra></extra>\",\"legendgroup\":\"SL1960A20205\",\"line\":{\"color\":\"#B6E880\",\"dash\":\"solid\"},\"marker\":{\"symbol\":\"circle\"},\"mode\":\"markers+lines\",\"name\":\"SL1960A20205\",\"showlegend\":false,\"x\":[1986,1987,1988,1989,1990,1991,1992,1993,1994,1995,1996,1997,1998,1999,2000,2001,2002,2003,2004,2005,2006,2007,2008,2009,2010,2011,2012,2013,2014,2015,2016],\"xaxis\":\"x\",\"y\":[1.0596734362905902,null,null,null,null,null,null,null,null,null,null,null,null,null,null,null,null,null,null,null,null,null,null,null,null,null,null,null,null,null,null],\"yaxis\":\"y\",\"type\":\"scattergl\",\"connectgaps\":false},{\"hovertemplate\":\"fnid=SL1960A20301<br>indicator=production<br>year=%{x}<br>value=%{y}<extra></extra>\",\"legendgroup\":\"SL1960A20301\",\"line\":{\"color\":\"#FF97FF\",\"dash\":\"solid\"},\"marker\":{\"symbol\":\"circle\"},\"mode\":\"markers+lines\",\"name\":\"SL1960A20301\",\"showlegend\":true,\"x\":[1986,1987,1988,1989,1990,1991,1992,1993,1994,1995,1996,1997,1998,1999,2000,2001,2002,2003,2004,2005,2006,2007,2008,2009,2010,2011,2012,2013,2014,2015,2016],\"xaxis\":\"x3\",\"y\":[55903.0,null,null,null,null,null,null,null,null,null,null,null,null,null,null,null,null,null,null,null,null,null,null,null,null,null,null,null,null,129669.0,143921.0],\"yaxis\":\"y3\",\"type\":\"scattergl\",\"connectgaps\":false},{\"hovertemplate\":\"fnid=SL1960A20301<br>indicator=area<br>year=%{x}<br>value=%{y}<extra></extra>\",\"legendgroup\":\"SL1960A20301\",\"line\":{\"color\":\"#FF97FF\",\"dash\":\"solid\"},\"marker\":{\"symbol\":\"circle\"},\"mode\":\"markers+lines\",\"name\":\"SL1960A20301\",\"showlegend\":false,\"x\":[1986,1987,1988,1989,1990,1991,1992,1993,1994,1995,1996,1997,1998,1999,2000,2001,2002,2003,2004,2005,2006,2007,2008,2009,2010,2011,2012,2013,2014,2015,2016],\"xaxis\":\"x2\",\"y\":[36541.0,null,null,null,null,null,null,null,null,null,null,null,null,null,null,null,30777.57,null,35671.0,null,null,null,null,null,null,null,null,null,null,null,null],\"yaxis\":\"y2\",\"type\":\"scattergl\",\"connectgaps\":false},{\"hovertemplate\":\"fnid=SL1960A20301<br>indicator=yield<br>year=%{x}<br>value=%{y}<extra></extra>\",\"legendgroup\":\"SL1960A20301\",\"line\":{\"color\":\"#FF97FF\",\"dash\":\"solid\"},\"marker\":{\"symbol\":\"circle\"},\"mode\":\"markers+lines\",\"name\":\"SL1960A20301\",\"showlegend\":false,\"x\":[1986,1987,1988,1989,1990,1991,1992,1993,1994,1995,1996,1997,1998,1999,2000,2001,2002,2003,2004,2005,2006,2007,2008,2009,2010,2011,2012,2013,2014,2015,2016],\"xaxis\":\"x\",\"y\":[1.5298705563613475,null,null,null,null,null,null,null,null,null,null,null,null,null,null,null,null,null,null,null,null,null,null,null,null,null,null,null,null,null,null],\"yaxis\":\"y\",\"type\":\"scattergl\",\"connectgaps\":false},{\"hovertemplate\":\"fnid=SL1960A20302<br>indicator=production<br>year=%{x}<br>value=%{y}<extra></extra>\",\"legendgroup\":\"SL1960A20302\",\"line\":{\"color\":\"#FECB52\",\"dash\":\"solid\"},\"marker\":{\"symbol\":\"circle\"},\"mode\":\"markers+lines\",\"name\":\"SL1960A20302\",\"showlegend\":true,\"x\":[1986,1987,1988,1989,1990,1991,1992,1993,1994,1995,1996,1997,1998,1999,2000,2001,2002,2003,2004,2005,2006,2007,2008,2009,2010,2011,2012,2013,2014,2015,2016],\"xaxis\":\"x3\",\"y\":[14745.0,null,null,null,null,null,null,null,null,null,null,null,null,null,null,null,null,null,null,null,null,null,null,null,null,null,null,null,null,31686.0,35169.0],\"yaxis\":\"y3\",\"type\":\"scattergl\",\"connectgaps\":false},{\"hovertemplate\":\"fnid=SL1960A20302<br>indicator=area<br>year=%{x}<br>value=%{y}<extra></extra>\",\"legendgroup\":\"SL1960A20302\",\"line\":{\"color\":\"#FECB52\",\"dash\":\"solid\"},\"marker\":{\"symbol\":\"circle\"},\"mode\":\"markers+lines\",\"name\":\"SL1960A20302\",\"showlegend\":false,\"x\":[1986,1987,1988,1989,1990,1991,1992,1993,1994,1995,1996,1997,1998,1999,2000,2001,2002,2003,2004,2005,2006,2007,2008,2009,2010,2011,2012,2013,2014,2015,2016],\"xaxis\":\"x2\",\"y\":[12793.0,null,null,null,null,null,null,null,null,null,null,null,null,null,null,null,8203.275,null,26023.0,null,null,null,null,null,null,null,null,null,null,null,null],\"yaxis\":\"y2\",\"type\":\"scattergl\",\"connectgaps\":false},{\"hovertemplate\":\"fnid=SL1960A20302<br>indicator=yield<br>year=%{x}<br>value=%{y}<extra></extra>\",\"legendgroup\":\"SL1960A20302\",\"line\":{\"color\":\"#FECB52\",\"dash\":\"solid\"},\"marker\":{\"symbol\":\"circle\"},\"mode\":\"markers+lines\",\"name\":\"SL1960A20302\",\"showlegend\":false,\"x\":[1986,1987,1988,1989,1990,1991,1992,1993,1994,1995,1996,1997,1998,1999,2000,2001,2002,2003,2004,2005,2006,2007,2008,2009,2010,2011,2012,2013,2014,2015,2016],\"xaxis\":\"x\",\"y\":[1.1525834440709763,null,null,null,null,null,null,null,null,null,null,null,null,null,null,null,null,null,null,null,null,null,null,null,null,null,null,null,null,null,null],\"yaxis\":\"y\",\"type\":\"scattergl\",\"connectgaps\":false},{\"hovertemplate\":\"fnid=SL1960A20303<br>indicator=production<br>year=%{x}<br>value=%{y}<extra></extra>\",\"legendgroup\":\"SL1960A20303\",\"line\":{\"color\":\"#636efa\",\"dash\":\"solid\"},\"marker\":{\"symbol\":\"circle\"},\"mode\":\"markers+lines\",\"name\":\"SL1960A20303\",\"showlegend\":true,\"x\":[1986,1987,1988,1989,1990,1991,1992,1993,1994,1995,1996,1997,1998,1999,2000,2001,2002,2003,2004,2005,2006,2007,2008,2009,2010,2011,2012,2013,2014,2015,2016],\"xaxis\":\"x3\",\"y\":[66839.0,null,null,null,null,null,null,null,null,null,null,null,null,null,null,null,null,null,null,null,null,null,null,null,null,null,null,null,null,78731.0,87385.0],\"yaxis\":\"y3\",\"type\":\"scattergl\",\"connectgaps\":false},{\"hovertemplate\":\"fnid=SL1960A20303<br>indicator=area<br>year=%{x}<br>value=%{y}<extra></extra>\",\"legendgroup\":\"SL1960A20303\",\"line\":{\"color\":\"#636efa\",\"dash\":\"solid\"},\"marker\":{\"symbol\":\"circle\"},\"mode\":\"markers+lines\",\"name\":\"SL1960A20303\",\"showlegend\":false,\"x\":[1986,1987,1988,1989,1990,1991,1992,1993,1994,1995,1996,1997,1998,1999,2000,2001,2002,2003,2004,2005,2006,2007,2008,2009,2010,2011,2012,2013,2014,2015,2016],\"xaxis\":\"x2\",\"y\":[36906.0,null,null,null,null,null,null,null,null,null,null,null,null,null,null,null,20296.98,null,15844.0,null,null,null,null,null,null,null,null,null,null,null,null],\"yaxis\":\"y2\",\"type\":\"scattergl\",\"connectgaps\":false},{\"hovertemplate\":\"fnid=SL1960A20303<br>indicator=yield<br>year=%{x}<br>value=%{y}<extra></extra>\",\"legendgroup\":\"SL1960A20303\",\"line\":{\"color\":\"#636efa\",\"dash\":\"solid\"},\"marker\":{\"symbol\":\"circle\"},\"mode\":\"markers+lines\",\"name\":\"SL1960A20303\",\"showlegend\":false,\"x\":[1986,1987,1988,1989,1990,1991,1992,1993,1994,1995,1996,1997,1998,1999,2000,2001,2002,2003,2004,2005,2006,2007,2008,2009,2010,2011,2012,2013,2014,2015,2016],\"xaxis\":\"x\",\"y\":[1.811060532162792,null,null,null,null,null,null,null,null,null,null,null,null,null,null,null,null,null,null,null,null,null,null,null,null,null,null,null,null,null,null],\"yaxis\":\"y\",\"type\":\"scattergl\",\"connectgaps\":false},{\"hovertemplate\":\"fnid=SL1960A20304<br>indicator=production<br>year=%{x}<br>value=%{y}<extra></extra>\",\"legendgroup\":\"SL1960A20304\",\"line\":{\"color\":\"#EF553B\",\"dash\":\"solid\"},\"marker\":{\"symbol\":\"circle\"},\"mode\":\"markers+lines\",\"name\":\"SL1960A20304\",\"showlegend\":true,\"x\":[1986,1987,1988,1989,1990,1991,1992,1993,1994,1995,1996,1997,1998,1999,2000,2001,2002,2003,2004,2005,2006,2007,2008,2009,2010,2011,2012,2013,2014,2015,2016],\"xaxis\":\"x3\",\"y\":[22396.0,null,null,null,null,null,null,null,null,null,null,null,null,null,null,null,null,null,null,null,null,null,null,null,null,null,null,null,null,30665.0,34036.0],\"yaxis\":\"y3\",\"type\":\"scattergl\",\"connectgaps\":false},{\"hovertemplate\":\"fnid=SL1960A20304<br>indicator=area<br>year=%{x}<br>value=%{y}<extra></extra>\",\"legendgroup\":\"SL1960A20304\",\"line\":{\"color\":\"#EF553B\",\"dash\":\"solid\"},\"marker\":{\"symbol\":\"circle\"},\"mode\":\"markers+lines\",\"name\":\"SL1960A20304\",\"showlegend\":false,\"x\":[1986,1987,1988,1989,1990,1991,1992,1993,1994,1995,1996,1997,1998,1999,2000,2001,2002,2003,2004,2005,2006,2007,2008,2009,2010,2011,2012,2013,2014,2015,2016],\"xaxis\":\"x2\",\"y\":[15942.0,null,null,null,null,null,null,null,null,null,null,null,null,null,null,null,33081.21,null,11404.0,null,null,null,null,null,null,null,null,null,null,null,null],\"yaxis\":\"y2\",\"type\":\"scattergl\",\"connectgaps\":false},{\"hovertemplate\":\"fnid=SL1960A20304<br>indicator=yield<br>year=%{x}<br>value=%{y}<extra></extra>\",\"legendgroup\":\"SL1960A20304\",\"line\":{\"color\":\"#EF553B\",\"dash\":\"solid\"},\"marker\":{\"symbol\":\"circle\"},\"mode\":\"markers+lines\",\"name\":\"SL1960A20304\",\"showlegend\":false,\"x\":[1986,1987,1988,1989,1990,1991,1992,1993,1994,1995,1996,1997,1998,1999,2000,2001,2002,2003,2004,2005,2006,2007,2008,2009,2010,2011,2012,2013,2014,2015,2016],\"xaxis\":\"x\",\"y\":[1.4048425542591896,null,null,null,null,null,null,null,null,null,null,null,null,null,null,null,null,null,null,null,null,null,null,null,null,null,null,null,null,null,null],\"yaxis\":\"y\",\"type\":\"scattergl\",\"connectgaps\":false},{\"hovertemplate\":\"fnid=SL1960A20401<br>indicator=production<br>year=%{x}<br>value=%{y}<extra></extra>\",\"legendgroup\":\"SL1960A20401\",\"line\":{\"color\":\"#00cc96\",\"dash\":\"solid\"},\"marker\":{\"symbol\":\"circle\"},\"mode\":\"markers+lines\",\"name\":\"SL1960A20401\",\"showlegend\":true,\"x\":[1986,1987,1988,1989,1990,1991,1992,1993,1994,1995,1996,1997,1998,1999,2000,2001,2002,2003,2004,2005,2006,2007,2008,2009,2010,2011,2012,2013,2014,2015,2016],\"xaxis\":\"x3\",\"y\":[null,null,null,null,null,null,null,null,null,null,null,null,null,null,null,null,null,null,null,null,null,null,null,null,null,null,null,null,null,12812.0,9421.0],\"yaxis\":\"y3\",\"type\":\"scattergl\",\"connectgaps\":false},{\"hovertemplate\":\"fnid=SL1960A20401<br>indicator=area<br>year=%{x}<br>value=%{y}<extra></extra>\",\"legendgroup\":\"SL1960A20401\",\"line\":{\"color\":\"#00cc96\",\"dash\":\"solid\"},\"marker\":{\"symbol\":\"circle\"},\"mode\":\"markers+lines\",\"name\":\"SL1960A20401\",\"showlegend\":false,\"x\":[1986,1987,1988,1989,1990,1991,1992,1993,1994,1995,1996,1997,1998,1999,2000,2001,2002,2003,2004,2005,2006,2007,2008,2009,2010,2011,2012,2013,2014,2015,2016],\"xaxis\":\"x2\",\"y\":[null,null,null,null,null,null,null,null,null,null,null,null,null,null,null,null,6390.09,null,8514.0,null,null,null,null,null,null,null,null,null,null,null,null],\"yaxis\":\"y2\",\"type\":\"scattergl\",\"connectgaps\":false}],                        {\"template\":{\"data\":{\"histogram2dcontour\":[{\"type\":\"histogram2dcontour\",\"colorbar\":{\"outlinewidth\":0,\"ticks\":\"\"},\"colorscale\":[[0.0,\"#0d0887\"],[0.1111111111111111,\"#46039f\"],[0.2222222222222222,\"#7201a8\"],[0.3333333333333333,\"#9c179e\"],[0.4444444444444444,\"#bd3786\"],[0.5555555555555556,\"#d8576b\"],[0.6666666666666666,\"#ed7953\"],[0.7777777777777778,\"#fb9f3a\"],[0.8888888888888888,\"#fdca26\"],[1.0,\"#f0f921\"]]}],\"choropleth\":[{\"type\":\"choropleth\",\"colorbar\":{\"outlinewidth\":0,\"ticks\":\"\"}}],\"histogram2d\":[{\"type\":\"histogram2d\",\"colorbar\":{\"outlinewidth\":0,\"ticks\":\"\"},\"colorscale\":[[0.0,\"#0d0887\"],[0.1111111111111111,\"#46039f\"],[0.2222222222222222,\"#7201a8\"],[0.3333333333333333,\"#9c179e\"],[0.4444444444444444,\"#bd3786\"],[0.5555555555555556,\"#d8576b\"],[0.6666666666666666,\"#ed7953\"],[0.7777777777777778,\"#fb9f3a\"],[0.8888888888888888,\"#fdca26\"],[1.0,\"#f0f921\"]]}],\"heatmap\":[{\"type\":\"heatmap\",\"colorbar\":{\"outlinewidth\":0,\"ticks\":\"\"},\"colorscale\":[[0.0,\"#0d0887\"],[0.1111111111111111,\"#46039f\"],[0.2222222222222222,\"#7201a8\"],[0.3333333333333333,\"#9c179e\"],[0.4444444444444444,\"#bd3786\"],[0.5555555555555556,\"#d8576b\"],[0.6666666666666666,\"#ed7953\"],[0.7777777777777778,\"#fb9f3a\"],[0.8888888888888888,\"#fdca26\"],[1.0,\"#f0f921\"]]}],\"heatmapgl\":[{\"type\":\"heatmapgl\",\"colorbar\":{\"outlinewidth\":0,\"ticks\":\"\"},\"colorscale\":[[0.0,\"#0d0887\"],[0.1111111111111111,\"#46039f\"],[0.2222222222222222,\"#7201a8\"],[0.3333333333333333,\"#9c179e\"],[0.4444444444444444,\"#bd3786\"],[0.5555555555555556,\"#d8576b\"],[0.6666666666666666,\"#ed7953\"],[0.7777777777777778,\"#fb9f3a\"],[0.8888888888888888,\"#fdca26\"],[1.0,\"#f0f921\"]]}],\"contourcarpet\":[{\"type\":\"contourcarpet\",\"colorbar\":{\"outlinewidth\":0,\"ticks\":\"\"}}],\"contour\":[{\"type\":\"contour\",\"colorbar\":{\"outlinewidth\":0,\"ticks\":\"\"},\"colorscale\":[[0.0,\"#0d0887\"],[0.1111111111111111,\"#46039f\"],[0.2222222222222222,\"#7201a8\"],[0.3333333333333333,\"#9c179e\"],[0.4444444444444444,\"#bd3786\"],[0.5555555555555556,\"#d8576b\"],[0.6666666666666666,\"#ed7953\"],[0.7777777777777778,\"#fb9f3a\"],[0.8888888888888888,\"#fdca26\"],[1.0,\"#f0f921\"]]}],\"surface\":[{\"type\":\"surface\",\"colorbar\":{\"outlinewidth\":0,\"ticks\":\"\"},\"colorscale\":[[0.0,\"#0d0887\"],[0.1111111111111111,\"#46039f\"],[0.2222222222222222,\"#7201a8\"],[0.3333333333333333,\"#9c179e\"],[0.4444444444444444,\"#bd3786\"],[0.5555555555555556,\"#d8576b\"],[0.6666666666666666,\"#ed7953\"],[0.7777777777777778,\"#fb9f3a\"],[0.8888888888888888,\"#fdca26\"],[1.0,\"#f0f921\"]]}],\"mesh3d\":[{\"type\":\"mesh3d\",\"colorbar\":{\"outlinewidth\":0,\"ticks\":\"\"}}],\"scatter\":[{\"fillpattern\":{\"fillmode\":\"overlay\",\"size\":10,\"solidity\":0.2},\"type\":\"scatter\"}],\"parcoords\":[{\"type\":\"parcoords\",\"line\":{\"colorbar\":{\"outlinewidth\":0,\"ticks\":\"\"}}}],\"scatterpolargl\":[{\"type\":\"scatterpolargl\",\"marker\":{\"colorbar\":{\"outlinewidth\":0,\"ticks\":\"\"}}}],\"bar\":[{\"error_x\":{\"color\":\"#2a3f5f\"},\"error_y\":{\"color\":\"#2a3f5f\"},\"marker\":{\"line\":{\"color\":\"#E5ECF6\",\"width\":0.5},\"pattern\":{\"fillmode\":\"overlay\",\"size\":10,\"solidity\":0.2}},\"type\":\"bar\"}],\"scattergeo\":[{\"type\":\"scattergeo\",\"marker\":{\"colorbar\":{\"outlinewidth\":0,\"ticks\":\"\"}}}],\"scatterpolar\":[{\"type\":\"scatterpolar\",\"marker\":{\"colorbar\":{\"outlinewidth\":0,\"ticks\":\"\"}}}],\"histogram\":[{\"marker\":{\"pattern\":{\"fillmode\":\"overlay\",\"size\":10,\"solidity\":0.2}},\"type\":\"histogram\"}],\"scattergl\":[{\"type\":\"scattergl\",\"marker\":{\"colorbar\":{\"outlinewidth\":0,\"ticks\":\"\"}}}],\"scatter3d\":[{\"type\":\"scatter3d\",\"line\":{\"colorbar\":{\"outlinewidth\":0,\"ticks\":\"\"}},\"marker\":{\"colorbar\":{\"outlinewidth\":0,\"ticks\":\"\"}}}],\"scattermapbox\":[{\"type\":\"scattermapbox\",\"marker\":{\"colorbar\":{\"outlinewidth\":0,\"ticks\":\"\"}}}],\"scatterternary\":[{\"type\":\"scatterternary\",\"marker\":{\"colorbar\":{\"outlinewidth\":0,\"ticks\":\"\"}}}],\"scattercarpet\":[{\"type\":\"scattercarpet\",\"marker\":{\"colorbar\":{\"outlinewidth\":0,\"ticks\":\"\"}}}],\"carpet\":[{\"aaxis\":{\"endlinecolor\":\"#2a3f5f\",\"gridcolor\":\"white\",\"linecolor\":\"white\",\"minorgridcolor\":\"white\",\"startlinecolor\":\"#2a3f5f\"},\"baxis\":{\"endlinecolor\":\"#2a3f5f\",\"gridcolor\":\"white\",\"linecolor\":\"white\",\"minorgridcolor\":\"white\",\"startlinecolor\":\"#2a3f5f\"},\"type\":\"carpet\"}],\"table\":[{\"cells\":{\"fill\":{\"color\":\"#EBF0F8\"},\"line\":{\"color\":\"white\"}},\"header\":{\"fill\":{\"color\":\"#C8D4E3\"},\"line\":{\"color\":\"white\"}},\"type\":\"table\"}],\"barpolar\":[{\"marker\":{\"line\":{\"color\":\"#E5ECF6\",\"width\":0.5},\"pattern\":{\"fillmode\":\"overlay\",\"size\":10,\"solidity\":0.2}},\"type\":\"barpolar\"}],\"pie\":[{\"automargin\":true,\"type\":\"pie\"}]},\"layout\":{\"autotypenumbers\":\"strict\",\"colorway\":[\"#636efa\",\"#EF553B\",\"#00cc96\",\"#ab63fa\",\"#FFA15A\",\"#19d3f3\",\"#FF6692\",\"#B6E880\",\"#FF97FF\",\"#FECB52\"],\"font\":{\"color\":\"#2a3f5f\"},\"hovermode\":\"closest\",\"hoverlabel\":{\"align\":\"left\"},\"paper_bgcolor\":\"white\",\"plot_bgcolor\":\"#E5ECF6\",\"polar\":{\"bgcolor\":\"#E5ECF6\",\"angularaxis\":{\"gridcolor\":\"white\",\"linecolor\":\"white\",\"ticks\":\"\"},\"radialaxis\":{\"gridcolor\":\"white\",\"linecolor\":\"white\",\"ticks\":\"\"}},\"ternary\":{\"bgcolor\":\"#E5ECF6\",\"aaxis\":{\"gridcolor\":\"white\",\"linecolor\":\"white\",\"ticks\":\"\"},\"baxis\":{\"gridcolor\":\"white\",\"linecolor\":\"white\",\"ticks\":\"\"},\"caxis\":{\"gridcolor\":\"white\",\"linecolor\":\"white\",\"ticks\":\"\"}},\"coloraxis\":{\"colorbar\":{\"outlinewidth\":0,\"ticks\":\"\"}},\"colorscale\":{\"sequential\":[[0.0,\"#0d0887\"],[0.1111111111111111,\"#46039f\"],[0.2222222222222222,\"#7201a8\"],[0.3333333333333333,\"#9c179e\"],[0.4444444444444444,\"#bd3786\"],[0.5555555555555556,\"#d8576b\"],[0.6666666666666666,\"#ed7953\"],[0.7777777777777778,\"#fb9f3a\"],[0.8888888888888888,\"#fdca26\"],[1.0,\"#f0f921\"]],\"sequentialminus\":[[0.0,\"#0d0887\"],[0.1111111111111111,\"#46039f\"],[0.2222222222222222,\"#7201a8\"],[0.3333333333333333,\"#9c179e\"],[0.4444444444444444,\"#bd3786\"],[0.5555555555555556,\"#d8576b\"],[0.6666666666666666,\"#ed7953\"],[0.7777777777777778,\"#fb9f3a\"],[0.8888888888888888,\"#fdca26\"],[1.0,\"#f0f921\"]],\"diverging\":[[0,\"#8e0152\"],[0.1,\"#c51b7d\"],[0.2,\"#de77ae\"],[0.3,\"#f1b6da\"],[0.4,\"#fde0ef\"],[0.5,\"#f7f7f7\"],[0.6,\"#e6f5d0\"],[0.7,\"#b8e186\"],[0.8,\"#7fbc41\"],[0.9,\"#4d9221\"],[1,\"#276419\"]]},\"xaxis\":{\"gridcolor\":\"white\",\"linecolor\":\"white\",\"ticks\":\"\",\"title\":{\"standoff\":15},\"zerolinecolor\":\"white\",\"automargin\":true,\"zerolinewidth\":2},\"yaxis\":{\"gridcolor\":\"white\",\"linecolor\":\"white\",\"ticks\":\"\",\"title\":{\"standoff\":15},\"zerolinecolor\":\"white\",\"automargin\":true,\"zerolinewidth\":2},\"scene\":{\"xaxis\":{\"backgroundcolor\":\"#E5ECF6\",\"gridcolor\":\"white\",\"linecolor\":\"white\",\"showbackground\":true,\"ticks\":\"\",\"zerolinecolor\":\"white\",\"gridwidth\":2},\"yaxis\":{\"backgroundcolor\":\"#E5ECF6\",\"gridcolor\":\"white\",\"linecolor\":\"white\",\"showbackground\":true,\"ticks\":\"\",\"zerolinecolor\":\"white\",\"gridwidth\":2},\"zaxis\":{\"backgroundcolor\":\"#E5ECF6\",\"gridcolor\":\"white\",\"linecolor\":\"white\",\"showbackground\":true,\"ticks\":\"\",\"zerolinecolor\":\"white\",\"gridwidth\":2}},\"shapedefaults\":{\"line\":{\"color\":\"#2a3f5f\"}},\"annotationdefaults\":{\"arrowcolor\":\"#2a3f5f\",\"arrowhead\":0,\"arrowwidth\":1},\"geo\":{\"bgcolor\":\"white\",\"landcolor\":\"#E5ECF6\",\"subunitcolor\":\"white\",\"showland\":true,\"showlakes\":true,\"lakecolor\":\"white\"},\"title\":{\"x\":0.05},\"mapbox\":{\"style\":\"light\"}}},\"xaxis\":{\"anchor\":\"y\",\"domain\":[0.0,0.98],\"title\":{\"text\":\"\"},\"range\":[1986,2016],\"dtick\":1},\"yaxis\":{\"anchor\":\"x\",\"domain\":[0.0,0.32666666666666666],\"title\":{\"text\":\"Yield (mt/ha)\"}},\"xaxis2\":{\"anchor\":\"y2\",\"domain\":[0.0,0.98],\"matches\":\"x\",\"showticklabels\":false,\"dtick\":1},\"yaxis2\":{\"anchor\":\"x2\",\"domain\":[0.33666666666666667,0.6633333333333333],\"title\":{\"text\":\"Area (ha)\"}},\"xaxis3\":{\"anchor\":\"y3\",\"domain\":[0.0,0.98],\"matches\":\"x\",\"showticklabels\":false,\"dtick\":1},\"yaxis3\":{\"anchor\":\"x3\",\"domain\":[0.6733333333333333,1.0],\"title\":{\"text\":\"Production (mt)\"}},\"annotations\":[{\"showarrow\":false,\"text\":\"\",\"textangle\":90,\"x\":0.98,\"xanchor\":\"left\",\"xref\":\"paper\",\"y\":0.16333333333333333,\"yanchor\":\"middle\",\"yref\":\"paper\"},{\"showarrow\":false,\"text\":\"\",\"textangle\":90,\"x\":0.98,\"xanchor\":\"left\",\"xref\":\"paper\",\"y\":0.5,\"yanchor\":\"middle\",\"yref\":\"paper\"},{\"showarrow\":false,\"text\":\"\",\"textangle\":90,\"x\":0.98,\"xanchor\":\"left\",\"xref\":\"paper\",\"y\":0.8366666666666667,\"yanchor\":\"middle\",\"yref\":\"paper\"},{\"align\":\"left\",\"font\":{\"color\":\"dimgrey\",\"family\":\"arial\",\"size\":15},\"showarrow\":false,\"text\":\"Production-Area-Yield time-series of SL - Rice - Main season\",\"x\":-0.014,\"xref\":\"paper\",\"y\":-0.14,\"yref\":\"paper\"}],\"legend\":{\"title\":{\"text\":\"FNID\"},\"tracegroupgap\":0,\"yanchor\":\"top\",\"xanchor\":\"left\",\"y\":1.0,\"x\":1,\"font\":{\"size\":14}},\"margin\":{\"t\":0,\"r\":0,\"l\":0,\"b\":25},\"font\":{\"family\":\"arial\",\"size\":16,\"color\":\"black\"},\"width\":900,\"height\":600},                        {\"responsive\": true}                    ).then(function(){\n",
       "                            \n",
       "var gd = document.getElementById('42f47bef-4d35-4dda-8155-58935cb91916');\n",
       "var x = new MutationObserver(function (mutations, observer) {{\n",
       "        var display = window.getComputedStyle(gd).display;\n",
       "        if (!display || display === 'none') {{\n",
       "            console.log([gd, 'removed!']);\n",
       "            Plotly.purge(gd);\n",
       "            observer.disconnect();\n",
       "        }}\n",
       "}});\n",
       "\n",
       "// Listen for the removal of the full notebook cells\n",
       "var notebookContainer = gd.closest('#notebook-container');\n",
       "if (notebookContainer) {{\n",
       "    x.observe(notebookContainer, {childList: true});\n",
       "}}\n",
       "\n",
       "// Listen for the clearing of the current output cell\n",
       "var outputEl = gd.closest('.output');\n",
       "if (outputEl) {{\n",
       "    x.observe(outputEl, {childList: true});\n",
       "}}\n",
       "\n",
       "                        })                };                });            </script>        </div>"
      ]
     },
     "metadata": {},
     "output_type": "display_data"
    },
    {
     "data": {
      "application/vnd.plotly.v1+json": {
       "config": {
        "plotlyServerURL": "https://plot.ly"
       },
       "data": [
        {
         "connectgaps": false,
         "hovertemplate": "fnid=SL1960A20101<br>indicator=production<br>year=%{x}<br>value=%{y}<extra></extra>",
         "legendgroup": "SL1960A20101",
         "line": {
          "color": "#636efa",
          "dash": "solid"
         },
         "marker": {
          "symbol": "circle"
         },
         "mode": "markers+lines",
         "name": "SL1960A20101",
         "showlegend": true,
         "type": "scattergl",
         "x": [
          1986,
          1987,
          1988,
          1989,
          1990,
          1991,
          1992,
          1993,
          1994,
          1995,
          1996,
          1997,
          1998,
          1999,
          2000,
          2001,
          2002,
          2003,
          2004,
          2005,
          2006,
          2007,
          2008,
          2009,
          2010,
          2011,
          2012,
          2013,
          2014,
          2015,
          2016
         ],
         "xaxis": "x3",
         "y": [
          226,
          null,
          null,
          null,
          null,
          null,
          null,
          null,
          null,
          null,
          null,
          null,
          null,
          null,
          null,
          null,
          null,
          null,
          null,
          null,
          null,
          null,
          null,
          null,
          null,
          null,
          null,
          null,
          null,
          715,
          631
         ],
         "yaxis": "y3"
        },
        {
         "connectgaps": false,
         "hovertemplate": "fnid=SL1960A20101<br>indicator=area<br>year=%{x}<br>value=%{y}<extra></extra>",
         "legendgroup": "SL1960A20101",
         "line": {
          "color": "#636efa",
          "dash": "solid"
         },
         "marker": {
          "symbol": "circle"
         },
         "mode": "markers+lines",
         "name": "SL1960A20101",
         "showlegend": false,
         "type": "scattergl",
         "x": [
          1986,
          1987,
          1988,
          1989,
          1990,
          1991,
          1992,
          1993,
          1994,
          1995,
          1996,
          1997,
          1998,
          1999,
          2000,
          2001,
          2002,
          2003,
          2004,
          2005,
          2006,
          2007,
          2008,
          2009,
          2010,
          2011,
          2012,
          2013,
          2014,
          2015,
          2016
         ],
         "xaxis": "x2",
         "y": [
          578,
          null,
          null,
          null,
          null,
          null,
          null,
          null,
          null,
          null,
          null,
          null,
          null,
          null,
          null,
          null,
          null,
          522.45,
          1563,
          null,
          null,
          null,
          null,
          null,
          null,
          null,
          null,
          null,
          null,
          null,
          null
         ],
         "yaxis": "y2"
        },
        {
         "connectgaps": false,
         "hovertemplate": "fnid=SL1960A20101<br>indicator=yield<br>year=%{x}<br>value=%{y}<extra></extra>",
         "legendgroup": "SL1960A20101",
         "line": {
          "color": "#636efa",
          "dash": "solid"
         },
         "marker": {
          "symbol": "circle"
         },
         "mode": "markers+lines",
         "name": "SL1960A20101",
         "showlegend": false,
         "type": "scattergl",
         "x": [
          1986,
          1987,
          1988,
          1989,
          1990,
          1991,
          1992,
          1993,
          1994,
          1995,
          1996,
          1997,
          1998,
          1999,
          2000,
          2001,
          2002,
          2003,
          2004,
          2005,
          2006,
          2007,
          2008,
          2009,
          2010,
          2011,
          2012,
          2013,
          2014,
          2015,
          2016
         ],
         "xaxis": "x",
         "y": [
          0.3910034602076124,
          null,
          null,
          null,
          null,
          null,
          null,
          null,
          null,
          null,
          null,
          null,
          null,
          null,
          null,
          null,
          null,
          null,
          null,
          null,
          null,
          null,
          null,
          null,
          null,
          null,
          null,
          null,
          null,
          null,
          null
         ],
         "yaxis": "y"
        },
        {
         "connectgaps": false,
         "hovertemplate": "fnid=SL1960A20102<br>indicator=production<br>year=%{x}<br>value=%{y}<extra></extra>",
         "legendgroup": "SL1960A20102",
         "line": {
          "color": "#EF553B",
          "dash": "solid"
         },
         "marker": {
          "symbol": "circle"
         },
         "mode": "markers+lines",
         "name": "SL1960A20102",
         "showlegend": true,
         "type": "scattergl",
         "x": [
          1986,
          1987,
          1988,
          1989,
          1990,
          1991,
          1992,
          1993,
          1994,
          1995,
          1996,
          1997,
          1998,
          1999,
          2000,
          2001,
          2002,
          2003,
          2004,
          2005,
          2006,
          2007,
          2008,
          2009,
          2010,
          2011,
          2012,
          2013,
          2014,
          2015,
          2016
         ],
         "xaxis": "x3",
         "y": [
          526,
          null,
          null,
          null,
          null,
          null,
          null,
          null,
          null,
          null,
          null,
          null,
          null,
          null,
          null,
          null,
          null,
          null,
          null,
          null,
          null,
          null,
          null,
          null,
          null,
          null,
          null,
          null,
          null,
          733,
          647
         ],
         "yaxis": "y3"
        },
        {
         "connectgaps": false,
         "hovertemplate": "fnid=SL1960A20102<br>indicator=area<br>year=%{x}<br>value=%{y}<extra></extra>",
         "legendgroup": "SL1960A20102",
         "line": {
          "color": "#EF553B",
          "dash": "solid"
         },
         "marker": {
          "symbol": "circle"
         },
         "mode": "markers+lines",
         "name": "SL1960A20102",
         "showlegend": false,
         "type": "scattergl",
         "x": [
          1986,
          1987,
          1988,
          1989,
          1990,
          1991,
          1992,
          1993,
          1994,
          1995,
          1996,
          1997,
          1998,
          1999,
          2000,
          2001,
          2002,
          2003,
          2004,
          2005,
          2006,
          2007,
          2008,
          2009,
          2010,
          2011,
          2012,
          2013,
          2014,
          2015,
          2016
         ],
         "xaxis": "x2",
         "y": [
          927,
          null,
          null,
          null,
          null,
          null,
          null,
          null,
          null,
          null,
          null,
          null,
          null,
          null,
          null,
          null,
          null,
          1057.86,
          1424,
          null,
          null,
          null,
          null,
          null,
          null,
          null,
          null,
          null,
          null,
          null,
          null
         ],
         "yaxis": "y2"
        },
        {
         "connectgaps": false,
         "hovertemplate": "fnid=SL1960A20102<br>indicator=yield<br>year=%{x}<br>value=%{y}<extra></extra>",
         "legendgroup": "SL1960A20102",
         "line": {
          "color": "#EF553B",
          "dash": "solid"
         },
         "marker": {
          "symbol": "circle"
         },
         "mode": "markers+lines",
         "name": "SL1960A20102",
         "showlegend": false,
         "type": "scattergl",
         "x": [
          1986,
          1987,
          1988,
          1989,
          1990,
          1991,
          1992,
          1993,
          1994,
          1995,
          1996,
          1997,
          1998,
          1999,
          2000,
          2001,
          2002,
          2003,
          2004,
          2005,
          2006,
          2007,
          2008,
          2009,
          2010,
          2011,
          2012,
          2013,
          2014,
          2015,
          2016
         ],
         "xaxis": "x",
         "y": [
          0.5674217907227616,
          null,
          null,
          null,
          null,
          null,
          null,
          null,
          null,
          null,
          null,
          null,
          null,
          null,
          null,
          null,
          null,
          null,
          null,
          null,
          null,
          null,
          null,
          null,
          null,
          null,
          null,
          null,
          null,
          null,
          null
         ],
         "yaxis": "y"
        },
        {
         "connectgaps": false,
         "hovertemplate": "fnid=SL1960A20103<br>indicator=production<br>year=%{x}<br>value=%{y}<extra></extra>",
         "legendgroup": "SL1960A20103",
         "line": {
          "color": "#00cc96",
          "dash": "solid"
         },
         "marker": {
          "symbol": "circle"
         },
         "mode": "markers+lines",
         "name": "SL1960A20103",
         "showlegend": true,
         "type": "scattergl",
         "x": [
          1986,
          1987,
          1988,
          1989,
          1990,
          1991,
          1992,
          1993,
          1994,
          1995,
          1996,
          1997,
          1998,
          1999,
          2000,
          2001,
          2002,
          2003,
          2004,
          2005,
          2006,
          2007,
          2008,
          2009,
          2010,
          2011,
          2012,
          2013,
          2014,
          2015,
          2016
         ],
         "xaxis": "x3",
         "y": [
          214,
          null,
          null,
          null,
          null,
          null,
          null,
          null,
          null,
          null,
          null,
          null,
          null,
          null,
          null,
          null,
          null,
          null,
          null,
          null,
          null,
          null,
          null,
          null,
          null,
          null,
          null,
          null,
          null,
          712,
          629
         ],
         "yaxis": "y3"
        },
        {
         "connectgaps": false,
         "hovertemplate": "fnid=SL1960A20103<br>indicator=area<br>year=%{x}<br>value=%{y}<extra></extra>",
         "legendgroup": "SL1960A20103",
         "line": {
          "color": "#00cc96",
          "dash": "solid"
         },
         "marker": {
          "symbol": "circle"
         },
         "mode": "markers+lines",
         "name": "SL1960A20103",
         "showlegend": false,
         "type": "scattergl",
         "x": [
          1986,
          1987,
          1988,
          1989,
          1990,
          1991,
          1992,
          1993,
          1994,
          1995,
          1996,
          1997,
          1998,
          1999,
          2000,
          2001,
          2002,
          2003,
          2004,
          2005,
          2006,
          2007,
          2008,
          2009,
          2010,
          2011,
          2012,
          2013,
          2014,
          2015,
          2016
         ],
         "xaxis": "x2",
         "y": [
          489,
          null,
          null,
          null,
          null,
          null,
          null,
          null,
          null,
          null,
          null,
          null,
          null,
          null,
          null,
          null,
          null,
          1611.9,
          2025,
          null,
          null,
          null,
          null,
          null,
          null,
          null,
          null,
          null,
          null,
          null,
          null
         ],
         "yaxis": "y2"
        },
        {
         "connectgaps": false,
         "hovertemplate": "fnid=SL1960A20103<br>indicator=yield<br>year=%{x}<br>value=%{y}<extra></extra>",
         "legendgroup": "SL1960A20103",
         "line": {
          "color": "#00cc96",
          "dash": "solid"
         },
         "marker": {
          "symbol": "circle"
         },
         "mode": "markers+lines",
         "name": "SL1960A20103",
         "showlegend": false,
         "type": "scattergl",
         "x": [
          1986,
          1987,
          1988,
          1989,
          1990,
          1991,
          1992,
          1993,
          1994,
          1995,
          1996,
          1997,
          1998,
          1999,
          2000,
          2001,
          2002,
          2003,
          2004,
          2005,
          2006,
          2007,
          2008,
          2009,
          2010,
          2011,
          2012,
          2013,
          2014,
          2015,
          2016
         ],
         "xaxis": "x",
         "y": [
          0.4376278118609407,
          null,
          null,
          null,
          null,
          null,
          null,
          null,
          null,
          null,
          null,
          null,
          null,
          null,
          null,
          null,
          null,
          null,
          null,
          null,
          null,
          null,
          null,
          null,
          null,
          null,
          null,
          null,
          null,
          null,
          null
         ],
         "yaxis": "y"
        },
        {
         "connectgaps": false,
         "hovertemplate": "fnid=SL1960A20201<br>indicator=production<br>year=%{x}<br>value=%{y}<extra></extra>",
         "legendgroup": "SL1960A20201",
         "line": {
          "color": "#ab63fa",
          "dash": "solid"
         },
         "marker": {
          "symbol": "circle"
         },
         "mode": "markers+lines",
         "name": "SL1960A20201",
         "showlegend": true,
         "type": "scattergl",
         "x": [
          1986,
          1987,
          1988,
          1989,
          1990,
          1991,
          1992,
          1993,
          1994,
          1995,
          1996,
          1997,
          1998,
          1999,
          2000,
          2001,
          2002,
          2003,
          2004,
          2005,
          2006,
          2007,
          2008,
          2009,
          2010,
          2011,
          2012,
          2013,
          2014,
          2015,
          2016
         ],
         "xaxis": "x3",
         "y": [
          4994,
          null,
          null,
          null,
          null,
          null,
          null,
          null,
          null,
          null,
          null,
          null,
          null,
          null,
          null,
          null,
          null,
          null,
          null,
          null,
          null,
          null,
          null,
          null,
          null,
          null,
          null,
          null,
          null,
          4097,
          3620
         ],
         "yaxis": "y3"
        },
        {
         "connectgaps": false,
         "hovertemplate": "fnid=SL1960A20201<br>indicator=area<br>year=%{x}<br>value=%{y}<extra></extra>",
         "legendgroup": "SL1960A20201",
         "line": {
          "color": "#ab63fa",
          "dash": "solid"
         },
         "marker": {
          "symbol": "circle"
         },
         "mode": "markers+lines",
         "name": "SL1960A20201",
         "showlegend": false,
         "type": "scattergl",
         "x": [
          1986,
          1987,
          1988,
          1989,
          1990,
          1991,
          1992,
          1993,
          1994,
          1995,
          1996,
          1997,
          1998,
          1999,
          2000,
          2001,
          2002,
          2003,
          2004,
          2005,
          2006,
          2007,
          2008,
          2009,
          2010,
          2011,
          2012,
          2013,
          2014,
          2015,
          2016
         ],
         "xaxis": "x2",
         "y": [
          7650,
          null,
          null,
          null,
          null,
          null,
          null,
          null,
          null,
          null,
          null,
          null,
          null,
          null,
          null,
          null,
          null,
          4598.775,
          4557.7,
          null,
          null,
          null,
          null,
          null,
          null,
          null,
          null,
          null,
          null,
          null,
          null
         ],
         "yaxis": "y2"
        },
        {
         "connectgaps": false,
         "hovertemplate": "fnid=SL1960A20201<br>indicator=yield<br>year=%{x}<br>value=%{y}<extra></extra>",
         "legendgroup": "SL1960A20201",
         "line": {
          "color": "#ab63fa",
          "dash": "solid"
         },
         "marker": {
          "symbol": "circle"
         },
         "mode": "markers+lines",
         "name": "SL1960A20201",
         "showlegend": false,
         "type": "scattergl",
         "x": [
          1986,
          1987,
          1988,
          1989,
          1990,
          1991,
          1992,
          1993,
          1994,
          1995,
          1996,
          1997,
          1998,
          1999,
          2000,
          2001,
          2002,
          2003,
          2004,
          2005,
          2006,
          2007,
          2008,
          2009,
          2010,
          2011,
          2012,
          2013,
          2014,
          2015,
          2016
         ],
         "xaxis": "x",
         "y": [
          0.6528104575163398,
          null,
          null,
          null,
          null,
          null,
          null,
          null,
          null,
          null,
          null,
          null,
          null,
          null,
          null,
          null,
          null,
          null,
          null,
          null,
          null,
          null,
          null,
          null,
          null,
          null,
          null,
          null,
          null,
          null,
          null
         ],
         "yaxis": "y"
        },
        {
         "connectgaps": false,
         "hovertemplate": "fnid=SL1960A20202<br>indicator=production<br>year=%{x}<br>value=%{y}<extra></extra>",
         "legendgroup": "SL1960A20202",
         "line": {
          "color": "#FFA15A",
          "dash": "solid"
         },
         "marker": {
          "symbol": "circle"
         },
         "mode": "markers+lines",
         "name": "SL1960A20202",
         "showlegend": true,
         "type": "scattergl",
         "x": [
          1986,
          1987,
          1988,
          1989,
          1990,
          1991,
          1992,
          1993,
          1994,
          1995,
          1996,
          1997,
          1998,
          1999,
          2000,
          2001,
          2002,
          2003,
          2004,
          2005,
          2006,
          2007,
          2008,
          2009,
          2010,
          2011,
          2012,
          2013,
          2014,
          2015,
          2016
         ],
         "xaxis": "x3",
         "y": [
          621,
          null,
          null,
          null,
          null,
          null,
          null,
          null,
          null,
          null,
          null,
          null,
          null,
          null,
          null,
          null,
          null,
          null,
          null,
          null,
          null,
          null,
          null,
          null,
          null,
          null,
          null,
          null,
          null,
          5074,
          4484
         ],
         "yaxis": "y3"
        },
        {
         "connectgaps": false,
         "hovertemplate": "fnid=SL1960A20202<br>indicator=area<br>year=%{x}<br>value=%{y}<extra></extra>",
         "legendgroup": "SL1960A20202",
         "line": {
          "color": "#FFA15A",
          "dash": "solid"
         },
         "marker": {
          "symbol": "circle"
         },
         "mode": "markers+lines",
         "name": "SL1960A20202",
         "showlegend": false,
         "type": "scattergl",
         "x": [
          1986,
          1987,
          1988,
          1989,
          1990,
          1991,
          1992,
          1993,
          1994,
          1995,
          1996,
          1997,
          1998,
          1999,
          2000,
          2001,
          2002,
          2003,
          2004,
          2005,
          2006,
          2007,
          2008,
          2009,
          2010,
          2011,
          2012,
          2013,
          2014,
          2015,
          2016
         ],
         "xaxis": "x2",
         "y": [
          1015,
          null,
          null,
          null,
          null,
          null,
          null,
          null,
          null,
          null,
          null,
          null,
          null,
          null,
          null,
          null,
          null,
          510.3,
          2713,
          null,
          null,
          null,
          null,
          null,
          null,
          null,
          null,
          null,
          null,
          null,
          null
         ],
         "yaxis": "y2"
        },
        {
         "connectgaps": false,
         "hovertemplate": "fnid=SL1960A20202<br>indicator=yield<br>year=%{x}<br>value=%{y}<extra></extra>",
         "legendgroup": "SL1960A20202",
         "line": {
          "color": "#FFA15A",
          "dash": "solid"
         },
         "marker": {
          "symbol": "circle"
         },
         "mode": "markers+lines",
         "name": "SL1960A20202",
         "showlegend": false,
         "type": "scattergl",
         "x": [
          1986,
          1987,
          1988,
          1989,
          1990,
          1991,
          1992,
          1993,
          1994,
          1995,
          1996,
          1997,
          1998,
          1999,
          2000,
          2001,
          2002,
          2003,
          2004,
          2005,
          2006,
          2007,
          2008,
          2009,
          2010,
          2011,
          2012,
          2013,
          2014,
          2015,
          2016
         ],
         "xaxis": "x",
         "y": [
          0.6118226600985222,
          null,
          null,
          null,
          null,
          null,
          null,
          null,
          null,
          null,
          null,
          null,
          null,
          null,
          null,
          null,
          null,
          null,
          null,
          null,
          null,
          null,
          null,
          null,
          null,
          null,
          null,
          null,
          null,
          null,
          null
         ],
         "yaxis": "y"
        },
        {
         "connectgaps": false,
         "hovertemplate": "fnid=SL1960A20203<br>indicator=production<br>year=%{x}<br>value=%{y}<extra></extra>",
         "legendgroup": "SL1960A20203",
         "line": {
          "color": "#19d3f3",
          "dash": "solid"
         },
         "marker": {
          "symbol": "circle"
         },
         "mode": "markers+lines",
         "name": "SL1960A20203",
         "showlegend": true,
         "type": "scattergl",
         "x": [
          1986,
          1987,
          1988,
          1989,
          1990,
          1991,
          1992,
          1993,
          1994,
          1995,
          1996,
          1997,
          1998,
          1999,
          2000,
          2001,
          2002,
          2003,
          2004,
          2005,
          2006,
          2007,
          2008,
          2009,
          2010,
          2011,
          2012,
          2013,
          2014,
          2015,
          2016
         ],
         "xaxis": "x3",
         "y": [
          4575,
          null,
          null,
          null,
          null,
          null,
          null,
          null,
          null,
          null,
          null,
          null,
          null,
          null,
          null,
          null,
          null,
          null,
          null,
          null,
          null,
          null,
          null,
          null,
          null,
          null,
          null,
          null,
          null,
          1486,
          1313
         ],
         "yaxis": "y3"
        },
        {
         "connectgaps": false,
         "hovertemplate": "fnid=SL1960A20203<br>indicator=area<br>year=%{x}<br>value=%{y}<extra></extra>",
         "legendgroup": "SL1960A20203",
         "line": {
          "color": "#19d3f3",
          "dash": "solid"
         },
         "marker": {
          "symbol": "circle"
         },
         "mode": "markers+lines",
         "name": "SL1960A20203",
         "showlegend": false,
         "type": "scattergl",
         "x": [
          1986,
          1987,
          1988,
          1989,
          1990,
          1991,
          1992,
          1993,
          1994,
          1995,
          1996,
          1997,
          1998,
          1999,
          2000,
          2001,
          2002,
          2003,
          2004,
          2005,
          2006,
          2007,
          2008,
          2009,
          2010,
          2011,
          2012,
          2013,
          2014,
          2015,
          2016
         ],
         "xaxis": "x2",
         "y": [
          6229,
          null,
          null,
          null,
          null,
          null,
          null,
          null,
          null,
          null,
          null,
          null,
          null,
          null,
          null,
          null,
          null,
          61568.1,
          50288,
          null,
          null,
          null,
          null,
          null,
          null,
          null,
          null,
          null,
          null,
          null,
          null
         ],
         "yaxis": "y2"
        },
        {
         "connectgaps": false,
         "hovertemplate": "fnid=SL1960A20203<br>indicator=yield<br>year=%{x}<br>value=%{y}<extra></extra>",
         "legendgroup": "SL1960A20203",
         "line": {
          "color": "#19d3f3",
          "dash": "solid"
         },
         "marker": {
          "symbol": "circle"
         },
         "mode": "markers+lines",
         "name": "SL1960A20203",
         "showlegend": false,
         "type": "scattergl",
         "x": [
          1986,
          1987,
          1988,
          1989,
          1990,
          1991,
          1992,
          1993,
          1994,
          1995,
          1996,
          1997,
          1998,
          1999,
          2000,
          2001,
          2002,
          2003,
          2004,
          2005,
          2006,
          2007,
          2008,
          2009,
          2010,
          2011,
          2012,
          2013,
          2014,
          2015,
          2016
         ],
         "xaxis": "x",
         "y": [
          0.7344678118478086,
          null,
          null,
          null,
          null,
          null,
          null,
          null,
          null,
          null,
          null,
          null,
          null,
          null,
          null,
          null,
          null,
          null,
          null,
          null,
          null,
          null,
          null,
          null,
          null,
          null,
          null,
          null,
          null,
          null,
          null
         ],
         "yaxis": "y"
        },
        {
         "connectgaps": false,
         "hovertemplate": "fnid=SL1960A20204<br>indicator=production<br>year=%{x}<br>value=%{y}<extra></extra>",
         "legendgroup": "SL1960A20204",
         "line": {
          "color": "#FF6692",
          "dash": "solid"
         },
         "marker": {
          "symbol": "circle"
         },
         "mode": "markers+lines",
         "name": "SL1960A20204",
         "showlegend": true,
         "type": "scattergl",
         "x": [
          1986,
          1987,
          1988,
          1989,
          1990,
          1991,
          1992,
          1993,
          1994,
          1995,
          1996,
          1997,
          1998,
          1999,
          2000,
          2001,
          2002,
          2003,
          2004,
          2005,
          2006,
          2007,
          2008,
          2009,
          2010,
          2011,
          2012,
          2013,
          2014,
          2015,
          2016
         ],
         "xaxis": "x3",
         "y": [
          254,
          null,
          null,
          null,
          null,
          null,
          null,
          null,
          null,
          null,
          null,
          null,
          null,
          null,
          null,
          null,
          null,
          null,
          null,
          null,
          null,
          null,
          null,
          null,
          null,
          null,
          null,
          null,
          null,
          3970,
          3508
         ],
         "yaxis": "y3"
        },
        {
         "connectgaps": false,
         "hovertemplate": "fnid=SL1960A20204<br>indicator=area<br>year=%{x}<br>value=%{y}<extra></extra>",
         "legendgroup": "SL1960A20204",
         "line": {
          "color": "#FF6692",
          "dash": "solid"
         },
         "marker": {
          "symbol": "circle"
         },
         "mode": "markers+lines",
         "name": "SL1960A20204",
         "showlegend": false,
         "type": "scattergl",
         "x": [
          1986,
          1987,
          1988,
          1989,
          1990,
          1991,
          1992,
          1993,
          1994,
          1995,
          1996,
          1997,
          1998,
          1999,
          2000,
          2001,
          2002,
          2003,
          2004,
          2005,
          2006,
          2007,
          2008,
          2009,
          2010,
          2011,
          2012,
          2013,
          2014,
          2015,
          2016
         ],
         "xaxis": "x2",
         "y": [
          598,
          null,
          null,
          null,
          null,
          null,
          null,
          null,
          null,
          null,
          null,
          null,
          null,
          null,
          null,
          null,
          null,
          720.9,
          2965,
          null,
          null,
          null,
          null,
          null,
          null,
          null,
          null,
          null,
          null,
          null,
          null
         ],
         "yaxis": "y2"
        },
        {
         "connectgaps": false,
         "hovertemplate": "fnid=SL1960A20204<br>indicator=yield<br>year=%{x}<br>value=%{y}<extra></extra>",
         "legendgroup": "SL1960A20204",
         "line": {
          "color": "#FF6692",
          "dash": "solid"
         },
         "marker": {
          "symbol": "circle"
         },
         "mode": "markers+lines",
         "name": "SL1960A20204",
         "showlegend": false,
         "type": "scattergl",
         "x": [
          1986,
          1987,
          1988,
          1989,
          1990,
          1991,
          1992,
          1993,
          1994,
          1995,
          1996,
          1997,
          1998,
          1999,
          2000,
          2001,
          2002,
          2003,
          2004,
          2005,
          2006,
          2007,
          2008,
          2009,
          2010,
          2011,
          2012,
          2013,
          2014,
          2015,
          2016
         ],
         "xaxis": "x",
         "y": [
          0.4247491638795986,
          null,
          null,
          null,
          null,
          null,
          null,
          null,
          null,
          null,
          null,
          null,
          null,
          null,
          null,
          null,
          null,
          null,
          null,
          null,
          null,
          null,
          null,
          null,
          null,
          null,
          null,
          null,
          null,
          null,
          null
         ],
         "yaxis": "y"
        },
        {
         "connectgaps": false,
         "hovertemplate": "fnid=SL1960A20205<br>indicator=production<br>year=%{x}<br>value=%{y}<extra></extra>",
         "legendgroup": "SL1960A20205",
         "line": {
          "color": "#B6E880",
          "dash": "solid"
         },
         "marker": {
          "symbol": "circle"
         },
         "mode": "markers+lines",
         "name": "SL1960A20205",
         "showlegend": true,
         "type": "scattergl",
         "x": [
          1986,
          1987,
          1988,
          1989,
          1990,
          1991,
          1992,
          1993,
          1994,
          1995,
          1996,
          1997,
          1998,
          1999,
          2000,
          2001,
          2002,
          2003,
          2004,
          2005,
          2006,
          2007,
          2008,
          2009,
          2010,
          2011,
          2012,
          2013,
          2014,
          2015,
          2016
         ],
         "xaxis": "x3",
         "y": [
          4305,
          null,
          null,
          null,
          null,
          null,
          null,
          null,
          null,
          null,
          null,
          null,
          null,
          null,
          null,
          null,
          null,
          null,
          null,
          null,
          null,
          null,
          null,
          null,
          null,
          null,
          null,
          null,
          null,
          1172,
          1036
         ],
         "yaxis": "y3"
        },
        {
         "connectgaps": false,
         "hovertemplate": "fnid=SL1960A20205<br>indicator=area<br>year=%{x}<br>value=%{y}<extra></extra>",
         "legendgroup": "SL1960A20205",
         "line": {
          "color": "#B6E880",
          "dash": "solid"
         },
         "marker": {
          "symbol": "circle"
         },
         "mode": "markers+lines",
         "name": "SL1960A20205",
         "showlegend": false,
         "type": "scattergl",
         "x": [
          1986,
          1987,
          1988,
          1989,
          1990,
          1991,
          1992,
          1993,
          1994,
          1995,
          1996,
          1997,
          1998,
          1999,
          2000,
          2001,
          2002,
          2003,
          2004,
          2005,
          2006,
          2007,
          2008,
          2009,
          2010,
          2011,
          2012,
          2013,
          2014,
          2015,
          2016
         ],
         "xaxis": "x2",
         "y": [
          6595,
          null,
          null,
          null,
          null,
          null,
          null,
          null,
          null,
          null,
          null,
          null,
          null,
          null,
          null,
          null,
          null,
          4459.05,
          3158,
          null,
          null,
          null,
          null,
          null,
          null,
          null,
          null,
          null,
          null,
          null,
          null
         ],
         "yaxis": "y2"
        },
        {
         "connectgaps": false,
         "hovertemplate": "fnid=SL1960A20205<br>indicator=yield<br>year=%{x}<br>value=%{y}<extra></extra>",
         "legendgroup": "SL1960A20205",
         "line": {
          "color": "#B6E880",
          "dash": "solid"
         },
         "marker": {
          "symbol": "circle"
         },
         "mode": "markers+lines",
         "name": "SL1960A20205",
         "showlegend": false,
         "type": "scattergl",
         "x": [
          1986,
          1987,
          1988,
          1989,
          1990,
          1991,
          1992,
          1993,
          1994,
          1995,
          1996,
          1997,
          1998,
          1999,
          2000,
          2001,
          2002,
          2003,
          2004,
          2005,
          2006,
          2007,
          2008,
          2009,
          2010,
          2011,
          2012,
          2013,
          2014,
          2015,
          2016
         ],
         "xaxis": "x",
         "y": [
          0.6527672479150872,
          null,
          null,
          null,
          null,
          null,
          null,
          null,
          null,
          null,
          null,
          null,
          null,
          null,
          null,
          null,
          null,
          null,
          null,
          null,
          null,
          null,
          null,
          null,
          null,
          null,
          null,
          null,
          null,
          null,
          null
         ],
         "yaxis": "y"
        },
        {
         "connectgaps": false,
         "hovertemplate": "fnid=SL1960A20301<br>indicator=production<br>year=%{x}<br>value=%{y}<extra></extra>",
         "legendgroup": "SL1960A20301",
         "line": {
          "color": "#FF97FF",
          "dash": "solid"
         },
         "marker": {
          "symbol": "circle"
         },
         "mode": "markers+lines",
         "name": "SL1960A20301",
         "showlegend": true,
         "type": "scattergl",
         "x": [
          1986,
          1987,
          1988,
          1989,
          1990,
          1991,
          1992,
          1993,
          1994,
          1995,
          1996,
          1997,
          1998,
          1999,
          2000,
          2001,
          2002,
          2003,
          2004,
          2005,
          2006,
          2007,
          2008,
          2009,
          2010,
          2011,
          2012,
          2013,
          2014,
          2015,
          2016
         ],
         "xaxis": "x3",
         "y": [
          719,
          null,
          null,
          null,
          null,
          null,
          null,
          null,
          null,
          null,
          null,
          null,
          null,
          null,
          null,
          null,
          null,
          null,
          null,
          null,
          null,
          null,
          null,
          null,
          null,
          null,
          null,
          null,
          null,
          1901,
          1680
         ],
         "yaxis": "y3"
        },
        {
         "connectgaps": false,
         "hovertemplate": "fnid=SL1960A20301<br>indicator=area<br>year=%{x}<br>value=%{y}<extra></extra>",
         "legendgroup": "SL1960A20301",
         "line": {
          "color": "#FF97FF",
          "dash": "solid"
         },
         "marker": {
          "symbol": "circle"
         },
         "mode": "markers+lines",
         "name": "SL1960A20301",
         "showlegend": false,
         "type": "scattergl",
         "x": [
          1986,
          1987,
          1988,
          1989,
          1990,
          1991,
          1992,
          1993,
          1994,
          1995,
          1996,
          1997,
          1998,
          1999,
          2000,
          2001,
          2002,
          2003,
          2004,
          2005,
          2006,
          2007,
          2008,
          2009,
          2010,
          2011,
          2012,
          2013,
          2014,
          2015,
          2016
         ],
         "xaxis": "x2",
         "y": [
          968,
          null,
          null,
          null,
          null,
          null,
          null,
          null,
          null,
          null,
          null,
          null,
          null,
          null,
          null,
          null,
          null,
          1042.875,
          2293,
          null,
          null,
          null,
          null,
          null,
          null,
          null,
          null,
          null,
          null,
          null,
          null
         ],
         "yaxis": "y2"
        },
        {
         "connectgaps": false,
         "hovertemplate": "fnid=SL1960A20301<br>indicator=yield<br>year=%{x}<br>value=%{y}<extra></extra>",
         "legendgroup": "SL1960A20301",
         "line": {
          "color": "#FF97FF",
          "dash": "solid"
         },
         "marker": {
          "symbol": "circle"
         },
         "mode": "markers+lines",
         "name": "SL1960A20301",
         "showlegend": false,
         "type": "scattergl",
         "x": [
          1986,
          1987,
          1988,
          1989,
          1990,
          1991,
          1992,
          1993,
          1994,
          1995,
          1996,
          1997,
          1998,
          1999,
          2000,
          2001,
          2002,
          2003,
          2004,
          2005,
          2006,
          2007,
          2008,
          2009,
          2010,
          2011,
          2012,
          2013,
          2014,
          2015,
          2016
         ],
         "xaxis": "x",
         "y": [
          0.7427685950413223,
          null,
          null,
          null,
          null,
          null,
          null,
          null,
          null,
          null,
          null,
          null,
          null,
          null,
          null,
          null,
          null,
          null,
          null,
          null,
          null,
          null,
          null,
          null,
          null,
          null,
          null,
          null,
          null,
          null,
          null
         ],
         "yaxis": "y"
        },
        {
         "connectgaps": false,
         "hovertemplate": "fnid=SL1960A20302<br>indicator=production<br>year=%{x}<br>value=%{y}<extra></extra>",
         "legendgroup": "SL1960A20302",
         "line": {
          "color": "#FECB52",
          "dash": "solid"
         },
         "marker": {
          "symbol": "circle"
         },
         "mode": "markers+lines",
         "name": "SL1960A20302",
         "showlegend": true,
         "type": "scattergl",
         "x": [
          1986,
          1987,
          1988,
          1989,
          1990,
          1991,
          1992,
          1993,
          1994,
          1995,
          1996,
          1997,
          1998,
          1999,
          2000,
          2001,
          2002,
          2003,
          2004,
          2005,
          2006,
          2007,
          2008,
          2009,
          2010,
          2011,
          2012,
          2013,
          2014,
          2015,
          2016
         ],
         "xaxis": "x3",
         "y": [
          208,
          null,
          null,
          null,
          null,
          null,
          null,
          null,
          null,
          null,
          null,
          null,
          null,
          null,
          null,
          null,
          null,
          null,
          null,
          null,
          null,
          null,
          null,
          null,
          null,
          null,
          null,
          null,
          null,
          715,
          632
         ],
         "yaxis": "y3"
        },
        {
         "connectgaps": false,
         "hovertemplate": "fnid=SL1960A20302<br>indicator=area<br>year=%{x}<br>value=%{y}<extra></extra>",
         "legendgroup": "SL1960A20302",
         "line": {
          "color": "#FECB52",
          "dash": "solid"
         },
         "marker": {
          "symbol": "circle"
         },
         "mode": "markers+lines",
         "name": "SL1960A20302",
         "showlegend": false,
         "type": "scattergl",
         "x": [
          1986,
          1987,
          1988,
          1989,
          1990,
          1991,
          1992,
          1993,
          1994,
          1995,
          1996,
          1997,
          1998,
          1999,
          2000,
          2001,
          2002,
          2003,
          2004,
          2005,
          2006,
          2007,
          2008,
          2009,
          2010,
          2011,
          2012,
          2013,
          2014,
          2015,
          2016
         ],
         "xaxis": "x2",
         "y": [
          314,
          null,
          null,
          null,
          null,
          null,
          null,
          null,
          null,
          null,
          null,
          null,
          null,
          null,
          null,
          null,
          null,
          387.585,
          644,
          null,
          null,
          null,
          null,
          null,
          null,
          null,
          null,
          null,
          null,
          null,
          null
         ],
         "yaxis": "y2"
        },
        {
         "connectgaps": false,
         "hovertemplate": "fnid=SL1960A20302<br>indicator=yield<br>year=%{x}<br>value=%{y}<extra></extra>",
         "legendgroup": "SL1960A20302",
         "line": {
          "color": "#FECB52",
          "dash": "solid"
         },
         "marker": {
          "symbol": "circle"
         },
         "mode": "markers+lines",
         "name": "SL1960A20302",
         "showlegend": false,
         "type": "scattergl",
         "x": [
          1986,
          1987,
          1988,
          1989,
          1990,
          1991,
          1992,
          1993,
          1994,
          1995,
          1996,
          1997,
          1998,
          1999,
          2000,
          2001,
          2002,
          2003,
          2004,
          2005,
          2006,
          2007,
          2008,
          2009,
          2010,
          2011,
          2012,
          2013,
          2014,
          2015,
          2016
         ],
         "xaxis": "x",
         "y": [
          0.6624203821656051,
          null,
          null,
          null,
          null,
          null,
          null,
          null,
          null,
          null,
          null,
          null,
          null,
          null,
          null,
          null,
          null,
          null,
          null,
          null,
          null,
          null,
          null,
          null,
          null,
          null,
          null,
          null,
          null,
          null,
          null
         ],
         "yaxis": "y"
        },
        {
         "connectgaps": false,
         "hovertemplate": "fnid=SL1960A20303<br>indicator=production<br>year=%{x}<br>value=%{y}<extra></extra>",
         "legendgroup": "SL1960A20303",
         "line": {
          "color": "#636efa",
          "dash": "solid"
         },
         "marker": {
          "symbol": "circle"
         },
         "mode": "markers+lines",
         "name": "SL1960A20303",
         "showlegend": true,
         "type": "scattergl",
         "x": [
          1986,
          1987,
          1988,
          1989,
          1990,
          1991,
          1992,
          1993,
          1994,
          1995,
          1996,
          1997,
          1998,
          1999,
          2000,
          2001,
          2002,
          2003,
          2004,
          2005,
          2006,
          2007,
          2008,
          2009,
          2010,
          2011,
          2012,
          2013,
          2014,
          2015,
          2016
         ],
         "xaxis": "x3",
         "y": [
          1016,
          null,
          null,
          null,
          null,
          null,
          null,
          null,
          null,
          null,
          null,
          null,
          null,
          null,
          null,
          null,
          null,
          null,
          null,
          null,
          null,
          null,
          null,
          null,
          null,
          null,
          null,
          null,
          null,
          1280,
          1131
         ],
         "yaxis": "y3"
        },
        {
         "connectgaps": false,
         "hovertemplate": "fnid=SL1960A20303<br>indicator=area<br>year=%{x}<br>value=%{y}<extra></extra>",
         "legendgroup": "SL1960A20303",
         "line": {
          "color": "#636efa",
          "dash": "solid"
         },
         "marker": {
          "symbol": "circle"
         },
         "mode": "markers+lines",
         "name": "SL1960A20303",
         "showlegend": false,
         "type": "scattergl",
         "x": [
          1986,
          1987,
          1988,
          1989,
          1990,
          1991,
          1992,
          1993,
          1994,
          1995,
          1996,
          1997,
          1998,
          1999,
          2000,
          2001,
          2002,
          2003,
          2004,
          2005,
          2006,
          2007,
          2008,
          2009,
          2010,
          2011,
          2012,
          2013,
          2014,
          2015,
          2016
         ],
         "xaxis": "x2",
         "y": [
          1318,
          null,
          null,
          null,
          null,
          null,
          null,
          null,
          null,
          null,
          null,
          null,
          null,
          null,
          null,
          null,
          null,
          3363.525,
          3960,
          null,
          null,
          null,
          null,
          null,
          null,
          null,
          null,
          null,
          null,
          null,
          null
         ],
         "yaxis": "y2"
        },
        {
         "connectgaps": false,
         "hovertemplate": "fnid=SL1960A20303<br>indicator=yield<br>year=%{x}<br>value=%{y}<extra></extra>",
         "legendgroup": "SL1960A20303",
         "line": {
          "color": "#636efa",
          "dash": "solid"
         },
         "marker": {
          "symbol": "circle"
         },
         "mode": "markers+lines",
         "name": "SL1960A20303",
         "showlegend": false,
         "type": "scattergl",
         "x": [
          1986,
          1987,
          1988,
          1989,
          1990,
          1991,
          1992,
          1993,
          1994,
          1995,
          1996,
          1997,
          1998,
          1999,
          2000,
          2001,
          2002,
          2003,
          2004,
          2005,
          2006,
          2007,
          2008,
          2009,
          2010,
          2011,
          2012,
          2013,
          2014,
          2015,
          2016
         ],
         "xaxis": "x",
         "y": [
          0.7708649468892261,
          null,
          null,
          null,
          null,
          null,
          null,
          null,
          null,
          null,
          null,
          null,
          null,
          null,
          null,
          null,
          null,
          null,
          null,
          null,
          null,
          null,
          null,
          null,
          null,
          null,
          null,
          null,
          null,
          null,
          null
         ],
         "yaxis": "y"
        },
        {
         "connectgaps": false,
         "hovertemplate": "fnid=SL1960A20304<br>indicator=production<br>year=%{x}<br>value=%{y}<extra></extra>",
         "legendgroup": "SL1960A20304",
         "line": {
          "color": "#EF553B",
          "dash": "solid"
         },
         "marker": {
          "symbol": "circle"
         },
         "mode": "markers+lines",
         "name": "SL1960A20304",
         "showlegend": true,
         "type": "scattergl",
         "x": [
          1986,
          1987,
          1988,
          1989,
          1990,
          1991,
          1992,
          1993,
          1994,
          1995,
          1996,
          1997,
          1998,
          1999,
          2000,
          2001,
          2002,
          2003,
          2004,
          2005,
          2006,
          2007,
          2008,
          2009,
          2010,
          2011,
          2012,
          2013,
          2014,
          2015,
          2016
         ],
         "xaxis": "x3",
         "y": [
          489,
          null,
          null,
          null,
          null,
          null,
          null,
          null,
          null,
          null,
          null,
          null,
          null,
          null,
          null,
          null,
          null,
          null,
          null,
          null,
          null,
          null,
          null,
          null,
          null,
          null,
          null,
          null,
          null,
          915,
          809
         ],
         "yaxis": "y3"
        },
        {
         "connectgaps": false,
         "hovertemplate": "fnid=SL1960A20304<br>indicator=area<br>year=%{x}<br>value=%{y}<extra></extra>",
         "legendgroup": "SL1960A20304",
         "line": {
          "color": "#EF553B",
          "dash": "solid"
         },
         "marker": {
          "symbol": "circle"
         },
         "mode": "markers+lines",
         "name": "SL1960A20304",
         "showlegend": false,
         "type": "scattergl",
         "x": [
          1986,
          1987,
          1988,
          1989,
          1990,
          1991,
          1992,
          1993,
          1994,
          1995,
          1996,
          1997,
          1998,
          1999,
          2000,
          2001,
          2002,
          2003,
          2004,
          2005,
          2006,
          2007,
          2008,
          2009,
          2010,
          2011,
          2012,
          2013,
          2014,
          2015,
          2016
         ],
         "xaxis": "x2",
         "y": [
          1007,
          null,
          null,
          null,
          null,
          null,
          null,
          null,
          null,
          null,
          null,
          null,
          null,
          null,
          null,
          null,
          null,
          428.085,
          1894,
          null,
          null,
          null,
          null,
          null,
          null,
          null,
          null,
          null,
          null,
          null,
          null
         ],
         "yaxis": "y2"
        },
        {
         "connectgaps": false,
         "hovertemplate": "fnid=SL1960A20304<br>indicator=yield<br>year=%{x}<br>value=%{y}<extra></extra>",
         "legendgroup": "SL1960A20304",
         "line": {
          "color": "#EF553B",
          "dash": "solid"
         },
         "marker": {
          "symbol": "circle"
         },
         "mode": "markers+lines",
         "name": "SL1960A20304",
         "showlegend": false,
         "type": "scattergl",
         "x": [
          1986,
          1987,
          1988,
          1989,
          1990,
          1991,
          1992,
          1993,
          1994,
          1995,
          1996,
          1997,
          1998,
          1999,
          2000,
          2001,
          2002,
          2003,
          2004,
          2005,
          2006,
          2007,
          2008,
          2009,
          2010,
          2011,
          2012,
          2013,
          2014,
          2015,
          2016
         ],
         "xaxis": "x",
         "y": [
          0.4856007944389275,
          null,
          null,
          null,
          null,
          null,
          null,
          null,
          null,
          null,
          null,
          null,
          null,
          null,
          null,
          null,
          null,
          null,
          null,
          null,
          null,
          null,
          null,
          null,
          null,
          null,
          null,
          null,
          null,
          null,
          null
         ],
         "yaxis": "y"
        },
        {
         "connectgaps": false,
         "hovertemplate": "fnid=SL1960A20401<br>indicator=production<br>year=%{x}<br>value=%{y}<extra></extra>",
         "legendgroup": "SL1960A20401",
         "line": {
          "color": "#00cc96",
          "dash": "solid"
         },
         "marker": {
          "symbol": "circle"
         },
         "mode": "markers+lines",
         "name": "SL1960A20401",
         "showlegend": true,
         "type": "scattergl",
         "x": [
          1986,
          1987,
          1988,
          1989,
          1990,
          1991,
          1992,
          1993,
          1994,
          1995,
          1996,
          1997,
          1998,
          1999,
          2000,
          2001,
          2002,
          2003,
          2004,
          2005,
          2006,
          2007,
          2008,
          2009,
          2010,
          2011,
          2012,
          2013,
          2014,
          2015,
          2016
         ],
         "xaxis": "x3",
         "y": [
          null,
          null,
          null,
          null,
          null,
          null,
          null,
          null,
          null,
          null,
          null,
          null,
          null,
          null,
          null,
          null,
          null,
          null,
          null,
          null,
          null,
          null,
          null,
          null,
          null,
          null,
          null,
          null,
          null,
          2567,
          2268
         ],
         "yaxis": "y3"
        },
        {
         "connectgaps": false,
         "hovertemplate": "fnid=SL1960A20401<br>indicator=area<br>year=%{x}<br>value=%{y}<extra></extra>",
         "legendgroup": "SL1960A20401",
         "line": {
          "color": "#00cc96",
          "dash": "solid"
         },
         "marker": {
          "symbol": "circle"
         },
         "mode": "markers+lines",
         "name": "SL1960A20401",
         "showlegend": false,
         "type": "scattergl",
         "x": [
          1986,
          1987,
          1988,
          1989,
          1990,
          1991,
          1992,
          1993,
          1994,
          1995,
          1996,
          1997,
          1998,
          1999,
          2000,
          2001,
          2002,
          2003,
          2004,
          2005,
          2006,
          2007,
          2008,
          2009,
          2010,
          2011,
          2012,
          2013,
          2014,
          2015,
          2016
         ],
         "xaxis": "x2",
         "y": [
          null,
          null,
          null,
          null,
          null,
          null,
          null,
          null,
          null,
          null,
          null,
          null,
          null,
          null,
          null,
          null,
          null,
          1240.11,
          3232,
          null,
          null,
          null,
          null,
          null,
          null,
          null,
          null,
          null,
          null,
          null,
          null
         ],
         "yaxis": "y2"
        }
       ],
       "layout": {
        "annotations": [
         {
          "showarrow": false,
          "text": "",
          "textangle": 90,
          "x": 0.98,
          "xanchor": "left",
          "xref": "paper",
          "y": 0.16333333333333333,
          "yanchor": "middle",
          "yref": "paper"
         },
         {
          "showarrow": false,
          "text": "",
          "textangle": 90,
          "x": 0.98,
          "xanchor": "left",
          "xref": "paper",
          "y": 0.5,
          "yanchor": "middle",
          "yref": "paper"
         },
         {
          "showarrow": false,
          "text": "",
          "textangle": 90,
          "x": 0.98,
          "xanchor": "left",
          "xref": "paper",
          "y": 0.8366666666666667,
          "yanchor": "middle",
          "yref": "paper"
         },
         {
          "align": "left",
          "font": {
           "color": "dimgrey",
           "family": "arial",
           "size": 15
          },
          "showarrow": false,
          "text": "Production-Area-Yield time-series of SL - Groundnuts (In Shell) - Main",
          "x": -0.014,
          "xref": "paper",
          "y": -0.14,
          "yref": "paper"
         }
        ],
        "font": {
         "color": "black",
         "family": "arial",
         "size": 16
        },
        "height": 600,
        "legend": {
         "font": {
          "size": 14
         },
         "title": {
          "text": "FNID"
         },
         "tracegroupgap": 0,
         "x": 1,
         "xanchor": "left",
         "y": 1,
         "yanchor": "top"
        },
        "margin": {
         "b": 25,
         "l": 0,
         "r": 0,
         "t": 0
        },
        "template": {
         "data": {
          "bar": [
           {
            "error_x": {
             "color": "#2a3f5f"
            },
            "error_y": {
             "color": "#2a3f5f"
            },
            "marker": {
             "line": {
              "color": "#E5ECF6",
              "width": 0.5
             },
             "pattern": {
              "fillmode": "overlay",
              "size": 10,
              "solidity": 0.2
             }
            },
            "type": "bar"
           }
          ],
          "barpolar": [
           {
            "marker": {
             "line": {
              "color": "#E5ECF6",
              "width": 0.5
             },
             "pattern": {
              "fillmode": "overlay",
              "size": 10,
              "solidity": 0.2
             }
            },
            "type": "barpolar"
           }
          ],
          "carpet": [
           {
            "aaxis": {
             "endlinecolor": "#2a3f5f",
             "gridcolor": "white",
             "linecolor": "white",
             "minorgridcolor": "white",
             "startlinecolor": "#2a3f5f"
            },
            "baxis": {
             "endlinecolor": "#2a3f5f",
             "gridcolor": "white",
             "linecolor": "white",
             "minorgridcolor": "white",
             "startlinecolor": "#2a3f5f"
            },
            "type": "carpet"
           }
          ],
          "choropleth": [
           {
            "colorbar": {
             "outlinewidth": 0,
             "ticks": ""
            },
            "type": "choropleth"
           }
          ],
          "contour": [
           {
            "colorbar": {
             "outlinewidth": 0,
             "ticks": ""
            },
            "colorscale": [
             [
              0,
              "#0d0887"
             ],
             [
              0.1111111111111111,
              "#46039f"
             ],
             [
              0.2222222222222222,
              "#7201a8"
             ],
             [
              0.3333333333333333,
              "#9c179e"
             ],
             [
              0.4444444444444444,
              "#bd3786"
             ],
             [
              0.5555555555555556,
              "#d8576b"
             ],
             [
              0.6666666666666666,
              "#ed7953"
             ],
             [
              0.7777777777777778,
              "#fb9f3a"
             ],
             [
              0.8888888888888888,
              "#fdca26"
             ],
             [
              1,
              "#f0f921"
             ]
            ],
            "type": "contour"
           }
          ],
          "contourcarpet": [
           {
            "colorbar": {
             "outlinewidth": 0,
             "ticks": ""
            },
            "type": "contourcarpet"
           }
          ],
          "heatmap": [
           {
            "colorbar": {
             "outlinewidth": 0,
             "ticks": ""
            },
            "colorscale": [
             [
              0,
              "#0d0887"
             ],
             [
              0.1111111111111111,
              "#46039f"
             ],
             [
              0.2222222222222222,
              "#7201a8"
             ],
             [
              0.3333333333333333,
              "#9c179e"
             ],
             [
              0.4444444444444444,
              "#bd3786"
             ],
             [
              0.5555555555555556,
              "#d8576b"
             ],
             [
              0.6666666666666666,
              "#ed7953"
             ],
             [
              0.7777777777777778,
              "#fb9f3a"
             ],
             [
              0.8888888888888888,
              "#fdca26"
             ],
             [
              1,
              "#f0f921"
             ]
            ],
            "type": "heatmap"
           }
          ],
          "heatmapgl": [
           {
            "colorbar": {
             "outlinewidth": 0,
             "ticks": ""
            },
            "colorscale": [
             [
              0,
              "#0d0887"
             ],
             [
              0.1111111111111111,
              "#46039f"
             ],
             [
              0.2222222222222222,
              "#7201a8"
             ],
             [
              0.3333333333333333,
              "#9c179e"
             ],
             [
              0.4444444444444444,
              "#bd3786"
             ],
             [
              0.5555555555555556,
              "#d8576b"
             ],
             [
              0.6666666666666666,
              "#ed7953"
             ],
             [
              0.7777777777777778,
              "#fb9f3a"
             ],
             [
              0.8888888888888888,
              "#fdca26"
             ],
             [
              1,
              "#f0f921"
             ]
            ],
            "type": "heatmapgl"
           }
          ],
          "histogram": [
           {
            "marker": {
             "pattern": {
              "fillmode": "overlay",
              "size": 10,
              "solidity": 0.2
             }
            },
            "type": "histogram"
           }
          ],
          "histogram2d": [
           {
            "colorbar": {
             "outlinewidth": 0,
             "ticks": ""
            },
            "colorscale": [
             [
              0,
              "#0d0887"
             ],
             [
              0.1111111111111111,
              "#46039f"
             ],
             [
              0.2222222222222222,
              "#7201a8"
             ],
             [
              0.3333333333333333,
              "#9c179e"
             ],
             [
              0.4444444444444444,
              "#bd3786"
             ],
             [
              0.5555555555555556,
              "#d8576b"
             ],
             [
              0.6666666666666666,
              "#ed7953"
             ],
             [
              0.7777777777777778,
              "#fb9f3a"
             ],
             [
              0.8888888888888888,
              "#fdca26"
             ],
             [
              1,
              "#f0f921"
             ]
            ],
            "type": "histogram2d"
           }
          ],
          "histogram2dcontour": [
           {
            "colorbar": {
             "outlinewidth": 0,
             "ticks": ""
            },
            "colorscale": [
             [
              0,
              "#0d0887"
             ],
             [
              0.1111111111111111,
              "#46039f"
             ],
             [
              0.2222222222222222,
              "#7201a8"
             ],
             [
              0.3333333333333333,
              "#9c179e"
             ],
             [
              0.4444444444444444,
              "#bd3786"
             ],
             [
              0.5555555555555556,
              "#d8576b"
             ],
             [
              0.6666666666666666,
              "#ed7953"
             ],
             [
              0.7777777777777778,
              "#fb9f3a"
             ],
             [
              0.8888888888888888,
              "#fdca26"
             ],
             [
              1,
              "#f0f921"
             ]
            ],
            "type": "histogram2dcontour"
           }
          ],
          "mesh3d": [
           {
            "colorbar": {
             "outlinewidth": 0,
             "ticks": ""
            },
            "type": "mesh3d"
           }
          ],
          "parcoords": [
           {
            "line": {
             "colorbar": {
              "outlinewidth": 0,
              "ticks": ""
             }
            },
            "type": "parcoords"
           }
          ],
          "pie": [
           {
            "automargin": true,
            "type": "pie"
           }
          ],
          "scatter": [
           {
            "fillpattern": {
             "fillmode": "overlay",
             "size": 10,
             "solidity": 0.2
            },
            "type": "scatter"
           }
          ],
          "scatter3d": [
           {
            "line": {
             "colorbar": {
              "outlinewidth": 0,
              "ticks": ""
             }
            },
            "marker": {
             "colorbar": {
              "outlinewidth": 0,
              "ticks": ""
             }
            },
            "type": "scatter3d"
           }
          ],
          "scattercarpet": [
           {
            "marker": {
             "colorbar": {
              "outlinewidth": 0,
              "ticks": ""
             }
            },
            "type": "scattercarpet"
           }
          ],
          "scattergeo": [
           {
            "marker": {
             "colorbar": {
              "outlinewidth": 0,
              "ticks": ""
             }
            },
            "type": "scattergeo"
           }
          ],
          "scattergl": [
           {
            "marker": {
             "colorbar": {
              "outlinewidth": 0,
              "ticks": ""
             }
            },
            "type": "scattergl"
           }
          ],
          "scattermapbox": [
           {
            "marker": {
             "colorbar": {
              "outlinewidth": 0,
              "ticks": ""
             }
            },
            "type": "scattermapbox"
           }
          ],
          "scatterpolar": [
           {
            "marker": {
             "colorbar": {
              "outlinewidth": 0,
              "ticks": ""
             }
            },
            "type": "scatterpolar"
           }
          ],
          "scatterpolargl": [
           {
            "marker": {
             "colorbar": {
              "outlinewidth": 0,
              "ticks": ""
             }
            },
            "type": "scatterpolargl"
           }
          ],
          "scatterternary": [
           {
            "marker": {
             "colorbar": {
              "outlinewidth": 0,
              "ticks": ""
             }
            },
            "type": "scatterternary"
           }
          ],
          "surface": [
           {
            "colorbar": {
             "outlinewidth": 0,
             "ticks": ""
            },
            "colorscale": [
             [
              0,
              "#0d0887"
             ],
             [
              0.1111111111111111,
              "#46039f"
             ],
             [
              0.2222222222222222,
              "#7201a8"
             ],
             [
              0.3333333333333333,
              "#9c179e"
             ],
             [
              0.4444444444444444,
              "#bd3786"
             ],
             [
              0.5555555555555556,
              "#d8576b"
             ],
             [
              0.6666666666666666,
              "#ed7953"
             ],
             [
              0.7777777777777778,
              "#fb9f3a"
             ],
             [
              0.8888888888888888,
              "#fdca26"
             ],
             [
              1,
              "#f0f921"
             ]
            ],
            "type": "surface"
           }
          ],
          "table": [
           {
            "cells": {
             "fill": {
              "color": "#EBF0F8"
             },
             "line": {
              "color": "white"
             }
            },
            "header": {
             "fill": {
              "color": "#C8D4E3"
             },
             "line": {
              "color": "white"
             }
            },
            "type": "table"
           }
          ]
         },
         "layout": {
          "annotationdefaults": {
           "arrowcolor": "#2a3f5f",
           "arrowhead": 0,
           "arrowwidth": 1
          },
          "autotypenumbers": "strict",
          "coloraxis": {
           "colorbar": {
            "outlinewidth": 0,
            "ticks": ""
           }
          },
          "colorscale": {
           "diverging": [
            [
             0,
             "#8e0152"
            ],
            [
             0.1,
             "#c51b7d"
            ],
            [
             0.2,
             "#de77ae"
            ],
            [
             0.3,
             "#f1b6da"
            ],
            [
             0.4,
             "#fde0ef"
            ],
            [
             0.5,
             "#f7f7f7"
            ],
            [
             0.6,
             "#e6f5d0"
            ],
            [
             0.7,
             "#b8e186"
            ],
            [
             0.8,
             "#7fbc41"
            ],
            [
             0.9,
             "#4d9221"
            ],
            [
             1,
             "#276419"
            ]
           ],
           "sequential": [
            [
             0,
             "#0d0887"
            ],
            [
             0.1111111111111111,
             "#46039f"
            ],
            [
             0.2222222222222222,
             "#7201a8"
            ],
            [
             0.3333333333333333,
             "#9c179e"
            ],
            [
             0.4444444444444444,
             "#bd3786"
            ],
            [
             0.5555555555555556,
             "#d8576b"
            ],
            [
             0.6666666666666666,
             "#ed7953"
            ],
            [
             0.7777777777777778,
             "#fb9f3a"
            ],
            [
             0.8888888888888888,
             "#fdca26"
            ],
            [
             1,
             "#f0f921"
            ]
           ],
           "sequentialminus": [
            [
             0,
             "#0d0887"
            ],
            [
             0.1111111111111111,
             "#46039f"
            ],
            [
             0.2222222222222222,
             "#7201a8"
            ],
            [
             0.3333333333333333,
             "#9c179e"
            ],
            [
             0.4444444444444444,
             "#bd3786"
            ],
            [
             0.5555555555555556,
             "#d8576b"
            ],
            [
             0.6666666666666666,
             "#ed7953"
            ],
            [
             0.7777777777777778,
             "#fb9f3a"
            ],
            [
             0.8888888888888888,
             "#fdca26"
            ],
            [
             1,
             "#f0f921"
            ]
           ]
          },
          "colorway": [
           "#636efa",
           "#EF553B",
           "#00cc96",
           "#ab63fa",
           "#FFA15A",
           "#19d3f3",
           "#FF6692",
           "#B6E880",
           "#FF97FF",
           "#FECB52"
          ],
          "font": {
           "color": "#2a3f5f"
          },
          "geo": {
           "bgcolor": "white",
           "lakecolor": "white",
           "landcolor": "#E5ECF6",
           "showlakes": true,
           "showland": true,
           "subunitcolor": "white"
          },
          "hoverlabel": {
           "align": "left"
          },
          "hovermode": "closest",
          "mapbox": {
           "style": "light"
          },
          "paper_bgcolor": "white",
          "plot_bgcolor": "#E5ECF6",
          "polar": {
           "angularaxis": {
            "gridcolor": "white",
            "linecolor": "white",
            "ticks": ""
           },
           "bgcolor": "#E5ECF6",
           "radialaxis": {
            "gridcolor": "white",
            "linecolor": "white",
            "ticks": ""
           }
          },
          "scene": {
           "xaxis": {
            "backgroundcolor": "#E5ECF6",
            "gridcolor": "white",
            "gridwidth": 2,
            "linecolor": "white",
            "showbackground": true,
            "ticks": "",
            "zerolinecolor": "white"
           },
           "yaxis": {
            "backgroundcolor": "#E5ECF6",
            "gridcolor": "white",
            "gridwidth": 2,
            "linecolor": "white",
            "showbackground": true,
            "ticks": "",
            "zerolinecolor": "white"
           },
           "zaxis": {
            "backgroundcolor": "#E5ECF6",
            "gridcolor": "white",
            "gridwidth": 2,
            "linecolor": "white",
            "showbackground": true,
            "ticks": "",
            "zerolinecolor": "white"
           }
          },
          "shapedefaults": {
           "line": {
            "color": "#2a3f5f"
           }
          },
          "ternary": {
           "aaxis": {
            "gridcolor": "white",
            "linecolor": "white",
            "ticks": ""
           },
           "baxis": {
            "gridcolor": "white",
            "linecolor": "white",
            "ticks": ""
           },
           "bgcolor": "#E5ECF6",
           "caxis": {
            "gridcolor": "white",
            "linecolor": "white",
            "ticks": ""
           }
          },
          "title": {
           "x": 0.05
          },
          "xaxis": {
           "automargin": true,
           "gridcolor": "white",
           "linecolor": "white",
           "ticks": "",
           "title": {
            "standoff": 15
           },
           "zerolinecolor": "white",
           "zerolinewidth": 2
          },
          "yaxis": {
           "automargin": true,
           "gridcolor": "white",
           "linecolor": "white",
           "ticks": "",
           "title": {
            "standoff": 15
           },
           "zerolinecolor": "white",
           "zerolinewidth": 2
          }
         }
        },
        "width": 900,
        "xaxis": {
         "anchor": "y",
         "domain": [
          0,
          0.98
         ],
         "dtick": 1,
         "range": [
          1986,
          2016
         ],
         "title": {
          "text": ""
         }
        },
        "xaxis2": {
         "anchor": "y2",
         "domain": [
          0,
          0.98
         ],
         "dtick": 1,
         "matches": "x",
         "showticklabels": false
        },
        "xaxis3": {
         "anchor": "y3",
         "domain": [
          0,
          0.98
         ],
         "dtick": 1,
         "matches": "x",
         "showticklabels": false
        },
        "yaxis": {
         "anchor": "x",
         "domain": [
          0,
          0.32666666666666666
         ],
         "title": {
          "text": "Yield (mt/ha)"
         }
        },
        "yaxis2": {
         "anchor": "x2",
         "domain": [
          0.33666666666666667,
          0.6633333333333333
         ],
         "title": {
          "text": "Area (ha)"
         }
        },
        "yaxis3": {
         "anchor": "x3",
         "domain": [
          0.6733333333333333,
          1
         ],
         "title": {
          "text": "Production (mt)"
         }
        }
       }
      },
      "text/html": [
       "<div>                            <div id=\"7adbdec6-bf14-4a3c-9904-9e4de3641e16\" class=\"plotly-graph-div\" style=\"height:600px; width:900px;\"></div>            <script type=\"text/javascript\">                require([\"plotly\"], function(Plotly) {                    window.PLOTLYENV=window.PLOTLYENV || {};                                    if (document.getElementById(\"7adbdec6-bf14-4a3c-9904-9e4de3641e16\")) {                    Plotly.newPlot(                        \"7adbdec6-bf14-4a3c-9904-9e4de3641e16\",                        [{\"hovertemplate\":\"fnid=SL1960A20101<br>indicator=production<br>year=%{x}<br>value=%{y}<extra></extra>\",\"legendgroup\":\"SL1960A20101\",\"line\":{\"color\":\"#636efa\",\"dash\":\"solid\"},\"marker\":{\"symbol\":\"circle\"},\"mode\":\"markers+lines\",\"name\":\"SL1960A20101\",\"showlegend\":true,\"x\":[1986,1987,1988,1989,1990,1991,1992,1993,1994,1995,1996,1997,1998,1999,2000,2001,2002,2003,2004,2005,2006,2007,2008,2009,2010,2011,2012,2013,2014,2015,2016],\"xaxis\":\"x3\",\"y\":[226.0,null,null,null,null,null,null,null,null,null,null,null,null,null,null,null,null,null,null,null,null,null,null,null,null,null,null,null,null,715.0,631.0],\"yaxis\":\"y3\",\"type\":\"scattergl\",\"connectgaps\":false},{\"hovertemplate\":\"fnid=SL1960A20101<br>indicator=area<br>year=%{x}<br>value=%{y}<extra></extra>\",\"legendgroup\":\"SL1960A20101\",\"line\":{\"color\":\"#636efa\",\"dash\":\"solid\"},\"marker\":{\"symbol\":\"circle\"},\"mode\":\"markers+lines\",\"name\":\"SL1960A20101\",\"showlegend\":false,\"x\":[1986,1987,1988,1989,1990,1991,1992,1993,1994,1995,1996,1997,1998,1999,2000,2001,2002,2003,2004,2005,2006,2007,2008,2009,2010,2011,2012,2013,2014,2015,2016],\"xaxis\":\"x2\",\"y\":[578.0,null,null,null,null,null,null,null,null,null,null,null,null,null,null,null,null,522.45,1563.0,null,null,null,null,null,null,null,null,null,null,null,null],\"yaxis\":\"y2\",\"type\":\"scattergl\",\"connectgaps\":false},{\"hovertemplate\":\"fnid=SL1960A20101<br>indicator=yield<br>year=%{x}<br>value=%{y}<extra></extra>\",\"legendgroup\":\"SL1960A20101\",\"line\":{\"color\":\"#636efa\",\"dash\":\"solid\"},\"marker\":{\"symbol\":\"circle\"},\"mode\":\"markers+lines\",\"name\":\"SL1960A20101\",\"showlegend\":false,\"x\":[1986,1987,1988,1989,1990,1991,1992,1993,1994,1995,1996,1997,1998,1999,2000,2001,2002,2003,2004,2005,2006,2007,2008,2009,2010,2011,2012,2013,2014,2015,2016],\"xaxis\":\"x\",\"y\":[0.3910034602076124,null,null,null,null,null,null,null,null,null,null,null,null,null,null,null,null,null,null,null,null,null,null,null,null,null,null,null,null,null,null],\"yaxis\":\"y\",\"type\":\"scattergl\",\"connectgaps\":false},{\"hovertemplate\":\"fnid=SL1960A20102<br>indicator=production<br>year=%{x}<br>value=%{y}<extra></extra>\",\"legendgroup\":\"SL1960A20102\",\"line\":{\"color\":\"#EF553B\",\"dash\":\"solid\"},\"marker\":{\"symbol\":\"circle\"},\"mode\":\"markers+lines\",\"name\":\"SL1960A20102\",\"showlegend\":true,\"x\":[1986,1987,1988,1989,1990,1991,1992,1993,1994,1995,1996,1997,1998,1999,2000,2001,2002,2003,2004,2005,2006,2007,2008,2009,2010,2011,2012,2013,2014,2015,2016],\"xaxis\":\"x3\",\"y\":[526.0,null,null,null,null,null,null,null,null,null,null,null,null,null,null,null,null,null,null,null,null,null,null,null,null,null,null,null,null,733.0,647.0],\"yaxis\":\"y3\",\"type\":\"scattergl\",\"connectgaps\":false},{\"hovertemplate\":\"fnid=SL1960A20102<br>indicator=area<br>year=%{x}<br>value=%{y}<extra></extra>\",\"legendgroup\":\"SL1960A20102\",\"line\":{\"color\":\"#EF553B\",\"dash\":\"solid\"},\"marker\":{\"symbol\":\"circle\"},\"mode\":\"markers+lines\",\"name\":\"SL1960A20102\",\"showlegend\":false,\"x\":[1986,1987,1988,1989,1990,1991,1992,1993,1994,1995,1996,1997,1998,1999,2000,2001,2002,2003,2004,2005,2006,2007,2008,2009,2010,2011,2012,2013,2014,2015,2016],\"xaxis\":\"x2\",\"y\":[927.0,null,null,null,null,null,null,null,null,null,null,null,null,null,null,null,null,1057.86,1424.0,null,null,null,null,null,null,null,null,null,null,null,null],\"yaxis\":\"y2\",\"type\":\"scattergl\",\"connectgaps\":false},{\"hovertemplate\":\"fnid=SL1960A20102<br>indicator=yield<br>year=%{x}<br>value=%{y}<extra></extra>\",\"legendgroup\":\"SL1960A20102\",\"line\":{\"color\":\"#EF553B\",\"dash\":\"solid\"},\"marker\":{\"symbol\":\"circle\"},\"mode\":\"markers+lines\",\"name\":\"SL1960A20102\",\"showlegend\":false,\"x\":[1986,1987,1988,1989,1990,1991,1992,1993,1994,1995,1996,1997,1998,1999,2000,2001,2002,2003,2004,2005,2006,2007,2008,2009,2010,2011,2012,2013,2014,2015,2016],\"xaxis\":\"x\",\"y\":[0.5674217907227616,null,null,null,null,null,null,null,null,null,null,null,null,null,null,null,null,null,null,null,null,null,null,null,null,null,null,null,null,null,null],\"yaxis\":\"y\",\"type\":\"scattergl\",\"connectgaps\":false},{\"hovertemplate\":\"fnid=SL1960A20103<br>indicator=production<br>year=%{x}<br>value=%{y}<extra></extra>\",\"legendgroup\":\"SL1960A20103\",\"line\":{\"color\":\"#00cc96\",\"dash\":\"solid\"},\"marker\":{\"symbol\":\"circle\"},\"mode\":\"markers+lines\",\"name\":\"SL1960A20103\",\"showlegend\":true,\"x\":[1986,1987,1988,1989,1990,1991,1992,1993,1994,1995,1996,1997,1998,1999,2000,2001,2002,2003,2004,2005,2006,2007,2008,2009,2010,2011,2012,2013,2014,2015,2016],\"xaxis\":\"x3\",\"y\":[214.0,null,null,null,null,null,null,null,null,null,null,null,null,null,null,null,null,null,null,null,null,null,null,null,null,null,null,null,null,712.0,629.0],\"yaxis\":\"y3\",\"type\":\"scattergl\",\"connectgaps\":false},{\"hovertemplate\":\"fnid=SL1960A20103<br>indicator=area<br>year=%{x}<br>value=%{y}<extra></extra>\",\"legendgroup\":\"SL1960A20103\",\"line\":{\"color\":\"#00cc96\",\"dash\":\"solid\"},\"marker\":{\"symbol\":\"circle\"},\"mode\":\"markers+lines\",\"name\":\"SL1960A20103\",\"showlegend\":false,\"x\":[1986,1987,1988,1989,1990,1991,1992,1993,1994,1995,1996,1997,1998,1999,2000,2001,2002,2003,2004,2005,2006,2007,2008,2009,2010,2011,2012,2013,2014,2015,2016],\"xaxis\":\"x2\",\"y\":[489.0,null,null,null,null,null,null,null,null,null,null,null,null,null,null,null,null,1611.9,2025.0,null,null,null,null,null,null,null,null,null,null,null,null],\"yaxis\":\"y2\",\"type\":\"scattergl\",\"connectgaps\":false},{\"hovertemplate\":\"fnid=SL1960A20103<br>indicator=yield<br>year=%{x}<br>value=%{y}<extra></extra>\",\"legendgroup\":\"SL1960A20103\",\"line\":{\"color\":\"#00cc96\",\"dash\":\"solid\"},\"marker\":{\"symbol\":\"circle\"},\"mode\":\"markers+lines\",\"name\":\"SL1960A20103\",\"showlegend\":false,\"x\":[1986,1987,1988,1989,1990,1991,1992,1993,1994,1995,1996,1997,1998,1999,2000,2001,2002,2003,2004,2005,2006,2007,2008,2009,2010,2011,2012,2013,2014,2015,2016],\"xaxis\":\"x\",\"y\":[0.4376278118609407,null,null,null,null,null,null,null,null,null,null,null,null,null,null,null,null,null,null,null,null,null,null,null,null,null,null,null,null,null,null],\"yaxis\":\"y\",\"type\":\"scattergl\",\"connectgaps\":false},{\"hovertemplate\":\"fnid=SL1960A20201<br>indicator=production<br>year=%{x}<br>value=%{y}<extra></extra>\",\"legendgroup\":\"SL1960A20201\",\"line\":{\"color\":\"#ab63fa\",\"dash\":\"solid\"},\"marker\":{\"symbol\":\"circle\"},\"mode\":\"markers+lines\",\"name\":\"SL1960A20201\",\"showlegend\":true,\"x\":[1986,1987,1988,1989,1990,1991,1992,1993,1994,1995,1996,1997,1998,1999,2000,2001,2002,2003,2004,2005,2006,2007,2008,2009,2010,2011,2012,2013,2014,2015,2016],\"xaxis\":\"x3\",\"y\":[4994.0,null,null,null,null,null,null,null,null,null,null,null,null,null,null,null,null,null,null,null,null,null,null,null,null,null,null,null,null,4097.0,3620.0],\"yaxis\":\"y3\",\"type\":\"scattergl\",\"connectgaps\":false},{\"hovertemplate\":\"fnid=SL1960A20201<br>indicator=area<br>year=%{x}<br>value=%{y}<extra></extra>\",\"legendgroup\":\"SL1960A20201\",\"line\":{\"color\":\"#ab63fa\",\"dash\":\"solid\"},\"marker\":{\"symbol\":\"circle\"},\"mode\":\"markers+lines\",\"name\":\"SL1960A20201\",\"showlegend\":false,\"x\":[1986,1987,1988,1989,1990,1991,1992,1993,1994,1995,1996,1997,1998,1999,2000,2001,2002,2003,2004,2005,2006,2007,2008,2009,2010,2011,2012,2013,2014,2015,2016],\"xaxis\":\"x2\",\"y\":[7650.0,null,null,null,null,null,null,null,null,null,null,null,null,null,null,null,null,4598.775,4557.7,null,null,null,null,null,null,null,null,null,null,null,null],\"yaxis\":\"y2\",\"type\":\"scattergl\",\"connectgaps\":false},{\"hovertemplate\":\"fnid=SL1960A20201<br>indicator=yield<br>year=%{x}<br>value=%{y}<extra></extra>\",\"legendgroup\":\"SL1960A20201\",\"line\":{\"color\":\"#ab63fa\",\"dash\":\"solid\"},\"marker\":{\"symbol\":\"circle\"},\"mode\":\"markers+lines\",\"name\":\"SL1960A20201\",\"showlegend\":false,\"x\":[1986,1987,1988,1989,1990,1991,1992,1993,1994,1995,1996,1997,1998,1999,2000,2001,2002,2003,2004,2005,2006,2007,2008,2009,2010,2011,2012,2013,2014,2015,2016],\"xaxis\":\"x\",\"y\":[0.6528104575163398,null,null,null,null,null,null,null,null,null,null,null,null,null,null,null,null,null,null,null,null,null,null,null,null,null,null,null,null,null,null],\"yaxis\":\"y\",\"type\":\"scattergl\",\"connectgaps\":false},{\"hovertemplate\":\"fnid=SL1960A20202<br>indicator=production<br>year=%{x}<br>value=%{y}<extra></extra>\",\"legendgroup\":\"SL1960A20202\",\"line\":{\"color\":\"#FFA15A\",\"dash\":\"solid\"},\"marker\":{\"symbol\":\"circle\"},\"mode\":\"markers+lines\",\"name\":\"SL1960A20202\",\"showlegend\":true,\"x\":[1986,1987,1988,1989,1990,1991,1992,1993,1994,1995,1996,1997,1998,1999,2000,2001,2002,2003,2004,2005,2006,2007,2008,2009,2010,2011,2012,2013,2014,2015,2016],\"xaxis\":\"x3\",\"y\":[621.0,null,null,null,null,null,null,null,null,null,null,null,null,null,null,null,null,null,null,null,null,null,null,null,null,null,null,null,null,5074.0,4484.0],\"yaxis\":\"y3\",\"type\":\"scattergl\",\"connectgaps\":false},{\"hovertemplate\":\"fnid=SL1960A20202<br>indicator=area<br>year=%{x}<br>value=%{y}<extra></extra>\",\"legendgroup\":\"SL1960A20202\",\"line\":{\"color\":\"#FFA15A\",\"dash\":\"solid\"},\"marker\":{\"symbol\":\"circle\"},\"mode\":\"markers+lines\",\"name\":\"SL1960A20202\",\"showlegend\":false,\"x\":[1986,1987,1988,1989,1990,1991,1992,1993,1994,1995,1996,1997,1998,1999,2000,2001,2002,2003,2004,2005,2006,2007,2008,2009,2010,2011,2012,2013,2014,2015,2016],\"xaxis\":\"x2\",\"y\":[1015.0,null,null,null,null,null,null,null,null,null,null,null,null,null,null,null,null,510.3,2713.0,null,null,null,null,null,null,null,null,null,null,null,null],\"yaxis\":\"y2\",\"type\":\"scattergl\",\"connectgaps\":false},{\"hovertemplate\":\"fnid=SL1960A20202<br>indicator=yield<br>year=%{x}<br>value=%{y}<extra></extra>\",\"legendgroup\":\"SL1960A20202\",\"line\":{\"color\":\"#FFA15A\",\"dash\":\"solid\"},\"marker\":{\"symbol\":\"circle\"},\"mode\":\"markers+lines\",\"name\":\"SL1960A20202\",\"showlegend\":false,\"x\":[1986,1987,1988,1989,1990,1991,1992,1993,1994,1995,1996,1997,1998,1999,2000,2001,2002,2003,2004,2005,2006,2007,2008,2009,2010,2011,2012,2013,2014,2015,2016],\"xaxis\":\"x\",\"y\":[0.6118226600985222,null,null,null,null,null,null,null,null,null,null,null,null,null,null,null,null,null,null,null,null,null,null,null,null,null,null,null,null,null,null],\"yaxis\":\"y\",\"type\":\"scattergl\",\"connectgaps\":false},{\"hovertemplate\":\"fnid=SL1960A20203<br>indicator=production<br>year=%{x}<br>value=%{y}<extra></extra>\",\"legendgroup\":\"SL1960A20203\",\"line\":{\"color\":\"#19d3f3\",\"dash\":\"solid\"},\"marker\":{\"symbol\":\"circle\"},\"mode\":\"markers+lines\",\"name\":\"SL1960A20203\",\"showlegend\":true,\"x\":[1986,1987,1988,1989,1990,1991,1992,1993,1994,1995,1996,1997,1998,1999,2000,2001,2002,2003,2004,2005,2006,2007,2008,2009,2010,2011,2012,2013,2014,2015,2016],\"xaxis\":\"x3\",\"y\":[4575.0,null,null,null,null,null,null,null,null,null,null,null,null,null,null,null,null,null,null,null,null,null,null,null,null,null,null,null,null,1486.0,1313.0],\"yaxis\":\"y3\",\"type\":\"scattergl\",\"connectgaps\":false},{\"hovertemplate\":\"fnid=SL1960A20203<br>indicator=area<br>year=%{x}<br>value=%{y}<extra></extra>\",\"legendgroup\":\"SL1960A20203\",\"line\":{\"color\":\"#19d3f3\",\"dash\":\"solid\"},\"marker\":{\"symbol\":\"circle\"},\"mode\":\"markers+lines\",\"name\":\"SL1960A20203\",\"showlegend\":false,\"x\":[1986,1987,1988,1989,1990,1991,1992,1993,1994,1995,1996,1997,1998,1999,2000,2001,2002,2003,2004,2005,2006,2007,2008,2009,2010,2011,2012,2013,2014,2015,2016],\"xaxis\":\"x2\",\"y\":[6229.0,null,null,null,null,null,null,null,null,null,null,null,null,null,null,null,null,61568.1,50288.0,null,null,null,null,null,null,null,null,null,null,null,null],\"yaxis\":\"y2\",\"type\":\"scattergl\",\"connectgaps\":false},{\"hovertemplate\":\"fnid=SL1960A20203<br>indicator=yield<br>year=%{x}<br>value=%{y}<extra></extra>\",\"legendgroup\":\"SL1960A20203\",\"line\":{\"color\":\"#19d3f3\",\"dash\":\"solid\"},\"marker\":{\"symbol\":\"circle\"},\"mode\":\"markers+lines\",\"name\":\"SL1960A20203\",\"showlegend\":false,\"x\":[1986,1987,1988,1989,1990,1991,1992,1993,1994,1995,1996,1997,1998,1999,2000,2001,2002,2003,2004,2005,2006,2007,2008,2009,2010,2011,2012,2013,2014,2015,2016],\"xaxis\":\"x\",\"y\":[0.7344678118478086,null,null,null,null,null,null,null,null,null,null,null,null,null,null,null,null,null,null,null,null,null,null,null,null,null,null,null,null,null,null],\"yaxis\":\"y\",\"type\":\"scattergl\",\"connectgaps\":false},{\"hovertemplate\":\"fnid=SL1960A20204<br>indicator=production<br>year=%{x}<br>value=%{y}<extra></extra>\",\"legendgroup\":\"SL1960A20204\",\"line\":{\"color\":\"#FF6692\",\"dash\":\"solid\"},\"marker\":{\"symbol\":\"circle\"},\"mode\":\"markers+lines\",\"name\":\"SL1960A20204\",\"showlegend\":true,\"x\":[1986,1987,1988,1989,1990,1991,1992,1993,1994,1995,1996,1997,1998,1999,2000,2001,2002,2003,2004,2005,2006,2007,2008,2009,2010,2011,2012,2013,2014,2015,2016],\"xaxis\":\"x3\",\"y\":[254.0,null,null,null,null,null,null,null,null,null,null,null,null,null,null,null,null,null,null,null,null,null,null,null,null,null,null,null,null,3970.0,3508.0],\"yaxis\":\"y3\",\"type\":\"scattergl\",\"connectgaps\":false},{\"hovertemplate\":\"fnid=SL1960A20204<br>indicator=area<br>year=%{x}<br>value=%{y}<extra></extra>\",\"legendgroup\":\"SL1960A20204\",\"line\":{\"color\":\"#FF6692\",\"dash\":\"solid\"},\"marker\":{\"symbol\":\"circle\"},\"mode\":\"markers+lines\",\"name\":\"SL1960A20204\",\"showlegend\":false,\"x\":[1986,1987,1988,1989,1990,1991,1992,1993,1994,1995,1996,1997,1998,1999,2000,2001,2002,2003,2004,2005,2006,2007,2008,2009,2010,2011,2012,2013,2014,2015,2016],\"xaxis\":\"x2\",\"y\":[598.0,null,null,null,null,null,null,null,null,null,null,null,null,null,null,null,null,720.9,2965.0,null,null,null,null,null,null,null,null,null,null,null,null],\"yaxis\":\"y2\",\"type\":\"scattergl\",\"connectgaps\":false},{\"hovertemplate\":\"fnid=SL1960A20204<br>indicator=yield<br>year=%{x}<br>value=%{y}<extra></extra>\",\"legendgroup\":\"SL1960A20204\",\"line\":{\"color\":\"#FF6692\",\"dash\":\"solid\"},\"marker\":{\"symbol\":\"circle\"},\"mode\":\"markers+lines\",\"name\":\"SL1960A20204\",\"showlegend\":false,\"x\":[1986,1987,1988,1989,1990,1991,1992,1993,1994,1995,1996,1997,1998,1999,2000,2001,2002,2003,2004,2005,2006,2007,2008,2009,2010,2011,2012,2013,2014,2015,2016],\"xaxis\":\"x\",\"y\":[0.4247491638795986,null,null,null,null,null,null,null,null,null,null,null,null,null,null,null,null,null,null,null,null,null,null,null,null,null,null,null,null,null,null],\"yaxis\":\"y\",\"type\":\"scattergl\",\"connectgaps\":false},{\"hovertemplate\":\"fnid=SL1960A20205<br>indicator=production<br>year=%{x}<br>value=%{y}<extra></extra>\",\"legendgroup\":\"SL1960A20205\",\"line\":{\"color\":\"#B6E880\",\"dash\":\"solid\"},\"marker\":{\"symbol\":\"circle\"},\"mode\":\"markers+lines\",\"name\":\"SL1960A20205\",\"showlegend\":true,\"x\":[1986,1987,1988,1989,1990,1991,1992,1993,1994,1995,1996,1997,1998,1999,2000,2001,2002,2003,2004,2005,2006,2007,2008,2009,2010,2011,2012,2013,2014,2015,2016],\"xaxis\":\"x3\",\"y\":[4305.0,null,null,null,null,null,null,null,null,null,null,null,null,null,null,null,null,null,null,null,null,null,null,null,null,null,null,null,null,1172.0,1036.0],\"yaxis\":\"y3\",\"type\":\"scattergl\",\"connectgaps\":false},{\"hovertemplate\":\"fnid=SL1960A20205<br>indicator=area<br>year=%{x}<br>value=%{y}<extra></extra>\",\"legendgroup\":\"SL1960A20205\",\"line\":{\"color\":\"#B6E880\",\"dash\":\"solid\"},\"marker\":{\"symbol\":\"circle\"},\"mode\":\"markers+lines\",\"name\":\"SL1960A20205\",\"showlegend\":false,\"x\":[1986,1987,1988,1989,1990,1991,1992,1993,1994,1995,1996,1997,1998,1999,2000,2001,2002,2003,2004,2005,2006,2007,2008,2009,2010,2011,2012,2013,2014,2015,2016],\"xaxis\":\"x2\",\"y\":[6595.0,null,null,null,null,null,null,null,null,null,null,null,null,null,null,null,null,4459.05,3158.0,null,null,null,null,null,null,null,null,null,null,null,null],\"yaxis\":\"y2\",\"type\":\"scattergl\",\"connectgaps\":false},{\"hovertemplate\":\"fnid=SL1960A20205<br>indicator=yield<br>year=%{x}<br>value=%{y}<extra></extra>\",\"legendgroup\":\"SL1960A20205\",\"line\":{\"color\":\"#B6E880\",\"dash\":\"solid\"},\"marker\":{\"symbol\":\"circle\"},\"mode\":\"markers+lines\",\"name\":\"SL1960A20205\",\"showlegend\":false,\"x\":[1986,1987,1988,1989,1990,1991,1992,1993,1994,1995,1996,1997,1998,1999,2000,2001,2002,2003,2004,2005,2006,2007,2008,2009,2010,2011,2012,2013,2014,2015,2016],\"xaxis\":\"x\",\"y\":[0.6527672479150872,null,null,null,null,null,null,null,null,null,null,null,null,null,null,null,null,null,null,null,null,null,null,null,null,null,null,null,null,null,null],\"yaxis\":\"y\",\"type\":\"scattergl\",\"connectgaps\":false},{\"hovertemplate\":\"fnid=SL1960A20301<br>indicator=production<br>year=%{x}<br>value=%{y}<extra></extra>\",\"legendgroup\":\"SL1960A20301\",\"line\":{\"color\":\"#FF97FF\",\"dash\":\"solid\"},\"marker\":{\"symbol\":\"circle\"},\"mode\":\"markers+lines\",\"name\":\"SL1960A20301\",\"showlegend\":true,\"x\":[1986,1987,1988,1989,1990,1991,1992,1993,1994,1995,1996,1997,1998,1999,2000,2001,2002,2003,2004,2005,2006,2007,2008,2009,2010,2011,2012,2013,2014,2015,2016],\"xaxis\":\"x3\",\"y\":[719.0,null,null,null,null,null,null,null,null,null,null,null,null,null,null,null,null,null,null,null,null,null,null,null,null,null,null,null,null,1901.0,1680.0],\"yaxis\":\"y3\",\"type\":\"scattergl\",\"connectgaps\":false},{\"hovertemplate\":\"fnid=SL1960A20301<br>indicator=area<br>year=%{x}<br>value=%{y}<extra></extra>\",\"legendgroup\":\"SL1960A20301\",\"line\":{\"color\":\"#FF97FF\",\"dash\":\"solid\"},\"marker\":{\"symbol\":\"circle\"},\"mode\":\"markers+lines\",\"name\":\"SL1960A20301\",\"showlegend\":false,\"x\":[1986,1987,1988,1989,1990,1991,1992,1993,1994,1995,1996,1997,1998,1999,2000,2001,2002,2003,2004,2005,2006,2007,2008,2009,2010,2011,2012,2013,2014,2015,2016],\"xaxis\":\"x2\",\"y\":[968.0,null,null,null,null,null,null,null,null,null,null,null,null,null,null,null,null,1042.875,2293.0,null,null,null,null,null,null,null,null,null,null,null,null],\"yaxis\":\"y2\",\"type\":\"scattergl\",\"connectgaps\":false},{\"hovertemplate\":\"fnid=SL1960A20301<br>indicator=yield<br>year=%{x}<br>value=%{y}<extra></extra>\",\"legendgroup\":\"SL1960A20301\",\"line\":{\"color\":\"#FF97FF\",\"dash\":\"solid\"},\"marker\":{\"symbol\":\"circle\"},\"mode\":\"markers+lines\",\"name\":\"SL1960A20301\",\"showlegend\":false,\"x\":[1986,1987,1988,1989,1990,1991,1992,1993,1994,1995,1996,1997,1998,1999,2000,2001,2002,2003,2004,2005,2006,2007,2008,2009,2010,2011,2012,2013,2014,2015,2016],\"xaxis\":\"x\",\"y\":[0.7427685950413223,null,null,null,null,null,null,null,null,null,null,null,null,null,null,null,null,null,null,null,null,null,null,null,null,null,null,null,null,null,null],\"yaxis\":\"y\",\"type\":\"scattergl\",\"connectgaps\":false},{\"hovertemplate\":\"fnid=SL1960A20302<br>indicator=production<br>year=%{x}<br>value=%{y}<extra></extra>\",\"legendgroup\":\"SL1960A20302\",\"line\":{\"color\":\"#FECB52\",\"dash\":\"solid\"},\"marker\":{\"symbol\":\"circle\"},\"mode\":\"markers+lines\",\"name\":\"SL1960A20302\",\"showlegend\":true,\"x\":[1986,1987,1988,1989,1990,1991,1992,1993,1994,1995,1996,1997,1998,1999,2000,2001,2002,2003,2004,2005,2006,2007,2008,2009,2010,2011,2012,2013,2014,2015,2016],\"xaxis\":\"x3\",\"y\":[208.0,null,null,null,null,null,null,null,null,null,null,null,null,null,null,null,null,null,null,null,null,null,null,null,null,null,null,null,null,715.0,632.0],\"yaxis\":\"y3\",\"type\":\"scattergl\",\"connectgaps\":false},{\"hovertemplate\":\"fnid=SL1960A20302<br>indicator=area<br>year=%{x}<br>value=%{y}<extra></extra>\",\"legendgroup\":\"SL1960A20302\",\"line\":{\"color\":\"#FECB52\",\"dash\":\"solid\"},\"marker\":{\"symbol\":\"circle\"},\"mode\":\"markers+lines\",\"name\":\"SL1960A20302\",\"showlegend\":false,\"x\":[1986,1987,1988,1989,1990,1991,1992,1993,1994,1995,1996,1997,1998,1999,2000,2001,2002,2003,2004,2005,2006,2007,2008,2009,2010,2011,2012,2013,2014,2015,2016],\"xaxis\":\"x2\",\"y\":[314.0,null,null,null,null,null,null,null,null,null,null,null,null,null,null,null,null,387.585,644.0,null,null,null,null,null,null,null,null,null,null,null,null],\"yaxis\":\"y2\",\"type\":\"scattergl\",\"connectgaps\":false},{\"hovertemplate\":\"fnid=SL1960A20302<br>indicator=yield<br>year=%{x}<br>value=%{y}<extra></extra>\",\"legendgroup\":\"SL1960A20302\",\"line\":{\"color\":\"#FECB52\",\"dash\":\"solid\"},\"marker\":{\"symbol\":\"circle\"},\"mode\":\"markers+lines\",\"name\":\"SL1960A20302\",\"showlegend\":false,\"x\":[1986,1987,1988,1989,1990,1991,1992,1993,1994,1995,1996,1997,1998,1999,2000,2001,2002,2003,2004,2005,2006,2007,2008,2009,2010,2011,2012,2013,2014,2015,2016],\"xaxis\":\"x\",\"y\":[0.6624203821656051,null,null,null,null,null,null,null,null,null,null,null,null,null,null,null,null,null,null,null,null,null,null,null,null,null,null,null,null,null,null],\"yaxis\":\"y\",\"type\":\"scattergl\",\"connectgaps\":false},{\"hovertemplate\":\"fnid=SL1960A20303<br>indicator=production<br>year=%{x}<br>value=%{y}<extra></extra>\",\"legendgroup\":\"SL1960A20303\",\"line\":{\"color\":\"#636efa\",\"dash\":\"solid\"},\"marker\":{\"symbol\":\"circle\"},\"mode\":\"markers+lines\",\"name\":\"SL1960A20303\",\"showlegend\":true,\"x\":[1986,1987,1988,1989,1990,1991,1992,1993,1994,1995,1996,1997,1998,1999,2000,2001,2002,2003,2004,2005,2006,2007,2008,2009,2010,2011,2012,2013,2014,2015,2016],\"xaxis\":\"x3\",\"y\":[1016.0,null,null,null,null,null,null,null,null,null,null,null,null,null,null,null,null,null,null,null,null,null,null,null,null,null,null,null,null,1280.0,1131.0],\"yaxis\":\"y3\",\"type\":\"scattergl\",\"connectgaps\":false},{\"hovertemplate\":\"fnid=SL1960A20303<br>indicator=area<br>year=%{x}<br>value=%{y}<extra></extra>\",\"legendgroup\":\"SL1960A20303\",\"line\":{\"color\":\"#636efa\",\"dash\":\"solid\"},\"marker\":{\"symbol\":\"circle\"},\"mode\":\"markers+lines\",\"name\":\"SL1960A20303\",\"showlegend\":false,\"x\":[1986,1987,1988,1989,1990,1991,1992,1993,1994,1995,1996,1997,1998,1999,2000,2001,2002,2003,2004,2005,2006,2007,2008,2009,2010,2011,2012,2013,2014,2015,2016],\"xaxis\":\"x2\",\"y\":[1318.0,null,null,null,null,null,null,null,null,null,null,null,null,null,null,null,null,3363.525,3960.0,null,null,null,null,null,null,null,null,null,null,null,null],\"yaxis\":\"y2\",\"type\":\"scattergl\",\"connectgaps\":false},{\"hovertemplate\":\"fnid=SL1960A20303<br>indicator=yield<br>year=%{x}<br>value=%{y}<extra></extra>\",\"legendgroup\":\"SL1960A20303\",\"line\":{\"color\":\"#636efa\",\"dash\":\"solid\"},\"marker\":{\"symbol\":\"circle\"},\"mode\":\"markers+lines\",\"name\":\"SL1960A20303\",\"showlegend\":false,\"x\":[1986,1987,1988,1989,1990,1991,1992,1993,1994,1995,1996,1997,1998,1999,2000,2001,2002,2003,2004,2005,2006,2007,2008,2009,2010,2011,2012,2013,2014,2015,2016],\"xaxis\":\"x\",\"y\":[0.7708649468892261,null,null,null,null,null,null,null,null,null,null,null,null,null,null,null,null,null,null,null,null,null,null,null,null,null,null,null,null,null,null],\"yaxis\":\"y\",\"type\":\"scattergl\",\"connectgaps\":false},{\"hovertemplate\":\"fnid=SL1960A20304<br>indicator=production<br>year=%{x}<br>value=%{y}<extra></extra>\",\"legendgroup\":\"SL1960A20304\",\"line\":{\"color\":\"#EF553B\",\"dash\":\"solid\"},\"marker\":{\"symbol\":\"circle\"},\"mode\":\"markers+lines\",\"name\":\"SL1960A20304\",\"showlegend\":true,\"x\":[1986,1987,1988,1989,1990,1991,1992,1993,1994,1995,1996,1997,1998,1999,2000,2001,2002,2003,2004,2005,2006,2007,2008,2009,2010,2011,2012,2013,2014,2015,2016],\"xaxis\":\"x3\",\"y\":[489.0,null,null,null,null,null,null,null,null,null,null,null,null,null,null,null,null,null,null,null,null,null,null,null,null,null,null,null,null,915.0,809.0],\"yaxis\":\"y3\",\"type\":\"scattergl\",\"connectgaps\":false},{\"hovertemplate\":\"fnid=SL1960A20304<br>indicator=area<br>year=%{x}<br>value=%{y}<extra></extra>\",\"legendgroup\":\"SL1960A20304\",\"line\":{\"color\":\"#EF553B\",\"dash\":\"solid\"},\"marker\":{\"symbol\":\"circle\"},\"mode\":\"markers+lines\",\"name\":\"SL1960A20304\",\"showlegend\":false,\"x\":[1986,1987,1988,1989,1990,1991,1992,1993,1994,1995,1996,1997,1998,1999,2000,2001,2002,2003,2004,2005,2006,2007,2008,2009,2010,2011,2012,2013,2014,2015,2016],\"xaxis\":\"x2\",\"y\":[1007.0,null,null,null,null,null,null,null,null,null,null,null,null,null,null,null,null,428.085,1894.0,null,null,null,null,null,null,null,null,null,null,null,null],\"yaxis\":\"y2\",\"type\":\"scattergl\",\"connectgaps\":false},{\"hovertemplate\":\"fnid=SL1960A20304<br>indicator=yield<br>year=%{x}<br>value=%{y}<extra></extra>\",\"legendgroup\":\"SL1960A20304\",\"line\":{\"color\":\"#EF553B\",\"dash\":\"solid\"},\"marker\":{\"symbol\":\"circle\"},\"mode\":\"markers+lines\",\"name\":\"SL1960A20304\",\"showlegend\":false,\"x\":[1986,1987,1988,1989,1990,1991,1992,1993,1994,1995,1996,1997,1998,1999,2000,2001,2002,2003,2004,2005,2006,2007,2008,2009,2010,2011,2012,2013,2014,2015,2016],\"xaxis\":\"x\",\"y\":[0.4856007944389275,null,null,null,null,null,null,null,null,null,null,null,null,null,null,null,null,null,null,null,null,null,null,null,null,null,null,null,null,null,null],\"yaxis\":\"y\",\"type\":\"scattergl\",\"connectgaps\":false},{\"hovertemplate\":\"fnid=SL1960A20401<br>indicator=production<br>year=%{x}<br>value=%{y}<extra></extra>\",\"legendgroup\":\"SL1960A20401\",\"line\":{\"color\":\"#00cc96\",\"dash\":\"solid\"},\"marker\":{\"symbol\":\"circle\"},\"mode\":\"markers+lines\",\"name\":\"SL1960A20401\",\"showlegend\":true,\"x\":[1986,1987,1988,1989,1990,1991,1992,1993,1994,1995,1996,1997,1998,1999,2000,2001,2002,2003,2004,2005,2006,2007,2008,2009,2010,2011,2012,2013,2014,2015,2016],\"xaxis\":\"x3\",\"y\":[null,null,null,null,null,null,null,null,null,null,null,null,null,null,null,null,null,null,null,null,null,null,null,null,null,null,null,null,null,2567.0,2268.0],\"yaxis\":\"y3\",\"type\":\"scattergl\",\"connectgaps\":false},{\"hovertemplate\":\"fnid=SL1960A20401<br>indicator=area<br>year=%{x}<br>value=%{y}<extra></extra>\",\"legendgroup\":\"SL1960A20401\",\"line\":{\"color\":\"#00cc96\",\"dash\":\"solid\"},\"marker\":{\"symbol\":\"circle\"},\"mode\":\"markers+lines\",\"name\":\"SL1960A20401\",\"showlegend\":false,\"x\":[1986,1987,1988,1989,1990,1991,1992,1993,1994,1995,1996,1997,1998,1999,2000,2001,2002,2003,2004,2005,2006,2007,2008,2009,2010,2011,2012,2013,2014,2015,2016],\"xaxis\":\"x2\",\"y\":[null,null,null,null,null,null,null,null,null,null,null,null,null,null,null,null,null,1240.11,3232.0,null,null,null,null,null,null,null,null,null,null,null,null],\"yaxis\":\"y2\",\"type\":\"scattergl\",\"connectgaps\":false}],                        {\"template\":{\"data\":{\"histogram2dcontour\":[{\"type\":\"histogram2dcontour\",\"colorbar\":{\"outlinewidth\":0,\"ticks\":\"\"},\"colorscale\":[[0.0,\"#0d0887\"],[0.1111111111111111,\"#46039f\"],[0.2222222222222222,\"#7201a8\"],[0.3333333333333333,\"#9c179e\"],[0.4444444444444444,\"#bd3786\"],[0.5555555555555556,\"#d8576b\"],[0.6666666666666666,\"#ed7953\"],[0.7777777777777778,\"#fb9f3a\"],[0.8888888888888888,\"#fdca26\"],[1.0,\"#f0f921\"]]}],\"choropleth\":[{\"type\":\"choropleth\",\"colorbar\":{\"outlinewidth\":0,\"ticks\":\"\"}}],\"histogram2d\":[{\"type\":\"histogram2d\",\"colorbar\":{\"outlinewidth\":0,\"ticks\":\"\"},\"colorscale\":[[0.0,\"#0d0887\"],[0.1111111111111111,\"#46039f\"],[0.2222222222222222,\"#7201a8\"],[0.3333333333333333,\"#9c179e\"],[0.4444444444444444,\"#bd3786\"],[0.5555555555555556,\"#d8576b\"],[0.6666666666666666,\"#ed7953\"],[0.7777777777777778,\"#fb9f3a\"],[0.8888888888888888,\"#fdca26\"],[1.0,\"#f0f921\"]]}],\"heatmap\":[{\"type\":\"heatmap\",\"colorbar\":{\"outlinewidth\":0,\"ticks\":\"\"},\"colorscale\":[[0.0,\"#0d0887\"],[0.1111111111111111,\"#46039f\"],[0.2222222222222222,\"#7201a8\"],[0.3333333333333333,\"#9c179e\"],[0.4444444444444444,\"#bd3786\"],[0.5555555555555556,\"#d8576b\"],[0.6666666666666666,\"#ed7953\"],[0.7777777777777778,\"#fb9f3a\"],[0.8888888888888888,\"#fdca26\"],[1.0,\"#f0f921\"]]}],\"heatmapgl\":[{\"type\":\"heatmapgl\",\"colorbar\":{\"outlinewidth\":0,\"ticks\":\"\"},\"colorscale\":[[0.0,\"#0d0887\"],[0.1111111111111111,\"#46039f\"],[0.2222222222222222,\"#7201a8\"],[0.3333333333333333,\"#9c179e\"],[0.4444444444444444,\"#bd3786\"],[0.5555555555555556,\"#d8576b\"],[0.6666666666666666,\"#ed7953\"],[0.7777777777777778,\"#fb9f3a\"],[0.8888888888888888,\"#fdca26\"],[1.0,\"#f0f921\"]]}],\"contourcarpet\":[{\"type\":\"contourcarpet\",\"colorbar\":{\"outlinewidth\":0,\"ticks\":\"\"}}],\"contour\":[{\"type\":\"contour\",\"colorbar\":{\"outlinewidth\":0,\"ticks\":\"\"},\"colorscale\":[[0.0,\"#0d0887\"],[0.1111111111111111,\"#46039f\"],[0.2222222222222222,\"#7201a8\"],[0.3333333333333333,\"#9c179e\"],[0.4444444444444444,\"#bd3786\"],[0.5555555555555556,\"#d8576b\"],[0.6666666666666666,\"#ed7953\"],[0.7777777777777778,\"#fb9f3a\"],[0.8888888888888888,\"#fdca26\"],[1.0,\"#f0f921\"]]}],\"surface\":[{\"type\":\"surface\",\"colorbar\":{\"outlinewidth\":0,\"ticks\":\"\"},\"colorscale\":[[0.0,\"#0d0887\"],[0.1111111111111111,\"#46039f\"],[0.2222222222222222,\"#7201a8\"],[0.3333333333333333,\"#9c179e\"],[0.4444444444444444,\"#bd3786\"],[0.5555555555555556,\"#d8576b\"],[0.6666666666666666,\"#ed7953\"],[0.7777777777777778,\"#fb9f3a\"],[0.8888888888888888,\"#fdca26\"],[1.0,\"#f0f921\"]]}],\"mesh3d\":[{\"type\":\"mesh3d\",\"colorbar\":{\"outlinewidth\":0,\"ticks\":\"\"}}],\"scatter\":[{\"fillpattern\":{\"fillmode\":\"overlay\",\"size\":10,\"solidity\":0.2},\"type\":\"scatter\"}],\"parcoords\":[{\"type\":\"parcoords\",\"line\":{\"colorbar\":{\"outlinewidth\":0,\"ticks\":\"\"}}}],\"scatterpolargl\":[{\"type\":\"scatterpolargl\",\"marker\":{\"colorbar\":{\"outlinewidth\":0,\"ticks\":\"\"}}}],\"bar\":[{\"error_x\":{\"color\":\"#2a3f5f\"},\"error_y\":{\"color\":\"#2a3f5f\"},\"marker\":{\"line\":{\"color\":\"#E5ECF6\",\"width\":0.5},\"pattern\":{\"fillmode\":\"overlay\",\"size\":10,\"solidity\":0.2}},\"type\":\"bar\"}],\"scattergeo\":[{\"type\":\"scattergeo\",\"marker\":{\"colorbar\":{\"outlinewidth\":0,\"ticks\":\"\"}}}],\"scatterpolar\":[{\"type\":\"scatterpolar\",\"marker\":{\"colorbar\":{\"outlinewidth\":0,\"ticks\":\"\"}}}],\"histogram\":[{\"marker\":{\"pattern\":{\"fillmode\":\"overlay\",\"size\":10,\"solidity\":0.2}},\"type\":\"histogram\"}],\"scattergl\":[{\"type\":\"scattergl\",\"marker\":{\"colorbar\":{\"outlinewidth\":0,\"ticks\":\"\"}}}],\"scatter3d\":[{\"type\":\"scatter3d\",\"line\":{\"colorbar\":{\"outlinewidth\":0,\"ticks\":\"\"}},\"marker\":{\"colorbar\":{\"outlinewidth\":0,\"ticks\":\"\"}}}],\"scattermapbox\":[{\"type\":\"scattermapbox\",\"marker\":{\"colorbar\":{\"outlinewidth\":0,\"ticks\":\"\"}}}],\"scatterternary\":[{\"type\":\"scatterternary\",\"marker\":{\"colorbar\":{\"outlinewidth\":0,\"ticks\":\"\"}}}],\"scattercarpet\":[{\"type\":\"scattercarpet\",\"marker\":{\"colorbar\":{\"outlinewidth\":0,\"ticks\":\"\"}}}],\"carpet\":[{\"aaxis\":{\"endlinecolor\":\"#2a3f5f\",\"gridcolor\":\"white\",\"linecolor\":\"white\",\"minorgridcolor\":\"white\",\"startlinecolor\":\"#2a3f5f\"},\"baxis\":{\"endlinecolor\":\"#2a3f5f\",\"gridcolor\":\"white\",\"linecolor\":\"white\",\"minorgridcolor\":\"white\",\"startlinecolor\":\"#2a3f5f\"},\"type\":\"carpet\"}],\"table\":[{\"cells\":{\"fill\":{\"color\":\"#EBF0F8\"},\"line\":{\"color\":\"white\"}},\"header\":{\"fill\":{\"color\":\"#C8D4E3\"},\"line\":{\"color\":\"white\"}},\"type\":\"table\"}],\"barpolar\":[{\"marker\":{\"line\":{\"color\":\"#E5ECF6\",\"width\":0.5},\"pattern\":{\"fillmode\":\"overlay\",\"size\":10,\"solidity\":0.2}},\"type\":\"barpolar\"}],\"pie\":[{\"automargin\":true,\"type\":\"pie\"}]},\"layout\":{\"autotypenumbers\":\"strict\",\"colorway\":[\"#636efa\",\"#EF553B\",\"#00cc96\",\"#ab63fa\",\"#FFA15A\",\"#19d3f3\",\"#FF6692\",\"#B6E880\",\"#FF97FF\",\"#FECB52\"],\"font\":{\"color\":\"#2a3f5f\"},\"hovermode\":\"closest\",\"hoverlabel\":{\"align\":\"left\"},\"paper_bgcolor\":\"white\",\"plot_bgcolor\":\"#E5ECF6\",\"polar\":{\"bgcolor\":\"#E5ECF6\",\"angularaxis\":{\"gridcolor\":\"white\",\"linecolor\":\"white\",\"ticks\":\"\"},\"radialaxis\":{\"gridcolor\":\"white\",\"linecolor\":\"white\",\"ticks\":\"\"}},\"ternary\":{\"bgcolor\":\"#E5ECF6\",\"aaxis\":{\"gridcolor\":\"white\",\"linecolor\":\"white\",\"ticks\":\"\"},\"baxis\":{\"gridcolor\":\"white\",\"linecolor\":\"white\",\"ticks\":\"\"},\"caxis\":{\"gridcolor\":\"white\",\"linecolor\":\"white\",\"ticks\":\"\"}},\"coloraxis\":{\"colorbar\":{\"outlinewidth\":0,\"ticks\":\"\"}},\"colorscale\":{\"sequential\":[[0.0,\"#0d0887\"],[0.1111111111111111,\"#46039f\"],[0.2222222222222222,\"#7201a8\"],[0.3333333333333333,\"#9c179e\"],[0.4444444444444444,\"#bd3786\"],[0.5555555555555556,\"#d8576b\"],[0.6666666666666666,\"#ed7953\"],[0.7777777777777778,\"#fb9f3a\"],[0.8888888888888888,\"#fdca26\"],[1.0,\"#f0f921\"]],\"sequentialminus\":[[0.0,\"#0d0887\"],[0.1111111111111111,\"#46039f\"],[0.2222222222222222,\"#7201a8\"],[0.3333333333333333,\"#9c179e\"],[0.4444444444444444,\"#bd3786\"],[0.5555555555555556,\"#d8576b\"],[0.6666666666666666,\"#ed7953\"],[0.7777777777777778,\"#fb9f3a\"],[0.8888888888888888,\"#fdca26\"],[1.0,\"#f0f921\"]],\"diverging\":[[0,\"#8e0152\"],[0.1,\"#c51b7d\"],[0.2,\"#de77ae\"],[0.3,\"#f1b6da\"],[0.4,\"#fde0ef\"],[0.5,\"#f7f7f7\"],[0.6,\"#e6f5d0\"],[0.7,\"#b8e186\"],[0.8,\"#7fbc41\"],[0.9,\"#4d9221\"],[1,\"#276419\"]]},\"xaxis\":{\"gridcolor\":\"white\",\"linecolor\":\"white\",\"ticks\":\"\",\"title\":{\"standoff\":15},\"zerolinecolor\":\"white\",\"automargin\":true,\"zerolinewidth\":2},\"yaxis\":{\"gridcolor\":\"white\",\"linecolor\":\"white\",\"ticks\":\"\",\"title\":{\"standoff\":15},\"zerolinecolor\":\"white\",\"automargin\":true,\"zerolinewidth\":2},\"scene\":{\"xaxis\":{\"backgroundcolor\":\"#E5ECF6\",\"gridcolor\":\"white\",\"linecolor\":\"white\",\"showbackground\":true,\"ticks\":\"\",\"zerolinecolor\":\"white\",\"gridwidth\":2},\"yaxis\":{\"backgroundcolor\":\"#E5ECF6\",\"gridcolor\":\"white\",\"linecolor\":\"white\",\"showbackground\":true,\"ticks\":\"\",\"zerolinecolor\":\"white\",\"gridwidth\":2},\"zaxis\":{\"backgroundcolor\":\"#E5ECF6\",\"gridcolor\":\"white\",\"linecolor\":\"white\",\"showbackground\":true,\"ticks\":\"\",\"zerolinecolor\":\"white\",\"gridwidth\":2}},\"shapedefaults\":{\"line\":{\"color\":\"#2a3f5f\"}},\"annotationdefaults\":{\"arrowcolor\":\"#2a3f5f\",\"arrowhead\":0,\"arrowwidth\":1},\"geo\":{\"bgcolor\":\"white\",\"landcolor\":\"#E5ECF6\",\"subunitcolor\":\"white\",\"showland\":true,\"showlakes\":true,\"lakecolor\":\"white\"},\"title\":{\"x\":0.05},\"mapbox\":{\"style\":\"light\"}}},\"xaxis\":{\"anchor\":\"y\",\"domain\":[0.0,0.98],\"title\":{\"text\":\"\"},\"range\":[1986,2016],\"dtick\":1},\"yaxis\":{\"anchor\":\"x\",\"domain\":[0.0,0.32666666666666666],\"title\":{\"text\":\"Yield (mt/ha)\"}},\"xaxis2\":{\"anchor\":\"y2\",\"domain\":[0.0,0.98],\"matches\":\"x\",\"showticklabels\":false,\"dtick\":1},\"yaxis2\":{\"anchor\":\"x2\",\"domain\":[0.33666666666666667,0.6633333333333333],\"title\":{\"text\":\"Area (ha)\"}},\"xaxis3\":{\"anchor\":\"y3\",\"domain\":[0.0,0.98],\"matches\":\"x\",\"showticklabels\":false,\"dtick\":1},\"yaxis3\":{\"anchor\":\"x3\",\"domain\":[0.6733333333333333,1.0],\"title\":{\"text\":\"Production (mt)\"}},\"annotations\":[{\"showarrow\":false,\"text\":\"\",\"textangle\":90,\"x\":0.98,\"xanchor\":\"left\",\"xref\":\"paper\",\"y\":0.16333333333333333,\"yanchor\":\"middle\",\"yref\":\"paper\"},{\"showarrow\":false,\"text\":\"\",\"textangle\":90,\"x\":0.98,\"xanchor\":\"left\",\"xref\":\"paper\",\"y\":0.5,\"yanchor\":\"middle\",\"yref\":\"paper\"},{\"showarrow\":false,\"text\":\"\",\"textangle\":90,\"x\":0.98,\"xanchor\":\"left\",\"xref\":\"paper\",\"y\":0.8366666666666667,\"yanchor\":\"middle\",\"yref\":\"paper\"},{\"align\":\"left\",\"font\":{\"color\":\"dimgrey\",\"family\":\"arial\",\"size\":15},\"showarrow\":false,\"text\":\"Production-Area-Yield time-series of SL - Groundnuts - Main season\",\"x\":-0.014,\"xref\":\"paper\",\"y\":-0.14,\"yref\":\"paper\"}],\"legend\":{\"title\":{\"text\":\"FNID\"},\"tracegroupgap\":0,\"yanchor\":\"top\",\"xanchor\":\"left\",\"y\":1.0,\"x\":1,\"font\":{\"size\":14}},\"margin\":{\"t\":0,\"r\":0,\"l\":0,\"b\":25},\"font\":{\"family\":\"arial\",\"size\":16,\"color\":\"black\"},\"width\":900,\"height\":600},                        {\"responsive\": true}                    ).then(function(){\n",
       "                            \n",
       "var gd = document.getElementById('7adbdec6-bf14-4a3c-9904-9e4de3641e16');\n",
       "var x = new MutationObserver(function (mutations, observer) {{\n",
       "        var display = window.getComputedStyle(gd).display;\n",
       "        if (!display || display === 'none') {{\n",
       "            console.log([gd, 'removed!']);\n",
       "            Plotly.purge(gd);\n",
       "            observer.disconnect();\n",
       "        }}\n",
       "}});\n",
       "\n",
       "// Listen for the removal of the full notebook cells\n",
       "var notebookContainer = gd.closest('#notebook-container');\n",
       "if (notebookContainer) {{\n",
       "    x.observe(notebookContainer, {childList: true});\n",
       "}}\n",
       "\n",
       "// Listen for the clearing of the current output cell\n",
       "var outputEl = gd.closest('.output');\n",
       "if (outputEl) {{\n",
       "    x.observe(outputEl, {childList: true});\n",
       "}}\n",
       "\n",
       "                        })                };                });            </script>        </div>"
      ]
     },
     "metadata": {},
     "output_type": "display_data"
    },
    {
     "data": {
      "application/vnd.plotly.v1+json": {
       "config": {
        "plotlyServerURL": "https://plot.ly"
       },
       "data": [
        {
         "connectgaps": false,
         "hovertemplate": "fnid=SL1960A20101<br>indicator=production<br>year=%{x}<br>value=%{y}<extra></extra>",
         "legendgroup": "SL1960A20101",
         "line": {
          "color": "#636efa",
          "dash": "solid"
         },
         "marker": {
          "symbol": "circle"
         },
         "mode": "markers+lines",
         "name": "SL1960A20101",
         "orientation": "v",
         "showlegend": true,
         "type": "scatter",
         "x": [
          2003,
          2004,
          2005,
          2006,
          2007,
          2008,
          2009,
          2010,
          2011,
          2012,
          2013,
          2014,
          2015,
          2016
         ],
         "xaxis": "x3",
         "y": [
          null,
          null,
          null,
          null,
          null,
          null,
          null,
          null,
          null,
          null,
          null,
          null,
          146600,
          159250
         ],
         "yaxis": "y3"
        },
        {
         "connectgaps": false,
         "hovertemplate": "fnid=SL1960A20101<br>indicator=area<br>year=%{x}<br>value=%{y}<extra></extra>",
         "legendgroup": "SL1960A20101",
         "line": {
          "color": "#636efa",
          "dash": "solid"
         },
         "marker": {
          "symbol": "circle"
         },
         "mode": "markers+lines",
         "name": "SL1960A20101",
         "orientation": "v",
         "showlegend": false,
         "type": "scatter",
         "x": [
          2003,
          2004,
          2005,
          2006,
          2007,
          2008,
          2009,
          2010,
          2011,
          2012,
          2013,
          2014,
          2015,
          2016
         ],
         "xaxis": "x2",
         "y": [
          768.69,
          3990,
          null,
          null,
          null,
          null,
          null,
          null,
          null,
          null,
          null,
          null,
          null,
          null
         ],
         "yaxis": "y2"
        },
        {
         "connectgaps": false,
         "hovertemplate": "fnid=SL1960A20102<br>indicator=production<br>year=%{x}<br>value=%{y}<extra></extra>",
         "legendgroup": "SL1960A20102",
         "line": {
          "color": "#EF553B",
          "dash": "solid"
         },
         "marker": {
          "symbol": "circle"
         },
         "mode": "markers+lines",
         "name": "SL1960A20102",
         "orientation": "v",
         "showlegend": true,
         "type": "scatter",
         "x": [
          2003,
          2004,
          2005,
          2006,
          2007,
          2008,
          2009,
          2010,
          2011,
          2012,
          2013,
          2014,
          2015,
          2016
         ],
         "xaxis": "x3",
         "y": [
          null,
          null,
          null,
          null,
          null,
          null,
          null,
          null,
          null,
          null,
          null,
          null,
          237936,
          258468
         ],
         "yaxis": "y3"
        },
        {
         "connectgaps": false,
         "hovertemplate": "fnid=SL1960A20102<br>indicator=area<br>year=%{x}<br>value=%{y}<extra></extra>",
         "legendgroup": "SL1960A20102",
         "line": {
          "color": "#EF553B",
          "dash": "solid"
         },
         "marker": {
          "symbol": "circle"
         },
         "mode": "markers+lines",
         "name": "SL1960A20102",
         "orientation": "v",
         "showlegend": false,
         "type": "scatter",
         "x": [
          2003,
          2004,
          2005,
          2006,
          2007,
          2008,
          2009,
          2010,
          2011,
          2012,
          2013,
          2014,
          2015,
          2016
         ],
         "xaxis": "x2",
         "y": [
          1732.59,
          3593,
          null,
          null,
          null,
          null,
          null,
          null,
          null,
          null,
          null,
          null,
          null,
          null
         ],
         "yaxis": "y2"
        },
        {
         "connectgaps": false,
         "hovertemplate": "fnid=SL1960A20103<br>indicator=production<br>year=%{x}<br>value=%{y}<extra></extra>",
         "legendgroup": "SL1960A20103",
         "line": {
          "color": "#00cc96",
          "dash": "solid"
         },
         "marker": {
          "symbol": "circle"
         },
         "mode": "markers+lines",
         "name": "SL1960A20103",
         "orientation": "v",
         "showlegend": true,
         "type": "scatter",
         "x": [
          2003,
          2004,
          2005,
          2006,
          2007,
          2008,
          2009,
          2010,
          2011,
          2012,
          2013,
          2014,
          2015,
          2016
         ],
         "xaxis": "x3",
         "y": [
          null,
          null,
          null,
          null,
          null,
          null,
          null,
          null,
          null,
          null,
          null,
          null,
          76836,
          183466
         ],
         "yaxis": "y3"
        },
        {
         "connectgaps": false,
         "hovertemplate": "fnid=SL1960A20103<br>indicator=area<br>year=%{x}<br>value=%{y}<extra></extra>",
         "legendgroup": "SL1960A20103",
         "line": {
          "color": "#00cc96",
          "dash": "solid"
         },
         "marker": {
          "symbol": "circle"
         },
         "mode": "markers+lines",
         "name": "SL1960A20103",
         "orientation": "v",
         "showlegend": false,
         "type": "scatter",
         "x": [
          2003,
          2004,
          2005,
          2006,
          2007,
          2008,
          2009,
          2010,
          2011,
          2012,
          2013,
          2014,
          2015,
          2016
         ],
         "xaxis": "x2",
         "y": [
          200.475,
          43958,
          null,
          null,
          null,
          null,
          null,
          null,
          null,
          null,
          null,
          null,
          null,
          null
         ],
         "yaxis": "y2"
        },
        {
         "connectgaps": false,
         "hovertemplate": "fnid=SL1960A20201<br>indicator=production<br>year=%{x}<br>value=%{y}<extra></extra>",
         "legendgroup": "SL1960A20201",
         "line": {
          "color": "#ab63fa",
          "dash": "solid"
         },
         "marker": {
          "symbol": "circle"
         },
         "mode": "markers+lines",
         "name": "SL1960A20201",
         "orientation": "v",
         "showlegend": true,
         "type": "scatter",
         "x": [
          2003,
          2004,
          2005,
          2006,
          2007,
          2008,
          2009,
          2010,
          2011,
          2012,
          2013,
          2014,
          2015,
          2016
         ],
         "xaxis": "x3",
         "y": [
          null,
          null,
          null,
          null,
          null,
          null,
          null,
          null,
          null,
          null,
          null,
          null,
          116940,
          127031
         ],
         "yaxis": "y3"
        },
        {
         "connectgaps": false,
         "hovertemplate": "fnid=SL1960A20201<br>indicator=area<br>year=%{x}<br>value=%{y}<extra></extra>",
         "legendgroup": "SL1960A20201",
         "line": {
          "color": "#ab63fa",
          "dash": "solid"
         },
         "marker": {
          "symbol": "circle"
         },
         "mode": "markers+lines",
         "name": "SL1960A20201",
         "orientation": "v",
         "showlegend": false,
         "type": "scatter",
         "x": [
          2003,
          2004,
          2005,
          2006,
          2007,
          2008,
          2009,
          2010,
          2011,
          2012,
          2013,
          2014,
          2015,
          2016
         ],
         "xaxis": "x2",
         "y": [
          6486.075,
          4790,
          null,
          null,
          null,
          null,
          null,
          null,
          null,
          null,
          null,
          null,
          null,
          null
         ],
         "yaxis": "y2"
        },
        {
         "connectgaps": false,
         "hovertemplate": "fnid=SL1960A20202<br>indicator=production<br>year=%{x}<br>value=%{y}<extra></extra>",
         "legendgroup": "SL1960A20202",
         "line": {
          "color": "#FFA15A",
          "dash": "solid"
         },
         "marker": {
          "symbol": "circle"
         },
         "mode": "markers+lines",
         "name": "SL1960A20202",
         "orientation": "v",
         "showlegend": true,
         "type": "scatter",
         "x": [
          2003,
          2004,
          2005,
          2006,
          2007,
          2008,
          2009,
          2010,
          2011,
          2012,
          2013,
          2014,
          2015,
          2016
         ],
         "xaxis": "x3",
         "y": [
          null,
          null,
          null,
          null,
          null,
          null,
          null,
          null,
          null,
          null,
          null,
          null,
          119454,
          129762
         ],
         "yaxis": "y3"
        },
        {
         "connectgaps": false,
         "hovertemplate": "fnid=SL1960A20202<br>indicator=area<br>year=%{x}<br>value=%{y}<extra></extra>",
         "legendgroup": "SL1960A20202",
         "line": {
          "color": "#FFA15A",
          "dash": "solid"
         },
         "marker": {
          "symbol": "circle"
         },
         "mode": "markers+lines",
         "name": "SL1960A20202",
         "orientation": "v",
         "showlegend": false,
         "type": "scatter",
         "x": [
          2003,
          2004,
          2005,
          2006,
          2007,
          2008,
          2009,
          2010,
          2011,
          2012,
          2013,
          2014,
          2015,
          2016
         ],
         "xaxis": "x2",
         "y": [
          334.125,
          484,
          null,
          null,
          null,
          null,
          null,
          null,
          null,
          null,
          null,
          null,
          null,
          null
         ],
         "yaxis": "y2"
        },
        {
         "connectgaps": false,
         "hovertemplate": "fnid=SL1960A20203<br>indicator=production<br>year=%{x}<br>value=%{y}<extra></extra>",
         "legendgroup": "SL1960A20203",
         "line": {
          "color": "#19d3f3",
          "dash": "solid"
         },
         "marker": {
          "symbol": "circle"
         },
         "mode": "markers+lines",
         "name": "SL1960A20203",
         "orientation": "v",
         "showlegend": true,
         "type": "scatter",
         "x": [
          2003,
          2004,
          2005,
          2006,
          2007,
          2008,
          2009,
          2010,
          2011,
          2012,
          2013,
          2014,
          2015,
          2016
         ],
         "xaxis": "x3",
         "y": [
          null,
          null,
          null,
          null,
          null,
          null,
          null,
          null,
          null,
          null,
          null,
          null,
          82429,
          89542
         ],
         "yaxis": "y3"
        },
        {
         "connectgaps": false,
         "hovertemplate": "fnid=SL1960A20203<br>indicator=area<br>year=%{x}<br>value=%{y}<extra></extra>",
         "legendgroup": "SL1960A20203",
         "line": {
          "color": "#19d3f3",
          "dash": "solid"
         },
         "marker": {
          "symbol": "circle"
         },
         "mode": "markers+lines",
         "name": "SL1960A20203",
         "orientation": "v",
         "showlegend": false,
         "type": "scatter",
         "x": [
          2003,
          2004,
          2005,
          2006,
          2007,
          2008,
          2009,
          2010,
          2011,
          2012,
          2013,
          2014,
          2015,
          2016
         ],
         "xaxis": "x2",
         "y": [
          4617,
          39239,
          null,
          null,
          null,
          null,
          null,
          null,
          null,
          null,
          null,
          null,
          null,
          null
         ],
         "yaxis": "y2"
        },
        {
         "connectgaps": false,
         "hovertemplate": "fnid=SL1960A20204<br>indicator=production<br>year=%{x}<br>value=%{y}<extra></extra>",
         "legendgroup": "SL1960A20204",
         "line": {
          "color": "#FF6692",
          "dash": "solid"
         },
         "marker": {
          "symbol": "circle"
         },
         "mode": "markers+lines",
         "name": "SL1960A20204",
         "orientation": "v",
         "showlegend": true,
         "type": "scatter",
         "x": [
          2003,
          2004,
          2005,
          2006,
          2007,
          2008,
          2009,
          2010,
          2011,
          2012,
          2013,
          2014,
          2015,
          2016
         ],
         "xaxis": "x3",
         "y": [
          null,
          null,
          null,
          null,
          null,
          null,
          null,
          null,
          null,
          null,
          null,
          null,
          194992,
          211818
         ],
         "yaxis": "y3"
        },
        {
         "connectgaps": false,
         "hovertemplate": "fnid=SL1960A20204<br>indicator=area<br>year=%{x}<br>value=%{y}<extra></extra>",
         "legendgroup": "SL1960A20204",
         "line": {
          "color": "#FF6692",
          "dash": "solid"
         },
         "marker": {
          "symbol": "circle"
         },
         "mode": "markers+lines",
         "name": "SL1960A20204",
         "orientation": "v",
         "showlegend": false,
         "type": "scatter",
         "x": [
          2003,
          2004,
          2005,
          2006,
          2007,
          2008,
          2009,
          2010,
          2011,
          2012,
          2013,
          2014,
          2015,
          2016
         ],
         "xaxis": "x2",
         "y": [
          639.9,
          76120,
          null,
          null,
          null,
          null,
          null,
          null,
          null,
          null,
          null,
          null,
          null,
          null
         ],
         "yaxis": "y2"
        },
        {
         "connectgaps": false,
         "hovertemplate": "fnid=SL1960A20205<br>indicator=production<br>year=%{x}<br>value=%{y}<extra></extra>",
         "legendgroup": "SL1960A20205",
         "line": {
          "color": "#B6E880",
          "dash": "solid"
         },
         "marker": {
          "symbol": "circle"
         },
         "mode": "markers+lines",
         "name": "SL1960A20205",
         "orientation": "v",
         "showlegend": true,
         "type": "scatter",
         "x": [
          2003,
          2004,
          2005,
          2006,
          2007,
          2008,
          2009,
          2010,
          2011,
          2012,
          2013,
          2014,
          2015,
          2016
         ],
         "xaxis": "x3",
         "y": [
          null,
          null,
          null,
          null,
          null,
          null,
          null,
          null,
          null,
          null,
          null,
          null,
          305913,
          332311
         ],
         "yaxis": "y3"
        },
        {
         "connectgaps": false,
         "hovertemplate": "fnid=SL1960A20205<br>indicator=area<br>year=%{x}<br>value=%{y}<extra></extra>",
         "legendgroup": "SL1960A20205",
         "line": {
          "color": "#B6E880",
          "dash": "solid"
         },
         "marker": {
          "symbol": "circle"
         },
         "mode": "markers+lines",
         "name": "SL1960A20205",
         "orientation": "v",
         "showlegend": false,
         "type": "scatter",
         "x": [
          2003,
          2004,
          2005,
          2006,
          2007,
          2008,
          2009,
          2010,
          2011,
          2012,
          2013,
          2014,
          2015,
          2016
         ],
         "xaxis": "x2",
         "y": [
          26304,
          38130,
          null,
          null,
          null,
          null,
          null,
          null,
          null,
          null,
          null,
          null,
          null,
          null
         ],
         "yaxis": "y2"
        },
        {
         "connectgaps": false,
         "hovertemplate": "fnid=SL1960A20301<br>indicator=production<br>year=%{x}<br>value=%{y}<extra></extra>",
         "legendgroup": "SL1960A20301",
         "line": {
          "color": "#FF97FF",
          "dash": "solid"
         },
         "marker": {
          "symbol": "circle"
         },
         "mode": "markers+lines",
         "name": "SL1960A20301",
         "orientation": "v",
         "showlegend": true,
         "type": "scatter",
         "x": [
          2003,
          2004,
          2005,
          2006,
          2007,
          2008,
          2009,
          2010,
          2011,
          2012,
          2013,
          2014,
          2015,
          2016
         ],
         "xaxis": "x3",
         "y": [
          null,
          null,
          null,
          null,
          null,
          null,
          null,
          null,
          null,
          null,
          null,
          null,
          291507,
          316662
         ],
         "yaxis": "y3"
        },
        {
         "connectgaps": false,
         "hovertemplate": "fnid=SL1960A20301<br>indicator=area<br>year=%{x}<br>value=%{y}<extra></extra>",
         "legendgroup": "SL1960A20301",
         "line": {
          "color": "#FF97FF",
          "dash": "solid"
         },
         "marker": {
          "symbol": "circle"
         },
         "mode": "markers+lines",
         "name": "SL1960A20301",
         "orientation": "v",
         "showlegend": false,
         "type": "scatter",
         "x": [
          2003,
          2004,
          2005,
          2006,
          2007,
          2008,
          2009,
          2010,
          2011,
          2012,
          2013,
          2014,
          2015,
          2016
         ],
         "xaxis": "x2",
         "y": [
          1170.45,
          66782,
          null,
          null,
          null,
          null,
          null,
          null,
          null,
          null,
          null,
          null,
          null,
          null
         ],
         "yaxis": "y2"
        },
        {
         "connectgaps": false,
         "hovertemplate": "fnid=SL1960A20302<br>indicator=production<br>year=%{x}<br>value=%{y}<extra></extra>",
         "legendgroup": "SL1960A20302",
         "line": {
          "color": "#FECB52",
          "dash": "solid"
         },
         "marker": {
          "symbol": "circle"
         },
         "mode": "markers+lines",
         "name": "SL1960A20302",
         "orientation": "v",
         "showlegend": true,
         "type": "scatter",
         "x": [
          2003,
          2004,
          2005,
          2006,
          2007,
          2008,
          2009,
          2010,
          2011,
          2012,
          2013,
          2014,
          2015,
          2016
         ],
         "xaxis": "x3",
         "y": [
          null,
          null,
          null,
          null,
          null,
          null,
          null,
          null,
          null,
          null,
          null,
          null,
          538998,
          585510
         ],
         "yaxis": "y3"
        },
        {
         "connectgaps": false,
         "hovertemplate": "fnid=SL1960A20302<br>indicator=area<br>year=%{x}<br>value=%{y}<extra></extra>",
         "legendgroup": "SL1960A20302",
         "line": {
          "color": "#FECB52",
          "dash": "solid"
         },
         "marker": {
          "symbol": "circle"
         },
         "mode": "markers+lines",
         "name": "SL1960A20302",
         "orientation": "v",
         "showlegend": false,
         "type": "scatter",
         "x": [
          2003,
          2004,
          2005,
          2006,
          2007,
          2008,
          2009,
          2010,
          2011,
          2012,
          2013,
          2014,
          2015,
          2016
         ],
         "xaxis": "x2",
         "y": [
          747.225,
          4930,
          null,
          null,
          null,
          null,
          null,
          null,
          null,
          null,
          null,
          null,
          null,
          null
         ],
         "yaxis": "y2"
        },
        {
         "connectgaps": false,
         "hovertemplate": "fnid=SL1960A20303<br>indicator=production<br>year=%{x}<br>value=%{y}<extra></extra>",
         "legendgroup": "SL1960A20303",
         "line": {
          "color": "#636efa",
          "dash": "solid"
         },
         "marker": {
          "symbol": "circle"
         },
         "mode": "markers+lines",
         "name": "SL1960A20303",
         "orientation": "v",
         "showlegend": true,
         "type": "scatter",
         "x": [
          2003,
          2004,
          2005,
          2006,
          2007,
          2008,
          2009,
          2010,
          2011,
          2012,
          2013,
          2014,
          2015,
          2016
         ],
         "xaxis": "x3",
         "y": [
          null,
          null,
          null,
          null,
          null,
          null,
          null,
          null,
          null,
          null,
          null,
          null,
          213357,
          231768
         ],
         "yaxis": "y3"
        },
        {
         "connectgaps": false,
         "hovertemplate": "fnid=SL1960A20303<br>indicator=area<br>year=%{x}<br>value=%{y}<extra></extra>",
         "legendgroup": "SL1960A20303",
         "line": {
          "color": "#636efa",
          "dash": "solid"
         },
         "marker": {
          "symbol": "circle"
         },
         "mode": "markers+lines",
         "name": "SL1960A20303",
         "orientation": "v",
         "showlegend": false,
         "type": "scatter",
         "x": [
          2003,
          2004,
          2005,
          2006,
          2007,
          2008,
          2009,
          2010,
          2011,
          2012,
          2013,
          2014,
          2015,
          2016
         ],
         "xaxis": "x2",
         "y": [
          4586.22,
          9137,
          null,
          null,
          null,
          null,
          null,
          null,
          null,
          null,
          null,
          null,
          null,
          null
         ],
         "yaxis": "y2"
        },
        {
         "connectgaps": false,
         "hovertemplate": "fnid=SL1960A20304<br>indicator=production<br>year=%{x}<br>value=%{y}<extra></extra>",
         "legendgroup": "SL1960A20304",
         "line": {
          "color": "#EF553B",
          "dash": "solid"
         },
         "marker": {
          "symbol": "circle"
         },
         "mode": "markers+lines",
         "name": "SL1960A20304",
         "orientation": "v",
         "showlegend": true,
         "type": "scatter",
         "x": [
          2003,
          2004,
          2005,
          2006,
          2007,
          2008,
          2009,
          2010,
          2011,
          2012,
          2013,
          2014,
          2015,
          2016
         ],
         "xaxis": "x3",
         "y": [
          null,
          null,
          null,
          null,
          null,
          null,
          null,
          null,
          null,
          null,
          null,
          null,
          196752,
          213731
         ],
         "yaxis": "y3"
        },
        {
         "connectgaps": false,
         "hovertemplate": "fnid=SL1960A20304<br>indicator=area<br>year=%{x}<br>value=%{y}<extra></extra>",
         "legendgroup": "SL1960A20304",
         "line": {
          "color": "#EF553B",
          "dash": "solid"
         },
         "marker": {
          "symbol": "circle"
         },
         "mode": "markers+lines",
         "name": "SL1960A20304",
         "orientation": "v",
         "showlegend": false,
         "type": "scatter",
         "x": [
          2003,
          2004,
          2005,
          2006,
          2007,
          2008,
          2009,
          2010,
          2011,
          2012,
          2013,
          2014,
          2015,
          2016
         ],
         "xaxis": "x2",
         "y": [
          45279,
          48356,
          null,
          null,
          null,
          null,
          null,
          null,
          null,
          null,
          null,
          null,
          null,
          null
         ],
         "yaxis": "y2"
        },
        {
         "connectgaps": false,
         "hovertemplate": "fnid=SL1960A20401<br>indicator=production<br>year=%{x}<br>value=%{y}<extra></extra>",
         "legendgroup": "SL1960A20401",
         "line": {
          "color": "#00cc96",
          "dash": "solid"
         },
         "marker": {
          "symbol": "circle"
         },
         "mode": "markers+lines",
         "name": "SL1960A20401",
         "orientation": "v",
         "showlegend": true,
         "type": "scatter",
         "x": [
          2003,
          2004,
          2005,
          2006,
          2007,
          2008,
          2009,
          2010,
          2011,
          2012,
          2013,
          2014,
          2015,
          2016
         ],
         "xaxis": "x3",
         "y": [
          null,
          null,
          null,
          null,
          null,
          null,
          null,
          null,
          null,
          null,
          null,
          null,
          27574,
          69953
         ],
         "yaxis": "y3"
        },
        {
         "connectgaps": false,
         "hovertemplate": "fnid=SL1960A20401<br>indicator=area<br>year=%{x}<br>value=%{y}<extra></extra>",
         "legendgroup": "SL1960A20401",
         "line": {
          "color": "#00cc96",
          "dash": "solid"
         },
         "marker": {
          "symbol": "circle"
         },
         "mode": "markers+lines",
         "name": "SL1960A20401",
         "orientation": "v",
         "showlegend": false,
         "type": "scatter",
         "x": [
          2003,
          2004,
          2005,
          2006,
          2007,
          2008,
          2009,
          2010,
          2011,
          2012,
          2013,
          2014,
          2015,
          2016
         ],
         "xaxis": "x2",
         "y": [
          361.665,
          4324,
          null,
          null,
          null,
          null,
          null,
          null,
          null,
          null,
          null,
          null,
          null,
          null
         ],
         "yaxis": "y2"
        }
       ],
       "layout": {
        "annotations": [
         {
          "showarrow": false,
          "text": "",
          "textangle": 90,
          "x": 0.98,
          "xanchor": "left",
          "xref": "paper",
          "y": 0.16333333333333333,
          "yanchor": "middle",
          "yref": "paper"
         },
         {
          "showarrow": false,
          "text": "",
          "textangle": 90,
          "x": 0.98,
          "xanchor": "left",
          "xref": "paper",
          "y": 0.5,
          "yanchor": "middle",
          "yref": "paper"
         },
         {
          "showarrow": false,
          "text": "",
          "textangle": 90,
          "x": 0.98,
          "xanchor": "left",
          "xref": "paper",
          "y": 0.8366666666666667,
          "yanchor": "middle",
          "yref": "paper"
         },
         {
          "align": "left",
          "font": {
           "color": "dimgrey",
           "family": "arial",
           "size": 15
          },
          "showarrow": false,
          "text": "Production-Area-Yield time-series of SL - Cassava - Main",
          "x": -0.014,
          "xref": "paper",
          "y": -0.14,
          "yref": "paper"
         }
        ],
        "font": {
         "color": "black",
         "family": "arial",
         "size": 16
        },
        "height": 600,
        "legend": {
         "font": {
          "size": 14
         },
         "title": {
          "text": "FNID"
         },
         "tracegroupgap": 0,
         "x": 1,
         "xanchor": "left",
         "y": 1,
         "yanchor": "top"
        },
        "margin": {
         "b": 25,
         "l": 0,
         "r": 0,
         "t": 0
        },
        "template": {
         "data": {
          "bar": [
           {
            "error_x": {
             "color": "#2a3f5f"
            },
            "error_y": {
             "color": "#2a3f5f"
            },
            "marker": {
             "line": {
              "color": "#E5ECF6",
              "width": 0.5
             },
             "pattern": {
              "fillmode": "overlay",
              "size": 10,
              "solidity": 0.2
             }
            },
            "type": "bar"
           }
          ],
          "barpolar": [
           {
            "marker": {
             "line": {
              "color": "#E5ECF6",
              "width": 0.5
             },
             "pattern": {
              "fillmode": "overlay",
              "size": 10,
              "solidity": 0.2
             }
            },
            "type": "barpolar"
           }
          ],
          "carpet": [
           {
            "aaxis": {
             "endlinecolor": "#2a3f5f",
             "gridcolor": "white",
             "linecolor": "white",
             "minorgridcolor": "white",
             "startlinecolor": "#2a3f5f"
            },
            "baxis": {
             "endlinecolor": "#2a3f5f",
             "gridcolor": "white",
             "linecolor": "white",
             "minorgridcolor": "white",
             "startlinecolor": "#2a3f5f"
            },
            "type": "carpet"
           }
          ],
          "choropleth": [
           {
            "colorbar": {
             "outlinewidth": 0,
             "ticks": ""
            },
            "type": "choropleth"
           }
          ],
          "contour": [
           {
            "colorbar": {
             "outlinewidth": 0,
             "ticks": ""
            },
            "colorscale": [
             [
              0,
              "#0d0887"
             ],
             [
              0.1111111111111111,
              "#46039f"
             ],
             [
              0.2222222222222222,
              "#7201a8"
             ],
             [
              0.3333333333333333,
              "#9c179e"
             ],
             [
              0.4444444444444444,
              "#bd3786"
             ],
             [
              0.5555555555555556,
              "#d8576b"
             ],
             [
              0.6666666666666666,
              "#ed7953"
             ],
             [
              0.7777777777777778,
              "#fb9f3a"
             ],
             [
              0.8888888888888888,
              "#fdca26"
             ],
             [
              1,
              "#f0f921"
             ]
            ],
            "type": "contour"
           }
          ],
          "contourcarpet": [
           {
            "colorbar": {
             "outlinewidth": 0,
             "ticks": ""
            },
            "type": "contourcarpet"
           }
          ],
          "heatmap": [
           {
            "colorbar": {
             "outlinewidth": 0,
             "ticks": ""
            },
            "colorscale": [
             [
              0,
              "#0d0887"
             ],
             [
              0.1111111111111111,
              "#46039f"
             ],
             [
              0.2222222222222222,
              "#7201a8"
             ],
             [
              0.3333333333333333,
              "#9c179e"
             ],
             [
              0.4444444444444444,
              "#bd3786"
             ],
             [
              0.5555555555555556,
              "#d8576b"
             ],
             [
              0.6666666666666666,
              "#ed7953"
             ],
             [
              0.7777777777777778,
              "#fb9f3a"
             ],
             [
              0.8888888888888888,
              "#fdca26"
             ],
             [
              1,
              "#f0f921"
             ]
            ],
            "type": "heatmap"
           }
          ],
          "heatmapgl": [
           {
            "colorbar": {
             "outlinewidth": 0,
             "ticks": ""
            },
            "colorscale": [
             [
              0,
              "#0d0887"
             ],
             [
              0.1111111111111111,
              "#46039f"
             ],
             [
              0.2222222222222222,
              "#7201a8"
             ],
             [
              0.3333333333333333,
              "#9c179e"
             ],
             [
              0.4444444444444444,
              "#bd3786"
             ],
             [
              0.5555555555555556,
              "#d8576b"
             ],
             [
              0.6666666666666666,
              "#ed7953"
             ],
             [
              0.7777777777777778,
              "#fb9f3a"
             ],
             [
              0.8888888888888888,
              "#fdca26"
             ],
             [
              1,
              "#f0f921"
             ]
            ],
            "type": "heatmapgl"
           }
          ],
          "histogram": [
           {
            "marker": {
             "pattern": {
              "fillmode": "overlay",
              "size": 10,
              "solidity": 0.2
             }
            },
            "type": "histogram"
           }
          ],
          "histogram2d": [
           {
            "colorbar": {
             "outlinewidth": 0,
             "ticks": ""
            },
            "colorscale": [
             [
              0,
              "#0d0887"
             ],
             [
              0.1111111111111111,
              "#46039f"
             ],
             [
              0.2222222222222222,
              "#7201a8"
             ],
             [
              0.3333333333333333,
              "#9c179e"
             ],
             [
              0.4444444444444444,
              "#bd3786"
             ],
             [
              0.5555555555555556,
              "#d8576b"
             ],
             [
              0.6666666666666666,
              "#ed7953"
             ],
             [
              0.7777777777777778,
              "#fb9f3a"
             ],
             [
              0.8888888888888888,
              "#fdca26"
             ],
             [
              1,
              "#f0f921"
             ]
            ],
            "type": "histogram2d"
           }
          ],
          "histogram2dcontour": [
           {
            "colorbar": {
             "outlinewidth": 0,
             "ticks": ""
            },
            "colorscale": [
             [
              0,
              "#0d0887"
             ],
             [
              0.1111111111111111,
              "#46039f"
             ],
             [
              0.2222222222222222,
              "#7201a8"
             ],
             [
              0.3333333333333333,
              "#9c179e"
             ],
             [
              0.4444444444444444,
              "#bd3786"
             ],
             [
              0.5555555555555556,
              "#d8576b"
             ],
             [
              0.6666666666666666,
              "#ed7953"
             ],
             [
              0.7777777777777778,
              "#fb9f3a"
             ],
             [
              0.8888888888888888,
              "#fdca26"
             ],
             [
              1,
              "#f0f921"
             ]
            ],
            "type": "histogram2dcontour"
           }
          ],
          "mesh3d": [
           {
            "colorbar": {
             "outlinewidth": 0,
             "ticks": ""
            },
            "type": "mesh3d"
           }
          ],
          "parcoords": [
           {
            "line": {
             "colorbar": {
              "outlinewidth": 0,
              "ticks": ""
             }
            },
            "type": "parcoords"
           }
          ],
          "pie": [
           {
            "automargin": true,
            "type": "pie"
           }
          ],
          "scatter": [
           {
            "fillpattern": {
             "fillmode": "overlay",
             "size": 10,
             "solidity": 0.2
            },
            "type": "scatter"
           }
          ],
          "scatter3d": [
           {
            "line": {
             "colorbar": {
              "outlinewidth": 0,
              "ticks": ""
             }
            },
            "marker": {
             "colorbar": {
              "outlinewidth": 0,
              "ticks": ""
             }
            },
            "type": "scatter3d"
           }
          ],
          "scattercarpet": [
           {
            "marker": {
             "colorbar": {
              "outlinewidth": 0,
              "ticks": ""
             }
            },
            "type": "scattercarpet"
           }
          ],
          "scattergeo": [
           {
            "marker": {
             "colorbar": {
              "outlinewidth": 0,
              "ticks": ""
             }
            },
            "type": "scattergeo"
           }
          ],
          "scattergl": [
           {
            "marker": {
             "colorbar": {
              "outlinewidth": 0,
              "ticks": ""
             }
            },
            "type": "scattergl"
           }
          ],
          "scattermapbox": [
           {
            "marker": {
             "colorbar": {
              "outlinewidth": 0,
              "ticks": ""
             }
            },
            "type": "scattermapbox"
           }
          ],
          "scatterpolar": [
           {
            "marker": {
             "colorbar": {
              "outlinewidth": 0,
              "ticks": ""
             }
            },
            "type": "scatterpolar"
           }
          ],
          "scatterpolargl": [
           {
            "marker": {
             "colorbar": {
              "outlinewidth": 0,
              "ticks": ""
             }
            },
            "type": "scatterpolargl"
           }
          ],
          "scatterternary": [
           {
            "marker": {
             "colorbar": {
              "outlinewidth": 0,
              "ticks": ""
             }
            },
            "type": "scatterternary"
           }
          ],
          "surface": [
           {
            "colorbar": {
             "outlinewidth": 0,
             "ticks": ""
            },
            "colorscale": [
             [
              0,
              "#0d0887"
             ],
             [
              0.1111111111111111,
              "#46039f"
             ],
             [
              0.2222222222222222,
              "#7201a8"
             ],
             [
              0.3333333333333333,
              "#9c179e"
             ],
             [
              0.4444444444444444,
              "#bd3786"
             ],
             [
              0.5555555555555556,
              "#d8576b"
             ],
             [
              0.6666666666666666,
              "#ed7953"
             ],
             [
              0.7777777777777778,
              "#fb9f3a"
             ],
             [
              0.8888888888888888,
              "#fdca26"
             ],
             [
              1,
              "#f0f921"
             ]
            ],
            "type": "surface"
           }
          ],
          "table": [
           {
            "cells": {
             "fill": {
              "color": "#EBF0F8"
             },
             "line": {
              "color": "white"
             }
            },
            "header": {
             "fill": {
              "color": "#C8D4E3"
             },
             "line": {
              "color": "white"
             }
            },
            "type": "table"
           }
          ]
         },
         "layout": {
          "annotationdefaults": {
           "arrowcolor": "#2a3f5f",
           "arrowhead": 0,
           "arrowwidth": 1
          },
          "autotypenumbers": "strict",
          "coloraxis": {
           "colorbar": {
            "outlinewidth": 0,
            "ticks": ""
           }
          },
          "colorscale": {
           "diverging": [
            [
             0,
             "#8e0152"
            ],
            [
             0.1,
             "#c51b7d"
            ],
            [
             0.2,
             "#de77ae"
            ],
            [
             0.3,
             "#f1b6da"
            ],
            [
             0.4,
             "#fde0ef"
            ],
            [
             0.5,
             "#f7f7f7"
            ],
            [
             0.6,
             "#e6f5d0"
            ],
            [
             0.7,
             "#b8e186"
            ],
            [
             0.8,
             "#7fbc41"
            ],
            [
             0.9,
             "#4d9221"
            ],
            [
             1,
             "#276419"
            ]
           ],
           "sequential": [
            [
             0,
             "#0d0887"
            ],
            [
             0.1111111111111111,
             "#46039f"
            ],
            [
             0.2222222222222222,
             "#7201a8"
            ],
            [
             0.3333333333333333,
             "#9c179e"
            ],
            [
             0.4444444444444444,
             "#bd3786"
            ],
            [
             0.5555555555555556,
             "#d8576b"
            ],
            [
             0.6666666666666666,
             "#ed7953"
            ],
            [
             0.7777777777777778,
             "#fb9f3a"
            ],
            [
             0.8888888888888888,
             "#fdca26"
            ],
            [
             1,
             "#f0f921"
            ]
           ],
           "sequentialminus": [
            [
             0,
             "#0d0887"
            ],
            [
             0.1111111111111111,
             "#46039f"
            ],
            [
             0.2222222222222222,
             "#7201a8"
            ],
            [
             0.3333333333333333,
             "#9c179e"
            ],
            [
             0.4444444444444444,
             "#bd3786"
            ],
            [
             0.5555555555555556,
             "#d8576b"
            ],
            [
             0.6666666666666666,
             "#ed7953"
            ],
            [
             0.7777777777777778,
             "#fb9f3a"
            ],
            [
             0.8888888888888888,
             "#fdca26"
            ],
            [
             1,
             "#f0f921"
            ]
           ]
          },
          "colorway": [
           "#636efa",
           "#EF553B",
           "#00cc96",
           "#ab63fa",
           "#FFA15A",
           "#19d3f3",
           "#FF6692",
           "#B6E880",
           "#FF97FF",
           "#FECB52"
          ],
          "font": {
           "color": "#2a3f5f"
          },
          "geo": {
           "bgcolor": "white",
           "lakecolor": "white",
           "landcolor": "#E5ECF6",
           "showlakes": true,
           "showland": true,
           "subunitcolor": "white"
          },
          "hoverlabel": {
           "align": "left"
          },
          "hovermode": "closest",
          "mapbox": {
           "style": "light"
          },
          "paper_bgcolor": "white",
          "plot_bgcolor": "#E5ECF6",
          "polar": {
           "angularaxis": {
            "gridcolor": "white",
            "linecolor": "white",
            "ticks": ""
           },
           "bgcolor": "#E5ECF6",
           "radialaxis": {
            "gridcolor": "white",
            "linecolor": "white",
            "ticks": ""
           }
          },
          "scene": {
           "xaxis": {
            "backgroundcolor": "#E5ECF6",
            "gridcolor": "white",
            "gridwidth": 2,
            "linecolor": "white",
            "showbackground": true,
            "ticks": "",
            "zerolinecolor": "white"
           },
           "yaxis": {
            "backgroundcolor": "#E5ECF6",
            "gridcolor": "white",
            "gridwidth": 2,
            "linecolor": "white",
            "showbackground": true,
            "ticks": "",
            "zerolinecolor": "white"
           },
           "zaxis": {
            "backgroundcolor": "#E5ECF6",
            "gridcolor": "white",
            "gridwidth": 2,
            "linecolor": "white",
            "showbackground": true,
            "ticks": "",
            "zerolinecolor": "white"
           }
          },
          "shapedefaults": {
           "line": {
            "color": "#2a3f5f"
           }
          },
          "ternary": {
           "aaxis": {
            "gridcolor": "white",
            "linecolor": "white",
            "ticks": ""
           },
           "baxis": {
            "gridcolor": "white",
            "linecolor": "white",
            "ticks": ""
           },
           "bgcolor": "#E5ECF6",
           "caxis": {
            "gridcolor": "white",
            "linecolor": "white",
            "ticks": ""
           }
          },
          "title": {
           "x": 0.05
          },
          "xaxis": {
           "automargin": true,
           "gridcolor": "white",
           "linecolor": "white",
           "ticks": "",
           "title": {
            "standoff": 15
           },
           "zerolinecolor": "white",
           "zerolinewidth": 2
          },
          "yaxis": {
           "automargin": true,
           "gridcolor": "white",
           "linecolor": "white",
           "ticks": "",
           "title": {
            "standoff": 15
           },
           "zerolinecolor": "white",
           "zerolinewidth": 2
          }
         }
        },
        "width": 900,
        "xaxis": {
         "anchor": "y",
         "domain": [
          0,
          0.98
         ],
         "dtick": 1,
         "range": [
          1986,
          2016
         ],
         "title": {
          "text": ""
         }
        },
        "xaxis2": {
         "anchor": "y2",
         "domain": [
          0,
          0.98
         ],
         "dtick": 1,
         "matches": "x",
         "showticklabels": false
        },
        "xaxis3": {
         "anchor": "y3",
         "domain": [
          0,
          0.98
         ],
         "dtick": 1,
         "matches": "x",
         "showticklabels": false
        },
        "yaxis": {
         "anchor": "x",
         "domain": [
          0,
          0.32666666666666666
         ],
         "title": {
          "text": "Yield (mt/ha)"
         }
        },
        "yaxis2": {
         "anchor": "x2",
         "domain": [
          0.33666666666666667,
          0.6633333333333333
         ],
         "title": {
          "text": "Area (ha)"
         }
        },
        "yaxis3": {
         "anchor": "x3",
         "domain": [
          0.6733333333333333,
          1
         ],
         "title": {
          "text": "Production (mt)"
         }
        }
       }
      },
      "text/html": [
       "<div>                            <div id=\"c6bc1ae3-23c7-4f19-be96-b099815ed8d7\" class=\"plotly-graph-div\" style=\"height:600px; width:900px;\"></div>            <script type=\"text/javascript\">                require([\"plotly\"], function(Plotly) {                    window.PLOTLYENV=window.PLOTLYENV || {};                                    if (document.getElementById(\"c6bc1ae3-23c7-4f19-be96-b099815ed8d7\")) {                    Plotly.newPlot(                        \"c6bc1ae3-23c7-4f19-be96-b099815ed8d7\",                        [{\"hovertemplate\":\"fnid=SL1960A20101<br>indicator=production<br>year=%{x}<br>value=%{y}<extra></extra>\",\"legendgroup\":\"SL1960A20101\",\"line\":{\"color\":\"#636efa\",\"dash\":\"solid\"},\"marker\":{\"symbol\":\"circle\"},\"mode\":\"markers+lines\",\"name\":\"SL1960A20101\",\"orientation\":\"v\",\"showlegend\":true,\"x\":[2003,2004,2005,2006,2007,2008,2009,2010,2011,2012,2013,2014,2015,2016],\"xaxis\":\"x3\",\"y\":[null,null,null,null,null,null,null,null,null,null,null,null,146600.0,159250.0],\"yaxis\":\"y3\",\"type\":\"scatter\",\"connectgaps\":false},{\"hovertemplate\":\"fnid=SL1960A20101<br>indicator=area<br>year=%{x}<br>value=%{y}<extra></extra>\",\"legendgroup\":\"SL1960A20101\",\"line\":{\"color\":\"#636efa\",\"dash\":\"solid\"},\"marker\":{\"symbol\":\"circle\"},\"mode\":\"markers+lines\",\"name\":\"SL1960A20101\",\"orientation\":\"v\",\"showlegend\":false,\"x\":[2003,2004,2005,2006,2007,2008,2009,2010,2011,2012,2013,2014,2015,2016],\"xaxis\":\"x2\",\"y\":[768.69,3990.0,null,null,null,null,null,null,null,null,null,null,null,null],\"yaxis\":\"y2\",\"type\":\"scatter\",\"connectgaps\":false},{\"hovertemplate\":\"fnid=SL1960A20102<br>indicator=production<br>year=%{x}<br>value=%{y}<extra></extra>\",\"legendgroup\":\"SL1960A20102\",\"line\":{\"color\":\"#EF553B\",\"dash\":\"solid\"},\"marker\":{\"symbol\":\"circle\"},\"mode\":\"markers+lines\",\"name\":\"SL1960A20102\",\"orientation\":\"v\",\"showlegend\":true,\"x\":[2003,2004,2005,2006,2007,2008,2009,2010,2011,2012,2013,2014,2015,2016],\"xaxis\":\"x3\",\"y\":[null,null,null,null,null,null,null,null,null,null,null,null,237936.0,258468.0],\"yaxis\":\"y3\",\"type\":\"scatter\",\"connectgaps\":false},{\"hovertemplate\":\"fnid=SL1960A20102<br>indicator=area<br>year=%{x}<br>value=%{y}<extra></extra>\",\"legendgroup\":\"SL1960A20102\",\"line\":{\"color\":\"#EF553B\",\"dash\":\"solid\"},\"marker\":{\"symbol\":\"circle\"},\"mode\":\"markers+lines\",\"name\":\"SL1960A20102\",\"orientation\":\"v\",\"showlegend\":false,\"x\":[2003,2004,2005,2006,2007,2008,2009,2010,2011,2012,2013,2014,2015,2016],\"xaxis\":\"x2\",\"y\":[1732.59,3593.0,null,null,null,null,null,null,null,null,null,null,null,null],\"yaxis\":\"y2\",\"type\":\"scatter\",\"connectgaps\":false},{\"hovertemplate\":\"fnid=SL1960A20103<br>indicator=production<br>year=%{x}<br>value=%{y}<extra></extra>\",\"legendgroup\":\"SL1960A20103\",\"line\":{\"color\":\"#00cc96\",\"dash\":\"solid\"},\"marker\":{\"symbol\":\"circle\"},\"mode\":\"markers+lines\",\"name\":\"SL1960A20103\",\"orientation\":\"v\",\"showlegend\":true,\"x\":[2003,2004,2005,2006,2007,2008,2009,2010,2011,2012,2013,2014,2015,2016],\"xaxis\":\"x3\",\"y\":[null,null,null,null,null,null,null,null,null,null,null,null,76836.0,183466.0],\"yaxis\":\"y3\",\"type\":\"scatter\",\"connectgaps\":false},{\"hovertemplate\":\"fnid=SL1960A20103<br>indicator=area<br>year=%{x}<br>value=%{y}<extra></extra>\",\"legendgroup\":\"SL1960A20103\",\"line\":{\"color\":\"#00cc96\",\"dash\":\"solid\"},\"marker\":{\"symbol\":\"circle\"},\"mode\":\"markers+lines\",\"name\":\"SL1960A20103\",\"orientation\":\"v\",\"showlegend\":false,\"x\":[2003,2004,2005,2006,2007,2008,2009,2010,2011,2012,2013,2014,2015,2016],\"xaxis\":\"x2\",\"y\":[200.475,43958.0,null,null,null,null,null,null,null,null,null,null,null,null],\"yaxis\":\"y2\",\"type\":\"scatter\",\"connectgaps\":false},{\"hovertemplate\":\"fnid=SL1960A20201<br>indicator=production<br>year=%{x}<br>value=%{y}<extra></extra>\",\"legendgroup\":\"SL1960A20201\",\"line\":{\"color\":\"#ab63fa\",\"dash\":\"solid\"},\"marker\":{\"symbol\":\"circle\"},\"mode\":\"markers+lines\",\"name\":\"SL1960A20201\",\"orientation\":\"v\",\"showlegend\":true,\"x\":[2003,2004,2005,2006,2007,2008,2009,2010,2011,2012,2013,2014,2015,2016],\"xaxis\":\"x3\",\"y\":[null,null,null,null,null,null,null,null,null,null,null,null,116940.0,127031.0],\"yaxis\":\"y3\",\"type\":\"scatter\",\"connectgaps\":false},{\"hovertemplate\":\"fnid=SL1960A20201<br>indicator=area<br>year=%{x}<br>value=%{y}<extra></extra>\",\"legendgroup\":\"SL1960A20201\",\"line\":{\"color\":\"#ab63fa\",\"dash\":\"solid\"},\"marker\":{\"symbol\":\"circle\"},\"mode\":\"markers+lines\",\"name\":\"SL1960A20201\",\"orientation\":\"v\",\"showlegend\":false,\"x\":[2003,2004,2005,2006,2007,2008,2009,2010,2011,2012,2013,2014,2015,2016],\"xaxis\":\"x2\",\"y\":[6486.075,4790.0,null,null,null,null,null,null,null,null,null,null,null,null],\"yaxis\":\"y2\",\"type\":\"scatter\",\"connectgaps\":false},{\"hovertemplate\":\"fnid=SL1960A20202<br>indicator=production<br>year=%{x}<br>value=%{y}<extra></extra>\",\"legendgroup\":\"SL1960A20202\",\"line\":{\"color\":\"#FFA15A\",\"dash\":\"solid\"},\"marker\":{\"symbol\":\"circle\"},\"mode\":\"markers+lines\",\"name\":\"SL1960A20202\",\"orientation\":\"v\",\"showlegend\":true,\"x\":[2003,2004,2005,2006,2007,2008,2009,2010,2011,2012,2013,2014,2015,2016],\"xaxis\":\"x3\",\"y\":[null,null,null,null,null,null,null,null,null,null,null,null,119454.0,129762.0],\"yaxis\":\"y3\",\"type\":\"scatter\",\"connectgaps\":false},{\"hovertemplate\":\"fnid=SL1960A20202<br>indicator=area<br>year=%{x}<br>value=%{y}<extra></extra>\",\"legendgroup\":\"SL1960A20202\",\"line\":{\"color\":\"#FFA15A\",\"dash\":\"solid\"},\"marker\":{\"symbol\":\"circle\"},\"mode\":\"markers+lines\",\"name\":\"SL1960A20202\",\"orientation\":\"v\",\"showlegend\":false,\"x\":[2003,2004,2005,2006,2007,2008,2009,2010,2011,2012,2013,2014,2015,2016],\"xaxis\":\"x2\",\"y\":[334.125,484.0,null,null,null,null,null,null,null,null,null,null,null,null],\"yaxis\":\"y2\",\"type\":\"scatter\",\"connectgaps\":false},{\"hovertemplate\":\"fnid=SL1960A20203<br>indicator=production<br>year=%{x}<br>value=%{y}<extra></extra>\",\"legendgroup\":\"SL1960A20203\",\"line\":{\"color\":\"#19d3f3\",\"dash\":\"solid\"},\"marker\":{\"symbol\":\"circle\"},\"mode\":\"markers+lines\",\"name\":\"SL1960A20203\",\"orientation\":\"v\",\"showlegend\":true,\"x\":[2003,2004,2005,2006,2007,2008,2009,2010,2011,2012,2013,2014,2015,2016],\"xaxis\":\"x3\",\"y\":[null,null,null,null,null,null,null,null,null,null,null,null,82429.0,89542.0],\"yaxis\":\"y3\",\"type\":\"scatter\",\"connectgaps\":false},{\"hovertemplate\":\"fnid=SL1960A20203<br>indicator=area<br>year=%{x}<br>value=%{y}<extra></extra>\",\"legendgroup\":\"SL1960A20203\",\"line\":{\"color\":\"#19d3f3\",\"dash\":\"solid\"},\"marker\":{\"symbol\":\"circle\"},\"mode\":\"markers+lines\",\"name\":\"SL1960A20203\",\"orientation\":\"v\",\"showlegend\":false,\"x\":[2003,2004,2005,2006,2007,2008,2009,2010,2011,2012,2013,2014,2015,2016],\"xaxis\":\"x2\",\"y\":[4617.0,39239.0,null,null,null,null,null,null,null,null,null,null,null,null],\"yaxis\":\"y2\",\"type\":\"scatter\",\"connectgaps\":false},{\"hovertemplate\":\"fnid=SL1960A20204<br>indicator=production<br>year=%{x}<br>value=%{y}<extra></extra>\",\"legendgroup\":\"SL1960A20204\",\"line\":{\"color\":\"#FF6692\",\"dash\":\"solid\"},\"marker\":{\"symbol\":\"circle\"},\"mode\":\"markers+lines\",\"name\":\"SL1960A20204\",\"orientation\":\"v\",\"showlegend\":true,\"x\":[2003,2004,2005,2006,2007,2008,2009,2010,2011,2012,2013,2014,2015,2016],\"xaxis\":\"x3\",\"y\":[null,null,null,null,null,null,null,null,null,null,null,null,194992.0,211818.0],\"yaxis\":\"y3\",\"type\":\"scatter\",\"connectgaps\":false},{\"hovertemplate\":\"fnid=SL1960A20204<br>indicator=area<br>year=%{x}<br>value=%{y}<extra></extra>\",\"legendgroup\":\"SL1960A20204\",\"line\":{\"color\":\"#FF6692\",\"dash\":\"solid\"},\"marker\":{\"symbol\":\"circle\"},\"mode\":\"markers+lines\",\"name\":\"SL1960A20204\",\"orientation\":\"v\",\"showlegend\":false,\"x\":[2003,2004,2005,2006,2007,2008,2009,2010,2011,2012,2013,2014,2015,2016],\"xaxis\":\"x2\",\"y\":[639.9,76120.0,null,null,null,null,null,null,null,null,null,null,null,null],\"yaxis\":\"y2\",\"type\":\"scatter\",\"connectgaps\":false},{\"hovertemplate\":\"fnid=SL1960A20205<br>indicator=production<br>year=%{x}<br>value=%{y}<extra></extra>\",\"legendgroup\":\"SL1960A20205\",\"line\":{\"color\":\"#B6E880\",\"dash\":\"solid\"},\"marker\":{\"symbol\":\"circle\"},\"mode\":\"markers+lines\",\"name\":\"SL1960A20205\",\"orientation\":\"v\",\"showlegend\":true,\"x\":[2003,2004,2005,2006,2007,2008,2009,2010,2011,2012,2013,2014,2015,2016],\"xaxis\":\"x3\",\"y\":[null,null,null,null,null,null,null,null,null,null,null,null,305913.0,332311.0],\"yaxis\":\"y3\",\"type\":\"scatter\",\"connectgaps\":false},{\"hovertemplate\":\"fnid=SL1960A20205<br>indicator=area<br>year=%{x}<br>value=%{y}<extra></extra>\",\"legendgroup\":\"SL1960A20205\",\"line\":{\"color\":\"#B6E880\",\"dash\":\"solid\"},\"marker\":{\"symbol\":\"circle\"},\"mode\":\"markers+lines\",\"name\":\"SL1960A20205\",\"orientation\":\"v\",\"showlegend\":false,\"x\":[2003,2004,2005,2006,2007,2008,2009,2010,2011,2012,2013,2014,2015,2016],\"xaxis\":\"x2\",\"y\":[26304.0,38130.0,null,null,null,null,null,null,null,null,null,null,null,null],\"yaxis\":\"y2\",\"type\":\"scatter\",\"connectgaps\":false},{\"hovertemplate\":\"fnid=SL1960A20301<br>indicator=production<br>year=%{x}<br>value=%{y}<extra></extra>\",\"legendgroup\":\"SL1960A20301\",\"line\":{\"color\":\"#FF97FF\",\"dash\":\"solid\"},\"marker\":{\"symbol\":\"circle\"},\"mode\":\"markers+lines\",\"name\":\"SL1960A20301\",\"orientation\":\"v\",\"showlegend\":true,\"x\":[2003,2004,2005,2006,2007,2008,2009,2010,2011,2012,2013,2014,2015,2016],\"xaxis\":\"x3\",\"y\":[null,null,null,null,null,null,null,null,null,null,null,null,291507.0,316662.0],\"yaxis\":\"y3\",\"type\":\"scatter\",\"connectgaps\":false},{\"hovertemplate\":\"fnid=SL1960A20301<br>indicator=area<br>year=%{x}<br>value=%{y}<extra></extra>\",\"legendgroup\":\"SL1960A20301\",\"line\":{\"color\":\"#FF97FF\",\"dash\":\"solid\"},\"marker\":{\"symbol\":\"circle\"},\"mode\":\"markers+lines\",\"name\":\"SL1960A20301\",\"orientation\":\"v\",\"showlegend\":false,\"x\":[2003,2004,2005,2006,2007,2008,2009,2010,2011,2012,2013,2014,2015,2016],\"xaxis\":\"x2\",\"y\":[1170.45,66782.0,null,null,null,null,null,null,null,null,null,null,null,null],\"yaxis\":\"y2\",\"type\":\"scatter\",\"connectgaps\":false},{\"hovertemplate\":\"fnid=SL1960A20302<br>indicator=production<br>year=%{x}<br>value=%{y}<extra></extra>\",\"legendgroup\":\"SL1960A20302\",\"line\":{\"color\":\"#FECB52\",\"dash\":\"solid\"},\"marker\":{\"symbol\":\"circle\"},\"mode\":\"markers+lines\",\"name\":\"SL1960A20302\",\"orientation\":\"v\",\"showlegend\":true,\"x\":[2003,2004,2005,2006,2007,2008,2009,2010,2011,2012,2013,2014,2015,2016],\"xaxis\":\"x3\",\"y\":[null,null,null,null,null,null,null,null,null,null,null,null,538998.0,585510.0],\"yaxis\":\"y3\",\"type\":\"scatter\",\"connectgaps\":false},{\"hovertemplate\":\"fnid=SL1960A20302<br>indicator=area<br>year=%{x}<br>value=%{y}<extra></extra>\",\"legendgroup\":\"SL1960A20302\",\"line\":{\"color\":\"#FECB52\",\"dash\":\"solid\"},\"marker\":{\"symbol\":\"circle\"},\"mode\":\"markers+lines\",\"name\":\"SL1960A20302\",\"orientation\":\"v\",\"showlegend\":false,\"x\":[2003,2004,2005,2006,2007,2008,2009,2010,2011,2012,2013,2014,2015,2016],\"xaxis\":\"x2\",\"y\":[747.225,4930.0,null,null,null,null,null,null,null,null,null,null,null,null],\"yaxis\":\"y2\",\"type\":\"scatter\",\"connectgaps\":false},{\"hovertemplate\":\"fnid=SL1960A20303<br>indicator=production<br>year=%{x}<br>value=%{y}<extra></extra>\",\"legendgroup\":\"SL1960A20303\",\"line\":{\"color\":\"#636efa\",\"dash\":\"solid\"},\"marker\":{\"symbol\":\"circle\"},\"mode\":\"markers+lines\",\"name\":\"SL1960A20303\",\"orientation\":\"v\",\"showlegend\":true,\"x\":[2003,2004,2005,2006,2007,2008,2009,2010,2011,2012,2013,2014,2015,2016],\"xaxis\":\"x3\",\"y\":[null,null,null,null,null,null,null,null,null,null,null,null,213357.0,231768.0],\"yaxis\":\"y3\",\"type\":\"scatter\",\"connectgaps\":false},{\"hovertemplate\":\"fnid=SL1960A20303<br>indicator=area<br>year=%{x}<br>value=%{y}<extra></extra>\",\"legendgroup\":\"SL1960A20303\",\"line\":{\"color\":\"#636efa\",\"dash\":\"solid\"},\"marker\":{\"symbol\":\"circle\"},\"mode\":\"markers+lines\",\"name\":\"SL1960A20303\",\"orientation\":\"v\",\"showlegend\":false,\"x\":[2003,2004,2005,2006,2007,2008,2009,2010,2011,2012,2013,2014,2015,2016],\"xaxis\":\"x2\",\"y\":[4586.22,9137.0,null,null,null,null,null,null,null,null,null,null,null,null],\"yaxis\":\"y2\",\"type\":\"scatter\",\"connectgaps\":false},{\"hovertemplate\":\"fnid=SL1960A20304<br>indicator=production<br>year=%{x}<br>value=%{y}<extra></extra>\",\"legendgroup\":\"SL1960A20304\",\"line\":{\"color\":\"#EF553B\",\"dash\":\"solid\"},\"marker\":{\"symbol\":\"circle\"},\"mode\":\"markers+lines\",\"name\":\"SL1960A20304\",\"orientation\":\"v\",\"showlegend\":true,\"x\":[2003,2004,2005,2006,2007,2008,2009,2010,2011,2012,2013,2014,2015,2016],\"xaxis\":\"x3\",\"y\":[null,null,null,null,null,null,null,null,null,null,null,null,196752.0,213731.0],\"yaxis\":\"y3\",\"type\":\"scatter\",\"connectgaps\":false},{\"hovertemplate\":\"fnid=SL1960A20304<br>indicator=area<br>year=%{x}<br>value=%{y}<extra></extra>\",\"legendgroup\":\"SL1960A20304\",\"line\":{\"color\":\"#EF553B\",\"dash\":\"solid\"},\"marker\":{\"symbol\":\"circle\"},\"mode\":\"markers+lines\",\"name\":\"SL1960A20304\",\"orientation\":\"v\",\"showlegend\":false,\"x\":[2003,2004,2005,2006,2007,2008,2009,2010,2011,2012,2013,2014,2015,2016],\"xaxis\":\"x2\",\"y\":[45279.0,48356.0,null,null,null,null,null,null,null,null,null,null,null,null],\"yaxis\":\"y2\",\"type\":\"scatter\",\"connectgaps\":false},{\"hovertemplate\":\"fnid=SL1960A20401<br>indicator=production<br>year=%{x}<br>value=%{y}<extra></extra>\",\"legendgroup\":\"SL1960A20401\",\"line\":{\"color\":\"#00cc96\",\"dash\":\"solid\"},\"marker\":{\"symbol\":\"circle\"},\"mode\":\"markers+lines\",\"name\":\"SL1960A20401\",\"orientation\":\"v\",\"showlegend\":true,\"x\":[2003,2004,2005,2006,2007,2008,2009,2010,2011,2012,2013,2014,2015,2016],\"xaxis\":\"x3\",\"y\":[null,null,null,null,null,null,null,null,null,null,null,null,27574.0,69953.0],\"yaxis\":\"y3\",\"type\":\"scatter\",\"connectgaps\":false},{\"hovertemplate\":\"fnid=SL1960A20401<br>indicator=area<br>year=%{x}<br>value=%{y}<extra></extra>\",\"legendgroup\":\"SL1960A20401\",\"line\":{\"color\":\"#00cc96\",\"dash\":\"solid\"},\"marker\":{\"symbol\":\"circle\"},\"mode\":\"markers+lines\",\"name\":\"SL1960A20401\",\"orientation\":\"v\",\"showlegend\":false,\"x\":[2003,2004,2005,2006,2007,2008,2009,2010,2011,2012,2013,2014,2015,2016],\"xaxis\":\"x2\",\"y\":[361.665,4324.0,null,null,null,null,null,null,null,null,null,null,null,null],\"yaxis\":\"y2\",\"type\":\"scatter\",\"connectgaps\":false}],                        {\"template\":{\"data\":{\"histogram2dcontour\":[{\"type\":\"histogram2dcontour\",\"colorbar\":{\"outlinewidth\":0,\"ticks\":\"\"},\"colorscale\":[[0.0,\"#0d0887\"],[0.1111111111111111,\"#46039f\"],[0.2222222222222222,\"#7201a8\"],[0.3333333333333333,\"#9c179e\"],[0.4444444444444444,\"#bd3786\"],[0.5555555555555556,\"#d8576b\"],[0.6666666666666666,\"#ed7953\"],[0.7777777777777778,\"#fb9f3a\"],[0.8888888888888888,\"#fdca26\"],[1.0,\"#f0f921\"]]}],\"choropleth\":[{\"type\":\"choropleth\",\"colorbar\":{\"outlinewidth\":0,\"ticks\":\"\"}}],\"histogram2d\":[{\"type\":\"histogram2d\",\"colorbar\":{\"outlinewidth\":0,\"ticks\":\"\"},\"colorscale\":[[0.0,\"#0d0887\"],[0.1111111111111111,\"#46039f\"],[0.2222222222222222,\"#7201a8\"],[0.3333333333333333,\"#9c179e\"],[0.4444444444444444,\"#bd3786\"],[0.5555555555555556,\"#d8576b\"],[0.6666666666666666,\"#ed7953\"],[0.7777777777777778,\"#fb9f3a\"],[0.8888888888888888,\"#fdca26\"],[1.0,\"#f0f921\"]]}],\"heatmap\":[{\"type\":\"heatmap\",\"colorbar\":{\"outlinewidth\":0,\"ticks\":\"\"},\"colorscale\":[[0.0,\"#0d0887\"],[0.1111111111111111,\"#46039f\"],[0.2222222222222222,\"#7201a8\"],[0.3333333333333333,\"#9c179e\"],[0.4444444444444444,\"#bd3786\"],[0.5555555555555556,\"#d8576b\"],[0.6666666666666666,\"#ed7953\"],[0.7777777777777778,\"#fb9f3a\"],[0.8888888888888888,\"#fdca26\"],[1.0,\"#f0f921\"]]}],\"heatmapgl\":[{\"type\":\"heatmapgl\",\"colorbar\":{\"outlinewidth\":0,\"ticks\":\"\"},\"colorscale\":[[0.0,\"#0d0887\"],[0.1111111111111111,\"#46039f\"],[0.2222222222222222,\"#7201a8\"],[0.3333333333333333,\"#9c179e\"],[0.4444444444444444,\"#bd3786\"],[0.5555555555555556,\"#d8576b\"],[0.6666666666666666,\"#ed7953\"],[0.7777777777777778,\"#fb9f3a\"],[0.8888888888888888,\"#fdca26\"],[1.0,\"#f0f921\"]]}],\"contourcarpet\":[{\"type\":\"contourcarpet\",\"colorbar\":{\"outlinewidth\":0,\"ticks\":\"\"}}],\"contour\":[{\"type\":\"contour\",\"colorbar\":{\"outlinewidth\":0,\"ticks\":\"\"},\"colorscale\":[[0.0,\"#0d0887\"],[0.1111111111111111,\"#46039f\"],[0.2222222222222222,\"#7201a8\"],[0.3333333333333333,\"#9c179e\"],[0.4444444444444444,\"#bd3786\"],[0.5555555555555556,\"#d8576b\"],[0.6666666666666666,\"#ed7953\"],[0.7777777777777778,\"#fb9f3a\"],[0.8888888888888888,\"#fdca26\"],[1.0,\"#f0f921\"]]}],\"surface\":[{\"type\":\"surface\",\"colorbar\":{\"outlinewidth\":0,\"ticks\":\"\"},\"colorscale\":[[0.0,\"#0d0887\"],[0.1111111111111111,\"#46039f\"],[0.2222222222222222,\"#7201a8\"],[0.3333333333333333,\"#9c179e\"],[0.4444444444444444,\"#bd3786\"],[0.5555555555555556,\"#d8576b\"],[0.6666666666666666,\"#ed7953\"],[0.7777777777777778,\"#fb9f3a\"],[0.8888888888888888,\"#fdca26\"],[1.0,\"#f0f921\"]]}],\"mesh3d\":[{\"type\":\"mesh3d\",\"colorbar\":{\"outlinewidth\":0,\"ticks\":\"\"}}],\"scatter\":[{\"fillpattern\":{\"fillmode\":\"overlay\",\"size\":10,\"solidity\":0.2},\"type\":\"scatter\"}],\"parcoords\":[{\"type\":\"parcoords\",\"line\":{\"colorbar\":{\"outlinewidth\":0,\"ticks\":\"\"}}}],\"scatterpolargl\":[{\"type\":\"scatterpolargl\",\"marker\":{\"colorbar\":{\"outlinewidth\":0,\"ticks\":\"\"}}}],\"bar\":[{\"error_x\":{\"color\":\"#2a3f5f\"},\"error_y\":{\"color\":\"#2a3f5f\"},\"marker\":{\"line\":{\"color\":\"#E5ECF6\",\"width\":0.5},\"pattern\":{\"fillmode\":\"overlay\",\"size\":10,\"solidity\":0.2}},\"type\":\"bar\"}],\"scattergeo\":[{\"type\":\"scattergeo\",\"marker\":{\"colorbar\":{\"outlinewidth\":0,\"ticks\":\"\"}}}],\"scatterpolar\":[{\"type\":\"scatterpolar\",\"marker\":{\"colorbar\":{\"outlinewidth\":0,\"ticks\":\"\"}}}],\"histogram\":[{\"marker\":{\"pattern\":{\"fillmode\":\"overlay\",\"size\":10,\"solidity\":0.2}},\"type\":\"histogram\"}],\"scattergl\":[{\"type\":\"scattergl\",\"marker\":{\"colorbar\":{\"outlinewidth\":0,\"ticks\":\"\"}}}],\"scatter3d\":[{\"type\":\"scatter3d\",\"line\":{\"colorbar\":{\"outlinewidth\":0,\"ticks\":\"\"}},\"marker\":{\"colorbar\":{\"outlinewidth\":0,\"ticks\":\"\"}}}],\"scattermapbox\":[{\"type\":\"scattermapbox\",\"marker\":{\"colorbar\":{\"outlinewidth\":0,\"ticks\":\"\"}}}],\"scatterternary\":[{\"type\":\"scatterternary\",\"marker\":{\"colorbar\":{\"outlinewidth\":0,\"ticks\":\"\"}}}],\"scattercarpet\":[{\"type\":\"scattercarpet\",\"marker\":{\"colorbar\":{\"outlinewidth\":0,\"ticks\":\"\"}}}],\"carpet\":[{\"aaxis\":{\"endlinecolor\":\"#2a3f5f\",\"gridcolor\":\"white\",\"linecolor\":\"white\",\"minorgridcolor\":\"white\",\"startlinecolor\":\"#2a3f5f\"},\"baxis\":{\"endlinecolor\":\"#2a3f5f\",\"gridcolor\":\"white\",\"linecolor\":\"white\",\"minorgridcolor\":\"white\",\"startlinecolor\":\"#2a3f5f\"},\"type\":\"carpet\"}],\"table\":[{\"cells\":{\"fill\":{\"color\":\"#EBF0F8\"},\"line\":{\"color\":\"white\"}},\"header\":{\"fill\":{\"color\":\"#C8D4E3\"},\"line\":{\"color\":\"white\"}},\"type\":\"table\"}],\"barpolar\":[{\"marker\":{\"line\":{\"color\":\"#E5ECF6\",\"width\":0.5},\"pattern\":{\"fillmode\":\"overlay\",\"size\":10,\"solidity\":0.2}},\"type\":\"barpolar\"}],\"pie\":[{\"automargin\":true,\"type\":\"pie\"}]},\"layout\":{\"autotypenumbers\":\"strict\",\"colorway\":[\"#636efa\",\"#EF553B\",\"#00cc96\",\"#ab63fa\",\"#FFA15A\",\"#19d3f3\",\"#FF6692\",\"#B6E880\",\"#FF97FF\",\"#FECB52\"],\"font\":{\"color\":\"#2a3f5f\"},\"hovermode\":\"closest\",\"hoverlabel\":{\"align\":\"left\"},\"paper_bgcolor\":\"white\",\"plot_bgcolor\":\"#E5ECF6\",\"polar\":{\"bgcolor\":\"#E5ECF6\",\"angularaxis\":{\"gridcolor\":\"white\",\"linecolor\":\"white\",\"ticks\":\"\"},\"radialaxis\":{\"gridcolor\":\"white\",\"linecolor\":\"white\",\"ticks\":\"\"}},\"ternary\":{\"bgcolor\":\"#E5ECF6\",\"aaxis\":{\"gridcolor\":\"white\",\"linecolor\":\"white\",\"ticks\":\"\"},\"baxis\":{\"gridcolor\":\"white\",\"linecolor\":\"white\",\"ticks\":\"\"},\"caxis\":{\"gridcolor\":\"white\",\"linecolor\":\"white\",\"ticks\":\"\"}},\"coloraxis\":{\"colorbar\":{\"outlinewidth\":0,\"ticks\":\"\"}},\"colorscale\":{\"sequential\":[[0.0,\"#0d0887\"],[0.1111111111111111,\"#46039f\"],[0.2222222222222222,\"#7201a8\"],[0.3333333333333333,\"#9c179e\"],[0.4444444444444444,\"#bd3786\"],[0.5555555555555556,\"#d8576b\"],[0.6666666666666666,\"#ed7953\"],[0.7777777777777778,\"#fb9f3a\"],[0.8888888888888888,\"#fdca26\"],[1.0,\"#f0f921\"]],\"sequentialminus\":[[0.0,\"#0d0887\"],[0.1111111111111111,\"#46039f\"],[0.2222222222222222,\"#7201a8\"],[0.3333333333333333,\"#9c179e\"],[0.4444444444444444,\"#bd3786\"],[0.5555555555555556,\"#d8576b\"],[0.6666666666666666,\"#ed7953\"],[0.7777777777777778,\"#fb9f3a\"],[0.8888888888888888,\"#fdca26\"],[1.0,\"#f0f921\"]],\"diverging\":[[0,\"#8e0152\"],[0.1,\"#c51b7d\"],[0.2,\"#de77ae\"],[0.3,\"#f1b6da\"],[0.4,\"#fde0ef\"],[0.5,\"#f7f7f7\"],[0.6,\"#e6f5d0\"],[0.7,\"#b8e186\"],[0.8,\"#7fbc41\"],[0.9,\"#4d9221\"],[1,\"#276419\"]]},\"xaxis\":{\"gridcolor\":\"white\",\"linecolor\":\"white\",\"ticks\":\"\",\"title\":{\"standoff\":15},\"zerolinecolor\":\"white\",\"automargin\":true,\"zerolinewidth\":2},\"yaxis\":{\"gridcolor\":\"white\",\"linecolor\":\"white\",\"ticks\":\"\",\"title\":{\"standoff\":15},\"zerolinecolor\":\"white\",\"automargin\":true,\"zerolinewidth\":2},\"scene\":{\"xaxis\":{\"backgroundcolor\":\"#E5ECF6\",\"gridcolor\":\"white\",\"linecolor\":\"white\",\"showbackground\":true,\"ticks\":\"\",\"zerolinecolor\":\"white\",\"gridwidth\":2},\"yaxis\":{\"backgroundcolor\":\"#E5ECF6\",\"gridcolor\":\"white\",\"linecolor\":\"white\",\"showbackground\":true,\"ticks\":\"\",\"zerolinecolor\":\"white\",\"gridwidth\":2},\"zaxis\":{\"backgroundcolor\":\"#E5ECF6\",\"gridcolor\":\"white\",\"linecolor\":\"white\",\"showbackground\":true,\"ticks\":\"\",\"zerolinecolor\":\"white\",\"gridwidth\":2}},\"shapedefaults\":{\"line\":{\"color\":\"#2a3f5f\"}},\"annotationdefaults\":{\"arrowcolor\":\"#2a3f5f\",\"arrowhead\":0,\"arrowwidth\":1},\"geo\":{\"bgcolor\":\"white\",\"landcolor\":\"#E5ECF6\",\"subunitcolor\":\"white\",\"showland\":true,\"showlakes\":true,\"lakecolor\":\"white\"},\"title\":{\"x\":0.05},\"mapbox\":{\"style\":\"light\"}}},\"xaxis\":{\"anchor\":\"y\",\"domain\":[0.0,0.98],\"title\":{\"text\":\"\"},\"range\":[1986,2016],\"dtick\":1},\"yaxis\":{\"anchor\":\"x\",\"domain\":[0.0,0.32666666666666666],\"title\":{\"text\":\"Yield (mt/ha)\"}},\"xaxis2\":{\"anchor\":\"y2\",\"domain\":[0.0,0.98],\"matches\":\"x\",\"showticklabels\":false,\"dtick\":1},\"yaxis2\":{\"anchor\":\"x2\",\"domain\":[0.33666666666666667,0.6633333333333333],\"title\":{\"text\":\"Area (ha)\"}},\"xaxis3\":{\"anchor\":\"y3\",\"domain\":[0.0,0.98],\"matches\":\"x\",\"showticklabels\":false,\"dtick\":1},\"yaxis3\":{\"anchor\":\"x3\",\"domain\":[0.6733333333333333,1.0],\"title\":{\"text\":\"Production (mt)\"}},\"annotations\":[{\"showarrow\":false,\"text\":\"\",\"textangle\":90,\"x\":0.98,\"xanchor\":\"left\",\"xref\":\"paper\",\"y\":0.16333333333333333,\"yanchor\":\"middle\",\"yref\":\"paper\"},{\"showarrow\":false,\"text\":\"\",\"textangle\":90,\"x\":0.98,\"xanchor\":\"left\",\"xref\":\"paper\",\"y\":0.5,\"yanchor\":\"middle\",\"yref\":\"paper\"},{\"showarrow\":false,\"text\":\"\",\"textangle\":90,\"x\":0.98,\"xanchor\":\"left\",\"xref\":\"paper\",\"y\":0.8366666666666667,\"yanchor\":\"middle\",\"yref\":\"paper\"},{\"align\":\"left\",\"font\":{\"color\":\"dimgrey\",\"family\":\"arial\",\"size\":15},\"showarrow\":false,\"text\":\"Production-Area-Yield time-series of SL - Cassava - Main season\",\"x\":-0.014,\"xref\":\"paper\",\"y\":-0.14,\"yref\":\"paper\"}],\"legend\":{\"title\":{\"text\":\"FNID\"},\"tracegroupgap\":0,\"yanchor\":\"top\",\"xanchor\":\"left\",\"y\":1.0,\"x\":1,\"font\":{\"size\":14}},\"margin\":{\"t\":0,\"r\":0,\"l\":0,\"b\":25},\"font\":{\"family\":\"arial\",\"size\":16,\"color\":\"black\"},\"width\":900,\"height\":600},                        {\"responsive\": true}                    ).then(function(){\n",
       "                            \n",
       "var gd = document.getElementById('c6bc1ae3-23c7-4f19-be96-b099815ed8d7');\n",
       "var x = new MutationObserver(function (mutations, observer) {{\n",
       "        var display = window.getComputedStyle(gd).display;\n",
       "        if (!display || display === 'none') {{\n",
       "            console.log([gd, 'removed!']);\n",
       "            Plotly.purge(gd);\n",
       "            observer.disconnect();\n",
       "        }}\n",
       "}});\n",
       "\n",
       "// Listen for the removal of the full notebook cells\n",
       "var notebookContainer = gd.closest('#notebook-container');\n",
       "if (notebookContainer) {{\n",
       "    x.observe(notebookContainer, {childList: true});\n",
       "}}\n",
       "\n",
       "// Listen for the clearing of the current output cell\n",
       "var outputEl = gd.closest('.output');\n",
       "if (outputEl) {{\n",
       "    x.observe(outputEl, {childList: true});\n",
       "}}\n",
       "\n",
       "                        })                };                });            </script>        </div>"
      ]
     },
     "metadata": {},
     "output_type": "display_data"
    }
   ],
   "source": [
    "# Lineplot of Production-Area-Yield time-series\n",
    "country_iso, country_name = 'SL', 'Sierra Leone'\n",
    "df = pd.read_csv('../data/crop/adm_crop_production_%s.csv' % country_iso, index_col=0)\n",
    "df['year'] = df['harvest_year']\n",
    "year = [df['year'].min(), df['year'].max()]\n",
    "product_season = [\n",
    "    ['Maize','Main'],\n",
    "    ['Sorghum','Main'],\n",
    "    ['Rice','Main'],\n",
    "    ['Groundnuts (In Shell)','Main'],\n",
    "    ['Cassava','Main'],\n",
    "]\n",
    "for product_name, season_name in product_season:\n",
    "    footnote = 'Production-Area-Yield time-series of %s - %s - %s' % (country_iso, product_name, season_name)\n",
    "    fn_save = '../figures/%s_line_pay_%s_%s.png' % (country_iso, product_name, season_name)\n",
    "    sub = df[(df['product'] == product_name) & (df['season_name'] == season_name)]\n",
    "    fig = PlotLinePAY(sub, year, footnote)#, fn_save)\n",
    "    fig.show()"
   ]
  },
  {
   "cell_type": "code",
   "execution_count": null,
   "id": "de28a703",
   "metadata": {},
   "outputs": [],
   "source": []
  }
 ],
 "metadata": {
  "kernelspec": {
   "display_name": "Python 3 (ipykernel)",
   "language": "python",
   "name": "python3"
  },
  "language_info": {
   "codemirror_mode": {
    "name": "ipython",
    "version": 3
   },
   "file_extension": ".py",
   "mimetype": "text/x-python",
   "name": "python",
   "nbconvert_exporter": "python",
   "pygments_lexer": "ipython3",
   "version": "3.10.10"
  }
 },
 "nbformat": 4,
 "nbformat_minor": 5
}
