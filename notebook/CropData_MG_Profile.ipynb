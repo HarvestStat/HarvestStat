{
 "cells": [
  {
   "attachments": {},
   "cell_type": "markdown",
   "id": "5a54535d-4fd0-4290-a987-d6baff7aa821",
   "metadata": {},
   "source": [
    "## FDW Crop Production Data Profiling - Madagascar"
   ]
  },
  {
   "cell_type": "code",
   "execution_count": 1,
   "id": "423b4763-5783-4282-ba84-d8ae8ba04fb5",
   "metadata": {},
   "outputs": [],
   "source": [
    "import os, sys, glob, json\n",
    "from itertools import product, compress, chain\n",
    "from functools import reduce\n",
    "import warnings\n",
    "warnings.simplefilter(action='ignore', category=FutureWarning)\n",
    "import requests\n",
    "import numpy as np\n",
    "import pandas as pd\n",
    "import geopandas as gpd\n",
    "from tools import save_hdf, save_npz, load_npz, PrintAdminUnits, PlotAdminShapes\n",
    "from tools import FDW_PD_Sweeper, FDW_PD_AvalTable, FDW_PD_Compiling, FDW_PD_GrainTypeAgg, FDW_PD_ValidateFnidName\n",
    "from tools import FDW_PD_CreateAdminLink, FDW_PD_RatioAdminLink, FDW_PD_ConnectAdminLink\n",
    "from tools import FDW_PD_CaliSeasonYear\n",
    "from tools_graphic import PlotBarProduction, PlotLinePAY, PlotHeatCropSystem, PlotHeatSeasonData\n",
    "import plotly.express as px\n",
    "import plotly.graph_objects as go\n",
    "from plotly.subplots import make_subplots\n",
    "warnings.simplefilter(action='ignore', category=pd.errors.PerformanceWarning)\n",
    "pd.options.mode.chained_assignment = None"
   ]
  },
  {
   "cell_type": "code",
   "execution_count": 2,
   "id": "5dea4360-9d29-4e5a-8edc-9cd8da7d8f52",
   "metadata": {},
   "outputs": [
    {
     "name": "stdout",
     "output_type": "stream",
     "text": [
      "- FEWS NET admin shapefiles ------------------- #\n",
      "| year\t | Admin1   | # units   | Admin2   | # units   | Admin3   | # units   |\n",
      "| 1982\t | MG1982A1 | 6\t| MG1982A2\t| 29\t| MG1982A3\t| 110\t|\n",
      "| 2004\t | MG2004A1 | 6\t| MG2004A2\t| 22\t| MG2004A3\t| 111\t|\n",
      "| 2009\t | MG2009A1 | 6\t| MG2009A2\t| 22\t| MG2009A3\t| 119\t|\n",
      "----------------------------------------------- #\n"
     ]
    }
   ],
   "source": [
    "# CPCV2 grain code ------------------------------ #\n",
    "grain_code = pd.read_hdf('../data/crop/grain_cpcv2_code.hdf')\n",
    "product_category = grain_code[['product', 'product_category']].set_index('product').to_dict()['product_category']\n",
    "# ----------------------------------------------- #\n",
    "\n",
    "# Load FEWS NET administrative boundaries ------- #\n",
    "epsg = 'epsg:32739' # Madagascar\n",
    "fn_shapes = sorted(glob.glob('../data/shapefile/fewsnet/MG_Admin?_????.shp'))\n",
    "shape_all = []\n",
    "for fn in fn_shapes:\n",
    "    name = fn[-18:-4]\n",
    "    exec('%s = gpd.read_file(\"%s\").to_crs(\"%s\")' % (name, fn, epsg))\n",
    "    exec('%s[\"area\"] = %s[\"geometry\"].area/10**6' % (name, name))\n",
    "    exec('shape_all.append(%s)' % (name))\n",
    "shape_all = pd.concat(shape_all, axis=0).reset_index(drop=True)\n",
    "PrintAdminUnits(shape_all)\n",
    "# ----------------------------------------------- #\n",
    "\n",
    "# FDW API host address -------------------------- #\n",
    "host = 'https://fdw.fews.net'\n",
    "auth = tuple(json.loads(open('token.json', \"r\").read()))\n",
    "parameters = {\n",
    "    'format': 'json',\n",
    "    'country': 'Madagascar',\n",
    "    'product': 'R011',\n",
    "    'survey_type': 'crop:best'\n",
    "}\n",
    "endpoint = '/api/cropproductionindicatorvalue/'\n",
    "response = requests.get(host + endpoint, auth=auth, params=parameters, proxies={})\n",
    "response.raise_for_status()\n",
    "df = pd.DataFrame.from_records(response.json())\n",
    "df_origin = df.copy()\n",
    "# ----------------------------------------------- #"
   ]
  },
  {
   "cell_type": "code",
   "execution_count": 3,
   "id": "c9e0ed12-78db-4ce5-bf50-dafd21a7d8dd",
   "metadata": {},
   "outputs": [
    {
     "name": "stdout",
     "output_type": "stream",
     "text": [
      "- Remove missing records ---------------------- #\n",
      "Orignial data points: 14,571\n",
      "Removed 1,804 \"Missing Value\" points\n",
      "4,025/4,725 \"Area Planted\" points are retained.\n",
      "4,719/4,725 \"Quantity Produced\" points are retained.\n",
      "4,023/4,725 \"Yield\" points are retained.\n",
      "0/396 \"Area Harvested\" points are retained.\n",
      "Current data points: 12,767\n",
      "\n",
      "- Minor changes are applied ------------------- #\n",
      "\n",
      "- Basic information --------------------------- #\n",
      "Data period: 1990 - 2020\n",
      "2 grain types are found: Maize (Corn), Rice (Paddy)\n",
      "1 seasons are found: Annual (05-01)\n",
      "1 crop production system are found: none\n",
      "Data sources include:\n",
      "[1] Ministry of Agriculture, Madagascar --- Annuaire des Statistiques Agricoles, Madagascar\n",
      "[2] Ministry of Agriculture, Madagascar --- FEWS NET Agro Maps, Madagascar\n",
      "[3] Ministry of Agriculture, Madagascar --- Official agricultural statistics, Madagascar\n",
      "Administrative-1 fnids: 0\n",
      "Administrative-2 fnids: 22\n",
      "0 reporting units are found: \n",
      "\n",
      "- Total production over time ------------------ #\n",
      "season_name  Annual\n",
      "                   \n",
      "Maize (Corn)   7.5%\n",
      "Rice (Paddy)  92.5%\n",
      "\n",
      "- Crop calendar ------------------------------- #\n",
      "        product season_name planting_month harvest_month\n",
      "0  Maize (Corn)      Annual          05-01         03-01\n",
      "1  Rice (Paddy)      Annual          05-01         03-01\n",
      "\n",
      "- Recorded years per season ------------------- #\n",
      "Annual: 31 years (1990-2020) (missing: 0 years)\n",
      "\n",
      "- Number of \"Quantity Produced\" data points --- #\n",
      "MG1982A3: 2,371 data points are found.\n",
      "MG2004A3: 1,952 data points are found.\n",
      "MG2009A2: 396 data points are found.\n",
      "\n",
      "- Districts with population group(s) ---------- #\n",
      "0 districts includes 'population_group'.\n",
      "\n",
      "Table of available data\n",
      "----------------------------------------------- #\n",
      "Crop type: Maize (Corn)\n",
      "----------------------------------------------- #\n",
      "season_name             Annual                \n",
      "crop_production_system    none                \n",
      "fnid_short              1982A3   2004A3 2009A2\n",
      "year                                          \n",
      "1990                    97/110      NaN    NaN\n",
      "1991                    97/110      NaN    NaN\n",
      "1992                    97/110      NaN    NaN\n",
      "1993                    97/110      NaN    NaN\n",
      "1994                    99/110      NaN    NaN\n",
      "1995                    99/110      NaN    NaN\n",
      "1996                    99/110      NaN    NaN\n",
      "1997                    99/110      NaN    NaN\n",
      "1998                    99/110      NaN    NaN\n",
      "1999                    99/110      NaN    NaN\n",
      "2000                    99/110      NaN    NaN\n",
      "2001                    99/110    1/111    NaN\n",
      "2002                       NaN  102/111    NaN\n",
      "2003                       NaN   99/111    NaN\n",
      "2004                       NaN   99/111    NaN\n",
      "2005                       NaN  104/111    NaN\n",
      "2006                       NaN  104/111    NaN\n",
      "2007                       NaN  104/111    NaN\n",
      "2008                       NaN  104/111    NaN\n",
      "2009                       NaN  104/111    NaN\n",
      "2010                       NaN  104/111    NaN\n",
      "2011                       NaN      NaN    NaN\n",
      "2012                       NaN      NaN  22/22\n",
      "2013                       NaN      NaN  22/22\n",
      "2014                       NaN      NaN  22/22\n",
      "2015                       NaN      NaN  22/22\n",
      "2016                       NaN      NaN  22/22\n",
      "2017                       NaN      NaN  22/22\n",
      "2018                       NaN      NaN  22/22\n",
      "2019                       NaN      NaN  22/22\n",
      "2020                       NaN      NaN  22/22\n",
      "----------------------------------------------- #\n",
      "Crop type: Rice (Paddy)\n",
      "----------------------------------------------- #\n",
      "season_name              Annual                \n",
      "crop_production_system     none                \n",
      "fnid_short               1982A3   2004A3 2009A2\n",
      "year                                           \n",
      "1990                    100/110      NaN    NaN\n",
      "1991                    100/110      NaN    NaN\n",
      "1992                    100/110      NaN    NaN\n",
      "1993                     99/110      NaN    NaN\n",
      "1994                     99/110      NaN    NaN\n",
      "1995                     99/110      NaN    NaN\n",
      "1996                     99/110      NaN    NaN\n",
      "1997                     99/110      NaN    NaN\n",
      "1998                     99/110      NaN    NaN\n",
      "1999                     99/110      NaN    NaN\n",
      "2000                     99/110      NaN    NaN\n",
      "2001                     99/110    3/111    NaN\n",
      "2002                        NaN  102/111    NaN\n",
      "2003                        NaN  102/111    NaN\n",
      "2004                        NaN  102/111    NaN\n",
      "2005                        NaN  103/111    NaN\n",
      "2006                        NaN  103/111    NaN\n",
      "2007                        NaN  103/111    NaN\n",
      "2008                        NaN  103/111    NaN\n",
      "2009                        NaN  103/111    NaN\n",
      "2010                        NaN  103/111    NaN\n",
      "2011                        NaN  102/111    NaN\n",
      "2012                        NaN      NaN  22/22\n",
      "2013                        NaN      NaN  22/22\n",
      "2014                        NaN      NaN  22/22\n",
      "2015                        NaN      NaN  22/22\n",
      "2016                        NaN      NaN  22/22\n",
      "2017                        NaN      NaN  22/22\n",
      "2018                        NaN      NaN  22/22\n",
      "2019                        NaN      NaN  22/22\n",
      "2020                        NaN      NaN  22/22\n",
      "----------------------------------------------- #\n",
      "../figures/MG_admin_shapes.png is saved.\n"
     ]
    }
   ],
   "source": [
    "# Manual Pre-processing before Sweeping --------- #\n",
    "# 1. Default setting \n",
    "# a) None-type crop production system\n",
    "df.loc[df['crop_production_system'].isna(), 'crop_production_system'] = 'none'\n",
    "df.loc[df['crop_production_system'] == '', 'crop_production_system'] = 'none'\n",
    "# b) None-type population group\n",
    "df.loc[df['population_group'].isna(), 'population_group'] = 'none'\n",
    "df.loc[df['population_group'] == '', 'population_group'] = 'none'\n",
    "# 2. Manual setting\n",
    "# a) Remove reporting units\n",
    "df = df[df['fnid'] != 'MG1982R3010101']\n",
    "# ----------------------------------------------- #\n",
    "\n",
    "# FDW Production Data Inspection ---------------- #\n",
    "df, df_raw = FDW_PD_Sweeper(df, area_priority='Area Harvested')\n",
    "table_dict = FDW_PD_AvalTable(df, shape_all)\n",
    "# ----------------------------------------------- #\n",
    "\n",
    "# FEWS NET Shapefile comparison ----------------- #\n",
    "shape_used = pd.concat([\n",
    "    MG_Admin3_1982, MG_Admin3_2004, MG_Admin2_2009\n",
    "], axis=0)\n",
    "PlotAdminShapes(shape_used, label=True)\n",
    "# ----------------------------------------------- #"
   ]
  },
  {
   "attachments": {},
   "cell_type": "markdown",
   "id": "c306101b-6d9e-45d3-af48-3cecb4033e29",
   "metadata": {},
   "source": [
    "- Madagascar crop seasonal calendar\n",
    "\n",
    "![FEWS NET](https://fews.net/sites/default/files/styles/large_width_880/public/2023-03/seasonal-calendar-madagascar.png?itok=xj7JlAs0)\n",
    "\n",
    "<img src=\"https://www.arcgis.com/sharing/rest/content/items/7089db1e20d140d59f8db79afb0996ff/data\"  width=\"60%\">\n",
    "\n",
    "- FDW data consists of `MG1982A3`, `MG1982R3`, `MG2004A3`, and `MG2009A2`\n",
    "\n",
    "| Year  | Admin-1  | # units  | Admin-2  | # units | Admin-3  | # units |\n",
    "| :---: | :----:   | :----:   | :----:   | :---:   | :----:   | :---:   |\n",
    "| 1982\t | MG1982A1 | 6\t| MG1982A2\t| 29\t| MG1982A3\t| 110\t|\n",
    "| 2004\t | MG2004A1 | 6\t| MG2004A2\t| 22\t| MG2004A3\t| 111\t|\n",
    "| 2009\t | MG2009A1 | 6\t| **`MG2009A2`**\t| 22\t| MG2009A3\t| 119\t|\n",
    "\n",
    "- In 2004, 1 district is divided and added.\n",
    "\n",
    "| 1982-2004 | 2004-2009 |\n",
    "| :---:| :---:|\n",
    "|Ambositra (MG1982A3030102) | Ambositra (MG2004A3030202), Manandriana (MG2004A3030204) |\n",
    "\n",
    "- Comparison between admin boundaries.\n",
    "\n",
    "![image](https://github.com/chc-ucsb/gscd/blob/main/figures/MG_admin_shapes.png?raw=true)\n",
    "\n",
    "- In 2009, admin-level 3 data became admin-level 2 data.\n",
    "- **`MG2009A2`** is used to represent the current admin-level 2 crop data.\n",
    "- Madagascar has a single crop season: `Annual`.\n",
    "- Madagascar has no population group(s)."
   ]
  },
  {
   "cell_type": "code",
   "execution_count": 4,
   "id": "06e0b5a4-4b30-43d4-8222-c2a0ca5cd17d",
   "metadata": {},
   "outputs": [],
   "source": [
    "# Define the latest shapefile ------------------- #\n",
    "latest_level = 2\n",
    "shape_latest = MG_Admin2_2009.copy().to_crs('epsg:4326')\n",
    "# ----------------------------------------------- #\n",
    "\n",
    "# Validation of FNIDs and Names ----------------- #\n",
    "df = FDW_PD_ValidateFnidName(df, shape_used, shape_latest)\n",
    "# Manual change\n",
    "idx = shape_used['FNID'].apply(lambda x: x[6:8] == 'A3')\n",
    "shape_used.loc[idx, 'name'] = shape_used.loc[idx, 'ADMIN3']\n",
    "# ----------------------------------------------- #\n",
    "\n",
    "# FDW Production Data Compiling ----------------- #\n",
    "area, prod = FDW_PD_Compiling(df, shape_used)\n",
    "area_all, prod_all = area.copy(), prod.copy()\n",
    "mdx_pss = area.columns.droplevel([0,1]).unique()\n",
    "# ----------------------------------------------- #"
   ]
  },
  {
   "cell_type": "code",
   "execution_count": 5,
   "id": "26e214c0",
   "metadata": {},
   "outputs": [],
   "source": [
    "# Aggregation to lower admin level -------------- #\n",
    "# *We aggregate admin-3 data to admin-2 data\n",
    "# Generate AdminLink manually\n",
    "from tools import CreateLinkAdmin, invert_dicts\n",
    "link_1982, _, _ = CreateLinkAdmin(MG_Admin2_2009, MG_Admin3_1982, old_on='ADMIN2', new_on='ADMIN3')\n",
    "link_1982 = invert_dicts(link_1982)\n",
    "link_2004, _, _ = CreateLinkAdmin(MG_Admin2_2009, MG_Admin3_2004, old_on='ADMIN2', new_on='ADMIN3')\n",
    "link_2004 = invert_dicts(link_2004)\n",
    "assert link_1982.keys() == link_2004.keys()\n",
    "link = {}\n",
    "for fnid in link_1982.keys():\n",
    "    link[fnid] = [*link_1982[fnid], *link_2004[fnid]]\n",
    "# Connect data with AdminLink\n",
    "area_new = []\n",
    "prod_new = []\n",
    "for fnid in link.keys():\n",
    "    area_merged = [area[i].droplevel(0, axis=1) for i in [fnid, *link[fnid]]]\n",
    "    area_merged = reduce(lambda a, b: a.add(b, fill_value=0), area_merged)\n",
    "    area_merged.columns = area[fnid].columns\n",
    "    area_merged = pd.concat([area_merged], keys=[fnid], names=['fnid'], axis=1)\n",
    "    area_new.append(area_merged)\n",
    "    prod_merged = [prod[i].droplevel(0, axis=1) for i in [fnid, *link[fnid]]]\n",
    "    prod_merged = reduce(lambda a, b: a.add(b, fill_value=0), prod_merged)\n",
    "    prod_merged.columns = prod[fnid].columns\n",
    "    prod_merged = pd.concat([prod_merged], keys=[fnid], names=['fnid'], axis=1)\n",
    "    prod_new.append(prod_merged)\n",
    "area_new = pd.concat(area_new, axis=1)\n",
    "prod_new = pd.concat(prod_new, axis=1)\n",
    "assert area.sum().sum() == area_new.sum().sum()\n",
    "assert prod.sum().sum() == prod_new.sum().sum()\n",
    "# ----------------------------------------------- #"
   ]
  },
  {
   "cell_type": "code",
   "execution_count": 6,
   "id": "77ee0e73",
   "metadata": {},
   "outputs": [
    {
     "name": "stdout",
     "output_type": "stream",
     "text": [
      "../data/crop/adm_crop_production_MG.csv is saved.\n",
      "../data/crop/adm_crop_production_MG.hdf is saved.\n",
      "../data/crop/adm_crop_production_MG_raw.hdf is saved.\n"
     ]
    }
   ],
   "source": [
    "# Manual correction ----------------------------- #\n",
    "crop_new = prod_new/area_new\n",
    "area_new.loc[2004,pd.IndexSlice['MG2009A20501',:,'Maize (Corn)','Annual',:]] = np.nan\n",
    "crop_new.loc[2004,pd.IndexSlice['MG2009A20501',:,'Maize (Corn)','Annual',:]] = np.nan\n",
    "# ----------------------------------------------- #\n",
    "\n",
    "# Complete long format DataFrame ---------------- #\n",
    "df_area = area_new.T.stack().rename('value').reset_index()\n",
    "df_area['indicator'] = 'area'\n",
    "df_prod = prod_new.T.stack().rename('value').reset_index()\n",
    "df_prod['indicator'] = 'production'\n",
    "df_yield = crop_new.T.stack().rename('value').reset_index()\n",
    "df_yield['indicator'] = 'yield'\n",
    "stack = pd.concat([df_area, df_prod, df_yield], axis=0)\n",
    "# Add \"planting year\"\n",
    "cols = ['season_name','product','crop_production_system','planting_month','harvest_year','harvest_month','planting_year']\n",
    "season_table = df[cols].drop_duplicates()\n",
    "stack = stack.merge(season_table, on=cols[:-1])\n",
    "# Add country and admin names\n",
    "stack = stack.merge(df[['fnid','country','country_code','admin_1','admin_2']].drop_duplicates(), on='fnid', how='inner')\n",
    "names = [\n",
    "    'fnid','country','country_code','admin_1','admin_2','name',\n",
    "    'product','season_name','planting_year','planting_month','harvest_year','harvest_month',\n",
    "    'crop_production_system','indicator','value'\n",
    "]\n",
    "stack_gscd = stack[names]\n",
    "stack_gscd['gscd_code'] = 'calibrated'\n",
    "# ----------------------------------------------- #\n",
    "\n",
    "# Reported FDW data ----------------------------- #\n",
    "stack_fdw = df[names]\n",
    "stack_fdw['indicator'] = stack_fdw['indicator'].replace({'Area Harvested':'area','Quantity Produced':'production','Yield':'yield'})\n",
    "stack_fdw['gscd_code'] = 'reported'\n",
    "# ----------------------------------------------- #\n",
    "\n",
    "# Final Processing ------------------------------ #\n",
    "stack = pd.concat([stack_fdw,stack_gscd], axis=0).reset_index(drop=True)\n",
    "# No concerns found for grain types\n",
    "stack['product'] = stack['product'].replace(product_category)\n",
    "# Calibration of planting and Harvest year and season\n",
    "crop_calendar = dict(\n",
    "    Rice = dict(planting_year=-1, planting_month='11-01', harvest_year=-1, harvest_month='06-01'),\n",
    "    Maize = dict(planting_year=-1, planting_month='11-01', harvest_year=-1, harvest_month='05-01')\n",
    ")\n",
    "for k, v in crop_calendar.items():\n",
    "    stack.loc[stack['product'] == k, 'planting_year'] += v['planting_year']\n",
    "    stack.loc[stack['product'] == k, 'planting_month'] = v['planting_month']\n",
    "    stack.loc[stack['product'] == k, 'harvest_year'] += v['harvest_year']\n",
    "    stack.loc[stack['product'] == k, 'harvest_month'] = v['harvest_month']\n",
    "stack.loc[stack['admin_1'].isna(), 'admin_1'] = 'none'\n",
    "stack.loc[stack['admin_2'].isna(), 'admin_2'] = 'none'\n",
    "# ----------------------------------------------- #\n",
    "\n",
    "# Save data\n",
    "fn_out = '../data/crop/adm_crop_production_MG.csv'\n",
    "stack.to_csv(fn_out); print(f'{fn_out} is saved.')\n",
    "save_hdf('../data/crop/adm_crop_production_MG.hdf', stack)\n",
    "save_hdf('../data/crop/adm_crop_production_MG_raw.hdf', df)"
   ]
  },
  {
   "attachments": {},
   "cell_type": "markdown",
   "id": "fbb25be0-43f7-4cdb-b454-53c2f46a4727",
   "metadata": {},
   "source": [
    "## Visualization of production data"
   ]
  },
  {
   "cell_type": "code",
   "execution_count": 7,
   "id": "fa07821d-4806-4275-b67b-00c96ec7dc93",
   "metadata": {},
   "outputs": [
    {
     "name": "stdout",
     "output_type": "stream",
     "text": [
      "../figures/MG_bar_natgrainprod_Annual.png is saved.\n"
     ]
    },
    {
     "data": {
      "application/vnd.plotly.v1+json": {
       "config": {
        "plotlyServerURL": "https://plot.ly"
       },
       "data": [
        {
         "alignmentgroup": "True",
         "hovertemplate": "product=Rice<br>season_name=Annual<br>type=orig_unit<br>year=%{x}<br>value=%{y}<extra></extra>",
         "legendgroup": "Rice",
         "marker": {
          "color": "#636efa",
          "pattern": {
           "shape": ""
          }
         },
         "name": "Rice",
         "offsetgroup": "Rice",
         "orientation": "v",
         "showlegend": true,
         "textposition": "auto",
         "type": "bar",
         "x": [
          1990,
          1991,
          1992,
          1993,
          1994,
          1995,
          1996,
          1997,
          1998,
          1999,
          2000,
          2001,
          2002,
          2003,
          2004,
          2005,
          2006,
          2007,
          2008,
          2009,
          2010,
          2011,
          2012,
          2013,
          2014,
          2015,
          2016,
          2017,
          2018,
          2019,
          2020
         ],
         "xaxis": "x2",
         "y": [
          2342660,
          2280829,
          2387155,
          2479723,
          2296700,
          2398330,
          2452550,
          2501630,
          2391700,
          2513050,
          2423160,
          2662470,
          2600185,
          2757107,
          2983038,
          3392459,
          3487930,
          3595755,
          3914175,
          4540435,
          4737965,
          4155215,
          4550650,
          3610626,
          3977863,
          3722304.00944185,
          3815849.11886715,
          3100505.36800028,
          3328200.15293502,
          3910629.40585218,
          4227927.37049973
         ],
         "yaxis": "y2"
        },
        {
         "alignmentgroup": "True",
         "hovertemplate": "product=Rice<br>season_name=Annual<br>type=percent<br>year=%{x}<br>value=%{y}<extra></extra>",
         "legendgroup": "Rice",
         "marker": {
          "color": "#636efa",
          "pattern": {
           "shape": ""
          }
         },
         "name": "Rice",
         "offsetgroup": "Rice",
         "orientation": "v",
         "showlegend": false,
         "textposition": "auto",
         "type": "bar",
         "x": [
          1990,
          1991,
          1992,
          1993,
          1994,
          1995,
          1996,
          1997,
          1998,
          1999,
          2000,
          2001,
          2002,
          2003,
          2004,
          2005,
          2006,
          2007,
          2008,
          2009,
          2010,
          2011,
          2012,
          2013,
          2014,
          2015,
          2016,
          2017,
          2018,
          2019,
          2020
         ],
         "xaxis": "x",
         "y": [
          93.85254718647879,
          94.085493453741,
          94.88768642907993,
          93.82359874126122,
          93.74113536690143,
          93.19530823468153,
          93.24841975191293,
          93.41830104410953,
          93.97476272521705,
          93.70164468655503,
          93.51966562076672,
          93.74828346279251,
          93.83345169941943,
          91.09708418041743,
          91.99462657071962,
          89.75324372275291,
          89.91832426827753,
          88.88452456022522,
          87.93215463685465,
          90.75506375731942,
          91.38369593268185,
          100,
          91.03852789752015,
          90.49478059998562,
          91.6137953895793,
          91.87084558317224,
          92.34468498330472,
          91.67687567314545,
          93.9320245952019,
          94.69180520654486,
          94.94963709216077
         ],
         "yaxis": "y"
        },
        {
         "alignmentgroup": "True",
         "hovertemplate": "product=Maize<br>season_name=Annual<br>type=orig_unit<br>year=%{x}<br>value=%{y}<extra></extra>",
         "legendgroup": "Maize",
         "marker": {
          "color": "#EF553B",
          "pattern": {
           "shape": ""
          }
         },
         "name": "Maize",
         "offsetgroup": "Maize",
         "orientation": "v",
         "showlegend": true,
         "textposition": "auto",
         "type": "bar",
         "x": [
          1990,
          1991,
          1992,
          1993,
          1994,
          1995,
          1996,
          1997,
          1998,
          1999,
          2000,
          2001,
          2002,
          2003,
          2004,
          2005,
          2006,
          2007,
          2008,
          2009,
          2010,
          2012,
          2013,
          2014,
          2015,
          2016,
          2017,
          2018,
          2019,
          2020
         ],
         "xaxis": "x2",
         "y": [
          153447,
          143380,
          128614,
          163240,
          153345,
          175115,
          177575,
          176250,
          153345,
          168920,
          167910,
          177550,
          170879,
          269452,
          259584,
          387303,
          391068,
          449668,
          537183,
          462520,
          446729,
          447947.96186792,
          379246.09655777004,
          364128.27225818,
          329366.55679016,
          316331.43874375,
          281487.46850789,
          215000.54701564,
          219220.47642875,
          224883.08773929
         ],
         "yaxis": "y2"
        },
        {
         "alignmentgroup": "True",
         "hovertemplate": "product=Maize<br>season_name=Annual<br>type=percent<br>year=%{x}<br>value=%{y}<extra></extra>",
         "legendgroup": "Maize",
         "marker": {
          "color": "#EF553B",
          "pattern": {
           "shape": ""
          }
         },
         "name": "Maize",
         "offsetgroup": "Maize",
         "orientation": "v",
         "showlegend": false,
         "textposition": "auto",
         "type": "bar",
         "x": [
          1990,
          1991,
          1992,
          1993,
          1994,
          1995,
          1996,
          1997,
          1998,
          1999,
          2000,
          2001,
          2002,
          2003,
          2004,
          2005,
          2006,
          2007,
          2008,
          2009,
          2010,
          2012,
          2013,
          2014,
          2015,
          2016,
          2017,
          2018,
          2019,
          2020
         ],
         "xaxis": "x",
         "y": [
          6.147452813521215,
          5.914506546259006,
          5.112313570920064,
          6.176401258738771,
          6.258864633098575,
          6.804691765318474,
          6.751580248087068,
          6.581698955890481,
          6.025237274782961,
          6.298355313444967,
          6.480334379233289,
          6.251716537207484,
          6.166548300580571,
          8.902915819582569,
          8.005373429280379,
          10.246756277247087,
          10.081675731722472,
          11.115475439774777,
          12.06784536314536,
          9.244936242680577,
          8.616304067318147,
          8.96147210247985,
          9.50521940001439,
          8.386204610420704,
          8.129154416827767,
          7.65531501669528,
          8.323124326854558,
          6.067975404798095,
          5.308194793455151,
          5.050362907839241
         ],
         "yaxis": "y"
        }
       ],
       "layout": {
        "annotations": [
         {
          "showarrow": false,
          "text": "",
          "textangle": 90,
          "x": 0.98,
          "xanchor": "left",
          "xref": "paper",
          "y": 0.2375,
          "yanchor": "middle",
          "yref": "paper"
         },
         {
          "showarrow": false,
          "text": "",
          "textangle": 90,
          "x": 0.98,
          "xanchor": "left",
          "xref": "paper",
          "y": 0.7625,
          "yanchor": "middle",
          "yref": "paper"
         },
         {
          "align": "left",
          "font": {
           "color": "dimgrey",
           "family": "arial",
           "size": 15
          },
          "showarrow": false,
          "text": "National grain production in Madagascar - Annual",
          "x": 0,
          "xref": "paper",
          "y": -0.13,
          "yref": "paper"
         }
        ],
        "barmode": "relative",
        "font": {
         "color": "black",
         "family": "arial",
         "size": 15
        },
        "height": 600,
        "legend": {
         "title": {
          "text": "Product"
         },
         "tracegroupgap": 0,
         "x": 1,
         "y": 1.01
        },
        "margin": {
         "b": 0,
         "l": 0,
         "r": 0,
         "t": 0
        },
        "template": {
         "data": {
          "bar": [
           {
            "error_x": {
             "color": "#2a3f5f"
            },
            "error_y": {
             "color": "#2a3f5f"
            },
            "marker": {
             "line": {
              "color": "#E5ECF6",
              "width": 0.5
             },
             "pattern": {
              "fillmode": "overlay",
              "size": 10,
              "solidity": 0.2
             }
            },
            "type": "bar"
           }
          ],
          "barpolar": [
           {
            "marker": {
             "line": {
              "color": "#E5ECF6",
              "width": 0.5
             },
             "pattern": {
              "fillmode": "overlay",
              "size": 10,
              "solidity": 0.2
             }
            },
            "type": "barpolar"
           }
          ],
          "carpet": [
           {
            "aaxis": {
             "endlinecolor": "#2a3f5f",
             "gridcolor": "white",
             "linecolor": "white",
             "minorgridcolor": "white",
             "startlinecolor": "#2a3f5f"
            },
            "baxis": {
             "endlinecolor": "#2a3f5f",
             "gridcolor": "white",
             "linecolor": "white",
             "minorgridcolor": "white",
             "startlinecolor": "#2a3f5f"
            },
            "type": "carpet"
           }
          ],
          "choropleth": [
           {
            "colorbar": {
             "outlinewidth": 0,
             "ticks": ""
            },
            "type": "choropleth"
           }
          ],
          "contour": [
           {
            "colorbar": {
             "outlinewidth": 0,
             "ticks": ""
            },
            "colorscale": [
             [
              0,
              "#0d0887"
             ],
             [
              0.1111111111111111,
              "#46039f"
             ],
             [
              0.2222222222222222,
              "#7201a8"
             ],
             [
              0.3333333333333333,
              "#9c179e"
             ],
             [
              0.4444444444444444,
              "#bd3786"
             ],
             [
              0.5555555555555556,
              "#d8576b"
             ],
             [
              0.6666666666666666,
              "#ed7953"
             ],
             [
              0.7777777777777778,
              "#fb9f3a"
             ],
             [
              0.8888888888888888,
              "#fdca26"
             ],
             [
              1,
              "#f0f921"
             ]
            ],
            "type": "contour"
           }
          ],
          "contourcarpet": [
           {
            "colorbar": {
             "outlinewidth": 0,
             "ticks": ""
            },
            "type": "contourcarpet"
           }
          ],
          "heatmap": [
           {
            "colorbar": {
             "outlinewidth": 0,
             "ticks": ""
            },
            "colorscale": [
             [
              0,
              "#0d0887"
             ],
             [
              0.1111111111111111,
              "#46039f"
             ],
             [
              0.2222222222222222,
              "#7201a8"
             ],
             [
              0.3333333333333333,
              "#9c179e"
             ],
             [
              0.4444444444444444,
              "#bd3786"
             ],
             [
              0.5555555555555556,
              "#d8576b"
             ],
             [
              0.6666666666666666,
              "#ed7953"
             ],
             [
              0.7777777777777778,
              "#fb9f3a"
             ],
             [
              0.8888888888888888,
              "#fdca26"
             ],
             [
              1,
              "#f0f921"
             ]
            ],
            "type": "heatmap"
           }
          ],
          "heatmapgl": [
           {
            "colorbar": {
             "outlinewidth": 0,
             "ticks": ""
            },
            "colorscale": [
             [
              0,
              "#0d0887"
             ],
             [
              0.1111111111111111,
              "#46039f"
             ],
             [
              0.2222222222222222,
              "#7201a8"
             ],
             [
              0.3333333333333333,
              "#9c179e"
             ],
             [
              0.4444444444444444,
              "#bd3786"
             ],
             [
              0.5555555555555556,
              "#d8576b"
             ],
             [
              0.6666666666666666,
              "#ed7953"
             ],
             [
              0.7777777777777778,
              "#fb9f3a"
             ],
             [
              0.8888888888888888,
              "#fdca26"
             ],
             [
              1,
              "#f0f921"
             ]
            ],
            "type": "heatmapgl"
           }
          ],
          "histogram": [
           {
            "marker": {
             "pattern": {
              "fillmode": "overlay",
              "size": 10,
              "solidity": 0.2
             }
            },
            "type": "histogram"
           }
          ],
          "histogram2d": [
           {
            "colorbar": {
             "outlinewidth": 0,
             "ticks": ""
            },
            "colorscale": [
             [
              0,
              "#0d0887"
             ],
             [
              0.1111111111111111,
              "#46039f"
             ],
             [
              0.2222222222222222,
              "#7201a8"
             ],
             [
              0.3333333333333333,
              "#9c179e"
             ],
             [
              0.4444444444444444,
              "#bd3786"
             ],
             [
              0.5555555555555556,
              "#d8576b"
             ],
             [
              0.6666666666666666,
              "#ed7953"
             ],
             [
              0.7777777777777778,
              "#fb9f3a"
             ],
             [
              0.8888888888888888,
              "#fdca26"
             ],
             [
              1,
              "#f0f921"
             ]
            ],
            "type": "histogram2d"
           }
          ],
          "histogram2dcontour": [
           {
            "colorbar": {
             "outlinewidth": 0,
             "ticks": ""
            },
            "colorscale": [
             [
              0,
              "#0d0887"
             ],
             [
              0.1111111111111111,
              "#46039f"
             ],
             [
              0.2222222222222222,
              "#7201a8"
             ],
             [
              0.3333333333333333,
              "#9c179e"
             ],
             [
              0.4444444444444444,
              "#bd3786"
             ],
             [
              0.5555555555555556,
              "#d8576b"
             ],
             [
              0.6666666666666666,
              "#ed7953"
             ],
             [
              0.7777777777777778,
              "#fb9f3a"
             ],
             [
              0.8888888888888888,
              "#fdca26"
             ],
             [
              1,
              "#f0f921"
             ]
            ],
            "type": "histogram2dcontour"
           }
          ],
          "mesh3d": [
           {
            "colorbar": {
             "outlinewidth": 0,
             "ticks": ""
            },
            "type": "mesh3d"
           }
          ],
          "parcoords": [
           {
            "line": {
             "colorbar": {
              "outlinewidth": 0,
              "ticks": ""
             }
            },
            "type": "parcoords"
           }
          ],
          "pie": [
           {
            "automargin": true,
            "type": "pie"
           }
          ],
          "scatter": [
           {
            "fillpattern": {
             "fillmode": "overlay",
             "size": 10,
             "solidity": 0.2
            },
            "type": "scatter"
           }
          ],
          "scatter3d": [
           {
            "line": {
             "colorbar": {
              "outlinewidth": 0,
              "ticks": ""
             }
            },
            "marker": {
             "colorbar": {
              "outlinewidth": 0,
              "ticks": ""
             }
            },
            "type": "scatter3d"
           }
          ],
          "scattercarpet": [
           {
            "marker": {
             "colorbar": {
              "outlinewidth": 0,
              "ticks": ""
             }
            },
            "type": "scattercarpet"
           }
          ],
          "scattergeo": [
           {
            "marker": {
             "colorbar": {
              "outlinewidth": 0,
              "ticks": ""
             }
            },
            "type": "scattergeo"
           }
          ],
          "scattergl": [
           {
            "marker": {
             "colorbar": {
              "outlinewidth": 0,
              "ticks": ""
             }
            },
            "type": "scattergl"
           }
          ],
          "scattermapbox": [
           {
            "marker": {
             "colorbar": {
              "outlinewidth": 0,
              "ticks": ""
             }
            },
            "type": "scattermapbox"
           }
          ],
          "scatterpolar": [
           {
            "marker": {
             "colorbar": {
              "outlinewidth": 0,
              "ticks": ""
             }
            },
            "type": "scatterpolar"
           }
          ],
          "scatterpolargl": [
           {
            "marker": {
             "colorbar": {
              "outlinewidth": 0,
              "ticks": ""
             }
            },
            "type": "scatterpolargl"
           }
          ],
          "scatterternary": [
           {
            "marker": {
             "colorbar": {
              "outlinewidth": 0,
              "ticks": ""
             }
            },
            "type": "scatterternary"
           }
          ],
          "surface": [
           {
            "colorbar": {
             "outlinewidth": 0,
             "ticks": ""
            },
            "colorscale": [
             [
              0,
              "#0d0887"
             ],
             [
              0.1111111111111111,
              "#46039f"
             ],
             [
              0.2222222222222222,
              "#7201a8"
             ],
             [
              0.3333333333333333,
              "#9c179e"
             ],
             [
              0.4444444444444444,
              "#bd3786"
             ],
             [
              0.5555555555555556,
              "#d8576b"
             ],
             [
              0.6666666666666666,
              "#ed7953"
             ],
             [
              0.7777777777777778,
              "#fb9f3a"
             ],
             [
              0.8888888888888888,
              "#fdca26"
             ],
             [
              1,
              "#f0f921"
             ]
            ],
            "type": "surface"
           }
          ],
          "table": [
           {
            "cells": {
             "fill": {
              "color": "#EBF0F8"
             },
             "line": {
              "color": "white"
             }
            },
            "header": {
             "fill": {
              "color": "#C8D4E3"
             },
             "line": {
              "color": "white"
             }
            },
            "type": "table"
           }
          ]
         },
         "layout": {
          "annotationdefaults": {
           "arrowcolor": "#2a3f5f",
           "arrowhead": 0,
           "arrowwidth": 1
          },
          "autotypenumbers": "strict",
          "coloraxis": {
           "colorbar": {
            "outlinewidth": 0,
            "ticks": ""
           }
          },
          "colorscale": {
           "diverging": [
            [
             0,
             "#8e0152"
            ],
            [
             0.1,
             "#c51b7d"
            ],
            [
             0.2,
             "#de77ae"
            ],
            [
             0.3,
             "#f1b6da"
            ],
            [
             0.4,
             "#fde0ef"
            ],
            [
             0.5,
             "#f7f7f7"
            ],
            [
             0.6,
             "#e6f5d0"
            ],
            [
             0.7,
             "#b8e186"
            ],
            [
             0.8,
             "#7fbc41"
            ],
            [
             0.9,
             "#4d9221"
            ],
            [
             1,
             "#276419"
            ]
           ],
           "sequential": [
            [
             0,
             "#0d0887"
            ],
            [
             0.1111111111111111,
             "#46039f"
            ],
            [
             0.2222222222222222,
             "#7201a8"
            ],
            [
             0.3333333333333333,
             "#9c179e"
            ],
            [
             0.4444444444444444,
             "#bd3786"
            ],
            [
             0.5555555555555556,
             "#d8576b"
            ],
            [
             0.6666666666666666,
             "#ed7953"
            ],
            [
             0.7777777777777778,
             "#fb9f3a"
            ],
            [
             0.8888888888888888,
             "#fdca26"
            ],
            [
             1,
             "#f0f921"
            ]
           ],
           "sequentialminus": [
            [
             0,
             "#0d0887"
            ],
            [
             0.1111111111111111,
             "#46039f"
            ],
            [
             0.2222222222222222,
             "#7201a8"
            ],
            [
             0.3333333333333333,
             "#9c179e"
            ],
            [
             0.4444444444444444,
             "#bd3786"
            ],
            [
             0.5555555555555556,
             "#d8576b"
            ],
            [
             0.6666666666666666,
             "#ed7953"
            ],
            [
             0.7777777777777778,
             "#fb9f3a"
            ],
            [
             0.8888888888888888,
             "#fdca26"
            ],
            [
             1,
             "#f0f921"
            ]
           ]
          },
          "colorway": [
           "#636efa",
           "#EF553B",
           "#00cc96",
           "#ab63fa",
           "#FFA15A",
           "#19d3f3",
           "#FF6692",
           "#B6E880",
           "#FF97FF",
           "#FECB52"
          ],
          "font": {
           "color": "#2a3f5f"
          },
          "geo": {
           "bgcolor": "white",
           "lakecolor": "white",
           "landcolor": "#E5ECF6",
           "showlakes": true,
           "showland": true,
           "subunitcolor": "white"
          },
          "hoverlabel": {
           "align": "left"
          },
          "hovermode": "closest",
          "mapbox": {
           "style": "light"
          },
          "paper_bgcolor": "white",
          "plot_bgcolor": "#E5ECF6",
          "polar": {
           "angularaxis": {
            "gridcolor": "white",
            "linecolor": "white",
            "ticks": ""
           },
           "bgcolor": "#E5ECF6",
           "radialaxis": {
            "gridcolor": "white",
            "linecolor": "white",
            "ticks": ""
           }
          },
          "scene": {
           "xaxis": {
            "backgroundcolor": "#E5ECF6",
            "gridcolor": "white",
            "gridwidth": 2,
            "linecolor": "white",
            "showbackground": true,
            "ticks": "",
            "zerolinecolor": "white"
           },
           "yaxis": {
            "backgroundcolor": "#E5ECF6",
            "gridcolor": "white",
            "gridwidth": 2,
            "linecolor": "white",
            "showbackground": true,
            "ticks": "",
            "zerolinecolor": "white"
           },
           "zaxis": {
            "backgroundcolor": "#E5ECF6",
            "gridcolor": "white",
            "gridwidth": 2,
            "linecolor": "white",
            "showbackground": true,
            "ticks": "",
            "zerolinecolor": "white"
           }
          },
          "shapedefaults": {
           "line": {
            "color": "#2a3f5f"
           }
          },
          "ternary": {
           "aaxis": {
            "gridcolor": "white",
            "linecolor": "white",
            "ticks": ""
           },
           "baxis": {
            "gridcolor": "white",
            "linecolor": "white",
            "ticks": ""
           },
           "bgcolor": "#E5ECF6",
           "caxis": {
            "gridcolor": "white",
            "linecolor": "white",
            "ticks": ""
           }
          },
          "title": {
           "x": 0.05
          },
          "xaxis": {
           "automargin": true,
           "gridcolor": "white",
           "linecolor": "white",
           "ticks": "",
           "title": {
            "standoff": 15
           },
           "zerolinecolor": "white",
           "zerolinewidth": 2
          },
          "yaxis": {
           "automargin": true,
           "gridcolor": "white",
           "linecolor": "white",
           "ticks": "",
           "title": {
            "standoff": 15
           },
           "zerolinecolor": "white",
           "zerolinewidth": 2
          }
         }
        },
        "width": 900,
        "xaxis": {
         "anchor": "y",
         "domain": [
          0,
          0.98
         ],
         "dtick": 1,
         "range": [
          1989.5,
          2020.5
         ],
         "title": {
          "text": ""
         }
        },
        "xaxis2": {
         "anchor": "y2",
         "domain": [
          0,
          0.98
         ],
         "matches": "x",
         "showticklabels": false
        },
        "yaxis": {
         "anchor": "x",
         "domain": [
          0,
          0.475
         ],
         "range": [
          0,
          100
         ],
         "title": {
          "text": "Production (%)"
         }
        },
        "yaxis2": {
         "anchor": "x2",
         "domain": [
          0.525,
          1
         ],
         "title": {
          "text": "Production (t)"
         }
        }
       }
      }
     },
     "metadata": {},
     "output_type": "display_data"
    }
   ],
   "source": [
    "# Bar chart of national grain production\n",
    "country_iso, country_name = 'MG', 'Madagascar'\n",
    "df = pd.read_hdf('../data/crop/adm_crop_production_%s.hdf' % country_iso)\n",
    "df = df[df['gscd_code']=='calibrated']; df['year'] = df['harvest_year']\n",
    "year = [df['year'].min(), df['year'].max()]\n",
    "product_order = ['Rice','Maize']\n",
    "for season_name in ['Annual']:\n",
    "    footnote = 'National grain production in %s - %s' % (country_name, season_name)\n",
    "    fn_save = '../figures/%s_bar_natgrainprod_%s.png' % (country_iso, season_name)\n",
    "    sub = df[df['season_name'] == season_name]\n",
    "    fig = PlotBarProduction(sub, year, product_order, footnote, fn_save)\n",
    "    fig.show()"
   ]
  },
  {
   "cell_type": "code",
   "execution_count": 8,
   "id": "ffda3599",
   "metadata": {},
   "outputs": [
    {
     "name": "stdout",
     "output_type": "stream",
     "text": [
      "../figures/MG_line_pay_Rice_Annual.png is saved.\n"
     ]
    },
    {
     "data": {
      "application/vnd.plotly.v1+json": {
       "config": {
        "plotlyServerURL": "https://plot.ly"
       },
       "data": [
        {
         "connectgaps": false,
         "hovertemplate": "fnid=MG2009A20103<br>indicator=production<br>year=%{x}<br>value=%{y}<extra></extra>",
         "legendgroup": "MG2009A20103",
         "line": {
          "color": "#636efa",
          "dash": "solid"
         },
         "marker": {
          "symbol": "circle"
         },
         "mode": "markers+lines",
         "name": "MG2009A20103",
         "showlegend": true,
         "type": "scattergl",
         "x": [
          1990,
          1991,
          1992,
          1993,
          1994,
          1995,
          1996,
          1997,
          1998,
          1999,
          2000,
          2001,
          2002,
          2003,
          2004,
          2005,
          2006,
          2007,
          2008,
          2009,
          2010,
          2011,
          2012,
          2013,
          2014,
          2015,
          2016,
          2017,
          2018,
          2019,
          2020
         ],
         "xaxis": "x3",
         "y": [
          142770,
          137634,
          146539,
          144630,
          144550,
          122300,
          112540,
          116065,
          114350,
          123730,
          124190,
          198300,
          188920,
          262600,
          269030,
          278307,
          286660,
          295010,
          252325,
          292700,
          289965,
          234315,
          281178,
          301118,
          238415,
          173572.41478548,
          183500.75691121,
          146268.45333392,
          205000,
          250515,
          275566.5
         ],
         "yaxis": "y3"
        },
        {
         "connectgaps": false,
         "hovertemplate": "fnid=MG2009A20103<br>indicator=area<br>year=%{x}<br>value=%{y}<extra></extra>",
         "legendgroup": "MG2009A20103",
         "line": {
          "color": "#636efa",
          "dash": "solid"
         },
         "marker": {
          "symbol": "circle"
         },
         "mode": "markers+lines",
         "name": "MG2009A20103",
         "showlegend": false,
         "type": "scattergl",
         "x": [
          1990,
          1991,
          1992,
          1993,
          1994,
          1995,
          1996,
          1997,
          1998,
          1999,
          2000,
          2001,
          2002,
          2003,
          2004,
          2005,
          2006,
          2007,
          2008,
          2009,
          2010,
          2011,
          2012,
          2013,
          2014,
          2015,
          2016,
          2017,
          2018,
          2019,
          2020
         ],
         "xaxis": "x2",
         "y": [
          57825,
          54844,
          57642,
          59610,
          55640,
          45930,
          42930,
          43880,
          44875,
          46110,
          46280,
          66945,
          67140,
          67335,
          67410,
          63159,
          63725,
          64300,
          64870,
          65459,
          66051,
          61993,
          null,
          null,
          null,
          null,
          null,
          null,
          null,
          null,
          null
         ],
         "yaxis": "y2"
        },
        {
         "connectgaps": false,
         "hovertemplate": "fnid=MG2009A20103<br>indicator=yield<br>year=%{x}<br>value=%{y}<extra></extra>",
         "legendgroup": "MG2009A20103",
         "line": {
          "color": "#636efa",
          "dash": "solid"
         },
         "marker": {
          "symbol": "circle"
         },
         "mode": "markers+lines",
         "name": "MG2009A20103",
         "showlegend": false,
         "type": "scattergl",
         "x": [
          1990,
          1991,
          1992,
          1993,
          1994,
          1995,
          1996,
          1997,
          1998,
          1999,
          2000,
          2001,
          2002,
          2003,
          2004,
          2005,
          2006,
          2007,
          2008,
          2009,
          2010,
          2011,
          2012,
          2013,
          2014,
          2015,
          2016,
          2017,
          2018,
          2019,
          2020
         ],
         "xaxis": "x",
         "y": [
          2.4690012970168613,
          2.509554372401721,
          2.542226154540092,
          2.4262707599396074,
          2.5979511143062544,
          2.6627476594818202,
          2.6214768227346843,
          2.6450546946216957,
          2.5481894150417825,
          2.6833658642376923,
          2.683448573898012,
          2.9621330943311674,
          2.8138218647602025,
          3.899903467735947,
          3.9909508974929535,
          4.406450387118225,
          4.498391526088662,
          4.588024883359253,
          3.8897024818868506,
          4.4715012450541565,
          4.390016805195985,
          3.7797009339764167,
          null,
          null,
          null,
          null,
          null,
          null,
          null,
          null,
          null
         ],
         "yaxis": "y"
        },
        {
         "connectgaps": false,
         "hovertemplate": "fnid=MG2009A20112<br>indicator=production<br>year=%{x}<br>value=%{y}<extra></extra>",
         "legendgroup": "MG2009A20112",
         "line": {
          "color": "#EF553B",
          "dash": "solid"
         },
         "marker": {
          "symbol": "circle"
         },
         "mode": "markers+lines",
         "name": "MG2009A20112",
         "showlegend": true,
         "type": "scattergl",
         "x": [
          1990,
          1991,
          1992,
          1993,
          1994,
          1995,
          1996,
          1997,
          1998,
          1999,
          2000,
          2001,
          2002,
          2003,
          2004,
          2005,
          2006,
          2007,
          2008,
          2009,
          2010,
          2011,
          2012,
          2013,
          2014,
          2015,
          2016,
          2017,
          2018,
          2019,
          2020
         ],
         "xaxis": "x3",
         "y": [
          65495,
          68126,
          68861,
          82350,
          67170,
          57035,
          65625,
          67765,
          62175,
          70190,
          70420,
          72500,
          69100,
          112805,
          110600,
          123999,
          127720,
          131440,
          138010,
          160090,
          165910,
          199090,
          238908,
          200645,
          210413,
          198487.29947823,
          201047.78564149,
          207579.21098028,
          228337.13207831,
          250000,
          292500
         ],
         "yaxis": "y3"
        },
        {
         "connectgaps": false,
         "hovertemplate": "fnid=MG2009A20112<br>indicator=area<br>year=%{x}<br>value=%{y}<extra></extra>",
         "legendgroup": "MG2009A20112",
         "line": {
          "color": "#EF553B",
          "dash": "solid"
         },
         "marker": {
          "symbol": "circle"
         },
         "mode": "markers+lines",
         "name": "MG2009A20112",
         "showlegend": false,
         "type": "scattergl",
         "x": [
          1990,
          1991,
          1992,
          1993,
          1994,
          1995,
          1996,
          1997,
          1998,
          1999,
          2000,
          2001,
          2002,
          2003,
          2004,
          2005,
          2006,
          2007,
          2008,
          2009,
          2010,
          2011,
          2012,
          2013,
          2014,
          2015,
          2016,
          2017,
          2018,
          2019,
          2020
         ],
         "xaxis": "x2",
         "y": [
          32695,
          31032,
          32388,
          33470,
          31400,
          25935,
          24210,
          27240,
          28690,
          29250,
          29350,
          29450,
          29550,
          29650,
          29710,
          62716,
          63280,
          63849,
          64425,
          65011,
          65602,
          68022,
          null,
          null,
          null,
          null,
          null,
          null,
          null,
          null,
          null
         ],
         "yaxis": "y2"
        },
        {
         "connectgaps": false,
         "hovertemplate": "fnid=MG2009A20112<br>indicator=yield<br>year=%{x}<br>value=%{y}<extra></extra>",
         "legendgroup": "MG2009A20112",
         "line": {
          "color": "#EF553B",
          "dash": "solid"
         },
         "marker": {
          "symbol": "circle"
         },
         "mode": "markers+lines",
         "name": "MG2009A20112",
         "showlegend": false,
         "type": "scattergl",
         "x": [
          1990,
          1991,
          1992,
          1993,
          1994,
          1995,
          1996,
          1997,
          1998,
          1999,
          2000,
          2001,
          2002,
          2003,
          2004,
          2005,
          2006,
          2007,
          2008,
          2009,
          2010,
          2011,
          2012,
          2013,
          2014,
          2015,
          2016,
          2017,
          2018,
          2019,
          2020
         ],
         "xaxis": "x",
         "y": [
          2.003211500229393,
          2.195346738850219,
          2.1261269606026922,
          2.4604123095309234,
          2.139171974522293,
          2.199151725467515,
          2.7106567534076826,
          2.4877019089574155,
          2.167131404670617,
          2.3996581196581195,
          2.3993185689948895,
          2.461799660441426,
          2.338409475465313,
          3.8045531197301856,
          3.7226523056210032,
          1.9771509662606033,
          2.018331226295828,
          2.058607025951855,
          2.1421808304229724,
          2.4625063450800635,
          2.5290387488186337,
          2.9268471964952516,
          null,
          null,
          null,
          null,
          null,
          null,
          null,
          null,
          null
         ],
         "yaxis": "y"
        },
        {
         "connectgaps": false,
         "hovertemplate": "fnid=MG2009A20116<br>indicator=production<br>year=%{x}<br>value=%{y}<extra></extra>",
         "legendgroup": "MG2009A20116",
         "line": {
          "color": "#00cc96",
          "dash": "solid"
         },
         "marker": {
          "symbol": "circle"
         },
         "mode": "markers+lines",
         "name": "MG2009A20116",
         "showlegend": true,
         "type": "scattergl",
         "x": [
          1990,
          1991,
          1992,
          1993,
          1994,
          1995,
          1996,
          1997,
          1998,
          1999,
          2000,
          2001,
          2002,
          2003,
          2004,
          2005,
          2006,
          2007,
          2008,
          2009,
          2010,
          2011,
          2012,
          2013,
          2014,
          2015,
          2016,
          2017,
          2018,
          2019,
          2020
         ],
         "xaxis": "x3",
         "y": [
          98510,
          101816,
          101607,
          91170,
          89060,
          75655,
          70605,
          70515,
          68565,
          78000,
          78255,
          83700,
          79890,
          184595,
          188675,
          203975,
          210090,
          216210,
          227025,
          263350,
          272910,
          299825,
          346081,
          377243,
          442223,
          464500.66666667,
          535615.71873333,
          477911.96269918,
          610000,
          682041,
          743424.69
         ],
         "yaxis": "y3"
        },
        {
         "connectgaps": false,
         "hovertemplate": "fnid=MG2009A20116<br>indicator=area<br>year=%{x}<br>value=%{y}<extra></extra>",
         "legendgroup": "MG2009A20116",
         "line": {
          "color": "#00cc96",
          "dash": "solid"
         },
         "marker": {
          "symbol": "circle"
         },
         "mode": "markers+lines",
         "name": "MG2009A20116",
         "showlegend": false,
         "type": "scattergl",
         "x": [
          1990,
          1991,
          1992,
          1993,
          1994,
          1995,
          1996,
          1997,
          1998,
          1999,
          2000,
          2001,
          2002,
          2003,
          2004,
          2005,
          2006,
          2007,
          2008,
          2009,
          2010,
          2011,
          2012,
          2013,
          2014,
          2015,
          2016,
          2017,
          2018,
          2019,
          2020
         ],
         "xaxis": "x2",
         "y": [
          36560,
          34724,
          36232,
          37460,
          34980,
          28885,
          26990,
          27610,
          28245,
          29650,
          29790,
          29930,
          30070,
          30210,
          30300,
          46427,
          46845,
          47270,
          47695,
          48131,
          48568,
          46714,
          null,
          null,
          null,
          null,
          null,
          null,
          null,
          null,
          null
         ],
         "yaxis": "y2"
        },
        {
         "connectgaps": false,
         "hovertemplate": "fnid=MG2009A20116<br>indicator=yield<br>year=%{x}<br>value=%{y}<extra></extra>",
         "legendgroup": "MG2009A20116",
         "line": {
          "color": "#00cc96",
          "dash": "solid"
         },
         "marker": {
          "symbol": "circle"
         },
         "mode": "markers+lines",
         "name": "MG2009A20116",
         "showlegend": false,
         "type": "scattergl",
         "x": [
          1990,
          1991,
          1992,
          1993,
          1994,
          1995,
          1996,
          1997,
          1998,
          1999,
          2000,
          2001,
          2002,
          2003,
          2004,
          2005,
          2006,
          2007,
          2008,
          2009,
          2010,
          2011,
          2012,
          2013,
          2014,
          2015,
          2016,
          2017,
          2018,
          2019,
          2020
         ],
         "xaxis": "x",
         "y": [
          2.6944748358862145,
          2.932150673885497,
          2.8043442260984763,
          2.4337960491190604,
          2.5460263007432817,
          2.6191795049333564,
          2.615968877361986,
          2.5539659543643607,
          2.4275092936802976,
          2.630691399662732,
          2.6268882175226587,
          2.796525225526228,
          2.6568007981376787,
          6.110393909301556,
          6.226897689768977,
          4.393456393908717,
          4.484790265770092,
          4.5739369579014175,
          4.759932907013313,
          5.471525627973655,
          5.619131938725086,
          6.418311426981205,
          null,
          null,
          null,
          null,
          null,
          null,
          null,
          null,
          null
         ],
         "yaxis": "y"
        },
        {
         "connectgaps": false,
         "hovertemplate": "fnid=MG2009A20121<br>indicator=production<br>year=%{x}<br>value=%{y}<extra></extra>",
         "legendgroup": "MG2009A20121",
         "line": {
          "color": "#ab63fa",
          "dash": "solid"
         },
         "marker": {
          "symbol": "circle"
         },
         "mode": "markers+lines",
         "name": "MG2009A20121",
         "showlegend": true,
         "type": "scattergl",
         "x": [
          1990,
          1991,
          1992,
          1993,
          1994,
          1995,
          1996,
          1997,
          1998,
          1999,
          2000,
          2001,
          2002,
          2003,
          2004,
          2005,
          2006,
          2007,
          2008,
          2009,
          2010,
          2011,
          2012,
          2013,
          2014,
          2015,
          2016,
          2017,
          2018,
          2019,
          2020
         ],
         "xaxis": "x3",
         "y": [
          238785,
          209238,
          214842,
          225270,
          218920,
          185890,
          197720,
          200885,
          181955,
          193900,
          194545,
          206350,
          186345,
          219685,
          225300,
          278578,
          286940,
          295290,
          416180,
          485980,
          552335,
          487755,
          585306,
          661255,
          662085,
          695961.01751201,
          837101.91186344,
          718589.12498118,
          500000,
          646450,
          724024
         ],
         "yaxis": "y3"
        },
        {
         "connectgaps": false,
         "hovertemplate": "fnid=MG2009A20121<br>indicator=area<br>year=%{x}<br>value=%{y}<extra></extra>",
         "legendgroup": "MG2009A20121",
         "line": {
          "color": "#ab63fa",
          "dash": "solid"
         },
         "marker": {
          "symbol": "circle"
         },
         "mode": "markers+lines",
         "name": "MG2009A20121",
         "showlegend": false,
         "type": "scattergl",
         "x": [
          1990,
          1991,
          1992,
          1993,
          1994,
          1995,
          1996,
          1997,
          1998,
          1999,
          2000,
          2001,
          2002,
          2003,
          2004,
          2005,
          2006,
          2007,
          2008,
          2009,
          2010,
          2011,
          2012,
          2013,
          2014,
          2015,
          2016,
          2017,
          2018,
          2019,
          2020
         ],
         "xaxis": "x2",
         "y": [
          91760,
          87078,
          90565,
          93620,
          87330,
          72130,
          67400,
          68885,
          70415,
          68850,
          69080,
          69315,
          69550,
          69785,
          69925,
          59617,
          60150,
          60690,
          61230,
          61785,
          62342,
          66165,
          null,
          null,
          null,
          null,
          null,
          null,
          null,
          null,
          null
         ],
         "yaxis": "y2"
        },
        {
         "connectgaps": false,
         "hovertemplate": "fnid=MG2009A20121<br>indicator=yield<br>year=%{x}<br>value=%{y}<extra></extra>",
         "legendgroup": "MG2009A20121",
         "line": {
          "color": "#ab63fa",
          "dash": "solid"
         },
         "marker": {
          "symbol": "circle"
         },
         "mode": "markers+lines",
         "name": "MG2009A20121",
         "showlegend": false,
         "type": "scattergl",
         "x": [
          1990,
          1991,
          1992,
          1993,
          1994,
          1995,
          1996,
          1997,
          1998,
          1999,
          2000,
          2001,
          2002,
          2003,
          2004,
          2005,
          2006,
          2007,
          2008,
          2009,
          2010,
          2011,
          2012,
          2013,
          2014,
          2015,
          2016,
          2017,
          2018,
          2019,
          2020
         ],
         "xaxis": "x",
         "y": [
          2.602277680906713,
          2.402880176393578,
          2.372240931927345,
          2.4062166203802606,
          2.506813237146456,
          2.5771523637876057,
          2.9335311572700298,
          2.9162372069391016,
          2.584037492011645,
          2.8162672476397965,
          2.8162275622466706,
          2.9769891076967467,
          2.679295470884256,
          3.148026080103174,
          3.2220235967107613,
          4.6727946726604825,
          4.770407315045719,
          4.8655462184873945,
          6.796994937122325,
          7.865663186857652,
          8.859757466876264,
          7.371797778281569,
          null,
          null,
          null,
          null,
          null,
          null,
          null,
          null,
          null
         ],
         "yaxis": "y"
        },
        {
         "connectgaps": false,
         "hovertemplate": "fnid=MG2009A20213<br>indicator=production<br>year=%{x}<br>value=%{y}<extra></extra>",
         "legendgroup": "MG2009A20213",
         "line": {
          "color": "#FFA15A",
          "dash": "solid"
         },
         "marker": {
          "symbol": "circle"
         },
         "mode": "markers+lines",
         "name": "MG2009A20213",
         "showlegend": true,
         "type": "scattergl",
         "x": [
          1990,
          1991,
          1992,
          1993,
          1994,
          1995,
          1996,
          1997,
          1998,
          1999,
          2000,
          2001,
          2002,
          2003,
          2004,
          2005,
          2006,
          2007,
          2008,
          2009,
          2010,
          2011,
          2012,
          2013,
          2014,
          2015,
          2016,
          2017,
          2018,
          2019,
          2020
         ],
         "xaxis": "x3",
         "y": [
          108760,
          100935,
          109242,
          103060,
          90500,
          126195,
          110365,
          118810,
          119150,
          124080,
          125125,
          123810,
          128625,
          92220,
          104105,
          104514,
          107650,
          110780,
          99710,
          115660,
          113860,
          94910,
          105792,
          78104,
          112874,
          82646.3428,
          91968.85026784,
          81300.46363677,
          63350,
          57015,
          47322.45
         ],
         "yaxis": "y3"
        },
        {
         "connectgaps": false,
         "hovertemplate": "fnid=MG2009A20213<br>indicator=area<br>year=%{x}<br>value=%{y}<extra></extra>",
         "legendgroup": "MG2009A20213",
         "line": {
          "color": "#FFA15A",
          "dash": "solid"
         },
         "marker": {
          "symbol": "circle"
         },
         "mode": "markers+lines",
         "name": "MG2009A20213",
         "showlegend": false,
         "type": "scattergl",
         "x": [
          1990,
          1991,
          1992,
          1993,
          1994,
          1995,
          1996,
          1997,
          1998,
          1999,
          2000,
          2001,
          2002,
          2003,
          2004,
          2005,
          2006,
          2007,
          2008,
          2009,
          2010,
          2011,
          2012,
          2013,
          2014,
          2015,
          2016,
          2017,
          2018,
          2019,
          2020
         ],
         "xaxis": "x2",
         "y": [
          51400,
          50593,
          52216,
          54721,
          49200,
          75895,
          58685,
          60170,
          62670,
          65800,
          65860,
          65920,
          65980,
          66040,
          62985,
          44198,
          44600,
          45000,
          45410,
          45820,
          46242,
          51721,
          null,
          null,
          null,
          null,
          null,
          null,
          null,
          null,
          null
         ],
         "yaxis": "y2"
        },
        {
         "connectgaps": false,
         "hovertemplate": "fnid=MG2009A20213<br>indicator=yield<br>year=%{x}<br>value=%{y}<extra></extra>",
         "legendgroup": "MG2009A20213",
         "line": {
          "color": "#FFA15A",
          "dash": "solid"
         },
         "marker": {
          "symbol": "circle"
         },
         "mode": "markers+lines",
         "name": "MG2009A20213",
         "showlegend": false,
         "type": "scattergl",
         "x": [
          1990,
          1991,
          1992,
          1993,
          1994,
          1995,
          1996,
          1997,
          1998,
          1999,
          2000,
          2001,
          2002,
          2003,
          2004,
          2005,
          2006,
          2007,
          2008,
          2009,
          2010,
          2011,
          2012,
          2013,
          2014,
          2015,
          2016,
          2017,
          2018,
          2019,
          2020
         ],
         "xaxis": "x",
         "y": [
          2.115953307392996,
          1.9950388393651295,
          2.092117358664011,
          1.8833720144003216,
          1.839430894308943,
          1.6627577574280255,
          1.8806338928175854,
          1.9745720458700349,
          1.9012286580501037,
          1.8857142857142857,
          1.89986334649256,
          1.8781856796116505,
          1.9494543801151865,
          1.3964264082374318,
          1.6528538540922442,
          2.364677134711978,
          2.413677130044843,
          2.461777777777778,
          2.1957718564192907,
          2.5242252291575733,
          2.4622637429176937,
          1.8350379923048665,
          null,
          null,
          null,
          null,
          null,
          null,
          null,
          null,
          null
         ],
         "yaxis": "y"
        },
        {
         "connectgaps": false,
         "hovertemplate": "fnid=MG2009A20219<br>indicator=production<br>year=%{x}<br>value=%{y}<extra></extra>",
         "legendgroup": "MG2009A20219",
         "line": {
          "color": "#19d3f3",
          "dash": "solid"
         },
         "marker": {
          "symbol": "circle"
         },
         "mode": "markers+lines",
         "name": "MG2009A20219",
         "showlegend": true,
         "type": "scattergl",
         "x": [
          1990,
          1991,
          1992,
          1993,
          1994,
          1995,
          1996,
          1997,
          1998,
          1999,
          2000,
          2001,
          2002,
          2003,
          2004,
          2005,
          2006,
          2007,
          2008,
          2009,
          2010,
          2011,
          2012,
          2013,
          2014,
          2015,
          2016,
          2017,
          2018,
          2019,
          2020
         ],
         "xaxis": "x3",
         "y": [
          124520,
          111312,
          122532,
          139440,
          113500,
          158285,
          138430,
          129230,
          136820,
          132430,
          121890,
          136200,
          129520,
          120415,
          129605,
          151591,
          155040,
          160690,
          159180,
          154830,
          188975,
          155070,
          177387,
          130035,
          178204,
          213844.8,
          277998.24,
          250949.011248,
          290000,
          319000,
          312620
         ],
         "yaxis": "y3"
        },
        {
         "connectgaps": false,
         "hovertemplate": "fnid=MG2009A20219<br>indicator=area<br>year=%{x}<br>value=%{y}<extra></extra>",
         "legendgroup": "MG2009A20219",
         "line": {
          "color": "#19d3f3",
          "dash": "solid"
         },
         "marker": {
          "symbol": "circle"
         },
         "mode": "markers+lines",
         "name": "MG2009A20219",
         "showlegend": false,
         "type": "scattergl",
         "x": [
          1990,
          1991,
          1992,
          1993,
          1994,
          1995,
          1996,
          1997,
          1998,
          1999,
          2000,
          2001,
          2002,
          2003,
          2004,
          2005,
          2006,
          2007,
          2008,
          2009,
          2010,
          2011,
          2012,
          2013,
          2014,
          2015,
          2016,
          2017,
          2018,
          2019,
          2020
         ],
         "xaxis": "x2",
         "y": [
          69430,
          69038,
          70692,
          74169,
          60600,
          93480,
          72260,
          73850,
          75490,
          75890,
          75975,
          76060,
          76145,
          76230,
          73195,
          71266,
          71910,
          72560,
          73210,
          73870,
          74547,
          66025,
          null,
          null,
          null,
          null,
          null,
          null,
          null,
          null,
          null
         ],
         "yaxis": "y2"
        },
        {
         "connectgaps": false,
         "hovertemplate": "fnid=MG2009A20219<br>indicator=yield<br>year=%{x}<br>value=%{y}<extra></extra>",
         "legendgroup": "MG2009A20219",
         "line": {
          "color": "#19d3f3",
          "dash": "solid"
         },
         "marker": {
          "symbol": "circle"
         },
         "mode": "markers+lines",
         "name": "MG2009A20219",
         "showlegend": false,
         "type": "scattergl",
         "x": [
          1990,
          1991,
          1992,
          1993,
          1994,
          1995,
          1996,
          1997,
          1998,
          1999,
          2000,
          2001,
          2002,
          2003,
          2004,
          2005,
          2006,
          2007,
          2008,
          2009,
          2010,
          2011,
          2012,
          2013,
          2014,
          2015,
          2016,
          2017,
          2018,
          2019,
          2020
         ],
         "xaxis": "x",
         "y": [
          1.7934610398962985,
          1.6123294417567138,
          1.7333220166355456,
          1.8800307406059136,
          1.872937293729373,
          1.693249893025246,
          1.9157210074730142,
          1.749898442789438,
          1.8124254868194463,
          1.7450256950849914,
          1.6043435340572556,
          1.7906915592952932,
          1.700965263641736,
          1.5796274432638069,
          1.7706810574492793,
          2.1271153144557013,
          2.1560283687943262,
          2.2145810363836826,
          2.1742931293539134,
          2.0959794233112223,
          2.534977933384308,
          2.3486558121923515,
          null,
          null,
          null,
          null,
          null,
          null,
          null,
          null,
          null
         ],
         "yaxis": "y"
        },
        {
         "connectgaps": false,
         "hovertemplate": "fnid=MG2009A20302<br>indicator=production<br>year=%{x}<br>value=%{y}<extra></extra>",
         "legendgroup": "MG2009A20302",
         "line": {
          "color": "#FF6692",
          "dash": "solid"
         },
         "marker": {
          "symbol": "circle"
         },
         "mode": "markers+lines",
         "name": "MG2009A20302",
         "showlegend": true,
         "type": "scattergl",
         "x": [
          1990,
          1991,
          1992,
          1993,
          1994,
          1995,
          1996,
          1997,
          1998,
          1999,
          2000,
          2001,
          2002,
          2003,
          2004,
          2005,
          2006,
          2007,
          2008,
          2009,
          2010,
          2011,
          2012,
          2013,
          2014,
          2015,
          2016,
          2017,
          2018,
          2019,
          2020
         ],
         "xaxis": "x3",
         "y": [
          99135,
          102633,
          105920,
          111116,
          105340,
          110445,
          101965,
          106740,
          93620,
          96170,
          96850,
          99950,
          95170,
          79685,
          89970,
          102267,
          105335,
          108400,
          131680,
          152750,
          167340,
          148585,
          162462,
          135534,
          154166,
          142208.88995579,
          168759.28971054,
          136781.49692559,
          125000,
          165350,
          124012.5
         ],
         "yaxis": "y3"
        },
        {
         "connectgaps": false,
         "hovertemplate": "fnid=MG2009A20302<br>indicator=area<br>year=%{x}<br>value=%{y}<extra></extra>",
         "legendgroup": "MG2009A20302",
         "line": {
          "color": "#FF6692",
          "dash": "solid"
         },
         "marker": {
          "symbol": "circle"
         },
         "mode": "markers+lines",
         "name": "MG2009A20302",
         "showlegend": false,
         "type": "scattergl",
         "x": [
          1990,
          1991,
          1992,
          1993,
          1994,
          1995,
          1996,
          1997,
          1998,
          1999,
          2000,
          2001,
          2002,
          2003,
          2004,
          2005,
          2006,
          2007,
          2008,
          2009,
          2010,
          2011,
          2012,
          2013,
          2014,
          2015,
          2016,
          2017,
          2018,
          2019,
          2020
         ],
         "xaxis": "x2",
         "y": [
          45165,
          42874,
          44746,
          46930,
          44900,
          37630,
          37350,
          38170,
          39060,
          39320,
          39410,
          39500,
          39590,
          39680,
          39770,
          39401,
          39695,
          40110,
          40470,
          40838,
          41207,
          37663,
          null,
          null,
          null,
          null,
          null,
          null,
          null,
          null,
          null
         ],
         "yaxis": "y2"
        },
        {
         "connectgaps": false,
         "hovertemplate": "fnid=MG2009A20302<br>indicator=yield<br>year=%{x}<br>value=%{y}<extra></extra>",
         "legendgroup": "MG2009A20302",
         "line": {
          "color": "#FF6692",
          "dash": "solid"
         },
         "marker": {
          "symbol": "circle"
         },
         "mode": "markers+lines",
         "name": "MG2009A20302",
         "showlegend": false,
         "type": "scattergl",
         "x": [
          1990,
          1991,
          1992,
          1993,
          1994,
          1995,
          1996,
          1997,
          1998,
          1999,
          2000,
          2001,
          2002,
          2003,
          2004,
          2005,
          2006,
          2007,
          2008,
          2009,
          2010,
          2011,
          2012,
          2013,
          2014,
          2015,
          2016,
          2017,
          2018,
          2019,
          2020
         ],
         "xaxis": "x",
         "y": [
          2.194951843241448,
          2.393828427485189,
          2.3671389621418673,
          2.3676965693586194,
          2.3461024498886416,
          2.9350252458145096,
          2.7299866131191433,
          2.7964369924024104,
          2.3968253968253967,
          2.445829094608342,
          2.4574980969297133,
          2.530379746835443,
          2.4038898711795906,
          2.0081905241935485,
          2.2622579834045764,
          2.595543260323342,
          2.65360876684721,
          2.7025679381700325,
          3.2537682233753396,
          3.7403888535187817,
          4.060960516417113,
          3.9451185513634073,
          null,
          null,
          null,
          null,
          null,
          null,
          null,
          null,
          null
         ],
         "yaxis": "y"
        },
        {
         "connectgaps": false,
         "hovertemplate": "fnid=MG2009A20308<br>indicator=production<br>year=%{x}<br>value=%{y}<extra></extra>",
         "legendgroup": "MG2009A20308",
         "line": {
          "color": "#B6E880",
          "dash": "solid"
         },
         "marker": {
          "symbol": "circle"
         },
         "mode": "markers+lines",
         "name": "MG2009A20308",
         "showlegend": true,
         "type": "scattergl",
         "x": [
          1990,
          1991,
          1992,
          1993,
          1994,
          1995,
          1996,
          1997,
          1998,
          1999,
          2000,
          2001,
          2002,
          2003,
          2004,
          2005,
          2006,
          2007,
          2008,
          2009,
          2010,
          2011,
          2012,
          2013,
          2014,
          2015,
          2016,
          2017,
          2018,
          2019,
          2020
         ],
         "xaxis": "x3",
         "y": [
          50200,
          53915,
          54794,
          57483,
          56880,
          59645,
          52200,
          40180,
          41480,
          41790,
          39310,
          43110,
          41160,
          96310,
          98400,
          116119,
          110600,
          123090,
          116935,
          135640,
          127825,
          90765,
          86264,
          47935,
          39473,
          31436.227596,
          35793.2887408,
          16211.38537729,
          32422.77075458,
          26813.63141403,
          23595.99564435
         ],
         "yaxis": "y3"
        },
        {
         "connectgaps": false,
         "hovertemplate": "fnid=MG2009A20308<br>indicator=area<br>year=%{x}<br>value=%{y}<extra></extra>",
         "legendgroup": "MG2009A20308",
         "line": {
          "color": "#B6E880",
          "dash": "solid"
         },
         "marker": {
          "symbol": "circle"
         },
         "mode": "markers+lines",
         "name": "MG2009A20308",
         "showlegend": false,
         "type": "scattergl",
         "x": [
          1990,
          1991,
          1992,
          1993,
          1994,
          1995,
          1996,
          1997,
          1998,
          1999,
          2000,
          2001,
          2002,
          2003,
          2004,
          2005,
          2006,
          2007,
          2008,
          2009,
          2010,
          2011,
          2012,
          2013,
          2014,
          2015,
          2016,
          2017,
          2018,
          2019,
          2020
         ],
         "xaxis": "x2",
         "y": [
          34272,
          33974,
          34832,
          36760,
          34900,
          29365,
          29145,
          29785,
          30455,
          30670,
          30820,
          30970,
          31120,
          31275,
          31430,
          53552,
          54040,
          54525,
          55015,
          55518,
          56025,
          53644,
          null,
          null,
          null,
          null,
          null,
          null,
          null,
          null,
          null
         ],
         "yaxis": "y2"
        },
        {
         "connectgaps": false,
         "hovertemplate": "fnid=MG2009A20308<br>indicator=yield<br>year=%{x}<br>value=%{y}<extra></extra>",
         "legendgroup": "MG2009A20308",
         "line": {
          "color": "#B6E880",
          "dash": "solid"
         },
         "marker": {
          "symbol": "circle"
         },
         "mode": "markers+lines",
         "name": "MG2009A20308",
         "showlegend": false,
         "type": "scattergl",
         "x": [
          1990,
          1991,
          1992,
          1993,
          1994,
          1995,
          1996,
          1997,
          1998,
          1999,
          2000,
          2001,
          2002,
          2003,
          2004,
          2005,
          2006,
          2007,
          2008,
          2009,
          2010,
          2011,
          2012,
          2013,
          2014,
          2015,
          2016,
          2017,
          2018,
          2019,
          2020
         ],
         "xaxis": "x",
         "y": [
          1.464752567693744,
          1.5869488432330605,
          1.5730937069361506,
          1.5637377584330794,
          1.6297994269340974,
          2.0311595436744425,
          1.791044776119403,
          1.3490011750881317,
          1.3620095222459365,
          1.3625692859471796,
          1.2754704737183646,
          1.391992250565063,
          1.3226221079691516,
          3.0794564348521183,
          3.1307667833280304,
          2.168341051688079,
          2.0466321243523318,
          2.257496561210454,
          2.1255112242115786,
          2.443171583990778,
          2.2815707273538597,
          1.6919879203638803,
          null,
          null,
          null,
          null,
          null,
          null,
          null,
          null,
          null
         ],
         "yaxis": "y"
        },
        {
         "connectgaps": false,
         "hovertemplate": "fnid=MG2009A20314<br>indicator=production<br>year=%{x}<br>value=%{y}<extra></extra>",
         "legendgroup": "MG2009A20314",
         "line": {
          "color": "#FF97FF",
          "dash": "solid"
         },
         "marker": {
          "symbol": "circle"
         },
         "mode": "markers+lines",
         "name": "MG2009A20314",
         "showlegend": true,
         "type": "scattergl",
         "x": [
          1990,
          1991,
          1992,
          1993,
          1994,
          1995,
          1996,
          1997,
          1998,
          1999,
          2000,
          2001,
          2002,
          2003,
          2004,
          2005,
          2006,
          2007,
          2008,
          2009,
          2010,
          2011,
          2012,
          2013,
          2014,
          2015,
          2016,
          2017,
          2018,
          2019,
          2020
         ],
         "xaxis": "x3",
         "y": [
          157570,
          146467,
          158407,
          166178,
          159950,
          167655,
          146770,
          151405,
          129835,
          134080,
          135250,
          140500,
          133840,
          217720,
          245825,
          236776,
          243880,
          250980,
          307690,
          356920,
          392575,
          186345,
          366517,
          222726,
          243255,
          218929.5,
          183791.31525,
          156700.47538215,
          140000,
          212604,
          195595.68
         ],
         "yaxis": "y3"
        },
        {
         "connectgaps": false,
         "hovertemplate": "fnid=MG2009A20314<br>indicator=area<br>year=%{x}<br>value=%{y}<extra></extra>",
         "legendgroup": "MG2009A20314",
         "line": {
          "color": "#FF97FF",
          "dash": "solid"
         },
         "marker": {
          "symbol": "circle"
         },
         "mode": "markers+lines",
         "name": "MG2009A20314",
         "showlegend": false,
         "type": "scattergl",
         "x": [
          1990,
          1991,
          1992,
          1993,
          1994,
          1995,
          1996,
          1997,
          1998,
          1999,
          2000,
          2001,
          2002,
          2003,
          2004,
          2005,
          2006,
          2007,
          2008,
          2009,
          2010,
          2011,
          2012,
          2013,
          2014,
          2015,
          2016,
          2017,
          2018,
          2019,
          2020
         ],
         "xaxis": "x2",
         "y": [
          64880,
          62565,
          64871,
          68030,
          65300,
          55640,
          55225,
          56440,
          57785,
          58280,
          58450,
          58615,
          58780,
          58945,
          61030,
          50163,
          50615,
          51070,
          51530,
          52000,
          52473,
          29967,
          null,
          null,
          null,
          null,
          null,
          null,
          null,
          null,
          null
         ],
         "yaxis": "y2"
        },
        {
         "connectgaps": false,
         "hovertemplate": "fnid=MG2009A20314<br>indicator=yield<br>year=%{x}<br>value=%{y}<extra></extra>",
         "legendgroup": "MG2009A20314",
         "line": {
          "color": "#FF97FF",
          "dash": "solid"
         },
         "marker": {
          "symbol": "circle"
         },
         "mode": "markers+lines",
         "name": "MG2009A20314",
         "showlegend": false,
         "type": "scattergl",
         "x": [
          1990,
          1991,
          1992,
          1993,
          1994,
          1995,
          1996,
          1997,
          1998,
          1999,
          2000,
          2001,
          2002,
          2003,
          2004,
          2005,
          2006,
          2007,
          2008,
          2009,
          2010,
          2011,
          2012,
          2013,
          2014,
          2015,
          2016,
          2017,
          2018,
          2019,
          2020
         ],
         "xaxis": "x",
         "y": [
          2.42863748458693,
          2.3410373211859667,
          2.441876955804597,
          2.4427164486256063,
          2.4494640122511484,
          3.0132099209202012,
          2.6576731552738795,
          2.682583274273565,
          2.2468633728476246,
          2.300617707618394,
          2.3139435414884515,
          2.396997355625693,
          2.276964954066009,
          3.693612689795572,
          4.027937080124529,
          4.720132368478759,
          4.81833448582436,
          4.914431172899941,
          5.97108480496798,
          6.863846153846154,
          7.481466659043699,
          6.218340174191611,
          null,
          null,
          null,
          null,
          null,
          null,
          null,
          null,
          null
         ],
         "yaxis": "y"
        },
        {
         "connectgaps": false,
         "hovertemplate": "fnid=MG2009A20315<br>indicator=production<br>year=%{x}<br>value=%{y}<extra></extra>",
         "legendgroup": "MG2009A20315",
         "line": {
          "color": "#FECB52",
          "dash": "solid"
         },
         "marker": {
          "symbol": "circle"
         },
         "mode": "markers+lines",
         "name": "MG2009A20315",
         "showlegend": true,
         "type": "scattergl",
         "x": [
          1990,
          1991,
          1992,
          1993,
          1994,
          1995,
          1996,
          1997,
          1998,
          1999,
          2000,
          2001,
          2002,
          2003,
          2004,
          2005,
          2006,
          2007,
          2008,
          2009,
          2010,
          2011,
          2012,
          2013,
          2014,
          2015,
          2016,
          2017,
          2018,
          2019,
          2020
         ],
         "xaxis": "x3",
         "y": [
          42340,
          45485,
          46224,
          48492,
          51800,
          54310,
          47510,
          45015,
          31445,
          33055,
          31800,
          33000,
          31510,
          20875,
          23570,
          44521,
          45860,
          47190,
          41830,
          48530,
          47540,
          42790,
          41125,
          21072,
          20910,
          25713.34116307,
          10285.33646523,
          9740.21363257,
          5000,
          6000,
          4500
         ],
         "yaxis": "y3"
        },
        {
         "connectgaps": false,
         "hovertemplate": "fnid=MG2009A20315<br>indicator=area<br>year=%{x}<br>value=%{y}<extra></extra>",
         "legendgroup": "MG2009A20315",
         "line": {
          "color": "#FECB52",
          "dash": "solid"
         },
         "marker": {
          "symbol": "circle"
         },
         "mode": "markers+lines",
         "name": "MG2009A20315",
         "showlegend": false,
         "type": "scattergl",
         "x": [
          1990,
          1991,
          1992,
          1993,
          1994,
          1995,
          1996,
          1997,
          1998,
          1999,
          2000,
          2001,
          2002,
          2003,
          2004,
          2005,
          2006,
          2007,
          2008,
          2009,
          2010,
          2011,
          2012,
          2013,
          2014,
          2015,
          2016,
          2017,
          2018,
          2019,
          2020
         ],
         "xaxis": "x2",
         "y": [
          23418,
          23213,
          23312,
          24430,
          23800,
          20060,
          19905,
          20345,
          20790,
          21040,
          21150,
          21260,
          21370,
          21480,
          21590,
          17427,
          17590,
          17750,
          17910,
          18076,
          18245,
          18647,
          null,
          null,
          null,
          null,
          null,
          null,
          null,
          null,
          null
         ],
         "yaxis": "y2"
        },
        {
         "connectgaps": false,
         "hovertemplate": "fnid=MG2009A20315<br>indicator=yield<br>year=%{x}<br>value=%{y}<extra></extra>",
         "legendgroup": "MG2009A20315",
         "line": {
          "color": "#FECB52",
          "dash": "solid"
         },
         "marker": {
          "symbol": "circle"
         },
         "mode": "markers+lines",
         "name": "MG2009A20315",
         "showlegend": false,
         "type": "scattergl",
         "x": [
          1990,
          1991,
          1992,
          1993,
          1994,
          1995,
          1996,
          1997,
          1998,
          1999,
          2000,
          2001,
          2002,
          2003,
          2004,
          2005,
          2006,
          2007,
          2008,
          2009,
          2010,
          2011,
          2012,
          2013,
          2014,
          2015,
          2016,
          2017,
          2018,
          2019,
          2020
         ],
         "xaxis": "x",
         "y": [
          1.8080109317618926,
          1.9594623702235816,
          1.9828414550446123,
          1.9849365534179289,
          2.176470588235294,
          2.7073778664007975,
          2.3868374780205976,
          2.212582944212337,
          1.5125060125060126,
          1.571055133079848,
          1.50354609929078,
          1.5522107243650047,
          1.4744969583528311,
          0.9718342644320298,
          1.0917091245947197,
          2.5547139496184084,
          2.6071631608868677,
          2.6585915492957746,
          2.335566722501396,
          2.6847753927860145,
          2.6056453822965198,
          2.294739100123344,
          null,
          null,
          null,
          null,
          null,
          null,
          null,
          null,
          null
         ],
         "yaxis": "y"
        },
        {
         "connectgaps": false,
         "hovertemplate": "fnid=MG2009A20322<br>indicator=production<br>year=%{x}<br>value=%{y}<extra></extra>",
         "legendgroup": "MG2009A20322",
         "line": {
          "color": "#636efa",
          "dash": "solid"
         },
         "marker": {
          "symbol": "circle"
         },
         "mode": "markers+lines",
         "name": "MG2009A20322",
         "showlegend": true,
         "type": "scattergl",
         "x": [
          1990,
          1991,
          1992,
          1993,
          1994,
          1995,
          1996,
          1997,
          1998,
          1999,
          2000,
          2001,
          2002,
          2003,
          2004,
          2005,
          2006,
          2007,
          2008,
          2009,
          2010,
          2011,
          2012,
          2013,
          2014,
          2015,
          2016,
          2017,
          2018,
          2019,
          2020
         ],
         "xaxis": "x3",
         "y": [
          115480,
          117310,
          122043,
          128031,
          111030,
          116445,
          101920,
          89660,
          98405,
          99300,
          93160,
          100980,
          88585,
          143185,
          146275,
          187601,
          190230,
          198860,
          189880,
          236700,
          209315,
          129615,
          143653,
          115085,
          148773,
          117903.37819312,
          119966.6873115,
          37528.56696155,
          65674.99218272,
          69063.82177934,
          75970.20395728
         ],
         "yaxis": "y3"
        },
        {
         "connectgaps": false,
         "hovertemplate": "fnid=MG2009A20322<br>indicator=area<br>year=%{x}<br>value=%{y}<extra></extra>",
         "legendgroup": "MG2009A20322",
         "line": {
          "color": "#636efa",
          "dash": "solid"
         },
         "marker": {
          "symbol": "circle"
         },
         "mode": "markers+lines",
         "name": "MG2009A20322",
         "showlegend": false,
         "type": "scattergl",
         "x": [
          1990,
          1991,
          1992,
          1993,
          1994,
          1995,
          1996,
          1997,
          1998,
          1999,
          2000,
          2001,
          2002,
          2003,
          2004,
          2005,
          2006,
          2007,
          2008,
          2009,
          2010,
          2011,
          2012,
          2013,
          2014,
          2015,
          2016,
          2017,
          2018,
          2019,
          2020
         ],
         "xaxis": "x2",
         "y": [
          71579,
          70601,
          72535,
          76040,
          72100,
          60705,
          60370,
          61695,
          63050,
          63400,
          63540,
          63680,
          63820,
          63960,
          64100,
          129533,
          130700,
          131875,
          133065,
          134278,
          135497,
          104314,
          null,
          null,
          null,
          null,
          null,
          null,
          null,
          null,
          null
         ],
         "yaxis": "y2"
        },
        {
         "connectgaps": false,
         "hovertemplate": "fnid=MG2009A20322<br>indicator=yield<br>year=%{x}<br>value=%{y}<extra></extra>",
         "legendgroup": "MG2009A20322",
         "line": {
          "color": "#636efa",
          "dash": "solid"
         },
         "marker": {
          "symbol": "circle"
         },
         "mode": "markers+lines",
         "name": "MG2009A20322",
         "showlegend": false,
         "type": "scattergl",
         "x": [
          1990,
          1991,
          1992,
          1993,
          1994,
          1995,
          1996,
          1997,
          1998,
          1999,
          2000,
          2001,
          2002,
          2003,
          2004,
          2005,
          2006,
          2007,
          2008,
          2009,
          2010,
          2011,
          2012,
          2013,
          2014,
          2015,
          2016,
          2017,
          2018,
          2019,
          2020
         ],
         "xaxis": "x",
         "y": [
          1.6133223431453358,
          1.6615911955921305,
          1.6825394637071758,
          1.6837322461862179,
          1.5399445214979195,
          1.918211020509019,
          1.6882557561702833,
          1.4532782235189237,
          1.5607454401268834,
          1.5662460567823344,
          1.4661630468995908,
          1.5857412060301508,
          1.3880445001566908,
          2.2386647904940586,
          2.2819812792511702,
          1.4482873090254993,
          1.4554705432287682,
          1.5079431279620854,
          1.4269717807086761,
          1.7627608394524792,
          1.544794349690399,
          1.2425465421707538,
          null,
          null,
          null,
          null,
          null,
          null,
          null,
          null,
          null
         ],
         "yaxis": "y"
        },
        {
         "connectgaps": false,
         "hovertemplate": "fnid=MG2009A20410<br>indicator=production<br>year=%{x}<br>value=%{y}<extra></extra>",
         "legendgroup": "MG2009A20410",
         "line": {
          "color": "#EF553B",
          "dash": "solid"
         },
         "marker": {
          "symbol": "circle"
         },
         "mode": "markers+lines",
         "name": "MG2009A20410",
         "showlegend": true,
         "type": "scattergl",
         "x": [
          1990,
          1991,
          1992,
          1993,
          1994,
          1995,
          1996,
          1997,
          1998,
          1999,
          2000,
          2001,
          2002,
          2003,
          2004,
          2005,
          2006,
          2007,
          2008,
          2009,
          2010,
          2011,
          2012,
          2013,
          2014,
          2015,
          2016,
          2017,
          2018,
          2019,
          2020
         ],
         "xaxis": "x3",
         "y": [
          44545,
          47843,
          48622,
          51470,
          52210,
          50850,
          53470,
          50490,
          49450,
          47805,
          48180,
          48245,
          45370,
          59924,
          61030,
          90662,
          92980,
          96100,
          110520,
          131270,
          136945,
          143755,
          141200,
          72752,
          98654,
          71773.04249292,
          43063.82549575,
          23452.37849692,
          30000,
          40000,
          50000
         ],
         "yaxis": "y3"
        },
        {
         "connectgaps": false,
         "hovertemplate": "fnid=MG2009A20410<br>indicator=area<br>year=%{x}<br>value=%{y}<extra></extra>",
         "legendgroup": "MG2009A20410",
         "line": {
          "color": "#EF553B",
          "dash": "solid"
         },
         "marker": {
          "symbol": "circle"
         },
         "mode": "markers+lines",
         "name": "MG2009A20410",
         "showlegend": false,
         "type": "scattergl",
         "x": [
          1990,
          1991,
          1992,
          1993,
          1994,
          1995,
          1996,
          1997,
          1998,
          1999,
          2000,
          2001,
          2002,
          2003,
          2004,
          2005,
          2006,
          2007,
          2008,
          2009,
          2010,
          2011,
          2012,
          2013,
          2014,
          2015,
          2016,
          2017,
          2018,
          2019,
          2020
         ],
         "xaxis": "x2",
         "y": [
          22945,
          22742,
          23317,
          24365,
          23000,
          24245,
          21345,
          21815,
          22285,
          22040,
          21975,
          21910,
          21845,
          21780,
          23270,
          35325,
          35640,
          35960,
          36290,
          36620,
          36957,
          32173,
          null,
          null,
          null,
          null,
          null,
          null,
          null,
          null,
          null
         ],
         "yaxis": "y2"
        },
        {
         "connectgaps": false,
         "hovertemplate": "fnid=MG2009A20410<br>indicator=yield<br>year=%{x}<br>value=%{y}<extra></extra>",
         "legendgroup": "MG2009A20410",
         "line": {
          "color": "#EF553B",
          "dash": "solid"
         },
         "marker": {
          "symbol": "circle"
         },
         "mode": "markers+lines",
         "name": "MG2009A20410",
         "showlegend": false,
         "type": "scattergl",
         "x": [
          1990,
          1991,
          1992,
          1993,
          1994,
          1995,
          1996,
          1997,
          1998,
          1999,
          2000,
          2001,
          2002,
          2003,
          2004,
          2005,
          2006,
          2007,
          2008,
          2009,
          2010,
          2011,
          2012,
          2013,
          2014,
          2015,
          2016,
          2017,
          2018,
          2019,
          2020
         ],
         "xaxis": "x",
         "y": [
          1.9413815646110264,
          2.103728783748131,
          2.085259681777244,
          2.112456392366099,
          2.27,
          2.0973396576613736,
          2.5050363082689153,
          2.3144625257850104,
          2.2189813776082565,
          2.169010889292196,
          2.192491467576792,
          2.201962574167047,
          2.07690547035935,
          2.751331496786042,
          2.622690159003008,
          2.5665109695682946,
          2.6088664421997754,
          2.6724137931034484,
          3.045467070818407,
          3.5846531949754232,
          3.7055226344129664,
          4.468187610729494,
          null,
          null,
          null,
          null,
          null,
          null,
          null,
          null,
          null
         ],
         "yaxis": "y"
        },
        {
         "connectgaps": false,
         "hovertemplate": "fnid=MG2009A20411<br>indicator=production<br>year=%{x}<br>value=%{y}<extra></extra>",
         "legendgroup": "MG2009A20411",
         "line": {
          "color": "#00cc96",
          "dash": "solid"
         },
         "marker": {
          "symbol": "circle"
         },
         "mode": "markers+lines",
         "name": "MG2009A20411",
         "showlegend": true,
         "type": "scattergl",
         "x": [
          1990,
          1991,
          1992,
          1993,
          1994,
          1995,
          1996,
          1997,
          1998,
          1999,
          2000,
          2001,
          2002,
          2003,
          2004,
          2005,
          2006,
          2007,
          2008,
          2009,
          2010,
          2011,
          2012,
          2013,
          2014,
          2015,
          2016,
          2017,
          2018,
          2019,
          2020
         ],
         "xaxis": "x3",
         "y": [
          138160,
          140763,
          146258,
          156650,
          132650,
          122770,
          131900,
          140700,
          128110,
          138510,
          138295,
          138740,
          135965,
          145460,
          167155,
          170685,
          177810,
          180925,
          217110,
          261850,
          272880,
          334000,
          247689,
          129782,
          167448,
          209988.87874562,
          155412.76915964,
          91964.94666425,
          183929.89332849,
          197154.45265881,
          214898.3533981
         ],
         "yaxis": "y3"
        },
        {
         "connectgaps": false,
         "hovertemplate": "fnid=MG2009A20411<br>indicator=area<br>year=%{x}<br>value=%{y}<extra></extra>",
         "legendgroup": "MG2009A20411",
         "line": {
          "color": "#00cc96",
          "dash": "solid"
         },
         "marker": {
          "symbol": "circle"
         },
         "mode": "markers+lines",
         "name": "MG2009A20411",
         "showlegend": false,
         "type": "scattergl",
         "x": [
          1990,
          1991,
          1992,
          1993,
          1994,
          1995,
          1996,
          1997,
          1998,
          1999,
          2000,
          2001,
          2002,
          2003,
          2004,
          2005,
          2006,
          2007,
          2008,
          2009,
          2010,
          2011,
          2012,
          2013,
          2014,
          2015,
          2016,
          2017,
          2018,
          2019,
          2020
         ],
         "xaxis": "x2",
         "y": [
          58285,
          57765,
          59233,
          61920,
          57430,
          55820,
          53230,
          54625,
          54625,
          54140,
          54140,
          54140,
          54140,
          54080,
          58385,
          61235,
          61780,
          62340,
          62900,
          63470,
          64052,
          77757,
          null,
          null,
          null,
          null,
          null,
          null,
          null,
          null,
          null
         ],
         "yaxis": "y2"
        },
        {
         "connectgaps": false,
         "hovertemplate": "fnid=MG2009A20411<br>indicator=yield<br>year=%{x}<br>value=%{y}<extra></extra>",
         "legendgroup": "MG2009A20411",
         "line": {
          "color": "#00cc96",
          "dash": "solid"
         },
         "marker": {
          "symbol": "circle"
         },
         "mode": "markers+lines",
         "name": "MG2009A20411",
         "showlegend": false,
         "type": "scattergl",
         "x": [
          1990,
          1991,
          1992,
          1993,
          1994,
          1995,
          1996,
          1997,
          1998,
          1999,
          2000,
          2001,
          2002,
          2003,
          2004,
          2005,
          2006,
          2007,
          2008,
          2009,
          2010,
          2011,
          2012,
          2013,
          2014,
          2015,
          2016,
          2017,
          2018,
          2019,
          2020
         ],
         "xaxis": "x",
         "y": [
          2.370421206142232,
          2.43682160477798,
          2.4691979133253423,
          2.529877260981912,
          2.3097684137210517,
          2.1993908993192406,
          2.4779259815893293,
          2.5757437070938214,
          2.345263157894737,
          2.5583671961581085,
          2.5543960103435537,
          2.5626154414480977,
          2.5113594384927964,
          2.6897189349112427,
          2.8629785047529333,
          2.787376500367437,
          2.8781158951116868,
          2.9022297080526145,
          3.451669316375199,
          4.125571135969749,
          4.260288515581091,
          4.295433208585722,
          null,
          null,
          null,
          null,
          null,
          null,
          null,
          null,
          null
         ],
         "yaxis": "y"
        },
        {
         "connectgaps": false,
         "hovertemplate": "fnid=MG2009A20417<br>indicator=production<br>year=%{x}<br>value=%{y}<extra></extra>",
         "legendgroup": "MG2009A20417",
         "line": {
          "color": "#ab63fa",
          "dash": "solid"
         },
         "marker": {
          "symbol": "circle"
         },
         "mode": "markers+lines",
         "name": "MG2009A20417",
         "showlegend": true,
         "type": "scattergl",
         "x": [
          1990,
          1991,
          1992,
          1993,
          1994,
          1995,
          1996,
          1997,
          1998,
          1999,
          2000,
          2001,
          2002,
          2003,
          2004,
          2005,
          2006,
          2007,
          2008,
          2009,
          2010,
          2011,
          2012,
          2013,
          2014,
          2015,
          2016,
          2017,
          2018,
          2019,
          2020
         ],
         "xaxis": "x3",
         "y": [
          59265,
          63670,
          64702,
          74710,
          69000,
          67200,
          72650,
          64365,
          59290,
          65085,
          63750,
          63760,
          61705,
          43320,
          44605,
          52848,
          54430,
          55775,
          64140,
          74405,
          79370,
          62890,
          75474,
          55053,
          59320,
          77116,
          58492.486,
          51311.82558442,
          40000,
          36000,
          43264
         ],
         "yaxis": "y3"
        },
        {
         "connectgaps": false,
         "hovertemplate": "fnid=MG2009A20417<br>indicator=area<br>year=%{x}<br>value=%{y}<extra></extra>",
         "legendgroup": "MG2009A20417",
         "line": {
          "color": "#ab63fa",
          "dash": "solid"
         },
         "marker": {
          "symbol": "circle"
         },
         "mode": "markers+lines",
         "name": "MG2009A20417",
         "showlegend": false,
         "type": "scattergl",
         "x": [
          1990,
          1991,
          1992,
          1993,
          1994,
          1995,
          1996,
          1997,
          1998,
          1999,
          2000,
          2001,
          2002,
          2003,
          2004,
          2005,
          2006,
          2007,
          2008,
          2009,
          2010,
          2011,
          2012,
          2013,
          2014,
          2015,
          2016,
          2017,
          2018,
          2019,
          2020
         ],
         "xaxis": "x2",
         "y": [
          30995,
          30738,
          30809,
          32205,
          30520,
          32125,
          28290,
          28910,
          29540,
          28960,
          29010,
          29060,
          29110,
          29160,
          32310,
          28536,
          28790,
          29050,
          29310,
          29570,
          29840,
          30303,
          null,
          null,
          null,
          null,
          null,
          null,
          null,
          null,
          null
         ],
         "yaxis": "y2"
        },
        {
         "connectgaps": false,
         "hovertemplate": "fnid=MG2009A20417<br>indicator=yield<br>year=%{x}<br>value=%{y}<extra></extra>",
         "legendgroup": "MG2009A20417",
         "line": {
          "color": "#ab63fa",
          "dash": "solid"
         },
         "marker": {
          "symbol": "circle"
         },
         "mode": "markers+lines",
         "name": "MG2009A20417",
         "showlegend": false,
         "type": "scattergl",
         "x": [
          1990,
          1991,
          1992,
          1993,
          1994,
          1995,
          1996,
          1997,
          1998,
          1999,
          2000,
          2001,
          2002,
          2003,
          2004,
          2005,
          2006,
          2007,
          2008,
          2009,
          2010,
          2011,
          2012,
          2013,
          2014,
          2015,
          2016,
          2017,
          2018,
          2019,
          2020
         ],
         "xaxis": "x",
         "y": [
          1.912082593966769,
          2.0713774481098315,
          2.100100619948716,
          2.31982611395746,
          2.260812581913499,
          2.091828793774319,
          2.568045245669848,
          2.2263922518159807,
          2.0071090047393363,
          2.247410220994475,
          2.197518097207859,
          2.1940812112869925,
          2.119718309859155,
          1.48559670781893,
          1.3805323429278862,
          1.8519764507989906,
          1.8905870093782564,
          1.9199655765920827,
          2.188331627430911,
          2.5162326682448426,
          2.65985254691689,
          2.0753720753720755,
          null,
          null,
          null,
          null,
          null,
          null,
          null,
          null,
          null
         ],
         "yaxis": "y"
        },
        {
         "connectgaps": false,
         "hovertemplate": "fnid=MG2009A20420<br>indicator=production<br>year=%{x}<br>value=%{y}<extra></extra>",
         "legendgroup": "MG2009A20420",
         "line": {
          "color": "#FFA15A",
          "dash": "solid"
         },
         "marker": {
          "symbol": "circle"
         },
         "mode": "markers+lines",
         "name": "MG2009A20420",
         "showlegend": true,
         "type": "scattergl",
         "x": [
          1990,
          1991,
          1992,
          1993,
          1994,
          1995,
          1996,
          1997,
          1998,
          1999,
          2000,
          2001,
          2002,
          2003,
          2004,
          2005,
          2006,
          2007,
          2008,
          2009,
          2010,
          2011,
          2012,
          2013,
          2014,
          2015,
          2016,
          2017,
          2018,
          2019,
          2020
         ],
         "xaxis": "x3",
         "y": [
          261445,
          270182,
          278549,
          278170,
          266140,
          259060,
          280340,
          301245,
          296555,
          297030,
          307920,
          308350,
          324090,
          223790,
          263325,
          282462,
          292940,
          299410,
          344320,
          416410,
          426670,
          392070,
          383522,
          143274,
          198742,
          229437.48215219,
          203717.54040293,
          171716.61131224,
          160000,
          193952,
          197831.04
         ],
         "yaxis": "y3"
        },
        {
         "connectgaps": false,
         "hovertemplate": "fnid=MG2009A20420<br>indicator=area<br>year=%{x}<br>value=%{y}<extra></extra>",
         "legendgroup": "MG2009A20420",
         "line": {
          "color": "#FFA15A",
          "dash": "solid"
         },
         "marker": {
          "symbol": "circle"
         },
         "mode": "markers+lines",
         "name": "MG2009A20420",
         "showlegend": false,
         "type": "scattergl",
         "x": [
          1990,
          1991,
          1992,
          1993,
          1994,
          1995,
          1996,
          1997,
          1998,
          1999,
          2000,
          2001,
          2002,
          2003,
          2004,
          2005,
          2006,
          2007,
          2008,
          2009,
          2010,
          2011,
          2012,
          2013,
          2014,
          2015,
          2016,
          2017,
          2018,
          2019,
          2020
         ],
         "xaxis": "x2",
         "y": [
          117075,
          115899,
          118900,
          124210,
          119550,
          125845,
          110770,
          114715,
          117225,
          115380,
          115485,
          115590,
          115695,
          115800,
          121255,
          111270,
          112270,
          113280,
          114300,
          115330,
          116384,
          109439,
          null,
          null,
          null,
          null,
          null,
          null,
          null,
          null,
          null
         ],
         "yaxis": "y2"
        },
        {
         "connectgaps": false,
         "hovertemplate": "fnid=MG2009A20420<br>indicator=yield<br>year=%{x}<br>value=%{y}<extra></extra>",
         "legendgroup": "MG2009A20420",
         "line": {
          "color": "#FFA15A",
          "dash": "solid"
         },
         "marker": {
          "symbol": "circle"
         },
         "mode": "markers+lines",
         "name": "MG2009A20420",
         "showlegend": false,
         "type": "scattergl",
         "x": [
          1990,
          1991,
          1992,
          1993,
          1994,
          1995,
          1996,
          1997,
          1998,
          1999,
          2000,
          2001,
          2002,
          2003,
          2004,
          2005,
          2006,
          2007,
          2008,
          2009,
          2010,
          2011,
          2012,
          2013,
          2014,
          2015,
          2016,
          2017,
          2018,
          2019,
          2020
         ],
         "xaxis": "x",
         "y": [
          2.233141148836216,
          2.331184911000095,
          2.3427165685449958,
          2.2395137267530796,
          2.2261815140108743,
          2.0585641066391194,
          2.5308296470163403,
          2.626029725842305,
          2.52979313286415,
          2.574362974518981,
          2.6663203013378363,
          2.667618306081841,
          2.8012446518864254,
          1.9325561312607944,
          2.1716630242051873,
          2.5385279050957132,
          2.6092455687182685,
          2.6430967514124295,
          3.0124234470691165,
          3.610595681956126,
          3.6660537530932085,
          3.582543700143459,
          null,
          null,
          null,
          null,
          null,
          null,
          null,
          null,
          null
         ],
         "yaxis": "y"
        },
        {
         "connectgaps": false,
         "hovertemplate": "fnid=MG2009A20501<br>indicator=production<br>year=%{x}<br>value=%{y}<extra></extra>",
         "legendgroup": "MG2009A20501",
         "line": {
          "color": "#19d3f3",
          "dash": "solid"
         },
         "marker": {
          "symbol": "circle"
         },
         "mode": "markers+lines",
         "name": "MG2009A20501",
         "showlegend": true,
         "type": "scattergl",
         "x": [
          1990,
          1991,
          1992,
          1993,
          1994,
          1995,
          1996,
          1997,
          1998,
          1999,
          2000,
          2001,
          2002,
          2003,
          2004,
          2005,
          2006,
          2007,
          2008,
          2009,
          2010,
          2011,
          2012,
          2013,
          2014,
          2015,
          2016,
          2017,
          2018,
          2019,
          2020
         ],
         "xaxis": "x3",
         "y": [
          222150,
          222160,
          232682,
          234640,
          223000,
          281080,
          319540,
          339190,
          345690,
          384565,
          355385,
          387610,
          374105,
          371350,
          418755,
          435204,
          448250,
          461320,
          470900,
          504900,
          520740,
          425350,
          506810,
          342888,
          507954,
          319936.32440407,
          357400.86799179,
          240464.80795824,
          400000,
          487960,
          629468.4
         ],
         "yaxis": "y3"
        },
        {
         "connectgaps": false,
         "hovertemplate": "fnid=MG2009A20501<br>indicator=area<br>year=%{x}<br>value=%{y}<extra></extra>",
         "legendgroup": "MG2009A20501",
         "line": {
          "color": "#19d3f3",
          "dash": "solid"
         },
         "marker": {
          "symbol": "circle"
         },
         "mode": "markers+lines",
         "name": "MG2009A20501",
         "showlegend": false,
         "type": "scattergl",
         "x": [
          1990,
          1991,
          1992,
          1993,
          1994,
          1995,
          1996,
          1997,
          1998,
          1999,
          2000,
          2001,
          2002,
          2003,
          2004,
          2005,
          2006,
          2007,
          2008,
          2009,
          2010,
          2011,
          2012,
          2013,
          2014,
          2015,
          2016,
          2017,
          2018,
          2019,
          2020
         ],
         "xaxis": "x2",
         "y": [
          116830,
          115588,
          118602,
          124460,
          111910,
          120980,
          131230,
          137060,
          140830,
          141330,
          140865,
          141940,
          143030,
          144140,
          146375,
          86569,
          87350,
          88130,
          88930,
          89730,
          90553,
          76907,
          null,
          null,
          null,
          null,
          null,
          null,
          null,
          null,
          null
         ],
         "yaxis": "y2"
        },
        {
         "connectgaps": false,
         "hovertemplate": "fnid=MG2009A20501<br>indicator=yield<br>year=%{x}<br>value=%{y}<extra></extra>",
         "legendgroup": "MG2009A20501",
         "line": {
          "color": "#19d3f3",
          "dash": "solid"
         },
         "marker": {
          "symbol": "circle"
         },
         "mode": "markers+lines",
         "name": "MG2009A20501",
         "showlegend": false,
         "type": "scattergl",
         "x": [
          1990,
          1991,
          1992,
          1993,
          1994,
          1995,
          1996,
          1997,
          1998,
          1999,
          2000,
          2001,
          2002,
          2003,
          2004,
          2005,
          2006,
          2007,
          2008,
          2009,
          2010,
          2011,
          2012,
          2013,
          2014,
          2015,
          2016,
          2017,
          2018,
          2019,
          2020
         ],
         "xaxis": "x",
         "y": [
          1.901480784045194,
          1.921998823407274,
          1.9618724810711454,
          1.8852643419572555,
          1.9926726834063087,
          2.323359232931063,
          2.4349615179455917,
          2.4747555814971545,
          2.4546616487964212,
          2.7210429491261587,
          2.522876512973414,
          2.730801747217134,
          2.6155701601062713,
          2.5763146940474537,
          2.8608368915456874,
          5.027249939354735,
          5.131654264453348,
          5.234539884261886,
          5.295175981108737,
          5.626880641925777,
          5.750665356200236,
          5.530705917536765,
          null,
          null,
          null,
          null,
          null,
          null,
          null,
          null,
          null
         ],
         "yaxis": "y"
        },
        {
         "connectgaps": false,
         "hovertemplate": "fnid=MG2009A20504<br>indicator=production<br>year=%{x}<br>value=%{y}<extra></extra>",
         "legendgroup": "MG2009A20504",
         "line": {
          "color": "#FF6692",
          "dash": "solid"
         },
         "marker": {
          "symbol": "circle"
         },
         "mode": "markers+lines",
         "name": "MG2009A20504",
         "showlegend": true,
         "type": "scattergl",
         "x": [
          1990,
          1991,
          1992,
          1993,
          1994,
          1995,
          1996,
          1997,
          1998,
          1999,
          2000,
          2001,
          2002,
          2003,
          2004,
          2005,
          2006,
          2007,
          2008,
          2009,
          2010,
          2011,
          2012,
          2013,
          2014,
          2015,
          2016,
          2017,
          2018,
          2019,
          2020
         ],
         "xaxis": "x3",
         "y": [
          69960,
          59021,
          66744,
          66920,
          54100,
          70590,
          89795,
          96345,
          96365,
          103415,
          89550,
          112655,
          107300,
          63225,
          68880,
          95549,
          95415,
          101280,
          106350,
          124510,
          130315,
          105395,
          119018,
          128861,
          116275,
          123437.54,
          117660.663128,
          118646.94198826,
          130000,
          132600,
          136578
         ],
         "yaxis": "y3"
        },
        {
         "connectgaps": false,
         "hovertemplate": "fnid=MG2009A20504<br>indicator=area<br>year=%{x}<br>value=%{y}<extra></extra>",
         "legendgroup": "MG2009A20504",
         "line": {
          "color": "#FF6692",
          "dash": "solid"
         },
         "marker": {
          "symbol": "circle"
         },
         "mode": "markers+lines",
         "name": "MG2009A20504",
         "showlegend": false,
         "type": "scattergl",
         "x": [
          1990,
          1991,
          1992,
          1993,
          1994,
          1995,
          1996,
          1997,
          1998,
          1999,
          2000,
          2001,
          2002,
          2003,
          2004,
          2005,
          2006,
          2007,
          2008,
          2009,
          2010,
          2011,
          2012,
          2013,
          2014,
          2015,
          2016,
          2017,
          2018,
          2019,
          2020
         ],
         "xaxis": "x2",
         "y": [
          42950,
          42543,
          43631,
          45800,
          40350,
          49575,
          61730,
          63090,
          64485,
          64760,
          64930,
          65100,
          65275,
          65450,
          66715,
          68998,
          69620,
          70260,
          70880,
          71520,
          72177,
          67353,
          null,
          null,
          null,
          null,
          null,
          null,
          null,
          null,
          null
         ],
         "yaxis": "y2"
        },
        {
         "connectgaps": false,
         "hovertemplate": "fnid=MG2009A20504<br>indicator=yield<br>year=%{x}<br>value=%{y}<extra></extra>",
         "legendgroup": "MG2009A20504",
         "line": {
          "color": "#FF6692",
          "dash": "solid"
         },
         "marker": {
          "symbol": "circle"
         },
         "mode": "markers+lines",
         "name": "MG2009A20504",
         "showlegend": false,
         "type": "scattergl",
         "x": [
          1990,
          1991,
          1992,
          1993,
          1994,
          1995,
          1996,
          1997,
          1998,
          1999,
          2000,
          2001,
          2002,
          2003,
          2004,
          2005,
          2006,
          2007,
          2008,
          2009,
          2010,
          2011,
          2012,
          2013,
          2014,
          2015,
          2016,
          2017,
          2018,
          2019,
          2020
         ],
         "xaxis": "x",
         "y": [
          1.628870779976717,
          1.3873257645206027,
          1.5297380302995576,
          1.4611353711790394,
          1.3407682775712515,
          1.4239031770045385,
          1.4546411793293375,
          1.5271041369472182,
          1.4943785376444134,
          1.5968962322421247,
          1.3791775758509164,
          1.7304915514592933,
          1.6438146304098047,
          0.9660045836516424,
          1.0324514726823053,
          1.3848082553117482,
          1.3705113473139903,
          1.4415029888983775,
          1.500423250564334,
          1.7409116331096197,
          1.8054920542555108,
          1.5648152272356095,
          null,
          null,
          null,
          null,
          null,
          null,
          null,
          null,
          null
         ],
         "yaxis": "y"
        },
        {
         "connectgaps": false,
         "hovertemplate": "fnid=MG2009A20509<br>indicator=production<br>year=%{x}<br>value=%{y}<extra></extra>",
         "legendgroup": "MG2009A20509",
         "line": {
          "color": "#B6E880",
          "dash": "solid"
         },
         "marker": {
          "symbol": "circle"
         },
         "mode": "markers+lines",
         "name": "MG2009A20509",
         "showlegend": true,
         "type": "scattergl",
         "x": [
          1990,
          1991,
          1992,
          1993,
          1994,
          1995,
          1996,
          1997,
          1998,
          1999,
          2000,
          2001,
          2002,
          2003,
          2004,
          2005,
          2006,
          2007,
          2008,
          2009,
          2010,
          2011,
          2012,
          2013,
          2014,
          2015,
          2016,
          2017,
          2018,
          2019,
          2020
         ],
         "xaxis": "x3",
         "y": [
          113745,
          96006,
          108548,
          124940,
          105900,
          138090,
          175660,
          190005,
          189755,
          192325,
          149625,
          205800,
          229190,
          85120,
          93120,
          117486,
          121010,
          124535,
          130760,
          171970,
          169895,
          112185,
          99396,
          96385,
          110909,
          103145.37,
          83568.378774,
          41028.31340099,
          36000,
          46800,
          48204
         ],
         "yaxis": "y3"
        },
        {
         "connectgaps": false,
         "hovertemplate": "fnid=MG2009A20509<br>indicator=area<br>year=%{x}<br>value=%{y}<extra></extra>",
         "legendgroup": "MG2009A20509",
         "line": {
          "color": "#B6E880",
          "dash": "solid"
         },
         "marker": {
          "symbol": "circle"
         },
         "mode": "markers+lines",
         "name": "MG2009A20509",
         "showlegend": false,
         "type": "scattergl",
         "x": [
          1990,
          1991,
          1992,
          1993,
          1994,
          1995,
          1996,
          1997,
          1998,
          1999,
          2000,
          2001,
          2002,
          2003,
          2004,
          2005,
          2006,
          2007,
          2008,
          2009,
          2010,
          2011,
          2012,
          2013,
          2014,
          2015,
          2016,
          2017,
          2018,
          2019,
          2020
         ],
         "xaxis": "x2",
         "y": [
          81345,
          80578,
          82633,
          86740,
          79440,
          97790,
          121565,
          125060,
          127840,
          128150,
          128425,
          128705,
          128985,
          129265,
          130850,
          77257,
          77950,
          78650,
          79350,
          80070,
          80802,
          76037,
          null,
          null,
          null,
          null,
          null,
          null,
          null,
          null,
          null
         ],
         "yaxis": "y2"
        },
        {
         "connectgaps": false,
         "hovertemplate": "fnid=MG2009A20509<br>indicator=yield<br>year=%{x}<br>value=%{y}<extra></extra>",
         "legendgroup": "MG2009A20509",
         "line": {
          "color": "#B6E880",
          "dash": "solid"
         },
         "marker": {
          "symbol": "circle"
         },
         "mode": "markers+lines",
         "name": "MG2009A20509",
         "showlegend": false,
         "type": "scattergl",
         "x": [
          1990,
          1991,
          1992,
          1993,
          1994,
          1995,
          1996,
          1997,
          1998,
          1999,
          2000,
          2001,
          2002,
          2003,
          2004,
          2005,
          2006,
          2007,
          2008,
          2009,
          2010,
          2011,
          2012,
          2013,
          2014,
          2015,
          2016,
          2017,
          2018,
          2019,
          2020
         ],
         "xaxis": "x",
         "y": [
          1.3983035220357736,
          1.1914666534289757,
          1.3136156257185385,
          1.4403965875028821,
          1.3330815709969788,
          1.412107577461908,
          1.4449882778760335,
          1.5193107308491924,
          1.4843163329161453,
          1.5007803355442841,
          1.1650768931282849,
          1.5990054776426712,
          1.776873279838741,
          0.6584922446137779,
          0.711654566297287,
          1.5207165693723546,
          1.5524053880692752,
          1.5834075015893199,
          1.6478890989287964,
          2.147745722492819,
          2.102608846315685,
          1.4754001341452188,
          null,
          null,
          null,
          null,
          null,
          null,
          null,
          null,
          null
         ],
         "yaxis": "y"
        },
        {
         "connectgaps": false,
         "hovertemplate": "fnid=MG2009A20605<br>indicator=production<br>year=%{x}<br>value=%{y}<extra></extra>",
         "legendgroup": "MG2009A20605",
         "line": {
          "color": "#FF97FF",
          "dash": "solid"
         },
         "marker": {
          "symbol": "circle"
         },
         "mode": "markers+lines",
         "name": "MG2009A20605",
         "showlegend": true,
         "type": "scattergl",
         "x": [
          1990,
          1991,
          1992,
          1993,
          1994,
          1995,
          1996,
          1997,
          1998,
          1999,
          2000,
          2001,
          2002,
          2003,
          2004,
          2005,
          2006,
          2007,
          2008,
          2009,
          2010,
          2011,
          2012,
          2013,
          2014,
          2015,
          2016,
          2017,
          2018,
          2019,
          2020
         ],
         "xaxis": "x3",
         "y": [
          13930,
          13688,
          14441,
          15300,
          16900,
          15985,
          15970,
          12580,
          11390,
          11750,
          11740,
          11860,
          10230,
          24170,
          26855,
          24705,
          23770,
          26190,
          27400,
          31780,
          32900,
          40710,
          40122,
          29198,
          20000,
          4199.68304279,
          1825.1822504,
          2711.73496057,
          2711.73496057,
          2622,
          2490.9
         ],
         "yaxis": "y3"
        },
        {
         "connectgaps": false,
         "hovertemplate": "fnid=MG2009A20605<br>indicator=area<br>year=%{x}<br>value=%{y}<extra></extra>",
         "legendgroup": "MG2009A20605",
         "line": {
          "color": "#FF97FF",
          "dash": "solid"
         },
         "marker": {
          "symbol": "circle"
         },
         "mode": "markers+lines",
         "name": "MG2009A20605",
         "showlegend": false,
         "type": "scattergl",
         "x": [
          1990,
          1991,
          1992,
          1993,
          1994,
          1995,
          1996,
          1997,
          1998,
          1999,
          2000,
          2001,
          2002,
          2003,
          2004,
          2005,
          2006,
          2007,
          2008,
          2009,
          2010,
          2011,
          2012,
          2013,
          2014,
          2015,
          2016,
          2017,
          2018,
          2019,
          2020
         ],
         "xaxis": "x2",
         "y": [
          6965,
          6916,
          7080,
          7466,
          7850,
          6610,
          8370,
          8700,
          8780,
          8730,
          8765,
          8800,
          8835,
          8870,
          8980,
          5134,
          5180,
          5230,
          5280,
          5325,
          5376,
          6966,
          null,
          null,
          null,
          null,
          null,
          null,
          null,
          null,
          null
         ],
         "yaxis": "y2"
        },
        {
         "connectgaps": false,
         "hovertemplate": "fnid=MG2009A20605<br>indicator=yield<br>year=%{x}<br>value=%{y}<extra></extra>",
         "legendgroup": "MG2009A20605",
         "line": {
          "color": "#FF97FF",
          "dash": "solid"
         },
         "marker": {
          "symbol": "circle"
         },
         "mode": "markers+lines",
         "name": "MG2009A20605",
         "showlegend": false,
         "type": "scattergl",
         "x": [
          1990,
          1991,
          1992,
          1993,
          1994,
          1995,
          1996,
          1997,
          1998,
          1999,
          2000,
          2001,
          2002,
          2003,
          2004,
          2005,
          2006,
          2007,
          2008,
          2009,
          2010,
          2011,
          2012,
          2013,
          2014,
          2015,
          2016,
          2017,
          2018,
          2019,
          2020
         ],
         "xaxis": "x",
         "y": [
          2,
          1.9791787160208212,
          2.0396892655367234,
          2.0492901151888563,
          2.1528662420382165,
          2.418305597579425,
          1.908004778972521,
          1.445977011494253,
          1.2972665148063782,
          1.345933562428408,
          1.3394181403308614,
          1.3477272727272727,
          1.1578947368421053,
          2.7249154453213076,
          2.9905345211581293,
          4.8120373977405535,
          4.588803088803089,
          5.007648183556405,
          5.1893939393939394,
          5.968075117370892,
          6.119791666666667,
          5.844099913867356,
          null,
          null,
          null,
          null,
          null,
          null,
          null,
          null,
          null
         ],
         "yaxis": "y"
        },
        {
         "connectgaps": false,
         "hovertemplate": "fnid=MG2009A20606<br>indicator=production<br>year=%{x}<br>value=%{y}<extra></extra>",
         "legendgroup": "MG2009A20606",
         "line": {
          "color": "#FECB52",
          "dash": "solid"
         },
         "marker": {
          "symbol": "circle"
         },
         "mode": "markers+lines",
         "name": "MG2009A20606",
         "showlegend": true,
         "type": "scattergl",
         "x": [
          1990,
          1991,
          1992,
          1993,
          1994,
          1995,
          1996,
          1997,
          1998,
          1999,
          2000,
          2001,
          2002,
          2003,
          2004,
          2005,
          2006,
          2007,
          2008,
          2009,
          2010,
          2011,
          2012,
          2013,
          2014,
          2015,
          2016,
          2017,
          2018,
          2019,
          2020
         ],
         "xaxis": "x3",
         "y": [
          45560,
          42371,
          45813,
          43910,
          41200,
          38930,
          38905,
          32780,
          28930,
          32345,
          32410,
          32450,
          32510,
          34840,
          39325,
          58549,
          62210,
          62060,
          74470,
          86390,
          93310,
          134375,
          94063,
          74100,
          50000,
          33970.23330652,
          12297.22445696,
          13526.94690265,
          5000,
          4975,
          4179
         ],
         "yaxis": "y3"
        },
        {
         "connectgaps": false,
         "hovertemplate": "fnid=MG2009A20606<br>indicator=area<br>year=%{x}<br>value=%{y}<extra></extra>",
         "legendgroup": "MG2009A20606",
         "line": {
          "color": "#FECB52",
          "dash": "solid"
         },
         "marker": {
          "symbol": "circle"
         },
         "mode": "markers+lines",
         "name": "MG2009A20606",
         "showlegend": false,
         "type": "scattergl",
         "x": [
          1990,
          1991,
          1992,
          1993,
          1994,
          1995,
          1996,
          1997,
          1998,
          1999,
          2000,
          2001,
          2002,
          2003,
          2004,
          2005,
          2006,
          2007,
          2008,
          2009,
          2010,
          2011,
          2012,
          2013,
          2014,
          2015,
          2016,
          2017,
          2018,
          2019,
          2020
         ],
         "xaxis": "x2",
         "y": [
          19935,
          19778,
          20273,
          21026,
          20520,
          17300,
          21895,
          22825,
          22940,
          23120,
          23170,
          23220,
          23270,
          23320,
          23645,
          31934,
          32220,
          32510,
          32800,
          33090,
          33392,
          40763,
          null,
          null,
          null,
          null,
          null,
          null,
          null,
          null,
          null
         ],
         "yaxis": "y2"
        },
        {
         "connectgaps": false,
         "hovertemplate": "fnid=MG2009A20606<br>indicator=yield<br>year=%{x}<br>value=%{y}<extra></extra>",
         "legendgroup": "MG2009A20606",
         "line": {
          "color": "#FECB52",
          "dash": "solid"
         },
         "marker": {
          "symbol": "circle"
         },
         "mode": "markers+lines",
         "name": "MG2009A20606",
         "showlegend": false,
         "type": "scattergl",
         "x": [
          1990,
          1991,
          1992,
          1993,
          1994,
          1995,
          1996,
          1997,
          1998,
          1999,
          2000,
          2001,
          2002,
          2003,
          2004,
          2005,
          2006,
          2007,
          2008,
          2009,
          2010,
          2011,
          2012,
          2013,
          2014,
          2015,
          2016,
          2017,
          2018,
          2019,
          2020
         ],
         "xaxis": "x",
         "y": [
          2.2854276398294457,
          2.1423298614622306,
          2.259803679771124,
          2.088366783981737,
          2.007797270955166,
          2.2502890173410406,
          1.7768897008449418,
          1.436144578313253,
          1.2611159546643418,
          1.3990051903114187,
          1.3987915407854985,
          1.3975021533161067,
          1.3970777825526428,
          1.4939965694682675,
          1.6631423133854937,
          1.833437715287781,
          1.9307883302296711,
          1.908951091971701,
          2.2704268292682928,
          2.6107585373224538,
          2.794381887877336,
          3.296494369894267,
          null,
          null,
          null,
          null,
          null,
          null,
          null,
          null,
          null
         ],
         "yaxis": "y"
        },
        {
         "connectgaps": false,
         "hovertemplate": "fnid=MG2009A20607<br>indicator=production<br>year=%{x}<br>value=%{y}<extra></extra>",
         "legendgroup": "MG2009A20607",
         "line": {
          "color": "#636efa",
          "dash": "solid"
         },
         "marker": {
          "symbol": "circle"
         },
         "mode": "markers+lines",
         "name": "MG2009A20607",
         "showlegend": true,
         "type": "scattergl",
         "x": [
          1990,
          1991,
          1992,
          1993,
          1994,
          1995,
          1996,
          1997,
          1998,
          1999,
          2000,
          2001,
          2002,
          2003,
          2004,
          2005,
          2006,
          2007,
          2008,
          2009,
          2010,
          2011,
          2012,
          2013,
          2014,
          2015,
          2016,
          2017,
          2018,
          2019,
          2020
         ],
         "xaxis": "x3",
         "y": [
          64935,
          62219,
          66385,
          67590,
          53000,
          50100,
          50045,
          52870,
          41550,
          45765,
          46030,
          46080,
          41475,
          94063,
          101933,
          150443,
          161010,
          159470,
          183390,
          212730,
          217060,
          196300,
          158947,
          139370,
          111496,
          122982.60559662,
          76421.39111774,
          61031.5061738,
          45773.62963035,
          52369.5,
          50536.5675
         ],
         "yaxis": "y3"
        },
        {
         "connectgaps": false,
         "hovertemplate": "fnid=MG2009A20607<br>indicator=area<br>year=%{x}<br>value=%{y}<extra></extra>",
         "legendgroup": "MG2009A20607",
         "line": {
          "color": "#636efa",
          "dash": "solid"
         },
         "marker": {
          "symbol": "circle"
         },
         "mode": "markers+lines",
         "name": "MG2009A20607",
         "showlegend": false,
         "type": "scattergl",
         "x": [
          1990,
          1991,
          1992,
          1993,
          1994,
          1995,
          1996,
          1997,
          1998,
          1999,
          2000,
          2001,
          2002,
          2003,
          2004,
          2005,
          2006,
          2007,
          2008,
          2009,
          2010,
          2011,
          2012,
          2013,
          2014,
          2015,
          2016,
          2017,
          2018,
          2019,
          2020
         ],
         "xaxis": "x2",
         "y": [
          32510,
          32258,
          33053,
          34604,
          30370,
          25630,
          32405,
          33740,
          34230,
          34170,
          34185,
          34200,
          34215,
          34230,
          34830,
          39791,
          40150,
          40520,
          40980,
          41345,
          41754,
          46542,
          null,
          null,
          null,
          null,
          null,
          null,
          null,
          null,
          null
         ],
         "yaxis": "y2"
        },
        {
         "connectgaps": false,
         "hovertemplate": "fnid=MG2009A20607<br>indicator=yield<br>year=%{x}<br>value=%{y}<extra></extra>",
         "legendgroup": "MG2009A20607",
         "line": {
          "color": "#636efa",
          "dash": "solid"
         },
         "marker": {
          "symbol": "circle"
         },
         "mode": "markers+lines",
         "name": "MG2009A20607",
         "showlegend": false,
         "type": "scattergl",
         "x": [
          1990,
          1991,
          1992,
          1993,
          1994,
          1995,
          1996,
          1997,
          1998,
          1999,
          2000,
          2001,
          2002,
          2003,
          2004,
          2005,
          2006,
          2007,
          2008,
          2009,
          2010,
          2011,
          2012,
          2013,
          2014,
          2015,
          2016,
          2017,
          2018,
          2019,
          2020
         ],
         "xaxis": "x",
         "y": [
          1.997385419870809,
          1.9287928575857152,
          2.008440988715094,
          1.9532423997225754,
          1.7451432334540664,
          1.9547405384315255,
          1.5443604382039808,
          1.566982809721399,
          1.2138475021910604,
          1.339332748024583,
          1.3464970016088929,
          1.3473684210526315,
          1.2121876370013152,
          2.7479696172947707,
          2.9265862761986794,
          3.7808298358925385,
          4.010211706102117,
          3.9355873642645607,
          4.47510980966325,
          5.145241262546862,
          5.198543852086027,
          4.217695844613467,
          null,
          null,
          null,
          null,
          null,
          null,
          null,
          null,
          null
         ],
         "yaxis": "y"
        },
        {
         "connectgaps": false,
         "hovertemplate": "fnid=MG2009A20618<br>indicator=production<br>year=%{x}<br>value=%{y}<extra></extra>",
         "legendgroup": "MG2009A20618",
         "line": {
          "color": "#EF553B",
          "dash": "solid"
         },
         "marker": {
          "symbol": "circle"
         },
         "mode": "markers+lines",
         "name": "MG2009A20618",
         "showlegend": true,
         "type": "scattergl",
         "x": [
          1990,
          1991,
          1992,
          1993,
          1994,
          1995,
          1996,
          1997,
          1998,
          1999,
          2000,
          2001,
          2002,
          2003,
          2004,
          2005,
          2006,
          2007,
          2008,
          2009,
          2010,
          2011,
          2012,
          2013,
          2014,
          2015,
          2016,
          2017,
          2018,
          2019,
          2020
         ],
         "xaxis": "x3",
         "y": [
          65400,
          68035,
          63400,
          68203,
          73900,
          69815,
          78625,
          84790,
          66815,
          67730,
          69480,
          68520,
          65580,
          61750,
          66700,
          85618,
          88100,
          90750,
          104370,
          121070,
          129330,
          139120,
          149736,
          108211,
          86274,
          61112.97155075,
          60159.60919456,
          45088.98939946,
          30000,
          31344,
          31345.09
         ],
         "yaxis": "y3"
        },
        {
         "connectgaps": false,
         "hovertemplate": "fnid=MG2009A20618<br>indicator=area<br>year=%{x}<br>value=%{y}<extra></extra>",
         "legendgroup": "MG2009A20618",
         "line": {
          "color": "#EF553B",
          "dash": "solid"
         },
         "marker": {
          "symbol": "circle"
         },
         "mode": "markers+lines",
         "name": "MG2009A20618",
         "showlegend": false,
         "type": "scattergl",
         "x": [
          1990,
          1991,
          1992,
          1993,
          1994,
          1995,
          1996,
          1997,
          1998,
          1999,
          2000,
          2001,
          2002,
          2003,
          2004,
          2005,
          2006,
          2007,
          2008,
          2009,
          2010,
          2011,
          2012,
          2013,
          2014,
          2015,
          2016,
          2017,
          2018,
          2019,
          2020
         ],
         "xaxis": "x2",
         "y": [
          31445,
          31117,
          31944,
          33644,
          34260,
          28895,
          36550,
          37535,
          37545,
          38010,
          38175,
          38340,
          38505,
          38650,
          39175,
          65918,
          66510,
          67110,
          67720,
          68330,
          68957,
          72911,
          null,
          null,
          null,
          null,
          null,
          null,
          null,
          null,
          null
         ],
         "yaxis": "y2"
        },
        {
         "connectgaps": false,
         "hovertemplate": "fnid=MG2009A20618<br>indicator=yield<br>year=%{x}<br>value=%{y}<extra></extra>",
         "legendgroup": "MG2009A20618",
         "line": {
          "color": "#EF553B",
          "dash": "solid"
         },
         "marker": {
          "symbol": "circle"
         },
         "mode": "markers+lines",
         "name": "MG2009A20618",
         "showlegend": false,
         "type": "scattergl",
         "x": [
          1990,
          1991,
          1992,
          1993,
          1994,
          1995,
          1996,
          1997,
          1998,
          1999,
          2000,
          2001,
          2002,
          2003,
          2004,
          2005,
          2006,
          2007,
          2008,
          2009,
          2010,
          2011,
          2012,
          2013,
          2014,
          2015,
          2016,
          2017,
          2018,
          2019,
          2020
         ],
         "xaxis": "x",
         "y": [
          2.0798219112736525,
          2.1864254266156764,
          1.9847232657150014,
          2.0271965283557245,
          2.1570344424985404,
          2.416161965738017,
          2.1511627906976742,
          2.2589583055814573,
          1.7795978159541883,
          1.7818995001315443,
          1.8200392927308449,
          1.7871674491392802,
          1.7031554343591742,
          1.5976714100905562,
          1.7026164645820039,
          1.2988561546163415,
          1.32461284017441,
          1.3522574877067501,
          1.5411990549320733,
          1.771842528903849,
          1.8755166263033485,
          1.9080797136234586,
          null,
          null,
          null,
          null,
          null,
          null,
          null,
          null,
          null
         ],
         "yaxis": "y"
        }
       ],
       "layout": {
        "annotations": [
         {
          "showarrow": false,
          "text": "",
          "textangle": 90,
          "x": 0.98,
          "xanchor": "left",
          "xref": "paper",
          "y": 0.16333333333333333,
          "yanchor": "middle",
          "yref": "paper"
         },
         {
          "showarrow": false,
          "text": "",
          "textangle": 90,
          "x": 0.98,
          "xanchor": "left",
          "xref": "paper",
          "y": 0.5,
          "yanchor": "middle",
          "yref": "paper"
         },
         {
          "showarrow": false,
          "text": "",
          "textangle": 90,
          "x": 0.98,
          "xanchor": "left",
          "xref": "paper",
          "y": 0.8366666666666667,
          "yanchor": "middle",
          "yref": "paper"
         },
         {
          "align": "left",
          "font": {
           "color": "dimgrey",
           "family": "arial",
           "size": 15
          },
          "showarrow": false,
          "text": "Production-Area-Yield (PAY) time-series of MG - Rice - Annual",
          "x": -0.014,
          "xref": "paper",
          "y": -0.14,
          "yref": "paper"
         }
        ],
        "font": {
         "color": "black",
         "family": "arial",
         "size": 16
        },
        "height": 600,
        "legend": {
         "font": {
          "size": 14
         },
         "title": {
          "text": "FNID"
         },
         "tracegroupgap": 0,
         "x": 1,
         "xanchor": "left",
         "y": 1,
         "yanchor": "top"
        },
        "margin": {
         "b": 25,
         "l": 0,
         "r": 0,
         "t": 0
        },
        "template": {
         "data": {
          "bar": [
           {
            "error_x": {
             "color": "#2a3f5f"
            },
            "error_y": {
             "color": "#2a3f5f"
            },
            "marker": {
             "line": {
              "color": "#E5ECF6",
              "width": 0.5
             },
             "pattern": {
              "fillmode": "overlay",
              "size": 10,
              "solidity": 0.2
             }
            },
            "type": "bar"
           }
          ],
          "barpolar": [
           {
            "marker": {
             "line": {
              "color": "#E5ECF6",
              "width": 0.5
             },
             "pattern": {
              "fillmode": "overlay",
              "size": 10,
              "solidity": 0.2
             }
            },
            "type": "barpolar"
           }
          ],
          "carpet": [
           {
            "aaxis": {
             "endlinecolor": "#2a3f5f",
             "gridcolor": "white",
             "linecolor": "white",
             "minorgridcolor": "white",
             "startlinecolor": "#2a3f5f"
            },
            "baxis": {
             "endlinecolor": "#2a3f5f",
             "gridcolor": "white",
             "linecolor": "white",
             "minorgridcolor": "white",
             "startlinecolor": "#2a3f5f"
            },
            "type": "carpet"
           }
          ],
          "choropleth": [
           {
            "colorbar": {
             "outlinewidth": 0,
             "ticks": ""
            },
            "type": "choropleth"
           }
          ],
          "contour": [
           {
            "colorbar": {
             "outlinewidth": 0,
             "ticks": ""
            },
            "colorscale": [
             [
              0,
              "#0d0887"
             ],
             [
              0.1111111111111111,
              "#46039f"
             ],
             [
              0.2222222222222222,
              "#7201a8"
             ],
             [
              0.3333333333333333,
              "#9c179e"
             ],
             [
              0.4444444444444444,
              "#bd3786"
             ],
             [
              0.5555555555555556,
              "#d8576b"
             ],
             [
              0.6666666666666666,
              "#ed7953"
             ],
             [
              0.7777777777777778,
              "#fb9f3a"
             ],
             [
              0.8888888888888888,
              "#fdca26"
             ],
             [
              1,
              "#f0f921"
             ]
            ],
            "type": "contour"
           }
          ],
          "contourcarpet": [
           {
            "colorbar": {
             "outlinewidth": 0,
             "ticks": ""
            },
            "type": "contourcarpet"
           }
          ],
          "heatmap": [
           {
            "colorbar": {
             "outlinewidth": 0,
             "ticks": ""
            },
            "colorscale": [
             [
              0,
              "#0d0887"
             ],
             [
              0.1111111111111111,
              "#46039f"
             ],
             [
              0.2222222222222222,
              "#7201a8"
             ],
             [
              0.3333333333333333,
              "#9c179e"
             ],
             [
              0.4444444444444444,
              "#bd3786"
             ],
             [
              0.5555555555555556,
              "#d8576b"
             ],
             [
              0.6666666666666666,
              "#ed7953"
             ],
             [
              0.7777777777777778,
              "#fb9f3a"
             ],
             [
              0.8888888888888888,
              "#fdca26"
             ],
             [
              1,
              "#f0f921"
             ]
            ],
            "type": "heatmap"
           }
          ],
          "heatmapgl": [
           {
            "colorbar": {
             "outlinewidth": 0,
             "ticks": ""
            },
            "colorscale": [
             [
              0,
              "#0d0887"
             ],
             [
              0.1111111111111111,
              "#46039f"
             ],
             [
              0.2222222222222222,
              "#7201a8"
             ],
             [
              0.3333333333333333,
              "#9c179e"
             ],
             [
              0.4444444444444444,
              "#bd3786"
             ],
             [
              0.5555555555555556,
              "#d8576b"
             ],
             [
              0.6666666666666666,
              "#ed7953"
             ],
             [
              0.7777777777777778,
              "#fb9f3a"
             ],
             [
              0.8888888888888888,
              "#fdca26"
             ],
             [
              1,
              "#f0f921"
             ]
            ],
            "type": "heatmapgl"
           }
          ],
          "histogram": [
           {
            "marker": {
             "pattern": {
              "fillmode": "overlay",
              "size": 10,
              "solidity": 0.2
             }
            },
            "type": "histogram"
           }
          ],
          "histogram2d": [
           {
            "colorbar": {
             "outlinewidth": 0,
             "ticks": ""
            },
            "colorscale": [
             [
              0,
              "#0d0887"
             ],
             [
              0.1111111111111111,
              "#46039f"
             ],
             [
              0.2222222222222222,
              "#7201a8"
             ],
             [
              0.3333333333333333,
              "#9c179e"
             ],
             [
              0.4444444444444444,
              "#bd3786"
             ],
             [
              0.5555555555555556,
              "#d8576b"
             ],
             [
              0.6666666666666666,
              "#ed7953"
             ],
             [
              0.7777777777777778,
              "#fb9f3a"
             ],
             [
              0.8888888888888888,
              "#fdca26"
             ],
             [
              1,
              "#f0f921"
             ]
            ],
            "type": "histogram2d"
           }
          ],
          "histogram2dcontour": [
           {
            "colorbar": {
             "outlinewidth": 0,
             "ticks": ""
            },
            "colorscale": [
             [
              0,
              "#0d0887"
             ],
             [
              0.1111111111111111,
              "#46039f"
             ],
             [
              0.2222222222222222,
              "#7201a8"
             ],
             [
              0.3333333333333333,
              "#9c179e"
             ],
             [
              0.4444444444444444,
              "#bd3786"
             ],
             [
              0.5555555555555556,
              "#d8576b"
             ],
             [
              0.6666666666666666,
              "#ed7953"
             ],
             [
              0.7777777777777778,
              "#fb9f3a"
             ],
             [
              0.8888888888888888,
              "#fdca26"
             ],
             [
              1,
              "#f0f921"
             ]
            ],
            "type": "histogram2dcontour"
           }
          ],
          "mesh3d": [
           {
            "colorbar": {
             "outlinewidth": 0,
             "ticks": ""
            },
            "type": "mesh3d"
           }
          ],
          "parcoords": [
           {
            "line": {
             "colorbar": {
              "outlinewidth": 0,
              "ticks": ""
             }
            },
            "type": "parcoords"
           }
          ],
          "pie": [
           {
            "automargin": true,
            "type": "pie"
           }
          ],
          "scatter": [
           {
            "fillpattern": {
             "fillmode": "overlay",
             "size": 10,
             "solidity": 0.2
            },
            "type": "scatter"
           }
          ],
          "scatter3d": [
           {
            "line": {
             "colorbar": {
              "outlinewidth": 0,
              "ticks": ""
             }
            },
            "marker": {
             "colorbar": {
              "outlinewidth": 0,
              "ticks": ""
             }
            },
            "type": "scatter3d"
           }
          ],
          "scattercarpet": [
           {
            "marker": {
             "colorbar": {
              "outlinewidth": 0,
              "ticks": ""
             }
            },
            "type": "scattercarpet"
           }
          ],
          "scattergeo": [
           {
            "marker": {
             "colorbar": {
              "outlinewidth": 0,
              "ticks": ""
             }
            },
            "type": "scattergeo"
           }
          ],
          "scattergl": [
           {
            "marker": {
             "colorbar": {
              "outlinewidth": 0,
              "ticks": ""
             }
            },
            "type": "scattergl"
           }
          ],
          "scattermapbox": [
           {
            "marker": {
             "colorbar": {
              "outlinewidth": 0,
              "ticks": ""
             }
            },
            "type": "scattermapbox"
           }
          ],
          "scatterpolar": [
           {
            "marker": {
             "colorbar": {
              "outlinewidth": 0,
              "ticks": ""
             }
            },
            "type": "scatterpolar"
           }
          ],
          "scatterpolargl": [
           {
            "marker": {
             "colorbar": {
              "outlinewidth": 0,
              "ticks": ""
             }
            },
            "type": "scatterpolargl"
           }
          ],
          "scatterternary": [
           {
            "marker": {
             "colorbar": {
              "outlinewidth": 0,
              "ticks": ""
             }
            },
            "type": "scatterternary"
           }
          ],
          "surface": [
           {
            "colorbar": {
             "outlinewidth": 0,
             "ticks": ""
            },
            "colorscale": [
             [
              0,
              "#0d0887"
             ],
             [
              0.1111111111111111,
              "#46039f"
             ],
             [
              0.2222222222222222,
              "#7201a8"
             ],
             [
              0.3333333333333333,
              "#9c179e"
             ],
             [
              0.4444444444444444,
              "#bd3786"
             ],
             [
              0.5555555555555556,
              "#d8576b"
             ],
             [
              0.6666666666666666,
              "#ed7953"
             ],
             [
              0.7777777777777778,
              "#fb9f3a"
             ],
             [
              0.8888888888888888,
              "#fdca26"
             ],
             [
              1,
              "#f0f921"
             ]
            ],
            "type": "surface"
           }
          ],
          "table": [
           {
            "cells": {
             "fill": {
              "color": "#EBF0F8"
             },
             "line": {
              "color": "white"
             }
            },
            "header": {
             "fill": {
              "color": "#C8D4E3"
             },
             "line": {
              "color": "white"
             }
            },
            "type": "table"
           }
          ]
         },
         "layout": {
          "annotationdefaults": {
           "arrowcolor": "#2a3f5f",
           "arrowhead": 0,
           "arrowwidth": 1
          },
          "autotypenumbers": "strict",
          "coloraxis": {
           "colorbar": {
            "outlinewidth": 0,
            "ticks": ""
           }
          },
          "colorscale": {
           "diverging": [
            [
             0,
             "#8e0152"
            ],
            [
             0.1,
             "#c51b7d"
            ],
            [
             0.2,
             "#de77ae"
            ],
            [
             0.3,
             "#f1b6da"
            ],
            [
             0.4,
             "#fde0ef"
            ],
            [
             0.5,
             "#f7f7f7"
            ],
            [
             0.6,
             "#e6f5d0"
            ],
            [
             0.7,
             "#b8e186"
            ],
            [
             0.8,
             "#7fbc41"
            ],
            [
             0.9,
             "#4d9221"
            ],
            [
             1,
             "#276419"
            ]
           ],
           "sequential": [
            [
             0,
             "#0d0887"
            ],
            [
             0.1111111111111111,
             "#46039f"
            ],
            [
             0.2222222222222222,
             "#7201a8"
            ],
            [
             0.3333333333333333,
             "#9c179e"
            ],
            [
             0.4444444444444444,
             "#bd3786"
            ],
            [
             0.5555555555555556,
             "#d8576b"
            ],
            [
             0.6666666666666666,
             "#ed7953"
            ],
            [
             0.7777777777777778,
             "#fb9f3a"
            ],
            [
             0.8888888888888888,
             "#fdca26"
            ],
            [
             1,
             "#f0f921"
            ]
           ],
           "sequentialminus": [
            [
             0,
             "#0d0887"
            ],
            [
             0.1111111111111111,
             "#46039f"
            ],
            [
             0.2222222222222222,
             "#7201a8"
            ],
            [
             0.3333333333333333,
             "#9c179e"
            ],
            [
             0.4444444444444444,
             "#bd3786"
            ],
            [
             0.5555555555555556,
             "#d8576b"
            ],
            [
             0.6666666666666666,
             "#ed7953"
            ],
            [
             0.7777777777777778,
             "#fb9f3a"
            ],
            [
             0.8888888888888888,
             "#fdca26"
            ],
            [
             1,
             "#f0f921"
            ]
           ]
          },
          "colorway": [
           "#636efa",
           "#EF553B",
           "#00cc96",
           "#ab63fa",
           "#FFA15A",
           "#19d3f3",
           "#FF6692",
           "#B6E880",
           "#FF97FF",
           "#FECB52"
          ],
          "font": {
           "color": "#2a3f5f"
          },
          "geo": {
           "bgcolor": "white",
           "lakecolor": "white",
           "landcolor": "#E5ECF6",
           "showlakes": true,
           "showland": true,
           "subunitcolor": "white"
          },
          "hoverlabel": {
           "align": "left"
          },
          "hovermode": "closest",
          "mapbox": {
           "style": "light"
          },
          "paper_bgcolor": "white",
          "plot_bgcolor": "#E5ECF6",
          "polar": {
           "angularaxis": {
            "gridcolor": "white",
            "linecolor": "white",
            "ticks": ""
           },
           "bgcolor": "#E5ECF6",
           "radialaxis": {
            "gridcolor": "white",
            "linecolor": "white",
            "ticks": ""
           }
          },
          "scene": {
           "xaxis": {
            "backgroundcolor": "#E5ECF6",
            "gridcolor": "white",
            "gridwidth": 2,
            "linecolor": "white",
            "showbackground": true,
            "ticks": "",
            "zerolinecolor": "white"
           },
           "yaxis": {
            "backgroundcolor": "#E5ECF6",
            "gridcolor": "white",
            "gridwidth": 2,
            "linecolor": "white",
            "showbackground": true,
            "ticks": "",
            "zerolinecolor": "white"
           },
           "zaxis": {
            "backgroundcolor": "#E5ECF6",
            "gridcolor": "white",
            "gridwidth": 2,
            "linecolor": "white",
            "showbackground": true,
            "ticks": "",
            "zerolinecolor": "white"
           }
          },
          "shapedefaults": {
           "line": {
            "color": "#2a3f5f"
           }
          },
          "ternary": {
           "aaxis": {
            "gridcolor": "white",
            "linecolor": "white",
            "ticks": ""
           },
           "baxis": {
            "gridcolor": "white",
            "linecolor": "white",
            "ticks": ""
           },
           "bgcolor": "#E5ECF6",
           "caxis": {
            "gridcolor": "white",
            "linecolor": "white",
            "ticks": ""
           }
          },
          "title": {
           "x": 0.05
          },
          "xaxis": {
           "automargin": true,
           "gridcolor": "white",
           "linecolor": "white",
           "ticks": "",
           "title": {
            "standoff": 15
           },
           "zerolinecolor": "white",
           "zerolinewidth": 2
          },
          "yaxis": {
           "automargin": true,
           "gridcolor": "white",
           "linecolor": "white",
           "ticks": "",
           "title": {
            "standoff": 15
           },
           "zerolinecolor": "white",
           "zerolinewidth": 2
          }
         }
        },
        "width": 900,
        "xaxis": {
         "anchor": "y",
         "domain": [
          0,
          0.98
         ],
         "dtick": 1,
         "range": [
          1990,
          2020
         ],
         "title": {
          "text": ""
         }
        },
        "xaxis2": {
         "anchor": "y2",
         "domain": [
          0,
          0.98
         ],
         "dtick": 1,
         "matches": "x",
         "showticklabels": false
        },
        "xaxis3": {
         "anchor": "y3",
         "domain": [
          0,
          0.98
         ],
         "dtick": 1,
         "matches": "x",
         "showticklabels": false
        },
        "yaxis": {
         "anchor": "x",
         "domain": [
          0,
          0.32666666666666666
         ],
         "title": {
          "text": "Yield (mt/ha)"
         }
        },
        "yaxis2": {
         "anchor": "x2",
         "domain": [
          0.33666666666666667,
          0.6633333333333333
         ],
         "title": {
          "text": "Area (ha)"
         }
        },
        "yaxis3": {
         "anchor": "x3",
         "domain": [
          0.6733333333333333,
          1
         ],
         "title": {
          "text": "Production (mt)"
         }
        }
       }
      }
     },
     "metadata": {},
     "output_type": "display_data"
    },
    {
     "name": "stdout",
     "output_type": "stream",
     "text": [
      "../figures/MG_line_pay_Maize_Annual.png is saved.\n"
     ]
    },
    {
     "data": {
      "application/vnd.plotly.v1+json": {
       "config": {
        "plotlyServerURL": "https://plot.ly"
       },
       "data": [
        {
         "connectgaps": false,
         "hovertemplate": "fnid=MG2009A20103<br>indicator=production<br>year=%{x}<br>value=%{y}<extra></extra>",
         "legendgroup": "MG2009A20103",
         "line": {
          "color": "#636efa",
          "dash": "solid"
         },
         "marker": {
          "symbol": "circle"
         },
         "mode": "markers+lines",
         "name": "MG2009A20103",
         "showlegend": true,
         "type": "scattergl",
         "x": [
          1990,
          1991,
          1992,
          1993,
          1994,
          1995,
          1996,
          1997,
          1998,
          1999,
          2000,
          2001,
          2002,
          2003,
          2004,
          2005,
          2006,
          2007,
          2008,
          2009,
          2010,
          2011,
          2012,
          2013,
          2014,
          2015,
          2016,
          2017,
          2018,
          2019,
          2020
         ],
         "xaxis": "x3",
         "y": [
          4427,
          4559,
          3937,
          5000,
          4700,
          5370,
          5440,
          5405,
          4700,
          5250,
          5435,
          5750,
          6324,
          4399,
          4120,
          5801,
          6188,
          6528,
          8236,
          7382,
          7015,
          null,
          8536.38084497,
          9133.92750411,
          9104.71748863,
          9593.53988604,
          9607.68024012,
          7301.83698249,
          9195.24919277,
          9200,
          11684
         ],
         "yaxis": "y3"
        },
        {
         "connectgaps": false,
         "hovertemplate": "fnid=MG2009A20103<br>indicator=area<br>year=%{x}<br>value=%{y}<extra></extra>",
         "legendgroup": "MG2009A20103",
         "line": {
          "color": "#636efa",
          "dash": "solid"
         },
         "marker": {
          "symbol": "circle"
         },
         "mode": "markers+lines",
         "name": "MG2009A20103",
         "showlegend": false,
         "type": "scattergl",
         "x": [
          1990,
          1991,
          1992,
          1993,
          1994,
          1995,
          1996,
          1997,
          1998,
          1999,
          2000,
          2001,
          2002,
          2003,
          2004,
          2005,
          2006,
          2007,
          2008,
          2009,
          2010,
          2011,
          2012,
          2013,
          2014,
          2015,
          2016,
          2017,
          2018,
          2019,
          2020
         ],
         "xaxis": "x2",
         "y": [
          4941,
          4528,
          4906,
          5630,
          4990,
          5595,
          5885,
          5785,
          5650,
          5925,
          5935,
          5945,
          null,
          null,
          null,
          3741,
          3770,
          3810,
          3840,
          3874,
          3907,
          null,
          null,
          null,
          null,
          null,
          null,
          null,
          null,
          null,
          null
         ],
         "yaxis": "y2"
        },
        {
         "connectgaps": false,
         "hovertemplate": "fnid=MG2009A20103<br>indicator=yield<br>year=%{x}<br>value=%{y}<extra></extra>",
         "legendgroup": "MG2009A20103",
         "line": {
          "color": "#636efa",
          "dash": "solid"
         },
         "marker": {
          "symbol": "circle"
         },
         "mode": "markers+lines",
         "name": "MG2009A20103",
         "showlegend": false,
         "type": "scattergl",
         "x": [
          1990,
          1991,
          1992,
          1993,
          1994,
          1995,
          1996,
          1997,
          1998,
          1999,
          2000,
          2001,
          2002,
          2003,
          2004,
          2005,
          2006,
          2007,
          2008,
          2009,
          2010,
          2011,
          2012,
          2013,
          2014,
          2015,
          2016,
          2017,
          2018,
          2019,
          2020
         ],
         "xaxis": "x",
         "y": [
          0.8959724752074479,
          1.0068462897526502,
          0.8024867509172442,
          0.8880994671403197,
          0.9418837675350702,
          0.9597855227882037,
          0.9243840271877655,
          0.9343128781331028,
          0.831858407079646,
          0.8860759493670886,
          0.9157540016849199,
          0.9671993271656855,
          null,
          null,
          null,
          1.5506549051055867,
          1.6413793103448275,
          1.7133858267716535,
          2.144791666666667,
          1.905524006195147,
          1.7954952649091374,
          null,
          null,
          null,
          null,
          null,
          null,
          null,
          null,
          null,
          null
         ],
         "yaxis": "y"
        },
        {
         "connectgaps": false,
         "hovertemplate": "fnid=MG2009A20112<br>indicator=production<br>year=%{x}<br>value=%{y}<extra></extra>",
         "legendgroup": "MG2009A20112",
         "line": {
          "color": "#EF553B",
          "dash": "solid"
         },
         "marker": {
          "symbol": "circle"
         },
         "mode": "markers+lines",
         "name": "MG2009A20112",
         "showlegend": true,
         "type": "scattergl",
         "x": [
          1990,
          1991,
          1992,
          1993,
          1994,
          1995,
          1996,
          1997,
          1998,
          1999,
          2000,
          2001,
          2002,
          2003,
          2004,
          2005,
          2006,
          2007,
          2008,
          2009,
          2010,
          2011,
          2012,
          2013,
          2014,
          2015,
          2016,
          2017,
          2018,
          2019,
          2020
         ],
         "xaxis": "x3",
         "y": [
          15676,
          15645,
          13648,
          17330,
          16280,
          18585,
          18850,
          18715,
          16280,
          11530,
          12085,
          13620,
          12975,
          16765,
          15930,
          14779,
          14870,
          17440,
          20980,
          15785,
          15785,
          null,
          22006.79915902,
          27508.49894878,
          23894.03398623,
          15016.73162562,
          12020.7540107,
          18031.13101605,
          15000,
          15500,
          17050
         ],
         "yaxis": "y3"
        },
        {
         "connectgaps": false,
         "hovertemplate": "fnid=MG2009A20112<br>indicator=area<br>year=%{x}<br>value=%{y}<extra></extra>",
         "legendgroup": "MG2009A20112",
         "line": {
          "color": "#EF553B",
          "dash": "solid"
         },
         "marker": {
          "symbol": "circle"
         },
         "mode": "markers+lines",
         "name": "MG2009A20112",
         "showlegend": false,
         "type": "scattergl",
         "x": [
          1990,
          1991,
          1992,
          1993,
          1994,
          1995,
          1996,
          1997,
          1998,
          1999,
          2000,
          2001,
          2002,
          2003,
          2004,
          2005,
          2006,
          2007,
          2008,
          2009,
          2010,
          2011,
          2012,
          2013,
          2014,
          2015,
          2016,
          2017,
          2018,
          2019,
          2020
         ],
         "xaxis": "x2",
         "y": [
          10224,
          9373,
          10161,
          11685,
          10440,
          11685,
          12310,
          12085,
          11825,
          12080,
          12115,
          12150,
          null,
          null,
          null,
          10635,
          10730,
          10825,
          10930,
          11030,
          11131,
          null,
          null,
          null,
          null,
          null,
          null,
          null,
          null,
          null,
          null
         ],
         "yaxis": "y2"
        },
        {
         "connectgaps": false,
         "hovertemplate": "fnid=MG2009A20112<br>indicator=yield<br>year=%{x}<br>value=%{y}<extra></extra>",
         "legendgroup": "MG2009A20112",
         "line": {
          "color": "#EF553B",
          "dash": "solid"
         },
         "marker": {
          "symbol": "circle"
         },
         "mode": "markers+lines",
         "name": "MG2009A20112",
         "showlegend": false,
         "type": "scattergl",
         "x": [
          1990,
          1991,
          1992,
          1993,
          1994,
          1995,
          1996,
          1997,
          1998,
          1999,
          2000,
          2001,
          2002,
          2003,
          2004,
          2005,
          2006,
          2007,
          2008,
          2009,
          2010,
          2011,
          2012,
          2013,
          2014,
          2015,
          2016,
          2017,
          2018,
          2019,
          2020
         ],
         "xaxis": "x",
         "y": [
          1.5332550860719876,
          1.6691560866318147,
          1.3431748843617755,
          1.4830979888746256,
          1.5593869731800767,
          1.5905006418485237,
          1.5312753858651502,
          1.5486139842780307,
          1.3767441860465117,
          0.9544701986754967,
          0.9975237309120925,
          1.1209876543209876,
          null,
          null,
          null,
          1.3896567936060178,
          1.385834109972041,
          1.6110854503464203,
          1.919487648673376,
          1.4310970081595649,
          1.4181115802713145,
          null,
          null,
          null,
          null,
          null,
          null,
          null,
          null,
          null,
          null
         ],
         "yaxis": "y"
        },
        {
         "connectgaps": false,
         "hovertemplate": "fnid=MG2009A20116<br>indicator=production<br>year=%{x}<br>value=%{y}<extra></extra>",
         "legendgroup": "MG2009A20116",
         "line": {
          "color": "#00cc96",
          "dash": "solid"
         },
         "marker": {
          "symbol": "circle"
         },
         "mode": "markers+lines",
         "name": "MG2009A20116",
         "showlegend": true,
         "type": "scattergl",
         "x": [
          1990,
          1991,
          1992,
          1993,
          1994,
          1995,
          1996,
          1997,
          1998,
          1999,
          2000,
          2001,
          2002,
          2003,
          2004,
          2005,
          2006,
          2007,
          2008,
          2009,
          2010,
          2011,
          2012,
          2013,
          2014,
          2015,
          2016,
          2017,
          2018,
          2019,
          2020
         ],
         "xaxis": "x3",
         "y": [
          19860,
          19319,
          17037,
          21625,
          20315,
          23205,
          23525,
          23345,
          20315,
          15810,
          16505,
          19410,
          18465,
          71689,
          68100,
          43748,
          44010,
          51620,
          62110,
          45010,
          45010,
          null,
          52990.05827694,
          57229.2629391,
          60092.68021409,
          50217.53775168,
          51187.16257718,
          54842.75521723,
          34000,
          30000,
          26700
         ],
         "yaxis": "y3"
        },
        {
         "connectgaps": false,
         "hovertemplate": "fnid=MG2009A20116<br>indicator=area<br>year=%{x}<br>value=%{y}<extra></extra>",
         "legendgroup": "MG2009A20116",
         "line": {
          "color": "#00cc96",
          "dash": "solid"
         },
         "marker": {
          "symbol": "circle"
         },
         "mode": "markers+lines",
         "name": "MG2009A20116",
         "showlegend": false,
         "type": "scattergl",
         "x": [
          1990,
          1991,
          1992,
          1993,
          1994,
          1995,
          1996,
          1997,
          1998,
          1999,
          2000,
          2001,
          2002,
          2003,
          2004,
          2005,
          2006,
          2007,
          2008,
          2009,
          2010,
          2011,
          2012,
          2013,
          2014,
          2015,
          2016,
          2017,
          2018,
          2019,
          2020
         ],
         "xaxis": "x2",
         "y": [
          13167,
          12078,
          13092,
          15050,
          13435,
          15025,
          15820,
          15535,
          15200,
          15750,
          15770,
          15790,
          null,
          null,
          null,
          15058,
          15190,
          15325,
          15470,
          15609,
          15751,
          null,
          null,
          null,
          null,
          null,
          null,
          null,
          null,
          null,
          null
         ],
         "yaxis": "y2"
        },
        {
         "connectgaps": false,
         "hovertemplate": "fnid=MG2009A20116<br>indicator=yield<br>year=%{x}<br>value=%{y}<extra></extra>",
         "legendgroup": "MG2009A20116",
         "line": {
          "color": "#00cc96",
          "dash": "solid"
         },
         "marker": {
          "symbol": "circle"
         },
         "mode": "markers+lines",
         "name": "MG2009A20116",
         "showlegend": false,
         "type": "scattergl",
         "x": [
          1990,
          1991,
          1992,
          1993,
          1994,
          1995,
          1996,
          1997,
          1998,
          1999,
          2000,
          2001,
          2002,
          2003,
          2004,
          2005,
          2006,
          2007,
          2008,
          2009,
          2010,
          2011,
          2012,
          2013,
          2014,
          2015,
          2016,
          2017,
          2018,
          2019,
          2020
         ],
         "xaxis": "x",
         "y": [
          1.5083162451583505,
          1.599519788044378,
          1.3013290559120074,
          1.43687707641196,
          1.5120952735392632,
          1.5444259567387688,
          1.4870417193426042,
          1.5027357579658835,
          1.336513157894737,
          1.0038095238095237,
          1.0466074825618263,
          1.2292590246991766,
          null,
          null,
          null,
          2.9052995085668747,
          2.8973008558262014,
          3.368352365415987,
          4.014867485455721,
          2.8835927990262027,
          2.8575963430893276,
          null,
          null,
          null,
          null,
          null,
          null,
          null,
          null,
          null,
          null
         ],
         "yaxis": "y"
        },
        {
         "connectgaps": false,
         "hovertemplate": "fnid=MG2009A20121<br>indicator=production<br>year=%{x}<br>value=%{y}<extra></extra>",
         "legendgroup": "MG2009A20121",
         "line": {
          "color": "#ab63fa",
          "dash": "solid"
         },
         "marker": {
          "symbol": "circle"
         },
         "mode": "markers+lines",
         "name": "MG2009A20121",
         "showlegend": true,
         "type": "scattergl",
         "x": [
          1990,
          1991,
          1992,
          1993,
          1994,
          1995,
          1996,
          1997,
          1998,
          1999,
          2000,
          2001,
          2002,
          2003,
          2004,
          2005,
          2006,
          2007,
          2008,
          2009,
          2010,
          2011,
          2012,
          2013,
          2014,
          2015,
          2016,
          2017,
          2018,
          2019,
          2020
         ],
         "xaxis": "x3",
         "y": [
          44344,
          42490,
          37718,
          47855,
          44950,
          51330,
          52060,
          51665,
          44950,
          42545,
          43590,
          45990,
          41435,
          41081,
          39040,
          78033,
          78060,
          92080,
          110780,
          77137,
          81340,
          null,
          64906.70378345,
          77888.04454014,
          78601.54598766,
          63665.41446147,
          76911.79975786,
          66837.26154882,
          30000,
          35000,
          40950
         ],
         "yaxis": "y3"
        },
        {
         "connectgaps": false,
         "hovertemplate": "fnid=MG2009A20121<br>indicator=area<br>year=%{x}<br>value=%{y}<extra></extra>",
         "legendgroup": "MG2009A20121",
         "line": {
          "color": "#ab63fa",
          "dash": "solid"
         },
         "marker": {
          "symbol": "circle"
         },
         "mode": "markers+lines",
         "name": "MG2009A20121",
         "showlegend": false,
         "type": "scattergl",
         "x": [
          1990,
          1991,
          1992,
          1993,
          1994,
          1995,
          1996,
          1997,
          1998,
          1999,
          2000,
          2001,
          2002,
          2003,
          2004,
          2005,
          2006,
          2007,
          2008,
          2009,
          2010,
          2011,
          2012,
          2013,
          2014,
          2015,
          2016,
          2017,
          2018,
          2019,
          2020
         ],
         "xaxis": "x2",
         "y": [
          53645,
          45424,
          51151,
          58810,
          52465,
          58705,
          61815,
          60705,
          59400,
          60995,
          61055,
          61115,
          null,
          null,
          null,
          33984,
          34280,
          33790,
          34900,
          35211,
          35524,
          null,
          null,
          null,
          null,
          null,
          null,
          null,
          null,
          null,
          null
         ],
         "yaxis": "y2"
        },
        {
         "connectgaps": false,
         "hovertemplate": "fnid=MG2009A20121<br>indicator=yield<br>year=%{x}<br>value=%{y}<extra></extra>",
         "legendgroup": "MG2009A20121",
         "line": {
          "color": "#ab63fa",
          "dash": "solid"
         },
         "marker": {
          "symbol": "circle"
         },
         "mode": "markers+lines",
         "name": "MG2009A20121",
         "showlegend": false,
         "type": "scattergl",
         "x": [
          1990,
          1991,
          1992,
          1993,
          1994,
          1995,
          1996,
          1997,
          1998,
          1999,
          2000,
          2001,
          2002,
          2003,
          2004,
          2005,
          2006,
          2007,
          2008,
          2009,
          2010,
          2011,
          2012,
          2013,
          2014,
          2015,
          2016,
          2017,
          2018,
          2019,
          2020
         ],
         "xaxis": "x",
         "y": [
          0.8266194426321185,
          0.9354085945755548,
          0.7373853883599538,
          0.813722156095902,
          0.8567616506242257,
          0.8743718592964824,
          0.8421904068591766,
          0.8510831068281032,
          0.7567340067340067,
          0.6975161898516272,
          0.7139464417328638,
          0.7525157489977911,
          null,
          null,
          null,
          2.2961687853107344,
          2.277129521586931,
          2.7250665877478544,
          3.174212034383954,
          2.190707449376615,
          2.289719626168224,
          null,
          null,
          null,
          null,
          null,
          null,
          null,
          null,
          null,
          null
         ],
         "yaxis": "y"
        },
        {
         "connectgaps": false,
         "hovertemplate": "fnid=MG2009A20213<br>indicator=production<br>year=%{x}<br>value=%{y}<extra></extra>",
         "legendgroup": "MG2009A20213",
         "line": {
          "color": "#FFA15A",
          "dash": "solid"
         },
         "marker": {
          "symbol": "circle"
         },
         "mode": "markers+lines",
         "name": "MG2009A20213",
         "showlegend": true,
         "type": "scattergl",
         "x": [
          1990,
          1991,
          1992,
          1993,
          1994,
          1995,
          1996,
          1997,
          1998,
          1999,
          2000,
          2001,
          2002,
          2003,
          2004,
          2005,
          2006,
          2007,
          2008,
          2009,
          2010,
          2011,
          2012,
          2013,
          2014,
          2015,
          2016,
          2017,
          2018,
          2019,
          2020
         ],
         "xaxis": "x3",
         "y": [
          1738,
          1078,
          1175,
          1490,
          990,
          1130,
          1175,
          1140,
          990,
          2330,
          2125,
          2160,
          2345,
          3784,
          3780,
          6726,
          6790,
          6940,
          8260,
          7876,
          8663,
          null,
          10126.43036506,
          8891,
          9447.25640752,
          11758.6809,
          12346.614945,
          12346.614945,
          9000,
          8500,
          6290
         ],
         "yaxis": "y3"
        },
        {
         "connectgaps": false,
         "hovertemplate": "fnid=MG2009A20213<br>indicator=area<br>year=%{x}<br>value=%{y}<extra></extra>",
         "legendgroup": "MG2009A20213",
         "line": {
          "color": "#FFA15A",
          "dash": "solid"
         },
         "marker": {
          "symbol": "circle"
         },
         "mode": "markers+lines",
         "name": "MG2009A20213",
         "showlegend": false,
         "type": "scattergl",
         "x": [
          1990,
          1991,
          1992,
          1993,
          1994,
          1995,
          1996,
          1997,
          1998,
          1999,
          2000,
          2001,
          2002,
          2003,
          2004,
          2005,
          2006,
          2007,
          2008,
          2009,
          2010,
          2011,
          2012,
          2013,
          2014,
          2015,
          2016,
          2017,
          2018,
          2019,
          2020
         ],
         "xaxis": "x2",
         "y": [
          2671,
          3370,
          3214,
          3703,
          3295,
          3685,
          3880,
          3810,
          3720,
          3855,
          3925,
          3995,
          null,
          null,
          null,
          3010,
          3040,
          3070,
          3095,
          3125,
          3153,
          null,
          null,
          null,
          null,
          null,
          null,
          null,
          null,
          null,
          null
         ],
         "yaxis": "y2"
        },
        {
         "connectgaps": false,
         "hovertemplate": "fnid=MG2009A20213<br>indicator=yield<br>year=%{x}<br>value=%{y}<extra></extra>",
         "legendgroup": "MG2009A20213",
         "line": {
          "color": "#FFA15A",
          "dash": "solid"
         },
         "marker": {
          "symbol": "circle"
         },
         "mode": "markers+lines",
         "name": "MG2009A20213",
         "showlegend": false,
         "type": "scattergl",
         "x": [
          1990,
          1991,
          1992,
          1993,
          1994,
          1995,
          1996,
          1997,
          1998,
          1999,
          2000,
          2001,
          2002,
          2003,
          2004,
          2005,
          2006,
          2007,
          2008,
          2009,
          2010,
          2011,
          2012,
          2013,
          2014,
          2015,
          2016,
          2017,
          2018,
          2019,
          2020
         ],
         "xaxis": "x",
         "y": [
          0.6506926244852115,
          0.31988130563798217,
          0.365588052271313,
          0.4023764515257899,
          0.30045523520485584,
          0.3066485753052917,
          0.30283505154639173,
          0.2992125984251969,
          0.2661290322580645,
          0.6044098573281452,
          0.5414012738853503,
          0.5406758448060075,
          null,
          null,
          null,
          2.2345514950166114,
          2.2335526315789473,
          2.260586319218241,
          2.6688206785137316,
          2.52032,
          2.747542023469711,
          null,
          null,
          null,
          null,
          null,
          null,
          null,
          null,
          null,
          null
         ],
         "yaxis": "y"
        },
        {
         "connectgaps": false,
         "hovertemplate": "fnid=MG2009A20219<br>indicator=production<br>year=%{x}<br>value=%{y}<extra></extra>",
         "legendgroup": "MG2009A20219",
         "line": {
          "color": "#19d3f3",
          "dash": "solid"
         },
         "marker": {
          "symbol": "circle"
         },
         "mode": "markers+lines",
         "name": "MG2009A20219",
         "showlegend": true,
         "type": "scattergl",
         "x": [
          1990,
          1991,
          1992,
          1993,
          1994,
          1995,
          1996,
          1997,
          1998,
          1999,
          2000,
          2001,
          2002,
          2003,
          2004,
          2005,
          2006,
          2007,
          2008,
          2009,
          2010,
          2011,
          2012,
          2013,
          2014,
          2015,
          2016,
          2017,
          2018,
          2019,
          2020
         ],
         "xaxis": "x3",
         "y": [
          1803,
          1143,
          1230,
          1560,
          1040,
          1190,
          1225,
          1195,
          1040,
          1655,
          1475,
          1590,
          1530,
          2489,
          2320,
          2396,
          2420,
          2475,
          2945,
          2801,
          3517,
          null,
          4707.10770148,
          4341,
          4807.01008015,
          3845.6,
          3845.6,
          3480.93103448,
          3480.93103448,
          3000,
          3060
         ],
         "yaxis": "y3"
        },
        {
         "connectgaps": false,
         "hovertemplate": "fnid=MG2009A20219<br>indicator=area<br>year=%{x}<br>value=%{y}<extra></extra>",
         "legendgroup": "MG2009A20219",
         "line": {
          "color": "#19d3f3",
          "dash": "solid"
         },
         "marker": {
          "symbol": "circle"
         },
         "mode": "markers+lines",
         "name": "MG2009A20219",
         "showlegend": false,
         "type": "scattergl",
         "x": [
          1990,
          1991,
          1992,
          1993,
          1994,
          1995,
          1996,
          1997,
          1998,
          1999,
          2000,
          2001,
          2002,
          2003,
          2004,
          2005,
          2006,
          2007,
          2008,
          2009,
          2010,
          2011,
          2012,
          2013,
          2014,
          2015,
          2016,
          2017,
          2018,
          2019,
          2020
         ],
         "xaxis": "x2",
         "y": [
          2062,
          2435,
          2378,
          2737,
          2430,
          2715,
          2855,
          2805,
          2755,
          2865,
          2905,
          2945,
          null,
          null,
          null,
          7028,
          7095,
          7159,
          7222,
          7288,
          7355,
          null,
          null,
          null,
          null,
          null,
          null,
          null,
          null,
          null,
          null
         ],
         "yaxis": "y2"
        },
        {
         "connectgaps": false,
         "hovertemplate": "fnid=MG2009A20219<br>indicator=yield<br>year=%{x}<br>value=%{y}<extra></extra>",
         "legendgroup": "MG2009A20219",
         "line": {
          "color": "#19d3f3",
          "dash": "solid"
         },
         "marker": {
          "symbol": "circle"
         },
         "mode": "markers+lines",
         "name": "MG2009A20219",
         "showlegend": false,
         "type": "scattergl",
         "x": [
          1990,
          1991,
          1992,
          1993,
          1994,
          1995,
          1996,
          1997,
          1998,
          1999,
          2000,
          2001,
          2002,
          2003,
          2004,
          2005,
          2006,
          2007,
          2008,
          2009,
          2010,
          2011,
          2012,
          2013,
          2014,
          2015,
          2016,
          2017,
          2018,
          2019,
          2020
         ],
         "xaxis": "x",
         "y": [
          0.8743937924345296,
          0.46940451745379874,
          0.5172413793103449,
          0.5699671172816952,
          0.4279835390946502,
          0.43830570902394106,
          0.4290718038528897,
          0.42602495543672014,
          0.37749546279491836,
          0.5776614310645725,
          0.5077452667814114,
          0.5398981324278438,
          null,
          null,
          null,
          0.3409220261809903,
          0.34108527131782945,
          0.3457186757927085,
          0.4077817779008585,
          0.38433040614709113,
          0.47817811012916384,
          null,
          null,
          null,
          null,
          null,
          null,
          null,
          null,
          null,
          null
         ],
         "yaxis": "y"
        },
        {
         "connectgaps": false,
         "hovertemplate": "fnid=MG2009A20302<br>indicator=production<br>year=%{x}<br>value=%{y}<extra></extra>",
         "legendgroup": "MG2009A20302",
         "line": {
          "color": "#FF6692",
          "dash": "solid"
         },
         "marker": {
          "symbol": "circle"
         },
         "mode": "markers+lines",
         "name": "MG2009A20302",
         "showlegend": true,
         "type": "scattergl",
         "x": [
          1990,
          1991,
          1992,
          1993,
          1994,
          1995,
          1996,
          1997,
          1998,
          1999,
          2000,
          2001,
          2002,
          2003,
          2004,
          2005,
          2006,
          2007,
          2008,
          2009,
          2010,
          2011,
          2012,
          2013,
          2014,
          2015,
          2016,
          2017,
          2018,
          2019,
          2020
         ],
         "xaxis": "x3",
         "y": [
          11770,
          11805,
          10279,
          13050,
          12250,
          13980,
          14205,
          14080,
          12250,
          14145,
          14285,
          14780,
          14185,
          13150,
          14300,
          17242,
          17390,
          19160,
          22800,
          20864,
          19821,
          null,
          20368.39612761,
          24442.07535313,
          22533.30638937,
          15993.42656798,
          13618.82334975,
          6809.41167488,
          6809.41167488,
          5800,
          2900
         ],
         "yaxis": "y3"
        },
        {
         "connectgaps": false,
         "hovertemplate": "fnid=MG2009A20302<br>indicator=area<br>year=%{x}<br>value=%{y}<extra></extra>",
         "legendgroup": "MG2009A20302",
         "line": {
          "color": "#FF6692",
          "dash": "solid"
         },
         "marker": {
          "symbol": "circle"
         },
         "mode": "markers+lines",
         "name": "MG2009A20302",
         "showlegend": false,
         "type": "scattergl",
         "x": [
          1990,
          1991,
          1992,
          1993,
          1994,
          1995,
          1996,
          1997,
          1998,
          1999,
          2000,
          2001,
          2002,
          2003,
          2004,
          2005,
          2006,
          2007,
          2008,
          2009,
          2010,
          2011,
          2012,
          2013,
          2014,
          2015,
          2016,
          2017,
          2018,
          2019,
          2020
         ],
         "xaxis": "x2",
         "y": [
          11661,
          8327,
          10158,
          11660,
          10390,
          11620,
          12230,
          12005,
          11745,
          12020,
          12140,
          12260,
          null,
          null,
          null,
          11358,
          11450,
          11560,
          11665,
          11762,
          11866,
          null,
          null,
          null,
          null,
          null,
          null,
          null,
          null,
          null,
          null
         ],
         "yaxis": "y2"
        },
        {
         "connectgaps": false,
         "hovertemplate": "fnid=MG2009A20302<br>indicator=yield<br>year=%{x}<br>value=%{y}<extra></extra>",
         "legendgroup": "MG2009A20302",
         "line": {
          "color": "#FF6692",
          "dash": "solid"
         },
         "marker": {
          "symbol": "circle"
         },
         "mode": "markers+lines",
         "name": "MG2009A20302",
         "showlegend": false,
         "type": "scattergl",
         "x": [
          1990,
          1991,
          1992,
          1993,
          1994,
          1995,
          1996,
          1997,
          1998,
          1999,
          2000,
          2001,
          2002,
          2003,
          2004,
          2005,
          2006,
          2007,
          2008,
          2009,
          2010,
          2011,
          2012,
          2013,
          2014,
          2015,
          2016,
          2017,
          2018,
          2019,
          2020
         ],
         "xaxis": "x",
         "y": [
          1.0093473973072635,
          1.4176774348504864,
          1.0119117936601694,
          1.1192109777015438,
          1.1790182868142445,
          1.2030981067125646,
          1.161488143908422,
          1.172844648063307,
          1.0429970200085144,
          1.1767886855241265,
          1.17668863261944,
          1.2055464926590538,
          null,
          null,
          null,
          1.518048952280331,
          1.5187772925764191,
          1.657439446366782,
          1.9545649378482641,
          1.7738479850365585,
          1.670402831619754,
          null,
          null,
          null,
          null,
          null,
          null,
          null,
          null,
          null,
          null
         ],
         "yaxis": "y"
        },
        {
         "connectgaps": false,
         "hovertemplate": "fnid=MG2009A20308<br>indicator=production<br>year=%{x}<br>value=%{y}<extra></extra>",
         "legendgroup": "MG2009A20308",
         "line": {
          "color": "#B6E880",
          "dash": "solid"
         },
         "marker": {
          "symbol": "circle"
         },
         "mode": "markers+lines",
         "name": "MG2009A20308",
         "showlegend": true,
         "type": "scattergl",
         "x": [
          1990,
          1991,
          1992,
          1993,
          1994,
          1995,
          1996,
          1997,
          1998,
          1999,
          2000,
          2001,
          2002,
          2003,
          2004,
          2005,
          2006,
          2007,
          2008,
          2009,
          2010,
          2011,
          2012,
          2013,
          2014,
          2015,
          2016,
          2017,
          2018,
          2019,
          2020
         ],
         "xaxis": "x3",
         "y": [
          409,
          418,
          362,
          460,
          435,
          495,
          500,
          495,
          435,
          450,
          420,
          440,
          440,
          125,
          116,
          544,
          515,
          565,
          665,
          752,
          873,
          null,
          1087.71458986,
          794.0316506,
          892.01002782,
          901.38947368,
          901.38947368,
          901.38947368,
          2745.92112939,
          3203.66618166,
          3043.48287258
         ],
         "yaxis": "y3"
        },
        {
         "connectgaps": false,
         "hovertemplate": "fnid=MG2009A20308<br>indicator=area<br>year=%{x}<br>value=%{y}<extra></extra>",
         "legendgroup": "MG2009A20308",
         "line": {
          "color": "#B6E880",
          "dash": "solid"
         },
         "marker": {
          "symbol": "circle"
         },
         "mode": "markers+lines",
         "name": "MG2009A20308",
         "showlegend": false,
         "type": "scattergl",
         "x": [
          1990,
          1991,
          1992,
          1993,
          1994,
          1995,
          1996,
          1997,
          1998,
          1999,
          2000,
          2001,
          2002,
          2003,
          2004,
          2005,
          2006,
          2007,
          2008,
          2009,
          2010,
          2011,
          2012,
          2013,
          2014,
          2015,
          2016,
          2017,
          2018,
          2019,
          2020
         ],
         "xaxis": "x2",
         "y": [
          406,
          428,
          437,
          500,
          435,
          495,
          510,
          500,
          495,
          510,
          525,
          545,
          null,
          null,
          null,
          842,
          855,
          860,
          870,
          882,
          893,
          null,
          null,
          null,
          null,
          null,
          null,
          null,
          null,
          null,
          null
         ],
         "yaxis": "y2"
        },
        {
         "connectgaps": false,
         "hovertemplate": "fnid=MG2009A20308<br>indicator=yield<br>year=%{x}<br>value=%{y}<extra></extra>",
         "legendgroup": "MG2009A20308",
         "line": {
          "color": "#B6E880",
          "dash": "solid"
         },
         "marker": {
          "symbol": "circle"
         },
         "mode": "markers+lines",
         "name": "MG2009A20308",
         "showlegend": false,
         "type": "scattergl",
         "x": [
          1990,
          1991,
          1992,
          1993,
          1994,
          1995,
          1996,
          1997,
          1998,
          1999,
          2000,
          2001,
          2002,
          2003,
          2004,
          2005,
          2006,
          2007,
          2008,
          2009,
          2010,
          2011,
          2012,
          2013,
          2014,
          2015,
          2016,
          2017,
          2018,
          2019,
          2020
         ],
         "xaxis": "x",
         "y": [
          1.0073891625615763,
          0.9766355140186916,
          0.8283752860411899,
          0.92,
          1,
          1,
          0.9803921568627451,
          0.99,
          0.8787878787878788,
          0.8823529411764706,
          0.8,
          0.8073394495412844,
          null,
          null,
          null,
          0.6460807600950119,
          0.6023391812865497,
          0.6569767441860465,
          0.764367816091954,
          0.8526077097505669,
          0.9776035834266518,
          null,
          null,
          null,
          null,
          null,
          null,
          null,
          null,
          null,
          null
         ],
         "yaxis": "y"
        },
        {
         "connectgaps": false,
         "hovertemplate": "fnid=MG2009A20314<br>indicator=production<br>year=%{x}<br>value=%{y}<extra></extra>",
         "legendgroup": "MG2009A20314",
         "line": {
          "color": "#FF97FF",
          "dash": "solid"
         },
         "marker": {
          "symbol": "circle"
         },
         "mode": "markers+lines",
         "name": "MG2009A20314",
         "showlegend": true,
         "type": "scattergl",
         "x": [
          1990,
          1991,
          1992,
          1993,
          1994,
          1995,
          1996,
          1997,
          1998,
          1999,
          2000,
          2001,
          2002,
          2003,
          2004,
          2005,
          2006,
          2007,
          2008,
          2009,
          2010,
          2011,
          2012,
          2013,
          2014,
          2015,
          2016,
          2017,
          2018,
          2019,
          2020
         ],
         "xaxis": "x3",
         "y": [
          4272,
          3955,
          3565,
          4525,
          4245,
          4850,
          4935,
          4885,
          4250,
          5885,
          5890,
          6000,
          5780,
          14359,
          15075,
          22663,
          22560,
          24860,
          29580,
          26579,
          25249,
          null,
          25820.49898685,
          24529.47403751,
          26622.97182171,
          31947.6,
          28752.84,
          20845.809,
          20000,
          21500,
          26230
         ],
         "yaxis": "y3"
        },
        {
         "connectgaps": false,
         "hovertemplate": "fnid=MG2009A20314<br>indicator=area<br>year=%{x}<br>value=%{y}<extra></extra>",
         "legendgroup": "MG2009A20314",
         "line": {
          "color": "#FF97FF",
          "dash": "solid"
         },
         "marker": {
          "symbol": "circle"
         },
         "mode": "markers+lines",
         "name": "MG2009A20314",
         "showlegend": false,
         "type": "scattergl",
         "x": [
          1990,
          1991,
          1992,
          1993,
          1994,
          1995,
          1996,
          1997,
          1998,
          1999,
          2000,
          2001,
          2002,
          2003,
          2004,
          2005,
          2006,
          2007,
          2008,
          2009,
          2010,
          2011,
          2012,
          2013,
          2014,
          2015,
          2016,
          2017,
          2018,
          2019,
          2020
         ],
         "xaxis": "x2",
         "y": [
          4142,
          4318,
          4433,
          5095,
          4495,
          5030,
          5295,
          5210,
          5090,
          5275,
          5345,
          5415,
          null,
          null,
          null,
          6525,
          6580,
          6640,
          6700,
          6759,
          6820,
          null,
          null,
          null,
          null,
          null,
          null,
          null,
          null,
          null,
          null
         ],
         "yaxis": "y2"
        },
        {
         "connectgaps": false,
         "hovertemplate": "fnid=MG2009A20314<br>indicator=yield<br>year=%{x}<br>value=%{y}<extra></extra>",
         "legendgroup": "MG2009A20314",
         "line": {
          "color": "#FF97FF",
          "dash": "solid"
         },
         "marker": {
          "symbol": "circle"
         },
         "mode": "markers+lines",
         "name": "MG2009A20314",
         "showlegend": false,
         "type": "scattergl",
         "x": [
          1990,
          1991,
          1992,
          1993,
          1994,
          1995,
          1996,
          1997,
          1998,
          1999,
          2000,
          2001,
          2002,
          2003,
          2004,
          2005,
          2006,
          2007,
          2008,
          2009,
          2010,
          2011,
          2012,
          2013,
          2014,
          2015,
          2016,
          2017,
          2018,
          2019,
          2020
         ],
         "xaxis": "x",
         "y": [
          1.03138580395944,
          0.9159333024548402,
          0.8041958041958042,
          0.888125613346418,
          0.9443826473859844,
          0.9642147117296223,
          0.9320113314447592,
          0.9376199616122841,
          0.8349705304518664,
          1.1156398104265404,
          1.1019644527595884,
          1.10803324099723,
          null,
          null,
          null,
          3.4732567049808427,
          3.4285714285714284,
          3.7439759036144578,
          4.414925373134328,
          3.932386447699364,
          3.702199413489736,
          null,
          null,
          null,
          null,
          null,
          null,
          null,
          null,
          null,
          null
         ],
         "yaxis": "y"
        },
        {
         "connectgaps": false,
         "hovertemplate": "fnid=MG2009A20315<br>indicator=production<br>year=%{x}<br>value=%{y}<extra></extra>",
         "legendgroup": "MG2009A20315",
         "line": {
          "color": "#FECB52",
          "dash": "solid"
         },
         "marker": {
          "symbol": "circle"
         },
         "mode": "markers+lines",
         "name": "MG2009A20315",
         "showlegend": true,
         "type": "scattergl",
         "x": [
          1990,
          1991,
          1992,
          1993,
          1994,
          1995,
          1996,
          1997,
          1998,
          1999,
          2000,
          2001,
          2002,
          2003,
          2004,
          2005,
          2006,
          2007,
          2008,
          2009,
          2010,
          2011,
          2012,
          2013,
          2014,
          2015,
          2016,
          2017,
          2018,
          2019,
          2020
         ],
         "xaxis": "x3",
         "y": [
          478,
          485,
          422,
          540,
          505,
          580,
          585,
          580,
          505,
          640,
          660,
          670,
          660,
          1588,
          1660,
          4262,
          4230,
          4660,
          5037,
          5097,
          4905,
          null,
          4463.04985796,
          3458.86363992,
          3496.80829887,
          4924.96776257,
          4186.22259818,
          1534.948286,
          1534.948286,
          954.89132872,
          162.33152588
         ],
         "yaxis": "y3"
        },
        {
         "connectgaps": false,
         "hovertemplate": "fnid=MG2009A20315<br>indicator=area<br>year=%{x}<br>value=%{y}<extra></extra>",
         "legendgroup": "MG2009A20315",
         "line": {
          "color": "#FECB52",
          "dash": "solid"
         },
         "marker": {
          "symbol": "circle"
         },
         "mode": "markers+lines",
         "name": "MG2009A20315",
         "showlegend": false,
         "type": "scattergl",
         "x": [
          1990,
          1991,
          1992,
          1993,
          1994,
          1995,
          1996,
          1997,
          1998,
          1999,
          2000,
          2001,
          2002,
          2003,
          2004,
          2005,
          2006,
          2007,
          2008,
          2009,
          2010,
          2011,
          2012,
          2013,
          2014,
          2015,
          2016,
          2017,
          2018,
          2019,
          2020
         ],
         "xaxis": "x2",
         "y": [
          395,
          419,
          429,
          495,
          435,
          490,
          515,
          505,
          495,
          505,
          515,
          530,
          null,
          null,
          null,
          936,
          945,
          950,
          960,
          972,
          981,
          null,
          null,
          null,
          null,
          null,
          null,
          null,
          null,
          null,
          null
         ],
         "yaxis": "y2"
        },
        {
         "connectgaps": false,
         "hovertemplate": "fnid=MG2009A20315<br>indicator=yield<br>year=%{x}<br>value=%{y}<extra></extra>",
         "legendgroup": "MG2009A20315",
         "line": {
          "color": "#FECB52",
          "dash": "solid"
         },
         "marker": {
          "symbol": "circle"
         },
         "mode": "markers+lines",
         "name": "MG2009A20315",
         "showlegend": false,
         "type": "scattergl",
         "x": [
          1990,
          1991,
          1992,
          1993,
          1994,
          1995,
          1996,
          1997,
          1998,
          1999,
          2000,
          2001,
          2002,
          2003,
          2004,
          2005,
          2006,
          2007,
          2008,
          2009,
          2010,
          2011,
          2012,
          2013,
          2014,
          2015,
          2016,
          2017,
          2018,
          2019,
          2020
         ],
         "xaxis": "x",
         "y": [
          1.210126582278481,
          1.1575178997613365,
          0.9836829836829837,
          1.0909090909090908,
          1.160919540229885,
          1.183673469387755,
          1.1359223300970873,
          1.1485148514851484,
          1.02020202020202,
          1.2673267326732673,
          1.2815533980582525,
          1.2641509433962264,
          null,
          null,
          null,
          4.553418803418803,
          4.476190476190476,
          4.905263157894737,
          5.246875,
          5.243827160493828,
          5,
          null,
          null,
          null,
          null,
          null,
          null,
          null,
          null,
          null,
          null
         ],
         "yaxis": "y"
        },
        {
         "connectgaps": false,
         "hovertemplate": "fnid=MG2009A20322<br>indicator=production<br>year=%{x}<br>value=%{y}<extra></extra>",
         "legendgroup": "MG2009A20322",
         "line": {
          "color": "#636efa",
          "dash": "solid"
         },
         "marker": {
          "symbol": "circle"
         },
         "mode": "markers+lines",
         "name": "MG2009A20322",
         "showlegend": true,
         "type": "scattergl",
         "x": [
          1990,
          1991,
          1992,
          1993,
          1994,
          1995,
          1996,
          1997,
          1998,
          1999,
          2000,
          2001,
          2002,
          2003,
          2004,
          2005,
          2006,
          2007,
          2008,
          2009,
          2010,
          2011,
          2012,
          2013,
          2014,
          2015,
          2016,
          2017,
          2018,
          2019,
          2020
         ],
         "xaxis": "x3",
         "y": [
          1545,
          1573,
          1362,
          1725,
          1630,
          1865,
          1890,
          1870,
          1625,
          2075,
          1765,
          1780,
          1620,
          1686,
          1585,
          1930,
          1880,
          2070,
          2465,
          2102,
          2166,
          null,
          1477.77591347,
          1256.10952645,
          1224.53832181,
          942.03111242,
          1036.23422366,
          1232.85302507,
          3698.55907521,
          1400,
          1400
         ],
         "yaxis": "y3"
        },
        {
         "connectgaps": false,
         "hovertemplate": "fnid=MG2009A20322<br>indicator=area<br>year=%{x}<br>value=%{y}<extra></extra>",
         "legendgroup": "MG2009A20322",
         "line": {
          "color": "#636efa",
          "dash": "solid"
         },
         "marker": {
          "symbol": "circle"
         },
         "mode": "markers+lines",
         "name": "MG2009A20322",
         "showlegend": false,
         "type": "scattergl",
         "x": [
          1990,
          1991,
          1992,
          1993,
          1994,
          1995,
          1996,
          1997,
          1998,
          1999,
          2000,
          2001,
          2002,
          2003,
          2004,
          2005,
          2006,
          2007,
          2008,
          2009,
          2010,
          2011,
          2012,
          2013,
          2014,
          2015,
          2016,
          2017,
          2018,
          2019,
          2020
         ],
         "xaxis": "x2",
         "y": [
          1752,
          1828,
          1872,
          2150,
          1910,
          2130,
          2260,
          2215,
          2170,
          2240,
          2305,
          2360,
          null,
          null,
          null,
          4228,
          4264,
          4301,
          4336,
          4378,
          4417,
          null,
          null,
          null,
          null,
          null,
          null,
          null,
          null,
          null,
          null
         ],
         "yaxis": "y2"
        },
        {
         "connectgaps": false,
         "hovertemplate": "fnid=MG2009A20322<br>indicator=yield<br>year=%{x}<br>value=%{y}<extra></extra>",
         "legendgroup": "MG2009A20322",
         "line": {
          "color": "#636efa",
          "dash": "solid"
         },
         "marker": {
          "symbol": "circle"
         },
         "mode": "markers+lines",
         "name": "MG2009A20322",
         "showlegend": false,
         "type": "scattergl",
         "x": [
          1990,
          1991,
          1992,
          1993,
          1994,
          1995,
          1996,
          1997,
          1998,
          1999,
          2000,
          2001,
          2002,
          2003,
          2004,
          2005,
          2006,
          2007,
          2008,
          2009,
          2010,
          2011,
          2012,
          2013,
          2014,
          2015,
          2016,
          2017,
          2018,
          2019,
          2020
         ],
         "xaxis": "x",
         "y": [
          0.8818493150684932,
          0.8605032822757112,
          0.7275641025641025,
          0.8023255813953488,
          0.8534031413612565,
          0.8755868544600939,
          0.8362831858407079,
          0.8442437923250564,
          0.7488479262672811,
          0.9263392857142857,
          0.7657266811279827,
          0.7542372881355932,
          null,
          null,
          null,
          0.456480605487228,
          0.44090056285178236,
          0.48128342245989303,
          0.5684963099630996,
          0.4801279122887163,
          0.4903780846728549,
          null,
          null,
          null,
          null,
          null,
          null,
          null,
          null,
          null,
          null
         ],
         "yaxis": "y"
        },
        {
         "connectgaps": false,
         "hovertemplate": "fnid=MG2009A20410<br>indicator=production<br>year=%{x}<br>value=%{y}<extra></extra>",
         "legendgroup": "MG2009A20410",
         "line": {
          "color": "#EF553B",
          "dash": "solid"
         },
         "marker": {
          "symbol": "circle"
         },
         "mode": "markers+lines",
         "name": "MG2009A20410",
         "showlegend": true,
         "type": "scattergl",
         "x": [
          1990,
          1991,
          1992,
          1993,
          1994,
          1995,
          1996,
          1997,
          1998,
          1999,
          2000,
          2001,
          2002,
          2003,
          2004,
          2005,
          2006,
          2007,
          2008,
          2009,
          2010,
          2011,
          2012,
          2013,
          2014,
          2015,
          2016,
          2017,
          2018,
          2019,
          2020
         ],
         "xaxis": "x3",
         "y": [
          2001,
          1945,
          1714,
          2175,
          2070,
          2365,
          2390,
          2375,
          2070,
          3320,
          3160,
          3190,
          3050,
          3513,
          3165,
          12379,
          12755,
          14810,
          17620,
          15205,
          16720,
          null,
          19560.6601731,
          27384.92424234,
          27325.5014794,
          27900.55,
          26505.5225,
          20709.08616799,
          22942,
          24000,
          22238
         ],
         "yaxis": "y3"
        },
        {
         "connectgaps": false,
         "hovertemplate": "fnid=MG2009A20410<br>indicator=area<br>year=%{x}<br>value=%{y}<extra></extra>",
         "legendgroup": "MG2009A20410",
         "line": {
          "color": "#EF553B",
          "dash": "solid"
         },
         "marker": {
          "symbol": "circle"
         },
         "mode": "markers+lines",
         "name": "MG2009A20410",
         "showlegend": false,
         "type": "scattergl",
         "x": [
          1990,
          1991,
          1992,
          1993,
          1994,
          1995,
          1996,
          1997,
          1998,
          1999,
          2000,
          2001,
          2002,
          2003,
          2004,
          2005,
          2006,
          2007,
          2008,
          2009,
          2010,
          2011,
          2012,
          2013,
          2014,
          2015,
          2016,
          2017,
          2018,
          2019,
          2020
         ],
         "xaxis": "x2",
         "y": [
          2402,
          2566,
          2608,
          2975,
          2650,
          2965,
          3130,
          3065,
          3000,
          3085,
          3100,
          3115,
          null,
          null,
          null,
          3363,
          3390,
          3430,
          3450,
          3479,
          3509,
          null,
          null,
          null,
          null,
          null,
          null,
          null,
          null,
          null,
          null
         ],
         "yaxis": "y2"
        },
        {
         "connectgaps": false,
         "hovertemplate": "fnid=MG2009A20410<br>indicator=yield<br>year=%{x}<br>value=%{y}<extra></extra>",
         "legendgroup": "MG2009A20410",
         "line": {
          "color": "#EF553B",
          "dash": "solid"
         },
         "marker": {
          "symbol": "circle"
         },
         "mode": "markers+lines",
         "name": "MG2009A20410",
         "showlegend": false,
         "type": "scattergl",
         "x": [
          1990,
          1991,
          1992,
          1993,
          1994,
          1995,
          1996,
          1997,
          1998,
          1999,
          2000,
          2001,
          2002,
          2003,
          2004,
          2005,
          2006,
          2007,
          2008,
          2009,
          2010,
          2011,
          2012,
          2013,
          2014,
          2015,
          2016,
          2017,
          2018,
          2019,
          2020
         ],
         "xaxis": "x",
         "y": [
          0.8330557868442964,
          0.7579890880748247,
          0.6572085889570553,
          0.7310924369747899,
          0.7811320754716982,
          0.7976391231028668,
          0.7635782747603834,
          0.7748776508972267,
          0.69,
          1.0761750405186385,
          1.0193548387096774,
          1.0240770465489566,
          null,
          null,
          null,
          3.680939637228665,
          3.762536873156342,
          4.317784256559767,
          5.107246376811594,
          4.370508766887037,
          4.764890282131661,
          null,
          null,
          null,
          null,
          null,
          null,
          null,
          null,
          null,
          null
         ],
         "yaxis": "y"
        },
        {
         "connectgaps": false,
         "hovertemplate": "fnid=MG2009A20411<br>indicator=production<br>year=%{x}<br>value=%{y}<extra></extra>",
         "legendgroup": "MG2009A20411",
         "line": {
          "color": "#00cc96",
          "dash": "solid"
         },
         "marker": {
          "symbol": "circle"
         },
         "mode": "markers+lines",
         "name": "MG2009A20411",
         "showlegend": true,
         "type": "scattergl",
         "x": [
          1990,
          1991,
          1992,
          1993,
          1994,
          1995,
          1996,
          1997,
          1998,
          1999,
          2000,
          2001,
          2002,
          2003,
          2004,
          2005,
          2006,
          2007,
          2008,
          2009,
          2010,
          2011,
          2012,
          2013,
          2014,
          2015,
          2016,
          2017,
          2018,
          2019,
          2020
         ],
         "xaxis": "x3",
         "y": [
          1109,
          1065,
          945,
          1200,
          1145,
          1315,
          1320,
          1320,
          1145,
          1870,
          1880,
          1880,
          1880,
          11056,
          11008,
          25551,
          26330,
          30570,
          36370,
          30015,
          32645,
          null,
          33133.92529837,
          19880.35517902,
          30523.11469107,
          48078.93963554,
          36536.85937614,
          23125.86264838,
          20000,
          25115,
          25617.3
         ],
         "yaxis": "y3"
        },
        {
         "connectgaps": false,
         "hovertemplate": "fnid=MG2009A20411<br>indicator=area<br>year=%{x}<br>value=%{y}<extra></extra>",
         "legendgroup": "MG2009A20411",
         "line": {
          "color": "#00cc96",
          "dash": "solid"
         },
         "marker": {
          "symbol": "circle"
         },
         "mode": "markers+lines",
         "name": "MG2009A20411",
         "showlegend": false,
         "type": "scattergl",
         "x": [
          1990,
          1991,
          1992,
          1993,
          1994,
          1995,
          1996,
          1997,
          1998,
          1999,
          2000,
          2001,
          2002,
          2003,
          2004,
          2005,
          2006,
          2007,
          2008,
          2009,
          2010,
          2011,
          2012,
          2013,
          2014,
          2015,
          2016,
          2017,
          2018,
          2019,
          2020
         ],
         "xaxis": "x2",
         "y": [
          1365,
          1456,
          1480,
          1695,
          1520,
          1700,
          1780,
          1755,
          1725,
          1830,
          1860,
          1890,
          null,
          null,
          null,
          13549,
          13680,
          13800,
          13930,
          14058,
          14190,
          null,
          null,
          null,
          null,
          null,
          null,
          null,
          null,
          null,
          null
         ],
         "yaxis": "y2"
        },
        {
         "connectgaps": false,
         "hovertemplate": "fnid=MG2009A20411<br>indicator=yield<br>year=%{x}<br>value=%{y}<extra></extra>",
         "legendgroup": "MG2009A20411",
         "line": {
          "color": "#00cc96",
          "dash": "solid"
         },
         "marker": {
          "symbol": "circle"
         },
         "mode": "markers+lines",
         "name": "MG2009A20411",
         "showlegend": false,
         "type": "scattergl",
         "x": [
          1990,
          1991,
          1992,
          1993,
          1994,
          1995,
          1996,
          1997,
          1998,
          1999,
          2000,
          2001,
          2002,
          2003,
          2004,
          2005,
          2006,
          2007,
          2008,
          2009,
          2010,
          2011,
          2012,
          2013,
          2014,
          2015,
          2016,
          2017,
          2018,
          2019,
          2020
         ],
         "xaxis": "x",
         "y": [
          0.8124542124542125,
          0.7314560439560439,
          0.6385135135135135,
          0.7079646017699115,
          0.7532894736842105,
          0.7735294117647059,
          0.7415730337078652,
          0.7521367521367521,
          0.663768115942029,
          1.0218579234972678,
          1.010752688172043,
          0.9947089947089947,
          null,
          null,
          null,
          1.8858218318695106,
          1.9247076023391814,
          2.215217391304348,
          2.6109117013639627,
          2.1350832266325224,
          2.3005637773079632,
          null,
          null,
          null,
          null,
          null,
          null,
          null,
          null,
          null,
          null
         ],
         "yaxis": "y"
        },
        {
         "connectgaps": false,
         "hovertemplate": "fnid=MG2009A20417<br>indicator=production<br>year=%{x}<br>value=%{y}<extra></extra>",
         "legendgroup": "MG2009A20417",
         "line": {
          "color": "#ab63fa",
          "dash": "solid"
         },
         "marker": {
          "symbol": "circle"
         },
         "mode": "markers+lines",
         "name": "MG2009A20417",
         "showlegend": true,
         "type": "scattergl",
         "x": [
          1990,
          1991,
          1992,
          1993,
          1994,
          1995,
          1996,
          1997,
          1998,
          1999,
          2000,
          2001,
          2002,
          2003,
          2004,
          2005,
          2006,
          2007,
          2008,
          2009,
          2010,
          2011,
          2012,
          2013,
          2014,
          2015,
          2016,
          2017,
          2018,
          2019,
          2020
         ],
         "xaxis": "x3",
         "y": [
          960,
          931,
          820,
          1050,
          1005,
          1140,
          1170,
          1160,
          1005,
          1235,
          1265,
          1300,
          1375,
          4800,
          4380,
          5834,
          6010,
          6980,
          8310,
          7595,
          8115,
          null,
          6670.28910384,
          7337.31801423,
          5498.62105947,
          6637.293,
          11747.16766498,
          18405.52808162,
          15000,
          13500,
          13230
         ],
         "yaxis": "y3"
        },
        {
         "connectgaps": false,
         "hovertemplate": "fnid=MG2009A20417<br>indicator=area<br>year=%{x}<br>value=%{y}<extra></extra>",
         "legendgroup": "MG2009A20417",
         "line": {
          "color": "#ab63fa",
          "dash": "solid"
         },
         "marker": {
          "symbol": "circle"
         },
         "mode": "markers+lines",
         "name": "MG2009A20417",
         "showlegend": false,
         "type": "scattergl",
         "x": [
          1990,
          1991,
          1992,
          1993,
          1994,
          1995,
          1996,
          1997,
          1998,
          1999,
          2000,
          2001,
          2002,
          2003,
          2004,
          2005,
          2006,
          2007,
          2008,
          2009,
          2010,
          2011,
          2012,
          2013,
          2014,
          2015,
          2016,
          2017,
          2018,
          2019,
          2020
         ],
         "xaxis": "x2",
         "y": [
          1102,
          1186,
          1197,
          1375,
          1230,
          1375,
          1455,
          1420,
          1395,
          1425,
          1460,
          1495,
          null,
          null,
          null,
          3935,
          4570,
          4620,
          4660,
          4702,
          4746,
          null,
          null,
          null,
          null,
          null,
          null,
          null,
          null,
          null,
          null
         ],
         "yaxis": "y2"
        },
        {
         "connectgaps": false,
         "hovertemplate": "fnid=MG2009A20417<br>indicator=yield<br>year=%{x}<br>value=%{y}<extra></extra>",
         "legendgroup": "MG2009A20417",
         "line": {
          "color": "#ab63fa",
          "dash": "solid"
         },
         "marker": {
          "symbol": "circle"
         },
         "mode": "markers+lines",
         "name": "MG2009A20417",
         "showlegend": false,
         "type": "scattergl",
         "x": [
          1990,
          1991,
          1992,
          1993,
          1994,
          1995,
          1996,
          1997,
          1998,
          1999,
          2000,
          2001,
          2002,
          2003,
          2004,
          2005,
          2006,
          2007,
          2008,
          2009,
          2010,
          2011,
          2012,
          2013,
          2014,
          2015,
          2016,
          2017,
          2018,
          2019,
          2020
         ],
         "xaxis": "x",
         "y": [
          0.8711433756805808,
          0.784991568296796,
          0.6850459482038429,
          0.7636363636363637,
          0.8170731707317073,
          0.8290909090909091,
          0.8041237113402062,
          0.8169014084507042,
          0.7204301075268817,
          0.8666666666666667,
          0.8664383561643836,
          0.8695652173913043,
          null,
          null,
          null,
          1.482592121982211,
          1.3150984682713347,
          1.5108225108225108,
          1.7832618025751072,
          1.6152700978307104,
          1.7098609355246523,
          null,
          null,
          null,
          null,
          null,
          null,
          null,
          null,
          null,
          null
         ],
         "yaxis": "y"
        },
        {
         "connectgaps": false,
         "hovertemplate": "fnid=MG2009A20420<br>indicator=production<br>year=%{x}<br>value=%{y}<extra></extra>",
         "legendgroup": "MG2009A20420",
         "line": {
          "color": "#FFA15A",
          "dash": "solid"
         },
         "marker": {
          "symbol": "circle"
         },
         "mode": "markers+lines",
         "name": "MG2009A20420",
         "showlegend": true,
         "type": "scattergl",
         "x": [
          1990,
          1991,
          1992,
          1993,
          1994,
          1995,
          1996,
          1997,
          1998,
          1999,
          2000,
          2001,
          2002,
          2003,
          2004,
          2005,
          2006,
          2007,
          2008,
          2009,
          2010,
          2011,
          2012,
          2013,
          2014,
          2015,
          2016,
          2017,
          2018,
          2019,
          2020
         ],
         "xaxis": "x3",
         "y": [
          9047,
          9338,
          8034,
          10195,
          9730,
          11110,
          11315,
          11180,
          9730,
          14515,
          14400,
          14690,
          15490,
          6720,
          6730,
          19203,
          19790,
          22970,
          27340,
          23325,
          23325,
          null,
          12847.95201612,
          3211.98800403,
          3107.0186969,
          3441.99560502,
          2450.50846322,
          3924.66124826,
          3000,
          3368.1,
          2357.67
         ],
         "yaxis": "y3"
        },
        {
         "connectgaps": false,
         "hovertemplate": "fnid=MG2009A20420<br>indicator=area<br>year=%{x}<br>value=%{y}<extra></extra>",
         "legendgroup": "MG2009A20420",
         "line": {
          "color": "#FFA15A",
          "dash": "solid"
         },
         "marker": {
          "symbol": "circle"
         },
         "mode": "markers+lines",
         "name": "MG2009A20420",
         "showlegend": false,
         "type": "scattergl",
         "x": [
          1990,
          1991,
          1992,
          1993,
          1994,
          1995,
          1996,
          1997,
          1998,
          1999,
          2000,
          2001,
          2002,
          2003,
          2004,
          2005,
          2006,
          2007,
          2008,
          2009,
          2010,
          2011,
          2012,
          2013,
          2014,
          2015,
          2016,
          2017,
          2018,
          2019,
          2020
         ],
         "xaxis": "x2",
         "y": [
          11013,
          11764,
          11959,
          13755,
          12260,
          13720,
          14445,
          14195,
          13875,
          14070,
          14130,
          14190,
          null,
          null,
          null,
          13180,
          13300,
          13430,
          13550,
          13675,
          13803,
          null,
          null,
          null,
          null,
          null,
          null,
          null,
          null,
          null,
          null
         ],
         "yaxis": "y2"
        },
        {
         "connectgaps": false,
         "hovertemplate": "fnid=MG2009A20420<br>indicator=yield<br>year=%{x}<br>value=%{y}<extra></extra>",
         "legendgroup": "MG2009A20420",
         "line": {
          "color": "#FFA15A",
          "dash": "solid"
         },
         "marker": {
          "symbol": "circle"
         },
         "mode": "markers+lines",
         "name": "MG2009A20420",
         "showlegend": false,
         "type": "scattergl",
         "x": [
          1990,
          1991,
          1992,
          1993,
          1994,
          1995,
          1996,
          1997,
          1998,
          1999,
          2000,
          2001,
          2002,
          2003,
          2004,
          2005,
          2006,
          2007,
          2008,
          2009,
          2010,
          2011,
          2012,
          2013,
          2014,
          2015,
          2016,
          2017,
          2018,
          2019,
          2020
         ],
         "xaxis": "x",
         "y": [
          0.8214837010805411,
          0.7937776266575994,
          0.6717953006104189,
          0.7411850236277717,
          0.7936378466557912,
          0.8097667638483965,
          0.7833160263066805,
          0.787601268052131,
          0.7012612612612613,
          1.0316275764036957,
          1.019108280254777,
          1.0352360817477098,
          null,
          null,
          null,
          1.456980273141123,
          1.4879699248120302,
          1.7103499627699181,
          2.0177121771217714,
          1.7056672760511884,
          1.6898500326016084,
          null,
          null,
          null,
          null,
          null,
          null,
          null,
          null,
          null,
          null
         ],
         "yaxis": "y"
        },
        {
         "connectgaps": false,
         "hovertemplate": "fnid=MG2009A20501<br>indicator=production<br>year=%{x}<br>value=%{y}<extra></extra>",
         "legendgroup": "MG2009A20501",
         "line": {
          "color": "#19d3f3",
          "dash": "solid"
         },
         "marker": {
          "symbol": "circle"
         },
         "mode": "markers+lines",
         "name": "MG2009A20501",
         "showlegend": true,
         "type": "scattergl",
         "x": [
          1990,
          1991,
          1992,
          1993,
          1994,
          1995,
          1996,
          1997,
          1998,
          1999,
          2000,
          2001,
          2002,
          2003,
          2004,
          2005,
          2006,
          2007,
          2008,
          2009,
          2010,
          2011,
          2012,
          2013,
          2014,
          2015,
          2016,
          2017,
          2018,
          2019,
          2020
         ],
         "xaxis": "x3",
         "y": [
          7221,
          4128,
          4709,
          5980,
          5740,
          6550,
          6550,
          6590,
          5740,
          7665,
          6640,
          7100,
          6890,
          5126,
          2465,
          6945,
          6980,
          6660,
          7925,
          9530,
          10320,
          null,
          6143.61676517,
          6144.71383959,
          6172.58777582,
          4833.459,
          4601.96628399,
          2947.94412928,
          5579.26873291,
          5132.92723428,
          6159.51268114
         ],
         "yaxis": "y3"
        },
        {
         "connectgaps": false,
         "hovertemplate": "fnid=MG2009A20501<br>indicator=area<br>year=%{x}<br>value=%{y}<extra></extra>",
         "legendgroup": "MG2009A20501",
         "line": {
          "color": "#19d3f3",
          "dash": "solid"
         },
         "marker": {
          "symbol": "circle"
         },
         "mode": "markers+lines",
         "name": "MG2009A20501",
         "showlegend": false,
         "type": "scattergl",
         "x": [
          1990,
          1991,
          1992,
          1993,
          1994,
          1995,
          1996,
          1997,
          1998,
          1999,
          2000,
          2001,
          2002,
          2003,
          2004,
          2005,
          2006,
          2007,
          2008,
          2009,
          2010,
          2011,
          2012,
          2013,
          2014,
          2015,
          2016,
          2017,
          2018,
          2019,
          2020
         ],
         "xaxis": "x2",
         "y": [
          6749,
          7123,
          7279,
          8370,
          7365,
          8240,
          8670,
          8495,
          8325,
          8575,
          8620,
          8665,
          null,
          null,
          null,
          7154,
          7220,
          7285,
          7360,
          7430,
          7500,
          null,
          null,
          null,
          null,
          null,
          null,
          null,
          null,
          null,
          null
         ],
         "yaxis": "y2"
        },
        {
         "connectgaps": false,
         "hovertemplate": "fnid=MG2009A20501<br>indicator=yield<br>year=%{x}<br>value=%{y}<extra></extra>",
         "legendgroup": "MG2009A20501",
         "line": {
          "color": "#19d3f3",
          "dash": "solid"
         },
         "marker": {
          "symbol": "circle"
         },
         "mode": "markers+lines",
         "name": "MG2009A20501",
         "showlegend": false,
         "type": "scattergl",
         "x": [
          1990,
          1991,
          1992,
          1993,
          1994,
          1995,
          1996,
          1997,
          1998,
          1999,
          2000,
          2001,
          2002,
          2003,
          2004,
          2005,
          2006,
          2007,
          2008,
          2009,
          2010,
          2011,
          2012,
          2013,
          2014,
          2015,
          2016,
          2017,
          2018,
          2019,
          2020
         ],
         "xaxis": "x",
         "y": [
          1.0699362868573121,
          0.5795310964481258,
          0.6469295232861657,
          0.7144563918757467,
          0.7793618465716226,
          0.7949029126213593,
          0.7554786620530565,
          0.7757504414361389,
          0.6894894894894895,
          0.8938775510204081,
          0.7703016241299304,
          0.8193883439122909,
          null,
          null,
          null,
          0.9707855745037741,
          0.9667590027700831,
          0.9142072752230611,
          1.0767663043478262,
          1.2826379542395694,
          1.376,
          null,
          null,
          null,
          null,
          null,
          null,
          null,
          null,
          null,
          null
         ],
         "yaxis": "y"
        },
        {
         "connectgaps": false,
         "hovertemplate": "fnid=MG2009A20504<br>indicator=production<br>year=%{x}<br>value=%{y}<extra></extra>",
         "legendgroup": "MG2009A20504",
         "line": {
          "color": "#FF6692",
          "dash": "solid"
         },
         "marker": {
          "symbol": "circle"
         },
         "mode": "markers+lines",
         "name": "MG2009A20504",
         "showlegend": true,
         "type": "scattergl",
         "x": [
          1990,
          1991,
          1992,
          1993,
          1994,
          1995,
          1996,
          1997,
          1998,
          1999,
          2000,
          2001,
          2002,
          2003,
          2004,
          2005,
          2006,
          2007,
          2008,
          2009,
          2010,
          2011,
          2012,
          2013,
          2014,
          2015,
          2016,
          2017,
          2018,
          2019,
          2020
         ],
         "xaxis": "x3",
         "y": [
          2518,
          1429,
          1637,
          2080,
          2380,
          2725,
          2725,
          2740,
          2380,
          3445,
          2965,
          3230,
          3110,
          741,
          730,
          1578,
          1590,
          1510,
          1800,
          1855,
          2035,
          null,
          1354.35294324,
          1310.82017007,
          1376.91194335,
          1252.9323,
          1176.36060273,
          862.664442,
          1294.27559188,
          1358.98937147,
          1331.80958404
         ],
         "yaxis": "y3"
        },
        {
         "connectgaps": false,
         "hovertemplate": "fnid=MG2009A20504<br>indicator=area<br>year=%{x}<br>value=%{y}<extra></extra>",
         "legendgroup": "MG2009A20504",
         "line": {
          "color": "#FF6692",
          "dash": "solid"
         },
         "marker": {
          "symbol": "circle"
         },
         "mode": "markers+lines",
         "name": "MG2009A20504",
         "showlegend": false,
         "type": "scattergl",
         "x": [
          1990,
          1991,
          1992,
          1993,
          1994,
          1995,
          1996,
          1997,
          1998,
          1999,
          2000,
          2001,
          2002,
          2003,
          2004,
          2005,
          2006,
          2007,
          2008,
          2009,
          2010,
          2011,
          2012,
          2013,
          2014,
          2015,
          2016,
          2017,
          2018,
          2019,
          2020
         ],
         "xaxis": "x2",
         "y": [
          2645,
          2788,
          2853,
          3280,
          3235,
          3620,
          3810,
          3760,
          3660,
          3650,
          3695,
          3740,
          null,
          null,
          null,
          5294,
          5336,
          5390,
          5429,
          5476,
          5522,
          null,
          null,
          null,
          null,
          null,
          null,
          null,
          null,
          null,
          null
         ],
         "yaxis": "y2"
        },
        {
         "connectgaps": false,
         "hovertemplate": "fnid=MG2009A20504<br>indicator=yield<br>year=%{x}<br>value=%{y}<extra></extra>",
         "legendgroup": "MG2009A20504",
         "line": {
          "color": "#FF6692",
          "dash": "solid"
         },
         "marker": {
          "symbol": "circle"
         },
         "mode": "markers+lines",
         "name": "MG2009A20504",
         "showlegend": false,
         "type": "scattergl",
         "x": [
          1990,
          1991,
          1992,
          1993,
          1994,
          1995,
          1996,
          1997,
          1998,
          1999,
          2000,
          2001,
          2002,
          2003,
          2004,
          2005,
          2006,
          2007,
          2008,
          2009,
          2010,
          2011,
          2012,
          2013,
          2014,
          2015,
          2016,
          2017,
          2018,
          2019,
          2020
         ],
         "xaxis": "x",
         "y": [
          0.951984877126654,
          0.5125538020086083,
          0.573781983876621,
          0.6341463414634146,
          0.7357032457496137,
          0.7527624309392266,
          0.7152230971128609,
          0.7287234042553191,
          0.6502732240437158,
          0.9438356164383561,
          0.8024357239512855,
          0.8636363636363636,
          null,
          null,
          null,
          0.29807329051756704,
          0.297976011994003,
          0.28014842300556586,
          0.33155277214956713,
          0.3387509130752374,
          0.36852589641434264,
          null,
          null,
          null,
          null,
          null,
          null,
          null,
          null,
          null,
          null
         ],
         "yaxis": "y"
        },
        {
         "connectgaps": false,
         "hovertemplate": "fnid=MG2009A20509<br>indicator=production<br>year=%{x}<br>value=%{y}<extra></extra>",
         "legendgroup": "MG2009A20509",
         "line": {
          "color": "#B6E880",
          "dash": "solid"
         },
         "marker": {
          "symbol": "circle"
         },
         "mode": "markers+lines",
         "name": "MG2009A20509",
         "showlegend": true,
         "type": "scattergl",
         "x": [
          1990,
          1991,
          1992,
          1993,
          1994,
          1995,
          1996,
          1997,
          1998,
          1999,
          2000,
          2001,
          2002,
          2003,
          2004,
          2005,
          2006,
          2007,
          2008,
          2009,
          2010,
          2011,
          2012,
          2013,
          2014,
          2015,
          2016,
          2017,
          2018,
          2019,
          2020
         ],
         "xaxis": "x3",
         "y": [
          3452,
          1920,
          2224,
          2820,
          2730,
          3115,
          3115,
          3140,
          2730,
          3975,
          3195,
          3410,
          3830,
          4439,
          4295,
          6206,
          6240,
          5950,
          7080,
          6730,
          7405,
          null,
          5708.95808449,
          5373.13702069,
          5349.93047502,
          5885,
          5703.06846607,
          5310.42828483,
          5000,
          4850,
          4607.5
         ],
         "yaxis": "y3"
        },
        {
         "connectgaps": false,
         "hovertemplate": "fnid=MG2009A20509<br>indicator=area<br>year=%{x}<br>value=%{y}<extra></extra>",
         "legendgroup": "MG2009A20509",
         "line": {
          "color": "#B6E880",
          "dash": "solid"
         },
         "marker": {
          "symbol": "circle"
         },
         "mode": "markers+lines",
         "name": "MG2009A20509",
         "showlegend": false,
         "type": "scattergl",
         "x": [
          1990,
          1991,
          1992,
          1993,
          1994,
          1995,
          1996,
          1997,
          1998,
          1999,
          2000,
          2001,
          2002,
          2003,
          2004,
          2005,
          2006,
          2007,
          2008,
          2009,
          2010,
          2011,
          2012,
          2013,
          2014,
          2015,
          2016,
          2017,
          2018,
          2019,
          2020
         ],
         "xaxis": "x2",
         "y": [
          3313,
          3496,
          3571,
          4100,
          3435,
          3840,
          4050,
          3980,
          3895,
          3925,
          3965,
          4010,
          null,
          null,
          null,
          11829,
          11940,
          12060,
          12175,
          12293,
          12410,
          null,
          null,
          null,
          null,
          null,
          null,
          null,
          null,
          null,
          null
         ],
         "yaxis": "y2"
        },
        {
         "connectgaps": false,
         "hovertemplate": "fnid=MG2009A20509<br>indicator=yield<br>year=%{x}<br>value=%{y}<extra></extra>",
         "legendgroup": "MG2009A20509",
         "line": {
          "color": "#B6E880",
          "dash": "solid"
         },
         "marker": {
          "symbol": "circle"
         },
         "mode": "markers+lines",
         "name": "MG2009A20509",
         "showlegend": false,
         "type": "scattergl",
         "x": [
          1990,
          1991,
          1992,
          1993,
          1994,
          1995,
          1996,
          1997,
          1998,
          1999,
          2000,
          2001,
          2002,
          2003,
          2004,
          2005,
          2006,
          2007,
          2008,
          2009,
          2010,
          2011,
          2012,
          2013,
          2014,
          2015,
          2016,
          2017,
          2018,
          2019,
          2020
         ],
         "xaxis": "x",
         "y": [
          1.0419559311801991,
          0.5491990846681922,
          0.6227947353682441,
          0.6878048780487804,
          0.7947598253275109,
          0.8111979166666666,
          0.7691358024691358,
          0.7889447236180904,
          0.7008985879332478,
          1.0127388535031847,
          0.8058007566204287,
          0.8503740648379052,
          null,
          null,
          null,
          0.5246428269507143,
          0.5226130653266332,
          0.49336650082918737,
          0.5815195071868583,
          0.5474660375823639,
          0.5966962127316681,
          null,
          null,
          null,
          null,
          null,
          null,
          null,
          null,
          null,
          null
         ],
         "yaxis": "y"
        },
        {
         "connectgaps": false,
         "hovertemplate": "fnid=MG2009A20605<br>indicator=production<br>year=%{x}<br>value=%{y}<extra></extra>",
         "legendgroup": "MG2009A20605",
         "line": {
          "color": "#FF97FF",
          "dash": "solid"
         },
         "marker": {
          "symbol": "circle"
         },
         "mode": "markers+lines",
         "name": "MG2009A20605",
         "showlegend": true,
         "type": "scattergl",
         "x": [
          1990,
          1991,
          1992,
          1993,
          1994,
          1995,
          1996,
          1997,
          1998,
          1999,
          2000,
          2001,
          2002,
          2003,
          2004,
          2005,
          2006,
          2007,
          2008,
          2009,
          2010,
          2011,
          2012,
          2013,
          2014,
          2015,
          2016,
          2017,
          2018,
          2019,
          2020
         ],
         "xaxis": "x3",
         "y": [
          10983,
          10636,
          9398,
          11920,
          10860,
          12825,
          12670,
          12390,
          10770,
          13995,
          13620,
          13800,
          13535,
          9034,
          8740,
          20998,
          21180,
          24830,
          29550,
          29550,
          24830,
          null,
          29068.35621263,
          18894.43153821,
          11640.59491958,
          4201.44893298,
          780.8796181,
          1152.73168108,
          576.36584054,
          998.95727482,
          1098.8530023
         ],
         "yaxis": "y3"
        },
        {
         "connectgaps": false,
         "hovertemplate": "fnid=MG2009A20605<br>indicator=area<br>year=%{x}<br>value=%{y}<extra></extra>",
         "legendgroup": "MG2009A20605",
         "line": {
          "color": "#FF97FF",
          "dash": "solid"
         },
         "marker": {
          "symbol": "circle"
         },
         "mode": "markers+lines",
         "name": "MG2009A20605",
         "showlegend": false,
         "type": "scattergl",
         "x": [
          1990,
          1991,
          1992,
          1993,
          1994,
          1995,
          1996,
          1997,
          1998,
          1999,
          2000,
          2001,
          2002,
          2003,
          2004,
          2005,
          2006,
          2007,
          2008,
          2009,
          2010,
          2011,
          2012,
          2013,
          2014,
          2015,
          2016,
          2017,
          2018,
          2019,
          2020
         ],
         "xaxis": "x2",
         "y": [
          10230,
          11143,
          11237,
          12922,
          11740,
          13125,
          13810,
          13575,
          13285,
          13685,
          13775,
          13855,
          null,
          null,
          null,
          16353,
          16500,
          16650,
          16800,
          16951,
          17105,
          null,
          null,
          null,
          null,
          null,
          null,
          null,
          null,
          null,
          null
         ],
         "yaxis": "y2"
        },
        {
         "connectgaps": false,
         "hovertemplate": "fnid=MG2009A20605<br>indicator=yield<br>year=%{x}<br>value=%{y}<extra></extra>",
         "legendgroup": "MG2009A20605",
         "line": {
          "color": "#FF97FF",
          "dash": "solid"
         },
         "marker": {
          "symbol": "circle"
         },
         "mode": "markers+lines",
         "name": "MG2009A20605",
         "showlegend": false,
         "type": "scattergl",
         "x": [
          1990,
          1991,
          1992,
          1993,
          1994,
          1995,
          1996,
          1997,
          1998,
          1999,
          2000,
          2001,
          2002,
          2003,
          2004,
          2005,
          2006,
          2007,
          2008,
          2009,
          2010,
          2011,
          2012,
          2013,
          2014,
          2015,
          2016,
          2017,
          2018,
          2019,
          2020
         ],
         "xaxis": "x",
         "y": [
          1.073607038123167,
          0.9545005833258547,
          0.8363442199875412,
          0.9224578238662746,
          0.9250425894378195,
          0.9771428571428571,
          0.9174511223750905,
          0.912707182320442,
          0.8106887467068122,
          1.0226525392765802,
          0.9887477313974592,
          0.9960303139660772,
          null,
          null,
          null,
          1.2840457408426589,
          1.2836363636363637,
          1.4912912912912912,
          1.7589285714285714,
          1.7432599846616719,
          1.4516223326512716,
          null,
          null,
          null,
          null,
          null,
          null,
          null,
          null,
          null,
          null
         ],
         "yaxis": "y"
        },
        {
         "connectgaps": false,
         "hovertemplate": "fnid=MG2009A20606<br>indicator=production<br>year=%{x}<br>value=%{y}<extra></extra>",
         "legendgroup": "MG2009A20606",
         "line": {
          "color": "#FECB52",
          "dash": "solid"
         },
         "marker": {
          "symbol": "circle"
         },
         "mode": "markers+lines",
         "name": "MG2009A20606",
         "showlegend": true,
         "type": "scattergl",
         "x": [
          1990,
          1991,
          1992,
          1993,
          1994,
          1995,
          1996,
          1997,
          1998,
          1999,
          2000,
          2001,
          2002,
          2003,
          2004,
          2005,
          2006,
          2007,
          2008,
          2009,
          2010,
          2011,
          2012,
          2013,
          2014,
          2015,
          2016,
          2017,
          2018,
          2019,
          2020
         ],
         "xaxis": "x3",
         "y": [
          1698,
          1644,
          1450,
          1840,
          1730,
          1950,
          2180,
          2085,
          1820,
          2625,
          2655,
          2760,
          2785,
          4503,
          4501,
          6742,
          6800,
          7970,
          9490,
          9490,
          7970,
          null,
          12595.90397445,
          8817.13278211,
          9787.38824227,
          1669.71433414,
          4983.50954796,
          5335.27535358,
          2667.63767679,
          2799.95250556,
          4703.92020934
         ],
         "yaxis": "y3"
        },
        {
         "connectgaps": false,
         "hovertemplate": "fnid=MG2009A20606<br>indicator=area<br>year=%{x}<br>value=%{y}<extra></extra>",
         "legendgroup": "MG2009A20606",
         "line": {
          "color": "#FECB52",
          "dash": "solid"
         },
         "marker": {
          "symbol": "circle"
         },
         "mode": "markers+lines",
         "name": "MG2009A20606",
         "showlegend": false,
         "type": "scattergl",
         "x": [
          1990,
          1991,
          1992,
          1993,
          1994,
          1995,
          1996,
          1997,
          1998,
          1999,
          2000,
          2001,
          2002,
          2003,
          2004,
          2005,
          2006,
          2007,
          2008,
          2009,
          2010,
          2011,
          2012,
          2013,
          2014,
          2015,
          2016,
          2017,
          2018,
          2019,
          2020
         ],
         "xaxis": "x2",
         "y": [
          1964,
          2388,
          2305,
          2630,
          2330,
          2605,
          2740,
          2700,
          2635,
          2660,
          2685,
          2710,
          null,
          null,
          null,
          5593,
          5640,
          5690,
          5740,
          5790,
          5840,
          null,
          null,
          null,
          null,
          null,
          null,
          null,
          null,
          null,
          null
         ],
         "yaxis": "y2"
        },
        {
         "connectgaps": false,
         "hovertemplate": "fnid=MG2009A20606<br>indicator=yield<br>year=%{x}<br>value=%{y}<extra></extra>",
         "legendgroup": "MG2009A20606",
         "line": {
          "color": "#FECB52",
          "dash": "solid"
         },
         "marker": {
          "symbol": "circle"
         },
         "mode": "markers+lines",
         "name": "MG2009A20606",
         "showlegend": false,
         "type": "scattergl",
         "x": [
          1990,
          1991,
          1992,
          1993,
          1994,
          1995,
          1996,
          1997,
          1998,
          1999,
          2000,
          2001,
          2002,
          2003,
          2004,
          2005,
          2006,
          2007,
          2008,
          2009,
          2010,
          2011,
          2012,
          2013,
          2014,
          2015,
          2016,
          2017,
          2018,
          2019,
          2020
         ],
         "xaxis": "x",
         "y": [
          0.8645621181262729,
          0.6884422110552764,
          0.6290672451193059,
          0.6996197718631179,
          0.7424892703862661,
          0.7485604606525912,
          0.7956204379562044,
          0.7722222222222223,
          0.6907020872865275,
          0.9868421052631579,
          0.9888268156424581,
          1.018450184501845,
          null,
          null,
          null,
          1.205435365635616,
          1.2056737588652482,
          1.4007029876977153,
          1.6533101045296168,
          1.6390328151986182,
          1.3647260273972603,
          null,
          null,
          null,
          null,
          null,
          null,
          null,
          null,
          null,
          null
         ],
         "yaxis": "y"
        },
        {
         "connectgaps": false,
         "hovertemplate": "fnid=MG2009A20607<br>indicator=production<br>year=%{x}<br>value=%{y}<extra></extra>",
         "legendgroup": "MG2009A20607",
         "line": {
          "color": "#636efa",
          "dash": "solid"
         },
         "marker": {
          "symbol": "circle"
         },
         "mode": "markers+lines",
         "name": "MG2009A20607",
         "showlegend": true,
         "type": "scattergl",
         "x": [
          1990,
          1991,
          1992,
          1993,
          1994,
          1995,
          1996,
          1997,
          1998,
          1999,
          2000,
          2001,
          2002,
          2003,
          2004,
          2005,
          2006,
          2007,
          2008,
          2009,
          2010,
          2011,
          2012,
          2013,
          2014,
          2015,
          2016,
          2017,
          2018,
          2019,
          2020
         ],
         "xaxis": "x3",
         "y": [
          5837,
          5648,
          4984,
          6330,
          5935,
          6530,
          6525,
          6815,
          5940,
          9910,
          9695,
          9750,
          8990,
          34571,
          33969,
          65466,
          66040,
          77410,
          92120,
          92120,
          77410,
          null,
          82725.63456264,
          20681.40864066,
          7367.02006011,
          5373.90574317,
          2502.44949093,
          1903.91512316,
          475.97878079,
          337.99253224,
          442.70786401
         ],
         "yaxis": "y3"
        },
        {
         "connectgaps": false,
         "hovertemplate": "fnid=MG2009A20607<br>indicator=area<br>year=%{x}<br>value=%{y}<extra></extra>",
         "legendgroup": "MG2009A20607",
         "line": {
          "color": "#636efa",
          "dash": "solid"
         },
         "marker": {
          "symbol": "circle"
         },
         "mode": "markers+lines",
         "name": "MG2009A20607",
         "showlegend": false,
         "type": "scattergl",
         "x": [
          1990,
          1991,
          1992,
          1993,
          1994,
          1995,
          1996,
          1997,
          1998,
          1999,
          2000,
          2001,
          2002,
          2003,
          2004,
          2005,
          2006,
          2007,
          2008,
          2009,
          2010,
          2011,
          2012,
          2013,
          2014,
          2015,
          2016,
          2017,
          2018,
          2019,
          2020
         ],
         "xaxis": "x2",
         "y": [
          7394,
          8778,
          8563,
          9792,
          8630,
          9650,
          10195,
          9980,
          9760,
          9960,
          10105,
          10250,
          null,
          null,
          null,
          34463,
          34767,
          35075,
          35397,
          35715,
          36035,
          null,
          null,
          null,
          null,
          null,
          null,
          null,
          null,
          null,
          null
         ],
         "yaxis": "y2"
        },
        {
         "connectgaps": false,
         "hovertemplate": "fnid=MG2009A20607<br>indicator=yield<br>year=%{x}<br>value=%{y}<extra></extra>",
         "legendgroup": "MG2009A20607",
         "line": {
          "color": "#636efa",
          "dash": "solid"
         },
         "marker": {
          "symbol": "circle"
         },
         "mode": "markers+lines",
         "name": "MG2009A20607",
         "showlegend": false,
         "type": "scattergl",
         "x": [
          1990,
          1991,
          1992,
          1993,
          1994,
          1995,
          1996,
          1997,
          1998,
          1999,
          2000,
          2001,
          2002,
          2003,
          2004,
          2005,
          2006,
          2007,
          2008,
          2009,
          2010,
          2011,
          2012,
          2013,
          2014,
          2015,
          2016,
          2017,
          2018,
          2019,
          2020
         ],
         "xaxis": "x",
         "y": [
          0.7894238571814985,
          0.6434267486899066,
          0.5820390050216045,
          0.6464460784313726,
          0.6877172653534183,
          0.6766839378238342,
          0.640019617459539,
          0.6828657314629258,
          0.6086065573770492,
          0.9949799196787149,
          0.9594260267194458,
          0.9512195121951219,
          null,
          null,
          null,
          1.89960247221658,
          1.8995024017027642,
          2.206985032074127,
          2.6024804361951577,
          2.5793084138317233,
          2.148189260441238,
          null,
          null,
          null,
          null,
          null,
          null,
          null,
          null,
          null,
          null
         ],
         "yaxis": "y"
        },
        {
         "connectgaps": false,
         "hovertemplate": "fnid=MG2009A20618<br>indicator=production<br>year=%{x}<br>value=%{y}<extra></extra>",
         "legendgroup": "MG2009A20618",
         "line": {
          "color": "#EF553B",
          "dash": "solid"
         },
         "marker": {
          "symbol": "circle"
         },
         "mode": "markers+lines",
         "name": "MG2009A20618",
         "showlegend": true,
         "type": "scattergl",
         "x": [
          1990,
          1991,
          1992,
          1993,
          1994,
          1995,
          1996,
          1997,
          1998,
          1999,
          2000,
          2001,
          2002,
          2003,
          2004,
          2005,
          2006,
          2007,
          2008,
          2009,
          2010,
          2011,
          2012,
          2013,
          2014,
          2015,
          2016,
          2017,
          2018,
          2019,
          2020
         ],
         "xaxis": "x3",
         "y": [
          2299,
          2226,
          1964,
          2490,
          2680,
          2910,
          3225,
          3080,
          2675,
          4050,
          4200,
          4250,
          4185,
          13834,
          13575,
          18277,
          18440,
          21610,
          25720,
          25720,
          21610,
          null,
          21647.3971272,
          20737.57898708,
          15262.70389133,
          11284.39869785,
          4928.0255535,
          3644.42914401,
          3000,
          3700,
          3626
         ],
         "yaxis": "y3"
        },
        {
         "connectgaps": false,
         "hovertemplate": "fnid=MG2009A20618<br>indicator=area<br>year=%{x}<br>value=%{y}<extra></extra>",
         "legendgroup": "MG2009A20618",
         "line": {
          "color": "#EF553B",
          "dash": "solid"
         },
         "marker": {
          "symbol": "circle"
         },
         "mode": "markers+lines",
         "name": "MG2009A20618",
         "showlegend": false,
         "type": "scattergl",
         "x": [
          1990,
          1991,
          1992,
          1993,
          1994,
          1995,
          1996,
          1997,
          1998,
          1999,
          2000,
          2001,
          2002,
          2003,
          2004,
          2005,
          2006,
          2007,
          2008,
          2009,
          2010,
          2011,
          2012,
          2013,
          2014,
          2015,
          2016,
          2017,
          2018,
          2019,
          2020
         ],
         "xaxis": "x2",
         "y": [
          2452,
          3227,
          3029,
          3556,
          3500,
          3920,
          4115,
          4045,
          3970,
          4115,
          4185,
          4260,
          null,
          null,
          null,
          16110,
          16250,
          16400,
          16550,
          16700,
          16851,
          null,
          null,
          null,
          null,
          null,
          null,
          null,
          null,
          null,
          null
         ],
         "yaxis": "y2"
        },
        {
         "connectgaps": false,
         "hovertemplate": "fnid=MG2009A20618<br>indicator=yield<br>year=%{x}<br>value=%{y}<extra></extra>",
         "legendgroup": "MG2009A20618",
         "line": {
          "color": "#EF553B",
          "dash": "solid"
         },
         "marker": {
          "symbol": "circle"
         },
         "mode": "markers+lines",
         "name": "MG2009A20618",
         "showlegend": false,
         "type": "scattergl",
         "x": [
          1990,
          1991,
          1992,
          1993,
          1994,
          1995,
          1996,
          1997,
          1998,
          1999,
          2000,
          2001,
          2002,
          2003,
          2004,
          2005,
          2006,
          2007,
          2008,
          2009,
          2010,
          2011,
          2012,
          2013,
          2014,
          2015,
          2016,
          2017,
          2018,
          2019,
          2020
         ],
         "xaxis": "x",
         "y": [
          0.9376019575856444,
          0.6898047722342733,
          0.6483988114889403,
          0.7002249718785152,
          0.7657142857142857,
          0.7423469387755102,
          0.7837181044957473,
          0.761433868974042,
          0.6738035264483627,
          0.9842041312272175,
          1.003584229390681,
          0.9976525821596244,
          null,
          null,
          null,
          1.1345127250155183,
          1.1347692307692308,
          1.3176829268292682,
          1.5540785498489427,
          1.540119760479042,
          1.2824164737997745,
          null,
          null,
          null,
          null,
          null,
          null,
          null,
          null,
          null,
          null
         ],
         "yaxis": "y"
        }
       ],
       "layout": {
        "annotations": [
         {
          "showarrow": false,
          "text": "",
          "textangle": 90,
          "x": 0.98,
          "xanchor": "left",
          "xref": "paper",
          "y": 0.16333333333333333,
          "yanchor": "middle",
          "yref": "paper"
         },
         {
          "showarrow": false,
          "text": "",
          "textangle": 90,
          "x": 0.98,
          "xanchor": "left",
          "xref": "paper",
          "y": 0.5,
          "yanchor": "middle",
          "yref": "paper"
         },
         {
          "showarrow": false,
          "text": "",
          "textangle": 90,
          "x": 0.98,
          "xanchor": "left",
          "xref": "paper",
          "y": 0.8366666666666667,
          "yanchor": "middle",
          "yref": "paper"
         },
         {
          "align": "left",
          "font": {
           "color": "dimgrey",
           "family": "arial",
           "size": 15
          },
          "showarrow": false,
          "text": "Production-Area-Yield (PAY) time-series of MG - Maize - Annual",
          "x": -0.014,
          "xref": "paper",
          "y": -0.14,
          "yref": "paper"
         }
        ],
        "font": {
         "color": "black",
         "family": "arial",
         "size": 16
        },
        "height": 600,
        "legend": {
         "font": {
          "size": 14
         },
         "title": {
          "text": "FNID"
         },
         "tracegroupgap": 0,
         "x": 1,
         "xanchor": "left",
         "y": 1,
         "yanchor": "top"
        },
        "margin": {
         "b": 25,
         "l": 0,
         "r": 0,
         "t": 0
        },
        "template": {
         "data": {
          "bar": [
           {
            "error_x": {
             "color": "#2a3f5f"
            },
            "error_y": {
             "color": "#2a3f5f"
            },
            "marker": {
             "line": {
              "color": "#E5ECF6",
              "width": 0.5
             },
             "pattern": {
              "fillmode": "overlay",
              "size": 10,
              "solidity": 0.2
             }
            },
            "type": "bar"
           }
          ],
          "barpolar": [
           {
            "marker": {
             "line": {
              "color": "#E5ECF6",
              "width": 0.5
             },
             "pattern": {
              "fillmode": "overlay",
              "size": 10,
              "solidity": 0.2
             }
            },
            "type": "barpolar"
           }
          ],
          "carpet": [
           {
            "aaxis": {
             "endlinecolor": "#2a3f5f",
             "gridcolor": "white",
             "linecolor": "white",
             "minorgridcolor": "white",
             "startlinecolor": "#2a3f5f"
            },
            "baxis": {
             "endlinecolor": "#2a3f5f",
             "gridcolor": "white",
             "linecolor": "white",
             "minorgridcolor": "white",
             "startlinecolor": "#2a3f5f"
            },
            "type": "carpet"
           }
          ],
          "choropleth": [
           {
            "colorbar": {
             "outlinewidth": 0,
             "ticks": ""
            },
            "type": "choropleth"
           }
          ],
          "contour": [
           {
            "colorbar": {
             "outlinewidth": 0,
             "ticks": ""
            },
            "colorscale": [
             [
              0,
              "#0d0887"
             ],
             [
              0.1111111111111111,
              "#46039f"
             ],
             [
              0.2222222222222222,
              "#7201a8"
             ],
             [
              0.3333333333333333,
              "#9c179e"
             ],
             [
              0.4444444444444444,
              "#bd3786"
             ],
             [
              0.5555555555555556,
              "#d8576b"
             ],
             [
              0.6666666666666666,
              "#ed7953"
             ],
             [
              0.7777777777777778,
              "#fb9f3a"
             ],
             [
              0.8888888888888888,
              "#fdca26"
             ],
             [
              1,
              "#f0f921"
             ]
            ],
            "type": "contour"
           }
          ],
          "contourcarpet": [
           {
            "colorbar": {
             "outlinewidth": 0,
             "ticks": ""
            },
            "type": "contourcarpet"
           }
          ],
          "heatmap": [
           {
            "colorbar": {
             "outlinewidth": 0,
             "ticks": ""
            },
            "colorscale": [
             [
              0,
              "#0d0887"
             ],
             [
              0.1111111111111111,
              "#46039f"
             ],
             [
              0.2222222222222222,
              "#7201a8"
             ],
             [
              0.3333333333333333,
              "#9c179e"
             ],
             [
              0.4444444444444444,
              "#bd3786"
             ],
             [
              0.5555555555555556,
              "#d8576b"
             ],
             [
              0.6666666666666666,
              "#ed7953"
             ],
             [
              0.7777777777777778,
              "#fb9f3a"
             ],
             [
              0.8888888888888888,
              "#fdca26"
             ],
             [
              1,
              "#f0f921"
             ]
            ],
            "type": "heatmap"
           }
          ],
          "heatmapgl": [
           {
            "colorbar": {
             "outlinewidth": 0,
             "ticks": ""
            },
            "colorscale": [
             [
              0,
              "#0d0887"
             ],
             [
              0.1111111111111111,
              "#46039f"
             ],
             [
              0.2222222222222222,
              "#7201a8"
             ],
             [
              0.3333333333333333,
              "#9c179e"
             ],
             [
              0.4444444444444444,
              "#bd3786"
             ],
             [
              0.5555555555555556,
              "#d8576b"
             ],
             [
              0.6666666666666666,
              "#ed7953"
             ],
             [
              0.7777777777777778,
              "#fb9f3a"
             ],
             [
              0.8888888888888888,
              "#fdca26"
             ],
             [
              1,
              "#f0f921"
             ]
            ],
            "type": "heatmapgl"
           }
          ],
          "histogram": [
           {
            "marker": {
             "pattern": {
              "fillmode": "overlay",
              "size": 10,
              "solidity": 0.2
             }
            },
            "type": "histogram"
           }
          ],
          "histogram2d": [
           {
            "colorbar": {
             "outlinewidth": 0,
             "ticks": ""
            },
            "colorscale": [
             [
              0,
              "#0d0887"
             ],
             [
              0.1111111111111111,
              "#46039f"
             ],
             [
              0.2222222222222222,
              "#7201a8"
             ],
             [
              0.3333333333333333,
              "#9c179e"
             ],
             [
              0.4444444444444444,
              "#bd3786"
             ],
             [
              0.5555555555555556,
              "#d8576b"
             ],
             [
              0.6666666666666666,
              "#ed7953"
             ],
             [
              0.7777777777777778,
              "#fb9f3a"
             ],
             [
              0.8888888888888888,
              "#fdca26"
             ],
             [
              1,
              "#f0f921"
             ]
            ],
            "type": "histogram2d"
           }
          ],
          "histogram2dcontour": [
           {
            "colorbar": {
             "outlinewidth": 0,
             "ticks": ""
            },
            "colorscale": [
             [
              0,
              "#0d0887"
             ],
             [
              0.1111111111111111,
              "#46039f"
             ],
             [
              0.2222222222222222,
              "#7201a8"
             ],
             [
              0.3333333333333333,
              "#9c179e"
             ],
             [
              0.4444444444444444,
              "#bd3786"
             ],
             [
              0.5555555555555556,
              "#d8576b"
             ],
             [
              0.6666666666666666,
              "#ed7953"
             ],
             [
              0.7777777777777778,
              "#fb9f3a"
             ],
             [
              0.8888888888888888,
              "#fdca26"
             ],
             [
              1,
              "#f0f921"
             ]
            ],
            "type": "histogram2dcontour"
           }
          ],
          "mesh3d": [
           {
            "colorbar": {
             "outlinewidth": 0,
             "ticks": ""
            },
            "type": "mesh3d"
           }
          ],
          "parcoords": [
           {
            "line": {
             "colorbar": {
              "outlinewidth": 0,
              "ticks": ""
             }
            },
            "type": "parcoords"
           }
          ],
          "pie": [
           {
            "automargin": true,
            "type": "pie"
           }
          ],
          "scatter": [
           {
            "fillpattern": {
             "fillmode": "overlay",
             "size": 10,
             "solidity": 0.2
            },
            "type": "scatter"
           }
          ],
          "scatter3d": [
           {
            "line": {
             "colorbar": {
              "outlinewidth": 0,
              "ticks": ""
             }
            },
            "marker": {
             "colorbar": {
              "outlinewidth": 0,
              "ticks": ""
             }
            },
            "type": "scatter3d"
           }
          ],
          "scattercarpet": [
           {
            "marker": {
             "colorbar": {
              "outlinewidth": 0,
              "ticks": ""
             }
            },
            "type": "scattercarpet"
           }
          ],
          "scattergeo": [
           {
            "marker": {
             "colorbar": {
              "outlinewidth": 0,
              "ticks": ""
             }
            },
            "type": "scattergeo"
           }
          ],
          "scattergl": [
           {
            "marker": {
             "colorbar": {
              "outlinewidth": 0,
              "ticks": ""
             }
            },
            "type": "scattergl"
           }
          ],
          "scattermapbox": [
           {
            "marker": {
             "colorbar": {
              "outlinewidth": 0,
              "ticks": ""
             }
            },
            "type": "scattermapbox"
           }
          ],
          "scatterpolar": [
           {
            "marker": {
             "colorbar": {
              "outlinewidth": 0,
              "ticks": ""
             }
            },
            "type": "scatterpolar"
           }
          ],
          "scatterpolargl": [
           {
            "marker": {
             "colorbar": {
              "outlinewidth": 0,
              "ticks": ""
             }
            },
            "type": "scatterpolargl"
           }
          ],
          "scatterternary": [
           {
            "marker": {
             "colorbar": {
              "outlinewidth": 0,
              "ticks": ""
             }
            },
            "type": "scatterternary"
           }
          ],
          "surface": [
           {
            "colorbar": {
             "outlinewidth": 0,
             "ticks": ""
            },
            "colorscale": [
             [
              0,
              "#0d0887"
             ],
             [
              0.1111111111111111,
              "#46039f"
             ],
             [
              0.2222222222222222,
              "#7201a8"
             ],
             [
              0.3333333333333333,
              "#9c179e"
             ],
             [
              0.4444444444444444,
              "#bd3786"
             ],
             [
              0.5555555555555556,
              "#d8576b"
             ],
             [
              0.6666666666666666,
              "#ed7953"
             ],
             [
              0.7777777777777778,
              "#fb9f3a"
             ],
             [
              0.8888888888888888,
              "#fdca26"
             ],
             [
              1,
              "#f0f921"
             ]
            ],
            "type": "surface"
           }
          ],
          "table": [
           {
            "cells": {
             "fill": {
              "color": "#EBF0F8"
             },
             "line": {
              "color": "white"
             }
            },
            "header": {
             "fill": {
              "color": "#C8D4E3"
             },
             "line": {
              "color": "white"
             }
            },
            "type": "table"
           }
          ]
         },
         "layout": {
          "annotationdefaults": {
           "arrowcolor": "#2a3f5f",
           "arrowhead": 0,
           "arrowwidth": 1
          },
          "autotypenumbers": "strict",
          "coloraxis": {
           "colorbar": {
            "outlinewidth": 0,
            "ticks": ""
           }
          },
          "colorscale": {
           "diverging": [
            [
             0,
             "#8e0152"
            ],
            [
             0.1,
             "#c51b7d"
            ],
            [
             0.2,
             "#de77ae"
            ],
            [
             0.3,
             "#f1b6da"
            ],
            [
             0.4,
             "#fde0ef"
            ],
            [
             0.5,
             "#f7f7f7"
            ],
            [
             0.6,
             "#e6f5d0"
            ],
            [
             0.7,
             "#b8e186"
            ],
            [
             0.8,
             "#7fbc41"
            ],
            [
             0.9,
             "#4d9221"
            ],
            [
             1,
             "#276419"
            ]
           ],
           "sequential": [
            [
             0,
             "#0d0887"
            ],
            [
             0.1111111111111111,
             "#46039f"
            ],
            [
             0.2222222222222222,
             "#7201a8"
            ],
            [
             0.3333333333333333,
             "#9c179e"
            ],
            [
             0.4444444444444444,
             "#bd3786"
            ],
            [
             0.5555555555555556,
             "#d8576b"
            ],
            [
             0.6666666666666666,
             "#ed7953"
            ],
            [
             0.7777777777777778,
             "#fb9f3a"
            ],
            [
             0.8888888888888888,
             "#fdca26"
            ],
            [
             1,
             "#f0f921"
            ]
           ],
           "sequentialminus": [
            [
             0,
             "#0d0887"
            ],
            [
             0.1111111111111111,
             "#46039f"
            ],
            [
             0.2222222222222222,
             "#7201a8"
            ],
            [
             0.3333333333333333,
             "#9c179e"
            ],
            [
             0.4444444444444444,
             "#bd3786"
            ],
            [
             0.5555555555555556,
             "#d8576b"
            ],
            [
             0.6666666666666666,
             "#ed7953"
            ],
            [
             0.7777777777777778,
             "#fb9f3a"
            ],
            [
             0.8888888888888888,
             "#fdca26"
            ],
            [
             1,
             "#f0f921"
            ]
           ]
          },
          "colorway": [
           "#636efa",
           "#EF553B",
           "#00cc96",
           "#ab63fa",
           "#FFA15A",
           "#19d3f3",
           "#FF6692",
           "#B6E880",
           "#FF97FF",
           "#FECB52"
          ],
          "font": {
           "color": "#2a3f5f"
          },
          "geo": {
           "bgcolor": "white",
           "lakecolor": "white",
           "landcolor": "#E5ECF6",
           "showlakes": true,
           "showland": true,
           "subunitcolor": "white"
          },
          "hoverlabel": {
           "align": "left"
          },
          "hovermode": "closest",
          "mapbox": {
           "style": "light"
          },
          "paper_bgcolor": "white",
          "plot_bgcolor": "#E5ECF6",
          "polar": {
           "angularaxis": {
            "gridcolor": "white",
            "linecolor": "white",
            "ticks": ""
           },
           "bgcolor": "#E5ECF6",
           "radialaxis": {
            "gridcolor": "white",
            "linecolor": "white",
            "ticks": ""
           }
          },
          "scene": {
           "xaxis": {
            "backgroundcolor": "#E5ECF6",
            "gridcolor": "white",
            "gridwidth": 2,
            "linecolor": "white",
            "showbackground": true,
            "ticks": "",
            "zerolinecolor": "white"
           },
           "yaxis": {
            "backgroundcolor": "#E5ECF6",
            "gridcolor": "white",
            "gridwidth": 2,
            "linecolor": "white",
            "showbackground": true,
            "ticks": "",
            "zerolinecolor": "white"
           },
           "zaxis": {
            "backgroundcolor": "#E5ECF6",
            "gridcolor": "white",
            "gridwidth": 2,
            "linecolor": "white",
            "showbackground": true,
            "ticks": "",
            "zerolinecolor": "white"
           }
          },
          "shapedefaults": {
           "line": {
            "color": "#2a3f5f"
           }
          },
          "ternary": {
           "aaxis": {
            "gridcolor": "white",
            "linecolor": "white",
            "ticks": ""
           },
           "baxis": {
            "gridcolor": "white",
            "linecolor": "white",
            "ticks": ""
           },
           "bgcolor": "#E5ECF6",
           "caxis": {
            "gridcolor": "white",
            "linecolor": "white",
            "ticks": ""
           }
          },
          "title": {
           "x": 0.05
          },
          "xaxis": {
           "automargin": true,
           "gridcolor": "white",
           "linecolor": "white",
           "ticks": "",
           "title": {
            "standoff": 15
           },
           "zerolinecolor": "white",
           "zerolinewidth": 2
          },
          "yaxis": {
           "automargin": true,
           "gridcolor": "white",
           "linecolor": "white",
           "ticks": "",
           "title": {
            "standoff": 15
           },
           "zerolinecolor": "white",
           "zerolinewidth": 2
          }
         }
        },
        "width": 900,
        "xaxis": {
         "anchor": "y",
         "domain": [
          0,
          0.98
         ],
         "dtick": 1,
         "range": [
          1990,
          2020
         ],
         "title": {
          "text": ""
         }
        },
        "xaxis2": {
         "anchor": "y2",
         "domain": [
          0,
          0.98
         ],
         "dtick": 1,
         "matches": "x",
         "showticklabels": false
        },
        "xaxis3": {
         "anchor": "y3",
         "domain": [
          0,
          0.98
         ],
         "dtick": 1,
         "matches": "x",
         "showticklabels": false
        },
        "yaxis": {
         "anchor": "x",
         "domain": [
          0,
          0.32666666666666666
         ],
         "title": {
          "text": "Yield (mt/ha)"
         }
        },
        "yaxis2": {
         "anchor": "x2",
         "domain": [
          0.33666666666666667,
          0.6633333333333333
         ],
         "title": {
          "text": "Area (ha)"
         }
        },
        "yaxis3": {
         "anchor": "x3",
         "domain": [
          0.6733333333333333,
          1
         ],
         "title": {
          "text": "Production (mt)"
         }
        }
       }
      }
     },
     "metadata": {},
     "output_type": "display_data"
    }
   ],
   "source": [
    "# Lineplot of Production-Area-Yield (PAY) time-series\n",
    "country_iso, country_name = 'MG', 'Madagascar'\n",
    "df = pd.read_hdf('../data/crop/adm_crop_production_%s.hdf' % country_iso)\n",
    "df = df[df['gscd_code']=='calibrated']; df['year'] = df['harvest_year']\n",
    "year = [df['year'].min(), df['year'].max()]\n",
    "product_season = [\n",
    "    ['Rice','Annual'],\n",
    "    ['Maize','Annual'],\n",
    "]\n",
    "for product_name, season_name in product_season:\n",
    "    footnote = 'Production-Area-Yield (PAY) time-series of %s - %s - %s' % (country_iso, product_name, season_name)\n",
    "    fn_save = '../figures/%s_line_pay_%s_%s.png' % (country_iso, product_name, season_name)\n",
    "    sub = df[(df['product'] == product_name) & (df['season_name'] == season_name)]\n",
    "    fig = PlotLinePAY(sub, year, footnote, fn_save)\n",
    "    fig.show()"
   ]
  }
 ],
 "metadata": {
  "kernelspec": {
   "display_name": "Python 3 (ipykernel)",
   "language": "python",
   "name": "python3"
  },
  "language_info": {
   "codemirror_mode": {
    "name": "ipython",
    "version": 3
   },
   "file_extension": ".py",
   "mimetype": "text/x-python",
   "name": "python",
   "nbconvert_exporter": "python",
   "pygments_lexer": "ipython3",
   "version": "3.10.10"
  }
 },
 "nbformat": 4,
 "nbformat_minor": 5
}
