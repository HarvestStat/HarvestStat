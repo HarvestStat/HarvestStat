{
 "cells": [
  {
   "cell_type": "markdown",
   "id": "5a54535d-4fd0-4290-a987-d6baff7aa821",
   "metadata": {},
   "source": [
    "# HarvestStat Data Profiling - Uganda"
   ]
  },
  {
   "cell_type": "code",
   "execution_count": 1,
   "id": "423b4763-5783-4282-ba84-d8ae8ba04fb5",
   "metadata": {},
   "outputs": [],
   "source": [
    "import glob, json\n",
    "import warnings\n",
    "warnings.simplefilter(action='ignore', category=FutureWarning)\n",
    "import requests\n",
    "import numpy as np\n",
    "import pandas as pd\n",
    "import geopandas as gpd\n",
    "from tools import save_npz, PrintAdminUnits, PlotAdminShapes\n",
    "from tools import FDW_PD_Sweeper, FDW_PD_AvalTable, FDW_PD_Compiling, FDW_PD_ValidateFnidName\n",
    "from tools import FDW_PD_CreateAdminLink, FDW_PD_RatioAdminLink, FDW_PD_ConnectAdminLink\n",
    "from tools import FDW_PD_CaliSeasonYear\n",
    "from tools_graphic import PlotBarProduction, PlotLinePAY\n",
    "warnings.simplefilter(action='ignore', category=pd.errors.PerformanceWarning)\n",
    "pd.options.mode.chained_assignment = None"
   ]
  },
  {
   "cell_type": "code",
   "execution_count": 2,
   "id": "90cf5a64",
   "metadata": {},
   "outputs": [
    {
     "name": "stdout",
     "output_type": "stream",
     "text": [
      "- FEWS NET admin shapefiles ------------------- #\n",
      "| year\t | Admin1   | # units   | Admin2   | # units   | Admin3   | # units   |\n",
      "| 1990\t | UG1990A1 | 4\t| UG1990A2\t| 34\t| nan\t| 0\t|\n",
      "| 1991\t | UG1991A1 | 4\t| UG1991A2\t| 38\t| nan\t| 0\t|\n",
      "| 1994\t | UG1994A1 | 4\t| UG1994A2\t| 39\t| nan\t| 0\t|\n",
      "| 1997\t | UG1997A1 | 4\t| UG1997A2\t| 45\t| nan\t| 0\t|\n",
      "| 2001\t | UG2001A1 | 4\t| UG2001A2\t| 56\t| nan\t| 0\t|\n",
      "| 2005\t | UG2005A1 | 4\t| UG2005A2\t| 69\t| nan\t| 0\t|\n",
      "| 2007\t | UG2007A1 | 4\t| UG2007A2\t| 80\t| nan\t| 0\t|\n",
      "| 2010\t | UG2010A1 | 4\t| UG2010A2\t| 112\t| nan\t| 0\t|\n",
      "| 2014\t | UG2014A1 | 4\t| UG2014A2\t| 112\t| nan\t| 0\t|\n",
      "| 2021\t | UG2021A1 | 4\t| UG2021A2\t| 135\t| nan\t| 0\t|\n",
      "----------------------------------------------- #\n",
      "          status collection_status data_usage_policy  count\n",
      "0      Collected         Published            Public   6799\n",
      "1  Not Collected         Published            Public   2725\n"
     ]
    }
   ],
   "source": [
    "# Load FEWS NET administrative boundaries ------- #\n",
    "epsg = 'epsg:32736' # Uganda\n",
    "fn_shapes = sorted(glob.glob('../data/shapefile/fewsnet/UG_Admin?_????.shp'))\n",
    "shape_all = []\n",
    "for fn in fn_shapes:\n",
    "    name = fn[-18:-4]\n",
    "    exec('%s = gpd.read_file(\"%s\").to_crs(\"%s\")' % (name, fn, epsg))\n",
    "    exec('%s[\"area\"] = %s[\"geometry\"].area/10**6' % (name, name))\n",
    "    exec('shape_all.append(%s)' % (name))\n",
    "shape_all = pd.concat(shape_all, axis=0).reset_index(drop=True)\n",
    "PrintAdminUnits(shape_all)\n",
    "# ----------------------------------------------- #\n",
    "\n",
    "# FDW API host address -------------------------- #\n",
    "host = 'https://fdw.fews.net'\n",
    "auth = tuple(json.loads(open('token.json', \"r\").read()))\n",
    "parameters = {\n",
    "    'format': 'json',\n",
    "    'country': 'Uganda',\n",
    "    'product': ['R011','R012','R013','R014','R015','R017','R018'],\n",
    "    'survey_type': 'crop:best'\n",
    "}\n",
    "endpoint = '/api/cropproductionindicatorvalue/'\n",
    "response = requests.get(host + endpoint, auth=auth, params=parameters, proxies={})\n",
    "response.raise_for_status()\n",
    "df = pd.DataFrame.from_records(response.json())\n",
    "print(df.groupby(['status','collection_status','data_usage_policy']).size().reset_index(name='count'))\n",
    "# ----------------------------------------------- #"
   ]
  },
  {
   "cell_type": "code",
   "execution_count": 6,
   "id": "df08185a",
   "metadata": {},
   "outputs": [
    {
     "data": {
      "text/plain": [
       "array(['First harvest 2009', 'Second harvest 2008', 'Annual harvest 2008',\n",
       "       'Annual harvest 2009', 'Second harvest 1991',\n",
       "       'Annual harvest 1991', 'First harvest 1990'], dtype=object)"
      ]
     },
     "execution_count": 6,
     "metadata": {},
     "output_type": "execute_result"
    }
   ],
   "source": [
    "df['season_year'].unique()"
   ]
  },
  {
   "cell_type": "code",
   "execution_count": 5,
   "id": "37ef2fba",
   "metadata": {},
   "outputs": [
    {
     "data": {
      "text/plain": [
       "array(['UG2007A20106', 'UG2007A20108', 'UG2007A20109', 'UG2007A20112',\n",
       "       'UG2007A20114', 'UG2007A20116', 'UG2007A20118', 'UG2007A20120',\n",
       "       'UG2007A20121', 'UG2007A20122', 'UG2007A20123', 'UG2007A20124',\n",
       "       'UG2007A20125', 'UG2007A20126', 'UG2007A20127', 'UG2007A20128',\n",
       "       'UG2007A20201', 'UG2007A20202', 'UG2007A20203', 'UG2007A20205',\n",
       "       'UG2007A20206', 'UG2007A20208', 'UG2007A20209', 'UG2007A20212',\n",
       "       'UG2007A20213', 'UG2007A20214', 'UG2007A20217', 'UG2007A20222',\n",
       "       'UG2007A20223', 'UG2007A20224', 'UG2007A20226', 'UG2007A20232',\n",
       "       'UG2007A20233', 'UG2007A20234', 'UG2007A20235', 'UG2007A20236',\n",
       "       'UG2007A20237', 'UG2007A20238', 'UG2007A20239', 'UG2007A20240',\n",
       "       'UG2007A20301', 'UG2007A20302', 'UG2007A20305', 'UG2007A20309',\n",
       "       'UG2007A20310', 'UG2007A20311', 'UG2007A20312', 'UG2007A20314',\n",
       "       'UG2007A20316', 'UG2007A20321', 'UG2007A20327', 'UG2007A20329',\n",
       "       'UG2007A20331', 'UG2007A20332', 'UG2007A20333', 'UG2007A20334',\n",
       "       'UG2007A20335', 'UG2007A20336', 'UG2007A20337', 'UG2007A20338',\n",
       "       'UG2007A20339', 'UG2007A20402', 'UG2007A20405', 'UG2007A20406',\n",
       "       'UG2007A20407', 'UG2007A20408', 'UG2007A20409', 'UG2007A20410',\n",
       "       'UG2007A20411', 'UG2007A20412', 'UG2007A20413', 'UG2007A20414',\n",
       "       'UG2007A20416', 'UG2007A20420', 'UG2007A20423', 'UG2007A20425',\n",
       "       'UG2007A20427', 'UG2007A20428', 'UG2007A20429', 'UG2007A20430',\n",
       "       'UG1990A20103', 'UG1990A20104', 'UG1990A20105', 'UG1990A20106',\n",
       "       'UG1990A20107', 'UG1990A20108', 'UG1990A20201', 'UG1990A20202',\n",
       "       'UG1990A20203', 'UG1990A20204', 'UG1990A20206', 'UG1990A20208',\n",
       "       'UG1990A20301', 'UG1990A20302', 'UG1990A20306', 'UG1990A20308',\n",
       "       'UG1990A20309', 'UG1990A20401', 'UG1990A20402', 'UG1990A20403',\n",
       "       'UG1990A20404', 'UG1990A20405', 'UG1990A20406', 'UG1990A20407',\n",
       "       'UG1990A20408', 'UG1990A20409'], dtype=object)"
      ]
     },
     "execution_count": 5,
     "metadata": {},
     "output_type": "execute_result"
    }
   ],
   "source": [
    "df['fnid'].unique()"
   ]
  },
  {
   "cell_type": "code",
   "execution_count": 2,
   "id": "1546e288-588d-4af4-be71-c096579f7737",
   "metadata": {},
   "outputs": [
    {
     "name": "stdout",
     "output_type": "stream",
     "text": [
      "- FEWS NET admin shapefiles ------------------- #\n",
      "| year\t | Admin1   | # units   | Admin2   | # units   |\n",
      "| 1990\t | UG1990A1 | 4\t| UG1990A2\t| 34\t|\n",
      "| 1991\t | UG1991A1 | 4\t| UG1991A2\t| 38\t|\n",
      "| 1994\t | UG1994A1 | 4\t| UG1994A2\t| 39\t|\n",
      "| 1997\t | UG1997A1 | 4\t| UG1997A2\t| 45\t|\n",
      "| 2001\t | UG2001A1 | 4\t| UG2001A2\t| 56\t|\n",
      "| 2005\t | UG2005A1 | 4\t| UG2005A2\t| 69\t|\n",
      "| 2007\t | UG2007A1 | 4\t| UG2007A2\t| 80\t|\n",
      "| 2010\t | UG2010A1 | 4\t| UG2010A2\t| 112\t|\n",
      "| 2014\t | UG2014A1 | 4\t| UG2014A2\t| 112\t|\n",
      "| 2021\t | UG2021A1 | 4\t| UG2021A2\t| 135\t|\n",
      "----------------------------------------------- #\n",
      "- Remove missing records ---------------------- #\n",
      "Orignial data points: 2,772\n",
      "Removed 743 \"Not Collected\" points\n",
      "0/693 \"Area Harvested\" points are retained.\n",
      "686/693 \"Area Planted\" points are retained.\n",
      "674/693 \"Quantity Produced\" points are retained.\n",
      "669/693 \"Yield\" points are retained.\n",
      "Current data points: 2,029\n",
      "\n",
      "- Minor changes are applied.. ----------------- #\n",
      "\n",
      "- Basic information --------------------------- #\n",
      "Data period: 1990 - 2009\n",
      "4 grain types are found: Maize Grain (White), Millet (Finger), Rice (Paddy), Sorghum\n",
      "3 seasons are found: First harvest (01-01), Second harvest (07-01), Annual harvest (01-01)\n",
      "1 crop production system are found: none\n",
      "Data sources include:\n",
      "[1] Bureau of Statistics, Uganda --- Census of Agriculture and Livestock, Uganda\n",
      "[2] Ministry of Agriculture, Animal Industry and Fisheries, Uganda --- Census of Agriculture and Livestock, Uganda\n",
      "Administrative-1 fnids: 0\n",
      "Administrative-2 fnids: 106\n",
      "0 reporting units are found: \n",
      "\n",
      "- Stop process is triggerd -------------------- #\n",
      "indicator            Area Harvested  Area Planted  Quantity Produced  Yield\n",
      "season_year                                                                \n",
      "Annual harvest 1991               0             5                  5      5\n",
      "First harvest 1990                0            72                 72     73\n",
      "First harvest 2009                0           261                254    249\n",
      "Second harvest 1991               0            73                 73     73\n",
      "Second harvest 2008               0           275                270    269\n",
      "Total                             0           686                674    669\n",
      "\n",
      "indicator  Area Harvested  Area Planted  Quantity Produced  Yield\n",
      "level                                                            \n",
      "UG1990A2                0           150                150    151\n",
      "UG2007A2                0           536                524    518\n",
      "Total                   0           686                674    669\n",
      "----------------------------------------------- #\n"
     ]
    },
    {
     "ename": "ValueError",
     "evalue": "*** Process is stopped ***",
     "output_type": "error",
     "traceback": [
      "\u001b[0;31m---------------------------------------------------------------------------\u001b[0m",
      "\u001b[0;31mValueError\u001b[0m                                Traceback (most recent call last)",
      "\u001b[0;32m/var/folders/1l/30f58_455hl069q85k125cdh0000gp/T/ipykernel_1565/1983868380.py\u001b[0m in \u001b[0;36m<module>\u001b[0;34m\u001b[0m\n\u001b[1;32m     41\u001b[0m \u001b[0;34m\u001b[0m\u001b[0m\n\u001b[1;32m     42\u001b[0m \u001b[0;31m# FDW Production Data Inspection ---------------- #\u001b[0m\u001b[0;34m\u001b[0m\u001b[0;34m\u001b[0m\u001b[0;34m\u001b[0m\u001b[0m\n\u001b[0;32m---> 43\u001b[0;31m \u001b[0mdf\u001b[0m\u001b[0;34m,\u001b[0m \u001b[0mdf_raw\u001b[0m \u001b[0;34m=\u001b[0m \u001b[0mFDW_PD_Sweeper\u001b[0m\u001b[0;34m(\u001b[0m\u001b[0mdf\u001b[0m\u001b[0;34m)\u001b[0m\u001b[0;34m\u001b[0m\u001b[0;34m\u001b[0m\u001b[0m\n\u001b[0m\u001b[1;32m     44\u001b[0m \u001b[0mtable_dict\u001b[0m \u001b[0;34m=\u001b[0m \u001b[0mFDW_PD_AvalTable\u001b[0m\u001b[0;34m(\u001b[0m\u001b[0mdf\u001b[0m\u001b[0;34m,\u001b[0m \u001b[0mshape_all\u001b[0m\u001b[0;34m)\u001b[0m\u001b[0;34m\u001b[0m\u001b[0;34m\u001b[0m\u001b[0m\n\u001b[1;32m     45\u001b[0m \u001b[0;31m# ----------------------------------------------- #\u001b[0m\u001b[0;34m\u001b[0m\u001b[0;34m\u001b[0m\u001b[0;34m\u001b[0m\u001b[0m\n",
      "\u001b[0;32m~/gscd/tools.py\u001b[0m in \u001b[0;36mFDW_PD_Sweeper\u001b[0;34m(df)\u001b[0m\n\u001b[1;32m    459\u001b[0m         \u001b[0mprint\u001b[0m\u001b[0;34m(\u001b[0m\u001b[0mtable2\u001b[0m\u001b[0;34m)\u001b[0m\u001b[0;34m\u001b[0m\u001b[0;34m\u001b[0m\u001b[0m\n\u001b[1;32m    460\u001b[0m         \u001b[0mprint\u001b[0m\u001b[0;34m(\u001b[0m\u001b[0;34m'----------------------------------------------- #'\u001b[0m\u001b[0;34m)\u001b[0m\u001b[0;34m\u001b[0m\u001b[0;34m\u001b[0m\u001b[0m\n\u001b[0;32m--> 461\u001b[0;31m         \u001b[0;32mraise\u001b[0m \u001b[0mValueError\u001b[0m\u001b[0;34m(\u001b[0m\u001b[0;34m'*** Process is stopped ***'\u001b[0m\u001b[0;34m)\u001b[0m\u001b[0;34m\u001b[0m\u001b[0;34m\u001b[0m\u001b[0m\n\u001b[0m\u001b[1;32m    462\u001b[0m \u001b[0;34m\u001b[0m\u001b[0m\n\u001b[1;32m    463\u001b[0m     \u001b[0;31m# Remove incomplete records -------------------------- #\u001b[0m\u001b[0;34m\u001b[0m\u001b[0;34m\u001b[0m\u001b[0;34m\u001b[0m\u001b[0m\n",
      "\u001b[0;31mValueError\u001b[0m: *** Process is stopped ***"
     ]
    }
   ],
   "source": [
    "\n",
    "\n",
    "# Manual Pre-processing before Sweeping --------- #\n",
    "# 1. Default setting \n",
    "# a) None-type population group\n",
    "df.loc[df['population_group'].isna(), 'population_group'] = 'none'\n",
    "df.loc[df['population_group'] == '', 'population_group'] = 'none'\n",
    "# ----------------------------------------------- #\n",
    "\n",
    "# FDW Production Data Inspection ---------------- #\n",
    "df, df_raw = FDW_PD_Sweeper(df)\n",
    "table_dict = FDW_PD_AvalTable(df, shape_all)\n",
    "# ----------------------------------------------- #\n",
    "\n",
    "# FEWS NET Shapefile comparison ----------------- #\n",
    "shape_used = pd.concat([UG_Admin2_1990, UG_Admin2_2007], axis=0)\n",
    "PlotAdminShapes(shape_used, label=True)\n",
    "# ----------------------------------------------- #"
   ]
  },
  {
   "cell_type": "markdown",
   "id": "c306101b-6d9e-45d3-af48-3cecb4033e29",
   "metadata": {},
   "source": [
    "- Uganda crop seasonal calendar\n",
    "\n",
    "![FEWS NET](https://fews.net/sites/default/files/styles/large/public/seasonal-calendar-uganda.png?itok=ka9niXoM)\n",
    "\n",
    "- FDW data consists of `UG1990A2` and `UG2007A2`.\n",
    "\n",
    "| Year  | Admin-1  | # units  | Admin-2  | # units |\n",
    "| :---: | :----:   | :----:   | :----:   | :---:   |\n",
    "| 1990  | UG1990A1 | 4        | **`UG1990A2`** | 34      |\n",
    "| 1991  | UG1991A1 | 4        | UG1991A2 | 38      |\n",
    "| 1994  | UG1994A1 | 4        | UG1994A2 | 39      |\n",
    "| 1997  | UG1997A1 | 4        | UG1997A2 | 45      |\n",
    "| 2001  | UG2001A1 | 4        | UG2001A2 | 56      |\n",
    "| 2005  | UG2005A1 | 4        | UG2005A2 | 69      |\n",
    "| 2007  | UG2007A1 | 4        | **`UG2007A2`** | 80      |\n",
    "| 2010  | UG2010A1 | 4        | UG2010A2 | 112     |\n",
    "| 2014  | UG2014A1 | 4        | UG2014A2 | 112     |\n",
    "| 2021  | UG2021A1 | 4        | UG2021A2 | 135     |\n",
    "\n",
    "- Comparison between admin boundaries.\n",
    "\n",
    "![image](https://github.com/chc-ucsb/gscd/blob/main/figures/UG_admin_shapes.png?raw=true)\n",
    "\n",
    "- **FDW data consists of only 5 years of records**.\n",
    "- **`UG2007A2`** is used to represent the current admin-level 2 crop data.\n",
    "- Uganda has three crop seasons: `Annual harvest`,`First harvest` and `Second harvest`.\n",
    "- Uganda has no crop production system.\n",
    "- Uganda has no population group."
   ]
  },
  {
   "cell_type": "code",
   "execution_count": 5,
   "id": "06e0b5a4-4b30-43d4-8222-c2a0ca5cd17d",
   "metadata": {},
   "outputs": [],
   "source": [
    "# Define the latest shapefile ------------------- #\n",
    "latest_level = 2\n",
    "shape_latest = UG_Admin2_2007.copy().to_crs('epsg:4326')\n",
    "# ----------------------------------------------- #\n",
    "\n",
    "# # Validation of FNIDs and Names ----------------- #\n",
    "# df = FDW_PD_ValidateFnidName(df, shape_used, shape_latest)\n",
    "# # ----------------------------------------------- #\n",
    "\n",
    "# # FDW Production Data Compiling ----------------- #\n",
    "# area, prod = FDW_PD_Compiling(df, shape_used)\n",
    "# area_all, prod_all = area.copy(), prod.copy()\n",
    "# mdx_pss = area.columns.droplevel([0,1]).unique()\n",
    "# # ----------------------------------------------- #"
   ]
  },
  {
   "cell_type": "code",
   "execution_count": null,
   "id": "fa07821d-4806-4275-b67b-00c96ec7dc93",
   "metadata": {},
   "outputs": [],
   "source": []
  }
 ],
 "metadata": {
  "kernelspec": {
   "display_name": "Python 3 (ipykernel)",
   "language": "python",
   "name": "python3"
  },
  "language_info": {
   "codemirror_mode": {
    "name": "ipython",
    "version": 3
   },
   "file_extension": ".py",
   "mimetype": "text/x-python",
   "name": "python",
   "nbconvert_exporter": "python",
   "pygments_lexer": "ipython3",
   "version": "3.10.10"
  }
 },
 "nbformat": 4,
 "nbformat_minor": 5
}
