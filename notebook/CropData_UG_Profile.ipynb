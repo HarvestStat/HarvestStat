{
 "cells": [
  {
   "cell_type": "markdown",
   "id": "5a54535d-4fd0-4290-a987-d6baff7aa821",
   "metadata": {},
   "source": [
    "# HarvestStat Data Profiling - Uganda"
   ]
  },
  {
   "cell_type": "code",
   "execution_count": 1,
   "id": "423b4763-5783-4282-ba84-d8ae8ba04fb5",
   "metadata": {},
   "outputs": [],
   "source": [
    "import glob, json\n",
    "import warnings\n",
    "warnings.simplefilter(action='ignore', category=FutureWarning)\n",
    "import requests\n",
    "import numpy as np\n",
    "import pandas as pd\n",
    "import geopandas as gpd\n",
    "from tools import save_npz, PrintAdminUnits, PlotAdminShapes\n",
    "from tools import FDW_PD_Sweeper, FDW_PD_AvalTable, FDW_PD_Compiling, FDW_PD_ValidateFnidName\n",
    "from tools import FDW_PD_CreateAdminLink, FDW_PD_RatioAdminLink, FDW_PD_ConnectAdminLink\n",
    "from tools import FDW_PD_CaliSeasonYear\n",
    "from tools_graphic import PlotBarProduction, PlotLinePAY\n",
    "warnings.simplefilter(action='ignore', category=pd.errors.PerformanceWarning)\n",
    "pd.options.mode.chained_assignment = None"
   ]
  },
  {
   "cell_type": "code",
   "execution_count": 2,
   "id": "90cf5a64",
   "metadata": {},
   "outputs": [
    {
     "name": "stdout",
     "output_type": "stream",
     "text": [
      "- FEWS NET admin shapefiles ------------------- #\n",
      "| year\t | Admin1   | # units   | Admin2   | # units   | Admin3   | # units   |\n",
      "| 1990\t | UG1990A1 | 4\t| UG1990A2\t| 34\t| nan\t| 0\t|\n",
      "| 1991\t | UG1991A1 | 4\t| UG1991A2\t| 38\t| nan\t| 0\t|\n",
      "| 1994\t | UG1994A1 | 4\t| UG1994A2\t| 39\t| nan\t| 0\t|\n",
      "| 1997\t | UG1997A1 | 4\t| UG1997A2\t| 45\t| nan\t| 0\t|\n",
      "| 2001\t | UG2001A1 | 4\t| UG2001A2\t| 56\t| nan\t| 0\t|\n",
      "| 2005\t | UG2005A1 | 4\t| UG2005A2\t| 69\t| nan\t| 0\t|\n",
      "| 2007\t | UG2007A1 | 4\t| UG2007A2\t| 80\t| nan\t| 0\t|\n",
      "| 2010\t | UG2010A1 | 4\t| UG2010A2\t| 112\t| nan\t| 0\t|\n",
      "| 2014\t | UG2014A1 | 4\t| UG2014A2\t| 112\t| nan\t| 0\t|\n",
      "| 2021\t | UG2021A1 | 4\t| UG2021A2\t| 135\t| nan\t| 0\t|\n",
      "----------------------------------------------- #\n",
      "          status collection_status data_usage_policy  count\n",
      "0      Collected         Published            Public   6799\n",
      "1  Not Collected         Published            Public   2725\n"
     ]
    }
   ],
   "source": [
    "# Load FEWS NET administrative boundaries ------- #\n",
    "epsg = 'epsg:32736' # Uganda\n",
    "fn_shapes = sorted(glob.glob('../data/shapefile/fewsnet/UG_Admin?_????.shp'))\n",
    "shape_all = []\n",
    "for fn in fn_shapes:\n",
    "    name = fn[-18:-4]\n",
    "    exec('%s = gpd.read_file(\"%s\").to_crs(\"%s\")' % (name, fn, epsg))\n",
    "    exec('%s[\"area\"] = %s[\"geometry\"].area/10**6' % (name, name))\n",
    "    exec('shape_all.append(%s)' % (name))\n",
    "shape_all = pd.concat(shape_all, axis=0).reset_index(drop=True)\n",
    "PrintAdminUnits(shape_all)\n",
    "# ----------------------------------------------- #\n",
    "\n",
    "# FDW API host address -------------------------- #\n",
    "host = 'https://fdw.fews.net'\n",
    "auth = tuple(json.loads(open('token.json', \"r\").read()))\n",
    "parameters = {\n",
    "    'format': 'json',\n",
    "    'country': 'Uganda',\n",
    "    'product': ['R011','R012','R013','R014','R015','R017','R018'],\n",
    "    'survey_type': 'crop:best'\n",
    "}\n",
    "endpoint = '/api/cropproductionindicatorvalue/'\n",
    "response = requests.get(host + endpoint, auth=auth, params=parameters, proxies={})\n",
    "response.raise_for_status()\n",
    "df = pd.DataFrame.from_records(response.json())\n",
    "print(df.groupby(['status','collection_status','data_usage_policy']).size().reset_index(name='count'))\n",
    "# ----------------------------------------------- #"
   ]
  },
  {
   "cell_type": "code",
   "execution_count": 3,
   "id": "df08185a",
   "metadata": {},
   "outputs": [
    {
     "data": {
      "text/plain": [
       "array(['First harvest 2009', 'Second harvest 2008', 'Annual harvest 2008',\n",
       "       'Annual harvest 2009', 'Second harvest 1991',\n",
       "       'Annual harvest 1991', 'First harvest 1990'], dtype=object)"
      ]
     },
     "execution_count": 3,
     "metadata": {},
     "output_type": "execute_result"
    }
   ],
   "source": [
    "df['season_year'].unique()"
   ]
  },
  {
   "cell_type": "code",
   "execution_count": 4,
   "id": "37ef2fba",
   "metadata": {},
   "outputs": [
    {
     "data": {
      "text/plain": [
       "array(['UG2007A20106', 'UG2007A20108', 'UG2007A20109', 'UG2007A20112',\n",
       "       'UG2007A20114', 'UG2007A20116', 'UG2007A20118', 'UG2007A20120',\n",
       "       'UG2007A20121', 'UG2007A20122', 'UG2007A20123', 'UG2007A20124',\n",
       "       'UG2007A20125', 'UG2007A20126', 'UG2007A20127', 'UG2007A20128',\n",
       "       'UG2007A20201', 'UG2007A20202', 'UG2007A20203', 'UG2007A20205',\n",
       "       'UG2007A20206', 'UG2007A20208', 'UG2007A20209', 'UG2007A20212',\n",
       "       'UG2007A20213', 'UG2007A20214', 'UG2007A20217', 'UG2007A20222',\n",
       "       'UG2007A20223', 'UG2007A20224', 'UG2007A20226', 'UG2007A20232',\n",
       "       'UG2007A20233', 'UG2007A20234', 'UG2007A20235', 'UG2007A20236',\n",
       "       'UG2007A20237', 'UG2007A20238', 'UG2007A20239', 'UG2007A20240',\n",
       "       'UG2007A20301', 'UG2007A20302', 'UG2007A20305', 'UG2007A20309',\n",
       "       'UG2007A20310', 'UG2007A20311', 'UG2007A20312', 'UG2007A20314',\n",
       "       'UG2007A20316', 'UG2007A20321', 'UG2007A20327', 'UG2007A20329',\n",
       "       'UG2007A20331', 'UG2007A20332', 'UG2007A20333', 'UG2007A20334',\n",
       "       'UG2007A20335', 'UG2007A20336', 'UG2007A20337', 'UG2007A20338',\n",
       "       'UG2007A20339', 'UG2007A20402', 'UG2007A20405', 'UG2007A20406',\n",
       "       'UG2007A20407', 'UG2007A20408', 'UG2007A20409', 'UG2007A20410',\n",
       "       'UG2007A20411', 'UG2007A20412', 'UG2007A20413', 'UG2007A20414',\n",
       "       'UG2007A20416', 'UG2007A20420', 'UG2007A20423', 'UG2007A20425',\n",
       "       'UG2007A20427', 'UG2007A20428', 'UG2007A20429', 'UG2007A20430',\n",
       "       'UG1990A20103', 'UG1990A20104', 'UG1990A20105', 'UG1990A20106',\n",
       "       'UG1990A20107', 'UG1990A20108', 'UG1990A20201', 'UG1990A20202',\n",
       "       'UG1990A20203', 'UG1990A20204', 'UG1990A20206', 'UG1990A20208',\n",
       "       'UG1990A20301', 'UG1990A20302', 'UG1990A20306', 'UG1990A20308',\n",
       "       'UG1990A20309', 'UG1990A20401', 'UG1990A20402', 'UG1990A20403',\n",
       "       'UG1990A20404', 'UG1990A20405', 'UG1990A20406', 'UG1990A20407',\n",
       "       'UG1990A20408', 'UG1990A20409'], dtype=object)"
      ]
     },
     "execution_count": 4,
     "metadata": {},
     "output_type": "execute_result"
    }
   ],
   "source": [
    "df['fnid'].unique()"
   ]
  },
  {
   "cell_type": "code",
   "execution_count": 5,
   "id": "1546e288-588d-4af4-be71-c096579f7737",
   "metadata": {},
   "outputs": [
    {
     "name": "stdout",
     "output_type": "stream",
     "text": [
      "- Remove missing records ---------------------- #\n",
      "Orignial data points: 9,524\n",
      "Removed 2,725 \"Missing Value\" points\n",
      "0/2,381 \"Area Harvested\" points are retained.\n",
      "2,345/2,381 \"Area Planted\" points are retained.\n",
      "2,238/2,381 \"Quantity Produced\" points are retained.\n",
      "2,216/2,381 \"Yield\" points are retained.\n",
      "Current data points: 6,799\n",
      "\n",
      "- Minor changes are applied ------------------- #\n",
      "\n",
      "- Basic information --------------------------- #\n",
      "Data period: 1990 - 2009\n",
      "16 grain types are found: Banana (unspecified), Beans (mixed), Cassava, Cooking Banana (unspecified), Cowpeas (Mixed), Field Peas, Groundnuts (In Shell), Maize Grain (White), Millet (Finger), Pigeon Peas, Potato (Irish), Rice (Paddy), Sesame Seed, Sorghum, Soybean (unspecified), Sweet Potatoes\n",
      "3 seasons are found: First harvest (01-01), Second harvest (07-01), Annual harvest (01-01)\n"
     ]
    },
    {
     "ename": "TypeError",
     "evalue": "sequence item 0: expected str instance, NoneType found",
     "output_type": "error",
     "traceback": [
      "\u001b[0;31m---------------------------------------------------------------------------\u001b[0m",
      "\u001b[0;31mTypeError\u001b[0m                                 Traceback (most recent call last)",
      "Cell \u001b[0;32mIn[5], line 9\u001b[0m\n\u001b[1;32m      5\u001b[0m df\u001b[38;5;241m.\u001b[39mloc[df[\u001b[38;5;124m'\u001b[39m\u001b[38;5;124mpopulation_group\u001b[39m\u001b[38;5;124m'\u001b[39m] \u001b[38;5;241m==\u001b[39m \u001b[38;5;124m'\u001b[39m\u001b[38;5;124m'\u001b[39m, \u001b[38;5;124m'\u001b[39m\u001b[38;5;124mpopulation_group\u001b[39m\u001b[38;5;124m'\u001b[39m] \u001b[38;5;241m=\u001b[39m \u001b[38;5;124m'\u001b[39m\u001b[38;5;124mnone\u001b[39m\u001b[38;5;124m'\u001b[39m\n\u001b[1;32m      6\u001b[0m \u001b[38;5;66;03m# ----------------------------------------------- #\u001b[39;00m\n\u001b[1;32m      7\u001b[0m \n\u001b[1;32m      8\u001b[0m \u001b[38;5;66;03m# FDW Production Data Inspection ---------------- #\u001b[39;00m\n\u001b[0;32m----> 9\u001b[0m df, df_raw \u001b[38;5;241m=\u001b[39m \u001b[43mFDW_PD_Sweeper\u001b[49m\u001b[43m(\u001b[49m\u001b[43mdf\u001b[49m\u001b[43m)\u001b[49m\n\u001b[1;32m     10\u001b[0m table_dict \u001b[38;5;241m=\u001b[39m FDW_PD_AvalTable(df, shape_all)\n\u001b[1;32m     11\u001b[0m \u001b[38;5;66;03m# ----------------------------------------------- #\u001b[39;00m\n\u001b[1;32m     12\u001b[0m \n\u001b[1;32m     13\u001b[0m \u001b[38;5;66;03m# FEWS NET Shapefile comparison ----------------- #\u001b[39;00m\n",
      "File \u001b[0;32m~/Documents/Code/Project/NASA_GSCD/gscd/notebook/tools.py:131\u001b[0m, in \u001b[0;36mFDW_PD_Sweeper\u001b[0;34m(df, area_priority)\u001b[0m\n\u001b[1;32m    129\u001b[0m \u001b[38;5;28mprint\u001b[39m(\u001b[38;5;124m\"\u001b[39m\u001b[38;5;132;01m%d\u001b[39;00m\u001b[38;5;124m grain types are found: \u001b[39m\u001b[38;5;132;01m%s\u001b[39;00m\u001b[38;5;124m\"\u001b[39m \u001b[38;5;241m%\u001b[39m (\u001b[38;5;28mlen\u001b[39m(products), \u001b[38;5;124m\"\u001b[39m\u001b[38;5;124m, \u001b[39m\u001b[38;5;124m\"\u001b[39m\u001b[38;5;241m.\u001b[39mjoin(\u001b[38;5;28msorted\u001b[39m(products))))\n\u001b[1;32m    130\u001b[0m \u001b[38;5;28mprint\u001b[39m(\u001b[38;5;124m\"\u001b[39m\u001b[38;5;132;01m%d\u001b[39;00m\u001b[38;5;124m seasons are found: \u001b[39m\u001b[38;5;132;01m%s\u001b[39;00m\u001b[38;5;124m\"\u001b[39m \u001b[38;5;241m%\u001b[39m (\u001b[38;5;28mlen\u001b[39m(seasons), \u001b[38;5;124m\"\u001b[39m\u001b[38;5;124m, \u001b[39m\u001b[38;5;124m\"\u001b[39m\u001b[38;5;241m.\u001b[39mjoin(season_list)))\n\u001b[0;32m--> 131\u001b[0m \u001b[38;5;28mprint\u001b[39m(\u001b[38;5;124m\"\u001b[39m\u001b[38;5;132;01m%d\u001b[39;00m\u001b[38;5;124m crop production system are found: \u001b[39m\u001b[38;5;132;01m%s\u001b[39;00m\u001b[38;5;124m\"\u001b[39m \u001b[38;5;241m%\u001b[39m (\u001b[38;5;28mlen\u001b[39m(cps), \u001b[38;5;124;43m\"\u001b[39;49m\u001b[38;5;124;43m, \u001b[39;49m\u001b[38;5;124;43m\"\u001b[39;49m\u001b[38;5;241;43m.\u001b[39;49m\u001b[43mjoin\u001b[49m\u001b[43m(\u001b[49m\u001b[43mcps\u001b[49m\u001b[43m)\u001b[49m))\n\u001b[1;32m    132\u001b[0m \u001b[38;5;28mprint\u001b[39m(\u001b[38;5;124m'\u001b[39m\u001b[38;5;124mData sources include:\u001b[39m\u001b[38;5;124m'\u001b[39m)\n\u001b[1;32m    133\u001b[0m sources \u001b[38;5;241m=\u001b[39m df[[\u001b[38;5;124m'\u001b[39m\u001b[38;5;124msource_organization\u001b[39m\u001b[38;5;124m'\u001b[39m,\u001b[38;5;124m'\u001b[39m\u001b[38;5;124msource_document\u001b[39m\u001b[38;5;124m'\u001b[39m]]\u001b[38;5;241m.\u001b[39mdrop_duplicates()\u001b[38;5;241m.\u001b[39mreset_index(drop\u001b[38;5;241m=\u001b[39m\u001b[38;5;28;01mTrue\u001b[39;00m)\n",
      "\u001b[0;31mTypeError\u001b[0m: sequence item 0: expected str instance, NoneType found"
     ]
    }
   ],
   "source": [
    "\n",
    "\n",
    "# Manual Pre-processing before Sweeping --------- #\n",
    "# 1. Default setting \n",
    "# a) None-type population group\n",
    "df.loc[df['population_group'].isna(), 'population_group'] = 'none'\n",
    "df.loc[df['population_group'] == '', 'population_group'] = 'none'\n",
    "# ----------------------------------------------- #\n",
    "\n",
    "# FDW Production Data Inspection ---------------- #\n",
    "df, df_raw = FDW_PD_Sweeper(df)\n",
    "table_dict = FDW_PD_AvalTable(df, shape_all)\n",
    "# ----------------------------------------------- #\n",
    "\n",
    "# FEWS NET Shapefile comparison ----------------- #\n",
    "shape_used = pd.concat([UG_Admin2_1990, UG_Admin2_2007], axis=0)\n",
    "PlotAdminShapes(shape_used, label=True)\n",
    "# ----------------------------------------------- #"
   ]
  },
  {
   "cell_type": "markdown",
   "id": "c306101b-6d9e-45d3-af48-3cecb4033e29",
   "metadata": {},
   "source": [
    "- Uganda crop seasonal calendar\n",
    "\n",
    "![FEWS NET](https://fews.net/sites/default/files/styles/large/public/seasonal-calendar-uganda.png?itok=ka9niXoM)\n",
    "\n",
    "- FDW data consists of `UG1990A2` and `UG2007A2`.\n",
    "\n",
    "| Year  | Admin-1  | # units  | Admin-2  | # units |\n",
    "| :---: | :----:   | :----:   | :----:   | :---:   |\n",
    "| 1990  | UG1990A1 | 4        | **`UG1990A2`** | 34      |\n",
    "| 1991  | UG1991A1 | 4        | UG1991A2 | 38      |\n",
    "| 1994  | UG1994A1 | 4        | UG1994A2 | 39      |\n",
    "| 1997  | UG1997A1 | 4        | UG1997A2 | 45      |\n",
    "| 2001  | UG2001A1 | 4        | UG2001A2 | 56      |\n",
    "| 2005  | UG2005A1 | 4        | UG2005A2 | 69      |\n",
    "| 2007  | UG2007A1 | 4        | **`UG2007A2`** | 80      |\n",
    "| 2010  | UG2010A1 | 4        | UG2010A2 | 112     |\n",
    "| 2014  | UG2014A1 | 4        | UG2014A2 | 112     |\n",
    "| 2021  | UG2021A1 | 4        | UG2021A2 | 135     |\n",
    "\n",
    "- Comparison between admin boundaries.\n",
    "\n",
    "![image](https://github.com/chc-ucsb/gscd/blob/main/figures/UG_admin_shapes.png?raw=true)\n",
    "\n",
    "- **FDW data consists of only 5 years of records**.\n",
    "- **`UG2007A2`** is used to represent the current admin-level 2 crop data.\n",
    "- Uganda has three crop seasons: `Annual harvest`,`First harvest` and `Second harvest`.\n",
    "- Uganda has no crop production system.\n",
    "- Uganda has no population group."
   ]
  },
  {
   "cell_type": "code",
   "execution_count": null,
   "id": "06e0b5a4-4b30-43d4-8222-c2a0ca5cd17d",
   "metadata": {},
   "outputs": [],
   "source": [
    "# Define the latest shapefile ------------------- #\n",
    "latest_level = 2\n",
    "shape_latest = UG_Admin2_2007.copy().to_crs('epsg:4326')\n",
    "# ----------------------------------------------- #\n",
    "\n",
    "# # Validation of FNIDs and Names ----------------- #\n",
    "# df = FDW_PD_ValidateFnidName(df, shape_used, shape_latest)\n",
    "# # ----------------------------------------------- #\n",
    "\n",
    "# # FDW Production Data Compiling ----------------- #\n",
    "# area, prod = FDW_PD_Compiling(df, shape_used)\n",
    "# area_all, prod_all = area.copy(), prod.copy()\n",
    "# mdx_pss = area.columns.droplevel([0,1]).unique()\n",
    "# # ----------------------------------------------- #"
   ]
  },
  {
   "cell_type": "code",
   "execution_count": null,
   "id": "fa07821d-4806-4275-b67b-00c96ec7dc93",
   "metadata": {},
   "outputs": [],
   "source": []
  }
 ],
 "metadata": {
  "kernelspec": {
   "display_name": "Python 3 (ipykernel)",
   "language": "python",
   "name": "python3"
  },
  "language_info": {
   "codemirror_mode": {
    "name": "ipython",
    "version": 3
   },
   "file_extension": ".py",
   "mimetype": "text/x-python",
   "name": "python",
   "nbconvert_exporter": "python",
   "pygments_lexer": "ipython3",
   "version": "3.8.12"
  }
 },
 "nbformat": 4,
 "nbformat_minor": 5
}
