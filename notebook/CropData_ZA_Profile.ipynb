{
 "cells": [
  {
   "cell_type": "markdown",
   "id": "5a54535d-4fd0-4290-a987-d6baff7aa821",
   "metadata": {},
   "source": [
    "# HarvestStat Data Profiling - South Africa"
   ]
  },
  {
   "cell_type": "code",
   "execution_count": 1,
   "id": "423b4763-5783-4282-ba84-d8ae8ba04fb5",
   "metadata": {},
   "outputs": [],
   "source": [
    "import glob, json\n",
    "import warnings\n",
    "warnings.simplefilter(action='ignore', category=FutureWarning)\n",
    "import requests\n",
    "import numpy as np\n",
    "import pandas as pd\n",
    "import geopandas as gpd\n",
    "from tools import save_npz, PrintAdminUnits, PlotAdminShapes\n",
    "from tools import FDW_PD_Sweeper, FDW_PD_AvalTable, FDW_PD_Compiling, FDW_PD_ValidateFnidName\n",
    "from tools import FDW_PD_CreateAdminLink, FDW_PD_RatioAdminLink, FDW_PD_ConnectAdminLink\n",
    "from tools import FDW_PD_CaliSeasonYear\n",
    "from tools_graphic import PlotBarProduction, PlotLinePAY\n",
    "warnings.simplefilter(action='ignore', category=pd.errors.PerformanceWarning)\n",
    "pd.options.mode.chained_assignment = None"
   ]
  },
  {
   "cell_type": "code",
   "execution_count": 2,
   "id": "1546e288-588d-4af4-be71-c096579f7737",
   "metadata": {},
   "outputs": [
    {
     "name": "stdout",
     "output_type": "stream",
     "text": [
      "- FEWS NET admin shapefiles ------------------- #\n",
      "| year\t | Admin1   | # units   | Admin2   | # units   | Admin3   | # units   |\n",
      "| 1994\t | ZA1994A1 | 9\t| nan\t| 0\t| nan\t| 0\t|\n",
      "----------------------------------------------- #\n"
     ]
    }
   ],
   "source": [
    "# Load FEWS NET administrative boundaries ------- #\n",
    "epsg = 'EPSG:22234' # South Africa\n",
    "fn_shapes = sorted(glob.glob('../data/shapefile/fewsnet/ZA_Admin?_????.shp'))\n",
    "shape_all = []\n",
    "for fn in fn_shapes:\n",
    "    name = fn[-18:-4]\n",
    "    exec('%s = gpd.read_file(\"%s\").to_crs(\"%s\")' % (name, fn, epsg))\n",
    "    exec('%s[\"area\"] = %s[\"geometry\"].area/10**6' % (name, name))\n",
    "    exec('shape_all.append(%s)' % (name))\n",
    "shape_all = pd.concat(shape_all, axis=0).reset_index(drop=True)\n",
    "PrintAdminUnits(shape_all)\n",
    "# ----------------------------------------------- #\n",
    "\n",
    "# FDW API host address -------------------------- #\n",
    "host = 'https://fdw.fews.net'\n",
    "auth = tuple(json.loads(open('token.json', \"r\").read()))\n",
    "parameters = {\n",
    "    'format': 'json',\n",
    "    'country': 'South Africa',\n",
    "    'product':['R011','R012','R013','R014','R015','R016','R017','R018'],\n",
    "    'survey_type': 'crop:best'\n",
    "}\n",
    "endpoint = '/api/cropproductionindicatorvalue/'\n",
    "response = requests.get(host + endpoint, auth=auth, params=parameters, proxies={})\n",
    "response.raise_for_status()\n",
    "df = pd.DataFrame.from_records(response.json())\n",
    "# ----------------------------------------------- #\n",
    "\n",
    "# There is country-level (admin_0) data, however we are not sure the accuracy of it. Therefore, we exclude the contry-level data and process further. \n",
    "# *If this is country-level aggregation, the production values are too low. For example, ZA1994A0's annual maize production is less than 1 million metric ton.\n",
    "# *The country-level data has \"developing_sector_ps\" crop_production_system.\n",
    "df_country = df[df['fnid'] == 'ZA'].reset_index(drop=True)\n",
    "df = df[df['fnid'] != 'ZA'].reset_index(drop=True)"
   ]
  },
  {
   "cell_type": "code",
   "execution_count": 3,
   "id": "2e724214-9333-4fed-97ad-ad7e7f5ba5c6",
   "metadata": {},
   "outputs": [
    {
     "name": "stdout",
     "output_type": "stream",
     "text": [
      "- Remove missing records ---------------------- #\n",
      "Orignial data points: 9,852\n",
      "Removed 2,634 \"Missing Value\" points\n",
      "0/2,463 \"Area Harvested\" points are retained.\n",
      "2,410/2,463 \"Area Planted\" points are retained.\n",
      "2,404/2,463 \"Quantity Produced\" points are retained.\n",
      "2,404/2,463 \"Yield\" points are retained.\n",
      "Current data points: 7,218\n",
      "\n",
      "- Minor changes are applied ------------------- #\n",
      "\n",
      "- Basic information --------------------------- #\n",
      "Data period: 1979 - 2022\n",
      "10 grain types are found: Barley (Unspecified), Beans (mixed), Canola seed, Groundnuts (In Shell), Maize Grain (White), Maize Grain (Yellow), Sorghum, Soybean (unspecified), Sunflower Seed, Wheat Grain\n",
      "2 seasons are found: Summer (10-01), Winter (05-01)\n",
      "1 crop production system are found: Commercial (PS)\n",
      "Data sources include:\n",
      "[1] Crop Estimates Committee, South Africa --- CEC, South Africa\n",
      "[2] FEWS NET, South Africa --- CEC, South Africa\n",
      "Administrative-1 fnids: 9\n",
      "Administrative-2 fnids: 0\n",
      "0 reporting units are found: \n",
      "\n",
      "- Total production over time ------------------ #\n",
      "season_name           Summer Winter\n",
      "                                   \n",
      "Barley (Unspecified)    0.0%   0.8%\n",
      "Beans (mixed)           0.4%   0.0%\n",
      "Canola seed             0.0%   0.2%\n",
      "Groundnuts (In Shell)   0.7%   0.0%\n",
      "Maize Grain (White)    39.2%   0.0%\n",
      "Maize Grain (Yellow)   31.9%   0.0%\n",
      "Sorghum                 1.7%   0.0%\n",
      "Soybean (unspecified)   3.6%   0.0%\n",
      "Sunflower Seed          4.3%   0.0%\n",
      "Wheat Grain             0.0%  17.3%\n",
      "\n",
      "- Crop calendar ------------------------------- #\n",
      "                 product season_name planting_month harvest_month\n",
      "0   Barley (Unspecified)      Winter          05-01         11-01\n",
      "1          Beans (mixed)      Summer          10-01         04-01\n",
      "2            Canola seed      Winter          05-01         11-01\n",
      "3  Groundnuts (In Shell)      Summer          10-01         04-01\n",
      "4    Maize Grain (White)      Summer          10-01         04-01\n",
      "5   Maize Grain (Yellow)      Summer          10-01         04-01\n",
      "6                Sorghum      Summer          10-01         04-01\n",
      "7  Soybean (unspecified)      Summer          10-01         04-01\n",
      "8         Sunflower Seed      Summer          10-01         04-01\n",
      "9            Wheat Grain      Winter          05-01         11-01\n",
      "\n",
      "- Recorded years per season ------------------- #\n",
      "Summer: 42 years (1981-2022) (missing: 0 years)\n",
      "Winter: 44 years (1979-2022) (missing: 0 years)\n",
      "\n",
      "- Number of \"Quantity Produced\" data points --- #\n",
      "ZA1994A1: 2,404 data points are found.\n",
      "\n",
      "- Districts with population group(s) ---------- #\n",
      "0 districts includes 'population_group'.\n",
      "\n",
      "Table of available data\n",
      "----------------------------------------------- #\n",
      "Crop type: Barley (Unspecified)\n",
      "----------------------------------------------- #\n",
      "season_name                     Winter\n",
      "crop_production_system Commercial (PS)\n",
      "fnid_short                      1994A1\n",
      "year                                  \n",
      "1997                               3/9\n",
      "1998                               3/9\n",
      "1999                               3/9\n",
      "2000                               4/9\n",
      "2001                               5/9\n",
      "2002                               4/9\n",
      "2003                               6/9\n",
      "2004                               5/9\n",
      "2005                               5/9\n",
      "2006                               4/9\n",
      "2007                               4/9\n",
      "2008                               4/9\n",
      "2009                               4/9\n",
      "2010                               4/9\n",
      "2011                               4/9\n",
      "2012                               4/9\n",
      "2013                               5/9\n",
      "2014                               5/9\n",
      "2015                               6/9\n",
      "----------------------------------------------- #\n",
      "Crop type: Beans (mixed)\n",
      "----------------------------------------------- #\n",
      "season_name                     Summer\n",
      "crop_production_system Commercial (PS)\n",
      "fnid_short                      1994A1\n",
      "year                                  \n",
      "1991                               7/9\n",
      "1992                               7/9\n",
      "1993                               7/9\n",
      "1994                               7/9\n",
      "1995                               6/9\n",
      "1996                               6/9\n",
      "1997                               6/9\n",
      "1998                               7/9\n",
      "1999                               7/9\n",
      "2000                               8/9\n",
      "2001                               9/9\n",
      "2002                               9/9\n",
      "2003                               9/9\n",
      "2004                               9/9\n",
      "2005                               9/9\n",
      "2006                               8/9\n",
      "2007                               8/9\n",
      "2008                               8/9\n",
      "2009                               9/9\n",
      "2010                               9/9\n",
      "2011                               9/9\n",
      "2012                               9/9\n",
      "2013                               9/9\n",
      "2014                               9/9\n",
      "2015                               9/9\n",
      "2016                               9/9\n",
      "2017                               9/9\n",
      "2018                               8/9\n",
      "2019                               9/9\n",
      "2020                               9/9\n",
      "2021                               9/9\n",
      "2022                               9/9\n",
      "----------------------------------------------- #\n",
      "Crop type: Canola seed\n",
      "----------------------------------------------- #\n",
      "season_name                     Winter\n",
      "crop_production_system Commercial (PS)\n",
      "fnid_short                      1994A1\n",
      "year                                  \n",
      "2000                               1/9\n",
      "2001                               1/9\n",
      "2002                               1/9\n",
      "2003                               1/9\n",
      "2004                               1/9\n",
      "2005                               1/9\n",
      "2006                               1/9\n",
      "2007                               1/9\n",
      "2008                               1/9\n",
      "2009                               1/9\n",
      "2010                               1/9\n",
      "2011                               1/9\n",
      "2012                               1/9\n",
      "2013                               1/9\n",
      "2014                               1/9\n",
      "2015                               1/9\n",
      "2016                               1/9\n",
      "----------------------------------------------- #\n",
      "Crop type: Groundnuts (In Shell)\n",
      "----------------------------------------------- #\n",
      "season_name                     Summer\n",
      "crop_production_system Commercial (PS)\n",
      "fnid_short                      1994A1\n",
      "year                                  \n",
      "1981                               7/9\n",
      "1982                               7/9\n",
      "1983                               7/9\n",
      "1984                               7/9\n",
      "1985                               7/9\n",
      "1986                               7/9\n",
      "1987                               7/9\n",
      "1988                               7/9\n",
      "1989                               7/9\n",
      "1990                               7/9\n",
      "1991                               7/9\n",
      "1992                               7/9\n",
      "1993                               7/9\n",
      "1994                               7/9\n",
      "1995                               7/9\n",
      "1996                               7/9\n",
      "1997                               7/9\n",
      "1998                               7/9\n",
      "1999                               7/9\n",
      "2000                               6/9\n",
      "2001                               7/9\n",
      "2002                               7/9\n",
      "2003                               6/9\n",
      "2004                               6/9\n",
      "2005                               7/9\n",
      "2006                               5/9\n",
      "2007                               6/9\n",
      "2008                               6/9\n",
      "2009                               5/9\n",
      "2010                               6/9\n",
      "2011                               5/9\n",
      "2012                               5/9\n",
      "2013                               6/9\n",
      "2014                               6/9\n",
      "2015                               5/9\n",
      "2016                               4/9\n",
      "2017                               4/9\n",
      "2018                               4/9\n",
      "2019                               4/9\n",
      "2020                               4/9\n",
      "2021                               5/9\n",
      "2022                               4/9\n",
      "----------------------------------------------- #\n",
      "Crop type: Maize Grain (White)\n",
      "----------------------------------------------- #\n",
      "season_name                     Summer\n",
      "crop_production_system Commercial (PS)\n",
      "fnid_short                      1994A1\n",
      "year                                  \n",
      "1987                               9/9\n",
      "1988                               9/9\n",
      "1989                               9/9\n",
      "1990                               9/9\n",
      "1991                               9/9\n",
      "1992                               9/9\n",
      "1993                               9/9\n",
      "1994                               9/9\n",
      "1995                               9/9\n",
      "1996                               9/9\n",
      "1997                               9/9\n",
      "1998                               8/9\n",
      "1999                               8/9\n",
      "2000                               8/9\n",
      "2001                               9/9\n",
      "2002                               9/9\n",
      "2003                               9/9\n",
      "2004                               9/9\n",
      "2005                               8/9\n",
      "2006                               8/9\n",
      "2007                               9/9\n",
      "2008                               9/9\n",
      "2009                               9/9\n",
      "2010                               9/9\n",
      "2011                               9/9\n",
      "2012                               9/9\n",
      "2013                               9/9\n",
      "2014                               9/9\n",
      "2015                               9/9\n",
      "2016                               9/9\n",
      "2017                               9/9\n",
      "2018                               7/9\n",
      "2019                               9/9\n",
      "2020                               9/9\n",
      "2021                               9/9\n",
      "2022                               9/9\n",
      "----------------------------------------------- #\n",
      "Crop type: Maize Grain (Yellow)\n",
      "----------------------------------------------- #\n",
      "season_name                     Summer\n",
      "crop_production_system Commercial (PS)\n",
      "fnid_short                      1994A1\n",
      "year                                  \n",
      "1987                               9/9\n",
      "1988                               9/9\n",
      "1989                               9/9\n",
      "1990                               9/9\n",
      "1991                               9/9\n",
      "1992                               9/9\n",
      "1993                               9/9\n",
      "1994                               9/9\n",
      "1995                               9/9\n",
      "1996                               9/9\n",
      "1997                               9/9\n",
      "1998                               9/9\n",
      "1999                               9/9\n",
      "2000                               9/9\n",
      "2001                               9/9\n",
      "2002                               8/9\n",
      "2003                               9/9\n",
      "2004                               8/9\n",
      "2005                               9/9\n",
      "2006                               9/9\n",
      "2007                               9/9\n",
      "2008                               9/9\n",
      "2009                               9/9\n",
      "2010                               9/9\n",
      "2011                               9/9\n",
      "2012                               9/9\n",
      "2013                               9/9\n",
      "2014                               9/9\n",
      "2015                               9/9\n",
      "2016                               9/9\n",
      "2017                               9/9\n",
      "2018                               9/9\n",
      "2019                               9/9\n",
      "2020                               9/9\n",
      "2021                               9/9\n",
      "2022                               9/9\n",
      "----------------------------------------------- #\n",
      "Crop type: Sorghum\n",
      "----------------------------------------------- #\n",
      "season_name                     Summer\n",
      "crop_production_system Commercial (PS)\n",
      "fnid_short                      1994A1\n",
      "year                                  \n",
      "1987                               6/9\n",
      "1988                               6/9\n",
      "1989                               6/9\n",
      "1990                               8/9\n",
      "1991                               8/9\n",
      "1992                               7/9\n",
      "1993                               7/9\n",
      "1994                               7/9\n",
      "1995                               6/9\n",
      "1996                               6/9\n",
      "1997                               6/9\n",
      "1998                               6/9\n",
      "1999                               7/9\n",
      "2000                               6/9\n",
      "2001                               5/9\n",
      "2002                               7/9\n",
      "2003                               7/9\n",
      "2004                               7/9\n",
      "2005                               8/9\n",
      "2006                               7/9\n",
      "2007                               6/9\n",
      "2008                               6/9\n",
      "2009                               6/9\n",
      "2010                               7/9\n",
      "2011                               6/9\n",
      "2012                               6/9\n",
      "2013                               6/9\n",
      "2014                               6/9\n",
      "2015                               6/9\n",
      "2016                               5/9\n",
      "2017                               6/9\n",
      "2018                               6/9\n",
      "2019                               6/9\n",
      "2020                               6/9\n",
      "2021                               6/9\n",
      "2022                               6/9\n",
      "----------------------------------------------- #\n",
      "Crop type: Soybean (unspecified)\n",
      "----------------------------------------------- #\n",
      "season_name                     Summer\n",
      "crop_production_system Commercial (PS)\n",
      "fnid_short                      1994A1\n",
      "year                                  \n",
      "1988                               8/9\n",
      "1989                               8/9\n",
      "1990                               8/9\n",
      "1991                               8/9\n",
      "1992                               8/9\n",
      "1993                               8/9\n",
      "1994                               7/9\n",
      "1995                               7/9\n",
      "1996                               7/9\n",
      "1997                               7/9\n",
      "1998                               7/9\n",
      "1999                               7/9\n",
      "2000                               8/9\n",
      "2001                               9/9\n",
      "2002                               8/9\n",
      "2003                               8/9\n",
      "2004                               9/9\n",
      "2005                               9/9\n",
      "2006                               9/9\n",
      "2007                               8/9\n",
      "2008                               8/9\n",
      "2009                               8/9\n",
      "2010                               8/9\n",
      "2011                               8/9\n",
      "2012                               8/9\n",
      "2013                               8/9\n",
      "2014                               8/9\n",
      "2015                               9/9\n",
      "2016                               9/9\n",
      "2017                               9/9\n",
      "2018                               9/9\n",
      "2019                               9/9\n",
      "2020                               8/9\n",
      "2021                               8/9\n",
      "2022                               8/9\n",
      "----------------------------------------------- #\n",
      "Crop type: Sunflower Seed\n",
      "----------------------------------------------- #\n",
      "season_name                     Summer\n",
      "crop_production_system Commercial (PS)\n",
      "fnid_short                      1994A1\n",
      "year                                  \n",
      "1987                               6/9\n",
      "1988                               6/9\n",
      "1989                               6/9\n",
      "1990                               6/9\n",
      "1991                               6/9\n",
      "1992                               6/9\n",
      "1993                               6/9\n",
      "1994                               6/9\n",
      "1995                               6/9\n",
      "1996                               6/9\n",
      "1997                               6/9\n",
      "1998                               6/9\n",
      "1999                               6/9\n",
      "2000                               7/9\n",
      "2001                               8/9\n",
      "2002                               8/9\n",
      "2003                               9/9\n",
      "2004                               8/9\n",
      "2005                               8/9\n",
      "2006                               8/9\n",
      "2007                               8/9\n",
      "2008                               8/9\n",
      "2009                               8/9\n",
      "2010                               8/9\n",
      "2011                               7/9\n",
      "2012                               6/9\n",
      "2013                               6/9\n",
      "2014                               7/9\n",
      "2015                               6/9\n",
      "2016                               6/9\n",
      "2017                               7/9\n",
      "2018                               7/9\n",
      "2019                               7/9\n",
      "2020                               7/9\n",
      "2021                               7/9\n",
      "2022                               7/9\n",
      "----------------------------------------------- #\n",
      "Crop type: Wheat Grain\n",
      "----------------------------------------------- #\n",
      "season_name                     Winter\n",
      "crop_production_system Commercial (PS)\n",
      "fnid_short                      1994A1\n",
      "year                                  \n",
      "1979                               9/9\n",
      "1980                               9/9\n",
      "1981                               9/9\n",
      "1982                               9/9\n",
      "1983                               9/9\n",
      "1984                               9/9\n",
      "1985                               9/9\n",
      "1986                               9/9\n",
      "1987                               9/9\n",
      "1988                               9/9\n",
      "1989                               9/9\n",
      "1990                               9/9\n",
      "1991                               9/9\n",
      "1992                               9/9\n",
      "1993                               9/9\n",
      "1994                               9/9\n",
      "1995                               9/9\n",
      "1996                               9/9\n",
      "1997                               9/9\n",
      "1998                               9/9\n",
      "1999                               9/9\n",
      "2000                               9/9\n",
      "2001                               9/9\n",
      "2002                               9/9\n",
      "2003                               9/9\n",
      "2004                               9/9\n",
      "2005                               9/9\n",
      "2006                               9/9\n",
      "2007                               9/9\n",
      "2008                               9/9\n",
      "2009                               9/9\n",
      "2010                               9/9\n",
      "2011                               9/9\n",
      "2012                               9/9\n",
      "2013                               9/9\n",
      "2014                               9/9\n",
      "2015                               9/9\n",
      "2016                               9/9\n",
      "2017                               9/9\n",
      "2018                               9/9\n",
      "2019                               9/9\n",
      "2020                               9/9\n",
      "2021                               9/9\n",
      "2022                               9/9\n",
      "----------------------------------------------- #\n",
      "../figures/ZA_admin_shapes.png is saved.\n"
     ]
    }
   ],
   "source": [
    "# Manual Pre-processing before Sweeping --------- #\n",
    "# 1. Default setting \n",
    "# a) None-type crop production system\n",
    "df.loc[df['crop_production_system'].isna(), 'crop_production_system'] = 'none'\n",
    "df.loc[df['crop_production_system'] == '', 'crop_production_system'] = 'none'\n",
    "# b) None-type population group\n",
    "df.loc[df['population_group'].isna(), 'population_group'] = 'none'\n",
    "df.loc[df['population_group'] == '', 'population_group'] = 'none'\n",
    "# 2. Manual setting\n",
    "# a) Add admin names to reporting units\n",
    "admin_level = 'admin_1'\n",
    "reporting_unit = df.loc[df['fnid'].map(lambda x: x[6] != 'A'), 'fnid'].unique()\n",
    "df.loc[df.fnid.isin(reporting_unit),admin_level] = df.loc[df.fnid.isin(reporting_unit), 'locality_name'].map(lambda x: x.split(' ')[0])\n",
    "# ----------------------------------------------- #\n",
    "\n",
    "# FDW Production Data Inspection ---------------- #\n",
    "df, df_raw = FDW_PD_Sweeper(df, area_priority=\"Area Planted\")\n",
    "table_dict = FDW_PD_AvalTable(df, shape_all)\n",
    "# ----------------------------------------------- #\n",
    "\n",
    "# FEWS NET Shapefile comparison ----------------- #\n",
    "shape_used = pd.concat([ZA_Admin1_1994], axis=0)\n",
    "PlotAdminShapes(shape_used, label=True)\n",
    "# ----------------------------------------------- #"
   ]
  },
  {
   "cell_type": "markdown",
   "id": "c306101b-6d9e-45d3-af48-3cecb4033e29",
   "metadata": {},
   "source": [
    "## South Africa\n",
    "Southern Africa crop seasonal calendar\n",
    "\n",
    "<!-- ![FEWS NET](https://fews.net/sites/default/files/styles/large/public/seasonal-calendar-southern-africa.png?itok=azI0iL6A) -->\n",
    "\n",
    "![USDA](https://ipad.fas.usda.gov/rssiws/al/crop_calendar/images/safrica_sf_calendar.png)\n",
    "\n",
    "- In South Africa, basd on the FEWS NET data, there were four times of changes in administrative units: 1980, 1998, 2011, and 2012.\n",
    "\n",
    "| Year | Admin-1 | # units  | Admin-2  | # units |\n",
    "| :---: | :----:  | :----:   | :----:   | :---:  |\n",
    "| 1994  |**`ZA1994A1`** | 9  | nan      | 0 |\n",
    "\n",
    "- Comparison between admin boundaries.\n",
    "\n",
    "<img src=\"../figures/ZA_admin_shapes.png\"  width=\"60%\">\n",
    "\n",
    "- Here, we use **`ZA1994A1`** to represent all admin-level 1 crop data.\n",
    "- South Africa has two crop seasons: `Summer (10-01)` and `Winter (05-01)`.\n",
    "- South Africa has one crop production system: `Commercial (PS)`."
   ]
  },
  {
   "cell_type": "code",
   "execution_count": 4,
   "id": "b829c5de-2d2a-497f-aef5-aa7e76b30cdc",
   "metadata": {},
   "outputs": [],
   "source": [
    "# Define the latest shapefile ------------------- #\n",
    "latest_level = 1\n",
    "shape_latest = ZA_Admin1_1994.copy().to_crs('epsg:4326')\n",
    "# ----------------------------------------------- #\n",
    "\n",
    "# Validation of FNIDs and Names ----------------- #\n",
    "shape_used['ADMIN2'] = 'None'\n",
    "shape_all['ADMIN2'] = 'None'\n",
    "shape_latest['ADMIN2'] = 'None'\n",
    "df = FDW_PD_ValidateFnidName(df, shape_used, shape_latest)\n",
    "# ----------------------------------------------- #\n",
    "\n",
    "# FDW Production Data Compiling ----------------- #\n",
    "area_new, prod_new = FDW_PD_Compiling(df, shape_used)\n",
    "# ----------------------------------------------- #"
   ]
  },
  {
   "cell_type": "code",
   "execution_count": 5,
   "id": "20272ff1-9c5b-4fb9-a282-32d4fd9b738c",
   "metadata": {},
   "outputs": [
    {
     "name": "stdout",
     "output_type": "stream",
     "text": [
      "All [season_name, product, crop_production_system] are in the external crop calendar.\n",
      "../data/crop/adm_crop_production_ZA.csv is saved.\n"
     ]
    }
   ],
   "source": [
    "# Manual correction ----------------------------- #\n",
    "crop_new = prod_new/area_new\n",
    "# ----------------------------------------------- #\n",
    "\n",
    "# Complete long format DataFrame ---------------- #\n",
    "df_area = area_new.T.stack().rename('value').reset_index()\n",
    "df_area['indicator'] = 'area'\n",
    "df_prod = prod_new.T.stack().rename('value').reset_index()\n",
    "df_prod['indicator'] = 'production'\n",
    "df_yield = (prod_new/area_new).T.stack().rename('value').reset_index()\n",
    "df_yield['indicator'] = 'yield'\n",
    "stack = pd.concat([df_area, df_prod, df_yield], axis=0)\n",
    "# Add \"planting year\"\n",
    "cols = ['season_name','product','crop_production_system','planting_month','harvest_year','harvest_month','planting_year']\n",
    "season_table = df[cols].drop_duplicates()\n",
    "stack = stack.merge(season_table, on=cols[:-1])\n",
    "# Add country and admin names\n",
    "stack = stack.merge(df[['fnid','country','country_code','admin_1','admin_2']].drop_duplicates(), on='fnid', how='inner')\n",
    "names = [\n",
    "    'fnid','country','country_code','admin_1','admin_2','name',\n",
    "    'product','season_name','planting_year','planting_month','harvest_year','harvest_month',\n",
    "    'crop_production_system','indicator','value'\n",
    "]\n",
    "stack = stack[names]\n",
    "# ----------------------------------------------- #\n",
    "\n",
    "# Final Processing ------------------------------ #\n",
    "# Manual change of product name\n",
    "product_category_custom = {\n",
    "    'Barley (Unspecified)':'Barley',\n",
    "    'Maize Grain (White)':'Maize (White)',\n",
    "    'Maize Grain (Yellow)':'Maize (Yellow)',\n",
    "    'Sorghum':'Sorghum',\n",
    "    'Wheat Grain':'Wheat',\n",
    "    'Beans (mixed)': 'Beans (mixed)',\n",
    "    'Groundnuts (In Shell)': 'Groundnuts (In Shell)',\n",
    "    'Soybean (unspecified)': 'Soybean',\n",
    "    'Sunflower Seed': 'Sunflower Seed',\n",
    "    'Canola seed': 'Canola seed'\n",
    "}\n",
    "assert set(stack['product'].unique()) == set(product_category_custom.keys())\n",
    "stack['product'] = stack['product'].replace(product_category_custom)\n",
    "# Calibration of crop calendar using External Crop Calendar (ECC)\n",
    "ecc = pd.read_csv('../data/crop_calendar/external_crop_calendar.csv')\n",
    "ecc = ecc[ecc['country'] == 'South Africa']\n",
    "stack, link_ratio = FDW_PD_CaliSeasonYear(stack, ecc, link_ratio=None)\n",
    "# None admin names\n",
    "stack.loc[stack['admin_1'].isna(), 'admin_1'] = 'none'\n",
    "stack.loc[stack['admin_2'].isna(), 'admin_2'] = 'none'\n",
    "# ----------------------------------------------- #\n",
    "\n",
    "# Save data\n",
    "fn_out = '../data/crop/adm_crop_production_ZA.csv'\n",
    "stack.to_csv(fn_out); print(f'{fn_out} is saved.')"
   ]
  },
  {
   "cell_type": "markdown",
   "id": "bf1e7c1c-6138-4f8e-b6e3-9afa1f3b3cd2",
   "metadata": {},
   "source": [
    "## Visualization of production data"
   ]
  },
  {
   "cell_type": "code",
   "execution_count": 6,
   "id": "6f75d416-b5a8-49ce-987f-6723589512f1",
   "metadata": {},
   "outputs": [
    {
     "data": {
      "application/vnd.plotly.v1+json": {
       "config": {
        "plotlyServerURL": "https://plot.ly"
       },
       "data": [
        {
         "alignmentgroup": "True",
         "hovertemplate": "product=Maize (White)<br>season_name=Summer<br>type=orig_unit<br>year=%{x}<br>value=%{y}<extra></extra>",
         "legendgroup": "Maize (White)",
         "marker": {
          "color": "#636efa",
          "pattern": {
           "shape": ""
          }
         },
         "name": "Maize (White)",
         "offsetgroup": "Maize (White)",
         "orientation": "v",
         "showlegend": true,
         "textposition": "auto",
         "type": "bar",
         "x": [
          1987,
          1988,
          1989,
          1990,
          1991,
          1992,
          1993,
          1994,
          1995,
          1996,
          1997,
          1998,
          1999,
          2000,
          2001,
          2002,
          2003,
          2004,
          2005,
          2006,
          2007,
          2008,
          2009,
          2010,
          2011,
          2012,
          2013,
          2014,
          2015,
          2016,
          2017,
          2018,
          2019,
          2020,
          2021,
          2022
         ],
         "xaxis": "x2",
         "y": [
          3573000,
          3776000,
          6367000,
          4361000,
          3829000,
          1252000,
          4416000,
          5759000,
          2120000,
          5836000,
          5209200,
          4459500,
          4141000,
          6154500,
          4109790,
          5537480,
          6365550,
          5805000,
          6540700,
          4038900,
          4315000,
          7480000,
          6775000,
          7830000,
          6052000,
          6903656,
          5606800,
          7710000,
          4735000,
          3253775,
          9916000,
          6759800,
          5538240,
          8666310,
          8608815,
          7789750
         ],
         "yaxis": "y2"
        },
        {
         "alignmentgroup": "True",
         "hovertemplate": "product=Maize (White)<br>season_name=Summer<br>type=percent<br>year=%{x}<br>value=%{y}<extra></extra>",
         "legendgroup": "Maize (White)",
         "marker": {
          "color": "#636efa",
          "pattern": {
           "shape": ""
          }
         },
         "name": "Maize (White)",
         "offsetgroup": "Maize (White)",
         "orientation": "v",
         "showlegend": false,
         "textposition": "auto",
         "type": "bar",
         "x": [
          1987,
          1988,
          1989,
          1990,
          1991,
          1992,
          1993,
          1994,
          1995,
          1996,
          1997,
          1998,
          1999,
          2000,
          2001,
          2002,
          2003,
          2004,
          2005,
          2006,
          2007,
          2008,
          2009,
          2010,
          2011,
          2012,
          2013,
          2014,
          2015,
          2016,
          2017,
          2018,
          2019,
          2020,
          2021,
          2022
         ],
         "xaxis": "x",
         "y": [
          46.92113690190488,
          47.39883217612482,
          50.377068440732806,
          46.160540665785085,
          42.69957198948223,
          36.742695481704956,
          44.441121200377225,
          44.052145685241875,
          39.96463506821322,
          52.32289538191276,
          48.994563683903614,
          53.382316501653726,
          49.71486883966625,
          54.191395609162974,
          48.212441205091075,
          49.34003510795639,
          60.564338555180576,
          53.315576781778105,
          51.35470842441144,
          52.7909028526615,
          54.63930775859176,
          52.46628357394994,
          49.05854657810302,
          55.110747616354594,
          49.64224282537529,
          51.006516436715856,
          41.840776249829766,
          46.86465717986607,
          39.68656414932876,
          35.51431094307166,
          51.318211987791486,
          43.521509339696074,
          41.773005459370005,
          48.93447385464621,
          44.99406843238426,
          41.793912379121046
         ],
         "yaxis": "y"
        },
        {
         "alignmentgroup": "True",
         "hovertemplate": "product=Maize (Yellow)<br>season_name=Summer<br>type=orig_unit<br>year=%{x}<br>value=%{y}<extra></extra>",
         "legendgroup": "Maize (Yellow)",
         "marker": {
          "color": "#EF553B",
          "pattern": {
           "shape": ""
          }
         },
         "name": "Maize (Yellow)",
         "offsetgroup": "Maize (Yellow)",
         "orientation": "v",
         "showlegend": true,
         "textposition": "auto",
         "type": "bar",
         "x": [
          1987,
          1988,
          1989,
          1990,
          1991,
          1992,
          1993,
          1994,
          1995,
          1996,
          1997,
          1998,
          1999,
          2000,
          2001,
          2002,
          2003,
          2004,
          2005,
          2006,
          2007,
          2008,
          2009,
          2010,
          2011,
          2012,
          2013,
          2014,
          2015,
          2016,
          2017,
          2018,
          2019,
          2020,
          2021,
          2022
         ],
         "xaxis": "x2",
         "y": [
          3496000,
          2954000,
          5185000,
          3980000,
          3996000,
          1704000,
          4661000,
          6308000,
          2269250,
          3858088,
          4373000,
          2744000,
          2574500,
          3986440,
          3115350,
          4177850,
          3025900,
          3657000,
          4909300,
          2430600,
          2810000,
          5220000,
          5275000,
          4985000,
          4308000,
          5217000,
          6203800,
          6540000,
          5220000,
          4283100,
          6904000,
          6129650,
          5648080,
          6741870,
          7625450,
          7597450
         ],
         "yaxis": "y2"
        },
        {
         "alignmentgroup": "True",
         "hovertemplate": "product=Maize (Yellow)<br>season_name=Summer<br>type=percent<br>year=%{x}<br>value=%{y}<extra></extra>",
         "legendgroup": "Maize (Yellow)",
         "marker": {
          "color": "#EF553B",
          "pattern": {
           "shape": ""
          }
         },
         "name": "Maize (Yellow)",
         "offsetgroup": "Maize (Yellow)",
         "orientation": "v",
         "showlegend": false,
         "textposition": "auto",
         "type": "bar",
         "x": [
          1987,
          1988,
          1989,
          1990,
          1991,
          1992,
          1993,
          1994,
          1995,
          1996,
          1997,
          1998,
          1999,
          2000,
          2001,
          2002,
          2003,
          2004,
          2005,
          2006,
          2007,
          2008,
          2009,
          2010,
          2011,
          2012,
          2013,
          2014,
          2015,
          2016,
          2017,
          2018,
          2019,
          2020,
          2021,
          2022
         ],
         "xaxis": "x",
         "y": [
          45.90996210720948,
          37.08054826490274,
          41.02483113950049,
          42.12771195822624,
          44.561893358571695,
          50.00763027222463,
          46.906717824945254,
          48.25159489190931,
          42.778183079501346,
          34.58984489345665,
          41.12977558736668,
          32.846973086789504,
          30.90821778017888,
          35.10126689612343,
          36.546545859589045,
          37.22546459324017,
          28.789599018799773,
          33.58743570903747,
          38.545670963041125,
          31.769434369179493,
          35.58202892274458,
          36.61417115722174,
          38.196875749002714,
          35.0864721414467,
          35.33687741105697,
          38.5449385442071,
          46.295892077244396,
          39.75289986463347,
          43.75160820686297,
          46.74918984879724,
          35.730227467094835,
          39.46442494216812,
          42.601490125916996,
          38.0680890997926,
          39.85450019865969,
          40.76217588558724
         ],
         "yaxis": "y"
        },
        {
         "alignmentgroup": "True",
         "hovertemplate": "product=Sorghum<br>season_name=Summer<br>type=orig_unit<br>year=%{x}<br>value=%{y}<extra></extra>",
         "legendgroup": "Sorghum",
         "marker": {
          "color": "#ab63fa",
          "pattern": {
           "shape": ""
          }
         },
         "name": "Sorghum",
         "offsetgroup": "Sorghum",
         "orientation": "v",
         "showlegend": true,
         "textposition": "auto",
         "type": "bar",
         "x": [
          1987,
          1988,
          1989,
          1990,
          1991,
          1992,
          1993,
          1994,
          1995,
          1996,
          1997,
          1998,
          1999,
          2000,
          2001,
          2002,
          2003,
          2004,
          2005,
          2006,
          2007,
          2008,
          2009,
          2010,
          2011,
          2012,
          2013,
          2014,
          2015,
          2016,
          2017,
          2018,
          2019,
          2020,
          2021,
          2022
         ],
         "xaxis": "x2",
         "y": [
          448905,
          582071,
          458823,
          282533,
          266623,
          112440,
          310500,
          439008,
          246300,
          445000,
          355000,
          264600,
          155950,
          352450,
          175580,
          197275,
          219513,
          363000,
          260000,
          96000,
          169700,
          255000,
          276500,
          196500,
          155000,
          135500,
          147200,
          265000,
          120500,
          74150,
          152000,
          109855,
          134525,
          155560,
          213645,
          103140
         ],
         "yaxis": "y2"
        },
        {
         "alignmentgroup": "True",
         "hovertemplate": "product=Sorghum<br>season_name=Summer<br>type=percent<br>year=%{x}<br>value=%{y}<extra></extra>",
         "legendgroup": "Sorghum",
         "marker": {
          "color": "#ab63fa",
          "pattern": {
           "shape": ""
          }
         },
         "name": "Sorghum",
         "offsetgroup": "Sorghum",
         "orientation": "v",
         "showlegend": false,
         "textposition": "auto",
         "type": "bar",
         "x": [
          1987,
          1988,
          1989,
          1990,
          1991,
          1992,
          1993,
          1994,
          1995,
          1996,
          1997,
          1998,
          1999,
          2000,
          2001,
          2002,
          2003,
          2004,
          2005,
          2006,
          2007,
          2008,
          2009,
          2010,
          2011,
          2012,
          2013,
          2014,
          2015,
          2016,
          2017,
          2018,
          2019,
          2020,
          2021,
          2022
         ],
         "xaxis": "x",
         "y": [
          5.895083392373246,
          7.306537511543737,
          3.6303059012380006,
          2.9905700609782753,
          2.9732797029385534,
          3.29979926514609,
          3.124766334401524,
          3.358090705502112,
          4.643061140236282,
          3.989665600574225,
          3.338913865427663,
          3.1673866905118455,
          1.8722612401704783,
          3.1033808404337457,
          2.0597501154048965,
          1.7577590214180632,
          2.088532750392873,
          3.3339456282145483,
          2.0414059948242507,
          1.2547789432408587,
          2.1488506434838985,
          1.788623303657384,
          2.0021679894974884,
          1.3830474976518106,
          1.271405756433108,
          1.0011192587195825,
          1.0984808204278627,
          1.6107826397749037,
          1.0099748637791164,
          0.8093325925820821,
          0.7866446371666302,
          0.7072776426095909,
          1.0146749796725585,
          0.8783723121869359,
          1.1166179956517517,
          0.5533713049561981
         ],
         "yaxis": "y"
        },
        {
         "alignmentgroup": "True",
         "hovertemplate": "product=Beans (mixed)<br>season_name=Summer<br>type=orig_unit<br>year=%{x}<br>value=%{y}<extra></extra>",
         "legendgroup": "Beans (mixed)",
         "marker": {
          "color": "#FFA15A",
          "pattern": {
           "shape": ""
          }
         },
         "name": "Beans (mixed)",
         "offsetgroup": "Beans (mixed)",
         "orientation": "v",
         "showlegend": true,
         "textposition": "auto",
         "type": "bar",
         "x": [
          1991,
          1992,
          1993,
          1994,
          1995,
          1996,
          1997,
          1998,
          1999,
          2000,
          2001,
          2002,
          2003,
          2004,
          2005,
          2006,
          2007,
          2008,
          2009,
          2010,
          2011,
          2012,
          2013,
          2014,
          2015,
          2016,
          2017,
          2018,
          2019,
          2020,
          2021,
          2022
         ],
         "xaxis": "x2",
         "y": [
          84283,
          27704,
          61368,
          44000,
          44727,
          49728,
          52000,
          42960,
          76000,
          70684,
          91630,
          59020,
          60295,
          80000,
          69820,
          67250,
          39545,
          58975,
          67030,
          52255,
          41980,
          47695,
          60200,
          82130,
          73390,
          35445,
          68525,
          69330,
          66355,
          64800,
          57672,
          52590
         ],
         "yaxis": "y2"
        },
        {
         "alignmentgroup": "True",
         "hovertemplate": "product=Beans (mixed)<br>season_name=Summer<br>type=percent<br>year=%{x}<br>value=%{y}<extra></extra>",
         "legendgroup": "Beans (mixed)",
         "marker": {
          "color": "#FFA15A",
          "pattern": {
           "shape": ""
          }
         },
         "name": "Beans (mixed)",
         "offsetgroup": "Beans (mixed)",
         "orientation": "v",
         "showlegend": false,
         "textposition": "auto",
         "type": "bar",
         "x": [
          1991,
          1992,
          1993,
          1994,
          1995,
          1996,
          1997,
          1998,
          1999,
          2000,
          2001,
          2002,
          2003,
          2004,
          2005,
          2006,
          2007,
          2008,
          2009,
          2010,
          2011,
          2012,
          2013,
          2014,
          2015,
          2016,
          2017,
          2018,
          2019,
          2020,
          2021,
          2022
         ],
         "xaxis": "x",
         "y": [
          0.9398924068920165,
          0.813034852735746,
          0.617586667985677,
          0.3365678781299952,
          0.8431595437245155,
          0.44583840670866304,
          0.489080340851376,
          0.5142514445366171,
          0.9124197130680113,
          0.622384370336839,
          1.0749225599416259,
          0.5258797994885013,
          0.573670270940392,
          0.7347538574577517,
          0.5481960252254969,
          0.8789987909682058,
          0.5007442468860976,
          0.41366297777723227,
          0.48537186378306196,
          0.36779209664018,
          0.3443458945487863,
          0.3523865907352804,
          0.44924283552824285,
          0.4992210498291051,
          0.6151207904792477,
          0.3868751684972609,
          0.35463699843317986,
          0.4463662005563964,
          0.5004925350393802,
          0.3658943547808784,
          0.30142335671430565,
          0.2821582017417729
         ],
         "yaxis": "y"
        },
        {
         "alignmentgroup": "True",
         "hovertemplate": "product=Groundnuts (In Shell)<br>season_name=Summer<br>type=orig_unit<br>year=%{x}<br>value=%{y}<extra></extra>",
         "legendgroup": "Groundnuts (In Shell)",
         "marker": {
          "color": "#19d3f3",
          "pattern": {
           "shape": ""
          }
         },
         "name": "Groundnuts (In Shell)",
         "offsetgroup": "Groundnuts (In Shell)",
         "orientation": "v",
         "showlegend": true,
         "textposition": "auto",
         "type": "bar",
         "x": [
          1981,
          1982,
          1983,
          1984,
          1985,
          1986,
          1987,
          1988,
          1989,
          1990,
          1991,
          1992,
          1993,
          1994,
          1995,
          1996,
          1997,
          1998,
          1999,
          2000,
          2001,
          2002,
          2003,
          2004,
          2005,
          2006,
          2007,
          2008,
          2009,
          2010,
          2011,
          2012,
          2013,
          2014,
          2015,
          2016,
          2017,
          2018,
          2019,
          2020,
          2021,
          2022
         ],
         "xaxis": "x2",
         "y": [
          216000,
          82000,
          61000,
          50000,
          137000,
          79000,
          84000,
          165000,
          117000,
          79000,
          79000,
          79650,
          90428,
          107809,
          70500,
          130000,
          95000,
          65160,
          98250,
          113550,
          183840,
          120185,
          60005,
          115000,
          64000,
          74000,
          58000,
          88800,
          99500,
          88000,
          64250,
          59000,
          40825,
          74500,
          62300,
          18850,
          92050,
          53750,
          19455,
          50080,
          59950,
          49000
         ],
         "yaxis": "y2"
        },
        {
         "alignmentgroup": "True",
         "hovertemplate": "product=Groundnuts (In Shell)<br>season_name=Summer<br>type=percent<br>year=%{x}<br>value=%{y}<extra></extra>",
         "legendgroup": "Groundnuts (In Shell)",
         "marker": {
          "color": "#19d3f3",
          "pattern": {
           "shape": ""
          }
         },
         "name": "Groundnuts (In Shell)",
         "offsetgroup": "Groundnuts (In Shell)",
         "orientation": "v",
         "showlegend": false,
         "textposition": "auto",
         "type": "bar",
         "x": [
          1981,
          1982,
          1983,
          1984,
          1985,
          1986,
          1987,
          1988,
          1989,
          1990,
          1991,
          1992,
          1993,
          1994,
          1995,
          1996,
          1997,
          1998,
          1999,
          2000,
          2001,
          2002,
          2003,
          2004,
          2005,
          2006,
          2007,
          2008,
          2009,
          2010,
          2011,
          2012,
          2013,
          2014,
          2015,
          2016,
          2017,
          2018,
          2019,
          2020,
          2021,
          2022
         ],
         "xaxis": "x",
         "y": [
          100,
          100,
          100,
          100,
          100,
          100,
          1.103099776031349,
          2.0711883763402,
          0.9257290729646204,
          0.8362033278140385,
          0.8809783722039949,
          2.337504548816134,
          0.9100366186385217,
          0.8246601448481057,
          1.3290126284476567,
          1.1655202878082007,
          0.8935121611707831,
          0.7799959060988354,
          1.179542589591212,
          0.9998266262767822,
          2.1566491697006276,
          1.070871970544316,
          0.5709110972348989,
          1.056208670095518,
          0.5024999371875079,
          0.9672254354148285,
          0.7344333371954397,
          0.6228617622148066,
          0.7204908316636531,
          0.6193800498389788,
          0.5270181925859819,
          0.4359117067487481,
          0.30465679004054,
          0.4528426666536993,
          0.522169576875012,
          0.20574402387285567,
          0.47638578191571257,
          0.3460577423901098,
          0.14674225407567087,
          0.2827776124602838,
          0.31332934933802575,
          0.2628969744313914
         ],
         "yaxis": "y"
        },
        {
         "alignmentgroup": "True",
         "hovertemplate": "product=Soybean<br>season_name=Summer<br>type=orig_unit<br>year=%{x}<br>value=%{y}<extra></extra>",
         "legendgroup": "Soybean",
         "marker": {
          "color": "#FF6692",
          "pattern": {
           "shape": ""
          }
         },
         "name": "Soybean",
         "offsetgroup": "Soybean",
         "orientation": "v",
         "showlegend": true,
         "textposition": "auto",
         "type": "bar",
         "x": [
          1988,
          1989,
          1990,
          1991,
          1992,
          1993,
          1994,
          1995,
          1996,
          1997,
          1998,
          1999,
          2000,
          2001,
          2002,
          2003,
          2004,
          2005,
          2006,
          2007,
          2008,
          2009,
          2010,
          2011,
          2012,
          2013,
          2014,
          2015,
          2016,
          2017,
          2018,
          2019,
          2020,
          2021,
          2022
         ],
         "xaxis": "x2",
         "y": [
          75000,
          85000,
          119000,
          126000,
          62900,
          68600,
          63100,
          58200,
          80000,
          98000,
          215000,
          174800,
          148720,
          209825,
          202497,
          136520,
          220000,
          272500,
          424000,
          205000,
          282000,
          516000,
          566000,
          710000,
          650000,
          784500,
          948000,
          1056800,
          741550,
          1316000,
          1550800,
          1170345,
          1245500,
          1890450,
          2201000
         ],
         "yaxis": "y2"
        },
        {
         "alignmentgroup": "True",
         "hovertemplate": "product=Soybean<br>season_name=Summer<br>type=percent<br>year=%{x}<br>value=%{y}<extra></extra>",
         "legendgroup": "Soybean",
         "marker": {
          "color": "#FF6692",
          "pattern": {
           "shape": ""
          }
         },
         "name": "Soybean",
         "offsetgroup": "Soybean",
         "orientation": "v",
         "showlegend": false,
         "textposition": "auto",
         "type": "bar",
         "x": [
          1988,
          1989,
          1990,
          1991,
          1992,
          1993,
          1994,
          1995,
          1996,
          1997,
          1998,
          1999,
          2000,
          2001,
          2002,
          2003,
          2004,
          2005,
          2006,
          2007,
          2008,
          2009,
          2010,
          2011,
          2012,
          2013,
          2014,
          2015,
          2016,
          2017,
          2018,
          2019,
          2020,
          2021,
          2022
         ],
         "xaxis": "x",
         "y": [
          0.9414492619728182,
          0.6725382154016474,
          1.259597417846463,
          1.4051047455405488,
          1.8459389343444421,
          0.6903670548790484,
          0.48266893431824315,
          1.0971423400801932,
          0.7172432540358157,
          0.9217283346814394,
          2.5736513169313935,
          2.098565340056426,
          1.3095043228523384,
          2.4614823326394375,
          1.8042880677231963,
          1.298904807841153,
          2.020573108008817,
          2.139550513806186,
          5.541940332647126,
          2.595841967673537,
          1.9780069475740483,
          3.736414765210503,
          3.9837398660097953,
          5.823858626241979,
          4.80241710824892,
          5.854335622456918,
          5.762346952855127,
          8.857605278354939,
          8.093871665937193,
          6.810686463890035,
          9.984490174857344,
          8.827502613528194,
          7.032737945672593,
          9.880458189425703,
          11.80890287190801
         ],
         "yaxis": "y"
        },
        {
         "alignmentgroup": "True",
         "hovertemplate": "product=Sunflower Seed<br>season_name=Summer<br>type=orig_unit<br>year=%{x}<br>value=%{y}<extra></extra>",
         "legendgroup": "Sunflower Seed",
         "marker": {
          "color": "#B6E880",
          "pattern": {
           "shape": ""
          }
         },
         "name": "Sunflower Seed",
         "offsetgroup": "Sunflower Seed",
         "orientation": "v",
         "showlegend": true,
         "textposition": "auto",
         "type": "bar",
         "x": [
          1987,
          1988,
          1989,
          1990,
          1991,
          1992,
          1993,
          1994,
          1995,
          1996,
          1997,
          1998,
          1999,
          2000,
          2001,
          2002,
          2003,
          2004,
          2005,
          2006,
          2007,
          2008,
          2009,
          2010,
          2011,
          2012,
          2013,
          2014,
          2015,
          2016,
          2017,
          2018,
          2019,
          2020,
          2021,
          2022
         ],
         "xaxis": "x2",
         "y": [
          13000,
          414370,
          425864,
          625930,
          586397,
          168786,
          328847,
          352226,
          495713,
          755001,
          450000,
          562670,
          1109000,
          530625,
          638320,
          928790,
          642610,
          648000,
          620000,
          520000,
          300000,
          872000,
          801000,
          490000,
          860000,
          522000,
          557000,
          832000,
          663000,
          755000,
          874000,
          858905,
          680940,
          785910,
          677240,
          845550
         ],
         "yaxis": "y2"
        },
        {
         "alignmentgroup": "True",
         "hovertemplate": "product=Sunflower Seed<br>season_name=Summer<br>type=percent<br>year=%{x}<br>value=%{y}<extra></extra>",
         "legendgroup": "Sunflower Seed",
         "marker": {
          "color": "#B6E880",
          "pattern": {
           "shape": ""
          }
         },
         "name": "Sunflower Seed",
         "offsetgroup": "Sunflower Seed",
         "orientation": "v",
         "showlegend": false,
         "textposition": "auto",
         "type": "bar",
         "x": [
          1987,
          1988,
          1989,
          1990,
          1991,
          1992,
          1993,
          1994,
          1995,
          1996,
          1997,
          1998,
          1999,
          2000,
          2001,
          2002,
          2003,
          2004,
          2005,
          2006,
          2007,
          2008,
          2009,
          2010,
          2011,
          2012,
          2013,
          2014,
          2015,
          2016,
          2017,
          2018,
          2019,
          2020,
          2021,
          2022
         ],
         "xaxis": "x",
         "y": [
          0.17071782248104211,
          5.201444409115689,
          3.369527230162437,
          6.625376569349887,
          6.539279424370963,
          4.953396645027997,
          3.3094042987727468,
          2.694271760050357,
          9.344806199796784,
          6.768992175503687,
          4.232426026598446,
          6.735425053478081,
          13.314124497268743,
          4.672241334813893,
          7.488208757633294,
          8.275701439629364,
          6.114043499610338,
          5.9515062454077885,
          4.867968141503982,
          6.796719275887984,
          3.798793123424688,
          6.116390277604858,
          5.80013222273956,
          3.44882073205795,
          7.054251293757891,
          3.8567103546245174,
          4.15661560447228,
          5.057249646387622,
          5.556957134319951,
          8.240675757241698,
          4.523206663708123,
          5.5298739577223675,
          5.13609203239719,
          4.437654820460496,
          3.5396024778262647,
          4.536582382254347
         ],
         "yaxis": "y"
        }
       ],
       "layout": {
        "annotations": [
         {
          "showarrow": false,
          "text": "",
          "textangle": 90,
          "x": 0.98,
          "xanchor": "left",
          "xref": "paper",
          "y": 0.2375,
          "yanchor": "middle",
          "yref": "paper"
         },
         {
          "showarrow": false,
          "text": "",
          "textangle": 90,
          "x": 0.98,
          "xanchor": "left",
          "xref": "paper",
          "y": 0.7625,
          "yanchor": "middle",
          "yref": "paper"
         },
         {
          "align": "left",
          "font": {
           "color": "dimgrey",
           "family": "arial",
           "size": 15
          },
          "showarrow": false,
          "text": "National crop production in South Africa - Summer",
          "x": 0,
          "xref": "paper",
          "y": -0.13,
          "yref": "paper"
         }
        ],
        "barmode": "relative",
        "font": {
         "color": "black",
         "family": "arial",
         "size": 15
        },
        "height": 600,
        "legend": {
         "title": {
          "text": "Product"
         },
         "tracegroupgap": 0,
         "x": 1,
         "y": 1.01
        },
        "margin": {
         "b": 0,
         "l": 0,
         "r": 0,
         "t": 0
        },
        "template": {
         "data": {
          "bar": [
           {
            "error_x": {
             "color": "#2a3f5f"
            },
            "error_y": {
             "color": "#2a3f5f"
            },
            "marker": {
             "line": {
              "color": "#E5ECF6",
              "width": 0.5
             },
             "pattern": {
              "fillmode": "overlay",
              "size": 10,
              "solidity": 0.2
             }
            },
            "type": "bar"
           }
          ],
          "barpolar": [
           {
            "marker": {
             "line": {
              "color": "#E5ECF6",
              "width": 0.5
             },
             "pattern": {
              "fillmode": "overlay",
              "size": 10,
              "solidity": 0.2
             }
            },
            "type": "barpolar"
           }
          ],
          "carpet": [
           {
            "aaxis": {
             "endlinecolor": "#2a3f5f",
             "gridcolor": "white",
             "linecolor": "white",
             "minorgridcolor": "white",
             "startlinecolor": "#2a3f5f"
            },
            "baxis": {
             "endlinecolor": "#2a3f5f",
             "gridcolor": "white",
             "linecolor": "white",
             "minorgridcolor": "white",
             "startlinecolor": "#2a3f5f"
            },
            "type": "carpet"
           }
          ],
          "choropleth": [
           {
            "colorbar": {
             "outlinewidth": 0,
             "ticks": ""
            },
            "type": "choropleth"
           }
          ],
          "contour": [
           {
            "colorbar": {
             "outlinewidth": 0,
             "ticks": ""
            },
            "colorscale": [
             [
              0,
              "#0d0887"
             ],
             [
              0.1111111111111111,
              "#46039f"
             ],
             [
              0.2222222222222222,
              "#7201a8"
             ],
             [
              0.3333333333333333,
              "#9c179e"
             ],
             [
              0.4444444444444444,
              "#bd3786"
             ],
             [
              0.5555555555555556,
              "#d8576b"
             ],
             [
              0.6666666666666666,
              "#ed7953"
             ],
             [
              0.7777777777777778,
              "#fb9f3a"
             ],
             [
              0.8888888888888888,
              "#fdca26"
             ],
             [
              1,
              "#f0f921"
             ]
            ],
            "type": "contour"
           }
          ],
          "contourcarpet": [
           {
            "colorbar": {
             "outlinewidth": 0,
             "ticks": ""
            },
            "type": "contourcarpet"
           }
          ],
          "heatmap": [
           {
            "colorbar": {
             "outlinewidth": 0,
             "ticks": ""
            },
            "colorscale": [
             [
              0,
              "#0d0887"
             ],
             [
              0.1111111111111111,
              "#46039f"
             ],
             [
              0.2222222222222222,
              "#7201a8"
             ],
             [
              0.3333333333333333,
              "#9c179e"
             ],
             [
              0.4444444444444444,
              "#bd3786"
             ],
             [
              0.5555555555555556,
              "#d8576b"
             ],
             [
              0.6666666666666666,
              "#ed7953"
             ],
             [
              0.7777777777777778,
              "#fb9f3a"
             ],
             [
              0.8888888888888888,
              "#fdca26"
             ],
             [
              1,
              "#f0f921"
             ]
            ],
            "type": "heatmap"
           }
          ],
          "heatmapgl": [
           {
            "colorbar": {
             "outlinewidth": 0,
             "ticks": ""
            },
            "colorscale": [
             [
              0,
              "#0d0887"
             ],
             [
              0.1111111111111111,
              "#46039f"
             ],
             [
              0.2222222222222222,
              "#7201a8"
             ],
             [
              0.3333333333333333,
              "#9c179e"
             ],
             [
              0.4444444444444444,
              "#bd3786"
             ],
             [
              0.5555555555555556,
              "#d8576b"
             ],
             [
              0.6666666666666666,
              "#ed7953"
             ],
             [
              0.7777777777777778,
              "#fb9f3a"
             ],
             [
              0.8888888888888888,
              "#fdca26"
             ],
             [
              1,
              "#f0f921"
             ]
            ],
            "type": "heatmapgl"
           }
          ],
          "histogram": [
           {
            "marker": {
             "pattern": {
              "fillmode": "overlay",
              "size": 10,
              "solidity": 0.2
             }
            },
            "type": "histogram"
           }
          ],
          "histogram2d": [
           {
            "colorbar": {
             "outlinewidth": 0,
             "ticks": ""
            },
            "colorscale": [
             [
              0,
              "#0d0887"
             ],
             [
              0.1111111111111111,
              "#46039f"
             ],
             [
              0.2222222222222222,
              "#7201a8"
             ],
             [
              0.3333333333333333,
              "#9c179e"
             ],
             [
              0.4444444444444444,
              "#bd3786"
             ],
             [
              0.5555555555555556,
              "#d8576b"
             ],
             [
              0.6666666666666666,
              "#ed7953"
             ],
             [
              0.7777777777777778,
              "#fb9f3a"
             ],
             [
              0.8888888888888888,
              "#fdca26"
             ],
             [
              1,
              "#f0f921"
             ]
            ],
            "type": "histogram2d"
           }
          ],
          "histogram2dcontour": [
           {
            "colorbar": {
             "outlinewidth": 0,
             "ticks": ""
            },
            "colorscale": [
             [
              0,
              "#0d0887"
             ],
             [
              0.1111111111111111,
              "#46039f"
             ],
             [
              0.2222222222222222,
              "#7201a8"
             ],
             [
              0.3333333333333333,
              "#9c179e"
             ],
             [
              0.4444444444444444,
              "#bd3786"
             ],
             [
              0.5555555555555556,
              "#d8576b"
             ],
             [
              0.6666666666666666,
              "#ed7953"
             ],
             [
              0.7777777777777778,
              "#fb9f3a"
             ],
             [
              0.8888888888888888,
              "#fdca26"
             ],
             [
              1,
              "#f0f921"
             ]
            ],
            "type": "histogram2dcontour"
           }
          ],
          "mesh3d": [
           {
            "colorbar": {
             "outlinewidth": 0,
             "ticks": ""
            },
            "type": "mesh3d"
           }
          ],
          "parcoords": [
           {
            "line": {
             "colorbar": {
              "outlinewidth": 0,
              "ticks": ""
             }
            },
            "type": "parcoords"
           }
          ],
          "pie": [
           {
            "automargin": true,
            "type": "pie"
           }
          ],
          "scatter": [
           {
            "fillpattern": {
             "fillmode": "overlay",
             "size": 10,
             "solidity": 0.2
            },
            "type": "scatter"
           }
          ],
          "scatter3d": [
           {
            "line": {
             "colorbar": {
              "outlinewidth": 0,
              "ticks": ""
             }
            },
            "marker": {
             "colorbar": {
              "outlinewidth": 0,
              "ticks": ""
             }
            },
            "type": "scatter3d"
           }
          ],
          "scattercarpet": [
           {
            "marker": {
             "colorbar": {
              "outlinewidth": 0,
              "ticks": ""
             }
            },
            "type": "scattercarpet"
           }
          ],
          "scattergeo": [
           {
            "marker": {
             "colorbar": {
              "outlinewidth": 0,
              "ticks": ""
             }
            },
            "type": "scattergeo"
           }
          ],
          "scattergl": [
           {
            "marker": {
             "colorbar": {
              "outlinewidth": 0,
              "ticks": ""
             }
            },
            "type": "scattergl"
           }
          ],
          "scattermapbox": [
           {
            "marker": {
             "colorbar": {
              "outlinewidth": 0,
              "ticks": ""
             }
            },
            "type": "scattermapbox"
           }
          ],
          "scatterpolar": [
           {
            "marker": {
             "colorbar": {
              "outlinewidth": 0,
              "ticks": ""
             }
            },
            "type": "scatterpolar"
           }
          ],
          "scatterpolargl": [
           {
            "marker": {
             "colorbar": {
              "outlinewidth": 0,
              "ticks": ""
             }
            },
            "type": "scatterpolargl"
           }
          ],
          "scatterternary": [
           {
            "marker": {
             "colorbar": {
              "outlinewidth": 0,
              "ticks": ""
             }
            },
            "type": "scatterternary"
           }
          ],
          "surface": [
           {
            "colorbar": {
             "outlinewidth": 0,
             "ticks": ""
            },
            "colorscale": [
             [
              0,
              "#0d0887"
             ],
             [
              0.1111111111111111,
              "#46039f"
             ],
             [
              0.2222222222222222,
              "#7201a8"
             ],
             [
              0.3333333333333333,
              "#9c179e"
             ],
             [
              0.4444444444444444,
              "#bd3786"
             ],
             [
              0.5555555555555556,
              "#d8576b"
             ],
             [
              0.6666666666666666,
              "#ed7953"
             ],
             [
              0.7777777777777778,
              "#fb9f3a"
             ],
             [
              0.8888888888888888,
              "#fdca26"
             ],
             [
              1,
              "#f0f921"
             ]
            ],
            "type": "surface"
           }
          ],
          "table": [
           {
            "cells": {
             "fill": {
              "color": "#EBF0F8"
             },
             "line": {
              "color": "white"
             }
            },
            "header": {
             "fill": {
              "color": "#C8D4E3"
             },
             "line": {
              "color": "white"
             }
            },
            "type": "table"
           }
          ]
         },
         "layout": {
          "annotationdefaults": {
           "arrowcolor": "#2a3f5f",
           "arrowhead": 0,
           "arrowwidth": 1
          },
          "autotypenumbers": "strict",
          "coloraxis": {
           "colorbar": {
            "outlinewidth": 0,
            "ticks": ""
           }
          },
          "colorscale": {
           "diverging": [
            [
             0,
             "#8e0152"
            ],
            [
             0.1,
             "#c51b7d"
            ],
            [
             0.2,
             "#de77ae"
            ],
            [
             0.3,
             "#f1b6da"
            ],
            [
             0.4,
             "#fde0ef"
            ],
            [
             0.5,
             "#f7f7f7"
            ],
            [
             0.6,
             "#e6f5d0"
            ],
            [
             0.7,
             "#b8e186"
            ],
            [
             0.8,
             "#7fbc41"
            ],
            [
             0.9,
             "#4d9221"
            ],
            [
             1,
             "#276419"
            ]
           ],
           "sequential": [
            [
             0,
             "#0d0887"
            ],
            [
             0.1111111111111111,
             "#46039f"
            ],
            [
             0.2222222222222222,
             "#7201a8"
            ],
            [
             0.3333333333333333,
             "#9c179e"
            ],
            [
             0.4444444444444444,
             "#bd3786"
            ],
            [
             0.5555555555555556,
             "#d8576b"
            ],
            [
             0.6666666666666666,
             "#ed7953"
            ],
            [
             0.7777777777777778,
             "#fb9f3a"
            ],
            [
             0.8888888888888888,
             "#fdca26"
            ],
            [
             1,
             "#f0f921"
            ]
           ],
           "sequentialminus": [
            [
             0,
             "#0d0887"
            ],
            [
             0.1111111111111111,
             "#46039f"
            ],
            [
             0.2222222222222222,
             "#7201a8"
            ],
            [
             0.3333333333333333,
             "#9c179e"
            ],
            [
             0.4444444444444444,
             "#bd3786"
            ],
            [
             0.5555555555555556,
             "#d8576b"
            ],
            [
             0.6666666666666666,
             "#ed7953"
            ],
            [
             0.7777777777777778,
             "#fb9f3a"
            ],
            [
             0.8888888888888888,
             "#fdca26"
            ],
            [
             1,
             "#f0f921"
            ]
           ]
          },
          "colorway": [
           "#636efa",
           "#EF553B",
           "#00cc96",
           "#ab63fa",
           "#FFA15A",
           "#19d3f3",
           "#FF6692",
           "#B6E880",
           "#FF97FF",
           "#FECB52"
          ],
          "font": {
           "color": "#2a3f5f"
          },
          "geo": {
           "bgcolor": "white",
           "lakecolor": "white",
           "landcolor": "#E5ECF6",
           "showlakes": true,
           "showland": true,
           "subunitcolor": "white"
          },
          "hoverlabel": {
           "align": "left"
          },
          "hovermode": "closest",
          "mapbox": {
           "style": "light"
          },
          "paper_bgcolor": "white",
          "plot_bgcolor": "#E5ECF6",
          "polar": {
           "angularaxis": {
            "gridcolor": "white",
            "linecolor": "white",
            "ticks": ""
           },
           "bgcolor": "#E5ECF6",
           "radialaxis": {
            "gridcolor": "white",
            "linecolor": "white",
            "ticks": ""
           }
          },
          "scene": {
           "xaxis": {
            "backgroundcolor": "#E5ECF6",
            "gridcolor": "white",
            "gridwidth": 2,
            "linecolor": "white",
            "showbackground": true,
            "ticks": "",
            "zerolinecolor": "white"
           },
           "yaxis": {
            "backgroundcolor": "#E5ECF6",
            "gridcolor": "white",
            "gridwidth": 2,
            "linecolor": "white",
            "showbackground": true,
            "ticks": "",
            "zerolinecolor": "white"
           },
           "zaxis": {
            "backgroundcolor": "#E5ECF6",
            "gridcolor": "white",
            "gridwidth": 2,
            "linecolor": "white",
            "showbackground": true,
            "ticks": "",
            "zerolinecolor": "white"
           }
          },
          "shapedefaults": {
           "line": {
            "color": "#2a3f5f"
           }
          },
          "ternary": {
           "aaxis": {
            "gridcolor": "white",
            "linecolor": "white",
            "ticks": ""
           },
           "baxis": {
            "gridcolor": "white",
            "linecolor": "white",
            "ticks": ""
           },
           "bgcolor": "#E5ECF6",
           "caxis": {
            "gridcolor": "white",
            "linecolor": "white",
            "ticks": ""
           }
          },
          "title": {
           "x": 0.05
          },
          "xaxis": {
           "automargin": true,
           "gridcolor": "white",
           "linecolor": "white",
           "ticks": "",
           "title": {
            "standoff": 15
           },
           "zerolinecolor": "white",
           "zerolinewidth": 2
          },
          "yaxis": {
           "automargin": true,
           "gridcolor": "white",
           "linecolor": "white",
           "ticks": "",
           "title": {
            "standoff": 15
           },
           "zerolinecolor": "white",
           "zerolinewidth": 2
          }
         }
        },
        "width": 900,
        "xaxis": {
         "anchor": "y",
         "domain": [
          0,
          0.98
         ],
         "dtick": 1,
         "range": [
          1978.5,
          2022.5
         ],
         "title": {
          "text": ""
         }
        },
        "xaxis2": {
         "anchor": "y2",
         "domain": [
          0,
          0.98
         ],
         "matches": "x",
         "showticklabels": false
        },
        "yaxis": {
         "anchor": "x",
         "domain": [
          0,
          0.475
         ],
         "range": [
          0,
          100
         ],
         "title": {
          "text": "Production (%)"
         }
        },
        "yaxis2": {
         "anchor": "x2",
         "domain": [
          0.525,
          1
         ],
         "title": {
          "text": "Production (t)"
         }
        }
       }
      }
     },
     "metadata": {},
     "output_type": "display_data"
    },
    {
     "data": {
      "application/vnd.plotly.v1+json": {
       "config": {
        "plotlyServerURL": "https://plot.ly"
       },
       "data": [
        {
         "alignmentgroup": "True",
         "hovertemplate": "product=Wheat<br>season_name=Winter<br>type=orig_unit<br>year=%{x}<br>value=%{y}<extra></extra>",
         "legendgroup": "Wheat",
         "marker": {
          "color": "#00cc96",
          "pattern": {
           "shape": ""
          }
         },
         "name": "Wheat",
         "offsetgroup": "Wheat",
         "orientation": "v",
         "showlegend": true,
         "textposition": "auto",
         "type": "bar",
         "x": [
          1979,
          1980,
          1981,
          1982,
          1983,
          1984,
          1985,
          1986,
          1987,
          1988,
          1989,
          1990,
          1991,
          1992,
          1993,
          1994,
          1995,
          1996,
          1997,
          1998,
          1999,
          2000,
          2001,
          2002,
          2003,
          2004,
          2005,
          2006,
          2007,
          2008,
          2009,
          2010,
          2011,
          2012,
          2013,
          2014,
          2015,
          2016,
          2017,
          2018,
          2019,
          2020,
          2021,
          2022
         ],
         "xaxis": "x2",
         "y": [
          2088354,
          1469664,
          2339000,
          2420000,
          1774255,
          2332813,
          1679892,
          2320810,
          3135101,
          3598400,
          2002869,
          1702371,
          2132985,
          1316073,
          1975344,
          1832241,
          1968512,
          2700000,
          2492000,
          1683000,
          1769100,
          2348550,
          2450000,
          2427000,
          1540000,
          1680000,
          1905000,
          2105000,
          1905000,
          2130000,
          1958000,
          1430000,
          2005000,
          1870000,
          1870000,
          1750000,
          1457015,
          1909540,
          1521750,
          1909540,
          1501675,
          2109100,
          2257205,
          2088590
         ],
         "yaxis": "y2"
        },
        {
         "alignmentgroup": "True",
         "hovertemplate": "product=Wheat<br>season_name=Winter<br>type=percent<br>year=%{x}<br>value=%{y}<extra></extra>",
         "legendgroup": "Wheat",
         "marker": {
          "color": "#00cc96",
          "pattern": {
           "shape": ""
          }
         },
         "name": "Wheat",
         "offsetgroup": "Wheat",
         "orientation": "v",
         "showlegend": false,
         "textposition": "auto",
         "type": "bar",
         "x": [
          1979,
          1980,
          1981,
          1982,
          1983,
          1984,
          1985,
          1986,
          1987,
          1988,
          1989,
          1990,
          1991,
          1992,
          1993,
          1994,
          1995,
          1996,
          1997,
          1998,
          1999,
          2000,
          2001,
          2002,
          2003,
          2004,
          2005,
          2006,
          2007,
          2008,
          2009,
          2010,
          2011,
          2012,
          2013,
          2014,
          2015,
          2016,
          2017,
          2018,
          2019,
          2020,
          2021,
          2022
         ],
         "xaxis": "x",
         "y": [
          100,
          100,
          100,
          100,
          100,
          100,
          100,
          100,
          100,
          100,
          100,
          100,
          100,
          100,
          100,
          100,
          100,
          100,
          92.94033841919375,
          88.66761498340445,
          95.11801709769342,
          94.21749194645143,
          93.13815124951482,
          91.7524837816994,
          84.61538461538461,
          88.58423411547588,
          87.62649494020239,
          88.54582930214949,
          87.9643525038672,
          90.53043182590955,
          88.42563530522199,
          86.17884219026843,
          84.42958446327208,
          83.3147694364001,
          83.14436885865457,
          80.5338242061666,
          77.17698295661607,
          94.92642672499503,
          100,
          100,
          100,
          100,
          100,
          100
         ],
         "yaxis": "y"
        },
        {
         "alignmentgroup": "True",
         "hovertemplate": "product=Barley<br>season_name=Winter<br>type=orig_unit<br>year=%{x}<br>value=%{y}<extra></extra>",
         "legendgroup": "Barley",
         "marker": {
          "color": "#FFA15A",
          "pattern": {
           "shape": ""
          }
         },
         "name": "Barley",
         "offsetgroup": "Barley",
         "orientation": "v",
         "showlegend": true,
         "textposition": "auto",
         "type": "bar",
         "x": [
          1997,
          1998,
          1999,
          2000,
          2001,
          2002,
          2003,
          2004,
          2005,
          2006,
          2007,
          2008,
          2009,
          2010,
          2011,
          2012,
          2013,
          2014,
          2015
         ],
         "xaxis": "x2",
         "y": [
          189290,
          215100,
          90800,
          124140,
          156751,
          184370,
          240000,
          185000,
          225000,
          236000,
          222500,
          192000,
          216000,
          194000,
          312000,
          298000,
          267500,
          302000,
          333373
         ],
         "yaxis": "y2"
        },
        {
         "alignmentgroup": "True",
         "hovertemplate": "product=Barley<br>season_name=Winter<br>type=percent<br>year=%{x}<br>value=%{y}<extra></extra>",
         "legendgroup": "Barley",
         "marker": {
          "color": "#FFA15A",
          "pattern": {
           "shape": ""
          }
         },
         "name": "Barley",
         "offsetgroup": "Barley",
         "orientation": "v",
         "showlegend": false,
         "textposition": "auto",
         "type": "bar",
         "x": [
          1997,
          1998,
          1999,
          2000,
          2001,
          2002,
          2003,
          2004,
          2005,
          2006,
          2007,
          2008,
          2009,
          2010,
          2011,
          2012,
          2013,
          2014,
          2015
         ],
         "xaxis": "x",
         "y": [
          7.059661580806253,
          11.332385016595543,
          4.881982902306575,
          4.98016199366949,
          5.958978916943958,
          6.970088765896959,
          13.186813186813188,
          9.75481149485895,
          10.349586016559337,
          9.927228368316998,
          10.274051670399187,
          8.160489629377762,
          9.754819829380976,
          11.691395374064387,
          13.138169751890718,
          13.276899086656272,
          11.89364634742786,
          13.897837091578463,
          17.658515759409458
         ],
         "yaxis": "y"
        },
        {
         "alignmentgroup": "True",
         "hovertemplate": "product=Canola seed<br>season_name=Winter<br>type=orig_unit<br>year=%{x}<br>value=%{y}<extra></extra>",
         "legendgroup": "Canola seed",
         "marker": {
          "color": "#19d3f3",
          "pattern": {
           "shape": ""
          }
         },
         "name": "Canola seed",
         "offsetgroup": "Canola seed",
         "orientation": "v",
         "showlegend": true,
         "textposition": "auto",
         "type": "bar",
         "x": [
          2000,
          2001,
          2002,
          2003,
          2004,
          2005,
          2006,
          2007,
          2008,
          2009,
          2010,
          2011,
          2012,
          2013,
          2014,
          2015,
          2016
         ],
         "xaxis": "x2",
         "y": [
          20000,
          23750,
          33790,
          40000,
          31500,
          44000,
          36300,
          38150,
          30800,
          40290,
          35340,
          57760,
          76500,
          111600,
          121000,
          97500,
          102060
         ],
         "yaxis": "y2"
        },
        {
         "alignmentgroup": "True",
         "hovertemplate": "product=Canola seed<br>season_name=Winter<br>type=percent<br>year=%{x}<br>value=%{y}<extra></extra>",
         "legendgroup": "Canola seed",
         "marker": {
          "color": "#19d3f3",
          "pattern": {
           "shape": ""
          }
         },
         "name": "Canola seed",
         "offsetgroup": "Canola seed",
         "orientation": "v",
         "showlegend": false,
         "textposition": "auto",
         "type": "bar",
         "x": [
          2000,
          2001,
          2002,
          2003,
          2004,
          2005,
          2006,
          2007,
          2008,
          2009,
          2010,
          2011,
          2012,
          2013,
          2014,
          2015,
          2016
         ],
         "xaxis": "x",
         "y": [
          0.8023460598790864,
          0.9028698335412151,
          1.2774274524036353,
          2.197802197802198,
          1.6609543896651726,
          2.02391904323827,
          1.5269423295335043,
          1.7615958257336135,
          1.3090785447126827,
          1.8195448653970345,
          2.129762435667193,
          2.4322457848372045,
          3.40833147694364,
          4.9619847939175665,
          5.568338702254947,
          5.164501283974473,
          5.0735732750049705
         ],
         "yaxis": "y"
        }
       ],
       "layout": {
        "annotations": [
         {
          "showarrow": false,
          "text": "",
          "textangle": 90,
          "x": 0.98,
          "xanchor": "left",
          "xref": "paper",
          "y": 0.2375,
          "yanchor": "middle",
          "yref": "paper"
         },
         {
          "showarrow": false,
          "text": "",
          "textangle": 90,
          "x": 0.98,
          "xanchor": "left",
          "xref": "paper",
          "y": 0.7625,
          "yanchor": "middle",
          "yref": "paper"
         },
         {
          "align": "left",
          "font": {
           "color": "dimgrey",
           "family": "arial",
           "size": 15
          },
          "showarrow": false,
          "text": "National crop production in South Africa - Winter",
          "x": 0,
          "xref": "paper",
          "y": -0.13,
          "yref": "paper"
         }
        ],
        "barmode": "relative",
        "font": {
         "color": "black",
         "family": "arial",
         "size": 15
        },
        "height": 600,
        "legend": {
         "title": {
          "text": "Product"
         },
         "tracegroupgap": 0,
         "x": 1,
         "y": 1.01
        },
        "margin": {
         "b": 0,
         "l": 0,
         "r": 0,
         "t": 0
        },
        "template": {
         "data": {
          "bar": [
           {
            "error_x": {
             "color": "#2a3f5f"
            },
            "error_y": {
             "color": "#2a3f5f"
            },
            "marker": {
             "line": {
              "color": "#E5ECF6",
              "width": 0.5
             },
             "pattern": {
              "fillmode": "overlay",
              "size": 10,
              "solidity": 0.2
             }
            },
            "type": "bar"
           }
          ],
          "barpolar": [
           {
            "marker": {
             "line": {
              "color": "#E5ECF6",
              "width": 0.5
             },
             "pattern": {
              "fillmode": "overlay",
              "size": 10,
              "solidity": 0.2
             }
            },
            "type": "barpolar"
           }
          ],
          "carpet": [
           {
            "aaxis": {
             "endlinecolor": "#2a3f5f",
             "gridcolor": "white",
             "linecolor": "white",
             "minorgridcolor": "white",
             "startlinecolor": "#2a3f5f"
            },
            "baxis": {
             "endlinecolor": "#2a3f5f",
             "gridcolor": "white",
             "linecolor": "white",
             "minorgridcolor": "white",
             "startlinecolor": "#2a3f5f"
            },
            "type": "carpet"
           }
          ],
          "choropleth": [
           {
            "colorbar": {
             "outlinewidth": 0,
             "ticks": ""
            },
            "type": "choropleth"
           }
          ],
          "contour": [
           {
            "colorbar": {
             "outlinewidth": 0,
             "ticks": ""
            },
            "colorscale": [
             [
              0,
              "#0d0887"
             ],
             [
              0.1111111111111111,
              "#46039f"
             ],
             [
              0.2222222222222222,
              "#7201a8"
             ],
             [
              0.3333333333333333,
              "#9c179e"
             ],
             [
              0.4444444444444444,
              "#bd3786"
             ],
             [
              0.5555555555555556,
              "#d8576b"
             ],
             [
              0.6666666666666666,
              "#ed7953"
             ],
             [
              0.7777777777777778,
              "#fb9f3a"
             ],
             [
              0.8888888888888888,
              "#fdca26"
             ],
             [
              1,
              "#f0f921"
             ]
            ],
            "type": "contour"
           }
          ],
          "contourcarpet": [
           {
            "colorbar": {
             "outlinewidth": 0,
             "ticks": ""
            },
            "type": "contourcarpet"
           }
          ],
          "heatmap": [
           {
            "colorbar": {
             "outlinewidth": 0,
             "ticks": ""
            },
            "colorscale": [
             [
              0,
              "#0d0887"
             ],
             [
              0.1111111111111111,
              "#46039f"
             ],
             [
              0.2222222222222222,
              "#7201a8"
             ],
             [
              0.3333333333333333,
              "#9c179e"
             ],
             [
              0.4444444444444444,
              "#bd3786"
             ],
             [
              0.5555555555555556,
              "#d8576b"
             ],
             [
              0.6666666666666666,
              "#ed7953"
             ],
             [
              0.7777777777777778,
              "#fb9f3a"
             ],
             [
              0.8888888888888888,
              "#fdca26"
             ],
             [
              1,
              "#f0f921"
             ]
            ],
            "type": "heatmap"
           }
          ],
          "heatmapgl": [
           {
            "colorbar": {
             "outlinewidth": 0,
             "ticks": ""
            },
            "colorscale": [
             [
              0,
              "#0d0887"
             ],
             [
              0.1111111111111111,
              "#46039f"
             ],
             [
              0.2222222222222222,
              "#7201a8"
             ],
             [
              0.3333333333333333,
              "#9c179e"
             ],
             [
              0.4444444444444444,
              "#bd3786"
             ],
             [
              0.5555555555555556,
              "#d8576b"
             ],
             [
              0.6666666666666666,
              "#ed7953"
             ],
             [
              0.7777777777777778,
              "#fb9f3a"
             ],
             [
              0.8888888888888888,
              "#fdca26"
             ],
             [
              1,
              "#f0f921"
             ]
            ],
            "type": "heatmapgl"
           }
          ],
          "histogram": [
           {
            "marker": {
             "pattern": {
              "fillmode": "overlay",
              "size": 10,
              "solidity": 0.2
             }
            },
            "type": "histogram"
           }
          ],
          "histogram2d": [
           {
            "colorbar": {
             "outlinewidth": 0,
             "ticks": ""
            },
            "colorscale": [
             [
              0,
              "#0d0887"
             ],
             [
              0.1111111111111111,
              "#46039f"
             ],
             [
              0.2222222222222222,
              "#7201a8"
             ],
             [
              0.3333333333333333,
              "#9c179e"
             ],
             [
              0.4444444444444444,
              "#bd3786"
             ],
             [
              0.5555555555555556,
              "#d8576b"
             ],
             [
              0.6666666666666666,
              "#ed7953"
             ],
             [
              0.7777777777777778,
              "#fb9f3a"
             ],
             [
              0.8888888888888888,
              "#fdca26"
             ],
             [
              1,
              "#f0f921"
             ]
            ],
            "type": "histogram2d"
           }
          ],
          "histogram2dcontour": [
           {
            "colorbar": {
             "outlinewidth": 0,
             "ticks": ""
            },
            "colorscale": [
             [
              0,
              "#0d0887"
             ],
             [
              0.1111111111111111,
              "#46039f"
             ],
             [
              0.2222222222222222,
              "#7201a8"
             ],
             [
              0.3333333333333333,
              "#9c179e"
             ],
             [
              0.4444444444444444,
              "#bd3786"
             ],
             [
              0.5555555555555556,
              "#d8576b"
             ],
             [
              0.6666666666666666,
              "#ed7953"
             ],
             [
              0.7777777777777778,
              "#fb9f3a"
             ],
             [
              0.8888888888888888,
              "#fdca26"
             ],
             [
              1,
              "#f0f921"
             ]
            ],
            "type": "histogram2dcontour"
           }
          ],
          "mesh3d": [
           {
            "colorbar": {
             "outlinewidth": 0,
             "ticks": ""
            },
            "type": "mesh3d"
           }
          ],
          "parcoords": [
           {
            "line": {
             "colorbar": {
              "outlinewidth": 0,
              "ticks": ""
             }
            },
            "type": "parcoords"
           }
          ],
          "pie": [
           {
            "automargin": true,
            "type": "pie"
           }
          ],
          "scatter": [
           {
            "fillpattern": {
             "fillmode": "overlay",
             "size": 10,
             "solidity": 0.2
            },
            "type": "scatter"
           }
          ],
          "scatter3d": [
           {
            "line": {
             "colorbar": {
              "outlinewidth": 0,
              "ticks": ""
             }
            },
            "marker": {
             "colorbar": {
              "outlinewidth": 0,
              "ticks": ""
             }
            },
            "type": "scatter3d"
           }
          ],
          "scattercarpet": [
           {
            "marker": {
             "colorbar": {
              "outlinewidth": 0,
              "ticks": ""
             }
            },
            "type": "scattercarpet"
           }
          ],
          "scattergeo": [
           {
            "marker": {
             "colorbar": {
              "outlinewidth": 0,
              "ticks": ""
             }
            },
            "type": "scattergeo"
           }
          ],
          "scattergl": [
           {
            "marker": {
             "colorbar": {
              "outlinewidth": 0,
              "ticks": ""
             }
            },
            "type": "scattergl"
           }
          ],
          "scattermapbox": [
           {
            "marker": {
             "colorbar": {
              "outlinewidth": 0,
              "ticks": ""
             }
            },
            "type": "scattermapbox"
           }
          ],
          "scatterpolar": [
           {
            "marker": {
             "colorbar": {
              "outlinewidth": 0,
              "ticks": ""
             }
            },
            "type": "scatterpolar"
           }
          ],
          "scatterpolargl": [
           {
            "marker": {
             "colorbar": {
              "outlinewidth": 0,
              "ticks": ""
             }
            },
            "type": "scatterpolargl"
           }
          ],
          "scatterternary": [
           {
            "marker": {
             "colorbar": {
              "outlinewidth": 0,
              "ticks": ""
             }
            },
            "type": "scatterternary"
           }
          ],
          "surface": [
           {
            "colorbar": {
             "outlinewidth": 0,
             "ticks": ""
            },
            "colorscale": [
             [
              0,
              "#0d0887"
             ],
             [
              0.1111111111111111,
              "#46039f"
             ],
             [
              0.2222222222222222,
              "#7201a8"
             ],
             [
              0.3333333333333333,
              "#9c179e"
             ],
             [
              0.4444444444444444,
              "#bd3786"
             ],
             [
              0.5555555555555556,
              "#d8576b"
             ],
             [
              0.6666666666666666,
              "#ed7953"
             ],
             [
              0.7777777777777778,
              "#fb9f3a"
             ],
             [
              0.8888888888888888,
              "#fdca26"
             ],
             [
              1,
              "#f0f921"
             ]
            ],
            "type": "surface"
           }
          ],
          "table": [
           {
            "cells": {
             "fill": {
              "color": "#EBF0F8"
             },
             "line": {
              "color": "white"
             }
            },
            "header": {
             "fill": {
              "color": "#C8D4E3"
             },
             "line": {
              "color": "white"
             }
            },
            "type": "table"
           }
          ]
         },
         "layout": {
          "annotationdefaults": {
           "arrowcolor": "#2a3f5f",
           "arrowhead": 0,
           "arrowwidth": 1
          },
          "autotypenumbers": "strict",
          "coloraxis": {
           "colorbar": {
            "outlinewidth": 0,
            "ticks": ""
           }
          },
          "colorscale": {
           "diverging": [
            [
             0,
             "#8e0152"
            ],
            [
             0.1,
             "#c51b7d"
            ],
            [
             0.2,
             "#de77ae"
            ],
            [
             0.3,
             "#f1b6da"
            ],
            [
             0.4,
             "#fde0ef"
            ],
            [
             0.5,
             "#f7f7f7"
            ],
            [
             0.6,
             "#e6f5d0"
            ],
            [
             0.7,
             "#b8e186"
            ],
            [
             0.8,
             "#7fbc41"
            ],
            [
             0.9,
             "#4d9221"
            ],
            [
             1,
             "#276419"
            ]
           ],
           "sequential": [
            [
             0,
             "#0d0887"
            ],
            [
             0.1111111111111111,
             "#46039f"
            ],
            [
             0.2222222222222222,
             "#7201a8"
            ],
            [
             0.3333333333333333,
             "#9c179e"
            ],
            [
             0.4444444444444444,
             "#bd3786"
            ],
            [
             0.5555555555555556,
             "#d8576b"
            ],
            [
             0.6666666666666666,
             "#ed7953"
            ],
            [
             0.7777777777777778,
             "#fb9f3a"
            ],
            [
             0.8888888888888888,
             "#fdca26"
            ],
            [
             1,
             "#f0f921"
            ]
           ],
           "sequentialminus": [
            [
             0,
             "#0d0887"
            ],
            [
             0.1111111111111111,
             "#46039f"
            ],
            [
             0.2222222222222222,
             "#7201a8"
            ],
            [
             0.3333333333333333,
             "#9c179e"
            ],
            [
             0.4444444444444444,
             "#bd3786"
            ],
            [
             0.5555555555555556,
             "#d8576b"
            ],
            [
             0.6666666666666666,
             "#ed7953"
            ],
            [
             0.7777777777777778,
             "#fb9f3a"
            ],
            [
             0.8888888888888888,
             "#fdca26"
            ],
            [
             1,
             "#f0f921"
            ]
           ]
          },
          "colorway": [
           "#636efa",
           "#EF553B",
           "#00cc96",
           "#ab63fa",
           "#FFA15A",
           "#19d3f3",
           "#FF6692",
           "#B6E880",
           "#FF97FF",
           "#FECB52"
          ],
          "font": {
           "color": "#2a3f5f"
          },
          "geo": {
           "bgcolor": "white",
           "lakecolor": "white",
           "landcolor": "#E5ECF6",
           "showlakes": true,
           "showland": true,
           "subunitcolor": "white"
          },
          "hoverlabel": {
           "align": "left"
          },
          "hovermode": "closest",
          "mapbox": {
           "style": "light"
          },
          "paper_bgcolor": "white",
          "plot_bgcolor": "#E5ECF6",
          "polar": {
           "angularaxis": {
            "gridcolor": "white",
            "linecolor": "white",
            "ticks": ""
           },
           "bgcolor": "#E5ECF6",
           "radialaxis": {
            "gridcolor": "white",
            "linecolor": "white",
            "ticks": ""
           }
          },
          "scene": {
           "xaxis": {
            "backgroundcolor": "#E5ECF6",
            "gridcolor": "white",
            "gridwidth": 2,
            "linecolor": "white",
            "showbackground": true,
            "ticks": "",
            "zerolinecolor": "white"
           },
           "yaxis": {
            "backgroundcolor": "#E5ECF6",
            "gridcolor": "white",
            "gridwidth": 2,
            "linecolor": "white",
            "showbackground": true,
            "ticks": "",
            "zerolinecolor": "white"
           },
           "zaxis": {
            "backgroundcolor": "#E5ECF6",
            "gridcolor": "white",
            "gridwidth": 2,
            "linecolor": "white",
            "showbackground": true,
            "ticks": "",
            "zerolinecolor": "white"
           }
          },
          "shapedefaults": {
           "line": {
            "color": "#2a3f5f"
           }
          },
          "ternary": {
           "aaxis": {
            "gridcolor": "white",
            "linecolor": "white",
            "ticks": ""
           },
           "baxis": {
            "gridcolor": "white",
            "linecolor": "white",
            "ticks": ""
           },
           "bgcolor": "#E5ECF6",
           "caxis": {
            "gridcolor": "white",
            "linecolor": "white",
            "ticks": ""
           }
          },
          "title": {
           "x": 0.05
          },
          "xaxis": {
           "automargin": true,
           "gridcolor": "white",
           "linecolor": "white",
           "ticks": "",
           "title": {
            "standoff": 15
           },
           "zerolinecolor": "white",
           "zerolinewidth": 2
          },
          "yaxis": {
           "automargin": true,
           "gridcolor": "white",
           "linecolor": "white",
           "ticks": "",
           "title": {
            "standoff": 15
           },
           "zerolinecolor": "white",
           "zerolinewidth": 2
          }
         }
        },
        "width": 900,
        "xaxis": {
         "anchor": "y",
         "domain": [
          0,
          0.98
         ],
         "dtick": 1,
         "range": [
          1978.5,
          2022.5
         ],
         "title": {
          "text": ""
         }
        },
        "xaxis2": {
         "anchor": "y2",
         "domain": [
          0,
          0.98
         ],
         "matches": "x",
         "showticklabels": false
        },
        "yaxis": {
         "anchor": "x",
         "domain": [
          0,
          0.475
         ],
         "range": [
          0,
          100
         ],
         "title": {
          "text": "Production (%)"
         }
        },
        "yaxis2": {
         "anchor": "x2",
         "domain": [
          0.525,
          1
         ],
         "title": {
          "text": "Production (t)"
         }
        }
       }
      }
     },
     "metadata": {},
     "output_type": "display_data"
    }
   ],
   "source": [
    "# Bar chart of national crop production\n",
    "country_iso, country_name = 'ZA', 'South Africa'\n",
    "df = pd.read_csv('../data/crop/adm_crop_production_%s.csv' % country_iso, index_col=0)\n",
    "df['year'] = df['harvest_year']\n",
    "year = [df['year'].min(), df['year'].max()]\n",
    "product_order = ['Maize (White)', 'Maize (Yellow)','Wheat','Sorghum']\n",
    "for season_name in ['Summer','Winter']:\n",
    "    footnote = 'National crop production in %s - %s' % (country_name, season_name)\n",
    "    fn_save = '../figures/%s_bar_natgrainprod_%s.png' % (country_iso, season_name)\n",
    "    sub = df[df['season_name'] == season_name]\n",
    "    fig = PlotBarProduction(sub, year, product_order, footnote)#, fn_save)\n",
    "    fig.show()"
   ]
  },
  {
   "cell_type": "code",
   "execution_count": 7,
   "id": "ccb7fdc2-515d-4d5d-a437-369dd25bc884",
   "metadata": {},
   "outputs": [
    {
     "data": {
      "application/vnd.plotly.v1+json": {
       "config": {
        "plotlyServerURL": "https://plot.ly"
       },
       "data": [
        {
         "connectgaps": false,
         "hovertemplate": "fnid=ZA1994A101<br>indicator=production<br>year=%{x}<br>value=%{y}<extra></extra>",
         "legendgroup": "ZA1994A101",
         "line": {
          "color": "#636efa",
          "dash": "solid"
         },
         "marker": {
          "symbol": "circle"
         },
         "mode": "lines+markers",
         "name": "ZA1994A101",
         "orientation": "v",
         "showlegend": true,
         "type": "scatter",
         "x": [
          1987,
          1988,
          1989,
          1990,
          1991,
          1992,
          1993,
          1994,
          1995,
          1996,
          1997,
          1998,
          1999,
          2000,
          2001,
          2002,
          2003,
          2004,
          2005,
          2006,
          2007,
          2008,
          2009,
          2010,
          2011,
          2012,
          2013,
          2014,
          2015,
          2016,
          2017,
          2018,
          2019,
          2020,
          2021,
          2022
         ],
         "xaxis": "x3",
         "y": [
          1000,
          2000,
          2000,
          2000,
          2000,
          null,
          2000,
          2000,
          1000,
          9000,
          7900,
          null,
          null,
          null,
          840,
          480,
          300,
          600,
          null,
          null,
          300,
          10000,
          15000,
          3500,
          2000,
          5000,
          3000,
          4500,
          4050,
          5000,
          2000,
          null,
          3600,
          3600,
          4500,
          4750
         ],
         "yaxis": "y3"
        },
        {
         "connectgaps": false,
         "hovertemplate": "fnid=ZA1994A101<br>indicator=area<br>year=%{x}<br>value=%{y}<extra></extra>",
         "legendgroup": "ZA1994A101",
         "line": {
          "color": "#636efa",
          "dash": "solid"
         },
         "marker": {
          "symbol": "circle"
         },
         "mode": "lines+markers",
         "name": "ZA1994A101",
         "orientation": "v",
         "showlegend": false,
         "type": "scatter",
         "x": [
          1987,
          1988,
          1989,
          1990,
          1991,
          1992,
          1993,
          1994,
          1995,
          1996,
          1997,
          1998,
          1999,
          2000,
          2001,
          2002,
          2003,
          2004,
          2005,
          2006,
          2007,
          2008,
          2009,
          2010,
          2011,
          2012,
          2013,
          2014,
          2015,
          2016,
          2017,
          2018,
          2019,
          2020,
          2021,
          2022
         ],
         "xaxis": "x2",
         "y": [
          1000,
          1000,
          1000,
          1000,
          1000,
          1000,
          1000,
          1063,
          1000,
          1000,
          1000,
          null,
          null,
          null,
          105,
          80,
          50,
          100,
          null,
          null,
          30,
          1000,
          1500,
          500,
          300,
          500,
          300,
          500,
          450,
          500,
          200,
          null,
          400,
          400,
          500,
          500
         ],
         "yaxis": "y2"
        },
        {
         "connectgaps": false,
         "hovertemplate": "fnid=ZA1994A101<br>indicator=yield<br>year=%{x}<br>value=%{y}<extra></extra>",
         "legendgroup": "ZA1994A101",
         "line": {
          "color": "#636efa",
          "dash": "solid"
         },
         "marker": {
          "symbol": "circle"
         },
         "mode": "lines+markers",
         "name": "ZA1994A101",
         "orientation": "v",
         "showlegend": false,
         "type": "scatter",
         "x": [
          1987,
          1988,
          1989,
          1990,
          1991,
          1992,
          1993,
          1994,
          1995,
          1996,
          1997,
          1998,
          1999,
          2000,
          2001,
          2002,
          2003,
          2004,
          2005,
          2006,
          2007,
          2008,
          2009,
          2010,
          2011,
          2012,
          2013,
          2014,
          2015,
          2016,
          2017,
          2018,
          2019,
          2020,
          2021,
          2022
         ],
         "xaxis": "x",
         "y": [
          1,
          2,
          2,
          2,
          2,
          null,
          2,
          1.881467544684854,
          1,
          9,
          7.9,
          null,
          null,
          null,
          8,
          6,
          6,
          6,
          null,
          null,
          10,
          10,
          10,
          7,
          6.666666666666667,
          10,
          10,
          9,
          9,
          10,
          10,
          null,
          9,
          9,
          9,
          9.5
         ],
         "yaxis": "y"
        },
        {
         "connectgaps": false,
         "hovertemplate": "fnid=ZA1994A102<br>indicator=production<br>year=%{x}<br>value=%{y}<extra></extra>",
         "legendgroup": "ZA1994A102",
         "line": {
          "color": "#EF553B",
          "dash": "solid"
         },
         "marker": {
          "symbol": "circle"
         },
         "mode": "lines+markers",
         "name": "ZA1994A102",
         "orientation": "v",
         "showlegend": true,
         "type": "scatter",
         "x": [
          1987,
          1988,
          1989,
          1990,
          1991,
          1992,
          1993,
          1994,
          1995,
          1996,
          1997,
          1998,
          1999,
          2000,
          2001,
          2002,
          2003,
          2004,
          2005,
          2006,
          2007,
          2008,
          2009,
          2010,
          2011,
          2012,
          2013,
          2014,
          2015,
          2016,
          2017,
          2018,
          2019,
          2020,
          2021,
          2022
         ],
         "xaxis": "x3",
         "y": [
          12000,
          22000,
          27000,
          40000,
          41000,
          2000,
          26000,
          30000,
          60000,
          48000,
          15800,
          14000,
          10000,
          19200,
          19600,
          11000,
          14700,
          20000,
          19000,
          15400,
          15000,
          15000,
          15900,
          14500,
          10500,
          17756,
          18500,
          13750,
          15600,
          9200,
          30800,
          21700,
          22800,
          35750,
          39000,
          40800
         ],
         "yaxis": "y3"
        },
        {
         "connectgaps": false,
         "hovertemplate": "fnid=ZA1994A102<br>indicator=area<br>year=%{x}<br>value=%{y}<extra></extra>",
         "legendgroup": "ZA1994A102",
         "line": {
          "color": "#EF553B",
          "dash": "solid"
         },
         "marker": {
          "symbol": "circle"
         },
         "mode": "lines+markers",
         "name": "ZA1994A102",
         "orientation": "v",
         "showlegend": false,
         "type": "scatter",
         "x": [
          1987,
          1988,
          1989,
          1990,
          1991,
          1992,
          1993,
          1994,
          1995,
          1996,
          1997,
          1998,
          1999,
          2000,
          2001,
          2002,
          2003,
          2004,
          2005,
          2006,
          2007,
          2008,
          2009,
          2010,
          2011,
          2012,
          2013,
          2014,
          2015,
          2016,
          2017,
          2018,
          2019,
          2020,
          2021,
          2022
         ],
         "xaxis": "x2",
         "y": [
          6000,
          13000,
          15000,
          22000,
          22000,
          12000,
          12000,
          12386,
          14400,
          16000,
          6000,
          5000,
          4000,
          6000,
          4900,
          2500,
          3500,
          5000,
          4000,
          3000,
          3000,
          3000,
          3000,
          3200,
          3000,
          3500,
          3700,
          2500,
          2600,
          2000,
          4400,
          3500,
          3800,
          5500,
          6000,
          6000
         ],
         "yaxis": "y2"
        },
        {
         "connectgaps": false,
         "hovertemplate": "fnid=ZA1994A102<br>indicator=yield<br>year=%{x}<br>value=%{y}<extra></extra>",
         "legendgroup": "ZA1994A102",
         "line": {
          "color": "#EF553B",
          "dash": "solid"
         },
         "marker": {
          "symbol": "circle"
         },
         "mode": "lines+markers",
         "name": "ZA1994A102",
         "orientation": "v",
         "showlegend": false,
         "type": "scatter",
         "x": [
          1987,
          1988,
          1989,
          1990,
          1991,
          1992,
          1993,
          1994,
          1995,
          1996,
          1997,
          1998,
          1999,
          2000,
          2001,
          2002,
          2003,
          2004,
          2005,
          2006,
          2007,
          2008,
          2009,
          2010,
          2011,
          2012,
          2013,
          2014,
          2015,
          2016,
          2017,
          2018,
          2019,
          2020,
          2021,
          2022
         ],
         "xaxis": "x",
         "y": [
          2,
          1.6923076923076923,
          1.8,
          1.818181818181818,
          1.8636363636363635,
          0.1666666666666666,
          2.1666666666666665,
          2.4220894558372357,
          4.166666666666667,
          3,
          2.6333333333333333,
          2.8,
          2.5,
          3.2,
          4,
          4.4,
          4.2,
          4,
          4.75,
          5.133333333333334,
          5,
          5,
          5.3,
          4.53125,
          3.5,
          5.073142857142857,
          5,
          5.5,
          6,
          4.6,
          7,
          6.2,
          6,
          6.5,
          6.5,
          6.8
         ],
         "yaxis": "y"
        },
        {
         "connectgaps": false,
         "hovertemplate": "fnid=ZA1994A103<br>indicator=production<br>year=%{x}<br>value=%{y}<extra></extra>",
         "legendgroup": "ZA1994A103",
         "line": {
          "color": "#00cc96",
          "dash": "solid"
         },
         "marker": {
          "symbol": "circle"
         },
         "mode": "lines+markers",
         "name": "ZA1994A103",
         "orientation": "v",
         "showlegend": true,
         "type": "scatter",
         "x": [
          1987,
          1988,
          1989,
          1990,
          1991,
          1992,
          1993,
          1994,
          1995,
          1996,
          1997,
          1998,
          1999,
          2000,
          2001,
          2002,
          2003,
          2004,
          2005,
          2006,
          2007,
          2008,
          2009,
          2010,
          2011,
          2012,
          2013,
          2014,
          2015,
          2016,
          2017,
          2018,
          2019,
          2020,
          2021,
          2022
         ],
         "xaxis": "x3",
         "y": [
          19000,
          10000,
          33000,
          16000,
          19000,
          16000,
          22000,
          22000,
          23000,
          53000,
          19000,
          21000,
          28000,
          32800,
          29750,
          37000,
          113050,
          62400,
          30500,
          16500,
          42700,
          36000,
          28750,
          23000,
          23000,
          25400,
          25300,
          25300,
          35000,
          34875,
          46200,
          null,
          39440,
          40460,
          40290,
          36000
         ],
         "yaxis": "y3"
        },
        {
         "connectgaps": false,
         "hovertemplate": "fnid=ZA1994A103<br>indicator=area<br>year=%{x}<br>value=%{y}<extra></extra>",
         "legendgroup": "ZA1994A103",
         "line": {
          "color": "#00cc96",
          "dash": "solid"
         },
         "marker": {
          "symbol": "circle"
         },
         "mode": "lines+markers",
         "name": "ZA1994A103",
         "orientation": "v",
         "showlegend": false,
         "type": "scatter",
         "x": [
          1987,
          1988,
          1989,
          1990,
          1991,
          1992,
          1993,
          1994,
          1995,
          1996,
          1997,
          1998,
          1999,
          2000,
          2001,
          2002,
          2003,
          2004,
          2005,
          2006,
          2007,
          2008,
          2009,
          2010,
          2011,
          2012,
          2013,
          2014,
          2015,
          2016,
          2017,
          2018,
          2019,
          2020,
          2021,
          2022
         ],
         "xaxis": "x2",
         "y": [
          4000,
          2000,
          6000,
          3000,
          6000,
          3000,
          4000,
          5000,
          3000,
          10000,
          3000,
          3000,
          3700,
          4000,
          3500,
          4000,
          11900,
          6200,
          3000,
          1500,
          3770,
          3000,
          2500,
          2000,
          2000,
          2200,
          2200,
          2200,
          3500,
          3750,
          3500,
          null,
          3400,
          3400,
          3400,
          3000
         ],
         "yaxis": "y2"
        },
        {
         "connectgaps": false,
         "hovertemplate": "fnid=ZA1994A103<br>indicator=yield<br>year=%{x}<br>value=%{y}<extra></extra>",
         "legendgroup": "ZA1994A103",
         "line": {
          "color": "#00cc96",
          "dash": "solid"
         },
         "marker": {
          "symbol": "circle"
         },
         "mode": "lines+markers",
         "name": "ZA1994A103",
         "orientation": "v",
         "showlegend": false,
         "type": "scatter",
         "x": [
          1987,
          1988,
          1989,
          1990,
          1991,
          1992,
          1993,
          1994,
          1995,
          1996,
          1997,
          1998,
          1999,
          2000,
          2001,
          2002,
          2003,
          2004,
          2005,
          2006,
          2007,
          2008,
          2009,
          2010,
          2011,
          2012,
          2013,
          2014,
          2015,
          2016,
          2017,
          2018,
          2019,
          2020,
          2021,
          2022
         ],
         "xaxis": "x",
         "y": [
          4.75,
          5,
          5.5,
          5.333333333333333,
          3.1666666666666665,
          5.333333333333333,
          5.5,
          4.4,
          7.666666666666667,
          5.3,
          6.333333333333333,
          7,
          7.567567567567568,
          8.2,
          8.5,
          9.25,
          9.5,
          10.064516129032258,
          10.166666666666666,
          11,
          11.326259946949602,
          12,
          11.5,
          11.5,
          11.5,
          11.545454545454543,
          11.5,
          11.5,
          10,
          9.3,
          13.2,
          null,
          11.6,
          11.9,
          11.85,
          12
         ],
         "yaxis": "y"
        },
        {
         "connectgaps": false,
         "hovertemplate": "fnid=ZA1994A104<br>indicator=production<br>year=%{x}<br>value=%{y}<extra></extra>",
         "legendgroup": "ZA1994A104",
         "line": {
          "color": "#ab63fa",
          "dash": "solid"
         },
         "marker": {
          "symbol": "circle"
         },
         "mode": "lines+markers",
         "name": "ZA1994A104",
         "orientation": "v",
         "showlegend": true,
         "type": "scatter",
         "x": [
          1987,
          1988,
          1989,
          1990,
          1991,
          1992,
          1993,
          1994,
          1995,
          1996,
          1997,
          1998,
          1999,
          2000,
          2001,
          2002,
          2003,
          2004,
          2005,
          2006,
          2007,
          2008,
          2009,
          2010,
          2011,
          2012,
          2013,
          2014,
          2015,
          2016,
          2017,
          2018,
          2019,
          2020,
          2021,
          2022
         ],
         "xaxis": "x3",
         "y": [
          1477000,
          1440000,
          2235000,
          1588000,
          1170000,
          555000,
          1967000,
          2186000,
          710000,
          2232000,
          2050000,
          1725000,
          1785000,
          2512500,
          1647000,
          2064000,
          2515000,
          2050000,
          2658000,
          1400000,
          1925000,
          2978000,
          2627250,
          3174000,
          2590000,
          3050000,
          2574000,
          3759500,
          2236000,
          1111500,
          5110000,
          3477600,
          2795000,
          4745250,
          4492125,
          3801900
         ],
         "yaxis": "y3"
        },
        {
         "connectgaps": false,
         "hovertemplate": "fnid=ZA1994A104<br>indicator=area<br>year=%{x}<br>value=%{y}<extra></extra>",
         "legendgroup": "ZA1994A104",
         "line": {
          "color": "#ab63fa",
          "dash": "solid"
         },
         "marker": {
          "symbol": "circle"
         },
         "mode": "lines+markers",
         "name": "ZA1994A104",
         "orientation": "v",
         "showlegend": false,
         "type": "scatter",
         "x": [
          1987,
          1988,
          1989,
          1990,
          1991,
          1992,
          1993,
          1994,
          1995,
          1996,
          1997,
          1998,
          1999,
          2000,
          2001,
          2002,
          2003,
          2004,
          2005,
          2006,
          2007,
          2008,
          2009,
          2010,
          2011,
          2012,
          2013,
          2014,
          2015,
          2016,
          2017,
          2018,
          2019,
          2020,
          2021,
          2022
         ],
         "xaxis": "x2",
         "y": [
          929000,
          791000,
          769000,
          663000,
          474000,
          711000,
          727000,
          712000,
          460000,
          683000,
          694000,
          665000,
          682000,
          750000,
          610000,
          688000,
          805000,
          660000,
          660000,
          345000,
          640000,
          690000,
          565000,
          690000,
          595000,
          710000,
          725000,
          730000,
          710000,
          390000,
          805000,
          644000,
          650000,
          855000,
          907500,
          826500
         ],
         "yaxis": "y2"
        },
        {
         "connectgaps": false,
         "hovertemplate": "fnid=ZA1994A104<br>indicator=yield<br>year=%{x}<br>value=%{y}<extra></extra>",
         "legendgroup": "ZA1994A104",
         "line": {
          "color": "#ab63fa",
          "dash": "solid"
         },
         "marker": {
          "symbol": "circle"
         },
         "mode": "lines+markers",
         "name": "ZA1994A104",
         "orientation": "v",
         "showlegend": false,
         "type": "scatter",
         "x": [
          1987,
          1988,
          1989,
          1990,
          1991,
          1992,
          1993,
          1994,
          1995,
          1996,
          1997,
          1998,
          1999,
          2000,
          2001,
          2002,
          2003,
          2004,
          2005,
          2006,
          2007,
          2008,
          2009,
          2010,
          2011,
          2012,
          2013,
          2014,
          2015,
          2016,
          2017,
          2018,
          2019,
          2020,
          2021,
          2022
         ],
         "xaxis": "x",
         "y": [
          1.5898815931108718,
          1.820480404551201,
          2.906371911573472,
          2.3951734539969833,
          2.4683544303797467,
          0.7805907172995781,
          2.705639614855571,
          3.0702247191011236,
          1.5434782608695652,
          3.267935578330893,
          2.9538904899135447,
          2.593984962406015,
          2.6173020527859236,
          3.35,
          2.7,
          3,
          3.124223602484472,
          3.106060606060606,
          4.027272727272727,
          4.057971014492754,
          3.0078125,
          4.315942028985507,
          4.65,
          4.6,
          4.352941176470588,
          4.295774647887324,
          3.550344827586207,
          5.15,
          3.149295774647887,
          2.85,
          6.3478260869565215,
          5.4,
          4.3,
          5.55,
          4.95,
          4.6
         ],
         "yaxis": "y"
        },
        {
         "connectgaps": false,
         "hovertemplate": "fnid=ZA1994A105<br>indicator=production<br>year=%{x}<br>value=%{y}<extra></extra>",
         "legendgroup": "ZA1994A105",
         "line": {
          "color": "#FFA15A",
          "dash": "solid"
         },
         "marker": {
          "symbol": "circle"
         },
         "mode": "lines+markers",
         "name": "ZA1994A105",
         "orientation": "v",
         "showlegend": true,
         "type": "scatter",
         "x": [
          1987,
          1988,
          1989,
          1990,
          1991,
          1992,
          1993,
          1994,
          1995,
          1996,
          1997,
          1998,
          1999,
          2000,
          2001,
          2002,
          2003,
          2004,
          2005,
          2006,
          2007,
          2008,
          2009,
          2010,
          2011,
          2012,
          2013,
          2014,
          2015,
          2016,
          2017,
          2018,
          2019,
          2020,
          2021,
          2022
         ],
         "xaxis": "x3",
         "y": [
          164000,
          115000,
          136000,
          102000,
          106000,
          54000,
          75000,
          196000,
          131000,
          145000,
          121000,
          111000,
          95000,
          99000,
          81600,
          147500,
          207500,
          175000,
          170000,
          175000,
          190000,
          237000,
          248000,
          272000,
          214500,
          242000,
          284000,
          266600,
          224000,
          209000,
          350000,
          301500,
          270000,
          305500,
          310000,
          322400
         ],
         "yaxis": "y3"
        },
        {
         "connectgaps": false,
         "hovertemplate": "fnid=ZA1994A105<br>indicator=area<br>year=%{x}<br>value=%{y}<extra></extra>",
         "legendgroup": "ZA1994A105",
         "line": {
          "color": "#FFA15A",
          "dash": "solid"
         },
         "marker": {
          "symbol": "circle"
         },
         "mode": "lines+markers",
         "name": "ZA1994A105",
         "orientation": "v",
         "showlegend": false,
         "type": "scatter",
         "x": [
          1987,
          1988,
          1989,
          1990,
          1991,
          1992,
          1993,
          1994,
          1995,
          1996,
          1997,
          1998,
          1999,
          2000,
          2001,
          2002,
          2003,
          2004,
          2005,
          2006,
          2007,
          2008,
          2009,
          2010,
          2011,
          2012,
          2013,
          2014,
          2015,
          2016,
          2017,
          2018,
          2019,
          2020,
          2021,
          2022
         ],
         "xaxis": "x2",
         "y": [
          54000,
          41000,
          37000,
          29000,
          29000,
          28000,
          22000,
          30530,
          29000,
          35000,
          33000,
          36000,
          37000,
          30000,
          25500,
          32500,
          45000,
          35700,
          35000,
          32000,
          38000,
          41000,
          40000,
          46000,
          39000,
          44000,
          47000,
          43000,
          40000,
          38000,
          50000,
          45000,
          45000,
          47000,
          50000,
          52000
         ],
         "yaxis": "y2"
        },
        {
         "connectgaps": false,
         "hovertemplate": "fnid=ZA1994A105<br>indicator=yield<br>year=%{x}<br>value=%{y}<extra></extra>",
         "legendgroup": "ZA1994A105",
         "line": {
          "color": "#FFA15A",
          "dash": "solid"
         },
         "marker": {
          "symbol": "circle"
         },
         "mode": "lines+markers",
         "name": "ZA1994A105",
         "orientation": "v",
         "showlegend": false,
         "type": "scatter",
         "x": [
          1987,
          1988,
          1989,
          1990,
          1991,
          1992,
          1993,
          1994,
          1995,
          1996,
          1997,
          1998,
          1999,
          2000,
          2001,
          2002,
          2003,
          2004,
          2005,
          2006,
          2007,
          2008,
          2009,
          2010,
          2011,
          2012,
          2013,
          2014,
          2015,
          2016,
          2017,
          2018,
          2019,
          2020,
          2021,
          2022
         ],
         "xaxis": "x",
         "y": [
          3.037037037037037,
          2.8048780487804876,
          3.675675675675676,
          3.5172413793103448,
          3.655172413793104,
          1.9285714285714288,
          3.409090909090909,
          6.419914837864396,
          4.517241379310345,
          4.142857142857143,
          3.6666666666666665,
          3.0833333333333335,
          2.5675675675675675,
          3.3,
          3.2,
          4.538461538461538,
          4.611111111111111,
          4.901960784313726,
          4.857142857142857,
          5.46875,
          5,
          5.780487804878049,
          6.2,
          5.913043478260869,
          5.5,
          5.5,
          6.042553191489362,
          6.2,
          5.6,
          5.5,
          7,
          6.7,
          6,
          6.5,
          6.2,
          6.2
         ],
         "yaxis": "y"
        },
        {
         "connectgaps": false,
         "hovertemplate": "fnid=ZA1994A106<br>indicator=production<br>year=%{x}<br>value=%{y}<extra></extra>",
         "legendgroup": "ZA1994A106",
         "line": {
          "color": "#19d3f3",
          "dash": "solid"
         },
         "marker": {
          "symbol": "circle"
         },
         "mode": "lines+markers",
         "name": "ZA1994A106",
         "orientation": "v",
         "showlegend": true,
         "type": "scatter",
         "x": [
          1987,
          1988,
          1989,
          1990,
          1991,
          1992,
          1993,
          1994,
          1995,
          1996,
          1997,
          1998,
          1999,
          2000,
          2001,
          2002,
          2003,
          2004,
          2005,
          2006,
          2007,
          2008,
          2009,
          2010,
          2011,
          2012,
          2013,
          2014,
          2015,
          2016,
          2017,
          2018,
          2019,
          2020,
          2021,
          2022
         ],
         "xaxis": "x3",
         "y": [
          1217000,
          1511000,
          3231000,
          2033000,
          1892000,
          332000,
          1727000,
          2439000,
          802000,
          2362000,
          2235000,
          1729500,
          1175000,
          2184000,
          1495000,
          2046500,
          2135000,
          2050000,
          2185000,
          1380000,
          1152000,
          2165000,
          2019750,
          2350000,
          1824500,
          2106500,
          1158000,
          2193000,
          1046000,
          782000,
          2599000,
          1739000,
          1267500,
          2256250,
          2134000,
          2047500
         ],
         "yaxis": "y3"
        },
        {
         "connectgaps": false,
         "hovertemplate": "fnid=ZA1994A106<br>indicator=area<br>year=%{x}<br>value=%{y}<extra></extra>",
         "legendgroup": "ZA1994A106",
         "line": {
          "color": "#19d3f3",
          "dash": "solid"
         },
         "marker": {
          "symbol": "circle"
         },
         "mode": "lines+markers",
         "name": "ZA1994A106",
         "orientation": "v",
         "showlegend": false,
         "type": "scatter",
         "x": [
          1987,
          1988,
          1989,
          1990,
          1991,
          1992,
          1993,
          1994,
          1995,
          1996,
          1997,
          1998,
          1999,
          2000,
          2001,
          2002,
          2003,
          2004,
          2005,
          2006,
          2007,
          2008,
          2009,
          2010,
          2011,
          2012,
          2013,
          2014,
          2015,
          2016,
          2017,
          2018,
          2019,
          2020,
          2021,
          2022
         ],
         "xaxis": "x2",
         "y": [
          1051000,
          1088000,
          1115000,
          1037000,
          997000,
          894000,
          1008000,
          1027000,
          669000,
          895000,
          811000,
          808000,
          772000,
          840000,
          650000,
          787000,
          960000,
          760000,
          680000,
          420000,
          620000,
          610000,
          560000,
          635000,
          500000,
          610000,
          565000,
          510000,
          465000,
          340000,
          520000,
          370000,
          390000,
          475000,
          485000,
          450000
         ],
         "yaxis": "y2"
        },
        {
         "connectgaps": false,
         "hovertemplate": "fnid=ZA1994A106<br>indicator=yield<br>year=%{x}<br>value=%{y}<extra></extra>",
         "legendgroup": "ZA1994A106",
         "line": {
          "color": "#19d3f3",
          "dash": "solid"
         },
         "marker": {
          "symbol": "circle"
         },
         "mode": "lines+markers",
         "name": "ZA1994A106",
         "orientation": "v",
         "showlegend": false,
         "type": "scatter",
         "x": [
          1987,
          1988,
          1989,
          1990,
          1991,
          1992,
          1993,
          1994,
          1995,
          1996,
          1997,
          1998,
          1999,
          2000,
          2001,
          2002,
          2003,
          2004,
          2005,
          2006,
          2007,
          2008,
          2009,
          2010,
          2011,
          2012,
          2013,
          2014,
          2015,
          2016,
          2017,
          2018,
          2019,
          2020,
          2021,
          2022
         ],
         "xaxis": "x",
         "y": [
          1.1579448144624167,
          1.3887867647058822,
          2.897757847533632,
          1.9604628736740597,
          1.8976930792377131,
          0.3713646532438479,
          1.7132936507936507,
          2.3748782862706914,
          1.1988041853512703,
          2.6391061452513966,
          2.755856966707768,
          2.140470297029703,
          1.5220207253886011,
          2.6,
          2.3,
          2.600381194409149,
          2.2239583333333335,
          2.6973684210526314,
          3.213235294117647,
          3.2857142857142856,
          1.8580645161290323,
          3.5491803278688523,
          3.606696428571429,
          3.7007874015748032,
          3.649,
          3.4532786885245903,
          2.049557522123894,
          4.3,
          2.249462365591398,
          2.3,
          4.998076923076923,
          4.7,
          3.25,
          4.75,
          4.4,
          4.55
         ],
         "yaxis": "y"
        },
        {
         "connectgaps": false,
         "hovertemplate": "fnid=ZA1994A107<br>indicator=production<br>year=%{x}<br>value=%{y}<extra></extra>",
         "legendgroup": "ZA1994A107",
         "line": {
          "color": "#FF6692",
          "dash": "solid"
         },
         "marker": {
          "symbol": "circle"
         },
         "mode": "lines+markers",
         "name": "ZA1994A107",
         "orientation": "v",
         "showlegend": true,
         "type": "scatter",
         "x": [
          1987,
          1988,
          1989,
          1990,
          1991,
          1992,
          1993,
          1994,
          1995,
          1996,
          1997,
          1998,
          1999,
          2000,
          2001,
          2002,
          2003,
          2004,
          2005,
          2006,
          2007,
          2008,
          2009,
          2010,
          2011,
          2012,
          2013,
          2014,
          2015,
          2016,
          2017,
          2018,
          2019,
          2020,
          2021,
          2022
         ],
         "xaxis": "x3",
         "y": [
          182000,
          195000,
          88000,
          160000,
          143000,
          64000,
          174000,
          256000,
          103000,
          191000,
          179000,
          157500,
          179000,
          221000,
          168000,
          236000,
          265000,
          297000,
          250700,
          245000,
          174000,
          400000,
          358800,
          493000,
          362500,
          378500,
          370000,
          357150,
          193600,
          205800,
          390000,
          290000,
          259200,
          302500,
          371200,
          361600
         ],
         "yaxis": "y3"
        },
        {
         "connectgaps": false,
         "hovertemplate": "fnid=ZA1994A107<br>indicator=area<br>year=%{x}<br>value=%{y}<extra></extra>",
         "legendgroup": "ZA1994A107",
         "line": {
          "color": "#FF6692",
          "dash": "solid"
         },
         "marker": {
          "symbol": "circle"
         },
         "mode": "lines+markers",
         "name": "ZA1994A107",
         "orientation": "v",
         "showlegend": false,
         "type": "scatter",
         "x": [
          1987,
          1988,
          1989,
          1990,
          1991,
          1992,
          1993,
          1994,
          1995,
          1996,
          1997,
          1998,
          1999,
          2000,
          2001,
          2002,
          2003,
          2004,
          2005,
          2006,
          2007,
          2008,
          2009,
          2010,
          2011,
          2012,
          2013,
          2014,
          2015,
          2016,
          2017,
          2018,
          2019,
          2020,
          2021,
          2022
         ],
         "xaxis": "x2",
         "y": [
          75000,
          86000,
          26000,
          58000,
          47000,
          62000,
          62000,
          55000,
          53000,
          49000,
          50000,
          53700,
          60000,
          65000,
          56000,
          60500,
          75500,
          80000,
          60000,
          50000,
          60000,
          80000,
          69000,
          85000,
          74000,
          74000,
          74000,
          65000,
          44000,
          49000,
          60000,
          50000,
          48000,
          55000,
          58000,
          56500
         ],
         "yaxis": "y2"
        },
        {
         "connectgaps": false,
         "hovertemplate": "fnid=ZA1994A107<br>indicator=yield<br>year=%{x}<br>value=%{y}<extra></extra>",
         "legendgroup": "ZA1994A107",
         "line": {
          "color": "#FF6692",
          "dash": "solid"
         },
         "marker": {
          "symbol": "circle"
         },
         "mode": "lines+markers",
         "name": "ZA1994A107",
         "orientation": "v",
         "showlegend": false,
         "type": "scatter",
         "x": [
          1987,
          1988,
          1989,
          1990,
          1991,
          1992,
          1993,
          1994,
          1995,
          1996,
          1997,
          1998,
          1999,
          2000,
          2001,
          2002,
          2003,
          2004,
          2005,
          2006,
          2007,
          2008,
          2009,
          2010,
          2011,
          2012,
          2013,
          2014,
          2015,
          2016,
          2017,
          2018,
          2019,
          2020,
          2021,
          2022
         ],
         "xaxis": "x",
         "y": [
          2.4266666666666667,
          2.2674418604651163,
          3.3846153846153846,
          2.7586206896551726,
          3.0425531914893615,
          1.032258064516129,
          2.806451612903226,
          4.654545454545454,
          1.9433962264150944,
          3.8979591836734695,
          3.58,
          2.9329608938547485,
          2.9833333333333334,
          3.4,
          3,
          3.900826446280992,
          3.5099337748344372,
          3.7125,
          4.178333333333334,
          4.9,
          2.9,
          5,
          5.2,
          5.8,
          4.898648648648648,
          5.114864864864865,
          5,
          5.4946153846153845,
          4.4,
          4.2,
          6.5,
          5.8,
          5.4,
          5.5,
          6.4,
          6.4
         ],
         "yaxis": "y"
        },
        {
         "connectgaps": false,
         "hovertemplate": "fnid=ZA1994A108<br>indicator=production<br>year=%{x}<br>value=%{y}<extra></extra>",
         "legendgroup": "ZA1994A108",
         "line": {
          "color": "#B6E880",
          "dash": "solid"
         },
         "marker": {
          "symbol": "circle"
         },
         "mode": "lines+markers",
         "name": "ZA1994A108",
         "orientation": "v",
         "showlegend": true,
         "type": "scatter",
         "x": [
          1987,
          1988,
          1989,
          1990,
          1991,
          1992,
          1993,
          1994,
          1995,
          1996,
          1997,
          1998,
          1999,
          2000,
          2001,
          2002,
          2003,
          2004,
          2005,
          2006,
          2007,
          2008,
          2009,
          2010,
          2011,
          2012,
          2013,
          2014,
          2015,
          2016,
          2017,
          2018,
          2019,
          2020,
          2021,
          2022
         ],
         "xaxis": "x3",
         "y": [
          400000,
          389000,
          524000,
          365000,
          374000,
          207000,
          378000,
          556000,
          267000,
          744000,
          532000,
          661000,
          827000,
          972000,
          599200,
          905000,
          975000,
          1055000,
          1133500,
          765000,
          720000,
          1475000,
          1290000,
          1370000,
          900000,
          904000,
          1020000,
          907200,
          824000,
          720000,
          1088000,
          840000,
          797500,
          872000,
          1105500,
          1072500
         ],
         "yaxis": "y3"
        },
        {
         "connectgaps": false,
         "hovertemplate": "fnid=ZA1994A108<br>indicator=area<br>year=%{x}<br>value=%{y}<extra></extra>",
         "legendgroup": "ZA1994A108",
         "line": {
          "color": "#B6E880",
          "dash": "solid"
         },
         "marker": {
          "symbol": "circle"
         },
         "mode": "lines+markers",
         "name": "ZA1994A108",
         "orientation": "v",
         "showlegend": false,
         "type": "scatter",
         "x": [
          1987,
          1988,
          1989,
          1990,
          1991,
          1992,
          1993,
          1994,
          1995,
          1996,
          1997,
          1998,
          1999,
          2000,
          2001,
          2002,
          2003,
          2004,
          2005,
          2006,
          2007,
          2008,
          2009,
          2010,
          2011,
          2012,
          2013,
          2014,
          2015,
          2016,
          2017,
          2018,
          2019,
          2020,
          2021,
          2022
         ],
         "xaxis": "x2",
         "y": [
          141000,
          158000,
          149000,
          118000,
          110000,
          134000,
          113000,
          150000,
          152000,
          199000,
          174000,
          210000,
          237000,
          270000,
          214000,
          232000,
          280000,
          262000,
          224000,
          156000,
          220000,
          268000,
          215000,
          232000,
          180000,
          160000,
          170000,
          168000,
          154000,
          160000,
          160000,
          140000,
          145000,
          160000,
          165000,
          165000
         ],
         "yaxis": "y2"
        },
        {
         "connectgaps": false,
         "hovertemplate": "fnid=ZA1994A108<br>indicator=yield<br>year=%{x}<br>value=%{y}<extra></extra>",
         "legendgroup": "ZA1994A108",
         "line": {
          "color": "#B6E880",
          "dash": "solid"
         },
         "marker": {
          "symbol": "circle"
         },
         "mode": "lines+markers",
         "name": "ZA1994A108",
         "orientation": "v",
         "showlegend": false,
         "type": "scatter",
         "x": [
          1987,
          1988,
          1989,
          1990,
          1991,
          1992,
          1993,
          1994,
          1995,
          1996,
          1997,
          1998,
          1999,
          2000,
          2001,
          2002,
          2003,
          2004,
          2005,
          2006,
          2007,
          2008,
          2009,
          2010,
          2011,
          2012,
          2013,
          2014,
          2015,
          2016,
          2017,
          2018,
          2019,
          2020,
          2021,
          2022
         ],
         "xaxis": "x",
         "y": [
          2.8368794326241136,
          2.462025316455696,
          3.5167785234899327,
          3.093220338983051,
          3.4,
          1.544776119402985,
          3.3451327433628317,
          3.7066666666666666,
          1.756578947368421,
          3.738693467336683,
          3.057471264367816,
          3.1476190476190475,
          3.4894514767932487,
          3.6,
          2.8,
          3.900862068965518,
          3.482142857142857,
          4.026717557251908,
          5.060267857142857,
          4.903846153846154,
          3.272727272727273,
          5.503731343283582,
          6,
          5.905172413793103,
          5,
          5.65,
          6,
          5.4,
          5.35064935064935,
          4.5,
          6.8,
          6,
          5.5,
          5.45,
          6.7,
          6.5
         ],
         "yaxis": "y"
        },
        {
         "connectgaps": false,
         "hovertemplate": "fnid=ZA1994A109<br>indicator=production<br>year=%{x}<br>value=%{y}<extra></extra>",
         "legendgroup": "ZA1994A109",
         "line": {
          "color": "#FF97FF",
          "dash": "solid"
         },
         "marker": {
          "symbol": "circle"
         },
         "mode": "lines+markers",
         "name": "ZA1994A109",
         "orientation": "v",
         "showlegend": true,
         "type": "scatter",
         "x": [
          1987,
          1988,
          1989,
          1990,
          1991,
          1992,
          1993,
          1994,
          1995,
          1996,
          1997,
          1998,
          1999,
          2000,
          2001,
          2002,
          2003,
          2004,
          2005,
          2006,
          2007,
          2008,
          2009,
          2010,
          2011,
          2012,
          2013,
          2014,
          2015,
          2016,
          2017,
          2018,
          2019,
          2020,
          2021,
          2022
         ],
         "xaxis": "x3",
         "y": [
          101000,
          92000,
          91000,
          55000,
          82000,
          22000,
          45000,
          72000,
          23000,
          52000,
          49500,
          40500,
          42000,
          114000,
          68800,
          90000,
          140000,
          95000,
          94000,
          42000,
          96000,
          164000,
          171550,
          130000,
          125000,
          174500,
          154000,
          183000,
          156750,
          176400,
          300000,
          90000,
          83200,
          105000,
          112200,
          102300
         ],
         "yaxis": "y3"
        },
        {
         "connectgaps": false,
         "hovertemplate": "fnid=ZA1994A109<br>indicator=area<br>year=%{x}<br>value=%{y}<extra></extra>",
         "legendgroup": "ZA1994A109",
         "line": {
          "color": "#FF97FF",
          "dash": "solid"
         },
         "marker": {
          "symbol": "circle"
         },
         "mode": "lines+markers",
         "name": "ZA1994A109",
         "orientation": "v",
         "showlegend": false,
         "type": "scatter",
         "x": [
          1987,
          1988,
          1989,
          1990,
          1991,
          1992,
          1993,
          1994,
          1995,
          1996,
          1997,
          1998,
          1999,
          2000,
          2001,
          2002,
          2003,
          2004,
          2005,
          2006,
          2007,
          2008,
          2009,
          2010,
          2011,
          2012,
          2013,
          2014,
          2015,
          2016,
          2017,
          2018,
          2019,
          2020,
          2021,
          2022
         ],
         "xaxis": "x2",
         "y": [
          56000,
          71000,
          42000,
          34000,
          31000,
          36000,
          35000,
          34399,
          19500,
          16000,
          22000,
          16500,
          34000,
          38000,
          32000,
          36000,
          51500,
          33000,
          34000,
          12000,
          40000,
          41000,
          33000,
          26000,
          25000,
          32000,
          30000,
          30000,
          28500,
          31500,
          40000,
          12000,
          12800,
          15000,
          16500,
          15500
         ],
         "yaxis": "y2"
        },
        {
         "connectgaps": false,
         "hovertemplate": "fnid=ZA1994A109<br>indicator=yield<br>year=%{x}<br>value=%{y}<extra></extra>",
         "legendgroup": "ZA1994A109",
         "line": {
          "color": "#FF97FF",
          "dash": "solid"
         },
         "marker": {
          "symbol": "circle"
         },
         "mode": "lines+markers",
         "name": "ZA1994A109",
         "orientation": "v",
         "showlegend": false,
         "type": "scatter",
         "x": [
          1987,
          1988,
          1989,
          1990,
          1991,
          1992,
          1993,
          1994,
          1995,
          1996,
          1997,
          1998,
          1999,
          2000,
          2001,
          2002,
          2003,
          2004,
          2005,
          2006,
          2007,
          2008,
          2009,
          2010,
          2011,
          2012,
          2013,
          2014,
          2015,
          2016,
          2017,
          2018,
          2019,
          2020,
          2021,
          2022
         ],
         "xaxis": "x",
         "y": [
          1.8035714285714288,
          1.295774647887324,
          2.1666666666666665,
          1.6176470588235294,
          2.6451612903225805,
          0.6111111111111112,
          1.2857142857142858,
          2.093084101282014,
          1.1794871794871795,
          3.25,
          2.25,
          2.4545454545454546,
          1.2352941176470589,
          3,
          2.15,
          2.5,
          2.7184466019417477,
          2.878787878787879,
          2.764705882352941,
          3.5,
          2.4,
          4,
          5.198484848484848,
          5,
          5,
          5.453125,
          5.133333333333334,
          6.1,
          5.5,
          5.6,
          7.5,
          7.5,
          6.5,
          7,
          6.8,
          6.6
         ],
         "yaxis": "y"
        }
       ],
       "layout": {
        "annotations": [
         {
          "showarrow": false,
          "text": "",
          "textangle": 90,
          "x": 0.98,
          "xanchor": "left",
          "xref": "paper",
          "y": 0.16333333333333333,
          "yanchor": "middle",
          "yref": "paper"
         },
         {
          "showarrow": false,
          "text": "",
          "textangle": 90,
          "x": 0.98,
          "xanchor": "left",
          "xref": "paper",
          "y": 0.5,
          "yanchor": "middle",
          "yref": "paper"
         },
         {
          "showarrow": false,
          "text": "",
          "textangle": 90,
          "x": 0.98,
          "xanchor": "left",
          "xref": "paper",
          "y": 0.8366666666666667,
          "yanchor": "middle",
          "yref": "paper"
         },
         {
          "align": "left",
          "font": {
           "color": "dimgrey",
           "family": "arial",
           "size": 15
          },
          "showarrow": false,
          "text": "Production-Area-Yield time-series of ZA - Maize (White) - Summer",
          "x": -0.014,
          "xref": "paper",
          "y": -0.14,
          "yref": "paper"
         }
        ],
        "font": {
         "color": "black",
         "family": "arial",
         "size": 16
        },
        "height": 600,
        "legend": {
         "font": {
          "size": 14
         },
         "title": {
          "text": "FNID"
         },
         "tracegroupgap": 0,
         "x": 1,
         "xanchor": "left",
         "y": 1,
         "yanchor": "top"
        },
        "margin": {
         "b": 25,
         "l": 0,
         "r": 0,
         "t": 0
        },
        "template": {
         "data": {
          "bar": [
           {
            "error_x": {
             "color": "#2a3f5f"
            },
            "error_y": {
             "color": "#2a3f5f"
            },
            "marker": {
             "line": {
              "color": "#E5ECF6",
              "width": 0.5
             },
             "pattern": {
              "fillmode": "overlay",
              "size": 10,
              "solidity": 0.2
             }
            },
            "type": "bar"
           }
          ],
          "barpolar": [
           {
            "marker": {
             "line": {
              "color": "#E5ECF6",
              "width": 0.5
             },
             "pattern": {
              "fillmode": "overlay",
              "size": 10,
              "solidity": 0.2
             }
            },
            "type": "barpolar"
           }
          ],
          "carpet": [
           {
            "aaxis": {
             "endlinecolor": "#2a3f5f",
             "gridcolor": "white",
             "linecolor": "white",
             "minorgridcolor": "white",
             "startlinecolor": "#2a3f5f"
            },
            "baxis": {
             "endlinecolor": "#2a3f5f",
             "gridcolor": "white",
             "linecolor": "white",
             "minorgridcolor": "white",
             "startlinecolor": "#2a3f5f"
            },
            "type": "carpet"
           }
          ],
          "choropleth": [
           {
            "colorbar": {
             "outlinewidth": 0,
             "ticks": ""
            },
            "type": "choropleth"
           }
          ],
          "contour": [
           {
            "colorbar": {
             "outlinewidth": 0,
             "ticks": ""
            },
            "colorscale": [
             [
              0,
              "#0d0887"
             ],
             [
              0.1111111111111111,
              "#46039f"
             ],
             [
              0.2222222222222222,
              "#7201a8"
             ],
             [
              0.3333333333333333,
              "#9c179e"
             ],
             [
              0.4444444444444444,
              "#bd3786"
             ],
             [
              0.5555555555555556,
              "#d8576b"
             ],
             [
              0.6666666666666666,
              "#ed7953"
             ],
             [
              0.7777777777777778,
              "#fb9f3a"
             ],
             [
              0.8888888888888888,
              "#fdca26"
             ],
             [
              1,
              "#f0f921"
             ]
            ],
            "type": "contour"
           }
          ],
          "contourcarpet": [
           {
            "colorbar": {
             "outlinewidth": 0,
             "ticks": ""
            },
            "type": "contourcarpet"
           }
          ],
          "heatmap": [
           {
            "colorbar": {
             "outlinewidth": 0,
             "ticks": ""
            },
            "colorscale": [
             [
              0,
              "#0d0887"
             ],
             [
              0.1111111111111111,
              "#46039f"
             ],
             [
              0.2222222222222222,
              "#7201a8"
             ],
             [
              0.3333333333333333,
              "#9c179e"
             ],
             [
              0.4444444444444444,
              "#bd3786"
             ],
             [
              0.5555555555555556,
              "#d8576b"
             ],
             [
              0.6666666666666666,
              "#ed7953"
             ],
             [
              0.7777777777777778,
              "#fb9f3a"
             ],
             [
              0.8888888888888888,
              "#fdca26"
             ],
             [
              1,
              "#f0f921"
             ]
            ],
            "type": "heatmap"
           }
          ],
          "heatmapgl": [
           {
            "colorbar": {
             "outlinewidth": 0,
             "ticks": ""
            },
            "colorscale": [
             [
              0,
              "#0d0887"
             ],
             [
              0.1111111111111111,
              "#46039f"
             ],
             [
              0.2222222222222222,
              "#7201a8"
             ],
             [
              0.3333333333333333,
              "#9c179e"
             ],
             [
              0.4444444444444444,
              "#bd3786"
             ],
             [
              0.5555555555555556,
              "#d8576b"
             ],
             [
              0.6666666666666666,
              "#ed7953"
             ],
             [
              0.7777777777777778,
              "#fb9f3a"
             ],
             [
              0.8888888888888888,
              "#fdca26"
             ],
             [
              1,
              "#f0f921"
             ]
            ],
            "type": "heatmapgl"
           }
          ],
          "histogram": [
           {
            "marker": {
             "pattern": {
              "fillmode": "overlay",
              "size": 10,
              "solidity": 0.2
             }
            },
            "type": "histogram"
           }
          ],
          "histogram2d": [
           {
            "colorbar": {
             "outlinewidth": 0,
             "ticks": ""
            },
            "colorscale": [
             [
              0,
              "#0d0887"
             ],
             [
              0.1111111111111111,
              "#46039f"
             ],
             [
              0.2222222222222222,
              "#7201a8"
             ],
             [
              0.3333333333333333,
              "#9c179e"
             ],
             [
              0.4444444444444444,
              "#bd3786"
             ],
             [
              0.5555555555555556,
              "#d8576b"
             ],
             [
              0.6666666666666666,
              "#ed7953"
             ],
             [
              0.7777777777777778,
              "#fb9f3a"
             ],
             [
              0.8888888888888888,
              "#fdca26"
             ],
             [
              1,
              "#f0f921"
             ]
            ],
            "type": "histogram2d"
           }
          ],
          "histogram2dcontour": [
           {
            "colorbar": {
             "outlinewidth": 0,
             "ticks": ""
            },
            "colorscale": [
             [
              0,
              "#0d0887"
             ],
             [
              0.1111111111111111,
              "#46039f"
             ],
             [
              0.2222222222222222,
              "#7201a8"
             ],
             [
              0.3333333333333333,
              "#9c179e"
             ],
             [
              0.4444444444444444,
              "#bd3786"
             ],
             [
              0.5555555555555556,
              "#d8576b"
             ],
             [
              0.6666666666666666,
              "#ed7953"
             ],
             [
              0.7777777777777778,
              "#fb9f3a"
             ],
             [
              0.8888888888888888,
              "#fdca26"
             ],
             [
              1,
              "#f0f921"
             ]
            ],
            "type": "histogram2dcontour"
           }
          ],
          "mesh3d": [
           {
            "colorbar": {
             "outlinewidth": 0,
             "ticks": ""
            },
            "type": "mesh3d"
           }
          ],
          "parcoords": [
           {
            "line": {
             "colorbar": {
              "outlinewidth": 0,
              "ticks": ""
             }
            },
            "type": "parcoords"
           }
          ],
          "pie": [
           {
            "automargin": true,
            "type": "pie"
           }
          ],
          "scatter": [
           {
            "fillpattern": {
             "fillmode": "overlay",
             "size": 10,
             "solidity": 0.2
            },
            "type": "scatter"
           }
          ],
          "scatter3d": [
           {
            "line": {
             "colorbar": {
              "outlinewidth": 0,
              "ticks": ""
             }
            },
            "marker": {
             "colorbar": {
              "outlinewidth": 0,
              "ticks": ""
             }
            },
            "type": "scatter3d"
           }
          ],
          "scattercarpet": [
           {
            "marker": {
             "colorbar": {
              "outlinewidth": 0,
              "ticks": ""
             }
            },
            "type": "scattercarpet"
           }
          ],
          "scattergeo": [
           {
            "marker": {
             "colorbar": {
              "outlinewidth": 0,
              "ticks": ""
             }
            },
            "type": "scattergeo"
           }
          ],
          "scattergl": [
           {
            "marker": {
             "colorbar": {
              "outlinewidth": 0,
              "ticks": ""
             }
            },
            "type": "scattergl"
           }
          ],
          "scattermapbox": [
           {
            "marker": {
             "colorbar": {
              "outlinewidth": 0,
              "ticks": ""
             }
            },
            "type": "scattermapbox"
           }
          ],
          "scatterpolar": [
           {
            "marker": {
             "colorbar": {
              "outlinewidth": 0,
              "ticks": ""
             }
            },
            "type": "scatterpolar"
           }
          ],
          "scatterpolargl": [
           {
            "marker": {
             "colorbar": {
              "outlinewidth": 0,
              "ticks": ""
             }
            },
            "type": "scatterpolargl"
           }
          ],
          "scatterternary": [
           {
            "marker": {
             "colorbar": {
              "outlinewidth": 0,
              "ticks": ""
             }
            },
            "type": "scatterternary"
           }
          ],
          "surface": [
           {
            "colorbar": {
             "outlinewidth": 0,
             "ticks": ""
            },
            "colorscale": [
             [
              0,
              "#0d0887"
             ],
             [
              0.1111111111111111,
              "#46039f"
             ],
             [
              0.2222222222222222,
              "#7201a8"
             ],
             [
              0.3333333333333333,
              "#9c179e"
             ],
             [
              0.4444444444444444,
              "#bd3786"
             ],
             [
              0.5555555555555556,
              "#d8576b"
             ],
             [
              0.6666666666666666,
              "#ed7953"
             ],
             [
              0.7777777777777778,
              "#fb9f3a"
             ],
             [
              0.8888888888888888,
              "#fdca26"
             ],
             [
              1,
              "#f0f921"
             ]
            ],
            "type": "surface"
           }
          ],
          "table": [
           {
            "cells": {
             "fill": {
              "color": "#EBF0F8"
             },
             "line": {
              "color": "white"
             }
            },
            "header": {
             "fill": {
              "color": "#C8D4E3"
             },
             "line": {
              "color": "white"
             }
            },
            "type": "table"
           }
          ]
         },
         "layout": {
          "annotationdefaults": {
           "arrowcolor": "#2a3f5f",
           "arrowhead": 0,
           "arrowwidth": 1
          },
          "autotypenumbers": "strict",
          "coloraxis": {
           "colorbar": {
            "outlinewidth": 0,
            "ticks": ""
           }
          },
          "colorscale": {
           "diverging": [
            [
             0,
             "#8e0152"
            ],
            [
             0.1,
             "#c51b7d"
            ],
            [
             0.2,
             "#de77ae"
            ],
            [
             0.3,
             "#f1b6da"
            ],
            [
             0.4,
             "#fde0ef"
            ],
            [
             0.5,
             "#f7f7f7"
            ],
            [
             0.6,
             "#e6f5d0"
            ],
            [
             0.7,
             "#b8e186"
            ],
            [
             0.8,
             "#7fbc41"
            ],
            [
             0.9,
             "#4d9221"
            ],
            [
             1,
             "#276419"
            ]
           ],
           "sequential": [
            [
             0,
             "#0d0887"
            ],
            [
             0.1111111111111111,
             "#46039f"
            ],
            [
             0.2222222222222222,
             "#7201a8"
            ],
            [
             0.3333333333333333,
             "#9c179e"
            ],
            [
             0.4444444444444444,
             "#bd3786"
            ],
            [
             0.5555555555555556,
             "#d8576b"
            ],
            [
             0.6666666666666666,
             "#ed7953"
            ],
            [
             0.7777777777777778,
             "#fb9f3a"
            ],
            [
             0.8888888888888888,
             "#fdca26"
            ],
            [
             1,
             "#f0f921"
            ]
           ],
           "sequentialminus": [
            [
             0,
             "#0d0887"
            ],
            [
             0.1111111111111111,
             "#46039f"
            ],
            [
             0.2222222222222222,
             "#7201a8"
            ],
            [
             0.3333333333333333,
             "#9c179e"
            ],
            [
             0.4444444444444444,
             "#bd3786"
            ],
            [
             0.5555555555555556,
             "#d8576b"
            ],
            [
             0.6666666666666666,
             "#ed7953"
            ],
            [
             0.7777777777777778,
             "#fb9f3a"
            ],
            [
             0.8888888888888888,
             "#fdca26"
            ],
            [
             1,
             "#f0f921"
            ]
           ]
          },
          "colorway": [
           "#636efa",
           "#EF553B",
           "#00cc96",
           "#ab63fa",
           "#FFA15A",
           "#19d3f3",
           "#FF6692",
           "#B6E880",
           "#FF97FF",
           "#FECB52"
          ],
          "font": {
           "color": "#2a3f5f"
          },
          "geo": {
           "bgcolor": "white",
           "lakecolor": "white",
           "landcolor": "#E5ECF6",
           "showlakes": true,
           "showland": true,
           "subunitcolor": "white"
          },
          "hoverlabel": {
           "align": "left"
          },
          "hovermode": "closest",
          "mapbox": {
           "style": "light"
          },
          "paper_bgcolor": "white",
          "plot_bgcolor": "#E5ECF6",
          "polar": {
           "angularaxis": {
            "gridcolor": "white",
            "linecolor": "white",
            "ticks": ""
           },
           "bgcolor": "#E5ECF6",
           "radialaxis": {
            "gridcolor": "white",
            "linecolor": "white",
            "ticks": ""
           }
          },
          "scene": {
           "xaxis": {
            "backgroundcolor": "#E5ECF6",
            "gridcolor": "white",
            "gridwidth": 2,
            "linecolor": "white",
            "showbackground": true,
            "ticks": "",
            "zerolinecolor": "white"
           },
           "yaxis": {
            "backgroundcolor": "#E5ECF6",
            "gridcolor": "white",
            "gridwidth": 2,
            "linecolor": "white",
            "showbackground": true,
            "ticks": "",
            "zerolinecolor": "white"
           },
           "zaxis": {
            "backgroundcolor": "#E5ECF6",
            "gridcolor": "white",
            "gridwidth": 2,
            "linecolor": "white",
            "showbackground": true,
            "ticks": "",
            "zerolinecolor": "white"
           }
          },
          "shapedefaults": {
           "line": {
            "color": "#2a3f5f"
           }
          },
          "ternary": {
           "aaxis": {
            "gridcolor": "white",
            "linecolor": "white",
            "ticks": ""
           },
           "baxis": {
            "gridcolor": "white",
            "linecolor": "white",
            "ticks": ""
           },
           "bgcolor": "#E5ECF6",
           "caxis": {
            "gridcolor": "white",
            "linecolor": "white",
            "ticks": ""
           }
          },
          "title": {
           "x": 0.05
          },
          "xaxis": {
           "automargin": true,
           "gridcolor": "white",
           "linecolor": "white",
           "ticks": "",
           "title": {
            "standoff": 15
           },
           "zerolinecolor": "white",
           "zerolinewidth": 2
          },
          "yaxis": {
           "automargin": true,
           "gridcolor": "white",
           "linecolor": "white",
           "ticks": "",
           "title": {
            "standoff": 15
           },
           "zerolinecolor": "white",
           "zerolinewidth": 2
          }
         }
        },
        "width": 900,
        "xaxis": {
         "anchor": "y",
         "domain": [
          0,
          0.98
         ],
         "dtick": 1,
         "range": [
          1979,
          2022
         ],
         "title": {
          "text": ""
         }
        },
        "xaxis2": {
         "anchor": "y2",
         "domain": [
          0,
          0.98
         ],
         "dtick": 1,
         "matches": "x",
         "showticklabels": false
        },
        "xaxis3": {
         "anchor": "y3",
         "domain": [
          0,
          0.98
         ],
         "dtick": 1,
         "matches": "x",
         "showticklabels": false
        },
        "yaxis": {
         "anchor": "x",
         "domain": [
          0,
          0.32666666666666666
         ],
         "title": {
          "text": "Yield (mt/ha)"
         }
        },
        "yaxis2": {
         "anchor": "x2",
         "domain": [
          0.33666666666666667,
          0.6633333333333333
         ],
         "title": {
          "text": "Area (ha)"
         }
        },
        "yaxis3": {
         "anchor": "x3",
         "domain": [
          0.6733333333333333,
          1
         ],
         "title": {
          "text": "Production (mt)"
         }
        }
       }
      }
     },
     "metadata": {},
     "output_type": "display_data"
    },
    {
     "data": {
      "application/vnd.plotly.v1+json": {
       "config": {
        "plotlyServerURL": "https://plot.ly"
       },
       "data": [
        {
         "connectgaps": false,
         "hovertemplate": "fnid=ZA1994A101<br>indicator=production<br>year=%{x}<br>value=%{y}<extra></extra>",
         "legendgroup": "ZA1994A101",
         "line": {
          "color": "#636efa",
          "dash": "solid"
         },
         "marker": {
          "symbol": "circle"
         },
         "mode": "lines+markers",
         "name": "ZA1994A101",
         "orientation": "v",
         "showlegend": true,
         "type": "scatter",
         "x": [
          1987,
          1988,
          1989,
          1990,
          1991,
          1992,
          1993,
          1994,
          1995,
          1996,
          1997,
          1998,
          1999,
          2000,
          2001,
          2002,
          2003,
          2004,
          2005,
          2006,
          2007,
          2008,
          2009,
          2010,
          2011,
          2012,
          2013,
          2014,
          2015,
          2016,
          2017,
          2018,
          2019,
          2020,
          2021,
          2022
         ],
         "xaxis": "x3",
         "y": [
          3000,
          2000,
          2000,
          2000,
          1000,
          2000,
          3000,
          4000,
          1900,
          16000,
          16900,
          5000,
          7500,
          8440,
          7800,
          14000,
          20400,
          14000,
          20000,
          27000,
          20000,
          30000,
          35000,
          14000,
          12400,
          25000,
          30000,
          28500,
          34200,
          40000,
          20000,
          33750,
          30600,
          30600,
          31500,
          32900
         ],
         "yaxis": "y3"
        },
        {
         "connectgaps": false,
         "hovertemplate": "fnid=ZA1994A101<br>indicator=area<br>year=%{x}<br>value=%{y}<extra></extra>",
         "legendgroup": "ZA1994A101",
         "line": {
          "color": "#636efa",
          "dash": "solid"
         },
         "marker": {
          "symbol": "circle"
         },
         "mode": "lines+markers",
         "name": "ZA1994A101",
         "orientation": "v",
         "showlegend": false,
         "type": "scatter",
         "x": [
          1987,
          1988,
          1989,
          1990,
          1991,
          1992,
          1993,
          1994,
          1995,
          1996,
          1997,
          1998,
          1999,
          2000,
          2001,
          2002,
          2003,
          2004,
          2005,
          2006,
          2007,
          2008,
          2009,
          2010,
          2011,
          2012,
          2013,
          2014,
          2015,
          2016,
          2017,
          2018,
          2019,
          2020,
          2021,
          2022
         ],
         "xaxis": "x2",
         "y": [
          2000,
          1000,
          1000,
          1000,
          1000,
          1000,
          1000,
          1600,
          1700,
          3000,
          3000,
          1000,
          1000,
          1440,
          1300,
          2000,
          3000,
          2000,
          2000,
          2700,
          2000,
          3000,
          3500,
          2000,
          2000,
          2500,
          3000,
          3000,
          3800,
          4000,
          2000,
          3750,
          3400,
          3400,
          3500,
          3500
         ],
         "yaxis": "y2"
        },
        {
         "connectgaps": false,
         "hovertemplate": "fnid=ZA1994A101<br>indicator=yield<br>year=%{x}<br>value=%{y}<extra></extra>",
         "legendgroup": "ZA1994A101",
         "line": {
          "color": "#636efa",
          "dash": "solid"
         },
         "marker": {
          "symbol": "circle"
         },
         "mode": "lines+markers",
         "name": "ZA1994A101",
         "orientation": "v",
         "showlegend": false,
         "type": "scatter",
         "x": [
          1987,
          1988,
          1989,
          1990,
          1991,
          1992,
          1993,
          1994,
          1995,
          1996,
          1997,
          1998,
          1999,
          2000,
          2001,
          2002,
          2003,
          2004,
          2005,
          2006,
          2007,
          2008,
          2009,
          2010,
          2011,
          2012,
          2013,
          2014,
          2015,
          2016,
          2017,
          2018,
          2019,
          2020,
          2021,
          2022
         ],
         "xaxis": "x",
         "y": [
          1.5,
          2,
          2,
          2,
          1,
          2,
          3,
          2.5,
          1.1176470588235294,
          5.333333333333333,
          5.633333333333334,
          5,
          7.5,
          5.861111111111111,
          6,
          7,
          6.8,
          7,
          10,
          10,
          10,
          10,
          10,
          7,
          6.2,
          10,
          10,
          9.5,
          9,
          10,
          10,
          9,
          9,
          9,
          9,
          9.4
         ],
         "yaxis": "y"
        },
        {
         "connectgaps": false,
         "hovertemplate": "fnid=ZA1994A102<br>indicator=production<br>year=%{x}<br>value=%{y}<extra></extra>",
         "legendgroup": "ZA1994A102",
         "line": {
          "color": "#EF553B",
          "dash": "solid"
         },
         "marker": {
          "symbol": "circle"
         },
         "mode": "lines+markers",
         "name": "ZA1994A102",
         "orientation": "v",
         "showlegend": true,
         "type": "scatter",
         "x": [
          1987,
          1988,
          1989,
          1990,
          1991,
          1992,
          1993,
          1994,
          1995,
          1996,
          1997,
          1998,
          1999,
          2000,
          2001,
          2002,
          2003,
          2004,
          2005,
          2006,
          2007,
          2008,
          2009,
          2010,
          2011,
          2012,
          2013,
          2014,
          2015,
          2016,
          2017,
          2018,
          2019,
          2020,
          2021,
          2022
         ],
         "xaxis": "x3",
         "y": [
          74000,
          48000,
          43000,
          22000,
          21000,
          32000,
          39000,
          46000,
          30006,
          69000,
          29000,
          20000,
          20000,
          24500,
          25200,
          33600,
          35800,
          61600,
          68900,
          55000,
          67600,
          70000,
          76500,
          66000,
          57600,
          75000,
          90000,
          97600,
          84000,
          66000,
          66500,
          71500,
          69630,
          119000,
          133200,
          157850
         ],
         "yaxis": "y3"
        },
        {
         "connectgaps": false,
         "hovertemplate": "fnid=ZA1994A102<br>indicator=area<br>year=%{x}<br>value=%{y}<extra></extra>",
         "legendgroup": "ZA1994A102",
         "line": {
          "color": "#EF553B",
          "dash": "solid"
         },
         "marker": {
          "symbol": "circle"
         },
         "mode": "lines+markers",
         "name": "ZA1994A102",
         "orientation": "v",
         "showlegend": false,
         "type": "scatter",
         "x": [
          1987,
          1988,
          1989,
          1990,
          1991,
          1992,
          1993,
          1994,
          1995,
          1996,
          1997,
          1998,
          1999,
          2000,
          2001,
          2002,
          2003,
          2004,
          2005,
          2006,
          2007,
          2008,
          2009,
          2010,
          2011,
          2012,
          2013,
          2014,
          2015,
          2016,
          2017,
          2018,
          2019,
          2020,
          2021,
          2022
         ],
         "xaxis": "x2",
         "y": [
          38000,
          29000,
          24000,
          13000,
          11000,
          19000,
          17000,
          19000,
          18000,
          24000,
          9000,
          5000,
          5000,
          7000,
          6000,
          7000,
          7000,
          15000,
          13000,
          10000,
          13000,
          13000,
          13000,
          13200,
          12000,
          13500,
          15000,
          16000,
          14000,
          12000,
          9500,
          11000,
          10200,
          17000,
          18000,
          20500
         ],
         "yaxis": "y2"
        },
        {
         "connectgaps": false,
         "hovertemplate": "fnid=ZA1994A102<br>indicator=yield<br>year=%{x}<br>value=%{y}<extra></extra>",
         "legendgroup": "ZA1994A102",
         "line": {
          "color": "#EF553B",
          "dash": "solid"
         },
         "marker": {
          "symbol": "circle"
         },
         "mode": "lines+markers",
         "name": "ZA1994A102",
         "orientation": "v",
         "showlegend": false,
         "type": "scatter",
         "x": [
          1987,
          1988,
          1989,
          1990,
          1991,
          1992,
          1993,
          1994,
          1995,
          1996,
          1997,
          1998,
          1999,
          2000,
          2001,
          2002,
          2003,
          2004,
          2005,
          2006,
          2007,
          2008,
          2009,
          2010,
          2011,
          2012,
          2013,
          2014,
          2015,
          2016,
          2017,
          2018,
          2019,
          2020,
          2021,
          2022
         ],
         "xaxis": "x",
         "y": [
          1.9473684210526316,
          1.6551724137931034,
          1.7916666666666667,
          1.6923076923076923,
          1.9090909090909092,
          1.6842105263157894,
          2.2941176470588234,
          2.4210526315789473,
          1.667,
          2.875,
          3.2222222222222223,
          4,
          4,
          3.5,
          4.2,
          4.8,
          5.114285714285714,
          4.1066666666666665,
          5.3,
          5.5,
          5.2,
          5.384615384615385,
          5.884615384615385,
          5,
          4.8,
          5.555555555555555,
          6,
          6.1,
          6,
          5.5,
          7,
          6.5,
          6.826470588235294,
          7,
          7.4,
          7.7
         ],
         "yaxis": "y"
        },
        {
         "connectgaps": false,
         "hovertemplate": "fnid=ZA1994A103<br>indicator=production<br>year=%{x}<br>value=%{y}<extra></extra>",
         "legendgroup": "ZA1994A103",
         "line": {
          "color": "#00cc96",
          "dash": "solid"
         },
         "marker": {
          "symbol": "circle"
         },
         "mode": "lines+markers",
         "name": "ZA1994A103",
         "orientation": "v",
         "showlegend": true,
         "type": "scatter",
         "x": [
          1987,
          1988,
          1989,
          1990,
          1991,
          1992,
          1993,
          1994,
          1995,
          1996,
          1997,
          1998,
          1999,
          2000,
          2001,
          2002,
          2003,
          2004,
          2005,
          2006,
          2007,
          2008,
          2009,
          2010,
          2011,
          2012,
          2013,
          2014,
          2015,
          2016,
          2017,
          2018,
          2019,
          2020,
          2021,
          2022
         ],
         "xaxis": "x3",
         "y": [
          93000,
          100000,
          129000,
          88000,
          91000,
          109000,
          135000,
          156000,
          137009,
          127007,
          173300,
          155000,
          152000,
          220000,
          288550,
          473500,
          421500,
          448500,
          526400,
          278000,
          498000,
          626000,
          605000,
          586000,
          515200,
          592000,
          650000,
          638400,
          644000,
          675000,
          666000,
          636400,
          630750,
          633570,
          627300,
          672000
         ],
         "yaxis": "y3"
        },
        {
         "connectgaps": false,
         "hovertemplate": "fnid=ZA1994A103<br>indicator=area<br>year=%{x}<br>value=%{y}<extra></extra>",
         "legendgroup": "ZA1994A103",
         "line": {
          "color": "#00cc96",
          "dash": "solid"
         },
         "marker": {
          "symbol": "circle"
         },
         "mode": "lines+markers",
         "name": "ZA1994A103",
         "orientation": "v",
         "showlegend": false,
         "type": "scatter",
         "x": [
          1987,
          1988,
          1989,
          1990,
          1991,
          1992,
          1993,
          1994,
          1995,
          1996,
          1997,
          1998,
          1999,
          2000,
          2001,
          2002,
          2003,
          2004,
          2005,
          2006,
          2007,
          2008,
          2009,
          2010,
          2011,
          2012,
          2013,
          2014,
          2015,
          2016,
          2017,
          2018,
          2019,
          2020,
          2021,
          2022
         ],
         "xaxis": "x2",
         "y": [
          20000,
          21000,
          23000,
          15000,
          13000,
          19000,
          22000,
          24000,
          19000,
          17000,
          22000,
          17000,
          19000,
          20000,
          29000,
          48300,
          43000,
          42500,
          47000,
          25000,
          45000,
          52000,
          48000,
          51000,
          45000,
          47000,
          51000,
          48000,
          46000,
          50000,
          45000,
          43000,
          43500,
          43100,
          41000,
          42000
         ],
         "yaxis": "y2"
        },
        {
         "connectgaps": false,
         "hovertemplate": "fnid=ZA1994A103<br>indicator=yield<br>year=%{x}<br>value=%{y}<extra></extra>",
         "legendgroup": "ZA1994A103",
         "line": {
          "color": "#00cc96",
          "dash": "solid"
         },
         "marker": {
          "symbol": "circle"
         },
         "mode": "lines+markers",
         "name": "ZA1994A103",
         "orientation": "v",
         "showlegend": false,
         "type": "scatter",
         "x": [
          1987,
          1988,
          1989,
          1990,
          1991,
          1992,
          1993,
          1994,
          1995,
          1996,
          1997,
          1998,
          1999,
          2000,
          2001,
          2002,
          2003,
          2004,
          2005,
          2006,
          2007,
          2008,
          2009,
          2010,
          2011,
          2012,
          2013,
          2014,
          2015,
          2016,
          2017,
          2018,
          2019,
          2020,
          2021,
          2022
         ],
         "xaxis": "x",
         "y": [
          4.65,
          4.761904761904762,
          5.608695652173913,
          5.866666666666666,
          7,
          5.7368421052631575,
          6.136363636363637,
          6.5,
          7.211,
          7.471,
          7.877272727272727,
          9.117647058823527,
          8,
          11,
          9.95,
          9.803312629399588,
          9.80232558139535,
          10.552941176470588,
          11.2,
          11.12,
          11.066666666666666,
          12.038461538461538,
          12.604166666666666,
          11.490196078431373,
          11.448888888888888,
          12.595744680851064,
          12.745098039215684,
          13.3,
          14,
          13.5,
          14.8,
          14.8,
          14.5,
          14.7,
          15.3,
          16
         ],
         "yaxis": "y"
        },
        {
         "connectgaps": false,
         "hovertemplate": "fnid=ZA1994A104<br>indicator=production<br>year=%{x}<br>value=%{y}<extra></extra>",
         "legendgroup": "ZA1994A104",
         "line": {
          "color": "#ab63fa",
          "dash": "solid"
         },
         "marker": {
          "symbol": "circle"
         },
         "mode": "lines+markers",
         "name": "ZA1994A104",
         "orientation": "v",
         "showlegend": true,
         "type": "scatter",
         "x": [
          1987,
          1988,
          1989,
          1990,
          1991,
          1992,
          1993,
          1994,
          1995,
          1996,
          1997,
          1998,
          1999,
          2000,
          2001,
          2002,
          2003,
          2004,
          2005,
          2006,
          2007,
          2008,
          2009,
          2010,
          2011,
          2012,
          2013,
          2014,
          2015,
          2016,
          2017,
          2018,
          2019,
          2020,
          2021,
          2022
         ],
         "xaxis": "x3",
         "y": [
          785000,
          822000,
          1405000,
          1191000,
          951000,
          295000,
          1349000,
          2150000,
          547080,
          1059950,
          1360000,
          815000,
          846000,
          1350000,
          949000,
          1153000,
          821500,
          1050000,
          1455000,
          680000,
          930000,
          1950000,
          1900000,
          1902000,
          1461500,
          1773000,
          2310800,
          2487750,
          1708500,
          1007500,
          2252000,
          2009000,
          1710000,
          2208250,
          2499000,
          2547200
         ],
         "yaxis": "y3"
        },
        {
         "connectgaps": false,
         "hovertemplate": "fnid=ZA1994A104<br>indicator=area<br>year=%{x}<br>value=%{y}<extra></extra>",
         "legendgroup": "ZA1994A104",
         "line": {
          "color": "#ab63fa",
          "dash": "solid"
         },
         "marker": {
          "symbol": "circle"
         },
         "mode": "lines+markers",
         "name": "ZA1994A104",
         "orientation": "v",
         "showlegend": false,
         "type": "scatter",
         "x": [
          1987,
          1988,
          1989,
          1990,
          1991,
          1992,
          1993,
          1994,
          1995,
          1996,
          1997,
          1998,
          1999,
          2000,
          2001,
          2002,
          2003,
          2004,
          2005,
          2006,
          2007,
          2008,
          2009,
          2010,
          2011,
          2012,
          2013,
          2014,
          2015,
          2016,
          2017,
          2018,
          2019,
          2020,
          2021,
          2022
         ],
         "xaxis": "x2",
         "y": [
          494000,
          452000,
          483000,
          498000,
          455000,
          423000,
          529000,
          608000,
          470000,
          425000,
          485000,
          360000,
          360000,
          450000,
          365000,
          378000,
          310000,
          350000,
          385000,
          190000,
          380000,
          480000,
          390000,
          466000,
          395000,
          450000,
          505000,
          465000,
          510000,
          310000,
          355000,
          410000,
          380000,
          365000,
          420000,
          398000
         ],
         "yaxis": "y2"
        },
        {
         "connectgaps": false,
         "hovertemplate": "fnid=ZA1994A104<br>indicator=yield<br>year=%{x}<br>value=%{y}<extra></extra>",
         "legendgroup": "ZA1994A104",
         "line": {
          "color": "#ab63fa",
          "dash": "solid"
         },
         "marker": {
          "symbol": "circle"
         },
         "mode": "lines+markers",
         "name": "ZA1994A104",
         "orientation": "v",
         "showlegend": false,
         "type": "scatter",
         "x": [
          1987,
          1988,
          1989,
          1990,
          1991,
          1992,
          1993,
          1994,
          1995,
          1996,
          1997,
          1998,
          1999,
          2000,
          2001,
          2002,
          2003,
          2004,
          2005,
          2006,
          2007,
          2008,
          2009,
          2010,
          2011,
          2012,
          2013,
          2014,
          2015,
          2016,
          2017,
          2018,
          2019,
          2020,
          2021,
          2022
         ],
         "xaxis": "x",
         "y": [
          1.5890688259109311,
          1.81858407079646,
          2.908902691511387,
          2.391566265060241,
          2.0901098901098902,
          0.6973995271867612,
          2.550094517958412,
          3.536184210526316,
          1.164,
          2.494,
          2.804123711340206,
          2.263888888888889,
          2.35,
          3,
          2.6,
          3.0502645502645502,
          2.65,
          3,
          3.779220779220779,
          3.5789473684210527,
          2.4473684210526314,
          4.0625,
          4.871794871794871,
          4.081545064377682,
          3.7,
          3.94,
          4.5758415841584155,
          5.35,
          3.35,
          3.25,
          6.343661971830986,
          4.9,
          4.5,
          6.05,
          5.95,
          6.4
         ],
         "yaxis": "y"
        },
        {
         "connectgaps": false,
         "hovertemplate": "fnid=ZA1994A105<br>indicator=production<br>year=%{x}<br>value=%{y}<extra></extra>",
         "legendgroup": "ZA1994A105",
         "line": {
          "color": "#FFA15A",
          "dash": "solid"
         },
         "marker": {
          "symbol": "circle"
         },
         "mode": "lines+markers",
         "name": "ZA1994A105",
         "orientation": "v",
         "showlegend": true,
         "type": "scatter",
         "x": [
          1987,
          1988,
          1989,
          1990,
          1991,
          1992,
          1993,
          1994,
          1995,
          1996,
          1997,
          1998,
          1999,
          2000,
          2001,
          2002,
          2003,
          2004,
          2005,
          2006,
          2007,
          2008,
          2009,
          2010,
          2011,
          2012,
          2013,
          2014,
          2015,
          2016,
          2017,
          2018,
          2019,
          2020,
          2021,
          2022
         ],
         "xaxis": "x3",
         "y": [
          164000,
          185000,
          226000,
          217000,
          234000,
          183000,
          220000,
          163000,
          134993,
          182990,
          218000,
          158000,
          127000,
          165000,
          165600,
          255000,
          177600,
          215000,
          230000,
          135000,
          169200,
          252000,
          273000,
          252000,
          235000,
          270000,
          315000,
          292500,
          283500,
          304800,
          390000,
          380000,
          399600,
          434500,
          451000,
          489700
         ],
         "yaxis": "y3"
        },
        {
         "connectgaps": false,
         "hovertemplate": "fnid=ZA1994A105<br>indicator=area<br>year=%{x}<br>value=%{y}<extra></extra>",
         "legendgroup": "ZA1994A105",
         "line": {
          "color": "#FFA15A",
          "dash": "solid"
         },
         "marker": {
          "symbol": "circle"
         },
         "mode": "lines+markers",
         "name": "ZA1994A105",
         "orientation": "v",
         "showlegend": false,
         "type": "scatter",
         "x": [
          1987,
          1988,
          1989,
          1990,
          1991,
          1992,
          1993,
          1994,
          1995,
          1996,
          1997,
          1998,
          1999,
          2000,
          2001,
          2002,
          2003,
          2004,
          2005,
          2006,
          2007,
          2008,
          2009,
          2010,
          2011,
          2012,
          2013,
          2014,
          2015,
          2016,
          2017,
          2018,
          2019,
          2020,
          2021,
          2022
         ],
         "xaxis": "x2",
         "y": [
          54000,
          67000,
          62000,
          63000,
          53000,
          58000,
          61000,
          62000,
          61000,
          58000,
          64000,
          54000,
          51000,
          50000,
          46000,
          50000,
          40000,
          43000,
          46000,
          27000,
          36000,
          42000,
          42000,
          42000,
          42000,
          45000,
          48000,
          45000,
          45000,
          48000,
          50000,
          50000,
          54000,
          55000,
          55000,
          59000
         ],
         "yaxis": "y2"
        },
        {
         "connectgaps": false,
         "hovertemplate": "fnid=ZA1994A105<br>indicator=yield<br>year=%{x}<br>value=%{y}<extra></extra>",
         "legendgroup": "ZA1994A105",
         "line": {
          "color": "#FFA15A",
          "dash": "solid"
         },
         "marker": {
          "symbol": "circle"
         },
         "mode": "lines+markers",
         "name": "ZA1994A105",
         "orientation": "v",
         "showlegend": false,
         "type": "scatter",
         "x": [
          1987,
          1988,
          1989,
          1990,
          1991,
          1992,
          1993,
          1994,
          1995,
          1996,
          1997,
          1998,
          1999,
          2000,
          2001,
          2002,
          2003,
          2004,
          2005,
          2006,
          2007,
          2008,
          2009,
          2010,
          2011,
          2012,
          2013,
          2014,
          2015,
          2016,
          2017,
          2018,
          2019,
          2020,
          2021,
          2022
         ],
         "xaxis": "x",
         "y": [
          3.037037037037037,
          2.7611940298507465,
          3.645161290322581,
          3.4444444444444446,
          4.415094339622642,
          3.1551724137931036,
          3.60655737704918,
          2.629032258064516,
          2.213,
          3.155,
          3.40625,
          2.925925925925926,
          2.4901960784313726,
          3.3,
          3.6,
          5.1,
          4.44,
          5,
          5,
          5,
          4.7,
          6,
          6.5,
          6,
          5.595238095238095,
          6,
          6.5625,
          6.5,
          6.3,
          6.35,
          7.8,
          7.6,
          7.4,
          7.9,
          8.2,
          8.3
         ],
         "yaxis": "y"
        },
        {
         "connectgaps": false,
         "hovertemplate": "fnid=ZA1994A106<br>indicator=production<br>year=%{x}<br>value=%{y}<extra></extra>",
         "legendgroup": "ZA1994A106",
         "line": {
          "color": "#19d3f3",
          "dash": "solid"
         },
         "marker": {
          "symbol": "circle"
         },
         "mode": "lines+markers",
         "name": "ZA1994A106",
         "orientation": "v",
         "showlegend": true,
         "type": "scatter",
         "x": [
          1987,
          1988,
          1989,
          1990,
          1991,
          1992,
          1993,
          1994,
          1995,
          1996,
          1997,
          1998,
          1999,
          2000,
          2001,
          2002,
          2003,
          2004,
          2005,
          2006,
          2007,
          2008,
          2009,
          2010,
          2011,
          2012,
          2013,
          2014,
          2015,
          2016,
          2017,
          2018,
          2019,
          2020,
          2021,
          2022
         ],
         "xaxis": "x3",
         "y": [
          661000,
          539000,
          1218000,
          740000,
          681000,
          72000,
          739000,
          1196000,
          365040,
          912945,
          1150000,
          545400,
          410000,
          806000,
          638000,
          838750,
          466000,
          518400,
          677500,
          310000,
          240000,
          664000,
          555000,
          518000,
          508000,
          558000,
          455000,
          705000,
          444000,
          285000,
          561000,
          440000,
          399000,
          517500,
          546250,
          554600
         ],
         "yaxis": "y3"
        },
        {
         "connectgaps": false,
         "hovertemplate": "fnid=ZA1994A106<br>indicator=area<br>year=%{x}<br>value=%{y}<extra></extra>",
         "legendgroup": "ZA1994A106",
         "line": {
          "color": "#19d3f3",
          "dash": "solid"
         },
         "marker": {
          "symbol": "circle"
         },
         "mode": "lines+markers",
         "name": "ZA1994A106",
         "orientation": "v",
         "showlegend": false,
         "type": "scatter",
         "x": [
          1987,
          1988,
          1989,
          1990,
          1991,
          1992,
          1993,
          1994,
          1995,
          1996,
          1997,
          1998,
          1999,
          2000,
          2001,
          2002,
          2003,
          2004,
          2005,
          2006,
          2007,
          2008,
          2009,
          2010,
          2011,
          2012,
          2013,
          2014,
          2015,
          2016,
          2017,
          2018,
          2019,
          2020,
          2021,
          2022
         ],
         "xaxis": "x2",
         "y": [
          571000,
          388000,
          420000,
          377000,
          377000,
          494000,
          402000,
          460000,
          360000,
          363000,
          460000,
          295000,
          263000,
          310000,
          290000,
          305000,
          210000,
          192000,
          215000,
          107000,
          150000,
          170000,
          135000,
          140000,
          145000,
          155000,
          175000,
          155000,
          185000,
          100000,
          110000,
          110000,
          95000,
          90000,
          95000,
          94000
         ],
         "yaxis": "y2"
        },
        {
         "connectgaps": false,
         "hovertemplate": "fnid=ZA1994A106<br>indicator=yield<br>year=%{x}<br>value=%{y}<extra></extra>",
         "legendgroup": "ZA1994A106",
         "line": {
          "color": "#19d3f3",
          "dash": "solid"
         },
         "marker": {
          "symbol": "circle"
         },
         "mode": "lines+markers",
         "name": "ZA1994A106",
         "orientation": "v",
         "showlegend": false,
         "type": "scatter",
         "x": [
          1987,
          1988,
          1989,
          1990,
          1991,
          1992,
          1993,
          1994,
          1995,
          1996,
          1997,
          1998,
          1999,
          2000,
          2001,
          2002,
          2003,
          2004,
          2005,
          2006,
          2007,
          2008,
          2009,
          2010,
          2011,
          2012,
          2013,
          2014,
          2015,
          2016,
          2017,
          2018,
          2019,
          2020,
          2021,
          2022
         ],
         "xaxis": "x",
         "y": [
          1.157618213660245,
          1.3891752577319587,
          2.9,
          1.9628647214854111,
          1.806366047745358,
          0.145748987854251,
          1.8383084577114428,
          2.6,
          1.014,
          2.515,
          2.5,
          1.8488135593220336,
          1.55893536121673,
          2.6,
          2.2,
          2.75,
          2.219047619047619,
          2.7,
          3.1511627906976742,
          2.897196261682243,
          1.6,
          3.905882352941176,
          4.111111111111111,
          3.7,
          3.503448275862069,
          3.6,
          2.6,
          4.548387096774194,
          2.4,
          2.85,
          5.1,
          4,
          4.2,
          5.75,
          5.75,
          5.9
         ],
         "yaxis": "y"
        },
        {
         "connectgaps": false,
         "hovertemplate": "fnid=ZA1994A107<br>indicator=production<br>year=%{x}<br>value=%{y}<extra></extra>",
         "legendgroup": "ZA1994A107",
         "line": {
          "color": "#FF6692",
          "dash": "solid"
         },
         "marker": {
          "symbol": "circle"
         },
         "mode": "lines+markers",
         "name": "ZA1994A107",
         "orientation": "v",
         "showlegend": true,
         "type": "scatter",
         "x": [
          1987,
          1988,
          1989,
          1990,
          1991,
          1992,
          1993,
          1994,
          1995,
          1996,
          1997,
          1998,
          1999,
          2000,
          2001,
          2002,
          2003,
          2004,
          2005,
          2006,
          2007,
          2008,
          2009,
          2010,
          2011,
          2012,
          2013,
          2014,
          2015,
          2016,
          2017,
          2018,
          2019,
          2020,
          2021,
          2022
         ],
         "xaxis": "x3",
         "y": [
          242000,
          164000,
          446000,
          234000,
          292000,
          99000,
          276000,
          460000,
          178048,
          273978,
          210000,
          212500,
          150000,
          198000,
          154000,
          247500,
          153500,
          185500,
          232300,
          80000,
          80000,
          168000,
          175500,
          192000,
          180300,
          200000,
          230000,
          291250,
          292500,
          224000,
          414000,
          372000,
          348000,
          325000,
          375000,
          403200
         ],
         "yaxis": "y3"
        },
        {
         "connectgaps": false,
         "hovertemplate": "fnid=ZA1994A107<br>indicator=area<br>year=%{x}<br>value=%{y}<extra></extra>",
         "legendgroup": "ZA1994A107",
         "line": {
          "color": "#FF6692",
          "dash": "solid"
         },
         "marker": {
          "symbol": "circle"
         },
         "mode": "lines+markers",
         "name": "ZA1994A107",
         "orientation": "v",
         "showlegend": false,
         "type": "scatter",
         "x": [
          1987,
          1988,
          1989,
          1990,
          1991,
          1992,
          1993,
          1994,
          1995,
          1996,
          1997,
          1998,
          1999,
          2000,
          2001,
          2002,
          2003,
          2004,
          2005,
          2006,
          2007,
          2008,
          2009,
          2010,
          2011,
          2012,
          2013,
          2014,
          2015,
          2016,
          2017,
          2018,
          2019,
          2020,
          2021,
          2022
         ],
         "xaxis": "x2",
         "y": [
          100000,
          73000,
          134000,
          84000,
          87000,
          89000,
          95000,
          100000,
          107000,
          62000,
          78000,
          78300,
          60000,
          55000,
          55000,
          66000,
          51000,
          54500,
          56000,
          20000,
          35000,
          36000,
          30000,
          40000,
          41000,
          42000,
          43500,
          53000,
          65000,
          56000,
          60000,
          62000,
          60000,
          50000,
          50000,
          56000
         ],
         "yaxis": "y2"
        },
        {
         "connectgaps": false,
         "hovertemplate": "fnid=ZA1994A107<br>indicator=yield<br>year=%{x}<br>value=%{y}<extra></extra>",
         "legendgroup": "ZA1994A107",
         "line": {
          "color": "#FF6692",
          "dash": "solid"
         },
         "marker": {
          "symbol": "circle"
         },
         "mode": "lines+markers",
         "name": "ZA1994A107",
         "orientation": "v",
         "showlegend": false,
         "type": "scatter",
         "x": [
          1987,
          1988,
          1989,
          1990,
          1991,
          1992,
          1993,
          1994,
          1995,
          1996,
          1997,
          1998,
          1999,
          2000,
          2001,
          2002,
          2003,
          2004,
          2005,
          2006,
          2007,
          2008,
          2009,
          2010,
          2011,
          2012,
          2013,
          2014,
          2015,
          2016,
          2017,
          2018,
          2019,
          2020,
          2021,
          2022
         ],
         "xaxis": "x",
         "y": [
          2.42,
          2.2465753424657535,
          3.328358208955224,
          2.7857142857142856,
          3.3563218390804597,
          1.1123595505617978,
          2.905263157894737,
          4.6,
          1.664,
          4.419,
          2.6923076923076925,
          2.713920817369093,
          2.5,
          3.6,
          2.8,
          3.75,
          3.0098039215686274,
          3.403669724770642,
          4.148214285714285,
          4,
          2.2857142857142856,
          4.666666666666667,
          5.85,
          4.8,
          4.397560975609756,
          4.761904761904762,
          5.287356321839081,
          5.495283018867925,
          4.5,
          4,
          6.9,
          6,
          5.8,
          6.5,
          7.5,
          7.2
         ],
         "yaxis": "y"
        },
        {
         "connectgaps": false,
         "hovertemplate": "fnid=ZA1994A108<br>indicator=production<br>year=%{x}<br>value=%{y}<extra></extra>",
         "legendgroup": "ZA1994A108",
         "line": {
          "color": "#B6E880",
          "dash": "solid"
         },
         "marker": {
          "symbol": "circle"
         },
         "mode": "lines+markers",
         "name": "ZA1994A108",
         "orientation": "v",
         "showlegend": true,
         "type": "scatter",
         "x": [
          1987,
          1988,
          1989,
          1990,
          1991,
          1992,
          1993,
          1994,
          1995,
          1996,
          1997,
          1998,
          1999,
          2000,
          2001,
          2002,
          2003,
          2004,
          2005,
          2006,
          2007,
          2008,
          2009,
          2010,
          2011,
          2012,
          2013,
          2014,
          2015,
          2016,
          2017,
          2018,
          2019,
          2020,
          2021,
          2022
         ],
         "xaxis": "x3",
         "y": [
          1413000,
          1091000,
          1670000,
          1467000,
          1700000,
          885000,
          1876000,
          2116000,
          868172,
          1204218,
          1200000,
          825000,
          857000,
          1204500,
          868000,
          1162500,
          907500,
          1164000,
          1673200,
          850000,
          770000,
          1400000,
          1580000,
          1375000,
          1290000,
          1625000,
          1985000,
          1875000,
          1605300,
          1551000,
          2342500,
          2040000,
          1943500,
          2347450,
          2790000,
          2537500
         ],
         "yaxis": "y3"
        },
        {
         "connectgaps": false,
         "hovertemplate": "fnid=ZA1994A108<br>indicator=area<br>year=%{x}<br>value=%{y}<extra></extra>",
         "legendgroup": "ZA1994A108",
         "line": {
          "color": "#B6E880",
          "dash": "solid"
         },
         "marker": {
          "symbol": "circle"
         },
         "mode": "lines+markers",
         "name": "ZA1994A108",
         "orientation": "v",
         "showlegend": false,
         "type": "scatter",
         "x": [
          1987,
          1988,
          1989,
          1990,
          1991,
          1992,
          1993,
          1994,
          1995,
          1996,
          1997,
          1998,
          1999,
          2000,
          2001,
          2002,
          2003,
          2004,
          2005,
          2006,
          2007,
          2008,
          2009,
          2010,
          2011,
          2012,
          2013,
          2014,
          2015,
          2016,
          2017,
          2018,
          2019,
          2020,
          2021,
          2022
         ],
         "xaxis": "x2",
         "y": [
          499000,
          444000,
          476000,
          475000,
          481000,
          495000,
          539000,
          594000,
          508000,
          447000,
          441000,
          345000,
          313000,
          330000,
          310000,
          310000,
          280000,
          295000,
          336000,
          180000,
          250000,
          250000,
          262000,
          250000,
          260000,
          290000,
          300000,
          332000,
          315000,
          330000,
          330000,
          340000,
          338000,
          353000,
          360000,
          350000
         ],
         "yaxis": "y2"
        },
        {
         "connectgaps": false,
         "hovertemplate": "fnid=ZA1994A108<br>indicator=yield<br>year=%{x}<br>value=%{y}<extra></extra>",
         "legendgroup": "ZA1994A108",
         "line": {
          "color": "#B6E880",
          "dash": "solid"
         },
         "marker": {
          "symbol": "circle"
         },
         "mode": "lines+markers",
         "name": "ZA1994A108",
         "orientation": "v",
         "showlegend": false,
         "type": "scatter",
         "x": [
          1987,
          1988,
          1989,
          1990,
          1991,
          1992,
          1993,
          1994,
          1995,
          1996,
          1997,
          1998,
          1999,
          2000,
          2001,
          2002,
          2003,
          2004,
          2005,
          2006,
          2007,
          2008,
          2009,
          2010,
          2011,
          2012,
          2013,
          2014,
          2015,
          2016,
          2017,
          2018,
          2019,
          2020,
          2021,
          2022
         ],
         "xaxis": "x",
         "y": [
          2.8316633266533064,
          2.4572072072072073,
          3.508403361344538,
          3.088421052631579,
          3.5343035343035343,
          1.7878787878787878,
          3.4805194805194803,
          3.5622895622895623,
          1.709,
          2.694,
          2.7210884353741496,
          2.391304347826087,
          2.7380191693290734,
          3.65,
          2.8,
          3.75,
          3.2410714285714284,
          3.9457627118644063,
          4.979761904761904,
          4.722222222222222,
          3.08,
          5.6,
          6.030534351145038,
          5.5,
          4.961538461538462,
          5.603448275862069,
          6.616666666666666,
          5.647590361445783,
          5.096190476190476,
          4.7,
          7.098484848484849,
          6,
          5.75,
          6.65,
          7.75,
          7.25
         ],
         "yaxis": "y"
        },
        {
         "connectgaps": false,
         "hovertemplate": "fnid=ZA1994A109<br>indicator=production<br>year=%{x}<br>value=%{y}<extra></extra>",
         "legendgroup": "ZA1994A109",
         "line": {
          "color": "#FF97FF",
          "dash": "solid"
         },
         "marker": {
          "symbol": "circle"
         },
         "mode": "lines+markers",
         "name": "ZA1994A109",
         "orientation": "v",
         "showlegend": true,
         "type": "scatter",
         "x": [
          1987,
          1988,
          1989,
          1990,
          1991,
          1992,
          1993,
          1994,
          1995,
          1996,
          1997,
          1998,
          1999,
          2000,
          2001,
          2002,
          2003,
          2004,
          2005,
          2006,
          2007,
          2008,
          2009,
          2010,
          2011,
          2012,
          2013,
          2014,
          2015,
          2016,
          2017,
          2018,
          2019,
          2020,
          2021,
          2022
         ],
         "xaxis": "x3",
         "y": [
          61000,
          3000,
          46000,
          19000,
          25000,
          27000,
          24000,
          17000,
          7002,
          12000,
          15800,
          8100,
          5000,
          10000,
          19200,
          null,
          22100,
          null,
          26000,
          15600,
          35200,
          60000,
          75000,
          80000,
          48000,
          99000,
          138000,
          124000,
          124000,
          129800,
          192000,
          147000,
          117000,
          126000,
          172200,
          202500
         ],
         "yaxis": "y3"
        },
        {
         "connectgaps": false,
         "hovertemplate": "fnid=ZA1994A109<br>indicator=area<br>year=%{x}<br>value=%{y}<extra></extra>",
         "legendgroup": "ZA1994A109",
         "line": {
          "color": "#FF97FF",
          "dash": "solid"
         },
         "marker": {
          "symbol": "circle"
         },
         "mode": "lines+markers",
         "name": "ZA1994A109",
         "orientation": "v",
         "showlegend": false,
         "type": "scatter",
         "x": [
          1987,
          1988,
          1989,
          1990,
          1991,
          1992,
          1993,
          1994,
          1995,
          1996,
          1997,
          1998,
          1999,
          2000,
          2001,
          2002,
          2003,
          2004,
          2005,
          2006,
          2007,
          2008,
          2009,
          2010,
          2011,
          2012,
          2013,
          2014,
          2015,
          2016,
          2017,
          2018,
          2019,
          2020,
          2021,
          2022
         ],
         "xaxis": "x2",
         "y": [
          34000,
          2000,
          22000,
          12000,
          12000,
          8000,
          12000,
          10000,
          6000,
          4000,
          5000,
          3500,
          3000,
          4000,
          9600,
          null,
          8500,
          null,
          10000,
          5500,
          16000,
          16000,
          15000,
          18500,
          12000,
          18000,
          23500,
          20000,
          21000,
          22000,
          24000,
          21000,
          18000,
          18000,
          21000,
          25000
         ],
         "yaxis": "y2"
        },
        {
         "connectgaps": false,
         "hovertemplate": "fnid=ZA1994A109<br>indicator=yield<br>year=%{x}<br>value=%{y}<extra></extra>",
         "legendgroup": "ZA1994A109",
         "line": {
          "color": "#FF97FF",
          "dash": "solid"
         },
         "marker": {
          "symbol": "circle"
         },
         "mode": "lines+markers",
         "name": "ZA1994A109",
         "orientation": "v",
         "showlegend": false,
         "type": "scatter",
         "x": [
          1987,
          1988,
          1989,
          1990,
          1991,
          1992,
          1993,
          1994,
          1995,
          1996,
          1997,
          1998,
          1999,
          2000,
          2001,
          2002,
          2003,
          2004,
          2005,
          2006,
          2007,
          2008,
          2009,
          2010,
          2011,
          2012,
          2013,
          2014,
          2015,
          2016,
          2017,
          2018,
          2019,
          2020,
          2021,
          2022
         ],
         "xaxis": "x",
         "y": [
          1.7941176470588236,
          1.5,
          2.090909090909091,
          1.5833333333333333,
          2.0833333333333335,
          3.375,
          2,
          1.7,
          1.167,
          3,
          3.16,
          2.3142857142857145,
          1.6666666666666667,
          2.5,
          2,
          null,
          2.6,
          null,
          2.6,
          2.8363636363636364,
          2.2,
          3.75,
          5,
          4.324324324324325,
          4,
          5.5,
          5.872340425531915,
          6.2,
          5.904761904761905,
          5.9,
          8,
          7,
          6.5,
          7,
          8.2,
          8.1
         ],
         "yaxis": "y"
        }
       ],
       "layout": {
        "annotations": [
         {
          "showarrow": false,
          "text": "",
          "textangle": 90,
          "x": 0.98,
          "xanchor": "left",
          "xref": "paper",
          "y": 0.16333333333333333,
          "yanchor": "middle",
          "yref": "paper"
         },
         {
          "showarrow": false,
          "text": "",
          "textangle": 90,
          "x": 0.98,
          "xanchor": "left",
          "xref": "paper",
          "y": 0.5,
          "yanchor": "middle",
          "yref": "paper"
         },
         {
          "showarrow": false,
          "text": "",
          "textangle": 90,
          "x": 0.98,
          "xanchor": "left",
          "xref": "paper",
          "y": 0.8366666666666667,
          "yanchor": "middle",
          "yref": "paper"
         },
         {
          "align": "left",
          "font": {
           "color": "dimgrey",
           "family": "arial",
           "size": 15
          },
          "showarrow": false,
          "text": "Production-Area-Yield time-series of ZA - Maize (Yellow) - Summer",
          "x": -0.014,
          "xref": "paper",
          "y": -0.14,
          "yref": "paper"
         }
        ],
        "font": {
         "color": "black",
         "family": "arial",
         "size": 16
        },
        "height": 600,
        "legend": {
         "font": {
          "size": 14
         },
         "title": {
          "text": "FNID"
         },
         "tracegroupgap": 0,
         "x": 1,
         "xanchor": "left",
         "y": 1,
         "yanchor": "top"
        },
        "margin": {
         "b": 25,
         "l": 0,
         "r": 0,
         "t": 0
        },
        "template": {
         "data": {
          "bar": [
           {
            "error_x": {
             "color": "#2a3f5f"
            },
            "error_y": {
             "color": "#2a3f5f"
            },
            "marker": {
             "line": {
              "color": "#E5ECF6",
              "width": 0.5
             },
             "pattern": {
              "fillmode": "overlay",
              "size": 10,
              "solidity": 0.2
             }
            },
            "type": "bar"
           }
          ],
          "barpolar": [
           {
            "marker": {
             "line": {
              "color": "#E5ECF6",
              "width": 0.5
             },
             "pattern": {
              "fillmode": "overlay",
              "size": 10,
              "solidity": 0.2
             }
            },
            "type": "barpolar"
           }
          ],
          "carpet": [
           {
            "aaxis": {
             "endlinecolor": "#2a3f5f",
             "gridcolor": "white",
             "linecolor": "white",
             "minorgridcolor": "white",
             "startlinecolor": "#2a3f5f"
            },
            "baxis": {
             "endlinecolor": "#2a3f5f",
             "gridcolor": "white",
             "linecolor": "white",
             "minorgridcolor": "white",
             "startlinecolor": "#2a3f5f"
            },
            "type": "carpet"
           }
          ],
          "choropleth": [
           {
            "colorbar": {
             "outlinewidth": 0,
             "ticks": ""
            },
            "type": "choropleth"
           }
          ],
          "contour": [
           {
            "colorbar": {
             "outlinewidth": 0,
             "ticks": ""
            },
            "colorscale": [
             [
              0,
              "#0d0887"
             ],
             [
              0.1111111111111111,
              "#46039f"
             ],
             [
              0.2222222222222222,
              "#7201a8"
             ],
             [
              0.3333333333333333,
              "#9c179e"
             ],
             [
              0.4444444444444444,
              "#bd3786"
             ],
             [
              0.5555555555555556,
              "#d8576b"
             ],
             [
              0.6666666666666666,
              "#ed7953"
             ],
             [
              0.7777777777777778,
              "#fb9f3a"
             ],
             [
              0.8888888888888888,
              "#fdca26"
             ],
             [
              1,
              "#f0f921"
             ]
            ],
            "type": "contour"
           }
          ],
          "contourcarpet": [
           {
            "colorbar": {
             "outlinewidth": 0,
             "ticks": ""
            },
            "type": "contourcarpet"
           }
          ],
          "heatmap": [
           {
            "colorbar": {
             "outlinewidth": 0,
             "ticks": ""
            },
            "colorscale": [
             [
              0,
              "#0d0887"
             ],
             [
              0.1111111111111111,
              "#46039f"
             ],
             [
              0.2222222222222222,
              "#7201a8"
             ],
             [
              0.3333333333333333,
              "#9c179e"
             ],
             [
              0.4444444444444444,
              "#bd3786"
             ],
             [
              0.5555555555555556,
              "#d8576b"
             ],
             [
              0.6666666666666666,
              "#ed7953"
             ],
             [
              0.7777777777777778,
              "#fb9f3a"
             ],
             [
              0.8888888888888888,
              "#fdca26"
             ],
             [
              1,
              "#f0f921"
             ]
            ],
            "type": "heatmap"
           }
          ],
          "heatmapgl": [
           {
            "colorbar": {
             "outlinewidth": 0,
             "ticks": ""
            },
            "colorscale": [
             [
              0,
              "#0d0887"
             ],
             [
              0.1111111111111111,
              "#46039f"
             ],
             [
              0.2222222222222222,
              "#7201a8"
             ],
             [
              0.3333333333333333,
              "#9c179e"
             ],
             [
              0.4444444444444444,
              "#bd3786"
             ],
             [
              0.5555555555555556,
              "#d8576b"
             ],
             [
              0.6666666666666666,
              "#ed7953"
             ],
             [
              0.7777777777777778,
              "#fb9f3a"
             ],
             [
              0.8888888888888888,
              "#fdca26"
             ],
             [
              1,
              "#f0f921"
             ]
            ],
            "type": "heatmapgl"
           }
          ],
          "histogram": [
           {
            "marker": {
             "pattern": {
              "fillmode": "overlay",
              "size": 10,
              "solidity": 0.2
             }
            },
            "type": "histogram"
           }
          ],
          "histogram2d": [
           {
            "colorbar": {
             "outlinewidth": 0,
             "ticks": ""
            },
            "colorscale": [
             [
              0,
              "#0d0887"
             ],
             [
              0.1111111111111111,
              "#46039f"
             ],
             [
              0.2222222222222222,
              "#7201a8"
             ],
             [
              0.3333333333333333,
              "#9c179e"
             ],
             [
              0.4444444444444444,
              "#bd3786"
             ],
             [
              0.5555555555555556,
              "#d8576b"
             ],
             [
              0.6666666666666666,
              "#ed7953"
             ],
             [
              0.7777777777777778,
              "#fb9f3a"
             ],
             [
              0.8888888888888888,
              "#fdca26"
             ],
             [
              1,
              "#f0f921"
             ]
            ],
            "type": "histogram2d"
           }
          ],
          "histogram2dcontour": [
           {
            "colorbar": {
             "outlinewidth": 0,
             "ticks": ""
            },
            "colorscale": [
             [
              0,
              "#0d0887"
             ],
             [
              0.1111111111111111,
              "#46039f"
             ],
             [
              0.2222222222222222,
              "#7201a8"
             ],
             [
              0.3333333333333333,
              "#9c179e"
             ],
             [
              0.4444444444444444,
              "#bd3786"
             ],
             [
              0.5555555555555556,
              "#d8576b"
             ],
             [
              0.6666666666666666,
              "#ed7953"
             ],
             [
              0.7777777777777778,
              "#fb9f3a"
             ],
             [
              0.8888888888888888,
              "#fdca26"
             ],
             [
              1,
              "#f0f921"
             ]
            ],
            "type": "histogram2dcontour"
           }
          ],
          "mesh3d": [
           {
            "colorbar": {
             "outlinewidth": 0,
             "ticks": ""
            },
            "type": "mesh3d"
           }
          ],
          "parcoords": [
           {
            "line": {
             "colorbar": {
              "outlinewidth": 0,
              "ticks": ""
             }
            },
            "type": "parcoords"
           }
          ],
          "pie": [
           {
            "automargin": true,
            "type": "pie"
           }
          ],
          "scatter": [
           {
            "fillpattern": {
             "fillmode": "overlay",
             "size": 10,
             "solidity": 0.2
            },
            "type": "scatter"
           }
          ],
          "scatter3d": [
           {
            "line": {
             "colorbar": {
              "outlinewidth": 0,
              "ticks": ""
             }
            },
            "marker": {
             "colorbar": {
              "outlinewidth": 0,
              "ticks": ""
             }
            },
            "type": "scatter3d"
           }
          ],
          "scattercarpet": [
           {
            "marker": {
             "colorbar": {
              "outlinewidth": 0,
              "ticks": ""
             }
            },
            "type": "scattercarpet"
           }
          ],
          "scattergeo": [
           {
            "marker": {
             "colorbar": {
              "outlinewidth": 0,
              "ticks": ""
             }
            },
            "type": "scattergeo"
           }
          ],
          "scattergl": [
           {
            "marker": {
             "colorbar": {
              "outlinewidth": 0,
              "ticks": ""
             }
            },
            "type": "scattergl"
           }
          ],
          "scattermapbox": [
           {
            "marker": {
             "colorbar": {
              "outlinewidth": 0,
              "ticks": ""
             }
            },
            "type": "scattermapbox"
           }
          ],
          "scatterpolar": [
           {
            "marker": {
             "colorbar": {
              "outlinewidth": 0,
              "ticks": ""
             }
            },
            "type": "scatterpolar"
           }
          ],
          "scatterpolargl": [
           {
            "marker": {
             "colorbar": {
              "outlinewidth": 0,
              "ticks": ""
             }
            },
            "type": "scatterpolargl"
           }
          ],
          "scatterternary": [
           {
            "marker": {
             "colorbar": {
              "outlinewidth": 0,
              "ticks": ""
             }
            },
            "type": "scatterternary"
           }
          ],
          "surface": [
           {
            "colorbar": {
             "outlinewidth": 0,
             "ticks": ""
            },
            "colorscale": [
             [
              0,
              "#0d0887"
             ],
             [
              0.1111111111111111,
              "#46039f"
             ],
             [
              0.2222222222222222,
              "#7201a8"
             ],
             [
              0.3333333333333333,
              "#9c179e"
             ],
             [
              0.4444444444444444,
              "#bd3786"
             ],
             [
              0.5555555555555556,
              "#d8576b"
             ],
             [
              0.6666666666666666,
              "#ed7953"
             ],
             [
              0.7777777777777778,
              "#fb9f3a"
             ],
             [
              0.8888888888888888,
              "#fdca26"
             ],
             [
              1,
              "#f0f921"
             ]
            ],
            "type": "surface"
           }
          ],
          "table": [
           {
            "cells": {
             "fill": {
              "color": "#EBF0F8"
             },
             "line": {
              "color": "white"
             }
            },
            "header": {
             "fill": {
              "color": "#C8D4E3"
             },
             "line": {
              "color": "white"
             }
            },
            "type": "table"
           }
          ]
         },
         "layout": {
          "annotationdefaults": {
           "arrowcolor": "#2a3f5f",
           "arrowhead": 0,
           "arrowwidth": 1
          },
          "autotypenumbers": "strict",
          "coloraxis": {
           "colorbar": {
            "outlinewidth": 0,
            "ticks": ""
           }
          },
          "colorscale": {
           "diverging": [
            [
             0,
             "#8e0152"
            ],
            [
             0.1,
             "#c51b7d"
            ],
            [
             0.2,
             "#de77ae"
            ],
            [
             0.3,
             "#f1b6da"
            ],
            [
             0.4,
             "#fde0ef"
            ],
            [
             0.5,
             "#f7f7f7"
            ],
            [
             0.6,
             "#e6f5d0"
            ],
            [
             0.7,
             "#b8e186"
            ],
            [
             0.8,
             "#7fbc41"
            ],
            [
             0.9,
             "#4d9221"
            ],
            [
             1,
             "#276419"
            ]
           ],
           "sequential": [
            [
             0,
             "#0d0887"
            ],
            [
             0.1111111111111111,
             "#46039f"
            ],
            [
             0.2222222222222222,
             "#7201a8"
            ],
            [
             0.3333333333333333,
             "#9c179e"
            ],
            [
             0.4444444444444444,
             "#bd3786"
            ],
            [
             0.5555555555555556,
             "#d8576b"
            ],
            [
             0.6666666666666666,
             "#ed7953"
            ],
            [
             0.7777777777777778,
             "#fb9f3a"
            ],
            [
             0.8888888888888888,
             "#fdca26"
            ],
            [
             1,
             "#f0f921"
            ]
           ],
           "sequentialminus": [
            [
             0,
             "#0d0887"
            ],
            [
             0.1111111111111111,
             "#46039f"
            ],
            [
             0.2222222222222222,
             "#7201a8"
            ],
            [
             0.3333333333333333,
             "#9c179e"
            ],
            [
             0.4444444444444444,
             "#bd3786"
            ],
            [
             0.5555555555555556,
             "#d8576b"
            ],
            [
             0.6666666666666666,
             "#ed7953"
            ],
            [
             0.7777777777777778,
             "#fb9f3a"
            ],
            [
             0.8888888888888888,
             "#fdca26"
            ],
            [
             1,
             "#f0f921"
            ]
           ]
          },
          "colorway": [
           "#636efa",
           "#EF553B",
           "#00cc96",
           "#ab63fa",
           "#FFA15A",
           "#19d3f3",
           "#FF6692",
           "#B6E880",
           "#FF97FF",
           "#FECB52"
          ],
          "font": {
           "color": "#2a3f5f"
          },
          "geo": {
           "bgcolor": "white",
           "lakecolor": "white",
           "landcolor": "#E5ECF6",
           "showlakes": true,
           "showland": true,
           "subunitcolor": "white"
          },
          "hoverlabel": {
           "align": "left"
          },
          "hovermode": "closest",
          "mapbox": {
           "style": "light"
          },
          "paper_bgcolor": "white",
          "plot_bgcolor": "#E5ECF6",
          "polar": {
           "angularaxis": {
            "gridcolor": "white",
            "linecolor": "white",
            "ticks": ""
           },
           "bgcolor": "#E5ECF6",
           "radialaxis": {
            "gridcolor": "white",
            "linecolor": "white",
            "ticks": ""
           }
          },
          "scene": {
           "xaxis": {
            "backgroundcolor": "#E5ECF6",
            "gridcolor": "white",
            "gridwidth": 2,
            "linecolor": "white",
            "showbackground": true,
            "ticks": "",
            "zerolinecolor": "white"
           },
           "yaxis": {
            "backgroundcolor": "#E5ECF6",
            "gridcolor": "white",
            "gridwidth": 2,
            "linecolor": "white",
            "showbackground": true,
            "ticks": "",
            "zerolinecolor": "white"
           },
           "zaxis": {
            "backgroundcolor": "#E5ECF6",
            "gridcolor": "white",
            "gridwidth": 2,
            "linecolor": "white",
            "showbackground": true,
            "ticks": "",
            "zerolinecolor": "white"
           }
          },
          "shapedefaults": {
           "line": {
            "color": "#2a3f5f"
           }
          },
          "ternary": {
           "aaxis": {
            "gridcolor": "white",
            "linecolor": "white",
            "ticks": ""
           },
           "baxis": {
            "gridcolor": "white",
            "linecolor": "white",
            "ticks": ""
           },
           "bgcolor": "#E5ECF6",
           "caxis": {
            "gridcolor": "white",
            "linecolor": "white",
            "ticks": ""
           }
          },
          "title": {
           "x": 0.05
          },
          "xaxis": {
           "automargin": true,
           "gridcolor": "white",
           "linecolor": "white",
           "ticks": "",
           "title": {
            "standoff": 15
           },
           "zerolinecolor": "white",
           "zerolinewidth": 2
          },
          "yaxis": {
           "automargin": true,
           "gridcolor": "white",
           "linecolor": "white",
           "ticks": "",
           "title": {
            "standoff": 15
           },
           "zerolinecolor": "white",
           "zerolinewidth": 2
          }
         }
        },
        "width": 900,
        "xaxis": {
         "anchor": "y",
         "domain": [
          0,
          0.98
         ],
         "dtick": 1,
         "range": [
          1979,
          2022
         ],
         "title": {
          "text": ""
         }
        },
        "xaxis2": {
         "anchor": "y2",
         "domain": [
          0,
          0.98
         ],
         "dtick": 1,
         "matches": "x",
         "showticklabels": false
        },
        "xaxis3": {
         "anchor": "y3",
         "domain": [
          0,
          0.98
         ],
         "dtick": 1,
         "matches": "x",
         "showticklabels": false
        },
        "yaxis": {
         "anchor": "x",
         "domain": [
          0,
          0.32666666666666666
         ],
         "title": {
          "text": "Yield (mt/ha)"
         }
        },
        "yaxis2": {
         "anchor": "x2",
         "domain": [
          0.33666666666666667,
          0.6633333333333333
         ],
         "title": {
          "text": "Area (ha)"
         }
        },
        "yaxis3": {
         "anchor": "x3",
         "domain": [
          0.6733333333333333,
          1
         ],
         "title": {
          "text": "Production (mt)"
         }
        }
       }
      }
     },
     "metadata": {},
     "output_type": "display_data"
    },
    {
     "data": {
      "application/vnd.plotly.v1+json": {
       "config": {
        "plotlyServerURL": "https://plot.ly"
       },
       "data": [
        {
         "connectgaps": false,
         "hovertemplate": "fnid=ZA1994A101<br>indicator=production<br>year=%{x}<br>value=%{y}<extra></extra>",
         "legendgroup": "ZA1994A101",
         "line": {
          "color": "#636efa",
          "dash": "solid"
         },
         "marker": {
          "symbol": "circle"
         },
         "mode": "lines+markers",
         "name": "ZA1994A101",
         "showlegend": true,
         "type": "scattergl",
         "x": [
          1979,
          1980,
          1981,
          1982,
          1983,
          1984,
          1985,
          1986,
          1987,
          1988,
          1989,
          1990,
          1991,
          1992,
          1993,
          1994,
          1995,
          1996,
          1997,
          1998,
          1999,
          2000,
          2001,
          2002,
          2003,
          2004,
          2005,
          2006,
          2007,
          2008,
          2009,
          2010,
          2011,
          2012,
          2013,
          2014,
          2015,
          2016,
          2017,
          2018,
          2019,
          2020,
          2021,
          2022
         ],
         "xaxis": "x3",
         "y": [
          505938,
          478000,
          660000,
          709000,
          752830,
          726961,
          759498,
          704116,
          859786,
          727956,
          622924,
          489354,
          496479,
          627251,
          742796,
          738144,
          815175,
          806000,
          605000,
          590000,
          610000,
          691000,
          730000,
          891800,
          530000,
          520000,
          645000,
          730000,
          812000,
          860000,
          714000,
          530000,
          710000,
          897600,
          928000,
          899000,
          697500,
          1098200,
          586800,
          1098200,
          633750,
          1092100,
          1260000,
          918000
         ],
         "yaxis": "y3"
        },
        {
         "connectgaps": false,
         "hovertemplate": "fnid=ZA1994A101<br>indicator=area<br>year=%{x}<br>value=%{y}<extra></extra>",
         "legendgroup": "ZA1994A101",
         "line": {
          "color": "#636efa",
          "dash": "solid"
         },
         "marker": {
          "symbol": "circle"
         },
         "mode": "lines+markers",
         "name": "ZA1994A101",
         "showlegend": false,
         "type": "scattergl",
         "x": [
          1979,
          1980,
          1981,
          1982,
          1983,
          1984,
          1985,
          1986,
          1987,
          1988,
          1989,
          1990,
          1991,
          1992,
          1993,
          1994,
          1995,
          1996,
          1997,
          1998,
          1999,
          2000,
          2001,
          2002,
          2003,
          2004,
          2005,
          2006,
          2007,
          2008,
          2009,
          2010,
          2011,
          2012,
          2013,
          2014,
          2015,
          2016,
          2017,
          2018,
          2019,
          2020,
          2021,
          2022
         ],
         "xaxis": "x2",
         "y": [
          547000,
          543000,
          533000,
          553000,
          570000,
          644000,
          677000,
          687000,
          660000,
          653000,
          512000,
          334576,
          327563,
          334932,
          417997,
          397795,
          400800,
          403000,
          400000,
          300000,
          310000,
          345500,
          374000,
          383000,
          325000,
          302000,
          292000,
          325000,
          350000,
          300000,
          265000,
          265000,
          265000,
          272000,
          310000,
          310000,
          310000,
          323000,
          326000,
          323000,
          325000,
          326000,
          360000,
          360000
         ],
         "yaxis": "y2"
        },
        {
         "connectgaps": false,
         "hovertemplate": "fnid=ZA1994A101<br>indicator=yield<br>year=%{x}<br>value=%{y}<extra></extra>",
         "legendgroup": "ZA1994A101",
         "line": {
          "color": "#636efa",
          "dash": "solid"
         },
         "marker": {
          "symbol": "circle"
         },
         "mode": "lines+markers",
         "name": "ZA1994A101",
         "showlegend": false,
         "type": "scattergl",
         "x": [
          1979,
          1980,
          1981,
          1982,
          1983,
          1984,
          1985,
          1986,
          1987,
          1988,
          1989,
          1990,
          1991,
          1992,
          1993,
          1994,
          1995,
          1996,
          1997,
          1998,
          1999,
          2000,
          2001,
          2002,
          2003,
          2004,
          2005,
          2006,
          2007,
          2008,
          2009,
          2010,
          2011,
          2012,
          2013,
          2014,
          2015,
          2016,
          2017,
          2018,
          2019,
          2020,
          2021,
          2022
         ],
         "xaxis": "x",
         "y": [
          0.9249323583180988,
          0.8802946593001841,
          1.2382739212007503,
          1.2820976491862568,
          1.3207543859649122,
          1.1288214285714286,
          1.1218581979320532,
          1.024914119359534,
          1.3027060606060603,
          1.1147871362940276,
          1.2166484375,
          1.462609392185931,
          1.5156748472812864,
          1.872771189375754,
          1.777036677296727,
          1.855588933998668,
          2.033869760479042,
          2,
          1.5125,
          1.9666666666666663,
          1.967741935483871,
          2,
          1.9518716577540107,
          2.3284595300261097,
          1.6307692307692307,
          1.7218543046357615,
          2.208904109589041,
          2.246153846153846,
          2.32,
          2.8666666666666667,
          2.6943396226415093,
          2,
          2.679245283018868,
          3.3,
          2.9935483870967743,
          2.9,
          2.25,
          3.4,
          1.8,
          3.4,
          1.95,
          3.35,
          3.5,
          2.55
         ],
         "yaxis": "y"
        },
        {
         "connectgaps": false,
         "hovertemplate": "fnid=ZA1994A102<br>indicator=production<br>year=%{x}<br>value=%{y}<extra></extra>",
         "legendgroup": "ZA1994A102",
         "line": {
          "color": "#EF553B",
          "dash": "solid"
         },
         "marker": {
          "symbol": "circle"
         },
         "mode": "lines+markers",
         "name": "ZA1994A102",
         "showlegend": true,
         "type": "scattergl",
         "x": [
          1979,
          1980,
          1981,
          1982,
          1983,
          1984,
          1985,
          1986,
          1987,
          1988,
          1989,
          1990,
          1991,
          1992,
          1993,
          1994,
          1995,
          1996,
          1997,
          1998,
          1999,
          2000,
          2001,
          2002,
          2003,
          2004,
          2005,
          2006,
          2007,
          2008,
          2009,
          2010,
          2011,
          2012,
          2013,
          2014,
          2015,
          2016,
          2017,
          2018,
          2019,
          2020,
          2021,
          2022
         ],
         "xaxis": "x3",
         "y": [
          32102,
          19664,
          54000,
          49000,
          59095,
          50026,
          34031,
          27858,
          28703,
          36102,
          19085,
          17387,
          11200,
          17865,
          24808,
          37753,
          29817,
          18000,
          24000,
          10000,
          10500,
          14500,
          9000,
          10500,
          8500,
          14000,
          14500,
          8000,
          15200,
          22000,
          20000,
          18000,
          21000,
          18500,
          19800,
          12000,
          14880,
          11000,
          9500,
          11000,
          15500,
          26000,
          25080,
          40200
         ],
         "yaxis": "y3"
        },
        {
         "connectgaps": false,
         "hovertemplate": "fnid=ZA1994A102<br>indicator=area<br>year=%{x}<br>value=%{y}<extra></extra>",
         "legendgroup": "ZA1994A102",
         "line": {
          "color": "#EF553B",
          "dash": "solid"
         },
         "marker": {
          "symbol": "circle"
         },
         "mode": "lines+markers",
         "name": "ZA1994A102",
         "showlegend": false,
         "type": "scattergl",
         "x": [
          1979,
          1980,
          1981,
          1982,
          1983,
          1984,
          1985,
          1986,
          1987,
          1988,
          1989,
          1990,
          1991,
          1992,
          1993,
          1994,
          1995,
          1996,
          1997,
          1998,
          1999,
          2000,
          2001,
          2002,
          2003,
          2004,
          2005,
          2006,
          2007,
          2008,
          2009,
          2010,
          2011,
          2012,
          2013,
          2014,
          2015,
          2016,
          2017,
          2018,
          2019,
          2020,
          2021,
          2022
         ],
         "xaxis": "x2",
         "y": [
          107000,
          111000,
          118000,
          123000,
          121000,
          96000,
          113000,
          144000,
          36000,
          36000,
          36000,
          5838,
          7029,
          5942,
          15209,
          16110,
          16550,
          17000,
          13000,
          5000,
          4000,
          4300,
          2900,
          3500,
          2500,
          4000,
          4000,
          2800,
          3800,
          5500,
          5000,
          4500,
          5000,
          4500,
          4500,
          3000,
          3100,
          2200,
          1900,
          2200,
          3100,
          4000,
          3800,
          6000
         ],
         "yaxis": "y2"
        },
        {
         "connectgaps": false,
         "hovertemplate": "fnid=ZA1994A102<br>indicator=yield<br>year=%{x}<br>value=%{y}<extra></extra>",
         "legendgroup": "ZA1994A102",
         "line": {
          "color": "#EF553B",
          "dash": "solid"
         },
         "marker": {
          "symbol": "circle"
         },
         "mode": "lines+markers",
         "name": "ZA1994A102",
         "showlegend": false,
         "type": "scattergl",
         "x": [
          1979,
          1980,
          1981,
          1982,
          1983,
          1984,
          1985,
          1986,
          1987,
          1988,
          1989,
          1990,
          1991,
          1992,
          1993,
          1994,
          1995,
          1996,
          1997,
          1998,
          1999,
          2000,
          2001,
          2002,
          2003,
          2004,
          2005,
          2006,
          2007,
          2008,
          2009,
          2010,
          2011,
          2012,
          2013,
          2014,
          2015,
          2016,
          2017,
          2018,
          2019,
          2020,
          2021,
          2022
         ],
         "xaxis": "x",
         "y": [
          0.300018691588785,
          0.1771531531531531,
          0.4576271186440678,
          0.3983739837398374,
          0.4883884297520661,
          0.5211041666666667,
          0.3011592920353982,
          0.1934583333333333,
          0.7973055555555556,
          1.0028333333333332,
          0.5301388888888889,
          2.9782459746488525,
          1.593398776497368,
          3.006563446650959,
          1.6311394569005195,
          2.343451272501552,
          1.801631419939577,
          1.0588235294117647,
          1.8461538461538465,
          2,
          2.625,
          3.372093023255814,
          3.103448275862069,
          3,
          3.4,
          3.5,
          3.625,
          2.857142857142857,
          4,
          4,
          4,
          4,
          4.2,
          4.111111111111111,
          4.4,
          4,
          4.8,
          5,
          5,
          5,
          5,
          6.5,
          6.6,
          6.7
         ],
         "yaxis": "y"
        },
        {
         "connectgaps": false,
         "hovertemplate": "fnid=ZA1994A103<br>indicator=production<br>year=%{x}<br>value=%{y}<extra></extra>",
         "legendgroup": "ZA1994A103",
         "line": {
          "color": "#00cc96",
          "dash": "solid"
         },
         "marker": {
          "symbol": "circle"
         },
         "mode": "lines+markers",
         "name": "ZA1994A103",
         "showlegend": true,
         "type": "scattergl",
         "x": [
          1979,
          1980,
          1981,
          1982,
          1983,
          1984,
          1985,
          1986,
          1987,
          1988,
          1989,
          1990,
          1991,
          1992,
          1993,
          1994,
          1995,
          1996,
          1997,
          1998,
          1999,
          2000,
          2001,
          2002,
          2003,
          2004,
          2005,
          2006,
          2007,
          2008,
          2009,
          2010,
          2011,
          2012,
          2013,
          2014,
          2015,
          2016,
          2017,
          2018,
          2019,
          2020,
          2021,
          2022
         ],
         "xaxis": "x3",
         "y": [
          106000,
          125000,
          147000,
          156000,
          100011,
          142405,
          169544,
          197017,
          213587,
          262898,
          241402,
          227342,
          227953,
          276393,
          252282,
          364796,
          278242,
          345000,
          310000,
          225500,
          295000,
          324800,
          240000,
          320000,
          280000,
          300000,
          306000,
          250000,
          264500,
          332000,
          277200,
          252300,
          336000,
          272600,
          320000,
          285000,
          259200,
          266000,
          311600,
          266000,
          262500,
          271950,
          269800,
          324300
         ],
         "yaxis": "y3"
        },
        {
         "connectgaps": false,
         "hovertemplate": "fnid=ZA1994A103<br>indicator=area<br>year=%{x}<br>value=%{y}<extra></extra>",
         "legendgroup": "ZA1994A103",
         "line": {
          "color": "#00cc96",
          "dash": "solid"
         },
         "marker": {
          "symbol": "circle"
         },
         "mode": "lines+markers",
         "name": "ZA1994A103",
         "showlegend": false,
         "type": "scattergl",
         "x": [
          1979,
          1980,
          1981,
          1982,
          1983,
          1984,
          1985,
          1986,
          1987,
          1988,
          1989,
          1990,
          1991,
          1992,
          1993,
          1994,
          1995,
          1996,
          1997,
          1998,
          1999,
          2000,
          2001,
          2002,
          2003,
          2004,
          2005,
          2006,
          2007,
          2008,
          2009,
          2010,
          2011,
          2012,
          2013,
          2014,
          2015,
          2016,
          2017,
          2018,
          2019,
          2020,
          2021,
          2022
         ],
         "xaxis": "x2",
         "y": [
          74000,
          52000,
          92000,
          96000,
          83000,
          46000,
          53000,
          51000,
          46000,
          47000,
          47000,
          53011,
          53832,
          55031,
          52465,
          55268,
          56000,
          68000,
          65000,
          35000,
          43000,
          56000,
          44500,
          54000,
          48500,
          51100,
          48500,
          40000,
          42000,
          50000,
          44000,
          38000,
          42000,
          42000,
          42000,
          38000,
          36000,
          35000,
          38000,
          35000,
          37500,
          37000,
          35500,
          47000
         ],
         "yaxis": "y2"
        },
        {
         "connectgaps": false,
         "hovertemplate": "fnid=ZA1994A103<br>indicator=yield<br>year=%{x}<br>value=%{y}<extra></extra>",
         "legendgroup": "ZA1994A103",
         "line": {
          "color": "#00cc96",
          "dash": "solid"
         },
         "marker": {
          "symbol": "circle"
         },
         "mode": "lines+markers",
         "name": "ZA1994A103",
         "showlegend": false,
         "type": "scattergl",
         "x": [
          1979,
          1980,
          1981,
          1982,
          1983,
          1984,
          1985,
          1986,
          1987,
          1988,
          1989,
          1990,
          1991,
          1992,
          1993,
          1994,
          1995,
          1996,
          1997,
          1998,
          1999,
          2000,
          2001,
          2002,
          2003,
          2004,
          2005,
          2006,
          2007,
          2008,
          2009,
          2010,
          2011,
          2012,
          2013,
          2014,
          2015,
          2016,
          2017,
          2018,
          2019,
          2020,
          2021,
          2022
         ],
         "xaxis": "x",
         "y": [
          1.4324324324324325,
          2.4038461538461537,
          1.5978260869565215,
          1.625,
          1.2049518072289156,
          3.0957608695652175,
          3.198943396226415,
          3.863078431372549,
          4.643195652173913,
          5.593574468085106,
          5.136212765957447,
          4.288581615136481,
          4.234525932530837,
          5.022496411113736,
          4.808577146669208,
          6.600492147354708,
          4.9686071428571426,
          5.073529411764706,
          4.769230769230769,
          6.442857142857143,
          6.8604651162790695,
          5.8,
          5.393258426966292,
          5.925925925925926,
          5.77319587628866,
          5.870841487279844,
          6.309278350515464,
          6.25,
          6.2976190476190474,
          6.64,
          6.3,
          6.639473684210526,
          8,
          6.4904761904761905,
          7.619047619047619,
          7.5,
          7.2,
          7.6,
          8.2,
          7.6,
          7,
          7.35,
          7.6,
          6.9
         ],
         "yaxis": "y"
        },
        {
         "connectgaps": false,
         "hovertemplate": "fnid=ZA1994A104<br>indicator=production<br>year=%{x}<br>value=%{y}<extra></extra>",
         "legendgroup": "ZA1994A104",
         "line": {
          "color": "#ab63fa",
          "dash": "solid"
         },
         "marker": {
          "symbol": "circle"
         },
         "mode": "lines+markers",
         "name": "ZA1994A104",
         "showlegend": true,
         "type": "scattergl",
         "x": [
          1979,
          1980,
          1981,
          1982,
          1983,
          1984,
          1985,
          1986,
          1987,
          1988,
          1989,
          1990,
          1991,
          1992,
          1993,
          1994,
          1995,
          1996,
          1997,
          1998,
          1999,
          2000,
          2001,
          2002,
          2003,
          2004,
          2005,
          2006,
          2007,
          2008,
          2009,
          2010,
          2011,
          2012,
          2013,
          2014,
          2015,
          2016,
          2017,
          2018,
          2019,
          2020,
          2021,
          2022
         ],
         "xaxis": "x3",
         "y": [
          1253293,
          556000,
          1108000,
          1121000,
          692165,
          1100117,
          446266,
          1155621,
          1659633,
          2126432,
          895971,
          713403,
          1107414,
          249946,
          788955,
          451371,
          638828,
          1217000,
          1180000,
          590500,
          538500,
          908000,
          1100000,
          820000,
          480000,
          510000,
          580000,
          780000,
          570000,
          560000,
          622000,
          378000,
          550500,
          360000,
          270000,
          245500,
          184000,
          308000,
          328000,
          308000,
          313600,
          413600,
          353500,
          432000
         ],
         "yaxis": "y3"
        },
        {
         "connectgaps": false,
         "hovertemplate": "fnid=ZA1994A104<br>indicator=area<br>year=%{x}<br>value=%{y}<extra></extra>",
         "legendgroup": "ZA1994A104",
         "line": {
          "color": "#ab63fa",
          "dash": "solid"
         },
         "marker": {
          "symbol": "circle"
         },
         "mode": "lines+markers",
         "name": "ZA1994A104",
         "showlegend": false,
         "type": "scattergl",
         "x": [
          1979,
          1980,
          1981,
          1982,
          1983,
          1984,
          1985,
          1986,
          1987,
          1988,
          1989,
          1990,
          1991,
          1992,
          1993,
          1994,
          1995,
          1996,
          1997,
          1998,
          1999,
          2000,
          2001,
          2002,
          2003,
          2004,
          2005,
          2006,
          2007,
          2008,
          2009,
          2010,
          2011,
          2012,
          2013,
          2014,
          2015,
          2016,
          2017,
          2018,
          2019,
          2020,
          2021,
          2022
         ],
         "xaxis": "x2",
         "y": [
          946000,
          703000,
          812000,
          948000,
          828000,
          919000,
          874000,
          828000,
          862000,
          1119000,
          1113000,
          1030630,
          946464,
          301321,
          529319,
          515482,
          819000,
          702000,
          790000,
          330000,
          300000,
          443000,
          500000,
          440000,
          320000,
          352600,
          380000,
          360000,
          215000,
          280000,
          235000,
          204000,
          225000,
          130000,
          90000,
          69500,
          80000,
          110000,
          80000,
          110000,
          128000,
          94000,
          70000,
          96000
         ],
         "yaxis": "y2"
        },
        {
         "connectgaps": false,
         "hovertemplate": "fnid=ZA1994A104<br>indicator=yield<br>year=%{x}<br>value=%{y}<extra></extra>",
         "legendgroup": "ZA1994A104",
         "line": {
          "color": "#ab63fa",
          "dash": "solid"
         },
         "marker": {
          "symbol": "circle"
         },
         "mode": "lines+markers",
         "name": "ZA1994A104",
         "showlegend": false,
         "type": "scattergl",
         "x": [
          1979,
          1980,
          1981,
          1982,
          1983,
          1984,
          1985,
          1986,
          1987,
          1988,
          1989,
          1990,
          1991,
          1992,
          1993,
          1994,
          1995,
          1996,
          1997,
          1998,
          1999,
          2000,
          2001,
          2002,
          2003,
          2004,
          2005,
          2006,
          2007,
          2008,
          2009,
          2010,
          2011,
          2012,
          2013,
          2014,
          2015,
          2016,
          2017,
          2018,
          2019,
          2020,
          2021,
          2022
         ],
         "xaxis": "x",
         "y": [
          1.3248340380549684,
          0.7908961593172119,
          1.3645320197044335,
          1.1824894514767932,
          0.8359480676328502,
          1.1970805223068552,
          0.5106018306636155,
          1.395677536231884,
          1.9253283062645012,
          1.900296693476318,
          0.8050053908355795,
          0.692200886836207,
          1.170054011563039,
          0.8295007649649377,
          1.4905095037208187,
          0.8756290229338755,
          0.780009768009768,
          1.7336182336182335,
          1.4936708860759491,
          1.789393939393939,
          1.795,
          2.049661399548533,
          2.2,
          1.8636363636363635,
          1.5,
          1.4463981849120815,
          1.5263157894736843,
          2.1666666666666665,
          2.6511627906976742,
          2,
          2.646808510638298,
          1.8529411764705883,
          2.4466666666666668,
          2.769230769230769,
          3,
          3.5323741007194243,
          2.3,
          2.8,
          4.1,
          2.8,
          2.45,
          4.4,
          5.05,
          4.5
         ],
         "yaxis": "y"
        },
        {
         "connectgaps": false,
         "hovertemplate": "fnid=ZA1994A105<br>indicator=production<br>year=%{x}<br>value=%{y}<extra></extra>",
         "legendgroup": "ZA1994A105",
         "line": {
          "color": "#FFA15A",
          "dash": "solid"
         },
         "marker": {
          "symbol": "circle"
         },
         "mode": "lines+markers",
         "name": "ZA1994A105",
         "showlegend": true,
         "type": "scattergl",
         "x": [
          1979,
          1980,
          1981,
          1982,
          1983,
          1984,
          1985,
          1986,
          1987,
          1988,
          1989,
          1990,
          1991,
          1992,
          1993,
          1994,
          1995,
          1996,
          1997,
          1998,
          1999,
          2000,
          2001,
          2002,
          2003,
          2004,
          2005,
          2006,
          2007,
          2008,
          2009,
          2010,
          2011,
          2012,
          2013,
          2014,
          2015,
          2016,
          2017,
          2018,
          2019,
          2020,
          2021,
          2022
         ],
         "xaxis": "x3",
         "y": [
          2948,
          3000,
          4000,
          11000,
          9300,
          25274,
          30537,
          47610,
          50706,
          61335,
          24078,
          24145,
          20391,
          19940,
          15021,
          22023,
          12412,
          24000,
          23000,
          22000,
          37000,
          43700,
          50000,
          39600,
          31900,
          34000,
          41500,
          31000,
          28800,
          38200,
          35000,
          30500,
          40500,
          32500,
          42000,
          39000,
          41610,
          37050,
          42750,
          37050,
          45750,
          48360,
          53975,
          60720
         ],
         "yaxis": "y3"
        },
        {
         "connectgaps": false,
         "hovertemplate": "fnid=ZA1994A105<br>indicator=area<br>year=%{x}<br>value=%{y}<extra></extra>",
         "legendgroup": "ZA1994A105",
         "line": {
          "color": "#FFA15A",
          "dash": "solid"
         },
         "marker": {
          "symbol": "circle"
         },
         "mode": "lines+markers",
         "name": "ZA1994A105",
         "showlegend": false,
         "type": "scattergl",
         "x": [
          1979,
          1980,
          1981,
          1982,
          1983,
          1984,
          1985,
          1986,
          1987,
          1988,
          1989,
          1990,
          1991,
          1992,
          1993,
          1994,
          1995,
          1996,
          1997,
          1998,
          1999,
          2000,
          2001,
          2002,
          2003,
          2004,
          2005,
          2006,
          2007,
          2008,
          2009,
          2010,
          2011,
          2012,
          2013,
          2014,
          2015,
          2016,
          2017,
          2018,
          2019,
          2020,
          2021,
          2022
         ],
         "xaxis": "x2",
         "y": [
          3000,
          2000,
          2000,
          2000,
          2000,
          5850,
          8675,
          12000,
          13000,
          13000,
          13000,
          6377,
          5378,
          4530,
          4304,
          3635,
          3500,
          5000,
          5800,
          5000,
          6000,
          8700,
          11000,
          8600,
          7000,
          6600,
          9000,
          7000,
          6000,
          7500,
          7000,
          6100,
          7500,
          6500,
          7000,
          6500,
          7300,
          6500,
          7500,
          6500,
          7500,
          7800,
          8500,
          9200
         ],
         "yaxis": "y2"
        },
        {
         "connectgaps": false,
         "hovertemplate": "fnid=ZA1994A105<br>indicator=yield<br>year=%{x}<br>value=%{y}<extra></extra>",
         "legendgroup": "ZA1994A105",
         "line": {
          "color": "#FFA15A",
          "dash": "solid"
         },
         "marker": {
          "symbol": "circle"
         },
         "mode": "lines+markers",
         "name": "ZA1994A105",
         "showlegend": false,
         "type": "scattergl",
         "x": [
          1979,
          1980,
          1981,
          1982,
          1983,
          1984,
          1985,
          1986,
          1987,
          1988,
          1989,
          1990,
          1991,
          1992,
          1993,
          1994,
          1995,
          1996,
          1997,
          1998,
          1999,
          2000,
          2001,
          2002,
          2003,
          2004,
          2005,
          2006,
          2007,
          2008,
          2009,
          2010,
          2011,
          2012,
          2013,
          2014,
          2015,
          2016,
          2017,
          2018,
          2019,
          2020,
          2021,
          2022
         ],
         "xaxis": "x",
         "y": [
          0.9826666666666668,
          1.5,
          2,
          5.5,
          4.65,
          4.32034188034188,
          3.520115273775216,
          3.9675,
          3.9004615384615384,
          4.718076923076923,
          1.8521538461538465,
          3.7862631331347023,
          3.7915582000743777,
          4.401766004415011,
          3.4900092936802976,
          6.0585969738652,
          3.5462857142857143,
          4.8,
          3.9655172413793105,
          4.4,
          6.166666666666667,
          5.022988505747127,
          4.545454545454546,
          4.604651162790698,
          4.557142857142857,
          5.151515151515151,
          4.611111111111111,
          4.428571428571429,
          4.8,
          5.093333333333334,
          5,
          5,
          5.4,
          5,
          6,
          6,
          5.7,
          5.7,
          5.7,
          5.7,
          6.1,
          6.2,
          6.35,
          6.6
         ],
         "yaxis": "y"
        },
        {
         "connectgaps": false,
         "hovertemplate": "fnid=ZA1994A106<br>indicator=production<br>year=%{x}<br>value=%{y}<extra></extra>",
         "legendgroup": "ZA1994A106",
         "line": {
          "color": "#19d3f3",
          "dash": "solid"
         },
         "marker": {
          "symbol": "circle"
         },
         "mode": "lines+markers",
         "name": "ZA1994A106",
         "showlegend": true,
         "type": "scattergl",
         "x": [
          1979,
          1980,
          1981,
          1982,
          1983,
          1984,
          1985,
          1986,
          1987,
          1988,
          1989,
          1990,
          1991,
          1992,
          1993,
          1994,
          1995,
          1996,
          1997,
          1998,
          1999,
          2000,
          2001,
          2002,
          2003,
          2004,
          2005,
          2006,
          2007,
          2008,
          2009,
          2010,
          2011,
          2012,
          2013,
          2014,
          2015,
          2016,
          2017,
          2018,
          2019,
          2020,
          2021,
          2022
         ],
         "xaxis": "x3",
         "y": [
          121101,
          108000,
          174000,
          190000,
          85046,
          72219,
          63837,
          70170,
          139294,
          184488,
          109616,
          142437,
          176521,
          62182,
          67063,
          90248,
          110480,
          139000,
          170000,
          146000,
          140000,
          171550,
          130000,
          145600,
          130000,
          145000,
          162000,
          138000,
          118000,
          150000,
          136800,
          123200,
          125500,
          114000,
          110000,
          107100,
          87000,
          69600,
          83700,
          69600,
          78975,
          82200,
          88200,
          92800
         ],
         "yaxis": "y3"
        },
        {
         "connectgaps": false,
         "hovertemplate": "fnid=ZA1994A106<br>indicator=area<br>year=%{x}<br>value=%{y}<extra></extra>",
         "legendgroup": "ZA1994A106",
         "line": {
          "color": "#19d3f3",
          "dash": "solid"
         },
         "marker": {
          "symbol": "circle"
         },
         "mode": "lines+markers",
         "name": "ZA1994A106",
         "showlegend": false,
         "type": "scattergl",
         "x": [
          1979,
          1980,
          1981,
          1982,
          1983,
          1984,
          1985,
          1986,
          1987,
          1988,
          1989,
          1990,
          1991,
          1992,
          1993,
          1994,
          1995,
          1996,
          1997,
          1998,
          1999,
          2000,
          2001,
          2002,
          2003,
          2004,
          2005,
          2006,
          2007,
          2008,
          2009,
          2010,
          2011,
          2012,
          2013,
          2014,
          2015,
          2016,
          2017,
          2018,
          2019,
          2020,
          2021,
          2022
         ],
         "xaxis": "x2",
         "y": [
          78000,
          80000,
          66000,
          87000,
          57000,
          39000,
          71000,
          81000,
          58000,
          58000,
          58000,
          92713,
          71215,
          33932,
          25118,
          25418,
          42600,
          60000,
          66500,
          50000,
          32000,
          36500,
          26400,
          28000,
          26000,
          28000,
          30000,
          28000,
          22500,
          25000,
          24000,
          22000,
          22000,
          20000,
          18500,
          18000,
          15000,
          12000,
          13500,
          12000,
          13500,
          13700,
          14000,
          14500
         ],
         "yaxis": "y2"
        },
        {
         "connectgaps": false,
         "hovertemplate": "fnid=ZA1994A106<br>indicator=yield<br>year=%{x}<br>value=%{y}<extra></extra>",
         "legendgroup": "ZA1994A106",
         "line": {
          "color": "#19d3f3",
          "dash": "solid"
         },
         "marker": {
          "symbol": "circle"
         },
         "mode": "lines+markers",
         "name": "ZA1994A106",
         "showlegend": false,
         "type": "scattergl",
         "x": [
          1979,
          1980,
          1981,
          1982,
          1983,
          1984,
          1985,
          1986,
          1987,
          1988,
          1989,
          1990,
          1991,
          1992,
          1993,
          1994,
          1995,
          1996,
          1997,
          1998,
          1999,
          2000,
          2001,
          2002,
          2003,
          2004,
          2005,
          2006,
          2007,
          2008,
          2009,
          2010,
          2011,
          2012,
          2013,
          2014,
          2015,
          2016,
          2017,
          2018,
          2019,
          2020,
          2021,
          2022
         ],
         "xaxis": "x",
         "y": [
          1.552576923076923,
          1.35,
          2.636363636363636,
          2.1839080459770117,
          1.4920350877192985,
          1.8517692307692308,
          0.899112676056338,
          0.8662962962962963,
          2.4016206896551724,
          3.1808275862068967,
          1.889931034482759,
          1.536321767173967,
          2.4787053289335113,
          1.8325474478368504,
          2.669917987100884,
          3.5505547249980327,
          2.5934272300469483,
          2.316666666666667,
          2.556390977443609,
          2.92,
          4.375,
          4.7,
          4.924242424242424,
          5.2,
          5,
          5.178571428571429,
          5.4,
          4.928571428571429,
          5.2444444444444445,
          6,
          5.7,
          5.6,
          5.704545454545454,
          5.7,
          5.945945945945946,
          5.95,
          5.8,
          5.8,
          6.2,
          5.8,
          5.85,
          6,
          6.3,
          6.4
         ],
         "yaxis": "y"
        },
        {
         "connectgaps": false,
         "hovertemplate": "fnid=ZA1994A107<br>indicator=production<br>year=%{x}<br>value=%{y}<extra></extra>",
         "legendgroup": "ZA1994A107",
         "line": {
          "color": "#FF6692",
          "dash": "solid"
         },
         "marker": {
          "symbol": "circle"
         },
         "mode": "lines+markers",
         "name": "ZA1994A107",
         "showlegend": true,
         "type": "scattergl",
         "x": [
          1979,
          1980,
          1981,
          1982,
          1983,
          1984,
          1985,
          1986,
          1987,
          1988,
          1989,
          1990,
          1991,
          1992,
          1993,
          1994,
          1995,
          1996,
          1997,
          1998,
          1999,
          2000,
          2001,
          2002,
          2003,
          2004,
          2005,
          2006,
          2007,
          2008,
          2009,
          2010,
          2011,
          2012,
          2013,
          2014,
          2015,
          2016,
          2017,
          2018,
          2019,
          2020,
          2021,
          2022
         ],
         "xaxis": "x3",
         "y": [
          1920,
          3000,
          3000,
          4000,
          2613,
          30962,
          38596,
          31983,
          52415,
          63286,
          31071,
          8217,
          8676,
          9138,
          7597,
          9057,
          9347,
          8000,
          17500,
          13500,
          17000,
          18000,
          16000,
          12000,
          8600,
          14000,
          14000,
          10000,
          11050,
          12800,
          12800,
          9600,
          11300,
          8420,
          6200,
          3550,
          1500,
          2190,
          4200,
          2190,
          8400,
          8190,
          6930,
          7370
         ],
         "yaxis": "y3"
        },
        {
         "connectgaps": false,
         "hovertemplate": "fnid=ZA1994A107<br>indicator=area<br>year=%{x}<br>value=%{y}<extra></extra>",
         "legendgroup": "ZA1994A107",
         "line": {
          "color": "#FF6692",
          "dash": "solid"
         },
         "marker": {
          "symbol": "circle"
         },
         "mode": "lines+markers",
         "name": "ZA1994A107",
         "showlegend": false,
         "type": "scattergl",
         "x": [
          1979,
          1980,
          1981,
          1982,
          1983,
          1984,
          1985,
          1986,
          1987,
          1988,
          1989,
          1990,
          1991,
          1992,
          1993,
          1994,
          1995,
          1996,
          1997,
          1998,
          1999,
          2000,
          2001,
          2002,
          2003,
          2004,
          2005,
          2006,
          2007,
          2008,
          2009,
          2010,
          2011,
          2012,
          2013,
          2014,
          2015,
          2016,
          2017,
          2018,
          2019,
          2020,
          2021,
          2022
         ],
         "xaxis": "x2",
         "y": [
          4000,
          2000,
          3000,
          3000,
          5000,
          7000,
          9000,
          9000,
          17000,
          17000,
          16000,
          2992,
          2130,
          2324,
          2235,
          2861,
          2800,
          1800,
          3000,
          2000,
          4000,
          5000,
          3700,
          2500,
          2000,
          2500,
          2500,
          2000,
          1700,
          2000,
          2000,
          1500,
          1700,
          1500,
          1000,
          570,
          250,
          365,
          700,
          365,
          1400,
          1300,
          1100,
          1100
         ],
         "yaxis": "y2"
        },
        {
         "connectgaps": false,
         "hovertemplate": "fnid=ZA1994A107<br>indicator=yield<br>year=%{x}<br>value=%{y}<extra></extra>",
         "legendgroup": "ZA1994A107",
         "line": {
          "color": "#FF6692",
          "dash": "solid"
         },
         "marker": {
          "symbol": "circle"
         },
         "mode": "lines+markers",
         "name": "ZA1994A107",
         "showlegend": false,
         "type": "scattergl",
         "x": [
          1979,
          1980,
          1981,
          1982,
          1983,
          1984,
          1985,
          1986,
          1987,
          1988,
          1989,
          1990,
          1991,
          1992,
          1993,
          1994,
          1995,
          1996,
          1997,
          1998,
          1999,
          2000,
          2001,
          2002,
          2003,
          2004,
          2005,
          2006,
          2007,
          2008,
          2009,
          2010,
          2011,
          2012,
          2013,
          2014,
          2015,
          2016,
          2017,
          2018,
          2019,
          2020,
          2021,
          2022
         ],
         "xaxis": "x",
         "y": [
          0.48,
          1.5,
          1,
          1.3333333333333333,
          0.5226,
          4.4231428571428575,
          4.288444444444444,
          3.5536666666666665,
          3.083235294117647,
          3.7227058823529418,
          1.9419375,
          2.7463235294117645,
          4.073239436619718,
          3.932013769363167,
          3.3991051454138703,
          3.165676336945124,
          3.338214285714286,
          4.444444444444445,
          5.833333333333333,
          6.75,
          4.25,
          3.6,
          4.324324324324325,
          4.8,
          4.3,
          5.6,
          5.6,
          5,
          6.5,
          6.4,
          6.4,
          6.4,
          6.647058823529412,
          5.613333333333333,
          6.2,
          6.228070175438597,
          6,
          6,
          6,
          6,
          6,
          6.3,
          6.3,
          6.7
         ],
         "yaxis": "y"
        },
        {
         "connectgaps": false,
         "hovertemplate": "fnid=ZA1994A108<br>indicator=production<br>year=%{x}<br>value=%{y}<extra></extra>",
         "legendgroup": "ZA1994A108",
         "line": {
          "color": "#B6E880",
          "dash": "solid"
         },
         "marker": {
          "symbol": "circle"
         },
         "mode": "lines+markers",
         "name": "ZA1994A108",
         "showlegend": true,
         "type": "scattergl",
         "x": [
          1979,
          1980,
          1981,
          1982,
          1983,
          1984,
          1985,
          1986,
          1987,
          1988,
          1989,
          1990,
          1991,
          1992,
          1993,
          1994,
          1995,
          1996,
          1997,
          1998,
          1999,
          2000,
          2001,
          2002,
          2003,
          2004,
          2005,
          2006,
          2007,
          2008,
          2009,
          2010,
          2011,
          2012,
          2013,
          2014,
          2015,
          2016,
          2017,
          2018,
          2019,
          2020,
          2021,
          2022
         ],
         "xaxis": "x3",
         "y": [
          38502,
          88000,
          92000,
          104000,
          48370,
          83036,
          76171,
          50878,
          90678,
          99519,
          46607,
          67810,
          67430,
          44781,
          37788,
          72149,
          40708,
          78000,
          88000,
          47000,
          69100,
          102000,
          115000,
          119500,
          36000,
          80000,
          92000,
          77000,
          25000,
          45000,
          41200,
          23400,
          34200,
          25380,
          28000,
          21350,
          20125,
          13800,
          25200,
          13800,
          25200,
          19500,
          27470,
          27600
         ],
         "yaxis": "y3"
        },
        {
         "connectgaps": false,
         "hovertemplate": "fnid=ZA1994A108<br>indicator=area<br>year=%{x}<br>value=%{y}<extra></extra>",
         "legendgroup": "ZA1994A108",
         "line": {
          "color": "#B6E880",
          "dash": "solid"
         },
         "marker": {
          "symbol": "circle"
         },
         "mode": "lines+markers",
         "name": "ZA1994A108",
         "showlegend": false,
         "type": "scattergl",
         "x": [
          1979,
          1980,
          1981,
          1982,
          1983,
          1984,
          1985,
          1986,
          1987,
          1988,
          1989,
          1990,
          1991,
          1992,
          1993,
          1994,
          1995,
          1996,
          1997,
          1998,
          1999,
          2000,
          2001,
          2002,
          2003,
          2004,
          2005,
          2006,
          2007,
          2008,
          2009,
          2010,
          2011,
          2012,
          2013,
          2014,
          2015,
          2016,
          2017,
          2018,
          2019,
          2020,
          2021,
          2022
         ],
         "xaxis": "x2",
         "y": [
          34000,
          46000,
          49000,
          50000,
          40000,
          53000,
          36000,
          25000,
          29000,
          30000,
          25000,
          20875,
          17097,
          7285,
          7824,
          12095,
          10500,
          17000,
          22000,
          9000,
          11000,
          20000,
          25000,
          23500,
          9000,
          15700,
          18000,
          15000,
          5000,
          8000,
          7500,
          4500,
          5500,
          4700,
          4500,
          3500,
          3500,
          2300,
          4000,
          2300,
          4000,
          3000,
          4100,
          4000
         ],
         "yaxis": "y2"
        },
        {
         "connectgaps": false,
         "hovertemplate": "fnid=ZA1994A108<br>indicator=yield<br>year=%{x}<br>value=%{y}<extra></extra>",
         "legendgroup": "ZA1994A108",
         "line": {
          "color": "#B6E880",
          "dash": "solid"
         },
         "marker": {
          "symbol": "circle"
         },
         "mode": "lines+markers",
         "name": "ZA1994A108",
         "showlegend": false,
         "type": "scattergl",
         "x": [
          1979,
          1980,
          1981,
          1982,
          1983,
          1984,
          1985,
          1986,
          1987,
          1988,
          1989,
          1990,
          1991,
          1992,
          1993,
          1994,
          1995,
          1996,
          1997,
          1998,
          1999,
          2000,
          2001,
          2002,
          2003,
          2004,
          2005,
          2006,
          2007,
          2008,
          2009,
          2010,
          2011,
          2012,
          2013,
          2014,
          2015,
          2016,
          2017,
          2018,
          2019,
          2020,
          2021,
          2022
         ],
         "xaxis": "x",
         "y": [
          1.1324117647058825,
          1.9130434782608696,
          1.8775510204081631,
          2.08,
          1.20925,
          1.5667169811320756,
          2.115861111111111,
          2.03512,
          3.1268275862068964,
          3.3173,
          1.86428,
          3.2483832335329343,
          3.9439667777972742,
          6.147014413177763,
          4.829754601226994,
          5.965192228193469,
          3.876952380952381,
          4.588235294117647,
          4,
          5.222222222222222,
          6.281818181818182,
          5.1,
          4.6,
          5.085106382978723,
          4,
          5.095541401273885,
          5.111111111111111,
          5.133333333333334,
          5,
          5.625,
          5.493333333333333,
          5.2,
          6.218181818181818,
          5.4,
          6.222222222222222,
          6.1,
          5.75,
          6,
          6.3,
          6,
          6.3,
          6.5,
          6.7,
          6.9
         ],
         "yaxis": "y"
        },
        {
         "connectgaps": false,
         "hovertemplate": "fnid=ZA1994A109<br>indicator=production<br>year=%{x}<br>value=%{y}<extra></extra>",
         "legendgroup": "ZA1994A109",
         "line": {
          "color": "#FF97FF",
          "dash": "solid"
         },
         "marker": {
          "symbol": "circle"
         },
         "mode": "lines+markers",
         "name": "ZA1994A109",
         "showlegend": true,
         "type": "scattergl",
         "x": [
          1979,
          1980,
          1981,
          1982,
          1983,
          1984,
          1985,
          1986,
          1987,
          1988,
          1989,
          1990,
          1991,
          1992,
          1993,
          1994,
          1995,
          1996,
          1997,
          1998,
          1999,
          2000,
          2001,
          2002,
          2003,
          2004,
          2005,
          2006,
          2007,
          2008,
          2009,
          2010,
          2011,
          2012,
          2013,
          2014,
          2015,
          2016,
          2017,
          2018,
          2019,
          2020,
          2021,
          2022
         ],
         "xaxis": "x3",
         "y": [
          26550,
          89000,
          97000,
          76000,
          24825,
          101813,
          61412,
          35557,
          40299,
          36384,
          12115,
          12276,
          16921,
          8577,
          39034,
          46700,
          33503,
          65000,
          74500,
          38500,
          52000,
          75000,
          60000,
          68000,
          35000,
          63000,
          50000,
          81000,
          60450,
          110000,
          99000,
          65000,
          176000,
          141000,
          146000,
          137500,
          151200,
          103700,
          130000,
          103700,
          118000,
          147200,
          172250,
          185600
         ],
         "yaxis": "y3"
        },
        {
         "connectgaps": false,
         "hovertemplate": "fnid=ZA1994A109<br>indicator=area<br>year=%{x}<br>value=%{y}<extra></extra>",
         "legendgroup": "ZA1994A109",
         "line": {
          "color": "#FF97FF",
          "dash": "solid"
         },
         "marker": {
          "symbol": "circle"
         },
         "mode": "lines+markers",
         "name": "ZA1994A109",
         "showlegend": false,
         "type": "scattergl",
         "x": [
          1979,
          1980,
          1981,
          1982,
          1983,
          1984,
          1985,
          1986,
          1987,
          1988,
          1989,
          1990,
          1991,
          1992,
          1993,
          1994,
          1995,
          1996,
          1997,
          1998,
          1999,
          2000,
          2001,
          2002,
          2003,
          2004,
          2005,
          2006,
          2007,
          2008,
          2009,
          2010,
          2011,
          2012,
          2013,
          2014,
          2015,
          2016,
          2017,
          2018,
          2019,
          2020,
          2021,
          2022
         ],
         "xaxis": "x2",
         "y": [
          108000,
          84000,
          112000,
          112000,
          103000,
          113000,
          116000,
          99000,
          8000,
          12000,
          10000,
          3620,
          3258,
          2003,
          10327,
          10827,
          11400,
          20000,
          17000,
          9000,
          8000,
          15000,
          15000,
          17000,
          8000,
          15500,
          11000,
          18000,
          11000,
          20000,
          18000,
          12500,
          31000,
          30000,
          28000,
          27500,
          27000,
          17000,
          20000,
          17000,
          20000,
          23000,
          26500,
          29000
         ],
         "yaxis": "y2"
        },
        {
         "connectgaps": false,
         "hovertemplate": "fnid=ZA1994A109<br>indicator=yield<br>year=%{x}<br>value=%{y}<extra></extra>",
         "legendgroup": "ZA1994A109",
         "line": {
          "color": "#FF97FF",
          "dash": "solid"
         },
         "marker": {
          "symbol": "circle"
         },
         "mode": "lines+markers",
         "name": "ZA1994A109",
         "showlegend": false,
         "type": "scattergl",
         "x": [
          1979,
          1980,
          1981,
          1982,
          1983,
          1984,
          1985,
          1986,
          1987,
          1988,
          1989,
          1990,
          1991,
          1992,
          1993,
          1994,
          1995,
          1996,
          1997,
          1998,
          1999,
          2000,
          2001,
          2002,
          2003,
          2004,
          2005,
          2006,
          2007,
          2008,
          2009,
          2010,
          2011,
          2012,
          2013,
          2014,
          2015,
          2016,
          2017,
          2018,
          2019,
          2020,
          2021,
          2022
         ],
         "xaxis": "x",
         "y": [
          0.2458333333333333,
          1.0595238095238095,
          0.8660714285714286,
          0.6785714285714286,
          0.2410194174757281,
          0.901,
          0.5294137931034483,
          0.3591616161616162,
          5.037375,
          3.032,
          1.2115,
          3.3911602209944753,
          5.193677102516881,
          4.282076884672991,
          3.779800522901133,
          4.313290846956682,
          2.938859649122807,
          3.25,
          4.382352941176471,
          4.277777777777778,
          6.5,
          5,
          4,
          4,
          4.375,
          4.064516129032258,
          4.545454545454546,
          4.5,
          5.495454545454545,
          5.5,
          5.5,
          5.2,
          5.67741935483871,
          4.7,
          5.214285714285714,
          5,
          5.6,
          6.1,
          6.5,
          6.1,
          5.9,
          6.4,
          6.5,
          6.4
         ],
         "yaxis": "y"
        }
       ],
       "layout": {
        "annotations": [
         {
          "showarrow": false,
          "text": "",
          "textangle": 90,
          "x": 0.98,
          "xanchor": "left",
          "xref": "paper",
          "y": 0.16333333333333333,
          "yanchor": "middle",
          "yref": "paper"
         },
         {
          "showarrow": false,
          "text": "",
          "textangle": 90,
          "x": 0.98,
          "xanchor": "left",
          "xref": "paper",
          "y": 0.5,
          "yanchor": "middle",
          "yref": "paper"
         },
         {
          "showarrow": false,
          "text": "",
          "textangle": 90,
          "x": 0.98,
          "xanchor": "left",
          "xref": "paper",
          "y": 0.8366666666666667,
          "yanchor": "middle",
          "yref": "paper"
         },
         {
          "align": "left",
          "font": {
           "color": "dimgrey",
           "family": "arial",
           "size": 15
          },
          "showarrow": false,
          "text": "Production-Area-Yield time-series of ZA - Wheat - Winter",
          "x": -0.014,
          "xref": "paper",
          "y": -0.14,
          "yref": "paper"
         }
        ],
        "font": {
         "color": "black",
         "family": "arial",
         "size": 16
        },
        "height": 600,
        "legend": {
         "font": {
          "size": 14
         },
         "title": {
          "text": "FNID"
         },
         "tracegroupgap": 0,
         "x": 1,
         "xanchor": "left",
         "y": 1,
         "yanchor": "top"
        },
        "margin": {
         "b": 25,
         "l": 0,
         "r": 0,
         "t": 0
        },
        "template": {
         "data": {
          "bar": [
           {
            "error_x": {
             "color": "#2a3f5f"
            },
            "error_y": {
             "color": "#2a3f5f"
            },
            "marker": {
             "line": {
              "color": "#E5ECF6",
              "width": 0.5
             },
             "pattern": {
              "fillmode": "overlay",
              "size": 10,
              "solidity": 0.2
             }
            },
            "type": "bar"
           }
          ],
          "barpolar": [
           {
            "marker": {
             "line": {
              "color": "#E5ECF6",
              "width": 0.5
             },
             "pattern": {
              "fillmode": "overlay",
              "size": 10,
              "solidity": 0.2
             }
            },
            "type": "barpolar"
           }
          ],
          "carpet": [
           {
            "aaxis": {
             "endlinecolor": "#2a3f5f",
             "gridcolor": "white",
             "linecolor": "white",
             "minorgridcolor": "white",
             "startlinecolor": "#2a3f5f"
            },
            "baxis": {
             "endlinecolor": "#2a3f5f",
             "gridcolor": "white",
             "linecolor": "white",
             "minorgridcolor": "white",
             "startlinecolor": "#2a3f5f"
            },
            "type": "carpet"
           }
          ],
          "choropleth": [
           {
            "colorbar": {
             "outlinewidth": 0,
             "ticks": ""
            },
            "type": "choropleth"
           }
          ],
          "contour": [
           {
            "colorbar": {
             "outlinewidth": 0,
             "ticks": ""
            },
            "colorscale": [
             [
              0,
              "#0d0887"
             ],
             [
              0.1111111111111111,
              "#46039f"
             ],
             [
              0.2222222222222222,
              "#7201a8"
             ],
             [
              0.3333333333333333,
              "#9c179e"
             ],
             [
              0.4444444444444444,
              "#bd3786"
             ],
             [
              0.5555555555555556,
              "#d8576b"
             ],
             [
              0.6666666666666666,
              "#ed7953"
             ],
             [
              0.7777777777777778,
              "#fb9f3a"
             ],
             [
              0.8888888888888888,
              "#fdca26"
             ],
             [
              1,
              "#f0f921"
             ]
            ],
            "type": "contour"
           }
          ],
          "contourcarpet": [
           {
            "colorbar": {
             "outlinewidth": 0,
             "ticks": ""
            },
            "type": "contourcarpet"
           }
          ],
          "heatmap": [
           {
            "colorbar": {
             "outlinewidth": 0,
             "ticks": ""
            },
            "colorscale": [
             [
              0,
              "#0d0887"
             ],
             [
              0.1111111111111111,
              "#46039f"
             ],
             [
              0.2222222222222222,
              "#7201a8"
             ],
             [
              0.3333333333333333,
              "#9c179e"
             ],
             [
              0.4444444444444444,
              "#bd3786"
             ],
             [
              0.5555555555555556,
              "#d8576b"
             ],
             [
              0.6666666666666666,
              "#ed7953"
             ],
             [
              0.7777777777777778,
              "#fb9f3a"
             ],
             [
              0.8888888888888888,
              "#fdca26"
             ],
             [
              1,
              "#f0f921"
             ]
            ],
            "type": "heatmap"
           }
          ],
          "heatmapgl": [
           {
            "colorbar": {
             "outlinewidth": 0,
             "ticks": ""
            },
            "colorscale": [
             [
              0,
              "#0d0887"
             ],
             [
              0.1111111111111111,
              "#46039f"
             ],
             [
              0.2222222222222222,
              "#7201a8"
             ],
             [
              0.3333333333333333,
              "#9c179e"
             ],
             [
              0.4444444444444444,
              "#bd3786"
             ],
             [
              0.5555555555555556,
              "#d8576b"
             ],
             [
              0.6666666666666666,
              "#ed7953"
             ],
             [
              0.7777777777777778,
              "#fb9f3a"
             ],
             [
              0.8888888888888888,
              "#fdca26"
             ],
             [
              1,
              "#f0f921"
             ]
            ],
            "type": "heatmapgl"
           }
          ],
          "histogram": [
           {
            "marker": {
             "pattern": {
              "fillmode": "overlay",
              "size": 10,
              "solidity": 0.2
             }
            },
            "type": "histogram"
           }
          ],
          "histogram2d": [
           {
            "colorbar": {
             "outlinewidth": 0,
             "ticks": ""
            },
            "colorscale": [
             [
              0,
              "#0d0887"
             ],
             [
              0.1111111111111111,
              "#46039f"
             ],
             [
              0.2222222222222222,
              "#7201a8"
             ],
             [
              0.3333333333333333,
              "#9c179e"
             ],
             [
              0.4444444444444444,
              "#bd3786"
             ],
             [
              0.5555555555555556,
              "#d8576b"
             ],
             [
              0.6666666666666666,
              "#ed7953"
             ],
             [
              0.7777777777777778,
              "#fb9f3a"
             ],
             [
              0.8888888888888888,
              "#fdca26"
             ],
             [
              1,
              "#f0f921"
             ]
            ],
            "type": "histogram2d"
           }
          ],
          "histogram2dcontour": [
           {
            "colorbar": {
             "outlinewidth": 0,
             "ticks": ""
            },
            "colorscale": [
             [
              0,
              "#0d0887"
             ],
             [
              0.1111111111111111,
              "#46039f"
             ],
             [
              0.2222222222222222,
              "#7201a8"
             ],
             [
              0.3333333333333333,
              "#9c179e"
             ],
             [
              0.4444444444444444,
              "#bd3786"
             ],
             [
              0.5555555555555556,
              "#d8576b"
             ],
             [
              0.6666666666666666,
              "#ed7953"
             ],
             [
              0.7777777777777778,
              "#fb9f3a"
             ],
             [
              0.8888888888888888,
              "#fdca26"
             ],
             [
              1,
              "#f0f921"
             ]
            ],
            "type": "histogram2dcontour"
           }
          ],
          "mesh3d": [
           {
            "colorbar": {
             "outlinewidth": 0,
             "ticks": ""
            },
            "type": "mesh3d"
           }
          ],
          "parcoords": [
           {
            "line": {
             "colorbar": {
              "outlinewidth": 0,
              "ticks": ""
             }
            },
            "type": "parcoords"
           }
          ],
          "pie": [
           {
            "automargin": true,
            "type": "pie"
           }
          ],
          "scatter": [
           {
            "fillpattern": {
             "fillmode": "overlay",
             "size": 10,
             "solidity": 0.2
            },
            "type": "scatter"
           }
          ],
          "scatter3d": [
           {
            "line": {
             "colorbar": {
              "outlinewidth": 0,
              "ticks": ""
             }
            },
            "marker": {
             "colorbar": {
              "outlinewidth": 0,
              "ticks": ""
             }
            },
            "type": "scatter3d"
           }
          ],
          "scattercarpet": [
           {
            "marker": {
             "colorbar": {
              "outlinewidth": 0,
              "ticks": ""
             }
            },
            "type": "scattercarpet"
           }
          ],
          "scattergeo": [
           {
            "marker": {
             "colorbar": {
              "outlinewidth": 0,
              "ticks": ""
             }
            },
            "type": "scattergeo"
           }
          ],
          "scattergl": [
           {
            "marker": {
             "colorbar": {
              "outlinewidth": 0,
              "ticks": ""
             }
            },
            "type": "scattergl"
           }
          ],
          "scattermapbox": [
           {
            "marker": {
             "colorbar": {
              "outlinewidth": 0,
              "ticks": ""
             }
            },
            "type": "scattermapbox"
           }
          ],
          "scatterpolar": [
           {
            "marker": {
             "colorbar": {
              "outlinewidth": 0,
              "ticks": ""
             }
            },
            "type": "scatterpolar"
           }
          ],
          "scatterpolargl": [
           {
            "marker": {
             "colorbar": {
              "outlinewidth": 0,
              "ticks": ""
             }
            },
            "type": "scatterpolargl"
           }
          ],
          "scatterternary": [
           {
            "marker": {
             "colorbar": {
              "outlinewidth": 0,
              "ticks": ""
             }
            },
            "type": "scatterternary"
           }
          ],
          "surface": [
           {
            "colorbar": {
             "outlinewidth": 0,
             "ticks": ""
            },
            "colorscale": [
             [
              0,
              "#0d0887"
             ],
             [
              0.1111111111111111,
              "#46039f"
             ],
             [
              0.2222222222222222,
              "#7201a8"
             ],
             [
              0.3333333333333333,
              "#9c179e"
             ],
             [
              0.4444444444444444,
              "#bd3786"
             ],
             [
              0.5555555555555556,
              "#d8576b"
             ],
             [
              0.6666666666666666,
              "#ed7953"
             ],
             [
              0.7777777777777778,
              "#fb9f3a"
             ],
             [
              0.8888888888888888,
              "#fdca26"
             ],
             [
              1,
              "#f0f921"
             ]
            ],
            "type": "surface"
           }
          ],
          "table": [
           {
            "cells": {
             "fill": {
              "color": "#EBF0F8"
             },
             "line": {
              "color": "white"
             }
            },
            "header": {
             "fill": {
              "color": "#C8D4E3"
             },
             "line": {
              "color": "white"
             }
            },
            "type": "table"
           }
          ]
         },
         "layout": {
          "annotationdefaults": {
           "arrowcolor": "#2a3f5f",
           "arrowhead": 0,
           "arrowwidth": 1
          },
          "autotypenumbers": "strict",
          "coloraxis": {
           "colorbar": {
            "outlinewidth": 0,
            "ticks": ""
           }
          },
          "colorscale": {
           "diverging": [
            [
             0,
             "#8e0152"
            ],
            [
             0.1,
             "#c51b7d"
            ],
            [
             0.2,
             "#de77ae"
            ],
            [
             0.3,
             "#f1b6da"
            ],
            [
             0.4,
             "#fde0ef"
            ],
            [
             0.5,
             "#f7f7f7"
            ],
            [
             0.6,
             "#e6f5d0"
            ],
            [
             0.7,
             "#b8e186"
            ],
            [
             0.8,
             "#7fbc41"
            ],
            [
             0.9,
             "#4d9221"
            ],
            [
             1,
             "#276419"
            ]
           ],
           "sequential": [
            [
             0,
             "#0d0887"
            ],
            [
             0.1111111111111111,
             "#46039f"
            ],
            [
             0.2222222222222222,
             "#7201a8"
            ],
            [
             0.3333333333333333,
             "#9c179e"
            ],
            [
             0.4444444444444444,
             "#bd3786"
            ],
            [
             0.5555555555555556,
             "#d8576b"
            ],
            [
             0.6666666666666666,
             "#ed7953"
            ],
            [
             0.7777777777777778,
             "#fb9f3a"
            ],
            [
             0.8888888888888888,
             "#fdca26"
            ],
            [
             1,
             "#f0f921"
            ]
           ],
           "sequentialminus": [
            [
             0,
             "#0d0887"
            ],
            [
             0.1111111111111111,
             "#46039f"
            ],
            [
             0.2222222222222222,
             "#7201a8"
            ],
            [
             0.3333333333333333,
             "#9c179e"
            ],
            [
             0.4444444444444444,
             "#bd3786"
            ],
            [
             0.5555555555555556,
             "#d8576b"
            ],
            [
             0.6666666666666666,
             "#ed7953"
            ],
            [
             0.7777777777777778,
             "#fb9f3a"
            ],
            [
             0.8888888888888888,
             "#fdca26"
            ],
            [
             1,
             "#f0f921"
            ]
           ]
          },
          "colorway": [
           "#636efa",
           "#EF553B",
           "#00cc96",
           "#ab63fa",
           "#FFA15A",
           "#19d3f3",
           "#FF6692",
           "#B6E880",
           "#FF97FF",
           "#FECB52"
          ],
          "font": {
           "color": "#2a3f5f"
          },
          "geo": {
           "bgcolor": "white",
           "lakecolor": "white",
           "landcolor": "#E5ECF6",
           "showlakes": true,
           "showland": true,
           "subunitcolor": "white"
          },
          "hoverlabel": {
           "align": "left"
          },
          "hovermode": "closest",
          "mapbox": {
           "style": "light"
          },
          "paper_bgcolor": "white",
          "plot_bgcolor": "#E5ECF6",
          "polar": {
           "angularaxis": {
            "gridcolor": "white",
            "linecolor": "white",
            "ticks": ""
           },
           "bgcolor": "#E5ECF6",
           "radialaxis": {
            "gridcolor": "white",
            "linecolor": "white",
            "ticks": ""
           }
          },
          "scene": {
           "xaxis": {
            "backgroundcolor": "#E5ECF6",
            "gridcolor": "white",
            "gridwidth": 2,
            "linecolor": "white",
            "showbackground": true,
            "ticks": "",
            "zerolinecolor": "white"
           },
           "yaxis": {
            "backgroundcolor": "#E5ECF6",
            "gridcolor": "white",
            "gridwidth": 2,
            "linecolor": "white",
            "showbackground": true,
            "ticks": "",
            "zerolinecolor": "white"
           },
           "zaxis": {
            "backgroundcolor": "#E5ECF6",
            "gridcolor": "white",
            "gridwidth": 2,
            "linecolor": "white",
            "showbackground": true,
            "ticks": "",
            "zerolinecolor": "white"
           }
          },
          "shapedefaults": {
           "line": {
            "color": "#2a3f5f"
           }
          },
          "ternary": {
           "aaxis": {
            "gridcolor": "white",
            "linecolor": "white",
            "ticks": ""
           },
           "baxis": {
            "gridcolor": "white",
            "linecolor": "white",
            "ticks": ""
           },
           "bgcolor": "#E5ECF6",
           "caxis": {
            "gridcolor": "white",
            "linecolor": "white",
            "ticks": ""
           }
          },
          "title": {
           "x": 0.05
          },
          "xaxis": {
           "automargin": true,
           "gridcolor": "white",
           "linecolor": "white",
           "ticks": "",
           "title": {
            "standoff": 15
           },
           "zerolinecolor": "white",
           "zerolinewidth": 2
          },
          "yaxis": {
           "automargin": true,
           "gridcolor": "white",
           "linecolor": "white",
           "ticks": "",
           "title": {
            "standoff": 15
           },
           "zerolinecolor": "white",
           "zerolinewidth": 2
          }
         }
        },
        "width": 900,
        "xaxis": {
         "anchor": "y",
         "domain": [
          0,
          0.98
         ],
         "dtick": 1,
         "range": [
          1979,
          2022
         ],
         "title": {
          "text": ""
         }
        },
        "xaxis2": {
         "anchor": "y2",
         "domain": [
          0,
          0.98
         ],
         "dtick": 1,
         "matches": "x",
         "showticklabels": false
        },
        "xaxis3": {
         "anchor": "y3",
         "domain": [
          0,
          0.98
         ],
         "dtick": 1,
         "matches": "x",
         "showticklabels": false
        },
        "yaxis": {
         "anchor": "x",
         "domain": [
          0,
          0.32666666666666666
         ],
         "title": {
          "text": "Yield (mt/ha)"
         }
        },
        "yaxis2": {
         "anchor": "x2",
         "domain": [
          0.33666666666666667,
          0.6633333333333333
         ],
         "title": {
          "text": "Area (ha)"
         }
        },
        "yaxis3": {
         "anchor": "x3",
         "domain": [
          0.6733333333333333,
          1
         ],
         "title": {
          "text": "Production (mt)"
         }
        }
       }
      }
     },
     "metadata": {},
     "output_type": "display_data"
    }
   ],
   "source": [
    "# Lineplot of Production-Area-Yield time-series\n",
    "country_iso, country_name = 'ZA', 'South Africa'\n",
    "df = pd.read_csv('../data/crop/adm_crop_production_%s.csv' % country_iso, index_col=0)\n",
    "df['year'] = df['harvest_year']\n",
    "year = [df['year'].min(), df['year'].max()]\n",
    "product_season = [\n",
    "    ['Maize (White)','Summer'],\n",
    "    ['Maize (Yellow)','Summer'],\n",
    "    ['Wheat','Winter'],\n",
    "]\n",
    "for product_name, season_name in product_season:\n",
    "    footnote = 'Production-Area-Yield time-series of %s - %s - %s' % (country_iso, product_name, season_name)\n",
    "    fn_save = '../figures/%s_line_pay_%s_%s.png' % (country_iso, product_name, season_name)\n",
    "    sub = df[(df['product'] == product_name) & (df['season_name'] == season_name)]\n",
    "    fig = PlotLinePAY(sub, year, footnote)#, fn_save)\n",
    "    fig.show()"
   ]
  },
  {
   "cell_type": "code",
   "execution_count": null,
   "id": "608dc537",
   "metadata": {},
   "outputs": [],
   "source": []
  }
 ],
 "metadata": {
  "kernelspec": {
   "display_name": "Python 3 (ipykernel)",
   "language": "python",
   "name": "python3"
  },
  "language_info": {
   "codemirror_mode": {
    "name": "ipython",
    "version": 3
   },
   "file_extension": ".py",
   "mimetype": "text/x-python",
   "name": "python",
   "nbconvert_exporter": "python",
   "pygments_lexer": "ipython3",
   "version": "3.10.10"
  }
 },
 "nbformat": 4,
 "nbformat_minor": 5
}
