{
 "cells": [
  {
   "cell_type": "markdown",
   "id": "5a54535d-4fd0-4290-a987-d6baff7aa821",
   "metadata": {},
   "source": [
    "# HarvestStat Data Profiling - Mozambique"
   ]
  },
  {
   "cell_type": "code",
   "execution_count": 1,
   "id": "423b4763-5783-4282-ba84-d8ae8ba04fb5",
   "metadata": {},
   "outputs": [],
   "source": [
    "import glob, json\n",
    "import warnings\n",
    "warnings.simplefilter(action='ignore', category=FutureWarning)\n",
    "import requests\n",
    "import numpy as np\n",
    "import pandas as pd\n",
    "import geopandas as gpd\n",
    "from tools import save_npz, PrintAdminUnits, PlotAdminShapes\n",
    "from tools import FDW_PD_Sweeper, FDW_PD_AvalTable, FDW_PD_Compiling, FDW_PD_ValidateFnidName\n",
    "from tools import FDW_PD_CreateAdminLink, FDW_PD_RatioAdminLink, FDW_PD_ConnectAdminLink\n",
    "from tools import FDW_PD_CaliSeasonYear\n",
    "from tools_graphic import PlotBarProduction, PlotLinePAY\n",
    "warnings.simplefilter(action='ignore', category=pd.errors.PerformanceWarning)\n",
    "pd.options.mode.chained_assignment = None"
   ]
  },
  {
   "cell_type": "code",
   "execution_count": 2,
   "id": "1546e288-588d-4af4-be71-c096579f7737",
   "metadata": {},
   "outputs": [
    {
     "name": "stdout",
     "output_type": "stream",
     "text": [
      "- FEWS NET admin shapefiles ------------------- #\n",
      "| year\t | Admin1   | # units   | Admin2   | # units   | Admin3   | # units   |\n",
      "| 1990\t | MZ1990A1 | 11\t| MZ1990A2\t| 142\t| nan\t| 0\t|\n",
      "| 2013\t | MZ2013A1 | 11\t| MZ2013A2\t| 154\t| nan\t| 0\t|\n",
      "| 2016\t | MZ2016A1 | 11\t| MZ2016A2\t| 157\t| nan\t| 0\t|\n",
      "| 2021\t | MZ2021A1 | 11\t| MZ2021A2\t| 160\t| nan\t| 0\t|\n",
      "----------------------------------------------- #\n",
      "                  status collection_status data_usage_policy  count\n",
      "0              Collected         Published     FEWS NET Only   2534\n",
      "1              Collected         Published            Public   9369\n",
      "2  Missing Historic Data         Published     FEWS NET Only      4\n",
      "3  Missing Historic Data         Published            Public    417\n",
      "4                No Data           No Data     FEWS NET Only      4\n",
      "5          Not Available         Published     FEWS NET Only     57\n",
      "6          Not Available         Published            Public   1880\n",
      "7          Not Collected         Published     FEWS NET Only   2945\n",
      "8          Not Collected         Published            Public   7198\n"
     ]
    }
   ],
   "source": [
    "# Load FEWS NET administrative boundaries ------- #\n",
    "epsg = 'EPSG:32736' # Mozambique\n",
    "fn_shapes = sorted(glob.glob('../data/shapefile/fewsnet/MZ_Admin?_????.shp'))\n",
    "shape_all = []\n",
    "for fn in fn_shapes:\n",
    "    name = fn[-18:-4]\n",
    "    exec('%s = gpd.read_file(\"%s\").to_crs(\"%s\")' % (name, fn, epsg))\n",
    "    exec('%s[\"area\"] = %s[\"geometry\"].area/10**6' % (name, name))\n",
    "    exec('shape_all.append(%s)' % (name))\n",
    "shape_all = pd.concat(shape_all, axis=0).reset_index(drop=True)\n",
    "PrintAdminUnits(shape_all)\n",
    "# ----------------------------------------------- #\n",
    "\n",
    "# FDW API host address -------------------------- #\n",
    "host = 'https://fdw.fews.net'\n",
    "auth = tuple(json.loads(open('token.json', \"r\").read()))\n",
    "parameters = {\n",
    "    'format': 'json',\n",
    "    'country': 'Mozambique',\n",
    "    'product': ['R011','R012','R013','R014','R015','R016','R017','R018','R019'],\n",
    "    'survey_type': 'crop:best',\n",
    "    'data_usage_policy':'Public'\n",
    "}\n",
    "endpoint = '/api/cropproductionindicatorvalue/'\n",
    "response = requests.get(host + endpoint, auth=auth, params=parameters, proxies={})\n",
    "response.raise_for_status()\n",
    "df = pd.DataFrame.from_records(response.json())\n",
    "print(df.groupby(['status','collection_status','data_usage_policy']).size().reset_index(name='count'))\n",
    "# ----------------------------------------------- #"
   ]
  },
  {
   "cell_type": "code",
   "execution_count": 3,
   "id": "429f5cf7",
   "metadata": {},
   "outputs": [
    {
     "name": "stdout",
     "output_type": "stream",
     "text": [
      "- Remove missing records ---------------------- #\n",
      "Orignial data points: 9,369\n",
      "2,618/2,618 \"Yield\" points are retained.\n",
      "3,302/3,302 \"Quantity Produced\" points are retained.\n",
      "3,449/3,449 \"Area Planted\" points are retained.\n",
      "Current data points: 9,369\n",
      "\n",
      "- Minor changes are applied ------------------- #\n",
      "\n",
      "- Basic information --------------------------- #\n",
      "Data period: 1999 - 2022\n",
      "57 grain types are found: Bambara groundnut, Banana (unspecified), Beans (Lima), Beans (Rosecoco), Beans (mixed), Beet, Cabbage (Unspecified), Capsicum frutescens,unspecified, Carrots, Cashew (unshelled), Cassava, Chili pepper (Unspecified), Cotton (Unspecified), Cowpea (unspecified), Cucumber, Eggplant, Garlic (fresh), Ginger, Green bean (fresh), Groundnuts (In Shell), Groundnuts (In Shell, Large), Groundnuts (In Shell, Small), Jute, Kale, Lettuce (Unspecified), Macadamia (unspecified), Maize Grain (White), Millet, Mung bean (unspecified), Okras (Fresh), Onions, Other root/tuber vegetable (unspecified), Paprika (unspecified), Pea (unspecified), Pepper (Piper spp.), Pigeon pea (Unspecified), Potato (Irish), Potato (unspecified), Rice (Paddy), Sesame Seed, Sisal, Sorghum, Soybean (unspecified), Spanish peanut (in shell), Squash (Pumpkin, Zucchini), Sugarcane (for sugar), Sunflower Seed, Sweet Potatoes, Sweet Potatoes (Non-Orange), Sweet Potatoes (Orange), Tea leaves (Mixed), Tobacco (unspecified), Tomato, Virginia peanut (in shell), Watermelon, Wheat Grain, Yams\n",
      "5 seasons are found: Main (04-01), Annual (04-01), Rice season (05-01), Cotton season (08-01), Winter harvest (09-01)\n",
      "1 crop production system are found: All (PS)\n",
      "Data sources include:\n",
      "[1] Ministério da Agricultura e Segurança Alimentar (MASA), Mozambique --- FEWS Agro_Maps, Mozambique\n",
      "[2] Ministério da Agricultura e Segurança Alimentar (MASA), Mozambique --- Anuário de Estatísticas Agrárias, Mozambique\n",
      "[3] Ministério da Agricultura e Segurança Alimentar (MASA), Mozambique --- MASA/FAO study, Mozambique\n",
      "[4] Ministério da Agricultura e Segurança Alimentar (MASA), Mozambique --- Inquérito Agrário Integrado, Mozambique\n",
      "[5] Instituto Nacional de Estatística (INE), Mozambique --- Censo Agro-Pecuário, Mozambique\n",
      "[6] Instituto Nacional de Estatística (INE), Mozambique --- Indicadores Básicos de Agricultura e Alimentação, Mozambique\n",
      "Administrative-1 fnids: 42\n",
      "Administrative-2 fnids: 0\n",
      "0 reporting units are found: \n",
      "\n",
      "- Total production over time ------------------ #\n",
      "season_name                              Annual Cotton season   Main  \\\n",
      "                                                                       \n",
      "Bambara groundnut                          0.0%          0.0%   0.0%   \n",
      "Banana (unspecified)                       0.0%          0.0%   0.0%   \n",
      "Beans (Lima)                               0.0%          0.0%   0.1%   \n",
      "Beans (Rosecoco)                           0.0%          0.0%   0.1%   \n",
      "Beans (mixed)                              0.0%          0.0%   0.3%   \n",
      "Cashew (unshelled)                         3.1%          0.0%   0.0%   \n",
      "Cassava                                   14.3%          0.0%   0.0%   \n",
      "Chili pepper (Unspecified)                 0.0%          0.0%   0.0%   \n",
      "Cotton (Unspecified)                       0.0%          0.1%   0.0%   \n",
      "Cowpea (unspecified)                       0.0%          0.0%   0.2%   \n",
      "Ginger                                     0.0%          0.0%   0.0%   \n",
      "Green bean (fresh)                         0.0%          0.0%   0.1%   \n",
      "Groundnuts (In Shell)                      0.0%          0.0%   0.2%   \n",
      "Groundnuts (In Shell, Large)               0.0%          0.0%   0.0%   \n",
      "Groundnuts (In Shell, Small)               0.0%          0.0%   0.0%   \n",
      "Jute                                       0.0%          0.0%   0.0%   \n",
      "Macadamia (unspecified)                    0.0%          0.0%   0.0%   \n",
      "Maize Grain (White)                        0.0%          0.0%   2.7%   \n",
      "Millet                                     0.0%          0.0%   0.0%   \n",
      "Mung bean (unspecified)                    0.0%          0.0%   0.0%   \n",
      "Other root/tuber vegetable (unspecified)   2.5%          0.0%   0.0%   \n",
      "Paprika (unspecified)                      0.0%          0.0%   0.0%   \n",
      "Pepper (Piper spp.)                        0.0%          0.0%   0.0%   \n",
      "Pigeon pea (Unspecified)                   0.0%          0.0%   0.2%   \n",
      "Rice (Paddy)                               0.0%          0.0%   0.0%   \n",
      "Sesame Seed                                0.0%          0.0%   0.1%   \n",
      "Sorghum                                    0.0%          0.0%   0.6%   \n",
      "Soybean (unspecified)                      0.0%          0.0%   0.0%   \n",
      "Spanish peanut (in shell)                  0.0%          0.0%   0.1%   \n",
      "Sugarcane (for sugar)                      0.2%          0.0%   0.0%   \n",
      "Sunflower Seed                             0.0%          0.0%   0.0%   \n",
      "Sweet Potatoes                             0.0%          0.0%  74.2%   \n",
      "Sweet Potatoes (Non-Orange)                0.0%          0.0%   0.4%   \n",
      "Sweet Potatoes (Orange)                    0.0%          0.0%   0.1%   \n",
      "Tea leaves (Mixed)                         0.0%          0.0%   0.0%   \n",
      "Tobacco (unspecified)                      0.0%          0.0%   0.1%   \n",
      "Virginia peanut (in shell)                 0.0%          0.0%   0.0%   \n",
      "Wheat Grain                                0.0%          0.0%   0.0%   \n",
      "\n",
      "season_name                              Rice season  \n",
      "                                                      \n",
      "Bambara groundnut                               0.0%  \n",
      "Banana (unspecified)                            0.0%  \n",
      "Beans (Lima)                                    0.0%  \n",
      "Beans (Rosecoco)                                0.0%  \n",
      "Beans (mixed)                                   0.0%  \n",
      "Cashew (unshelled)                              0.0%  \n",
      "Cassava                                         0.0%  \n",
      "Chili pepper (Unspecified)                      0.0%  \n",
      "Cotton (Unspecified)                            0.0%  \n",
      "Cowpea (unspecified)                            0.0%  \n",
      "Ginger                                          0.0%  \n",
      "Green bean (fresh)                              0.0%  \n",
      "Groundnuts (In Shell)                           0.0%  \n",
      "Groundnuts (In Shell, Large)                    0.0%  \n",
      "Groundnuts (In Shell, Small)                    0.0%  \n",
      "Jute                                            0.0%  \n",
      "Macadamia (unspecified)                         0.0%  \n",
      "Maize Grain (White)                             0.0%  \n",
      "Millet                                          0.0%  \n",
      "Mung bean (unspecified)                         0.0%  \n",
      "Other root/tuber vegetable (unspecified)        0.0%  \n",
      "Paprika (unspecified)                           0.0%  \n",
      "Pepper (Piper spp.)                             0.0%  \n",
      "Pigeon pea (Unspecified)                        0.0%  \n",
      "Rice (Paddy)                                    0.3%  \n",
      "Sesame Seed                                     0.0%  \n",
      "Sorghum                                         0.0%  \n",
      "Soybean (unspecified)                           0.0%  \n",
      "Spanish peanut (in shell)                       0.0%  \n",
      "Sugarcane (for sugar)                           0.0%  \n",
      "Sunflower Seed                                  0.0%  \n",
      "Sweet Potatoes                                  0.0%  \n",
      "Sweet Potatoes (Non-Orange)                     0.0%  \n",
      "Sweet Potatoes (Orange)                         0.0%  \n",
      "Tea leaves (Mixed)                              0.0%  \n",
      "Tobacco (unspecified)                           0.0%  \n",
      "Virginia peanut (in shell)                      0.0%  \n",
      "Wheat Grain                                     0.0%  \n",
      "\n",
      "- Crop calendar ------------------------------- #\n",
      "                                     product     season_name planting_month  \\\n",
      "0                          Bambara groundnut            Main          04-01   \n",
      "1                       Banana (unspecified)     Rice season          05-01   \n",
      "2                               Beans (Lima)            Main          04-01   \n",
      "3                           Beans (Rosecoco)            Main          04-01   \n",
      "4                              Beans (mixed)            Main          04-01   \n",
      "5                                       Beet            Main          04-01   \n",
      "6                      Cabbage (Unspecified)            Main          04-01   \n",
      "7            Capsicum frutescens,unspecified            Main          04-01   \n",
      "8                                    Carrots            Main          04-01   \n",
      "9                         Cashew (unshelled)          Annual          04-01   \n",
      "10                                   Cassava          Annual          04-01   \n",
      "11                Chili pepper (Unspecified)            Main          04-01   \n",
      "12                      Cotton (Unspecified)   Cotton season          08-01   \n",
      "13                      Cowpea (unspecified)            Main          04-01   \n",
      "14                                  Cucumber            Main          04-01   \n",
      "15                                  Eggplant            Main          04-01   \n",
      "16                            Garlic (fresh)            Main          04-01   \n",
      "17                                    Ginger            Main          04-01   \n",
      "18                        Green bean (fresh)            Main          04-01   \n",
      "19                     Groundnuts (In Shell)            Main          04-01   \n",
      "20              Groundnuts (In Shell, Large)            Main          04-01   \n",
      "21              Groundnuts (In Shell, Small)            Main          04-01   \n",
      "22                                      Jute          Annual          04-01   \n",
      "23                                      Kale            Main          04-01   \n",
      "24                     Lettuce (Unspecified)            Main          04-01   \n",
      "25                   Macadamia (unspecified)          Annual          04-01   \n",
      "26                       Maize Grain (White)            Main          04-01   \n",
      "27                                    Millet            Main          04-01   \n",
      "28                   Mung bean (unspecified)            Main          04-01   \n",
      "29                             Okras (Fresh)            Main          04-01   \n",
      "30                                    Onions            Main          04-01   \n",
      "31  Other root/tuber vegetable (unspecified)          Annual          04-01   \n",
      "32                     Paprika (unspecified)            Main          04-01   \n",
      "33                         Pea (unspecified)            Main          04-01   \n",
      "34                       Pepper (Piper spp.)            Main          04-01   \n",
      "35                  Pigeon pea (Unspecified)            Main          04-01   \n",
      "36                            Potato (Irish)            Main          04-01   \n",
      "37                      Potato (unspecified)            Main          04-01   \n",
      "38                              Rice (Paddy)     Rice season          05-01   \n",
      "39                               Sesame Seed            Main          04-01   \n",
      "40                                     Sisal            Main          04-01   \n",
      "41                                   Sorghum            Main          04-01   \n",
      "42                     Soybean (unspecified)            Main          04-01   \n",
      "43                 Spanish peanut (in shell)            Main          04-01   \n",
      "44                Squash (Pumpkin, Zucchini)            Main          04-01   \n",
      "45                     Sugarcane (for sugar)            Main          04-01   \n",
      "46                     Sugarcane (for sugar)          Annual          04-01   \n",
      "47                            Sunflower Seed            Main          04-01   \n",
      "48                            Sweet Potatoes            Main          04-01   \n",
      "49               Sweet Potatoes (Non-Orange)            Main          04-01   \n",
      "50                   Sweet Potatoes (Orange)            Main          04-01   \n",
      "51                        Tea leaves (Mixed)          Annual          04-01   \n",
      "52                        Tea leaves (Mixed)            Main          04-01   \n",
      "53                     Tobacco (unspecified)            Main          04-01   \n",
      "54                                    Tomato            Main          04-01   \n",
      "55                Virginia peanut (in shell)            Main          04-01   \n",
      "56                                Watermelon            Main          04-01   \n",
      "57                               Wheat Grain            Main          04-01   \n",
      "58                               Wheat Grain  Winter harvest          09-01   \n",
      "59                                      Yams            Main          04-01   \n",
      "\n",
      "   harvest_month  \n",
      "0          04-01  \n",
      "1          05-01  \n",
      "2          04-01  \n",
      "3          04-01  \n",
      "4          04-01  \n",
      "5          04-01  \n",
      "6          04-01  \n",
      "7          04-01  \n",
      "8          04-01  \n",
      "9          04-01  \n",
      "10         04-01  \n",
      "11         04-01  \n",
      "12         08-01  \n",
      "13         04-01  \n",
      "14         04-01  \n",
      "15         04-01  \n",
      "16         04-01  \n",
      "17         04-01  \n",
      "18         04-01  \n",
      "19         04-01  \n",
      "20         04-01  \n",
      "21         04-01  \n",
      "22         04-01  \n",
      "23         04-01  \n",
      "24         04-01  \n",
      "25         04-01  \n",
      "26         04-01  \n",
      "27         04-01  \n",
      "28         04-01  \n",
      "29         04-01  \n",
      "30         04-01  \n",
      "31         04-01  \n",
      "32         04-01  \n",
      "33         04-01  \n",
      "34         04-01  \n",
      "35         04-01  \n",
      "36         04-01  \n",
      "37         04-01  \n",
      "38         05-01  \n",
      "39         04-01  \n",
      "40         04-01  \n",
      "41         04-01  \n",
      "42         04-01  \n",
      "43         04-01  \n",
      "44         04-01  \n",
      "45         04-01  \n",
      "46         04-01  \n",
      "47         04-01  \n",
      "48         04-01  \n",
      "49         04-01  \n",
      "50         04-01  \n",
      "51         04-01  \n",
      "52         04-01  \n",
      "53         04-01  \n",
      "54         04-01  \n",
      "55         04-01  \n",
      "56         04-01  \n",
      "57         04-01  \n",
      "58         09-01  \n",
      "59         04-01  \n",
      "\n",
      "- Recorded years per season ------------------- #\n",
      "Main: 24 years (1999-2022) (missing: 0 years)\n",
      "Annual: 24 years (1999-2022) (missing: 1 years)\n",
      "Rice season: 24 years (1999-2022) (missing: 5 years)\n",
      "Cotton season: 22 years (1999-2020) (missing: 4 years)\n",
      "Winter harvest: 1 years (2015-2015) (missing: 0 years)\n",
      "\n",
      "- Number of \"Quantity Produced\" data points --- #\n",
      "MZ1990A1: 1,757 data points are found.\n",
      "MZ2013A1: 302 data points are found.\n",
      "MZ2016A1: 925 data points are found.\n",
      "MZ2021A1: 318 data points are found.\n",
      "\n",
      "- Districts with population group(s) ---------- #\n",
      "0 districts includes 'population_group'.\n",
      "\n",
      "Table of available data\n",
      "----------------------------------------------- #\n",
      "Crop type: Bambara groundnut\n",
      "----------------------------------------------- #\n",
      "season_name                Main                     \n",
      "crop_production_system All (PS)                     \n",
      "fnid_short               1990A1 2013A1 2016A1 2021A1\n",
      "year                                                \n",
      "2002                      11/11    NaN    NaN    NaN\n",
      "2003                      11/11    NaN    NaN    NaN\n",
      "2004                        NaN    NaN    NaN    NaN\n",
      "2005                      11/11    NaN    NaN    NaN\n",
      "2006                      11/11    NaN    NaN    NaN\n",
      "2007                      10/11    NaN    NaN    NaN\n",
      "2008                      10/11    NaN    NaN    NaN\n",
      "2009                        NaN    NaN    NaN    NaN\n",
      "2010                      11/11    NaN    NaN    NaN\n",
      "2011                        NaN    NaN    NaN    NaN\n",
      "2012                      10/11    NaN    NaN    NaN\n",
      "2013                        NaN    NaN    NaN    NaN\n",
      "2014                        NaN  10/11    NaN    NaN\n",
      "2015                        NaN  10/11    NaN    NaN\n",
      "2016                        NaN    NaN  10/11    NaN\n",
      "2017                        NaN    NaN  10/11    NaN\n",
      "2018                        NaN    NaN  10/11    NaN\n",
      "2019                        NaN    NaN  10/11    NaN\n",
      "2020                        NaN    NaN  10/11    NaN\n",
      "2021                        NaN    NaN    NaN  10/11\n",
      "2022                        NaN    NaN    NaN  10/11\n",
      "----------------------------------------------- #\n",
      "Crop type: Banana (unspecified)\n",
      "----------------------------------------------- #\n",
      "season_name            Rice season\n",
      "crop_production_system    All (PS)\n",
      "fnid_short                  2016A1\n",
      "year                              \n",
      "2020                          3/11\n",
      "----------------------------------------------- #\n",
      "Crop type: Beans (Lima)\n",
      "----------------------------------------------- #\n",
      "season_name                Main       \n",
      "crop_production_system All (PS)       \n",
      "fnid_short               1990A1 2013A1\n",
      "year                                  \n",
      "2002                      11/11    NaN\n",
      "2003                      11/11    NaN\n",
      "2004                        NaN    NaN\n",
      "2005                      11/11    NaN\n",
      "2006                      10/11    NaN\n",
      "2007                      10/11    NaN\n",
      "2008                      10/11    NaN\n",
      "2009                        NaN    NaN\n",
      "2010                      11/11    NaN\n",
      "2011                        NaN    NaN\n",
      "2012                      10/11    NaN\n",
      "2013                        NaN    NaN\n",
      "2014                        NaN   9/11\n",
      "----------------------------------------------- #\n",
      "Crop type: Beans (Rosecoco)\n",
      "----------------------------------------------- #\n",
      "season_name                Main                     \n",
      "crop_production_system All (PS)                     \n",
      "fnid_short               1990A1 2013A1 2016A1 2021A1\n",
      "year                                                \n",
      "2010                      11/11    NaN    NaN    NaN\n",
      "2011                        NaN    NaN    NaN    NaN\n",
      "2012                      10/11    NaN    NaN    NaN\n",
      "2013                        NaN    NaN    NaN    NaN\n",
      "2014                        NaN   9/11    NaN    NaN\n",
      "2015                        NaN   6/11    NaN    NaN\n",
      "2016                        NaN    NaN  10/11    NaN\n",
      "2017                        NaN    NaN  10/11    NaN\n",
      "2018                        NaN    NaN  10/11    NaN\n",
      "2019                        NaN    NaN  10/11    NaN\n",
      "2020                        NaN    NaN  10/11    NaN\n",
      "2021                        NaN    NaN    NaN  10/11\n",
      "2022                        NaN    NaN    NaN  10/11\n",
      "----------------------------------------------- #\n",
      "Crop type: Beans (mixed)\n",
      "----------------------------------------------- #\n",
      "season_name                Main              \n",
      "crop_production_system All (PS)              \n",
      "fnid_short               1990A1 2013A1 2016A1\n",
      "year                                         \n",
      "1999                       7/11    NaN    NaN\n",
      "2000                      10/11    NaN    NaN\n",
      "2001                      10/11    NaN    NaN\n",
      "2002                      10/11    NaN    NaN\n",
      "2003                      10/11    NaN    NaN\n",
      "2004                      10/11    NaN    NaN\n",
      "2005                      10/11    NaN    NaN\n",
      "2006                      10/11    NaN    NaN\n",
      "2007                      10/11    NaN    NaN\n",
      "2008                      10/11    NaN    NaN\n",
      "2009                      10/11    NaN    NaN\n",
      "2010                      10/11    NaN    NaN\n",
      "2011                      10/11    NaN    NaN\n",
      "2012                        NaN    NaN    NaN\n",
      "2013                        NaN    NaN    NaN\n",
      "2014                        NaN    NaN    NaN\n",
      "2015                        NaN  10/11    NaN\n",
      "2016                        NaN    NaN    NaN\n",
      "2017                        NaN    NaN    NaN\n",
      "2018                        NaN    NaN  10/11\n",
      "----------------------------------------------- #\n",
      "Crop type: Beet\n",
      "----------------------------------------------- #\n",
      "season_name                Main       \n",
      "crop_production_system All (PS)       \n",
      "fnid_short               1990A1 2013A1\n",
      "year                                  \n",
      "2010                       2/11    NaN\n",
      "2011                        NaN    NaN\n",
      "2012                        NaN    NaN\n",
      "2013                        NaN    NaN\n",
      "2014                        NaN    NaN\n",
      "2015                        NaN   2/11\n",
      "----------------------------------------------- #\n",
      "Crop type: Cabbage (Unspecified)\n",
      "----------------------------------------------- #\n",
      "season_name                Main       \n",
      "crop_production_system All (PS)       \n",
      "fnid_short               1990A1 2013A1\n",
      "year                                  \n",
      "2010                      11/11    NaN\n",
      "2011                        NaN    NaN\n",
      "2012                        NaN    NaN\n",
      "2013                        NaN    NaN\n",
      "2014                        NaN    NaN\n",
      "2015                        NaN   9/11\n",
      "----------------------------------------------- #\n",
      "Crop type: Capsicum frutescens,unspecified\n",
      "----------------------------------------------- #\n",
      "season_name                Main       \n",
      "crop_production_system All (PS)       \n",
      "fnid_short               1990A1 2013A1\n",
      "year                                  \n",
      "2010                       8/11    NaN\n",
      "2011                        NaN    NaN\n",
      "2012                        NaN    NaN\n",
      "2013                        NaN    NaN\n",
      "2014                        NaN    NaN\n",
      "2015                        NaN   5/11\n",
      "----------------------------------------------- #\n",
      "Crop type: Carrots\n",
      "----------------------------------------------- #\n",
      "season_name                Main       \n",
      "crop_production_system All (PS)       \n",
      "fnid_short               1990A1 2013A1\n",
      "year                                  \n",
      "2000                       4/11    NaN\n",
      "2001                        NaN    NaN\n",
      "2002                        NaN    NaN\n",
      "2003                        NaN    NaN\n",
      "2004                        NaN    NaN\n",
      "2005                        NaN    NaN\n",
      "2006                        NaN    NaN\n",
      "2007                        NaN    NaN\n",
      "2008                        NaN    NaN\n",
      "2009                        NaN    NaN\n",
      "2010                      11/11    NaN\n",
      "2011                        NaN    NaN\n",
      "2012                        NaN    NaN\n",
      "2013                        NaN    NaN\n",
      "2014                        NaN    NaN\n",
      "2015                        NaN   6/11\n",
      "----------------------------------------------- #\n",
      "Crop type: Cashew (unshelled)\n",
      "----------------------------------------------- #\n",
      "season_name              Annual              \n",
      "crop_production_system All (PS)              \n",
      "fnid_short               2013A1 2016A1 2021A1\n",
      "year                                         \n",
      "2015                       8/11    NaN    NaN\n",
      "2016                        NaN   8/11    NaN\n",
      "2017                        NaN   8/11    NaN\n",
      "2018                        NaN   9/11    NaN\n",
      "2019                        NaN   9/11    NaN\n",
      "2020                        NaN   9/11    NaN\n",
      "2021                        NaN    NaN   9/11\n",
      "2022                        NaN    NaN   9/11\n",
      "----------------------------------------------- #\n",
      "Crop type: Cassava\n",
      "----------------------------------------------- #\n",
      "season_name              Annual                     \n",
      "crop_production_system All (PS)                     \n",
      "fnid_short               1990A1 2013A1 2016A1 2021A1\n",
      "year                                                \n",
      "1999                       5/11    NaN    NaN    NaN\n",
      "2000                      10/11    NaN    NaN    NaN\n",
      "2001                      10/11    NaN    NaN    NaN\n",
      "2002                      11/11    NaN    NaN    NaN\n",
      "2003                      10/11    NaN    NaN    NaN\n",
      "2004                      10/11    NaN    NaN    NaN\n",
      "2005                      11/11    NaN    NaN    NaN\n",
      "2006                      11/11    NaN    NaN    NaN\n",
      "2007                      10/11    NaN    NaN    NaN\n",
      "2008                      10/11    NaN    NaN    NaN\n",
      "2009                      10/11    NaN    NaN    NaN\n",
      "2010                      11/11    NaN    NaN    NaN\n",
      "2011                      10/11    NaN    NaN    NaN\n",
      "2012                      10/11    NaN    NaN    NaN\n",
      "2013                        NaN    NaN    NaN    NaN\n",
      "2014                        NaN  10/11    NaN    NaN\n",
      "2015                        NaN  10/11    NaN    NaN\n",
      "2016                        NaN    NaN  10/11    NaN\n",
      "2017                        NaN    NaN  10/11    NaN\n",
      "2018                        NaN    NaN  10/11    NaN\n",
      "2019                        NaN    NaN  10/11    NaN\n",
      "2020                        NaN    NaN  10/11    NaN\n",
      "2021                        NaN    NaN    NaN  10/11\n",
      "2022                        NaN    NaN    NaN  10/11\n",
      "----------------------------------------------- #\n",
      "Crop type: Chili pepper (Unspecified)\n",
      "----------------------------------------------- #\n",
      "season_name                Main       \n",
      "crop_production_system All (PS)       \n",
      "fnid_short               1990A1 2013A1\n",
      "year                                  \n",
      "2010                       2/11    NaN\n",
      "2011                        NaN    NaN\n",
      "2012                        NaN    NaN\n",
      "2013                        NaN    NaN\n",
      "2014                        NaN    NaN\n",
      "2015                        NaN   2/11\n",
      "----------------------------------------------- #\n",
      "Crop type: Cotton (Unspecified)\n",
      "----------------------------------------------- #\n",
      "season_name            Cotton season              \n",
      "crop_production_system      All (PS)              \n",
      "fnid_short                    1990A1 2013A1 2016A1\n",
      "year                                              \n",
      "1999                            6/11    NaN    NaN\n",
      "2000                           10/11    NaN    NaN\n",
      "2001                             NaN    NaN    NaN\n",
      "2002                            8/11    NaN    NaN\n",
      "2003                            9/11    NaN    NaN\n",
      "2004                             NaN    NaN    NaN\n",
      "2005                            8/11    NaN    NaN\n",
      "2006                            8/11    NaN    NaN\n",
      "2007                            9/11    NaN    NaN\n",
      "2008                            8/11    NaN    NaN\n",
      "2009                             NaN    NaN    NaN\n",
      "2010                            9/11    NaN    NaN\n",
      "2011                             NaN    NaN    NaN\n",
      "2012                            9/11    NaN    NaN\n",
      "2013                             NaN   9/11    NaN\n",
      "2014                             NaN   9/11    NaN\n",
      "2015                             NaN   5/11    NaN\n",
      "2016                             NaN    NaN   9/11\n",
      "2017                             NaN    NaN   9/11\n",
      "2018                             NaN    NaN   9/11\n",
      "2019                             NaN    NaN   9/11\n",
      "2020                             NaN    NaN   8/11\n",
      "----------------------------------------------- #\n",
      "Crop type: Cowpea (unspecified)\n",
      "----------------------------------------------- #\n",
      "season_name                Main                     \n",
      "crop_production_system All (PS)                     \n",
      "fnid_short               1990A1 2013A1 2016A1 2021A1\n",
      "year                                                \n",
      "2002                      11/11    NaN    NaN    NaN\n",
      "2003                      11/11    NaN    NaN    NaN\n",
      "2004                        NaN    NaN    NaN    NaN\n",
      "2005                      11/11    NaN    NaN    NaN\n",
      "2006                      11/11    NaN    NaN    NaN\n",
      "2007                      10/11    NaN    NaN    NaN\n",
      "2008                      10/11    NaN    NaN    NaN\n",
      "2009                        NaN    NaN    NaN    NaN\n",
      "2010                      11/11    NaN    NaN    NaN\n",
      "2011                        NaN    NaN    NaN    NaN\n",
      "2012                      10/11    NaN    NaN    NaN\n",
      "2013                        NaN    NaN    NaN    NaN\n",
      "2014                        NaN  10/11    NaN    NaN\n",
      "2015                        NaN  10/11    NaN    NaN\n",
      "2016                        NaN    NaN  10/11    NaN\n",
      "2017                        NaN    NaN  10/11    NaN\n",
      "2018                        NaN    NaN  10/11    NaN\n",
      "2019                        NaN    NaN  10/11    NaN\n",
      "2020                        NaN    NaN  10/11    NaN\n",
      "2021                        NaN    NaN    NaN  10/11\n",
      "2022                        NaN    NaN    NaN  10/11\n",
      "----------------------------------------------- #\n",
      "Crop type: Cucumber\n",
      "----------------------------------------------- #\n",
      "season_name                Main       \n",
      "crop_production_system All (PS)       \n",
      "fnid_short               1990A1 2013A1\n",
      "year                                  \n",
      "2000                       8/11    NaN\n",
      "2001                        NaN    NaN\n",
      "2002                        NaN    NaN\n",
      "2003                        NaN    NaN\n",
      "2004                        NaN    NaN\n",
      "2005                        NaN    NaN\n",
      "2006                        NaN    NaN\n",
      "2007                        NaN    NaN\n",
      "2008                        NaN    NaN\n",
      "2009                        NaN    NaN\n",
      "2010                      11/11    NaN\n",
      "2011                        NaN    NaN\n",
      "2012                        NaN    NaN\n",
      "2013                        NaN    NaN\n",
      "2014                        NaN    NaN\n",
      "2015                        NaN  10/11\n",
      "----------------------------------------------- #\n",
      "Crop type: Eggplant\n",
      "----------------------------------------------- #\n",
      "season_name                Main       \n",
      "crop_production_system All (PS)       \n",
      "fnid_short               1990A1 2013A1\n",
      "year                                  \n",
      "2010                      11/11    NaN\n",
      "2011                        NaN    NaN\n",
      "2012                        NaN    NaN\n",
      "2013                        NaN    NaN\n",
      "2014                        NaN    NaN\n",
      "2015                        NaN   6/11\n",
      "----------------------------------------------- #\n",
      "Crop type: Garlic (fresh)\n",
      "----------------------------------------------- #\n",
      "season_name                Main       \n",
      "crop_production_system All (PS)       \n",
      "fnid_short               1990A1 2013A1\n",
      "year                                  \n",
      "2000                       6/11    NaN\n",
      "2001                        NaN    NaN\n",
      "2002                        NaN    NaN\n",
      "2003                        NaN    NaN\n",
      "2004                        NaN    NaN\n",
      "2005                        NaN    NaN\n",
      "2006                        NaN    NaN\n",
      "2007                        NaN    NaN\n",
      "2008                        NaN    NaN\n",
      "2009                        NaN    NaN\n",
      "2010                      11/11    NaN\n",
      "2011                        NaN    NaN\n",
      "2012                        NaN    NaN\n",
      "2013                        NaN    NaN\n",
      "2014                        NaN    NaN\n",
      "2015                        NaN   6/11\n",
      "----------------------------------------------- #\n",
      "Crop type: Ginger\n",
      "----------------------------------------------- #\n",
      "season_name                Main       \n",
      "crop_production_system All (PS)       \n",
      "fnid_short               1990A1 2013A1\n",
      "year                                  \n",
      "2000                       6/11    NaN\n",
      "2001                        NaN    NaN\n",
      "2002                       2/11    NaN\n",
      "2003                        NaN    NaN\n",
      "2004                        NaN    NaN\n",
      "2005                       2/11    NaN\n",
      "2006                        NaN    NaN\n",
      "2007                        NaN    NaN\n",
      "2008                       1/11    NaN\n",
      "2009                        NaN    NaN\n",
      "2010                       6/11    NaN\n",
      "2011                        NaN    NaN\n",
      "2012                        NaN    NaN\n",
      "2013                        NaN    NaN\n",
      "2014                        NaN   1/11\n",
      "2015                        NaN   1/11\n",
      "----------------------------------------------- #\n",
      "Crop type: Green bean (fresh)\n",
      "----------------------------------------------- #\n",
      "season_name                Main              \n",
      "crop_production_system All (PS)              \n",
      "fnid_short               1990A1 2013A1 2016A1\n",
      "year                                         \n",
      "2002                      10/11    NaN    NaN\n",
      "2003                      10/11    NaN    NaN\n",
      "2004                        NaN    NaN    NaN\n",
      "2005                      10/11    NaN    NaN\n",
      "2006                      10/11    NaN    NaN\n",
      "2007                      10/11    NaN    NaN\n",
      "2008                      10/11    NaN    NaN\n",
      "2009                        NaN    NaN    NaN\n",
      "2010                      11/11    NaN    NaN\n",
      "2011                        NaN    NaN    NaN\n",
      "2012                        NaN    NaN    NaN\n",
      "2013                        NaN    NaN    NaN\n",
      "2014                        NaN    NaN    NaN\n",
      "2015                        NaN   6/11    NaN\n",
      "2016                        NaN    NaN    NaN\n",
      "2017                        NaN    NaN    NaN\n",
      "2018                        NaN    NaN    NaN\n",
      "2019                        NaN    NaN    NaN\n",
      "2020                        NaN    NaN   7/11\n",
      "----------------------------------------------- #\n",
      "Crop type: Groundnuts (In Shell)\n",
      "----------------------------------------------- #\n",
      "season_name                Main       \n",
      "crop_production_system All (PS)       \n",
      "fnid_short               1990A1 2016A1\n",
      "year                                  \n",
      "1999                       7/11    NaN\n",
      "2000                      10/11    NaN\n",
      "2001                      10/11    NaN\n",
      "2002                      10/11    NaN\n",
      "2003                      10/11    NaN\n",
      "2004                      10/11    NaN\n",
      "2005                      10/11    NaN\n",
      "2006                      10/11    NaN\n",
      "2007                      10/11    NaN\n",
      "2008                      10/11    NaN\n",
      "2009                      10/11    NaN\n",
      "2010                      11/11    NaN\n",
      "2011                      10/11    NaN\n",
      "2012                        NaN    NaN\n",
      "2013                        NaN    NaN\n",
      "2014                        NaN    NaN\n",
      "2015                        NaN    NaN\n",
      "2016                        NaN    NaN\n",
      "2017                        NaN    NaN\n",
      "2018                        NaN  10/11\n",
      "----------------------------------------------- #\n",
      "Crop type: Groundnuts (In Shell, Large)\n",
      "----------------------------------------------- #\n",
      "season_name                Main\n",
      "crop_production_system All (PS)\n",
      "fnid_short               1990A1\n",
      "year                           \n",
      "2002                      10/11\n",
      "2003                      10/11\n",
      "2004                        NaN\n",
      "2005                      10/11\n",
      "2006                      10/11\n",
      "----------------------------------------------- #\n",
      "Crop type: Groundnuts (In Shell, Small)\n",
      "----------------------------------------------- #\n",
      "season_name                Main\n",
      "crop_production_system All (PS)\n",
      "fnid_short               1990A1\n",
      "year                           \n",
      "2002                      10/11\n",
      "2003                        NaN\n",
      "2004                        NaN\n",
      "2005                      10/11\n",
      "2006                      10/11\n",
      "----------------------------------------------- #\n",
      "Crop type: Jute\n",
      "----------------------------------------------- #\n",
      "season_name              Annual              \n",
      "crop_production_system All (PS)              \n",
      "fnid_short               1990A1 2013A1 2016A1\n",
      "year                                         \n",
      "2010                       2/11    NaN    NaN\n",
      "2011                        NaN    NaN    NaN\n",
      "2012                        NaN    NaN    NaN\n",
      "2013                        NaN    NaN    NaN\n",
      "2014                        NaN    NaN    NaN\n",
      "2015                        NaN   1/11    NaN\n",
      "2016                        NaN    NaN    NaN\n",
      "2017                        NaN    NaN    NaN\n",
      "2018                        NaN    NaN    NaN\n",
      "2019                        NaN    NaN    NaN\n",
      "2020                        NaN    NaN   1/11\n",
      "----------------------------------------------- #\n",
      "Crop type: Kale\n",
      "----------------------------------------------- #\n",
      "season_name                Main       \n",
      "crop_production_system All (PS)       \n",
      "fnid_short               1990A1 2013A1\n",
      "year                                  \n",
      "2000                       8/11    NaN\n",
      "2001                        NaN    NaN\n",
      "2002                        NaN    NaN\n",
      "2003                        NaN    NaN\n",
      "2004                        NaN    NaN\n",
      "2005                        NaN    NaN\n",
      "2006                        NaN    NaN\n",
      "2007                        NaN    NaN\n",
      "2008                        NaN    NaN\n",
      "2009                        NaN    NaN\n",
      "2010                      10/11    NaN\n",
      "2011                        NaN    NaN\n",
      "2012                        NaN    NaN\n",
      "2013                        NaN    NaN\n",
      "2014                        NaN    NaN\n",
      "2015                        NaN   9/11\n",
      "----------------------------------------------- #\n",
      "Crop type: Lettuce (Unspecified)\n",
      "----------------------------------------------- #\n",
      "season_name                Main       \n",
      "crop_production_system All (PS)       \n",
      "fnid_short               1990A1 2013A1\n",
      "year                                  \n",
      "2000                       6/11    NaN\n",
      "2001                        NaN    NaN\n",
      "2002                        NaN    NaN\n",
      "2003                        NaN    NaN\n",
      "2004                        NaN    NaN\n",
      "2005                        NaN    NaN\n",
      "2006                        NaN    NaN\n",
      "2007                        NaN    NaN\n",
      "2008                        NaN    NaN\n",
      "2009                        NaN    NaN\n",
      "2010                      11/11    NaN\n",
      "2011                        NaN    NaN\n",
      "2012                        NaN    NaN\n",
      "2013                        NaN    NaN\n",
      "2014                        NaN    NaN\n",
      "2015                        NaN  10/11\n",
      "----------------------------------------------- #\n",
      "Crop type: Macadamia (unspecified)\n",
      "----------------------------------------------- #\n",
      "season_name              Annual\n",
      "crop_production_system All (PS)\n",
      "fnid_short               2016A1\n",
      "year                           \n",
      "2020                       4/11\n",
      "----------------------------------------------- #\n",
      "Crop type: Maize Grain (White)\n",
      "----------------------------------------------- #\n",
      "season_name                Main                     \n",
      "crop_production_system All (PS)                     \n",
      "fnid_short               1990A1 2013A1 2016A1 2021A1\n",
      "year                                                \n",
      "1999                       6/11    NaN    NaN    NaN\n",
      "2000                      10/11    NaN    NaN    NaN\n",
      "2001                      10/11    NaN    NaN    NaN\n",
      "2002                      11/11    NaN    NaN    NaN\n",
      "2003                      11/11    NaN    NaN    NaN\n",
      "2004                      10/11    NaN    NaN    NaN\n",
      "2005                      11/11    NaN    NaN    NaN\n",
      "2006                      11/11    NaN    NaN    NaN\n",
      "2007                      10/11    NaN    NaN    NaN\n",
      "2008                      10/11    NaN    NaN    NaN\n",
      "2009                      10/11    NaN    NaN    NaN\n",
      "2010                       8/11    NaN    NaN    NaN\n",
      "2011                      10/11    NaN    NaN    NaN\n",
      "2012                      10/11    NaN    NaN    NaN\n",
      "2013                        NaN    NaN    NaN    NaN\n",
      "2014                        NaN  10/11    NaN    NaN\n",
      "2015                        NaN   4/11    NaN    NaN\n",
      "2016                        NaN    NaN  10/11    NaN\n",
      "2017                        NaN    NaN   9/11    NaN\n",
      "2018                        NaN    NaN  10/11    NaN\n",
      "2019                        NaN    NaN  10/11    NaN\n",
      "2020                        NaN    NaN  10/11    NaN\n",
      "2021                        NaN    NaN    NaN  10/11\n",
      "2022                        NaN    NaN    NaN  10/11\n",
      "----------------------------------------------- #\n",
      "Crop type: Millet\n",
      "----------------------------------------------- #\n",
      "season_name                Main                     \n",
      "crop_production_system All (PS)                     \n",
      "fnid_short               1990A1 2013A1 2016A1 2021A1\n",
      "year                                                \n",
      "2000                       9/11    NaN    NaN    NaN\n",
      "2001                        NaN    NaN    NaN    NaN\n",
      "2002                      11/11    NaN    NaN    NaN\n",
      "2003                       9/11    NaN    NaN    NaN\n",
      "2004                        NaN    NaN    NaN    NaN\n",
      "2005                       9/11    NaN    NaN    NaN\n",
      "2006                      11/11    NaN    NaN    NaN\n",
      "2007                       9/11    NaN    NaN    NaN\n",
      "2008                       9/11    NaN    NaN    NaN\n",
      "2009                        NaN    NaN    NaN    NaN\n",
      "2010                      10/11    NaN    NaN    NaN\n",
      "2011                        NaN    NaN    NaN    NaN\n",
      "2012                      10/11    NaN    NaN    NaN\n",
      "2013                        NaN    NaN    NaN    NaN\n",
      "2014                        NaN  10/11    NaN    NaN\n",
      "2015                        NaN   6/11    NaN    NaN\n",
      "2016                        NaN    NaN  10/11    NaN\n",
      "2017                        NaN    NaN  10/11    NaN\n",
      "2018                        NaN    NaN  10/11    NaN\n",
      "2019                        NaN    NaN  10/11    NaN\n",
      "2020                        NaN    NaN  10/11    NaN\n",
      "2021                        NaN    NaN    NaN  10/11\n",
      "2022                        NaN    NaN    NaN  10/11\n",
      "----------------------------------------------- #\n",
      "Crop type: Mung bean (unspecified)\n",
      "----------------------------------------------- #\n",
      "season_name                Main       \n",
      "crop_production_system All (PS)       \n",
      "fnid_short               2013A1 2016A1\n",
      "year                                  \n",
      "2015                       7/11    NaN\n",
      "2016                        NaN    NaN\n",
      "2017                        NaN    NaN\n",
      "2018                        NaN    NaN\n",
      "2019                        NaN    NaN\n",
      "2020                        NaN   7/11\n",
      "----------------------------------------------- #\n",
      "Crop type: Okras (Fresh)\n",
      "----------------------------------------------- #\n",
      "season_name                Main       \n",
      "crop_production_system All (PS)       \n",
      "fnid_short               1990A1 2013A1\n",
      "year                                  \n",
      "2010                      11/11    NaN\n",
      "2011                        NaN    NaN\n",
      "2012                        NaN    NaN\n",
      "2013                        NaN    NaN\n",
      "2014                        NaN    NaN\n",
      "2015                        NaN   9/11\n",
      "----------------------------------------------- #\n",
      "Crop type: Onions\n",
      "----------------------------------------------- #\n",
      "season_name                Main       \n",
      "crop_production_system All (PS)       \n",
      "fnid_short               1990A1 2013A1\n",
      "year                                  \n",
      "2000                       9/11    NaN\n",
      "2001                        NaN    NaN\n",
      "2002                        NaN    NaN\n",
      "2003                        NaN    NaN\n",
      "2004                        NaN    NaN\n",
      "2005                        NaN    NaN\n",
      "2006                        NaN    NaN\n",
      "2007                        NaN    NaN\n",
      "2008                        NaN    NaN\n",
      "2009                        NaN    NaN\n",
      "2010                      11/11    NaN\n",
      "2011                        NaN    NaN\n",
      "2012                        NaN    NaN\n",
      "2013                        NaN    NaN\n",
      "2014                        NaN    NaN\n",
      "2015                        NaN  10/11\n",
      "----------------------------------------------- #\n",
      "Crop type: Other root/tuber vegetable (unspecified)\n",
      "----------------------------------------------- #\n",
      "season_name              Annual       \n",
      "crop_production_system All (PS)       \n",
      "fnid_short               2013A1 2016A1\n",
      "year                                  \n",
      "2015                      10/11    NaN\n",
      "2016                        NaN  10/11\n",
      "2017                        NaN  10/11\n",
      "2018                        NaN  10/11\n",
      "2019                        NaN  10/11\n",
      "----------------------------------------------- #\n",
      "Crop type: Paprika (unspecified)\n",
      "----------------------------------------------- #\n",
      "season_name                Main\n",
      "crop_production_system All (PS)\n",
      "fnid_short               1990A1\n",
      "year                           \n",
      "2002                       2/11\n",
      "2003                       1/11\n",
      "2004                        NaN\n",
      "2005                       4/11\n",
      "2006                       2/11\n",
      "2007                        NaN\n",
      "2008                       1/11\n",
      "----------------------------------------------- #\n",
      "Crop type: Pea (unspecified)\n",
      "----------------------------------------------- #\n",
      "season_name                Main       \n",
      "crop_production_system All (PS)       \n",
      "fnid_short               1990A1 2013A1\n",
      "year                                  \n",
      "2000                       6/11    NaN\n",
      "2001                        NaN    NaN\n",
      "2002                        NaN    NaN\n",
      "2003                        NaN    NaN\n",
      "2004                        NaN    NaN\n",
      "2005                        NaN    NaN\n",
      "2006                        NaN    NaN\n",
      "2007                        NaN    NaN\n",
      "2008                        NaN    NaN\n",
      "2009                        NaN    NaN\n",
      "2010                       8/11    NaN\n",
      "2011                        NaN    NaN\n",
      "2012                        NaN    NaN\n",
      "2013                        NaN    NaN\n",
      "2014                        NaN    NaN\n",
      "2015                        NaN   5/11\n",
      "----------------------------------------------- #\n",
      "Crop type: Pepper (Piper spp.)\n",
      "----------------------------------------------- #\n",
      "season_name                Main       \n",
      "crop_production_system All (PS)       \n",
      "fnid_short               1990A1 2013A1\n",
      "year                                  \n",
      "2000                       8/11    NaN\n",
      "2001                        NaN    NaN\n",
      "2002                       2/11    NaN\n",
      "2003                       1/11    NaN\n",
      "2004                        NaN    NaN\n",
      "2005                       4/11    NaN\n",
      "2006                       3/11    NaN\n",
      "2007                       1/11    NaN\n",
      "2008                       2/11    NaN\n",
      "2009                        NaN    NaN\n",
      "2010                      11/11    NaN\n",
      "2011                        NaN    NaN\n",
      "2012                        NaN    NaN\n",
      "2013                        NaN    NaN\n",
      "2014                        NaN    NaN\n",
      "2015                        NaN   8/11\n",
      "----------------------------------------------- #\n",
      "Crop type: Pigeon pea (Unspecified)\n",
      "----------------------------------------------- #\n",
      "season_name                Main                     \n",
      "crop_production_system All (PS)                     \n",
      "fnid_short               1990A1 2013A1 2016A1 2021A1\n",
      "year                                                \n",
      "2002                      11/11    NaN    NaN    NaN\n",
      "2003                      11/11    NaN    NaN    NaN\n",
      "2004                        NaN    NaN    NaN    NaN\n",
      "2005                      11/11    NaN    NaN    NaN\n",
      "2006                      11/11    NaN    NaN    NaN\n",
      "2007                      10/11    NaN    NaN    NaN\n",
      "2008                      10/11    NaN    NaN    NaN\n",
      "2009                        NaN    NaN    NaN    NaN\n",
      "2010                      11/11    NaN    NaN    NaN\n",
      "2011                        NaN    NaN    NaN    NaN\n",
      "2012                      10/11    NaN    NaN    NaN\n",
      "2013                        NaN    NaN    NaN    NaN\n",
      "2014                        NaN  10/11    NaN    NaN\n",
      "2015                        NaN  10/11    NaN    NaN\n",
      "2016                        NaN    NaN  10/11    NaN\n",
      "2017                        NaN    NaN  10/11    NaN\n",
      "2018                        NaN    NaN  10/11    NaN\n",
      "2019                        NaN    NaN  10/11    NaN\n",
      "2020                        NaN    NaN  10/11    NaN\n",
      "2021                        NaN    NaN    NaN  10/11\n",
      "2022                        NaN    NaN    NaN  10/11\n",
      "----------------------------------------------- #\n",
      "Crop type: Potato (Irish)\n",
      "----------------------------------------------- #\n",
      "season_name                Main       \n",
      "crop_production_system All (PS)       \n",
      "fnid_short               1990A1 2013A1\n",
      "year                                  \n",
      "2012                       4/11    NaN\n",
      "2013                        NaN    NaN\n",
      "2014                        NaN   6/11\n",
      "----------------------------------------------- #\n",
      "Crop type: Potato (unspecified)\n",
      "----------------------------------------------- #\n",
      "season_name                Main              \n",
      "crop_production_system All (PS)              \n",
      "fnid_short               1990A1 2013A1 2016A1\n",
      "year                                         \n",
      "2010                      10/11    NaN    NaN\n",
      "2011                        NaN    NaN    NaN\n",
      "2012                       4/11    NaN    NaN\n",
      "2013                        NaN    NaN    NaN\n",
      "2014                        NaN   6/11    NaN\n",
      "2015                        NaN   7/11    NaN\n",
      "2016                        NaN    NaN    NaN\n",
      "2017                        NaN    NaN    NaN\n",
      "2018                        NaN    NaN    NaN\n",
      "2019                        NaN    NaN    NaN\n",
      "2020                        NaN    NaN  10/11\n",
      "----------------------------------------------- #\n",
      "Crop type: Rice (Paddy)\n",
      "----------------------------------------------- #\n",
      "season_name            Rice season                     \n",
      "crop_production_system    All (PS)                     \n",
      "fnid_short                  1990A1 2013A1 2016A1 2021A1\n",
      "year                                                   \n",
      "1999                          9/11    NaN    NaN    NaN\n",
      "2000                         10/11    NaN    NaN    NaN\n",
      "2001                           NaN    NaN    NaN    NaN\n",
      "2002                         11/11    NaN    NaN    NaN\n",
      "2003                         11/11    NaN    NaN    NaN\n",
      "2004                           NaN    NaN    NaN    NaN\n",
      "2005                         11/11    NaN    NaN    NaN\n",
      "2006                         11/11    NaN    NaN    NaN\n",
      "2007                         10/11    NaN    NaN    NaN\n",
      "2008                         10/11    NaN    NaN    NaN\n",
      "2009                           NaN    NaN    NaN    NaN\n",
      "2010                         11/11    NaN    NaN    NaN\n",
      "2011                           NaN    NaN    NaN    NaN\n",
      "2012                         10/11    NaN    NaN    NaN\n",
      "2013                           NaN    NaN    NaN    NaN\n",
      "2014                           NaN  10/11    NaN    NaN\n",
      "2015                           NaN   2/11    NaN    NaN\n",
      "2016                           NaN    NaN  10/11    NaN\n",
      "2017                           NaN    NaN   6/11    NaN\n",
      "2018                           NaN    NaN  10/11    NaN\n",
      "2019                           NaN    NaN  10/11    NaN\n",
      "2020                           NaN    NaN   9/11    NaN\n",
      "2021                           NaN    NaN    NaN  10/11\n",
      "2022                           NaN    NaN    NaN  10/11\n",
      "----------------------------------------------- #\n",
      "Crop type: Sesame Seed\n",
      "----------------------------------------------- #\n",
      "season_name                Main                     \n",
      "crop_production_system All (PS)                     \n",
      "fnid_short               1990A1 2013A1 2016A1 2021A1\n",
      "year                                                \n",
      "2000                      10/11    NaN    NaN    NaN\n",
      "2001                        NaN    NaN    NaN    NaN\n",
      "2002                       8/11    NaN    NaN    NaN\n",
      "2003                       7/11    NaN    NaN    NaN\n",
      "2004                        NaN    NaN    NaN    NaN\n",
      "2005                       9/11    NaN    NaN    NaN\n",
      "2006                       9/11    NaN    NaN    NaN\n",
      "2007                       8/11    NaN    NaN    NaN\n",
      "2008                       8/11    NaN    NaN    NaN\n",
      "2009                        NaN    NaN    NaN    NaN\n",
      "2010                      11/11    NaN    NaN    NaN\n",
      "2011                        NaN    NaN    NaN    NaN\n",
      "2012                       9/11    NaN    NaN    NaN\n",
      "2013                        NaN    NaN    NaN    NaN\n",
      "2014                        NaN   8/11    NaN    NaN\n",
      "2015                        NaN   5/11    NaN    NaN\n",
      "2016                        NaN    NaN   7/11    NaN\n",
      "2017                        NaN    NaN   7/11    NaN\n",
      "2018                        NaN    NaN   7/11    NaN\n",
      "2019                        NaN    NaN   7/11    NaN\n",
      "2020                        NaN    NaN  10/11    NaN\n",
      "2021                        NaN    NaN    NaN  10/11\n",
      "2022                        NaN    NaN    NaN  10/11\n",
      "----------------------------------------------- #\n",
      "Crop type: Sisal\n",
      "----------------------------------------------- #\n",
      "season_name                Main\n",
      "crop_production_system All (PS)\n",
      "fnid_short               1990A1\n",
      "year                           \n",
      "2000                       1/11\n",
      "2001                        NaN\n",
      "2002                        NaN\n",
      "2003                        NaN\n",
      "2004                        NaN\n",
      "2005                        NaN\n",
      "2006                        NaN\n",
      "2007                        NaN\n",
      "2008                        NaN\n",
      "2009                        NaN\n",
      "2010                       2/11\n",
      "----------------------------------------------- #\n",
      "Crop type: Sorghum\n",
      "----------------------------------------------- #\n",
      "season_name                Main                     \n",
      "crop_production_system All (PS)                     \n",
      "fnid_short               1990A1 2013A1 2016A1 2021A1\n",
      "year                                                \n",
      "1999                       8/11    NaN    NaN    NaN\n",
      "2000                      10/11    NaN    NaN    NaN\n",
      "2001                      10/11    NaN    NaN    NaN\n",
      "2002                      11/11    NaN    NaN    NaN\n",
      "2003                      11/11    NaN    NaN    NaN\n",
      "2004                      10/11    NaN    NaN    NaN\n",
      "2005                       9/11    NaN    NaN    NaN\n",
      "2006                      11/11    NaN    NaN    NaN\n",
      "2007                      10/11    NaN    NaN    NaN\n",
      "2008                      10/11    NaN    NaN    NaN\n",
      "2009                       9/11    NaN    NaN    NaN\n",
      "2010                      11/11    NaN    NaN    NaN\n",
      "2011                       9/11    NaN    NaN    NaN\n",
      "2012                      10/11    NaN    NaN    NaN\n",
      "2013                        NaN    NaN    NaN    NaN\n",
      "2014                        NaN  10/11    NaN    NaN\n",
      "2015                        NaN   3/11    NaN    NaN\n",
      "2016                        NaN    NaN  10/11    NaN\n",
      "2017                        NaN    NaN  10/11    NaN\n",
      "2018                        NaN    NaN  10/11    NaN\n",
      "2019                        NaN    NaN  10/11    NaN\n",
      "2020                        NaN    NaN  10/11    NaN\n",
      "2021                        NaN    NaN    NaN  10/11\n",
      "2022                        NaN    NaN    NaN  10/11\n",
      "----------------------------------------------- #\n",
      "Crop type: Soybean (unspecified)\n",
      "----------------------------------------------- #\n",
      "season_name                Main              \n",
      "crop_production_system All (PS)              \n",
      "fnid_short               1990A1 2013A1 2016A1\n",
      "year                                         \n",
      "2000                       3/11    NaN    NaN\n",
      "2001                        NaN    NaN    NaN\n",
      "2002                       1/11    NaN    NaN\n",
      "2003                        NaN    NaN    NaN\n",
      "2004                        NaN    NaN    NaN\n",
      "2005                       3/11    NaN    NaN\n",
      "2006                       3/11    NaN    NaN\n",
      "2007                       1/11    NaN    NaN\n",
      "2008                       3/11    NaN    NaN\n",
      "2009                        NaN    NaN    NaN\n",
      "2010                       9/11    NaN    NaN\n",
      "2011                        NaN    NaN    NaN\n",
      "2012                        NaN    NaN    NaN\n",
      "2013                        NaN    NaN    NaN\n",
      "2014                        NaN    NaN    NaN\n",
      "2015                        NaN   5/11    NaN\n",
      "2016                        NaN    NaN    NaN\n",
      "2017                        NaN    NaN    NaN\n",
      "2018                        NaN    NaN    NaN\n",
      "2019                        NaN    NaN    NaN\n",
      "2020                        NaN    NaN   3/11\n",
      "----------------------------------------------- #\n",
      "Crop type: Spanish peanut (in shell)\n",
      "----------------------------------------------- #\n",
      "season_name                Main                     \n",
      "crop_production_system All (PS)                     \n",
      "fnid_short               1990A1 2013A1 2016A1 2021A1\n",
      "year                                                \n",
      "2002                      10/11    NaN    NaN    NaN\n",
      "2003                        NaN    NaN    NaN    NaN\n",
      "2004                        NaN    NaN    NaN    NaN\n",
      "2005                      10/11    NaN    NaN    NaN\n",
      "2006                      10/11    NaN    NaN    NaN\n",
      "2007                      10/11    NaN    NaN    NaN\n",
      "2008                      10/11    NaN    NaN    NaN\n",
      "2009                        NaN    NaN    NaN    NaN\n",
      "2010                        NaN    NaN    NaN    NaN\n",
      "2011                        NaN    NaN    NaN    NaN\n",
      "2012                      10/11    NaN    NaN    NaN\n",
      "2013                        NaN    NaN    NaN    NaN\n",
      "2014                        NaN  10/11    NaN    NaN\n",
      "2015                        NaN   3/11    NaN    NaN\n",
      "2016                        NaN    NaN  10/11    NaN\n",
      "2017                        NaN    NaN  10/11    NaN\n",
      "2018                        NaN    NaN  10/11    NaN\n",
      "2019                        NaN    NaN  10/11    NaN\n",
      "2020                        NaN    NaN  10/11    NaN\n",
      "2021                        NaN    NaN    NaN  10/11\n",
      "2022                        NaN    NaN    NaN  10/11\n",
      "----------------------------------------------- #\n",
      "Crop type: Squash (Pumpkin, Zucchini)\n",
      "----------------------------------------------- #\n",
      "season_name                Main       \n",
      "crop_production_system All (PS)       \n",
      "fnid_short               1990A1 2013A1\n",
      "year                                  \n",
      "2010                      10/11    NaN\n",
      "2011                        NaN    NaN\n",
      "2012                        NaN    NaN\n",
      "2013                        NaN    NaN\n",
      "2014                        NaN    NaN\n",
      "2015                        NaN  10/11\n",
      "----------------------------------------------- #\n",
      "Crop type: Sugarcane (for sugar)\n",
      "----------------------------------------------- #\n",
      "season_name              Annual            Main\n",
      "crop_production_system All (PS)        All (PS)\n",
      "fnid_short               2013A1 2016A1   1990A1\n",
      "year                                           \n",
      "1999                        NaN    NaN     1/11\n",
      "2000                        NaN    NaN    10/11\n",
      "2001                        NaN    NaN      NaN\n",
      "2002                        NaN    NaN     9/11\n",
      "2003                        NaN    NaN      NaN\n",
      "2004                        NaN    NaN      NaN\n",
      "2005                        NaN    NaN    10/11\n",
      "2006                        NaN    NaN    10/11\n",
      "2007                        NaN    NaN    10/11\n",
      "2008                        NaN    NaN    10/11\n",
      "2009                        NaN    NaN      NaN\n",
      "2010                        NaN    NaN     6/11\n",
      "2011                        NaN    NaN      NaN\n",
      "2012                        NaN    NaN      NaN\n",
      "2013                        NaN    NaN      NaN\n",
      "2014                        NaN    NaN      NaN\n",
      "2015                       8/11    NaN      NaN\n",
      "2016                        NaN    NaN      NaN\n",
      "2017                        NaN    NaN      NaN\n",
      "2018                        NaN    NaN      NaN\n",
      "2019                        NaN    NaN      NaN\n",
      "2020                        NaN   2/11      NaN\n",
      "----------------------------------------------- #\n",
      "Crop type: Sunflower Seed\n",
      "----------------------------------------------- #\n",
      "season_name                Main                     \n",
      "crop_production_system All (PS)                     \n",
      "fnid_short               1990A1 2013A1 2016A1 2021A1\n",
      "year                                                \n",
      "2000                      10/11    NaN    NaN    NaN\n",
      "2001                        NaN    NaN    NaN    NaN\n",
      "2002                      10/11    NaN    NaN    NaN\n",
      "2003                       8/11    NaN    NaN    NaN\n",
      "2004                        NaN    NaN    NaN    NaN\n",
      "2005                       8/11    NaN    NaN    NaN\n",
      "2006                       7/11    NaN    NaN    NaN\n",
      "2007                       7/11    NaN    NaN    NaN\n",
      "2008                       9/11    NaN    NaN    NaN\n",
      "2009                        NaN    NaN    NaN    NaN\n",
      "2010                      10/11    NaN    NaN    NaN\n",
      "2011                        NaN    NaN    NaN    NaN\n",
      "2012                       1/11    NaN    NaN    NaN\n",
      "2013                        NaN   3/11    NaN    NaN\n",
      "2014                        NaN   4/11    NaN    NaN\n",
      "2015                        NaN   3/11    NaN    NaN\n",
      "2016                        NaN    NaN   4/11    NaN\n",
      "2017                        NaN    NaN   4/11    NaN\n",
      "2018                        NaN    NaN   4/11    NaN\n",
      "2019                        NaN    NaN   4/11    NaN\n",
      "2020                        NaN    NaN   5/11    NaN\n",
      "2021                        NaN    NaN    NaN   5/11\n",
      "2022                        NaN    NaN    NaN   5/11\n",
      "----------------------------------------------- #\n",
      "Crop type: Sweet Potatoes\n",
      "----------------------------------------------- #\n",
      "season_name                Main              \n",
      "crop_production_system All (PS)              \n",
      "fnid_short               1990A1 2013A1 2016A1\n",
      "year                                         \n",
      "2000                      10/11    NaN    NaN\n",
      "2001                        NaN    NaN    NaN\n",
      "2002                      10/11    NaN    NaN\n",
      "2003                        NaN    NaN    NaN\n",
      "2004                        NaN    NaN    NaN\n",
      "2005                      11/11    NaN    NaN\n",
      "2006                      10/11    NaN    NaN\n",
      "2007                      10/11    NaN    NaN\n",
      "2008                      10/11    NaN    NaN\n",
      "2009                        NaN    NaN    NaN\n",
      "2010                      11/11    NaN    NaN\n",
      "2011                        NaN    NaN    NaN\n",
      "2012                        NaN    NaN    NaN\n",
      "2013                        NaN    NaN    NaN\n",
      "2014                        NaN  10/11    NaN\n",
      "2015                        NaN    NaN    NaN\n",
      "2016                        NaN    NaN    NaN\n",
      "2017                        NaN    NaN    NaN\n",
      "2018                        NaN    NaN  10/11\n",
      "----------------------------------------------- #\n",
      "Crop type: Sweet Potatoes (Non-Orange)\n",
      "----------------------------------------------- #\n",
      "season_name                Main                     \n",
      "crop_production_system All (PS)                     \n",
      "fnid_short               1990A1 2013A1 2016A1 2021A1\n",
      "year                                                \n",
      "2005                      10/11    NaN    NaN    NaN\n",
      "2006                      10/11    NaN    NaN    NaN\n",
      "2007                      10/11    NaN    NaN    NaN\n",
      "2008                      10/11    NaN    NaN    NaN\n",
      "2009                        NaN    NaN    NaN    NaN\n",
      "2010                        NaN    NaN    NaN    NaN\n",
      "2011                        NaN    NaN    NaN    NaN\n",
      "2012                      10/11    NaN    NaN    NaN\n",
      "2013                        NaN    NaN    NaN    NaN\n",
      "2014                        NaN  10/11    NaN    NaN\n",
      "2015                        NaN  10/11    NaN    NaN\n",
      "2016                        NaN    NaN  10/11    NaN\n",
      "2017                        NaN    NaN  10/11    NaN\n",
      "2018                        NaN    NaN  10/11    NaN\n",
      "2019                        NaN    NaN  10/11    NaN\n",
      "2020                        NaN    NaN  10/11    NaN\n",
      "2021                        NaN    NaN    NaN  10/11\n",
      "2022                        NaN    NaN    NaN  10/11\n",
      "----------------------------------------------- #\n",
      "Crop type: Sweet Potatoes (Orange)\n",
      "----------------------------------------------- #\n",
      "season_name                Main                     \n",
      "crop_production_system All (PS)                     \n",
      "fnid_short               1990A1 2013A1 2016A1 2021A1\n",
      "year                                                \n",
      "2002                      10/11    NaN    NaN    NaN\n",
      "2003                        NaN    NaN    NaN    NaN\n",
      "2004                        NaN    NaN    NaN    NaN\n",
      "2005                      10/11    NaN    NaN    NaN\n",
      "2006                      10/11    NaN    NaN    NaN\n",
      "2007                      10/11    NaN    NaN    NaN\n",
      "2008                      10/11    NaN    NaN    NaN\n",
      "2009                        NaN    NaN    NaN    NaN\n",
      "2010                        NaN    NaN    NaN    NaN\n",
      "2011                        NaN    NaN    NaN    NaN\n",
      "2012                      10/11    NaN    NaN    NaN\n",
      "2013                        NaN    NaN    NaN    NaN\n",
      "2014                        NaN  10/11    NaN    NaN\n",
      "2015                        NaN  10/11    NaN    NaN\n",
      "2016                        NaN    NaN  10/11    NaN\n",
      "2017                        NaN    NaN  10/11    NaN\n",
      "2018                        NaN    NaN  10/11    NaN\n",
      "2019                        NaN    NaN  10/11    NaN\n",
      "2020                        NaN    NaN  10/11    NaN\n",
      "2021                        NaN    NaN    NaN  10/11\n",
      "2022                        NaN    NaN    NaN  10/11\n",
      "----------------------------------------------- #\n",
      "Crop type: Tea leaves (Mixed)\n",
      "----------------------------------------------- #\n",
      "season_name              Annual            Main\n",
      "crop_production_system All (PS)        All (PS)\n",
      "fnid_short               2013A1 2016A1   1990A1\n",
      "year                                           \n",
      "2000                        NaN    NaN     1/11\n",
      "2001                        NaN    NaN      NaN\n",
      "2002                        NaN    NaN      NaN\n",
      "2003                        NaN    NaN      NaN\n",
      "2004                        NaN    NaN      NaN\n",
      "2005                        NaN    NaN      NaN\n",
      "2006                        NaN    NaN      NaN\n",
      "2007                        NaN    NaN      NaN\n",
      "2008                        NaN    NaN      NaN\n",
      "2009                        NaN    NaN      NaN\n",
      "2010                        NaN    NaN     1/11\n",
      "2011                        NaN    NaN      NaN\n",
      "2012                        NaN    NaN      NaN\n",
      "2013                        NaN    NaN      NaN\n",
      "2014                        NaN    NaN      NaN\n",
      "2015                       1/11    NaN      NaN\n",
      "2016                        NaN    NaN      NaN\n",
      "2017                        NaN    NaN      NaN\n",
      "2018                        NaN    NaN      NaN\n",
      "2019                        NaN    NaN      NaN\n",
      "2020                        NaN   1/11      NaN\n",
      "----------------------------------------------- #\n",
      "Crop type: Tobacco (unspecified)\n",
      "----------------------------------------------- #\n",
      "season_name                Main                     \n",
      "crop_production_system All (PS)                     \n",
      "fnid_short               1990A1 2013A1 2016A1 2021A1\n",
      "year                                                \n",
      "2000                       9/11    NaN    NaN    NaN\n",
      "2001                        NaN    NaN    NaN    NaN\n",
      "2002                      10/11    NaN    NaN    NaN\n",
      "2003                       9/11    NaN    NaN    NaN\n",
      "2004                        NaN    NaN    NaN    NaN\n",
      "2005                      10/11    NaN    NaN    NaN\n",
      "2006                      10/11    NaN    NaN    NaN\n",
      "2007                       9/11    NaN    NaN    NaN\n",
      "2008                       7/11    NaN    NaN    NaN\n",
      "2009                        NaN    NaN    NaN    NaN\n",
      "2010                      10/11    NaN    NaN    NaN\n",
      "2011                        NaN    NaN    NaN    NaN\n",
      "2012                        NaN    NaN    NaN    NaN\n",
      "2013                        NaN    NaN    NaN    NaN\n",
      "2014                        NaN    NaN    NaN    NaN\n",
      "2015                        NaN   9/11    NaN    NaN\n",
      "2016                        NaN    NaN  10/11    NaN\n",
      "2017                        NaN    NaN  10/11    NaN\n",
      "2018                        NaN    NaN  10/11    NaN\n",
      "2019                        NaN    NaN  10/11    NaN\n",
      "2020                        NaN    NaN   5/11    NaN\n",
      "2021                        NaN    NaN    NaN   5/11\n",
      "2022                        NaN    NaN    NaN   5/11\n",
      "----------------------------------------------- #\n",
      "Crop type: Tomato\n",
      "----------------------------------------------- #\n",
      "season_name                Main       \n",
      "crop_production_system All (PS)       \n",
      "fnid_short               1990A1 2013A1\n",
      "year                                  \n",
      "2010                      11/11    NaN\n",
      "2011                        NaN    NaN\n",
      "2012                        NaN    NaN\n",
      "2013                        NaN    NaN\n",
      "2014                        NaN    NaN\n",
      "2015                        NaN  10/11\n",
      "----------------------------------------------- #\n",
      "Crop type: Virginia peanut (in shell)\n",
      "----------------------------------------------- #\n",
      "season_name                Main                     \n",
      "crop_production_system All (PS)                     \n",
      "fnid_short               1990A1 2013A1 2016A1 2021A1\n",
      "year                                                \n",
      "2002                      10/11    NaN    NaN    NaN\n",
      "2003                      10/11    NaN    NaN    NaN\n",
      "2004                        NaN    NaN    NaN    NaN\n",
      "2005                      10/11    NaN    NaN    NaN\n",
      "2006                      10/11    NaN    NaN    NaN\n",
      "2007                      10/11    NaN    NaN    NaN\n",
      "2008                      10/11    NaN    NaN    NaN\n",
      "2009                        NaN    NaN    NaN    NaN\n",
      "2010                        NaN    NaN    NaN    NaN\n",
      "2011                        NaN    NaN    NaN    NaN\n",
      "2012                      10/11    NaN    NaN    NaN\n",
      "2013                        NaN   4/11    NaN    NaN\n",
      "2014                        NaN  10/11    NaN    NaN\n",
      "2015                        NaN   5/11    NaN    NaN\n",
      "2016                        NaN    NaN  10/11    NaN\n",
      "2017                        NaN    NaN  10/11    NaN\n",
      "2018                        NaN    NaN  10/11    NaN\n",
      "2019                        NaN    NaN  10/11    NaN\n",
      "2020                        NaN    NaN  10/11    NaN\n",
      "2021                        NaN    NaN    NaN  10/11\n",
      "2022                        NaN    NaN    NaN  10/11\n",
      "----------------------------------------------- #\n",
      "Crop type: Watermelon\n",
      "----------------------------------------------- #\n",
      "season_name                Main       \n",
      "crop_production_system All (PS)       \n",
      "fnid_short               1990A1 2013A1\n",
      "year                                  \n",
      "2010                      11/11    NaN\n",
      "2011                        NaN    NaN\n",
      "2012                        NaN    NaN\n",
      "2013                        NaN    NaN\n",
      "2014                        NaN    NaN\n",
      "2015                        NaN  10/11\n",
      "----------------------------------------------- #\n",
      "Crop type: Wheat Grain\n",
      "----------------------------------------------- #\n",
      "season_name                Main        Winter harvest\n",
      "crop_production_system All (PS)              All (PS)\n",
      "fnid_short               1990A1 2016A1         2013A1\n",
      "year                                                 \n",
      "2010                       3/11    NaN            NaN\n",
      "2011                        NaN    NaN            NaN\n",
      "2012                        NaN    NaN            NaN\n",
      "2013                        NaN    NaN            NaN\n",
      "2014                        NaN    NaN            NaN\n",
      "2015                        NaN    NaN           1/11\n",
      "2016                        NaN    NaN            NaN\n",
      "2017                        NaN    NaN            NaN\n",
      "2018                        NaN   2/11            NaN\n",
      "----------------------------------------------- #\n",
      "Crop type: Yams\n",
      "----------------------------------------------- #\n",
      "season_name                Main\n",
      "crop_production_system All (PS)\n",
      "fnid_short               1990A1\n",
      "year                           \n",
      "2000                       9/11\n",
      "----------------------------------------------- #\n",
      "../figures/MZ_admin_shapes.png is saved.\n"
     ]
    }
   ],
   "source": [
    "# Manual Pre-processing before Sweeping --------- #\n",
    "# Default setting \n",
    "# a) None-type crop production system\n",
    "df.loc[df['crop_production_system'].isna(), 'crop_production_system'] = 'none'\n",
    "df.loc[df['crop_production_system'] == '', 'crop_production_system'] = 'none'\n",
    "# b) None-type population group\n",
    "df.loc[df['population_group'].isna(), 'population_group'] = 'none'\n",
    "df.loc[df['population_group'] == '', 'population_group'] = 'none'\n",
    "# Change the season name\n",
    "df['season_name'] = df['season_name'].replace({'Main harvest': 'Main'})\n",
    "\n",
    "#Drop the hundreds of blank (nan) rows that are duplicates of rows that do have data\n",
    "df = df[np.isfinite(df.value)]\n",
    "# There are rows that are direct duplicates (same value) \n",
    "# with slightly different source data names for the same source\n",
    "# we will keep the more recent of these entries\n",
    "rows = ['fnid','crop_production_system','season_year', 'product','indicator']\n",
    "df['collection_date'] = pd.to_datetime(df['collection_date'])\n",
    "df = df.sort_values(by=['collection_date']).drop_duplicates(rows, keep='last').reset_index(drop=True)\n",
    "\n",
    "# Drop Sweet Potatoes\n",
    "#df = df[df['product'] != 'Sweet Potatoes']\n",
    "# ----------------------------------------------- #\n",
    "\n",
    "#As a temporary measure, drop production systems that are not \"All\"\n",
    "df = df.loc[~(np.isin(df['crop_production_system'],['Small_and_medium_scale','large_scale']))]\n",
    "\n",
    "#Change Cassava Annual season to Main to create a continuous time series\n",
    "\n",
    "\n",
    "# FDW Production Data Inspection ---------------- #\n",
    "df, df_raw = FDW_PD_Sweeper(df)\n",
    "table_dict = FDW_PD_AvalTable(df, shape_all)\n",
    "# ----------------------------------------------- #\n",
    "\n",
    "# FEWS NET Shapefile comparison ----------------- #\n",
    "# We don't use admin2 data, so drop the admin 2 field because it is only in half the files and is empty\n",
    "shpCols = ['FNID', 'EFF_YEAR', 'COUNTRY', 'ADMIN0', 'ADMIN1', 'ADMIN1FR','ADMIN1SP', 'ADMIN1PT', \n",
    "            'ALIASES', 'geometry', 'area']\n",
    "MZ_Admin1_1990 = MZ_Admin1_1990[shpCols]\n",
    "MZ_Admin1_2013 = MZ_Admin1_2013[shpCols]\n",
    "\n",
    "shape_used = pd.concat([MZ_Admin1_1990,MZ_Admin1_2013,MZ_Admin1_2016,MZ_Admin1_2021], axis=0)\n",
    "PlotAdminShapes(shape_used, label=True)\n",
    "# ----------------------------------------------- #"
   ]
  },
  {
   "cell_type": "markdown",
   "id": "c306101b-6d9e-45d3-af48-3cecb4033e29",
   "metadata": {},
   "source": [
    "\n",
    "- Mozambique crop seasonal calendar\n",
    "\n",
    "![FEWS NET](https://fews.net/sites/default/files/styles/large_width_880/public/2023-03/seasonal-calendar-mozambique.png?itok=hpXyM51B)\n",
    "\n",
    "![USDA](https://ipad.fas.usda.gov/countrysummary/images/MZ/cropcalendar/safrica_mz_calendar.png)\n",
    "\n",
    "- comparison of boundaries\n",
    "\n",
    "![image](../figures/MZ_admin_shapes.png)\n",
    "\n",
    "- In Mozambique, basd on the FEWS NET data, there were two changes in administrative units: 1990, 2013, and 2021\n",
    "- While the admin unit 1 doesn't change between 1990 and 2013, we will still need to map between FNIDs\n",
    "\n",
    "| year\t | Admin1   | # units   | Admin2   | # units   |\n",
    "| :---: | :----:  | :----:   | :----:   | :---:  |\n",
    "| 1990\t | MZ1990A1 | 11\t| MZ1990A2\t| 142\t| \n",
    "| 2013\t | MZ2013A1 | 11\t| MZ2013A2\t| 154\t| \n",
    "| 2016\t | MZ2016A1 | 11\t| MZ2016A2\t| 157\t| \n",
    "| 2021\t | MZ2021A1 | 11\t| MZ2021A2\t| 158\t|\n",
    "\n",
    "- The data is all reported in a single main season\n",
    "- While there is a shapefile for 2021, there is no crop data associated with the 2021 shapefile, so we use 2013 as the most recent shapefile"
   ]
  },
  {
   "cell_type": "code",
   "execution_count": 4,
   "id": "b829c5de-2d2a-497f-aef5-aa7e76b30cdc",
   "metadata": {},
   "outputs": [],
   "source": [
    "# Define the latest shapefile ------------------- #\n",
    "latest_level = 1\n",
    "shape_latest = MZ_Admin1_2021.copy().to_crs('epsg:4326')\n",
    "# ----------------------------------------------- #\n",
    "\n",
    "# Validation of FNIDs and Names ----------------- #\n",
    "df = FDW_PD_ValidateFnidName(df, shape_used, shape_latest)\n",
    "# ----------------------------------------------- #\n",
    "\n",
    "# FDW Production Data Compiling ----------------- #\n",
    "area, prod = FDW_PD_Compiling(df, shape_used)\n",
    "area_all, prod_all = area.copy(), prod.copy()\n",
    "mdx_pss = area.columns.droplevel([0,1]).unique()\n",
    "# ----------------------------------------------- #"
   ]
  },
  {
   "cell_type": "code",
   "execution_count": 5,
   "id": "789cd401-4c6a-4927-ad88-2ffea4be6b15",
   "metadata": {},
   "outputs": [
    {
     "name": "stdout",
     "output_type": "stream",
     "text": [
      "CBR is considered for 'MZ1990A106' as no record found in: ['MZ2021A106']\n",
      "CBR is considered for 'MZ2013A106' as no record found in: ['MZ2021A106']\n",
      "CBR is considered for 'MZ2016A106' as no record found in: ['MZ2021A106']\n"
     ]
    }
   ],
   "source": [
    "# Link admin boundaries ------------------------- #\n",
    "link_1990, over_1990 = FDW_PD_CreateAdminLink(MZ_Admin1_1990, MZ_Admin1_2021, 'ADMIN1', 'ADMIN1', prod, epsg)\n",
    "link_2013, over_2013 = FDW_PD_CreateAdminLink(MZ_Admin1_2013, MZ_Admin1_2021, 'ADMIN1', 'ADMIN1', prod, epsg)\n",
    "link_2016, over_2016 = FDW_PD_CreateAdminLink(MZ_Admin1_2016, MZ_Admin1_2021, 'ADMIN1', 'ADMIN1', prod, epsg)\n",
    "# Crop specific ratios\n",
    "link_ratio_1990 = FDW_PD_RatioAdminLink(link_1990, prod, over_1990, mdx_pss)\n",
    "link_ratio_2013 = FDW_PD_RatioAdminLink(link_2013, prod, over_2013, mdx_pss)\n",
    "link_ratio_2016 = FDW_PD_RatioAdminLink(link_2016, prod, over_2016, mdx_pss)\n",
    "\n",
    "link_merged = [ link_ratio_1990, link_ratio_2013, link_ratio_2016]\n",
    "\n",
    "fnids_new = list(link_merged[0].keys())\n",
    "link_ratio = dict()\n",
    "for fnid in fnids_new:\n",
    "    container = []\n",
    "    for link in link_merged:\n",
    "        container.append(link[fnid])\n",
    "    link_ratio[fnid] = pd.concat(container, axis=1)\n",
    "# Add current unit to link_ratio\n",
    "for fnid_new in link_ratio.keys():\n",
    "    link_ratio[fnid_new][fnid_new] = 1.0\n",
    "    link_ratio[fnid_new] = link_ratio[fnid_new].sort_index(axis=1, ascending=False)\n",
    "# Connect data with AdminLink\n",
    "area_new, prod_new = FDW_PD_ConnectAdminLink(link_ratio, area, prod, validation=False)\n",
    "# ----------------------------------------------- #"
   ]
  },
  {
   "cell_type": "code",
   "execution_count": 6,
   "id": "20272ff1-9c5b-4fb9-a282-32d4fd9b738c",
   "metadata": {},
   "outputs": [
    {
     "name": "stdout",
     "output_type": "stream",
     "text": [
      "All [season_name, product, crop_production_system] are in the external crop calendar.\n",
      "../data/crop/adm_crop_production_MZ.csv is saved.\n"
     ]
    }
   ],
   "source": [
    "# Manual correction ----------------------------- #\n",
    "# Potential typo: 4.0 -> 40. Using an area of 4 results in sorghum yield >8 t/ha\n",
    "area_new.loc[2015,pd.IndexSlice['MZ2021A105',:,'Sorghum','Main','04-01','04-01','All (PS)']] = 40\n",
    "crop_new = prod_new/area_new\n",
    "# ----------------------------------------------- #\n",
    "\n",
    "# Complete long format DataFrame ---------------- #\n",
    "df_area = area_new.T.stack().rename('value').reset_index()\n",
    "df_area['indicator'] = 'area'\n",
    "df_prod = prod_new.T.stack().rename('value').reset_index()\n",
    "df_prod['indicator'] = 'production'\n",
    "df_yield = crop_new.T.stack().rename('value').reset_index()\n",
    "df_yield['indicator'] = 'yield'\n",
    "stack = pd.concat([df_area, df_prod, df_yield], axis=0)\n",
    "# Add \"planting year\"\n",
    "cols = ['season_name','product','crop_production_system','planting_month','harvest_year','harvest_month','planting_year']\n",
    "season_table = df[cols].drop_duplicates()\n",
    "stack = stack.merge(season_table, on=cols[:-1])\n",
    "# Add country and admin names\n",
    "stack = stack.merge(df[['fnid','country','country_code','admin_1','admin_2']].drop_duplicates(), on='fnid', how='inner')\n",
    "names = [\n",
    "    'fnid','country','country_code','admin_1','admin_2','name',\n",
    "    'product','season_name','planting_year','planting_month','harvest_year','harvest_month',\n",
    "    'crop_production_system','indicator','value'\n",
    "]\n",
    "stack = stack[names]\n",
    "# ----------------------------------------------- #\n",
    "\n",
    "# Final Processing ------------------------------ #\n",
    "# Manual change of product name\n",
    "product_category_custom = {\n",
    "    'Bambara groundnut': 'Bambara groundnut',\n",
    "    'Banana (unspecified)':'Banana (unspecified)',\n",
    "    'Beans (Lima)': 'Beans (Lima)',\n",
    "    'Beans (Rosecoco)': 'Beans (Rosecoco)',\n",
    "    'Beans (mixed)': 'Beans (mixed)',\n",
    "    'Cashew (unshelled)': 'Cashew (unshelled)',\n",
    "    'Cassava': 'Cassava',\n",
    "    'Chili pepper (Unspecified)':'Chili pepper (Unspecified)',\n",
    "    'Cotton (Unspecified)': 'Cotton',\n",
    "    'Cowpea (unspecified)': 'Cowpeas',\n",
    "    'Ginger': 'Ginger',\n",
    "    'Green bean (fresh)': 'Green bean',\n",
    "    'Groundnuts (In Shell)': 'Groundnuts (In Shell)',\n",
    "    'Groundnuts (In Shell, Large)': 'Groundnuts (In Shell, Large)',\n",
    "    'Groundnuts (In Shell, Small)': 'Groundnuts (In Shell, Small)',\n",
    "    'Jute':'Jute',\n",
    "    'Macadamia (unspecified)':'Macadamia (unspecified)',\n",
    "    'Maize Grain (White)': 'Maize',\n",
    "    'Millet': 'Millet',\n",
    "    'Mung bean (unspecified)':'Mung bean (unspecified)',\n",
    "    'Other root/tuber vegetable (unspecified)': 'Other root/tuber vegetable',\n",
    "    'Paprika (unspecified)': 'Paprika',\n",
    "    'Pigeon pea (Unspecified)': 'Pigeon Peas',\n",
    "    'Pepper (Piper spp.)': 'Pepper (Piper spp.)',\n",
    "    'Rice (Paddy)': 'Rice',\n",
    "    'Sesame Seed': 'Sesame Seed',\n",
    "    'Sorghum': 'Sorghum',\n",
    "    'Soybean (unspecified)': 'Soybean',\n",
    "    'Spanish peanut (in shell)': 'Spanish peanut',\n",
    "    'Sugarcane (for sugar)': 'Sugarcane',\n",
    "    'Sunflower Seed': 'Sunflower Seed',\n",
    "    'Sweet Potatoes': 'Sweet Potatoes',\n",
    "    'Sweet Potatoes (Non-Orange)': 'Sweet Potatoes (Non-Orange)',\n",
    "    'Sweet Potatoes (Orange)': 'Sweet Potatoes (Orange)',\n",
    "    'Tea leaves (Mixed)': 'Tea leaves',\n",
    "    'Tobacco (unspecified)': 'Tobacco',\n",
    "    'Virginia peanut (in shell)': 'Virginia peanut',\n",
    "    'Wheat Grain': 'Wheat'\n",
    "}\n",
    "assert set(stack['product'].unique()) == set(product_category_custom.keys())\n",
    "stack['product'] = stack['product'].replace(product_category_custom)\n",
    "for f, r in link_ratio.items():\n",
    "    mdx = pd.MultiIndex.from_frame(r.index.to_frame().reset_index(drop=True).replace(product_category_custom))\n",
    "    r.index = mdx\n",
    "    link_ratio[f] = r\n",
    "# Calibration of crop calendar using External Crop Calendar (ECC)\n",
    "ecc = pd.read_csv('../data/crop_calendar/external_crop_calendar.csv')\n",
    "ecc = ecc[ecc['country'] == 'Mozambique']\n",
    "stack, link_ratio = FDW_PD_CaliSeasonYear(stack, ecc, link_ratio)\n",
    "# None admin names\n",
    "stack.loc[stack['admin_1'].isna(), 'admin_1'] = 'none'\n",
    "stack.loc[stack['admin_2'].isna(), 'admin_2'] = 'none'\n",
    "# ----------------------------------------------- #\n",
    "\n",
    "# Save data\n",
    "fn_out = '../data/crop/adm_crop_production_MZ.csv'\n",
    "stack.to_csv(fn_out); print(f'{fn_out} is saved.')"
   ]
  },
  {
   "cell_type": "markdown",
   "id": "bf1e7c1c-6138-4f8e-b6e3-9afa1f3b3cd2",
   "metadata": {},
   "source": [
    "# Visualization of production data"
   ]
  },
  {
   "cell_type": "code",
   "execution_count": 7,
   "id": "6f75d416-b5a8-49ce-987f-6723589512f1",
   "metadata": {},
   "outputs": [
    {
     "name": "stdout",
     "output_type": "stream",
     "text": [
      "../figures/MZ_bar_natgrainprod_Main.png is saved.\n"
     ]
    },
    {
     "data": {
      "application/vnd.plotly.v1+json": {
       "config": {
        "plotlyServerURL": "https://plot.ly"
       },
       "data": [
        {
         "alignmentgroup": "True",
         "hovertemplate": "product=Sweet Potatoes<br>season_name=Main<br>type=orig_unit<br>year=%{x}<br>value=%{y}<extra></extra>",
         "legendgroup": "Sweet Potatoes",
         "marker": {
          "color": "#EF553B",
          "pattern": {
           "shape": ""
          }
         },
         "name": "Sweet Potatoes",
         "offsetgroup": "Sweet Potatoes",
         "orientation": "v",
         "showlegend": true,
         "textposition": "auto",
         "type": "bar",
         "x": [
          2002,
          2005,
          2006,
          2007,
          2008,
          2014,
          2018
         ],
         "xaxis": "x2",
         "y": [
          456330,
          826662752,
          677870,
          861430,
          566050,
          404011,
          2436010
         ],
         "yaxis": "y2"
        },
        {
         "alignmentgroup": "True",
         "hovertemplate": "product=Sweet Potatoes<br>season_name=Main<br>type=percent<br>year=%{x}<br>value=%{y}<extra></extra>",
         "legendgroup": "Sweet Potatoes",
         "marker": {
          "color": "#EF553B",
          "pattern": {
           "shape": ""
          }
         },
         "name": "Sweet Potatoes",
         "offsetgroup": "Sweet Potatoes",
         "orientation": "v",
         "showlegend": false,
         "textposition": "auto",
         "type": "bar",
         "x": [
          2002,
          2005,
          2006,
          2007,
          2008,
          2014,
          2018
         ],
         "xaxis": "x",
         "y": [
          12.066808030767989,
          99.62874189369869,
          13.770856463943673,
          22.32842155763993,
          15.877678246510666,
          16.584356041651873,
          40.4141873123531
         ],
         "yaxis": "y"
        },
        {
         "alignmentgroup": "True",
         "hovertemplate": "product=Sorghum<br>season_name=Main<br>type=orig_unit<br>year=%{x}<br>value=%{y}<extra></extra>",
         "legendgroup": "Sorghum",
         "marker": {
          "color": "#ab63fa",
          "pattern": {
           "shape": ""
          }
         },
         "name": "Sorghum",
         "offsetgroup": "Sorghum",
         "orientation": "v",
         "showlegend": true,
         "textposition": "auto",
         "type": "bar",
         "x": [
          1999,
          2000,
          2001,
          2002,
          2003,
          2004,
          2005,
          2006,
          2007,
          2008,
          2009,
          2010,
          2011,
          2012,
          2014,
          2015,
          2016,
          2017,
          2018,
          2019,
          2020,
          2021,
          2022
         ],
         "xaxis": "x2",
         "y": [
          208927,
          252460.92824707,
          308729.1823135,
          554896.32495196,
          696135.95036383,
          330916.76822269,
          518398.00193961,
          710515.99130556,
          306228,
          321932,
          378035,
          388597,
          409744,
          139262,
          155163,
          19173,
          126878,
          139471,
          148130,
          158191,
          142002,
          146632,
          164491
         ],
         "yaxis": "y2"
        },
        {
         "alignmentgroup": "True",
         "hovertemplate": "product=Sorghum<br>season_name=Main<br>type=percent<br>year=%{x}<br>value=%{y}<extra></extra>",
         "legendgroup": "Sorghum",
         "marker": {
          "color": "#ab63fa",
          "pattern": {
           "shape": ""
          }
         },
         "name": "Sorghum",
         "offsetgroup": "Sorghum",
         "orientation": "v",
         "showlegend": false,
         "textposition": "auto",
         "type": "bar",
         "x": [
          1999,
          2000,
          2001,
          2002,
          2003,
          2004,
          2005,
          2006,
          2007,
          2008,
          2009,
          2010,
          2011,
          2012,
          2014,
          2015,
          2016,
          2017,
          2018,
          2019,
          2020,
          2021,
          2022
         ],
         "xaxis": "x",
         "y": [
          17.979081903109662,
          16.474349040468137,
          18.23004983686691,
          14.673213310924012,
          18.922511639714816,
          15.829379595462918,
          0.0624769177134166,
          14.434056281596055,
          7.937485201064463,
          9.030178806210884,
          13.902460103081978,
          18.649176809574406,
          13.536337877226673,
          7.847789114687879,
          6.3693276581351235,
          1.9542728887828833,
          5.258943204341847,
          5.613945121634605,
          2.457524216476478,
          5.383689691247229,
          4.8519642148761175,
          4.481997519850518,
          4.197282563763911
         ],
         "yaxis": "y"
        },
        {
         "alignmentgroup": "True",
         "hovertemplate": "product=Bambara groundnut<br>season_name=Main<br>type=orig_unit<br>year=%{x}<br>value=%{y}<extra></extra>",
         "legendgroup": "Bambara groundnut",
         "marker": {
          "color": "#FFA15A",
          "pattern": {
           "shape": ""
          }
         },
         "name": "Bambara groundnut",
         "offsetgroup": "Bambara groundnut",
         "orientation": "v",
         "showlegend": true,
         "textposition": "auto",
         "type": "bar",
         "x": [
          2002,
          2003,
          2005,
          2006,
          2007,
          2008,
          2012,
          2014,
          2015,
          2016,
          2017,
          2018,
          2019,
          2020,
          2021,
          2022
         ],
         "xaxis": "x2",
         "y": [
          67273,
          55160,
          26882,
          34611,
          20249,
          12630,
          19351,
          23901,
          15307,
          21702,
          17495,
          22475,
          28788,
          16526,
          29191,
          31794
         ],
         "yaxis": "y2"
        },
        {
         "alignmentgroup": "True",
         "hovertemplate": "product=Bambara groundnut<br>season_name=Main<br>type=percent<br>year=%{x}<br>value=%{y}<extra></extra>",
         "legendgroup": "Bambara groundnut",
         "marker": {
          "color": "#FFA15A",
          "pattern": {
           "shape": ""
          }
         },
         "name": "Bambara groundnut",
         "offsetgroup": "Bambara groundnut",
         "orientation": "v",
         "showlegend": false,
         "textposition": "auto",
         "type": "bar",
         "x": [
          2002,
          2003,
          2005,
          2006,
          2007,
          2008,
          2012,
          2014,
          2015,
          2016,
          2017,
          2018,
          2019,
          2020,
          2021,
          2022
         ],
         "xaxis": "x",
         "y": [
          1.7789108247405494,
          1.4993705489583655,
          0.0032397974060241774,
          0.7031187588675624,
          0.5248577459812764,
          0.3542709588436175,
          1.0904810153403308,
          0.9811185679387971,
          1.560217759797611,
          0.899522260916997,
          0.7042035254855664,
          0.37286745942961486,
          0.9797375250907147,
          0.5646650090494693,
          0.8922608271179312,
          0.8112808714902929
         ],
         "yaxis": "y"
        },
        {
         "alignmentgroup": "True",
         "hovertemplate": "product=Beans (Lima)<br>season_name=Main<br>type=orig_unit<br>year=%{x}<br>value=%{y}<extra></extra>",
         "legendgroup": "Beans (Lima)",
         "marker": {
          "color": "#19d3f3",
          "pattern": {
           "shape": ""
          }
         },
         "name": "Beans (Lima)",
         "offsetgroup": "Beans (Lima)",
         "orientation": "v",
         "showlegend": true,
         "textposition": "auto",
         "type": "bar",
         "x": [
          2002,
          2003,
          2005,
          2006,
          2007,
          2008,
          2012,
          2014
         ],
         "xaxis": "x2",
         "y": [
          106067.7,
          122623,
          141281,
          145834.4,
          51959.1,
          52661,
          55297,
          51584
         ],
         "yaxis": "y2"
        },
        {
         "alignmentgroup": "True",
         "hovertemplate": "product=Beans (Lima)<br>season_name=Main<br>type=percent<br>year=%{x}<br>value=%{y}<extra></extra>",
         "legendgroup": "Beans (Lima)",
         "marker": {
          "color": "#19d3f3",
          "pattern": {
           "shape": ""
          }
         },
         "name": "Beans (Lima)",
         "offsetgroup": "Beans (Lima)",
         "orientation": "v",
         "showlegend": false,
         "textposition": "auto",
         "type": "bar",
         "x": [
          2002,
          2003,
          2005,
          2006,
          2007,
          2008,
          2012,
          2014
         ],
         "xaxis": "x",
         "y": [
          2.8047653543818942,
          3.3331637930551423,
          0.017027074522747633,
          2.9626102201090876,
          1.3467892789380087,
          1.477138793639251,
          3.116135016550787,
          2.1174854695851604
         ],
         "yaxis": "y"
        },
        {
         "alignmentgroup": "True",
         "hovertemplate": "product=Beans (Rosecoco)<br>season_name=Main<br>type=orig_unit<br>year=%{x}<br>value=%{y}<extra></extra>",
         "legendgroup": "Beans (Rosecoco)",
         "marker": {
          "color": "#FF6692",
          "pattern": {
           "shape": ""
          }
         },
         "name": "Beans (Rosecoco)",
         "offsetgroup": "Beans (Rosecoco)",
         "orientation": "v",
         "showlegend": true,
         "textposition": "auto",
         "type": "bar",
         "x": [
          2012,
          2014,
          2015,
          2016,
          2017,
          2018,
          2019,
          2020,
          2021,
          2022
         ],
         "xaxis": "x2",
         "y": [
          55297,
          51584,
          30855,
          65793,
          67983,
          74260,
          82437,
          65906,
          95065,
          103543
         ],
         "yaxis": "y2"
        },
        {
         "alignmentgroup": "True",
         "hovertemplate": "product=Beans (Rosecoco)<br>season_name=Main<br>type=percent<br>year=%{x}<br>value=%{y}<extra></extra>",
         "legendgroup": "Beans (Rosecoco)",
         "marker": {
          "color": "#FF6692",
          "pattern": {
           "shape": ""
          }
         },
         "name": "Beans (Rosecoco)",
         "offsetgroup": "Beans (Rosecoco)",
         "orientation": "v",
         "showlegend": false,
         "textposition": "auto",
         "type": "bar",
         "x": [
          2012,
          2014,
          2015,
          2016,
          2017,
          2018,
          2019,
          2020,
          2021,
          2022
         ],
         "xaxis": "x",
         "y": [
          3.116135016550787,
          2.1174854695851604,
          3.145000259917377,
          2.727042121118422,
          2.7364314531629184,
          1.2319972207894638,
          2.8055655952446585,
          2.2518947165929033,
          2.905785191667505,
          2.6420851505541734
         ],
         "yaxis": "y"
        },
        {
         "alignmentgroup": "True",
         "hovertemplate": "product=Beans (mixed)<br>season_name=Main<br>type=orig_unit<br>year=%{x}<br>value=%{y}<extra></extra>",
         "legendgroup": "Beans (mixed)",
         "marker": {
          "color": "#B6E880",
          "pattern": {
           "shape": ""
          }
         },
         "name": "Beans (mixed)",
         "offsetgroup": "Beans (mixed)",
         "orientation": "v",
         "showlegend": true,
         "textposition": "auto",
         "type": "bar",
         "x": [
          1999,
          2000,
          2001,
          2002,
          2003,
          2004,
          2005,
          2006,
          2007,
          2008,
          2009,
          2010,
          2011,
          2015,
          2018
         ],
         "xaxis": "x2",
         "y": [
          200483,
          146437.41530269,
          149813.5627153,
          177355.05239997,
          179552.39165987002,
          192796.85314406,
          195640.94956868,
          219095.79764606,
          224596,
          240267,
          257381,
          263771,
          273035,
          47723,
          482220
         ],
         "yaxis": "y2"
        },
        {
         "alignmentgroup": "True",
         "hovertemplate": "product=Beans (mixed)<br>season_name=Main<br>type=percent<br>year=%{x}<br>value=%{y}<extra></extra>",
         "legendgroup": "Beans (mixed)",
         "marker": {
          "color": "#B6E880",
          "pattern": {
           "shape": ""
          }
         },
         "name": "Beans (mixed)",
         "offsetgroup": "Beans (mixed)",
         "orientation": "v",
         "showlegend": false,
         "textposition": "auto",
         "type": "bar",
         "x": [
          1999,
          2000,
          2001,
          2002,
          2003,
          2004,
          2005,
          2006,
          2007,
          2008,
          2009,
          2010,
          2011,
          2015,
          2018
         ],
         "xaxis": "x",
         "y": [
          17.252438780919334,
          9.55578001329203,
          8.846292708945127,
          4.689828349214901,
          4.880630312723834,
          9.222423480137163,
          0.023578492706075305,
          4.45090766848679,
          5.821568981994703,
          6.739479055303203,
          9.465338087191245,
          12.65864640292707,
          9.020007644550217,
          4.8643282257020575,
          8.000184484367024
         ],
         "yaxis": "y"
        },
        {
         "alignmentgroup": "True",
         "hovertemplate": "product=Chili pepper (Unspecified)<br>season_name=Main<br>type=orig_unit<br>year=%{x}<br>value=%{y}<extra></extra>",
         "legendgroup": "Chili pepper (Unspecified)",
         "marker": {
          "color": "#FF97FF",
          "pattern": {
           "shape": ""
          }
         },
         "name": "Chili pepper (Unspecified)",
         "offsetgroup": "Chili pepper (Unspecified)",
         "orientation": "v",
         "showlegend": true,
         "textposition": "auto",
         "type": "bar",
         "x": [
          2015
         ],
         "xaxis": "x2",
         "y": [
          1279
         ],
         "yaxis": "y2"
        },
        {
         "alignmentgroup": "True",
         "hovertemplate": "product=Chili pepper (Unspecified)<br>season_name=Main<br>type=percent<br>year=%{x}<br>value=%{y}<extra></extra>",
         "legendgroup": "Chili pepper (Unspecified)",
         "marker": {
          "color": "#FF97FF",
          "pattern": {
           "shape": ""
          }
         },
         "name": "Chili pepper (Unspecified)",
         "offsetgroup": "Chili pepper (Unspecified)",
         "orientation": "v",
         "showlegend": false,
         "textposition": "auto",
         "type": "bar",
         "x": [
          2015
         ],
         "xaxis": "x",
         "y": [
          0.13036640195865581
         ],
         "yaxis": "y"
        },
        {
         "alignmentgroup": "True",
         "hovertemplate": "product=Cowpeas<br>season_name=Main<br>type=orig_unit<br>year=%{x}<br>value=%{y}<extra></extra>",
         "legendgroup": "Cowpeas",
         "marker": {
          "color": "#FECB52",
          "pattern": {
           "shape": ""
          }
         },
         "name": "Cowpeas",
         "offsetgroup": "Cowpeas",
         "orientation": "v",
         "showlegend": true,
         "textposition": "auto",
         "type": "bar",
         "x": [
          2002,
          2003,
          2005,
          2006,
          2007,
          2008,
          2012,
          2014,
          2015,
          2016,
          2017,
          2018,
          2019,
          2020,
          2021,
          2022
         ],
         "xaxis": "x2",
         "y": [
          159687,
          190333,
          145041,
          209087,
          62188,
          62350,
          85484,
          103836,
          63245,
          87515,
          98442,
          108187,
          119573,
          83450,
          183130,
          199457
         ],
         "yaxis": "y2"
        },
        {
         "alignmentgroup": "True",
         "hovertemplate": "product=Cowpeas<br>season_name=Main<br>type=percent<br>year=%{x}<br>value=%{y}<extra></extra>",
         "legendgroup": "Cowpeas",
         "marker": {
          "color": "#FECB52",
          "pattern": {
           "shape": ""
          }
         },
         "name": "Cowpeas",
         "offsetgroup": "Cowpeas",
         "orientation": "v",
         "showlegend": false,
         "textposition": "auto",
         "type": "bar",
         "x": [
          2002,
          2003,
          2005,
          2006,
          2007,
          2008,
          2012,
          2014,
          2015,
          2016,
          2017,
          2018,
          2019,
          2020,
          2021,
          2022
         ],
         "xaxis": "x",
         "y": [
          4.222629180657086,
          5.1736710423294525,
          0.017480226752739855,
          4.247580016045246,
          1.6119242188297505,
          1.74891482849561,
          4.817253842972087,
          4.26239185057081,
          6.446460587861756,
          3.627393358407106,
          3.9624580426321874,
          1.7948570337402332,
          4.0694093055325835,
          2.85134303553057,
          5.597606292011467,
          5.089502698145542
         ],
         "yaxis": "y"
        },
        {
         "alignmentgroup": "True",
         "hovertemplate": "product=Ginger<br>season_name=Main<br>type=orig_unit<br>year=%{x}<br>value=%{y}<extra></extra>",
         "legendgroup": "Ginger",
         "marker": {
          "color": "#636efa",
          "pattern": {
           "shape": ""
          }
         },
         "name": "Ginger",
         "offsetgroup": "Ginger",
         "orientation": "v",
         "showlegend": true,
         "textposition": "auto",
         "type": "bar",
         "x": [
          2002,
          2005,
          2015
         ],
         "xaxis": "x2",
         "y": [
          6,
          12,
          2
         ],
         "yaxis": "y2"
        },
        {
         "alignmentgroup": "True",
         "hovertemplate": "product=Ginger<br>season_name=Main<br>type=percent<br>year=%{x}<br>value=%{y}<extra></extra>",
         "legendgroup": "Ginger",
         "marker": {
          "color": "#636efa",
          "pattern": {
           "shape": ""
          }
         },
         "name": "Ginger",
         "offsetgroup": "Ginger",
         "orientation": "v",
         "showlegend": false,
         "textposition": "auto",
         "type": "bar",
         "x": [
          2002,
          2005,
          2015
         ],
         "xaxis": "x",
         "y": [
          0.0001586589708864373,
          0.000001446230521251772,
          0.0002038567661589614
         ],
         "yaxis": "y"
        },
        {
         "alignmentgroup": "True",
         "hovertemplate": "product=Green bean<br>season_name=Main<br>type=orig_unit<br>year=%{x}<br>value=%{y}<extra></extra>",
         "legendgroup": "Green bean",
         "marker": {
          "color": "#EF553B",
          "pattern": {
           "shape": ""
          }
         },
         "name": "Green bean",
         "offsetgroup": "Green bean",
         "orientation": "v",
         "showlegend": true,
         "textposition": "auto",
         "type": "bar",
         "x": [
          2002,
          2003,
          2005,
          2006,
          2007,
          2008
         ],
         "xaxis": "x2",
         "y": [
          89400,
          101900,
          95700,
          124300,
          146300,
          129200
         ],
         "yaxis": "y2"
        },
        {
         "alignmentgroup": "True",
         "hovertemplate": "product=Green bean<br>season_name=Main<br>type=percent<br>year=%{x}<br>value=%{y}<extra></extra>",
         "legendgroup": "Green bean",
         "marker": {
          "color": "#EF553B",
          "pattern": {
           "shape": ""
          }
         },
         "name": "Green bean",
         "offsetgroup": "Green bean",
         "orientation": "v",
         "showlegend": false,
         "textposition": "auto",
         "type": "bar",
         "x": [
          2002,
          2003,
          2005,
          2006,
          2007,
          2008
         ],
         "xaxis": "x",
         "y": [
          2.3640186662079157,
          2.769866913322289,
          0.011533688406982882,
          2.525141190004276,
          3.792122486891241,
          3.624054464180157
         ],
         "yaxis": "y"
        },
        {
         "alignmentgroup": "True",
         "hovertemplate": "product=Groundnuts (In Shell)<br>season_name=Main<br>type=orig_unit<br>year=%{x}<br>value=%{y}<extra></extra>",
         "legendgroup": "Groundnuts (In Shell)",
         "marker": {
          "color": "#00cc96",
          "pattern": {
           "shape": ""
          }
         },
         "name": "Groundnuts (In Shell)",
         "offsetgroup": "Groundnuts (In Shell)",
         "orientation": "v",
         "showlegend": true,
         "textposition": "auto",
         "type": "bar",
         "x": [
          1999,
          2000,
          2001,
          2002,
          2003,
          2004,
          2005,
          2006,
          2007,
          2008,
          2009,
          2010,
          2011,
          2018
         ],
         "xaxis": "x2",
         "y": [
          90777,
          114516.77863185,
          111192.58629488,
          109786.05059886,
          109915.15365372002,
          132062.85662007,
          126216.90635432,
          145583.94383006002,
          141461.67915873,
          143510,
          152251,
          157685,
          165372,
          343240
         ],
         "yaxis": "y2"
        },
        {
         "alignmentgroup": "True",
         "hovertemplate": "product=Groundnuts (In Shell)<br>season_name=Main<br>type=percent<br>year=%{x}<br>value=%{y}<extra></extra>",
         "legendgroup": "Groundnuts (In Shell)",
         "marker": {
          "color": "#00cc96",
          "pattern": {
           "shape": ""
          }
         },
         "name": "Groundnuts (In Shell)",
         "offsetgroup": "Groundnuts (In Shell)",
         "orientation": "v",
         "showlegend": false,
         "textposition": "auto",
         "type": "bar",
         "x": [
          1999,
          2000,
          2001,
          2002,
          2003,
          2004,
          2005,
          2006,
          2007,
          2008,
          2009,
          2010,
          2011,
          2018
         ],
         "xaxis": "x",
         "y": [
          7.81175778103637,
          7.4727974553148115,
          6.565775138119003,
          2.9030903009502436,
          2.9877364806494064,
          6.317217163481724,
          0.015211561855632858,
          2.9575222298355066,
          3.666712334731469,
          4.025449351040978,
          5.599120327891159,
          7.567468213130159,
          5.463243555568183,
          5.694461702986473
         ],
         "yaxis": "y"
        },
        {
         "alignmentgroup": "True",
         "hovertemplate": "product=Groundnuts (In Shell, Large)<br>season_name=Main<br>type=orig_unit<br>year=%{x}<br>value=%{y}<extra></extra>",
         "legendgroup": "Groundnuts (In Shell, Large)",
         "marker": {
          "color": "#ab63fa",
          "pattern": {
           "shape": ""
          }
         },
         "name": "Groundnuts (In Shell, Large)",
         "offsetgroup": "Groundnuts (In Shell, Large)",
         "orientation": "v",
         "showlegend": true,
         "textposition": "auto",
         "type": "bar",
         "x": [
          2002,
          2003,
          2005,
          2006
         ],
         "xaxis": "x2",
         "y": [
          75358,
          174030,
          54744,
          49350
         ],
         "yaxis": "y2"
        },
        {
         "alignmentgroup": "True",
         "hovertemplate": "product=Groundnuts (In Shell, Large)<br>season_name=Main<br>type=percent<br>year=%{x}<br>value=%{y}<extra></extra>",
         "legendgroup": "Groundnuts (In Shell, Large)",
         "marker": {
          "color": "#ab63fa",
          "pattern": {
           "shape": ""
          }
         },
         "name": "Groundnuts (In Shell, Large)",
         "offsetgroup": "Groundnuts (In Shell, Large)",
         "orientation": "v",
         "showlegend": false,
         "textposition": "auto",
         "type": "bar",
         "x": [
          2002,
          2003,
          2005,
          2006
         ],
         "xaxis": "x",
         "y": [
          1.9927037880100238,
          4.7305195184050834,
          0.006597703637950584,
          1.0025399656211667
         ],
         "yaxis": "y"
        },
        {
         "alignmentgroup": "True",
         "hovertemplate": "product=Groundnuts (In Shell, Small)<br>season_name=Main<br>type=orig_unit<br>year=%{x}<br>value=%{y}<extra></extra>",
         "legendgroup": "Groundnuts (In Shell, Small)",
         "marker": {
          "color": "#FFA15A",
          "pattern": {
           "shape": ""
          }
         },
         "name": "Groundnuts (In Shell, Small)",
         "offsetgroup": "Groundnuts (In Shell, Small)",
         "orientation": "v",
         "showlegend": true,
         "textposition": "auto",
         "type": "bar",
         "x": [
          2002,
          2005,
          2006
         ],
         "xaxis": "x2",
         "y": [
          126618,
          114508,
          117796
         ],
         "yaxis": "y2"
        },
        {
         "alignmentgroup": "True",
         "hovertemplate": "product=Groundnuts (In Shell, Small)<br>season_name=Main<br>type=percent<br>year=%{x}<br>value=%{y}<extra></extra>",
         "legendgroup": "Groundnuts (In Shell, Small)",
         "marker": {
          "color": "#FFA15A",
          "pattern": {
           "shape": ""
          }
         },
         "name": "Groundnuts (In Shell, Small)",
         "offsetgroup": "Groundnuts (In Shell, Small)",
         "orientation": "v",
         "showlegend": false,
         "textposition": "auto",
         "type": "bar",
         "x": [
          2002,
          2005,
          2006
         ],
         "xaxis": "x",
         "y": [
          3.348180262616486,
          0.013800413710624826,
          2.39301312645007
         ],
         "yaxis": "y"
        },
        {
         "alignmentgroup": "True",
         "hovertemplate": "product=Maize<br>season_name=Main<br>type=orig_unit<br>year=%{x}<br>value=%{y}<extra></extra>",
         "legendgroup": "Maize",
         "marker": {
          "color": "#19d3f3",
          "pattern": {
           "shape": ""
          }
         },
         "name": "Maize",
         "offsetgroup": "Maize",
         "orientation": "v",
         "showlegend": true,
         "textposition": "auto",
         "type": "bar",
         "x": [
          1999,
          2000,
          2001,
          2002,
          2003,
          2004,
          2005,
          2006,
          2007,
          2008,
          2009,
          2010,
          2011,
          2012,
          2014,
          2015,
          2016,
          2017,
          2018,
          2019,
          2020,
          2021,
          2022
         ],
         "xaxis": "x2",
         "y": [
          547713,
          1019033.45971329,
          1123782.7066202,
          1114000,
          1688409.61967745,
          1434746.1873331699,
          942300,
          1394800,
          1134200,
          1213000,
          1931528,
          1273669,
          2178842,
          1170500,
          1357404,
          230736,
          1231468,
          1190431,
          1406794,
          1451686,
          1632321,
          1836925,
          2382511
         ],
         "yaxis": "y2"
        },
        {
         "alignmentgroup": "True",
         "hovertemplate": "product=Maize<br>season_name=Main<br>type=percent<br>year=%{x}<br>value=%{y}<extra></extra>",
         "legendgroup": "Maize",
         "marker": {
          "color": "#19d3f3",
          "pattern": {
           "shape": ""
          }
         },
         "name": "Maize",
         "offsetgroup": "Maize",
         "orientation": "v",
         "showlegend": false,
         "textposition": "auto",
         "type": "bar",
         "x": [
          1999,
          2000,
          2001,
          2002,
          2003,
          2004,
          2005,
          2006,
          2007,
          2008,
          2009,
          2010,
          2011,
          2012,
          2014,
          2015,
          2016,
          2017,
          2018,
          2019,
          2020,
          2021,
          2022
         ],
         "xaxis": "x",
         "y": [
          47.133098577004894,
          66.49707349092503,
          66.35788231606897,
          29.457682261248525,
          45.89470011461863,
          68.6309797609182,
          0.1135652516812954,
          28.335212645357714,
          29.398669341299012,
          34.02459802670689,
          71.03308148183561,
          61.12470857436837,
          71.98041092265493,
          65.96083036824233,
          55.72044134531588,
          23.518547398227057,
          51.04289372440017,
          47.91687379521625,
          23.33916372506454,
          49.40500378104902,
          55.77360233793045,
          56.14799835064252,
          60.794036623740624
         ],
         "yaxis": "y"
        },
        {
         "alignmentgroup": "True",
         "hovertemplate": "product=Millet<br>season_name=Main<br>type=orig_unit<br>year=%{x}<br>value=%{y}<extra></extra>",
         "legendgroup": "Millet",
         "marker": {
          "color": "#FF6692",
          "pattern": {
           "shape": ""
          }
         },
         "name": "Millet",
         "offsetgroup": "Millet",
         "orientation": "v",
         "showlegend": true,
         "textposition": "auto",
         "type": "bar",
         "x": [
          2002,
          2003,
          2005,
          2006,
          2007,
          2008,
          2012,
          2014,
          2015,
          2016,
          2017,
          2018,
          2019,
          2020,
          2021,
          2022
         ],
         "xaxis": "x2",
         "y": [
          36445,
          64827,
          45855,
          67077,
          24815,
          12167.1,
          21944,
          29332,
          3313,
          24868,
          18745,
          33463,
          40545,
          22099,
          22832,
          25111
         ],
         "yaxis": "y2"
        },
        {
         "alignmentgroup": "True",
         "hovertemplate": "product=Millet<br>season_name=Main<br>type=percent<br>year=%{x}<br>value=%{y}<extra></extra>",
         "legendgroup": "Millet",
         "marker": {
          "color": "#FF6692",
          "pattern": {
           "shape": ""
          }
         },
         "name": "Millet",
         "offsetgroup": "Millet",
         "orientation": "v",
         "showlegend": false,
         "textposition": "auto",
         "type": "bar",
         "x": [
          2002,
          2003,
          2005,
          2006,
          2007,
          2008,
          2012,
          2014,
          2015,
          2016,
          2017,
          2018,
          2019,
          2020,
          2021,
          2022
         ],
         "xaxis": "x",
         "y": [
          0.9637210323260346,
          1.7621409459268305,
          0.005526408379333333,
          1.3626620724208915,
          0.643209292632988,
          0.3412866336774488,
          1.2366035554042798,
          1.2040571455077527,
          0.33768873314231956,
          1.0307492205549666,
          0.7545181529138005,
          0.5551619041109321,
          1.3798616769071494,
          0.7550848381328948,
          0.6978897332998734,
          0.6407521533620415
         ],
         "yaxis": "y"
        },
        {
         "alignmentgroup": "True",
         "hovertemplate": "product=Mung bean (unspecified)<br>season_name=Main<br>type=orig_unit<br>year=%{x}<br>value=%{y}<extra></extra>",
         "legendgroup": "Mung bean (unspecified)",
         "marker": {
          "color": "#B6E880",
          "pattern": {
           "shape": ""
          }
         },
         "name": "Mung bean (unspecified)",
         "offsetgroup": "Mung bean (unspecified)",
         "orientation": "v",
         "showlegend": true,
         "textposition": "auto",
         "type": "bar",
         "x": [
          2015,
          2020
         ],
         "xaxis": "x2",
         "y": [
          5211,
          26172
         ],
         "yaxis": "y2"
        },
        {
         "alignmentgroup": "True",
         "hovertemplate": "product=Mung bean (unspecified)<br>season_name=Main<br>type=percent<br>year=%{x}<br>value=%{y}<extra></extra>",
         "legendgroup": "Mung bean (unspecified)",
         "marker": {
          "color": "#B6E880",
          "pattern": {
           "shape": ""
          }
         },
         "name": "Mung bean (unspecified)",
         "offsetgroup": "Mung bean (unspecified)",
         "orientation": "v",
         "showlegend": false,
         "textposition": "auto",
         "type": "bar",
         "x": [
          2015,
          2020
         ],
         "xaxis": "x",
         "y": [
          0.5311488042271739,
          0.8942522459665198
         ],
         "yaxis": "y"
        },
        {
         "alignmentgroup": "True",
         "hovertemplate": "product=Paprika<br>season_name=Main<br>type=orig_unit<br>year=%{x}<br>value=%{y}<extra></extra>",
         "legendgroup": "Paprika",
         "marker": {
          "color": "#FF97FF",
          "pattern": {
           "shape": ""
          }
         },
         "name": "Paprika",
         "offsetgroup": "Paprika",
         "orientation": "v",
         "showlegend": true,
         "textposition": "auto",
         "type": "bar",
         "x": [
          2002,
          2003,
          2005,
          2006
         ],
         "xaxis": "x2",
         "y": [
          23,
          247,
          305,
          72
         ],
         "yaxis": "y2"
        },
        {
         "alignmentgroup": "True",
         "hovertemplate": "product=Paprika<br>season_name=Main<br>type=percent<br>year=%{x}<br>value=%{y}<extra></extra>",
         "legendgroup": "Paprika",
         "marker": {
          "color": "#FF97FF",
          "pattern": {
           "shape": ""
          }
         },
         "name": "Paprika",
         "offsetgroup": "Paprika",
         "orientation": "v",
         "showlegend": false,
         "textposition": "auto",
         "type": "bar",
         "x": [
          2002,
          2003,
          2005,
          2006
         ],
         "xaxis": "x",
         "y": [
          0.0006081927217313429,
          0.006714005177532927,
          0.00003675835908181587,
          0.0014626722902679637
         ],
         "yaxis": "y"
        },
        {
         "alignmentgroup": "True",
         "hovertemplate": "product=Pepper (Piper spp.)<br>season_name=Main<br>type=orig_unit<br>year=%{x}<br>value=%{y}<extra></extra>",
         "legendgroup": "Pepper (Piper spp.)",
         "marker": {
          "color": "#FECB52",
          "pattern": {
           "shape": ""
          }
         },
         "name": "Pepper (Piper spp.)",
         "offsetgroup": "Pepper (Piper spp.)",
         "orientation": "v",
         "showlegend": true,
         "textposition": "auto",
         "type": "bar",
         "x": [
          2002,
          2003,
          2005,
          2006,
          2007,
          2008
         ],
         "xaxis": "x2",
         "y": [
          97,
          260,
          335,
          283,
          18,
          71
         ],
         "yaxis": "y2"
        },
        {
         "alignmentgroup": "True",
         "hovertemplate": "product=Pepper (Piper spp.)<br>season_name=Main<br>type=percent<br>year=%{x}<br>value=%{y}<extra></extra>",
         "legendgroup": "Pepper (Piper spp.)",
         "marker": {
          "color": "#FECB52",
          "pattern": {
           "shape": ""
          }
         },
         "name": "Pepper (Piper spp.)",
         "offsetgroup": "Pepper (Piper spp.)",
         "orientation": "v",
         "showlegend": false,
         "textposition": "auto",
         "type": "bar",
         "x": [
          2002,
          2003,
          2005,
          2006,
          2007,
          2008
         ],
         "xaxis": "x",
         "y": [
          0.002564986695997403,
          0.007067373871087293,
          0.0000403739353849453,
          0.005749114696469913,
          0.0004665632588109524,
          0.0019915469578699004
         ],
         "yaxis": "y"
        },
        {
         "alignmentgroup": "True",
         "hovertemplate": "product=Pigeon Peas<br>season_name=Main<br>type=orig_unit<br>year=%{x}<br>value=%{y}<extra></extra>",
         "legendgroup": "Pigeon Peas",
         "marker": {
          "color": "#636efa",
          "pattern": {
           "shape": ""
          }
         },
         "name": "Pigeon Peas",
         "offsetgroup": "Pigeon Peas",
         "orientation": "v",
         "showlegend": true,
         "textposition": "auto",
         "type": "bar",
         "x": [
          2002,
          2003,
          2005,
          2006,
          2007,
          2008,
          2012,
          2014,
          2015,
          2016,
          2017,
          2018,
          2019,
          2020,
          2021,
          2022
         ],
         "xaxis": "x2",
         "y": [
          95246,
          127762,
          109271,
          186814,
          71493,
          64091,
          113453,
          110579,
          69208,
          118398,
          148448,
          156285,
          168714,
          160000,
          108438,
          118108
         ],
         "yaxis": "y2"
        },
        {
         "alignmentgroup": "True",
         "hovertemplate": "product=Pigeon Peas<br>season_name=Main<br>type=percent<br>year=%{x}<br>value=%{y}<extra></extra>",
         "legendgroup": "Pigeon Peas",
         "marker": {
          "color": "#636efa",
          "pattern": {
           "shape": ""
          }
         },
         "name": "Pigeon Peas",
         "offsetgroup": "Pigeon Peas",
         "orientation": "v",
         "showlegend": false,
         "textposition": "auto",
         "type": "bar",
         "x": [
          2002,
          2003,
          2005,
          2006,
          2007,
          2008,
          2012,
          2014,
          2015,
          2016,
          2017,
          2018,
          2019,
          2020,
          2021,
          2022
         ],
         "xaxis": "x",
         "y": [
          2.5186053901749346,
          3.4728531558379023,
          0.013169254607308532,
          3.795106406029435,
          1.8531115034539678,
          1.797749803899152,
          6.393382390233401,
          4.53918706849522,
          7.0542595361647,
          4.90745722274678,
          5.975284649973212,
          2.592818282400772,
          5.741817313052481,
          5.4669249333120575,
          3.3145483049917517,
          3.0137372199149373
         ],
         "yaxis": "y"
        },
        {
         "alignmentgroup": "True",
         "hovertemplate": "product=Sesame Seed<br>season_name=Main<br>type=orig_unit<br>year=%{x}<br>value=%{y}<extra></extra>",
         "legendgroup": "Sesame Seed",
         "marker": {
          "color": "#EF553B",
          "pattern": {
           "shape": ""
          }
         },
         "name": "Sesame Seed",
         "offsetgroup": "Sesame Seed",
         "orientation": "v",
         "showlegend": true,
         "textposition": "auto",
         "type": "bar",
         "x": [
          2002,
          2003,
          2005,
          2006,
          2007,
          2008,
          2015,
          2016,
          2017,
          2018,
          2019,
          2020,
          2021,
          2022
         ],
         "xaxis": "x2",
         "y": [
          12948,
          25198,
          45576,
          18355,
          17605,
          34601,
          21993,
          65067,
          69374,
          74284,
          80422,
          125038,
          152809,
          188113
         ],
         "yaxis": "y2"
        },
        {
         "alignmentgroup": "True",
         "hovertemplate": "product=Sesame Seed<br>season_name=Main<br>type=percent<br>year=%{x}<br>value=%{y}<extra></extra>",
         "legendgroup": "Sesame Seed",
         "marker": {
          "color": "#EF553B",
          "pattern": {
           "shape": ""
          }
         },
         "name": "Sesame Seed",
         "offsetgroup": "Sesame Seed",
         "orientation": "v",
         "showlegend": false,
         "textposition": "auto",
         "type": "bar",
         "x": [
          2002,
          2003,
          2005,
          2006,
          2007,
          2008,
          2015,
          2016,
          2017,
          2018,
          2019,
          2020,
          2021,
          2022
         ],
         "xaxis": "x",
         "y": [
          0.3423860591729317,
          0.6849372569371446,
          0.00549278351971423,
          0.37287985955372877,
          0.4563247872981565,
          0.9705565674543158,
          2.241710929067019,
          2.6969502788262023,
          2.7924215705650575,
          1.2323953884880758,
          2.736989413743416,
          4.272333498821706,
          4.670805547294164,
          4.800040214463531
         ],
         "yaxis": "y"
        },
        {
         "alignmentgroup": "True",
         "hovertemplate": "product=Soybean<br>season_name=Main<br>type=orig_unit<br>year=%{x}<br>value=%{y}<extra></extra>",
         "legendgroup": "Soybean",
         "marker": {
          "color": "#00cc96",
          "pattern": {
           "shape": ""
          }
         },
         "name": "Soybean",
         "offsetgroup": "Soybean",
         "orientation": "v",
         "showlegend": true,
         "textposition": "auto",
         "type": "bar",
         "x": [
          2015,
          2020
         ],
         "xaxis": "x2",
         "y": [
          33315,
          16503
         ],
         "yaxis": "y2"
        },
        {
         "alignmentgroup": "True",
         "hovertemplate": "product=Soybean<br>season_name=Main<br>type=percent<br>year=%{x}<br>value=%{y}<extra></extra>",
         "legendgroup": "Soybean",
         "marker": {
          "color": "#00cc96",
          "pattern": {
           "shape": ""
          }
         },
         "name": "Soybean",
         "offsetgroup": "Soybean",
         "orientation": "v",
         "showlegend": false,
         "textposition": "auto",
         "type": "bar",
         "x": [
          2015,
          2020
         ],
         "xaxis": "x",
         "y": [
          3.3957440822928993,
          0.5638791385903056
         ],
         "yaxis": "y"
        },
        {
         "alignmentgroup": "True",
         "hovertemplate": "product=Spanish peanut<br>season_name=Main<br>type=orig_unit<br>year=%{x}<br>value=%{y}<extra></extra>",
         "legendgroup": "Spanish peanut",
         "marker": {
          "color": "#ab63fa",
          "pattern": {
           "shape": ""
          }
         },
         "name": "Spanish peanut",
         "offsetgroup": "Spanish peanut",
         "orientation": "v",
         "showlegend": true,
         "textposition": "auto",
         "type": "bar",
         "x": [
          2002,
          2005,
          2006,
          2007,
          2008,
          2012,
          2014,
          2015,
          2016,
          2017,
          2018,
          2019,
          2020,
          2021,
          2022
         ],
         "xaxis": "x2",
         "y": [
          64359,
          58264,
          59895,
          70093,
          71168,
          88156,
          102133,
          4670,
          95381,
          91323,
          103651,
          115756,
          76029,
          77094,
          77063
         ],
         "yaxis": "y2"
        },
        {
         "alignmentgroup": "True",
         "hovertemplate": "product=Spanish peanut<br>season_name=Main<br>type=percent<br>year=%{x}<br>value=%{y}<extra></extra>",
         "legendgroup": "Spanish peanut",
         "marker": {
          "color": "#ab63fa",
          "pattern": {
           "shape": ""
          }
         },
         "name": "Spanish peanut",
         "offsetgroup": "Spanish peanut",
         "orientation": "v",
         "showlegend": false,
         "textposition": "auto",
         "type": "bar",
         "x": [
          2002,
          2005,
          2006,
          2007,
          2008,
          2012,
          2014,
          2015,
          2016,
          2017,
          2018,
          2019,
          2020,
          2021,
          2022
         ],
         "xaxis": "x",
         "y": [
          1.70185545121337,
          0.00702193125751777,
          1.2167605114666622,
          1.8168232499908936,
          1.9962593506716209,
          4.9678282459998035,
          4.192484946206986,
          0.47600554898117486,
          3.953429765391397,
          3.6759061765029077,
          1.719603338702514,
          3.9395059383910227,
          2.59778022346739,
          2.356478236642451,
          1.9664005095192942
         ],
         "yaxis": "y"
        },
        {
         "alignmentgroup": "True",
         "hovertemplate": "product=Sugarcane<br>season_name=Main<br>type=orig_unit<br>year=%{x}<br>value=%{y}<extra></extra>",
         "legendgroup": "Sugarcane",
         "marker": {
          "color": "#FFA15A",
          "pattern": {
           "shape": ""
          }
         },
         "name": "Sugarcane",
         "offsetgroup": "Sugarcane",
         "orientation": "v",
         "showlegend": true,
         "textposition": "auto",
         "type": "bar",
         "x": [
          1999
         ],
         "xaxis": "x2",
         "y": [
          114156
         ],
         "yaxis": "y2"
        },
        {
         "alignmentgroup": "True",
         "hovertemplate": "product=Sugarcane<br>season_name=Main<br>type=percent<br>year=%{x}<br>value=%{y}<extra></extra>",
         "legendgroup": "Sugarcane",
         "marker": {
          "color": "#FFA15A",
          "pattern": {
           "shape": ""
          }
         },
         "name": "Sugarcane",
         "offsetgroup": "Sugarcane",
         "orientation": "v",
         "showlegend": false,
         "textposition": "auto",
         "type": "bar",
         "x": [
          1999
         ],
         "xaxis": "x",
         "y": [
          9.823622957929738
         ],
         "yaxis": "y"
        },
        {
         "alignmentgroup": "True",
         "hovertemplate": "product=Sunflower Seed<br>season_name=Main<br>type=orig_unit<br>year=%{x}<br>value=%{y}<extra></extra>",
         "legendgroup": "Sunflower Seed",
         "marker": {
          "color": "#19d3f3",
          "pattern": {
           "shape": ""
          }
         },
         "name": "Sunflower Seed",
         "offsetgroup": "Sunflower Seed",
         "orientation": "v",
         "showlegend": true,
         "textposition": "auto",
         "type": "bar",
         "x": [
          2002,
          2003,
          2005,
          2006,
          2007,
          2008,
          2015,
          2016,
          2017,
          2018,
          2019,
          2020,
          2021,
          2022
         ],
         "xaxis": "x2",
         "y": [
          3357.9,
          3929,
          1061,
          2138,
          5957,
          3279,
          1007,
          4680,
          5264,
          5849,
          7333,
          4186,
          6740,
          5841
         ],
         "yaxis": "y2"
        },
        {
         "alignmentgroup": "True",
         "hovertemplate": "product=Sunflower Seed<br>season_name=Main<br>type=percent<br>year=%{x}<br>value=%{y}<extra></extra>",
         "legendgroup": "Sunflower Seed",
         "marker": {
          "color": "#19d3f3",
          "pattern": {
           "shape": ""
          }
         },
         "name": "Sunflower Seed",
         "offsetgroup": "Sunflower Seed",
         "orientation": "v",
         "showlegend": false,
         "textposition": "auto",
         "type": "bar",
         "x": [
          2002,
          2003,
          2005,
          2006,
          2007,
          2008,
          2015,
          2016,
          2017,
          2018,
          2019,
          2020,
          2021,
          2022
         ],
         "xaxis": "x",
         "y": [
          0.08879349305659465,
          0.1067988920750076,
          0.0001278708819206775,
          0.04343324106379036,
          0.15440651848538017,
          0.0919758095050057,
          0.10264188176103706,
          0.1939804709746358,
          0.21188495902578,
          0.09703678621596518,
          0.24956284811345733,
          0.14302842356777673,
          0.20601685364581057,
          0.14904357961800344
         ],
         "yaxis": "y"
        },
        {
         "alignmentgroup": "True",
         "hovertemplate": "product=Sweet Potatoes (Non-Orange)<br>season_name=Main<br>type=orig_unit<br>year=%{x}<br>value=%{y}<extra></extra>",
         "legendgroup": "Sweet Potatoes (Non-Orange)",
         "marker": {
          "color": "#FF6692",
          "pattern": {
           "shape": ""
          }
         },
         "name": "Sweet Potatoes (Non-Orange)",
         "offsetgroup": "Sweet Potatoes (Non-Orange)",
         "orientation": "v",
         "showlegend": true,
         "textposition": "auto",
         "type": "bar",
         "x": [
          2005,
          2006,
          2007,
          2008,
          2015,
          2016,
          2017,
          2018,
          2019,
          2020,
          2021,
          2022
         ],
         "xaxis": "x2",
         "y": [
          322265.586,
          577006.294,
          577500.565,
          458450.7343,
          264715,
          354123,
          425722,
          390605,
          399615,
          303246,
          334841,
          344886
         ],
         "yaxis": "y2"
        },
        {
         "alignmentgroup": "True",
         "hovertemplate": "product=Sweet Potatoes (Non-Orange)<br>season_name=Main<br>type=percent<br>year=%{x}<br>value=%{y}<extra></extra>",
         "legendgroup": "Sweet Potatoes (Non-Orange)",
         "marker": {
          "color": "#FF6692",
          "pattern": {
           "shape": ""
          }
         },
         "name": "Sweet Potatoes (Non-Orange)",
         "offsetgroup": "Sweet Potatoes (Non-Orange)",
         "orientation": "v",
         "showlegend": false,
         "textposition": "auto",
         "type": "bar",
         "x": [
          2005,
          2006,
          2007,
          2008,
          2015,
          2016,
          2017,
          2018,
          2019,
          2020,
          2021,
          2022
         ],
         "xaxis": "x",
         "y": [
          0.03883919386852398,
          11.721821077000138,
          14.968919198420345,
          12.859523453920946,
          26.981971926884736,
          14.67797998353653,
          17.13603505440219,
          6.480262246518563,
          13.60003512189544,
          10.361394489544677,
          10.234850043266595,
          8.800384180814026
         ],
         "yaxis": "y"
        },
        {
         "alignmentgroup": "True",
         "hovertemplate": "product=Sweet Potatoes (Orange)<br>season_name=Main<br>type=orig_unit<br>year=%{x}<br>value=%{y}<extra></extra>",
         "legendgroup": "Sweet Potatoes (Orange)",
         "marker": {
          "color": "#B6E880",
          "pattern": {
           "shape": ""
          }
         },
         "name": "Sweet Potatoes (Orange)",
         "offsetgroup": "Sweet Potatoes (Orange)",
         "orientation": "v",
         "showlegend": true,
         "textposition": "auto",
         "type": "bar",
         "x": [
          2002,
          2005,
          2006,
          2007,
          2008,
          2012,
          2014,
          2015,
          2016,
          2017,
          2018,
          2019,
          2020,
          2021,
          2022
         ],
         "xaxis": "x2",
         "y": [
          456337,
          28580.6,
          64221.6,
          77089.4,
          102351,
          1038,
          8578,
          125691,
          96999,
          84331,
          96641,
          107770,
          145387,
          160536,
          165351
         ],
         "yaxis": "y2"
        },
        {
         "alignmentgroup": "True",
         "hovertemplate": "product=Sweet Potatoes (Orange)<br>season_name=Main<br>type=percent<br>year=%{x}<br>value=%{y}<extra></extra>",
         "legendgroup": "Sweet Potatoes (Orange)",
         "marker": {
          "color": "#B6E880",
          "pattern": {
           "shape": ""
          }
         },
         "name": "Sweet Potatoes (Orange)",
         "offsetgroup": "Sweet Potatoes (Orange)",
         "orientation": "v",
         "showlegend": false,
         "textposition": "auto",
         "type": "bar",
         "x": [
          2002,
          2005,
          2006,
          2007,
          2008,
          2012,
          2014,
          2015,
          2016,
          2017,
          2018,
          2019,
          2020,
          2021,
          2022
         ],
         "xaxis": "x",
         "y": [
          12.06699313290069,
          0.003444511336307366,
          1.3046549271760144,
          1.9981712046545017,
          2.8709411645766507,
          0.05849409818217474,
          0.3521206257386303,
          12.811480397643008,
          4.020493953860833,
          3.394466276520337,
          1.6033051900661806,
          3.6677196428729437,
          4.967623845496501,
          4.906991337816594,
          4.219227004522596
         ],
         "yaxis": "y"
        },
        {
         "alignmentgroup": "True",
         "hovertemplate": "product=Tobacco<br>season_name=Main<br>type=orig_unit<br>year=%{x}<br>value=%{y}<extra></extra>",
         "legendgroup": "Tobacco",
         "marker": {
          "color": "#FF97FF",
          "pattern": {
           "shape": ""
          }
         },
         "name": "Tobacco",
         "offsetgroup": "Tobacco",
         "orientation": "v",
         "showlegend": true,
         "textposition": "auto",
         "type": "bar",
         "x": [
          2002,
          2003,
          2005,
          2006,
          2007,
          2008,
          2015,
          2016,
          2017,
          2018,
          2019,
          2020,
          2021,
          2022
         ],
         "xaxis": "x2",
         "y": [
          38391,
          51131,
          80842,
          93065,
          33595,
          46261,
          35591,
          98369,
          106758,
          115148,
          142042,
          80897,
          82515,
          77902
         ],
         "yaxis": "y2"
        },
        {
         "alignmentgroup": "True",
         "hovertemplate": "product=Tobacco<br>season_name=Main<br>type=percent<br>year=%{x}<br>value=%{y}<extra></extra>",
         "legendgroup": "Tobacco",
         "marker": {
          "color": "#FF97FF",
          "pattern": {
           "shape": ""
          }
         },
         "name": "Tobacco",
         "offsetgroup": "Tobacco",
         "orientation": "v",
         "showlegend": false,
         "textposition": "auto",
         "type": "bar",
         "x": [
          2002,
          2003,
          2005,
          2006,
          2007,
          2008,
          2015,
          2016,
          2017,
          2018,
          2019,
          2020,
          2021,
          2022
         ],
         "xaxis": "x",
         "y": [
          1.015179425216869,
          1.3898534361637092,
          0.009743013983252979,
          1.8906055096359449,
          0.8707884822085525,
          1.297619067859429,
          3.627733082181797,
          4.077278835321357,
          4.297191195986745,
          1.9103422566585666,
          4.834093286749177,
          2.7641114145634096,
          2.522178142223154,
          1.9878090976548028
         ],
         "yaxis": "y"
        },
        {
         "alignmentgroup": "True",
         "hovertemplate": "product=Virginia peanut<br>season_name=Main<br>type=orig_unit<br>year=%{x}<br>value=%{y}<extra></extra>",
         "legendgroup": "Virginia peanut",
         "marker": {
          "color": "#FECB52",
          "pattern": {
           "shape": ""
          }
         },
         "name": "Virginia peanut",
         "offsetgroup": "Virginia peanut",
         "orientation": "v",
         "showlegend": true,
         "textposition": "auto",
         "type": "bar",
         "x": [
          2002,
          2003,
          2005,
          2006,
          2007,
          2008,
          2012,
          2013,
          2014,
          2015,
          2016,
          2017,
          2018,
          2019,
          2020,
          2021,
          2022
         ],
         "xaxis": "x2",
         "y": [
          37715,
          87464,
          27410,
          24726,
          31220,
          31028,
          24756,
          33210,
          37992,
          8047,
          21373,
          20580,
          19789,
          35466,
          26929,
          34829,
          34817
         ],
         "yaxis": "y2"
        },
        {
         "alignmentgroup": "True",
         "hovertemplate": "product=Virginia peanut<br>season_name=Main<br>type=percent<br>year=%{x}<br>value=%{y}<extra></extra>",
         "legendgroup": "Virginia peanut",
         "marker": {
          "color": "#FECB52",
          "pattern": {
           "shape": ""
          }
         },
         "name": "Virginia peanut",
         "offsetgroup": "Virginia peanut",
         "orientation": "v",
         "showlegend": false,
         "textposition": "auto",
         "type": "bar",
         "x": [
          2002,
          2003,
          2005,
          2006,
          2007,
          2008,
          2012,
          2013,
          2014,
          2015,
          2016,
          2017,
          2018,
          2019,
          2020,
          2021,
          2022
         ],
         "xaxis": "x",
         "y": [
          0.9973038478303305,
          2.3774645702337653,
          0.0033034315489592556,
          0.5023060423495231,
          0.8092280522265519,
          0.8703340705462995,
          1.3950673358361443,
          100,
          1.5595438112685989,
          0.8202176986405811,
          0.8858855996027546,
          0.8283800259784485,
          0.32830585782659166,
          1.2070088601107156,
          0.9201176345572526,
          1.0645936195296641,
          0.8884181324362309
         ],
         "yaxis": "y"
        },
        {
         "alignmentgroup": "True",
         "hovertemplate": "product=Wheat<br>season_name=Main<br>type=orig_unit<br>year=%{x}<br>value=%{y}<extra></extra>",
         "legendgroup": "Wheat",
         "marker": {
          "color": "#636efa",
          "pattern": {
           "shape": ""
          }
         },
         "name": "Wheat",
         "offsetgroup": "Wheat",
         "orientation": "v",
         "showlegend": true,
         "textposition": "auto",
         "type": "bar",
         "x": [
          2018
         ],
         "xaxis": "x2",
         "y": [
          10580
         ],
         "yaxis": "y2"
        },
        {
         "alignmentgroup": "True",
         "hovertemplate": "product=Wheat<br>season_name=Main<br>type=percent<br>year=%{x}<br>value=%{y}<extra></extra>",
         "legendgroup": "Wheat",
         "marker": {
          "color": "#636efa",
          "pattern": {
           "shape": ""
          }
         },
         "name": "Wheat",
         "offsetgroup": "Wheat",
         "orientation": "v",
         "showlegend": false,
         "textposition": "auto",
         "type": "bar",
         "x": [
          2018
         ],
         "xaxis": "x",
         "y": [
          0.17552559380490876
         ],
         "yaxis": "y"
        }
       ],
       "layout": {
        "annotations": [
         {
          "showarrow": false,
          "text": "",
          "textangle": 90,
          "x": 0.98,
          "xanchor": "left",
          "xref": "paper",
          "y": 0.2375,
          "yanchor": "middle",
          "yref": "paper"
         },
         {
          "showarrow": false,
          "text": "",
          "textangle": 90,
          "x": 0.98,
          "xanchor": "left",
          "xref": "paper",
          "y": 0.7625,
          "yanchor": "middle",
          "yref": "paper"
         },
         {
          "align": "left",
          "font": {
           "color": "dimgrey",
           "family": "arial",
           "size": 15
          },
          "showarrow": false,
          "text": "National crop production in Mozambique - Main",
          "x": 0,
          "xref": "paper",
          "y": -0.13,
          "yref": "paper"
         }
        ],
        "barmode": "relative",
        "font": {
         "color": "black",
         "family": "arial",
         "size": 15
        },
        "height": 600,
        "legend": {
         "title": {
          "text": "Product"
         },
         "tracegroupgap": 0,
         "x": 1,
         "y": 1.01
        },
        "margin": {
         "b": 0,
         "l": 0,
         "r": 0,
         "t": 0
        },
        "template": {
         "data": {
          "bar": [
           {
            "error_x": {
             "color": "#2a3f5f"
            },
            "error_y": {
             "color": "#2a3f5f"
            },
            "marker": {
             "line": {
              "color": "#E5ECF6",
              "width": 0.5
             },
             "pattern": {
              "fillmode": "overlay",
              "size": 10,
              "solidity": 0.2
             }
            },
            "type": "bar"
           }
          ],
          "barpolar": [
           {
            "marker": {
             "line": {
              "color": "#E5ECF6",
              "width": 0.5
             },
             "pattern": {
              "fillmode": "overlay",
              "size": 10,
              "solidity": 0.2
             }
            },
            "type": "barpolar"
           }
          ],
          "carpet": [
           {
            "aaxis": {
             "endlinecolor": "#2a3f5f",
             "gridcolor": "white",
             "linecolor": "white",
             "minorgridcolor": "white",
             "startlinecolor": "#2a3f5f"
            },
            "baxis": {
             "endlinecolor": "#2a3f5f",
             "gridcolor": "white",
             "linecolor": "white",
             "minorgridcolor": "white",
             "startlinecolor": "#2a3f5f"
            },
            "type": "carpet"
           }
          ],
          "choropleth": [
           {
            "colorbar": {
             "outlinewidth": 0,
             "ticks": ""
            },
            "type": "choropleth"
           }
          ],
          "contour": [
           {
            "colorbar": {
             "outlinewidth": 0,
             "ticks": ""
            },
            "colorscale": [
             [
              0,
              "#0d0887"
             ],
             [
              0.1111111111111111,
              "#46039f"
             ],
             [
              0.2222222222222222,
              "#7201a8"
             ],
             [
              0.3333333333333333,
              "#9c179e"
             ],
             [
              0.4444444444444444,
              "#bd3786"
             ],
             [
              0.5555555555555556,
              "#d8576b"
             ],
             [
              0.6666666666666666,
              "#ed7953"
             ],
             [
              0.7777777777777778,
              "#fb9f3a"
             ],
             [
              0.8888888888888888,
              "#fdca26"
             ],
             [
              1,
              "#f0f921"
             ]
            ],
            "type": "contour"
           }
          ],
          "contourcarpet": [
           {
            "colorbar": {
             "outlinewidth": 0,
             "ticks": ""
            },
            "type": "contourcarpet"
           }
          ],
          "heatmap": [
           {
            "colorbar": {
             "outlinewidth": 0,
             "ticks": ""
            },
            "colorscale": [
             [
              0,
              "#0d0887"
             ],
             [
              0.1111111111111111,
              "#46039f"
             ],
             [
              0.2222222222222222,
              "#7201a8"
             ],
             [
              0.3333333333333333,
              "#9c179e"
             ],
             [
              0.4444444444444444,
              "#bd3786"
             ],
             [
              0.5555555555555556,
              "#d8576b"
             ],
             [
              0.6666666666666666,
              "#ed7953"
             ],
             [
              0.7777777777777778,
              "#fb9f3a"
             ],
             [
              0.8888888888888888,
              "#fdca26"
             ],
             [
              1,
              "#f0f921"
             ]
            ],
            "type": "heatmap"
           }
          ],
          "heatmapgl": [
           {
            "colorbar": {
             "outlinewidth": 0,
             "ticks": ""
            },
            "colorscale": [
             [
              0,
              "#0d0887"
             ],
             [
              0.1111111111111111,
              "#46039f"
             ],
             [
              0.2222222222222222,
              "#7201a8"
             ],
             [
              0.3333333333333333,
              "#9c179e"
             ],
             [
              0.4444444444444444,
              "#bd3786"
             ],
             [
              0.5555555555555556,
              "#d8576b"
             ],
             [
              0.6666666666666666,
              "#ed7953"
             ],
             [
              0.7777777777777778,
              "#fb9f3a"
             ],
             [
              0.8888888888888888,
              "#fdca26"
             ],
             [
              1,
              "#f0f921"
             ]
            ],
            "type": "heatmapgl"
           }
          ],
          "histogram": [
           {
            "marker": {
             "pattern": {
              "fillmode": "overlay",
              "size": 10,
              "solidity": 0.2
             }
            },
            "type": "histogram"
           }
          ],
          "histogram2d": [
           {
            "colorbar": {
             "outlinewidth": 0,
             "ticks": ""
            },
            "colorscale": [
             [
              0,
              "#0d0887"
             ],
             [
              0.1111111111111111,
              "#46039f"
             ],
             [
              0.2222222222222222,
              "#7201a8"
             ],
             [
              0.3333333333333333,
              "#9c179e"
             ],
             [
              0.4444444444444444,
              "#bd3786"
             ],
             [
              0.5555555555555556,
              "#d8576b"
             ],
             [
              0.6666666666666666,
              "#ed7953"
             ],
             [
              0.7777777777777778,
              "#fb9f3a"
             ],
             [
              0.8888888888888888,
              "#fdca26"
             ],
             [
              1,
              "#f0f921"
             ]
            ],
            "type": "histogram2d"
           }
          ],
          "histogram2dcontour": [
           {
            "colorbar": {
             "outlinewidth": 0,
             "ticks": ""
            },
            "colorscale": [
             [
              0,
              "#0d0887"
             ],
             [
              0.1111111111111111,
              "#46039f"
             ],
             [
              0.2222222222222222,
              "#7201a8"
             ],
             [
              0.3333333333333333,
              "#9c179e"
             ],
             [
              0.4444444444444444,
              "#bd3786"
             ],
             [
              0.5555555555555556,
              "#d8576b"
             ],
             [
              0.6666666666666666,
              "#ed7953"
             ],
             [
              0.7777777777777778,
              "#fb9f3a"
             ],
             [
              0.8888888888888888,
              "#fdca26"
             ],
             [
              1,
              "#f0f921"
             ]
            ],
            "type": "histogram2dcontour"
           }
          ],
          "mesh3d": [
           {
            "colorbar": {
             "outlinewidth": 0,
             "ticks": ""
            },
            "type": "mesh3d"
           }
          ],
          "parcoords": [
           {
            "line": {
             "colorbar": {
              "outlinewidth": 0,
              "ticks": ""
             }
            },
            "type": "parcoords"
           }
          ],
          "pie": [
           {
            "automargin": true,
            "type": "pie"
           }
          ],
          "scatter": [
           {
            "fillpattern": {
             "fillmode": "overlay",
             "size": 10,
             "solidity": 0.2
            },
            "type": "scatter"
           }
          ],
          "scatter3d": [
           {
            "line": {
             "colorbar": {
              "outlinewidth": 0,
              "ticks": ""
             }
            },
            "marker": {
             "colorbar": {
              "outlinewidth": 0,
              "ticks": ""
             }
            },
            "type": "scatter3d"
           }
          ],
          "scattercarpet": [
           {
            "marker": {
             "colorbar": {
              "outlinewidth": 0,
              "ticks": ""
             }
            },
            "type": "scattercarpet"
           }
          ],
          "scattergeo": [
           {
            "marker": {
             "colorbar": {
              "outlinewidth": 0,
              "ticks": ""
             }
            },
            "type": "scattergeo"
           }
          ],
          "scattergl": [
           {
            "marker": {
             "colorbar": {
              "outlinewidth": 0,
              "ticks": ""
             }
            },
            "type": "scattergl"
           }
          ],
          "scattermapbox": [
           {
            "marker": {
             "colorbar": {
              "outlinewidth": 0,
              "ticks": ""
             }
            },
            "type": "scattermapbox"
           }
          ],
          "scatterpolar": [
           {
            "marker": {
             "colorbar": {
              "outlinewidth": 0,
              "ticks": ""
             }
            },
            "type": "scatterpolar"
           }
          ],
          "scatterpolargl": [
           {
            "marker": {
             "colorbar": {
              "outlinewidth": 0,
              "ticks": ""
             }
            },
            "type": "scatterpolargl"
           }
          ],
          "scatterternary": [
           {
            "marker": {
             "colorbar": {
              "outlinewidth": 0,
              "ticks": ""
             }
            },
            "type": "scatterternary"
           }
          ],
          "surface": [
           {
            "colorbar": {
             "outlinewidth": 0,
             "ticks": ""
            },
            "colorscale": [
             [
              0,
              "#0d0887"
             ],
             [
              0.1111111111111111,
              "#46039f"
             ],
             [
              0.2222222222222222,
              "#7201a8"
             ],
             [
              0.3333333333333333,
              "#9c179e"
             ],
             [
              0.4444444444444444,
              "#bd3786"
             ],
             [
              0.5555555555555556,
              "#d8576b"
             ],
             [
              0.6666666666666666,
              "#ed7953"
             ],
             [
              0.7777777777777778,
              "#fb9f3a"
             ],
             [
              0.8888888888888888,
              "#fdca26"
             ],
             [
              1,
              "#f0f921"
             ]
            ],
            "type": "surface"
           }
          ],
          "table": [
           {
            "cells": {
             "fill": {
              "color": "#EBF0F8"
             },
             "line": {
              "color": "white"
             }
            },
            "header": {
             "fill": {
              "color": "#C8D4E3"
             },
             "line": {
              "color": "white"
             }
            },
            "type": "table"
           }
          ]
         },
         "layout": {
          "annotationdefaults": {
           "arrowcolor": "#2a3f5f",
           "arrowhead": 0,
           "arrowwidth": 1
          },
          "autotypenumbers": "strict",
          "coloraxis": {
           "colorbar": {
            "outlinewidth": 0,
            "ticks": ""
           }
          },
          "colorscale": {
           "diverging": [
            [
             0,
             "#8e0152"
            ],
            [
             0.1,
             "#c51b7d"
            ],
            [
             0.2,
             "#de77ae"
            ],
            [
             0.3,
             "#f1b6da"
            ],
            [
             0.4,
             "#fde0ef"
            ],
            [
             0.5,
             "#f7f7f7"
            ],
            [
             0.6,
             "#e6f5d0"
            ],
            [
             0.7,
             "#b8e186"
            ],
            [
             0.8,
             "#7fbc41"
            ],
            [
             0.9,
             "#4d9221"
            ],
            [
             1,
             "#276419"
            ]
           ],
           "sequential": [
            [
             0,
             "#0d0887"
            ],
            [
             0.1111111111111111,
             "#46039f"
            ],
            [
             0.2222222222222222,
             "#7201a8"
            ],
            [
             0.3333333333333333,
             "#9c179e"
            ],
            [
             0.4444444444444444,
             "#bd3786"
            ],
            [
             0.5555555555555556,
             "#d8576b"
            ],
            [
             0.6666666666666666,
             "#ed7953"
            ],
            [
             0.7777777777777778,
             "#fb9f3a"
            ],
            [
             0.8888888888888888,
             "#fdca26"
            ],
            [
             1,
             "#f0f921"
            ]
           ],
           "sequentialminus": [
            [
             0,
             "#0d0887"
            ],
            [
             0.1111111111111111,
             "#46039f"
            ],
            [
             0.2222222222222222,
             "#7201a8"
            ],
            [
             0.3333333333333333,
             "#9c179e"
            ],
            [
             0.4444444444444444,
             "#bd3786"
            ],
            [
             0.5555555555555556,
             "#d8576b"
            ],
            [
             0.6666666666666666,
             "#ed7953"
            ],
            [
             0.7777777777777778,
             "#fb9f3a"
            ],
            [
             0.8888888888888888,
             "#fdca26"
            ],
            [
             1,
             "#f0f921"
            ]
           ]
          },
          "colorway": [
           "#636efa",
           "#EF553B",
           "#00cc96",
           "#ab63fa",
           "#FFA15A",
           "#19d3f3",
           "#FF6692",
           "#B6E880",
           "#FF97FF",
           "#FECB52"
          ],
          "font": {
           "color": "#2a3f5f"
          },
          "geo": {
           "bgcolor": "white",
           "lakecolor": "white",
           "landcolor": "#E5ECF6",
           "showlakes": true,
           "showland": true,
           "subunitcolor": "white"
          },
          "hoverlabel": {
           "align": "left"
          },
          "hovermode": "closest",
          "mapbox": {
           "style": "light"
          },
          "paper_bgcolor": "white",
          "plot_bgcolor": "#E5ECF6",
          "polar": {
           "angularaxis": {
            "gridcolor": "white",
            "linecolor": "white",
            "ticks": ""
           },
           "bgcolor": "#E5ECF6",
           "radialaxis": {
            "gridcolor": "white",
            "linecolor": "white",
            "ticks": ""
           }
          },
          "scene": {
           "xaxis": {
            "backgroundcolor": "#E5ECF6",
            "gridcolor": "white",
            "gridwidth": 2,
            "linecolor": "white",
            "showbackground": true,
            "ticks": "",
            "zerolinecolor": "white"
           },
           "yaxis": {
            "backgroundcolor": "#E5ECF6",
            "gridcolor": "white",
            "gridwidth": 2,
            "linecolor": "white",
            "showbackground": true,
            "ticks": "",
            "zerolinecolor": "white"
           },
           "zaxis": {
            "backgroundcolor": "#E5ECF6",
            "gridcolor": "white",
            "gridwidth": 2,
            "linecolor": "white",
            "showbackground": true,
            "ticks": "",
            "zerolinecolor": "white"
           }
          },
          "shapedefaults": {
           "line": {
            "color": "#2a3f5f"
           }
          },
          "ternary": {
           "aaxis": {
            "gridcolor": "white",
            "linecolor": "white",
            "ticks": ""
           },
           "baxis": {
            "gridcolor": "white",
            "linecolor": "white",
            "ticks": ""
           },
           "bgcolor": "#E5ECF6",
           "caxis": {
            "gridcolor": "white",
            "linecolor": "white",
            "ticks": ""
           }
          },
          "title": {
           "x": 0.05
          },
          "xaxis": {
           "automargin": true,
           "gridcolor": "white",
           "linecolor": "white",
           "ticks": "",
           "title": {
            "standoff": 15
           },
           "zerolinecolor": "white",
           "zerolinewidth": 2
          },
          "yaxis": {
           "automargin": true,
           "gridcolor": "white",
           "linecolor": "white",
           "ticks": "",
           "title": {
            "standoff": 15
           },
           "zerolinecolor": "white",
           "zerolinewidth": 2
          }
         }
        },
        "width": 900,
        "xaxis": {
         "anchor": "y",
         "domain": [
          0,
          0.98
         ],
         "dtick": 1,
         "range": [
          1998.5,
          2022.5
         ],
         "title": {
          "text": ""
         }
        },
        "xaxis2": {
         "anchor": "y2",
         "domain": [
          0,
          0.98
         ],
         "matches": "x",
         "showticklabels": false
        },
        "yaxis": {
         "anchor": "x",
         "domain": [
          0,
          0.475
         ],
         "range": [
          0,
          100
         ],
         "title": {
          "text": "Production (%)"
         }
        },
        "yaxis2": {
         "anchor": "x2",
         "domain": [
          0.525,
          1
         ],
         "title": {
          "text": "Production (t)"
         }
        }
       }
      }
     },
     "metadata": {},
     "output_type": "display_data"
    }
   ],
   "source": [
    "# Bar chart of national crop production\n",
    "country_iso, country_name = 'MZ', 'Mozambique'\n",
    "df = pd.read_csv('../data/crop/adm_crop_production_%s.csv' % country_iso, index_col=0)\n",
    "df['year'] = df['harvest_year']\n",
    "year = [df['year'].min(), df['year'].max()]\n",
    "product_order = ['Cassava','Sweet Potatoes','Maize Grain (White)','Sorghum']\n",
    "for season_name in ['Main']:\n",
    "    footnote = 'National crop production in %s - %s' % (country_name, season_name)\n",
    "    fn_save = '../figures/%s_bar_natgrainprod_%s.png' % (country_iso, season_name)\n",
    "    sub = df[df['season_name'] == season_name]\n",
    "    fig = PlotBarProduction(sub, year, product_order, footnote, fn_save)\n",
    "    fig.show()"
   ]
  },
  {
   "cell_type": "code",
   "execution_count": 8,
   "id": "ccb7fdc2-515d-4d5d-a437-369dd25bc884",
   "metadata": {},
   "outputs": [
    {
     "name": "stdout",
     "output_type": "stream",
     "text": [
      "../figures/MZ_line_pay_Cassava_Annual.png is saved.\n"
     ]
    },
    {
     "data": {
      "application/vnd.plotly.v1+json": {
       "config": {
        "plotlyServerURL": "https://plot.ly"
       },
       "data": [
        {
         "connectgaps": false,
         "hovertemplate": "fnid=MZ2021A101<br>indicator=production<br>year=%{x}<br>value=%{y}<extra></extra>",
         "legendgroup": "MZ2021A101",
         "line": {
          "color": "#636efa",
          "dash": "solid"
         },
         "marker": {
          "symbol": "circle"
         },
         "mode": "lines+markers",
         "name": "MZ2021A101",
         "orientation": "v",
         "showlegend": true,
         "type": "scatter",
         "x": [
          1999,
          2000,
          2001,
          2002,
          2003,
          2004,
          2005,
          2006,
          2007,
          2008,
          2009,
          2010,
          2011,
          2012,
          2013,
          2014,
          2015,
          2016,
          2017,
          2018,
          2019,
          2020,
          2021,
          2022
         ],
         "xaxis": "x3",
         "y": [
          null,
          811700.66943124,
          1011021.5888863,
          1634327.48062368,
          1203283.64194132,
          1236647.4878019,
          1303215,
          902826,
          445609,
          310574,
          1681167,
          1752122,
          1784446,
          662125,
          null,
          397277,
          730055,
          657344,
          735292,
          752239,
          799686,
          526288,
          543099,
          556868
         ],
         "yaxis": "y3"
        },
        {
         "connectgaps": false,
         "hovertemplate": "fnid=MZ2021A101<br>indicator=area<br>year=%{x}<br>value=%{y}<extra></extra>",
         "legendgroup": "MZ2021A101",
         "line": {
          "color": "#636efa",
          "dash": "solid"
         },
         "marker": {
          "symbol": "circle"
         },
         "mode": "lines+markers",
         "name": "MZ2021A101",
         "orientation": "v",
         "showlegend": false,
         "type": "scatter",
         "x": [
          1999,
          2000,
          2001,
          2002,
          2003,
          2004,
          2005,
          2006,
          2007,
          2008,
          2009,
          2010,
          2011,
          2012,
          2013,
          2014,
          2015,
          2016,
          2017,
          2018,
          2019,
          2020,
          2021,
          2022
         ],
         "xaxis": "x2",
         "y": [
          null,
          137576.38464936,
          165741.24407972,
          168458.99701903,
          171897.66313447,
          null,
          154800,
          119800,
          141900,
          113600,
          197379.04249933,
          112727,
          null,
          86100,
          null,
          105100,
          97725,
          94391,
          90651,
          91911,
          92836,
          41519,
          42557,
          68004
         ],
         "yaxis": "y2"
        },
        {
         "connectgaps": false,
         "hovertemplate": "fnid=MZ2021A101<br>indicator=yield<br>year=%{x}<br>value=%{y}<extra></extra>",
         "legendgroup": "MZ2021A101",
         "line": {
          "color": "#636efa",
          "dash": "solid"
         },
         "marker": {
          "symbol": "circle"
         },
         "mode": "lines+markers",
         "name": "MZ2021A101",
         "orientation": "v",
         "showlegend": false,
         "type": "scatter",
         "x": [
          1999,
          2000,
          2001,
          2002,
          2003,
          2004,
          2005,
          2006,
          2007,
          2008,
          2009,
          2010,
          2011,
          2012,
          2013,
          2014,
          2015,
          2016,
          2017,
          2018,
          2019,
          2020,
          2021,
          2022
         ],
         "xaxis": "x",
         "y": [
          null,
          5.900000000000116,
          6.1000000000000485,
          9.701633688576798,
          7.000000000000174,
          null,
          8.418701550387597,
          7.536110183639399,
          3.14030303030303,
          2.7339260563380283,
          8.51745443037959,
          15.543055346101644,
          null,
          7.690185830429733,
          null,
          3.779990485252141,
          7.470503965208493,
          6.96405377631342,
          8.111239809820079,
          8.184428414444408,
          8.61396441035805,
          12.675835159806354,
          12.761684329252532,
          8.188753602729252
         ],
         "yaxis": "y"
        },
        {
         "connectgaps": false,
         "hovertemplate": "fnid=MZ2021A102<br>indicator=production<br>year=%{x}<br>value=%{y}<extra></extra>",
         "legendgroup": "MZ2021A102",
         "line": {
          "color": "#EF553B",
          "dash": "solid"
         },
         "marker": {
          "symbol": "circle"
         },
         "mode": "lines+markers",
         "name": "MZ2021A102",
         "orientation": "v",
         "showlegend": true,
         "type": "scatter",
         "x": [
          1999,
          2000,
          2001,
          2002,
          2003,
          2004,
          2005,
          2006,
          2007,
          2008,
          2009,
          2010,
          2011,
          2012,
          2013,
          2014,
          2015,
          2016,
          2017,
          2018,
          2019,
          2020,
          2021,
          2022
         ],
         "xaxis": "x3",
         "y": [
          null,
          143338.6638612,
          200192.56521651,
          269244,
          123176.16539059,
          195661.86848291,
          411810,
          244857,
          156150,
          105414,
          268410,
          275494,
          293395,
          147873,
          null,
          180657,
          115900,
          156187,
          162711,
          179235,
          190593,
          173993,
          179551,
          184103
         ],
         "yaxis": "y3"
        },
        {
         "connectgaps": false,
         "hovertemplate": "fnid=MZ2021A102<br>indicator=area<br>year=%{x}<br>value=%{y}<extra></extra>",
         "legendgroup": "MZ2021A102",
         "line": {
          "color": "#EF553B",
          "dash": "solid"
         },
         "marker": {
          "symbol": "circle"
         },
         "mode": "lines+markers",
         "name": "MZ2021A102",
         "orientation": "v",
         "showlegend": false,
         "type": "scatter",
         "x": [
          1999,
          2000,
          2001,
          2002,
          2003,
          2004,
          2005,
          2006,
          2007,
          2008,
          2009,
          2010,
          2011,
          2012,
          2013,
          2014,
          2015,
          2016,
          2017,
          2018,
          2019,
          2020,
          2021,
          2022
         ],
         "xaxis": "x2",
         "y": [
          null,
          29252.7885431,
          36605.12904832,
          42400,
          30635.94134765,
          39003.44569658,
          50400,
          31300,
          40500,
          41900,
          41709.43229841,
          50347,
          null,
          28500,
          null,
          40200,
          19935,
          27536,
          26016,
          24496,
          24763,
          40097,
          41099,
          65674
         ],
         "yaxis": "y2"
        },
        {
         "connectgaps": false,
         "hovertemplate": "fnid=MZ2021A102<br>indicator=yield<br>year=%{x}<br>value=%{y}<extra></extra>",
         "legendgroup": "MZ2021A102",
         "line": {
          "color": "#EF553B",
          "dash": "solid"
         },
         "marker": {
          "symbol": "circle"
         },
         "mode": "lines+markers",
         "name": "MZ2021A102",
         "orientation": "v",
         "showlegend": false,
         "type": "scatter",
         "x": [
          1999,
          2000,
          2001,
          2002,
          2003,
          2004,
          2005,
          2006,
          2007,
          2008,
          2009,
          2010,
          2011,
          2012,
          2013,
          2014,
          2015,
          2016,
          2017,
          2018,
          2019,
          2020,
          2021,
          2022
         ],
         "xaxis": "x",
         "y": [
          null,
          4.900000000000342,
          5.468975808069112,
          6.3500943396226415,
          4.020642421031352,
          5.016527770521222,
          8.170833333333333,
          7.822907348242811,
          3.855555555555555,
          2.5158472553699283,
          6.435235034599884,
          5.471904979442668,
          null,
          5.188526315789474,
          null,
          4.493955223880597,
          5.81389515926762,
          5.672101975595584,
          6.254266605166052,
          7.316908883082952,
          7.696684569720954,
          4.339302192183954,
          4.368743765055111,
          2.8032859274598776
         ],
         "yaxis": "y"
        },
        {
         "connectgaps": false,
         "hovertemplate": "fnid=MZ2021A103<br>indicator=production<br>year=%{x}<br>value=%{y}<extra></extra>",
         "legendgroup": "MZ2021A103",
         "line": {
          "color": "#00cc96",
          "dash": "solid"
         },
         "marker": {
          "symbol": "circle"
         },
         "mode": "lines+markers",
         "name": "MZ2021A103",
         "orientation": "v",
         "showlegend": true,
         "type": "scatter",
         "x": [
          1999,
          2000,
          2001,
          2002,
          2003,
          2004,
          2005,
          2006,
          2007,
          2008,
          2009,
          2010,
          2011,
          2012,
          2013,
          2014,
          2015,
          2016,
          2017,
          2018,
          2019,
          2020,
          2021,
          2022
         ],
         "xaxis": "x3",
         "y": [
          558858,
          295670.08068054,
          634552.21363533,
          1216732.2894605,
          347768.06643796,
          403034.85410362,
          1334019.45,
          1078966.05736746,
          483869,
          522306,
          577084,
          600388,
          627843,
          235414,
          null,
          416252,
          425180,
          738000,
          828615,
          985859,
          987181,
          251773,
          259815,
          266402
         ],
         "yaxis": "y3"
        },
        {
         "connectgaps": false,
         "hovertemplate": "fnid=MZ2021A103<br>indicator=area<br>year=%{x}<br>value=%{y}<extra></extra>",
         "legendgroup": "MZ2021A103",
         "line": {
          "color": "#00cc96",
          "dash": "solid"
         },
         "marker": {
          "symbol": "circle"
         },
         "mode": "lines+markers",
         "name": "MZ2021A103",
         "orientation": "v",
         "showlegend": false,
         "type": "scatter",
         "x": [
          1999,
          2000,
          2001,
          2002,
          2003,
          2004,
          2005,
          2006,
          2007,
          2008,
          2009,
          2010,
          2011,
          2012,
          2013,
          2014,
          2015,
          2016,
          2017,
          2018,
          2019,
          2020,
          2021,
          2022
         ],
         "xaxis": "x2",
         "y": [
          93143,
          60393.83279195,
          62267.0013368,
          63186.3778921,
          66909.32617392,
          69034.90948662,
          72276.72612332,
          73057.02617675,
          70644.30499077,
          74728.26419393,
          76735.27169532,
          119975,
          null,
          57700,
          null,
          62300,
          57353,
          44336,
          37612,
          30887,
          33620,
          30331,
          31089,
          49679
         ],
         "yaxis": "y2"
        },
        {
         "connectgaps": false,
         "hovertemplate": "fnid=MZ2021A103<br>indicator=yield<br>year=%{x}<br>value=%{y}<extra></extra>",
         "legendgroup": "MZ2021A103",
         "line": {
          "color": "#00cc96",
          "dash": "solid"
         },
         "marker": {
          "symbol": "circle"
         },
         "mode": "lines+markers",
         "name": "MZ2021A103",
         "orientation": "v",
         "showlegend": false,
         "type": "scatter",
         "x": [
          1999,
          2000,
          2001,
          2002,
          2003,
          2004,
          2005,
          2006,
          2007,
          2008,
          2009,
          2010,
          2011,
          2012,
          2013,
          2014,
          2015,
          2016,
          2017,
          2018,
          2019,
          2020,
          2021,
          2022
         ],
         "xaxis": "x",
         "y": [
          6,
          4.895699892058356,
          10.190826601767116,
          19.25624367230305,
          5.197602282438073,
          5.838131129609638,
          18.45710952269572,
          14.768819836124605,
          6.849370236754678,
          6.989403616341804,
          7.520452944916017,
          5.004275890810585,
          null,
          4.079965337954939,
          null,
          6.681412520064206,
          7.413387268320751,
          16.64561530133526,
          22.03060193555248,
          31.918250396606982,
          29.362908982748365,
          8.300847317925555,
          8.357135964489048,
          5.362467038386441
         ],
         "yaxis": "y"
        },
        {
         "connectgaps": false,
         "hovertemplate": "fnid=MZ2021A104<br>indicator=production<br>year=%{x}<br>value=%{y}<extra></extra>",
         "legendgroup": "MZ2021A104",
         "line": {
          "color": "#ab63fa",
          "dash": "solid"
         },
         "marker": {
          "symbol": "circle"
         },
         "mode": "lines+markers",
         "name": "MZ2021A104",
         "orientation": "v",
         "showlegend": true,
         "type": "scatter",
         "x": [
          1999,
          2000,
          2001,
          2002,
          2003,
          2004,
          2005,
          2006,
          2007,
          2008,
          2009,
          2010,
          2011,
          2012,
          2013,
          2014,
          2015,
          2016,
          2017,
          2018,
          2019,
          2020,
          2021,
          2022
         ],
         "xaxis": "x3",
         "y": [
          null,
          4904.308088,
          6553.19726841,
          214544.08633508,
          7682.59976843,
          8408.24184473,
          237976,
          408090.79480368,
          13933,
          14225,
          14611,
          15262,
          15894,
          203122,
          null,
          50440,
          210000,
          225184,
          238690,
          252195,
          265701,
          83830,
          86508,
          88701
         ],
         "yaxis": "y3"
        },
        {
         "connectgaps": false,
         "hovertemplate": "fnid=MZ2021A104<br>indicator=area<br>year=%{x}<br>value=%{y}<extra></extra>",
         "legendgroup": "MZ2021A104",
         "line": {
          "color": "#ab63fa",
          "dash": "solid"
         },
         "marker": {
          "symbol": "circle"
         },
         "mode": "lines+markers",
         "name": "MZ2021A104",
         "orientation": "v",
         "showlegend": false,
         "type": "scatter",
         "x": [
          1999,
          2000,
          2001,
          2002,
          2003,
          2004,
          2005,
          2006,
          2007,
          2008,
          2009,
          2010,
          2011,
          2012,
          2013,
          2014,
          2015,
          2016,
          2017,
          2018,
          2019,
          2020,
          2021,
          2022
         ],
         "xaxis": "x2",
         "y": [
          null,
          943.13617077,
          1260.23024393,
          1322.85677854,
          1319.61342352,
          1401.37364079,
          1442.07618133,
          2560.92751322,
          2521.33590922,
          2655.04411071,
          2748.89222967,
          2602,
          null,
          27000,
          null,
          15100,
          11198,
          14589,
          13640,
          12692,
          12743,
          10087,
          10339,
          16521
         ],
         "yaxis": "y2"
        },
        {
         "connectgaps": false,
         "hovertemplate": "fnid=MZ2021A104<br>indicator=yield<br>year=%{x}<br>value=%{y}<extra></extra>",
         "legendgroup": "MZ2021A104",
         "line": {
          "color": "#ab63fa",
          "dash": "solid"
         },
         "marker": {
          "symbol": "circle"
         },
         "mode": "lines+markers",
         "name": "MZ2021A104",
         "orientation": "v",
         "showlegend": false,
         "type": "scatter",
         "x": [
          1999,
          2000,
          2001,
          2002,
          2003,
          2004,
          2005,
          2006,
          2007,
          2008,
          2009,
          2010,
          2011,
          2012,
          2013,
          2014,
          2015,
          2016,
          2017,
          2018,
          2019,
          2020,
          2021,
          2022
         ],
         "xaxis": "x",
         "y": [
          null,
          5.199999999995758,
          5.19999999997937,
          162.18239934625902,
          5.821856334211171,
          5.999999999992864,
          165.0231819102089,
          159.35273165563527,
          5.526038775337282,
          5.35772642820462,
          5.315232020483403,
          5.865488086087625,
          null,
          7.523037037037037,
          null,
          3.3403973509933773,
          18.753348812287907,
          15.435190897251356,
          17.49926686217009,
          19.870390797352663,
          20.850741583614532,
          8.310696936651135,
          8.367153496469678,
          5.368984928273107
         ],
         "yaxis": "y"
        },
        {
         "connectgaps": false,
         "hovertemplate": "fnid=MZ2021A105<br>indicator=production<br>year=%{x}<br>value=%{y}<extra></extra>",
         "legendgroup": "MZ2021A105",
         "line": {
          "color": "#FFA15A",
          "dash": "solid"
         },
         "marker": {
          "symbol": "circle"
         },
         "mode": "lines+markers",
         "name": "MZ2021A105",
         "orientation": "v",
         "showlegend": true,
         "type": "scatter",
         "x": [
          1999,
          2000,
          2001,
          2002,
          2003,
          2004,
          2005,
          2006,
          2007,
          2008,
          2009,
          2010,
          2011,
          2012,
          2013,
          2014,
          2015,
          2016,
          2017,
          2018,
          2019,
          2020,
          2021,
          2022
         ],
         "xaxis": "x3",
         "y": [
          42518,
          17073.83730979,
          32685.13176269,
          29394.10717863,
          12725.15794863,
          25926.00625488,
          26732.7703756,
          30754.7351764,
          33393,
          36167,
          39294,
          44598,
          49001,
          72913,
          null,
          126175,
          212462,
          166303,
          185153,
          204002,
          222852,
          207784,
          214421,
          219857
         ],
         "yaxis": "y3"
        },
        {
         "connectgaps": false,
         "hovertemplate": "fnid=MZ2021A105<br>indicator=area<br>year=%{x}<br>value=%{y}<extra></extra>",
         "legendgroup": "MZ2021A105",
         "line": {
          "color": "#FFA15A",
          "dash": "solid"
         },
         "marker": {
          "symbol": "circle"
         },
         "mode": "lines+markers",
         "name": "MZ2021A105",
         "orientation": "v",
         "showlegend": false,
         "type": "scatter",
         "x": [
          1999,
          2000,
          2001,
          2002,
          2003,
          2004,
          2005,
          2006,
          2007,
          2008,
          2009,
          2010,
          2011,
          2012,
          2013,
          2014,
          2015,
          2016,
          2017,
          2018,
          2019,
          2020,
          2021,
          2022
         ],
         "xaxis": "x2",
         "y": [
          12382,
          3484.45659384,
          null,
          5878.82143573,
          2766.14948716,
          5185.20125098,
          6754.46939346,
          7252.26401866,
          7734.94542905,
          7751.98887224,
          8120.41713751,
          14252,
          null,
          10200,
          null,
          33300,
          14935,
          19253,
          20266,
          21279,
          22291,
          16992,
          17417,
          27832
         ],
         "yaxis": "y2"
        },
        {
         "connectgaps": false,
         "hovertemplate": "fnid=MZ2021A105<br>indicator=yield<br>year=%{x}<br>value=%{y}<extra></extra>",
         "legendgroup": "MZ2021A105",
         "line": {
          "color": "#FFA15A",
          "dash": "solid"
         },
         "marker": {
          "symbol": "circle"
         },
         "mode": "lines+markers",
         "name": "MZ2021A105",
         "orientation": "v",
         "showlegend": false,
         "type": "scatter",
         "x": [
          1999,
          2000,
          2001,
          2002,
          2003,
          2004,
          2005,
          2006,
          2007,
          2008,
          2009,
          2010,
          2011,
          2012,
          2013,
          2014,
          2015,
          2016,
          2017,
          2018,
          2019,
          2020,
          2021,
          2022
         ],
         "xaxis": "x",
         "y": [
          3.433855596834114,
          4.899999999992538,
          null,
          4.999999999996598,
          4.6003146278601506,
          4.9999999999961435,
          3.9577898452665945,
          4.240708156414105,
          4.317160386754184,
          4.665512373155568,
          4.838913978752684,
          3.129245018243054,
          null,
          7.148333333333333,
          null,
          3.789039039039039,
          14.225778372949447,
          8.637770737027996,
          9.136139346689037,
          9.58701066779454,
          9.997398053025885,
          12.22834274952919,
          12.311017970947924,
          7.8994323081345215
         ],
         "yaxis": "y"
        },
        {
         "connectgaps": false,
         "hovertemplate": "fnid=MZ2021A107<br>indicator=production<br>year=%{x}<br>value=%{y}<extra></extra>",
         "legendgroup": "MZ2021A107",
         "line": {
          "color": "#19d3f3",
          "dash": "solid"
         },
         "marker": {
          "symbol": "circle"
         },
         "mode": "lines+markers",
         "name": "MZ2021A107",
         "orientation": "v",
         "showlegend": true,
         "type": "scatter",
         "x": [
          1999,
          2000,
          2001,
          2002,
          2003,
          2004,
          2005,
          2006,
          2007,
          2008,
          2009,
          2010,
          2011,
          2012,
          2013,
          2014,
          2015,
          2016,
          2017,
          2018,
          2019,
          2020,
          2021,
          2022
         ],
         "xaxis": "x3",
         "y": [
          null,
          2451576.02281032,
          2604797.92208688,
          4656812.36440205,
          2221378.54533938,
          2248683.45513671,
          4883600.539668471,
          5286323.18540725,
          3212545,
          3416272,
          3769617,
          4134109,
          4234917,
          1063802,
          null,
          1577942,
          1211119,
          1241776,
          1706117,
          1624226,
          1821429,
          2515703,
          2596062,
          2661878
         ],
         "yaxis": "y3"
        },
        {
         "connectgaps": false,
         "hovertemplate": "fnid=MZ2021A107<br>indicator=area<br>year=%{x}<br>value=%{y}<extra></extra>",
         "legendgroup": "MZ2021A107",
         "line": {
          "color": "#19d3f3",
          "dash": "solid"
         },
         "marker": {
          "symbol": "circle"
         },
         "mode": "lines+markers",
         "name": "MZ2021A107",
         "orientation": "v",
         "showlegend": false,
         "type": "scatter",
         "x": [
          1999,
          2000,
          2001,
          2002,
          2003,
          2004,
          2005,
          2006,
          2007,
          2008,
          2009,
          2010,
          2011,
          2012,
          2013,
          2014,
          2015,
          2016,
          2017,
          2018,
          2019,
          2020,
          2021,
          2022
         ],
         "xaxis": "x2",
         "y": [
          null,
          415521.35979836,
          427016.05280113,
          432177.95898612,
          437783.65151035,
          446896.03919361,
          464957.02834545,
          474119.98733337,
          483833.17752544,
          493814.17707175,
          503629.05198152,
          337338,
          null,
          266900,
          null,
          271000,
          232145,
          301938,
          306052,
          310166,
          314279,
          217684,
          223126,
          356545
         ],
         "yaxis": "y2"
        },
        {
         "connectgaps": false,
         "hovertemplate": "fnid=MZ2021A107<br>indicator=yield<br>year=%{x}<br>value=%{y}<extra></extra>",
         "legendgroup": "MZ2021A107",
         "line": {
          "color": "#19d3f3",
          "dash": "solid"
         },
         "marker": {
          "symbol": "circle"
         },
         "mode": "lines+markers",
         "name": "MZ2021A107",
         "orientation": "v",
         "showlegend": false,
         "type": "scatter",
         "x": [
          1999,
          2000,
          2001,
          2002,
          2003,
          2004,
          2005,
          2006,
          2007,
          2008,
          2009,
          2010,
          2011,
          2012,
          2013,
          2014,
          2015,
          2016,
          2017,
          2018,
          2019,
          2020,
          2021,
          2022
         ],
         "xaxis": "x",
         "y": [
          null,
          5.899999999999991,
          6.0999999999999694,
          10.775219484415238,
          5.074146870664636,
          5.031782020700582,
          10.503337388073836,
          11.149758134305896,
          6.639778231890855,
          6.918132687599255,
          7.484907761314613,
          12.255094297114466,
          null,
          3.985769951292619,
          null,
          5.822664206642067,
          5.217079842339917,
          4.112685385741444,
          5.574598434253002,
          5.236634576323646,
          5.795579723748644,
          11.556673894268757,
          11.634959619228598,
          7.465756075670673
         ],
         "yaxis": "y"
        },
        {
         "connectgaps": false,
         "hovertemplate": "fnid=MZ2021A108<br>indicator=production<br>year=%{x}<br>value=%{y}<extra></extra>",
         "legendgroup": "MZ2021A108",
         "line": {
          "color": "#FF6692",
          "dash": "solid"
         },
         "marker": {
          "symbol": "circle"
         },
         "mode": "lines+markers",
         "name": "MZ2021A108",
         "orientation": "v",
         "showlegend": true,
         "type": "scatter",
         "x": [
          1999,
          2000,
          2001,
          2002,
          2003,
          2004,
          2005,
          2006,
          2007,
          2008,
          2009,
          2010,
          2011,
          2012,
          2013,
          2014,
          2015,
          2016,
          2017,
          2018,
          2019,
          2020,
          2021,
          2022
         ],
         "xaxis": "x3",
         "y": [
          43188,
          127004.75525938,
          149553.04504521,
          279028.91599720996,
          179117.904914,
          183764.45345569,
          635180.09959549,
          327824.15347187,
          224967,
          229481,
          239088,
          257021,
          261979,
          327010,
          null,
          80136,
          118589,
          197251,
          206216,
          215181,
          224146,
          88020,
          90832,
          93134
         ],
         "yaxis": "y3"
        },
        {
         "connectgaps": false,
         "hovertemplate": "fnid=MZ2021A108<br>indicator=area<br>year=%{x}<br>value=%{y}<extra></extra>",
         "legendgroup": "MZ2021A108",
         "line": {
          "color": "#FF6692",
          "dash": "solid"
         },
         "marker": {
          "symbol": "circle"
         },
         "mode": "lines+markers",
         "name": "MZ2021A108",
         "orientation": "v",
         "showlegend": false,
         "type": "scatter",
         "x": [
          1999,
          2000,
          2001,
          2002,
          2003,
          2004,
          2005,
          2006,
          2007,
          2008,
          2009,
          2010,
          2011,
          2012,
          2013,
          2014,
          2015,
          2016,
          2017,
          2018,
          2019,
          2020,
          2021,
          2022
         ],
         "xaxis": "x2",
         "y": [
          21594,
          21526.22970498,
          24516.89263036,
          25031.52553803,
          25588.27213057,
          26252.06477938,
          27362.29994221,
          27927.07815233,
          28613.15826583,
          29384.89517909,
          30302.74553576,
          33060,
          null,
          28100,
          null,
          21700,
          12236,
          26787,
          27052,
          27664,
          28696,
          8391,
          8601,
          13744
         ],
         "yaxis": "y2"
        },
        {
         "connectgaps": false,
         "hovertemplate": "fnid=MZ2021A108<br>indicator=yield<br>year=%{x}<br>value=%{y}<extra></extra>",
         "legendgroup": "MZ2021A108",
         "line": {
          "color": "#FF6692",
          "dash": "solid"
         },
         "marker": {
          "symbol": "circle"
         },
         "mode": "lines+markers",
         "name": "MZ2021A108",
         "orientation": "v",
         "showlegend": false,
         "type": "scatter",
         "x": [
          1999,
          2000,
          2001,
          2002,
          2003,
          2004,
          2005,
          2006,
          2007,
          2008,
          2009,
          2010,
          2011,
          2012,
          2013,
          2014,
          2015,
          2016,
          2017,
          2018,
          2019,
          2020,
          2021,
          2022
         ],
         "xaxis": "x",
         "y": [
          2,
          5.899999999999907,
          6.100000000000571,
          11.147099907006696,
          7.000000000000392,
          7.000000000001142,
          23.213695520369615,
          11.738576863778322,
          7.862361711697408,
          7.809488466826195,
          7.889978144648786,
          7.774379915305505,
          null,
          11.637366548042705,
          null,
          3.692903225806451,
          9.691811049362537,
          7.363683876507261,
          7.622948395682389,
          7.778376229034124,
          7.811053805408419,
          10.489810511262066,
          10.560632484594814,
          6.776338766006985
         ],
         "yaxis": "y"
        },
        {
         "connectgaps": false,
         "hovertemplate": "fnid=MZ2021A109<br>indicator=production<br>year=%{x}<br>value=%{y}<extra></extra>",
         "legendgroup": "MZ2021A109",
         "line": {
          "color": "#B6E880",
          "dash": "solid"
         },
         "marker": {
          "symbol": "circle"
         },
         "mode": "lines+markers",
         "name": "MZ2021A109",
         "orientation": "v",
         "showlegend": true,
         "type": "scatter",
         "x": [
          1999,
          2000,
          2001,
          2002,
          2003,
          2004,
          2005,
          2006,
          2007,
          2008,
          2009,
          2010,
          2011,
          2012,
          2013,
          2014,
          2015,
          2016,
          2017,
          2018,
          2019,
          2020,
          2021,
          2022
         ],
         "xaxis": "x3",
         "y": [
          39600,
          44187.68041514,
          65887.89668189,
          241849.12739442,
          81501.64108028,
          91994.17678558,
          414164,
          387494.60890243,
          99971,
          102561,
          107166,
          109538,
          110268,
          170993,
          null,
          84052,
          120294,
          121544,
          118675,
          115807,
          118938,
          144777,
          149402,
          153189
         ],
         "yaxis": "y3"
        },
        {
         "connectgaps": false,
         "hovertemplate": "fnid=MZ2021A109<br>indicator=area<br>year=%{x}<br>value=%{y}<extra></extra>",
         "legendgroup": "MZ2021A109",
         "line": {
          "color": "#B6E880",
          "dash": "solid"
         },
         "marker": {
          "symbol": "circle"
         },
         "mode": "lines+markers",
         "name": "MZ2021A109",
         "orientation": "v",
         "showlegend": false,
         "type": "scatter",
         "x": [
          1999,
          2000,
          2001,
          2002,
          2003,
          2004,
          2005,
          2006,
          2007,
          2008,
          2009,
          2010,
          2011,
          2012,
          2013,
          2014,
          2015,
          2016,
          2017,
          2018,
          2019,
          2020,
          2021,
          2022
         ],
         "xaxis": "x2",
         "y": [
          null,
          8497.63084907,
          12201.4623485,
          13056.85456574,
          13583.60684671,
          14142.29519778,
          14846.72282465,
          15084.86037363,
          13862.76061065,
          18711.78983811,
          19153.17313787,
          34678,
          null,
          27000,
          null,
          21800,
          9000,
          21006,
          21611,
          22215,
          22820,
          15376,
          15760,
          25184
         ],
         "yaxis": "y2"
        },
        {
         "connectgaps": false,
         "hovertemplate": "fnid=MZ2021A109<br>indicator=yield<br>year=%{x}<br>value=%{y}<extra></extra>",
         "legendgroup": "MZ2021A109",
         "line": {
          "color": "#B6E880",
          "dash": "solid"
         },
         "marker": {
          "symbol": "circle"
         },
         "mode": "lines+markers",
         "name": "MZ2021A109",
         "orientation": "v",
         "showlegend": false,
         "type": "scatter",
         "x": [
          1999,
          2000,
          2001,
          2002,
          2003,
          2004,
          2005,
          2006,
          2007,
          2008,
          2009,
          2010,
          2011,
          2012,
          2013,
          2014,
          2015,
          2016,
          2017,
          2018,
          2019,
          2020,
          2021,
          2022
         ],
         "xaxis": "x",
         "y": [
          null,
          5.199999999997176,
          5.399999999999181,
          18.522771022433695,
          6.000000000001473,
          6.504897224887575,
          27.895987881740737,
          25.687649690136563,
          7.211478493194043,
          5.481089777478992,
          5.595208649166829,
          3.15871734240729,
          null,
          6.333074074074074,
          null,
          3.855596330275229,
          13.366,
          5.786156336284871,
          5.491416408310583,
          5.2130092279991,
          5.212007011393514,
          9.41577783558793,
          9.47982233502538,
          6.0827906607369755
         ],
         "yaxis": "y"
        },
        {
         "connectgaps": false,
         "hovertemplate": "fnid=MZ2021A110<br>indicator=production<br>year=%{x}<br>value=%{y}<extra></extra>",
         "legendgroup": "MZ2021A110",
         "line": {
          "color": "#FF97FF",
          "dash": "solid"
         },
         "marker": {
          "symbol": "circle"
         },
         "mode": "lines+markers",
         "name": "MZ2021A110",
         "orientation": "v",
         "showlegend": true,
         "type": "scatter",
         "x": [
          1999,
          2000,
          2001,
          2002,
          2003,
          2004,
          2005,
          2006,
          2007,
          2008,
          2009,
          2010,
          2011,
          2012,
          2013,
          2014,
          2015,
          2016,
          2017,
          2018,
          2019,
          2020,
          2021,
          2022
         ],
         "xaxis": "x3",
         "y": [
          null,
          6318.40148242,
          7313.34204753,
          97710.89912849,
          7824.12766663,
          8752.12687943,
          145806.11423305,
          64256.72819685,
          11162,
          11484,
          11742,
          12009,
          12609,
          72377,
          null,
          43375,
          25613,
          35474,
          33996,
          32517,
          39377,
          97486,
          100600,
          103150
         ],
         "yaxis": "y3"
        },
        {
         "connectgaps": false,
         "hovertemplate": "fnid=MZ2021A110<br>indicator=area<br>year=%{x}<br>value=%{y}<extra></extra>",
         "legendgroup": "MZ2021A110",
         "line": {
          "color": "#FF97FF",
          "dash": "solid"
         },
         "marker": {
          "symbol": "circle"
         },
         "mode": "lines+markers",
         "name": "MZ2021A110",
         "orientation": "v",
         "showlegend": false,
         "type": "scatter",
         "x": [
          1999,
          2000,
          2001,
          2002,
          2003,
          2004,
          2005,
          2006,
          2007,
          2008,
          2009,
          2010,
          2011,
          2012,
          2013,
          2014,
          2015,
          2016,
          2017,
          2018,
          2019,
          2020,
          2021,
          2022
         ],
         "xaxis": "x2",
         "y": [
          null,
          1215.07720816,
          1354.32260139,
          1389.61802336,
          1422.56866666,
          1458.68781324,
          1514.02284661,
          1549.40005706,
          1585.3538927,
          1621.95353939,
          1656.8629354,
          8279,
          null,
          3100,
          null,
          3100,
          2374,
          1639,
          1061,
          483,
          924,
          8712,
          8930,
          14270
         ],
         "yaxis": "y2"
        },
        {
         "connectgaps": false,
         "hovertemplate": "fnid=MZ2021A110<br>indicator=yield<br>year=%{x}<br>value=%{y}<extra></extra>",
         "legendgroup": "MZ2021A110",
         "line": {
          "color": "#FF97FF",
          "dash": "solid"
         },
         "marker": {
          "symbol": "circle"
         },
         "mode": "lines+markers",
         "name": "MZ2021A110",
         "orientation": "v",
         "showlegend": false,
         "type": "scatter",
         "x": [
          1999,
          2000,
          2001,
          2002,
          2003,
          2004,
          2005,
          2006,
          2007,
          2008,
          2009,
          2010,
          2011,
          2012,
          2013,
          2014,
          2015,
          2016,
          2017,
          2018,
          2019,
          2020,
          2021,
          2022
         ],
         "xaxis": "x",
         "y": [
          null,
          5.1999999999901245,
          5.40000000001772,
          70.3149336622965,
          5.5,
          5.999999999993144,
          96.30377412039704,
          41.47200582835765,
          7.040699273138386,
          7.080350775225666,
          7.086886759987328,
          1.4505375045295326,
          null,
          23.34741935483871,
          null,
          13.991935483870968,
          10.788963774220724,
          21.643685173886517,
          32.04147031102733,
          67.32298136645963,
          42.615800865800864,
          11.189853076216712,
          11.265397536394175,
          7.228451296426068
         ],
         "yaxis": "y"
        },
        {
         "connectgaps": false,
         "hovertemplate": "fnid=MZ2021A111<br>indicator=production<br>year=%{x}<br>value=%{y}<extra></extra>",
         "legendgroup": "MZ2021A111",
         "line": {
          "color": "#FECB52",
          "dash": "solid"
         },
         "marker": {
          "symbol": "circle"
         },
         "mode": "lines+markers",
         "name": "MZ2021A111",
         "orientation": "v",
         "showlegend": true,
         "type": "scatter",
         "x": [
          1999,
          2000,
          2001,
          2002,
          2003,
          2004,
          2005,
          2006,
          2007,
          2008,
          2009,
          2010,
          2011,
          2012,
          2013,
          2014,
          2015,
          2016,
          2017,
          2018,
          2019,
          2020,
          2021,
          2022
         ],
         "xaxis": "x3",
         "y": [
          1072604,
          1460199.92582417,
          1592819.32523981,
          3986921.82312641,
          1965438.30068624,
          2009896.28549178,
          4436020.58108186,
          8336702.69351593,
          2314212,
          2322827,
          2477375,
          2537525,
          2703267,
          1143368,
          null,
          1179959,
          1183959,
          1021574,
          1875617,
          1984762,
          1349298,
          1936009,
          1997851,
          2048501
         ],
         "yaxis": "y3"
        },
        {
         "connectgaps": false,
         "hovertemplate": "fnid=MZ2021A111<br>indicator=area<br>year=%{x}<br>value=%{y}<extra></extra>",
         "legendgroup": "MZ2021A111",
         "line": {
          "color": "#FECB52",
          "dash": "solid"
         },
         "marker": {
          "symbol": "circle"
         },
         "mode": "lines+markers",
         "name": "MZ2021A111",
         "orientation": "v",
         "showlegend": false,
         "type": "scatter",
         "x": [
          1999,
          2000,
          2001,
          2002,
          2003,
          2004,
          2005,
          2006,
          2007,
          2008,
          2009,
          2010,
          2011,
          2012,
          2013,
          2014,
          2015,
          2016,
          2017,
          2018,
          2019,
          2020,
          2021,
          2022
         ],
         "xaxis": "x2",
         "y": [
          332215,
          247491.51285155,
          261117.92217046,
          273283.04971176,
          280776.90009803,
          287067.05935597,
          297080.27234884,
          300380.43109179,
          302093.54453817,
          312321.18817479,
          318007.29100288,
          299438,
          null,
          228100,
          null,
          296800,
          163705,
          224756,
          215978,
          217199,
          218754,
          166905,
          171078,
          273374
         ],
         "yaxis": "y2"
        },
        {
         "connectgaps": false,
         "hovertemplate": "fnid=MZ2021A111<br>indicator=yield<br>year=%{x}<br>value=%{y}<extra></extra>",
         "legendgroup": "MZ2021A111",
         "line": {
          "color": "#FECB52",
          "dash": "solid"
         },
         "marker": {
          "symbol": "circle"
         },
         "mode": "lines+markers",
         "name": "MZ2021A111",
         "orientation": "v",
         "showlegend": false,
         "type": "scatter",
         "x": [
          1999,
          2000,
          2001,
          2002,
          2003,
          2004,
          2005,
          2006,
          2007,
          2008,
          2009,
          2010,
          2011,
          2012,
          2013,
          2014,
          2015,
          2016,
          2017,
          2018,
          2019,
          2020,
          2021,
          2022
         ],
         "xaxis": "x",
         "y": [
          3.228644100958717,
          5.900000000000101,
          6.100000000000016,
          14.588983207453,
          7.000000000000107,
          7.00148700446839,
          14.93206043608631,
          27.753814265511885,
          7.660580776520352,
          7.437302008149489,
          7.790308807660526,
          8.474291840047021,
          null,
          5.012573432704954,
          null,
          3.975603099730458,
          7.232271463913747,
          4.545257968641549,
          8.684296548722555,
          9.137988664772855,
          6.168106640335719,
          11.599466762529582,
          11.678012368627176,
          7.493400981805146
         ],
         "yaxis": "y"
        }
       ],
       "layout": {
        "annotations": [
         {
          "showarrow": false,
          "text": "",
          "textangle": 90,
          "x": 0.98,
          "xanchor": "left",
          "xref": "paper",
          "y": 0.16333333333333333,
          "yanchor": "middle",
          "yref": "paper"
         },
         {
          "showarrow": false,
          "text": "",
          "textangle": 90,
          "x": 0.98,
          "xanchor": "left",
          "xref": "paper",
          "y": 0.5,
          "yanchor": "middle",
          "yref": "paper"
         },
         {
          "showarrow": false,
          "text": "",
          "textangle": 90,
          "x": 0.98,
          "xanchor": "left",
          "xref": "paper",
          "y": 0.8366666666666667,
          "yanchor": "middle",
          "yref": "paper"
         },
         {
          "align": "left",
          "font": {
           "color": "dimgrey",
           "family": "arial",
           "size": 15
          },
          "showarrow": false,
          "text": "Production-Area-Yield time-series of MZ - Cassava - Annual",
          "x": -0.014,
          "xref": "paper",
          "y": -0.14,
          "yref": "paper"
         }
        ],
        "font": {
         "color": "black",
         "family": "arial",
         "size": 16
        },
        "height": 600,
        "legend": {
         "font": {
          "size": 14
         },
         "title": {
          "text": "FNID"
         },
         "tracegroupgap": 0,
         "x": 1,
         "xanchor": "left",
         "y": 1,
         "yanchor": "top"
        },
        "margin": {
         "b": 25,
         "l": 0,
         "r": 0,
         "t": 0
        },
        "template": {
         "data": {
          "bar": [
           {
            "error_x": {
             "color": "#2a3f5f"
            },
            "error_y": {
             "color": "#2a3f5f"
            },
            "marker": {
             "line": {
              "color": "#E5ECF6",
              "width": 0.5
             },
             "pattern": {
              "fillmode": "overlay",
              "size": 10,
              "solidity": 0.2
             }
            },
            "type": "bar"
           }
          ],
          "barpolar": [
           {
            "marker": {
             "line": {
              "color": "#E5ECF6",
              "width": 0.5
             },
             "pattern": {
              "fillmode": "overlay",
              "size": 10,
              "solidity": 0.2
             }
            },
            "type": "barpolar"
           }
          ],
          "carpet": [
           {
            "aaxis": {
             "endlinecolor": "#2a3f5f",
             "gridcolor": "white",
             "linecolor": "white",
             "minorgridcolor": "white",
             "startlinecolor": "#2a3f5f"
            },
            "baxis": {
             "endlinecolor": "#2a3f5f",
             "gridcolor": "white",
             "linecolor": "white",
             "minorgridcolor": "white",
             "startlinecolor": "#2a3f5f"
            },
            "type": "carpet"
           }
          ],
          "choropleth": [
           {
            "colorbar": {
             "outlinewidth": 0,
             "ticks": ""
            },
            "type": "choropleth"
           }
          ],
          "contour": [
           {
            "colorbar": {
             "outlinewidth": 0,
             "ticks": ""
            },
            "colorscale": [
             [
              0,
              "#0d0887"
             ],
             [
              0.1111111111111111,
              "#46039f"
             ],
             [
              0.2222222222222222,
              "#7201a8"
             ],
             [
              0.3333333333333333,
              "#9c179e"
             ],
             [
              0.4444444444444444,
              "#bd3786"
             ],
             [
              0.5555555555555556,
              "#d8576b"
             ],
             [
              0.6666666666666666,
              "#ed7953"
             ],
             [
              0.7777777777777778,
              "#fb9f3a"
             ],
             [
              0.8888888888888888,
              "#fdca26"
             ],
             [
              1,
              "#f0f921"
             ]
            ],
            "type": "contour"
           }
          ],
          "contourcarpet": [
           {
            "colorbar": {
             "outlinewidth": 0,
             "ticks": ""
            },
            "type": "contourcarpet"
           }
          ],
          "heatmap": [
           {
            "colorbar": {
             "outlinewidth": 0,
             "ticks": ""
            },
            "colorscale": [
             [
              0,
              "#0d0887"
             ],
             [
              0.1111111111111111,
              "#46039f"
             ],
             [
              0.2222222222222222,
              "#7201a8"
             ],
             [
              0.3333333333333333,
              "#9c179e"
             ],
             [
              0.4444444444444444,
              "#bd3786"
             ],
             [
              0.5555555555555556,
              "#d8576b"
             ],
             [
              0.6666666666666666,
              "#ed7953"
             ],
             [
              0.7777777777777778,
              "#fb9f3a"
             ],
             [
              0.8888888888888888,
              "#fdca26"
             ],
             [
              1,
              "#f0f921"
             ]
            ],
            "type": "heatmap"
           }
          ],
          "heatmapgl": [
           {
            "colorbar": {
             "outlinewidth": 0,
             "ticks": ""
            },
            "colorscale": [
             [
              0,
              "#0d0887"
             ],
             [
              0.1111111111111111,
              "#46039f"
             ],
             [
              0.2222222222222222,
              "#7201a8"
             ],
             [
              0.3333333333333333,
              "#9c179e"
             ],
             [
              0.4444444444444444,
              "#bd3786"
             ],
             [
              0.5555555555555556,
              "#d8576b"
             ],
             [
              0.6666666666666666,
              "#ed7953"
             ],
             [
              0.7777777777777778,
              "#fb9f3a"
             ],
             [
              0.8888888888888888,
              "#fdca26"
             ],
             [
              1,
              "#f0f921"
             ]
            ],
            "type": "heatmapgl"
           }
          ],
          "histogram": [
           {
            "marker": {
             "pattern": {
              "fillmode": "overlay",
              "size": 10,
              "solidity": 0.2
             }
            },
            "type": "histogram"
           }
          ],
          "histogram2d": [
           {
            "colorbar": {
             "outlinewidth": 0,
             "ticks": ""
            },
            "colorscale": [
             [
              0,
              "#0d0887"
             ],
             [
              0.1111111111111111,
              "#46039f"
             ],
             [
              0.2222222222222222,
              "#7201a8"
             ],
             [
              0.3333333333333333,
              "#9c179e"
             ],
             [
              0.4444444444444444,
              "#bd3786"
             ],
             [
              0.5555555555555556,
              "#d8576b"
             ],
             [
              0.6666666666666666,
              "#ed7953"
             ],
             [
              0.7777777777777778,
              "#fb9f3a"
             ],
             [
              0.8888888888888888,
              "#fdca26"
             ],
             [
              1,
              "#f0f921"
             ]
            ],
            "type": "histogram2d"
           }
          ],
          "histogram2dcontour": [
           {
            "colorbar": {
             "outlinewidth": 0,
             "ticks": ""
            },
            "colorscale": [
             [
              0,
              "#0d0887"
             ],
             [
              0.1111111111111111,
              "#46039f"
             ],
             [
              0.2222222222222222,
              "#7201a8"
             ],
             [
              0.3333333333333333,
              "#9c179e"
             ],
             [
              0.4444444444444444,
              "#bd3786"
             ],
             [
              0.5555555555555556,
              "#d8576b"
             ],
             [
              0.6666666666666666,
              "#ed7953"
             ],
             [
              0.7777777777777778,
              "#fb9f3a"
             ],
             [
              0.8888888888888888,
              "#fdca26"
             ],
             [
              1,
              "#f0f921"
             ]
            ],
            "type": "histogram2dcontour"
           }
          ],
          "mesh3d": [
           {
            "colorbar": {
             "outlinewidth": 0,
             "ticks": ""
            },
            "type": "mesh3d"
           }
          ],
          "parcoords": [
           {
            "line": {
             "colorbar": {
              "outlinewidth": 0,
              "ticks": ""
             }
            },
            "type": "parcoords"
           }
          ],
          "pie": [
           {
            "automargin": true,
            "type": "pie"
           }
          ],
          "scatter": [
           {
            "fillpattern": {
             "fillmode": "overlay",
             "size": 10,
             "solidity": 0.2
            },
            "type": "scatter"
           }
          ],
          "scatter3d": [
           {
            "line": {
             "colorbar": {
              "outlinewidth": 0,
              "ticks": ""
             }
            },
            "marker": {
             "colorbar": {
              "outlinewidth": 0,
              "ticks": ""
             }
            },
            "type": "scatter3d"
           }
          ],
          "scattercarpet": [
           {
            "marker": {
             "colorbar": {
              "outlinewidth": 0,
              "ticks": ""
             }
            },
            "type": "scattercarpet"
           }
          ],
          "scattergeo": [
           {
            "marker": {
             "colorbar": {
              "outlinewidth": 0,
              "ticks": ""
             }
            },
            "type": "scattergeo"
           }
          ],
          "scattergl": [
           {
            "marker": {
             "colorbar": {
              "outlinewidth": 0,
              "ticks": ""
             }
            },
            "type": "scattergl"
           }
          ],
          "scattermapbox": [
           {
            "marker": {
             "colorbar": {
              "outlinewidth": 0,
              "ticks": ""
             }
            },
            "type": "scattermapbox"
           }
          ],
          "scatterpolar": [
           {
            "marker": {
             "colorbar": {
              "outlinewidth": 0,
              "ticks": ""
             }
            },
            "type": "scatterpolar"
           }
          ],
          "scatterpolargl": [
           {
            "marker": {
             "colorbar": {
              "outlinewidth": 0,
              "ticks": ""
             }
            },
            "type": "scatterpolargl"
           }
          ],
          "scatterternary": [
           {
            "marker": {
             "colorbar": {
              "outlinewidth": 0,
              "ticks": ""
             }
            },
            "type": "scatterternary"
           }
          ],
          "surface": [
           {
            "colorbar": {
             "outlinewidth": 0,
             "ticks": ""
            },
            "colorscale": [
             [
              0,
              "#0d0887"
             ],
             [
              0.1111111111111111,
              "#46039f"
             ],
             [
              0.2222222222222222,
              "#7201a8"
             ],
             [
              0.3333333333333333,
              "#9c179e"
             ],
             [
              0.4444444444444444,
              "#bd3786"
             ],
             [
              0.5555555555555556,
              "#d8576b"
             ],
             [
              0.6666666666666666,
              "#ed7953"
             ],
             [
              0.7777777777777778,
              "#fb9f3a"
             ],
             [
              0.8888888888888888,
              "#fdca26"
             ],
             [
              1,
              "#f0f921"
             ]
            ],
            "type": "surface"
           }
          ],
          "table": [
           {
            "cells": {
             "fill": {
              "color": "#EBF0F8"
             },
             "line": {
              "color": "white"
             }
            },
            "header": {
             "fill": {
              "color": "#C8D4E3"
             },
             "line": {
              "color": "white"
             }
            },
            "type": "table"
           }
          ]
         },
         "layout": {
          "annotationdefaults": {
           "arrowcolor": "#2a3f5f",
           "arrowhead": 0,
           "arrowwidth": 1
          },
          "autotypenumbers": "strict",
          "coloraxis": {
           "colorbar": {
            "outlinewidth": 0,
            "ticks": ""
           }
          },
          "colorscale": {
           "diverging": [
            [
             0,
             "#8e0152"
            ],
            [
             0.1,
             "#c51b7d"
            ],
            [
             0.2,
             "#de77ae"
            ],
            [
             0.3,
             "#f1b6da"
            ],
            [
             0.4,
             "#fde0ef"
            ],
            [
             0.5,
             "#f7f7f7"
            ],
            [
             0.6,
             "#e6f5d0"
            ],
            [
             0.7,
             "#b8e186"
            ],
            [
             0.8,
             "#7fbc41"
            ],
            [
             0.9,
             "#4d9221"
            ],
            [
             1,
             "#276419"
            ]
           ],
           "sequential": [
            [
             0,
             "#0d0887"
            ],
            [
             0.1111111111111111,
             "#46039f"
            ],
            [
             0.2222222222222222,
             "#7201a8"
            ],
            [
             0.3333333333333333,
             "#9c179e"
            ],
            [
             0.4444444444444444,
             "#bd3786"
            ],
            [
             0.5555555555555556,
             "#d8576b"
            ],
            [
             0.6666666666666666,
             "#ed7953"
            ],
            [
             0.7777777777777778,
             "#fb9f3a"
            ],
            [
             0.8888888888888888,
             "#fdca26"
            ],
            [
             1,
             "#f0f921"
            ]
           ],
           "sequentialminus": [
            [
             0,
             "#0d0887"
            ],
            [
             0.1111111111111111,
             "#46039f"
            ],
            [
             0.2222222222222222,
             "#7201a8"
            ],
            [
             0.3333333333333333,
             "#9c179e"
            ],
            [
             0.4444444444444444,
             "#bd3786"
            ],
            [
             0.5555555555555556,
             "#d8576b"
            ],
            [
             0.6666666666666666,
             "#ed7953"
            ],
            [
             0.7777777777777778,
             "#fb9f3a"
            ],
            [
             0.8888888888888888,
             "#fdca26"
            ],
            [
             1,
             "#f0f921"
            ]
           ]
          },
          "colorway": [
           "#636efa",
           "#EF553B",
           "#00cc96",
           "#ab63fa",
           "#FFA15A",
           "#19d3f3",
           "#FF6692",
           "#B6E880",
           "#FF97FF",
           "#FECB52"
          ],
          "font": {
           "color": "#2a3f5f"
          },
          "geo": {
           "bgcolor": "white",
           "lakecolor": "white",
           "landcolor": "#E5ECF6",
           "showlakes": true,
           "showland": true,
           "subunitcolor": "white"
          },
          "hoverlabel": {
           "align": "left"
          },
          "hovermode": "closest",
          "mapbox": {
           "style": "light"
          },
          "paper_bgcolor": "white",
          "plot_bgcolor": "#E5ECF6",
          "polar": {
           "angularaxis": {
            "gridcolor": "white",
            "linecolor": "white",
            "ticks": ""
           },
           "bgcolor": "#E5ECF6",
           "radialaxis": {
            "gridcolor": "white",
            "linecolor": "white",
            "ticks": ""
           }
          },
          "scene": {
           "xaxis": {
            "backgroundcolor": "#E5ECF6",
            "gridcolor": "white",
            "gridwidth": 2,
            "linecolor": "white",
            "showbackground": true,
            "ticks": "",
            "zerolinecolor": "white"
           },
           "yaxis": {
            "backgroundcolor": "#E5ECF6",
            "gridcolor": "white",
            "gridwidth": 2,
            "linecolor": "white",
            "showbackground": true,
            "ticks": "",
            "zerolinecolor": "white"
           },
           "zaxis": {
            "backgroundcolor": "#E5ECF6",
            "gridcolor": "white",
            "gridwidth": 2,
            "linecolor": "white",
            "showbackground": true,
            "ticks": "",
            "zerolinecolor": "white"
           }
          },
          "shapedefaults": {
           "line": {
            "color": "#2a3f5f"
           }
          },
          "ternary": {
           "aaxis": {
            "gridcolor": "white",
            "linecolor": "white",
            "ticks": ""
           },
           "baxis": {
            "gridcolor": "white",
            "linecolor": "white",
            "ticks": ""
           },
           "bgcolor": "#E5ECF6",
           "caxis": {
            "gridcolor": "white",
            "linecolor": "white",
            "ticks": ""
           }
          },
          "title": {
           "x": 0.05
          },
          "xaxis": {
           "automargin": true,
           "gridcolor": "white",
           "linecolor": "white",
           "ticks": "",
           "title": {
            "standoff": 15
           },
           "zerolinecolor": "white",
           "zerolinewidth": 2
          },
          "yaxis": {
           "automargin": true,
           "gridcolor": "white",
           "linecolor": "white",
           "ticks": "",
           "title": {
            "standoff": 15
           },
           "zerolinecolor": "white",
           "zerolinewidth": 2
          }
         }
        },
        "width": 900,
        "xaxis": {
         "anchor": "y",
         "domain": [
          0,
          0.98
         ],
         "dtick": 1,
         "range": [
          1999,
          2022
         ],
         "title": {
          "text": ""
         }
        },
        "xaxis2": {
         "anchor": "y2",
         "domain": [
          0,
          0.98
         ],
         "dtick": 1,
         "matches": "x",
         "showticklabels": false
        },
        "xaxis3": {
         "anchor": "y3",
         "domain": [
          0,
          0.98
         ],
         "dtick": 1,
         "matches": "x",
         "showticklabels": false
        },
        "yaxis": {
         "anchor": "x",
         "domain": [
          0,
          0.32666666666666666
         ],
         "title": {
          "text": "Yield (mt/ha)"
         }
        },
        "yaxis2": {
         "anchor": "x2",
         "domain": [
          0.33666666666666667,
          0.6633333333333333
         ],
         "title": {
          "text": "Area (ha)"
         }
        },
        "yaxis3": {
         "anchor": "x3",
         "domain": [
          0.6733333333333333,
          1
         ],
         "title": {
          "text": "Production (mt)"
         }
        }
       }
      }
     },
     "metadata": {},
     "output_type": "display_data"
    },
    {
     "name": "stdout",
     "output_type": "stream",
     "text": [
      "../figures/MZ_line_pay_Maize_Main.png is saved.\n"
     ]
    },
    {
     "data": {
      "application/vnd.plotly.v1+json": {
       "config": {
        "plotlyServerURL": "https://plot.ly"
       },
       "data": [
        {
         "connectgaps": false,
         "hovertemplate": "fnid=MZ2021A101<br>indicator=production<br>year=%{x}<br>value=%{y}<extra></extra>",
         "legendgroup": "MZ2021A101",
         "line": {
          "color": "#636efa",
          "dash": "solid"
         },
         "marker": {
          "symbol": "circle"
         },
         "mode": "lines+markers",
         "name": "MZ2021A101",
         "orientation": "v",
         "showlegend": true,
         "type": "scatter",
         "x": [
          1999,
          2000,
          2001,
          2002,
          2003,
          2004,
          2005,
          2006,
          2007,
          2008,
          2009,
          2010,
          2011,
          2012,
          2013,
          2014,
          2015,
          2016,
          2017,
          2018,
          2019,
          2020,
          2021,
          2022
         ],
         "xaxis": "x3",
         "y": [
          111654,
          50104.426573,
          70444.16874986,
          85700,
          93100,
          135821.61454818,
          80400,
          105000,
          85700,
          76100,
          183937,
          279590,
          284161,
          68400,
          null,
          115342,
          93767,
          102487,
          null,
          126480,
          132787,
          100685,
          113305,
          146958
         ],
         "yaxis": "y3"
        },
        {
         "connectgaps": false,
         "hovertemplate": "fnid=MZ2021A101<br>indicator=area<br>year=%{x}<br>value=%{y}<extra></extra>",
         "legendgroup": "MZ2021A101",
         "line": {
          "color": "#636efa",
          "dash": "solid"
         },
         "marker": {
          "symbol": "circle"
         },
         "mode": "lines+markers",
         "name": "MZ2021A101",
         "orientation": "v",
         "showlegend": false,
         "type": "scatter",
         "x": [
          1999,
          2000,
          2001,
          2002,
          2003,
          2004,
          2005,
          2006,
          2007,
          2008,
          2009,
          2010,
          2011,
          2012,
          2013,
          2014,
          2015,
          2016,
          2017,
          2018,
          2019,
          2020,
          2021,
          2022
         ],
         "xaxis": "x2",
         "y": [
          111980,
          71029.37139881,
          85675.19156156,
          106777,
          null,
          null,
          142103,
          137721,
          137994,
          135135,
          112144.62382954,
          98150,
          null,
          109108,
          null,
          202955,
          163984,
          152773,
          null,
          151518,
          156815,
          146766,
          150435,
          116668
         ],
         "yaxis": "y2"
        },
        {
         "connectgaps": false,
         "hovertemplate": "fnid=MZ2021A101<br>indicator=yield<br>year=%{x}<br>value=%{y}<extra></extra>",
         "legendgroup": "MZ2021A101",
         "line": {
          "color": "#636efa",
          "dash": "solid"
         },
         "marker": {
          "symbol": "circle"
         },
         "mode": "lines+markers",
         "name": "MZ2021A101",
         "orientation": "v",
         "showlegend": false,
         "type": "scatter",
         "x": [
          1999,
          2000,
          2001,
          2002,
          2003,
          2004,
          2005,
          2006,
          2007,
          2008,
          2009,
          2010,
          2011,
          2012,
          2013,
          2014,
          2015,
          2016,
          2017,
          2018,
          2019,
          2020,
          2021,
          2022
         ],
         "xaxis": "x",
         "y": [
          0.9970887658510448,
          0.705404336069338,
          0.8222236503462488,
          0.802607303070886,
          null,
          null,
          0.5657867884562606,
          0.7624109612913064,
          0.6210414945577344,
          0.5631405631405632,
          1.640176708600713,
          2.848599083036169,
          null,
          0.6269017853869561,
          null,
          0.5683131728708334,
          0.5718057859303347,
          0.6708449791520753,
          null,
          0.8347523066566348,
          0.8467748620986513,
          0.6860240110107245,
          0.7531824375976335,
          1.2596256042788083
         ],
         "yaxis": "y"
        },
        {
         "connectgaps": false,
         "hovertemplate": "fnid=MZ2021A102<br>indicator=production<br>year=%{x}<br>value=%{y}<extra></extra>",
         "legendgroup": "MZ2021A102",
         "line": {
          "color": "#EF553B",
          "dash": "solid"
         },
         "marker": {
          "symbol": "circle"
         },
         "mode": "lines+markers",
         "name": "MZ2021A102",
         "orientation": "v",
         "showlegend": true,
         "type": "scatter",
         "x": [
          1999,
          2000,
          2001,
          2002,
          2003,
          2004,
          2005,
          2006,
          2007,
          2008,
          2009,
          2010,
          2011,
          2012,
          2013,
          2014,
          2015,
          2016,
          2017,
          2018,
          2019,
          2020,
          2021,
          2022
         ],
         "xaxis": "x3",
         "y": [
          null,
          53728.09925502,
          46734.92676472,
          66900,
          169359,
          93274.50451109,
          40800,
          102000,
          60900,
          63800,
          100639,
          92258,
          95211,
          48700,
          null,
          64191,
          37669,
          51306,
          50756,
          64675,
          69052,
          64763,
          72881,
          94527
         ],
         "yaxis": "y3"
        },
        {
         "connectgaps": false,
         "hovertemplate": "fnid=MZ2021A102<br>indicator=area<br>year=%{x}<br>value=%{y}<extra></extra>",
         "legendgroup": "MZ2021A102",
         "line": {
          "color": "#EF553B",
          "dash": "solid"
         },
         "marker": {
          "symbol": "circle"
         },
         "mode": "lines+markers",
         "name": "MZ2021A102",
         "orientation": "v",
         "showlegend": false,
         "type": "scatter",
         "x": [
          1999,
          2000,
          2001,
          2002,
          2003,
          2004,
          2005,
          2006,
          2007,
          2008,
          2009,
          2010,
          2011,
          2012,
          2013,
          2014,
          2015,
          2016,
          2017,
          2018,
          2019,
          2020,
          2021,
          2022
         ],
         "xaxis": "x2",
         "y": [
          null,
          94287.51624472,
          140815.04990387,
          172794,
          83221,
          143061.11368203,
          182999,
          152508,
          151239,
          150694,
          159520.3646583,
          119515,
          null,
          95831,
          null,
          245131,
          100950,
          76730,
          89061,
          90337,
          87223,
          257572,
          264011,
          204750
         ],
         "yaxis": "y2"
        },
        {
         "connectgaps": false,
         "hovertemplate": "fnid=MZ2021A102<br>indicator=yield<br>year=%{x}<br>value=%{y}<extra></extra>",
         "legendgroup": "MZ2021A102",
         "line": {
          "color": "#EF553B",
          "dash": "solid"
         },
         "marker": {
          "symbol": "circle"
         },
         "mode": "lines+markers",
         "name": "MZ2021A102",
         "orientation": "v",
         "showlegend": false,
         "type": "scatter",
         "x": [
          1999,
          2000,
          2001,
          2002,
          2003,
          2004,
          2005,
          2006,
          2007,
          2008,
          2009,
          2010,
          2011,
          2012,
          2013,
          2014,
          2015,
          2016,
          2017,
          2018,
          2019,
          2020,
          2021,
          2022
         ],
         "xaxis": "x",
         "y": [
          null,
          0.5698325864854746,
          0.3318887206774025,
          0.387166221049342,
          2.035051249083765,
          0.6519906221225389,
          0.2229520379892786,
          0.6688173735148321,
          0.402673913474699,
          0.4233745205515813,
          0.630884967042129,
          0.7719365769987031,
          null,
          0.5081862862747962,
          null,
          0.2618640645206033,
          0.3731451213472015,
          0.6686563273817281,
          0.5699015281660884,
          0.715930349690603,
          0.7916719213968793,
          0.2514364915441119,
          0.2760528917355716,
          0.4616703296703296
         ],
         "yaxis": "y"
        },
        {
         "connectgaps": false,
         "hovertemplate": "fnid=MZ2021A103<br>indicator=production<br>year=%{x}<br>value=%{y}<extra></extra>",
         "legendgroup": "MZ2021A103",
         "line": {
          "color": "#00cc96",
          "dash": "solid"
         },
         "marker": {
          "symbol": "circle"
         },
         "mode": "lines+markers",
         "name": "MZ2021A103",
         "orientation": "v",
         "showlegend": true,
         "type": "scatter",
         "x": [
          1999,
          2000,
          2001,
          2002,
          2003,
          2004,
          2005,
          2006,
          2007,
          2008,
          2009,
          2010,
          2011,
          2012,
          2013,
          2014,
          2015,
          2016,
          2017,
          2018,
          2019,
          2020,
          2021,
          2022
         ],
         "xaxis": "x3",
         "y": [
          86609,
          83021.99644416,
          75921.20363195,
          18500,
          61587.847808310005,
          42606.83775273,
          18000,
          32500,
          29000,
          36900,
          82485,
          47537,
          50561,
          20600,
          null,
          19291,
          12200,
          39083,
          29141,
          43222,
          44764,
          15885,
          17876,
          23185
         ],
         "yaxis": "y3"
        },
        {
         "connectgaps": false,
         "hovertemplate": "fnid=MZ2021A103<br>indicator=area<br>year=%{x}<br>value=%{y}<extra></extra>",
         "legendgroup": "MZ2021A103",
         "line": {
          "color": "#00cc96",
          "dash": "solid"
         },
         "marker": {
          "symbol": "circle"
         },
         "mode": "lines+markers",
         "name": "MZ2021A103",
         "orientation": "v",
         "showlegend": false,
         "type": "scatter",
         "x": [
          1999,
          2000,
          2001,
          2002,
          2003,
          2004,
          2005,
          2006,
          2007,
          2008,
          2009,
          2010,
          2011,
          2012,
          2013,
          2014,
          2015,
          2016,
          2017,
          2018,
          2019,
          2020,
          2021,
          2022
         ],
         "xaxis": "x2",
         "y": [
          163413,
          102316.75135443,
          108780.74733045,
          105161,
          86549.18583516,
          89633.47687734,
          108268,
          106984,
          111250,
          118300,
          125278.94717391,
          85620,
          null,
          54173,
          null,
          62345,
          56331,
          48098,
          65924,
          67549,
          69428,
          68101,
          69804,
          54136
         ],
         "yaxis": "y2"
        },
        {
         "connectgaps": false,
         "hovertemplate": "fnid=MZ2021A103<br>indicator=yield<br>year=%{x}<br>value=%{y}<extra></extra>",
         "legendgroup": "MZ2021A103",
         "line": {
          "color": "#00cc96",
          "dash": "solid"
         },
         "marker": {
          "symbol": "circle"
         },
         "mode": "lines+markers",
         "name": "MZ2021A103",
         "orientation": "v",
         "showlegend": false,
         "type": "scatter",
         "x": [
          1999,
          2000,
          2001,
          2002,
          2003,
          2004,
          2005,
          2006,
          2007,
          2008,
          2009,
          2010,
          2011,
          2012,
          2013,
          2014,
          2015,
          2016,
          2017,
          2018,
          2019,
          2020,
          2021,
          2022
         ],
         "xaxis": "x",
         "y": [
          0.5300006731410598,
          0.811421349340617,
          0.6979286821896844,
          0.1759207310695029,
          0.7115936125107993,
          0.4753451415371942,
          0.166254110171057,
          0.3037837433634936,
          0.2606741573033708,
          0.3119188503803888,
          0.6584107055553061,
          0.5552090633029666,
          null,
          0.380263230760711,
          null,
          0.3094233699574946,
          0.2165770179829934,
          0.8125701692378061,
          0.4420393180025483,
          0.6398614339220418,
          0.6447542778129861,
          0.2332564866888885,
          0.2560884763050828,
          0.4282732377715383
         ],
         "yaxis": "y"
        },
        {
         "connectgaps": false,
         "hovertemplate": "fnid=MZ2021A104<br>indicator=production<br>year=%{x}<br>value=%{y}<extra></extra>",
         "legendgroup": "MZ2021A104",
         "line": {
          "color": "#ab63fa",
          "dash": "solid"
         },
         "marker": {
          "symbol": "circle"
         },
         "mode": "lines+markers",
         "name": "MZ2021A104",
         "orientation": "v",
         "showlegend": true,
         "type": "scatter",
         "x": [
          1999,
          2000,
          2001,
          2002,
          2003,
          2004,
          2005,
          2006,
          2007,
          2008,
          2009,
          2010,
          2011,
          2012,
          2013,
          2014,
          2015,
          2016,
          2017,
          2018,
          2019,
          2020,
          2021,
          2022
         ],
         "xaxis": "x3",
         "y": [
          88250,
          191867.69695691,
          205872.58967146,
          163000,
          521640.77186914,
          241830.21980309,
          162000,
          204000,
          212000,
          187000,
          317041,
          222692,
          236487,
          228000,
          null,
          210880,
          null,
          209646,
          137439,
          216141,
          222070,
          220281,
          247892,
          321519
         ],
         "yaxis": "y3"
        },
        {
         "connectgaps": false,
         "hovertemplate": "fnid=MZ2021A104<br>indicator=area<br>year=%{x}<br>value=%{y}<extra></extra>",
         "legendgroup": "MZ2021A104",
         "line": {
          "color": "#ab63fa",
          "dash": "solid"
         },
         "marker": {
          "symbol": "circle"
         },
         "mode": "lines+markers",
         "name": "MZ2021A104",
         "orientation": "v",
         "showlegend": false,
         "type": "scatter",
         "x": [
          1999,
          2000,
          2001,
          2002,
          2003,
          2004,
          2005,
          2006,
          2007,
          2008,
          2009,
          2010,
          2011,
          2012,
          2013,
          2014,
          2015,
          2016,
          2017,
          2018,
          2019,
          2020,
          2021,
          2022
         ],
         "xaxis": "x2",
         "y": [
          201302,
          147226.22639388,
          191014.81419508,
          238479,
          170143.97578929,
          190225.48607712,
          224156,
          225944,
          286224,
          265926,
          249970.21268004,
          213268,
          null,
          255780,
          null,
          336637,
          null,
          236234,
          178415,
          213087,
          216075,
          273179,
          280008,
          217157
         ],
         "yaxis": "y2"
        },
        {
         "connectgaps": false,
         "hovertemplate": "fnid=MZ2021A104<br>indicator=yield<br>year=%{x}<br>value=%{y}<extra></extra>",
         "legendgroup": "MZ2021A104",
         "line": {
          "color": "#ab63fa",
          "dash": "solid"
         },
         "marker": {
          "symbol": "circle"
         },
         "mode": "lines+markers",
         "name": "MZ2021A104",
         "orientation": "v",
         "showlegend": false,
         "type": "scatter",
         "x": [
          1999,
          2000,
          2001,
          2002,
          2003,
          2004,
          2005,
          2006,
          2007,
          2008,
          2009,
          2010,
          2011,
          2012,
          2013,
          2014,
          2015,
          2016,
          2017,
          2018,
          2019,
          2020,
          2021,
          2022
         ],
         "xaxis": "x",
         "y": [
          0.4383960417680897,
          1.3032168361335223,
          1.0777833674261832,
          0.6834983373798112,
          3.0658785857640427,
          1.271281912798208,
          0.7227109691464872,
          0.9028785893849804,
          0.7406786293252837,
          0.7032031467400706,
          1.2683151188330193,
          1.044188532738151,
          null,
          0.8913910391742904,
          null,
          0.6264314380178055,
          null,
          0.8874505786635285,
          0.7703332118936188,
          1.0143321741823763,
          1.02774499595048,
          0.8063613967398665,
          0.8853032770492272,
          1.4805831725433671
         ],
         "yaxis": "y"
        },
        {
         "connectgaps": false,
         "hovertemplate": "fnid=MZ2021A105<br>indicator=production<br>year=%{x}<br>value=%{y}<extra></extra>",
         "legendgroup": "MZ2021A105",
         "line": {
          "color": "#FFA15A",
          "dash": "solid"
         },
         "marker": {
          "symbol": "circle"
         },
         "mode": "lines+markers",
         "name": "MZ2021A105",
         "orientation": "v",
         "showlegend": true,
         "type": "scatter",
         "x": [
          1999,
          2000,
          2001,
          2002,
          2003,
          2004,
          2005,
          2006,
          2007,
          2008,
          2009,
          2010,
          2011,
          2012,
          2013,
          2014,
          2015,
          2016,
          2017,
          2018,
          2019,
          2020,
          2021,
          2022
         ],
         "xaxis": "x3",
         "y": [
          50170,
          30334.86198686,
          57304.62596907,
          21800,
          7622,
          28383.90841431,
          10400,
          29300,
          10900,
          26600,
          56396,
          35663,
          38039,
          24800,
          null,
          63048,
          null,
          59375,
          39580,
          70219,
          76344,
          18868,
          21233,
          27539
         ],
         "yaxis": "y3"
        },
        {
         "connectgaps": false,
         "hovertemplate": "fnid=MZ2021A105<br>indicator=area<br>year=%{x}<br>value=%{y}<extra></extra>",
         "legendgroup": "MZ2021A105",
         "line": {
          "color": "#FFA15A",
          "dash": "solid"
         },
         "marker": {
          "symbol": "circle"
         },
         "mode": "lines+markers",
         "name": "MZ2021A105",
         "orientation": "v",
         "showlegend": false,
         "type": "scatter",
         "x": [
          1999,
          2000,
          2001,
          2002,
          2003,
          2004,
          2005,
          2006,
          2007,
          2008,
          2009,
          2010,
          2011,
          2012,
          2013,
          2014,
          2015,
          2016,
          2017,
          2018,
          2019,
          2020,
          2021,
          2022
         ],
         "xaxis": "x2",
         "y": [
          66913,
          40545.15068411,
          null,
          43994,
          null,
          44312.64459087,
          33953,
          28514,
          27226,
          51554,
          77352.48314555,
          48911,
          null,
          36473,
          null,
          135146,
          null,
          80130,
          86262,
          92394,
          98526,
          60717,
          62235,
          48266
         ],
         "yaxis": "y2"
        },
        {
         "connectgaps": false,
         "hovertemplate": "fnid=MZ2021A105<br>indicator=yield<br>year=%{x}<br>value=%{y}<extra></extra>",
         "legendgroup": "MZ2021A105",
         "line": {
          "color": "#FFA15A",
          "dash": "solid"
         },
         "marker": {
          "symbol": "circle"
         },
         "mode": "lines+markers",
         "name": "MZ2021A105",
         "orientation": "v",
         "showlegend": false,
         "type": "scatter",
         "x": [
          1999,
          2000,
          2001,
          2002,
          2003,
          2004,
          2005,
          2006,
          2007,
          2008,
          2009,
          2010,
          2011,
          2012,
          2013,
          2014,
          2015,
          2016,
          2017,
          2018,
          2019,
          2020,
          2021,
          2022
         ],
         "xaxis": "x",
         "y": [
          0.7497795645091387,
          0.7481748489036569,
          null,
          0.4955221166522707,
          null,
          0.6405374510226841,
          0.3063057756310193,
          1.0275654064669986,
          0.4003526041284067,
          0.5159638437366645,
          0.7290780813575524,
          0.7291406840996912,
          null,
          0.6799550352315411,
          null,
          0.466517691977565,
          null,
          0.7409834019717958,
          0.4588347128515453,
          0.7599952377860034,
          0.7748614578892881,
          0.3107531663290347,
          0.3411745802201333,
          0.570567273028633
         ],
         "yaxis": "y"
        },
        {
         "connectgaps": false,
         "hovertemplate": "fnid=MZ2021A107<br>indicator=production<br>year=%{x}<br>value=%{y}<extra></extra>",
         "legendgroup": "MZ2021A107",
         "line": {
          "color": "#19d3f3",
          "dash": "solid"
         },
         "marker": {
          "symbol": "circle"
         },
         "mode": "lines+markers",
         "name": "MZ2021A107",
         "orientation": "v",
         "showlegend": true,
         "type": "scatter",
         "x": [
          1999,
          2000,
          2001,
          2002,
          2003,
          2004,
          2005,
          2006,
          2007,
          2008,
          2009,
          2010,
          2011,
          2012,
          2013,
          2014,
          2015,
          2016,
          2017,
          2018,
          2019,
          2020,
          2021,
          2022
         ],
         "xaxis": "x3",
         "y": [
          null,
          106995.48832392,
          107478.7479378,
          117000,
          89100,
          135759.76445385,
          103000,
          124000,
          93900,
          99600,
          200260,
          265764,
          273092,
          112000,
          null,
          99800,
          null,
          100021,
          134983,
          117256,
          119799,
          165681,
          186448,
          241825
         ],
         "yaxis": "y3"
        },
        {
         "connectgaps": false,
         "hovertemplate": "fnid=MZ2021A107<br>indicator=area<br>year=%{x}<br>value=%{y}<extra></extra>",
         "legendgroup": "MZ2021A107",
         "line": {
          "color": "#19d3f3",
          "dash": "solid"
         },
         "marker": {
          "symbol": "circle"
         },
         "mode": "lines+markers",
         "name": "MZ2021A107",
         "orientation": "v",
         "showlegend": false,
         "type": "scatter",
         "x": [
          1999,
          2000,
          2001,
          2002,
          2003,
          2004,
          2005,
          2006,
          2007,
          2008,
          2009,
          2010,
          2011,
          2012,
          2013,
          2014,
          2015,
          2016,
          2017,
          2018,
          2019,
          2020,
          2021,
          2022
         ],
         "xaxis": "x2",
         "y": [
          null,
          111502.16445337,
          115000.0730036,
          107482,
          null,
          119097.28046394,
          177567,
          170463,
          144640,
          210400,
          142628.88660873,
          136396,
          null,
          139552,
          null,
          155855,
          null,
          173186,
          141179,
          165832,
          171074,
          176894,
          181316,
          140617
         ],
         "yaxis": "y2"
        },
        {
         "connectgaps": false,
         "hovertemplate": "fnid=MZ2021A107<br>indicator=yield<br>year=%{x}<br>value=%{y}<extra></extra>",
         "legendgroup": "MZ2021A107",
         "line": {
          "color": "#19d3f3",
          "dash": "solid"
         },
         "marker": {
          "symbol": "circle"
         },
         "mode": "lines+markers",
         "name": "MZ2021A107",
         "orientation": "v",
         "showlegend": false,
         "type": "scatter",
         "x": [
          1999,
          2000,
          2001,
          2002,
          2003,
          2004,
          2005,
          2006,
          2007,
          2008,
          2009,
          2010,
          2011,
          2012,
          2013,
          2014,
          2015,
          2016,
          2017,
          2018,
          2019,
          2020,
          2021,
          2022
         ],
         "xaxis": "x",
         "y": [
          null,
          0.959582164601525,
          0.9345972148594676,
          1.0885543625909455,
          null,
          1.1399065026926036,
          0.5800627368824162,
          0.7274305861095957,
          0.6491980088495575,
          0.4733840304182509,
          1.4040634037154611,
          1.9484735622745537,
          null,
          0.8025682182985554,
          null,
          0.6403387764268069,
          null,
          0.5775351356345201,
          0.9561124529852172,
          0.7070770418254619,
          0.7002759039947625,
          0.9366117561929744,
          1.0283041761344835,
          1.7197422786718533
         ],
         "yaxis": "y"
        },
        {
         "connectgaps": false,
         "hovertemplate": "fnid=MZ2021A108<br>indicator=production<br>year=%{x}<br>value=%{y}<extra></extra>",
         "legendgroup": "MZ2021A108",
         "line": {
          "color": "#FF6692",
          "dash": "solid"
         },
         "marker": {
          "symbol": "circle"
         },
         "mode": "lines+markers",
         "name": "MZ2021A108",
         "orientation": "v",
         "showlegend": true,
         "type": "scatter",
         "x": [
          1999,
          2000,
          2001,
          2002,
          2003,
          2004,
          2005,
          2006,
          2007,
          2008,
          2009,
          2010,
          2011,
          2012,
          2013,
          2014,
          2015,
          2016,
          2017,
          2018,
          2019,
          2020,
          2021,
          2022
         ],
         "xaxis": "x3",
         "y": [
          96917,
          121640.76832304,
          134327.48335291,
          175000,
          160000,
          204848.38029743,
          122000,
          223000,
          104000,
          170000,
          291197,
          null,
          373432,
          144000,
          null,
          138000,
          null,
          102360,
          143697,
          116725,
          118994,
          132772,
          149414,
          193792
         ],
         "yaxis": "y3"
        },
        {
         "connectgaps": false,
         "hovertemplate": "fnid=MZ2021A108<br>indicator=area<br>year=%{x}<br>value=%{y}<extra></extra>",
         "legendgroup": "MZ2021A108",
         "line": {
          "color": "#FF6692",
          "dash": "solid"
         },
         "marker": {
          "symbol": "circle"
         },
         "mode": "lines+markers",
         "name": "MZ2021A108",
         "orientation": "v",
         "showlegend": false,
         "type": "scatter",
         "x": [
          1999,
          2000,
          2001,
          2002,
          2003,
          2004,
          2005,
          2006,
          2007,
          2008,
          2009,
          2010,
          2011,
          2012,
          2013,
          2014,
          2015,
          2016,
          2017,
          2018,
          2019,
          2020,
          2021,
          2022
         ],
         "xaxis": "x2",
         "y": [
          101561,
          115864.15513201,
          132334.0404904,
          150173,
          null,
          143244.87741887,
          198416,
          153566,
          177376,
          196522,
          174064.38130946,
          null,
          null,
          153984,
          null,
          128434,
          null,
          134285,
          130522,
          124110,
          118606,
          125244,
          128375,
          99560
         ],
         "yaxis": "y2"
        },
        {
         "connectgaps": false,
         "hovertemplate": "fnid=MZ2021A108<br>indicator=yield<br>year=%{x}<br>value=%{y}<extra></extra>",
         "legendgroup": "MZ2021A108",
         "line": {
          "color": "#FF6692",
          "dash": "solid"
         },
         "marker": {
          "symbol": "circle"
         },
         "mode": "lines+markers",
         "name": "MZ2021A108",
         "orientation": "v",
         "showlegend": false,
         "type": "scatter",
         "x": [
          1999,
          2000,
          2001,
          2002,
          2003,
          2004,
          2005,
          2006,
          2007,
          2008,
          2009,
          2010,
          2011,
          2012,
          2013,
          2014,
          2015,
          2016,
          2017,
          2018,
          2019,
          2020,
          2021,
          2022
         ],
         "xaxis": "x",
         "y": [
          0.9542737861974576,
          1.049856775673619,
          1.0150637194717456,
          1.165322661197419,
          null,
          1.4300572836431835,
          0.614869768567051,
          1.4521443548702186,
          0.5863250947140538,
          0.8650430995003104,
          1.6729269814385288,
          null,
          null,
          0.9351620947630924,
          null,
          1.0744818350281078,
          null,
          0.762259373720073,
          1.1009408375599516,
          0.9404963338973492,
          1.003271335345598,
          1.0601066717766918,
          1.1638870496592015,
          1.9464845319405384
         ],
         "yaxis": "y"
        },
        {
         "connectgaps": false,
         "hovertemplate": "fnid=MZ2021A109<br>indicator=production<br>year=%{x}<br>value=%{y}<extra></extra>",
         "legendgroup": "MZ2021A109",
         "line": {
          "color": "#B6E880",
          "dash": "solid"
         },
         "marker": {
          "symbol": "circle"
         },
         "mode": "lines+markers",
         "name": "MZ2021A109",
         "orientation": "v",
         "showlegend": true,
         "type": "scatter",
         "x": [
          1999,
          2000,
          2001,
          2002,
          2003,
          2004,
          2005,
          2006,
          2007,
          2008,
          2009,
          2010,
          2011,
          2012,
          2013,
          2014,
          2015,
          2016,
          2017,
          2018,
          2019,
          2020,
          2021,
          2022
         ],
         "xaxis": "x3",
         "y": [
          114113,
          74567.61474421,
          79667.91380329,
          76100,
          104000,
          86409.58451478,
          52700,
          102000,
          96800,
          105000,
          93360,
          null,
          205506,
          118000,
          null,
          146853,
          87100,
          126931,
          161871,
          146494,
          151088,
          184878,
          208052,
          269846
         ],
         "yaxis": "y3"
        },
        {
         "connectgaps": false,
         "hovertemplate": "fnid=MZ2021A109<br>indicator=area<br>year=%{x}<br>value=%{y}<extra></extra>",
         "legendgroup": "MZ2021A109",
         "line": {
          "color": "#B6E880",
          "dash": "solid"
         },
         "marker": {
          "symbol": "circle"
         },
         "mode": "lines+markers",
         "name": "MZ2021A109",
         "orientation": "v",
         "showlegend": false,
         "type": "scatter",
         "x": [
          1999,
          2000,
          2001,
          2002,
          2003,
          2004,
          2005,
          2006,
          2007,
          2008,
          2009,
          2010,
          2011,
          2012,
          2013,
          2014,
          2015,
          2016,
          2017,
          2018,
          2019,
          2020,
          2021,
          2022
         ],
         "xaxis": "x2",
         "y": [
          null,
          67746.90472587,
          80662.91728301,
          128866,
          null,
          88419.82041316,
          119006,
          142996,
          119557,
          205685,
          109673.21072307,
          null,
          null,
          191256,
          null,
          221140,
          113634,
          187439,
          139653,
          179781,
          189790,
          366678,
          375845,
          291482
         ],
         "yaxis": "y2"
        },
        {
         "connectgaps": false,
         "hovertemplate": "fnid=MZ2021A109<br>indicator=yield<br>year=%{x}<br>value=%{y}<extra></extra>",
         "legendgroup": "MZ2021A109",
         "line": {
          "color": "#B6E880",
          "dash": "solid"
         },
         "marker": {
          "symbol": "circle"
         },
         "mode": "lines+markers",
         "name": "MZ2021A109",
         "orientation": "v",
         "showlegend": false,
         "type": "scatter",
         "x": [
          1999,
          2000,
          2001,
          2002,
          2003,
          2004,
          2005,
          2006,
          2007,
          2008,
          2009,
          2010,
          2011,
          2012,
          2013,
          2014,
          2015,
          2016,
          2017,
          2018,
          2019,
          2020,
          2021,
          2022
         ],
         "xaxis": "x",
         "y": [
          null,
          1.1006792863222197,
          0.9876646727736242,
          0.5905359055142552,
          null,
          0.97726487241224,
          0.4428348150513419,
          0.713306665920725,
          0.8096556454243583,
          0.5104893404963902,
          0.8512561945116969,
          null,
          null,
          0.6169741080018405,
          null,
          0.6640725332368635,
          0.7664959431156168,
          0.6771856443963102,
          1.159094326652489,
          0.8148469526813178,
          0.7960798777596291,
          0.5041971429973983,
          0.5535579826790299,
          0.9257724319168936
         ],
         "yaxis": "y"
        },
        {
         "connectgaps": false,
         "hovertemplate": "fnid=MZ2021A110<br>indicator=production<br>year=%{x}<br>value=%{y}<extra></extra>",
         "legendgroup": "MZ2021A110",
         "line": {
          "color": "#FF97FF",
          "dash": "solid"
         },
         "marker": {
          "symbol": "circle"
         },
         "mode": "lines+markers",
         "name": "MZ2021A110",
         "orientation": "v",
         "showlegend": true,
         "type": "scatter",
         "x": [
          1999,
          2000,
          2001,
          2002,
          2003,
          2004,
          2005,
          2006,
          2007,
          2008,
          2009,
          2010,
          2011,
          2012,
          2013,
          2014,
          2015,
          2016,
          2017,
          2018,
          2019,
          2020,
          2021,
          2022
         ],
         "xaxis": "x3",
         "y": [
          null,
          139985.59091107,
          151078.31770323,
          205000,
          183000,
          188188.26502252,
          174000,
          260000,
          212000,
          239000,
          261154,
          null,
          270397,
          227000,
          null,
          253201,
          null,
          249185,
          221724,
          259372,
          259700,
          461394,
          519228,
          673444
         ],
         "yaxis": "y3"
        },
        {
         "connectgaps": false,
         "hovertemplate": "fnid=MZ2021A110<br>indicator=area<br>year=%{x}<br>value=%{y}<extra></extra>",
         "legendgroup": "MZ2021A110",
         "line": {
          "color": "#FF97FF",
          "dash": "solid"
         },
         "marker": {
          "symbol": "circle"
         },
         "mode": "lines+markers",
         "name": "MZ2021A110",
         "orientation": "v",
         "showlegend": false,
         "type": "scatter",
         "x": [
          1999,
          2000,
          2001,
          2002,
          2003,
          2004,
          2005,
          2006,
          2007,
          2008,
          2009,
          2010,
          2011,
          2012,
          2013,
          2014,
          2015,
          2016,
          2017,
          2018,
          2019,
          2020,
          2021,
          2022
         ],
         "xaxis": "x2",
         "y": [
          null,
          143673.3600176,
          159715.51754763,
          271200,
          null,
          174675.21247654,
          319784,
          264258,
          239555,
          303532,
          208600.03286741,
          null,
          null,
          261130,
          null,
          308538,
          null,
          254020,
          191735,
          225788,
          226836,
          434052,
          444903,
          345039
         ],
         "yaxis": "y2"
        },
        {
         "connectgaps": false,
         "hovertemplate": "fnid=MZ2021A110<br>indicator=yield<br>year=%{x}<br>value=%{y}<extra></extra>",
         "legendgroup": "MZ2021A110",
         "line": {
          "color": "#FF97FF",
          "dash": "solid"
         },
         "marker": {
          "symbol": "circle"
         },
         "mode": "lines+markers",
         "name": "MZ2021A110",
         "orientation": "v",
         "showlegend": false,
         "type": "scatter",
         "x": [
          1999,
          2000,
          2001,
          2002,
          2003,
          2004,
          2005,
          2006,
          2007,
          2008,
          2009,
          2010,
          2011,
          2012,
          2013,
          2014,
          2015,
          2016,
          2017,
          2018,
          2019,
          2020,
          2021,
          2022
         ],
         "xaxis": "x",
         "y": [
          null,
          0.9743322693498764,
          0.9459213483008984,
          0.7558997050147492,
          null,
          1.0773610196569527,
          0.5441172791634353,
          0.9838869589567772,
          0.8849742230385507,
          0.7873963865424404,
          1.2519365237396405,
          null,
          null,
          0.8692988166813465,
          null,
          0.8206476997971076,
          null,
          0.9809660656641208,
          1.1564085847654315,
          1.1487412971459954,
          1.1448800014107108,
          1.06299245251721,
          1.1670588869933447,
          1.9517909569642853
         ],
         "yaxis": "y"
        },
        {
         "connectgaps": false,
         "hovertemplate": "fnid=MZ2021A111<br>indicator=production<br>year=%{x}<br>value=%{y}<extra></extra>",
         "legendgroup": "MZ2021A111",
         "line": {
          "color": "#FECB52",
          "dash": "solid"
         },
         "marker": {
          "symbol": "circle"
         },
         "mode": "lines+markers",
         "name": "MZ2021A111",
         "orientation": "v",
         "showlegend": true,
         "type": "scatter",
         "x": [
          1999,
          2000,
          2001,
          2002,
          2003,
          2004,
          2005,
          2006,
          2007,
          2008,
          2009,
          2010,
          2011,
          2012,
          2013,
          2014,
          2015,
          2016,
          2017,
          2018,
          2019,
          2020,
          2021,
          2022
         ],
         "xaxis": "x3",
         "y": [
          null,
          166786.9161951,
          194952.72903591,
          185000,
          299000,
          277623.10801519,
          179000,
          213000,
          229000,
          209000,
          345059,
          330165,
          351956,
          179000,
          null,
          246798,
          null,
          191074,
          271240,
          246210,
          257088,
          267114,
          300596,
          389876
         ],
         "yaxis": "y3"
        },
        {
         "connectgaps": false,
         "hovertemplate": "fnid=MZ2021A111<br>indicator=area<br>year=%{x}<br>value=%{y}<extra></extra>",
         "legendgroup": "MZ2021A111",
         "line": {
          "color": "#FECB52",
          "dash": "solid"
         },
         "marker": {
          "symbol": "circle"
         },
         "mode": "lines+markers",
         "name": "MZ2021A111",
         "orientation": "v",
         "showlegend": false,
         "type": "scatter",
         "x": [
          1999,
          2000,
          2001,
          2002,
          2003,
          2004,
          2005,
          2006,
          2007,
          2008,
          2009,
          2010,
          2011,
          2012,
          2013,
          2014,
          2015,
          2016,
          2017,
          2018,
          2019,
          2020,
          2021,
          2022
         ],
         "xaxis": "x2",
         "y": [
          null,
          189961.56900058,
          202081.06405291,
          251619,
          null,
          220887.99846876,
          345728,
          280937,
          269301,
          326647,
          247255.8562009,
          193355,
          null,
          268062,
          null,
          353060,
          null,
          312392,
          273006,
          303139,
          309454,
          377159,
          386588,
          299813
         ],
         "yaxis": "y2"
        },
        {
         "connectgaps": false,
         "hovertemplate": "fnid=MZ2021A111<br>indicator=yield<br>year=%{x}<br>value=%{y}<extra></extra>",
         "legendgroup": "MZ2021A111",
         "line": {
          "color": "#FECB52",
          "dash": "solid"
         },
         "marker": {
          "symbol": "circle"
         },
         "mode": "lines+markers",
         "name": "MZ2021A111",
         "orientation": "v",
         "showlegend": false,
         "type": "scatter",
         "x": [
          1999,
          2000,
          2001,
          2002,
          2003,
          2004,
          2005,
          2006,
          2007,
          2008,
          2009,
          2010,
          2011,
          2012,
          2013,
          2014,
          2015,
          2016,
          2017,
          2018,
          2019,
          2020,
          2021,
          2022
         ],
         "xaxis": "x",
         "y": [
          null,
          0.8780034670833381,
          0.9647253687503664,
          0.7352385948596887,
          null,
          1.2568501228664717,
          0.5177480562754535,
          0.7581771002039603,
          0.8503496088020468,
          0.6398344390121447,
          1.3955544078989706,
          1.7075586356701404,
          null,
          0.6677559669031791,
          null,
          0.6990256613606752,
          null,
          0.6116481856129479,
          0.9935312777008564,
          0.8122016632633874,
          0.830779372701597,
          0.7082265039413086,
          0.7775616418512732,
          1.3003972476176815
         ],
         "yaxis": "y"
        }
       ],
       "layout": {
        "annotations": [
         {
          "showarrow": false,
          "text": "",
          "textangle": 90,
          "x": 0.98,
          "xanchor": "left",
          "xref": "paper",
          "y": 0.16333333333333333,
          "yanchor": "middle",
          "yref": "paper"
         },
         {
          "showarrow": false,
          "text": "",
          "textangle": 90,
          "x": 0.98,
          "xanchor": "left",
          "xref": "paper",
          "y": 0.5,
          "yanchor": "middle",
          "yref": "paper"
         },
         {
          "showarrow": false,
          "text": "",
          "textangle": 90,
          "x": 0.98,
          "xanchor": "left",
          "xref": "paper",
          "y": 0.8366666666666667,
          "yanchor": "middle",
          "yref": "paper"
         },
         {
          "align": "left",
          "font": {
           "color": "dimgrey",
           "family": "arial",
           "size": 15
          },
          "showarrow": false,
          "text": "Production-Area-Yield time-series of MZ - Maize - Main",
          "x": -0.014,
          "xref": "paper",
          "y": -0.14,
          "yref": "paper"
         }
        ],
        "font": {
         "color": "black",
         "family": "arial",
         "size": 16
        },
        "height": 600,
        "legend": {
         "font": {
          "size": 14
         },
         "title": {
          "text": "FNID"
         },
         "tracegroupgap": 0,
         "x": 1,
         "xanchor": "left",
         "y": 1,
         "yanchor": "top"
        },
        "margin": {
         "b": 25,
         "l": 0,
         "r": 0,
         "t": 0
        },
        "template": {
         "data": {
          "bar": [
           {
            "error_x": {
             "color": "#2a3f5f"
            },
            "error_y": {
             "color": "#2a3f5f"
            },
            "marker": {
             "line": {
              "color": "#E5ECF6",
              "width": 0.5
             },
             "pattern": {
              "fillmode": "overlay",
              "size": 10,
              "solidity": 0.2
             }
            },
            "type": "bar"
           }
          ],
          "barpolar": [
           {
            "marker": {
             "line": {
              "color": "#E5ECF6",
              "width": 0.5
             },
             "pattern": {
              "fillmode": "overlay",
              "size": 10,
              "solidity": 0.2
             }
            },
            "type": "barpolar"
           }
          ],
          "carpet": [
           {
            "aaxis": {
             "endlinecolor": "#2a3f5f",
             "gridcolor": "white",
             "linecolor": "white",
             "minorgridcolor": "white",
             "startlinecolor": "#2a3f5f"
            },
            "baxis": {
             "endlinecolor": "#2a3f5f",
             "gridcolor": "white",
             "linecolor": "white",
             "minorgridcolor": "white",
             "startlinecolor": "#2a3f5f"
            },
            "type": "carpet"
           }
          ],
          "choropleth": [
           {
            "colorbar": {
             "outlinewidth": 0,
             "ticks": ""
            },
            "type": "choropleth"
           }
          ],
          "contour": [
           {
            "colorbar": {
             "outlinewidth": 0,
             "ticks": ""
            },
            "colorscale": [
             [
              0,
              "#0d0887"
             ],
             [
              0.1111111111111111,
              "#46039f"
             ],
             [
              0.2222222222222222,
              "#7201a8"
             ],
             [
              0.3333333333333333,
              "#9c179e"
             ],
             [
              0.4444444444444444,
              "#bd3786"
             ],
             [
              0.5555555555555556,
              "#d8576b"
             ],
             [
              0.6666666666666666,
              "#ed7953"
             ],
             [
              0.7777777777777778,
              "#fb9f3a"
             ],
             [
              0.8888888888888888,
              "#fdca26"
             ],
             [
              1,
              "#f0f921"
             ]
            ],
            "type": "contour"
           }
          ],
          "contourcarpet": [
           {
            "colorbar": {
             "outlinewidth": 0,
             "ticks": ""
            },
            "type": "contourcarpet"
           }
          ],
          "heatmap": [
           {
            "colorbar": {
             "outlinewidth": 0,
             "ticks": ""
            },
            "colorscale": [
             [
              0,
              "#0d0887"
             ],
             [
              0.1111111111111111,
              "#46039f"
             ],
             [
              0.2222222222222222,
              "#7201a8"
             ],
             [
              0.3333333333333333,
              "#9c179e"
             ],
             [
              0.4444444444444444,
              "#bd3786"
             ],
             [
              0.5555555555555556,
              "#d8576b"
             ],
             [
              0.6666666666666666,
              "#ed7953"
             ],
             [
              0.7777777777777778,
              "#fb9f3a"
             ],
             [
              0.8888888888888888,
              "#fdca26"
             ],
             [
              1,
              "#f0f921"
             ]
            ],
            "type": "heatmap"
           }
          ],
          "heatmapgl": [
           {
            "colorbar": {
             "outlinewidth": 0,
             "ticks": ""
            },
            "colorscale": [
             [
              0,
              "#0d0887"
             ],
             [
              0.1111111111111111,
              "#46039f"
             ],
             [
              0.2222222222222222,
              "#7201a8"
             ],
             [
              0.3333333333333333,
              "#9c179e"
             ],
             [
              0.4444444444444444,
              "#bd3786"
             ],
             [
              0.5555555555555556,
              "#d8576b"
             ],
             [
              0.6666666666666666,
              "#ed7953"
             ],
             [
              0.7777777777777778,
              "#fb9f3a"
             ],
             [
              0.8888888888888888,
              "#fdca26"
             ],
             [
              1,
              "#f0f921"
             ]
            ],
            "type": "heatmapgl"
           }
          ],
          "histogram": [
           {
            "marker": {
             "pattern": {
              "fillmode": "overlay",
              "size": 10,
              "solidity": 0.2
             }
            },
            "type": "histogram"
           }
          ],
          "histogram2d": [
           {
            "colorbar": {
             "outlinewidth": 0,
             "ticks": ""
            },
            "colorscale": [
             [
              0,
              "#0d0887"
             ],
             [
              0.1111111111111111,
              "#46039f"
             ],
             [
              0.2222222222222222,
              "#7201a8"
             ],
             [
              0.3333333333333333,
              "#9c179e"
             ],
             [
              0.4444444444444444,
              "#bd3786"
             ],
             [
              0.5555555555555556,
              "#d8576b"
             ],
             [
              0.6666666666666666,
              "#ed7953"
             ],
             [
              0.7777777777777778,
              "#fb9f3a"
             ],
             [
              0.8888888888888888,
              "#fdca26"
             ],
             [
              1,
              "#f0f921"
             ]
            ],
            "type": "histogram2d"
           }
          ],
          "histogram2dcontour": [
           {
            "colorbar": {
             "outlinewidth": 0,
             "ticks": ""
            },
            "colorscale": [
             [
              0,
              "#0d0887"
             ],
             [
              0.1111111111111111,
              "#46039f"
             ],
             [
              0.2222222222222222,
              "#7201a8"
             ],
             [
              0.3333333333333333,
              "#9c179e"
             ],
             [
              0.4444444444444444,
              "#bd3786"
             ],
             [
              0.5555555555555556,
              "#d8576b"
             ],
             [
              0.6666666666666666,
              "#ed7953"
             ],
             [
              0.7777777777777778,
              "#fb9f3a"
             ],
             [
              0.8888888888888888,
              "#fdca26"
             ],
             [
              1,
              "#f0f921"
             ]
            ],
            "type": "histogram2dcontour"
           }
          ],
          "mesh3d": [
           {
            "colorbar": {
             "outlinewidth": 0,
             "ticks": ""
            },
            "type": "mesh3d"
           }
          ],
          "parcoords": [
           {
            "line": {
             "colorbar": {
              "outlinewidth": 0,
              "ticks": ""
             }
            },
            "type": "parcoords"
           }
          ],
          "pie": [
           {
            "automargin": true,
            "type": "pie"
           }
          ],
          "scatter": [
           {
            "fillpattern": {
             "fillmode": "overlay",
             "size": 10,
             "solidity": 0.2
            },
            "type": "scatter"
           }
          ],
          "scatter3d": [
           {
            "line": {
             "colorbar": {
              "outlinewidth": 0,
              "ticks": ""
             }
            },
            "marker": {
             "colorbar": {
              "outlinewidth": 0,
              "ticks": ""
             }
            },
            "type": "scatter3d"
           }
          ],
          "scattercarpet": [
           {
            "marker": {
             "colorbar": {
              "outlinewidth": 0,
              "ticks": ""
             }
            },
            "type": "scattercarpet"
           }
          ],
          "scattergeo": [
           {
            "marker": {
             "colorbar": {
              "outlinewidth": 0,
              "ticks": ""
             }
            },
            "type": "scattergeo"
           }
          ],
          "scattergl": [
           {
            "marker": {
             "colorbar": {
              "outlinewidth": 0,
              "ticks": ""
             }
            },
            "type": "scattergl"
           }
          ],
          "scattermapbox": [
           {
            "marker": {
             "colorbar": {
              "outlinewidth": 0,
              "ticks": ""
             }
            },
            "type": "scattermapbox"
           }
          ],
          "scatterpolar": [
           {
            "marker": {
             "colorbar": {
              "outlinewidth": 0,
              "ticks": ""
             }
            },
            "type": "scatterpolar"
           }
          ],
          "scatterpolargl": [
           {
            "marker": {
             "colorbar": {
              "outlinewidth": 0,
              "ticks": ""
             }
            },
            "type": "scatterpolargl"
           }
          ],
          "scatterternary": [
           {
            "marker": {
             "colorbar": {
              "outlinewidth": 0,
              "ticks": ""
             }
            },
            "type": "scatterternary"
           }
          ],
          "surface": [
           {
            "colorbar": {
             "outlinewidth": 0,
             "ticks": ""
            },
            "colorscale": [
             [
              0,
              "#0d0887"
             ],
             [
              0.1111111111111111,
              "#46039f"
             ],
             [
              0.2222222222222222,
              "#7201a8"
             ],
             [
              0.3333333333333333,
              "#9c179e"
             ],
             [
              0.4444444444444444,
              "#bd3786"
             ],
             [
              0.5555555555555556,
              "#d8576b"
             ],
             [
              0.6666666666666666,
              "#ed7953"
             ],
             [
              0.7777777777777778,
              "#fb9f3a"
             ],
             [
              0.8888888888888888,
              "#fdca26"
             ],
             [
              1,
              "#f0f921"
             ]
            ],
            "type": "surface"
           }
          ],
          "table": [
           {
            "cells": {
             "fill": {
              "color": "#EBF0F8"
             },
             "line": {
              "color": "white"
             }
            },
            "header": {
             "fill": {
              "color": "#C8D4E3"
             },
             "line": {
              "color": "white"
             }
            },
            "type": "table"
           }
          ]
         },
         "layout": {
          "annotationdefaults": {
           "arrowcolor": "#2a3f5f",
           "arrowhead": 0,
           "arrowwidth": 1
          },
          "autotypenumbers": "strict",
          "coloraxis": {
           "colorbar": {
            "outlinewidth": 0,
            "ticks": ""
           }
          },
          "colorscale": {
           "diverging": [
            [
             0,
             "#8e0152"
            ],
            [
             0.1,
             "#c51b7d"
            ],
            [
             0.2,
             "#de77ae"
            ],
            [
             0.3,
             "#f1b6da"
            ],
            [
             0.4,
             "#fde0ef"
            ],
            [
             0.5,
             "#f7f7f7"
            ],
            [
             0.6,
             "#e6f5d0"
            ],
            [
             0.7,
             "#b8e186"
            ],
            [
             0.8,
             "#7fbc41"
            ],
            [
             0.9,
             "#4d9221"
            ],
            [
             1,
             "#276419"
            ]
           ],
           "sequential": [
            [
             0,
             "#0d0887"
            ],
            [
             0.1111111111111111,
             "#46039f"
            ],
            [
             0.2222222222222222,
             "#7201a8"
            ],
            [
             0.3333333333333333,
             "#9c179e"
            ],
            [
             0.4444444444444444,
             "#bd3786"
            ],
            [
             0.5555555555555556,
             "#d8576b"
            ],
            [
             0.6666666666666666,
             "#ed7953"
            ],
            [
             0.7777777777777778,
             "#fb9f3a"
            ],
            [
             0.8888888888888888,
             "#fdca26"
            ],
            [
             1,
             "#f0f921"
            ]
           ],
           "sequentialminus": [
            [
             0,
             "#0d0887"
            ],
            [
             0.1111111111111111,
             "#46039f"
            ],
            [
             0.2222222222222222,
             "#7201a8"
            ],
            [
             0.3333333333333333,
             "#9c179e"
            ],
            [
             0.4444444444444444,
             "#bd3786"
            ],
            [
             0.5555555555555556,
             "#d8576b"
            ],
            [
             0.6666666666666666,
             "#ed7953"
            ],
            [
             0.7777777777777778,
             "#fb9f3a"
            ],
            [
             0.8888888888888888,
             "#fdca26"
            ],
            [
             1,
             "#f0f921"
            ]
           ]
          },
          "colorway": [
           "#636efa",
           "#EF553B",
           "#00cc96",
           "#ab63fa",
           "#FFA15A",
           "#19d3f3",
           "#FF6692",
           "#B6E880",
           "#FF97FF",
           "#FECB52"
          ],
          "font": {
           "color": "#2a3f5f"
          },
          "geo": {
           "bgcolor": "white",
           "lakecolor": "white",
           "landcolor": "#E5ECF6",
           "showlakes": true,
           "showland": true,
           "subunitcolor": "white"
          },
          "hoverlabel": {
           "align": "left"
          },
          "hovermode": "closest",
          "mapbox": {
           "style": "light"
          },
          "paper_bgcolor": "white",
          "plot_bgcolor": "#E5ECF6",
          "polar": {
           "angularaxis": {
            "gridcolor": "white",
            "linecolor": "white",
            "ticks": ""
           },
           "bgcolor": "#E5ECF6",
           "radialaxis": {
            "gridcolor": "white",
            "linecolor": "white",
            "ticks": ""
           }
          },
          "scene": {
           "xaxis": {
            "backgroundcolor": "#E5ECF6",
            "gridcolor": "white",
            "gridwidth": 2,
            "linecolor": "white",
            "showbackground": true,
            "ticks": "",
            "zerolinecolor": "white"
           },
           "yaxis": {
            "backgroundcolor": "#E5ECF6",
            "gridcolor": "white",
            "gridwidth": 2,
            "linecolor": "white",
            "showbackground": true,
            "ticks": "",
            "zerolinecolor": "white"
           },
           "zaxis": {
            "backgroundcolor": "#E5ECF6",
            "gridcolor": "white",
            "gridwidth": 2,
            "linecolor": "white",
            "showbackground": true,
            "ticks": "",
            "zerolinecolor": "white"
           }
          },
          "shapedefaults": {
           "line": {
            "color": "#2a3f5f"
           }
          },
          "ternary": {
           "aaxis": {
            "gridcolor": "white",
            "linecolor": "white",
            "ticks": ""
           },
           "baxis": {
            "gridcolor": "white",
            "linecolor": "white",
            "ticks": ""
           },
           "bgcolor": "#E5ECF6",
           "caxis": {
            "gridcolor": "white",
            "linecolor": "white",
            "ticks": ""
           }
          },
          "title": {
           "x": 0.05
          },
          "xaxis": {
           "automargin": true,
           "gridcolor": "white",
           "linecolor": "white",
           "ticks": "",
           "title": {
            "standoff": 15
           },
           "zerolinecolor": "white",
           "zerolinewidth": 2
          },
          "yaxis": {
           "automargin": true,
           "gridcolor": "white",
           "linecolor": "white",
           "ticks": "",
           "title": {
            "standoff": 15
           },
           "zerolinecolor": "white",
           "zerolinewidth": 2
          }
         }
        },
        "width": 900,
        "xaxis": {
         "anchor": "y",
         "domain": [
          0,
          0.98
         ],
         "dtick": 1,
         "range": [
          1999,
          2022
         ],
         "title": {
          "text": ""
         }
        },
        "xaxis2": {
         "anchor": "y2",
         "domain": [
          0,
          0.98
         ],
         "dtick": 1,
         "matches": "x",
         "showticklabels": false
        },
        "xaxis3": {
         "anchor": "y3",
         "domain": [
          0,
          0.98
         ],
         "dtick": 1,
         "matches": "x",
         "showticklabels": false
        },
        "yaxis": {
         "anchor": "x",
         "domain": [
          0,
          0.32666666666666666
         ],
         "title": {
          "text": "Yield (mt/ha)"
         }
        },
        "yaxis2": {
         "anchor": "x2",
         "domain": [
          0.33666666666666667,
          0.6633333333333333
         ],
         "title": {
          "text": "Area (ha)"
         }
        },
        "yaxis3": {
         "anchor": "x3",
         "domain": [
          0.6733333333333333,
          1
         ],
         "title": {
          "text": "Production (mt)"
         }
        }
       }
      }
     },
     "metadata": {},
     "output_type": "display_data"
    },
    {
     "name": "stdout",
     "output_type": "stream",
     "text": [
      "../figures/MZ_line_pay_Sorghum_Main.png is saved.\n"
     ]
    },
    {
     "data": {
      "application/vnd.plotly.v1+json": {
       "config": {
        "plotlyServerURL": "https://plot.ly"
       },
       "data": [
        {
         "connectgaps": false,
         "hovertemplate": "fnid=MZ2021A101<br>indicator=production<br>year=%{x}<br>value=%{y}<extra></extra>",
         "legendgroup": "MZ2021A101",
         "line": {
          "color": "#636efa",
          "dash": "solid"
         },
         "marker": {
          "symbol": "circle"
         },
         "mode": "lines+markers",
         "name": "MZ2021A101",
         "orientation": "v",
         "showlegend": true,
         "type": "scatter",
         "x": [
          1999,
          2000,
          2001,
          2002,
          2003,
          2004,
          2005,
          2006,
          2007,
          2008,
          2009,
          2010,
          2011,
          2012,
          2013,
          2014,
          2015,
          2016,
          2017,
          2018,
          2019,
          2020,
          2021,
          2022
         ],
         "xaxis": "x3",
         "y": [
          44662,
          28605.77052243,
          36931.1967901,
          74709,
          140226.77358763,
          49304.86497097,
          91431,
          77634,
          17747,
          16800,
          61941,
          65255,
          68941,
          17595,
          null,
          22873,
          null,
          10439,
          19550,
          20519,
          21519,
          9755,
          10073,
          11300
         ],
         "yaxis": "y3"
        },
        {
         "connectgaps": false,
         "hovertemplate": "fnid=MZ2021A101<br>indicator=area<br>year=%{x}<br>value=%{y}<extra></extra>",
         "legendgroup": "MZ2021A101",
         "line": {
          "color": "#636efa",
          "dash": "solid"
         },
         "marker": {
          "symbol": "circle"
         },
         "mode": "lines+markers",
         "name": "MZ2021A101",
         "orientation": "v",
         "showlegend": false,
         "type": "scatter",
         "x": [
          1999,
          2000,
          2001,
          2002,
          2003,
          2004,
          2005,
          2006,
          2007,
          2008,
          2009,
          2010,
          2011,
          2012,
          2013,
          2014,
          2015,
          2016,
          2017,
          2018,
          2019,
          2020,
          2021,
          2022
         ],
         "xaxis": "x2",
         "y": [
          63299,
          56074.92259299,
          65934.95855376,
          55500,
          67517.29897426,
          null,
          73700,
          60500,
          57100,
          50700,
          87469.37618088,
          43377,
          null,
          40900,
          null,
          53800,
          null,
          36742,
          33621,
          30501,
          32381,
          18576,
          19040,
          20746
         ],
         "yaxis": "y2"
        },
        {
         "connectgaps": false,
         "hovertemplate": "fnid=MZ2021A101<br>indicator=yield<br>year=%{x}<br>value=%{y}<extra></extra>",
         "legendgroup": "MZ2021A101",
         "line": {
          "color": "#636efa",
          "dash": "solid"
         },
         "marker": {
          "symbol": "circle"
         },
         "mode": "lines+markers",
         "name": "MZ2021A101",
         "orientation": "v",
         "showlegend": false,
         "type": "scatter",
         "x": [
          1999,
          2000,
          2001,
          2002,
          2003,
          2004,
          2005,
          2006,
          2007,
          2008,
          2009,
          2010,
          2011,
          2012,
          2013,
          2014,
          2015,
          2016,
          2017,
          2018,
          2019,
          2020,
          2021,
          2022
         ],
         "xaxis": "x",
         "y": [
          0.7055719679615792,
          0.510134819624451,
          0.560115568435342,
          1.346108108108108,
          2.0769014122008858,
          null,
          1.240583446404342,
          1.2832066115702478,
          0.3108056042031523,
          0.3313609467455621,
          0.7081449840445956,
          1.504368674643244,
          null,
          0.4301955990220049,
          null,
          0.4251486988847583,
          null,
          0.2841162702084807,
          0.5814818119627614,
          0.6727320415724075,
          0.6645563756523888,
          0.5251399655469423,
          0.5290441176470588,
          0.5446833124457727
         ],
         "yaxis": "y"
        },
        {
         "connectgaps": false,
         "hovertemplate": "fnid=MZ2021A102<br>indicator=production<br>year=%{x}<br>value=%{y}<extra></extra>",
         "legendgroup": "MZ2021A102",
         "line": {
          "color": "#EF553B",
          "dash": "solid"
         },
         "marker": {
          "symbol": "circle"
         },
         "mode": "lines+markers",
         "name": "MZ2021A102",
         "orientation": "v",
         "showlegend": true,
         "type": "scatter",
         "x": [
          1999,
          2000,
          2001,
          2002,
          2003,
          2004,
          2005,
          2006,
          2007,
          2008,
          2009,
          2010,
          2011,
          2012,
          2013,
          2014,
          2015,
          2016,
          2017,
          2018,
          2019,
          2020,
          2021,
          2022
         ],
         "xaxis": "x3",
         "y": [
          2975,
          4056.32946046,
          1227.9519539,
          5982.05852135,
          7308.88791154,
          4354.63406603,
          1062.0994213499998,
          2816.38708997,
          1460,
          1495,
          1574,
          1416,
          1558,
          104,
          null,
          144,
          null,
          1641,
          1709,
          1777,
          1845,
          1472,
          1520,
          1705
         ],
         "yaxis": "y3"
        },
        {
         "connectgaps": false,
         "hovertemplate": "fnid=MZ2021A102<br>indicator=area<br>year=%{x}<br>value=%{y}<extra></extra>",
         "legendgroup": "MZ2021A102",
         "line": {
          "color": "#EF553B",
          "dash": "solid"
         },
         "marker": {
          "symbol": "circle"
         },
         "mode": "lines+markers",
         "name": "MZ2021A102",
         "orientation": "v",
         "showlegend": false,
         "type": "scatter",
         "x": [
          1999,
          2000,
          2001,
          2002,
          2003,
          2004,
          2005,
          2006,
          2007,
          2008,
          2009,
          2010,
          2011,
          2012,
          2013,
          2014,
          2015,
          2016,
          2017,
          2018,
          2019,
          2020,
          2021,
          2022
         ],
         "xaxis": "x2",
         "y": [
          9919,
          10140.82365114,
          15341.44785043,
          13054.67845761,
          13489.62637179,
          15453.38283507,
          1880.33140451,
          3415.29176552,
          2652.61797504,
          3496.19464934,
          3666.30898286,
          2414,
          null,
          1200,
          null,
          700,
          null,
          1559,
          1703,
          2747,
          4463,
          7732,
          7925,
          8635
         ],
         "yaxis": "y2"
        },
        {
         "connectgaps": false,
         "hovertemplate": "fnid=MZ2021A102<br>indicator=yield<br>year=%{x}<br>value=%{y}<extra></extra>",
         "legendgroup": "MZ2021A102",
         "line": {
          "color": "#EF553B",
          "dash": "solid"
         },
         "marker": {
          "symbol": "circle"
         },
         "mode": "lines+markers",
         "name": "MZ2021A102",
         "orientation": "v",
         "showlegend": false,
         "type": "scatter",
         "x": [
          1999,
          2000,
          2001,
          2002,
          2003,
          2004,
          2005,
          2006,
          2007,
          2008,
          2009,
          2010,
          2011,
          2012,
          2013,
          2014,
          2015,
          2016,
          2017,
          2018,
          2019,
          2020,
          2021,
          2022
         ],
         "xaxis": "x",
         "y": [
          0.2999294283697953,
          0.4000000000003945,
          0.0800414645261517,
          0.4582310120294737,
          0.5418154447053192,
          0.281791638277903,
          0.5648469300691038,
          0.8246402601392936,
          0.550399648097832,
          0.4276077707178635,
          0.4293146069680576,
          0.5865782932891467,
          null,
          0.0866666666666666,
          null,
          0.2057142857142857,
          null,
          1.052597819114817,
          1.003523194362889,
          0.646887513651256,
          0.4133990589289715,
          0.1903776513191929,
          0.1917981072555205,
          0.197452229299363
         ],
         "yaxis": "y"
        },
        {
         "connectgaps": false,
         "hovertemplate": "fnid=MZ2021A103<br>indicator=production<br>year=%{x}<br>value=%{y}<extra></extra>",
         "legendgroup": "MZ2021A103",
         "line": {
          "color": "#00cc96",
          "dash": "solid"
         },
         "marker": {
          "symbol": "circle"
         },
         "mode": "lines+markers",
         "name": "MZ2021A103",
         "orientation": "v",
         "showlegend": true,
         "type": "scatter",
         "x": [
          1999,
          2000,
          2001,
          2002,
          2003,
          2004,
          2005,
          2006,
          2007,
          2008,
          2009,
          2010,
          2011,
          2012,
          2013,
          2014,
          2015,
          2016,
          2017,
          2018,
          2019,
          2020,
          2021,
          2022
         ],
         "xaxis": "x3",
         "y": [
          12437,
          12327.47833636,
          13171.62263978,
          1452,
          9476.34572062,
          12453.2686987,
          9706.31189649,
          19017.9962186,
          10117,
          10476,
          10856,
          10085,
          10377,
          817,
          null,
          767,
          null,
          2485,
          2754,
          4023,
          4817,
          626,
          646,
          725
         ],
         "yaxis": "y3"
        },
        {
         "connectgaps": false,
         "hovertemplate": "fnid=MZ2021A103<br>indicator=area<br>year=%{x}<br>value=%{y}<extra></extra>",
         "legendgroup": "MZ2021A103",
         "line": {
          "color": "#00cc96",
          "dash": "solid"
         },
         "marker": {
          "symbol": "circle"
         },
         "mode": "lines+markers",
         "name": "MZ2021A103",
         "orientation": "v",
         "showlegend": false,
         "type": "scatter",
         "x": [
          1999,
          2000,
          2001,
          2002,
          2003,
          2004,
          2005,
          2006,
          2007,
          2008,
          2009,
          2010,
          2011,
          2012,
          2013,
          2014,
          2015,
          2016,
          2017,
          2018,
          2019,
          2020,
          2021,
          2022
         ],
         "xaxis": "x2",
         "y": [
          41457,
          23259.39308747,
          26343.24527955,
          14200,
          21762.95614406,
          24544.16863716,
          16246.94184146,
          25921.58651913,
          20237.88953607,
          26448.42609698,
          26826.73008199,
          11543,
          null,
          4800,
          null,
          3500,
          null,
          3516,
          3846,
          4816,
          4780,
          5224,
          5355,
          5835
         ],
         "yaxis": "y2"
        },
        {
         "connectgaps": false,
         "hovertemplate": "fnid=MZ2021A103<br>indicator=yield<br>year=%{x}<br>value=%{y}<extra></extra>",
         "legendgroup": "MZ2021A103",
         "line": {
          "color": "#00cc96",
          "dash": "solid"
         },
         "marker": {
          "symbol": "circle"
         },
         "mode": "lines+markers",
         "name": "MZ2021A103",
         "orientation": "v",
         "showlegend": false,
         "type": "scatter",
         "x": [
          1999,
          2000,
          2001,
          2002,
          2003,
          2004,
          2005,
          2006,
          2007,
          2008,
          2009,
          2010,
          2011,
          2012,
          2013,
          2014,
          2015,
          2016,
          2017,
          2018,
          2019,
          2020,
          2021,
          2022
         ],
         "xaxis": "x",
         "y": [
          0.2999975878621222,
          0.5300000000000387,
          0.5000000000001898,
          0.1022535211267605,
          0.4354346743103869,
          0.507381972589843,
          0.5974239331441936,
          0.7336740829719204,
          0.4999039046027238,
          0.3960916222986969,
          0.4046710115925803,
          0.8736896820583904,
          null,
          0.1702083333333333,
          null,
          0.2191428571428571,
          null,
          0.7067690557451649,
          0.7160686427457098,
          0.8353405315614618,
          1.007740585774059,
          0.1198315467075038,
          0.1206349206349206,
          0.1242502142245072
         ],
         "yaxis": "y"
        },
        {
         "connectgaps": false,
         "hovertemplate": "fnid=MZ2021A104<br>indicator=production<br>year=%{x}<br>value=%{y}<extra></extra>",
         "legendgroup": "MZ2021A104",
         "line": {
          "color": "#ab63fa",
          "dash": "solid"
         },
         "marker": {
          "symbol": "circle"
         },
         "mode": "lines+markers",
         "name": "MZ2021A104",
         "orientation": "v",
         "showlegend": true,
         "type": "scatter",
         "x": [
          1999,
          2000,
          2001,
          2002,
          2003,
          2004,
          2005,
          2006,
          2007,
          2008,
          2009,
          2010,
          2011,
          2012,
          2013,
          2014,
          2015,
          2016,
          2017,
          2018,
          2019,
          2020,
          2021,
          2022
         ],
         "xaxis": "x3",
         "y": [
          null,
          23279.25779452,
          30707.71048456,
          61863.16100627,
          90118.71586144,
          29247.75486834,
          65911.38781478,
          125017.01103099,
          37350,
          39140,
          39928,
          40759,
          42966,
          21298,
          null,
          30922,
          null,
          21895,
          20968,
          22040,
          23112,
          17998,
          18585,
          20848
         ],
         "yaxis": "y3"
        },
        {
         "connectgaps": false,
         "hovertemplate": "fnid=MZ2021A104<br>indicator=area<br>year=%{x}<br>value=%{y}<extra></extra>",
         "legendgroup": "MZ2021A104",
         "line": {
          "color": "#ab63fa",
          "dash": "solid"
         },
         "marker": {
          "symbol": "circle"
         },
         "mode": "lines+markers",
         "name": "MZ2021A104",
         "orientation": "v",
         "showlegend": false,
         "type": "scatter",
         "x": [
          1999,
          2000,
          2001,
          2002,
          2003,
          2004,
          2005,
          2006,
          2007,
          2008,
          2009,
          2010,
          2011,
          2012,
          2013,
          2014,
          2015,
          2016,
          2017,
          2018,
          2019,
          2020,
          2021,
          2022
         ],
         "xaxis": "x2",
         "y": [
          null,
          34745.16088734,
          45832.40370829,
          46977.57784002,
          47628.345188,
          46213.71180558,
          34806.26570046,
          56949.94501396,
          57063.65476389,
          59814.96660451,
          63798.20113573,
          47465,
          null,
          40200,
          null,
          47300,
          null,
          30252,
          26105,
          21957,
          22811,
          35595,
          36485,
          39755
         ],
         "yaxis": "y2"
        },
        {
         "connectgaps": false,
         "hovertemplate": "fnid=MZ2021A104<br>indicator=yield<br>year=%{x}<br>value=%{y}<extra></extra>",
         "legendgroup": "MZ2021A104",
         "line": {
          "color": "#ab63fa",
          "dash": "solid"
         },
         "marker": {
          "symbol": "circle"
         },
         "mode": "lines+markers",
         "name": "MZ2021A104",
         "orientation": "v",
         "showlegend": false,
         "type": "scatter",
         "x": [
          1999,
          2000,
          2001,
          2002,
          2003,
          2004,
          2005,
          2006,
          2007,
          2008,
          2009,
          2010,
          2011,
          2012,
          2013,
          2014,
          2015,
          2016,
          2017,
          2018,
          2019,
          2020,
          2021,
          2022
         ],
         "xaxis": "x",
         "y": [
          null,
          0.6700000000000633,
          0.6700000000001244,
          1.3168657016958638,
          1.8921235979482545,
          0.6328804531301147,
          1.8936644448447373,
          2.1952086345359048,
          0.6545322088909586,
          0.6543512806550472,
          0.625848367026111,
          0.8587169493310861,
          null,
          0.5298009950248757,
          null,
          0.6537420718816067,
          null,
          0.7237538014015602,
          0.8032177743727256,
          1.0037801156806485,
          1.0131953881899085,
          0.5056328135974154,
          0.5093874194874606,
          0.5244120236448245
         ],
         "yaxis": "y"
        },
        {
         "connectgaps": false,
         "hovertemplate": "fnid=MZ2021A105<br>indicator=production<br>year=%{x}<br>value=%{y}<extra></extra>",
         "legendgroup": "MZ2021A105",
         "line": {
          "color": "#FFA15A",
          "dash": "solid"
         },
         "marker": {
          "symbol": "circle"
         },
         "mode": "lines+markers",
         "name": "MZ2021A105",
         "orientation": "v",
         "showlegend": true,
         "type": "scatter",
         "x": [
          1999,
          2000,
          2001,
          2002,
          2003,
          2004,
          2005,
          2006,
          2007,
          2008,
          2009,
          2010,
          2011,
          2012,
          2013,
          2014,
          2015,
          2016,
          2017,
          2018,
          2019,
          2020,
          2021,
          2022
         ],
         "xaxis": "x3",
         "y": [
          45,
          266.53004673,
          479.72748032,
          626.64917585,
          437.97101104,
          450.93790338,
          null,
          null,
          null,
          null,
          null,
          null,
          null,
          11,
          null,
          32,
          36,
          63,
          68,
          72,
          72,
          16,
          17,
          19
         ],
         "yaxis": "y3"
        },
        {
         "connectgaps": false,
         "hovertemplate": "fnid=MZ2021A105<br>indicator=area<br>year=%{x}<br>value=%{y}<extra></extra>",
         "legendgroup": "MZ2021A105",
         "line": {
          "color": "#FFA15A",
          "dash": "solid"
         },
         "marker": {
          "symbol": "circle"
         },
         "mode": "lines+markers",
         "name": "MZ2021A105",
         "orientation": "v",
         "showlegend": false,
         "type": "scatter",
         "x": [
          1999,
          2000,
          2001,
          2002,
          2003,
          2004,
          2005,
          2006,
          2007,
          2008,
          2009,
          2010,
          2011,
          2012,
          2013,
          2014,
          2015,
          2016,
          2017,
          2018,
          2019,
          2020,
          2021,
          2022
         ],
         "xaxis": "x2",
         "y": [
          150,
          619.83731798,
          null,
          1362.28081706,
          1459.90337012,
          1452.73443313,
          null,
          1589.27657113,
          964.43554314,
          1591.90746882,
          null,
          58,
          null,
          100,
          null,
          100,
          40,
          57,
          54,
          50,
          31,
          132,
          135,
          147
         ],
         "yaxis": "y2"
        },
        {
         "connectgaps": false,
         "hovertemplate": "fnid=MZ2021A105<br>indicator=yield<br>year=%{x}<br>value=%{y}<extra></extra>",
         "legendgroup": "MZ2021A105",
         "line": {
          "color": "#FFA15A",
          "dash": "solid"
         },
         "marker": {
          "symbol": "circle"
         },
         "mode": "lines+markers",
         "name": "MZ2021A105",
         "orientation": "v",
         "showlegend": false,
         "type": "scatter",
         "x": [
          1999,
          2000,
          2001,
          2002,
          2003,
          2004,
          2005,
          2006,
          2007,
          2008,
          2009,
          2010,
          2011,
          2012,
          2013,
          2014,
          2015,
          2016,
          2017,
          2018,
          2019,
          2020,
          2021,
          2022
         ],
         "xaxis": "x",
         "y": [
          0.3,
          0.4299999999977413,
          null,
          0.4600000000017618,
          0.3000000000027399,
          0.3104062883733184,
          null,
          null,
          null,
          null,
          null,
          null,
          null,
          0.11,
          null,
          0.32,
          0.9,
          1.105263157894737,
          1.2592592592592593,
          1.44,
          2.3225806451612905,
          0.1212121212121212,
          0.1259259259259259,
          0.1292517006802721
         ],
         "yaxis": "y"
        },
        {
         "connectgaps": false,
         "hovertemplate": "fnid=MZ2021A107<br>indicator=production<br>year=%{x}<br>value=%{y}<extra></extra>",
         "legendgroup": "MZ2021A107",
         "line": {
          "color": "#19d3f3",
          "dash": "solid"
         },
         "marker": {
          "symbol": "circle"
         },
         "mode": "lines+markers",
         "name": "MZ2021A107",
         "orientation": "v",
         "showlegend": true,
         "type": "scatter",
         "x": [
          1999,
          2000,
          2001,
          2002,
          2003,
          2004,
          2005,
          2006,
          2007,
          2008,
          2009,
          2010,
          2011,
          2012,
          2013,
          2014,
          2015,
          2016,
          2017,
          2018,
          2019,
          2020,
          2021,
          2022
         ],
         "xaxis": "x3",
         "y": [
          65311,
          63162.40348964,
          79057.71532264,
          170814.81045330002,
          134988.31847287,
          84809.19317699,
          125322.93304676,
          162643.11602615,
          100648,
          102634,
          105810,
          108001,
          113142,
          26259,
          null,
          26185,
          13232,
          15555,
          16632,
          17794,
          18794,
          16388,
          16922,
          18983
         ],
         "yaxis": "y3"
        },
        {
         "connectgaps": false,
         "hovertemplate": "fnid=MZ2021A107<br>indicator=area<br>year=%{x}<br>value=%{y}<extra></extra>",
         "legendgroup": "MZ2021A107",
         "line": {
          "color": "#19d3f3",
          "dash": "solid"
         },
         "marker": {
          "symbol": "circle"
         },
         "mode": "lines+markers",
         "name": "MZ2021A107",
         "orientation": "v",
         "showlegend": false,
         "type": "scatter",
         "x": [
          1999,
          2000,
          2001,
          2002,
          2003,
          2004,
          2005,
          2006,
          2007,
          2008,
          2009,
          2010,
          2011,
          2012,
          2013,
          2014,
          2015,
          2016,
          2017,
          2018,
          2019,
          2020,
          2021,
          2022
         ],
         "xaxis": "x2",
         "y": [
          105784,
          119159.17639556,
          121612.71588098,
          123414.4036078,
          125349.4318429,
          126811.64758564,
          132915.27675667,
          135711.8533738,
          138625.26096481,
          141618.1440601,
          151583.78881805,
          60658,
          null,
          61400,
          null,
          45200,
          37001,
          46135,
          43749,
          41362,
          41977,
          30864,
          31636,
          34471
         ],
         "yaxis": "y2"
        },
        {
         "connectgaps": false,
         "hovertemplate": "fnid=MZ2021A107<br>indicator=yield<br>year=%{x}<br>value=%{y}<extra></extra>",
         "legendgroup": "MZ2021A107",
         "line": {
          "color": "#19d3f3",
          "dash": "solid"
         },
         "marker": {
          "symbol": "circle"
         },
         "mode": "lines+markers",
         "name": "MZ2021A107",
         "orientation": "v",
         "showlegend": false,
         "type": "scatter",
         "x": [
          1999,
          2000,
          2001,
          2002,
          2003,
          2004,
          2005,
          2006,
          2007,
          2008,
          2009,
          2010,
          2011,
          2012,
          2013,
          2014,
          2015,
          2016,
          2017,
          2018,
          2019,
          2020,
          2021,
          2022
         ],
         "xaxis": "x",
         "y": [
          0.6173996067458217,
          0.530067472772441,
          0.6500777056900221,
          1.3840751602716834,
          1.076896133378972,
          0.6687807846650333,
          0.9428783214753452,
          1.1984444393237448,
          0.7260437188684498,
          0.7247235209949096,
          0.6980297881787776,
          1.780490619539055,
          null,
          0.4276710097719869,
          null,
          0.5793141592920354,
          0.3576119564336099,
          0.3371626747588598,
          0.3801686895700473,
          0.4302016343503699,
          0.4477213712271005,
          0.5309745982374288,
          0.5348969528385383,
          0.5506947869223405
         ],
         "yaxis": "y"
        },
        {
         "connectgaps": false,
         "hovertemplate": "fnid=MZ2021A108<br>indicator=production<br>year=%{x}<br>value=%{y}<extra></extra>",
         "legendgroup": "MZ2021A108",
         "line": {
          "color": "#FF6692",
          "dash": "solid"
         },
         "marker": {
          "symbol": "circle"
         },
         "mode": "lines+markers",
         "name": "MZ2021A108",
         "orientation": "v",
         "showlegend": true,
         "type": "scatter",
         "x": [
          1999,
          2000,
          2001,
          2002,
          2003,
          2004,
          2005,
          2006,
          2007,
          2008,
          2009,
          2010,
          2011,
          2012,
          2013,
          2014,
          2015,
          2016,
          2017,
          2018,
          2019,
          2020,
          2021,
          2022
         ],
         "xaxis": "x3",
         "y": [
          9523,
          25335.29946986,
          29146.45451818,
          50405.13152132,
          47507.39988665,
          27584.35854331,
          46486.26250504,
          60162.40238357,
          35035,
          35684,
          37451,
          38724,
          40341,
          6752,
          null,
          6183,
          5905,
          8929,
          8707,
          10517,
          12110,
          5896,
          6088,
          6830
         ],
         "yaxis": "y3"
        },
        {
         "connectgaps": false,
         "hovertemplate": "fnid=MZ2021A108<br>indicator=area<br>year=%{x}<br>value=%{y}<extra></extra>",
         "legendgroup": "MZ2021A108",
         "line": {
          "color": "#FF6692",
          "dash": "solid"
         },
         "marker": {
          "symbol": "circle"
         },
         "mode": "lines+markers",
         "name": "MZ2021A108",
         "orientation": "v",
         "showlegend": false,
         "type": "scatter",
         "x": [
          1999,
          2000,
          2001,
          2002,
          2003,
          2004,
          2005,
          2006,
          2007,
          2008,
          2009,
          2010,
          2011,
          2012,
          2013,
          2014,
          2015,
          2016,
          2017,
          2018,
          2019,
          2020,
          2021,
          2022
         ],
         "xaxis": "x2",
         "y": [
          32603,
          33780.39929315,
          38350.59805023,
          39171.01600183,
          40054.7252556,
          41081.5848531,
          42490.43519383,
          43390.04760999,
          45552.93998866,
          46423.87166427,
          47905.24767577,
          26389,
          null,
          17100,
          null,
          16000,
          12013,
          13795,
          13723,
          9600,
          11085,
          10145,
          10399,
          11331
         ],
         "yaxis": "y2"
        },
        {
         "connectgaps": false,
         "hovertemplate": "fnid=MZ2021A108<br>indicator=yield<br>year=%{x}<br>value=%{y}<extra></extra>",
         "legendgroup": "MZ2021A108",
         "line": {
          "color": "#FF6692",
          "dash": "solid"
         },
         "marker": {
          "symbol": "circle"
         },
         "mode": "lines+markers",
         "name": "MZ2021A108",
         "orientation": "v",
         "showlegend": false,
         "type": "scatter",
         "x": [
          1999,
          2000,
          2001,
          2002,
          2003,
          2004,
          2005,
          2006,
          2007,
          2008,
          2009,
          2010,
          2011,
          2012,
          2013,
          2014,
          2015,
          2016,
          2017,
          2018,
          2019,
          2020,
          2021,
          2022
         ],
         "xaxis": "x",
         "y": [
          0.292089684998313,
          0.749999999999926,
          0.7600000000001356,
          1.2867966334844407,
          1.1860623080920534,
          0.6714531253345377,
          1.0940406303908656,
          1.3865484298228423,
          0.7691051336910779,
          0.7686562693017284,
          0.7817723906465125,
          1.4674296108226912,
          null,
          0.3948538011695906,
          null,
          0.3864375,
          0.4915508199450595,
          0.6472635012685756,
          0.6344822560664578,
          1.0955208333333333,
          1.092467298150654,
          0.5811729916214884,
          0.5854409077795942,
          0.6027711587679816
         ],
         "yaxis": "y"
        },
        {
         "connectgaps": false,
         "hovertemplate": "fnid=MZ2021A109<br>indicator=production<br>year=%{x}<br>value=%{y}<extra></extra>",
         "legendgroup": "MZ2021A109",
         "line": {
          "color": "#B6E880",
          "dash": "solid"
         },
         "marker": {
          "symbol": "circle"
         },
         "mode": "lines+markers",
         "name": "MZ2021A109",
         "orientation": "v",
         "showlegend": true,
         "type": "scatter",
         "x": [
          1999,
          2000,
          2001,
          2002,
          2003,
          2004,
          2005,
          2006,
          2007,
          2008,
          2009,
          2010,
          2011,
          2012,
          2013,
          2014,
          2015,
          2016,
          2017,
          2018,
          2019,
          2020,
          2021,
          2022
         ],
         "xaxis": "x3",
         "y": [
          36914,
          29548.83710564,
          41004.24958689,
          64871.04372231,
          118770.91624678,
          42984.25092704,
          76577.73894909001,
          103373.93047787,
          24248,
          28458,
          31143,
          32430,
          33599,
          25226,
          null,
          26091,
          null,
          26265,
          25961,
          26656,
          28351,
          35157,
          36304,
          40725
         ],
         "yaxis": "y3"
        },
        {
         "connectgaps": false,
         "hovertemplate": "fnid=MZ2021A109<br>indicator=area<br>year=%{x}<br>value=%{y}<extra></extra>",
         "legendgroup": "MZ2021A109",
         "line": {
          "color": "#B6E880",
          "dash": "solid"
         },
         "marker": {
          "symbol": "circle"
         },
         "mode": "lines+markers",
         "name": "MZ2021A109",
         "orientation": "v",
         "showlegend": false,
         "type": "scatter",
         "x": [
          1999,
          2000,
          2001,
          2002,
          2003,
          2004,
          2005,
          2006,
          2007,
          2008,
          2009,
          2010,
          2011,
          2012,
          2013,
          2014,
          2015,
          2016,
          2017,
          2018,
          2019,
          2020,
          2021,
          2022
         ],
         "xaxis": "x2",
         "y": [
          null,
          44047.81657558,
          53904.22314065,
          57849.97675264,
          60522.19723786,
          63375.40819222,
          57932.60368001,
          67804.68290971,
          55935.89277077,
          69385.68572346,
          70895.58852481,
          55541,
          null,
          50300,
          null,
          51700,
          null,
          51107,
          49666,
          48226,
          48785,
          63107,
          64685,
          70482
         ],
         "yaxis": "y2"
        },
        {
         "connectgaps": false,
         "hovertemplate": "fnid=MZ2021A109<br>indicator=yield<br>year=%{x}<br>value=%{y}<extra></extra>",
         "legendgroup": "MZ2021A109",
         "line": {
          "color": "#B6E880",
          "dash": "solid"
         },
         "marker": {
          "symbol": "circle"
         },
         "mode": "lines+markers",
         "name": "MZ2021A109",
         "orientation": "v",
         "showlegend": false,
         "type": "scatter",
         "x": [
          1999,
          2000,
          2001,
          2002,
          2003,
          2004,
          2005,
          2006,
          2007,
          2008,
          2009,
          2010,
          2011,
          2012,
          2013,
          2014,
          2015,
          2016,
          2017,
          2018,
          2019,
          2020,
          2021,
          2022
         ],
         "xaxis": "x",
         "y": [
          null,
          0.6708354557129581,
          0.7606871446769459,
          1.1213668071067908,
          1.962435629691286,
          0.6782481115808697,
          1.321841831450666,
          1.5245839378900228,
          0.4334962543526452,
          0.410142231834686,
          0.4392798007326149,
          0.5838929799607497,
          null,
          0.5015109343936381,
          null,
          0.5046615087040619,
          null,
          0.5139217719686149,
          0.522711714251198,
          0.5527308920499315,
          0.5811417443886441,
          0.5571014309030694,
          0.5612429465873077,
          0.577807099685026
         ],
         "yaxis": "y"
        },
        {
         "connectgaps": false,
         "hovertemplate": "fnid=MZ2021A110<br>indicator=production<br>year=%{x}<br>value=%{y}<extra></extra>",
         "legendgroup": "MZ2021A110",
         "line": {
          "color": "#FF97FF",
          "dash": "solid"
         },
         "marker": {
          "symbol": "circle"
         },
         "mode": "lines+markers",
         "name": "MZ2021A110",
         "orientation": "v",
         "showlegend": true,
         "type": "scatter",
         "x": [
          1999,
          2000,
          2001,
          2002,
          2003,
          2004,
          2005,
          2006,
          2007,
          2008,
          2009,
          2010,
          2011,
          2012,
          2013,
          2014,
          2015,
          2016,
          2017,
          2018,
          2019,
          2020,
          2021,
          2022
         ],
         "xaxis": "x3",
         "y": [
          null,
          24232.47679573,
          31114.94010568,
          44148.98304428,
          50686.40395455,
          30076.50620722,
          37255.36836909,
          82342.65032183,
          28839,
          36147,
          37716,
          38963,
          40790,
          20791,
          null,
          20998,
          null,
          22297,
          23252,
          24207,
          25162,
          38463,
          39717,
          44554
         ],
         "yaxis": "y3"
        },
        {
         "connectgaps": false,
         "hovertemplate": "fnid=MZ2021A110<br>indicator=area<br>year=%{x}<br>value=%{y}<extra></extra>",
         "legendgroup": "MZ2021A110",
         "line": {
          "color": "#FF97FF",
          "dash": "solid"
         },
         "marker": {
          "symbol": "circle"
         },
         "mode": "lines+markers",
         "name": "MZ2021A110",
         "orientation": "v",
         "showlegend": false,
         "type": "scatter",
         "x": [
          1999,
          2000,
          2001,
          2002,
          2003,
          2004,
          2005,
          2006,
          2007,
          2008,
          2009,
          2010,
          2011,
          2012,
          2013,
          2014,
          2015,
          2016,
          2017,
          2018,
          2019,
          2020,
          2021,
          2022
         ],
         "xaxis": "x2",
         "y": [
          null,
          50484.32665777,
          52737.1866198,
          57562.65358613,
          58404.65643854,
          61161.15597239,
          57767.16103613,
          65890.3965647,
          52650.70291699,
          68532.803169,
          72491.95240509,
          31836,
          null,
          37900,
          null,
          33000,
          null,
          34665,
          33951,
          33237,
          33523,
          58336,
          59795,
          65154
         ],
         "yaxis": "y2"
        },
        {
         "connectgaps": false,
         "hovertemplate": "fnid=MZ2021A110<br>indicator=yield<br>year=%{x}<br>value=%{y}<extra></extra>",
         "legendgroup": "MZ2021A110",
         "line": {
          "color": "#FF97FF",
          "dash": "solid"
         },
         "marker": {
          "symbol": "circle"
         },
         "mode": "lines+markers",
         "name": "MZ2021A110",
         "orientation": "v",
         "showlegend": false,
         "type": "scatter",
         "x": [
          1999,
          2000,
          2001,
          2002,
          2003,
          2004,
          2005,
          2006,
          2007,
          2008,
          2009,
          2010,
          2011,
          2012,
          2013,
          2014,
          2015,
          2016,
          2017,
          2018,
          2019,
          2020,
          2021,
          2022
         ],
         "xaxis": "x",
         "y": [
          null,
          0.4800000000000079,
          0.5899999999999621,
          0.7669726861743899,
          0.8678486792896039,
          0.491758301965343,
          0.6449229579724185,
          1.249691223833734,
          0.5477419749830893,
          0.5274408506370664,
          0.5202784412432486,
          1.223866063575826,
          null,
          0.5485751978891821,
          null,
          0.6363030303030303,
          null,
          0.6432136160392327,
          0.6848693705634591,
          0.7283148298582904,
          0.7505891477493064,
          0.659335573230938,
          0.6642194163391588,
          0.6838260122172085
         ],
         "yaxis": "y"
        },
        {
         "connectgaps": false,
         "hovertemplate": "fnid=MZ2021A111<br>indicator=production<br>year=%{x}<br>value=%{y}<extra></extra>",
         "legendgroup": "MZ2021A111",
         "line": {
          "color": "#FECB52",
          "dash": "solid"
         },
         "marker": {
          "symbol": "circle"
         },
         "mode": "lines+markers",
         "name": "MZ2021A111",
         "orientation": "v",
         "showlegend": true,
         "type": "scatter",
         "x": [
          1999,
          2000,
          2001,
          2002,
          2003,
          2004,
          2005,
          2006,
          2007,
          2008,
          2009,
          2010,
          2011,
          2012,
          2013,
          2014,
          2015,
          2016,
          2017,
          2018,
          2019,
          2020,
          2021,
          2022
         ],
         "xaxis": "x3",
         "y": [
          37060,
          41646.5452257,
          45887.61343145,
          80023.48750727999,
          96614.21771071,
          49650.99886071,
          64644.89993701,
          77508.49775658,
          50784,
          51098,
          51616,
          52964,
          58030,
          20409,
          null,
          20968,
          null,
          17309,
          19870,
          20525,
          22409,
          16231,
          16760,
          18802
         ],
         "yaxis": "y3"
        },
        {
         "connectgaps": false,
         "hovertemplate": "fnid=MZ2021A111<br>indicator=area<br>year=%{x}<br>value=%{y}<extra></extra>",
         "legendgroup": "MZ2021A111",
         "line": {
          "color": "#FECB52",
          "dash": "solid"
         },
         "marker": {
          "symbol": "circle"
         },
         "mode": "lines+markers",
         "name": "MZ2021A111",
         "orientation": "v",
         "showlegend": false,
         "type": "scatter",
         "x": [
          1999,
          2000,
          2001,
          2002,
          2003,
          2004,
          2005,
          2006,
          2007,
          2008,
          2009,
          2010,
          2011,
          2012,
          2013,
          2014,
          2015,
          2016,
          2017,
          2018,
          2019,
          2020,
          2021,
          2022
         ],
         "xaxis": "x2",
         "y": [
          52449,
          63100.82609954,
          67481.16681095,
          69827.72466989,
          71483.7017231,
          73194.65037831,
          70711.08935018,
          71900.60852109,
          71655.34765493,
          79004.34103842,
          85754.21148873,
          31732,
          null,
          53300,
          null,
          44100,
          null,
          32448,
          30085,
          27721,
          29358,
          32869,
          33691,
          36710
         ],
         "yaxis": "y2"
        },
        {
         "connectgaps": false,
         "hovertemplate": "fnid=MZ2021A111<br>indicator=yield<br>year=%{x}<br>value=%{y}<extra></extra>",
         "legendgroup": "MZ2021A111",
         "line": {
          "color": "#FECB52",
          "dash": "solid"
         },
         "marker": {
          "symbol": "circle"
         },
         "mode": "lines+markers",
         "name": "MZ2021A111",
         "orientation": "v",
         "showlegend": false,
         "type": "scatter",
         "x": [
          1999,
          2000,
          2001,
          2002,
          2003,
          2004,
          2005,
          2006,
          2007,
          2008,
          2009,
          2010,
          2011,
          2012,
          2013,
          2014,
          2015,
          2016,
          2017,
          2018,
          2019,
          2020,
          2021,
          2022
         ],
         "xaxis": "x",
         "y": [
          0.7065911647505195,
          0.6600000000000571,
          0.6800062239588295,
          1.1460131041873465,
          1.3515558845141489,
          0.6783419089248527,
          0.9142116255184723,
          1.0779950177173407,
          0.7087258894417768,
          0.6467745864135608,
          0.601906298290475,
          1.6691037438547838,
          null,
          0.3829080675422139,
          null,
          0.4754648526077097,
          null,
          0.5334381163708086,
          0.6604620242645837,
          0.7404134049998197,
          0.7633013148034608,
          0.4938087559706715,
          0.4974622302692114,
          0.5121765186597658
         ],
         "yaxis": "y"
        }
       ],
       "layout": {
        "annotations": [
         {
          "showarrow": false,
          "text": "",
          "textangle": 90,
          "x": 0.98,
          "xanchor": "left",
          "xref": "paper",
          "y": 0.16333333333333333,
          "yanchor": "middle",
          "yref": "paper"
         },
         {
          "showarrow": false,
          "text": "",
          "textangle": 90,
          "x": 0.98,
          "xanchor": "left",
          "xref": "paper",
          "y": 0.5,
          "yanchor": "middle",
          "yref": "paper"
         },
         {
          "showarrow": false,
          "text": "",
          "textangle": 90,
          "x": 0.98,
          "xanchor": "left",
          "xref": "paper",
          "y": 0.8366666666666667,
          "yanchor": "middle",
          "yref": "paper"
         },
         {
          "align": "left",
          "font": {
           "color": "dimgrey",
           "family": "arial",
           "size": 15
          },
          "showarrow": false,
          "text": "Production-Area-Yield time-series of MZ - Sorghum - Main",
          "x": -0.014,
          "xref": "paper",
          "y": -0.14,
          "yref": "paper"
         }
        ],
        "font": {
         "color": "black",
         "family": "arial",
         "size": 16
        },
        "height": 600,
        "legend": {
         "font": {
          "size": 14
         },
         "title": {
          "text": "FNID"
         },
         "tracegroupgap": 0,
         "x": 1,
         "xanchor": "left",
         "y": 1,
         "yanchor": "top"
        },
        "margin": {
         "b": 25,
         "l": 0,
         "r": 0,
         "t": 0
        },
        "template": {
         "data": {
          "bar": [
           {
            "error_x": {
             "color": "#2a3f5f"
            },
            "error_y": {
             "color": "#2a3f5f"
            },
            "marker": {
             "line": {
              "color": "#E5ECF6",
              "width": 0.5
             },
             "pattern": {
              "fillmode": "overlay",
              "size": 10,
              "solidity": 0.2
             }
            },
            "type": "bar"
           }
          ],
          "barpolar": [
           {
            "marker": {
             "line": {
              "color": "#E5ECF6",
              "width": 0.5
             },
             "pattern": {
              "fillmode": "overlay",
              "size": 10,
              "solidity": 0.2
             }
            },
            "type": "barpolar"
           }
          ],
          "carpet": [
           {
            "aaxis": {
             "endlinecolor": "#2a3f5f",
             "gridcolor": "white",
             "linecolor": "white",
             "minorgridcolor": "white",
             "startlinecolor": "#2a3f5f"
            },
            "baxis": {
             "endlinecolor": "#2a3f5f",
             "gridcolor": "white",
             "linecolor": "white",
             "minorgridcolor": "white",
             "startlinecolor": "#2a3f5f"
            },
            "type": "carpet"
           }
          ],
          "choropleth": [
           {
            "colorbar": {
             "outlinewidth": 0,
             "ticks": ""
            },
            "type": "choropleth"
           }
          ],
          "contour": [
           {
            "colorbar": {
             "outlinewidth": 0,
             "ticks": ""
            },
            "colorscale": [
             [
              0,
              "#0d0887"
             ],
             [
              0.1111111111111111,
              "#46039f"
             ],
             [
              0.2222222222222222,
              "#7201a8"
             ],
             [
              0.3333333333333333,
              "#9c179e"
             ],
             [
              0.4444444444444444,
              "#bd3786"
             ],
             [
              0.5555555555555556,
              "#d8576b"
             ],
             [
              0.6666666666666666,
              "#ed7953"
             ],
             [
              0.7777777777777778,
              "#fb9f3a"
             ],
             [
              0.8888888888888888,
              "#fdca26"
             ],
             [
              1,
              "#f0f921"
             ]
            ],
            "type": "contour"
           }
          ],
          "contourcarpet": [
           {
            "colorbar": {
             "outlinewidth": 0,
             "ticks": ""
            },
            "type": "contourcarpet"
           }
          ],
          "heatmap": [
           {
            "colorbar": {
             "outlinewidth": 0,
             "ticks": ""
            },
            "colorscale": [
             [
              0,
              "#0d0887"
             ],
             [
              0.1111111111111111,
              "#46039f"
             ],
             [
              0.2222222222222222,
              "#7201a8"
             ],
             [
              0.3333333333333333,
              "#9c179e"
             ],
             [
              0.4444444444444444,
              "#bd3786"
             ],
             [
              0.5555555555555556,
              "#d8576b"
             ],
             [
              0.6666666666666666,
              "#ed7953"
             ],
             [
              0.7777777777777778,
              "#fb9f3a"
             ],
             [
              0.8888888888888888,
              "#fdca26"
             ],
             [
              1,
              "#f0f921"
             ]
            ],
            "type": "heatmap"
           }
          ],
          "heatmapgl": [
           {
            "colorbar": {
             "outlinewidth": 0,
             "ticks": ""
            },
            "colorscale": [
             [
              0,
              "#0d0887"
             ],
             [
              0.1111111111111111,
              "#46039f"
             ],
             [
              0.2222222222222222,
              "#7201a8"
             ],
             [
              0.3333333333333333,
              "#9c179e"
             ],
             [
              0.4444444444444444,
              "#bd3786"
             ],
             [
              0.5555555555555556,
              "#d8576b"
             ],
             [
              0.6666666666666666,
              "#ed7953"
             ],
             [
              0.7777777777777778,
              "#fb9f3a"
             ],
             [
              0.8888888888888888,
              "#fdca26"
             ],
             [
              1,
              "#f0f921"
             ]
            ],
            "type": "heatmapgl"
           }
          ],
          "histogram": [
           {
            "marker": {
             "pattern": {
              "fillmode": "overlay",
              "size": 10,
              "solidity": 0.2
             }
            },
            "type": "histogram"
           }
          ],
          "histogram2d": [
           {
            "colorbar": {
             "outlinewidth": 0,
             "ticks": ""
            },
            "colorscale": [
             [
              0,
              "#0d0887"
             ],
             [
              0.1111111111111111,
              "#46039f"
             ],
             [
              0.2222222222222222,
              "#7201a8"
             ],
             [
              0.3333333333333333,
              "#9c179e"
             ],
             [
              0.4444444444444444,
              "#bd3786"
             ],
             [
              0.5555555555555556,
              "#d8576b"
             ],
             [
              0.6666666666666666,
              "#ed7953"
             ],
             [
              0.7777777777777778,
              "#fb9f3a"
             ],
             [
              0.8888888888888888,
              "#fdca26"
             ],
             [
              1,
              "#f0f921"
             ]
            ],
            "type": "histogram2d"
           }
          ],
          "histogram2dcontour": [
           {
            "colorbar": {
             "outlinewidth": 0,
             "ticks": ""
            },
            "colorscale": [
             [
              0,
              "#0d0887"
             ],
             [
              0.1111111111111111,
              "#46039f"
             ],
             [
              0.2222222222222222,
              "#7201a8"
             ],
             [
              0.3333333333333333,
              "#9c179e"
             ],
             [
              0.4444444444444444,
              "#bd3786"
             ],
             [
              0.5555555555555556,
              "#d8576b"
             ],
             [
              0.6666666666666666,
              "#ed7953"
             ],
             [
              0.7777777777777778,
              "#fb9f3a"
             ],
             [
              0.8888888888888888,
              "#fdca26"
             ],
             [
              1,
              "#f0f921"
             ]
            ],
            "type": "histogram2dcontour"
           }
          ],
          "mesh3d": [
           {
            "colorbar": {
             "outlinewidth": 0,
             "ticks": ""
            },
            "type": "mesh3d"
           }
          ],
          "parcoords": [
           {
            "line": {
             "colorbar": {
              "outlinewidth": 0,
              "ticks": ""
             }
            },
            "type": "parcoords"
           }
          ],
          "pie": [
           {
            "automargin": true,
            "type": "pie"
           }
          ],
          "scatter": [
           {
            "fillpattern": {
             "fillmode": "overlay",
             "size": 10,
             "solidity": 0.2
            },
            "type": "scatter"
           }
          ],
          "scatter3d": [
           {
            "line": {
             "colorbar": {
              "outlinewidth": 0,
              "ticks": ""
             }
            },
            "marker": {
             "colorbar": {
              "outlinewidth": 0,
              "ticks": ""
             }
            },
            "type": "scatter3d"
           }
          ],
          "scattercarpet": [
           {
            "marker": {
             "colorbar": {
              "outlinewidth": 0,
              "ticks": ""
             }
            },
            "type": "scattercarpet"
           }
          ],
          "scattergeo": [
           {
            "marker": {
             "colorbar": {
              "outlinewidth": 0,
              "ticks": ""
             }
            },
            "type": "scattergeo"
           }
          ],
          "scattergl": [
           {
            "marker": {
             "colorbar": {
              "outlinewidth": 0,
              "ticks": ""
             }
            },
            "type": "scattergl"
           }
          ],
          "scattermapbox": [
           {
            "marker": {
             "colorbar": {
              "outlinewidth": 0,
              "ticks": ""
             }
            },
            "type": "scattermapbox"
           }
          ],
          "scatterpolar": [
           {
            "marker": {
             "colorbar": {
              "outlinewidth": 0,
              "ticks": ""
             }
            },
            "type": "scatterpolar"
           }
          ],
          "scatterpolargl": [
           {
            "marker": {
             "colorbar": {
              "outlinewidth": 0,
              "ticks": ""
             }
            },
            "type": "scatterpolargl"
           }
          ],
          "scatterternary": [
           {
            "marker": {
             "colorbar": {
              "outlinewidth": 0,
              "ticks": ""
             }
            },
            "type": "scatterternary"
           }
          ],
          "surface": [
           {
            "colorbar": {
             "outlinewidth": 0,
             "ticks": ""
            },
            "colorscale": [
             [
              0,
              "#0d0887"
             ],
             [
              0.1111111111111111,
              "#46039f"
             ],
             [
              0.2222222222222222,
              "#7201a8"
             ],
             [
              0.3333333333333333,
              "#9c179e"
             ],
             [
              0.4444444444444444,
              "#bd3786"
             ],
             [
              0.5555555555555556,
              "#d8576b"
             ],
             [
              0.6666666666666666,
              "#ed7953"
             ],
             [
              0.7777777777777778,
              "#fb9f3a"
             ],
             [
              0.8888888888888888,
              "#fdca26"
             ],
             [
              1,
              "#f0f921"
             ]
            ],
            "type": "surface"
           }
          ],
          "table": [
           {
            "cells": {
             "fill": {
              "color": "#EBF0F8"
             },
             "line": {
              "color": "white"
             }
            },
            "header": {
             "fill": {
              "color": "#C8D4E3"
             },
             "line": {
              "color": "white"
             }
            },
            "type": "table"
           }
          ]
         },
         "layout": {
          "annotationdefaults": {
           "arrowcolor": "#2a3f5f",
           "arrowhead": 0,
           "arrowwidth": 1
          },
          "autotypenumbers": "strict",
          "coloraxis": {
           "colorbar": {
            "outlinewidth": 0,
            "ticks": ""
           }
          },
          "colorscale": {
           "diverging": [
            [
             0,
             "#8e0152"
            ],
            [
             0.1,
             "#c51b7d"
            ],
            [
             0.2,
             "#de77ae"
            ],
            [
             0.3,
             "#f1b6da"
            ],
            [
             0.4,
             "#fde0ef"
            ],
            [
             0.5,
             "#f7f7f7"
            ],
            [
             0.6,
             "#e6f5d0"
            ],
            [
             0.7,
             "#b8e186"
            ],
            [
             0.8,
             "#7fbc41"
            ],
            [
             0.9,
             "#4d9221"
            ],
            [
             1,
             "#276419"
            ]
           ],
           "sequential": [
            [
             0,
             "#0d0887"
            ],
            [
             0.1111111111111111,
             "#46039f"
            ],
            [
             0.2222222222222222,
             "#7201a8"
            ],
            [
             0.3333333333333333,
             "#9c179e"
            ],
            [
             0.4444444444444444,
             "#bd3786"
            ],
            [
             0.5555555555555556,
             "#d8576b"
            ],
            [
             0.6666666666666666,
             "#ed7953"
            ],
            [
             0.7777777777777778,
             "#fb9f3a"
            ],
            [
             0.8888888888888888,
             "#fdca26"
            ],
            [
             1,
             "#f0f921"
            ]
           ],
           "sequentialminus": [
            [
             0,
             "#0d0887"
            ],
            [
             0.1111111111111111,
             "#46039f"
            ],
            [
             0.2222222222222222,
             "#7201a8"
            ],
            [
             0.3333333333333333,
             "#9c179e"
            ],
            [
             0.4444444444444444,
             "#bd3786"
            ],
            [
             0.5555555555555556,
             "#d8576b"
            ],
            [
             0.6666666666666666,
             "#ed7953"
            ],
            [
             0.7777777777777778,
             "#fb9f3a"
            ],
            [
             0.8888888888888888,
             "#fdca26"
            ],
            [
             1,
             "#f0f921"
            ]
           ]
          },
          "colorway": [
           "#636efa",
           "#EF553B",
           "#00cc96",
           "#ab63fa",
           "#FFA15A",
           "#19d3f3",
           "#FF6692",
           "#B6E880",
           "#FF97FF",
           "#FECB52"
          ],
          "font": {
           "color": "#2a3f5f"
          },
          "geo": {
           "bgcolor": "white",
           "lakecolor": "white",
           "landcolor": "#E5ECF6",
           "showlakes": true,
           "showland": true,
           "subunitcolor": "white"
          },
          "hoverlabel": {
           "align": "left"
          },
          "hovermode": "closest",
          "mapbox": {
           "style": "light"
          },
          "paper_bgcolor": "white",
          "plot_bgcolor": "#E5ECF6",
          "polar": {
           "angularaxis": {
            "gridcolor": "white",
            "linecolor": "white",
            "ticks": ""
           },
           "bgcolor": "#E5ECF6",
           "radialaxis": {
            "gridcolor": "white",
            "linecolor": "white",
            "ticks": ""
           }
          },
          "scene": {
           "xaxis": {
            "backgroundcolor": "#E5ECF6",
            "gridcolor": "white",
            "gridwidth": 2,
            "linecolor": "white",
            "showbackground": true,
            "ticks": "",
            "zerolinecolor": "white"
           },
           "yaxis": {
            "backgroundcolor": "#E5ECF6",
            "gridcolor": "white",
            "gridwidth": 2,
            "linecolor": "white",
            "showbackground": true,
            "ticks": "",
            "zerolinecolor": "white"
           },
           "zaxis": {
            "backgroundcolor": "#E5ECF6",
            "gridcolor": "white",
            "gridwidth": 2,
            "linecolor": "white",
            "showbackground": true,
            "ticks": "",
            "zerolinecolor": "white"
           }
          },
          "shapedefaults": {
           "line": {
            "color": "#2a3f5f"
           }
          },
          "ternary": {
           "aaxis": {
            "gridcolor": "white",
            "linecolor": "white",
            "ticks": ""
           },
           "baxis": {
            "gridcolor": "white",
            "linecolor": "white",
            "ticks": ""
           },
           "bgcolor": "#E5ECF6",
           "caxis": {
            "gridcolor": "white",
            "linecolor": "white",
            "ticks": ""
           }
          },
          "title": {
           "x": 0.05
          },
          "xaxis": {
           "automargin": true,
           "gridcolor": "white",
           "linecolor": "white",
           "ticks": "",
           "title": {
            "standoff": 15
           },
           "zerolinecolor": "white",
           "zerolinewidth": 2
          },
          "yaxis": {
           "automargin": true,
           "gridcolor": "white",
           "linecolor": "white",
           "ticks": "",
           "title": {
            "standoff": 15
           },
           "zerolinecolor": "white",
           "zerolinewidth": 2
          }
         }
        },
        "width": 900,
        "xaxis": {
         "anchor": "y",
         "domain": [
          0,
          0.98
         ],
         "dtick": 1,
         "range": [
          1999,
          2022
         ],
         "title": {
          "text": ""
         }
        },
        "xaxis2": {
         "anchor": "y2",
         "domain": [
          0,
          0.98
         ],
         "dtick": 1,
         "matches": "x",
         "showticklabels": false
        },
        "xaxis3": {
         "anchor": "y3",
         "domain": [
          0,
          0.98
         ],
         "dtick": 1,
         "matches": "x",
         "showticklabels": false
        },
        "yaxis": {
         "anchor": "x",
         "domain": [
          0,
          0.32666666666666666
         ],
         "title": {
          "text": "Yield (mt/ha)"
         }
        },
        "yaxis2": {
         "anchor": "x2",
         "domain": [
          0.33666666666666667,
          0.6633333333333333
         ],
         "title": {
          "text": "Area (ha)"
         }
        },
        "yaxis3": {
         "anchor": "x3",
         "domain": [
          0.6733333333333333,
          1
         ],
         "title": {
          "text": "Production (mt)"
         }
        }
       }
      }
     },
     "metadata": {},
     "output_type": "display_data"
    }
   ],
   "source": [
    "# Lineplot of Production-Area-Yield time-series\n",
    "country_iso, country_name ='MZ', 'Mozambique'\n",
    "df = pd.read_csv('../data/crop/adm_crop_production_%s.csv' % country_iso, index_col=0)\n",
    "df['year'] = df['harvest_year']\n",
    "year = [df['year'].min(), df['year'].max()]\n",
    "product_season = [\n",
    "    ['Cassava','Annual'],\n",
    "    ['Maize','Main'],\n",
    "    ['Sorghum','Main'],\n",
    "]\n",
    "for product_name, season_name in product_season:\n",
    "    footnote = 'Production-Area-Yield time-series of %s - %s - %s' % (country_iso, product_name, season_name)\n",
    "    fn_save = '../figures/%s_line_pay_%s_%s.png' % (country_iso, product_name, season_name)\n",
    "    sub = df[(df['product'] == product_name) & (df['season_name'] == season_name)]\n",
    "    fig = PlotLinePAY(sub, year, footnote, fn_save)\n",
    "    fig.show()"
   ]
  },
  {
   "cell_type": "code",
   "execution_count": null,
   "id": "4fd79197",
   "metadata": {},
   "outputs": [],
   "source": []
  }
 ],
 "metadata": {
  "kernelspec": {
   "display_name": "Python 3 (ipykernel)",
   "language": "python",
   "name": "python3"
  },
  "language_info": {
   "codemirror_mode": {
    "name": "ipython",
    "version": 3
   },
   "file_extension": ".py",
   "mimetype": "text/x-python",
   "name": "python",
   "nbconvert_exporter": "python",
   "pygments_lexer": "ipython3",
   "version": "3.10.10"
  }
 },
 "nbformat": 4,
 "nbformat_minor": 5
}
