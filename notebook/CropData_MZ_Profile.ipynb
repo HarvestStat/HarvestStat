{
 "cells": [
  {
   "cell_type": "markdown",
   "id": "5a54535d-4fd0-4290-a987-d6baff7aa821",
   "metadata": {},
   "source": [
    "# HarvestStat Data Profiling - Mozambique"
   ]
  },
  {
   "cell_type": "code",
   "execution_count": 1,
   "id": "423b4763-5783-4282-ba84-d8ae8ba04fb5",
   "metadata": {},
   "outputs": [],
   "source": [
    "import glob, json\n",
    "import warnings\n",
    "warnings.simplefilter(action='ignore', category=FutureWarning)\n",
    "import requests\n",
    "import numpy as np\n",
    "import pandas as pd\n",
    "import geopandas as gpd\n",
    "from tools import save_npz, PrintAdminUnits, PlotAdminShapes\n",
    "from tools import FDW_PD_Sweeper, FDW_PD_AvalTable, FDW_PD_Compiling, FDW_PD_ValidateFnidName\n",
    "from tools import FDW_PD_CreateAdminLink, FDW_PD_RatioAdminLink, FDW_PD_ConnectAdminLink\n",
    "from tools import FDW_PD_CaliSeasonYear\n",
    "from tools_graphic import PlotBarProduction, PlotLinePAY\n",
    "warnings.simplefilter(action='ignore', category=pd.errors.PerformanceWarning)\n",
    "pd.options.mode.chained_assignment = None"
   ]
  },
  {
   "cell_type": "code",
   "execution_count": 2,
   "id": "1546e288-588d-4af4-be71-c096579f7737",
   "metadata": {},
   "outputs": [
    {
     "name": "stdout",
     "output_type": "stream",
     "text": [
      "- FEWS NET admin shapefiles ------------------- #\n",
      "| year\t | Admin1   | # units   | Admin2   | # units   | Admin3   | # units   |\n",
      "| 1990\t | MZ1990A1 | 11\t| MZ1990A2\t| 142\t| nan\t| 0\t|\n",
      "| 2013\t | MZ2013A1 | 11\t| MZ2013A2\t| 154\t| nan\t| 0\t|\n",
      "| 2021\t | MZ2021A1 | 11\t| MZ2021A2\t| 160\t| nan\t| 0\t|\n",
      "----------------------------------------------- #\n",
      "                  status collection_status data_usage_policy  count\n",
      "0              Collected         Published            Public    462\n",
      "1              Collected         Submitted            Public   6031\n",
      "2  Missing Historic Data         Published            Public      4\n",
      "3  Missing Historic Data         Submitted            Public   1100\n",
      "4          Not Collected         Submitted            Public   1464\n"
     ]
    }
   ],
   "source": [
    "# Load FEWS NET administrative boundaries ------- #\n",
    "epsg = 'EPSG:32736' # Mozambique\n",
    "fn_shapes = sorted(glob.glob('../data/shapefile/fewsnet/MZ_Admin?_????.shp'))\n",
    "shape_all = []\n",
    "for fn in fn_shapes:\n",
    "    name = fn[-18:-4]\n",
    "    exec('%s = gpd.read_file(\"%s\").to_crs(\"%s\")' % (name, fn, epsg))\n",
    "    exec('%s[\"area\"] = %s[\"geometry\"].area/10**6' % (name, name))\n",
    "    exec('shape_all.append(%s)' % (name))\n",
    "shape_all = pd.concat(shape_all, axis=0).reset_index(drop=True)\n",
    "PrintAdminUnits(shape_all)\n",
    "# ----------------------------------------------- #\n",
    "\n",
    "# FDW API host address -------------------------- #\n",
    "host = 'https://fdw.fews.net'\n",
    "auth = tuple(json.loads(open('token.json', \"r\").read()))\n",
    "parameters = {\n",
    "    'format': 'json',\n",
    "    'country': 'Mozambique',\n",
    "    'product': ['R011','R012','R013','R014','R015','R017','R018'],\n",
    "    'survey_type': 'crop:best'\n",
    "}\n",
    "endpoint = '/api/cropproductionindicatorvalue/'\n",
    "response = requests.get(host + endpoint, auth=auth, params=parameters, proxies={})\n",
    "response.raise_for_status()\n",
    "df = pd.DataFrame.from_records(response.json())\n",
    "print(df.groupby(['status','collection_status','data_usage_policy']).size().reset_index(name='count'))\n",
    "# ----------------------------------------------- #"
   ]
  },
  {
   "cell_type": "code",
   "execution_count": 3,
   "id": "429f5cf7",
   "metadata": {},
   "outputs": [
    {
     "name": "stdout",
     "output_type": "stream",
     "text": [
      "- Remove missing records ---------------------- #\n",
      "Orignial data points: 5,469\n",
      "Removed 16 \"Missing Value\" points\n",
      "2,012/2,016 \"Yield\" points are retained.\n",
      "1,725/1,725 \"Area Planted\" points are retained.\n",
      "1,716/1,728 \"Quantity Produced\" points are retained.\n",
      "Current data points: 5,453\n",
      "\n",
      "- Minor changes are applied ------------------- #\n",
      "\n",
      "- Basic information --------------------------- #\n",
      "Data period: 1999 - 2018\n",
      "32 grain types are found: Bambara groundnut, Beans (Lima), Beans (mixed), Cabbage (Unspecified), Carrots, Cassava, Cowpeas (Mixed), Cucumber, Garlic (fresh), Green bean (fresh), Groundnuts (In Shell), Groundnuts (In Shell, Large), Groundnuts (In Shell, Small), Lettuce (Unspecified), Maize (Corn), Millet, Onions, Pea (unspecified), Pigeon Peas, Potato (Irish), Rice (Paddy), Sesame Seed, Sorghum, Soybean (unspecified), Spanish peanut (in shell), Sugarcane (for sugar), Sunflower Seed, Sweet Potatoes (Non-Orange), Sweet Potatoes (Orange), Virginia peanut (in shell), Wheat Grain, Yams\n",
      "1 seasons are found: Main (03-01)\n",
      "1 crop production system are found: none\n",
      "Data sources include:\n",
      "[1] Ministério da Agricultura e Segurança Alimentar (MASA), Mozambique --- FEWS Agro_Maps\n",
      "[2] Ministério da Agricultura e Segurança Alimentar (MASA), Mozambique --- Anuário de Estatísticas Agrárias\n",
      "[3] Directorate of Planning and International Cooperation (DPCI) --- Anuário de Estatísticas Agrárias\n",
      "[4] Directorate of Planning and International Cooperation (DPCI) --- Anuário de Estatísticas Agrárias, Mozambique\n",
      "[5] Instituto Nacional de Estatística --- Censo Agro Pecuario\n",
      "[6] Ministério da Agricultura e Segurança Alimentar (MASA), Mozambique --- Ministério da Agricultura e Segurança Alimentar\n",
      "Administrative-1 fnids: 21\n",
      "Administrative-2 fnids: 0\n",
      "0 reporting units are found: \n",
      "\n",
      "- Total production over time ------------------ #\n",
      "season_name                    Main\n",
      "                                   \n",
      "Bambara groundnut              0.1%\n",
      "Beans (Lima)                   0.3%\n",
      "Beans (mixed)                  2.3%\n",
      "Cassava                       70.8%\n",
      "Cowpeas (Mixed)                0.4%\n",
      "Green bean (fresh)             0.5%\n",
      "Groundnuts (In Shell)          1.5%\n",
      "Groundnuts (In Shell, Large)   0.1%\n",
      "Groundnuts (In Shell, Small)   0.1%\n",
      "Maize (Corn)                  16.6%\n",
      "Millet                         0.1%\n",
      "Pigeon Peas                    0.4%\n",
      "Rice (Paddy)                   1.0%\n",
      "Sesame Seed                    0.1%\n",
      "Sorghum                        3.1%\n",
      "Spanish peanut (in shell)      0.4%\n",
      "Sugarcane (for sugar)          0.1%\n",
      "Sunflower Seed                 0.0%\n",
      "Sweet Potatoes (Non-Orange)    1.4%\n",
      "Sweet Potatoes (Orange)        0.5%\n",
      "Virginia peanut (in shell)     0.2%\n",
      "Wheat Grain                    0.0%\n",
      "\n",
      "- Crop calendar ------------------------------- #\n",
      "                         product season_name planting_month harvest_month\n",
      "0              Bambara groundnut        Main          03-01         06-01\n",
      "1                   Beans (Lima)        Main          03-01         06-01\n",
      "2                  Beans (mixed)        Main          03-01         06-01\n",
      "3          Cabbage (Unspecified)        Main          03-01         06-01\n",
      "4                        Carrots        Main          03-01         06-01\n",
      "5                        Cassava        Main          03-01         06-01\n",
      "6                Cowpeas (Mixed)        Main          03-01         06-01\n",
      "7                       Cucumber        Main          03-01         06-01\n",
      "8                 Garlic (fresh)        Main          03-01         06-01\n",
      "9             Green bean (fresh)        Main          03-01         06-01\n",
      "10         Groundnuts (In Shell)        Main          03-01         06-01\n",
      "11  Groundnuts (In Shell, Large)        Main          03-01         06-01\n",
      "12  Groundnuts (In Shell, Small)        Main          03-01         06-01\n",
      "13         Lettuce (Unspecified)        Main          03-01         06-01\n",
      "14                  Maize (Corn)        Main          03-01         06-01\n",
      "15                        Millet        Main          03-01         06-01\n",
      "16                        Onions        Main          03-01         06-01\n",
      "17             Pea (unspecified)        Main          03-01         06-01\n",
      "18                   Pigeon Peas        Main          03-01         06-01\n",
      "19                Potato (Irish)        Main          03-01         06-01\n",
      "20                  Rice (Paddy)        Main          03-01         06-01\n",
      "21                   Sesame Seed        Main          03-01         06-01\n",
      "22                       Sorghum        Main          03-01         06-01\n",
      "23         Soybean (unspecified)        Main          03-01         06-01\n",
      "24     Spanish peanut (in shell)        Main          03-01         06-01\n",
      "25         Sugarcane (for sugar)        Main          03-01         06-01\n",
      "26                Sunflower Seed        Main          03-01         06-01\n",
      "27   Sweet Potatoes (Non-Orange)        Main          03-01         06-01\n",
      "28       Sweet Potatoes (Orange)        Main          03-01         06-01\n",
      "29    Virginia peanut (in shell)        Main          03-01         06-01\n",
      "30                   Wheat Grain        Main          03-01         06-01\n",
      "31                          Yams        Main          03-01         06-01\n",
      "\n",
      "- Recorded years per season ------------------- #\n",
      "Main: 20 years (1999-2018) (missing: 3 years)\n",
      "\n",
      "- Number of \"Quantity Produced\" data points --- #\n",
      "MZ1990A1: 1,546 data points are found.\n",
      "MZ2013A1: 170 data points are found.\n",
      "\n",
      "- Districts with population group(s) ---------- #\n",
      "0 districts includes 'population_group'.\n",
      "\n",
      "Table of available data\n",
      "----------------------------------------------- #\n",
      "Crop type: Bambara groundnut\n",
      "----------------------------------------------- #\n",
      "season_name              Main       \n",
      "crop_production_system   none       \n",
      "fnid_short             1990A1 2013A1\n",
      "year                                \n",
      "2002                    11/11    NaN\n",
      "2003                    11/11    NaN\n",
      "2004                      NaN    NaN\n",
      "2005                    11/11    NaN\n",
      "2006                    11/11    NaN\n",
      "2007                    10/11    NaN\n",
      "2008                    10/11    NaN\n",
      "2009                      NaN    NaN\n",
      "2010                    11/11    NaN\n",
      "2011                      NaN    NaN\n",
      "2012                    10/11    NaN\n",
      "2013                      NaN  10/11\n",
      "2014                      NaN  10/11\n",
      "----------------------------------------------- #\n",
      "Crop type: Beans (Lima)\n",
      "----------------------------------------------- #\n",
      "season_name              Main       \n",
      "crop_production_system   none       \n",
      "fnid_short             1990A1 2013A1\n",
      "year                                \n",
      "2002                    11/11    NaN\n",
      "2003                    11/11    NaN\n",
      "2004                      NaN    NaN\n",
      "2005                    11/11    NaN\n",
      "2006                    11/11    NaN\n",
      "2007                    10/11    NaN\n",
      "2008                    10/11    NaN\n",
      "2009                      NaN    NaN\n",
      "2010                    11/11    NaN\n",
      "2011                      NaN    NaN\n",
      "2012                    10/11    NaN\n",
      "2013                      NaN  10/11\n",
      "2014                      NaN  10/11\n",
      "----------------------------------------------- #\n",
      "Crop type: Beans (mixed)\n",
      "----------------------------------------------- #\n",
      "season_name              Main       \n",
      "crop_production_system   none       \n",
      "fnid_short             1990A1 2013A1\n",
      "year                                \n",
      "1999                     7/11    NaN\n",
      "2000                    10/11    NaN\n",
      "2001                    10/11    NaN\n",
      "2002                    10/11    NaN\n",
      "2003                    10/11    NaN\n",
      "2004                    10/11    NaN\n",
      "2005                    10/11    NaN\n",
      "2006                    10/11    NaN\n",
      "2007                    10/11    NaN\n",
      "2008                    10/11    NaN\n",
      "2009                    10/11    NaN\n",
      "2010                    10/11    NaN\n",
      "2011                    10/11    NaN\n",
      "2012                      NaN    NaN\n",
      "2013                      NaN    NaN\n",
      "2014                      NaN    NaN\n",
      "2015                      NaN    NaN\n",
      "2016                      NaN    NaN\n",
      "2017                      NaN    NaN\n",
      "2018                      NaN  10/11\n",
      "----------------------------------------------- #\n",
      "Crop type: Cabbage (Unspecified)\n",
      "----------------------------------------------- #\n",
      "season_name              Main\n",
      "crop_production_system   none\n",
      "fnid_short             1990A1\n",
      "year                         \n",
      "2000                     8/11\n",
      "----------------------------------------------- #\n",
      "Crop type: Carrots\n",
      "----------------------------------------------- #\n",
      "season_name              Main\n",
      "crop_production_system   none\n",
      "fnid_short             1990A1\n",
      "year                         \n",
      "2000                     4/11\n",
      "----------------------------------------------- #\n",
      "Crop type: Cassava\n",
      "----------------------------------------------- #\n",
      "season_name              Main       \n",
      "crop_production_system   none       \n",
      "fnid_short             1990A1 2013A1\n",
      "year                                \n",
      "1999                     5/11    NaN\n",
      "2000                    10/11    NaN\n",
      "2001                    10/11    NaN\n",
      "2002                    11/11    NaN\n",
      "2003                    10/11    NaN\n",
      "2004                    10/11    NaN\n",
      "2005                    11/11    NaN\n",
      "2006                    11/11    NaN\n",
      "2007                    10/11    NaN\n",
      "2008                    10/11    NaN\n",
      "2009                    10/11    NaN\n",
      "2010                    11/11    NaN\n",
      "2011                    10/11    NaN\n",
      "2012                    10/11    NaN\n",
      "2013                      NaN  10/11\n",
      "2014                      NaN  10/11\n",
      "2015                      NaN    NaN\n",
      "2016                      NaN    NaN\n",
      "2017                      NaN    NaN\n",
      "2018                      NaN  10/11\n",
      "----------------------------------------------- #\n",
      "Crop type: Cowpeas (Mixed)\n",
      "----------------------------------------------- #\n",
      "season_name              Main       \n",
      "crop_production_system   none       \n",
      "fnid_short             1990A1 2013A1\n",
      "year                                \n",
      "2002                    11/11    NaN\n",
      "2003                    11/11    NaN\n",
      "2004                      NaN    NaN\n",
      "2005                    11/11    NaN\n",
      "2006                    11/11    NaN\n",
      "2007                    10/11    NaN\n",
      "2008                    10/11    NaN\n",
      "2009                      NaN    NaN\n",
      "2010                    11/11    NaN\n",
      "2011                      NaN    NaN\n",
      "2012                    10/11    NaN\n",
      "2013                      NaN  10/11\n",
      "2014                      NaN  10/11\n",
      "----------------------------------------------- #\n",
      "Crop type: Cucumber\n",
      "----------------------------------------------- #\n",
      "season_name              Main\n",
      "crop_production_system   none\n",
      "fnid_short             1990A1\n",
      "year                         \n",
      "2000                     8/11\n",
      "----------------------------------------------- #\n",
      "Crop type: Garlic (fresh)\n",
      "----------------------------------------------- #\n",
      "season_name              Main\n",
      "crop_production_system   none\n",
      "fnid_short             1990A1\n",
      "year                         \n",
      "2000                     6/11\n",
      "----------------------------------------------- #\n",
      "Crop type: Green bean (fresh)\n",
      "----------------------------------------------- #\n",
      "season_name              Main\n",
      "crop_production_system   none\n",
      "fnid_short             1990A1\n",
      "year                         \n",
      "2002                    10/11\n",
      "2003                    10/11\n",
      "2004                      NaN\n",
      "2005                    10/11\n",
      "2006                    10/11\n",
      "2007                    10/11\n",
      "2008                    10/11\n",
      "----------------------------------------------- #\n",
      "Crop type: Groundnuts (In Shell)\n",
      "----------------------------------------------- #\n",
      "season_name              Main       \n",
      "crop_production_system   none       \n",
      "fnid_short             1990A1 2013A1\n",
      "year                                \n",
      "1999                     7/11    NaN\n",
      "2000                    10/11    NaN\n",
      "2001                    10/11    NaN\n",
      "2002                    10/11    NaN\n",
      "2003                    10/11    NaN\n",
      "2004                    10/11    NaN\n",
      "2005                    10/11    NaN\n",
      "2006                    10/11    NaN\n",
      "2007                    10/11    NaN\n",
      "2008                    10/11    NaN\n",
      "2009                    10/11    NaN\n",
      "2010                    11/11    NaN\n",
      "2011                    10/11    NaN\n",
      "2012                      NaN    NaN\n",
      "2013                      NaN    NaN\n",
      "2014                      NaN    NaN\n",
      "2015                      NaN    NaN\n",
      "2016                      NaN    NaN\n",
      "2017                      NaN    NaN\n",
      "2018                      NaN  10/11\n",
      "----------------------------------------------- #\n",
      "Crop type: Groundnuts (In Shell, Large)\n",
      "----------------------------------------------- #\n",
      "season_name              Main\n",
      "crop_production_system   none\n",
      "fnid_short             1990A1\n",
      "year                         \n",
      "2002                    10/11\n",
      "2003                    10/11\n",
      "2004                      NaN\n",
      "2005                    10/11\n",
      "2006                    10/11\n",
      "----------------------------------------------- #\n",
      "Crop type: Groundnuts (In Shell, Small)\n",
      "----------------------------------------------- #\n",
      "season_name              Main\n",
      "crop_production_system   none\n",
      "fnid_short             1990A1\n",
      "year                         \n",
      "2002                    10/11\n",
      "2003                      NaN\n",
      "2004                      NaN\n",
      "2005                    10/11\n",
      "2006                    10/11\n",
      "----------------------------------------------- #\n",
      "Crop type: Lettuce (Unspecified)\n",
      "----------------------------------------------- #\n",
      "season_name              Main\n",
      "crop_production_system   none\n",
      "fnid_short             1990A1\n",
      "year                         \n",
      "2000                     6/11\n",
      "----------------------------------------------- #\n",
      "Crop type: Maize (Corn)\n",
      "----------------------------------------------- #\n",
      "season_name              Main       \n",
      "crop_production_system   none       \n",
      "fnid_short             1990A1 2013A1\n",
      "year                                \n",
      "1999                     6/11    NaN\n",
      "2000                    10/11    NaN\n",
      "2001                    10/11    NaN\n",
      "2002                    11/11    NaN\n",
      "2003                    11/11    NaN\n",
      "2004                    10/11    NaN\n",
      "2005                    11/11    NaN\n",
      "2006                    11/11    NaN\n",
      "2007                    10/11    NaN\n",
      "2008                    10/11    NaN\n",
      "2009                    10/11    NaN\n",
      "2010                    11/11    NaN\n",
      "2011                    10/11    NaN\n",
      "2012                    10/11    NaN\n",
      "2013                      NaN  10/11\n",
      "2014                      NaN  10/11\n",
      "2015                      NaN    NaN\n",
      "2016                      NaN    NaN\n",
      "2017                      NaN    NaN\n",
      "2018                      NaN  10/11\n",
      "----------------------------------------------- #\n",
      "Crop type: Millet\n",
      "----------------------------------------------- #\n",
      "season_name              Main       \n",
      "crop_production_system   none       \n",
      "fnid_short             1990A1 2013A1\n",
      "year                                \n",
      "2000                     9/11    NaN\n",
      "2001                      NaN    NaN\n",
      "2002                    11/11    NaN\n",
      "2003                    10/11    NaN\n",
      "2004                      NaN    NaN\n",
      "2005                    10/11    NaN\n",
      "2006                    11/11    NaN\n",
      "2007                    10/11    NaN\n",
      "2008                    10/11    NaN\n",
      "2009                      NaN    NaN\n",
      "2010                    10/11    NaN\n",
      "2011                      NaN    NaN\n",
      "2012                    10/11    NaN\n",
      "2013                      NaN  10/11\n",
      "2014                      NaN  10/11\n",
      "2015                      NaN    NaN\n",
      "2016                      NaN    NaN\n",
      "2017                      NaN    NaN\n",
      "2018                      NaN  10/11\n",
      "----------------------------------------------- #\n",
      "Crop type: Onions\n",
      "----------------------------------------------- #\n",
      "season_name              Main\n",
      "crop_production_system   none\n",
      "fnid_short             1990A1\n",
      "year                         \n",
      "2000                     9/11\n",
      "----------------------------------------------- #\n",
      "Crop type: Pea (unspecified)\n",
      "----------------------------------------------- #\n",
      "season_name              Main\n",
      "crop_production_system   none\n",
      "fnid_short             1990A1\n",
      "year                         \n",
      "2000                     6/11\n",
      "----------------------------------------------- #\n",
      "Crop type: Pigeon Peas\n",
      "----------------------------------------------- #\n",
      "season_name              Main       \n",
      "crop_production_system   none       \n",
      "fnid_short             1990A1 2013A1\n",
      "year                                \n",
      "2002                    11/11    NaN\n",
      "2003                    11/11    NaN\n",
      "2004                      NaN    NaN\n",
      "2005                    11/11    NaN\n",
      "2006                    11/11    NaN\n",
      "2007                    10/11    NaN\n",
      "2008                    10/11    NaN\n",
      "2009                      NaN    NaN\n",
      "2010                    11/11    NaN\n",
      "2011                      NaN    NaN\n",
      "2012                    10/11    NaN\n",
      "2013                      NaN  10/11\n",
      "2014                      NaN  10/11\n",
      "----------------------------------------------- #\n",
      "Crop type: Potato (Irish)\n",
      "----------------------------------------------- #\n",
      "season_name              Main       \n",
      "crop_production_system   none       \n",
      "fnid_short             1990A1 2013A1\n",
      "year                                \n",
      "2012                     9/11    NaN\n",
      "2013                      NaN   9/11\n",
      "2014                      NaN   9/11\n",
      "----------------------------------------------- #\n",
      "Crop type: Rice (Paddy)\n",
      "----------------------------------------------- #\n",
      "season_name              Main       \n",
      "crop_production_system   none       \n",
      "fnid_short             1990A1 2013A1\n",
      "year                                \n",
      "1999                     9/11    NaN\n",
      "2000                    10/11    NaN\n",
      "2001                      NaN    NaN\n",
      "2002                    11/11    NaN\n",
      "2003                    11/11    NaN\n",
      "2004                      NaN    NaN\n",
      "2005                    11/11    NaN\n",
      "2006                    11/11    NaN\n",
      "2007                    10/11    NaN\n",
      "2008                    10/11    NaN\n",
      "2009                      NaN    NaN\n",
      "2010                    11/11    NaN\n",
      "2011                      NaN    NaN\n",
      "2012                    10/11    NaN\n",
      "2013                      NaN  10/11\n",
      "2014                      NaN  10/11\n",
      "2015                      NaN    NaN\n",
      "2016                      NaN    NaN\n",
      "2017                      NaN    NaN\n",
      "2018                      NaN  10/11\n",
      "----------------------------------------------- #\n",
      "Crop type: Sesame Seed\n",
      "----------------------------------------------- #\n",
      "season_name              Main       \n",
      "crop_production_system   none       \n",
      "fnid_short             1990A1 2013A1\n",
      "year                                \n",
      "2000                    10/11    NaN\n",
      "2001                      NaN    NaN\n",
      "2002                    10/11    NaN\n",
      "2003                    10/11    NaN\n",
      "2004                      NaN    NaN\n",
      "2005                    10/11    NaN\n",
      "2006                    10/11    NaN\n",
      "2007                    10/11    NaN\n",
      "2008                    10/11    NaN\n",
      "2009                      NaN    NaN\n",
      "2010                    10/11    NaN\n",
      "2011                      NaN    NaN\n",
      "2012                    10/11    NaN\n",
      "2013                      NaN  10/11\n",
      "2014                      NaN  10/11\n",
      "----------------------------------------------- #\n",
      "Crop type: Sorghum\n",
      "----------------------------------------------- #\n",
      "season_name              Main       \n",
      "crop_production_system   none       \n",
      "fnid_short             1990A1 2013A1\n",
      "year                                \n",
      "1999                     8/11    NaN\n",
      "2000                    10/11    NaN\n",
      "2001                    10/11    NaN\n",
      "2002                    11/11    NaN\n",
      "2003                    11/11    NaN\n",
      "2004                    10/11    NaN\n",
      "2005                     9/11    NaN\n",
      "2006                    11/11    NaN\n",
      "2007                    10/11    NaN\n",
      "2008                    10/11    NaN\n",
      "2009                     9/11    NaN\n",
      "2010                    11/11    NaN\n",
      "2011                    10/11    NaN\n",
      "2012                    10/11    NaN\n",
      "2013                      NaN  10/11\n",
      "2014                      NaN  10/11\n",
      "2015                      NaN    NaN\n",
      "2016                      NaN    NaN\n",
      "2017                      NaN    NaN\n",
      "2018                      NaN  10/11\n",
      "----------------------------------------------- #\n",
      "Crop type: Soybean (unspecified)\n",
      "----------------------------------------------- #\n",
      "season_name              Main\n",
      "crop_production_system   none\n",
      "fnid_short             1990A1\n",
      "year                         \n",
      "2000                     3/11\n",
      "2001                      NaN\n",
      "2002                     5/11\n",
      "2003                     5/11\n",
      "2004                      NaN\n",
      "2005                     5/11\n",
      "2006                     5/11\n",
      "2007                     5/11\n",
      "2008                     5/11\n",
      "2009                      NaN\n",
      "2010                     9/11\n",
      "----------------------------------------------- #\n",
      "Crop type: Spanish peanut (in shell)\n",
      "----------------------------------------------- #\n",
      "season_name              Main       \n",
      "crop_production_system   none       \n",
      "fnid_short             1990A1 2013A1\n",
      "year                                \n",
      "2002                    10/11    NaN\n",
      "2003                    10/11    NaN\n",
      "2004                      NaN    NaN\n",
      "2005                    10/11    NaN\n",
      "2006                    10/11    NaN\n",
      "2007                    10/11    NaN\n",
      "2008                    10/11    NaN\n",
      "2009                      NaN    NaN\n",
      "2010                      NaN    NaN\n",
      "2011                      NaN    NaN\n",
      "2012                    10/11    NaN\n",
      "2013                      NaN  10/11\n",
      "2014                      NaN  10/11\n",
      "----------------------------------------------- #\n",
      "Crop type: Sugarcane (for sugar)\n",
      "----------------------------------------------- #\n",
      "season_name              Main\n",
      "crop_production_system   none\n",
      "fnid_short             1990A1\n",
      "year                         \n",
      "1999                     1/11\n",
      "2000                    10/11\n",
      "2001                      NaN\n",
      "2002                     9/11\n",
      "2003                    10/11\n",
      "2004                      NaN\n",
      "2005                    10/11\n",
      "2006                    10/11\n",
      "2007                    10/11\n",
      "2008                    10/11\n",
      "2009                      NaN\n",
      "2010                     7/11\n",
      "----------------------------------------------- #\n",
      "Crop type: Sunflower Seed\n",
      "----------------------------------------------- #\n",
      "season_name              Main       \n",
      "crop_production_system   none       \n",
      "fnid_short             1990A1 2013A1\n",
      "year                                \n",
      "2000                    10/11    NaN\n",
      "2001                      NaN    NaN\n",
      "2002                    10/11    NaN\n",
      "2003                    10/11    NaN\n",
      "2004                      NaN    NaN\n",
      "2005                    10/11    NaN\n",
      "2006                    10/11    NaN\n",
      "2007                    10/11    NaN\n",
      "2008                    10/11    NaN\n",
      "2009                      NaN    NaN\n",
      "2010                    10/11    NaN\n",
      "2011                      NaN    NaN\n",
      "2012                    10/11    NaN\n",
      "2013                      NaN   9/11\n",
      "2014                      NaN  10/11\n",
      "----------------------------------------------- #\n",
      "Crop type: Sweet Potatoes (Non-Orange)\n",
      "----------------------------------------------- #\n",
      "season_name              Main       \n",
      "crop_production_system   none       \n",
      "fnid_short             1990A1 2013A1\n",
      "year                                \n",
      "2002                     9/11    NaN\n",
      "2003                     9/11    NaN\n",
      "2004                      NaN    NaN\n",
      "2005                    10/11    NaN\n",
      "2006                    10/11    NaN\n",
      "2007                    10/11    NaN\n",
      "2008                    10/11    NaN\n",
      "2009                      NaN    NaN\n",
      "2010                      NaN    NaN\n",
      "2011                      NaN    NaN\n",
      "2012                    10/11    NaN\n",
      "2013                      NaN   9/11\n",
      "2014                      NaN  10/11\n",
      "----------------------------------------------- #\n",
      "Crop type: Sweet Potatoes (Orange)\n",
      "----------------------------------------------- #\n",
      "season_name              Main       \n",
      "crop_production_system   none       \n",
      "fnid_short             1990A1 2013A1\n",
      "year                                \n",
      "2002                    10/11    NaN\n",
      "2003                     9/11    NaN\n",
      "2004                      NaN    NaN\n",
      "2005                    10/11    NaN\n",
      "2006                    10/11    NaN\n",
      "2007                    10/11    NaN\n",
      "2008                    10/11    NaN\n",
      "2009                      NaN    NaN\n",
      "2010                      NaN    NaN\n",
      "2011                      NaN    NaN\n",
      "2012                    10/11    NaN\n",
      "2013                      NaN   9/11\n",
      "2014                      NaN  10/11\n",
      "----------------------------------------------- #\n",
      "Crop type: Virginia peanut (in shell)\n",
      "----------------------------------------------- #\n",
      "season_name              Main       \n",
      "crop_production_system   none       \n",
      "fnid_short             1990A1 2013A1\n",
      "year                                \n",
      "2002                    10/11    NaN\n",
      "2003                    10/11    NaN\n",
      "2004                      NaN    NaN\n",
      "2005                    10/11    NaN\n",
      "2006                    10/11    NaN\n",
      "2007                    10/11    NaN\n",
      "2008                    10/11    NaN\n",
      "2009                      NaN    NaN\n",
      "2010                      NaN    NaN\n",
      "2011                      NaN    NaN\n",
      "2012                    10/11    NaN\n",
      "2013                      NaN  10/11\n",
      "2014                      NaN   6/11\n",
      "----------------------------------------------- #\n",
      "Crop type: Wheat Grain\n",
      "----------------------------------------------- #\n",
      "season_name              Main       \n",
      "crop_production_system   none       \n",
      "fnid_short             1990A1 2013A1\n",
      "year                                \n",
      "2010                     3/11    NaN\n",
      "2011                      NaN    NaN\n",
      "2012                      NaN    NaN\n",
      "2013                      NaN    NaN\n",
      "2014                      NaN    NaN\n",
      "2015                      NaN    NaN\n",
      "2016                      NaN    NaN\n",
      "2017                      NaN    NaN\n",
      "2018                      NaN   2/11\n",
      "----------------------------------------------- #\n",
      "Crop type: Yams\n",
      "----------------------------------------------- #\n",
      "season_name              Main\n",
      "crop_production_system   none\n",
      "fnid_short             1990A1\n",
      "year                         \n",
      "2000                     9/11\n",
      "----------------------------------------------- #\n",
      "../figures/MZ_admin_shapes.png is saved.\n"
     ]
    }
   ],
   "source": [
    "# Manual Pre-processing before Sweeping --------- #\n",
    "# Default setting \n",
    "# a) None-type crop production system\n",
    "df.loc[df['crop_production_system'].isna(), 'crop_production_system'] = 'none'\n",
    "df.loc[df['crop_production_system'] == '', 'crop_production_system'] = 'none'\n",
    "# b) None-type population group\n",
    "df.loc[df['population_group'].isna(), 'population_group'] = 'none'\n",
    "df.loc[df['population_group'] == '', 'population_group'] = 'none'\n",
    "# Change the season name\n",
    "df['season_name'] = df['season_name'].replace({'Main harvest': 'Main'})\n",
    "\n",
    "#Drop the hundreds of blank (nan) rows that are duplicates of rows that do have data\n",
    "df = df[np.isfinite(df.value)]\n",
    "# #There are also 462 rows that are direct duplicates (same value) \n",
    "# #with slightly different source data names for the same source, example below\n",
    "# #Directorate of Planning and International Cooperation (DPCI) --- Anuário de Estatísticas Agrárias\n",
    "# #Directorate of Planning and International Cooperation (DPCI) --- Anuário de Estatísticas Agrárias, Mozambique\n",
    "# # we will keep the more recent of these entries\n",
    "rows = ['fnid','crop_production_system','season_year', 'product','indicator']\n",
    "df['collection_date'] = pd.to_datetime(df['collection_date'])\n",
    "df = df.sort_values(by=['collection_date']).drop_duplicates(rows, keep='last').reset_index(drop=True)\n",
    "# Drop Sweet Potatoes\n",
    "df = df[df['product'] != 'Sweet Potatoes']\n",
    "# ----------------------------------------------- #\n",
    "\n",
    "# FDW Production Data Inspection ---------------- #\n",
    "df, df_raw = FDW_PD_Sweeper(df)\n",
    "table_dict = FDW_PD_AvalTable(df, shape_all)\n",
    "# ----------------------------------------------- #\n",
    "\n",
    "# FEWS NET Shapefile comparison ----------------- #\n",
    "shape_used = pd.concat([MZ_Admin1_1990,MZ_Admin1_2013], axis=0)\n",
    "PlotAdminShapes(shape_used, label=True)\n",
    "# ----------------------------------------------- #"
   ]
  },
  {
   "cell_type": "markdown",
   "id": "c306101b-6d9e-45d3-af48-3cecb4033e29",
   "metadata": {},
   "source": [
    "\n",
    "- Mozambique crop seasonal calendar\n",
    "\n",
    "![FEWS NET](https://fews.net/sites/default/files/styles/large_width_880/public/2023-03/seasonal-calendar-mozambique.png?itok=hpXyM51B)\n",
    "\n",
    "![USDA](https://ipad.fas.usda.gov/countrysummary/images/MZ/cropcalendar/safrica_mz_calendar.png)\n",
    "\n",
    "- comparison of boundaries\n",
    "\n",
    "![image](../figures/MZ_admin_shapes.png)\n",
    "\n",
    "- In Mozambique, basd on the FEWS NET data, there were two changes in administrative units: 1990, 2013, and 2021\n",
    "- While the admin unit 1 doesn't change between 1990 and 2013, we will still need to map between FNIDs\n",
    "\n",
    "| year\t | Admin1   | # units   | Admin2   | # units   |\n",
    "| :---: | :----:  | :----:   | :----:   | :---:  |\n",
    "| 1990\t | MZ1990A1 | 11\t| MZ1990A2\t| 142\t|\n",
    "| 2013\t | MZ2013A1 | 11\t| MZ2013A2\t| 154\t|\n",
    "| 2021\t | MZ2021A1 | 11\t| MZ2021A2\t| 160\t|\n",
    "\n",
    "- The data is all reported in a single main season\n",
    "- While there is a shapefile for 2021, there is no crop data associated with the 2021 shapefile, so we use 2013 as the most recent shapefile"
   ]
  },
  {
   "cell_type": "code",
   "execution_count": 4,
   "id": "b829c5de-2d2a-497f-aef5-aa7e76b30cdc",
   "metadata": {},
   "outputs": [],
   "source": [
    "# Define the latest shapefile ------------------- #\n",
    "latest_level = 1\n",
    "shape_latest = MZ_Admin1_2013.copy().to_crs('epsg:4326')\n",
    "# ----------------------------------------------- #\n",
    "\n",
    "# Validation of FNIDs and Names ----------------- #\n",
    "df = FDW_PD_ValidateFnidName(df, shape_used, shape_latest)\n",
    "# ----------------------------------------------- #\n",
    "\n",
    "# FDW Production Data Compiling ----------------- #\n",
    "area, prod = FDW_PD_Compiling(df, shape_used)\n",
    "area_all, prod_all = area.copy(), prod.copy()\n",
    "mdx_pss = area.columns.droplevel([0,1]).unique()\n",
    "# ----------------------------------------------- #"
   ]
  },
  {
   "cell_type": "code",
   "execution_count": 5,
   "id": "789cd401-4c6a-4927-ad88-2ffea4be6b15",
   "metadata": {},
   "outputs": [
    {
     "name": "stdout",
     "output_type": "stream",
     "text": [
      "CBR is considered for 'MZ1990A106' as no record found in: ['MZ2013A106']\n"
     ]
    }
   ],
   "source": [
    "# Link admin boundaries ------------------------- #\n",
    "link_1990, over_1990 = FDW_PD_CreateAdminLink(MZ_Admin1_1990, MZ_Admin1_2013, 'ADMIN1', 'ADMIN1', prod, epsg)\n",
    "# Crop specific ratios\n",
    "link_ratio = FDW_PD_RatioAdminLink(link_1990, prod, over_1990, mdx_pss)\n",
    "# Add current unit to link_ratio\n",
    "for fnid_new in link_ratio.keys():\n",
    "    link_ratio[fnid_new][fnid_new] = 1.0\n",
    "    link_ratio[fnid_new] = link_ratio[fnid_new].sort_index(axis=1, ascending=False)\n",
    "# Connect data with AdminLink\n",
    "area_new, prod_new = FDW_PD_ConnectAdminLink(link_ratio, area, prod, validation=False)\n",
    "# ----------------------------------------------- #"
   ]
  },
  {
   "cell_type": "code",
   "execution_count": 6,
   "id": "20272ff1-9c5b-4fb9-a282-32d4fd9b738c",
   "metadata": {},
   "outputs": [
    {
     "name": "stdout",
     "output_type": "stream",
     "text": [
      "All [season_name, product, crop_production_system] are in the external crop calendar.\n",
      "../data/crop/adm_crop_production_MZ.csv is saved.\n"
     ]
    }
   ],
   "source": [
    "# Manual correction ----------------------------- #\n",
    "crop_new = prod_new/area_new\n",
    "# ----------------------------------------------- #\n",
    "\n",
    "# Complete long format DataFrame ---------------- #\n",
    "df_area = area_new.T.stack().rename('value').reset_index()\n",
    "df_area['indicator'] = 'area'\n",
    "df_prod = prod_new.T.stack().rename('value').reset_index()\n",
    "df_prod['indicator'] = 'production'\n",
    "df_yield = crop_new.T.stack().rename('value').reset_index()\n",
    "df_yield['indicator'] = 'yield'\n",
    "stack = pd.concat([df_area, df_prod, df_yield], axis=0)\n",
    "# Add \"planting year\"\n",
    "cols = ['season_name','product','crop_production_system','planting_month','harvest_year','harvest_month','planting_year']\n",
    "season_table = df[cols].drop_duplicates()\n",
    "stack = stack.merge(season_table, on=cols[:-1])\n",
    "# Add country and admin names\n",
    "stack = stack.merge(df[['fnid','country','country_code','admin_1','admin_2']].drop_duplicates(), on='fnid', how='inner')\n",
    "names = [\n",
    "    'fnid','country','country_code','admin_1','admin_2','name',\n",
    "    'product','season_name','planting_year','planting_month','harvest_year','harvest_month',\n",
    "    'crop_production_system','indicator','value'\n",
    "]\n",
    "stack = stack[names]\n",
    "# ----------------------------------------------- #\n",
    "\n",
    "# Final Processing ------------------------------ #\n",
    "# Manual change of product name\n",
    "product_category_custom = {\n",
    "    'Bambara groundnut': 'Bambara groundnut',\n",
    "    'Beans (Lima)': 'Beans (Lima)',\n",
    "    'Beans (mixed)': 'Beans (mixed)',\n",
    "    'Cassava': 'Cassava',\n",
    "    'Cowpeas (Mixed)': 'Cowpeas',\n",
    "    'Green bean (fresh)': 'Green bean',\n",
    "    'Groundnuts (In Shell)': 'Groundnuts (In Shell)',\n",
    "    'Groundnuts (In Shell, Large)': 'Groundnuts (In Shell, Large)',\n",
    "    'Groundnuts (In Shell, Small)': 'Groundnuts (In Shell, Small)',\n",
    "    'Maize (Corn)': 'Maize',\n",
    "    'Millet': 'Millet',\n",
    "    'Pigeon Peas': 'Pigeon Peas',\n",
    "    'Potato (Irish)': 'Potato',\n",
    "    'Rice (Paddy)': 'Rice',\n",
    "    'Sesame Seed': 'Sesame Seed',\n",
    "    'Sorghum': 'Sorghum',\n",
    "    'Spanish peanut (in shell)': 'Spanish peanut',\n",
    "    'Sugarcane (for sugar)': 'Sugarcane',\n",
    "    'Sunflower Seed': 'Sunflower Seed',\n",
    "    'Sweet Potatoes': 'Sweet Potatoes',\n",
    "    'Sweet Potatoes (Non-Orange)': 'Sweet Potatoes (Non-Orange)',\n",
    "    'Sweet Potatoes (Orange)': 'Sweet Potatoes (Orange)',\n",
    "    'Virginia peanut (in shell)': 'Virginia peanut',\n",
    "    'Wheat Grain': 'Wheat'\n",
    "}\n",
    "stack['product'] = stack['product'].replace(product_category_custom)\n",
    "for f, r in link_ratio.items():\n",
    "    mdx = pd.MultiIndex.from_frame(r.index.to_frame().reset_index(drop=True).replace(product_category_custom))\n",
    "    r.index = mdx\n",
    "    link_ratio[f] = r\n",
    "# Calibration of crop calendar using External Crop Calendar (ECC)\n",
    "ecc = pd.read_csv('../data/crop_calendar/external_crop_calendar.csv')\n",
    "ecc = ecc[ecc['country'] == 'Mozambique']\n",
    "stack, link_ratio = FDW_PD_CaliSeasonYear(stack, ecc, link_ratio)\n",
    "# None admin names\n",
    "stack.loc[stack['admin_1'].isna(), 'admin_1'] = 'none'\n",
    "stack.loc[stack['admin_2'].isna(), 'admin_2'] = 'none'\n",
    "# ----------------------------------------------- #\n",
    "\n",
    "# Save data\n",
    "fn_out = '../data/crop/adm_crop_production_MZ.csv'\n",
    "stack.to_csv(fn_out); print(f'{fn_out} is saved.')"
   ]
  },
  {
   "cell_type": "markdown",
   "id": "bf1e7c1c-6138-4f8e-b6e3-9afa1f3b3cd2",
   "metadata": {},
   "source": [
    "# Visualization of production data"
   ]
  },
  {
   "cell_type": "code",
   "execution_count": 7,
   "id": "6f75d416-b5a8-49ce-987f-6723589512f1",
   "metadata": {},
   "outputs": [
    {
     "name": "stdout",
     "output_type": "stream",
     "text": [
      "../figures/MZ_bar_natgrainprod_Main.png is saved.\n"
     ]
    },
    {
     "data": {
      "application/vnd.plotly.v1+json": {
       "config": {
        "plotlyServerURL": "https://plot.ly"
       },
       "data": [
        {
         "alignmentgroup": "True",
         "hovertemplate": "product=Cassava<br>season_name=Main<br>type=orig_unit<br>year=%{x}<br>value=%{y}<extra></extra>",
         "legendgroup": "Cassava",
         "marker": {
          "color": "#636efa",
          "pattern": {
           "shape": ""
          }
         },
         "name": "Cassava",
         "offsetgroup": "Cassava",
         "orientation": "v",
         "showlegend": true,
         "textposition": "auto",
         "type": "bar",
         "x": [
          1999,
          2000,
          2001,
          2002,
          2003,
          2004,
          2005,
          2006,
          2007,
          2008,
          2009,
          2010,
          2011,
          2018
         ],
         "xaxis": "x2",
         "y": [
          1756768,
          5361974.3451622,
          6305376.227870559,
          3425229.10717863,
          6149896.15117346,
          6412768.9562372295,
          5194530.99072142,
          5447523.7351764,
          6995811,
          7071311,
          9185554,
          9738066,
          10093619,
          14482700
         ],
         "yaxis": "y2"
        },
        {
         "alignmentgroup": "True",
         "hovertemplate": "product=Cassava<br>season_name=Main<br>type=percent<br>year=%{x}<br>value=%{y}<extra></extra>",
         "legendgroup": "Cassava",
         "marker": {
          "color": "#636efa",
          "pattern": {
           "shape": ""
          }
         },
         "name": "Cassava",
         "offsetgroup": "Cassava",
         "orientation": "v",
         "showlegend": false,
         "textposition": "auto",
         "type": "bar",
         "x": [
          1999,
          2000,
          2001,
          2002,
          2003,
          2004,
          2005,
          2006,
          2007,
          2008,
          2009,
          2010,
          2011,
          2018
         ],
         "xaxis": "x",
         "y": [
          55.68284038372667,
          77.77263451766471,
          78.82809821375419,
          57.25520190992624,
          72.64083002478347,
          75.41513618067412,
          66.51479772197037,
          62.69392178583366,
          67.19328928681048,
          67.58598207391974,
          77.15873724007118,
          77.05379858488786,
          76.92948316740103,
          80.72240665327378
         ],
         "yaxis": "y"
        },
        {
         "alignmentgroup": "True",
         "hovertemplate": "product=Maize<br>season_name=Main<br>type=orig_unit<br>year=%{x}<br>value=%{y}<extra></extra>",
         "legendgroup": "Maize",
         "marker": {
          "color": "#00cc96",
          "pattern": {
           "shape": ""
          }
         },
         "name": "Maize",
         "offsetgroup": "Maize",
         "orientation": "v",
         "showlegend": true,
         "textposition": "auto",
         "type": "bar",
         "x": [
          1999,
          2000,
          2001,
          2002,
          2003,
          2004,
          2005,
          2006,
          2007,
          2008,
          2009,
          2010,
          2011,
          2012,
          2014,
          2018
         ],
         "xaxis": "x2",
         "y": [
          547713,
          1019033.45971329,
          1123782.7066202,
          1125536.60077364,
          1203889.93971479,
          1434746.1873331699,
          1200888.4761592,
          1406262.58141033,
          1483900,
          1563515,
          1931528,
          2089890,
          2178842,
          1177389,
          1357221,
          1973960
         ],
         "yaxis": "y2"
        },
        {
         "alignmentgroup": "True",
         "hovertemplate": "product=Maize<br>season_name=Main<br>type=percent<br>year=%{x}<br>value=%{y}<extra></extra>",
         "legendgroup": "Maize",
         "marker": {
          "color": "#00cc96",
          "pattern": {
           "shape": ""
          }
         },
         "name": "Maize",
         "offsetgroup": "Maize",
         "orientation": "v",
         "showlegend": false,
         "textposition": "auto",
         "type": "bar",
         "x": [
          1999,
          2000,
          2001,
          2002,
          2003,
          2004,
          2005,
          2006,
          2007,
          2008,
          2009,
          2010,
          2011,
          2012,
          2014,
          2018
         ],
         "xaxis": "x",
         "y": [
          17.36041159395668,
          14.780547559885,
          14.049225671390689,
          18.81416492673348,
          14.220006700874496,
          16.872832912090846,
          15.377106079654185,
          16.18425555816855,
          14.252546555745727,
          14.943720727642246,
          16.22485278774042,
          16.536544640852842,
          16.60625281808501,
          64.45643730055627,
          64.80627654261096,
          11.0022856123027
         ],
         "yaxis": "y"
        },
        {
         "alignmentgroup": "True",
         "hovertemplate": "product=Sorghum<br>season_name=Main<br>type=orig_unit<br>year=%{x}<br>value=%{y}<extra></extra>",
         "legendgroup": "Sorghum",
         "marker": {
          "color": "#ab63fa",
          "pattern": {
           "shape": ""
          }
         },
         "name": "Sorghum",
         "offsetgroup": "Sorghum",
         "orientation": "v",
         "showlegend": true,
         "textposition": "auto",
         "type": "bar",
         "x": [
          1999,
          2000,
          2001,
          2002,
          2003,
          2004,
          2005,
          2006,
          2007,
          2008,
          2009,
          2010,
          2011,
          2012,
          2014,
          2018
         ],
         "xaxis": "x2",
         "y": [
          208927,
          252460.92824707,
          308729.1823135,
          138897.64917585,
          229224.35259819,
          330916.76822269,
          243943.48330358998,
          201746,
          306228,
          321932,
          378035,
          388597,
          409744,
          139262,
          155163,
          270700
         ],
         "yaxis": "y2"
        },
        {
         "alignmentgroup": "True",
         "hovertemplate": "product=Sorghum<br>season_name=Main<br>type=percent<br>year=%{x}<br>value=%{y}<extra></extra>",
         "legendgroup": "Sorghum",
         "marker": {
          "color": "#ab63fa",
          "pattern": {
           "shape": ""
          }
         },
         "name": "Sorghum",
         "offsetgroup": "Sorghum",
         "orientation": "v",
         "showlegend": false,
         "textposition": "auto",
         "type": "bar",
         "x": [
          1999,
          2000,
          2001,
          2002,
          2003,
          2004,
          2005,
          2006,
          2007,
          2008,
          2009,
          2010,
          2011,
          2012,
          2014,
          2018
         ],
         "xaxis": "x",
         "y": [
          6.622188469308902,
          3.661813772060449,
          3.8596482470451234,
          2.3217754782330404,
          2.707533074594922,
          3.891631416988716,
          3.1236412828249747,
          2.3218343892530515,
          2.9412553586312433,
          3.0769528282692034,
          3.175497442239227,
          3.0748276884436465,
          3.122903108483049,
          7.623930893995159,
          7.408915929816251,
          1.5088039855165964
         ],
         "yaxis": "y"
        },
        {
         "alignmentgroup": "True",
         "hovertemplate": "product=Bambara groundnut<br>season_name=Main<br>type=orig_unit<br>year=%{x}<br>value=%{y}<extra></extra>",
         "legendgroup": "Bambara groundnut",
         "marker": {
          "color": "#FFA15A",
          "pattern": {
           "shape": ""
          }
         },
         "name": "Bambara groundnut",
         "offsetgroup": "Bambara groundnut",
         "orientation": "v",
         "showlegend": true,
         "textposition": "auto",
         "type": "bar",
         "x": [
          2002,
          2003,
          2005,
          2006,
          2007,
          2008,
          2012,
          2014
         ],
         "xaxis": "x2",
         "y": [
          22471,
          18412,
          8984,
          11609,
          20249,
          12630,
          19351,
          23901
         ],
         "yaxis": "y2"
        },
        {
         "alignmentgroup": "True",
         "hovertemplate": "product=Bambara groundnut<br>season_name=Main<br>type=percent<br>year=%{x}<br>value=%{y}<extra></extra>",
         "legendgroup": "Bambara groundnut",
         "marker": {
          "color": "#FFA15A",
          "pattern": {
           "shape": ""
          }
         },
         "name": "Bambara groundnut",
         "offsetgroup": "Bambara groundnut",
         "orientation": "v",
         "showlegend": false,
         "textposition": "auto",
         "type": "bar",
         "x": [
          2002,
          2003,
          2005,
          2006,
          2007,
          2008,
          2012,
          2014
         ],
         "xaxis": "x",
         "y": [
          0.3756191489268621,
          0.21747732474492473,
          0.11503809367998225,
          0.1336045097540406,
          0.19448737462584756,
          0.120714667137905,
          1.0593750393481376,
          1.1412546782321702
         ],
         "yaxis": "y"
        },
        {
         "alignmentgroup": "True",
         "hovertemplate": "product=Beans (Lima)<br>season_name=Main<br>type=orig_unit<br>year=%{x}<br>value=%{y}<extra></extra>",
         "legendgroup": "Beans (Lima)",
         "marker": {
          "color": "#19d3f3",
          "pattern": {
           "shape": ""
          }
         },
         "name": "Beans (Lima)",
         "offsetgroup": "Beans (Lima)",
         "orientation": "v",
         "showlegend": true,
         "textposition": "auto",
         "type": "bar",
         "x": [
          2002,
          2003,
          2005,
          2006,
          2007,
          2008,
          2012,
          2014
         ],
         "xaxis": "x2",
         "y": [
          35683,
          40989,
          41205,
          49628,
          51959.1,
          52661,
          55297,
          51584
         ],
         "yaxis": "y2"
        },
        {
         "alignmentgroup": "True",
         "hovertemplate": "product=Beans (Lima)<br>season_name=Main<br>type=percent<br>year=%{x}<br>value=%{y}<extra></extra>",
         "legendgroup": "Beans (Lima)",
         "marker": {
          "color": "#19d3f3",
          "pattern": {
           "shape": ""
          }
         },
         "name": "Beans (Lima)",
         "offsetgroup": "Beans (Lima)",
         "orientation": "v",
         "showlegend": false,
         "textposition": "auto",
         "type": "bar",
         "x": [
          2002,
          2003,
          2005,
          2006,
          2007,
          2008,
          2012,
          2014
         ],
         "xaxis": "x",
         "y": [
          0.5964673619846567,
          0.48415044883607,
          0.5276207313094021,
          0.5711538125655549,
          0.4990561976849166,
          0.5033218595525903,
          3.0272472508311696,
          2.4630969968590546
         ],
         "yaxis": "y"
        },
        {
         "alignmentgroup": "True",
         "hovertemplate": "product=Beans (mixed)<br>season_name=Main<br>type=orig_unit<br>year=%{x}<br>value=%{y}<extra></extra>",
         "legendgroup": "Beans (mixed)",
         "marker": {
          "color": "#FF6692",
          "pattern": {
           "shape": ""
          }
         },
         "name": "Beans (mixed)",
         "offsetgroup": "Beans (mixed)",
         "orientation": "v",
         "showlegend": true,
         "textposition": "auto",
         "type": "bar",
         "x": [
          1999,
          2000,
          2001,
          2002,
          2003,
          2004,
          2005,
          2006,
          2007,
          2008,
          2009,
          2010,
          2011,
          2018
         ],
         "xaxis": "x2",
         "y": [
          200483,
          146437.41530269,
          149813.5627153,
          177355.05239997,
          179552.39165987002,
          192796.85314406,
          195640.94956868,
          219095.79764606,
          224596,
          240267,
          257381,
          263771,
          273035,
          482220
         ],
         "yaxis": "y2"
        },
        {
         "alignmentgroup": "True",
         "hovertemplate": "product=Beans (mixed)<br>season_name=Main<br>type=percent<br>year=%{x}<br>value=%{y}<extra></extra>",
         "legendgroup": "Beans (mixed)",
         "marker": {
          "color": "#FF6692",
          "pattern": {
           "shape": ""
          }
         },
         "name": "Beans (mixed)",
         "offsetgroup": "Beans (mixed)",
         "orientation": "v",
         "showlegend": false,
         "textposition": "auto",
         "type": "bar",
         "x": [
          1999,
          2000,
          2001,
          2002,
          2003,
          2004,
          2005,
          2006,
          2007,
          2008,
          2009,
          2010,
          2011,
          2018
         ],
         "xaxis": "x",
         "y": [
          6.354545898292018,
          2.123998148242367,
          1.8729284040616845,
          2.9646190129658567,
          2.1208219525169163,
          2.2673202534332564,
          2.5051382328720497,
          2.521508022540471,
          2.1571972142558575,
          2.2964173340635807,
          2.1620027436109743,
          2.0871246412310676,
          2.0809623819376717,
          2.6877556627107984
         ],
         "yaxis": "y"
        },
        {
         "alignmentgroup": "True",
         "hovertemplate": "product=Cowpeas<br>season_name=Main<br>type=orig_unit<br>year=%{x}<br>value=%{y}<extra></extra>",
         "legendgroup": "Cowpeas",
         "marker": {
          "color": "#B6E880",
          "pattern": {
           "shape": ""
          }
         },
         "name": "Cowpeas",
         "offsetgroup": "Cowpeas",
         "orientation": "v",
         "showlegend": true,
         "textposition": "auto",
         "type": "bar",
         "x": [
          2002,
          2003,
          2005,
          2006,
          2007,
          2008,
          2012,
          2014
         ],
         "xaxis": "x2",
         "y": [
          53723,
          63739,
          48805,
          71169,
          62188,
          62350,
          85484,
          103836
         ],
         "yaxis": "y2"
        },
        {
         "alignmentgroup": "True",
         "hovertemplate": "product=Cowpeas<br>season_name=Main<br>type=percent<br>year=%{x}<br>value=%{y}<extra></extra>",
         "legendgroup": "Cowpeas",
         "marker": {
          "color": "#B6E880",
          "pattern": {
           "shape": ""
          }
         },
         "name": "Cowpeas",
         "offsetgroup": "Cowpeas",
         "orientation": "v",
         "showlegend": false,
         "textposition": "auto",
         "type": "bar",
         "x": [
          2002,
          2003,
          2005,
          2006,
          2007,
          2008,
          2012,
          2014
         ],
         "xaxis": "x",
         "y": [
          0.8980191152061685,
          0.7528669998868541,
          0.6249370171473212,
          0.8190627405190211,
          0.5973026249806019,
          0.5959271176602041,
          4.679841654882755,
          4.958090488637112
         ],
         "yaxis": "y"
        },
        {
         "alignmentgroup": "True",
         "hovertemplate": "product=Green bean<br>season_name=Main<br>type=orig_unit<br>year=%{x}<br>value=%{y}<extra></extra>",
         "legendgroup": "Green bean",
         "marker": {
          "color": "#FF97FF",
          "pattern": {
           "shape": ""
          }
         },
         "name": "Green bean",
         "offsetgroup": "Green bean",
         "orientation": "v",
         "showlegend": true,
         "textposition": "auto",
         "type": "bar",
         "x": [
          2002,
          2003,
          2005,
          2006,
          2007,
          2008
         ],
         "xaxis": "x2",
         "y": [
          89400,
          101900,
          95700,
          124300,
          146300,
          129200
         ],
         "yaxis": "y2"
        },
        {
         "alignmentgroup": "True",
         "hovertemplate": "product=Green bean<br>season_name=Main<br>type=percent<br>year=%{x}<br>value=%{y}<extra></extra>",
         "legendgroup": "Green bean",
         "marker": {
          "color": "#FF97FF",
          "pattern": {
           "shape": ""
          }
         },
         "name": "Green bean",
         "offsetgroup": "Green bean",
         "orientation": "v",
         "showlegend": false,
         "textposition": "auto",
         "type": "bar",
         "x": [
          2002,
          2003,
          2005,
          2006,
          2007,
          2008
         ],
         "xaxis": "x",
         "y": [
          1.4943861828161396,
          1.203613914376919,
          1.225416915090639,
          1.4305315326408172,
          1.4051806463411278,
          1.2348642117353388
         ],
         "yaxis": "y"
        },
        {
         "alignmentgroup": "True",
         "hovertemplate": "product=Groundnuts (In Shell)<br>season_name=Main<br>type=orig_unit<br>year=%{x}<br>value=%{y}<extra></extra>",
         "legendgroup": "Groundnuts (In Shell)",
         "marker": {
          "color": "#FECB52",
          "pattern": {
           "shape": ""
          }
         },
         "name": "Groundnuts (In Shell)",
         "offsetgroup": "Groundnuts (In Shell)",
         "orientation": "v",
         "showlegend": true,
         "textposition": "auto",
         "type": "bar",
         "x": [
          1999,
          2000,
          2001,
          2002,
          2003,
          2004,
          2005,
          2006,
          2007,
          2008,
          2009,
          2010,
          2011,
          2018
         ],
         "xaxis": "x2",
         "y": [
          90777,
          114516.77863185,
          111192.58629488,
          109786.05059886,
          109915.15365372,
          132062.85662007,
          126216.90635432,
          145583.94383006002,
          141461.67915873,
          143510,
          152251,
          157685,
          165372,
          343240
         ],
         "yaxis": "y2"
        },
        {
         "alignmentgroup": "True",
         "hovertemplate": "product=Groundnuts (In Shell)<br>season_name=Main<br>type=percent<br>year=%{x}<br>value=%{y}<extra></extra>",
         "legendgroup": "Groundnuts (In Shell)",
         "marker": {
          "color": "#FECB52",
          "pattern": {
           "shape": ""
          }
         },
         "name": "Groundnuts (In Shell)",
         "offsetgroup": "Groundnuts (In Shell)",
         "orientation": "v",
         "showlegend": false,
         "textposition": "auto",
         "type": "bar",
         "x": [
          1999,
          2000,
          2001,
          2002,
          2003,
          2004,
          2005,
          2006,
          2007,
          2008,
          2009,
          2010,
          2011,
          2018
         ],
         "xaxis": "x",
         "y": [
          2.8772844231643315,
          1.6610060021474742,
          1.3900994637482993,
          1.8351538823365765,
          1.2982866372766872,
          1.5530792368130633,
          1.6161790179414306,
          1.6754820779976702,
          1.3587095950291557,
          1.3716359367348179,
          1.2789097863382084,
          1.247704444584586,
          1.2603985240932358,
          1.9131210934197138
         ],
         "yaxis": "y"
        },
        {
         "alignmentgroup": "True",
         "hovertemplate": "product=Groundnuts (In Shell, Large)<br>season_name=Main<br>type=orig_unit<br>year=%{x}<br>value=%{y}<extra></extra>",
         "legendgroup": "Groundnuts (In Shell, Large)",
         "marker": {
          "color": "#636efa",
          "pattern": {
           "shape": ""
          }
         },
         "name": "Groundnuts (In Shell, Large)",
         "offsetgroup": "Groundnuts (In Shell, Large)",
         "orientation": "v",
         "showlegend": true,
         "textposition": "auto",
         "type": "bar",
         "x": [
          2002,
          2003,
          2005,
          2006
         ],
         "xaxis": "x2",
         "y": [
          37679,
          87015,
          27372,
          24675
         ],
         "yaxis": "y2"
        },
        {
         "alignmentgroup": "True",
         "hovertemplate": "product=Groundnuts (In Shell, Large)<br>season_name=Main<br>type=percent<br>year=%{x}<br>value=%{y}<extra></extra>",
         "legendgroup": "Groundnuts (In Shell, Large)",
         "marker": {
          "color": "#636efa",
          "pattern": {
           "shape": ""
          }
         },
         "name": "Groundnuts (In Shell, Large)",
         "offsetgroup": "Groundnuts (In Shell, Large)",
         "orientation": "v",
         "showlegend": false,
         "textposition": "auto",
         "type": "bar",
         "x": [
          2002,
          2003,
          2005,
          2006
         ],
         "xaxis": "x",
         "y": [
          0.6298319572967486,
          1.027796513832263,
          0.350492286309937,
          0.2839771968456329
         ],
         "yaxis": "y"
        },
        {
         "alignmentgroup": "True",
         "hovertemplate": "product=Groundnuts (In Shell, Small)<br>season_name=Main<br>type=orig_unit<br>year=%{x}<br>value=%{y}<extra></extra>",
         "legendgroup": "Groundnuts (In Shell, Small)",
         "marker": {
          "color": "#EF553B",
          "pattern": {
           "shape": ""
          }
         },
         "name": "Groundnuts (In Shell, Small)",
         "offsetgroup": "Groundnuts (In Shell, Small)",
         "orientation": "v",
         "showlegend": true,
         "textposition": "auto",
         "type": "bar",
         "x": [
          2002,
          2005,
          2006
         ],
         "xaxis": "x2",
         "y": [
          63309,
          57254,
          58898
         ],
         "yaxis": "y2"
        },
        {
         "alignmentgroup": "True",
         "hovertemplate": "product=Groundnuts (In Shell, Small)<br>season_name=Main<br>type=percent<br>year=%{x}<br>value=%{y}<extra></extra>",
         "legendgroup": "Groundnuts (In Shell, Small)",
         "marker": {
          "color": "#EF553B",
          "pattern": {
           "shape": ""
          }
         },
         "name": "Groundnuts (In Shell, Small)",
         "offsetgroup": "Groundnuts (In Shell, Small)",
         "orientation": "v",
         "showlegend": false,
         "textposition": "auto",
         "type": "bar",
         "x": [
          2002,
          2005,
          2006
         ],
         "xaxis": "x",
         "y": [
          1.0582560944956039,
          0.7331245564952921,
          0.6778394707118169
         ],
         "yaxis": "y"
        },
        {
         "alignmentgroup": "True",
         "hovertemplate": "product=Millet<br>season_name=Main<br>type=orig_unit<br>year=%{x}<br>value=%{y}<extra></extra>",
         "legendgroup": "Millet",
         "marker": {
          "color": "#00cc96",
          "pattern": {
           "shape": ""
          }
         },
         "name": "Millet",
         "offsetgroup": "Millet",
         "orientation": "v",
         "showlegend": true,
         "textposition": "auto",
         "type": "bar",
         "x": [
          2002,
          2003,
          2005,
          2006,
          2007,
          2008,
          2012,
          2014,
          2018
         ],
         "xaxis": "x2",
         "y": [
          12183,
          21609,
          15285,
          22363,
          24815,
          12167.1,
          21944,
          29332,
          37160
         ],
         "yaxis": "y2"
        },
        {
         "alignmentgroup": "True",
         "hovertemplate": "product=Millet<br>season_name=Main<br>type=percent<br>year=%{x}<br>value=%{y}<extra></extra>",
         "legendgroup": "Millet",
         "marker": {
          "color": "#00cc96",
          "pattern": {
           "shape": ""
          }
         },
         "name": "Millet",
         "offsetgroup": "Millet",
         "orientation": "v",
         "showlegend": false,
         "textposition": "auto",
         "type": "bar",
         "x": [
          2002,
          2003,
          2005,
          2006,
          2007,
          2008,
          2012,
          2014,
          2018
         ],
         "xaxis": "x",
         "y": [
          0.20364772779920612,
          0.255239382490391,
          0.1957209775042886,
          0.25736908016449395,
          0.23834284168800468,
          0.11629037423068916,
          1.2013294332828035,
          1.4005808218026867,
          0.20711915811524464
         ],
         "yaxis": "y"
        },
        {
         "alignmentgroup": "True",
         "hovertemplate": "product=Pigeon Peas<br>season_name=Main<br>type=orig_unit<br>year=%{x}<br>value=%{y}<extra></extra>",
         "legendgroup": "Pigeon Peas",
         "marker": {
          "color": "#ab63fa",
          "pattern": {
           "shape": ""
          }
         },
         "name": "Pigeon Peas",
         "offsetgroup": "Pigeon Peas",
         "orientation": "v",
         "showlegend": true,
         "textposition": "auto",
         "type": "bar",
         "x": [
          2002,
          2003,
          2005,
          2006,
          2007,
          2008,
          2012,
          2014
         ],
         "xaxis": "x2",
         "y": [
          31774,
          42588,
          36427,
          62272,
          71493,
          64091,
          113453,
          110579
         ],
         "yaxis": "y2"
        },
        {
         "alignmentgroup": "True",
         "hovertemplate": "product=Pigeon Peas<br>season_name=Main<br>type=percent<br>year=%{x}<br>value=%{y}<extra></extra>",
         "legendgroup": "Pigeon Peas",
         "marker": {
          "color": "#ab63fa",
          "pattern": {
           "shape": ""
          }
         },
         "name": "Pigeon Peas",
         "offsetgroup": "Pigeon Peas",
         "orientation": "v",
         "showlegend": false,
         "textposition": "auto",
         "type": "bar",
         "x": [
          2002,
          2003,
          2005,
          2006,
          2007,
          2008,
          2012,
          2014
         ],
         "xaxis": "x",
         "y": [
          0.5311255768769576,
          0.503037383567068,
          0.46643951897603664,
          0.7166698278407801,
          0.6866751876204119,
          0.6125671996465138,
          6.211011128063886,
          5.280063640192258
         ],
         "yaxis": "y"
        },
        {
         "alignmentgroup": "True",
         "hovertemplate": "product=Rice<br>season_name=Main<br>type=orig_unit<br>year=%{x}<br>value=%{y}<extra></extra>",
         "legendgroup": "Rice",
         "marker": {
          "color": "#FFA15A",
          "pattern": {
           "shape": ""
          }
         },
         "name": "Rice",
         "offsetgroup": "Rice",
         "orientation": "v",
         "showlegend": true,
         "textposition": "auto",
         "type": "bar",
         "x": [
          1999,
          2002,
          2003,
          2005,
          2006,
          2007,
          2008,
          2012,
          2014,
          2018
         ],
         "xaxis": "x2",
         "y": [
          236130,
          93362,
          117491,
          64634,
          97610,
          103007,
          88177,
          101551,
          155743,
          340803
         ],
         "yaxis": "y2"
        },
        {
         "alignmentgroup": "True",
         "hovertemplate": "product=Rice<br>season_name=Main<br>type=percent<br>year=%{x}<br>value=%{y}<extra></extra>",
         "legendgroup": "Rice",
         "marker": {
          "color": "#FFA15A",
          "pattern": {
           "shape": ""
          }
         },
         "name": "Rice",
         "offsetgroup": "Rice",
         "orientation": "v",
         "showlegend": false,
         "textposition": "auto",
         "type": "bar",
         "x": [
          1999,
          2002,
          2003,
          2005,
          2006,
          2007,
          2008,
          2012,
          2014,
          2018
         ],
         "xaxis": "x",
         "y": [
          7.484419741143611,
          1.560613901566895,
          1.3877703867915463,
          0.8276237919536924,
          1.123364303307081,
          0.9893605115356154,
          0.8427757089642953,
          5.55943334302324,
          7.43661049127287,
          1.8995379559512842
         ],
         "yaxis": "y"
        },
        {
         "alignmentgroup": "True",
         "hovertemplate": "product=Sesame Seed<br>season_name=Main<br>type=orig_unit<br>year=%{x}<br>value=%{y}<extra></extra>",
         "legendgroup": "Sesame Seed",
         "marker": {
          "color": "#19d3f3",
          "pattern": {
           "shape": ""
          }
         },
         "name": "Sesame Seed",
         "offsetgroup": "Sesame Seed",
         "orientation": "v",
         "showlegend": true,
         "textposition": "auto",
         "type": "bar",
         "x": [
          2002,
          2003,
          2005,
          2006,
          2007,
          2008
         ],
         "xaxis": "x2",
         "y": [
          4232,
          8556,
          15119,
          18355,
          17605,
          34601
         ],
         "yaxis": "y2"
        },
        {
         "alignmentgroup": "True",
         "hovertemplate": "product=Sesame Seed<br>season_name=Main<br>type=percent<br>year=%{x}<br>value=%{y}<extra></extra>",
         "legendgroup": "Sesame Seed",
         "marker": {
          "color": "#19d3f3",
          "pattern": {
           "shape": ""
          }
         },
         "name": "Sesame Seed",
         "offsetgroup": "Sesame Seed",
         "orientation": "v",
         "showlegend": false,
         "textposition": "auto",
         "type": "bar",
         "x": [
          2002,
          2003,
          2005,
          2006,
          2007,
          2008
         ],
         "xaxis": "x",
         "y": [
          0.07074096561160964,
          0.10106104662815425,
          0.1935953849451972,
          0.21124220660999354,
          0.169092312227174,
          0.33070848754066917
         ],
         "yaxis": "y"
        },
        {
         "alignmentgroup": "True",
         "hovertemplate": "product=Spanish peanut<br>season_name=Main<br>type=orig_unit<br>year=%{x}<br>value=%{y}<extra></extra>",
         "legendgroup": "Spanish peanut",
         "marker": {
          "color": "#FF6692",
          "pattern": {
           "shape": ""
          }
         },
         "name": "Spanish peanut",
         "offsetgroup": "Spanish peanut",
         "orientation": "v",
         "showlegend": true,
         "textposition": "auto",
         "type": "bar",
         "x": [
          2002,
          2005,
          2006,
          2007,
          2008,
          2012,
          2014
         ],
         "xaxis": "x2",
         "y": [
          64359,
          58264,
          59895,
          70093,
          71168,
          88156,
          102133
         ],
         "yaxis": "y2"
        },
        {
         "alignmentgroup": "True",
         "hovertemplate": "product=Spanish peanut<br>season_name=Main<br>type=percent<br>year=%{x}<br>value=%{y}<extra></extra>",
         "legendgroup": "Spanish peanut",
         "marker": {
          "color": "#FF6692",
          "pattern": {
           "shape": ""
          }
         },
         "name": "Spanish peanut",
         "offsetgroup": "Spanish peanut",
         "orientation": "v",
         "showlegend": false,
         "textposition": "auto",
         "type": "bar",
         "x": [
          2002,
          2005,
          2006,
          2007,
          2008,
          2012,
          2014
         ],
         "xaxis": "x",
         "y": [
          1.075807610065592,
          0.7460573786921734,
          0.6893136455955088,
          0.673228482870736,
          0.6802075558883947,
          4.826120922369615,
          4.8767735262912115
         ],
         "yaxis": "y"
        },
        {
         "alignmentgroup": "True",
         "hovertemplate": "product=Sugarcane<br>season_name=Main<br>type=orig_unit<br>year=%{x}<br>value=%{y}<extra></extra>",
         "legendgroup": "Sugarcane",
         "marker": {
          "color": "#B6E880",
          "pattern": {
           "shape": ""
          }
         },
         "name": "Sugarcane",
         "offsetgroup": "Sugarcane",
         "orientation": "v",
         "showlegend": true,
         "textposition": "auto",
         "type": "bar",
         "x": [
          1999
         ],
         "xaxis": "x2",
         "y": [
          114156
         ],
         "yaxis": "y2"
        },
        {
         "alignmentgroup": "True",
         "hovertemplate": "product=Sugarcane<br>season_name=Main<br>type=percent<br>year=%{x}<br>value=%{y}<extra></extra>",
         "legendgroup": "Sugarcane",
         "marker": {
          "color": "#B6E880",
          "pattern": {
           "shape": ""
          }
         },
         "name": "Sugarcane",
         "offsetgroup": "Sugarcane",
         "orientation": "v",
         "showlegend": false,
         "textposition": "auto",
         "type": "bar",
         "x": [
          1999
         ],
         "xaxis": "x",
         "y": [
          3.6183094904077837
         ],
         "yaxis": "y"
        },
        {
         "alignmentgroup": "True",
         "hovertemplate": "product=Sunflower Seed<br>season_name=Main<br>type=orig_unit<br>year=%{x}<br>value=%{y}<extra></extra>",
         "legendgroup": "Sunflower Seed",
         "marker": {
          "color": "#FF97FF",
          "pattern": {
           "shape": ""
          }
         },
         "name": "Sunflower Seed",
         "offsetgroup": "Sunflower Seed",
         "orientation": "v",
         "showlegend": true,
         "textposition": "auto",
         "type": "bar",
         "x": [
          2002,
          2003,
          2005,
          2006,
          2007,
          2008
         ],
         "xaxis": "x2",
         "y": [
          3357.9,
          3929,
          1061,
          2138,
          5957,
          3279
         ],
         "yaxis": "y2"
        },
        {
         "alignmentgroup": "True",
         "hovertemplate": "product=Sunflower Seed<br>season_name=Main<br>type=percent<br>year=%{x}<br>value=%{y}<extra></extra>",
         "legendgroup": "Sunflower Seed",
         "marker": {
          "color": "#FF97FF",
          "pattern": {
           "shape": ""
          }
         },
         "name": "Sunflower Seed",
         "offsetgroup": "Sunflower Seed",
         "orientation": "v",
         "showlegend": false,
         "textposition": "auto",
         "type": "bar",
         "x": [
          2002,
          2003,
          2005,
          2006,
          2007,
          2008
         ],
         "xaxis": "x",
         "y": [
          0.056129746792822316,
          0.04640823424521015,
          0.013585865693951598,
          0.02460560270946152,
          0.0572157287098708,
          0.031339936147679374
         ],
         "yaxis": "y"
        },
        {
         "alignmentgroup": "True",
         "hovertemplate": "product=Sweet Potatoes (Non-Orange)<br>season_name=Main<br>type=orig_unit<br>year=%{x}<br>value=%{y}<extra></extra>",
         "legendgroup": "Sweet Potatoes (Non-Orange)",
         "marker": {
          "color": "#FECB52",
          "pattern": {
           "shape": ""
          }
         },
         "name": "Sweet Potatoes (Non-Orange)",
         "offsetgroup": "Sweet Potatoes (Non-Orange)",
         "orientation": "v",
         "showlegend": true,
         "textposition": "auto",
         "type": "bar",
         "x": [
          2005,
          2006,
          2007,
          2008
         ],
         "xaxis": "x2",
         "y": [
          322265.586,
          577006.294,
          577500.565,
          458450.7343
         ],
         "yaxis": "y2"
        },
        {
         "alignmentgroup": "True",
         "hovertemplate": "product=Sweet Potatoes (Non-Orange)<br>season_name=Main<br>type=percent<br>year=%{x}<br>value=%{y}<extra></extra>",
         "legendgroup": "Sweet Potatoes (Non-Orange)",
         "marker": {
          "color": "#FECB52",
          "pattern": {
           "shape": ""
          }
         },
         "name": "Sweet Potatoes (Non-Orange)",
         "offsetgroup": "Sweet Potatoes (Non-Orange)",
         "orientation": "v",
         "showlegend": false,
         "textposition": "auto",
         "type": "bar",
         "x": [
          2005,
          2006,
          2007,
          2008
         ],
         "xaxis": "x",
         "y": [
          4.126538142486908,
          6.640592905062091,
          5.546771135947139,
          4.38176783770013
         ],
         "yaxis": "y"
        },
        {
         "alignmentgroup": "True",
         "hovertemplate": "product=Sweet Potatoes (Orange)<br>season_name=Main<br>type=orig_unit<br>year=%{x}<br>value=%{y}<extra></extra>",
         "legendgroup": "Sweet Potatoes (Orange)",
         "marker": {
          "color": "#636efa",
          "pattern": {
           "shape": ""
          }
         },
         "name": "Sweet Potatoes (Orange)",
         "offsetgroup": "Sweet Potatoes (Orange)",
         "orientation": "v",
         "showlegend": true,
         "textposition": "auto",
         "type": "bar",
         "x": [
          2002,
          2005,
          2006,
          2007,
          2008
         ],
         "xaxis": "x2",
         "y": [
          456337,
          28580.6,
          64221.6,
          77089.4,
          102351
         ],
         "yaxis": "y2"
        },
        {
         "alignmentgroup": "True",
         "hovertemplate": "product=Sweet Potatoes (Orange)<br>season_name=Main<br>type=percent<br>year=%{x}<br>value=%{y}<extra></extra>",
         "legendgroup": "Sweet Potatoes (Orange)",
         "marker": {
          "color": "#636efa",
          "pattern": {
           "shape": ""
          }
         },
         "name": "Sweet Potatoes (Orange)",
         "offsetgroup": "Sweet Potatoes (Orange)",
         "orientation": "v",
         "showlegend": false,
         "textposition": "auto",
         "type": "bar",
         "x": [
          2002,
          2005,
          2006,
          2007,
          2008
         ],
         "xaxis": "x",
         "y": [
          7.6280056768206785,
          0.3659681367130566,
          0.7391071912843563,
          0.7404274293783304,
          0.9782475768987898
         ],
         "yaxis": "y"
        },
        {
         "alignmentgroup": "True",
         "hovertemplate": "product=Virginia peanut<br>season_name=Main<br>type=orig_unit<br>year=%{x}<br>value=%{y}<extra></extra>",
         "legendgroup": "Virginia peanut",
         "marker": {
          "color": "#EF553B",
          "pattern": {
           "shape": ""
          }
         },
         "name": "Virginia peanut",
         "offsetgroup": "Virginia peanut",
         "orientation": "v",
         "showlegend": true,
         "textposition": "auto",
         "type": "bar",
         "x": [
          2002,
          2003,
          2005,
          2006,
          2007,
          2008,
          2012,
          2013,
          2014
         ],
         "xaxis": "x2",
         "y": [
          37715,
          87464,
          27410,
          24726,
          31220,
          31028,
          24756,
          33210,
          4782
         ],
         "yaxis": "y2"
        },
        {
         "alignmentgroup": "True",
         "hovertemplate": "product=Virginia peanut<br>season_name=Main<br>type=percent<br>year=%{x}<br>value=%{y}<extra></extra>",
         "legendgroup": "Virginia peanut",
         "marker": {
          "color": "#EF553B",
          "pattern": {
           "shape": ""
          }
         },
         "name": "Virginia peanut",
         "offsetgroup": "Virginia peanut",
         "orientation": "v",
         "showlegend": false,
         "textposition": "auto",
         "type": "bar",
         "x": [
          2002,
          2003,
          2005,
          2006,
          2007,
          2008,
          2012,
          2013,
          2014
         ],
         "xaxis": "x",
         "y": [
          0.6304337235448624,
          1.0330999745541005,
          0.3509788677391266,
          0.2845641405959521,
          0.29986151591777177,
          0.29655856626721433,
          1.3552730336469687,
          100,
          0.22833688428543736
         ],
         "yaxis": "y"
        },
        {
         "alignmentgroup": "True",
         "hovertemplate": "product=Wheat<br>season_name=Main<br>type=orig_unit<br>year=%{x}<br>value=%{y}<extra></extra>",
         "legendgroup": "Wheat",
         "marker": {
          "color": "#00cc96",
          "pattern": {
           "shape": ""
          }
         },
         "name": "Wheat",
         "offsetgroup": "Wheat",
         "orientation": "v",
         "showlegend": true,
         "textposition": "auto",
         "type": "bar",
         "x": [
          2018
         ],
         "xaxis": "x2",
         "y": [
          10580
         ],
         "yaxis": "y2"
        },
        {
         "alignmentgroup": "True",
         "hovertemplate": "product=Wheat<br>season_name=Main<br>type=percent<br>year=%{x}<br>value=%{y}<extra></extra>",
         "legendgroup": "Wheat",
         "marker": {
          "color": "#00cc96",
          "pattern": {
           "shape": ""
          }
         },
         "name": "Wheat",
         "offsetgroup": "Wheat",
         "orientation": "v",
         "showlegend": false,
         "textposition": "auto",
         "type": "bar",
         "x": [
          2018
         ],
         "xaxis": "x",
         "y": [
          0.058969878709883974
         ],
         "yaxis": "y"
        }
       ],
       "layout": {
        "annotations": [
         {
          "showarrow": false,
          "text": "",
          "textangle": 90,
          "x": 0.98,
          "xanchor": "left",
          "xref": "paper",
          "y": 0.2375,
          "yanchor": "middle",
          "yref": "paper"
         },
         {
          "showarrow": false,
          "text": "",
          "textangle": 90,
          "x": 0.98,
          "xanchor": "left",
          "xref": "paper",
          "y": 0.7625,
          "yanchor": "middle",
          "yref": "paper"
         },
         {
          "align": "left",
          "font": {
           "color": "dimgrey",
           "family": "arial",
           "size": 15
          },
          "showarrow": false,
          "text": "National crop production in Mozambique - Main",
          "x": 0,
          "xref": "paper",
          "y": -0.13,
          "yref": "paper"
         }
        ],
        "barmode": "relative",
        "font": {
         "color": "black",
         "family": "arial",
         "size": 15
        },
        "height": 600,
        "legend": {
         "title": {
          "text": "Product"
         },
         "tracegroupgap": 0,
         "x": 1,
         "y": 1.01
        },
        "margin": {
         "b": 0,
         "l": 0,
         "r": 0,
         "t": 0
        },
        "template": {
         "data": {
          "bar": [
           {
            "error_x": {
             "color": "#2a3f5f"
            },
            "error_y": {
             "color": "#2a3f5f"
            },
            "marker": {
             "line": {
              "color": "#E5ECF6",
              "width": 0.5
             },
             "pattern": {
              "fillmode": "overlay",
              "size": 10,
              "solidity": 0.2
             }
            },
            "type": "bar"
           }
          ],
          "barpolar": [
           {
            "marker": {
             "line": {
              "color": "#E5ECF6",
              "width": 0.5
             },
             "pattern": {
              "fillmode": "overlay",
              "size": 10,
              "solidity": 0.2
             }
            },
            "type": "barpolar"
           }
          ],
          "carpet": [
           {
            "aaxis": {
             "endlinecolor": "#2a3f5f",
             "gridcolor": "white",
             "linecolor": "white",
             "minorgridcolor": "white",
             "startlinecolor": "#2a3f5f"
            },
            "baxis": {
             "endlinecolor": "#2a3f5f",
             "gridcolor": "white",
             "linecolor": "white",
             "minorgridcolor": "white",
             "startlinecolor": "#2a3f5f"
            },
            "type": "carpet"
           }
          ],
          "choropleth": [
           {
            "colorbar": {
             "outlinewidth": 0,
             "ticks": ""
            },
            "type": "choropleth"
           }
          ],
          "contour": [
           {
            "colorbar": {
             "outlinewidth": 0,
             "ticks": ""
            },
            "colorscale": [
             [
              0,
              "#0d0887"
             ],
             [
              0.1111111111111111,
              "#46039f"
             ],
             [
              0.2222222222222222,
              "#7201a8"
             ],
             [
              0.3333333333333333,
              "#9c179e"
             ],
             [
              0.4444444444444444,
              "#bd3786"
             ],
             [
              0.5555555555555556,
              "#d8576b"
             ],
             [
              0.6666666666666666,
              "#ed7953"
             ],
             [
              0.7777777777777778,
              "#fb9f3a"
             ],
             [
              0.8888888888888888,
              "#fdca26"
             ],
             [
              1,
              "#f0f921"
             ]
            ],
            "type": "contour"
           }
          ],
          "contourcarpet": [
           {
            "colorbar": {
             "outlinewidth": 0,
             "ticks": ""
            },
            "type": "contourcarpet"
           }
          ],
          "heatmap": [
           {
            "colorbar": {
             "outlinewidth": 0,
             "ticks": ""
            },
            "colorscale": [
             [
              0,
              "#0d0887"
             ],
             [
              0.1111111111111111,
              "#46039f"
             ],
             [
              0.2222222222222222,
              "#7201a8"
             ],
             [
              0.3333333333333333,
              "#9c179e"
             ],
             [
              0.4444444444444444,
              "#bd3786"
             ],
             [
              0.5555555555555556,
              "#d8576b"
             ],
             [
              0.6666666666666666,
              "#ed7953"
             ],
             [
              0.7777777777777778,
              "#fb9f3a"
             ],
             [
              0.8888888888888888,
              "#fdca26"
             ],
             [
              1,
              "#f0f921"
             ]
            ],
            "type": "heatmap"
           }
          ],
          "heatmapgl": [
           {
            "colorbar": {
             "outlinewidth": 0,
             "ticks": ""
            },
            "colorscale": [
             [
              0,
              "#0d0887"
             ],
             [
              0.1111111111111111,
              "#46039f"
             ],
             [
              0.2222222222222222,
              "#7201a8"
             ],
             [
              0.3333333333333333,
              "#9c179e"
             ],
             [
              0.4444444444444444,
              "#bd3786"
             ],
             [
              0.5555555555555556,
              "#d8576b"
             ],
             [
              0.6666666666666666,
              "#ed7953"
             ],
             [
              0.7777777777777778,
              "#fb9f3a"
             ],
             [
              0.8888888888888888,
              "#fdca26"
             ],
             [
              1,
              "#f0f921"
             ]
            ],
            "type": "heatmapgl"
           }
          ],
          "histogram": [
           {
            "marker": {
             "pattern": {
              "fillmode": "overlay",
              "size": 10,
              "solidity": 0.2
             }
            },
            "type": "histogram"
           }
          ],
          "histogram2d": [
           {
            "colorbar": {
             "outlinewidth": 0,
             "ticks": ""
            },
            "colorscale": [
             [
              0,
              "#0d0887"
             ],
             [
              0.1111111111111111,
              "#46039f"
             ],
             [
              0.2222222222222222,
              "#7201a8"
             ],
             [
              0.3333333333333333,
              "#9c179e"
             ],
             [
              0.4444444444444444,
              "#bd3786"
             ],
             [
              0.5555555555555556,
              "#d8576b"
             ],
             [
              0.6666666666666666,
              "#ed7953"
             ],
             [
              0.7777777777777778,
              "#fb9f3a"
             ],
             [
              0.8888888888888888,
              "#fdca26"
             ],
             [
              1,
              "#f0f921"
             ]
            ],
            "type": "histogram2d"
           }
          ],
          "histogram2dcontour": [
           {
            "colorbar": {
             "outlinewidth": 0,
             "ticks": ""
            },
            "colorscale": [
             [
              0,
              "#0d0887"
             ],
             [
              0.1111111111111111,
              "#46039f"
             ],
             [
              0.2222222222222222,
              "#7201a8"
             ],
             [
              0.3333333333333333,
              "#9c179e"
             ],
             [
              0.4444444444444444,
              "#bd3786"
             ],
             [
              0.5555555555555556,
              "#d8576b"
             ],
             [
              0.6666666666666666,
              "#ed7953"
             ],
             [
              0.7777777777777778,
              "#fb9f3a"
             ],
             [
              0.8888888888888888,
              "#fdca26"
             ],
             [
              1,
              "#f0f921"
             ]
            ],
            "type": "histogram2dcontour"
           }
          ],
          "mesh3d": [
           {
            "colorbar": {
             "outlinewidth": 0,
             "ticks": ""
            },
            "type": "mesh3d"
           }
          ],
          "parcoords": [
           {
            "line": {
             "colorbar": {
              "outlinewidth": 0,
              "ticks": ""
             }
            },
            "type": "parcoords"
           }
          ],
          "pie": [
           {
            "automargin": true,
            "type": "pie"
           }
          ],
          "scatter": [
           {
            "fillpattern": {
             "fillmode": "overlay",
             "size": 10,
             "solidity": 0.2
            },
            "type": "scatter"
           }
          ],
          "scatter3d": [
           {
            "line": {
             "colorbar": {
              "outlinewidth": 0,
              "ticks": ""
             }
            },
            "marker": {
             "colorbar": {
              "outlinewidth": 0,
              "ticks": ""
             }
            },
            "type": "scatter3d"
           }
          ],
          "scattercarpet": [
           {
            "marker": {
             "colorbar": {
              "outlinewidth": 0,
              "ticks": ""
             }
            },
            "type": "scattercarpet"
           }
          ],
          "scattergeo": [
           {
            "marker": {
             "colorbar": {
              "outlinewidth": 0,
              "ticks": ""
             }
            },
            "type": "scattergeo"
           }
          ],
          "scattergl": [
           {
            "marker": {
             "colorbar": {
              "outlinewidth": 0,
              "ticks": ""
             }
            },
            "type": "scattergl"
           }
          ],
          "scattermapbox": [
           {
            "marker": {
             "colorbar": {
              "outlinewidth": 0,
              "ticks": ""
             }
            },
            "type": "scattermapbox"
           }
          ],
          "scatterpolar": [
           {
            "marker": {
             "colorbar": {
              "outlinewidth": 0,
              "ticks": ""
             }
            },
            "type": "scatterpolar"
           }
          ],
          "scatterpolargl": [
           {
            "marker": {
             "colorbar": {
              "outlinewidth": 0,
              "ticks": ""
             }
            },
            "type": "scatterpolargl"
           }
          ],
          "scatterternary": [
           {
            "marker": {
             "colorbar": {
              "outlinewidth": 0,
              "ticks": ""
             }
            },
            "type": "scatterternary"
           }
          ],
          "surface": [
           {
            "colorbar": {
             "outlinewidth": 0,
             "ticks": ""
            },
            "colorscale": [
             [
              0,
              "#0d0887"
             ],
             [
              0.1111111111111111,
              "#46039f"
             ],
             [
              0.2222222222222222,
              "#7201a8"
             ],
             [
              0.3333333333333333,
              "#9c179e"
             ],
             [
              0.4444444444444444,
              "#bd3786"
             ],
             [
              0.5555555555555556,
              "#d8576b"
             ],
             [
              0.6666666666666666,
              "#ed7953"
             ],
             [
              0.7777777777777778,
              "#fb9f3a"
             ],
             [
              0.8888888888888888,
              "#fdca26"
             ],
             [
              1,
              "#f0f921"
             ]
            ],
            "type": "surface"
           }
          ],
          "table": [
           {
            "cells": {
             "fill": {
              "color": "#EBF0F8"
             },
             "line": {
              "color": "white"
             }
            },
            "header": {
             "fill": {
              "color": "#C8D4E3"
             },
             "line": {
              "color": "white"
             }
            },
            "type": "table"
           }
          ]
         },
         "layout": {
          "annotationdefaults": {
           "arrowcolor": "#2a3f5f",
           "arrowhead": 0,
           "arrowwidth": 1
          },
          "autotypenumbers": "strict",
          "coloraxis": {
           "colorbar": {
            "outlinewidth": 0,
            "ticks": ""
           }
          },
          "colorscale": {
           "diverging": [
            [
             0,
             "#8e0152"
            ],
            [
             0.1,
             "#c51b7d"
            ],
            [
             0.2,
             "#de77ae"
            ],
            [
             0.3,
             "#f1b6da"
            ],
            [
             0.4,
             "#fde0ef"
            ],
            [
             0.5,
             "#f7f7f7"
            ],
            [
             0.6,
             "#e6f5d0"
            ],
            [
             0.7,
             "#b8e186"
            ],
            [
             0.8,
             "#7fbc41"
            ],
            [
             0.9,
             "#4d9221"
            ],
            [
             1,
             "#276419"
            ]
           ],
           "sequential": [
            [
             0,
             "#0d0887"
            ],
            [
             0.1111111111111111,
             "#46039f"
            ],
            [
             0.2222222222222222,
             "#7201a8"
            ],
            [
             0.3333333333333333,
             "#9c179e"
            ],
            [
             0.4444444444444444,
             "#bd3786"
            ],
            [
             0.5555555555555556,
             "#d8576b"
            ],
            [
             0.6666666666666666,
             "#ed7953"
            ],
            [
             0.7777777777777778,
             "#fb9f3a"
            ],
            [
             0.8888888888888888,
             "#fdca26"
            ],
            [
             1,
             "#f0f921"
            ]
           ],
           "sequentialminus": [
            [
             0,
             "#0d0887"
            ],
            [
             0.1111111111111111,
             "#46039f"
            ],
            [
             0.2222222222222222,
             "#7201a8"
            ],
            [
             0.3333333333333333,
             "#9c179e"
            ],
            [
             0.4444444444444444,
             "#bd3786"
            ],
            [
             0.5555555555555556,
             "#d8576b"
            ],
            [
             0.6666666666666666,
             "#ed7953"
            ],
            [
             0.7777777777777778,
             "#fb9f3a"
            ],
            [
             0.8888888888888888,
             "#fdca26"
            ],
            [
             1,
             "#f0f921"
            ]
           ]
          },
          "colorway": [
           "#636efa",
           "#EF553B",
           "#00cc96",
           "#ab63fa",
           "#FFA15A",
           "#19d3f3",
           "#FF6692",
           "#B6E880",
           "#FF97FF",
           "#FECB52"
          ],
          "font": {
           "color": "#2a3f5f"
          },
          "geo": {
           "bgcolor": "white",
           "lakecolor": "white",
           "landcolor": "#E5ECF6",
           "showlakes": true,
           "showland": true,
           "subunitcolor": "white"
          },
          "hoverlabel": {
           "align": "left"
          },
          "hovermode": "closest",
          "mapbox": {
           "style": "light"
          },
          "paper_bgcolor": "white",
          "plot_bgcolor": "#E5ECF6",
          "polar": {
           "angularaxis": {
            "gridcolor": "white",
            "linecolor": "white",
            "ticks": ""
           },
           "bgcolor": "#E5ECF6",
           "radialaxis": {
            "gridcolor": "white",
            "linecolor": "white",
            "ticks": ""
           }
          },
          "scene": {
           "xaxis": {
            "backgroundcolor": "#E5ECF6",
            "gridcolor": "white",
            "gridwidth": 2,
            "linecolor": "white",
            "showbackground": true,
            "ticks": "",
            "zerolinecolor": "white"
           },
           "yaxis": {
            "backgroundcolor": "#E5ECF6",
            "gridcolor": "white",
            "gridwidth": 2,
            "linecolor": "white",
            "showbackground": true,
            "ticks": "",
            "zerolinecolor": "white"
           },
           "zaxis": {
            "backgroundcolor": "#E5ECF6",
            "gridcolor": "white",
            "gridwidth": 2,
            "linecolor": "white",
            "showbackground": true,
            "ticks": "",
            "zerolinecolor": "white"
           }
          },
          "shapedefaults": {
           "line": {
            "color": "#2a3f5f"
           }
          },
          "ternary": {
           "aaxis": {
            "gridcolor": "white",
            "linecolor": "white",
            "ticks": ""
           },
           "baxis": {
            "gridcolor": "white",
            "linecolor": "white",
            "ticks": ""
           },
           "bgcolor": "#E5ECF6",
           "caxis": {
            "gridcolor": "white",
            "linecolor": "white",
            "ticks": ""
           }
          },
          "title": {
           "x": 0.05
          },
          "xaxis": {
           "automargin": true,
           "gridcolor": "white",
           "linecolor": "white",
           "ticks": "",
           "title": {
            "standoff": 15
           },
           "zerolinecolor": "white",
           "zerolinewidth": 2
          },
          "yaxis": {
           "automargin": true,
           "gridcolor": "white",
           "linecolor": "white",
           "ticks": "",
           "title": {
            "standoff": 15
           },
           "zerolinecolor": "white",
           "zerolinewidth": 2
          }
         }
        },
        "width": 900,
        "xaxis": {
         "anchor": "y",
         "domain": [
          0,
          0.98
         ],
         "dtick": 1,
         "range": [
          1998.5,
          2018.5
         ],
         "title": {
          "text": ""
         }
        },
        "xaxis2": {
         "anchor": "y2",
         "domain": [
          0,
          0.98
         ],
         "matches": "x",
         "showticklabels": false
        },
        "yaxis": {
         "anchor": "x",
         "domain": [
          0,
          0.475
         ],
         "range": [
          0,
          100
         ],
         "title": {
          "text": "Production (%)"
         }
        },
        "yaxis2": {
         "anchor": "x2",
         "domain": [
          0.525,
          1
         ],
         "title": {
          "text": "Production (t)"
         }
        }
       }
      }
     },
     "metadata": {},
     "output_type": "display_data"
    }
   ],
   "source": [
    "# Bar chart of national crop production\n",
    "country_iso, country_name = 'MZ', 'Mozambique'\n",
    "df = pd.read_csv('../data/crop/adm_crop_production_%s.csv' % country_iso, index_col=0)\n",
    "df['year'] = df['harvest_year']\n",
    "year = [df['year'].min(), df['year'].max()]\n",
    "product_order = ['Cassava','Sweet Potatoes','Maize','Sorghum']\n",
    "for season_name in ['Main']:\n",
    "    footnote = 'National crop production in %s - %s' % (country_name, season_name)\n",
    "    fn_save = '../figures/%s_bar_natgrainprod_%s.png' % (country_iso, season_name)\n",
    "    sub = df[df['season_name'] == season_name]\n",
    "    fig = PlotBarProduction(sub, year, product_order, footnote, fn_save)\n",
    "    fig.show()"
   ]
  },
  {
   "cell_type": "code",
   "execution_count": 8,
   "id": "ccb7fdc2-515d-4d5d-a437-369dd25bc884",
   "metadata": {},
   "outputs": [
    {
     "name": "stdout",
     "output_type": "stream",
     "text": [
      "../figures/MZ_line_pay_Cassava_Main.png is saved.\n"
     ]
    },
    {
     "data": {
      "application/vnd.plotly.v1+json": {
       "config": {
        "plotlyServerURL": "https://plot.ly"
       },
       "data": [
        {
         "connectgaps": false,
         "hovertemplate": "fnid=MZ2013A101<br>indicator=production<br>year=%{x}<br>value=%{y}<extra></extra>",
         "legendgroup": "MZ2013A101",
         "line": {
          "color": "#636efa",
          "dash": "solid"
         },
         "marker": {
          "symbol": "circle"
         },
         "mode": "lines+markers",
         "name": "MZ2013A101",
         "orientation": "v",
         "showlegend": true,
         "type": "scatter",
         "x": [
          1999,
          2000,
          2001,
          2002,
          2003,
          2004,
          2005,
          2006,
          2007,
          2008,
          2009,
          2010,
          2011,
          2012,
          2013,
          2014,
          2015,
          2016,
          2017,
          2018
         ],
         "xaxis": "x3",
         "y": [
          null,
          811700.66943124,
          1011021.5888863,
          269672,
          1203283.64194132,
          1236647.4878019,
          434405,
          300942,
          445609,
          310574,
          1681167,
          1752122,
          1784446,
          null,
          null,
          null,
          null,
          null,
          null,
          2204000
         ],
         "yaxis": "y3"
        },
        {
         "connectgaps": false,
         "hovertemplate": "fnid=MZ2013A101<br>indicator=area<br>year=%{x}<br>value=%{y}<extra></extra>",
         "legendgroup": "MZ2013A101",
         "line": {
          "color": "#636efa",
          "dash": "solid"
         },
         "marker": {
          "symbol": "circle"
         },
         "mode": "lines+markers",
         "name": "MZ2013A101",
         "orientation": "v",
         "showlegend": false,
         "type": "scatter",
         "x": [
          1999,
          2000,
          2001,
          2002,
          2003,
          2004,
          2005,
          2006,
          2007,
          2008,
          2009,
          2010,
          2011,
          2012,
          2013,
          2014,
          2015,
          2016,
          2017,
          2018
         ],
         "xaxis": "x2",
         "y": [
          null,
          137576.38464936,
          165741.24407972,
          168458.99701903,
          171897.66313447,
          null,
          154800,
          119800,
          141900,
          113600,
          197379.04249933,
          112727,
          null,
          86100,
          null,
          105100,
          null,
          null,
          null,
          null
         ],
         "yaxis": "y2"
        },
        {
         "connectgaps": false,
         "hovertemplate": "fnid=MZ2013A101<br>indicator=yield<br>year=%{x}<br>value=%{y}<extra></extra>",
         "legendgroup": "MZ2013A101",
         "line": {
          "color": "#636efa",
          "dash": "solid"
         },
         "marker": {
          "symbol": "circle"
         },
         "mode": "lines+markers",
         "name": "MZ2013A101",
         "orientation": "v",
         "showlegend": false,
         "type": "scatter",
         "x": [
          1999,
          2000,
          2001,
          2002,
          2003,
          2004,
          2005,
          2006,
          2007,
          2008,
          2009,
          2010,
          2011,
          2012,
          2013,
          2014,
          2015,
          2016,
          2017,
          2018
         ],
         "xaxis": "x",
         "y": [
          null,
          5.900000000000116,
          6.1000000000000485,
          1.6008168442884438,
          7.000000000000174,
          null,
          2.806233850129199,
          2.5120367278797997,
          3.14030303030303,
          2.7339260563380283,
          8.51745443037959,
          15.543055346101644,
          null,
          null,
          null,
          null,
          null,
          null,
          null,
          null
         ],
         "yaxis": "y"
        },
        {
         "connectgaps": false,
         "hovertemplate": "fnid=MZ2013A102<br>indicator=production<br>year=%{x}<br>value=%{y}<extra></extra>",
         "legendgroup": "MZ2013A102",
         "line": {
          "color": "#EF553B",
          "dash": "solid"
         },
         "marker": {
          "symbol": "circle"
         },
         "mode": "lines+markers",
         "name": "MZ2013A102",
         "orientation": "v",
         "showlegend": true,
         "type": "scatter",
         "x": [
          1999,
          2000,
          2001,
          2002,
          2003,
          2004,
          2005,
          2006,
          2007,
          2008,
          2009,
          2010,
          2011,
          2012,
          2013,
          2014,
          2015,
          2016,
          2017,
          2018
         ],
         "xaxis": "x3",
         "y": [
          null,
          143338.6638612,
          200192.56521651,
          89748,
          123176.16539059,
          195661.86848291,
          137270,
          81619,
          156150,
          105414,
          268410,
          275494,
          293395,
          null,
          null,
          null,
          null,
          null,
          null,
          541500
         ],
         "yaxis": "y3"
        },
        {
         "connectgaps": false,
         "hovertemplate": "fnid=MZ2013A102<br>indicator=area<br>year=%{x}<br>value=%{y}<extra></extra>",
         "legendgroup": "MZ2013A102",
         "line": {
          "color": "#EF553B",
          "dash": "solid"
         },
         "marker": {
          "symbol": "circle"
         },
         "mode": "lines+markers",
         "name": "MZ2013A102",
         "orientation": "v",
         "showlegend": false,
         "type": "scatter",
         "x": [
          1999,
          2000,
          2001,
          2002,
          2003,
          2004,
          2005,
          2006,
          2007,
          2008,
          2009,
          2010,
          2011,
          2012,
          2013,
          2014,
          2015,
          2016,
          2017,
          2018
         ],
         "xaxis": "x2",
         "y": [
          null,
          29252.7885431,
          36605.12904832,
          42400,
          30635.94134765,
          39003.44569658,
          50400,
          31300,
          40500,
          41900,
          41709.43229841,
          50347,
          null,
          28500,
          null,
          40200,
          null,
          null,
          null,
          null
         ],
         "yaxis": "y2"
        },
        {
         "connectgaps": false,
         "hovertemplate": "fnid=MZ2013A102<br>indicator=yield<br>year=%{x}<br>value=%{y}<extra></extra>",
         "legendgroup": "MZ2013A102",
         "line": {
          "color": "#EF553B",
          "dash": "solid"
         },
         "marker": {
          "symbol": "circle"
         },
         "mode": "lines+markers",
         "name": "MZ2013A102",
         "orientation": "v",
         "showlegend": false,
         "type": "scatter",
         "x": [
          1999,
          2000,
          2001,
          2002,
          2003,
          2004,
          2005,
          2006,
          2007,
          2008,
          2009,
          2010,
          2011,
          2012,
          2013,
          2014,
          2015,
          2016,
          2017,
          2018
         ],
         "xaxis": "x",
         "y": [
          null,
          4.900000000000342,
          5.468975808069112,
          2.1166981132075473,
          4.020642421031352,
          5.016527770521222,
          2.723611111111111,
          2.607635782747604,
          3.855555555555555,
          2.5158472553699283,
          6.435235034599884,
          5.471904979442668,
          null,
          null,
          null,
          null,
          null,
          null,
          null,
          null
         ],
         "yaxis": "y"
        },
        {
         "connectgaps": false,
         "hovertemplate": "fnid=MZ2013A103<br>indicator=production<br>year=%{x}<br>value=%{y}<extra></extra>",
         "legendgroup": "MZ2013A103",
         "line": {
          "color": "#00cc96",
          "dash": "solid"
         },
         "marker": {
          "symbol": "circle"
         },
         "mode": "lines+markers",
         "name": "MZ2013A103",
         "orientation": "v",
         "showlegend": true,
         "type": "scatter",
         "x": [
          1999,
          2000,
          2001,
          2002,
          2003,
          2004,
          2005,
          2006,
          2007,
          2008,
          2009,
          2010,
          2011,
          2012,
          2013,
          2014,
          2015,
          2016,
          2017,
          2018
         ],
         "xaxis": "x3",
         "y": [
          558858,
          295670.08068054,
          634552.21363533,
          450543,
          347768.06643796,
          403034.85410362,
          666984,
          297955,
          483869,
          522306,
          577084,
          600388,
          627843,
          null,
          null,
          null,
          null,
          null,
          null,
          3018000
         ],
         "yaxis": "y3"
        },
        {
         "connectgaps": false,
         "hovertemplate": "fnid=MZ2013A103<br>indicator=area<br>year=%{x}<br>value=%{y}<extra></extra>",
         "legendgroup": "MZ2013A103",
         "line": {
          "color": "#00cc96",
          "dash": "solid"
         },
         "marker": {
          "symbol": "circle"
         },
         "mode": "lines+markers",
         "name": "MZ2013A103",
         "orientation": "v",
         "showlegend": false,
         "type": "scatter",
         "x": [
          1999,
          2000,
          2001,
          2002,
          2003,
          2004,
          2005,
          2006,
          2007,
          2008,
          2009,
          2010,
          2011,
          2012,
          2013,
          2014,
          2015,
          2016,
          2017,
          2018
         ],
         "xaxis": "x2",
         "y": [
          93143,
          60393.83279195,
          62267.0013368,
          63186.3778921,
          66909.32617392,
          69034.90948662,
          72276.72612332,
          73057.02617675,
          70644.30499077,
          74728.26419393,
          76735.27169532,
          119975,
          null,
          57700,
          null,
          62300,
          null,
          null,
          null,
          null
         ],
         "yaxis": "y2"
        },
        {
         "connectgaps": false,
         "hovertemplate": "fnid=MZ2013A103<br>indicator=yield<br>year=%{x}<br>value=%{y}<extra></extra>",
         "legendgroup": "MZ2013A103",
         "line": {
          "color": "#00cc96",
          "dash": "solid"
         },
         "marker": {
          "symbol": "circle"
         },
         "mode": "lines+markers",
         "name": "MZ2013A103",
         "orientation": "v",
         "showlegend": false,
         "type": "scatter",
         "x": [
          1999,
          2000,
          2001,
          2002,
          2003,
          2004,
          2005,
          2006,
          2007,
          2008,
          2009,
          2010,
          2011,
          2012,
          2013,
          2014,
          2015,
          2016,
          2017,
          2018
         ],
         "xaxis": "x",
         "y": [
          6,
          4.895699892058356,
          10.190826601767116,
          7.130381816937952,
          5.197602282438073,
          5.838131129609638,
          9.228198837644896,
          4.078389384193447,
          6.849370236754678,
          6.989403616341804,
          7.520452944916017,
          5.004275890810585,
          null,
          null,
          null,
          null,
          null,
          null,
          null,
          null
         ],
         "yaxis": "y"
        },
        {
         "connectgaps": false,
         "hovertemplate": "fnid=MZ2013A104<br>indicator=production<br>year=%{x}<br>value=%{y}<extra></extra>",
         "legendgroup": "MZ2013A104",
         "line": {
          "color": "#ab63fa",
          "dash": "solid"
         },
         "marker": {
          "symbol": "circle"
         },
         "mode": "lines+markers",
         "name": "MZ2013A104",
         "orientation": "v",
         "showlegend": true,
         "type": "scatter",
         "x": [
          1999,
          2000,
          2001,
          2002,
          2003,
          2004,
          2005,
          2006,
          2007,
          2008,
          2009,
          2010,
          2011,
          2012,
          2013,
          2014,
          2015,
          2016,
          2017,
          2018
         ],
         "xaxis": "x3",
         "y": [
          null,
          4904.308088,
          6553.19726841,
          103419,
          7682.59976843,
          8408.24184473,
          118988,
          197683,
          13933,
          14225,
          14611,
          15262,
          15894,
          null,
          null,
          null,
          null,
          null,
          null,
          154800
         ],
         "yaxis": "y3"
        },
        {
         "connectgaps": false,
         "hovertemplate": "fnid=MZ2013A104<br>indicator=area<br>year=%{x}<br>value=%{y}<extra></extra>",
         "legendgroup": "MZ2013A104",
         "line": {
          "color": "#ab63fa",
          "dash": "solid"
         },
         "marker": {
          "symbol": "circle"
         },
         "mode": "lines+markers",
         "name": "MZ2013A104",
         "orientation": "v",
         "showlegend": false,
         "type": "scatter",
         "x": [
          1999,
          2000,
          2001,
          2002,
          2003,
          2004,
          2005,
          2006,
          2007,
          2008,
          2009,
          2010,
          2011,
          2012,
          2013,
          2014,
          2015,
          2016,
          2017,
          2018
         ],
         "xaxis": "x2",
         "y": [
          null,
          943.13617077,
          1260.23024393,
          1322.85677854,
          1319.61342352,
          1401.37364079,
          1442.07618133,
          2560.92751322,
          2521.33590922,
          2655.04411071,
          2748.89222967,
          2602,
          null,
          27000,
          null,
          15100,
          null,
          null,
          null,
          null
         ],
         "yaxis": "y2"
        },
        {
         "connectgaps": false,
         "hovertemplate": "fnid=MZ2013A104<br>indicator=yield<br>year=%{x}<br>value=%{y}<extra></extra>",
         "legendgroup": "MZ2013A104",
         "line": {
          "color": "#ab63fa",
          "dash": "solid"
         },
         "marker": {
          "symbol": "circle"
         },
         "mode": "lines+markers",
         "name": "MZ2013A104",
         "orientation": "v",
         "showlegend": false,
         "type": "scatter",
         "x": [
          1999,
          2000,
          2001,
          2002,
          2003,
          2004,
          2005,
          2006,
          2007,
          2008,
          2009,
          2010,
          2011,
          2012,
          2013,
          2014,
          2015,
          2016,
          2017,
          2018
         ],
         "xaxis": "x",
         "y": [
          null,
          5.199999999995758,
          5.19999999997937,
          78.17853124972504,
          5.821856334211171,
          5.999999999992864,
          82.51159095510445,
          77.19195446943436,
          5.526038775337282,
          5.35772642820462,
          5.315232020483403,
          5.865488086087625,
          null,
          null,
          null,
          null,
          null,
          null,
          null,
          null
         ],
         "yaxis": "y"
        },
        {
         "connectgaps": false,
         "hovertemplate": "fnid=MZ2013A105<br>indicator=production<br>year=%{x}<br>value=%{y}<extra></extra>",
         "legendgroup": "MZ2013A105",
         "line": {
          "color": "#FFA15A",
          "dash": "solid"
         },
         "marker": {
          "symbol": "circle"
         },
         "mode": "lines+markers",
         "name": "MZ2013A105",
         "orientation": "v",
         "showlegend": true,
         "type": "scatter",
         "x": [
          1999,
          2000,
          2001,
          2002,
          2003,
          2004,
          2005,
          2006,
          2007,
          2008,
          2009,
          2010,
          2011,
          2012,
          2013,
          2014,
          2015,
          2016,
          2017,
          2018
         ],
         "xaxis": "x3",
         "y": [
          42518,
          17073.83730979,
          32685.13176269,
          29394.10717863,
          12725.15794863,
          25926.00625488,
          26732.7703756,
          30754.7351764,
          33393,
          36167,
          39294,
          44598,
          49001,
          null,
          null,
          null,
          null,
          null,
          null,
          193800
         ],
         "yaxis": "y3"
        },
        {
         "connectgaps": false,
         "hovertemplate": "fnid=MZ2013A105<br>indicator=area<br>year=%{x}<br>value=%{y}<extra></extra>",
         "legendgroup": "MZ2013A105",
         "line": {
          "color": "#FFA15A",
          "dash": "solid"
         },
         "marker": {
          "symbol": "circle"
         },
         "mode": "lines+markers",
         "name": "MZ2013A105",
         "orientation": "v",
         "showlegend": false,
         "type": "scatter",
         "x": [
          1999,
          2000,
          2001,
          2002,
          2003,
          2004,
          2005,
          2006,
          2007,
          2008,
          2009,
          2010,
          2011,
          2012,
          2013,
          2014,
          2015,
          2016,
          2017,
          2018
         ],
         "xaxis": "x2",
         "y": [
          12382,
          3484.45659384,
          null,
          5878.82143573,
          2766.14948716,
          5185.20125098,
          6754.46939346,
          7252.26401866,
          7734.94542905,
          7751.98887224,
          8120.41713751,
          14252,
          null,
          10200,
          null,
          33300,
          null,
          null,
          null,
          null
         ],
         "yaxis": "y2"
        },
        {
         "connectgaps": false,
         "hovertemplate": "fnid=MZ2013A105<br>indicator=yield<br>year=%{x}<br>value=%{y}<extra></extra>",
         "legendgroup": "MZ2013A105",
         "line": {
          "color": "#FFA15A",
          "dash": "solid"
         },
         "marker": {
          "symbol": "circle"
         },
         "mode": "lines+markers",
         "name": "MZ2013A105",
         "orientation": "v",
         "showlegend": false,
         "type": "scatter",
         "x": [
          1999,
          2000,
          2001,
          2002,
          2003,
          2004,
          2005,
          2006,
          2007,
          2008,
          2009,
          2010,
          2011,
          2012,
          2013,
          2014,
          2015,
          2016,
          2017,
          2018
         ],
         "xaxis": "x",
         "y": [
          3.433855596834114,
          4.899999999992538,
          null,
          4.999999999996598,
          4.6003146278601506,
          4.9999999999961435,
          3.9577898452665945,
          4.240708156414105,
          4.317160386754184,
          4.665512373155568,
          4.838913978752684,
          3.129245018243054,
          null,
          null,
          null,
          null,
          null,
          null,
          null,
          null
         ],
         "yaxis": "y"
        },
        {
         "connectgaps": false,
         "hovertemplate": "fnid=MZ2013A107<br>indicator=production<br>year=%{x}<br>value=%{y}<extra></extra>",
         "legendgroup": "MZ2013A107",
         "line": {
          "color": "#19d3f3",
          "dash": "solid"
         },
         "marker": {
          "symbol": "circle"
         },
         "mode": "lines+markers",
         "name": "MZ2013A107",
         "orientation": "v",
         "showlegend": true,
         "type": "scatter",
         "x": [
          1999,
          2000,
          2001,
          2002,
          2003,
          2004,
          2005,
          2006,
          2007,
          2008,
          2009,
          2010,
          2011,
          2012,
          2013,
          2014,
          2015,
          2016,
          2017,
          2018
         ],
         "xaxis": "x3",
         "y": [
          null,
          2451576.02281032,
          2604797.92208688,
          1192212,
          2221378.54533938,
          2248683.45513671,
          2316160.53966847,
          1218288,
          3212545,
          3416272,
          3769617,
          4134109,
          4234917,
          null,
          null,
          null,
          null,
          null,
          null,
          5068000
         ],
         "yaxis": "y3"
        },
        {
         "connectgaps": false,
         "hovertemplate": "fnid=MZ2013A107<br>indicator=area<br>year=%{x}<br>value=%{y}<extra></extra>",
         "legendgroup": "MZ2013A107",
         "line": {
          "color": "#19d3f3",
          "dash": "solid"
         },
         "marker": {
          "symbol": "circle"
         },
         "mode": "lines+markers",
         "name": "MZ2013A107",
         "orientation": "v",
         "showlegend": false,
         "type": "scatter",
         "x": [
          1999,
          2000,
          2001,
          2002,
          2003,
          2004,
          2005,
          2006,
          2007,
          2008,
          2009,
          2010,
          2011,
          2012,
          2013,
          2014,
          2015,
          2016,
          2017,
          2018
         ],
         "xaxis": "x2",
         "y": [
          null,
          415521.35979836,
          427016.05280113,
          432177.95898612,
          437783.65151035,
          446896.03919361,
          464957.02834545,
          474119.98733337,
          483833.17752544,
          493814.17707175,
          503629.05198152,
          337338,
          null,
          266900,
          null,
          271000,
          null,
          null,
          null,
          null
         ],
         "yaxis": "y2"
        },
        {
         "connectgaps": false,
         "hovertemplate": "fnid=MZ2013A107<br>indicator=yield<br>year=%{x}<br>value=%{y}<extra></extra>",
         "legendgroup": "MZ2013A107",
         "line": {
          "color": "#19d3f3",
          "dash": "solid"
         },
         "marker": {
          "symbol": "circle"
         },
         "mode": "lines+markers",
         "name": "MZ2013A107",
         "orientation": "v",
         "showlegend": false,
         "type": "scatter",
         "x": [
          1999,
          2000,
          2001,
          2002,
          2003,
          2004,
          2005,
          2006,
          2007,
          2008,
          2009,
          2010,
          2011,
          2012,
          2013,
          2014,
          2015,
          2016,
          2017,
          2018
         ],
         "xaxis": "x",
         "y": [
          null,
          5.899999999999991,
          6.0999999999999694,
          2.758613610922924,
          5.074146870664636,
          5.031782020700582,
          4.981450754514948,
          2.569577390845959,
          6.639778231890855,
          6.918132687599255,
          7.484907761314613,
          12.255094297114466,
          null,
          null,
          null,
          null,
          null,
          null,
          null,
          null
         ],
         "yaxis": "y"
        },
        {
         "connectgaps": false,
         "hovertemplate": "fnid=MZ2013A108<br>indicator=production<br>year=%{x}<br>value=%{y}<extra></extra>",
         "legendgroup": "MZ2013A108",
         "line": {
          "color": "#FF6692",
          "dash": "solid"
         },
         "marker": {
          "symbol": "circle"
         },
         "mode": "lines+markers",
         "name": "MZ2013A108",
         "orientation": "v",
         "showlegend": true,
         "type": "scatter",
         "x": [
          1999,
          2000,
          2001,
          2002,
          2003,
          2004,
          2005,
          2006,
          2007,
          2008,
          2009,
          2010,
          2011,
          2012,
          2013,
          2014,
          2015,
          2016,
          2017,
          2018
         ],
         "xaxis": "x3",
         "y": [
          43188,
          127004.75525938,
          149553.04504521,
          58162,
          179117.904914,
          183764.45345569,
          191536.09959549,
          53742,
          224967,
          229481,
          239088,
          257021,
          261979,
          null,
          null,
          null,
          null,
          null,
          null,
          689600
         ],
         "yaxis": "y3"
        },
        {
         "connectgaps": false,
         "hovertemplate": "fnid=MZ2013A108<br>indicator=area<br>year=%{x}<br>value=%{y}<extra></extra>",
         "legendgroup": "MZ2013A108",
         "line": {
          "color": "#FF6692",
          "dash": "solid"
         },
         "marker": {
          "symbol": "circle"
         },
         "mode": "lines+markers",
         "name": "MZ2013A108",
         "orientation": "v",
         "showlegend": false,
         "type": "scatter",
         "x": [
          1999,
          2000,
          2001,
          2002,
          2003,
          2004,
          2005,
          2006,
          2007,
          2008,
          2009,
          2010,
          2011,
          2012,
          2013,
          2014,
          2015,
          2016,
          2017,
          2018
         ],
         "xaxis": "x2",
         "y": [
          21594,
          21526.22970498,
          24516.89263036,
          25031.52553803,
          25588.27213057,
          26252.06477938,
          27362.29994221,
          27927.07815233,
          28613.15826583,
          29384.89517909,
          30302.74553576,
          33060,
          null,
          28100,
          null,
          21700,
          null,
          null,
          null,
          null
         ],
         "yaxis": "y2"
        },
        {
         "connectgaps": false,
         "hovertemplate": "fnid=MZ2013A108<br>indicator=yield<br>year=%{x}<br>value=%{y}<extra></extra>",
         "legendgroup": "MZ2013A108",
         "line": {
          "color": "#FF6692",
          "dash": "solid"
         },
         "marker": {
          "symbol": "circle"
         },
         "mode": "lines+markers",
         "name": "MZ2013A108",
         "orientation": "v",
         "showlegend": false,
         "type": "scatter",
         "x": [
          1999,
          2000,
          2001,
          2002,
          2003,
          2004,
          2005,
          2006,
          2007,
          2008,
          2009,
          2010,
          2011,
          2012,
          2013,
          2014,
          2015,
          2016,
          2017,
          2018
         ],
         "xaxis": "x",
         "y": [
          2,
          5.899999999999907,
          6.100000000000571,
          2.3235499535030493,
          7.000000000000392,
          7.000000000001142,
          7.000000000000731,
          1.9243688762161544,
          7.862361711697408,
          7.809488466826195,
          7.889978144648786,
          7.774379915305505,
          null,
          null,
          null,
          null,
          null,
          null,
          null,
          null
         ],
         "yaxis": "y"
        },
        {
         "connectgaps": false,
         "hovertemplate": "fnid=MZ2013A109<br>indicator=production<br>year=%{x}<br>value=%{y}<extra></extra>",
         "legendgroup": "MZ2013A109",
         "line": {
          "color": "#B6E880",
          "dash": "solid"
         },
         "marker": {
          "symbol": "circle"
         },
         "mode": "lines+markers",
         "name": "MZ2013A109",
         "orientation": "v",
         "showlegend": true,
         "type": "scatter",
         "x": [
          1999,
          2000,
          2001,
          2002,
          2003,
          2004,
          2005,
          2006,
          2007,
          2008,
          2009,
          2010,
          2011,
          2012,
          2013,
          2014,
          2015,
          2016,
          2017,
          2018
         ],
         "xaxis": "x3",
         "y": [
          39600,
          44187.68041514,
          65887.89668189,
          81754,
          81501.64108028,
          91994.17678558,
          756,
          144255,
          99971,
          102561,
          107166,
          109538,
          110268,
          null,
          null,
          null,
          null,
          null,
          null,
          605100
         ],
         "yaxis": "y3"
        },
        {
         "connectgaps": false,
         "hovertemplate": "fnid=MZ2013A109<br>indicator=area<br>year=%{x}<br>value=%{y}<extra></extra>",
         "legendgroup": "MZ2013A109",
         "line": {
          "color": "#B6E880",
          "dash": "solid"
         },
         "marker": {
          "symbol": "circle"
         },
         "mode": "lines+markers",
         "name": "MZ2013A109",
         "orientation": "v",
         "showlegend": false,
         "type": "scatter",
         "x": [
          1999,
          2000,
          2001,
          2002,
          2003,
          2004,
          2005,
          2006,
          2007,
          2008,
          2009,
          2010,
          2011,
          2012,
          2013,
          2014,
          2015,
          2016,
          2017,
          2018
         ],
         "xaxis": "x2",
         "y": [
          null,
          8497.63084907,
          12201.4623485,
          13056.85456574,
          13583.60684671,
          14142.29519778,
          14846.72282465,
          15084.86037363,
          13862.76061065,
          18711.78983811,
          19153.17313787,
          34678,
          null,
          27000,
          null,
          21800,
          null,
          null,
          null,
          null
         ],
         "yaxis": "y2"
        },
        {
         "connectgaps": false,
         "hovertemplate": "fnid=MZ2013A109<br>indicator=yield<br>year=%{x}<br>value=%{y}<extra></extra>",
         "legendgroup": "MZ2013A109",
         "line": {
          "color": "#B6E880",
          "dash": "solid"
         },
         "marker": {
          "symbol": "circle"
         },
         "mode": "lines+markers",
         "name": "MZ2013A109",
         "orientation": "v",
         "showlegend": false,
         "type": "scatter",
         "x": [
          1999,
          2000,
          2001,
          2002,
          2003,
          2004,
          2005,
          2006,
          2007,
          2008,
          2009,
          2010,
          2011,
          2012,
          2013,
          2014,
          2015,
          2016,
          2017,
          2018
         ],
         "xaxis": "x",
         "y": [
          null,
          5.199999999997176,
          5.399999999999181,
          6.261385511217615,
          6.000000000001473,
          6.504897224887575,
          0.0509203282723655,
          9.562899253093098,
          7.211478493194043,
          5.481089777478992,
          5.595208649166829,
          3.15871734240729,
          null,
          null,
          null,
          null,
          null,
          null,
          null,
          null
         ],
         "yaxis": "y"
        },
        {
         "connectgaps": false,
         "hovertemplate": "fnid=MZ2013A110<br>indicator=production<br>year=%{x}<br>value=%{y}<extra></extra>",
         "legendgroup": "MZ2013A110",
         "line": {
          "color": "#FF97FF",
          "dash": "solid"
         },
         "marker": {
          "symbol": "circle"
         },
         "mode": "lines+markers",
         "name": "MZ2013A110",
         "orientation": "v",
         "showlegend": true,
         "type": "scatter",
         "x": [
          1999,
          2000,
          2001,
          2002,
          2003,
          2004,
          2005,
          2006,
          2007,
          2008,
          2009,
          2010,
          2011,
          2012,
          2013,
          2014,
          2015,
          2016,
          2017,
          2018
         ],
         "xaxis": "x3",
         "y": [
          null,
          6318.40148242,
          7313.34204753,
          45034,
          7824.12766663,
          8752.12687943,
          69118,
          27477,
          11162,
          11484,
          11742,
          12009,
          12609,
          null,
          null,
          null,
          null,
          null,
          null,
          125900
         ],
         "yaxis": "y3"
        },
        {
         "connectgaps": false,
         "hovertemplate": "fnid=MZ2013A110<br>indicator=area<br>year=%{x}<br>value=%{y}<extra></extra>",
         "legendgroup": "MZ2013A110",
         "line": {
          "color": "#FF97FF",
          "dash": "solid"
         },
         "marker": {
          "symbol": "circle"
         },
         "mode": "lines+markers",
         "name": "MZ2013A110",
         "orientation": "v",
         "showlegend": false,
         "type": "scatter",
         "x": [
          1999,
          2000,
          2001,
          2002,
          2003,
          2004,
          2005,
          2006,
          2007,
          2008,
          2009,
          2010,
          2011,
          2012,
          2013,
          2014,
          2015,
          2016,
          2017,
          2018
         ],
         "xaxis": "x2",
         "y": [
          null,
          1215.07720816,
          1354.32260139,
          1389.61802336,
          1422.56866666,
          1458.68781324,
          1514.02284661,
          1549.40005706,
          1585.3538927,
          1621.95353939,
          1656.8629354,
          8279,
          null,
          3100,
          null,
          3100,
          null,
          null,
          null,
          null
         ],
         "yaxis": "y2"
        },
        {
         "connectgaps": false,
         "hovertemplate": "fnid=MZ2013A110<br>indicator=yield<br>year=%{x}<br>value=%{y}<extra></extra>",
         "legendgroup": "MZ2013A110",
         "line": {
          "color": "#FF97FF",
          "dash": "solid"
         },
         "marker": {
          "symbol": "circle"
         },
         "mode": "lines+markers",
         "name": "MZ2013A110",
         "orientation": "v",
         "showlegend": false,
         "type": "scatter",
         "x": [
          1999,
          2000,
          2001,
          2002,
          2003,
          2004,
          2005,
          2006,
          2007,
          2008,
          2009,
          2010,
          2011,
          2012,
          2013,
          2014,
          2015,
          2016,
          2017,
          2018
         ],
         "xaxis": "x",
         "y": [
          null,
          5.1999999999901245,
          5.40000000001772,
          32.40746683114465,
          5.5,
          5.999999999993144,
          45.651887060198526,
          17.73396088040544,
          7.040699273138386,
          7.080350775225666,
          7.086886759987328,
          1.4505375045295326,
          null,
          null,
          null,
          null,
          null,
          null,
          null,
          null
         ],
         "yaxis": "y"
        },
        {
         "connectgaps": false,
         "hovertemplate": "fnid=MZ2013A111<br>indicator=production<br>year=%{x}<br>value=%{y}<extra></extra>",
         "legendgroup": "MZ2013A111",
         "line": {
          "color": "#FECB52",
          "dash": "solid"
         },
         "marker": {
          "symbol": "circle"
         },
         "mode": "lines+markers",
         "name": "MZ2013A111",
         "orientation": "v",
         "showlegend": true,
         "type": "scatter",
         "x": [
          1999,
          2000,
          2001,
          2002,
          2003,
          2004,
          2005,
          2006,
          2007,
          2008,
          2009,
          2010,
          2011,
          2012,
          2013,
          2014,
          2015,
          2016,
          2017,
          2018
         ],
         "xaxis": "x3",
         "y": [
          1072604,
          1460199.92582417,
          1592819.32523981,
          1105291,
          1965438.30068624,
          2009896.28549178,
          1232580.58108186,
          3094808,
          2314212,
          2322827,
          2477375,
          2537525,
          2703267,
          null,
          null,
          null,
          null,
          null,
          null,
          1882000
         ],
         "yaxis": "y3"
        },
        {
         "connectgaps": false,
         "hovertemplate": "fnid=MZ2013A111<br>indicator=area<br>year=%{x}<br>value=%{y}<extra></extra>",
         "legendgroup": "MZ2013A111",
         "line": {
          "color": "#FECB52",
          "dash": "solid"
         },
         "marker": {
          "symbol": "circle"
         },
         "mode": "lines+markers",
         "name": "MZ2013A111",
         "orientation": "v",
         "showlegend": false,
         "type": "scatter",
         "x": [
          1999,
          2000,
          2001,
          2002,
          2003,
          2004,
          2005,
          2006,
          2007,
          2008,
          2009,
          2010,
          2011,
          2012,
          2013,
          2014,
          2015,
          2016,
          2017,
          2018
         ],
         "xaxis": "x2",
         "y": [
          332215,
          247491.51285155,
          261117.92217046,
          273283.04971176,
          280776.90009803,
          287067.05935597,
          297080.27234884,
          300380.43109179,
          302093.54453817,
          312321.18817479,
          318007.29100288,
          299438,
          null,
          228100,
          null,
          296800,
          null,
          null,
          null,
          null
         ],
         "yaxis": "y2"
        },
        {
         "connectgaps": false,
         "hovertemplate": "fnid=MZ2013A111<br>indicator=yield<br>year=%{x}<br>value=%{y}<extra></extra>",
         "legendgroup": "MZ2013A111",
         "line": {
          "color": "#FECB52",
          "dash": "solid"
         },
         "marker": {
          "symbol": "circle"
         },
         "mode": "lines+markers",
         "name": "MZ2013A111",
         "orientation": "v",
         "showlegend": false,
         "type": "scatter",
         "x": [
          1999,
          2000,
          2001,
          2002,
          2003,
          2004,
          2005,
          2006,
          2007,
          2008,
          2009,
          2010,
          2011,
          2012,
          2013,
          2014,
          2015,
          2016,
          2017,
          2018
         ],
         "xaxis": "x",
         "y": [
          3.228644100958717,
          5.900000000000101,
          6.100000000000016,
          4.044491603726555,
          7.000000000000107,
          7.00148700446839,
          4.14898159119273,
          10.302961443764262,
          7.660580776520352,
          7.437302008149489,
          7.790308807660526,
          8.474291840047021,
          null,
          null,
          null,
          null,
          null,
          null,
          null,
          null
         ],
         "yaxis": "y"
        }
       ],
       "layout": {
        "annotations": [
         {
          "showarrow": false,
          "text": "",
          "textangle": 90,
          "x": 0.98,
          "xanchor": "left",
          "xref": "paper",
          "y": 0.16333333333333333,
          "yanchor": "middle",
          "yref": "paper"
         },
         {
          "showarrow": false,
          "text": "",
          "textangle": 90,
          "x": 0.98,
          "xanchor": "left",
          "xref": "paper",
          "y": 0.5,
          "yanchor": "middle",
          "yref": "paper"
         },
         {
          "showarrow": false,
          "text": "",
          "textangle": 90,
          "x": 0.98,
          "xanchor": "left",
          "xref": "paper",
          "y": 0.8366666666666667,
          "yanchor": "middle",
          "yref": "paper"
         },
         {
          "align": "left",
          "font": {
           "color": "dimgrey",
           "family": "arial",
           "size": 15
          },
          "showarrow": false,
          "text": "Production-Area-Yield time-series of MZ - Cassava - Main",
          "x": -0.014,
          "xref": "paper",
          "y": -0.14,
          "yref": "paper"
         }
        ],
        "font": {
         "color": "black",
         "family": "arial",
         "size": 16
        },
        "height": 600,
        "legend": {
         "font": {
          "size": 14
         },
         "title": {
          "text": "FNID"
         },
         "tracegroupgap": 0,
         "x": 1,
         "xanchor": "left",
         "y": 1,
         "yanchor": "top"
        },
        "margin": {
         "b": 25,
         "l": 0,
         "r": 0,
         "t": 0
        },
        "template": {
         "data": {
          "bar": [
           {
            "error_x": {
             "color": "#2a3f5f"
            },
            "error_y": {
             "color": "#2a3f5f"
            },
            "marker": {
             "line": {
              "color": "#E5ECF6",
              "width": 0.5
             },
             "pattern": {
              "fillmode": "overlay",
              "size": 10,
              "solidity": 0.2
             }
            },
            "type": "bar"
           }
          ],
          "barpolar": [
           {
            "marker": {
             "line": {
              "color": "#E5ECF6",
              "width": 0.5
             },
             "pattern": {
              "fillmode": "overlay",
              "size": 10,
              "solidity": 0.2
             }
            },
            "type": "barpolar"
           }
          ],
          "carpet": [
           {
            "aaxis": {
             "endlinecolor": "#2a3f5f",
             "gridcolor": "white",
             "linecolor": "white",
             "minorgridcolor": "white",
             "startlinecolor": "#2a3f5f"
            },
            "baxis": {
             "endlinecolor": "#2a3f5f",
             "gridcolor": "white",
             "linecolor": "white",
             "minorgridcolor": "white",
             "startlinecolor": "#2a3f5f"
            },
            "type": "carpet"
           }
          ],
          "choropleth": [
           {
            "colorbar": {
             "outlinewidth": 0,
             "ticks": ""
            },
            "type": "choropleth"
           }
          ],
          "contour": [
           {
            "colorbar": {
             "outlinewidth": 0,
             "ticks": ""
            },
            "colorscale": [
             [
              0,
              "#0d0887"
             ],
             [
              0.1111111111111111,
              "#46039f"
             ],
             [
              0.2222222222222222,
              "#7201a8"
             ],
             [
              0.3333333333333333,
              "#9c179e"
             ],
             [
              0.4444444444444444,
              "#bd3786"
             ],
             [
              0.5555555555555556,
              "#d8576b"
             ],
             [
              0.6666666666666666,
              "#ed7953"
             ],
             [
              0.7777777777777778,
              "#fb9f3a"
             ],
             [
              0.8888888888888888,
              "#fdca26"
             ],
             [
              1,
              "#f0f921"
             ]
            ],
            "type": "contour"
           }
          ],
          "contourcarpet": [
           {
            "colorbar": {
             "outlinewidth": 0,
             "ticks": ""
            },
            "type": "contourcarpet"
           }
          ],
          "heatmap": [
           {
            "colorbar": {
             "outlinewidth": 0,
             "ticks": ""
            },
            "colorscale": [
             [
              0,
              "#0d0887"
             ],
             [
              0.1111111111111111,
              "#46039f"
             ],
             [
              0.2222222222222222,
              "#7201a8"
             ],
             [
              0.3333333333333333,
              "#9c179e"
             ],
             [
              0.4444444444444444,
              "#bd3786"
             ],
             [
              0.5555555555555556,
              "#d8576b"
             ],
             [
              0.6666666666666666,
              "#ed7953"
             ],
             [
              0.7777777777777778,
              "#fb9f3a"
             ],
             [
              0.8888888888888888,
              "#fdca26"
             ],
             [
              1,
              "#f0f921"
             ]
            ],
            "type": "heatmap"
           }
          ],
          "heatmapgl": [
           {
            "colorbar": {
             "outlinewidth": 0,
             "ticks": ""
            },
            "colorscale": [
             [
              0,
              "#0d0887"
             ],
             [
              0.1111111111111111,
              "#46039f"
             ],
             [
              0.2222222222222222,
              "#7201a8"
             ],
             [
              0.3333333333333333,
              "#9c179e"
             ],
             [
              0.4444444444444444,
              "#bd3786"
             ],
             [
              0.5555555555555556,
              "#d8576b"
             ],
             [
              0.6666666666666666,
              "#ed7953"
             ],
             [
              0.7777777777777778,
              "#fb9f3a"
             ],
             [
              0.8888888888888888,
              "#fdca26"
             ],
             [
              1,
              "#f0f921"
             ]
            ],
            "type": "heatmapgl"
           }
          ],
          "histogram": [
           {
            "marker": {
             "pattern": {
              "fillmode": "overlay",
              "size": 10,
              "solidity": 0.2
             }
            },
            "type": "histogram"
           }
          ],
          "histogram2d": [
           {
            "colorbar": {
             "outlinewidth": 0,
             "ticks": ""
            },
            "colorscale": [
             [
              0,
              "#0d0887"
             ],
             [
              0.1111111111111111,
              "#46039f"
             ],
             [
              0.2222222222222222,
              "#7201a8"
             ],
             [
              0.3333333333333333,
              "#9c179e"
             ],
             [
              0.4444444444444444,
              "#bd3786"
             ],
             [
              0.5555555555555556,
              "#d8576b"
             ],
             [
              0.6666666666666666,
              "#ed7953"
             ],
             [
              0.7777777777777778,
              "#fb9f3a"
             ],
             [
              0.8888888888888888,
              "#fdca26"
             ],
             [
              1,
              "#f0f921"
             ]
            ],
            "type": "histogram2d"
           }
          ],
          "histogram2dcontour": [
           {
            "colorbar": {
             "outlinewidth": 0,
             "ticks": ""
            },
            "colorscale": [
             [
              0,
              "#0d0887"
             ],
             [
              0.1111111111111111,
              "#46039f"
             ],
             [
              0.2222222222222222,
              "#7201a8"
             ],
             [
              0.3333333333333333,
              "#9c179e"
             ],
             [
              0.4444444444444444,
              "#bd3786"
             ],
             [
              0.5555555555555556,
              "#d8576b"
             ],
             [
              0.6666666666666666,
              "#ed7953"
             ],
             [
              0.7777777777777778,
              "#fb9f3a"
             ],
             [
              0.8888888888888888,
              "#fdca26"
             ],
             [
              1,
              "#f0f921"
             ]
            ],
            "type": "histogram2dcontour"
           }
          ],
          "mesh3d": [
           {
            "colorbar": {
             "outlinewidth": 0,
             "ticks": ""
            },
            "type": "mesh3d"
           }
          ],
          "parcoords": [
           {
            "line": {
             "colorbar": {
              "outlinewidth": 0,
              "ticks": ""
             }
            },
            "type": "parcoords"
           }
          ],
          "pie": [
           {
            "automargin": true,
            "type": "pie"
           }
          ],
          "scatter": [
           {
            "fillpattern": {
             "fillmode": "overlay",
             "size": 10,
             "solidity": 0.2
            },
            "type": "scatter"
           }
          ],
          "scatter3d": [
           {
            "line": {
             "colorbar": {
              "outlinewidth": 0,
              "ticks": ""
             }
            },
            "marker": {
             "colorbar": {
              "outlinewidth": 0,
              "ticks": ""
             }
            },
            "type": "scatter3d"
           }
          ],
          "scattercarpet": [
           {
            "marker": {
             "colorbar": {
              "outlinewidth": 0,
              "ticks": ""
             }
            },
            "type": "scattercarpet"
           }
          ],
          "scattergeo": [
           {
            "marker": {
             "colorbar": {
              "outlinewidth": 0,
              "ticks": ""
             }
            },
            "type": "scattergeo"
           }
          ],
          "scattergl": [
           {
            "marker": {
             "colorbar": {
              "outlinewidth": 0,
              "ticks": ""
             }
            },
            "type": "scattergl"
           }
          ],
          "scattermapbox": [
           {
            "marker": {
             "colorbar": {
              "outlinewidth": 0,
              "ticks": ""
             }
            },
            "type": "scattermapbox"
           }
          ],
          "scatterpolar": [
           {
            "marker": {
             "colorbar": {
              "outlinewidth": 0,
              "ticks": ""
             }
            },
            "type": "scatterpolar"
           }
          ],
          "scatterpolargl": [
           {
            "marker": {
             "colorbar": {
              "outlinewidth": 0,
              "ticks": ""
             }
            },
            "type": "scatterpolargl"
           }
          ],
          "scatterternary": [
           {
            "marker": {
             "colorbar": {
              "outlinewidth": 0,
              "ticks": ""
             }
            },
            "type": "scatterternary"
           }
          ],
          "surface": [
           {
            "colorbar": {
             "outlinewidth": 0,
             "ticks": ""
            },
            "colorscale": [
             [
              0,
              "#0d0887"
             ],
             [
              0.1111111111111111,
              "#46039f"
             ],
             [
              0.2222222222222222,
              "#7201a8"
             ],
             [
              0.3333333333333333,
              "#9c179e"
             ],
             [
              0.4444444444444444,
              "#bd3786"
             ],
             [
              0.5555555555555556,
              "#d8576b"
             ],
             [
              0.6666666666666666,
              "#ed7953"
             ],
             [
              0.7777777777777778,
              "#fb9f3a"
             ],
             [
              0.8888888888888888,
              "#fdca26"
             ],
             [
              1,
              "#f0f921"
             ]
            ],
            "type": "surface"
           }
          ],
          "table": [
           {
            "cells": {
             "fill": {
              "color": "#EBF0F8"
             },
             "line": {
              "color": "white"
             }
            },
            "header": {
             "fill": {
              "color": "#C8D4E3"
             },
             "line": {
              "color": "white"
             }
            },
            "type": "table"
           }
          ]
         },
         "layout": {
          "annotationdefaults": {
           "arrowcolor": "#2a3f5f",
           "arrowhead": 0,
           "arrowwidth": 1
          },
          "autotypenumbers": "strict",
          "coloraxis": {
           "colorbar": {
            "outlinewidth": 0,
            "ticks": ""
           }
          },
          "colorscale": {
           "diverging": [
            [
             0,
             "#8e0152"
            ],
            [
             0.1,
             "#c51b7d"
            ],
            [
             0.2,
             "#de77ae"
            ],
            [
             0.3,
             "#f1b6da"
            ],
            [
             0.4,
             "#fde0ef"
            ],
            [
             0.5,
             "#f7f7f7"
            ],
            [
             0.6,
             "#e6f5d0"
            ],
            [
             0.7,
             "#b8e186"
            ],
            [
             0.8,
             "#7fbc41"
            ],
            [
             0.9,
             "#4d9221"
            ],
            [
             1,
             "#276419"
            ]
           ],
           "sequential": [
            [
             0,
             "#0d0887"
            ],
            [
             0.1111111111111111,
             "#46039f"
            ],
            [
             0.2222222222222222,
             "#7201a8"
            ],
            [
             0.3333333333333333,
             "#9c179e"
            ],
            [
             0.4444444444444444,
             "#bd3786"
            ],
            [
             0.5555555555555556,
             "#d8576b"
            ],
            [
             0.6666666666666666,
             "#ed7953"
            ],
            [
             0.7777777777777778,
             "#fb9f3a"
            ],
            [
             0.8888888888888888,
             "#fdca26"
            ],
            [
             1,
             "#f0f921"
            ]
           ],
           "sequentialminus": [
            [
             0,
             "#0d0887"
            ],
            [
             0.1111111111111111,
             "#46039f"
            ],
            [
             0.2222222222222222,
             "#7201a8"
            ],
            [
             0.3333333333333333,
             "#9c179e"
            ],
            [
             0.4444444444444444,
             "#bd3786"
            ],
            [
             0.5555555555555556,
             "#d8576b"
            ],
            [
             0.6666666666666666,
             "#ed7953"
            ],
            [
             0.7777777777777778,
             "#fb9f3a"
            ],
            [
             0.8888888888888888,
             "#fdca26"
            ],
            [
             1,
             "#f0f921"
            ]
           ]
          },
          "colorway": [
           "#636efa",
           "#EF553B",
           "#00cc96",
           "#ab63fa",
           "#FFA15A",
           "#19d3f3",
           "#FF6692",
           "#B6E880",
           "#FF97FF",
           "#FECB52"
          ],
          "font": {
           "color": "#2a3f5f"
          },
          "geo": {
           "bgcolor": "white",
           "lakecolor": "white",
           "landcolor": "#E5ECF6",
           "showlakes": true,
           "showland": true,
           "subunitcolor": "white"
          },
          "hoverlabel": {
           "align": "left"
          },
          "hovermode": "closest",
          "mapbox": {
           "style": "light"
          },
          "paper_bgcolor": "white",
          "plot_bgcolor": "#E5ECF6",
          "polar": {
           "angularaxis": {
            "gridcolor": "white",
            "linecolor": "white",
            "ticks": ""
           },
           "bgcolor": "#E5ECF6",
           "radialaxis": {
            "gridcolor": "white",
            "linecolor": "white",
            "ticks": ""
           }
          },
          "scene": {
           "xaxis": {
            "backgroundcolor": "#E5ECF6",
            "gridcolor": "white",
            "gridwidth": 2,
            "linecolor": "white",
            "showbackground": true,
            "ticks": "",
            "zerolinecolor": "white"
           },
           "yaxis": {
            "backgroundcolor": "#E5ECF6",
            "gridcolor": "white",
            "gridwidth": 2,
            "linecolor": "white",
            "showbackground": true,
            "ticks": "",
            "zerolinecolor": "white"
           },
           "zaxis": {
            "backgroundcolor": "#E5ECF6",
            "gridcolor": "white",
            "gridwidth": 2,
            "linecolor": "white",
            "showbackground": true,
            "ticks": "",
            "zerolinecolor": "white"
           }
          },
          "shapedefaults": {
           "line": {
            "color": "#2a3f5f"
           }
          },
          "ternary": {
           "aaxis": {
            "gridcolor": "white",
            "linecolor": "white",
            "ticks": ""
           },
           "baxis": {
            "gridcolor": "white",
            "linecolor": "white",
            "ticks": ""
           },
           "bgcolor": "#E5ECF6",
           "caxis": {
            "gridcolor": "white",
            "linecolor": "white",
            "ticks": ""
           }
          },
          "title": {
           "x": 0.05
          },
          "xaxis": {
           "automargin": true,
           "gridcolor": "white",
           "linecolor": "white",
           "ticks": "",
           "title": {
            "standoff": 15
           },
           "zerolinecolor": "white",
           "zerolinewidth": 2
          },
          "yaxis": {
           "automargin": true,
           "gridcolor": "white",
           "linecolor": "white",
           "ticks": "",
           "title": {
            "standoff": 15
           },
           "zerolinecolor": "white",
           "zerolinewidth": 2
          }
         }
        },
        "width": 900,
        "xaxis": {
         "anchor": "y",
         "domain": [
          0,
          0.98
         ],
         "dtick": 1,
         "range": [
          1999,
          2018
         ],
         "title": {
          "text": ""
         }
        },
        "xaxis2": {
         "anchor": "y2",
         "domain": [
          0,
          0.98
         ],
         "dtick": 1,
         "matches": "x",
         "showticklabels": false
        },
        "xaxis3": {
         "anchor": "y3",
         "domain": [
          0,
          0.98
         ],
         "dtick": 1,
         "matches": "x",
         "showticklabels": false
        },
        "yaxis": {
         "anchor": "x",
         "domain": [
          0,
          0.32666666666666666
         ],
         "title": {
          "text": "Yield (mt/ha)"
         }
        },
        "yaxis2": {
         "anchor": "x2",
         "domain": [
          0.33666666666666667,
          0.6633333333333333
         ],
         "title": {
          "text": "Area (ha)"
         }
        },
        "yaxis3": {
         "anchor": "x3",
         "domain": [
          0.6733333333333333,
          1
         ],
         "title": {
          "text": "Production (mt)"
         }
        }
       }
      }
     },
     "metadata": {},
     "output_type": "display_data"
    },
    {
     "name": "stdout",
     "output_type": "stream",
     "text": [
      "../figures/MZ_line_pay_Maize_Main.png is saved.\n"
     ]
    },
    {
     "data": {
      "application/vnd.plotly.v1+json": {
       "config": {
        "plotlyServerURL": "https://plot.ly"
       },
       "data": [
        {
         "connectgaps": false,
         "hovertemplate": "fnid=MZ2013A101<br>indicator=production<br>year=%{x}<br>value=%{y}<extra></extra>",
         "legendgroup": "MZ2013A101",
         "line": {
          "color": "#636efa",
          "dash": "solid"
         },
         "marker": {
          "symbol": "circle"
         },
         "mode": "lines+markers",
         "name": "MZ2013A101",
         "orientation": "v",
         "showlegend": true,
         "type": "scatter",
         "x": [
          1999,
          2000,
          2001,
          2002,
          2003,
          2004,
          2005,
          2006,
          2007,
          2008,
          2009,
          2010,
          2011,
          2012,
          2013,
          2014,
          2015,
          2016,
          2017,
          2018
         ],
         "xaxis": "x3",
         "y": [
          111654,
          50104.426573,
          70444.16874986,
          85651,
          93071,
          135821.61454818,
          80363,
          104987,
          85655,
          76120,
          183937,
          279590,
          284161,
          68410,
          null,
          115342,
          null,
          null,
          null,
          114700
         ],
         "yaxis": "y3"
        },
        {
         "connectgaps": false,
         "hovertemplate": "fnid=MZ2013A101<br>indicator=area<br>year=%{x}<br>value=%{y}<extra></extra>",
         "legendgroup": "MZ2013A101",
         "line": {
          "color": "#636efa",
          "dash": "solid"
         },
         "marker": {
          "symbol": "circle"
         },
         "mode": "lines+markers",
         "name": "MZ2013A101",
         "orientation": "v",
         "showlegend": false,
         "type": "scatter",
         "x": [
          1999,
          2000,
          2001,
          2002,
          2003,
          2004,
          2005,
          2006,
          2007,
          2008,
          2009,
          2010,
          2011,
          2012,
          2013,
          2014,
          2015,
          2016,
          2017,
          2018
         ],
         "xaxis": "x2",
         "y": [
          111980,
          71029.37139881,
          85675.19156156,
          107400,
          null,
          null,
          142100,
          137700,
          138000,
          135100,
          112144.62382954,
          98150,
          null,
          109100,
          null,
          154500,
          null,
          null,
          null,
          null
         ],
         "yaxis": "y2"
        },
        {
         "connectgaps": false,
         "hovertemplate": "fnid=MZ2013A101<br>indicator=yield<br>year=%{x}<br>value=%{y}<extra></extra>",
         "legendgroup": "MZ2013A101",
         "line": {
          "color": "#636efa",
          "dash": "solid"
         },
         "marker": {
          "symbol": "circle"
         },
         "mode": "lines+markers",
         "name": "MZ2013A101",
         "orientation": "v",
         "showlegend": false,
         "type": "scatter",
         "x": [
          1999,
          2000,
          2001,
          2002,
          2003,
          2004,
          2005,
          2006,
          2007,
          2008,
          2009,
          2010,
          2011,
          2012,
          2013,
          2014,
          2015,
          2016,
          2017,
          2018
         ],
         "xaxis": "x",
         "y": [
          0.9970887658510448,
          0.705404336069338,
          0.8222236503462488,
          0.7974953445065177,
          null,
          null,
          0.5655383532723435,
          0.7624328249818446,
          0.6206884057971015,
          0.5634344929681717,
          1.640176708600713,
          2.848599083036169,
          null,
          0.6270394133822181,
          null,
          0.7465501618122977,
          null,
          null,
          null,
          null
         ],
         "yaxis": "y"
        },
        {
         "connectgaps": false,
         "hovertemplate": "fnid=MZ2013A102<br>indicator=production<br>year=%{x}<br>value=%{y}<extra></extra>",
         "legendgroup": "MZ2013A102",
         "line": {
          "color": "#EF553B",
          "dash": "solid"
         },
         "marker": {
          "symbol": "circle"
         },
         "mode": "lines+markers",
         "name": "MZ2013A102",
         "orientation": "v",
         "showlegend": true,
         "type": "scatter",
         "x": [
          1999,
          2000,
          2001,
          2002,
          2003,
          2004,
          2005,
          2006,
          2007,
          2008,
          2009,
          2010,
          2011,
          2012,
          2013,
          2014,
          2015,
          2016,
          2017,
          2018
         ],
         "xaxis": "x3",
         "y": [
          null,
          53728.09925502,
          46734.92676472,
          66921,
          56453,
          93274.50451109,
          40818,
          102091,
          60941,
          63815,
          100639,
          92258,
          95211,
          48675,
          null,
          64191,
          null,
          null,
          null,
          81600
         ],
         "yaxis": "y3"
        },
        {
         "connectgaps": false,
         "hovertemplate": "fnid=MZ2013A102<br>indicator=area<br>year=%{x}<br>value=%{y}<extra></extra>",
         "legendgroup": "MZ2013A102",
         "line": {
          "color": "#EF553B",
          "dash": "solid"
         },
         "marker": {
          "symbol": "circle"
         },
         "mode": "lines+markers",
         "name": "MZ2013A102",
         "orientation": "v",
         "showlegend": false,
         "type": "scatter",
         "x": [
          1999,
          2000,
          2001,
          2002,
          2003,
          2004,
          2005,
          2006,
          2007,
          2008,
          2009,
          2010,
          2011,
          2012,
          2013,
          2014,
          2015,
          2016,
          2017,
          2018
         ],
         "xaxis": "x2",
         "y": [
          null,
          94287.51624472,
          140815.04990387,
          172900,
          83221,
          143061.11368203,
          183000,
          152500,
          151200,
          150700,
          159520.3646583,
          119515,
          null,
          95800,
          null,
          99900,
          null,
          null,
          null,
          null
         ],
         "yaxis": "y2"
        },
        {
         "connectgaps": false,
         "hovertemplate": "fnid=MZ2013A102<br>indicator=yield<br>year=%{x}<br>value=%{y}<extra></extra>",
         "legendgroup": "MZ2013A102",
         "line": {
          "color": "#EF553B",
          "dash": "solid"
         },
         "marker": {
          "symbol": "circle"
         },
         "mode": "lines+markers",
         "name": "MZ2013A102",
         "orientation": "v",
         "showlegend": false,
         "type": "scatter",
         "x": [
          1999,
          2000,
          2001,
          2002,
          2003,
          2004,
          2005,
          2006,
          2007,
          2008,
          2009,
          2010,
          2011,
          2012,
          2013,
          2014,
          2015,
          2016,
          2017,
          2018
         ],
         "xaxis": "x",
         "y": [
          null,
          0.5698325864854746,
          0.3318887206774025,
          0.3870503181029497,
          0.6783504163612549,
          0.6519906221225389,
          0.2230491803278688,
          0.6694491803278688,
          0.4030489417989418,
          0.423457199734572,
          0.630884967042129,
          0.7719365769987031,
          null,
          0.5080897703549061,
          null,
          0.6425525525525525,
          null,
          null,
          null,
          null
         ],
         "yaxis": "y"
        },
        {
         "connectgaps": false,
         "hovertemplate": "fnid=MZ2013A103<br>indicator=production<br>year=%{x}<br>value=%{y}<extra></extra>",
         "legendgroup": "MZ2013A103",
         "line": {
          "color": "#00cc96",
          "dash": "solid"
         },
         "marker": {
          "symbol": "circle"
         },
         "mode": "lines+markers",
         "name": "MZ2013A103",
         "orientation": "v",
         "showlegend": true,
         "type": "scatter",
         "x": [
          1999,
          2000,
          2001,
          2002,
          2003,
          2004,
          2005,
          2006,
          2007,
          2008,
          2009,
          2010,
          2011,
          2012,
          2013,
          2014,
          2015,
          2016,
          2017,
          2018
         ],
         "xaxis": "x3",
         "y": [
          86609,
          83021.99644416,
          75921.20363195,
          18455,
          16691,
          42606.83775273,
          18013,
          32456,
          29049,
          36890,
          82485,
          47537,
          50561,
          20625,
          null,
          19291,
          null,
          null,
          null,
          34600
         ],
         "yaxis": "y3"
        },
        {
         "connectgaps": false,
         "hovertemplate": "fnid=MZ2013A103<br>indicator=area<br>year=%{x}<br>value=%{y}<extra></extra>",
         "legendgroup": "MZ2013A103",
         "line": {
          "color": "#00cc96",
          "dash": "solid"
         },
         "marker": {
          "symbol": "circle"
         },
         "mode": "lines+markers",
         "name": "MZ2013A103",
         "orientation": "v",
         "showlegend": false,
         "type": "scatter",
         "x": [
          1999,
          2000,
          2001,
          2002,
          2003,
          2004,
          2005,
          2006,
          2007,
          2008,
          2009,
          2010,
          2011,
          2012,
          2013,
          2014,
          2015,
          2016,
          2017,
          2018
         ],
         "xaxis": "x2",
         "y": [
          163413,
          102316.75135443,
          108780.74733045,
          105200,
          86549.18583516,
          89633.47687734,
          108300,
          107000,
          111200,
          118300,
          125278.94717391,
          85620,
          null,
          54200,
          null,
          52100,
          null,
          null,
          null,
          null
         ],
         "yaxis": "y2"
        },
        {
         "connectgaps": false,
         "hovertemplate": "fnid=MZ2013A103<br>indicator=yield<br>year=%{x}<br>value=%{y}<extra></extra>",
         "legendgroup": "MZ2013A103",
         "line": {
          "color": "#00cc96",
          "dash": "solid"
         },
         "marker": {
          "symbol": "circle"
         },
         "mode": "lines+markers",
         "name": "MZ2013A103",
         "orientation": "v",
         "showlegend": false,
         "type": "scatter",
         "x": [
          1999,
          2000,
          2001,
          2002,
          2003,
          2004,
          2005,
          2006,
          2007,
          2008,
          2009,
          2010,
          2011,
          2012,
          2013,
          2014,
          2015,
          2016,
          2017,
          2018
         ],
         "xaxis": "x",
         "y": [
          0.5300006731410598,
          0.811421349340617,
          0.6979286821896844,
          0.1754277566539924,
          0.1928498788167617,
          0.4753451415371942,
          0.1663250230840258,
          0.3033271028037383,
          0.2612320143884892,
          0.3118343195266272,
          0.6584107055553061,
          0.5552090633029666,
          null,
          0.3805350553505535,
          null,
          0.3702687140115163,
          null,
          null,
          null,
          null
         ],
         "yaxis": "y"
        },
        {
         "connectgaps": false,
         "hovertemplate": "fnid=MZ2013A104<br>indicator=production<br>year=%{x}<br>value=%{y}<extra></extra>",
         "legendgroup": "MZ2013A104",
         "line": {
          "color": "#ab63fa",
          "dash": "solid"
         },
         "marker": {
          "symbol": "circle"
         },
         "mode": "lines+markers",
         "name": "MZ2013A104",
         "orientation": "v",
         "showlegend": true,
         "type": "scatter",
         "x": [
          1999,
          2000,
          2001,
          2002,
          2003,
          2004,
          2005,
          2006,
          2007,
          2008,
          2009,
          2010,
          2011,
          2012,
          2013,
          2014,
          2015,
          2016,
          2017,
          2018
         ],
         "xaxis": "x3",
         "y": [
          88250,
          191867.69695691,
          205872.58967146,
          162822,
          172190,
          241830.21980309,
          177999.13456522,
          204026,
          269001,
          294514,
          317041,
          222692,
          236487,
          227748,
          null,
          210880,
          null,
          null,
          null,
          381830
         ],
         "yaxis": "y3"
        },
        {
         "connectgaps": false,
         "hovertemplate": "fnid=MZ2013A104<br>indicator=area<br>year=%{x}<br>value=%{y}<extra></extra>",
         "legendgroup": "MZ2013A104",
         "line": {
          "color": "#ab63fa",
          "dash": "solid"
         },
         "marker": {
          "symbol": "circle"
         },
         "mode": "lines+markers",
         "name": "MZ2013A104",
         "orientation": "v",
         "showlegend": false,
         "type": "scatter",
         "x": [
          1999,
          2000,
          2001,
          2002,
          2003,
          2004,
          2005,
          2006,
          2007,
          2008,
          2009,
          2010,
          2011,
          2012,
          2013,
          2014,
          2015,
          2016,
          2017,
          2018
         ],
         "xaxis": "x2",
         "y": [
          201302,
          147226.22639388,
          191014.81419508,
          190100.15723483,
          170143.97578929,
          190225.48607712,
          172821.29192658,
          224475.08513978,
          230491.72956077,
          238389.41107191,
          249970.21268004,
          null,
          null,
          255800,
          null,
          259600,
          null,
          null,
          null,
          null
         ],
         "yaxis": "y2"
        },
        {
         "connectgaps": false,
         "hovertemplate": "fnid=MZ2013A104<br>indicator=yield<br>year=%{x}<br>value=%{y}<extra></extra>",
         "legendgroup": "MZ2013A104",
         "line": {
          "color": "#ab63fa",
          "dash": "solid"
         },
         "marker": {
          "symbol": "circle"
         },
         "mode": "lines+markers",
         "name": "MZ2013A104",
         "orientation": "v",
         "showlegend": false,
         "type": "scatter",
         "x": [
          1999,
          2000,
          2001,
          2002,
          2003,
          2004,
          2005,
          2006,
          2007,
          2008,
          2009,
          2010,
          2011,
          2012,
          2013,
          2014,
          2015,
          2016,
          2017,
          2018
         ],
         "xaxis": "x",
         "y": [
          0.4383960417680897,
          1.3032168361335223,
          1.0777833674261832,
          0.8565063930950179,
          1.0120252521502369,
          1.271281912798208,
          1.0299606754521875,
          0.908902651147024,
          1.1670744130933204,
          1.2354323905400315,
          1.2683151188330193,
          null,
          null,
          0.8903362001563722,
          null,
          0.812326656394453,
          null,
          null,
          null,
          null
         ],
         "yaxis": "y"
        },
        {
         "connectgaps": false,
         "hovertemplate": "fnid=MZ2013A105<br>indicator=production<br>year=%{x}<br>value=%{y}<extra></extra>",
         "legendgroup": "MZ2013A105",
         "line": {
          "color": "#FFA15A",
          "dash": "solid"
         },
         "marker": {
          "symbol": "circle"
         },
         "mode": "lines+markers",
         "name": "MZ2013A105",
         "orientation": "v",
         "showlegend": true,
         "type": "scatter",
         "x": [
          1999,
          2000,
          2001,
          2002,
          2003,
          2004,
          2005,
          2006,
          2007,
          2008,
          2009,
          2010,
          2011,
          2012,
          2013,
          2014,
          2015,
          2016,
          2017,
          2018
         ],
         "xaxis": "x3",
         "y": [
          50170,
          30334.86198686,
          57304.62596907,
          32531.60077364,
          15671.96775908,
          28383.90841431,
          32534.20237425,
          40051.58141033,
          12360,
          15532,
          56396,
          35663,
          38039,
          31570,
          null,
          63048,
          null,
          null,
          null,
          52900
         ],
         "yaxis": "y3"
        },
        {
         "connectgaps": false,
         "hovertemplate": "fnid=MZ2013A105<br>indicator=area<br>year=%{x}<br>value=%{y}<extra></extra>",
         "legendgroup": "MZ2013A105",
         "line": {
          "color": "#FFA15A",
          "dash": "solid"
         },
         "marker": {
          "symbol": "circle"
         },
         "mode": "lines+markers",
         "name": "MZ2013A105",
         "orientation": "v",
         "showlegend": false,
         "type": "scatter",
         "x": [
          1999,
          2000,
          2001,
          2002,
          2003,
          2004,
          2005,
          2006,
          2007,
          2008,
          2009,
          2010,
          2011,
          2012,
          2013,
          2014,
          2015,
          2016,
          2017,
          2018
         ],
         "xaxis": "x2",
         "y": [
          66913,
          40545.15068411,
          null,
          59724.03479142,
          39721.35768673,
          44312.64459087,
          56698.28020549,
          70734.85084455,
          36010.69694735,
          45742.22074023,
          77352.48314555,
          48911,
          null,
          43100,
          null,
          94900,
          null,
          null,
          null,
          null
         ],
         "yaxis": "y2"
        },
        {
         "connectgaps": false,
         "hovertemplate": "fnid=MZ2013A105<br>indicator=yield<br>year=%{x}<br>value=%{y}<extra></extra>",
         "legendgroup": "MZ2013A105",
         "line": {
          "color": "#FFA15A",
          "dash": "solid"
         },
         "marker": {
          "symbol": "circle"
         },
         "mode": "lines+markers",
         "name": "MZ2013A105",
         "orientation": "v",
         "showlegend": false,
         "type": "scatter",
         "x": [
          1999,
          2000,
          2001,
          2002,
          2003,
          2004,
          2005,
          2006,
          2007,
          2008,
          2009,
          2010,
          2011,
          2012,
          2013,
          2014,
          2015,
          2016,
          2017,
          2018
         ],
         "xaxis": "x",
         "y": [
          0.7497795645091387,
          0.7481748489036569,
          null,
          0.5446986441430697,
          0.3945476356241379,
          0.6405374510226841,
          0.5738128609251849,
          0.5662213312409339,
          0.3432313464543919,
          0.3395550051713974,
          0.7290780813575524,
          0.7291406840996912,
          null,
          0.7324825986078887,
          null,
          0.6643624868282403,
          null,
          null,
          null,
          null
         ],
         "yaxis": "y"
        },
        {
         "connectgaps": false,
         "hovertemplate": "fnid=MZ2013A107<br>indicator=production<br>year=%{x}<br>value=%{y}<extra></extra>",
         "legendgroup": "MZ2013A107",
         "line": {
          "color": "#19d3f3",
          "dash": "solid"
         },
         "marker": {
          "symbol": "circle"
         },
         "mode": "lines+markers",
         "name": "MZ2013A107",
         "orientation": "v",
         "showlegend": true,
         "type": "scatter",
         "x": [
          1999,
          2000,
          2001,
          2002,
          2003,
          2004,
          2005,
          2006,
          2007,
          2008,
          2009,
          2010,
          2011,
          2012,
          2013,
          2014,
          2015,
          2016,
          2017,
          2018
         ],
         "xaxis": "x3",
         "y": [
          null,
          106995.48832392,
          107478.7479378,
          117435,
          89112,
          135759.76445385,
          155070.11719085,
          124000,
          165415,
          175351,
          200260,
          265764,
          273092,
          112494,
          null,
          99800,
          null,
          null,
          null,
          188600
         ],
         "yaxis": "y3"
        },
        {
         "connectgaps": false,
         "hovertemplate": "fnid=MZ2013A107<br>indicator=area<br>year=%{x}<br>value=%{y}<extra></extra>",
         "legendgroup": "MZ2013A107",
         "line": {
          "color": "#19d3f3",
          "dash": "solid"
         },
         "marker": {
          "symbol": "circle"
         },
         "mode": "lines+markers",
         "name": "MZ2013A107",
         "orientation": "v",
         "showlegend": false,
         "type": "scatter",
         "x": [
          1999,
          2000,
          2001,
          2002,
          2003,
          2004,
          2005,
          2006,
          2007,
          2008,
          2009,
          2010,
          2011,
          2012,
          2013,
          2014,
          2015,
          2016,
          2017,
          2018
         ],
         "xaxis": "x2",
         "y": [
          null,
          111502.16445337,
          115000.0730036,
          115604.3598838,
          118422.75272798,
          119097.28046394,
          125305.52491526,
          127905.40756912,
          133080.29525144,
          137298.76930683,
          142628.88660873,
          136396,
          null,
          139600,
          null,
          133300,
          null,
          null,
          null,
          null
         ],
         "yaxis": "y2"
        },
        {
         "connectgaps": false,
         "hovertemplate": "fnid=MZ2013A107<br>indicator=yield<br>year=%{x}<br>value=%{y}<extra></extra>",
         "legendgroup": "MZ2013A107",
         "line": {
          "color": "#19d3f3",
          "dash": "solid"
         },
         "marker": {
          "symbol": "circle"
         },
         "mode": "lines+markers",
         "name": "MZ2013A107",
         "orientation": "v",
         "showlegend": false,
         "type": "scatter",
         "x": [
          1999,
          2000,
          2001,
          2002,
          2003,
          2004,
          2005,
          2006,
          2007,
          2008,
          2009,
          2010,
          2011,
          2012,
          2013,
          2014,
          2015,
          2016,
          2017,
          2018
         ],
         "xaxis": "x",
         "y": [
          null,
          0.959582164601525,
          0.9345972148594676,
          1.0158353899285466,
          0.7524905303011532,
          1.1399065026926036,
          1.2375361525018056,
          0.9694664389618592,
          1.242971393228932,
          1.2771491025395303,
          1.4040634037154611,
          1.9484735622745537,
          null,
          0.8058309455587392,
          null,
          0.7486871717929482,
          null,
          null,
          null,
          null
         ],
         "yaxis": "y"
        },
        {
         "connectgaps": false,
         "hovertemplate": "fnid=MZ2013A108<br>indicator=production<br>year=%{x}<br>value=%{y}<extra></extra>",
         "legendgroup": "MZ2013A108",
         "line": {
          "color": "#FF6692",
          "dash": "solid"
         },
         "marker": {
          "symbol": "circle"
         },
         "mode": "lines+markers",
         "name": "MZ2013A108",
         "orientation": "v",
         "showlegend": true,
         "type": "scatter",
         "x": [
          1999,
          2000,
          2001,
          2002,
          2003,
          2004,
          2005,
          2006,
          2007,
          2008,
          2009,
          2010,
          2011,
          2012,
          2013,
          2014,
          2015,
          2016,
          2017,
          2018
         ],
         "xaxis": "x3",
         "y": [
          96917,
          121640.76832304,
          134327.48335291,
          175233,
          199555.71018736,
          204848.38029743,
          220260.12112411,
          222590,
          240247,
          260798,
          291197,
          351209,
          373432,
          143761,
          null,
          137817,
          null,
          null,
          null,
          241030
         ],
         "yaxis": "y3"
        },
        {
         "connectgaps": false,
         "hovertemplate": "fnid=MZ2013A108<br>indicator=area<br>year=%{x}<br>value=%{y}<extra></extra>",
         "legendgroup": "MZ2013A108",
         "line": {
          "color": "#FF6692",
          "dash": "solid"
         },
         "marker": {
          "symbol": "circle"
         },
         "mode": "lines+markers",
         "name": "MZ2013A108",
         "orientation": "v",
         "showlegend": false,
         "type": "scatter",
         "x": [
          1999,
          2000,
          2001,
          2002,
          2003,
          2004,
          2005,
          2006,
          2007,
          2008,
          2009,
          2010,
          2011,
          2012,
          2013,
          2014,
          2015,
          2016,
          2017,
          2018
         ],
         "xaxis": "x2",
         "y": [
          101561,
          115864.15513201,
          132334.0404904,
          135855.98376959,
          139357.65873682,
          143244.87741887,
          147881.82436668,
          151527.5168718,
          164801.33516257,
          168425.13823544,
          174064.38130946,
          148640,
          null,
          154000,
          null,
          128200,
          null,
          null,
          null,
          null
         ],
         "yaxis": "y2"
        },
        {
         "connectgaps": false,
         "hovertemplate": "fnid=MZ2013A108<br>indicator=yield<br>year=%{x}<br>value=%{y}<extra></extra>",
         "legendgroup": "MZ2013A108",
         "line": {
          "color": "#FF6692",
          "dash": "solid"
         },
         "marker": {
          "symbol": "circle"
         },
         "mode": "lines+markers",
         "name": "MZ2013A108",
         "orientation": "v",
         "showlegend": false,
         "type": "scatter",
         "x": [
          1999,
          2000,
          2001,
          2002,
          2003,
          2004,
          2005,
          2006,
          2007,
          2008,
          2009,
          2010,
          2011,
          2012,
          2013,
          2014,
          2015,
          2016,
          2017,
          2018
         ],
         "xaxis": "x",
         "y": [
          0.9542737861974576,
          1.049856775673619,
          1.0150637194717456,
          1.2898438120855458,
          1.4319680166572353,
          1.4300572836431835,
          1.4894333503620063,
          1.4689741150336573,
          1.4577976553588343,
          1.5484505622636495,
          1.6729269814385288,
          2.3628162002152853,
          null,
          0.933512987012987,
          null,
          1.075015600624025,
          null,
          null,
          null,
          null
         ],
         "yaxis": "y"
        },
        {
         "connectgaps": false,
         "hovertemplate": "fnid=MZ2013A109<br>indicator=production<br>year=%{x}<br>value=%{y}<extra></extra>",
         "legendgroup": "MZ2013A109",
         "line": {
          "color": "#B6E880",
          "dash": "solid"
         },
         "marker": {
          "symbol": "circle"
         },
         "mode": "lines+markers",
         "name": "MZ2013A109",
         "orientation": "v",
         "showlegend": true,
         "type": "scatter",
         "x": [
          1999,
          2000,
          2001,
          2002,
          2003,
          2004,
          2005,
          2006,
          2007,
          2008,
          2009,
          2010,
          2011,
          2012,
          2013,
          2014,
          2015,
          2016,
          2017,
          2018
         ],
         "xaxis": "x3",
         "y": [
          114113,
          74567.61474421,
          79667.91380329,
          76091,
          80149.51011621,
          86409.58451478,
          52651,
          102489,
          80157,
          82361,
          93360,
          198089,
          205506,
          118346,
          null,
          146853,
          null,
          null,
          null,
          198400
         ],
         "yaxis": "y3"
        },
        {
         "connectgaps": false,
         "hovertemplate": "fnid=MZ2013A109<br>indicator=area<br>year=%{x}<br>value=%{y}<extra></extra>",
         "legendgroup": "MZ2013A109",
         "line": {
          "color": "#B6E880",
          "dash": "solid"
         },
         "marker": {
          "symbol": "circle"
         },
         "mode": "lines+markers",
         "name": "MZ2013A109",
         "orientation": "v",
         "showlegend": false,
         "type": "scatter",
         "x": [
          1999,
          2000,
          2001,
          2002,
          2003,
          2004,
          2005,
          2006,
          2007,
          2008,
          2009,
          2010,
          2011,
          2012,
          2013,
          2014,
          2015,
          2016,
          2017,
          2018
         ],
         "xaxis": "x2",
         "y": [
          null,
          67746.90472587,
          80662.91728301,
          85378.76383117,
          87567.10030524,
          88419.82041316,
          89267.8316126,
          104155.27174584,
          105566.98087852,
          107703.76555231,
          109673.21072307,
          143511,
          null,
          191300,
          null,
          192500,
          null,
          null,
          null,
          null
         ],
         "yaxis": "y2"
        },
        {
         "connectgaps": false,
         "hovertemplate": "fnid=MZ2013A109<br>indicator=yield<br>year=%{x}<br>value=%{y}<extra></extra>",
         "legendgroup": "MZ2013A109",
         "line": {
          "color": "#B6E880",
          "dash": "solid"
         },
         "marker": {
          "symbol": "circle"
         },
         "mode": "lines+markers",
         "name": "MZ2013A109",
         "orientation": "v",
         "showlegend": false,
         "type": "scatter",
         "x": [
          1999,
          2000,
          2001,
          2002,
          2003,
          2004,
          2005,
          2006,
          2007,
          2008,
          2009,
          2010,
          2011,
          2012,
          2013,
          2014,
          2015,
          2016,
          2017,
          2018
         ],
         "xaxis": "x",
         "y": [
          null,
          1.1006792863222197,
          0.9876646727736242,
          0.8912169324735616,
          0.9152924995440768,
          0.97726487241224,
          0.5898093305155225,
          0.9840020412033867,
          0.7592999187145435,
          0.7646993545457663,
          0.8512561945116969,
          1.3803053424476173,
          null,
          0.6186408782017773,
          null,
          0.7628727272727273,
          null,
          null,
          null,
          null
         ],
         "yaxis": "y"
        },
        {
         "connectgaps": false,
         "hovertemplate": "fnid=MZ2013A110<br>indicator=production<br>year=%{x}<br>value=%{y}<extra></extra>",
         "legendgroup": "MZ2013A110",
         "line": {
          "color": "#FF97FF",
          "dash": "solid"
         },
         "marker": {
          "symbol": "circle"
         },
         "mode": "lines+markers",
         "name": "MZ2013A110",
         "orientation": "v",
         "showlegend": true,
         "type": "scatter",
         "x": [
          1999,
          2000,
          2001,
          2002,
          2003,
          2004,
          2005,
          2006,
          2007,
          2008,
          2009,
          2010,
          2011,
          2012,
          2013,
          2014,
          2015,
          2016,
          2017,
          2018
         ],
         "xaxis": "x3",
         "y": [
          null,
          139985.59091107,
          151078.31770323,
          205199,
          182067.75165214,
          188188.26502252,
          173989,
          260331,
          237214,
          244507,
          261154,
          266923,
          270397,
          226912,
          null,
          253201,
          null,
          null,
          null,
          380400
         ],
         "yaxis": "y3"
        },
        {
         "connectgaps": false,
         "hovertemplate": "fnid=MZ2013A110<br>indicator=area<br>year=%{x}<br>value=%{y}<extra></extra>",
         "legendgroup": "MZ2013A110",
         "line": {
          "color": "#FF97FF",
          "dash": "solid"
         },
         "marker": {
          "symbol": "circle"
         },
         "mode": "lines+markers",
         "name": "MZ2013A110",
         "orientation": "v",
         "showlegend": false,
         "type": "scatter",
         "x": [
          1999,
          2000,
          2001,
          2002,
          2003,
          2004,
          2005,
          2006,
          2007,
          2008,
          2009,
          2010,
          2011,
          2012,
          2013,
          2014,
          2015,
          2016,
          2017,
          2018
         ],
         "xaxis": "x2",
         "y": [
          null,
          143673.3600176,
          159715.51754763,
          162249.8341455,
          158752.30791686,
          174675.21247654,
          176056.18485284,
          188976.4206791,
          191502.69876313,
          199780.24021254,
          208600.03286741,
          237466,
          null,
          261100,
          null,
          246300,
          null,
          null,
          null,
          null
         ],
         "yaxis": "y2"
        },
        {
         "connectgaps": false,
         "hovertemplate": "fnid=MZ2013A110<br>indicator=yield<br>year=%{x}<br>value=%{y}<extra></extra>",
         "legendgroup": "MZ2013A110",
         "line": {
          "color": "#FF97FF",
          "dash": "solid"
         },
         "marker": {
          "symbol": "circle"
         },
         "mode": "lines+markers",
         "name": "MZ2013A110",
         "orientation": "v",
         "showlegend": false,
         "type": "scatter",
         "x": [
          1999,
          2000,
          2001,
          2002,
          2003,
          2004,
          2005,
          2006,
          2007,
          2008,
          2009,
          2010,
          2011,
          2012,
          2013,
          2014,
          2015,
          2016,
          2017,
          2018
         ],
         "xaxis": "x",
         "y": [
          null,
          0.9743322693498764,
          0.9459213483008984,
          1.2647100755491971,
          1.146866801756926,
          1.0773610196569527,
          0.988258379820238,
          1.3775845635369868,
          1.2386979480294968,
          1.223879797821229,
          1.2519365237396405,
          1.1240472320247952,
          null,
          0.8690616621983914,
          null,
          1.028018676410881,
          null,
          null,
          null,
          null
         ],
         "yaxis": "y"
        },
        {
         "connectgaps": false,
         "hovertemplate": "fnid=MZ2013A111<br>indicator=production<br>year=%{x}<br>value=%{y}<extra></extra>",
         "legendgroup": "MZ2013A111",
         "line": {
          "color": "#FECB52",
          "dash": "solid"
         },
         "marker": {
          "symbol": "circle"
         },
         "mode": "lines+markers",
         "name": "MZ2013A111",
         "orientation": "v",
         "showlegend": true,
         "type": "scatter",
         "x": [
          1999,
          2000,
          2001,
          2002,
          2003,
          2004,
          2005,
          2006,
          2007,
          2008,
          2009,
          2010,
          2011,
          2012,
          2013,
          2014,
          2015,
          2016,
          2017,
          2018
         ],
         "xaxis": "x3",
         "y": [
          null,
          166786.9161951,
          194952.72903591,
          185198,
          298928,
          277623.10801519,
          249190.90090477,
          213241,
          303861,
          313627,
          345059,
          330165,
          351956,
          178848,
          null,
          246798,
          null,
          null,
          null,
          299900
         ],
         "yaxis": "y3"
        },
        {
         "connectgaps": false,
         "hovertemplate": "fnid=MZ2013A111<br>indicator=area<br>year=%{x}<br>value=%{y}<extra></extra>",
         "legendgroup": "MZ2013A111",
         "line": {
          "color": "#FECB52",
          "dash": "solid"
         },
         "marker": {
          "symbol": "circle"
         },
         "mode": "lines+markers",
         "name": "MZ2013A111",
         "orientation": "v",
         "showlegend": false,
         "type": "scatter",
         "x": [
          1999,
          2000,
          2001,
          2002,
          2003,
          2004,
          2005,
          2006,
          2007,
          2008,
          2009,
          2010,
          2011,
          2012,
          2013,
          2014,
          2015,
          2016,
          2017,
          2018
         ],
         "xaxis": "x2",
         "y": [
          null,
          189961.56900058,
          202081.06405291,
          210184.49729754,
          214712.50961214,
          220887.99846876,
          221424.41981503,
          231101.03489402,
          234286.38788304,
          240291.88839311,
          247255.8562009,
          193355,
          null,
          268100,
          null,
          342200,
          null,
          null,
          null,
          null
         ],
         "yaxis": "y2"
        },
        {
         "connectgaps": false,
         "hovertemplate": "fnid=MZ2013A111<br>indicator=yield<br>year=%{x}<br>value=%{y}<extra></extra>",
         "legendgroup": "MZ2013A111",
         "line": {
          "color": "#FECB52",
          "dash": "solid"
         },
         "marker": {
          "symbol": "circle"
         },
         "mode": "lines+markers",
         "name": "MZ2013A111",
         "orientation": "v",
         "showlegend": false,
         "type": "scatter",
         "x": [
          1999,
          2000,
          2001,
          2002,
          2003,
          2004,
          2005,
          2006,
          2007,
          2008,
          2009,
          2010,
          2011,
          2012,
          2013,
          2014,
          2015,
          2016,
          2017,
          2018
         ],
         "xaxis": "x",
         "y": [
          null,
          0.8780034670833381,
          0.9647253687503664,
          0.8811211215917187,
          1.3922244239051935,
          1.2568501228664717,
          1.1253993625135617,
          0.9227176334272568,
          1.2969639540120994,
          1.3051917902734862,
          1.3955544078989706,
          1.7075586356701404,
          null,
          0.667094367773219,
          null,
          0.7212098188194038,
          null,
          null,
          null,
          null
         ],
         "yaxis": "y"
        }
       ],
       "layout": {
        "annotations": [
         {
          "showarrow": false,
          "text": "",
          "textangle": 90,
          "x": 0.98,
          "xanchor": "left",
          "xref": "paper",
          "y": 0.16333333333333333,
          "yanchor": "middle",
          "yref": "paper"
         },
         {
          "showarrow": false,
          "text": "",
          "textangle": 90,
          "x": 0.98,
          "xanchor": "left",
          "xref": "paper",
          "y": 0.5,
          "yanchor": "middle",
          "yref": "paper"
         },
         {
          "showarrow": false,
          "text": "",
          "textangle": 90,
          "x": 0.98,
          "xanchor": "left",
          "xref": "paper",
          "y": 0.8366666666666667,
          "yanchor": "middle",
          "yref": "paper"
         },
         {
          "align": "left",
          "font": {
           "color": "dimgrey",
           "family": "arial",
           "size": 15
          },
          "showarrow": false,
          "text": "Production-Area-Yield time-series of MZ - Maize - Main",
          "x": -0.014,
          "xref": "paper",
          "y": -0.14,
          "yref": "paper"
         }
        ],
        "font": {
         "color": "black",
         "family": "arial",
         "size": 16
        },
        "height": 600,
        "legend": {
         "font": {
          "size": 14
         },
         "title": {
          "text": "FNID"
         },
         "tracegroupgap": 0,
         "x": 1,
         "xanchor": "left",
         "y": 1,
         "yanchor": "top"
        },
        "margin": {
         "b": 25,
         "l": 0,
         "r": 0,
         "t": 0
        },
        "template": {
         "data": {
          "bar": [
           {
            "error_x": {
             "color": "#2a3f5f"
            },
            "error_y": {
             "color": "#2a3f5f"
            },
            "marker": {
             "line": {
              "color": "#E5ECF6",
              "width": 0.5
             },
             "pattern": {
              "fillmode": "overlay",
              "size": 10,
              "solidity": 0.2
             }
            },
            "type": "bar"
           }
          ],
          "barpolar": [
           {
            "marker": {
             "line": {
              "color": "#E5ECF6",
              "width": 0.5
             },
             "pattern": {
              "fillmode": "overlay",
              "size": 10,
              "solidity": 0.2
             }
            },
            "type": "barpolar"
           }
          ],
          "carpet": [
           {
            "aaxis": {
             "endlinecolor": "#2a3f5f",
             "gridcolor": "white",
             "linecolor": "white",
             "minorgridcolor": "white",
             "startlinecolor": "#2a3f5f"
            },
            "baxis": {
             "endlinecolor": "#2a3f5f",
             "gridcolor": "white",
             "linecolor": "white",
             "minorgridcolor": "white",
             "startlinecolor": "#2a3f5f"
            },
            "type": "carpet"
           }
          ],
          "choropleth": [
           {
            "colorbar": {
             "outlinewidth": 0,
             "ticks": ""
            },
            "type": "choropleth"
           }
          ],
          "contour": [
           {
            "colorbar": {
             "outlinewidth": 0,
             "ticks": ""
            },
            "colorscale": [
             [
              0,
              "#0d0887"
             ],
             [
              0.1111111111111111,
              "#46039f"
             ],
             [
              0.2222222222222222,
              "#7201a8"
             ],
             [
              0.3333333333333333,
              "#9c179e"
             ],
             [
              0.4444444444444444,
              "#bd3786"
             ],
             [
              0.5555555555555556,
              "#d8576b"
             ],
             [
              0.6666666666666666,
              "#ed7953"
             ],
             [
              0.7777777777777778,
              "#fb9f3a"
             ],
             [
              0.8888888888888888,
              "#fdca26"
             ],
             [
              1,
              "#f0f921"
             ]
            ],
            "type": "contour"
           }
          ],
          "contourcarpet": [
           {
            "colorbar": {
             "outlinewidth": 0,
             "ticks": ""
            },
            "type": "contourcarpet"
           }
          ],
          "heatmap": [
           {
            "colorbar": {
             "outlinewidth": 0,
             "ticks": ""
            },
            "colorscale": [
             [
              0,
              "#0d0887"
             ],
             [
              0.1111111111111111,
              "#46039f"
             ],
             [
              0.2222222222222222,
              "#7201a8"
             ],
             [
              0.3333333333333333,
              "#9c179e"
             ],
             [
              0.4444444444444444,
              "#bd3786"
             ],
             [
              0.5555555555555556,
              "#d8576b"
             ],
             [
              0.6666666666666666,
              "#ed7953"
             ],
             [
              0.7777777777777778,
              "#fb9f3a"
             ],
             [
              0.8888888888888888,
              "#fdca26"
             ],
             [
              1,
              "#f0f921"
             ]
            ],
            "type": "heatmap"
           }
          ],
          "heatmapgl": [
           {
            "colorbar": {
             "outlinewidth": 0,
             "ticks": ""
            },
            "colorscale": [
             [
              0,
              "#0d0887"
             ],
             [
              0.1111111111111111,
              "#46039f"
             ],
             [
              0.2222222222222222,
              "#7201a8"
             ],
             [
              0.3333333333333333,
              "#9c179e"
             ],
             [
              0.4444444444444444,
              "#bd3786"
             ],
             [
              0.5555555555555556,
              "#d8576b"
             ],
             [
              0.6666666666666666,
              "#ed7953"
             ],
             [
              0.7777777777777778,
              "#fb9f3a"
             ],
             [
              0.8888888888888888,
              "#fdca26"
             ],
             [
              1,
              "#f0f921"
             ]
            ],
            "type": "heatmapgl"
           }
          ],
          "histogram": [
           {
            "marker": {
             "pattern": {
              "fillmode": "overlay",
              "size": 10,
              "solidity": 0.2
             }
            },
            "type": "histogram"
           }
          ],
          "histogram2d": [
           {
            "colorbar": {
             "outlinewidth": 0,
             "ticks": ""
            },
            "colorscale": [
             [
              0,
              "#0d0887"
             ],
             [
              0.1111111111111111,
              "#46039f"
             ],
             [
              0.2222222222222222,
              "#7201a8"
             ],
             [
              0.3333333333333333,
              "#9c179e"
             ],
             [
              0.4444444444444444,
              "#bd3786"
             ],
             [
              0.5555555555555556,
              "#d8576b"
             ],
             [
              0.6666666666666666,
              "#ed7953"
             ],
             [
              0.7777777777777778,
              "#fb9f3a"
             ],
             [
              0.8888888888888888,
              "#fdca26"
             ],
             [
              1,
              "#f0f921"
             ]
            ],
            "type": "histogram2d"
           }
          ],
          "histogram2dcontour": [
           {
            "colorbar": {
             "outlinewidth": 0,
             "ticks": ""
            },
            "colorscale": [
             [
              0,
              "#0d0887"
             ],
             [
              0.1111111111111111,
              "#46039f"
             ],
             [
              0.2222222222222222,
              "#7201a8"
             ],
             [
              0.3333333333333333,
              "#9c179e"
             ],
             [
              0.4444444444444444,
              "#bd3786"
             ],
             [
              0.5555555555555556,
              "#d8576b"
             ],
             [
              0.6666666666666666,
              "#ed7953"
             ],
             [
              0.7777777777777778,
              "#fb9f3a"
             ],
             [
              0.8888888888888888,
              "#fdca26"
             ],
             [
              1,
              "#f0f921"
             ]
            ],
            "type": "histogram2dcontour"
           }
          ],
          "mesh3d": [
           {
            "colorbar": {
             "outlinewidth": 0,
             "ticks": ""
            },
            "type": "mesh3d"
           }
          ],
          "parcoords": [
           {
            "line": {
             "colorbar": {
              "outlinewidth": 0,
              "ticks": ""
             }
            },
            "type": "parcoords"
           }
          ],
          "pie": [
           {
            "automargin": true,
            "type": "pie"
           }
          ],
          "scatter": [
           {
            "fillpattern": {
             "fillmode": "overlay",
             "size": 10,
             "solidity": 0.2
            },
            "type": "scatter"
           }
          ],
          "scatter3d": [
           {
            "line": {
             "colorbar": {
              "outlinewidth": 0,
              "ticks": ""
             }
            },
            "marker": {
             "colorbar": {
              "outlinewidth": 0,
              "ticks": ""
             }
            },
            "type": "scatter3d"
           }
          ],
          "scattercarpet": [
           {
            "marker": {
             "colorbar": {
              "outlinewidth": 0,
              "ticks": ""
             }
            },
            "type": "scattercarpet"
           }
          ],
          "scattergeo": [
           {
            "marker": {
             "colorbar": {
              "outlinewidth": 0,
              "ticks": ""
             }
            },
            "type": "scattergeo"
           }
          ],
          "scattergl": [
           {
            "marker": {
             "colorbar": {
              "outlinewidth": 0,
              "ticks": ""
             }
            },
            "type": "scattergl"
           }
          ],
          "scattermapbox": [
           {
            "marker": {
             "colorbar": {
              "outlinewidth": 0,
              "ticks": ""
             }
            },
            "type": "scattermapbox"
           }
          ],
          "scatterpolar": [
           {
            "marker": {
             "colorbar": {
              "outlinewidth": 0,
              "ticks": ""
             }
            },
            "type": "scatterpolar"
           }
          ],
          "scatterpolargl": [
           {
            "marker": {
             "colorbar": {
              "outlinewidth": 0,
              "ticks": ""
             }
            },
            "type": "scatterpolargl"
           }
          ],
          "scatterternary": [
           {
            "marker": {
             "colorbar": {
              "outlinewidth": 0,
              "ticks": ""
             }
            },
            "type": "scatterternary"
           }
          ],
          "surface": [
           {
            "colorbar": {
             "outlinewidth": 0,
             "ticks": ""
            },
            "colorscale": [
             [
              0,
              "#0d0887"
             ],
             [
              0.1111111111111111,
              "#46039f"
             ],
             [
              0.2222222222222222,
              "#7201a8"
             ],
             [
              0.3333333333333333,
              "#9c179e"
             ],
             [
              0.4444444444444444,
              "#bd3786"
             ],
             [
              0.5555555555555556,
              "#d8576b"
             ],
             [
              0.6666666666666666,
              "#ed7953"
             ],
             [
              0.7777777777777778,
              "#fb9f3a"
             ],
             [
              0.8888888888888888,
              "#fdca26"
             ],
             [
              1,
              "#f0f921"
             ]
            ],
            "type": "surface"
           }
          ],
          "table": [
           {
            "cells": {
             "fill": {
              "color": "#EBF0F8"
             },
             "line": {
              "color": "white"
             }
            },
            "header": {
             "fill": {
              "color": "#C8D4E3"
             },
             "line": {
              "color": "white"
             }
            },
            "type": "table"
           }
          ]
         },
         "layout": {
          "annotationdefaults": {
           "arrowcolor": "#2a3f5f",
           "arrowhead": 0,
           "arrowwidth": 1
          },
          "autotypenumbers": "strict",
          "coloraxis": {
           "colorbar": {
            "outlinewidth": 0,
            "ticks": ""
           }
          },
          "colorscale": {
           "diverging": [
            [
             0,
             "#8e0152"
            ],
            [
             0.1,
             "#c51b7d"
            ],
            [
             0.2,
             "#de77ae"
            ],
            [
             0.3,
             "#f1b6da"
            ],
            [
             0.4,
             "#fde0ef"
            ],
            [
             0.5,
             "#f7f7f7"
            ],
            [
             0.6,
             "#e6f5d0"
            ],
            [
             0.7,
             "#b8e186"
            ],
            [
             0.8,
             "#7fbc41"
            ],
            [
             0.9,
             "#4d9221"
            ],
            [
             1,
             "#276419"
            ]
           ],
           "sequential": [
            [
             0,
             "#0d0887"
            ],
            [
             0.1111111111111111,
             "#46039f"
            ],
            [
             0.2222222222222222,
             "#7201a8"
            ],
            [
             0.3333333333333333,
             "#9c179e"
            ],
            [
             0.4444444444444444,
             "#bd3786"
            ],
            [
             0.5555555555555556,
             "#d8576b"
            ],
            [
             0.6666666666666666,
             "#ed7953"
            ],
            [
             0.7777777777777778,
             "#fb9f3a"
            ],
            [
             0.8888888888888888,
             "#fdca26"
            ],
            [
             1,
             "#f0f921"
            ]
           ],
           "sequentialminus": [
            [
             0,
             "#0d0887"
            ],
            [
             0.1111111111111111,
             "#46039f"
            ],
            [
             0.2222222222222222,
             "#7201a8"
            ],
            [
             0.3333333333333333,
             "#9c179e"
            ],
            [
             0.4444444444444444,
             "#bd3786"
            ],
            [
             0.5555555555555556,
             "#d8576b"
            ],
            [
             0.6666666666666666,
             "#ed7953"
            ],
            [
             0.7777777777777778,
             "#fb9f3a"
            ],
            [
             0.8888888888888888,
             "#fdca26"
            ],
            [
             1,
             "#f0f921"
            ]
           ]
          },
          "colorway": [
           "#636efa",
           "#EF553B",
           "#00cc96",
           "#ab63fa",
           "#FFA15A",
           "#19d3f3",
           "#FF6692",
           "#B6E880",
           "#FF97FF",
           "#FECB52"
          ],
          "font": {
           "color": "#2a3f5f"
          },
          "geo": {
           "bgcolor": "white",
           "lakecolor": "white",
           "landcolor": "#E5ECF6",
           "showlakes": true,
           "showland": true,
           "subunitcolor": "white"
          },
          "hoverlabel": {
           "align": "left"
          },
          "hovermode": "closest",
          "mapbox": {
           "style": "light"
          },
          "paper_bgcolor": "white",
          "plot_bgcolor": "#E5ECF6",
          "polar": {
           "angularaxis": {
            "gridcolor": "white",
            "linecolor": "white",
            "ticks": ""
           },
           "bgcolor": "#E5ECF6",
           "radialaxis": {
            "gridcolor": "white",
            "linecolor": "white",
            "ticks": ""
           }
          },
          "scene": {
           "xaxis": {
            "backgroundcolor": "#E5ECF6",
            "gridcolor": "white",
            "gridwidth": 2,
            "linecolor": "white",
            "showbackground": true,
            "ticks": "",
            "zerolinecolor": "white"
           },
           "yaxis": {
            "backgroundcolor": "#E5ECF6",
            "gridcolor": "white",
            "gridwidth": 2,
            "linecolor": "white",
            "showbackground": true,
            "ticks": "",
            "zerolinecolor": "white"
           },
           "zaxis": {
            "backgroundcolor": "#E5ECF6",
            "gridcolor": "white",
            "gridwidth": 2,
            "linecolor": "white",
            "showbackground": true,
            "ticks": "",
            "zerolinecolor": "white"
           }
          },
          "shapedefaults": {
           "line": {
            "color": "#2a3f5f"
           }
          },
          "ternary": {
           "aaxis": {
            "gridcolor": "white",
            "linecolor": "white",
            "ticks": ""
           },
           "baxis": {
            "gridcolor": "white",
            "linecolor": "white",
            "ticks": ""
           },
           "bgcolor": "#E5ECF6",
           "caxis": {
            "gridcolor": "white",
            "linecolor": "white",
            "ticks": ""
           }
          },
          "title": {
           "x": 0.05
          },
          "xaxis": {
           "automargin": true,
           "gridcolor": "white",
           "linecolor": "white",
           "ticks": "",
           "title": {
            "standoff": 15
           },
           "zerolinecolor": "white",
           "zerolinewidth": 2
          },
          "yaxis": {
           "automargin": true,
           "gridcolor": "white",
           "linecolor": "white",
           "ticks": "",
           "title": {
            "standoff": 15
           },
           "zerolinecolor": "white",
           "zerolinewidth": 2
          }
         }
        },
        "width": 900,
        "xaxis": {
         "anchor": "y",
         "domain": [
          0,
          0.98
         ],
         "dtick": 1,
         "range": [
          1999,
          2018
         ],
         "title": {
          "text": ""
         }
        },
        "xaxis2": {
         "anchor": "y2",
         "domain": [
          0,
          0.98
         ],
         "dtick": 1,
         "matches": "x",
         "showticklabels": false
        },
        "xaxis3": {
         "anchor": "y3",
         "domain": [
          0,
          0.98
         ],
         "dtick": 1,
         "matches": "x",
         "showticklabels": false
        },
        "yaxis": {
         "anchor": "x",
         "domain": [
          0,
          0.32666666666666666
         ],
         "title": {
          "text": "Yield (mt/ha)"
         }
        },
        "yaxis2": {
         "anchor": "x2",
         "domain": [
          0.33666666666666667,
          0.6633333333333333
         ],
         "title": {
          "text": "Area (ha)"
         }
        },
        "yaxis3": {
         "anchor": "x3",
         "domain": [
          0.6733333333333333,
          1
         ],
         "title": {
          "text": "Production (mt)"
         }
        }
       }
      }
     },
     "metadata": {},
     "output_type": "display_data"
    },
    {
     "name": "stdout",
     "output_type": "stream",
     "text": [
      "../figures/MZ_line_pay_Sorghum_Main.png is saved.\n"
     ]
    },
    {
     "data": {
      "application/vnd.plotly.v1+json": {
       "config": {
        "plotlyServerURL": "https://plot.ly"
       },
       "data": [
        {
         "connectgaps": false,
         "hovertemplate": "fnid=MZ2013A101<br>indicator=production<br>year=%{x}<br>value=%{y}<extra></extra>",
         "legendgroup": "MZ2013A101",
         "line": {
          "color": "#636efa",
          "dash": "solid"
         },
         "marker": {
          "symbol": "circle"
         },
         "mode": "lines+markers",
         "name": "MZ2013A101",
         "orientation": "v",
         "showlegend": true,
         "type": "scatter",
         "x": [
          1999,
          2000,
          2001,
          2002,
          2003,
          2004,
          2005,
          2006,
          2007,
          2008,
          2009,
          2010,
          2011,
          2012,
          2013,
          2014,
          2015,
          2016,
          2017,
          2018
         ],
         "xaxis": "x3",
         "y": [
          44662,
          28605.77052243,
          36931.1967901,
          24903,
          48164.77358763,
          49304.86497097,
          30477,
          25878,
          17747,
          16800,
          61941,
          65255,
          68941,
          17595,
          null,
          22873,
          null,
          null,
          null,
          34180
         ],
         "yaxis": "y3"
        },
        {
         "connectgaps": false,
         "hovertemplate": "fnid=MZ2013A101<br>indicator=area<br>year=%{x}<br>value=%{y}<extra></extra>",
         "legendgroup": "MZ2013A101",
         "line": {
          "color": "#636efa",
          "dash": "solid"
         },
         "marker": {
          "symbol": "circle"
         },
         "mode": "lines+markers",
         "name": "MZ2013A101",
         "orientation": "v",
         "showlegend": false,
         "type": "scatter",
         "x": [
          1999,
          2000,
          2001,
          2002,
          2003,
          2004,
          2005,
          2006,
          2007,
          2008,
          2009,
          2010,
          2011,
          2012,
          2013,
          2014,
          2015,
          2016,
          2017,
          2018
         ],
         "xaxis": "x2",
         "y": [
          63299,
          56074.92259299,
          65934.95855376,
          55500,
          67517.29897426,
          null,
          73700,
          60500,
          57100,
          50700,
          87469.37618088,
          43377,
          null,
          40900,
          null,
          53800,
          null,
          null,
          null,
          null
         ],
         "yaxis": "y2"
        },
        {
         "connectgaps": false,
         "hovertemplate": "fnid=MZ2013A101<br>indicator=yield<br>year=%{x}<br>value=%{y}<extra></extra>",
         "legendgroup": "MZ2013A101",
         "line": {
          "color": "#636efa",
          "dash": "solid"
         },
         "marker": {
          "symbol": "circle"
         },
         "mode": "lines+markers",
         "name": "MZ2013A101",
         "orientation": "v",
         "showlegend": false,
         "type": "scatter",
         "x": [
          1999,
          2000,
          2001,
          2002,
          2003,
          2004,
          2005,
          2006,
          2007,
          2008,
          2009,
          2010,
          2011,
          2012,
          2013,
          2014,
          2015,
          2016,
          2017,
          2018
         ],
         "xaxis": "x",
         "y": [
          0.7055719679615792,
          0.510134819624451,
          0.560115568435342,
          0.4487027027027027,
          0.7133693782091627,
          null,
          0.4135278154681139,
          0.4277355371900826,
          0.3108056042031523,
          0.3313609467455621,
          0.7081449840445956,
          1.504368674643244,
          null,
          0.4301955990220049,
          null,
          0.4251486988847583,
          null,
          null,
          null,
          null
         ],
         "yaxis": "y"
        },
        {
         "connectgaps": false,
         "hovertemplate": "fnid=MZ2013A102<br>indicator=production<br>year=%{x}<br>value=%{y}<extra></extra>",
         "legendgroup": "MZ2013A102",
         "line": {
          "color": "#EF553B",
          "dash": "solid"
         },
         "marker": {
          "symbol": "circle"
         },
         "mode": "lines+markers",
         "name": "MZ2013A102",
         "orientation": "v",
         "showlegend": true,
         "type": "scatter",
         "x": [
          1999,
          2000,
          2001,
          2002,
          2003,
          2004,
          2005,
          2006,
          2007,
          2008,
          2009,
          2010,
          2011,
          2012,
          2013,
          2014,
          2015,
          2016,
          2017,
          2018
         ],
         "xaxis": "x3",
         "y": [
          2975,
          4056.32946046,
          1227.9519539,
          119,
          4046.88791154,
          4354.63406603,
          249,
          637,
          1460,
          1495,
          1574,
          1416,
          1558,
          104,
          null,
          144,
          null,
          null,
          null,
          200
         ],
         "yaxis": "y3"
        },
        {
         "connectgaps": false,
         "hovertemplate": "fnid=MZ2013A102<br>indicator=area<br>year=%{x}<br>value=%{y}<extra></extra>",
         "legendgroup": "MZ2013A102",
         "line": {
          "color": "#EF553B",
          "dash": "solid"
         },
         "marker": {
          "symbol": "circle"
         },
         "mode": "lines+markers",
         "name": "MZ2013A102",
         "orientation": "v",
         "showlegend": false,
         "type": "scatter",
         "x": [
          1999,
          2000,
          2001,
          2002,
          2003,
          2004,
          2005,
          2006,
          2007,
          2008,
          2009,
          2010,
          2011,
          2012,
          2013,
          2014,
          2015,
          2016,
          2017,
          2018
         ],
         "xaxis": "x2",
         "y": [
          9919,
          10140.82365114,
          15341.44785043,
          13054.67845761,
          13489.62637179,
          15453.38283507,
          1880.33140451,
          3415.29176552,
          2652.61797504,
          3496.19464934,
          3666.30898286,
          2414,
          null,
          1200,
          null,
          700,
          null,
          null,
          null,
          null
         ],
         "yaxis": "y2"
        },
        {
         "connectgaps": false,
         "hovertemplate": "fnid=MZ2013A102<br>indicator=yield<br>year=%{x}<br>value=%{y}<extra></extra>",
         "legendgroup": "MZ2013A102",
         "line": {
          "color": "#EF553B",
          "dash": "solid"
         },
         "marker": {
          "symbol": "circle"
         },
         "mode": "lines+markers",
         "name": "MZ2013A102",
         "orientation": "v",
         "showlegend": false,
         "type": "scatter",
         "x": [
          1999,
          2000,
          2001,
          2002,
          2003,
          2004,
          2005,
          2006,
          2007,
          2008,
          2009,
          2010,
          2011,
          2012,
          2013,
          2014,
          2015,
          2016,
          2017,
          2018
         ],
         "xaxis": "x",
         "y": [
          0.2999294283697953,
          0.4000000000003945,
          0.0800414645261517,
          0.0091155060146756,
          0.3000000000002223,
          0.281791638277903,
          0.1324234650353497,
          0.1865140795380955,
          0.550399648097832,
          0.4276077707178635,
          0.4293146069680576,
          0.5865782932891467,
          null,
          0.0866666666666666,
          null,
          0.2057142857142857,
          null,
          null,
          null,
          null
         ],
         "yaxis": "y"
        },
        {
         "connectgaps": false,
         "hovertemplate": "fnid=MZ2013A103<br>indicator=production<br>year=%{x}<br>value=%{y}<extra></extra>",
         "legendgroup": "MZ2013A103",
         "line": {
          "color": "#00cc96",
          "dash": "solid"
         },
         "marker": {
          "symbol": "circle"
         },
         "mode": "lines+markers",
         "name": "MZ2013A103",
         "orientation": "v",
         "showlegend": true,
         "type": "scatter",
         "x": [
          1999,
          2000,
          2001,
          2002,
          2003,
          2004,
          2005,
          2006,
          2007,
          2008,
          2009,
          2010,
          2011,
          2012,
          2013,
          2014,
          2015,
          2016,
          2017,
          2018
         ],
         "xaxis": "x3",
         "y": [
          12437,
          12327.47833636,
          13171.62263978,
          484,
          448,
          12453.2686987,
          369,
          2260,
          10117,
          10476,
          10856,
          10085,
          10377,
          817,
          null,
          767,
          null,
          null,
          null,
          1600
         ],
         "yaxis": "y3"
        },
        {
         "connectgaps": false,
         "hovertemplate": "fnid=MZ2013A103<br>indicator=area<br>year=%{x}<br>value=%{y}<extra></extra>",
         "legendgroup": "MZ2013A103",
         "line": {
          "color": "#00cc96",
          "dash": "solid"
         },
         "marker": {
          "symbol": "circle"
         },
         "mode": "lines+markers",
         "name": "MZ2013A103",
         "orientation": "v",
         "showlegend": false,
         "type": "scatter",
         "x": [
          1999,
          2000,
          2001,
          2002,
          2003,
          2004,
          2005,
          2006,
          2007,
          2008,
          2009,
          2010,
          2011,
          2012,
          2013,
          2014,
          2015,
          2016,
          2017,
          2018
         ],
         "xaxis": "x2",
         "y": [
          41457,
          23259.39308747,
          26343.24527955,
          14200,
          21762.95614406,
          24544.16863716,
          16246.94184146,
          25921.58651913,
          20237.88953607,
          26448.42609698,
          26826.73008199,
          11543,
          null,
          4800,
          null,
          3500,
          null,
          null,
          null,
          null
         ],
         "yaxis": "y2"
        },
        {
         "connectgaps": false,
         "hovertemplate": "fnid=MZ2013A103<br>indicator=yield<br>year=%{x}<br>value=%{y}<extra></extra>",
         "legendgroup": "MZ2013A103",
         "line": {
          "color": "#00cc96",
          "dash": "solid"
         },
         "marker": {
          "symbol": "circle"
         },
         "mode": "lines+markers",
         "name": "MZ2013A103",
         "orientation": "v",
         "showlegend": false,
         "type": "scatter",
         "x": [
          1999,
          2000,
          2001,
          2002,
          2003,
          2004,
          2005,
          2006,
          2007,
          2008,
          2009,
          2010,
          2011,
          2012,
          2013,
          2014,
          2015,
          2016,
          2017,
          2018
         ],
         "xaxis": "x",
         "y": [
          0.2999975878621222,
          0.5300000000000387,
          0.5000000000001898,
          0.0340845070422535,
          0.0205854387168021,
          0.507381972589843,
          0.0227119665719712,
          0.0871860215165507,
          0.4999039046027238,
          0.3960916222986969,
          0.4046710115925803,
          0.8736896820583904,
          null,
          0.1702083333333333,
          null,
          0.2191428571428571,
          null,
          null,
          null,
          null
         ],
         "yaxis": "y"
        },
        {
         "connectgaps": false,
         "hovertemplate": "fnid=MZ2013A104<br>indicator=production<br>year=%{x}<br>value=%{y}<extra></extra>",
         "legendgroup": "MZ2013A104",
         "line": {
          "color": "#ab63fa",
          "dash": "solid"
         },
         "marker": {
          "symbol": "circle"
         },
         "mode": "lines+markers",
         "name": "MZ2013A104",
         "orientation": "v",
         "showlegend": true,
         "type": "scatter",
         "x": [
          1999,
          2000,
          2001,
          2002,
          2003,
          2004,
          2005,
          2006,
          2007,
          2008,
          2009,
          2010,
          2011,
          2012,
          2013,
          2014,
          2015,
          2016,
          2017,
          2018
         ],
         "xaxis": "x3",
         "y": [
          null,
          23279.25779452,
          30707.71048456,
          19388,
          32189,
          29247.75486834,
          21425.38781478,
          45460,
          37350,
          39140,
          39928,
          40759,
          42966,
          21298,
          null,
          30922,
          null,
          null,
          null,
          41370
         ],
         "yaxis": "y3"
        },
        {
         "connectgaps": false,
         "hovertemplate": "fnid=MZ2013A104<br>indicator=area<br>year=%{x}<br>value=%{y}<extra></extra>",
         "legendgroup": "MZ2013A104",
         "line": {
          "color": "#ab63fa",
          "dash": "solid"
         },
         "marker": {
          "symbol": "circle"
         },
         "mode": "lines+markers",
         "name": "MZ2013A104",
         "orientation": "v",
         "showlegend": false,
         "type": "scatter",
         "x": [
          1999,
          2000,
          2001,
          2002,
          2003,
          2004,
          2005,
          2006,
          2007,
          2008,
          2009,
          2010,
          2011,
          2012,
          2013,
          2014,
          2015,
          2016,
          2017,
          2018
         ],
         "xaxis": "x2",
         "y": [
          null,
          34745.16088734,
          45832.40370829,
          46977.57784002,
          47628.345188,
          46213.71180558,
          34806.26570046,
          56949.94501396,
          57063.65476389,
          59814.96660451,
          63798.20113573,
          47465,
          null,
          40200,
          null,
          47300,
          null,
          null,
          null,
          null
         ],
         "yaxis": "y2"
        },
        {
         "connectgaps": false,
         "hovertemplate": "fnid=MZ2013A104<br>indicator=yield<br>year=%{x}<br>value=%{y}<extra></extra>",
         "legendgroup": "MZ2013A104",
         "line": {
          "color": "#ab63fa",
          "dash": "solid"
         },
         "marker": {
          "symbol": "circle"
         },
         "mode": "lines+markers",
         "name": "MZ2013A104",
         "orientation": "v",
         "showlegend": false,
         "type": "scatter",
         "x": [
          1999,
          2000,
          2001,
          2002,
          2003,
          2004,
          2005,
          2006,
          2007,
          2008,
          2009,
          2010,
          2011,
          2012,
          2013,
          2014,
          2015,
          2016,
          2017,
          2018
         ],
         "xaxis": "x",
         "y": [
          null,
          0.6700000000000633,
          0.6700000000001244,
          0.412707527536327,
          0.6758370435282317,
          0.6328804531301147,
          0.6155612325425891,
          0.7982448444657234,
          0.6545322088909586,
          0.6543512806550472,
          0.625848367026111,
          0.8587169493310861,
          null,
          0.5298009950248757,
          null,
          0.6537420718816067,
          null,
          null,
          null,
          null
         ],
         "yaxis": "y"
        },
        {
         "connectgaps": false,
         "hovertemplate": "fnid=MZ2013A105<br>indicator=production<br>year=%{x}<br>value=%{y}<extra></extra>",
         "legendgroup": "MZ2013A105",
         "line": {
          "color": "#FFA15A",
          "dash": "solid"
         },
         "marker": {
          "symbol": "circle"
         },
         "mode": "lines+markers",
         "name": "MZ2013A105",
         "orientation": "v",
         "showlegend": true,
         "type": "scatter",
         "x": [
          1999,
          2000,
          2001,
          2002,
          2003,
          2004,
          2005,
          2006,
          2007,
          2008,
          2009,
          2010,
          2011,
          2012,
          2013,
          2014,
          2015,
          2016,
          2017,
          2018
         ],
         "xaxis": "x3",
         "y": [
          45,
          266.53004673,
          479.72748032,
          626.64917585,
          437.97101104,
          450.93790338,
          null,
          null,
          null,
          null,
          null,
          null,
          null,
          11,
          null,
          32,
          null,
          null,
          null,
          210
         ],
         "yaxis": "y3"
        },
        {
         "connectgaps": false,
         "hovertemplate": "fnid=MZ2013A105<br>indicator=area<br>year=%{x}<br>value=%{y}<extra></extra>",
         "legendgroup": "MZ2013A105",
         "line": {
          "color": "#FFA15A",
          "dash": "solid"
         },
         "marker": {
          "symbol": "circle"
         },
         "mode": "lines+markers",
         "name": "MZ2013A105",
         "orientation": "v",
         "showlegend": false,
         "type": "scatter",
         "x": [
          1999,
          2000,
          2001,
          2002,
          2003,
          2004,
          2005,
          2006,
          2007,
          2008,
          2009,
          2010,
          2011,
          2012,
          2013,
          2014,
          2015,
          2016,
          2017,
          2018
         ],
         "xaxis": "x2",
         "y": [
          150,
          619.83731798,
          null,
          1362.28081706,
          1459.90337012,
          1452.73443313,
          null,
          1589.27657113,
          964.43554314,
          1591.90746882,
          null,
          58,
          null,
          100,
          null,
          100,
          null,
          null,
          null,
          null
         ],
         "yaxis": "y2"
        },
        {
         "connectgaps": false,
         "hovertemplate": "fnid=MZ2013A105<br>indicator=yield<br>year=%{x}<br>value=%{y}<extra></extra>",
         "legendgroup": "MZ2013A105",
         "line": {
          "color": "#FFA15A",
          "dash": "solid"
         },
         "marker": {
          "symbol": "circle"
         },
         "mode": "lines+markers",
         "name": "MZ2013A105",
         "orientation": "v",
         "showlegend": false,
         "type": "scatter",
         "x": [
          1999,
          2000,
          2001,
          2002,
          2003,
          2004,
          2005,
          2006,
          2007,
          2008,
          2009,
          2010,
          2011,
          2012,
          2013,
          2014,
          2015,
          2016,
          2017,
          2018
         ],
         "xaxis": "x",
         "y": [
          0.3,
          0.4299999999977413,
          null,
          0.4600000000017618,
          0.3000000000027399,
          0.3104062883733184,
          null,
          null,
          null,
          null,
          null,
          null,
          null,
          0.11,
          null,
          0.32,
          null,
          null,
          null,
          null
         ],
         "yaxis": "y"
        },
        {
         "connectgaps": false,
         "hovertemplate": "fnid=MZ2013A107<br>indicator=production<br>year=%{x}<br>value=%{y}<extra></extra>",
         "legendgroup": "MZ2013A107",
         "line": {
          "color": "#19d3f3",
          "dash": "solid"
         },
         "marker": {
          "symbol": "circle"
         },
         "mode": "lines+markers",
         "name": "MZ2013A107",
         "orientation": "v",
         "showlegend": true,
         "type": "scatter",
         "x": [
          1999,
          2000,
          2001,
          2002,
          2003,
          2004,
          2005,
          2006,
          2007,
          2008,
          2009,
          2010,
          2011,
          2012,
          2013,
          2014,
          2015,
          2016,
          2017,
          2018
         ],
         "xaxis": "x3",
         "y": [
          65311,
          63162.40348964,
          79057.71532264,
          43441,
          25580,
          84809.19317699,
          91902.93304676,
          32719,
          100648,
          102634,
          105810,
          108001,
          113142,
          26259,
          null,
          26185,
          null,
          null,
          null,
          51000
         ],
         "yaxis": "y3"
        },
        {
         "connectgaps": false,
         "hovertemplate": "fnid=MZ2013A107<br>indicator=area<br>year=%{x}<br>value=%{y}<extra></extra>",
         "legendgroup": "MZ2013A107",
         "line": {
          "color": "#19d3f3",
          "dash": "solid"
         },
         "marker": {
          "symbol": "circle"
         },
         "mode": "lines+markers",
         "name": "MZ2013A107",
         "orientation": "v",
         "showlegend": false,
         "type": "scatter",
         "x": [
          1999,
          2000,
          2001,
          2002,
          2003,
          2004,
          2005,
          2006,
          2007,
          2008,
          2009,
          2010,
          2011,
          2012,
          2013,
          2014,
          2015,
          2016,
          2017,
          2018
         ],
         "xaxis": "x2",
         "y": [
          105784,
          119159.17639556,
          121612.71588098,
          123414.4036078,
          125349.4318429,
          126811.64758564,
          132915.27675667,
          135711.8533738,
          138625.26096481,
          141618.1440601,
          151583.78881805,
          60658,
          null,
          61400,
          null,
          45200,
          null,
          null,
          null,
          null
         ],
         "yaxis": "y2"
        },
        {
         "connectgaps": false,
         "hovertemplate": "fnid=MZ2013A107<br>indicator=yield<br>year=%{x}<br>value=%{y}<extra></extra>",
         "legendgroup": "MZ2013A107",
         "line": {
          "color": "#19d3f3",
          "dash": "solid"
         },
         "marker": {
          "symbol": "circle"
         },
         "mode": "lines+markers",
         "name": "MZ2013A107",
         "orientation": "v",
         "showlegend": false,
         "type": "scatter",
         "x": [
          1999,
          2000,
          2001,
          2002,
          2003,
          2004,
          2005,
          2006,
          2007,
          2008,
          2009,
          2010,
          2011,
          2012,
          2013,
          2014,
          2015,
          2016,
          2017,
          2018
         ],
         "xaxis": "x",
         "y": [
          0.6173996067458217,
          0.530067472772441,
          0.6500777056900221,
          0.3519929500129631,
          0.2040695328564338,
          0.6687807846650333,
          0.6914399555064545,
          0.2410916893889874,
          0.7260437188684498,
          0.7247235209949096,
          0.6980297881787776,
          1.780490619539055,
          null,
          0.4276710097719869,
          null,
          0.5793141592920354,
          null,
          null,
          null,
          null
         ],
         "yaxis": "y"
        },
        {
         "connectgaps": false,
         "hovertemplate": "fnid=MZ2013A108<br>indicator=production<br>year=%{x}<br>value=%{y}<extra></extra>",
         "legendgroup": "MZ2013A108",
         "line": {
          "color": "#FF6692",
          "dash": "solid"
         },
         "marker": {
          "symbol": "circle"
         },
         "mode": "lines+markers",
         "name": "MZ2013A108",
         "orientation": "v",
         "showlegend": true,
         "type": "scatter",
         "x": [
          1999,
          2000,
          2001,
          2002,
          2003,
          2004,
          2005,
          2006,
          2007,
          2008,
          2009,
          2010,
          2011,
          2012,
          2013,
          2014,
          2015,
          2016,
          2017,
          2018
         ],
         "xaxis": "x3",
         "y": [
          9523,
          25335.29946986,
          29146.45451818,
          11101,
          26907.39988665,
          27584.35854331,
          33294.26250504,
          13080,
          35035,
          35684,
          37451,
          38724,
          40341,
          6752,
          null,
          6183,
          null,
          null,
          null,
          13120
         ],
         "yaxis": "y3"
        },
        {
         "connectgaps": false,
         "hovertemplate": "fnid=MZ2013A108<br>indicator=area<br>year=%{x}<br>value=%{y}<extra></extra>",
         "legendgroup": "MZ2013A108",
         "line": {
          "color": "#FF6692",
          "dash": "solid"
         },
         "marker": {
          "symbol": "circle"
         },
         "mode": "lines+markers",
         "name": "MZ2013A108",
         "orientation": "v",
         "showlegend": false,
         "type": "scatter",
         "x": [
          1999,
          2000,
          2001,
          2002,
          2003,
          2004,
          2005,
          2006,
          2007,
          2008,
          2009,
          2010,
          2011,
          2012,
          2013,
          2014,
          2015,
          2016,
          2017,
          2018
         ],
         "xaxis": "x2",
         "y": [
          32603,
          33780.39929315,
          38350.59805023,
          39171.01600183,
          40054.7252556,
          41081.5848531,
          42490.43519383,
          43390.04760999,
          45552.93998866,
          46423.87166427,
          47905.24767577,
          26389,
          null,
          17100,
          null,
          16000,
          null,
          null,
          null,
          null
         ],
         "yaxis": "y2"
        },
        {
         "connectgaps": false,
         "hovertemplate": "fnid=MZ2013A108<br>indicator=yield<br>year=%{x}<br>value=%{y}<extra></extra>",
         "legendgroup": "MZ2013A108",
         "line": {
          "color": "#FF6692",
          "dash": "solid"
         },
         "marker": {
          "symbol": "circle"
         },
         "mode": "lines+markers",
         "name": "MZ2013A108",
         "orientation": "v",
         "showlegend": false,
         "type": "scatter",
         "x": [
          1999,
          2000,
          2001,
          2002,
          2003,
          2004,
          2005,
          2006,
          2007,
          2008,
          2009,
          2010,
          2011,
          2012,
          2013,
          2014,
          2015,
          2016,
          2017,
          2018
         ],
         "xaxis": "x",
         "y": [
          0.292089684998313,
          0.749999999999926,
          0.7600000000001356,
          0.2833983167421897,
          0.6717659331064344,
          0.6714531253345377,
          0.7835707578225659,
          0.3014516166833728,
          0.7691051336910779,
          0.7686562693017284,
          0.7817723906465125,
          1.4674296108226912,
          null,
          0.3948538011695906,
          null,
          0.3864375,
          null,
          null,
          null,
          null
         ],
         "yaxis": "y"
        },
        {
         "connectgaps": false,
         "hovertemplate": "fnid=MZ2013A109<br>indicator=production<br>year=%{x}<br>value=%{y}<extra></extra>",
         "legendgroup": "MZ2013A109",
         "line": {
          "color": "#B6E880",
          "dash": "solid"
         },
         "marker": {
          "symbol": "circle"
         },
         "mode": "lines+markers",
         "name": "MZ2013A109",
         "orientation": "v",
         "showlegend": true,
         "type": "scatter",
         "x": [
          1999,
          2000,
          2001,
          2002,
          2003,
          2004,
          2005,
          2006,
          2007,
          2008,
          2009,
          2010,
          2011,
          2012,
          2013,
          2014,
          2015,
          2016,
          2017,
          2018
         ],
         "xaxis": "x3",
         "y": [
          36914,
          29548.83710564,
          41004.24958689,
          15513,
          40840.91624678,
          42984.25092704,
          16531,
          39614,
          24248,
          28458,
          31143,
          32430,
          33599,
          25226,
          null,
          26091,
          null,
          null,
          null,
          49000
         ],
         "yaxis": "y3"
        },
        {
         "connectgaps": false,
         "hovertemplate": "fnid=MZ2013A109<br>indicator=area<br>year=%{x}<br>value=%{y}<extra></extra>",
         "legendgroup": "MZ2013A109",
         "line": {
          "color": "#B6E880",
          "dash": "solid"
         },
         "marker": {
          "symbol": "circle"
         },
         "mode": "lines+markers",
         "name": "MZ2013A109",
         "orientation": "v",
         "showlegend": false,
         "type": "scatter",
         "x": [
          1999,
          2000,
          2001,
          2002,
          2003,
          2004,
          2005,
          2006,
          2007,
          2008,
          2009,
          2010,
          2011,
          2012,
          2013,
          2014,
          2015,
          2016,
          2017,
          2018
         ],
         "xaxis": "x2",
         "y": [
          null,
          44047.81657558,
          53904.22314065,
          57849.97675264,
          60522.19723786,
          63375.40819222,
          57932.60368001,
          67804.68290971,
          55935.89277077,
          69385.68572346,
          70895.58852481,
          55541,
          null,
          50300,
          null,
          51700,
          null,
          null,
          null,
          null
         ],
         "yaxis": "y2"
        },
        {
         "connectgaps": false,
         "hovertemplate": "fnid=MZ2013A109<br>indicator=yield<br>year=%{x}<br>value=%{y}<extra></extra>",
         "legendgroup": "MZ2013A109",
         "line": {
          "color": "#B6E880",
          "dash": "solid"
         },
         "marker": {
          "symbol": "circle"
         },
         "mode": "lines+markers",
         "name": "MZ2013A109",
         "orientation": "v",
         "showlegend": false,
         "type": "scatter",
         "x": [
          1999,
          2000,
          2001,
          2002,
          2003,
          2004,
          2005,
          2006,
          2007,
          2008,
          2009,
          2010,
          2011,
          2012,
          2013,
          2014,
          2015,
          2016,
          2017,
          2018
         ],
         "xaxis": "x",
         "y": [
          null,
          0.6708354557129581,
          0.7606871446769459,
          0.2681591397405714,
          0.6748088818763462,
          0.6782481115808697,
          0.2853488182804413,
          0.5842369332034302,
          0.4334962543526452,
          0.410142231834686,
          0.4392798007326149,
          0.5838929799607497,
          null,
          0.5015109343936381,
          null,
          0.5046615087040619,
          null,
          null,
          null,
          null
         ],
         "yaxis": "y"
        },
        {
         "connectgaps": false,
         "hovertemplate": "fnid=MZ2013A110<br>indicator=production<br>year=%{x}<br>value=%{y}<extra></extra>",
         "legendgroup": "MZ2013A110",
         "line": {
          "color": "#FF97FF",
          "dash": "solid"
         },
         "marker": {
          "symbol": "circle"
         },
         "mode": "lines+markers",
         "name": "MZ2013A110",
         "orientation": "v",
         "showlegend": true,
         "type": "scatter",
         "x": [
          1999,
          2000,
          2001,
          2002,
          2003,
          2004,
          2005,
          2006,
          2007,
          2008,
          2009,
          2010,
          2011,
          2012,
          2013,
          2014,
          2015,
          2016,
          2017,
          2018
         ],
         "xaxis": "x3",
         "y": [
          null,
          24232.47679573,
          31114.94010568,
          7515,
          26882.40395455,
          30076.50620722,
          9256,
          27377,
          28839,
          36147,
          37716,
          38963,
          40790,
          20791,
          null,
          20998,
          null,
          null,
          null,
          40380
         ],
         "yaxis": "y3"
        },
        {
         "connectgaps": false,
         "hovertemplate": "fnid=MZ2013A110<br>indicator=area<br>year=%{x}<br>value=%{y}<extra></extra>",
         "legendgroup": "MZ2013A110",
         "line": {
          "color": "#FF97FF",
          "dash": "solid"
         },
         "marker": {
          "symbol": "circle"
         },
         "mode": "lines+markers",
         "name": "MZ2013A110",
         "orientation": "v",
         "showlegend": false,
         "type": "scatter",
         "x": [
          1999,
          2000,
          2001,
          2002,
          2003,
          2004,
          2005,
          2006,
          2007,
          2008,
          2009,
          2010,
          2011,
          2012,
          2013,
          2014,
          2015,
          2016,
          2017,
          2018
         ],
         "xaxis": "x2",
         "y": [
          null,
          50484.32665777,
          52737.1866198,
          57562.65358613,
          58404.65643854,
          61161.15597239,
          57767.16103613,
          65890.3965647,
          52650.70291699,
          68532.803169,
          72491.95240509,
          31836,
          null,
          37900,
          null,
          33000,
          null,
          null,
          null,
          null
         ],
         "yaxis": "y2"
        },
        {
         "connectgaps": false,
         "hovertemplate": "fnid=MZ2013A110<br>indicator=yield<br>year=%{x}<br>value=%{y}<extra></extra>",
         "legendgroup": "MZ2013A110",
         "line": {
          "color": "#FF97FF",
          "dash": "solid"
         },
         "marker": {
          "symbol": "circle"
         },
         "mode": "lines+markers",
         "name": "MZ2013A110",
         "orientation": "v",
         "showlegend": false,
         "type": "scatter",
         "x": [
          1999,
          2000,
          2001,
          2002,
          2003,
          2004,
          2005,
          2006,
          2007,
          2008,
          2009,
          2010,
          2011,
          2012,
          2013,
          2014,
          2015,
          2016,
          2017,
          2018
         ],
         "xaxis": "x",
         "y": [
          null,
          0.4800000000000079,
          0.5899999999999621,
          0.1305533975905999,
          0.4602784365804585,
          0.491758301965343,
          0.1602294423679728,
          0.4154930221601808,
          0.5477419749830893,
          0.5274408506370664,
          0.5202784412432486,
          1.223866063575826,
          null,
          0.5485751978891821,
          null,
          0.6363030303030303,
          null,
          null,
          null,
          null
         ],
         "yaxis": "y"
        },
        {
         "connectgaps": false,
         "hovertemplate": "fnid=MZ2013A111<br>indicator=production<br>year=%{x}<br>value=%{y}<extra></extra>",
         "legendgroup": "MZ2013A111",
         "line": {
          "color": "#FECB52",
          "dash": "solid"
         },
         "marker": {
          "symbol": "circle"
         },
         "mode": "lines+markers",
         "name": "MZ2013A111",
         "orientation": "v",
         "showlegend": true,
         "type": "scatter",
         "x": [
          1999,
          2000,
          2001,
          2002,
          2003,
          2004,
          2005,
          2006,
          2007,
          2008,
          2009,
          2010,
          2011,
          2012,
          2013,
          2014,
          2015,
          2016,
          2017,
          2018
         ],
         "xaxis": "x3",
         "y": [
          37060,
          41646.5452257,
          45887.61343145,
          15807,
          23727,
          49650.99886071,
          40438.89993701,
          14721,
          50784,
          51098,
          51616,
          52964,
          58030,
          20409,
          null,
          20968,
          null,
          null,
          null,
          39640
         ],
         "yaxis": "y3"
        },
        {
         "connectgaps": false,
         "hovertemplate": "fnid=MZ2013A111<br>indicator=area<br>year=%{x}<br>value=%{y}<extra></extra>",
         "legendgroup": "MZ2013A111",
         "line": {
          "color": "#FECB52",
          "dash": "solid"
         },
         "marker": {
          "symbol": "circle"
         },
         "mode": "lines+markers",
         "name": "MZ2013A111",
         "orientation": "v",
         "showlegend": false,
         "type": "scatter",
         "x": [
          1999,
          2000,
          2001,
          2002,
          2003,
          2004,
          2005,
          2006,
          2007,
          2008,
          2009,
          2010,
          2011,
          2012,
          2013,
          2014,
          2015,
          2016,
          2017,
          2018
         ],
         "xaxis": "x2",
         "y": [
          52449,
          63100.82609954,
          67481.16681095,
          69827.72466989,
          71483.7017231,
          73194.65037831,
          70711.08935018,
          71900.60852109,
          71655.34765493,
          79004.34103842,
          85754.21148873,
          31732,
          null,
          53300,
          null,
          44100,
          null,
          null,
          null,
          null
         ],
         "yaxis": "y2"
        },
        {
         "connectgaps": false,
         "hovertemplate": "fnid=MZ2013A111<br>indicator=yield<br>year=%{x}<br>value=%{y}<extra></extra>",
         "legendgroup": "MZ2013A111",
         "line": {
          "color": "#FECB52",
          "dash": "solid"
         },
         "marker": {
          "symbol": "circle"
         },
         "mode": "lines+markers",
         "name": "MZ2013A111",
         "orientation": "v",
         "showlegend": false,
         "type": "scatter",
         "x": [
          1999,
          2000,
          2001,
          2002,
          2003,
          2004,
          2005,
          2006,
          2007,
          2008,
          2009,
          2010,
          2011,
          2012,
          2013,
          2014,
          2015,
          2016,
          2017,
          2018
         ],
         "xaxis": "x",
         "y": [
          0.7065911647505195,
          0.6600000000000571,
          0.6800062239588295,
          0.2263714029739257,
          0.3319218147363038,
          0.6783419089248527,
          0.5718890814529228,
          0.2047409653797577,
          0.7087258894417768,
          0.6467745864135608,
          0.601906298290475,
          1.6691037438547838,
          null,
          0.3829080675422139,
          null,
          0.4754648526077097,
          null,
          null,
          null,
          null
         ],
         "yaxis": "y"
        }
       ],
       "layout": {
        "annotations": [
         {
          "showarrow": false,
          "text": "",
          "textangle": 90,
          "x": 0.98,
          "xanchor": "left",
          "xref": "paper",
          "y": 0.16333333333333333,
          "yanchor": "middle",
          "yref": "paper"
         },
         {
          "showarrow": false,
          "text": "",
          "textangle": 90,
          "x": 0.98,
          "xanchor": "left",
          "xref": "paper",
          "y": 0.5,
          "yanchor": "middle",
          "yref": "paper"
         },
         {
          "showarrow": false,
          "text": "",
          "textangle": 90,
          "x": 0.98,
          "xanchor": "left",
          "xref": "paper",
          "y": 0.8366666666666667,
          "yanchor": "middle",
          "yref": "paper"
         },
         {
          "align": "left",
          "font": {
           "color": "dimgrey",
           "family": "arial",
           "size": 15
          },
          "showarrow": false,
          "text": "Production-Area-Yield time-series of MZ - Sorghum - Main",
          "x": -0.014,
          "xref": "paper",
          "y": -0.14,
          "yref": "paper"
         }
        ],
        "font": {
         "color": "black",
         "family": "arial",
         "size": 16
        },
        "height": 600,
        "legend": {
         "font": {
          "size": 14
         },
         "title": {
          "text": "FNID"
         },
         "tracegroupgap": 0,
         "x": 1,
         "xanchor": "left",
         "y": 1,
         "yanchor": "top"
        },
        "margin": {
         "b": 25,
         "l": 0,
         "r": 0,
         "t": 0
        },
        "template": {
         "data": {
          "bar": [
           {
            "error_x": {
             "color": "#2a3f5f"
            },
            "error_y": {
             "color": "#2a3f5f"
            },
            "marker": {
             "line": {
              "color": "#E5ECF6",
              "width": 0.5
             },
             "pattern": {
              "fillmode": "overlay",
              "size": 10,
              "solidity": 0.2
             }
            },
            "type": "bar"
           }
          ],
          "barpolar": [
           {
            "marker": {
             "line": {
              "color": "#E5ECF6",
              "width": 0.5
             },
             "pattern": {
              "fillmode": "overlay",
              "size": 10,
              "solidity": 0.2
             }
            },
            "type": "barpolar"
           }
          ],
          "carpet": [
           {
            "aaxis": {
             "endlinecolor": "#2a3f5f",
             "gridcolor": "white",
             "linecolor": "white",
             "minorgridcolor": "white",
             "startlinecolor": "#2a3f5f"
            },
            "baxis": {
             "endlinecolor": "#2a3f5f",
             "gridcolor": "white",
             "linecolor": "white",
             "minorgridcolor": "white",
             "startlinecolor": "#2a3f5f"
            },
            "type": "carpet"
           }
          ],
          "choropleth": [
           {
            "colorbar": {
             "outlinewidth": 0,
             "ticks": ""
            },
            "type": "choropleth"
           }
          ],
          "contour": [
           {
            "colorbar": {
             "outlinewidth": 0,
             "ticks": ""
            },
            "colorscale": [
             [
              0,
              "#0d0887"
             ],
             [
              0.1111111111111111,
              "#46039f"
             ],
             [
              0.2222222222222222,
              "#7201a8"
             ],
             [
              0.3333333333333333,
              "#9c179e"
             ],
             [
              0.4444444444444444,
              "#bd3786"
             ],
             [
              0.5555555555555556,
              "#d8576b"
             ],
             [
              0.6666666666666666,
              "#ed7953"
             ],
             [
              0.7777777777777778,
              "#fb9f3a"
             ],
             [
              0.8888888888888888,
              "#fdca26"
             ],
             [
              1,
              "#f0f921"
             ]
            ],
            "type": "contour"
           }
          ],
          "contourcarpet": [
           {
            "colorbar": {
             "outlinewidth": 0,
             "ticks": ""
            },
            "type": "contourcarpet"
           }
          ],
          "heatmap": [
           {
            "colorbar": {
             "outlinewidth": 0,
             "ticks": ""
            },
            "colorscale": [
             [
              0,
              "#0d0887"
             ],
             [
              0.1111111111111111,
              "#46039f"
             ],
             [
              0.2222222222222222,
              "#7201a8"
             ],
             [
              0.3333333333333333,
              "#9c179e"
             ],
             [
              0.4444444444444444,
              "#bd3786"
             ],
             [
              0.5555555555555556,
              "#d8576b"
             ],
             [
              0.6666666666666666,
              "#ed7953"
             ],
             [
              0.7777777777777778,
              "#fb9f3a"
             ],
             [
              0.8888888888888888,
              "#fdca26"
             ],
             [
              1,
              "#f0f921"
             ]
            ],
            "type": "heatmap"
           }
          ],
          "heatmapgl": [
           {
            "colorbar": {
             "outlinewidth": 0,
             "ticks": ""
            },
            "colorscale": [
             [
              0,
              "#0d0887"
             ],
             [
              0.1111111111111111,
              "#46039f"
             ],
             [
              0.2222222222222222,
              "#7201a8"
             ],
             [
              0.3333333333333333,
              "#9c179e"
             ],
             [
              0.4444444444444444,
              "#bd3786"
             ],
             [
              0.5555555555555556,
              "#d8576b"
             ],
             [
              0.6666666666666666,
              "#ed7953"
             ],
             [
              0.7777777777777778,
              "#fb9f3a"
             ],
             [
              0.8888888888888888,
              "#fdca26"
             ],
             [
              1,
              "#f0f921"
             ]
            ],
            "type": "heatmapgl"
           }
          ],
          "histogram": [
           {
            "marker": {
             "pattern": {
              "fillmode": "overlay",
              "size": 10,
              "solidity": 0.2
             }
            },
            "type": "histogram"
           }
          ],
          "histogram2d": [
           {
            "colorbar": {
             "outlinewidth": 0,
             "ticks": ""
            },
            "colorscale": [
             [
              0,
              "#0d0887"
             ],
             [
              0.1111111111111111,
              "#46039f"
             ],
             [
              0.2222222222222222,
              "#7201a8"
             ],
             [
              0.3333333333333333,
              "#9c179e"
             ],
             [
              0.4444444444444444,
              "#bd3786"
             ],
             [
              0.5555555555555556,
              "#d8576b"
             ],
             [
              0.6666666666666666,
              "#ed7953"
             ],
             [
              0.7777777777777778,
              "#fb9f3a"
             ],
             [
              0.8888888888888888,
              "#fdca26"
             ],
             [
              1,
              "#f0f921"
             ]
            ],
            "type": "histogram2d"
           }
          ],
          "histogram2dcontour": [
           {
            "colorbar": {
             "outlinewidth": 0,
             "ticks": ""
            },
            "colorscale": [
             [
              0,
              "#0d0887"
             ],
             [
              0.1111111111111111,
              "#46039f"
             ],
             [
              0.2222222222222222,
              "#7201a8"
             ],
             [
              0.3333333333333333,
              "#9c179e"
             ],
             [
              0.4444444444444444,
              "#bd3786"
             ],
             [
              0.5555555555555556,
              "#d8576b"
             ],
             [
              0.6666666666666666,
              "#ed7953"
             ],
             [
              0.7777777777777778,
              "#fb9f3a"
             ],
             [
              0.8888888888888888,
              "#fdca26"
             ],
             [
              1,
              "#f0f921"
             ]
            ],
            "type": "histogram2dcontour"
           }
          ],
          "mesh3d": [
           {
            "colorbar": {
             "outlinewidth": 0,
             "ticks": ""
            },
            "type": "mesh3d"
           }
          ],
          "parcoords": [
           {
            "line": {
             "colorbar": {
              "outlinewidth": 0,
              "ticks": ""
             }
            },
            "type": "parcoords"
           }
          ],
          "pie": [
           {
            "automargin": true,
            "type": "pie"
           }
          ],
          "scatter": [
           {
            "fillpattern": {
             "fillmode": "overlay",
             "size": 10,
             "solidity": 0.2
            },
            "type": "scatter"
           }
          ],
          "scatter3d": [
           {
            "line": {
             "colorbar": {
              "outlinewidth": 0,
              "ticks": ""
             }
            },
            "marker": {
             "colorbar": {
              "outlinewidth": 0,
              "ticks": ""
             }
            },
            "type": "scatter3d"
           }
          ],
          "scattercarpet": [
           {
            "marker": {
             "colorbar": {
              "outlinewidth": 0,
              "ticks": ""
             }
            },
            "type": "scattercarpet"
           }
          ],
          "scattergeo": [
           {
            "marker": {
             "colorbar": {
              "outlinewidth": 0,
              "ticks": ""
             }
            },
            "type": "scattergeo"
           }
          ],
          "scattergl": [
           {
            "marker": {
             "colorbar": {
              "outlinewidth": 0,
              "ticks": ""
             }
            },
            "type": "scattergl"
           }
          ],
          "scattermapbox": [
           {
            "marker": {
             "colorbar": {
              "outlinewidth": 0,
              "ticks": ""
             }
            },
            "type": "scattermapbox"
           }
          ],
          "scatterpolar": [
           {
            "marker": {
             "colorbar": {
              "outlinewidth": 0,
              "ticks": ""
             }
            },
            "type": "scatterpolar"
           }
          ],
          "scatterpolargl": [
           {
            "marker": {
             "colorbar": {
              "outlinewidth": 0,
              "ticks": ""
             }
            },
            "type": "scatterpolargl"
           }
          ],
          "scatterternary": [
           {
            "marker": {
             "colorbar": {
              "outlinewidth": 0,
              "ticks": ""
             }
            },
            "type": "scatterternary"
           }
          ],
          "surface": [
           {
            "colorbar": {
             "outlinewidth": 0,
             "ticks": ""
            },
            "colorscale": [
             [
              0,
              "#0d0887"
             ],
             [
              0.1111111111111111,
              "#46039f"
             ],
             [
              0.2222222222222222,
              "#7201a8"
             ],
             [
              0.3333333333333333,
              "#9c179e"
             ],
             [
              0.4444444444444444,
              "#bd3786"
             ],
             [
              0.5555555555555556,
              "#d8576b"
             ],
             [
              0.6666666666666666,
              "#ed7953"
             ],
             [
              0.7777777777777778,
              "#fb9f3a"
             ],
             [
              0.8888888888888888,
              "#fdca26"
             ],
             [
              1,
              "#f0f921"
             ]
            ],
            "type": "surface"
           }
          ],
          "table": [
           {
            "cells": {
             "fill": {
              "color": "#EBF0F8"
             },
             "line": {
              "color": "white"
             }
            },
            "header": {
             "fill": {
              "color": "#C8D4E3"
             },
             "line": {
              "color": "white"
             }
            },
            "type": "table"
           }
          ]
         },
         "layout": {
          "annotationdefaults": {
           "arrowcolor": "#2a3f5f",
           "arrowhead": 0,
           "arrowwidth": 1
          },
          "autotypenumbers": "strict",
          "coloraxis": {
           "colorbar": {
            "outlinewidth": 0,
            "ticks": ""
           }
          },
          "colorscale": {
           "diverging": [
            [
             0,
             "#8e0152"
            ],
            [
             0.1,
             "#c51b7d"
            ],
            [
             0.2,
             "#de77ae"
            ],
            [
             0.3,
             "#f1b6da"
            ],
            [
             0.4,
             "#fde0ef"
            ],
            [
             0.5,
             "#f7f7f7"
            ],
            [
             0.6,
             "#e6f5d0"
            ],
            [
             0.7,
             "#b8e186"
            ],
            [
             0.8,
             "#7fbc41"
            ],
            [
             0.9,
             "#4d9221"
            ],
            [
             1,
             "#276419"
            ]
           ],
           "sequential": [
            [
             0,
             "#0d0887"
            ],
            [
             0.1111111111111111,
             "#46039f"
            ],
            [
             0.2222222222222222,
             "#7201a8"
            ],
            [
             0.3333333333333333,
             "#9c179e"
            ],
            [
             0.4444444444444444,
             "#bd3786"
            ],
            [
             0.5555555555555556,
             "#d8576b"
            ],
            [
             0.6666666666666666,
             "#ed7953"
            ],
            [
             0.7777777777777778,
             "#fb9f3a"
            ],
            [
             0.8888888888888888,
             "#fdca26"
            ],
            [
             1,
             "#f0f921"
            ]
           ],
           "sequentialminus": [
            [
             0,
             "#0d0887"
            ],
            [
             0.1111111111111111,
             "#46039f"
            ],
            [
             0.2222222222222222,
             "#7201a8"
            ],
            [
             0.3333333333333333,
             "#9c179e"
            ],
            [
             0.4444444444444444,
             "#bd3786"
            ],
            [
             0.5555555555555556,
             "#d8576b"
            ],
            [
             0.6666666666666666,
             "#ed7953"
            ],
            [
             0.7777777777777778,
             "#fb9f3a"
            ],
            [
             0.8888888888888888,
             "#fdca26"
            ],
            [
             1,
             "#f0f921"
            ]
           ]
          },
          "colorway": [
           "#636efa",
           "#EF553B",
           "#00cc96",
           "#ab63fa",
           "#FFA15A",
           "#19d3f3",
           "#FF6692",
           "#B6E880",
           "#FF97FF",
           "#FECB52"
          ],
          "font": {
           "color": "#2a3f5f"
          },
          "geo": {
           "bgcolor": "white",
           "lakecolor": "white",
           "landcolor": "#E5ECF6",
           "showlakes": true,
           "showland": true,
           "subunitcolor": "white"
          },
          "hoverlabel": {
           "align": "left"
          },
          "hovermode": "closest",
          "mapbox": {
           "style": "light"
          },
          "paper_bgcolor": "white",
          "plot_bgcolor": "#E5ECF6",
          "polar": {
           "angularaxis": {
            "gridcolor": "white",
            "linecolor": "white",
            "ticks": ""
           },
           "bgcolor": "#E5ECF6",
           "radialaxis": {
            "gridcolor": "white",
            "linecolor": "white",
            "ticks": ""
           }
          },
          "scene": {
           "xaxis": {
            "backgroundcolor": "#E5ECF6",
            "gridcolor": "white",
            "gridwidth": 2,
            "linecolor": "white",
            "showbackground": true,
            "ticks": "",
            "zerolinecolor": "white"
           },
           "yaxis": {
            "backgroundcolor": "#E5ECF6",
            "gridcolor": "white",
            "gridwidth": 2,
            "linecolor": "white",
            "showbackground": true,
            "ticks": "",
            "zerolinecolor": "white"
           },
           "zaxis": {
            "backgroundcolor": "#E5ECF6",
            "gridcolor": "white",
            "gridwidth": 2,
            "linecolor": "white",
            "showbackground": true,
            "ticks": "",
            "zerolinecolor": "white"
           }
          },
          "shapedefaults": {
           "line": {
            "color": "#2a3f5f"
           }
          },
          "ternary": {
           "aaxis": {
            "gridcolor": "white",
            "linecolor": "white",
            "ticks": ""
           },
           "baxis": {
            "gridcolor": "white",
            "linecolor": "white",
            "ticks": ""
           },
           "bgcolor": "#E5ECF6",
           "caxis": {
            "gridcolor": "white",
            "linecolor": "white",
            "ticks": ""
           }
          },
          "title": {
           "x": 0.05
          },
          "xaxis": {
           "automargin": true,
           "gridcolor": "white",
           "linecolor": "white",
           "ticks": "",
           "title": {
            "standoff": 15
           },
           "zerolinecolor": "white",
           "zerolinewidth": 2
          },
          "yaxis": {
           "automargin": true,
           "gridcolor": "white",
           "linecolor": "white",
           "ticks": "",
           "title": {
            "standoff": 15
           },
           "zerolinecolor": "white",
           "zerolinewidth": 2
          }
         }
        },
        "width": 900,
        "xaxis": {
         "anchor": "y",
         "domain": [
          0,
          0.98
         ],
         "dtick": 1,
         "range": [
          1999,
          2018
         ],
         "title": {
          "text": ""
         }
        },
        "xaxis2": {
         "anchor": "y2",
         "domain": [
          0,
          0.98
         ],
         "dtick": 1,
         "matches": "x",
         "showticklabels": false
        },
        "xaxis3": {
         "anchor": "y3",
         "domain": [
          0,
          0.98
         ],
         "dtick": 1,
         "matches": "x",
         "showticklabels": false
        },
        "yaxis": {
         "anchor": "x",
         "domain": [
          0,
          0.32666666666666666
         ],
         "title": {
          "text": "Yield (mt/ha)"
         }
        },
        "yaxis2": {
         "anchor": "x2",
         "domain": [
          0.33666666666666667,
          0.6633333333333333
         ],
         "title": {
          "text": "Area (ha)"
         }
        },
        "yaxis3": {
         "anchor": "x3",
         "domain": [
          0.6733333333333333,
          1
         ],
         "title": {
          "text": "Production (mt)"
         }
        }
       }
      }
     },
     "metadata": {},
     "output_type": "display_data"
    }
   ],
   "source": [
    "# Lineplot of Production-Area-Yield time-series\n",
    "country_iso, country_name ='MZ', 'Mozambique'\n",
    "df = pd.read_csv('../data/crop/adm_crop_production_%s.csv' % country_iso, index_col=0)\n",
    "df['year'] = df['harvest_year']\n",
    "year = [df['year'].min(), df['year'].max()]\n",
    "product_season = [\n",
    "    ['Cassava','Main'],\n",
    "    ['Maize','Main'],\n",
    "    ['Sorghum','Main'],\n",
    "]\n",
    "for product_name, season_name in product_season:\n",
    "    footnote = 'Production-Area-Yield time-series of %s - %s - %s' % (country_iso, product_name, season_name)\n",
    "    fn_save = '../figures/%s_line_pay_%s_%s.png' % (country_iso, product_name, season_name)\n",
    "    sub = df[(df['product'] == product_name) & (df['season_name'] == season_name)]\n",
    "    fig = PlotLinePAY(sub, year, footnote, fn_save)\n",
    "    fig.show()"
   ]
  }
 ],
 "metadata": {
  "kernelspec": {
   "display_name": "Python 3 (ipykernel)",
   "language": "python",
   "name": "python3"
  },
  "language_info": {
   "codemirror_mode": {
    "name": "ipython",
    "version": 3
   },
   "file_extension": ".py",
   "mimetype": "text/x-python",
   "name": "python",
   "nbconvert_exporter": "python",
   "pygments_lexer": "ipython3",
   "version": "3.10.10"
  }
 },
 "nbformat": 4,
 "nbformat_minor": 5
}
