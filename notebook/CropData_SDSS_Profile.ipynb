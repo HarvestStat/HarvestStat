{
 "cells": [
  {
   "cell_type": "markdown",
   "id": "5a54535d-4fd0-4290-a987-d6baff7aa821",
   "metadata": {},
   "source": [
    "# FDW Crop Production Data Profiling - Sudan and South Sudan\n"
   ]
  },
  {
   "cell_type": "code",
   "execution_count": 1,
   "id": "423b4763-5783-4282-ba84-d8ae8ba04fb5",
   "metadata": {},
   "outputs": [],
   "source": [
    "import os, sys, glob, json\n",
    "from itertools import product, compress, chain\n",
    "from functools import reduce\n",
    "import warnings\n",
    "warnings.simplefilter(action='ignore', category=FutureWarning)\n",
    "import requests\n",
    "import numpy as np\n",
    "import pandas as pd\n",
    "import geopandas as gpd\n",
    "from tools import save_hdf, save_npz, load_npz, PrintAdminUnits, PlotAdminShapes\n",
    "from tools import FDW_PD_Sweeper, FDW_PD_AvalTable, FDW_PD_Compiling, FDW_PD_GrainTypeAgg, FDW_PD_ValidateFnidName\n",
    "from tools import FDW_PD_CreateAdminLink, FDW_PD_RatioAdminLink, FDW_PD_ConnectAdminLink\n",
    "from tools import FDW_PD_CaliSeasonYear\n",
    "from tools_graphic import PlotBarProduction, PlotLinePAY, PlotHeatCropSystem, PlotHeatSeasonData\n",
    "import plotly.express as px\n",
    "import plotly.graph_objects as go\n",
    "from plotly.subplots import make_subplots\n",
    "warnings.simplefilter(action='ignore', category=pd.errors.PerformanceWarning)\n",
    "pd.options.mode.chained_assignment = None\n",
    "pd.set_option('display.max_rows', 500)\n",
    "pd.set_option('display.max_columns', 100)"
   ]
  },
  {
   "cell_type": "code",
   "execution_count": 2,
   "id": "1546e288-588d-4af4-be71-c096579f7737",
   "metadata": {},
   "outputs": [
    {
     "name": "stdout",
     "output_type": "stream",
     "text": [
      "- FEWS NET admin shapefiles ------------------- #\n",
      "| year\t | Admin1   | # units   | Admin2   | # units   | Admin3   | # units   |\n",
      "| 1976\t | SD1976A1 | 18\t| nan\t| 0\t| nan\t| 0\t|\n",
      "| 1990\t | SD1990A1 | 26\t| nan\t| 0\t| nan\t| 0\t|\n",
      "| 2005\t | SD2005A1 | 25\t| nan\t| 0\t| nan\t| 0\t|\n",
      "| 2011\t | SD2011A1 | 15\t| SD2011A2\t| 133\t| nan\t| 0\t|\n",
      "| 2011\t | SD2011A1 | 15\t| SS2011A2\t| 79\t| nan\t| 0\t|\n",
      "| 2011\t | SS2011A1 | 10\t| SD2011A2\t| 133\t| nan\t| 0\t|\n",
      "| 2011\t | SS2011A1 | 10\t| SS2011A2\t| 79\t| nan\t| 0\t|\n",
      "| 2012\t | SD2012A1 | 17\t| nan\t| 0\t| nan\t| 0\t|\n",
      "| 2013\t | SD2013A1 | 18\t| nan\t| 0\t| nan\t| 0\t|\n",
      "| 2014\t | SD2014A1 | 18\t| SD2014A2\t| 172\t| nan\t| 0\t|\n",
      "----------------------------------------------- #\n"
     ]
    }
   ],
   "source": [
    "# CPCV2 grain code ------------------------------ #\n",
    "grain_code = pd.read_hdf('../data/crop/grain_cpcv2_code.hdf')\n",
    "product_category = grain_code[['product', 'product_category']].set_index('product').to_dict()['product_category']\n",
    "# ----------------------------------------------- #\n",
    "\n",
    "# Load FEWS NET administrative boundaries ------- #\n",
    "epsg = 'EPSG:20135'\n",
    "fn_shapes = sorted(glob.glob('../data/shapefile/fewsnet/SD_Admin?_????.shp'))+\\\n",
    "            sorted(glob.glob('../data/shapefile/fewsnet/SS_Admin?_????.shp')) # search for both Sudan and South Sudan boundaries\n",
    "shape_all = []\n",
    "for fn in fn_shapes:\n",
    "    name = fn[-18:-4]\n",
    "    exec('%s = gpd.read_file(\"%s\").to_crs(\"%s\")' % (name, fn, epsg))\n",
    "    exec('%s[\"area\"] = %s[\"geometry\"].area/10**6' % (name, name))\n",
    "    exec('shape_all.append(%s)' % (name))\n",
    "shape_all = pd.concat(shape_all, axis=0).reset_index(drop=True)\n",
    "PrintAdminUnits(shape_all)\n",
    "# ----------------------------------------------- #\n",
    "\n",
    "# FDW API host address -------------------------- #\n",
    "host = 'https://fdw.fews.net'\n",
    "#read in username and password\n",
    "auth = tuple(json.loads(open('token.json', \"r\").read()))\n",
    "parameters = {\n",
    "    'format': 'json',\n",
    "    'country': ['Sudan','South Sudan'],\n",
    "    'product': ['R011','R012','R013','R014','R015','R016','R017','R018','R019'],\n",
    "    'survey_type': 'crop:best'\n",
    "}\n",
    "endpoint = '/api/cropproductionindicatorvalue/'\n",
    "response = requests.get(host + endpoint, auth=auth, params=parameters, proxies={})\n",
    "response.raise_for_status()\n",
    "df = pd.DataFrame.from_records(response.json())\n",
    "df_origin = df.copy()\n",
    "# ----------------------------------------------- #\n"
   ]
  },
  {
   "cell_type": "code",
   "execution_count": 3,
   "id": "96e85c81-d777-435c-8bcf-01463f276666",
   "metadata": {},
   "outputs": [],
   "source": [
    "# In this cell we pull in the South Sudan shapefile to create continuous timeseries in the pre- and post- South Sudan period\n",
    "#Merge South Sudan admins into the post-2011 Sudan admin files\n",
    "SD_Admin1_2011 = SS_Admin1_2011.merge(SD_Admin1_2011,'outer')\n",
    "SD_Admin1_2012 = SS_Admin1_2011.merge(SD_Admin1_2012,'outer') #South sudan has no new boundaries after 2011, so keep adding 2011\n",
    "SD_Admin1_2013 = SS_Admin1_2011.merge(SD_Admin1_2013,'outer') \n",
    "SD_Admin1_2014 = SS_Admin1_2011.merge(SD_Admin1_2014,'outer')\n",
    "\n",
    "#Matching happens on country later so we need to specify that we're creating time series that began with Sudan as the country\n",
    "SD_Admin1_2011['COUNTRY'] = 'SD'; SD_Admin1_2011['ADMIN0'] = 'Sudan'\n",
    "SD_Admin1_2012['COUNTRY'] = 'SD'; SD_Admin1_2012['ADMIN0'] = 'Sudan'\n",
    "SD_Admin1_2013['COUNTRY'] = 'SD'; SD_Admin1_2013['ADMIN0'] = 'Sudan'\n",
    "SD_Admin1_2014['COUNTRY'] = 'SD'; SD_Admin1_2014['ADMIN0'] = 'Sudan'\n",
    "\n",
    "# Change the season name from \"Main harvest\" to \"Main\"\n",
    "df['season_name'] = df['season_name'].replace('Main harvest', 'Main')"
   ]
  },
  {
   "cell_type": "code",
   "execution_count": 4,
   "id": "429f5cf7",
   "metadata": {},
   "outputs": [
    {
     "name": "stdout",
     "output_type": "stream",
     "text": [
      "- Remove missing records ---------------------- #\n",
      "Orignial data points: 17,031\n",
      "Removed 4,976 \"Missing Value\" points\n",
      "3,056/4,301 \"Area Harvested\" points are retained.\n",
      "3,061/4,304 \"Quantity Produced\" points are retained.\n",
      "3,063/4,309 \"Yield\" points are retained.\n",
      "2,875/4,117 \"Area Planted\" points are retained.\n",
      "Current data points: 12,055\n",
      "\n",
      "- Minor changes are applied ------------------- #\n",
      "\n",
      "- Basic information --------------------------- #\n",
      "Data period: 1975 - 2017\n",
      "11 grain types are found: Cereal Crops (Mixed), Cotton (Acala), Cotton (American), Cotton (Egyptian), Groundnuts (In Shell), Millet, Pigeon Peas, Sesame Seed, Sorghum, Sunflower Seed, Wheat Grain\n",
      "2 seasons are found: Main (10-01), Winter (04-01)\n",
      "4 crop production system are found: none, irrigated, mechanized_rainfed, traditional_rainfed\n",
      "Data sources include:\n",
      "[1] FAO, WFP, Government of South Sudan (GoSS)  --- CFSAM special report, South Sudan\n",
      "[2] Federal Ministry of Agriculture and Forestry (FMoA&F), Sudan --- Official agricultural statistics, Sudan\n",
      "Administrative-1 fnids: 102\n",
      "Administrative-2 fnids: 0\n",
      "0 reporting units are found: \n",
      "\n",
      "- Total production over time ------------------ #\n",
      "season_name             Main Winter\n",
      "                                   \n",
      "Cereal Crops (Mixed)    1.0%   0.0%\n",
      "Cotton (Acala)          1.3%   0.0%\n",
      "Cotton (American)       0.1%   0.0%\n",
      "Cotton (Egyptian)       0.6%   0.0%\n",
      "Groundnuts (In Shell)  10.0%   0.0%\n",
      "Millet                 10.8%   0.0%\n",
      "Pigeon Peas             0.1%   0.0%\n",
      "Sesame Seed             3.4%   0.0%\n",
      "Sorghum                67.4%   0.0%\n",
      "Sunflower Seed          0.6%   0.0%\n",
      "Wheat Grain             0.1%   4.9%\n",
      "\n",
      "- Crop calendar ------------------------------- #\n",
      "                  product season_name planting_month harvest_month\n",
      "0    Cereal Crops (Mixed)        Main          10-01         01-01\n",
      "1          Cotton (Acala)        Main          10-01         10-01\n",
      "2       Cotton (American)        Main          10-01         10-01\n",
      "3       Cotton (Egyptian)        Main          10-01         10-01\n",
      "4   Groundnuts (In Shell)        Main          10-01         10-01\n",
      "5                  Millet        Main          10-01         10-01\n",
      "6             Pigeon Peas        Main          10-01         10-01\n",
      "7             Sesame Seed        Main          10-01         10-01\n",
      "8                 Sorghum        Main          10-01         10-01\n",
      "9          Sunflower Seed        Main          10-01         10-01\n",
      "10            Wheat Grain      Winter          04-01         04-01\n",
      "11            Wheat Grain        Main          10-01         10-01\n",
      "\n",
      "- Recorded years per season ------------------- #\n",
      "Main: 43 years (1975-2017) (missing: 0 years)\n",
      "Winter: 42 years (1975-2016) (missing: 1 years)\n",
      "\n",
      "- Number of \"Quantity Produced\" data points --- #\n",
      "SD1976A1: 285 data points are found.\n",
      "SD1990A1: 1,416 data points are found.\n",
      "SD2005A1: 614 data points are found.\n",
      "SD2011A1: 95 data points are found.\n",
      "SD2012A1: 101 data points are found.\n",
      "SD2013A1: 530 data points are found.\n",
      "SS2011A1: 20 data points are found.\n",
      "\n",
      "- Districts with population group(s) ---------- #\n",
      "0 districts includes 'population_group'.\n",
      "\n",
      "Table of available data\n",
      "----------------------------------------------- #\n",
      "Crop type: Cereal Crops (Mixed)\n",
      "----------------------------------------------- #\n",
      "season_name              Main\n",
      "crop_production_system   none\n",
      "fnid_short             2011A1\n",
      "year                         \n",
      "2011                    10/25\n",
      "2012                    10/25\n",
      "----------------------------------------------- #\n",
      "Crop type: Cotton (Acala)\n",
      "----------------------------------------------- #\n",
      "season_name                 Main                            \n",
      "crop_production_system irrigated                            \n",
      "fnid_short                1990A1 2005A1 2011A1 2012A1 2013A1\n",
      "year                                                        \n",
      "1990                        3/26    NaN    NaN    NaN    NaN\n",
      "1991                        3/26    NaN    NaN    NaN    NaN\n",
      "1992                        3/26    NaN    NaN    NaN    NaN\n",
      "1993                        3/26    NaN    NaN    NaN    NaN\n",
      "1994                        5/26    NaN    NaN    NaN    NaN\n",
      "1995                        5/26    NaN    NaN    NaN    NaN\n",
      "1996                        6/26    NaN    NaN    NaN    NaN\n",
      "1997                        4/26    NaN    NaN    NaN    NaN\n",
      "1998                        5/26    NaN    NaN    NaN    NaN\n",
      "1999                        5/26    NaN    NaN    NaN    NaN\n",
      "2000                        6/26    NaN    NaN    NaN    NaN\n",
      "2001                        6/26    NaN    NaN    NaN    NaN\n",
      "2002                        6/26    NaN    NaN    NaN    NaN\n",
      "2003                        4/26    NaN    NaN    NaN    NaN\n",
      "2004                        5/26    NaN    NaN    NaN    NaN\n",
      "2005                         NaN   6/25    NaN    NaN    NaN\n",
      "2006                         NaN   7/25    NaN    NaN    NaN\n",
      "2007                         NaN   7/25    NaN    NaN    NaN\n",
      "2008                         NaN   7/25    NaN    NaN    NaN\n",
      "2009                         NaN   5/25    NaN    NaN    NaN\n",
      "2010                         NaN   3/25    NaN    NaN    NaN\n",
      "2011                         NaN    NaN   6/25    NaN    NaN\n",
      "2012                         NaN    NaN    NaN   6/17    NaN\n",
      "2013                         NaN   1/25    NaN    NaN   6/18\n",
      "2014                         NaN    NaN    NaN    NaN   4/18\n",
      "2015                         NaN    NaN    NaN    NaN   5/18\n",
      "2016                         NaN    NaN    NaN    NaN    NaN\n",
      "2017                         NaN    NaN    NaN    NaN   6/18\n",
      "----------------------------------------------- #\n",
      "Crop type: Cotton (American)\n",
      "----------------------------------------------- #\n",
      "season_name                           Main                            \n",
      "crop_production_system traditional_rainfed                            \n",
      "fnid_short                          1990A1 2005A1 2011A1 2012A1 2013A1\n",
      "year                                                                  \n",
      "1990                                  1/26    NaN    NaN    NaN    NaN\n",
      "1991                                  3/26    NaN    NaN    NaN    NaN\n",
      "1992                                  3/26    NaN    NaN    NaN    NaN\n",
      "1993                                  3/26    NaN    NaN    NaN    NaN\n",
      "1994                                  4/26    NaN    NaN    NaN    NaN\n",
      "1995                                  5/26    NaN    NaN    NaN    NaN\n",
      "1996                                  6/26    NaN    NaN    NaN    NaN\n",
      "1997                                  4/26    NaN    NaN    NaN    NaN\n",
      "1998                                  4/26    NaN    NaN    NaN    NaN\n",
      "1999                                  4/26    NaN    NaN    NaN    NaN\n",
      "2000                                  2/26    NaN    NaN    NaN    NaN\n",
      "2001                                  3/26    NaN    NaN    NaN    NaN\n",
      "2002                                  4/26    NaN    NaN    NaN    NaN\n",
      "2003                                  3/26    NaN    NaN    NaN    NaN\n",
      "2004                                  3/26    NaN    NaN    NaN    NaN\n",
      "2005                                   NaN   5/25    NaN    NaN    NaN\n",
      "2006                                   NaN   4/25    NaN    NaN    NaN\n",
      "2007                                   NaN   4/25    NaN    NaN    NaN\n",
      "2008                                   NaN   4/25    NaN    NaN    NaN\n",
      "2009                                   NaN   3/25    NaN    NaN    NaN\n",
      "2010                                   NaN   2/25    NaN    NaN    NaN\n",
      "2011                                   NaN    NaN   2/25    NaN    NaN\n",
      "2012                                   NaN    NaN    NaN   2/17    NaN\n",
      "2013                                   NaN    NaN    NaN    NaN   2/18\n",
      "2014                                   NaN    NaN    NaN    NaN   2/18\n",
      "2015                                   NaN    NaN    NaN    NaN   2/18\n",
      "2016                                   NaN    NaN    NaN    NaN    NaN\n",
      "2017                                   NaN    NaN    NaN    NaN   7/18\n",
      "----------------------------------------------- #\n",
      "Crop type: Cotton (Egyptian)\n",
      "----------------------------------------------- #\n",
      "season_name                 Main                            \n",
      "crop_production_system irrigated                            \n",
      "fnid_short                1990A1 2005A1 2011A1 2012A1 2013A1\n",
      "year                                                        \n",
      "1990                        3/26    NaN    NaN    NaN    NaN\n",
      "1991                        3/26    NaN    NaN    NaN    NaN\n",
      "1992                        3/26    NaN    NaN    NaN    NaN\n",
      "1993                        3/26    NaN    NaN    NaN    NaN\n",
      "1994                        4/26    NaN    NaN    NaN    NaN\n",
      "1995                        4/26    NaN    NaN    NaN    NaN\n",
      "1996                        4/26    NaN    NaN    NaN    NaN\n",
      "1997                        2/26    NaN    NaN    NaN    NaN\n",
      "1998                        2/26    NaN    NaN    NaN    NaN\n",
      "1999                        2/26    NaN    NaN    NaN    NaN\n",
      "2000                        2/26    NaN    NaN    NaN    NaN\n",
      "2001                        2/26    NaN    NaN    NaN    NaN\n",
      "2002                        3/26    NaN    NaN    NaN    NaN\n",
      "2003                        4/26    NaN    NaN    NaN    NaN\n",
      "2004                        3/26    NaN    NaN    NaN    NaN\n",
      "2005                         NaN   2/25    NaN    NaN    NaN\n",
      "2006                         NaN   2/25    NaN    NaN    NaN\n",
      "2007                         NaN   2/25    NaN    NaN    NaN\n",
      "2008                         NaN   2/25    NaN    NaN    NaN\n",
      "2009                         NaN   1/25    NaN    NaN    NaN\n",
      "2010                         NaN   1/25    NaN    NaN    NaN\n",
      "2011                         NaN    NaN   1/25    NaN    NaN\n",
      "2012                         NaN    NaN    NaN   1/17    NaN\n",
      "2013                         NaN    NaN    NaN    NaN   1/18\n",
      "2014                         NaN    NaN    NaN    NaN   1/18\n",
      "2015                         NaN    NaN    NaN    NaN   1/18\n",
      "----------------------------------------------- #\n",
      "Crop type: Groundnuts (In Shell)\n",
      "----------------------------------------------- #\n",
      "season_name                 Main                                                                                               \n",
      "crop_production_system irrigated                             mechanized_rainfed traditional_rainfed                            \n",
      "fnid_short                1990A1 2005A1 2011A1 2012A1 2013A1             2013A1              1990A1 2005A1 2011A1 2012A1 2013A1\n",
      "year                                                                                                                           \n",
      "1990                        4/26    NaN    NaN    NaN    NaN                NaN                7/26    NaN    NaN    NaN    NaN\n",
      "1991                        3/26    NaN    NaN    NaN    NaN                NaN                7/26    NaN    NaN    NaN    NaN\n",
      "1992                        4/26    NaN    NaN    NaN    NaN                NaN                7/26    NaN    NaN    NaN    NaN\n",
      "1993                        4/26    NaN    NaN    NaN    NaN                NaN                7/26    NaN    NaN    NaN    NaN\n",
      "1994                        4/26    NaN    NaN    NaN    NaN                NaN                7/26    NaN    NaN    NaN    NaN\n",
      "1995                        4/26    NaN    NaN    NaN    NaN                NaN                7/26    NaN    NaN    NaN    NaN\n",
      "1996                        4/26    NaN    NaN    NaN    NaN                NaN                7/26    NaN    NaN    NaN    NaN\n",
      "1997                        3/26    NaN    NaN    NaN    NaN                NaN                7/26    NaN    NaN    NaN    NaN\n",
      "1998                        3/26    NaN    NaN    NaN    NaN                NaN                7/26    NaN    NaN    NaN    NaN\n",
      "1999                        3/26    NaN    NaN    NaN    NaN                NaN                7/26    NaN    NaN    NaN    NaN\n",
      "2000                        3/26    NaN    NaN    NaN    NaN                NaN                7/26    NaN    NaN    NaN    NaN\n",
      "2001                        3/26    NaN    NaN    NaN    NaN                NaN                7/26    NaN    NaN    NaN    NaN\n",
      "2002                        3/26    NaN    NaN    NaN    NaN                NaN                7/26    NaN    NaN    NaN    NaN\n",
      "2003                        3/26    NaN    NaN    NaN    NaN                NaN                7/26    NaN    NaN    NaN    NaN\n",
      "2004                        3/26    NaN    NaN    NaN    NaN                NaN                8/26    NaN    NaN    NaN    NaN\n",
      "2005                         NaN   3/25    NaN    NaN    NaN                NaN                 NaN   7/25    NaN    NaN    NaN\n",
      "2006                         NaN   4/25    NaN    NaN    NaN                NaN                 NaN   8/25    NaN    NaN    NaN\n",
      "2007                         NaN   4/25    NaN    NaN    NaN                NaN                 NaN   8/25    NaN    NaN    NaN\n",
      "2008                         NaN   4/25    NaN    NaN    NaN                NaN                 NaN   8/25    NaN    NaN    NaN\n",
      "2009                         NaN   3/25    NaN    NaN    NaN                NaN                 NaN   8/25    NaN    NaN    NaN\n",
      "2010                         NaN   4/25    NaN    NaN    NaN                NaN                 NaN   7/25    NaN    NaN    NaN\n",
      "2011                         NaN    NaN   4/25    NaN    NaN                NaN                 NaN    NaN   7/25    NaN    NaN\n",
      "2012                         NaN    NaN    NaN   4/17    NaN                NaN                 NaN    NaN    NaN   9/17    NaN\n",
      "2013                         NaN    NaN    NaN    NaN   4/18                NaN                 NaN    NaN    NaN    NaN  10/18\n",
      "2014                         NaN    NaN    NaN    NaN   4/18                NaN                 NaN    NaN    NaN    NaN  10/18\n",
      "2015                         NaN    NaN    NaN    NaN   4/18               1/18                 NaN    NaN    NaN    NaN  10/18\n",
      "2016                         NaN    NaN    NaN    NaN   4/18               5/18                 NaN    NaN    NaN    NaN   6/18\n",
      "2017                         NaN    NaN    NaN    NaN   3/18                NaN                 NaN    NaN    NaN    NaN  11/18\n",
      "----------------------------------------------- #\n",
      "Crop type: Millet\n",
      "----------------------------------------------- #\n",
      "season_name                 Main                                                                                                                                         \n",
      "crop_production_system irrigated                             mechanized_rainfed                               none traditional_rainfed                                   \n",
      "fnid_short                1990A1 2005A1 2011A1 2012A1 2013A1             1990A1 2005A1 2011A1 2012A1 2013A1 2013A1              1976A1 1990A1 2005A1 2011A1 2012A1 2013A1\n",
      "year                                                                                                                                                                     \n",
      "1975                         NaN    NaN    NaN    NaN    NaN                NaN    NaN    NaN    NaN    NaN    NaN                6/18    NaN    NaN    NaN    NaN    NaN\n",
      "1976                         NaN    NaN    NaN    NaN    NaN                NaN    NaN    NaN    NaN    NaN    NaN                6/18    NaN    NaN    NaN    NaN    NaN\n",
      "1977                         NaN    NaN    NaN    NaN    NaN                NaN    NaN    NaN    NaN    NaN    NaN                6/18    NaN    NaN    NaN    NaN    NaN\n",
      "1978                         NaN    NaN    NaN    NaN    NaN                NaN    NaN    NaN    NaN    NaN    NaN                6/18    NaN    NaN    NaN    NaN    NaN\n",
      "1979                         NaN    NaN    NaN    NaN    NaN                NaN    NaN    NaN    NaN    NaN    NaN                6/18    NaN    NaN    NaN    NaN    NaN\n",
      "1980                         NaN    NaN    NaN    NaN    NaN                NaN    NaN    NaN    NaN    NaN    NaN                6/18    NaN    NaN    NaN    NaN    NaN\n",
      "1981                         NaN    NaN    NaN    NaN    NaN                NaN    NaN    NaN    NaN    NaN    NaN                6/18    NaN    NaN    NaN    NaN    NaN\n",
      "1982                         NaN    NaN    NaN    NaN    NaN                NaN    NaN    NaN    NaN    NaN    NaN                6/18    NaN    NaN    NaN    NaN    NaN\n",
      "1983                         NaN    NaN    NaN    NaN    NaN                NaN    NaN    NaN    NaN    NaN    NaN                6/18    NaN    NaN    NaN    NaN    NaN\n",
      "1984                         NaN    NaN    NaN    NaN    NaN                NaN    NaN    NaN    NaN    NaN    NaN                6/18    NaN    NaN    NaN    NaN    NaN\n",
      "1985                         NaN    NaN    NaN    NaN    NaN                NaN    NaN    NaN    NaN    NaN    NaN                6/18    NaN    NaN    NaN    NaN    NaN\n",
      "1986                         NaN    NaN    NaN    NaN    NaN                NaN    NaN    NaN    NaN    NaN    NaN                4/18    NaN    NaN    NaN    NaN    NaN\n",
      "1987                         NaN    NaN    NaN    NaN    NaN                NaN    NaN    NaN    NaN    NaN    NaN                4/18    NaN    NaN    NaN    NaN    NaN\n",
      "1988                         NaN    NaN    NaN    NaN    NaN                NaN    NaN    NaN    NaN    NaN    NaN                4/18    NaN    NaN    NaN    NaN    NaN\n",
      "1989                         NaN    NaN    NaN    NaN    NaN                NaN    NaN    NaN    NaN    NaN    NaN                4/18    NaN    NaN    NaN    NaN    NaN\n",
      "1990                         NaN    NaN    NaN    NaN    NaN               5/26    NaN    NaN    NaN    NaN    NaN                 NaN   9/26    NaN    NaN    NaN    NaN\n",
      "1991                        1/26    NaN    NaN    NaN    NaN               5/26    NaN    NaN    NaN    NaN    NaN                 NaN   9/26    NaN    NaN    NaN    NaN\n",
      "1992                        1/26    NaN    NaN    NaN    NaN               5/26    NaN    NaN    NaN    NaN    NaN                 NaN   9/26    NaN    NaN    NaN    NaN\n",
      "1993                        1/26    NaN    NaN    NaN    NaN               6/26    NaN    NaN    NaN    NaN    NaN                 NaN  10/26    NaN    NaN    NaN    NaN\n",
      "1994                        1/26    NaN    NaN    NaN    NaN               7/26    NaN    NaN    NaN    NaN    NaN                 NaN   9/26    NaN    NaN    NaN    NaN\n",
      "1995                        1/26    NaN    NaN    NaN    NaN               7/26    NaN    NaN    NaN    NaN    NaN                 NaN   9/26    NaN    NaN    NaN    NaN\n",
      "1996                        1/26    NaN    NaN    NaN    NaN               6/26    NaN    NaN    NaN    NaN    NaN                 NaN   9/26    NaN    NaN    NaN    NaN\n",
      "1997                        1/26    NaN    NaN    NaN    NaN               6/26    NaN    NaN    NaN    NaN    NaN                 NaN   9/26    NaN    NaN    NaN    NaN\n",
      "1998                        1/26    NaN    NaN    NaN    NaN               6/26    NaN    NaN    NaN    NaN    NaN                 NaN  10/26    NaN    NaN    NaN    NaN\n",
      "1999                        1/26    NaN    NaN    NaN    NaN               5/26    NaN    NaN    NaN    NaN    NaN                 NaN  10/26    NaN    NaN    NaN    NaN\n",
      "2000                        1/26    NaN    NaN    NaN    NaN               5/26    NaN    NaN    NaN    NaN    NaN                 NaN  10/26    NaN    NaN    NaN    NaN\n",
      "2001                        1/26    NaN    NaN    NaN    NaN               3/26    NaN    NaN    NaN    NaN    NaN                 NaN  10/26    NaN    NaN    NaN    NaN\n",
      "2002                        1/26    NaN    NaN    NaN    NaN               4/26    NaN    NaN    NaN    NaN    NaN                 NaN  11/26    NaN    NaN    NaN    NaN\n",
      "2003                        1/26    NaN    NaN    NaN    NaN               4/26    NaN    NaN    NaN    NaN    NaN                 NaN  11/26    NaN    NaN    NaN    NaN\n",
      "2004                        1/26    NaN    NaN    NaN    NaN               4/26    NaN    NaN    NaN    NaN    NaN                 NaN  11/26    NaN    NaN    NaN    NaN\n",
      "2005                         NaN   1/25    NaN    NaN    NaN                NaN   6/25    NaN    NaN    NaN    NaN                 NaN    NaN  10/25    NaN    NaN    NaN\n",
      "2006                         NaN   1/25    NaN    NaN    NaN                NaN   6/25    NaN    NaN    NaN    NaN                 NaN    NaN  10/25    NaN    NaN    NaN\n",
      "2007                         NaN   1/25    NaN    NaN    NaN                NaN   6/25    NaN    NaN    NaN    NaN                 NaN    NaN  10/25    NaN    NaN    NaN\n",
      "2008                         NaN   1/25    NaN    NaN    NaN                NaN   6/25    NaN    NaN    NaN    NaN                 NaN    NaN  10/25    NaN    NaN    NaN\n",
      "2009                         NaN   1/25    NaN    NaN    NaN                NaN   6/25    NaN    NaN    NaN    NaN                 NaN    NaN  11/25    NaN    NaN    NaN\n",
      "2010                         NaN   1/25    NaN    NaN    NaN                NaN   5/25    NaN    NaN    NaN    NaN                 NaN    NaN  11/25    NaN    NaN    NaN\n",
      "2011                         NaN    NaN   1/25    NaN    NaN                NaN    NaN   5/25    NaN    NaN    NaN                 NaN    NaN    NaN  11/25    NaN    NaN\n",
      "2012                         NaN    NaN    NaN   1/17    NaN                NaN    NaN    NaN   5/17    NaN    NaN                 NaN    NaN    NaN    NaN  12/17    NaN\n",
      "2013                         NaN    NaN    NaN    NaN   1/18                NaN    NaN    NaN    NaN   5/18    NaN                 NaN    NaN    NaN    NaN    NaN  14/18\n",
      "2014                         NaN    NaN    NaN    NaN   1/18                NaN    NaN    NaN    NaN   5/18    NaN                 NaN    NaN    NaN    NaN    NaN  14/18\n",
      "2015                         NaN    NaN    NaN    NaN   1/18                NaN    NaN    NaN    NaN   5/18    NaN                 NaN    NaN    NaN    NaN    NaN  12/18\n",
      "2016                         NaN    NaN    NaN    NaN   1/18                NaN    NaN    NaN    NaN   6/18    NaN                 NaN    NaN    NaN    NaN    NaN  14/18\n",
      "2017                         NaN    NaN    NaN    NaN   1/18                NaN    NaN    NaN    NaN    NaN   4/18                 NaN    NaN    NaN    NaN    NaN  12/18\n",
      "----------------------------------------------- #\n",
      "Crop type: Pigeon Peas\n",
      "----------------------------------------------- #\n",
      "season_name                 Main\n",
      "crop_production_system irrigated\n",
      "fnid_short                2013A1\n",
      "year                            \n",
      "2016                        4/18\n",
      "2017                        6/18\n",
      "----------------------------------------------- #\n",
      "Crop type: Sesame Seed\n",
      "----------------------------------------------- #\n",
      "season_name                 Main                                                                                               \n",
      "crop_production_system irrigated mechanized_rainfed                             traditional_rainfed                            \n",
      "fnid_short                2005A1             1990A1 2005A1 2011A1 2012A1 2013A1              1990A1 2005A1 2011A1 2012A1 2013A1\n",
      "year                                                                                                                           \n",
      "1990                         NaN               6/26    NaN    NaN    NaN    NaN                9/26    NaN    NaN    NaN    NaN\n",
      "1991                         NaN               7/26    NaN    NaN    NaN    NaN                9/26    NaN    NaN    NaN    NaN\n",
      "1992                         NaN               6/26    NaN    NaN    NaN    NaN                9/26    NaN    NaN    NaN    NaN\n",
      "1993                         NaN               5/26    NaN    NaN    NaN    NaN                9/26    NaN    NaN    NaN    NaN\n",
      "1994                         NaN               6/26    NaN    NaN    NaN    NaN                8/26    NaN    NaN    NaN    NaN\n",
      "1995                         NaN               7/26    NaN    NaN    NaN    NaN                9/26    NaN    NaN    NaN    NaN\n",
      "1996                         NaN               6/26    NaN    NaN    NaN    NaN                9/26    NaN    NaN    NaN    NaN\n",
      "1997                         NaN               7/26    NaN    NaN    NaN    NaN                9/26    NaN    NaN    NaN    NaN\n",
      "1998                         NaN               7/26    NaN    NaN    NaN    NaN                9/26    NaN    NaN    NaN    NaN\n",
      "1999                         NaN               7/26    NaN    NaN    NaN    NaN                9/26    NaN    NaN    NaN    NaN\n",
      "2000                         NaN               7/26    NaN    NaN    NaN    NaN                9/26    NaN    NaN    NaN    NaN\n",
      "2001                         NaN               7/26    NaN    NaN    NaN    NaN                9/26    NaN    NaN    NaN    NaN\n",
      "2002                         NaN               5/26    NaN    NaN    NaN    NaN                8/26    NaN    NaN    NaN    NaN\n",
      "2003                         NaN               7/26    NaN    NaN    NaN    NaN                9/26    NaN    NaN    NaN    NaN\n",
      "2004                         NaN               7/26    NaN    NaN    NaN    NaN               10/26    NaN    NaN    NaN    NaN\n",
      "2005                         NaN                NaN   5/25    NaN    NaN    NaN                1/26   8/25    NaN    NaN    NaN\n",
      "2006                         NaN                NaN   7/25    NaN    NaN    NaN                1/26   8/25    NaN    NaN    NaN\n",
      "2007                         NaN                NaN   7/25    NaN    NaN    NaN                 NaN   9/25    NaN    NaN    NaN\n",
      "2008                        7/25                NaN    NaN    NaN    NaN    NaN                 NaN   9/25    NaN    NaN    NaN\n",
      "2009                        7/25                NaN    NaN    NaN    NaN    NaN                 NaN  10/25    NaN    NaN    NaN\n",
      "2010                        6/25                NaN    NaN    NaN    NaN    NaN                 NaN   9/25    NaN    NaN    NaN\n",
      "2011                         NaN                NaN    NaN   6/25    NaN    NaN                 NaN    NaN   9/25    NaN    NaN\n",
      "2012                         NaN                NaN    NaN    NaN   6/17    NaN                 NaN    NaN    NaN  11/17    NaN\n",
      "2013                         NaN                NaN    NaN    NaN    NaN   6/18                 NaN    NaN    NaN    NaN  12/18\n",
      "2014                         NaN                NaN    NaN    NaN    NaN   6/18                 NaN    NaN    NaN    NaN  11/18\n",
      "2015                         NaN                NaN    NaN    NaN    NaN   6/18                 NaN    NaN    NaN    NaN  11/18\n",
      "2016                         NaN                NaN    NaN    NaN    NaN   7/18                 NaN    NaN    NaN    NaN  12/18\n",
      "2017                         NaN                NaN    NaN    NaN    NaN   5/18                 NaN    NaN    NaN    NaN  11/18\n",
      "----------------------------------------------- #\n",
      "Crop type: Sorghum\n",
      "----------------------------------------------- #\n",
      "season_name                 Main                                                                                                                                                       \n",
      "crop_production_system irrigated                                    mechanized_rainfed                                      none traditional_rainfed                                   \n",
      "fnid_short                1976A1 1990A1 2005A1 2011A1 2012A1 2013A1             1976A1 1990A1 2005A1 2011A1 2012A1 2013A1 2013A1              1976A1 1990A1 2005A1 2011A1 2012A1 2013A1\n",
      "year                                                                                                                                                                                   \n",
      "1975                        3/18    NaN    NaN    NaN    NaN    NaN               2/18    NaN    NaN    NaN    NaN    NaN    NaN                7/18    NaN    NaN    NaN    NaN    NaN\n",
      "1976                        3/18    NaN    NaN    NaN    NaN    NaN               2/18    NaN    NaN    NaN    NaN    NaN    NaN                7/18    NaN    NaN    NaN    NaN    NaN\n",
      "1977                        3/18    NaN    NaN    NaN    NaN    NaN               2/18    NaN    NaN    NaN    NaN    NaN    NaN                7/18    NaN    NaN    NaN    NaN    NaN\n",
      "1978                        3/18    NaN    NaN    NaN    NaN    NaN               2/18    NaN    NaN    NaN    NaN    NaN    NaN                7/18    NaN    NaN    NaN    NaN    NaN\n",
      "1979                        3/18    NaN    NaN    NaN    NaN    NaN               1/18    NaN    NaN    NaN    NaN    NaN    NaN                7/18    NaN    NaN    NaN    NaN    NaN\n",
      "1980                        3/18    NaN    NaN    NaN    NaN    NaN               2/18    NaN    NaN    NaN    NaN    NaN    NaN                7/18    NaN    NaN    NaN    NaN    NaN\n",
      "1981                        3/18    NaN    NaN    NaN    NaN    NaN               2/18    NaN    NaN    NaN    NaN    NaN    NaN                7/18    NaN    NaN    NaN    NaN    NaN\n",
      "1982                         NaN    NaN    NaN    NaN    NaN    NaN               2/18    NaN    NaN    NaN    NaN    NaN    NaN                7/18    NaN    NaN    NaN    NaN    NaN\n",
      "1983                        2/18    NaN    NaN    NaN    NaN    NaN               2/18    NaN    NaN    NaN    NaN    NaN    NaN                7/18    NaN    NaN    NaN    NaN    NaN\n",
      "1984                        3/18    NaN    NaN    NaN    NaN    NaN               2/18    NaN    NaN    NaN    NaN    NaN    NaN                7/18    NaN    NaN    NaN    NaN    NaN\n",
      "1985                        3/18    NaN    NaN    NaN    NaN    NaN               2/18    NaN    NaN    NaN    NaN    NaN    NaN                7/18    NaN    NaN    NaN    NaN    NaN\n",
      "1986                        3/18    NaN    NaN    NaN    NaN    NaN               2/18    NaN    NaN    NaN    NaN    NaN    NaN                4/18    NaN    NaN    NaN    NaN    NaN\n",
      "1987                        3/18    NaN    NaN    NaN    NaN    NaN               2/18    NaN    NaN    NaN    NaN    NaN    NaN                4/18    NaN    NaN    NaN    NaN    NaN\n",
      "1988                        3/18    NaN    NaN    NaN    NaN    NaN               2/18    NaN    NaN    NaN    NaN    NaN    NaN                4/18    NaN    NaN    NaN    NaN    NaN\n",
      "1989                        3/18    NaN    NaN    NaN    NaN    NaN               2/18    NaN    NaN    NaN    NaN    NaN    NaN                4/18    NaN    NaN    NaN    NaN    NaN\n",
      "1990                         NaN   7/26    NaN    NaN    NaN    NaN                NaN   7/26    NaN    NaN    NaN    NaN    NaN                 NaN  10/26    NaN    NaN    NaN    NaN\n",
      "1991                         NaN   8/26    NaN    NaN    NaN    NaN                NaN   8/26    NaN    NaN    NaN    NaN    NaN                 NaN  10/26    NaN    NaN    NaN    NaN\n",
      "1992                         NaN   9/26    NaN    NaN    NaN    NaN                NaN   8/26    NaN    NaN    NaN    NaN    NaN                 NaN  11/26    NaN    NaN    NaN    NaN\n",
      "1993                         NaN   9/26    NaN    NaN    NaN    NaN                NaN   8/26    NaN    NaN    NaN    NaN    NaN                 NaN  11/26    NaN    NaN    NaN    NaN\n",
      "1994                         NaN   9/26    NaN    NaN    NaN    NaN                NaN   8/26    NaN    NaN    NaN    NaN    NaN                 NaN  12/26    NaN    NaN    NaN    NaN\n",
      "1995                         NaN   9/26    NaN    NaN    NaN    NaN                NaN   8/26    NaN    NaN    NaN    NaN    NaN                 NaN  12/26    NaN    NaN    NaN    NaN\n",
      "1996                         NaN   9/26    NaN    NaN    NaN    NaN                NaN   8/26    NaN    NaN    NaN    NaN    NaN                 NaN  12/26    NaN    NaN    NaN    NaN\n",
      "1997                         NaN   9/26    NaN    NaN    NaN    NaN                NaN   8/26    NaN    NaN    NaN    NaN    NaN                 NaN  13/26    NaN    NaN    NaN    NaN\n",
      "1998                         NaN   9/26    NaN    NaN    NaN    NaN                NaN   8/26    NaN    NaN    NaN    NaN    NaN                 NaN  13/26    NaN    NaN    NaN    NaN\n",
      "1999                         NaN   8/26    NaN    NaN    NaN    NaN                NaN   8/26    NaN    NaN    NaN    NaN    NaN                 NaN  13/26    NaN    NaN    NaN    NaN\n",
      "2000                         NaN   9/26    NaN    NaN    NaN    NaN                NaN   8/26    NaN    NaN    NaN    NaN    NaN                 NaN  12/26    NaN    NaN    NaN    NaN\n",
      "2001                         NaN   9/26    NaN    NaN    NaN    NaN                NaN   9/26    NaN    NaN    NaN    NaN    NaN                 NaN  13/26    NaN    NaN    NaN    NaN\n",
      "2002                         NaN   9/26    NaN    NaN    NaN    NaN                NaN   8/26    NaN    NaN    NaN    NaN    NaN                 NaN  14/26    NaN    NaN    NaN    NaN\n",
      "2003                         NaN   9/26    NaN    NaN    NaN    NaN                NaN   9/26    NaN    NaN    NaN    NaN    NaN                 NaN  14/26    NaN    NaN    NaN    NaN\n",
      "2004                         NaN  10/26    NaN    NaN    NaN    NaN                NaN   9/26    NaN    NaN    NaN    NaN    NaN                 NaN  14/26    NaN    NaN    NaN    NaN\n",
      "2005                         NaN    NaN  10/25    NaN    NaN    NaN                NaN    NaN   8/25    NaN    NaN    NaN    NaN                 NaN    NaN  13/25    NaN    NaN    NaN\n",
      "2006                         NaN    NaN   9/25    NaN    NaN    NaN                NaN    NaN   8/25    NaN    NaN    NaN    NaN                 NaN    NaN  14/25    NaN    NaN    NaN\n",
      "2007                         NaN    NaN  10/25    NaN    NaN    NaN                NaN    NaN   8/25    NaN    NaN    NaN    NaN                 NaN    NaN  14/25    NaN    NaN    NaN\n",
      "2008                         NaN    NaN  10/25    NaN    NaN    NaN                NaN    NaN   8/25    NaN    NaN    NaN    NaN                 NaN    NaN  14/25    NaN    NaN    NaN\n",
      "2009                         NaN    NaN  10/25    NaN    NaN    NaN                NaN    NaN   7/25    NaN    NaN    NaN    NaN                 NaN    NaN  13/25    NaN    NaN    NaN\n",
      "2010                         NaN    NaN   9/25    NaN    NaN    NaN                NaN    NaN   7/25    NaN    NaN    NaN    NaN                 NaN    NaN  13/25    NaN    NaN    NaN\n",
      "2011                         NaN    NaN    NaN   9/25    NaN    NaN                NaN    NaN    NaN   7/25    NaN    NaN    NaN                 NaN    NaN    NaN  13/25    NaN    NaN\n",
      "2012                         NaN    NaN    NaN    NaN   9/17    NaN                NaN    NaN    NaN    NaN   7/17    NaN    NaN                 NaN    NaN    NaN    NaN  15/17    NaN\n",
      "2013                         NaN    NaN    NaN    NaN    NaN   9/18                NaN    NaN    NaN    NaN    NaN   8/18    NaN                 NaN    NaN    NaN    NaN    NaN  16/18\n",
      "2014                         NaN    NaN    NaN    NaN    NaN   9/18                NaN    NaN    NaN    NaN    NaN   8/18    NaN                 NaN    NaN    NaN    NaN    NaN  16/18\n",
      "2015                         NaN    NaN    NaN    NaN    NaN   9/18                NaN    NaN    NaN    NaN    NaN   6/18    NaN                 NaN    NaN    NaN    NaN    NaN  15/18\n",
      "2016                         NaN    NaN    NaN    NaN    NaN   9/18                NaN    NaN    NaN    NaN    NaN   8/18    NaN                 NaN    NaN    NaN    NaN    NaN  16/18\n",
      "2017                         NaN    NaN    NaN    NaN    NaN   9/18                NaN    NaN    NaN    NaN    NaN    NaN   8/18                 NaN    NaN    NaN    NaN    NaN  13/18\n",
      "----------------------------------------------- #\n",
      "Crop type: Sunflower Seed\n",
      "----------------------------------------------- #\n",
      "season_name                 Main                                                                                               \n",
      "crop_production_system irrigated                             mechanized_rainfed traditional_rainfed                            \n",
      "fnid_short                1990A1 2005A1 2011A1 2012A1 2013A1             2013A1              1990A1 2005A1 2011A1 2012A1 2013A1\n",
      "year                                                                                                                           \n",
      "1990                         NaN    NaN    NaN    NaN    NaN                NaN                4/26    NaN    NaN    NaN    NaN\n",
      "1991                         NaN    NaN    NaN    NaN    NaN                NaN                3/26    NaN    NaN    NaN    NaN\n",
      "1992                        1/26    NaN    NaN    NaN    NaN                NaN                3/26    NaN    NaN    NaN    NaN\n",
      "1993                        2/26    NaN    NaN    NaN    NaN                NaN                4/26    NaN    NaN    NaN    NaN\n",
      "1994                        4/26    NaN    NaN    NaN    NaN                NaN                4/26    NaN    NaN    NaN    NaN\n",
      "1995                        4/26    NaN    NaN    NaN    NaN                NaN                5/26    NaN    NaN    NaN    NaN\n",
      "1996                        2/26    NaN    NaN    NaN    NaN                NaN                3/26    NaN    NaN    NaN    NaN\n",
      "1997                        3/26    NaN    NaN    NaN    NaN                NaN                3/26    NaN    NaN    NaN    NaN\n",
      "1998                        2/26    NaN    NaN    NaN    NaN                NaN                4/26    NaN    NaN    NaN    NaN\n",
      "1999                        1/26    NaN    NaN    NaN    NaN                NaN                4/26    NaN    NaN    NaN    NaN\n",
      "2000                        1/26    NaN    NaN    NaN    NaN                NaN                4/26    NaN    NaN    NaN    NaN\n",
      "2001                         NaN    NaN    NaN    NaN    NaN                NaN                3/26    NaN    NaN    NaN    NaN\n",
      "2002                        1/26    NaN    NaN    NaN    NaN                NaN                2/26    NaN    NaN    NaN    NaN\n",
      "2003                        2/26    NaN    NaN    NaN    NaN                NaN                3/26    NaN    NaN    NaN    NaN\n",
      "2004                        2/26    NaN    NaN    NaN    NaN                NaN                2/26    NaN    NaN    NaN    NaN\n",
      "2005                         NaN   4/25    NaN    NaN    NaN                NaN                 NaN   4/25    NaN    NaN    NaN\n",
      "2006                         NaN   4/25    NaN    NaN    NaN                NaN                 NaN   5/25    NaN    NaN    NaN\n",
      "2007                         NaN   3/25    NaN    NaN    NaN                NaN                 NaN   6/25    NaN    NaN    NaN\n",
      "2008                         NaN   4/25    NaN    NaN    NaN                NaN                 NaN   6/25    NaN    NaN    NaN\n",
      "2009                         NaN   3/25    NaN    NaN    NaN                NaN                 NaN   4/25    NaN    NaN    NaN\n",
      "2010                         NaN   3/25    NaN    NaN    NaN                NaN                 NaN   3/25    NaN    NaN    NaN\n",
      "2011                         NaN    NaN   4/25    NaN    NaN                NaN                 NaN    NaN   4/25    NaN    NaN\n",
      "2012                         NaN    NaN    NaN   4/17    NaN                NaN                 NaN    NaN    NaN   3/17    NaN\n",
      "2013                         NaN    NaN    NaN    NaN   3/18                NaN                 NaN    NaN    NaN    NaN   3/18\n",
      "2014                         NaN    NaN    NaN    NaN   3/18                NaN                 NaN    NaN    NaN    NaN   3/18\n",
      "2015                         NaN    NaN    NaN    NaN   3/18               2/18                 NaN    NaN    NaN    NaN   2/18\n",
      "2016                         NaN    NaN    NaN    NaN   2/18               4/18                 NaN    NaN    NaN    NaN    NaN\n",
      "2017                         NaN    NaN    NaN    NaN   3/18                NaN                 NaN    NaN    NaN    NaN   3/18\n",
      "----------------------------------------------- #\n",
      "Crop type: Wheat Grain\n",
      "----------------------------------------------- #\n",
      "season_name                 Main                                                    Winter                                   \n",
      "crop_production_system irrigated traditional_rainfed                             irrigated                                   \n",
      "fnid_short                2013A1              1990A1 2005A1 2011A1 2012A1 2013A1    1976A1 1990A1 2005A1 2011A1 2012A1 2013A1\n",
      "year                                                                                                                         \n",
      "1975                         NaN                 NaN    NaN    NaN    NaN    NaN      3/18    NaN    NaN    NaN    NaN    NaN\n",
      "1976                         NaN                 NaN    NaN    NaN    NaN    NaN      3/18    NaN    NaN    NaN    NaN    NaN\n",
      "1977                         NaN                 NaN    NaN    NaN    NaN    NaN      3/18    NaN    NaN    NaN    NaN    NaN\n",
      "1978                         NaN                 NaN    NaN    NaN    NaN    NaN      3/18    NaN    NaN    NaN    NaN    NaN\n",
      "1979                         NaN                 NaN    NaN    NaN    NaN    NaN      2/18    NaN    NaN    NaN    NaN    NaN\n",
      "1980                         NaN                 NaN    NaN    NaN    NaN    NaN      3/18    NaN    NaN    NaN    NaN    NaN\n",
      "1981                         NaN                 NaN    NaN    NaN    NaN    NaN      3/18    NaN    NaN    NaN    NaN    NaN\n",
      "1982                         NaN                 NaN    NaN    NaN    NaN    NaN       NaN    NaN    NaN    NaN    NaN    NaN\n",
      "1983                         NaN                 NaN    NaN    NaN    NaN    NaN      3/18    NaN    NaN    NaN    NaN    NaN\n",
      "1984                         NaN                 NaN    NaN    NaN    NaN    NaN      3/18    NaN    NaN    NaN    NaN    NaN\n",
      "1985                         NaN                 NaN    NaN    NaN    NaN    NaN      2/18    NaN    NaN    NaN    NaN    NaN\n",
      "1986                         NaN                 NaN    NaN    NaN    NaN    NaN      3/18    NaN    NaN    NaN    NaN    NaN\n",
      "1987                         NaN                 NaN    NaN    NaN    NaN    NaN      3/18    NaN    NaN    NaN    NaN    NaN\n",
      "1988                         NaN                 NaN    NaN    NaN    NaN    NaN      3/18    NaN    NaN    NaN    NaN    NaN\n",
      "1989                         NaN                 NaN    NaN    NaN    NaN    NaN      3/18    NaN    NaN    NaN    NaN    NaN\n",
      "1990                         NaN                1/26    NaN    NaN    NaN    NaN       NaN   9/26    NaN    NaN    NaN    NaN\n",
      "1991                         NaN                1/26    NaN    NaN    NaN    NaN       NaN   8/26    NaN    NaN    NaN    NaN\n",
      "1992                         NaN                1/26    NaN    NaN    NaN    NaN       NaN   8/26    NaN    NaN    NaN    NaN\n",
      "1993                         NaN                 NaN    NaN    NaN    NaN    NaN       NaN   8/26    NaN    NaN    NaN    NaN\n",
      "1994                         NaN                1/26    NaN    NaN    NaN    NaN       NaN   8/26    NaN    NaN    NaN    NaN\n",
      "1995                         NaN                1/26    NaN    NaN    NaN    NaN       NaN   7/26    NaN    NaN    NaN    NaN\n",
      "1996                         NaN                2/26    NaN    NaN    NaN    NaN       NaN   8/26    NaN    NaN    NaN    NaN\n",
      "1997                         NaN                2/26    NaN    NaN    NaN    NaN       NaN   8/26    NaN    NaN    NaN    NaN\n",
      "1998                         NaN                1/26    NaN    NaN    NaN    NaN       NaN   6/26    NaN    NaN    NaN    NaN\n",
      "1999                         NaN                1/26    NaN    NaN    NaN    NaN       NaN   5/26    NaN    NaN    NaN    NaN\n",
      "2000                         NaN                1/26    NaN    NaN    NaN    NaN       NaN   5/26    NaN    NaN    NaN    NaN\n",
      "2001                         NaN                1/26    NaN    NaN    NaN    NaN       NaN   5/26    NaN    NaN    NaN    NaN\n",
      "2002                         NaN                1/26    NaN    NaN    NaN    NaN       NaN   5/26    NaN    NaN    NaN    NaN\n",
      "2003                         NaN                1/26    NaN    NaN    NaN    NaN       NaN   5/26    NaN    NaN    NaN    NaN\n",
      "2004                         NaN                1/26    NaN    NaN    NaN    NaN       NaN   5/26    NaN    NaN    NaN    NaN\n",
      "2005                         NaN                 NaN   2/25    NaN    NaN    NaN       NaN    NaN   5/25    NaN    NaN    NaN\n",
      "2006                         NaN                 NaN   2/25    NaN    NaN    NaN       NaN    NaN   5/25    NaN    NaN    NaN\n",
      "2007                         NaN                 NaN   2/25    NaN    NaN    NaN       NaN    NaN   8/25    NaN    NaN    NaN\n",
      "2008                         NaN                 NaN   2/25    NaN    NaN    NaN       NaN    NaN   7/25    NaN    NaN    NaN\n",
      "2009                         NaN                 NaN   2/25    NaN    NaN    NaN       NaN    NaN   6/25    NaN    NaN    NaN\n",
      "2010                         NaN                 NaN   2/25    NaN    NaN    NaN       NaN    NaN   7/25    NaN    NaN    NaN\n",
      "2011                         NaN                 NaN    NaN   2/25    NaN    NaN       NaN    NaN    NaN   6/25    NaN    NaN\n",
      "2012                         NaN                 NaN    NaN    NaN   2/17    NaN       NaN    NaN    NaN    NaN   5/17    NaN\n",
      "2013                         NaN                 NaN    NaN    NaN    NaN   2/18       NaN    NaN    NaN    NaN    NaN   6/18\n",
      "2014                         NaN                 NaN    NaN    NaN    NaN   2/18       NaN    NaN    NaN    NaN    NaN   6/18\n",
      "2015                         NaN                 NaN    NaN    NaN    NaN   3/18       NaN    NaN    NaN    NaN    NaN   6/18\n",
      "2016                         NaN                 NaN    NaN    NaN    NaN   2/18       NaN    NaN    NaN    NaN    NaN   7/18\n",
      "2017                        5/18                 NaN    NaN    NaN    NaN   2/18       NaN    NaN    NaN    NaN    NaN    NaN\n",
      "----------------------------------------------- #\n",
      "../figures/SD_admin_shapes.png is saved.\n"
     ]
    }
   ],
   "source": [
    "# Manual Pre-processing before Sweeping --------- #\n",
    "# 1. Default setting \n",
    "# a) None-type crop production system\n",
    "df.loc[df['crop_production_system'].isna(), 'crop_production_system'] = 'none'\n",
    "df.loc[df['crop_production_system'] == '', 'crop_production_system'] = 'none'\n",
    "# b) None-type population group\n",
    "df.loc[df['population_group'].isna(), 'population_group'] = 'none'\n",
    "df.loc[df['population_group'] == '', 'population_group'] = 'none'\n",
    "\n",
    "# Drop items at the country level (w/ FNID = 'SD')\n",
    "df = df.loc[~(df.fnid=='SD')]\n",
    "\n",
    "# Drop the IOM population group in South Sudan\n",
    "df = df.loc[~(df['population_group'] ==  'Returnees (by IOM)')]\n",
    "\n",
    "#Drop the blank (nan) rows that are duplicates of rows that do have data\n",
    "df = df[np.isfinite(df.value)]\n",
    "\n",
    "#drop the admin 0 observations\n",
    "df = df[~(df.fnid.astype(str).str[6:8]=='A0')]\n",
    "\n",
    "#drop the admin 2 observations (by selecting for None type) because in there aren't enough to make a dataset from\n",
    "df = df[df['admin_2'].isna()]\n",
    "\n",
    "# FDW Production Data Inspection ---------------- #\n",
    "df, df_raw = FDW_PD_Sweeper(df)\n",
    "table_dict = FDW_PD_AvalTable(df, shape_all)\n",
    "# ----------------------------------------------- #\n",
    "\n",
    "# FEWS NET Shapefile comparison ----------------- #\n",
    "shape_used = pd.concat([SD_Admin1_1976,SD_Admin1_1990,SD_Admin1_2005,SD_Admin1_2011,SS_Admin1_2011,SD_Admin1_2012,SD_Admin1_2013], axis=0)\n",
    "PlotAdminShapes(shape_used, label=True)\n",
    "# ----------------------------------------------- #"
   ]
  },
  {
   "cell_type": "markdown",
   "id": "c306101b-6d9e-45d3-af48-3cecb4033e29",
   "metadata": {},
   "source": [
    "## Sudan and South Sudan\n",
    "Sudan and South Sudan crop seasonal calendar\n",
    "\n",
    "![FEWS NET](https://fews.net/sites/default/files/styles/large_width_880/public/2023-03/seasonal-calendar-sudan.png?itok=DRc-ECNF)\n",
    "\n",
    "![USDA](https://ipad.fas.usda.gov/countrysummary/images/SU/cropcalendar/eafrica_su_calendar.png)\n",
    "\n",
    "- comparison of boundaries\n",
    "![image](../gscd/figures/SD_admin_shapes.png)\n",
    "\n",
    "- In Sudan and South Sudan, basd on the FEWS NET data, there were six changes in administrative units, although they are mostly minor at the admin 1 level\n",
    "\n",
    "| year\t | Admin1   | # units   | Admin2   | # units   |\n",
    "| :---: | :----:  | :----:   | :----:   | :---:  |\n",
    "| 1976\t | SD1976A1 | 18\t| nan\t| 0\t|\n",
    "| 1990\t | SD1990A1 | 26\t| nan\t| 0\t|\n",
    "| 2005\t | SD2005A1 | 25\t| nan\t| 0\t|\n",
    "| 2011\t | SD2011A1 | 15\t| SD2011A2\t| 133\t|\n",
    "| 2012\t | SD2012A1 | 17\t| nan\t| 0\t|\n",
    "| 2013\t | SD2013A1 | 18\t| nan\t| 0\t|\n",
    "\n",
    "\n",
    "- Only wheat has two seasons (Main and Winter), and the vast majority of data is winter\n",
    "- While there is a shapefile for 2014 and 2021, there is no crop data associated with either shapefile, so we use 2013 as the most recent shapefile"
   ]
  },
  {
   "cell_type": "code",
   "execution_count": 5,
   "id": "b829c5de-2d2a-497f-aef5-aa7e76b30cdc",
   "metadata": {},
   "outputs": [
    {
     "name": "stdout",
     "output_type": "stream",
     "text": [
      "SD2011A115:\t\"Gezira\" (FDW) is changed to \"Jazirah\" (shapefile).\n",
      "SD2011A112:\t\"Gedaref\" (FDW) is changed to \"Qadarif\" (shapefile).\n"
     ]
    }
   ],
   "source": [
    "# Define the latest shapefile ------------------- #\n",
    "latest_level = 1\n",
    "shape_latest = SD_Admin1_2013.copy().to_crs('epsg:20135')\n",
    "# ----------------------------------------------- #\n",
    "\n",
    "# Validation of FNIDs and Names ----------------- #\n",
    "df = FDW_PD_ValidateFnidName(df, shape_used, shape_latest)\n",
    "# ----------------------------------------------- #\n",
    "\n",
    "# FDW Production Data Compiling ----------------- #\n",
    "area, prod = FDW_PD_Compiling(df, shape_used)\n",
    "area_all, prod_all = area.copy(), prod.copy()\n",
    "mdx_pss = area.columns.droplevel([0,1]).unique()\n",
    "# ----------------------------------------------- #"
   ]
  },
  {
   "cell_type": "code",
   "execution_count": 6,
   "id": "789cd401-4c6a-4927-ad88-2ffea4be6b15",
   "metadata": {},
   "outputs": [],
   "source": [
    "# Link admin boundaries ------------------------- #\n",
    "link_1976, over_1976 = FDW_PD_CreateAdminLink(SD_Admin1_1976, SD_Admin1_2013, 'ADMIN1', 'ADMIN1', prod, epsg)\n",
    "link_1990, over_1990 = FDW_PD_CreateAdminLink(SD_Admin1_1990, SD_Admin1_2013, 'ADMIN1', 'ADMIN1', prod, epsg)\n",
    "link_2005, over_2005 = FDW_PD_CreateAdminLink(SD_Admin1_2005, SD_Admin1_2013, 'ADMIN1', 'ADMIN1', prod, epsg)\n",
    "link_2011, over_2011 = FDW_PD_CreateAdminLink(SD_Admin1_2011, SD_Admin1_2013, 'ADMIN1', 'ADMIN1', prod, epsg)\n",
    "link_2012, over_2012 = FDW_PD_CreateAdminLink(SD_Admin1_2012, SD_Admin1_2013, 'ADMIN1', 'ADMIN1', prod, epsg)\n",
    "\n",
    "\n",
    "# Crop specific ratios\n",
    "link_ratio_1976 = FDW_PD_RatioAdminLink(link_1976, prod, over_1976, mdx_pss)\n",
    "link_ratio_1990 = FDW_PD_RatioAdminLink(link_1990, prod, over_1990, mdx_pss)\n",
    "link_ratio_2005 = FDW_PD_RatioAdminLink(link_2005, prod, over_2005, mdx_pss)\n",
    "link_ratio_2011 = FDW_PD_RatioAdminLink(link_2011, prod, over_2011, mdx_pss)\n",
    "link_ratio_2012 = FDW_PD_RatioAdminLink(link_2012, prod, over_2012, mdx_pss)\n",
    "\n",
    "\n",
    "# Merge link_ratio\n",
    "assert link_ratio_1976.keys() == link_ratio_2012.keys()\n",
    "assert link_ratio_1990.keys() == link_ratio_2012.keys()\n",
    "assert link_ratio_2005.keys() == link_ratio_2012.keys()\n",
    "assert link_ratio_2011.keys() == link_ratio_2012.keys()\n",
    "\n",
    "link_merged = [link_ratio_1976, link_ratio_1990, link_ratio_2005, \n",
    "               link_ratio_2011, link_ratio_2012]\n",
    "fnids_new = list(link_merged[0].keys())\n",
    "link_ratio = dict()\n",
    "for fnid in fnids_new:\n",
    "    container = []\n",
    "    for link in link_merged:\n",
    "        container.append(link[fnid])\n",
    "    link_ratio[fnid] = pd.concat(container, axis=1)\n",
    "# Add current unit to link_ratio\n",
    "for fnid_new in link_ratio.keys():\n",
    "    link_ratio[fnid_new][fnid_new] = 1.0\n",
    "    link_ratio[fnid_new] = link_ratio[fnid_new].sort_index(axis=1, ascending=False)\n",
    "# Connect data with AdminLink\n",
    "area_new, prod_new = FDW_PD_ConnectAdminLink(link_ratio, area, prod, validation=False)\n",
    "# ----------------------------------------------- #"
   ]
  },
  {
   "cell_type": "code",
   "execution_count": 7,
   "id": "3a58fd97-7c28-4ba4-864c-ade6f02350ea",
   "metadata": {},
   "outputs": [
    {
     "data": {
      "text/html": [
       "<div>\n",
       "<style scoped>\n",
       "    .dataframe tbody tr th:only-of-type {\n",
       "        vertical-align: middle;\n",
       "    }\n",
       "\n",
       "    .dataframe tbody tr th {\n",
       "        vertical-align: top;\n",
       "    }\n",
       "\n",
       "    .dataframe thead th {\n",
       "        text-align: right;\n",
       "    }\n",
       "</style>\n",
       "<table border=\"1\" class=\"dataframe\">\n",
       "  <thead>\n",
       "    <tr style=\"text-align: right;\">\n",
       "      <th></th>\n",
       "      <th>fnid</th>\n",
       "      <th>name</th>\n",
       "      <th>product</th>\n",
       "      <th>season_name</th>\n",
       "      <th>planting_month</th>\n",
       "      <th>harvest_month</th>\n",
       "      <th>crop_production_system</th>\n",
       "      <th>harvest_year</th>\n",
       "      <th>value</th>\n",
       "      <th>indicator</th>\n",
       "      <th>planting_year</th>\n",
       "    </tr>\n",
       "  </thead>\n",
       "  <tbody>\n",
       "    <tr>\n",
       "      <th>0</th>\n",
       "      <td>SD2013A101</td>\n",
       "      <td>Khartoum</td>\n",
       "      <td>Sorghum</td>\n",
       "      <td>Main</td>\n",
       "      <td>10-01</td>\n",
       "      <td>10-01</td>\n",
       "      <td>irrigated</td>\n",
       "      <td>1992</td>\n",
       "      <td>2520.000000</td>\n",
       "      <td>area</td>\n",
       "      <td>1992</td>\n",
       "    </tr>\n",
       "    <tr>\n",
       "      <th>1</th>\n",
       "      <td>SD2013A109</td>\n",
       "      <td>White Nile</td>\n",
       "      <td>Sorghum</td>\n",
       "      <td>Main</td>\n",
       "      <td>10-01</td>\n",
       "      <td>10-01</td>\n",
       "      <td>irrigated</td>\n",
       "      <td>1992</td>\n",
       "      <td>14837.238843</td>\n",
       "      <td>area</td>\n",
       "      <td>1992</td>\n",
       "    </tr>\n",
       "    <tr>\n",
       "      <th>2</th>\n",
       "      <td>SD2013A110</td>\n",
       "      <td>Red Sea</td>\n",
       "      <td>Sorghum</td>\n",
       "      <td>Main</td>\n",
       "      <td>10-01</td>\n",
       "      <td>10-01</td>\n",
       "      <td>irrigated</td>\n",
       "      <td>1992</td>\n",
       "      <td>16800.000000</td>\n",
       "      <td>area</td>\n",
       "      <td>1992</td>\n",
       "    </tr>\n",
       "    <tr>\n",
       "      <th>3</th>\n",
       "      <td>SD2013A111</td>\n",
       "      <td>Kassala</td>\n",
       "      <td>Sorghum</td>\n",
       "      <td>Main</td>\n",
       "      <td>10-01</td>\n",
       "      <td>10-01</td>\n",
       "      <td>irrigated</td>\n",
       "      <td>1992</td>\n",
       "      <td>80220.000000</td>\n",
       "      <td>area</td>\n",
       "      <td>1992</td>\n",
       "    </tr>\n",
       "    <tr>\n",
       "      <th>4</th>\n",
       "      <td>SD2013A112</td>\n",
       "      <td>Gedaref</td>\n",
       "      <td>Sorghum</td>\n",
       "      <td>Main</td>\n",
       "      <td>10-01</td>\n",
       "      <td>10-01</td>\n",
       "      <td>irrigated</td>\n",
       "      <td>1992</td>\n",
       "      <td>30660.000000</td>\n",
       "      <td>area</td>\n",
       "      <td>1992</td>\n",
       "    </tr>\n",
       "    <tr>\n",
       "      <th>...</th>\n",
       "      <td>...</td>\n",
       "      <td>...</td>\n",
       "      <td>...</td>\n",
       "      <td>...</td>\n",
       "      <td>...</td>\n",
       "      <td>...</td>\n",
       "      <td>...</td>\n",
       "      <td>...</td>\n",
       "      <td>...</td>\n",
       "      <td>...</td>\n",
       "      <td>...</td>\n",
       "    </tr>\n",
       "    <tr>\n",
       "      <th>11337</th>\n",
       "      <td>SS2011A123</td>\n",
       "      <td>Warrap</td>\n",
       "      <td>Cereal Crops (Mixed)</td>\n",
       "      <td>Main</td>\n",
       "      <td>10-01</td>\n",
       "      <td>01-01</td>\n",
       "      <td>none</td>\n",
       "      <td>2013</td>\n",
       "      <td>0.542683</td>\n",
       "      <td>yield</td>\n",
       "      <td>2012</td>\n",
       "    </tr>\n",
       "    <tr>\n",
       "      <th>11338</th>\n",
       "      <td>SS2011A124</td>\n",
       "      <td>Lakes</td>\n",
       "      <td>Cereal Crops (Mixed)</td>\n",
       "      <td>Main</td>\n",
       "      <td>10-01</td>\n",
       "      <td>01-01</td>\n",
       "      <td>none</td>\n",
       "      <td>2013</td>\n",
       "      <td>0.725275</td>\n",
       "      <td>yield</td>\n",
       "      <td>2012</td>\n",
       "    </tr>\n",
       "    <tr>\n",
       "      <th>11339</th>\n",
       "      <td>SS2011A131</td>\n",
       "      <td>Western Equatoria</td>\n",
       "      <td>Cereal Crops (Mixed)</td>\n",
       "      <td>Main</td>\n",
       "      <td>10-01</td>\n",
       "      <td>01-01</td>\n",
       "      <td>none</td>\n",
       "      <td>2013</td>\n",
       "      <td>0.993671</td>\n",
       "      <td>yield</td>\n",
       "      <td>2012</td>\n",
       "    </tr>\n",
       "    <tr>\n",
       "      <th>11340</th>\n",
       "      <td>SS2011A132</td>\n",
       "      <td>Central Equatoria</td>\n",
       "      <td>Cereal Crops (Mixed)</td>\n",
       "      <td>Main</td>\n",
       "      <td>10-01</td>\n",
       "      <td>01-01</td>\n",
       "      <td>none</td>\n",
       "      <td>2013</td>\n",
       "      <td>0.743243</td>\n",
       "      <td>yield</td>\n",
       "      <td>2012</td>\n",
       "    </tr>\n",
       "    <tr>\n",
       "      <th>11341</th>\n",
       "      <td>SS2011A133</td>\n",
       "      <td>Eastern Equatoria</td>\n",
       "      <td>Cereal Crops (Mixed)</td>\n",
       "      <td>Main</td>\n",
       "      <td>10-01</td>\n",
       "      <td>01-01</td>\n",
       "      <td>none</td>\n",
       "      <td>2013</td>\n",
       "      <td>0.869231</td>\n",
       "      <td>yield</td>\n",
       "      <td>2012</td>\n",
       "    </tr>\n",
       "  </tbody>\n",
       "</table>\n",
       "<p>11342 rows × 11 columns</p>\n",
       "</div>"
      ],
      "text/plain": [
       "             fnid               name               product season_name  \\\n",
       "0      SD2013A101           Khartoum               Sorghum        Main   \n",
       "1      SD2013A109         White Nile               Sorghum        Main   \n",
       "2      SD2013A110            Red Sea               Sorghum        Main   \n",
       "3      SD2013A111            Kassala               Sorghum        Main   \n",
       "4      SD2013A112            Gedaref               Sorghum        Main   \n",
       "...           ...                ...                   ...         ...   \n",
       "11337  SS2011A123             Warrap  Cereal Crops (Mixed)        Main   \n",
       "11338  SS2011A124              Lakes  Cereal Crops (Mixed)        Main   \n",
       "11339  SS2011A131  Western Equatoria  Cereal Crops (Mixed)        Main   \n",
       "11340  SS2011A132  Central Equatoria  Cereal Crops (Mixed)        Main   \n",
       "11341  SS2011A133  Eastern Equatoria  Cereal Crops (Mixed)        Main   \n",
       "\n",
       "      planting_month harvest_month crop_production_system  harvest_year  \\\n",
       "0              10-01         10-01              irrigated          1992   \n",
       "1              10-01         10-01              irrigated          1992   \n",
       "2              10-01         10-01              irrigated          1992   \n",
       "3              10-01         10-01              irrigated          1992   \n",
       "4              10-01         10-01              irrigated          1992   \n",
       "...              ...           ...                    ...           ...   \n",
       "11337          10-01         01-01                   none          2013   \n",
       "11338          10-01         01-01                   none          2013   \n",
       "11339          10-01         01-01                   none          2013   \n",
       "11340          10-01         01-01                   none          2013   \n",
       "11341          10-01         01-01                   none          2013   \n",
       "\n",
       "              value indicator  planting_year  \n",
       "0       2520.000000      area           1992  \n",
       "1      14837.238843      area           1992  \n",
       "2      16800.000000      area           1992  \n",
       "3      80220.000000      area           1992  \n",
       "4      30660.000000      area           1992  \n",
       "...             ...       ...            ...  \n",
       "11337      0.542683     yield           2012  \n",
       "11338      0.725275     yield           2012  \n",
       "11339      0.993671     yield           2012  \n",
       "11340      0.743243     yield           2012  \n",
       "11341      0.869231     yield           2012  \n",
       "\n",
       "[11342 rows x 11 columns]"
      ]
     },
     "execution_count": 7,
     "metadata": {},
     "output_type": "execute_result"
    }
   ],
   "source": [
    "# Manual correction ----------------------------- #\n",
    "crop_new = prod_new/area_new\n",
    "\n",
    "# Complete long format DataFrame ---------------- #\n",
    "df_area = area_new.T.stack().rename('value').reset_index()\n",
    "df_area['indicator'] = 'area'\n",
    "df_prod = prod_new.T.stack().rename('value').reset_index()\n",
    "df_prod['indicator'] = 'production'\n",
    "df_yield = (prod_new/area_new).T.stack().rename('value').reset_index()\n",
    "df_yield['indicator'] = 'yield'\n",
    "stack = pd.concat([df_area, df_prod, df_yield], axis=0)\n",
    "# Add \"growing year\"\n",
    "cols = ['season_name','product','crop_production_system','planting_month','harvest_year','harvest_month','planting_year']\n",
    "season_table = df[cols].drop_duplicates()\n",
    "stack = stack.merge(season_table, on=cols[:-1])\n",
    "#stack = stack.merge(df[['fnid','country','country_code','admin_1','admin_2']].drop_duplicates(), on='fnid', how='inner')\n",
    "stack"
   ]
  },
  {
   "cell_type": "code",
   "execution_count": 8,
   "id": "20272ff1-9c5b-4fb9-a282-32d4fd9b738c",
   "metadata": {},
   "outputs": [
    {
     "name": "stdout",
     "output_type": "stream",
     "text": [
      "All [season_name, product, crop_production_system] are in the external crop calendar.\n",
      "../data/crop/adm_crop_production_SD.csv is saved.\n",
      "../data/crop/adm_crop_production_SS.csv is saved.\n"
     ]
    }
   ],
   "source": [
    "# Manual correction ----------------------------- #\n",
    "crop_new = prod_new/area_new\n",
    "\n",
    "# Complete long format DataFrame ---------------- #\n",
    "df_area = area_new.T.stack().rename('value').reset_index()\n",
    "df_area['indicator'] = 'area'\n",
    "df_prod = prod_new.T.stack().rename('value').reset_index()\n",
    "df_prod['indicator'] = 'production'\n",
    "df_yield = (prod_new/area_new).T.stack().rename('value').reset_index()\n",
    "df_yield['indicator'] = 'yield'\n",
    "stack = pd.concat([df_area, df_prod, df_yield], axis=0)\n",
    "# Add \"planting year\"\n",
    "cols = ['season_name','product','crop_production_system','planting_month','harvest_year','harvest_month','planting_year']\n",
    "season_table = df[cols].drop_duplicates()\n",
    "stack = stack.merge(season_table, on=cols[:-1])\n",
    "# Add country and admin names\n",
    "stack = stack.merge(df[['fnid','country','country_code','admin_1','admin_2']].drop_duplicates(), on='fnid', how='inner')\n",
    "names = [\n",
    "    'fnid','country','country_code','admin_1','admin_2','name',\n",
    "    'product','season_name','planting_year','planting_month','harvest_year','harvest_month',\n",
    "    'crop_production_system','indicator','value'\n",
    "]\n",
    "stack = stack[names]\n",
    "\n",
    "# Final Processing ------------------------------ #\n",
    "# Manual change of product name\n",
    "product_category_custom = {\n",
    "    'Cereal Crops (Mixed)': 'Cereal Crops (Mixed)',\n",
    "    'Cotton (Acala)': 'Cotton (Acala)',\n",
    "    'Cotton (American)': 'Cotton (American)',\n",
    "    'Cotton (Egyptian)': 'Cotton (Egyptian)',\n",
    "    'Groundnuts (In Shell)': 'Groundnuts (In Shell)',\n",
    "    'Millet': 'Millet',\n",
    "    'Pigeon Peas': 'Pigeon Peas',\n",
    "    'Sesame Seed': 'Sesame Seed',\n",
    "    'Sorghum': 'Sorghum',\n",
    "    'Sunflower Seed': 'Sunflower Seed',\n",
    "    'Wheat Grain': 'Wheat'\n",
    " }\n",
    "assert set(stack['product'].unique()) == set(product_category_custom.keys())\n",
    "stack['product'] = stack['product'].replace(product_category_custom)\n",
    "for f, r in link_ratio.items():\n",
    "    mdx = pd.MultiIndex.from_frame(r.index.to_frame().reset_index(drop=True).replace(product_category_custom))\n",
    "    r.index = mdx\n",
    "    link_ratio[f] = r\n",
    "# Calibration of crop calendar using External Crop Calendar (ECC)\n",
    "ecc = pd.read_csv('../data/crop_calendar/external_crop_calendar.csv')\n",
    "ecc = ecc[(ecc['country'] == 'Sudan')|(ecc['country'] == 'South Sudan')]\n",
    "stack, link_ratio = FDW_PD_CaliSeasonYear(stack, ecc, link_ratio)\n",
    "# None admin names\n",
    "stack.loc[stack['admin_1'].isna(), 'admin_1'] = 'none'\n",
    "stack.loc[stack['admin_2'].isna(), 'admin_2'] = 'none'\n",
    "# ----------------------------------------------- #\n",
    "\n",
    "# Save data\n",
    "stack_sd = stack[stack['country'] == 'Sudan'].reset_index(drop=True)\n",
    "fn_out = '../data/crop/adm_crop_production_SD.csv'\n",
    "stack_sd.to_csv(fn_out); print(f'{fn_out} is saved.')\n",
    "stack_ss = stack[stack['country'] == 'South Sudan'].reset_index(drop=True)\n",
    "fn_out = '../data/crop/adm_crop_production_SS.csv'\n",
    "stack_ss.to_csv(fn_out); print(f'{fn_out} is saved.')"
   ]
  },
  {
   "cell_type": "markdown",
   "id": "bf1e7c1c-6138-4f8e-b6e3-9afa1f3b3cd2",
   "metadata": {},
   "source": [
    "## Visualization of production data"
   ]
  },
  {
   "cell_type": "code",
   "execution_count": 9,
   "id": "6f75d416-b5a8-49ce-987f-6723589512f1",
   "metadata": {},
   "outputs": [
    {
     "name": "stdout",
     "output_type": "stream",
     "text": [
      "../figures/SD_bar_natgrainprod_Main.png is saved.\n"
     ]
    },
    {
     "data": {
      "application/vnd.plotly.v1+json": {
       "config": {
        "plotlyServerURL": "https://plot.ly"
       },
       "data": [
        {
         "alignmentgroup": "True",
         "hovertemplate": "product=Millet<br>season_name=Main<br>type=orig_unit<br>year=%{x}<br>value=%{y}<extra></extra>",
         "legendgroup": "Millet",
         "marker": {
          "color": "#EF553B",
          "pattern": {
           "shape": ""
          }
         },
         "name": "Millet",
         "offsetgroup": "Millet",
         "orientation": "v",
         "showlegend": true,
         "textposition": "auto",
         "type": "bar",
         "x": [
          1975,
          1976,
          1977,
          1978,
          1979,
          1980,
          1981,
          1982,
          1983,
          1984,
          1985,
          1986,
          1987,
          1988,
          1989,
          1990,
          1991,
          1992,
          1993,
          1994,
          1995,
          1996,
          1997,
          1998,
          1999,
          2000,
          2001,
          2002,
          2003,
          2004,
          2005,
          2006,
          2007,
          2008,
          2009,
          2010,
          2011,
          2012,
          2013,
          2014,
          2015,
          2016,
          2017
         ],
         "xaxis": "x2",
         "y": [
          341100,
          427300,
          456600,
          519000,
          285000,
          460200,
          469500,
          316500.00000000006,
          279000,
          131400,
          383400,
          254000,
          136000,
          460000,
          136000,
          35410.2,
          129028.2,
          187916.4,
          92248.8,
          406812,
          160498.8,
          184380,
          267540,
          278460,
          208320,
          201600,
          242760,
          244354,
          322140,
          244356,
          271740,
          293160,
          265860,
          278426,
          182191.8,
          280308,
          159040,
          458220,
          359319.2,
          1245000,
          518180,
          1484000,
          952
         ],
         "yaxis": "y2"
        },
        {
         "alignmentgroup": "True",
         "hovertemplate": "product=Millet<br>season_name=Main<br>type=percent<br>year=%{x}<br>value=%{y}<extra></extra>",
         "legendgroup": "Millet",
         "marker": {
          "color": "#EF553B",
          "pattern": {
           "shape": ""
          }
         },
         "name": "Millet",
         "offsetgroup": "Millet",
         "orientation": "v",
         "showlegend": false,
         "textposition": "auto",
         "type": "bar",
         "x": [
          1975,
          1976,
          1977,
          1978,
          1979,
          1980,
          1981,
          1982,
          1983,
          1984,
          1985,
          1986,
          1987,
          1988,
          1989,
          1990,
          1991,
          1992,
          1993,
          1994,
          1995,
          1996,
          1997,
          1998,
          1999,
          2000,
          2001,
          2002,
          2003,
          2004,
          2005,
          2006,
          2007,
          2008,
          2009,
          2010,
          2011,
          2012,
          2013,
          2014,
          2015,
          2016,
          2017
         ],
         "xaxis": "x",
         "y": [
          51.005912657050004,
          56.63707336594898,
          49.80318228517683,
          51.613944272859015,
          55.31529434822927,
          57.7732423182172,
          54.398119449420676,
          48.348199869725065,
          59.13510305890971,
          51.69421260281464,
          46.47436720053016,
          44.448672188651706,
          48.53490760937516,
          40.57559367887251,
          46.032156451379066,
          6.676047738027209,
          5.247602884125358,
          6.5817257062634855,
          4.950511462586015,
          14.424759147927348,
          8.903962821235316,
          7.737930507531114,
          12.315826571715471,
          10.819675370117608,
          10.953756885881836,
          10.8597631199323,
          9.080395430054764,
          12.627321283922127,
          11.910014008200893,
          15.231316826000418,
          10.799946922847743,
          9.658469204471356,
          10.772933871414644,
          10.12987228956937,
          17.91579816034845,
          13.649346282405125,
          11.813227187312036,
          17.329058607260638,
          12.605057491174938,
          17.13667844620545,
          14.130786974629247,
          20.10620929244333,
          13.912765066620695
         ],
         "yaxis": "y"
        },
        {
         "alignmentgroup": "True",
         "hovertemplate": "product=Sorghum<br>season_name=Main<br>type=orig_unit<br>year=%{x}<br>value=%{y}<extra></extra>",
         "legendgroup": "Sorghum",
         "marker": {
          "color": "#00cc96",
          "pattern": {
           "shape": ""
          }
         },
         "name": "Sorghum",
         "offsetgroup": "Sorghum",
         "orientation": "v",
         "showlegend": true,
         "textposition": "auto",
         "type": "bar",
         "x": [
          1975,
          1976,
          1977,
          1978,
          1979,
          1980,
          1981,
          1982,
          1983,
          1984,
          1985,
          1986,
          1987,
          1988,
          1989,
          1990,
          1991,
          1992,
          1993,
          1994,
          1995,
          1996,
          1997,
          1998,
          1999,
          2000,
          2001,
          2002,
          2003,
          2004,
          2005,
          2006,
          2007,
          2008,
          2009,
          2010,
          2011,
          2012,
          2013,
          2014,
          2015,
          2016,
          2017
         ],
         "xaxis": "x2",
         "y": [
          528500,
          507700,
          667500,
          781500,
          317000,
          559000,
          666500,
          530500,
          335000,
          194500,
          793800,
          546000,
          229000,
          1176000,
          262000,
          481891,
          3427000,
          3943000,
          2329000,
          3438000,
          2391084,
          3450000,
          2654000,
          3724000,
          2034000,
          2211644,
          3658075.6,
          2443000,
          3881000,
          1964000,
          3369000,
          4098000,
          2992000,
          3219390,
          831600,
          1934100,
          790440,
          1900245,
          2249000,
          6169000,
          2584500,
          5864000,
          3723
         ],
         "yaxis": "y2"
        },
        {
         "alignmentgroup": "True",
         "hovertemplate": "product=Sorghum<br>season_name=Main<br>type=percent<br>year=%{x}<br>value=%{y}<extra></extra>",
         "legendgroup": "Sorghum",
         "marker": {
          "color": "#00cc96",
          "pattern": {
           "shape": ""
          }
         },
         "name": "Sorghum",
         "offsetgroup": "Sorghum",
         "orientation": "v",
         "showlegend": false,
         "textposition": "auto",
         "type": "bar",
         "x": [
          1975,
          1976,
          1977,
          1978,
          1979,
          1980,
          1981,
          1982,
          1983,
          1984,
          1985,
          1986,
          1987,
          1988,
          1989,
          1990,
          1991,
          1992,
          1993,
          1994,
          1995,
          1996,
          1997,
          1998,
          1999,
          2000,
          2001,
          2002,
          2003,
          2004,
          2005,
          2006,
          2007,
          2008,
          2009,
          2010,
          2011,
          2012,
          2013,
          2014,
          2015,
          2016,
          2017
         ],
         "xaxis": "x",
         "y": [
          48.99408734294998,
          43.36292663405102,
          50.19681771482316,
          48.386055727140985,
          44.68470565177074,
          42.22675768178279,
          45.601880550579324,
          51.65180013027495,
          40.86489694109029,
          48.30578739718536,
          53.52563279946983,
          55.55132781134831,
          51.46509239062485,
          59.424406321127485,
          53.967843548620934,
          51.933228463614135,
          82.93113989507633,
          80.02155740251308,
          75.81104099055015,
          66.82085886494998,
          62.30242204591554,
          68.7845712817686,
          59.27560653505836,
          70.67531575302895,
          56.648298749880865,
          58.511946768714665,
          69.53086445542272,
          63.60078273775965,
          68.23992164038208,
          59.819507568686106,
          71.6636480368513,
          75.14185333914516,
          67.3559103940905,
          64.96486679779949,
          44.641103386713304,
          50.81232561004746,
          34.30574929008486,
          40.50804143009793,
          39.95245289573784,
          45.77451554185751,
          40.62080602483006,
          47.269844662076025,
          33.399009925374976
         ],
         "yaxis": "y"
        },
        {
         "alignmentgroup": "True",
         "hovertemplate": "product=Cotton (Acala)<br>season_name=Main<br>type=orig_unit<br>year=%{x}<br>value=%{y}<extra></extra>",
         "legendgroup": "Cotton (Acala)",
         "marker": {
          "color": "#ab63fa",
          "pattern": {
           "shape": ""
          }
         },
         "name": "Cotton (Acala)",
         "offsetgroup": "Cotton (Acala)",
         "orientation": "v",
         "showlegend": true,
         "textposition": "auto",
         "type": "bar",
         "x": [
          1990,
          1991,
          1992,
          1993,
          1994,
          1995,
          1996,
          1997,
          1998,
          1999,
          2000,
          2001,
          2002,
          2003,
          2004,
          2005,
          2006,
          2007,
          2008,
          2009,
          2010,
          2011,
          2012,
          2013,
          2014,
          2015,
          2017
         ],
         "xaxis": "x2",
         "y": [
          53340,
          65100,
          39480,
          37800,
          79380,
          98279.99999999999,
          93660,
          66780,
          47460,
          45360,
          71820,
          44520,
          42000,
          21000,
          52920,
          52920,
          50820,
          22680,
          42573,
          13440.000000000002,
          14280,
          73500,
          39060,
          140025.2,
          157000,
          183000,
          150
         ],
         "yaxis": "y2"
        },
        {
         "alignmentgroup": "True",
         "hovertemplate": "product=Cotton (Acala)<br>season_name=Main<br>type=percent<br>year=%{x}<br>value=%{y}<extra></extra>",
         "legendgroup": "Cotton (Acala)",
         "marker": {
          "color": "#ab63fa",
          "pattern": {
           "shape": ""
          }
         },
         "name": "Cotton (Acala)",
         "offsetgroup": "Cotton (Acala)",
         "orientation": "v",
         "showlegend": false,
         "textposition": "auto",
         "type": "bar",
         "x": [
          1990,
          1991,
          1992,
          1993,
          1994,
          1995,
          1996,
          1997,
          1998,
          1999,
          2000,
          2001,
          2002,
          2003,
          2004,
          2005,
          2006,
          2007,
          2008,
          2009,
          2010,
          2011,
          2012,
          2013,
          2014,
          2015,
          2017
         ],
         "xaxis": "x",
         "y": [
          12.522827896454555,
          3.452297052437047,
          1.7818675049358241,
          2.6628378653642204,
          3.325542179749047,
          5.76244517014427,
          4.168015708162895,
          3.1892775649882084,
          1.9703840722373727,
          2.5550879992985704,
          4.041391716013979,
          1.6901174988337229,
          2.241280555155284,
          0.8163135029609933,
          3.4063647853675056,
          2.471442488235858,
          2.083296037501185,
          1.1436767649805712,
          1.9117053734055391,
          1.5357992210899551,
          0.8102409637122384,
          6.233942706554701,
          1.653019327002588,
          5.075775176666811,
          2.2580432363023553,
          5.431607503533265,
          2.216584981405315
         ],
         "yaxis": "y"
        },
        {
         "alignmentgroup": "True",
         "hovertemplate": "product=Cotton (American)<br>season_name=Main<br>type=orig_unit<br>year=%{x}<br>value=%{y}<extra></extra>",
         "legendgroup": "Cotton (American)",
         "marker": {
          "color": "#FFA15A",
          "pattern": {
           "shape": ""
          }
         },
         "name": "Cotton (American)",
         "offsetgroup": "Cotton (American)",
         "orientation": "v",
         "showlegend": true,
         "textposition": "auto",
         "type": "bar",
         "x": [
          1990,
          1991,
          1992,
          1993,
          1994,
          1995,
          1996,
          1997,
          1998,
          1999,
          2000,
          2001,
          2002,
          2003,
          2004,
          2005,
          2006,
          2007,
          2008,
          2009,
          2010,
          2011,
          2012,
          2013,
          2014,
          2015,
          2017
         ],
         "xaxis": "x2",
         "y": [
          1260,
          7144.2,
          1680,
          873.6,
          1285.2,
          2969.4,
          4300.8,
          1495.2,
          1486.8,
          1134,
          840,
          2100,
          924,
          1831.2,
          621.6,
          1982.4,
          1680,
          3780,
          9885,
          2276.4,
          3780,
          5880,
          8400,
          14000,
          18000,
          21000,
          403
         ],
         "yaxis": "y2"
        },
        {
         "alignmentgroup": "True",
         "hovertemplate": "product=Cotton (American)<br>season_name=Main<br>type=percent<br>year=%{x}<br>value=%{y}<extra></extra>",
         "legendgroup": "Cotton (American)",
         "marker": {
          "color": "#FFA15A",
          "pattern": {
           "shape": ""
          }
         },
         "name": "Cotton (American)",
         "offsetgroup": "Cotton (American)",
         "orientation": "v",
         "showlegend": false,
         "textposition": "auto",
         "type": "bar",
         "x": [
          1990,
          1991,
          1992,
          1993,
          1994,
          1995,
          1996,
          1997,
          1998,
          1999,
          2000,
          2001,
          2002,
          2003,
          2004,
          2005,
          2006,
          2007,
          2008,
          2009,
          2010,
          2011,
          2012,
          2013,
          2014,
          2015,
          2017
         ],
         "xaxis": "x",
         "y": [
          0.2958148321997139,
          0.3788617603997043,
          0.07582414914620529,
          0.061541141777306435,
          0.05384211148165124,
          0.1741046468073504,
          0.19139229081429615,
          0.07140772409659132,
          0.06172707624531238,
          0.06387719998246427,
          0.04726773936858454,
          0.07972252352989259,
          0.04930817221341624,
          0.07118253745819862,
          0.04001126890749134,
          0.09258102019423214,
          0.06886929049590694,
          0.19061279416342855,
          0.44387775388424017,
          0.26012599307211115,
          0.21447554921794545,
          0.498715416524376,
          0.35548802731238444,
          0.5074861701560529,
          0.25888393792001524,
          0.6232992217169321,
          5.955224983375613
         ],
         "yaxis": "y"
        },
        {
         "alignmentgroup": "True",
         "hovertemplate": "product=Cotton (Egyptian)<br>season_name=Main<br>type=orig_unit<br>year=%{x}<br>value=%{y}<extra></extra>",
         "legendgroup": "Cotton (Egyptian)",
         "marker": {
          "color": "#19d3f3",
          "pattern": {
           "shape": ""
          }
         },
         "name": "Cotton (Egyptian)",
         "offsetgroup": "Cotton (Egyptian)",
         "orientation": "v",
         "showlegend": true,
         "textposition": "auto",
         "type": "bar",
         "x": [
          1990,
          1991,
          1992,
          1993,
          1994,
          1995,
          1996,
          1997,
          1998,
          1999,
          2000,
          2001,
          2002,
          2003,
          2004,
          2005,
          2006,
          2007,
          2008,
          2009,
          2010,
          2011,
          2012,
          2013,
          2014,
          2015
         ],
         "xaxis": "x2",
         "y": [
          42420,
          44940,
          30240,
          22680,
          28140,
          27720,
          24448.2,
          21000,
          17220,
          15540,
          23940,
          25200,
          62580,
          77280,
          68460,
          51240,
          48720,
          18060,
          17660,
          4200,
          11760,
          41580,
          7560,
          5000,
          1000,
          1000
         ],
         "yaxis": "y2"
        },
        {
         "alignmentgroup": "True",
         "hovertemplate": "product=Cotton (Egyptian)<br>season_name=Main<br>type=percent<br>year=%{x}<br>value=%{y}<extra></extra>",
         "legendgroup": "Cotton (Egyptian)",
         "marker": {
          "color": "#19d3f3",
          "pattern": {
           "shape": ""
          }
         },
         "name": "Cotton (Egyptian)",
         "offsetgroup": "Cotton (Egyptian)",
         "orientation": "v",
         "showlegend": false,
         "textposition": "auto",
         "type": "bar",
         "x": [
          1990,
          1991,
          1992,
          1993,
          1994,
          1995,
          1996,
          1997,
          1998,
          1999,
          2000,
          2001,
          2002,
          2003,
          2004,
          2005,
          2006,
          2007,
          2008,
          2009,
          2010,
          2011,
          2012,
          2013,
          2014,
          2015
         ],
         "xaxis": "x",
         "y": [
          9.959099350723703,
          2.383198610392026,
          1.3648346846316952,
          1.5977027192185325,
          1.1788959049904029,
          1.6253050479894098,
          1.0879829344043144,
          1.002917473266732,
          0.7149181147055953,
          0.8753542219819178,
          1.3471305720046596,
          0.956670282358711,
          3.3395080271813726,
          3.0040336908964553,
          4.406646508054789,
          2.392983996545831,
          1.997209424381301,
          0.9107055721141587,
          0.7930077019317836,
          0.4799372565906109,
          0.6672572642336081,
          3.526630445422373,
          0.319939224581146,
          0.18124506077001892,
          0.014382440995556401,
          0.029680915319853906
         ],
         "yaxis": "y"
        },
        {
         "alignmentgroup": "True",
         "hovertemplate": "product=Groundnuts (In Shell)<br>season_name=Main<br>type=orig_unit<br>year=%{x}<br>value=%{y}<extra></extra>",
         "legendgroup": "Groundnuts (In Shell)",
         "marker": {
          "color": "#FF6692",
          "pattern": {
           "shape": ""
          }
         },
         "name": "Groundnuts (In Shell)",
         "offsetgroup": "Groundnuts (In Shell)",
         "orientation": "v",
         "showlegend": true,
         "textposition": "auto",
         "type": "bar",
         "x": [
          1990,
          1991,
          1992,
          1993,
          1994,
          1995,
          1996,
          1997,
          1998,
          1999,
          2000,
          2001,
          2002,
          2003,
          2004,
          2005,
          2006,
          2007,
          2008,
          2009,
          2010,
          2011,
          2012,
          2013,
          2014,
          2015,
          2016,
          2017
         ],
         "xaxis": "x2",
         "y": [
          51828,
          75600,
          161340,
          183240,
          301980,
          304080,
          325500,
          460740,
          325500,
          438060,
          396060,
          414120,
          308280,
          326760,
          218400,
          231840,
          217980,
          298620,
          392744,
          239820,
          497700,
          433440,
          742140,
          963000,
          1871000,
          1045000,
          1773000,
          1604
         ],
         "yaxis": "y2"
        },
        {
         "alignmentgroup": "True",
         "hovertemplate": "product=Groundnuts (In Shell)<br>season_name=Main<br>type=percent<br>year=%{x}<br>value=%{y}<extra></extra>",
         "legendgroup": "Groundnuts (In Shell)",
         "marker": {
          "color": "#FF6692",
          "pattern": {
           "shape": ""
          }
         },
         "name": "Groundnuts (In Shell)",
         "offsetgroup": "Groundnuts (In Shell)",
         "orientation": "v",
         "showlegend": false,
         "textposition": "auto",
         "type": "bar",
         "x": [
          1990,
          1991,
          1992,
          1993,
          1994,
          1995,
          1996,
          1997,
          1998,
          1999,
          2000,
          2001,
          2002,
          2003,
          2004,
          2005,
          2006,
          2007,
          2008,
          2009,
          2010,
          2011,
          2012,
          2013,
          2014,
          2015,
          2016,
          2017
         ],
         "xaxis": "x",
         "y": [
          10.578650876436448,
          3.7182705810443846,
          5.8901261257491075,
          10.679494905835387,
          11.249213937650932,
          14.97187324974285,
          12.313384028445673,
          19.873137445242314,
          12.410070393580424,
          23.325016144505817,
          20.816689111919093,
          15.423103678780672,
          15.65084001476856,
          11.46783077761235,
          11.723558806506833,
          9.040690496601817,
          7.292098723026331,
          13.003483257791368,
          14.239076051954699,
          25.14747690626202,
          25.71262189914191,
          35.99656631413443,
          30.874135172080592,
          34.200942967302566,
          26.564368518792676,
          30.08655449589191,
          24.437580296859196,
          23.39236017043076
         ],
         "yaxis": "y"
        },
        {
         "alignmentgroup": "True",
         "hovertemplate": "product=Pigeon Peas<br>season_name=Main<br>type=orig_unit<br>year=%{x}<br>value=%{y}<extra></extra>",
         "legendgroup": "Pigeon Peas",
         "marker": {
          "color": "#B6E880",
          "pattern": {
           "shape": ""
          }
         },
         "name": "Pigeon Peas",
         "offsetgroup": "Pigeon Peas",
         "orientation": "v",
         "showlegend": true,
         "textposition": "auto",
         "type": "bar",
         "x": [
          2016,
          2017
         ],
         "xaxis": "x2",
         "y": [
          76200,
          88
         ],
         "yaxis": "y2"
        },
        {
         "alignmentgroup": "True",
         "hovertemplate": "product=Pigeon Peas<br>season_name=Main<br>type=percent<br>year=%{x}<br>value=%{y}<extra></extra>",
         "legendgroup": "Pigeon Peas",
         "marker": {
          "color": "#B6E880",
          "pattern": {
           "shape": ""
          }
         },
         "name": "Pigeon Peas",
         "offsetgroup": "Pigeon Peas",
         "orientation": "v",
         "showlegend": false,
         "textposition": "auto",
         "type": "bar",
         "x": [
          2016,
          2017
         ],
         "xaxis": "x",
         "y": [
          1.1361461980602017,
          1.3003965224244514
         ],
         "yaxis": "y"
        },
        {
         "alignmentgroup": "True",
         "hovertemplate": "product=Sesame Seed<br>season_name=Main<br>type=orig_unit<br>year=%{x}<br>value=%{y}<extra></extra>",
         "legendgroup": "Sesame Seed",
         "marker": {
          "color": "#FF97FF",
          "pattern": {
           "shape": ""
          }
         },
         "name": "Sesame Seed",
         "offsetgroup": "Sesame Seed",
         "orientation": "v",
         "showlegend": true,
         "textposition": "auto",
         "type": "bar",
         "x": [
          1990,
          1991,
          1992,
          1993,
          1994,
          1995,
          1996,
          1997,
          1998,
          1999,
          2000,
          2001,
          2002,
          2003,
          2004,
          2005,
          2006,
          2007,
          2008,
          2009,
          2010,
          2011,
          2012,
          2013,
          2014,
          2015,
          2016,
          2017
         ],
         "xaxis": "x2",
         "y": [
          33768,
          38963.4,
          107940,
          72240,
          69501.6,
          130704,
          169243.2,
          114109.8,
          105420,
          138600,
          107940,
          116760,
          51786,
          168420,
          110493.6,
          97020,
          107940,
          145246,
          131157,
          102648,
          152460,
          79245.59999999999,
          236275.19999999998,
          205100.8,
          721756,
          329495,
          514200,
          861
         ],
         "yaxis": "y2"
        },
        {
         "alignmentgroup": "True",
         "hovertemplate": "product=Sesame Seed<br>season_name=Main<br>type=percent<br>year=%{x}<br>value=%{y}<extra></extra>",
         "legendgroup": "Sesame Seed",
         "marker": {
          "color": "#FF97FF",
          "pattern": {
           "shape": ""
          }
         },
         "name": "Sesame Seed",
         "offsetgroup": "Sesame Seed",
         "orientation": "v",
         "showlegend": false,
         "textposition": "auto",
         "type": "bar",
         "x": [
          1990,
          1991,
          1992,
          1993,
          1994,
          1995,
          1996,
          1997,
          1998,
          1999,
          2000,
          2001,
          2002,
          2003,
          2004,
          2005,
          2006,
          2007,
          2008,
          2009,
          2010,
          2011,
          2012,
          2013,
          2014,
          2015,
          2016,
          2017
         ],
         "xaxis": "x",
         "y": [
          5.739793794115116,
          1.5946271449627765,
          3.772251420023713,
          3.7723536425993123,
          2.3574399007554354,
          5.558050747442572,
          5.073764771918832,
          3.9954226300000077,
          3.1561019210173846,
          5.334929109646553,
          4.183194934119732,
          3.109178417665811,
          2.236797994044973,
          4.350950970782094,
          4.961938037352,
          3.0601102394140502,
          2.9720610299679797,
          4.884772933515104,
          3.8794744047324228,
          7.892677154713958,
          5.864461967432947,
          4.52957080454093,
          7.653899711291709,
          6.002865411912749,
          7.432212679099743,
          7.227154475807827,
          6.034099295996898,
          11.282417555353055
         ],
         "yaxis": "y"
        },
        {
         "alignmentgroup": "True",
         "hovertemplate": "product=Sunflower Seed<br>season_name=Main<br>type=orig_unit<br>year=%{x}<br>value=%{y}<extra></extra>",
         "legendgroup": "Sunflower Seed",
         "marker": {
          "color": "#FECB52",
          "pattern": {
           "shape": ""
          }
         },
         "name": "Sunflower Seed",
         "offsetgroup": "Sunflower Seed",
         "orientation": "v",
         "showlegend": true,
         "textposition": "auto",
         "type": "bar",
         "x": [
          1990,
          1991,
          1992,
          1993,
          1994,
          1995,
          1996,
          1997,
          1998,
          1999,
          2000,
          2001,
          2002,
          2003,
          2004,
          2005,
          2006,
          2007,
          2008,
          2009,
          2010,
          2011,
          2012,
          2013,
          2014,
          2015,
          2016,
          2017
         ],
         "xaxis": "x2",
         "y": [
          9353.4,
          3444,
          16380,
          13104,
          19740,
          10332,
          8568,
          5157.6,
          4200,
          3486,
          1743,
          1743,
          2242.8,
          2570.4,
          5959.8,
          16548,
          27014.399999999998,
          41160,
          102207.6,
          19874.4,
          52269,
          38808,
          36120,
          56336,
          51000,
          72000,
          92000,
          153
         ],
         "yaxis": "y2"
        },
        {
         "alignmentgroup": "True",
         "hovertemplate": "product=Sunflower Seed<br>season_name=Main<br>type=percent<br>year=%{x}<br>value=%{y}<extra></extra>",
         "legendgroup": "Sunflower Seed",
         "marker": {
          "color": "#FECB52",
          "pattern": {
           "shape": ""
          }
         },
         "name": "Sunflower Seed",
         "offsetgroup": "Sunflower Seed",
         "orientation": "v",
         "showlegend": false,
         "textposition": "auto",
         "type": "bar",
         "x": [
          1990,
          1991,
          1992,
          1993,
          1994,
          1995,
          1996,
          1997,
          1998,
          1999,
          2000,
          2001,
          2002,
          2003,
          2004,
          2005,
          2006,
          2007,
          2008,
          2009,
          2010,
          2011,
          2012,
          2013,
          2014,
          2015,
          2016,
          2017
         ],
         "xaxis": "x",
         "y": [
          2.1959321043625426,
          0.1826376505160244,
          0.41703282030412914,
          0.46451727206909177,
          0.536661568689661,
          0.5294554322995805,
          0.38128932935660564,
          0.21622900723630745,
          0.1394962175035308,
          0.19636324439053832,
          0.09808055918981294,
          0.06616969452981085,
          0.11968438164529217,
          0.09077406152926244,
          0.38362155797115005,
          0.4393675534641526,
          0.7517083057628242,
          1.6531876145242677,
          3.562680615440176,
          1.9351070185733434,
          1.8403193653728709,
          2.525637359398447,
          1.0220280785231053,
          1.256680753355003,
          0.47462055285336124,
          1.6423439810319165,
          0.9564800341937263,
          1.6993818190774082
         ],
         "yaxis": "y"
        },
        {
         "alignmentgroup": "True",
         "hovertemplate": "product=Wheat<br>season_name=Main<br>type=orig_unit<br>year=%{x}<br>value=%{y}<extra></extra>",
         "legendgroup": "Wheat",
         "marker": {
          "color": "#636efa",
          "pattern": {
           "shape": ""
          }
         },
         "name": "Wheat",
         "offsetgroup": "Wheat",
         "orientation": "v",
         "showlegend": true,
         "textposition": "auto",
         "type": "bar",
         "x": [
          1990,
          1991,
          1992,
          1994,
          1995,
          1996,
          1997,
          1998,
          1999,
          2000,
          2001,
          2002,
          2003,
          2004,
          2005,
          2006,
          2007,
          2008,
          2009,
          2010,
          2011,
          2012,
          2013,
          2014,
          2015,
          2016,
          2017
         ],
         "xaxis": "x2",
         "y": [
          420,
          2100,
          2100,
          1260,
          2940,
          5880,
          1260,
          1260,
          840,
          1680,
          1680,
          2520,
          1260,
          420,
          840,
          840,
          1680,
          1680,
          1680,
          7560,
          6720,
          6720,
          6000,
          6000,
          7000,
          4000,
          463
         ],
         "yaxis": "y2"
        },
        {
         "alignmentgroup": "True",
         "hovertemplate": "product=Wheat<br>season_name=Main<br>type=percent<br>year=%{x}<br>value=%{y}<extra></extra>",
         "legendgroup": "Wheat",
         "marker": {
          "color": "#636efa",
          "pattern": {
           "shape": ""
          }
         },
         "name": "Wheat",
         "offsetgroup": "Wheat",
         "orientation": "v",
         "showlegend": false,
         "textposition": "auto",
         "type": "bar",
         "x": [
          1990,
          1991,
          1992,
          1994,
          1995,
          1996,
          1997,
          1998,
          1999,
          2000,
          2001,
          2002,
          2003,
          2004,
          2005,
          2006,
          2007,
          2008,
          2009,
          2010,
          2011,
          2012,
          2013,
          2014,
          2015,
          2016,
          2017
         ],
         "xaxis": "x",
         "y": [
          0.0986049440665713,
          0.11136442104635634,
          0.09478018643275662,
          0.05278638380554043,
          0.17238083842311921,
          0.26166914759767057,
          0.06017504839600393,
          0.05231108156382406,
          0.04731644443145502,
          0.09453547873716908,
          0.06377801882391407,
          0.13447683330931703,
          0.04897881017765959,
          0.027034641153710362,
          0.039229245845013624,
          0.03443464524795347,
          0.08471679740596826,
          0.07543901128229878,
          0.1919749026362444,
          0.4289510984358909,
          0.5699604760278584,
          0.28439042184990754,
          0.2174940729240227,
          0.08629464597333841,
          0.20776640723897738,
          0.05964022037061427,
          6.84185897593774
         ],
         "yaxis": "y"
        }
       ],
       "layout": {
        "annotations": [
         {
          "showarrow": false,
          "text": "",
          "textangle": 90,
          "x": 0.98,
          "xanchor": "left",
          "xref": "paper",
          "y": 0.2375,
          "yanchor": "middle",
          "yref": "paper"
         },
         {
          "showarrow": false,
          "text": "",
          "textangle": 90,
          "x": 0.98,
          "xanchor": "left",
          "xref": "paper",
          "y": 0.7625,
          "yanchor": "middle",
          "yref": "paper"
         },
         {
          "align": "left",
          "font": {
           "color": "dimgrey",
           "family": "arial",
           "size": 15
          },
          "showarrow": false,
          "text": "National crop production in Sudan - Main",
          "x": 0,
          "xref": "paper",
          "y": -0.13,
          "yref": "paper"
         }
        ],
        "barmode": "relative",
        "font": {
         "color": "black",
         "family": "arial",
         "size": 15
        },
        "height": 600,
        "legend": {
         "title": {
          "text": "Product"
         },
         "tracegroupgap": 0,
         "x": 1,
         "y": 1.01
        },
        "margin": {
         "b": 0,
         "l": 0,
         "r": 0,
         "t": 0
        },
        "template": {
         "data": {
          "bar": [
           {
            "error_x": {
             "color": "#2a3f5f"
            },
            "error_y": {
             "color": "#2a3f5f"
            },
            "marker": {
             "line": {
              "color": "#E5ECF6",
              "width": 0.5
             },
             "pattern": {
              "fillmode": "overlay",
              "size": 10,
              "solidity": 0.2
             }
            },
            "type": "bar"
           }
          ],
          "barpolar": [
           {
            "marker": {
             "line": {
              "color": "#E5ECF6",
              "width": 0.5
             },
             "pattern": {
              "fillmode": "overlay",
              "size": 10,
              "solidity": 0.2
             }
            },
            "type": "barpolar"
           }
          ],
          "carpet": [
           {
            "aaxis": {
             "endlinecolor": "#2a3f5f",
             "gridcolor": "white",
             "linecolor": "white",
             "minorgridcolor": "white",
             "startlinecolor": "#2a3f5f"
            },
            "baxis": {
             "endlinecolor": "#2a3f5f",
             "gridcolor": "white",
             "linecolor": "white",
             "minorgridcolor": "white",
             "startlinecolor": "#2a3f5f"
            },
            "type": "carpet"
           }
          ],
          "choropleth": [
           {
            "colorbar": {
             "outlinewidth": 0,
             "ticks": ""
            },
            "type": "choropleth"
           }
          ],
          "contour": [
           {
            "colorbar": {
             "outlinewidth": 0,
             "ticks": ""
            },
            "colorscale": [
             [
              0,
              "#0d0887"
             ],
             [
              0.1111111111111111,
              "#46039f"
             ],
             [
              0.2222222222222222,
              "#7201a8"
             ],
             [
              0.3333333333333333,
              "#9c179e"
             ],
             [
              0.4444444444444444,
              "#bd3786"
             ],
             [
              0.5555555555555556,
              "#d8576b"
             ],
             [
              0.6666666666666666,
              "#ed7953"
             ],
             [
              0.7777777777777778,
              "#fb9f3a"
             ],
             [
              0.8888888888888888,
              "#fdca26"
             ],
             [
              1,
              "#f0f921"
             ]
            ],
            "type": "contour"
           }
          ],
          "contourcarpet": [
           {
            "colorbar": {
             "outlinewidth": 0,
             "ticks": ""
            },
            "type": "contourcarpet"
           }
          ],
          "heatmap": [
           {
            "colorbar": {
             "outlinewidth": 0,
             "ticks": ""
            },
            "colorscale": [
             [
              0,
              "#0d0887"
             ],
             [
              0.1111111111111111,
              "#46039f"
             ],
             [
              0.2222222222222222,
              "#7201a8"
             ],
             [
              0.3333333333333333,
              "#9c179e"
             ],
             [
              0.4444444444444444,
              "#bd3786"
             ],
             [
              0.5555555555555556,
              "#d8576b"
             ],
             [
              0.6666666666666666,
              "#ed7953"
             ],
             [
              0.7777777777777778,
              "#fb9f3a"
             ],
             [
              0.8888888888888888,
              "#fdca26"
             ],
             [
              1,
              "#f0f921"
             ]
            ],
            "type": "heatmap"
           }
          ],
          "heatmapgl": [
           {
            "colorbar": {
             "outlinewidth": 0,
             "ticks": ""
            },
            "colorscale": [
             [
              0,
              "#0d0887"
             ],
             [
              0.1111111111111111,
              "#46039f"
             ],
             [
              0.2222222222222222,
              "#7201a8"
             ],
             [
              0.3333333333333333,
              "#9c179e"
             ],
             [
              0.4444444444444444,
              "#bd3786"
             ],
             [
              0.5555555555555556,
              "#d8576b"
             ],
             [
              0.6666666666666666,
              "#ed7953"
             ],
             [
              0.7777777777777778,
              "#fb9f3a"
             ],
             [
              0.8888888888888888,
              "#fdca26"
             ],
             [
              1,
              "#f0f921"
             ]
            ],
            "type": "heatmapgl"
           }
          ],
          "histogram": [
           {
            "marker": {
             "pattern": {
              "fillmode": "overlay",
              "size": 10,
              "solidity": 0.2
             }
            },
            "type": "histogram"
           }
          ],
          "histogram2d": [
           {
            "colorbar": {
             "outlinewidth": 0,
             "ticks": ""
            },
            "colorscale": [
             [
              0,
              "#0d0887"
             ],
             [
              0.1111111111111111,
              "#46039f"
             ],
             [
              0.2222222222222222,
              "#7201a8"
             ],
             [
              0.3333333333333333,
              "#9c179e"
             ],
             [
              0.4444444444444444,
              "#bd3786"
             ],
             [
              0.5555555555555556,
              "#d8576b"
             ],
             [
              0.6666666666666666,
              "#ed7953"
             ],
             [
              0.7777777777777778,
              "#fb9f3a"
             ],
             [
              0.8888888888888888,
              "#fdca26"
             ],
             [
              1,
              "#f0f921"
             ]
            ],
            "type": "histogram2d"
           }
          ],
          "histogram2dcontour": [
           {
            "colorbar": {
             "outlinewidth": 0,
             "ticks": ""
            },
            "colorscale": [
             [
              0,
              "#0d0887"
             ],
             [
              0.1111111111111111,
              "#46039f"
             ],
             [
              0.2222222222222222,
              "#7201a8"
             ],
             [
              0.3333333333333333,
              "#9c179e"
             ],
             [
              0.4444444444444444,
              "#bd3786"
             ],
             [
              0.5555555555555556,
              "#d8576b"
             ],
             [
              0.6666666666666666,
              "#ed7953"
             ],
             [
              0.7777777777777778,
              "#fb9f3a"
             ],
             [
              0.8888888888888888,
              "#fdca26"
             ],
             [
              1,
              "#f0f921"
             ]
            ],
            "type": "histogram2dcontour"
           }
          ],
          "mesh3d": [
           {
            "colorbar": {
             "outlinewidth": 0,
             "ticks": ""
            },
            "type": "mesh3d"
           }
          ],
          "parcoords": [
           {
            "line": {
             "colorbar": {
              "outlinewidth": 0,
              "ticks": ""
             }
            },
            "type": "parcoords"
           }
          ],
          "pie": [
           {
            "automargin": true,
            "type": "pie"
           }
          ],
          "scatter": [
           {
            "fillpattern": {
             "fillmode": "overlay",
             "size": 10,
             "solidity": 0.2
            },
            "type": "scatter"
           }
          ],
          "scatter3d": [
           {
            "line": {
             "colorbar": {
              "outlinewidth": 0,
              "ticks": ""
             }
            },
            "marker": {
             "colorbar": {
              "outlinewidth": 0,
              "ticks": ""
             }
            },
            "type": "scatter3d"
           }
          ],
          "scattercarpet": [
           {
            "marker": {
             "colorbar": {
              "outlinewidth": 0,
              "ticks": ""
             }
            },
            "type": "scattercarpet"
           }
          ],
          "scattergeo": [
           {
            "marker": {
             "colorbar": {
              "outlinewidth": 0,
              "ticks": ""
             }
            },
            "type": "scattergeo"
           }
          ],
          "scattergl": [
           {
            "marker": {
             "colorbar": {
              "outlinewidth": 0,
              "ticks": ""
             }
            },
            "type": "scattergl"
           }
          ],
          "scattermapbox": [
           {
            "marker": {
             "colorbar": {
              "outlinewidth": 0,
              "ticks": ""
             }
            },
            "type": "scattermapbox"
           }
          ],
          "scatterpolar": [
           {
            "marker": {
             "colorbar": {
              "outlinewidth": 0,
              "ticks": ""
             }
            },
            "type": "scatterpolar"
           }
          ],
          "scatterpolargl": [
           {
            "marker": {
             "colorbar": {
              "outlinewidth": 0,
              "ticks": ""
             }
            },
            "type": "scatterpolargl"
           }
          ],
          "scatterternary": [
           {
            "marker": {
             "colorbar": {
              "outlinewidth": 0,
              "ticks": ""
             }
            },
            "type": "scatterternary"
           }
          ],
          "surface": [
           {
            "colorbar": {
             "outlinewidth": 0,
             "ticks": ""
            },
            "colorscale": [
             [
              0,
              "#0d0887"
             ],
             [
              0.1111111111111111,
              "#46039f"
             ],
             [
              0.2222222222222222,
              "#7201a8"
             ],
             [
              0.3333333333333333,
              "#9c179e"
             ],
             [
              0.4444444444444444,
              "#bd3786"
             ],
             [
              0.5555555555555556,
              "#d8576b"
             ],
             [
              0.6666666666666666,
              "#ed7953"
             ],
             [
              0.7777777777777778,
              "#fb9f3a"
             ],
             [
              0.8888888888888888,
              "#fdca26"
             ],
             [
              1,
              "#f0f921"
             ]
            ],
            "type": "surface"
           }
          ],
          "table": [
           {
            "cells": {
             "fill": {
              "color": "#EBF0F8"
             },
             "line": {
              "color": "white"
             }
            },
            "header": {
             "fill": {
              "color": "#C8D4E3"
             },
             "line": {
              "color": "white"
             }
            },
            "type": "table"
           }
          ]
         },
         "layout": {
          "annotationdefaults": {
           "arrowcolor": "#2a3f5f",
           "arrowhead": 0,
           "arrowwidth": 1
          },
          "autotypenumbers": "strict",
          "coloraxis": {
           "colorbar": {
            "outlinewidth": 0,
            "ticks": ""
           }
          },
          "colorscale": {
           "diverging": [
            [
             0,
             "#8e0152"
            ],
            [
             0.1,
             "#c51b7d"
            ],
            [
             0.2,
             "#de77ae"
            ],
            [
             0.3,
             "#f1b6da"
            ],
            [
             0.4,
             "#fde0ef"
            ],
            [
             0.5,
             "#f7f7f7"
            ],
            [
             0.6,
             "#e6f5d0"
            ],
            [
             0.7,
             "#b8e186"
            ],
            [
             0.8,
             "#7fbc41"
            ],
            [
             0.9,
             "#4d9221"
            ],
            [
             1,
             "#276419"
            ]
           ],
           "sequential": [
            [
             0,
             "#0d0887"
            ],
            [
             0.1111111111111111,
             "#46039f"
            ],
            [
             0.2222222222222222,
             "#7201a8"
            ],
            [
             0.3333333333333333,
             "#9c179e"
            ],
            [
             0.4444444444444444,
             "#bd3786"
            ],
            [
             0.5555555555555556,
             "#d8576b"
            ],
            [
             0.6666666666666666,
             "#ed7953"
            ],
            [
             0.7777777777777778,
             "#fb9f3a"
            ],
            [
             0.8888888888888888,
             "#fdca26"
            ],
            [
             1,
             "#f0f921"
            ]
           ],
           "sequentialminus": [
            [
             0,
             "#0d0887"
            ],
            [
             0.1111111111111111,
             "#46039f"
            ],
            [
             0.2222222222222222,
             "#7201a8"
            ],
            [
             0.3333333333333333,
             "#9c179e"
            ],
            [
             0.4444444444444444,
             "#bd3786"
            ],
            [
             0.5555555555555556,
             "#d8576b"
            ],
            [
             0.6666666666666666,
             "#ed7953"
            ],
            [
             0.7777777777777778,
             "#fb9f3a"
            ],
            [
             0.8888888888888888,
             "#fdca26"
            ],
            [
             1,
             "#f0f921"
            ]
           ]
          },
          "colorway": [
           "#636efa",
           "#EF553B",
           "#00cc96",
           "#ab63fa",
           "#FFA15A",
           "#19d3f3",
           "#FF6692",
           "#B6E880",
           "#FF97FF",
           "#FECB52"
          ],
          "font": {
           "color": "#2a3f5f"
          },
          "geo": {
           "bgcolor": "white",
           "lakecolor": "white",
           "landcolor": "#E5ECF6",
           "showlakes": true,
           "showland": true,
           "subunitcolor": "white"
          },
          "hoverlabel": {
           "align": "left"
          },
          "hovermode": "closest",
          "mapbox": {
           "style": "light"
          },
          "paper_bgcolor": "white",
          "plot_bgcolor": "#E5ECF6",
          "polar": {
           "angularaxis": {
            "gridcolor": "white",
            "linecolor": "white",
            "ticks": ""
           },
           "bgcolor": "#E5ECF6",
           "radialaxis": {
            "gridcolor": "white",
            "linecolor": "white",
            "ticks": ""
           }
          },
          "scene": {
           "xaxis": {
            "backgroundcolor": "#E5ECF6",
            "gridcolor": "white",
            "gridwidth": 2,
            "linecolor": "white",
            "showbackground": true,
            "ticks": "",
            "zerolinecolor": "white"
           },
           "yaxis": {
            "backgroundcolor": "#E5ECF6",
            "gridcolor": "white",
            "gridwidth": 2,
            "linecolor": "white",
            "showbackground": true,
            "ticks": "",
            "zerolinecolor": "white"
           },
           "zaxis": {
            "backgroundcolor": "#E5ECF6",
            "gridcolor": "white",
            "gridwidth": 2,
            "linecolor": "white",
            "showbackground": true,
            "ticks": "",
            "zerolinecolor": "white"
           }
          },
          "shapedefaults": {
           "line": {
            "color": "#2a3f5f"
           }
          },
          "ternary": {
           "aaxis": {
            "gridcolor": "white",
            "linecolor": "white",
            "ticks": ""
           },
           "baxis": {
            "gridcolor": "white",
            "linecolor": "white",
            "ticks": ""
           },
           "bgcolor": "#E5ECF6",
           "caxis": {
            "gridcolor": "white",
            "linecolor": "white",
            "ticks": ""
           }
          },
          "title": {
           "x": 0.05
          },
          "xaxis": {
           "automargin": true,
           "gridcolor": "white",
           "linecolor": "white",
           "ticks": "",
           "title": {
            "standoff": 15
           },
           "zerolinecolor": "white",
           "zerolinewidth": 2
          },
          "yaxis": {
           "automargin": true,
           "gridcolor": "white",
           "linecolor": "white",
           "ticks": "",
           "title": {
            "standoff": 15
           },
           "zerolinecolor": "white",
           "zerolinewidth": 2
          }
         }
        },
        "width": 900,
        "xaxis": {
         "anchor": "y",
         "domain": [
          0,
          0.98
         ],
         "dtick": 1,
         "range": [
          1974.5,
          2017.5
         ],
         "title": {
          "text": ""
         }
        },
        "xaxis2": {
         "anchor": "y2",
         "domain": [
          0,
          0.98
         ],
         "matches": "x",
         "showticklabels": false
        },
        "yaxis": {
         "anchor": "x",
         "domain": [
          0,
          0.475
         ],
         "range": [
          0,
          100
         ],
         "title": {
          "text": "Production (%)"
         }
        },
        "yaxis2": {
         "anchor": "x2",
         "domain": [
          0.525,
          1
         ],
         "title": {
          "text": "Production (t)"
         }
        }
       }
      }
     },
     "metadata": {},
     "output_type": "display_data"
    },
    {
     "name": "stdout",
     "output_type": "stream",
     "text": [
      "../figures/SD_bar_natgrainprod_Winter.png is saved.\n"
     ]
    },
    {
     "data": {
      "application/vnd.plotly.v1+json": {
       "config": {
        "plotlyServerURL": "https://plot.ly"
       },
       "data": [
        {
         "alignmentgroup": "True",
         "hovertemplate": "product=Wheat<br>season_name=Winter<br>type=orig_unit<br>year=%{x}<br>value=%{y}<extra></extra>",
         "legendgroup": "Wheat",
         "marker": {
          "color": "#ab63fa",
          "pattern": {
           "shape": ""
          }
         },
         "name": "Wheat",
         "offsetgroup": "Wheat",
         "orientation": "v",
         "showlegend": true,
         "textposition": "auto",
         "type": "bar",
         "x": [
          1975,
          1976,
          1977,
          1978,
          1979,
          1980,
          1981,
          1983,
          1984,
          1985,
          1986,
          1987,
          1988,
          1989,
          1990,
          1991,
          1992,
          1993,
          1994,
          1995,
          1996,
          1997,
          1998,
          1999,
          2000,
          2001,
          2002,
          2003,
          2004,
          2005,
          2006,
          2007,
          2008,
          2009,
          2010,
          2011,
          2012,
          2013,
          2014,
          2015,
          2016
         ],
         "xaxis": "x2",
         "y": [
          21000,
          22900,
          22000,
          15000,
          18000,
          20000,
          24000,
          21000,
          38500,
          46000,
          21500,
          43000,
          35700,
          89000,
          287700,
          349860,
          188160,
          199500,
          187047,
          218400,
          263760,
          244440,
          70980,
          88620,
          125580,
          125580,
          136920,
          165480,
          152460,
          173880,
          279930,
          244860,
          267540,
          167580,
          115080,
          128940,
          110460,
          188000,
          466000,
          480000,
          478000
         ],
         "yaxis": "y2"
        },
        {
         "alignmentgroup": "True",
         "hovertemplate": "product=Wheat<br>season_name=Winter<br>type=percent<br>year=%{x}<br>value=%{y}<extra></extra>",
         "legendgroup": "Wheat",
         "marker": {
          "color": "#ab63fa",
          "pattern": {
           "shape": ""
          }
         },
         "name": "Wheat",
         "offsetgroup": "Wheat",
         "orientation": "v",
         "showlegend": false,
         "textposition": "auto",
         "type": "bar",
         "x": [
          1975,
          1976,
          1977,
          1978,
          1979,
          1980,
          1981,
          1983,
          1984,
          1985,
          1986,
          1987,
          1988,
          1989,
          1990,
          1991,
          1992,
          1993,
          1994,
          1995,
          1996,
          1997,
          1998,
          1999,
          2000,
          2001,
          2002,
          2003,
          2004,
          2005,
          2006,
          2007,
          2008,
          2009,
          2010,
          2011,
          2012,
          2013,
          2014,
          2015,
          2016
         ],
         "xaxis": "x",
         "y": [
          100,
          100,
          100,
          100,
          100,
          100,
          100,
          100,
          100,
          100,
          100,
          100,
          100,
          100,
          100,
          100,
          100,
          100,
          100,
          100,
          100,
          100,
          100,
          100,
          100,
          100,
          100,
          100,
          100,
          100,
          100,
          100,
          100,
          100,
          100,
          100,
          100,
          100,
          100,
          100,
          100
         ],
         "yaxis": "y"
        }
       ],
       "layout": {
        "annotations": [
         {
          "showarrow": false,
          "text": "",
          "textangle": 90,
          "x": 0.98,
          "xanchor": "left",
          "xref": "paper",
          "y": 0.2375,
          "yanchor": "middle",
          "yref": "paper"
         },
         {
          "showarrow": false,
          "text": "",
          "textangle": 90,
          "x": 0.98,
          "xanchor": "left",
          "xref": "paper",
          "y": 0.7625,
          "yanchor": "middle",
          "yref": "paper"
         },
         {
          "align": "left",
          "font": {
           "color": "dimgrey",
           "family": "arial",
           "size": 15
          },
          "showarrow": false,
          "text": "National crop production in Sudan - Winter",
          "x": 0,
          "xref": "paper",
          "y": -0.13,
          "yref": "paper"
         }
        ],
        "barmode": "relative",
        "font": {
         "color": "black",
         "family": "arial",
         "size": 15
        },
        "height": 600,
        "legend": {
         "title": {
          "text": "Product"
         },
         "tracegroupgap": 0,
         "x": 1,
         "y": 1.01
        },
        "margin": {
         "b": 0,
         "l": 0,
         "r": 0,
         "t": 0
        },
        "template": {
         "data": {
          "bar": [
           {
            "error_x": {
             "color": "#2a3f5f"
            },
            "error_y": {
             "color": "#2a3f5f"
            },
            "marker": {
             "line": {
              "color": "#E5ECF6",
              "width": 0.5
             },
             "pattern": {
              "fillmode": "overlay",
              "size": 10,
              "solidity": 0.2
             }
            },
            "type": "bar"
           }
          ],
          "barpolar": [
           {
            "marker": {
             "line": {
              "color": "#E5ECF6",
              "width": 0.5
             },
             "pattern": {
              "fillmode": "overlay",
              "size": 10,
              "solidity": 0.2
             }
            },
            "type": "barpolar"
           }
          ],
          "carpet": [
           {
            "aaxis": {
             "endlinecolor": "#2a3f5f",
             "gridcolor": "white",
             "linecolor": "white",
             "minorgridcolor": "white",
             "startlinecolor": "#2a3f5f"
            },
            "baxis": {
             "endlinecolor": "#2a3f5f",
             "gridcolor": "white",
             "linecolor": "white",
             "minorgridcolor": "white",
             "startlinecolor": "#2a3f5f"
            },
            "type": "carpet"
           }
          ],
          "choropleth": [
           {
            "colorbar": {
             "outlinewidth": 0,
             "ticks": ""
            },
            "type": "choropleth"
           }
          ],
          "contour": [
           {
            "colorbar": {
             "outlinewidth": 0,
             "ticks": ""
            },
            "colorscale": [
             [
              0,
              "#0d0887"
             ],
             [
              0.1111111111111111,
              "#46039f"
             ],
             [
              0.2222222222222222,
              "#7201a8"
             ],
             [
              0.3333333333333333,
              "#9c179e"
             ],
             [
              0.4444444444444444,
              "#bd3786"
             ],
             [
              0.5555555555555556,
              "#d8576b"
             ],
             [
              0.6666666666666666,
              "#ed7953"
             ],
             [
              0.7777777777777778,
              "#fb9f3a"
             ],
             [
              0.8888888888888888,
              "#fdca26"
             ],
             [
              1,
              "#f0f921"
             ]
            ],
            "type": "contour"
           }
          ],
          "contourcarpet": [
           {
            "colorbar": {
             "outlinewidth": 0,
             "ticks": ""
            },
            "type": "contourcarpet"
           }
          ],
          "heatmap": [
           {
            "colorbar": {
             "outlinewidth": 0,
             "ticks": ""
            },
            "colorscale": [
             [
              0,
              "#0d0887"
             ],
             [
              0.1111111111111111,
              "#46039f"
             ],
             [
              0.2222222222222222,
              "#7201a8"
             ],
             [
              0.3333333333333333,
              "#9c179e"
             ],
             [
              0.4444444444444444,
              "#bd3786"
             ],
             [
              0.5555555555555556,
              "#d8576b"
             ],
             [
              0.6666666666666666,
              "#ed7953"
             ],
             [
              0.7777777777777778,
              "#fb9f3a"
             ],
             [
              0.8888888888888888,
              "#fdca26"
             ],
             [
              1,
              "#f0f921"
             ]
            ],
            "type": "heatmap"
           }
          ],
          "heatmapgl": [
           {
            "colorbar": {
             "outlinewidth": 0,
             "ticks": ""
            },
            "colorscale": [
             [
              0,
              "#0d0887"
             ],
             [
              0.1111111111111111,
              "#46039f"
             ],
             [
              0.2222222222222222,
              "#7201a8"
             ],
             [
              0.3333333333333333,
              "#9c179e"
             ],
             [
              0.4444444444444444,
              "#bd3786"
             ],
             [
              0.5555555555555556,
              "#d8576b"
             ],
             [
              0.6666666666666666,
              "#ed7953"
             ],
             [
              0.7777777777777778,
              "#fb9f3a"
             ],
             [
              0.8888888888888888,
              "#fdca26"
             ],
             [
              1,
              "#f0f921"
             ]
            ],
            "type": "heatmapgl"
           }
          ],
          "histogram": [
           {
            "marker": {
             "pattern": {
              "fillmode": "overlay",
              "size": 10,
              "solidity": 0.2
             }
            },
            "type": "histogram"
           }
          ],
          "histogram2d": [
           {
            "colorbar": {
             "outlinewidth": 0,
             "ticks": ""
            },
            "colorscale": [
             [
              0,
              "#0d0887"
             ],
             [
              0.1111111111111111,
              "#46039f"
             ],
             [
              0.2222222222222222,
              "#7201a8"
             ],
             [
              0.3333333333333333,
              "#9c179e"
             ],
             [
              0.4444444444444444,
              "#bd3786"
             ],
             [
              0.5555555555555556,
              "#d8576b"
             ],
             [
              0.6666666666666666,
              "#ed7953"
             ],
             [
              0.7777777777777778,
              "#fb9f3a"
             ],
             [
              0.8888888888888888,
              "#fdca26"
             ],
             [
              1,
              "#f0f921"
             ]
            ],
            "type": "histogram2d"
           }
          ],
          "histogram2dcontour": [
           {
            "colorbar": {
             "outlinewidth": 0,
             "ticks": ""
            },
            "colorscale": [
             [
              0,
              "#0d0887"
             ],
             [
              0.1111111111111111,
              "#46039f"
             ],
             [
              0.2222222222222222,
              "#7201a8"
             ],
             [
              0.3333333333333333,
              "#9c179e"
             ],
             [
              0.4444444444444444,
              "#bd3786"
             ],
             [
              0.5555555555555556,
              "#d8576b"
             ],
             [
              0.6666666666666666,
              "#ed7953"
             ],
             [
              0.7777777777777778,
              "#fb9f3a"
             ],
             [
              0.8888888888888888,
              "#fdca26"
             ],
             [
              1,
              "#f0f921"
             ]
            ],
            "type": "histogram2dcontour"
           }
          ],
          "mesh3d": [
           {
            "colorbar": {
             "outlinewidth": 0,
             "ticks": ""
            },
            "type": "mesh3d"
           }
          ],
          "parcoords": [
           {
            "line": {
             "colorbar": {
              "outlinewidth": 0,
              "ticks": ""
             }
            },
            "type": "parcoords"
           }
          ],
          "pie": [
           {
            "automargin": true,
            "type": "pie"
           }
          ],
          "scatter": [
           {
            "fillpattern": {
             "fillmode": "overlay",
             "size": 10,
             "solidity": 0.2
            },
            "type": "scatter"
           }
          ],
          "scatter3d": [
           {
            "line": {
             "colorbar": {
              "outlinewidth": 0,
              "ticks": ""
             }
            },
            "marker": {
             "colorbar": {
              "outlinewidth": 0,
              "ticks": ""
             }
            },
            "type": "scatter3d"
           }
          ],
          "scattercarpet": [
           {
            "marker": {
             "colorbar": {
              "outlinewidth": 0,
              "ticks": ""
             }
            },
            "type": "scattercarpet"
           }
          ],
          "scattergeo": [
           {
            "marker": {
             "colorbar": {
              "outlinewidth": 0,
              "ticks": ""
             }
            },
            "type": "scattergeo"
           }
          ],
          "scattergl": [
           {
            "marker": {
             "colorbar": {
              "outlinewidth": 0,
              "ticks": ""
             }
            },
            "type": "scattergl"
           }
          ],
          "scattermapbox": [
           {
            "marker": {
             "colorbar": {
              "outlinewidth": 0,
              "ticks": ""
             }
            },
            "type": "scattermapbox"
           }
          ],
          "scatterpolar": [
           {
            "marker": {
             "colorbar": {
              "outlinewidth": 0,
              "ticks": ""
             }
            },
            "type": "scatterpolar"
           }
          ],
          "scatterpolargl": [
           {
            "marker": {
             "colorbar": {
              "outlinewidth": 0,
              "ticks": ""
             }
            },
            "type": "scatterpolargl"
           }
          ],
          "scatterternary": [
           {
            "marker": {
             "colorbar": {
              "outlinewidth": 0,
              "ticks": ""
             }
            },
            "type": "scatterternary"
           }
          ],
          "surface": [
           {
            "colorbar": {
             "outlinewidth": 0,
             "ticks": ""
            },
            "colorscale": [
             [
              0,
              "#0d0887"
             ],
             [
              0.1111111111111111,
              "#46039f"
             ],
             [
              0.2222222222222222,
              "#7201a8"
             ],
             [
              0.3333333333333333,
              "#9c179e"
             ],
             [
              0.4444444444444444,
              "#bd3786"
             ],
             [
              0.5555555555555556,
              "#d8576b"
             ],
             [
              0.6666666666666666,
              "#ed7953"
             ],
             [
              0.7777777777777778,
              "#fb9f3a"
             ],
             [
              0.8888888888888888,
              "#fdca26"
             ],
             [
              1,
              "#f0f921"
             ]
            ],
            "type": "surface"
           }
          ],
          "table": [
           {
            "cells": {
             "fill": {
              "color": "#EBF0F8"
             },
             "line": {
              "color": "white"
             }
            },
            "header": {
             "fill": {
              "color": "#C8D4E3"
             },
             "line": {
              "color": "white"
             }
            },
            "type": "table"
           }
          ]
         },
         "layout": {
          "annotationdefaults": {
           "arrowcolor": "#2a3f5f",
           "arrowhead": 0,
           "arrowwidth": 1
          },
          "autotypenumbers": "strict",
          "coloraxis": {
           "colorbar": {
            "outlinewidth": 0,
            "ticks": ""
           }
          },
          "colorscale": {
           "diverging": [
            [
             0,
             "#8e0152"
            ],
            [
             0.1,
             "#c51b7d"
            ],
            [
             0.2,
             "#de77ae"
            ],
            [
             0.3,
             "#f1b6da"
            ],
            [
             0.4,
             "#fde0ef"
            ],
            [
             0.5,
             "#f7f7f7"
            ],
            [
             0.6,
             "#e6f5d0"
            ],
            [
             0.7,
             "#b8e186"
            ],
            [
             0.8,
             "#7fbc41"
            ],
            [
             0.9,
             "#4d9221"
            ],
            [
             1,
             "#276419"
            ]
           ],
           "sequential": [
            [
             0,
             "#0d0887"
            ],
            [
             0.1111111111111111,
             "#46039f"
            ],
            [
             0.2222222222222222,
             "#7201a8"
            ],
            [
             0.3333333333333333,
             "#9c179e"
            ],
            [
             0.4444444444444444,
             "#bd3786"
            ],
            [
             0.5555555555555556,
             "#d8576b"
            ],
            [
             0.6666666666666666,
             "#ed7953"
            ],
            [
             0.7777777777777778,
             "#fb9f3a"
            ],
            [
             0.8888888888888888,
             "#fdca26"
            ],
            [
             1,
             "#f0f921"
            ]
           ],
           "sequentialminus": [
            [
             0,
             "#0d0887"
            ],
            [
             0.1111111111111111,
             "#46039f"
            ],
            [
             0.2222222222222222,
             "#7201a8"
            ],
            [
             0.3333333333333333,
             "#9c179e"
            ],
            [
             0.4444444444444444,
             "#bd3786"
            ],
            [
             0.5555555555555556,
             "#d8576b"
            ],
            [
             0.6666666666666666,
             "#ed7953"
            ],
            [
             0.7777777777777778,
             "#fb9f3a"
            ],
            [
             0.8888888888888888,
             "#fdca26"
            ],
            [
             1,
             "#f0f921"
            ]
           ]
          },
          "colorway": [
           "#636efa",
           "#EF553B",
           "#00cc96",
           "#ab63fa",
           "#FFA15A",
           "#19d3f3",
           "#FF6692",
           "#B6E880",
           "#FF97FF",
           "#FECB52"
          ],
          "font": {
           "color": "#2a3f5f"
          },
          "geo": {
           "bgcolor": "white",
           "lakecolor": "white",
           "landcolor": "#E5ECF6",
           "showlakes": true,
           "showland": true,
           "subunitcolor": "white"
          },
          "hoverlabel": {
           "align": "left"
          },
          "hovermode": "closest",
          "mapbox": {
           "style": "light"
          },
          "paper_bgcolor": "white",
          "plot_bgcolor": "#E5ECF6",
          "polar": {
           "angularaxis": {
            "gridcolor": "white",
            "linecolor": "white",
            "ticks": ""
           },
           "bgcolor": "#E5ECF6",
           "radialaxis": {
            "gridcolor": "white",
            "linecolor": "white",
            "ticks": ""
           }
          },
          "scene": {
           "xaxis": {
            "backgroundcolor": "#E5ECF6",
            "gridcolor": "white",
            "gridwidth": 2,
            "linecolor": "white",
            "showbackground": true,
            "ticks": "",
            "zerolinecolor": "white"
           },
           "yaxis": {
            "backgroundcolor": "#E5ECF6",
            "gridcolor": "white",
            "gridwidth": 2,
            "linecolor": "white",
            "showbackground": true,
            "ticks": "",
            "zerolinecolor": "white"
           },
           "zaxis": {
            "backgroundcolor": "#E5ECF6",
            "gridcolor": "white",
            "gridwidth": 2,
            "linecolor": "white",
            "showbackground": true,
            "ticks": "",
            "zerolinecolor": "white"
           }
          },
          "shapedefaults": {
           "line": {
            "color": "#2a3f5f"
           }
          },
          "ternary": {
           "aaxis": {
            "gridcolor": "white",
            "linecolor": "white",
            "ticks": ""
           },
           "baxis": {
            "gridcolor": "white",
            "linecolor": "white",
            "ticks": ""
           },
           "bgcolor": "#E5ECF6",
           "caxis": {
            "gridcolor": "white",
            "linecolor": "white",
            "ticks": ""
           }
          },
          "title": {
           "x": 0.05
          },
          "xaxis": {
           "automargin": true,
           "gridcolor": "white",
           "linecolor": "white",
           "ticks": "",
           "title": {
            "standoff": 15
           },
           "zerolinecolor": "white",
           "zerolinewidth": 2
          },
          "yaxis": {
           "automargin": true,
           "gridcolor": "white",
           "linecolor": "white",
           "ticks": "",
           "title": {
            "standoff": 15
           },
           "zerolinecolor": "white",
           "zerolinewidth": 2
          }
         }
        },
        "width": 900,
        "xaxis": {
         "anchor": "y",
         "domain": [
          0,
          0.98
         ],
         "dtick": 1,
         "range": [
          1974.5,
          2017.5
         ],
         "title": {
          "text": ""
         }
        },
        "xaxis2": {
         "anchor": "y2",
         "domain": [
          0,
          0.98
         ],
         "matches": "x",
         "showticklabels": false
        },
        "yaxis": {
         "anchor": "x",
         "domain": [
          0,
          0.475
         ],
         "range": [
          0,
          100
         ],
         "title": {
          "text": "Production (%)"
         }
        },
        "yaxis2": {
         "anchor": "x2",
         "domain": [
          0.525,
          1
         ],
         "title": {
          "text": "Production (t)"
         }
        }
       }
      }
     },
     "metadata": {},
     "output_type": "display_data"
    }
   ],
   "source": [
    "# Bar chart of national crop production\n",
    "country_iso, country_name = 'SD', 'Sudan'\n",
    "df = pd.read_csv('../data/crop/adm_crop_production_%s.csv' % country_iso, index_col=0)\n",
    "df['year'] = df['harvest_year']\n",
    "year = [df['year'].min(), df['year'].max()]\n",
    "product_order = ['Wheat Grain','Millet', 'Sorghum']\n",
    "for season_name in ['Main','Winter']:\n",
    "    footnote = 'National crop production in %s - %s' % (country_name, season_name)\n",
    "    fn_save = '../figures/%s_bar_natgrainprod_%s.png' % (country_iso, season_name)\n",
    "    sub = df[df['season_name'] == season_name]\n",
    "    fig = PlotBarProduction(sub, year, product_order, footnote, fn_save)\n",
    "    fig.show()"
   ]
  },
  {
   "cell_type": "code",
   "execution_count": 10,
   "id": "ccb7fdc2-515d-4d5d-a437-369dd25bc884",
   "metadata": {},
   "outputs": [
    {
     "name": "stdout",
     "output_type": "stream",
     "text": [
      "../figures/SD_line_pay_Millet_Main.png is saved.\n"
     ]
    },
    {
     "data": {
      "application/vnd.plotly.v1+json": {
       "config": {
        "plotlyServerURL": "https://plot.ly"
       },
       "data": [
        {
         "connectgaps": false,
         "hovertemplate": "fnid=SD2013A102<br>indicator=production<br>year=%{x}<br>value=%{y}<extra></extra>",
         "legendgroup": "SD2013A102",
         "line": {
          "color": "#636efa",
          "dash": "solid"
         },
         "marker": {
          "symbol": "circle"
         },
         "mode": "markers+lines",
         "name": "SD2013A102",
         "showlegend": true,
         "type": "scattergl",
         "x": [
          1975,
          1976,
          1977,
          1978,
          1979,
          1980,
          1981,
          1982,
          1983,
          1984,
          1985,
          1986,
          1987,
          1988,
          1989,
          1990,
          1991,
          1992,
          1993,
          1994,
          1995,
          1996,
          1997,
          1998,
          1999,
          2000,
          2001,
          2002,
          2003,
          2004,
          2005,
          2006,
          2007,
          2008,
          2009,
          2010,
          2011,
          2012,
          2013,
          2014,
          2015,
          2016,
          2017
         ],
         "xaxis": "x3",
         "y": [
          69555.25009545629,
          69555.25009545629,
          71118.28942344406,
          70336.76975945018,
          40639.022527682326,
          66429.17143948072,
          70336.76975945018,
          28916.22756777396,
          10941.275295914473,
          10159.75563192058,
          62521.57311951127,
          53143.33715158458,
          16411.912943871706,
          60177.0141275296,
          10159.75563192058,
          5460,
          24360,
          34440,
          15120,
          75600,
          6720,
          9660,
          31500,
          105420,
          33600,
          25620,
          27720,
          33180,
          34860,
          33180,
          28980,
          14280,
          85260,
          85260,
          7980,
          42840,
          10080,
          42000,
          39000,
          155000,
          11000,
          279000,
          45
         ],
         "yaxis": "y3"
        },
        {
         "connectgaps": false,
         "hovertemplate": "fnid=SD2013A102<br>indicator=area<br>year=%{x}<br>value=%{y}<extra></extra>",
         "legendgroup": "SD2013A102",
         "line": {
          "color": "#636efa",
          "dash": "solid"
         },
         "marker": {
          "symbol": "circle"
         },
         "mode": "markers+lines",
         "name": "SD2013A102",
         "showlegend": false,
         "type": "scattergl",
         "x": [
          1975,
          1976,
          1977,
          1978,
          1979,
          1980,
          1981,
          1982,
          1983,
          1984,
          1985,
          1986,
          1987,
          1988,
          1989,
          1990,
          1991,
          1992,
          1993,
          1994,
          1995,
          1996,
          1997,
          1998,
          1999,
          2000,
          2001,
          2002,
          2003,
          2004,
          2005,
          2006,
          2007,
          2008,
          2009,
          2010,
          2011,
          2012,
          2013,
          2014,
          2015,
          2016,
          2017
         ],
         "xaxis": "x2",
         "y": [
          173497.36540664377,
          170371.2867506682,
          173497.36540664377,
          164119.12943871706,
          130513.78388697976,
          146925.69683085146,
          146925.69683085146,
          130513.78388697976,
          114101.87094310806,
          117227.94959908364,
          261027.5677739595,
          293851.3936617029,
          225077.66323024055,
          254775.4104620084,
          163337.60977472318,
          133560,
          278040,
          433440,
          227640,
          756000,
          444360,
          221760,
          435540,
          781620,
          411180,
          396060,
          753480,
          555240,
          441000,
          555240,
          282660,
          185640,
          448560,
          448560,
          268800,
          473760,
          210000,
          324660,
          271320,
          543900,
          66265.06,
          389000,
          147
         ],
         "yaxis": "y2"
        },
        {
         "connectgaps": false,
         "hovertemplate": "fnid=SD2013A102<br>indicator=yield<br>year=%{x}<br>value=%{y}<extra></extra>",
         "legendgroup": "SD2013A102",
         "line": {
          "color": "#636efa",
          "dash": "solid"
         },
         "marker": {
          "symbol": "circle"
         },
         "mode": "markers+lines",
         "name": "SD2013A102",
         "showlegend": false,
         "type": "scattergl",
         "x": [
          1975,
          1976,
          1977,
          1978,
          1979,
          1980,
          1981,
          1982,
          1983,
          1984,
          1985,
          1986,
          1987,
          1988,
          1989,
          1990,
          1991,
          1992,
          1993,
          1994,
          1995,
          1996,
          1997,
          1998,
          1999,
          2000,
          2001,
          2002,
          2003,
          2004,
          2005,
          2006,
          2007,
          2008,
          2009,
          2010,
          2011,
          2012,
          2013,
          2014,
          2015,
          2016,
          2017
         ],
         "xaxis": "x",
         "y": [
          0.4009009009009009,
          0.408256880733945,
          0.4099099099099099,
          0.4285714285714286,
          0.311377245508982,
          0.4521276595744681,
          0.4787234042553192,
          0.2215568862275449,
          0.0958904109589041,
          0.0866666666666666,
          0.2395209580838323,
          0.1808510638297872,
          0.0729166666666666,
          0.2361963190184049,
          0.062200956937799,
          0.040880503144654,
          0.0876132930513595,
          0.0794573643410852,
          0.066420664206642,
          0.1,
          0.0151228733459357,
          0.043560606060606,
          0.0723240115718418,
          0.1348737238044062,
          0.0817160367722165,
          0.0646871686108165,
          0.0367892976588628,
          0.0597579425113464,
          0.079047619047619,
          0.0597579425113464,
          0.1025260029717682,
          0.0769230769230769,
          0.1900749063670412,
          0.1900749063670412,
          0.0296875,
          0.0904255319148936,
          0.048,
          0.129366106080207,
          0.1437417072091994,
          0.2849788564074278,
          0.1660000006036363,
          0.7172236503856041,
          0.3061224489795918
         ],
         "yaxis": "y"
        },
        {
         "connectgaps": false,
         "hovertemplate": "fnid=SD2013A103<br>indicator=production<br>year=%{x}<br>value=%{y}<extra></extra>",
         "legendgroup": "SD2013A103",
         "line": {
          "color": "#EF553B",
          "dash": "solid"
         },
         "marker": {
          "symbol": "circle"
         },
         "mode": "markers+lines",
         "name": "SD2013A103",
         "showlegend": true,
         "type": "scattergl",
         "x": [
          1975,
          1976,
          1977,
          1978,
          1979,
          1980,
          1981,
          1982,
          1983,
          1984,
          1985,
          1986,
          1987,
          1988,
          1989,
          1990,
          1991,
          1992,
          1993,
          1994,
          1995,
          1996,
          1997,
          1998,
          1999,
          2000,
          2001,
          2002,
          2003,
          2004,
          2005,
          2006,
          2007,
          2008,
          2009,
          2010,
          2011,
          2012,
          2013,
          2014,
          2015,
          2016,
          2017
         ],
         "xaxis": "x3",
         "y": [
          44491.88073449227,
          59019.841790653,
          86713.76755395942,
          82627.77850691421,
          54479.85396060277,
          86259.7687709544,
          97609.73834607998,
          90799.75660100464,
          79903.78580888407,
          40859.89047045208,
          61289.83570567812,
          34957.90629138678,
          19067.948886210972,
          50393.86491355757,
          17251.95375419088,
          4383.31286105063,
          20232.50418971695,
          28104.59985405011,
          12684.806068709866,
          40076.5083794339,
          62634.50028578123,
          61607.70519912908,
          71533.39103676654,
          27038.937281839982,
          40387.27340831795,
          61607.70519912908,
          36280.09306170935,
          78036.4265855635,
          119792.76010941764,
          78036.4265855635,
          84539.46213436045,
          78720.95664333159,
          43125.39363939036,
          43125.39363939036,
          64688.09045908553,
          81116.81184551994,
          40387.27340831795,
          98280,
          43000,
          139000,
          89000,
          275000,
          70
         ],
         "yaxis": "y3"
        },
        {
         "connectgaps": false,
         "hovertemplate": "fnid=SD2013A103<br>indicator=area<br>year=%{x}<br>value=%{y}<extra></extra>",
         "legendgroup": "SD2013A103",
         "line": {
          "color": "#EF553B",
          "dash": "solid"
         },
         "marker": {
          "symbol": "circle"
         },
         "mode": "markers+lines",
         "name": "SD2013A103",
         "showlegend": false,
         "type": "scattergl",
         "x": [
          1975,
          1976,
          1977,
          1978,
          1979,
          1980,
          1981,
          1982,
          1983,
          1984,
          1985,
          1986,
          1987,
          1988,
          1989,
          1990,
          1991,
          1992,
          1993,
          1994,
          1995,
          1996,
          1997,
          1998,
          1999,
          2000,
          2001,
          2002,
          2003,
          2004,
          2005,
          2006,
          2007,
          2008,
          2009,
          2010,
          2011,
          2012,
          2013,
          2014,
          2015,
          2016,
          2017
         ],
         "xaxis": "x2",
         "y": [
          124395.66654337633,
          123487.66897736628,
          185231.50346604944,
          187047.4985980695,
          161169.56796678322,
          180237.5168529942,
          180237.5168529942,
          189771.49129609967,
          222005.4048894563,
          170703.5424098887,
          170703.5424098887,
          162985.5630988033,
          113953.6945342608,
          166617.5533628435,
          133021.64342047178,
          57617.1273091944,
          119434.83250832347,
          185663.11559738725,
          97137.1356886283,
          223195.66631795885,
          523665.4941925972,
          236162.8699299948,
          417563.33523854153,
          494572.9667374529,
          451789.8381269466,
          619841.9673090153,
          415167.4800363532,
          582192.8141317698,
          559261.0571965384,
          582192.8141317698,
          444944.53754926554,
          632505.7733777252,
          508263.56789281487,
          508263.56789281487,
          382652.3022923684,
          426462.2259895269,
          402845.93899652734,
          545160,
          199920,
          433020,
          277258.57,
          459000,
          378
         ],
         "yaxis": "y2"
        },
        {
         "connectgaps": false,
         "hovertemplate": "fnid=SD2013A103<br>indicator=yield<br>year=%{x}<br>value=%{y}<extra></extra>",
         "legendgroup": "SD2013A103",
         "line": {
          "color": "#EF553B",
          "dash": "solid"
         },
         "marker": {
          "symbol": "circle"
         },
         "mode": "markers+lines",
         "name": "SD2013A103",
         "showlegend": false,
         "type": "scattergl",
         "x": [
          1975,
          1976,
          1977,
          1978,
          1979,
          1980,
          1981,
          1982,
          1983,
          1984,
          1985,
          1986,
          1987,
          1988,
          1989,
          1990,
          1991,
          1992,
          1993,
          1994,
          1995,
          1996,
          1997,
          1998,
          1999,
          2000,
          2001,
          2002,
          2003,
          2004,
          2005,
          2006,
          2007,
          2008,
          2009,
          2010,
          2011,
          2012,
          2013,
          2014,
          2015,
          2016,
          2017
         ],
         "xaxis": "x",
         "y": [
          0.3576642335766424,
          0.4779411764705882,
          0.4681372549019608,
          0.441747572815534,
          0.3380281690140844,
          0.4785894206549118,
          0.5415617128463476,
          0.4784688995215311,
          0.359918200408998,
          0.2393617021276596,
          0.3590425531914893,
          0.2144846796657381,
          0.1673306772908366,
          0.3024523160762943,
          0.1296928327645051,
          0.12087087087087081,
          0.2094155844155844,
          0.20046296296296295,
          0.16525573192239856,
          0.16479278587874135,
          0.1196078431372549,
          0.2608695652173913,
          0.171311475409836,
          0.0546712802768166,
          0.0893939393939394,
          0.0993926007730535,
          0.0873866446826051,
          0.1340388007054673,
          0.2141982864137086,
          0.1340388007054673,
          0.19,
          0.1244588744588744,
          0.0848484848484848,
          0.0848484848484848,
          0.1690518783542039,
          0.1902086677367576,
          0.1002548853016142,
          0.1802773497688752,
          0.2150860344137655,
          0.3210013394300494,
          0.3209999965014607,
          0.599128540305011,
          0.1851851851851851
         ],
         "yaxis": "y"
        },
        {
         "connectgaps": false,
         "hovertemplate": "fnid=SD2013A104<br>indicator=production<br>year=%{x}<br>value=%{y}<extra></extra>",
         "legendgroup": "SD2013A104",
         "line": {
          "color": "#00cc96",
          "dash": "solid"
         },
         "marker": {
          "symbol": "circle"
         },
         "mode": "markers+lines",
         "name": "SD2013A104",
         "showlegend": true,
         "type": "scattergl",
         "x": [
          1975,
          1976,
          1977,
          1978,
          1979,
          1980,
          1981,
          1982,
          1983,
          1984,
          1985,
          1986,
          1987,
          1988,
          1989,
          1990,
          1991,
          1992,
          1993,
          1994,
          1995,
          1996,
          1997,
          1998,
          1999,
          2000,
          2001,
          2002,
          2003,
          2004,
          2005,
          2006,
          2007,
          2008,
          2009,
          2010,
          2011,
          2012,
          2013,
          2014,
          2015,
          2016,
          2017
         ],
         "xaxis": "x3",
         "y": [
          20410.566663280428,
          20725.93540082711,
          21764.06772878769,
          21456.889935346575,
          12543.610238117732,
          20443.330439702702,
          21782.113945941594,
          10054.8270418928,
          4793.252760592276,
          3727.2189424294606,
          18808.8887420138,
          15615.518873137127,
          5002.008524158312,
          17916.921180835456,
          3214.7447439161033,
          3743.271266942416,
          16969.496410138956,
          23707.384690635303,
          10481.159547438769,
          30694.824388927816,
          29946.17013553933,
          21211.870512673693,
          24456.03894402379,
          34438.09565587023,
          27700.20737537388,
          21710.973348266016,
          47664.32079906677,
          16969.496410138956,
          12727.122307604215,
          16969.496410138956,
          13475.7765609927,
          11978.468054215731,
          9732.505294050285,
          9732.505294050285,
          11978.468054215731,
          14473.982232177344,
          29197.51588215085,
          126840,
          61000,
          170000,
          114000,
          267000,
          234
         ],
         "yaxis": "y3"
        },
        {
         "connectgaps": false,
         "hovertemplate": "fnid=SD2013A104<br>indicator=area<br>year=%{x}<br>value=%{y}<extra></extra>",
         "legendgroup": "SD2013A104",
         "line": {
          "color": "#00cc96",
          "dash": "solid"
         },
         "marker": {
          "symbol": "circle"
         },
         "mode": "markers+lines",
         "name": "SD2013A104",
         "showlegend": false,
         "type": "scattergl",
         "x": [
          1975,
          1976,
          1977,
          1978,
          1979,
          1980,
          1981,
          1982,
          1983,
          1984,
          1985,
          1986,
          1987,
          1988,
          1989,
          1990,
          1991,
          1992,
          1993,
          1994,
          1995,
          1996,
          1997,
          1998,
          1999,
          2000,
          2001,
          2002,
          2003,
          2004,
          2005,
          2006,
          2007,
          2008,
          2009,
          2010,
          2011,
          2012,
          2013,
          2014,
          2015,
          2016,
          2017
         ],
         "xaxis": "x2",
         "y": [
          51202.9794085997,
          50309.3475184786,
          52523.58599707643,
          49941.24305719645,
          39984.83804517873,
          44986.846569337045,
          44986.846569337045,
          40605.72024722376,
          36717.35757752717,
          36477.63306708988,
          76678.01489221398,
          85686.6493626489,
          65396.010304891235,
          74841.4747467301,
          48549.98522843862,
          22210.07618385834,
          46167.0122922898,
          71870.80832529439,
          37682.26408722033,
          100070.1185362606,
          132761.3542675577,
          70123.94840072127,
          81104.21078375235,
          106059.35256336846,
          102316.08129642604,
          91585.37033119112,
          176931.9552174782,
          94579.98734474504,
          64134.7143736134,
          94579.98734474504,
          44919.25520330899,
          49910.28355923222,
          43671.49811432819,
          43671.49811432819,
          79606.9022769754,
          99820.56711846445,
          94080.88450915272,
          317520,
          155400,
          208740,
          174045.8,
          321000,
          308
         ],
         "yaxis": "y2"
        },
        {
         "connectgaps": false,
         "hovertemplate": "fnid=SD2013A104<br>indicator=yield<br>year=%{x}<br>value=%{y}<extra></extra>",
         "legendgroup": "SD2013A104",
         "line": {
          "color": "#00cc96",
          "dash": "solid"
         },
         "marker": {
          "symbol": "circle"
         },
         "mode": "markers+lines",
         "name": "SD2013A104",
         "showlegend": false,
         "type": "scattergl",
         "x": [
          1975,
          1976,
          1977,
          1978,
          1979,
          1980,
          1981,
          1982,
          1983,
          1984,
          1985,
          1986,
          1987,
          1988,
          1989,
          1990,
          1991,
          1992,
          1993,
          1994,
          1995,
          1996,
          1997,
          1998,
          1999,
          2000,
          2001,
          2002,
          2003,
          2004,
          2005,
          2006,
          2007,
          2008,
          2009,
          2010,
          2011,
          2012,
          2013,
          2014,
          2015,
          2016,
          2017
         ],
         "xaxis": "x",
         "y": [
          0.3986206837770931,
          0.4119698708717,
          0.4143675134824024,
          0.4296426885244434,
          0.3137091670583922,
          0.4544290609077018,
          0.4841885041301882,
          0.247620950463999,
          0.1305446000701854,
          0.1021782015180189,
          0.2452970224705659,
          0.1822398120277531,
          0.076487976878678,
          0.2393982914081775,
          0.0662151539035491,
          0.1685393258426966,
          0.3675675675675676,
          0.3298611111111111,
          0.2781456953642384,
          0.3067331670822942,
          0.225563909774436,
          0.3024911032028469,
          0.3015384615384616,
          0.3247058823529412,
          0.2707317073170731,
          0.2370572207084468,
          0.2693935119887165,
          0.1794195250659631,
          0.1984435797665369,
          0.1794195250659631,
          0.3,
          0.24,
          0.2228571428571428,
          0.2228571428571428,
          0.1504702194357366,
          0.145,
          0.3103448275862069,
          0.3994708994708995,
          0.3925353925353925,
          0.8144102711507138,
          0.6550000057456141,
          0.8317757009345794,
          0.7597402597402597
         ],
         "yaxis": "y"
        },
        {
         "connectgaps": false,
         "hovertemplate": "fnid=SD2013A105<br>indicator=production<br>year=%{x}<br>value=%{y}<extra></extra>",
         "legendgroup": "SD2013A105",
         "line": {
          "color": "#ab63fa",
          "dash": "solid"
         },
         "marker": {
          "symbol": "circle"
         },
         "mode": "markers+lines",
         "name": "SD2013A105",
         "showlegend": true,
         "type": "scattergl",
         "x": [
          1975,
          1976,
          1977,
          1978,
          1979,
          1980,
          1981,
          1982,
          1983,
          1984,
          1985,
          1986,
          1987,
          1988,
          1989,
          1990,
          1991,
          1992,
          1993,
          1994,
          1995,
          1996,
          1997,
          1998,
          1999,
          2000,
          2001,
          2002,
          2003,
          2004,
          2005,
          2006,
          2007,
          2008,
          2009,
          2010,
          2011,
          2012,
          2013,
          2014,
          2015,
          2016,
          2017
         ],
         "xaxis": "x3",
         "y": [
          37851.598200756445,
          50211.30373569733,
          73771.99241167838,
          70295.82522997625,
          46348.8957560283,
          73385.75161371149,
          83041.77156288404,
          77248.15959338051,
          67978.38044217485,
          34761.671817021226,
          52142.50772553184,
          29740.541443451493,
          16222.113514609906,
          42872.72857432618,
          14677.150322742296,
          1076.6871389493695,
          4757.49581028305,
          6545.40014594989,
          2897.193931290134,
          9126.4916205661,
          14225.499714218771,
          13992.294800870925,
          16246.60896323346,
          6141.062718160017,
          9172.726591682049,
          13992.294800870925,
          8239.906938290655,
          17723.5734144365,
          27207.23989058235,
          17723.5734144365,
          19200.537865639544,
          17879.0433566684,
          9794.606360609649,
          9794.606360609649,
          14691.90954091447,
          18423.18815448005,
          9172.726591682049,
          13440,
          25000,
          54000,
          23000,
          22000,
          23
         ],
         "yaxis": "y3"
        },
        {
         "connectgaps": false,
         "hovertemplate": "fnid=SD2013A105<br>indicator=area<br>year=%{x}<br>value=%{y}<extra></extra>",
         "legendgroup": "SD2013A105",
         "line": {
          "color": "#ab63fa",
          "dash": "solid"
         },
         "marker": {
          "symbol": "circle"
         },
         "mode": "markers+lines",
         "name": "SD2013A105",
         "showlegend": false,
         "type": "scattergl",
         "x": [
          1975,
          1976,
          1977,
          1978,
          1979,
          1980,
          1981,
          1982,
          1983,
          1984,
          1985,
          1986,
          1987,
          1988,
          1989,
          1990,
          1991,
          1992,
          1993,
          1994,
          1995,
          1996,
          1997,
          1998,
          1999,
          2000,
          2001,
          2002,
          2003,
          2004,
          2005,
          2006,
          2007,
          2008,
          2009,
          2010,
          2011,
          2012,
          2013,
          2014,
          2015,
          2016,
          2017
         ],
         "xaxis": "x2",
         "y": [
          105829.9786429313,
          105057.4970469975,
          157586.24557049622,
          159131.20876236385,
          137115.4832782504,
          153337.5967928603,
          153337.5967928603,
          161448.65355016527,
          188871.75020581533,
          145226.54003555534,
          145226.54003555534,
          138660.446470118,
          96946.44028969252,
          141750.37285385322,
          113168.55380430244,
          13572.872690805603,
          27775.167491676526,
          42816.88440261277,
          22142.864311371704,
          50854.33368204115,
          118934.50580740283,
          53637.13007000521,
          94836.66476145848,
          112327.03326254712,
          102610.16187305344,
          140778.0326909847,
          94292.51996364685,
          132227.1858682302,
          127018.9428034616,
          132227.1858682302,
          101055.46245073444,
          143654.2266222748,
          115436.43210718512,
          115436.43210718512,
          86907.69770763163,
          96857.77401047316,
          91494.06100347264,
          151200,
          114240,
          126840,
          126373.63,
          171000,
          171
         ],
         "yaxis": "y2"
        },
        {
         "connectgaps": false,
         "hovertemplate": "fnid=SD2013A105<br>indicator=yield<br>year=%{x}<br>value=%{y}<extra></extra>",
         "legendgroup": "SD2013A105",
         "line": {
          "color": "#ab63fa",
          "dash": "solid"
         },
         "marker": {
          "symbol": "circle"
         },
         "mode": "markers+lines",
         "name": "SD2013A105",
         "showlegend": false,
         "type": "scattergl",
         "x": [
          1975,
          1976,
          1977,
          1978,
          1979,
          1980,
          1981,
          1982,
          1983,
          1984,
          1985,
          1986,
          1987,
          1988,
          1989,
          1990,
          1991,
          1992,
          1993,
          1994,
          1995,
          1996,
          1997,
          1998,
          1999,
          2000,
          2001,
          2002,
          2003,
          2004,
          2005,
          2006,
          2007,
          2008,
          2009,
          2010,
          2011,
          2012,
          2013,
          2014,
          2015,
          2016,
          2017
         ],
         "xaxis": "x",
         "y": [
          0.3576642335766423,
          0.4779411764705882,
          0.4681372549019608,
          0.4417475728155339,
          0.3380281690140844,
          0.4785894206549119,
          0.5415617128463476,
          0.4784688995215311,
          0.3599182004089979,
          0.2393617021276596,
          0.3590425531914893,
          0.2144846796657381,
          0.1673306772908366,
          0.3024523160762943,
          0.1296928327645051,
          0.12087087087087081,
          0.2094155844155844,
          0.20046296296296295,
          0.16525573192239856,
          0.16479278587874135,
          0.1196078431372549,
          0.2608695652173913,
          0.171311475409836,
          0.0546712802768166,
          0.0893939393939393,
          0.0993926007730535,
          0.0873866446826051,
          0.1340388007054673,
          0.2141982864137087,
          0.1340388007054673,
          0.19,
          0.1244588744588744,
          0.0848484848484848,
          0.0848484848484848,
          0.1690518783542039,
          0.1902086677367576,
          0.1002548853016142,
          0.0888888888888888,
          0.2188375350140056,
          0.4257332071901608,
          0.1819999947773914,
          0.1286549707602339,
          0.1345029239766081
         ],
         "yaxis": "y"
        },
        {
         "connectgaps": false,
         "hovertemplate": "fnid=SD2013A106<br>indicator=production<br>year=%{x}<br>value=%{y}<extra></extra>",
         "legendgroup": "SD2013A106",
         "line": {
          "color": "#FFA15A",
          "dash": "solid"
         },
         "marker": {
          "symbol": "circle"
         },
         "mode": "markers+lines",
         "name": "SD2013A106",
         "showlegend": true,
         "type": "scattergl",
         "x": [
          1975,
          1976,
          1977,
          1978,
          1979,
          1980,
          1981,
          1982,
          1983,
          1984,
          1985,
          1986,
          1987,
          1988,
          1989,
          1990,
          1991,
          1992,
          1993,
          1994,
          1995,
          1996,
          1997,
          1998,
          1999,
          2000,
          2001,
          2002,
          2003,
          2004,
          2005,
          2006,
          2007,
          2008,
          2009,
          2010,
          2011,
          2012,
          2013,
          2014,
          2015,
          2016,
          2017
         ],
         "xaxis": "x3",
         "y": [
          14690.70430601458,
          19487.66897736628,
          28631.882882130456,
          27282.73656831279,
          17988.617517568873,
          28481.977736150715,
          32229.60638564423,
          29981.02919594812,
          26383.305692434347,
          13491.463138176656,
          20237.194707264985,
          11542.696240440027,
          6296.016131149106,
          16639.471203751207,
          5696.395547230143,
          2556.728733057583,
          11590.503589861044,
          16192.615309364694,
          7158.840452561233,
          20965.17561107218,
          20453.829864460666,
          14488.129487326303,
          16703.96105597621,
          23521.904344129765,
          18919.792624626116,
          14829.026651733982,
          32555.679200933224,
          11590.503589861044,
          8692.877692395783,
          11590.503589861044,
          9204.2234390073,
          8181.531945784266,
          6647.494705949716,
          6647.494705949716,
          8181.531945784266,
          9886.017767822656,
          19942.484117849148,
          33600,
          63000,
          146000,
          41000,
          168000,
          168
         ],
         "yaxis": "y3"
        },
        {
         "connectgaps": false,
         "hovertemplate": "fnid=SD2013A106<br>indicator=area<br>year=%{x}<br>value=%{y}<extra></extra>",
         "legendgroup": "SD2013A106",
         "line": {
          "color": "#FFA15A",
          "dash": "solid"
         },
         "marker": {
          "symbol": "circle"
         },
         "mode": "markers+lines",
         "name": "SD2013A106",
         "showlegend": false,
         "type": "scattergl",
         "x": [
          1975,
          1976,
          1977,
          1978,
          1979,
          1980,
          1981,
          1982,
          1983,
          1984,
          1985,
          1986,
          1987,
          1988,
          1989,
          1990,
          1991,
          1992,
          1993,
          1994,
          1995,
          1996,
          1997,
          1998,
          1999,
          2000,
          2001,
          2002,
          2003,
          2004,
          2005,
          2006,
          2007,
          2008,
          2009,
          2010,
          2011,
          2012,
          2013,
          2014,
          2015,
          2016,
          2017
         ],
         "xaxis": "x2",
         "y": [
          41074.00999844893,
          40774.199706489446,
          61161.29955973417,
          61760.92014365313,
          53216.32682280792,
          59512.34295395702,
          59512.34295395702,
          62660.351019531576,
          73303.61638409315,
          56364.33488838247,
          56364.33488838247,
          53815.94740672688,
          37626.19164091489,
          55015.1885745648,
          43922.207772064,
          15169.92381614166,
          31532.987707710192,
          49089.191674705595,
          25737.73591277967,
          68349.8814637394,
          90678.64573244228,
          47896.051599278726,
          55395.789216247635,
          72440.64743663152,
          69883.91870357395,
          62554.62966880887,
          120848.04478252176,
          64600.01265525493,
          43805.28562638659,
          64600.01265525493,
          30680.744796690997,
          34089.71644076778,
          29828.5018856718,
          29828.5018856718,
          54373.0977230246,
          68179.43288153555,
          64259.11549084725,
          111300,
          78960,
          170100,
          79457.36,
          202000,
          231
         ],
         "yaxis": "y2"
        },
        {
         "connectgaps": false,
         "hovertemplate": "fnid=SD2013A106<br>indicator=yield<br>year=%{x}<br>value=%{y}<extra></extra>",
         "legendgroup": "SD2013A106",
         "line": {
          "color": "#FFA15A",
          "dash": "solid"
         },
         "marker": {
          "symbol": "circle"
         },
         "mode": "markers+lines",
         "name": "SD2013A106",
         "showlegend": false,
         "type": "scattergl",
         "x": [
          1975,
          1976,
          1977,
          1978,
          1979,
          1980,
          1981,
          1982,
          1983,
          1984,
          1985,
          1986,
          1987,
          1988,
          1989,
          1990,
          1991,
          1992,
          1993,
          1994,
          1995,
          1996,
          1997,
          1998,
          1999,
          2000,
          2001,
          2002,
          2003,
          2004,
          2005,
          2006,
          2007,
          2008,
          2009,
          2010,
          2011,
          2012,
          2013,
          2014,
          2015,
          2016,
          2017
         ],
         "xaxis": "x",
         "y": [
          0.3576642335766423,
          0.4779411764705882,
          0.4681372549019607,
          0.441747572815534,
          0.3380281690140845,
          0.4785894206549118,
          0.5415617128463476,
          0.4784688995215311,
          0.3599182004089979,
          0.2393617021276596,
          0.3590425531914893,
          0.2144846796657381,
          0.1673306772908366,
          0.3024523160762942,
          0.1296928327645051,
          0.1685393258426966,
          0.3675675675675676,
          0.3298611111111111,
          0.2781456953642384,
          0.3067331670822942,
          0.2255639097744361,
          0.302491103202847,
          0.3015384615384616,
          0.3247058823529412,
          0.2707317073170731,
          0.2370572207084468,
          0.2693935119887165,
          0.179419525065963,
          0.1984435797665369,
          0.179419525065963,
          0.3,
          0.24,
          0.2228571428571428,
          0.2228571428571428,
          0.1504702194357366,
          0.145,
          0.3103448275862069,
          0.3018867924528302,
          0.7978723404255319,
          0.8583186360964139,
          0.516000028191221,
          0.8316831683168316,
          0.7272727272727273
         ],
         "yaxis": "y"
        },
        {
         "connectgaps": false,
         "hovertemplate": "fnid=SD2013A107<br>indicator=production<br>year=%{x}<br>value=%{y}<extra></extra>",
         "legendgroup": "SD2013A107",
         "line": {
          "color": "#19d3f3",
          "dash": "solid"
         },
         "marker": {
          "symbol": "circle"
         },
         "mode": "markers+lines",
         "name": "SD2013A107",
         "showlegend": true,
         "type": "scattergl",
         "x": [
          1975,
          1976,
          1977,
          1978,
          1979,
          1980,
          1981,
          1982,
          1983,
          1984,
          1985,
          1986,
          1987,
          1988,
          1989,
          1990,
          1991,
          1992,
          1993,
          1994,
          1995,
          1996,
          1997,
          1998,
          1999,
          2000,
          2001,
          2002,
          2003,
          2004,
          2005,
          2006,
          2007,
          2008,
          2009,
          2010,
          2011,
          2012,
          2013,
          2014,
          2015,
          2016,
          2017
         ],
         "xaxis": "x3",
         "y": [
          5814.505790126311,
          7752.674386835081,
          11629.011580252622,
          5814.505790126311,
          3230.2809945146173,
          4522.393392320464,
          5814.505790126311,
          5814.505790126311,
          5814.505790126311,
          2584.224795611694,
          14213.236375864317,
          7106.6181879321575,
          4522.393392320464,
          10336.899182446776,
          4522.393392320464,
          1050,
          2730,
          3150,
          1260,
          11340,
          5069.4,
          4830,
          4620,
          7980,
          2940,
          2520,
          21000,
          6720,
          2940,
          6720,
          8004.468076163255,
          9089.819679710816,
          24963.08688159388,
          24556.080030263543,
          3876.0619141692237,
          3038.984489933168,
          3200.5671641791046,
          3867.9729729729725,
          14000,
          28000,
          19000,
          6000,
          7
         ],
         "yaxis": "y3"
        },
        {
         "connectgaps": false,
         "hovertemplate": "fnid=SD2013A107<br>indicator=area<br>year=%{x}<br>value=%{y}<extra></extra>",
         "legendgroup": "SD2013A107",
         "line": {
          "color": "#19d3f3",
          "dash": "solid"
         },
         "marker": {
          "symbol": "circle"
         },
         "mode": "markers+lines",
         "name": "SD2013A107",
         "showlegend": false,
         "type": "scattergl",
         "x": [
          1975,
          1976,
          1977,
          1978,
          1979,
          1980,
          1981,
          1982,
          1983,
          1984,
          1985,
          1986,
          1987,
          1988,
          1989,
          1990,
          1991,
          1992,
          1993,
          1994,
          1995,
          1996,
          1997,
          1998,
          1999,
          2000,
          2001,
          2002,
          2003,
          2004,
          2005,
          2006,
          2007,
          2008,
          2009,
          2010,
          2011,
          2012,
          2013,
          2014,
          2015,
          2016,
          2017
         ],
         "xaxis": "x2",
         "y": [
          96908.42983543852,
          18735.62976818478,
          24550.13555831109,
          10982.9553813497,
          6460.561989029235,
          10982.9553813497,
          12275.067779155544,
          12921.12397805847,
          12921.12397805847,
          13567.180176961392,
          32302.80994514617,
          24550.13555831109,
          24550.13555831109,
          36179.14713856371,
          23904.07935940817,
          10500,
          20790,
          21840,
          15330,
          62580,
          50610,
          34440,
          31500,
          43890,
          19530,
          24990,
          84000,
          40740,
          21420,
          40740,
          44635.084695893405,
          48705.15320919676,
          269167.19767979486,
          268081.84607624734,
          33510.23075953091,
          15059.253499222395,
          20670.329601990048,
          27742.7027027027,
          32760,
          58800,
          39495.8,
          21000,
          26
         ],
         "yaxis": "y2"
        },
        {
         "connectgaps": false,
         "hovertemplate": "fnid=SD2013A107<br>indicator=yield<br>year=%{x}<br>value=%{y}<extra></extra>",
         "legendgroup": "SD2013A107",
         "line": {
          "color": "#19d3f3",
          "dash": "solid"
         },
         "marker": {
          "symbol": "circle"
         },
         "mode": "markers+lines",
         "name": "SD2013A107",
         "showlegend": false,
         "type": "scattergl",
         "x": [
          1975,
          1976,
          1977,
          1978,
          1979,
          1980,
          1981,
          1982,
          1983,
          1984,
          1985,
          1986,
          1987,
          1988,
          1989,
          1990,
          1991,
          1992,
          1993,
          1994,
          1995,
          1996,
          1997,
          1998,
          1999,
          2000,
          2001,
          2002,
          2003,
          2004,
          2005,
          2006,
          2007,
          2008,
          2009,
          2010,
          2011,
          2012,
          2013,
          2014,
          2015,
          2016,
          2017
         ],
         "xaxis": "x",
         "y": [
          0.06,
          0.4137931034482758,
          0.4736842105263158,
          0.5294117647058824,
          0.5,
          0.4117647058823529,
          0.4736842105263158,
          0.4499999999999999,
          0.4499999999999999,
          0.1904761904761905,
          0.44,
          0.2894736842105263,
          0.1842105263157895,
          0.2857142857142857,
          0.1891891891891892,
          0.20921985815602837,
          0.13909774436090222,
          0.15,
          0.09461805555555555,
          0.17408675799086754,
          0.11999999999999995,
          0.1457636566332218,
          0.13644366197183094,
          0.2011111111111111,
          0.23888888888888887,
          0.297008547008547,
          0.25,
          0.1649484536082474,
          0.1372549019607843,
          0.1649484536082474,
          0.14618055555555554,
          0.16114341085271316,
          0.17073170731707316,
          0.10823170731707316,
          0.19964285714285712,
          0.29999999999999993,
          0.17666666666666664,
          0.15175438596491225,
          0.4273504273504273,
          0.4761904761904761,
          0.4829999786266676,
          0.31985294117647056,
          0.2692307692307692
         ],
         "yaxis": "y"
        },
        {
         "connectgaps": false,
         "hovertemplate": "fnid=SD2013A108<br>indicator=production<br>year=%{x}<br>value=%{y}<extra></extra>",
         "legendgroup": "SD2013A108",
         "line": {
          "color": "#FF6692",
          "dash": "solid"
         },
         "marker": {
          "symbol": "circle"
         },
         "mode": "markers+lines",
         "name": "SD2013A108",
         "showlegend": true,
         "type": "scattergl",
         "x": [
          1975,
          1976,
          1977,
          1978,
          1979,
          1980,
          1981,
          1982,
          1983,
          1984,
          1985,
          1986,
          1987,
          1988,
          1989,
          1990,
          1991,
          1992,
          1993,
          1994,
          1995,
          1996,
          1997,
          1998,
          1999,
          2000,
          2001,
          2002,
          2003,
          2004,
          2005,
          2006,
          2007,
          2008,
          2009,
          2010,
          2011,
          2012,
          2013,
          2014,
          2015,
          2016,
          2017
         ],
         "xaxis": "x3",
         "y": [
          366.66666666666663,
          433.3333333333333,
          200,
          333.3333333333333,
          333.3333333333333,
          400,
          500,
          166.66666666666666,
          333.3333333333333,
          133.33333333333331,
          133.33333333333331,
          null,
          null,
          null,
          null,
          464.1,
          2354.1,
          4288.2,
          1982.4,
          273,
          840,
          840,
          840,
          840,
          630,
          420,
          1050,
          357,
          1470,
          357,
          1470,
          2100,
          2940,
          2940,
          2310,
          3570,
          3780,
          4200,
          5000,
          3500,
          8000,
          8000,
          21
         ],
         "yaxis": "y3"
        },
        {
         "connectgaps": false,
         "hovertemplate": "fnid=SD2013A108<br>indicator=area<br>year=%{x}<br>value=%{y}<extra></extra>",
         "legendgroup": "SD2013A108",
         "line": {
          "color": "#FF6692",
          "dash": "solid"
         },
         "marker": {
          "symbol": "circle"
         },
         "mode": "markers+lines",
         "name": "SD2013A108",
         "showlegend": false,
         "type": "scattergl",
         "x": [
          1975,
          1976,
          1977,
          1978,
          1979,
          1980,
          1981,
          1982,
          1983,
          1984,
          1985,
          1986,
          1987,
          1988,
          1989,
          1990,
          1991,
          1992,
          1993,
          1994,
          1995,
          1996,
          1997,
          1998,
          1999,
          2000,
          2001,
          2002,
          2003,
          2004,
          2005,
          2006,
          2007,
          2008,
          2009,
          2010,
          2011,
          2012,
          2013,
          2014,
          2015,
          2016,
          2017
         ],
         "xaxis": "x2",
         "y": [
          633.3333333333333,
          1033.3333333333333,
          600,
          833.3333333333333,
          900,
          966.6666666666666,
          966.6666666666666,
          700,
          900,
          700,
          433.3333333333333,
          null,
          null,
          null,
          null,
          2730,
          13020,
          16170,
          12390,
          1890,
          3780,
          3990,
          4620,
          3150,
          3780,
          2520,
          6300,
          1680,
          10080,
          1680,
          7980,
          11130,
          20160,
          15960,
          15540,
          19740,
          15540,
          28350,
          11970,
          9450,
          18890.09,
          20000,
          46
         ],
         "yaxis": "y2"
        },
        {
         "connectgaps": false,
         "hovertemplate": "fnid=SD2013A108<br>indicator=yield<br>year=%{x}<br>value=%{y}<extra></extra>",
         "legendgroup": "SD2013A108",
         "line": {
          "color": "#FF6692",
          "dash": "solid"
         },
         "marker": {
          "symbol": "circle"
         },
         "mode": "markers+lines",
         "name": "SD2013A108",
         "showlegend": false,
         "type": "scattergl",
         "x": [
          1975,
          1976,
          1977,
          1978,
          1979,
          1980,
          1981,
          1982,
          1983,
          1984,
          1985,
          1986,
          1987,
          1988,
          1989,
          1990,
          1991,
          1992,
          1993,
          1994,
          1995,
          1996,
          1997,
          1998,
          1999,
          2000,
          2001,
          2002,
          2003,
          2004,
          2005,
          2006,
          2007,
          2008,
          2009,
          2010,
          2011,
          2012,
          2013,
          2014,
          2015,
          2016,
          2017
         ],
         "xaxis": "x",
         "y": [
          0.5789473684210527,
          0.4193548387096774,
          0.3333333333333333,
          0.4,
          0.3703703703703703,
          0.4137931034482758,
          0.5172413793103449,
          0.238095238095238,
          0.3703703703703703,
          0.1904761904761904,
          0.3076923076923076,
          null,
          null,
          null,
          null,
          0.1434090909090909,
          0.14416666666666664,
          0.23833333333333329,
          0.2975862068965517,
          0.1464285714285714,
          0.2321428571428571,
          0.225,
          0.1964285714285714,
          0.25,
          0.1625,
          0.1875,
          0.16985645933014348,
          0.21666666666666667,
          0.15847665847665843,
          0.21666666666666667,
          0.19731800766283525,
          0.1808943089430894,
          0.1333333333333333,
          0.18541666666666665,
          0.14250000000000002,
          0.1821448313985627,
          0.242911877394636,
          0.1470099667774086,
          0.3843537414965986,
          0.38156288156288154,
          0.42849995230027826,
          0.40659340659340654,
          0.4565217391304347
         ],
         "yaxis": "y"
        },
        {
         "connectgaps": false,
         "hovertemplate": "fnid=SD2013A109<br>indicator=production<br>year=%{x}<br>value=%{y}<extra></extra>",
         "legendgroup": "SD2013A109",
         "line": {
          "color": "#B6E880",
          "dash": "solid"
         },
         "marker": {
          "symbol": "circle"
         },
         "mode": "markers+lines",
         "name": "SD2013A109",
         "showlegend": true,
         "type": "scattergl",
         "x": [
          1975,
          1976,
          1977,
          1978,
          1979,
          1980,
          1981,
          1982,
          1983,
          1984,
          1985,
          1986,
          1987,
          1988,
          1989,
          1990,
          1991,
          1992,
          1993,
          1994,
          1995,
          1996,
          1997,
          1998,
          1999,
          2000,
          2001,
          2002,
          2003,
          2004,
          2005,
          2006,
          2007,
          2008,
          2009,
          2010,
          2011,
          2012,
          2013,
          2014,
          2015,
          2016,
          2017
         ],
         "xaxis": "x3",
         "y": [
          15897.041617917432,
          11481.19672405148,
          5299.013872639144,
          23845.56242687615,
          10598.027745278288,
          13247.53468159786,
          15897.041617917432,
          12364.365702824667,
          10598.027745278288,
          3532.675915092763,
          5299.013872639144,
          null,
          null,
          null,
          null,
          370.93097108474007,
          370.93097108474007,
          741.8619421694801,
          2225.5858265084403,
          927.3274277118501,
          1112.7929132542201,
          1854.6548554237004,
          3152.9132542202906,
          3709.3097108474003,
          5007.568109643991,
          1483.72388433896,
          3338.3787397626606,
          4265.706167474511,
          5749.430051813471,
          4265.706167474511,
          6676.757479525322,
          12240.722045796423,
          3709.3097108474003,
          4451.171653016881,
          3523.8442253050307,
          4265.706167474511,
          3360,
          6300,
          1000,
          23500,
          1090,
          12500,
          7.5
         ],
         "yaxis": "y3"
        },
        {
         "connectgaps": false,
         "hovertemplate": "fnid=SD2013A109<br>indicator=area<br>year=%{x}<br>value=%{y}<extra></extra>",
         "legendgroup": "SD2013A109",
         "line": {
          "color": "#B6E880",
          "dash": "solid"
         },
         "marker": {
          "symbol": "circle"
         },
         "mode": "markers+lines",
         "name": "SD2013A109",
         "showlegend": false,
         "type": "scattergl",
         "x": [
          1975,
          1976,
          1977,
          1978,
          1979,
          1980,
          1981,
          1982,
          1983,
          1984,
          1985,
          1986,
          1987,
          1988,
          1989,
          1990,
          1991,
          1992,
          1993,
          1994,
          1995,
          1996,
          1997,
          1998,
          1999,
          2000,
          2001,
          2002,
          2003,
          2004,
          2005,
          2006,
          2007,
          2008,
          2009,
          2010,
          2011,
          2012,
          2013,
          2014,
          2015,
          2016,
          2017
         ],
         "xaxis": "x2",
         "y": [
          30910.914257061675,
          27378.23834196891,
          15897.041617917432,
          50340.63179007187,
          23845.56242687615,
          29144.57629951529,
          31794.083235834863,
          28261.407320742102,
          29144.57629951529,
          22079.224469329765,
          15013.87263914424,
          null,
          null,
          null,
          null,
          4451.171653016881,
          4451.171653016881,
          6305.826508440581,
          13168.049473508272,
          5563.964566271101,
          8531.412334949022,
          13724.445930135384,
          16320.962727728564,
          19288.410496406483,
          25037.840548219956,
          14466.307872304864,
          18175.617583152263,
          22441.323750626776,
          37464.028079558746,
          22441.323750626776,
          39875.07939160956,
          55454.180177168644,
          23183.185692796254,
          33198.32191208423,
          18917.479525321745,
          29118.0812301521,
          17220,
          38640,
          6090,
          43470,
          9575.76,
          39500,
          16
         ],
         "yaxis": "y2"
        },
        {
         "connectgaps": false,
         "hovertemplate": "fnid=SD2013A109<br>indicator=yield<br>year=%{x}<br>value=%{y}<extra></extra>",
         "legendgroup": "SD2013A109",
         "line": {
          "color": "#B6E880",
          "dash": "solid"
         },
         "marker": {
          "symbol": "circle"
         },
         "mode": "markers+lines",
         "name": "SD2013A109",
         "showlegend": false,
         "type": "scattergl",
         "x": [
          1975,
          1976,
          1977,
          1978,
          1979,
          1980,
          1981,
          1982,
          1983,
          1984,
          1985,
          1986,
          1987,
          1988,
          1989,
          1990,
          1991,
          1992,
          1993,
          1994,
          1995,
          1996,
          1997,
          1998,
          1999,
          2000,
          2001,
          2002,
          2003,
          2004,
          2005,
          2006,
          2007,
          2008,
          2009,
          2010,
          2011,
          2012,
          2013,
          2014,
          2015,
          2016,
          2017
         ],
         "xaxis": "x",
         "y": [
          0.5142857142857142,
          0.4193548387096774,
          0.3333333333333333,
          0.4736842105263157,
          0.4444444444444444,
          0.4545454545454546,
          0.5,
          0.4374999999999999,
          0.3636363636363636,
          0.16,
          0.3529411764705882,
          null,
          null,
          null,
          null,
          0.0833333333333333,
          0.0833333333333333,
          0.1176470588235294,
          0.1371212121212121,
          0.16515837104072395,
          0.11688311688311684,
          0.12478632478632476,
          0.20396825396825397,
          0.19090909090909086,
          0.19922969187675066,
          0.10879629629629625,
          0.1836734693877551,
          0.19696969696969696,
          0.15727699530516426,
          0.19696969696969696,
          0.16307189542483655,
          0.2176112433620216,
          0.1668179068360556,
          0.13449525237381305,
          0.192391304347826,
          0.1438246097337006,
          0.19375,
          0.1667278287461773,
          0.169234360410831,
          0.5396981627296588,
          0.08849997888000674,
          0.2959259259259259,
          0.4725490196078431
         ],
         "yaxis": "y"
        },
        {
         "connectgaps": false,
         "hovertemplate": "fnid=SD2013A110<br>indicator=production<br>year=%{x}<br>value=%{y}<extra></extra>",
         "legendgroup": "SD2013A110",
         "line": {
          "color": "#FF97FF",
          "dash": "solid"
         },
         "marker": {
          "symbol": "circle"
         },
         "mode": "markers+lines",
         "name": "SD2013A110",
         "showlegend": true,
         "type": "scattergl",
         "x": [
          1975,
          1976,
          1977,
          1978,
          1979,
          1980,
          1981,
          1982,
          1983,
          1984,
          1985,
          1986,
          1987,
          1988,
          1989,
          1990,
          1991,
          1992,
          1993,
          1994,
          1995,
          1996,
          1997,
          1998,
          1999,
          2000,
          2001,
          2002,
          2003,
          2004,
          2005,
          2006,
          2007,
          2008,
          2009,
          2010,
          2011,
          2012,
          2013,
          2014,
          2015,
          2016,
          2017
         ],
         "xaxis": "x3",
         "y": [
          null,
          null,
          null,
          null,
          null,
          null,
          null,
          null,
          null,
          null,
          null,
          null,
          null,
          null,
          null,
          null,
          840,
          1680,
          630,
          840,
          840,
          840,
          420,
          1050,
          420,
          630,
          630,
          840,
          630,
          840,
          1470,
          1680,
          1260,
          1033,
          781.2,
          1470,
          1260,
          1680,
          2500,
          5000,
          13000,
          4000,
          3
         ],
         "yaxis": "y3"
        },
        {
         "connectgaps": false,
         "hovertemplate": "fnid=SD2013A110<br>indicator=area<br>year=%{x}<br>value=%{y}<extra></extra>",
         "legendgroup": "SD2013A110",
         "line": {
          "color": "#FF97FF",
          "dash": "solid"
         },
         "marker": {
          "symbol": "circle"
         },
         "mode": "markers+lines",
         "name": "SD2013A110",
         "showlegend": false,
         "type": "scattergl",
         "x": [
          1975,
          1976,
          1977,
          1978,
          1979,
          1980,
          1981,
          1982,
          1983,
          1984,
          1985,
          1986,
          1987,
          1988,
          1989,
          1990,
          1991,
          1992,
          1993,
          1994,
          1995,
          1996,
          1997,
          1998,
          1999,
          2000,
          2001,
          2002,
          2003,
          2004,
          2005,
          2006,
          2007,
          2008,
          2009,
          2010,
          2011,
          2012,
          2013,
          2014,
          2015,
          2016,
          2017
         ],
         "xaxis": "x2",
         "y": [
          null,
          null,
          null,
          null,
          null,
          null,
          null,
          null,
          null,
          null,
          null,
          null,
          null,
          null,
          null,
          null,
          2940,
          4620,
          4200,
          4200,
          3360,
          4200,
          420,
          7770,
          2310,
          2100,
          2100,
          2940,
          4200,
          2940,
          4200,
          6300,
          6510,
          5250,
          2310,
          7770,
          4410,
          6300,
          4410,
          6300,
          11000.81,
          5000,
          5.5
         ],
         "yaxis": "y2"
        },
        {
         "connectgaps": false,
         "hovertemplate": "fnid=SD2013A110<br>indicator=yield<br>year=%{x}<br>value=%{y}<extra></extra>",
         "legendgroup": "SD2013A110",
         "line": {
          "color": "#FF97FF",
          "dash": "solid"
         },
         "marker": {
          "symbol": "circle"
         },
         "mode": "markers+lines",
         "name": "SD2013A110",
         "showlegend": false,
         "type": "scattergl",
         "x": [
          1975,
          1976,
          1977,
          1978,
          1979,
          1980,
          1981,
          1982,
          1983,
          1984,
          1985,
          1986,
          1987,
          1988,
          1989,
          1990,
          1991,
          1992,
          1993,
          1994,
          1995,
          1996,
          1997,
          1998,
          1999,
          2000,
          2001,
          2002,
          2003,
          2004,
          2005,
          2006,
          2007,
          2008,
          2009,
          2010,
          2011,
          2012,
          2013,
          2014,
          2015,
          2016,
          2017
         ],
         "xaxis": "x",
         "y": [
          null,
          null,
          null,
          null,
          null,
          null,
          null,
          null,
          null,
          null,
          null,
          null,
          null,
          null,
          null,
          null,
          0.2857142857142857,
          0.3636363636363636,
          0.3055555555555556,
          0.2,
          0.25,
          0.2,
          1,
          0.1433333333333333,
          0.1833333333333333,
          0.29166666666666663,
          0.29166666666666663,
          0.303030303030303,
          0.1483516483516483,
          0.303030303030303,
          0.30000000000000004,
          0.25339366515837103,
          0.19537815126050415,
          0.20817577030812323,
          0.3466666666666667,
          0.18108974358974356,
          0.2909090909090909,
          0.26666666666666666,
          0.6349206349206349,
          1.0119047619047619,
          0.6189998676292591,
          0.7083333333333334,
          0.6875
         ],
         "yaxis": "y"
        },
        {
         "connectgaps": false,
         "hovertemplate": "fnid=SD2013A111<br>indicator=production<br>year=%{x}<br>value=%{y}<extra></extra>",
         "legendgroup": "SD2013A111",
         "line": {
          "color": "#FECB52",
          "dash": "solid"
         },
         "marker": {
          "symbol": "circle"
         },
         "mode": "markers+lines",
         "name": "SD2013A111",
         "showlegend": true,
         "type": "scattergl",
         "x": [
          1975,
          1976,
          1977,
          1978,
          1979,
          1980,
          1981,
          1982,
          1983,
          1984,
          1985,
          1986,
          1987,
          1988,
          1989,
          1990,
          1991,
          1992,
          1993,
          1994,
          1995,
          1996,
          1997,
          1998,
          1999,
          2000,
          2001,
          2002,
          2003,
          2004,
          2005,
          2006,
          2007,
          2008,
          2009,
          2010,
          2011,
          2012,
          2013,
          2014,
          2015,
          2016,
          2017
         ],
         "xaxis": "x3",
         "y": [
          null,
          null,
          null,
          null,
          null,
          null,
          null,
          null,
          null,
          null,
          null,
          null,
          null,
          null,
          null,
          null,
          null,
          null,
          null,
          null,
          null,
          null,
          null,
          null,
          null,
          null,
          null,
          null,
          null,
          null,
          null,
          null,
          null,
          null,
          210,
          420,
          null,
          null,
          584,
          1500,
          null,
          8000,
          2
         ],
         "yaxis": "y3"
        },
        {
         "connectgaps": false,
         "hovertemplate": "fnid=SD2013A111<br>indicator=area<br>year=%{x}<br>value=%{y}<extra></extra>",
         "legendgroup": "SD2013A111",
         "line": {
          "color": "#FECB52",
          "dash": "solid"
         },
         "marker": {
          "symbol": "circle"
         },
         "mode": "markers+lines",
         "name": "SD2013A111",
         "showlegend": false,
         "type": "scattergl",
         "x": [
          1975,
          1976,
          1977,
          1978,
          1979,
          1980,
          1981,
          1982,
          1983,
          1984,
          1985,
          1986,
          1987,
          1988,
          1989,
          1990,
          1991,
          1992,
          1993,
          1994,
          1995,
          1996,
          1997,
          1998,
          1999,
          2000,
          2001,
          2002,
          2003,
          2004,
          2005,
          2006,
          2007,
          2008,
          2009,
          2010,
          2011,
          2012,
          2013,
          2014,
          2015,
          2016,
          2017
         ],
         "xaxis": "x2",
         "y": [
          null,
          null,
          null,
          null,
          null,
          null,
          null,
          null,
          null,
          null,
          null,
          null,
          null,
          null,
          null,
          null,
          null,
          null,
          null,
          null,
          null,
          null,
          null,
          null,
          null,
          null,
          null,
          null,
          null,
          null,
          null,
          null,
          null,
          null,
          1680,
          2520,
          1680,
          null,
          2310,
          3570,
          null,
          18000,
          16
         ],
         "yaxis": "y2"
        },
        {
         "connectgaps": false,
         "hovertemplate": "fnid=SD2013A111<br>indicator=yield<br>year=%{x}<br>value=%{y}<extra></extra>",
         "legendgroup": "SD2013A111",
         "line": {
          "color": "#FECB52",
          "dash": "solid"
         },
         "marker": {
          "symbol": "circle"
         },
         "mode": "markers+lines",
         "name": "SD2013A111",
         "showlegend": false,
         "type": "scattergl",
         "x": [
          1975,
          1976,
          1977,
          1978,
          1979,
          1980,
          1981,
          1982,
          1983,
          1984,
          1985,
          1986,
          1987,
          1988,
          1989,
          1990,
          1991,
          1992,
          1993,
          1994,
          1995,
          1996,
          1997,
          1998,
          1999,
          2000,
          2001,
          2002,
          2003,
          2004,
          2005,
          2006,
          2007,
          2008,
          2009,
          2010,
          2011,
          2012,
          2013,
          2014,
          2015,
          2016,
          2017
         ],
         "xaxis": "x",
         "y": [
          null,
          null,
          null,
          null,
          null,
          null,
          null,
          null,
          null,
          null,
          null,
          null,
          null,
          null,
          null,
          null,
          null,
          null,
          null,
          null,
          null,
          null,
          null,
          null,
          null,
          null,
          null,
          null,
          null,
          null,
          null,
          null,
          null,
          null,
          0.125,
          0.1666666666666666,
          null,
          null,
          0.21547619047619046,
          0.5668934240362812,
          null,
          0.4444444444444444,
          0.125
         ],
         "yaxis": "y"
        },
        {
         "connectgaps": false,
         "hovertemplate": "fnid=SD2013A112<br>indicator=production<br>year=%{x}<br>value=%{y}<extra></extra>",
         "legendgroup": "SD2013A112",
         "line": {
          "color": "#636efa",
          "dash": "solid"
         },
         "marker": {
          "symbol": "circle"
         },
         "mode": "markers+lines",
         "name": "SD2013A112",
         "showlegend": true,
         "type": "scattergl",
         "x": [
          1975,
          1976,
          1977,
          1978,
          1979,
          1980,
          1981,
          1982,
          1983,
          1984,
          1985,
          1986,
          1987,
          1988,
          1989,
          1990,
          1991,
          1992,
          1993,
          1994,
          1995,
          1996,
          1997,
          1998,
          1999,
          2000,
          2001,
          2002,
          2003,
          2004,
          2005,
          2006,
          2007,
          2008,
          2009,
          2010,
          2011,
          2012,
          2013,
          2014,
          2015,
          2016,
          2017
         ],
         "xaxis": "x3",
         "y": [
          null,
          null,
          null,
          null,
          null,
          null,
          null,
          null,
          null,
          null,
          null,
          null,
          null,
          null,
          null,
          42,
          1260,
          6720,
          2100,
          1680,
          1260,
          2520,
          3360,
          3360,
          5040,
          5040,
          5040,
          2100,
          17640,
          2100,
          4200,
          6720,
          840,
          12180,
          2940,
          10500,
          7560,
          19740,
          19000,
          48000,
          8000,
          33000,
          27
         ],
         "yaxis": "y3"
        },
        {
         "connectgaps": false,
         "hovertemplate": "fnid=SD2013A112<br>indicator=area<br>year=%{x}<br>value=%{y}<extra></extra>",
         "legendgroup": "SD2013A112",
         "line": {
          "color": "#636efa",
          "dash": "solid"
         },
         "marker": {
          "symbol": "circle"
         },
         "mode": "markers+lines",
         "name": "SD2013A112",
         "showlegend": false,
         "type": "scattergl",
         "x": [
          1975,
          1976,
          1977,
          1978,
          1979,
          1980,
          1981,
          1982,
          1983,
          1984,
          1985,
          1986,
          1987,
          1988,
          1989,
          1990,
          1991,
          1992,
          1993,
          1994,
          1995,
          1996,
          1997,
          1998,
          1999,
          2000,
          2001,
          2002,
          2003,
          2004,
          2005,
          2006,
          2007,
          2008,
          2009,
          2010,
          2011,
          2012,
          2013,
          2014,
          2015,
          2016,
          2017
         ],
         "xaxis": "x2",
         "y": [
          null,
          null,
          null,
          null,
          null,
          null,
          null,
          null,
          null,
          null,
          null,
          null,
          null,
          null,
          null,
          420,
          8400,
          24360,
          12600,
          10920,
          10500,
          14280,
          17640,
          14280,
          28980,
          26880,
          28560,
          18900,
          96600,
          18900,
          46200,
          52500,
          10920,
          73500,
          29820,
          65940,
          67200,
          102900,
          58380,
          112560,
          45454.55,
          88000,
          97
         ],
         "yaxis": "y2"
        },
        {
         "connectgaps": false,
         "hovertemplate": "fnid=SD2013A112<br>indicator=yield<br>year=%{x}<br>value=%{y}<extra></extra>",
         "legendgroup": "SD2013A112",
         "line": {
          "color": "#636efa",
          "dash": "solid"
         },
         "marker": {
          "symbol": "circle"
         },
         "mode": "markers+lines",
         "name": "SD2013A112",
         "showlegend": false,
         "type": "scattergl",
         "x": [
          1975,
          1976,
          1977,
          1978,
          1979,
          1980,
          1981,
          1982,
          1983,
          1984,
          1985,
          1986,
          1987,
          1988,
          1989,
          1990,
          1991,
          1992,
          1993,
          1994,
          1995,
          1996,
          1997,
          1998,
          1999,
          2000,
          2001,
          2002,
          2003,
          2004,
          2005,
          2006,
          2007,
          2008,
          2009,
          2010,
          2011,
          2012,
          2013,
          2014,
          2015,
          2016,
          2017
         ],
         "xaxis": "x",
         "y": [
          null,
          null,
          null,
          null,
          null,
          null,
          null,
          null,
          null,
          null,
          null,
          null,
          null,
          null,
          null,
          0.1,
          0.15,
          0.2758620689655172,
          0.1666666666666666,
          0.1538461538461538,
          0.12,
          0.1764705882352941,
          0.1904761904761904,
          0.2352941176470588,
          0.1739130434782608,
          0.1875,
          0.1764705882352941,
          0.1111111111111111,
          0.1826086956521739,
          0.1111111111111111,
          0.0909090909090909,
          0.128,
          0.0769230769230769,
          0.1657142857142857,
          0.0985915492957746,
          0.1592356687898089,
          0.1125,
          0.1918367346938775,
          0.3254539225762247,
          0.4264392324093816,
          0.1759999824000017,
          0.375,
          0.2783505154639175
         ],
         "yaxis": "y"
        },
        {
         "connectgaps": false,
         "hovertemplate": "fnid=SD2013A113<br>indicator=production<br>year=%{x}<br>value=%{y}<extra></extra>",
         "legendgroup": "SD2013A113",
         "line": {
          "color": "#EF553B",
          "dash": "solid"
         },
         "marker": {
          "symbol": "circle"
         },
         "mode": "markers+lines",
         "name": "SD2013A113",
         "showlegend": true,
         "type": "scattergl",
         "x": [
          1975,
          1976,
          1977,
          1978,
          1979,
          1980,
          1981,
          1982,
          1983,
          1984,
          1985,
          1986,
          1987,
          1988,
          1989,
          1990,
          1991,
          1992,
          1993,
          1994,
          1995,
          1996,
          1997,
          1998,
          1999,
          2000,
          2001,
          2002,
          2003,
          2004,
          2005,
          2006,
          2007,
          2008,
          2009,
          2010,
          2011,
          2012,
          2013,
          2014,
          2015,
          2016,
          2017
         ],
         "xaxis": "x3",
         "y": [
          66792.43842865866,
          96477.96661917365,
          79514.80765316507,
          111320.7307144311,
          50359.37818033788,
          85875.99226541829,
          72093.42560553634,
          29685.52819051496,
          35516.6140850804,
          10601.974353755344,
          74213.82047628741,
          51949.674333401184,
          34986.51536739263,
          135705.2717280684,
          41347.69997964584,
          2940,
          4620,
          6720,
          4620,
          81060,
          2940,
          13860,
          14280,
          11760,
          11340,
          7140,
          26880,
          7560,
          30240,
          7560,
          31169.80460004071,
          40298.10451862406,
          6011.31945857928,
          6011.31945857928,
          20705.655912884187,
          23154.71198860167,
          2902.7777279655697,
          26413.557460179592,
          34000,
          247000,
          45000,
          160000,
          122
         ],
         "yaxis": "y3"
        },
        {
         "connectgaps": false,
         "hovertemplate": "fnid=SD2013A113<br>indicator=area<br>year=%{x}<br>value=%{y}<extra></extra>",
         "legendgroup": "SD2013A113",
         "line": {
          "color": "#EF553B",
          "dash": "solid"
         },
         "marker": {
          "symbol": "circle"
         },
         "mode": "markers+lines",
         "name": "SD2013A113",
         "showlegend": false,
         "type": "scattergl",
         "x": [
          1975,
          1976,
          1977,
          1978,
          1979,
          1980,
          1981,
          1982,
          1983,
          1984,
          1985,
          1986,
          1987,
          1988,
          1989,
          1990,
          1991,
          1992,
          1993,
          1994,
          1995,
          1996,
          1997,
          1998,
          1999,
          2000,
          2001,
          2002,
          2003,
          2004,
          2005,
          2006,
          2007,
          2008,
          2009,
          2010,
          2011,
          2012,
          2013,
          2014,
          2015,
          2016,
          2017
         ],
         "xaxis": "x2",
         "y": [
          278301.82678607776,
          277771.72806839,
          254977.483207816,
          277241.6293507022,
          181293.76144921637,
          199317.11785060045,
          267699.8524323224,
          243315.31141868513,
          266109.5562792591,
          339793.2780378588,
          443162.52798697335,
          362057.424180745,
          243845.4101363729,
          280422.2216568288,
          494052.004884999,
          170100,
          207480,
          233520,
          233520,
          1045800,
          242340,
          460740,
          853440,
          457380,
          512400,
          351540,
          540960,
          383040,
          604800,
          383040,
          496490.45898636273,
          367803.6942804804,
          50539.61174435172,
          50539.61174435172,
          404316.8939548138,
          491147.06391207007,
          64754.2723930781,
          439181.35370230814,
          315000,
          913500,
          378151.26,
          610000,
          527
         ],
         "yaxis": "y2"
        },
        {
         "connectgaps": false,
         "hovertemplate": "fnid=SD2013A113<br>indicator=yield<br>year=%{x}<br>value=%{y}<extra></extra>",
         "legendgroup": "SD2013A113",
         "line": {
          "color": "#EF553B",
          "dash": "solid"
         },
         "marker": {
          "symbol": "circle"
         },
         "mode": "markers+lines",
         "name": "SD2013A113",
         "showlegend": false,
         "type": "scattergl",
         "x": [
          1975,
          1976,
          1977,
          1978,
          1979,
          1980,
          1981,
          1982,
          1983,
          1984,
          1985,
          1986,
          1987,
          1988,
          1989,
          1990,
          1991,
          1992,
          1993,
          1994,
          1995,
          1996,
          1997,
          1998,
          1999,
          2000,
          2001,
          2002,
          2003,
          2004,
          2005,
          2006,
          2007,
          2008,
          2009,
          2010,
          2011,
          2012,
          2013,
          2014,
          2015,
          2016,
          2017
         ],
         "xaxis": "x",
         "y": [
          0.24,
          0.3473282442748092,
          0.3118503118503118,
          0.401529636711281,
          0.2777777777777778,
          0.4308510638297873,
          0.2693069306930693,
          0.1220043572984749,
          0.1334661354581673,
          0.0312012480499219,
          0.1674641148325359,
          0.1434846266471449,
          0.1434782608695652,
          0.4839319470699432,
          0.0836909871244635,
          0.0172839506172839,
          0.0222672064777327,
          0.0287769784172661,
          0.0197841726618705,
          0.0775100401606425,
          0.0121317157712305,
          0.0300820419325433,
          0.0167322834645669,
          0.0257116620752984,
          0.0221311475409836,
          0.020310633213859,
          0.0496894409937888,
          0.0197368421052631,
          0.05,
          0.0197368421052631,
          0.0627802690582959,
          0.1095641646489104,
          0.118942731277533,
          0.118942731277533,
          0.0512114537444933,
          0.0471441523118767,
          0.0448275862068965,
          0.0601427115188583,
          0.1079365079365079,
          0.2703886152162014,
          0.1190000001586666,
          0.2622950819672131,
          0.2314990512333966
         ],
         "yaxis": "y"
        },
        {
         "connectgaps": false,
         "hovertemplate": "fnid=SD2013A114<br>indicator=production<br>year=%{x}<br>value=%{y}<extra></extra>",
         "legendgroup": "SD2013A114",
         "line": {
          "color": "#00cc96",
          "dash": "solid"
         },
         "marker": {
          "symbol": "circle"
         },
         "mode": "markers+lines",
         "name": "SD2013A114",
         "showlegend": true,
         "type": "scattergl",
         "x": [
          1975,
          1976,
          1977,
          1978,
          1979,
          1980,
          1981,
          1982,
          1983,
          1984,
          1985,
          1986,
          1987,
          1988,
          1989,
          1990,
          1991,
          1992,
          1993,
          1994,
          1995,
          1996,
          1997,
          1998,
          1999,
          2000,
          2001,
          2002,
          2003,
          2004,
          2005,
          2006,
          2007,
          2008,
          2009,
          2010,
          2011,
          2012,
          2013,
          2014,
          2015,
          2016,
          2017
         ],
         "xaxis": "x3",
         "y": [
          733.3333333333333,
          866.6666666666666,
          400,
          666.6666666666666,
          666.6666666666666,
          800,
          1000,
          333.3333333333333,
          666.6666666666666,
          266.66666666666663,
          266.66666666666663,
          null,
          null,
          null,
          null,
          420,
          420,
          1260,
          840,
          630,
          1470,
          2730,
          630,
          3780,
          4200,
          3360,
          1890,
          1680,
          6930,
          1680,
          3570,
          7560,
          1890,
          2520,
          2940,
          14490,
          5040,
          18900,
          2500,
          20000,
          14000,
          25000,
          80
         ],
         "yaxis": "y3"
        },
        {
         "connectgaps": false,
         "hovertemplate": "fnid=SD2013A114<br>indicator=area<br>year=%{x}<br>value=%{y}<extra></extra>",
         "legendgroup": "SD2013A114",
         "line": {
          "color": "#00cc96",
          "dash": "solid"
         },
         "marker": {
          "symbol": "circle"
         },
         "mode": "markers+lines",
         "name": "SD2013A114",
         "showlegend": false,
         "type": "scattergl",
         "x": [
          1975,
          1976,
          1977,
          1978,
          1979,
          1980,
          1981,
          1982,
          1983,
          1984,
          1985,
          1986,
          1987,
          1988,
          1989,
          1990,
          1991,
          1992,
          1993,
          1994,
          1995,
          1996,
          1997,
          1998,
          1999,
          2000,
          2001,
          2002,
          2003,
          2004,
          2005,
          2006,
          2007,
          2008,
          2009,
          2010,
          2011,
          2012,
          2013,
          2014,
          2015,
          2016,
          2017
         ],
         "xaxis": "x2",
         "y": [
          1266.6666666666663,
          2066.6666666666665,
          1200,
          1666.6666666666663,
          1800,
          1933.3333333333333,
          1933.3333333333333,
          1400,
          1800,
          1400,
          866.6666666666666,
          null,
          null,
          null,
          null,
          6720,
          6720,
          8820,
          5460,
          6930,
          10290,
          14910,
          7980,
          19320,
          35070,
          19320,
          19740,
          19740,
          38220,
          19740,
          22050,
          40320,
          14280,
          25620,
          26460,
          96180,
          55650,
          84000,
          11340,
          42000,
          31078.719999999998,
          51000,
          149
         ],
         "yaxis": "y2"
        },
        {
         "connectgaps": false,
         "hovertemplate": "fnid=SD2013A114<br>indicator=yield<br>year=%{x}<br>value=%{y}<extra></extra>",
         "legendgroup": "SD2013A114",
         "line": {
          "color": "#00cc96",
          "dash": "solid"
         },
         "marker": {
          "symbol": "circle"
         },
         "mode": "markers+lines",
         "name": "SD2013A114",
         "showlegend": false,
         "type": "scattergl",
         "x": [
          1975,
          1976,
          1977,
          1978,
          1979,
          1980,
          1981,
          1982,
          1983,
          1984,
          1985,
          1986,
          1987,
          1988,
          1989,
          1990,
          1991,
          1992,
          1993,
          1994,
          1995,
          1996,
          1997,
          1998,
          1999,
          2000,
          2001,
          2002,
          2003,
          2004,
          2005,
          2006,
          2007,
          2008,
          2009,
          2010,
          2011,
          2012,
          2013,
          2014,
          2015,
          2016,
          2017
         ],
         "xaxis": "x",
         "y": [
          0.5789473684210527,
          0.4193548387096774,
          0.3333333333333333,
          0.4,
          0.3703703703703703,
          0.4137931034482758,
          0.5172413793103449,
          0.238095238095238,
          0.3703703703703703,
          0.1904761904761904,
          0.3076923076923076,
          null,
          null,
          null,
          null,
          0.0625,
          0.0625,
          0.1428571428571428,
          0.1538461538461538,
          0.09007352941176469,
          0.16818181818181815,
          0.185042735042735,
          0.07738095238095236,
          0.1967741935483871,
          0.11997785510914265,
          0.17350848385331144,
          0.09600614439324115,
          0.0834782608695652,
          0.180784215156466,
          0.0834782608695652,
          0.1666666666666666,
          0.18782608695652175,
          0.17043314500941614,
          0.15535889872173056,
          0.10870634530250856,
          0.17996031746031746,
          0.0941860465116279,
          0.22339270636484254,
          0.23809523809523803,
          0.4725605657282676,
          0.467000044075766,
          0.5436473638720829,
          0.5369127516778524
         ],
         "yaxis": "y"
        },
        {
         "connectgaps": false,
         "hovertemplate": "fnid=SD2013A115<br>indicator=production<br>year=%{x}<br>value=%{y}<extra></extra>",
         "legendgroup": "SD2013A115",
         "line": {
          "color": "#ab63fa",
          "dash": "solid"
         },
         "marker": {
          "symbol": "circle"
         },
         "mode": "markers+lines",
         "name": "SD2013A115",
         "showlegend": true,
         "type": "scattergl",
         "x": [
          1975,
          1976,
          1977,
          1978,
          1979,
          1980,
          1981,
          1982,
          1983,
          1984,
          1985,
          1986,
          1987,
          1988,
          1989,
          1990,
          1991,
          1992,
          1993,
          1994,
          1995,
          1996,
          1997,
          1998,
          1999,
          2000,
          2001,
          2002,
          2003,
          2004,
          2005,
          2006,
          2007,
          2008,
          2009,
          2010,
          2011,
          2012,
          2013,
          2014,
          2015,
          2016,
          2017
         ],
         "xaxis": "x3",
         "y": [
          2102.9583820825674,
          1518.8032759485206,
          700.9861273608557,
          3154.4375731238506,
          1401.9722547217114,
          1752.4653184021392,
          2102.9583820825674,
          1635.63429717533,
          1401.9722547217114,
          467.32408490723714,
          700.9861273608557,
          null,
          null,
          null,
          null,
          49.0690289152599,
          49.0690289152599,
          98.1380578305198,
          294.4141734915594,
          122.67257228814975,
          147.2070867457797,
          245.3451445762995,
          417.0867457797092,
          490.690289152599,
          662.4318903560086,
          196.2761156610396,
          441.62126023733913,
          584.2938325254888,
          970.5699481865284,
          585.2938325254888,
          1093.2425204746783,
          2039.2779542035767,
          1120.690289152599,
          1218.828346983119,
          676.1557746949691,
          984.2938325254888,
          280,
          420,
          151.2,
          1000,
          null,
          1000,
          1
         ],
         "yaxis": "y3"
        },
        {
         "connectgaps": false,
         "hovertemplate": "fnid=SD2013A115<br>indicator=area<br>year=%{x}<br>value=%{y}<extra></extra>",
         "legendgroup": "SD2013A115",
         "line": {
          "color": "#ab63fa",
          "dash": "solid"
         },
         "marker": {
          "symbol": "circle"
         },
         "mode": "markers+lines",
         "name": "SD2013A115",
         "showlegend": false,
         "type": "scattergl",
         "x": [
          1975,
          1976,
          1977,
          1978,
          1979,
          1980,
          1981,
          1982,
          1983,
          1984,
          1985,
          1986,
          1987,
          1988,
          1989,
          1990,
          1991,
          1992,
          1993,
          1994,
          1995,
          1996,
          1997,
          1998,
          1999,
          2000,
          2001,
          2002,
          2003,
          2004,
          2005,
          2006,
          2007,
          2008,
          2009,
          2010,
          2011,
          2012,
          2013,
          2014,
          2015,
          2016,
          2017
         ],
         "xaxis": "x2",
         "y": [
          4089.085742938325,
          3621.761658031088,
          2102.9583820825674,
          6659.3682099281295,
          3154.4375731238506,
          3855.4237004847064,
          4205.916764165135,
          3738.592679257897,
          3855.4237004847064,
          2920.775530670232,
          1986.1273608557576,
          null,
          null,
          null,
          null,
          588.8283469831188,
          588.8283469831188,
          834.1734915594183,
          1741.9505264917266,
          736.0354337288985,
          1128.5876650509776,
          1815.5540698646164,
          2159.0372722714355,
          2551.5895035935146,
          3312.159451780043,
          1913.6921276951362,
          2404.382416847735,
          3178.676249373224,
          7055.97192044125,
          3178.676249373224,
          6744.92060839044,
          10695.819822831356,
          6006.814307203744,
          7331.67808791576,
          3552.5204746782547,
          5741.918769847902,
          1000,
          3360,
          840,
          3360,
          null,
          3000,
          4
         ],
         "yaxis": "y2"
        },
        {
         "connectgaps": false,
         "hovertemplate": "fnid=SD2013A115<br>indicator=yield<br>year=%{x}<br>value=%{y}<extra></extra>",
         "legendgroup": "SD2013A115",
         "line": {
          "color": "#ab63fa",
          "dash": "solid"
         },
         "marker": {
          "symbol": "circle"
         },
         "mode": "markers+lines",
         "name": "SD2013A115",
         "showlegend": false,
         "type": "scattergl",
         "x": [
          1975,
          1976,
          1977,
          1978,
          1979,
          1980,
          1981,
          1982,
          1983,
          1984,
          1985,
          1986,
          1987,
          1988,
          1989,
          1990,
          1991,
          1992,
          1993,
          1994,
          1995,
          1996,
          1997,
          1998,
          1999,
          2000,
          2001,
          2002,
          2003,
          2004,
          2005,
          2006,
          2007,
          2008,
          2009,
          2010,
          2011,
          2012,
          2013,
          2014,
          2015,
          2016,
          2017
         ],
         "xaxis": "x",
         "y": [
          0.5142857142857143,
          0.4193548387096774,
          0.3333333333333332,
          0.4736842105263157,
          0.4444444444444444,
          0.4545454545454545,
          0.5,
          0.4375,
          0.3636363636363636,
          0.16,
          0.3529411764705882,
          null,
          null,
          null,
          null,
          0.0833333333333333,
          0.0833333333333333,
          0.1176470588235294,
          0.1371212121212121,
          0.16515837104072395,
          0.11688311688311684,
          0.12478632478632476,
          0.20396825396825397,
          0.19090909090909086,
          0.19922969187675066,
          0.10879629629629625,
          0.1836734693877551,
          0.18493335121562315,
          0.13768051959195476,
          0.18542372085745573,
          0.15945855880707877,
          0.19248370876948825,
          0.1856069059038743,
          0.15328425144163174,
          0.19480700041391158,
          0.17222097226549998,
          0.28,
          0.125,
          0.18,
          0.2976190476190476,
          null,
          0.3333333333333333,
          0.25
         ],
         "yaxis": "y"
        },
        {
         "connectgaps": false,
         "hovertemplate": "fnid=SD2013A118<br>indicator=production<br>year=%{x}<br>value=%{y}<extra></extra>",
         "legendgroup": "SD2013A118",
         "line": {
          "color": "#FFA15A",
          "dash": "solid"
         },
         "marker": {
          "symbol": "circle"
         },
         "mode": "markers+lines",
         "name": "SD2013A118",
         "showlegend": true,
         "type": "scattergl",
         "x": [
          1975,
          1976,
          1977,
          1978,
          1979,
          1980,
          1981,
          1982,
          1983,
          1984,
          1985,
          1986,
          1987,
          1988,
          1989,
          1990,
          1991,
          1992,
          1993,
          1994,
          1995,
          1996,
          1997,
          1998,
          1999,
          2000,
          2001,
          2002,
          2003,
          2004,
          2005,
          2006,
          2007,
          2008,
          2009,
          2010,
          2011,
          2012,
          2013,
          2014,
          2015,
          2016,
          2017
         ],
         "xaxis": "x3",
         "y": [
          62393.05578121502,
          89769.35899399129,
          76856.1807665823,
          101864.7634954426,
          46410.340825147505,
          78601.61434226125,
          67092.06860433736,
          29499.96601935873,
          34668.880124793286,
          10813.800850632962,
          73572.94314784827,
          49943.707478666656,
          33491.0912402869,
          125957.82908948482,
          39129.9066280337,
          5880,
          8400,
          12180,
          7980,
          70980,
          4200,
          25200,
          69720,
          31080,
          34440,
          34440,
          26460,
          55020,
          36540,
          55020,
          18200.629623816392,
          22841.128060977153,
          16341.25338911648,
          16118.260240446814,
          11300.810129388683,
          11927.659515765996,
          3118.0439718381103,
          13795.24829693723,
          38000,
          150000,
          90000,
          80000,
          131
         ],
         "yaxis": "y3"
        },
        {
         "connectgaps": false,
         "hovertemplate": "fnid=SD2013A118<br>indicator=area<br>year=%{x}<br>value=%{y}<extra></extra>",
         "legendgroup": "SD2013A118",
         "line": {
          "color": "#FFA15A",
          "dash": "solid"
         },
         "marker": {
          "symbol": "circle"
         },
         "mode": "markers+lines",
         "name": "SD2013A118",
         "showlegend": false,
         "type": "scattergl",
         "x": [
          1975,
          1976,
          1977,
          1978,
          1979,
          1980,
          1981,
          1982,
          1983,
          1984,
          1985,
          1986,
          1987,
          1988,
          1989,
          1990,
          1991,
          1992,
          1993,
          1994,
          1995,
          1996,
          1997,
          1998,
          1999,
          2000,
          2001,
          2002,
          2003,
          2004,
          2005,
          2006,
          2007,
          2008,
          2009,
          2010,
          2011,
          2012,
          2013,
          2014,
          2015,
          2016,
          2017
         ],
         "xaxis": "x2",
         "y": [
          299789.74337848375,
          256492.6421634252,
          239472.3812338729,
          251775.4152679481,
          164245.6765617544,
          182699.92676804983,
          244025.07978852204,
          222763.5646032564,
          242969.3197426824,
          308639.5417851798,
          410534.6620678805,
          334392.44026094396,
          229604.454305316,
          268398.63120460743,
          451043.9157555928,
          137760,
          167580,
          189000,
          189000,
          525840,
          690060,
          382620,
          706860,
          519540,
          527940,
          374640,
          564900,
          471660,
          482160,
          471660,
          244509.68581092524,
          189702.99965056306,
          169872.99644802924,
          169278.34805157682,
          197561.3222630622,
          225937.21454474254,
          40402.5342014709,
          208366.62044614324,
          201600,
          525000,
          327272.73,
          239500,
          469
         ],
         "yaxis": "y2"
        },
        {
         "connectgaps": false,
         "hovertemplate": "fnid=SD2013A118<br>indicator=yield<br>year=%{x}<br>value=%{y}<extra></extra>",
         "legendgroup": "SD2013A118",
         "line": {
          "color": "#FFA15A",
          "dash": "solid"
         },
         "marker": {
          "symbol": "circle"
         },
         "mode": "markers+lines",
         "name": "SD2013A118",
         "showlegend": false,
         "type": "scattergl",
         "x": [
          1975,
          1976,
          1977,
          1978,
          1979,
          1980,
          1981,
          1982,
          1983,
          1984,
          1985,
          1986,
          1987,
          1988,
          1989,
          1990,
          1991,
          1992,
          1993,
          1994,
          1995,
          1996,
          1997,
          1998,
          1999,
          2000,
          2001,
          2002,
          2003,
          2004,
          2005,
          2006,
          2007,
          2008,
          2009,
          2010,
          2011,
          2012,
          2013,
          2014,
          2015,
          2016,
          2017
         ],
         "xaxis": "x",
         "y": [
          0.208122716534848,
          0.3499880473639256,
          0.3209396439396625,
          0.4045858225952466,
          0.2825665904678944,
          0.4302224731707277,
          0.2749392343708317,
          0.1324272489170228,
          0.1426883038628477,
          0.0350369910092713,
          0.1792125000536087,
          0.1493565687061973,
          0.145864292317919,
          0.4692938578865695,
          0.086754094803569,
          0.0426829268292682,
          0.050125313283208,
          0.0644444444444444,
          0.0422222222222222,
          0.1349840255591054,
          0.0060864272671941,
          0.0658616904500548,
          0.0986333927510398,
          0.0598221503637833,
          0.0652346857597454,
          0.0919282511210762,
          0.0468401486988847,
          0.1166518254674977,
          0.0757839721254355,
          0.1166518254674977,
          0.09272387507955901,
          0.12683078602173856,
          0.17255625239336175,
          0.11005625239336175,
          0.1710149934705085,
          0.2263388275927083,
          0.13799915904284035,
          0.1161019496442249,
          0.1884920634920635,
          0.2857142857142857,
          0.2749999977083334,
          0.2978760727586765,
          0.279317697228145
         ],
         "yaxis": "y"
        }
       ],
       "layout": {
        "annotations": [
         {
          "showarrow": false,
          "text": "",
          "textangle": 90,
          "x": 0.98,
          "xanchor": "left",
          "xref": "paper",
          "y": 0.16333333333333333,
          "yanchor": "middle",
          "yref": "paper"
         },
         {
          "showarrow": false,
          "text": "",
          "textangle": 90,
          "x": 0.98,
          "xanchor": "left",
          "xref": "paper",
          "y": 0.5,
          "yanchor": "middle",
          "yref": "paper"
         },
         {
          "showarrow": false,
          "text": "",
          "textangle": 90,
          "x": 0.98,
          "xanchor": "left",
          "xref": "paper",
          "y": 0.8366666666666667,
          "yanchor": "middle",
          "yref": "paper"
         },
         {
          "align": "left",
          "font": {
           "color": "dimgrey",
           "family": "arial",
           "size": 15
          },
          "showarrow": false,
          "text": "Production-Area-Yield time-series of SD - Millet - Main",
          "x": -0.014,
          "xref": "paper",
          "y": -0.14,
          "yref": "paper"
         }
        ],
        "font": {
         "color": "black",
         "family": "arial",
         "size": 16
        },
        "height": 600,
        "legend": {
         "font": {
          "size": 14
         },
         "title": {
          "text": "FNID"
         },
         "tracegroupgap": 0,
         "x": 1,
         "xanchor": "left",
         "y": 1,
         "yanchor": "top"
        },
        "margin": {
         "b": 25,
         "l": 0,
         "r": 0,
         "t": 0
        },
        "template": {
         "data": {
          "bar": [
           {
            "error_x": {
             "color": "#2a3f5f"
            },
            "error_y": {
             "color": "#2a3f5f"
            },
            "marker": {
             "line": {
              "color": "#E5ECF6",
              "width": 0.5
             },
             "pattern": {
              "fillmode": "overlay",
              "size": 10,
              "solidity": 0.2
             }
            },
            "type": "bar"
           }
          ],
          "barpolar": [
           {
            "marker": {
             "line": {
              "color": "#E5ECF6",
              "width": 0.5
             },
             "pattern": {
              "fillmode": "overlay",
              "size": 10,
              "solidity": 0.2
             }
            },
            "type": "barpolar"
           }
          ],
          "carpet": [
           {
            "aaxis": {
             "endlinecolor": "#2a3f5f",
             "gridcolor": "white",
             "linecolor": "white",
             "minorgridcolor": "white",
             "startlinecolor": "#2a3f5f"
            },
            "baxis": {
             "endlinecolor": "#2a3f5f",
             "gridcolor": "white",
             "linecolor": "white",
             "minorgridcolor": "white",
             "startlinecolor": "#2a3f5f"
            },
            "type": "carpet"
           }
          ],
          "choropleth": [
           {
            "colorbar": {
             "outlinewidth": 0,
             "ticks": ""
            },
            "type": "choropleth"
           }
          ],
          "contour": [
           {
            "colorbar": {
             "outlinewidth": 0,
             "ticks": ""
            },
            "colorscale": [
             [
              0,
              "#0d0887"
             ],
             [
              0.1111111111111111,
              "#46039f"
             ],
             [
              0.2222222222222222,
              "#7201a8"
             ],
             [
              0.3333333333333333,
              "#9c179e"
             ],
             [
              0.4444444444444444,
              "#bd3786"
             ],
             [
              0.5555555555555556,
              "#d8576b"
             ],
             [
              0.6666666666666666,
              "#ed7953"
             ],
             [
              0.7777777777777778,
              "#fb9f3a"
             ],
             [
              0.8888888888888888,
              "#fdca26"
             ],
             [
              1,
              "#f0f921"
             ]
            ],
            "type": "contour"
           }
          ],
          "contourcarpet": [
           {
            "colorbar": {
             "outlinewidth": 0,
             "ticks": ""
            },
            "type": "contourcarpet"
           }
          ],
          "heatmap": [
           {
            "colorbar": {
             "outlinewidth": 0,
             "ticks": ""
            },
            "colorscale": [
             [
              0,
              "#0d0887"
             ],
             [
              0.1111111111111111,
              "#46039f"
             ],
             [
              0.2222222222222222,
              "#7201a8"
             ],
             [
              0.3333333333333333,
              "#9c179e"
             ],
             [
              0.4444444444444444,
              "#bd3786"
             ],
             [
              0.5555555555555556,
              "#d8576b"
             ],
             [
              0.6666666666666666,
              "#ed7953"
             ],
             [
              0.7777777777777778,
              "#fb9f3a"
             ],
             [
              0.8888888888888888,
              "#fdca26"
             ],
             [
              1,
              "#f0f921"
             ]
            ],
            "type": "heatmap"
           }
          ],
          "heatmapgl": [
           {
            "colorbar": {
             "outlinewidth": 0,
             "ticks": ""
            },
            "colorscale": [
             [
              0,
              "#0d0887"
             ],
             [
              0.1111111111111111,
              "#46039f"
             ],
             [
              0.2222222222222222,
              "#7201a8"
             ],
             [
              0.3333333333333333,
              "#9c179e"
             ],
             [
              0.4444444444444444,
              "#bd3786"
             ],
             [
              0.5555555555555556,
              "#d8576b"
             ],
             [
              0.6666666666666666,
              "#ed7953"
             ],
             [
              0.7777777777777778,
              "#fb9f3a"
             ],
             [
              0.8888888888888888,
              "#fdca26"
             ],
             [
              1,
              "#f0f921"
             ]
            ],
            "type": "heatmapgl"
           }
          ],
          "histogram": [
           {
            "marker": {
             "pattern": {
              "fillmode": "overlay",
              "size": 10,
              "solidity": 0.2
             }
            },
            "type": "histogram"
           }
          ],
          "histogram2d": [
           {
            "colorbar": {
             "outlinewidth": 0,
             "ticks": ""
            },
            "colorscale": [
             [
              0,
              "#0d0887"
             ],
             [
              0.1111111111111111,
              "#46039f"
             ],
             [
              0.2222222222222222,
              "#7201a8"
             ],
             [
              0.3333333333333333,
              "#9c179e"
             ],
             [
              0.4444444444444444,
              "#bd3786"
             ],
             [
              0.5555555555555556,
              "#d8576b"
             ],
             [
              0.6666666666666666,
              "#ed7953"
             ],
             [
              0.7777777777777778,
              "#fb9f3a"
             ],
             [
              0.8888888888888888,
              "#fdca26"
             ],
             [
              1,
              "#f0f921"
             ]
            ],
            "type": "histogram2d"
           }
          ],
          "histogram2dcontour": [
           {
            "colorbar": {
             "outlinewidth": 0,
             "ticks": ""
            },
            "colorscale": [
             [
              0,
              "#0d0887"
             ],
             [
              0.1111111111111111,
              "#46039f"
             ],
             [
              0.2222222222222222,
              "#7201a8"
             ],
             [
              0.3333333333333333,
              "#9c179e"
             ],
             [
              0.4444444444444444,
              "#bd3786"
             ],
             [
              0.5555555555555556,
              "#d8576b"
             ],
             [
              0.6666666666666666,
              "#ed7953"
             ],
             [
              0.7777777777777778,
              "#fb9f3a"
             ],
             [
              0.8888888888888888,
              "#fdca26"
             ],
             [
              1,
              "#f0f921"
             ]
            ],
            "type": "histogram2dcontour"
           }
          ],
          "mesh3d": [
           {
            "colorbar": {
             "outlinewidth": 0,
             "ticks": ""
            },
            "type": "mesh3d"
           }
          ],
          "parcoords": [
           {
            "line": {
             "colorbar": {
              "outlinewidth": 0,
              "ticks": ""
             }
            },
            "type": "parcoords"
           }
          ],
          "pie": [
           {
            "automargin": true,
            "type": "pie"
           }
          ],
          "scatter": [
           {
            "fillpattern": {
             "fillmode": "overlay",
             "size": 10,
             "solidity": 0.2
            },
            "type": "scatter"
           }
          ],
          "scatter3d": [
           {
            "line": {
             "colorbar": {
              "outlinewidth": 0,
              "ticks": ""
             }
            },
            "marker": {
             "colorbar": {
              "outlinewidth": 0,
              "ticks": ""
             }
            },
            "type": "scatter3d"
           }
          ],
          "scattercarpet": [
           {
            "marker": {
             "colorbar": {
              "outlinewidth": 0,
              "ticks": ""
             }
            },
            "type": "scattercarpet"
           }
          ],
          "scattergeo": [
           {
            "marker": {
             "colorbar": {
              "outlinewidth": 0,
              "ticks": ""
             }
            },
            "type": "scattergeo"
           }
          ],
          "scattergl": [
           {
            "marker": {
             "colorbar": {
              "outlinewidth": 0,
              "ticks": ""
             }
            },
            "type": "scattergl"
           }
          ],
          "scattermapbox": [
           {
            "marker": {
             "colorbar": {
              "outlinewidth": 0,
              "ticks": ""
             }
            },
            "type": "scattermapbox"
           }
          ],
          "scatterpolar": [
           {
            "marker": {
             "colorbar": {
              "outlinewidth": 0,
              "ticks": ""
             }
            },
            "type": "scatterpolar"
           }
          ],
          "scatterpolargl": [
           {
            "marker": {
             "colorbar": {
              "outlinewidth": 0,
              "ticks": ""
             }
            },
            "type": "scatterpolargl"
           }
          ],
          "scatterternary": [
           {
            "marker": {
             "colorbar": {
              "outlinewidth": 0,
              "ticks": ""
             }
            },
            "type": "scatterternary"
           }
          ],
          "surface": [
           {
            "colorbar": {
             "outlinewidth": 0,
             "ticks": ""
            },
            "colorscale": [
             [
              0,
              "#0d0887"
             ],
             [
              0.1111111111111111,
              "#46039f"
             ],
             [
              0.2222222222222222,
              "#7201a8"
             ],
             [
              0.3333333333333333,
              "#9c179e"
             ],
             [
              0.4444444444444444,
              "#bd3786"
             ],
             [
              0.5555555555555556,
              "#d8576b"
             ],
             [
              0.6666666666666666,
              "#ed7953"
             ],
             [
              0.7777777777777778,
              "#fb9f3a"
             ],
             [
              0.8888888888888888,
              "#fdca26"
             ],
             [
              1,
              "#f0f921"
             ]
            ],
            "type": "surface"
           }
          ],
          "table": [
           {
            "cells": {
             "fill": {
              "color": "#EBF0F8"
             },
             "line": {
              "color": "white"
             }
            },
            "header": {
             "fill": {
              "color": "#C8D4E3"
             },
             "line": {
              "color": "white"
             }
            },
            "type": "table"
           }
          ]
         },
         "layout": {
          "annotationdefaults": {
           "arrowcolor": "#2a3f5f",
           "arrowhead": 0,
           "arrowwidth": 1
          },
          "autotypenumbers": "strict",
          "coloraxis": {
           "colorbar": {
            "outlinewidth": 0,
            "ticks": ""
           }
          },
          "colorscale": {
           "diverging": [
            [
             0,
             "#8e0152"
            ],
            [
             0.1,
             "#c51b7d"
            ],
            [
             0.2,
             "#de77ae"
            ],
            [
             0.3,
             "#f1b6da"
            ],
            [
             0.4,
             "#fde0ef"
            ],
            [
             0.5,
             "#f7f7f7"
            ],
            [
             0.6,
             "#e6f5d0"
            ],
            [
             0.7,
             "#b8e186"
            ],
            [
             0.8,
             "#7fbc41"
            ],
            [
             0.9,
             "#4d9221"
            ],
            [
             1,
             "#276419"
            ]
           ],
           "sequential": [
            [
             0,
             "#0d0887"
            ],
            [
             0.1111111111111111,
             "#46039f"
            ],
            [
             0.2222222222222222,
             "#7201a8"
            ],
            [
             0.3333333333333333,
             "#9c179e"
            ],
            [
             0.4444444444444444,
             "#bd3786"
            ],
            [
             0.5555555555555556,
             "#d8576b"
            ],
            [
             0.6666666666666666,
             "#ed7953"
            ],
            [
             0.7777777777777778,
             "#fb9f3a"
            ],
            [
             0.8888888888888888,
             "#fdca26"
            ],
            [
             1,
             "#f0f921"
            ]
           ],
           "sequentialminus": [
            [
             0,
             "#0d0887"
            ],
            [
             0.1111111111111111,
             "#46039f"
            ],
            [
             0.2222222222222222,
             "#7201a8"
            ],
            [
             0.3333333333333333,
             "#9c179e"
            ],
            [
             0.4444444444444444,
             "#bd3786"
            ],
            [
             0.5555555555555556,
             "#d8576b"
            ],
            [
             0.6666666666666666,
             "#ed7953"
            ],
            [
             0.7777777777777778,
             "#fb9f3a"
            ],
            [
             0.8888888888888888,
             "#fdca26"
            ],
            [
             1,
             "#f0f921"
            ]
           ]
          },
          "colorway": [
           "#636efa",
           "#EF553B",
           "#00cc96",
           "#ab63fa",
           "#FFA15A",
           "#19d3f3",
           "#FF6692",
           "#B6E880",
           "#FF97FF",
           "#FECB52"
          ],
          "font": {
           "color": "#2a3f5f"
          },
          "geo": {
           "bgcolor": "white",
           "lakecolor": "white",
           "landcolor": "#E5ECF6",
           "showlakes": true,
           "showland": true,
           "subunitcolor": "white"
          },
          "hoverlabel": {
           "align": "left"
          },
          "hovermode": "closest",
          "mapbox": {
           "style": "light"
          },
          "paper_bgcolor": "white",
          "plot_bgcolor": "#E5ECF6",
          "polar": {
           "angularaxis": {
            "gridcolor": "white",
            "linecolor": "white",
            "ticks": ""
           },
           "bgcolor": "#E5ECF6",
           "radialaxis": {
            "gridcolor": "white",
            "linecolor": "white",
            "ticks": ""
           }
          },
          "scene": {
           "xaxis": {
            "backgroundcolor": "#E5ECF6",
            "gridcolor": "white",
            "gridwidth": 2,
            "linecolor": "white",
            "showbackground": true,
            "ticks": "",
            "zerolinecolor": "white"
           },
           "yaxis": {
            "backgroundcolor": "#E5ECF6",
            "gridcolor": "white",
            "gridwidth": 2,
            "linecolor": "white",
            "showbackground": true,
            "ticks": "",
            "zerolinecolor": "white"
           },
           "zaxis": {
            "backgroundcolor": "#E5ECF6",
            "gridcolor": "white",
            "gridwidth": 2,
            "linecolor": "white",
            "showbackground": true,
            "ticks": "",
            "zerolinecolor": "white"
           }
          },
          "shapedefaults": {
           "line": {
            "color": "#2a3f5f"
           }
          },
          "ternary": {
           "aaxis": {
            "gridcolor": "white",
            "linecolor": "white",
            "ticks": ""
           },
           "baxis": {
            "gridcolor": "white",
            "linecolor": "white",
            "ticks": ""
           },
           "bgcolor": "#E5ECF6",
           "caxis": {
            "gridcolor": "white",
            "linecolor": "white",
            "ticks": ""
           }
          },
          "title": {
           "x": 0.05
          },
          "xaxis": {
           "automargin": true,
           "gridcolor": "white",
           "linecolor": "white",
           "ticks": "",
           "title": {
            "standoff": 15
           },
           "zerolinecolor": "white",
           "zerolinewidth": 2
          },
          "yaxis": {
           "automargin": true,
           "gridcolor": "white",
           "linecolor": "white",
           "ticks": "",
           "title": {
            "standoff": 15
           },
           "zerolinecolor": "white",
           "zerolinewidth": 2
          }
         }
        },
        "width": 900,
        "xaxis": {
         "anchor": "y",
         "domain": [
          0,
          0.98
         ],
         "dtick": 1,
         "range": [
          1975,
          2017
         ],
         "title": {
          "text": ""
         }
        },
        "xaxis2": {
         "anchor": "y2",
         "domain": [
          0,
          0.98
         ],
         "dtick": 1,
         "matches": "x",
         "showticklabels": false
        },
        "xaxis3": {
         "anchor": "y3",
         "domain": [
          0,
          0.98
         ],
         "dtick": 1,
         "matches": "x",
         "showticklabels": false
        },
        "yaxis": {
         "anchor": "x",
         "domain": [
          0,
          0.32666666666666666
         ],
         "title": {
          "text": "Yield (mt/ha)"
         }
        },
        "yaxis2": {
         "anchor": "x2",
         "domain": [
          0.33666666666666667,
          0.6633333333333333
         ],
         "title": {
          "text": "Area (ha)"
         }
        },
        "yaxis3": {
         "anchor": "x3",
         "domain": [
          0.6733333333333333,
          1
         ],
         "title": {
          "text": "Production (mt)"
         }
        }
       }
      }
     },
     "metadata": {},
     "output_type": "display_data"
    },
    {
     "name": "stdout",
     "output_type": "stream",
     "text": [
      "../figures/SD_line_pay_Sorghum_Main.png is saved.\n"
     ]
    },
    {
     "data": {
      "application/vnd.plotly.v1+json": {
       "config": {
        "plotlyServerURL": "https://plot.ly"
       },
       "data": [
        {
         "connectgaps": false,
         "hovertemplate": "fnid=SD2013A101<br>indicator=production<br>year=%{x}<br>value=%{y}<extra></extra>",
         "legendgroup": "SD2013A101",
         "line": {
          "color": "#636efa",
          "dash": "solid"
         },
         "marker": {
          "symbol": "circle"
         },
         "mode": "markers+lines",
         "name": "SD2013A101",
         "showlegend": true,
         "type": "scattergl",
         "x": [
          1975,
          1976,
          1977,
          1978,
          1979,
          1980,
          1981,
          1982,
          1983,
          1984,
          1985,
          1986,
          1987,
          1988,
          1989,
          1990,
          1991,
          1992,
          1993,
          1994,
          1995,
          1996,
          1997,
          1998,
          1999,
          2000,
          2001,
          2002,
          2003,
          2004,
          2005,
          2006,
          2007,
          2008,
          2009,
          2010,
          2011,
          2012,
          2013,
          2014,
          2015,
          2016,
          2017
         ],
         "xaxis": "x3",
         "y": [
          null,
          null,
          null,
          null,
          null,
          null,
          null,
          null,
          null,
          null,
          null,
          null,
          null,
          null,
          null,
          null,
          null,
          3000,
          2000,
          1000,
          1000,
          1000,
          null,
          null,
          null,
          null,
          16000,
          14000,
          30000,
          4000,
          6000,
          6000,
          8000,
          3400,
          5040,
          4200,
          null,
          12600,
          34000,
          48000,
          null,
          12000,
          5
         ],
         "yaxis": "y3"
        },
        {
         "connectgaps": false,
         "hovertemplate": "fnid=SD2013A101<br>indicator=area<br>year=%{x}<br>value=%{y}<extra></extra>",
         "legendgroup": "SD2013A101",
         "line": {
          "color": "#636efa",
          "dash": "solid"
         },
         "marker": {
          "symbol": "circle"
         },
         "mode": "markers+lines",
         "name": "SD2013A101",
         "showlegend": false,
         "type": "scattergl",
         "x": [
          1975,
          1976,
          1977,
          1978,
          1979,
          1980,
          1981,
          1982,
          1983,
          1984,
          1985,
          1986,
          1987,
          1988,
          1989,
          1990,
          1991,
          1992,
          1993,
          1994,
          1995,
          1996,
          1997,
          1998,
          1999,
          2000,
          2001,
          2002,
          2003,
          2004,
          2005,
          2006,
          2007,
          2008,
          2009,
          2010,
          2011,
          2012,
          2013,
          2014,
          2015,
          2016,
          2017
         ],
         "xaxis": "x2",
         "y": [
          null,
          null,
          null,
          null,
          null,
          null,
          null,
          null,
          null,
          null,
          null,
          null,
          null,
          null,
          null,
          null,
          null,
          2520,
          1680,
          1260,
          840,
          840,
          null,
          null,
          null,
          null,
          75600,
          65940,
          94500,
          20160,
          23100,
          23100,
          34440,
          14280,
          28560,
          17640,
          null,
          63000,
          63000,
          83160,
          null,
          55000,
          4
         ],
         "yaxis": "y2"
        },
        {
         "connectgaps": false,
         "hovertemplate": "fnid=SD2013A101<br>indicator=yield<br>year=%{x}<br>value=%{y}<extra></extra>",
         "legendgroup": "SD2013A101",
         "line": {
          "color": "#636efa",
          "dash": "solid"
         },
         "marker": {
          "symbol": "circle"
         },
         "mode": "markers+lines",
         "name": "SD2013A101",
         "showlegend": false,
         "type": "scattergl",
         "x": [
          1975,
          1976,
          1977,
          1978,
          1979,
          1980,
          1981,
          1982,
          1983,
          1984,
          1985,
          1986,
          1987,
          1988,
          1989,
          1990,
          1991,
          1992,
          1993,
          1994,
          1995,
          1996,
          1997,
          1998,
          1999,
          2000,
          2001,
          2002,
          2003,
          2004,
          2005,
          2006,
          2007,
          2008,
          2009,
          2010,
          2011,
          2012,
          2013,
          2014,
          2015,
          2016,
          2017
         ],
         "xaxis": "x",
         "y": [
          null,
          null,
          null,
          null,
          null,
          null,
          null,
          null,
          null,
          null,
          null,
          null,
          null,
          null,
          null,
          null,
          null,
          1.1904761904761905,
          1.1904761904761905,
          0.7936507936507936,
          1.1904761904761905,
          1.1904761904761905,
          null,
          null,
          null,
          null,
          0.2116402116402116,
          0.2123142250530785,
          0.3174603174603174,
          0.1984126984126984,
          0.2597402597402597,
          0.2597402597402597,
          0.2322880371660859,
          0.238095238095238,
          0.1764705882352941,
          0.238095238095238,
          null,
          0.2,
          0.5396825396825397,
          0.5772005772005772,
          null,
          0.2181818181818181,
          1.25
         ],
         "yaxis": "y"
        },
        {
         "connectgaps": false,
         "hovertemplate": "fnid=SD2013A102<br>indicator=production<br>year=%{x}<br>value=%{y}<extra></extra>",
         "legendgroup": "SD2013A102",
         "line": {
          "color": "#EF553B",
          "dash": "solid"
         },
         "marker": {
          "symbol": "circle"
         },
         "mode": "markers+lines",
         "name": "SD2013A102",
         "showlegend": true,
         "type": "scattergl",
         "x": [
          1975,
          1976,
          1977,
          1978,
          1979,
          1980,
          1981,
          1982,
          1983,
          1984,
          1985,
          1986,
          1987,
          1988,
          1989,
          1990,
          1991,
          1992,
          1993,
          1994,
          1995,
          1996,
          1997,
          1998,
          1999,
          2000,
          2001,
          2002,
          2003,
          2004,
          2005,
          2006,
          2007,
          2008,
          2009,
          2010,
          2011,
          2012,
          2013,
          2014,
          2015,
          2016,
          2017
         ],
         "xaxis": "x3",
         "y": [
          9378.23596792669,
          6252.157311951127,
          5470.6376479572355,
          7815.196639938908,
          4689.117983963345,
          5470.6376479572355,
          9378.23596792669,
          3907.598319969454,
          781.5196639938908,
          781.5196639938908,
          16411.912943871706,
          5470.6376479572355,
          3907.598319969454,
          28916.22756777396,
          6252.157311951127,
          1260,
          9000,
          12000,
          8000,
          15000,
          84,
          2000,
          6000,
          14000,
          4000,
          9000,
          8000,
          7000,
          6000,
          2000,
          12000,
          4000,
          17000,
          13860,
          1680,
          19320,
          2940,
          21168,
          12000,
          59000,
          17000,
          53000,
          16
         ],
         "yaxis": "y3"
        },
        {
         "connectgaps": false,
         "hovertemplate": "fnid=SD2013A102<br>indicator=area<br>year=%{x}<br>value=%{y}<extra></extra>",
         "legendgroup": "SD2013A102",
         "line": {
          "color": "#EF553B",
          "dash": "solid"
         },
         "marker": {
          "symbol": "circle"
         },
         "mode": "markers+lines",
         "name": "SD2013A102",
         "showlegend": false,
         "type": "scattergl",
         "x": [
          1975,
          1976,
          1977,
          1978,
          1979,
          1980,
          1981,
          1982,
          1983,
          1984,
          1985,
          1986,
          1987,
          1988,
          1989,
          1990,
          1991,
          1992,
          1993,
          1994,
          1995,
          1996,
          1997,
          1998,
          1999,
          2000,
          2001,
          2002,
          2003,
          2004,
          2005,
          2006,
          2007,
          2008,
          2009,
          2010,
          2011,
          2012,
          2013,
          2014,
          2015,
          2016,
          2017
         ],
         "xaxis": "x2",
         "y": [
          17974.95227185949,
          14067.353951890034,
          17193.432607865598,
          17193.432607865598,
          13285.834287896145,
          16411.912943871706,
          17974.95227185949,
          17193.432607865598,
          14067.353951890034,
          14848.873615883926,
          37512.94387170676,
          32823.82588774341,
          57050.93547155403,
          68773.73043146239,
          65647.65177548683,
          16380,
          15120,
          23100,
          19320,
          29400,
          2100,
          9660,
          21840,
          25620,
          17220,
          25200,
          23520,
          22680,
          21000,
          8820,
          27300,
          28140,
          120120,
          97020,
          42000,
          107520,
          37380,
          117600,
          71400,
          124320,
          60498.22,
          74000,
          84
         ],
         "yaxis": "y2"
        },
        {
         "connectgaps": false,
         "hovertemplate": "fnid=SD2013A102<br>indicator=yield<br>year=%{x}<br>value=%{y}<extra></extra>",
         "legendgroup": "SD2013A102",
         "line": {
          "color": "#EF553B",
          "dash": "solid"
         },
         "marker": {
          "symbol": "circle"
         },
         "mode": "markers+lines",
         "name": "SD2013A102",
         "showlegend": false,
         "type": "scattergl",
         "x": [
          1975,
          1976,
          1977,
          1978,
          1979,
          1980,
          1981,
          1982,
          1983,
          1984,
          1985,
          1986,
          1987,
          1988,
          1989,
          1990,
          1991,
          1992,
          1993,
          1994,
          1995,
          1996,
          1997,
          1998,
          1999,
          2000,
          2001,
          2002,
          2003,
          2004,
          2005,
          2006,
          2007,
          2008,
          2009,
          2010,
          2011,
          2012,
          2013,
          2014,
          2015,
          2016,
          2017
         ],
         "xaxis": "x",
         "y": [
          0.5217391304347826,
          0.4444444444444445,
          0.3181818181818182,
          0.4545454545454546,
          0.3529411764705882,
          0.3333333333333333,
          0.5217391304347826,
          0.2272727272727273,
          0.0555555555555555,
          0.0526315789473684,
          0.4374999999999999,
          0.1666666666666666,
          0.0684931506849315,
          0.4204545454545454,
          0.0952380952380952,
          0.0769230769230769,
          0.5952380952380952,
          0.5194805194805194,
          0.4140786749482402,
          0.5102040816326531,
          0.04,
          0.2070393374741201,
          0.2747252747252747,
          0.546448087431694,
          0.2322880371660859,
          0.3571428571428571,
          0.3401360544217687,
          0.3086419753086419,
          0.2857142857142857,
          0.2267573696145124,
          0.4395604395604395,
          0.1421464108031272,
          0.1415251415251415,
          0.1428571428571428,
          0.04,
          0.1796875,
          0.0786516853932584,
          0.18,
          0.1680672268907563,
          0.4745817245817246,
          0.2810000029752941,
          0.7162162162162162,
          0.1904761904761904
         ],
         "yaxis": "y"
        },
        {
         "connectgaps": false,
         "hovertemplate": "fnid=SD2013A103<br>indicator=production<br>year=%{x}<br>value=%{y}<extra></extra>",
         "legendgroup": "SD2013A103",
         "line": {
          "color": "#00cc96",
          "dash": "solid"
         },
         "marker": {
          "symbol": "circle"
         },
         "mode": "markers+lines",
         "name": "SD2013A103",
         "showlegend": true,
         "type": "scattergl",
         "x": [
          1975,
          1976,
          1977,
          1978,
          1979,
          1980,
          1981,
          1982,
          1983,
          1984,
          1985,
          1986,
          1987,
          1988,
          1989,
          1990,
          1991,
          1992,
          1993,
          1994,
          1995,
          1996,
          1997,
          1998,
          1999,
          2000,
          2001,
          2002,
          2003,
          2004,
          2005,
          2006,
          2007,
          2008,
          2009,
          2010,
          2011,
          2012,
          2013,
          2014,
          2015,
          2016,
          2017
         ],
         "xaxis": "x3",
         "y": [
          40405.89168744706,
          40859.89047045208,
          72639.8052808037,
          54479.85396060277,
          29509.9208953265,
          36319.90264040185,
          45399.878300502314,
          54479.85396060277,
          24515.93428227125,
          18159.95132020093,
          48123.87099853245,
          19067.948886210972,
          9079.975660100465,
          42675.885602472175,
          13165.96470714567,
          4286.14899768697,
          32347.15368799794,
          40963.83595843888,
          26100.04681132283,
          45581.24150971105,
          28223.238609244774,
          31719.622205088664,
          38713.11267760766,
          30096.430407166717,
          38463.11267760766,
          62210.96769100855,
          91221.06876675111,
          142362.57664206775,
          140114.74648456142,
          56945.030656827104,
          125129.21210118588,
          169336.53853214375,
          119134.99834783566,
          122731.5265998458,
          59477.585967617575,
          120843.34926754049,
          52239.57286044718,
          66377,
          33000,
          229000,
          108000,
          446000,
          322
         ],
         "yaxis": "y3"
        },
        {
         "connectgaps": false,
         "hovertemplate": "fnid=SD2013A103<br>indicator=area<br>year=%{x}<br>value=%{y}<extra></extra>",
         "legendgroup": "SD2013A103",
         "line": {
          "color": "#00cc96",
          "dash": "solid"
         },
         "marker": {
          "symbol": "circle"
         },
         "mode": "markers+lines",
         "name": "SD2013A103",
         "showlegend": false,
         "type": "scattergl",
         "x": [
          1975,
          1976,
          1977,
          1978,
          1979,
          1980,
          1981,
          1982,
          1983,
          1984,
          1985,
          1986,
          1987,
          1988,
          1989,
          1990,
          1991,
          1992,
          1993,
          1994,
          1995,
          1996,
          1997,
          1998,
          1999,
          2000,
          2001,
          2002,
          2003,
          2004,
          2005,
          2006,
          2007,
          2008,
          2009,
          2010,
          2011,
          2012,
          2013,
          2014,
          2015,
          2016,
          2017
         ],
         "xaxis": "x2",
         "y": [
          64013.828403708256,
          56749.847875627886,
          71277.80893178863,
          75817.79676183886,
          56749.847875627886,
          66283.82231873338,
          68099.81745075347,
          75817.79676183886,
          85351.77120494435,
          56749.847875627886,
          91253.75538400964,
          88983.76146898454,
          57657.84544163793,
          75817.79676183886,
          67645.81866774845,
          50404.04741711642,
          52769.12952968388,
          76371.34618350038,
          60579.32652274479,
          70859.60562837316,
          50299.95875096376,
          42956.64186584425,
          45054.515420200456,
          57327.66808018504,
          86384.4167309175,
          99706.35427910562,
          170392.31495759444,
          277247.3716268311,
          274415.10562837316,
          133116.50192752504,
          195111.6576715497,
          245463.0531996916,
          208643.59521973785,
          245463.0531996916,
          252071.6738627602,
          335780.868928296,
          292352.7902852737,
          368760,
          152880,
          356580,
          252336.45,
          612000,
          429
         ],
         "yaxis": "y2"
        },
        {
         "connectgaps": false,
         "hovertemplate": "fnid=SD2013A103<br>indicator=yield<br>year=%{x}<br>value=%{y}<extra></extra>",
         "legendgroup": "SD2013A103",
         "line": {
          "color": "#00cc96",
          "dash": "solid"
         },
         "marker": {
          "symbol": "circle"
         },
         "mode": "markers+lines",
         "name": "SD2013A103",
         "showlegend": false,
         "type": "scattergl",
         "x": [
          1975,
          1976,
          1977,
          1978,
          1979,
          1980,
          1981,
          1982,
          1983,
          1984,
          1985,
          1986,
          1987,
          1988,
          1989,
          1990,
          1991,
          1992,
          1993,
          1994,
          1995,
          1996,
          1997,
          1998,
          1999,
          2000,
          2001,
          2002,
          2003,
          2004,
          2005,
          2006,
          2007,
          2008,
          2009,
          2010,
          2011,
          2012,
          2013,
          2014,
          2015,
          2016,
          2017
         ],
         "xaxis": "x",
         "y": [
          0.6312056737588653,
          0.7200000000000001,
          1.019108280254777,
          0.7185628742514969,
          0.52,
          0.547945205479452,
          0.6666666666666666,
          0.7185628742514969,
          0.2872340425531915,
          0.32,
          0.527363184079602,
          0.2142857142857142,
          0.1574803149606299,
          0.562874251497006,
          0.1946308724832214,
          0.13220070159725325,
          0.6368653421633554,
          0.5967130214917825,
          0.6112976086866426,
          0.5603494194098221,
          0.5195496729043054,
          0.5701599103086092,
          0.9052667003197039,
          0.7367101965439915,
          0.6188154725631874,
          0.41219438802377184,
          0.5234633781739344,
          0.5134857575266202,
          0.5105941459152468,
          0.4277834065068108,
          0.641321044546851,
          0.6898656898656899,
          0.5709976298211592,
          0.5,
          0.2359550561797753,
          0.3598875351452671,
          0.1786867599569429,
          0.1800005423581733,
          0.2158555729984301,
          0.6422121263110663,
          0.4279999976222222,
          0.7287581699346405,
          0.7505827505827506
         ],
         "yaxis": "y"
        },
        {
         "connectgaps": false,
         "hovertemplate": "fnid=SD2013A104<br>indicator=production<br>year=%{x}<br>value=%{y}<extra></extra>",
         "legendgroup": "SD2013A104",
         "line": {
          "color": "#ab63fa",
          "dash": "solid"
         },
         "marker": {
          "symbol": "circle"
         },
         "mode": "markers+lines",
         "name": "SD2013A104",
         "showlegend": true,
         "type": "scattergl",
         "x": [
          1975,
          1976,
          1977,
          1978,
          1979,
          1980,
          1981,
          1982,
          1983,
          1984,
          1985,
          1986,
          1987,
          1988,
          1989,
          1990,
          1991,
          1992,
          1993,
          1994,
          1995,
          1996,
          1997,
          1998,
          1999,
          2000,
          2001,
          2002,
          2003,
          2004,
          2005,
          2006,
          2007,
          2008,
          2009,
          2010,
          2011,
          2012,
          2013,
          2014,
          2015,
          2016,
          2017
         ],
         "xaxis": "x3",
         "y": [
          3498.8833333750176,
          2634.817262398915,
          3106.2060397761707,
          3367.436125861147,
          1951.4747641783515,
          2317.7841959094676,
          3607.2913369066896,
          2275.034445830601,
          750.6650806161339,
          612.6912579394608,
          5632.745999251674,
          1943.2838200727836,
          1289.5071409972218,
          9010.168098769416,
          2033.6456064505535,
          3640.7259049644513,
          24921.63565898285,
          33048.25598256422,
          22754.53690602782,
          61762.31445921837,
          42258.42568262309,
          61220.53977097961,
          65012.96258865092,
          56344.56757683079,
          74764.90697694855,
          34673.58004728049,
          93851.04887115625,
          23838.086282505337,
          39549.55224142931,
          13002.592517730183,
          23838.086282505337,
          24921.63565898285,
          27630.50910017664,
          19272.00921002909,
          7053.9064408686245,
          16838.357310460586,
          24347.354489449768,
          107163,
          30000,
          163000,
          56000,
          244000,
          184
         ],
         "yaxis": "y3"
        },
        {
         "connectgaps": false,
         "hovertemplate": "fnid=SD2013A104<br>indicator=area<br>year=%{x}<br>value=%{y}<extra></extra>",
         "legendgroup": "SD2013A104",
         "line": {
          "color": "#ab63fa",
          "dash": "solid"
         },
         "marker": {
          "symbol": "circle"
         },
         "mode": "markers+lines",
         "name": "SD2013A104",
         "showlegend": false,
         "type": "scattergl",
         "x": [
          1975,
          1976,
          1977,
          1978,
          1979,
          1980,
          1981,
          1982,
          1983,
          1984,
          1985,
          1986,
          1987,
          1988,
          1989,
          1990,
          1991,
          1992,
          1993,
          1994,
          1995,
          1996,
          1997,
          1998,
          1999,
          2000,
          2001,
          2002,
          2003,
          2004,
          2005,
          2006,
          2007,
          2008,
          2009,
          2010,
          2011,
          2012,
          2013,
          2014,
          2015,
          2016,
          2017
         ],
         "xaxis": "x2",
         "y": [
          6414.641227955575,
          5164.55517915169,
          6353.845260722807,
          6452.397991206146,
          4946.0748431455795,
          6026.956921185027,
          6503.3386853905795,
          6452.397991206146,
          5785.437381196718,
          5383.035515157799,
          12467.966011008331,
          11107.807629730009,
          17200.684205584363,
          20872.10016760935,
          19820.783908714904,
          43688.71085957342,
          41413.25716897063,
          62119.88575345595,
          52562.980252924266,
          50059.98119326121,
          58251.61447943122,
          48239.61824077898,
          68263.61071808347,
          52335.434883863985,
          116048.13822074188,
          87377.42171914683,
          119396.91560695673,
          49604.890455140645,
          46419.25528829675,
          24802.44522757032,
          28898.261870655333,
          30035.98871595672,
          36407.25904964451,
          30035.98871595672,
          42550.98401427203,
          53245.6163601051,
          64167.794074998455,
          238140,
          71400,
          178920,
          86553.32,
          256000,
          143
         ],
         "yaxis": "y2"
        },
        {
         "connectgaps": false,
         "hovertemplate": "fnid=SD2013A104<br>indicator=yield<br>year=%{x}<br>value=%{y}<extra></extra>",
         "legendgroup": "SD2013A104",
         "line": {
          "color": "#ab63fa",
          "dash": "solid"
         },
         "marker": {
          "symbol": "circle"
         },
         "mode": "markers+lines",
         "name": "SD2013A104",
         "showlegend": false,
         "type": "scattergl",
         "x": [
          1975,
          1976,
          1977,
          1978,
          1979,
          1980,
          1981,
          1982,
          1983,
          1984,
          1985,
          1986,
          1987,
          1988,
          1989,
          1990,
          1991,
          1992,
          1993,
          1994,
          1995,
          1996,
          1997,
          1998,
          1999,
          2000,
          2001,
          2002,
          2003,
          2004,
          2005,
          2006,
          2007,
          2008,
          2009,
          2010,
          2011,
          2012,
          2013,
          2014,
          2015,
          2016,
          2017
         ],
         "xaxis": "x",
         "y": [
          0.5454526931493181,
          0.5101731264359731,
          0.4888702686824343,
          0.5218890915362883,
          0.394550189001439,
          0.3845695640800669,
          0.5546829884487312,
          0.352587433219588,
          0.1297507917129783,
          0.1138189142936576,
          0.4517774586711543,
          0.1749475580466113,
          0.0749683632107245,
          0.4316847862177265,
          0.1026016738700425,
          0.0833333333333333,
          0.6017791732077447,
          0.5320076748648177,
          0.4329004329004329,
          1.2337662337662336,
          0.7254464285714285,
          1.2690925426774482,
          0.9523809523809524,
          1.0766045548654244,
          0.6442577030812325,
          0.3968253968253968,
          0.5873538584844841,
          0.4805591961555265,
          0.8520074696545286,
          0.5242463958060288,
          0.8248968878890139,
          0.8297258297258298,
          0.7589285714285714,
          0.6416305916305917,
          0.1657754010695187,
          0.3162393162393162,
          0.3794326241134751,
          0.45,
          0.4201680672268907,
          0.911021685669573,
          0.6470000226450008,
          0.953125,
          1.2867132867132869
         ],
         "yaxis": "y"
        },
        {
         "connectgaps": false,
         "hovertemplate": "fnid=SD2013A105<br>indicator=production<br>year=%{x}<br>value=%{y}<extra></extra>",
         "legendgroup": "SD2013A105",
         "line": {
          "color": "#FFA15A",
          "dash": "solid"
         },
         "marker": {
          "symbol": "circle"
         },
         "mode": "markers+lines",
         "name": "SD2013A105",
         "showlegend": true,
         "type": "scattergl",
         "x": [
          1975,
          1976,
          1977,
          1978,
          1979,
          1980,
          1981,
          1982,
          1983,
          1984,
          1985,
          1986,
          1987,
          1988,
          1989,
          1990,
          1991,
          1992,
          1993,
          1994,
          1995,
          1996,
          1997,
          1998,
          1999,
          2000,
          2001,
          2002,
          2003,
          2004,
          2005,
          2006,
          2007,
          2008,
          2009,
          2010,
          2011,
          2012,
          2013,
          2014,
          2015,
          2016,
          2017
         ],
         "xaxis": "x3",
         "y": [
          34375.431019054326,
          34761.671817021226,
          61798.5276747044,
          46348.8957560283,
          25105.651867848665,
          30899.2638373522,
          38624.079796690254,
          46348.8957560283,
          20857.003090212736,
          15449.6319186761,
          40941.524584491664,
          16222.113514609906,
          7724.815959338051,
          36306.63500888883,
          11200.983141040171,
          1459.3510023130302,
          13152.846312002055,
          16036.164041561113,
          8899.953188677167,
          15418.758490288947,
          9776.761390755224,
          10780.377794911334,
          13286.887322392335,
          10403.56959283328,
          13036.887322392335,
          20831.032308991445,
          71278.93123324889,
          47637.423357932224,
          46885.25351543856,
          19054.969343172892,
          41870.78789881412,
          56663.46146785623,
          39865.00165216434,
          41068.4734001542,
          19902.41403238242,
          40436.65073245952,
          17480.427139552816,
          11340,
          18000,
          39000,
          58000,
          158000,
          158
         ],
         "yaxis": "y3"
        },
        {
         "connectgaps": false,
         "hovertemplate": "fnid=SD2013A105<br>indicator=area<br>year=%{x}<br>value=%{y}<extra></extra>",
         "legendgroup": "SD2013A105",
         "line": {
          "color": "#FFA15A",
          "dash": "solid"
         },
         "marker": {
          "symbol": "circle"
         },
         "mode": "markers+lines",
         "name": "SD2013A105",
         "showlegend": false,
         "type": "scattergl",
         "x": [
          1975,
          1976,
          1977,
          1978,
          1979,
          1980,
          1981,
          1982,
          1983,
          1984,
          1985,
          1986,
          1987,
          1988,
          1989,
          1990,
          1991,
          1992,
          1993,
          1994,
          1995,
          1996,
          1997,
          1998,
          1999,
          2000,
          2001,
          2002,
          2003,
          2004,
          2005,
          2006,
          2007,
          2008,
          2009,
          2010,
          2011,
          2012,
          2013,
          2014,
          2015,
          2016,
          2017
         ],
         "xaxis": "x2",
         "y": [
          54459.95251333326,
          48280.09974586282,
          60639.805280803695,
          64502.21326047272,
          48280.09974586282,
          56391.15650316777,
          57936.11969503538,
          64502.21326047272,
          72613.27001777767,
          48280.09974586282,
          77634.4003913474,
          75703.19640151289,
          49052.58134179662,
          64502.21326047272,
          57549.87889706848,
          17005.95258288358,
          21150.870470316113,
          29048.653816499616,
          20480.673477255204,
          24060.394371626833,
          17530.04124903624,
          14793.358134155746,
          15425.484579799539,
          19532.33191981496,
          29115.5832690825,
          33433.645720894376,
          118567.68504240556,
          92772.62837316886,
          91824.89437162684,
          44543.49807247495,
          65288.34232845027,
          82136.9468003084,
          69816.40478026215,
          82136.9468003084,
          84348.32613723978,
          112359.13107170396,
          97827.2097147263,
          126000,
          85260,
          null,
          186495.18,
          670000,
          670
         ],
         "yaxis": "y2"
        },
        {
         "connectgaps": false,
         "hovertemplate": "fnid=SD2013A105<br>indicator=yield<br>year=%{x}<br>value=%{y}<extra></extra>",
         "legendgroup": "SD2013A105",
         "line": {
          "color": "#FFA15A",
          "dash": "solid"
         },
         "marker": {
          "symbol": "circle"
         },
         "mode": "markers+lines",
         "name": "SD2013A105",
         "showlegend": false,
         "type": "scattergl",
         "x": [
          1975,
          1976,
          1977,
          1978,
          1979,
          1980,
          1981,
          1982,
          1983,
          1984,
          1985,
          1986,
          1987,
          1988,
          1989,
          1990,
          1991,
          1992,
          1993,
          1994,
          1995,
          1996,
          1997,
          1998,
          1999,
          2000,
          2001,
          2002,
          2003,
          2004,
          2005,
          2006,
          2007,
          2008,
          2009,
          2010,
          2011,
          2012,
          2013,
          2014,
          2015,
          2016,
          2017
         ],
         "xaxis": "x",
         "y": [
          0.6312056737588653,
          0.72,
          1.019108280254777,
          0.718562874251497,
          0.52,
          0.547945205479452,
          0.6666666666666667,
          0.718562874251497,
          0.2872340425531915,
          0.32,
          0.527363184079602,
          0.2142857142857143,
          0.1574803149606299,
          0.562874251497006,
          0.1946308724832214,
          0.13220070159725325,
          0.6368653421633554,
          0.5967130214917825,
          0.6112976086866426,
          0.5603494194098221,
          0.5195496729043054,
          0.5701599103086091,
          0.9052667003197039,
          0.7367101965439916,
          0.6188154725631874,
          0.41219438802377184,
          0.5234633781739344,
          0.5134857575266202,
          0.5105941459152469,
          0.4277834065068107,
          0.641321044546851,
          0.6898656898656899,
          0.5709976298211593,
          0.5,
          0.2359550561797752,
          0.359887535145267,
          0.1786867599569429,
          0.09,
          0.211118930330753,
          null,
          0.3109999947451725,
          0.235820895522388,
          0.235820895522388
         ],
         "yaxis": "y"
        },
        {
         "connectgaps": false,
         "hovertemplate": "fnid=SD2013A106<br>indicator=production<br>year=%{x}<br>value=%{y}<extra></extra>",
         "legendgroup": "SD2013A106",
         "line": {
          "color": "#19d3f3",
          "dash": "solid"
         },
         "marker": {
          "symbol": "circle"
         },
         "mode": "markers+lines",
         "name": "SD2013A106",
         "showlegend": true,
         "type": "scattergl",
         "x": [
          1975,
          1976,
          1977,
          1978,
          1979,
          1980,
          1981,
          1982,
          1983,
          1984,
          1985,
          1986,
          1987,
          1988,
          1989,
          1990,
          1991,
          1992,
          1993,
          1994,
          1995,
          1996,
          1997,
          1998,
          1999,
          2000,
          2001,
          2002,
          2003,
          2004,
          2005,
          2006,
          2007,
          2008,
          2009,
          2010,
          2011,
          2012,
          2013,
          2014,
          2015,
          2016,
          2017
         ],
         "xaxis": "x3",
         "y": [
          13341.557992196917,
          13491.463138176656,
          23984.823356758498,
          17988.617517568873,
          9743.83448868314,
          11992.411678379249,
          14990.51459797406,
          17988.617517568873,
          8094.877882905993,
          5996.205839189624,
          15889.945473852506,
          6296.016131149106,
          2998.102919594812,
          14091.083722095618,
          4347.249233412478,
          3079.274095035548,
          21078.364341017143,
          27951.744017435776,
          19245.463093972176,
          52237.68554078162,
          35741.57431737689,
          51779.46022902038,
          54987.03741134907,
          47655.43242316919,
          63235.093023051435,
          29326.419952719505,
          80148.95112884374,
          20161.91371749466,
          33450.447758570685,
          10997.407482269817,
          20161.91371749466,
          21078.364341017143,
          23369.490899823355,
          16299.99078997091,
          5966.093559131375,
          14241.642689539409,
          20592.64551055023,
          14700,
          50000,
          208000,
          29000,
          130000,
          128
         ],
         "yaxis": "y3"
        },
        {
         "connectgaps": false,
         "hovertemplate": "fnid=SD2013A106<br>indicator=area<br>year=%{x}<br>value=%{y}<extra></extra>",
         "legendgroup": "SD2013A106",
         "line": {
          "color": "#19d3f3",
          "dash": "solid"
         },
         "marker": {
          "symbol": "circle"
         },
         "mode": "markers+lines",
         "name": "SD2013A106",
         "showlegend": false,
         "type": "scattergl",
         "x": [
          1975,
          1976,
          1977,
          1978,
          1979,
          1980,
          1981,
          1982,
          1983,
          1984,
          1985,
          1986,
          1987,
          1988,
          1989,
          1990,
          1991,
          1992,
          1993,
          1994,
          1995,
          1996,
          1997,
          1998,
          1999,
          2000,
          2001,
          2002,
          2003,
          2004,
          2005,
          2006,
          2007,
          2008,
          2009,
          2010,
          2011,
          2012,
          2013,
          2014,
          2015,
          2016,
          2017
         ],
         "xaxis": "x2",
         "y": [
          21136.625583143425,
          18738.143247467575,
          23535.10791881927,
          25034.15937861668,
          18738.143247467575,
          21886.15131304213,
          22485.77189696109,
          25034.15937861668,
          28182.167444191236,
          18738.143247467575,
          30130.934341927863,
          29381.40861202916,
          19037.953539427057,
          25034.15937861668,
          22335.86675098135,
          36951.289140426576,
          35026.74283102936,
          52540.114246544035,
          44457.01974707573,
          42340.018806738786,
          49268.385520568765,
          40800.38175922101,
          57736.38928191653,
          44264.565116136,
          98151.86177925808,
          73902.57828085315,
          103413.08439304326,
          41955.10954485934,
          39260.744711703235,
          20977.55477242967,
          24441.738129344663,
          25404.01128404327,
          30792.74095035548,
          25404.01128404327,
          35989.015985727965,
          45034.38363989489,
          54272.20592500153,
          148403,
          69300,
          null,
          75718.02,
          143000,
          108
         ],
         "yaxis": "y2"
        },
        {
         "connectgaps": false,
         "hovertemplate": "fnid=SD2013A106<br>indicator=yield<br>year=%{x}<br>value=%{y}<extra></extra>",
         "legendgroup": "SD2013A106",
         "line": {
          "color": "#19d3f3",
          "dash": "solid"
         },
         "marker": {
          "symbol": "circle"
         },
         "mode": "markers+lines",
         "name": "SD2013A106",
         "showlegend": false,
         "type": "scattergl",
         "x": [
          1975,
          1976,
          1977,
          1978,
          1979,
          1980,
          1981,
          1982,
          1983,
          1984,
          1985,
          1986,
          1987,
          1988,
          1989,
          1990,
          1991,
          1992,
          1993,
          1994,
          1995,
          1996,
          1997,
          1998,
          1999,
          2000,
          2001,
          2002,
          2003,
          2004,
          2005,
          2006,
          2007,
          2008,
          2009,
          2010,
          2011,
          2012,
          2013,
          2014,
          2015,
          2016,
          2017
         ],
         "xaxis": "x",
         "y": [
          0.6312056737588653,
          0.7200000000000001,
          1.019108280254777,
          0.718562874251497,
          0.52,
          0.547945205479452,
          0.6666666666666667,
          0.718562874251497,
          0.2872340425531914,
          0.32,
          0.527363184079602,
          0.2142857142857142,
          0.1574803149606299,
          0.562874251497006,
          0.1946308724832215,
          0.0833333333333333,
          0.6017791732077445,
          0.5320076748648177,
          0.4329004329004329,
          1.2337662337662338,
          0.7254464285714286,
          1.2690925426774484,
          0.9523809523809524,
          1.0766045548654244,
          0.6442577030812325,
          0.3968253968253968,
          0.5873538584844842,
          0.4805591961555264,
          0.8520074696545284,
          0.5242463958060288,
          0.8248968878890138,
          0.8297258297258296,
          0.7589285714285714,
          0.6416305916305917,
          0.1657754010695187,
          0.3162393162393162,
          0.3794326241134752,
          0.0990546013220757,
          0.7215007215007215,
          null,
          0.3829999780765529,
          0.9090909090909092,
          1.1851851851851851
         ],
         "yaxis": "y"
        },
        {
         "connectgaps": false,
         "hovertemplate": "fnid=SD2013A107<br>indicator=production<br>year=%{x}<br>value=%{y}<extra></extra>",
         "legendgroup": "SD2013A107",
         "line": {
          "color": "#FF6692",
          "dash": "solid"
         },
         "marker": {
          "symbol": "circle"
         },
         "mode": "markers+lines",
         "name": "SD2013A107",
         "showlegend": true,
         "type": "scattergl",
         "x": [
          1975,
          1976,
          1977,
          1978,
          1979,
          1980,
          1981,
          1982,
          1983,
          1984,
          1985,
          1986,
          1987,
          1988,
          1989,
          1990,
          1991,
          1992,
          1993,
          1994,
          1995,
          1996,
          1997,
          1998,
          1999,
          2000,
          2001,
          2002,
          2003,
          2004,
          2005,
          2006,
          2007,
          2008,
          2009,
          2010,
          2011,
          2012,
          2013,
          2014,
          2015,
          2016,
          2017
         ],
         "xaxis": "x3",
         "y": [
          55237.80500619995,
          66220.76038754964,
          54914.77690674849,
          64605.61989029235,
          33271.89424350056,
          58145.057901263106,
          61698.36699522919,
          84633.36205628297,
          51361.467812782415,
          24873.163657762554,
          104661.1042222736,
          68481.95708370989,
          32302.80994514617,
          132118.49267564784,
          29718.58514953448,
          4200,
          56500,
          116000,
          38500,
          122500,
          37000,
          88500,
          127000,
          158000,
          65500,
          30000,
          63500,
          92000,
          106000,
          152000,
          140514.27010213948,
          218039.3846412509,
          141160.31272329873,
          120097.06212433273,
          49112.160060527094,
          52368.21487116977,
          24404.324626865673,
          26088.81081081081,
          75500,
          263000,
          211500,
          150500,
          217.5
         ],
         "yaxis": "y3"
        },
        {
         "connectgaps": false,
         "hovertemplate": "fnid=SD2013A107<br>indicator=area<br>year=%{x}<br>value=%{y}<extra></extra>",
         "legendgroup": "SD2013A107",
         "line": {
          "color": "#FF6692",
          "dash": "solid"
         },
         "marker": {
          "symbol": "circle"
         },
         "mode": "markers+lines",
         "name": "SD2013A107",
         "showlegend": false,
         "type": "scattergl",
         "x": [
          1975,
          1976,
          1977,
          1978,
          1979,
          1980,
          1981,
          1982,
          1983,
          1984,
          1985,
          1986,
          1987,
          1988,
          1989,
          1990,
          1991,
          1992,
          1993,
          1994,
          1995,
          1996,
          1997,
          1998,
          1999,
          2000,
          2001,
          2002,
          2003,
          2004,
          2005,
          2006,
          2007,
          2008,
          2009,
          2010,
          2011,
          2012,
          2013,
          2014,
          2015,
          2016,
          2017
         ],
         "xaxis": "x2",
         "y": [
          75265.54717219059,
          72358.29427712742,
          77526.74386835081,
          89478.7835480549,
          72035.26617767596,
          83341.24965847711,
          81080.0529623169,
          115967.08770307477,
          133087.57697400224,
          116290.11580252621,
          192201.71917361973,
          164098.27452134257,
          57499.00170236018,
          188648.41007965364,
          71712.2380782245,
          52500,
          117600,
          222600,
          129360,
          228270,
          115920,
          207060,
          249060,
          235200,
          124530,
          136290,
          72660,
          278040,
          284550,
          303240,
          232265.24315917783,
          273372.93514354166,
          244204.110798201,
          237284.9943255853,
          266996.49447269976,
          198348.0055483166,
          124021.9776119403,
          136446.08108108107,
          167790,
          458010,
          422062.75,
          272500,
          386
         ],
         "yaxis": "y2"
        },
        {
         "connectgaps": false,
         "hovertemplate": "fnid=SD2013A107<br>indicator=yield<br>year=%{x}<br>value=%{y}<extra></extra>",
         "legendgroup": "SD2013A107",
         "line": {
          "color": "#FF6692",
          "dash": "solid"
         },
         "marker": {
          "symbol": "circle"
         },
         "mode": "markers+lines",
         "name": "SD2013A107",
         "showlegend": false,
         "type": "scattergl",
         "x": [
          1975,
          1976,
          1977,
          1978,
          1979,
          1980,
          1981,
          1982,
          1983,
          1984,
          1985,
          1986,
          1987,
          1988,
          1989,
          1990,
          1991,
          1992,
          1993,
          1994,
          1995,
          1996,
          1997,
          1998,
          1999,
          2000,
          2001,
          2002,
          2003,
          2004,
          2005,
          2006,
          2007,
          2008,
          2009,
          2010,
          2011,
          2012,
          2013,
          2014,
          2015,
          2016,
          2017
         ],
         "xaxis": "x",
         "y": [
          0.7787881327522628,
          0.9469481136147804,
          0.7098186366479049,
          0.7030413364746199,
          0.4635669964782827,
          0.7204011741682974,
          0.7769006640466187,
          0.7444339025932953,
          0.3766407389402042,
          0.21540616246498595,
          0.5570468258884529,
          0.40862179487179484,
          0.5433130699088146,
          0.6566190476190477,
          0.3825136612021858,
          0.07272159800249685,
          0.40524290524290524,
          0.42360371550505554,
          0.2761203544336074,
          0.5366433690456037,
          0.3189165574486675,
          0.4272133095662507,
          0.5053449951409135,
          0.672514619883041,
          0.5624835294878106,
          0.22227879370736509,
          0.6370715488767854,
          0.3532153880355915,
          0.38010224735995923,
          0.5021840082242612,
          0.6175155517593555,
          0.7979272886444184,
          0.5558135284266893,
          0.44004305025517965,
          0.18525393249137015,
          0.26535439121251475,
          0.19589517625231911,
          0.19,
          0.4517704517704517,
          0.5766072604856312,
          0.5359999970682428,
          0.5950581505474107,
          0.6023169122106089
         ],
         "yaxis": "y"
        },
        {
         "connectgaps": false,
         "hovertemplate": "fnid=SD2013A108<br>indicator=production<br>year=%{x}<br>value=%{y}<extra></extra>",
         "legendgroup": "SD2013A108",
         "line": {
          "color": "#B6E880",
          "dash": "solid"
         },
         "marker": {
          "symbol": "circle"
         },
         "mode": "markers+lines",
         "name": "SD2013A108",
         "showlegend": true,
         "type": "scattergl",
         "x": [
          1975,
          1976,
          1977,
          1978,
          1979,
          1980,
          1981,
          1982,
          1983,
          1984,
          1985,
          1986,
          1987,
          1988,
          1989,
          1990,
          1991,
          1992,
          1993,
          1994,
          1995,
          1996,
          1997,
          1998,
          1999,
          2000,
          2001,
          2002,
          2003,
          2004,
          2005,
          2006,
          2007,
          2008,
          2009,
          2010,
          2011,
          2012,
          2013,
          2014,
          2015,
          2016,
          2017
         ],
         "xaxis": "x3",
         "y": [
          2860.7305936073058,
          3460.1217656012172,
          3405.6316590563165,
          6130.13698630137,
          5449.010654490106,
          5449.010654490106,
          6675.03805175038,
          2043.37899543379,
          2452.0547945205476,
          1498.4779299847792,
          2942.4657534246576,
          null,
          null,
          null,
          null,
          18060,
          130500,
          143500,
          66000,
          82000,
          95000,
          117000,
          149500,
          86500,
          30000,
          52000,
          137500,
          49000,
          85000,
          66000,
          135500,
          153500,
          38500,
          74500,
          22470,
          46200,
          31920,
          29610,
          71500,
          119500,
          133000,
          151000,
          157
         ],
         "yaxis": "y3"
        },
        {
         "connectgaps": false,
         "hovertemplate": "fnid=SD2013A108<br>indicator=area<br>year=%{x}<br>value=%{y}<extra></extra>",
         "legendgroup": "SD2013A108",
         "line": {
          "color": "#B6E880",
          "dash": "solid"
         },
         "marker": {
          "symbol": "circle"
         },
         "mode": "markers+lines",
         "name": "SD2013A108",
         "showlegend": false,
         "type": "scattergl",
         "x": [
          1975,
          1976,
          1977,
          1978,
          1979,
          1980,
          1981,
          1982,
          1983,
          1984,
          1985,
          1986,
          1987,
          1988,
          1989,
          1990,
          1991,
          1992,
          1993,
          1994,
          1995,
          1996,
          1997,
          1998,
          1999,
          2000,
          2001,
          2002,
          2003,
          2004,
          2005,
          2006,
          2007,
          2008,
          2009,
          2010,
          2011,
          2012,
          2013,
          2014,
          2015,
          2016,
          2017
         ],
         "xaxis": "x2",
         "y": [
          6102.891933028919,
          5231.050228310502,
          5176.560121765601,
          7764.840182648401,
          7737.595129375951,
          7737.595129375951,
          7982.800608828005,
          5694.216133942161,
          5122.0700152207,
          5122.0700152207,
          6838.508371385084,
          null,
          null,
          null,
          null,
          82950,
          190050,
          227220,
          164640,
          154770,
          175140,
          178080,
          193200,
          115500,
          55860,
          114450,
          124320,
          86310,
          143640,
          96600,
          144060,
          158760,
          79590,
          118650,
          145320,
          204120,
          129360,
          194040,
          111090,
          180180,
          220578.375,
          230500,
          291
         ],
         "yaxis": "y2"
        },
        {
         "connectgaps": false,
         "hovertemplate": "fnid=SD2013A108<br>indicator=yield<br>year=%{x}<br>value=%{y}<extra></extra>",
         "legendgroup": "SD2013A108",
         "line": {
          "color": "#B6E880",
          "dash": "solid"
         },
         "marker": {
          "symbol": "circle"
         },
         "mode": "markers+lines",
         "name": "SD2013A108",
         "showlegend": false,
         "type": "scattergl",
         "x": [
          1975,
          1976,
          1977,
          1978,
          1979,
          1980,
          1981,
          1982,
          1983,
          1984,
          1985,
          1986,
          1987,
          1988,
          1989,
          1990,
          1991,
          1992,
          1993,
          1994,
          1995,
          1996,
          1997,
          1998,
          1999,
          2000,
          2001,
          2002,
          2003,
          2004,
          2005,
          2006,
          2007,
          2008,
          2009,
          2010,
          2011,
          2012,
          2013,
          2014,
          2015,
          2016,
          2017
         ],
         "xaxis": "x",
         "y": [
          0.46875,
          0.6614583333333334,
          0.6578947368421052,
          0.7894736842105263,
          0.7042253521126761,
          0.7042253521126761,
          0.8361774744027304,
          0.3588516746411483,
          0.4787234042553191,
          0.2925531914893617,
          0.4302788844621514,
          null,
          null,
          null,
          null,
          0.16369863013698632,
          0.508390022675737,
          0.5532636596993032,
          0.365040365040365,
          0.6661596460669104,
          0.5527393589346723,
          0.7612781954887218,
          0.8039021164021164,
          0.7486536281179139,
          0.5451127819548872,
          0.47993104345563364,
          1.0133193224479533,
          0.5631589788124742,
          0.5482636603028308,
          0.672259731493181,
          0.8854155805337169,
          0.919068618613448,
          0.4538089745702202,
          0.7595038015206081,
          0.17049594924771738,
          0.2327450166112956,
          0.2457963667089142,
          0.1699588477366255,
          0.6548419098822325,
          0.6550472252782619,
          0.6169999844814575,
          0.6595932802829354,
          0.5395189003436426
         ],
         "yaxis": "y"
        },
        {
         "connectgaps": false,
         "hovertemplate": "fnid=SD2013A109<br>indicator=production<br>year=%{x}<br>value=%{y}<extra></extra>",
         "legendgroup": "SD2013A109",
         "line": {
          "color": "#FF97FF",
          "dash": "solid"
         },
         "marker": {
          "symbol": "circle"
         },
         "mode": "markers+lines",
         "name": "SD2013A109",
         "showlegend": true,
         "type": "scattergl",
         "x": [
          1975,
          1976,
          1977,
          1978,
          1979,
          1980,
          1981,
          1982,
          1983,
          1984,
          1985,
          1986,
          1987,
          1988,
          1989,
          1990,
          1991,
          1992,
          1993,
          1994,
          1995,
          1996,
          1997,
          1998,
          1999,
          2000,
          2001,
          2002,
          2003,
          2004,
          2005,
          2006,
          2007,
          2008,
          2009,
          2010,
          2011,
          2012,
          2013,
          2014,
          2015,
          2016,
          2017
         ],
         "xaxis": "x3",
         "y": [
          38565.04540642932,
          18840.938213828067,
          25906.290044013596,
          36798.707448882946,
          7065.351830185526,
          32088.47289542593,
          47985.51451334336,
          38417.85057663379,
          21490.44515014764,
          12658.755362415732,
          74480.58387653908,
          105538.69296339629,
          27819.82283135551,
          257002.1728229985,
          47249.5403643657,
          15579.100785559085,
          78307.64945122291,
          108335.3947295114,
          72419.85625940164,
          100681.26358014374,
          83606.66332386206,
          108335.39472951139,
          76541.31149367652,
          117461.47417683435,
          65943.28374839823,
          33560.42119338125,
          55050.86634352888,
          72125.46659981058,
          158676.02651958325,
          39742.60404479358,
          67709.6217059446,
          139540.69864616412,
          66826.45272717143,
          56817.20430107526,
          33012.85642654186,
          40307.83219120843,
          41860,
          60271.333333333336,
          62000,
          203000,
          49666.666666666664,
          117000,
          112.66666666666667
         ],
         "yaxis": "y3"
        },
        {
         "connectgaps": false,
         "hovertemplate": "fnid=SD2013A109<br>indicator=area<br>year=%{x}<br>value=%{y}<extra></extra>",
         "legendgroup": "SD2013A109",
         "line": {
          "color": "#FF97FF",
          "dash": "solid"
         },
         "marker": {
          "symbol": "circle"
         },
         "mode": "markers+lines",
         "name": "SD2013A109",
         "showlegend": false,
         "type": "scattergl",
         "x": [
          1975,
          1976,
          1977,
          1978,
          1979,
          1980,
          1981,
          1982,
          1983,
          1984,
          1985,
          1986,
          1987,
          1988,
          1989,
          1990,
          1991,
          1992,
          1993,
          1994,
          1995,
          1996,
          1997,
          1998,
          1999,
          2000,
          2001,
          2002,
          2003,
          2004,
          2005,
          2006,
          2007,
          2008,
          2009,
          2010,
          2011,
          2012,
          2013,
          2014,
          2015,
          2016,
          2017
         ],
         "xaxis": "x2",
         "y": [
          49751.85247088974,
          28261.407320742102,
          52401.35940720932,
          48574.29383252549,
          18546.548554237004,
          49163.07315170761,
          56228.42498189315,
          80809.96155774695,
          57405.9836202574,
          52695.74906680038,
          203128.86511783386,
          182374.3941166639,
          77277.28564265418,
          336045.79642319906,
          158087.24720040112,
          89641.65134547885,
          156285.58248370382,
          191771.31205081064,
          132175.0693631957,
          187072.85308373728,
          179530.5900050142,
          159129.3865953535,
          159623.96122346647,
          187320.14039779373,
          99285.8565936821,
          58607.09343138893,
          108311.8435567441,
          180272.4519471837,
          195851.55273274277,
          81233.88266755808,
          151216.19254554572,
          168526.30452950025,
          130691.34547885676,
          102871.52264750126,
          174584.84372388435,
          142066.56192545546,
          213080,
          212380,
          105700,
          216300,
          110732.61,
          183333.33333333334,
          217.66666666666666
         ],
         "yaxis": "y2"
        },
        {
         "connectgaps": false,
         "hovertemplate": "fnid=SD2013A109<br>indicator=yield<br>year=%{x}<br>value=%{y}<extra></extra>",
         "legendgroup": "SD2013A109",
         "line": {
          "color": "#FF97FF",
          "dash": "solid"
         },
         "marker": {
          "symbol": "circle"
         },
         "mode": "markers+lines",
         "name": "SD2013A109",
         "showlegend": false,
         "type": "scattergl",
         "x": [
          1975,
          1976,
          1977,
          1978,
          1979,
          1980,
          1981,
          1982,
          1983,
          1984,
          1985,
          1986,
          1987,
          1988,
          1989,
          1990,
          1991,
          1992,
          1993,
          1994,
          1995,
          1996,
          1997,
          1998,
          1999,
          2000,
          2001,
          2002,
          2003,
          2004,
          2005,
          2006,
          2007,
          2008,
          2009,
          2010,
          2011,
          2012,
          2013,
          2014,
          2015,
          2016,
          2017
         ],
         "xaxis": "x",
         "y": [
          0.9015873015873016,
          0.6182018138539878,
          0.675686407987293,
          0.8465608465608465,
          0.5092838196286472,
          0.7068032015065914,
          0.916277937529478,
          0.4754286404250181,
          0.5040277777777779,
          0.42815062218047295,
          0.5758839251622757,
          0.676017601760176,
          0.7241766467065869,
          0.7574701195219123,
          0.6775048169556839,
          0.2449122807017544,
          0.8441074139014643,
          0.7822074238163176,
          0.7088502552692999,
          0.8168082589642269,
          0.6657999842421377,
          0.8004905958870153,
          0.8337194886490661,
          0.8006735032321387,
          0.8051192426192425,
          0.7721340898032628,
          0.7753109279423112,
          0.7617554499626413,
          1.0568460646827482,
          0.801553121806123,
          0.6115140108723592,
          1.048987387490821,
          0.858919253834177,
          1.0112771593712555,
          0.3386538122524498,
          0.3279761326572051,
          0.45934626715876714,
          0.4343468206681737,
          0.9901408123533662,
          1.2174685947298158,
          0.6620000256097189,
          0.9874419177595581,
          0.8712387600601342
         ],
         "yaxis": "y"
        },
        {
         "connectgaps": false,
         "hovertemplate": "fnid=SD2013A110<br>indicator=production<br>year=%{x}<br>value=%{y}<extra></extra>",
         "legendgroup": "SD2013A110",
         "line": {
          "color": "#FECB52",
          "dash": "solid"
         },
         "marker": {
          "symbol": "circle"
         },
         "mode": "markers+lines",
         "name": "SD2013A110",
         "showlegend": true,
         "type": "scattergl",
         "x": [
          1975,
          1976,
          1977,
          1978,
          1979,
          1980,
          1981,
          1982,
          1983,
          1984,
          1985,
          1986,
          1987,
          1988,
          1989,
          1990,
          1991,
          1992,
          1993,
          1994,
          1995,
          1996,
          1997,
          1998,
          1999,
          2000,
          2001,
          2002,
          2003,
          2004,
          2005,
          2006,
          2007,
          2008,
          2009,
          2010,
          2011,
          2012,
          2013,
          2014,
          2015,
          2016,
          2017
         ],
         "xaxis": "x3",
         "y": [
          null,
          null,
          null,
          null,
          null,
          null,
          null,
          null,
          null,
          null,
          null,
          null,
          null,
          null,
          null,
          null,
          4000,
          14000,
          3500,
          9000,
          4000,
          4000,
          4000,
          5500,
          2000,
          3000,
          2037.8,
          2000,
          2500,
          1500,
          6000,
          4500,
          6500,
          6250,
          630,
          1890,
          2940,
          2512,
          10500,
          15500,
          2000,
          10000,
          3
         ],
         "yaxis": "y3"
        },
        {
         "connectgaps": false,
         "hovertemplate": "fnid=SD2013A110<br>indicator=area<br>year=%{x}<br>value=%{y}<extra></extra>",
         "legendgroup": "SD2013A110",
         "line": {
          "color": "#FECB52",
          "dash": "solid"
         },
         "marker": {
          "symbol": "circle"
         },
         "mode": "markers+lines",
         "name": "SD2013A110",
         "showlegend": false,
         "type": "scattergl",
         "x": [
          1975,
          1976,
          1977,
          1978,
          1979,
          1980,
          1981,
          1982,
          1983,
          1984,
          1985,
          1986,
          1987,
          1988,
          1989,
          1990,
          1991,
          1992,
          1993,
          1994,
          1995,
          1996,
          1997,
          1998,
          1999,
          2000,
          2001,
          2002,
          2003,
          2004,
          2005,
          2006,
          2007,
          2008,
          2009,
          2010,
          2011,
          2012,
          2013,
          2014,
          2015,
          2016,
          2017
         ],
         "xaxis": "x2",
         "y": [
          null,
          null,
          null,
          null,
          null,
          null,
          null,
          null,
          null,
          null,
          null,
          null,
          null,
          null,
          null,
          null,
          5880,
          16800,
          11550,
          15960,
          6300,
          6300,
          8820,
          7980,
          5460,
          5040,
          2100,
          3360,
          4410,
          2730,
          5670,
          9660,
          11340,
          10710,
          2730,
          7140,
          7980,
          9240,
          17850,
          12180,
          4837.88,
          6500,
          5.5
         ],
         "yaxis": "y2"
        },
        {
         "connectgaps": false,
         "hovertemplate": "fnid=SD2013A110<br>indicator=yield<br>year=%{x}<br>value=%{y}<extra></extra>",
         "legendgroup": "SD2013A110",
         "line": {
          "color": "#FECB52",
          "dash": "solid"
         },
         "marker": {
          "symbol": "circle"
         },
         "mode": "markers+lines",
         "name": "SD2013A110",
         "showlegend": false,
         "type": "scattergl",
         "x": [
          1975,
          1976,
          1977,
          1978,
          1979,
          1980,
          1981,
          1982,
          1983,
          1984,
          1985,
          1986,
          1987,
          1988,
          1989,
          1990,
          1991,
          1992,
          1993,
          1994,
          1995,
          1996,
          1997,
          1998,
          1999,
          2000,
          2001,
          2002,
          2003,
          2004,
          2005,
          2006,
          2007,
          2008,
          2009,
          2010,
          2011,
          2012,
          2013,
          2014,
          2015,
          2016,
          2017
         ],
         "xaxis": "x",
         "y": [
          null,
          null,
          null,
          null,
          null,
          null,
          null,
          null,
          null,
          null,
          null,
          null,
          null,
          null,
          null,
          null,
          0.6802721088435374,
          0.8333333333333334,
          0.5952380952380952,
          0.5639097744360902,
          0.6349206349206349,
          0.6349206349206349,
          0.4633204633204633,
          0.7435897435897435,
          0.4081632653061224,
          0.6878306878306877,
          0.6402380952380953,
          0.6349206349206349,
          0.5952380952380952,
          0.5385487528344671,
          0.8380325814536341,
          0.4613095238095237,
          0.6820698681163797,
          0.8305647840531561,
          0.22619047619047616,
          0.3222222222222222,
          0.33913043478260874,
          0.295046768707483,
          0.9828009828009827,
          0.8630952380952379,
          0.780285693165721,
          1.35,
          0.7222222222222222
         ],
         "yaxis": "y"
        },
        {
         "connectgaps": false,
         "hovertemplate": "fnid=SD2013A111<br>indicator=production<br>year=%{x}<br>value=%{y}<extra></extra>",
         "legendgroup": "SD2013A111",
         "line": {
          "color": "#636efa",
          "dash": "solid"
         },
         "marker": {
          "symbol": "circle"
         },
         "mode": "markers+lines",
         "name": "SD2013A111",
         "showlegend": true,
         "type": "scattergl",
         "x": [
          1975,
          1976,
          1977,
          1978,
          1979,
          1980,
          1981,
          1982,
          1983,
          1984,
          1985,
          1986,
          1987,
          1988,
          1989,
          1990,
          1991,
          1992,
          1993,
          1994,
          1995,
          1996,
          1997,
          1998,
          1999,
          2000,
          2001,
          2002,
          2003,
          2004,
          2005,
          2006,
          2007,
          2008,
          2009,
          2010,
          2011,
          2012,
          2013,
          2014,
          2015,
          2016,
          2017
         ],
         "xaxis": "x3",
         "y": [
          null,
          null,
          null,
          null,
          null,
          null,
          null,
          null,
          null,
          null,
          null,
          null,
          null,
          null,
          null,
          28980,
          117000,
          84333.33333333333,
          41000,
          64333.333333333336,
          50666.666666666664,
          35000,
          87000,
          106666.66666666667,
          31333.333333333332,
          44333.333333333336,
          55666.666666666664,
          62000,
          120333.33333333333,
          41333.333333333336,
          76000,
          122000,
          115000,
          100333.33333333333,
          20860,
          69300,
          20020,
          46873.666666666664,
          100000,
          269500,
          39000,
          182666.66666666666,
          44
         ],
         "yaxis": "y3"
        },
        {
         "connectgaps": false,
         "hovertemplate": "fnid=SD2013A111<br>indicator=area<br>year=%{x}<br>value=%{y}<extra></extra>",
         "legendgroup": "SD2013A111",
         "line": {
          "color": "#636efa",
          "dash": "solid"
         },
         "marker": {
          "symbol": "circle"
         },
         "mode": "markers+lines",
         "name": "SD2013A111",
         "showlegend": false,
         "type": "scattergl",
         "x": [
          1975,
          1976,
          1977,
          1978,
          1979,
          1980,
          1981,
          1982,
          1983,
          1984,
          1985,
          1986,
          1987,
          1988,
          1989,
          1990,
          1991,
          1992,
          1993,
          1994,
          1995,
          1996,
          1997,
          1998,
          1999,
          2000,
          2001,
          2002,
          2003,
          2004,
          2005,
          2006,
          2007,
          2008,
          2009,
          2010,
          2011,
          2012,
          2013,
          2014,
          2015,
          2016,
          2017
         ],
         "xaxis": "x2",
         "y": [
          null,
          null,
          null,
          null,
          null,
          null,
          null,
          null,
          null,
          null,
          null,
          null,
          null,
          null,
          null,
          49560,
          132720,
          121940,
          54180,
          65100,
          82320,
          44940,
          106680,
          140280,
          34580,
          70560,
          75320,
          82180,
          140140,
          59500,
          121660,
          157500,
          212800,
          190260,
          92960,
          226100,
          45220,
          154700,
          189560,
          283080,
          18827.096666666668,
          268666.6666666667,
          60.666666666666664
         ],
         "yaxis": "y2"
        },
        {
         "connectgaps": false,
         "hovertemplate": "fnid=SD2013A111<br>indicator=yield<br>year=%{x}<br>value=%{y}<extra></extra>",
         "legendgroup": "SD2013A111",
         "line": {
          "color": "#636efa",
          "dash": "solid"
         },
         "marker": {
          "symbol": "circle"
         },
         "mode": "markers+lines",
         "name": "SD2013A111",
         "showlegend": false,
         "type": "scattergl",
         "x": [
          1975,
          1976,
          1977,
          1978,
          1979,
          1980,
          1981,
          1982,
          1983,
          1984,
          1985,
          1986,
          1987,
          1988,
          1989,
          1990,
          1991,
          1992,
          1993,
          1994,
          1995,
          1996,
          1997,
          1998,
          1999,
          2000,
          2001,
          2002,
          2003,
          2004,
          2005,
          2006,
          2007,
          2008,
          2009,
          2010,
          2011,
          2012,
          2013,
          2014,
          2015,
          2016,
          2017
         ],
         "xaxis": "x",
         "y": [
          null,
          null,
          null,
          null,
          null,
          null,
          null,
          null,
          null,
          null,
          null,
          null,
          null,
          null,
          null,
          0.5847457627118644,
          1.0241874527588812,
          0.7743497049779773,
          0.8421516754850088,
          0.7779812779812779,
          0.688373752889882,
          0.7485675273693707,
          0.8836041881074341,
          0.7451179613015362,
          0.6764232008592911,
          0.8612622454656437,
          0.9944120505344994,
          0.9538054538054538,
          1.1292044595616024,
          0.746031746031746,
          0.8824260502112851,
          1.0626532455800748,
          0.8422984556706542,
          1.0805988818567418,
          0.32952508242003026,
          0.48400800727850624,
          0.4146577380952381,
          0.4168320532514081,
          0.9728405173539748,
          1.5124295180474956,
          0.9166665944088973,
          1.0939352822663542,
          0.9924345806698748
         ],
         "yaxis": "y"
        },
        {
         "connectgaps": false,
         "hovertemplate": "fnid=SD2013A112<br>indicator=production<br>year=%{x}<br>value=%{y}<extra></extra>",
         "legendgroup": "SD2013A112",
         "line": {
          "color": "#EF553B",
          "dash": "solid"
         },
         "marker": {
          "symbol": "circle"
         },
         "mode": "markers+lines",
         "name": "SD2013A112",
         "showlegend": true,
         "type": "scattergl",
         "x": [
          1975,
          1976,
          1977,
          1978,
          1979,
          1980,
          1981,
          1982,
          1983,
          1984,
          1985,
          1986,
          1987,
          1988,
          1989,
          1990,
          1991,
          1992,
          1993,
          1994,
          1995,
          1996,
          1997,
          1998,
          1999,
          2000,
          2001,
          2002,
          2003,
          2004,
          2005,
          2006,
          2007,
          2008,
          2009,
          2010,
          2011,
          2012,
          2013,
          2014,
          2015,
          2016,
          2017
         ],
         "xaxis": "x3",
         "y": [
          null,
          null,
          null,
          null,
          null,
          null,
          null,
          null,
          null,
          null,
          null,
          null,
          null,
          null,
          null,
          56280,
          609000,
          609500,
          413500,
          489500,
          309500,
          604000,
          299500,
          627000,
          179000,
          300000,
          261000,
          273500,
          447000,
          226500,
          425000,
          307500,
          254500,
          410000,
          50610,
          197820,
          40530,
          351817,
          285000,
          770000,
          273000,
          935000,
          362
         ],
         "yaxis": "y3"
        },
        {
         "connectgaps": false,
         "hovertemplate": "fnid=SD2013A112<br>indicator=area<br>year=%{x}<br>value=%{y}<extra></extra>",
         "legendgroup": "SD2013A112",
         "line": {
          "color": "#EF553B",
          "dash": "solid"
         },
         "marker": {
          "symbol": "circle"
         },
         "mode": "markers+lines",
         "name": "SD2013A112",
         "showlegend": false,
         "type": "scattergl",
         "x": [
          1975,
          1976,
          1977,
          1978,
          1979,
          1980,
          1981,
          1982,
          1983,
          1984,
          1985,
          1986,
          1987,
          1988,
          1989,
          1990,
          1991,
          1992,
          1993,
          1994,
          1995,
          1996,
          1997,
          1998,
          1999,
          2000,
          2001,
          2002,
          2003,
          2004,
          2005,
          2006,
          2007,
          2008,
          2009,
          2010,
          2011,
          2012,
          2013,
          2014,
          2015,
          2016,
          2017
         ],
         "xaxis": "x2",
         "y": [
          null,
          null,
          null,
          null,
          null,
          null,
          null,
          null,
          null,
          null,
          null,
          null,
          null,
          null,
          null,
          403410,
          626850,
          799680,
          770910,
          908250,
          734160,
          1126230,
          709800,
          961590,
          620340,
          572250,
          624540,
          621810,
          895440,
          435330,
          806190,
          654360,
          695310,
          784980,
          457170,
          975240,
          483840,
          1122240,
          599550,
          1343160,
          608403.995,
          1277000,
          699
         ],
         "yaxis": "y2"
        },
        {
         "connectgaps": false,
         "hovertemplate": "fnid=SD2013A112<br>indicator=yield<br>year=%{x}<br>value=%{y}<extra></extra>",
         "legendgroup": "SD2013A112",
         "line": {
          "color": "#EF553B",
          "dash": "solid"
         },
         "marker": {
          "symbol": "circle"
         },
         "mode": "markers+lines",
         "name": "SD2013A112",
         "showlegend": false,
         "type": "scattergl",
         "x": [
          1975,
          1976,
          1977,
          1978,
          1979,
          1980,
          1981,
          1982,
          1983,
          1984,
          1985,
          1986,
          1987,
          1988,
          1989,
          1990,
          1991,
          1992,
          1993,
          1994,
          1995,
          1996,
          1997,
          1998,
          1999,
          2000,
          2001,
          2002,
          2003,
          2004,
          2005,
          2006,
          2007,
          2008,
          2009,
          2010,
          2011,
          2012,
          2013,
          2014,
          2015,
          2016,
          2017
         ],
         "xaxis": "x",
         "y": [
          null,
          null,
          null,
          null,
          null,
          null,
          null,
          null,
          null,
          null,
          null,
          null,
          null,
          null,
          null,
          0.49747795007782325,
          1.6409535950603151,
          1.1240395371440097,
          1.259673783441389,
          1.3924040661537727,
          1.3293387856070074,
          1.3936970775747444,
          1.4292973286875725,
          0.9165952539647274,
          0.7329484599695577,
          1.4744897959183674,
          1.4641092852102027,
          1.3543281948371795,
          0.8915970583035306,
          1.5315761932303285,
          1.379828785446763,
          1.5059172030159826,
          1.3635635432892295,
          2.1324284906943665,
          0.3520296852646638,
          0.5376469786305852,
          0.3802645657037253,
          0.5321819158619316,
          1.404907136876997,
          1.2934220251293422,
          1.3708082002478097,
          1.357029388403495,
          1.3589125264270612
         ],
         "yaxis": "y"
        },
        {
         "connectgaps": false,
         "hovertemplate": "fnid=SD2013A113<br>indicator=production<br>year=%{x}<br>value=%{y}<extra></extra>",
         "legendgroup": "SD2013A113",
         "line": {
          "color": "#00cc96",
          "dash": "solid"
         },
         "marker": {
          "symbol": "circle"
         },
         "mode": "markers+lines",
         "name": "SD2013A113",
         "showlegend": true,
         "type": "scattergl",
         "x": [
          1975,
          1976,
          1977,
          1978,
          1979,
          1980,
          1981,
          1982,
          1983,
          1984,
          1985,
          1986,
          1987,
          1988,
          1989,
          1990,
          1991,
          1992,
          1993,
          1994,
          1995,
          1996,
          1997,
          1998,
          1999,
          2000,
          2001,
          2002,
          2003,
          2004,
          2005,
          2006,
          2007,
          2008,
          2009,
          2010,
          2011,
          2012,
          2013,
          2014,
          2015,
          2016,
          2017
         ],
         "xaxis": "x3",
         "y": [
          28625.33075513943,
          48238.983309586816,
          95417.7691837981,
          95417.7691837981,
          34456.416649704865,
          45058.39100346021,
          49829.27946265011,
          13252.46794219418,
          10601.974353755344,
          4240.789741502137,
          9541.77691837981,
          6891.283329940973,
          7421.38204762874,
          15372.862812945248,
          6891.283329940973,
          2940,
          20000,
          38000,
          24000,
          52000,
          12000,
          14000,
          11000,
          26000,
          23000,
          25000,
          56000,
          25000,
          36000,
          8000,
          19613.652554447388,
          20850.549562385506,
          23677.742723386935,
          20223.266079788318,
          4378.615408100958,
          9128.29991858335,
          1563.0341612122302,
          9640.202327274585,
          5333.333333333333,
          32000,
          20000,
          43333.333333333336,
          25
         ],
         "yaxis": "y3"
        },
        {
         "connectgaps": false,
         "hovertemplate": "fnid=SD2013A113<br>indicator=area<br>year=%{x}<br>value=%{y}<extra></extra>",
         "legendgroup": "SD2013A113",
         "line": {
          "color": "#00cc96",
          "dash": "solid"
         },
         "marker": {
          "symbol": "circle"
         },
         "mode": "markers+lines",
         "name": "SD2013A113",
         "showlegend": false,
         "type": "scattergl",
         "x": [
          1975,
          1976,
          1977,
          1978,
          1979,
          1980,
          1981,
          1982,
          1983,
          1984,
          1985,
          1986,
          1987,
          1988,
          1989,
          1990,
          1991,
          1992,
          1993,
          1994,
          1995,
          1996,
          1997,
          1998,
          1999,
          2000,
          2001,
          2002,
          2003,
          2004,
          2005,
          2006,
          2007,
          2008,
          2009,
          2010,
          2011,
          2012,
          2013,
          2014,
          2015,
          2016,
          2017
         ],
         "xaxis": "x2",
         "y": [
          73153.62304091187,
          139946.06146957053,
          144186.85121107267,
          133054.77813962955,
          85345.89354773052,
          99658.55892530024,
          99658.55892530024,
          99128.46020761246,
          98598.36148992467,
          67322.53714634643,
          44528.29228577244,
          38697.206391207,
          52479.77305108895,
          60961.352534093225,
          65202.14227559536,
          45360,
          69300,
          155400,
          105000,
          273000,
          128100,
          262500,
          153300,
          199920,
          307440,
          267120,
          249060,
          152880,
          135660,
          74200,
          54547.15805007124,
          40891.815082434354,
          64120.740891512316,
          95067.90403012418,
          95216.33167107672,
          88685.51546916347,
          28506.765892584954,
          59766.26984633857,
          32060,
          84140,
          82698.65,
          138333.33333333334,
          94
         ],
         "yaxis": "y2"
        },
        {
         "connectgaps": false,
         "hovertemplate": "fnid=SD2013A113<br>indicator=yield<br>year=%{x}<br>value=%{y}<extra></extra>",
         "legendgroup": "SD2013A113",
         "line": {
          "color": "#00cc96",
          "dash": "solid"
         },
         "marker": {
          "symbol": "circle"
         },
         "mode": "markers+lines",
         "name": "SD2013A113",
         "showlegend": false,
         "type": "scattergl",
         "x": [
          1975,
          1976,
          1977,
          1978,
          1979,
          1980,
          1981,
          1982,
          1983,
          1984,
          1985,
          1986,
          1987,
          1988,
          1989,
          1990,
          1991,
          1992,
          1993,
          1994,
          1995,
          1996,
          1997,
          1998,
          1999,
          2000,
          2001,
          2002,
          2003,
          2004,
          2005,
          2006,
          2007,
          2008,
          2009,
          2010,
          2011,
          2012,
          2013,
          2014,
          2015,
          2016,
          2017
         ],
         "xaxis": "x",
         "y": [
          0.391304347826087,
          0.3446969696969697,
          0.6617647058823529,
          0.7171314741035858,
          0.4037267080745341,
          0.4521276595744681,
          0.5,
          0.1336898395721925,
          0.1075268817204301,
          0.0629921259842519,
          0.2142857142857143,
          0.1780821917808219,
          0.1414141414141414,
          0.2521739130434782,
          0.1056910569105691,
          0.0648148148148148,
          0.2886002886002886,
          0.2445302445302445,
          0.2285714285714285,
          0.1904761904761904,
          0.0936768149882904,
          0.0533333333333333,
          0.0717547292889758,
          0.1300520208083233,
          0.0748113453031485,
          0.0935908954776879,
          0.2248454187745924,
          0.1635269492412349,
          0.33402346445824704,
          1.0814072217580988,
          0.7078091889257734,
          0.8731822568300555,
          0.8741899126514511,
          1.042904975894667,
          0.2094168636721828,
          0.30256410256410254,
          0.17928571428571427,
          0.2034122845139794,
          0.402336860670194,
          0.7588864634705041,
          0.7134972644710517,
          0.3989170795921662,
          0.4071796018787743
         ],
         "yaxis": "y"
        },
        {
         "connectgaps": false,
         "hovertemplate": "fnid=SD2013A114<br>indicator=production<br>year=%{x}<br>value=%{y}<extra></extra>",
         "legendgroup": "SD2013A114",
         "line": {
          "color": "#ab63fa",
          "dash": "solid"
         },
         "marker": {
          "symbol": "circle"
         },
         "mode": "markers+lines",
         "name": "SD2013A114",
         "showlegend": true,
         "type": "scattergl",
         "x": [
          1975,
          1976,
          1977,
          1978,
          1979,
          1980,
          1981,
          1982,
          1983,
          1984,
          1985,
          1986,
          1987,
          1988,
          1989,
          1990,
          1991,
          1992,
          1993,
          1994,
          1995,
          1996,
          1997,
          1998,
          1999,
          2000,
          2001,
          2002,
          2003,
          2004,
          2005,
          2006,
          2007,
          2008,
          2009,
          2010,
          2011,
          2012,
          2013,
          2014,
          2015,
          2016,
          2017
         ],
         "xaxis": "x3",
         "y": [
          7639.269406392694,
          9239.878234398782,
          9094.368340943684,
          16369.863013698628,
          14550.989345509892,
          14550.989345509892,
          17824.96194824962,
          5456.62100456621,
          6547.945205479452,
          4001.522070015221,
          7857.534246575342,
          null,
          null,
          null,
          null,
          31220,
          189000,
          200000,
          94000,
          159000,
          133666.66666666666,
          188000,
          75666.66666666667,
          129666.66666666667,
          71333.33333333333,
          92000,
          144333.33333333334,
          51333.333333333336,
          216666.66666666666,
          91000,
          117333.33333333333,
          118333.33333333333,
          74000,
          94383.33333333333,
          19740,
          107520,
          27860,
          85680,
          57333.333333333336,
          321666.6666666667,
          132666.66666666666,
          226333.33333333334,
          309.5
         ],
         "yaxis": "y3"
        },
        {
         "connectgaps": false,
         "hovertemplate": "fnid=SD2013A114<br>indicator=area<br>year=%{x}<br>value=%{y}<extra></extra>",
         "legendgroup": "SD2013A114",
         "line": {
          "color": "#ab63fa",
          "dash": "solid"
         },
         "marker": {
          "symbol": "circle"
         },
         "mode": "markers+lines",
         "name": "SD2013A114",
         "showlegend": false,
         "type": "scattergl",
         "x": [
          1975,
          1976,
          1977,
          1978,
          1979,
          1980,
          1981,
          1982,
          1983,
          1984,
          1985,
          1986,
          1987,
          1988,
          1989,
          1990,
          1991,
          1992,
          1993,
          1994,
          1995,
          1996,
          1997,
          1998,
          1999,
          2000,
          2001,
          2002,
          2003,
          2004,
          2005,
          2006,
          2007,
          2008,
          2009,
          2010,
          2011,
          2012,
          2013,
          2014,
          2015,
          2016,
          2017
         ],
         "xaxis": "x2",
         "y": [
          16297.10806697108,
          13968.949771689497,
          13823.439878234398,
          20735.159817351596,
          20662.404870624046,
          20662.404870624046,
          21317.19939117199,
          15205.783866057838,
          13677.9299847793,
          13677.9299847793,
          18261.491628614916,
          null,
          null,
          null,
          null,
          139300,
          284900,
          350840,
          256900,
          366660,
          238700,
          287700,
          205520,
          230720,
          137900,
          131180,
          202300,
          96180,
          252560,
          104440,
          227780,
          219660,
          148540,
          191940,
          170520,
          404180,
          193200,
          357420,
          138740,
          443240,
          211096.96666666667,
          323333.3333333333,
          387
         ],
         "yaxis": "y2"
        },
        {
         "connectgaps": false,
         "hovertemplate": "fnid=SD2013A114<br>indicator=yield<br>year=%{x}<br>value=%{y}<extra></extra>",
         "legendgroup": "SD2013A114",
         "line": {
          "color": "#ab63fa",
          "dash": "solid"
         },
         "marker": {
          "symbol": "circle"
         },
         "mode": "markers+lines",
         "name": "SD2013A114",
         "showlegend": false,
         "type": "scattergl",
         "x": [
          1975,
          1976,
          1977,
          1978,
          1979,
          1980,
          1981,
          1982,
          1983,
          1984,
          1985,
          1986,
          1987,
          1988,
          1989,
          1990,
          1991,
          1992,
          1993,
          1994,
          1995,
          1996,
          1997,
          1998,
          1999,
          2000,
          2001,
          2002,
          2003,
          2004,
          2005,
          2006,
          2007,
          2008,
          2009,
          2010,
          2011,
          2012,
          2013,
          2014,
          2015,
          2016,
          2017
         ],
         "xaxis": "x",
         "y": [
          0.46875,
          0.6614583333333334,
          0.6578947368421053,
          0.7894736842105263,
          0.704225352112676,
          0.704225352112676,
          0.8361774744027305,
          0.3588516746411483,
          0.4787234042553192,
          0.2925531914893617,
          0.4302788844621513,
          null,
          null,
          null,
          null,
          0.26391584764484205,
          0.7856017353224057,
          0.7218138581985002,
          0.4651462321899628,
          0.6169772256728778,
          0.8411736411736411,
          0.9390363199427808,
          0.8436093168917597,
          0.6858145450097289,
          0.7147540175490485,
          1.162617160470529,
          1.0787608248833929,
          0.8437531308904426,
          1.08024338680767,
          1.223499361430396,
          0.892810574394051,
          0.9745000579846314,
          0.9093170176946773,
          0.9292414524925151,
          0.306582054309327,
          0.45323600973236017,
          0.3258104729596398,
          0.4226871388948494,
          0.7814368171511029,
          1.0256853715161631,
          0.9343652108673943,
          1.0920607674754594,
          1.3916666666666666
         ],
         "yaxis": "y"
        },
        {
         "connectgaps": false,
         "hovertemplate": "fnid=SD2013A115<br>indicator=production<br>year=%{x}<br>value=%{y}<extra></extra>",
         "legendgroup": "SD2013A115",
         "line": {
          "color": "#FFA15A",
          "dash": "solid"
         },
         "marker": {
          "symbol": "circle"
         },
         "mode": "markers+lines",
         "name": "SD2013A115",
         "showlegend": true,
         "type": "scattergl",
         "x": [
          1975,
          1976,
          1977,
          1978,
          1979,
          1980,
          1981,
          1982,
          1983,
          1984,
          1985,
          1986,
          1987,
          1988,
          1989,
          1990,
          1991,
          1992,
          1993,
          1994,
          1995,
          1996,
          1997,
          1998,
          1999,
          2000,
          2001,
          2002,
          2003,
          2004,
          2005,
          2006,
          2007,
          2008,
          2009,
          2010,
          2011,
          2012,
          2013,
          2014,
          2015,
          2016,
          2017
         ],
         "xaxis": "x3",
         "y": [
          12768.287926904006,
          9492.395119505263,
          14093.709955986405,
          39534.62588445039,
          12934.648169814474,
          24244.860437907406,
          29681.152153323303,
          17082.149423366205,
          7509.554849852359,
          3007.911304250933,
          18519.416123460916,
          13961.30703660371,
          3680.1771686444927,
          33997.827177001505,
          6250.459635634296,
          41400.89921444092,
          185025.68388211043,
          229331.27193715528,
          161246.81040726503,
          197985.40308652294,
          137060.00334280462,
          181331.27193715528,
          147458.68850632347,
          176538.52582316563,
          138056.71625160176,
          154106.2454732854,
          257949.13365647112,
          166874.53340018942,
          176323.97348041672,
          133257.39595520642,
          199623.71162738872,
          234125.9680205025,
          222506.8806061619,
          229982.79569892472,
          55467.14357345813,
          110892.16780879156,
          76440,
          78624,
          202000,
          304500,
          163250,
          258500,
          167.5
         ],
         "yaxis": "y3"
        },
        {
         "connectgaps": false,
         "hovertemplate": "fnid=SD2013A115<br>indicator=area<br>year=%{x}<br>value=%{y}<extra></extra>",
         "legendgroup": "SD2013A115",
         "line": {
          "color": "#FFA15A",
          "dash": "solid"
         },
         "marker": {
          "symbol": "circle"
         },
         "mode": "markers+lines",
         "name": "SD2013A115",
         "showlegend": false,
         "type": "scattergl",
         "x": [
          1975,
          1976,
          1977,
          1978,
          1979,
          1980,
          1981,
          1982,
          1983,
          1984,
          1985,
          1986,
          1987,
          1988,
          1989,
          1990,
          1991,
          1992,
          1993,
          1994,
          1995,
          1996,
          1997,
          1998,
          1999,
          2000,
          2001,
          2002,
          2003,
          2004,
          2005,
          2006,
          2007,
          2008,
          2009,
          2010,
          2011,
          2012,
          2013,
          2014,
          2015,
          2016,
          2017
         ],
         "xaxis": "x2",
         "y": [
          19248.147529110258,
          33071.92601259123,
          38265.30725945735,
          42759.03950080784,
          27953.451445762996,
          34503.59351495906,
          38104.908351440194,
          34690.03844225305,
          23594.016379742603,
          16637.584266532955,
          50537.8015488328,
          24125.605883336117,
          10222.714357345812,
          44454.20357680094,
          20912.75279959886,
          126238.34865452115,
          168234.41751629618,
          231588.68794918936,
          156364.9306368043,
          206047.14691626272,
          181389.4099949858,
          217050.61340464652,
          142636.03877653353,
          205099.85960220624,
          174974.14340631792,
          77752.90656861106,
          204868.15644325587,
          140467.5480528163,
          221348.44726725723,
          77526.11733244192,
          207323.80745445428,
          158513.69547049975,
          241988.6545211432,
          189028.4773524987,
          146715.15627611565,
          226833.43807454454,
          148260,
          222180,
          219660,
          308490,
          81210.705,
          267000,
          107.5
         ],
         "yaxis": "y2"
        },
        {
         "connectgaps": false,
         "hovertemplate": "fnid=SD2013A115<br>indicator=yield<br>year=%{x}<br>value=%{y}<extra></extra>",
         "legendgroup": "SD2013A115",
         "line": {
          "color": "#FFA15A",
          "dash": "solid"
         },
         "marker": {
          "symbol": "circle"
         },
         "mode": "markers+lines",
         "name": "SD2013A115",
         "showlegend": false,
         "type": "scattergl",
         "x": [
          1975,
          1976,
          1977,
          1978,
          1979,
          1980,
          1981,
          1982,
          1983,
          1984,
          1985,
          1986,
          1987,
          1988,
          1989,
          1990,
          1991,
          1992,
          1993,
          1994,
          1995,
          1996,
          1997,
          1998,
          1999,
          2000,
          2001,
          2002,
          2003,
          2004,
          2005,
          2006,
          2007,
          2008,
          2009,
          2010,
          2011,
          2012,
          2013,
          2014,
          2015,
          2016,
          2017
         ],
         "xaxis": "x",
         "y": [
          0.8744608379690023,
          0.47934308047204793,
          0.6717239899735233,
          0.9199048965797271,
          0.649083671611053,
          0.7806467557168855,
          0.9299333094778944,
          0.4855947465795224,
          0.5035579826113756,
          0.42517859839272204,
          0.5957648107826189,
          0.676017601760176,
          0.7241766467065869,
          0.7574701195219125,
          0.677504816955684,
          0.24277639967428907,
          0.7680845916427979,
          0.8838894616107756,
          0.8685321622186679,
          0.9400327800521998,
          0.8224865946861589,
          0.9482625448143773,
          1.0161486752831923,
          0.9881904641761391,
          0.9533933920083665,
          0.9746823069745728,
          0.9589005363643345,
          0.9606033979189629,
          1.0045127992323335,
          0.8852857357848523,
          0.9626387304742101,
          1.1808193576590458,
          1.0328165033308763,
          1.1389973885097682,
          0.3214783265978069,
          0.47724217285712056,
          0.4347774731069394,
          0.4117278848176981,
          1.0593342939314503,
          1.2304447151995126,
          1.310000406291441,
          1.2510677872692202,
          1.455651491365777
         ],
         "yaxis": "y"
        },
        {
         "connectgaps": false,
         "hovertemplate": "fnid=SD2013A116<br>indicator=production<br>year=%{x}<br>value=%{y}<extra></extra>",
         "legendgroup": "SD2013A116",
         "line": {
          "color": "#19d3f3",
          "dash": "solid"
         },
         "marker": {
          "symbol": "circle"
         },
         "mode": "markers+lines",
         "name": "SD2013A116",
         "showlegend": true,
         "type": "scattergl",
         "x": [
          1975,
          1976,
          1977,
          1978,
          1979,
          1980,
          1981,
          1982,
          1983,
          1984,
          1985,
          1986,
          1987,
          1988,
          1989,
          1990,
          1991,
          1992,
          1993,
          1994,
          1995,
          1996,
          1997,
          1998,
          1999,
          2000,
          2001,
          2002,
          2003,
          2004,
          2005,
          2006,
          2007,
          2008,
          2009,
          2010,
          2011,
          2012,
          2013,
          2014,
          2015,
          2016,
          2017
         ],
         "xaxis": "x3",
         "y": [
          30000,
          10000,
          12000,
          14000,
          12000,
          12000,
          8000,
          null,
          5000,
          8000,
          20000,
          18000,
          15000,
          15000,
          8000,
          3360,
          35000,
          30000,
          30000,
          44000,
          39000,
          27000,
          7500,
          43500,
          87000,
          55780,
          320000,
          54000,
          69500,
          36000,
          29500,
          115500,
          66500,
          34732.5,
          7560,
          11550,
          5670,
          12600,
          17000,
          83000,
          9500,
          16500,
          7
         ],
         "yaxis": "y3"
        },
        {
         "connectgaps": false,
         "hovertemplate": "fnid=SD2013A116<br>indicator=area<br>year=%{x}<br>value=%{y}<extra></extra>",
         "legendgroup": "SD2013A116",
         "line": {
          "color": "#19d3f3",
          "dash": "solid"
         },
         "marker": {
          "symbol": "circle"
         },
         "mode": "markers+lines",
         "name": "SD2013A116",
         "showlegend": false,
         "type": "scattergl",
         "x": [
          1975,
          1976,
          1977,
          1978,
          1979,
          1980,
          1981,
          1982,
          1983,
          1984,
          1985,
          1986,
          1987,
          1988,
          1989,
          1990,
          1991,
          1992,
          1993,
          1994,
          1995,
          1996,
          1997,
          1998,
          1999,
          2000,
          2001,
          2002,
          2003,
          2004,
          2005,
          2006,
          2007,
          2008,
          2009,
          2010,
          2011,
          2012,
          2013,
          2014,
          2015,
          2016,
          2017
         ],
         "xaxis": "x2",
         "y": [
          28000,
          10000,
          13000,
          15000,
          13000,
          13000,
          5000,
          null,
          4000,
          6000,
          17000,
          15000,
          13000,
          13000,
          6000,
          5040,
          21000,
          17640,
          17640,
          50400,
          44310,
          16170,
          14700,
          36750,
          49350,
          24990,
          144480,
          37170,
          49140,
          21840,
          24150,
          91350,
          71400,
          23730,
          11970,
          46830,
          10500,
          18900,
          10080,
          61740,
          7773.110000000001,
          14500,
          4
         ],
         "yaxis": "y2"
        },
        {
         "connectgaps": false,
         "hovertemplate": "fnid=SD2013A116<br>indicator=yield<br>year=%{x}<br>value=%{y}<extra></extra>",
         "legendgroup": "SD2013A116",
         "line": {
          "color": "#19d3f3",
          "dash": "solid"
         },
         "marker": {
          "symbol": "circle"
         },
         "mode": "markers+lines",
         "name": "SD2013A116",
         "showlegend": false,
         "type": "scattergl",
         "x": [
          1975,
          1976,
          1977,
          1978,
          1979,
          1980,
          1981,
          1982,
          1983,
          1984,
          1985,
          1986,
          1987,
          1988,
          1989,
          1990,
          1991,
          1992,
          1993,
          1994,
          1995,
          1996,
          1997,
          1998,
          1999,
          2000,
          2001,
          2002,
          2003,
          2004,
          2005,
          2006,
          2007,
          2008,
          2009,
          2010,
          2011,
          2012,
          2013,
          2014,
          2015,
          2016,
          2017
         ],
         "xaxis": "x",
         "y": [
          1.0714285714285714,
          1,
          0.9230769230769232,
          0.9333333333333332,
          0.9230769230769232,
          0.9230769230769232,
          1.6,
          null,
          1.25,
          1.3333333333333333,
          1.1764705882352942,
          1.2,
          1.1538461538461535,
          1.1538461538461535,
          1.3333333333333333,
          0.6666666666666666,
          1.6666666666666667,
          1.7006802721088434,
          1.7006802721088434,
          0.8095238095238095,
          1.5817790530846483,
          1.5961736998322362,
          0.5555555555555555,
          0.9183673469387754,
          1.6455026455026456,
          1.4627594627594627,
          2.2148394241417497,
          1.1153198653198655,
          1.2792333712419444,
          1.247739602169982,
          1.0708589655958076,
          1.5136054421768708,
          1.5008503401360545,
          1.4418831168831168,
          0.5975,
          0.48838383838383836,
          0.5016233766233766,
          0.5,
          1.6645962732919255,
          1.8362766699101156,
          1.1829999932800774,
          1.394927536231884,
          1.75
         ],
         "yaxis": "y"
        },
        {
         "connectgaps": false,
         "hovertemplate": "fnid=SD2013A117<br>indicator=production<br>year=%{x}<br>value=%{y}<extra></extra>",
         "legendgroup": "SD2013A117",
         "line": {
          "color": "#FF6692",
          "dash": "solid"
         },
         "marker": {
          "symbol": "circle"
         },
         "mode": "markers+lines",
         "name": "SD2013A117",
         "showlegend": true,
         "type": "scattergl",
         "x": [
          1975,
          1976,
          1977,
          1978,
          1979,
          1980,
          1981,
          1982,
          1983,
          1984,
          1985,
          1986,
          1987,
          1988,
          1989,
          1990,
          1991,
          1992,
          1993,
          1994,
          1995,
          1996,
          1997,
          1998,
          1999,
          2000,
          2001,
          2002,
          2003,
          2004,
          2005,
          2006,
          2007,
          2008,
          2009,
          2010,
          2011,
          2012,
          2013,
          2014,
          2015,
          2016,
          2017
         ],
         "xaxis": "x3",
         "y": [
          8000,
          6000,
          6000,
          6000,
          6000,
          6000,
          4000,
          null,
          null,
          8000,
          15000,
          15000,
          12000,
          10000,
          5000,
          840,
          7000,
          5000,
          5000,
          14000,
          15000,
          15000,
          11000,
          6000,
          12000,
          13000,
          38000,
          13000,
          6000,
          11000,
          20000,
          19000,
          19000,
          21000,
          5880,
          5460,
          2940,
          1680,
          3000,
          7000,
          2000,
          3000,
          2
         ],
         "yaxis": "y3"
        },
        {
         "connectgaps": false,
         "hovertemplate": "fnid=SD2013A117<br>indicator=area<br>year=%{x}<br>value=%{y}<extra></extra>",
         "legendgroup": "SD2013A117",
         "line": {
          "color": "#FF6692",
          "dash": "solid"
         },
         "marker": {
          "symbol": "circle"
         },
         "mode": "markers+lines",
         "name": "SD2013A117",
         "showlegend": false,
         "type": "scattergl",
         "x": [
          1975,
          1976,
          1977,
          1978,
          1979,
          1980,
          1981,
          1982,
          1983,
          1984,
          1985,
          1986,
          1987,
          1988,
          1989,
          1990,
          1991,
          1992,
          1993,
          1994,
          1995,
          1996,
          1997,
          1998,
          1999,
          2000,
          2001,
          2002,
          2003,
          2004,
          2005,
          2006,
          2007,
          2008,
          2009,
          2010,
          2011,
          2012,
          2013,
          2014,
          2015,
          2016,
          2017
         ],
         "xaxis": "x2",
         "y": [
          8000,
          6000,
          6000,
          6000,
          6000,
          6000,
          4000,
          null,
          null,
          4000,
          10000,
          10000,
          8000,
          8000,
          4000,
          1260,
          4200,
          3360,
          3360,
          6300,
          6300,
          6300,
          5880,
          5040,
          8820,
          9240,
          16800,
          8820,
          3360,
          6300,
          8820,
          7980,
          7980,
          7560,
          7560,
          5040,
          2940,
          1680,
          1680,
          2520,
          840.34,
          2000,
          1
         ],
         "yaxis": "y2"
        },
        {
         "connectgaps": false,
         "hovertemplate": "fnid=SD2013A117<br>indicator=yield<br>year=%{x}<br>value=%{y}<extra></extra>",
         "legendgroup": "SD2013A117",
         "line": {
          "color": "#FF6692",
          "dash": "solid"
         },
         "marker": {
          "symbol": "circle"
         },
         "mode": "markers+lines",
         "name": "SD2013A117",
         "showlegend": false,
         "type": "scattergl",
         "x": [
          1975,
          1976,
          1977,
          1978,
          1979,
          1980,
          1981,
          1982,
          1983,
          1984,
          1985,
          1986,
          1987,
          1988,
          1989,
          1990,
          1991,
          1992,
          1993,
          1994,
          1995,
          1996,
          1997,
          1998,
          1999,
          2000,
          2001,
          2002,
          2003,
          2004,
          2005,
          2006,
          2007,
          2008,
          2009,
          2010,
          2011,
          2012,
          2013,
          2014,
          2015,
          2016,
          2017
         ],
         "xaxis": "x",
         "y": [
          1,
          1,
          1,
          1,
          1,
          1,
          1,
          null,
          null,
          2,
          1.5,
          1.5,
          1.5,
          1.25,
          1.25,
          0.6666666666666666,
          1.6666666666666667,
          1.488095238095238,
          1.488095238095238,
          2.2222222222222223,
          2.380952380952381,
          2.380952380952381,
          1.870748299319728,
          1.1904761904761905,
          1.3605442176870748,
          1.406926406926407,
          2.261904761904762,
          1.473922902494331,
          1.7857142857142858,
          1.746031746031746,
          2.2675736961451247,
          2.380952380952381,
          2.380952380952381,
          2.7777777777777777,
          0.7777777777777778,
          1.0833333333333333,
          1,
          1,
          1.7857142857142858,
          2.7777777777777777,
          2.3799890520503606,
          1.5,
          2
         ],
         "yaxis": "y"
        },
        {
         "connectgaps": false,
         "hovertemplate": "fnid=SD2013A118<br>indicator=production<br>year=%{x}<br>value=%{y}<extra></extra>",
         "legendgroup": "SD2013A118",
         "line": {
          "color": "#B6E880",
          "dash": "solid"
         },
         "marker": {
          "symbol": "circle"
         },
         "mode": "markers+lines",
         "name": "SD2013A118",
         "showlegend": true,
         "type": "scattergl",
         "x": [
          1975,
          1976,
          1977,
          1978,
          1979,
          1980,
          1981,
          1982,
          1983,
          1984,
          1985,
          1986,
          1987,
          1988,
          1989,
          1990,
          1991,
          1992,
          1993,
          1994,
          1995,
          1996,
          1997,
          1998,
          1999,
          2000,
          2001,
          2002,
          2003,
          2004,
          2005,
          2006,
          2007,
          2008,
          2009,
          2010,
          2011,
          2012,
          2013,
          2014,
          2015,
          2016,
          2017
         ],
         "xaxis": "x3",
         "y": [
          42949.52961623033,
          57659.74795765694,
          72376.33850135247,
          77685.49551780861,
          33499.89743164701,
          51825.746597006786,
          55886.993273445754,
          52240.40397261994,
          32837.54501033992,
          15506.44147148638,
          61568.0073185365,
          40572.40125131963,
          20986.499031039457,
          79195.07591787953,
          19335.773185495036,
          4620,
          32000,
          62000,
          40000,
          69000,
          29000,
          5000,
          67000,
          61000,
          107000,
          81000,
          80000,
          76000,
          35500,
          17000,
          68710.16737745964,
          98123.19401011389,
          72548.71546108059,
          61793.025837323185,
          21819.94455154765,
          27219.55683397014,
          10727.416087543987,
          18439.257132184874,
          36000,
          48000,
          65000,
          33500,
          40
         ],
         "yaxis": "y3"
        },
        {
         "connectgaps": false,
         "hovertemplate": "fnid=SD2013A118<br>indicator=area<br>year=%{x}<br>value=%{y}<extra></extra>",
         "legendgroup": "SD2013A118",
         "line": {
          "color": "#B6E880",
          "dash": "solid"
         },
         "marker": {
          "symbol": "circle"
         },
         "mode": "markers+lines",
         "name": "SD2013A118",
         "showlegend": false,
         "type": "scattergl",
         "x": [
          1975,
          1976,
          1977,
          1978,
          1979,
          1980,
          1981,
          1982,
          1983,
          1984,
          1985,
          1986,
          1987,
          1988,
          1989,
          1990,
          1991,
          1992,
          1993,
          1994,
          1995,
          1996,
          1997,
          1998,
          1999,
          2000,
          2001,
          2002,
          2003,
          2004,
          2005,
          2006,
          2007,
          2008,
          2009,
          2010,
          2011,
          2012,
          2013,
          2014,
          2015,
          2016,
          2017
         ],
         "xaxis": "x2",
         "y": [
          73657.6413073535,
          101668.67498808732,
          106379.83052611286,
          107993.82738213033,
          77291.78704845879,
          89829.47087887276,
          88590.66757503299,
          107468.68219311902,
          116613.24228103543,
          93548.61562430057,
          125034.13468349406,
          107053.12228305393,
          54761.11177209533,
          130370.91365329974,
          68186.69078397781,
          75600,
          115500,
          259560,
          174720,
          252000,
          199080,
          210420,
          148260,
          195720,
          256620,
          349020,
          258300,
          168840,
          88830,
          74340,
          133189.34651047684,
          136099.56148853785,
          146036.51857635367,
          170942.09975281896,
          181926.00534712346,
          151062.48083195882,
          72631.91569945485,
          104629.67609960737,
          95550,
          4200,
          201863.35,
          89500,
          129
         ],
         "yaxis": "y2"
        },
        {
         "connectgaps": false,
         "hovertemplate": "fnid=SD2013A118<br>indicator=yield<br>year=%{x}<br>value=%{y}<extra></extra>",
         "legendgroup": "SD2013A118",
         "line": {
          "color": "#B6E880",
          "dash": "solid"
         },
         "marker": {
          "symbol": "circle"
         },
         "mode": "markers+lines",
         "name": "SD2013A118",
         "showlegend": false,
         "type": "scattergl",
         "x": [
          1975,
          1976,
          1977,
          1978,
          1979,
          1980,
          1981,
          1982,
          1983,
          1984,
          1985,
          1986,
          1987,
          1988,
          1989,
          1990,
          1991,
          1992,
          1993,
          1994,
          1995,
          1996,
          1997,
          1998,
          1999,
          2000,
          2001,
          2002,
          2003,
          2004,
          2005,
          2006,
          2007,
          2008,
          2009,
          2010,
          2011,
          2012,
          2013,
          2014,
          2015,
          2016,
          2017
         ],
         "xaxis": "x",
         "y": [
          0.7092172860179502,
          0.773840520045278,
          0.6692347673580574,
          0.6684040887570296,
          0.44774033479726555,
          0.6901739667001424,
          0.7114088830826021,
          0.5234440801596822,
          0.31267547380551297,
          0.18579839670907783,
          0.5269085376380699,
          0.37961929746124967,
          0.5210839870013089,
          0.5459664237165769,
          0.29063565999218993,
          0.0611111111111111,
          0.277056277056277,
          0.2388657728463553,
          0.2289377289377289,
          0.2738095238095238,
          0.1456700823789431,
          0.023761999809904,
          0.4519088088493188,
          0.3116697322705906,
          0.4169589275972254,
          0.2320783909231562,
          0.3097173828881146,
          0.6669990331157845,
          0.51764528073755,
          0.42507693110102746,
          0.7981277689864585,
          1.0206291114629193,
          0.9232124011411348,
          1.0037988131743598,
          0.2495354693569024,
          0.2980921898011612,
          0.23069149533961272,
          0.21175564727069288,
          0.3217904002657366,
          0.7142857142857143,
          0.3220000064400001,
          0.3878810783572688,
          0.3211510441962117
         ],
         "yaxis": "y"
        }
       ],
       "layout": {
        "annotations": [
         {
          "showarrow": false,
          "text": "",
          "textangle": 90,
          "x": 0.98,
          "xanchor": "left",
          "xref": "paper",
          "y": 0.16333333333333333,
          "yanchor": "middle",
          "yref": "paper"
         },
         {
          "showarrow": false,
          "text": "",
          "textangle": 90,
          "x": 0.98,
          "xanchor": "left",
          "xref": "paper",
          "y": 0.5,
          "yanchor": "middle",
          "yref": "paper"
         },
         {
          "showarrow": false,
          "text": "",
          "textangle": 90,
          "x": 0.98,
          "xanchor": "left",
          "xref": "paper",
          "y": 0.8366666666666667,
          "yanchor": "middle",
          "yref": "paper"
         },
         {
          "align": "left",
          "font": {
           "color": "dimgrey",
           "family": "arial",
           "size": 15
          },
          "showarrow": false,
          "text": "Production-Area-Yield time-series of SD - Sorghum - Main",
          "x": -0.014,
          "xref": "paper",
          "y": -0.14,
          "yref": "paper"
         }
        ],
        "font": {
         "color": "black",
         "family": "arial",
         "size": 16
        },
        "height": 600,
        "legend": {
         "font": {
          "size": 14
         },
         "title": {
          "text": "FNID"
         },
         "tracegroupgap": 0,
         "x": 1,
         "xanchor": "left",
         "y": 1,
         "yanchor": "top"
        },
        "margin": {
         "b": 25,
         "l": 0,
         "r": 0,
         "t": 0
        },
        "template": {
         "data": {
          "bar": [
           {
            "error_x": {
             "color": "#2a3f5f"
            },
            "error_y": {
             "color": "#2a3f5f"
            },
            "marker": {
             "line": {
              "color": "#E5ECF6",
              "width": 0.5
             },
             "pattern": {
              "fillmode": "overlay",
              "size": 10,
              "solidity": 0.2
             }
            },
            "type": "bar"
           }
          ],
          "barpolar": [
           {
            "marker": {
             "line": {
              "color": "#E5ECF6",
              "width": 0.5
             },
             "pattern": {
              "fillmode": "overlay",
              "size": 10,
              "solidity": 0.2
             }
            },
            "type": "barpolar"
           }
          ],
          "carpet": [
           {
            "aaxis": {
             "endlinecolor": "#2a3f5f",
             "gridcolor": "white",
             "linecolor": "white",
             "minorgridcolor": "white",
             "startlinecolor": "#2a3f5f"
            },
            "baxis": {
             "endlinecolor": "#2a3f5f",
             "gridcolor": "white",
             "linecolor": "white",
             "minorgridcolor": "white",
             "startlinecolor": "#2a3f5f"
            },
            "type": "carpet"
           }
          ],
          "choropleth": [
           {
            "colorbar": {
             "outlinewidth": 0,
             "ticks": ""
            },
            "type": "choropleth"
           }
          ],
          "contour": [
           {
            "colorbar": {
             "outlinewidth": 0,
             "ticks": ""
            },
            "colorscale": [
             [
              0,
              "#0d0887"
             ],
             [
              0.1111111111111111,
              "#46039f"
             ],
             [
              0.2222222222222222,
              "#7201a8"
             ],
             [
              0.3333333333333333,
              "#9c179e"
             ],
             [
              0.4444444444444444,
              "#bd3786"
             ],
             [
              0.5555555555555556,
              "#d8576b"
             ],
             [
              0.6666666666666666,
              "#ed7953"
             ],
             [
              0.7777777777777778,
              "#fb9f3a"
             ],
             [
              0.8888888888888888,
              "#fdca26"
             ],
             [
              1,
              "#f0f921"
             ]
            ],
            "type": "contour"
           }
          ],
          "contourcarpet": [
           {
            "colorbar": {
             "outlinewidth": 0,
             "ticks": ""
            },
            "type": "contourcarpet"
           }
          ],
          "heatmap": [
           {
            "colorbar": {
             "outlinewidth": 0,
             "ticks": ""
            },
            "colorscale": [
             [
              0,
              "#0d0887"
             ],
             [
              0.1111111111111111,
              "#46039f"
             ],
             [
              0.2222222222222222,
              "#7201a8"
             ],
             [
              0.3333333333333333,
              "#9c179e"
             ],
             [
              0.4444444444444444,
              "#bd3786"
             ],
             [
              0.5555555555555556,
              "#d8576b"
             ],
             [
              0.6666666666666666,
              "#ed7953"
             ],
             [
              0.7777777777777778,
              "#fb9f3a"
             ],
             [
              0.8888888888888888,
              "#fdca26"
             ],
             [
              1,
              "#f0f921"
             ]
            ],
            "type": "heatmap"
           }
          ],
          "heatmapgl": [
           {
            "colorbar": {
             "outlinewidth": 0,
             "ticks": ""
            },
            "colorscale": [
             [
              0,
              "#0d0887"
             ],
             [
              0.1111111111111111,
              "#46039f"
             ],
             [
              0.2222222222222222,
              "#7201a8"
             ],
             [
              0.3333333333333333,
              "#9c179e"
             ],
             [
              0.4444444444444444,
              "#bd3786"
             ],
             [
              0.5555555555555556,
              "#d8576b"
             ],
             [
              0.6666666666666666,
              "#ed7953"
             ],
             [
              0.7777777777777778,
              "#fb9f3a"
             ],
             [
              0.8888888888888888,
              "#fdca26"
             ],
             [
              1,
              "#f0f921"
             ]
            ],
            "type": "heatmapgl"
           }
          ],
          "histogram": [
           {
            "marker": {
             "pattern": {
              "fillmode": "overlay",
              "size": 10,
              "solidity": 0.2
             }
            },
            "type": "histogram"
           }
          ],
          "histogram2d": [
           {
            "colorbar": {
             "outlinewidth": 0,
             "ticks": ""
            },
            "colorscale": [
             [
              0,
              "#0d0887"
             ],
             [
              0.1111111111111111,
              "#46039f"
             ],
             [
              0.2222222222222222,
              "#7201a8"
             ],
             [
              0.3333333333333333,
              "#9c179e"
             ],
             [
              0.4444444444444444,
              "#bd3786"
             ],
             [
              0.5555555555555556,
              "#d8576b"
             ],
             [
              0.6666666666666666,
              "#ed7953"
             ],
             [
              0.7777777777777778,
              "#fb9f3a"
             ],
             [
              0.8888888888888888,
              "#fdca26"
             ],
             [
              1,
              "#f0f921"
             ]
            ],
            "type": "histogram2d"
           }
          ],
          "histogram2dcontour": [
           {
            "colorbar": {
             "outlinewidth": 0,
             "ticks": ""
            },
            "colorscale": [
             [
              0,
              "#0d0887"
             ],
             [
              0.1111111111111111,
              "#46039f"
             ],
             [
              0.2222222222222222,
              "#7201a8"
             ],
             [
              0.3333333333333333,
              "#9c179e"
             ],
             [
              0.4444444444444444,
              "#bd3786"
             ],
             [
              0.5555555555555556,
              "#d8576b"
             ],
             [
              0.6666666666666666,
              "#ed7953"
             ],
             [
              0.7777777777777778,
              "#fb9f3a"
             ],
             [
              0.8888888888888888,
              "#fdca26"
             ],
             [
              1,
              "#f0f921"
             ]
            ],
            "type": "histogram2dcontour"
           }
          ],
          "mesh3d": [
           {
            "colorbar": {
             "outlinewidth": 0,
             "ticks": ""
            },
            "type": "mesh3d"
           }
          ],
          "parcoords": [
           {
            "line": {
             "colorbar": {
              "outlinewidth": 0,
              "ticks": ""
             }
            },
            "type": "parcoords"
           }
          ],
          "pie": [
           {
            "automargin": true,
            "type": "pie"
           }
          ],
          "scatter": [
           {
            "fillpattern": {
             "fillmode": "overlay",
             "size": 10,
             "solidity": 0.2
            },
            "type": "scatter"
           }
          ],
          "scatter3d": [
           {
            "line": {
             "colorbar": {
              "outlinewidth": 0,
              "ticks": ""
             }
            },
            "marker": {
             "colorbar": {
              "outlinewidth": 0,
              "ticks": ""
             }
            },
            "type": "scatter3d"
           }
          ],
          "scattercarpet": [
           {
            "marker": {
             "colorbar": {
              "outlinewidth": 0,
              "ticks": ""
             }
            },
            "type": "scattercarpet"
           }
          ],
          "scattergeo": [
           {
            "marker": {
             "colorbar": {
              "outlinewidth": 0,
              "ticks": ""
             }
            },
            "type": "scattergeo"
           }
          ],
          "scattergl": [
           {
            "marker": {
             "colorbar": {
              "outlinewidth": 0,
              "ticks": ""
             }
            },
            "type": "scattergl"
           }
          ],
          "scattermapbox": [
           {
            "marker": {
             "colorbar": {
              "outlinewidth": 0,
              "ticks": ""
             }
            },
            "type": "scattermapbox"
           }
          ],
          "scatterpolar": [
           {
            "marker": {
             "colorbar": {
              "outlinewidth": 0,
              "ticks": ""
             }
            },
            "type": "scatterpolar"
           }
          ],
          "scatterpolargl": [
           {
            "marker": {
             "colorbar": {
              "outlinewidth": 0,
              "ticks": ""
             }
            },
            "type": "scatterpolargl"
           }
          ],
          "scatterternary": [
           {
            "marker": {
             "colorbar": {
              "outlinewidth": 0,
              "ticks": ""
             }
            },
            "type": "scatterternary"
           }
          ],
          "surface": [
           {
            "colorbar": {
             "outlinewidth": 0,
             "ticks": ""
            },
            "colorscale": [
             [
              0,
              "#0d0887"
             ],
             [
              0.1111111111111111,
              "#46039f"
             ],
             [
              0.2222222222222222,
              "#7201a8"
             ],
             [
              0.3333333333333333,
              "#9c179e"
             ],
             [
              0.4444444444444444,
              "#bd3786"
             ],
             [
              0.5555555555555556,
              "#d8576b"
             ],
             [
              0.6666666666666666,
              "#ed7953"
             ],
             [
              0.7777777777777778,
              "#fb9f3a"
             ],
             [
              0.8888888888888888,
              "#fdca26"
             ],
             [
              1,
              "#f0f921"
             ]
            ],
            "type": "surface"
           }
          ],
          "table": [
           {
            "cells": {
             "fill": {
              "color": "#EBF0F8"
             },
             "line": {
              "color": "white"
             }
            },
            "header": {
             "fill": {
              "color": "#C8D4E3"
             },
             "line": {
              "color": "white"
             }
            },
            "type": "table"
           }
          ]
         },
         "layout": {
          "annotationdefaults": {
           "arrowcolor": "#2a3f5f",
           "arrowhead": 0,
           "arrowwidth": 1
          },
          "autotypenumbers": "strict",
          "coloraxis": {
           "colorbar": {
            "outlinewidth": 0,
            "ticks": ""
           }
          },
          "colorscale": {
           "diverging": [
            [
             0,
             "#8e0152"
            ],
            [
             0.1,
             "#c51b7d"
            ],
            [
             0.2,
             "#de77ae"
            ],
            [
             0.3,
             "#f1b6da"
            ],
            [
             0.4,
             "#fde0ef"
            ],
            [
             0.5,
             "#f7f7f7"
            ],
            [
             0.6,
             "#e6f5d0"
            ],
            [
             0.7,
             "#b8e186"
            ],
            [
             0.8,
             "#7fbc41"
            ],
            [
             0.9,
             "#4d9221"
            ],
            [
             1,
             "#276419"
            ]
           ],
           "sequential": [
            [
             0,
             "#0d0887"
            ],
            [
             0.1111111111111111,
             "#46039f"
            ],
            [
             0.2222222222222222,
             "#7201a8"
            ],
            [
             0.3333333333333333,
             "#9c179e"
            ],
            [
             0.4444444444444444,
             "#bd3786"
            ],
            [
             0.5555555555555556,
             "#d8576b"
            ],
            [
             0.6666666666666666,
             "#ed7953"
            ],
            [
             0.7777777777777778,
             "#fb9f3a"
            ],
            [
             0.8888888888888888,
             "#fdca26"
            ],
            [
             1,
             "#f0f921"
            ]
           ],
           "sequentialminus": [
            [
             0,
             "#0d0887"
            ],
            [
             0.1111111111111111,
             "#46039f"
            ],
            [
             0.2222222222222222,
             "#7201a8"
            ],
            [
             0.3333333333333333,
             "#9c179e"
            ],
            [
             0.4444444444444444,
             "#bd3786"
            ],
            [
             0.5555555555555556,
             "#d8576b"
            ],
            [
             0.6666666666666666,
             "#ed7953"
            ],
            [
             0.7777777777777778,
             "#fb9f3a"
            ],
            [
             0.8888888888888888,
             "#fdca26"
            ],
            [
             1,
             "#f0f921"
            ]
           ]
          },
          "colorway": [
           "#636efa",
           "#EF553B",
           "#00cc96",
           "#ab63fa",
           "#FFA15A",
           "#19d3f3",
           "#FF6692",
           "#B6E880",
           "#FF97FF",
           "#FECB52"
          ],
          "font": {
           "color": "#2a3f5f"
          },
          "geo": {
           "bgcolor": "white",
           "lakecolor": "white",
           "landcolor": "#E5ECF6",
           "showlakes": true,
           "showland": true,
           "subunitcolor": "white"
          },
          "hoverlabel": {
           "align": "left"
          },
          "hovermode": "closest",
          "mapbox": {
           "style": "light"
          },
          "paper_bgcolor": "white",
          "plot_bgcolor": "#E5ECF6",
          "polar": {
           "angularaxis": {
            "gridcolor": "white",
            "linecolor": "white",
            "ticks": ""
           },
           "bgcolor": "#E5ECF6",
           "radialaxis": {
            "gridcolor": "white",
            "linecolor": "white",
            "ticks": ""
           }
          },
          "scene": {
           "xaxis": {
            "backgroundcolor": "#E5ECF6",
            "gridcolor": "white",
            "gridwidth": 2,
            "linecolor": "white",
            "showbackground": true,
            "ticks": "",
            "zerolinecolor": "white"
           },
           "yaxis": {
            "backgroundcolor": "#E5ECF6",
            "gridcolor": "white",
            "gridwidth": 2,
            "linecolor": "white",
            "showbackground": true,
            "ticks": "",
            "zerolinecolor": "white"
           },
           "zaxis": {
            "backgroundcolor": "#E5ECF6",
            "gridcolor": "white",
            "gridwidth": 2,
            "linecolor": "white",
            "showbackground": true,
            "ticks": "",
            "zerolinecolor": "white"
           }
          },
          "shapedefaults": {
           "line": {
            "color": "#2a3f5f"
           }
          },
          "ternary": {
           "aaxis": {
            "gridcolor": "white",
            "linecolor": "white",
            "ticks": ""
           },
           "baxis": {
            "gridcolor": "white",
            "linecolor": "white",
            "ticks": ""
           },
           "bgcolor": "#E5ECF6",
           "caxis": {
            "gridcolor": "white",
            "linecolor": "white",
            "ticks": ""
           }
          },
          "title": {
           "x": 0.05
          },
          "xaxis": {
           "automargin": true,
           "gridcolor": "white",
           "linecolor": "white",
           "ticks": "",
           "title": {
            "standoff": 15
           },
           "zerolinecolor": "white",
           "zerolinewidth": 2
          },
          "yaxis": {
           "automargin": true,
           "gridcolor": "white",
           "linecolor": "white",
           "ticks": "",
           "title": {
            "standoff": 15
           },
           "zerolinecolor": "white",
           "zerolinewidth": 2
          }
         }
        },
        "width": 900,
        "xaxis": {
         "anchor": "y",
         "domain": [
          0,
          0.98
         ],
         "dtick": 1,
         "range": [
          1975,
          2017
         ],
         "title": {
          "text": ""
         }
        },
        "xaxis2": {
         "anchor": "y2",
         "domain": [
          0,
          0.98
         ],
         "dtick": 1,
         "matches": "x",
         "showticklabels": false
        },
        "xaxis3": {
         "anchor": "y3",
         "domain": [
          0,
          0.98
         ],
         "dtick": 1,
         "matches": "x",
         "showticklabels": false
        },
        "yaxis": {
         "anchor": "x",
         "domain": [
          0,
          0.32666666666666666
         ],
         "title": {
          "text": "Yield (mt/ha)"
         }
        },
        "yaxis2": {
         "anchor": "x2",
         "domain": [
          0.33666666666666667,
          0.6633333333333333
         ],
         "title": {
          "text": "Area (ha)"
         }
        },
        "yaxis3": {
         "anchor": "x3",
         "domain": [
          0.6733333333333333,
          1
         ],
         "title": {
          "text": "Production (mt)"
         }
        }
       }
      }
     },
     "metadata": {},
     "output_type": "display_data"
    },
    {
     "name": "stdout",
     "output_type": "stream",
     "text": [
      "../figures/SD_line_pay_Wheat_Winter.png is saved.\n"
     ]
    },
    {
     "data": {
      "application/vnd.plotly.v1+json": {
       "config": {
        "plotlyServerURL": "https://plot.ly"
       },
       "data": [
        {
         "connectgaps": false,
         "hovertemplate": "fnid=SD2013A101<br>indicator=production<br>year=%{x}<br>value=%{y}<extra></extra>",
         "legendgroup": "SD2013A101",
         "line": {
          "color": "#636efa",
          "dash": "solid"
         },
         "marker": {
          "symbol": "circle"
         },
         "mode": "markers+lines",
         "name": "SD2013A101",
         "showlegend": true,
         "type": "scattergl",
         "x": [
          1975,
          1976,
          1977,
          1978,
          1979,
          1980,
          1981,
          1982,
          1983,
          1984,
          1985,
          1986,
          1987,
          1988,
          1989,
          1990,
          1991,
          1992,
          1993,
          1994,
          1995,
          1996,
          1997,
          1998,
          1999,
          2000,
          2001,
          2002,
          2003,
          2004,
          2005,
          2006,
          2007,
          2008,
          2009,
          2010,
          2011,
          2012,
          2013,
          2014,
          2015,
          2016
         ],
         "xaxis": "x3",
         "y": [
          null,
          null,
          null,
          null,
          null,
          null,
          null,
          null,
          null,
          null,
          null,
          null,
          null,
          null,
          null,
          840,
          840,
          420,
          420,
          null,
          null,
          null,
          420,
          null,
          null,
          null,
          null,
          null,
          null,
          null,
          null,
          null,
          2520,
          9660,
          5460,
          1680,
          840,
          840,
          null,
          6000,
          null,
          null
         ],
         "yaxis": "y3"
        },
        {
         "connectgaps": false,
         "hovertemplate": "fnid=SD2013A101<br>indicator=area<br>year=%{x}<br>value=%{y}<extra></extra>",
         "legendgroup": "SD2013A101",
         "line": {
          "color": "#636efa",
          "dash": "solid"
         },
         "marker": {
          "symbol": "circle"
         },
         "mode": "markers+lines",
         "name": "SD2013A101",
         "showlegend": false,
         "type": "scattergl",
         "x": [
          1975,
          1976,
          1977,
          1978,
          1979,
          1980,
          1981,
          1982,
          1983,
          1984,
          1985,
          1986,
          1987,
          1988,
          1989,
          1990,
          1991,
          1992,
          1993,
          1994,
          1995,
          1996,
          1997,
          1998,
          1999,
          2000,
          2001,
          2002,
          2003,
          2004,
          2005,
          2006,
          2007,
          2008,
          2009,
          2010,
          2011,
          2012,
          2013,
          2014,
          2015,
          2016
         ],
         "xaxis": "x2",
         "y": [
          null,
          null,
          null,
          null,
          null,
          null,
          null,
          null,
          null,
          null,
          null,
          null,
          null,
          null,
          null,
          1680,
          2100,
          840,
          840,
          null,
          null,
          null,
          840,
          null,
          null,
          null,
          null,
          null,
          null,
          null,
          null,
          null,
          2940,
          14280,
          7980,
          2100,
          1260,
          1260,
          null,
          3360,
          null,
          null
         ],
         "yaxis": "y2"
        },
        {
         "connectgaps": false,
         "hovertemplate": "fnid=SD2013A101<br>indicator=yield<br>year=%{x}<br>value=%{y}<extra></extra>",
         "legendgroup": "SD2013A101",
         "line": {
          "color": "#636efa",
          "dash": "solid"
         },
         "marker": {
          "symbol": "circle"
         },
         "mode": "markers+lines",
         "name": "SD2013A101",
         "showlegend": false,
         "type": "scattergl",
         "x": [
          1975,
          1976,
          1977,
          1978,
          1979,
          1980,
          1981,
          1982,
          1983,
          1984,
          1985,
          1986,
          1987,
          1988,
          1989,
          1990,
          1991,
          1992,
          1993,
          1994,
          1995,
          1996,
          1997,
          1998,
          1999,
          2000,
          2001,
          2002,
          2003,
          2004,
          2005,
          2006,
          2007,
          2008,
          2009,
          2010,
          2011,
          2012,
          2013,
          2014,
          2015,
          2016
         ],
         "xaxis": "x",
         "y": [
          null,
          null,
          null,
          null,
          null,
          null,
          null,
          null,
          null,
          null,
          null,
          null,
          null,
          null,
          null,
          0.5,
          0.4,
          0.5,
          0.5,
          null,
          null,
          null,
          0.5,
          null,
          null,
          null,
          null,
          null,
          null,
          null,
          null,
          null,
          0.8571428571428571,
          0.6764705882352942,
          0.6842105263157895,
          0.8,
          0.6666666666666666,
          0.6666666666666666,
          null,
          1.7857142857142858,
          null,
          null
         ],
         "yaxis": "y"
        },
        {
         "connectgaps": false,
         "hovertemplate": "fnid=SD2013A108<br>indicator=production<br>year=%{x}<br>value=%{y}<extra></extra>",
         "legendgroup": "SD2013A108",
         "line": {
          "color": "#EF553B",
          "dash": "solid"
         },
         "marker": {
          "symbol": "circle"
         },
         "mode": "markers+lines",
         "name": "SD2013A108",
         "showlegend": true,
         "type": "scattergl",
         "x": [
          1975,
          1976,
          1977,
          1978,
          1979,
          1980,
          1981,
          1982,
          1983,
          1984,
          1985,
          1986,
          1987,
          1988,
          1989,
          1990,
          1991,
          1992,
          1993,
          1994,
          1995,
          1996,
          1997,
          1998,
          1999,
          2000,
          2001,
          2002,
          2003,
          2004,
          2005,
          2006,
          2007,
          2008,
          2009,
          2010,
          2011,
          2012,
          2013,
          2014,
          2015,
          2016
         ],
         "xaxis": "x3",
         "y": [
          null,
          null,
          null,
          null,
          null,
          null,
          null,
          null,
          null,
          null,
          null,
          null,
          null,
          null,
          null,
          4620,
          4620,
          1260,
          1260,
          147,
          null,
          420,
          null,
          null,
          null,
          null,
          null,
          null,
          null,
          null,
          null,
          null,
          null,
          null,
          null,
          null,
          null,
          null,
          null,
          null,
          null,
          null
         ],
         "yaxis": "y3"
        },
        {
         "connectgaps": false,
         "hovertemplate": "fnid=SD2013A108<br>indicator=area<br>year=%{x}<br>value=%{y}<extra></extra>",
         "legendgroup": "SD2013A108",
         "line": {
          "color": "#EF553B",
          "dash": "solid"
         },
         "marker": {
          "symbol": "circle"
         },
         "mode": "markers+lines",
         "name": "SD2013A108",
         "showlegend": false,
         "type": "scattergl",
         "x": [
          1975,
          1976,
          1977,
          1978,
          1979,
          1980,
          1981,
          1982,
          1983,
          1984,
          1985,
          1986,
          1987,
          1988,
          1989,
          1990,
          1991,
          1992,
          1993,
          1994,
          1995,
          1996,
          1997,
          1998,
          1999,
          2000,
          2001,
          2002,
          2003,
          2004,
          2005,
          2006,
          2007,
          2008,
          2009,
          2010,
          2011,
          2012,
          2013,
          2014,
          2015,
          2016
         ],
         "xaxis": "x2",
         "y": [
          null,
          null,
          null,
          null,
          null,
          null,
          null,
          null,
          null,
          null,
          null,
          null,
          null,
          null,
          null,
          13440,
          7140,
          4200,
          2940,
          420,
          null,
          840,
          null,
          null,
          null,
          null,
          null,
          null,
          null,
          null,
          null,
          null,
          null,
          null,
          null,
          null,
          null,
          null,
          null,
          null,
          null,
          null
         ],
         "yaxis": "y2"
        },
        {
         "connectgaps": false,
         "hovertemplate": "fnid=SD2013A108<br>indicator=yield<br>year=%{x}<br>value=%{y}<extra></extra>",
         "legendgroup": "SD2013A108",
         "line": {
          "color": "#EF553B",
          "dash": "solid"
         },
         "marker": {
          "symbol": "circle"
         },
         "mode": "markers+lines",
         "name": "SD2013A108",
         "showlegend": false,
         "type": "scattergl",
         "x": [
          1975,
          1976,
          1977,
          1978,
          1979,
          1980,
          1981,
          1982,
          1983,
          1984,
          1985,
          1986,
          1987,
          1988,
          1989,
          1990,
          1991,
          1992,
          1993,
          1994,
          1995,
          1996,
          1997,
          1998,
          1999,
          2000,
          2001,
          2002,
          2003,
          2004,
          2005,
          2006,
          2007,
          2008,
          2009,
          2010,
          2011,
          2012,
          2013,
          2014,
          2015,
          2016
         ],
         "xaxis": "x",
         "y": [
          null,
          null,
          null,
          null,
          null,
          null,
          null,
          null,
          null,
          null,
          null,
          null,
          null,
          null,
          null,
          0.34375,
          0.6470588235294118,
          0.3,
          0.4285714285714285,
          0.35,
          null,
          0.5,
          null,
          null,
          null,
          null,
          null,
          null,
          null,
          null,
          null,
          null,
          null,
          null,
          null,
          null,
          null,
          null,
          null,
          null,
          null,
          null
         ],
         "yaxis": "y"
        },
        {
         "connectgaps": false,
         "hovertemplate": "fnid=SD2013A109<br>indicator=production<br>year=%{x}<br>value=%{y}<extra></extra>",
         "legendgroup": "SD2013A109",
         "line": {
          "color": "#00cc96",
          "dash": "solid"
         },
         "marker": {
          "symbol": "circle"
         },
         "mode": "markers+lines",
         "name": "SD2013A109",
         "showlegend": true,
         "type": "scattergl",
         "x": [
          1975,
          1976,
          1977,
          1978,
          1979,
          1980,
          1981,
          1982,
          1983,
          1984,
          1985,
          1986,
          1987,
          1988,
          1989,
          1990,
          1991,
          1992,
          1993,
          1994,
          1995,
          1996,
          1997,
          1998,
          1999,
          2000,
          2001,
          2002,
          2003,
          2004,
          2005,
          2006,
          2007,
          2008,
          2009,
          2010,
          2011,
          2012,
          2013,
          2014,
          2015,
          2016
         ],
         "xaxis": "x3",
         "y": [
          883.1689787731907,
          794.8520808958716,
          2649.506936319572,
          883.1689787731907,
          null,
          883.1689787731907,
          1766.3379575463814,
          null,
          3532.675915092763,
          3974.260404479358,
          null,
          1324.753468159786,
          7948.520808958716,
          1501.3872639144242,
          3532.675915092763,
          34496.580310880825,
          29674.47768677921,
          12982.583987965903,
          12240.722045796423,
          5563.964566271101,
          6676.757479525321,
          10015.136219287982,
          1112.79291325422,
          741.8619421694801,
          370.93097108474007,
          1854.6548554237004,
          1854.6548554237004,
          2967.4477686779205,
          741.8619421694801,
          7789.550392779542,
          8902.343306033761,
          17025.73157278957,
          12611.653016881162,
          15579.100785559083,
          10756.998161457464,
          7789.550392779542,
          null,
          null,
          28000,
          37000,
          29000,
          9000
         ],
         "yaxis": "y3"
        },
        {
         "connectgaps": false,
         "hovertemplate": "fnid=SD2013A109<br>indicator=area<br>year=%{x}<br>value=%{y}<extra></extra>",
         "legendgroup": "SD2013A109",
         "line": {
          "color": "#00cc96",
          "dash": "solid"
         },
         "marker": {
          "symbol": "circle"
         },
         "mode": "markers+lines",
         "name": "SD2013A109",
         "showlegend": false,
         "type": "scattergl",
         "x": [
          1975,
          1976,
          1977,
          1978,
          1979,
          1980,
          1981,
          1982,
          1983,
          1984,
          1985,
          1986,
          1987,
          1988,
          1989,
          1990,
          1991,
          1992,
          1993,
          1994,
          1995,
          1996,
          1997,
          1998,
          1999,
          2000,
          2001,
          2002,
          2003,
          2004,
          2005,
          2006,
          2007,
          2008,
          2009,
          2010,
          2011,
          2012,
          2013,
          2014,
          2015,
          2016
         ],
         "xaxis": "x2",
         "y": [
          883.1689787731907,
          971.4858766505098,
          4415.844893865953,
          1766.3379575463814,
          null,
          883.1689787731907,
          2649.506936319572,
          null,
          2649.506936319572,
          2384.556242687615,
          null,
          1148.119672405148,
          7065.351830185526,
          1148.119672405148,
          3532.675915092763,
          53784.990807287315,
          37093.09710847401,
          22626.789236169145,
          22255.858265084404,
          11869.791074711682,
          10015.136219287982,
          16691.893698813303,
          2225.5858265084403,
          2225.5858265084403,
          1112.79291325422,
          2967.4477686779205,
          2967.4477686779205,
          3338.3787397626606,
          1112.79291325422,
          11869.791074711682,
          11869.791074711682,
          18917.479525321745,
          17804.686612067522,
          25965.167975931807,
          15579.100785559083,
          9644.20524820324,
          null,
          null,
          15120,
          17220,
          15231.09,
          5000
         ],
         "yaxis": "y2"
        },
        {
         "connectgaps": false,
         "hovertemplate": "fnid=SD2013A109<br>indicator=yield<br>year=%{x}<br>value=%{y}<extra></extra>",
         "legendgroup": "SD2013A109",
         "line": {
          "color": "#00cc96",
          "dash": "solid"
         },
         "marker": {
          "symbol": "circle"
         },
         "mode": "markers+lines",
         "name": "SD2013A109",
         "showlegend": false,
         "type": "scattergl",
         "x": [
          1975,
          1976,
          1977,
          1978,
          1979,
          1980,
          1981,
          1982,
          1983,
          1984,
          1985,
          1986,
          1987,
          1988,
          1989,
          1990,
          1991,
          1992,
          1993,
          1994,
          1995,
          1996,
          1997,
          1998,
          1999,
          2000,
          2001,
          2002,
          2003,
          2004,
          2005,
          2006,
          2007,
          2008,
          2009,
          2010,
          2011,
          2012,
          2013,
          2014,
          2015,
          2016
         ],
         "xaxis": "x",
         "y": [
          1,
          0.8181818181818181,
          0.6000000000000001,
          0.5,
          null,
          1,
          0.6666666666666666,
          null,
          1.3333333333333333,
          1.6666666666666663,
          null,
          1.153846153846154,
          1.125,
          1.3076923076923077,
          1,
          0.6413793103448275,
          0.7999999999999999,
          0.5737704918032788,
          0.55,
          0.46875,
          0.6666666666666666,
          0.6000000000000001,
          0.5,
          0.3333333333333333,
          0.3333333333333333,
          0.625,
          0.625,
          0.8888888888888888,
          0.6666666666666667,
          0.65625,
          0.75,
          0.8999999999999999,
          0.7083333333333334,
          0.6,
          0.6904761904761905,
          0.8076923076923077,
          null,
          null,
          1.851851851851852,
          2.148664343786295,
          1.9040003046400489,
          1.8
         ],
         "yaxis": "y"
        },
        {
         "connectgaps": false,
         "hovertemplate": "fnid=SD2013A111<br>indicator=production<br>year=%{x}<br>value=%{y}<extra></extra>",
         "legendgroup": "SD2013A111",
         "line": {
          "color": "#ab63fa",
          "dash": "solid"
         },
         "marker": {
          "symbol": "circle"
         },
         "mode": "markers+lines",
         "name": "SD2013A111",
         "showlegend": true,
         "type": "scattergl",
         "x": [
          1975,
          1976,
          1977,
          1978,
          1979,
          1980,
          1981,
          1982,
          1983,
          1984,
          1985,
          1986,
          1987,
          1988,
          1989,
          1990,
          1991,
          1992,
          1993,
          1994,
          1995,
          1996,
          1997,
          1998,
          1999,
          2000,
          2001,
          2002,
          2003,
          2004,
          2005,
          2006,
          2007,
          2008,
          2009,
          2010,
          2011,
          2012,
          2013,
          2014,
          2015,
          2016
         ],
         "xaxis": "x3",
         "y": [
          null,
          null,
          null,
          null,
          null,
          null,
          null,
          null,
          null,
          null,
          null,
          null,
          null,
          null,
          null,
          20160,
          18480,
          13020,
          9240,
          9660,
          13020,
          14700,
          16800,
          7560,
          2940,
          9240,
          9240,
          1260,
          5880,
          1260,
          2100,
          1260,
          5460,
          null,
          null,
          5880,
          6300,
          5040,
          24000,
          37000,
          44000,
          50000
         ],
         "yaxis": "y3"
        },
        {
         "connectgaps": false,
         "hovertemplate": "fnid=SD2013A111<br>indicator=area<br>year=%{x}<br>value=%{y}<extra></extra>",
         "legendgroup": "SD2013A111",
         "line": {
          "color": "#ab63fa",
          "dash": "solid"
         },
         "marker": {
          "symbol": "circle"
         },
         "mode": "markers+lines",
         "name": "SD2013A111",
         "showlegend": false,
         "type": "scattergl",
         "x": [
          1975,
          1976,
          1977,
          1978,
          1979,
          1980,
          1981,
          1982,
          1983,
          1984,
          1985,
          1986,
          1987,
          1988,
          1989,
          1990,
          1991,
          1992,
          1993,
          1994,
          1995,
          1996,
          1997,
          1998,
          1999,
          2000,
          2001,
          2002,
          2003,
          2004,
          2005,
          2006,
          2007,
          2008,
          2009,
          2010,
          2011,
          2012,
          2013,
          2014,
          2015,
          2016
         ],
         "xaxis": "x2",
         "y": [
          null,
          null,
          null,
          null,
          null,
          null,
          null,
          null,
          null,
          null,
          null,
          null,
          null,
          null,
          null,
          34440,
          26040,
          22260,
          26040,
          18900,
          21840,
          25620,
          23940,
          19320,
          5880,
          13020,
          13020,
          2100,
          8400,
          2100,
          3360,
          1680,
          13860,
          null,
          null,
          11760,
          9240,
          7560,
          14280,
          17220,
          20541.55,
          21000
         ],
         "yaxis": "y2"
        },
        {
         "connectgaps": false,
         "hovertemplate": "fnid=SD2013A111<br>indicator=yield<br>year=%{x}<br>value=%{y}<extra></extra>",
         "legendgroup": "SD2013A111",
         "line": {
          "color": "#ab63fa",
          "dash": "solid"
         },
         "marker": {
          "symbol": "circle"
         },
         "mode": "markers+lines",
         "name": "SD2013A111",
         "showlegend": false,
         "type": "scattergl",
         "x": [
          1975,
          1976,
          1977,
          1978,
          1979,
          1980,
          1981,
          1982,
          1983,
          1984,
          1985,
          1986,
          1987,
          1988,
          1989,
          1990,
          1991,
          1992,
          1993,
          1994,
          1995,
          1996,
          1997,
          1998,
          1999,
          2000,
          2001,
          2002,
          2003,
          2004,
          2005,
          2006,
          2007,
          2008,
          2009,
          2010,
          2011,
          2012,
          2013,
          2014,
          2015,
          2016
         ],
         "xaxis": "x",
         "y": [
          null,
          null,
          null,
          null,
          null,
          null,
          null,
          null,
          null,
          null,
          null,
          null,
          null,
          null,
          null,
          0.5853658536585366,
          0.7096774193548387,
          0.5849056603773585,
          0.3548387096774194,
          0.5111111111111111,
          0.5961538461538461,
          0.5737704918032787,
          0.7017543859649122,
          0.391304347826087,
          0.5,
          0.7096774193548387,
          0.7096774193548387,
          0.6,
          0.7,
          0.6,
          0.625,
          0.75,
          0.3939393939393939,
          null,
          null,
          0.5,
          0.6818181818181818,
          0.6666666666666666,
          1.680672268907563,
          2.148664343786295,
          2.1419999951318185,
          2.380952380952381
         ],
         "yaxis": "y"
        },
        {
         "connectgaps": false,
         "hovertemplate": "fnid=SD2013A112<br>indicator=production<br>year=%{x}<br>value=%{y}<extra></extra>",
         "legendgroup": "SD2013A112",
         "line": {
          "color": "#FFA15A",
          "dash": "solid"
         },
         "marker": {
          "symbol": "circle"
         },
         "mode": "markers+lines",
         "name": "SD2013A112",
         "showlegend": true,
         "type": "scattergl",
         "x": [
          1975,
          1976,
          1977,
          1978,
          1979,
          1980,
          1981,
          1982,
          1983,
          1984,
          1985,
          1986,
          1987,
          1988,
          1989,
          1990,
          1991,
          1992,
          1993,
          1994,
          1995,
          1996,
          1997,
          1998,
          1999,
          2000,
          2001,
          2002,
          2003,
          2004,
          2005,
          2006,
          2007,
          2008,
          2009,
          2010,
          2011,
          2012,
          2013,
          2014,
          2015,
          2016
         ],
         "xaxis": "x3",
         "y": [
          null,
          null,
          null,
          null,
          null,
          null,
          null,
          null,
          null,
          null,
          null,
          null,
          null,
          null,
          null,
          12600,
          26460,
          12600,
          10080,
          8820,
          9660,
          7980,
          3780,
          1260,
          null,
          null,
          null,
          null,
          null,
          null,
          null,
          null,
          420,
          4200,
          null,
          null,
          null,
          null,
          null,
          null,
          1000,
          2000
         ],
         "yaxis": "y3"
        },
        {
         "connectgaps": false,
         "hovertemplate": "fnid=SD2013A112<br>indicator=area<br>year=%{x}<br>value=%{y}<extra></extra>",
         "legendgroup": "SD2013A112",
         "line": {
          "color": "#FFA15A",
          "dash": "solid"
         },
         "marker": {
          "symbol": "circle"
         },
         "mode": "markers+lines",
         "name": "SD2013A112",
         "showlegend": false,
         "type": "scattergl",
         "x": [
          1975,
          1976,
          1977,
          1978,
          1979,
          1980,
          1981,
          1982,
          1983,
          1984,
          1985,
          1986,
          1987,
          1988,
          1989,
          1990,
          1991,
          1992,
          1993,
          1994,
          1995,
          1996,
          1997,
          1998,
          1999,
          2000,
          2001,
          2002,
          2003,
          2004,
          2005,
          2006,
          2007,
          2008,
          2009,
          2010,
          2011,
          2012,
          2013,
          2014,
          2015,
          2016
         ],
         "xaxis": "x2",
         "y": [
          null,
          null,
          null,
          null,
          null,
          null,
          null,
          null,
          null,
          null,
          null,
          null,
          null,
          null,
          null,
          26460,
          27720,
          23520,
          24780,
          16380,
          16380,
          16380,
          6720,
          8400,
          null,
          null,
          null,
          null,
          null,
          null,
          null,
          null,
          420,
          7140,
          null,
          null,
          null,
          null,
          null,
          null,
          600.24,
          1000
         ],
         "yaxis": "y2"
        },
        {
         "connectgaps": false,
         "hovertemplate": "fnid=SD2013A112<br>indicator=yield<br>year=%{x}<br>value=%{y}<extra></extra>",
         "legendgroup": "SD2013A112",
         "line": {
          "color": "#FFA15A",
          "dash": "solid"
         },
         "marker": {
          "symbol": "circle"
         },
         "mode": "markers+lines",
         "name": "SD2013A112",
         "showlegend": false,
         "type": "scattergl",
         "x": [
          1975,
          1976,
          1977,
          1978,
          1979,
          1980,
          1981,
          1982,
          1983,
          1984,
          1985,
          1986,
          1987,
          1988,
          1989,
          1990,
          1991,
          1992,
          1993,
          1994,
          1995,
          1996,
          1997,
          1998,
          1999,
          2000,
          2001,
          2002,
          2003,
          2004,
          2005,
          2006,
          2007,
          2008,
          2009,
          2010,
          2011,
          2012,
          2013,
          2014,
          2015,
          2016
         ],
         "xaxis": "x",
         "y": [
          null,
          null,
          null,
          null,
          null,
          null,
          null,
          null,
          null,
          null,
          null,
          null,
          null,
          null,
          null,
          0.4761904761904761,
          0.9545454545454546,
          0.5357142857142857,
          0.4067796610169492,
          0.5384615384615384,
          0.5897435897435898,
          0.4871794871794871,
          0.5625,
          0.15,
          null,
          null,
          null,
          null,
          null,
          null,
          null,
          null,
          1,
          0.5882352941176471,
          null,
          null,
          null,
          null,
          null,
          null,
          1.6660002665600426,
          2
         ],
         "yaxis": "y"
        },
        {
         "connectgaps": false,
         "hovertemplate": "fnid=SD2013A114<br>indicator=production<br>year=%{x}<br>value=%{y}<extra></extra>",
         "legendgroup": "SD2013A114",
         "line": {
          "color": "#19d3f3",
          "dash": "solid"
         },
         "marker": {
          "symbol": "circle"
         },
         "mode": "markers+lines",
         "name": "SD2013A114",
         "showlegend": true,
         "type": "scattergl",
         "x": [
          1975,
          1976,
          1977,
          1978,
          1979,
          1980,
          1981,
          1982,
          1983,
          1984,
          1985,
          1986,
          1987,
          1988,
          1989,
          1990,
          1991,
          1992,
          1993,
          1994,
          1995,
          1996,
          1997,
          1998,
          1999,
          2000,
          2001,
          2002,
          2003,
          2004,
          2005,
          2006,
          2007,
          2008,
          2009,
          2010,
          2011,
          2012,
          2013,
          2014,
          2015,
          2016
         ],
         "xaxis": "x3",
         "y": [
          null,
          null,
          null,
          null,
          null,
          null,
          null,
          null,
          null,
          null,
          null,
          null,
          null,
          null,
          null,
          1260,
          null,
          null,
          null,
          null,
          null,
          null,
          420,
          null,
          null,
          null,
          null,
          null,
          null,
          null,
          null,
          null,
          5040,
          2100,
          3360,
          1680,
          420,
          null,
          2000,
          null,
          null,
          5000
         ],
         "yaxis": "y3"
        },
        {
         "connectgaps": false,
         "hovertemplate": "fnid=SD2013A114<br>indicator=area<br>year=%{x}<br>value=%{y}<extra></extra>",
         "legendgroup": "SD2013A114",
         "line": {
          "color": "#19d3f3",
          "dash": "solid"
         },
         "marker": {
          "symbol": "circle"
         },
         "mode": "markers+lines",
         "name": "SD2013A114",
         "showlegend": false,
         "type": "scattergl",
         "x": [
          1975,
          1976,
          1977,
          1978,
          1979,
          1980,
          1981,
          1982,
          1983,
          1984,
          1985,
          1986,
          1987,
          1988,
          1989,
          1990,
          1991,
          1992,
          1993,
          1994,
          1995,
          1996,
          1997,
          1998,
          1999,
          2000,
          2001,
          2002,
          2003,
          2004,
          2005,
          2006,
          2007,
          2008,
          2009,
          2010,
          2011,
          2012,
          2013,
          2014,
          2015,
          2016
         ],
         "xaxis": "x2",
         "y": [
          null,
          null,
          null,
          null,
          null,
          null,
          null,
          null,
          null,
          null,
          null,
          null,
          null,
          null,
          null,
          4200,
          null,
          null,
          null,
          null,
          null,
          null,
          840,
          null,
          null,
          null,
          null,
          null,
          null,
          null,
          null,
          null,
          5460,
          4620,
          4620,
          2940,
          840,
          null,
          1260,
          null,
          null,
          3000
         ],
         "yaxis": "y2"
        },
        {
         "connectgaps": false,
         "hovertemplate": "fnid=SD2013A114<br>indicator=yield<br>year=%{x}<br>value=%{y}<extra></extra>",
         "legendgroup": "SD2013A114",
         "line": {
          "color": "#19d3f3",
          "dash": "solid"
         },
         "marker": {
          "symbol": "circle"
         },
         "mode": "markers+lines",
         "name": "SD2013A114",
         "showlegend": false,
         "type": "scattergl",
         "x": [
          1975,
          1976,
          1977,
          1978,
          1979,
          1980,
          1981,
          1982,
          1983,
          1984,
          1985,
          1986,
          1987,
          1988,
          1989,
          1990,
          1991,
          1992,
          1993,
          1994,
          1995,
          1996,
          1997,
          1998,
          1999,
          2000,
          2001,
          2002,
          2003,
          2004,
          2005,
          2006,
          2007,
          2008,
          2009,
          2010,
          2011,
          2012,
          2013,
          2014,
          2015,
          2016
         ],
         "xaxis": "x",
         "y": [
          null,
          null,
          null,
          null,
          null,
          null,
          null,
          null,
          null,
          null,
          null,
          null,
          null,
          null,
          null,
          0.3,
          null,
          null,
          null,
          null,
          null,
          null,
          0.5,
          null,
          null,
          null,
          null,
          null,
          null,
          null,
          null,
          null,
          0.9230769230769232,
          0.4545454545454545,
          0.7272727272727273,
          0.5714285714285714,
          0.5,
          null,
          1.5873015873015872,
          null,
          null,
          1.6666666666666667
         ],
         "yaxis": "y"
        },
        {
         "connectgaps": false,
         "hovertemplate": "fnid=SD2013A115<br>indicator=production<br>year=%{x}<br>value=%{y}<extra></extra>",
         "legendgroup": "SD2013A115",
         "line": {
          "color": "#FF6692",
          "dash": "solid"
         },
         "marker": {
          "symbol": "circle"
         },
         "mode": "markers+lines",
         "name": "SD2013A115",
         "showlegend": true,
         "type": "scattergl",
         "x": [
          1975,
          1976,
          1977,
          1978,
          1979,
          1980,
          1981,
          1982,
          1983,
          1984,
          1985,
          1986,
          1987,
          1988,
          1989,
          1990,
          1991,
          1992,
          1993,
          1994,
          1995,
          1996,
          1997,
          1998,
          1999,
          2000,
          2001,
          2002,
          2003,
          2004,
          2005,
          2006,
          2007,
          2008,
          2009,
          2010,
          2011,
          2012,
          2013,
          2014,
          2015,
          2016
         ],
         "xaxis": "x3",
         "y": [
          116.83102122680928,
          105.14791910412836,
          350.49306368042784,
          116.83102122680928,
          null,
          116.83102122680928,
          233.66204245361857,
          null,
          467.32408490723714,
          525.7395955206418,
          null,
          175.24653184021392,
          1051.4791910412837,
          198.6127360855758,
          467.32408490723714,
          144843.41968911918,
          211825.5223132208,
          119317.4160120341,
          120059.27795420356,
          97336.0354337289,
          107563.24252047468,
          114724.863780712,
          109767.20708674578,
          14378.13805783052,
          9289.06902891526,
          22085.3451445763,
          22085.3451445763,
          42392.55223132208,
          71918.13805783053,
          48910.44960722046,
          52417.65669396624,
          97172.26842721042,
          149928.34698311883,
          104960.89921444091,
          87103.00183854254,
          57310.44960722046,
          77700,
          55860,
          74000,
          270000,
          284000,
          303000
         ],
         "yaxis": "y3"
        },
        {
         "connectgaps": false,
         "hovertemplate": "fnid=SD2013A115<br>indicator=area<br>year=%{x}<br>value=%{y}<extra></extra>",
         "legendgroup": "SD2013A115",
         "line": {
          "color": "#FF6692",
          "dash": "solid"
         },
         "marker": {
          "symbol": "circle"
         },
         "mode": "markers+lines",
         "name": "SD2013A115",
         "showlegend": false,
         "type": "scattergl",
         "x": [
          1975,
          1976,
          1977,
          1978,
          1979,
          1980,
          1981,
          1982,
          1983,
          1984,
          1985,
          1986,
          1987,
          1988,
          1989,
          1990,
          1991,
          1992,
          1993,
          1994,
          1995,
          1996,
          1997,
          1998,
          1999,
          2000,
          2001,
          2002,
          2003,
          2004,
          2005,
          2006,
          2007,
          2008,
          2009,
          2010,
          2011,
          2012,
          2013,
          2014,
          2015,
          2016
         ],
         "xaxis": "x2",
         "y": [
          116.83102122680928,
          128.5141233494902,
          584.1551061340464,
          233.66204245361857,
          null,
          116.83102122680928,
          350.49306368042784,
          null,
          350.49306368042784,
          315.44375731238506,
          null,
          151.88032759485208,
          934.6481698144744,
          151.88032759485208,
          467.32408490723714,
          264155.00919271266,
          226246.902891526,
          212993.21076383087,
          225964.1417349156,
          162850.20892528832,
          165544.863780712,
          163908.1063011867,
          126714.41417349156,
          52794.41417349156,
          18207.20708674578,
          31472.55223132208,
          31472.55223132208,
          47061.62126023734,
          79947.20708674578,
          61210.20892528832,
          65830.20892528832,
          120522.52047467824,
          178755.3133879325,
          183614.8320240682,
          124700.89921444091,
          95355.79475179676,
          108360,
          84000,
          44100,
          126000,
          132586.37,
          152000
         ],
         "yaxis": "y2"
        },
        {
         "connectgaps": false,
         "hovertemplate": "fnid=SD2013A115<br>indicator=yield<br>year=%{x}<br>value=%{y}<extra></extra>",
         "legendgroup": "SD2013A115",
         "line": {
          "color": "#FF6692",
          "dash": "solid"
         },
         "marker": {
          "symbol": "circle"
         },
         "mode": "markers+lines",
         "name": "SD2013A115",
         "showlegend": false,
         "type": "scattergl",
         "x": [
          1975,
          1976,
          1977,
          1978,
          1979,
          1980,
          1981,
          1982,
          1983,
          1984,
          1985,
          1986,
          1987,
          1988,
          1989,
          1990,
          1991,
          1992,
          1993,
          1994,
          1995,
          1996,
          1997,
          1998,
          1999,
          2000,
          2001,
          2002,
          2003,
          2004,
          2005,
          2006,
          2007,
          2008,
          2009,
          2010,
          2011,
          2012,
          2013,
          2014,
          2015,
          2016
         ],
         "xaxis": "x",
         "y": [
          1,
          0.8181818181818182,
          0.6,
          0.5,
          null,
          1,
          0.6666666666666667,
          null,
          1.3333333333333337,
          1.666666666666667,
          null,
          1.1538461538461535,
          1.1250000000000002,
          1.3076923076923077,
          1,
          0.5483273632848262,
          0.9362582188131896,
          0.5601935178315826,
          0.5313200449965563,
          0.5977028588178496,
          0.6497528226726362,
          0.6999340445670282,
          0.8662566749230088,
          0.2723420324464909,
          0.5101863775514138,
          0.7017335290207747,
          0.7017335290207747,
          0.9007881814547646,
          0.8995703624742837,
          0.7990570603495138,
          0.7962553598068604,
          0.8062581834871789,
          0.8387350515156227,
          0.571636278275617,
          0.6984953788405049,
          0.6010169571382087,
          0.7170542635658915,
          0.665,
          1.6780045351473922,
          2.142857142857143,
          2.1419999657581696,
          1.993421052631579
         ],
         "yaxis": "y"
        },
        {
         "connectgaps": false,
         "hovertemplate": "fnid=SD2013A116<br>indicator=production<br>year=%{x}<br>value=%{y}<extra></extra>",
         "legendgroup": "SD2013A116",
         "line": {
          "color": "#B6E880",
          "dash": "solid"
         },
         "marker": {
          "symbol": "circle"
         },
         "mode": "markers+lines",
         "name": "SD2013A116",
         "showlegend": true,
         "type": "scattergl",
         "x": [
          1975,
          1976,
          1977,
          1978,
          1979,
          1980,
          1981,
          1982,
          1983,
          1984,
          1985,
          1986,
          1987,
          1988,
          1989,
          1990,
          1991,
          1992,
          1993,
          1994,
          1995,
          1996,
          1997,
          1998,
          1999,
          2000,
          2001,
          2002,
          2003,
          2004,
          2005,
          2006,
          2007,
          2008,
          2009,
          2010,
          2011,
          2012,
          2013,
          2014,
          2015,
          2016
         ],
         "xaxis": "x3",
         "y": [
          2000,
          3000,
          3000,
          3000,
          3000,
          3000,
          6000,
          null,
          4000,
          3000,
          6000,
          5000,
          4000,
          4000,
          18000,
          20160,
          16800,
          8400,
          13440,
          17640,
          21000,
          36120,
          30240,
          10080,
          19740,
          25620,
          25620,
          21840,
          25620,
          30660,
          21000,
          64680,
          14700,
          24780,
          10080,
          12600,
          14700,
          18480,
          19000,
          30000,
          32000,
          36000
         ],
         "yaxis": "y3"
        },
        {
         "connectgaps": false,
         "hovertemplate": "fnid=SD2013A116<br>indicator=area<br>year=%{x}<br>value=%{y}<extra></extra>",
         "legendgroup": "SD2013A116",
         "line": {
          "color": "#B6E880",
          "dash": "solid"
         },
         "marker": {
          "symbol": "circle"
         },
         "mode": "markers+lines",
         "name": "SD2013A116",
         "showlegend": false,
         "type": "scattergl",
         "x": [
          1975,
          1976,
          1977,
          1978,
          1979,
          1980,
          1981,
          1982,
          1983,
          1984,
          1985,
          1986,
          1987,
          1988,
          1989,
          1990,
          1991,
          1992,
          1993,
          1994,
          1995,
          1996,
          1997,
          1998,
          1999,
          2000,
          2001,
          2002,
          2003,
          2004,
          2005,
          2006,
          2007,
          2008,
          2009,
          2010,
          2011,
          2012,
          2013,
          2014,
          2015,
          2016
         ],
         "xaxis": "x2",
         "y": [
          2000,
          2000,
          3000,
          2000,
          2000,
          2000,
          4000,
          null,
          2000,
          2000,
          4000,
          3000,
          3000,
          2000,
          8000,
          21840,
          16380,
          12180,
          18480,
          25200,
          26040,
          32760,
          27300,
          14280,
          16380,
          19740,
          19740,
          21840,
          26040,
          30660,
          29400,
          58800,
          21420,
          44520,
          12180,
          13440,
          16380,
          23100,
          10500,
          15960,
          15818.09,
          18000
         ],
         "yaxis": "y2"
        },
        {
         "connectgaps": false,
         "hovertemplate": "fnid=SD2013A116<br>indicator=yield<br>year=%{x}<br>value=%{y}<extra></extra>",
         "legendgroup": "SD2013A116",
         "line": {
          "color": "#B6E880",
          "dash": "solid"
         },
         "marker": {
          "symbol": "circle"
         },
         "mode": "markers+lines",
         "name": "SD2013A116",
         "showlegend": false,
         "type": "scattergl",
         "x": [
          1975,
          1976,
          1977,
          1978,
          1979,
          1980,
          1981,
          1982,
          1983,
          1984,
          1985,
          1986,
          1987,
          1988,
          1989,
          1990,
          1991,
          1992,
          1993,
          1994,
          1995,
          1996,
          1997,
          1998,
          1999,
          2000,
          2001,
          2002,
          2003,
          2004,
          2005,
          2006,
          2007,
          2008,
          2009,
          2010,
          2011,
          2012,
          2013,
          2014,
          2015,
          2016
         ],
         "xaxis": "x",
         "y": [
          1,
          1.5,
          1,
          1.5,
          1.5,
          1.5,
          1.5,
          null,
          2,
          1.5,
          1.5,
          1.6666666666666667,
          1.3333333333333333,
          2,
          2.25,
          0.9230769230769232,
          1.0256410256410255,
          0.6896551724137931,
          0.7272727272727273,
          0.7,
          0.8064516129032258,
          1.1025641025641026,
          1.1076923076923078,
          0.7058823529411765,
          1.205128205128205,
          1.297872340425532,
          1.297872340425532,
          1,
          0.9838709677419356,
          1,
          0.7142857142857143,
          1.1,
          0.6862745098039216,
          0.5566037735849056,
          0.8275862068965517,
          0.9375,
          0.8974358974358975,
          0.8,
          1.8095238095238095,
          1.8796992481203008,
          2.023000248449718,
          2
         ],
         "yaxis": "y"
        },
        {
         "connectgaps": false,
         "hovertemplate": "fnid=SD2013A117<br>indicator=production<br>year=%{x}<br>value=%{y}<extra></extra>",
         "legendgroup": "SD2013A117",
         "line": {
          "color": "#FF97FF",
          "dash": "solid"
         },
         "marker": {
          "symbol": "circle"
         },
         "mode": "markers+lines",
         "name": "SD2013A117",
         "showlegend": true,
         "type": "scattergl",
         "x": [
          1975,
          1976,
          1977,
          1978,
          1979,
          1980,
          1981,
          1982,
          1983,
          1984,
          1985,
          1986,
          1987,
          1988,
          1989,
          1990,
          1991,
          1992,
          1993,
          1994,
          1995,
          1996,
          1997,
          1998,
          1999,
          2000,
          2001,
          2002,
          2003,
          2004,
          2005,
          2006,
          2007,
          2008,
          2009,
          2010,
          2011,
          2012,
          2013,
          2014,
          2015,
          2016
         ],
         "xaxis": "x3",
         "y": [
          18000,
          19000,
          16000,
          11000,
          15000,
          16000,
          16000,
          null,
          13000,
          31000,
          40000,
          15000,
          30000,
          30000,
          67000,
          48720,
          41160,
          20160,
          32760,
          47880,
          60480,
          79800,
          81900,
          36960,
          56280,
          66780,
          66780,
          68460,
          61320,
          63840,
          89460,
          99792,
          54180,
          106260,
          50820,
          28140,
          28980,
          30240,
          41000,
          86000,
          90000,
          73000
         ],
         "yaxis": "y3"
        },
        {
         "connectgaps": false,
         "hovertemplate": "fnid=SD2013A117<br>indicator=area<br>year=%{x}<br>value=%{y}<extra></extra>",
         "legendgroup": "SD2013A117",
         "line": {
          "color": "#FF97FF",
          "dash": "solid"
         },
         "marker": {
          "symbol": "circle"
         },
         "mode": "markers+lines",
         "name": "SD2013A117",
         "showlegend": false,
         "type": "scattergl",
         "x": [
          1975,
          1976,
          1977,
          1978,
          1979,
          1980,
          1981,
          1982,
          1983,
          1984,
          1985,
          1986,
          1987,
          1988,
          1989,
          1990,
          1991,
          1992,
          1993,
          1994,
          1995,
          1996,
          1997,
          1998,
          1999,
          2000,
          2001,
          2002,
          2003,
          2004,
          2005,
          2006,
          2007,
          2008,
          2009,
          2010,
          2011,
          2012,
          2013,
          2014,
          2015,
          2016
         ],
         "xaxis": "x2",
         "y": [
          10000,
          10000,
          12000,
          10000,
          10000,
          10000,
          8000,
          null,
          6000,
          19000,
          21000,
          10000,
          16000,
          13000,
          23000,
          42000,
          31920,
          23520,
          36120,
          39900,
          50400,
          61320,
          63000,
          41160,
          47040,
          49560,
          49560,
          52500,
          54180,
          53340,
          63840,
          83160,
          57540,
          119700,
          56280,
          31080,
          28980,
          35700,
          27300,
          40320,
          42016.81,
          29000
         ],
         "yaxis": "y2"
        },
        {
         "connectgaps": false,
         "hovertemplate": "fnid=SD2013A117<br>indicator=yield<br>year=%{x}<br>value=%{y}<extra></extra>",
         "legendgroup": "SD2013A117",
         "line": {
          "color": "#FF97FF",
          "dash": "solid"
         },
         "marker": {
          "symbol": "circle"
         },
         "mode": "markers+lines",
         "name": "SD2013A117",
         "showlegend": false,
         "type": "scattergl",
         "x": [
          1975,
          1976,
          1977,
          1978,
          1979,
          1980,
          1981,
          1982,
          1983,
          1984,
          1985,
          1986,
          1987,
          1988,
          1989,
          1990,
          1991,
          1992,
          1993,
          1994,
          1995,
          1996,
          1997,
          1998,
          1999,
          2000,
          2001,
          2002,
          2003,
          2004,
          2005,
          2006,
          2007,
          2008,
          2009,
          2010,
          2011,
          2012,
          2013,
          2014,
          2015,
          2016
         ],
         "xaxis": "x",
         "y": [
          1.8,
          1.9,
          1.3333333333333333,
          1.1,
          1.5,
          1.6,
          2,
          null,
          2.1666666666666665,
          1.631578947368421,
          1.9047619047619049,
          1.5,
          1.875,
          2.3076923076923075,
          2.9130434782608696,
          1.16,
          1.2894736842105263,
          0.8571428571428571,
          0.9069767441860463,
          1.2,
          1.2,
          1.3013698630136987,
          1.3,
          0.8979591836734694,
          1.1964285714285714,
          1.347457627118644,
          1.347457627118644,
          1.304,
          1.131782945736434,
          1.1968503937007875,
          1.4013157894736843,
          1.2,
          0.9416058394160584,
          0.887719298245614,
          0.9029850746268656,
          0.9054054054054054,
          1,
          0.8470588235294118,
          1.5018315018315018,
          2.132936507936508,
          2.141999832924013,
          2.5172413793103448
         ],
         "yaxis": "y"
        }
       ],
       "layout": {
        "annotations": [
         {
          "showarrow": false,
          "text": "",
          "textangle": 90,
          "x": 0.98,
          "xanchor": "left",
          "xref": "paper",
          "y": 0.16333333333333333,
          "yanchor": "middle",
          "yref": "paper"
         },
         {
          "showarrow": false,
          "text": "",
          "textangle": 90,
          "x": 0.98,
          "xanchor": "left",
          "xref": "paper",
          "y": 0.5,
          "yanchor": "middle",
          "yref": "paper"
         },
         {
          "showarrow": false,
          "text": "",
          "textangle": 90,
          "x": 0.98,
          "xanchor": "left",
          "xref": "paper",
          "y": 0.8366666666666667,
          "yanchor": "middle",
          "yref": "paper"
         },
         {
          "align": "left",
          "font": {
           "color": "dimgrey",
           "family": "arial",
           "size": 15
          },
          "showarrow": false,
          "text": "Production-Area-Yield time-series of SD - Wheat - Winter",
          "x": -0.014,
          "xref": "paper",
          "y": -0.14,
          "yref": "paper"
         }
        ],
        "font": {
         "color": "black",
         "family": "arial",
         "size": 16
        },
        "height": 600,
        "legend": {
         "font": {
          "size": 14
         },
         "title": {
          "text": "FNID"
         },
         "tracegroupgap": 0,
         "x": 1,
         "xanchor": "left",
         "y": 1,
         "yanchor": "top"
        },
        "margin": {
         "b": 25,
         "l": 0,
         "r": 0,
         "t": 0
        },
        "template": {
         "data": {
          "bar": [
           {
            "error_x": {
             "color": "#2a3f5f"
            },
            "error_y": {
             "color": "#2a3f5f"
            },
            "marker": {
             "line": {
              "color": "#E5ECF6",
              "width": 0.5
             },
             "pattern": {
              "fillmode": "overlay",
              "size": 10,
              "solidity": 0.2
             }
            },
            "type": "bar"
           }
          ],
          "barpolar": [
           {
            "marker": {
             "line": {
              "color": "#E5ECF6",
              "width": 0.5
             },
             "pattern": {
              "fillmode": "overlay",
              "size": 10,
              "solidity": 0.2
             }
            },
            "type": "barpolar"
           }
          ],
          "carpet": [
           {
            "aaxis": {
             "endlinecolor": "#2a3f5f",
             "gridcolor": "white",
             "linecolor": "white",
             "minorgridcolor": "white",
             "startlinecolor": "#2a3f5f"
            },
            "baxis": {
             "endlinecolor": "#2a3f5f",
             "gridcolor": "white",
             "linecolor": "white",
             "minorgridcolor": "white",
             "startlinecolor": "#2a3f5f"
            },
            "type": "carpet"
           }
          ],
          "choropleth": [
           {
            "colorbar": {
             "outlinewidth": 0,
             "ticks": ""
            },
            "type": "choropleth"
           }
          ],
          "contour": [
           {
            "colorbar": {
             "outlinewidth": 0,
             "ticks": ""
            },
            "colorscale": [
             [
              0,
              "#0d0887"
             ],
             [
              0.1111111111111111,
              "#46039f"
             ],
             [
              0.2222222222222222,
              "#7201a8"
             ],
             [
              0.3333333333333333,
              "#9c179e"
             ],
             [
              0.4444444444444444,
              "#bd3786"
             ],
             [
              0.5555555555555556,
              "#d8576b"
             ],
             [
              0.6666666666666666,
              "#ed7953"
             ],
             [
              0.7777777777777778,
              "#fb9f3a"
             ],
             [
              0.8888888888888888,
              "#fdca26"
             ],
             [
              1,
              "#f0f921"
             ]
            ],
            "type": "contour"
           }
          ],
          "contourcarpet": [
           {
            "colorbar": {
             "outlinewidth": 0,
             "ticks": ""
            },
            "type": "contourcarpet"
           }
          ],
          "heatmap": [
           {
            "colorbar": {
             "outlinewidth": 0,
             "ticks": ""
            },
            "colorscale": [
             [
              0,
              "#0d0887"
             ],
             [
              0.1111111111111111,
              "#46039f"
             ],
             [
              0.2222222222222222,
              "#7201a8"
             ],
             [
              0.3333333333333333,
              "#9c179e"
             ],
             [
              0.4444444444444444,
              "#bd3786"
             ],
             [
              0.5555555555555556,
              "#d8576b"
             ],
             [
              0.6666666666666666,
              "#ed7953"
             ],
             [
              0.7777777777777778,
              "#fb9f3a"
             ],
             [
              0.8888888888888888,
              "#fdca26"
             ],
             [
              1,
              "#f0f921"
             ]
            ],
            "type": "heatmap"
           }
          ],
          "heatmapgl": [
           {
            "colorbar": {
             "outlinewidth": 0,
             "ticks": ""
            },
            "colorscale": [
             [
              0,
              "#0d0887"
             ],
             [
              0.1111111111111111,
              "#46039f"
             ],
             [
              0.2222222222222222,
              "#7201a8"
             ],
             [
              0.3333333333333333,
              "#9c179e"
             ],
             [
              0.4444444444444444,
              "#bd3786"
             ],
             [
              0.5555555555555556,
              "#d8576b"
             ],
             [
              0.6666666666666666,
              "#ed7953"
             ],
             [
              0.7777777777777778,
              "#fb9f3a"
             ],
             [
              0.8888888888888888,
              "#fdca26"
             ],
             [
              1,
              "#f0f921"
             ]
            ],
            "type": "heatmapgl"
           }
          ],
          "histogram": [
           {
            "marker": {
             "pattern": {
              "fillmode": "overlay",
              "size": 10,
              "solidity": 0.2
             }
            },
            "type": "histogram"
           }
          ],
          "histogram2d": [
           {
            "colorbar": {
             "outlinewidth": 0,
             "ticks": ""
            },
            "colorscale": [
             [
              0,
              "#0d0887"
             ],
             [
              0.1111111111111111,
              "#46039f"
             ],
             [
              0.2222222222222222,
              "#7201a8"
             ],
             [
              0.3333333333333333,
              "#9c179e"
             ],
             [
              0.4444444444444444,
              "#bd3786"
             ],
             [
              0.5555555555555556,
              "#d8576b"
             ],
             [
              0.6666666666666666,
              "#ed7953"
             ],
             [
              0.7777777777777778,
              "#fb9f3a"
             ],
             [
              0.8888888888888888,
              "#fdca26"
             ],
             [
              1,
              "#f0f921"
             ]
            ],
            "type": "histogram2d"
           }
          ],
          "histogram2dcontour": [
           {
            "colorbar": {
             "outlinewidth": 0,
             "ticks": ""
            },
            "colorscale": [
             [
              0,
              "#0d0887"
             ],
             [
              0.1111111111111111,
              "#46039f"
             ],
             [
              0.2222222222222222,
              "#7201a8"
             ],
             [
              0.3333333333333333,
              "#9c179e"
             ],
             [
              0.4444444444444444,
              "#bd3786"
             ],
             [
              0.5555555555555556,
              "#d8576b"
             ],
             [
              0.6666666666666666,
              "#ed7953"
             ],
             [
              0.7777777777777778,
              "#fb9f3a"
             ],
             [
              0.8888888888888888,
              "#fdca26"
             ],
             [
              1,
              "#f0f921"
             ]
            ],
            "type": "histogram2dcontour"
           }
          ],
          "mesh3d": [
           {
            "colorbar": {
             "outlinewidth": 0,
             "ticks": ""
            },
            "type": "mesh3d"
           }
          ],
          "parcoords": [
           {
            "line": {
             "colorbar": {
              "outlinewidth": 0,
              "ticks": ""
             }
            },
            "type": "parcoords"
           }
          ],
          "pie": [
           {
            "automargin": true,
            "type": "pie"
           }
          ],
          "scatter": [
           {
            "fillpattern": {
             "fillmode": "overlay",
             "size": 10,
             "solidity": 0.2
            },
            "type": "scatter"
           }
          ],
          "scatter3d": [
           {
            "line": {
             "colorbar": {
              "outlinewidth": 0,
              "ticks": ""
             }
            },
            "marker": {
             "colorbar": {
              "outlinewidth": 0,
              "ticks": ""
             }
            },
            "type": "scatter3d"
           }
          ],
          "scattercarpet": [
           {
            "marker": {
             "colorbar": {
              "outlinewidth": 0,
              "ticks": ""
             }
            },
            "type": "scattercarpet"
           }
          ],
          "scattergeo": [
           {
            "marker": {
             "colorbar": {
              "outlinewidth": 0,
              "ticks": ""
             }
            },
            "type": "scattergeo"
           }
          ],
          "scattergl": [
           {
            "marker": {
             "colorbar": {
              "outlinewidth": 0,
              "ticks": ""
             }
            },
            "type": "scattergl"
           }
          ],
          "scattermapbox": [
           {
            "marker": {
             "colorbar": {
              "outlinewidth": 0,
              "ticks": ""
             }
            },
            "type": "scattermapbox"
           }
          ],
          "scatterpolar": [
           {
            "marker": {
             "colorbar": {
              "outlinewidth": 0,
              "ticks": ""
             }
            },
            "type": "scatterpolar"
           }
          ],
          "scatterpolargl": [
           {
            "marker": {
             "colorbar": {
              "outlinewidth": 0,
              "ticks": ""
             }
            },
            "type": "scatterpolargl"
           }
          ],
          "scatterternary": [
           {
            "marker": {
             "colorbar": {
              "outlinewidth": 0,
              "ticks": ""
             }
            },
            "type": "scatterternary"
           }
          ],
          "surface": [
           {
            "colorbar": {
             "outlinewidth": 0,
             "ticks": ""
            },
            "colorscale": [
             [
              0,
              "#0d0887"
             ],
             [
              0.1111111111111111,
              "#46039f"
             ],
             [
              0.2222222222222222,
              "#7201a8"
             ],
             [
              0.3333333333333333,
              "#9c179e"
             ],
             [
              0.4444444444444444,
              "#bd3786"
             ],
             [
              0.5555555555555556,
              "#d8576b"
             ],
             [
              0.6666666666666666,
              "#ed7953"
             ],
             [
              0.7777777777777778,
              "#fb9f3a"
             ],
             [
              0.8888888888888888,
              "#fdca26"
             ],
             [
              1,
              "#f0f921"
             ]
            ],
            "type": "surface"
           }
          ],
          "table": [
           {
            "cells": {
             "fill": {
              "color": "#EBF0F8"
             },
             "line": {
              "color": "white"
             }
            },
            "header": {
             "fill": {
              "color": "#C8D4E3"
             },
             "line": {
              "color": "white"
             }
            },
            "type": "table"
           }
          ]
         },
         "layout": {
          "annotationdefaults": {
           "arrowcolor": "#2a3f5f",
           "arrowhead": 0,
           "arrowwidth": 1
          },
          "autotypenumbers": "strict",
          "coloraxis": {
           "colorbar": {
            "outlinewidth": 0,
            "ticks": ""
           }
          },
          "colorscale": {
           "diverging": [
            [
             0,
             "#8e0152"
            ],
            [
             0.1,
             "#c51b7d"
            ],
            [
             0.2,
             "#de77ae"
            ],
            [
             0.3,
             "#f1b6da"
            ],
            [
             0.4,
             "#fde0ef"
            ],
            [
             0.5,
             "#f7f7f7"
            ],
            [
             0.6,
             "#e6f5d0"
            ],
            [
             0.7,
             "#b8e186"
            ],
            [
             0.8,
             "#7fbc41"
            ],
            [
             0.9,
             "#4d9221"
            ],
            [
             1,
             "#276419"
            ]
           ],
           "sequential": [
            [
             0,
             "#0d0887"
            ],
            [
             0.1111111111111111,
             "#46039f"
            ],
            [
             0.2222222222222222,
             "#7201a8"
            ],
            [
             0.3333333333333333,
             "#9c179e"
            ],
            [
             0.4444444444444444,
             "#bd3786"
            ],
            [
             0.5555555555555556,
             "#d8576b"
            ],
            [
             0.6666666666666666,
             "#ed7953"
            ],
            [
             0.7777777777777778,
             "#fb9f3a"
            ],
            [
             0.8888888888888888,
             "#fdca26"
            ],
            [
             1,
             "#f0f921"
            ]
           ],
           "sequentialminus": [
            [
             0,
             "#0d0887"
            ],
            [
             0.1111111111111111,
             "#46039f"
            ],
            [
             0.2222222222222222,
             "#7201a8"
            ],
            [
             0.3333333333333333,
             "#9c179e"
            ],
            [
             0.4444444444444444,
             "#bd3786"
            ],
            [
             0.5555555555555556,
             "#d8576b"
            ],
            [
             0.6666666666666666,
             "#ed7953"
            ],
            [
             0.7777777777777778,
             "#fb9f3a"
            ],
            [
             0.8888888888888888,
             "#fdca26"
            ],
            [
             1,
             "#f0f921"
            ]
           ]
          },
          "colorway": [
           "#636efa",
           "#EF553B",
           "#00cc96",
           "#ab63fa",
           "#FFA15A",
           "#19d3f3",
           "#FF6692",
           "#B6E880",
           "#FF97FF",
           "#FECB52"
          ],
          "font": {
           "color": "#2a3f5f"
          },
          "geo": {
           "bgcolor": "white",
           "lakecolor": "white",
           "landcolor": "#E5ECF6",
           "showlakes": true,
           "showland": true,
           "subunitcolor": "white"
          },
          "hoverlabel": {
           "align": "left"
          },
          "hovermode": "closest",
          "mapbox": {
           "style": "light"
          },
          "paper_bgcolor": "white",
          "plot_bgcolor": "#E5ECF6",
          "polar": {
           "angularaxis": {
            "gridcolor": "white",
            "linecolor": "white",
            "ticks": ""
           },
           "bgcolor": "#E5ECF6",
           "radialaxis": {
            "gridcolor": "white",
            "linecolor": "white",
            "ticks": ""
           }
          },
          "scene": {
           "xaxis": {
            "backgroundcolor": "#E5ECF6",
            "gridcolor": "white",
            "gridwidth": 2,
            "linecolor": "white",
            "showbackground": true,
            "ticks": "",
            "zerolinecolor": "white"
           },
           "yaxis": {
            "backgroundcolor": "#E5ECF6",
            "gridcolor": "white",
            "gridwidth": 2,
            "linecolor": "white",
            "showbackground": true,
            "ticks": "",
            "zerolinecolor": "white"
           },
           "zaxis": {
            "backgroundcolor": "#E5ECF6",
            "gridcolor": "white",
            "gridwidth": 2,
            "linecolor": "white",
            "showbackground": true,
            "ticks": "",
            "zerolinecolor": "white"
           }
          },
          "shapedefaults": {
           "line": {
            "color": "#2a3f5f"
           }
          },
          "ternary": {
           "aaxis": {
            "gridcolor": "white",
            "linecolor": "white",
            "ticks": ""
           },
           "baxis": {
            "gridcolor": "white",
            "linecolor": "white",
            "ticks": ""
           },
           "bgcolor": "#E5ECF6",
           "caxis": {
            "gridcolor": "white",
            "linecolor": "white",
            "ticks": ""
           }
          },
          "title": {
           "x": 0.05
          },
          "xaxis": {
           "automargin": true,
           "gridcolor": "white",
           "linecolor": "white",
           "ticks": "",
           "title": {
            "standoff": 15
           },
           "zerolinecolor": "white",
           "zerolinewidth": 2
          },
          "yaxis": {
           "automargin": true,
           "gridcolor": "white",
           "linecolor": "white",
           "ticks": "",
           "title": {
            "standoff": 15
           },
           "zerolinecolor": "white",
           "zerolinewidth": 2
          }
         }
        },
        "width": 900,
        "xaxis": {
         "anchor": "y",
         "domain": [
          0,
          0.98
         ],
         "dtick": 1,
         "range": [
          1975,
          2017
         ],
         "title": {
          "text": ""
         }
        },
        "xaxis2": {
         "anchor": "y2",
         "domain": [
          0,
          0.98
         ],
         "dtick": 1,
         "matches": "x",
         "showticklabels": false
        },
        "xaxis3": {
         "anchor": "y3",
         "domain": [
          0,
          0.98
         ],
         "dtick": 1,
         "matches": "x",
         "showticklabels": false
        },
        "yaxis": {
         "anchor": "x",
         "domain": [
          0,
          0.32666666666666666
         ],
         "title": {
          "text": "Yield (mt/ha)"
         }
        },
        "yaxis2": {
         "anchor": "x2",
         "domain": [
          0.33666666666666667,
          0.6633333333333333
         ],
         "title": {
          "text": "Area (ha)"
         }
        },
        "yaxis3": {
         "anchor": "x3",
         "domain": [
          0.6733333333333333,
          1
         ],
         "title": {
          "text": "Production (mt)"
         }
        }
       }
      }
     },
     "metadata": {},
     "output_type": "display_data"
    }
   ],
   "source": [
    "# Lineplot of Production-Area-Yield time-series\n",
    "country_iso, country_name ='SD', 'Sudan'\n",
    "df = pd.read_csv('../data/crop/adm_crop_production_%s.csv' % country_iso, index_col=0)\n",
    "df['year'] = df['harvest_year']\n",
    "year = [df['year'].min(), df['year'].max()]\n",
    "product_season = [\n",
    "    ['Millet','Main'],\n",
    "    ['Sorghum','Main'],\n",
    "    ['Wheat','Winter'],\n",
    "]\n",
    "for product_name, season_name in product_season:\n",
    "    footnote = 'Production-Area-Yield time-series of %s - %s - %s' % (country_iso, product_name, season_name)\n",
    "    fn_save = '../figures/%s_line_pay_%s_%s.png' % (country_iso, product_name, season_name)\n",
    "    sub = df[(df['product'] == product_name) & (df['season_name'] == season_name)]\n",
    "    fig = PlotLinePAY(sub, year, footnote, fn_save)\n",
    "    fig.show()"
   ]
  },
  {
   "cell_type": "code",
   "execution_count": 11,
   "id": "cbef5d1b-8170-4ed8-ab7c-e3aa15c52ad8",
   "metadata": {},
   "outputs": [
    {
     "name": "stdout",
     "output_type": "stream",
     "text": [
      "../figures/SS_bar_natgrainprod_Main.png is saved.\n"
     ]
    },
    {
     "data": {
      "application/vnd.plotly.v1+json": {
       "config": {
        "plotlyServerURL": "https://plot.ly"
       },
       "data": [
        {
         "alignmentgroup": "True",
         "hovertemplate": "product=Cereal Crops (Mixed)<br>season_name=Main<br>type=orig_unit<br>year=%{x}<br>value=%{y}<extra></extra>",
         "legendgroup": "Cereal Crops (Mixed)",
         "marker": {
          "color": "#636efa",
          "pattern": {
           "shape": ""
          }
         },
         "name": "Cereal Crops (Mixed)",
         "offsetgroup": "Cereal Crops (Mixed)",
         "orientation": "v",
         "showlegend": true,
         "textposition": "auto",
         "type": "bar",
         "x": [
          2011,
          2012
         ],
         "xaxis": "x2",
         "y": [
          562000,
          761000
         ],
         "yaxis": "y2"
        },
        {
         "alignmentgroup": "True",
         "hovertemplate": "product=Cereal Crops (Mixed)<br>season_name=Main<br>type=percent<br>year=%{x}<br>value=%{y}<extra></extra>",
         "legendgroup": "Cereal Crops (Mixed)",
         "marker": {
          "color": "#636efa",
          "pattern": {
           "shape": ""
          }
         },
         "name": "Cereal Crops (Mixed)",
         "offsetgroup": "Cereal Crops (Mixed)",
         "orientation": "v",
         "showlegend": false,
         "textposition": "auto",
         "type": "bar",
         "x": [
          2011,
          2012
         ],
         "xaxis": "x",
         "y": [
          100,
          99.60732984293193
         ],
         "yaxis": "y"
        },
        {
         "alignmentgroup": "True",
         "hovertemplate": "product=Cotton (Acala)<br>season_name=Main<br>type=orig_unit<br>year=%{x}<br>value=%{y}<extra></extra>",
         "legendgroup": "Cotton (Acala)",
         "marker": {
          "color": "#EF553B",
          "pattern": {
           "shape": ""
          }
         },
         "name": "Cotton (Acala)",
         "offsetgroup": "Cotton (Acala)",
         "orientation": "v",
         "showlegend": true,
         "textposition": "auto",
         "type": "bar",
         "x": [
          1995,
          1999,
          2000,
          2001,
          2003,
          2004,
          2005,
          2006,
          2007,
          2008,
          2012
         ],
         "xaxis": "x2",
         "y": [
          420,
          840,
          2100,
          1260,
          126,
          1260,
          1260,
          420,
          605,
          420,
          3000
         ],
         "yaxis": "y2"
        },
        {
         "alignmentgroup": "True",
         "hovertemplate": "product=Cotton (Acala)<br>season_name=Main<br>type=percent<br>year=%{x}<br>value=%{y}<extra></extra>",
         "legendgroup": "Cotton (Acala)",
         "marker": {
          "color": "#EF553B",
          "pattern": {
           "shape": ""
          }
         },
         "name": "Cotton (Acala)",
         "offsetgroup": "Cotton (Acala)",
         "orientation": "v",
         "showlegend": false,
         "textposition": "auto",
         "type": "bar",
         "x": [
          1995,
          1999,
          2000,
          2001,
          2003,
          2004,
          2005,
          2006,
          2007,
          2008,
          2012
         ],
         "xaxis": "x",
         "y": [
          0.4558676681283376,
          2.3011176857330704,
          5.154639175257731,
          2.7839151568714096,
          0.314952757086437,
          1.400933955970647,
          1.465457083042568,
          1.2909836065573772,
          2.6463126585600563,
          6.179196704428424,
          0.3926701570680628
         ],
         "yaxis": "y"
        },
        {
         "alignmentgroup": "True",
         "hovertemplate": "product=Cotton (American)<br>season_name=Main<br>type=orig_unit<br>year=%{x}<br>value=%{y}<extra></extra>",
         "legendgroup": "Cotton (American)",
         "marker": {
          "color": "#00cc96",
          "pattern": {
           "shape": ""
          }
         },
         "name": "Cotton (American)",
         "offsetgroup": "Cotton (American)",
         "orientation": "v",
         "showlegend": true,
         "textposition": "auto",
         "type": "bar",
         "x": [
          2004,
          2005,
          2006,
          2007
         ],
         "xaxis": "x2",
         "y": [
          0,
          0,
          0,
          0
         ],
         "yaxis": "y2"
        },
        {
         "alignmentgroup": "True",
         "hovertemplate": "product=Cotton (American)<br>season_name=Main<br>type=percent<br>year=%{x}<br>value=%{y}<extra></extra>",
         "legendgroup": "Cotton (American)",
         "marker": {
          "color": "#00cc96",
          "pattern": {
           "shape": ""
          }
         },
         "name": "Cotton (American)",
         "offsetgroup": "Cotton (American)",
         "orientation": "v",
         "showlegend": false,
         "textposition": "auto",
         "type": "bar",
         "x": [
          2004,
          2005,
          2006,
          2007
         ],
         "xaxis": "x",
         "y": [
          0,
          0,
          0,
          0
         ],
         "yaxis": "y"
        },
        {
         "alignmentgroup": "True",
         "hovertemplate": "product=Groundnuts (In Shell)<br>season_name=Main<br>type=orig_unit<br>year=%{x}<br>value=%{y}<extra></extra>",
         "legendgroup": "Groundnuts (In Shell)",
         "marker": {
          "color": "#ab63fa",
          "pattern": {
           "shape": ""
          }
         },
         "name": "Groundnuts (In Shell)",
         "offsetgroup": "Groundnuts (In Shell)",
         "orientation": "v",
         "showlegend": true,
         "textposition": "auto",
         "type": "bar",
         "x": [
          1989,
          1990,
          1991,
          1992,
          1993,
          1994,
          1995,
          1996,
          1997,
          1998,
          1999,
          2000,
          2001,
          2002,
          2003,
          2004,
          2005,
          2006,
          2007,
          2008,
          2009,
          2010,
          2011
         ],
         "xaxis": "x2",
         "y": [
          0,
          0,
          0,
          0,
          0,
          0,
          0,
          0,
          0,
          0,
          0,
          0,
          0,
          0,
          0,
          0,
          0,
          0,
          0,
          0,
          0,
          0,
          0
         ],
         "yaxis": "y2"
        },
        {
         "alignmentgroup": "True",
         "hovertemplate": "product=Groundnuts (In Shell)<br>season_name=Main<br>type=percent<br>year=%{x}<br>value=%{y}<extra></extra>",
         "legendgroup": "Groundnuts (In Shell)",
         "marker": {
          "color": "#ab63fa",
          "pattern": {
           "shape": ""
          }
         },
         "name": "Groundnuts (In Shell)",
         "offsetgroup": "Groundnuts (In Shell)",
         "orientation": "v",
         "showlegend": false,
         "textposition": "auto",
         "type": "bar",
         "x": [
          1989,
          1990,
          1991,
          1992,
          1993,
          1994,
          1995,
          1996,
          1997,
          1998,
          1999,
          2000,
          2001,
          2002,
          2003,
          2004,
          2005,
          2006,
          2007,
          2008,
          2011
         ],
         "xaxis": "x",
         "y": [
          0,
          0,
          0,
          0,
          0,
          0,
          0,
          0,
          0,
          0,
          0,
          0,
          0,
          0,
          0,
          0,
          0,
          0,
          0,
          0,
          0
         ],
         "yaxis": "y"
        },
        {
         "alignmentgroup": "True",
         "hovertemplate": "product=Millet<br>season_name=Main<br>type=orig_unit<br>year=%{x}<br>value=%{y}<extra></extra>",
         "legendgroup": "Millet",
         "marker": {
          "color": "#FFA15A",
          "pattern": {
           "shape": ""
          }
         },
         "name": "Millet",
         "offsetgroup": "Millet",
         "orientation": "v",
         "showlegend": true,
         "textposition": "auto",
         "type": "bar",
         "x": [
          1974,
          1975,
          1976,
          1977,
          1978,
          1979,
          1980,
          1981,
          1982,
          1983,
          1984,
          1985,
          1986,
          1987,
          1988,
          1989,
          1990,
          1991,
          1992,
          1993,
          1994,
          1995,
          1996,
          1997,
          1998,
          1999,
          2000,
          2001,
          2002,
          2003,
          2004,
          2005,
          2006,
          2007,
          2008,
          2009,
          2010,
          2011
         ],
         "xaxis": "x2",
         "y": [
          0,
          0,
          0,
          0,
          0,
          0,
          0,
          0,
          0,
          0,
          0,
          0,
          0,
          0,
          0,
          420,
          420,
          840,
          420,
          252,
          147,
          252,
          840,
          840,
          0,
          0,
          0,
          0,
          0,
          0,
          11760,
          5460,
          1260,
          3175,
          3360,
          0,
          0,
          0
         ],
         "yaxis": "y2"
        },
        {
         "alignmentgroup": "True",
         "hovertemplate": "product=Millet<br>season_name=Main<br>type=percent<br>year=%{x}<br>value=%{y}<extra></extra>",
         "legendgroup": "Millet",
         "marker": {
          "color": "#FFA15A",
          "pattern": {
           "shape": ""
          }
         },
         "name": "Millet",
         "offsetgroup": "Millet",
         "orientation": "v",
         "showlegend": false,
         "textposition": "auto",
         "type": "bar",
         "x": [
          1989,
          1990,
          1991,
          1992,
          1993,
          1994,
          1995,
          1996,
          1997,
          1998,
          1999,
          2000,
          2001,
          2002,
          2003,
          2004,
          2005,
          2006,
          2007,
          2008,
          2011
         ],
         "xaxis": "x",
         "y": [
          3.8461538461538463,
          0.27135288797002194,
          0.9517335146159076,
          0.8426966292134831,
          0.14323715981174545,
          0.3550124375105658,
          0.27352060087700253,
          1.6539340001575173,
          1.1248518610272307,
          0,
          0,
          0,
          0,
          0,
          0,
          13.075383589059372,
          6.350314026517795,
          3.8729508196721314,
          13.887673869302771,
          49.43357363542739,
          0
         ],
         "yaxis": "y"
        },
        {
         "alignmentgroup": "True",
         "hovertemplate": "product=Sesame Seed<br>season_name=Main<br>type=orig_unit<br>year=%{x}<br>value=%{y}<extra></extra>",
         "legendgroup": "Sesame Seed",
         "marker": {
          "color": "#19d3f3",
          "pattern": {
           "shape": ""
          }
         },
         "name": "Sesame Seed",
         "offsetgroup": "Sesame Seed",
         "orientation": "v",
         "showlegend": true,
         "textposition": "auto",
         "type": "bar",
         "x": [
          1989,
          1990,
          1991,
          1992,
          1993,
          1994,
          1995,
          1996,
          1997,
          1998,
          1999,
          2000,
          2001,
          2002,
          2003,
          2004,
          2005,
          2006,
          2007,
          2008,
          2009,
          2010,
          2011
         ],
         "xaxis": "x2",
         "y": [
          840,
          2100,
          0,
          0,
          1260,
          840,
          5460,
          3780,
          4200,
          7140,
          10080,
          7140,
          0,
          0,
          5880,
          0,
          10080,
          1680,
          2177,
          2177,
          0,
          0,
          0
         ],
         "yaxis": "y2"
        },
        {
         "alignmentgroup": "True",
         "hovertemplate": "product=Sesame Seed<br>season_name=Main<br>type=percent<br>year=%{x}<br>value=%{y}<extra></extra>",
         "legendgroup": "Sesame Seed",
         "marker": {
          "color": "#19d3f3",
          "pattern": {
           "shape": ""
          }
         },
         "name": "Sesame Seed",
         "offsetgroup": "Sesame Seed",
         "orientation": "v",
         "showlegend": false,
         "textposition": "auto",
         "type": "bar",
         "x": [
          1989,
          1990,
          1991,
          1992,
          1993,
          1994,
          1995,
          1996,
          1997,
          1998,
          1999,
          2000,
          2001,
          2002,
          2003,
          2004,
          2005,
          2006,
          2007,
          2008,
          2011
         ],
         "xaxis": "x",
         "y": [
          7.6923076923076925,
          1.35676443985011,
          0,
          0,
          0.7161857990587273,
          2.0286425000603763,
          5.926279685668389,
          7.442703000708829,
          5.624259305136154,
          26.22685865412871,
          27.613412228796847,
          17.525773195876287,
          0,
          0,
          14.697795330700394,
          0,
          11.723656664340544,
          5.163934426229509,
          9.522351500306184,
          32.02883625128734,
          0
         ],
         "yaxis": "y"
        },
        {
         "alignmentgroup": "True",
         "hovertemplate": "product=Sorghum<br>season_name=Main<br>type=orig_unit<br>year=%{x}<br>value=%{y}<extra></extra>",
         "legendgroup": "Sorghum",
         "marker": {
          "color": "#FF6692",
          "pattern": {
           "shape": ""
          }
         },
         "name": "Sorghum",
         "offsetgroup": "Sorghum",
         "orientation": "v",
         "showlegend": true,
         "textposition": "auto",
         "type": "bar",
         "x": [
          1974,
          1975,
          1976,
          1977,
          1978,
          1979,
          1980,
          1981,
          1982,
          1983,
          1984,
          1985,
          1986,
          1987,
          1988,
          1989,
          1990,
          1991,
          1992,
          1993,
          1994,
          1995,
          1996,
          1997,
          1998,
          1999,
          2000,
          2001,
          2002,
          2003,
          2004,
          2005,
          2006,
          2007,
          2008,
          2009,
          2010,
          2011
         ],
         "xaxis": "x2",
         "y": [
          0,
          0,
          0,
          0,
          0,
          0,
          0,
          0,
          0,
          0,
          0,
          0,
          0,
          0,
          0,
          9240,
          151000,
          87000,
          49000,
          174000,
          40000,
          86000,
          92000,
          139105,
          20000,
          51000,
          63000,
          88000,
          173000,
          68000,
          153000,
          135000,
          85000,
          45675,
          840,
          0,
          0,
          0
         ],
         "yaxis": "y2"
        },
        {
         "alignmentgroup": "True",
         "hovertemplate": "product=Sorghum<br>season_name=Main<br>type=percent<br>year=%{x}<br>value=%{y}<extra></extra>",
         "legendgroup": "Sorghum",
         "marker": {
          "color": "#FF6692",
          "pattern": {
           "shape": ""
          }
         },
         "name": "Sorghum",
         "offsetgroup": "Sorghum",
         "orientation": "v",
         "showlegend": false,
         "textposition": "auto",
         "type": "bar",
         "x": [
          1989,
          1990,
          1991,
          1992,
          1993,
          1994,
          1995,
          1996,
          1997,
          1998,
          1999,
          2000,
          2001,
          2002,
          2003,
          2004,
          2005,
          2006,
          2007,
          2008,
          2011
         ],
         "xaxis": "x",
         "y": [
          84.61538461538461,
          97.5578240082698,
          98.57239972807615,
          98.31460674157303,
          98.90184844144329,
          96.60202381239887,
          93.34433204532627,
          90.57257619910214,
          93.1384036477339,
          73.46459006758742,
          69.85535831689677,
          77.31958762886599,
          97.2160848431286,
          100,
          84.98725191221317,
          85.05670446964643,
          78.50662944870899,
          87.09016393442623,
          66.59522351500307,
          12.358393408856848,
          0
         ],
         "yaxis": "y"
        },
        {
         "alignmentgroup": "True",
         "hovertemplate": "product=Sunflower Seed<br>season_name=Main<br>type=orig_unit<br>year=%{x}<br>value=%{y}<extra></extra>",
         "legendgroup": "Sunflower Seed",
         "marker": {
          "color": "#B6E880",
          "pattern": {
           "shape": ""
          }
         },
         "name": "Sunflower Seed",
         "offsetgroup": "Sunflower Seed",
         "orientation": "v",
         "showlegend": true,
         "textposition": "auto",
         "type": "bar",
         "x": [
          1989,
          1990,
          1991,
          1992,
          1993,
          1994,
          1996,
          1997,
          1998,
          1999,
          2004,
          2005,
          2006,
          2007,
          2008,
          2010
         ],
         "xaxis": "x2",
         "y": [
          420,
          1260,
          420,
          420,
          420,
          420,
          168,
          84,
          84,
          84,
          420,
          1680,
          840,
          1680,
          0,
          0
         ],
         "yaxis": "y2"
        },
        {
         "alignmentgroup": "True",
         "hovertemplate": "product=Sunflower Seed<br>season_name=Main<br>type=percent<br>year=%{x}<br>value=%{y}<extra></extra>",
         "legendgroup": "Sunflower Seed",
         "marker": {
          "color": "#B6E880",
          "pattern": {
           "shape": ""
          }
         },
         "name": "Sunflower Seed",
         "offsetgroup": "Sunflower Seed",
         "orientation": "v",
         "showlegend": false,
         "textposition": "auto",
         "type": "bar",
         "x": [
          1989,
          1990,
          1991,
          1992,
          1993,
          1994,
          1996,
          1997,
          1998,
          1999,
          2004,
          2005,
          2006,
          2007,
          2008
         ],
         "xaxis": "x",
         "y": [
          3.8461538461538463,
          0.814058663910066,
          0.4758667573079538,
          0.8426966292134831,
          0.2387285996862424,
          1.0143212500301881,
          0.3307868000315035,
          0.11248518610272307,
          0.3085512782838672,
          0.23011176857330704,
          0.46697798532354906,
          1.9539427773900906,
          2.5819672131147544,
          7.348438456827925,
          0
         ],
         "yaxis": "y"
        }
       ],
       "layout": {
        "annotations": [
         {
          "showarrow": false,
          "text": "",
          "textangle": 90,
          "x": 0.98,
          "xanchor": "left",
          "xref": "paper",
          "y": 0.2375,
          "yanchor": "middle",
          "yref": "paper"
         },
         {
          "showarrow": false,
          "text": "",
          "textangle": 90,
          "x": 0.98,
          "xanchor": "left",
          "xref": "paper",
          "y": 0.7625,
          "yanchor": "middle",
          "yref": "paper"
         },
         {
          "align": "left",
          "font": {
           "color": "dimgrey",
           "family": "arial",
           "size": 15
          },
          "showarrow": false,
          "text": "National crop production in South Sudan - Main",
          "x": 0,
          "xref": "paper",
          "y": -0.13,
          "yref": "paper"
         }
        ],
        "barmode": "relative",
        "font": {
         "color": "black",
         "family": "arial",
         "size": 15
        },
        "height": 600,
        "legend": {
         "title": {
          "text": "Product"
         },
         "tracegroupgap": 0,
         "x": 1,
         "y": 1.01
        },
        "margin": {
         "b": 0,
         "l": 0,
         "r": 0,
         "t": 0
        },
        "template": {
         "data": {
          "bar": [
           {
            "error_x": {
             "color": "#2a3f5f"
            },
            "error_y": {
             "color": "#2a3f5f"
            },
            "marker": {
             "line": {
              "color": "#E5ECF6",
              "width": 0.5
             },
             "pattern": {
              "fillmode": "overlay",
              "size": 10,
              "solidity": 0.2
             }
            },
            "type": "bar"
           }
          ],
          "barpolar": [
           {
            "marker": {
             "line": {
              "color": "#E5ECF6",
              "width": 0.5
             },
             "pattern": {
              "fillmode": "overlay",
              "size": 10,
              "solidity": 0.2
             }
            },
            "type": "barpolar"
           }
          ],
          "carpet": [
           {
            "aaxis": {
             "endlinecolor": "#2a3f5f",
             "gridcolor": "white",
             "linecolor": "white",
             "minorgridcolor": "white",
             "startlinecolor": "#2a3f5f"
            },
            "baxis": {
             "endlinecolor": "#2a3f5f",
             "gridcolor": "white",
             "linecolor": "white",
             "minorgridcolor": "white",
             "startlinecolor": "#2a3f5f"
            },
            "type": "carpet"
           }
          ],
          "choropleth": [
           {
            "colorbar": {
             "outlinewidth": 0,
             "ticks": ""
            },
            "type": "choropleth"
           }
          ],
          "contour": [
           {
            "colorbar": {
             "outlinewidth": 0,
             "ticks": ""
            },
            "colorscale": [
             [
              0,
              "#0d0887"
             ],
             [
              0.1111111111111111,
              "#46039f"
             ],
             [
              0.2222222222222222,
              "#7201a8"
             ],
             [
              0.3333333333333333,
              "#9c179e"
             ],
             [
              0.4444444444444444,
              "#bd3786"
             ],
             [
              0.5555555555555556,
              "#d8576b"
             ],
             [
              0.6666666666666666,
              "#ed7953"
             ],
             [
              0.7777777777777778,
              "#fb9f3a"
             ],
             [
              0.8888888888888888,
              "#fdca26"
             ],
             [
              1,
              "#f0f921"
             ]
            ],
            "type": "contour"
           }
          ],
          "contourcarpet": [
           {
            "colorbar": {
             "outlinewidth": 0,
             "ticks": ""
            },
            "type": "contourcarpet"
           }
          ],
          "heatmap": [
           {
            "colorbar": {
             "outlinewidth": 0,
             "ticks": ""
            },
            "colorscale": [
             [
              0,
              "#0d0887"
             ],
             [
              0.1111111111111111,
              "#46039f"
             ],
             [
              0.2222222222222222,
              "#7201a8"
             ],
             [
              0.3333333333333333,
              "#9c179e"
             ],
             [
              0.4444444444444444,
              "#bd3786"
             ],
             [
              0.5555555555555556,
              "#d8576b"
             ],
             [
              0.6666666666666666,
              "#ed7953"
             ],
             [
              0.7777777777777778,
              "#fb9f3a"
             ],
             [
              0.8888888888888888,
              "#fdca26"
             ],
             [
              1,
              "#f0f921"
             ]
            ],
            "type": "heatmap"
           }
          ],
          "heatmapgl": [
           {
            "colorbar": {
             "outlinewidth": 0,
             "ticks": ""
            },
            "colorscale": [
             [
              0,
              "#0d0887"
             ],
             [
              0.1111111111111111,
              "#46039f"
             ],
             [
              0.2222222222222222,
              "#7201a8"
             ],
             [
              0.3333333333333333,
              "#9c179e"
             ],
             [
              0.4444444444444444,
              "#bd3786"
             ],
             [
              0.5555555555555556,
              "#d8576b"
             ],
             [
              0.6666666666666666,
              "#ed7953"
             ],
             [
              0.7777777777777778,
              "#fb9f3a"
             ],
             [
              0.8888888888888888,
              "#fdca26"
             ],
             [
              1,
              "#f0f921"
             ]
            ],
            "type": "heatmapgl"
           }
          ],
          "histogram": [
           {
            "marker": {
             "pattern": {
              "fillmode": "overlay",
              "size": 10,
              "solidity": 0.2
             }
            },
            "type": "histogram"
           }
          ],
          "histogram2d": [
           {
            "colorbar": {
             "outlinewidth": 0,
             "ticks": ""
            },
            "colorscale": [
             [
              0,
              "#0d0887"
             ],
             [
              0.1111111111111111,
              "#46039f"
             ],
             [
              0.2222222222222222,
              "#7201a8"
             ],
             [
              0.3333333333333333,
              "#9c179e"
             ],
             [
              0.4444444444444444,
              "#bd3786"
             ],
             [
              0.5555555555555556,
              "#d8576b"
             ],
             [
              0.6666666666666666,
              "#ed7953"
             ],
             [
              0.7777777777777778,
              "#fb9f3a"
             ],
             [
              0.8888888888888888,
              "#fdca26"
             ],
             [
              1,
              "#f0f921"
             ]
            ],
            "type": "histogram2d"
           }
          ],
          "histogram2dcontour": [
           {
            "colorbar": {
             "outlinewidth": 0,
             "ticks": ""
            },
            "colorscale": [
             [
              0,
              "#0d0887"
             ],
             [
              0.1111111111111111,
              "#46039f"
             ],
             [
              0.2222222222222222,
              "#7201a8"
             ],
             [
              0.3333333333333333,
              "#9c179e"
             ],
             [
              0.4444444444444444,
              "#bd3786"
             ],
             [
              0.5555555555555556,
              "#d8576b"
             ],
             [
              0.6666666666666666,
              "#ed7953"
             ],
             [
              0.7777777777777778,
              "#fb9f3a"
             ],
             [
              0.8888888888888888,
              "#fdca26"
             ],
             [
              1,
              "#f0f921"
             ]
            ],
            "type": "histogram2dcontour"
           }
          ],
          "mesh3d": [
           {
            "colorbar": {
             "outlinewidth": 0,
             "ticks": ""
            },
            "type": "mesh3d"
           }
          ],
          "parcoords": [
           {
            "line": {
             "colorbar": {
              "outlinewidth": 0,
              "ticks": ""
             }
            },
            "type": "parcoords"
           }
          ],
          "pie": [
           {
            "automargin": true,
            "type": "pie"
           }
          ],
          "scatter": [
           {
            "fillpattern": {
             "fillmode": "overlay",
             "size": 10,
             "solidity": 0.2
            },
            "type": "scatter"
           }
          ],
          "scatter3d": [
           {
            "line": {
             "colorbar": {
              "outlinewidth": 0,
              "ticks": ""
             }
            },
            "marker": {
             "colorbar": {
              "outlinewidth": 0,
              "ticks": ""
             }
            },
            "type": "scatter3d"
           }
          ],
          "scattercarpet": [
           {
            "marker": {
             "colorbar": {
              "outlinewidth": 0,
              "ticks": ""
             }
            },
            "type": "scattercarpet"
           }
          ],
          "scattergeo": [
           {
            "marker": {
             "colorbar": {
              "outlinewidth": 0,
              "ticks": ""
             }
            },
            "type": "scattergeo"
           }
          ],
          "scattergl": [
           {
            "marker": {
             "colorbar": {
              "outlinewidth": 0,
              "ticks": ""
             }
            },
            "type": "scattergl"
           }
          ],
          "scattermapbox": [
           {
            "marker": {
             "colorbar": {
              "outlinewidth": 0,
              "ticks": ""
             }
            },
            "type": "scattermapbox"
           }
          ],
          "scatterpolar": [
           {
            "marker": {
             "colorbar": {
              "outlinewidth": 0,
              "ticks": ""
             }
            },
            "type": "scatterpolar"
           }
          ],
          "scatterpolargl": [
           {
            "marker": {
             "colorbar": {
              "outlinewidth": 0,
              "ticks": ""
             }
            },
            "type": "scatterpolargl"
           }
          ],
          "scatterternary": [
           {
            "marker": {
             "colorbar": {
              "outlinewidth": 0,
              "ticks": ""
             }
            },
            "type": "scatterternary"
           }
          ],
          "surface": [
           {
            "colorbar": {
             "outlinewidth": 0,
             "ticks": ""
            },
            "colorscale": [
             [
              0,
              "#0d0887"
             ],
             [
              0.1111111111111111,
              "#46039f"
             ],
             [
              0.2222222222222222,
              "#7201a8"
             ],
             [
              0.3333333333333333,
              "#9c179e"
             ],
             [
              0.4444444444444444,
              "#bd3786"
             ],
             [
              0.5555555555555556,
              "#d8576b"
             ],
             [
              0.6666666666666666,
              "#ed7953"
             ],
             [
              0.7777777777777778,
              "#fb9f3a"
             ],
             [
              0.8888888888888888,
              "#fdca26"
             ],
             [
              1,
              "#f0f921"
             ]
            ],
            "type": "surface"
           }
          ],
          "table": [
           {
            "cells": {
             "fill": {
              "color": "#EBF0F8"
             },
             "line": {
              "color": "white"
             }
            },
            "header": {
             "fill": {
              "color": "#C8D4E3"
             },
             "line": {
              "color": "white"
             }
            },
            "type": "table"
           }
          ]
         },
         "layout": {
          "annotationdefaults": {
           "arrowcolor": "#2a3f5f",
           "arrowhead": 0,
           "arrowwidth": 1
          },
          "autotypenumbers": "strict",
          "coloraxis": {
           "colorbar": {
            "outlinewidth": 0,
            "ticks": ""
           }
          },
          "colorscale": {
           "diverging": [
            [
             0,
             "#8e0152"
            ],
            [
             0.1,
             "#c51b7d"
            ],
            [
             0.2,
             "#de77ae"
            ],
            [
             0.3,
             "#f1b6da"
            ],
            [
             0.4,
             "#fde0ef"
            ],
            [
             0.5,
             "#f7f7f7"
            ],
            [
             0.6,
             "#e6f5d0"
            ],
            [
             0.7,
             "#b8e186"
            ],
            [
             0.8,
             "#7fbc41"
            ],
            [
             0.9,
             "#4d9221"
            ],
            [
             1,
             "#276419"
            ]
           ],
           "sequential": [
            [
             0,
             "#0d0887"
            ],
            [
             0.1111111111111111,
             "#46039f"
            ],
            [
             0.2222222222222222,
             "#7201a8"
            ],
            [
             0.3333333333333333,
             "#9c179e"
            ],
            [
             0.4444444444444444,
             "#bd3786"
            ],
            [
             0.5555555555555556,
             "#d8576b"
            ],
            [
             0.6666666666666666,
             "#ed7953"
            ],
            [
             0.7777777777777778,
             "#fb9f3a"
            ],
            [
             0.8888888888888888,
             "#fdca26"
            ],
            [
             1,
             "#f0f921"
            ]
           ],
           "sequentialminus": [
            [
             0,
             "#0d0887"
            ],
            [
             0.1111111111111111,
             "#46039f"
            ],
            [
             0.2222222222222222,
             "#7201a8"
            ],
            [
             0.3333333333333333,
             "#9c179e"
            ],
            [
             0.4444444444444444,
             "#bd3786"
            ],
            [
             0.5555555555555556,
             "#d8576b"
            ],
            [
             0.6666666666666666,
             "#ed7953"
            ],
            [
             0.7777777777777778,
             "#fb9f3a"
            ],
            [
             0.8888888888888888,
             "#fdca26"
            ],
            [
             1,
             "#f0f921"
            ]
           ]
          },
          "colorway": [
           "#636efa",
           "#EF553B",
           "#00cc96",
           "#ab63fa",
           "#FFA15A",
           "#19d3f3",
           "#FF6692",
           "#B6E880",
           "#FF97FF",
           "#FECB52"
          ],
          "font": {
           "color": "#2a3f5f"
          },
          "geo": {
           "bgcolor": "white",
           "lakecolor": "white",
           "landcolor": "#E5ECF6",
           "showlakes": true,
           "showland": true,
           "subunitcolor": "white"
          },
          "hoverlabel": {
           "align": "left"
          },
          "hovermode": "closest",
          "mapbox": {
           "style": "light"
          },
          "paper_bgcolor": "white",
          "plot_bgcolor": "#E5ECF6",
          "polar": {
           "angularaxis": {
            "gridcolor": "white",
            "linecolor": "white",
            "ticks": ""
           },
           "bgcolor": "#E5ECF6",
           "radialaxis": {
            "gridcolor": "white",
            "linecolor": "white",
            "ticks": ""
           }
          },
          "scene": {
           "xaxis": {
            "backgroundcolor": "#E5ECF6",
            "gridcolor": "white",
            "gridwidth": 2,
            "linecolor": "white",
            "showbackground": true,
            "ticks": "",
            "zerolinecolor": "white"
           },
           "yaxis": {
            "backgroundcolor": "#E5ECF6",
            "gridcolor": "white",
            "gridwidth": 2,
            "linecolor": "white",
            "showbackground": true,
            "ticks": "",
            "zerolinecolor": "white"
           },
           "zaxis": {
            "backgroundcolor": "#E5ECF6",
            "gridcolor": "white",
            "gridwidth": 2,
            "linecolor": "white",
            "showbackground": true,
            "ticks": "",
            "zerolinecolor": "white"
           }
          },
          "shapedefaults": {
           "line": {
            "color": "#2a3f5f"
           }
          },
          "ternary": {
           "aaxis": {
            "gridcolor": "white",
            "linecolor": "white",
            "ticks": ""
           },
           "baxis": {
            "gridcolor": "white",
            "linecolor": "white",
            "ticks": ""
           },
           "bgcolor": "#E5ECF6",
           "caxis": {
            "gridcolor": "white",
            "linecolor": "white",
            "ticks": ""
           }
          },
          "title": {
           "x": 0.05
          },
          "xaxis": {
           "automargin": true,
           "gridcolor": "white",
           "linecolor": "white",
           "ticks": "",
           "title": {
            "standoff": 15
           },
           "zerolinecolor": "white",
           "zerolinewidth": 2
          },
          "yaxis": {
           "automargin": true,
           "gridcolor": "white",
           "linecolor": "white",
           "ticks": "",
           "title": {
            "standoff": 15
           },
           "zerolinecolor": "white",
           "zerolinewidth": 2
          }
         }
        },
        "width": 900,
        "xaxis": {
         "anchor": "y",
         "domain": [
          0,
          0.98
         ],
         "dtick": 1,
         "range": [
          1973.5,
          2012.5
         ],
         "title": {
          "text": ""
         }
        },
        "xaxis2": {
         "anchor": "y2",
         "domain": [
          0,
          0.98
         ],
         "matches": "x",
         "showticklabels": false
        },
        "yaxis": {
         "anchor": "x",
         "domain": [
          0,
          0.475
         ],
         "range": [
          0,
          100
         ],
         "title": {
          "text": "Production (%)"
         }
        },
        "yaxis2": {
         "anchor": "x2",
         "domain": [
          0.525,
          1
         ],
         "title": {
          "text": "Production (t)"
         }
        }
       }
      }
     },
     "metadata": {},
     "output_type": "display_data"
    }
   ],
   "source": [
    "# Bar chart of national crop production\n",
    "country_iso, country_name = 'SS', 'South Sudan'\n",
    "df = pd.read_csv('../data/crop/adm_crop_production_%s.csv' % country_iso, index_col=0)\n",
    "df['year'] = df['harvest_year']\n",
    "year = [df['year'].min(), df['year'].max()]\n",
    "product_order = ['Cereal Crops (Mixed)']\n",
    "for season_name in ['Main']:\n",
    "    footnote = 'National crop production in %s - %s' % (country_name, season_name)\n",
    "    fn_save = '../figures/%s_bar_natgrainprod_%s.png' % (country_iso, season_name)\n",
    "    sub = df[df['season_name'] == season_name]\n",
    "    fig = PlotBarProduction(sub, year, product_order, footnote, fn_save)\n",
    "    fig.show()"
   ]
  },
  {
   "cell_type": "code",
   "execution_count": 12,
   "id": "406e560d",
   "metadata": {},
   "outputs": [
    {
     "name": "stdout",
     "output_type": "stream",
     "text": [
      "../figures/SS_line_pay_Cereal Crops (Mixed)_Main.png is saved.\n"
     ]
    },
    {
     "data": {
      "application/vnd.plotly.v1+json": {
       "config": {
        "plotlyServerURL": "https://plot.ly"
       },
       "data": [
        {
         "connectgaps": false,
         "hovertemplate": "fnid=SS2011A111<br>indicator=production<br>year=%{x}<br>value=%{y}<extra></extra>",
         "legendgroup": "SS2011A111",
         "line": {
          "color": "#636efa",
          "dash": "solid"
         },
         "marker": {
          "symbol": "circle"
         },
         "mode": "markers+lines",
         "name": "SS2011A111",
         "orientation": "v",
         "showlegend": true,
         "type": "scatter",
         "x": [
          2011,
          2012
         ],
         "xaxis": "x3",
         "y": [
          26000,
          38000
         ],
         "yaxis": "y3"
        },
        {
         "connectgaps": false,
         "hovertemplate": "fnid=SS2011A111<br>indicator=area<br>year=%{x}<br>value=%{y}<extra></extra>",
         "legendgroup": "SS2011A111",
         "line": {
          "color": "#636efa",
          "dash": "solid"
         },
         "marker": {
          "symbol": "circle"
         },
         "mode": "markers+lines",
         "name": "SS2011A111",
         "orientation": "v",
         "showlegend": false,
         "type": "scatter",
         "x": [
          2011,
          2012
         ],
         "xaxis": "x2",
         "y": [
          68000,
          80000
         ],
         "yaxis": "y2"
        },
        {
         "connectgaps": false,
         "hovertemplate": "fnid=SS2011A111<br>indicator=yield<br>year=%{x}<br>value=%{y}<extra></extra>",
         "legendgroup": "SS2011A111",
         "line": {
          "color": "#636efa",
          "dash": "solid"
         },
         "marker": {
          "symbol": "circle"
         },
         "mode": "markers+lines",
         "name": "SS2011A111",
         "orientation": "v",
         "showlegend": false,
         "type": "scatter",
         "x": [
          2011,
          2012
         ],
         "xaxis": "x",
         "y": [
          0.3823529411764705,
          0.475
         ],
         "yaxis": "y"
        },
        {
         "connectgaps": false,
         "hovertemplate": "fnid=SS2011A112<br>indicator=production<br>year=%{x}<br>value=%{y}<extra></extra>",
         "legendgroup": "SS2011A112",
         "line": {
          "color": "#EF553B",
          "dash": "solid"
         },
         "marker": {
          "symbol": "circle"
         },
         "mode": "markers+lines",
         "name": "SS2011A112",
         "orientation": "v",
         "showlegend": true,
         "type": "scatter",
         "x": [
          2011,
          2012
         ],
         "xaxis": "x3",
         "y": [
          65000,
          57000
         ],
         "yaxis": "y3"
        },
        {
         "connectgaps": false,
         "hovertemplate": "fnid=SS2011A112<br>indicator=area<br>year=%{x}<br>value=%{y}<extra></extra>",
         "legendgroup": "SS2011A112",
         "line": {
          "color": "#EF553B",
          "dash": "solid"
         },
         "marker": {
          "symbol": "circle"
         },
         "mode": "markers+lines",
         "name": "SS2011A112",
         "orientation": "v",
         "showlegend": false,
         "type": "scatter",
         "x": [
          2011,
          2012
         ],
         "xaxis": "x2",
         "y": [
          128000,
          108000
         ],
         "yaxis": "y2"
        },
        {
         "connectgaps": false,
         "hovertemplate": "fnid=SS2011A112<br>indicator=yield<br>year=%{x}<br>value=%{y}<extra></extra>",
         "legendgroup": "SS2011A112",
         "line": {
          "color": "#EF553B",
          "dash": "solid"
         },
         "marker": {
          "symbol": "circle"
         },
         "mode": "markers+lines",
         "name": "SS2011A112",
         "orientation": "v",
         "showlegend": false,
         "type": "scatter",
         "x": [
          2011,
          2012
         ],
         "xaxis": "x",
         "y": [
          0.5078125,
          0.5277777777777778
         ],
         "yaxis": "y"
        },
        {
         "connectgaps": false,
         "hovertemplate": "fnid=SS2011A113<br>indicator=production<br>year=%{x}<br>value=%{y}<extra></extra>",
         "legendgroup": "SS2011A113",
         "line": {
          "color": "#00cc96",
          "dash": "solid"
         },
         "marker": {
          "symbol": "circle"
         },
         "mode": "markers+lines",
         "name": "SS2011A113",
         "orientation": "v",
         "showlegend": true,
         "type": "scatter",
         "x": [
          2011,
          2012
         ],
         "xaxis": "x3",
         "y": [
          8000,
          13000
         ],
         "yaxis": "y3"
        },
        {
         "connectgaps": false,
         "hovertemplate": "fnid=SS2011A113<br>indicator=area<br>year=%{x}<br>value=%{y}<extra></extra>",
         "legendgroup": "SS2011A113",
         "line": {
          "color": "#00cc96",
          "dash": "solid"
         },
         "marker": {
          "symbol": "circle"
         },
         "mode": "markers+lines",
         "name": "SS2011A113",
         "orientation": "v",
         "showlegend": false,
         "type": "scatter",
         "x": [
          2011,
          2012
         ],
         "xaxis": "x2",
         "y": [
          34000,
          42000
         ],
         "yaxis": "y2"
        },
        {
         "connectgaps": false,
         "hovertemplate": "fnid=SS2011A113<br>indicator=yield<br>year=%{x}<br>value=%{y}<extra></extra>",
         "legendgroup": "SS2011A113",
         "line": {
          "color": "#00cc96",
          "dash": "solid"
         },
         "marker": {
          "symbol": "circle"
         },
         "mode": "markers+lines",
         "name": "SS2011A113",
         "orientation": "v",
         "showlegend": false,
         "type": "scatter",
         "x": [
          2011,
          2012
         ],
         "xaxis": "x",
         "y": [
          0.2352941176470588,
          0.3095238095238095
         ],
         "yaxis": "y"
        },
        {
         "connectgaps": false,
         "hovertemplate": "fnid=SS2011A121<br>indicator=production<br>year=%{x}<br>value=%{y}<extra></extra>",
         "legendgroup": "SS2011A121",
         "line": {
          "color": "#ab63fa",
          "dash": "solid"
         },
         "marker": {
          "symbol": "circle"
         },
         "mode": "markers+lines",
         "name": "SS2011A121",
         "orientation": "v",
         "showlegend": true,
         "type": "scatter",
         "x": [
          2011,
          2012
         ],
         "xaxis": "x3",
         "y": [
          35000,
          45000
         ],
         "yaxis": "y3"
        },
        {
         "connectgaps": false,
         "hovertemplate": "fnid=SS2011A121<br>indicator=area<br>year=%{x}<br>value=%{y}<extra></extra>",
         "legendgroup": "SS2011A121",
         "line": {
          "color": "#ab63fa",
          "dash": "solid"
         },
         "marker": {
          "symbol": "circle"
         },
         "mode": "markers+lines",
         "name": "SS2011A121",
         "orientation": "v",
         "showlegend": false,
         "type": "scatter",
         "x": [
          2011,
          2012
         ],
         "xaxis": "x2",
         "y": [
          41000,
          57000
         ],
         "yaxis": "y2"
        },
        {
         "connectgaps": false,
         "hovertemplate": "fnid=SS2011A121<br>indicator=yield<br>year=%{x}<br>value=%{y}<extra></extra>",
         "legendgroup": "SS2011A121",
         "line": {
          "color": "#ab63fa",
          "dash": "solid"
         },
         "marker": {
          "symbol": "circle"
         },
         "mode": "markers+lines",
         "name": "SS2011A121",
         "orientation": "v",
         "showlegend": false,
         "type": "scatter",
         "x": [
          2011,
          2012
         ],
         "xaxis": "x",
         "y": [
          0.8536585365853658,
          0.7894736842105263
         ],
         "yaxis": "y"
        },
        {
         "connectgaps": false,
         "hovertemplate": "fnid=SS2011A122<br>indicator=production<br>year=%{x}<br>value=%{y}<extra></extra>",
         "legendgroup": "SS2011A122",
         "line": {
          "color": "#FFA15A",
          "dash": "solid"
         },
         "marker": {
          "symbol": "circle"
         },
         "mode": "markers+lines",
         "name": "SS2011A122",
         "orientation": "v",
         "showlegend": true,
         "type": "scatter",
         "x": [
          2011,
          2012
         ],
         "xaxis": "x3",
         "y": [
          40000,
          73000
         ],
         "yaxis": "y3"
        },
        {
         "connectgaps": false,
         "hovertemplate": "fnid=SS2011A122<br>indicator=area<br>year=%{x}<br>value=%{y}<extra></extra>",
         "legendgroup": "SS2011A122",
         "line": {
          "color": "#FFA15A",
          "dash": "solid"
         },
         "marker": {
          "symbol": "circle"
         },
         "mode": "markers+lines",
         "name": "SS2011A122",
         "orientation": "v",
         "showlegend": false,
         "type": "scatter",
         "x": [
          2011,
          2012
         ],
         "xaxis": "x2",
         "y": [
          68000,
          107000
         ],
         "yaxis": "y2"
        },
        {
         "connectgaps": false,
         "hovertemplate": "fnid=SS2011A122<br>indicator=yield<br>year=%{x}<br>value=%{y}<extra></extra>",
         "legendgroup": "SS2011A122",
         "line": {
          "color": "#FFA15A",
          "dash": "solid"
         },
         "marker": {
          "symbol": "circle"
         },
         "mode": "markers+lines",
         "name": "SS2011A122",
         "orientation": "v",
         "showlegend": false,
         "type": "scatter",
         "x": [
          2011,
          2012
         ],
         "xaxis": "x",
         "y": [
          0.5882352941176471,
          0.6822429906542056
         ],
         "yaxis": "y"
        },
        {
         "connectgaps": false,
         "hovertemplate": "fnid=SS2011A123<br>indicator=production<br>year=%{x}<br>value=%{y}<extra></extra>",
         "legendgroup": "SS2011A123",
         "line": {
          "color": "#19d3f3",
          "dash": "solid"
         },
         "marker": {
          "symbol": "circle"
         },
         "mode": "markers+lines",
         "name": "SS2011A123",
         "orientation": "v",
         "showlegend": true,
         "type": "scatter",
         "x": [
          2011,
          2012
         ],
         "xaxis": "x3",
         "y": [
          46000,
          89000
         ],
         "yaxis": "y3"
        },
        {
         "connectgaps": false,
         "hovertemplate": "fnid=SS2011A123<br>indicator=area<br>year=%{x}<br>value=%{y}<extra></extra>",
         "legendgroup": "SS2011A123",
         "line": {
          "color": "#19d3f3",
          "dash": "solid"
         },
         "marker": {
          "symbol": "circle"
         },
         "mode": "markers+lines",
         "name": "SS2011A123",
         "orientation": "v",
         "showlegend": false,
         "type": "scatter",
         "x": [
          2011,
          2012
         ],
         "xaxis": "x2",
         "y": [
          84000,
          164000
         ],
         "yaxis": "y2"
        },
        {
         "connectgaps": false,
         "hovertemplate": "fnid=SS2011A123<br>indicator=yield<br>year=%{x}<br>value=%{y}<extra></extra>",
         "legendgroup": "SS2011A123",
         "line": {
          "color": "#19d3f3",
          "dash": "solid"
         },
         "marker": {
          "symbol": "circle"
         },
         "mode": "markers+lines",
         "name": "SS2011A123",
         "orientation": "v",
         "showlegend": false,
         "type": "scatter",
         "x": [
          2011,
          2012
         ],
         "xaxis": "x",
         "y": [
          0.5476190476190477,
          0.5426829268292683
         ],
         "yaxis": "y"
        },
        {
         "connectgaps": false,
         "hovertemplate": "fnid=SS2011A124<br>indicator=production<br>year=%{x}<br>value=%{y}<extra></extra>",
         "legendgroup": "SS2011A124",
         "line": {
          "color": "#FF6692",
          "dash": "solid"
         },
         "marker": {
          "symbol": "circle"
         },
         "mode": "markers+lines",
         "name": "SS2011A124",
         "orientation": "v",
         "showlegend": true,
         "type": "scatter",
         "x": [
          2011,
          2012
         ],
         "xaxis": "x3",
         "y": [
          45000,
          66000
         ],
         "yaxis": "y3"
        },
        {
         "connectgaps": false,
         "hovertemplate": "fnid=SS2011A124<br>indicator=area<br>year=%{x}<br>value=%{y}<extra></extra>",
         "legendgroup": "SS2011A124",
         "line": {
          "color": "#FF6692",
          "dash": "solid"
         },
         "marker": {
          "symbol": "circle"
         },
         "mode": "markers+lines",
         "name": "SS2011A124",
         "orientation": "v",
         "showlegend": false,
         "type": "scatter",
         "x": [
          2011,
          2012
         ],
         "xaxis": "x2",
         "y": [
          70000,
          91000
         ],
         "yaxis": "y2"
        },
        {
         "connectgaps": false,
         "hovertemplate": "fnid=SS2011A124<br>indicator=yield<br>year=%{x}<br>value=%{y}<extra></extra>",
         "legendgroup": "SS2011A124",
         "line": {
          "color": "#FF6692",
          "dash": "solid"
         },
         "marker": {
          "symbol": "circle"
         },
         "mode": "markers+lines",
         "name": "SS2011A124",
         "orientation": "v",
         "showlegend": false,
         "type": "scatter",
         "x": [
          2011,
          2012
         ],
         "xaxis": "x",
         "y": [
          0.6428571428571429,
          0.7252747252747253
         ],
         "yaxis": "y"
        },
        {
         "connectgaps": false,
         "hovertemplate": "fnid=SS2011A131<br>indicator=production<br>year=%{x}<br>value=%{y}<extra></extra>",
         "legendgroup": "SS2011A131",
         "line": {
          "color": "#B6E880",
          "dash": "solid"
         },
         "marker": {
          "symbol": "circle"
         },
         "mode": "markers+lines",
         "name": "SS2011A131",
         "orientation": "v",
         "showlegend": true,
         "type": "scatter",
         "x": [
          2011,
          2012
         ],
         "xaxis": "x3",
         "y": [
          120000,
          157000
         ],
         "yaxis": "y3"
        },
        {
         "connectgaps": false,
         "hovertemplate": "fnid=SS2011A131<br>indicator=area<br>year=%{x}<br>value=%{y}<extra></extra>",
         "legendgroup": "SS2011A131",
         "line": {
          "color": "#B6E880",
          "dash": "solid"
         },
         "marker": {
          "symbol": "circle"
         },
         "mode": "markers+lines",
         "name": "SS2011A131",
         "orientation": "v",
         "showlegend": false,
         "type": "scatter",
         "x": [
          2011,
          2012
         ],
         "xaxis": "x2",
         "y": [
          129000,
          158000
         ],
         "yaxis": "y2"
        },
        {
         "connectgaps": false,
         "hovertemplate": "fnid=SS2011A131<br>indicator=yield<br>year=%{x}<br>value=%{y}<extra></extra>",
         "legendgroup": "SS2011A131",
         "line": {
          "color": "#B6E880",
          "dash": "solid"
         },
         "marker": {
          "symbol": "circle"
         },
         "mode": "markers+lines",
         "name": "SS2011A131",
         "orientation": "v",
         "showlegend": false,
         "type": "scatter",
         "x": [
          2011,
          2012
         ],
         "xaxis": "x",
         "y": [
          0.9302325581395348,
          0.9936708860759492
         ],
         "yaxis": "y"
        },
        {
         "connectgaps": false,
         "hovertemplate": "fnid=SS2011A132<br>indicator=production<br>year=%{x}<br>value=%{y}<extra></extra>",
         "legendgroup": "SS2011A132",
         "line": {
          "color": "#FF97FF",
          "dash": "solid"
         },
         "marker": {
          "symbol": "circle"
         },
         "mode": "markers+lines",
         "name": "SS2011A132",
         "orientation": "v",
         "showlegend": true,
         "type": "scatter",
         "x": [
          2011,
          2012
         ],
         "xaxis": "x3",
         "y": [
          78000,
          110000
         ],
         "yaxis": "y3"
        },
        {
         "connectgaps": false,
         "hovertemplate": "fnid=SS2011A132<br>indicator=area<br>year=%{x}<br>value=%{y}<extra></extra>",
         "legendgroup": "SS2011A132",
         "line": {
          "color": "#FF97FF",
          "dash": "solid"
         },
         "marker": {
          "symbol": "circle"
         },
         "mode": "markers+lines",
         "name": "SS2011A132",
         "orientation": "v",
         "showlegend": false,
         "type": "scatter",
         "x": [
          2011,
          2012
         ],
         "xaxis": "x2",
         "y": [
          123000,
          148000
         ],
         "yaxis": "y2"
        },
        {
         "connectgaps": false,
         "hovertemplate": "fnid=SS2011A132<br>indicator=yield<br>year=%{x}<br>value=%{y}<extra></extra>",
         "legendgroup": "SS2011A132",
         "line": {
          "color": "#FF97FF",
          "dash": "solid"
         },
         "marker": {
          "symbol": "circle"
         },
         "mode": "markers+lines",
         "name": "SS2011A132",
         "orientation": "v",
         "showlegend": false,
         "type": "scatter",
         "x": [
          2011,
          2012
         ],
         "xaxis": "x",
         "y": [
          0.6341463414634146,
          0.7432432432432432
         ],
         "yaxis": "y"
        },
        {
         "connectgaps": false,
         "hovertemplate": "fnid=SS2011A133<br>indicator=production<br>year=%{x}<br>value=%{y}<extra></extra>",
         "legendgroup": "SS2011A133",
         "line": {
          "color": "#FECB52",
          "dash": "solid"
         },
         "marker": {
          "symbol": "circle"
         },
         "mode": "markers+lines",
         "name": "SS2011A133",
         "orientation": "v",
         "showlegend": true,
         "type": "scatter",
         "x": [
          2011,
          2012
         ],
         "xaxis": "x3",
         "y": [
          99000,
          113000
         ],
         "yaxis": "y3"
        },
        {
         "connectgaps": false,
         "hovertemplate": "fnid=SS2011A133<br>indicator=area<br>year=%{x}<br>value=%{y}<extra></extra>",
         "legendgroup": "SS2011A133",
         "line": {
          "color": "#FECB52",
          "dash": "solid"
         },
         "marker": {
          "symbol": "circle"
         },
         "mode": "markers+lines",
         "name": "SS2011A133",
         "orientation": "v",
         "showlegend": false,
         "type": "scatter",
         "x": [
          2011,
          2012
         ],
         "xaxis": "x2",
         "y": [
          115000,
          130000
         ],
         "yaxis": "y2"
        },
        {
         "connectgaps": false,
         "hovertemplate": "fnid=SS2011A133<br>indicator=yield<br>year=%{x}<br>value=%{y}<extra></extra>",
         "legendgroup": "SS2011A133",
         "line": {
          "color": "#FECB52",
          "dash": "solid"
         },
         "marker": {
          "symbol": "circle"
         },
         "mode": "markers+lines",
         "name": "SS2011A133",
         "orientation": "v",
         "showlegend": false,
         "type": "scatter",
         "x": [
          2011,
          2012
         ],
         "xaxis": "x",
         "y": [
          0.8608695652173913,
          0.8692307692307693
         ],
         "yaxis": "y"
        }
       ],
       "layout": {
        "annotations": [
         {
          "showarrow": false,
          "text": "",
          "textangle": 90,
          "x": 0.98,
          "xanchor": "left",
          "xref": "paper",
          "y": 0.16333333333333333,
          "yanchor": "middle",
          "yref": "paper"
         },
         {
          "showarrow": false,
          "text": "",
          "textangle": 90,
          "x": 0.98,
          "xanchor": "left",
          "xref": "paper",
          "y": 0.5,
          "yanchor": "middle",
          "yref": "paper"
         },
         {
          "showarrow": false,
          "text": "",
          "textangle": 90,
          "x": 0.98,
          "xanchor": "left",
          "xref": "paper",
          "y": 0.8366666666666667,
          "yanchor": "middle",
          "yref": "paper"
         },
         {
          "align": "left",
          "font": {
           "color": "dimgrey",
           "family": "arial",
           "size": 15
          },
          "showarrow": false,
          "text": "Production-Area-Yield time-series of SS - Cereal Crops (Mixed) - Main",
          "x": -0.014,
          "xref": "paper",
          "y": -0.14,
          "yref": "paper"
         }
        ],
        "font": {
         "color": "black",
         "family": "arial",
         "size": 16
        },
        "height": 600,
        "legend": {
         "font": {
          "size": 14
         },
         "title": {
          "text": "FNID"
         },
         "tracegroupgap": 0,
         "x": 1,
         "xanchor": "left",
         "y": 1,
         "yanchor": "top"
        },
        "margin": {
         "b": 25,
         "l": 0,
         "r": 0,
         "t": 0
        },
        "template": {
         "data": {
          "bar": [
           {
            "error_x": {
             "color": "#2a3f5f"
            },
            "error_y": {
             "color": "#2a3f5f"
            },
            "marker": {
             "line": {
              "color": "#E5ECF6",
              "width": 0.5
             },
             "pattern": {
              "fillmode": "overlay",
              "size": 10,
              "solidity": 0.2
             }
            },
            "type": "bar"
           }
          ],
          "barpolar": [
           {
            "marker": {
             "line": {
              "color": "#E5ECF6",
              "width": 0.5
             },
             "pattern": {
              "fillmode": "overlay",
              "size": 10,
              "solidity": 0.2
             }
            },
            "type": "barpolar"
           }
          ],
          "carpet": [
           {
            "aaxis": {
             "endlinecolor": "#2a3f5f",
             "gridcolor": "white",
             "linecolor": "white",
             "minorgridcolor": "white",
             "startlinecolor": "#2a3f5f"
            },
            "baxis": {
             "endlinecolor": "#2a3f5f",
             "gridcolor": "white",
             "linecolor": "white",
             "minorgridcolor": "white",
             "startlinecolor": "#2a3f5f"
            },
            "type": "carpet"
           }
          ],
          "choropleth": [
           {
            "colorbar": {
             "outlinewidth": 0,
             "ticks": ""
            },
            "type": "choropleth"
           }
          ],
          "contour": [
           {
            "colorbar": {
             "outlinewidth": 0,
             "ticks": ""
            },
            "colorscale": [
             [
              0,
              "#0d0887"
             ],
             [
              0.1111111111111111,
              "#46039f"
             ],
             [
              0.2222222222222222,
              "#7201a8"
             ],
             [
              0.3333333333333333,
              "#9c179e"
             ],
             [
              0.4444444444444444,
              "#bd3786"
             ],
             [
              0.5555555555555556,
              "#d8576b"
             ],
             [
              0.6666666666666666,
              "#ed7953"
             ],
             [
              0.7777777777777778,
              "#fb9f3a"
             ],
             [
              0.8888888888888888,
              "#fdca26"
             ],
             [
              1,
              "#f0f921"
             ]
            ],
            "type": "contour"
           }
          ],
          "contourcarpet": [
           {
            "colorbar": {
             "outlinewidth": 0,
             "ticks": ""
            },
            "type": "contourcarpet"
           }
          ],
          "heatmap": [
           {
            "colorbar": {
             "outlinewidth": 0,
             "ticks": ""
            },
            "colorscale": [
             [
              0,
              "#0d0887"
             ],
             [
              0.1111111111111111,
              "#46039f"
             ],
             [
              0.2222222222222222,
              "#7201a8"
             ],
             [
              0.3333333333333333,
              "#9c179e"
             ],
             [
              0.4444444444444444,
              "#bd3786"
             ],
             [
              0.5555555555555556,
              "#d8576b"
             ],
             [
              0.6666666666666666,
              "#ed7953"
             ],
             [
              0.7777777777777778,
              "#fb9f3a"
             ],
             [
              0.8888888888888888,
              "#fdca26"
             ],
             [
              1,
              "#f0f921"
             ]
            ],
            "type": "heatmap"
           }
          ],
          "heatmapgl": [
           {
            "colorbar": {
             "outlinewidth": 0,
             "ticks": ""
            },
            "colorscale": [
             [
              0,
              "#0d0887"
             ],
             [
              0.1111111111111111,
              "#46039f"
             ],
             [
              0.2222222222222222,
              "#7201a8"
             ],
             [
              0.3333333333333333,
              "#9c179e"
             ],
             [
              0.4444444444444444,
              "#bd3786"
             ],
             [
              0.5555555555555556,
              "#d8576b"
             ],
             [
              0.6666666666666666,
              "#ed7953"
             ],
             [
              0.7777777777777778,
              "#fb9f3a"
             ],
             [
              0.8888888888888888,
              "#fdca26"
             ],
             [
              1,
              "#f0f921"
             ]
            ],
            "type": "heatmapgl"
           }
          ],
          "histogram": [
           {
            "marker": {
             "pattern": {
              "fillmode": "overlay",
              "size": 10,
              "solidity": 0.2
             }
            },
            "type": "histogram"
           }
          ],
          "histogram2d": [
           {
            "colorbar": {
             "outlinewidth": 0,
             "ticks": ""
            },
            "colorscale": [
             [
              0,
              "#0d0887"
             ],
             [
              0.1111111111111111,
              "#46039f"
             ],
             [
              0.2222222222222222,
              "#7201a8"
             ],
             [
              0.3333333333333333,
              "#9c179e"
             ],
             [
              0.4444444444444444,
              "#bd3786"
             ],
             [
              0.5555555555555556,
              "#d8576b"
             ],
             [
              0.6666666666666666,
              "#ed7953"
             ],
             [
              0.7777777777777778,
              "#fb9f3a"
             ],
             [
              0.8888888888888888,
              "#fdca26"
             ],
             [
              1,
              "#f0f921"
             ]
            ],
            "type": "histogram2d"
           }
          ],
          "histogram2dcontour": [
           {
            "colorbar": {
             "outlinewidth": 0,
             "ticks": ""
            },
            "colorscale": [
             [
              0,
              "#0d0887"
             ],
             [
              0.1111111111111111,
              "#46039f"
             ],
             [
              0.2222222222222222,
              "#7201a8"
             ],
             [
              0.3333333333333333,
              "#9c179e"
             ],
             [
              0.4444444444444444,
              "#bd3786"
             ],
             [
              0.5555555555555556,
              "#d8576b"
             ],
             [
              0.6666666666666666,
              "#ed7953"
             ],
             [
              0.7777777777777778,
              "#fb9f3a"
             ],
             [
              0.8888888888888888,
              "#fdca26"
             ],
             [
              1,
              "#f0f921"
             ]
            ],
            "type": "histogram2dcontour"
           }
          ],
          "mesh3d": [
           {
            "colorbar": {
             "outlinewidth": 0,
             "ticks": ""
            },
            "type": "mesh3d"
           }
          ],
          "parcoords": [
           {
            "line": {
             "colorbar": {
              "outlinewidth": 0,
              "ticks": ""
             }
            },
            "type": "parcoords"
           }
          ],
          "pie": [
           {
            "automargin": true,
            "type": "pie"
           }
          ],
          "scatter": [
           {
            "fillpattern": {
             "fillmode": "overlay",
             "size": 10,
             "solidity": 0.2
            },
            "type": "scatter"
           }
          ],
          "scatter3d": [
           {
            "line": {
             "colorbar": {
              "outlinewidth": 0,
              "ticks": ""
             }
            },
            "marker": {
             "colorbar": {
              "outlinewidth": 0,
              "ticks": ""
             }
            },
            "type": "scatter3d"
           }
          ],
          "scattercarpet": [
           {
            "marker": {
             "colorbar": {
              "outlinewidth": 0,
              "ticks": ""
             }
            },
            "type": "scattercarpet"
           }
          ],
          "scattergeo": [
           {
            "marker": {
             "colorbar": {
              "outlinewidth": 0,
              "ticks": ""
             }
            },
            "type": "scattergeo"
           }
          ],
          "scattergl": [
           {
            "marker": {
             "colorbar": {
              "outlinewidth": 0,
              "ticks": ""
             }
            },
            "type": "scattergl"
           }
          ],
          "scattermapbox": [
           {
            "marker": {
             "colorbar": {
              "outlinewidth": 0,
              "ticks": ""
             }
            },
            "type": "scattermapbox"
           }
          ],
          "scatterpolar": [
           {
            "marker": {
             "colorbar": {
              "outlinewidth": 0,
              "ticks": ""
             }
            },
            "type": "scatterpolar"
           }
          ],
          "scatterpolargl": [
           {
            "marker": {
             "colorbar": {
              "outlinewidth": 0,
              "ticks": ""
             }
            },
            "type": "scatterpolargl"
           }
          ],
          "scatterternary": [
           {
            "marker": {
             "colorbar": {
              "outlinewidth": 0,
              "ticks": ""
             }
            },
            "type": "scatterternary"
           }
          ],
          "surface": [
           {
            "colorbar": {
             "outlinewidth": 0,
             "ticks": ""
            },
            "colorscale": [
             [
              0,
              "#0d0887"
             ],
             [
              0.1111111111111111,
              "#46039f"
             ],
             [
              0.2222222222222222,
              "#7201a8"
             ],
             [
              0.3333333333333333,
              "#9c179e"
             ],
             [
              0.4444444444444444,
              "#bd3786"
             ],
             [
              0.5555555555555556,
              "#d8576b"
             ],
             [
              0.6666666666666666,
              "#ed7953"
             ],
             [
              0.7777777777777778,
              "#fb9f3a"
             ],
             [
              0.8888888888888888,
              "#fdca26"
             ],
             [
              1,
              "#f0f921"
             ]
            ],
            "type": "surface"
           }
          ],
          "table": [
           {
            "cells": {
             "fill": {
              "color": "#EBF0F8"
             },
             "line": {
              "color": "white"
             }
            },
            "header": {
             "fill": {
              "color": "#C8D4E3"
             },
             "line": {
              "color": "white"
             }
            },
            "type": "table"
           }
          ]
         },
         "layout": {
          "annotationdefaults": {
           "arrowcolor": "#2a3f5f",
           "arrowhead": 0,
           "arrowwidth": 1
          },
          "autotypenumbers": "strict",
          "coloraxis": {
           "colorbar": {
            "outlinewidth": 0,
            "ticks": ""
           }
          },
          "colorscale": {
           "diverging": [
            [
             0,
             "#8e0152"
            ],
            [
             0.1,
             "#c51b7d"
            ],
            [
             0.2,
             "#de77ae"
            ],
            [
             0.3,
             "#f1b6da"
            ],
            [
             0.4,
             "#fde0ef"
            ],
            [
             0.5,
             "#f7f7f7"
            ],
            [
             0.6,
             "#e6f5d0"
            ],
            [
             0.7,
             "#b8e186"
            ],
            [
             0.8,
             "#7fbc41"
            ],
            [
             0.9,
             "#4d9221"
            ],
            [
             1,
             "#276419"
            ]
           ],
           "sequential": [
            [
             0,
             "#0d0887"
            ],
            [
             0.1111111111111111,
             "#46039f"
            ],
            [
             0.2222222222222222,
             "#7201a8"
            ],
            [
             0.3333333333333333,
             "#9c179e"
            ],
            [
             0.4444444444444444,
             "#bd3786"
            ],
            [
             0.5555555555555556,
             "#d8576b"
            ],
            [
             0.6666666666666666,
             "#ed7953"
            ],
            [
             0.7777777777777778,
             "#fb9f3a"
            ],
            [
             0.8888888888888888,
             "#fdca26"
            ],
            [
             1,
             "#f0f921"
            ]
           ],
           "sequentialminus": [
            [
             0,
             "#0d0887"
            ],
            [
             0.1111111111111111,
             "#46039f"
            ],
            [
             0.2222222222222222,
             "#7201a8"
            ],
            [
             0.3333333333333333,
             "#9c179e"
            ],
            [
             0.4444444444444444,
             "#bd3786"
            ],
            [
             0.5555555555555556,
             "#d8576b"
            ],
            [
             0.6666666666666666,
             "#ed7953"
            ],
            [
             0.7777777777777778,
             "#fb9f3a"
            ],
            [
             0.8888888888888888,
             "#fdca26"
            ],
            [
             1,
             "#f0f921"
            ]
           ]
          },
          "colorway": [
           "#636efa",
           "#EF553B",
           "#00cc96",
           "#ab63fa",
           "#FFA15A",
           "#19d3f3",
           "#FF6692",
           "#B6E880",
           "#FF97FF",
           "#FECB52"
          ],
          "font": {
           "color": "#2a3f5f"
          },
          "geo": {
           "bgcolor": "white",
           "lakecolor": "white",
           "landcolor": "#E5ECF6",
           "showlakes": true,
           "showland": true,
           "subunitcolor": "white"
          },
          "hoverlabel": {
           "align": "left"
          },
          "hovermode": "closest",
          "mapbox": {
           "style": "light"
          },
          "paper_bgcolor": "white",
          "plot_bgcolor": "#E5ECF6",
          "polar": {
           "angularaxis": {
            "gridcolor": "white",
            "linecolor": "white",
            "ticks": ""
           },
           "bgcolor": "#E5ECF6",
           "radialaxis": {
            "gridcolor": "white",
            "linecolor": "white",
            "ticks": ""
           }
          },
          "scene": {
           "xaxis": {
            "backgroundcolor": "#E5ECF6",
            "gridcolor": "white",
            "gridwidth": 2,
            "linecolor": "white",
            "showbackground": true,
            "ticks": "",
            "zerolinecolor": "white"
           },
           "yaxis": {
            "backgroundcolor": "#E5ECF6",
            "gridcolor": "white",
            "gridwidth": 2,
            "linecolor": "white",
            "showbackground": true,
            "ticks": "",
            "zerolinecolor": "white"
           },
           "zaxis": {
            "backgroundcolor": "#E5ECF6",
            "gridcolor": "white",
            "gridwidth": 2,
            "linecolor": "white",
            "showbackground": true,
            "ticks": "",
            "zerolinecolor": "white"
           }
          },
          "shapedefaults": {
           "line": {
            "color": "#2a3f5f"
           }
          },
          "ternary": {
           "aaxis": {
            "gridcolor": "white",
            "linecolor": "white",
            "ticks": ""
           },
           "baxis": {
            "gridcolor": "white",
            "linecolor": "white",
            "ticks": ""
           },
           "bgcolor": "#E5ECF6",
           "caxis": {
            "gridcolor": "white",
            "linecolor": "white",
            "ticks": ""
           }
          },
          "title": {
           "x": 0.05
          },
          "xaxis": {
           "automargin": true,
           "gridcolor": "white",
           "linecolor": "white",
           "ticks": "",
           "title": {
            "standoff": 15
           },
           "zerolinecolor": "white",
           "zerolinewidth": 2
          },
          "yaxis": {
           "automargin": true,
           "gridcolor": "white",
           "linecolor": "white",
           "ticks": "",
           "title": {
            "standoff": 15
           },
           "zerolinecolor": "white",
           "zerolinewidth": 2
          }
         }
        },
        "width": 900,
        "xaxis": {
         "anchor": "y",
         "domain": [
          0,
          0.98
         ],
         "dtick": 1,
         "range": [
          1974,
          2012
         ],
         "title": {
          "text": ""
         }
        },
        "xaxis2": {
         "anchor": "y2",
         "domain": [
          0,
          0.98
         ],
         "dtick": 1,
         "matches": "x",
         "showticklabels": false
        },
        "xaxis3": {
         "anchor": "y3",
         "domain": [
          0,
          0.98
         ],
         "dtick": 1,
         "matches": "x",
         "showticklabels": false
        },
        "yaxis": {
         "anchor": "x",
         "domain": [
          0,
          0.32666666666666666
         ],
         "title": {
          "text": "Yield (mt/ha)"
         }
        },
        "yaxis2": {
         "anchor": "x2",
         "domain": [
          0.33666666666666667,
          0.6633333333333333
         ],
         "title": {
          "text": "Area (ha)"
         }
        },
        "yaxis3": {
         "anchor": "x3",
         "domain": [
          0.6733333333333333,
          1
         ],
         "title": {
          "text": "Production (mt)"
         }
        }
       }
      }
     },
     "metadata": {},
     "output_type": "display_data"
    }
   ],
   "source": [
    "# Lineplot of Production-Area-Yield time-series\n",
    "country_iso, country_name = 'SS', 'South Sudan'\n",
    "df = pd.read_csv('../data/crop/adm_crop_production_%s.csv' % country_iso, index_col=0)\n",
    "df['year'] = df['harvest_year']\n",
    "year = [df['year'].min(), df['year'].max()]\n",
    "product_season = [\n",
    "    ['Cereal Crops (Mixed)','Main'],\n",
    "]\n",
    "for product_name, season_name in product_season:\n",
    "    footnote = 'Production-Area-Yield time-series of %s - %s - %s' % (country_iso, product_name, season_name)\n",
    "    fn_save = '../figures/%s_line_pay_%s_%s.png' % (country_iso, product_name, season_name)\n",
    "    sub = df[(df['product'] == product_name) & (df['season_name'] == season_name)]\n",
    "    fig = PlotLinePAY(sub, year, footnote, fn_save)\n",
    "    fig.show()"
   ]
  }
 ],
 "metadata": {
  "kernelspec": {
   "display_name": "Python 3 (ipykernel)",
   "language": "python",
   "name": "python3"
  },
  "language_info": {
   "codemirror_mode": {
    "name": "ipython",
    "version": 3
   },
   "file_extension": ".py",
   "mimetype": "text/x-python",
   "name": "python",
   "nbconvert_exporter": "python",
   "pygments_lexer": "ipython3",
   "version": "3.10.10"
  }
 },
 "nbformat": 4,
 "nbformat_minor": 5
}
