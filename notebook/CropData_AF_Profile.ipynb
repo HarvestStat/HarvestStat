{
 "cells": [
  {
   "cell_type": "markdown",
   "id": "60d467f8-fee5-4752-9632-9a2bb58f8d01",
   "metadata": {},
   "source": [
    "# HarvestStat Data Profiling - Afghanistan"
   ]
  },
  {
   "cell_type": "code",
   "execution_count": 1,
   "id": "f7477c2a-096a-4839-b6a3-b1466fa895f8",
   "metadata": {},
   "outputs": [],
   "source": [
    "import glob, json\n",
    "import warnings\n",
    "warnings.simplefilter(action='ignore', category=FutureWarning)\n",
    "import requests\n",
    "import numpy as np\n",
    "import pandas as pd\n",
    "import geopandas as gpd\n",
    "from tools import save_npz, PrintAdminUnits, PlotAdminShapes\n",
    "from tools import FDW_PD_Sweeper, FDW_PD_AvalTable, FDW_PD_Compiling, FDW_PD_ValidateFnidName\n",
    "from tools import FDW_PD_CreateAdminLink, FDW_PD_RatioAdminLink, FDW_PD_ConnectAdminLink\n",
    "from tools import FDW_PD_CaliSeasonYear\n",
    "from tools_graphic import PlotBarProduction, PlotLinePAY\n",
    "warnings.simplefilter(action='ignore', category=pd.errors.PerformanceWarning)\n",
    "pd.options.mode.chained_assignment = None"
   ]
  },
  {
   "cell_type": "code",
   "execution_count": 2,
   "id": "2bde8cc0-f3ac-4b8f-a548-0c329dae7fb0",
   "metadata": {},
   "outputs": [
    {
     "name": "stdout",
     "output_type": "stream",
     "text": [
      "- FEWS NET admin shapefiles ------------------- #\n",
      "| year\t | Admin1   | # units   | Admin2   | # units   | Admin3   | # units   |\n",
      "| 2000\t | AF2000A1 | 32\t| AF2000A2\t| 330\t| nan\t| 0\t|\n",
      "| 2005\t | AF2005A1 | 34\t| nan\t| 0\t| nan\t| 0\t|\n",
      "| 2013\t | AF2013A1 | 34\t| AF2013A2\t| 399\t| nan\t| 0\t|\n",
      "| 2017\t | AF2017A1 | 34\t| AF2017A2\t| 401\t| nan\t| 0\t|\n",
      "----------------------------------------------- #\n"
     ]
    }
   ],
   "source": [
    "# Load FEWS NET administrative boundaries ------- #\n",
    "epsg = 'epsg:32642' # Afghanistan\n",
    "fn_shapes = sorted(glob.glob('../data/shapefile/fewsnet/AF_Admin?_????.shp'))\n",
    "shape_all = []\n",
    "for fn in fn_shapes:\n",
    "    name = fn[-18:-4]\n",
    "    exec('%s = gpd.read_file(\"%s\").to_crs(\"%s\")' % (name, fn, epsg))\n",
    "    exec('%s[\"area\"] = %s[\"geometry\"].area/10**6' % (name, name))\n",
    "    exec('shape_all.append(%s)' % (name))\n",
    "shape_all = pd.concat(shape_all, axis=0).reset_index(drop=True)\n",
    "PrintAdminUnits(shape_all)\n",
    "# ----------------------------------------------- #\n",
    "\n",
    "# FDW API host address -------------------------- #\n",
    "host = 'https://fdw.fews.net'\n",
    "auth = tuple(json.loads(open('token.json', \"r\").read()))\n",
    "parameters = {\n",
    "    'format': 'json',\n",
    "    'country': 'Afghanistan',\n",
    "    'product': ['R011','R012','R013','R014','R015','R016','R017','R018','R019'],\n",
    "    'survey_type': 'crop:best'\n",
    "}\n",
    "endpoint = '/api/cropproductionindicatorvalue/'\n",
    "response = requests.get(host + endpoint, auth=auth, params=parameters, proxies={})\n",
    "response.raise_for_status()\n",
    "df = pd.DataFrame.from_records(response.json())\n",
    "# ----------------------------------------------- #"
   ]
  },
  {
   "cell_type": "code",
   "execution_count": 3,
   "id": "950c4248-0074-4f7d-abc2-bc0b92e56e15",
   "metadata": {},
   "outputs": [
    {
     "name": "stdout",
     "output_type": "stream",
     "text": [
      "- Remove missing records ---------------------- #\n",
      "Orignial data points: 11,881\n",
      "Removed 1,700 \"Missing Value\" points\n",
      "0/1,210 \"Area Harvested\" points are retained.\n",
      "3,436/3,557 \"Area Planted\" points are retained.\n",
      "3,375/3,557 \"Quantity Produced\" points are retained.\n",
      "3,370/3,557 \"Yield\" points are retained.\n",
      "Current data points: 10,181\n",
      "\n",
      "- Minor changes are applied ------------------- #\n",
      "\n",
      "- Basic information --------------------------- #\n",
      "Data period: 2008 - 2019\n",
      "13 grain types are found: Almond (unspecified), Apple (unspecified), Barley (Unspecified), Cotton (Unspecified), Grape (unspecified), Maize (Corn), Maize Grain (Yellow), Peach (unspecified), Pomegranate, Rice (Paddy), Saffron, Soybean (unspecified), Wheat Grain\n",
      "3 seasons are found: Autumn harvest (10-01), Summer harvest (07-01), Spring harvest (05-01)\n",
      "1 crop production system are found: none\n",
      "Data sources include:\n",
      "[1] Ministry of Agriculture, Irrigation and Livestock, Afghanistan --- Afghanistan Agricultural Annual Report\n",
      "[2] Ministry of Agriculture, Irrigation and Livestock, Afghanistan --- Afghanistan Agricultural Annual Report (estimates)\n",
      "[3] Ministry of Agriculture, Irrigation and Livestock, Afghanistan --- Afghanistan Statistical Yearbook\n",
      "[4] Ministry of Agriculture, Irrigation and Livestock, Afghanistan --- Afghanistan Statistical Yearbook, estimates\n",
      "Administrative-1 fnids: 68\n",
      "Administrative-2 fnids: 0\n",
      "0 reporting units are found: \n",
      "\n",
      "- Total production over time ------------------ #\n",
      "season_name           Autumn harvest Spring harvest Summer harvest\n",
      "                                                                  \n",
      "Almond (unspecified)            0.7%           0.0%           0.0%\n",
      "Apple (unspecified)             1.7%           0.0%           0.0%\n",
      "Barley (Unspecified)            0.0%           5.8%           0.0%\n",
      "Cotton (Unspecified)            0.0%           0.0%           0.8%\n",
      "Grape (unspecified)             9.9%           0.0%           0.0%\n",
      "Maize (Corn)                    0.7%           0.0%           0.0%\n",
      "Maize Grain (Yellow)            3.4%           0.0%           0.0%\n",
      "Peach (unspecified)             0.5%           0.0%           0.0%\n",
      "Pomegranate                     1.7%           0.0%           0.0%\n",
      "Rice (Paddy)                    7.5%           0.0%           0.0%\n",
      "Saffron                         0.0%           0.1%           0.0%\n",
      "Soybean (unspecified)           0.0%           0.0%           0.0%\n",
      "Wheat Grain                     0.0%          51.9%          15.3%\n",
      "\n",
      "- Crop calendar ------------------------------- #\n",
      "                  product     season_name planting_month harvest_month\n",
      "0    Almond (unspecified)  Autumn harvest          10-01         11-01\n",
      "1     Apple (unspecified)  Autumn harvest          10-01         11-01\n",
      "2    Barley (Unspecified)  Spring harvest          05-01         07-01\n",
      "3    Cotton (Unspecified)  Summer harvest          07-01         08-01\n",
      "4     Grape (unspecified)  Autumn harvest          10-01         11-01\n",
      "5            Maize (Corn)  Autumn harvest          10-01         11-01\n",
      "6    Maize Grain (Yellow)  Autumn harvest          10-01         11-01\n",
      "7     Peach (unspecified)  Autumn harvest          10-01         11-01\n",
      "8             Pomegranate  Autumn harvest          10-01         11-01\n",
      "9            Rice (Paddy)  Autumn harvest          10-01         11-01\n",
      "10                Saffron  Spring harvest          05-01         07-01\n",
      "11  Soybean (unspecified)  Autumn harvest          10-01         11-01\n",
      "12            Wheat Grain  Summer harvest          07-01         08-01\n",
      "13            Wheat Grain  Spring harvest          05-01         07-01\n",
      "\n",
      "- Recorded years per season ------------------- #\n",
      "Autumn harvest: 11 years (2009-2019) (missing: 0 years)\n",
      "Summer harvest: 12 years (2008-2019) (missing: 0 years)\n",
      "Spring harvest: 11 years (2009-2019) (missing: 0 years)\n",
      "\n",
      "- Number of \"Quantity Produced\" data points --- #\n",
      "AF2005A1: 2,447 data points are found.\n",
      "AF2017A1: 928 data points are found.\n",
      "\n",
      "- Districts with population group(s) ---------- #\n",
      "0 districts includes 'population_group'.\n",
      "\n",
      "Table of available data\n",
      "----------------------------------------------- #\n",
      "Crop type: Almond (unspecified)\n",
      "----------------------------------------------- #\n",
      "season_name            Autumn harvest       \n",
      "crop_production_system           none       \n",
      "fnid_short                     2005A1 2017A1\n",
      "year                                        \n",
      "2010                            25/34    NaN\n",
      "2011                            25/34    NaN\n",
      "2012                            28/34    NaN\n",
      "2013                            28/34    NaN\n",
      "2014                            29/34    NaN\n",
      "2015                            29/34    NaN\n",
      "2016                            29/34    NaN\n",
      "2017                             6/34  25/34\n",
      "2018                              NaN  33/34\n",
      "2019                              NaN  34/34\n",
      "----------------------------------------------- #\n",
      "Crop type: Apple (unspecified)\n",
      "----------------------------------------------- #\n",
      "season_name            Autumn harvest       \n",
      "crop_production_system           none       \n",
      "fnid_short                     2005A1 2017A1\n",
      "year                                        \n",
      "2011                            28/34    NaN\n",
      "2012                            30/34    NaN\n",
      "2013                            31/34    NaN\n",
      "2014                            34/34    NaN\n",
      "2015                            34/34    NaN\n",
      "2016                            34/34    NaN\n",
      "2017                             6/34  33/34\n",
      "2018                              NaN  34/34\n",
      "2019                              NaN  32/34\n",
      "----------------------------------------------- #\n",
      "Crop type: Barley (Unspecified)\n",
      "----------------------------------------------- #\n",
      "season_name            Spring harvest       \n",
      "crop_production_system           none       \n",
      "fnid_short                     2005A1 2017A1\n",
      "year                                        \n",
      "2009                            32/34    NaN\n",
      "2010                            33/34    NaN\n",
      "2011                            33/34    NaN\n",
      "2012                            33/34    NaN\n",
      "2013                            34/34    NaN\n",
      "2014                            34/34    NaN\n",
      "2015                            34/34    NaN\n",
      "2016                            34/34    NaN\n",
      "2017                             3/34  33/34\n",
      "2018                              NaN  28/34\n",
      "2019                              NaN  29/34\n",
      "----------------------------------------------- #\n",
      "Crop type: Cotton (Unspecified)\n",
      "----------------------------------------------- #\n",
      "season_name            Summer harvest       \n",
      "crop_production_system           none       \n",
      "fnid_short                     2005A1 2017A1\n",
      "year                                        \n",
      "2008                            12/34    NaN\n",
      "2009                            12/34    NaN\n",
      "2010                            16/34    NaN\n",
      "2011                            16/34    NaN\n",
      "2012                            16/34    NaN\n",
      "2013                            16/34    NaN\n",
      "2014                            16/34    NaN\n",
      "2015                            16/34    NaN\n",
      "2016                            16/34    NaN\n",
      "2017                             2/34  13/34\n",
      "2018                              NaN  16/34\n",
      "2019                              NaN  19/34\n",
      "----------------------------------------------- #\n",
      "Crop type: Grape (unspecified)\n",
      "----------------------------------------------- #\n",
      "season_name            Autumn harvest       \n",
      "crop_production_system           none       \n",
      "fnid_short                     2005A1 2017A1\n",
      "year                                        \n",
      "2011                            25/34    NaN\n",
      "2012                            29/34    NaN\n",
      "2013                            29/34    NaN\n",
      "2014                            30/34    NaN\n",
      "2015                            31/34    NaN\n",
      "2016                            32/34    NaN\n",
      "2017                             4/34  31/34\n",
      "2018                              NaN  31/34\n",
      "2019                              NaN  31/34\n",
      "----------------------------------------------- #\n",
      "Crop type: Maize (Corn)\n",
      "----------------------------------------------- #\n",
      "season_name            Autumn harvest\n",
      "crop_production_system           none\n",
      "fnid_short                     2017A1\n",
      "year                                 \n",
      "2017                            23/34\n",
      "2018                            29/34\n",
      "2019                            29/34\n",
      "----------------------------------------------- #\n",
      "Crop type: Maize Grain (Yellow)\n",
      "----------------------------------------------- #\n",
      "season_name            Autumn harvest\n",
      "crop_production_system           none\n",
      "fnid_short                     2005A1\n",
      "year                                 \n",
      "2009                            30/34\n",
      "2010                            33/34\n",
      "2011                            33/34\n",
      "2012                            33/34\n",
      "2013                            34/34\n",
      "2014                            34/34\n",
      "2015                            30/34\n",
      "2016                            32/34\n",
      "2017                             2/34\n",
      "----------------------------------------------- #\n",
      "Crop type: Peach (unspecified)\n",
      "----------------------------------------------- #\n",
      "season_name            Autumn harvest       \n",
      "crop_production_system           none       \n",
      "fnid_short                     2005A1 2017A1\n",
      "year                                        \n",
      "2010                            23/34    NaN\n",
      "2011                            23/34    NaN\n",
      "2012                            30/34    NaN\n",
      "2013                            30/34    NaN\n",
      "2014                            31/34    NaN\n",
      "2015                            29/34    NaN\n",
      "2016                            33/34    NaN\n",
      "2017                             5/34  33/34\n",
      "2018                              NaN  33/34\n",
      "2019                              NaN  33/34\n",
      "----------------------------------------------- #\n",
      "Crop type: Pomegranate\n",
      "----------------------------------------------- #\n",
      "season_name            Autumn harvest       \n",
      "crop_production_system           none       \n",
      "fnid_short                     2005A1 2017A1\n",
      "year                                        \n",
      "2010                            21/34    NaN\n",
      "2011                            22/34    NaN\n",
      "2012                            22/34    NaN\n",
      "2013                            22/34    NaN\n",
      "2014                            22/34    NaN\n",
      "2015                            22/34    NaN\n",
      "2016                            22/34    NaN\n",
      "2017                             3/34  24/34\n",
      "2018                              NaN  27/34\n",
      "2019                              NaN  28/34\n",
      "----------------------------------------------- #\n",
      "Crop type: Rice (Paddy)\n",
      "----------------------------------------------- #\n",
      "season_name            Autumn harvest       \n",
      "crop_production_system           none       \n",
      "fnid_short                     2005A1 2017A1\n",
      "year                                        \n",
      "2009                            23/34    NaN\n",
      "2010                            23/34    NaN\n",
      "2011                            23/34    NaN\n",
      "2012                            23/34    NaN\n",
      "2013                            24/34    NaN\n",
      "2014                            16/34    NaN\n",
      "2015                            18/34    NaN\n",
      "2016                            17/34    NaN\n",
      "2017                             4/34  17/34\n",
      "2018                            17/34  17/34\n",
      "2019                              NaN  18/34\n",
      "----------------------------------------------- #\n",
      "Crop type: Saffron\n",
      "----------------------------------------------- #\n",
      "season_name            Spring harvest       \n",
      "crop_production_system           none       \n",
      "fnid_short                     2005A1 2017A1\n",
      "year                                        \n",
      "2016                            30/34    NaN\n",
      "2017                              NaN  33/34\n",
      "2018                              NaN  33/34\n",
      "2019                              NaN  34/34\n",
      "----------------------------------------------- #\n",
      "Crop type: Soybean (unspecified)\n",
      "----------------------------------------------- #\n",
      "season_name            Autumn harvest\n",
      "crop_production_system           none\n",
      "fnid_short                     2005A1\n",
      "year                                 \n",
      "2017                             2/34\n",
      "----------------------------------------------- #\n",
      "Crop type: Wheat Grain\n",
      "----------------------------------------------- #\n",
      "season_name            Spring harvest        Summer harvest       \n",
      "crop_production_system           none                  none       \n",
      "fnid_short                     2005A1 2017A1         2005A1 2017A1\n",
      "year                                                              \n",
      "2009                            34/34    NaN          28/34    NaN\n",
      "2010                            34/34    NaN          30/34    NaN\n",
      "2011                            34/34    NaN          30/34    NaN\n",
      "2012                            34/34    NaN          30/34    NaN\n",
      "2013                            34/34    NaN          30/34    NaN\n",
      "2014                            34/34    NaN          30/34    NaN\n",
      "2015                            34/34    NaN          28/34    NaN\n",
      "2016                            34/34    NaN          27/34    NaN\n",
      "2017                              NaN  34/34          34/34  25/34\n",
      "2018                            34/34  34/34          26/34  26/34\n",
      "2019                            34/34    NaN          26/34    NaN\n",
      "----------------------------------------------- #\n",
      "../figures/AF_admin_shapes.png is saved.\n"
     ]
    }
   ],
   "source": [
    "# Manual Pre-processing before Sweeping --------- #\n",
    "# 1. Default setting \n",
    "# a) None-type crop production system\n",
    "df.loc[df['crop_production_system'].isna(), 'crop_production_system'] = 'none'\n",
    "df.loc[df['crop_production_system'] == '', 'crop_production_system'] = 'none'\n",
    "# b) None-type population group\n",
    "df.loc[df['population_group'].isna(), 'population_group'] = 'none'\n",
    "df.loc[df['population_group'] == '', 'population_group'] = 'none'\n",
    "# 2. Manual setting\n",
    "# a) Add admin names to reporting units\n",
    "admin_level = 'admin_1'\n",
    "reporting_unit = df.loc[df['fnid'].map(lambda x: x[6] != 'A'), 'fnid'].unique()\n",
    "df.loc[df.fnid.isin(reporting_unit),admin_level] = df.loc[df.fnid.isin(reporting_unit), 'locality_name'].map(lambda x: x.split(' ')[0])\n",
    "# 3. Remove duplicate and invalid data \n",
    "pub_name_remove = 'Afghanistan Statistical Yearbook, 2016-2017'\n",
    "df = df[df['publication_name'] != pub_name_remove]\n",
    "src_name_remove = 'Afghanistan Statistical Yearbook (2019-10-28)'\n",
    "df = df[df['source_document'] != src_name_remove]\n",
    "cont1 = df['publication_name'] == 'Afghanistan Statistical Yearbook 2017-18, Issue: 39, August 2018'\n",
    "cont2 = df['season_year'] == 'Autumn harvest 2017'\n",
    "cont3 = df['product'] == 'Wheat Grain'\n",
    "df = df[~(cont1 & cont2 & cont3)]\n",
    "# 4. (Temporary) Switch 2018A1 to 2017A1 with some name modifications\n",
    "df['level'] = df['fnid'].apply(lambda x: x[:8])\n",
    "df_main = df[df['level'] != 'AF2018A1']\n",
    "df_part = df[df['level'] == 'AF2018A1']\n",
    "df_part['admin_1'] = df_part['admin_1'].replace({'Hirat':'Herat','Maidan Wardak':'Wardak', 'Sar-e-Pul':'Sar-e-Pul'})\n",
    "df_part['fnid'] = df_part['fnid'].apply(lambda x: 'AF2017'+x[6:])\n",
    "df = pd.concat([df_main,df_part],axis=0)\n",
    "# ----------------------------------------------- #\n",
    "\n",
    "# FDW Production Data Inspection ---------------- #\n",
    "df, df_raw = FDW_PD_Sweeper(df, area_priority='Area Harvested')\n",
    "table_dict = FDW_PD_AvalTable(df, shape_all)\n",
    "# ----------------------------------------------- #\n",
    "\n",
    "# FEWS NET Shapefile comparison ----------------- #\n",
    "shape_used = pd.concat([\n",
    "    AF_Admin1_2005, AF_Admin1_2017\n",
    "], axis=0)\n",
    "PlotAdminShapes(shape_used, label=True)\n",
    "# ----------------------------------------------- #"
   ]
  },
  {
   "cell_type": "markdown",
   "id": "5496ca39-6587-48cc-b90b-af1c11138a76",
   "metadata": {},
   "source": [
    "- Afghanistan crop seasonal calendar\n",
    "\n",
    "![FEWS NET](https://fews.net/sites/default/files/styles/large_width_880/public/2023-03/seasonal-calendar-afghanistan.png?itok=syYg1jn1)\n",
    "\n",
    "![USDA](https://ipad.fas.usda.gov/countrysummary/images/AF/cropcalendar/stans_af_calendar.png)\n",
    "\n",
    "<img src=\"../figures/crop_calendar/Afghanistan_-_Crop_calendar.jpg\"  width=\"60%\">\n",
    "\n",
    "- FDW data consists of `AF2005A1` and `AF2017A1`.\n",
    "\n",
    "| Year | Admin-1 | # units  | Admin-2  | # units |\n",
    "| :---: | :----:  | :----:   | :----:   | :---:  |\n",
    "| 2000\t | AF2000A1 | 32\t| AF2000A2\t| 330\t|\n",
    "| 2005\t | AF2005A1 | 34\t| - | 0\t| nan\t|\n",
    "| 2013\t | AF2013A1 | 34\t| AF2013A2\t| 399\t|\n",
    "| 2017\t | **`AF2017A1`** | 34\t| AF2017A2\t| 401\t|\n",
    "\n",
    "- Comparison between admin boundaries.\n",
    "\n",
    "![image](https://github.com/chc-ucsb/gscd/blob/main/figures/AF_admin_shapes.png?raw=true)\n",
    "\n",
    "- **`AF2017A1`** is used to represent current admin-level 1 crop data.\n",
    "- Afghanistan has 3 crop seasons: `Spring (07-01)`, `Summer (08-01)` and `Winter (11-01)`.\n",
    "- Afghanistan has no crop production system.\n",
    "- Afghanistan has no population group."
   ]
  },
  {
   "cell_type": "markdown",
   "id": "ece66911",
   "metadata": {},
   "source": [
    "### Transition to auxiliary data source\n",
    "- Current FDW-AF data has several problems. Therefore, we use an auxiliary data source (\"Wheat production 2002-2019 by province and region.xlsx\"). \n",
    "- We note that we cannot share this with others at this point. \n"
   ]
  },
  {
   "cell_type": "code",
   "execution_count": 4,
   "id": "7f758a87",
   "metadata": {},
   "outputs": [
    {
     "name": "stdout",
     "output_type": "stream",
     "text": [
      "All [season_name, product, crop_production_system] are in the external crop calendar.\n",
      "../data/crop/adm_crop_production_AF.csv is saved.\n"
     ]
    }
   ],
   "source": [
    "container = []\n",
    "for year in np.arange(2002,2023):\n",
    "    fn = '../data/auxiliary/afghanistan/Wheat production 2002-2019 by province and region.xlsx'\n",
    "    df = pd.read_excel(fn, sheet_name=str(year), index_col=1, skiprows=3)\n",
    "    df = df.loc[~df.index.isin([np.nan,'NORTH','NORTH-EAST','WEST','WEST-CENTRAL','CENTRAL','SOUTH','EAST','SOUTH-WEST'])]\n",
    "    df = df[df.columns[1:7]]\n",
    "    df = df.replace({' ':0})\n",
    "    # Recalculate yield\n",
    "    df *= 1000\n",
    "    df.iloc[:,1] = df.iloc[:,2].divide(df.iloc[:,0]).fillna(0)\n",
    "    df.iloc[:,4] = df.iloc[:,5].divide(df.iloc[:,3]).fillna(0)\n",
    "    mdx = pd.MultiIndex.from_product([[year],['irrigated','rainfed'],['area','yield',\n",
    "    'production']])\n",
    "    df.columns = mdx\n",
    "    df = df.astype(float)\n",
    "    container.append(df)\n",
    "df = pd.concat(container, axis=1)\n",
    "df = df.T.stack().reset_index()\n",
    "df.columns = ['year','crop_production_system','indicator','admin_1','value']\n",
    "df['value'] = df['value'].fillna(0)\n",
    "# Change admin name to be consistent with FEWS NET boundary names\n",
    "df['admin_1'] = df['admin_1'].replace({\n",
    "    'Daikunde':'Daykundi',\n",
    "    'Heart':'Herat',\n",
    "    'Bughlan':'Baghlan',\n",
    "    'Sar-i-Pul':'Sari Pul',\n",
    "    'Helmand':'Hilmand',\n",
    "    'Juzjan':'Jawzjan',\n",
    "    'Kunarha':'Kandahar',\n",
    "    'Nooristan**':'Nuristan'\n",
    "})\n",
    "\n",
    "# Adding geographic information\n",
    "df = df.merge(AF_Admin1_2017[['FNID','ADMIN1']], left_on='admin_1',right_on='ADMIN1')\n",
    "df[['country','country_code','admin_2','product']] = 'Afghanistan','AF',np.nan,'Wheat'\n",
    "df['name'] = df['admin_1']\n",
    "df.rename(columns={'FNID':'fnid'},inplace=True)\n",
    "\n",
    "# Manual correction -------------------------------- #\n",
    "df.loc[(df['year'] == 2004) & (df['crop_production_system'] == 'irrigated') & (df['admin_1'] == 'Panjsher') & (df['indicator'] == 'production'), 'value'] = 0\n",
    "df.loc[(df['year'] == 2018) & (df['crop_production_system'] == 'irrigated') & (df['admin_1'] == 'Nimroz') & (df['indicator'] == 'area'), 'value'] = 0\n",
    "# -------------------------------------------------- #\n",
    "\n",
    "# Complete long format DataFrame ---------------- #\n",
    "df['harvest_year'] = df['year']\n",
    "df['planting_year'] = df['year']\n",
    "df['season_name'] = df['crop_production_system'].replace({'irrigated':'Winter','rainfed':'Spring'})\n",
    "df['harvest_month'] = 0\n",
    "df['planting_month'] = 0\n",
    "# df.loc[df['season_name']=='Winter','planting_year'] -= 1\n",
    "names = [\n",
    "    'fnid','country','country_code','admin_1','admin_2','name',\n",
    "    'product','season_name','planting_year','planting_month','harvest_year','harvest_month',\n",
    "    'crop_production_system','indicator','value'\n",
    "]\n",
    "stack = df[names]\n",
    "# # ----------------------------------------------- #\n",
    "\n",
    "# Final Processing ------------------------------ #\n",
    "# Manual change of product name\n",
    "product_category_custom = {\n",
    "    'Wheat':'Wheat',\n",
    "}\n",
    "assert set(stack['product'].unique()) == set(product_category_custom.keys())\n",
    "stack['product'] = stack['product'].replace(product_category_custom)\n",
    "# Calibration of crop calendar using External Crop Calendar (ECC)\n",
    "ecc = pd.read_csv('../data/crop_calendar/external_crop_calendar.csv')\n",
    "ecc = ecc[ecc['country'] == 'Afghanistan']\n",
    "stack, link_ratio = FDW_PD_CaliSeasonYear(stack, ecc, link_ratio=None)\n",
    "# None admin names\n",
    "stack.loc[stack['admin_1'].isna(), 'admin_1'] = 'none'\n",
    "stack.loc[stack['admin_2'].isna(), 'admin_2'] = 'none'\n",
    "# ----------------------------------------------- #\n",
    "\n",
    "# Save data\n",
    "fn_out = '../data/crop/adm_crop_production_AF.csv'\n",
    "stack.to_csv(fn_out); print(f'{fn_out} is saved.')"
   ]
  },
  {
   "cell_type": "markdown",
   "id": "f35c1216-ce98-49b0-a875-87d43a95ee6b",
   "metadata": {},
   "source": [
    "# Visualization of production data"
   ]
  },
  {
   "cell_type": "code",
   "execution_count": 5,
   "id": "7e63299f-0747-4fda-88f5-be0a2303c580",
   "metadata": {},
   "outputs": [
    {
     "name": "stdout",
     "output_type": "stream",
     "text": [
      "../figures/AF_bar_natgrainprod_Spring.png is saved.\n"
     ]
    },
    {
     "data": {
      "application/vnd.plotly.v1+json": {
       "config": {
        "plotlyServerURL": "https://plot.ly"
       },
       "data": [
        {
         "alignmentgroup": "True",
         "hovertemplate": "product=Wheat<br>season_name=Spring<br>type=orig_unit<br>year=%{x}<br>value=%{y}<extra></extra>",
         "legendgroup": "Wheat",
         "marker": {
          "color": "#636efa",
          "pattern": {
           "shape": ""
          }
         },
         "name": "Wheat",
         "offsetgroup": "Wheat",
         "orientation": "v",
         "showlegend": true,
         "textposition": "auto",
         "type": "bar",
         "x": [
          2002,
          2003,
          2004,
          2005,
          2006,
          2007,
          2008,
          2009,
          2010,
          2011,
          2012,
          2013,
          2014,
          2015,
          2016,
          2017,
          2018,
          2019,
          2020,
          2021,
          2022
         ],
         "xaxis": "x2",
         "y": [
          576000,
          1345500,
          426000,
          1538000,
          759000,
          1606000,
          217000,
          1677000,
          1450000,
          339000,
          1590000,
          1633000,
          1683000,
          1115810,
          830310,
          587616.7356844947,
          172449,
          901439,
          1153187.969052245,
          487122,
          548090
         ],
         "yaxis": "y2"
        },
        {
         "alignmentgroup": "True",
         "hovertemplate": "product=Wheat<br>season_name=Spring<br>type=percent<br>year=%{x}<br>value=%{y}<extra></extra>",
         "legendgroup": "Wheat",
         "marker": {
          "color": "#636efa",
          "pattern": {
           "shape": ""
          }
         },
         "name": "Wheat",
         "offsetgroup": "Wheat",
         "orientation": "v",
         "showlegend": false,
         "textposition": "auto",
         "type": "bar",
         "x": [
          2002,
          2003,
          2004,
          2005,
          2006,
          2007,
          2008,
          2009,
          2010,
          2011,
          2012,
          2013,
          2014,
          2015,
          2016,
          2017,
          2018,
          2019,
          2020,
          2021,
          2022
         ],
         "xaxis": "x",
         "y": [
          100,
          100,
          100,
          100,
          100,
          100,
          100,
          100,
          100,
          100,
          100,
          100,
          100,
          100,
          100,
          100,
          100,
          100,
          100,
          100,
          100
         ],
         "yaxis": "y"
        }
       ],
       "layout": {
        "annotations": [
         {
          "showarrow": false,
          "text": "",
          "textangle": 90,
          "x": 0.98,
          "xanchor": "left",
          "xref": "paper",
          "y": 0.2375,
          "yanchor": "middle",
          "yref": "paper"
         },
         {
          "showarrow": false,
          "text": "",
          "textangle": 90,
          "x": 0.98,
          "xanchor": "left",
          "xref": "paper",
          "y": 0.7625,
          "yanchor": "middle",
          "yref": "paper"
         },
         {
          "align": "left",
          "font": {
           "color": "dimgrey",
           "family": "arial",
           "size": 15
          },
          "showarrow": false,
          "text": "National crop production in Afghanistan - Spring",
          "x": 0,
          "xref": "paper",
          "y": -0.13,
          "yref": "paper"
         }
        ],
        "barmode": "relative",
        "font": {
         "color": "black",
         "family": "arial",
         "size": 15
        },
        "height": 600,
        "legend": {
         "title": {
          "text": "Product"
         },
         "tracegroupgap": 0,
         "x": 1,
         "y": 1.01
        },
        "margin": {
         "b": 0,
         "l": 0,
         "r": 0,
         "t": 0
        },
        "template": {
         "data": {
          "bar": [
           {
            "error_x": {
             "color": "#2a3f5f"
            },
            "error_y": {
             "color": "#2a3f5f"
            },
            "marker": {
             "line": {
              "color": "#E5ECF6",
              "width": 0.5
             },
             "pattern": {
              "fillmode": "overlay",
              "size": 10,
              "solidity": 0.2
             }
            },
            "type": "bar"
           }
          ],
          "barpolar": [
           {
            "marker": {
             "line": {
              "color": "#E5ECF6",
              "width": 0.5
             },
             "pattern": {
              "fillmode": "overlay",
              "size": 10,
              "solidity": 0.2
             }
            },
            "type": "barpolar"
           }
          ],
          "carpet": [
           {
            "aaxis": {
             "endlinecolor": "#2a3f5f",
             "gridcolor": "white",
             "linecolor": "white",
             "minorgridcolor": "white",
             "startlinecolor": "#2a3f5f"
            },
            "baxis": {
             "endlinecolor": "#2a3f5f",
             "gridcolor": "white",
             "linecolor": "white",
             "minorgridcolor": "white",
             "startlinecolor": "#2a3f5f"
            },
            "type": "carpet"
           }
          ],
          "choropleth": [
           {
            "colorbar": {
             "outlinewidth": 0,
             "ticks": ""
            },
            "type": "choropleth"
           }
          ],
          "contour": [
           {
            "colorbar": {
             "outlinewidth": 0,
             "ticks": ""
            },
            "colorscale": [
             [
              0,
              "#0d0887"
             ],
             [
              0.1111111111111111,
              "#46039f"
             ],
             [
              0.2222222222222222,
              "#7201a8"
             ],
             [
              0.3333333333333333,
              "#9c179e"
             ],
             [
              0.4444444444444444,
              "#bd3786"
             ],
             [
              0.5555555555555556,
              "#d8576b"
             ],
             [
              0.6666666666666666,
              "#ed7953"
             ],
             [
              0.7777777777777778,
              "#fb9f3a"
             ],
             [
              0.8888888888888888,
              "#fdca26"
             ],
             [
              1,
              "#f0f921"
             ]
            ],
            "type": "contour"
           }
          ],
          "contourcarpet": [
           {
            "colorbar": {
             "outlinewidth": 0,
             "ticks": ""
            },
            "type": "contourcarpet"
           }
          ],
          "heatmap": [
           {
            "colorbar": {
             "outlinewidth": 0,
             "ticks": ""
            },
            "colorscale": [
             [
              0,
              "#0d0887"
             ],
             [
              0.1111111111111111,
              "#46039f"
             ],
             [
              0.2222222222222222,
              "#7201a8"
             ],
             [
              0.3333333333333333,
              "#9c179e"
             ],
             [
              0.4444444444444444,
              "#bd3786"
             ],
             [
              0.5555555555555556,
              "#d8576b"
             ],
             [
              0.6666666666666666,
              "#ed7953"
             ],
             [
              0.7777777777777778,
              "#fb9f3a"
             ],
             [
              0.8888888888888888,
              "#fdca26"
             ],
             [
              1,
              "#f0f921"
             ]
            ],
            "type": "heatmap"
           }
          ],
          "heatmapgl": [
           {
            "colorbar": {
             "outlinewidth": 0,
             "ticks": ""
            },
            "colorscale": [
             [
              0,
              "#0d0887"
             ],
             [
              0.1111111111111111,
              "#46039f"
             ],
             [
              0.2222222222222222,
              "#7201a8"
             ],
             [
              0.3333333333333333,
              "#9c179e"
             ],
             [
              0.4444444444444444,
              "#bd3786"
             ],
             [
              0.5555555555555556,
              "#d8576b"
             ],
             [
              0.6666666666666666,
              "#ed7953"
             ],
             [
              0.7777777777777778,
              "#fb9f3a"
             ],
             [
              0.8888888888888888,
              "#fdca26"
             ],
             [
              1,
              "#f0f921"
             ]
            ],
            "type": "heatmapgl"
           }
          ],
          "histogram": [
           {
            "marker": {
             "pattern": {
              "fillmode": "overlay",
              "size": 10,
              "solidity": 0.2
             }
            },
            "type": "histogram"
           }
          ],
          "histogram2d": [
           {
            "colorbar": {
             "outlinewidth": 0,
             "ticks": ""
            },
            "colorscale": [
             [
              0,
              "#0d0887"
             ],
             [
              0.1111111111111111,
              "#46039f"
             ],
             [
              0.2222222222222222,
              "#7201a8"
             ],
             [
              0.3333333333333333,
              "#9c179e"
             ],
             [
              0.4444444444444444,
              "#bd3786"
             ],
             [
              0.5555555555555556,
              "#d8576b"
             ],
             [
              0.6666666666666666,
              "#ed7953"
             ],
             [
              0.7777777777777778,
              "#fb9f3a"
             ],
             [
              0.8888888888888888,
              "#fdca26"
             ],
             [
              1,
              "#f0f921"
             ]
            ],
            "type": "histogram2d"
           }
          ],
          "histogram2dcontour": [
           {
            "colorbar": {
             "outlinewidth": 0,
             "ticks": ""
            },
            "colorscale": [
             [
              0,
              "#0d0887"
             ],
             [
              0.1111111111111111,
              "#46039f"
             ],
             [
              0.2222222222222222,
              "#7201a8"
             ],
             [
              0.3333333333333333,
              "#9c179e"
             ],
             [
              0.4444444444444444,
              "#bd3786"
             ],
             [
              0.5555555555555556,
              "#d8576b"
             ],
             [
              0.6666666666666666,
              "#ed7953"
             ],
             [
              0.7777777777777778,
              "#fb9f3a"
             ],
             [
              0.8888888888888888,
              "#fdca26"
             ],
             [
              1,
              "#f0f921"
             ]
            ],
            "type": "histogram2dcontour"
           }
          ],
          "mesh3d": [
           {
            "colorbar": {
             "outlinewidth": 0,
             "ticks": ""
            },
            "type": "mesh3d"
           }
          ],
          "parcoords": [
           {
            "line": {
             "colorbar": {
              "outlinewidth": 0,
              "ticks": ""
             }
            },
            "type": "parcoords"
           }
          ],
          "pie": [
           {
            "automargin": true,
            "type": "pie"
           }
          ],
          "scatter": [
           {
            "fillpattern": {
             "fillmode": "overlay",
             "size": 10,
             "solidity": 0.2
            },
            "type": "scatter"
           }
          ],
          "scatter3d": [
           {
            "line": {
             "colorbar": {
              "outlinewidth": 0,
              "ticks": ""
             }
            },
            "marker": {
             "colorbar": {
              "outlinewidth": 0,
              "ticks": ""
             }
            },
            "type": "scatter3d"
           }
          ],
          "scattercarpet": [
           {
            "marker": {
             "colorbar": {
              "outlinewidth": 0,
              "ticks": ""
             }
            },
            "type": "scattercarpet"
           }
          ],
          "scattergeo": [
           {
            "marker": {
             "colorbar": {
              "outlinewidth": 0,
              "ticks": ""
             }
            },
            "type": "scattergeo"
           }
          ],
          "scattergl": [
           {
            "marker": {
             "colorbar": {
              "outlinewidth": 0,
              "ticks": ""
             }
            },
            "type": "scattergl"
           }
          ],
          "scattermapbox": [
           {
            "marker": {
             "colorbar": {
              "outlinewidth": 0,
              "ticks": ""
             }
            },
            "type": "scattermapbox"
           }
          ],
          "scatterpolar": [
           {
            "marker": {
             "colorbar": {
              "outlinewidth": 0,
              "ticks": ""
             }
            },
            "type": "scatterpolar"
           }
          ],
          "scatterpolargl": [
           {
            "marker": {
             "colorbar": {
              "outlinewidth": 0,
              "ticks": ""
             }
            },
            "type": "scatterpolargl"
           }
          ],
          "scatterternary": [
           {
            "marker": {
             "colorbar": {
              "outlinewidth": 0,
              "ticks": ""
             }
            },
            "type": "scatterternary"
           }
          ],
          "surface": [
           {
            "colorbar": {
             "outlinewidth": 0,
             "ticks": ""
            },
            "colorscale": [
             [
              0,
              "#0d0887"
             ],
             [
              0.1111111111111111,
              "#46039f"
             ],
             [
              0.2222222222222222,
              "#7201a8"
             ],
             [
              0.3333333333333333,
              "#9c179e"
             ],
             [
              0.4444444444444444,
              "#bd3786"
             ],
             [
              0.5555555555555556,
              "#d8576b"
             ],
             [
              0.6666666666666666,
              "#ed7953"
             ],
             [
              0.7777777777777778,
              "#fb9f3a"
             ],
             [
              0.8888888888888888,
              "#fdca26"
             ],
             [
              1,
              "#f0f921"
             ]
            ],
            "type": "surface"
           }
          ],
          "table": [
           {
            "cells": {
             "fill": {
              "color": "#EBF0F8"
             },
             "line": {
              "color": "white"
             }
            },
            "header": {
             "fill": {
              "color": "#C8D4E3"
             },
             "line": {
              "color": "white"
             }
            },
            "type": "table"
           }
          ]
         },
         "layout": {
          "annotationdefaults": {
           "arrowcolor": "#2a3f5f",
           "arrowhead": 0,
           "arrowwidth": 1
          },
          "autotypenumbers": "strict",
          "coloraxis": {
           "colorbar": {
            "outlinewidth": 0,
            "ticks": ""
           }
          },
          "colorscale": {
           "diverging": [
            [
             0,
             "#8e0152"
            ],
            [
             0.1,
             "#c51b7d"
            ],
            [
             0.2,
             "#de77ae"
            ],
            [
             0.3,
             "#f1b6da"
            ],
            [
             0.4,
             "#fde0ef"
            ],
            [
             0.5,
             "#f7f7f7"
            ],
            [
             0.6,
             "#e6f5d0"
            ],
            [
             0.7,
             "#b8e186"
            ],
            [
             0.8,
             "#7fbc41"
            ],
            [
             0.9,
             "#4d9221"
            ],
            [
             1,
             "#276419"
            ]
           ],
           "sequential": [
            [
             0,
             "#0d0887"
            ],
            [
             0.1111111111111111,
             "#46039f"
            ],
            [
             0.2222222222222222,
             "#7201a8"
            ],
            [
             0.3333333333333333,
             "#9c179e"
            ],
            [
             0.4444444444444444,
             "#bd3786"
            ],
            [
             0.5555555555555556,
             "#d8576b"
            ],
            [
             0.6666666666666666,
             "#ed7953"
            ],
            [
             0.7777777777777778,
             "#fb9f3a"
            ],
            [
             0.8888888888888888,
             "#fdca26"
            ],
            [
             1,
             "#f0f921"
            ]
           ],
           "sequentialminus": [
            [
             0,
             "#0d0887"
            ],
            [
             0.1111111111111111,
             "#46039f"
            ],
            [
             0.2222222222222222,
             "#7201a8"
            ],
            [
             0.3333333333333333,
             "#9c179e"
            ],
            [
             0.4444444444444444,
             "#bd3786"
            ],
            [
             0.5555555555555556,
             "#d8576b"
            ],
            [
             0.6666666666666666,
             "#ed7953"
            ],
            [
             0.7777777777777778,
             "#fb9f3a"
            ],
            [
             0.8888888888888888,
             "#fdca26"
            ],
            [
             1,
             "#f0f921"
            ]
           ]
          },
          "colorway": [
           "#636efa",
           "#EF553B",
           "#00cc96",
           "#ab63fa",
           "#FFA15A",
           "#19d3f3",
           "#FF6692",
           "#B6E880",
           "#FF97FF",
           "#FECB52"
          ],
          "font": {
           "color": "#2a3f5f"
          },
          "geo": {
           "bgcolor": "white",
           "lakecolor": "white",
           "landcolor": "#E5ECF6",
           "showlakes": true,
           "showland": true,
           "subunitcolor": "white"
          },
          "hoverlabel": {
           "align": "left"
          },
          "hovermode": "closest",
          "mapbox": {
           "style": "light"
          },
          "paper_bgcolor": "white",
          "plot_bgcolor": "#E5ECF6",
          "polar": {
           "angularaxis": {
            "gridcolor": "white",
            "linecolor": "white",
            "ticks": ""
           },
           "bgcolor": "#E5ECF6",
           "radialaxis": {
            "gridcolor": "white",
            "linecolor": "white",
            "ticks": ""
           }
          },
          "scene": {
           "xaxis": {
            "backgroundcolor": "#E5ECF6",
            "gridcolor": "white",
            "gridwidth": 2,
            "linecolor": "white",
            "showbackground": true,
            "ticks": "",
            "zerolinecolor": "white"
           },
           "yaxis": {
            "backgroundcolor": "#E5ECF6",
            "gridcolor": "white",
            "gridwidth": 2,
            "linecolor": "white",
            "showbackground": true,
            "ticks": "",
            "zerolinecolor": "white"
           },
           "zaxis": {
            "backgroundcolor": "#E5ECF6",
            "gridcolor": "white",
            "gridwidth": 2,
            "linecolor": "white",
            "showbackground": true,
            "ticks": "",
            "zerolinecolor": "white"
           }
          },
          "shapedefaults": {
           "line": {
            "color": "#2a3f5f"
           }
          },
          "ternary": {
           "aaxis": {
            "gridcolor": "white",
            "linecolor": "white",
            "ticks": ""
           },
           "baxis": {
            "gridcolor": "white",
            "linecolor": "white",
            "ticks": ""
           },
           "bgcolor": "#E5ECF6",
           "caxis": {
            "gridcolor": "white",
            "linecolor": "white",
            "ticks": ""
           }
          },
          "title": {
           "x": 0.05
          },
          "xaxis": {
           "automargin": true,
           "gridcolor": "white",
           "linecolor": "white",
           "ticks": "",
           "title": {
            "standoff": 15
           },
           "zerolinecolor": "white",
           "zerolinewidth": 2
          },
          "yaxis": {
           "automargin": true,
           "gridcolor": "white",
           "linecolor": "white",
           "ticks": "",
           "title": {
            "standoff": 15
           },
           "zerolinecolor": "white",
           "zerolinewidth": 2
          }
         }
        },
        "width": 900,
        "xaxis": {
         "anchor": "y",
         "domain": [
          0,
          0.98
         ],
         "dtick": 1,
         "range": [
          2001.5,
          2022.5
         ],
         "title": {
          "text": ""
         }
        },
        "xaxis2": {
         "anchor": "y2",
         "domain": [
          0,
          0.98
         ],
         "matches": "x",
         "showticklabels": false
        },
        "yaxis": {
         "anchor": "x",
         "domain": [
          0,
          0.475
         ],
         "range": [
          0,
          100
         ],
         "title": {
          "text": "Production (%)"
         }
        },
        "yaxis2": {
         "anchor": "x2",
         "domain": [
          0.525,
          1
         ],
         "title": {
          "text": "Production (t)"
         }
        }
       }
      }
     },
     "metadata": {},
     "output_type": "display_data"
    },
    {
     "name": "stdout",
     "output_type": "stream",
     "text": [
      "../figures/AF_bar_natgrainprod_Winter.png is saved.\n"
     ]
    },
    {
     "data": {
      "application/vnd.plotly.v1+json": {
       "config": {
        "plotlyServerURL": "https://plot.ly"
       },
       "data": [
        {
         "alignmentgroup": "True",
         "hovertemplate": "product=Wheat<br>season_name=Winter<br>type=orig_unit<br>year=%{x}<br>value=%{y}<extra></extra>",
         "legendgroup": "Wheat",
         "marker": {
          "color": "#636efa",
          "pattern": {
           "shape": ""
          }
         },
         "name": "Wheat",
         "offsetgroup": "Wheat",
         "orientation": "v",
         "showlegend": true,
         "textposition": "auto",
         "type": "bar",
         "x": [
          2002,
          2003,
          2004,
          2005,
          2006,
          2007,
          2008,
          2009,
          2010,
          2011,
          2012,
          2013,
          2014,
          2015,
          2016,
          2017,
          2018,
          2019,
          2020,
          2021,
          2022
         ],
         "xaxis": "x2",
         "y": [
          2110000,
          3017000,
          1861000,
          2728000,
          2690000,
          2878000,
          2406000,
          3387000,
          3082000,
          2917000,
          3462000,
          3505000,
          3687000,
          3557590,
          3678800,
          3693129.8890948626,
          3440369,
          4233861,
          4031383.4147227863,
          3315443,
          3802590
         ],
         "yaxis": "y2"
        },
        {
         "alignmentgroup": "True",
         "hovertemplate": "product=Wheat<br>season_name=Winter<br>type=percent<br>year=%{x}<br>value=%{y}<extra></extra>",
         "legendgroup": "Wheat",
         "marker": {
          "color": "#636efa",
          "pattern": {
           "shape": ""
          }
         },
         "name": "Wheat",
         "offsetgroup": "Wheat",
         "orientation": "v",
         "showlegend": false,
         "textposition": "auto",
         "type": "bar",
         "x": [
          2002,
          2003,
          2004,
          2005,
          2006,
          2007,
          2008,
          2009,
          2010,
          2011,
          2012,
          2013,
          2014,
          2015,
          2016,
          2017,
          2018,
          2019,
          2020,
          2021,
          2022
         ],
         "xaxis": "x",
         "y": [
          100,
          100,
          100,
          100,
          100,
          100,
          100,
          100,
          100,
          100,
          100,
          100,
          100,
          100,
          100,
          100,
          100,
          100,
          100,
          100,
          100
         ],
         "yaxis": "y"
        }
       ],
       "layout": {
        "annotations": [
         {
          "showarrow": false,
          "text": "",
          "textangle": 90,
          "x": 0.98,
          "xanchor": "left",
          "xref": "paper",
          "y": 0.2375,
          "yanchor": "middle",
          "yref": "paper"
         },
         {
          "showarrow": false,
          "text": "",
          "textangle": 90,
          "x": 0.98,
          "xanchor": "left",
          "xref": "paper",
          "y": 0.7625,
          "yanchor": "middle",
          "yref": "paper"
         },
         {
          "align": "left",
          "font": {
           "color": "dimgrey",
           "family": "arial",
           "size": 15
          },
          "showarrow": false,
          "text": "National crop production in Afghanistan - Winter",
          "x": 0,
          "xref": "paper",
          "y": -0.13,
          "yref": "paper"
         }
        ],
        "barmode": "relative",
        "font": {
         "color": "black",
         "family": "arial",
         "size": 15
        },
        "height": 600,
        "legend": {
         "title": {
          "text": "Product"
         },
         "tracegroupgap": 0,
         "x": 1,
         "y": 1.01
        },
        "margin": {
         "b": 0,
         "l": 0,
         "r": 0,
         "t": 0
        },
        "template": {
         "data": {
          "bar": [
           {
            "error_x": {
             "color": "#2a3f5f"
            },
            "error_y": {
             "color": "#2a3f5f"
            },
            "marker": {
             "line": {
              "color": "#E5ECF6",
              "width": 0.5
             },
             "pattern": {
              "fillmode": "overlay",
              "size": 10,
              "solidity": 0.2
             }
            },
            "type": "bar"
           }
          ],
          "barpolar": [
           {
            "marker": {
             "line": {
              "color": "#E5ECF6",
              "width": 0.5
             },
             "pattern": {
              "fillmode": "overlay",
              "size": 10,
              "solidity": 0.2
             }
            },
            "type": "barpolar"
           }
          ],
          "carpet": [
           {
            "aaxis": {
             "endlinecolor": "#2a3f5f",
             "gridcolor": "white",
             "linecolor": "white",
             "minorgridcolor": "white",
             "startlinecolor": "#2a3f5f"
            },
            "baxis": {
             "endlinecolor": "#2a3f5f",
             "gridcolor": "white",
             "linecolor": "white",
             "minorgridcolor": "white",
             "startlinecolor": "#2a3f5f"
            },
            "type": "carpet"
           }
          ],
          "choropleth": [
           {
            "colorbar": {
             "outlinewidth": 0,
             "ticks": ""
            },
            "type": "choropleth"
           }
          ],
          "contour": [
           {
            "colorbar": {
             "outlinewidth": 0,
             "ticks": ""
            },
            "colorscale": [
             [
              0,
              "#0d0887"
             ],
             [
              0.1111111111111111,
              "#46039f"
             ],
             [
              0.2222222222222222,
              "#7201a8"
             ],
             [
              0.3333333333333333,
              "#9c179e"
             ],
             [
              0.4444444444444444,
              "#bd3786"
             ],
             [
              0.5555555555555556,
              "#d8576b"
             ],
             [
              0.6666666666666666,
              "#ed7953"
             ],
             [
              0.7777777777777778,
              "#fb9f3a"
             ],
             [
              0.8888888888888888,
              "#fdca26"
             ],
             [
              1,
              "#f0f921"
             ]
            ],
            "type": "contour"
           }
          ],
          "contourcarpet": [
           {
            "colorbar": {
             "outlinewidth": 0,
             "ticks": ""
            },
            "type": "contourcarpet"
           }
          ],
          "heatmap": [
           {
            "colorbar": {
             "outlinewidth": 0,
             "ticks": ""
            },
            "colorscale": [
             [
              0,
              "#0d0887"
             ],
             [
              0.1111111111111111,
              "#46039f"
             ],
             [
              0.2222222222222222,
              "#7201a8"
             ],
             [
              0.3333333333333333,
              "#9c179e"
             ],
             [
              0.4444444444444444,
              "#bd3786"
             ],
             [
              0.5555555555555556,
              "#d8576b"
             ],
             [
              0.6666666666666666,
              "#ed7953"
             ],
             [
              0.7777777777777778,
              "#fb9f3a"
             ],
             [
              0.8888888888888888,
              "#fdca26"
             ],
             [
              1,
              "#f0f921"
             ]
            ],
            "type": "heatmap"
           }
          ],
          "heatmapgl": [
           {
            "colorbar": {
             "outlinewidth": 0,
             "ticks": ""
            },
            "colorscale": [
             [
              0,
              "#0d0887"
             ],
             [
              0.1111111111111111,
              "#46039f"
             ],
             [
              0.2222222222222222,
              "#7201a8"
             ],
             [
              0.3333333333333333,
              "#9c179e"
             ],
             [
              0.4444444444444444,
              "#bd3786"
             ],
             [
              0.5555555555555556,
              "#d8576b"
             ],
             [
              0.6666666666666666,
              "#ed7953"
             ],
             [
              0.7777777777777778,
              "#fb9f3a"
             ],
             [
              0.8888888888888888,
              "#fdca26"
             ],
             [
              1,
              "#f0f921"
             ]
            ],
            "type": "heatmapgl"
           }
          ],
          "histogram": [
           {
            "marker": {
             "pattern": {
              "fillmode": "overlay",
              "size": 10,
              "solidity": 0.2
             }
            },
            "type": "histogram"
           }
          ],
          "histogram2d": [
           {
            "colorbar": {
             "outlinewidth": 0,
             "ticks": ""
            },
            "colorscale": [
             [
              0,
              "#0d0887"
             ],
             [
              0.1111111111111111,
              "#46039f"
             ],
             [
              0.2222222222222222,
              "#7201a8"
             ],
             [
              0.3333333333333333,
              "#9c179e"
             ],
             [
              0.4444444444444444,
              "#bd3786"
             ],
             [
              0.5555555555555556,
              "#d8576b"
             ],
             [
              0.6666666666666666,
              "#ed7953"
             ],
             [
              0.7777777777777778,
              "#fb9f3a"
             ],
             [
              0.8888888888888888,
              "#fdca26"
             ],
             [
              1,
              "#f0f921"
             ]
            ],
            "type": "histogram2d"
           }
          ],
          "histogram2dcontour": [
           {
            "colorbar": {
             "outlinewidth": 0,
             "ticks": ""
            },
            "colorscale": [
             [
              0,
              "#0d0887"
             ],
             [
              0.1111111111111111,
              "#46039f"
             ],
             [
              0.2222222222222222,
              "#7201a8"
             ],
             [
              0.3333333333333333,
              "#9c179e"
             ],
             [
              0.4444444444444444,
              "#bd3786"
             ],
             [
              0.5555555555555556,
              "#d8576b"
             ],
             [
              0.6666666666666666,
              "#ed7953"
             ],
             [
              0.7777777777777778,
              "#fb9f3a"
             ],
             [
              0.8888888888888888,
              "#fdca26"
             ],
             [
              1,
              "#f0f921"
             ]
            ],
            "type": "histogram2dcontour"
           }
          ],
          "mesh3d": [
           {
            "colorbar": {
             "outlinewidth": 0,
             "ticks": ""
            },
            "type": "mesh3d"
           }
          ],
          "parcoords": [
           {
            "line": {
             "colorbar": {
              "outlinewidth": 0,
              "ticks": ""
             }
            },
            "type": "parcoords"
           }
          ],
          "pie": [
           {
            "automargin": true,
            "type": "pie"
           }
          ],
          "scatter": [
           {
            "fillpattern": {
             "fillmode": "overlay",
             "size": 10,
             "solidity": 0.2
            },
            "type": "scatter"
           }
          ],
          "scatter3d": [
           {
            "line": {
             "colorbar": {
              "outlinewidth": 0,
              "ticks": ""
             }
            },
            "marker": {
             "colorbar": {
              "outlinewidth": 0,
              "ticks": ""
             }
            },
            "type": "scatter3d"
           }
          ],
          "scattercarpet": [
           {
            "marker": {
             "colorbar": {
              "outlinewidth": 0,
              "ticks": ""
             }
            },
            "type": "scattercarpet"
           }
          ],
          "scattergeo": [
           {
            "marker": {
             "colorbar": {
              "outlinewidth": 0,
              "ticks": ""
             }
            },
            "type": "scattergeo"
           }
          ],
          "scattergl": [
           {
            "marker": {
             "colorbar": {
              "outlinewidth": 0,
              "ticks": ""
             }
            },
            "type": "scattergl"
           }
          ],
          "scattermapbox": [
           {
            "marker": {
             "colorbar": {
              "outlinewidth": 0,
              "ticks": ""
             }
            },
            "type": "scattermapbox"
           }
          ],
          "scatterpolar": [
           {
            "marker": {
             "colorbar": {
              "outlinewidth": 0,
              "ticks": ""
             }
            },
            "type": "scatterpolar"
           }
          ],
          "scatterpolargl": [
           {
            "marker": {
             "colorbar": {
              "outlinewidth": 0,
              "ticks": ""
             }
            },
            "type": "scatterpolargl"
           }
          ],
          "scatterternary": [
           {
            "marker": {
             "colorbar": {
              "outlinewidth": 0,
              "ticks": ""
             }
            },
            "type": "scatterternary"
           }
          ],
          "surface": [
           {
            "colorbar": {
             "outlinewidth": 0,
             "ticks": ""
            },
            "colorscale": [
             [
              0,
              "#0d0887"
             ],
             [
              0.1111111111111111,
              "#46039f"
             ],
             [
              0.2222222222222222,
              "#7201a8"
             ],
             [
              0.3333333333333333,
              "#9c179e"
             ],
             [
              0.4444444444444444,
              "#bd3786"
             ],
             [
              0.5555555555555556,
              "#d8576b"
             ],
             [
              0.6666666666666666,
              "#ed7953"
             ],
             [
              0.7777777777777778,
              "#fb9f3a"
             ],
             [
              0.8888888888888888,
              "#fdca26"
             ],
             [
              1,
              "#f0f921"
             ]
            ],
            "type": "surface"
           }
          ],
          "table": [
           {
            "cells": {
             "fill": {
              "color": "#EBF0F8"
             },
             "line": {
              "color": "white"
             }
            },
            "header": {
             "fill": {
              "color": "#C8D4E3"
             },
             "line": {
              "color": "white"
             }
            },
            "type": "table"
           }
          ]
         },
         "layout": {
          "annotationdefaults": {
           "arrowcolor": "#2a3f5f",
           "arrowhead": 0,
           "arrowwidth": 1
          },
          "autotypenumbers": "strict",
          "coloraxis": {
           "colorbar": {
            "outlinewidth": 0,
            "ticks": ""
           }
          },
          "colorscale": {
           "diverging": [
            [
             0,
             "#8e0152"
            ],
            [
             0.1,
             "#c51b7d"
            ],
            [
             0.2,
             "#de77ae"
            ],
            [
             0.3,
             "#f1b6da"
            ],
            [
             0.4,
             "#fde0ef"
            ],
            [
             0.5,
             "#f7f7f7"
            ],
            [
             0.6,
             "#e6f5d0"
            ],
            [
             0.7,
             "#b8e186"
            ],
            [
             0.8,
             "#7fbc41"
            ],
            [
             0.9,
             "#4d9221"
            ],
            [
             1,
             "#276419"
            ]
           ],
           "sequential": [
            [
             0,
             "#0d0887"
            ],
            [
             0.1111111111111111,
             "#46039f"
            ],
            [
             0.2222222222222222,
             "#7201a8"
            ],
            [
             0.3333333333333333,
             "#9c179e"
            ],
            [
             0.4444444444444444,
             "#bd3786"
            ],
            [
             0.5555555555555556,
             "#d8576b"
            ],
            [
             0.6666666666666666,
             "#ed7953"
            ],
            [
             0.7777777777777778,
             "#fb9f3a"
            ],
            [
             0.8888888888888888,
             "#fdca26"
            ],
            [
             1,
             "#f0f921"
            ]
           ],
           "sequentialminus": [
            [
             0,
             "#0d0887"
            ],
            [
             0.1111111111111111,
             "#46039f"
            ],
            [
             0.2222222222222222,
             "#7201a8"
            ],
            [
             0.3333333333333333,
             "#9c179e"
            ],
            [
             0.4444444444444444,
             "#bd3786"
            ],
            [
             0.5555555555555556,
             "#d8576b"
            ],
            [
             0.6666666666666666,
             "#ed7953"
            ],
            [
             0.7777777777777778,
             "#fb9f3a"
            ],
            [
             0.8888888888888888,
             "#fdca26"
            ],
            [
             1,
             "#f0f921"
            ]
           ]
          },
          "colorway": [
           "#636efa",
           "#EF553B",
           "#00cc96",
           "#ab63fa",
           "#FFA15A",
           "#19d3f3",
           "#FF6692",
           "#B6E880",
           "#FF97FF",
           "#FECB52"
          ],
          "font": {
           "color": "#2a3f5f"
          },
          "geo": {
           "bgcolor": "white",
           "lakecolor": "white",
           "landcolor": "#E5ECF6",
           "showlakes": true,
           "showland": true,
           "subunitcolor": "white"
          },
          "hoverlabel": {
           "align": "left"
          },
          "hovermode": "closest",
          "mapbox": {
           "style": "light"
          },
          "paper_bgcolor": "white",
          "plot_bgcolor": "#E5ECF6",
          "polar": {
           "angularaxis": {
            "gridcolor": "white",
            "linecolor": "white",
            "ticks": ""
           },
           "bgcolor": "#E5ECF6",
           "radialaxis": {
            "gridcolor": "white",
            "linecolor": "white",
            "ticks": ""
           }
          },
          "scene": {
           "xaxis": {
            "backgroundcolor": "#E5ECF6",
            "gridcolor": "white",
            "gridwidth": 2,
            "linecolor": "white",
            "showbackground": true,
            "ticks": "",
            "zerolinecolor": "white"
           },
           "yaxis": {
            "backgroundcolor": "#E5ECF6",
            "gridcolor": "white",
            "gridwidth": 2,
            "linecolor": "white",
            "showbackground": true,
            "ticks": "",
            "zerolinecolor": "white"
           },
           "zaxis": {
            "backgroundcolor": "#E5ECF6",
            "gridcolor": "white",
            "gridwidth": 2,
            "linecolor": "white",
            "showbackground": true,
            "ticks": "",
            "zerolinecolor": "white"
           }
          },
          "shapedefaults": {
           "line": {
            "color": "#2a3f5f"
           }
          },
          "ternary": {
           "aaxis": {
            "gridcolor": "white",
            "linecolor": "white",
            "ticks": ""
           },
           "baxis": {
            "gridcolor": "white",
            "linecolor": "white",
            "ticks": ""
           },
           "bgcolor": "#E5ECF6",
           "caxis": {
            "gridcolor": "white",
            "linecolor": "white",
            "ticks": ""
           }
          },
          "title": {
           "x": 0.05
          },
          "xaxis": {
           "automargin": true,
           "gridcolor": "white",
           "linecolor": "white",
           "ticks": "",
           "title": {
            "standoff": 15
           },
           "zerolinecolor": "white",
           "zerolinewidth": 2
          },
          "yaxis": {
           "automargin": true,
           "gridcolor": "white",
           "linecolor": "white",
           "ticks": "",
           "title": {
            "standoff": 15
           },
           "zerolinecolor": "white",
           "zerolinewidth": 2
          }
         }
        },
        "width": 900,
        "xaxis": {
         "anchor": "y",
         "domain": [
          0,
          0.98
         ],
         "dtick": 1,
         "range": [
          2001.5,
          2022.5
         ],
         "title": {
          "text": ""
         }
        },
        "xaxis2": {
         "anchor": "y2",
         "domain": [
          0,
          0.98
         ],
         "matches": "x",
         "showticklabels": false
        },
        "yaxis": {
         "anchor": "x",
         "domain": [
          0,
          0.475
         ],
         "range": [
          0,
          100
         ],
         "title": {
          "text": "Production (%)"
         }
        },
        "yaxis2": {
         "anchor": "x2",
         "domain": [
          0.525,
          1
         ],
         "title": {
          "text": "Production (t)"
         }
        }
       }
      }
     },
     "metadata": {},
     "output_type": "display_data"
    }
   ],
   "source": [
    "# Bar chart of national crop production\n",
    "country_iso, country_name = 'AF', 'Afghanistan'\n",
    "df = pd.read_csv('../data/crop/adm_crop_production_%s.csv' % country_iso, index_col=0)\n",
    "df['year'] = df['harvest_year']\n",
    "year = [df['year'].min(), df['year'].max()]\n",
    "product_order = ['Wheat']\n",
    "for season_name in ['Spring','Winter']:\n",
    "    footnote = 'National crop production in %s - %s' % (country_name, season_name)\n",
    "    fn_save = '../figures/%s_bar_natgrainprod_%s.png' % (country_iso, season_name)\n",
    "    sub = df[df['season_name'] == season_name]\n",
    "    fig = PlotBarProduction(sub, year, product_order, footnote, fn_save)\n",
    "    fig.show()"
   ]
  },
  {
   "cell_type": "code",
   "execution_count": 6,
   "id": "2205dd08-f5a0-4ad2-b009-810166f0a5c7",
   "metadata": {},
   "outputs": [
    {
     "name": "stdout",
     "output_type": "stream",
     "text": [
      "../figures/AF_line_pay_Wheat_Spring.png is saved.\n"
     ]
    },
    {
     "data": {
      "application/vnd.plotly.v1+json": {
       "config": {
        "plotlyServerURL": "https://plot.ly"
       },
       "data": [
        {
         "connectgaps": false,
         "hovertemplate": "fnid=AF2017A101<br>indicator=production<br>year=%{x}<br>value=%{y}<extra></extra>",
         "legendgroup": "AF2017A101",
         "line": {
          "color": "#636efa",
          "dash": "solid"
         },
         "marker": {
          "symbol": "circle"
         },
         "mode": "markers+lines",
         "name": "AF2017A101",
         "showlegend": true,
         "type": "scattergl",
         "x": [
          2002,
          2003,
          2004,
          2005,
          2006,
          2007,
          2008,
          2009,
          2010,
          2011,
          2012,
          2013,
          2014,
          2015,
          2016,
          2017,
          2018,
          2019,
          2020,
          2021,
          2022
         ],
         "xaxis": "x3",
         "y": [
          0,
          500,
          0,
          1000,
          0,
          1000,
          0,
          1000,
          1000,
          0,
          1000,
          2000,
          2000,
          1890,
          920,
          0,
          0,
          0,
          22.89241022727273,
          0,
          0
         ],
         "yaxis": "y3"
        },
        {
         "connectgaps": false,
         "hovertemplate": "fnid=AF2017A101<br>indicator=area<br>year=%{x}<br>value=%{y}<extra></extra>",
         "legendgroup": "AF2017A101",
         "line": {
          "color": "#636efa",
          "dash": "solid"
         },
         "marker": {
          "symbol": "circle"
         },
         "mode": "markers+lines",
         "name": "AF2017A101",
         "showlegend": false,
         "type": "scattergl",
         "x": [
          2002,
          2003,
          2004,
          2005,
          2006,
          2007,
          2008,
          2009,
          2010,
          2011,
          2012,
          2013,
          2014,
          2015,
          2016,
          2017,
          2018,
          2019,
          2020,
          2021,
          2022
         ],
         "xaxis": "x2",
         "y": [
          1000,
          1000,
          0,
          1000,
          1000,
          1000,
          1000,
          1000,
          1000,
          0,
          1000,
          1000,
          2000,
          1700,
          1010,
          0,
          43,
          0,
          37.8,
          0,
          0
         ],
         "yaxis": "y2"
        },
        {
         "connectgaps": false,
         "hovertemplate": "fnid=AF2017A101<br>indicator=yield<br>year=%{x}<br>value=%{y}<extra></extra>",
         "legendgroup": "AF2017A101",
         "line": {
          "color": "#636efa",
          "dash": "solid"
         },
         "marker": {
          "symbol": "circle"
         },
         "mode": "markers+lines",
         "name": "AF2017A101",
         "showlegend": false,
         "type": "scattergl",
         "x": [
          2002,
          2003,
          2004,
          2005,
          2006,
          2007,
          2008,
          2009,
          2010,
          2011,
          2012,
          2013,
          2014,
          2015,
          2016,
          2017,
          2018,
          2019,
          2020,
          2021,
          2022
         ],
         "xaxis": "x",
         "y": [
          0,
          0.5,
          0,
          1,
          0,
          1,
          0,
          1,
          1,
          0,
          1,
          2,
          1,
          1.111764705882353,
          0.9108910891089108,
          0,
          0,
          0,
          0.6056193181818184,
          0,
          0
         ],
         "yaxis": "y"
        },
        {
         "connectgaps": false,
         "hovertemplate": "fnid=AF2017A102<br>indicator=production<br>year=%{x}<br>value=%{y}<extra></extra>",
         "legendgroup": "AF2017A102",
         "line": {
          "color": "#EF553B",
          "dash": "solid"
         },
         "marker": {
          "symbol": "circle"
         },
         "mode": "markers+lines",
         "name": "AF2017A102",
         "showlegend": true,
         "type": "scattergl",
         "x": [
          2002,
          2003,
          2004,
          2005,
          2006,
          2007,
          2008,
          2009,
          2010,
          2011,
          2012,
          2013,
          2014,
          2015,
          2016,
          2017,
          2018,
          2019,
          2020,
          2021,
          2022
         ],
         "xaxis": "x3",
         "y": [
          0,
          0,
          0,
          0,
          0,
          0,
          0,
          1000,
          1000,
          0,
          1000,
          1000,
          0,
          410,
          580,
          84.65999999999998,
          3,
          0,
          107.73,
          247,
          300
         ],
         "yaxis": "y3"
        },
        {
         "connectgaps": false,
         "hovertemplate": "fnid=AF2017A102<br>indicator=area<br>year=%{x}<br>value=%{y}<extra></extra>",
         "legendgroup": "AF2017A102",
         "line": {
          "color": "#EF553B",
          "dash": "solid"
         },
         "marker": {
          "symbol": "circle"
         },
         "mode": "markers+lines",
         "name": "AF2017A102",
         "showlegend": false,
         "type": "scattergl",
         "x": [
          2002,
          2003,
          2004,
          2005,
          2006,
          2007,
          2008,
          2009,
          2010,
          2011,
          2012,
          2013,
          2014,
          2015,
          2016,
          2017,
          2018,
          2019,
          2020,
          2021,
          2022
         ],
         "xaxis": "x2",
         "y": [
          0,
          0,
          0,
          0,
          0,
          0,
          0,
          1000,
          1000,
          1000,
          1056.95,
          1000,
          1000,
          450,
          700,
          102,
          55,
          0,
          153.9,
          411,
          319
         ],
         "yaxis": "y2"
        },
        {
         "connectgaps": false,
         "hovertemplate": "fnid=AF2017A102<br>indicator=yield<br>year=%{x}<br>value=%{y}<extra></extra>",
         "legendgroup": "AF2017A102",
         "line": {
          "color": "#EF553B",
          "dash": "solid"
         },
         "marker": {
          "symbol": "circle"
         },
         "mode": "markers+lines",
         "name": "AF2017A102",
         "showlegend": false,
         "type": "scattergl",
         "x": [
          2002,
          2003,
          2004,
          2005,
          2006,
          2007,
          2008,
          2009,
          2010,
          2011,
          2012,
          2013,
          2014,
          2015,
          2016,
          2017,
          2018,
          2019,
          2020,
          2021,
          2022
         ],
         "xaxis": "x",
         "y": [
          0,
          0,
          0,
          0,
          0,
          0,
          0,
          1,
          1,
          0,
          0.9461185486541464,
          1,
          0,
          0.9111111111111112,
          0.8285714285714286,
          0.8299999999999998,
          0.0545454545454545,
          0,
          0.7,
          0.6009732360097324,
          0.9404388714733544
         ],
         "yaxis": "y"
        },
        {
         "connectgaps": false,
         "hovertemplate": "fnid=AF2017A103<br>indicator=production<br>year=%{x}<br>value=%{y}<extra></extra>",
         "legendgroup": "AF2017A103",
         "line": {
          "color": "#00cc96",
          "dash": "solid"
         },
         "marker": {
          "symbol": "circle"
         },
         "mode": "markers+lines",
         "name": "AF2017A103",
         "showlegend": true,
         "type": "scattergl",
         "x": [
          2002,
          2003,
          2004,
          2005,
          2006,
          2007,
          2008,
          2009,
          2010,
          2011,
          2012,
          2013,
          2014,
          2015,
          2016,
          2017,
          2018,
          2019,
          2020,
          2021,
          2022
         ],
         "xaxis": "x3",
         "y": [
          0,
          3000,
          0,
          7000,
          2000,
          4000,
          1000,
          5000,
          7000,
          2000,
          9000,
          8000,
          8000,
          840,
          400,
          2644.7999999999997,
          0,
          1126,
          612.828,
          2,
          29
         ],
         "yaxis": "y3"
        },
        {
         "connectgaps": false,
         "hovertemplate": "fnid=AF2017A103<br>indicator=area<br>year=%{x}<br>value=%{y}<extra></extra>",
         "legendgroup": "AF2017A103",
         "line": {
          "color": "#00cc96",
          "dash": "solid"
         },
         "marker": {
          "symbol": "circle"
         },
         "mode": "markers+lines",
         "name": "AF2017A103",
         "showlegend": false,
         "type": "scattergl",
         "x": [
          2002,
          2003,
          2004,
          2005,
          2006,
          2007,
          2008,
          2009,
          2010,
          2011,
          2012,
          2013,
          2014,
          2015,
          2016,
          2017,
          2018,
          2019,
          2020,
          2021,
          2022
         ],
         "xaxis": "x2",
         "y": [
          0,
          4000,
          0,
          5000,
          3000,
          3000,
          2000,
          5000,
          6000,
          5000,
          8000,
          8000,
          9000,
          750,
          420,
          2784,
          85,
          969,
          528.3,
          6,
          40
         ],
         "yaxis": "y2"
        },
        {
         "connectgaps": false,
         "hovertemplate": "fnid=AF2017A103<br>indicator=yield<br>year=%{x}<br>value=%{y}<extra></extra>",
         "legendgroup": "AF2017A103",
         "line": {
          "color": "#00cc96",
          "dash": "solid"
         },
         "marker": {
          "symbol": "circle"
         },
         "mode": "markers+lines",
         "name": "AF2017A103",
         "showlegend": false,
         "type": "scattergl",
         "x": [
          2002,
          2003,
          2004,
          2005,
          2006,
          2007,
          2008,
          2009,
          2010,
          2011,
          2012,
          2013,
          2014,
          2015,
          2016,
          2017,
          2018,
          2019,
          2020,
          2021,
          2022
         ],
         "xaxis": "x",
         "y": [
          0,
          0.75,
          0,
          1.4,
          0.6666666666666666,
          1.3333333333333333,
          0.5,
          1,
          1.1666666666666667,
          0.4,
          1.125,
          1,
          0.8888888888888888,
          1.12,
          0.9523809523809524,
          0.95,
          0,
          1.1620227038183697,
          1.16,
          0.3333333333333333,
          0.725
         ],
         "yaxis": "y"
        },
        {
         "connectgaps": false,
         "hovertemplate": "fnid=AF2017A104<br>indicator=production<br>year=%{x}<br>value=%{y}<extra></extra>",
         "legendgroup": "AF2017A104",
         "line": {
          "color": "#ab63fa",
          "dash": "solid"
         },
         "marker": {
          "symbol": "circle"
         },
         "mode": "markers+lines",
         "name": "AF2017A104",
         "showlegend": true,
         "type": "scattergl",
         "x": [
          2002,
          2003,
          2004,
          2005,
          2006,
          2007,
          2008,
          2009,
          2010,
          2011,
          2012,
          2013,
          2014,
          2015,
          2016,
          2017,
          2018,
          2019,
          2020,
          2021,
          2022
         ],
         "xaxis": "x3",
         "y": [
          0,
          0,
          0,
          0,
          1000,
          1000,
          0,
          5000,
          6000,
          4000,
          11000,
          16000,
          1000,
          1620,
          780,
          20910.29,
          160,
          673,
          499.50000000000006,
          4,
          21
         ],
         "yaxis": "y3"
        },
        {
         "connectgaps": false,
         "hovertemplate": "fnid=AF2017A104<br>indicator=area<br>year=%{x}<br>value=%{y}<extra></extra>",
         "legendgroup": "AF2017A104",
         "line": {
          "color": "#ab63fa",
          "dash": "solid"
         },
         "marker": {
          "symbol": "circle"
         },
         "mode": "markers+lines",
         "name": "AF2017A104",
         "showlegend": false,
         "type": "scattergl",
         "x": [
          2002,
          2003,
          2004,
          2005,
          2006,
          2007,
          2008,
          2009,
          2010,
          2011,
          2012,
          2013,
          2014,
          2015,
          2016,
          2017,
          2018,
          2019,
          2020,
          2021,
          2022
         ],
         "xaxis": "x2",
         "y": [
          2000,
          0,
          0,
          0,
          1000,
          1000,
          1000,
          5000,
          5000,
          5000,
          11000,
          11000,
          2000,
          1490,
          800,
          21557,
          263,
          902,
          666,
          13,
          35
         ],
         "yaxis": "y2"
        },
        {
         "connectgaps": false,
         "hovertemplate": "fnid=AF2017A104<br>indicator=yield<br>year=%{x}<br>value=%{y}<extra></extra>",
         "legendgroup": "AF2017A104",
         "line": {
          "color": "#ab63fa",
          "dash": "solid"
         },
         "marker": {
          "symbol": "circle"
         },
         "mode": "markers+lines",
         "name": "AF2017A104",
         "showlegend": false,
         "type": "scattergl",
         "x": [
          2002,
          2003,
          2004,
          2005,
          2006,
          2007,
          2008,
          2009,
          2010,
          2011,
          2012,
          2013,
          2014,
          2015,
          2016,
          2017,
          2018,
          2019,
          2020,
          2021,
          2022
         ],
         "xaxis": "x",
         "y": [
          0,
          0,
          0,
          0,
          1,
          1,
          0,
          1,
          1.2,
          0.8,
          1,
          1.4545454545454546,
          0.5,
          1.087248322147651,
          0.975,
          0.97,
          0.6083650190114068,
          0.746119733924612,
          0.7500000000000001,
          0.3076923076923077,
          0.6
         ],
         "yaxis": "y"
        },
        {
         "connectgaps": false,
         "hovertemplate": "fnid=AF2017A105<br>indicator=production<br>year=%{x}<br>value=%{y}<extra></extra>",
         "legendgroup": "AF2017A105",
         "line": {
          "color": "#FFA15A",
          "dash": "solid"
         },
         "marker": {
          "symbol": "circle"
         },
         "mode": "markers+lines",
         "name": "AF2017A105",
         "showlegend": true,
         "type": "scattergl",
         "x": [
          2002,
          2003,
          2004,
          2005,
          2006,
          2007,
          2008,
          2009,
          2010,
          2011,
          2012,
          2013,
          2014,
          2015,
          2016,
          2017,
          2018,
          2019,
          2020,
          2021,
          2022
         ],
         "xaxis": "x3",
         "y": [
          0,
          0,
          0,
          0,
          2000,
          10000,
          2000,
          6000,
          5000,
          2000,
          2000,
          9000,
          24000,
          17700,
          2330,
          434.00000000000006,
          669,
          891,
          157.24800000000002,
          0,
          0
         ],
         "yaxis": "y3"
        },
        {
         "connectgaps": false,
         "hovertemplate": "fnid=AF2017A105<br>indicator=area<br>year=%{x}<br>value=%{y}<extra></extra>",
         "legendgroup": "AF2017A105",
         "line": {
          "color": "#FFA15A",
          "dash": "solid"
         },
         "marker": {
          "symbol": "circle"
         },
         "mode": "markers+lines",
         "name": "AF2017A105",
         "showlegend": false,
         "type": "scattergl",
         "x": [
          2002,
          2003,
          2004,
          2005,
          2006,
          2007,
          2008,
          2009,
          2010,
          2011,
          2012,
          2013,
          2014,
          2015,
          2016,
          2017,
          2018,
          2019,
          2020,
          2021,
          2022
         ],
         "xaxis": "x2",
         "y": [
          0,
          0,
          0,
          0,
          7000,
          8000,
          6000,
          5000,
          4000,
          3000,
          5223.000000000001,
          10000,
          17000,
          17700,
          1510,
          280,
          744,
          980,
          172.8,
          0,
          0
         ],
         "yaxis": "y2"
        },
        {
         "connectgaps": false,
         "hovertemplate": "fnid=AF2017A105<br>indicator=yield<br>year=%{x}<br>value=%{y}<extra></extra>",
         "legendgroup": "AF2017A105",
         "line": {
          "color": "#FFA15A",
          "dash": "solid"
         },
         "marker": {
          "symbol": "circle"
         },
         "mode": "markers+lines",
         "name": "AF2017A105",
         "showlegend": false,
         "type": "scattergl",
         "x": [
          2002,
          2003,
          2004,
          2005,
          2006,
          2007,
          2008,
          2009,
          2010,
          2011,
          2012,
          2013,
          2014,
          2015,
          2016,
          2017,
          2018,
          2019,
          2020,
          2021,
          2022
         ],
         "xaxis": "x",
         "y": [
          0,
          0,
          0,
          0,
          0.2857142857142857,
          1.25,
          0.3333333333333333,
          1.2,
          1.25,
          0.6666666666666666,
          0.3829216925138808,
          0.9,
          1.411764705882353,
          1,
          1.543046357615894,
          1.5500000000000005,
          0.8991935483870968,
          0.9091836734693878,
          0.91,
          0,
          0
         ],
         "yaxis": "y"
        },
        {
         "connectgaps": false,
         "hovertemplate": "fnid=AF2017A106<br>indicator=production<br>year=%{x}<br>value=%{y}<extra></extra>",
         "legendgroup": "AF2017A106",
         "line": {
          "color": "#19d3f3",
          "dash": "solid"
         },
         "marker": {
          "symbol": "circle"
         },
         "mode": "markers+lines",
         "name": "AF2017A106",
         "showlegend": true,
         "type": "scattergl",
         "x": [
          2002,
          2003,
          2004,
          2005,
          2006,
          2007,
          2008,
          2009,
          2010,
          2011,
          2012,
          2013,
          2014,
          2015,
          2016,
          2017,
          2018,
          2019,
          2020,
          2021,
          2022
         ],
         "xaxis": "x3",
         "y": [
          0,
          0,
          0,
          0,
          0,
          7000,
          1000,
          0,
          0,
          0,
          0,
          0,
          0,
          360,
          0,
          0,
          0,
          0,
          15.75,
          2,
          6
         ],
         "yaxis": "y3"
        },
        {
         "connectgaps": false,
         "hovertemplate": "fnid=AF2017A106<br>indicator=area<br>year=%{x}<br>value=%{y}<extra></extra>",
         "legendgroup": "AF2017A106",
         "line": {
          "color": "#19d3f3",
          "dash": "solid"
         },
         "marker": {
          "symbol": "circle"
         },
         "mode": "markers+lines",
         "name": "AF2017A106",
         "showlegend": false,
         "type": "scattergl",
         "x": [
          2002,
          2003,
          2004,
          2005,
          2006,
          2007,
          2008,
          2009,
          2010,
          2011,
          2012,
          2013,
          2014,
          2015,
          2016,
          2017,
          2018,
          2019,
          2020,
          2021,
          2022
         ],
         "xaxis": "x2",
         "y": [
          0,
          0,
          0,
          0,
          0,
          8000,
          6000,
          0,
          0,
          0,
          0,
          0,
          0,
          200,
          0,
          0,
          0,
          0,
          31.5,
          4,
          8
         ],
         "yaxis": "y2"
        },
        {
         "connectgaps": false,
         "hovertemplate": "fnid=AF2017A106<br>indicator=yield<br>year=%{x}<br>value=%{y}<extra></extra>",
         "legendgroup": "AF2017A106",
         "line": {
          "color": "#19d3f3",
          "dash": "solid"
         },
         "marker": {
          "symbol": "circle"
         },
         "mode": "markers+lines",
         "name": "AF2017A106",
         "showlegend": false,
         "type": "scattergl",
         "x": [
          2002,
          2003,
          2004,
          2005,
          2006,
          2007,
          2008,
          2009,
          2010,
          2011,
          2012,
          2013,
          2014,
          2015,
          2016,
          2017,
          2018,
          2019,
          2020,
          2021,
          2022
         ],
         "xaxis": "x",
         "y": [
          0,
          0,
          0,
          0,
          0,
          0.875,
          0.1666666666666666,
          0,
          0,
          0,
          0,
          0,
          0,
          1.8,
          0,
          0,
          0,
          0,
          0.5,
          0.5,
          0.75
         ],
         "yaxis": "y"
        },
        {
         "connectgaps": false,
         "hovertemplate": "fnid=AF2017A107<br>indicator=production<br>year=%{x}<br>value=%{y}<extra></extra>",
         "legendgroup": "AF2017A107",
         "line": {
          "color": "#FF6692",
          "dash": "solid"
         },
         "marker": {
          "symbol": "circle"
         },
         "mode": "markers+lines",
         "name": "AF2017A107",
         "showlegend": true,
         "type": "scattergl",
         "x": [
          2002,
          2003,
          2004,
          2005,
          2006,
          2007,
          2008,
          2009,
          2010,
          2011,
          2012,
          2013,
          2014,
          2015,
          2016,
          2017,
          2018,
          2019,
          2020,
          2021,
          2022
         ],
         "xaxis": "x3",
         "y": [
          0,
          0,
          0,
          0,
          0,
          1000,
          0,
          0,
          0,
          0,
          0,
          0,
          0,
          0,
          0,
          0,
          0,
          0,
          663.66,
          0,
          0
         ],
         "yaxis": "y3"
        },
        {
         "connectgaps": false,
         "hovertemplate": "fnid=AF2017A107<br>indicator=area<br>year=%{x}<br>value=%{y}<extra></extra>",
         "legendgroup": "AF2017A107",
         "line": {
          "color": "#FF6692",
          "dash": "solid"
         },
         "marker": {
          "symbol": "circle"
         },
         "mode": "markers+lines",
         "name": "AF2017A107",
         "showlegend": false,
         "type": "scattergl",
         "x": [
          2002,
          2003,
          2004,
          2005,
          2006,
          2007,
          2008,
          2009,
          2010,
          2011,
          2012,
          2013,
          2014,
          2015,
          2016,
          2017,
          2018,
          2019,
          2020,
          2021,
          2022
         ],
         "xaxis": "x2",
         "y": [
          0,
          0,
          0,
          0,
          0,
          1000,
          1000,
          0,
          0,
          0,
          0,
          0,
          0,
          0,
          0,
          0,
          0,
          0,
          1106.1,
          0,
          0
         ],
         "yaxis": "y2"
        },
        {
         "connectgaps": false,
         "hovertemplate": "fnid=AF2017A107<br>indicator=yield<br>year=%{x}<br>value=%{y}<extra></extra>",
         "legendgroup": "AF2017A107",
         "line": {
          "color": "#FF6692",
          "dash": "solid"
         },
         "marker": {
          "symbol": "circle"
         },
         "mode": "markers+lines",
         "name": "AF2017A107",
         "showlegend": false,
         "type": "scattergl",
         "x": [
          2002,
          2003,
          2004,
          2005,
          2006,
          2007,
          2008,
          2009,
          2010,
          2011,
          2012,
          2013,
          2014,
          2015,
          2016,
          2017,
          2018,
          2019,
          2020,
          2021,
          2022
         ],
         "xaxis": "x",
         "y": [
          0,
          0,
          0,
          0,
          0,
          1,
          0,
          0,
          0,
          0,
          0,
          0,
          0,
          0,
          0,
          0,
          0,
          0,
          0.6,
          0,
          0
         ],
         "yaxis": "y"
        },
        {
         "connectgaps": false,
         "hovertemplate": "fnid=AF2017A108<br>indicator=production<br>year=%{x}<br>value=%{y}<extra></extra>",
         "legendgroup": "AF2017A108",
         "line": {
          "color": "#B6E880",
          "dash": "solid"
         },
         "marker": {
          "symbol": "circle"
         },
         "mode": "markers+lines",
         "name": "AF2017A108",
         "showlegend": true,
         "type": "scattergl",
         "x": [
          2002,
          2003,
          2004,
          2005,
          2006,
          2007,
          2008,
          2009,
          2010,
          2011,
          2012,
          2013,
          2014,
          2015,
          2016,
          2017,
          2018,
          2019,
          2020,
          2021,
          2022
         ],
         "xaxis": "x3",
         "y": [
          0,
          0,
          0,
          0,
          2000,
          3000,
          0,
          3000,
          2000,
          1000,
          1000,
          1000,
          0,
          0,
          0,
          0,
          0,
          89,
          111.96899999999998,
          0,
          0
         ],
         "yaxis": "y3"
        },
        {
         "connectgaps": false,
         "hovertemplate": "fnid=AF2017A108<br>indicator=area<br>year=%{x}<br>value=%{y}<extra></extra>",
         "legendgroup": "AF2017A108",
         "line": {
          "color": "#B6E880",
          "dash": "solid"
         },
         "marker": {
          "symbol": "circle"
         },
         "mode": "markers+lines",
         "name": "AF2017A108",
         "showlegend": false,
         "type": "scattergl",
         "x": [
          2002,
          2003,
          2004,
          2005,
          2006,
          2007,
          2008,
          2009,
          2010,
          2011,
          2012,
          2013,
          2014,
          2015,
          2016,
          2017,
          2018,
          2019,
          2020,
          2021,
          2022
         ],
         "xaxis": "x2",
         "y": [
          0,
          0,
          0,
          0,
          2000,
          2000,
          1000,
          2000,
          2000,
          2000,
          2000,
          2000,
          0,
          0,
          0,
          0,
          12,
          102,
          128.7,
          0,
          0
         ],
         "yaxis": "y2"
        },
        {
         "connectgaps": false,
         "hovertemplate": "fnid=AF2017A108<br>indicator=yield<br>year=%{x}<br>value=%{y}<extra></extra>",
         "legendgroup": "AF2017A108",
         "line": {
          "color": "#B6E880",
          "dash": "solid"
         },
         "marker": {
          "symbol": "circle"
         },
         "mode": "markers+lines",
         "name": "AF2017A108",
         "showlegend": false,
         "type": "scattergl",
         "x": [
          2002,
          2003,
          2004,
          2005,
          2006,
          2007,
          2008,
          2009,
          2010,
          2011,
          2012,
          2013,
          2014,
          2015,
          2016,
          2017,
          2018,
          2019,
          2020,
          2021,
          2022
         ],
         "xaxis": "x",
         "y": [
          0,
          0,
          0,
          0,
          1,
          1.5,
          0,
          1.5,
          1,
          0.5,
          0.5,
          0.5,
          0,
          0,
          0,
          0,
          0,
          0.8725490196078431,
          0.8699999999999999,
          0,
          0
         ],
         "yaxis": "y"
        },
        {
         "connectgaps": false,
         "hovertemplate": "fnid=AF2017A109<br>indicator=production<br>year=%{x}<br>value=%{y}<extra></extra>",
         "legendgroup": "AF2017A109",
         "line": {
          "color": "#FF97FF",
          "dash": "solid"
         },
         "marker": {
          "symbol": "circle"
         },
         "mode": "markers+lines",
         "name": "AF2017A109",
         "showlegend": true,
         "type": "scattergl",
         "x": [
          2002,
          2003,
          2004,
          2005,
          2006,
          2007,
          2008,
          2009,
          2010,
          2011,
          2012,
          2013,
          2014,
          2015,
          2016,
          2017,
          2018,
          2019,
          2020,
          2021,
          2022
         ],
         "xaxis": "x3",
         "y": [
          54000,
          152000,
          45000,
          111000,
          50000,
          100000,
          8000,
          88000,
          68000,
          19000,
          79000,
          96000,
          102000,
          74660,
          49700,
          32112.300000000003,
          9085,
          60168,
          46244.88000000001,
          8652,
          14331
         ],
         "yaxis": "y3"
        },
        {
         "connectgaps": false,
         "hovertemplate": "fnid=AF2017A109<br>indicator=area<br>year=%{x}<br>value=%{y}<extra></extra>",
         "legendgroup": "AF2017A109",
         "line": {
          "color": "#FF97FF",
          "dash": "solid"
         },
         "marker": {
          "symbol": "circle"
         },
         "mode": "markers+lines",
         "name": "AF2017A109",
         "showlegend": false,
         "type": "scattergl",
         "x": [
          2002,
          2003,
          2004,
          2005,
          2006,
          2007,
          2008,
          2009,
          2010,
          2011,
          2012,
          2013,
          2014,
          2015,
          2016,
          2017,
          2018,
          2019,
          2020,
          2021,
          2022
         ],
         "xaxis": "x2",
         "y": [
          60000,
          73000,
          60000,
          74000,
          74000,
          80000,
          74000,
          80000,
          67000,
          47000,
          60437.35,
          61000,
          51000,
          39110,
          45180,
          29193,
          15356,
          66916,
          42040.8,
          12360,
          18898
         ],
         "yaxis": "y2"
        },
        {
         "connectgaps": false,
         "hovertemplate": "fnid=AF2017A109<br>indicator=yield<br>year=%{x}<br>value=%{y}<extra></extra>",
         "legendgroup": "AF2017A109",
         "line": {
          "color": "#FF97FF",
          "dash": "solid"
         },
         "marker": {
          "symbol": "circle"
         },
         "mode": "markers+lines",
         "name": "AF2017A109",
         "showlegend": false,
         "type": "scattergl",
         "x": [
          2002,
          2003,
          2004,
          2005,
          2006,
          2007,
          2008,
          2009,
          2010,
          2011,
          2012,
          2013,
          2014,
          2015,
          2016,
          2017,
          2018,
          2019,
          2020,
          2021,
          2022
         ],
         "xaxis": "x",
         "y": [
          0.9,
          2.0821917808219177,
          0.75,
          1.5,
          0.6756756756756757,
          1.25,
          0.1081081081081081,
          1.1,
          1.0149253731343284,
          0.4042553191489361,
          1.3071387147186302,
          1.5737704918032789,
          2,
          1.9089746867808743,
          1.1000442673749449,
          1.1,
          0.5916254232873144,
          0.8991571522505828,
          1.1000000000000003,
          0.7,
          0.7583342152608742
         ],
         "yaxis": "y"
        },
        {
         "connectgaps": false,
         "hovertemplate": "fnid=AF2017A110<br>indicator=production<br>year=%{x}<br>value=%{y}<extra></extra>",
         "legendgroup": "AF2017A110",
         "line": {
          "color": "#FECB52",
          "dash": "solid"
         },
         "marker": {
          "symbol": "circle"
         },
         "mode": "markers+lines",
         "name": "AF2017A110",
         "showlegend": true,
         "type": "scattergl",
         "x": [
          2002,
          2003,
          2004,
          2005,
          2006,
          2007,
          2008,
          2009,
          2010,
          2011,
          2012,
          2013,
          2014,
          2015,
          2016,
          2017,
          2018,
          2019,
          2020,
          2021,
          2022
         ],
         "xaxis": "x3",
         "y": [
          27000,
          4000,
          2000,
          3000,
          5000,
          8000,
          2000,
          11000,
          14000,
          3000,
          7000,
          5000,
          34000,
          9260,
          3210,
          545.4,
          0,
          995,
          261.78154431818183,
          13,
          16
         ],
         "yaxis": "y3"
        },
        {
         "connectgaps": false,
         "hovertemplate": "fnid=AF2017A110<br>indicator=area<br>year=%{x}<br>value=%{y}<extra></extra>",
         "legendgroup": "AF2017A110",
         "line": {
          "color": "#FECB52",
          "dash": "solid"
         },
         "marker": {
          "symbol": "circle"
         },
         "mode": "markers+lines",
         "name": "AF2017A110",
         "showlegend": false,
         "type": "scattergl",
         "x": [
          2002,
          2003,
          2004,
          2005,
          2006,
          2007,
          2008,
          2009,
          2010,
          2011,
          2012,
          2013,
          2014,
          2015,
          2016,
          2017,
          2018,
          2019,
          2020,
          2021,
          2022
         ],
         "xaxis": "x2",
         "y": [
          30000,
          4000,
          4000,
          3000,
          8000,
          8000,
          6000,
          10000,
          13000,
          5000,
          10898.55,
          11000,
          16000,
          16500,
          5930,
          1010,
          0,
          713,
          411.3,
          26,
          26
         ],
         "yaxis": "y2"
        },
        {
         "connectgaps": false,
         "hovertemplate": "fnid=AF2017A110<br>indicator=yield<br>year=%{x}<br>value=%{y}<extra></extra>",
         "legendgroup": "AF2017A110",
         "line": {
          "color": "#FECB52",
          "dash": "solid"
         },
         "marker": {
          "symbol": "circle"
         },
         "mode": "markers+lines",
         "name": "AF2017A110",
         "showlegend": false,
         "type": "scattergl",
         "x": [
          2002,
          2003,
          2004,
          2005,
          2006,
          2007,
          2008,
          2009,
          2010,
          2011,
          2012,
          2013,
          2014,
          2015,
          2016,
          2017,
          2018,
          2019,
          2020,
          2021,
          2022
         ],
         "xaxis": "x",
         "y": [
          0.9,
          1,
          0.5,
          1,
          0.625,
          1,
          0.3333333333333333,
          1.1,
          1.0769230769230769,
          0.6,
          0.6422872767478243,
          0.4545454545454545,
          2.125,
          0.5612121212121212,
          0.5413153456998314,
          0.5399999999999999,
          0,
          1.3955119214586256,
          0.6364734848484849,
          0.5,
          0.6153846153846154
         ],
         "yaxis": "y"
        },
        {
         "connectgaps": false,
         "hovertemplate": "fnid=AF2017A111<br>indicator=production<br>year=%{x}<br>value=%{y}<extra></extra>",
         "legendgroup": "AF2017A111",
         "line": {
          "color": "#636efa",
          "dash": "solid"
         },
         "marker": {
          "symbol": "circle"
         },
         "mode": "markers+lines",
         "name": "AF2017A111",
         "showlegend": true,
         "type": "scattergl",
         "x": [
          2002,
          2003,
          2004,
          2005,
          2006,
          2007,
          2008,
          2009,
          2010,
          2011,
          2012,
          2013,
          2014,
          2015,
          2016,
          2017,
          2018,
          2019,
          2020,
          2021,
          2022
         ],
         "xaxis": "x3",
         "y": [
          0,
          1000,
          0,
          1000,
          1000,
          2000,
          0,
          4000,
          2000,
          1000,
          2000,
          3000,
          36000,
          26650,
          18320,
          6454,
          2535,
          3832,
          2319.7066363636363,
          1336,
          1446
         ],
         "yaxis": "y3"
        },
        {
         "connectgaps": false,
         "hovertemplate": "fnid=AF2017A111<br>indicator=area<br>year=%{x}<br>value=%{y}<extra></extra>",
         "legendgroup": "AF2017A111",
         "line": {
          "color": "#636efa",
          "dash": "solid"
         },
         "marker": {
          "symbol": "circle"
         },
         "mode": "markers+lines",
         "name": "AF2017A111",
         "showlegend": false,
         "type": "scattergl",
         "x": [
          2002,
          2003,
          2004,
          2005,
          2006,
          2007,
          2008,
          2009,
          2010,
          2011,
          2012,
          2013,
          2014,
          2015,
          2016,
          2017,
          2018,
          2019,
          2020,
          2021,
          2022
         ],
         "xaxis": "x2",
         "y": [
          0,
          1000,
          0,
          1000,
          2000,
          2000,
          1000,
          4000,
          4000,
          4000,
          4166,
          4000,
          30000,
          24230,
          26170,
          9220,
          5735,
          3865,
          2241,
          1484,
          1611
         ],
         "yaxis": "y2"
        },
        {
         "connectgaps": false,
         "hovertemplate": "fnid=AF2017A111<br>indicator=yield<br>year=%{x}<br>value=%{y}<extra></extra>",
         "legendgroup": "AF2017A111",
         "line": {
          "color": "#636efa",
          "dash": "solid"
         },
         "marker": {
          "symbol": "circle"
         },
         "mode": "markers+lines",
         "name": "AF2017A111",
         "showlegend": false,
         "type": "scattergl",
         "x": [
          2002,
          2003,
          2004,
          2005,
          2006,
          2007,
          2008,
          2009,
          2010,
          2011,
          2012,
          2013,
          2014,
          2015,
          2016,
          2017,
          2018,
          2019,
          2020,
          2021,
          2022
         ],
         "xaxis": "x",
         "y": [
          0,
          1,
          0,
          1,
          0.5,
          1,
          0,
          1,
          0.5,
          0.25,
          0.4800768122899664,
          0.75,
          1.2,
          1.0998761865456046,
          0.700038211692778,
          0.7,
          0.4420226678291194,
          0.9914618369987064,
          1.035121212121212,
          0.9002695417789758,
          0.8975791433891993
         ],
         "yaxis": "y"
        },
        {
         "connectgaps": false,
         "hovertemplate": "fnid=AF2017A112<br>indicator=production<br>year=%{x}<br>value=%{y}<extra></extra>",
         "legendgroup": "AF2017A112",
         "line": {
          "color": "#EF553B",
          "dash": "solid"
         },
         "marker": {
          "symbol": "circle"
         },
         "mode": "markers+lines",
         "name": "AF2017A112",
         "showlegend": true,
         "type": "scattergl",
         "x": [
          2002,
          2003,
          2004,
          2005,
          2006,
          2007,
          2008,
          2009,
          2010,
          2011,
          2012,
          2013,
          2014,
          2015,
          2016,
          2017,
          2018,
          2019,
          2020,
          2021,
          2022
         ],
         "xaxis": "x3",
         "y": [
          0,
          0,
          0,
          0,
          1000,
          2000,
          0,
          6000,
          4000,
          2000,
          4000,
          10000,
          18000,
          17520,
          9000,
          795,
          56,
          523,
          287.1,
          335,
          213
         ],
         "yaxis": "y3"
        },
        {
         "connectgaps": false,
         "hovertemplate": "fnid=AF2017A112<br>indicator=area<br>year=%{x}<br>value=%{y}<extra></extra>",
         "legendgroup": "AF2017A112",
         "line": {
          "color": "#EF553B",
          "dash": "solid"
         },
         "marker": {
          "symbol": "circle"
         },
         "mode": "markers+lines",
         "name": "AF2017A112",
         "showlegend": false,
         "type": "scattergl",
         "x": [
          2002,
          2003,
          2004,
          2005,
          2006,
          2007,
          2008,
          2009,
          2010,
          2011,
          2012,
          2013,
          2014,
          2015,
          2016,
          2017,
          2018,
          2019,
          2020,
          2021,
          2022
         ],
         "xaxis": "x2",
         "y": [
          0,
          0,
          0,
          0,
          2000,
          2000,
          1000,
          6000,
          6000,
          6000,
          6244.199999999999,
          9000,
          9000,
          8760,
          6000,
          530,
          40,
          231,
          287.1,
          335,
          233
         ],
         "yaxis": "y2"
        },
        {
         "connectgaps": false,
         "hovertemplate": "fnid=AF2017A112<br>indicator=yield<br>year=%{x}<br>value=%{y}<extra></extra>",
         "legendgroup": "AF2017A112",
         "line": {
          "color": "#EF553B",
          "dash": "solid"
         },
         "marker": {
          "symbol": "circle"
         },
         "mode": "markers+lines",
         "name": "AF2017A112",
         "showlegend": false,
         "type": "scattergl",
         "x": [
          2002,
          2003,
          2004,
          2005,
          2006,
          2007,
          2008,
          2009,
          2010,
          2011,
          2012,
          2013,
          2014,
          2015,
          2016,
          2017,
          2018,
          2019,
          2020,
          2021,
          2022
         ],
         "xaxis": "x",
         "y": [
          0,
          0,
          0,
          0,
          0.5,
          1,
          0,
          1,
          0.6666666666666666,
          0.3333333333333333,
          0.6405944716697096,
          1.1111111111111112,
          2,
          2,
          1.5,
          1.5,
          1.4,
          2.264069264069264,
          1,
          1,
          0.9141630901287554
         ],
         "yaxis": "y"
        },
        {
         "connectgaps": false,
         "hovertemplate": "fnid=AF2017A113<br>indicator=production<br>year=%{x}<br>value=%{y}<extra></extra>",
         "legendgroup": "AF2017A113",
         "line": {
          "color": "#00cc96",
          "dash": "solid"
         },
         "marker": {
          "symbol": "circle"
         },
         "mode": "markers+lines",
         "name": "AF2017A113",
         "showlegend": true,
         "type": "scattergl",
         "x": [
          2002,
          2003,
          2004,
          2005,
          2006,
          2007,
          2008,
          2009,
          2010,
          2011,
          2012,
          2013,
          2014,
          2015,
          2016,
          2017,
          2018,
          2019,
          2020,
          2021,
          2022
         ],
         "xaxis": "x3",
         "y": [
          0,
          0,
          0,
          0,
          0,
          1000,
          0,
          1000,
          1000,
          0,
          1000,
          1000,
          2000,
          1150,
          1290,
          41.28,
          2000,
          1034,
          95.29044119318182,
          0,
          0
         ],
         "yaxis": "y3"
        },
        {
         "connectgaps": false,
         "hovertemplate": "fnid=AF2017A113<br>indicator=area<br>year=%{x}<br>value=%{y}<extra></extra>",
         "legendgroup": "AF2017A113",
         "line": {
          "color": "#00cc96",
          "dash": "solid"
         },
         "marker": {
          "symbol": "circle"
         },
         "mode": "markers+lines",
         "name": "AF2017A113",
         "showlegend": false,
         "type": "scattergl",
         "x": [
          2002,
          2003,
          2004,
          2005,
          2006,
          2007,
          2008,
          2009,
          2010,
          2011,
          2012,
          2013,
          2014,
          2015,
          2016,
          2017,
          2018,
          2019,
          2020,
          2021,
          2022
         ],
         "xaxis": "x2",
         "y": [
          0,
          0,
          0,
          0,
          1000,
          1000,
          1000,
          1000,
          1000,
          1000,
          1163.3,
          1000,
          1000,
          1100,
          1000,
          32,
          4000,
          1078,
          66.6,
          0,
          0
         ],
         "yaxis": "y2"
        },
        {
         "connectgaps": false,
         "hovertemplate": "fnid=AF2017A113<br>indicator=yield<br>year=%{x}<br>value=%{y}<extra></extra>",
         "legendgroup": "AF2017A113",
         "line": {
          "color": "#00cc96",
          "dash": "solid"
         },
         "marker": {
          "symbol": "circle"
         },
         "mode": "markers+lines",
         "name": "AF2017A113",
         "showlegend": false,
         "type": "scattergl",
         "x": [
          2002,
          2003,
          2004,
          2005,
          2006,
          2007,
          2008,
          2009,
          2010,
          2011,
          2012,
          2013,
          2014,
          2015,
          2016,
          2017,
          2018,
          2019,
          2020,
          2021,
          2022
         ],
         "xaxis": "x",
         "y": [
          0,
          0,
          0,
          0,
          0,
          1,
          0,
          1,
          1,
          0,
          0.8596234849136078,
          1,
          2,
          1.0454545454545454,
          1.29,
          1.29,
          0.5,
          0.9591836734693876,
          1.4307874053030305,
          0,
          0
         ],
         "yaxis": "y"
        },
        {
         "connectgaps": false,
         "hovertemplate": "fnid=AF2017A114<br>indicator=production<br>year=%{x}<br>value=%{y}<extra></extra>",
         "legendgroup": "AF2017A114",
         "line": {
          "color": "#ab63fa",
          "dash": "solid"
         },
         "marker": {
          "symbol": "circle"
         },
         "mode": "markers+lines",
         "name": "AF2017A114",
         "showlegend": true,
         "type": "scattergl",
         "x": [
          2002,
          2003,
          2004,
          2005,
          2006,
          2007,
          2008,
          2009,
          2010,
          2011,
          2012,
          2013,
          2014,
          2015,
          2016,
          2017,
          2018,
          2019,
          2020,
          2021,
          2022
         ],
         "xaxis": "x3",
         "y": [
          0,
          0,
          0,
          0,
          0,
          0,
          0,
          1000,
          1000,
          0,
          1000,
          1000,
          3000,
          2000,
          570,
          132.24,
          434,
          119,
          126.36,
          53,
          55
         ],
         "yaxis": "y3"
        },
        {
         "connectgaps": false,
         "hovertemplate": "fnid=AF2017A114<br>indicator=area<br>year=%{x}<br>value=%{y}<extra></extra>",
         "legendgroup": "AF2017A114",
         "line": {
          "color": "#ab63fa",
          "dash": "solid"
         },
         "marker": {
          "symbol": "circle"
         },
         "mode": "markers+lines",
         "name": "AF2017A114",
         "showlegend": false,
         "type": "scattergl",
         "x": [
          2002,
          2003,
          2004,
          2005,
          2006,
          2007,
          2008,
          2009,
          2010,
          2011,
          2012,
          2013,
          2014,
          2015,
          2016,
          2017,
          2018,
          2019,
          2020,
          2021,
          2022
         ],
         "xaxis": "x2",
         "y": [
          0,
          0,
          0,
          0,
          0,
          0,
          0,
          1000,
          1000,
          1000,
          1151.85,
          1000,
          1000,
          1570,
          330,
          76,
          248,
          100,
          140.4,
          48,
          45
         ],
         "yaxis": "y2"
        },
        {
         "connectgaps": false,
         "hovertemplate": "fnid=AF2017A114<br>indicator=yield<br>year=%{x}<br>value=%{y}<extra></extra>",
         "legendgroup": "AF2017A114",
         "line": {
          "color": "#ab63fa",
          "dash": "solid"
         },
         "marker": {
          "symbol": "circle"
         },
         "mode": "markers+lines",
         "name": "AF2017A114",
         "showlegend": false,
         "type": "scattergl",
         "x": [
          2002,
          2003,
          2004,
          2005,
          2006,
          2007,
          2008,
          2009,
          2010,
          2011,
          2012,
          2013,
          2014,
          2015,
          2016,
          2017,
          2018,
          2019,
          2020,
          2021,
          2022
         ],
         "xaxis": "x",
         "y": [
          0,
          0,
          0,
          0,
          0,
          0,
          0,
          1,
          1,
          0,
          0.8681685983417978,
          1,
          3,
          1.2738853503184713,
          1.7272727272727273,
          1.7400000000000002,
          1.75,
          1.19,
          0.8999999999999999,
          1.1041666666666667,
          1.2222222222222223
         ],
         "yaxis": "y"
        },
        {
         "connectgaps": false,
         "hovertemplate": "fnid=AF2017A116<br>indicator=production<br>year=%{x}<br>value=%{y}<extra></extra>",
         "legendgroup": "AF2017A116",
         "line": {
          "color": "#FFA15A",
          "dash": "solid"
         },
         "marker": {
          "symbol": "circle"
         },
         "mode": "markers+lines",
         "name": "AF2017A116",
         "showlegend": true,
         "type": "scattergl",
         "x": [
          2002,
          2003,
          2004,
          2005,
          2006,
          2007,
          2008,
          2009,
          2010,
          2011,
          2012,
          2013,
          2014,
          2015,
          2016,
          2017,
          2018,
          2019,
          2020,
          2021,
          2022
         ],
         "xaxis": "x3",
         "y": [
          0,
          0,
          0,
          0,
          1000,
          1000,
          0,
          1000,
          0,
          0,
          1000,
          1000,
          1000,
          950,
          0,
          0,
          0,
          162,
          314.64,
          0,
          0
         ],
         "yaxis": "y3"
        },
        {
         "connectgaps": false,
         "hovertemplate": "fnid=AF2017A116<br>indicator=area<br>year=%{x}<br>value=%{y}<extra></extra>",
         "legendgroup": "AF2017A116",
         "line": {
          "color": "#FFA15A",
          "dash": "solid"
         },
         "marker": {
          "symbol": "circle"
         },
         "mode": "markers+lines",
         "name": "AF2017A116",
         "showlegend": false,
         "type": "scattergl",
         "x": [
          2002,
          2003,
          2004,
          2005,
          2006,
          2007,
          2008,
          2009,
          2010,
          2011,
          2012,
          2013,
          2014,
          2015,
          2016,
          2017,
          2018,
          2019,
          2020,
          2021,
          2022
         ],
         "xaxis": "x2",
         "y": [
          0,
          0,
          0,
          0,
          1000,
          1000,
          1000,
          1000,
          1000,
          1000,
          1000,
          1000,
          1000,
          500,
          0,
          0,
          0,
          324000,
          273.6,
          0,
          0
         ],
         "yaxis": "y2"
        },
        {
         "connectgaps": false,
         "hovertemplate": "fnid=AF2017A116<br>indicator=yield<br>year=%{x}<br>value=%{y}<extra></extra>",
         "legendgroup": "AF2017A116",
         "line": {
          "color": "#FFA15A",
          "dash": "solid"
         },
         "marker": {
          "symbol": "circle"
         },
         "mode": "markers+lines",
         "name": "AF2017A116",
         "showlegend": false,
         "type": "scattergl",
         "x": [
          2002,
          2003,
          2004,
          2005,
          2006,
          2007,
          2008,
          2009,
          2010,
          2011,
          2012,
          2013,
          2014,
          2015,
          2016,
          2017,
          2018,
          2019,
          2020,
          2021,
          2022
         ],
         "xaxis": "x",
         "y": [
          0,
          0,
          0,
          0,
          1,
          1,
          0,
          1,
          0,
          0,
          1,
          1,
          1,
          1.9,
          0,
          0,
          0,
          0.0005,
          1.15,
          0,
          0
         ],
         "yaxis": "y"
        },
        {
         "connectgaps": false,
         "hovertemplate": "fnid=AF2017A117<br>indicator=production<br>year=%{x}<br>value=%{y}<extra></extra>",
         "legendgroup": "AF2017A117",
         "line": {
          "color": "#19d3f3",
          "dash": "solid"
         },
         "marker": {
          "symbol": "circle"
         },
         "mode": "markers+lines",
         "name": "AF2017A117",
         "showlegend": true,
         "type": "scattergl",
         "x": [
          2002,
          2003,
          2004,
          2005,
          2006,
          2007,
          2008,
          2009,
          2010,
          2011,
          2012,
          2013,
          2014,
          2015,
          2016,
          2017,
          2018,
          2019,
          2020,
          2021,
          2022
         ],
         "xaxis": "x3",
         "y": [
          30000,
          116000,
          35000,
          140000,
          56000,
          138000,
          12000,
          128000,
          110000,
          33000,
          110000,
          205000,
          148000,
          96400,
          62930,
          19521.26,
          55611,
          67478,
          103918.40217367398,
          64807,
          63313
         ],
         "yaxis": "y3"
        },
        {
         "connectgaps": false,
         "hovertemplate": "fnid=AF2017A117<br>indicator=area<br>year=%{x}<br>value=%{y}<extra></extra>",
         "legendgroup": "AF2017A117",
         "line": {
          "color": "#19d3f3",
          "dash": "solid"
         },
         "marker": {
          "symbol": "circle"
         },
         "mode": "markers+lines",
         "name": "AF2017A117",
         "showlegend": false,
         "type": "scattergl",
         "x": [
          2002,
          2003,
          2004,
          2005,
          2006,
          2007,
          2008,
          2009,
          2010,
          2011,
          2012,
          2013,
          2014,
          2015,
          2016,
          2017,
          2018,
          2019,
          2020,
          2021,
          2022
         ],
         "xaxis": "x2",
         "y": [
          30000,
          84000,
          75000,
          100000,
          100000,
          110000,
          116000,
          116000,
          115000,
          69000,
          137965.5,
          139000,
          139000,
          69610,
          72000,
          21934,
          78700,
          77126,
          79811.1,
          72008,
          72064
         ],
         "yaxis": "y2"
        },
        {
         "connectgaps": false,
         "hovertemplate": "fnid=AF2017A117<br>indicator=yield<br>year=%{x}<br>value=%{y}<extra></extra>",
         "legendgroup": "AF2017A117",
         "line": {
          "color": "#19d3f3",
          "dash": "solid"
         },
         "marker": {
          "symbol": "circle"
         },
         "mode": "markers+lines",
         "name": "AF2017A117",
         "showlegend": false,
         "type": "scattergl",
         "x": [
          2002,
          2003,
          2004,
          2005,
          2006,
          2007,
          2008,
          2009,
          2010,
          2011,
          2012,
          2013,
          2014,
          2015,
          2016,
          2017,
          2018,
          2019,
          2020,
          2021,
          2022
         ],
         "xaxis": "x",
         "y": [
          1,
          1.380952380952381,
          0.4666666666666667,
          1.4,
          0.56,
          1.2545454545454546,
          0.1034482758620689,
          1.103448275862069,
          0.9565217391304348,
          0.4782608695652174,
          0.7973007744689795,
          1.474820143884892,
          1.064748201438849,
          1.384858497342336,
          0.8740277777777777,
          0.8900000000000001,
          0.7066200762388818,
          0.8749059979773358,
          1.302054503367,
          0.8999972225308299,
          0.8785662744227354
         ],
         "yaxis": "y"
        },
        {
         "connectgaps": false,
         "hovertemplate": "fnid=AF2017A118<br>indicator=production<br>year=%{x}<br>value=%{y}<extra></extra>",
         "legendgroup": "AF2017A118",
         "line": {
          "color": "#FF6692",
          "dash": "solid"
         },
         "marker": {
          "symbol": "circle"
         },
         "mode": "markers+lines",
         "name": "AF2017A118",
         "showlegend": true,
         "type": "scattergl",
         "x": [
          2002,
          2003,
          2004,
          2005,
          2006,
          2007,
          2008,
          2009,
          2010,
          2011,
          2012,
          2013,
          2014,
          2015,
          2016,
          2017,
          2018,
          2019,
          2020,
          2021,
          2022
         ],
         "xaxis": "x3",
         "y": [
          60000,
          190000,
          120000,
          176000,
          70000,
          168000,
          14000,
          183000,
          164000,
          34000,
          228000,
          259000,
          314000,
          210120,
          126060,
          75236.48812500019,
          35424,
          136655,
          293447.9177697016,
          81246,
          125977
         ],
         "yaxis": "y3"
        },
        {
         "connectgaps": false,
         "hovertemplate": "fnid=AF2017A118<br>indicator=area<br>year=%{x}<br>value=%{y}<extra></extra>",
         "legendgroup": "AF2017A118",
         "line": {
          "color": "#FF6692",
          "dash": "solid"
         },
         "marker": {
          "symbol": "circle"
         },
         "mode": "markers+lines",
         "name": "AF2017A118",
         "showlegend": false,
         "type": "scattergl",
         "x": [
          2002,
          2003,
          2004,
          2005,
          2006,
          2007,
          2008,
          2009,
          2010,
          2011,
          2012,
          2013,
          2014,
          2015,
          2016,
          2017,
          2018,
          2019,
          2020,
          2021,
          2022
         ],
         "xaxis": "x2",
         "y": [
          60000,
          145000,
          150000,
          135000,
          135000,
          140000,
          129000,
          140000,
          126000,
          88000,
          162974.69999999998,
          164000,
          157000,
          126770,
          117810,
          71203,
          35616,
          130904,
          203045.4,
          81246,
          100300
         ],
         "yaxis": "y2"
        },
        {
         "connectgaps": false,
         "hovertemplate": "fnid=AF2017A118<br>indicator=yield<br>year=%{x}<br>value=%{y}<extra></extra>",
         "legendgroup": "AF2017A118",
         "line": {
          "color": "#FF6692",
          "dash": "solid"
         },
         "marker": {
          "symbol": "circle"
         },
         "mode": "markers+lines",
         "name": "AF2017A118",
         "showlegend": false,
         "type": "scattergl",
         "x": [
          2002,
          2003,
          2004,
          2005,
          2006,
          2007,
          2008,
          2009,
          2010,
          2011,
          2012,
          2013,
          2014,
          2015,
          2016,
          2017,
          2018,
          2019,
          2020,
          2021,
          2022
         ],
         "xaxis": "x",
         "y": [
          1,
          1.3103448275862069,
          0.8,
          1.3037037037037038,
          0.5185185185185185,
          1.2,
          0.1085271317829457,
          1.3071428571428572,
          1.3015873015873016,
          0.3863636363636363,
          1.3989901500048785,
          1.579268292682927,
          2,
          1.657489942415398,
          1.0700280112044818,
          1.05664772727273,
          0.9946091644204852,
          1.043932958503942,
          1.4452330255681816,
          1,
          1.256001994017946
         ],
         "yaxis": "y"
        },
        {
         "connectgaps": false,
         "hovertemplate": "fnid=AF2017A119<br>indicator=production<br>year=%{x}<br>value=%{y}<extra></extra>",
         "legendgroup": "AF2017A119",
         "line": {
          "color": "#B6E880",
          "dash": "solid"
         },
         "marker": {
          "symbol": "circle"
         },
         "mode": "markers+lines",
         "name": "AF2017A119",
         "showlegend": true,
         "type": "scattergl",
         "x": [
          2002,
          2003,
          2004,
          2005,
          2006,
          2007,
          2008,
          2009,
          2010,
          2011,
          2012,
          2013,
          2014,
          2015,
          2016,
          2017,
          2018,
          2019,
          2020,
          2021,
          2022
         ],
         "xaxis": "x3",
         "y": [
          27000,
          24000,
          20000,
          20000,
          13000,
          26000,
          2000,
          41000,
          41000,
          4000,
          46000,
          55000,
          115000,
          70610,
          63290,
          88076.07170454561,
          0,
          27857,
          34767.468,
          41957,
          43610
         ],
         "yaxis": "y3"
        },
        {
         "connectgaps": false,
         "hovertemplate": "fnid=AF2017A119<br>indicator=area<br>year=%{x}<br>value=%{y}<extra></extra>",
         "legendgroup": "AF2017A119",
         "line": {
          "color": "#B6E880",
          "dash": "solid"
         },
         "marker": {
          "symbol": "circle"
         },
         "mode": "markers+lines",
         "name": "AF2017A119",
         "showlegend": false,
         "type": "scattergl",
         "x": [
          2002,
          2003,
          2004,
          2005,
          2006,
          2007,
          2008,
          2009,
          2010,
          2011,
          2012,
          2013,
          2014,
          2015,
          2016,
          2017,
          2018,
          2019,
          2020,
          2021,
          2022
         ],
         "xaxis": "x2",
         "y": [
          30000,
          12000,
          20000,
          14000,
          20000,
          22000,
          20000,
          34000,
          34000,
          24000,
          35511.3,
          37000,
          37000,
          37880,
          56510,
          83286,
          16068.999999999998,
          44265,
          32192.099999999995,
          34964,
          38451
         ],
         "yaxis": "y2"
        },
        {
         "connectgaps": false,
         "hovertemplate": "fnid=AF2017A119<br>indicator=yield<br>year=%{x}<br>value=%{y}<extra></extra>",
         "legendgroup": "AF2017A119",
         "line": {
          "color": "#B6E880",
          "dash": "solid"
         },
         "marker": {
          "symbol": "circle"
         },
         "mode": "markers+lines",
         "name": "AF2017A119",
         "showlegend": false,
         "type": "scattergl",
         "x": [
          2002,
          2003,
          2004,
          2005,
          2006,
          2007,
          2008,
          2009,
          2010,
          2011,
          2012,
          2013,
          2014,
          2015,
          2016,
          2017,
          2018,
          2019,
          2020,
          2021,
          2022
         ],
         "xaxis": "x",
         "y": [
          0.9,
          2,
          1,
          1.4285714285714286,
          0.65,
          1.181818181818182,
          0.1,
          1.2058823529411764,
          1.2058823529411764,
          0.1666666666666666,
          1.2953623212892798,
          1.4864864864864864,
          3.108108108108108,
          1.864044350580781,
          1.1199787648203858,
          1.05751352813853,
          0,
          0.6293233932000452,
          1.0800000000000003,
          1.200005720169317,
          1.134170762789004
         ],
         "yaxis": "y"
        },
        {
         "connectgaps": false,
         "hovertemplate": "fnid=AF2017A120<br>indicator=production<br>year=%{x}<br>value=%{y}<extra></extra>",
         "legendgroup": "AF2017A120",
         "line": {
          "color": "#FF97FF",
          "dash": "solid"
         },
         "marker": {
          "symbol": "circle"
         },
         "mode": "markers+lines",
         "name": "AF2017A120",
         "showlegend": true,
         "type": "scattergl",
         "x": [
          2002,
          2003,
          2004,
          2005,
          2006,
          2007,
          2008,
          2009,
          2010,
          2011,
          2012,
          2013,
          2014,
          2015,
          2016,
          2017,
          2018,
          2019,
          2020,
          2021,
          2022
         ],
         "xaxis": "x3",
         "y": [
          90000,
          112000,
          60000,
          133000,
          60000,
          137000,
          23000,
          137000,
          130000,
          47000,
          160000,
          152000,
          110000,
          128820,
          88200,
          40824.9,
          5074,
          57309,
          67919.31,
          1847,
          3296
         ],
         "yaxis": "y3"
        },
        {
         "connectgaps": false,
         "hovertemplate": "fnid=AF2017A120<br>indicator=area<br>year=%{x}<br>value=%{y}<extra></extra>",
         "legendgroup": "AF2017A120",
         "line": {
          "color": "#FF97FF",
          "dash": "solid"
         },
         "marker": {
          "symbol": "circle"
         },
         "mode": "markers+lines",
         "name": "AF2017A120",
         "showlegend": false,
         "type": "scattergl",
         "x": [
          2002,
          2003,
          2004,
          2005,
          2006,
          2007,
          2008,
          2009,
          2010,
          2011,
          2012,
          2013,
          2014,
          2015,
          2016,
          2017,
          2018,
          2019,
          2020,
          2021,
          2022
         ],
         "xaxis": "x2",
         "y": [
          129000,
          134000,
          110000,
          127000,
          127000,
          130000,
          111000,
          130000,
          138000,
          124000,
          123130.5,
          125000,
          110000,
          115000,
          98000,
          45361,
          20296,
          73691,
          75465.9,
          2639,
          11266
         ],
         "yaxis": "y2"
        },
        {
         "connectgaps": false,
         "hovertemplate": "fnid=AF2017A120<br>indicator=yield<br>year=%{x}<br>value=%{y}<extra></extra>",
         "legendgroup": "AF2017A120",
         "line": {
          "color": "#FF97FF",
          "dash": "solid"
         },
         "marker": {
          "symbol": "circle"
         },
         "mode": "markers+lines",
         "name": "AF2017A120",
         "showlegend": false,
         "type": "scattergl",
         "x": [
          2002,
          2003,
          2004,
          2005,
          2006,
          2007,
          2008,
          2009,
          2010,
          2011,
          2012,
          2013,
          2014,
          2015,
          2016,
          2017,
          2018,
          2019,
          2020,
          2021,
          2022
         ],
         "xaxis": "x",
         "y": [
          0.6976744186046512,
          0.835820895522388,
          0.5454545454545454,
          1.047244094488189,
          0.4724409448818897,
          1.053846153846154,
          0.2072072072072072,
          1.053846153846154,
          0.9420289855072465,
          0.3790322580645161,
          1.2994343399888737,
          1.216,
          1,
          1.1201739130434782,
          0.9,
          0.9,
          0.25,
          0.7776933411135688,
          0.9,
          0.6998863205759758,
          0.2925616900408308
         ],
         "yaxis": "y"
        },
        {
         "connectgaps": false,
         "hovertemplate": "fnid=AF2017A121<br>indicator=production<br>year=%{x}<br>value=%{y}<extra></extra>",
         "legendgroup": "AF2017A121",
         "line": {
          "color": "#FECB52",
          "dash": "solid"
         },
         "marker": {
          "symbol": "circle"
         },
         "mode": "markers+lines",
         "name": "AF2017A121",
         "showlegend": true,
         "type": "scattergl",
         "x": [
          2002,
          2003,
          2004,
          2005,
          2006,
          2007,
          2008,
          2009,
          2010,
          2011,
          2012,
          2013,
          2014,
          2015,
          2016,
          2017,
          2018,
          2019,
          2020,
          2021,
          2022
         ],
         "xaxis": "x3",
         "y": [
          28000,
          160000,
          25000,
          162000,
          72000,
          168000,
          26000,
          163000,
          146000,
          0,
          177000,
          186000,
          165000,
          95420,
          60870,
          9801.75,
          0,
          52916,
          27110.413302010493,
          20812,
          25575
         ],
         "yaxis": "y3"
        },
        {
         "connectgaps": false,
         "hovertemplate": "fnid=AF2017A121<br>indicator=area<br>year=%{x}<br>value=%{y}<extra></extra>",
         "legendgroup": "AF2017A121",
         "line": {
          "color": "#FECB52",
          "dash": "solid"
         },
         "marker": {
          "symbol": "circle"
         },
         "mode": "markers+lines",
         "name": "AF2017A121",
         "showlegend": false,
         "type": "scattergl",
         "x": [
          2002,
          2003,
          2004,
          2005,
          2006,
          2007,
          2008,
          2009,
          2010,
          2011,
          2012,
          2013,
          2014,
          2015,
          2016,
          2017,
          2018,
          2019,
          2020,
          2021,
          2022
         ],
         "xaxis": "x2",
         "y": [
          40000,
          172000,
          60000,
          154000,
          154000,
          160000,
          125000,
          155000,
          146000,
          102000,
          117829.3,
          118000,
          118000,
          75000,
          98180,
          13069,
          9401,
          76403,
          34557.3,
          29731,
          44208
         ],
         "yaxis": "y2"
        },
        {
         "connectgaps": false,
         "hovertemplate": "fnid=AF2017A121<br>indicator=yield<br>year=%{x}<br>value=%{y}<extra></extra>",
         "legendgroup": "AF2017A121",
         "line": {
          "color": "#FECB52",
          "dash": "solid"
         },
         "marker": {
          "symbol": "circle"
         },
         "mode": "markers+lines",
         "name": "AF2017A121",
         "showlegend": false,
         "type": "scattergl",
         "x": [
          2002,
          2003,
          2004,
          2005,
          2006,
          2007,
          2008,
          2009,
          2010,
          2011,
          2012,
          2013,
          2014,
          2015,
          2016,
          2017,
          2018,
          2019,
          2020,
          2021,
          2022
         ],
         "xaxis": "x",
         "y": [
          0.7,
          0.9302325581395348,
          0.4166666666666667,
          1.051948051948052,
          0.4675324675324675,
          1.05,
          0.208,
          1.0516129032258064,
          1,
          0,
          1.5021730588232298,
          1.576271186440678,
          1.3983050847457628,
          1.2722666666666669,
          0.6199837034019149,
          0.75,
          0,
          0.6925906050809523,
          0.7845061188811189,
          0.7000100904779523,
          0.5785152008686211
         ],
         "yaxis": "y"
        },
        {
         "connectgaps": false,
         "hovertemplate": "fnid=AF2017A122<br>indicator=production<br>year=%{x}<br>value=%{y}<extra></extra>",
         "legendgroup": "AF2017A122",
         "line": {
          "color": "#636efa",
          "dash": "solid"
         },
         "marker": {
          "symbol": "circle"
         },
         "mode": "markers+lines",
         "name": "AF2017A122",
         "showlegend": true,
         "type": "scattergl",
         "x": [
          2002,
          2003,
          2004,
          2005,
          2006,
          2007,
          2008,
          2009,
          2010,
          2011,
          2012,
          2013,
          2014,
          2015,
          2016,
          2017,
          2018,
          2019,
          2020,
          2021,
          2022
         ],
         "xaxis": "x3",
         "y": [
          3000,
          103000,
          20000,
          138000,
          55000,
          132000,
          21000,
          122000,
          106000,
          0,
          85000,
          107000,
          105000,
          38800,
          37420,
          19266,
          6852,
          112250,
          130003.70580255684,
          22117,
          4559
         ],
         "yaxis": "y3"
        },
        {
         "connectgaps": false,
         "hovertemplate": "fnid=AF2017A122<br>indicator=area<br>year=%{x}<br>value=%{y}<extra></extra>",
         "legendgroup": "AF2017A122",
         "line": {
          "color": "#636efa",
          "dash": "solid"
         },
         "marker": {
          "symbol": "circle"
         },
         "mode": "markers+lines",
         "name": "AF2017A122",
         "showlegend": false,
         "type": "scattergl",
         "x": [
          2002,
          2003,
          2004,
          2005,
          2006,
          2007,
          2008,
          2009,
          2010,
          2011,
          2012,
          2013,
          2014,
          2015,
          2016,
          2017,
          2018,
          2019,
          2020,
          2021,
          2022
         ],
         "xaxis": "x2",
         "y": [
          10000,
          114000,
          40000,
          115000,
          115000,
          120000,
          106000,
          120000,
          106000,
          74000,
          71200.2,
          72000,
          70000,
          30700,
          34020,
          25688,
          23493,
          167747,
          137775.6,
          36861,
          45587
         ],
         "yaxis": "y2"
        },
        {
         "connectgaps": false,
         "hovertemplate": "fnid=AF2017A122<br>indicator=yield<br>year=%{x}<br>value=%{y}<extra></extra>",
         "legendgroup": "AF2017A122",
         "line": {
          "color": "#636efa",
          "dash": "solid"
         },
         "marker": {
          "symbol": "circle"
         },
         "mode": "markers+lines",
         "name": "AF2017A122",
         "showlegend": false,
         "type": "scattergl",
         "x": [
          2002,
          2003,
          2004,
          2005,
          2006,
          2007,
          2008,
          2009,
          2010,
          2011,
          2012,
          2013,
          2014,
          2015,
          2016,
          2017,
          2018,
          2019,
          2020,
          2021,
          2022
         ],
         "xaxis": "x",
         "y": [
          0.3,
          0.9035087719298246,
          0.5,
          1.2,
          0.4782608695652174,
          1.1,
          0.1981132075471698,
          1.0166666666666666,
          1,
          0,
          1.1938168713009234,
          1.4861111111111112,
          1.5,
          1.263843648208469,
          1.099941211052322,
          0.75,
          0.291661345932831,
          0.6691624887479358,
          0.9435901988636364,
          0.6000108515775481,
          0.1000065808234803
         ],
         "yaxis": "y"
        },
        {
         "connectgaps": false,
         "hovertemplate": "fnid=AF2017A123<br>indicator=production<br>year=%{x}<br>value=%{y}<extra></extra>",
         "legendgroup": "AF2017A123",
         "line": {
          "color": "#EF553B",
          "dash": "solid"
         },
         "marker": {
          "symbol": "circle"
         },
         "mode": "markers+lines",
         "name": "AF2017A123",
         "showlegend": true,
         "type": "scattergl",
         "x": [
          2002,
          2003,
          2004,
          2005,
          2006,
          2007,
          2008,
          2009,
          2010,
          2011,
          2012,
          2013,
          2014,
          2015,
          2016,
          2017,
          2018,
          2019,
          2020,
          2021,
          2022
         ],
         "xaxis": "x3",
         "y": [
          4000,
          14000,
          3000,
          34000,
          27000,
          35000,
          6000,
          68000,
          47000,
          13000,
          42000,
          14000,
          80000,
          67500,
          3560,
          776.58,
          805,
          2751,
          1127.25,
          0,
          0
         ],
         "yaxis": "y3"
        },
        {
         "connectgaps": false,
         "hovertemplate": "fnid=AF2017A123<br>indicator=area<br>year=%{x}<br>value=%{y}<extra></extra>",
         "legendgroup": "AF2017A123",
         "line": {
          "color": "#EF553B",
          "dash": "solid"
         },
         "marker": {
          "symbol": "circle"
         },
         "mode": "markers+lines",
         "name": "AF2017A123",
         "showlegend": false,
         "type": "scattergl",
         "x": [
          2002,
          2003,
          2004,
          2005,
          2006,
          2007,
          2008,
          2009,
          2010,
          2011,
          2012,
          2013,
          2014,
          2015,
          2016,
          2017,
          2018,
          2019,
          2020,
          2021,
          2022
         ],
         "xaxis": "x2",
         "y": [
          5000,
          35000,
          20000,
          39000,
          39000,
          40000,
          29000,
          44000,
          45000,
          23000,
          41674.5,
          49000,
          67000,
          67500,
          8200,
          1806,
          1610,
          3574,
          2254.5,
          0,
          0
         ],
         "yaxis": "y2"
        },
        {
         "connectgaps": false,
         "hovertemplate": "fnid=AF2017A123<br>indicator=yield<br>year=%{x}<br>value=%{y}<extra></extra>",
         "legendgroup": "AF2017A123",
         "line": {
          "color": "#EF553B",
          "dash": "solid"
         },
         "marker": {
          "symbol": "circle"
         },
         "mode": "markers+lines",
         "name": "AF2017A123",
         "showlegend": false,
         "type": "scattergl",
         "x": [
          2002,
          2003,
          2004,
          2005,
          2006,
          2007,
          2008,
          2009,
          2010,
          2011,
          2012,
          2013,
          2014,
          2015,
          2016,
          2017,
          2018,
          2019,
          2020,
          2021,
          2022
         ],
         "xaxis": "x",
         "y": [
          0.8,
          0.4,
          0.15,
          0.8717948717948718,
          0.6923076923076923,
          0.875,
          0.2068965517241379,
          1.5454545454545454,
          1.0444444444444445,
          0.5652173913043478,
          1.0078105316200554,
          0.2857142857142857,
          1.1940298507462686,
          1,
          0.4341463414634146,
          0.43,
          0.5,
          0.7697257974258533,
          0.5,
          0,
          0
         ],
         "yaxis": "y"
        },
        {
         "connectgaps": false,
         "hovertemplate": "fnid=AF2017A124<br>indicator=production<br>year=%{x}<br>value=%{y}<extra></extra>",
         "legendgroup": "AF2017A124",
         "line": {
          "color": "#00cc96",
          "dash": "solid"
         },
         "marker": {
          "symbol": "circle"
         },
         "mode": "markers+lines",
         "name": "AF2017A124",
         "showlegend": true,
         "type": "scattergl",
         "x": [
          2002,
          2003,
          2004,
          2005,
          2006,
          2007,
          2008,
          2009,
          2010,
          2011,
          2012,
          2013,
          2014,
          2015,
          2016,
          2017,
          2018,
          2019,
          2020,
          2021,
          2022
         ],
         "xaxis": "x3",
         "y": [
          0,
          0,
          0,
          0,
          4000,
          9000,
          1000,
          4000,
          4000,
          2000,
          6000,
          3000,
          4000,
          850,
          420,
          178.20000000000002,
          288,
          134,
          325.026,
          0,
          0
         ],
         "yaxis": "y3"
        },
        {
         "connectgaps": false,
         "hovertemplate": "fnid=AF2017A124<br>indicator=area<br>year=%{x}<br>value=%{y}<extra></extra>",
         "legendgroup": "AF2017A124",
         "line": {
          "color": "#00cc96",
          "dash": "solid"
         },
         "marker": {
          "symbol": "circle"
         },
         "mode": "markers+lines",
         "name": "AF2017A124",
         "showlegend": false,
         "type": "scattergl",
         "x": [
          2002,
          2003,
          2004,
          2005,
          2006,
          2007,
          2008,
          2009,
          2010,
          2011,
          2012,
          2013,
          2014,
          2015,
          2016,
          2017,
          2018,
          2019,
          2020,
          2021,
          2022
         ],
         "xaxis": "x2",
         "y": [
          0,
          0,
          0,
          0,
          8000,
          10000,
          6000,
          5000,
          5000,
          5000,
          7128.75,
          7000,
          2000,
          2370,
          460,
          198,
          274,
          171,
          416.7,
          0,
          0
         ],
         "yaxis": "y2"
        },
        {
         "connectgaps": false,
         "hovertemplate": "fnid=AF2017A124<br>indicator=yield<br>year=%{x}<br>value=%{y}<extra></extra>",
         "legendgroup": "AF2017A124",
         "line": {
          "color": "#00cc96",
          "dash": "solid"
         },
         "marker": {
          "symbol": "circle"
         },
         "mode": "markers+lines",
         "name": "AF2017A124",
         "showlegend": false,
         "type": "scattergl",
         "x": [
          2002,
          2003,
          2004,
          2005,
          2006,
          2007,
          2008,
          2009,
          2010,
          2011,
          2012,
          2013,
          2014,
          2015,
          2016,
          2017,
          2018,
          2019,
          2020,
          2021,
          2022
         ],
         "xaxis": "x",
         "y": [
          0,
          0,
          0,
          0,
          0.5,
          0.9,
          0.1666666666666666,
          0.8,
          0.8,
          0.4,
          0.8416622830089426,
          0.4285714285714285,
          2,
          0.3586497890295358,
          0.9130434782608696,
          0.9000000000000001,
          1.051094890510949,
          0.783625730994152,
          0.78,
          0,
          0
         ],
         "yaxis": "y"
        },
        {
         "connectgaps": false,
         "hovertemplate": "fnid=AF2017A125<br>indicator=production<br>year=%{x}<br>value=%{y}<extra></extra>",
         "legendgroup": "AF2017A125",
         "line": {
          "color": "#ab63fa",
          "dash": "solid"
         },
         "marker": {
          "symbol": "circle"
         },
         "mode": "markers+lines",
         "name": "AF2017A125",
         "showlegend": true,
         "type": "scattergl",
         "x": [
          2002,
          2003,
          2004,
          2005,
          2006,
          2007,
          2008,
          2009,
          2010,
          2011,
          2012,
          2013,
          2014,
          2015,
          2016,
          2017,
          2018,
          2019,
          2020,
          2021,
          2022
         ],
         "xaxis": "x3",
         "y": [
          16000,
          0,
          2000,
          0,
          1000,
          2000,
          0,
          2000,
          1000,
          1000,
          2000,
          1000,
          77000,
          0,
          0,
          210,
          0,
          1132,
          343.53000000000003,
          190,
          134
         ],
         "yaxis": "y3"
        },
        {
         "connectgaps": false,
         "hovertemplate": "fnid=AF2017A125<br>indicator=area<br>year=%{x}<br>value=%{y}<extra></extra>",
         "legendgroup": "AF2017A125",
         "line": {
          "color": "#ab63fa",
          "dash": "solid"
         },
         "marker": {
          "symbol": "circle"
         },
         "mode": "markers+lines",
         "name": "AF2017A125",
         "showlegend": false,
         "type": "scattergl",
         "x": [
          2002,
          2003,
          2004,
          2005,
          2006,
          2007,
          2008,
          2009,
          2010,
          2011,
          2012,
          2013,
          2014,
          2015,
          2016,
          2017,
          2018,
          2019,
          2020,
          2021,
          2022
         ],
         "xaxis": "x2",
         "y": [
          20000,
          1000,
          10000,
          0,
          2000,
          2000,
          1000,
          2000,
          2000,
          2000,
          2000,
          2000,
          51000,
          0,
          0,
          420,
          68,
          498,
          312.3,
          190,
          111
         ],
         "yaxis": "y2"
        },
        {
         "connectgaps": false,
         "hovertemplate": "fnid=AF2017A125<br>indicator=yield<br>year=%{x}<br>value=%{y}<extra></extra>",
         "legendgroup": "AF2017A125",
         "line": {
          "color": "#ab63fa",
          "dash": "solid"
         },
         "marker": {
          "symbol": "circle"
         },
         "mode": "markers+lines",
         "name": "AF2017A125",
         "showlegend": false,
         "type": "scattergl",
         "x": [
          2002,
          2003,
          2004,
          2005,
          2006,
          2007,
          2008,
          2009,
          2010,
          2011,
          2012,
          2013,
          2014,
          2015,
          2016,
          2017,
          2018,
          2019,
          2020,
          2021,
          2022
         ],
         "xaxis": "x",
         "y": [
          0.8,
          0,
          0.2,
          0,
          0.5,
          1,
          0,
          1,
          0.5,
          0.5,
          1,
          0.5,
          1.5098039215686274,
          0,
          0,
          0.5,
          0,
          2.2730923694779115,
          1.1,
          1,
          1.207207207207207
         ],
         "yaxis": "y"
        },
        {
         "connectgaps": false,
         "hovertemplate": "fnid=AF2017A126<br>indicator=production<br>year=%{x}<br>value=%{y}<extra></extra>",
         "legendgroup": "AF2017A126",
         "line": {
          "color": "#FFA15A",
          "dash": "solid"
         },
         "marker": {
          "symbol": "circle"
         },
         "mode": "markers+lines",
         "name": "AF2017A126",
         "showlegend": true,
         "type": "scattergl",
         "x": [
          2002,
          2003,
          2004,
          2005,
          2006,
          2007,
          2008,
          2009,
          2010,
          2011,
          2012,
          2013,
          2014,
          2015,
          2016,
          2017,
          2018,
          2019,
          2020,
          2021,
          2022
         ],
         "xaxis": "x3",
         "y": [
          0,
          0,
          0,
          0,
          0,
          1000,
          0,
          9000,
          5000,
          3000,
          4000,
          3000,
          3000,
          2300,
          1210,
          87.36,
          0,
          3167,
          2619.9,
          419,
          92
         ],
         "yaxis": "y3"
        },
        {
         "connectgaps": false,
         "hovertemplate": "fnid=AF2017A126<br>indicator=area<br>year=%{x}<br>value=%{y}<extra></extra>",
         "legendgroup": "AF2017A126",
         "line": {
          "color": "#FFA15A",
          "dash": "solid"
         },
         "marker": {
          "symbol": "circle"
         },
         "mode": "markers+lines",
         "name": "AF2017A126",
         "showlegend": false,
         "type": "scattergl",
         "x": [
          2002,
          2003,
          2004,
          2005,
          2006,
          2007,
          2008,
          2009,
          2010,
          2011,
          2012,
          2013,
          2014,
          2015,
          2016,
          2017,
          2018,
          2019,
          2020,
          2021,
          2022
         ],
         "xaxis": "x2",
         "y": [
          0,
          0,
          0,
          0,
          1000,
          1000,
          1000,
          9000,
          5000,
          5000,
          5773.25,
          3000,
          2000,
          2000,
          720,
          52,
          271,
          2894,
          2619.9,
          419,
          77
         ],
         "yaxis": "y2"
        },
        {
         "connectgaps": false,
         "hovertemplate": "fnid=AF2017A126<br>indicator=yield<br>year=%{x}<br>value=%{y}<extra></extra>",
         "legendgroup": "AF2017A126",
         "line": {
          "color": "#FFA15A",
          "dash": "solid"
         },
         "marker": {
          "symbol": "circle"
         },
         "mode": "markers+lines",
         "name": "AF2017A126",
         "showlegend": false,
         "type": "scattergl",
         "x": [
          2002,
          2003,
          2004,
          2005,
          2006,
          2007,
          2008,
          2009,
          2010,
          2011,
          2012,
          2013,
          2014,
          2015,
          2016,
          2017,
          2018,
          2019,
          2020,
          2021,
          2022
         ],
         "xaxis": "x",
         "y": [
          0,
          0,
          0,
          0,
          0,
          1,
          0,
          1,
          1,
          0.6,
          0.6928506473823236,
          1,
          1.5,
          1.15,
          1.6805555555555556,
          1.68,
          0,
          1.0943331029716654,
          1,
          1,
          1.1948051948051948
         ],
         "yaxis": "y"
        },
        {
         "connectgaps": false,
         "hovertemplate": "fnid=AF2017A127<br>indicator=production<br>year=%{x}<br>value=%{y}<extra></extra>",
         "legendgroup": "AF2017A127",
         "line": {
          "color": "#19d3f3",
          "dash": "solid"
         },
         "marker": {
          "symbol": "circle"
         },
         "mode": "markers+lines",
         "name": "AF2017A127",
         "showlegend": true,
         "type": "scattergl",
         "x": [
          2002,
          2003,
          2004,
          2005,
          2006,
          2007,
          2008,
          2009,
          2010,
          2011,
          2012,
          2013,
          2014,
          2015,
          2016,
          2017,
          2018,
          2019,
          2020,
          2021,
          2022
         ],
         "xaxis": "x3",
         "y": [
          0,
          0,
          0,
          0,
          500,
          500,
          0,
          4000,
          1500,
          500,
          2500,
          5500,
          12500,
          6420,
          5090,
          2301.1199999999994,
          0,
          14807.5,
          6007.851,
          0,
          0
         ],
         "yaxis": "y3"
        },
        {
         "connectgaps": false,
         "hovertemplate": "fnid=AF2017A127<br>indicator=area<br>year=%{x}<br>value=%{y}<extra></extra>",
         "legendgroup": "AF2017A127",
         "line": {
          "color": "#19d3f3",
          "dash": "solid"
         },
         "marker": {
          "symbol": "circle"
         },
         "mode": "markers+lines",
         "name": "AF2017A127",
         "showlegend": false,
         "type": "scattergl",
         "x": [
          2002,
          2003,
          2004,
          2005,
          2006,
          2007,
          2008,
          2009,
          2010,
          2011,
          2012,
          2013,
          2014,
          2015,
          2016,
          2017,
          2018,
          2019,
          2020,
          2021,
          2022
         ],
         "xaxis": "x2",
         "y": [
          0,
          1000,
          0,
          0,
          1000,
          500,
          500,
          4000,
          3500,
          2000,
          3449.425,
          5500,
          7000,
          2750,
          3600,
          1632,
          1429.5,
          7400.5,
          5890.05,
          0,
          0
         ],
         "yaxis": "y2"
        },
        {
         "connectgaps": false,
         "hovertemplate": "fnid=AF2017A127<br>indicator=yield<br>year=%{x}<br>value=%{y}<extra></extra>",
         "legendgroup": "AF2017A127",
         "line": {
          "color": "#19d3f3",
          "dash": "solid"
         },
         "marker": {
          "symbol": "circle"
         },
         "mode": "markers+lines",
         "name": "AF2017A127",
         "showlegend": false,
         "type": "scattergl",
         "x": [
          2002,
          2003,
          2004,
          2005,
          2006,
          2007,
          2008,
          2009,
          2010,
          2011,
          2012,
          2013,
          2014,
          2015,
          2016,
          2017,
          2018,
          2019,
          2020,
          2021,
          2022
         ],
         "xaxis": "x",
         "y": [
          0,
          0,
          0,
          0,
          0.25,
          0.5,
          0,
          1,
          0.25,
          0.16666666666666666,
          0.8895996736570804,
          1,
          1.875,
          1.1672727272727272,
          0.7069444444444445,
          0.7049999999999998,
          0,
          1.000439159516249,
          0.51,
          0,
          0
         ],
         "yaxis": "y"
        },
        {
         "connectgaps": false,
         "hovertemplate": "fnid=AF2017A128<br>indicator=production<br>year=%{x}<br>value=%{y}<extra></extra>",
         "legendgroup": "AF2017A128",
         "line": {
          "color": "#FF6692",
          "dash": "solid"
         },
         "marker": {
          "symbol": "circle"
         },
         "mode": "markers+lines",
         "name": "AF2017A128",
         "showlegend": true,
         "type": "scattergl",
         "x": [
          2002,
          2003,
          2004,
          2005,
          2006,
          2007,
          2008,
          2009,
          2010,
          2011,
          2012,
          2013,
          2014,
          2015,
          2016,
          2017,
          2018,
          2019,
          2020,
          2021,
          2022
         ],
         "xaxis": "x3",
         "y": [
          3000,
          88000,
          10000,
          105000,
          42000,
          121000,
          11000,
          143000,
          136000,
          53000,
          187000,
          95000,
          90000,
          31390,
          12120,
          3611.782296401515,
          378,
          47501,
          55646.17597219966,
          11021,
          7941
         ],
         "yaxis": "y3"
        },
        {
         "connectgaps": false,
         "hovertemplate": "fnid=AF2017A128<br>indicator=area<br>year=%{x}<br>value=%{y}<extra></extra>",
         "legendgroup": "AF2017A128",
         "line": {
          "color": "#FF6692",
          "dash": "solid"
         },
         "marker": {
          "symbol": "circle"
         },
         "mode": "markers+lines",
         "name": "AF2017A128",
         "showlegend": false,
         "type": "scattergl",
         "x": [
          2002,
          2003,
          2004,
          2005,
          2006,
          2007,
          2008,
          2009,
          2010,
          2011,
          2012,
          2013,
          2014,
          2015,
          2016,
          2017,
          2018,
          2019,
          2020,
          2021,
          2022
         ],
         "xaxis": "x2",
         "y": [
          10000,
          86000,
          10000,
          95000,
          95000,
          110000,
          72000,
          110000,
          102000,
          79000,
          133691.40000000002,
          136000,
          100000,
          17240,
          18000,
          5819.5,
          2720,
          34571,
          41564.7,
          13776,
          41075
         ],
         "yaxis": "y2"
        },
        {
         "connectgaps": false,
         "hovertemplate": "fnid=AF2017A128<br>indicator=yield<br>year=%{x}<br>value=%{y}<extra></extra>",
         "legendgroup": "AF2017A128",
         "line": {
          "color": "#FF6692",
          "dash": "solid"
         },
         "marker": {
          "symbol": "circle"
         },
         "mode": "markers+lines",
         "name": "AF2017A128",
         "showlegend": false,
         "type": "scattergl",
         "x": [
          2002,
          2003,
          2004,
          2005,
          2006,
          2007,
          2008,
          2009,
          2010,
          2011,
          2012,
          2013,
          2014,
          2015,
          2016,
          2017,
          2018,
          2019,
          2020,
          2021,
          2022
         ],
         "xaxis": "x",
         "y": [
          0.3,
          1.0232558139534884,
          1,
          1.105263157894737,
          0.4421052631578947,
          1.1,
          0.1527777777777778,
          1.3,
          1.3333333333333333,
          0.6708860759493671,
          1.3987436738638384,
          0.6985294117647058,
          0.9,
          1.8207656612529,
          0.6733333333333333,
          0.6206344696969697,
          0.1389705882352941,
          1.374012900986376,
          1.3387844967532463,
          0.8000145180023229,
          0.1933292757151552
         ],
         "yaxis": "y"
        },
        {
         "connectgaps": false,
         "hovertemplate": "fnid=AF2017A129<br>indicator=production<br>year=%{x}<br>value=%{y}<extra></extra>",
         "legendgroup": "AF2017A129",
         "line": {
          "color": "#B6E880",
          "dash": "solid"
         },
         "marker": {
          "symbol": "circle"
         },
         "mode": "markers+lines",
         "name": "AF2017A129",
         "showlegend": true,
         "type": "scattergl",
         "x": [
          2002,
          2003,
          2004,
          2005,
          2006,
          2007,
          2008,
          2009,
          2010,
          2011,
          2012,
          2013,
          2014,
          2015,
          2016,
          2017,
          2018,
          2019,
          2020,
          2021,
          2022
         ],
         "xaxis": "x3",
         "y": [
          56000,
          146000,
          30000,
          239000,
          108000,
          228000,
          27000,
          247000,
          225000,
          41000,
          241000,
          103000,
          91000,
          68940,
          133760,
          145528.80000000002,
          50204,
          75552,
          110842.992,
          62000,
          120000
         ],
         "yaxis": "y3"
        },
        {
         "connectgaps": false,
         "hovertemplate": "fnid=AF2017A129<br>indicator=area<br>year=%{x}<br>value=%{y}<extra></extra>",
         "legendgroup": "AF2017A129",
         "line": {
          "color": "#B6E880",
          "dash": "solid"
         },
         "marker": {
          "symbol": "circle"
         },
         "mode": "markers+lines",
         "name": "AF2017A129",
         "showlegend": false,
         "type": "scattergl",
         "x": [
          2002,
          2003,
          2004,
          2005,
          2006,
          2007,
          2008,
          2009,
          2010,
          2011,
          2012,
          2013,
          2014,
          2015,
          2016,
          2017,
          2018,
          2019,
          2020,
          2021,
          2022
         ],
         "xaxis": "x2",
         "y": [
          80000,
          164000,
          90000,
          180000,
          180000,
          190000,
          171000,
          190000,
          183000,
          165000,
          171910.2,
          172000,
          152000,
          50520,
          92000,
          181911,
          50204,
          79285,
          108669.6,
          68373,
          98361
         ],
         "yaxis": "y2"
        },
        {
         "connectgaps": false,
         "hovertemplate": "fnid=AF2017A129<br>indicator=yield<br>year=%{x}<br>value=%{y}<extra></extra>",
         "legendgroup": "AF2017A129",
         "line": {
          "color": "#B6E880",
          "dash": "solid"
         },
         "marker": {
          "symbol": "circle"
         },
         "mode": "markers+lines",
         "name": "AF2017A129",
         "showlegend": false,
         "type": "scattergl",
         "x": [
          2002,
          2003,
          2004,
          2005,
          2006,
          2007,
          2008,
          2009,
          2010,
          2011,
          2012,
          2013,
          2014,
          2015,
          2016,
          2017,
          2018,
          2019,
          2020,
          2021,
          2022
         ],
         "xaxis": "x",
         "y": [
          0.7,
          0.8902439024390244,
          0.3333333333333333,
          1.3277777777777775,
          0.6,
          1.2,
          0.1578947368421052,
          1.3,
          1.2295081967213115,
          0.2484848484848484,
          1.4018947101451804,
          0.5988372093023255,
          0.5986842105263158,
          1.3646080760095012,
          1.4539130434782608,
          0.8,
          1,
          0.9529166929431796,
          1.02,
          0.906790692232314,
          1.2199957300149449
         ],
         "yaxis": "y"
        },
        {
         "connectgaps": false,
         "hovertemplate": "fnid=AF2017A130<br>indicator=production<br>year=%{x}<br>value=%{y}<extra></extra>",
         "legendgroup": "AF2017A130",
         "line": {
          "color": "#FF97FF",
          "dash": "solid"
         },
         "marker": {
          "symbol": "circle"
         },
         "mode": "markers+lines",
         "name": "AF2017A130",
         "showlegend": true,
         "type": "scattergl",
         "x": [
          2002,
          2003,
          2004,
          2005,
          2006,
          2007,
          2008,
          2009,
          2010,
          2011,
          2012,
          2013,
          2014,
          2015,
          2016,
          2017,
          2018,
          2019,
          2020,
          2021,
          2022
         ],
         "xaxis": "x3",
         "y": [
          0,
          0,
          0,
          0,
          0,
          0,
          0,
          0,
          0,
          0,
          0,
          0,
          0,
          0,
          0,
          0,
          0,
          0,
          0,
          0,
          0
         ],
         "yaxis": "y3"
        },
        {
         "connectgaps": false,
         "hovertemplate": "fnid=AF2017A130<br>indicator=area<br>year=%{x}<br>value=%{y}<extra></extra>",
         "legendgroup": "AF2017A130",
         "line": {
          "color": "#FF97FF",
          "dash": "solid"
         },
         "marker": {
          "symbol": "circle"
         },
         "mode": "markers+lines",
         "name": "AF2017A130",
         "showlegend": false,
         "type": "scattergl",
         "x": [
          2002,
          2003,
          2004,
          2005,
          2006,
          2007,
          2008,
          2009,
          2010,
          2011,
          2012,
          2013,
          2014,
          2015,
          2016,
          2017,
          2018,
          2019,
          2020,
          2021,
          2022
         ],
         "xaxis": "x2",
         "y": [
          0,
          0,
          0,
          0,
          0,
          0,
          0,
          0,
          0,
          0,
          0,
          0,
          0,
          0,
          0,
          0,
          0,
          0,
          0,
          0,
          0
         ],
         "yaxis": "y2"
        },
        {
         "connectgaps": false,
         "hovertemplate": "fnid=AF2017A130<br>indicator=yield<br>year=%{x}<br>value=%{y}<extra></extra>",
         "legendgroup": "AF2017A130",
         "line": {
          "color": "#FF97FF",
          "dash": "solid"
         },
         "marker": {
          "symbol": "circle"
         },
         "mode": "markers+lines",
         "name": "AF2017A130",
         "showlegend": false,
         "type": "scattergl",
         "x": [
          2002,
          2003,
          2004,
          2005,
          2006,
          2007,
          2008,
          2009,
          2010,
          2011,
          2012,
          2013,
          2014,
          2015,
          2016,
          2017,
          2018,
          2019,
          2020,
          2021,
          2022
         ],
         "xaxis": "x",
         "y": [
          0,
          0,
          0,
          0,
          0,
          0,
          0,
          0,
          0,
          0,
          0,
          0,
          0,
          0,
          0,
          0,
          0,
          0,
          0,
          0,
          0
         ],
         "yaxis": "y"
        },
        {
         "connectgaps": false,
         "hovertemplate": "fnid=AF2017A131<br>indicator=production<br>year=%{x}<br>value=%{y}<extra></extra>",
         "legendgroup": "AF2017A131",
         "line": {
          "color": "#FECB52",
          "dash": "solid"
         },
         "marker": {
          "symbol": "circle"
         },
         "mode": "markers+lines",
         "name": "AF2017A131",
         "showlegend": true,
         "type": "scattergl",
         "x": [
          2002,
          2003,
          2004,
          2005,
          2006,
          2007,
          2008,
          2009,
          2010,
          2011,
          2012,
          2013,
          2014,
          2015,
          2016,
          2017,
          2018,
          2019,
          2020,
          2021,
          2022
         ],
         "xaxis": "x3",
         "y": [
          80000,
          122000,
          32000,
          133000,
          80000,
          130000,
          23000,
          126000,
          73000,
          29000,
          95000,
          98000,
          49000,
          49610,
          57350,
          53984.5335585474,
          0,
          94597,
          136618.83000000002,
          51598,
          72346
         ],
         "yaxis": "y3"
        },
        {
         "connectgaps": false,
         "hovertemplate": "fnid=AF2017A131<br>indicator=area<br>year=%{x}<br>value=%{y}<extra></extra>",
         "legendgroup": "AF2017A131",
         "line": {
          "color": "#FECB52",
          "dash": "solid"
         },
         "marker": {
          "symbol": "circle"
         },
         "mode": "markers+lines",
         "name": "AF2017A131",
         "showlegend": false,
         "type": "scattergl",
         "x": [
          2002,
          2003,
          2004,
          2005,
          2006,
          2007,
          2008,
          2009,
          2010,
          2011,
          2012,
          2013,
          2014,
          2015,
          2016,
          2017,
          2018,
          2019,
          2020,
          2021,
          2022
         ],
         "xaxis": "x2",
         "y": [
          80000,
          100000,
          80000,
          100000,
          100000,
          100000,
          74000,
          105000,
          94000,
          75000,
          79000,
          80000,
          61000,
          49170,
          54620,
          95330,
          8705,
          144324,
          164601,
          73712,
          85195
         ],
         "yaxis": "y2"
        },
        {
         "connectgaps": false,
         "hovertemplate": "fnid=AF2017A131<br>indicator=yield<br>year=%{x}<br>value=%{y}<extra></extra>",
         "legendgroup": "AF2017A131",
         "line": {
          "color": "#FECB52",
          "dash": "solid"
         },
         "marker": {
          "symbol": "circle"
         },
         "mode": "markers+lines",
         "name": "AF2017A131",
         "showlegend": false,
         "type": "scattergl",
         "x": [
          2002,
          2003,
          2004,
          2005,
          2006,
          2007,
          2008,
          2009,
          2010,
          2011,
          2012,
          2013,
          2014,
          2015,
          2016,
          2017,
          2018,
          2019,
          2020,
          2021,
          2022
         ],
         "xaxis": "x",
         "y": [
          1,
          1.22,
          0.4,
          1.33,
          0.8,
          1.3,
          0.3108108108108108,
          1.2,
          0.776595744680851,
          0.3866666666666666,
          1.2025316455696202,
          1.225,
          0.8032786885245902,
          1.0089485458612977,
          1.0499816916880265,
          0.5662911314229246,
          0,
          0.6554488511959203,
          0.8300000000000001,
          0.6999945734751465,
          0.8491812899818064
         ],
         "yaxis": "y"
        },
        {
         "connectgaps": false,
         "hovertemplate": "fnid=AF2017A132<br>indicator=production<br>year=%{x}<br>value=%{y}<extra></extra>",
         "legendgroup": "AF2017A132",
         "line": {
          "color": "#636efa",
          "dash": "solid"
         },
         "marker": {
          "symbol": "circle"
         },
         "mode": "markers+lines",
         "name": "AF2017A132",
         "showlegend": true,
         "type": "scattergl",
         "x": [
          2002,
          2003,
          2004,
          2005,
          2006,
          2007,
          2008,
          2009,
          2010,
          2011,
          2012,
          2013,
          2014,
          2015,
          2016,
          2017,
          2018,
          2019,
          2020,
          2021,
          2022
         ],
         "xaxis": "x3",
         "y": [
          54000,
          110000,
          20000,
          135000,
          104000,
          168000,
          37000,
          162000,
          147000,
          44000,
          81000,
          186000,
          76000,
          87200,
          85840,
          61756.8,
          2871,
          122913,
          124640.01000000002,
          118464,
          64830
         ],
         "yaxis": "y3"
        },
        {
         "connectgaps": false,
         "hovertemplate": "fnid=AF2017A132<br>indicator=area<br>year=%{x}<br>value=%{y}<extra></extra>",
         "legendgroup": "AF2017A132",
         "line": {
          "color": "#636efa",
          "dash": "solid"
         },
         "marker": {
          "symbol": "circle"
         },
         "mode": "markers+lines",
         "name": "AF2017A132",
         "showlegend": false,
         "type": "scattergl",
         "x": [
          2002,
          2003,
          2004,
          2005,
          2006,
          2007,
          2008,
          2009,
          2010,
          2011,
          2012,
          2013,
          2014,
          2015,
          2016,
          2017,
          2018,
          2019,
          2020,
          2021,
          2022
         ],
         "xaxis": "x2",
         "y": [
          60000,
          104000,
          60000,
          110000,
          140000,
          140000,
          84000,
          135000,
          132000,
          79000,
          134257.2,
          135000,
          63000,
          63420,
          58000,
          88224,
          16329.999999999998,
          160308,
          113309.1,
          148080,
          121557
         ],
         "yaxis": "y2"
        },
        {
         "connectgaps": false,
         "hovertemplate": "fnid=AF2017A132<br>indicator=yield<br>year=%{x}<br>value=%{y}<extra></extra>",
         "legendgroup": "AF2017A132",
         "line": {
          "color": "#636efa",
          "dash": "solid"
         },
         "marker": {
          "symbol": "circle"
         },
         "mode": "markers+lines",
         "name": "AF2017A132",
         "showlegend": false,
         "type": "scattergl",
         "x": [
          2002,
          2003,
          2004,
          2005,
          2006,
          2007,
          2008,
          2009,
          2010,
          2011,
          2012,
          2013,
          2014,
          2015,
          2016,
          2017,
          2018,
          2019,
          2020,
          2021,
          2022
         ],
         "xaxis": "x",
         "y": [
          0.9,
          1.0576923076923077,
          0.3333333333333333,
          1.2272727272727273,
          0.7428571428571429,
          1.2,
          0.4404761904761904,
          1.2,
          1.1136363636363635,
          0.5569620253164557,
          0.6033195985019797,
          1.3777777777777778,
          1.2063492063492065,
          1.3749605802585936,
          1.48,
          0.7,
          0.1758113900796081,
          0.7667302941836964,
          1.1,
          0.8,
          0.5333300426960191
         ],
         "yaxis": "y"
        },
        {
         "connectgaps": false,
         "hovertemplate": "fnid=AF2017A133<br>indicator=production<br>year=%{x}<br>value=%{y}<extra></extra>",
         "legendgroup": "AF2017A133",
         "line": {
          "color": "#EF553B",
          "dash": "solid"
         },
         "marker": {
          "symbol": "circle"
         },
         "mode": "markers+lines",
         "name": "AF2017A133",
         "showlegend": true,
         "type": "scattergl",
         "x": [
          2002,
          2003,
          2004,
          2005,
          2006,
          2007,
          2008,
          2009,
          2010,
          2011,
          2012,
          2013,
          2014,
          2015,
          2016,
          2017,
          2018,
          2019,
          2020,
          2021,
          2022
         ],
         "xaxis": "x3",
         "y": [
          36000,
          0,
          0,
          0,
          0,
          0,
          0,
          0,
          0,
          0,
          0,
          0,
          0,
          0,
          0,
          0,
          0,
          0,
          0,
          0,
          0
         ],
         "yaxis": "y3"
        },
        {
         "connectgaps": false,
         "hovertemplate": "fnid=AF2017A133<br>indicator=area<br>year=%{x}<br>value=%{y}<extra></extra>",
         "legendgroup": "AF2017A133",
         "line": {
          "color": "#EF553B",
          "dash": "solid"
         },
         "marker": {
          "symbol": "circle"
         },
         "mode": "markers+lines",
         "name": "AF2017A133",
         "showlegend": false,
         "type": "scattergl",
         "x": [
          2002,
          2003,
          2004,
          2005,
          2006,
          2007,
          2008,
          2009,
          2010,
          2011,
          2012,
          2013,
          2014,
          2015,
          2016,
          2017,
          2018,
          2019,
          2020,
          2021,
          2022
         ],
         "xaxis": "x2",
         "y": [
          40000,
          0,
          0,
          0,
          0,
          0,
          0,
          0,
          0,
          0,
          0,
          0,
          0,
          0,
          0,
          0,
          0,
          0,
          0,
          0,
          0
         ],
         "yaxis": "y2"
        },
        {
         "connectgaps": false,
         "hovertemplate": "fnid=AF2017A133<br>indicator=yield<br>year=%{x}<br>value=%{y}<extra></extra>",
         "legendgroup": "AF2017A133",
         "line": {
          "color": "#EF553B",
          "dash": "solid"
         },
         "marker": {
          "symbol": "circle"
         },
         "mode": "markers+lines",
         "name": "AF2017A133",
         "showlegend": false,
         "type": "scattergl",
         "x": [
          2002,
          2003,
          2004,
          2005,
          2006,
          2007,
          2008,
          2009,
          2010,
          2011,
          2012,
          2013,
          2014,
          2015,
          2016,
          2017,
          2018,
          2019,
          2020,
          2021,
          2022
         ],
         "xaxis": "x",
         "y": [
          0.9,
          0,
          0,
          0,
          0,
          0,
          0,
          0,
          0,
          0,
          0,
          0,
          0,
          0,
          0,
          0,
          0,
          0,
          0,
          0,
          0
         ],
         "yaxis": "y"
        },
        {
         "connectgaps": false,
         "hovertemplate": "fnid=AF2017A134<br>indicator=production<br>year=%{x}<br>value=%{y}<extra></extra>",
         "legendgroup": "AF2017A134",
         "line": {
          "color": "#00cc96",
          "dash": "solid"
         },
         "marker": {
          "symbol": "circle"
         },
         "mode": "markers+lines",
         "name": "AF2017A134",
         "showlegend": true,
         "type": "scattergl",
         "x": [
          2002,
          2003,
          2004,
          2005,
          2006,
          2007,
          2008,
          2009,
          2010,
          2011,
          2012,
          2013,
          2014,
          2015,
          2016,
          2017,
          2018,
          2019,
          2020,
          2021,
          2022
         ],
         "xaxis": "x3",
         "y": [
          8000,
          0,
          2000,
          0,
          1000,
          1000,
          0,
          1000,
          0,
          0,
          1000,
          1000,
          0,
          0,
          0,
          0,
          0,
          0,
          0,
          0,
          0
         ],
         "yaxis": "y3"
        },
        {
         "connectgaps": false,
         "hovertemplate": "fnid=AF2017A134<br>indicator=area<br>year=%{x}<br>value=%{y}<extra></extra>",
         "legendgroup": "AF2017A134",
         "line": {
          "color": "#00cc96",
          "dash": "solid"
         },
         "marker": {
          "symbol": "circle"
         },
         "mode": "markers+lines",
         "name": "AF2017A134",
         "showlegend": false,
         "type": "scattergl",
         "x": [
          2002,
          2003,
          2004,
          2005,
          2006,
          2007,
          2008,
          2009,
          2010,
          2011,
          2012,
          2013,
          2014,
          2015,
          2016,
          2017,
          2018,
          2019,
          2020,
          2021,
          2022
         ],
         "xaxis": "x2",
         "y": [
          10000,
          0,
          8000,
          0,
          1000,
          1000,
          1000,
          1000,
          1000,
          1000,
          1000,
          1000,
          0,
          0,
          0,
          0,
          0,
          0,
          0,
          0,
          0
         ],
         "yaxis": "y2"
        },
        {
         "connectgaps": false,
         "hovertemplate": "fnid=AF2017A134<br>indicator=yield<br>year=%{x}<br>value=%{y}<extra></extra>",
         "legendgroup": "AF2017A134",
         "line": {
          "color": "#00cc96",
          "dash": "solid"
         },
         "marker": {
          "symbol": "circle"
         },
         "mode": "markers+lines",
         "name": "AF2017A134",
         "showlegend": false,
         "type": "scattergl",
         "x": [
          2002,
          2003,
          2004,
          2005,
          2006,
          2007,
          2008,
          2009,
          2010,
          2011,
          2012,
          2013,
          2014,
          2015,
          2016,
          2017,
          2018,
          2019,
          2020,
          2021,
          2022
         ],
         "xaxis": "x",
         "y": [
          0.8,
          0,
          0.25,
          0,
          1,
          1,
          0,
          1,
          0,
          0,
          1,
          1,
          0,
          0,
          0,
          0,
          0,
          0,
          0,
          0,
          0
         ],
         "yaxis": "y"
        }
       ],
       "layout": {
        "annotations": [
         {
          "showarrow": false,
          "text": "",
          "textangle": 90,
          "x": 0.98,
          "xanchor": "left",
          "xref": "paper",
          "y": 0.16333333333333333,
          "yanchor": "middle",
          "yref": "paper"
         },
         {
          "showarrow": false,
          "text": "",
          "textangle": 90,
          "x": 0.98,
          "xanchor": "left",
          "xref": "paper",
          "y": 0.5,
          "yanchor": "middle",
          "yref": "paper"
         },
         {
          "showarrow": false,
          "text": "",
          "textangle": 90,
          "x": 0.98,
          "xanchor": "left",
          "xref": "paper",
          "y": 0.8366666666666667,
          "yanchor": "middle",
          "yref": "paper"
         },
         {
          "align": "left",
          "font": {
           "color": "dimgrey",
           "family": "arial",
           "size": 15
          },
          "showarrow": false,
          "text": "Production-Area-Yield time-series of AF - Wheat - Spring",
          "x": -0.014,
          "xref": "paper",
          "y": -0.14,
          "yref": "paper"
         }
        ],
        "font": {
         "color": "black",
         "family": "arial",
         "size": 16
        },
        "height": 600,
        "legend": {
         "font": {
          "size": 14
         },
         "title": {
          "text": "FNID"
         },
         "tracegroupgap": 0,
         "x": 1,
         "xanchor": "left",
         "y": 1,
         "yanchor": "top"
        },
        "margin": {
         "b": 25,
         "l": 0,
         "r": 0,
         "t": 0
        },
        "template": {
         "data": {
          "bar": [
           {
            "error_x": {
             "color": "#2a3f5f"
            },
            "error_y": {
             "color": "#2a3f5f"
            },
            "marker": {
             "line": {
              "color": "#E5ECF6",
              "width": 0.5
             },
             "pattern": {
              "fillmode": "overlay",
              "size": 10,
              "solidity": 0.2
             }
            },
            "type": "bar"
           }
          ],
          "barpolar": [
           {
            "marker": {
             "line": {
              "color": "#E5ECF6",
              "width": 0.5
             },
             "pattern": {
              "fillmode": "overlay",
              "size": 10,
              "solidity": 0.2
             }
            },
            "type": "barpolar"
           }
          ],
          "carpet": [
           {
            "aaxis": {
             "endlinecolor": "#2a3f5f",
             "gridcolor": "white",
             "linecolor": "white",
             "minorgridcolor": "white",
             "startlinecolor": "#2a3f5f"
            },
            "baxis": {
             "endlinecolor": "#2a3f5f",
             "gridcolor": "white",
             "linecolor": "white",
             "minorgridcolor": "white",
             "startlinecolor": "#2a3f5f"
            },
            "type": "carpet"
           }
          ],
          "choropleth": [
           {
            "colorbar": {
             "outlinewidth": 0,
             "ticks": ""
            },
            "type": "choropleth"
           }
          ],
          "contour": [
           {
            "colorbar": {
             "outlinewidth": 0,
             "ticks": ""
            },
            "colorscale": [
             [
              0,
              "#0d0887"
             ],
             [
              0.1111111111111111,
              "#46039f"
             ],
             [
              0.2222222222222222,
              "#7201a8"
             ],
             [
              0.3333333333333333,
              "#9c179e"
             ],
             [
              0.4444444444444444,
              "#bd3786"
             ],
             [
              0.5555555555555556,
              "#d8576b"
             ],
             [
              0.6666666666666666,
              "#ed7953"
             ],
             [
              0.7777777777777778,
              "#fb9f3a"
             ],
             [
              0.8888888888888888,
              "#fdca26"
             ],
             [
              1,
              "#f0f921"
             ]
            ],
            "type": "contour"
           }
          ],
          "contourcarpet": [
           {
            "colorbar": {
             "outlinewidth": 0,
             "ticks": ""
            },
            "type": "contourcarpet"
           }
          ],
          "heatmap": [
           {
            "colorbar": {
             "outlinewidth": 0,
             "ticks": ""
            },
            "colorscale": [
             [
              0,
              "#0d0887"
             ],
             [
              0.1111111111111111,
              "#46039f"
             ],
             [
              0.2222222222222222,
              "#7201a8"
             ],
             [
              0.3333333333333333,
              "#9c179e"
             ],
             [
              0.4444444444444444,
              "#bd3786"
             ],
             [
              0.5555555555555556,
              "#d8576b"
             ],
             [
              0.6666666666666666,
              "#ed7953"
             ],
             [
              0.7777777777777778,
              "#fb9f3a"
             ],
             [
              0.8888888888888888,
              "#fdca26"
             ],
             [
              1,
              "#f0f921"
             ]
            ],
            "type": "heatmap"
           }
          ],
          "heatmapgl": [
           {
            "colorbar": {
             "outlinewidth": 0,
             "ticks": ""
            },
            "colorscale": [
             [
              0,
              "#0d0887"
             ],
             [
              0.1111111111111111,
              "#46039f"
             ],
             [
              0.2222222222222222,
              "#7201a8"
             ],
             [
              0.3333333333333333,
              "#9c179e"
             ],
             [
              0.4444444444444444,
              "#bd3786"
             ],
             [
              0.5555555555555556,
              "#d8576b"
             ],
             [
              0.6666666666666666,
              "#ed7953"
             ],
             [
              0.7777777777777778,
              "#fb9f3a"
             ],
             [
              0.8888888888888888,
              "#fdca26"
             ],
             [
              1,
              "#f0f921"
             ]
            ],
            "type": "heatmapgl"
           }
          ],
          "histogram": [
           {
            "marker": {
             "pattern": {
              "fillmode": "overlay",
              "size": 10,
              "solidity": 0.2
             }
            },
            "type": "histogram"
           }
          ],
          "histogram2d": [
           {
            "colorbar": {
             "outlinewidth": 0,
             "ticks": ""
            },
            "colorscale": [
             [
              0,
              "#0d0887"
             ],
             [
              0.1111111111111111,
              "#46039f"
             ],
             [
              0.2222222222222222,
              "#7201a8"
             ],
             [
              0.3333333333333333,
              "#9c179e"
             ],
             [
              0.4444444444444444,
              "#bd3786"
             ],
             [
              0.5555555555555556,
              "#d8576b"
             ],
             [
              0.6666666666666666,
              "#ed7953"
             ],
             [
              0.7777777777777778,
              "#fb9f3a"
             ],
             [
              0.8888888888888888,
              "#fdca26"
             ],
             [
              1,
              "#f0f921"
             ]
            ],
            "type": "histogram2d"
           }
          ],
          "histogram2dcontour": [
           {
            "colorbar": {
             "outlinewidth": 0,
             "ticks": ""
            },
            "colorscale": [
             [
              0,
              "#0d0887"
             ],
             [
              0.1111111111111111,
              "#46039f"
             ],
             [
              0.2222222222222222,
              "#7201a8"
             ],
             [
              0.3333333333333333,
              "#9c179e"
             ],
             [
              0.4444444444444444,
              "#bd3786"
             ],
             [
              0.5555555555555556,
              "#d8576b"
             ],
             [
              0.6666666666666666,
              "#ed7953"
             ],
             [
              0.7777777777777778,
              "#fb9f3a"
             ],
             [
              0.8888888888888888,
              "#fdca26"
             ],
             [
              1,
              "#f0f921"
             ]
            ],
            "type": "histogram2dcontour"
           }
          ],
          "mesh3d": [
           {
            "colorbar": {
             "outlinewidth": 0,
             "ticks": ""
            },
            "type": "mesh3d"
           }
          ],
          "parcoords": [
           {
            "line": {
             "colorbar": {
              "outlinewidth": 0,
              "ticks": ""
             }
            },
            "type": "parcoords"
           }
          ],
          "pie": [
           {
            "automargin": true,
            "type": "pie"
           }
          ],
          "scatter": [
           {
            "fillpattern": {
             "fillmode": "overlay",
             "size": 10,
             "solidity": 0.2
            },
            "type": "scatter"
           }
          ],
          "scatter3d": [
           {
            "line": {
             "colorbar": {
              "outlinewidth": 0,
              "ticks": ""
             }
            },
            "marker": {
             "colorbar": {
              "outlinewidth": 0,
              "ticks": ""
             }
            },
            "type": "scatter3d"
           }
          ],
          "scattercarpet": [
           {
            "marker": {
             "colorbar": {
              "outlinewidth": 0,
              "ticks": ""
             }
            },
            "type": "scattercarpet"
           }
          ],
          "scattergeo": [
           {
            "marker": {
             "colorbar": {
              "outlinewidth": 0,
              "ticks": ""
             }
            },
            "type": "scattergeo"
           }
          ],
          "scattergl": [
           {
            "marker": {
             "colorbar": {
              "outlinewidth": 0,
              "ticks": ""
             }
            },
            "type": "scattergl"
           }
          ],
          "scattermapbox": [
           {
            "marker": {
             "colorbar": {
              "outlinewidth": 0,
              "ticks": ""
             }
            },
            "type": "scattermapbox"
           }
          ],
          "scatterpolar": [
           {
            "marker": {
             "colorbar": {
              "outlinewidth": 0,
              "ticks": ""
             }
            },
            "type": "scatterpolar"
           }
          ],
          "scatterpolargl": [
           {
            "marker": {
             "colorbar": {
              "outlinewidth": 0,
              "ticks": ""
             }
            },
            "type": "scatterpolargl"
           }
          ],
          "scatterternary": [
           {
            "marker": {
             "colorbar": {
              "outlinewidth": 0,
              "ticks": ""
             }
            },
            "type": "scatterternary"
           }
          ],
          "surface": [
           {
            "colorbar": {
             "outlinewidth": 0,
             "ticks": ""
            },
            "colorscale": [
             [
              0,
              "#0d0887"
             ],
             [
              0.1111111111111111,
              "#46039f"
             ],
             [
              0.2222222222222222,
              "#7201a8"
             ],
             [
              0.3333333333333333,
              "#9c179e"
             ],
             [
              0.4444444444444444,
              "#bd3786"
             ],
             [
              0.5555555555555556,
              "#d8576b"
             ],
             [
              0.6666666666666666,
              "#ed7953"
             ],
             [
              0.7777777777777778,
              "#fb9f3a"
             ],
             [
              0.8888888888888888,
              "#fdca26"
             ],
             [
              1,
              "#f0f921"
             ]
            ],
            "type": "surface"
           }
          ],
          "table": [
           {
            "cells": {
             "fill": {
              "color": "#EBF0F8"
             },
             "line": {
              "color": "white"
             }
            },
            "header": {
             "fill": {
              "color": "#C8D4E3"
             },
             "line": {
              "color": "white"
             }
            },
            "type": "table"
           }
          ]
         },
         "layout": {
          "annotationdefaults": {
           "arrowcolor": "#2a3f5f",
           "arrowhead": 0,
           "arrowwidth": 1
          },
          "autotypenumbers": "strict",
          "coloraxis": {
           "colorbar": {
            "outlinewidth": 0,
            "ticks": ""
           }
          },
          "colorscale": {
           "diverging": [
            [
             0,
             "#8e0152"
            ],
            [
             0.1,
             "#c51b7d"
            ],
            [
             0.2,
             "#de77ae"
            ],
            [
             0.3,
             "#f1b6da"
            ],
            [
             0.4,
             "#fde0ef"
            ],
            [
             0.5,
             "#f7f7f7"
            ],
            [
             0.6,
             "#e6f5d0"
            ],
            [
             0.7,
             "#b8e186"
            ],
            [
             0.8,
             "#7fbc41"
            ],
            [
             0.9,
             "#4d9221"
            ],
            [
             1,
             "#276419"
            ]
           ],
           "sequential": [
            [
             0,
             "#0d0887"
            ],
            [
             0.1111111111111111,
             "#46039f"
            ],
            [
             0.2222222222222222,
             "#7201a8"
            ],
            [
             0.3333333333333333,
             "#9c179e"
            ],
            [
             0.4444444444444444,
             "#bd3786"
            ],
            [
             0.5555555555555556,
             "#d8576b"
            ],
            [
             0.6666666666666666,
             "#ed7953"
            ],
            [
             0.7777777777777778,
             "#fb9f3a"
            ],
            [
             0.8888888888888888,
             "#fdca26"
            ],
            [
             1,
             "#f0f921"
            ]
           ],
           "sequentialminus": [
            [
             0,
             "#0d0887"
            ],
            [
             0.1111111111111111,
             "#46039f"
            ],
            [
             0.2222222222222222,
             "#7201a8"
            ],
            [
             0.3333333333333333,
             "#9c179e"
            ],
            [
             0.4444444444444444,
             "#bd3786"
            ],
            [
             0.5555555555555556,
             "#d8576b"
            ],
            [
             0.6666666666666666,
             "#ed7953"
            ],
            [
             0.7777777777777778,
             "#fb9f3a"
            ],
            [
             0.8888888888888888,
             "#fdca26"
            ],
            [
             1,
             "#f0f921"
            ]
           ]
          },
          "colorway": [
           "#636efa",
           "#EF553B",
           "#00cc96",
           "#ab63fa",
           "#FFA15A",
           "#19d3f3",
           "#FF6692",
           "#B6E880",
           "#FF97FF",
           "#FECB52"
          ],
          "font": {
           "color": "#2a3f5f"
          },
          "geo": {
           "bgcolor": "white",
           "lakecolor": "white",
           "landcolor": "#E5ECF6",
           "showlakes": true,
           "showland": true,
           "subunitcolor": "white"
          },
          "hoverlabel": {
           "align": "left"
          },
          "hovermode": "closest",
          "mapbox": {
           "style": "light"
          },
          "paper_bgcolor": "white",
          "plot_bgcolor": "#E5ECF6",
          "polar": {
           "angularaxis": {
            "gridcolor": "white",
            "linecolor": "white",
            "ticks": ""
           },
           "bgcolor": "#E5ECF6",
           "radialaxis": {
            "gridcolor": "white",
            "linecolor": "white",
            "ticks": ""
           }
          },
          "scene": {
           "xaxis": {
            "backgroundcolor": "#E5ECF6",
            "gridcolor": "white",
            "gridwidth": 2,
            "linecolor": "white",
            "showbackground": true,
            "ticks": "",
            "zerolinecolor": "white"
           },
           "yaxis": {
            "backgroundcolor": "#E5ECF6",
            "gridcolor": "white",
            "gridwidth": 2,
            "linecolor": "white",
            "showbackground": true,
            "ticks": "",
            "zerolinecolor": "white"
           },
           "zaxis": {
            "backgroundcolor": "#E5ECF6",
            "gridcolor": "white",
            "gridwidth": 2,
            "linecolor": "white",
            "showbackground": true,
            "ticks": "",
            "zerolinecolor": "white"
           }
          },
          "shapedefaults": {
           "line": {
            "color": "#2a3f5f"
           }
          },
          "ternary": {
           "aaxis": {
            "gridcolor": "white",
            "linecolor": "white",
            "ticks": ""
           },
           "baxis": {
            "gridcolor": "white",
            "linecolor": "white",
            "ticks": ""
           },
           "bgcolor": "#E5ECF6",
           "caxis": {
            "gridcolor": "white",
            "linecolor": "white",
            "ticks": ""
           }
          },
          "title": {
           "x": 0.05
          },
          "xaxis": {
           "automargin": true,
           "gridcolor": "white",
           "linecolor": "white",
           "ticks": "",
           "title": {
            "standoff": 15
           },
           "zerolinecolor": "white",
           "zerolinewidth": 2
          },
          "yaxis": {
           "automargin": true,
           "gridcolor": "white",
           "linecolor": "white",
           "ticks": "",
           "title": {
            "standoff": 15
           },
           "zerolinecolor": "white",
           "zerolinewidth": 2
          }
         }
        },
        "width": 900,
        "xaxis": {
         "anchor": "y",
         "domain": [
          0,
          0.98
         ],
         "dtick": 1,
         "range": [
          2002,
          2022
         ],
         "title": {
          "text": ""
         }
        },
        "xaxis2": {
         "anchor": "y2",
         "domain": [
          0,
          0.98
         ],
         "dtick": 1,
         "matches": "x",
         "showticklabels": false
        },
        "xaxis3": {
         "anchor": "y3",
         "domain": [
          0,
          0.98
         ],
         "dtick": 1,
         "matches": "x",
         "showticklabels": false
        },
        "yaxis": {
         "anchor": "x",
         "domain": [
          0,
          0.32666666666666666
         ],
         "title": {
          "text": "Yield (mt/ha)"
         }
        },
        "yaxis2": {
         "anchor": "x2",
         "domain": [
          0.33666666666666667,
          0.6633333333333333
         ],
         "title": {
          "text": "Area (ha)"
         }
        },
        "yaxis3": {
         "anchor": "x3",
         "domain": [
          0.6733333333333333,
          1
         ],
         "title": {
          "text": "Production (mt)"
         }
        }
       }
      }
     },
     "metadata": {},
     "output_type": "display_data"
    },
    {
     "name": "stdout",
     "output_type": "stream",
     "text": [
      "../figures/AF_line_pay_Wheat_Winter.png is saved.\n"
     ]
    },
    {
     "data": {
      "application/vnd.plotly.v1+json": {
       "config": {
        "plotlyServerURL": "https://plot.ly"
       },
       "data": [
        {
         "connectgaps": false,
         "hovertemplate": "fnid=AF2017A101<br>indicator=production<br>year=%{x}<br>value=%{y}<extra></extra>",
         "legendgroup": "AF2017A101",
         "line": {
          "color": "#636efa",
          "dash": "solid"
         },
         "marker": {
          "symbol": "circle"
         },
         "mode": "markers+lines",
         "name": "AF2017A101",
         "showlegend": true,
         "type": "scattergl",
         "x": [
          2002,
          2003,
          2004,
          2005,
          2006,
          2007,
          2008,
          2009,
          2010,
          2011,
          2012,
          2013,
          2014,
          2015,
          2016,
          2017,
          2018,
          2019,
          2020,
          2021,
          2022
         ],
         "xaxis": "x3",
         "y": [
          48000,
          58000,
          45000,
          55000,
          52000,
          59000,
          62000,
          78000,
          81000,
          64000,
          79000,
          82000,
          109000,
          121320,
          65720,
          16090,
          87632,
          30867,
          101135.31981781992,
          43664,
          47216
         ],
         "yaxis": "y3"
        },
        {
         "connectgaps": false,
         "hovertemplate": "fnid=AF2017A101<br>indicator=area<br>year=%{x}<br>value=%{y}<extra></extra>",
         "legendgroup": "AF2017A101",
         "line": {
          "color": "#636efa",
          "dash": "solid"
         },
         "marker": {
          "symbol": "circle"
         },
         "mode": "markers+lines",
         "name": "AF2017A101",
         "showlegend": false,
         "type": "scattergl",
         "x": [
          2002,
          2003,
          2004,
          2005,
          2006,
          2007,
          2008,
          2009,
          2010,
          2011,
          2012,
          2013,
          2014,
          2015,
          2016,
          2017,
          2018,
          2019,
          2020,
          2021,
          2022
         ],
         "xaxis": "x2",
         "y": [
          20000,
          20000,
          18000,
          21000,
          21000,
          21000,
          21000,
          23000,
          26000,
          22000,
          24000,
          24000,
          35000,
          34650,
          26290,
          6436,
          31297,
          10735,
          34376,
          16172,
          16351
         ],
         "yaxis": "y2"
        },
        {
         "connectgaps": false,
         "hovertemplate": "fnid=AF2017A101<br>indicator=yield<br>year=%{x}<br>value=%{y}<extra></extra>",
         "legendgroup": "AF2017A101",
         "line": {
          "color": "#636efa",
          "dash": "solid"
         },
         "marker": {
          "symbol": "circle"
         },
         "mode": "markers+lines",
         "name": "AF2017A101",
         "showlegend": false,
         "type": "scattergl",
         "x": [
          2002,
          2003,
          2004,
          2005,
          2006,
          2007,
          2008,
          2009,
          2010,
          2011,
          2012,
          2013,
          2014,
          2015,
          2016,
          2017,
          2018,
          2019,
          2020,
          2021,
          2022
         ],
         "xaxis": "x",
         "y": [
          2.4,
          2.9,
          2.5,
          2.619047619047619,
          2.4761904761904763,
          2.8095238095238093,
          2.952380952380953,
          3.391304347826087,
          3.1153846153846154,
          2.909090909090909,
          3.2916666666666665,
          3.4166666666666665,
          3.1142857142857143,
          3.501298701298701,
          2.499809813617345,
          2.5,
          2.80001278077771,
          2.8753609687936654,
          2.942032808291247,
          2.6999752658916645,
          2.887652131368112
         ],
         "yaxis": "y"
        },
        {
         "connectgaps": false,
         "hovertemplate": "fnid=AF2017A102<br>indicator=production<br>year=%{x}<br>value=%{y}<extra></extra>",
         "legendgroup": "AF2017A102",
         "line": {
          "color": "#EF553B",
          "dash": "solid"
         },
         "marker": {
          "symbol": "circle"
         },
         "mode": "markers+lines",
         "name": "AF2017A102",
         "showlegend": true,
         "type": "scattergl",
         "x": [
          2002,
          2003,
          2004,
          2005,
          2006,
          2007,
          2008,
          2009,
          2010,
          2011,
          2012,
          2013,
          2014,
          2015,
          2016,
          2017,
          2018,
          2019,
          2020,
          2021,
          2022
         ],
         "xaxis": "x3",
         "y": [
          9000,
          28000,
          20000,
          27000,
          31000,
          27000,
          29000,
          47000,
          40000,
          52000,
          45000,
          47000,
          50000,
          40310,
          37630,
          34506.6,
          52548,
          35142,
          50443.70859848484,
          41451,
          34558
         ],
         "yaxis": "y3"
        },
        {
         "connectgaps": false,
         "hovertemplate": "fnid=AF2017A102<br>indicator=area<br>year=%{x}<br>value=%{y}<extra></extra>",
         "legendgroup": "AF2017A102",
         "line": {
          "color": "#EF553B",
          "dash": "solid"
         },
         "marker": {
          "symbol": "circle"
         },
         "mode": "markers+lines",
         "name": "AF2017A102",
         "showlegend": false,
         "type": "scattergl",
         "x": [
          2002,
          2003,
          2004,
          2005,
          2006,
          2007,
          2008,
          2009,
          2010,
          2011,
          2012,
          2013,
          2014,
          2015,
          2016,
          2017,
          2018,
          2019,
          2020,
          2021,
          2022
         ],
         "xaxis": "x2",
         "y": [
          5000,
          9000,
          10000,
          10000,
          10000,
          9000,
          9000,
          14000,
          14000,
          15000,
          14000,
          14000,
          17000,
          17000,
          18440,
          16915,
          21358,
          13656,
          19130,
          12561,
          12353
         ],
         "yaxis": "y2"
        },
        {
         "connectgaps": false,
         "hovertemplate": "fnid=AF2017A102<br>indicator=yield<br>year=%{x}<br>value=%{y}<extra></extra>",
         "legendgroup": "AF2017A102",
         "line": {
          "color": "#EF553B",
          "dash": "solid"
         },
         "marker": {
          "symbol": "circle"
         },
         "mode": "markers+lines",
         "name": "AF2017A102",
         "showlegend": false,
         "type": "scattergl",
         "x": [
          2002,
          2003,
          2004,
          2005,
          2006,
          2007,
          2008,
          2009,
          2010,
          2011,
          2012,
          2013,
          2014,
          2015,
          2016,
          2017,
          2018,
          2019,
          2020,
          2021,
          2022
         ],
         "xaxis": "x",
         "y": [
          1.8,
          3.111111111111111,
          2,
          2.7,
          3.1,
          3,
          3.2222222222222223,
          3.357142857142857,
          2.857142857142857,
          3.466666666666667,
          3.2142857142857144,
          3.357142857142857,
          2.9411764705882355,
          2.371176470588235,
          2.0406724511930587,
          2.04,
          2.4603427287199175,
          2.5733743409490333,
          2.636890151515151,
          3.29997611655123,
          2.797539059337813
         ],
         "yaxis": "y"
        },
        {
         "connectgaps": false,
         "hovertemplate": "fnid=AF2017A103<br>indicator=production<br>year=%{x}<br>value=%{y}<extra></extra>",
         "legendgroup": "AF2017A103",
         "line": {
          "color": "#00cc96",
          "dash": "solid"
         },
         "marker": {
          "symbol": "circle"
         },
         "mode": "markers+lines",
         "name": "AF2017A103",
         "showlegend": true,
         "type": "scattergl",
         "x": [
          2002,
          2003,
          2004,
          2005,
          2006,
          2007,
          2008,
          2009,
          2010,
          2011,
          2012,
          2013,
          2014,
          2015,
          2016,
          2017,
          2018,
          2019,
          2020,
          2021,
          2022
         ],
         "xaxis": "x3",
         "y": [
          48000,
          113000,
          50000,
          75000,
          66000,
          60000,
          62000,
          86000,
          94000,
          126000,
          83000,
          82000,
          104000,
          89280,
          47080,
          47528.45781329465,
          95912,
          99589,
          81116.80513705467,
          54748,
          49415
         ],
         "yaxis": "y3"
        },
        {
         "connectgaps": false,
         "hovertemplate": "fnid=AF2017A103<br>indicator=area<br>year=%{x}<br>value=%{y}<extra></extra>",
         "legendgroup": "AF2017A103",
         "line": {
          "color": "#00cc96",
          "dash": "solid"
         },
         "marker": {
          "symbol": "circle"
         },
         "mode": "markers+lines",
         "name": "AF2017A103",
         "showlegend": false,
         "type": "scattergl",
         "x": [
          2002,
          2003,
          2004,
          2005,
          2006,
          2007,
          2008,
          2009,
          2010,
          2011,
          2012,
          2013,
          2014,
          2015,
          2016,
          2017,
          2018,
          2019,
          2020,
          2021,
          2022
         ],
         "xaxis": "x2",
         "y": [
          20000,
          31000,
          20000,
          29000,
          23000,
          23000,
          23000,
          27000,
          27000,
          30000,
          26000,
          27000,
          32000,
          32420,
          19460,
          20389,
          31320,
          36138,
          27167,
          21057,
          16509
         ],
         "yaxis": "y2"
        },
        {
         "connectgaps": false,
         "hovertemplate": "fnid=AF2017A103<br>indicator=yield<br>year=%{x}<br>value=%{y}<extra></extra>",
         "legendgroup": "AF2017A103",
         "line": {
          "color": "#00cc96",
          "dash": "solid"
         },
         "marker": {
          "symbol": "circle"
         },
         "mode": "markers+lines",
         "name": "AF2017A103",
         "showlegend": false,
         "type": "scattergl",
         "x": [
          2002,
          2003,
          2004,
          2005,
          2006,
          2007,
          2008,
          2009,
          2010,
          2011,
          2012,
          2013,
          2014,
          2015,
          2016,
          2017,
          2018,
          2019,
          2020,
          2021,
          2022
         ],
         "xaxis": "x",
         "y": [
          2.4,
          3.645161290322581,
          2.5,
          2.586206896551724,
          2.869565217391304,
          2.608695652173913,
          2.6956521739130435,
          3.185185185185185,
          3.4814814814814814,
          4.2,
          3.1923076923076925,
          3.037037037037037,
          3.25,
          2.753855644663788,
          2.419321685508736,
          2.3310833200890015,
          3.062324393358876,
          2.755797221761027,
          2.9858580313267815,
          2.599990501970841,
          2.9932158216730267
         ],
         "yaxis": "y"
        },
        {
         "connectgaps": false,
         "hovertemplate": "fnid=AF2017A104<br>indicator=production<br>year=%{x}<br>value=%{y}<extra></extra>",
         "legendgroup": "AF2017A104",
         "line": {
          "color": "#ab63fa",
          "dash": "solid"
         },
         "marker": {
          "symbol": "circle"
         },
         "mode": "markers+lines",
         "name": "AF2017A104",
         "showlegend": true,
         "type": "scattergl",
         "x": [
          2002,
          2003,
          2004,
          2005,
          2006,
          2007,
          2008,
          2009,
          2010,
          2011,
          2012,
          2013,
          2014,
          2015,
          2016,
          2017,
          2018,
          2019,
          2020,
          2021,
          2022
         ],
         "xaxis": "x3",
         "y": [
          39000,
          93000,
          28000,
          76000,
          69000,
          78000,
          65000,
          81000,
          93000,
          84000,
          100000,
          101000,
          46000,
          49470,
          49910,
          96319.44,
          86104,
          103027,
          113385.38677714644,
          45350,
          32984
         ],
         "yaxis": "y3"
        },
        {
         "connectgaps": false,
         "hovertemplate": "fnid=AF2017A104<br>indicator=area<br>year=%{x}<br>value=%{y}<extra></extra>",
         "legendgroup": "AF2017A104",
         "line": {
          "color": "#ab63fa",
          "dash": "solid"
         },
         "marker": {
          "symbol": "circle"
         },
         "mode": "markers+lines",
         "name": "AF2017A104",
         "showlegend": false,
         "type": "scattergl",
         "x": [
          2002,
          2003,
          2004,
          2005,
          2006,
          2007,
          2008,
          2009,
          2010,
          2011,
          2012,
          2013,
          2014,
          2015,
          2016,
          2017,
          2018,
          2019,
          2020,
          2021,
          2022
         ],
         "xaxis": "x2",
         "y": [
          15000,
          24000,
          15000,
          28000,
          27000,
          26000,
          24000,
          26000,
          26000,
          24000,
          27000,
          26000,
          17000,
          16530,
          24000,
          47448,
          38350,
          39637,
          42563,
          18140,
          13264
         ],
         "yaxis": "y2"
        },
        {
         "connectgaps": false,
         "hovertemplate": "fnid=AF2017A104<br>indicator=yield<br>year=%{x}<br>value=%{y}<extra></extra>",
         "legendgroup": "AF2017A104",
         "line": {
          "color": "#ab63fa",
          "dash": "solid"
         },
         "marker": {
          "symbol": "circle"
         },
         "mode": "markers+lines",
         "name": "AF2017A104",
         "showlegend": false,
         "type": "scattergl",
         "x": [
          2002,
          2003,
          2004,
          2005,
          2006,
          2007,
          2008,
          2009,
          2010,
          2011,
          2012,
          2013,
          2014,
          2015,
          2016,
          2017,
          2018,
          2019,
          2020,
          2021,
          2022
         ],
         "xaxis": "x",
         "y": [
          2.6,
          3.875,
          1.8666666666666667,
          2.7142857142857144,
          2.5555555555555554,
          3,
          2.7083333333333335,
          3.1153846153846154,
          3.576923076923077,
          3.5,
          3.703703703703704,
          3.8846153846153846,
          2.7058823529411766,
          2.9927404718693285,
          2.0795833333333333,
          2.03,
          2.245215123859192,
          2.5992633145798116,
          2.66394255050505,
          2.5,
          2.4867310012062727
         ],
         "yaxis": "y"
        },
        {
         "connectgaps": false,
         "hovertemplate": "fnid=AF2017A105<br>indicator=production<br>year=%{x}<br>value=%{y}<extra></extra>",
         "legendgroup": "AF2017A105",
         "line": {
          "color": "#FFA15A",
          "dash": "solid"
         },
         "marker": {
          "symbol": "circle"
         },
         "mode": "markers+lines",
         "name": "AF2017A105",
         "showlegend": true,
         "type": "scattergl",
         "x": [
          2002,
          2003,
          2004,
          2005,
          2006,
          2007,
          2008,
          2009,
          2010,
          2011,
          2012,
          2013,
          2014,
          2015,
          2016,
          2017,
          2018,
          2019,
          2020,
          2021,
          2022
         ],
         "xaxis": "x3",
         "y": [
          34000,
          93000,
          32000,
          53000,
          59000,
          78000,
          100000,
          78000,
          69000,
          68000,
          100000,
          60000,
          64000,
          69440,
          74100,
          61902,
          74752,
          71370,
          54200.38798054246,
          27559,
          48436
         ],
         "yaxis": "y3"
        },
        {
         "connectgaps": false,
         "hovertemplate": "fnid=AF2017A105<br>indicator=area<br>year=%{x}<br>value=%{y}<extra></extra>",
         "legendgroup": "AF2017A105",
         "line": {
          "color": "#FFA15A",
          "dash": "solid"
         },
         "marker": {
          "symbol": "circle"
         },
         "mode": "markers+lines",
         "name": "AF2017A105",
         "showlegend": false,
         "type": "scattergl",
         "x": [
          2002,
          2003,
          2004,
          2005,
          2006,
          2007,
          2008,
          2009,
          2010,
          2011,
          2012,
          2013,
          2014,
          2015,
          2016,
          2017,
          2018,
          2019,
          2020,
          2021,
          2022
         ],
         "xaxis": "x2",
         "y": [
          14000,
          23000,
          20000,
          22000,
          26000,
          26000,
          27000,
          25000,
          26000,
          27000,
          27000,
          21000,
          22000,
          21800,
          26470,
          21720,
          25466,
          21232,
          22385,
          11483,
          17318
         ],
         "yaxis": "y2"
        },
        {
         "connectgaps": false,
         "hovertemplate": "fnid=AF2017A105<br>indicator=yield<br>year=%{x}<br>value=%{y}<extra></extra>",
         "legendgroup": "AF2017A105",
         "line": {
          "color": "#FFA15A",
          "dash": "solid"
         },
         "marker": {
          "symbol": "circle"
         },
         "mode": "markers+lines",
         "name": "AF2017A105",
         "showlegend": false,
         "type": "scattergl",
         "x": [
          2002,
          2003,
          2004,
          2005,
          2006,
          2007,
          2008,
          2009,
          2010,
          2011,
          2012,
          2013,
          2014,
          2015,
          2016,
          2017,
          2018,
          2019,
          2020,
          2021,
          2022
         ],
         "xaxis": "x",
         "y": [
          2.4285714285714284,
          4.043478260869565,
          1.6,
          2.409090909090909,
          2.269230769230769,
          3,
          3.703703703703704,
          3.12,
          2.6538461538461537,
          2.5185185185185186,
          3.703703703703704,
          2.857142857142857,
          2.909090909090909,
          3.1853211009174314,
          2.7993955421231584,
          2.85,
          2.9353648001256576,
          3.3614355689525244,
          2.4212815716123504,
          2.3999825829487067,
          2.7968587596720176
         ],
         "yaxis": "y"
        },
        {
         "connectgaps": false,
         "hovertemplate": "fnid=AF2017A106<br>indicator=production<br>year=%{x}<br>value=%{y}<extra></extra>",
         "legendgroup": "AF2017A106",
         "line": {
          "color": "#19d3f3",
          "dash": "solid"
         },
         "marker": {
          "symbol": "circle"
         },
         "mode": "markers+lines",
         "name": "AF2017A106",
         "showlegend": true,
         "type": "scattergl",
         "x": [
          2002,
          2003,
          2004,
          2005,
          2006,
          2007,
          2008,
          2009,
          2010,
          2011,
          2012,
          2013,
          2014,
          2015,
          2016,
          2017,
          2018,
          2019,
          2020,
          2021,
          2022
         ],
         "xaxis": "x3",
         "y": [
          69000,
          85000,
          62000,
          102000,
          114000,
          131000,
          184000,
          205000,
          206000,
          227000,
          270000,
          253000,
          202000,
          226290,
          188200,
          182717.4,
          165150,
          205460,
          183765.2601549586,
          175320,
          157997
         ],
         "yaxis": "y3"
        },
        {
         "connectgaps": false,
         "hovertemplate": "fnid=AF2017A106<br>indicator=area<br>year=%{x}<br>value=%{y}<extra></extra>",
         "legendgroup": "AF2017A106",
         "line": {
          "color": "#19d3f3",
          "dash": "solid"
         },
         "marker": {
          "symbol": "circle"
         },
         "mode": "markers+lines",
         "name": "AF2017A106",
         "showlegend": false,
         "type": "scattergl",
         "x": [
          2002,
          2003,
          2004,
          2005,
          2006,
          2007,
          2008,
          2009,
          2010,
          2011,
          2012,
          2013,
          2014,
          2015,
          2016,
          2017,
          2018,
          2019,
          2020,
          2021,
          2022
         ],
         "xaxis": "x2",
         "y": [
          33000,
          40000,
          37000,
          51000,
          52000,
          50000,
          61000,
          73000,
          79000,
          79000,
          77000,
          68000,
          67000,
          68130,
          72390,
          63006,
          54757,
          66927,
          68790,
          60455,
          59218
         ],
         "yaxis": "y2"
        },
        {
         "connectgaps": false,
         "hovertemplate": "fnid=AF2017A106<br>indicator=yield<br>year=%{x}<br>value=%{y}<extra></extra>",
         "legendgroup": "AF2017A106",
         "line": {
          "color": "#19d3f3",
          "dash": "solid"
         },
         "marker": {
          "symbol": "circle"
         },
         "mode": "markers+lines",
         "name": "AF2017A106",
         "showlegend": false,
         "type": "scattergl",
         "x": [
          2002,
          2003,
          2004,
          2005,
          2006,
          2007,
          2008,
          2009,
          2010,
          2011,
          2012,
          2013,
          2014,
          2015,
          2016,
          2017,
          2018,
          2019,
          2020,
          2021,
          2022
         ],
         "xaxis": "x",
         "y": [
          2.090909090909091,
          2.125,
          1.6756756756756757,
          2,
          2.1923076923076925,
          2.62,
          3.0163934426229506,
          2.808219178082192,
          2.607594936708861,
          2.8734177215189876,
          3.5064935064935066,
          3.7205882352941178,
          3.014925373134328,
          3.3214442976662264,
          2.599806603121978,
          2.9,
          3.0160527421151633,
          3.069911993664739,
          2.6713949724517896,
          2.9000082706145065,
          2.668057009692999
         ],
         "yaxis": "y"
        },
        {
         "connectgaps": false,
         "hovertemplate": "fnid=AF2017A107<br>indicator=production<br>year=%{x}<br>value=%{y}<extra></extra>",
         "legendgroup": "AF2017A107",
         "line": {
          "color": "#FF6692",
          "dash": "solid"
         },
         "marker": {
          "symbol": "circle"
         },
         "mode": "markers+lines",
         "name": "AF2017A107",
         "showlegend": true,
         "type": "scattergl",
         "x": [
          2002,
          2003,
          2004,
          2005,
          2006,
          2007,
          2008,
          2009,
          2010,
          2011,
          2012,
          2013,
          2014,
          2015,
          2016,
          2017,
          2018,
          2019,
          2020,
          2021,
          2022
         ],
         "xaxis": "x3",
         "y": [
          36000,
          39000,
          32000,
          35000,
          39000,
          34000,
          41000,
          49000,
          53000,
          58000,
          42000,
          52000,
          44000,
          46050,
          42280,
          33092.450999999994,
          46288,
          51613,
          45705.81078282828,
          27940,
          28072
         ],
         "yaxis": "y3"
        },
        {
         "connectgaps": false,
         "hovertemplate": "fnid=AF2017A107<br>indicator=area<br>year=%{x}<br>value=%{y}<extra></extra>",
         "legendgroup": "AF2017A107",
         "line": {
          "color": "#FF6692",
          "dash": "solid"
         },
         "marker": {
          "symbol": "circle"
         },
         "mode": "markers+lines",
         "name": "AF2017A107",
         "showlegend": false,
         "type": "scattergl",
         "x": [
          2002,
          2003,
          2004,
          2005,
          2006,
          2007,
          2008,
          2009,
          2010,
          2011,
          2012,
          2013,
          2014,
          2015,
          2016,
          2017,
          2018,
          2019,
          2020,
          2021,
          2022
         ],
         "xaxis": "x2",
         "y": [
          14000,
          14000,
          14000,
          14000,
          14000,
          13000,
          13000,
          14000,
          15000,
          15000,
          14000,
          14000,
          13000,
          12830,
          16200,
          12679.1,
          16517,
          16123.000000000002,
          16730,
          10746,
          10905
         ],
         "yaxis": "y2"
        },
        {
         "connectgaps": false,
         "hovertemplate": "fnid=AF2017A107<br>indicator=yield<br>year=%{x}<br>value=%{y}<extra></extra>",
         "legendgroup": "AF2017A107",
         "line": {
          "color": "#FF6692",
          "dash": "solid"
         },
         "marker": {
          "symbol": "circle"
         },
         "mode": "markers+lines",
         "name": "AF2017A107",
         "showlegend": false,
         "type": "scattergl",
         "x": [
          2002,
          2003,
          2004,
          2005,
          2006,
          2007,
          2008,
          2009,
          2010,
          2011,
          2012,
          2013,
          2014,
          2015,
          2016,
          2017,
          2018,
          2019,
          2020,
          2021,
          2022
         ],
         "xaxis": "x",
         "y": [
          2.5714285714285716,
          2.7857142857142856,
          2.2857142857142856,
          2.5,
          2.7857142857142856,
          2.6153846153846154,
          3.1538461538461537,
          3.5,
          3.533333333333333,
          3.8666666666666663,
          3,
          3.7142857142857144,
          3.3846153846153846,
          3.589243959469992,
          2.6098765432098765,
          2.609999999999999,
          2.802445964763577,
          3.2012032500155057,
          2.7319671717171716,
          2.600037223152801,
          2.574232003668042
         ],
         "yaxis": "y"
        },
        {
         "connectgaps": false,
         "hovertemplate": "fnid=AF2017A108<br>indicator=production<br>year=%{x}<br>value=%{y}<extra></extra>",
         "legendgroup": "AF2017A108",
         "line": {
          "color": "#B6E880",
          "dash": "solid"
         },
         "marker": {
          "symbol": "circle"
         },
         "mode": "markers+lines",
         "name": "AF2017A108",
         "showlegend": true,
         "type": "scattergl",
         "x": [
          2002,
          2003,
          2004,
          2005,
          2006,
          2007,
          2008,
          2009,
          2010,
          2011,
          2012,
          2013,
          2014,
          2015,
          2016,
          2017,
          2018,
          2019,
          2020,
          2021,
          2022
         ],
         "xaxis": "x3",
         "y": [
          0,
          0,
          0,
          0,
          18000,
          16000,
          11000,
          21000,
          21000,
          23000,
          22000,
          23000,
          13000,
          10500,
          10340,
          8996.400000000001,
          12820,
          17142,
          22463.608705018934,
          23810,
          9065
         ],
         "yaxis": "y3"
        },
        {
         "connectgaps": false,
         "hovertemplate": "fnid=AF2017A108<br>indicator=area<br>year=%{x}<br>value=%{y}<extra></extra>",
         "legendgroup": "AF2017A108",
         "line": {
          "color": "#B6E880",
          "dash": "solid"
         },
         "marker": {
          "symbol": "circle"
         },
         "mode": "markers+lines",
         "name": "AF2017A108",
         "showlegend": false,
         "type": "scattergl",
         "x": [
          2002,
          2003,
          2004,
          2005,
          2006,
          2007,
          2008,
          2009,
          2010,
          2011,
          2012,
          2013,
          2014,
          2015,
          2016,
          2017,
          2018,
          2019,
          2020,
          2021,
          2022
         ],
         "xaxis": "x2",
         "y": [
          0,
          0,
          0,
          0,
          6000,
          6000,
          5000,
          7000,
          7000,
          7000,
          7000,
          7000,
          6000,
          6080,
          5070,
          4410,
          6410,
          7591,
          7017,
          7003,
          3018
         ],
         "yaxis": "y2"
        },
        {
         "connectgaps": false,
         "hovertemplate": "fnid=AF2017A108<br>indicator=yield<br>year=%{x}<br>value=%{y}<extra></extra>",
         "legendgroup": "AF2017A108",
         "line": {
          "color": "#B6E880",
          "dash": "solid"
         },
         "marker": {
          "symbol": "circle"
         },
         "mode": "markers+lines",
         "name": "AF2017A108",
         "showlegend": false,
         "type": "scattergl",
         "x": [
          2002,
          2003,
          2004,
          2005,
          2006,
          2007,
          2008,
          2009,
          2010,
          2011,
          2012,
          2013,
          2014,
          2015,
          2016,
          2017,
          2018,
          2019,
          2020,
          2021,
          2022
         ],
         "xaxis": "x",
         "y": [
          0,
          0,
          null,
          0,
          3,
          2.6666666666666665,
          2.2,
          3,
          3,
          3.2857142857142856,
          3.142857142857143,
          3.2857142857142856,
          2.1666666666666665,
          1.7269736842105263,
          2.0394477317554243,
          2.0400000000000005,
          2,
          2.258200500592807,
          3.2013123421717165,
          3.399971440811081,
          3.0036447978793905
         ],
         "yaxis": "y"
        },
        {
         "connectgaps": false,
         "hovertemplate": "fnid=AF2017A109<br>indicator=production<br>year=%{x}<br>value=%{y}<extra></extra>",
         "legendgroup": "AF2017A109",
         "line": {
          "color": "#FF97FF",
          "dash": "solid"
         },
         "marker": {
          "symbol": "circle"
         },
         "mode": "markers+lines",
         "name": "AF2017A109",
         "showlegend": true,
         "type": "scattergl",
         "x": [
          2002,
          2003,
          2004,
          2005,
          2006,
          2007,
          2008,
          2009,
          2010,
          2011,
          2012,
          2013,
          2014,
          2015,
          2016,
          2017,
          2018,
          2019,
          2020,
          2021,
          2022
         ],
         "xaxis": "x3",
         "y": [
          70000,
          194000,
          98000,
          135000,
          129000,
          151000,
          97000,
          142000,
          123000,
          143000,
          165000,
          185000,
          149000,
          132250,
          134160,
          182903,
          163297,
          204638,
          165776.47000000003,
          189014,
          181423
         ],
         "yaxis": "y3"
        },
        {
         "connectgaps": false,
         "hovertemplate": "fnid=AF2017A109<br>indicator=area<br>year=%{x}<br>value=%{y}<extra></extra>",
         "legendgroup": "AF2017A109",
         "line": {
          "color": "#FF97FF",
          "dash": "solid"
         },
         "marker": {
          "symbol": "circle"
         },
         "mode": "markers+lines",
         "name": "AF2017A109",
         "showlegend": false,
         "type": "scattergl",
         "x": [
          2002,
          2003,
          2004,
          2005,
          2006,
          2007,
          2008,
          2009,
          2010,
          2011,
          2012,
          2013,
          2014,
          2015,
          2016,
          2017,
          2018,
          2019,
          2020,
          2021,
          2022
         ],
         "xaxis": "x2",
         "y": [
          35000,
          52000,
          50000,
          54000,
          54000,
          54000,
          52000,
          57000,
          56000,
          59000,
          50000,
          50000,
          50000,
          47390,
          50060,
          63070,
          60480,
          71027,
          56579,
          54004,
          53225
         ],
         "yaxis": "y2"
        },
        {
         "connectgaps": false,
         "hovertemplate": "fnid=AF2017A109<br>indicator=yield<br>year=%{x}<br>value=%{y}<extra></extra>",
         "legendgroup": "AF2017A109",
         "line": {
          "color": "#FF97FF",
          "dash": "solid"
         },
         "marker": {
          "symbol": "circle"
         },
         "mode": "markers+lines",
         "name": "AF2017A109",
         "showlegend": false,
         "type": "scattergl",
         "x": [
          2002,
          2003,
          2004,
          2005,
          2006,
          2007,
          2008,
          2009,
          2010,
          2011,
          2012,
          2013,
          2014,
          2015,
          2016,
          2017,
          2018,
          2019,
          2020,
          2021,
          2022
         ],
         "xaxis": "x",
         "y": [
          2,
          3.730769230769231,
          1.96,
          2.5,
          2.388888888888889,
          2.7962962962962963,
          1.8653846153846152,
          2.491228070175439,
          2.1964285714285716,
          2.4237288135593222,
          3.3,
          3.7,
          2.98,
          2.7906731377927834,
          2.6799840191769877,
          2.9,
          2.7000165343915343,
          2.881129711236572,
          2.9300000000000006,
          3.5,
          3.408604978863316
         ],
         "yaxis": "y"
        },
        {
         "connectgaps": false,
         "hovertemplate": "fnid=AF2017A110<br>indicator=production<br>year=%{x}<br>value=%{y}<extra></extra>",
         "legendgroup": "AF2017A110",
         "line": {
          "color": "#FECB52",
          "dash": "solid"
         },
         "marker": {
          "symbol": "circle"
         },
         "mode": "markers+lines",
         "name": "AF2017A110",
         "showlegend": true,
         "type": "scattergl",
         "x": [
          2002,
          2003,
          2004,
          2005,
          2006,
          2007,
          2008,
          2009,
          2010,
          2011,
          2012,
          2013,
          2014,
          2015,
          2016,
          2017,
          2018,
          2019,
          2020,
          2021,
          2022
         ],
         "xaxis": "x3",
         "y": [
          43000,
          34000,
          31000,
          29000,
          35000,
          29000,
          32000,
          41000,
          34000,
          25000,
          24000,
          19000,
          92000,
          62590,
          57020,
          71443.89,
          66536,
          82036,
          102329.4,
          78165,
          36558
         ],
         "yaxis": "y3"
        },
        {
         "connectgaps": false,
         "hovertemplate": "fnid=AF2017A110<br>indicator=area<br>year=%{x}<br>value=%{y}<extra></extra>",
         "legendgroup": "AF2017A110",
         "line": {
          "color": "#FECB52",
          "dash": "solid"
         },
         "marker": {
          "symbol": "circle"
         },
         "mode": "markers+lines",
         "name": "AF2017A110",
         "showlegend": false,
         "type": "scattergl",
         "x": [
          2002,
          2003,
          2004,
          2005,
          2006,
          2007,
          2008,
          2009,
          2010,
          2011,
          2012,
          2013,
          2014,
          2015,
          2016,
          2017,
          2018,
          2019,
          2020,
          2021,
          2022
         ],
         "xaxis": "x2",
         "y": [
          24000,
          17000,
          15000,
          13000,
          17000,
          13000,
          12000,
          15000,
          13000,
          12000,
          12000,
          12000,
          31000,
          30000,
          30150,
          37801,
          35204,
          31468,
          35286,
          26055,
          13678
         ],
         "yaxis": "y2"
        },
        {
         "connectgaps": false,
         "hovertemplate": "fnid=AF2017A110<br>indicator=yield<br>year=%{x}<br>value=%{y}<extra></extra>",
         "legendgroup": "AF2017A110",
         "line": {
          "color": "#FECB52",
          "dash": "solid"
         },
         "marker": {
          "symbol": "circle"
         },
         "mode": "markers+lines",
         "name": "AF2017A110",
         "showlegend": false,
         "type": "scattergl",
         "x": [
          2002,
          2003,
          2004,
          2005,
          2006,
          2007,
          2008,
          2009,
          2010,
          2011,
          2012,
          2013,
          2014,
          2015,
          2016,
          2017,
          2018,
          2019,
          2020,
          2021,
          2022
         ],
         "xaxis": "x",
         "y": [
          1.7916666666666667,
          2,
          2.066666666666667,
          2.230769230769231,
          2.0588235294117645,
          2.230769230769231,
          2.6666666666666665,
          2.7333333333333334,
          2.6153846153846154,
          2.0833333333333335,
          2,
          1.5833333333333333,
          2.967741935483871,
          2.086333333333333,
          1.8912106135986733,
          1.89,
          1.8900124985797069,
          2.6069658065336214,
          2.9000000000000004,
          3,
          2.672759175318029
         ],
         "yaxis": "y"
        },
        {
         "connectgaps": false,
         "hovertemplate": "fnid=AF2017A111<br>indicator=production<br>year=%{x}<br>value=%{y}<extra></extra>",
         "legendgroup": "AF2017A111",
         "line": {
          "color": "#636efa",
          "dash": "solid"
         },
         "marker": {
          "symbol": "circle"
         },
         "mode": "markers+lines",
         "name": "AF2017A111",
         "showlegend": true,
         "type": "scattergl",
         "x": [
          2002,
          2003,
          2004,
          2005,
          2006,
          2007,
          2008,
          2009,
          2010,
          2011,
          2012,
          2013,
          2014,
          2015,
          2016,
          2017,
          2018,
          2019,
          2020,
          2021,
          2022
         ],
         "xaxis": "x3",
         "y": [
          46000,
          181000,
          65000,
          146000,
          138000,
          135000,
          127000,
          186000,
          180000,
          144000,
          157000,
          203000,
          192000,
          154340,
          191430,
          184176.72000000003,
          313987,
          260346,
          257868,
          140359,
          172171
         ],
         "yaxis": "y3"
        },
        {
         "connectgaps": false,
         "hovertemplate": "fnid=AF2017A111<br>indicator=area<br>year=%{x}<br>value=%{y}<extra></extra>",
         "legendgroup": "AF2017A111",
         "line": {
          "color": "#636efa",
          "dash": "solid"
         },
         "marker": {
          "symbol": "circle"
         },
         "mode": "markers+lines",
         "name": "AF2017A111",
         "showlegend": false,
         "type": "scattergl",
         "x": [
          2002,
          2003,
          2004,
          2005,
          2006,
          2007,
          2008,
          2009,
          2010,
          2011,
          2012,
          2013,
          2014,
          2015,
          2016,
          2017,
          2018,
          2019,
          2020,
          2021,
          2022
         ],
         "xaxis": "x2",
         "y": [
          20000,
          56000,
          39000,
          56000,
          56000,
          54000,
          41000,
          60000,
          58000,
          58000,
          58000,
          58000,
          77000,
          74050,
          88620,
          85267,
          113569,
          107676,
          132240,
          82564,
          69606
         ],
         "yaxis": "y2"
        },
        {
         "connectgaps": false,
         "hovertemplate": "fnid=AF2017A111<br>indicator=yield<br>year=%{x}<br>value=%{y}<extra></extra>",
         "legendgroup": "AF2017A111",
         "line": {
          "color": "#636efa",
          "dash": "solid"
         },
         "marker": {
          "symbol": "circle"
         },
         "mode": "markers+lines",
         "name": "AF2017A111",
         "showlegend": false,
         "type": "scattergl",
         "x": [
          2002,
          2003,
          2004,
          2005,
          2006,
          2007,
          2008,
          2009,
          2010,
          2011,
          2012,
          2013,
          2014,
          2015,
          2016,
          2017,
          2018,
          2019,
          2020,
          2021,
          2022
         ],
         "xaxis": "x",
         "y": [
          2.3,
          3.232142857142857,
          1.6666666666666667,
          2.607142857142857,
          2.4642857142857144,
          2.5,
          3.097560975609756,
          3.1,
          3.103448275862069,
          2.4827586206896552,
          2.706896551724138,
          3.5,
          2.4935064935064934,
          2.084267386900742,
          2.1601218686526744,
          2.16,
          2.7647245287006137,
          2.4178647052267914,
          1.95,
          1.7000024223632575,
          2.473508030916875
         ],
         "yaxis": "y"
        },
        {
         "connectgaps": false,
         "hovertemplate": "fnid=AF2017A112<br>indicator=production<br>year=%{x}<br>value=%{y}<extra></extra>",
         "legendgroup": "AF2017A112",
         "line": {
          "color": "#EF553B",
          "dash": "solid"
         },
         "marker": {
          "symbol": "circle"
         },
         "mode": "markers+lines",
         "name": "AF2017A112",
         "showlegend": true,
         "type": "scattergl",
         "x": [
          2002,
          2003,
          2004,
          2005,
          2006,
          2007,
          2008,
          2009,
          2010,
          2011,
          2012,
          2013,
          2014,
          2015,
          2016,
          2017,
          2018,
          2019,
          2020,
          2021,
          2022
         ],
         "xaxis": "x3",
         "y": [
          3000,
          53000,
          20000,
          42000,
          37000,
          38000,
          39000,
          53000,
          49000,
          69000,
          62000,
          57000,
          106000,
          106000,
          107550,
          55932.35,
          78044,
          141501,
          71688.75375420881,
          39367,
          69801
         ],
         "yaxis": "y3"
        },
        {
         "connectgaps": false,
         "hovertemplate": "fnid=AF2017A112<br>indicator=area<br>year=%{x}<br>value=%{y}<extra></extra>",
         "legendgroup": "AF2017A112",
         "line": {
          "color": "#EF553B",
          "dash": "solid"
         },
         "marker": {
          "symbol": "circle"
         },
         "mode": "markers+lines",
         "name": "AF2017A112",
         "showlegend": false,
         "type": "scattergl",
         "x": [
          2002,
          2003,
          2004,
          2005,
          2006,
          2007,
          2008,
          2009,
          2010,
          2011,
          2012,
          2013,
          2014,
          2015,
          2016,
          2017,
          2018,
          2019,
          2020,
          2021,
          2022
         ],
         "xaxis": "x2",
         "y": [
          2000,
          16000,
          14000,
          16000,
          16000,
          15000,
          14000,
          15000,
          14000,
          16000,
          15000,
          30000,
          42000,
          42400,
          45800,
          23801,
          27873,
          49901,
          41968,
          30282,
          34421
         ],
         "yaxis": "y2"
        },
        {
         "connectgaps": false,
         "hovertemplate": "fnid=AF2017A112<br>indicator=yield<br>year=%{x}<br>value=%{y}<extra></extra>",
         "legendgroup": "AF2017A112",
         "line": {
          "color": "#EF553B",
          "dash": "solid"
         },
         "marker": {
          "symbol": "circle"
         },
         "mode": "markers+lines",
         "name": "AF2017A112",
         "showlegend": false,
         "type": "scattergl",
         "x": [
          2002,
          2003,
          2004,
          2005,
          2006,
          2007,
          2008,
          2009,
          2010,
          2011,
          2012,
          2013,
          2014,
          2015,
          2016,
          2017,
          2018,
          2019,
          2020,
          2021,
          2022
         ],
         "xaxis": "x",
         "y": [
          1.5,
          3.3125,
          1.4285714285714286,
          2.625,
          2.3125,
          2.533333333333333,
          2.7857142857142856,
          3.533333333333333,
          3.5,
          4.3125,
          4.133333333333334,
          1.9,
          2.5238095238095237,
          2.5,
          2.3482532751091703,
          2.35,
          2.799985649194561,
          2.835634556421715,
          1.7081765572390586,
          1.300013209167162,
          2.027860898869876
         ],
         "yaxis": "y"
        },
        {
         "connectgaps": false,
         "hovertemplate": "fnid=AF2017A113<br>indicator=production<br>year=%{x}<br>value=%{y}<extra></extra>",
         "legendgroup": "AF2017A113",
         "line": {
          "color": "#00cc96",
          "dash": "solid"
         },
         "marker": {
          "symbol": "circle"
         },
         "mode": "markers+lines",
         "name": "AF2017A113",
         "showlegend": true,
         "type": "scattergl",
         "x": [
          2002,
          2003,
          2004,
          2005,
          2006,
          2007,
          2008,
          2009,
          2010,
          2011,
          2012,
          2013,
          2014,
          2015,
          2016,
          2017,
          2018,
          2019,
          2020,
          2021,
          2022
         ],
         "xaxis": "x3",
         "y": [
          8000,
          54000,
          22000,
          47000,
          42000,
          51000,
          54000,
          74000,
          53000,
          52000,
          70000,
          43000,
          56000,
          54320,
          54390,
          80991.9474,
          61490,
          80335,
          48532.86378733764,
          36363,
          44028
         ],
         "yaxis": "y3"
        },
        {
         "connectgaps": false,
         "hovertemplate": "fnid=AF2017A113<br>indicator=area<br>year=%{x}<br>value=%{y}<extra></extra>",
         "legendgroup": "AF2017A113",
         "line": {
          "color": "#00cc96",
          "dash": "solid"
         },
         "marker": {
          "symbol": "circle"
         },
         "mode": "markers+lines",
         "name": "AF2017A113",
         "showlegend": false,
         "type": "scattergl",
         "x": [
          2002,
          2003,
          2004,
          2005,
          2006,
          2007,
          2008,
          2009,
          2010,
          2011,
          2012,
          2013,
          2014,
          2015,
          2016,
          2017,
          2018,
          2019,
          2020,
          2021,
          2022
         ],
         "xaxis": "x2",
         "y": [
          6000,
          18000,
          18000,
          18000,
          18000,
          17000,
          16000,
          22000,
          21000,
          20000,
          20000,
          20000,
          20000,
          20200,
          22660,
          34030.23,
          25621,
          31276,
          26297,
          15810,
          19273
         ],
         "yaxis": "y2"
        },
        {
         "connectgaps": false,
         "hovertemplate": "fnid=AF2017A113<br>indicator=yield<br>year=%{x}<br>value=%{y}<extra></extra>",
         "legendgroup": "AF2017A113",
         "line": {
          "color": "#00cc96",
          "dash": "solid"
         },
         "marker": {
          "symbol": "circle"
         },
         "mode": "markers+lines",
         "name": "AF2017A113",
         "showlegend": false,
         "type": "scattergl",
         "x": [
          2002,
          2003,
          2004,
          2005,
          2006,
          2007,
          2008,
          2009,
          2010,
          2011,
          2012,
          2013,
          2014,
          2015,
          2016,
          2017,
          2018,
          2019,
          2020,
          2021,
          2022
         ],
         "xaxis": "x",
         "y": [
          1.3333333333333333,
          3,
          1.2222222222222223,
          2.611111111111111,
          2.3333333333333335,
          3,
          3.375,
          3.363636363636364,
          2.5238095238095237,
          2.6,
          3.5,
          2.15,
          2.8,
          2.6891089108910893,
          2.40026478375993,
          2.38,
          2.399984387806877,
          2.5685829389947563,
          1.8455665584415577,
          2.3,
          2.2844393711409743
         ],
         "yaxis": "y"
        },
        {
         "connectgaps": false,
         "hovertemplate": "fnid=AF2017A114<br>indicator=production<br>year=%{x}<br>value=%{y}<extra></extra>",
         "legendgroup": "AF2017A114",
         "line": {
          "color": "#ab63fa",
          "dash": "solid"
         },
         "marker": {
          "symbol": "circle"
         },
         "mode": "markers+lines",
         "name": "AF2017A114",
         "showlegend": true,
         "type": "scattergl",
         "x": [
          2002,
          2003,
          2004,
          2005,
          2006,
          2007,
          2008,
          2009,
          2010,
          2011,
          2012,
          2013,
          2014,
          2015,
          2016,
          2017,
          2018,
          2019,
          2020,
          2021,
          2022
         ],
         "xaxis": "x3",
         "y": [
          30000,
          33000,
          26000,
          30000,
          29000,
          30000,
          27000,
          42000,
          43000,
          62000,
          58000,
          46000,
          45000,
          50830,
          89770,
          75108.4828805398,
          93419,
          90281,
          83268.27076136363,
          57160,
          68166
         ],
         "yaxis": "y3"
        },
        {
         "connectgaps": false,
         "hovertemplate": "fnid=AF2017A114<br>indicator=area<br>year=%{x}<br>value=%{y}<extra></extra>",
         "legendgroup": "AF2017A114",
         "line": {
          "color": "#ab63fa",
          "dash": "solid"
         },
         "marker": {
          "symbol": "circle"
         },
         "mode": "markers+lines",
         "name": "AF2017A114",
         "showlegend": false,
         "type": "scattergl",
         "x": [
          2002,
          2003,
          2004,
          2005,
          2006,
          2007,
          2008,
          2009,
          2010,
          2011,
          2012,
          2013,
          2014,
          2015,
          2016,
          2017,
          2018,
          2019,
          2020,
          2021,
          2022
         ],
         "xaxis": "x2",
         "y": [
          16000,
          13000,
          17000,
          12000,
          12000,
          12000,
          13000,
          12000,
          14000,
          16000,
          14000,
          14000,
          17000,
          17160,
          28960,
          29915.4,
          30597,
          31323,
          33298,
          28580,
          29783
         ],
         "yaxis": "y2"
        },
        {
         "connectgaps": false,
         "hovertemplate": "fnid=AF2017A114<br>indicator=yield<br>year=%{x}<br>value=%{y}<extra></extra>",
         "legendgroup": "AF2017A114",
         "line": {
          "color": "#ab63fa",
          "dash": "solid"
         },
         "marker": {
          "symbol": "circle"
         },
         "mode": "markers+lines",
         "name": "AF2017A114",
         "showlegend": false,
         "type": "scattergl",
         "x": [
          2002,
          2003,
          2004,
          2005,
          2006,
          2007,
          2008,
          2009,
          2010,
          2011,
          2012,
          2013,
          2014,
          2015,
          2016,
          2017,
          2018,
          2019,
          2020,
          2021,
          2022
         ],
         "xaxis": "x",
         "y": [
          1.875,
          2.5384615384615383,
          1.5294117647058822,
          2.5,
          2.4166666666666665,
          2.5,
          2.076923076923077,
          3.5,
          3.0714285714285716,
          3.875,
          4.142857142857143,
          3.2857142857142856,
          2.6470588235294117,
          2.962121212121212,
          3.099792817679558,
          2.5106962594696975,
          3.053207830833088,
          2.882259042875842,
          2.5006988636363636,
          2,
          2.2887553302219388
         ],
         "yaxis": "y"
        },
        {
         "connectgaps": false,
         "hovertemplate": "fnid=AF2017A116<br>indicator=production<br>year=%{x}<br>value=%{y}<extra></extra>",
         "legendgroup": "AF2017A116",
         "line": {
          "color": "#FFA15A",
          "dash": "solid"
         },
         "marker": {
          "symbol": "circle"
         },
         "mode": "markers+lines",
         "name": "AF2017A116",
         "showlegend": true,
         "type": "scattergl",
         "x": [
          2002,
          2003,
          2004,
          2005,
          2006,
          2007,
          2008,
          2009,
          2010,
          2011,
          2012,
          2013,
          2014,
          2015,
          2016,
          2017,
          2018,
          2019,
          2020,
          2021,
          2022
         ],
         "xaxis": "x3",
         "y": [
          0,
          2000,
          2000,
          2000,
          4000,
          3000,
          3000,
          15000,
          13000,
          12000,
          16000,
          18000,
          61000,
          15930,
          9730,
          10728.249000000002,
          13198,
          12731,
          23052.050000000007,
          16695,
          20478
         ],
         "yaxis": "y3"
        },
        {
         "connectgaps": false,
         "hovertemplate": "fnid=AF2017A116<br>indicator=area<br>year=%{x}<br>value=%{y}<extra></extra>",
         "legendgroup": "AF2017A116",
         "line": {
          "color": "#FFA15A",
          "dash": "solid"
         },
         "marker": {
          "symbol": "circle"
         },
         "mode": "markers+lines",
         "name": "AF2017A116",
         "showlegend": false,
         "type": "scattergl",
         "x": [
          2002,
          2003,
          2004,
          2005,
          2006,
          2007,
          2008,
          2009,
          2010,
          2011,
          2012,
          2013,
          2014,
          2015,
          2016,
          2017,
          2018,
          2019,
          2020,
          2021,
          2022
         ],
         "xaxis": "x2",
         "y": [
          0,
          1100,
          1000,
          1000,
          2000,
          1000,
          1000,
          6000,
          6000,
          6000,
          6000,
          6000,
          16000,
          9000,
          4630,
          5108.6900000000005,
          7629,
          6759,
          9409,
          7950,
          8050.000000000001
         ],
         "yaxis": "y2"
        },
        {
         "connectgaps": false,
         "hovertemplate": "fnid=AF2017A116<br>indicator=yield<br>year=%{x}<br>value=%{y}<extra></extra>",
         "legendgroup": "AF2017A116",
         "line": {
          "color": "#FFA15A",
          "dash": "solid"
         },
         "marker": {
          "symbol": "circle"
         },
         "mode": "markers+lines",
         "name": "AF2017A116",
         "showlegend": false,
         "type": "scattergl",
         "x": [
          2002,
          2003,
          2004,
          2005,
          2006,
          2007,
          2008,
          2009,
          2010,
          2011,
          2012,
          2013,
          2014,
          2015,
          2016,
          2017,
          2018,
          2019,
          2020,
          2021,
          2022
         ],
         "xaxis": "x",
         "y": [
          0,
          1.818181818181818,
          2,
          2,
          2,
          3,
          3,
          2.5,
          2.1666666666666665,
          2,
          2.6666666666666665,
          3,
          3.8125,
          1.77,
          2.101511879049676,
          2.1,
          1.7299777166076813,
          1.8835626571978104,
          2.4500000000000006,
          2.1,
          2.543850931677018
         ],
         "yaxis": "y"
        },
        {
         "connectgaps": false,
         "hovertemplate": "fnid=AF2017A117<br>indicator=production<br>year=%{x}<br>value=%{y}<extra></extra>",
         "legendgroup": "AF2017A117",
         "line": {
          "color": "#19d3f3",
          "dash": "solid"
         },
         "marker": {
          "symbol": "circle"
         },
         "mode": "markers+lines",
         "name": "AF2017A117",
         "showlegend": true,
         "type": "scattergl",
         "x": [
          2002,
          2003,
          2004,
          2005,
          2006,
          2007,
          2008,
          2009,
          2010,
          2011,
          2012,
          2013,
          2014,
          2015,
          2016,
          2017,
          2018,
          2019,
          2020,
          2021,
          2022
         ],
         "xaxis": "x3",
         "y": [
          48000,
          68000,
          50000,
          63000,
          60000,
          63000,
          55000,
          63000,
          50000,
          50000,
          58000,
          73000,
          66000,
          90310,
          77850,
          12837.100000000002,
          40477,
          37520,
          38562.91918791173,
          30325,
          28308
         ],
         "yaxis": "y3"
        },
        {
         "connectgaps": false,
         "hovertemplate": "fnid=AF2017A117<br>indicator=area<br>year=%{x}<br>value=%{y}<extra></extra>",
         "legendgroup": "AF2017A117",
         "line": {
          "color": "#19d3f3",
          "dash": "solid"
         },
         "marker": {
          "symbol": "circle"
         },
         "mode": "markers+lines",
         "name": "AF2017A117",
         "showlegend": false,
         "type": "scattergl",
         "x": [
          2002,
          2003,
          2004,
          2005,
          2006,
          2007,
          2008,
          2009,
          2010,
          2011,
          2012,
          2013,
          2014,
          2015,
          2016,
          2017,
          2018,
          2019,
          2020,
          2021,
          2022
         ],
         "xaxis": "x2",
         "y": [
          24000,
          25000,
          24000,
          25000,
          25000,
          25000,
          27000,
          25000,
          24000,
          24000,
          28000,
          29000,
          39000,
          37460,
          48260,
          6355,
          17310,
          20373,
          20756,
          20216,
          16091.999999999998
         ],
         "yaxis": "y2"
        },
        {
         "connectgaps": false,
         "hovertemplate": "fnid=AF2017A117<br>indicator=yield<br>year=%{x}<br>value=%{y}<extra></extra>",
         "legendgroup": "AF2017A117",
         "line": {
          "color": "#19d3f3",
          "dash": "solid"
         },
         "marker": {
          "symbol": "circle"
         },
         "mode": "markers+lines",
         "name": "AF2017A117",
         "showlegend": false,
         "type": "scattergl",
         "x": [
          2002,
          2003,
          2004,
          2005,
          2006,
          2007,
          2008,
          2009,
          2010,
          2011,
          2012,
          2013,
          2014,
          2015,
          2016,
          2017,
          2018,
          2019,
          2020,
          2021,
          2022
         ],
         "xaxis": "x",
         "y": [
          2,
          2.72,
          2.0833333333333335,
          2.52,
          2.4,
          2.52,
          2.037037037037037,
          2.52,
          2.0833333333333335,
          2.0833333333333335,
          2.0714285714285716,
          2.5172413793103448,
          1.6923076923076923,
          2.4108382274426052,
          1.6131371736427684,
          2.0200000000000005,
          2.338359329867129,
          1.841653168409169,
          1.8579167078392624,
          1.5000494657696877,
          1.7591349739000748
         ],
         "yaxis": "y"
        },
        {
         "connectgaps": false,
         "hovertemplate": "fnid=AF2017A118<br>indicator=production<br>year=%{x}<br>value=%{y}<extra></extra>",
         "legendgroup": "AF2017A118",
         "line": {
          "color": "#FF6692",
          "dash": "solid"
         },
         "marker": {
          "symbol": "circle"
         },
         "mode": "markers+lines",
         "name": "AF2017A118",
         "showlegend": true,
         "type": "scattergl",
         "x": [
          2002,
          2003,
          2004,
          2005,
          2006,
          2007,
          2008,
          2009,
          2010,
          2011,
          2012,
          2013,
          2014,
          2015,
          2016,
          2017,
          2018,
          2019,
          2020,
          2021,
          2022
         ],
         "xaxis": "x3",
         "y": [
          154000,
          134000,
          120000,
          130000,
          124000,
          130000,
          108000,
          159000,
          150000,
          185000,
          211000,
          241000,
          229000,
          149590,
          179200,
          179092.1911238302,
          167365,
          187981,
          199656.11,
          154291,
          173373
         ],
         "yaxis": "y3"
        },
        {
         "connectgaps": false,
         "hovertemplate": "fnid=AF2017A118<br>indicator=area<br>year=%{x}<br>value=%{y}<extra></extra>",
         "legendgroup": "AF2017A118",
         "line": {
          "color": "#FF6692",
          "dash": "solid"
         },
         "marker": {
          "symbol": "circle"
         },
         "mode": "markers+lines",
         "name": "AF2017A118",
         "showlegend": false,
         "type": "scattergl",
         "x": [
          2002,
          2003,
          2004,
          2005,
          2006,
          2007,
          2008,
          2009,
          2010,
          2011,
          2012,
          2013,
          2014,
          2015,
          2016,
          2017,
          2018,
          2019,
          2020,
          2021,
          2022
         ],
         "xaxis": "x2",
         "y": [
          70000,
          48000,
          50000,
          50000,
          50000,
          50000,
          46000,
          48000,
          50000,
          51000,
          64000,
          65000,
          65000,
          56440,
          70000,
          59559,
          66111,
          60477,
          62983,
          44083,
          50374
         ],
         "yaxis": "y2"
        },
        {
         "connectgaps": false,
         "hovertemplate": "fnid=AF2017A118<br>indicator=yield<br>year=%{x}<br>value=%{y}<extra></extra>",
         "legendgroup": "AF2017A118",
         "line": {
          "color": "#FF6692",
          "dash": "solid"
         },
         "marker": {
          "symbol": "circle"
         },
         "mode": "markers+lines",
         "name": "AF2017A118",
         "showlegend": false,
         "type": "scattergl",
         "x": [
          2002,
          2003,
          2004,
          2005,
          2006,
          2007,
          2008,
          2009,
          2010,
          2011,
          2012,
          2013,
          2014,
          2015,
          2016,
          2017,
          2018,
          2019,
          2020,
          2021,
          2022
         ],
         "xaxis": "x",
         "y": [
          2.2,
          2.7916666666666665,
          2.4,
          2.6,
          2.48,
          2.6,
          2.347826086956522,
          3.3125,
          3,
          3.627450980392157,
          3.296875,
          3.707692307692308,
          3.523076923076923,
          2.6504252303330973,
          2.56,
          3.0069710895721924,
          2.5315756833204763,
          3.10830563685368,
          3.17,
          3.5000113422407733,
          3.4417159645849047
         ],
         "yaxis": "y"
        },
        {
         "connectgaps": false,
         "hovertemplate": "fnid=AF2017A119<br>indicator=production<br>year=%{x}<br>value=%{y}<extra></extra>",
         "legendgroup": "AF2017A119",
         "line": {
          "color": "#B6E880",
          "dash": "solid"
         },
         "marker": {
          "symbol": "circle"
         },
         "mode": "markers+lines",
         "name": "AF2017A119",
         "showlegend": true,
         "type": "scattergl",
         "x": [
          2002,
          2003,
          2004,
          2005,
          2006,
          2007,
          2008,
          2009,
          2010,
          2011,
          2012,
          2013,
          2014,
          2015,
          2016,
          2017,
          2018,
          2019,
          2020,
          2021,
          2022
         ],
         "xaxis": "x3",
         "y": [
          180000,
          336000,
          198000,
          233000,
          238000,
          237000,
          163000,
          275000,
          246000,
          217000,
          315000,
          307000,
          481000,
          390260,
          284280,
          361236.4,
          285292,
          352253,
          276361.89519545453,
          394258,
          360951
         ],
         "yaxis": "y3"
        },
        {
         "connectgaps": false,
         "hovertemplate": "fnid=AF2017A119<br>indicator=area<br>year=%{x}<br>value=%{y}<extra></extra>",
         "legendgroup": "AF2017A119",
         "line": {
          "color": "#B6E880",
          "dash": "solid"
         },
         "marker": {
          "symbol": "circle"
         },
         "mode": "markers+lines",
         "name": "AF2017A119",
         "showlegend": false,
         "type": "scattergl",
         "x": [
          2002,
          2003,
          2004,
          2005,
          2006,
          2007,
          2008,
          2009,
          2010,
          2011,
          2012,
          2013,
          2014,
          2015,
          2016,
          2017,
          2018,
          2019,
          2020,
          2021,
          2022
         ],
         "xaxis": "x2",
         "y": [
          75000,
          100000,
          85000,
          93000,
          100000,
          91000,
          88000,
          91000,
          88000,
          86000,
          85000,
          85000,
          142000,
          144480,
          130400,
          129013,
          125404,
          126841,
          118945,
          112645,
          103895
         ],
         "yaxis": "y2"
        },
        {
         "connectgaps": false,
         "hovertemplate": "fnid=AF2017A119<br>indicator=yield<br>year=%{x}<br>value=%{y}<extra></extra>",
         "legendgroup": "AF2017A119",
         "line": {
          "color": "#B6E880",
          "dash": "solid"
         },
         "marker": {
          "symbol": "circle"
         },
         "mode": "markers+lines",
         "name": "AF2017A119",
         "showlegend": false,
         "type": "scattergl",
         "x": [
          2002,
          2003,
          2004,
          2005,
          2006,
          2007,
          2008,
          2009,
          2010,
          2011,
          2012,
          2013,
          2014,
          2015,
          2016,
          2017,
          2018,
          2019,
          2020,
          2021,
          2022
         ],
         "xaxis": "x",
         "y": [
          2.4,
          3.36,
          2.3294117647058825,
          2.5053763440860215,
          2.38,
          2.6043956043956045,
          1.8522727272727273,
          3.021978021978022,
          2.7954545454545454,
          2.5232558139534884,
          3.7058823529411766,
          3.611764705882353,
          3.387323943661972,
          2.7011351052048727,
          2.1800613496932515,
          2.8000000000000003,
          2.2749832541226755,
          2.7771225392420433,
          2.3234427272727274,
          3.500004438723423,
          3.4741902882718128
         ],
         "yaxis": "y"
        },
        {
         "connectgaps": false,
         "hovertemplate": "fnid=AF2017A120<br>indicator=production<br>year=%{x}<br>value=%{y}<extra></extra>",
         "legendgroup": "AF2017A120",
         "line": {
          "color": "#FF97FF",
          "dash": "solid"
         },
         "marker": {
          "symbol": "circle"
         },
         "mode": "markers+lines",
         "name": "AF2017A120",
         "showlegend": true,
         "type": "scattergl",
         "x": [
          2002,
          2003,
          2004,
          2005,
          2006,
          2007,
          2008,
          2009,
          2010,
          2011,
          2012,
          2013,
          2014,
          2015,
          2016,
          2017,
          2018,
          2019,
          2020,
          2021,
          2022
         ],
         "xaxis": "x3",
         "y": [
          47000,
          42000,
          40000,
          42000,
          40000,
          40000,
          26000,
          35000,
          31000,
          17000,
          38000,
          23000,
          26000,
          22190,
          36910,
          20032.5,
          23285,
          22238,
          12591.476769570709,
          11094,
          15784
         ],
         "yaxis": "y3"
        },
        {
         "connectgaps": false,
         "hovertemplate": "fnid=AF2017A120<br>indicator=area<br>year=%{x}<br>value=%{y}<extra></extra>",
         "legendgroup": "AF2017A120",
         "line": {
          "color": "#FF97FF",
          "dash": "solid"
         },
         "marker": {
          "symbol": "circle"
         },
         "mode": "markers+lines",
         "name": "AF2017A120",
         "showlegend": false,
         "type": "scattergl",
         "x": [
          2002,
          2003,
          2004,
          2005,
          2006,
          2007,
          2008,
          2009,
          2010,
          2011,
          2012,
          2013,
          2014,
          2015,
          2016,
          2017,
          2018,
          2019,
          2020,
          2021,
          2022
         ],
         "xaxis": "x2",
         "y": [
          26000,
          12000,
          12000,
          16000,
          16000,
          16000,
          13000,
          14000,
          14000,
          13000,
          13000,
          12000,
          11000,
          9500,
          11530,
          8013,
          12936,
          10777,
          5443,
          5547,
          7420
         ],
         "yaxis": "y2"
        },
        {
         "connectgaps": false,
         "hovertemplate": "fnid=AF2017A120<br>indicator=yield<br>year=%{x}<br>value=%{y}<extra></extra>",
         "legendgroup": "AF2017A120",
         "line": {
          "color": "#FF97FF",
          "dash": "solid"
         },
         "marker": {
          "symbol": "circle"
         },
         "mode": "markers+lines",
         "name": "AF2017A120",
         "showlegend": false,
         "type": "scattergl",
         "x": [
          2002,
          2003,
          2004,
          2005,
          2006,
          2007,
          2008,
          2009,
          2010,
          2011,
          2012,
          2013,
          2014,
          2015,
          2016,
          2017,
          2018,
          2019,
          2020,
          2021,
          2022
         ],
         "xaxis": "x",
         "y": [
          1.8076923076923077,
          3.5,
          3.3333333333333335,
          2.625,
          2.5,
          2.5,
          2,
          2.5,
          2.2142857142857144,
          1.3076923076923077,
          2.923076923076923,
          1.9166666666666667,
          2.363636363636364,
          2.33578947368421,
          3.2012142237640937,
          2.5,
          1.8000154607297465,
          2.06346849772664,
          2.313333964646465,
          2,
          2.1272237196765498
         ],
         "yaxis": "y"
        },
        {
         "connectgaps": false,
         "hovertemplate": "fnid=AF2017A121<br>indicator=production<br>year=%{x}<br>value=%{y}<extra></extra>",
         "legendgroup": "AF2017A121",
         "line": {
          "color": "#FECB52",
          "dash": "solid"
         },
         "marker": {
          "symbol": "circle"
         },
         "mode": "markers+lines",
         "name": "AF2017A121",
         "showlegend": true,
         "type": "scattergl",
         "x": [
          2002,
          2003,
          2004,
          2005,
          2006,
          2007,
          2008,
          2009,
          2010,
          2011,
          2012,
          2013,
          2014,
          2015,
          2016,
          2017,
          2018,
          2019,
          2020,
          2021,
          2022
         ],
         "xaxis": "x3",
         "y": [
          160000,
          247000,
          190000,
          223000,
          207000,
          228000,
          147000,
          228000,
          251000,
          158000,
          244000,
          270000,
          266000,
          274400,
          190460,
          102772.944,
          109733,
          133865,
          145412.80000000002,
          172629,
          150950
         ],
         "yaxis": "y3"
        },
        {
         "connectgaps": false,
         "hovertemplate": "fnid=AF2017A121<br>indicator=area<br>year=%{x}<br>value=%{y}<extra></extra>",
         "legendgroup": "AF2017A121",
         "line": {
          "color": "#FECB52",
          "dash": "solid"
         },
         "marker": {
          "symbol": "circle"
         },
         "mode": "markers+lines",
         "name": "AF2017A121",
         "showlegend": false,
         "type": "scattergl",
         "x": [
          2002,
          2003,
          2004,
          2005,
          2006,
          2007,
          2008,
          2009,
          2010,
          2011,
          2012,
          2013,
          2014,
          2015,
          2016,
          2017,
          2018,
          2019,
          2020,
          2021,
          2022
         ],
         "xaxis": "x2",
         "y": [
          80000,
          79000,
          78000,
          89000,
          87000,
          87000,
          82000,
          89000,
          95000,
          100000,
          87000,
          87000,
          95000,
          96000,
          90270,
          41424,
          50699,
          56643,
          55928,
          57543,
          60710
         ],
         "yaxis": "y2"
        },
        {
         "connectgaps": false,
         "hovertemplate": "fnid=AF2017A121<br>indicator=yield<br>year=%{x}<br>value=%{y}<extra></extra>",
         "legendgroup": "AF2017A121",
         "line": {
          "color": "#FECB52",
          "dash": "solid"
         },
         "marker": {
          "symbol": "circle"
         },
         "mode": "markers+lines",
         "name": "AF2017A121",
         "showlegend": false,
         "type": "scattergl",
         "x": [
          2002,
          2003,
          2004,
          2005,
          2006,
          2007,
          2008,
          2009,
          2010,
          2011,
          2012,
          2013,
          2014,
          2015,
          2016,
          2017,
          2018,
          2019,
          2020,
          2021,
          2022
         ],
         "xaxis": "x",
         "y": [
          2,
          3.1265822784810124,
          2.4358974358974357,
          2.50561797752809,
          2.3793103448275863,
          2.6206896551724137,
          1.7926829268292683,
          2.561797752808989,
          2.642105263157895,
          1.58,
          2.8045977011494254,
          3.103448275862069,
          2.8,
          2.8583333333333334,
          2.109892544588457,
          2.481,
          2.164401664727115,
          2.363310559115866,
          2.6000000000000005,
          3,
          2.486410805468622
         ],
         "yaxis": "y"
        },
        {
         "connectgaps": false,
         "hovertemplate": "fnid=AF2017A122<br>indicator=production<br>year=%{x}<br>value=%{y}<extra></extra>",
         "legendgroup": "AF2017A122",
         "line": {
          "color": "#636efa",
          "dash": "solid"
         },
         "marker": {
          "symbol": "circle"
         },
         "mode": "markers+lines",
         "name": "AF2017A122",
         "showlegend": true,
         "type": "scattergl",
         "x": [
          2002,
          2003,
          2004,
          2005,
          2006,
          2007,
          2008,
          2009,
          2010,
          2011,
          2012,
          2013,
          2014,
          2015,
          2016,
          2017,
          2018,
          2019,
          2020,
          2021,
          2022
         ],
         "xaxis": "x3",
         "y": [
          51000,
          55000,
          42000,
          63000,
          58000,
          66000,
          48000,
          68000,
          68000,
          47000,
          76000,
          109000,
          66000,
          52260,
          37360,
          14007.24,
          39854,
          63717,
          58116.96145661157,
          48614,
          26083
         ],
         "yaxis": "y3"
        },
        {
         "connectgaps": false,
         "hovertemplate": "fnid=AF2017A122<br>indicator=area<br>year=%{x}<br>value=%{y}<extra></extra>",
         "legendgroup": "AF2017A122",
         "line": {
          "color": "#636efa",
          "dash": "solid"
         },
         "marker": {
          "symbol": "circle"
         },
         "mode": "markers+lines",
         "name": "AF2017A122",
         "showlegend": false,
         "type": "scattergl",
         "x": [
          2002,
          2003,
          2004,
          2005,
          2006,
          2007,
          2008,
          2009,
          2010,
          2011,
          2012,
          2013,
          2014,
          2015,
          2016,
          2017,
          2018,
          2019,
          2020,
          2021,
          2022
         ],
         "xaxis": "x2",
         "y": [
          30000,
          26000,
          25000,
          25000,
          25000,
          25000,
          23000,
          26000,
          27000,
          31000,
          25000,
          33000,
          28000,
          26590,
          24000,
          8979,
          18978,
          34444,
          23064,
          22097,
          12276
         ],
         "yaxis": "y2"
        },
        {
         "connectgaps": false,
         "hovertemplate": "fnid=AF2017A122<br>indicator=yield<br>year=%{x}<br>value=%{y}<extra></extra>",
         "legendgroup": "AF2017A122",
         "line": {
          "color": "#636efa",
          "dash": "solid"
         },
         "marker": {
          "symbol": "circle"
         },
         "mode": "markers+lines",
         "name": "AF2017A122",
         "showlegend": false,
         "type": "scattergl",
         "x": [
          2002,
          2003,
          2004,
          2005,
          2006,
          2007,
          2008,
          2009,
          2010,
          2011,
          2012,
          2013,
          2014,
          2015,
          2016,
          2017,
          2018,
          2019,
          2020,
          2021,
          2022
         ],
         "xaxis": "x",
         "y": [
          1.7,
          2.1153846153846154,
          1.68,
          2.52,
          2.32,
          2.64,
          2.0869565217391304,
          2.6153846153846154,
          2.5185185185185186,
          1.5161290322580645,
          3.04,
          3.303030303030303,
          2.357142857142857,
          1.9654005265137269,
          1.5566666666666666,
          1.56,
          2.1000105385182843,
          1.849872256416212,
          2.5198127582644627,
          2.200027153007196,
          2.124714890843923
         ],
         "yaxis": "y"
        },
        {
         "connectgaps": false,
         "hovertemplate": "fnid=AF2017A123<br>indicator=production<br>year=%{x}<br>value=%{y}<extra></extra>",
         "legendgroup": "AF2017A123",
         "line": {
          "color": "#EF553B",
          "dash": "solid"
         },
         "marker": {
          "symbol": "circle"
         },
         "mode": "markers+lines",
         "name": "AF2017A123",
         "showlegend": true,
         "type": "scattergl",
         "x": [
          2002,
          2003,
          2004,
          2005,
          2006,
          2007,
          2008,
          2009,
          2010,
          2011,
          2012,
          2013,
          2014,
          2015,
          2016,
          2017,
          2018,
          2019,
          2020,
          2021,
          2022
         ],
         "xaxis": "x3",
         "y": [
          44000,
          30000,
          30000,
          44000,
          42000,
          55000,
          38000,
          80000,
          70000,
          69000,
          58000,
          26000,
          77000,
          67640,
          34430,
          23609.7,
          43430,
          55204,
          30476,
          22545,
          33481
         ],
         "yaxis": "y3"
        },
        {
         "connectgaps": false,
         "hovertemplate": "fnid=AF2017A123<br>indicator=area<br>year=%{x}<br>value=%{y}<extra></extra>",
         "legendgroup": "AF2017A123",
         "line": {
          "color": "#EF553B",
          "dash": "solid"
         },
         "marker": {
          "symbol": "circle"
         },
         "mode": "markers+lines",
         "name": "AF2017A123",
         "showlegend": false,
         "type": "scattergl",
         "x": [
          2002,
          2003,
          2004,
          2005,
          2006,
          2007,
          2008,
          2009,
          2010,
          2011,
          2012,
          2013,
          2014,
          2015,
          2016,
          2017,
          2018,
          2019,
          2020,
          2021,
          2022
         ],
         "xaxis": "x2",
         "y": [
          26000,
          18000,
          18000,
          22000,
          22000,
          22000,
          17000,
          25000,
          26000,
          26000,
          24000,
          24000,
          32000,
          35600,
          38300,
          26233,
          36192,
          29490,
          38095,
          22545,
          20650
         ],
         "yaxis": "y2"
        },
        {
         "connectgaps": false,
         "hovertemplate": "fnid=AF2017A123<br>indicator=yield<br>year=%{x}<br>value=%{y}<extra></extra>",
         "legendgroup": "AF2017A123",
         "line": {
          "color": "#EF553B",
          "dash": "solid"
         },
         "marker": {
          "symbol": "circle"
         },
         "mode": "markers+lines",
         "name": "AF2017A123",
         "showlegend": false,
         "type": "scattergl",
         "x": [
          2002,
          2003,
          2004,
          2005,
          2006,
          2007,
          2008,
          2009,
          2010,
          2011,
          2012,
          2013,
          2014,
          2015,
          2016,
          2017,
          2018,
          2019,
          2020,
          2021,
          2022
         ],
         "xaxis": "x",
         "y": [
          1.6923076923076923,
          1.6666666666666667,
          1.6666666666666667,
          2,
          1.9090909090909092,
          2.5,
          2.235294117647059,
          3.2,
          2.6923076923076925,
          2.6538461538461537,
          2.4166666666666665,
          1.0833333333333333,
          2.40625,
          1.9,
          0.8989556135770235,
          0.9,
          1.1999889478337755,
          1.8719565954560868,
          0.8,
          1,
          1.62135593220339
         ],
         "yaxis": "y"
        },
        {
         "connectgaps": false,
         "hovertemplate": "fnid=AF2017A124<br>indicator=production<br>year=%{x}<br>value=%{y}<extra></extra>",
         "legendgroup": "AF2017A124",
         "line": {
          "color": "#00cc96",
          "dash": "solid"
         },
         "marker": {
          "symbol": "circle"
         },
         "mode": "markers+lines",
         "name": "AF2017A124",
         "showlegend": true,
         "type": "scattergl",
         "x": [
          2002,
          2003,
          2004,
          2005,
          2006,
          2007,
          2008,
          2009,
          2010,
          2011,
          2012,
          2013,
          2014,
          2015,
          2016,
          2017,
          2018,
          2019,
          2020,
          2021,
          2022
         ],
         "xaxis": "x3",
         "y": [
          0,
          0,
          0,
          0,
          14000,
          13000,
          14000,
          26000,
          23000,
          21000,
          22000,
          17000,
          67000,
          43610,
          42380,
          78165.41180000002,
          35228,
          75711,
          123259.22501960633,
          58722,
          50406
         ],
         "yaxis": "y3"
        },
        {
         "connectgaps": false,
         "hovertemplate": "fnid=AF2017A124<br>indicator=area<br>year=%{x}<br>value=%{y}<extra></extra>",
         "legendgroup": "AF2017A124",
         "line": {
          "color": "#00cc96",
          "dash": "solid"
         },
         "marker": {
          "symbol": "circle"
         },
         "mode": "markers+lines",
         "name": "AF2017A124",
         "showlegend": false,
         "type": "scattergl",
         "x": [
          2002,
          2003,
          2004,
          2005,
          2006,
          2007,
          2008,
          2009,
          2010,
          2011,
          2012,
          2013,
          2014,
          2015,
          2016,
          2017,
          2018,
          2019,
          2020,
          2021,
          2022
         ],
         "xaxis": "x2",
         "y": [
          0,
          0,
          0,
          0,
          6000,
          5000,
          5000,
          10000,
          10000,
          10000,
          10000,
          10000,
          27000,
          28240,
          19930,
          38386,
          33214,
          42474,
          43710,
          23968,
          23164
         ],
         "yaxis": "y2"
        },
        {
         "connectgaps": false,
         "hovertemplate": "fnid=AF2017A124<br>indicator=yield<br>year=%{x}<br>value=%{y}<extra></extra>",
         "legendgroup": "AF2017A124",
         "line": {
          "color": "#00cc96",
          "dash": "solid"
         },
         "marker": {
          "symbol": "circle"
         },
         "mode": "markers+lines",
         "name": "AF2017A124",
         "showlegend": false,
         "type": "scattergl",
         "x": [
          2002,
          2003,
          2004,
          2005,
          2006,
          2007,
          2008,
          2009,
          2010,
          2011,
          2012,
          2013,
          2014,
          2015,
          2016,
          2017,
          2018,
          2019,
          2020,
          2021,
          2022
         ],
         "xaxis": "x",
         "y": [
          0,
          0,
          0,
          0,
          2.3333333333333335,
          2.6,
          2.8,
          2.6,
          2.3,
          2.1,
          2.2,
          1.7,
          2.4814814814814814,
          1.5442634560906516,
          2.1264425489212244,
          2.0363,
          1.0606370807490817,
          1.7825257804774686,
          2.8199319382202312,
          2.450016688918558,
          2.176049041616301
         ],
         "yaxis": "y"
        },
        {
         "connectgaps": false,
         "hovertemplate": "fnid=AF2017A125<br>indicator=production<br>year=%{x}<br>value=%{y}<extra></extra>",
         "legendgroup": "AF2017A125",
         "line": {
          "color": "#ab63fa",
          "dash": "solid"
         },
         "marker": {
          "symbol": "circle"
         },
         "mode": "markers+lines",
         "name": "AF2017A125",
         "showlegend": true,
         "type": "scattergl",
         "x": [
          2002,
          2003,
          2004,
          2005,
          2006,
          2007,
          2008,
          2009,
          2010,
          2011,
          2012,
          2013,
          2014,
          2015,
          2016,
          2017,
          2018,
          2019,
          2020,
          2021,
          2022
         ],
         "xaxis": "x3",
         "y": [
          18000,
          83000,
          16000,
          86000,
          72000,
          71000,
          59000,
          71000,
          63000,
          61000,
          61000,
          49000,
          71000,
          67500,
          45770,
          46916.4608,
          60293,
          85454,
          52709.39719096453,
          77023,
          90173
         ],
         "yaxis": "y3"
        },
        {
         "connectgaps": false,
         "hovertemplate": "fnid=AF2017A125<br>indicator=area<br>year=%{x}<br>value=%{y}<extra></extra>",
         "legendgroup": "AF2017A125",
         "line": {
          "color": "#ab63fa",
          "dash": "solid"
         },
         "marker": {
          "symbol": "circle"
         },
         "mode": "markers+lines",
         "name": "AF2017A125",
         "showlegend": false,
         "type": "scattergl",
         "x": [
          2002,
          2003,
          2004,
          2005,
          2006,
          2007,
          2008,
          2009,
          2010,
          2011,
          2012,
          2013,
          2014,
          2015,
          2016,
          2017,
          2018,
          2019,
          2020,
          2021,
          2022
         ],
         "xaxis": "x2",
         "y": [
          15000,
          31000,
          16000,
          33000,
          29000,
          27000,
          26000,
          27000,
          26000,
          25000,
          26000,
          24000,
          32000,
          22500,
          20810,
          21325.664,
          19141,
          32267.000000000004,
          29857,
          30809,
          34358
         ],
         "yaxis": "y2"
        },
        {
         "connectgaps": false,
         "hovertemplate": "fnid=AF2017A125<br>indicator=yield<br>year=%{x}<br>value=%{y}<extra></extra>",
         "legendgroup": "AF2017A125",
         "line": {
          "color": "#ab63fa",
          "dash": "solid"
         },
         "marker": {
          "symbol": "circle"
         },
         "mode": "markers+lines",
         "name": "AF2017A125",
         "showlegend": false,
         "type": "scattergl",
         "x": [
          2002,
          2003,
          2004,
          2005,
          2006,
          2007,
          2008,
          2009,
          2010,
          2011,
          2012,
          2013,
          2014,
          2015,
          2016,
          2017,
          2018,
          2019,
          2020,
          2021,
          2022
         ],
         "xaxis": "x",
         "y": [
          1.2,
          2.6774193548387095,
          1,
          2.606060606060606,
          2.4827586206896552,
          2.6296296296296298,
          2.269230769230769,
          2.6296296296296298,
          2.423076923076923,
          2.44,
          2.3461538461538463,
          2.0416666666666665,
          2.21875,
          3,
          2.1994233541566555,
          2.2,
          3.1499399195444333,
          2.648340409706511,
          1.7653949556541024,
          2.5000162290239865,
          2.624512486174981
         ],
         "yaxis": "y"
        },
        {
         "connectgaps": false,
         "hovertemplate": "fnid=AF2017A126<br>indicator=production<br>year=%{x}<br>value=%{y}<extra></extra>",
         "legendgroup": "AF2017A126",
         "line": {
          "color": "#FFA15A",
          "dash": "solid"
         },
         "marker": {
          "symbol": "circle"
         },
         "mode": "markers+lines",
         "name": "AF2017A126",
         "showlegend": true,
         "type": "scattergl",
         "x": [
          2002,
          2003,
          2004,
          2005,
          2006,
          2007,
          2008,
          2009,
          2010,
          2011,
          2012,
          2013,
          2014,
          2015,
          2016,
          2017,
          2018,
          2019,
          2020,
          2021,
          2022
         ],
         "xaxis": "x3",
         "y": [
          48000,
          28000,
          12000,
          30000,
          31000,
          36000,
          30000,
          44000,
          44000,
          44000,
          49000,
          47000,
          32000,
          31500,
          35550,
          37386.5088,
          64271,
          125920,
          72968.50258792847,
          25669,
          32438.000000000004
         ],
         "yaxis": "y3"
        },
        {
         "connectgaps": false,
         "hovertemplate": "fnid=AF2017A126<br>indicator=area<br>year=%{x}<br>value=%{y}<extra></extra>",
         "legendgroup": "AF2017A126",
         "line": {
          "color": "#FFA15A",
          "dash": "solid"
         },
         "marker": {
          "symbol": "circle"
         },
         "mode": "markers+lines",
         "name": "AF2017A126",
         "showlegend": false,
         "type": "scattergl",
         "x": [
          2002,
          2003,
          2004,
          2005,
          2006,
          2007,
          2008,
          2009,
          2010,
          2011,
          2012,
          2013,
          2014,
          2015,
          2016,
          2017,
          2018,
          2019,
          2020,
          2021,
          2022
         ],
         "xaxis": "x2",
         "y": [
          30000,
          11000,
          10000,
          12000,
          13000,
          12000,
          10000,
          17000,
          18000,
          18000,
          21000,
          18000,
          11000,
          10500,
          18500,
          19472.14,
          29994,
          51279,
          41631,
          16043,
          18096
         ],
         "yaxis": "y2"
        },
        {
         "connectgaps": false,
         "hovertemplate": "fnid=AF2017A126<br>indicator=yield<br>year=%{x}<br>value=%{y}<extra></extra>",
         "legendgroup": "AF2017A126",
         "line": {
          "color": "#FFA15A",
          "dash": "solid"
         },
         "marker": {
          "symbol": "circle"
         },
         "mode": "markers+lines",
         "name": "AF2017A126",
         "showlegend": false,
         "type": "scattergl",
         "x": [
          2002,
          2003,
          2004,
          2005,
          2006,
          2007,
          2008,
          2009,
          2010,
          2011,
          2012,
          2013,
          2014,
          2015,
          2016,
          2017,
          2018,
          2019,
          2020,
          2021,
          2022
         ],
         "xaxis": "x",
         "y": [
          1.6,
          2.5454545454545454,
          1.2,
          2.5,
          2.3846153846153846,
          3,
          3,
          2.588235294117647,
          2.4444444444444446,
          2.4444444444444446,
          2.3333333333333335,
          2.611111111111111,
          2.909090909090909,
          3,
          1.9216216216216215,
          1.92,
          2.1427952257118092,
          2.4555861073733887,
          1.7527444113263786,
          1.6000124664962911,
          1.7925508399646333
         ],
         "yaxis": "y"
        },
        {
         "connectgaps": false,
         "hovertemplate": "fnid=AF2017A127<br>indicator=production<br>year=%{x}<br>value=%{y}<extra></extra>",
         "legendgroup": "AF2017A127",
         "line": {
          "color": "#19d3f3",
          "dash": "solid"
         },
         "marker": {
          "symbol": "circle"
         },
         "mode": "markers+lines",
         "name": "AF2017A127",
         "showlegend": true,
         "type": "scattergl",
         "x": [
          2002,
          2003,
          2004,
          2005,
          2006,
          2007,
          2008,
          2009,
          2010,
          2011,
          2012,
          2013,
          2014,
          2015,
          2016,
          2017,
          2018,
          2019,
          2020,
          2021,
          2022
         ],
         "xaxis": "x3",
         "y": [
          68000,
          65000,
          44500,
          57000,
          56500,
          67500,
          66500,
          77000,
          78500,
          82000,
          80000,
          97000,
          120500,
          89290,
          132325,
          116022.97,
          92219,
          192949.5,
          202824.20775711205,
          134392.5,
          199448.5
         ],
         "yaxis": "y3"
        },
        {
         "connectgaps": false,
         "hovertemplate": "fnid=AF2017A127<br>indicator=area<br>year=%{x}<br>value=%{y}<extra></extra>",
         "legendgroup": "AF2017A127",
         "line": {
          "color": "#19d3f3",
          "dash": "solid"
         },
         "marker": {
          "symbol": "circle"
         },
         "mode": "markers+lines",
         "name": "AF2017A127",
         "showlegend": false,
         "type": "scattergl",
         "x": [
          2002,
          2003,
          2004,
          2005,
          2006,
          2007,
          2008,
          2009,
          2010,
          2011,
          2012,
          2013,
          2014,
          2015,
          2016,
          2017,
          2018,
          2019,
          2020,
          2021,
          2022
         ],
         "xaxis": "x2",
         "y": [
          34000,
          23500,
          25500,
          23500,
          23500,
          23000,
          25000,
          26500,
          27000,
          27500,
          27500,
          27500,
          37000,
          29750,
          53570,
          42616.9,
          31608.5,
          69873.5,
          71283,
          56149.5,
          57409.5
         ],
         "yaxis": "y2"
        },
        {
         "connectgaps": false,
         "hovertemplate": "fnid=AF2017A127<br>indicator=yield<br>year=%{x}<br>value=%{y}<extra></extra>",
         "legendgroup": "AF2017A127",
         "line": {
          "color": "#19d3f3",
          "dash": "solid"
         },
         "marker": {
          "symbol": "circle"
         },
         "mode": "markers+lines",
         "name": "AF2017A127",
         "showlegend": false,
         "type": "scattergl",
         "x": [
          2002,
          2003,
          2004,
          2005,
          2006,
          2007,
          2008,
          2009,
          2010,
          2011,
          2012,
          2013,
          2014,
          2015,
          2016,
          2017,
          2018,
          2019,
          2020,
          2021,
          2022
         ],
         "xaxis": "x",
         "y": [
          2,
          2.4615384615384617,
          1.544871794871795,
          2.2564102564102564,
          2.4423076923076925,
          2.8125,
          2.8482142857142856,
          2.8672161172161172,
          2.867857142857143,
          3.0083333333333337,
          2.9155052264808363,
          3.5418118466898956,
          3.6333333333333333,
          3.067498084291188,
          2.400307476302104,
          2.75,
          2.903606163204461,
          2.8741278370337278,
          2.764850855880558,
          2.5999890962251992,
          3.374589407322704
         ],
         "yaxis": "y"
        },
        {
         "connectgaps": false,
         "hovertemplate": "fnid=AF2017A128<br>indicator=production<br>year=%{x}<br>value=%{y}<extra></extra>",
         "legendgroup": "AF2017A128",
         "line": {
          "color": "#FF6692",
          "dash": "solid"
         },
         "marker": {
          "symbol": "circle"
         },
         "mode": "markers+lines",
         "name": "AF2017A128",
         "showlegend": true,
         "type": "scattergl",
         "x": [
          2002,
          2003,
          2004,
          2005,
          2006,
          2007,
          2008,
          2009,
          2010,
          2011,
          2012,
          2013,
          2014,
          2015,
          2016,
          2017,
          2018,
          2019,
          2020,
          2021,
          2022
         ],
         "xaxis": "x3",
         "y": [
          52000,
          112000,
          75000,
          125000,
          117000,
          131000,
          64000,
          121000,
          109000,
          79000,
          138000,
          97000,
          65000,
          90860,
          55540,
          71944.96280569783,
          53728,
          117304,
          99625.9323850379,
          41582,
          34959
         ],
         "yaxis": "y3"
        },
        {
         "connectgaps": false,
         "hovertemplate": "fnid=AF2017A128<br>indicator=area<br>year=%{x}<br>value=%{y}<extra></extra>",
         "legendgroup": "AF2017A128",
         "line": {
          "color": "#FF6692",
          "dash": "solid"
         },
         "marker": {
          "symbol": "circle"
         },
         "mode": "markers+lines",
         "name": "AF2017A128",
         "showlegend": false,
         "type": "scattergl",
         "x": [
          2002,
          2003,
          2004,
          2005,
          2006,
          2007,
          2008,
          2009,
          2010,
          2011,
          2012,
          2013,
          2014,
          2015,
          2016,
          2017,
          2018,
          2019,
          2020,
          2021,
          2022
         ],
         "xaxis": "x2",
         "y": [
          38000,
          41000,
          35000,
          50000,
          50000,
          50000,
          38000,
          46000,
          46000,
          37000,
          55000,
          48000,
          50000,
          48480,
          35380,
          38040,
          31028,
          68028,
          54134,
          27721,
          26703
         ],
         "yaxis": "y2"
        },
        {
         "connectgaps": false,
         "hovertemplate": "fnid=AF2017A128<br>indicator=yield<br>year=%{x}<br>value=%{y}<extra></extra>",
         "legendgroup": "AF2017A128",
         "line": {
          "color": "#FF6692",
          "dash": "solid"
         },
         "marker": {
          "symbol": "circle"
         },
         "mode": "markers+lines",
         "name": "AF2017A128",
         "showlegend": false,
         "type": "scattergl",
         "x": [
          2002,
          2003,
          2004,
          2005,
          2006,
          2007,
          2008,
          2009,
          2010,
          2011,
          2012,
          2013,
          2014,
          2015,
          2016,
          2017,
          2018,
          2019,
          2020,
          2021,
          2022
         ],
         "xaxis": "x",
         "y": [
          1.368421052631579,
          2.731707317073171,
          2.142857142857143,
          2.5,
          2.34,
          2.62,
          1.6842105263157894,
          2.630434782608696,
          2.369565217391304,
          2.135135135135135,
          2.5090909090909093,
          2.0208333333333335,
          1.3,
          1.8741749174917492,
          1.5698134539287734,
          1.89129765524968,
          1.731597266984659,
          1.7243487975539484,
          1.840357859848485,
          1.5000180368673568,
          1.3091787439613527
         ],
         "yaxis": "y"
        },
        {
         "connectgaps": false,
         "hovertemplate": "fnid=AF2017A129<br>indicator=production<br>year=%{x}<br>value=%{y}<extra></extra>",
         "legendgroup": "AF2017A129",
         "line": {
          "color": "#B6E880",
          "dash": "solid"
         },
         "marker": {
          "symbol": "circle"
         },
         "mode": "markers+lines",
         "name": "AF2017A129",
         "showlegend": true,
         "type": "scattergl",
         "x": [
          2002,
          2003,
          2004,
          2005,
          2006,
          2007,
          2008,
          2009,
          2010,
          2011,
          2012,
          2013,
          2014,
          2015,
          2016,
          2017,
          2018,
          2019,
          2020,
          2021,
          2022
         ],
         "xaxis": "x3",
         "y": [
          139000,
          91000,
          85000,
          110000,
          140000,
          110000,
          79000,
          114000,
          89000,
          63000,
          88000,
          69000,
          73000,
          109910,
          131500,
          145730.39999999997,
          19467,
          86885,
          94291.76,
          37298,
          46904
         ],
         "yaxis": "y3"
        },
        {
         "connectgaps": false,
         "hovertemplate": "fnid=AF2017A129<br>indicator=area<br>year=%{x}<br>value=%{y}<extra></extra>",
         "legendgroup": "AF2017A129",
         "line": {
          "color": "#B6E880",
          "dash": "solid"
         },
         "marker": {
          "symbol": "circle"
         },
         "mode": "markers+lines",
         "name": "AF2017A129",
         "showlegend": false,
         "type": "scattergl",
         "x": [
          2002,
          2003,
          2004,
          2005,
          2006,
          2007,
          2008,
          2009,
          2010,
          2011,
          2012,
          2013,
          2014,
          2015,
          2016,
          2017,
          2018,
          2019,
          2020,
          2021,
          2022
         ],
         "xaxis": "x2",
         "y": [
          87000,
          59000,
          58000,
          44000,
          59000,
          42000,
          39000,
          43000,
          35000,
          33000,
          33000,
          33000,
          73000,
          50180,
          60000,
          60721,
          21804,
          54980,
          40643,
          31082,
          38060
         ],
         "yaxis": "y2"
        },
        {
         "connectgaps": false,
         "hovertemplate": "fnid=AF2017A129<br>indicator=yield<br>year=%{x}<br>value=%{y}<extra></extra>",
         "legendgroup": "AF2017A129",
         "line": {
          "color": "#B6E880",
          "dash": "solid"
         },
         "marker": {
          "symbol": "circle"
         },
         "mode": "markers+lines",
         "name": "AF2017A129",
         "showlegend": false,
         "type": "scattergl",
         "x": [
          2002,
          2003,
          2004,
          2005,
          2006,
          2007,
          2008,
          2009,
          2010,
          2011,
          2012,
          2013,
          2014,
          2015,
          2016,
          2017,
          2018,
          2019,
          2020,
          2021,
          2022
         ],
         "xaxis": "x",
         "y": [
          1.5977011494252873,
          1.5423728813559323,
          1.4655172413793105,
          2.5,
          2.3728813559322033,
          2.619047619047619,
          2.0256410256410255,
          2.6511627906976742,
          2.5428571428571427,
          1.9090909090909092,
          2.6666666666666665,
          2.090909090909091,
          1,
          2.1903148664806698,
          2.191666666666667,
          2.3999999999999995,
          0.8928178315905339,
          1.5803019279738086,
          2.32,
          1.1999871308152628,
          1.2323699421965315
         ],
         "yaxis": "y"
        },
        {
         "connectgaps": false,
         "hovertemplate": "fnid=AF2017A130<br>indicator=production<br>year=%{x}<br>value=%{y}<extra></extra>",
         "legendgroup": "AF2017A130",
         "line": {
          "color": "#FF97FF",
          "dash": "solid"
         },
         "marker": {
          "symbol": "circle"
         },
         "mode": "markers+lines",
         "name": "AF2017A130",
         "showlegend": true,
         "type": "scattergl",
         "x": [
          2002,
          2003,
          2004,
          2005,
          2006,
          2007,
          2008,
          2009,
          2010,
          2011,
          2012,
          2013,
          2014,
          2015,
          2016,
          2017,
          2018,
          2019,
          2020,
          2021,
          2022
         ],
         "xaxis": "x3",
         "y": [
          164000,
          211000,
          122000,
          213000,
          202000,
          225000,
          245000,
          223000,
          193000,
          222000,
          274000,
          308000,
          239000,
          345630,
          487500,
          504800.1,
          407540,
          354100,
          337193.99999999994,
          404467,
          808668
         ],
         "yaxis": "y3"
        },
        {
         "connectgaps": false,
         "hovertemplate": "fnid=AF2017A130<br>indicator=area<br>year=%{x}<br>value=%{y}<extra></extra>",
         "legendgroup": "AF2017A130",
         "line": {
          "color": "#FF97FF",
          "dash": "solid"
         },
         "marker": {
          "symbol": "circle"
         },
         "mode": "markers+lines",
         "name": "AF2017A130",
         "showlegend": false,
         "type": "scattergl",
         "x": [
          2002,
          2003,
          2004,
          2005,
          2006,
          2007,
          2008,
          2009,
          2010,
          2011,
          2012,
          2013,
          2014,
          2015,
          2016,
          2017,
          2018,
          2019,
          2020,
          2021,
          2022
         ],
         "xaxis": "x2",
         "y": [
          63000,
          74000,
          74000,
          80000,
          80000,
          75000,
          71000,
          73000,
          74000,
          85000,
          98000,
          98000,
          103000,
          98750,
          125000,
          144228.6,
          113522,
          88739,
          112398,
          115562,
          224630
         ],
         "yaxis": "y2"
        },
        {
         "connectgaps": false,
         "hovertemplate": "fnid=AF2017A130<br>indicator=yield<br>year=%{x}<br>value=%{y}<extra></extra>",
         "legendgroup": "AF2017A130",
         "line": {
          "color": "#FF97FF",
          "dash": "solid"
         },
         "marker": {
          "symbol": "circle"
         },
         "mode": "markers+lines",
         "name": "AF2017A130",
         "showlegend": false,
         "type": "scattergl",
         "x": [
          2002,
          2003,
          2004,
          2005,
          2006,
          2007,
          2008,
          2009,
          2010,
          2011,
          2012,
          2013,
          2014,
          2015,
          2016,
          2017,
          2018,
          2019,
          2020,
          2021,
          2022
         ],
         "xaxis": "x",
         "y": [
          2.6031746031746033,
          2.8513513513513513,
          1.648648648648649,
          2.6625,
          2.525,
          3,
          3.4507042253521125,
          3.0547945205479454,
          2.608108108108108,
          2.611764705882353,
          2.795918367346939,
          3.142857142857143,
          2.320388349514563,
          3.5000506329113925,
          3.9,
          3.4999999999999996,
          3.589964940716337,
          3.9903537339839303,
          2.9999999999999996,
          3.5,
          3.6
         ],
         "yaxis": "y"
        },
        {
         "connectgaps": false,
         "hovertemplate": "fnid=AF2017A131<br>indicator=production<br>year=%{x}<br>value=%{y}<extra></extra>",
         "legendgroup": "AF2017A131",
         "line": {
          "color": "#FECB52",
          "dash": "solid"
         },
         "marker": {
          "symbol": "circle"
         },
         "mode": "markers+lines",
         "name": "AF2017A131",
         "showlegend": true,
         "type": "scattergl",
         "x": [
          2002,
          2003,
          2004,
          2005,
          2006,
          2007,
          2008,
          2009,
          2010,
          2011,
          2012,
          2013,
          2014,
          2015,
          2016,
          2017,
          2018,
          2019,
          2020,
          2021,
          2022
         ],
         "xaxis": "x3",
         "y": [
          110000,
          65000,
          50000,
          51000,
          50000,
          64000,
          42000,
          84000,
          68000,
          47000,
          49000,
          40000,
          21000,
          14370,
          48000,
          29739.6,
          10618,
          41040,
          33619.62315871212,
          17456,
          30696
         ],
         "yaxis": "y3"
        },
        {
         "connectgaps": false,
         "hovertemplate": "fnid=AF2017A131<br>indicator=area<br>year=%{x}<br>value=%{y}<extra></extra>",
         "legendgroup": "AF2017A131",
         "line": {
          "color": "#FECB52",
          "dash": "solid"
         },
         "marker": {
          "symbol": "circle"
         },
         "mode": "markers+lines",
         "name": "AF2017A131",
         "showlegend": false,
         "type": "scattergl",
         "x": [
          2002,
          2003,
          2004,
          2005,
          2006,
          2007,
          2008,
          2009,
          2010,
          2011,
          2012,
          2013,
          2014,
          2015,
          2016,
          2017,
          2018,
          2019,
          2020,
          2021,
          2022
         ],
         "xaxis": "x2",
         "y": [
          50000,
          25000,
          24000,
          23000,
          25000,
          23000,
          21000,
          26000,
          25000,
          23000,
          19000,
          19000,
          11000,
          8390,
          24000,
          13518,
          6594,
          21730,
          19337,
          17456,
          17085
         ],
         "yaxis": "y2"
        },
        {
         "connectgaps": false,
         "hovertemplate": "fnid=AF2017A131<br>indicator=yield<br>year=%{x}<br>value=%{y}<extra></extra>",
         "legendgroup": "AF2017A131",
         "line": {
          "color": "#FECB52",
          "dash": "solid"
         },
         "marker": {
          "symbol": "circle"
         },
         "mode": "markers+lines",
         "name": "AF2017A131",
         "showlegend": false,
         "type": "scattergl",
         "x": [
          2002,
          2003,
          2004,
          2005,
          2006,
          2007,
          2008,
          2009,
          2010,
          2011,
          2012,
          2013,
          2014,
          2015,
          2016,
          2017,
          2018,
          2019,
          2020,
          2021,
          2022
         ],
         "xaxis": "x",
         "y": [
          2.2,
          2.6,
          2.0833333333333335,
          2.217391304347826,
          2,
          2.782608695652174,
          2,
          3.230769230769231,
          2.72,
          2.0434782608695654,
          2.5789473684210527,
          2.1052631578947367,
          1.9090909090909092,
          1.7127532777115613,
          2,
          2.2,
          1.6102517440097055,
          1.888633225954901,
          1.738616287878788,
          1,
          1.7966637401229149
         ],
         "yaxis": "y"
        },
        {
         "connectgaps": false,
         "hovertemplate": "fnid=AF2017A132<br>indicator=production<br>year=%{x}<br>value=%{y}<extra></extra>",
         "legendgroup": "AF2017A132",
         "line": {
          "color": "#636efa",
          "dash": "solid"
         },
         "marker": {
          "symbol": "circle"
         },
         "mode": "markers+lines",
         "name": "AF2017A132",
         "showlegend": true,
         "type": "scattergl",
         "x": [
          2002,
          2003,
          2004,
          2005,
          2006,
          2007,
          2008,
          2009,
          2010,
          2011,
          2012,
          2013,
          2014,
          2015,
          2016,
          2017,
          2018,
          2019,
          2020,
          2021,
          2022
         ],
         "xaxis": "x3",
         "y": [
          200000,
          225000,
          158000,
          254000,
          229000,
          254000,
          155000,
          300000,
          225000,
          199000,
          225000,
          238000,
          248000,
          316250,
          427530,
          427504,
          381846,
          377500,
          341185,
          356021,
          283648
         ],
         "yaxis": "y3"
        },
        {
         "connectgaps": false,
         "hovertemplate": "fnid=AF2017A132<br>indicator=area<br>year=%{x}<br>value=%{y}<extra></extra>",
         "legendgroup": "AF2017A132",
         "line": {
          "color": "#636efa",
          "dash": "solid"
         },
         "marker": {
          "symbol": "circle"
         },
         "mode": "markers+lines",
         "name": "AF2017A132",
         "showlegend": false,
         "type": "scattergl",
         "x": [
          2002,
          2003,
          2004,
          2005,
          2006,
          2007,
          2008,
          2009,
          2010,
          2011,
          2012,
          2013,
          2014,
          2015,
          2016,
          2017,
          2018,
          2019,
          2020,
          2021,
          2022
         ],
         "xaxis": "x2",
         "y": [
          95000,
          91000,
          91000,
          97000,
          97000,
          97000,
          73000,
          95000,
          97000,
          92000,
          90000,
          82000,
          83000,
          82690,
          138980,
          133595,
          117871,
          139086,
          117650,
          107885,
          89998
         ],
         "yaxis": "y2"
        },
        {
         "connectgaps": false,
         "hovertemplate": "fnid=AF2017A132<br>indicator=yield<br>year=%{x}<br>value=%{y}<extra></extra>",
         "legendgroup": "AF2017A132",
         "line": {
          "color": "#636efa",
          "dash": "solid"
         },
         "marker": {
          "symbol": "circle"
         },
         "mode": "markers+lines",
         "name": "AF2017A132",
         "showlegend": false,
         "type": "scattergl",
         "x": [
          2002,
          2003,
          2004,
          2005,
          2006,
          2007,
          2008,
          2009,
          2010,
          2011,
          2012,
          2013,
          2014,
          2015,
          2016,
          2017,
          2018,
          2019,
          2020,
          2021,
          2022
         ],
         "xaxis": "x",
         "y": [
          2.1052631578947367,
          2.4725274725274726,
          1.7362637362637363,
          2.618556701030928,
          2.3608247422680413,
          2.618556701030928,
          2.1232876712328768,
          3.1578947368421053,
          2.3195876288659796,
          2.1630434782608696,
          2.5,
          2.902439024390244,
          2.9879518072289155,
          3.824525335590761,
          3.0761980141027485,
          3.2,
          3.2395245649905404,
          2.7141480810433833,
          2.9,
          3.3000046345645826,
          3.1517144825440564
         ],
         "yaxis": "y"
        },
        {
         "connectgaps": false,
         "hovertemplate": "fnid=AF2017A133<br>indicator=production<br>year=%{x}<br>value=%{y}<extra></extra>",
         "legendgroup": "AF2017A133",
         "line": {
          "color": "#EF553B",
          "dash": "solid"
         },
         "marker": {
          "symbol": "circle"
         },
         "mode": "markers+lines",
         "name": "AF2017A133",
         "showlegend": true,
         "type": "scattergl",
         "x": [
          2002,
          2003,
          2004,
          2005,
          2006,
          2007,
          2008,
          2009,
          2010,
          2011,
          2012,
          2013,
          2014,
          2015,
          2016,
          2017,
          2018,
          2019,
          2020,
          2021,
          2022
         ],
         "xaxis": "x3",
         "y": [
          48000,
          65000,
          38000,
          58000,
          58000,
          63000,
          36000,
          107000,
          64000,
          39000,
          65000,
          72000,
          41000,
          38530,
          102780,
          222583.7,
          102327,
          201802,
          256071.00000000003,
          183224,
          214154
         ],
         "yaxis": "y3"
        },
        {
         "connectgaps": false,
         "hovertemplate": "fnid=AF2017A133<br>indicator=area<br>year=%{x}<br>value=%{y}<extra></extra>",
         "legendgroup": "AF2017A133",
         "line": {
          "color": "#EF553B",
          "dash": "solid"
         },
         "marker": {
          "symbol": "circle"
         },
         "mode": "markers+lines",
         "name": "AF2017A133",
         "showlegend": false,
         "type": "scattergl",
         "x": [
          2002,
          2003,
          2004,
          2005,
          2006,
          2007,
          2008,
          2009,
          2010,
          2011,
          2012,
          2013,
          2014,
          2015,
          2016,
          2017,
          2018,
          2019,
          2020,
          2021,
          2022
         ],
         "xaxis": "x2",
         "y": [
          25000,
          23000,
          20000,
          24000,
          24000,
          24000,
          15000,
          31000,
          25000,
          18000,
          26000,
          26000,
          17000,
          16750,
          35440,
          76753,
          46512,
          76123,
          85357,
          91612,
          90141
         ],
         "yaxis": "y2"
        },
        {
         "connectgaps": false,
         "hovertemplate": "fnid=AF2017A133<br>indicator=yield<br>year=%{x}<br>value=%{y}<extra></extra>",
         "legendgroup": "AF2017A133",
         "line": {
          "color": "#EF553B",
          "dash": "solid"
         },
         "marker": {
          "symbol": "circle"
         },
         "mode": "markers+lines",
         "name": "AF2017A133",
         "showlegend": false,
         "type": "scattergl",
         "x": [
          2002,
          2003,
          2004,
          2005,
          2006,
          2007,
          2008,
          2009,
          2010,
          2011,
          2012,
          2013,
          2014,
          2015,
          2016,
          2017,
          2018,
          2019,
          2020,
          2021,
          2022
         ],
         "xaxis": "x",
         "y": [
          1.92,
          2.8260869565217392,
          1.9,
          2.4166666666666665,
          2.4166666666666665,
          2.625,
          2.4,
          3.4516129032258065,
          2.56,
          2.1666666666666665,
          2.5,
          2.769230769230769,
          2.411764705882353,
          2.3002985074626867,
          2.900112866817156,
          2.9,
          2.2000128998968007,
          2.6509990410257083,
          3.0000000000000004,
          2,
          2.3757668541507195
         ],
         "yaxis": "y"
        },
        {
         "connectgaps": false,
         "hovertemplate": "fnid=AF2017A134<br>indicator=production<br>year=%{x}<br>value=%{y}<extra></extra>",
         "legendgroup": "AF2017A134",
         "line": {
          "color": "#00cc96",
          "dash": "solid"
         },
         "marker": {
          "symbol": "circle"
         },
         "mode": "markers+lines",
         "name": "AF2017A134",
         "showlegend": true,
         "type": "scattergl",
         "x": [
          2002,
          2003,
          2004,
          2005,
          2006,
          2007,
          2008,
          2009,
          2010,
          2011,
          2012,
          2013,
          2014,
          2015,
          2016,
          2017,
          2018,
          2019,
          2020,
          2021,
          2022
         ],
         "xaxis": "x3",
         "y": [
          28000,
          35000,
          13000,
          35000,
          33000,
          37000,
          31000,
          37000,
          29000,
          26000,
          38000,
          54000,
          45000,
          45280,
          37800,
          40287.3416715,
          0,
          43390,
          48900.3,
          14475,
          22349
         ],
         "yaxis": "y3"
        },
        {
         "connectgaps": false,
         "hovertemplate": "fnid=AF2017A134<br>indicator=area<br>year=%{x}<br>value=%{y}<extra></extra>",
         "legendgroup": "AF2017A134",
         "line": {
          "color": "#00cc96",
          "dash": "solid"
         },
         "marker": {
          "symbol": "circle"
         },
         "mode": "markers+lines",
         "name": "AF2017A134",
         "showlegend": false,
         "type": "scattergl",
         "x": [
          2002,
          2003,
          2004,
          2005,
          2006,
          2007,
          2008,
          2009,
          2010,
          2011,
          2012,
          2013,
          2014,
          2015,
          2016,
          2017,
          2018,
          2019,
          2020,
          2021,
          2022
         ],
         "xaxis": "x2",
         "y": [
          20000,
          13000,
          10000,
          14000,
          14000,
          14000,
          14000,
          14000,
          15000,
          17000,
          17000,
          21000,
          20000,
          19690,
          18000,
          19184.448415,
          0,
          24734,
          25737,
          20678,
          17605
         ],
         "yaxis": "y2"
        },
        {
         "connectgaps": false,
         "hovertemplate": "fnid=AF2017A134<br>indicator=yield<br>year=%{x}<br>value=%{y}<extra></extra>",
         "legendgroup": "AF2017A134",
         "line": {
          "color": "#00cc96",
          "dash": "solid"
         },
         "marker": {
          "symbol": "circle"
         },
         "mode": "markers+lines",
         "name": "AF2017A134",
         "showlegend": false,
         "type": "scattergl",
         "x": [
          2002,
          2003,
          2004,
          2005,
          2006,
          2007,
          2008,
          2009,
          2010,
          2011,
          2012,
          2013,
          2014,
          2015,
          2016,
          2017,
          2018,
          2019,
          2020,
          2021,
          2022
         ],
         "xaxis": "x",
         "y": [
          1.4,
          2.6923076923076925,
          1.3,
          2.5,
          2.357142857142857,
          2.642857142857143,
          2.2142857142857144,
          2.642857142857143,
          1.9333333333333331,
          1.5294117647058822,
          2.235294117647059,
          2.5714285714285716,
          2.25,
          2.2996444895886237,
          2.1,
          2.1,
          0,
          1.7542653836823805,
          1.9,
          0.7000193442305832,
          1.2694689008804316
         ],
         "yaxis": "y"
        }
       ],
       "layout": {
        "annotations": [
         {
          "showarrow": false,
          "text": "",
          "textangle": 90,
          "x": 0.98,
          "xanchor": "left",
          "xref": "paper",
          "y": 0.16333333333333333,
          "yanchor": "middle",
          "yref": "paper"
         },
         {
          "showarrow": false,
          "text": "",
          "textangle": 90,
          "x": 0.98,
          "xanchor": "left",
          "xref": "paper",
          "y": 0.5,
          "yanchor": "middle",
          "yref": "paper"
         },
         {
          "showarrow": false,
          "text": "",
          "textangle": 90,
          "x": 0.98,
          "xanchor": "left",
          "xref": "paper",
          "y": 0.8366666666666667,
          "yanchor": "middle",
          "yref": "paper"
         },
         {
          "align": "left",
          "font": {
           "color": "dimgrey",
           "family": "arial",
           "size": 15
          },
          "showarrow": false,
          "text": "Production-Area-Yield time-series of AF - Wheat - Winter",
          "x": -0.014,
          "xref": "paper",
          "y": -0.14,
          "yref": "paper"
         }
        ],
        "font": {
         "color": "black",
         "family": "arial",
         "size": 16
        },
        "height": 600,
        "legend": {
         "font": {
          "size": 14
         },
         "title": {
          "text": "FNID"
         },
         "tracegroupgap": 0,
         "x": 1,
         "xanchor": "left",
         "y": 1,
         "yanchor": "top"
        },
        "margin": {
         "b": 25,
         "l": 0,
         "r": 0,
         "t": 0
        },
        "template": {
         "data": {
          "bar": [
           {
            "error_x": {
             "color": "#2a3f5f"
            },
            "error_y": {
             "color": "#2a3f5f"
            },
            "marker": {
             "line": {
              "color": "#E5ECF6",
              "width": 0.5
             },
             "pattern": {
              "fillmode": "overlay",
              "size": 10,
              "solidity": 0.2
             }
            },
            "type": "bar"
           }
          ],
          "barpolar": [
           {
            "marker": {
             "line": {
              "color": "#E5ECF6",
              "width": 0.5
             },
             "pattern": {
              "fillmode": "overlay",
              "size": 10,
              "solidity": 0.2
             }
            },
            "type": "barpolar"
           }
          ],
          "carpet": [
           {
            "aaxis": {
             "endlinecolor": "#2a3f5f",
             "gridcolor": "white",
             "linecolor": "white",
             "minorgridcolor": "white",
             "startlinecolor": "#2a3f5f"
            },
            "baxis": {
             "endlinecolor": "#2a3f5f",
             "gridcolor": "white",
             "linecolor": "white",
             "minorgridcolor": "white",
             "startlinecolor": "#2a3f5f"
            },
            "type": "carpet"
           }
          ],
          "choropleth": [
           {
            "colorbar": {
             "outlinewidth": 0,
             "ticks": ""
            },
            "type": "choropleth"
           }
          ],
          "contour": [
           {
            "colorbar": {
             "outlinewidth": 0,
             "ticks": ""
            },
            "colorscale": [
             [
              0,
              "#0d0887"
             ],
             [
              0.1111111111111111,
              "#46039f"
             ],
             [
              0.2222222222222222,
              "#7201a8"
             ],
             [
              0.3333333333333333,
              "#9c179e"
             ],
             [
              0.4444444444444444,
              "#bd3786"
             ],
             [
              0.5555555555555556,
              "#d8576b"
             ],
             [
              0.6666666666666666,
              "#ed7953"
             ],
             [
              0.7777777777777778,
              "#fb9f3a"
             ],
             [
              0.8888888888888888,
              "#fdca26"
             ],
             [
              1,
              "#f0f921"
             ]
            ],
            "type": "contour"
           }
          ],
          "contourcarpet": [
           {
            "colorbar": {
             "outlinewidth": 0,
             "ticks": ""
            },
            "type": "contourcarpet"
           }
          ],
          "heatmap": [
           {
            "colorbar": {
             "outlinewidth": 0,
             "ticks": ""
            },
            "colorscale": [
             [
              0,
              "#0d0887"
             ],
             [
              0.1111111111111111,
              "#46039f"
             ],
             [
              0.2222222222222222,
              "#7201a8"
             ],
             [
              0.3333333333333333,
              "#9c179e"
             ],
             [
              0.4444444444444444,
              "#bd3786"
             ],
             [
              0.5555555555555556,
              "#d8576b"
             ],
             [
              0.6666666666666666,
              "#ed7953"
             ],
             [
              0.7777777777777778,
              "#fb9f3a"
             ],
             [
              0.8888888888888888,
              "#fdca26"
             ],
             [
              1,
              "#f0f921"
             ]
            ],
            "type": "heatmap"
           }
          ],
          "heatmapgl": [
           {
            "colorbar": {
             "outlinewidth": 0,
             "ticks": ""
            },
            "colorscale": [
             [
              0,
              "#0d0887"
             ],
             [
              0.1111111111111111,
              "#46039f"
             ],
             [
              0.2222222222222222,
              "#7201a8"
             ],
             [
              0.3333333333333333,
              "#9c179e"
             ],
             [
              0.4444444444444444,
              "#bd3786"
             ],
             [
              0.5555555555555556,
              "#d8576b"
             ],
             [
              0.6666666666666666,
              "#ed7953"
             ],
             [
              0.7777777777777778,
              "#fb9f3a"
             ],
             [
              0.8888888888888888,
              "#fdca26"
             ],
             [
              1,
              "#f0f921"
             ]
            ],
            "type": "heatmapgl"
           }
          ],
          "histogram": [
           {
            "marker": {
             "pattern": {
              "fillmode": "overlay",
              "size": 10,
              "solidity": 0.2
             }
            },
            "type": "histogram"
           }
          ],
          "histogram2d": [
           {
            "colorbar": {
             "outlinewidth": 0,
             "ticks": ""
            },
            "colorscale": [
             [
              0,
              "#0d0887"
             ],
             [
              0.1111111111111111,
              "#46039f"
             ],
             [
              0.2222222222222222,
              "#7201a8"
             ],
             [
              0.3333333333333333,
              "#9c179e"
             ],
             [
              0.4444444444444444,
              "#bd3786"
             ],
             [
              0.5555555555555556,
              "#d8576b"
             ],
             [
              0.6666666666666666,
              "#ed7953"
             ],
             [
              0.7777777777777778,
              "#fb9f3a"
             ],
             [
              0.8888888888888888,
              "#fdca26"
             ],
             [
              1,
              "#f0f921"
             ]
            ],
            "type": "histogram2d"
           }
          ],
          "histogram2dcontour": [
           {
            "colorbar": {
             "outlinewidth": 0,
             "ticks": ""
            },
            "colorscale": [
             [
              0,
              "#0d0887"
             ],
             [
              0.1111111111111111,
              "#46039f"
             ],
             [
              0.2222222222222222,
              "#7201a8"
             ],
             [
              0.3333333333333333,
              "#9c179e"
             ],
             [
              0.4444444444444444,
              "#bd3786"
             ],
             [
              0.5555555555555556,
              "#d8576b"
             ],
             [
              0.6666666666666666,
              "#ed7953"
             ],
             [
              0.7777777777777778,
              "#fb9f3a"
             ],
             [
              0.8888888888888888,
              "#fdca26"
             ],
             [
              1,
              "#f0f921"
             ]
            ],
            "type": "histogram2dcontour"
           }
          ],
          "mesh3d": [
           {
            "colorbar": {
             "outlinewidth": 0,
             "ticks": ""
            },
            "type": "mesh3d"
           }
          ],
          "parcoords": [
           {
            "line": {
             "colorbar": {
              "outlinewidth": 0,
              "ticks": ""
             }
            },
            "type": "parcoords"
           }
          ],
          "pie": [
           {
            "automargin": true,
            "type": "pie"
           }
          ],
          "scatter": [
           {
            "fillpattern": {
             "fillmode": "overlay",
             "size": 10,
             "solidity": 0.2
            },
            "type": "scatter"
           }
          ],
          "scatter3d": [
           {
            "line": {
             "colorbar": {
              "outlinewidth": 0,
              "ticks": ""
             }
            },
            "marker": {
             "colorbar": {
              "outlinewidth": 0,
              "ticks": ""
             }
            },
            "type": "scatter3d"
           }
          ],
          "scattercarpet": [
           {
            "marker": {
             "colorbar": {
              "outlinewidth": 0,
              "ticks": ""
             }
            },
            "type": "scattercarpet"
           }
          ],
          "scattergeo": [
           {
            "marker": {
             "colorbar": {
              "outlinewidth": 0,
              "ticks": ""
             }
            },
            "type": "scattergeo"
           }
          ],
          "scattergl": [
           {
            "marker": {
             "colorbar": {
              "outlinewidth": 0,
              "ticks": ""
             }
            },
            "type": "scattergl"
           }
          ],
          "scattermapbox": [
           {
            "marker": {
             "colorbar": {
              "outlinewidth": 0,
              "ticks": ""
             }
            },
            "type": "scattermapbox"
           }
          ],
          "scatterpolar": [
           {
            "marker": {
             "colorbar": {
              "outlinewidth": 0,
              "ticks": ""
             }
            },
            "type": "scatterpolar"
           }
          ],
          "scatterpolargl": [
           {
            "marker": {
             "colorbar": {
              "outlinewidth": 0,
              "ticks": ""
             }
            },
            "type": "scatterpolargl"
           }
          ],
          "scatterternary": [
           {
            "marker": {
             "colorbar": {
              "outlinewidth": 0,
              "ticks": ""
             }
            },
            "type": "scatterternary"
           }
          ],
          "surface": [
           {
            "colorbar": {
             "outlinewidth": 0,
             "ticks": ""
            },
            "colorscale": [
             [
              0,
              "#0d0887"
             ],
             [
              0.1111111111111111,
              "#46039f"
             ],
             [
              0.2222222222222222,
              "#7201a8"
             ],
             [
              0.3333333333333333,
              "#9c179e"
             ],
             [
              0.4444444444444444,
              "#bd3786"
             ],
             [
              0.5555555555555556,
              "#d8576b"
             ],
             [
              0.6666666666666666,
              "#ed7953"
             ],
             [
              0.7777777777777778,
              "#fb9f3a"
             ],
             [
              0.8888888888888888,
              "#fdca26"
             ],
             [
              1,
              "#f0f921"
             ]
            ],
            "type": "surface"
           }
          ],
          "table": [
           {
            "cells": {
             "fill": {
              "color": "#EBF0F8"
             },
             "line": {
              "color": "white"
             }
            },
            "header": {
             "fill": {
              "color": "#C8D4E3"
             },
             "line": {
              "color": "white"
             }
            },
            "type": "table"
           }
          ]
         },
         "layout": {
          "annotationdefaults": {
           "arrowcolor": "#2a3f5f",
           "arrowhead": 0,
           "arrowwidth": 1
          },
          "autotypenumbers": "strict",
          "coloraxis": {
           "colorbar": {
            "outlinewidth": 0,
            "ticks": ""
           }
          },
          "colorscale": {
           "diverging": [
            [
             0,
             "#8e0152"
            ],
            [
             0.1,
             "#c51b7d"
            ],
            [
             0.2,
             "#de77ae"
            ],
            [
             0.3,
             "#f1b6da"
            ],
            [
             0.4,
             "#fde0ef"
            ],
            [
             0.5,
             "#f7f7f7"
            ],
            [
             0.6,
             "#e6f5d0"
            ],
            [
             0.7,
             "#b8e186"
            ],
            [
             0.8,
             "#7fbc41"
            ],
            [
             0.9,
             "#4d9221"
            ],
            [
             1,
             "#276419"
            ]
           ],
           "sequential": [
            [
             0,
             "#0d0887"
            ],
            [
             0.1111111111111111,
             "#46039f"
            ],
            [
             0.2222222222222222,
             "#7201a8"
            ],
            [
             0.3333333333333333,
             "#9c179e"
            ],
            [
             0.4444444444444444,
             "#bd3786"
            ],
            [
             0.5555555555555556,
             "#d8576b"
            ],
            [
             0.6666666666666666,
             "#ed7953"
            ],
            [
             0.7777777777777778,
             "#fb9f3a"
            ],
            [
             0.8888888888888888,
             "#fdca26"
            ],
            [
             1,
             "#f0f921"
            ]
           ],
           "sequentialminus": [
            [
             0,
             "#0d0887"
            ],
            [
             0.1111111111111111,
             "#46039f"
            ],
            [
             0.2222222222222222,
             "#7201a8"
            ],
            [
             0.3333333333333333,
             "#9c179e"
            ],
            [
             0.4444444444444444,
             "#bd3786"
            ],
            [
             0.5555555555555556,
             "#d8576b"
            ],
            [
             0.6666666666666666,
             "#ed7953"
            ],
            [
             0.7777777777777778,
             "#fb9f3a"
            ],
            [
             0.8888888888888888,
             "#fdca26"
            ],
            [
             1,
             "#f0f921"
            ]
           ]
          },
          "colorway": [
           "#636efa",
           "#EF553B",
           "#00cc96",
           "#ab63fa",
           "#FFA15A",
           "#19d3f3",
           "#FF6692",
           "#B6E880",
           "#FF97FF",
           "#FECB52"
          ],
          "font": {
           "color": "#2a3f5f"
          },
          "geo": {
           "bgcolor": "white",
           "lakecolor": "white",
           "landcolor": "#E5ECF6",
           "showlakes": true,
           "showland": true,
           "subunitcolor": "white"
          },
          "hoverlabel": {
           "align": "left"
          },
          "hovermode": "closest",
          "mapbox": {
           "style": "light"
          },
          "paper_bgcolor": "white",
          "plot_bgcolor": "#E5ECF6",
          "polar": {
           "angularaxis": {
            "gridcolor": "white",
            "linecolor": "white",
            "ticks": ""
           },
           "bgcolor": "#E5ECF6",
           "radialaxis": {
            "gridcolor": "white",
            "linecolor": "white",
            "ticks": ""
           }
          },
          "scene": {
           "xaxis": {
            "backgroundcolor": "#E5ECF6",
            "gridcolor": "white",
            "gridwidth": 2,
            "linecolor": "white",
            "showbackground": true,
            "ticks": "",
            "zerolinecolor": "white"
           },
           "yaxis": {
            "backgroundcolor": "#E5ECF6",
            "gridcolor": "white",
            "gridwidth": 2,
            "linecolor": "white",
            "showbackground": true,
            "ticks": "",
            "zerolinecolor": "white"
           },
           "zaxis": {
            "backgroundcolor": "#E5ECF6",
            "gridcolor": "white",
            "gridwidth": 2,
            "linecolor": "white",
            "showbackground": true,
            "ticks": "",
            "zerolinecolor": "white"
           }
          },
          "shapedefaults": {
           "line": {
            "color": "#2a3f5f"
           }
          },
          "ternary": {
           "aaxis": {
            "gridcolor": "white",
            "linecolor": "white",
            "ticks": ""
           },
           "baxis": {
            "gridcolor": "white",
            "linecolor": "white",
            "ticks": ""
           },
           "bgcolor": "#E5ECF6",
           "caxis": {
            "gridcolor": "white",
            "linecolor": "white",
            "ticks": ""
           }
          },
          "title": {
           "x": 0.05
          },
          "xaxis": {
           "automargin": true,
           "gridcolor": "white",
           "linecolor": "white",
           "ticks": "",
           "title": {
            "standoff": 15
           },
           "zerolinecolor": "white",
           "zerolinewidth": 2
          },
          "yaxis": {
           "automargin": true,
           "gridcolor": "white",
           "linecolor": "white",
           "ticks": "",
           "title": {
            "standoff": 15
           },
           "zerolinecolor": "white",
           "zerolinewidth": 2
          }
         }
        },
        "width": 900,
        "xaxis": {
         "anchor": "y",
         "domain": [
          0,
          0.98
         ],
         "dtick": 1,
         "range": [
          2002,
          2022
         ],
         "title": {
          "text": ""
         }
        },
        "xaxis2": {
         "anchor": "y2",
         "domain": [
          0,
          0.98
         ],
         "dtick": 1,
         "matches": "x",
         "showticklabels": false
        },
        "xaxis3": {
         "anchor": "y3",
         "domain": [
          0,
          0.98
         ],
         "dtick": 1,
         "matches": "x",
         "showticklabels": false
        },
        "yaxis": {
         "anchor": "x",
         "domain": [
          0,
          0.32666666666666666
         ],
         "title": {
          "text": "Yield (mt/ha)"
         }
        },
        "yaxis2": {
         "anchor": "x2",
         "domain": [
          0.33666666666666667,
          0.6633333333333333
         ],
         "title": {
          "text": "Area (ha)"
         }
        },
        "yaxis3": {
         "anchor": "x3",
         "domain": [
          0.6733333333333333,
          1
         ],
         "title": {
          "text": "Production (mt)"
         }
        }
       }
      }
     },
     "metadata": {},
     "output_type": "display_data"
    }
   ],
   "source": [
    "# Lineplot of Production-Area-Yield time-series\n",
    "country_iso, country_name = 'AF', 'Afghanistan'\n",
    "df = pd.read_csv('../data/crop/adm_crop_production_%s.csv' % country_iso, index_col=0)\n",
    "df['year'] = df['harvest_year']\n",
    "year = [df['year'].min(), df['year'].max()]\n",
    "product_season = [\n",
    "    ['Wheat','Spring'],\n",
    "    ['Wheat','Winter'],\n",
    "]\n",
    "for product_name, season_name in product_season:\n",
    "    footnote = 'Production-Area-Yield time-series of %s - %s - %s' % (country_iso, product_name, season_name)\n",
    "    fn_save = '../figures/%s_line_pay_%s_%s.png' % (country_iso, product_name, season_name)\n",
    "    sub = df[(df['product'] == product_name) & (df['season_name'] == season_name)]\n",
    "    fig = PlotLinePAY(sub, year, footnote, fn_save)\n",
    "    fig.show()"
   ]
  }
 ],
 "metadata": {
  "kernelspec": {
   "display_name": "Python 3 (ipykernel)",
   "language": "python",
   "name": "python3"
  },
  "language_info": {
   "codemirror_mode": {
    "name": "ipython",
    "version": 3
   },
   "file_extension": ".py",
   "mimetype": "text/x-python",
   "name": "python",
   "nbconvert_exporter": "python",
   "pygments_lexer": "ipython3",
   "version": "3.10.10"
  }
 },
 "nbformat": 4,
 "nbformat_minor": 5
}
