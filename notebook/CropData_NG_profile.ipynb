{
 "cells": [
  {
   "cell_type": "markdown",
   "id": "5a54535d-4fd0-4290-a987-d6baff7aa821",
   "metadata": {},
   "source": [
    "## FDW Crop Production Data Profiling - Nigeria"
   ]
  },
  {
   "cell_type": "code",
   "execution_count": 1,
   "id": "423b4763-5783-4282-ba84-d8ae8ba04fb5",
   "metadata": {},
   "outputs": [],
   "source": [
    "import os, sys, glob, json\n",
    "from itertools import product, compress, chain\n",
    "from functools import reduce\n",
    "import warnings\n",
    "warnings.simplefilter(action='ignore', category=FutureWarning)\n",
    "import requests\n",
    "import numpy as np\n",
    "import pandas as pd\n",
    "import geopandas as gpd\n",
    "from tools import save_hdf, save_npz, load_npz, PrintAdminUnits, PlotAdminShapes\n",
    "from tools import FDW_PD_Sweeper, FDW_PD_AvalTable, FDW_PD_Compiling, FDW_PD_GrainTypeAgg, FDW_PD_ValidateFnidName\n",
    "from tools import FDW_PD_CreateAdminLink, FDW_PD_RatioAdminLink, FDW_PD_ConnectAdminLink\n",
    "from tools import FDW_PD_CaliSeasonYear\n",
    "from tools_graphic import PlotBarProduction, PlotLinePAY, PlotHeatCropSystem, PlotHeatSeasonData\n",
    "import plotly.express as px\n",
    "import plotly.graph_objects as go\n",
    "from plotly.subplots import make_subplots\n",
    "warnings.simplefilter(action='ignore', category=pd.errors.PerformanceWarning)\n",
    "pd.options.mode.chained_assignment = None"
   ]
  },
  {
   "cell_type": "code",
   "execution_count": 2,
   "id": "f537c29e",
   "metadata": {},
   "outputs": [
    {
     "name": "stdout",
     "output_type": "stream",
     "text": [
      "- FEWS NET admin shapefiles ------------------- #\n",
      "| year\t | Admin1   | # units   | Admin2   | # units   | Admin3   | # units   |\n",
      "| 1991\t | NG1991A1 | 31\t| nan\t| 0\t| nan\t| 0\t|\n",
      "| 1996\t | NG1996A1 | 37\t| nan\t| 0\t| nan\t| 0\t|\n",
      "| 2014\t | NG2014A1 | 37\t| NG2014A2\t| 774\t| nan\t| 0\t|\n",
      "----------------------------------------------- #\n"
     ]
    }
   ],
   "source": [
    "# CPCV2 grain code ------------------------------ #\n",
    "grain_code = pd.read_hdf('../data/crop/grain_cpcv2_code.hdf')\n",
    "product_category = grain_code[['product', 'product_category']].set_index('product').to_dict()['product_category']\n",
    "# ----------------------------------------------- #\n",
    "\n",
    "# Load FEWS NET administrative boundaries ------- #\n",
    "epsg = 'epsg:26331' # Nigeria\n",
    "fn_shapes = sorted(glob.glob('../data/shapefile/fewsnet/NG_Admin?_????.shp'))\n",
    "shape_all = []\n",
    "for fn in fn_shapes:\n",
    "    name = fn[-18:-4]\n",
    "    exec('%s = gpd.read_file(\"%s\").to_crs(\"%s\")' % (name, fn, epsg))\n",
    "    exec('%s[\"area\"] = %s[\"geometry\"].area/10**6' % (name, name))\n",
    "    exec('shape_all.append(%s)' % (name))\n",
    "shape_all = pd.concat(shape_all, axis=0).reset_index(drop=True)\n",
    "PrintAdminUnits(shape_all)\n",
    "# ----------------------------------------------- #\n",
    "\n",
    "# FDW API host address -------------------------- #\n",
    "host = 'https://fdw.fews.net'\n",
    "auth = tuple(json.loads(open('token.json', \"r\").read()))\n",
    "parameters = {\n",
    "    'format': 'json',\n",
    "    'country': 'Nigeria',\n",
    "    'product': ['R011','R012','R013','R014','R015','R016','R017','R018','R019'],\n",
    "    'survey_type': 'crop:all'\n",
    "}\n",
    "endpoint = '/api/cropproductionindicatorvalue/'\n",
    "response = requests.get(host + endpoint, auth=auth, params=parameters, proxies={})\n",
    "response.raise_for_status()\n",
    "df = pd.DataFrame.from_records(response.json())\n",
    "df_origin = df.copy()\n",
    "# ----------------------------------------------- #"
   ]
  },
  {
   "cell_type": "code",
   "execution_count": 3,
   "id": "5ec5e58a-5bae-464a-85d0-fca0cdce9f49",
   "metadata": {},
   "outputs": [
    {
     "name": "stdout",
     "output_type": "stream",
     "text": [
      "- Remove missing records ---------------------- #\n",
      "Orignial data points: 38,603\n",
      "Removed 8,320 \"Missing Value\" points\n",
      "0/6,080 \"Area Harvested\" points are retained.\n",
      "9,819/10,841 \"Area Planted\" points are retained.\n",
      "10,743/10,841 \"Quantity Produced\" points are retained.\n",
      "9,721/10,841 \"Yield\" points are retained.\n",
      "Current data points: 30,283\n",
      "\n"
     ]
    },
    {
     "ename": "AssertionError",
     "evalue": "",
     "output_type": "error",
     "traceback": [
      "\u001b[0;31m---------------------------------------------------------------------------\u001b[0m",
      "\u001b[0;31mAssertionError\u001b[0m                            Traceback (most recent call last)",
      "Cell \u001b[0;32mIn[4], line 13\u001b[0m\n\u001b[1;32m      8\u001b[0m df\u001b[38;5;241m.\u001b[39mloc[df[\u001b[38;5;124m'\u001b[39m\u001b[38;5;124mpopulation_group\u001b[39m\u001b[38;5;124m'\u001b[39m] \u001b[38;5;241m==\u001b[39m \u001b[38;5;124m'\u001b[39m\u001b[38;5;124m'\u001b[39m, \u001b[38;5;124m'\u001b[39m\u001b[38;5;124mpopulation_group\u001b[39m\u001b[38;5;124m'\u001b[39m] \u001b[38;5;241m=\u001b[39m \u001b[38;5;124m'\u001b[39m\u001b[38;5;124mnone\u001b[39m\u001b[38;5;124m'\u001b[39m\n\u001b[1;32m     10\u001b[0m \u001b[38;5;66;03m# ----------------------------------------------- #\u001b[39;00m\n\u001b[1;32m     11\u001b[0m \n\u001b[1;32m     12\u001b[0m \u001b[38;5;66;03m# FDW Production Data Inspection ---------------- #\u001b[39;00m\n\u001b[0;32m---> 13\u001b[0m df, df_raw \u001b[38;5;241m=\u001b[39m \u001b[43mFDW_PD_Sweeper\u001b[49m\u001b[43m(\u001b[49m\u001b[43mdf\u001b[49m\u001b[43m,\u001b[49m\u001b[43m \u001b[49m\u001b[43marea_priority\u001b[49m\u001b[38;5;241;43m=\u001b[39;49m\u001b[38;5;124;43m'\u001b[39;49m\u001b[38;5;124;43mArea Planted\u001b[39;49m\u001b[38;5;124;43m'\u001b[39;49m\u001b[43m)\u001b[49m\n\u001b[1;32m     14\u001b[0m table_dict \u001b[38;5;241m=\u001b[39m FDW_PD_AvalTable(df, shape_all)\n\u001b[1;32m     15\u001b[0m \u001b[38;5;66;03m# ----------------------------------------------- #\u001b[39;00m\n\u001b[1;32m     16\u001b[0m \n\u001b[1;32m     17\u001b[0m \u001b[38;5;66;03m# FEWS NET Shapefile comparison ----------------- #\u001b[39;00m\n",
      "File \u001b[0;32m~/Documents/Code/Project/NASA_GSCD/gscd/notebook/tools.py:101\u001b[0m, in \u001b[0;36mFDW_PD_Sweeper\u001b[0;34m(df, area_priority)\u001b[0m\n\u001b[1;32m     99\u001b[0m \u001b[38;5;66;03m# - Check duplicated data points\u001b[39;00m\n\u001b[1;32m    100\u001b[0m rows \u001b[38;5;241m=\u001b[39m [\u001b[38;5;124m'\u001b[39m\u001b[38;5;124mfnid\u001b[39m\u001b[38;5;124m'\u001b[39m,\u001b[38;5;124m'\u001b[39m\u001b[38;5;124mcrop_production_system\u001b[39m\u001b[38;5;124m'\u001b[39m,\u001b[38;5;124m'\u001b[39m\u001b[38;5;124mseason_year\u001b[39m\u001b[38;5;124m'\u001b[39m, \u001b[38;5;124m'\u001b[39m\u001b[38;5;124mproduct\u001b[39m\u001b[38;5;124m'\u001b[39m,\u001b[38;5;124m'\u001b[39m\u001b[38;5;124mindicator\u001b[39m\u001b[38;5;124m'\u001b[39m]\n\u001b[0;32m--> 101\u001b[0m \u001b[38;5;28;01massert\u001b[39;00m df[df[rows]\u001b[38;5;241m.\u001b[39mduplicated(keep\u001b[38;5;241m=\u001b[39m\u001b[38;5;28;01mFalse\u001b[39;00m)]\u001b[38;5;241m.\u001b[39mshape[\u001b[38;5;241m0\u001b[39m] \u001b[38;5;241m==\u001b[39m \u001b[38;5;241m0\u001b[39m\n\u001b[1;32m    102\u001b[0m \u001b[38;5;66;03m# ---------------------------------------------------- #\u001b[39;00m\n\u001b[1;32m    103\u001b[0m \n\u001b[1;32m    104\u001b[0m \u001b[38;5;66;03m# Minor changes -------------------------------------- #\u001b[39;00m\n\u001b[1;32m    105\u001b[0m \u001b[38;5;66;03m# planting year and month (based on FDW's \"season_date\"; \"planting_month\" might be manually changed later)\u001b[39;00m\n\u001b[1;32m    106\u001b[0m df[\u001b[38;5;124m'\u001b[39m\u001b[38;5;124mseason_date\u001b[39m\u001b[38;5;124m'\u001b[39m] \u001b[38;5;241m=\u001b[39m pd\u001b[38;5;241m.\u001b[39mto_datetime(pd\u001b[38;5;241m.\u001b[39mto_datetime(df[\u001b[38;5;124m'\u001b[39m\u001b[38;5;124mseason_date\u001b[39m\u001b[38;5;124m'\u001b[39m])\u001b[38;5;241m.\u001b[39mdt\u001b[38;5;241m.\u001b[39mstrftime(\u001b[38;5;124m'\u001b[39m\u001b[38;5;124m%\u001b[39m\u001b[38;5;124mY-\u001b[39m\u001b[38;5;124m%\u001b[39m\u001b[38;5;124mm-01\u001b[39m\u001b[38;5;124m'\u001b[39m))\n",
      "\u001b[0;31mAssertionError\u001b[0m: "
     ]
    }
   ],
   "source": [
    "# Manual Pre-processing before Sweeping --------- #\n",
    "# 1. Default setting \n",
    "# a) None-type crop production system\n",
    "df.loc[df['crop_production_system'].isna(), 'crop_production_system'] = 'none'\n",
    "df.loc[df['crop_production_system'] == '', 'crop_production_system'] = 'none'\n",
    "# b) None-type population group\n",
    "df.loc[df['population_group'].isna(), 'population_group'] = 'none'\n",
    "df.loc[df['population_group'] == '', 'population_group'] = 'none'\n",
    "\n",
    "# ----------------------------------------------- #\n",
    "\n",
    "# FDW Production Data Inspection ---------------- #\n",
    "df, df_raw = FDW_PD_Sweeper(df, area_priority='Area Planted')\n",
    "table_dict = FDW_PD_AvalTable(df, shape_all)\n",
    "# ----------------------------------------------- #\n",
    "\n",
    "# FEWS NET Shapefile comparison ----------------- #\n",
    "shape_used = pd.concat([NG_Admin1_1996], axis=0)\n",
    "PlotAdminShapes(shape_used, label=True)\n",
    "# ----------------------------------------------- #s"
   ]
  },
  {
   "cell_type": "code",
   "execution_count": null,
   "id": "8a3a1c31-8df9-4b89-83e5-786e87bc3801",
   "metadata": {},
   "outputs": [],
   "source": [
    "# Remove incomplete records -------------------------- #\n",
    "# Generate virtual IDs to each set of ['fnid','crop_production_system','season_year', 'product'].\n",
    "df['vid'] = 0\n",
    "indicators = ['Area Harvested', 'Area Planted', 'Quantity Produced', 'Yield']\n",
    "vid_dict = dict()\n",
    "records = df[['fnid','crop_production_system','season_year','product']].drop_duplicates().reset_index(drop=True)\n",
    "records[indicators] = np.nan\n",
    "\n",
    "bad = []\n",
    "\n",
    "for i, row in records.iterrows():\n",
    "    fnid, crop_production_system, season_year, product_name = row[['fnid','crop_production_system','season_year','product']]\n",
    "    sub = df[\n",
    "        (df['fnid'] == fnid) &\n",
    "        (df['crop_production_system'] == crop_production_system) &\n",
    "        (df['season_year'] == season_year) &\n",
    "        (df['product'] == product_name)\n",
    "    ]\n",
    "    # Ignore if either area, production, and yield is missing\n",
    "    n_points = sub.shape[0]\n",
    "    if n_points < 3: continue\n",
    "    if n_points > 4: \n",
    "        bad.append(sub)"
   ]
  },
  {
   "cell_type": "markdown",
   "id": "c306101b-6d9e-45d3-af48-3cecb4033e29",
   "metadata": {},
   "source": [
    "- Nigeria crop seasonal calendar\n",
    "\n",
    "![FEWS NET](../figures/crop_calendar/seasonal-calendar-nigeria.png)\n",
    "\n",
    "\n",
    "\n",
    "<img src=\"../figures/crop_calendar/Nigeria_-_Crop_calendar.jpg\"  width=\"60%\">\n",
    "\n",
    "- FDW data consists of `NG1996A1`.\n",
    "\n",
    "| Year  | Admin-1  | # units  | Admin-2  | # units |\n",
    "| :---: | :----:   | :----:   | :----:   | :---:   |\n",
    "| 1991  | NG1991A1 | 31       | -        | -       |\n",
    "| 1996  | NG1996A1 | 37       | -        | -       |\n",
    "| 2014  | NG2014A1 | 37       | NG2014A2 | 774     |\n",
    "\n",
    "- Comparison between admin boundaries.\n",
    "\n",
    "![image](https://github.com/chc-ucsb/GlobalCropData/blob/main/figures/NG_admin_shapes.png?raw=true)\n",
    "\n",
    "- **`NG1996A1`** is used to represent the current admin-level 1 crop data.\n",
    "- Nigeria has a single crop season: `Wet`.\n",
    "- Nigeria has no population group(s)."
   ]
  },
  {
   "cell_type": "code",
   "execution_count": null,
   "id": "06e0b5a4-4b30-43d4-8222-c2a0ca5cd17d",
   "metadata": {},
   "outputs": [],
   "source": [
    "# Define the latest shapefile ------------------- #\n",
    "latest_level = 1\n",
    "shape_latest = NG_Admin1_1996.copy().to_crs('epsg:4326')\n",
    "# ----------------------------------------------- #\n",
    "\n",
    "# Validation of FNIDs and Names ----------------- #\n",
    "df = FDW_PD_ValidateFnidName(df, shape_used, shape_latest)\n",
    "# ----------------------------------------------- #\n",
    "\n",
    "# FDW Production Data Compiling ----------------- #\n",
    "area, prod = FDW_PD_Compiling(df, shape_used)\n",
    "area_all, prod_all = area.copy(), prod.copy()\n",
    "mdx_pss = area.columns.droplevel([0,1]).unique()\n",
    "# ----------------------------------------------- #"
   ]
  },
  {
   "cell_type": "code",
   "execution_count": null,
   "id": "36892d2f-3898-4411-8aca-065c9b09478c",
   "metadata": {},
   "outputs": [],
   "source": [
    "# Link admin boundaries ------------------------- #\n",
    "link, over = FDW_PD_CreateAdminLink(BF_Admin1_1984, BF_Admin2_2001, 'ADMIN1', 'ADMIN2', area, epsg)\n",
    "# Manual Editing\n",
    "link['BF1984A169'].update(method='ABR')\n",
    "link['BF1984A155'].update(method='ABR', fnids={'BF2001A20502': {'name': 'Namentenga'}})\n",
    "link['BF1984A152'].update(method='ABR')\n",
    "link['BF1984A173'].update(method='ABR', fnids={'BF2001A20603': {'name': 'Sissili'},'BF2001A20604': {'name': 'Ziro'}})\n",
    "# Crop specific ratios\n",
    "link_ratio = FDW_PD_RatioAdminLink(link, area, over, mdx_pss)\n",
    "# Add current unit to link_ratio\n",
    "for fnid_new in link_ratio.keys():\n",
    "    link_ratio[fnid_new][fnid_new] = 1.0\n",
    "    link_ratio[fnid_new] = link_ratio[fnid_new].sort_index(axis=1, ascending=False)\n",
    "# Connect data with AdminLink\n",
    "area_new, prod_new = FDW_PD_ConnectAdminLink(link_ratio, area, prod, validation=True)\n",
    "# ----------------------------------------------- #\n",
    "\n",
    "# Aggregate grain data by grain type ------------ #\n",
    "[area_new, prod_new, area_all, prod_all] = FDW_PD_GrainTypeAgg([area_new, prod_new, area_all, prod_all], product_category)\n",
    "# ----------------------------------------------- #\n",
    "\n",
    "# Manual correction ----------------------------- #\n",
    "crop_new = prod_new/area_new\n",
    "# ----------------------------------------------- #\n",
    "\n",
    "# Complete long format DataFrame\n",
    "df_area = area_new.T.stack().reset_index().rename({0:'value'},axis=1)\n",
    "df_area['indicator'] = 'area'\n",
    "df_prod = prod_new.T.stack().reset_index().rename({0:'value'},axis=1)\n",
    "df_prod['indicator'] = 'production'\n",
    "df_yield = (prod_new/area_new).T.stack().reset_index().rename({0:'value'},axis=1)\n",
    "df_yield['indicator'] = 'yield'\n",
    "stack = pd.concat([df_area, df_prod, df_yield], axis=0)\n",
    "# Insert a country name\n",
    "stack['country'] = 'Burkina Faso'\n",
    "stack = stack[['fnid','country','name','product','year','season_name','season_date','indicator','value']]\n",
    "stack = stack.reset_index(drop=True)\n",
    "# Change season_date to harvest_end of the FEWS NET's crop calendar\n",
    "stack.rename(columns={'season_date':'harvest_end'},inplace=True)\n",
    "stack['harvest_end'] = stack['harvest_end'].replace({\n",
    "    '10-01':'12-01' # Main\n",
    "})\n",
    "\n",
    "# Save data\n",
    "save_hdf('./data/crop/adm_crop_production_raw_BF.hdf', df)\n",
    "save_hdf('./data/crop/adm_crop_production_BF.hdf', stack)\n",
    "save_npz('./data/crop/adm_crop_production_BF_ratio.npz', link_ratio)"
   ]
  },
  {
   "cell_type": "markdown",
   "id": "fbb25be0-43f7-4cdb-b454-53c2f46a4727",
   "metadata": {},
   "source": [
    "## Visualization of production data"
   ]
  },
  {
   "cell_type": "code",
   "execution_count": null,
   "id": "d07d2c3f-420c-4101-8e68-d188600e2ab7",
   "metadata": {},
   "outputs": [],
   "source": [
    "# Bar chart of national grain production\n",
    "country_iso, country_name = 'BF', 'Burkina Faso'\n",
    "df = pd.read_hdf('./data/crop/adm_crop_production_%s.hdf' % country_iso)\n",
    "year = [df['year'].min(), df['year'].max()]\n",
    "product_order = ['Sorghum','Millet','Maize','Rice','Fonio']\n",
    "for season_name in ['Main']:\n",
    "    footnote = 'National grain production in %s - %s' % (country_name, season_name)\n",
    "    fn_save = './figures/%s_bar_natgrainprod_%s.png' % (country_iso, season_name)\n",
    "    sub = df[df['season_name'] == season_name]\n",
    "    fig = PlotBarProduction(sub, year, product_order, footnote, fn_save)\n",
    "    # fig.show()"
   ]
  },
  {
   "cell_type": "markdown",
   "id": "e0778332-9e11-450c-8b33-9e0c06e76cff",
   "metadata": {},
   "source": [
    "![image](https://github.com/chc-ucsb/GlobalCropData/blob/main/figures/BF_bar_natgrainprod_Main.png?raw=true)"
   ]
  },
  {
   "cell_type": "code",
   "execution_count": null,
   "id": "8484db83-f801-4c8e-91c3-1b3ad30254a3",
   "metadata": {},
   "outputs": [],
   "source": [
    "# Lineplot of Production-Area-Yield (PAY) time-series\n",
    "country_iso, country_name = 'BF', 'Burkina Faso'\n",
    "df = pd.read_hdf('./data/crop/adm_crop_production_%s.hdf' % country_iso)\n",
    "year = [df['year'].min(), df['year'].max()]\n",
    "product_season = [\n",
    "    ['Maize','Main'],\n",
    "    ['Sorghum','Main'],\n",
    "    ['Millet','Main'],\n",
    "]\n",
    "for product_name, season_name in product_season:\n",
    "    footnote = 'Production-Area-Yield (PAY) time-series of %s - %s - %s' % (country_iso, product_name, season_name)\n",
    "    fn_save = './figures/%s_line_pay_%s_%s.png' % (country_iso, product_name, season_name)\n",
    "    sub = df[(df['product'] == product_name) & (df['season_name'] == season_name)]\n",
    "    fig = PlotLinePAY(sub, year, footnote, fn_save)\n",
    "    # fig.show()"
   ]
  },
  {
   "cell_type": "markdown",
   "id": "f21d5876-971a-4b1d-8fc9-364a95021303",
   "metadata": {},
   "source": [
    "![image](https://github.com/chc-ucsb/GlobalCropData/blob/main/figures/BF_line_pay_Maize_Main.png?raw=true)\n",
    "![image](https://github.com/chc-ucsb/GlobalCropData/blob/main/figures/BF_line_pay_Sorghum_Main.png?raw=true)\n",
    "![image](https://github.com/chc-ucsb/GlobalCropData/blob/main/figures/BF_line_pay_Millet_Main.png?raw=true)"
   ]
  },
  {
   "cell_type": "code",
   "execution_count": null,
   "id": "d2a51b2c-cace-4e4e-bb57-f478db05c387",
   "metadata": {},
   "outputs": [],
   "source": [
    "df = pd.read_hdf('./data/crop/adm_crop_production_raw_%s.hdf' % country_iso)\n",
    "df['product'].unique()"
   ]
  },
  {
   "cell_type": "code",
   "execution_count": null,
   "id": "d917ab7c-49e6-4a89-8351-27f8f84bf862",
   "metadata": {},
   "outputs": [],
   "source": [
    "# Heatmap of seasonal data availability\n",
    "country_iso, country_name = 'BF', 'Burkina Faso'\n",
    "df = pd.read_hdf('./data/crop/adm_crop_production_raw_%s.hdf' % country_iso)\n",
    "code = {'Main':1}\n",
    "comb = {1:1}\n",
    "comb_name = {1:'Main'}\n",
    "for product_name in ['Maize (Corn)','Millet','Sorghum']:\n",
    "    data = df[(df['product'] == product_name) & (df['season_name'].isin(code.keys()))]\n",
    "    footnote = 'Seasonal data availability in %s - %s (uncorrected)' % (country_name, product_name)\n",
    "    fn_save = './figures/%s_heat_seasondata_%s.png' % (country_iso, product_name)\n",
    "    fig = PlotHeatSeasonData(data, code, comb, comb_name, footnote, fn_save)\n",
    "    fig.show()"
   ]
  },
  {
   "cell_type": "markdown",
   "id": "0e4654da-257d-4d24-90f6-783b0408a53c",
   "metadata": {},
   "source": [
    "![image](https://github.com/chc-ucsb/GlobalCropData/blob/main/figures/BF_heat_seasondata_Maize%20(Corn).png?raw=true)\n",
    "![image](https://github.com/chc-ucsb/GlobalCropData/blob/main/figures/BF_heat_seasondata_Millet.png?raw=true)\n",
    "![image](https://github.com/chc-ucsb/GlobalCropData/blob/main/figures/BF_heat_seasondata_Sorghum.png?raw=true)"
   ]
  },
  {
   "cell_type": "code",
   "execution_count": null,
   "id": "d5cf4da4-bdd6-4cba-b6ad-e0896cd5095a",
   "metadata": {},
   "outputs": [],
   "source": [
    "# Calibrated PAY time-series per FNID\n",
    "from tools_graphic import PlotLineCropTS\n",
    "country_iso, country_name = 'BF', 'Burkina Faso'\n",
    "df = pd.read_hdf('./data/crop/adm_crop_production_%s.hdf' % country_iso)\n",
    "link_ratio = load_npz('./data/crop/adm_crop_production_%s_ratio.npz' % country_iso)\n",
    "year_all = np.arange(df['year'].min(), df['year'].max()+1)\n",
    "prod_season = [\n",
    "    ['Maize', 'Main'],\n",
    "    ['Sorghum', 'Main']\n",
    "]\n",
    "for product_name, season_name in prod_season:\n",
    "    sub = df[\n",
    "        (df['product'] == product_name) &\n",
    "        (df['season_name'] == season_name)\n",
    "    ]\n",
    "    for fnid in sub['fnid'].unique():\n",
    "        sub_fps = sub[sub['fnid'] == fnid]\n",
    "        fn_save = './figures/crop_calibrated/%s_%s_%s_%s.png' % (country_iso, product_name, season_name, fnid)\n",
    "        # fig = PlotLineCropTS(sub_fps, fnid, product_name, season_name, link_ratio, year_all, fn_save)"
   ]
  },
  {
   "cell_type": "code",
   "execution_count": null,
   "id": "fa07821d-4806-4275-b67b-00c96ec7dc93",
   "metadata": {},
   "outputs": [],
   "source": []
  }
 ],
 "metadata": {
  "kernelspec": {
   "display_name": "Python 3 (ipykernel)",
   "language": "python",
   "name": "python3"
  },
  "language_info": {
   "codemirror_mode": {
    "name": "ipython",
    "version": 3
   },
   "file_extension": ".py",
   "mimetype": "text/x-python",
   "name": "python",
   "nbconvert_exporter": "python",
   "pygments_lexer": "ipython3",
   "version": "3.10.10"
  }
 },
 "nbformat": 4,
 "nbformat_minor": 5
}
