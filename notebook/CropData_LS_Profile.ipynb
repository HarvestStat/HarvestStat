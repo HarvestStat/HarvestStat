{
 "cells": [
  {
   "cell_type": "markdown",
   "id": "60d467f8-fee5-4752-9632-9a2bb58f8d01",
   "metadata": {},
   "source": [
    "# HarvestStat Data Profiling - Lesotho"
   ]
  },
  {
   "cell_type": "code",
   "execution_count": 1,
   "id": "f7477c2a-096a-4839-b6a3-b1466fa895f8",
   "metadata": {},
   "outputs": [],
   "source": [
    "import glob, json\n",
    "import warnings\n",
    "warnings.simplefilter(action='ignore', category=FutureWarning)\n",
    "import requests\n",
    "import numpy as np\n",
    "import pandas as pd\n",
    "import geopandas as gpd\n",
    "from tools import save_npz, PrintAdminUnits, PlotAdminShapes\n",
    "from tools import FDW_PD_Sweeper, FDW_PD_AvalTable, FDW_PD_Compiling, FDW_PD_ValidateFnidName\n",
    "from tools import FDW_PD_CreateAdminLink, FDW_PD_RatioAdminLink, FDW_PD_ConnectAdminLink\n",
    "from tools import FDW_PD_CaliSeasonYear\n",
    "from tools_graphic import PlotBarProduction, PlotLinePAY\n",
    "warnings.simplefilter(action='ignore', category=pd.errors.PerformanceWarning)\n",
    "pd.options.mode.chained_assignment = None"
   ]
  },
  {
   "cell_type": "code",
   "execution_count": 2,
   "id": "2bde8cc0-f3ac-4b8f-a548-0c329dae7fb0",
   "metadata": {},
   "outputs": [
    {
     "name": "stdout",
     "output_type": "stream",
     "text": [
      "- FEWS NET admin shapefiles ------------------- #\n",
      "| year\t | Admin1   | # units   | Admin2   | # units   | Admin3   | # units   |\n",
      "| 1980\t | LS1980A1 | 10\t| nan\t| 0\t| nan\t| 0\t|\n",
      "----------------------------------------------- #\n"
     ]
    }
   ],
   "source": [
    "# Load FEWS NET administrative boundaries ------- #\n",
    "epsg = 'epsg:32635' # Lesotho\n",
    "fn_shapes = sorted(glob.glob('../data/shapefile/fewsnet/LS_Admin?_????.shp'))\n",
    "shape_all = []\n",
    "for fn in fn_shapes:\n",
    "    name = fn[-18:-4]\n",
    "    exec('%s = gpd.read_file(\"%s\").to_crs(\"%s\")' % (name, fn, epsg))\n",
    "    exec('%s[\"area\"] = %s[\"geometry\"].area/10**6' % (name, name))\n",
    "    exec('shape_all.append(%s)' % (name))\n",
    "shape_all = pd.concat(shape_all, axis=0).reset_index(drop=True)\n",
    "PrintAdminUnits(shape_all)\n",
    "# ----------------------------------------------- #\n",
    "\n",
    "# FDW API host address -------------------------- #\n",
    "host = 'https://fdw.fews.net'\n",
    "auth = tuple(json.loads(open('token.json', \"r\").read()))\n",
    "parameters = {\n",
    "    'format': 'json',\n",
    "    'country': 'Lesotho',\n",
    "    'product': ['R011','R012','R013','R014','R015','R016','R017','R018','R019'],\n",
    "    'survey_type': 'crop:best'\n",
    "}\n",
    "endpoint = '/api/cropproductionfacts/'\n",
    "response = requests.get(host + endpoint, params=parameters, proxies={}, auth=auth)\n",
    "response.raise_for_status()\n",
    "df = pd.DataFrame.from_records(response.json())\n",
    "# ----------------------------------------------- #"
   ]
  },
  {
   "cell_type": "code",
   "execution_count": 3,
   "id": "cadd190d",
   "metadata": {},
   "outputs": [],
   "source": [
    "#4. Combine production systems\n",
    "# Starting in ~2019, the data is split into a bunch of different production systems. We want to combine these\n",
    "# into a single production system and rename it to be consistent with the older data\n",
    "\n",
    "for ixSY in df.season_year.unique():\n",
    "    for ixC in df.loc[((df.season_year==ixSY)),'product'].unique():\n",
    "        for ixA1 in df.loc[((df.season_year==ixSY)&(df['product']==ixC)),'admin_1'].unique():\n",
    "            ap = np.nan\n",
    "            ah = np.nan\n",
    "            pr = np.nan\n",
    "            for ixPS in df.loc[((df.season_year==ixSY)&(df['product']==ixC)&(df.admin_1==ixA1)),'crop_production_system'].unique():\n",
    "                if (ixPS!=ixPS)|(ixPS=='All (PS)'):continue \n",
    "                #check for both planted area and production. It's never harvested area w/o planted area in LS\n",
    "                ixLoc = ((df.season_year==ixSY)&(df['product']==ixC)&(df.admin_1==ixA1)&(df.crop_production_system==ixPS))\n",
    "                iap = df.loc[(ixLoc)&((df.indicator=='Area Planted'))].value\n",
    "                iah = df.loc[(ixLoc)&((df.indicator=='Area Harvested'))].value\n",
    "                ipr = df.loc[(ixLoc)&(df.indicator=='Quantity Produced')].value\n",
    "                if ((np.size(iap)+np.size(ipr)==2)&np.sum(np.isfinite(iap)+np.isfinite(ipr))==2):\n",
    "                    ap = np.nansum([ap,iap])\n",
    "                    pr = np.nansum([pr,ipr])\n",
    "                    if (np.size(iah)>0)&(np.isfinite(iah)): ah = np.nansum([ah,iah])\n",
    "                idah = pd.DataFrame(df.loc[ixLoc&(df.indicator=='Area Harvested')])\n",
    "                idap = pd.DataFrame(df.loc[ixLoc&(df.indicator=='Area Planted')])\n",
    "                idpr = pd.DataFrame(df.loc[ixLoc&(df.indicator=='Quantity Produced')])\n",
    "                idyl = pd.DataFrame(df.loc[ixLoc&(df.indicator=='Yield')])\n",
    "                df = df.loc[~ixLoc] #remove if there is not both prior to aggregating\n",
    "            idah['crop_production_system'] = 'All (PS)'\n",
    "            idap['crop_production_system'] = 'All (PS)'\n",
    "            idpr['crop_production_system'] = 'All (PS)'\n",
    "            idyl['crop_production_system'] = 'All (PS)'\n",
    "\n",
    "            idah['value'] = ah\n",
    "            idap['value'] = ap\n",
    "            idpr['value'] = pr\n",
    "            idyl['value'] = pr/ap\n",
    "            \n",
    "            df = df.append(idah).append(idap).append(idpr).append(idyl)"
   ]
  },
  {
   "cell_type": "code",
   "execution_count": 4,
   "id": "950c4248-0074-4f7d-abc2-bc0b92e56e15",
   "metadata": {},
   "outputs": [
    {
     "name": "stdout",
     "output_type": "stream",
     "text": [
      "- Remove missing records ---------------------- #\n",
      "Orignial data points: 9,672\n",
      "Removed 3,731 \"Missing Value\" points\n",
      "99/2,418 \"Area Harvested\" points are retained.\n",
      "2,039/2,418 \"Area Planted\" points are retained.\n",
      "1,903/2,418 \"Quantity Produced\" points are retained.\n",
      "1,900/2,418 \"Yield\" points are retained.\n",
      "Current data points: 5,941\n",
      "\n",
      "- Minor changes are applied ------------------- #\n",
      "\n",
      "- Basic information --------------------------- #\n",
      "Data period: 1981 - 2022\n",
      "8 grain types are found: Barley (Unspecified), Beans (mixed), Maize (Corn), Maize Grain (White), Oats (Unspecified), Pea (unspecified), Sorghum, Wheat Grain\n",
      "2 seasons are found: Summer (08-01), Winter (02-01)\n",
      "2 crop production system are found: none, All (PS)\n",
      "Data sources include:\n",
      "[1] Lesotho Bureau of Statistics, Lesotho --- Agricultural Production Survey Crops, Lesotho\n",
      "[2] Lesotho Bureau of Statistics, Lesotho --- Agricultural Statistical Report, Lesotho\n",
      "[3] Lesotho Bureau of Statistics, Lesotho --- Statistical Yearbook, Lesotho\n",
      "Administrative-1 fnids: 10\n",
      "Administrative-2 fnids: 0\n",
      "0 reporting units are found: \n",
      "\n",
      "- Total production over time ------------------ #\n",
      "season_name          Summer Winter\n",
      "                                  \n",
      "Barley (Unspecified)   0.0%   0.0%\n",
      "Beans (mixed)          6.5%   0.0%\n",
      "Maize (Corn)           1.6%   0.0%\n",
      "Maize Grain (White)   65.7%   0.0%\n",
      "Oats (Unspecified)     0.0%   0.0%\n",
      "Pea (unspecified)      1.2%   0.1%\n",
      "Sorghum               15.5%   0.0%\n",
      "Wheat Grain            9.0%   0.2%\n",
      "\n",
      "- Crop calendar ------------------------------- #\n",
      "                 product season_name planting_month harvest_month\n",
      "0   Barley (Unspecified)      Summer          08-01         01-01\n",
      "1   Barley (Unspecified)      Winter          02-01         07-01\n",
      "2          Beans (mixed)      Summer          08-01         01-01\n",
      "3          Beans (mixed)      Winter          02-01         07-01\n",
      "4           Maize (Corn)      Summer          08-01         01-01\n",
      "5           Maize (Corn)      Winter          02-01         07-01\n",
      "6    Maize Grain (White)      Summer          08-01         01-01\n",
      "7     Oats (Unspecified)      Summer          08-01         01-01\n",
      "8     Oats (Unspecified)      Winter          02-01         07-01\n",
      "9      Pea (unspecified)      Winter          02-01         07-01\n",
      "10     Pea (unspecified)      Summer          08-01         01-01\n",
      "11               Sorghum      Summer          08-01         01-01\n",
      "12               Sorghum      Winter          02-01         07-01\n",
      "13           Wheat Grain      Winter          02-01         07-01\n",
      "14           Wheat Grain      Summer          08-01         01-01\n",
      "\n",
      "- Recorded years per season ------------------- #\n",
      "Summer: 42 years (1981-2022) (missing: 0 years)\n",
      "Winter: 17 years (2006-2022) (missing: 2 years)\n",
      "\n",
      "- Number of \"Quantity Produced\" data points --- #\n",
      "LS1980A1: 1,903 data points are found.\n",
      "\n",
      "- Districts with population group(s) ---------- #\n",
      "0 districts includes 'population_group'.\n",
      "\n",
      "Table of available data\n",
      "----------------------------------------------- #\n",
      "Crop type: Barley (Unspecified)\n",
      "----------------------------------------------- #\n",
      "season_name            Summer   Winter       \n",
      "crop_production_system   none All (PS)   none\n",
      "fnid_short             1980A1   1980A1 1980A1\n",
      "year                                         \n",
      "2006                      NaN     4/10    NaN\n",
      "2007                      NaN      NaN    NaN\n",
      "2008                      NaN    10/10    NaN\n",
      "2009                      NaN     4/10    NaN\n",
      "2010                      NaN     5/10    NaN\n",
      "2011                      NaN     2/10    NaN\n",
      "2012                      NaN      NaN    NaN\n",
      "2013                      NaN      NaN    NaN\n",
      "2014                      NaN      NaN    NaN\n",
      "2015                      NaN      NaN    NaN\n",
      "2016                      NaN      NaN    NaN\n",
      "2017                      NaN      NaN    NaN\n",
      "2018                      NaN      NaN    NaN\n",
      "2019                     2/10      NaN   4/10\n",
      "2020                     5/10      NaN   4/10\n",
      "2021                     1/10      NaN    NaN\n",
      "----------------------------------------------- #\n",
      "Crop type: Beans (mixed)\n",
      "----------------------------------------------- #\n",
      "season_name              Summer        Winter\n",
      "crop_production_system All (PS)   none   none\n",
      "fnid_short               1980A1 1980A1 1980A1\n",
      "year                                         \n",
      "1982                      10/10    NaN    NaN\n",
      "1983                      10/10    NaN    NaN\n",
      "1984                      10/10    NaN    NaN\n",
      "1985                       9/10    NaN    NaN\n",
      "1986                       9/10    NaN    NaN\n",
      "1987                      10/10    NaN    NaN\n",
      "1988                      10/10    NaN    NaN\n",
      "1989                      10/10    NaN    NaN\n",
      "1990                      10/10    NaN    NaN\n",
      "1991                       9/10    NaN    NaN\n",
      "1992                       9/10    NaN    NaN\n",
      "1993                      10/10    NaN    NaN\n",
      "1994                      10/10    NaN    NaN\n",
      "1995                      10/10    NaN    NaN\n",
      "1996                      10/10    NaN    NaN\n",
      "1997                      10/10    NaN    NaN\n",
      "1998                      10/10    NaN    NaN\n",
      "1999                      10/10    NaN    NaN\n",
      "2000                      10/10    NaN    NaN\n",
      "2001                      10/10    NaN    NaN\n",
      "2002                      10/10    NaN    NaN\n",
      "2003                      10/10    NaN    NaN\n",
      "2004                      10/10    NaN    NaN\n",
      "2005                      10/10    NaN    NaN\n",
      "2006                      10/10    NaN    NaN\n",
      "2007                      10/10    NaN    NaN\n",
      "2008                      10/10    NaN    NaN\n",
      "2009                      10/10    NaN    NaN\n",
      "2010                      10/10    NaN    NaN\n",
      "2011                      10/10    NaN    NaN\n",
      "2012                      10/10    NaN    NaN\n",
      "2013                      10/10    NaN    NaN\n",
      "2014                      10/10    NaN    NaN\n",
      "2015                      10/10    NaN    NaN\n",
      "2016                       9/10    NaN    NaN\n",
      "2017                        NaN    NaN    NaN\n",
      "2018                        NaN    NaN    NaN\n",
      "2019                        NaN   6/10    NaN\n",
      "2020                        NaN   6/10    NaN\n",
      "2021                        NaN   6/10   2/10\n",
      "2022                        NaN   5/10    NaN\n",
      "----------------------------------------------- #\n",
      "Crop type: Maize (Corn)\n",
      "----------------------------------------------- #\n",
      "season_name            Summer Winter\n",
      "crop_production_system   none   none\n",
      "fnid_short             1980A1 1980A1\n",
      "year                                \n",
      "2021                     6/10   3/10\n",
      "2022                     5/10    NaN\n",
      "----------------------------------------------- #\n",
      "Crop type: Maize Grain (White)\n",
      "----------------------------------------------- #\n",
      "season_name              Summer       \n",
      "crop_production_system All (PS)   none\n",
      "fnid_short               1980A1 1980A1\n",
      "year                                  \n",
      "1982                      10/10    NaN\n",
      "1983                      10/10    NaN\n",
      "1984                      10/10    NaN\n",
      "1985                      10/10    NaN\n",
      "1986                      10/10    NaN\n",
      "1987                      10/10    NaN\n",
      "1988                      10/10    NaN\n",
      "1989                      10/10    NaN\n",
      "1990                      10/10    NaN\n",
      "1991                      10/10    NaN\n",
      "1992                      10/10    NaN\n",
      "1993                      10/10    NaN\n",
      "1994                      10/10    NaN\n",
      "1995                      10/10    NaN\n",
      "1996                      10/10    NaN\n",
      "1997                      10/10    NaN\n",
      "1998                      10/10    NaN\n",
      "1999                      10/10    NaN\n",
      "2000                      10/10    NaN\n",
      "2001                      10/10    NaN\n",
      "2002                      10/10    NaN\n",
      "2003                      10/10    NaN\n",
      "2004                      10/10    NaN\n",
      "2005                      10/10    NaN\n",
      "2006                      10/10    NaN\n",
      "2007                      10/10    NaN\n",
      "2008                      10/10    NaN\n",
      "2009                      10/10    NaN\n",
      "2010                      10/10    NaN\n",
      "2011                      10/10    NaN\n",
      "2012                      10/10    NaN\n",
      "2013                      10/10    NaN\n",
      "2014                      10/10    NaN\n",
      "2015                      10/10    NaN\n",
      "2016                      10/10    NaN\n",
      "2017                      10/10    NaN\n",
      "2018                      10/10    NaN\n",
      "2019                        NaN   6/10\n",
      "2020                        NaN   6/10\n",
      "----------------------------------------------- #\n",
      "Crop type: Oats (Unspecified)\n",
      "----------------------------------------------- #\n",
      "season_name            Summer   Winter       \n",
      "crop_production_system   none All (PS)   none\n",
      "fnid_short             1980A1   1980A1 1980A1\n",
      "year                                         \n",
      "2011                      NaN     5/10    NaN\n",
      "2012                      NaN      NaN    NaN\n",
      "2013                      NaN      NaN    NaN\n",
      "2014                      NaN      NaN    NaN\n",
      "2015                      NaN      NaN    NaN\n",
      "2016                      NaN      NaN    NaN\n",
      "2017                      NaN      NaN    NaN\n",
      "2018                      NaN      NaN    NaN\n",
      "2019                      NaN      NaN   1/10\n",
      "2020                     1/10      NaN   1/10\n",
      "2021                     1/10      NaN    NaN\n",
      "----------------------------------------------- #\n",
      "Crop type: Pea (unspecified)\n",
      "----------------------------------------------- #\n",
      "season_name              Summer          Winter       \n",
      "crop_production_system All (PS)   none All (PS)   none\n",
      "fnid_short               1980A1 1980A1   1980A1 1980A1\n",
      "year                                                  \n",
      "1982                      10/10    NaN      NaN    NaN\n",
      "1983                      10/10    NaN      NaN    NaN\n",
      "1984                      10/10    NaN      NaN    NaN\n",
      "1985                      10/10    NaN      NaN    NaN\n",
      "1986                      10/10    NaN      NaN    NaN\n",
      "1987                      10/10    NaN      NaN    NaN\n",
      "1988                      10/10    NaN      NaN    NaN\n",
      "1989                      10/10    NaN      NaN    NaN\n",
      "1990                      10/10    NaN      NaN    NaN\n",
      "1991                      10/10    NaN      NaN    NaN\n",
      "1992                      10/10    NaN      NaN    NaN\n",
      "1993                      10/10    NaN      NaN    NaN\n",
      "1994                      10/10    NaN      NaN    NaN\n",
      "1995                      10/10    NaN      NaN    NaN\n",
      "1996                      10/10    NaN      NaN    NaN\n",
      "1997                      10/10    NaN      NaN    NaN\n",
      "1998                      10/10    NaN      NaN    NaN\n",
      "1999                      10/10    NaN      NaN    NaN\n",
      "2000                      10/10    NaN      NaN    NaN\n",
      "2001                      10/10    NaN      NaN    NaN\n",
      "2002                      10/10    NaN      NaN    NaN\n",
      "2003                      10/10    NaN      NaN    NaN\n",
      "2004                       9/10    NaN      NaN    NaN\n",
      "2005                       9/10    NaN      NaN    NaN\n",
      "2006                       7/10    NaN     6/10    NaN\n",
      "2007                      10/10    NaN     6/10    NaN\n",
      "2008                      10/10    NaN     6/10    NaN\n",
      "2009                      10/10    NaN     6/10    NaN\n",
      "2010                      10/10    NaN     3/10    NaN\n",
      "2011                      10/10    NaN     6/10    NaN\n",
      "2012                       9/10    NaN      NaN    NaN\n",
      "2013                       8/10    NaN     6/10    NaN\n",
      "2014                       8/10    NaN     6/10    NaN\n",
      "2015                      10/10    NaN     6/10    NaN\n",
      "2016                       4/10    NaN     5/10    NaN\n",
      "2017                        NaN    NaN      NaN    NaN\n",
      "2018                        NaN    NaN      NaN    NaN\n",
      "2019                        NaN   1/10      NaN   4/10\n",
      "2020                        NaN   5/10      NaN   5/10\n",
      "2021                        NaN    NaN      NaN    NaN\n",
      "2022                        NaN    NaN      NaN   3/10\n",
      "----------------------------------------------- #\n",
      "Crop type: Sorghum\n",
      "----------------------------------------------- #\n",
      "season_name              Summer        Winter\n",
      "crop_production_system All (PS)   none   none\n",
      "fnid_short               1980A1 1980A1 1980A1\n",
      "year                                         \n",
      "1982                      10/10    NaN    NaN\n",
      "1983                      10/10    NaN    NaN\n",
      "1984                      10/10    NaN    NaN\n",
      "1985                      10/10    NaN    NaN\n",
      "1986                      10/10    NaN    NaN\n",
      "1987                      10/10    NaN    NaN\n",
      "1988                      10/10    NaN    NaN\n",
      "1989                      10/10    NaN    NaN\n",
      "1990                      10/10    NaN    NaN\n",
      "1991                      10/10    NaN    NaN\n",
      "1992                      10/10    NaN    NaN\n",
      "1993                      10/10    NaN    NaN\n",
      "1994                      10/10    NaN    NaN\n",
      "1995                      10/10    NaN    NaN\n",
      "1996                      10/10    NaN    NaN\n",
      "1997                      10/10    NaN    NaN\n",
      "1998                      10/10    NaN    NaN\n",
      "1999                      10/10    NaN    NaN\n",
      "2000                      10/10    NaN    NaN\n",
      "2001                      10/10    NaN    NaN\n",
      "2002                      10/10    NaN    NaN\n",
      "2003                      10/10    NaN    NaN\n",
      "2004                      10/10    NaN    NaN\n",
      "2005                      10/10    NaN    NaN\n",
      "2006                      10/10    NaN    NaN\n",
      "2007                      10/10    NaN    NaN\n",
      "2008                      10/10    NaN    NaN\n",
      "2009                      10/10    NaN    NaN\n",
      "2010                      10/10    NaN    NaN\n",
      "2011                      10/10    NaN    NaN\n",
      "2012                      10/10    NaN    NaN\n",
      "2013                      10/10    NaN    NaN\n",
      "2014                       9/10    NaN    NaN\n",
      "2015                      10/10    NaN    NaN\n",
      "2016                      10/10    NaN    NaN\n",
      "2017                      10/10    NaN    NaN\n",
      "2018                      10/10    NaN    NaN\n",
      "2019                        NaN   6/10    NaN\n",
      "2020                        NaN   5/10    NaN\n",
      "2021                        NaN   6/10   1/10\n",
      "2022                        NaN   4/10    NaN\n",
      "----------------------------------------------- #\n",
      "Crop type: Wheat Grain\n",
      "----------------------------------------------- #\n",
      "season_name              Summer          Winter       \n",
      "crop_production_system All (PS)   none All (PS)   none\n",
      "fnid_short               1980A1 1980A1   1980A1 1980A1\n",
      "year                                                  \n",
      "1981                      10/10    NaN      NaN    NaN\n",
      "1982                      10/10    NaN      NaN    NaN\n",
      "1983                       9/10    NaN      NaN    NaN\n",
      "1984                       9/10    NaN      NaN    NaN\n",
      "1985                      10/10    NaN      NaN    NaN\n",
      "1986                      10/10    NaN      NaN    NaN\n",
      "1987                      10/10    NaN      NaN    NaN\n",
      "1988                      10/10    NaN      NaN    NaN\n",
      "1989                      10/10    NaN      NaN    NaN\n",
      "1990                      10/10    NaN      NaN    NaN\n",
      "1991                      10/10    NaN      NaN    NaN\n",
      "1992                      10/10    NaN      NaN    NaN\n",
      "1993                       9/10    NaN      NaN    NaN\n",
      "1994                      10/10    NaN      NaN    NaN\n",
      "1995                      10/10    NaN      NaN    NaN\n",
      "1996                      10/10    NaN      NaN    NaN\n",
      "1997                      10/10    NaN      NaN    NaN\n",
      "1998                      10/10    NaN      NaN    NaN\n",
      "1999                      10/10    NaN      NaN    NaN\n",
      "2000                      10/10    NaN      NaN    NaN\n",
      "2001                      10/10    NaN      NaN    NaN\n",
      "2002                       9/10    NaN      NaN    NaN\n",
      "2003                       9/10    NaN      NaN    NaN\n",
      "2004                       9/10    NaN      NaN    NaN\n",
      "2005                       8/10    NaN      NaN    NaN\n",
      "2006                       9/10    NaN     6/10    NaN\n",
      "2007                      10/10    NaN     6/10    NaN\n",
      "2008                      10/10    NaN     6/10    NaN\n",
      "2009                       8/10    NaN     6/10    NaN\n",
      "2010                      10/10    NaN     1/10    NaN\n",
      "2011                       8/10    NaN     5/10    NaN\n",
      "2012                       8/10    NaN     1/10    NaN\n",
      "2013                       8/10    NaN     5/10    NaN\n",
      "2014                       9/10    NaN     3/10    NaN\n",
      "2015                       9/10    NaN     2/10    NaN\n",
      "2016                       9/10    NaN     4/10    NaN\n",
      "2017                      10/10    NaN      NaN    NaN\n",
      "2018                       9/10    NaN      NaN    NaN\n",
      "2019                        NaN   2/10      NaN   5/10\n",
      "2020                        NaN   4/10      NaN   3/10\n",
      "2021                        NaN   1/10      NaN   4/10\n",
      "2022                        NaN   2/10      NaN   2/10\n",
      "----------------------------------------------- #\n",
      "../figures/LS_admin_shapes.png is saved.\n"
     ]
    }
   ],
   "source": [
    "# Manual Pre-processing before Sweeping --------- #\n",
    "# 1. Default setting \n",
    "# a) None-type crop production system\n",
    "df.loc[df['crop_production_system'].isna(), 'crop_production_system'] = 'none'\n",
    "df.loc[df['crop_production_system'] == '', 'crop_production_system'] = 'none'\n",
    "# b) None-type population group\n",
    "df.loc[df['population_group'].isna(), 'population_group'] = 'none'\n",
    "df.loc[df['population_group'] == '', 'population_group'] = 'none'\n",
    "# 2. Manual setting\n",
    "# a) Add admin names to reporting units\n",
    "admin_level = 'admin_1'\n",
    "reporting_unit = df.loc[df['fnid'].map(lambda x: x[6] != 'A'), 'fnid'].unique()\n",
    "df.loc[df.fnid.isin(reporting_unit),admin_level] = df.loc[df.fnid.isin(reporting_unit), 'locality_name'].map(lambda x: x.split(' ')[0])\n",
    "# 3. Remove duplicate data \n",
    "pub_name_remove = 'BOS, Lesotho, Statisitical Report, 2017/2018 Crop Forecasting Report, NO 21 of 2040'\n",
    "df = df[df['publication_name'] != pub_name_remove]\n",
    "\n",
    "#4. Combine production systems\n",
    "# Starting in 2019, the data is split into a bunch of different production systems. We want to combine these\n",
    "# into a single production system and rename it to be consistent with the older data\n",
    "#for ixPS in df.crop_production_system.unique():\n",
    "#    for ixSY in df.season_year.unique():\n",
    "#        for ixC in df['product'].unique():\n",
    "#            for ixA1 in df.admin_1.unique():\n",
    "#                #check for both planted area and production. It's never harvested area w/o planted area in LS\n",
    "#                ixLoc = ((df.season_year==ixSY)&(df['product']==ixC)&(df.admin_1==ixA1)&(df.crop_production_system==ixPS))\n",
    "#                if (np.nansum(df.loc[(ixLoc)&((df.indicator=='Area Planted'))].value)+\n",
    "#                    np.nansum(df.loc[(ixLoc)&(df.indicator=='Quantity Produced')].value))==2: continue\n",
    "#                else:\n",
    "#                    df = df.loc[~ixLoc] #remove if there is not both prior to aggregating\n",
    "\n",
    "# ----------------------------------------------- #\n",
    "\n",
    "\n",
    "\n",
    "\n",
    "# FDW Production Data Inspection ---------------- #\n",
    "df, df_raw = FDW_PD_Sweeper(df, area_priority='Area Planted')\n",
    "table_dict = FDW_PD_AvalTable(df, shape_all)\n",
    "# ----------------------------------------------- #\n",
    "\n",
    "# FEWS NET Shapefile comparison ----------------- #\n",
    "shape_used = pd.concat([LS_Admin1_1980], axis=0)\n",
    "PlotAdminShapes(shape_used, label=True)\n",
    "# ----------------------------------------------- #"
   ]
  },
  {
   "cell_type": "markdown",
   "id": "5496ca39-6587-48cc-b90b-af1c11138a76",
   "metadata": {},
   "source": [
    "- Lesotho crop seasonal calendar\n",
    "\n",
    "![FEWS NET](https://fews.net/sites/default/files/styles/large_width_880/public/2023-03/seasonal-calendar-lesotho.png?itok=rDGlnOwG)\n",
    "\n",
    "![USDA](https://ipad.fas.usda.gov/countrysummary/images/LT/cropcalendar/safrica_lt_calendar.png)\n",
    "\n",
    "- FDW data consists of `LS1980A1`.\n",
    "\n",
    "| Year | Admin-1 | # units  | Admin-2  | # units |\n",
    "| :---: | :----:  | :----:   | :----:   | :---:  |\n",
    "| 1980\t | `LS1980A1` | 10\t| -\t| -\t|\n",
    "\n",
    "- Comparison between admin boundaries.\n",
    "\n",
    "![image](https://github.com/chc-ucsb/gscd/blob/main/figures/LS_admin_shapes.png?raw=true)\n",
    "\n",
    "- **`LS1980A1`** is used to represent current admin-level 1 crop data.\n",
    "- Lesotho has 2 crop seasons: `Summer (08-01)` and `Winter (02-01)`.\n",
    "- Lesotho has 5 crop production system: `none`, `Mountains (PS)`, `Foothills (PS)`, `All (PS)`, `Senqu River Valley (PS)`.\n",
    "- Lesotho has no population group."
   ]
  },
  {
   "cell_type": "code",
   "execution_count": 5,
   "id": "83637a50-9c46-4433-a102-65abf9ba79fa",
   "metadata": {},
   "outputs": [],
   "source": [
    "# Define the latest shapefile ------------------- #\n",
    "latest_level = 1\n",
    "shape_latest = LS_Admin1_1980.copy().to_crs('epsg:4326')\n",
    "# ----------------------------------------------- #\n",
    "\n",
    "# Validation of FNIDs and Names ----------------- #\n",
    "df = FDW_PD_ValidateFnidName(df, shape_used, shape_latest)\n",
    "# ----------------------------------------------- #\n",
    "\n",
    "# FDW Production Data Compiling ----------------- #\n",
    "area_new, prod_new = FDW_PD_Compiling(df, shape_used)\n",
    "# ----------------------------------------------- #"
   ]
  },
  {
   "cell_type": "code",
   "execution_count": 6,
   "id": "df2e7df3-4bed-445f-a3c2-e91c135134aa",
   "metadata": {},
   "outputs": [
    {
     "name": "stdout",
     "output_type": "stream",
     "text": [
      "All [season_name, product, crop_production_system] are in the external crop calendar.\n",
      "../data/crop/adm_crop_production_LS.csv is saved.\n"
     ]
    }
   ],
   "source": [
    "# Manual correction ----------------------------- #\n",
    "crop_new = prod_new/area_new\n",
    "# ----------------------------------------------- #\n",
    "\n",
    "# Complete long format DataFrame ---------------- #\n",
    "df_area = area_new.T.stack().rename('value').reset_index()\n",
    "df_area['indicator'] = 'area'\n",
    "df_prod = prod_new.T.stack().rename('value').reset_index()\n",
    "df_prod['indicator'] = 'production'\n",
    "df_yield = (prod_new/area_new).T.stack().rename('value').reset_index()\n",
    "df_yield['indicator'] = 'yield'\n",
    "stack = pd.concat([df_area, df_prod, df_yield], axis=0)\n",
    "# Add \"planting year\"\n",
    "cols = ['season_name','product','crop_production_system','planting_month','harvest_year','harvest_month','planting_year']\n",
    "season_table = df[cols].drop_duplicates()\n",
    "stack = stack.merge(season_table, on=cols[:-1])\n",
    "# Add country and admin names\n",
    "stack = stack.merge(df[['fnid','country','country_code','admin_1','admin_2']].drop_duplicates(), on='fnid', how='inner')\n",
    "names = [\n",
    "    'fnid','country','country_code','admin_1','admin_2','name',\n",
    "    'product','season_name','planting_year','planting_month','harvest_year','harvest_month',\n",
    "    'crop_production_system','indicator','value'\n",
    "]\n",
    "stack = stack[names]\n",
    "# ----------------------------------------------- #\n",
    "\n",
    "# Final Processing ------------------------------ #\n",
    "# Manual change of product name\n",
    "product_category_custom = {\n",
    "    'Barley (Unspecified)': 'Barley',\n",
    "    'Beans (mixed)': 'Beans (mixed)',\n",
    "    'Maize (Corn)': 'Maize',\n",
    "    'Maize Grain (White)': 'Maize',\n",
    "    'Oats (Unspecified)': 'Oats',\n",
    "    'Pea (unspecified)': 'Pea',\n",
    "    'Sorghum': 'Sorghum',\n",
    "    'Wheat Grain': 'Wheat'\n",
    "}\n",
    "assert set(stack['product'].unique()) == set(product_category_custom.keys())\n",
    "stack['product'] = stack['product'].replace(product_category_custom)\n",
    "# Calibration of crop calendar using External Crop Calendar (ECC)\n",
    "ecc = pd.read_csv('../data/crop_calendar/external_crop_calendar.csv')\n",
    "ecc = ecc[ecc['country'] == 'Lesotho']\n",
    "stack, link_ratio = FDW_PD_CaliSeasonYear(stack, ecc, link_ratio=None)\n",
    "# None admin names\n",
    "stack.loc[stack['admin_1'].isna(), 'admin_1'] = 'none'\n",
    "stack.loc[stack['admin_2'].isna(), 'admin_2'] = 'none'\n",
    "# ----------------------------------------------- #\n",
    "\n",
    "# Save data\n",
    "fn_out = '../data/crop/adm_crop_production_LS.csv'\n",
    "stack.to_csv(fn_out); print(f'{fn_out} is saved.')"
   ]
  },
  {
   "cell_type": "markdown",
   "id": "f35c1216-ce98-49b0-a875-87d43a95ee6b",
   "metadata": {},
   "source": [
    "## Visualization of production data"
   ]
  },
  {
   "cell_type": "code",
   "execution_count": 7,
   "id": "7e63299f-0747-4fda-88f5-be0a2303c580",
   "metadata": {
    "tags": []
   },
   "outputs": [
    {
     "data": {
      "application/vnd.plotly.v1+json": {
       "config": {
        "plotlyServerURL": "https://plot.ly"
       },
       "data": [
        {
         "alignmentgroup": "True",
         "hovertemplate": "product=Maize<br>season_name=Summer<br>type=orig_unit<br>year=%{x}<br>value=%{y}<extra></extra>",
         "legendgroup": "Maize",
         "marker": {
          "color": "#636efa",
          "pattern": {
           "shape": ""
          }
         },
         "name": "Maize",
         "offsetgroup": "Maize",
         "orientation": "v",
         "showlegend": true,
         "textposition": "auto",
         "type": "bar",
         "x": [
          1982,
          1983,
          1984,
          1985,
          1986,
          1987,
          1988,
          1989,
          1990,
          1991,
          1992,
          1993,
          1994,
          1995,
          1996,
          1997,
          1998,
          1999,
          2000,
          2001,
          2002,
          2003,
          2004,
          2005,
          2006,
          2007,
          2008,
          2009,
          2010,
          2011,
          2012,
          2013,
          2014,
          2015,
          2016,
          2017,
          2018,
          2019,
          2020,
          2021,
          2022
         ],
         "xaxis": "x2",
         "y": [
          83000,
          76100,
          79400,
          92350,
          86488,
          94912,
          159726,
          137227,
          171576,
          48918,
          61073,
          91805,
          149062,
          63445,
          188489,
          142050,
          118679,
          124549,
          138685,
          158189,
          111205,
          85032,
          80998,
          78739,
          76906,
          60312,
          65542,
          57126,
          128215,
          70311,
          42470,
          86324,
          90073,
          65637,
          25435,
          200142,
          64654,
          5230,
          17252,
          39415,
          52009.87
         ],
         "yaxis": "y2"
        },
        {
         "alignmentgroup": "True",
         "hovertemplate": "product=Maize<br>season_name=Summer<br>type=percent<br>year=%{x}<br>value=%{y}<extra></extra>",
         "legendgroup": "Maize",
         "marker": {
          "color": "#636efa",
          "pattern": {
           "shape": ""
          }
         },
         "name": "Maize",
         "offsetgroup": "Maize",
         "orientation": "v",
         "showlegend": false,
         "textposition": "auto",
         "type": "bar",
         "x": [
          1982,
          1983,
          1984,
          1985,
          1986,
          1987,
          1988,
          1989,
          1990,
          1991,
          1992,
          1993,
          1994,
          1995,
          1996,
          1997,
          1998,
          1999,
          2000,
          2001,
          2002,
          2003,
          2004,
          2005,
          2006,
          2007,
          2008,
          2009,
          2010,
          2011,
          2012,
          2013,
          2014,
          2015,
          2016,
          2017,
          2018,
          2019,
          2020,
          2021,
          2022
         ],
         "xaxis": "x",
         "y": [
          58.28651685393258,
          58.44854070660522,
          55.43376572601477,
          52.29805644905541,
          58.06239384520365,
          59.53170964241584,
          61.91314190027288,
          63.61731422716927,
          74.37578027465668,
          66.27198092502778,
          61.96530032467532,
          66.04243894824151,
          64.57484967682684,
          75.59455723953864,
          70.66738650380351,
          64.15122799585782,
          64.7620242941491,
          66.07247819139793,
          76.28379099390874,
          64.97765057009325,
          73.43269192672909,
          69.5882742873978,
          70.71467234726127,
          72.6050361277806,
          67.51766823229885,
          66.01655667920696,
          79.07105802871274,
          70.46503022079685,
          64.38726265624138,
          66.07058956191622,
          56.88149576770599,
          66.16944787251167,
          78.32298568720543,
          75.83708838821491,
          78.11876140223714,
          83.96626950830677,
          85.58569291661703,
          49.43756498723887,
          74.32042390040064,
          90.70928841019976,
          90.00047414327156
         ],
         "yaxis": "y"
        },
        {
         "alignmentgroup": "True",
         "hovertemplate": "product=Sorghum<br>season_name=Summer<br>type=orig_unit<br>year=%{x}<br>value=%{y}<extra></extra>",
         "legendgroup": "Sorghum",
         "marker": {
          "color": "#EF553B",
          "pattern": {
           "shape": ""
          }
         },
         "name": "Sorghum",
         "offsetgroup": "Sorghum",
         "orientation": "v",
         "showlegend": true,
         "textposition": "auto",
         "type": "bar",
         "x": [
          1982,
          1983,
          1984,
          1985,
          1986,
          1987,
          1988,
          1989,
          1990,
          1991,
          1992,
          1993,
          1994,
          1995,
          1996,
          1997,
          1998,
          1999,
          2000,
          2001,
          2002,
          2003,
          2004,
          2005,
          2006,
          2007,
          2008,
          2009,
          2010,
          2011,
          2012,
          2013,
          2014,
          2015,
          2016,
          2017,
          2018,
          2019,
          2020,
          2021,
          2022
         ],
         "xaxis": "x2",
         "y": [
          26100,
          30700,
          33768,
          54823,
          33458,
          31232,
          53447,
          31140,
          36062,
          10043,
          19467,
          37847.1,
          60725,
          6458,
          36129,
          29050,
          21815,
          33340,
          16807,
          45354,
          11919,
          11953,
          11482,
          18527,
          14405,
          7836,
          11143,
          10151,
          23829,
          12600,
          4674,
          18675,
          9861,
          9528,
          1138.4,
          28191,
          3837,
          4878,
          2036,
          3573,
          1369.4
         ],
         "yaxis": "y2"
        },
        {
         "alignmentgroup": "True",
         "hovertemplate": "product=Sorghum<br>season_name=Summer<br>type=percent<br>year=%{x}<br>value=%{y}<extra></extra>",
         "legendgroup": "Sorghum",
         "marker": {
          "color": "#EF553B",
          "pattern": {
           "shape": ""
          }
         },
         "name": "Sorghum",
         "offsetgroup": "Sorghum",
         "orientation": "v",
         "showlegend": false,
         "textposition": "auto",
         "type": "bar",
         "x": [
          1982,
          1983,
          1984,
          1985,
          1986,
          1987,
          1988,
          1989,
          1990,
          1991,
          1992,
          1993,
          1994,
          1995,
          1996,
          1997,
          1998,
          1999,
          2000,
          2001,
          2002,
          2003,
          2004,
          2005,
          2006,
          2007,
          2008,
          2009,
          2010,
          2011,
          2012,
          2013,
          2014,
          2015,
          2016,
          2017,
          2018,
          2019,
          2020,
          2021,
          2022
         ],
         "xaxis": "x",
         "y": [
          18.328651685393258,
          23.57910906298003,
          23.575408073502103,
          31.046414171159338,
          22.461515739441584,
          19.589665748819236,
          20.717176258992804,
          14.436249171329626,
          15.632369260646414,
          13.605820034139866,
          19.751420454545453,
          27.226347052099463,
          26.306555303332235,
          7.694690687255743,
          13.545310373527988,
          13.11927612305294,
          11.90424219935172,
          17.686664870060838,
          9.244703286113308,
          18.629590957373836,
          7.870547682880123,
          9.782066075798122,
          10.02427057323951,
          17.083700635509608,
          12.646503665335148,
          8.577161064767637,
          13.443117384485461,
          12.521277907980757,
          11.966494418247283,
          11.840102238343137,
          6.2600450016072005,
          14.31484221096283,
          8.574633484635049,
          11.008665511265164,
          3.496378925901583,
          11.827068300050344,
          5.07922640085779,
          46.1102183571226,
          8.770947314005083,
          8.222866611433306,
          2.3696780878667085
         ],
         "yaxis": "y"
        },
        {
         "alignmentgroup": "True",
         "hovertemplate": "product=Wheat<br>season_name=Summer<br>type=orig_unit<br>year=%{x}<br>value=%{y}<extra></extra>",
         "legendgroup": "Wheat",
         "marker": {
          "color": "#00cc96",
          "pattern": {
           "shape": ""
          }
         },
         "name": "Wheat",
         "offsetgroup": "Wheat",
         "orientation": "v",
         "showlegend": true,
         "textposition": "auto",
         "type": "bar",
         "x": [
          1982,
          1983,
          1984,
          1985,
          1986,
          1987,
          1988,
          1989,
          1990,
          1991,
          1992,
          1993,
          1994,
          1995,
          1996,
          1997,
          1998,
          1999,
          2000,
          2001,
          2002,
          2003,
          2004,
          2005,
          2006,
          2007,
          2008,
          2009,
          2010,
          2011,
          2012,
          2013,
          2014,
          2015,
          2016,
          2017,
          2018,
          2020,
          2022
         ],
         "xaxis": "x2",
         "y": [
          14400,
          14800,
          17127,
          18434,
          11009,
          18520,
          19237,
          27367,
          15889,
          6844,
          11855,
          7127,
          11895,
          8984,
          29599,
          33722,
          29641,
          15426,
          10322.4,
          22818.4,
          18958,
          13109,
          11647,
          2050,
          2860,
          1426,
          2075,
          4900,
          19271,
          19031,
          10516,
          12624,
          12581,
          6673,
          4385,
          10027,
          7052,
          1305,
          0.32
         ],
         "yaxis": "y2"
        },
        {
         "alignmentgroup": "True",
         "hovertemplate": "product=Wheat<br>season_name=Summer<br>type=percent<br>year=%{x}<br>value=%{y}<extra></extra>",
         "legendgroup": "Wheat",
         "marker": {
          "color": "#00cc96",
          "pattern": {
           "shape": ""
          }
         },
         "name": "Wheat",
         "offsetgroup": "Wheat",
         "orientation": "v",
         "showlegend": false,
         "textposition": "auto",
         "type": "bar",
         "x": [
          1982,
          1983,
          1984,
          1985,
          1986,
          1987,
          1988,
          1989,
          1990,
          1991,
          1992,
          1993,
          1994,
          1995,
          1996,
          1997,
          1998,
          1999,
          2000,
          2001,
          2002,
          2003,
          2004,
          2005,
          2006,
          2007,
          2008,
          2009,
          2010,
          2011,
          2012,
          2013,
          2014,
          2015,
          2016,
          2017,
          2018,
          2020,
          2022
         ],
         "xaxis": "x",
         "y": [
          10.112359550561797,
          11.367127496159753,
          11.957356493569963,
          10.439224391790876,
          7.390723497385151,
          11.61631050423067,
          7.456663979161498,
          12.687117247006356,
          6.887657788875018,
          9.271953829896768,
          12.02820616883117,
          5.127002476816266,
          5.153009062711189,
          10.70441330664379,
          11.097114277894626,
          15.22919894738696,
          16.17481746646731,
          8.183398088948964,
          5.6778440650072,
          9.37287688631078,
          12.518654498870823,
          10.72811044822535,
          10.168322536711424,
          1.8902999029953416,
          2.5108643167551907,
          1.560876937003401,
          2.503317649897454,
          6.044159368447021,
          9.67754895018857,
          17.883252833167322,
          14.084431586842388,
          9.676603377306279,
          10.939809742439262,
          7.70999422299249,
          13.467692893603688,
          4.206662191642893,
          9.335080682525184,
          5.621849825528798,
          0.0005537439667864369
         ],
         "yaxis": "y"
        },
        {
         "alignmentgroup": "True",
         "hovertemplate": "product=Beans (mixed)<br>season_name=Summer<br>type=orig_unit<br>year=%{x}<br>value=%{y}<extra></extra>",
         "legendgroup": "Beans (mixed)",
         "marker": {
          "color": "#ab63fa",
          "pattern": {
           "shape": ""
          }
         },
         "name": "Beans (mixed)",
         "offsetgroup": "Beans (mixed)",
         "orientation": "v",
         "showlegend": true,
         "textposition": "auto",
         "type": "bar",
         "x": [
          1982,
          1983,
          1984,
          1985,
          1986,
          1987,
          1988,
          1989,
          1990,
          1991,
          1992,
          1993,
          1994,
          1995,
          1996,
          1997,
          1998,
          1999,
          2000,
          2001,
          2002,
          2003,
          2004,
          2005,
          2006,
          2007,
          2008,
          2009,
          2010,
          2011,
          2012,
          2013,
          2014,
          2015,
          2016,
          2019,
          2020,
          2021,
          2022
         ],
         "xaxis": "x2",
         "y": [
          14300,
          5000,
          9300,
          7700,
          16500,
          13300,
          23010,
          18500,
          4300,
          7200,
          4200,
          1487,
          7796,
          3966,
          8463,
          13920,
          8215,
          11294,
          13187,
          13839,
          6315,
          10797,
          8917,
          8613,
          19065,
          20569.9,
          3561,
          8011,
          26224,
          3803,
          16068,
          12279,
          2399,
          4383,
          1392,
          423,
          2620,
          464,
          4408.849999999999
         ],
         "yaxis": "y2"
        },
        {
         "alignmentgroup": "True",
         "hovertemplate": "product=Beans (mixed)<br>season_name=Summer<br>type=percent<br>year=%{x}<br>value=%{y}<extra></extra>",
         "legendgroup": "Beans (mixed)",
         "marker": {
          "color": "#ab63fa",
          "pattern": {
           "shape": ""
          }
         },
         "name": "Beans (mixed)",
         "offsetgroup": "Beans (mixed)",
         "orientation": "v",
         "showlegend": false,
         "textposition": "auto",
         "type": "bar",
         "x": [
          1982,
          1983,
          1984,
          1985,
          1986,
          1987,
          1988,
          1989,
          1990,
          1991,
          1992,
          1993,
          1994,
          1995,
          1996,
          1997,
          1998,
          1999,
          2000,
          2001,
          2002,
          2003,
          2004,
          2005,
          2006,
          2007,
          2008,
          2009,
          2010,
          2011,
          2012,
          2013,
          2014,
          2015,
          2016,
          2019,
          2020,
          2021,
          2022
         ],
         "xaxis": "x",
         "y": [
          10.042134831460674,
          3.840245775729647,
          6.492871804180572,
          4.360530965432882,
          11.07702222789127,
          8.342166830792005,
          8.919157777226495,
          8.576448608529162,
          1.8639894576224163,
          9.754247161785027,
          4.261363636363636,
          1.069714141016667,
          3.377289504236774,
          4.7254789819845575,
          3.1729071297618914,
          6.2864138944198595,
          4.48284894190577,
          5.991397511771658,
          7.253519499849837,
          5.68450212239486,
          4.17002337590301,
          8.836021703370896,
          7.7849173229033894,
          7.942025885121404,
          16.73763223739081,
          22.515485628657967,
          4.296055012667391,
          9.881583816454915,
          13.169220262038559,
          3.5736435565411866,
          21.52041144326583,
          9.412152477023433,
          2.0860506773795238,
          5.064124783362218,
          4.275263057673053,
          3.9984875697135838,
          11.28677896006548,
          1.0678449783669335,
          7.629294024894944
         ],
         "yaxis": "y"
        },
        {
         "alignmentgroup": "True",
         "hovertemplate": "product=Pea<br>season_name=Summer<br>type=orig_unit<br>year=%{x}<br>value=%{y}<extra></extra>",
         "legendgroup": "Pea",
         "marker": {
          "color": "#FFA15A",
          "pattern": {
           "shape": ""
          }
         },
         "name": "Pea",
         "offsetgroup": "Pea",
         "orientation": "v",
         "showlegend": true,
         "textposition": "auto",
         "type": "bar",
         "x": [
          1982,
          1983,
          1984,
          1985,
          1986,
          1987,
          1988,
          1989,
          1990,
          1991,
          1992,
          1993,
          1994,
          1995,
          1996,
          1997,
          1998,
          1999,
          2000,
          2001,
          2002,
          2003,
          2004,
          2005,
          2006,
          2007,
          2008,
          2009,
          2010,
          2011,
          2012,
          2013,
          2014,
          2015,
          2016,
          2019
         ],
         "xaxis": "x2",
         "y": [
          4600,
          3600,
          3639,
          3277,
          1502,
          1467,
          2564,
          1473,
          2861,
          809,
          1965,
          743,
          1358,
          1075,
          4047,
          2687.9,
          4904,
          3894.6,
          2800,
          3251,
          3041,
          1302,
          1498,
          519.4,
          669,
          1215,
          569,
          882,
          1592,
          673,
          936,
          557,
          88,
          329,
          209,
          48
         ],
         "yaxis": "y2"
        },
        {
         "alignmentgroup": "True",
         "hovertemplate": "product=Pea<br>season_name=Summer<br>type=percent<br>year=%{x}<br>value=%{y}<extra></extra>",
         "legendgroup": "Pea",
         "marker": {
          "color": "#FFA15A",
          "pattern": {
           "shape": ""
          }
         },
         "name": "Pea",
         "offsetgroup": "Pea",
         "orientation": "v",
         "showlegend": false,
         "textposition": "auto",
         "type": "bar",
         "x": [
          1982,
          1983,
          1984,
          1985,
          1986,
          1987,
          1988,
          1989,
          1990,
          1991,
          1992,
          1993,
          1994,
          1995,
          1996,
          1997,
          1998,
          1999,
          2000,
          2001,
          2002,
          2003,
          2004,
          2005,
          2006,
          2007,
          2008,
          2009,
          2010,
          2011,
          2012,
          2013,
          2014,
          2015,
          2016,
          2019
         ],
         "xaxis": "x",
         "y": [
          3.2303370786516856,
          2.7649769585253456,
          2.5405979027325913,
          1.8557740225615005,
          1.0083446900783448,
          0.9201472737422458,
          0.9938600843463161,
          0.6828707459655923,
          1.2402032181994729,
          1.0959980491505676,
          1.9937094155844155,
          0.5344973818260819,
          0.588296452892963,
          1.2808597845772567,
          1.5172817150119784,
          1.2138830392824096,
          2.676067098126098,
          2.066061337820604,
          1.5401421551209178,
          1.3353794638272771,
          2.008082515616952,
          1.065527485207827,
          1.3078172198844094,
          0.4789374485930636,
          0.5873315482200079,
          1.3299196903640478,
          0.6864519242369406,
          1.087948686320464,
          0.7994737132842199,
          0.6324118100321374,
          1.253616200578592,
          0.42695406219578563,
          0.07652040834072452,
          0.38012709416522245,
          0.6419037205845316,
          0.45372908592494565
         ],
         "yaxis": "y"
        }
       ],
       "layout": {
        "annotations": [
         {
          "showarrow": false,
          "text": "",
          "textangle": 90,
          "x": 0.98,
          "xanchor": "left",
          "xref": "paper",
          "y": 0.2375,
          "yanchor": "middle",
          "yref": "paper"
         },
         {
          "showarrow": false,
          "text": "",
          "textangle": 90,
          "x": 0.98,
          "xanchor": "left",
          "xref": "paper",
          "y": 0.7625,
          "yanchor": "middle",
          "yref": "paper"
         },
         {
          "align": "left",
          "font": {
           "color": "dimgrey",
           "family": "arial",
           "size": 15
          },
          "showarrow": false,
          "text": "National crop production in Lesotho - Summer",
          "x": 0,
          "xref": "paper",
          "y": -0.13,
          "yref": "paper"
         }
        ],
        "barmode": "relative",
        "font": {
         "color": "black",
         "family": "arial",
         "size": 15
        },
        "height": 600,
        "legend": {
         "title": {
          "text": "Product"
         },
         "tracegroupgap": 0,
         "x": 1,
         "y": 1.01
        },
        "margin": {
         "b": 0,
         "l": 0,
         "r": 0,
         "t": 0
        },
        "template": {
         "data": {
          "bar": [
           {
            "error_x": {
             "color": "#2a3f5f"
            },
            "error_y": {
             "color": "#2a3f5f"
            },
            "marker": {
             "line": {
              "color": "#E5ECF6",
              "width": 0.5
             },
             "pattern": {
              "fillmode": "overlay",
              "size": 10,
              "solidity": 0.2
             }
            },
            "type": "bar"
           }
          ],
          "barpolar": [
           {
            "marker": {
             "line": {
              "color": "#E5ECF6",
              "width": 0.5
             },
             "pattern": {
              "fillmode": "overlay",
              "size": 10,
              "solidity": 0.2
             }
            },
            "type": "barpolar"
           }
          ],
          "carpet": [
           {
            "aaxis": {
             "endlinecolor": "#2a3f5f",
             "gridcolor": "white",
             "linecolor": "white",
             "minorgridcolor": "white",
             "startlinecolor": "#2a3f5f"
            },
            "baxis": {
             "endlinecolor": "#2a3f5f",
             "gridcolor": "white",
             "linecolor": "white",
             "minorgridcolor": "white",
             "startlinecolor": "#2a3f5f"
            },
            "type": "carpet"
           }
          ],
          "choropleth": [
           {
            "colorbar": {
             "outlinewidth": 0,
             "ticks": ""
            },
            "type": "choropleth"
           }
          ],
          "contour": [
           {
            "colorbar": {
             "outlinewidth": 0,
             "ticks": ""
            },
            "colorscale": [
             [
              0,
              "#0d0887"
             ],
             [
              0.1111111111111111,
              "#46039f"
             ],
             [
              0.2222222222222222,
              "#7201a8"
             ],
             [
              0.3333333333333333,
              "#9c179e"
             ],
             [
              0.4444444444444444,
              "#bd3786"
             ],
             [
              0.5555555555555556,
              "#d8576b"
             ],
             [
              0.6666666666666666,
              "#ed7953"
             ],
             [
              0.7777777777777778,
              "#fb9f3a"
             ],
             [
              0.8888888888888888,
              "#fdca26"
             ],
             [
              1,
              "#f0f921"
             ]
            ],
            "type": "contour"
           }
          ],
          "contourcarpet": [
           {
            "colorbar": {
             "outlinewidth": 0,
             "ticks": ""
            },
            "type": "contourcarpet"
           }
          ],
          "heatmap": [
           {
            "colorbar": {
             "outlinewidth": 0,
             "ticks": ""
            },
            "colorscale": [
             [
              0,
              "#0d0887"
             ],
             [
              0.1111111111111111,
              "#46039f"
             ],
             [
              0.2222222222222222,
              "#7201a8"
             ],
             [
              0.3333333333333333,
              "#9c179e"
             ],
             [
              0.4444444444444444,
              "#bd3786"
             ],
             [
              0.5555555555555556,
              "#d8576b"
             ],
             [
              0.6666666666666666,
              "#ed7953"
             ],
             [
              0.7777777777777778,
              "#fb9f3a"
             ],
             [
              0.8888888888888888,
              "#fdca26"
             ],
             [
              1,
              "#f0f921"
             ]
            ],
            "type": "heatmap"
           }
          ],
          "heatmapgl": [
           {
            "colorbar": {
             "outlinewidth": 0,
             "ticks": ""
            },
            "colorscale": [
             [
              0,
              "#0d0887"
             ],
             [
              0.1111111111111111,
              "#46039f"
             ],
             [
              0.2222222222222222,
              "#7201a8"
             ],
             [
              0.3333333333333333,
              "#9c179e"
             ],
             [
              0.4444444444444444,
              "#bd3786"
             ],
             [
              0.5555555555555556,
              "#d8576b"
             ],
             [
              0.6666666666666666,
              "#ed7953"
             ],
             [
              0.7777777777777778,
              "#fb9f3a"
             ],
             [
              0.8888888888888888,
              "#fdca26"
             ],
             [
              1,
              "#f0f921"
             ]
            ],
            "type": "heatmapgl"
           }
          ],
          "histogram": [
           {
            "marker": {
             "pattern": {
              "fillmode": "overlay",
              "size": 10,
              "solidity": 0.2
             }
            },
            "type": "histogram"
           }
          ],
          "histogram2d": [
           {
            "colorbar": {
             "outlinewidth": 0,
             "ticks": ""
            },
            "colorscale": [
             [
              0,
              "#0d0887"
             ],
             [
              0.1111111111111111,
              "#46039f"
             ],
             [
              0.2222222222222222,
              "#7201a8"
             ],
             [
              0.3333333333333333,
              "#9c179e"
             ],
             [
              0.4444444444444444,
              "#bd3786"
             ],
             [
              0.5555555555555556,
              "#d8576b"
             ],
             [
              0.6666666666666666,
              "#ed7953"
             ],
             [
              0.7777777777777778,
              "#fb9f3a"
             ],
             [
              0.8888888888888888,
              "#fdca26"
             ],
             [
              1,
              "#f0f921"
             ]
            ],
            "type": "histogram2d"
           }
          ],
          "histogram2dcontour": [
           {
            "colorbar": {
             "outlinewidth": 0,
             "ticks": ""
            },
            "colorscale": [
             [
              0,
              "#0d0887"
             ],
             [
              0.1111111111111111,
              "#46039f"
             ],
             [
              0.2222222222222222,
              "#7201a8"
             ],
             [
              0.3333333333333333,
              "#9c179e"
             ],
             [
              0.4444444444444444,
              "#bd3786"
             ],
             [
              0.5555555555555556,
              "#d8576b"
             ],
             [
              0.6666666666666666,
              "#ed7953"
             ],
             [
              0.7777777777777778,
              "#fb9f3a"
             ],
             [
              0.8888888888888888,
              "#fdca26"
             ],
             [
              1,
              "#f0f921"
             ]
            ],
            "type": "histogram2dcontour"
           }
          ],
          "mesh3d": [
           {
            "colorbar": {
             "outlinewidth": 0,
             "ticks": ""
            },
            "type": "mesh3d"
           }
          ],
          "parcoords": [
           {
            "line": {
             "colorbar": {
              "outlinewidth": 0,
              "ticks": ""
             }
            },
            "type": "parcoords"
           }
          ],
          "pie": [
           {
            "automargin": true,
            "type": "pie"
           }
          ],
          "scatter": [
           {
            "fillpattern": {
             "fillmode": "overlay",
             "size": 10,
             "solidity": 0.2
            },
            "type": "scatter"
           }
          ],
          "scatter3d": [
           {
            "line": {
             "colorbar": {
              "outlinewidth": 0,
              "ticks": ""
             }
            },
            "marker": {
             "colorbar": {
              "outlinewidth": 0,
              "ticks": ""
             }
            },
            "type": "scatter3d"
           }
          ],
          "scattercarpet": [
           {
            "marker": {
             "colorbar": {
              "outlinewidth": 0,
              "ticks": ""
             }
            },
            "type": "scattercarpet"
           }
          ],
          "scattergeo": [
           {
            "marker": {
             "colorbar": {
              "outlinewidth": 0,
              "ticks": ""
             }
            },
            "type": "scattergeo"
           }
          ],
          "scattergl": [
           {
            "marker": {
             "colorbar": {
              "outlinewidth": 0,
              "ticks": ""
             }
            },
            "type": "scattergl"
           }
          ],
          "scattermapbox": [
           {
            "marker": {
             "colorbar": {
              "outlinewidth": 0,
              "ticks": ""
             }
            },
            "type": "scattermapbox"
           }
          ],
          "scatterpolar": [
           {
            "marker": {
             "colorbar": {
              "outlinewidth": 0,
              "ticks": ""
             }
            },
            "type": "scatterpolar"
           }
          ],
          "scatterpolargl": [
           {
            "marker": {
             "colorbar": {
              "outlinewidth": 0,
              "ticks": ""
             }
            },
            "type": "scatterpolargl"
           }
          ],
          "scatterternary": [
           {
            "marker": {
             "colorbar": {
              "outlinewidth": 0,
              "ticks": ""
             }
            },
            "type": "scatterternary"
           }
          ],
          "surface": [
           {
            "colorbar": {
             "outlinewidth": 0,
             "ticks": ""
            },
            "colorscale": [
             [
              0,
              "#0d0887"
             ],
             [
              0.1111111111111111,
              "#46039f"
             ],
             [
              0.2222222222222222,
              "#7201a8"
             ],
             [
              0.3333333333333333,
              "#9c179e"
             ],
             [
              0.4444444444444444,
              "#bd3786"
             ],
             [
              0.5555555555555556,
              "#d8576b"
             ],
             [
              0.6666666666666666,
              "#ed7953"
             ],
             [
              0.7777777777777778,
              "#fb9f3a"
             ],
             [
              0.8888888888888888,
              "#fdca26"
             ],
             [
              1,
              "#f0f921"
             ]
            ],
            "type": "surface"
           }
          ],
          "table": [
           {
            "cells": {
             "fill": {
              "color": "#EBF0F8"
             },
             "line": {
              "color": "white"
             }
            },
            "header": {
             "fill": {
              "color": "#C8D4E3"
             },
             "line": {
              "color": "white"
             }
            },
            "type": "table"
           }
          ]
         },
         "layout": {
          "annotationdefaults": {
           "arrowcolor": "#2a3f5f",
           "arrowhead": 0,
           "arrowwidth": 1
          },
          "autotypenumbers": "strict",
          "coloraxis": {
           "colorbar": {
            "outlinewidth": 0,
            "ticks": ""
           }
          },
          "colorscale": {
           "diverging": [
            [
             0,
             "#8e0152"
            ],
            [
             0.1,
             "#c51b7d"
            ],
            [
             0.2,
             "#de77ae"
            ],
            [
             0.3,
             "#f1b6da"
            ],
            [
             0.4,
             "#fde0ef"
            ],
            [
             0.5,
             "#f7f7f7"
            ],
            [
             0.6,
             "#e6f5d0"
            ],
            [
             0.7,
             "#b8e186"
            ],
            [
             0.8,
             "#7fbc41"
            ],
            [
             0.9,
             "#4d9221"
            ],
            [
             1,
             "#276419"
            ]
           ],
           "sequential": [
            [
             0,
             "#0d0887"
            ],
            [
             0.1111111111111111,
             "#46039f"
            ],
            [
             0.2222222222222222,
             "#7201a8"
            ],
            [
             0.3333333333333333,
             "#9c179e"
            ],
            [
             0.4444444444444444,
             "#bd3786"
            ],
            [
             0.5555555555555556,
             "#d8576b"
            ],
            [
             0.6666666666666666,
             "#ed7953"
            ],
            [
             0.7777777777777778,
             "#fb9f3a"
            ],
            [
             0.8888888888888888,
             "#fdca26"
            ],
            [
             1,
             "#f0f921"
            ]
           ],
           "sequentialminus": [
            [
             0,
             "#0d0887"
            ],
            [
             0.1111111111111111,
             "#46039f"
            ],
            [
             0.2222222222222222,
             "#7201a8"
            ],
            [
             0.3333333333333333,
             "#9c179e"
            ],
            [
             0.4444444444444444,
             "#bd3786"
            ],
            [
             0.5555555555555556,
             "#d8576b"
            ],
            [
             0.6666666666666666,
             "#ed7953"
            ],
            [
             0.7777777777777778,
             "#fb9f3a"
            ],
            [
             0.8888888888888888,
             "#fdca26"
            ],
            [
             1,
             "#f0f921"
            ]
           ]
          },
          "colorway": [
           "#636efa",
           "#EF553B",
           "#00cc96",
           "#ab63fa",
           "#FFA15A",
           "#19d3f3",
           "#FF6692",
           "#B6E880",
           "#FF97FF",
           "#FECB52"
          ],
          "font": {
           "color": "#2a3f5f"
          },
          "geo": {
           "bgcolor": "white",
           "lakecolor": "white",
           "landcolor": "#E5ECF6",
           "showlakes": true,
           "showland": true,
           "subunitcolor": "white"
          },
          "hoverlabel": {
           "align": "left"
          },
          "hovermode": "closest",
          "mapbox": {
           "style": "light"
          },
          "paper_bgcolor": "white",
          "plot_bgcolor": "#E5ECF6",
          "polar": {
           "angularaxis": {
            "gridcolor": "white",
            "linecolor": "white",
            "ticks": ""
           },
           "bgcolor": "#E5ECF6",
           "radialaxis": {
            "gridcolor": "white",
            "linecolor": "white",
            "ticks": ""
           }
          },
          "scene": {
           "xaxis": {
            "backgroundcolor": "#E5ECF6",
            "gridcolor": "white",
            "gridwidth": 2,
            "linecolor": "white",
            "showbackground": true,
            "ticks": "",
            "zerolinecolor": "white"
           },
           "yaxis": {
            "backgroundcolor": "#E5ECF6",
            "gridcolor": "white",
            "gridwidth": 2,
            "linecolor": "white",
            "showbackground": true,
            "ticks": "",
            "zerolinecolor": "white"
           },
           "zaxis": {
            "backgroundcolor": "#E5ECF6",
            "gridcolor": "white",
            "gridwidth": 2,
            "linecolor": "white",
            "showbackground": true,
            "ticks": "",
            "zerolinecolor": "white"
           }
          },
          "shapedefaults": {
           "line": {
            "color": "#2a3f5f"
           }
          },
          "ternary": {
           "aaxis": {
            "gridcolor": "white",
            "linecolor": "white",
            "ticks": ""
           },
           "baxis": {
            "gridcolor": "white",
            "linecolor": "white",
            "ticks": ""
           },
           "bgcolor": "#E5ECF6",
           "caxis": {
            "gridcolor": "white",
            "linecolor": "white",
            "ticks": ""
           }
          },
          "title": {
           "x": 0.05
          },
          "xaxis": {
           "automargin": true,
           "gridcolor": "white",
           "linecolor": "white",
           "ticks": "",
           "title": {
            "standoff": 15
           },
           "zerolinecolor": "white",
           "zerolinewidth": 2
          },
          "yaxis": {
           "automargin": true,
           "gridcolor": "white",
           "linecolor": "white",
           "ticks": "",
           "title": {
            "standoff": 15
           },
           "zerolinecolor": "white",
           "zerolinewidth": 2
          }
         }
        },
        "width": 900,
        "xaxis": {
         "anchor": "y",
         "domain": [
          0,
          0.98
         ],
         "dtick": 1,
         "range": [
          1980.5,
          2022.5
         ],
         "title": {
          "text": ""
         }
        },
        "xaxis2": {
         "anchor": "y2",
         "domain": [
          0,
          0.98
         ],
         "matches": "x",
         "showticklabels": false
        },
        "yaxis": {
         "anchor": "x",
         "domain": [
          0,
          0.475
         ],
         "range": [
          0,
          100
         ],
         "title": {
          "text": "Production (%)"
         }
        },
        "yaxis2": {
         "anchor": "x2",
         "domain": [
          0.525,
          1
         ],
         "title": {
          "text": "Production (t)"
         }
        }
       }
      }
     },
     "metadata": {},
     "output_type": "display_data"
    },
    {
     "data": {
      "application/vnd.plotly.v1+json": {
       "config": {
        "plotlyServerURL": "https://plot.ly"
       },
       "data": [
        {
         "alignmentgroup": "True",
         "hovertemplate": "product=Maize<br>season_name=Winter<br>type=orig_unit<br>year=%{x}<br>value=%{y}<extra></extra>",
         "legendgroup": "Maize",
         "marker": {
          "color": "#636efa",
          "pattern": {
           "shape": ""
          }
         },
         "name": "Maize",
         "offsetgroup": "Maize",
         "orientation": "v",
         "showlegend": true,
         "textposition": "auto",
         "type": "bar",
         "x": [
          2021
         ],
         "xaxis": "x2",
         "y": [
          750
         ],
         "yaxis": "y2"
        },
        {
         "alignmentgroup": "True",
         "hovertemplate": "product=Maize<br>season_name=Winter<br>type=percent<br>year=%{x}<br>value=%{y}<extra></extra>",
         "legendgroup": "Maize",
         "marker": {
          "color": "#636efa",
          "pattern": {
           "shape": ""
          }
         },
         "name": "Maize",
         "offsetgroup": "Maize",
         "orientation": "v",
         "showlegend": false,
         "textposition": "auto",
         "type": "bar",
         "x": [
          2021
         ],
         "xaxis": "x",
         "y": [
          93.05210918114145
         ],
         "yaxis": "y"
        },
        {
         "alignmentgroup": "True",
         "hovertemplate": "product=Wheat<br>season_name=Winter<br>type=orig_unit<br>year=%{x}<br>value=%{y}<extra></extra>",
         "legendgroup": "Wheat",
         "marker": {
          "color": "#00cc96",
          "pattern": {
           "shape": ""
          }
         },
         "name": "Wheat",
         "offsetgroup": "Wheat",
         "orientation": "v",
         "showlegend": true,
         "textposition": "auto",
         "type": "bar",
         "x": [
          2006,
          2007,
          2008,
          2010,
          2011,
          2012,
          2013,
          2014,
          2015,
          2016,
          2019,
          2020,
          2021,
          2022
         ],
         "xaxis": "x2",
         "y": [
          3579,
          2691,
          2569,
          196,
          110,
          114,
          290,
          182,
          417,
          385,
          321,
          221.34,
          56,
          56.11
         ],
         "yaxis": "y2"
        },
        {
         "alignmentgroup": "True",
         "hovertemplate": "product=Wheat<br>season_name=Winter<br>type=percent<br>year=%{x}<br>value=%{y}<extra></extra>",
         "legendgroup": "Wheat",
         "marker": {
          "color": "#00cc96",
          "pattern": {
           "shape": ""
          }
         },
         "name": "Wheat",
         "offsetgroup": "Wheat",
         "orientation": "v",
         "showlegend": false,
         "textposition": "auto",
         "type": "bar",
         "x": [
          2006,
          2007,
          2008,
          2010,
          2011,
          2012,
          2013,
          2014,
          2015,
          2016,
          2019,
          2020,
          2021,
          2022
         ],
         "xaxis": "x",
         "y": [
          57.438613384689454,
          75.3781512605042,
          87.44043567052417,
          51.9893899204244,
          24.282560706401764,
          100,
          50.877192982456144,
          48.793565683646115,
          74.06749555950266,
          81.6542948038176,
          94.13489736070382,
          49.04063455488102,
          6.9478908188585615,
          63.877504553734056
         ],
         "yaxis": "y"
        },
        {
         "alignmentgroup": "True",
         "hovertemplate": "product=Barley<br>season_name=Winter<br>type=orig_unit<br>year=%{x}<br>value=%{y}<extra></extra>",
         "legendgroup": "Barley",
         "marker": {
          "color": "#ab63fa",
          "pattern": {
           "shape": ""
          }
         },
         "name": "Barley",
         "offsetgroup": "Barley",
         "orientation": "v",
         "showlegend": true,
         "textposition": "auto",
         "type": "bar",
         "x": [
          2020
         ],
         "xaxis": "x2",
         "y": [
          221
         ],
         "yaxis": "y2"
        },
        {
         "alignmentgroup": "True",
         "hovertemplate": "product=Barley<br>season_name=Winter<br>type=percent<br>year=%{x}<br>value=%{y}<extra></extra>",
         "legendgroup": "Barley",
         "marker": {
          "color": "#ab63fa",
          "pattern": {
           "shape": ""
          }
         },
         "name": "Barley",
         "offsetgroup": "Barley",
         "orientation": "v",
         "showlegend": false,
         "textposition": "auto",
         "type": "bar",
         "x": [
          2020
         ],
         "xaxis": "x",
         "y": [
          48.96530331900563
         ],
         "yaxis": "y"
        },
        {
         "alignmentgroup": "True",
         "hovertemplate": "product=Oats<br>season_name=Winter<br>type=orig_unit<br>year=%{x}<br>value=%{y}<extra></extra>",
         "legendgroup": "Oats",
         "marker": {
          "color": "#FFA15A",
          "pattern": {
           "shape": ""
          }
         },
         "name": "Oats",
         "offsetgroup": "Oats",
         "orientation": "v",
         "showlegend": true,
         "textposition": "auto",
         "type": "bar",
         "x": [
          2020
         ],
         "xaxis": "x2",
         "y": [
          9
         ],
         "yaxis": "y2"
        },
        {
         "alignmentgroup": "True",
         "hovertemplate": "product=Oats<br>season_name=Winter<br>type=percent<br>year=%{x}<br>value=%{y}<extra></extra>",
         "legendgroup": "Oats",
         "marker": {
          "color": "#FFA15A",
          "pattern": {
           "shape": ""
          }
         },
         "name": "Oats",
         "offsetgroup": "Oats",
         "orientation": "v",
         "showlegend": false,
         "textposition": "auto",
         "type": "bar",
         "x": [
          2020
         ],
         "xaxis": "x",
         "y": [
          1.9940621261133513
         ],
         "yaxis": "y"
        },
        {
         "alignmentgroup": "True",
         "hovertemplate": "product=Pea<br>season_name=Winter<br>type=orig_unit<br>year=%{x}<br>value=%{y}<extra></extra>",
         "legendgroup": "Pea",
         "marker": {
          "color": "#19d3f3",
          "pattern": {
           "shape": ""
          }
         },
         "name": "Pea",
         "offsetgroup": "Pea",
         "orientation": "v",
         "showlegend": true,
         "textposition": "auto",
         "type": "bar",
         "x": [
          2006,
          2007,
          2008,
          2010,
          2011,
          2013,
          2014,
          2015,
          2016,
          2019,
          2022
         ],
         "xaxis": "x2",
         "y": [
          2652,
          879,
          369,
          181,
          343,
          280,
          191,
          146,
          86.5,
          20,
          31.73
         ],
         "yaxis": "y2"
        },
        {
         "alignmentgroup": "True",
         "hovertemplate": "product=Pea<br>season_name=Winter<br>type=percent<br>year=%{x}<br>value=%{y}<extra></extra>",
         "legendgroup": "Pea",
         "marker": {
          "color": "#19d3f3",
          "pattern": {
           "shape": ""
          }
         },
         "name": "Pea",
         "offsetgroup": "Pea",
         "orientation": "v",
         "showlegend": false,
         "textposition": "auto",
         "type": "bar",
         "x": [
          2006,
          2007,
          2008,
          2010,
          2011,
          2013,
          2014,
          2015,
          2016,
          2019,
          2022
         ],
         "xaxis": "x",
         "y": [
          42.56138661531054,
          24.6218487394958,
          12.559564329475833,
          48.01061007957559,
          75.71743929359823,
          49.122807017543856,
          51.206434316353885,
          25.932504440497333,
          18.345705196182397,
          5.865102639296188,
          36.12249544626594
         ],
         "yaxis": "y"
        }
       ],
       "layout": {
        "annotations": [
         {
          "showarrow": false,
          "text": "",
          "textangle": 90,
          "x": 0.98,
          "xanchor": "left",
          "xref": "paper",
          "y": 0.2375,
          "yanchor": "middle",
          "yref": "paper"
         },
         {
          "showarrow": false,
          "text": "",
          "textangle": 90,
          "x": 0.98,
          "xanchor": "left",
          "xref": "paper",
          "y": 0.7625,
          "yanchor": "middle",
          "yref": "paper"
         },
         {
          "align": "left",
          "font": {
           "color": "dimgrey",
           "family": "arial",
           "size": 15
          },
          "showarrow": false,
          "text": "National crop production in Lesotho - Winter",
          "x": 0,
          "xref": "paper",
          "y": -0.13,
          "yref": "paper"
         }
        ],
        "barmode": "relative",
        "font": {
         "color": "black",
         "family": "arial",
         "size": 15
        },
        "height": 600,
        "legend": {
         "title": {
          "text": "Product"
         },
         "tracegroupgap": 0,
         "x": 1,
         "y": 1.01
        },
        "margin": {
         "b": 0,
         "l": 0,
         "r": 0,
         "t": 0
        },
        "template": {
         "data": {
          "bar": [
           {
            "error_x": {
             "color": "#2a3f5f"
            },
            "error_y": {
             "color": "#2a3f5f"
            },
            "marker": {
             "line": {
              "color": "#E5ECF6",
              "width": 0.5
             },
             "pattern": {
              "fillmode": "overlay",
              "size": 10,
              "solidity": 0.2
             }
            },
            "type": "bar"
           }
          ],
          "barpolar": [
           {
            "marker": {
             "line": {
              "color": "#E5ECF6",
              "width": 0.5
             },
             "pattern": {
              "fillmode": "overlay",
              "size": 10,
              "solidity": 0.2
             }
            },
            "type": "barpolar"
           }
          ],
          "carpet": [
           {
            "aaxis": {
             "endlinecolor": "#2a3f5f",
             "gridcolor": "white",
             "linecolor": "white",
             "minorgridcolor": "white",
             "startlinecolor": "#2a3f5f"
            },
            "baxis": {
             "endlinecolor": "#2a3f5f",
             "gridcolor": "white",
             "linecolor": "white",
             "minorgridcolor": "white",
             "startlinecolor": "#2a3f5f"
            },
            "type": "carpet"
           }
          ],
          "choropleth": [
           {
            "colorbar": {
             "outlinewidth": 0,
             "ticks": ""
            },
            "type": "choropleth"
           }
          ],
          "contour": [
           {
            "colorbar": {
             "outlinewidth": 0,
             "ticks": ""
            },
            "colorscale": [
             [
              0,
              "#0d0887"
             ],
             [
              0.1111111111111111,
              "#46039f"
             ],
             [
              0.2222222222222222,
              "#7201a8"
             ],
             [
              0.3333333333333333,
              "#9c179e"
             ],
             [
              0.4444444444444444,
              "#bd3786"
             ],
             [
              0.5555555555555556,
              "#d8576b"
             ],
             [
              0.6666666666666666,
              "#ed7953"
             ],
             [
              0.7777777777777778,
              "#fb9f3a"
             ],
             [
              0.8888888888888888,
              "#fdca26"
             ],
             [
              1,
              "#f0f921"
             ]
            ],
            "type": "contour"
           }
          ],
          "contourcarpet": [
           {
            "colorbar": {
             "outlinewidth": 0,
             "ticks": ""
            },
            "type": "contourcarpet"
           }
          ],
          "heatmap": [
           {
            "colorbar": {
             "outlinewidth": 0,
             "ticks": ""
            },
            "colorscale": [
             [
              0,
              "#0d0887"
             ],
             [
              0.1111111111111111,
              "#46039f"
             ],
             [
              0.2222222222222222,
              "#7201a8"
             ],
             [
              0.3333333333333333,
              "#9c179e"
             ],
             [
              0.4444444444444444,
              "#bd3786"
             ],
             [
              0.5555555555555556,
              "#d8576b"
             ],
             [
              0.6666666666666666,
              "#ed7953"
             ],
             [
              0.7777777777777778,
              "#fb9f3a"
             ],
             [
              0.8888888888888888,
              "#fdca26"
             ],
             [
              1,
              "#f0f921"
             ]
            ],
            "type": "heatmap"
           }
          ],
          "heatmapgl": [
           {
            "colorbar": {
             "outlinewidth": 0,
             "ticks": ""
            },
            "colorscale": [
             [
              0,
              "#0d0887"
             ],
             [
              0.1111111111111111,
              "#46039f"
             ],
             [
              0.2222222222222222,
              "#7201a8"
             ],
             [
              0.3333333333333333,
              "#9c179e"
             ],
             [
              0.4444444444444444,
              "#bd3786"
             ],
             [
              0.5555555555555556,
              "#d8576b"
             ],
             [
              0.6666666666666666,
              "#ed7953"
             ],
             [
              0.7777777777777778,
              "#fb9f3a"
             ],
             [
              0.8888888888888888,
              "#fdca26"
             ],
             [
              1,
              "#f0f921"
             ]
            ],
            "type": "heatmapgl"
           }
          ],
          "histogram": [
           {
            "marker": {
             "pattern": {
              "fillmode": "overlay",
              "size": 10,
              "solidity": 0.2
             }
            },
            "type": "histogram"
           }
          ],
          "histogram2d": [
           {
            "colorbar": {
             "outlinewidth": 0,
             "ticks": ""
            },
            "colorscale": [
             [
              0,
              "#0d0887"
             ],
             [
              0.1111111111111111,
              "#46039f"
             ],
             [
              0.2222222222222222,
              "#7201a8"
             ],
             [
              0.3333333333333333,
              "#9c179e"
             ],
             [
              0.4444444444444444,
              "#bd3786"
             ],
             [
              0.5555555555555556,
              "#d8576b"
             ],
             [
              0.6666666666666666,
              "#ed7953"
             ],
             [
              0.7777777777777778,
              "#fb9f3a"
             ],
             [
              0.8888888888888888,
              "#fdca26"
             ],
             [
              1,
              "#f0f921"
             ]
            ],
            "type": "histogram2d"
           }
          ],
          "histogram2dcontour": [
           {
            "colorbar": {
             "outlinewidth": 0,
             "ticks": ""
            },
            "colorscale": [
             [
              0,
              "#0d0887"
             ],
             [
              0.1111111111111111,
              "#46039f"
             ],
             [
              0.2222222222222222,
              "#7201a8"
             ],
             [
              0.3333333333333333,
              "#9c179e"
             ],
             [
              0.4444444444444444,
              "#bd3786"
             ],
             [
              0.5555555555555556,
              "#d8576b"
             ],
             [
              0.6666666666666666,
              "#ed7953"
             ],
             [
              0.7777777777777778,
              "#fb9f3a"
             ],
             [
              0.8888888888888888,
              "#fdca26"
             ],
             [
              1,
              "#f0f921"
             ]
            ],
            "type": "histogram2dcontour"
           }
          ],
          "mesh3d": [
           {
            "colorbar": {
             "outlinewidth": 0,
             "ticks": ""
            },
            "type": "mesh3d"
           }
          ],
          "parcoords": [
           {
            "line": {
             "colorbar": {
              "outlinewidth": 0,
              "ticks": ""
             }
            },
            "type": "parcoords"
           }
          ],
          "pie": [
           {
            "automargin": true,
            "type": "pie"
           }
          ],
          "scatter": [
           {
            "fillpattern": {
             "fillmode": "overlay",
             "size": 10,
             "solidity": 0.2
            },
            "type": "scatter"
           }
          ],
          "scatter3d": [
           {
            "line": {
             "colorbar": {
              "outlinewidth": 0,
              "ticks": ""
             }
            },
            "marker": {
             "colorbar": {
              "outlinewidth": 0,
              "ticks": ""
             }
            },
            "type": "scatter3d"
           }
          ],
          "scattercarpet": [
           {
            "marker": {
             "colorbar": {
              "outlinewidth": 0,
              "ticks": ""
             }
            },
            "type": "scattercarpet"
           }
          ],
          "scattergeo": [
           {
            "marker": {
             "colorbar": {
              "outlinewidth": 0,
              "ticks": ""
             }
            },
            "type": "scattergeo"
           }
          ],
          "scattergl": [
           {
            "marker": {
             "colorbar": {
              "outlinewidth": 0,
              "ticks": ""
             }
            },
            "type": "scattergl"
           }
          ],
          "scattermapbox": [
           {
            "marker": {
             "colorbar": {
              "outlinewidth": 0,
              "ticks": ""
             }
            },
            "type": "scattermapbox"
           }
          ],
          "scatterpolar": [
           {
            "marker": {
             "colorbar": {
              "outlinewidth": 0,
              "ticks": ""
             }
            },
            "type": "scatterpolar"
           }
          ],
          "scatterpolargl": [
           {
            "marker": {
             "colorbar": {
              "outlinewidth": 0,
              "ticks": ""
             }
            },
            "type": "scatterpolargl"
           }
          ],
          "scatterternary": [
           {
            "marker": {
             "colorbar": {
              "outlinewidth": 0,
              "ticks": ""
             }
            },
            "type": "scatterternary"
           }
          ],
          "surface": [
           {
            "colorbar": {
             "outlinewidth": 0,
             "ticks": ""
            },
            "colorscale": [
             [
              0,
              "#0d0887"
             ],
             [
              0.1111111111111111,
              "#46039f"
             ],
             [
              0.2222222222222222,
              "#7201a8"
             ],
             [
              0.3333333333333333,
              "#9c179e"
             ],
             [
              0.4444444444444444,
              "#bd3786"
             ],
             [
              0.5555555555555556,
              "#d8576b"
             ],
             [
              0.6666666666666666,
              "#ed7953"
             ],
             [
              0.7777777777777778,
              "#fb9f3a"
             ],
             [
              0.8888888888888888,
              "#fdca26"
             ],
             [
              1,
              "#f0f921"
             ]
            ],
            "type": "surface"
           }
          ],
          "table": [
           {
            "cells": {
             "fill": {
              "color": "#EBF0F8"
             },
             "line": {
              "color": "white"
             }
            },
            "header": {
             "fill": {
              "color": "#C8D4E3"
             },
             "line": {
              "color": "white"
             }
            },
            "type": "table"
           }
          ]
         },
         "layout": {
          "annotationdefaults": {
           "arrowcolor": "#2a3f5f",
           "arrowhead": 0,
           "arrowwidth": 1
          },
          "autotypenumbers": "strict",
          "coloraxis": {
           "colorbar": {
            "outlinewidth": 0,
            "ticks": ""
           }
          },
          "colorscale": {
           "diverging": [
            [
             0,
             "#8e0152"
            ],
            [
             0.1,
             "#c51b7d"
            ],
            [
             0.2,
             "#de77ae"
            ],
            [
             0.3,
             "#f1b6da"
            ],
            [
             0.4,
             "#fde0ef"
            ],
            [
             0.5,
             "#f7f7f7"
            ],
            [
             0.6,
             "#e6f5d0"
            ],
            [
             0.7,
             "#b8e186"
            ],
            [
             0.8,
             "#7fbc41"
            ],
            [
             0.9,
             "#4d9221"
            ],
            [
             1,
             "#276419"
            ]
           ],
           "sequential": [
            [
             0,
             "#0d0887"
            ],
            [
             0.1111111111111111,
             "#46039f"
            ],
            [
             0.2222222222222222,
             "#7201a8"
            ],
            [
             0.3333333333333333,
             "#9c179e"
            ],
            [
             0.4444444444444444,
             "#bd3786"
            ],
            [
             0.5555555555555556,
             "#d8576b"
            ],
            [
             0.6666666666666666,
             "#ed7953"
            ],
            [
             0.7777777777777778,
             "#fb9f3a"
            ],
            [
             0.8888888888888888,
             "#fdca26"
            ],
            [
             1,
             "#f0f921"
            ]
           ],
           "sequentialminus": [
            [
             0,
             "#0d0887"
            ],
            [
             0.1111111111111111,
             "#46039f"
            ],
            [
             0.2222222222222222,
             "#7201a8"
            ],
            [
             0.3333333333333333,
             "#9c179e"
            ],
            [
             0.4444444444444444,
             "#bd3786"
            ],
            [
             0.5555555555555556,
             "#d8576b"
            ],
            [
             0.6666666666666666,
             "#ed7953"
            ],
            [
             0.7777777777777778,
             "#fb9f3a"
            ],
            [
             0.8888888888888888,
             "#fdca26"
            ],
            [
             1,
             "#f0f921"
            ]
           ]
          },
          "colorway": [
           "#636efa",
           "#EF553B",
           "#00cc96",
           "#ab63fa",
           "#FFA15A",
           "#19d3f3",
           "#FF6692",
           "#B6E880",
           "#FF97FF",
           "#FECB52"
          ],
          "font": {
           "color": "#2a3f5f"
          },
          "geo": {
           "bgcolor": "white",
           "lakecolor": "white",
           "landcolor": "#E5ECF6",
           "showlakes": true,
           "showland": true,
           "subunitcolor": "white"
          },
          "hoverlabel": {
           "align": "left"
          },
          "hovermode": "closest",
          "mapbox": {
           "style": "light"
          },
          "paper_bgcolor": "white",
          "plot_bgcolor": "#E5ECF6",
          "polar": {
           "angularaxis": {
            "gridcolor": "white",
            "linecolor": "white",
            "ticks": ""
           },
           "bgcolor": "#E5ECF6",
           "radialaxis": {
            "gridcolor": "white",
            "linecolor": "white",
            "ticks": ""
           }
          },
          "scene": {
           "xaxis": {
            "backgroundcolor": "#E5ECF6",
            "gridcolor": "white",
            "gridwidth": 2,
            "linecolor": "white",
            "showbackground": true,
            "ticks": "",
            "zerolinecolor": "white"
           },
           "yaxis": {
            "backgroundcolor": "#E5ECF6",
            "gridcolor": "white",
            "gridwidth": 2,
            "linecolor": "white",
            "showbackground": true,
            "ticks": "",
            "zerolinecolor": "white"
           },
           "zaxis": {
            "backgroundcolor": "#E5ECF6",
            "gridcolor": "white",
            "gridwidth": 2,
            "linecolor": "white",
            "showbackground": true,
            "ticks": "",
            "zerolinecolor": "white"
           }
          },
          "shapedefaults": {
           "line": {
            "color": "#2a3f5f"
           }
          },
          "ternary": {
           "aaxis": {
            "gridcolor": "white",
            "linecolor": "white",
            "ticks": ""
           },
           "baxis": {
            "gridcolor": "white",
            "linecolor": "white",
            "ticks": ""
           },
           "bgcolor": "#E5ECF6",
           "caxis": {
            "gridcolor": "white",
            "linecolor": "white",
            "ticks": ""
           }
          },
          "title": {
           "x": 0.05
          },
          "xaxis": {
           "automargin": true,
           "gridcolor": "white",
           "linecolor": "white",
           "ticks": "",
           "title": {
            "standoff": 15
           },
           "zerolinecolor": "white",
           "zerolinewidth": 2
          },
          "yaxis": {
           "automargin": true,
           "gridcolor": "white",
           "linecolor": "white",
           "ticks": "",
           "title": {
            "standoff": 15
           },
           "zerolinecolor": "white",
           "zerolinewidth": 2
          }
         }
        },
        "width": 900,
        "xaxis": {
         "anchor": "y",
         "domain": [
          0,
          0.98
         ],
         "dtick": 1,
         "range": [
          1980.5,
          2022.5
         ],
         "title": {
          "text": ""
         }
        },
        "xaxis2": {
         "anchor": "y2",
         "domain": [
          0,
          0.98
         ],
         "matches": "x",
         "showticklabels": false
        },
        "yaxis": {
         "anchor": "x",
         "domain": [
          0,
          0.475
         ],
         "range": [
          0,
          100
         ],
         "title": {
          "text": "Production (%)"
         }
        },
        "yaxis2": {
         "anchor": "x2",
         "domain": [
          0.525,
          1
         ],
         "title": {
          "text": "Production (t)"
         }
        }
       }
      }
     },
     "metadata": {},
     "output_type": "display_data"
    }
   ],
   "source": [
    "# Bar chart of national crop production\n",
    "country_iso, country_name = 'LS', 'Lesotho'\n",
    "df = pd.read_csv('../data/crop/adm_crop_production_%s.csv' % country_iso, index_col=0)\n",
    "df['year'] = df['harvest_year']\n",
    "year = [df['year'].min(), df['year'].max()]\n",
    "product_order = ['Maize','Sorghum','Wheat']\n",
    "for season_name in ['Summer','Winter']:\n",
    "    footnote = 'National crop production in %s - %s' % (country_name, season_name)\n",
    "    fn_save = '../figures/%s_bar_natgrainprod_%s.png' % (country_iso, season_name)\n",
    "    sub = df[df['season_name'] == season_name]\n",
    "    fig = PlotBarProduction(sub, year, product_order, footnote)#, fn_save)#trouble saving for some reason\n",
    "    fig.show()"
   ]
  },
  {
   "cell_type": "code",
   "execution_count": 8,
   "id": "2205dd08-f5a0-4ad2-b009-810166f0a5c7",
   "metadata": {},
   "outputs": [
    {
     "data": {
      "application/vnd.plotly.v1+json": {
       "config": {
        "plotlyServerURL": "https://plot.ly"
       },
       "data": [
        {
         "connectgaps": false,
         "hovertemplate": "fnid=LS1980A101<br>indicator=production<br>year=%{x}<br>value=%{y}<extra></extra>",
         "legendgroup": "LS1980A101",
         "line": {
          "color": "#636efa",
          "dash": "solid"
         },
         "marker": {
          "symbol": "circle"
         },
         "mode": "markers+lines",
         "name": "LS1980A101",
         "showlegend": true,
         "type": "scattergl",
         "x": [
          1982,
          1983,
          1984,
          1985,
          1986,
          1987,
          1988,
          1989,
          1990,
          1991,
          1992,
          1993,
          1994,
          1995,
          1996,
          1997,
          1998,
          1999,
          2000,
          2001,
          2002,
          2003,
          2004,
          2005,
          2006,
          2007,
          2008,
          2009,
          2010,
          2011,
          2012,
          2013,
          2014,
          2015,
          2016,
          2017,
          2018,
          2019,
          2020,
          2021,
          2022
         ],
         "xaxis": "x3",
         "y": [
          15600,
          15400,
          11500,
          22768,
          15844,
          16074,
          27751,
          28566,
          31893,
          7557,
          9068,
          11068,
          26591,
          14301,
          29610,
          21003,
          20251,
          16801,
          35622,
          28387,
          22964,
          9090,
          9440,
          20353,
          7679,
          8670,
          9095,
          7106,
          20479,
          6506,
          5037,
          13817,
          15515,
          6476,
          3173,
          8799,
          8675,
          2462,
          1811,
          9280,
          29490.9
         ],
         "yaxis": "y3"
        },
        {
         "connectgaps": false,
         "hovertemplate": "fnid=LS1980A101<br>indicator=area<br>year=%{x}<br>value=%{y}<extra></extra>",
         "legendgroup": "LS1980A101",
         "line": {
          "color": "#636efa",
          "dash": "solid"
         },
         "marker": {
          "symbol": "circle"
         },
         "mode": "markers+lines",
         "name": "LS1980A101",
         "showlegend": false,
         "type": "scattergl",
         "x": [
          1982,
          1983,
          1984,
          1985,
          1986,
          1987,
          1988,
          1989,
          1990,
          1991,
          1992,
          1993,
          1994,
          1995,
          1996,
          1997,
          1998,
          1999,
          2000,
          2001,
          2002,
          2003,
          2004,
          2005,
          2006,
          2007,
          2008,
          2009,
          2010,
          2011,
          2012,
          2013,
          2014,
          2015,
          2016,
          2017,
          2018,
          2019,
          2020,
          2021,
          2022
         ],
         "xaxis": "x2",
         "y": [
          21700,
          16400,
          22100,
          24400,
          21400,
          24500,
          28800,
          28300,
          25800,
          21600,
          25300,
          18583,
          26981,
          15850,
          20864,
          23015,
          9726,
          16621,
          28608,
          28806,
          25814,
          21224,
          21083,
          18729,
          10437,
          23787,
          26803,
          19947,
          23922,
          19714,
          10515,
          15735,
          19072,
          13705,
          9942,
          22172,
          20516,
          4966,
          4646,
          10873,
          37213
         ],
         "yaxis": "y2"
        },
        {
         "connectgaps": false,
         "hovertemplate": "fnid=LS1980A101<br>indicator=yield<br>year=%{x}<br>value=%{y}<extra></extra>",
         "legendgroup": "LS1980A101",
         "line": {
          "color": "#636efa",
          "dash": "solid"
         },
         "marker": {
          "symbol": "circle"
         },
         "mode": "markers+lines",
         "name": "LS1980A101",
         "showlegend": false,
         "type": "scattergl",
         "x": [
          1982,
          1983,
          1984,
          1985,
          1986,
          1987,
          1988,
          1989,
          1990,
          1991,
          1992,
          1993,
          1994,
          1995,
          1996,
          1997,
          1998,
          1999,
          2000,
          2001,
          2002,
          2003,
          2004,
          2005,
          2006,
          2007,
          2008,
          2009,
          2010,
          2011,
          2012,
          2013,
          2014,
          2015,
          2016,
          2017,
          2018,
          2019,
          2020,
          2021,
          2022
         ],
         "xaxis": "x",
         "y": [
          0.7188940092165899,
          0.9390243902439024,
          0.5203619909502263,
          0.9331147540983606,
          0.7403738317757009,
          0.6560816326530612,
          0.9635763888888887,
          1.009399293286219,
          1.2361627906976744,
          0.3498611111111111,
          0.3584189723320158,
          0.5955981273206694,
          0.985545383788592,
          0.9022712933753944,
          1.4191909509202454,
          0.9125787529871824,
          2.0821509356364385,
          1.0108296733048554,
          1.2451761744966443,
          0.9854544192182184,
          0.8895947935228945,
          0.428288729739917,
          0.4477541146895603,
          1.086710449036254,
          0.7357478202548625,
          0.3644848026232816,
          0.3393276871991941,
          0.3562440467238181,
          0.8560739068639746,
          0.330019275641676,
          0.4790299572039942,
          0.8781061328249126,
          0.8134962248322147,
          0.4725282743524261,
          0.3191510762422048,
          0.3968518852606891,
          0.422840709689998,
          0.4957712444623439,
          0.3897976754197159,
          0.8534902970661271,
          0.7924891838873512
         ],
         "yaxis": "y"
        },
        {
         "connectgaps": false,
         "hovertemplate": "fnid=LS1980A102<br>indicator=production<br>year=%{x}<br>value=%{y}<extra></extra>",
         "legendgroup": "LS1980A102",
         "line": {
          "color": "#EF553B",
          "dash": "solid"
         },
         "marker": {
          "symbol": "circle"
         },
         "mode": "markers+lines",
         "name": "LS1980A102",
         "showlegend": true,
         "type": "scattergl",
         "x": [
          1982,
          1983,
          1984,
          1985,
          1986,
          1987,
          1988,
          1989,
          1990,
          1991,
          1992,
          1993,
          1994,
          1995,
          1996,
          1997,
          1998,
          1999,
          2000,
          2001,
          2002,
          2003,
          2004,
          2005,
          2006,
          2007,
          2008,
          2009,
          2010,
          2011,
          2012,
          2013,
          2014,
          2015,
          2016,
          2017,
          2018,
          2019,
          2020,
          2021,
          2022
         ],
         "xaxis": "x3",
         "y": [
          6000,
          6200,
          3900,
          4841,
          4389,
          4319,
          9711,
          7012,
          11689,
          2471,
          1521,
          9518,
          5356,
          8213,
          8774,
          7500,
          8409,
          7125,
          11063,
          4846,
          3220,
          1721,
          4880,
          6193,
          4075,
          2863,
          4306,
          2066,
          6948,
          3997,
          3884,
          3180,
          2540,
          3343,
          1117,
          9782,
          4075,
          476,
          2089,
          2882,
          177.54
         ],
         "yaxis": "y3"
        },
        {
         "connectgaps": false,
         "hovertemplate": "fnid=LS1980A102<br>indicator=area<br>year=%{x}<br>value=%{y}<extra></extra>",
         "legendgroup": "LS1980A102",
         "line": {
          "color": "#EF553B",
          "dash": "solid"
         },
         "marker": {
          "symbol": "circle"
         },
         "mode": "markers+lines",
         "name": "LS1980A102",
         "showlegend": false,
         "type": "scattergl",
         "x": [
          1982,
          1983,
          1984,
          1985,
          1986,
          1987,
          1988,
          1989,
          1990,
          1991,
          1992,
          1993,
          1994,
          1995,
          1996,
          1997,
          1998,
          1999,
          2000,
          2001,
          2002,
          2003,
          2004,
          2005,
          2006,
          2007,
          2008,
          2009,
          2010,
          2011,
          2012,
          2013,
          2014,
          2015,
          2016,
          2017,
          2018,
          2019,
          2020,
          2021,
          2022
         ],
         "xaxis": "x2",
         "y": [
          5800,
          6100,
          6200,
          8400,
          5800,
          6300,
          7400,
          7300,
          18700,
          4000,
          4200,
          5409,
          5591,
          7746,
          7551,
          3428,
          3144,
          4266,
          7909,
          5291,
          4732,
          7567,
          5846,
          4776,
          5682,
          7449,
          9581,
          5026,
          6747,
          6515,
          5741,
          5220,
          4000,
          4765,
          2451,
          9461,
          7632,
          394,
          1227,
          1587,
          663
         ],
         "yaxis": "y2"
        },
        {
         "connectgaps": false,
         "hovertemplate": "fnid=LS1980A102<br>indicator=yield<br>year=%{x}<br>value=%{y}<extra></extra>",
         "legendgroup": "LS1980A102",
         "line": {
          "color": "#EF553B",
          "dash": "solid"
         },
         "marker": {
          "symbol": "circle"
         },
         "mode": "markers+lines",
         "name": "LS1980A102",
         "showlegend": false,
         "type": "scattergl",
         "x": [
          1982,
          1983,
          1984,
          1985,
          1986,
          1987,
          1988,
          1989,
          1990,
          1991,
          1992,
          1993,
          1994,
          1995,
          1996,
          1997,
          1998,
          1999,
          2000,
          2001,
          2002,
          2003,
          2004,
          2005,
          2006,
          2007,
          2008,
          2009,
          2010,
          2011,
          2012,
          2013,
          2014,
          2015,
          2016,
          2017,
          2018,
          2019,
          2020,
          2021,
          2022
         ],
         "xaxis": "x",
         "y": [
          1.0344827586206895,
          1.0163934426229508,
          0.6290322580645161,
          0.5763095238095238,
          0.7567241379310344,
          0.6855555555555556,
          1.3122972972972973,
          0.9605479452054796,
          0.6250802139037434,
          0.61775,
          0.3621428571428571,
          1.7596598262155667,
          0.9579681631192988,
          1.060289181513039,
          1.161965302608926,
          2.1878646441073513,
          2.674618320610687,
          1.670182841068917,
          1.3987861929447465,
          0.915894915894916,
          0.6804733727810651,
          0.2274349147614642,
          0.8347588094423537,
          1.2966917922948074,
          0.7171770503343893,
          0.3843468922002953,
          0.4494311658490763,
          0.4110624751293275,
          1.0297910182303245,
          0.6135072908672294,
          0.6765371886430935,
          0.6091954022988506,
          0.635,
          0.7015739769150052,
          0.4557323541411668,
          1.0339287601733431,
          0.5339360587002097,
          1.2081218274111676,
          1.7025264873675632,
          1.816005040957782,
          0.2677828054298642
         ],
         "yaxis": "y"
        },
        {
         "connectgaps": false,
         "hovertemplate": "fnid=LS1980A103<br>indicator=production<br>year=%{x}<br>value=%{y}<extra></extra>",
         "legendgroup": "LS1980A103",
         "line": {
          "color": "#00cc96",
          "dash": "solid"
         },
         "marker": {
          "symbol": "circle"
         },
         "mode": "markers+lines",
         "name": "LS1980A103",
         "showlegend": true,
         "type": "scattergl",
         "x": [
          1982,
          1983,
          1984,
          1985,
          1986,
          1987,
          1988,
          1989,
          1990,
          1991,
          1992,
          1993,
          1994,
          1995,
          1996,
          1997,
          1998,
          1999,
          2000,
          2001,
          2002,
          2003,
          2004,
          2005,
          2006,
          2007,
          2008,
          2009,
          2010,
          2011,
          2012,
          2013,
          2014,
          2015,
          2016,
          2017,
          2018,
          2019,
          2020,
          2021,
          2022
         ],
         "xaxis": "x3",
         "y": [
          23300,
          23300,
          23400,
          27382,
          20964,
          28657,
          45522,
          34894,
          34869,
          12964,
          14083,
          25629,
          38137,
          15845,
          35828,
          23862,
          2399,
          31384,
          15484,
          28167,
          31140,
          29603,
          22157,
          8436,
          17764,
          16639,
          18461,
          9767,
          21846,
          14112,
          7598,
          13967,
          14319,
          18849,
          4285,
          45461,
          13103,
          124,
          4757,
          9876,
          1147.72
         ],
         "yaxis": "y3"
        },
        {
         "connectgaps": false,
         "hovertemplate": "fnid=LS1980A103<br>indicator=area<br>year=%{x}<br>value=%{y}<extra></extra>",
         "legendgroup": "LS1980A103",
         "line": {
          "color": "#00cc96",
          "dash": "solid"
         },
         "marker": {
          "symbol": "circle"
         },
         "mode": "markers+lines",
         "name": "LS1980A103",
         "showlegend": false,
         "type": "scattergl",
         "x": [
          1982,
          1983,
          1984,
          1985,
          1986,
          1987,
          1988,
          1989,
          1990,
          1991,
          1992,
          1993,
          1994,
          1995,
          1996,
          1997,
          1998,
          1999,
          2000,
          2001,
          2002,
          2003,
          2004,
          2005,
          2006,
          2007,
          2008,
          2009,
          2010,
          2011,
          2012,
          2013,
          2014,
          2015,
          2016,
          2017,
          2018,
          2019,
          2020,
          2021,
          2022
         ],
         "xaxis": "x2",
         "y": [
          24300,
          23300,
          31900,
          33000,
          26300,
          35300,
          41500,
          40700,
          31000,
          20600,
          39200,
          24414,
          37580,
          22862,
          28371,
          28784,
          23318,
          29647,
          33955,
          37400,
          30469,
          32372,
          22977,
          20840,
          27377,
          24038,
          41181,
          21456,
          23862,
          22904,
          14151,
          19947,
          24655,
          18937,
          10685,
          33629,
          27259,
          511,
          6255,
          9478,
          3409
         ],
         "yaxis": "y2"
        },
        {
         "connectgaps": false,
         "hovertemplate": "fnid=LS1980A103<br>indicator=yield<br>year=%{x}<br>value=%{y}<extra></extra>",
         "legendgroup": "LS1980A103",
         "line": {
          "color": "#00cc96",
          "dash": "solid"
         },
         "marker": {
          "symbol": "circle"
         },
         "mode": "markers+lines",
         "name": "LS1980A103",
         "showlegend": false,
         "type": "scattergl",
         "x": [
          1982,
          1983,
          1984,
          1985,
          1986,
          1987,
          1988,
          1989,
          1990,
          1991,
          1992,
          1993,
          1994,
          1995,
          1996,
          1997,
          1998,
          1999,
          2000,
          2001,
          2002,
          2003,
          2004,
          2005,
          2006,
          2007,
          2008,
          2009,
          2010,
          2011,
          2012,
          2013,
          2014,
          2015,
          2016,
          2017,
          2018,
          2019,
          2020,
          2021,
          2022
         ],
         "xaxis": "x",
         "y": [
          0.9588477366255144,
          1,
          0.7335423197492164,
          0.8297575757575758,
          0.7971102661596958,
          0.8118130311614731,
          1.0969156626506025,
          0.8573464373464373,
          1.1248064516129033,
          0.6293203883495145,
          0.3592602040816327,
          1.0497665274023102,
          1.014821713677488,
          0.6930714723121336,
          1.2628388142821896,
          0.8290022234574764,
          0.1028818938159361,
          1.058589401963099,
          0.4560153143866882,
          0.7531283422459893,
          1.0220223834060849,
          0.9144631162733228,
          0.9643121382251816,
          0.4047984644913627,
          0.6488658362859334,
          0.692195690157251,
          0.4482892596100143,
          0.4552106636838181,
          0.9155142066884586,
          0.6161369193154034,
          0.5369231856405907,
          0.7002055446934377,
          0.580774690732103,
          0.9953530126207952,
          0.4010294805802527,
          1.3518391864164858,
          0.4806852782567225,
          0.2426614481409001,
          0.760511590727418,
          1.0419919814306815,
          0.3366735112936345
         ],
         "yaxis": "y"
        },
        {
         "connectgaps": false,
         "hovertemplate": "fnid=LS1980A104<br>indicator=production<br>year=%{x}<br>value=%{y}<extra></extra>",
         "legendgroup": "LS1980A104",
         "line": {
          "color": "#ab63fa",
          "dash": "solid"
         },
         "marker": {
          "symbol": "circle"
         },
         "mode": "markers+lines",
         "name": "LS1980A104",
         "showlegend": true,
         "type": "scattergl",
         "x": [
          1982,
          1983,
          1984,
          1985,
          1986,
          1987,
          1988,
          1989,
          1990,
          1991,
          1992,
          1993,
          1994,
          1995,
          1996,
          1997,
          1998,
          1999,
          2000,
          2001,
          2002,
          2003,
          2004,
          2005,
          2006,
          2007,
          2008,
          2009,
          2010,
          2011,
          2012,
          2013,
          2014,
          2015,
          2016,
          2017,
          2018,
          2019,
          2020,
          2021,
          2022
         ],
         "xaxis": "x3",
         "y": [
          4700,
          7900,
          8100,
          7008,
          7859,
          7711,
          12518,
          16444,
          25616,
          6984,
          10932,
          1558,
          15125,
          406,
          26232,
          15869,
          7178,
          5746,
          14492,
          19619,
          16386,
          11631,
          10389,
          6220,
          5721,
          3709,
          4867,
          6612,
          7745,
          5788,
          1850,
          10069,
          10191,
          3001,
          348,
          23948,
          5808,
          1024,
          6508,
          7304,
          15318.92
         ],
         "yaxis": "y3"
        },
        {
         "connectgaps": false,
         "hovertemplate": "fnid=LS1980A104<br>indicator=area<br>year=%{x}<br>value=%{y}<extra></extra>",
         "legendgroup": "LS1980A104",
         "line": {
          "color": "#ab63fa",
          "dash": "solid"
         },
         "marker": {
          "symbol": "circle"
         },
         "mode": "markers+lines",
         "name": "LS1980A104",
         "showlegend": false,
         "type": "scattergl",
         "x": [
          1982,
          1983,
          1984,
          1985,
          1986,
          1987,
          1988,
          1989,
          1990,
          1991,
          1992,
          1993,
          1994,
          1995,
          1996,
          1997,
          1998,
          1999,
          2000,
          2001,
          2002,
          2003,
          2004,
          2005,
          2006,
          2007,
          2008,
          2009,
          2010,
          2011,
          2012,
          2013,
          2014,
          2015,
          2016,
          2017,
          2018,
          2019,
          2020,
          2021,
          2022
         ],
         "xaxis": "x2",
         "y": [
          23300,
          23700,
          20700,
          19200,
          23100,
          27200,
          32000,
          31400,
          31300,
          15000,
          30400,
          17664,
          27611,
          7794,
          25929,
          31769,
          6422,
          14757,
          22975,
          33956,
          22029,
          19283,
          21291,
          19390,
          19895,
          16648,
          24968,
          27290,
          23292,
          25365,
          10961,
          16841,
          22326,
          19269,
          4449,
          21095,
          20848,
          3268,
          8677,
          8943,
          25892
         ],
         "yaxis": "y2"
        },
        {
         "connectgaps": false,
         "hovertemplate": "fnid=LS1980A104<br>indicator=yield<br>year=%{x}<br>value=%{y}<extra></extra>",
         "legendgroup": "LS1980A104",
         "line": {
          "color": "#ab63fa",
          "dash": "solid"
         },
         "marker": {
          "symbol": "circle"
         },
         "mode": "markers+lines",
         "name": "LS1980A104",
         "showlegend": false,
         "type": "scattergl",
         "x": [
          1982,
          1983,
          1984,
          1985,
          1986,
          1987,
          1988,
          1989,
          1990,
          1991,
          1992,
          1993,
          1994,
          1995,
          1996,
          1997,
          1998,
          1999,
          2000,
          2001,
          2002,
          2003,
          2004,
          2005,
          2006,
          2007,
          2008,
          2009,
          2010,
          2011,
          2012,
          2013,
          2014,
          2015,
          2016,
          2017,
          2018,
          2019,
          2020,
          2021,
          2022
         ],
         "xaxis": "x",
         "y": [
          0.2017167381974249,
          0.3333333333333333,
          0.391304347826087,
          0.365,
          0.3402164502164502,
          0.2834926470588235,
          0.3911875,
          0.5236942675159235,
          0.8184025559105431,
          0.4656,
          0.3596052631578947,
          0.0882019927536231,
          0.5477889247039224,
          0.0520913523222992,
          1.0116857572602105,
          0.4995121029934842,
          1.1177203363438182,
          0.389374534119401,
          0.630772578890098,
          0.577777123336082,
          0.7438376685278496,
          0.6031737800134834,
          0.4879526560518529,
          0.3207839092315626,
          0.2875596883639105,
          0.2227895242671792,
          0.1949295097725088,
          0.2422865518504947,
          0.3325176026103383,
          0.2281884486497141,
          0.1687802207827753,
          0.5978861112760525,
          0.4564633163128191,
          0.155742384140329,
          0.0782198246797033,
          1.1352453187959233,
          0.2785878741366078,
          0.3133414932680538,
          0.7500288118013139,
          0.8167281672816729,
          0.5916468407230032
         ],
         "yaxis": "y"
        },
        {
         "connectgaps": false,
         "hovertemplate": "fnid=LS1980A105<br>indicator=production<br>year=%{x}<br>value=%{y}<extra></extra>",
         "legendgroup": "LS1980A105",
         "line": {
          "color": "#FFA15A",
          "dash": "solid"
         },
         "marker": {
          "symbol": "circle"
         },
         "mode": "markers+lines",
         "name": "LS1980A105",
         "showlegend": true,
         "type": "scattergl",
         "x": [
          1982,
          1983,
          1984,
          1985,
          1986,
          1987,
          1988,
          1989,
          1990,
          1991,
          1992,
          1993,
          1994,
          1995,
          1996,
          1997,
          1998,
          1999,
          2000,
          2001,
          2002,
          2003,
          2004,
          2005,
          2006,
          2007,
          2008,
          2009,
          2010,
          2011,
          2012,
          2013,
          2014,
          2015,
          2016,
          2017,
          2018,
          2019,
          2020,
          2021,
          2022
         ],
         "xaxis": "x3",
         "y": [
          10700,
          13700,
          13500,
          17002,
          18707,
          16146,
          30436,
          19862,
          28015,
          7085,
          7886,
          28346,
          22517,
          8191,
          38579,
          32035,
          21404,
          27552,
          26042,
          31586,
          19402,
          13246,
          14413,
          10263,
          23645,
          11003,
          12775,
          9007,
          23931,
          10145,
          7730,
          15671,
          15044,
          14873,
          4766,
          52794,
          13266,
          767,
          1299,
          9240,
          5874.79
         ],
         "yaxis": "y3"
        },
        {
         "connectgaps": false,
         "hovertemplate": "fnid=LS1980A105<br>indicator=area<br>year=%{x}<br>value=%{y}<extra></extra>",
         "legendgroup": "LS1980A105",
         "line": {
          "color": "#FFA15A",
          "dash": "solid"
         },
         "marker": {
          "symbol": "circle"
         },
         "mode": "markers+lines",
         "name": "LS1980A105",
         "showlegend": false,
         "type": "scattergl",
         "x": [
          1982,
          1983,
          1984,
          1985,
          1986,
          1987,
          1988,
          1989,
          1990,
          1991,
          1992,
          1993,
          1994,
          1995,
          1996,
          1997,
          1998,
          1999,
          2000,
          2001,
          2002,
          2003,
          2004,
          2005,
          2006,
          2007,
          2008,
          2009,
          2010,
          2011,
          2012,
          2013,
          2014,
          2015,
          2016,
          2017,
          2018,
          2019,
          2020,
          2021,
          2022
         ],
         "xaxis": "x2",
         "y": [
          18400,
          18000,
          19900,
          23800,
          24300,
          25600,
          30100,
          29500,
          25900,
          15800,
          22000,
          19520,
          32370,
          12745,
          28465,
          31629,
          15117,
          23545,
          28945,
          31835,
          22080,
          21558,
          19542,
          18230,
          33711,
          23375,
          34560,
          14996,
          24822,
          24133,
          13839,
          18175,
          19598,
          22177,
          13781,
          33624,
          21881,
          2035,
          1882,
          8934,
          9165
         ],
         "yaxis": "y2"
        },
        {
         "connectgaps": false,
         "hovertemplate": "fnid=LS1980A105<br>indicator=yield<br>year=%{x}<br>value=%{y}<extra></extra>",
         "legendgroup": "LS1980A105",
         "line": {
          "color": "#FFA15A",
          "dash": "solid"
         },
         "marker": {
          "symbol": "circle"
         },
         "mode": "markers+lines",
         "name": "LS1980A105",
         "showlegend": false,
         "type": "scattergl",
         "x": [
          1982,
          1983,
          1984,
          1985,
          1986,
          1987,
          1988,
          1989,
          1990,
          1991,
          1992,
          1993,
          1994,
          1995,
          1996,
          1997,
          1998,
          1999,
          2000,
          2001,
          2002,
          2003,
          2004,
          2005,
          2006,
          2007,
          2008,
          2009,
          2010,
          2011,
          2012,
          2013,
          2014,
          2015,
          2016,
          2017,
          2018,
          2019,
          2020,
          2021,
          2022
         ],
         "xaxis": "x",
         "y": [
          0.5815217391304348,
          0.7611111111111111,
          0.678391959798995,
          0.7143697478991596,
          0.7698353909465021,
          0.630703125,
          1.0111627906976743,
          0.6732881355932203,
          1.0816602316602315,
          0.4484177215189873,
          0.3584545454545454,
          1.4521516393442624,
          0.6956132221192463,
          0.6426834052569635,
          1.3553135429474794,
          1.0128363210977267,
          1.4158893960441887,
          1.1701847526014015,
          0.8997063396096044,
          0.9921784199780116,
          0.878713768115942,
          0.6144354763892754,
          0.7375396581721421,
          0.5629731212287439,
          0.7014031028447688,
          0.4707165775401069,
          0.3696469907407407,
          0.6006268338223526,
          0.9641044234952864,
          0.4203787345129076,
          0.5585663704024857,
          0.8622283356258597,
          0.7676293499336667,
          0.6706497722866033,
          0.3458384732602859,
          1.5701284796573876,
          0.6062794205018052,
          0.3769041769041769,
          0.6902231668437833,
          1.0342511752854264,
          0.6410027277686852
         ],
         "yaxis": "y"
        },
        {
         "connectgaps": false,
         "hovertemplate": "fnid=LS1980A106<br>indicator=production<br>year=%{x}<br>value=%{y}<extra></extra>",
         "legendgroup": "LS1980A106",
         "line": {
          "color": "#19d3f3",
          "dash": "solid"
         },
         "marker": {
          "symbol": "circle"
         },
         "mode": "markers+lines",
         "name": "LS1980A106",
         "showlegend": true,
         "type": "scattergl",
         "x": [
          1982,
          1983,
          1984,
          1985,
          1986,
          1987,
          1988,
          1989,
          1990,
          1991,
          1992,
          1993,
          1994,
          1995,
          1996,
          1997,
          1998,
          1999,
          2000,
          2001,
          2002,
          2003,
          2004,
          2005,
          2006,
          2007,
          2008,
          2009,
          2010,
          2011,
          2012,
          2013,
          2014,
          2015,
          2016,
          2017,
          2018,
          2019,
          2020,
          2021,
          2022
         ],
         "xaxis": "x3",
         "y": [
          7800,
          1200,
          1500,
          4174,
          6376,
          4480,
          11233,
          7912,
          10153,
          2820,
          4393,
          1124,
          12646,
          2011,
          13060,
          16123,
          18753,
          9722,
          7560,
          17919,
          5395,
          8862,
          6385,
          6824,
          4234,
          6210,
          5217,
          5113,
          8640,
          6791,
          2297,
          3529,
          11167,
          4068,
          1970,
          15062,
          4872,
          377,
          788,
          833,
          null
         ],
         "yaxis": "y3"
        },
        {
         "connectgaps": false,
         "hovertemplate": "fnid=LS1980A106<br>indicator=area<br>year=%{x}<br>value=%{y}<extra></extra>",
         "legendgroup": "LS1980A106",
         "line": {
          "color": "#19d3f3",
          "dash": "solid"
         },
         "marker": {
          "symbol": "circle"
         },
         "mode": "markers+lines",
         "name": "LS1980A106",
         "showlegend": false,
         "type": "scattergl",
         "x": [
          1982,
          1983,
          1984,
          1985,
          1986,
          1987,
          1988,
          1989,
          1990,
          1991,
          1992,
          1993,
          1994,
          1995,
          1996,
          1997,
          1998,
          1999,
          2000,
          2001,
          2002,
          2003,
          2004,
          2005,
          2006,
          2007,
          2008,
          2009,
          2010,
          2011,
          2012,
          2013,
          2014,
          2015,
          2016,
          2017,
          2018,
          2019,
          2020,
          2021,
          2022
         ],
         "xaxis": "x2",
         "y": [
          14500,
          9200,
          7300,
          12100,
          14700,
          16100,
          18900,
          18950,
          11000,
          6000,
          12200,
          5885,
          14480,
          2749,
          11814,
          18333,
          10345,
          16014,
          13248,
          24727,
          12778,
          12547,
          12627,
          12509,
          9506,
          18791,
          27019,
          19094,
          16131,
          17808,
          8306,
          8640,
          18145,
          9671,
          6042,
          15383,
          12062,
          1403,
          983,
          2378,
          null
         ],
         "yaxis": "y2"
        },
        {
         "connectgaps": false,
         "hovertemplate": "fnid=LS1980A106<br>indicator=yield<br>year=%{x}<br>value=%{y}<extra></extra>",
         "legendgroup": "LS1980A106",
         "line": {
          "color": "#19d3f3",
          "dash": "solid"
         },
         "marker": {
          "symbol": "circle"
         },
         "mode": "markers+lines",
         "name": "LS1980A106",
         "showlegend": false,
         "type": "scattergl",
         "x": [
          1982,
          1983,
          1984,
          1985,
          1986,
          1987,
          1988,
          1989,
          1990,
          1991,
          1992,
          1993,
          1994,
          1995,
          1996,
          1997,
          1998,
          1999,
          2000,
          2001,
          2002,
          2003,
          2004,
          2005,
          2006,
          2007,
          2008,
          2009,
          2010,
          2011,
          2012,
          2013,
          2014,
          2015,
          2016,
          2017,
          2018,
          2019,
          2020,
          2021,
          2022
         ],
         "xaxis": "x",
         "y": [
          0.5379310344827586,
          0.1304347826086956,
          0.2054794520547945,
          0.3449586776859504,
          0.4337414965986395,
          0.2782608695652174,
          0.5943386243386244,
          0.4175197889182058,
          0.923,
          0.47,
          0.3600819672131147,
          0.1909940526762956,
          0.8733425414364641,
          0.7315387413604947,
          1.105468088708312,
          0.8794523536791578,
          1.8127597873368777,
          0.6070937929311853,
          0.5706521739130435,
          0.724673433898168,
          0.4222100485208953,
          0.706304295847613,
          0.5056624693117922,
          0.5455272204013111,
          0.445402903429413,
          0.3304773561811505,
          0.1930863466449535,
          0.2677804545930659,
          0.5356146550120885,
          0.3813454627133872,
          0.2765470744040452,
          0.408449074074074,
          0.6154312482777625,
          0.4206390238858443,
          0.3260509764978484,
          0.9791328089449391,
          0.4039131155695573,
          0.2687099073414112,
          0.8016276703967447,
          0.3502943650126156,
          null
         ],
         "yaxis": "y"
        },
        {
         "connectgaps": false,
         "hovertemplate": "fnid=LS1980A107<br>indicator=production<br>year=%{x}<br>value=%{y}<extra></extra>",
         "legendgroup": "LS1980A107",
         "line": {
          "color": "#FF6692",
          "dash": "solid"
         },
         "marker": {
          "symbol": "circle"
         },
         "mode": "markers+lines",
         "name": "LS1980A107",
         "showlegend": true,
         "type": "scattergl",
         "x": [
          1982,
          1983,
          1984,
          1985,
          1986,
          1987,
          1988,
          1989,
          1990,
          1991,
          1992,
          1993,
          1994,
          1995,
          1996,
          1997,
          1998,
          1999,
          2000,
          2001,
          2002,
          2003,
          2004,
          2005,
          2006,
          2007,
          2008,
          2009,
          2010,
          2011,
          2012,
          2013,
          2014,
          2015,
          2016,
          2017,
          2018,
          2019,
          2020,
          2021,
          2022
         ],
         "xaxis": "x3",
         "y": [
          2600,
          4000,
          6200,
          2603,
          3188,
          2305,
          5159,
          7568,
          5669,
          2664,
          2865,
          4034,
          6203,
          4375,
          12252,
          6376,
          13860,
          5990,
          4638,
          8122,
          2931,
          1652,
          3840,
          4730,
          4463,
          2444,
          3318,
          6615,
          17315,
          11213,
          7278,
          13493,
          10531,
          8197,
          3933,
          11289,
          3622,
          null,
          null,
          null,
          null
         ],
         "yaxis": "y3"
        },
        {
         "connectgaps": false,
         "hovertemplate": "fnid=LS1980A107<br>indicator=area<br>year=%{x}<br>value=%{y}<extra></extra>",
         "legendgroup": "LS1980A107",
         "line": {
          "color": "#FF6692",
          "dash": "solid"
         },
         "marker": {
          "symbol": "circle"
         },
         "mode": "markers+lines",
         "name": "LS1980A107",
         "showlegend": false,
         "type": "scattergl",
         "x": [
          1982,
          1983,
          1984,
          1985,
          1986,
          1987,
          1988,
          1989,
          1990,
          1991,
          1992,
          1993,
          1994,
          1995,
          1996,
          1997,
          1998,
          1999,
          2000,
          2001,
          2002,
          2003,
          2004,
          2005,
          2006,
          2007,
          2008,
          2009,
          2010,
          2011,
          2012,
          2013,
          2014,
          2015,
          2016,
          2017,
          2018,
          2019,
          2020,
          2021,
          2022
         ],
         "xaxis": "x2",
         "y": [
          5400,
          8700,
          7400,
          7100,
          5300,
          5500,
          6700,
          6400,
          12300,
          6500,
          8000,
          6471,
          6724,
          6619,
          7453,
          5894,
          10184,
          10144,
          9103,
          9388,
          7622,
          6491,
          8099,
          4901,
          6235,
          5554,
          8880,
          8373,
          11156,
          13093,
          14547,
          9818,
          17189,
          6901,
          9882,
          9879,
          10114,
          null,
          null,
          null,
          null
         ],
         "yaxis": "y2"
        },
        {
         "connectgaps": false,
         "hovertemplate": "fnid=LS1980A107<br>indicator=yield<br>year=%{x}<br>value=%{y}<extra></extra>",
         "legendgroup": "LS1980A107",
         "line": {
          "color": "#FF6692",
          "dash": "solid"
         },
         "marker": {
          "symbol": "circle"
         },
         "mode": "markers+lines",
         "name": "LS1980A107",
         "showlegend": false,
         "type": "scattergl",
         "x": [
          1982,
          1983,
          1984,
          1985,
          1986,
          1987,
          1988,
          1989,
          1990,
          1991,
          1992,
          1993,
          1994,
          1995,
          1996,
          1997,
          1998,
          1999,
          2000,
          2001,
          2002,
          2003,
          2004,
          2005,
          2006,
          2007,
          2008,
          2009,
          2010,
          2011,
          2012,
          2013,
          2014,
          2015,
          2016,
          2017,
          2018,
          2019,
          2020,
          2021,
          2022
         ],
         "xaxis": "x",
         "y": [
          0.4814814814814814,
          0.4597701149425287,
          0.8378378378378378,
          0.3666197183098592,
          0.6015094339622642,
          0.419090909090909,
          0.77,
          1.1825,
          0.4608943089430894,
          0.4098461538461538,
          0.358125,
          0.6233966929377222,
          0.9225163593099346,
          0.6609759782444478,
          1.6439017845163022,
          1.0817780794027825,
          1.360958366064415,
          0.5904968454258676,
          0.5095023618587279,
          0.8651469961653174,
          0.3845447389136709,
          0.2545062394084116,
          0.4741326089640696,
          0.9651091613956336,
          0.7157979149959903,
          0.4400432120993878,
          0.3736486486486486,
          0.7900394123969904,
          1.5520795984223736,
          0.8564118231115864,
          0.5003093421323984,
          1.3743124872682828,
          0.6126592588283204,
          1.1877988697290247,
          0.3979963570127504,
          1.142726996659581,
          0.3581174609452244,
          null,
          null,
          null,
          null
         ],
         "yaxis": "y"
        },
        {
         "connectgaps": false,
         "hovertemplate": "fnid=LS1980A108<br>indicator=production<br>year=%{x}<br>value=%{y}<extra></extra>",
         "legendgroup": "LS1980A108",
         "line": {
          "color": "#B6E880",
          "dash": "solid"
         },
         "marker": {
          "symbol": "circle"
         },
         "mode": "markers+lines",
         "name": "LS1980A108",
         "showlegend": true,
         "type": "scattergl",
         "x": [
          1982,
          1983,
          1984,
          1985,
          1986,
          1987,
          1988,
          1989,
          1990,
          1991,
          1992,
          1993,
          1994,
          1995,
          1996,
          1997,
          1998,
          1999,
          2000,
          2001,
          2002,
          2003,
          2004,
          2005,
          2006,
          2007,
          2008,
          2009,
          2010,
          2011,
          2012,
          2013,
          2014,
          2015,
          2016,
          2017,
          2018,
          2019,
          2020,
          2021,
          2022
         ],
         "xaxis": "x3",
         "y": [
          3000,
          600,
          1100,
          2117,
          993,
          2730,
          2891,
          3749,
          2157,
          1764,
          1907,
          2030,
          3437,
          914,
          3065,
          3587,
          1474,
          1120,
          3416,
          2871,
          2948,
          120,
          258,
          1550,
          1223,
          660,
          844,
          2614,
          7785,
          1702,
          760,
          1696,
          944,
          396,
          1607,
          7369,
          1594,
          null,
          null,
          null,
          null
         ],
         "yaxis": "y3"
        },
        {
         "connectgaps": false,
         "hovertemplate": "fnid=LS1980A108<br>indicator=area<br>year=%{x}<br>value=%{y}<extra></extra>",
         "legendgroup": "LS1980A108",
         "line": {
          "color": "#B6E880",
          "dash": "solid"
         },
         "marker": {
          "symbol": "circle"
         },
         "mode": "markers+lines",
         "name": "LS1980A108",
         "showlegend": false,
         "type": "scattergl",
         "x": [
          1982,
          1983,
          1984,
          1985,
          1986,
          1987,
          1988,
          1989,
          1990,
          1991,
          1992,
          1993,
          1994,
          1995,
          1996,
          1997,
          1998,
          1999,
          2000,
          2001,
          2002,
          2003,
          2004,
          2005,
          2006,
          2007,
          2008,
          2009,
          2010,
          2011,
          2012,
          2013,
          2014,
          2015,
          2016,
          2017,
          2018,
          2019,
          2020,
          2021,
          2022
         ],
         "xaxis": "x2",
         "y": [
          4800,
          3500,
          3200,
          3900,
          4400,
          4400,
          5200,
          5100,
          8400,
          5500,
          5300,
          4504,
          9623,
          5348,
          5719,
          3867,
          2502,
          3133,
          5171,
          4605,
          3550,
          2304,
          605,
          2812,
          3648,
          5564,
          8412,
          6804,
          4460,
          4762,
          5010,
          3980,
          2524,
          2301,
          4387,
          10125,
          3858,
          null,
          null,
          null,
          null
         ],
         "yaxis": "y2"
        },
        {
         "connectgaps": false,
         "hovertemplate": "fnid=LS1980A108<br>indicator=yield<br>year=%{x}<br>value=%{y}<extra></extra>",
         "legendgroup": "LS1980A108",
         "line": {
          "color": "#B6E880",
          "dash": "solid"
         },
         "marker": {
          "symbol": "circle"
         },
         "mode": "markers+lines",
         "name": "LS1980A108",
         "showlegend": false,
         "type": "scattergl",
         "x": [
          1982,
          1983,
          1984,
          1985,
          1986,
          1987,
          1988,
          1989,
          1990,
          1991,
          1992,
          1993,
          1994,
          1995,
          1996,
          1997,
          1998,
          1999,
          2000,
          2001,
          2002,
          2003,
          2004,
          2005,
          2006,
          2007,
          2008,
          2009,
          2010,
          2011,
          2012,
          2013,
          2014,
          2015,
          2016,
          2017,
          2018,
          2019,
          2020,
          2021,
          2022
         ],
         "xaxis": "x",
         "y": [
          0.625,
          0.1714285714285714,
          0.34375,
          0.5428205128205128,
          0.2256818181818181,
          0.6204545454545455,
          0.5559615384615385,
          0.7350980392156863,
          0.2567857142857143,
          0.3207272727272727,
          0.359811320754717,
          0.4507104795737122,
          0.3571651252208251,
          0.1709050112191473,
          0.5359328553942997,
          0.9275924489268168,
          0.5891286970423661,
          0.3574848388126396,
          0.6606072326435892,
          0.6234527687296417,
          0.8304225352112676,
          0.0520833333333333,
          0.4264462809917355,
          0.5512091038406828,
          0.3352521929824561,
          0.1186196980589504,
          0.1003328578221588,
          0.3841857730746619,
          1.7455156950672646,
          0.3574128517429651,
          0.1516966067864271,
          0.4261306532663316,
          0.3740095087163232,
          0.1720990873533246,
          0.3663095509459767,
          0.7278024691358025,
          0.4131674442716433,
          null,
          null,
          null,
          null
         ],
         "yaxis": "y"
        },
        {
         "connectgaps": false,
         "hovertemplate": "fnid=LS1980A109<br>indicator=production<br>year=%{x}<br>value=%{y}<extra></extra>",
         "legendgroup": "LS1980A109",
         "line": {
          "color": "#FF97FF",
          "dash": "solid"
         },
         "marker": {
          "symbol": "circle"
         },
         "mode": "markers+lines",
         "name": "LS1980A109",
         "showlegend": true,
         "type": "scattergl",
         "x": [
          1982,
          1983,
          1984,
          1985,
          1986,
          1987,
          1988,
          1989,
          1990,
          1991,
          1992,
          1993,
          1994,
          1995,
          1996,
          1997,
          1998,
          1999,
          2000,
          2001,
          2002,
          2003,
          2004,
          2005,
          2006,
          2007,
          2008,
          2009,
          2010,
          2011,
          2012,
          2013,
          2014,
          2015,
          2016,
          2017,
          2018,
          2019,
          2020,
          2021,
          2022
         ],
         "xaxis": "x3",
         "y": [
          5000,
          1400,
          4100,
          2399,
          3071,
          7700,
          8091,
          7333,
          11100,
          2052,
          3012,
          609,
          6626,
          1191,
          5607,
          5294,
          6958,
          6495,
          9527,
          7236,
          1668,
          2587,
          3125,
          4434,
          2751,
          1585,
          2214,
          2336,
          3948,
          4638,
          1958,
          2813,
          3469,
          1911,
          675,
          4478,
          2659,
          null,
          null,
          null,
          null
         ],
         "yaxis": "y3"
        },
        {
         "connectgaps": false,
         "hovertemplate": "fnid=LS1980A109<br>indicator=area<br>year=%{x}<br>value=%{y}<extra></extra>",
         "legendgroup": "LS1980A109",
         "line": {
          "color": "#FF97FF",
          "dash": "solid"
         },
         "marker": {
          "symbol": "circle"
         },
         "mode": "markers+lines",
         "name": "LS1980A109",
         "showlegend": false,
         "type": "scattergl",
         "x": [
          1982,
          1983,
          1984,
          1985,
          1986,
          1987,
          1988,
          1989,
          1990,
          1991,
          1992,
          1993,
          1994,
          1995,
          1996,
          1997,
          1998,
          1999,
          2000,
          2001,
          2002,
          2003,
          2004,
          2005,
          2006,
          2007,
          2008,
          2009,
          2010,
          2011,
          2012,
          2013,
          2014,
          2015,
          2016,
          2017,
          2018,
          2019,
          2020,
          2021,
          2022
         ],
         "xaxis": "x2",
         "y": [
          8800,
          8300,
          10500,
          7700,
          7500,
          7100,
          8300,
          8200,
          10600,
          7000,
          8400,
          9569,
          7473,
          1789,
          5091,
          5469,
          5019,
          7499,
          7617,
          7311,
          4778,
          5927,
          6710,
          7215,
          5132,
          5327,
          8675,
          5222,
          5960,
          4407,
          6467,
          6766,
          5535,
          4438,
          2934,
          5315,
          5623,
          null,
          null,
          null,
          null
         ],
         "yaxis": "y2"
        },
        {
         "connectgaps": false,
         "hovertemplate": "fnid=LS1980A109<br>indicator=yield<br>year=%{x}<br>value=%{y}<extra></extra>",
         "legendgroup": "LS1980A109",
         "line": {
          "color": "#FF97FF",
          "dash": "solid"
         },
         "marker": {
          "symbol": "circle"
         },
         "mode": "markers+lines",
         "name": "LS1980A109",
         "showlegend": false,
         "type": "scattergl",
         "x": [
          1982,
          1983,
          1984,
          1985,
          1986,
          1987,
          1988,
          1989,
          1990,
          1991,
          1992,
          1993,
          1994,
          1995,
          1996,
          1997,
          1998,
          1999,
          2000,
          2001,
          2002,
          2003,
          2004,
          2005,
          2006,
          2007,
          2008,
          2009,
          2010,
          2011,
          2012,
          2013,
          2014,
          2015,
          2016,
          2017,
          2018,
          2019,
          2020,
          2021,
          2022
         ],
         "xaxis": "x",
         "y": [
          0.5681818181818182,
          0.1686746987951807,
          0.3904761904761905,
          0.3115584415584415,
          0.4094666666666666,
          1.0845070422535212,
          0.9748192771084336,
          0.8942682926829268,
          1.0471698113207548,
          0.2931428571428571,
          0.3585714285714286,
          0.063643013899049,
          0.8866586377626121,
          0.6657350475125768,
          1.1013553329404833,
          0.9680014627902724,
          1.3863319386331938,
          0.8661154820642752,
          1.2507548903767889,
          0.9897414854329092,
          0.3491000418585182,
          0.4364771385186435,
          0.4657228017883755,
          0.6145530145530146,
          0.5360483242400623,
          0.2975408297353107,
          0.2552161383285302,
          0.4473381846036001,
          0.6624161073825503,
          1.0524166099387338,
          0.3027678985619298,
          0.415755246822347,
          0.6267389340560072,
          0.4305993690851735,
          0.2300613496932515,
          0.8425211665098777,
          0.472879245954117,
          null,
          null,
          null,
          null
         ],
         "yaxis": "y"
        },
        {
         "connectgaps": false,
         "hovertemplate": "fnid=LS1980A110<br>indicator=production<br>year=%{x}<br>value=%{y}<extra></extra>",
         "legendgroup": "LS1980A110",
         "line": {
          "color": "#FECB52",
          "dash": "solid"
         },
         "marker": {
          "symbol": "circle"
         },
         "mode": "markers+lines",
         "name": "LS1980A110",
         "showlegend": true,
         "type": "scattergl",
         "x": [
          1982,
          1983,
          1984,
          1985,
          1986,
          1987,
          1988,
          1989,
          1990,
          1991,
          1992,
          1993,
          1994,
          1995,
          1996,
          1997,
          1998,
          1999,
          2000,
          2001,
          2002,
          2003,
          2004,
          2005,
          2006,
          2007,
          2008,
          2009,
          2010,
          2011,
          2012,
          2013,
          2014,
          2015,
          2016,
          2017,
          2018,
          2019,
          2020,
          2021,
          2022
         ],
         "xaxis": "x3",
         "y": [
          4300,
          2400,
          6100,
          2056,
          5097,
          4790,
          6414,
          3887,
          10415,
          2557,
          5406,
          7889,
          12424,
          7998,
          15482,
          10401,
          17993,
          12614,
          10841,
          9436,
          5151,
          6520,
          6111,
          9736,
          5351,
          6529,
          4445,
          5890,
          9578,
          5419,
          4078,
          8089,
          6353,
          4523,
          3561,
          21160,
          6980,
          null,
          null,
          null,
          null
         ],
         "yaxis": "y3"
        },
        {
         "connectgaps": false,
         "hovertemplate": "fnid=LS1980A110<br>indicator=area<br>year=%{x}<br>value=%{y}<extra></extra>",
         "legendgroup": "LS1980A110",
         "line": {
          "color": "#FECB52",
          "dash": "solid"
         },
         "marker": {
          "symbol": "circle"
         },
         "mode": "markers+lines",
         "name": "LS1980A110",
         "showlegend": false,
         "type": "scattergl",
         "x": [
          1982,
          1983,
          1984,
          1985,
          1986,
          1987,
          1988,
          1989,
          1990,
          1991,
          1992,
          1993,
          1994,
          1995,
          1996,
          1997,
          1998,
          1999,
          2000,
          2001,
          2002,
          2003,
          2004,
          2005,
          2006,
          2007,
          2008,
          2009,
          2010,
          2011,
          2012,
          2013,
          2014,
          2015,
          2016,
          2017,
          2018,
          2019,
          2020,
          2021,
          2022
         ],
         "xaxis": "x2",
         "y": [
          9700,
          9800,
          9500,
          6400,
          8600,
          9400,
          11000,
          10800,
          12800,
          10400,
          15100,
          11175,
          13340,
          8426,
          14419,
          9626,
          12328,
          15174,
          12570,
          11718,
          11910,
          8312,
          10656,
          10609,
          10921,
          20710,
          15666,
          13399,
          11366,
          8284,
          8174,
          9421,
          12622,
          9475,
          8953,
          13818,
          16521,
          null,
          null,
          null,
          null
         ],
         "yaxis": "y2"
        },
        {
         "connectgaps": false,
         "hovertemplate": "fnid=LS1980A110<br>indicator=yield<br>year=%{x}<br>value=%{y}<extra></extra>",
         "legendgroup": "LS1980A110",
         "line": {
          "color": "#FECB52",
          "dash": "solid"
         },
         "marker": {
          "symbol": "circle"
         },
         "mode": "markers+lines",
         "name": "LS1980A110",
         "showlegend": false,
         "type": "scattergl",
         "x": [
          1982,
          1983,
          1984,
          1985,
          1986,
          1987,
          1988,
          1989,
          1990,
          1991,
          1992,
          1993,
          1994,
          1995,
          1996,
          1997,
          1998,
          1999,
          2000,
          2001,
          2002,
          2003,
          2004,
          2005,
          2006,
          2007,
          2008,
          2009,
          2010,
          2011,
          2012,
          2013,
          2014,
          2015,
          2016,
          2017,
          2018,
          2019,
          2020,
          2021,
          2022
         ],
         "xaxis": "x",
         "y": [
          0.4432989690721649,
          0.2448979591836734,
          0.6421052631578947,
          0.32125,
          0.5926744186046512,
          0.5095744680851064,
          0.5830909090909091,
          0.3599074074074074,
          0.813671875,
          0.2458653846153846,
          0.3580132450331126,
          0.7059507829977628,
          0.9313343328335832,
          0.9492048421552338,
          1.0737221721339898,
          1.080511115728236,
          1.4595230369889682,
          0.8312903650981943,
          0.8624502784407319,
          0.8052568697729988,
          0.4324937027707808,
          0.7844080846968239,
          0.5734797297297297,
          0.9177113771326232,
          0.4899734456551597,
          0.3152583293095123,
          0.2837354781054513,
          0.4395850436599746,
          0.8426887207460848,
          0.6541525832930951,
          0.4988989478835332,
          0.8586137352722641,
          0.5033275233718904,
          0.4773614775725593,
          0.3977437730369708,
          1.5313359386307714,
          0.4224925851946008,
          null,
          null,
          null,
          null
         ],
         "yaxis": "y"
        }
       ],
       "layout": {
        "annotations": [
         {
          "showarrow": false,
          "text": "",
          "textangle": 90,
          "x": 0.98,
          "xanchor": "left",
          "xref": "paper",
          "y": 0.16333333333333333,
          "yanchor": "middle",
          "yref": "paper"
         },
         {
          "showarrow": false,
          "text": "",
          "textangle": 90,
          "x": 0.98,
          "xanchor": "left",
          "xref": "paper",
          "y": 0.5,
          "yanchor": "middle",
          "yref": "paper"
         },
         {
          "showarrow": false,
          "text": "",
          "textangle": 90,
          "x": 0.98,
          "xanchor": "left",
          "xref": "paper",
          "y": 0.8366666666666667,
          "yanchor": "middle",
          "yref": "paper"
         },
         {
          "align": "left",
          "font": {
           "color": "dimgrey",
           "family": "arial",
           "size": 15
          },
          "showarrow": false,
          "text": "Production-Area-Yield time-series of LS - Maize - Summer",
          "x": -0.014,
          "xref": "paper",
          "y": -0.14,
          "yref": "paper"
         }
        ],
        "font": {
         "color": "black",
         "family": "arial",
         "size": 16
        },
        "height": 600,
        "legend": {
         "font": {
          "size": 14
         },
         "title": {
          "text": "FNID"
         },
         "tracegroupgap": 0,
         "x": 1,
         "xanchor": "left",
         "y": 1,
         "yanchor": "top"
        },
        "margin": {
         "b": 25,
         "l": 0,
         "r": 0,
         "t": 0
        },
        "template": {
         "data": {
          "bar": [
           {
            "error_x": {
             "color": "#2a3f5f"
            },
            "error_y": {
             "color": "#2a3f5f"
            },
            "marker": {
             "line": {
              "color": "#E5ECF6",
              "width": 0.5
             },
             "pattern": {
              "fillmode": "overlay",
              "size": 10,
              "solidity": 0.2
             }
            },
            "type": "bar"
           }
          ],
          "barpolar": [
           {
            "marker": {
             "line": {
              "color": "#E5ECF6",
              "width": 0.5
             },
             "pattern": {
              "fillmode": "overlay",
              "size": 10,
              "solidity": 0.2
             }
            },
            "type": "barpolar"
           }
          ],
          "carpet": [
           {
            "aaxis": {
             "endlinecolor": "#2a3f5f",
             "gridcolor": "white",
             "linecolor": "white",
             "minorgridcolor": "white",
             "startlinecolor": "#2a3f5f"
            },
            "baxis": {
             "endlinecolor": "#2a3f5f",
             "gridcolor": "white",
             "linecolor": "white",
             "minorgridcolor": "white",
             "startlinecolor": "#2a3f5f"
            },
            "type": "carpet"
           }
          ],
          "choropleth": [
           {
            "colorbar": {
             "outlinewidth": 0,
             "ticks": ""
            },
            "type": "choropleth"
           }
          ],
          "contour": [
           {
            "colorbar": {
             "outlinewidth": 0,
             "ticks": ""
            },
            "colorscale": [
             [
              0,
              "#0d0887"
             ],
             [
              0.1111111111111111,
              "#46039f"
             ],
             [
              0.2222222222222222,
              "#7201a8"
             ],
             [
              0.3333333333333333,
              "#9c179e"
             ],
             [
              0.4444444444444444,
              "#bd3786"
             ],
             [
              0.5555555555555556,
              "#d8576b"
             ],
             [
              0.6666666666666666,
              "#ed7953"
             ],
             [
              0.7777777777777778,
              "#fb9f3a"
             ],
             [
              0.8888888888888888,
              "#fdca26"
             ],
             [
              1,
              "#f0f921"
             ]
            ],
            "type": "contour"
           }
          ],
          "contourcarpet": [
           {
            "colorbar": {
             "outlinewidth": 0,
             "ticks": ""
            },
            "type": "contourcarpet"
           }
          ],
          "heatmap": [
           {
            "colorbar": {
             "outlinewidth": 0,
             "ticks": ""
            },
            "colorscale": [
             [
              0,
              "#0d0887"
             ],
             [
              0.1111111111111111,
              "#46039f"
             ],
             [
              0.2222222222222222,
              "#7201a8"
             ],
             [
              0.3333333333333333,
              "#9c179e"
             ],
             [
              0.4444444444444444,
              "#bd3786"
             ],
             [
              0.5555555555555556,
              "#d8576b"
             ],
             [
              0.6666666666666666,
              "#ed7953"
             ],
             [
              0.7777777777777778,
              "#fb9f3a"
             ],
             [
              0.8888888888888888,
              "#fdca26"
             ],
             [
              1,
              "#f0f921"
             ]
            ],
            "type": "heatmap"
           }
          ],
          "heatmapgl": [
           {
            "colorbar": {
             "outlinewidth": 0,
             "ticks": ""
            },
            "colorscale": [
             [
              0,
              "#0d0887"
             ],
             [
              0.1111111111111111,
              "#46039f"
             ],
             [
              0.2222222222222222,
              "#7201a8"
             ],
             [
              0.3333333333333333,
              "#9c179e"
             ],
             [
              0.4444444444444444,
              "#bd3786"
             ],
             [
              0.5555555555555556,
              "#d8576b"
             ],
             [
              0.6666666666666666,
              "#ed7953"
             ],
             [
              0.7777777777777778,
              "#fb9f3a"
             ],
             [
              0.8888888888888888,
              "#fdca26"
             ],
             [
              1,
              "#f0f921"
             ]
            ],
            "type": "heatmapgl"
           }
          ],
          "histogram": [
           {
            "marker": {
             "pattern": {
              "fillmode": "overlay",
              "size": 10,
              "solidity": 0.2
             }
            },
            "type": "histogram"
           }
          ],
          "histogram2d": [
           {
            "colorbar": {
             "outlinewidth": 0,
             "ticks": ""
            },
            "colorscale": [
             [
              0,
              "#0d0887"
             ],
             [
              0.1111111111111111,
              "#46039f"
             ],
             [
              0.2222222222222222,
              "#7201a8"
             ],
             [
              0.3333333333333333,
              "#9c179e"
             ],
             [
              0.4444444444444444,
              "#bd3786"
             ],
             [
              0.5555555555555556,
              "#d8576b"
             ],
             [
              0.6666666666666666,
              "#ed7953"
             ],
             [
              0.7777777777777778,
              "#fb9f3a"
             ],
             [
              0.8888888888888888,
              "#fdca26"
             ],
             [
              1,
              "#f0f921"
             ]
            ],
            "type": "histogram2d"
           }
          ],
          "histogram2dcontour": [
           {
            "colorbar": {
             "outlinewidth": 0,
             "ticks": ""
            },
            "colorscale": [
             [
              0,
              "#0d0887"
             ],
             [
              0.1111111111111111,
              "#46039f"
             ],
             [
              0.2222222222222222,
              "#7201a8"
             ],
             [
              0.3333333333333333,
              "#9c179e"
             ],
             [
              0.4444444444444444,
              "#bd3786"
             ],
             [
              0.5555555555555556,
              "#d8576b"
             ],
             [
              0.6666666666666666,
              "#ed7953"
             ],
             [
              0.7777777777777778,
              "#fb9f3a"
             ],
             [
              0.8888888888888888,
              "#fdca26"
             ],
             [
              1,
              "#f0f921"
             ]
            ],
            "type": "histogram2dcontour"
           }
          ],
          "mesh3d": [
           {
            "colorbar": {
             "outlinewidth": 0,
             "ticks": ""
            },
            "type": "mesh3d"
           }
          ],
          "parcoords": [
           {
            "line": {
             "colorbar": {
              "outlinewidth": 0,
              "ticks": ""
             }
            },
            "type": "parcoords"
           }
          ],
          "pie": [
           {
            "automargin": true,
            "type": "pie"
           }
          ],
          "scatter": [
           {
            "fillpattern": {
             "fillmode": "overlay",
             "size": 10,
             "solidity": 0.2
            },
            "type": "scatter"
           }
          ],
          "scatter3d": [
           {
            "line": {
             "colorbar": {
              "outlinewidth": 0,
              "ticks": ""
             }
            },
            "marker": {
             "colorbar": {
              "outlinewidth": 0,
              "ticks": ""
             }
            },
            "type": "scatter3d"
           }
          ],
          "scattercarpet": [
           {
            "marker": {
             "colorbar": {
              "outlinewidth": 0,
              "ticks": ""
             }
            },
            "type": "scattercarpet"
           }
          ],
          "scattergeo": [
           {
            "marker": {
             "colorbar": {
              "outlinewidth": 0,
              "ticks": ""
             }
            },
            "type": "scattergeo"
           }
          ],
          "scattergl": [
           {
            "marker": {
             "colorbar": {
              "outlinewidth": 0,
              "ticks": ""
             }
            },
            "type": "scattergl"
           }
          ],
          "scattermapbox": [
           {
            "marker": {
             "colorbar": {
              "outlinewidth": 0,
              "ticks": ""
             }
            },
            "type": "scattermapbox"
           }
          ],
          "scatterpolar": [
           {
            "marker": {
             "colorbar": {
              "outlinewidth": 0,
              "ticks": ""
             }
            },
            "type": "scatterpolar"
           }
          ],
          "scatterpolargl": [
           {
            "marker": {
             "colorbar": {
              "outlinewidth": 0,
              "ticks": ""
             }
            },
            "type": "scatterpolargl"
           }
          ],
          "scatterternary": [
           {
            "marker": {
             "colorbar": {
              "outlinewidth": 0,
              "ticks": ""
             }
            },
            "type": "scatterternary"
           }
          ],
          "surface": [
           {
            "colorbar": {
             "outlinewidth": 0,
             "ticks": ""
            },
            "colorscale": [
             [
              0,
              "#0d0887"
             ],
             [
              0.1111111111111111,
              "#46039f"
             ],
             [
              0.2222222222222222,
              "#7201a8"
             ],
             [
              0.3333333333333333,
              "#9c179e"
             ],
             [
              0.4444444444444444,
              "#bd3786"
             ],
             [
              0.5555555555555556,
              "#d8576b"
             ],
             [
              0.6666666666666666,
              "#ed7953"
             ],
             [
              0.7777777777777778,
              "#fb9f3a"
             ],
             [
              0.8888888888888888,
              "#fdca26"
             ],
             [
              1,
              "#f0f921"
             ]
            ],
            "type": "surface"
           }
          ],
          "table": [
           {
            "cells": {
             "fill": {
              "color": "#EBF0F8"
             },
             "line": {
              "color": "white"
             }
            },
            "header": {
             "fill": {
              "color": "#C8D4E3"
             },
             "line": {
              "color": "white"
             }
            },
            "type": "table"
           }
          ]
         },
         "layout": {
          "annotationdefaults": {
           "arrowcolor": "#2a3f5f",
           "arrowhead": 0,
           "arrowwidth": 1
          },
          "autotypenumbers": "strict",
          "coloraxis": {
           "colorbar": {
            "outlinewidth": 0,
            "ticks": ""
           }
          },
          "colorscale": {
           "diverging": [
            [
             0,
             "#8e0152"
            ],
            [
             0.1,
             "#c51b7d"
            ],
            [
             0.2,
             "#de77ae"
            ],
            [
             0.3,
             "#f1b6da"
            ],
            [
             0.4,
             "#fde0ef"
            ],
            [
             0.5,
             "#f7f7f7"
            ],
            [
             0.6,
             "#e6f5d0"
            ],
            [
             0.7,
             "#b8e186"
            ],
            [
             0.8,
             "#7fbc41"
            ],
            [
             0.9,
             "#4d9221"
            ],
            [
             1,
             "#276419"
            ]
           ],
           "sequential": [
            [
             0,
             "#0d0887"
            ],
            [
             0.1111111111111111,
             "#46039f"
            ],
            [
             0.2222222222222222,
             "#7201a8"
            ],
            [
             0.3333333333333333,
             "#9c179e"
            ],
            [
             0.4444444444444444,
             "#bd3786"
            ],
            [
             0.5555555555555556,
             "#d8576b"
            ],
            [
             0.6666666666666666,
             "#ed7953"
            ],
            [
             0.7777777777777778,
             "#fb9f3a"
            ],
            [
             0.8888888888888888,
             "#fdca26"
            ],
            [
             1,
             "#f0f921"
            ]
           ],
           "sequentialminus": [
            [
             0,
             "#0d0887"
            ],
            [
             0.1111111111111111,
             "#46039f"
            ],
            [
             0.2222222222222222,
             "#7201a8"
            ],
            [
             0.3333333333333333,
             "#9c179e"
            ],
            [
             0.4444444444444444,
             "#bd3786"
            ],
            [
             0.5555555555555556,
             "#d8576b"
            ],
            [
             0.6666666666666666,
             "#ed7953"
            ],
            [
             0.7777777777777778,
             "#fb9f3a"
            ],
            [
             0.8888888888888888,
             "#fdca26"
            ],
            [
             1,
             "#f0f921"
            ]
           ]
          },
          "colorway": [
           "#636efa",
           "#EF553B",
           "#00cc96",
           "#ab63fa",
           "#FFA15A",
           "#19d3f3",
           "#FF6692",
           "#B6E880",
           "#FF97FF",
           "#FECB52"
          ],
          "font": {
           "color": "#2a3f5f"
          },
          "geo": {
           "bgcolor": "white",
           "lakecolor": "white",
           "landcolor": "#E5ECF6",
           "showlakes": true,
           "showland": true,
           "subunitcolor": "white"
          },
          "hoverlabel": {
           "align": "left"
          },
          "hovermode": "closest",
          "mapbox": {
           "style": "light"
          },
          "paper_bgcolor": "white",
          "plot_bgcolor": "#E5ECF6",
          "polar": {
           "angularaxis": {
            "gridcolor": "white",
            "linecolor": "white",
            "ticks": ""
           },
           "bgcolor": "#E5ECF6",
           "radialaxis": {
            "gridcolor": "white",
            "linecolor": "white",
            "ticks": ""
           }
          },
          "scene": {
           "xaxis": {
            "backgroundcolor": "#E5ECF6",
            "gridcolor": "white",
            "gridwidth": 2,
            "linecolor": "white",
            "showbackground": true,
            "ticks": "",
            "zerolinecolor": "white"
           },
           "yaxis": {
            "backgroundcolor": "#E5ECF6",
            "gridcolor": "white",
            "gridwidth": 2,
            "linecolor": "white",
            "showbackground": true,
            "ticks": "",
            "zerolinecolor": "white"
           },
           "zaxis": {
            "backgroundcolor": "#E5ECF6",
            "gridcolor": "white",
            "gridwidth": 2,
            "linecolor": "white",
            "showbackground": true,
            "ticks": "",
            "zerolinecolor": "white"
           }
          },
          "shapedefaults": {
           "line": {
            "color": "#2a3f5f"
           }
          },
          "ternary": {
           "aaxis": {
            "gridcolor": "white",
            "linecolor": "white",
            "ticks": ""
           },
           "baxis": {
            "gridcolor": "white",
            "linecolor": "white",
            "ticks": ""
           },
           "bgcolor": "#E5ECF6",
           "caxis": {
            "gridcolor": "white",
            "linecolor": "white",
            "ticks": ""
           }
          },
          "title": {
           "x": 0.05
          },
          "xaxis": {
           "automargin": true,
           "gridcolor": "white",
           "linecolor": "white",
           "ticks": "",
           "title": {
            "standoff": 15
           },
           "zerolinecolor": "white",
           "zerolinewidth": 2
          },
          "yaxis": {
           "automargin": true,
           "gridcolor": "white",
           "linecolor": "white",
           "ticks": "",
           "title": {
            "standoff": 15
           },
           "zerolinecolor": "white",
           "zerolinewidth": 2
          }
         }
        },
        "width": 900,
        "xaxis": {
         "anchor": "y",
         "domain": [
          0,
          0.98
         ],
         "dtick": 1,
         "range": [
          1981,
          2022
         ],
         "title": {
          "text": ""
         }
        },
        "xaxis2": {
         "anchor": "y2",
         "domain": [
          0,
          0.98
         ],
         "dtick": 1,
         "matches": "x",
         "showticklabels": false
        },
        "xaxis3": {
         "anchor": "y3",
         "domain": [
          0,
          0.98
         ],
         "dtick": 1,
         "matches": "x",
         "showticklabels": false
        },
        "yaxis": {
         "anchor": "x",
         "domain": [
          0,
          0.32666666666666666
         ],
         "title": {
          "text": "Yield (mt/ha)"
         }
        },
        "yaxis2": {
         "anchor": "x2",
         "domain": [
          0.33666666666666667,
          0.6633333333333333
         ],
         "title": {
          "text": "Area (ha)"
         }
        },
        "yaxis3": {
         "anchor": "x3",
         "domain": [
          0.6733333333333333,
          1
         ],
         "title": {
          "text": "Production (mt)"
         }
        }
       }
      }
     },
     "metadata": {},
     "output_type": "display_data"
    },
    {
     "data": {
      "application/vnd.plotly.v1+json": {
       "config": {
        "plotlyServerURL": "https://plot.ly"
       },
       "data": [
        {
         "connectgaps": false,
         "hovertemplate": "fnid=LS1980A101<br>indicator=production<br>year=%{x}<br>value=%{y}<extra></extra>",
         "legendgroup": "LS1980A101",
         "line": {
          "color": "#636efa",
          "dash": "solid"
         },
         "marker": {
          "symbol": "circle"
         },
         "mode": "markers+lines",
         "name": "LS1980A101",
         "showlegend": true,
         "type": "scattergl",
         "x": [
          1982,
          1983,
          1984,
          1985,
          1986,
          1987,
          1988,
          1989,
          1990,
          1991,
          1992,
          1993,
          1994,
          1995,
          1996,
          1997,
          1998,
          1999,
          2000,
          2001,
          2002,
          2003,
          2004,
          2005,
          2006,
          2007,
          2008,
          2009,
          2010,
          2011,
          2012,
          2013,
          2014,
          2015,
          2016,
          2017,
          2018,
          2019,
          2020,
          2021,
          2022
         ],
         "xaxis": "x3",
         "y": [
          3400,
          3300,
          3811,
          8474,
          4009,
          3063,
          10604,
          3286,
          3853,
          1062,
          2059,
          6576,
          7144,
          1470,
          1494,
          4217,
          4392,
          3050,
          2379,
          3516,
          2805,
          2122,
          922,
          4603,
          979,
          1196,
          1981,
          1605,
          3772,
          3562,
          365,
          2358,
          1916,
          846,
          4,
          3572,
          523,
          346,
          362,
          414,
          396.34
         ],
         "yaxis": "y3"
        },
        {
         "connectgaps": false,
         "hovertemplate": "fnid=LS1980A101<br>indicator=area<br>year=%{x}<br>value=%{y}<extra></extra>",
         "legendgroup": "LS1980A101",
         "line": {
          "color": "#636efa",
          "dash": "solid"
         },
         "marker": {
          "symbol": "circle"
         },
         "mode": "markers+lines",
         "name": "LS1980A101",
         "showlegend": false,
         "type": "scattergl",
         "x": [
          1982,
          1983,
          1984,
          1985,
          1986,
          1987,
          1988,
          1989,
          1990,
          1991,
          1992,
          1993,
          1994,
          1995,
          1996,
          1997,
          1998,
          1999,
          2000,
          2001,
          2002,
          2003,
          2004,
          2005,
          2006,
          2007,
          2008,
          2009,
          2010,
          2011,
          2012,
          2013,
          2014,
          2015,
          2016,
          2017,
          2018,
          2019,
          2020,
          2021,
          2022
         ],
         "xaxis": "x2",
         "y": [
          6700,
          4300,
          6700,
          10700,
          6100,
          7700,
          7900,
          5300,
          4400,
          2800,
          5500,
          5958,
          7881,
          1799,
          2840,
          5235,
          3057,
          2511,
          5153,
          5226,
          4313,
          3675,
          4041,
          5029,
          1817,
          7382,
          6615,
          3035,
          5562,
          9863,
          1698,
          3562,
          4230,
          2062,
          480,
          5423,
          3077,
          707,
          1033,
          856,
          3985
         ],
         "yaxis": "y2"
        },
        {
         "connectgaps": false,
         "hovertemplate": "fnid=LS1980A101<br>indicator=yield<br>year=%{x}<br>value=%{y}<extra></extra>",
         "legendgroup": "LS1980A101",
         "line": {
          "color": "#636efa",
          "dash": "solid"
         },
         "marker": {
          "symbol": "circle"
         },
         "mode": "markers+lines",
         "name": "LS1980A101",
         "showlegend": false,
         "type": "scattergl",
         "x": [
          1982,
          1983,
          1984,
          1985,
          1986,
          1987,
          1988,
          1989,
          1990,
          1991,
          1992,
          1993,
          1994,
          1995,
          1996,
          1997,
          1998,
          1999,
          2000,
          2001,
          2002,
          2003,
          2004,
          2005,
          2006,
          2007,
          2008,
          2009,
          2010,
          2011,
          2012,
          2013,
          2014,
          2015,
          2016,
          2017,
          2018,
          2019,
          2020,
          2021,
          2022
         ],
         "xaxis": "x",
         "y": [
          0.5074626865671642,
          0.7674418604651163,
          0.5688059701492537,
          0.7919626168224299,
          0.6572131147540984,
          0.3977922077922078,
          1.3422784810126582,
          0.62,
          0.8756818181818182,
          0.3792857142857143,
          0.3743636363636363,
          1.1037260825780464,
          0.9064839487374698,
          0.8171206225680934,
          0.526056338028169,
          0.8055396370582617,
          1.436702649656526,
          1.2146555157307846,
          0.4616728119542014,
          0.6727898966704937,
          0.6503593786227684,
          0.5774149659863945,
          0.2281613462014353,
          0.9152913103996818,
          0.538800220143093,
          0.1620157138986724,
          0.2994708994708994,
          0.528830313014827,
          0.678173318950018,
          0.3611477238162831,
          0.2149587750294464,
          0.6619876473891072,
          0.4529550827423168,
          0.4102812803103782,
          0.0083333333333333,
          0.6586760095887885,
          0.1699707507312317,
          0.4893917963224894,
          0.3504356243949661,
          0.4836448598130841,
          0.0994579673776662
         ],
         "yaxis": "y"
        },
        {
         "connectgaps": false,
         "hovertemplate": "fnid=LS1980A102<br>indicator=production<br>year=%{x}<br>value=%{y}<extra></extra>",
         "legendgroup": "LS1980A102",
         "line": {
          "color": "#EF553B",
          "dash": "solid"
         },
         "marker": {
          "symbol": "circle"
         },
         "mode": "markers+lines",
         "name": "LS1980A102",
         "showlegend": true,
         "type": "scattergl",
         "x": [
          1982,
          1983,
          1984,
          1985,
          1986,
          1987,
          1988,
          1989,
          1990,
          1991,
          1992,
          1993,
          1994,
          1995,
          1996,
          1997,
          1998,
          1999,
          2000,
          2001,
          2002,
          2003,
          2004,
          2005,
          2006,
          2007,
          2008,
          2009,
          2010,
          2011,
          2012,
          2013,
          2014,
          2015,
          2016,
          2017,
          2018,
          2019,
          2020,
          2021,
          2022
         ],
         "xaxis": "x3",
         "y": [
          900,
          1600,
          1203,
          2296,
          1297,
          1637,
          3137,
          2050,
          2573,
          1225,
          998,
          3460,
          2077,
          1388,
          1375,
          1711,
          1304,
          745,
          1313,
          860,
          429,
          461,
          1187,
          387,
          487,
          320,
          572,
          498,
          1100,
          289,
          798,
          1165,
          381,
          223,
          0.4,
          1248,
          286,
          4,
          144,
          197,
          null
         ],
         "yaxis": "y3"
        },
        {
         "connectgaps": false,
         "hovertemplate": "fnid=LS1980A102<br>indicator=area<br>year=%{x}<br>value=%{y}<extra></extra>",
         "legendgroup": "LS1980A102",
         "line": {
          "color": "#EF553B",
          "dash": "solid"
         },
         "marker": {
          "symbol": "circle"
         },
         "mode": "markers+lines",
         "name": "LS1980A102",
         "showlegend": false,
         "type": "scattergl",
         "x": [
          1982,
          1983,
          1984,
          1985,
          1986,
          1987,
          1988,
          1989,
          1990,
          1991,
          1992,
          1993,
          1994,
          1995,
          1996,
          1997,
          1998,
          1999,
          2000,
          2001,
          2002,
          2003,
          2004,
          2005,
          2006,
          2007,
          2008,
          2009,
          2010,
          2011,
          2012,
          2013,
          2014,
          2015,
          2016,
          2017,
          2018,
          2019,
          2020,
          2021,
          2022
         ],
         "xaxis": "x2",
         "y": [
          1100,
          2100,
          2400,
          2400,
          2100,
          3300,
          3400,
          2300,
          2700,
          2300,
          2000,
          2251,
          2069,
          1937,
          1126,
          993,
          894,
          1355,
          1509,
          1560,
          1495,
          1413,
          1306,
          1018,
          1030,
          2348,
          9702,
          833,
          1384,
          1162,
          1427,
          1705,
          1195,
          671,
          13,
          2407,
          2325,
          160,
          392,
          375,
          null
         ],
         "yaxis": "y2"
        },
        {
         "connectgaps": false,
         "hovertemplate": "fnid=LS1980A102<br>indicator=yield<br>year=%{x}<br>value=%{y}<extra></extra>",
         "legendgroup": "LS1980A102",
         "line": {
          "color": "#EF553B",
          "dash": "solid"
         },
         "marker": {
          "symbol": "circle"
         },
         "mode": "markers+lines",
         "name": "LS1980A102",
         "showlegend": false,
         "type": "scattergl",
         "x": [
          1982,
          1983,
          1984,
          1985,
          1986,
          1987,
          1988,
          1989,
          1990,
          1991,
          1992,
          1993,
          1994,
          1995,
          1996,
          1997,
          1998,
          1999,
          2000,
          2001,
          2002,
          2003,
          2004,
          2005,
          2006,
          2007,
          2008,
          2009,
          2010,
          2011,
          2012,
          2013,
          2014,
          2015,
          2016,
          2017,
          2018,
          2019,
          2020,
          2021,
          2022
         ],
         "xaxis": "x",
         "y": [
          0.8181818181818182,
          0.7619047619047619,
          0.50125,
          0.9566666666666668,
          0.6176190476190476,
          0.496060606060606,
          0.9226470588235294,
          0.8913043478260869,
          0.952962962962963,
          0.532608695652174,
          0.499,
          1.5370946246112838,
          1.0038666022232965,
          0.7165720185854414,
          1.2211367673179396,
          1.7230614300100704,
          1.458612975391499,
          0.5498154981549815,
          0.8701126573889993,
          0.5512820512820513,
          0.2869565217391304,
          0.3262561924982307,
          0.9088820826952528,
          0.3801571709233792,
          0.4728155339805825,
          0.1362862010221465,
          0.0589569160997732,
          0.5978391356542617,
          0.7947976878612717,
          0.2487091222030981,
          0.5592151366503153,
          0.6832844574780058,
          0.3188284518828452,
          0.3323397913561848,
          0.0307692307692307,
          0.5184877440797674,
          0.123010752688172,
          0.025,
          0.3673469387755102,
          0.5253333333333333,
          null
         ],
         "yaxis": "y"
        },
        {
         "connectgaps": false,
         "hovertemplate": "fnid=LS1980A103<br>indicator=production<br>year=%{x}<br>value=%{y}<extra></extra>",
         "legendgroup": "LS1980A103",
         "line": {
          "color": "#00cc96",
          "dash": "solid"
         },
         "marker": {
          "symbol": "circle"
         },
         "mode": "markers+lines",
         "name": "LS1980A103",
         "showlegend": true,
         "type": "scattergl",
         "x": [
          1982,
          1983,
          1984,
          1985,
          1986,
          1987,
          1988,
          1989,
          1990,
          1991,
          1992,
          1993,
          1994,
          1995,
          1996,
          1997,
          1998,
          1999,
          2000,
          2001,
          2002,
          2003,
          2004,
          2005,
          2006,
          2007,
          2008,
          2009,
          2010,
          2011,
          2012,
          2013,
          2014,
          2015,
          2016,
          2017,
          2018,
          2019,
          2020,
          2021,
          2022
         ],
         "xaxis": "x3",
         "y": [
          3100,
          6300,
          6926,
          8004,
          3555,
          5050,
          7983,
          4405,
          5036,
          1693,
          3005,
          3784,
          6846,
          1435,
          3858,
          2463,
          3001,
          4209,
          5851,
          5921,
          2005,
          1983,
          1346,
          1404,
          3558,
          2110,
          3551,
          1507,
          3806,
          1451,
          608,
          2070,
          1548,
          1894,
          68,
          4637,
          427,
          4113,
          325,
          2569,
          191.19
         ],
         "yaxis": "y3"
        },
        {
         "connectgaps": false,
         "hovertemplate": "fnid=LS1980A103<br>indicator=area<br>year=%{x}<br>value=%{y}<extra></extra>",
         "legendgroup": "LS1980A103",
         "line": {
          "color": "#00cc96",
          "dash": "solid"
         },
         "marker": {
          "symbol": "circle"
         },
         "mode": "markers+lines",
         "name": "LS1980A103",
         "showlegend": false,
         "type": "scattergl",
         "x": [
          1982,
          1983,
          1984,
          1985,
          1986,
          1987,
          1988,
          1989,
          1990,
          1991,
          1992,
          1993,
          1994,
          1995,
          1996,
          1997,
          1998,
          1999,
          2000,
          2001,
          2002,
          2003,
          2004,
          2005,
          2006,
          2007,
          2008,
          2009,
          2010,
          2011,
          2012,
          2013,
          2014,
          2015,
          2016,
          2017,
          2018,
          2019,
          2020,
          2021,
          2022
         ],
         "xaxis": "x2",
         "y": [
          6900,
          7800,
          9500,
          11000,
          4500,
          7700,
          7900,
          5300,
          5200,
          4000,
          8000,
          5196,
          6985,
          2558,
          3784,
          3288,
          2644,
          3085,
          4364,
          6527,
          4463,
          3141,
          3420,
          2878,
          6605,
          5515,
          7678,
          2929,
          5641,
          4150,
          1694,
          4768,
          3126,
          2129,
          1804,
          6910,
          6483,
          8641,
          1218,
          1893,
          1180
         ],
         "yaxis": "y2"
        },
        {
         "connectgaps": false,
         "hovertemplate": "fnid=LS1980A103<br>indicator=yield<br>year=%{x}<br>value=%{y}<extra></extra>",
         "legendgroup": "LS1980A103",
         "line": {
          "color": "#00cc96",
          "dash": "solid"
         },
         "marker": {
          "symbol": "circle"
         },
         "mode": "markers+lines",
         "name": "LS1980A103",
         "showlegend": false,
         "type": "scattergl",
         "x": [
          1982,
          1983,
          1984,
          1985,
          1986,
          1987,
          1988,
          1989,
          1990,
          1991,
          1992,
          1993,
          1994,
          1995,
          1996,
          1997,
          1998,
          1999,
          2000,
          2001,
          2002,
          2003,
          2004,
          2005,
          2006,
          2007,
          2008,
          2009,
          2010,
          2011,
          2012,
          2013,
          2014,
          2015,
          2016,
          2017,
          2018,
          2019,
          2020,
          2021,
          2022
         ],
         "xaxis": "x",
         "y": [
          0.4492753623188406,
          0.8076923076923077,
          0.7290526315789474,
          0.7276363636363636,
          0.79,
          0.6558441558441559,
          1.010506329113924,
          0.8311320754716981,
          0.9684615384615384,
          0.42325,
          0.375625,
          0.7282525019245574,
          0.980100214745884,
          0.5609851446442533,
          1.019556025369979,
          0.7490875912408759,
          1.1350226928895613,
          1.3643435980551053,
          1.3407424381301558,
          0.9071548950513252,
          0.4492493838225408,
          0.6313276026743075,
          0.3935672514619883,
          0.4878387769284225,
          0.5386828160484481,
          0.3825929283771532,
          0.462490231831206,
          0.5145100716968248,
          0.674703066832122,
          0.3496385542168674,
          0.358913813459268,
          0.4341442953020134,
          0.4952015355086372,
          0.8896195396899953,
          0.0376940133037694,
          0.6710564399421128,
          0.0658645688724356,
          0.4759865756278209,
          0.2668308702791461,
          1.357105124141574,
          0.1620254237288135
         ],
         "yaxis": "y"
        },
        {
         "connectgaps": false,
         "hovertemplate": "fnid=LS1980A104<br>indicator=production<br>year=%{x}<br>value=%{y}<extra></extra>",
         "legendgroup": "LS1980A104",
         "line": {
          "color": "#ab63fa",
          "dash": "solid"
         },
         "marker": {
          "symbol": "circle"
         },
         "mode": "markers+lines",
         "name": "LS1980A104",
         "showlegend": true,
         "type": "scattergl",
         "x": [
          1982,
          1983,
          1984,
          1985,
          1986,
          1987,
          1988,
          1989,
          1990,
          1991,
          1992,
          1993,
          1994,
          1995,
          1996,
          1997,
          1998,
          1999,
          2000,
          2001,
          2002,
          2003,
          2004,
          2005,
          2006,
          2007,
          2008,
          2009,
          2010,
          2011,
          2012,
          2013,
          2014,
          2015,
          2016,
          2017,
          2018,
          2019,
          2020,
          2021,
          2022
         ],
         "xaxis": "x3",
         "y": [
          4200,
          6900,
          7019,
          9090,
          8735,
          6088,
          7599,
          6208,
          7537,
          1633,
          4951,
          13462,
          12977,
          258,
          10311,
          3815,
          1474,
          2906,
          1425,
          9322,
          2936,
          949,
          2720,
          2252,
          3008,
          581,
          284,
          1937,
          2846,
          964,
          200,
          2208,
          1742,
          1193,
          16,
          2716,
          331,
          203,
          762,
          77,
          361.69
         ],
         "yaxis": "y3"
        },
        {
         "connectgaps": false,
         "hovertemplate": "fnid=LS1980A104<br>indicator=area<br>year=%{x}<br>value=%{y}<extra></extra>",
         "legendgroup": "LS1980A104",
         "line": {
          "color": "#ab63fa",
          "dash": "solid"
         },
         "marker": {
          "symbol": "circle"
         },
         "mode": "markers+lines",
         "name": "LS1980A104",
         "showlegend": false,
         "type": "scattergl",
         "x": [
          1982,
          1983,
          1984,
          1985,
          1986,
          1987,
          1988,
          1989,
          1990,
          1991,
          1992,
          1993,
          1994,
          1995,
          1996,
          1997,
          1998,
          1999,
          2000,
          2001,
          2002,
          2003,
          2004,
          2005,
          2006,
          2007,
          2008,
          2009,
          2010,
          2011,
          2012,
          2013,
          2014,
          2015,
          2016,
          2017,
          2018,
          2019,
          2020,
          2021,
          2022
         ],
         "xaxis": "x2",
         "y": [
          15800,
          15300,
          14700,
          16700,
          16900,
          22600,
          23200,
          15500,
          12200,
          3000,
          13100,
          10725,
          18143,
          752,
          11733,
          9323,
          2316,
          4640,
          5363,
          14214,
          5907,
          4188,
          6011,
          5903,
          6889,
          4354,
          6102,
          4120,
          5678,
          6128,
          1354,
          2031,
          3512,
          2491,
          1481,
          5742,
          3054,
          215,
          1172,
          189,
          1354
         ],
         "yaxis": "y2"
        },
        {
         "connectgaps": false,
         "hovertemplate": "fnid=LS1980A104<br>indicator=yield<br>year=%{x}<br>value=%{y}<extra></extra>",
         "legendgroup": "LS1980A104",
         "line": {
          "color": "#ab63fa",
          "dash": "solid"
         },
         "marker": {
          "symbol": "circle"
         },
         "mode": "markers+lines",
         "name": "LS1980A104",
         "showlegend": false,
         "type": "scattergl",
         "x": [
          1982,
          1983,
          1984,
          1985,
          1986,
          1987,
          1988,
          1989,
          1990,
          1991,
          1992,
          1993,
          1994,
          1995,
          1996,
          1997,
          1998,
          1999,
          2000,
          2001,
          2002,
          2003,
          2004,
          2005,
          2006,
          2007,
          2008,
          2009,
          2010,
          2011,
          2012,
          2013,
          2014,
          2015,
          2016,
          2017,
          2018,
          2019,
          2020,
          2021,
          2022
         ],
         "xaxis": "x",
         "y": [
          0.2658227848101265,
          0.4509803921568627,
          0.4774829931972789,
          0.5443113772455089,
          0.5168639053254438,
          0.2693805309734513,
          0.3275431034482758,
          0.4005161290322581,
          0.6177868852459016,
          0.5443333333333333,
          0.3779389312977099,
          1.2551981351981352,
          0.7152620845505153,
          0.3430851063829787,
          0.8788033750958834,
          0.4092030462297544,
          0.6364421416234888,
          0.6262931034482758,
          0.2657094909565541,
          0.6558322780357394,
          0.4970374132385305,
          0.2265998089780324,
          0.4525037431375811,
          0.381500931729629,
          0.4366381187400203,
          0.1334405144694533,
          0.0465421173385775,
          0.4701456310679611,
          0.5012328284607256,
          0.1573107049608355,
          0.1477104874446085,
          1.0871491875923192,
          0.4960136674259681,
          0.478924126856684,
          0.0108035111411208,
          0.4730059212817833,
          0.1083824492468893,
          0.944186046511628,
          0.6501706484641638,
          0.4074074074074074,
          0.2671270310192024
         ],
         "yaxis": "y"
        },
        {
         "connectgaps": false,
         "hovertemplate": "fnid=LS1980A105<br>indicator=production<br>year=%{x}<br>value=%{y}<extra></extra>",
         "legendgroup": "LS1980A105",
         "line": {
          "color": "#FFA15A",
          "dash": "solid"
         },
         "marker": {
          "symbol": "circle"
         },
         "mode": "markers+lines",
         "name": "LS1980A105",
         "showlegend": true,
         "type": "scattergl",
         "x": [
          1982,
          1983,
          1984,
          1985,
          1986,
          1987,
          1988,
          1989,
          1990,
          1991,
          1992,
          1993,
          1994,
          1995,
          1996,
          1997,
          1998,
          1999,
          2000,
          2001,
          2002,
          2003,
          2004,
          2005,
          2006,
          2007,
          2008,
          2009,
          2010,
          2011,
          2012,
          2013,
          2014,
          2015,
          2016,
          2017,
          2018,
          2019,
          2020,
          2021,
          2022
         ],
         "xaxis": "x3",
         "y": [
          4200,
          9000,
          7141,
          11120,
          5506,
          6021,
          8947,
          4964,
          4277,
          1183,
          2214,
          1572.1,
          9877,
          941,
          6517,
          6322,
          3575,
          10201,
          2869,
          8560,
          1284,
          1218,
          1915,
          3403,
          1941,
          2032,
          2762,
          1169,
          4287,
          1815,
          1066,
          5312,
          989,
          2025,
          605,
          6298,
          1214,
          84,
          443,
          234,
          420.18
         ],
         "yaxis": "y3"
        },
        {
         "connectgaps": false,
         "hovertemplate": "fnid=LS1980A105<br>indicator=area<br>year=%{x}<br>value=%{y}<extra></extra>",
         "legendgroup": "LS1980A105",
         "line": {
          "color": "#FFA15A",
          "dash": "solid"
         },
         "marker": {
          "symbol": "circle"
         },
         "mode": "markers+lines",
         "name": "LS1980A105",
         "showlegend": false,
         "type": "scattergl",
         "x": [
          1982,
          1983,
          1984,
          1985,
          1986,
          1987,
          1988,
          1989,
          1990,
          1991,
          1992,
          1993,
          1994,
          1995,
          1996,
          1997,
          1998,
          1999,
          2000,
          2001,
          2002,
          2003,
          2004,
          2005,
          2006,
          2007,
          2008,
          2009,
          2010,
          2011,
          2012,
          2013,
          2014,
          2015,
          2016,
          2017,
          2018,
          2019,
          2020,
          2021,
          2022
         ],
         "xaxis": "x2",
         "y": [
          8100,
          10300,
          9700,
          13800,
          7800,
          12000,
          11700,
          8200,
          4800,
          3600,
          5900,
          7025,
          12820,
          1971,
          7069,
          7261,
          2825,
          5956,
          4946,
          7172,
          3913,
          6894,
          3865,
          4479,
          3919,
          6536,
          7032,
          2549,
          5207,
          4475,
          2420,
          3767,
          2871,
          2787,
          3033,
          8616,
          6737,
          368,
          544,
          697,
          3245
         ],
         "yaxis": "y2"
        },
        {
         "connectgaps": false,
         "hovertemplate": "fnid=LS1980A105<br>indicator=yield<br>year=%{x}<br>value=%{y}<extra></extra>",
         "legendgroup": "LS1980A105",
         "line": {
          "color": "#FFA15A",
          "dash": "solid"
         },
         "marker": {
          "symbol": "circle"
         },
         "mode": "markers+lines",
         "name": "LS1980A105",
         "showlegend": false,
         "type": "scattergl",
         "x": [
          1982,
          1983,
          1984,
          1985,
          1986,
          1987,
          1988,
          1989,
          1990,
          1991,
          1992,
          1993,
          1994,
          1995,
          1996,
          1997,
          1998,
          1999,
          2000,
          2001,
          2002,
          2003,
          2004,
          2005,
          2006,
          2007,
          2008,
          2009,
          2010,
          2011,
          2012,
          2013,
          2014,
          2015,
          2016,
          2017,
          2018,
          2019,
          2020,
          2021,
          2022
         ],
         "xaxis": "x",
         "y": [
          0.5185185185185185,
          0.8737864077669902,
          0.7361855670103092,
          0.8057971014492754,
          0.7058974358974359,
          0.50175,
          0.7647008547008547,
          0.6053658536585366,
          0.8910416666666666,
          0.3286111111111111,
          0.3752542372881356,
          0.2237864768683274,
          0.7704368174726989,
          0.4774226281075596,
          0.9219125760362143,
          0.8706789698388652,
          1.2654867256637168,
          1.7127266621893888,
          0.5800646987464618,
          1.1935303959843837,
          0.32813697929977,
          0.1766753698868581,
          0.4954721862871927,
          0.759767805313686,
          0.495279408012248,
          0.3108935128518972,
          0.3927758816837315,
          0.4586112200863083,
          0.8233147685807567,
          0.4055865921787709,
          0.440495867768595,
          1.4101406955136713,
          0.3444792755137583,
          0.7265877287405813,
          0.1994724695021431,
          0.7309656453110492,
          0.180198901588244,
          0.2282608695652173,
          0.8143382352941176,
          0.3357245337159254,
          0.1294853620955315
         ],
         "yaxis": "y"
        },
        {
         "connectgaps": false,
         "hovertemplate": "fnid=LS1980A106<br>indicator=production<br>year=%{x}<br>value=%{y}<extra></extra>",
         "legendgroup": "LS1980A106",
         "line": {
          "color": "#19d3f3",
          "dash": "solid"
         },
         "marker": {
          "symbol": "circle"
         },
         "mode": "markers+lines",
         "name": "LS1980A106",
         "showlegend": true,
         "type": "scattergl",
         "x": [
          1982,
          1983,
          1984,
          1985,
          1986,
          1987,
          1988,
          1989,
          1990,
          1991,
          1992,
          1993,
          1994,
          1995,
          1996,
          1997,
          1998,
          1999,
          2000,
          2001,
          2002,
          2003,
          2004,
          2005,
          2006,
          2007,
          2008,
          2009,
          2010,
          2011,
          2012,
          2013,
          2014,
          2015,
          2016,
          2017,
          2018,
          2019,
          2020,
          2021,
          2022
         ],
         "xaxis": "x3",
         "y": [
          5900,
          1700,
          3110,
          11219,
          6746,
          5889,
          8440,
          5558,
          7299,
          1249,
          3223,
          4980,
          11458,
          239,
          7611,
          5874,
          3865,
          7153,
          1341,
          11869,
          1242,
          2080,
          1744,
          3368,
          1327,
          554,
          791,
          1464,
          3153,
          1243,
          229,
          2228,
          1614,
          1998,
          268,
          2868,
          827,
          128,
          null,
          82,
          null
         ],
         "yaxis": "y3"
        },
        {
         "connectgaps": false,
         "hovertemplate": "fnid=LS1980A106<br>indicator=area<br>year=%{x}<br>value=%{y}<extra></extra>",
         "legendgroup": "LS1980A106",
         "line": {
          "color": "#19d3f3",
          "dash": "solid"
         },
         "marker": {
          "symbol": "circle"
         },
         "mode": "markers+lines",
         "name": "LS1980A106",
         "showlegend": false,
         "type": "scattergl",
         "x": [
          1982,
          1983,
          1984,
          1985,
          1986,
          1987,
          1988,
          1989,
          1990,
          1991,
          1992,
          1993,
          1994,
          1995,
          1996,
          1997,
          1998,
          1999,
          2000,
          2001,
          2002,
          2003,
          2004,
          2005,
          2006,
          2007,
          2008,
          2009,
          2010,
          2011,
          2012,
          2013,
          2014,
          2015,
          2016,
          2017,
          2018,
          2019,
          2020,
          2021,
          2022
         ],
         "xaxis": "x2",
         "y": [
          9200,
          9500,
          10600,
          15500,
          12900,
          16000,
          16400,
          11000,
          9200,
          4200,
          8500,
          6851,
          12556,
          609,
          8763,
          8278,
          3169,
          9368,
          3341,
          14096,
          5634,
          3119,
          5534,
          5916,
          5109,
          4980,
          10141,
          2620,
          5508,
          4438,
          612,
          2538,
          3938,
          3513,
          1061,
          5777,
          6226,
          266,
          null,
          187,
          null
         ],
         "yaxis": "y2"
        },
        {
         "connectgaps": false,
         "hovertemplate": "fnid=LS1980A106<br>indicator=yield<br>year=%{x}<br>value=%{y}<extra></extra>",
         "legendgroup": "LS1980A106",
         "line": {
          "color": "#19d3f3",
          "dash": "solid"
         },
         "marker": {
          "symbol": "circle"
         },
         "mode": "markers+lines",
         "name": "LS1980A106",
         "showlegend": false,
         "type": "scattergl",
         "x": [
          1982,
          1983,
          1984,
          1985,
          1986,
          1987,
          1988,
          1989,
          1990,
          1991,
          1992,
          1993,
          1994,
          1995,
          1996,
          1997,
          1998,
          1999,
          2000,
          2001,
          2002,
          2003,
          2004,
          2005,
          2006,
          2007,
          2008,
          2009,
          2010,
          2011,
          2012,
          2013,
          2014,
          2015,
          2016,
          2017,
          2018,
          2019,
          2020,
          2021,
          2022
         ],
         "xaxis": "x",
         "y": [
          0.6413043478260869,
          0.1789473684210526,
          0.2933962264150943,
          0.7238064516129032,
          0.5229457364341086,
          0.3680625,
          0.5146341463414634,
          0.5052727272727273,
          0.7933695652173913,
          0.2973809523809523,
          0.3791764705882353,
          0.7269011823091519,
          0.912551768079006,
          0.3924466338259442,
          0.8685381718589524,
          0.7095916888137231,
          1.2196276427895234,
          0.7635567890691717,
          0.4013768332834481,
          0.8420119182746879,
          0.2204472843450479,
          0.6668804103879449,
          0.315142753885074,
          0.5693035835023664,
          0.2597377177529849,
          0.1112449799196787,
          0.0780001972192091,
          0.5587786259541985,
          0.5724400871459695,
          0.2800811176205498,
          0.3741830065359477,
          0.8778565799842396,
          0.4098527171152869,
          0.5687446626814688,
          0.2525918944392083,
          0.496451445386879,
          0.1328300674590427,
          0.4812030075187969,
          null,
          0.4385026737967914,
          null
         ],
         "yaxis": "y"
        },
        {
         "connectgaps": false,
         "hovertemplate": "fnid=LS1980A107<br>indicator=production<br>year=%{x}<br>value=%{y}<extra></extra>",
         "legendgroup": "LS1980A107",
         "line": {
          "color": "#FF6692",
          "dash": "solid"
         },
         "marker": {
          "symbol": "circle"
         },
         "mode": "markers+lines",
         "name": "LS1980A107",
         "showlegend": true,
         "type": "scattergl",
         "x": [
          1982,
          1983,
          1984,
          1985,
          1986,
          1987,
          1988,
          1989,
          1990,
          1991,
          1992,
          1993,
          1994,
          1995,
          1996,
          1997,
          1998,
          1999,
          2000,
          2001,
          2002,
          2003,
          2004,
          2005,
          2006,
          2007,
          2008,
          2009,
          2010,
          2011,
          2012,
          2013,
          2014,
          2015,
          2016,
          2017,
          2018,
          2019,
          2020,
          2021,
          2022
         ],
         "xaxis": "x3",
         "y": [
          100,
          200,
          346,
          144,
          152,
          286,
          549,
          586,
          97,
          198,
          353,
          325,
          123,
          78,
          471,
          262,
          754,
          542,
          23,
          371,
          95,
          6,
          9,
          32,
          43,
          89,
          78,
          195,
          1476,
          702,
          706,
          865,
          326,
          273,
          11,
          366,
          91,
          null,
          null,
          null,
          null
         ],
         "yaxis": "y3"
        },
        {
         "connectgaps": false,
         "hovertemplate": "fnid=LS1980A107<br>indicator=area<br>year=%{x}<br>value=%{y}<extra></extra>",
         "legendgroup": "LS1980A107",
         "line": {
          "color": "#FF6692",
          "dash": "solid"
         },
         "marker": {
          "symbol": "circle"
         },
         "mode": "markers+lines",
         "name": "LS1980A107",
         "showlegend": false,
         "type": "scattergl",
         "x": [
          1982,
          1983,
          1984,
          1985,
          1986,
          1987,
          1988,
          1989,
          1990,
          1991,
          1992,
          1993,
          1994,
          1995,
          1996,
          1997,
          1998,
          1999,
          2000,
          2001,
          2002,
          2003,
          2004,
          2005,
          2006,
          2007,
          2008,
          2009,
          2010,
          2011,
          2012,
          2013,
          2014,
          2015,
          2016,
          2017,
          2018,
          2019,
          2020,
          2021,
          2022
         ],
         "xaxis": "x2",
         "y": [
          600,
          500,
          600,
          700,
          400,
          600,
          600,
          400,
          500,
          700,
          900,
          541,
          453,
          330,
          646,
          428,
          699,
          445,
          223,
          351,
          589,
          86,
          244,
          37,
          224,
          343,
          298,
          319,
          1551,
          835,
          2823,
          1563,
          1087,
          318,
          268,
          665,
          793,
          null,
          null,
          null,
          null
         ],
         "yaxis": "y2"
        },
        {
         "connectgaps": false,
         "hovertemplate": "fnid=LS1980A107<br>indicator=yield<br>year=%{x}<br>value=%{y}<extra></extra>",
         "legendgroup": "LS1980A107",
         "line": {
          "color": "#FF6692",
          "dash": "solid"
         },
         "marker": {
          "symbol": "circle"
         },
         "mode": "markers+lines",
         "name": "LS1980A107",
         "showlegend": false,
         "type": "scattergl",
         "x": [
          1982,
          1983,
          1984,
          1985,
          1986,
          1987,
          1988,
          1989,
          1990,
          1991,
          1992,
          1993,
          1994,
          1995,
          1996,
          1997,
          1998,
          1999,
          2000,
          2001,
          2002,
          2003,
          2004,
          2005,
          2006,
          2007,
          2008,
          2009,
          2010,
          2011,
          2012,
          2013,
          2014,
          2015,
          2016,
          2017,
          2018,
          2019,
          2020,
          2021,
          2022
         ],
         "xaxis": "x",
         "y": [
          0.1666666666666666,
          0.4,
          0.5766666666666667,
          0.2057142857142857,
          0.38,
          0.4766666666666667,
          0.915,
          1.465,
          0.194,
          0.2828571428571428,
          0.3922222222222222,
          0.600739371534196,
          0.271523178807947,
          0.2363636363636363,
          0.7291021671826625,
          0.6121495327102804,
          1.0786838340486409,
          1.2179775280898877,
          0.1031390134529148,
          1.056980056980057,
          0.1612903225806451,
          0.0697674418604651,
          0.0368852459016393,
          0.8648648648648649,
          0.1919642857142857,
          0.2594752186588921,
          0.261744966442953,
          0.6112852664576802,
          0.9516441005802708,
          0.8407185628742515,
          0.2500885582713425,
          0.5534229046705055,
          0.2999080036798528,
          0.8584905660377359,
          0.0410447761194029,
          0.5503759398496241,
          0.1147540983606557,
          null,
          null,
          null,
          null
         ],
         "yaxis": "y"
        },
        {
         "connectgaps": false,
         "hovertemplate": "fnid=LS1980A108<br>indicator=production<br>year=%{x}<br>value=%{y}<extra></extra>",
         "legendgroup": "LS1980A108",
         "line": {
          "color": "#B6E880",
          "dash": "solid"
         },
         "marker": {
          "symbol": "circle"
         },
         "mode": "markers+lines",
         "name": "LS1980A108",
         "showlegend": true,
         "type": "scattergl",
         "x": [
          1982,
          1983,
          1984,
          1985,
          1986,
          1987,
          1988,
          1989,
          1990,
          1991,
          1992,
          1993,
          1994,
          1995,
          1996,
          1997,
          1998,
          1999,
          2000,
          2001,
          2002,
          2003,
          2004,
          2005,
          2006,
          2007,
          2008,
          2009,
          2010,
          2011,
          2012,
          2013,
          2014,
          2015,
          2016,
          2017,
          2018,
          2019,
          2020,
          2021,
          2022
         ],
         "xaxis": "x3",
         "y": [
          1400,
          400,
          126,
          1078,
          434,
          428,
          520,
          515,
          1060,
          218,
          328,
          490,
          392,
          8,
          125,
          292,
          null,
          480,
          153,
          401,
          216,
          330,
          107,
          913,
          112,
          151,
          564,
          109,
          543,
          278,
          36,
          192,
          null,
          55,
          null,
          1253,
          5,
          null,
          null,
          null,
          null
         ],
         "yaxis": "y3"
        },
        {
         "connectgaps": false,
         "hovertemplate": "fnid=LS1980A108<br>indicator=area<br>year=%{x}<br>value=%{y}<extra></extra>",
         "legendgroup": "LS1980A108",
         "line": {
          "color": "#B6E880",
          "dash": "solid"
         },
         "marker": {
          "symbol": "circle"
         },
         "mode": "markers+lines",
         "name": "LS1980A108",
         "showlegend": false,
         "type": "scattergl",
         "x": [
          1982,
          1983,
          1984,
          1985,
          1986,
          1987,
          1988,
          1989,
          1990,
          1991,
          1992,
          1993,
          1994,
          1995,
          1996,
          1997,
          1998,
          1999,
          2000,
          2001,
          2002,
          2003,
          2004,
          2005,
          2006,
          2007,
          2008,
          2009,
          2010,
          2011,
          2012,
          2013,
          2014,
          2015,
          2016,
          2017,
          2018,
          2019,
          2020,
          2021,
          2022
         ],
         "xaxis": "x2",
         "y": [
          2200,
          1300,
          700,
          700,
          1400,
          900,
          2000,
          2000,
          1400,
          3200,
          1100,
          1386,
          603,
          134,
          2228,
          407,
          222,
          461,
          503,
          419,
          390,
          956,
          297,
          1120,
          579,
          1753,
          818,
          247,
          865,
          947,
          184,
          1029,
          null,
          265,
          395,
          1922,
          171,
          null,
          null,
          null,
          null
         ],
         "yaxis": "y2"
        },
        {
         "connectgaps": false,
         "hovertemplate": "fnid=LS1980A108<br>indicator=yield<br>year=%{x}<br>value=%{y}<extra></extra>",
         "legendgroup": "LS1980A108",
         "line": {
          "color": "#B6E880",
          "dash": "solid"
         },
         "marker": {
          "symbol": "circle"
         },
         "mode": "markers+lines",
         "name": "LS1980A108",
         "showlegend": false,
         "type": "scattergl",
         "x": [
          1982,
          1983,
          1984,
          1985,
          1986,
          1987,
          1988,
          1989,
          1990,
          1991,
          1992,
          1993,
          1994,
          1995,
          1996,
          1997,
          1998,
          1999,
          2000,
          2001,
          2002,
          2003,
          2004,
          2005,
          2006,
          2007,
          2008,
          2009,
          2010,
          2011,
          2012,
          2013,
          2014,
          2015,
          2016,
          2017,
          2018,
          2019,
          2020,
          2021,
          2022
         ],
         "xaxis": "x",
         "y": [
          0.6363636363636364,
          0.3076923076923077,
          0.18,
          1.54,
          0.31,
          0.4755555555555555,
          0.26,
          0.2575,
          0.7571428571428571,
          0.068125,
          0.2981818181818181,
          0.3535353535353535,
          0.6500829187396352,
          0.0597014925373134,
          0.0561041292639138,
          0.7174447174447175,
          null,
          1.0412147505422993,
          0.3041749502982107,
          0.9570405727923628,
          0.5538461538461539,
          0.3451882845188284,
          0.3602693602693603,
          0.8151785714285714,
          0.1934369602763385,
          0.0861380490587564,
          0.6894865525672371,
          0.4412955465587044,
          0.6277456647398844,
          0.293558606124604,
          0.1956521739130435,
          0.1865889212827988,
          null,
          0.2075471698113207,
          null,
          0.6519250780437045,
          0.0292397660818713,
          null,
          null,
          null,
          null
         ],
         "yaxis": "y"
        },
        {
         "connectgaps": false,
         "hovertemplate": "fnid=LS1980A109<br>indicator=production<br>year=%{x}<br>value=%{y}<extra></extra>",
         "legendgroup": "LS1980A109",
         "line": {
          "color": "#FF97FF",
          "dash": "solid"
         },
         "marker": {
          "symbol": "circle"
         },
         "mode": "markers+lines",
         "name": "LS1980A109",
         "showlegend": true,
         "type": "scattergl",
         "x": [
          1982,
          1983,
          1984,
          1985,
          1986,
          1987,
          1988,
          1989,
          1990,
          1991,
          1992,
          1993,
          1994,
          1995,
          1996,
          1997,
          1998,
          1999,
          2000,
          2001,
          2002,
          2003,
          2004,
          2005,
          2006,
          2007,
          2008,
          2009,
          2010,
          2011,
          2012,
          2013,
          2014,
          2015,
          2016,
          2017,
          2018,
          2019,
          2020,
          2021,
          2022
         ],
         "xaxis": "x3",
         "y": [
          2400,
          800,
          2102,
          2312,
          2030,
          1825,
          3946,
          2843,
          3332,
          1235,
          1655,
          2252,
          4830,
          14,
          2273,
          2364,
          1827,
          2830,
          729,
          3354,
          545,
          2274,
          170,
          1129,
          462,
          256,
          330,
          824,
          2115,
          1137,
          107,
          1772,
          830,
          841,
          6,
          1540,
          42,
          null,
          null,
          null,
          null
         ],
         "yaxis": "y3"
        },
        {
         "connectgaps": false,
         "hovertemplate": "fnid=LS1980A109<br>indicator=area<br>year=%{x}<br>value=%{y}<extra></extra>",
         "legendgroup": "LS1980A109",
         "line": {
          "color": "#FF97FF",
          "dash": "solid"
         },
         "marker": {
          "symbol": "circle"
         },
         "mode": "markers+lines",
         "name": "LS1980A109",
         "showlegend": false,
         "type": "scattergl",
         "x": [
          1982,
          1983,
          1984,
          1985,
          1986,
          1987,
          1988,
          1989,
          1990,
          1991,
          1992,
          1993,
          1994,
          1995,
          1996,
          1997,
          1998,
          1999,
          2000,
          2001,
          2002,
          2003,
          2004,
          2005,
          2006,
          2007,
          2008,
          2009,
          2010,
          2011,
          2012,
          2013,
          2014,
          2015,
          2016,
          2017,
          2018,
          2019,
          2020,
          2021,
          2022
         ],
         "xaxis": "x2",
         "y": [
          5500,
          4400,
          5000,
          5800,
          3600,
          5100,
          5200,
          3500,
          4600,
          1900,
          4400,
          2969,
          5223,
          374,
          3246,
          3289,
          2290,
          3180,
          1154,
          3313,
          1978,
          2183,
          3012,
          2911,
          1962,
          1265,
          3594,
          1133,
          3128,
          1411,
          568,
          2823,
          2699,
          1875,
          395,
          2673,
          1933,
          null,
          null,
          null,
          null
         ],
         "yaxis": "y2"
        },
        {
         "connectgaps": false,
         "hovertemplate": "fnid=LS1980A109<br>indicator=yield<br>year=%{x}<br>value=%{y}<extra></extra>",
         "legendgroup": "LS1980A109",
         "line": {
          "color": "#FF97FF",
          "dash": "solid"
         },
         "marker": {
          "symbol": "circle"
         },
         "mode": "markers+lines",
         "name": "LS1980A109",
         "showlegend": false,
         "type": "scattergl",
         "x": [
          1982,
          1983,
          1984,
          1985,
          1986,
          1987,
          1988,
          1989,
          1990,
          1991,
          1992,
          1993,
          1994,
          1995,
          1996,
          1997,
          1998,
          1999,
          2000,
          2001,
          2002,
          2003,
          2004,
          2005,
          2006,
          2007,
          2008,
          2009,
          2010,
          2011,
          2012,
          2013,
          2014,
          2015,
          2016,
          2017,
          2018,
          2019,
          2020,
          2021,
          2022
         ],
         "xaxis": "x",
         "y": [
          0.4363636363636363,
          0.1818181818181818,
          0.4204,
          0.3986206896551724,
          0.5638888888888889,
          0.3578431372549019,
          0.7588461538461538,
          0.8122857142857143,
          0.7243478260869565,
          0.65,
          0.3761363636363636,
          0.7585045469855171,
          0.9247558874210224,
          0.0374331550802139,
          0.7002464571780653,
          0.718759501368197,
          0.7978165938864629,
          0.889937106918239,
          0.6317157712305026,
          1.0123754904920013,
          0.275530839231547,
          1.0416857535501602,
          0.0564409030544488,
          0.3878392305049811,
          0.2354740061162079,
          0.2023715415019762,
          0.0918196994991652,
          0.7272727272727273,
          0.676150895140665,
          0.8058114812189936,
          0.1883802816901408,
          0.6277010272759476,
          0.3075213041867358,
          0.4485333333333333,
          0.0151898734177215,
          0.5761316872427984,
          0.0217278841179513,
          null,
          null,
          null,
          null
         ],
         "yaxis": "y"
        },
        {
         "connectgaps": false,
         "hovertemplate": "fnid=LS1980A110<br>indicator=production<br>year=%{x}<br>value=%{y}<extra></extra>",
         "legendgroup": "LS1980A110",
         "line": {
          "color": "#FECB52",
          "dash": "solid"
         },
         "marker": {
          "symbol": "circle"
         },
         "mode": "markers+lines",
         "name": "LS1980A110",
         "showlegend": true,
         "type": "scattergl",
         "x": [
          1982,
          1983,
          1984,
          1985,
          1986,
          1987,
          1988,
          1989,
          1990,
          1991,
          1992,
          1993,
          1994,
          1995,
          1996,
          1997,
          1998,
          1999,
          2000,
          2001,
          2002,
          2003,
          2004,
          2005,
          2006,
          2007,
          2008,
          2009,
          2010,
          2011,
          2012,
          2013,
          2014,
          2015,
          2016,
          2017,
          2018,
          2019,
          2020,
          2021,
          2022
         ],
         "xaxis": "x3",
         "y": [
          500,
          500,
          1984,
          1086,
          994,
          945,
          1722,
          725,
          998,
          347,
          681,
          946,
          5001,
          627,
          2094,
          1730,
          1623,
          1224,
          724,
          1180,
          362,
          530,
          1362,
          1036,
          2488,
          547,
          230,
          843,
          731,
          1159,
          559,
          505,
          515,
          180,
          160,
          3693,
          91,
          null,
          null,
          null,
          null
         ],
         "yaxis": "y3"
        },
        {
         "connectgaps": false,
         "hovertemplate": "fnid=LS1980A110<br>indicator=area<br>year=%{x}<br>value=%{y}<extra></extra>",
         "legendgroup": "LS1980A110",
         "line": {
          "color": "#FECB52",
          "dash": "solid"
         },
         "marker": {
          "symbol": "circle"
         },
         "mode": "markers+lines",
         "name": "LS1980A110",
         "showlegend": false,
         "type": "scattergl",
         "x": [
          1982,
          1983,
          1984,
          1985,
          1986,
          1987,
          1988,
          1989,
          1990,
          1991,
          1992,
          1993,
          1994,
          1995,
          1996,
          1997,
          1998,
          1999,
          2000,
          2001,
          2002,
          2003,
          2004,
          2005,
          2006,
          2007,
          2008,
          2009,
          2010,
          2011,
          2012,
          2013,
          2014,
          2015,
          2016,
          2017,
          2018,
          2019,
          2020,
          2021,
          2022
         ],
         "xaxis": "x2",
         "y": [
          2500,
          1600,
          2600,
          3500,
          2100,
          1700,
          1700,
          1200,
          1300,
          1900,
          1800,
          1631,
          4921,
          583,
          2015,
          1078,
          1289,
          1651,
          1246,
          2204,
          1353,
          787,
          1648,
          1352,
          1906,
          2875,
          1982,
          1305,
          1088,
          1693,
          1371,
          874,
          1699,
          1494,
          1972,
          6455,
          2120,
          null,
          null,
          null,
          null
         ],
         "yaxis": "y2"
        },
        {
         "connectgaps": false,
         "hovertemplate": "fnid=LS1980A110<br>indicator=yield<br>year=%{x}<br>value=%{y}<extra></extra>",
         "legendgroup": "LS1980A110",
         "line": {
          "color": "#FECB52",
          "dash": "solid"
         },
         "marker": {
          "symbol": "circle"
         },
         "mode": "markers+lines",
         "name": "LS1980A110",
         "showlegend": false,
         "type": "scattergl",
         "x": [
          1982,
          1983,
          1984,
          1985,
          1986,
          1987,
          1988,
          1989,
          1990,
          1991,
          1992,
          1993,
          1994,
          1995,
          1996,
          1997,
          1998,
          1999,
          2000,
          2001,
          2002,
          2003,
          2004,
          2005,
          2006,
          2007,
          2008,
          2009,
          2010,
          2011,
          2012,
          2013,
          2014,
          2015,
          2016,
          2017,
          2018,
          2019,
          2020,
          2021,
          2022
         ],
         "xaxis": "x",
         "y": [
          0.2,
          0.3125,
          0.7630769230769231,
          0.3102857142857143,
          0.4733333333333333,
          0.5558823529411765,
          1.0129411764705882,
          0.6041666666666666,
          0.7676923076923077,
          0.1826315789473684,
          0.3783333333333333,
          0.5800122624156959,
          1.0162568583621214,
          1.0754716981132075,
          1.0392059553349875,
          1.6048237476808906,
          1.2591155934833205,
          0.7413688673531194,
          0.5810593900481541,
          0.5353901996370236,
          0.2675535846267554,
          0.6734434561626429,
          0.8264563106796117,
          0.7662721893491125,
          1.305351521511018,
          0.1902608695652174,
          0.1160443995963673,
          0.6459770114942529,
          0.671875,
          0.6845835794447725,
          0.4077315827862874,
          0.5778032036613272,
          0.3031194820482636,
          0.1204819277108433,
          0.0811359026369168,
          0.5721146398140976,
          0.0429245283018867,
          null,
          null,
          null,
          null
         ],
         "yaxis": "y"
        }
       ],
       "layout": {
        "annotations": [
         {
          "showarrow": false,
          "text": "",
          "textangle": 90,
          "x": 0.98,
          "xanchor": "left",
          "xref": "paper",
          "y": 0.16333333333333333,
          "yanchor": "middle",
          "yref": "paper"
         },
         {
          "showarrow": false,
          "text": "",
          "textangle": 90,
          "x": 0.98,
          "xanchor": "left",
          "xref": "paper",
          "y": 0.5,
          "yanchor": "middle",
          "yref": "paper"
         },
         {
          "showarrow": false,
          "text": "",
          "textangle": 90,
          "x": 0.98,
          "xanchor": "left",
          "xref": "paper",
          "y": 0.8366666666666667,
          "yanchor": "middle",
          "yref": "paper"
         },
         {
          "align": "left",
          "font": {
           "color": "dimgrey",
           "family": "arial",
           "size": 15
          },
          "showarrow": false,
          "text": "Production-Area-Yield time-series of LS - Sorghum - Summer",
          "x": -0.014,
          "xref": "paper",
          "y": -0.14,
          "yref": "paper"
         }
        ],
        "font": {
         "color": "black",
         "family": "arial",
         "size": 16
        },
        "height": 600,
        "legend": {
         "font": {
          "size": 14
         },
         "title": {
          "text": "FNID"
         },
         "tracegroupgap": 0,
         "x": 1,
         "xanchor": "left",
         "y": 1,
         "yanchor": "top"
        },
        "margin": {
         "b": 25,
         "l": 0,
         "r": 0,
         "t": 0
        },
        "template": {
         "data": {
          "bar": [
           {
            "error_x": {
             "color": "#2a3f5f"
            },
            "error_y": {
             "color": "#2a3f5f"
            },
            "marker": {
             "line": {
              "color": "#E5ECF6",
              "width": 0.5
             },
             "pattern": {
              "fillmode": "overlay",
              "size": 10,
              "solidity": 0.2
             }
            },
            "type": "bar"
           }
          ],
          "barpolar": [
           {
            "marker": {
             "line": {
              "color": "#E5ECF6",
              "width": 0.5
             },
             "pattern": {
              "fillmode": "overlay",
              "size": 10,
              "solidity": 0.2
             }
            },
            "type": "barpolar"
           }
          ],
          "carpet": [
           {
            "aaxis": {
             "endlinecolor": "#2a3f5f",
             "gridcolor": "white",
             "linecolor": "white",
             "minorgridcolor": "white",
             "startlinecolor": "#2a3f5f"
            },
            "baxis": {
             "endlinecolor": "#2a3f5f",
             "gridcolor": "white",
             "linecolor": "white",
             "minorgridcolor": "white",
             "startlinecolor": "#2a3f5f"
            },
            "type": "carpet"
           }
          ],
          "choropleth": [
           {
            "colorbar": {
             "outlinewidth": 0,
             "ticks": ""
            },
            "type": "choropleth"
           }
          ],
          "contour": [
           {
            "colorbar": {
             "outlinewidth": 0,
             "ticks": ""
            },
            "colorscale": [
             [
              0,
              "#0d0887"
             ],
             [
              0.1111111111111111,
              "#46039f"
             ],
             [
              0.2222222222222222,
              "#7201a8"
             ],
             [
              0.3333333333333333,
              "#9c179e"
             ],
             [
              0.4444444444444444,
              "#bd3786"
             ],
             [
              0.5555555555555556,
              "#d8576b"
             ],
             [
              0.6666666666666666,
              "#ed7953"
             ],
             [
              0.7777777777777778,
              "#fb9f3a"
             ],
             [
              0.8888888888888888,
              "#fdca26"
             ],
             [
              1,
              "#f0f921"
             ]
            ],
            "type": "contour"
           }
          ],
          "contourcarpet": [
           {
            "colorbar": {
             "outlinewidth": 0,
             "ticks": ""
            },
            "type": "contourcarpet"
           }
          ],
          "heatmap": [
           {
            "colorbar": {
             "outlinewidth": 0,
             "ticks": ""
            },
            "colorscale": [
             [
              0,
              "#0d0887"
             ],
             [
              0.1111111111111111,
              "#46039f"
             ],
             [
              0.2222222222222222,
              "#7201a8"
             ],
             [
              0.3333333333333333,
              "#9c179e"
             ],
             [
              0.4444444444444444,
              "#bd3786"
             ],
             [
              0.5555555555555556,
              "#d8576b"
             ],
             [
              0.6666666666666666,
              "#ed7953"
             ],
             [
              0.7777777777777778,
              "#fb9f3a"
             ],
             [
              0.8888888888888888,
              "#fdca26"
             ],
             [
              1,
              "#f0f921"
             ]
            ],
            "type": "heatmap"
           }
          ],
          "heatmapgl": [
           {
            "colorbar": {
             "outlinewidth": 0,
             "ticks": ""
            },
            "colorscale": [
             [
              0,
              "#0d0887"
             ],
             [
              0.1111111111111111,
              "#46039f"
             ],
             [
              0.2222222222222222,
              "#7201a8"
             ],
             [
              0.3333333333333333,
              "#9c179e"
             ],
             [
              0.4444444444444444,
              "#bd3786"
             ],
             [
              0.5555555555555556,
              "#d8576b"
             ],
             [
              0.6666666666666666,
              "#ed7953"
             ],
             [
              0.7777777777777778,
              "#fb9f3a"
             ],
             [
              0.8888888888888888,
              "#fdca26"
             ],
             [
              1,
              "#f0f921"
             ]
            ],
            "type": "heatmapgl"
           }
          ],
          "histogram": [
           {
            "marker": {
             "pattern": {
              "fillmode": "overlay",
              "size": 10,
              "solidity": 0.2
             }
            },
            "type": "histogram"
           }
          ],
          "histogram2d": [
           {
            "colorbar": {
             "outlinewidth": 0,
             "ticks": ""
            },
            "colorscale": [
             [
              0,
              "#0d0887"
             ],
             [
              0.1111111111111111,
              "#46039f"
             ],
             [
              0.2222222222222222,
              "#7201a8"
             ],
             [
              0.3333333333333333,
              "#9c179e"
             ],
             [
              0.4444444444444444,
              "#bd3786"
             ],
             [
              0.5555555555555556,
              "#d8576b"
             ],
             [
              0.6666666666666666,
              "#ed7953"
             ],
             [
              0.7777777777777778,
              "#fb9f3a"
             ],
             [
              0.8888888888888888,
              "#fdca26"
             ],
             [
              1,
              "#f0f921"
             ]
            ],
            "type": "histogram2d"
           }
          ],
          "histogram2dcontour": [
           {
            "colorbar": {
             "outlinewidth": 0,
             "ticks": ""
            },
            "colorscale": [
             [
              0,
              "#0d0887"
             ],
             [
              0.1111111111111111,
              "#46039f"
             ],
             [
              0.2222222222222222,
              "#7201a8"
             ],
             [
              0.3333333333333333,
              "#9c179e"
             ],
             [
              0.4444444444444444,
              "#bd3786"
             ],
             [
              0.5555555555555556,
              "#d8576b"
             ],
             [
              0.6666666666666666,
              "#ed7953"
             ],
             [
              0.7777777777777778,
              "#fb9f3a"
             ],
             [
              0.8888888888888888,
              "#fdca26"
             ],
             [
              1,
              "#f0f921"
             ]
            ],
            "type": "histogram2dcontour"
           }
          ],
          "mesh3d": [
           {
            "colorbar": {
             "outlinewidth": 0,
             "ticks": ""
            },
            "type": "mesh3d"
           }
          ],
          "parcoords": [
           {
            "line": {
             "colorbar": {
              "outlinewidth": 0,
              "ticks": ""
             }
            },
            "type": "parcoords"
           }
          ],
          "pie": [
           {
            "automargin": true,
            "type": "pie"
           }
          ],
          "scatter": [
           {
            "fillpattern": {
             "fillmode": "overlay",
             "size": 10,
             "solidity": 0.2
            },
            "type": "scatter"
           }
          ],
          "scatter3d": [
           {
            "line": {
             "colorbar": {
              "outlinewidth": 0,
              "ticks": ""
             }
            },
            "marker": {
             "colorbar": {
              "outlinewidth": 0,
              "ticks": ""
             }
            },
            "type": "scatter3d"
           }
          ],
          "scattercarpet": [
           {
            "marker": {
             "colorbar": {
              "outlinewidth": 0,
              "ticks": ""
             }
            },
            "type": "scattercarpet"
           }
          ],
          "scattergeo": [
           {
            "marker": {
             "colorbar": {
              "outlinewidth": 0,
              "ticks": ""
             }
            },
            "type": "scattergeo"
           }
          ],
          "scattergl": [
           {
            "marker": {
             "colorbar": {
              "outlinewidth": 0,
              "ticks": ""
             }
            },
            "type": "scattergl"
           }
          ],
          "scattermapbox": [
           {
            "marker": {
             "colorbar": {
              "outlinewidth": 0,
              "ticks": ""
             }
            },
            "type": "scattermapbox"
           }
          ],
          "scatterpolar": [
           {
            "marker": {
             "colorbar": {
              "outlinewidth": 0,
              "ticks": ""
             }
            },
            "type": "scatterpolar"
           }
          ],
          "scatterpolargl": [
           {
            "marker": {
             "colorbar": {
              "outlinewidth": 0,
              "ticks": ""
             }
            },
            "type": "scatterpolargl"
           }
          ],
          "scatterternary": [
           {
            "marker": {
             "colorbar": {
              "outlinewidth": 0,
              "ticks": ""
             }
            },
            "type": "scatterternary"
           }
          ],
          "surface": [
           {
            "colorbar": {
             "outlinewidth": 0,
             "ticks": ""
            },
            "colorscale": [
             [
              0,
              "#0d0887"
             ],
             [
              0.1111111111111111,
              "#46039f"
             ],
             [
              0.2222222222222222,
              "#7201a8"
             ],
             [
              0.3333333333333333,
              "#9c179e"
             ],
             [
              0.4444444444444444,
              "#bd3786"
             ],
             [
              0.5555555555555556,
              "#d8576b"
             ],
             [
              0.6666666666666666,
              "#ed7953"
             ],
             [
              0.7777777777777778,
              "#fb9f3a"
             ],
             [
              0.8888888888888888,
              "#fdca26"
             ],
             [
              1,
              "#f0f921"
             ]
            ],
            "type": "surface"
           }
          ],
          "table": [
           {
            "cells": {
             "fill": {
              "color": "#EBF0F8"
             },
             "line": {
              "color": "white"
             }
            },
            "header": {
             "fill": {
              "color": "#C8D4E3"
             },
             "line": {
              "color": "white"
             }
            },
            "type": "table"
           }
          ]
         },
         "layout": {
          "annotationdefaults": {
           "arrowcolor": "#2a3f5f",
           "arrowhead": 0,
           "arrowwidth": 1
          },
          "autotypenumbers": "strict",
          "coloraxis": {
           "colorbar": {
            "outlinewidth": 0,
            "ticks": ""
           }
          },
          "colorscale": {
           "diverging": [
            [
             0,
             "#8e0152"
            ],
            [
             0.1,
             "#c51b7d"
            ],
            [
             0.2,
             "#de77ae"
            ],
            [
             0.3,
             "#f1b6da"
            ],
            [
             0.4,
             "#fde0ef"
            ],
            [
             0.5,
             "#f7f7f7"
            ],
            [
             0.6,
             "#e6f5d0"
            ],
            [
             0.7,
             "#b8e186"
            ],
            [
             0.8,
             "#7fbc41"
            ],
            [
             0.9,
             "#4d9221"
            ],
            [
             1,
             "#276419"
            ]
           ],
           "sequential": [
            [
             0,
             "#0d0887"
            ],
            [
             0.1111111111111111,
             "#46039f"
            ],
            [
             0.2222222222222222,
             "#7201a8"
            ],
            [
             0.3333333333333333,
             "#9c179e"
            ],
            [
             0.4444444444444444,
             "#bd3786"
            ],
            [
             0.5555555555555556,
             "#d8576b"
            ],
            [
             0.6666666666666666,
             "#ed7953"
            ],
            [
             0.7777777777777778,
             "#fb9f3a"
            ],
            [
             0.8888888888888888,
             "#fdca26"
            ],
            [
             1,
             "#f0f921"
            ]
           ],
           "sequentialminus": [
            [
             0,
             "#0d0887"
            ],
            [
             0.1111111111111111,
             "#46039f"
            ],
            [
             0.2222222222222222,
             "#7201a8"
            ],
            [
             0.3333333333333333,
             "#9c179e"
            ],
            [
             0.4444444444444444,
             "#bd3786"
            ],
            [
             0.5555555555555556,
             "#d8576b"
            ],
            [
             0.6666666666666666,
             "#ed7953"
            ],
            [
             0.7777777777777778,
             "#fb9f3a"
            ],
            [
             0.8888888888888888,
             "#fdca26"
            ],
            [
             1,
             "#f0f921"
            ]
           ]
          },
          "colorway": [
           "#636efa",
           "#EF553B",
           "#00cc96",
           "#ab63fa",
           "#FFA15A",
           "#19d3f3",
           "#FF6692",
           "#B6E880",
           "#FF97FF",
           "#FECB52"
          ],
          "font": {
           "color": "#2a3f5f"
          },
          "geo": {
           "bgcolor": "white",
           "lakecolor": "white",
           "landcolor": "#E5ECF6",
           "showlakes": true,
           "showland": true,
           "subunitcolor": "white"
          },
          "hoverlabel": {
           "align": "left"
          },
          "hovermode": "closest",
          "mapbox": {
           "style": "light"
          },
          "paper_bgcolor": "white",
          "plot_bgcolor": "#E5ECF6",
          "polar": {
           "angularaxis": {
            "gridcolor": "white",
            "linecolor": "white",
            "ticks": ""
           },
           "bgcolor": "#E5ECF6",
           "radialaxis": {
            "gridcolor": "white",
            "linecolor": "white",
            "ticks": ""
           }
          },
          "scene": {
           "xaxis": {
            "backgroundcolor": "#E5ECF6",
            "gridcolor": "white",
            "gridwidth": 2,
            "linecolor": "white",
            "showbackground": true,
            "ticks": "",
            "zerolinecolor": "white"
           },
           "yaxis": {
            "backgroundcolor": "#E5ECF6",
            "gridcolor": "white",
            "gridwidth": 2,
            "linecolor": "white",
            "showbackground": true,
            "ticks": "",
            "zerolinecolor": "white"
           },
           "zaxis": {
            "backgroundcolor": "#E5ECF6",
            "gridcolor": "white",
            "gridwidth": 2,
            "linecolor": "white",
            "showbackground": true,
            "ticks": "",
            "zerolinecolor": "white"
           }
          },
          "shapedefaults": {
           "line": {
            "color": "#2a3f5f"
           }
          },
          "ternary": {
           "aaxis": {
            "gridcolor": "white",
            "linecolor": "white",
            "ticks": ""
           },
           "baxis": {
            "gridcolor": "white",
            "linecolor": "white",
            "ticks": ""
           },
           "bgcolor": "#E5ECF6",
           "caxis": {
            "gridcolor": "white",
            "linecolor": "white",
            "ticks": ""
           }
          },
          "title": {
           "x": 0.05
          },
          "xaxis": {
           "automargin": true,
           "gridcolor": "white",
           "linecolor": "white",
           "ticks": "",
           "title": {
            "standoff": 15
           },
           "zerolinecolor": "white",
           "zerolinewidth": 2
          },
          "yaxis": {
           "automargin": true,
           "gridcolor": "white",
           "linecolor": "white",
           "ticks": "",
           "title": {
            "standoff": 15
           },
           "zerolinecolor": "white",
           "zerolinewidth": 2
          }
         }
        },
        "width": 900,
        "xaxis": {
         "anchor": "y",
         "domain": [
          0,
          0.98
         ],
         "dtick": 1,
         "range": [
          1981,
          2022
         ],
         "title": {
          "text": ""
         }
        },
        "xaxis2": {
         "anchor": "y2",
         "domain": [
          0,
          0.98
         ],
         "dtick": 1,
         "matches": "x",
         "showticklabels": false
        },
        "xaxis3": {
         "anchor": "y3",
         "domain": [
          0,
          0.98
         ],
         "dtick": 1,
         "matches": "x",
         "showticklabels": false
        },
        "yaxis": {
         "anchor": "x",
         "domain": [
          0,
          0.32666666666666666
         ],
         "title": {
          "text": "Yield (mt/ha)"
         }
        },
        "yaxis2": {
         "anchor": "x2",
         "domain": [
          0.33666666666666667,
          0.6633333333333333
         ],
         "title": {
          "text": "Area (ha)"
         }
        },
        "yaxis3": {
         "anchor": "x3",
         "domain": [
          0.6733333333333333,
          1
         ],
         "title": {
          "text": "Production (mt)"
         }
        }
       }
      }
     },
     "metadata": {},
     "output_type": "display_data"
    },
    {
     "data": {
      "application/vnd.plotly.v1+json": {
       "config": {
        "plotlyServerURL": "https://plot.ly"
       },
       "data": [
        {
         "connectgaps": false,
         "hovertemplate": "fnid=LS1980A101<br>indicator=production<br>year=%{x}<br>value=%{y}<extra></extra>",
         "legendgroup": "LS1980A101",
         "line": {
          "color": "#636efa",
          "dash": "solid"
         },
         "marker": {
          "symbol": "circle"
         },
         "mode": "markers+lines",
         "name": "LS1980A101",
         "showlegend": true,
         "type": "scattergl",
         "x": [
          1981,
          1982,
          1983,
          1984,
          1985,
          1986,
          1987,
          1988,
          1989,
          1990,
          1991,
          1992,
          1993,
          1994,
          1995,
          1996,
          1997,
          1998,
          1999,
          2000,
          2001,
          2002,
          2003,
          2004,
          2005,
          2006,
          2007,
          2008,
          2009,
          2010,
          2011,
          2012,
          2013,
          2014,
          2015,
          2016,
          2017,
          2018,
          2019,
          2020,
          2021,
          2022
         ],
         "xaxis": "x3",
         "y": [
          null,
          400,
          null,
          null,
          3,
          36,
          176,
          114,
          null,
          56,
          33,
          195,
          null,
          39,
          217,
          241,
          14,
          178,
          76,
          14,
          null,
          null,
          null,
          null,
          null,
          22,
          101,
          1,
          null,
          601,
          null,
          null,
          null,
          3,
          null,
          26,
          570,
          null,
          null,
          105,
          null,
          null
         ],
         "yaxis": "y3"
        },
        {
         "connectgaps": false,
         "hovertemplate": "fnid=LS1980A101<br>indicator=area<br>year=%{x}<br>value=%{y}<extra></extra>",
         "legendgroup": "LS1980A101",
         "line": {
          "color": "#636efa",
          "dash": "solid"
         },
         "marker": {
          "symbol": "circle"
         },
         "mode": "markers+lines",
         "name": "LS1980A101",
         "showlegend": false,
         "type": "scattergl",
         "x": [
          1981,
          1982,
          1983,
          1984,
          1985,
          1986,
          1987,
          1988,
          1989,
          1990,
          1991,
          1992,
          1993,
          1994,
          1995,
          1996,
          1997,
          1998,
          1999,
          2000,
          2001,
          2002,
          2003,
          2004,
          2005,
          2006,
          2007,
          2008,
          2009,
          2010,
          2011,
          2012,
          2013,
          2014,
          2015,
          2016,
          2017,
          2018,
          2019,
          2020,
          2021,
          2022
         ],
         "xaxis": "x2",
         "y": [
          100,
          400,
          null,
          null,
          null,
          100,
          300,
          300,
          500,
          1400,
          1100,
          500,
          null,
          1764,
          239,
          541,
          109,
          109,
          null,
          null,
          1452,
          null,
          null,
          193,
          null,
          149,
          1245,
          4,
          null,
          1224,
          null,
          null,
          null,
          210,
          null,
          86,
          870,
          403,
          null,
          465,
          null,
          null
         ],
         "yaxis": "y2"
        },
        {
         "connectgaps": false,
         "hovertemplate": "fnid=LS1980A101<br>indicator=yield<br>year=%{x}<br>value=%{y}<extra></extra>",
         "legendgroup": "LS1980A101",
         "line": {
          "color": "#636efa",
          "dash": "solid"
         },
         "marker": {
          "symbol": "circle"
         },
         "mode": "markers+lines",
         "name": "LS1980A101",
         "showlegend": false,
         "type": "scattergl",
         "x": [
          1981,
          1982,
          1983,
          1984,
          1985,
          1986,
          1987,
          1988,
          1989,
          1990,
          1991,
          1992,
          1993,
          1994,
          1995,
          1996,
          1997,
          1998,
          1999,
          2000,
          2001,
          2002,
          2003,
          2004,
          2005,
          2006,
          2007,
          2008,
          2009,
          2010,
          2011,
          2012,
          2013,
          2014,
          2015,
          2016,
          2017,
          2018,
          2019,
          2020,
          2021,
          2022
         ],
         "xaxis": "x",
         "y": [
          null,
          1,
          null,
          null,
          null,
          0.36,
          0.5866666666666667,
          0.38,
          null,
          0.04,
          0.03,
          0.39,
          null,
          0.0221088435374149,
          0.9079497907949792,
          0.4454713493530499,
          0.128440366972477,
          1.6330275229357798,
          null,
          null,
          null,
          null,
          null,
          null,
          null,
          0.1476510067114094,
          0.0811244979919678,
          0.25,
          null,
          0.4910130718954248,
          null,
          null,
          null,
          0.0142857142857142,
          null,
          0.3023255813953488,
          0.6551724137931034,
          null,
          null,
          0.2258064516129032,
          null,
          null
         ],
         "yaxis": "y"
        },
        {
         "connectgaps": false,
         "hovertemplate": "fnid=LS1980A102<br>indicator=production<br>year=%{x}<br>value=%{y}<extra></extra>",
         "legendgroup": "LS1980A102",
         "line": {
          "color": "#EF553B",
          "dash": "solid"
         },
         "marker": {
          "symbol": "circle"
         },
         "mode": "markers+lines",
         "name": "LS1980A102",
         "showlegend": true,
         "type": "scattergl",
         "x": [
          1981,
          1982,
          1983,
          1984,
          1985,
          1986,
          1987,
          1988,
          1989,
          1990,
          1991,
          1992,
          1993,
          1994,
          1995,
          1996,
          1997,
          1998,
          1999,
          2000,
          2001,
          2002,
          2003,
          2004,
          2005,
          2006,
          2007,
          2008,
          2009,
          2010,
          2011,
          2012,
          2013,
          2014,
          2015,
          2016,
          2017,
          2018,
          2019,
          2020,
          2021,
          2022
         ],
         "xaxis": "x3",
         "y": [
          null,
          100,
          100,
          88,
          352,
          267,
          198,
          275,
          254,
          105,
          103,
          62,
          96,
          149,
          150,
          121,
          265,
          672,
          422,
          130,
          475,
          337,
          375,
          160,
          null,
          63,
          126,
          64,
          253,
          163,
          12,
          1168,
          947,
          171,
          227,
          null,
          161,
          128,
          null,
          null,
          null,
          0.02
         ],
         "yaxis": "y3"
        },
        {
         "connectgaps": false,
         "hovertemplate": "fnid=LS1980A102<br>indicator=area<br>year=%{x}<br>value=%{y}<extra></extra>",
         "legendgroup": "LS1980A102",
         "line": {
          "color": "#EF553B",
          "dash": "solid"
         },
         "marker": {
          "symbol": "circle"
         },
         "mode": "markers+lines",
         "name": "LS1980A102",
         "showlegend": false,
         "type": "scattergl",
         "x": [
          1981,
          1982,
          1983,
          1984,
          1985,
          1986,
          1987,
          1988,
          1989,
          1990,
          1991,
          1992,
          1993,
          1994,
          1995,
          1996,
          1997,
          1998,
          1999,
          2000,
          2001,
          2002,
          2003,
          2004,
          2005,
          2006,
          2007,
          2008,
          2009,
          2010,
          2011,
          2012,
          2013,
          2014,
          2015,
          2016,
          2017,
          2018,
          2019,
          2020,
          2021,
          2022
         ],
         "xaxis": "x2",
         "y": [
          600,
          500,
          200,
          200,
          800,
          400,
          300,
          300,
          500,
          500,
          200,
          200,
          183,
          320,
          243,
          952,
          1059,
          911,
          933,
          354,
          443,
          522,
          442,
          340,
          172,
          273,
          480,
          599,
          465,
          384,
          70,
          687,
          619,
          437,
          396,
          126,
          270,
          341,
          9,
          null,
          36,
          0.4
         ],
         "yaxis": "y2"
        },
        {
         "connectgaps": false,
         "hovertemplate": "fnid=LS1980A102<br>indicator=yield<br>year=%{x}<br>value=%{y}<extra></extra>",
         "legendgroup": "LS1980A102",
         "line": {
          "color": "#EF553B",
          "dash": "solid"
         },
         "marker": {
          "symbol": "circle"
         },
         "mode": "markers+lines",
         "name": "LS1980A102",
         "showlegend": false,
         "type": "scattergl",
         "x": [
          1981,
          1982,
          1983,
          1984,
          1985,
          1986,
          1987,
          1988,
          1989,
          1990,
          1991,
          1992,
          1993,
          1994,
          1995,
          1996,
          1997,
          1998,
          1999,
          2000,
          2001,
          2002,
          2003,
          2004,
          2005,
          2006,
          2007,
          2008,
          2009,
          2010,
          2011,
          2012,
          2013,
          2014,
          2015,
          2016,
          2017,
          2018,
          2019,
          2020,
          2021,
          2022
         ],
         "xaxis": "x",
         "y": [
          null,
          0.2,
          0.5,
          0.44,
          0.44,
          0.6675,
          0.66,
          0.9166666666666666,
          0.508,
          0.21,
          0.515,
          0.31,
          0.5245901639344263,
          0.465625,
          0.6172839506172839,
          0.1271008403361344,
          0.2502360717658168,
          0.7376509330406147,
          0.4523043944265809,
          0.3672316384180791,
          1.072234762979684,
          0.6455938697318008,
          0.8484162895927602,
          0.4705882352941176,
          null,
          0.2307692307692307,
          0.2625,
          0.1068447412353923,
          0.5440860215053763,
          0.4244791666666667,
          0.1714285714285714,
          1.700145560407569,
          1.5298869143780292,
          0.391304347826087,
          0.5732323232323232,
          null,
          0.5962962962962963,
          0.375366568914956,
          null,
          null,
          null,
          0.0499999999999999
         ],
         "yaxis": "y"
        },
        {
         "connectgaps": false,
         "hovertemplate": "fnid=LS1980A103<br>indicator=production<br>year=%{x}<br>value=%{y}<extra></extra>",
         "legendgroup": "LS1980A103",
         "line": {
          "color": "#00cc96",
          "dash": "solid"
         },
         "marker": {
          "symbol": "circle"
         },
         "mode": "markers+lines",
         "name": "LS1980A103",
         "showlegend": true,
         "type": "scattergl",
         "x": [
          1981,
          1982,
          1983,
          1984,
          1985,
          1986,
          1987,
          1988,
          1989,
          1990,
          1991,
          1992,
          1993,
          1994,
          1995,
          1996,
          1997,
          1998,
          1999,
          2000,
          2001,
          2002,
          2003,
          2004,
          2005,
          2006,
          2007,
          2008,
          2009,
          2010,
          2011,
          2012,
          2013,
          2014,
          2015,
          2016,
          2017,
          2018,
          2019,
          2020,
          2021,
          2022
         ],
         "xaxis": "x3",
         "y": [
          null,
          1100,
          1000,
          1238,
          204,
          521,
          369,
          832,
          1060,
          1155,
          391,
          343,
          323,
          860,
          1836,
          1607,
          1048,
          1143,
          940,
          580.4,
          495.4,
          862,
          329,
          161,
          103,
          827,
          74,
          375,
          319,
          579,
          438,
          293,
          203,
          763,
          664,
          396,
          777,
          319,
          null,
          909,
          null,
          0.3
         ],
         "yaxis": "y3"
        },
        {
         "connectgaps": false,
         "hovertemplate": "fnid=LS1980A103<br>indicator=area<br>year=%{x}<br>value=%{y}<extra></extra>",
         "legendgroup": "LS1980A103",
         "line": {
          "color": "#00cc96",
          "dash": "solid"
         },
         "marker": {
          "symbol": "circle"
         },
         "mode": "markers+lines",
         "name": "LS1980A103",
         "showlegend": false,
         "type": "scattergl",
         "x": [
          1981,
          1982,
          1983,
          1984,
          1985,
          1986,
          1987,
          1988,
          1989,
          1990,
          1991,
          1992,
          1993,
          1994,
          1995,
          1996,
          1997,
          1998,
          1999,
          2000,
          2001,
          2002,
          2003,
          2004,
          2005,
          2006,
          2007,
          2008,
          2009,
          2010,
          2011,
          2012,
          2013,
          2014,
          2015,
          2016,
          2017,
          2018,
          2019,
          2020,
          2021,
          2022
         ],
         "xaxis": "x2",
         "y": [
          1700,
          1600,
          2100,
          1000,
          1600,
          700,
          400,
          500,
          700,
          3700,
          4100,
          700,
          507,
          1272,
          2467,
          2243,
          2030,
          1848,
          1976,
          1419,
          2379,
          1595,
          707,
          323,
          140,
          1654,
          284,
          1249,
          307,
          780,
          422,
          448,
          465,
          1701,
          762,
          507,
          2045,
          2205,
          57,
          805,
          null,
          0.4
         ],
         "yaxis": "y2"
        },
        {
         "connectgaps": false,
         "hovertemplate": "fnid=LS1980A103<br>indicator=yield<br>year=%{x}<br>value=%{y}<extra></extra>",
         "legendgroup": "LS1980A103",
         "line": {
          "color": "#00cc96",
          "dash": "solid"
         },
         "marker": {
          "symbol": "circle"
         },
         "mode": "markers+lines",
         "name": "LS1980A103",
         "showlegend": false,
         "type": "scattergl",
         "x": [
          1981,
          1982,
          1983,
          1984,
          1985,
          1986,
          1987,
          1988,
          1989,
          1990,
          1991,
          1992,
          1993,
          1994,
          1995,
          1996,
          1997,
          1998,
          1999,
          2000,
          2001,
          2002,
          2003,
          2004,
          2005,
          2006,
          2007,
          2008,
          2009,
          2010,
          2011,
          2012,
          2013,
          2014,
          2015,
          2016,
          2017,
          2018,
          2019,
          2020,
          2021,
          2022
         ],
         "xaxis": "x",
         "y": [
          null,
          0.6875,
          0.4761904761904761,
          1.238,
          0.1275,
          0.7442857142857143,
          0.9225,
          1.664,
          1.5142857142857142,
          0.3121621621621621,
          0.0953658536585365,
          0.49,
          0.6370808678500987,
          0.6761006289308176,
          0.744223753546818,
          0.7164511814534106,
          0.516256157635468,
          0.6185064935064936,
          0.4757085020242915,
          0.4090204369274136,
          0.2082387557797393,
          0.5404388714733542,
          0.4653465346534653,
          0.4984520123839009,
          0.7357142857142858,
          0.5,
          0.2605633802816901,
          0.300240192153723,
          1.0390879478827362,
          0.7423076923076923,
          1.037914691943128,
          0.6540178571428571,
          0.4365591397849462,
          0.448559670781893,
          0.8713910761154856,
          0.7810650887573964,
          0.3799511002444988,
          0.1446712018140589,
          null,
          1.129192546583851,
          null,
          0.7499999999999999
         ],
         "yaxis": "y"
        },
        {
         "connectgaps": false,
         "hovertemplate": "fnid=LS1980A104<br>indicator=production<br>year=%{x}<br>value=%{y}<extra></extra>",
         "legendgroup": "LS1980A104",
         "line": {
          "color": "#ab63fa",
          "dash": "solid"
         },
         "marker": {
          "symbol": "circle"
         },
         "mode": "markers+lines",
         "name": "LS1980A104",
         "showlegend": true,
         "type": "scattergl",
         "x": [
          1981,
          1982,
          1983,
          1984,
          1985,
          1986,
          1987,
          1988,
          1989,
          1990,
          1991,
          1992,
          1993,
          1994,
          1995,
          1996,
          1997,
          1998,
          1999,
          2000,
          2001,
          2002,
          2003,
          2004,
          2005,
          2006,
          2007,
          2008,
          2009,
          2010,
          2011,
          2012,
          2013,
          2014,
          2015,
          2016,
          2017,
          2018,
          2019,
          2020,
          2021,
          2022
         ],
         "xaxis": "x3",
         "y": [
          null,
          1200,
          5700,
          5012,
          5154,
          537,
          706,
          3050,
          null,
          1767,
          144,
          1622,
          230,
          217,
          null,
          2666,
          99,
          671,
          293,
          null,
          840.6,
          27,
          147,
          null,
          null,
          5,
          94,
          32,
          null,
          17,
          null,
          null,
          null,
          null,
          26,
          null,
          148,
          null,
          null,
          253,
          null,
          null
         ],
         "yaxis": "y3"
        },
        {
         "connectgaps": false,
         "hovertemplate": "fnid=LS1980A104<br>indicator=area<br>year=%{x}<br>value=%{y}<extra></extra>",
         "legendgroup": "LS1980A104",
         "line": {
          "color": "#ab63fa",
          "dash": "solid"
         },
         "marker": {
          "symbol": "circle"
         },
         "mode": "markers+lines",
         "name": "LS1980A104",
         "showlegend": false,
         "type": "scattergl",
         "x": [
          1981,
          1982,
          1983,
          1984,
          1985,
          1986,
          1987,
          1988,
          1989,
          1990,
          1991,
          1992,
          1993,
          1994,
          1995,
          1996,
          1997,
          1998,
          1999,
          2000,
          2001,
          2002,
          2003,
          2004,
          2005,
          2006,
          2007,
          2008,
          2009,
          2010,
          2011,
          2012,
          2013,
          2014,
          2015,
          2016,
          2017,
          2018,
          2019,
          2020,
          2021,
          2022
         ],
         "xaxis": "x2",
         "y": [
          2800,
          3800,
          12200,
          12200,
          11900,
          5200,
          2900,
          3200,
          4700,
          15700,
          13300,
          3200,
          381,
          6589,
          1023,
          6075,
          3574,
          3594,
          580,
          276,
          3348,
          448,
          205,
          null,
          253,
          30,
          1015,
          79,
          null,
          558,
          null,
          null,
          null,
          null,
          30,
          null,
          830,
          null,
          null,
          1109,
          null,
          null
         ],
         "yaxis": "y2"
        },
        {
         "connectgaps": false,
         "hovertemplate": "fnid=LS1980A104<br>indicator=yield<br>year=%{x}<br>value=%{y}<extra></extra>",
         "legendgroup": "LS1980A104",
         "line": {
          "color": "#ab63fa",
          "dash": "solid"
         },
         "marker": {
          "symbol": "circle"
         },
         "mode": "markers+lines",
         "name": "LS1980A104",
         "showlegend": false,
         "type": "scattergl",
         "x": [
          1981,
          1982,
          1983,
          1984,
          1985,
          1986,
          1987,
          1988,
          1989,
          1990,
          1991,
          1992,
          1993,
          1994,
          1995,
          1996,
          1997,
          1998,
          1999,
          2000,
          2001,
          2002,
          2003,
          2004,
          2005,
          2006,
          2007,
          2008,
          2009,
          2010,
          2011,
          2012,
          2013,
          2014,
          2015,
          2016,
          2017,
          2018,
          2019,
          2020,
          2021,
          2022
         ],
         "xaxis": "x",
         "y": [
          null,
          0.3157894736842105,
          0.4672131147540984,
          0.4108196721311475,
          0.433109243697479,
          0.1032692307692307,
          0.2434482758620689,
          0.953125,
          null,
          0.1125477707006369,
          0.0108270676691729,
          0.506875,
          0.6036745406824147,
          0.0329336773410229,
          null,
          0.4388477366255144,
          0.027700055959709,
          0.1867000556483027,
          0.5051724137931034,
          null,
          0.2510752688172043,
          0.0602678571428571,
          0.7170731707317073,
          null,
          null,
          0.1666666666666666,
          0.0926108374384236,
          0.4050632911392405,
          null,
          0.0304659498207885,
          null,
          null,
          null,
          null,
          0.8666666666666667,
          null,
          0.1783132530120482,
          null,
          null,
          0.2281334535617673,
          null,
          null
         ],
         "yaxis": "y"
        },
        {
         "connectgaps": false,
         "hovertemplate": "fnid=LS1980A105<br>indicator=production<br>year=%{x}<br>value=%{y}<extra></extra>",
         "legendgroup": "LS1980A105",
         "line": {
          "color": "#FFA15A",
          "dash": "solid"
         },
         "marker": {
          "symbol": "circle"
         },
         "mode": "markers+lines",
         "name": "LS1980A105",
         "showlegend": true,
         "type": "scattergl",
         "x": [
          1981,
          1982,
          1983,
          1984,
          1985,
          1986,
          1987,
          1988,
          1989,
          1990,
          1991,
          1992,
          1993,
          1994,
          1995,
          1996,
          1997,
          1998,
          1999,
          2000,
          2001,
          2002,
          2003,
          2004,
          2005,
          2006,
          2007,
          2008,
          2009,
          2010,
          2011,
          2012,
          2013,
          2014,
          2015,
          2016,
          2017,
          2018,
          2019,
          2020,
          2021,
          2022
         ],
         "xaxis": "x3",
         "y": [
          null,
          4100,
          800,
          842,
          3460,
          2565,
          3965,
          3273,
          8474,
          1088,
          76,
          1050,
          113,
          1307,
          1018,
          896,
          2510,
          2941,
          1243,
          2774,
          3892,
          668,
          596,
          1055,
          null,
          574,
          1,
          370,
          676,
          11,
          2249,
          1074,
          546,
          550,
          442,
          532,
          711,
          143,
          null,
          38,
          null,
          null
         ],
         "yaxis": "y3"
        },
        {
         "connectgaps": false,
         "hovertemplate": "fnid=LS1980A105<br>indicator=area<br>year=%{x}<br>value=%{y}<extra></extra>",
         "legendgroup": "LS1980A105",
         "line": {
          "color": "#FFA15A",
          "dash": "solid"
         },
         "marker": {
          "symbol": "circle"
         },
         "mode": "markers+lines",
         "name": "LS1980A105",
         "showlegend": false,
         "type": "scattergl",
         "x": [
          1981,
          1982,
          1983,
          1984,
          1985,
          1986,
          1987,
          1988,
          1989,
          1990,
          1991,
          1992,
          1993,
          1994,
          1995,
          1996,
          1997,
          1998,
          1999,
          2000,
          2001,
          2002,
          2003,
          2004,
          2005,
          2006,
          2007,
          2008,
          2009,
          2010,
          2011,
          2012,
          2013,
          2014,
          2015,
          2016,
          2017,
          2018,
          2019,
          2020,
          2021,
          2022
         ],
         "xaxis": "x2",
         "y": [
          4200,
          6300,
          1500,
          1600,
          5400,
          5100,
          4600,
          5100,
          7400,
          5800,
          2600,
          1700,
          533,
          4210,
          1933,
          1797,
          3920,
          6287,
          2417,
          2346,
          3689,
          1422,
          1699,
          3171,
          2221,
          1435,
          17,
          1710,
          2289,
          229,
          1623,
          1342,
          768,
          1025,
          729,
          2844,
          1446,
          1445,
          null,
          113,
          null,
          null
         ],
         "yaxis": "y2"
        },
        {
         "connectgaps": false,
         "hovertemplate": "fnid=LS1980A105<br>indicator=yield<br>year=%{x}<br>value=%{y}<extra></extra>",
         "legendgroup": "LS1980A105",
         "line": {
          "color": "#FFA15A",
          "dash": "solid"
         },
         "marker": {
          "symbol": "circle"
         },
         "mode": "markers+lines",
         "name": "LS1980A105",
         "showlegend": false,
         "type": "scattergl",
         "x": [
          1981,
          1982,
          1983,
          1984,
          1985,
          1986,
          1987,
          1988,
          1989,
          1990,
          1991,
          1992,
          1993,
          1994,
          1995,
          1996,
          1997,
          1998,
          1999,
          2000,
          2001,
          2002,
          2003,
          2004,
          2005,
          2006,
          2007,
          2008,
          2009,
          2010,
          2011,
          2012,
          2013,
          2014,
          2015,
          2016,
          2017,
          2018,
          2019,
          2020,
          2021,
          2022
         ],
         "xaxis": "x",
         "y": [
          null,
          0.6507936507936508,
          0.5333333333333333,
          0.52625,
          0.6407407407407407,
          0.5029411764705882,
          0.8619565217391304,
          0.6417647058823529,
          1.145135135135135,
          0.1875862068965517,
          0.0292307692307692,
          0.6176470588235294,
          0.2120075046904315,
          0.3104513064133016,
          0.5266425245732023,
          0.4986087924318308,
          0.6403061224489796,
          0.4677906791792587,
          0.5142738932561026,
          1.1824381926683718,
          1.0550284629981024,
          0.469760900140647,
          0.3507945850500294,
          0.3327026174708294,
          null,
          0.4,
          0.0588235294117647,
          0.2163742690058479,
          0.2953254696373962,
          0.0480349344978165,
          1.385705483672212,
          0.8002980625931445,
          0.7109375,
          0.5365853658536586,
          0.6063100137174211,
          0.1870604781997187,
          0.491701244813278,
          0.0989619377162629,
          null,
          0.336283185840708,
          null,
          null
         ],
         "yaxis": "y"
        },
        {
         "connectgaps": false,
         "hovertemplate": "fnid=LS1980A106<br>indicator=production<br>year=%{x}<br>value=%{y}<extra></extra>",
         "legendgroup": "LS1980A106",
         "line": {
          "color": "#19d3f3",
          "dash": "solid"
         },
         "marker": {
          "symbol": "circle"
         },
         "mode": "markers+lines",
         "name": "LS1980A106",
         "showlegend": true,
         "type": "scattergl",
         "x": [
          1981,
          1982,
          1983,
          1984,
          1985,
          1986,
          1987,
          1988,
          1989,
          1990,
          1991,
          1992,
          1993,
          1994,
          1995,
          1996,
          1997,
          1998,
          1999,
          2000,
          2001,
          2002,
          2003,
          2004,
          2005,
          2006,
          2007,
          2008,
          2009,
          2010,
          2011,
          2012,
          2013,
          2014,
          2015,
          2016,
          2017,
          2018,
          2019,
          2020,
          2021,
          2022
         ],
         "xaxis": "x3",
         "y": [
          null,
          1800,
          3700,
          3369,
          1798,
          1094,
          3230,
          3673,
          2431,
          3531,
          783,
          2142,
          2417,
          1067,
          654,
          3922,
          5262,
          4502,
          927,
          1,
          1595,
          null,
          2566,
          1505,
          null,
          null,
          284,
          353,
          729,
          44,
          880,
          1121,
          307,
          515,
          294,
          932,
          1464,
          135,
          null,
          null,
          null,
          null
         ],
         "yaxis": "y3"
        },
        {
         "connectgaps": false,
         "hovertemplate": "fnid=LS1980A106<br>indicator=area<br>year=%{x}<br>value=%{y}<extra></extra>",
         "legendgroup": "LS1980A106",
         "line": {
          "color": "#19d3f3",
          "dash": "solid"
         },
         "marker": {
          "symbol": "circle"
         },
         "mode": "markers+lines",
         "name": "LS1980A106",
         "showlegend": false,
         "type": "scattergl",
         "x": [
          1981,
          1982,
          1983,
          1984,
          1985,
          1986,
          1987,
          1988,
          1989,
          1990,
          1991,
          1992,
          1993,
          1994,
          1995,
          1996,
          1997,
          1998,
          1999,
          2000,
          2001,
          2002,
          2003,
          2004,
          2005,
          2006,
          2007,
          2008,
          2009,
          2010,
          2011,
          2012,
          2013,
          2014,
          2015,
          2016,
          2017,
          2018,
          2019,
          2020,
          2021,
          2022
         ],
         "xaxis": "x2",
         "y": [
          2600,
          2800,
          7300,
          9300,
          4600,
          5200,
          3100,
          3500,
          5100,
          9300,
          4700,
          3000,
          2109,
          5369,
          907,
          4297,
          2746,
          2644,
          578,
          55,
          4487,
          256,
          1521,
          1300,
          null,
          null,
          2203,
          1500,
          2431,
          277,
          1347,
          1401,
          677,
          696,
          589,
          1635,
          793,
          300,
          null,
          null,
          null,
          null
         ],
         "yaxis": "y2"
        },
        {
         "connectgaps": false,
         "hovertemplate": "fnid=LS1980A106<br>indicator=yield<br>year=%{x}<br>value=%{y}<extra></extra>",
         "legendgroup": "LS1980A106",
         "line": {
          "color": "#19d3f3",
          "dash": "solid"
         },
         "marker": {
          "symbol": "circle"
         },
         "mode": "markers+lines",
         "name": "LS1980A106",
         "showlegend": false,
         "type": "scattergl",
         "x": [
          1981,
          1982,
          1983,
          1984,
          1985,
          1986,
          1987,
          1988,
          1989,
          1990,
          1991,
          1992,
          1993,
          1994,
          1995,
          1996,
          1997,
          1998,
          1999,
          2000,
          2001,
          2002,
          2003,
          2004,
          2005,
          2006,
          2007,
          2008,
          2009,
          2010,
          2011,
          2012,
          2013,
          2014,
          2015,
          2016,
          2017,
          2018,
          2019,
          2020,
          2021,
          2022
         ],
         "xaxis": "x",
         "y": [
          null,
          0.6428571428571429,
          0.5068493150684932,
          0.362258064516129,
          0.3908695652173913,
          0.2103846153846154,
          1.0419354838709678,
          1.0494285714285714,
          0.4766666666666667,
          0.3796774193548387,
          0.166595744680851,
          0.714,
          1.146040777619725,
          0.1987334699199106,
          0.721058434399118,
          0.9127298114963928,
          1.916241806263656,
          1.7027231467473525,
          1.6038062283737025,
          0.0181818181818181,
          0.3554713617116113,
          null,
          1.6870479947403023,
          1.1576923076923078,
          null,
          null,
          0.1289151157512483,
          0.2353333333333333,
          0.299876593994241,
          0.1588447653429603,
          0.6533036377134372,
          0.8001427551748751,
          0.4534711964549483,
          0.7399425287356322,
          0.499151103565365,
          0.5700305810397553,
          1.8461538461538465,
          0.45,
          null,
          null,
          null,
          null
         ],
         "yaxis": "y"
        },
        {
         "connectgaps": false,
         "hovertemplate": "fnid=LS1980A107<br>indicator=production<br>year=%{x}<br>value=%{y}<extra></extra>",
         "legendgroup": "LS1980A107",
         "line": {
          "color": "#FF6692",
          "dash": "solid"
         },
         "marker": {
          "symbol": "circle"
         },
         "mode": "markers+lines",
         "name": "LS1980A107",
         "showlegend": true,
         "type": "scattergl",
         "x": [
          1981,
          1982,
          1983,
          1984,
          1985,
          1986,
          1987,
          1988,
          1989,
          1990,
          1991,
          1992,
          1993,
          1994,
          1995,
          1996,
          1997,
          1998,
          1999,
          2000,
          2001,
          2002,
          2003,
          2004,
          2005,
          2006,
          2007,
          2008,
          2009,
          2010,
          2011,
          2012,
          2013,
          2014,
          2015,
          2016,
          2017,
          2018,
          2019,
          2020,
          2021,
          2022
         ],
         "xaxis": "x3",
         "y": [
          null,
          2900,
          1400,
          2668,
          3942,
          3627,
          2606,
          3581,
          5820,
          1123,
          2018,
          1882,
          2564,
          2274,
          2083,
          4882,
          7334,
          5030,
          2811,
          1276,
          1063,
          8812,
          4520,
          2672,
          null,
          446,
          158,
          60,
          1119,
          15286,
          12898,
          3914,
          7135,
          7078,
          2511,
          1044,
          3742,
          3139,
          null,
          null,
          null,
          null
         ],
         "yaxis": "y3"
        },
        {
         "connectgaps": false,
         "hovertemplate": "fnid=LS1980A107<br>indicator=area<br>year=%{x}<br>value=%{y}<extra></extra>",
         "legendgroup": "LS1980A107",
         "line": {
          "color": "#FF6692",
          "dash": "solid"
         },
         "marker": {
          "symbol": "circle"
         },
         "mode": "markers+lines",
         "name": "LS1980A107",
         "showlegend": false,
         "type": "scattergl",
         "x": [
          1981,
          1982,
          1983,
          1984,
          1985,
          1986,
          1987,
          1988,
          1989,
          1990,
          1991,
          1992,
          1993,
          1994,
          1995,
          1996,
          1997,
          1998,
          1999,
          2000,
          2001,
          2002,
          2003,
          2004,
          2005,
          2006,
          2007,
          2008,
          2009,
          2010,
          2011,
          2012,
          2013,
          2014,
          2015,
          2016,
          2017,
          2018,
          2019,
          2020,
          2021,
          2022
         ],
         "xaxis": "x2",
         "y": [
          3100,
          5600,
          3200,
          3100,
          6600,
          5100,
          5200,
          5800,
          8400,
          8500,
          4700,
          3000,
          1751,
          2959,
          4379,
          4340,
          4340,
          3959,
          4754,
          3322,
          2479,
          5179,
          4230,
          3739,
          3429,
          2974,
          1576,
          5097,
          5595,
          6899,
          11619,
          3599,
          4301,
          5425,
          2745,
          2690,
          1661,
          2483,
          null,
          null,
          null,
          null
         ],
         "yaxis": "y2"
        },
        {
         "connectgaps": false,
         "hovertemplate": "fnid=LS1980A107<br>indicator=yield<br>year=%{x}<br>value=%{y}<extra></extra>",
         "legendgroup": "LS1980A107",
         "line": {
          "color": "#FF6692",
          "dash": "solid"
         },
         "marker": {
          "symbol": "circle"
         },
         "mode": "markers+lines",
         "name": "LS1980A107",
         "showlegend": false,
         "type": "scattergl",
         "x": [
          1981,
          1982,
          1983,
          1984,
          1985,
          1986,
          1987,
          1988,
          1989,
          1990,
          1991,
          1992,
          1993,
          1994,
          1995,
          1996,
          1997,
          1998,
          1999,
          2000,
          2001,
          2002,
          2003,
          2004,
          2005,
          2006,
          2007,
          2008,
          2009,
          2010,
          2011,
          2012,
          2013,
          2014,
          2015,
          2016,
          2017,
          2018,
          2019,
          2020,
          2021,
          2022
         ],
         "xaxis": "x",
         "y": [
          null,
          0.5178571428571429,
          0.4375,
          0.8606451612903225,
          0.5972727272727273,
          0.7111764705882353,
          0.5011538461538462,
          0.6174137931034482,
          0.6928571428571428,
          0.1321176470588235,
          0.4293617021276595,
          0.6273333333333333,
          1.464306110793832,
          0.7685028725920919,
          0.4756793788536195,
          1.124884792626728,
          1.6898617511520737,
          1.270522859307906,
          0.5912915439629786,
          0.3841059602649007,
          0.4288019362646228,
          1.7014867735083994,
          1.0685579196217494,
          0.7146295801016315,
          null,
          0.1499663752521856,
          0.1002538071065989,
          0.0117716303708063,
          0.2,
          2.2156834323815047,
          1.1100783199931148,
          1.0875243123089746,
          1.6589165310392933,
          1.304700460829493,
          0.9147540983606556,
          0.3881040892193308,
          2.2528597230583984,
          1.2641965364478454,
          null,
          null,
          null,
          null
         ],
         "yaxis": "y"
        },
        {
         "connectgaps": false,
         "hovertemplate": "fnid=LS1980A108<br>indicator=production<br>year=%{x}<br>value=%{y}<extra></extra>",
         "legendgroup": "LS1980A108",
         "line": {
          "color": "#B6E880",
          "dash": "solid"
         },
         "marker": {
          "symbol": "circle"
         },
         "mode": "markers+lines",
         "name": "LS1980A108",
         "showlegend": true,
         "type": "scattergl",
         "x": [
          1981,
          1982,
          1983,
          1984,
          1985,
          1986,
          1987,
          1988,
          1989,
          1990,
          1991,
          1992,
          1993,
          1994,
          1995,
          1996,
          1997,
          1998,
          1999,
          2000,
          2001,
          2002,
          2003,
          2004,
          2005,
          2006,
          2007,
          2008,
          2009,
          2010,
          2011,
          2012,
          2013,
          2014,
          2015,
          2016,
          2017,
          2018,
          2019,
          2020,
          2021,
          2022
         ],
         "xaxis": "x3",
         "y": [
          null,
          300,
          500,
          443,
          482,
          602,
          428,
          156,
          1382,
          2901,
          372,
          1584,
          348,
          1096,
          1343,
          1255,
          1657,
          832,
          29,
          325,
          201.4,
          1787,
          200,
          974,
          655,
          334,
          36,
          459,
          544,
          1047,
          376,
          117,
          939,
          911,
          192,
          1,
          470,
          1576,
          null,
          null,
          null,
          null
         ],
         "yaxis": "y3"
        },
        {
         "connectgaps": false,
         "hovertemplate": "fnid=LS1980A108<br>indicator=area<br>year=%{x}<br>value=%{y}<extra></extra>",
         "legendgroup": "LS1980A108",
         "line": {
          "color": "#B6E880",
          "dash": "solid"
         },
         "marker": {
          "symbol": "circle"
         },
         "mode": "markers+lines",
         "name": "LS1980A108",
         "showlegend": false,
         "type": "scattergl",
         "x": [
          1981,
          1982,
          1983,
          1984,
          1985,
          1986,
          1987,
          1988,
          1989,
          1990,
          1991,
          1992,
          1993,
          1994,
          1995,
          1996,
          1997,
          1998,
          1999,
          2000,
          2001,
          2002,
          2003,
          2004,
          2005,
          2006,
          2007,
          2008,
          2009,
          2010,
          2011,
          2012,
          2013,
          2014,
          2015,
          2016,
          2017,
          2018,
          2019,
          2020,
          2021,
          2022
         ],
         "xaxis": "x2",
         "y": [
          1900,
          400,
          1600,
          1000,
          700,
          500,
          1000,
          1000,
          1500,
          3700,
          2800,
          2500,
          2269,
          1793,
          3215,
          1968,
          1968,
          664,
          2168,
          931,
          249,
          1339,
          1252,
          853,
          1201,
          1355,
          1355,
          1975,
          2719,
          1192,
          393,
          521,
          473,
          770,
          637,
          940,
          1014,
          316,
          null,
          null,
          null,
          null
         ],
         "yaxis": "y2"
        },
        {
         "connectgaps": false,
         "hovertemplate": "fnid=LS1980A108<br>indicator=yield<br>year=%{x}<br>value=%{y}<extra></extra>",
         "legendgroup": "LS1980A108",
         "line": {
          "color": "#B6E880",
          "dash": "solid"
         },
         "marker": {
          "symbol": "circle"
         },
         "mode": "markers+lines",
         "name": "LS1980A108",
         "showlegend": false,
         "type": "scattergl",
         "x": [
          1981,
          1982,
          1983,
          1984,
          1985,
          1986,
          1987,
          1988,
          1989,
          1990,
          1991,
          1992,
          1993,
          1994,
          1995,
          1996,
          1997,
          1998,
          1999,
          2000,
          2001,
          2002,
          2003,
          2004,
          2005,
          2006,
          2007,
          2008,
          2009,
          2010,
          2011,
          2012,
          2013,
          2014,
          2015,
          2016,
          2017,
          2018,
          2019,
          2020,
          2021,
          2022
         ],
         "xaxis": "x",
         "y": [
          null,
          0.75,
          0.3125,
          0.443,
          0.6885714285714286,
          1.204,
          0.428,
          0.156,
          0.9213333333333332,
          0.784054054054054,
          0.1328571428571428,
          0.6336,
          0.1533715293080652,
          0.611266034578918,
          0.4177293934681182,
          0.6377032520325203,
          0.8419715447154471,
          1.2530120481927711,
          0.0133763837638376,
          0.3490870032223415,
          0.8088353413654619,
          1.3345780433159071,
          0.1597444089456869,
          1.141852286049238,
          0.5453788509575354,
          0.2464944649446494,
          0.0265682656826568,
          0.2324050632911392,
          0.2000735564545789,
          0.8783557046979866,
          0.9567430025445292,
          0.2245681381957773,
          1.985200845665962,
          1.183116883116883,
          0.3014128728414442,
          0.001063829787234,
          0.4635108481262327,
          4.987341772151899,
          null,
          null,
          null,
          null
         ],
         "yaxis": "y"
        },
        {
         "connectgaps": false,
         "hovertemplate": "fnid=LS1980A109<br>indicator=production<br>year=%{x}<br>value=%{y}<extra></extra>",
         "legendgroup": "LS1980A109",
         "line": {
          "color": "#FF97FF",
          "dash": "solid"
         },
         "marker": {
          "symbol": "circle"
         },
         "mode": "markers+lines",
         "name": "LS1980A109",
         "showlegend": true,
         "type": "scattergl",
         "x": [
          1981,
          1982,
          1983,
          1984,
          1985,
          1986,
          1987,
          1988,
          1989,
          1990,
          1991,
          1992,
          1993,
          1994,
          1995,
          1996,
          1997,
          1998,
          1999,
          2000,
          2001,
          2002,
          2003,
          2004,
          2005,
          2006,
          2007,
          2008,
          2009,
          2010,
          2011,
          2012,
          2013,
          2014,
          2015,
          2016,
          2017,
          2018,
          2019,
          2020,
          2021,
          2022
         ],
         "xaxis": "x3",
         "y": [
          null,
          1100,
          1200,
          1158,
          1578,
          262,
          1278,
          1278,
          1776,
          2265,
          1394,
          1488,
          500,
          1645,
          429,
          3054,
          4827,
          1527,
          1666,
          2471,
          1621,
          781,
          1831,
          2207,
          null,
          17,
          263,
          268,
          191,
          266,
          879,
          983,
          415,
          226,
          914,
          115,
          848,
          176,
          null,
          null,
          null,
          null
         ],
         "yaxis": "y3"
        },
        {
         "connectgaps": false,
         "hovertemplate": "fnid=LS1980A109<br>indicator=area<br>year=%{x}<br>value=%{y}<extra></extra>",
         "legendgroup": "LS1980A109",
         "line": {
          "color": "#FF97FF",
          "dash": "solid"
         },
         "marker": {
          "symbol": "circle"
         },
         "mode": "markers+lines",
         "name": "LS1980A109",
         "showlegend": false,
         "type": "scattergl",
         "x": [
          1981,
          1982,
          1983,
          1984,
          1985,
          1986,
          1987,
          1988,
          1989,
          1990,
          1991,
          1992,
          1993,
          1994,
          1995,
          1996,
          1997,
          1998,
          1999,
          2000,
          2001,
          2002,
          2003,
          2004,
          2005,
          2006,
          2007,
          2008,
          2009,
          2010,
          2011,
          2012,
          2013,
          2014,
          2015,
          2016,
          2017,
          2018,
          2019,
          2020,
          2021,
          2022
         ],
         "xaxis": "x2",
         "y": [
          3000,
          1800,
          2600,
          2300,
          6200,
          1000,
          3200,
          3600,
          5200,
          5400,
          4000,
          3200,
          3050,
          3420,
          574,
          2627,
          2581,
          1856,
          2753,
          2260,
          1878,
          1767,
          2633,
          2806,
          926,
          68,
          2000,
          664,
          506,
          745,
          1405,
          1400,
          580,
          721,
          861,
          1523,
          897,
          615,
          null,
          null,
          null,
          null
         ],
         "yaxis": "y2"
        },
        {
         "connectgaps": false,
         "hovertemplate": "fnid=LS1980A109<br>indicator=yield<br>year=%{x}<br>value=%{y}<extra></extra>",
         "legendgroup": "LS1980A109",
         "line": {
          "color": "#FF97FF",
          "dash": "solid"
         },
         "marker": {
          "symbol": "circle"
         },
         "mode": "markers+lines",
         "name": "LS1980A109",
         "showlegend": false,
         "type": "scattergl",
         "x": [
          1981,
          1982,
          1983,
          1984,
          1985,
          1986,
          1987,
          1988,
          1989,
          1990,
          1991,
          1992,
          1993,
          1994,
          1995,
          1996,
          1997,
          1998,
          1999,
          2000,
          2001,
          2002,
          2003,
          2004,
          2005,
          2006,
          2007,
          2008,
          2009,
          2010,
          2011,
          2012,
          2013,
          2014,
          2015,
          2016,
          2017,
          2018,
          2019,
          2020,
          2021,
          2022
         ],
         "xaxis": "x",
         "y": [
          null,
          0.6111111111111112,
          0.4615384615384615,
          0.5034782608695653,
          0.254516129032258,
          0.262,
          0.399375,
          0.355,
          0.3415384615384615,
          0.4194444444444444,
          0.3485,
          0.465,
          0.1639344262295081,
          0.4809941520467836,
          0.7473867595818815,
          1.1625428245146554,
          1.87020534676482,
          0.8227370689655172,
          0.6051580094442427,
          1.093362831858407,
          0.8631522896698616,
          0.4419920769666101,
          0.6954044815799468,
          0.7865288667141839,
          null,
          0.25,
          0.1315,
          0.4036144578313253,
          0.3774703557312253,
          0.3570469798657718,
          0.6256227758007118,
          0.7021428571428572,
          0.7155172413793104,
          0.3134535367545076,
          1.0615563298490127,
          0.0755088640840446,
          0.9453734671125976,
          0.2861788617886179,
          null,
          null,
          null,
          null
         ],
         "yaxis": "y"
        },
        {
         "connectgaps": false,
         "hovertemplate": "fnid=LS1980A110<br>indicator=production<br>year=%{x}<br>value=%{y}<extra></extra>",
         "legendgroup": "LS1980A110",
         "line": {
          "color": "#FECB52",
          "dash": "solid"
         },
         "marker": {
          "symbol": "circle"
         },
         "mode": "markers+lines",
         "name": "LS1980A110",
         "showlegend": true,
         "type": "scattergl",
         "x": [
          1981,
          1982,
          1983,
          1984,
          1985,
          1986,
          1987,
          1988,
          1989,
          1990,
          1991,
          1992,
          1993,
          1994,
          1995,
          1996,
          1997,
          1998,
          1999,
          2000,
          2001,
          2002,
          2003,
          2004,
          2005,
          2006,
          2007,
          2008,
          2009,
          2010,
          2011,
          2012,
          2013,
          2014,
          2015,
          2016,
          2017,
          2018,
          2019,
          2020,
          2021,
          2022
         ],
         "xaxis": "x3",
         "y": [
          null,
          1400,
          400,
          2309,
          1461,
          1498,
          5564,
          3005,
          6170,
          1898,
          1530,
          1487,
          536,
          3241,
          1254,
          10955,
          10706,
          12145,
          7019,
          2751,
          12635,
          5684,
          2545,
          2913,
          1292,
          572,
          289,
          93,
          1069,
          1257,
          1299,
          1846,
          2132,
          2364,
          1403,
          1339,
          1136,
          1436,
          null,
          null,
          null,
          null
         ],
         "yaxis": "y3"
        },
        {
         "connectgaps": false,
         "hovertemplate": "fnid=LS1980A110<br>indicator=area<br>year=%{x}<br>value=%{y}<extra></extra>",
         "legendgroup": "LS1980A110",
         "line": {
          "color": "#FECB52",
          "dash": "solid"
         },
         "marker": {
          "symbol": "circle"
         },
         "mode": "markers+lines",
         "name": "LS1980A110",
         "showlegend": false,
         "type": "scattergl",
         "x": [
          1981,
          1982,
          1983,
          1984,
          1985,
          1986,
          1987,
          1988,
          1989,
          1990,
          1991,
          1992,
          1993,
          1994,
          1995,
          1996,
          1997,
          1998,
          1999,
          2000,
          2001,
          2002,
          2003,
          2004,
          2005,
          2006,
          2007,
          2008,
          2009,
          2010,
          2011,
          2012,
          2013,
          2014,
          2015,
          2016,
          2017,
          2018,
          2019,
          2020,
          2021,
          2022
         ],
         "xaxis": "x2",
         "y": [
          3600,
          3800,
          1100,
          2800,
          5400,
          2800,
          8400,
          9400,
          13700,
          3600,
          4100,
          2400,
          2661,
          4848,
          5252,
          4760,
          4760,
          7836,
          5385,
          3321,
          5443,
          4958,
          3310,
          3306,
          2619,
          2382,
          1113,
          5025,
          7187,
          1409,
          1009,
          2772,
          2023,
          3308,
          1661,
          4831,
          2237,
          2233,
          null,
          null,
          null,
          null
         ],
         "yaxis": "y2"
        },
        {
         "connectgaps": false,
         "hovertemplate": "fnid=LS1980A110<br>indicator=yield<br>year=%{x}<br>value=%{y}<extra></extra>",
         "legendgroup": "LS1980A110",
         "line": {
          "color": "#FECB52",
          "dash": "solid"
         },
         "marker": {
          "symbol": "circle"
         },
         "mode": "markers+lines",
         "name": "LS1980A110",
         "showlegend": false,
         "type": "scattergl",
         "x": [
          1981,
          1982,
          1983,
          1984,
          1985,
          1986,
          1987,
          1988,
          1989,
          1990,
          1991,
          1992,
          1993,
          1994,
          1995,
          1996,
          1997,
          1998,
          1999,
          2000,
          2001,
          2002,
          2003,
          2004,
          2005,
          2006,
          2007,
          2008,
          2009,
          2010,
          2011,
          2012,
          2013,
          2014,
          2015,
          2016,
          2017,
          2018,
          2019,
          2020,
          2021,
          2022
         ],
         "xaxis": "x",
         "y": [
          null,
          0.3684210526315789,
          0.3636363636363636,
          0.8246428571428571,
          0.2705555555555555,
          0.535,
          0.6623809523809524,
          0.3196808510638297,
          0.4503649635036496,
          0.5272222222222223,
          0.373170731707317,
          0.6195833333333334,
          0.2014280345734686,
          0.668523102310231,
          0.2387661843107387,
          2.301470588235294,
          2.249159663865546,
          1.5498979070954568,
          1.3034354688950789,
          0.8283649503161699,
          2.3213301488149916,
          1.146430012101654,
          0.7688821752265861,
          0.8811252268602541,
          0.4933180603283696,
          0.2401343408900084,
          0.2596585804132973,
          0.0185074626865671,
          0.1487407819674412,
          0.8921220723917672,
          1.2874132804757186,
          0.665945165945166,
          1.0538803756796835,
          0.7146311970979444,
          0.8446718844069837,
          0.2771682881391016,
          0.5078229772016093,
          0.6430810568741603,
          null,
          null,
          null,
          null
         ],
         "yaxis": "y"
        }
       ],
       "layout": {
        "annotations": [
         {
          "showarrow": false,
          "text": "",
          "textangle": 90,
          "x": 0.98,
          "xanchor": "left",
          "xref": "paper",
          "y": 0.16333333333333333,
          "yanchor": "middle",
          "yref": "paper"
         },
         {
          "showarrow": false,
          "text": "",
          "textangle": 90,
          "x": 0.98,
          "xanchor": "left",
          "xref": "paper",
          "y": 0.5,
          "yanchor": "middle",
          "yref": "paper"
         },
         {
          "showarrow": false,
          "text": "",
          "textangle": 90,
          "x": 0.98,
          "xanchor": "left",
          "xref": "paper",
          "y": 0.8366666666666667,
          "yanchor": "middle",
          "yref": "paper"
         },
         {
          "align": "left",
          "font": {
           "color": "dimgrey",
           "family": "arial",
           "size": 15
          },
          "showarrow": false,
          "text": "Production-Area-Yield time-series of LS - Wheat - Summer",
          "x": -0.014,
          "xref": "paper",
          "y": -0.14,
          "yref": "paper"
         }
        ],
        "font": {
         "color": "black",
         "family": "arial",
         "size": 16
        },
        "height": 600,
        "legend": {
         "font": {
          "size": 14
         },
         "title": {
          "text": "FNID"
         },
         "tracegroupgap": 0,
         "x": 1,
         "xanchor": "left",
         "y": 1,
         "yanchor": "top"
        },
        "margin": {
         "b": 25,
         "l": 0,
         "r": 0,
         "t": 0
        },
        "template": {
         "data": {
          "bar": [
           {
            "error_x": {
             "color": "#2a3f5f"
            },
            "error_y": {
             "color": "#2a3f5f"
            },
            "marker": {
             "line": {
              "color": "#E5ECF6",
              "width": 0.5
             },
             "pattern": {
              "fillmode": "overlay",
              "size": 10,
              "solidity": 0.2
             }
            },
            "type": "bar"
           }
          ],
          "barpolar": [
           {
            "marker": {
             "line": {
              "color": "#E5ECF6",
              "width": 0.5
             },
             "pattern": {
              "fillmode": "overlay",
              "size": 10,
              "solidity": 0.2
             }
            },
            "type": "barpolar"
           }
          ],
          "carpet": [
           {
            "aaxis": {
             "endlinecolor": "#2a3f5f",
             "gridcolor": "white",
             "linecolor": "white",
             "minorgridcolor": "white",
             "startlinecolor": "#2a3f5f"
            },
            "baxis": {
             "endlinecolor": "#2a3f5f",
             "gridcolor": "white",
             "linecolor": "white",
             "minorgridcolor": "white",
             "startlinecolor": "#2a3f5f"
            },
            "type": "carpet"
           }
          ],
          "choropleth": [
           {
            "colorbar": {
             "outlinewidth": 0,
             "ticks": ""
            },
            "type": "choropleth"
           }
          ],
          "contour": [
           {
            "colorbar": {
             "outlinewidth": 0,
             "ticks": ""
            },
            "colorscale": [
             [
              0,
              "#0d0887"
             ],
             [
              0.1111111111111111,
              "#46039f"
             ],
             [
              0.2222222222222222,
              "#7201a8"
             ],
             [
              0.3333333333333333,
              "#9c179e"
             ],
             [
              0.4444444444444444,
              "#bd3786"
             ],
             [
              0.5555555555555556,
              "#d8576b"
             ],
             [
              0.6666666666666666,
              "#ed7953"
             ],
             [
              0.7777777777777778,
              "#fb9f3a"
             ],
             [
              0.8888888888888888,
              "#fdca26"
             ],
             [
              1,
              "#f0f921"
             ]
            ],
            "type": "contour"
           }
          ],
          "contourcarpet": [
           {
            "colorbar": {
             "outlinewidth": 0,
             "ticks": ""
            },
            "type": "contourcarpet"
           }
          ],
          "heatmap": [
           {
            "colorbar": {
             "outlinewidth": 0,
             "ticks": ""
            },
            "colorscale": [
             [
              0,
              "#0d0887"
             ],
             [
              0.1111111111111111,
              "#46039f"
             ],
             [
              0.2222222222222222,
              "#7201a8"
             ],
             [
              0.3333333333333333,
              "#9c179e"
             ],
             [
              0.4444444444444444,
              "#bd3786"
             ],
             [
              0.5555555555555556,
              "#d8576b"
             ],
             [
              0.6666666666666666,
              "#ed7953"
             ],
             [
              0.7777777777777778,
              "#fb9f3a"
             ],
             [
              0.8888888888888888,
              "#fdca26"
             ],
             [
              1,
              "#f0f921"
             ]
            ],
            "type": "heatmap"
           }
          ],
          "heatmapgl": [
           {
            "colorbar": {
             "outlinewidth": 0,
             "ticks": ""
            },
            "colorscale": [
             [
              0,
              "#0d0887"
             ],
             [
              0.1111111111111111,
              "#46039f"
             ],
             [
              0.2222222222222222,
              "#7201a8"
             ],
             [
              0.3333333333333333,
              "#9c179e"
             ],
             [
              0.4444444444444444,
              "#bd3786"
             ],
             [
              0.5555555555555556,
              "#d8576b"
             ],
             [
              0.6666666666666666,
              "#ed7953"
             ],
             [
              0.7777777777777778,
              "#fb9f3a"
             ],
             [
              0.8888888888888888,
              "#fdca26"
             ],
             [
              1,
              "#f0f921"
             ]
            ],
            "type": "heatmapgl"
           }
          ],
          "histogram": [
           {
            "marker": {
             "pattern": {
              "fillmode": "overlay",
              "size": 10,
              "solidity": 0.2
             }
            },
            "type": "histogram"
           }
          ],
          "histogram2d": [
           {
            "colorbar": {
             "outlinewidth": 0,
             "ticks": ""
            },
            "colorscale": [
             [
              0,
              "#0d0887"
             ],
             [
              0.1111111111111111,
              "#46039f"
             ],
             [
              0.2222222222222222,
              "#7201a8"
             ],
             [
              0.3333333333333333,
              "#9c179e"
             ],
             [
              0.4444444444444444,
              "#bd3786"
             ],
             [
              0.5555555555555556,
              "#d8576b"
             ],
             [
              0.6666666666666666,
              "#ed7953"
             ],
             [
              0.7777777777777778,
              "#fb9f3a"
             ],
             [
              0.8888888888888888,
              "#fdca26"
             ],
             [
              1,
              "#f0f921"
             ]
            ],
            "type": "histogram2d"
           }
          ],
          "histogram2dcontour": [
           {
            "colorbar": {
             "outlinewidth": 0,
             "ticks": ""
            },
            "colorscale": [
             [
              0,
              "#0d0887"
             ],
             [
              0.1111111111111111,
              "#46039f"
             ],
             [
              0.2222222222222222,
              "#7201a8"
             ],
             [
              0.3333333333333333,
              "#9c179e"
             ],
             [
              0.4444444444444444,
              "#bd3786"
             ],
             [
              0.5555555555555556,
              "#d8576b"
             ],
             [
              0.6666666666666666,
              "#ed7953"
             ],
             [
              0.7777777777777778,
              "#fb9f3a"
             ],
             [
              0.8888888888888888,
              "#fdca26"
             ],
             [
              1,
              "#f0f921"
             ]
            ],
            "type": "histogram2dcontour"
           }
          ],
          "mesh3d": [
           {
            "colorbar": {
             "outlinewidth": 0,
             "ticks": ""
            },
            "type": "mesh3d"
           }
          ],
          "parcoords": [
           {
            "line": {
             "colorbar": {
              "outlinewidth": 0,
              "ticks": ""
             }
            },
            "type": "parcoords"
           }
          ],
          "pie": [
           {
            "automargin": true,
            "type": "pie"
           }
          ],
          "scatter": [
           {
            "fillpattern": {
             "fillmode": "overlay",
             "size": 10,
             "solidity": 0.2
            },
            "type": "scatter"
           }
          ],
          "scatter3d": [
           {
            "line": {
             "colorbar": {
              "outlinewidth": 0,
              "ticks": ""
             }
            },
            "marker": {
             "colorbar": {
              "outlinewidth": 0,
              "ticks": ""
             }
            },
            "type": "scatter3d"
           }
          ],
          "scattercarpet": [
           {
            "marker": {
             "colorbar": {
              "outlinewidth": 0,
              "ticks": ""
             }
            },
            "type": "scattercarpet"
           }
          ],
          "scattergeo": [
           {
            "marker": {
             "colorbar": {
              "outlinewidth": 0,
              "ticks": ""
             }
            },
            "type": "scattergeo"
           }
          ],
          "scattergl": [
           {
            "marker": {
             "colorbar": {
              "outlinewidth": 0,
              "ticks": ""
             }
            },
            "type": "scattergl"
           }
          ],
          "scattermapbox": [
           {
            "marker": {
             "colorbar": {
              "outlinewidth": 0,
              "ticks": ""
             }
            },
            "type": "scattermapbox"
           }
          ],
          "scatterpolar": [
           {
            "marker": {
             "colorbar": {
              "outlinewidth": 0,
              "ticks": ""
             }
            },
            "type": "scatterpolar"
           }
          ],
          "scatterpolargl": [
           {
            "marker": {
             "colorbar": {
              "outlinewidth": 0,
              "ticks": ""
             }
            },
            "type": "scatterpolargl"
           }
          ],
          "scatterternary": [
           {
            "marker": {
             "colorbar": {
              "outlinewidth": 0,
              "ticks": ""
             }
            },
            "type": "scatterternary"
           }
          ],
          "surface": [
           {
            "colorbar": {
             "outlinewidth": 0,
             "ticks": ""
            },
            "colorscale": [
             [
              0,
              "#0d0887"
             ],
             [
              0.1111111111111111,
              "#46039f"
             ],
             [
              0.2222222222222222,
              "#7201a8"
             ],
             [
              0.3333333333333333,
              "#9c179e"
             ],
             [
              0.4444444444444444,
              "#bd3786"
             ],
             [
              0.5555555555555556,
              "#d8576b"
             ],
             [
              0.6666666666666666,
              "#ed7953"
             ],
             [
              0.7777777777777778,
              "#fb9f3a"
             ],
             [
              0.8888888888888888,
              "#fdca26"
             ],
             [
              1,
              "#f0f921"
             ]
            ],
            "type": "surface"
           }
          ],
          "table": [
           {
            "cells": {
             "fill": {
              "color": "#EBF0F8"
             },
             "line": {
              "color": "white"
             }
            },
            "header": {
             "fill": {
              "color": "#C8D4E3"
             },
             "line": {
              "color": "white"
             }
            },
            "type": "table"
           }
          ]
         },
         "layout": {
          "annotationdefaults": {
           "arrowcolor": "#2a3f5f",
           "arrowhead": 0,
           "arrowwidth": 1
          },
          "autotypenumbers": "strict",
          "coloraxis": {
           "colorbar": {
            "outlinewidth": 0,
            "ticks": ""
           }
          },
          "colorscale": {
           "diverging": [
            [
             0,
             "#8e0152"
            ],
            [
             0.1,
             "#c51b7d"
            ],
            [
             0.2,
             "#de77ae"
            ],
            [
             0.3,
             "#f1b6da"
            ],
            [
             0.4,
             "#fde0ef"
            ],
            [
             0.5,
             "#f7f7f7"
            ],
            [
             0.6,
             "#e6f5d0"
            ],
            [
             0.7,
             "#b8e186"
            ],
            [
             0.8,
             "#7fbc41"
            ],
            [
             0.9,
             "#4d9221"
            ],
            [
             1,
             "#276419"
            ]
           ],
           "sequential": [
            [
             0,
             "#0d0887"
            ],
            [
             0.1111111111111111,
             "#46039f"
            ],
            [
             0.2222222222222222,
             "#7201a8"
            ],
            [
             0.3333333333333333,
             "#9c179e"
            ],
            [
             0.4444444444444444,
             "#bd3786"
            ],
            [
             0.5555555555555556,
             "#d8576b"
            ],
            [
             0.6666666666666666,
             "#ed7953"
            ],
            [
             0.7777777777777778,
             "#fb9f3a"
            ],
            [
             0.8888888888888888,
             "#fdca26"
            ],
            [
             1,
             "#f0f921"
            ]
           ],
           "sequentialminus": [
            [
             0,
             "#0d0887"
            ],
            [
             0.1111111111111111,
             "#46039f"
            ],
            [
             0.2222222222222222,
             "#7201a8"
            ],
            [
             0.3333333333333333,
             "#9c179e"
            ],
            [
             0.4444444444444444,
             "#bd3786"
            ],
            [
             0.5555555555555556,
             "#d8576b"
            ],
            [
             0.6666666666666666,
             "#ed7953"
            ],
            [
             0.7777777777777778,
             "#fb9f3a"
            ],
            [
             0.8888888888888888,
             "#fdca26"
            ],
            [
             1,
             "#f0f921"
            ]
           ]
          },
          "colorway": [
           "#636efa",
           "#EF553B",
           "#00cc96",
           "#ab63fa",
           "#FFA15A",
           "#19d3f3",
           "#FF6692",
           "#B6E880",
           "#FF97FF",
           "#FECB52"
          ],
          "font": {
           "color": "#2a3f5f"
          },
          "geo": {
           "bgcolor": "white",
           "lakecolor": "white",
           "landcolor": "#E5ECF6",
           "showlakes": true,
           "showland": true,
           "subunitcolor": "white"
          },
          "hoverlabel": {
           "align": "left"
          },
          "hovermode": "closest",
          "mapbox": {
           "style": "light"
          },
          "paper_bgcolor": "white",
          "plot_bgcolor": "#E5ECF6",
          "polar": {
           "angularaxis": {
            "gridcolor": "white",
            "linecolor": "white",
            "ticks": ""
           },
           "bgcolor": "#E5ECF6",
           "radialaxis": {
            "gridcolor": "white",
            "linecolor": "white",
            "ticks": ""
           }
          },
          "scene": {
           "xaxis": {
            "backgroundcolor": "#E5ECF6",
            "gridcolor": "white",
            "gridwidth": 2,
            "linecolor": "white",
            "showbackground": true,
            "ticks": "",
            "zerolinecolor": "white"
           },
           "yaxis": {
            "backgroundcolor": "#E5ECF6",
            "gridcolor": "white",
            "gridwidth": 2,
            "linecolor": "white",
            "showbackground": true,
            "ticks": "",
            "zerolinecolor": "white"
           },
           "zaxis": {
            "backgroundcolor": "#E5ECF6",
            "gridcolor": "white",
            "gridwidth": 2,
            "linecolor": "white",
            "showbackground": true,
            "ticks": "",
            "zerolinecolor": "white"
           }
          },
          "shapedefaults": {
           "line": {
            "color": "#2a3f5f"
           }
          },
          "ternary": {
           "aaxis": {
            "gridcolor": "white",
            "linecolor": "white",
            "ticks": ""
           },
           "baxis": {
            "gridcolor": "white",
            "linecolor": "white",
            "ticks": ""
           },
           "bgcolor": "#E5ECF6",
           "caxis": {
            "gridcolor": "white",
            "linecolor": "white",
            "ticks": ""
           }
          },
          "title": {
           "x": 0.05
          },
          "xaxis": {
           "automargin": true,
           "gridcolor": "white",
           "linecolor": "white",
           "ticks": "",
           "title": {
            "standoff": 15
           },
           "zerolinecolor": "white",
           "zerolinewidth": 2
          },
          "yaxis": {
           "automargin": true,
           "gridcolor": "white",
           "linecolor": "white",
           "ticks": "",
           "title": {
            "standoff": 15
           },
           "zerolinecolor": "white",
           "zerolinewidth": 2
          }
         }
        },
        "width": 900,
        "xaxis": {
         "anchor": "y",
         "domain": [
          0,
          0.98
         ],
         "dtick": 1,
         "range": [
          1981,
          2022
         ],
         "title": {
          "text": ""
         }
        },
        "xaxis2": {
         "anchor": "y2",
         "domain": [
          0,
          0.98
         ],
         "dtick": 1,
         "matches": "x",
         "showticklabels": false
        },
        "xaxis3": {
         "anchor": "y3",
         "domain": [
          0,
          0.98
         ],
         "dtick": 1,
         "matches": "x",
         "showticklabels": false
        },
        "yaxis": {
         "anchor": "x",
         "domain": [
          0,
          0.32666666666666666
         ],
         "title": {
          "text": "Yield (mt/ha)"
         }
        },
        "yaxis2": {
         "anchor": "x2",
         "domain": [
          0.33666666666666667,
          0.6633333333333333
         ],
         "title": {
          "text": "Area (ha)"
         }
        },
        "yaxis3": {
         "anchor": "x3",
         "domain": [
          0.6733333333333333,
          1
         ],
         "title": {
          "text": "Production (mt)"
         }
        }
       }
      }
     },
     "metadata": {},
     "output_type": "display_data"
    },
    {
     "ename": "IndexError",
     "evalue": "index 0 is out of bounds for axis 0 with size 0",
     "output_type": "error",
     "traceback": [
      "\u001b[0;31m---------------------------------------------------------------------------\u001b[0m",
      "\u001b[0;31mIndexError\u001b[0m                                Traceback (most recent call last)",
      "Cell \u001b[0;32mIn[8], line 16\u001b[0m\n\u001b[1;32m     14\u001b[0m fn_save \u001b[38;5;241m=\u001b[39m \u001b[38;5;124m'\u001b[39m\u001b[38;5;124m../figures/\u001b[39m\u001b[38;5;132;01m%s\u001b[39;00m\u001b[38;5;124m_line_pay_\u001b[39m\u001b[38;5;132;01m%s\u001b[39;00m\u001b[38;5;124m_\u001b[39m\u001b[38;5;132;01m%s\u001b[39;00m\u001b[38;5;124m.png\u001b[39m\u001b[38;5;124m'\u001b[39m \u001b[38;5;241m%\u001b[39m (country_iso, product_name, season_name)\n\u001b[1;32m     15\u001b[0m sub \u001b[38;5;241m=\u001b[39m df[(df[\u001b[38;5;124m'\u001b[39m\u001b[38;5;124mproduct\u001b[39m\u001b[38;5;124m'\u001b[39m] \u001b[38;5;241m==\u001b[39m product_name) \u001b[38;5;241m&\u001b[39m (df[\u001b[38;5;124m'\u001b[39m\u001b[38;5;124mseason_name\u001b[39m\u001b[38;5;124m'\u001b[39m] \u001b[38;5;241m==\u001b[39m season_name)]\n\u001b[0;32m---> 16\u001b[0m fig \u001b[38;5;241m=\u001b[39m \u001b[43mPlotLinePAY\u001b[49m\u001b[43m(\u001b[49m\u001b[43msub\u001b[49m\u001b[43m,\u001b[49m\u001b[43m \u001b[49m\u001b[43myear\u001b[49m\u001b[43m,\u001b[49m\u001b[43m \u001b[49m\u001b[43mfootnote\u001b[49m\u001b[43m)\u001b[49m\u001b[38;5;66;03m#, fn_save) #problem saving\u001b[39;00m\n\u001b[1;32m     17\u001b[0m fig\u001b[38;5;241m.\u001b[39mshow()\n",
      "File \u001b[0;32m~/HarvestStat/notebook/tools_graphic.py:329\u001b[0m, in \u001b[0;36mPlotLinePAY\u001b[0;34m(df, year, footnote, fn_save)\u001b[0m\n\u001b[1;32m    326\u001b[0m \u001b[38;5;28;01mdef\u001b[39;00m \u001b[38;5;21mPlotLinePAY\u001b[39m(df, year, footnote, fn_save\u001b[38;5;241m=\u001b[39m\u001b[38;5;28;01mFalse\u001b[39;00m):\n\u001b[1;32m    327\u001b[0m     \u001b[38;5;66;03m# Restacking to add missing values\u001b[39;00m\n\u001b[1;32m    328\u001b[0m     df \u001b[38;5;241m=\u001b[39m df\u001b[38;5;241m.\u001b[39mpivot_table(index\u001b[38;5;241m=\u001b[39m\u001b[38;5;124m'\u001b[39m\u001b[38;5;124myear\u001b[39m\u001b[38;5;124m'\u001b[39m, columns\u001b[38;5;241m=\u001b[39m[\u001b[38;5;124m'\u001b[39m\u001b[38;5;124mfnid\u001b[39m\u001b[38;5;124m'\u001b[39m,\u001b[38;5;124m'\u001b[39m\u001b[38;5;124mcountry\u001b[39m\u001b[38;5;124m'\u001b[39m,\u001b[38;5;124m'\u001b[39m\u001b[38;5;124mname\u001b[39m\u001b[38;5;124m'\u001b[39m,\u001b[38;5;124m'\u001b[39m\u001b[38;5;124mproduct\u001b[39m\u001b[38;5;124m'\u001b[39m,\u001b[38;5;124m'\u001b[39m\u001b[38;5;124mseason_name\u001b[39m\u001b[38;5;124m'\u001b[39m,\u001b[38;5;124m'\u001b[39m\u001b[38;5;124mharvest_month\u001b[39m\u001b[38;5;124m'\u001b[39m,\u001b[38;5;124m'\u001b[39m\u001b[38;5;124mindicator\u001b[39m\u001b[38;5;124m'\u001b[39m], values\u001b[38;5;241m=\u001b[39m\u001b[38;5;124m'\u001b[39m\u001b[38;5;124mvalue\u001b[39m\u001b[38;5;124m'\u001b[39m)\n\u001b[0;32m--> 329\u001b[0m     df \u001b[38;5;241m=\u001b[39m df\u001b[38;5;241m.\u001b[39mreindex(index\u001b[38;5;241m=\u001b[39mnp\u001b[38;5;241m.\u001b[39marange(\u001b[43mdf\u001b[49m\u001b[38;5;241;43m.\u001b[39;49m\u001b[43mindex\u001b[49m\u001b[43m[\u001b[49m\u001b[38;5;241;43m0\u001b[39;49m\u001b[43m]\u001b[49m, df\u001b[38;5;241m.\u001b[39mindex[\u001b[38;5;241m-\u001b[39m\u001b[38;5;241m1\u001b[39m]\u001b[38;5;241m+\u001b[39m\u001b[38;5;241m1\u001b[39m))\n\u001b[1;32m    330\u001b[0m     df \u001b[38;5;241m=\u001b[39m df\u001b[38;5;241m.\u001b[39mT\u001b[38;5;241m.\u001b[39mstack(dropna\u001b[38;5;241m=\u001b[39m\u001b[38;5;28;01mFalse\u001b[39;00m)\u001b[38;5;241m.\u001b[39mreset_index()\u001b[38;5;241m.\u001b[39mrename(columns\u001b[38;5;241m=\u001b[39m{\u001b[38;5;241m0\u001b[39m:\u001b[38;5;124m'\u001b[39m\u001b[38;5;124mvalue\u001b[39m\u001b[38;5;124m'\u001b[39m})\n\u001b[1;32m    332\u001b[0m     \u001b[38;5;66;03m# Plotly Express without buttons --------- #\u001b[39;00m\n",
      "File \u001b[0;32m~/miniconda3/envs/hvstat/lib/python3.10/site-packages/pandas/core/indexes/base.py:5053\u001b[0m, in \u001b[0;36mIndex.__getitem__\u001b[0;34m(self, key)\u001b[0m\n\u001b[1;32m   5050\u001b[0m \u001b[38;5;28;01mif\u001b[39;00m is_integer(key) \u001b[38;5;129;01mor\u001b[39;00m is_float(key):\n\u001b[1;32m   5051\u001b[0m     \u001b[38;5;66;03m# GH#44051 exclude bool, which would return a 2d ndarray\u001b[39;00m\n\u001b[1;32m   5052\u001b[0m     key \u001b[38;5;241m=\u001b[39m com\u001b[38;5;241m.\u001b[39mcast_scalar_indexer(key, warn_float\u001b[38;5;241m=\u001b[39m\u001b[38;5;28;01mTrue\u001b[39;00m)\n\u001b[0;32m-> 5053\u001b[0m     \u001b[38;5;28;01mreturn\u001b[39;00m \u001b[43mgetitem\u001b[49m\u001b[43m(\u001b[49m\u001b[43mkey\u001b[49m\u001b[43m)\u001b[49m\n\u001b[1;32m   5055\u001b[0m \u001b[38;5;28;01mif\u001b[39;00m \u001b[38;5;28misinstance\u001b[39m(key, \u001b[38;5;28mslice\u001b[39m):\n\u001b[1;32m   5056\u001b[0m     \u001b[38;5;66;03m# This case is separated from the conditional above to avoid\u001b[39;00m\n\u001b[1;32m   5057\u001b[0m     \u001b[38;5;66;03m# pessimization com.is_bool_indexer and ndim checks.\u001b[39;00m\n\u001b[1;32m   5058\u001b[0m     result \u001b[38;5;241m=\u001b[39m getitem(key)\n",
      "\u001b[0;31mIndexError\u001b[0m: index 0 is out of bounds for axis 0 with size 0"
     ]
    }
   ],
   "source": [
    "# Lineplot of Production-Area-Yield time-series\n",
    "country_iso, country_name = 'LS', 'Lesotho'\n",
    "df = pd.read_csv('../data/crop/adm_crop_production_%s.csv' % country_iso, index_col=0)\n",
    "df['year'] = df['harvest_year']\n",
    "year = [df['year'].min(), df['year'].max()]\n",
    "product_season = [\n",
    "    ['Maize','Summer'],\n",
    "    ['Sorghum','Summer'],\n",
    "    ['Wheat','Summer'],\n",
    "    ['Beans','Summer'],\n",
    "]\n",
    "for product_name, season_name in product_season:\n",
    "    footnote = 'Production-Area-Yield time-series of %s - %s - %s' % (country_iso, product_name, season_name)\n",
    "    fn_save = '../figures/%s_line_pay_%s_%s.png' % (country_iso, product_name, season_name)\n",
    "    sub = df[(df['product'] == product_name) & (df['season_name'] == season_name)]\n",
    "    fig = PlotLinePAY(sub, year, footnote)#, fn_save) #problem saving\n",
    "    fig.show()"
   ]
  },
  {
   "cell_type": "code",
   "execution_count": null,
   "id": "4af3a727",
   "metadata": {},
   "outputs": [],
   "source": []
  }
 ],
 "metadata": {
  "kernelspec": {
   "display_name": "Python 3 (ipykernel)",
   "language": "python",
   "name": "python3"
  },
  "language_info": {
   "codemirror_mode": {
    "name": "ipython",
    "version": 3
   },
   "file_extension": ".py",
   "mimetype": "text/x-python",
   "name": "python",
   "nbconvert_exporter": "python",
   "pygments_lexer": "ipython3",
   "version": "3.10.10"
  }
 },
 "nbformat": 4,
 "nbformat_minor": 5
}
