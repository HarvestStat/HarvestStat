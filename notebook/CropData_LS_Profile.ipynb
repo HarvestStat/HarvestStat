{
 "cells": [
  {
   "cell_type": "code",
   "execution_count": null,
   "id": "b7b3d1d9",
   "metadata": {},
   "outputs": [],
   "source": []
  },
  {
   "cell_type": "markdown",
   "id": "60d467f8-fee5-4752-9632-9a2bb58f8d01",
   "metadata": {},
   "source": [
    "## FDW Crop Production Data Profiling - Lesotho"
   ]
  },
  {
   "cell_type": "code",
   "execution_count": 1,
   "id": "f7477c2a-096a-4839-b6a3-b1466fa895f8",
   "metadata": {},
   "outputs": [],
   "source": [
    "import os, sys, glob, json\n",
    "from itertools import product, compress, chain\n",
    "from functools import reduce\n",
    "import warnings\n",
    "warnings.simplefilter(action='ignore', category=FutureWarning)\n",
    "import requests\n",
    "import numpy as np\n",
    "import pandas as pd\n",
    "import geopandas as gpd\n",
    "from tools import save_hdf, save_npz, load_npz, PrintAdminUnits, PlotAdminShapes\n",
    "from tools import FDW_PD_Sweeper, FDW_PD_AvalTable, FDW_PD_Compiling, FDW_PD_GrainTypeAgg, FDW_PD_ValidateFnidName\n",
    "from tools import FDW_PD_CreateAdminLink, FDW_PD_RatioAdminLink, FDW_PD_ConnectAdminLink\n",
    "from tools import FDW_PD_CaliSeasonYear\n",
    "from tools_graphic import PlotBarProduction, PlotLinePAY, PlotHeatCropSystem, PlotHeatSeasonData\n",
    "import plotly.express as px\n",
    "import plotly.graph_objects as go\n",
    "from plotly.subplots import make_subplots\n",
    "warnings.simplefilter(action='ignore', category=pd.errors.PerformanceWarning)\n",
    "pd.options.mode.chained_assignment = None"
   ]
  },
  {
   "cell_type": "code",
   "execution_count": 2,
   "id": "2bde8cc0-f3ac-4b8f-a548-0c329dae7fb0",
   "metadata": {},
   "outputs": [
    {
     "name": "stdout",
     "output_type": "stream",
     "text": [
      "- FEWS NET admin shapefiles ------------------- #\n",
      "| year\t | Admin1   | # units   | Admin2   | # units   | Admin3   | # units   |\n",
      "| 1980\t | LS1980A1 | 10\t| nan\t| 0\t| nan\t| 0\t|\n",
      "----------------------------------------------- #\n"
     ]
    }
   ],
   "source": [
    "# CPCV2 grain code ------------------------------ #\n",
    "grain_code = pd.read_hdf('../data/crop/grain_cpcv2_code.hdf')\n",
    "product_category = grain_code[['product', 'product_category']].set_index('product').to_dict()['product_category']\n",
    "# ----------------------------------------------- #\n",
    "\n",
    "# Load FEWS NET administrative boundaries ------- #\n",
    "epsg = 'epsg:32635' # Lesotho\n",
    "fn_shapes = sorted(glob.glob('../data/shapefile/fewsnet/LS_Admin?_????.shp'))\n",
    "shape_all = []\n",
    "for fn in fn_shapes:\n",
    "    name = fn[-18:-4]\n",
    "    exec('%s = gpd.read_file(\"%s\").to_crs(\"%s\")' % (name, fn, epsg))\n",
    "    exec('%s[\"area\"] = %s[\"geometry\"].area/10**6' % (name, name))\n",
    "    exec('shape_all.append(%s)' % (name))\n",
    "shape_all = pd.concat(shape_all, axis=0).reset_index(drop=True)\n",
    "PrintAdminUnits(shape_all)\n",
    "# ----------------------------------------------- #\n",
    "\n",
    "# FDW API host address -------------------------- #\n",
    "host = 'https://fdw.fews.net'\n",
    "auth = tuple(json.loads(open('token.json', \"r\").read()))\n",
    "parameters = {\n",
    "    'format': 'json',\n",
    "    'country': 'Lesotho',\n",
    "    'product': 'R011',\n",
    "    'survey_type': 'crop:best'\n",
    "}\n",
    "endpoint = '/api/cropproductionindicatorvalue/'\n",
    "response = requests.get(host + endpoint, auth=auth, params=parameters, proxies={})\n",
    "response.raise_for_status()\n",
    "df = pd.DataFrame.from_records(response.json())\n",
    "df_origin = df.copy()\n",
    "# ----------------------------------------------- #"
   ]
  },
  {
   "cell_type": "code",
   "execution_count": 3,
   "id": "950c4248-0074-4f7d-abc2-bc0b92e56e15",
   "metadata": {},
   "outputs": [
    {
     "name": "stdout",
     "output_type": "stream",
     "text": [
      "- Remove missing records ---------------------- #\n",
      "Orignial data points: 3,519\n",
      "Removed 136 \"Missing Value\" points\n",
      "1,170/1,173 \"Area Planted\" points are retained.\n",
      "1,108/1,173 \"Quantity Produced\" points are retained.\n",
      "1,105/1,173 \"Yield\" points are retained.\n",
      "Current data points: 3,383\n",
      "\n",
      "- Minor changes are applied ------------------- #\n",
      "\n",
      "- Basic information --------------------------- #\n",
      "Data period: 1981 - 2018\n",
      "7 grain types are found: Barley (Unspecified), Maize (Corn), Maize Grain (White), Oats (Unspecified), Sorghum, Sorghum grain, Wheat Grain\n",
      "2 seasons are found: Summer (08-01), Winter (02-01)\n",
      "1 crop production system are found: none\n",
      "Data sources include:\n",
      "[1] Bureau of Statistics, Lesotho --- Agricultural Statistical Report, Lesotho\n",
      "Administrative-1 fnids: 10\n",
      "Administrative-2 fnids: 0\n",
      "0 reporting units are found: \n",
      "\n",
      "- Total production over time ------------------ #\n",
      "season_name         Summer Winter\n",
      "                                 \n",
      "Maize (Corn)          1.3%   0.0%\n",
      "Maize Grain (White)  71.4%   0.0%\n",
      "Sorghum              16.5%   0.0%\n",
      "Sorghum grain         0.6%   0.0%\n",
      "Wheat Grain          10.0%   0.2%\n",
      "\n",
      "- Crop calendar ------------------------------- #\n",
      "                product season_name planting_month harvest_month\n",
      "0  Barley (Unspecified)      Winter          02-01         07-01\n",
      "1          Maize (Corn)      Summer          08-01         01-01\n",
      "2   Maize Grain (White)      Summer          08-01         01-01\n",
      "3    Oats (Unspecified)      Winter          02-01         07-01\n",
      "4               Sorghum      Summer          08-01         01-01\n",
      "5         Sorghum grain      Summer          08-01         01-01\n",
      "6           Wheat Grain      Summer          08-01         01-01\n",
      "7           Wheat Grain      Winter          02-01         07-01\n",
      "\n",
      "- Recorded years per season ------------------- #\n",
      "Summer: 38 years (1981-2018) (missing: 0 years)\n",
      "Winter: 11 years (2006-2016) (missing: 0 years)\n",
      "\n",
      "- Number of \"Quantity Produced\" data points --- #\n",
      "LS1980A1: 1,108 data points are found.\n",
      "\n",
      "- Districts with population group(s) ---------- #\n",
      "0 districts includes 'population_group'.\n",
      "\n",
      "Table of available data\n",
      "----------------------------------------------- #\n",
      "Crop type: Barley (Unspecified)\n",
      "----------------------------------------------- #\n",
      "season_name            Winter\n",
      "crop_production_system   none\n",
      "fnid_short             1980A1\n",
      "year                         \n",
      "2006                     4/10\n",
      "2007                      NaN\n",
      "2008                    10/10\n",
      "2009                     4/10\n",
      "2010                     5/10\n",
      "2011                     2/10\n",
      "----------------------------------------------- #\n",
      "Crop type: Maize (Corn)\n",
      "----------------------------------------------- #\n",
      "season_name            Summer\n",
      "crop_production_system   none\n",
      "fnid_short             1980A1\n",
      "year                         \n",
      "2018                    10/10\n",
      "----------------------------------------------- #\n",
      "Crop type: Maize Grain (White)\n",
      "----------------------------------------------- #\n",
      "season_name            Summer\n",
      "crop_production_system   none\n",
      "fnid_short             1980A1\n",
      "year                         \n",
      "1982                    10/10\n",
      "1983                    10/10\n",
      "1984                    10/10\n",
      "1985                    10/10\n",
      "1986                    10/10\n",
      "1987                    10/10\n",
      "1988                    10/10\n",
      "1989                    10/10\n",
      "1990                    10/10\n",
      "1991                    10/10\n",
      "1992                    10/10\n",
      "1993                    10/10\n",
      "1994                    10/10\n",
      "1995                    10/10\n",
      "1996                    10/10\n",
      "1997                    10/10\n",
      "1998                    10/10\n",
      "1999                    10/10\n",
      "2000                    10/10\n",
      "2001                    10/10\n",
      "2002                    10/10\n",
      "2003                    10/10\n",
      "2004                    10/10\n",
      "2005                    10/10\n",
      "2006                    10/10\n",
      "2007                    10/10\n",
      "2008                    10/10\n",
      "2009                    10/10\n",
      "2010                    10/10\n",
      "2011                    10/10\n",
      "2012                    10/10\n",
      "2013                    10/10\n",
      "2014                    10/10\n",
      "2015                    10/10\n",
      "2016                    10/10\n",
      "2017                    10/10\n",
      "----------------------------------------------- #\n",
      "Crop type: Oats (Unspecified)\n",
      "----------------------------------------------- #\n",
      "season_name            Winter\n",
      "crop_production_system   none\n",
      "fnid_short             1980A1\n",
      "year                         \n",
      "2011                     5/10\n",
      "----------------------------------------------- #\n",
      "Crop type: Sorghum\n",
      "----------------------------------------------- #\n",
      "season_name            Summer\n",
      "crop_production_system   none\n",
      "fnid_short             1980A1\n",
      "year                         \n",
      "1982                    10/10\n",
      "1983                    10/10\n",
      "1984                    10/10\n",
      "1985                    10/10\n",
      "1986                    10/10\n",
      "1987                    10/10\n",
      "1988                    10/10\n",
      "1989                    10/10\n",
      "1990                    10/10\n",
      "1991                    10/10\n",
      "1992                    10/10\n",
      "1993                    10/10\n",
      "1994                    10/10\n",
      "1995                    10/10\n",
      "1996                    10/10\n",
      "1997                    10/10\n",
      "1998                    10/10\n",
      "1999                    10/10\n",
      "2000                    10/10\n",
      "2001                    10/10\n",
      "2002                    10/10\n",
      "2003                    10/10\n",
      "2004                    10/10\n",
      "2005                    10/10\n",
      "2006                    10/10\n",
      "2007                    10/10\n",
      "2008                    10/10\n",
      "2009                    10/10\n",
      "2010                    10/10\n",
      "2011                    10/10\n",
      "2012                    10/10\n",
      "2013                    10/10\n",
      "2014                     9/10\n",
      "2015                    10/10\n",
      "2016                    10/10\n",
      "2017                      NaN\n",
      "2018                    10/10\n",
      "----------------------------------------------- #\n",
      "Crop type: Sorghum grain\n",
      "----------------------------------------------- #\n",
      "season_name            Summer\n",
      "crop_production_system   none\n",
      "fnid_short             1980A1\n",
      "year                         \n",
      "2017                    10/10\n",
      "----------------------------------------------- #\n",
      "Crop type: Wheat Grain\n",
      "----------------------------------------------- #\n",
      "season_name            Summer Winter\n",
      "crop_production_system   none   none\n",
      "fnid_short             1980A1 1980A1\n",
      "year                                \n",
      "1981                    10/10    NaN\n",
      "1982                    10/10    NaN\n",
      "1983                     9/10    NaN\n",
      "1984                     9/10    NaN\n",
      "1985                    10/10    NaN\n",
      "1986                    10/10    NaN\n",
      "1987                    10/10    NaN\n",
      "1988                    10/10    NaN\n",
      "1989                    10/10    NaN\n",
      "1990                    10/10    NaN\n",
      "1991                    10/10    NaN\n",
      "1992                    10/10    NaN\n",
      "1993                     9/10    NaN\n",
      "1994                    10/10    NaN\n",
      "1995                    10/10    NaN\n",
      "1996                    10/10    NaN\n",
      "1997                    10/10    NaN\n",
      "1998                    10/10    NaN\n",
      "1999                    10/10    NaN\n",
      "2000                    10/10    NaN\n",
      "2001                    10/10    NaN\n",
      "2002                     9/10    NaN\n",
      "2003                     9/10    NaN\n",
      "2004                     9/10    NaN\n",
      "2005                     8/10    NaN\n",
      "2006                     9/10   6/10\n",
      "2007                    10/10   6/10\n",
      "2008                    10/10   6/10\n",
      "2009                     8/10   6/10\n",
      "2010                    10/10   1/10\n",
      "2011                     8/10   5/10\n",
      "2012                     8/10   1/10\n",
      "2013                     8/10   5/10\n",
      "2014                     9/10   3/10\n",
      "2015                     9/10   2/10\n",
      "2016                     9/10   4/10\n",
      "2017                    10/10    NaN\n",
      "2018                     9/10    NaN\n",
      "----------------------------------------------- #\n",
      "../figures/LS_admin_shapes.png is saved.\n"
     ]
    }
   ],
   "source": [
    "# Manual Pre-processing before Sweeping --------- #\n",
    "# 1. Default setting \n",
    "# a) None-type crop production system\n",
    "df.loc[df['crop_production_system'].isna(), 'crop_production_system'] = 'none'\n",
    "df.loc[df['crop_production_system'] == '', 'crop_production_system'] = 'none'\n",
    "# b) None-type population group\n",
    "df.loc[df['population_group'].isna(), 'population_group'] = 'none'\n",
    "df.loc[df['population_group'] == '', 'population_group'] = 'none'\n",
    "# 2. Manual setting\n",
    "# a) Add admin names to reporting units\n",
    "admin_level = 'admin_1'\n",
    "reporting_unit = df.loc[df['fnid'].map(lambda x: x[6] != 'A'), 'fnid'].unique()\n",
    "df.loc[df.fnid.isin(reporting_unit),admin_level] = df.loc[df.fnid.isin(reporting_unit), 'locality_name'].map(lambda x: x.split(' ')[0])\n",
    "# 3. Remove duplicate data \n",
    "pub_name_remove = 'BOS, Lesotho, Statisitical Report, 2017/2018 Crop Forecasting Report, NO 21 of 2040'\n",
    "df = df[df['publication_name'] != pub_name_remove]\n",
    "# ----------------------------------------------- #\n",
    "\n",
    "# FDW Production Data Inspection ---------------- #\n",
    "df, df_raw = FDW_PD_Sweeper(df, area_priority='Area Planted')\n",
    "table_dict = FDW_PD_AvalTable(df, shape_all)\n",
    "# ----------------------------------------------- #\n",
    "\n",
    "# FEWS NET Shapefile comparison ----------------- #\n",
    "shape_used = pd.concat([LS_Admin1_1980], axis=0)\n",
    "PlotAdminShapes(shape_used, label=True)\n",
    "# ----------------------------------------------- #"
   ]
  },
  {
   "cell_type": "markdown",
   "id": "5496ca39-6587-48cc-b90b-af1c11138a76",
   "metadata": {},
   "source": [
    "- Lesotho crop seasonal calendar\n",
    "\n",
    "![FEWS NET](https://fews.net/sites/default/files/styles/large_width_880/public/2023-03/seasonal-calendar-lesotho.png?itok=rDGlnOwG)\n",
    "\n",
    "![USDA](https://ipad.fas.usda.gov/countrysummary/images/LT/cropcalendar/safrica_lt_calendar.png)\n",
    "\n",
    "- FDW data consists of `LS1980A1`.\n",
    "\n",
    "| Year | Admin-1 | # units  | Admin-2  | # units |\n",
    "| :---: | :----:  | :----:   | :----:   | :---:  |\n",
    "| 1980\t | `LS1980A1` | 10\t| -\t| -\t|\n",
    "\n",
    "- Comparison between admin boundaries.\n",
    "\n",
    "![image](https://github.com/chc-ucsb/gscd/blob/main/figures/LS_admin_shapes.png?raw=true)\n",
    "\n",
    "- **`LS1980A1`** is used to represent current admin-level 1 crop data.\n",
    "- Lesotho has 2 crop seasons: `Summer (08-01)` and `Winter (02-01)`.\n",
    "- Lesotho has no crop production system.\n",
    "- Lesotho has no population group."
   ]
  },
  {
   "cell_type": "code",
   "execution_count": 4,
   "id": "83637a50-9c46-4433-a102-65abf9ba79fa",
   "metadata": {},
   "outputs": [],
   "source": [
    "# Define the latest shapefile ------------------- #\n",
    "latest_level = 1\n",
    "shape_latest = LS_Admin1_1980.copy().to_crs('epsg:4326')\n",
    "# ----------------------------------------------- #\n",
    "\n",
    "# Validation of FNIDs and Names ----------------- #\n",
    "df = FDW_PD_ValidateFnidName(df, shape_used, shape_latest)\n",
    "# ----------------------------------------------- #\n",
    "\n",
    "# FDW Production Data Compiling ----------------- #\n",
    "area, prod = FDW_PD_Compiling(df, shape_used)\n",
    "area_all, prod_all = area.copy(), prod.copy()\n",
    "mdx_pss = area.columns.droplevel([0,1]).unique()\n",
    "# ----------------------------------------------- #"
   ]
  },
  {
   "cell_type": "code",
   "execution_count": 5,
   "id": "578864b5-5f42-45a4-b7b7-275dc9b10325",
   "metadata": {},
   "outputs": [],
   "source": [
    "# Link admin boundaries ------------------------- #\n",
    "link, over = FDW_PD_CreateAdminLink(LS_Admin1_1980, LS_Admin1_1980, 'ADMIN1', 'ADMIN1', prod, epsg)\n",
    "# Crop specific ratios\n",
    "link_ratio = FDW_PD_RatioAdminLink(link, prod, over, mdx_pss)\n",
    "# Add current unit to link_ratio\n",
    "for fnid_new in link_ratio.keys():\n",
    "    link_ratio[fnid_new][fnid_new] = 1.0\n",
    "    link_ratio[fnid_new] = link_ratio[fnid_new].sort_index(axis=1, ascending=False)\n",
    "# Connect data with AdminLink\n",
    "area_new, prod_new = FDW_PD_ConnectAdminLink(link_ratio, area, prod, validation=False)\n",
    "# ----------------------------------------------- #"
   ]
  },
  {
   "cell_type": "code",
   "execution_count": 6,
   "id": "df2e7df3-4bed-445f-a3c2-e91c135134aa",
   "metadata": {},
   "outputs": [
    {
     "name": "stdout",
     "output_type": "stream",
     "text": [
      "../data/crop/adm_crop_production_LS.csv is saved.\n",
      "../data/crop/adm_crop_production_LS.hdf is saved.\n",
      "../data/crop/adm_crop_production_LS_raw.hdf is saved.\n",
      "../data/crop/adm_crop_production_LS_ratio.npz is saved.\n"
     ]
    }
   ],
   "source": [
    "# Manual correction ----------------------------- #\n",
    "crop_new = prod_new/area_new\n",
    "# ----------------------------------------------- #\n",
    "\n",
    "# Complete long format DataFrame ---------------- #\n",
    "df_area = area_new.T.stack().rename('value').reset_index()\n",
    "df_area['indicator'] = 'area'\n",
    "df_prod = prod_new.T.stack().rename('value').reset_index()\n",
    "df_prod['indicator'] = 'production'\n",
    "df_yield = crop_new.T.stack().rename('value').reset_index()\n",
    "df_yield['indicator'] = 'yield'\n",
    "stack = pd.concat([df_area, df_prod, df_yield], axis=0)\n",
    "# Add \"planting year\"\n",
    "cols = ['season_name','product','crop_production_system','planting_month','harvest_year','harvest_month','planting_year']\n",
    "season_table = df[cols].drop_duplicates()\n",
    "stack = stack.merge(season_table, on=cols[:-1])\n",
    "# Add country and admin names\n",
    "stack = stack.merge(df[['fnid','country','country_code','admin_1','admin_2']].drop_duplicates(), on='fnid', how='inner')\n",
    "names = [\n",
    "    'fnid','country','country_code','admin_1','admin_2','name',\n",
    "    'product','season_name','planting_year','planting_month','harvest_year','harvest_month',\n",
    "    'crop_production_system','indicator','value'\n",
    "]\n",
    "stack_gscd = stack[names]\n",
    "stack_gscd['gscd_code'] = 'calibrated'\n",
    "# ----------------------------------------------- #\n",
    "\n",
    "# Reported FDW data ----------------------------- #\n",
    "stack_fdw = df[names]\n",
    "stack_fdw['indicator'] = stack_fdw['indicator'].replace({'Area Harvested':'area','Quantity Produced':'production','Yield':'yield'})\n",
    "stack_fdw['gscd_code'] = 'reported'\n",
    "# ----------------------------------------------- #\n",
    "\n",
    "# Final Processing ------------------------------ #\n",
    "stack = pd.concat([stack_fdw,stack_gscd], axis=0).reset_index(drop=True)\n",
    "# No concerns found for grain types\n",
    "stack['product'] = stack['product'].replace(product_category)\n",
    "# Calibration of planting and Harvest year and season\n",
    "cs = {\n",
    "    'Summer': {'planting_month':{'08-01':'10-01'},'harvest_month':{'01-01':'07-01'}},\n",
    "    'Winter': {'planting_month':{'02-01':'05-01'},'harvest_month':{'07-01':'11-01'}},\n",
    "}\n",
    "cy = {'Summer': {'planting_year':-1, 'harvest_year':-1}}\n",
    "stack, df, link_ratio = FDW_PD_CaliSeasonYear(stack, df, link_ratio, cs, cy)\n",
    "stack.loc[stack['admin_1'].isna(), 'admin_1'] = 'none'\n",
    "stack.loc[stack['admin_2'].isna(), 'admin_2'] = 'none'\n",
    "# ----------------------------------------------- #\n",
    "\n",
    "# Save data\n",
    "fn_out = '../data/crop/adm_crop_production_LS.csv'\n",
    "stack.to_csv(fn_out); print(f'{fn_out} is saved.')\n",
    "save_hdf('../data/crop/adm_crop_production_LS.hdf', stack)\n",
    "save_hdf('../data/crop/adm_crop_production_LS_raw.hdf', df)\n",
    "save_npz('../data/crop/adm_crop_production_LS_ratio.npz', link_ratio)"
   ]
  },
  {
   "cell_type": "markdown",
   "id": "f35c1216-ce98-49b0-a875-87d43a95ee6b",
   "metadata": {},
   "source": [
    "## Visualization of production data"
   ]
  },
  {
   "cell_type": "code",
   "execution_count": 7,
   "id": "7e63299f-0747-4fda-88f5-be0a2303c580",
   "metadata": {},
   "outputs": [
    {
     "name": "stdout",
     "output_type": "stream",
     "text": [
      "../figures/LS_bar_natgrainprod_Summer.png is saved.\n"
     ]
    },
    {
     "data": {
      "application/vnd.plotly.v1+json": {
       "config": {
        "plotlyServerURL": "https://plot.ly"
       },
       "data": [
        {
         "alignmentgroup": "True",
         "hovertemplate": "product=Maize<br>season_name=Summer<br>type=orig_unit<br>year=%{x}<br>value=%{y}<extra></extra>",
         "legendgroup": "Maize",
         "marker": {
          "color": "#636efa",
          "pattern": {
           "shape": ""
          }
         },
         "name": "Maize",
         "offsetgroup": "Maize",
         "orientation": "v",
         "showlegend": true,
         "textposition": "auto",
         "type": "bar",
         "x": [
          1982,
          1983,
          1984,
          1985,
          1986,
          1987,
          1988,
          1989,
          1990,
          1991,
          1992,
          1993,
          1994,
          1995,
          1996,
          1997,
          1998,
          1999,
          2000,
          2001,
          2002,
          2003,
          2004,
          2005,
          2006,
          2007,
          2008,
          2009,
          2010,
          2011,
          2012,
          2013,
          2014,
          2015,
          2016,
          2017,
          2018
         ],
         "xaxis": "x2",
         "y": [
          83000,
          76100,
          79400,
          92350,
          86488,
          94912,
          159726,
          137227,
          171576,
          48918,
          61073,
          91805,
          149062,
          63445,
          188489,
          142050,
          118679,
          124549,
          138685,
          158189,
          111205,
          85032,
          80998,
          78739,
          76906,
          60312,
          65542,
          57126,
          128215,
          70311,
          42470,
          86324,
          90073,
          65637,
          25435,
          200142,
          64654
         ],
         "yaxis": "y2"
        },
        {
         "alignmentgroup": "True",
         "hovertemplate": "product=Maize<br>season_name=Summer<br>type=percent<br>year=%{x}<br>value=%{y}<extra></extra>",
         "legendgroup": "Maize",
         "marker": {
          "color": "#636efa",
          "pattern": {
           "shape": ""
          }
         },
         "name": "Maize",
         "offsetgroup": "Maize",
         "orientation": "v",
         "showlegend": false,
         "textposition": "auto",
         "type": "bar",
         "x": [
          1982,
          1983,
          1984,
          1985,
          1986,
          1987,
          1988,
          1989,
          1990,
          1991,
          1992,
          1993,
          1994,
          1995,
          1996,
          1997,
          1998,
          1999,
          2000,
          2001,
          2002,
          2003,
          2004,
          2005,
          2006,
          2007,
          2008,
          2009,
          2010,
          2011,
          2012,
          2013,
          2014,
          2015,
          2016,
          2017,
          2018
         ],
         "xaxis": "x",
         "y": [
          67.20647773279353,
          62.58223684210527,
          60.938639241720715,
          55.764551015355636,
          66.04406093696308,
          65.60858264668474,
          68.72595843552342,
          70.1089233347298,
          76.75851239447583,
          74.33781627535902,
          66.09989718058337,
          67.11917244666765,
          67.24136375528911,
          80.42516510958713,
          74.1449234315565,
          69.35290154377948,
          69.75578217298029,
          71.86279318004789,
          83.63869482988208,
          69.8833811771795,
          78.26818316183612,
          77.23581666575835,
          77.78770155675281,
          79.28128398243989,
          81.66633039895508,
          86.68755569609337,
          83.21736922295582,
          79.14709672056195,
          74.84166593701661,
          68.97157207039297,
          73.65591397849462,
          73.39040833850522,
          80.05421499355641,
          80.20357291233901,
          82.15863868933795,
          83.96626950830677,
          85.58569291661703
         ],
         "yaxis": "y"
        },
        {
         "alignmentgroup": "True",
         "hovertemplate": "product=Sorghum<br>season_name=Summer<br>type=orig_unit<br>year=%{x}<br>value=%{y}<extra></extra>",
         "legendgroup": "Sorghum",
         "marker": {
          "color": "#EF553B",
          "pattern": {
           "shape": ""
          }
         },
         "name": "Sorghum",
         "offsetgroup": "Sorghum",
         "orientation": "v",
         "showlegend": true,
         "textposition": "auto",
         "type": "bar",
         "x": [
          1982,
          1983,
          1984,
          1985,
          1986,
          1987,
          1988,
          1989,
          1990,
          1991,
          1992,
          1993,
          1994,
          1995,
          1996,
          1997,
          1998,
          1999,
          2000,
          2001,
          2002,
          2003,
          2004,
          2005,
          2006,
          2007,
          2008,
          2009,
          2010,
          2011,
          2012,
          2013,
          2014,
          2015,
          2016,
          2017,
          2018
         ],
         "xaxis": "x2",
         "y": [
          26100,
          30700,
          33768,
          54823,
          33458,
          31232,
          53447,
          31140,
          36062,
          10043,
          19467,
          37847.1,
          60725,
          6458,
          36129,
          29050,
          21815,
          33340,
          16807,
          45354,
          11919,
          11953,
          11482,
          18527,
          14405,
          7836,
          11143,
          10151,
          23829,
          12600,
          4674,
          18675,
          9861,
          9528,
          1138.4,
          28191,
          3837
         ],
         "yaxis": "y2"
        },
        {
         "alignmentgroup": "True",
         "hovertemplate": "product=Sorghum<br>season_name=Summer<br>type=percent<br>year=%{x}<br>value=%{y}<extra></extra>",
         "legendgroup": "Sorghum",
         "marker": {
          "color": "#EF553B",
          "pattern": {
           "shape": ""
          }
         },
         "name": "Sorghum",
         "offsetgroup": "Sorghum",
         "orientation": "v",
         "showlegend": false,
         "textposition": "auto",
         "type": "bar",
         "x": [
          1982,
          1983,
          1984,
          1985,
          1986,
          1987,
          1988,
          1989,
          1990,
          1991,
          1992,
          1993,
          1994,
          1995,
          1996,
          1997,
          1998,
          1999,
          2000,
          2001,
          2002,
          2003,
          2004,
          2005,
          2006,
          2007,
          2008,
          2009,
          2010,
          2011,
          2012,
          2013,
          2014,
          2015,
          2016,
          2017,
          2018
         ],
         "xaxis": "x",
         "y": [
          21.133603238866396,
          25.24671052631579,
          25.916573928393262,
          33.10427699312227,
          25.549234469856057,
          21.58933805231433,
          22.99685899918248,
          15.909346357812131,
          16.133174068457055,
          15.261758225058886,
          21.069321933005032,
          27.670236169122326,
          27.392841998899325,
          8.186393195330028,
          14.211874107553783,
          14.18304674302565,
          12.82217062920622,
          19.236650030291667,
          10.136031611247274,
          20.036101561485307,
          8.388817724975718,
          10.85708576307519,
          11.026919050774534,
          18.654597446534293,
          15.29664121651039,
          11.26282806795642,
          14.14804469273743,
          14.064037020103356,
          13.909465020576132,
          12.3599693943615,
          8.106139438085327,
          15.876996845854977,
          8.764164778029595,
          11.642513257899752,
          3.6771926197736318,
          11.827068300050344,
          5.07922640085779
         ],
         "yaxis": "y"
        },
        {
         "alignmentgroup": "True",
         "hovertemplate": "product=Wheat<br>season_name=Summer<br>type=orig_unit<br>year=%{x}<br>value=%{y}<extra></extra>",
         "legendgroup": "Wheat",
         "marker": {
          "color": "#00cc96",
          "pattern": {
           "shape": ""
          }
         },
         "name": "Wheat",
         "offsetgroup": "Wheat",
         "orientation": "v",
         "showlegend": true,
         "textposition": "auto",
         "type": "bar",
         "x": [
          1982,
          1983,
          1984,
          1985,
          1986,
          1987,
          1988,
          1989,
          1990,
          1991,
          1992,
          1993,
          1994,
          1995,
          1996,
          1997,
          1998,
          1999,
          2000,
          2001,
          2002,
          2003,
          2004,
          2005,
          2006,
          2007,
          2008,
          2009,
          2010,
          2011,
          2012,
          2013,
          2014,
          2015,
          2016,
          2017,
          2018
         ],
         "xaxis": "x2",
         "y": [
          14400,
          14800,
          17127,
          18434,
          11009,
          18520,
          19237,
          27367,
          15889,
          6844,
          11855,
          7127,
          11895,
          8984,
          29599,
          33722,
          29641,
          15426,
          10322.4,
          22818.4,
          18958,
          13109,
          11647,
          2050,
          2860,
          1426,
          2075,
          4900,
          19271,
          19031,
          10516,
          12624,
          12581,
          6673,
          4385,
          10027,
          7052
         ],
         "yaxis": "y2"
        },
        {
         "alignmentgroup": "True",
         "hovertemplate": "product=Wheat<br>season_name=Summer<br>type=percent<br>year=%{x}<br>value=%{y}<extra></extra>",
         "legendgroup": "Wheat",
         "marker": {
          "color": "#00cc96",
          "pattern": {
           "shape": ""
          }
         },
         "name": "Wheat",
         "offsetgroup": "Wheat",
         "orientation": "v",
         "showlegend": false,
         "textposition": "auto",
         "type": "bar",
         "x": [
          1982,
          1983,
          1984,
          1985,
          1986,
          1987,
          1988,
          1989,
          1990,
          1991,
          1992,
          1993,
          1994,
          1995,
          1996,
          1997,
          1998,
          1999,
          2000,
          2001,
          2002,
          2003,
          2004,
          2005,
          2006,
          2007,
          2008,
          2009,
          2010,
          2011,
          2012,
          2013,
          2014,
          2015,
          2016,
          2017,
          2018
         ],
         "xaxis": "x",
         "y": [
          11.65991902834008,
          12.171052631578947,
          13.144786829886026,
          11.131171991522097,
          8.406704593180864,
          12.80207930100094,
          8.277182565294092,
          13.981730307458081,
          7.108313537067111,
          10.400425499582099,
          12.830780886411603,
          5.210591384210014,
          5.365794245811568,
          11.38844169508284,
          11.643202460889713,
          16.46405171319487,
          17.4220471978135,
          8.900556789660445,
          6.225273558870641,
          10.080517261335194,
          13.342999113188158,
          11.907097571166458,
          11.185379392472655,
          2.0641185710258165,
          3.037028384534517,
          2.0496162359502113,
          2.634586084306755,
          6.788866259334691,
          11.24886904240726,
          18.668458535245534,
          18.237946583420047,
          10.732594815639798,
          11.181620228413989,
          8.153913829761237,
          14.164168690888419,
          4.206662191642893,
          9.335080682525184
         ],
         "yaxis": "y"
        }
       ],
       "layout": {
        "annotations": [
         {
          "showarrow": false,
          "text": "",
          "textangle": 90,
          "x": 0.98,
          "xanchor": "left",
          "xref": "paper",
          "y": 0.2375,
          "yanchor": "middle",
          "yref": "paper"
         },
         {
          "showarrow": false,
          "text": "",
          "textangle": 90,
          "x": 0.98,
          "xanchor": "left",
          "xref": "paper",
          "y": 0.7625,
          "yanchor": "middle",
          "yref": "paper"
         },
         {
          "align": "left",
          "font": {
           "color": "dimgrey",
           "family": "arial",
           "size": 15
          },
          "showarrow": false,
          "text": "National grain production in Lesotho - Summer",
          "x": 0,
          "xref": "paper",
          "y": -0.13,
          "yref": "paper"
         }
        ],
        "barmode": "relative",
        "font": {
         "color": "black",
         "family": "arial",
         "size": 15
        },
        "height": 600,
        "legend": {
         "title": {
          "text": "Product"
         },
         "tracegroupgap": 0,
         "x": 1,
         "y": 1.01
        },
        "margin": {
         "b": 0,
         "l": 0,
         "r": 0,
         "t": 0
        },
        "template": {
         "data": {
          "bar": [
           {
            "error_x": {
             "color": "#2a3f5f"
            },
            "error_y": {
             "color": "#2a3f5f"
            },
            "marker": {
             "line": {
              "color": "#E5ECF6",
              "width": 0.5
             },
             "pattern": {
              "fillmode": "overlay",
              "size": 10,
              "solidity": 0.2
             }
            },
            "type": "bar"
           }
          ],
          "barpolar": [
           {
            "marker": {
             "line": {
              "color": "#E5ECF6",
              "width": 0.5
             },
             "pattern": {
              "fillmode": "overlay",
              "size": 10,
              "solidity": 0.2
             }
            },
            "type": "barpolar"
           }
          ],
          "carpet": [
           {
            "aaxis": {
             "endlinecolor": "#2a3f5f",
             "gridcolor": "white",
             "linecolor": "white",
             "minorgridcolor": "white",
             "startlinecolor": "#2a3f5f"
            },
            "baxis": {
             "endlinecolor": "#2a3f5f",
             "gridcolor": "white",
             "linecolor": "white",
             "minorgridcolor": "white",
             "startlinecolor": "#2a3f5f"
            },
            "type": "carpet"
           }
          ],
          "choropleth": [
           {
            "colorbar": {
             "outlinewidth": 0,
             "ticks": ""
            },
            "type": "choropleth"
           }
          ],
          "contour": [
           {
            "colorbar": {
             "outlinewidth": 0,
             "ticks": ""
            },
            "colorscale": [
             [
              0,
              "#0d0887"
             ],
             [
              0.1111111111111111,
              "#46039f"
             ],
             [
              0.2222222222222222,
              "#7201a8"
             ],
             [
              0.3333333333333333,
              "#9c179e"
             ],
             [
              0.4444444444444444,
              "#bd3786"
             ],
             [
              0.5555555555555556,
              "#d8576b"
             ],
             [
              0.6666666666666666,
              "#ed7953"
             ],
             [
              0.7777777777777778,
              "#fb9f3a"
             ],
             [
              0.8888888888888888,
              "#fdca26"
             ],
             [
              1,
              "#f0f921"
             ]
            ],
            "type": "contour"
           }
          ],
          "contourcarpet": [
           {
            "colorbar": {
             "outlinewidth": 0,
             "ticks": ""
            },
            "type": "contourcarpet"
           }
          ],
          "heatmap": [
           {
            "colorbar": {
             "outlinewidth": 0,
             "ticks": ""
            },
            "colorscale": [
             [
              0,
              "#0d0887"
             ],
             [
              0.1111111111111111,
              "#46039f"
             ],
             [
              0.2222222222222222,
              "#7201a8"
             ],
             [
              0.3333333333333333,
              "#9c179e"
             ],
             [
              0.4444444444444444,
              "#bd3786"
             ],
             [
              0.5555555555555556,
              "#d8576b"
             ],
             [
              0.6666666666666666,
              "#ed7953"
             ],
             [
              0.7777777777777778,
              "#fb9f3a"
             ],
             [
              0.8888888888888888,
              "#fdca26"
             ],
             [
              1,
              "#f0f921"
             ]
            ],
            "type": "heatmap"
           }
          ],
          "heatmapgl": [
           {
            "colorbar": {
             "outlinewidth": 0,
             "ticks": ""
            },
            "colorscale": [
             [
              0,
              "#0d0887"
             ],
             [
              0.1111111111111111,
              "#46039f"
             ],
             [
              0.2222222222222222,
              "#7201a8"
             ],
             [
              0.3333333333333333,
              "#9c179e"
             ],
             [
              0.4444444444444444,
              "#bd3786"
             ],
             [
              0.5555555555555556,
              "#d8576b"
             ],
             [
              0.6666666666666666,
              "#ed7953"
             ],
             [
              0.7777777777777778,
              "#fb9f3a"
             ],
             [
              0.8888888888888888,
              "#fdca26"
             ],
             [
              1,
              "#f0f921"
             ]
            ],
            "type": "heatmapgl"
           }
          ],
          "histogram": [
           {
            "marker": {
             "pattern": {
              "fillmode": "overlay",
              "size": 10,
              "solidity": 0.2
             }
            },
            "type": "histogram"
           }
          ],
          "histogram2d": [
           {
            "colorbar": {
             "outlinewidth": 0,
             "ticks": ""
            },
            "colorscale": [
             [
              0,
              "#0d0887"
             ],
             [
              0.1111111111111111,
              "#46039f"
             ],
             [
              0.2222222222222222,
              "#7201a8"
             ],
             [
              0.3333333333333333,
              "#9c179e"
             ],
             [
              0.4444444444444444,
              "#bd3786"
             ],
             [
              0.5555555555555556,
              "#d8576b"
             ],
             [
              0.6666666666666666,
              "#ed7953"
             ],
             [
              0.7777777777777778,
              "#fb9f3a"
             ],
             [
              0.8888888888888888,
              "#fdca26"
             ],
             [
              1,
              "#f0f921"
             ]
            ],
            "type": "histogram2d"
           }
          ],
          "histogram2dcontour": [
           {
            "colorbar": {
             "outlinewidth": 0,
             "ticks": ""
            },
            "colorscale": [
             [
              0,
              "#0d0887"
             ],
             [
              0.1111111111111111,
              "#46039f"
             ],
             [
              0.2222222222222222,
              "#7201a8"
             ],
             [
              0.3333333333333333,
              "#9c179e"
             ],
             [
              0.4444444444444444,
              "#bd3786"
             ],
             [
              0.5555555555555556,
              "#d8576b"
             ],
             [
              0.6666666666666666,
              "#ed7953"
             ],
             [
              0.7777777777777778,
              "#fb9f3a"
             ],
             [
              0.8888888888888888,
              "#fdca26"
             ],
             [
              1,
              "#f0f921"
             ]
            ],
            "type": "histogram2dcontour"
           }
          ],
          "mesh3d": [
           {
            "colorbar": {
             "outlinewidth": 0,
             "ticks": ""
            },
            "type": "mesh3d"
           }
          ],
          "parcoords": [
           {
            "line": {
             "colorbar": {
              "outlinewidth": 0,
              "ticks": ""
             }
            },
            "type": "parcoords"
           }
          ],
          "pie": [
           {
            "automargin": true,
            "type": "pie"
           }
          ],
          "scatter": [
           {
            "fillpattern": {
             "fillmode": "overlay",
             "size": 10,
             "solidity": 0.2
            },
            "type": "scatter"
           }
          ],
          "scatter3d": [
           {
            "line": {
             "colorbar": {
              "outlinewidth": 0,
              "ticks": ""
             }
            },
            "marker": {
             "colorbar": {
              "outlinewidth": 0,
              "ticks": ""
             }
            },
            "type": "scatter3d"
           }
          ],
          "scattercarpet": [
           {
            "marker": {
             "colorbar": {
              "outlinewidth": 0,
              "ticks": ""
             }
            },
            "type": "scattercarpet"
           }
          ],
          "scattergeo": [
           {
            "marker": {
             "colorbar": {
              "outlinewidth": 0,
              "ticks": ""
             }
            },
            "type": "scattergeo"
           }
          ],
          "scattergl": [
           {
            "marker": {
             "colorbar": {
              "outlinewidth": 0,
              "ticks": ""
             }
            },
            "type": "scattergl"
           }
          ],
          "scattermapbox": [
           {
            "marker": {
             "colorbar": {
              "outlinewidth": 0,
              "ticks": ""
             }
            },
            "type": "scattermapbox"
           }
          ],
          "scatterpolar": [
           {
            "marker": {
             "colorbar": {
              "outlinewidth": 0,
              "ticks": ""
             }
            },
            "type": "scatterpolar"
           }
          ],
          "scatterpolargl": [
           {
            "marker": {
             "colorbar": {
              "outlinewidth": 0,
              "ticks": ""
             }
            },
            "type": "scatterpolargl"
           }
          ],
          "scatterternary": [
           {
            "marker": {
             "colorbar": {
              "outlinewidth": 0,
              "ticks": ""
             }
            },
            "type": "scatterternary"
           }
          ],
          "surface": [
           {
            "colorbar": {
             "outlinewidth": 0,
             "ticks": ""
            },
            "colorscale": [
             [
              0,
              "#0d0887"
             ],
             [
              0.1111111111111111,
              "#46039f"
             ],
             [
              0.2222222222222222,
              "#7201a8"
             ],
             [
              0.3333333333333333,
              "#9c179e"
             ],
             [
              0.4444444444444444,
              "#bd3786"
             ],
             [
              0.5555555555555556,
              "#d8576b"
             ],
             [
              0.6666666666666666,
              "#ed7953"
             ],
             [
              0.7777777777777778,
              "#fb9f3a"
             ],
             [
              0.8888888888888888,
              "#fdca26"
             ],
             [
              1,
              "#f0f921"
             ]
            ],
            "type": "surface"
           }
          ],
          "table": [
           {
            "cells": {
             "fill": {
              "color": "#EBF0F8"
             },
             "line": {
              "color": "white"
             }
            },
            "header": {
             "fill": {
              "color": "#C8D4E3"
             },
             "line": {
              "color": "white"
             }
            },
            "type": "table"
           }
          ]
         },
         "layout": {
          "annotationdefaults": {
           "arrowcolor": "#2a3f5f",
           "arrowhead": 0,
           "arrowwidth": 1
          },
          "autotypenumbers": "strict",
          "coloraxis": {
           "colorbar": {
            "outlinewidth": 0,
            "ticks": ""
           }
          },
          "colorscale": {
           "diverging": [
            [
             0,
             "#8e0152"
            ],
            [
             0.1,
             "#c51b7d"
            ],
            [
             0.2,
             "#de77ae"
            ],
            [
             0.3,
             "#f1b6da"
            ],
            [
             0.4,
             "#fde0ef"
            ],
            [
             0.5,
             "#f7f7f7"
            ],
            [
             0.6,
             "#e6f5d0"
            ],
            [
             0.7,
             "#b8e186"
            ],
            [
             0.8,
             "#7fbc41"
            ],
            [
             0.9,
             "#4d9221"
            ],
            [
             1,
             "#276419"
            ]
           ],
           "sequential": [
            [
             0,
             "#0d0887"
            ],
            [
             0.1111111111111111,
             "#46039f"
            ],
            [
             0.2222222222222222,
             "#7201a8"
            ],
            [
             0.3333333333333333,
             "#9c179e"
            ],
            [
             0.4444444444444444,
             "#bd3786"
            ],
            [
             0.5555555555555556,
             "#d8576b"
            ],
            [
             0.6666666666666666,
             "#ed7953"
            ],
            [
             0.7777777777777778,
             "#fb9f3a"
            ],
            [
             0.8888888888888888,
             "#fdca26"
            ],
            [
             1,
             "#f0f921"
            ]
           ],
           "sequentialminus": [
            [
             0,
             "#0d0887"
            ],
            [
             0.1111111111111111,
             "#46039f"
            ],
            [
             0.2222222222222222,
             "#7201a8"
            ],
            [
             0.3333333333333333,
             "#9c179e"
            ],
            [
             0.4444444444444444,
             "#bd3786"
            ],
            [
             0.5555555555555556,
             "#d8576b"
            ],
            [
             0.6666666666666666,
             "#ed7953"
            ],
            [
             0.7777777777777778,
             "#fb9f3a"
            ],
            [
             0.8888888888888888,
             "#fdca26"
            ],
            [
             1,
             "#f0f921"
            ]
           ]
          },
          "colorway": [
           "#636efa",
           "#EF553B",
           "#00cc96",
           "#ab63fa",
           "#FFA15A",
           "#19d3f3",
           "#FF6692",
           "#B6E880",
           "#FF97FF",
           "#FECB52"
          ],
          "font": {
           "color": "#2a3f5f"
          },
          "geo": {
           "bgcolor": "white",
           "lakecolor": "white",
           "landcolor": "#E5ECF6",
           "showlakes": true,
           "showland": true,
           "subunitcolor": "white"
          },
          "hoverlabel": {
           "align": "left"
          },
          "hovermode": "closest",
          "mapbox": {
           "style": "light"
          },
          "paper_bgcolor": "white",
          "plot_bgcolor": "#E5ECF6",
          "polar": {
           "angularaxis": {
            "gridcolor": "white",
            "linecolor": "white",
            "ticks": ""
           },
           "bgcolor": "#E5ECF6",
           "radialaxis": {
            "gridcolor": "white",
            "linecolor": "white",
            "ticks": ""
           }
          },
          "scene": {
           "xaxis": {
            "backgroundcolor": "#E5ECF6",
            "gridcolor": "white",
            "gridwidth": 2,
            "linecolor": "white",
            "showbackground": true,
            "ticks": "",
            "zerolinecolor": "white"
           },
           "yaxis": {
            "backgroundcolor": "#E5ECF6",
            "gridcolor": "white",
            "gridwidth": 2,
            "linecolor": "white",
            "showbackground": true,
            "ticks": "",
            "zerolinecolor": "white"
           },
           "zaxis": {
            "backgroundcolor": "#E5ECF6",
            "gridcolor": "white",
            "gridwidth": 2,
            "linecolor": "white",
            "showbackground": true,
            "ticks": "",
            "zerolinecolor": "white"
           }
          },
          "shapedefaults": {
           "line": {
            "color": "#2a3f5f"
           }
          },
          "ternary": {
           "aaxis": {
            "gridcolor": "white",
            "linecolor": "white",
            "ticks": ""
           },
           "baxis": {
            "gridcolor": "white",
            "linecolor": "white",
            "ticks": ""
           },
           "bgcolor": "#E5ECF6",
           "caxis": {
            "gridcolor": "white",
            "linecolor": "white",
            "ticks": ""
           }
          },
          "title": {
           "x": 0.05
          },
          "xaxis": {
           "automargin": true,
           "gridcolor": "white",
           "linecolor": "white",
           "ticks": "",
           "title": {
            "standoff": 15
           },
           "zerolinecolor": "white",
           "zerolinewidth": 2
          },
          "yaxis": {
           "automargin": true,
           "gridcolor": "white",
           "linecolor": "white",
           "ticks": "",
           "title": {
            "standoff": 15
           },
           "zerolinecolor": "white",
           "zerolinewidth": 2
          }
         }
        },
        "width": 900,
        "xaxis": {
         "anchor": "y",
         "domain": [
          0,
          0.98
         ],
         "dtick": 1,
         "range": [
          1980.5,
          2018.5
         ],
         "title": {
          "text": ""
         }
        },
        "xaxis2": {
         "anchor": "y2",
         "domain": [
          0,
          0.98
         ],
         "matches": "x",
         "showticklabels": false
        },
        "yaxis": {
         "anchor": "x",
         "domain": [
          0,
          0.475
         ],
         "range": [
          0,
          100
         ],
         "title": {
          "text": "Production (%)"
         }
        },
        "yaxis2": {
         "anchor": "x2",
         "domain": [
          0.525,
          1
         ],
         "title": {
          "text": "Production (t)"
         }
        }
       }
      }
     },
     "metadata": {},
     "output_type": "display_data"
    },
    {
     "name": "stdout",
     "output_type": "stream",
     "text": [
      "../figures/LS_bar_natgrainprod_Winter.png is saved.\n"
     ]
    },
    {
     "data": {
      "application/vnd.plotly.v1+json": {
       "config": {
        "plotlyServerURL": "https://plot.ly"
       },
       "data": [
        {
         "alignmentgroup": "True",
         "hovertemplate": "product=Wheat<br>season_name=Winter<br>type=orig_unit<br>year=%{x}<br>value=%{y}<extra></extra>",
         "legendgroup": "Wheat",
         "marker": {
          "color": "#00cc96",
          "pattern": {
           "shape": ""
          }
         },
         "name": "Wheat",
         "offsetgroup": "Wheat",
         "orientation": "v",
         "showlegend": true,
         "textposition": "auto",
         "type": "bar",
         "x": [
          2006,
          2007,
          2008,
          2010,
          2011,
          2012,
          2013,
          2014,
          2015,
          2016
         ],
         "xaxis": "x2",
         "y": [
          3579,
          2691,
          2569,
          196,
          110,
          114,
          290,
          182,
          417,
          385
         ],
         "yaxis": "y2"
        },
        {
         "alignmentgroup": "True",
         "hovertemplate": "product=Wheat<br>season_name=Winter<br>type=percent<br>year=%{x}<br>value=%{y}<extra></extra>",
         "legendgroup": "Wheat",
         "marker": {
          "color": "#00cc96",
          "pattern": {
           "shape": ""
          }
         },
         "name": "Wheat",
         "offsetgroup": "Wheat",
         "orientation": "v",
         "showlegend": false,
         "textposition": "auto",
         "type": "bar",
         "x": [
          2006,
          2007,
          2008,
          2010,
          2011,
          2012,
          2013,
          2014,
          2015,
          2016
         ],
         "xaxis": "x",
         "y": [
          100,
          100,
          100,
          100,
          100,
          100,
          100,
          100,
          100,
          100
         ],
         "yaxis": "y"
        }
       ],
       "layout": {
        "annotations": [
         {
          "showarrow": false,
          "text": "",
          "textangle": 90,
          "x": 0.98,
          "xanchor": "left",
          "xref": "paper",
          "y": 0.2375,
          "yanchor": "middle",
          "yref": "paper"
         },
         {
          "showarrow": false,
          "text": "",
          "textangle": 90,
          "x": 0.98,
          "xanchor": "left",
          "xref": "paper",
          "y": 0.7625,
          "yanchor": "middle",
          "yref": "paper"
         },
         {
          "align": "left",
          "font": {
           "color": "dimgrey",
           "family": "arial",
           "size": 15
          },
          "showarrow": false,
          "text": "National grain production in Lesotho - Winter",
          "x": 0,
          "xref": "paper",
          "y": -0.13,
          "yref": "paper"
         }
        ],
        "barmode": "relative",
        "font": {
         "color": "black",
         "family": "arial",
         "size": 15
        },
        "height": 600,
        "legend": {
         "title": {
          "text": "Product"
         },
         "tracegroupgap": 0,
         "x": 1,
         "y": 1.01
        },
        "margin": {
         "b": 0,
         "l": 0,
         "r": 0,
         "t": 0
        },
        "template": {
         "data": {
          "bar": [
           {
            "error_x": {
             "color": "#2a3f5f"
            },
            "error_y": {
             "color": "#2a3f5f"
            },
            "marker": {
             "line": {
              "color": "#E5ECF6",
              "width": 0.5
             },
             "pattern": {
              "fillmode": "overlay",
              "size": 10,
              "solidity": 0.2
             }
            },
            "type": "bar"
           }
          ],
          "barpolar": [
           {
            "marker": {
             "line": {
              "color": "#E5ECF6",
              "width": 0.5
             },
             "pattern": {
              "fillmode": "overlay",
              "size": 10,
              "solidity": 0.2
             }
            },
            "type": "barpolar"
           }
          ],
          "carpet": [
           {
            "aaxis": {
             "endlinecolor": "#2a3f5f",
             "gridcolor": "white",
             "linecolor": "white",
             "minorgridcolor": "white",
             "startlinecolor": "#2a3f5f"
            },
            "baxis": {
             "endlinecolor": "#2a3f5f",
             "gridcolor": "white",
             "linecolor": "white",
             "minorgridcolor": "white",
             "startlinecolor": "#2a3f5f"
            },
            "type": "carpet"
           }
          ],
          "choropleth": [
           {
            "colorbar": {
             "outlinewidth": 0,
             "ticks": ""
            },
            "type": "choropleth"
           }
          ],
          "contour": [
           {
            "colorbar": {
             "outlinewidth": 0,
             "ticks": ""
            },
            "colorscale": [
             [
              0,
              "#0d0887"
             ],
             [
              0.1111111111111111,
              "#46039f"
             ],
             [
              0.2222222222222222,
              "#7201a8"
             ],
             [
              0.3333333333333333,
              "#9c179e"
             ],
             [
              0.4444444444444444,
              "#bd3786"
             ],
             [
              0.5555555555555556,
              "#d8576b"
             ],
             [
              0.6666666666666666,
              "#ed7953"
             ],
             [
              0.7777777777777778,
              "#fb9f3a"
             ],
             [
              0.8888888888888888,
              "#fdca26"
             ],
             [
              1,
              "#f0f921"
             ]
            ],
            "type": "contour"
           }
          ],
          "contourcarpet": [
           {
            "colorbar": {
             "outlinewidth": 0,
             "ticks": ""
            },
            "type": "contourcarpet"
           }
          ],
          "heatmap": [
           {
            "colorbar": {
             "outlinewidth": 0,
             "ticks": ""
            },
            "colorscale": [
             [
              0,
              "#0d0887"
             ],
             [
              0.1111111111111111,
              "#46039f"
             ],
             [
              0.2222222222222222,
              "#7201a8"
             ],
             [
              0.3333333333333333,
              "#9c179e"
             ],
             [
              0.4444444444444444,
              "#bd3786"
             ],
             [
              0.5555555555555556,
              "#d8576b"
             ],
             [
              0.6666666666666666,
              "#ed7953"
             ],
             [
              0.7777777777777778,
              "#fb9f3a"
             ],
             [
              0.8888888888888888,
              "#fdca26"
             ],
             [
              1,
              "#f0f921"
             ]
            ],
            "type": "heatmap"
           }
          ],
          "heatmapgl": [
           {
            "colorbar": {
             "outlinewidth": 0,
             "ticks": ""
            },
            "colorscale": [
             [
              0,
              "#0d0887"
             ],
             [
              0.1111111111111111,
              "#46039f"
             ],
             [
              0.2222222222222222,
              "#7201a8"
             ],
             [
              0.3333333333333333,
              "#9c179e"
             ],
             [
              0.4444444444444444,
              "#bd3786"
             ],
             [
              0.5555555555555556,
              "#d8576b"
             ],
             [
              0.6666666666666666,
              "#ed7953"
             ],
             [
              0.7777777777777778,
              "#fb9f3a"
             ],
             [
              0.8888888888888888,
              "#fdca26"
             ],
             [
              1,
              "#f0f921"
             ]
            ],
            "type": "heatmapgl"
           }
          ],
          "histogram": [
           {
            "marker": {
             "pattern": {
              "fillmode": "overlay",
              "size": 10,
              "solidity": 0.2
             }
            },
            "type": "histogram"
           }
          ],
          "histogram2d": [
           {
            "colorbar": {
             "outlinewidth": 0,
             "ticks": ""
            },
            "colorscale": [
             [
              0,
              "#0d0887"
             ],
             [
              0.1111111111111111,
              "#46039f"
             ],
             [
              0.2222222222222222,
              "#7201a8"
             ],
             [
              0.3333333333333333,
              "#9c179e"
             ],
             [
              0.4444444444444444,
              "#bd3786"
             ],
             [
              0.5555555555555556,
              "#d8576b"
             ],
             [
              0.6666666666666666,
              "#ed7953"
             ],
             [
              0.7777777777777778,
              "#fb9f3a"
             ],
             [
              0.8888888888888888,
              "#fdca26"
             ],
             [
              1,
              "#f0f921"
             ]
            ],
            "type": "histogram2d"
           }
          ],
          "histogram2dcontour": [
           {
            "colorbar": {
             "outlinewidth": 0,
             "ticks": ""
            },
            "colorscale": [
             [
              0,
              "#0d0887"
             ],
             [
              0.1111111111111111,
              "#46039f"
             ],
             [
              0.2222222222222222,
              "#7201a8"
             ],
             [
              0.3333333333333333,
              "#9c179e"
             ],
             [
              0.4444444444444444,
              "#bd3786"
             ],
             [
              0.5555555555555556,
              "#d8576b"
             ],
             [
              0.6666666666666666,
              "#ed7953"
             ],
             [
              0.7777777777777778,
              "#fb9f3a"
             ],
             [
              0.8888888888888888,
              "#fdca26"
             ],
             [
              1,
              "#f0f921"
             ]
            ],
            "type": "histogram2dcontour"
           }
          ],
          "mesh3d": [
           {
            "colorbar": {
             "outlinewidth": 0,
             "ticks": ""
            },
            "type": "mesh3d"
           }
          ],
          "parcoords": [
           {
            "line": {
             "colorbar": {
              "outlinewidth": 0,
              "ticks": ""
             }
            },
            "type": "parcoords"
           }
          ],
          "pie": [
           {
            "automargin": true,
            "type": "pie"
           }
          ],
          "scatter": [
           {
            "fillpattern": {
             "fillmode": "overlay",
             "size": 10,
             "solidity": 0.2
            },
            "type": "scatter"
           }
          ],
          "scatter3d": [
           {
            "line": {
             "colorbar": {
              "outlinewidth": 0,
              "ticks": ""
             }
            },
            "marker": {
             "colorbar": {
              "outlinewidth": 0,
              "ticks": ""
             }
            },
            "type": "scatter3d"
           }
          ],
          "scattercarpet": [
           {
            "marker": {
             "colorbar": {
              "outlinewidth": 0,
              "ticks": ""
             }
            },
            "type": "scattercarpet"
           }
          ],
          "scattergeo": [
           {
            "marker": {
             "colorbar": {
              "outlinewidth": 0,
              "ticks": ""
             }
            },
            "type": "scattergeo"
           }
          ],
          "scattergl": [
           {
            "marker": {
             "colorbar": {
              "outlinewidth": 0,
              "ticks": ""
             }
            },
            "type": "scattergl"
           }
          ],
          "scattermapbox": [
           {
            "marker": {
             "colorbar": {
              "outlinewidth": 0,
              "ticks": ""
             }
            },
            "type": "scattermapbox"
           }
          ],
          "scatterpolar": [
           {
            "marker": {
             "colorbar": {
              "outlinewidth": 0,
              "ticks": ""
             }
            },
            "type": "scatterpolar"
           }
          ],
          "scatterpolargl": [
           {
            "marker": {
             "colorbar": {
              "outlinewidth": 0,
              "ticks": ""
             }
            },
            "type": "scatterpolargl"
           }
          ],
          "scatterternary": [
           {
            "marker": {
             "colorbar": {
              "outlinewidth": 0,
              "ticks": ""
             }
            },
            "type": "scatterternary"
           }
          ],
          "surface": [
           {
            "colorbar": {
             "outlinewidth": 0,
             "ticks": ""
            },
            "colorscale": [
             [
              0,
              "#0d0887"
             ],
             [
              0.1111111111111111,
              "#46039f"
             ],
             [
              0.2222222222222222,
              "#7201a8"
             ],
             [
              0.3333333333333333,
              "#9c179e"
             ],
             [
              0.4444444444444444,
              "#bd3786"
             ],
             [
              0.5555555555555556,
              "#d8576b"
             ],
             [
              0.6666666666666666,
              "#ed7953"
             ],
             [
              0.7777777777777778,
              "#fb9f3a"
             ],
             [
              0.8888888888888888,
              "#fdca26"
             ],
             [
              1,
              "#f0f921"
             ]
            ],
            "type": "surface"
           }
          ],
          "table": [
           {
            "cells": {
             "fill": {
              "color": "#EBF0F8"
             },
             "line": {
              "color": "white"
             }
            },
            "header": {
             "fill": {
              "color": "#C8D4E3"
             },
             "line": {
              "color": "white"
             }
            },
            "type": "table"
           }
          ]
         },
         "layout": {
          "annotationdefaults": {
           "arrowcolor": "#2a3f5f",
           "arrowhead": 0,
           "arrowwidth": 1
          },
          "autotypenumbers": "strict",
          "coloraxis": {
           "colorbar": {
            "outlinewidth": 0,
            "ticks": ""
           }
          },
          "colorscale": {
           "diverging": [
            [
             0,
             "#8e0152"
            ],
            [
             0.1,
             "#c51b7d"
            ],
            [
             0.2,
             "#de77ae"
            ],
            [
             0.3,
             "#f1b6da"
            ],
            [
             0.4,
             "#fde0ef"
            ],
            [
             0.5,
             "#f7f7f7"
            ],
            [
             0.6,
             "#e6f5d0"
            ],
            [
             0.7,
             "#b8e186"
            ],
            [
             0.8,
             "#7fbc41"
            ],
            [
             0.9,
             "#4d9221"
            ],
            [
             1,
             "#276419"
            ]
           ],
           "sequential": [
            [
             0,
             "#0d0887"
            ],
            [
             0.1111111111111111,
             "#46039f"
            ],
            [
             0.2222222222222222,
             "#7201a8"
            ],
            [
             0.3333333333333333,
             "#9c179e"
            ],
            [
             0.4444444444444444,
             "#bd3786"
            ],
            [
             0.5555555555555556,
             "#d8576b"
            ],
            [
             0.6666666666666666,
             "#ed7953"
            ],
            [
             0.7777777777777778,
             "#fb9f3a"
            ],
            [
             0.8888888888888888,
             "#fdca26"
            ],
            [
             1,
             "#f0f921"
            ]
           ],
           "sequentialminus": [
            [
             0,
             "#0d0887"
            ],
            [
             0.1111111111111111,
             "#46039f"
            ],
            [
             0.2222222222222222,
             "#7201a8"
            ],
            [
             0.3333333333333333,
             "#9c179e"
            ],
            [
             0.4444444444444444,
             "#bd3786"
            ],
            [
             0.5555555555555556,
             "#d8576b"
            ],
            [
             0.6666666666666666,
             "#ed7953"
            ],
            [
             0.7777777777777778,
             "#fb9f3a"
            ],
            [
             0.8888888888888888,
             "#fdca26"
            ],
            [
             1,
             "#f0f921"
            ]
           ]
          },
          "colorway": [
           "#636efa",
           "#EF553B",
           "#00cc96",
           "#ab63fa",
           "#FFA15A",
           "#19d3f3",
           "#FF6692",
           "#B6E880",
           "#FF97FF",
           "#FECB52"
          ],
          "font": {
           "color": "#2a3f5f"
          },
          "geo": {
           "bgcolor": "white",
           "lakecolor": "white",
           "landcolor": "#E5ECF6",
           "showlakes": true,
           "showland": true,
           "subunitcolor": "white"
          },
          "hoverlabel": {
           "align": "left"
          },
          "hovermode": "closest",
          "mapbox": {
           "style": "light"
          },
          "paper_bgcolor": "white",
          "plot_bgcolor": "#E5ECF6",
          "polar": {
           "angularaxis": {
            "gridcolor": "white",
            "linecolor": "white",
            "ticks": ""
           },
           "bgcolor": "#E5ECF6",
           "radialaxis": {
            "gridcolor": "white",
            "linecolor": "white",
            "ticks": ""
           }
          },
          "scene": {
           "xaxis": {
            "backgroundcolor": "#E5ECF6",
            "gridcolor": "white",
            "gridwidth": 2,
            "linecolor": "white",
            "showbackground": true,
            "ticks": "",
            "zerolinecolor": "white"
           },
           "yaxis": {
            "backgroundcolor": "#E5ECF6",
            "gridcolor": "white",
            "gridwidth": 2,
            "linecolor": "white",
            "showbackground": true,
            "ticks": "",
            "zerolinecolor": "white"
           },
           "zaxis": {
            "backgroundcolor": "#E5ECF6",
            "gridcolor": "white",
            "gridwidth": 2,
            "linecolor": "white",
            "showbackground": true,
            "ticks": "",
            "zerolinecolor": "white"
           }
          },
          "shapedefaults": {
           "line": {
            "color": "#2a3f5f"
           }
          },
          "ternary": {
           "aaxis": {
            "gridcolor": "white",
            "linecolor": "white",
            "ticks": ""
           },
           "baxis": {
            "gridcolor": "white",
            "linecolor": "white",
            "ticks": ""
           },
           "bgcolor": "#E5ECF6",
           "caxis": {
            "gridcolor": "white",
            "linecolor": "white",
            "ticks": ""
           }
          },
          "title": {
           "x": 0.05
          },
          "xaxis": {
           "automargin": true,
           "gridcolor": "white",
           "linecolor": "white",
           "ticks": "",
           "title": {
            "standoff": 15
           },
           "zerolinecolor": "white",
           "zerolinewidth": 2
          },
          "yaxis": {
           "automargin": true,
           "gridcolor": "white",
           "linecolor": "white",
           "ticks": "",
           "title": {
            "standoff": 15
           },
           "zerolinecolor": "white",
           "zerolinewidth": 2
          }
         }
        },
        "width": 900,
        "xaxis": {
         "anchor": "y",
         "domain": [
          0,
          0.98
         ],
         "dtick": 1,
         "range": [
          1980.5,
          2018.5
         ],
         "title": {
          "text": ""
         }
        },
        "xaxis2": {
         "anchor": "y2",
         "domain": [
          0,
          0.98
         ],
         "matches": "x",
         "showticklabels": false
        },
        "yaxis": {
         "anchor": "x",
         "domain": [
          0,
          0.475
         ],
         "range": [
          0,
          100
         ],
         "title": {
          "text": "Production (%)"
         }
        },
        "yaxis2": {
         "anchor": "x2",
         "domain": [
          0.525,
          1
         ],
         "title": {
          "text": "Production (t)"
         }
        }
       }
      }
     },
     "metadata": {},
     "output_type": "display_data"
    }
   ],
   "source": [
    "# Bar chart of national grain production\n",
    "country_iso, country_name = 'LS', 'Lesotho'\n",
    "df = pd.read_hdf('../data/crop/adm_crop_production_%s.hdf' % country_iso)\n",
    "df = df[df['gscd_code']=='calibrated']; df['year'] = df['harvest_year']\n",
    "year = [df['year'].min(), df['year'].max()]\n",
    "product_order = ['Maize','Sorghum','Wheat']\n",
    "for season_name in ['Summer','Winter']:\n",
    "    footnote = 'National grain production in %s - %s' % (country_name, season_name)\n",
    "    fn_save = '../figures/%s_bar_natgrainprod_%s.png' % (country_iso, season_name)\n",
    "    sub = df[df['season_name'] == season_name]\n",
    "    fig = PlotBarProduction(sub, year, product_order, footnote, fn_save)\n",
    "    fig.show()"
   ]
  },
  {
   "cell_type": "code",
   "execution_count": 8,
   "id": "2205dd08-f5a0-4ad2-b009-810166f0a5c7",
   "metadata": {},
   "outputs": [
    {
     "name": "stdout",
     "output_type": "stream",
     "text": [
      "../figures/LS_line_pay_Maize_Summer.png is saved.\n"
     ]
    },
    {
     "data": {
      "application/vnd.plotly.v1+json": {
       "config": {
        "plotlyServerURL": "https://plot.ly"
       },
       "data": [
        {
         "connectgaps": false,
         "hovertemplate": "fnid=LS1980A101<br>indicator=production<br>year=%{x}<br>value=%{y}<extra></extra>",
         "legendgroup": "LS1980A101",
         "line": {
          "color": "#636efa",
          "dash": "solid"
         },
         "marker": {
          "symbol": "circle"
         },
         "mode": "lines+markers",
         "name": "LS1980A101",
         "showlegend": true,
         "type": "scattergl",
         "x": [
          1982,
          1983,
          1984,
          1985,
          1986,
          1987,
          1988,
          1989,
          1990,
          1991,
          1992,
          1993,
          1994,
          1995,
          1996,
          1997,
          1998,
          1999,
          2000,
          2001,
          2002,
          2003,
          2004,
          2005,
          2006,
          2007,
          2008,
          2009,
          2010,
          2011,
          2012,
          2013,
          2014,
          2015,
          2016,
          2017,
          2018
         ],
         "xaxis": "x3",
         "y": [
          15600,
          15400,
          11500,
          22768,
          15844,
          16074,
          27751,
          28566,
          31893,
          7557,
          9068,
          11068,
          26591,
          14301,
          29610,
          21003,
          20251,
          16801,
          35622,
          28387,
          22964,
          9090,
          9440,
          20353,
          7679,
          8670,
          9095,
          7106,
          20479,
          6506,
          5037,
          13817,
          15515,
          6476,
          3173,
          8799,
          8675
         ],
         "yaxis": "y3"
        },
        {
         "connectgaps": false,
         "hovertemplate": "fnid=LS1980A101<br>indicator=area<br>year=%{x}<br>value=%{y}<extra></extra>",
         "legendgroup": "LS1980A101",
         "line": {
          "color": "#636efa",
          "dash": "solid"
         },
         "marker": {
          "symbol": "circle"
         },
         "mode": "lines+markers",
         "name": "LS1980A101",
         "showlegend": false,
         "type": "scattergl",
         "x": [
          1982,
          1983,
          1984,
          1985,
          1986,
          1987,
          1988,
          1989,
          1990,
          1991,
          1992,
          1993,
          1994,
          1995,
          1996,
          1997,
          1998,
          1999,
          2000,
          2001,
          2002,
          2003,
          2004,
          2005,
          2006,
          2007,
          2008,
          2009,
          2010,
          2011,
          2012,
          2013,
          2014,
          2015,
          2016,
          2017,
          2018
         ],
         "xaxis": "x2",
         "y": [
          21700,
          16400,
          22100,
          24400,
          21400,
          24500,
          28800,
          28300,
          25800,
          21600,
          25300,
          18583,
          26981,
          15850,
          20864,
          23015,
          9726,
          16621,
          28608,
          28806,
          25814,
          21224,
          21083,
          18729,
          10437,
          23787,
          26803,
          19947,
          23922,
          19714,
          10515,
          15735,
          19072,
          13705,
          9942,
          22172,
          20516
         ],
         "yaxis": "y2"
        },
        {
         "connectgaps": false,
         "hovertemplate": "fnid=LS1980A101<br>indicator=yield<br>year=%{x}<br>value=%{y}<extra></extra>",
         "legendgroup": "LS1980A101",
         "line": {
          "color": "#636efa",
          "dash": "solid"
         },
         "marker": {
          "symbol": "circle"
         },
         "mode": "lines+markers",
         "name": "LS1980A101",
         "showlegend": false,
         "type": "scattergl",
         "x": [
          1982,
          1983,
          1984,
          1985,
          1986,
          1987,
          1988,
          1989,
          1990,
          1991,
          1992,
          1993,
          1994,
          1995,
          1996,
          1997,
          1998,
          1999,
          2000,
          2001,
          2002,
          2003,
          2004,
          2005,
          2006,
          2007,
          2008,
          2009,
          2010,
          2011,
          2012,
          2013,
          2014,
          2015,
          2016,
          2017,
          2018
         ],
         "xaxis": "x",
         "y": [
          0.7188940092165899,
          0.9390243902439024,
          0.5203619909502263,
          0.9331147540983606,
          0.7403738317757009,
          0.6560816326530612,
          0.9635763888888889,
          1.009399293286219,
          1.2361627906976744,
          0.3498611111111111,
          0.3584189723320158,
          0.5955981273206694,
          0.985545383788592,
          0.9022712933753944,
          1.4191909509202454,
          0.9125787529871823,
          2.0821509356364385,
          1.0108296733048554,
          1.2451761744966443,
          0.9854544192182184,
          0.8895947935228945,
          0.42828872973991705,
          0.44775411468956033,
          1.086710449036254,
          0.7357478202548625,
          0.36448480262328165,
          0.3393276871991941,
          0.3562440467238181,
          0.8560739068639746,
          0.330019275641676,
          0.47902995720399427,
          0.8781061328249126,
          0.8134962248322147,
          0.4725282743524261,
          0.3191510762422048,
          0.39685188526068915,
          0.42284070968999804
         ],
         "yaxis": "y"
        },
        {
         "connectgaps": false,
         "hovertemplate": "fnid=LS1980A102<br>indicator=production<br>year=%{x}<br>value=%{y}<extra></extra>",
         "legendgroup": "LS1980A102",
         "line": {
          "color": "#EF553B",
          "dash": "solid"
         },
         "marker": {
          "symbol": "circle"
         },
         "mode": "lines+markers",
         "name": "LS1980A102",
         "showlegend": true,
         "type": "scattergl",
         "x": [
          1982,
          1983,
          1984,
          1985,
          1986,
          1987,
          1988,
          1989,
          1990,
          1991,
          1992,
          1993,
          1994,
          1995,
          1996,
          1997,
          1998,
          1999,
          2000,
          2001,
          2002,
          2003,
          2004,
          2005,
          2006,
          2007,
          2008,
          2009,
          2010,
          2011,
          2012,
          2013,
          2014,
          2015,
          2016,
          2017,
          2018
         ],
         "xaxis": "x3",
         "y": [
          6000,
          6200,
          3900,
          4841,
          4389,
          4319,
          9711,
          7012,
          11689,
          2471,
          1521,
          9518,
          5356,
          8213,
          8774,
          7500,
          8409,
          7125,
          11063,
          4846,
          3220,
          1721,
          4880,
          6193,
          4075,
          2863,
          4306,
          2066,
          6948,
          3997,
          3884,
          3180,
          2540,
          3343,
          1117,
          9782,
          4075
         ],
         "yaxis": "y3"
        },
        {
         "connectgaps": false,
         "hovertemplate": "fnid=LS1980A102<br>indicator=area<br>year=%{x}<br>value=%{y}<extra></extra>",
         "legendgroup": "LS1980A102",
         "line": {
          "color": "#EF553B",
          "dash": "solid"
         },
         "marker": {
          "symbol": "circle"
         },
         "mode": "lines+markers",
         "name": "LS1980A102",
         "showlegend": false,
         "type": "scattergl",
         "x": [
          1982,
          1983,
          1984,
          1985,
          1986,
          1987,
          1988,
          1989,
          1990,
          1991,
          1992,
          1993,
          1994,
          1995,
          1996,
          1997,
          1998,
          1999,
          2000,
          2001,
          2002,
          2003,
          2004,
          2005,
          2006,
          2007,
          2008,
          2009,
          2010,
          2011,
          2012,
          2013,
          2014,
          2015,
          2016,
          2017,
          2018
         ],
         "xaxis": "x2",
         "y": [
          5800,
          6100,
          6200,
          8400,
          5800,
          6300,
          7400,
          7300,
          18700,
          4000,
          4200,
          5409,
          5591,
          7746,
          7551,
          3428,
          3144,
          4266,
          7909,
          5291,
          4732,
          7567,
          5846,
          4776,
          5682,
          7449,
          9581,
          5026,
          6747,
          6515,
          5741,
          5220,
          4000,
          4765,
          2451,
          9461,
          7632
         ],
         "yaxis": "y2"
        },
        {
         "connectgaps": false,
         "hovertemplate": "fnid=LS1980A102<br>indicator=yield<br>year=%{x}<br>value=%{y}<extra></extra>",
         "legendgroup": "LS1980A102",
         "line": {
          "color": "#EF553B",
          "dash": "solid"
         },
         "marker": {
          "symbol": "circle"
         },
         "mode": "lines+markers",
         "name": "LS1980A102",
         "showlegend": false,
         "type": "scattergl",
         "x": [
          1982,
          1983,
          1984,
          1985,
          1986,
          1987,
          1988,
          1989,
          1990,
          1991,
          1992,
          1993,
          1994,
          1995,
          1996,
          1997,
          1998,
          1999,
          2000,
          2001,
          2002,
          2003,
          2004,
          2005,
          2006,
          2007,
          2008,
          2009,
          2010,
          2011,
          2012,
          2013,
          2014,
          2015,
          2016,
          2017,
          2018
         ],
         "xaxis": "x",
         "y": [
          1.0344827586206897,
          1.0163934426229508,
          0.6290322580645161,
          0.5763095238095238,
          0.7567241379310344,
          0.6855555555555556,
          1.3122972972972973,
          0.9605479452054795,
          0.6250802139037434,
          0.61775,
          0.36214285714285716,
          1.7596598262155667,
          0.9579681631192989,
          1.060289181513039,
          1.161965302608926,
          2.1878646441073513,
          2.674618320610687,
          1.670182841068917,
          1.3987861929447465,
          0.9158949158949159,
          0.6804733727810651,
          0.22743491476146424,
          0.8347588094423537,
          1.2966917922948074,
          0.7171770503343893,
          0.38434689220029533,
          0.4494311658490763,
          0.4110624751293275,
          1.0297910182303245,
          0.6135072908672294,
          0.6765371886430935,
          0.6091954022988506,
          0.635,
          0.7015739769150052,
          0.45573235414116686,
          1.0339287601733431,
          0.5339360587002097
         ],
         "yaxis": "y"
        },
        {
         "connectgaps": false,
         "hovertemplate": "fnid=LS1980A103<br>indicator=production<br>year=%{x}<br>value=%{y}<extra></extra>",
         "legendgroup": "LS1980A103",
         "line": {
          "color": "#00cc96",
          "dash": "solid"
         },
         "marker": {
          "symbol": "circle"
         },
         "mode": "lines+markers",
         "name": "LS1980A103",
         "showlegend": true,
         "type": "scattergl",
         "x": [
          1982,
          1983,
          1984,
          1985,
          1986,
          1987,
          1988,
          1989,
          1990,
          1991,
          1992,
          1993,
          1994,
          1995,
          1996,
          1997,
          1998,
          1999,
          2000,
          2001,
          2002,
          2003,
          2004,
          2005,
          2006,
          2007,
          2008,
          2009,
          2010,
          2011,
          2012,
          2013,
          2014,
          2015,
          2016,
          2017,
          2018
         ],
         "xaxis": "x3",
         "y": [
          23300,
          23300,
          23400,
          27382,
          20964,
          28657,
          45522,
          34894,
          34869,
          12964,
          14083,
          25629,
          38137,
          15845,
          35828,
          23862,
          2399,
          31384,
          15484,
          28167,
          31140,
          29603,
          22157,
          8436,
          17764,
          16639,
          18461,
          9767,
          21846,
          14112,
          7598,
          13967,
          14319,
          18849,
          4285,
          45461,
          13103
         ],
         "yaxis": "y3"
        },
        {
         "connectgaps": false,
         "hovertemplate": "fnid=LS1980A103<br>indicator=area<br>year=%{x}<br>value=%{y}<extra></extra>",
         "legendgroup": "LS1980A103",
         "line": {
          "color": "#00cc96",
          "dash": "solid"
         },
         "marker": {
          "symbol": "circle"
         },
         "mode": "lines+markers",
         "name": "LS1980A103",
         "showlegend": false,
         "type": "scattergl",
         "x": [
          1982,
          1983,
          1984,
          1985,
          1986,
          1987,
          1988,
          1989,
          1990,
          1991,
          1992,
          1993,
          1994,
          1995,
          1996,
          1997,
          1998,
          1999,
          2000,
          2001,
          2002,
          2003,
          2004,
          2005,
          2006,
          2007,
          2008,
          2009,
          2010,
          2011,
          2012,
          2013,
          2014,
          2015,
          2016,
          2017,
          2018
         ],
         "xaxis": "x2",
         "y": [
          24300,
          23300,
          31900,
          33000,
          26300,
          35300,
          41500,
          40700,
          31000,
          20600,
          39200,
          24414,
          37580,
          22862,
          28371,
          28784,
          23318,
          29647,
          33955,
          37400,
          30469,
          32372,
          22977,
          20840,
          27377,
          24038,
          41181,
          21456,
          23862,
          22904,
          14151,
          19947,
          24655,
          18937,
          10685,
          33629,
          27259
         ],
         "yaxis": "y2"
        },
        {
         "connectgaps": false,
         "hovertemplate": "fnid=LS1980A103<br>indicator=yield<br>year=%{x}<br>value=%{y}<extra></extra>",
         "legendgroup": "LS1980A103",
         "line": {
          "color": "#00cc96",
          "dash": "solid"
         },
         "marker": {
          "symbol": "circle"
         },
         "mode": "lines+markers",
         "name": "LS1980A103",
         "showlegend": false,
         "type": "scattergl",
         "x": [
          1982,
          1983,
          1984,
          1985,
          1986,
          1987,
          1988,
          1989,
          1990,
          1991,
          1992,
          1993,
          1994,
          1995,
          1996,
          1997,
          1998,
          1999,
          2000,
          2001,
          2002,
          2003,
          2004,
          2005,
          2006,
          2007,
          2008,
          2009,
          2010,
          2011,
          2012,
          2013,
          2014,
          2015,
          2016,
          2017,
          2018
         ],
         "xaxis": "x",
         "y": [
          0.9588477366255144,
          1,
          0.7335423197492164,
          0.8297575757575758,
          0.7971102661596958,
          0.8118130311614731,
          1.0969156626506025,
          0.8573464373464373,
          1.1248064516129033,
          0.6293203883495145,
          0.3592602040816327,
          1.0497665274023102,
          1.014821713677488,
          0.6930714723121336,
          1.2628388142821896,
          0.8290022234574764,
          0.10288189381593618,
          1.058589401963099,
          0.45601531438668824,
          0.7531283422459893,
          1.0220223834060849,
          0.9144631162733227,
          0.9643121382251817,
          0.40479846449136275,
          0.6488658362859334,
          0.692195690157251,
          0.4482892596100143,
          0.4552106636838181,
          0.9155142066884586,
          0.6161369193154034,
          0.5369231856405907,
          0.7002055446934377,
          0.580774690732103,
          0.9953530126207952,
          0.4010294805802527,
          1.3518391864164858,
          0.4806852782567225
         ],
         "yaxis": "y"
        },
        {
         "connectgaps": false,
         "hovertemplate": "fnid=LS1980A104<br>indicator=production<br>year=%{x}<br>value=%{y}<extra></extra>",
         "legendgroup": "LS1980A104",
         "line": {
          "color": "#ab63fa",
          "dash": "solid"
         },
         "marker": {
          "symbol": "circle"
         },
         "mode": "lines+markers",
         "name": "LS1980A104",
         "showlegend": true,
         "type": "scattergl",
         "x": [
          1982,
          1983,
          1984,
          1985,
          1986,
          1987,
          1988,
          1989,
          1990,
          1991,
          1992,
          1993,
          1994,
          1995,
          1996,
          1997,
          1998,
          1999,
          2000,
          2001,
          2002,
          2003,
          2004,
          2005,
          2006,
          2007,
          2008,
          2009,
          2010,
          2011,
          2012,
          2013,
          2014,
          2015,
          2016,
          2017,
          2018
         ],
         "xaxis": "x3",
         "y": [
          4700,
          7900,
          8100,
          7008,
          7859,
          7711,
          12518,
          16444,
          25616,
          6984,
          10932,
          1558,
          15125,
          406,
          26232,
          15869,
          7178,
          5746,
          14492,
          19619,
          16386,
          11631,
          10389,
          6220,
          5721,
          3709,
          4867,
          6612,
          7745,
          5788,
          1850,
          10069,
          10191,
          3001,
          348,
          23948,
          5808
         ],
         "yaxis": "y3"
        },
        {
         "connectgaps": false,
         "hovertemplate": "fnid=LS1980A104<br>indicator=area<br>year=%{x}<br>value=%{y}<extra></extra>",
         "legendgroup": "LS1980A104",
         "line": {
          "color": "#ab63fa",
          "dash": "solid"
         },
         "marker": {
          "symbol": "circle"
         },
         "mode": "lines+markers",
         "name": "LS1980A104",
         "showlegend": false,
         "type": "scattergl",
         "x": [
          1982,
          1983,
          1984,
          1985,
          1986,
          1987,
          1988,
          1989,
          1990,
          1991,
          1992,
          1993,
          1994,
          1995,
          1996,
          1997,
          1998,
          1999,
          2000,
          2001,
          2002,
          2003,
          2004,
          2005,
          2006,
          2007,
          2008,
          2009,
          2010,
          2011,
          2012,
          2013,
          2014,
          2015,
          2016,
          2017,
          2018
         ],
         "xaxis": "x2",
         "y": [
          23300,
          23700,
          20700,
          19200,
          23100,
          27200,
          32000,
          31400,
          31300,
          15000,
          30400,
          17664,
          27611,
          7794,
          25929,
          31769,
          6422,
          14757,
          22975,
          33956,
          22029,
          19283,
          21291,
          19390,
          19895,
          16648,
          24968,
          27290,
          23292,
          25365,
          10961,
          16841,
          22326,
          19269,
          4449,
          21095,
          20848
         ],
         "yaxis": "y2"
        },
        {
         "connectgaps": false,
         "hovertemplate": "fnid=LS1980A104<br>indicator=yield<br>year=%{x}<br>value=%{y}<extra></extra>",
         "legendgroup": "LS1980A104",
         "line": {
          "color": "#ab63fa",
          "dash": "solid"
         },
         "marker": {
          "symbol": "circle"
         },
         "mode": "lines+markers",
         "name": "LS1980A104",
         "showlegend": false,
         "type": "scattergl",
         "x": [
          1982,
          1983,
          1984,
          1985,
          1986,
          1987,
          1988,
          1989,
          1990,
          1991,
          1992,
          1993,
          1994,
          1995,
          1996,
          1997,
          1998,
          1999,
          2000,
          2001,
          2002,
          2003,
          2004,
          2005,
          2006,
          2007,
          2008,
          2009,
          2010,
          2011,
          2012,
          2013,
          2014,
          2015,
          2016,
          2017,
          2018
         ],
         "xaxis": "x",
         "y": [
          0.2017167381974249,
          0.3333333333333333,
          0.391304347826087,
          0.365,
          0.3402164502164502,
          0.28349264705882354,
          0.3911875,
          0.5236942675159235,
          0.8184025559105431,
          0.4656,
          0.35960526315789476,
          0.08820199275362318,
          0.5477889247039224,
          0.0520913523222992,
          1.0116857572602105,
          0.4995121029934842,
          1.1177203363438182,
          0.389374534119401,
          0.630772578890098,
          0.577777123336082,
          0.7438376685278496,
          0.6031737800134834,
          0.4879526560518529,
          0.32078390923156264,
          0.28755968836391055,
          0.22278952426717924,
          0.1949295097725088,
          0.2422865518504947,
          0.3325176026103383,
          0.22818844864971416,
          0.1687802207827753,
          0.5978861112760525,
          0.4564633163128191,
          0.15574238414032904,
          0.0782198246797033,
          1.1352453187959233,
          0.27858787413660785
         ],
         "yaxis": "y"
        },
        {
         "connectgaps": false,
         "hovertemplate": "fnid=LS1980A105<br>indicator=production<br>year=%{x}<br>value=%{y}<extra></extra>",
         "legendgroup": "LS1980A105",
         "line": {
          "color": "#FFA15A",
          "dash": "solid"
         },
         "marker": {
          "symbol": "circle"
         },
         "mode": "lines+markers",
         "name": "LS1980A105",
         "showlegend": true,
         "type": "scattergl",
         "x": [
          1982,
          1983,
          1984,
          1985,
          1986,
          1987,
          1988,
          1989,
          1990,
          1991,
          1992,
          1993,
          1994,
          1995,
          1996,
          1997,
          1998,
          1999,
          2000,
          2001,
          2002,
          2003,
          2004,
          2005,
          2006,
          2007,
          2008,
          2009,
          2010,
          2011,
          2012,
          2013,
          2014,
          2015,
          2016,
          2017,
          2018
         ],
         "xaxis": "x3",
         "y": [
          10700,
          13700,
          13500,
          17002,
          18707,
          16146,
          30436,
          19862,
          28015,
          7085,
          7886,
          28346,
          22517,
          8191,
          38579,
          32035,
          21404,
          27552,
          26042,
          31586,
          19402,
          13246,
          14413,
          10263,
          23645,
          11003,
          12775,
          9007,
          23931,
          10145,
          7730,
          15671,
          15044,
          14873,
          4766,
          52794,
          13266
         ],
         "yaxis": "y3"
        },
        {
         "connectgaps": false,
         "hovertemplate": "fnid=LS1980A105<br>indicator=area<br>year=%{x}<br>value=%{y}<extra></extra>",
         "legendgroup": "LS1980A105",
         "line": {
          "color": "#FFA15A",
          "dash": "solid"
         },
         "marker": {
          "symbol": "circle"
         },
         "mode": "lines+markers",
         "name": "LS1980A105",
         "showlegend": false,
         "type": "scattergl",
         "x": [
          1982,
          1983,
          1984,
          1985,
          1986,
          1987,
          1988,
          1989,
          1990,
          1991,
          1992,
          1993,
          1994,
          1995,
          1996,
          1997,
          1998,
          1999,
          2000,
          2001,
          2002,
          2003,
          2004,
          2005,
          2006,
          2007,
          2008,
          2009,
          2010,
          2011,
          2012,
          2013,
          2014,
          2015,
          2016,
          2017,
          2018
         ],
         "xaxis": "x2",
         "y": [
          18400,
          18000,
          19900,
          23800,
          24300,
          25600,
          30100,
          29500,
          25900,
          15800,
          22000,
          19520,
          32370,
          12745,
          28465,
          31629,
          15117,
          23545,
          28945,
          31835,
          22080,
          21558,
          19542,
          18230,
          33711,
          23375,
          34560,
          14996,
          24822,
          24133,
          13839,
          18175,
          19598,
          22177,
          13781,
          33624,
          21881
         ],
         "yaxis": "y2"
        },
        {
         "connectgaps": false,
         "hovertemplate": "fnid=LS1980A105<br>indicator=yield<br>year=%{x}<br>value=%{y}<extra></extra>",
         "legendgroup": "LS1980A105",
         "line": {
          "color": "#FFA15A",
          "dash": "solid"
         },
         "marker": {
          "symbol": "circle"
         },
         "mode": "lines+markers",
         "name": "LS1980A105",
         "showlegend": false,
         "type": "scattergl",
         "x": [
          1982,
          1983,
          1984,
          1985,
          1986,
          1987,
          1988,
          1989,
          1990,
          1991,
          1992,
          1993,
          1994,
          1995,
          1996,
          1997,
          1998,
          1999,
          2000,
          2001,
          2002,
          2003,
          2004,
          2005,
          2006,
          2007,
          2008,
          2009,
          2010,
          2011,
          2012,
          2013,
          2014,
          2015,
          2016,
          2017,
          2018
         ],
         "xaxis": "x",
         "y": [
          0.5815217391304348,
          0.7611111111111111,
          0.678391959798995,
          0.7143697478991596,
          0.7698353909465021,
          0.630703125,
          1.0111627906976743,
          0.6732881355932203,
          1.0816602316602317,
          0.44841772151898734,
          0.35845454545454547,
          1.4521516393442624,
          0.6956132221192463,
          0.6426834052569635,
          1.3553135429474794,
          1.0128363210977267,
          1.4158893960441887,
          1.1701847526014015,
          0.8997063396096044,
          0.9921784199780116,
          0.878713768115942,
          0.6144354763892754,
          0.7375396581721421,
          0.5629731212287439,
          0.7014031028447688,
          0.47071657754010693,
          0.36964699074074076,
          0.6006268338223526,
          0.9641044234952865,
          0.42037873451290764,
          0.5585663704024857,
          0.8622283356258597,
          0.7676293499336667,
          0.6706497722866033,
          0.3458384732602859,
          1.5701284796573876,
          0.6062794205018052
         ],
         "yaxis": "y"
        },
        {
         "connectgaps": false,
         "hovertemplate": "fnid=LS1980A106<br>indicator=production<br>year=%{x}<br>value=%{y}<extra></extra>",
         "legendgroup": "LS1980A106",
         "line": {
          "color": "#19d3f3",
          "dash": "solid"
         },
         "marker": {
          "symbol": "circle"
         },
         "mode": "lines+markers",
         "name": "LS1980A106",
         "showlegend": true,
         "type": "scattergl",
         "x": [
          1982,
          1983,
          1984,
          1985,
          1986,
          1987,
          1988,
          1989,
          1990,
          1991,
          1992,
          1993,
          1994,
          1995,
          1996,
          1997,
          1998,
          1999,
          2000,
          2001,
          2002,
          2003,
          2004,
          2005,
          2006,
          2007,
          2008,
          2009,
          2010,
          2011,
          2012,
          2013,
          2014,
          2015,
          2016,
          2017,
          2018
         ],
         "xaxis": "x3",
         "y": [
          7800,
          1200,
          1500,
          4174,
          6376,
          4480,
          11233,
          7912,
          10153,
          2820,
          4393,
          1124,
          12646,
          2011,
          13060,
          16123,
          18753,
          9722,
          7560,
          17919,
          5395,
          8862,
          6385,
          6824,
          4234,
          6210,
          5217,
          5113,
          8640,
          6791,
          2297,
          3529,
          11167,
          4068,
          1970,
          15062,
          4872
         ],
         "yaxis": "y3"
        },
        {
         "connectgaps": false,
         "hovertemplate": "fnid=LS1980A106<br>indicator=area<br>year=%{x}<br>value=%{y}<extra></extra>",
         "legendgroup": "LS1980A106",
         "line": {
          "color": "#19d3f3",
          "dash": "solid"
         },
         "marker": {
          "symbol": "circle"
         },
         "mode": "lines+markers",
         "name": "LS1980A106",
         "showlegend": false,
         "type": "scattergl",
         "x": [
          1982,
          1983,
          1984,
          1985,
          1986,
          1987,
          1988,
          1989,
          1990,
          1991,
          1992,
          1993,
          1994,
          1995,
          1996,
          1997,
          1998,
          1999,
          2000,
          2001,
          2002,
          2003,
          2004,
          2005,
          2006,
          2007,
          2008,
          2009,
          2010,
          2011,
          2012,
          2013,
          2014,
          2015,
          2016,
          2017,
          2018
         ],
         "xaxis": "x2",
         "y": [
          14500,
          9200,
          7300,
          12100,
          14700,
          16100,
          18900,
          18950,
          11000,
          6000,
          12200,
          5885,
          14480,
          2749,
          11814,
          18333,
          10345,
          16014,
          13248,
          24727,
          12778,
          12547,
          12627,
          12509,
          9506,
          18791,
          27019,
          19094,
          16131,
          17808,
          8306,
          8640,
          18145,
          9671,
          6042,
          15383,
          12062
         ],
         "yaxis": "y2"
        },
        {
         "connectgaps": false,
         "hovertemplate": "fnid=LS1980A106<br>indicator=yield<br>year=%{x}<br>value=%{y}<extra></extra>",
         "legendgroup": "LS1980A106",
         "line": {
          "color": "#19d3f3",
          "dash": "solid"
         },
         "marker": {
          "symbol": "circle"
         },
         "mode": "lines+markers",
         "name": "LS1980A106",
         "showlegend": false,
         "type": "scattergl",
         "x": [
          1982,
          1983,
          1984,
          1985,
          1986,
          1987,
          1988,
          1989,
          1990,
          1991,
          1992,
          1993,
          1994,
          1995,
          1996,
          1997,
          1998,
          1999,
          2000,
          2001,
          2002,
          2003,
          2004,
          2005,
          2006,
          2007,
          2008,
          2009,
          2010,
          2011,
          2012,
          2013,
          2014,
          2015,
          2016,
          2017,
          2018
         ],
         "xaxis": "x",
         "y": [
          0.5379310344827586,
          0.13043478260869565,
          0.2054794520547945,
          0.3449586776859504,
          0.4337414965986395,
          0.2782608695652174,
          0.5943386243386244,
          0.4175197889182058,
          0.923,
          0.47,
          0.36008196721311475,
          0.19099405267629566,
          0.8733425414364641,
          0.7315387413604947,
          1.1054680887083121,
          0.8794523536791578,
          1.8127597873368777,
          0.6070937929311853,
          0.5706521739130435,
          0.724673433898168,
          0.4222100485208953,
          0.706304295847613,
          0.5056624693117922,
          0.5455272204013111,
          0.445402903429413,
          0.33047735618115054,
          0.19308634664495355,
          0.2677804545930659,
          0.5356146550120885,
          0.38134546271338726,
          0.27654707440404525,
          0.40844907407407405,
          0.6154312482777625,
          0.4206390238858443,
          0.3260509764978484,
          0.9791328089449393,
          0.4039131155695573
         ],
         "yaxis": "y"
        },
        {
         "connectgaps": false,
         "hovertemplate": "fnid=LS1980A107<br>indicator=production<br>year=%{x}<br>value=%{y}<extra></extra>",
         "legendgroup": "LS1980A107",
         "line": {
          "color": "#FF6692",
          "dash": "solid"
         },
         "marker": {
          "symbol": "circle"
         },
         "mode": "lines+markers",
         "name": "LS1980A107",
         "showlegend": true,
         "type": "scattergl",
         "x": [
          1982,
          1983,
          1984,
          1985,
          1986,
          1987,
          1988,
          1989,
          1990,
          1991,
          1992,
          1993,
          1994,
          1995,
          1996,
          1997,
          1998,
          1999,
          2000,
          2001,
          2002,
          2003,
          2004,
          2005,
          2006,
          2007,
          2008,
          2009,
          2010,
          2011,
          2012,
          2013,
          2014,
          2015,
          2016,
          2017,
          2018
         ],
         "xaxis": "x3",
         "y": [
          2600,
          4000,
          6200,
          2603,
          3188,
          2305,
          5159,
          7568,
          5669,
          2664,
          2865,
          4034,
          6203,
          4375,
          12252,
          6376,
          13860,
          5990,
          4638,
          8122,
          2931,
          1652,
          3840,
          4730,
          4463,
          2444,
          3318,
          6615,
          17315,
          11213,
          7278,
          13493,
          10531,
          8197,
          3933,
          11289,
          3622
         ],
         "yaxis": "y3"
        },
        {
         "connectgaps": false,
         "hovertemplate": "fnid=LS1980A107<br>indicator=area<br>year=%{x}<br>value=%{y}<extra></extra>",
         "legendgroup": "LS1980A107",
         "line": {
          "color": "#FF6692",
          "dash": "solid"
         },
         "marker": {
          "symbol": "circle"
         },
         "mode": "lines+markers",
         "name": "LS1980A107",
         "showlegend": false,
         "type": "scattergl",
         "x": [
          1982,
          1983,
          1984,
          1985,
          1986,
          1987,
          1988,
          1989,
          1990,
          1991,
          1992,
          1993,
          1994,
          1995,
          1996,
          1997,
          1998,
          1999,
          2000,
          2001,
          2002,
          2003,
          2004,
          2005,
          2006,
          2007,
          2008,
          2009,
          2010,
          2011,
          2012,
          2013,
          2014,
          2015,
          2016,
          2017,
          2018
         ],
         "xaxis": "x2",
         "y": [
          5400,
          8700,
          7400,
          7100,
          5300,
          5500,
          6700,
          6400,
          12300,
          6500,
          8000,
          6471,
          6724,
          6619,
          7453,
          5894,
          10184,
          10144,
          9103,
          9388,
          7622,
          6491,
          8099,
          4901,
          6235,
          5554,
          8880,
          8373,
          11156,
          13093,
          14547,
          9818,
          17189,
          6901,
          9882,
          9879,
          10114
         ],
         "yaxis": "y2"
        },
        {
         "connectgaps": false,
         "hovertemplate": "fnid=LS1980A107<br>indicator=yield<br>year=%{x}<br>value=%{y}<extra></extra>",
         "legendgroup": "LS1980A107",
         "line": {
          "color": "#FF6692",
          "dash": "solid"
         },
         "marker": {
          "symbol": "circle"
         },
         "mode": "lines+markers",
         "name": "LS1980A107",
         "showlegend": false,
         "type": "scattergl",
         "x": [
          1982,
          1983,
          1984,
          1985,
          1986,
          1987,
          1988,
          1989,
          1990,
          1991,
          1992,
          1993,
          1994,
          1995,
          1996,
          1997,
          1998,
          1999,
          2000,
          2001,
          2002,
          2003,
          2004,
          2005,
          2006,
          2007,
          2008,
          2009,
          2010,
          2011,
          2012,
          2013,
          2014,
          2015,
          2016,
          2017,
          2018
         ],
         "xaxis": "x",
         "y": [
          0.48148148148148145,
          0.45977011494252873,
          0.8378378378378378,
          0.3666197183098592,
          0.6015094339622642,
          0.41909090909090907,
          0.77,
          1.1825,
          0.4608943089430894,
          0.40984615384615386,
          0.358125,
          0.6233966929377222,
          0.9225163593099346,
          0.6609759782444478,
          1.6439017845163022,
          1.0817780794027825,
          1.3609583660644147,
          0.5904968454258676,
          0.5095023618587279,
          0.8651469961653174,
          0.38454473891367097,
          0.25450623940841166,
          0.4741326089640696,
          0.9651091613956335,
          0.7157979149959903,
          0.44004321209938785,
          0.37364864864864866,
          0.7900394123969904,
          1.5520795984223736,
          0.8564118231115864,
          0.5003093421323984,
          1.3743124872682828,
          0.6126592588283204,
          1.1877988697290247,
          0.39799635701275043,
          1.142726996659581,
          0.35811746094522445
         ],
         "yaxis": "y"
        },
        {
         "connectgaps": false,
         "hovertemplate": "fnid=LS1980A108<br>indicator=production<br>year=%{x}<br>value=%{y}<extra></extra>",
         "legendgroup": "LS1980A108",
         "line": {
          "color": "#B6E880",
          "dash": "solid"
         },
         "marker": {
          "symbol": "circle"
         },
         "mode": "lines+markers",
         "name": "LS1980A108",
         "showlegend": true,
         "type": "scattergl",
         "x": [
          1982,
          1983,
          1984,
          1985,
          1986,
          1987,
          1988,
          1989,
          1990,
          1991,
          1992,
          1993,
          1994,
          1995,
          1996,
          1997,
          1998,
          1999,
          2000,
          2001,
          2002,
          2003,
          2004,
          2005,
          2006,
          2007,
          2008,
          2009,
          2010,
          2011,
          2012,
          2013,
          2014,
          2015,
          2016,
          2017,
          2018
         ],
         "xaxis": "x3",
         "y": [
          3000,
          600,
          1100,
          2117,
          993,
          2730,
          2891,
          3749,
          2157,
          1764,
          1907,
          2030,
          3437,
          914,
          3065,
          3587,
          1474,
          1120,
          3416,
          2871,
          2948,
          120,
          258,
          1550,
          1223,
          660,
          844,
          2614,
          7785,
          1702,
          760,
          1696,
          944,
          396,
          1607,
          7369,
          1594
         ],
         "yaxis": "y3"
        },
        {
         "connectgaps": false,
         "hovertemplate": "fnid=LS1980A108<br>indicator=area<br>year=%{x}<br>value=%{y}<extra></extra>",
         "legendgroup": "LS1980A108",
         "line": {
          "color": "#B6E880",
          "dash": "solid"
         },
         "marker": {
          "symbol": "circle"
         },
         "mode": "lines+markers",
         "name": "LS1980A108",
         "showlegend": false,
         "type": "scattergl",
         "x": [
          1982,
          1983,
          1984,
          1985,
          1986,
          1987,
          1988,
          1989,
          1990,
          1991,
          1992,
          1993,
          1994,
          1995,
          1996,
          1997,
          1998,
          1999,
          2000,
          2001,
          2002,
          2003,
          2004,
          2005,
          2006,
          2007,
          2008,
          2009,
          2010,
          2011,
          2012,
          2013,
          2014,
          2015,
          2016,
          2017,
          2018
         ],
         "xaxis": "x2",
         "y": [
          4800,
          3500,
          3200,
          3900,
          4400,
          4400,
          5200,
          5100,
          8400,
          5500,
          5300,
          4504,
          9623,
          5348,
          5719,
          3867,
          2502,
          3133,
          5171,
          4605,
          3550,
          2304,
          605,
          2812,
          3648,
          5564,
          8412,
          6804,
          4460,
          4762,
          5010,
          3980,
          2524,
          2301,
          4387,
          10125,
          3858
         ],
         "yaxis": "y2"
        },
        {
         "connectgaps": false,
         "hovertemplate": "fnid=LS1980A108<br>indicator=yield<br>year=%{x}<br>value=%{y}<extra></extra>",
         "legendgroup": "LS1980A108",
         "line": {
          "color": "#B6E880",
          "dash": "solid"
         },
         "marker": {
          "symbol": "circle"
         },
         "mode": "lines+markers",
         "name": "LS1980A108",
         "showlegend": false,
         "type": "scattergl",
         "x": [
          1982,
          1983,
          1984,
          1985,
          1986,
          1987,
          1988,
          1989,
          1990,
          1991,
          1992,
          1993,
          1994,
          1995,
          1996,
          1997,
          1998,
          1999,
          2000,
          2001,
          2002,
          2003,
          2004,
          2005,
          2006,
          2007,
          2008,
          2009,
          2010,
          2011,
          2012,
          2013,
          2014,
          2015,
          2016,
          2017,
          2018
         ],
         "xaxis": "x",
         "y": [
          0.625,
          0.17142857142857143,
          0.34375,
          0.5428205128205128,
          0.22568181818181818,
          0.6204545454545455,
          0.5559615384615385,
          0.7350980392156863,
          0.2567857142857143,
          0.32072727272727275,
          0.359811320754717,
          0.45071047957371224,
          0.3571651252208251,
          0.17090501121914733,
          0.5359328553942997,
          0.9275924489268167,
          0.5891286970423661,
          0.35748483881263965,
          0.6606072326435892,
          0.6234527687296417,
          0.8304225352112676,
          0.052083333333333336,
          0.42644628099173554,
          0.5512091038406828,
          0.3352521929824561,
          0.1186196980589504,
          0.10033285782215882,
          0.38418577307466195,
          1.7455156950672646,
          0.35741285174296517,
          0.15169660678642716,
          0.42613065326633165,
          0.37400950871632327,
          0.17209908735332463,
          0.3663095509459767,
          0.7278024691358025,
          0.4131674442716433
         ],
         "yaxis": "y"
        },
        {
         "connectgaps": false,
         "hovertemplate": "fnid=LS1980A109<br>indicator=production<br>year=%{x}<br>value=%{y}<extra></extra>",
         "legendgroup": "LS1980A109",
         "line": {
          "color": "#FF97FF",
          "dash": "solid"
         },
         "marker": {
          "symbol": "circle"
         },
         "mode": "lines+markers",
         "name": "LS1980A109",
         "showlegend": true,
         "type": "scattergl",
         "x": [
          1982,
          1983,
          1984,
          1985,
          1986,
          1987,
          1988,
          1989,
          1990,
          1991,
          1992,
          1993,
          1994,
          1995,
          1996,
          1997,
          1998,
          1999,
          2000,
          2001,
          2002,
          2003,
          2004,
          2005,
          2006,
          2007,
          2008,
          2009,
          2010,
          2011,
          2012,
          2013,
          2014,
          2015,
          2016,
          2017,
          2018
         ],
         "xaxis": "x3",
         "y": [
          5000,
          1400,
          4100,
          2399,
          3071,
          7700,
          8091,
          7333,
          11100,
          2052,
          3012,
          609,
          6626,
          1191,
          5607,
          5294,
          6958,
          6495,
          9527,
          7236,
          1668,
          2587,
          3125,
          4434,
          2751,
          1585,
          2214,
          2336,
          3948,
          4638,
          1958,
          2813,
          3469,
          1911,
          675,
          4478,
          2659
         ],
         "yaxis": "y3"
        },
        {
         "connectgaps": false,
         "hovertemplate": "fnid=LS1980A109<br>indicator=area<br>year=%{x}<br>value=%{y}<extra></extra>",
         "legendgroup": "LS1980A109",
         "line": {
          "color": "#FF97FF",
          "dash": "solid"
         },
         "marker": {
          "symbol": "circle"
         },
         "mode": "lines+markers",
         "name": "LS1980A109",
         "showlegend": false,
         "type": "scattergl",
         "x": [
          1982,
          1983,
          1984,
          1985,
          1986,
          1987,
          1988,
          1989,
          1990,
          1991,
          1992,
          1993,
          1994,
          1995,
          1996,
          1997,
          1998,
          1999,
          2000,
          2001,
          2002,
          2003,
          2004,
          2005,
          2006,
          2007,
          2008,
          2009,
          2010,
          2011,
          2012,
          2013,
          2014,
          2015,
          2016,
          2017,
          2018
         ],
         "xaxis": "x2",
         "y": [
          8800,
          8300,
          10500,
          7700,
          7500,
          7100,
          8300,
          8200,
          10600,
          7000,
          8400,
          9569,
          7473,
          1789,
          5091,
          5469,
          5019,
          7499,
          7617,
          7311,
          4778,
          5927,
          6710,
          7215,
          5132,
          5327,
          8675,
          5222,
          5960,
          4407,
          6467,
          6766,
          5535,
          4438,
          2934,
          5315,
          5623
         ],
         "yaxis": "y2"
        },
        {
         "connectgaps": false,
         "hovertemplate": "fnid=LS1980A109<br>indicator=yield<br>year=%{x}<br>value=%{y}<extra></extra>",
         "legendgroup": "LS1980A109",
         "line": {
          "color": "#FF97FF",
          "dash": "solid"
         },
         "marker": {
          "symbol": "circle"
         },
         "mode": "lines+markers",
         "name": "LS1980A109",
         "showlegend": false,
         "type": "scattergl",
         "x": [
          1982,
          1983,
          1984,
          1985,
          1986,
          1987,
          1988,
          1989,
          1990,
          1991,
          1992,
          1993,
          1994,
          1995,
          1996,
          1997,
          1998,
          1999,
          2000,
          2001,
          2002,
          2003,
          2004,
          2005,
          2006,
          2007,
          2008,
          2009,
          2010,
          2011,
          2012,
          2013,
          2014,
          2015,
          2016,
          2017,
          2018
         ],
         "xaxis": "x",
         "y": [
          0.5681818181818182,
          0.1686746987951807,
          0.3904761904761905,
          0.31155844155844153,
          0.40946666666666665,
          1.0845070422535212,
          0.9748192771084337,
          0.8942682926829268,
          1.0471698113207548,
          0.29314285714285715,
          0.3585714285714286,
          0.06364301389904901,
          0.8866586377626121,
          0.6657350475125768,
          1.1013553329404833,
          0.9680014627902724,
          1.3863319386331938,
          0.8661154820642752,
          1.2507548903767887,
          0.9897414854329093,
          0.34910004185851823,
          0.4364771385186435,
          0.46572280178837555,
          0.6145530145530146,
          0.5360483242400623,
          0.2975408297353107,
          0.25521613832853024,
          0.44733818460360014,
          0.6624161073825503,
          1.0524166099387338,
          0.3027678985619298,
          0.41575524682234705,
          0.6267389340560072,
          0.4305993690851735,
          0.23006134969325154,
          0.8425211665098777,
          0.472879245954117
         ],
         "yaxis": "y"
        },
        {
         "connectgaps": false,
         "hovertemplate": "fnid=LS1980A110<br>indicator=production<br>year=%{x}<br>value=%{y}<extra></extra>",
         "legendgroup": "LS1980A110",
         "line": {
          "color": "#FECB52",
          "dash": "solid"
         },
         "marker": {
          "symbol": "circle"
         },
         "mode": "lines+markers",
         "name": "LS1980A110",
         "showlegend": true,
         "type": "scattergl",
         "x": [
          1982,
          1983,
          1984,
          1985,
          1986,
          1987,
          1988,
          1989,
          1990,
          1991,
          1992,
          1993,
          1994,
          1995,
          1996,
          1997,
          1998,
          1999,
          2000,
          2001,
          2002,
          2003,
          2004,
          2005,
          2006,
          2007,
          2008,
          2009,
          2010,
          2011,
          2012,
          2013,
          2014,
          2015,
          2016,
          2017,
          2018
         ],
         "xaxis": "x3",
         "y": [
          4300,
          2400,
          6100,
          2056,
          5097,
          4790,
          6414,
          3887,
          10415,
          2557,
          5406,
          7889,
          12424,
          7998,
          15482,
          10401,
          17993,
          12614,
          10841,
          9436,
          5151,
          6520,
          6111,
          9736,
          5351,
          6529,
          4445,
          5890,
          9578,
          5419,
          4078,
          8089,
          6353,
          4523,
          3561,
          21160,
          6980
         ],
         "yaxis": "y3"
        },
        {
         "connectgaps": false,
         "hovertemplate": "fnid=LS1980A110<br>indicator=area<br>year=%{x}<br>value=%{y}<extra></extra>",
         "legendgroup": "LS1980A110",
         "line": {
          "color": "#FECB52",
          "dash": "solid"
         },
         "marker": {
          "symbol": "circle"
         },
         "mode": "lines+markers",
         "name": "LS1980A110",
         "showlegend": false,
         "type": "scattergl",
         "x": [
          1982,
          1983,
          1984,
          1985,
          1986,
          1987,
          1988,
          1989,
          1990,
          1991,
          1992,
          1993,
          1994,
          1995,
          1996,
          1997,
          1998,
          1999,
          2000,
          2001,
          2002,
          2003,
          2004,
          2005,
          2006,
          2007,
          2008,
          2009,
          2010,
          2011,
          2012,
          2013,
          2014,
          2015,
          2016,
          2017,
          2018
         ],
         "xaxis": "x2",
         "y": [
          9700,
          9800,
          9500,
          6400,
          8600,
          9400,
          11000,
          10800,
          12800,
          10400,
          15100,
          11175,
          13340,
          8426,
          14419,
          9626,
          12328,
          15174,
          12570,
          11718,
          11910,
          8312,
          10656,
          10609,
          10921,
          20710,
          15666,
          13399,
          11366,
          8284,
          8174,
          9421,
          12622,
          9475,
          8953,
          13818,
          16521
         ],
         "yaxis": "y2"
        },
        {
         "connectgaps": false,
         "hovertemplate": "fnid=LS1980A110<br>indicator=yield<br>year=%{x}<br>value=%{y}<extra></extra>",
         "legendgroup": "LS1980A110",
         "line": {
          "color": "#FECB52",
          "dash": "solid"
         },
         "marker": {
          "symbol": "circle"
         },
         "mode": "lines+markers",
         "name": "LS1980A110",
         "showlegend": false,
         "type": "scattergl",
         "x": [
          1982,
          1983,
          1984,
          1985,
          1986,
          1987,
          1988,
          1989,
          1990,
          1991,
          1992,
          1993,
          1994,
          1995,
          1996,
          1997,
          1998,
          1999,
          2000,
          2001,
          2002,
          2003,
          2004,
          2005,
          2006,
          2007,
          2008,
          2009,
          2010,
          2011,
          2012,
          2013,
          2014,
          2015,
          2016,
          2017,
          2018
         ],
         "xaxis": "x",
         "y": [
          0.44329896907216493,
          0.24489795918367346,
          0.6421052631578947,
          0.32125,
          0.5926744186046512,
          0.5095744680851064,
          0.5830909090909091,
          0.3599074074074074,
          0.813671875,
          0.24586538461538462,
          0.3580132450331126,
          0.7059507829977628,
          0.9313343328335832,
          0.9492048421552338,
          1.0737221721339898,
          1.080511115728236,
          1.4595230369889682,
          0.8312903650981943,
          0.8624502784407319,
          0.8052568697729988,
          0.43249370277078086,
          0.7844080846968239,
          0.5734797297297297,
          0.9177113771326233,
          0.48997344565515977,
          0.3152583293095123,
          0.2837354781054513,
          0.43958504365997464,
          0.8426887207460848,
          0.6541525832930951,
          0.4988989478835332,
          0.8586137352722641,
          0.5033275233718904,
          0.47736147757255937,
          0.39774377303697084,
          1.5313359386307714,
          0.4224925851946008
         ],
         "yaxis": "y"
        }
       ],
       "layout": {
        "annotations": [
         {
          "showarrow": false,
          "text": "",
          "textangle": 90,
          "x": 0.98,
          "xanchor": "left",
          "xref": "paper",
          "y": 0.16333333333333333,
          "yanchor": "middle",
          "yref": "paper"
         },
         {
          "showarrow": false,
          "text": "",
          "textangle": 90,
          "x": 0.98,
          "xanchor": "left",
          "xref": "paper",
          "y": 0.5,
          "yanchor": "middle",
          "yref": "paper"
         },
         {
          "showarrow": false,
          "text": "",
          "textangle": 90,
          "x": 0.98,
          "xanchor": "left",
          "xref": "paper",
          "y": 0.8366666666666667,
          "yanchor": "middle",
          "yref": "paper"
         },
         {
          "align": "left",
          "font": {
           "color": "dimgrey",
           "family": "arial",
           "size": 15
          },
          "showarrow": false,
          "text": "Production-Area-Yield (PAY) time-series of LS - Maize - Summer",
          "x": -0.014,
          "xref": "paper",
          "y": -0.14,
          "yref": "paper"
         }
        ],
        "font": {
         "color": "black",
         "family": "arial",
         "size": 16
        },
        "height": 600,
        "legend": {
         "font": {
          "size": 14
         },
         "title": {
          "text": "FNID"
         },
         "tracegroupgap": 0,
         "x": 1,
         "xanchor": "left",
         "y": 1,
         "yanchor": "top"
        },
        "margin": {
         "b": 25,
         "l": 0,
         "r": 0,
         "t": 0
        },
        "template": {
         "data": {
          "bar": [
           {
            "error_x": {
             "color": "#2a3f5f"
            },
            "error_y": {
             "color": "#2a3f5f"
            },
            "marker": {
             "line": {
              "color": "#E5ECF6",
              "width": 0.5
             },
             "pattern": {
              "fillmode": "overlay",
              "size": 10,
              "solidity": 0.2
             }
            },
            "type": "bar"
           }
          ],
          "barpolar": [
           {
            "marker": {
             "line": {
              "color": "#E5ECF6",
              "width": 0.5
             },
             "pattern": {
              "fillmode": "overlay",
              "size": 10,
              "solidity": 0.2
             }
            },
            "type": "barpolar"
           }
          ],
          "carpet": [
           {
            "aaxis": {
             "endlinecolor": "#2a3f5f",
             "gridcolor": "white",
             "linecolor": "white",
             "minorgridcolor": "white",
             "startlinecolor": "#2a3f5f"
            },
            "baxis": {
             "endlinecolor": "#2a3f5f",
             "gridcolor": "white",
             "linecolor": "white",
             "minorgridcolor": "white",
             "startlinecolor": "#2a3f5f"
            },
            "type": "carpet"
           }
          ],
          "choropleth": [
           {
            "colorbar": {
             "outlinewidth": 0,
             "ticks": ""
            },
            "type": "choropleth"
           }
          ],
          "contour": [
           {
            "colorbar": {
             "outlinewidth": 0,
             "ticks": ""
            },
            "colorscale": [
             [
              0,
              "#0d0887"
             ],
             [
              0.1111111111111111,
              "#46039f"
             ],
             [
              0.2222222222222222,
              "#7201a8"
             ],
             [
              0.3333333333333333,
              "#9c179e"
             ],
             [
              0.4444444444444444,
              "#bd3786"
             ],
             [
              0.5555555555555556,
              "#d8576b"
             ],
             [
              0.6666666666666666,
              "#ed7953"
             ],
             [
              0.7777777777777778,
              "#fb9f3a"
             ],
             [
              0.8888888888888888,
              "#fdca26"
             ],
             [
              1,
              "#f0f921"
             ]
            ],
            "type": "contour"
           }
          ],
          "contourcarpet": [
           {
            "colorbar": {
             "outlinewidth": 0,
             "ticks": ""
            },
            "type": "contourcarpet"
           }
          ],
          "heatmap": [
           {
            "colorbar": {
             "outlinewidth": 0,
             "ticks": ""
            },
            "colorscale": [
             [
              0,
              "#0d0887"
             ],
             [
              0.1111111111111111,
              "#46039f"
             ],
             [
              0.2222222222222222,
              "#7201a8"
             ],
             [
              0.3333333333333333,
              "#9c179e"
             ],
             [
              0.4444444444444444,
              "#bd3786"
             ],
             [
              0.5555555555555556,
              "#d8576b"
             ],
             [
              0.6666666666666666,
              "#ed7953"
             ],
             [
              0.7777777777777778,
              "#fb9f3a"
             ],
             [
              0.8888888888888888,
              "#fdca26"
             ],
             [
              1,
              "#f0f921"
             ]
            ],
            "type": "heatmap"
           }
          ],
          "heatmapgl": [
           {
            "colorbar": {
             "outlinewidth": 0,
             "ticks": ""
            },
            "colorscale": [
             [
              0,
              "#0d0887"
             ],
             [
              0.1111111111111111,
              "#46039f"
             ],
             [
              0.2222222222222222,
              "#7201a8"
             ],
             [
              0.3333333333333333,
              "#9c179e"
             ],
             [
              0.4444444444444444,
              "#bd3786"
             ],
             [
              0.5555555555555556,
              "#d8576b"
             ],
             [
              0.6666666666666666,
              "#ed7953"
             ],
             [
              0.7777777777777778,
              "#fb9f3a"
             ],
             [
              0.8888888888888888,
              "#fdca26"
             ],
             [
              1,
              "#f0f921"
             ]
            ],
            "type": "heatmapgl"
           }
          ],
          "histogram": [
           {
            "marker": {
             "pattern": {
              "fillmode": "overlay",
              "size": 10,
              "solidity": 0.2
             }
            },
            "type": "histogram"
           }
          ],
          "histogram2d": [
           {
            "colorbar": {
             "outlinewidth": 0,
             "ticks": ""
            },
            "colorscale": [
             [
              0,
              "#0d0887"
             ],
             [
              0.1111111111111111,
              "#46039f"
             ],
             [
              0.2222222222222222,
              "#7201a8"
             ],
             [
              0.3333333333333333,
              "#9c179e"
             ],
             [
              0.4444444444444444,
              "#bd3786"
             ],
             [
              0.5555555555555556,
              "#d8576b"
             ],
             [
              0.6666666666666666,
              "#ed7953"
             ],
             [
              0.7777777777777778,
              "#fb9f3a"
             ],
             [
              0.8888888888888888,
              "#fdca26"
             ],
             [
              1,
              "#f0f921"
             ]
            ],
            "type": "histogram2d"
           }
          ],
          "histogram2dcontour": [
           {
            "colorbar": {
             "outlinewidth": 0,
             "ticks": ""
            },
            "colorscale": [
             [
              0,
              "#0d0887"
             ],
             [
              0.1111111111111111,
              "#46039f"
             ],
             [
              0.2222222222222222,
              "#7201a8"
             ],
             [
              0.3333333333333333,
              "#9c179e"
             ],
             [
              0.4444444444444444,
              "#bd3786"
             ],
             [
              0.5555555555555556,
              "#d8576b"
             ],
             [
              0.6666666666666666,
              "#ed7953"
             ],
             [
              0.7777777777777778,
              "#fb9f3a"
             ],
             [
              0.8888888888888888,
              "#fdca26"
             ],
             [
              1,
              "#f0f921"
             ]
            ],
            "type": "histogram2dcontour"
           }
          ],
          "mesh3d": [
           {
            "colorbar": {
             "outlinewidth": 0,
             "ticks": ""
            },
            "type": "mesh3d"
           }
          ],
          "parcoords": [
           {
            "line": {
             "colorbar": {
              "outlinewidth": 0,
              "ticks": ""
             }
            },
            "type": "parcoords"
           }
          ],
          "pie": [
           {
            "automargin": true,
            "type": "pie"
           }
          ],
          "scatter": [
           {
            "fillpattern": {
             "fillmode": "overlay",
             "size": 10,
             "solidity": 0.2
            },
            "type": "scatter"
           }
          ],
          "scatter3d": [
           {
            "line": {
             "colorbar": {
              "outlinewidth": 0,
              "ticks": ""
             }
            },
            "marker": {
             "colorbar": {
              "outlinewidth": 0,
              "ticks": ""
             }
            },
            "type": "scatter3d"
           }
          ],
          "scattercarpet": [
           {
            "marker": {
             "colorbar": {
              "outlinewidth": 0,
              "ticks": ""
             }
            },
            "type": "scattercarpet"
           }
          ],
          "scattergeo": [
           {
            "marker": {
             "colorbar": {
              "outlinewidth": 0,
              "ticks": ""
             }
            },
            "type": "scattergeo"
           }
          ],
          "scattergl": [
           {
            "marker": {
             "colorbar": {
              "outlinewidth": 0,
              "ticks": ""
             }
            },
            "type": "scattergl"
           }
          ],
          "scattermapbox": [
           {
            "marker": {
             "colorbar": {
              "outlinewidth": 0,
              "ticks": ""
             }
            },
            "type": "scattermapbox"
           }
          ],
          "scatterpolar": [
           {
            "marker": {
             "colorbar": {
              "outlinewidth": 0,
              "ticks": ""
             }
            },
            "type": "scatterpolar"
           }
          ],
          "scatterpolargl": [
           {
            "marker": {
             "colorbar": {
              "outlinewidth": 0,
              "ticks": ""
             }
            },
            "type": "scatterpolargl"
           }
          ],
          "scatterternary": [
           {
            "marker": {
             "colorbar": {
              "outlinewidth": 0,
              "ticks": ""
             }
            },
            "type": "scatterternary"
           }
          ],
          "surface": [
           {
            "colorbar": {
             "outlinewidth": 0,
             "ticks": ""
            },
            "colorscale": [
             [
              0,
              "#0d0887"
             ],
             [
              0.1111111111111111,
              "#46039f"
             ],
             [
              0.2222222222222222,
              "#7201a8"
             ],
             [
              0.3333333333333333,
              "#9c179e"
             ],
             [
              0.4444444444444444,
              "#bd3786"
             ],
             [
              0.5555555555555556,
              "#d8576b"
             ],
             [
              0.6666666666666666,
              "#ed7953"
             ],
             [
              0.7777777777777778,
              "#fb9f3a"
             ],
             [
              0.8888888888888888,
              "#fdca26"
             ],
             [
              1,
              "#f0f921"
             ]
            ],
            "type": "surface"
           }
          ],
          "table": [
           {
            "cells": {
             "fill": {
              "color": "#EBF0F8"
             },
             "line": {
              "color": "white"
             }
            },
            "header": {
             "fill": {
              "color": "#C8D4E3"
             },
             "line": {
              "color": "white"
             }
            },
            "type": "table"
           }
          ]
         },
         "layout": {
          "annotationdefaults": {
           "arrowcolor": "#2a3f5f",
           "arrowhead": 0,
           "arrowwidth": 1
          },
          "autotypenumbers": "strict",
          "coloraxis": {
           "colorbar": {
            "outlinewidth": 0,
            "ticks": ""
           }
          },
          "colorscale": {
           "diverging": [
            [
             0,
             "#8e0152"
            ],
            [
             0.1,
             "#c51b7d"
            ],
            [
             0.2,
             "#de77ae"
            ],
            [
             0.3,
             "#f1b6da"
            ],
            [
             0.4,
             "#fde0ef"
            ],
            [
             0.5,
             "#f7f7f7"
            ],
            [
             0.6,
             "#e6f5d0"
            ],
            [
             0.7,
             "#b8e186"
            ],
            [
             0.8,
             "#7fbc41"
            ],
            [
             0.9,
             "#4d9221"
            ],
            [
             1,
             "#276419"
            ]
           ],
           "sequential": [
            [
             0,
             "#0d0887"
            ],
            [
             0.1111111111111111,
             "#46039f"
            ],
            [
             0.2222222222222222,
             "#7201a8"
            ],
            [
             0.3333333333333333,
             "#9c179e"
            ],
            [
             0.4444444444444444,
             "#bd3786"
            ],
            [
             0.5555555555555556,
             "#d8576b"
            ],
            [
             0.6666666666666666,
             "#ed7953"
            ],
            [
             0.7777777777777778,
             "#fb9f3a"
            ],
            [
             0.8888888888888888,
             "#fdca26"
            ],
            [
             1,
             "#f0f921"
            ]
           ],
           "sequentialminus": [
            [
             0,
             "#0d0887"
            ],
            [
             0.1111111111111111,
             "#46039f"
            ],
            [
             0.2222222222222222,
             "#7201a8"
            ],
            [
             0.3333333333333333,
             "#9c179e"
            ],
            [
             0.4444444444444444,
             "#bd3786"
            ],
            [
             0.5555555555555556,
             "#d8576b"
            ],
            [
             0.6666666666666666,
             "#ed7953"
            ],
            [
             0.7777777777777778,
             "#fb9f3a"
            ],
            [
             0.8888888888888888,
             "#fdca26"
            ],
            [
             1,
             "#f0f921"
            ]
           ]
          },
          "colorway": [
           "#636efa",
           "#EF553B",
           "#00cc96",
           "#ab63fa",
           "#FFA15A",
           "#19d3f3",
           "#FF6692",
           "#B6E880",
           "#FF97FF",
           "#FECB52"
          ],
          "font": {
           "color": "#2a3f5f"
          },
          "geo": {
           "bgcolor": "white",
           "lakecolor": "white",
           "landcolor": "#E5ECF6",
           "showlakes": true,
           "showland": true,
           "subunitcolor": "white"
          },
          "hoverlabel": {
           "align": "left"
          },
          "hovermode": "closest",
          "mapbox": {
           "style": "light"
          },
          "paper_bgcolor": "white",
          "plot_bgcolor": "#E5ECF6",
          "polar": {
           "angularaxis": {
            "gridcolor": "white",
            "linecolor": "white",
            "ticks": ""
           },
           "bgcolor": "#E5ECF6",
           "radialaxis": {
            "gridcolor": "white",
            "linecolor": "white",
            "ticks": ""
           }
          },
          "scene": {
           "xaxis": {
            "backgroundcolor": "#E5ECF6",
            "gridcolor": "white",
            "gridwidth": 2,
            "linecolor": "white",
            "showbackground": true,
            "ticks": "",
            "zerolinecolor": "white"
           },
           "yaxis": {
            "backgroundcolor": "#E5ECF6",
            "gridcolor": "white",
            "gridwidth": 2,
            "linecolor": "white",
            "showbackground": true,
            "ticks": "",
            "zerolinecolor": "white"
           },
           "zaxis": {
            "backgroundcolor": "#E5ECF6",
            "gridcolor": "white",
            "gridwidth": 2,
            "linecolor": "white",
            "showbackground": true,
            "ticks": "",
            "zerolinecolor": "white"
           }
          },
          "shapedefaults": {
           "line": {
            "color": "#2a3f5f"
           }
          },
          "ternary": {
           "aaxis": {
            "gridcolor": "white",
            "linecolor": "white",
            "ticks": ""
           },
           "baxis": {
            "gridcolor": "white",
            "linecolor": "white",
            "ticks": ""
           },
           "bgcolor": "#E5ECF6",
           "caxis": {
            "gridcolor": "white",
            "linecolor": "white",
            "ticks": ""
           }
          },
          "title": {
           "x": 0.05
          },
          "xaxis": {
           "automargin": true,
           "gridcolor": "white",
           "linecolor": "white",
           "ticks": "",
           "title": {
            "standoff": 15
           },
           "zerolinecolor": "white",
           "zerolinewidth": 2
          },
          "yaxis": {
           "automargin": true,
           "gridcolor": "white",
           "linecolor": "white",
           "ticks": "",
           "title": {
            "standoff": 15
           },
           "zerolinecolor": "white",
           "zerolinewidth": 2
          }
         }
        },
        "width": 900,
        "xaxis": {
         "anchor": "y",
         "domain": [
          0,
          0.98
         ],
         "dtick": 1,
         "range": [
          1981,
          2018
         ],
         "title": {
          "text": ""
         }
        },
        "xaxis2": {
         "anchor": "y2",
         "domain": [
          0,
          0.98
         ],
         "dtick": 1,
         "matches": "x",
         "showticklabels": false
        },
        "xaxis3": {
         "anchor": "y3",
         "domain": [
          0,
          0.98
         ],
         "dtick": 1,
         "matches": "x",
         "showticklabels": false
        },
        "yaxis": {
         "anchor": "x",
         "domain": [
          0,
          0.32666666666666666
         ],
         "title": {
          "text": "Yield (mt/ha)"
         }
        },
        "yaxis2": {
         "anchor": "x2",
         "domain": [
          0.33666666666666667,
          0.6633333333333333
         ],
         "title": {
          "text": "Area (ha)"
         }
        },
        "yaxis3": {
         "anchor": "x3",
         "domain": [
          0.6733333333333333,
          1
         ],
         "title": {
          "text": "Production (mt)"
         }
        }
       }
      }
     },
     "metadata": {},
     "output_type": "display_data"
    },
    {
     "name": "stdout",
     "output_type": "stream",
     "text": [
      "../figures/LS_line_pay_Sorghum_Summer.png is saved.\n"
     ]
    },
    {
     "data": {
      "application/vnd.plotly.v1+json": {
       "config": {
        "plotlyServerURL": "https://plot.ly"
       },
       "data": [
        {
         "connectgaps": false,
         "hovertemplate": "fnid=LS1980A101<br>indicator=production<br>year=%{x}<br>value=%{y}<extra></extra>",
         "legendgroup": "LS1980A101",
         "line": {
          "color": "#636efa",
          "dash": "solid"
         },
         "marker": {
          "symbol": "circle"
         },
         "mode": "lines+markers",
         "name": "LS1980A101",
         "showlegend": true,
         "type": "scattergl",
         "x": [
          1982,
          1983,
          1984,
          1985,
          1986,
          1987,
          1988,
          1989,
          1990,
          1991,
          1992,
          1993,
          1994,
          1995,
          1996,
          1997,
          1998,
          1999,
          2000,
          2001,
          2002,
          2003,
          2004,
          2005,
          2006,
          2007,
          2008,
          2009,
          2010,
          2011,
          2012,
          2013,
          2014,
          2015,
          2016,
          2017,
          2018
         ],
         "xaxis": "x3",
         "y": [
          3400,
          3300,
          3811,
          8474,
          4009,
          3063,
          10604,
          3286,
          3853,
          1062,
          2059,
          6576,
          7144,
          1470,
          1494,
          4217,
          4392,
          3050,
          2379,
          3516,
          2805,
          2122,
          922,
          4603,
          979,
          1196,
          1981,
          1605,
          3772,
          3562,
          365,
          2358,
          1916,
          846,
          4,
          3572,
          523
         ],
         "yaxis": "y3"
        },
        {
         "connectgaps": false,
         "hovertemplate": "fnid=LS1980A101<br>indicator=area<br>year=%{x}<br>value=%{y}<extra></extra>",
         "legendgroup": "LS1980A101",
         "line": {
          "color": "#636efa",
          "dash": "solid"
         },
         "marker": {
          "symbol": "circle"
         },
         "mode": "lines+markers",
         "name": "LS1980A101",
         "showlegend": false,
         "type": "scattergl",
         "x": [
          1982,
          1983,
          1984,
          1985,
          1986,
          1987,
          1988,
          1989,
          1990,
          1991,
          1992,
          1993,
          1994,
          1995,
          1996,
          1997,
          1998,
          1999,
          2000,
          2001,
          2002,
          2003,
          2004,
          2005,
          2006,
          2007,
          2008,
          2009,
          2010,
          2011,
          2012,
          2013,
          2014,
          2015,
          2016,
          2017,
          2018
         ],
         "xaxis": "x2",
         "y": [
          6700,
          4300,
          6700,
          10700,
          6100,
          7700,
          7900,
          5300,
          4400,
          2800,
          5500,
          5958,
          7881,
          1799,
          2840,
          5235,
          3057,
          2511,
          5153,
          5226,
          4313,
          3675,
          4041,
          5029,
          1817,
          7382,
          6615,
          3035,
          5562,
          9863,
          1698,
          3562,
          4230,
          2062,
          480,
          5423,
          3077
         ],
         "yaxis": "y2"
        },
        {
         "connectgaps": false,
         "hovertemplate": "fnid=LS1980A101<br>indicator=yield<br>year=%{x}<br>value=%{y}<extra></extra>",
         "legendgroup": "LS1980A101",
         "line": {
          "color": "#636efa",
          "dash": "solid"
         },
         "marker": {
          "symbol": "circle"
         },
         "mode": "lines+markers",
         "name": "LS1980A101",
         "showlegend": false,
         "type": "scattergl",
         "x": [
          1982,
          1983,
          1984,
          1985,
          1986,
          1987,
          1988,
          1989,
          1990,
          1991,
          1992,
          1993,
          1994,
          1995,
          1996,
          1997,
          1998,
          1999,
          2000,
          2001,
          2002,
          2003,
          2004,
          2005,
          2006,
          2007,
          2008,
          2009,
          2010,
          2011,
          2012,
          2013,
          2014,
          2015,
          2016,
          2017,
          2018
         ],
         "xaxis": "x",
         "y": [
          0.5074626865671642,
          0.7674418604651163,
          0.5688059701492537,
          0.7919626168224299,
          0.6572131147540984,
          0.3977922077922078,
          1.3422784810126582,
          0.62,
          0.8756818181818182,
          0.3792857142857143,
          0.37436363636363634,
          1.1037260825780464,
          0.9064839487374698,
          0.8171206225680934,
          0.526056338028169,
          0.8055396370582617,
          1.436702649656526,
          1.2146555157307846,
          0.46167281195420146,
          0.6727898966704937,
          0.6503593786227684,
          0.5774149659863945,
          0.2281613462014353,
          0.9152913103996818,
          0.538800220143093,
          0.16201571389867245,
          0.29947089947089944,
          0.528830313014827,
          0.678173318950018,
          0.3611477238162831,
          0.2149587750294464,
          0.6619876473891072,
          0.4529550827423168,
          0.41028128031037825,
          0.008333333333333333,
          0.6586760095887885,
          0.16997075073123172
         ],
         "yaxis": "y"
        },
        {
         "connectgaps": false,
         "hovertemplate": "fnid=LS1980A102<br>indicator=production<br>year=%{x}<br>value=%{y}<extra></extra>",
         "legendgroup": "LS1980A102",
         "line": {
          "color": "#EF553B",
          "dash": "solid"
         },
         "marker": {
          "symbol": "circle"
         },
         "mode": "lines+markers",
         "name": "LS1980A102",
         "showlegend": true,
         "type": "scattergl",
         "x": [
          1982,
          1983,
          1984,
          1985,
          1986,
          1987,
          1988,
          1989,
          1990,
          1991,
          1992,
          1993,
          1994,
          1995,
          1996,
          1997,
          1998,
          1999,
          2000,
          2001,
          2002,
          2003,
          2004,
          2005,
          2006,
          2007,
          2008,
          2009,
          2010,
          2011,
          2012,
          2013,
          2014,
          2015,
          2016,
          2017,
          2018
         ],
         "xaxis": "x3",
         "y": [
          900,
          1600,
          1203,
          2296,
          1297,
          1637,
          3137,
          2050,
          2573,
          1225,
          998,
          3460,
          2077,
          1388,
          1375,
          1711,
          1304,
          745,
          1313,
          860,
          429,
          461,
          1187,
          387,
          487,
          320,
          572,
          498,
          1100,
          289,
          798,
          1165,
          381,
          223,
          0.4,
          1248,
          286
         ],
         "yaxis": "y3"
        },
        {
         "connectgaps": false,
         "hovertemplate": "fnid=LS1980A102<br>indicator=area<br>year=%{x}<br>value=%{y}<extra></extra>",
         "legendgroup": "LS1980A102",
         "line": {
          "color": "#EF553B",
          "dash": "solid"
         },
         "marker": {
          "symbol": "circle"
         },
         "mode": "lines+markers",
         "name": "LS1980A102",
         "showlegend": false,
         "type": "scattergl",
         "x": [
          1982,
          1983,
          1984,
          1985,
          1986,
          1987,
          1988,
          1989,
          1990,
          1991,
          1992,
          1993,
          1994,
          1995,
          1996,
          1997,
          1998,
          1999,
          2000,
          2001,
          2002,
          2003,
          2004,
          2005,
          2006,
          2007,
          2008,
          2009,
          2010,
          2011,
          2012,
          2013,
          2014,
          2015,
          2016,
          2017,
          2018
         ],
         "xaxis": "x2",
         "y": [
          1100,
          2100,
          2400,
          2400,
          2100,
          3300,
          3400,
          2300,
          2700,
          2300,
          2000,
          2251,
          2069,
          1937,
          1126,
          993,
          894,
          1355,
          1509,
          1560,
          1495,
          1413,
          1306,
          1018,
          1030,
          2348,
          9702,
          833,
          1384,
          1162,
          1427,
          1705,
          1195,
          671,
          13,
          2407,
          2325
         ],
         "yaxis": "y2"
        },
        {
         "connectgaps": false,
         "hovertemplate": "fnid=LS1980A102<br>indicator=yield<br>year=%{x}<br>value=%{y}<extra></extra>",
         "legendgroup": "LS1980A102",
         "line": {
          "color": "#EF553B",
          "dash": "solid"
         },
         "marker": {
          "symbol": "circle"
         },
         "mode": "lines+markers",
         "name": "LS1980A102",
         "showlegend": false,
         "type": "scattergl",
         "x": [
          1982,
          1983,
          1984,
          1985,
          1986,
          1987,
          1988,
          1989,
          1990,
          1991,
          1992,
          1993,
          1994,
          1995,
          1996,
          1997,
          1998,
          1999,
          2000,
          2001,
          2002,
          2003,
          2004,
          2005,
          2006,
          2007,
          2008,
          2009,
          2010,
          2011,
          2012,
          2013,
          2014,
          2015,
          2016,
          2017,
          2018
         ],
         "xaxis": "x",
         "y": [
          0.8181818181818182,
          0.7619047619047619,
          0.50125,
          0.9566666666666667,
          0.6176190476190476,
          0.49606060606060604,
          0.9226470588235294,
          0.8913043478260869,
          0.952962962962963,
          0.532608695652174,
          0.499,
          1.5370946246112838,
          1.0038666022232963,
          0.7165720185854414,
          1.2211367673179396,
          1.7230614300100704,
          1.458612975391499,
          0.5498154981549815,
          0.8701126573889993,
          0.5512820512820513,
          0.28695652173913044,
          0.32625619249823073,
          0.9088820826952527,
          0.3801571709233792,
          0.4728155339805825,
          0.1362862010221465,
          0.05895691609977324,
          0.5978391356542617,
          0.7947976878612717,
          0.2487091222030981,
          0.5592151366503153,
          0.6832844574780058,
          0.3188284518828452,
          0.3323397913561848,
          0.03076923076923077,
          0.5184877440797674,
          0.12301075268817205
         ],
         "yaxis": "y"
        },
        {
         "connectgaps": false,
         "hovertemplate": "fnid=LS1980A103<br>indicator=production<br>year=%{x}<br>value=%{y}<extra></extra>",
         "legendgroup": "LS1980A103",
         "line": {
          "color": "#00cc96",
          "dash": "solid"
         },
         "marker": {
          "symbol": "circle"
         },
         "mode": "lines+markers",
         "name": "LS1980A103",
         "showlegend": true,
         "type": "scattergl",
         "x": [
          1982,
          1983,
          1984,
          1985,
          1986,
          1987,
          1988,
          1989,
          1990,
          1991,
          1992,
          1993,
          1994,
          1995,
          1996,
          1997,
          1998,
          1999,
          2000,
          2001,
          2002,
          2003,
          2004,
          2005,
          2006,
          2007,
          2008,
          2009,
          2010,
          2011,
          2012,
          2013,
          2014,
          2015,
          2016,
          2017,
          2018
         ],
         "xaxis": "x3",
         "y": [
          3100,
          6300,
          6926,
          8004,
          3555,
          5050,
          7983,
          4405,
          5036,
          1693,
          3005,
          3784,
          6846,
          1435,
          3858,
          2463,
          3001,
          4209,
          5851,
          5921,
          2005,
          1983,
          1346,
          1404,
          3558,
          2110,
          3551,
          1507,
          3806,
          1451,
          608,
          2070,
          1548,
          1894,
          68,
          4637,
          427
         ],
         "yaxis": "y3"
        },
        {
         "connectgaps": false,
         "hovertemplate": "fnid=LS1980A103<br>indicator=area<br>year=%{x}<br>value=%{y}<extra></extra>",
         "legendgroup": "LS1980A103",
         "line": {
          "color": "#00cc96",
          "dash": "solid"
         },
         "marker": {
          "symbol": "circle"
         },
         "mode": "lines+markers",
         "name": "LS1980A103",
         "showlegend": false,
         "type": "scattergl",
         "x": [
          1982,
          1983,
          1984,
          1985,
          1986,
          1987,
          1988,
          1989,
          1990,
          1991,
          1992,
          1993,
          1994,
          1995,
          1996,
          1997,
          1998,
          1999,
          2000,
          2001,
          2002,
          2003,
          2004,
          2005,
          2006,
          2007,
          2008,
          2009,
          2010,
          2011,
          2012,
          2013,
          2014,
          2015,
          2016,
          2017,
          2018
         ],
         "xaxis": "x2",
         "y": [
          6900,
          7800,
          9500,
          11000,
          4500,
          7700,
          7900,
          5300,
          5200,
          4000,
          8000,
          5196,
          6985,
          2558,
          3784,
          3288,
          2644,
          3085,
          4364,
          6527,
          4463,
          3141,
          3420,
          2878,
          6605,
          5515,
          7678,
          2929,
          5641,
          4150,
          1694,
          4768,
          3126,
          2129,
          1804,
          6910,
          6483
         ],
         "yaxis": "y2"
        },
        {
         "connectgaps": false,
         "hovertemplate": "fnid=LS1980A103<br>indicator=yield<br>year=%{x}<br>value=%{y}<extra></extra>",
         "legendgroup": "LS1980A103",
         "line": {
          "color": "#00cc96",
          "dash": "solid"
         },
         "marker": {
          "symbol": "circle"
         },
         "mode": "lines+markers",
         "name": "LS1980A103",
         "showlegend": false,
         "type": "scattergl",
         "x": [
          1982,
          1983,
          1984,
          1985,
          1986,
          1987,
          1988,
          1989,
          1990,
          1991,
          1992,
          1993,
          1994,
          1995,
          1996,
          1997,
          1998,
          1999,
          2000,
          2001,
          2002,
          2003,
          2004,
          2005,
          2006,
          2007,
          2008,
          2009,
          2010,
          2011,
          2012,
          2013,
          2014,
          2015,
          2016,
          2017,
          2018
         ],
         "xaxis": "x",
         "y": [
          0.4492753623188406,
          0.8076923076923077,
          0.7290526315789474,
          0.7276363636363636,
          0.79,
          0.6558441558441559,
          1.010506329113924,
          0.8311320754716981,
          0.9684615384615385,
          0.42325,
          0.375625,
          0.7282525019245574,
          0.980100214745884,
          0.5609851446442533,
          1.019556025369979,
          0.7490875912408759,
          1.1350226928895613,
          1.3643435980551053,
          1.3407424381301558,
          0.9071548950513253,
          0.44924938382254087,
          0.6313276026743075,
          0.3935672514619883,
          0.48783877692842254,
          0.5386828160484481,
          0.3825929283771532,
          0.462490231831206,
          0.5145100716968248,
          0.674703066832122,
          0.34963855421686746,
          0.358913813459268,
          0.4341442953020134,
          0.4952015355086372,
          0.8896195396899953,
          0.037694013303769404,
          0.6710564399421128,
          0.0658645688724356
         ],
         "yaxis": "y"
        },
        {
         "connectgaps": false,
         "hovertemplate": "fnid=LS1980A104<br>indicator=production<br>year=%{x}<br>value=%{y}<extra></extra>",
         "legendgroup": "LS1980A104",
         "line": {
          "color": "#ab63fa",
          "dash": "solid"
         },
         "marker": {
          "symbol": "circle"
         },
         "mode": "lines+markers",
         "name": "LS1980A104",
         "showlegend": true,
         "type": "scattergl",
         "x": [
          1982,
          1983,
          1984,
          1985,
          1986,
          1987,
          1988,
          1989,
          1990,
          1991,
          1992,
          1993,
          1994,
          1995,
          1996,
          1997,
          1998,
          1999,
          2000,
          2001,
          2002,
          2003,
          2004,
          2005,
          2006,
          2007,
          2008,
          2009,
          2010,
          2011,
          2012,
          2013,
          2014,
          2015,
          2016,
          2017,
          2018
         ],
         "xaxis": "x3",
         "y": [
          4200,
          6900,
          7019,
          9090,
          8735,
          6088,
          7599,
          6208,
          7537,
          1633,
          4951,
          13462,
          12977,
          258,
          10311,
          3815,
          1474,
          2906,
          1425,
          9322,
          2936,
          949,
          2720,
          2252,
          3008,
          581,
          284,
          1937,
          2846,
          964,
          200,
          2208,
          1742,
          1193,
          16,
          2716,
          331
         ],
         "yaxis": "y3"
        },
        {
         "connectgaps": false,
         "hovertemplate": "fnid=LS1980A104<br>indicator=area<br>year=%{x}<br>value=%{y}<extra></extra>",
         "legendgroup": "LS1980A104",
         "line": {
          "color": "#ab63fa",
          "dash": "solid"
         },
         "marker": {
          "symbol": "circle"
         },
         "mode": "lines+markers",
         "name": "LS1980A104",
         "showlegend": false,
         "type": "scattergl",
         "x": [
          1982,
          1983,
          1984,
          1985,
          1986,
          1987,
          1988,
          1989,
          1990,
          1991,
          1992,
          1993,
          1994,
          1995,
          1996,
          1997,
          1998,
          1999,
          2000,
          2001,
          2002,
          2003,
          2004,
          2005,
          2006,
          2007,
          2008,
          2009,
          2010,
          2011,
          2012,
          2013,
          2014,
          2015,
          2016,
          2017,
          2018
         ],
         "xaxis": "x2",
         "y": [
          15800,
          15300,
          14700,
          16700,
          16900,
          22600,
          23200,
          15500,
          12200,
          3000,
          13100,
          10725,
          18143,
          752,
          11733,
          9323,
          2316,
          4640,
          5363,
          14214,
          5907,
          4188,
          6011,
          5903,
          6889,
          4354,
          6102,
          4120,
          5678,
          6128,
          1354,
          2031,
          3512,
          2491,
          1481,
          5742,
          3054
         ],
         "yaxis": "y2"
        },
        {
         "connectgaps": false,
         "hovertemplate": "fnid=LS1980A104<br>indicator=yield<br>year=%{x}<br>value=%{y}<extra></extra>",
         "legendgroup": "LS1980A104",
         "line": {
          "color": "#ab63fa",
          "dash": "solid"
         },
         "marker": {
          "symbol": "circle"
         },
         "mode": "lines+markers",
         "name": "LS1980A104",
         "showlegend": false,
         "type": "scattergl",
         "x": [
          1982,
          1983,
          1984,
          1985,
          1986,
          1987,
          1988,
          1989,
          1990,
          1991,
          1992,
          1993,
          1994,
          1995,
          1996,
          1997,
          1998,
          1999,
          2000,
          2001,
          2002,
          2003,
          2004,
          2005,
          2006,
          2007,
          2008,
          2009,
          2010,
          2011,
          2012,
          2013,
          2014,
          2015,
          2016,
          2017,
          2018
         ],
         "xaxis": "x",
         "y": [
          0.26582278481012656,
          0.45098039215686275,
          0.47748299319727894,
          0.5443113772455089,
          0.5168639053254438,
          0.2693805309734513,
          0.32754310344827586,
          0.4005161290322581,
          0.6177868852459016,
          0.5443333333333333,
          0.37793893129770995,
          1.2551981351981352,
          0.7152620845505153,
          0.34308510638297873,
          0.8788033750958834,
          0.4092030462297544,
          0.6364421416234888,
          0.6262931034482758,
          0.26570949095655416,
          0.6558322780357394,
          0.49703741323853057,
          0.22659980897803247,
          0.4525037431375811,
          0.381500931729629,
          0.43663811874002034,
          0.13344051446945338,
          0.046542117338577514,
          0.47014563106796114,
          0.5012328284607256,
          0.15731070496083552,
          0.14771048744460857,
          1.0871491875923192,
          0.4960136674259681,
          0.47892412685668406,
          0.010803511141120865,
          0.47300592128178337,
          0.10838244924688932
         ],
         "yaxis": "y"
        },
        {
         "connectgaps": false,
         "hovertemplate": "fnid=LS1980A105<br>indicator=production<br>year=%{x}<br>value=%{y}<extra></extra>",
         "legendgroup": "LS1980A105",
         "line": {
          "color": "#FFA15A",
          "dash": "solid"
         },
         "marker": {
          "symbol": "circle"
         },
         "mode": "lines+markers",
         "name": "LS1980A105",
         "showlegend": true,
         "type": "scattergl",
         "x": [
          1982,
          1983,
          1984,
          1985,
          1986,
          1987,
          1988,
          1989,
          1990,
          1991,
          1992,
          1993,
          1994,
          1995,
          1996,
          1997,
          1998,
          1999,
          2000,
          2001,
          2002,
          2003,
          2004,
          2005,
          2006,
          2007,
          2008,
          2009,
          2010,
          2011,
          2012,
          2013,
          2014,
          2015,
          2016,
          2017,
          2018
         ],
         "xaxis": "x3",
         "y": [
          4200,
          9000,
          7141,
          11120,
          5506,
          6021,
          8947,
          4964,
          4277,
          1183,
          2214,
          1572.1,
          9877,
          941,
          6517,
          6322,
          3575,
          10201,
          2869,
          8560,
          1284,
          1218,
          1915,
          3403,
          1941,
          2032,
          2762,
          1169,
          4287,
          1815,
          1066,
          5312,
          989,
          2025,
          605,
          6298,
          1214
         ],
         "yaxis": "y3"
        },
        {
         "connectgaps": false,
         "hovertemplate": "fnid=LS1980A105<br>indicator=area<br>year=%{x}<br>value=%{y}<extra></extra>",
         "legendgroup": "LS1980A105",
         "line": {
          "color": "#FFA15A",
          "dash": "solid"
         },
         "marker": {
          "symbol": "circle"
         },
         "mode": "lines+markers",
         "name": "LS1980A105",
         "showlegend": false,
         "type": "scattergl",
         "x": [
          1982,
          1983,
          1984,
          1985,
          1986,
          1987,
          1988,
          1989,
          1990,
          1991,
          1992,
          1993,
          1994,
          1995,
          1996,
          1997,
          1998,
          1999,
          2000,
          2001,
          2002,
          2003,
          2004,
          2005,
          2006,
          2007,
          2008,
          2009,
          2010,
          2011,
          2012,
          2013,
          2014,
          2015,
          2016,
          2017,
          2018
         ],
         "xaxis": "x2",
         "y": [
          8100,
          10300,
          9700,
          13800,
          7800,
          12000,
          11700,
          8200,
          4800,
          3600,
          5900,
          7025,
          12820,
          1971,
          7069,
          7261,
          2825,
          5956,
          4946,
          7172,
          3913,
          6894,
          3865,
          4479,
          3919,
          6536,
          7032,
          2549,
          5207,
          4475,
          2420,
          3767,
          2871,
          2787,
          3033,
          8616,
          6737
         ],
         "yaxis": "y2"
        },
        {
         "connectgaps": false,
         "hovertemplate": "fnid=LS1980A105<br>indicator=yield<br>year=%{x}<br>value=%{y}<extra></extra>",
         "legendgroup": "LS1980A105",
         "line": {
          "color": "#FFA15A",
          "dash": "solid"
         },
         "marker": {
          "symbol": "circle"
         },
         "mode": "lines+markers",
         "name": "LS1980A105",
         "showlegend": false,
         "type": "scattergl",
         "x": [
          1982,
          1983,
          1984,
          1985,
          1986,
          1987,
          1988,
          1989,
          1990,
          1991,
          1992,
          1993,
          1994,
          1995,
          1996,
          1997,
          1998,
          1999,
          2000,
          2001,
          2002,
          2003,
          2004,
          2005,
          2006,
          2007,
          2008,
          2009,
          2010,
          2011,
          2012,
          2013,
          2014,
          2015,
          2016,
          2017,
          2018
         ],
         "xaxis": "x",
         "y": [
          0.5185185185185185,
          0.8737864077669902,
          0.7361855670103092,
          0.8057971014492754,
          0.7058974358974359,
          0.50175,
          0.7647008547008547,
          0.6053658536585366,
          0.8910416666666666,
          0.32861111111111113,
          0.3752542372881356,
          0.2237864768683274,
          0.7704368174726989,
          0.4774226281075596,
          0.9219125760362145,
          0.8706789698388652,
          1.2654867256637168,
          1.7127266621893888,
          0.5800646987464618,
          1.1935303959843837,
          0.32813697929977,
          0.17667536988685814,
          0.49547218628719275,
          0.759767805313686,
          0.495279408012248,
          0.3108935128518972,
          0.3927758816837315,
          0.45861122008630834,
          0.8233147685807567,
          0.40558659217877097,
          0.44049586776859506,
          1.4101406955136713,
          0.3444792755137583,
          0.7265877287405813,
          0.1994724695021431,
          0.7309656453110492,
          0.18019890158824403
         ],
         "yaxis": "y"
        },
        {
         "connectgaps": false,
         "hovertemplate": "fnid=LS1980A106<br>indicator=production<br>year=%{x}<br>value=%{y}<extra></extra>",
         "legendgroup": "LS1980A106",
         "line": {
          "color": "#19d3f3",
          "dash": "solid"
         },
         "marker": {
          "symbol": "circle"
         },
         "mode": "lines+markers",
         "name": "LS1980A106",
         "showlegend": true,
         "type": "scattergl",
         "x": [
          1982,
          1983,
          1984,
          1985,
          1986,
          1987,
          1988,
          1989,
          1990,
          1991,
          1992,
          1993,
          1994,
          1995,
          1996,
          1997,
          1998,
          1999,
          2000,
          2001,
          2002,
          2003,
          2004,
          2005,
          2006,
          2007,
          2008,
          2009,
          2010,
          2011,
          2012,
          2013,
          2014,
          2015,
          2016,
          2017,
          2018
         ],
         "xaxis": "x3",
         "y": [
          5900,
          1700,
          3110,
          11219,
          6746,
          5889,
          8440,
          5558,
          7299,
          1249,
          3223,
          4980,
          11458,
          239,
          7611,
          5874,
          3865,
          7153,
          1341,
          11869,
          1242,
          2080,
          1744,
          3368,
          1327,
          554,
          791,
          1464,
          3153,
          1243,
          229,
          2228,
          1614,
          1998,
          268,
          2868,
          827
         ],
         "yaxis": "y3"
        },
        {
         "connectgaps": false,
         "hovertemplate": "fnid=LS1980A106<br>indicator=area<br>year=%{x}<br>value=%{y}<extra></extra>",
         "legendgroup": "LS1980A106",
         "line": {
          "color": "#19d3f3",
          "dash": "solid"
         },
         "marker": {
          "symbol": "circle"
         },
         "mode": "lines+markers",
         "name": "LS1980A106",
         "showlegend": false,
         "type": "scattergl",
         "x": [
          1982,
          1983,
          1984,
          1985,
          1986,
          1987,
          1988,
          1989,
          1990,
          1991,
          1992,
          1993,
          1994,
          1995,
          1996,
          1997,
          1998,
          1999,
          2000,
          2001,
          2002,
          2003,
          2004,
          2005,
          2006,
          2007,
          2008,
          2009,
          2010,
          2011,
          2012,
          2013,
          2014,
          2015,
          2016,
          2017,
          2018
         ],
         "xaxis": "x2",
         "y": [
          9200,
          9500,
          10600,
          15500,
          12900,
          16000,
          16400,
          11000,
          9200,
          4200,
          8500,
          6851,
          12556,
          609,
          8763,
          8278,
          3169,
          9368,
          3341,
          14096,
          5634,
          3119,
          5534,
          5916,
          5109,
          4980,
          10141,
          2620,
          5508,
          4438,
          612,
          2538,
          3938,
          3513,
          1061,
          5777,
          6226
         ],
         "yaxis": "y2"
        },
        {
         "connectgaps": false,
         "hovertemplate": "fnid=LS1980A106<br>indicator=yield<br>year=%{x}<br>value=%{y}<extra></extra>",
         "legendgroup": "LS1980A106",
         "line": {
          "color": "#19d3f3",
          "dash": "solid"
         },
         "marker": {
          "symbol": "circle"
         },
         "mode": "lines+markers",
         "name": "LS1980A106",
         "showlegend": false,
         "type": "scattergl",
         "x": [
          1982,
          1983,
          1984,
          1985,
          1986,
          1987,
          1988,
          1989,
          1990,
          1991,
          1992,
          1993,
          1994,
          1995,
          1996,
          1997,
          1998,
          1999,
          2000,
          2001,
          2002,
          2003,
          2004,
          2005,
          2006,
          2007,
          2008,
          2009,
          2010,
          2011,
          2012,
          2013,
          2014,
          2015,
          2016,
          2017,
          2018
         ],
         "xaxis": "x",
         "y": [
          0.6413043478260869,
          0.17894736842105263,
          0.29339622641509433,
          0.7238064516129032,
          0.5229457364341086,
          0.3680625,
          0.5146341463414634,
          0.5052727272727273,
          0.7933695652173913,
          0.29738095238095236,
          0.3791764705882353,
          0.7269011823091519,
          0.9125517680790061,
          0.3924466338259442,
          0.8685381718589524,
          0.7095916888137231,
          1.2196276427895234,
          0.7635567890691717,
          0.4013768332834481,
          0.8420119182746879,
          0.22044728434504793,
          0.6668804103879449,
          0.31514275388507407,
          0.5693035835023664,
          0.25973771775298493,
          0.11124497991967872,
          0.07800019721920914,
          0.5587786259541985,
          0.5724400871459695,
          0.2800811176205498,
          0.3741830065359477,
          0.8778565799842396,
          0.4098527171152869,
          0.5687446626814688,
          0.2525918944392083,
          0.496451445386879,
          0.13283006745904272
         ],
         "yaxis": "y"
        },
        {
         "connectgaps": false,
         "hovertemplate": "fnid=LS1980A107<br>indicator=production<br>year=%{x}<br>value=%{y}<extra></extra>",
         "legendgroup": "LS1980A107",
         "line": {
          "color": "#FF6692",
          "dash": "solid"
         },
         "marker": {
          "symbol": "circle"
         },
         "mode": "lines+markers",
         "name": "LS1980A107",
         "showlegend": true,
         "type": "scattergl",
         "x": [
          1982,
          1983,
          1984,
          1985,
          1986,
          1987,
          1988,
          1989,
          1990,
          1991,
          1992,
          1993,
          1994,
          1995,
          1996,
          1997,
          1998,
          1999,
          2000,
          2001,
          2002,
          2003,
          2004,
          2005,
          2006,
          2007,
          2008,
          2009,
          2010,
          2011,
          2012,
          2013,
          2014,
          2015,
          2016,
          2017,
          2018
         ],
         "xaxis": "x3",
         "y": [
          100,
          200,
          346,
          144,
          152,
          286,
          549,
          586,
          97,
          198,
          353,
          325,
          123,
          78,
          471,
          262,
          754,
          542,
          23,
          371,
          95,
          6,
          9,
          32,
          43,
          89,
          78,
          195,
          1476,
          702,
          706,
          865,
          326,
          273,
          11,
          366,
          91
         ],
         "yaxis": "y3"
        },
        {
         "connectgaps": false,
         "hovertemplate": "fnid=LS1980A107<br>indicator=area<br>year=%{x}<br>value=%{y}<extra></extra>",
         "legendgroup": "LS1980A107",
         "line": {
          "color": "#FF6692",
          "dash": "solid"
         },
         "marker": {
          "symbol": "circle"
         },
         "mode": "lines+markers",
         "name": "LS1980A107",
         "showlegend": false,
         "type": "scattergl",
         "x": [
          1982,
          1983,
          1984,
          1985,
          1986,
          1987,
          1988,
          1989,
          1990,
          1991,
          1992,
          1993,
          1994,
          1995,
          1996,
          1997,
          1998,
          1999,
          2000,
          2001,
          2002,
          2003,
          2004,
          2005,
          2006,
          2007,
          2008,
          2009,
          2010,
          2011,
          2012,
          2013,
          2014,
          2015,
          2016,
          2017,
          2018
         ],
         "xaxis": "x2",
         "y": [
          600,
          500,
          600,
          700,
          400,
          600,
          600,
          400,
          500,
          700,
          900,
          541,
          453,
          330,
          646,
          428,
          699,
          445,
          223,
          351,
          589,
          86,
          244,
          37,
          224,
          343,
          298,
          319,
          1551,
          835,
          2823,
          1563,
          1087,
          318,
          268,
          665,
          793
         ],
         "yaxis": "y2"
        },
        {
         "connectgaps": false,
         "hovertemplate": "fnid=LS1980A107<br>indicator=yield<br>year=%{x}<br>value=%{y}<extra></extra>",
         "legendgroup": "LS1980A107",
         "line": {
          "color": "#FF6692",
          "dash": "solid"
         },
         "marker": {
          "symbol": "circle"
         },
         "mode": "lines+markers",
         "name": "LS1980A107",
         "showlegend": false,
         "type": "scattergl",
         "x": [
          1982,
          1983,
          1984,
          1985,
          1986,
          1987,
          1988,
          1989,
          1990,
          1991,
          1992,
          1993,
          1994,
          1995,
          1996,
          1997,
          1998,
          1999,
          2000,
          2001,
          2002,
          2003,
          2004,
          2005,
          2006,
          2007,
          2008,
          2009,
          2010,
          2011,
          2012,
          2013,
          2014,
          2015,
          2016,
          2017,
          2018
         ],
         "xaxis": "x",
         "y": [
          0.16666666666666666,
          0.4,
          0.5766666666666667,
          0.2057142857142857,
          0.38,
          0.4766666666666667,
          0.915,
          1.465,
          0.194,
          0.28285714285714286,
          0.39222222222222225,
          0.600739371534196,
          0.271523178807947,
          0.23636363636363636,
          0.7291021671826625,
          0.6121495327102804,
          1.0786838340486409,
          1.2179775280898877,
          0.1031390134529148,
          1.056980056980057,
          0.16129032258064516,
          0.06976744186046512,
          0.036885245901639344,
          0.8648648648648649,
          0.19196428571428573,
          0.2594752186588921,
          0.26174496644295303,
          0.6112852664576802,
          0.9516441005802708,
          0.8407185628742515,
          0.2500885582713425,
          0.5534229046705055,
          0.2999080036798528,
          0.8584905660377359,
          0.041044776119402986,
          0.5503759398496241,
          0.11475409836065574
         ],
         "yaxis": "y"
        },
        {
         "connectgaps": false,
         "hovertemplate": "fnid=LS1980A108<br>indicator=production<br>year=%{x}<br>value=%{y}<extra></extra>",
         "legendgroup": "LS1980A108",
         "line": {
          "color": "#B6E880",
          "dash": "solid"
         },
         "marker": {
          "symbol": "circle"
         },
         "mode": "lines+markers",
         "name": "LS1980A108",
         "showlegend": true,
         "type": "scattergl",
         "x": [
          1982,
          1983,
          1984,
          1985,
          1986,
          1987,
          1988,
          1989,
          1990,
          1991,
          1992,
          1993,
          1994,
          1995,
          1996,
          1997,
          1998,
          1999,
          2000,
          2001,
          2002,
          2003,
          2004,
          2005,
          2006,
          2007,
          2008,
          2009,
          2010,
          2011,
          2012,
          2013,
          2014,
          2015,
          2016,
          2017,
          2018
         ],
         "xaxis": "x3",
         "y": [
          1400,
          400,
          126,
          1078,
          434,
          428,
          520,
          515,
          1060,
          218,
          328,
          490,
          392,
          8,
          125,
          292,
          null,
          480,
          153,
          401,
          216,
          330,
          107,
          913,
          112,
          151,
          564,
          109,
          543,
          278,
          36,
          192,
          null,
          55,
          null,
          1253,
          5
         ],
         "yaxis": "y3"
        },
        {
         "connectgaps": false,
         "hovertemplate": "fnid=LS1980A108<br>indicator=area<br>year=%{x}<br>value=%{y}<extra></extra>",
         "legendgroup": "LS1980A108",
         "line": {
          "color": "#B6E880",
          "dash": "solid"
         },
         "marker": {
          "symbol": "circle"
         },
         "mode": "lines+markers",
         "name": "LS1980A108",
         "showlegend": false,
         "type": "scattergl",
         "x": [
          1982,
          1983,
          1984,
          1985,
          1986,
          1987,
          1988,
          1989,
          1990,
          1991,
          1992,
          1993,
          1994,
          1995,
          1996,
          1997,
          1998,
          1999,
          2000,
          2001,
          2002,
          2003,
          2004,
          2005,
          2006,
          2007,
          2008,
          2009,
          2010,
          2011,
          2012,
          2013,
          2014,
          2015,
          2016,
          2017,
          2018
         ],
         "xaxis": "x2",
         "y": [
          2200,
          1300,
          700,
          700,
          1400,
          900,
          2000,
          2000,
          1400,
          3200,
          1100,
          1386,
          603,
          134,
          2228,
          407,
          222,
          461,
          503,
          419,
          390,
          956,
          297,
          1120,
          579,
          1753,
          818,
          247,
          865,
          947,
          184,
          1029,
          null,
          265,
          395,
          1922,
          171
         ],
         "yaxis": "y2"
        },
        {
         "connectgaps": false,
         "hovertemplate": "fnid=LS1980A108<br>indicator=yield<br>year=%{x}<br>value=%{y}<extra></extra>",
         "legendgroup": "LS1980A108",
         "line": {
          "color": "#B6E880",
          "dash": "solid"
         },
         "marker": {
          "symbol": "circle"
         },
         "mode": "lines+markers",
         "name": "LS1980A108",
         "showlegend": false,
         "type": "scattergl",
         "x": [
          1982,
          1983,
          1984,
          1985,
          1986,
          1987,
          1988,
          1989,
          1990,
          1991,
          1992,
          1993,
          1994,
          1995,
          1996,
          1997,
          1998,
          1999,
          2000,
          2001,
          2002,
          2003,
          2004,
          2005,
          2006,
          2007,
          2008,
          2009,
          2010,
          2011,
          2012,
          2013,
          2014,
          2015,
          2016,
          2017,
          2018
         ],
         "xaxis": "x",
         "y": [
          0.6363636363636364,
          0.3076923076923077,
          0.18,
          1.54,
          0.31,
          0.47555555555555556,
          0.26,
          0.2575,
          0.7571428571428571,
          0.068125,
          0.29818181818181816,
          0.35353535353535354,
          0.6500829187396352,
          0.05970149253731343,
          0.056104129263913824,
          0.7174447174447175,
          null,
          1.0412147505422993,
          0.30417495029821073,
          0.9570405727923628,
          0.5538461538461539,
          0.34518828451882844,
          0.3602693602693603,
          0.8151785714285714,
          0.19343696027633853,
          0.08613804905875641,
          0.6894865525672371,
          0.44129554655870445,
          0.6277456647398844,
          0.293558606124604,
          0.1956521739130435,
          0.18658892128279883,
          null,
          0.20754716981132076,
          null,
          0.6519250780437045,
          0.029239766081871343
         ],
         "yaxis": "y"
        },
        {
         "connectgaps": false,
         "hovertemplate": "fnid=LS1980A109<br>indicator=production<br>year=%{x}<br>value=%{y}<extra></extra>",
         "legendgroup": "LS1980A109",
         "line": {
          "color": "#FF97FF",
          "dash": "solid"
         },
         "marker": {
          "symbol": "circle"
         },
         "mode": "lines+markers",
         "name": "LS1980A109",
         "showlegend": true,
         "type": "scattergl",
         "x": [
          1982,
          1983,
          1984,
          1985,
          1986,
          1987,
          1988,
          1989,
          1990,
          1991,
          1992,
          1993,
          1994,
          1995,
          1996,
          1997,
          1998,
          1999,
          2000,
          2001,
          2002,
          2003,
          2004,
          2005,
          2006,
          2007,
          2008,
          2009,
          2010,
          2011,
          2012,
          2013,
          2014,
          2015,
          2016,
          2017,
          2018
         ],
         "xaxis": "x3",
         "y": [
          2400,
          800,
          2102,
          2312,
          2030,
          1825,
          3946,
          2843,
          3332,
          1235,
          1655,
          2252,
          4830,
          14,
          2273,
          2364,
          1827,
          2830,
          729,
          3354,
          545,
          2274,
          170,
          1129,
          462,
          256,
          330,
          824,
          2115,
          1137,
          107,
          1772,
          830,
          841,
          6,
          1540,
          42
         ],
         "yaxis": "y3"
        },
        {
         "connectgaps": false,
         "hovertemplate": "fnid=LS1980A109<br>indicator=area<br>year=%{x}<br>value=%{y}<extra></extra>",
         "legendgroup": "LS1980A109",
         "line": {
          "color": "#FF97FF",
          "dash": "solid"
         },
         "marker": {
          "symbol": "circle"
         },
         "mode": "lines+markers",
         "name": "LS1980A109",
         "showlegend": false,
         "type": "scattergl",
         "x": [
          1982,
          1983,
          1984,
          1985,
          1986,
          1987,
          1988,
          1989,
          1990,
          1991,
          1992,
          1993,
          1994,
          1995,
          1996,
          1997,
          1998,
          1999,
          2000,
          2001,
          2002,
          2003,
          2004,
          2005,
          2006,
          2007,
          2008,
          2009,
          2010,
          2011,
          2012,
          2013,
          2014,
          2015,
          2016,
          2017,
          2018
         ],
         "xaxis": "x2",
         "y": [
          5500,
          4400,
          5000,
          5800,
          3600,
          5100,
          5200,
          3500,
          4600,
          1900,
          4400,
          2969,
          5223,
          374,
          3246,
          3289,
          2290,
          3180,
          1154,
          3313,
          1978,
          2183,
          3012,
          2911,
          1962,
          1265,
          3594,
          1133,
          3128,
          1411,
          568,
          2823,
          2699,
          1875,
          395,
          2673,
          1933
         ],
         "yaxis": "y2"
        },
        {
         "connectgaps": false,
         "hovertemplate": "fnid=LS1980A109<br>indicator=yield<br>year=%{x}<br>value=%{y}<extra></extra>",
         "legendgroup": "LS1980A109",
         "line": {
          "color": "#FF97FF",
          "dash": "solid"
         },
         "marker": {
          "symbol": "circle"
         },
         "mode": "lines+markers",
         "name": "LS1980A109",
         "showlegend": false,
         "type": "scattergl",
         "x": [
          1982,
          1983,
          1984,
          1985,
          1986,
          1987,
          1988,
          1989,
          1990,
          1991,
          1992,
          1993,
          1994,
          1995,
          1996,
          1997,
          1998,
          1999,
          2000,
          2001,
          2002,
          2003,
          2004,
          2005,
          2006,
          2007,
          2008,
          2009,
          2010,
          2011,
          2012,
          2013,
          2014,
          2015,
          2016,
          2017,
          2018
         ],
         "xaxis": "x",
         "y": [
          0.43636363636363634,
          0.18181818181818182,
          0.4204,
          0.3986206896551724,
          0.5638888888888889,
          0.35784313725490197,
          0.7588461538461538,
          0.8122857142857143,
          0.7243478260869565,
          0.65,
          0.37613636363636366,
          0.7585045469855171,
          0.9247558874210224,
          0.0374331550802139,
          0.7002464571780653,
          0.718759501368197,
          0.7978165938864629,
          0.889937106918239,
          0.6317157712305026,
          1.0123754904920013,
          0.27553083923154703,
          1.0416857535501602,
          0.05644090305444887,
          0.3878392305049811,
          0.23547400611620795,
          0.20237154150197628,
          0.09181969949916527,
          0.7272727272727273,
          0.676150895140665,
          0.8058114812189936,
          0.18838028169014084,
          0.6277010272759476,
          0.30752130418673584,
          0.44853333333333334,
          0.015189873417721518,
          0.5761316872427984,
          0.02172788411795137
         ],
         "yaxis": "y"
        },
        {
         "connectgaps": false,
         "hovertemplate": "fnid=LS1980A110<br>indicator=production<br>year=%{x}<br>value=%{y}<extra></extra>",
         "legendgroup": "LS1980A110",
         "line": {
          "color": "#FECB52",
          "dash": "solid"
         },
         "marker": {
          "symbol": "circle"
         },
         "mode": "lines+markers",
         "name": "LS1980A110",
         "showlegend": true,
         "type": "scattergl",
         "x": [
          1982,
          1983,
          1984,
          1985,
          1986,
          1987,
          1988,
          1989,
          1990,
          1991,
          1992,
          1993,
          1994,
          1995,
          1996,
          1997,
          1998,
          1999,
          2000,
          2001,
          2002,
          2003,
          2004,
          2005,
          2006,
          2007,
          2008,
          2009,
          2010,
          2011,
          2012,
          2013,
          2014,
          2015,
          2016,
          2017,
          2018
         ],
         "xaxis": "x3",
         "y": [
          500,
          500,
          1984,
          1086,
          994,
          945,
          1722,
          725,
          998,
          347,
          681,
          946,
          5001,
          627,
          2094,
          1730,
          1623,
          1224,
          724,
          1180,
          362,
          530,
          1362,
          1036,
          2488,
          547,
          230,
          843,
          731,
          1159,
          559,
          505,
          515,
          180,
          160,
          3693,
          91
         ],
         "yaxis": "y3"
        },
        {
         "connectgaps": false,
         "hovertemplate": "fnid=LS1980A110<br>indicator=area<br>year=%{x}<br>value=%{y}<extra></extra>",
         "legendgroup": "LS1980A110",
         "line": {
          "color": "#FECB52",
          "dash": "solid"
         },
         "marker": {
          "symbol": "circle"
         },
         "mode": "lines+markers",
         "name": "LS1980A110",
         "showlegend": false,
         "type": "scattergl",
         "x": [
          1982,
          1983,
          1984,
          1985,
          1986,
          1987,
          1988,
          1989,
          1990,
          1991,
          1992,
          1993,
          1994,
          1995,
          1996,
          1997,
          1998,
          1999,
          2000,
          2001,
          2002,
          2003,
          2004,
          2005,
          2006,
          2007,
          2008,
          2009,
          2010,
          2011,
          2012,
          2013,
          2014,
          2015,
          2016,
          2017,
          2018
         ],
         "xaxis": "x2",
         "y": [
          2500,
          1600,
          2600,
          3500,
          2100,
          1700,
          1700,
          1200,
          1300,
          1900,
          1800,
          1631,
          4921,
          583,
          2015,
          1078,
          1289,
          1651,
          1246,
          2204,
          1353,
          787,
          1648,
          1352,
          1906,
          2875,
          1982,
          1305,
          1088,
          1693,
          1371,
          874,
          1699,
          1494,
          1972,
          6455,
          2120
         ],
         "yaxis": "y2"
        },
        {
         "connectgaps": false,
         "hovertemplate": "fnid=LS1980A110<br>indicator=yield<br>year=%{x}<br>value=%{y}<extra></extra>",
         "legendgroup": "LS1980A110",
         "line": {
          "color": "#FECB52",
          "dash": "solid"
         },
         "marker": {
          "symbol": "circle"
         },
         "mode": "lines+markers",
         "name": "LS1980A110",
         "showlegend": false,
         "type": "scattergl",
         "x": [
          1982,
          1983,
          1984,
          1985,
          1986,
          1987,
          1988,
          1989,
          1990,
          1991,
          1992,
          1993,
          1994,
          1995,
          1996,
          1997,
          1998,
          1999,
          2000,
          2001,
          2002,
          2003,
          2004,
          2005,
          2006,
          2007,
          2008,
          2009,
          2010,
          2011,
          2012,
          2013,
          2014,
          2015,
          2016,
          2017,
          2018
         ],
         "xaxis": "x",
         "y": [
          0.2,
          0.3125,
          0.7630769230769231,
          0.3102857142857143,
          0.47333333333333333,
          0.5558823529411765,
          1.0129411764705882,
          0.6041666666666666,
          0.7676923076923077,
          0.18263157894736842,
          0.37833333333333335,
          0.5800122624156959,
          1.0162568583621214,
          1.0754716981132075,
          1.0392059553349875,
          1.6048237476808906,
          1.2591155934833205,
          0.7413688673531194,
          0.5810593900481541,
          0.5353901996370236,
          0.2675535846267554,
          0.6734434561626429,
          0.8264563106796117,
          0.7662721893491125,
          1.3053515215110179,
          0.1902608695652174,
          0.11604439959636731,
          0.6459770114942529,
          0.671875,
          0.6845835794447725,
          0.4077315827862874,
          0.5778032036613272,
          0.30311948204826367,
          0.12048192771084337,
          0.08113590263691683,
          0.5721146398140976,
          0.04292452830188679
         ],
         "yaxis": "y"
        }
       ],
       "layout": {
        "annotations": [
         {
          "showarrow": false,
          "text": "",
          "textangle": 90,
          "x": 0.98,
          "xanchor": "left",
          "xref": "paper",
          "y": 0.16333333333333333,
          "yanchor": "middle",
          "yref": "paper"
         },
         {
          "showarrow": false,
          "text": "",
          "textangle": 90,
          "x": 0.98,
          "xanchor": "left",
          "xref": "paper",
          "y": 0.5,
          "yanchor": "middle",
          "yref": "paper"
         },
         {
          "showarrow": false,
          "text": "",
          "textangle": 90,
          "x": 0.98,
          "xanchor": "left",
          "xref": "paper",
          "y": 0.8366666666666667,
          "yanchor": "middle",
          "yref": "paper"
         },
         {
          "align": "left",
          "font": {
           "color": "dimgrey",
           "family": "arial",
           "size": 15
          },
          "showarrow": false,
          "text": "Production-Area-Yield (PAY) time-series of LS - Sorghum - Summer",
          "x": -0.014,
          "xref": "paper",
          "y": -0.14,
          "yref": "paper"
         }
        ],
        "font": {
         "color": "black",
         "family": "arial",
         "size": 16
        },
        "height": 600,
        "legend": {
         "font": {
          "size": 14
         },
         "title": {
          "text": "FNID"
         },
         "tracegroupgap": 0,
         "x": 1,
         "xanchor": "left",
         "y": 1,
         "yanchor": "top"
        },
        "margin": {
         "b": 25,
         "l": 0,
         "r": 0,
         "t": 0
        },
        "template": {
         "data": {
          "bar": [
           {
            "error_x": {
             "color": "#2a3f5f"
            },
            "error_y": {
             "color": "#2a3f5f"
            },
            "marker": {
             "line": {
              "color": "#E5ECF6",
              "width": 0.5
             },
             "pattern": {
              "fillmode": "overlay",
              "size": 10,
              "solidity": 0.2
             }
            },
            "type": "bar"
           }
          ],
          "barpolar": [
           {
            "marker": {
             "line": {
              "color": "#E5ECF6",
              "width": 0.5
             },
             "pattern": {
              "fillmode": "overlay",
              "size": 10,
              "solidity": 0.2
             }
            },
            "type": "barpolar"
           }
          ],
          "carpet": [
           {
            "aaxis": {
             "endlinecolor": "#2a3f5f",
             "gridcolor": "white",
             "linecolor": "white",
             "minorgridcolor": "white",
             "startlinecolor": "#2a3f5f"
            },
            "baxis": {
             "endlinecolor": "#2a3f5f",
             "gridcolor": "white",
             "linecolor": "white",
             "minorgridcolor": "white",
             "startlinecolor": "#2a3f5f"
            },
            "type": "carpet"
           }
          ],
          "choropleth": [
           {
            "colorbar": {
             "outlinewidth": 0,
             "ticks": ""
            },
            "type": "choropleth"
           }
          ],
          "contour": [
           {
            "colorbar": {
             "outlinewidth": 0,
             "ticks": ""
            },
            "colorscale": [
             [
              0,
              "#0d0887"
             ],
             [
              0.1111111111111111,
              "#46039f"
             ],
             [
              0.2222222222222222,
              "#7201a8"
             ],
             [
              0.3333333333333333,
              "#9c179e"
             ],
             [
              0.4444444444444444,
              "#bd3786"
             ],
             [
              0.5555555555555556,
              "#d8576b"
             ],
             [
              0.6666666666666666,
              "#ed7953"
             ],
             [
              0.7777777777777778,
              "#fb9f3a"
             ],
             [
              0.8888888888888888,
              "#fdca26"
             ],
             [
              1,
              "#f0f921"
             ]
            ],
            "type": "contour"
           }
          ],
          "contourcarpet": [
           {
            "colorbar": {
             "outlinewidth": 0,
             "ticks": ""
            },
            "type": "contourcarpet"
           }
          ],
          "heatmap": [
           {
            "colorbar": {
             "outlinewidth": 0,
             "ticks": ""
            },
            "colorscale": [
             [
              0,
              "#0d0887"
             ],
             [
              0.1111111111111111,
              "#46039f"
             ],
             [
              0.2222222222222222,
              "#7201a8"
             ],
             [
              0.3333333333333333,
              "#9c179e"
             ],
             [
              0.4444444444444444,
              "#bd3786"
             ],
             [
              0.5555555555555556,
              "#d8576b"
             ],
             [
              0.6666666666666666,
              "#ed7953"
             ],
             [
              0.7777777777777778,
              "#fb9f3a"
             ],
             [
              0.8888888888888888,
              "#fdca26"
             ],
             [
              1,
              "#f0f921"
             ]
            ],
            "type": "heatmap"
           }
          ],
          "heatmapgl": [
           {
            "colorbar": {
             "outlinewidth": 0,
             "ticks": ""
            },
            "colorscale": [
             [
              0,
              "#0d0887"
             ],
             [
              0.1111111111111111,
              "#46039f"
             ],
             [
              0.2222222222222222,
              "#7201a8"
             ],
             [
              0.3333333333333333,
              "#9c179e"
             ],
             [
              0.4444444444444444,
              "#bd3786"
             ],
             [
              0.5555555555555556,
              "#d8576b"
             ],
             [
              0.6666666666666666,
              "#ed7953"
             ],
             [
              0.7777777777777778,
              "#fb9f3a"
             ],
             [
              0.8888888888888888,
              "#fdca26"
             ],
             [
              1,
              "#f0f921"
             ]
            ],
            "type": "heatmapgl"
           }
          ],
          "histogram": [
           {
            "marker": {
             "pattern": {
              "fillmode": "overlay",
              "size": 10,
              "solidity": 0.2
             }
            },
            "type": "histogram"
           }
          ],
          "histogram2d": [
           {
            "colorbar": {
             "outlinewidth": 0,
             "ticks": ""
            },
            "colorscale": [
             [
              0,
              "#0d0887"
             ],
             [
              0.1111111111111111,
              "#46039f"
             ],
             [
              0.2222222222222222,
              "#7201a8"
             ],
             [
              0.3333333333333333,
              "#9c179e"
             ],
             [
              0.4444444444444444,
              "#bd3786"
             ],
             [
              0.5555555555555556,
              "#d8576b"
             ],
             [
              0.6666666666666666,
              "#ed7953"
             ],
             [
              0.7777777777777778,
              "#fb9f3a"
             ],
             [
              0.8888888888888888,
              "#fdca26"
             ],
             [
              1,
              "#f0f921"
             ]
            ],
            "type": "histogram2d"
           }
          ],
          "histogram2dcontour": [
           {
            "colorbar": {
             "outlinewidth": 0,
             "ticks": ""
            },
            "colorscale": [
             [
              0,
              "#0d0887"
             ],
             [
              0.1111111111111111,
              "#46039f"
             ],
             [
              0.2222222222222222,
              "#7201a8"
             ],
             [
              0.3333333333333333,
              "#9c179e"
             ],
             [
              0.4444444444444444,
              "#bd3786"
             ],
             [
              0.5555555555555556,
              "#d8576b"
             ],
             [
              0.6666666666666666,
              "#ed7953"
             ],
             [
              0.7777777777777778,
              "#fb9f3a"
             ],
             [
              0.8888888888888888,
              "#fdca26"
             ],
             [
              1,
              "#f0f921"
             ]
            ],
            "type": "histogram2dcontour"
           }
          ],
          "mesh3d": [
           {
            "colorbar": {
             "outlinewidth": 0,
             "ticks": ""
            },
            "type": "mesh3d"
           }
          ],
          "parcoords": [
           {
            "line": {
             "colorbar": {
              "outlinewidth": 0,
              "ticks": ""
             }
            },
            "type": "parcoords"
           }
          ],
          "pie": [
           {
            "automargin": true,
            "type": "pie"
           }
          ],
          "scatter": [
           {
            "fillpattern": {
             "fillmode": "overlay",
             "size": 10,
             "solidity": 0.2
            },
            "type": "scatter"
           }
          ],
          "scatter3d": [
           {
            "line": {
             "colorbar": {
              "outlinewidth": 0,
              "ticks": ""
             }
            },
            "marker": {
             "colorbar": {
              "outlinewidth": 0,
              "ticks": ""
             }
            },
            "type": "scatter3d"
           }
          ],
          "scattercarpet": [
           {
            "marker": {
             "colorbar": {
              "outlinewidth": 0,
              "ticks": ""
             }
            },
            "type": "scattercarpet"
           }
          ],
          "scattergeo": [
           {
            "marker": {
             "colorbar": {
              "outlinewidth": 0,
              "ticks": ""
             }
            },
            "type": "scattergeo"
           }
          ],
          "scattergl": [
           {
            "marker": {
             "colorbar": {
              "outlinewidth": 0,
              "ticks": ""
             }
            },
            "type": "scattergl"
           }
          ],
          "scattermapbox": [
           {
            "marker": {
             "colorbar": {
              "outlinewidth": 0,
              "ticks": ""
             }
            },
            "type": "scattermapbox"
           }
          ],
          "scatterpolar": [
           {
            "marker": {
             "colorbar": {
              "outlinewidth": 0,
              "ticks": ""
             }
            },
            "type": "scatterpolar"
           }
          ],
          "scatterpolargl": [
           {
            "marker": {
             "colorbar": {
              "outlinewidth": 0,
              "ticks": ""
             }
            },
            "type": "scatterpolargl"
           }
          ],
          "scatterternary": [
           {
            "marker": {
             "colorbar": {
              "outlinewidth": 0,
              "ticks": ""
             }
            },
            "type": "scatterternary"
           }
          ],
          "surface": [
           {
            "colorbar": {
             "outlinewidth": 0,
             "ticks": ""
            },
            "colorscale": [
             [
              0,
              "#0d0887"
             ],
             [
              0.1111111111111111,
              "#46039f"
             ],
             [
              0.2222222222222222,
              "#7201a8"
             ],
             [
              0.3333333333333333,
              "#9c179e"
             ],
             [
              0.4444444444444444,
              "#bd3786"
             ],
             [
              0.5555555555555556,
              "#d8576b"
             ],
             [
              0.6666666666666666,
              "#ed7953"
             ],
             [
              0.7777777777777778,
              "#fb9f3a"
             ],
             [
              0.8888888888888888,
              "#fdca26"
             ],
             [
              1,
              "#f0f921"
             ]
            ],
            "type": "surface"
           }
          ],
          "table": [
           {
            "cells": {
             "fill": {
              "color": "#EBF0F8"
             },
             "line": {
              "color": "white"
             }
            },
            "header": {
             "fill": {
              "color": "#C8D4E3"
             },
             "line": {
              "color": "white"
             }
            },
            "type": "table"
           }
          ]
         },
         "layout": {
          "annotationdefaults": {
           "arrowcolor": "#2a3f5f",
           "arrowhead": 0,
           "arrowwidth": 1
          },
          "autotypenumbers": "strict",
          "coloraxis": {
           "colorbar": {
            "outlinewidth": 0,
            "ticks": ""
           }
          },
          "colorscale": {
           "diverging": [
            [
             0,
             "#8e0152"
            ],
            [
             0.1,
             "#c51b7d"
            ],
            [
             0.2,
             "#de77ae"
            ],
            [
             0.3,
             "#f1b6da"
            ],
            [
             0.4,
             "#fde0ef"
            ],
            [
             0.5,
             "#f7f7f7"
            ],
            [
             0.6,
             "#e6f5d0"
            ],
            [
             0.7,
             "#b8e186"
            ],
            [
             0.8,
             "#7fbc41"
            ],
            [
             0.9,
             "#4d9221"
            ],
            [
             1,
             "#276419"
            ]
           ],
           "sequential": [
            [
             0,
             "#0d0887"
            ],
            [
             0.1111111111111111,
             "#46039f"
            ],
            [
             0.2222222222222222,
             "#7201a8"
            ],
            [
             0.3333333333333333,
             "#9c179e"
            ],
            [
             0.4444444444444444,
             "#bd3786"
            ],
            [
             0.5555555555555556,
             "#d8576b"
            ],
            [
             0.6666666666666666,
             "#ed7953"
            ],
            [
             0.7777777777777778,
             "#fb9f3a"
            ],
            [
             0.8888888888888888,
             "#fdca26"
            ],
            [
             1,
             "#f0f921"
            ]
           ],
           "sequentialminus": [
            [
             0,
             "#0d0887"
            ],
            [
             0.1111111111111111,
             "#46039f"
            ],
            [
             0.2222222222222222,
             "#7201a8"
            ],
            [
             0.3333333333333333,
             "#9c179e"
            ],
            [
             0.4444444444444444,
             "#bd3786"
            ],
            [
             0.5555555555555556,
             "#d8576b"
            ],
            [
             0.6666666666666666,
             "#ed7953"
            ],
            [
             0.7777777777777778,
             "#fb9f3a"
            ],
            [
             0.8888888888888888,
             "#fdca26"
            ],
            [
             1,
             "#f0f921"
            ]
           ]
          },
          "colorway": [
           "#636efa",
           "#EF553B",
           "#00cc96",
           "#ab63fa",
           "#FFA15A",
           "#19d3f3",
           "#FF6692",
           "#B6E880",
           "#FF97FF",
           "#FECB52"
          ],
          "font": {
           "color": "#2a3f5f"
          },
          "geo": {
           "bgcolor": "white",
           "lakecolor": "white",
           "landcolor": "#E5ECF6",
           "showlakes": true,
           "showland": true,
           "subunitcolor": "white"
          },
          "hoverlabel": {
           "align": "left"
          },
          "hovermode": "closest",
          "mapbox": {
           "style": "light"
          },
          "paper_bgcolor": "white",
          "plot_bgcolor": "#E5ECF6",
          "polar": {
           "angularaxis": {
            "gridcolor": "white",
            "linecolor": "white",
            "ticks": ""
           },
           "bgcolor": "#E5ECF6",
           "radialaxis": {
            "gridcolor": "white",
            "linecolor": "white",
            "ticks": ""
           }
          },
          "scene": {
           "xaxis": {
            "backgroundcolor": "#E5ECF6",
            "gridcolor": "white",
            "gridwidth": 2,
            "linecolor": "white",
            "showbackground": true,
            "ticks": "",
            "zerolinecolor": "white"
           },
           "yaxis": {
            "backgroundcolor": "#E5ECF6",
            "gridcolor": "white",
            "gridwidth": 2,
            "linecolor": "white",
            "showbackground": true,
            "ticks": "",
            "zerolinecolor": "white"
           },
           "zaxis": {
            "backgroundcolor": "#E5ECF6",
            "gridcolor": "white",
            "gridwidth": 2,
            "linecolor": "white",
            "showbackground": true,
            "ticks": "",
            "zerolinecolor": "white"
           }
          },
          "shapedefaults": {
           "line": {
            "color": "#2a3f5f"
           }
          },
          "ternary": {
           "aaxis": {
            "gridcolor": "white",
            "linecolor": "white",
            "ticks": ""
           },
           "baxis": {
            "gridcolor": "white",
            "linecolor": "white",
            "ticks": ""
           },
           "bgcolor": "#E5ECF6",
           "caxis": {
            "gridcolor": "white",
            "linecolor": "white",
            "ticks": ""
           }
          },
          "title": {
           "x": 0.05
          },
          "xaxis": {
           "automargin": true,
           "gridcolor": "white",
           "linecolor": "white",
           "ticks": "",
           "title": {
            "standoff": 15
           },
           "zerolinecolor": "white",
           "zerolinewidth": 2
          },
          "yaxis": {
           "automargin": true,
           "gridcolor": "white",
           "linecolor": "white",
           "ticks": "",
           "title": {
            "standoff": 15
           },
           "zerolinecolor": "white",
           "zerolinewidth": 2
          }
         }
        },
        "width": 900,
        "xaxis": {
         "anchor": "y",
         "domain": [
          0,
          0.98
         ],
         "dtick": 1,
         "range": [
          1981,
          2018
         ],
         "title": {
          "text": ""
         }
        },
        "xaxis2": {
         "anchor": "y2",
         "domain": [
          0,
          0.98
         ],
         "dtick": 1,
         "matches": "x",
         "showticklabels": false
        },
        "xaxis3": {
         "anchor": "y3",
         "domain": [
          0,
          0.98
         ],
         "dtick": 1,
         "matches": "x",
         "showticklabels": false
        },
        "yaxis": {
         "anchor": "x",
         "domain": [
          0,
          0.32666666666666666
         ],
         "title": {
          "text": "Yield (mt/ha)"
         }
        },
        "yaxis2": {
         "anchor": "x2",
         "domain": [
          0.33666666666666667,
          0.6633333333333333
         ],
         "title": {
          "text": "Area (ha)"
         }
        },
        "yaxis3": {
         "anchor": "x3",
         "domain": [
          0.6733333333333333,
          1
         ],
         "title": {
          "text": "Production (mt)"
         }
        }
       }
      }
     },
     "metadata": {},
     "output_type": "display_data"
    },
    {
     "name": "stdout",
     "output_type": "stream",
     "text": [
      "../figures/LS_line_pay_Wheat_Summer.png is saved.\n"
     ]
    },
    {
     "data": {
      "application/vnd.plotly.v1+json": {
       "config": {
        "plotlyServerURL": "https://plot.ly"
       },
       "data": [
        {
         "connectgaps": false,
         "hovertemplate": "fnid=LS1980A101<br>indicator=production<br>year=%{x}<br>value=%{y}<extra></extra>",
         "legendgroup": "LS1980A101",
         "line": {
          "color": "#636efa",
          "dash": "solid"
         },
         "marker": {
          "symbol": "circle"
         },
         "mode": "lines+markers",
         "name": "LS1980A101",
         "showlegend": true,
         "type": "scattergl",
         "x": [
          1981,
          1982,
          1983,
          1984,
          1985,
          1986,
          1987,
          1988,
          1989,
          1990,
          1991,
          1992,
          1993,
          1994,
          1995,
          1996,
          1997,
          1998,
          1999,
          2000,
          2001,
          2002,
          2003,
          2004,
          2005,
          2006,
          2007,
          2008,
          2009,
          2010,
          2011,
          2012,
          2013,
          2014,
          2015,
          2016,
          2017,
          2018
         ],
         "xaxis": "x3",
         "y": [
          null,
          400,
          null,
          null,
          3,
          36,
          176,
          114,
          null,
          56,
          33,
          195,
          null,
          39,
          217,
          241,
          14,
          178,
          76,
          14,
          null,
          null,
          null,
          null,
          null,
          22,
          101,
          1,
          null,
          601,
          null,
          null,
          null,
          3,
          null,
          26,
          570,
          null
         ],
         "yaxis": "y3"
        },
        {
         "connectgaps": false,
         "hovertemplate": "fnid=LS1980A101<br>indicator=area<br>year=%{x}<br>value=%{y}<extra></extra>",
         "legendgroup": "LS1980A101",
         "line": {
          "color": "#636efa",
          "dash": "solid"
         },
         "marker": {
          "symbol": "circle"
         },
         "mode": "lines+markers",
         "name": "LS1980A101",
         "showlegend": false,
         "type": "scattergl",
         "x": [
          1981,
          1982,
          1983,
          1984,
          1985,
          1986,
          1987,
          1988,
          1989,
          1990,
          1991,
          1992,
          1993,
          1994,
          1995,
          1996,
          1997,
          1998,
          1999,
          2000,
          2001,
          2002,
          2003,
          2004,
          2005,
          2006,
          2007,
          2008,
          2009,
          2010,
          2011,
          2012,
          2013,
          2014,
          2015,
          2016,
          2017,
          2018
         ],
         "xaxis": "x2",
         "y": [
          100,
          400,
          null,
          null,
          null,
          100,
          300,
          300,
          500,
          1400,
          1100,
          500,
          null,
          1764,
          239,
          541,
          109,
          109,
          null,
          null,
          1452,
          null,
          null,
          193,
          null,
          149,
          1245,
          4,
          null,
          1224,
          null,
          null,
          null,
          210,
          null,
          86,
          870,
          403
         ],
         "yaxis": "y2"
        },
        {
         "connectgaps": false,
         "hovertemplate": "fnid=LS1980A101<br>indicator=yield<br>year=%{x}<br>value=%{y}<extra></extra>",
         "legendgroup": "LS1980A101",
         "line": {
          "color": "#636efa",
          "dash": "solid"
         },
         "marker": {
          "symbol": "circle"
         },
         "mode": "lines+markers",
         "name": "LS1980A101",
         "showlegend": false,
         "type": "scattergl",
         "x": [
          1981,
          1982,
          1983,
          1984,
          1985,
          1986,
          1987,
          1988,
          1989,
          1990,
          1991,
          1992,
          1993,
          1994,
          1995,
          1996,
          1997,
          1998,
          1999,
          2000,
          2001,
          2002,
          2003,
          2004,
          2005,
          2006,
          2007,
          2008,
          2009,
          2010,
          2011,
          2012,
          2013,
          2014,
          2015,
          2016,
          2017,
          2018
         ],
         "xaxis": "x",
         "y": [
          null,
          1,
          null,
          null,
          null,
          0.36,
          0.5866666666666667,
          0.38,
          null,
          0.04,
          0.03,
          0.39,
          null,
          0.022108843537414966,
          0.9079497907949791,
          0.4454713493530499,
          0.12844036697247707,
          1.6330275229357798,
          null,
          null,
          null,
          null,
          null,
          null,
          null,
          0.1476510067114094,
          0.08112449799196787,
          0.25,
          null,
          0.4910130718954248,
          null,
          null,
          null,
          0.014285714285714285,
          null,
          0.3023255813953488,
          0.6551724137931034,
          null
         ],
         "yaxis": "y"
        },
        {
         "connectgaps": false,
         "hovertemplate": "fnid=LS1980A102<br>indicator=production<br>year=%{x}<br>value=%{y}<extra></extra>",
         "legendgroup": "LS1980A102",
         "line": {
          "color": "#EF553B",
          "dash": "solid"
         },
         "marker": {
          "symbol": "circle"
         },
         "mode": "lines+markers",
         "name": "LS1980A102",
         "showlegend": true,
         "type": "scattergl",
         "x": [
          1981,
          1982,
          1983,
          1984,
          1985,
          1986,
          1987,
          1988,
          1989,
          1990,
          1991,
          1992,
          1993,
          1994,
          1995,
          1996,
          1997,
          1998,
          1999,
          2000,
          2001,
          2002,
          2003,
          2004,
          2005,
          2006,
          2007,
          2008,
          2009,
          2010,
          2011,
          2012,
          2013,
          2014,
          2015,
          2016,
          2017,
          2018
         ],
         "xaxis": "x3",
         "y": [
          null,
          100,
          100,
          88,
          352,
          267,
          198,
          275,
          254,
          105,
          103,
          62,
          96,
          149,
          150,
          121,
          265,
          672,
          422,
          130,
          475,
          337,
          375,
          160,
          null,
          63,
          126,
          64,
          253,
          163,
          12,
          1168,
          947,
          171,
          227,
          null,
          161,
          128
         ],
         "yaxis": "y3"
        },
        {
         "connectgaps": false,
         "hovertemplate": "fnid=LS1980A102<br>indicator=area<br>year=%{x}<br>value=%{y}<extra></extra>",
         "legendgroup": "LS1980A102",
         "line": {
          "color": "#EF553B",
          "dash": "solid"
         },
         "marker": {
          "symbol": "circle"
         },
         "mode": "lines+markers",
         "name": "LS1980A102",
         "showlegend": false,
         "type": "scattergl",
         "x": [
          1981,
          1982,
          1983,
          1984,
          1985,
          1986,
          1987,
          1988,
          1989,
          1990,
          1991,
          1992,
          1993,
          1994,
          1995,
          1996,
          1997,
          1998,
          1999,
          2000,
          2001,
          2002,
          2003,
          2004,
          2005,
          2006,
          2007,
          2008,
          2009,
          2010,
          2011,
          2012,
          2013,
          2014,
          2015,
          2016,
          2017,
          2018
         ],
         "xaxis": "x2",
         "y": [
          600,
          500,
          200,
          200,
          800,
          400,
          300,
          300,
          500,
          500,
          200,
          200,
          183,
          320,
          243,
          952,
          1059,
          911,
          933,
          354,
          443,
          522,
          442,
          340,
          172,
          273,
          480,
          599,
          465,
          384,
          70,
          687,
          619,
          437,
          396,
          126,
          270,
          341
         ],
         "yaxis": "y2"
        },
        {
         "connectgaps": false,
         "hovertemplate": "fnid=LS1980A102<br>indicator=yield<br>year=%{x}<br>value=%{y}<extra></extra>",
         "legendgroup": "LS1980A102",
         "line": {
          "color": "#EF553B",
          "dash": "solid"
         },
         "marker": {
          "symbol": "circle"
         },
         "mode": "lines+markers",
         "name": "LS1980A102",
         "showlegend": false,
         "type": "scattergl",
         "x": [
          1981,
          1982,
          1983,
          1984,
          1985,
          1986,
          1987,
          1988,
          1989,
          1990,
          1991,
          1992,
          1993,
          1994,
          1995,
          1996,
          1997,
          1998,
          1999,
          2000,
          2001,
          2002,
          2003,
          2004,
          2005,
          2006,
          2007,
          2008,
          2009,
          2010,
          2011,
          2012,
          2013,
          2014,
          2015,
          2016,
          2017,
          2018
         ],
         "xaxis": "x",
         "y": [
          null,
          0.2,
          0.5,
          0.44,
          0.44,
          0.6675,
          0.66,
          0.9166666666666666,
          0.508,
          0.21,
          0.515,
          0.31,
          0.5245901639344263,
          0.465625,
          0.6172839506172839,
          0.12710084033613445,
          0.2502360717658168,
          0.7376509330406147,
          0.45230439442658094,
          0.3672316384180791,
          1.072234762979684,
          0.6455938697318008,
          0.8484162895927602,
          0.47058823529411764,
          null,
          0.23076923076923078,
          0.2625,
          0.10684474123539232,
          0.5440860215053763,
          0.4244791666666667,
          0.17142857142857143,
          1.700145560407569,
          1.5298869143780292,
          0.391304347826087,
          0.5732323232323232,
          null,
          0.5962962962962963,
          0.375366568914956
         ],
         "yaxis": "y"
        },
        {
         "connectgaps": false,
         "hovertemplate": "fnid=LS1980A103<br>indicator=production<br>year=%{x}<br>value=%{y}<extra></extra>",
         "legendgroup": "LS1980A103",
         "line": {
          "color": "#00cc96",
          "dash": "solid"
         },
         "marker": {
          "symbol": "circle"
         },
         "mode": "lines+markers",
         "name": "LS1980A103",
         "showlegend": true,
         "type": "scattergl",
         "x": [
          1981,
          1982,
          1983,
          1984,
          1985,
          1986,
          1987,
          1988,
          1989,
          1990,
          1991,
          1992,
          1993,
          1994,
          1995,
          1996,
          1997,
          1998,
          1999,
          2000,
          2001,
          2002,
          2003,
          2004,
          2005,
          2006,
          2007,
          2008,
          2009,
          2010,
          2011,
          2012,
          2013,
          2014,
          2015,
          2016,
          2017,
          2018
         ],
         "xaxis": "x3",
         "y": [
          null,
          1100,
          1000,
          1238,
          204,
          521,
          369,
          832,
          1060,
          1155,
          391,
          343,
          323,
          860,
          1836,
          1607,
          1048,
          1143,
          940,
          580.4,
          495.4,
          862,
          329,
          161,
          103,
          827,
          74,
          375,
          319,
          579,
          438,
          293,
          203,
          763,
          664,
          396,
          777,
          319
         ],
         "yaxis": "y3"
        },
        {
         "connectgaps": false,
         "hovertemplate": "fnid=LS1980A103<br>indicator=area<br>year=%{x}<br>value=%{y}<extra></extra>",
         "legendgroup": "LS1980A103",
         "line": {
          "color": "#00cc96",
          "dash": "solid"
         },
         "marker": {
          "symbol": "circle"
         },
         "mode": "lines+markers",
         "name": "LS1980A103",
         "showlegend": false,
         "type": "scattergl",
         "x": [
          1981,
          1982,
          1983,
          1984,
          1985,
          1986,
          1987,
          1988,
          1989,
          1990,
          1991,
          1992,
          1993,
          1994,
          1995,
          1996,
          1997,
          1998,
          1999,
          2000,
          2001,
          2002,
          2003,
          2004,
          2005,
          2006,
          2007,
          2008,
          2009,
          2010,
          2011,
          2012,
          2013,
          2014,
          2015,
          2016,
          2017,
          2018
         ],
         "xaxis": "x2",
         "y": [
          1700,
          1600,
          2100,
          1000,
          1600,
          700,
          400,
          500,
          700,
          3700,
          4100,
          700,
          507,
          1272,
          2467,
          2243,
          2030,
          1848,
          1976,
          1419,
          2379,
          1595,
          707,
          323,
          140,
          1654,
          284,
          1249,
          307,
          780,
          422,
          448,
          465,
          1701,
          762,
          507,
          2045,
          2205
         ],
         "yaxis": "y2"
        },
        {
         "connectgaps": false,
         "hovertemplate": "fnid=LS1980A103<br>indicator=yield<br>year=%{x}<br>value=%{y}<extra></extra>",
         "legendgroup": "LS1980A103",
         "line": {
          "color": "#00cc96",
          "dash": "solid"
         },
         "marker": {
          "symbol": "circle"
         },
         "mode": "lines+markers",
         "name": "LS1980A103",
         "showlegend": false,
         "type": "scattergl",
         "x": [
          1981,
          1982,
          1983,
          1984,
          1985,
          1986,
          1987,
          1988,
          1989,
          1990,
          1991,
          1992,
          1993,
          1994,
          1995,
          1996,
          1997,
          1998,
          1999,
          2000,
          2001,
          2002,
          2003,
          2004,
          2005,
          2006,
          2007,
          2008,
          2009,
          2010,
          2011,
          2012,
          2013,
          2014,
          2015,
          2016,
          2017,
          2018
         ],
         "xaxis": "x",
         "y": [
          null,
          0.6875,
          0.47619047619047616,
          1.238,
          0.1275,
          0.7442857142857143,
          0.9225,
          1.664,
          1.5142857142857142,
          0.31216216216216214,
          0.09536585365853659,
          0.49,
          0.6370808678500987,
          0.6761006289308176,
          0.744223753546818,
          0.7164511814534106,
          0.516256157635468,
          0.6185064935064936,
          0.4757085020242915,
          0.40902043692741363,
          0.20823875577973938,
          0.5404388714733542,
          0.46534653465346537,
          0.4984520123839009,
          0.7357142857142858,
          0.5,
          0.2605633802816901,
          0.300240192153723,
          1.0390879478827362,
          0.7423076923076923,
          1.037914691943128,
          0.6540178571428571,
          0.43655913978494626,
          0.448559670781893,
          0.8713910761154856,
          0.7810650887573964,
          0.3799511002444988,
          0.14467120181405896
         ],
         "yaxis": "y"
        },
        {
         "connectgaps": false,
         "hovertemplate": "fnid=LS1980A104<br>indicator=production<br>year=%{x}<br>value=%{y}<extra></extra>",
         "legendgroup": "LS1980A104",
         "line": {
          "color": "#ab63fa",
          "dash": "solid"
         },
         "marker": {
          "symbol": "circle"
         },
         "mode": "lines+markers",
         "name": "LS1980A104",
         "showlegend": true,
         "type": "scattergl",
         "x": [
          1981,
          1982,
          1983,
          1984,
          1985,
          1986,
          1987,
          1988,
          1989,
          1990,
          1991,
          1992,
          1993,
          1994,
          1995,
          1996,
          1997,
          1998,
          1999,
          2000,
          2001,
          2002,
          2003,
          2004,
          2005,
          2006,
          2007,
          2008,
          2009,
          2010,
          2011,
          2012,
          2013,
          2014,
          2015,
          2016,
          2017,
          2018
         ],
         "xaxis": "x3",
         "y": [
          null,
          1200,
          5700,
          5012,
          5154,
          537,
          706,
          3050,
          null,
          1767,
          144,
          1622,
          230,
          217,
          null,
          2666,
          99,
          671,
          293,
          null,
          840.6,
          27,
          147,
          null,
          null,
          5,
          94,
          32,
          null,
          17,
          null,
          null,
          null,
          null,
          26,
          null,
          148,
          null
         ],
         "yaxis": "y3"
        },
        {
         "connectgaps": false,
         "hovertemplate": "fnid=LS1980A104<br>indicator=area<br>year=%{x}<br>value=%{y}<extra></extra>",
         "legendgroup": "LS1980A104",
         "line": {
          "color": "#ab63fa",
          "dash": "solid"
         },
         "marker": {
          "symbol": "circle"
         },
         "mode": "lines+markers",
         "name": "LS1980A104",
         "showlegend": false,
         "type": "scattergl",
         "x": [
          1981,
          1982,
          1983,
          1984,
          1985,
          1986,
          1987,
          1988,
          1989,
          1990,
          1991,
          1992,
          1993,
          1994,
          1995,
          1996,
          1997,
          1998,
          1999,
          2000,
          2001,
          2002,
          2003,
          2004,
          2005,
          2006,
          2007,
          2008,
          2009,
          2010,
          2011,
          2012,
          2013,
          2014,
          2015,
          2016,
          2017,
          2018
         ],
         "xaxis": "x2",
         "y": [
          2800,
          3800,
          12200,
          12200,
          11900,
          5200,
          2900,
          3200,
          4700,
          15700,
          13300,
          3200,
          381,
          6589,
          1023,
          6075,
          3574,
          3594,
          580,
          276,
          3348,
          448,
          205,
          null,
          253,
          30,
          1015,
          79,
          null,
          558,
          null,
          null,
          null,
          null,
          30,
          null,
          830,
          null
         ],
         "yaxis": "y2"
        },
        {
         "connectgaps": false,
         "hovertemplate": "fnid=LS1980A104<br>indicator=yield<br>year=%{x}<br>value=%{y}<extra></extra>",
         "legendgroup": "LS1980A104",
         "line": {
          "color": "#ab63fa",
          "dash": "solid"
         },
         "marker": {
          "symbol": "circle"
         },
         "mode": "lines+markers",
         "name": "LS1980A104",
         "showlegend": false,
         "type": "scattergl",
         "x": [
          1981,
          1982,
          1983,
          1984,
          1985,
          1986,
          1987,
          1988,
          1989,
          1990,
          1991,
          1992,
          1993,
          1994,
          1995,
          1996,
          1997,
          1998,
          1999,
          2000,
          2001,
          2002,
          2003,
          2004,
          2005,
          2006,
          2007,
          2008,
          2009,
          2010,
          2011,
          2012,
          2013,
          2014,
          2015,
          2016,
          2017,
          2018
         ],
         "xaxis": "x",
         "y": [
          null,
          0.3157894736842105,
          0.4672131147540984,
          0.41081967213114756,
          0.433109243697479,
          0.10326923076923077,
          0.24344827586206896,
          0.953125,
          null,
          0.11254777070063694,
          0.010827067669172932,
          0.506875,
          0.6036745406824147,
          0.03293367734102292,
          null,
          0.4388477366255144,
          0.027700055959709008,
          0.18670005564830272,
          0.5051724137931034,
          null,
          0.2510752688172043,
          0.060267857142857144,
          0.7170731707317073,
          null,
          null,
          0.16666666666666666,
          0.09261083743842365,
          0.4050632911392405,
          null,
          0.03046594982078853,
          null,
          null,
          null,
          null,
          0.8666666666666667,
          null,
          0.1783132530120482,
          null
         ],
         "yaxis": "y"
        },
        {
         "connectgaps": false,
         "hovertemplate": "fnid=LS1980A105<br>indicator=production<br>year=%{x}<br>value=%{y}<extra></extra>",
         "legendgroup": "LS1980A105",
         "line": {
          "color": "#FFA15A",
          "dash": "solid"
         },
         "marker": {
          "symbol": "circle"
         },
         "mode": "lines+markers",
         "name": "LS1980A105",
         "showlegend": true,
         "type": "scattergl",
         "x": [
          1981,
          1982,
          1983,
          1984,
          1985,
          1986,
          1987,
          1988,
          1989,
          1990,
          1991,
          1992,
          1993,
          1994,
          1995,
          1996,
          1997,
          1998,
          1999,
          2000,
          2001,
          2002,
          2003,
          2004,
          2005,
          2006,
          2007,
          2008,
          2009,
          2010,
          2011,
          2012,
          2013,
          2014,
          2015,
          2016,
          2017,
          2018
         ],
         "xaxis": "x3",
         "y": [
          null,
          4100,
          800,
          842,
          3460,
          2565,
          3965,
          3273,
          8474,
          1088,
          76,
          1050,
          113,
          1307,
          1018,
          896,
          2510,
          2941,
          1243,
          2774,
          3892,
          668,
          596,
          1055,
          null,
          574,
          1,
          370,
          676,
          11,
          2249,
          1074,
          546,
          550,
          442,
          532,
          711,
          143
         ],
         "yaxis": "y3"
        },
        {
         "connectgaps": false,
         "hovertemplate": "fnid=LS1980A105<br>indicator=area<br>year=%{x}<br>value=%{y}<extra></extra>",
         "legendgroup": "LS1980A105",
         "line": {
          "color": "#FFA15A",
          "dash": "solid"
         },
         "marker": {
          "symbol": "circle"
         },
         "mode": "lines+markers",
         "name": "LS1980A105",
         "showlegend": false,
         "type": "scattergl",
         "x": [
          1981,
          1982,
          1983,
          1984,
          1985,
          1986,
          1987,
          1988,
          1989,
          1990,
          1991,
          1992,
          1993,
          1994,
          1995,
          1996,
          1997,
          1998,
          1999,
          2000,
          2001,
          2002,
          2003,
          2004,
          2005,
          2006,
          2007,
          2008,
          2009,
          2010,
          2011,
          2012,
          2013,
          2014,
          2015,
          2016,
          2017,
          2018
         ],
         "xaxis": "x2",
         "y": [
          4200,
          6300,
          1500,
          1600,
          5400,
          5100,
          4600,
          5100,
          7400,
          5800,
          2600,
          1700,
          533,
          4210,
          1933,
          1797,
          3920,
          6287,
          2417,
          2346,
          3689,
          1422,
          1699,
          3171,
          2221,
          1435,
          17,
          1710,
          2289,
          229,
          1623,
          1342,
          768,
          1025,
          729,
          2844,
          1446,
          1445
         ],
         "yaxis": "y2"
        },
        {
         "connectgaps": false,
         "hovertemplate": "fnid=LS1980A105<br>indicator=yield<br>year=%{x}<br>value=%{y}<extra></extra>",
         "legendgroup": "LS1980A105",
         "line": {
          "color": "#FFA15A",
          "dash": "solid"
         },
         "marker": {
          "symbol": "circle"
         },
         "mode": "lines+markers",
         "name": "LS1980A105",
         "showlegend": false,
         "type": "scattergl",
         "x": [
          1981,
          1982,
          1983,
          1984,
          1985,
          1986,
          1987,
          1988,
          1989,
          1990,
          1991,
          1992,
          1993,
          1994,
          1995,
          1996,
          1997,
          1998,
          1999,
          2000,
          2001,
          2002,
          2003,
          2004,
          2005,
          2006,
          2007,
          2008,
          2009,
          2010,
          2011,
          2012,
          2013,
          2014,
          2015,
          2016,
          2017,
          2018
         ],
         "xaxis": "x",
         "y": [
          null,
          0.6507936507936508,
          0.5333333333333333,
          0.52625,
          0.6407407407407407,
          0.5029411764705882,
          0.8619565217391304,
          0.6417647058823529,
          1.145135135135135,
          0.18758620689655173,
          0.02923076923076923,
          0.6176470588235294,
          0.21200750469043153,
          0.31045130641330165,
          0.5266425245732023,
          0.4986087924318308,
          0.6403061224489796,
          0.46779067917925876,
          0.5142738932561026,
          1.1824381926683718,
          1.0550284629981024,
          0.469760900140647,
          0.3507945850500294,
          0.3327026174708294,
          null,
          0.4,
          0.058823529411764705,
          0.21637426900584794,
          0.29532546963739625,
          0.048034934497816595,
          1.385705483672212,
          0.8002980625931445,
          0.7109375,
          0.5365853658536586,
          0.6063100137174211,
          0.18706047819971872,
          0.491701244813278,
          0.09896193771626298
         ],
         "yaxis": "y"
        },
        {
         "connectgaps": false,
         "hovertemplate": "fnid=LS1980A106<br>indicator=production<br>year=%{x}<br>value=%{y}<extra></extra>",
         "legendgroup": "LS1980A106",
         "line": {
          "color": "#19d3f3",
          "dash": "solid"
         },
         "marker": {
          "symbol": "circle"
         },
         "mode": "lines+markers",
         "name": "LS1980A106",
         "showlegend": true,
         "type": "scattergl",
         "x": [
          1981,
          1982,
          1983,
          1984,
          1985,
          1986,
          1987,
          1988,
          1989,
          1990,
          1991,
          1992,
          1993,
          1994,
          1995,
          1996,
          1997,
          1998,
          1999,
          2000,
          2001,
          2002,
          2003,
          2004,
          2005,
          2006,
          2007,
          2008,
          2009,
          2010,
          2011,
          2012,
          2013,
          2014,
          2015,
          2016,
          2017,
          2018
         ],
         "xaxis": "x3",
         "y": [
          null,
          1800,
          3700,
          3369,
          1798,
          1094,
          3230,
          3673,
          2431,
          3531,
          783,
          2142,
          2417,
          1067,
          654,
          3922,
          5262,
          4502,
          927,
          1,
          1595,
          null,
          2566,
          1505,
          null,
          null,
          284,
          353,
          729,
          44,
          880,
          1121,
          307,
          515,
          294,
          932,
          1464,
          135
         ],
         "yaxis": "y3"
        },
        {
         "connectgaps": false,
         "hovertemplate": "fnid=LS1980A106<br>indicator=area<br>year=%{x}<br>value=%{y}<extra></extra>",
         "legendgroup": "LS1980A106",
         "line": {
          "color": "#19d3f3",
          "dash": "solid"
         },
         "marker": {
          "symbol": "circle"
         },
         "mode": "lines+markers",
         "name": "LS1980A106",
         "showlegend": false,
         "type": "scattergl",
         "x": [
          1981,
          1982,
          1983,
          1984,
          1985,
          1986,
          1987,
          1988,
          1989,
          1990,
          1991,
          1992,
          1993,
          1994,
          1995,
          1996,
          1997,
          1998,
          1999,
          2000,
          2001,
          2002,
          2003,
          2004,
          2005,
          2006,
          2007,
          2008,
          2009,
          2010,
          2011,
          2012,
          2013,
          2014,
          2015,
          2016,
          2017,
          2018
         ],
         "xaxis": "x2",
         "y": [
          2600,
          2800,
          7300,
          9300,
          4600,
          5200,
          3100,
          3500,
          5100,
          9300,
          4700,
          3000,
          2109,
          5369,
          907,
          4297,
          2746,
          2644,
          578,
          55,
          4487,
          256,
          1521,
          1300,
          null,
          null,
          2203,
          1500,
          2431,
          277,
          1347,
          1401,
          677,
          696,
          589,
          1635,
          793,
          300
         ],
         "yaxis": "y2"
        },
        {
         "connectgaps": false,
         "hovertemplate": "fnid=LS1980A106<br>indicator=yield<br>year=%{x}<br>value=%{y}<extra></extra>",
         "legendgroup": "LS1980A106",
         "line": {
          "color": "#19d3f3",
          "dash": "solid"
         },
         "marker": {
          "symbol": "circle"
         },
         "mode": "lines+markers",
         "name": "LS1980A106",
         "showlegend": false,
         "type": "scattergl",
         "x": [
          1981,
          1982,
          1983,
          1984,
          1985,
          1986,
          1987,
          1988,
          1989,
          1990,
          1991,
          1992,
          1993,
          1994,
          1995,
          1996,
          1997,
          1998,
          1999,
          2000,
          2001,
          2002,
          2003,
          2004,
          2005,
          2006,
          2007,
          2008,
          2009,
          2010,
          2011,
          2012,
          2013,
          2014,
          2015,
          2016,
          2017,
          2018
         ],
         "xaxis": "x",
         "y": [
          null,
          0.6428571428571429,
          0.5068493150684932,
          0.362258064516129,
          0.3908695652173913,
          0.2103846153846154,
          1.0419354838709678,
          1.0494285714285714,
          0.4766666666666667,
          0.37967741935483873,
          0.16659574468085106,
          0.714,
          1.146040777619725,
          0.1987334699199106,
          0.721058434399118,
          0.9127298114963929,
          1.9162418062636561,
          1.7027231467473525,
          1.6038062283737025,
          0.01818181818181818,
          0.3554713617116113,
          null,
          1.6870479947403025,
          1.1576923076923078,
          null,
          null,
          0.1289151157512483,
          0.23533333333333334,
          0.29987659399424105,
          0.1588447653429603,
          0.6533036377134372,
          0.8001427551748751,
          0.4534711964549483,
          0.7399425287356322,
          0.499151103565365,
          0.5700305810397553,
          1.8461538461538463,
          0.45
         ],
         "yaxis": "y"
        },
        {
         "connectgaps": false,
         "hovertemplate": "fnid=LS1980A107<br>indicator=production<br>year=%{x}<br>value=%{y}<extra></extra>",
         "legendgroup": "LS1980A107",
         "line": {
          "color": "#FF6692",
          "dash": "solid"
         },
         "marker": {
          "symbol": "circle"
         },
         "mode": "lines+markers",
         "name": "LS1980A107",
         "showlegend": true,
         "type": "scattergl",
         "x": [
          1981,
          1982,
          1983,
          1984,
          1985,
          1986,
          1987,
          1988,
          1989,
          1990,
          1991,
          1992,
          1993,
          1994,
          1995,
          1996,
          1997,
          1998,
          1999,
          2000,
          2001,
          2002,
          2003,
          2004,
          2005,
          2006,
          2007,
          2008,
          2009,
          2010,
          2011,
          2012,
          2013,
          2014,
          2015,
          2016,
          2017,
          2018
         ],
         "xaxis": "x3",
         "y": [
          null,
          2900,
          1400,
          2668,
          3942,
          3627,
          2606,
          3581,
          5820,
          1123,
          2018,
          1882,
          2564,
          2274,
          2083,
          4882,
          7334,
          5030,
          2811,
          1276,
          1063,
          8812,
          4520,
          2672,
          null,
          446,
          158,
          60,
          1119,
          15286,
          12898,
          3914,
          7135,
          7078,
          2511,
          1044,
          3742,
          3139
         ],
         "yaxis": "y3"
        },
        {
         "connectgaps": false,
         "hovertemplate": "fnid=LS1980A107<br>indicator=area<br>year=%{x}<br>value=%{y}<extra></extra>",
         "legendgroup": "LS1980A107",
         "line": {
          "color": "#FF6692",
          "dash": "solid"
         },
         "marker": {
          "symbol": "circle"
         },
         "mode": "lines+markers",
         "name": "LS1980A107",
         "showlegend": false,
         "type": "scattergl",
         "x": [
          1981,
          1982,
          1983,
          1984,
          1985,
          1986,
          1987,
          1988,
          1989,
          1990,
          1991,
          1992,
          1993,
          1994,
          1995,
          1996,
          1997,
          1998,
          1999,
          2000,
          2001,
          2002,
          2003,
          2004,
          2005,
          2006,
          2007,
          2008,
          2009,
          2010,
          2011,
          2012,
          2013,
          2014,
          2015,
          2016,
          2017,
          2018
         ],
         "xaxis": "x2",
         "y": [
          3100,
          5600,
          3200,
          3100,
          6600,
          5100,
          5200,
          5800,
          8400,
          8500,
          4700,
          3000,
          1751,
          2959,
          4379,
          4340,
          4340,
          3959,
          4754,
          3322,
          2479,
          5179,
          4230,
          3739,
          3429,
          2974,
          1576,
          5097,
          5595,
          6899,
          11619,
          3599,
          4301,
          5425,
          2745,
          2690,
          1661,
          2483
         ],
         "yaxis": "y2"
        },
        {
         "connectgaps": false,
         "hovertemplate": "fnid=LS1980A107<br>indicator=yield<br>year=%{x}<br>value=%{y}<extra></extra>",
         "legendgroup": "LS1980A107",
         "line": {
          "color": "#FF6692",
          "dash": "solid"
         },
         "marker": {
          "symbol": "circle"
         },
         "mode": "lines+markers",
         "name": "LS1980A107",
         "showlegend": false,
         "type": "scattergl",
         "x": [
          1981,
          1982,
          1983,
          1984,
          1985,
          1986,
          1987,
          1988,
          1989,
          1990,
          1991,
          1992,
          1993,
          1994,
          1995,
          1996,
          1997,
          1998,
          1999,
          2000,
          2001,
          2002,
          2003,
          2004,
          2005,
          2006,
          2007,
          2008,
          2009,
          2010,
          2011,
          2012,
          2013,
          2014,
          2015,
          2016,
          2017,
          2018
         ],
         "xaxis": "x",
         "y": [
          null,
          0.5178571428571429,
          0.4375,
          0.8606451612903225,
          0.5972727272727273,
          0.7111764705882353,
          0.5011538461538462,
          0.6174137931034482,
          0.6928571428571428,
          0.13211764705882353,
          0.42936170212765956,
          0.6273333333333333,
          1.464306110793832,
          0.7685028725920919,
          0.47567937885361955,
          1.124884792626728,
          1.6898617511520737,
          1.270522859307906,
          0.5912915439629786,
          0.3841059602649007,
          0.4288019362646228,
          1.7014867735083994,
          1.0685579196217494,
          0.7146295801016315,
          null,
          0.14996637525218562,
          0.10025380710659898,
          0.011771630370806356,
          0.2,
          2.2156834323815047,
          1.1100783199931148,
          1.0875243123089746,
          1.6589165310392933,
          1.304700460829493,
          0.9147540983606557,
          0.38810408921933087,
          2.2528597230583984,
          1.2641965364478454
         ],
         "yaxis": "y"
        },
        {
         "connectgaps": false,
         "hovertemplate": "fnid=LS1980A108<br>indicator=production<br>year=%{x}<br>value=%{y}<extra></extra>",
         "legendgroup": "LS1980A108",
         "line": {
          "color": "#B6E880",
          "dash": "solid"
         },
         "marker": {
          "symbol": "circle"
         },
         "mode": "lines+markers",
         "name": "LS1980A108",
         "showlegend": true,
         "type": "scattergl",
         "x": [
          1981,
          1982,
          1983,
          1984,
          1985,
          1986,
          1987,
          1988,
          1989,
          1990,
          1991,
          1992,
          1993,
          1994,
          1995,
          1996,
          1997,
          1998,
          1999,
          2000,
          2001,
          2002,
          2003,
          2004,
          2005,
          2006,
          2007,
          2008,
          2009,
          2010,
          2011,
          2012,
          2013,
          2014,
          2015,
          2016,
          2017,
          2018
         ],
         "xaxis": "x3",
         "y": [
          null,
          300,
          500,
          443,
          482,
          602,
          428,
          156,
          1382,
          2901,
          372,
          1584,
          348,
          1096,
          1343,
          1255,
          1657,
          832,
          29,
          325,
          201.4,
          1787,
          200,
          974,
          655,
          334,
          36,
          459,
          544,
          1047,
          376,
          117,
          939,
          911,
          192,
          1,
          470,
          1576
         ],
         "yaxis": "y3"
        },
        {
         "connectgaps": false,
         "hovertemplate": "fnid=LS1980A108<br>indicator=area<br>year=%{x}<br>value=%{y}<extra></extra>",
         "legendgroup": "LS1980A108",
         "line": {
          "color": "#B6E880",
          "dash": "solid"
         },
         "marker": {
          "symbol": "circle"
         },
         "mode": "lines+markers",
         "name": "LS1980A108",
         "showlegend": false,
         "type": "scattergl",
         "x": [
          1981,
          1982,
          1983,
          1984,
          1985,
          1986,
          1987,
          1988,
          1989,
          1990,
          1991,
          1992,
          1993,
          1994,
          1995,
          1996,
          1997,
          1998,
          1999,
          2000,
          2001,
          2002,
          2003,
          2004,
          2005,
          2006,
          2007,
          2008,
          2009,
          2010,
          2011,
          2012,
          2013,
          2014,
          2015,
          2016,
          2017,
          2018
         ],
         "xaxis": "x2",
         "y": [
          1900,
          400,
          1600,
          1000,
          700,
          500,
          1000,
          1000,
          1500,
          3700,
          2800,
          2500,
          2269,
          1793,
          3215,
          1968,
          1968,
          664,
          2168,
          931,
          249,
          1339,
          1252,
          853,
          1201,
          1355,
          1355,
          1975,
          2719,
          1192,
          393,
          521,
          473,
          770,
          637,
          940,
          1014,
          316
         ],
         "yaxis": "y2"
        },
        {
         "connectgaps": false,
         "hovertemplate": "fnid=LS1980A108<br>indicator=yield<br>year=%{x}<br>value=%{y}<extra></extra>",
         "legendgroup": "LS1980A108",
         "line": {
          "color": "#B6E880",
          "dash": "solid"
         },
         "marker": {
          "symbol": "circle"
         },
         "mode": "lines+markers",
         "name": "LS1980A108",
         "showlegend": false,
         "type": "scattergl",
         "x": [
          1981,
          1982,
          1983,
          1984,
          1985,
          1986,
          1987,
          1988,
          1989,
          1990,
          1991,
          1992,
          1993,
          1994,
          1995,
          1996,
          1997,
          1998,
          1999,
          2000,
          2001,
          2002,
          2003,
          2004,
          2005,
          2006,
          2007,
          2008,
          2009,
          2010,
          2011,
          2012,
          2013,
          2014,
          2015,
          2016,
          2017,
          2018
         ],
         "xaxis": "x",
         "y": [
          null,
          0.75,
          0.3125,
          0.443,
          0.6885714285714286,
          1.204,
          0.428,
          0.156,
          0.9213333333333333,
          0.784054054054054,
          0.13285714285714287,
          0.6336,
          0.15337152930806522,
          0.611266034578918,
          0.4177293934681182,
          0.6377032520325203,
          0.8419715447154471,
          1.2530120481927711,
          0.013376383763837638,
          0.34908700322234154,
          0.8088353413654619,
          1.3345780433159073,
          0.1597444089456869,
          1.141852286049238,
          0.5453788509575354,
          0.24649446494464944,
          0.026568265682656828,
          0.23240506329113925,
          0.2000735564545789,
          0.8783557046979866,
          0.9567430025445293,
          0.22456813819577734,
          1.985200845665962,
          1.183116883116883,
          0.30141287284144425,
          0.0010638297872340426,
          0.4635108481262327,
          4.987341772151899
         ],
         "yaxis": "y"
        },
        {
         "connectgaps": false,
         "hovertemplate": "fnid=LS1980A109<br>indicator=production<br>year=%{x}<br>value=%{y}<extra></extra>",
         "legendgroup": "LS1980A109",
         "line": {
          "color": "#FF97FF",
          "dash": "solid"
         },
         "marker": {
          "symbol": "circle"
         },
         "mode": "lines+markers",
         "name": "LS1980A109",
         "showlegend": true,
         "type": "scattergl",
         "x": [
          1981,
          1982,
          1983,
          1984,
          1985,
          1986,
          1987,
          1988,
          1989,
          1990,
          1991,
          1992,
          1993,
          1994,
          1995,
          1996,
          1997,
          1998,
          1999,
          2000,
          2001,
          2002,
          2003,
          2004,
          2005,
          2006,
          2007,
          2008,
          2009,
          2010,
          2011,
          2012,
          2013,
          2014,
          2015,
          2016,
          2017,
          2018
         ],
         "xaxis": "x3",
         "y": [
          null,
          1100,
          1200,
          1158,
          1578,
          262,
          1278,
          1278,
          1776,
          2265,
          1394,
          1488,
          500,
          1645,
          429,
          3054,
          4827,
          1527,
          1666,
          2471,
          1621,
          781,
          1831,
          2207,
          null,
          17,
          263,
          268,
          191,
          266,
          879,
          983,
          415,
          226,
          914,
          115,
          848,
          176
         ],
         "yaxis": "y3"
        },
        {
         "connectgaps": false,
         "hovertemplate": "fnid=LS1980A109<br>indicator=area<br>year=%{x}<br>value=%{y}<extra></extra>",
         "legendgroup": "LS1980A109",
         "line": {
          "color": "#FF97FF",
          "dash": "solid"
         },
         "marker": {
          "symbol": "circle"
         },
         "mode": "lines+markers",
         "name": "LS1980A109",
         "showlegend": false,
         "type": "scattergl",
         "x": [
          1981,
          1982,
          1983,
          1984,
          1985,
          1986,
          1987,
          1988,
          1989,
          1990,
          1991,
          1992,
          1993,
          1994,
          1995,
          1996,
          1997,
          1998,
          1999,
          2000,
          2001,
          2002,
          2003,
          2004,
          2005,
          2006,
          2007,
          2008,
          2009,
          2010,
          2011,
          2012,
          2013,
          2014,
          2015,
          2016,
          2017,
          2018
         ],
         "xaxis": "x2",
         "y": [
          3000,
          1800,
          2600,
          2300,
          6200,
          1000,
          3200,
          3600,
          5200,
          5400,
          4000,
          3200,
          3050,
          3420,
          574,
          2627,
          2581,
          1856,
          2753,
          2260,
          1878,
          1767,
          2633,
          2806,
          926,
          68,
          2000,
          664,
          506,
          745,
          1405,
          1400,
          580,
          721,
          861,
          1523,
          897,
          615
         ],
         "yaxis": "y2"
        },
        {
         "connectgaps": false,
         "hovertemplate": "fnid=LS1980A109<br>indicator=yield<br>year=%{x}<br>value=%{y}<extra></extra>",
         "legendgroup": "LS1980A109",
         "line": {
          "color": "#FF97FF",
          "dash": "solid"
         },
         "marker": {
          "symbol": "circle"
         },
         "mode": "lines+markers",
         "name": "LS1980A109",
         "showlegend": false,
         "type": "scattergl",
         "x": [
          1981,
          1982,
          1983,
          1984,
          1985,
          1986,
          1987,
          1988,
          1989,
          1990,
          1991,
          1992,
          1993,
          1994,
          1995,
          1996,
          1997,
          1998,
          1999,
          2000,
          2001,
          2002,
          2003,
          2004,
          2005,
          2006,
          2007,
          2008,
          2009,
          2010,
          2011,
          2012,
          2013,
          2014,
          2015,
          2016,
          2017,
          2018
         ],
         "xaxis": "x",
         "y": [
          null,
          0.6111111111111112,
          0.46153846153846156,
          0.5034782608695653,
          0.25451612903225806,
          0.262,
          0.399375,
          0.355,
          0.3415384615384615,
          0.41944444444444445,
          0.3485,
          0.465,
          0.16393442622950818,
          0.48099415204678364,
          0.7473867595818815,
          1.1625428245146554,
          1.8702053467648199,
          0.8227370689655172,
          0.6051580094442427,
          1.093362831858407,
          0.8631522896698616,
          0.4419920769666101,
          0.6954044815799468,
          0.7865288667141839,
          null,
          0.25,
          0.1315,
          0.4036144578313253,
          0.3774703557312253,
          0.35704697986577183,
          0.6256227758007118,
          0.7021428571428572,
          0.7155172413793104,
          0.31345353675450766,
          1.0615563298490127,
          0.07550886408404466,
          0.9453734671125975,
          0.2861788617886179
         ],
         "yaxis": "y"
        },
        {
         "connectgaps": false,
         "hovertemplate": "fnid=LS1980A110<br>indicator=production<br>year=%{x}<br>value=%{y}<extra></extra>",
         "legendgroup": "LS1980A110",
         "line": {
          "color": "#FECB52",
          "dash": "solid"
         },
         "marker": {
          "symbol": "circle"
         },
         "mode": "lines+markers",
         "name": "LS1980A110",
         "showlegend": true,
         "type": "scattergl",
         "x": [
          1981,
          1982,
          1983,
          1984,
          1985,
          1986,
          1987,
          1988,
          1989,
          1990,
          1991,
          1992,
          1993,
          1994,
          1995,
          1996,
          1997,
          1998,
          1999,
          2000,
          2001,
          2002,
          2003,
          2004,
          2005,
          2006,
          2007,
          2008,
          2009,
          2010,
          2011,
          2012,
          2013,
          2014,
          2015,
          2016,
          2017,
          2018
         ],
         "xaxis": "x3",
         "y": [
          null,
          1400,
          400,
          2309,
          1461,
          1498,
          5564,
          3005,
          6170,
          1898,
          1530,
          1487,
          536,
          3241,
          1254,
          10955,
          10706,
          12145,
          7019,
          2751,
          12635,
          5684,
          2545,
          2913,
          1292,
          572,
          289,
          93,
          1069,
          1257,
          1299,
          1846,
          2132,
          2364,
          1403,
          1339,
          1136,
          1436
         ],
         "yaxis": "y3"
        },
        {
         "connectgaps": false,
         "hovertemplate": "fnid=LS1980A110<br>indicator=area<br>year=%{x}<br>value=%{y}<extra></extra>",
         "legendgroup": "LS1980A110",
         "line": {
          "color": "#FECB52",
          "dash": "solid"
         },
         "marker": {
          "symbol": "circle"
         },
         "mode": "lines+markers",
         "name": "LS1980A110",
         "showlegend": false,
         "type": "scattergl",
         "x": [
          1981,
          1982,
          1983,
          1984,
          1985,
          1986,
          1987,
          1988,
          1989,
          1990,
          1991,
          1992,
          1993,
          1994,
          1995,
          1996,
          1997,
          1998,
          1999,
          2000,
          2001,
          2002,
          2003,
          2004,
          2005,
          2006,
          2007,
          2008,
          2009,
          2010,
          2011,
          2012,
          2013,
          2014,
          2015,
          2016,
          2017,
          2018
         ],
         "xaxis": "x2",
         "y": [
          3600,
          3800,
          1100,
          2800,
          5400,
          2800,
          8400,
          9400,
          13700,
          3600,
          4100,
          2400,
          2661,
          4848,
          5252,
          4760,
          4760,
          7836,
          5385,
          3321,
          5443,
          4958,
          3310,
          3306,
          2619,
          2382,
          1113,
          5025,
          7187,
          1409,
          1009,
          2772,
          2023,
          3308,
          1661,
          4831,
          2237,
          2233
         ],
         "yaxis": "y2"
        },
        {
         "connectgaps": false,
         "hovertemplate": "fnid=LS1980A110<br>indicator=yield<br>year=%{x}<br>value=%{y}<extra></extra>",
         "legendgroup": "LS1980A110",
         "line": {
          "color": "#FECB52",
          "dash": "solid"
         },
         "marker": {
          "symbol": "circle"
         },
         "mode": "lines+markers",
         "name": "LS1980A110",
         "showlegend": false,
         "type": "scattergl",
         "x": [
          1981,
          1982,
          1983,
          1984,
          1985,
          1986,
          1987,
          1988,
          1989,
          1990,
          1991,
          1992,
          1993,
          1994,
          1995,
          1996,
          1997,
          1998,
          1999,
          2000,
          2001,
          2002,
          2003,
          2004,
          2005,
          2006,
          2007,
          2008,
          2009,
          2010,
          2011,
          2012,
          2013,
          2014,
          2015,
          2016,
          2017,
          2018
         ],
         "xaxis": "x",
         "y": [
          null,
          0.3684210526315789,
          0.36363636363636365,
          0.8246428571428571,
          0.27055555555555555,
          0.535,
          0.6623809523809524,
          0.31968085106382976,
          0.45036496350364963,
          0.5272222222222223,
          0.37317073170731707,
          0.6195833333333334,
          0.2014280345734686,
          0.668523102310231,
          0.23876618431073876,
          2.301470588235294,
          2.249159663865546,
          1.5498979070954568,
          1.3034354688950789,
          0.8283649503161699,
          2.3213301488149916,
          1.146430012101654,
          0.7688821752265861,
          0.8811252268602541,
          0.4933180603283696,
          0.2401343408900084,
          0.25965858041329737,
          0.018507462686567163,
          0.14874078196744123,
          0.8921220723917672,
          1.2874132804757186,
          0.665945165945166,
          1.0538803756796837,
          0.7146311970979444,
          0.8446718844069837,
          0.27716828813910166,
          0.5078229772016093,
          0.6430810568741603
         ],
         "yaxis": "y"
        }
       ],
       "layout": {
        "annotations": [
         {
          "showarrow": false,
          "text": "",
          "textangle": 90,
          "x": 0.98,
          "xanchor": "left",
          "xref": "paper",
          "y": 0.16333333333333333,
          "yanchor": "middle",
          "yref": "paper"
         },
         {
          "showarrow": false,
          "text": "",
          "textangle": 90,
          "x": 0.98,
          "xanchor": "left",
          "xref": "paper",
          "y": 0.5,
          "yanchor": "middle",
          "yref": "paper"
         },
         {
          "showarrow": false,
          "text": "",
          "textangle": 90,
          "x": 0.98,
          "xanchor": "left",
          "xref": "paper",
          "y": 0.8366666666666667,
          "yanchor": "middle",
          "yref": "paper"
         },
         {
          "align": "left",
          "font": {
           "color": "dimgrey",
           "family": "arial",
           "size": 15
          },
          "showarrow": false,
          "text": "Production-Area-Yield (PAY) time-series of LS - Wheat - Summer",
          "x": -0.014,
          "xref": "paper",
          "y": -0.14,
          "yref": "paper"
         }
        ],
        "font": {
         "color": "black",
         "family": "arial",
         "size": 16
        },
        "height": 600,
        "legend": {
         "font": {
          "size": 14
         },
         "title": {
          "text": "FNID"
         },
         "tracegroupgap": 0,
         "x": 1,
         "xanchor": "left",
         "y": 1,
         "yanchor": "top"
        },
        "margin": {
         "b": 25,
         "l": 0,
         "r": 0,
         "t": 0
        },
        "template": {
         "data": {
          "bar": [
           {
            "error_x": {
             "color": "#2a3f5f"
            },
            "error_y": {
             "color": "#2a3f5f"
            },
            "marker": {
             "line": {
              "color": "#E5ECF6",
              "width": 0.5
             },
             "pattern": {
              "fillmode": "overlay",
              "size": 10,
              "solidity": 0.2
             }
            },
            "type": "bar"
           }
          ],
          "barpolar": [
           {
            "marker": {
             "line": {
              "color": "#E5ECF6",
              "width": 0.5
             },
             "pattern": {
              "fillmode": "overlay",
              "size": 10,
              "solidity": 0.2
             }
            },
            "type": "barpolar"
           }
          ],
          "carpet": [
           {
            "aaxis": {
             "endlinecolor": "#2a3f5f",
             "gridcolor": "white",
             "linecolor": "white",
             "minorgridcolor": "white",
             "startlinecolor": "#2a3f5f"
            },
            "baxis": {
             "endlinecolor": "#2a3f5f",
             "gridcolor": "white",
             "linecolor": "white",
             "minorgridcolor": "white",
             "startlinecolor": "#2a3f5f"
            },
            "type": "carpet"
           }
          ],
          "choropleth": [
           {
            "colorbar": {
             "outlinewidth": 0,
             "ticks": ""
            },
            "type": "choropleth"
           }
          ],
          "contour": [
           {
            "colorbar": {
             "outlinewidth": 0,
             "ticks": ""
            },
            "colorscale": [
             [
              0,
              "#0d0887"
             ],
             [
              0.1111111111111111,
              "#46039f"
             ],
             [
              0.2222222222222222,
              "#7201a8"
             ],
             [
              0.3333333333333333,
              "#9c179e"
             ],
             [
              0.4444444444444444,
              "#bd3786"
             ],
             [
              0.5555555555555556,
              "#d8576b"
             ],
             [
              0.6666666666666666,
              "#ed7953"
             ],
             [
              0.7777777777777778,
              "#fb9f3a"
             ],
             [
              0.8888888888888888,
              "#fdca26"
             ],
             [
              1,
              "#f0f921"
             ]
            ],
            "type": "contour"
           }
          ],
          "contourcarpet": [
           {
            "colorbar": {
             "outlinewidth": 0,
             "ticks": ""
            },
            "type": "contourcarpet"
           }
          ],
          "heatmap": [
           {
            "colorbar": {
             "outlinewidth": 0,
             "ticks": ""
            },
            "colorscale": [
             [
              0,
              "#0d0887"
             ],
             [
              0.1111111111111111,
              "#46039f"
             ],
             [
              0.2222222222222222,
              "#7201a8"
             ],
             [
              0.3333333333333333,
              "#9c179e"
             ],
             [
              0.4444444444444444,
              "#bd3786"
             ],
             [
              0.5555555555555556,
              "#d8576b"
             ],
             [
              0.6666666666666666,
              "#ed7953"
             ],
             [
              0.7777777777777778,
              "#fb9f3a"
             ],
             [
              0.8888888888888888,
              "#fdca26"
             ],
             [
              1,
              "#f0f921"
             ]
            ],
            "type": "heatmap"
           }
          ],
          "heatmapgl": [
           {
            "colorbar": {
             "outlinewidth": 0,
             "ticks": ""
            },
            "colorscale": [
             [
              0,
              "#0d0887"
             ],
             [
              0.1111111111111111,
              "#46039f"
             ],
             [
              0.2222222222222222,
              "#7201a8"
             ],
             [
              0.3333333333333333,
              "#9c179e"
             ],
             [
              0.4444444444444444,
              "#bd3786"
             ],
             [
              0.5555555555555556,
              "#d8576b"
             ],
             [
              0.6666666666666666,
              "#ed7953"
             ],
             [
              0.7777777777777778,
              "#fb9f3a"
             ],
             [
              0.8888888888888888,
              "#fdca26"
             ],
             [
              1,
              "#f0f921"
             ]
            ],
            "type": "heatmapgl"
           }
          ],
          "histogram": [
           {
            "marker": {
             "pattern": {
              "fillmode": "overlay",
              "size": 10,
              "solidity": 0.2
             }
            },
            "type": "histogram"
           }
          ],
          "histogram2d": [
           {
            "colorbar": {
             "outlinewidth": 0,
             "ticks": ""
            },
            "colorscale": [
             [
              0,
              "#0d0887"
             ],
             [
              0.1111111111111111,
              "#46039f"
             ],
             [
              0.2222222222222222,
              "#7201a8"
             ],
             [
              0.3333333333333333,
              "#9c179e"
             ],
             [
              0.4444444444444444,
              "#bd3786"
             ],
             [
              0.5555555555555556,
              "#d8576b"
             ],
             [
              0.6666666666666666,
              "#ed7953"
             ],
             [
              0.7777777777777778,
              "#fb9f3a"
             ],
             [
              0.8888888888888888,
              "#fdca26"
             ],
             [
              1,
              "#f0f921"
             ]
            ],
            "type": "histogram2d"
           }
          ],
          "histogram2dcontour": [
           {
            "colorbar": {
             "outlinewidth": 0,
             "ticks": ""
            },
            "colorscale": [
             [
              0,
              "#0d0887"
             ],
             [
              0.1111111111111111,
              "#46039f"
             ],
             [
              0.2222222222222222,
              "#7201a8"
             ],
             [
              0.3333333333333333,
              "#9c179e"
             ],
             [
              0.4444444444444444,
              "#bd3786"
             ],
             [
              0.5555555555555556,
              "#d8576b"
             ],
             [
              0.6666666666666666,
              "#ed7953"
             ],
             [
              0.7777777777777778,
              "#fb9f3a"
             ],
             [
              0.8888888888888888,
              "#fdca26"
             ],
             [
              1,
              "#f0f921"
             ]
            ],
            "type": "histogram2dcontour"
           }
          ],
          "mesh3d": [
           {
            "colorbar": {
             "outlinewidth": 0,
             "ticks": ""
            },
            "type": "mesh3d"
           }
          ],
          "parcoords": [
           {
            "line": {
             "colorbar": {
              "outlinewidth": 0,
              "ticks": ""
             }
            },
            "type": "parcoords"
           }
          ],
          "pie": [
           {
            "automargin": true,
            "type": "pie"
           }
          ],
          "scatter": [
           {
            "fillpattern": {
             "fillmode": "overlay",
             "size": 10,
             "solidity": 0.2
            },
            "type": "scatter"
           }
          ],
          "scatter3d": [
           {
            "line": {
             "colorbar": {
              "outlinewidth": 0,
              "ticks": ""
             }
            },
            "marker": {
             "colorbar": {
              "outlinewidth": 0,
              "ticks": ""
             }
            },
            "type": "scatter3d"
           }
          ],
          "scattercarpet": [
           {
            "marker": {
             "colorbar": {
              "outlinewidth": 0,
              "ticks": ""
             }
            },
            "type": "scattercarpet"
           }
          ],
          "scattergeo": [
           {
            "marker": {
             "colorbar": {
              "outlinewidth": 0,
              "ticks": ""
             }
            },
            "type": "scattergeo"
           }
          ],
          "scattergl": [
           {
            "marker": {
             "colorbar": {
              "outlinewidth": 0,
              "ticks": ""
             }
            },
            "type": "scattergl"
           }
          ],
          "scattermapbox": [
           {
            "marker": {
             "colorbar": {
              "outlinewidth": 0,
              "ticks": ""
             }
            },
            "type": "scattermapbox"
           }
          ],
          "scatterpolar": [
           {
            "marker": {
             "colorbar": {
              "outlinewidth": 0,
              "ticks": ""
             }
            },
            "type": "scatterpolar"
           }
          ],
          "scatterpolargl": [
           {
            "marker": {
             "colorbar": {
              "outlinewidth": 0,
              "ticks": ""
             }
            },
            "type": "scatterpolargl"
           }
          ],
          "scatterternary": [
           {
            "marker": {
             "colorbar": {
              "outlinewidth": 0,
              "ticks": ""
             }
            },
            "type": "scatterternary"
           }
          ],
          "surface": [
           {
            "colorbar": {
             "outlinewidth": 0,
             "ticks": ""
            },
            "colorscale": [
             [
              0,
              "#0d0887"
             ],
             [
              0.1111111111111111,
              "#46039f"
             ],
             [
              0.2222222222222222,
              "#7201a8"
             ],
             [
              0.3333333333333333,
              "#9c179e"
             ],
             [
              0.4444444444444444,
              "#bd3786"
             ],
             [
              0.5555555555555556,
              "#d8576b"
             ],
             [
              0.6666666666666666,
              "#ed7953"
             ],
             [
              0.7777777777777778,
              "#fb9f3a"
             ],
             [
              0.8888888888888888,
              "#fdca26"
             ],
             [
              1,
              "#f0f921"
             ]
            ],
            "type": "surface"
           }
          ],
          "table": [
           {
            "cells": {
             "fill": {
              "color": "#EBF0F8"
             },
             "line": {
              "color": "white"
             }
            },
            "header": {
             "fill": {
              "color": "#C8D4E3"
             },
             "line": {
              "color": "white"
             }
            },
            "type": "table"
           }
          ]
         },
         "layout": {
          "annotationdefaults": {
           "arrowcolor": "#2a3f5f",
           "arrowhead": 0,
           "arrowwidth": 1
          },
          "autotypenumbers": "strict",
          "coloraxis": {
           "colorbar": {
            "outlinewidth": 0,
            "ticks": ""
           }
          },
          "colorscale": {
           "diverging": [
            [
             0,
             "#8e0152"
            ],
            [
             0.1,
             "#c51b7d"
            ],
            [
             0.2,
             "#de77ae"
            ],
            [
             0.3,
             "#f1b6da"
            ],
            [
             0.4,
             "#fde0ef"
            ],
            [
             0.5,
             "#f7f7f7"
            ],
            [
             0.6,
             "#e6f5d0"
            ],
            [
             0.7,
             "#b8e186"
            ],
            [
             0.8,
             "#7fbc41"
            ],
            [
             0.9,
             "#4d9221"
            ],
            [
             1,
             "#276419"
            ]
           ],
           "sequential": [
            [
             0,
             "#0d0887"
            ],
            [
             0.1111111111111111,
             "#46039f"
            ],
            [
             0.2222222222222222,
             "#7201a8"
            ],
            [
             0.3333333333333333,
             "#9c179e"
            ],
            [
             0.4444444444444444,
             "#bd3786"
            ],
            [
             0.5555555555555556,
             "#d8576b"
            ],
            [
             0.6666666666666666,
             "#ed7953"
            ],
            [
             0.7777777777777778,
             "#fb9f3a"
            ],
            [
             0.8888888888888888,
             "#fdca26"
            ],
            [
             1,
             "#f0f921"
            ]
           ],
           "sequentialminus": [
            [
             0,
             "#0d0887"
            ],
            [
             0.1111111111111111,
             "#46039f"
            ],
            [
             0.2222222222222222,
             "#7201a8"
            ],
            [
             0.3333333333333333,
             "#9c179e"
            ],
            [
             0.4444444444444444,
             "#bd3786"
            ],
            [
             0.5555555555555556,
             "#d8576b"
            ],
            [
             0.6666666666666666,
             "#ed7953"
            ],
            [
             0.7777777777777778,
             "#fb9f3a"
            ],
            [
             0.8888888888888888,
             "#fdca26"
            ],
            [
             1,
             "#f0f921"
            ]
           ]
          },
          "colorway": [
           "#636efa",
           "#EF553B",
           "#00cc96",
           "#ab63fa",
           "#FFA15A",
           "#19d3f3",
           "#FF6692",
           "#B6E880",
           "#FF97FF",
           "#FECB52"
          ],
          "font": {
           "color": "#2a3f5f"
          },
          "geo": {
           "bgcolor": "white",
           "lakecolor": "white",
           "landcolor": "#E5ECF6",
           "showlakes": true,
           "showland": true,
           "subunitcolor": "white"
          },
          "hoverlabel": {
           "align": "left"
          },
          "hovermode": "closest",
          "mapbox": {
           "style": "light"
          },
          "paper_bgcolor": "white",
          "plot_bgcolor": "#E5ECF6",
          "polar": {
           "angularaxis": {
            "gridcolor": "white",
            "linecolor": "white",
            "ticks": ""
           },
           "bgcolor": "#E5ECF6",
           "radialaxis": {
            "gridcolor": "white",
            "linecolor": "white",
            "ticks": ""
           }
          },
          "scene": {
           "xaxis": {
            "backgroundcolor": "#E5ECF6",
            "gridcolor": "white",
            "gridwidth": 2,
            "linecolor": "white",
            "showbackground": true,
            "ticks": "",
            "zerolinecolor": "white"
           },
           "yaxis": {
            "backgroundcolor": "#E5ECF6",
            "gridcolor": "white",
            "gridwidth": 2,
            "linecolor": "white",
            "showbackground": true,
            "ticks": "",
            "zerolinecolor": "white"
           },
           "zaxis": {
            "backgroundcolor": "#E5ECF6",
            "gridcolor": "white",
            "gridwidth": 2,
            "linecolor": "white",
            "showbackground": true,
            "ticks": "",
            "zerolinecolor": "white"
           }
          },
          "shapedefaults": {
           "line": {
            "color": "#2a3f5f"
           }
          },
          "ternary": {
           "aaxis": {
            "gridcolor": "white",
            "linecolor": "white",
            "ticks": ""
           },
           "baxis": {
            "gridcolor": "white",
            "linecolor": "white",
            "ticks": ""
           },
           "bgcolor": "#E5ECF6",
           "caxis": {
            "gridcolor": "white",
            "linecolor": "white",
            "ticks": ""
           }
          },
          "title": {
           "x": 0.05
          },
          "xaxis": {
           "automargin": true,
           "gridcolor": "white",
           "linecolor": "white",
           "ticks": "",
           "title": {
            "standoff": 15
           },
           "zerolinecolor": "white",
           "zerolinewidth": 2
          },
          "yaxis": {
           "automargin": true,
           "gridcolor": "white",
           "linecolor": "white",
           "ticks": "",
           "title": {
            "standoff": 15
           },
           "zerolinecolor": "white",
           "zerolinewidth": 2
          }
         }
        },
        "width": 900,
        "xaxis": {
         "anchor": "y",
         "domain": [
          0,
          0.98
         ],
         "dtick": 1,
         "range": [
          1981,
          2018
         ],
         "title": {
          "text": ""
         }
        },
        "xaxis2": {
         "anchor": "y2",
         "domain": [
          0,
          0.98
         ],
         "dtick": 1,
         "matches": "x",
         "showticklabels": false
        },
        "xaxis3": {
         "anchor": "y3",
         "domain": [
          0,
          0.98
         ],
         "dtick": 1,
         "matches": "x",
         "showticklabels": false
        },
        "yaxis": {
         "anchor": "x",
         "domain": [
          0,
          0.32666666666666666
         ],
         "title": {
          "text": "Yield (mt/ha)"
         }
        },
        "yaxis2": {
         "anchor": "x2",
         "domain": [
          0.33666666666666667,
          0.6633333333333333
         ],
         "title": {
          "text": "Area (ha)"
         }
        },
        "yaxis3": {
         "anchor": "x3",
         "domain": [
          0.6733333333333333,
          1
         ],
         "title": {
          "text": "Production (mt)"
         }
        }
       }
      }
     },
     "metadata": {},
     "output_type": "display_data"
    }
   ],
   "source": [
    "# Lineplot of Production-Area-Yield (PAY) time-series\n",
    "country_iso, country_name = 'LS', 'Lesotho'\n",
    "df = pd.read_hdf('../data/crop/adm_crop_production_%s.hdf' % country_iso)\n",
    "df = df[df['gscd_code']=='calibrated']; df['year'] = df['harvest_year']\n",
    "year = [df['year'].min(), df['year'].max()]\n",
    "product_season = [\n",
    "    ['Maize','Summer'],\n",
    "    ['Sorghum','Summer'],\n",
    "    ['Wheat','Summer'],\n",
    "]\n",
    "for product_name, season_name in product_season:\n",
    "    footnote = 'Production-Area-Yield (PAY) time-series of %s - %s - %s' % (country_iso, product_name, season_name)\n",
    "    fn_save = '../figures/%s_line_pay_%s_%s.png' % (country_iso, product_name, season_name)\n",
    "    sub = df[(df['product'] == product_name) & (df['season_name'] == season_name)]\n",
    "    fig = PlotLinePAY(sub, year, footnote, fn_save)\n",
    "    fig.show()"
   ]
  },
  {
   "cell_type": "code",
   "execution_count": 9,
   "id": "e0d65781-42ab-412e-bc85-64d9d4413d15",
   "metadata": {},
   "outputs": [
    {
     "name": "stdout",
     "output_type": "stream",
     "text": [
      "../figures/LS_heat_seasondata_Maize Grain (White).png is saved.\n"
     ]
    },
    {
     "data": {
      "application/vnd.plotly.v1+json": {
       "config": {
        "plotlyServerURL": "https://plot.ly"
       },
       "data": [
        {
         "coloraxis": "coloraxis",
         "dx": 1,
         "dy": 1,
         "hovertemplate": "FNID: %{x}<br>Year: %{y}<br>System: %{z:d}<extra></extra>",
         "type": "heatmap",
         "visible": true,
         "z": [
          [
           "1.0",
           "1.0",
           "1.0",
           "1.0",
           "1.0",
           "1.0",
           "1.0",
           "1.0",
           "1.0",
           "1.0"
          ],
          [
           "1.0",
           "1.0",
           "1.0",
           "1.0",
           "1.0",
           "1.0",
           "1.0",
           "1.0",
           "1.0",
           "1.0"
          ],
          [
           "1.0",
           "1.0",
           "1.0",
           "1.0",
           "1.0",
           "1.0",
           "1.0",
           "1.0",
           "1.0",
           "1.0"
          ],
          [
           "1.0",
           "1.0",
           "1.0",
           "1.0",
           "1.0",
           "1.0",
           "1.0",
           "1.0",
           "1.0",
           "1.0"
          ],
          [
           "1.0",
           "1.0",
           "1.0",
           "1.0",
           "1.0",
           "1.0",
           "1.0",
           "1.0",
           "1.0",
           "1.0"
          ],
          [
           "1.0",
           "1.0",
           "1.0",
           "1.0",
           "1.0",
           "1.0",
           "1.0",
           "1.0",
           "1.0",
           "1.0"
          ],
          [
           "1.0",
           "1.0",
           "1.0",
           "1.0",
           "1.0",
           "1.0",
           "1.0",
           "1.0",
           "1.0",
           "1.0"
          ],
          [
           "1.0",
           "1.0",
           "1.0",
           "1.0",
           "1.0",
           "1.0",
           "1.0",
           "1.0",
           "1.0",
           "1.0"
          ],
          [
           "1.0",
           "1.0",
           "1.0",
           "1.0",
           "1.0",
           "1.0",
           "1.0",
           "1.0",
           "1.0",
           "1.0"
          ],
          [
           "1.0",
           "1.0",
           "1.0",
           "1.0",
           "1.0",
           "1.0",
           "1.0",
           "1.0",
           "1.0",
           "1.0"
          ],
          [
           "1.0",
           "1.0",
           "1.0",
           "1.0",
           "1.0",
           "1.0",
           "1.0",
           "1.0",
           "1.0",
           "1.0"
          ],
          [
           "1.0",
           "1.0",
           "1.0",
           "1.0",
           "1.0",
           "1.0",
           "1.0",
           "1.0",
           "1.0",
           "1.0"
          ],
          [
           "1.0",
           "1.0",
           "1.0",
           "1.0",
           "1.0",
           "1.0",
           "1.0",
           "1.0",
           "1.0",
           "1.0"
          ],
          [
           "1.0",
           "1.0",
           "1.0",
           "1.0",
           "1.0",
           "1.0",
           "1.0",
           "1.0",
           "1.0",
           "1.0"
          ],
          [
           "1.0",
           "1.0",
           "1.0",
           "1.0",
           "1.0",
           "1.0",
           "1.0",
           "1.0",
           "1.0",
           "1.0"
          ],
          [
           "1.0",
           "1.0",
           "1.0",
           "1.0",
           "1.0",
           "1.0",
           "1.0",
           "1.0",
           "1.0",
           "1.0"
          ],
          [
           "1.0",
           "1.0",
           "1.0",
           "1.0",
           "1.0",
           "1.0",
           "1.0",
           "1.0",
           "1.0",
           "1.0"
          ],
          [
           "1.0",
           "1.0",
           "1.0",
           "1.0",
           "1.0",
           "1.0",
           "1.0",
           "1.0",
           "1.0",
           "1.0"
          ],
          [
           "1.0",
           "1.0",
           "1.0",
           "1.0",
           "1.0",
           "1.0",
           "1.0",
           "1.0",
           "1.0",
           "1.0"
          ],
          [
           "1.0",
           "1.0",
           "1.0",
           "1.0",
           "1.0",
           "1.0",
           "1.0",
           "1.0",
           "1.0",
           "1.0"
          ],
          [
           "1.0",
           "1.0",
           "1.0",
           "1.0",
           "1.0",
           "1.0",
           "1.0",
           "1.0",
           "1.0",
           "1.0"
          ],
          [
           "1.0",
           "1.0",
           "1.0",
           "1.0",
           "1.0",
           "1.0",
           "1.0",
           "1.0",
           "1.0",
           "1.0"
          ],
          [
           "1.0",
           "1.0",
           "1.0",
           "1.0",
           "1.0",
           "1.0",
           "1.0",
           "1.0",
           "1.0",
           "1.0"
          ],
          [
           "1.0",
           "1.0",
           "1.0",
           "1.0",
           "1.0",
           "1.0",
           "1.0",
           "1.0",
           "1.0",
           "1.0"
          ],
          [
           "1.0",
           "1.0",
           "1.0",
           "1.0",
           "1.0",
           "1.0",
           "1.0",
           "1.0",
           "1.0",
           "1.0"
          ],
          [
           "1.0",
           "1.0",
           "1.0",
           "1.0",
           "1.0",
           "1.0",
           "1.0",
           "1.0",
           "1.0",
           "1.0"
          ],
          [
           "1.0",
           "1.0",
           "1.0",
           "1.0",
           "1.0",
           "1.0",
           "1.0",
           "1.0",
           "1.0",
           "1.0"
          ],
          [
           "1.0",
           "1.0",
           "1.0",
           "1.0",
           "1.0",
           "1.0",
           "1.0",
           "1.0",
           "1.0",
           "1.0"
          ],
          [
           "1.0",
           "1.0",
           "1.0",
           "1.0",
           "1.0",
           "1.0",
           "1.0",
           "1.0",
           "1.0",
           "1.0"
          ],
          [
           "1.0",
           "1.0",
           "1.0",
           "1.0",
           "1.0",
           "1.0",
           "1.0",
           "1.0",
           "1.0",
           "1.0"
          ],
          [
           "1.0",
           "1.0",
           "1.0",
           "1.0",
           "1.0",
           "1.0",
           "1.0",
           "1.0",
           "1.0",
           "1.0"
          ],
          [
           "1.0",
           "1.0",
           "1.0",
           "1.0",
           "1.0",
           "1.0",
           "1.0",
           "1.0",
           "1.0",
           "1.0"
          ],
          [
           "1.0",
           "1.0",
           "1.0",
           "1.0",
           "1.0",
           "1.0",
           "1.0",
           "1.0",
           "1.0",
           "1.0"
          ],
          [
           "1.0",
           "1.0",
           "1.0",
           "1.0",
           "1.0",
           "1.0",
           "1.0",
           "1.0",
           "1.0",
           "1.0"
          ],
          [
           "1.0",
           "1.0",
           "1.0",
           "1.0",
           "1.0",
           "1.0",
           "1.0",
           "1.0",
           "1.0",
           "1.0"
          ],
          [
           "1.0",
           "1.0",
           "1.0",
           "1.0",
           "1.0",
           "1.0",
           "1.0",
           "1.0",
           "1.0",
           "1.0"
          ]
         ]
        }
       ],
       "layout": {
        "annotations": [
         {
          "align": "left",
          "font": {
           "color": "dimgrey",
           "family": "arial",
           "size": 15
          },
          "showarrow": false,
          "text": "Seasonal data availability in Lesotho - Maize Grain (White) (uncorrected)",
          "x": 0,
          "xref": "paper",
          "y": -0.2,
          "yref": "paper"
         }
        ],
        "coloraxis": {
         "cmax": 3.5,
         "cmin": 0.5,
         "colorbar": {
          "len": 0.7,
          "outlinewidth": 1,
          "thickness": 15,
          "ticktext": [
           "Summer",
           "Winter",
           "Summer + Winter"
          ],
          "tickvals": [
           1,
           2,
           3
          ],
          "title": {
           "text": "Season"
          },
          "x": 1.01,
          "y": 0.5
         },
         "colorscale": [
          [
           0,
           "#636EFA"
          ],
          [
           0.3333333333333333,
           "#636EFA"
          ],
          [
           0.3333333333333333,
           "#EF553B"
          ],
          [
           0.6666666666666666,
           "#EF553B"
          ],
          [
           0.6666666666666666,
           "#00CC96"
          ],
          [
           1,
           "#00CC96"
          ]
         ]
        },
        "font": {
         "color": "black",
         "family": "arial",
         "size": 15
        },
        "height": 800,
        "margin": {
         "b": 20,
         "l": 0,
         "r": 0,
         "t": 0
        },
        "template": {
         "data": {
          "bar": [
           {
            "error_x": {
             "color": "#2a3f5f"
            },
            "error_y": {
             "color": "#2a3f5f"
            },
            "marker": {
             "line": {
              "color": "#E5ECF6",
              "width": 0.5
             },
             "pattern": {
              "fillmode": "overlay",
              "size": 10,
              "solidity": 0.2
             }
            },
            "type": "bar"
           }
          ],
          "barpolar": [
           {
            "marker": {
             "line": {
              "color": "#E5ECF6",
              "width": 0.5
             },
             "pattern": {
              "fillmode": "overlay",
              "size": 10,
              "solidity": 0.2
             }
            },
            "type": "barpolar"
           }
          ],
          "carpet": [
           {
            "aaxis": {
             "endlinecolor": "#2a3f5f",
             "gridcolor": "white",
             "linecolor": "white",
             "minorgridcolor": "white",
             "startlinecolor": "#2a3f5f"
            },
            "baxis": {
             "endlinecolor": "#2a3f5f",
             "gridcolor": "white",
             "linecolor": "white",
             "minorgridcolor": "white",
             "startlinecolor": "#2a3f5f"
            },
            "type": "carpet"
           }
          ],
          "choropleth": [
           {
            "colorbar": {
             "outlinewidth": 0,
             "ticks": ""
            },
            "type": "choropleth"
           }
          ],
          "contour": [
           {
            "colorbar": {
             "outlinewidth": 0,
             "ticks": ""
            },
            "colorscale": [
             [
              0,
              "#0d0887"
             ],
             [
              0.1111111111111111,
              "#46039f"
             ],
             [
              0.2222222222222222,
              "#7201a8"
             ],
             [
              0.3333333333333333,
              "#9c179e"
             ],
             [
              0.4444444444444444,
              "#bd3786"
             ],
             [
              0.5555555555555556,
              "#d8576b"
             ],
             [
              0.6666666666666666,
              "#ed7953"
             ],
             [
              0.7777777777777778,
              "#fb9f3a"
             ],
             [
              0.8888888888888888,
              "#fdca26"
             ],
             [
              1,
              "#f0f921"
             ]
            ],
            "type": "contour"
           }
          ],
          "contourcarpet": [
           {
            "colorbar": {
             "outlinewidth": 0,
             "ticks": ""
            },
            "type": "contourcarpet"
           }
          ],
          "heatmap": [
           {
            "colorbar": {
             "outlinewidth": 0,
             "ticks": ""
            },
            "colorscale": [
             [
              0,
              "#0d0887"
             ],
             [
              0.1111111111111111,
              "#46039f"
             ],
             [
              0.2222222222222222,
              "#7201a8"
             ],
             [
              0.3333333333333333,
              "#9c179e"
             ],
             [
              0.4444444444444444,
              "#bd3786"
             ],
             [
              0.5555555555555556,
              "#d8576b"
             ],
             [
              0.6666666666666666,
              "#ed7953"
             ],
             [
              0.7777777777777778,
              "#fb9f3a"
             ],
             [
              0.8888888888888888,
              "#fdca26"
             ],
             [
              1,
              "#f0f921"
             ]
            ],
            "type": "heatmap"
           }
          ],
          "heatmapgl": [
           {
            "colorbar": {
             "outlinewidth": 0,
             "ticks": ""
            },
            "colorscale": [
             [
              0,
              "#0d0887"
             ],
             [
              0.1111111111111111,
              "#46039f"
             ],
             [
              0.2222222222222222,
              "#7201a8"
             ],
             [
              0.3333333333333333,
              "#9c179e"
             ],
             [
              0.4444444444444444,
              "#bd3786"
             ],
             [
              0.5555555555555556,
              "#d8576b"
             ],
             [
              0.6666666666666666,
              "#ed7953"
             ],
             [
              0.7777777777777778,
              "#fb9f3a"
             ],
             [
              0.8888888888888888,
              "#fdca26"
             ],
             [
              1,
              "#f0f921"
             ]
            ],
            "type": "heatmapgl"
           }
          ],
          "histogram": [
           {
            "marker": {
             "pattern": {
              "fillmode": "overlay",
              "size": 10,
              "solidity": 0.2
             }
            },
            "type": "histogram"
           }
          ],
          "histogram2d": [
           {
            "colorbar": {
             "outlinewidth": 0,
             "ticks": ""
            },
            "colorscale": [
             [
              0,
              "#0d0887"
             ],
             [
              0.1111111111111111,
              "#46039f"
             ],
             [
              0.2222222222222222,
              "#7201a8"
             ],
             [
              0.3333333333333333,
              "#9c179e"
             ],
             [
              0.4444444444444444,
              "#bd3786"
             ],
             [
              0.5555555555555556,
              "#d8576b"
             ],
             [
              0.6666666666666666,
              "#ed7953"
             ],
             [
              0.7777777777777778,
              "#fb9f3a"
             ],
             [
              0.8888888888888888,
              "#fdca26"
             ],
             [
              1,
              "#f0f921"
             ]
            ],
            "type": "histogram2d"
           }
          ],
          "histogram2dcontour": [
           {
            "colorbar": {
             "outlinewidth": 0,
             "ticks": ""
            },
            "colorscale": [
             [
              0,
              "#0d0887"
             ],
             [
              0.1111111111111111,
              "#46039f"
             ],
             [
              0.2222222222222222,
              "#7201a8"
             ],
             [
              0.3333333333333333,
              "#9c179e"
             ],
             [
              0.4444444444444444,
              "#bd3786"
             ],
             [
              0.5555555555555556,
              "#d8576b"
             ],
             [
              0.6666666666666666,
              "#ed7953"
             ],
             [
              0.7777777777777778,
              "#fb9f3a"
             ],
             [
              0.8888888888888888,
              "#fdca26"
             ],
             [
              1,
              "#f0f921"
             ]
            ],
            "type": "histogram2dcontour"
           }
          ],
          "mesh3d": [
           {
            "colorbar": {
             "outlinewidth": 0,
             "ticks": ""
            },
            "type": "mesh3d"
           }
          ],
          "parcoords": [
           {
            "line": {
             "colorbar": {
              "outlinewidth": 0,
              "ticks": ""
             }
            },
            "type": "parcoords"
           }
          ],
          "pie": [
           {
            "automargin": true,
            "type": "pie"
           }
          ],
          "scatter": [
           {
            "fillpattern": {
             "fillmode": "overlay",
             "size": 10,
             "solidity": 0.2
            },
            "type": "scatter"
           }
          ],
          "scatter3d": [
           {
            "line": {
             "colorbar": {
              "outlinewidth": 0,
              "ticks": ""
             }
            },
            "marker": {
             "colorbar": {
              "outlinewidth": 0,
              "ticks": ""
             }
            },
            "type": "scatter3d"
           }
          ],
          "scattercarpet": [
           {
            "marker": {
             "colorbar": {
              "outlinewidth": 0,
              "ticks": ""
             }
            },
            "type": "scattercarpet"
           }
          ],
          "scattergeo": [
           {
            "marker": {
             "colorbar": {
              "outlinewidth": 0,
              "ticks": ""
             }
            },
            "type": "scattergeo"
           }
          ],
          "scattergl": [
           {
            "marker": {
             "colorbar": {
              "outlinewidth": 0,
              "ticks": ""
             }
            },
            "type": "scattergl"
           }
          ],
          "scattermapbox": [
           {
            "marker": {
             "colorbar": {
              "outlinewidth": 0,
              "ticks": ""
             }
            },
            "type": "scattermapbox"
           }
          ],
          "scatterpolar": [
           {
            "marker": {
             "colorbar": {
              "outlinewidth": 0,
              "ticks": ""
             }
            },
            "type": "scatterpolar"
           }
          ],
          "scatterpolargl": [
           {
            "marker": {
             "colorbar": {
              "outlinewidth": 0,
              "ticks": ""
             }
            },
            "type": "scatterpolargl"
           }
          ],
          "scatterternary": [
           {
            "marker": {
             "colorbar": {
              "outlinewidth": 0,
              "ticks": ""
             }
            },
            "type": "scatterternary"
           }
          ],
          "surface": [
           {
            "colorbar": {
             "outlinewidth": 0,
             "ticks": ""
            },
            "colorscale": [
             [
              0,
              "#0d0887"
             ],
             [
              0.1111111111111111,
              "#46039f"
             ],
             [
              0.2222222222222222,
              "#7201a8"
             ],
             [
              0.3333333333333333,
              "#9c179e"
             ],
             [
              0.4444444444444444,
              "#bd3786"
             ],
             [
              0.5555555555555556,
              "#d8576b"
             ],
             [
              0.6666666666666666,
              "#ed7953"
             ],
             [
              0.7777777777777778,
              "#fb9f3a"
             ],
             [
              0.8888888888888888,
              "#fdca26"
             ],
             [
              1,
              "#f0f921"
             ]
            ],
            "type": "surface"
           }
          ],
          "table": [
           {
            "cells": {
             "fill": {
              "color": "#EBF0F8"
             },
             "line": {
              "color": "white"
             }
            },
            "header": {
             "fill": {
              "color": "#C8D4E3"
             },
             "line": {
              "color": "white"
             }
            },
            "type": "table"
           }
          ]
         },
         "layout": {
          "annotationdefaults": {
           "arrowcolor": "#2a3f5f",
           "arrowhead": 0,
           "arrowwidth": 1
          },
          "autotypenumbers": "strict",
          "coloraxis": {
           "colorbar": {
            "outlinewidth": 0,
            "ticks": ""
           }
          },
          "colorscale": {
           "diverging": [
            [
             0,
             "#8e0152"
            ],
            [
             0.1,
             "#c51b7d"
            ],
            [
             0.2,
             "#de77ae"
            ],
            [
             0.3,
             "#f1b6da"
            ],
            [
             0.4,
             "#fde0ef"
            ],
            [
             0.5,
             "#f7f7f7"
            ],
            [
             0.6,
             "#e6f5d0"
            ],
            [
             0.7,
             "#b8e186"
            ],
            [
             0.8,
             "#7fbc41"
            ],
            [
             0.9,
             "#4d9221"
            ],
            [
             1,
             "#276419"
            ]
           ],
           "sequential": [
            [
             0,
             "#0d0887"
            ],
            [
             0.1111111111111111,
             "#46039f"
            ],
            [
             0.2222222222222222,
             "#7201a8"
            ],
            [
             0.3333333333333333,
             "#9c179e"
            ],
            [
             0.4444444444444444,
             "#bd3786"
            ],
            [
             0.5555555555555556,
             "#d8576b"
            ],
            [
             0.6666666666666666,
             "#ed7953"
            ],
            [
             0.7777777777777778,
             "#fb9f3a"
            ],
            [
             0.8888888888888888,
             "#fdca26"
            ],
            [
             1,
             "#f0f921"
            ]
           ],
           "sequentialminus": [
            [
             0,
             "#0d0887"
            ],
            [
             0.1111111111111111,
             "#46039f"
            ],
            [
             0.2222222222222222,
             "#7201a8"
            ],
            [
             0.3333333333333333,
             "#9c179e"
            ],
            [
             0.4444444444444444,
             "#bd3786"
            ],
            [
             0.5555555555555556,
             "#d8576b"
            ],
            [
             0.6666666666666666,
             "#ed7953"
            ],
            [
             0.7777777777777778,
             "#fb9f3a"
            ],
            [
             0.8888888888888888,
             "#fdca26"
            ],
            [
             1,
             "#f0f921"
            ]
           ]
          },
          "colorway": [
           "#636efa",
           "#EF553B",
           "#00cc96",
           "#ab63fa",
           "#FFA15A",
           "#19d3f3",
           "#FF6692",
           "#B6E880",
           "#FF97FF",
           "#FECB52"
          ],
          "font": {
           "color": "#2a3f5f"
          },
          "geo": {
           "bgcolor": "white",
           "lakecolor": "white",
           "landcolor": "#E5ECF6",
           "showlakes": true,
           "showland": true,
           "subunitcolor": "white"
          },
          "hoverlabel": {
           "align": "left"
          },
          "hovermode": "closest",
          "mapbox": {
           "style": "light"
          },
          "paper_bgcolor": "white",
          "plot_bgcolor": "#E5ECF6",
          "polar": {
           "angularaxis": {
            "gridcolor": "white",
            "linecolor": "white",
            "ticks": ""
           },
           "bgcolor": "#E5ECF6",
           "radialaxis": {
            "gridcolor": "white",
            "linecolor": "white",
            "ticks": ""
           }
          },
          "scene": {
           "xaxis": {
            "backgroundcolor": "#E5ECF6",
            "gridcolor": "white",
            "gridwidth": 2,
            "linecolor": "white",
            "showbackground": true,
            "ticks": "",
            "zerolinecolor": "white"
           },
           "yaxis": {
            "backgroundcolor": "#E5ECF6",
            "gridcolor": "white",
            "gridwidth": 2,
            "linecolor": "white",
            "showbackground": true,
            "ticks": "",
            "zerolinecolor": "white"
           },
           "zaxis": {
            "backgroundcolor": "#E5ECF6",
            "gridcolor": "white",
            "gridwidth": 2,
            "linecolor": "white",
            "showbackground": true,
            "ticks": "",
            "zerolinecolor": "white"
           }
          },
          "shapedefaults": {
           "line": {
            "color": "#2a3f5f"
           }
          },
          "ternary": {
           "aaxis": {
            "gridcolor": "white",
            "linecolor": "white",
            "ticks": ""
           },
           "baxis": {
            "gridcolor": "white",
            "linecolor": "white",
            "ticks": ""
           },
           "bgcolor": "#E5ECF6",
           "caxis": {
            "gridcolor": "white",
            "linecolor": "white",
            "ticks": ""
           }
          },
          "title": {
           "x": 0.05
          },
          "xaxis": {
           "automargin": true,
           "gridcolor": "white",
           "linecolor": "white",
           "ticks": "",
           "title": {
            "standoff": 15
           },
           "zerolinecolor": "white",
           "zerolinewidth": 2
          },
          "yaxis": {
           "automargin": true,
           "gridcolor": "white",
           "linecolor": "white",
           "ticks": "",
           "title": {
            "standoff": 15
           },
           "zerolinecolor": "white",
           "zerolinewidth": 2
          }
         }
        },
        "width": 1200,
        "xaxis": {
         "dtick": 1,
         "tickfont": {
          "size": 14
         },
         "tickmode": "array",
         "ticktext": [
          "LS1980A101",
          "LS1980A102",
          "LS1980A103",
          "LS1980A104",
          "LS1980A105",
          "LS1980A106",
          "LS1980A107",
          "LS1980A108",
          "LS1980A109",
          "LS1980A110"
         ],
         "tickvals": [
          0,
          1,
          2,
          3,
          4,
          5,
          6,
          7,
          8,
          9
         ],
         "title": {
          "text": ""
         }
        },
        "yaxis": {
         "autorange": "reversed",
         "dtick": 1,
         "tickfont": {
          "size": 14
         },
         "tickmode": "array",
         "ticktext": [
          1982,
          1983,
          1984,
          1985,
          1986,
          1987,
          1988,
          1989,
          1990,
          1991,
          1992,
          1993,
          1994,
          1995,
          1996,
          1997,
          1998,
          1999,
          2000,
          2001,
          2002,
          2003,
          2004,
          2005,
          2006,
          2007,
          2008,
          2009,
          2010,
          2011,
          2012,
          2013,
          2014,
          2015,
          2016,
          2017
         ],
         "tickvals": [
          0,
          1,
          2,
          3,
          4,
          5,
          6,
          7,
          8,
          9,
          10,
          11,
          12,
          13,
          14,
          15,
          16,
          17,
          18,
          19,
          20,
          21,
          22,
          23,
          24,
          25,
          26,
          27,
          28,
          29,
          30,
          31,
          32,
          33,
          34,
          35
         ],
         "title": {
          "text": ""
         }
        }
       }
      }
     },
     "metadata": {},
     "output_type": "display_data"
    },
    {
     "name": "stdout",
     "output_type": "stream",
     "text": [
      "../figures/LS_heat_seasondata_Wheat Grain.png is saved.\n"
     ]
    },
    {
     "data": {
      "application/vnd.plotly.v1+json": {
       "config": {
        "plotlyServerURL": "https://plot.ly"
       },
       "data": [
        {
         "coloraxis": "coloraxis",
         "dx": 1,
         "dy": 1,
         "hovertemplate": "FNID: %{x}<br>Year: %{y}<br>System: %{z:d}<extra></extra>",
         "type": "heatmap",
         "visible": true,
         "z": [
          [
           "0.3333333333333333",
           "0.3333333333333333",
           "0.3333333333333333",
           "0.3333333333333333",
           "0.3333333333333333",
           "0.3333333333333333",
           "0.3333333333333333",
           "0.3333333333333333",
           "0.3333333333333333",
           "0.3333333333333333"
          ],
          [
           "1.0",
           "1.0",
           "1.0",
           "1.0",
           "1.0",
           "1.0",
           "1.0",
           "1.0",
           "1.0",
           "1.0"
          ],
          [
           "nan",
           "1.0",
           "1.0",
           "1.0",
           "1.0",
           "1.0",
           "1.0",
           "1.0",
           "1.0",
           "1.0"
          ],
          [
           "nan",
           "1.0",
           "1.0",
           "1.0",
           "1.0",
           "1.0",
           "1.0",
           "1.0",
           "1.0",
           "1.0"
          ],
          [
           "0.3333333333333333",
           "1.0",
           "1.0",
           "1.0",
           "1.0",
           "1.0",
           "1.0",
           "1.0",
           "1.0",
           "1.0"
          ],
          [
           "1.0",
           "1.0",
           "1.0",
           "1.0",
           "1.0",
           "1.0",
           "1.0",
           "1.0",
           "1.0",
           "1.0"
          ],
          [
           "1.0",
           "1.0",
           "1.0",
           "1.0",
           "1.0",
           "1.0",
           "1.0",
           "1.0",
           "1.0",
           "1.0"
          ],
          [
           "1.0",
           "1.0",
           "1.0",
           "1.0",
           "1.0",
           "1.0",
           "1.0",
           "1.0",
           "1.0",
           "1.0"
          ],
          [
           "0.3333333333333333",
           "1.0",
           "1.0",
           "0.3333333333333333",
           "1.0",
           "1.0",
           "1.0",
           "1.0",
           "1.0",
           "1.0"
          ],
          [
           "1.0",
           "1.0",
           "1.0",
           "1.0",
           "1.0",
           "1.0",
           "1.0",
           "1.0",
           "1.0",
           "1.0"
          ],
          [
           "1.0",
           "1.0",
           "1.0",
           "1.0",
           "1.0",
           "1.0",
           "1.0",
           "1.0",
           "1.0",
           "1.0"
          ],
          [
           "1.0",
           "1.0",
           "1.0",
           "1.0",
           "1.0",
           "1.0",
           "1.0",
           "1.0",
           "1.0",
           "1.0"
          ],
          [
           "nan",
           "1.0",
           "1.0",
           "1.0",
           "1.0",
           "1.0",
           "1.0",
           "1.0",
           "1.0",
           "1.0"
          ],
          [
           "1.0",
           "1.0",
           "1.0",
           "1.0",
           "1.0",
           "1.0",
           "1.0",
           "1.0",
           "1.0",
           "1.0"
          ],
          [
           "1.0",
           "1.0",
           "1.0",
           "0.3333333333333333",
           "1.0",
           "1.0",
           "1.0",
           "1.0",
           "1.0",
           "1.0"
          ],
          [
           "1.0",
           "1.0",
           "1.0",
           "1.0",
           "1.0",
           "1.0",
           "1.0",
           "1.0",
           "1.0",
           "1.0"
          ],
          [
           "1.0",
           "1.0",
           "1.0",
           "1.0",
           "1.0",
           "1.0",
           "1.0",
           "1.0",
           "1.0",
           "1.0"
          ],
          [
           "1.0",
           "1.0",
           "1.0",
           "1.0",
           "1.0",
           "1.0",
           "1.0",
           "1.0",
           "1.0",
           "1.0"
          ],
          [
           "0.3333333333333333",
           "1.0",
           "1.0",
           "1.0",
           "1.0",
           "1.0",
           "1.0",
           "1.0",
           "1.0",
           "1.0"
          ],
          [
           "0.3333333333333333",
           "1.0",
           "1.0",
           "0.3333333333333333",
           "1.0",
           "1.0",
           "1.0",
           "1.0",
           "1.0",
           "1.0"
          ],
          [
           "0.3333333333333333",
           "1.0",
           "1.0",
           "1.0",
           "1.0",
           "1.0",
           "1.0",
           "1.0",
           "1.0",
           "1.0"
          ],
          [
           "nan",
           "1.0",
           "1.0",
           "1.0",
           "1.0",
           "0.3333333333333333",
           "1.0",
           "1.0",
           "1.0",
           "1.0"
          ],
          [
           "nan",
           "1.0",
           "1.0",
           "1.0",
           "1.0",
           "1.0",
           "1.0",
           "1.0",
           "1.0",
           "1.0"
          ],
          [
           "0.3333333333333333",
           "1.0",
           "1.0",
           "nan",
           "1.0",
           "1.0",
           "1.0",
           "1.0",
           "1.0",
           "1.0"
          ],
          [
           "nan",
           "0.3333333333333333",
           "1.0",
           "0.3333333333333333",
           "0.3333333333333333",
           "nan",
           "0.3333333333333333",
           "1.0",
           "0.3333333333333333",
           "1.0"
          ],
          [
           "3.0",
           "3.0",
           "3.0",
           "3.0",
           "3.0",
           "2.0",
           "1.0",
           "1.0",
           "1.0",
           "1.0"
          ],
          [
           "3.0",
           "3.0",
           "3.0",
           "3.0",
           "3.0",
           "3.0",
           "1.0",
           "1.0",
           "1.0",
           "1.0"
          ],
          [
           "3.0",
           "3.0",
           "3.0",
           "3.0",
           "3.0",
           "3.0",
           "1.0",
           "1.0",
           "1.0",
           "1.0"
          ],
          [
           "3.3333333333333335",
           "4.333333333333333",
           "4.333333333333333",
           "3.3333333333333335",
           "4.333333333333333",
           "4.333333333333333",
           "1.0",
           "1.0",
           "1.0",
           "1.0"
          ],
          [
           "1.0",
           "1.0",
           "3.0",
           "1.0",
           "1.0",
           "1.0",
           "1.0",
           "1.0",
           "1.0",
           "1.0"
          ],
          [
           "3.3333333333333335",
           "3.0",
           "3.0",
           "2.0",
           "1.0",
           "3.0",
           "1.0",
           "1.0",
           "1.0",
           "1.0"
          ],
          [
           "nan",
           "1.0",
           "3.0",
           "nan",
           "1.0",
           "1.0",
           "1.0",
           "1.0",
           "1.0",
           "1.0"
          ],
          [
           "2.0",
           "3.0",
           "3.0",
           "nan",
           "3.0",
           "3.0",
           "1.0",
           "1.0",
           "1.0",
           "1.0"
          ],
          [
           "3.0",
           "3.0",
           "3.0",
           "nan",
           "1.0",
           "1.0",
           "1.0",
           "1.0",
           "1.0",
           "1.0"
          ],
          [
           "nan",
           "1.0",
           "3.0",
           "3.0",
           "1.0",
           "1.0",
           "1.0",
           "1.0",
           "1.0",
           "1.0"
          ],
          [
           "4.333333333333333",
           "0.3333333333333333",
           "3.0",
           "2.0",
           "1.0",
           "4.333333333333333",
           "1.0",
           "1.0",
           "1.0",
           "1.0"
          ],
          [
           "1.0",
           "1.0",
           "1.0",
           "1.0",
           "1.0",
           "1.0",
           "1.0",
           "1.0",
           "1.0",
           "1.0"
          ],
          [
           "0.3333333333333333",
           "1.0",
           "1.0",
           "nan",
           "1.0",
           "1.0",
           "1.0",
           "1.0",
           "1.0",
           "1.0"
          ]
         ]
        }
       ],
       "layout": {
        "annotations": [
         {
          "align": "left",
          "font": {
           "color": "dimgrey",
           "family": "arial",
           "size": 15
          },
          "showarrow": false,
          "text": "Seasonal data availability in Lesotho - Wheat Grain (uncorrected)",
          "x": 0,
          "xref": "paper",
          "y": -0.2,
          "yref": "paper"
         }
        ],
        "coloraxis": {
         "cmax": 3.5,
         "cmin": 0.5,
         "colorbar": {
          "len": 0.7,
          "outlinewidth": 1,
          "thickness": 15,
          "ticktext": [
           "Summer",
           "Winter",
           "Summer + Winter"
          ],
          "tickvals": [
           1,
           2,
           3
          ],
          "title": {
           "text": "Season"
          },
          "x": 1.01,
          "y": 0.5
         },
         "colorscale": [
          [
           0,
           "#636EFA"
          ],
          [
           0.3333333333333333,
           "#636EFA"
          ],
          [
           0.3333333333333333,
           "#EF553B"
          ],
          [
           0.6666666666666666,
           "#EF553B"
          ],
          [
           0.6666666666666666,
           "#00CC96"
          ],
          [
           1,
           "#00CC96"
          ]
         ]
        },
        "font": {
         "color": "black",
         "family": "arial",
         "size": 15
        },
        "height": 800,
        "margin": {
         "b": 20,
         "l": 0,
         "r": 0,
         "t": 0
        },
        "template": {
         "data": {
          "bar": [
           {
            "error_x": {
             "color": "#2a3f5f"
            },
            "error_y": {
             "color": "#2a3f5f"
            },
            "marker": {
             "line": {
              "color": "#E5ECF6",
              "width": 0.5
             },
             "pattern": {
              "fillmode": "overlay",
              "size": 10,
              "solidity": 0.2
             }
            },
            "type": "bar"
           }
          ],
          "barpolar": [
           {
            "marker": {
             "line": {
              "color": "#E5ECF6",
              "width": 0.5
             },
             "pattern": {
              "fillmode": "overlay",
              "size": 10,
              "solidity": 0.2
             }
            },
            "type": "barpolar"
           }
          ],
          "carpet": [
           {
            "aaxis": {
             "endlinecolor": "#2a3f5f",
             "gridcolor": "white",
             "linecolor": "white",
             "minorgridcolor": "white",
             "startlinecolor": "#2a3f5f"
            },
            "baxis": {
             "endlinecolor": "#2a3f5f",
             "gridcolor": "white",
             "linecolor": "white",
             "minorgridcolor": "white",
             "startlinecolor": "#2a3f5f"
            },
            "type": "carpet"
           }
          ],
          "choropleth": [
           {
            "colorbar": {
             "outlinewidth": 0,
             "ticks": ""
            },
            "type": "choropleth"
           }
          ],
          "contour": [
           {
            "colorbar": {
             "outlinewidth": 0,
             "ticks": ""
            },
            "colorscale": [
             [
              0,
              "#0d0887"
             ],
             [
              0.1111111111111111,
              "#46039f"
             ],
             [
              0.2222222222222222,
              "#7201a8"
             ],
             [
              0.3333333333333333,
              "#9c179e"
             ],
             [
              0.4444444444444444,
              "#bd3786"
             ],
             [
              0.5555555555555556,
              "#d8576b"
             ],
             [
              0.6666666666666666,
              "#ed7953"
             ],
             [
              0.7777777777777778,
              "#fb9f3a"
             ],
             [
              0.8888888888888888,
              "#fdca26"
             ],
             [
              1,
              "#f0f921"
             ]
            ],
            "type": "contour"
           }
          ],
          "contourcarpet": [
           {
            "colorbar": {
             "outlinewidth": 0,
             "ticks": ""
            },
            "type": "contourcarpet"
           }
          ],
          "heatmap": [
           {
            "colorbar": {
             "outlinewidth": 0,
             "ticks": ""
            },
            "colorscale": [
             [
              0,
              "#0d0887"
             ],
             [
              0.1111111111111111,
              "#46039f"
             ],
             [
              0.2222222222222222,
              "#7201a8"
             ],
             [
              0.3333333333333333,
              "#9c179e"
             ],
             [
              0.4444444444444444,
              "#bd3786"
             ],
             [
              0.5555555555555556,
              "#d8576b"
             ],
             [
              0.6666666666666666,
              "#ed7953"
             ],
             [
              0.7777777777777778,
              "#fb9f3a"
             ],
             [
              0.8888888888888888,
              "#fdca26"
             ],
             [
              1,
              "#f0f921"
             ]
            ],
            "type": "heatmap"
           }
          ],
          "heatmapgl": [
           {
            "colorbar": {
             "outlinewidth": 0,
             "ticks": ""
            },
            "colorscale": [
             [
              0,
              "#0d0887"
             ],
             [
              0.1111111111111111,
              "#46039f"
             ],
             [
              0.2222222222222222,
              "#7201a8"
             ],
             [
              0.3333333333333333,
              "#9c179e"
             ],
             [
              0.4444444444444444,
              "#bd3786"
             ],
             [
              0.5555555555555556,
              "#d8576b"
             ],
             [
              0.6666666666666666,
              "#ed7953"
             ],
             [
              0.7777777777777778,
              "#fb9f3a"
             ],
             [
              0.8888888888888888,
              "#fdca26"
             ],
             [
              1,
              "#f0f921"
             ]
            ],
            "type": "heatmapgl"
           }
          ],
          "histogram": [
           {
            "marker": {
             "pattern": {
              "fillmode": "overlay",
              "size": 10,
              "solidity": 0.2
             }
            },
            "type": "histogram"
           }
          ],
          "histogram2d": [
           {
            "colorbar": {
             "outlinewidth": 0,
             "ticks": ""
            },
            "colorscale": [
             [
              0,
              "#0d0887"
             ],
             [
              0.1111111111111111,
              "#46039f"
             ],
             [
              0.2222222222222222,
              "#7201a8"
             ],
             [
              0.3333333333333333,
              "#9c179e"
             ],
             [
              0.4444444444444444,
              "#bd3786"
             ],
             [
              0.5555555555555556,
              "#d8576b"
             ],
             [
              0.6666666666666666,
              "#ed7953"
             ],
             [
              0.7777777777777778,
              "#fb9f3a"
             ],
             [
              0.8888888888888888,
              "#fdca26"
             ],
             [
              1,
              "#f0f921"
             ]
            ],
            "type": "histogram2d"
           }
          ],
          "histogram2dcontour": [
           {
            "colorbar": {
             "outlinewidth": 0,
             "ticks": ""
            },
            "colorscale": [
             [
              0,
              "#0d0887"
             ],
             [
              0.1111111111111111,
              "#46039f"
             ],
             [
              0.2222222222222222,
              "#7201a8"
             ],
             [
              0.3333333333333333,
              "#9c179e"
             ],
             [
              0.4444444444444444,
              "#bd3786"
             ],
             [
              0.5555555555555556,
              "#d8576b"
             ],
             [
              0.6666666666666666,
              "#ed7953"
             ],
             [
              0.7777777777777778,
              "#fb9f3a"
             ],
             [
              0.8888888888888888,
              "#fdca26"
             ],
             [
              1,
              "#f0f921"
             ]
            ],
            "type": "histogram2dcontour"
           }
          ],
          "mesh3d": [
           {
            "colorbar": {
             "outlinewidth": 0,
             "ticks": ""
            },
            "type": "mesh3d"
           }
          ],
          "parcoords": [
           {
            "line": {
             "colorbar": {
              "outlinewidth": 0,
              "ticks": ""
             }
            },
            "type": "parcoords"
           }
          ],
          "pie": [
           {
            "automargin": true,
            "type": "pie"
           }
          ],
          "scatter": [
           {
            "fillpattern": {
             "fillmode": "overlay",
             "size": 10,
             "solidity": 0.2
            },
            "type": "scatter"
           }
          ],
          "scatter3d": [
           {
            "line": {
             "colorbar": {
              "outlinewidth": 0,
              "ticks": ""
             }
            },
            "marker": {
             "colorbar": {
              "outlinewidth": 0,
              "ticks": ""
             }
            },
            "type": "scatter3d"
           }
          ],
          "scattercarpet": [
           {
            "marker": {
             "colorbar": {
              "outlinewidth": 0,
              "ticks": ""
             }
            },
            "type": "scattercarpet"
           }
          ],
          "scattergeo": [
           {
            "marker": {
             "colorbar": {
              "outlinewidth": 0,
              "ticks": ""
             }
            },
            "type": "scattergeo"
           }
          ],
          "scattergl": [
           {
            "marker": {
             "colorbar": {
              "outlinewidth": 0,
              "ticks": ""
             }
            },
            "type": "scattergl"
           }
          ],
          "scattermapbox": [
           {
            "marker": {
             "colorbar": {
              "outlinewidth": 0,
              "ticks": ""
             }
            },
            "type": "scattermapbox"
           }
          ],
          "scatterpolar": [
           {
            "marker": {
             "colorbar": {
              "outlinewidth": 0,
              "ticks": ""
             }
            },
            "type": "scatterpolar"
           }
          ],
          "scatterpolargl": [
           {
            "marker": {
             "colorbar": {
              "outlinewidth": 0,
              "ticks": ""
             }
            },
            "type": "scatterpolargl"
           }
          ],
          "scatterternary": [
           {
            "marker": {
             "colorbar": {
              "outlinewidth": 0,
              "ticks": ""
             }
            },
            "type": "scatterternary"
           }
          ],
          "surface": [
           {
            "colorbar": {
             "outlinewidth": 0,
             "ticks": ""
            },
            "colorscale": [
             [
              0,
              "#0d0887"
             ],
             [
              0.1111111111111111,
              "#46039f"
             ],
             [
              0.2222222222222222,
              "#7201a8"
             ],
             [
              0.3333333333333333,
              "#9c179e"
             ],
             [
              0.4444444444444444,
              "#bd3786"
             ],
             [
              0.5555555555555556,
              "#d8576b"
             ],
             [
              0.6666666666666666,
              "#ed7953"
             ],
             [
              0.7777777777777778,
              "#fb9f3a"
             ],
             [
              0.8888888888888888,
              "#fdca26"
             ],
             [
              1,
              "#f0f921"
             ]
            ],
            "type": "surface"
           }
          ],
          "table": [
           {
            "cells": {
             "fill": {
              "color": "#EBF0F8"
             },
             "line": {
              "color": "white"
             }
            },
            "header": {
             "fill": {
              "color": "#C8D4E3"
             },
             "line": {
              "color": "white"
             }
            },
            "type": "table"
           }
          ]
         },
         "layout": {
          "annotationdefaults": {
           "arrowcolor": "#2a3f5f",
           "arrowhead": 0,
           "arrowwidth": 1
          },
          "autotypenumbers": "strict",
          "coloraxis": {
           "colorbar": {
            "outlinewidth": 0,
            "ticks": ""
           }
          },
          "colorscale": {
           "diverging": [
            [
             0,
             "#8e0152"
            ],
            [
             0.1,
             "#c51b7d"
            ],
            [
             0.2,
             "#de77ae"
            ],
            [
             0.3,
             "#f1b6da"
            ],
            [
             0.4,
             "#fde0ef"
            ],
            [
             0.5,
             "#f7f7f7"
            ],
            [
             0.6,
             "#e6f5d0"
            ],
            [
             0.7,
             "#b8e186"
            ],
            [
             0.8,
             "#7fbc41"
            ],
            [
             0.9,
             "#4d9221"
            ],
            [
             1,
             "#276419"
            ]
           ],
           "sequential": [
            [
             0,
             "#0d0887"
            ],
            [
             0.1111111111111111,
             "#46039f"
            ],
            [
             0.2222222222222222,
             "#7201a8"
            ],
            [
             0.3333333333333333,
             "#9c179e"
            ],
            [
             0.4444444444444444,
             "#bd3786"
            ],
            [
             0.5555555555555556,
             "#d8576b"
            ],
            [
             0.6666666666666666,
             "#ed7953"
            ],
            [
             0.7777777777777778,
             "#fb9f3a"
            ],
            [
             0.8888888888888888,
             "#fdca26"
            ],
            [
             1,
             "#f0f921"
            ]
           ],
           "sequentialminus": [
            [
             0,
             "#0d0887"
            ],
            [
             0.1111111111111111,
             "#46039f"
            ],
            [
             0.2222222222222222,
             "#7201a8"
            ],
            [
             0.3333333333333333,
             "#9c179e"
            ],
            [
             0.4444444444444444,
             "#bd3786"
            ],
            [
             0.5555555555555556,
             "#d8576b"
            ],
            [
             0.6666666666666666,
             "#ed7953"
            ],
            [
             0.7777777777777778,
             "#fb9f3a"
            ],
            [
             0.8888888888888888,
             "#fdca26"
            ],
            [
             1,
             "#f0f921"
            ]
           ]
          },
          "colorway": [
           "#636efa",
           "#EF553B",
           "#00cc96",
           "#ab63fa",
           "#FFA15A",
           "#19d3f3",
           "#FF6692",
           "#B6E880",
           "#FF97FF",
           "#FECB52"
          ],
          "font": {
           "color": "#2a3f5f"
          },
          "geo": {
           "bgcolor": "white",
           "lakecolor": "white",
           "landcolor": "#E5ECF6",
           "showlakes": true,
           "showland": true,
           "subunitcolor": "white"
          },
          "hoverlabel": {
           "align": "left"
          },
          "hovermode": "closest",
          "mapbox": {
           "style": "light"
          },
          "paper_bgcolor": "white",
          "plot_bgcolor": "#E5ECF6",
          "polar": {
           "angularaxis": {
            "gridcolor": "white",
            "linecolor": "white",
            "ticks": ""
           },
           "bgcolor": "#E5ECF6",
           "radialaxis": {
            "gridcolor": "white",
            "linecolor": "white",
            "ticks": ""
           }
          },
          "scene": {
           "xaxis": {
            "backgroundcolor": "#E5ECF6",
            "gridcolor": "white",
            "gridwidth": 2,
            "linecolor": "white",
            "showbackground": true,
            "ticks": "",
            "zerolinecolor": "white"
           },
           "yaxis": {
            "backgroundcolor": "#E5ECF6",
            "gridcolor": "white",
            "gridwidth": 2,
            "linecolor": "white",
            "showbackground": true,
            "ticks": "",
            "zerolinecolor": "white"
           },
           "zaxis": {
            "backgroundcolor": "#E5ECF6",
            "gridcolor": "white",
            "gridwidth": 2,
            "linecolor": "white",
            "showbackground": true,
            "ticks": "",
            "zerolinecolor": "white"
           }
          },
          "shapedefaults": {
           "line": {
            "color": "#2a3f5f"
           }
          },
          "ternary": {
           "aaxis": {
            "gridcolor": "white",
            "linecolor": "white",
            "ticks": ""
           },
           "baxis": {
            "gridcolor": "white",
            "linecolor": "white",
            "ticks": ""
           },
           "bgcolor": "#E5ECF6",
           "caxis": {
            "gridcolor": "white",
            "linecolor": "white",
            "ticks": ""
           }
          },
          "title": {
           "x": 0.05
          },
          "xaxis": {
           "automargin": true,
           "gridcolor": "white",
           "linecolor": "white",
           "ticks": "",
           "title": {
            "standoff": 15
           },
           "zerolinecolor": "white",
           "zerolinewidth": 2
          },
          "yaxis": {
           "automargin": true,
           "gridcolor": "white",
           "linecolor": "white",
           "ticks": "",
           "title": {
            "standoff": 15
           },
           "zerolinecolor": "white",
           "zerolinewidth": 2
          }
         }
        },
        "width": 1200,
        "xaxis": {
         "dtick": 1,
         "tickfont": {
          "size": 14
         },
         "tickmode": "array",
         "ticktext": [
          "LS1980A101",
          "LS1980A102",
          "LS1980A103",
          "LS1980A104",
          "LS1980A105",
          "LS1980A106",
          "LS1980A107",
          "LS1980A108",
          "LS1980A109",
          "LS1980A110"
         ],
         "tickvals": [
          0,
          1,
          2,
          3,
          4,
          5,
          6,
          7,
          8,
          9
         ],
         "title": {
          "text": ""
         }
        },
        "yaxis": {
         "autorange": "reversed",
         "dtick": 1,
         "tickfont": {
          "size": 14
         },
         "tickmode": "array",
         "ticktext": [
          1981,
          1982,
          1983,
          1984,
          1985,
          1986,
          1987,
          1988,
          1989,
          1990,
          1991,
          1992,
          1993,
          1994,
          1995,
          1996,
          1997,
          1998,
          1999,
          2000,
          2001,
          2002,
          2003,
          2004,
          2005,
          2006,
          2007,
          2008,
          2009,
          2010,
          2011,
          2012,
          2013,
          2014,
          2015,
          2016,
          2017,
          2018
         ],
         "tickvals": [
          0,
          1,
          2,
          3,
          4,
          5,
          6,
          7,
          8,
          9,
          10,
          11,
          12,
          13,
          14,
          15,
          16,
          17,
          18,
          19,
          20,
          21,
          22,
          23,
          24,
          25,
          26,
          27,
          28,
          29,
          30,
          31,
          32,
          33,
          34,
          35,
          36,
          37
         ],
         "title": {
          "text": ""
         }
        }
       }
      }
     },
     "metadata": {},
     "output_type": "display_data"
    }
   ],
   "source": [
    "# Heatmap of seasonal data availability\n",
    "country_iso, country_name = 'LS', 'Lesotho'\n",
    "df = pd.read_hdf('../data/crop/adm_crop_production_%s_raw.hdf' % country_iso)\n",
    "df['year'] = df['harvest_year']\n",
    "code = {'Summer':1,'Winter':10}\n",
    "comb = {1:1,10:2,11:3,12:3,20:3,21:3,22:3}\n",
    "comb_name = {1:'Summer',2:'Winter',3:'Summer + Winter'}\n",
    "for product_name in ['Maize Grain (White)', 'Wheat Grain']:\n",
    "    data = df[(df['product'] == product_name) & (df['season_name'].isin(code.keys()))]\n",
    "    footnote = 'Seasonal data availability in %s - %s (uncorrected)' % (country_name, product_name)\n",
    "    fn_save = '../figures/%s_heat_seasondata_%s.png' % (country_iso, product_name)\n",
    "    fig = PlotHeatSeasonData(data, code, comb, comb_name, footnote, fn_save)\n",
    "    fig.show()"
   ]
  },
  {
   "cell_type": "code",
   "execution_count": 10,
   "id": "ec72643d-d48f-41b9-92a9-f72009f6651a",
   "metadata": {},
   "outputs": [
    {
     "name": "stdout",
     "output_type": "stream",
     "text": [
      "../figures/crop_calibrated/LS_Maize_Summer_LS1980A101.png is saved.\n",
      "../figures/crop_calibrated/LS_Maize_Summer_LS1980A102.png is saved.\n",
      "../figures/crop_calibrated/LS_Maize_Summer_LS1980A103.png is saved.\n",
      "../figures/crop_calibrated/LS_Maize_Summer_LS1980A104.png is saved.\n",
      "../figures/crop_calibrated/LS_Maize_Summer_LS1980A105.png is saved.\n",
      "../figures/crop_calibrated/LS_Maize_Summer_LS1980A106.png is saved.\n",
      "../figures/crop_calibrated/LS_Maize_Summer_LS1980A107.png is saved.\n",
      "../figures/crop_calibrated/LS_Maize_Summer_LS1980A108.png is saved.\n",
      "../figures/crop_calibrated/LS_Maize_Summer_LS1980A109.png is saved.\n",
      "../figures/crop_calibrated/LS_Maize_Summer_LS1980A110.png is saved.\n",
      "../figures/crop_calibrated/LS_Sorghum_Summer_LS1980A101.png is saved.\n",
      "../figures/crop_calibrated/LS_Sorghum_Summer_LS1980A102.png is saved.\n",
      "../figures/crop_calibrated/LS_Sorghum_Summer_LS1980A103.png is saved.\n",
      "../figures/crop_calibrated/LS_Sorghum_Summer_LS1980A104.png is saved.\n",
      "../figures/crop_calibrated/LS_Sorghum_Summer_LS1980A105.png is saved.\n",
      "../figures/crop_calibrated/LS_Sorghum_Summer_LS1980A106.png is saved.\n",
      "../figures/crop_calibrated/LS_Sorghum_Summer_LS1980A107.png is saved.\n",
      "../figures/crop_calibrated/LS_Sorghum_Summer_LS1980A108.png is saved.\n",
      "../figures/crop_calibrated/LS_Sorghum_Summer_LS1980A109.png is saved.\n",
      "../figures/crop_calibrated/LS_Sorghum_Summer_LS1980A110.png is saved.\n",
      "../figures/crop_calibrated/LS_Wheat_Summer_LS1980A101.png is saved.\n",
      "../figures/crop_calibrated/LS_Wheat_Summer_LS1980A102.png is saved.\n",
      "../figures/crop_calibrated/LS_Wheat_Summer_LS1980A103.png is saved.\n",
      "../figures/crop_calibrated/LS_Wheat_Summer_LS1980A104.png is saved.\n",
      "../figures/crop_calibrated/LS_Wheat_Summer_LS1980A105.png is saved.\n",
      "../figures/crop_calibrated/LS_Wheat_Summer_LS1980A106.png is saved.\n",
      "../figures/crop_calibrated/LS_Wheat_Summer_LS1980A107.png is saved.\n",
      "../figures/crop_calibrated/LS_Wheat_Summer_LS1980A108.png is saved.\n",
      "../figures/crop_calibrated/LS_Wheat_Summer_LS1980A109.png is saved.\n",
      "../figures/crop_calibrated/LS_Wheat_Summer_LS1980A110.png is saved.\n"
     ]
    }
   ],
   "source": [
    "# Calibrated PAY time-series per FNID\n",
    "from tools_graphic import PlotLineCropTS\n",
    "country_iso, country_name = 'LS', 'Lesotho'\n",
    "df = pd.read_hdf('../data/crop/adm_crop_production_%s.hdf' % country_iso)\n",
    "df = df[df['gscd_code']=='calibrated']; df['year'] = df['harvest_year']\n",
    "link_ratio = load_npz('../data/crop/adm_crop_production_%s_ratio.npz' % country_iso)\n",
    "year_all = np.arange(df['year'].min(), df['year'].max()+1)\n",
    "prod_season = [\n",
    "    ['Maize', 'Summer'],\n",
    "    ['Sorghum', 'Summer'],\n",
    "    ['Wheat', 'Summer'],\n",
    "]\n",
    "for product_name, season_name in prod_season:\n",
    "    sub = df[\n",
    "        (df['product'] == product_name) &\n",
    "        (df['season_name'] == season_name)\n",
    "    ]\n",
    "    for fnid in sub['fnid'].unique():\n",
    "        sub_fps = sub[sub['fnid'] == fnid]\n",
    "        fn_save = '../figures/crop_calibrated/%s_%s_%s_%s.png' % (country_iso, product_name, season_name, fnid)\n",
    "        fig = PlotLineCropTS(sub_fps, fnid, product_name, season_name, link_ratio, year_all, fn_save)"
   ]
  },
  {
   "cell_type": "code",
   "execution_count": null,
   "id": "8c78d160",
   "metadata": {},
   "outputs": [],
   "source": []
  }
 ],
 "metadata": {
  "kernelspec": {
   "display_name": "Python 3 (ipykernel)",
   "language": "python",
   "name": "python3"
  },
  "language_info": {
   "codemirror_mode": {
    "name": "ipython",
    "version": 3
   },
   "file_extension": ".py",
   "mimetype": "text/x-python",
   "name": "python",
   "nbconvert_exporter": "python",
   "pygments_lexer": "ipython3",
   "version": "3.8.12"
  }
 },
 "nbformat": 4,
 "nbformat_minor": 5
}
