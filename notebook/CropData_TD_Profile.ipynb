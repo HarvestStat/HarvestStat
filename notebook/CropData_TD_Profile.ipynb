{
 "cells": [
  {
   "cell_type": "markdown",
   "id": "5a54535d-4fd0-4290-a987-d6baff7aa821",
   "metadata": {},
   "source": [
    "# HarvestStat Data Profiling - Chad"
   ]
  },
  {
   "cell_type": "code",
   "execution_count": 1,
   "id": "423b4763-5783-4282-ba84-d8ae8ba04fb5",
   "metadata": {},
   "outputs": [],
   "source": [
    "import glob, json\n",
    "import warnings\n",
    "warnings.simplefilter(action='ignore', category=FutureWarning)\n",
    "import requests\n",
    "import numpy as np\n",
    "import pandas as pd\n",
    "import geopandas as gpd\n",
    "from tools import save_npz, PrintAdminUnits, PlotAdminShapes\n",
    "from tools import FDW_PD_Sweeper, FDW_PD_AvalTable, FDW_PD_Compiling, FDW_PD_ValidateFnidName\n",
    "from tools import FDW_PD_CreateAdminLink, FDW_PD_RatioAdminLink, FDW_PD_ConnectAdminLink\n",
    "from tools import FDW_PD_CaliSeasonYear\n",
    "from tools_graphic import PlotBarProduction, PlotLinePAY\n",
    "warnings.simplefilter(action='ignore', category=pd.errors.PerformanceWarning)\n",
    "pd.options.mode.chained_assignment = None"
   ]
  },
  {
   "cell_type": "code",
   "execution_count": 2,
   "id": "a9dc0159-4046-4366-a361-0a2e885a2304",
   "metadata": {},
   "outputs": [
    {
     "name": "stdout",
     "output_type": "stream",
     "text": [
      "- FEWS NET admin shapefiles ------------------- #\n",
      "| year\t | Admin1   | # units   | Admin2   | # units   | Admin3   | # units   |\n",
      "| 1960\t | TD1960A1 | 14\t| TD1960A2\t| 52\t| nan\t| 0\t|\n",
      "| 2008\t | TD2008A1 | 22\t| TD2008A2\t| 62\t| nan\t| 0\t|\n",
      "| 2012\t | TD2012A1 | 23\t| TD2012A2\t| 68\t| nan\t| 0\t|\n",
      "| 2017\t | TD2017A1 | 23\t| TD2017A2\t| 70\t| nan\t| 0\t|\n",
      "----------------------------------------------- #\n"
     ]
    }
   ],
   "source": [
    "# Load FEWS NET administrative boundaries ------- #\n",
    "epsg = 'epsg:32633' # Chad\n",
    "fn_shapes = sorted(glob.glob('../data/shapefile/fewsnet/TD_Admin?_????.shp'))\n",
    "shape_all = []\n",
    "for fn in fn_shapes:\n",
    "    name = fn[-18:-4]\n",
    "    exec('%s = gpd.read_file(\"%s\").to_crs(\"%s\")' % (name, fn, epsg))\n",
    "    exec('%s[\"area\"] = %s[\"geometry\"].area/10**6' % (name, name))\n",
    "    exec('shape_all.append(%s)' % (name))\n",
    "shape_all = pd.concat(shape_all, axis=0).reset_index(drop=True)\n",
    "PrintAdminUnits(shape_all)\n",
    "# ----------------------------------------------- #\n",
    "\n",
    "# FDW API host address -------------------------- #\n",
    "host = 'https://fdw.fews.net'\n",
    "auth = tuple(json.loads(open('token.json', \"r\").read()))\n",
    "parameters = {\n",
    "    'format': 'json',\n",
    "    'country': 'Chad',\n",
    "    'product': ['R011','R012','R013','R014','R015','R017','R018'],\n",
    "    'survey_type': 'crop:best'\n",
    "}\n",
    "endpoint = '/api/cropproductionindicatorvalue/'\n",
    "response = requests.get(host + endpoint, auth=auth, params=parameters, proxies={})\n",
    "response.raise_for_status()\n",
    "df = pd.DataFrame.from_records(response.json())\n",
    "# ----------------------------------------------- #\n",
    "\n",
    "###################################################\n",
    "# There is an issue with the submitted data, which only includes 2020, so we proceed without it.\n",
    "df = df[df['collection_status'] != 'Submitted']\n",
    "###################################################"
   ]
  },
  {
   "cell_type": "code",
   "execution_count": 3,
   "id": "1546e288-588d-4af4-be71-c096579f7737",
   "metadata": {},
   "outputs": [
    {
     "name": "stdout",
     "output_type": "stream",
     "text": [
      "- Remove missing records ---------------------- #\n",
      "Orignial data points: 9,647\n",
      "Removed 120 \"Missing Value\" points\n",
      "3,120/3,126 \"Area Harvested\" points are retained.\n",
      "3,093/3,126 \"Quantity Produced\" points are retained.\n",
      "3,314/3,395 \"Yield\" points are retained.\n",
      "Current data points: 9,527\n",
      "\n",
      "- Minor changes are applied ------------------- #\n",
      "\n",
      "- Basic information --------------------------- #\n",
      "Data period: 1983 - 2017\n",
      "13 grain types are found: Bambara groundnut, Cassava, Cowpeas (Mixed), Fonio, Groundnuts (In Shell), Maize (Corn), Millet, Rice (Paddy), Sesame Seed, Sorghum, Sweet Potatoes, Taro, move to 1594AA, Wheat Grain\n",
      "2 seasons are found: Main harvest (10-01), Cold off-season harvest (02-01)\n",
      "1 crop production system are found: none\n",
      "Data sources include:\n",
      "[1] Ministry of Agriculture and Irrigation, Chad --- Resultats Definitifs De La Campagne Agricole, Chad\n",
      "Administrative-1 fnids: 49\n",
      "Administrative-2 fnids: 0\n",
      "0 reporting units are found: \n",
      "\n",
      "- Total production over time ------------------ #\n",
      "season_name           Cold off-season harvest Main harvest\n",
      "                                                          \n",
      "Bambara groundnut                        0.0%         0.5%\n",
      "Cassava                                  0.0%         7.2%\n",
      "Cowpeas (Mixed)                          0.0%         2.3%\n",
      "Fonio                                    0.0%         0.0%\n",
      "Groundnuts (In Shell)                    0.0%        19.2%\n",
      "Maize (Corn)                             0.0%         7.4%\n",
      "Millet                                   0.0%        18.3%\n",
      "Rice (Paddy)                             0.0%         5.9%\n",
      "Sesame Seed                              0.0%         2.4%\n",
      "Sorghum                                 10.7%        24.0%\n",
      "Sweet Potatoes                           0.0%         1.4%\n",
      "Taro, move to 1594AA                     0.0%         0.4%\n",
      "Wheat Grain                              0.0%         0.1%\n",
      "\n",
      "- Crop calendar ------------------------------- #\n",
      "                  product              season_name planting_month  \\\n",
      "0       Bambara groundnut             Main harvest          10-01   \n",
      "1                 Cassava             Main harvest          10-01   \n",
      "2         Cowpeas (Mixed)             Main harvest          10-01   \n",
      "3                   Fonio             Main harvest          10-01   \n",
      "4   Groundnuts (In Shell)             Main harvest          10-01   \n",
      "5            Maize (Corn)             Main harvest          10-01   \n",
      "6                  Millet             Main harvest          10-01   \n",
      "7            Rice (Paddy)             Main harvest          10-01   \n",
      "8             Sesame Seed             Main harvest          10-01   \n",
      "9                 Sorghum             Main harvest          10-01   \n",
      "10                Sorghum  Cold off-season harvest          02-01   \n",
      "11         Sweet Potatoes             Main harvest          10-01   \n",
      "12   Taro, move to 1594AA             Main harvest          10-01   \n",
      "13            Wheat Grain             Main harvest          10-01   \n",
      "\n",
      "   harvest_month  \n",
      "0          12-01  \n",
      "1          12-01  \n",
      "2          12-01  \n",
      "3          12-01  \n",
      "4          12-01  \n",
      "5          12-01  \n",
      "6          12-01  \n",
      "7          12-01  \n",
      "8          12-01  \n",
      "9          12-01  \n",
      "10         02-01  \n",
      "11         12-01  \n",
      "12         12-01  \n",
      "13         12-01  \n",
      "\n",
      "- Recorded years per season ------------------- #\n",
      "Main harvest: 35 years (1983-2017) (missing: 0 years)\n",
      "Cold off-season harvest: 35 years (1983-2017) (missing: 1 years)\n",
      "\n",
      "- Number of \"Quantity Produced\" data points --- #\n",
      "TD1960A1: 1,856 data points are found.\n",
      "TD2008A1: 437 data points are found.\n",
      "TD2012A1: 800 data points are found.\n",
      "\n",
      "- Districts with population group(s) ---------- #\n",
      "0 districts includes 'population_group'.\n",
      "\n",
      "Table of available data\n",
      "----------------------------------------------- #\n",
      "Crop type: Bambara groundnut\n",
      "----------------------------------------------- #\n",
      "season_name            Main harvest              \n",
      "crop_production_system         none              \n",
      "fnid_short                   1960A1 2008A1 2012A1\n",
      "year                                             \n",
      "1996                           5/14    NaN    NaN\n",
      "1997                           6/14    NaN    NaN\n",
      "1998                           5/14    NaN    NaN\n",
      "1999                            NaN    NaN    NaN\n",
      "2000                          10/14    NaN    NaN\n",
      "2001                           8/14    NaN    NaN\n",
      "2002                            NaN    NaN    NaN\n",
      "2003                           8/14    NaN    NaN\n",
      "2004                           8/14    NaN    NaN\n",
      "2005                           1/14    NaN    NaN\n",
      "2006                            NaN    NaN    NaN\n",
      "2007                            NaN    NaN    NaN\n",
      "2008                           1/14    NaN    NaN\n",
      "2009                           7/14    NaN    NaN\n",
      "2010                            NaN   3/22    NaN\n",
      "2011                            NaN   7/22    NaN\n",
      "2012                            NaN   9/22    NaN\n",
      "2013                            NaN    NaN   9/23\n",
      "2014                            NaN    NaN   1/23\n",
      "2015                            NaN    NaN   9/23\n",
      "2016                            NaN    NaN  12/23\n",
      "2017                            NaN    NaN  12/23\n",
      "----------------------------------------------- #\n",
      "Crop type: Cassava\n",
      "----------------------------------------------- #\n",
      "season_name            Main harvest              \n",
      "crop_production_system         none              \n",
      "fnid_short                   1960A1 2008A1 2012A1\n",
      "year                                             \n",
      "1996                           7/14    NaN    NaN\n",
      "1997                            NaN    NaN    NaN\n",
      "1998                            NaN    NaN    NaN\n",
      "1999                            NaN    NaN    NaN\n",
      "2000                            NaN    NaN    NaN\n",
      "2001                           8/14    NaN    NaN\n",
      "2002                           8/14    NaN    NaN\n",
      "2003                           8/14    NaN    NaN\n",
      "2004                           6/14    NaN    NaN\n",
      "2005                           8/14    NaN    NaN\n",
      "2006                           9/14    NaN    NaN\n",
      "2007                           5/14    NaN    NaN\n",
      "2008                           7/14    NaN    NaN\n",
      "2009                           8/14    NaN    NaN\n",
      "2010                            NaN   8/22    NaN\n",
      "2011                            NaN   9/22    NaN\n",
      "2012                            NaN  11/22    NaN\n",
      "2013                            NaN    NaN  11/23\n",
      "2014                            NaN    NaN  10/23\n",
      "2015                            NaN    NaN  12/23\n",
      "2016                            NaN    NaN  12/23\n",
      "2017                            NaN    NaN  12/23\n",
      "----------------------------------------------- #\n",
      "Crop type: Cowpeas (Mixed)\n",
      "----------------------------------------------- #\n",
      "season_name            Main harvest              \n",
      "crop_production_system         none              \n",
      "fnid_short                   1960A1 2008A1 2012A1\n",
      "year                                             \n",
      "1991                           8/14    NaN    NaN\n",
      "1992                          11/14    NaN    NaN\n",
      "1993                            NaN    NaN    NaN\n",
      "1994                           9/14    NaN    NaN\n",
      "1995                            NaN    NaN    NaN\n",
      "1996                          11/14    NaN    NaN\n",
      "1997                           9/14    NaN    NaN\n",
      "1998                           9/14    NaN    NaN\n",
      "1999                           4/14    NaN    NaN\n",
      "2000                          13/14    NaN    NaN\n",
      "2001                          13/14    NaN    NaN\n",
      "2002                          10/14    NaN    NaN\n",
      "2003                          13/14    NaN    NaN\n",
      "2004                           8/14    NaN    NaN\n",
      "2005                           7/14    NaN    NaN\n",
      "2006                           4/14    NaN    NaN\n",
      "2007                           8/14    NaN    NaN\n",
      "2008                          10/14    NaN    NaN\n",
      "2009                          11/14    NaN    NaN\n",
      "2010                            NaN  16/22    NaN\n",
      "2011                            NaN  17/22    NaN\n",
      "2012                            NaN  17/22    NaN\n",
      "2013                            NaN    NaN  18/23\n",
      "2014                            NaN    NaN  18/23\n",
      "2015                            NaN    NaN  17/23\n",
      "2016                            NaN    NaN  18/23\n",
      "2017                            NaN    NaN  18/23\n",
      "----------------------------------------------- #\n",
      "Crop type: Fonio\n",
      "----------------------------------------------- #\n",
      "season_name            Main harvest\n",
      "crop_production_system         none\n",
      "fnid_short                   1960A1\n",
      "year                               \n",
      "1994                           3/14\n",
      "1995                            NaN\n",
      "1996                           1/14\n",
      "1997                           3/14\n",
      "1998                           5/14\n",
      "1999                           5/14\n",
      "2000                           2/14\n",
      "2001                           2/14\n",
      "2002                           1/14\n",
      "2003                           5/14\n",
      "2004                           5/14\n",
      "----------------------------------------------- #\n",
      "Crop type: Groundnuts (In Shell)\n",
      "----------------------------------------------- #\n",
      "season_name            Main harvest              \n",
      "crop_production_system         none              \n",
      "fnid_short                   1960A1 2008A1 2012A1\n",
      "year                                             \n",
      "1983                           6/14    NaN    NaN\n",
      "1984                           6/14    NaN    NaN\n",
      "1985                           6/14    NaN    NaN\n",
      "1986                           6/14    NaN    NaN\n",
      "1987                          12/14    NaN    NaN\n",
      "1988                           4/14    NaN    NaN\n",
      "1989                           3/14    NaN    NaN\n",
      "1990                          11/14    NaN    NaN\n",
      "1991                          11/14    NaN    NaN\n",
      "1992                          12/14    NaN    NaN\n",
      "1993                          10/14    NaN    NaN\n",
      "1994                          12/14    NaN    NaN\n",
      "1995                            NaN    NaN    NaN\n",
      "1996                          11/14    NaN    NaN\n",
      "1997                          12/14    NaN    NaN\n",
      "1998                          11/14    NaN    NaN\n",
      "1999                          11/14    NaN    NaN\n",
      "2000                          13/14    NaN    NaN\n",
      "2001                          11/14    NaN    NaN\n",
      "2002                          11/14    NaN    NaN\n",
      "2003                          12/14    NaN    NaN\n",
      "2004                          12/14    NaN    NaN\n",
      "2005                          11/14    NaN    NaN\n",
      "2006                          11/14    NaN    NaN\n",
      "2007                          10/14    NaN    NaN\n",
      "2008                          12/14    NaN    NaN\n",
      "2009                          11/14    NaN    NaN\n",
      "2010                            NaN  15/22    NaN\n",
      "2011                            NaN  16/22    NaN\n",
      "2012                            NaN  17/22    NaN\n",
      "2013                            NaN    NaN  15/23\n",
      "2014                            NaN    NaN  16/23\n",
      "2015                            NaN    NaN  16/23\n",
      "2016                            NaN    NaN  16/23\n",
      "2017                            NaN    NaN  16/23\n",
      "----------------------------------------------- #\n",
      "Crop type: Maize (Corn)\n",
      "----------------------------------------------- #\n",
      "season_name            Main harvest              \n",
      "crop_production_system         none              \n",
      "fnid_short                   1960A1 2008A1 2012A1\n",
      "year                                             \n",
      "1984                           3/14    NaN    NaN\n",
      "1985                           3/14    NaN    NaN\n",
      "1986                           8/14    NaN    NaN\n",
      "1987                           4/14    NaN    NaN\n",
      "1988                           8/14    NaN    NaN\n",
      "1989                           7/14    NaN    NaN\n",
      "1990                           8/14    NaN    NaN\n",
      "1991                           9/14    NaN    NaN\n",
      "1992                           8/14    NaN    NaN\n",
      "1993                           9/14    NaN    NaN\n",
      "1994                          12/14    NaN    NaN\n",
      "1995                          12/14    NaN    NaN\n",
      "1996                          11/14    NaN    NaN\n",
      "1997                          10/14    NaN    NaN\n",
      "1998                          10/14    NaN    NaN\n",
      "1999                          11/14    NaN    NaN\n",
      "2000                           8/14    NaN    NaN\n",
      "2001                          11/14    NaN    NaN\n",
      "2002                           9/14    NaN    NaN\n",
      "2003                           9/14    NaN    NaN\n",
      "2004                           9/14    NaN    NaN\n",
      "2005                          11/14    NaN    NaN\n",
      "2006                          10/14    NaN    NaN\n",
      "2007                          11/14    NaN    NaN\n",
      "2008                          11/14    NaN    NaN\n",
      "2009                          10/14    NaN    NaN\n",
      "2010                            NaN  16/22    NaN\n",
      "2011                            NaN  16/22    NaN\n",
      "2012                            NaN  16/22    NaN\n",
      "2013                            NaN    NaN  17/23\n",
      "2014                            NaN    NaN  16/23\n",
      "2015                            NaN    NaN  17/23\n",
      "2016                            NaN    NaN  17/23\n",
      "2017                            NaN    NaN  17/23\n",
      "----------------------------------------------- #\n",
      "Crop type: Millet\n",
      "----------------------------------------------- #\n",
      "season_name            Main harvest              \n",
      "crop_production_system         none              \n",
      "fnid_short                   1960A1 2008A1 2012A1\n",
      "year                                             \n",
      "1983                          11/14    NaN    NaN\n",
      "1984                           5/14    NaN    NaN\n",
      "1985                          12/14    NaN    NaN\n",
      "1986                          12/14    NaN    NaN\n",
      "1987                          12/14    NaN    NaN\n",
      "1988                          13/14    NaN    NaN\n",
      "1989                          13/14    NaN    NaN\n",
      "1990                          13/14    NaN    NaN\n",
      "1991                          13/14    NaN    NaN\n",
      "1992                          13/14    NaN    NaN\n",
      "1993                          13/14    NaN    NaN\n",
      "1994                          13/14    NaN    NaN\n",
      "1995                          13/14    NaN    NaN\n",
      "1996                          13/14    NaN    NaN\n",
      "1997                          13/14    NaN    NaN\n",
      "1998                          13/14    NaN    NaN\n",
      "1999                          13/14    NaN    NaN\n",
      "2000                          13/14    NaN    NaN\n",
      "2001                          13/14    NaN    NaN\n",
      "2002                          13/14    NaN    NaN\n",
      "2003                          13/14    NaN    NaN\n",
      "2004                          13/14    NaN    NaN\n",
      "2005                          13/14    NaN    NaN\n",
      "2006                          13/14    NaN    NaN\n",
      "2007                          13/14    NaN    NaN\n",
      "2008                          13/14    NaN    NaN\n",
      "2009                          13/14    NaN    NaN\n",
      "2010                            NaN  18/22    NaN\n",
      "2011                            NaN  18/22    NaN\n",
      "2012                            NaN  18/22    NaN\n",
      "2013                            NaN    NaN  18/23\n",
      "2014                            NaN    NaN  18/23\n",
      "2015                            NaN    NaN  18/23\n",
      "2016                            NaN    NaN  18/23\n",
      "2017                            NaN    NaN  18/23\n",
      "----------------------------------------------- #\n",
      "Crop type: Rice (Paddy)\n",
      "----------------------------------------------- #\n",
      "season_name            Main harvest              \n",
      "crop_production_system         none              \n",
      "fnid_short                   1960A1 2008A1 2012A1\n",
      "year                                             \n",
      "1983                           5/14    NaN    NaN\n",
      "1984                           7/14    NaN    NaN\n",
      "1985                           7/14    NaN    NaN\n",
      "1986                           7/14    NaN    NaN\n",
      "1987                           6/14    NaN    NaN\n",
      "1988                           6/14    NaN    NaN\n",
      "1989                           5/14    NaN    NaN\n",
      "1990                           7/14    NaN    NaN\n",
      "1991                           5/14    NaN    NaN\n",
      "1992                           7/14    NaN    NaN\n",
      "1993                           6/14    NaN    NaN\n",
      "1994                           7/14    NaN    NaN\n",
      "1995                           7/14    NaN    NaN\n",
      "1996                           7/14    NaN    NaN\n",
      "1997                           6/14    NaN    NaN\n",
      "1998                           8/14    NaN    NaN\n",
      "1999                           8/14    NaN    NaN\n",
      "2000                           8/14    NaN    NaN\n",
      "2001                           8/14    NaN    NaN\n",
      "2002                           9/14    NaN    NaN\n",
      "2003                           9/14    NaN    NaN\n",
      "2004                           8/14    NaN    NaN\n",
      "2005                          10/14    NaN    NaN\n",
      "2006                           8/14    NaN    NaN\n",
      "2007                           8/14    NaN    NaN\n",
      "2008                           9/14    NaN    NaN\n",
      "2009                           8/14    NaN    NaN\n",
      "2010                            NaN  13/22    NaN\n",
      "2011                            NaN  14/22    NaN\n",
      "2012                            NaN  14/22    NaN\n",
      "2013                            NaN    NaN  14/23\n",
      "2014                            NaN    NaN  12/23\n",
      "2015                            NaN    NaN  14/23\n",
      "2016                            NaN    NaN  14/23\n",
      "2017                            NaN    NaN  14/23\n",
      "----------------------------------------------- #\n",
      "Crop type: Sesame Seed\n",
      "----------------------------------------------- #\n",
      "season_name            Main harvest              \n",
      "crop_production_system         none              \n",
      "fnid_short                   1960A1 2008A1 2012A1\n",
      "year                                             \n",
      "1983                           5/14    NaN    NaN\n",
      "1984                           6/14    NaN    NaN\n",
      "1985                           6/14    NaN    NaN\n",
      "1986                           7/14    NaN    NaN\n",
      "1987                           9/14    NaN    NaN\n",
      "1988                           5/14    NaN    NaN\n",
      "1989                           3/14    NaN    NaN\n",
      "1990                           9/14    NaN    NaN\n",
      "1991                          10/14    NaN    NaN\n",
      "1992                           9/14    NaN    NaN\n",
      "1993                           8/14    NaN    NaN\n",
      "1994                          11/14    NaN    NaN\n",
      "1995                            NaN    NaN    NaN\n",
      "1996                          10/14    NaN    NaN\n",
      "1997                          11/14    NaN    NaN\n",
      "1998                          10/14    NaN    NaN\n",
      "1999                          10/14    NaN    NaN\n",
      "2000                          11/14    NaN    NaN\n",
      "2001                          10/14    NaN    NaN\n",
      "2002                          10/14    NaN    NaN\n",
      "2003                          11/14    NaN    NaN\n",
      "2004                          10/14    NaN    NaN\n",
      "2005                          11/14    NaN    NaN\n",
      "2006                          10/14    NaN    NaN\n",
      "2007                          10/14    NaN    NaN\n",
      "2008                          10/14    NaN    NaN\n",
      "2009                          11/14    NaN    NaN\n",
      "2010                            NaN  15/22    NaN\n",
      "2011                            NaN  15/22    NaN\n",
      "2012                            NaN  15/22    NaN\n",
      "2013                            NaN    NaN  15/23\n",
      "2014                            NaN    NaN  16/23\n",
      "2015                            NaN    NaN  15/23\n",
      "2016                            NaN    NaN  15/23\n",
      "2017                            NaN    NaN  15/23\n",
      "----------------------------------------------- #\n",
      "Crop type: Sorghum\n",
      "----------------------------------------------- #\n",
      "season_name            Cold off-season harvest               Main harvest              \n",
      "crop_production_system                    none                       none              \n",
      "fnid_short                              1960A1 2008A1 2012A1       1960A1 2008A1 2012A1\n",
      "year                                                                                   \n",
      "1983                                      7/14    NaN    NaN        10/14    NaN    NaN\n",
      "1984                                      5/14    NaN    NaN         9/14    NaN    NaN\n",
      "1985                                      9/14    NaN    NaN        11/14    NaN    NaN\n",
      "1986                                      9/14    NaN    NaN        12/14    NaN    NaN\n",
      "1987                                      9/14    NaN    NaN        12/14    NaN    NaN\n",
      "1988                                     10/14    NaN    NaN        12/14    NaN    NaN\n",
      "1989                                      9/14    NaN    NaN        12/14    NaN    NaN\n",
      "1990                                      7/14    NaN    NaN        11/14    NaN    NaN\n",
      "1991                                      8/14    NaN    NaN        12/14    NaN    NaN\n",
      "1992                                      8/14    NaN    NaN        12/14    NaN    NaN\n",
      "1993                                      9/14    NaN    NaN        12/14    NaN    NaN\n",
      "1994                                      8/14    NaN    NaN        12/14    NaN    NaN\n",
      "1995                                      7/14    NaN    NaN        12/14    NaN    NaN\n",
      "1996                                      6/14    NaN    NaN        12/14    NaN    NaN\n",
      "1997                                      6/14    NaN    NaN        12/14    NaN    NaN\n",
      "1998                                       NaN    NaN    NaN          NaN    NaN    NaN\n",
      "1999                                      8/14    NaN    NaN        12/14    NaN    NaN\n",
      "2000                                      7/14    NaN    NaN        13/14    NaN    NaN\n",
      "2001                                      8/14    NaN    NaN        11/14    NaN    NaN\n",
      "2002                                      7/14    NaN    NaN        11/14    NaN    NaN\n",
      "2003                                      8/14    NaN    NaN        12/14    NaN    NaN\n",
      "2004                                      7/14    NaN    NaN        11/14    NaN    NaN\n",
      "2005                                      7/14    NaN    NaN        13/14    NaN    NaN\n",
      "2006                                      8/14    NaN    NaN        12/14    NaN    NaN\n",
      "2007                                      7/14    NaN    NaN        12/14    NaN    NaN\n",
      "2008                                      7/14    NaN    NaN        13/14    NaN    NaN\n",
      "2009                                      7/14    NaN    NaN        13/14    NaN    NaN\n",
      "2010                                       NaN  12/22    NaN          NaN  17/22    NaN\n",
      "2011                                       NaN   9/22    NaN          NaN  17/22    NaN\n",
      "2012                                       NaN  13/22    NaN          NaN  17/22    NaN\n",
      "2013                                       NaN    NaN  12/23          NaN    NaN  17/23\n",
      "2014                                       NaN    NaN  12/23          NaN    NaN  17/23\n",
      "2015                                       NaN    NaN  11/23          NaN    NaN  17/23\n",
      "2016                                       NaN    NaN  12/23          NaN    NaN  17/23\n",
      "2017                                       NaN    NaN  12/23          NaN    NaN  17/23\n",
      "----------------------------------------------- #\n",
      "Crop type: Sweet Potatoes\n",
      "----------------------------------------------- #\n",
      "season_name            Main harvest              \n",
      "crop_production_system         none              \n",
      "fnid_short                   1960A1 2008A1 2012A1\n",
      "year                                             \n",
      "1996                           1/14    NaN    NaN\n",
      "1997                            NaN    NaN    NaN\n",
      "1998                            NaN    NaN    NaN\n",
      "1999                            NaN    NaN    NaN\n",
      "2000                            NaN    NaN    NaN\n",
      "2001                            NaN    NaN    NaN\n",
      "2002                            NaN    NaN    NaN\n",
      "2003                           2/14    NaN    NaN\n",
      "2004                            NaN    NaN    NaN\n",
      "2005                           3/14    NaN    NaN\n",
      "2006                           1/14    NaN    NaN\n",
      "2007                           3/14    NaN    NaN\n",
      "2008                           4/14    NaN    NaN\n",
      "2009                           6/14    NaN    NaN\n",
      "2010                            NaN   5/22    NaN\n",
      "2011                            NaN   6/22    NaN\n",
      "2012                            NaN   6/22    NaN\n",
      "2013                            NaN    NaN  11/23\n",
      "2014                            NaN    NaN   2/23\n",
      "2015                            NaN    NaN   9/23\n",
      "2016                            NaN    NaN  13/23\n",
      "2017                            NaN    NaN  14/23\n",
      "----------------------------------------------- #\n",
      "Crop type: Taro, move to 1594AA\n",
      "----------------------------------------------- #\n",
      "season_name            Main harvest              \n",
      "crop_production_system         none              \n",
      "fnid_short                   1960A1 2008A1 2012A1\n",
      "year                                             \n",
      "2003                           1/14    NaN    NaN\n",
      "2004                            NaN    NaN    NaN\n",
      "2005                           1/14    NaN    NaN\n",
      "2006                           2/14    NaN    NaN\n",
      "2007                           1/14    NaN    NaN\n",
      "2008                           1/14    NaN    NaN\n",
      "2009                           1/14    NaN    NaN\n",
      "2010                            NaN   5/22    NaN\n",
      "2011                            NaN   6/22    NaN\n",
      "2012                            NaN    NaN    NaN\n",
      "2013                            NaN    NaN   7/23\n",
      "2014                            NaN    NaN   2/23\n",
      "2015                            NaN    NaN   6/23\n",
      "2016                            NaN    NaN   7/23\n",
      "----------------------------------------------- #\n",
      "Crop type: Wheat Grain\n",
      "----------------------------------------------- #\n",
      "season_name            Main harvest              \n",
      "crop_production_system         none              \n",
      "fnid_short                   1960A1 2008A1 2012A1\n",
      "year                                             \n",
      "1985                           1/14    NaN    NaN\n",
      "1986                           1/14    NaN    NaN\n",
      "1987                           1/14    NaN    NaN\n",
      "1988                           1/14    NaN    NaN\n",
      "1989                           1/14    NaN    NaN\n",
      "1990                           1/14    NaN    NaN\n",
      "1991                           1/14    NaN    NaN\n",
      "1992                           1/14    NaN    NaN\n",
      "1993                           1/14    NaN    NaN\n",
      "1994                           1/14    NaN    NaN\n",
      "1995                           1/14    NaN    NaN\n",
      "1996                           1/14    NaN    NaN\n",
      "1997                           1/14    NaN    NaN\n",
      "1998                            NaN    NaN    NaN\n",
      "1999                           1/14    NaN    NaN\n",
      "2000                           1/14    NaN    NaN\n",
      "2001                           1/14    NaN    NaN\n",
      "2002                           1/14    NaN    NaN\n",
      "2003                           1/14    NaN    NaN\n",
      "2004                            NaN    NaN    NaN\n",
      "2005                           1/14    NaN    NaN\n",
      "2006                           1/14    NaN    NaN\n",
      "2007                           1/14    NaN    NaN\n",
      "2008                           1/14    NaN    NaN\n",
      "2009                           1/14    NaN    NaN\n",
      "2010                            NaN   1/22    NaN\n",
      "2011                            NaN   1/22    NaN\n",
      "2012                            NaN   1/22    NaN\n",
      "2013                            NaN    NaN   1/23\n",
      "2014                            NaN    NaN   1/23\n",
      "2015                            NaN    NaN   1/23\n",
      "2016                            NaN    NaN   1/23\n",
      "2017                            NaN    NaN   1/23\n",
      "----------------------------------------------- #\n",
      "../figures/TD_admin_shapes.png is saved.\n"
     ]
    }
   ],
   "source": [
    "# Manual Pre-processing before Sweeping --------- #\n",
    "# 1. Default setting \n",
    "# a) None-type crop production system\n",
    "df.loc[df['crop_production_system'].isna(), 'crop_production_system'] = 'none'\n",
    "df.loc[df['crop_production_system'] == '', 'crop_production_system'] = 'none'\n",
    "# b) None-type population group\n",
    "df.loc[df['population_group'].isna(), 'population_group'] = 'none'\n",
    "df.loc[df['population_group'] == '', 'population_group'] = 'none'\n",
    "# 2. Manual setting\n",
    "# a) Add admin names to reporting units\n",
    "admin_level = 'admin_1'\n",
    "reporting_unit = df.loc[df['fnid'].map(lambda x: x[6] != 'A'), 'fnid'].unique()\n",
    "df.loc[df.fnid.isin(reporting_unit),admin_level] = df.loc[df.fnid.isin(reporting_unit), 'locality_name'].map(lambda x: x.split(' ')[0])\n",
    "# ----------------------------------------------- #\n",
    "\n",
    "# FDW Production Data Inspection ---------------- #\n",
    "df, df_raw = FDW_PD_Sweeper(df, area_priority='Area Harvested')\n",
    "table_dict = FDW_PD_AvalTable(df, shape_all)\n",
    "# ----------------------------------------------- #\n",
    "\n",
    "# FEWS NET Shapefile comparison ----------------- #\n",
    "shape_used = pd.concat([TD_Admin1_1960, TD_Admin1_2008, TD_Admin1_2012], axis=0)\n",
    "PlotAdminShapes(shape_used, label=True)\n",
    "# ----------------------------------------------- #"
   ]
  },
  {
   "attachments": {},
   "cell_type": "markdown",
   "id": "dc0312d1-39c1-4548-89a1-0024703b5227",
   "metadata": {},
   "source": [
    "\n",
    "- Chad crop seasonal calendar\n",
    "\n",
    "![FEWS NET](https://fews.net/sites/default/files/styles/large_width_880/public/2023-03/seasonal-calendar-chad.png?itok=IYemQBC5)\n",
    "\n",
    "- FDW data consists of `TD1960A1`, `TD2008A1`, and `TD2012A1`.\n",
    "\n",
    "| Year | Admin-1 | # units  | Admin-2  | # units |\n",
    "| :---: | :----:  | :----:   | :----:   | :---:  |\n",
    "| 1960 | TD1960A1| 14        | TD1960A2 | 52     |\n",
    "| 2008 | TD2008A1| 22        | TD2008A2 | 62     |\n",
    "| 2012 | **`TD2012A1`**| 23 | TD2012A2 | 68    |\n",
    "\n",
    "- Comparison between admin boundaries.\n",
    "\n",
    "![image](https://github.com/chc-ucsb/gscd/blob/main/figures/TD_admin_shapes.png?raw=true)\n",
    "\n",
    "- In 2008, 8 districts are divided and added.\n",
    "\n",
    "| 1960-2008 |2008-2012|\n",
    "| :---:|:---:|\n",
    "|TD1960A124 (Chari-Baguirmi) | TD2008A104 (Chari-Baguirmi), TD2008A108 (Hadjer-Lamis), TD2008A117 (N'Djamena) |\n",
    "|TD1960A125 (Kanem) | TD2008A109 (Kanem), TD2008A101 (Barh el Gazel)|\n",
    "|TD1960A126 (Moyen-Chari)| TD2008A116 (Moyen-Chari), TD2008A113 (Mandoul)|\n",
    "|TD1960A127 (Ouaddai) | TD2008A118 (Ouaddai), TD2008A120 (Sila) | \n",
    "|TD1960A128 (B.E.T.) | TD2008A122 (Tibesti), TD2008A103 (Borkou), TD2008A130 (Ennedi)|\n",
    "|TD1960A129 (Mayo-Kebbi) | TD2008A114 (Mayo-Kebbi Est), TD2008A115 (Mayo-Kebbi Ouest) |\n",
    "\n",
    "- In 2012, 1 district is divided and added.\n",
    "\n",
    "| 2008-2012| 2012-present |\n",
    "| :---:|:---:|\n",
    "|TD2008A130 (Ennedi) | TD2012A105 (Ennedi-Est), TD2012A106 (Ennedi-Ouest)|\n",
    "\n",
    "- **`TD2012A1`** is used to represent current admin-level 1 crop data.\n",
    "- Chad has two crop seasons: `Main harvest` and `Cold off-season`.\n",
    "- Chad has no population group(s)."
   ]
  },
  {
   "cell_type": "code",
   "execution_count": 4,
   "id": "06e0b5a4-4b30-43d4-8222-c2a0ca5cd17d",
   "metadata": {},
   "outputs": [],
   "source": [
    "# Define the latest shapefile ------------------- #\n",
    "latest_level = 1\n",
    "shape_latest = TD_Admin1_2012.copy().to_crs('epsg:4326')\n",
    "# ----------------------------------------------- #\n",
    "\n",
    "# Validation of FNIDs and Names ----------------- #\n",
    "df = FDW_PD_ValidateFnidName(df, shape_used, shape_latest)\n",
    "df['season_name'] = df['season_name'].replace({'Main harvest':'Main', 'Cold off-season harvest': 'Cold-off'})\n",
    "# ----------------------------------------------- #\n",
    "\n",
    "# FDW Production Data Compiling ----------------- #\n",
    "area, prod = FDW_PD_Compiling(df, shape_used)\n",
    "area_all, prod_all = area.copy(), prod.copy()\n",
    "mdx_pss = area.columns.droplevel([0,1]).unique()\n",
    "# ----------------------------------------------- #"
   ]
  },
  {
   "cell_type": "code",
   "execution_count": 5,
   "id": "6b9e61f8-14c2-4876-90a2-d7a713b1ad71",
   "metadata": {},
   "outputs": [
    {
     "name": "stdout",
     "output_type": "stream",
     "text": [
      "CBR is considered for 'TD1960A128' as no record found in: ['TD2012A103', 'TD2012A105', 'TD2012A106', 'TD2012A122']\n",
      "CBR is considered for 'TD1960A124' as no record found in: ['TD2012A117']\n",
      "CBR is considered for 'TD2008A130' as no record found in: ['TD2012A105', 'TD2012A106']\n",
      "CBR is considered for 'TD2008A122' as no record found in: ['TD2012A122']\n",
      "CBR is considered for 'TD2008A103' as no record found in: ['TD2012A103']\n"
     ]
    }
   ],
   "source": [
    "# Link admin boundaries ------------------------- #\n",
    "link_1960, over_1960 = FDW_PD_CreateAdminLink(TD_Admin1_1960, TD_Admin1_2012, 'ADMIN1', 'ADMIN1', prod, epsg)\n",
    "link_1960['TD1960A128'].update(method='PBR')\n",
    "link_1960['TD1960A124'].update(method='PBR')\n",
    "assert all(np.unique([v['method'] for k,v in link_1960.items()]) == 'PBR')\n",
    "link_2008, over_2008 = FDW_PD_CreateAdminLink(TD_Admin1_2008, TD_Admin1_2012, 'ADMIN1', 'ADMIN1', prod, epsg)\n",
    "link_2008['TD2008A130'].update(method='PBR')\n",
    "link_2008['TD2008A122'].update(method='PBR')\n",
    "link_2008['TD2008A103'].update(method='PBR')\n",
    "link_2008['TD2008A108'].update(method='PBR')\n",
    "link_2008['TD2008A117'].update(method='PBR')\n",
    "assert all(np.unique([v['method'] for k,v in link_2008.items()]) == 'PBR')\n",
    "# Crop specific ratios\n",
    "link_ratio_1960 = FDW_PD_RatioAdminLink(link_1960, prod, over_1960, mdx_pss)\n",
    "link_ratio_2008 = FDW_PD_RatioAdminLink(link_2008, prod, over_2008, mdx_pss)\n",
    "# Merge link_ratio\n",
    "assert link_ratio_1960.keys() == link_ratio_2008.keys()\n",
    "link_merged = [link_ratio_1960, link_ratio_2008]\n",
    "fnids_new = list(link_merged[0].keys())\n",
    "link_ratio = dict()\n",
    "for fnid in fnids_new:\n",
    "    container = []\n",
    "    for link in link_merged:\n",
    "        container.append(link[fnid])\n",
    "    link_ratio[fnid] = pd.concat(container, axis=1)\n",
    "# Add current unit to link_ratio\n",
    "for fnid_new in link_ratio.keys():\n",
    "    link_ratio[fnid_new][fnid_new] = 1.0\n",
    "    link_ratio[fnid_new] = link_ratio[fnid_new].sort_index(axis=1, ascending=False)\n",
    "# Connect data with AdminLink\n",
    "area_new, prod_new = FDW_PD_ConnectAdminLink(link_ratio, area, prod, validation=True)\n",
    "# ----------------------------------------------- #"
   ]
  },
  {
   "cell_type": "code",
   "execution_count": 6,
   "id": "8f427b88-6ff9-4e05-8143-ae8d295d46e6",
   "metadata": {},
   "outputs": [
    {
     "name": "stdout",
     "output_type": "stream",
     "text": [
      "All [season_name, product, crop_production_system] are in the external crop calendar.\n",
      "../data/crop/adm_crop_production_TD.csv is saved.\n",
      "../data/crop/adm_crop_production_TD_ratio.npz is saved.\n"
     ]
    }
   ],
   "source": [
    "# Manual correction ----------------------------- #\n",
    "crop_new = prod_new/area_new\n",
    "# ----------------------------------------------- #\n",
    "\n",
    "# Complete long format DataFrame ---------------- #\n",
    "df_area = area_new.T.stack().rename('value').reset_index()\n",
    "df_area['indicator'] = 'area'\n",
    "df_prod = prod_new.T.stack().rename('value').reset_index()\n",
    "df_prod['indicator'] = 'production'\n",
    "df_yield = (prod_new/area_new).T.stack().rename('value').reset_index()\n",
    "df_yield['indicator'] = 'yield'\n",
    "stack = pd.concat([df_area, df_prod, df_yield], axis=0)\n",
    "# Add \"planting year\"\n",
    "cols = ['season_name','product','crop_production_system','planting_month','harvest_year','harvest_month','planting_year']\n",
    "season_table = df[cols].drop_duplicates()\n",
    "stack = stack.merge(season_table, on=cols[:-1])\n",
    "# Add country and admin names\n",
    "stack = stack.merge(df[['fnid','country','country_code','admin_1','admin_2']].drop_duplicates(), on='fnid', how='inner')\n",
    "names = [\n",
    "    'fnid','country','country_code','admin_1','admin_2','name',\n",
    "    'product','season_name','planting_year','planting_month','harvest_year','harvest_month',\n",
    "    'crop_production_system','indicator','value'\n",
    "]\n",
    "stack = stack[names]\n",
    "# ----------------------------------------------- #\n",
    "\n",
    "# Final Processing ------------------------------ #\n",
    "# Manual change of product name\n",
    "product_category_custom = {\n",
    "    'Bambara groundnut': 'Bambara groundnut',\n",
    "    'Cassava': 'Cassava',\n",
    "    'Cowpeas (Mixed)': 'Cowpeas',\n",
    "    'Fonio': 'Fonio',\n",
    "    'Groundnuts (In Shell)': 'Groundnuts (In Shell)',\n",
    "    'Maize (Corn)': 'Maize',\n",
    "    'Millet': 'Millet',\n",
    "    'Rice (Paddy)': 'Rice',\n",
    "    'Sesame Seed': 'Sesame Seed',\n",
    "    'Sorghum': 'Sorghum',\n",
    "    'Sweet Potatoes': 'Sweet Potatoes',\n",
    "    'Taro, move to 1594AA': 'Taro',\n",
    "    'Wheat Grain': 'Wheat'\n",
    "}\n",
    "stack['product'] = stack['product'].replace(product_category_custom)\n",
    "for f, r in link_ratio.items():\n",
    "    mdx = pd.MultiIndex.from_frame(r.index.to_frame().reset_index(drop=True).replace(product_category_custom))\n",
    "    r.index = mdx\n",
    "    link_ratio[f] = r\n",
    "# Calibration of crop calendar using External Crop Calendar (ECC)\n",
    "ecc = pd.read_csv('../data/crop_calendar/external_crop_calendar.csv')\n",
    "ecc = ecc[ecc['country'] == 'Chad']\n",
    "stack, link_ratio = FDW_PD_CaliSeasonYear(stack, ecc, link_ratio)\n",
    "# None admin names\n",
    "stack.loc[stack['admin_1'].isna(), 'admin_1'] = 'none'\n",
    "stack.loc[stack['admin_2'].isna(), 'admin_2'] = 'none'\n",
    "# ----------------------------------------------- #\n",
    "\n",
    "# Save data\n",
    "fn_out = '../data/crop/adm_crop_production_TD.csv'\n",
    "stack.to_csv(fn_out); print(f'{fn_out} is saved.')\n",
    "save_npz('../data/crop/adm_crop_production_TD_ratio.npz', link_ratio)"
   ]
  },
  {
   "cell_type": "markdown",
   "id": "fbb25be0-43f7-4cdb-b454-53c2f46a4727",
   "metadata": {},
   "source": [
    "## Visualization of production data"
   ]
  },
  {
   "cell_type": "code",
   "execution_count": 7,
   "id": "d07d2c3f-420c-4101-8e68-d188600e2ab7",
   "metadata": {},
   "outputs": [
    {
     "name": "stdout",
     "output_type": "stream",
     "text": [
      "../figures/TD_bar_natgrainprod_Main.png is saved.\n"
     ]
    },
    {
     "data": {
      "application/vnd.plotly.v1+json": {
       "config": {
        "plotlyServerURL": "https://plot.ly"
       },
       "data": [
        {
         "alignmentgroup": "True",
         "hovertemplate": "product=Sorghum<br>season_name=Main<br>type=orig_unit<br>year=%{x}<br>value=%{y}<extra></extra>",
         "legendgroup": "Sorghum",
         "marker": {
          "color": "#636efa",
          "pattern": {
           "shape": ""
          }
         },
         "name": "Sorghum",
         "offsetgroup": "Sorghum",
         "orientation": "v",
         "showlegend": true,
         "textposition": "auto",
         "type": "bar",
         "x": [
          1983,
          1984,
          1985,
          1986,
          1987,
          1988,
          1989,
          1990,
          1991,
          1992,
          1993,
          1994,
          1995,
          2000,
          2001,
          2002,
          2003,
          2004,
          2005,
          2006,
          2007,
          2008,
          2009,
          2010,
          2011,
          2012,
          2013,
          2014,
          2015,
          2016,
          2017
         ],
         "xaxis": "x2",
         "y": [
          190101,
          204705,
          308746,
          298509,
          255982,
          257884,
          237010,
          279884,
          285914,
          386934,
          243350,
          480720,
          437448,
          391714,
          497227,
          468100,
          564717,
          449426,
          556666.9519999999,
          754107.107,
          576571.0040000001,
          513532.24,
          600962.768,
          1017751.6510000001,
          647934.16,
          997818.812,
          799235.45017478,
          921661.981,
          835405.375,
          991045.31288847,
          949587.39746391
         ],
         "yaxis": "y2"
        },
        {
         "alignmentgroup": "True",
         "hovertemplate": "product=Sorghum<br>season_name=Main<br>type=percent<br>year=%{x}<br>value=%{y}<extra></extra>",
         "legendgroup": "Sorghum",
         "marker": {
          "color": "#636efa",
          "pattern": {
           "shape": ""
          }
         },
         "name": "Sorghum",
         "offsetgroup": "Sorghum",
         "orientation": "v",
         "showlegend": false,
         "textposition": "auto",
         "type": "bar",
         "x": [
          1983,
          1984,
          1985,
          1986,
          1987,
          1988,
          1989,
          1990,
          1991,
          1992,
          1993,
          1994,
          1995,
          2000,
          2001,
          2002,
          2003,
          2004,
          2005,
          2006,
          2007,
          2008,
          2009,
          2010,
          2011,
          2012,
          2013,
          2014,
          2015,
          2016,
          2017
         ],
         "xaxis": "x",
         "y": [
          46.35140077536391,
          51.167218985849004,
          42.61804488652756,
          42.05459747849081,
          42.63233190271817,
          31.15971097846838,
          34.613390581757905,
          42.21599110683413,
          30.54206030773438,
          34.178187946733,
          31.83205338000552,
          37.47329641765669,
          53.75619191337036,
          30.286680986025484,
          24.369798969878072,
          26.836353908960607,
          24.522228272622346,
          31.190436864622654,
          20.559291434808802,
          29.996799955150895,
          25.11210625848897,
          23.99996330736471,
          28.097899472034314,
          28.14194879470907,
          25.09571672377907,
          24.448877837958864,
          21.107857125442056,
          25.873600859813568,
          25.11769401388816,
          23.00282962376919,
          23.194215905791694
         ],
         "yaxis": "y"
        },
        {
         "alignmentgroup": "True",
         "hovertemplate": "product=Millet<br>season_name=Main<br>type=orig_unit<br>year=%{x}<br>value=%{y}<extra></extra>",
         "legendgroup": "Millet",
         "marker": {
          "color": "#EF553B",
          "pattern": {
           "shape": ""
          }
         },
         "name": "Millet",
         "offsetgroup": "Millet",
         "orientation": "v",
         "showlegend": true,
         "textposition": "auto",
         "type": "bar",
         "x": [
          1983,
          1984,
          1985,
          1986,
          1987,
          1988,
          1989,
          1990,
          1991,
          1992,
          1993,
          1994,
          1995,
          1998,
          2000,
          2001,
          2002,
          2003,
          2004,
          2005,
          2006,
          2007,
          2008,
          2009,
          2010,
          2011,
          2012,
          2013,
          2014,
          2015,
          2016,
          2017
         ],
         "xaxis": "x2",
         "y": [
          113717,
          87776,
          252245,
          253179,
          217094,
          355676,
          179337,
          167594,
          226010,
          293433,
          212094,
          319698,
          231794,
          357321,
          258828,
          397608,
          357425,
          516341,
          297529.103,
          529182.15,
          546953.345,
          495485.887,
          364996.423,
          318981.2,
          759942,
          328942.311,
          847053.15145492,
          555583.06198248,
          694750.913,
          592123.533,
          725676.8522138,
          704037.5171636901
         ],
         "yaxis": "y2"
        },
        {
         "alignmentgroup": "True",
         "hovertemplate": "product=Millet<br>season_name=Main<br>type=percent<br>year=%{x}<br>value=%{y}<extra></extra>",
         "legendgroup": "Millet",
         "marker": {
          "color": "#EF553B",
          "pattern": {
           "shape": ""
          }
         },
         "name": "Millet",
         "offsetgroup": "Millet",
         "orientation": "v",
         "showlegend": false,
         "textposition": "auto",
         "type": "bar",
         "x": [
          1983,
          1984,
          1985,
          1986,
          1987,
          1988,
          1989,
          1990,
          1991,
          1992,
          1993,
          1994,
          1995,
          1998,
          2000,
          2001,
          2002,
          2003,
          2004,
          2005,
          2006,
          2007,
          2008,
          2009,
          2010,
          2011,
          2012,
          2013,
          2014,
          2015,
          2016,
          2017
         ],
         "xaxis": "x",
         "y": [
          27.727062151025283,
          21.940127567484343,
          34.81887613896906,
          35.668408439969404,
          36.15575885057816,
          42.975761823058896,
          26.19071611645381,
          25.278854145141416,
          24.14296274457021,
          25.919170255841316,
          27.743527962107628,
          24.92123880456817,
          28.484214691501087,
          30.275416383248483,
          20.012154444954746,
          19.48733079421528,
          20.491313385836886,
          22.42155250951201,
          20.64870012529162,
          19.544199641922894,
          21.75665753905384,
          21.580506403554168,
          17.058132045067644,
          14.913905100804637,
          21.013229337368866,
          12.740558477918862,
          20.754769075429504,
          14.672982649952854,
          19.503579610010036,
          17.803066828863063,
          16.843448807335943,
          17.196519480443897
         ],
         "yaxis": "y"
        },
        {
         "alignmentgroup": "True",
         "hovertemplate": "product=Maize<br>season_name=Main<br>type=orig_unit<br>year=%{x}<br>value=%{y}<extra></extra>",
         "legendgroup": "Maize",
         "marker": {
          "color": "#00cc96",
          "pattern": {
           "shape": ""
          }
         },
         "name": "Maize",
         "offsetgroup": "Maize",
         "orientation": "v",
         "showlegend": true,
         "textposition": "auto",
         "type": "bar",
         "x": [
          1984,
          1985,
          1986,
          1987,
          1988,
          1989,
          1990,
          1991,
          1992,
          1993,
          1994,
          1995,
          1998,
          2000,
          2001,
          2002,
          2003,
          2004,
          2005,
          2006,
          2007,
          2008,
          2009,
          2010,
          2011,
          2012,
          2013,
          2014,
          2015,
          2016,
          2017
         ],
         "xaxis": "x2",
         "y": [
          3671.6,
          18800,
          34987,
          2048,
          33869,
          19171.000000000004,
          28823,
          47775,
          87425,
          61076,
          140876.2,
          62901,
          168381.8,
          64014,
          105295,
          84349,
          117978,
          109824,
          184635.23500000002,
          173684.282,
          201257.116,
          217046.863,
          207771,
          215797.274,
          299472.21499999997,
          455965.36699999997,
          417985.82769896,
          332889.239,
          349500.29370000004,
          443779.09384934,
          383947.43113703
         ],
         "yaxis": "y2"
        },
        {
         "alignmentgroup": "True",
         "hovertemplate": "product=Maize<br>season_name=Main<br>type=percent<br>year=%{x}<br>value=%{y}<extra></extra>",
         "legendgroup": "Maize",
         "marker": {
          "color": "#00cc96",
          "pattern": {
           "shape": ""
          }
         },
         "name": "Maize",
         "offsetgroup": "Maize",
         "orientation": "v",
         "showlegend": false,
         "textposition": "auto",
         "type": "bar",
         "x": [
          1984,
          1985,
          1986,
          1987,
          1988,
          1989,
          1990,
          1991,
          1992,
          1993,
          1994,
          1995,
          1998,
          2000,
          2001,
          2002,
          2003,
          2004,
          2005,
          2006,
          2007,
          2008,
          2009,
          2010,
          2011,
          2012,
          2013,
          2014,
          2015,
          2016,
          2017
         ],
         "xaxis": "x",
         "y": [
          0.9177380192396043,
          2.5950757058122793,
          4.929044692052695,
          0.34108263759470125,
          4.0923370629032645,
          2.7997692537989156,
          4.3474850712162185,
          5.103446949789133,
          7.722319778678359,
          7.989210981044656,
          10.981643369930705,
          7.729646100891784,
          14.266805215369008,
          4.949456993212995,
          5.1606569686145605,
          4.835760768782137,
          5.123067743927382,
          7.621852180826918,
          6.8191035804464475,
          6.908796660509414,
          8.765598767899608,
          10.143699542561563,
          9.714293433905446,
          5.967031179933505,
          11.59912586532351,
          11.172210247047417,
          11.039031276202635,
          9.345121615050196,
          10.508241504815125,
          10.300411851658543,
          9.378135849370114
         ],
         "yaxis": "y"
        },
        {
         "alignmentgroup": "True",
         "hovertemplate": "product=Rice<br>season_name=Main<br>type=orig_unit<br>year=%{x}<br>value=%{y}<extra></extra>",
         "legendgroup": "Rice",
         "marker": {
          "color": "#ab63fa",
          "pattern": {
           "shape": ""
          }
         },
         "name": "Rice",
         "offsetgroup": "Rice",
         "orientation": "v",
         "showlegend": true,
         "textposition": "auto",
         "type": "bar",
         "x": [
          1983,
          1984,
          1985,
          1986,
          1987,
          1988,
          1989,
          1990,
          1991,
          1992,
          1993,
          1994,
          1995,
          1998,
          2000,
          2001,
          2002,
          2003,
          2004,
          2005,
          2006,
          2007,
          2008,
          2009,
          2010,
          2011,
          2012,
          2013,
          2014,
          2015,
          2016,
          2017
         ],
         "xaxis": "x2",
         "y": [
          18039,
          2374,
          7824,
          14880,
          19497,
          73863,
          105974,
          66027,
          117725,
          108211,
          44200,
          90548,
          78978,
          120666,
          89909,
          112167,
          106570.70000000001,
          126024,
          89824,
          145402.34000000003,
          103068.216,
          106378.25,
          165939.016,
          133764,
          186118.082,
          172686.826,
          188911.408,
          378245.5106383,
          294008.68,
          243478.39930619,
          257701.22812813002,
          278911.20576941
         ],
         "yaxis": "y2"
        },
        {
         "alignmentgroup": "True",
         "hovertemplate": "product=Rice<br>season_name=Main<br>type=percent<br>year=%{x}<br>value=%{y}<extra></extra>",
         "legendgroup": "Rice",
         "marker": {
          "color": "#ab63fa",
          "pattern": {
           "shape": ""
          }
         },
         "name": "Rice",
         "offsetgroup": "Rice",
         "orientation": "v",
         "showlegend": false,
         "textposition": "auto",
         "type": "bar",
         "x": [
          1983,
          1984,
          1985,
          1986,
          1987,
          1988,
          1989,
          1990,
          1991,
          1992,
          1993,
          1994,
          1995,
          1998,
          2000,
          2001,
          2002,
          2003,
          2004,
          2005,
          2006,
          2007,
          2008,
          2009,
          2010,
          2011,
          2012,
          2013,
          2014,
          2015,
          2016,
          2017
         ],
         "xaxis": "x",
         "y": [
          4.398361495135688,
          0.5933952657355978,
          1.0799932086316635,
          2.0963267790248983,
          3.247113371671821,
          8.924748072787029,
          15.476644249235106,
          9.959108933740183,
          12.57568377109211,
          9.558363689683317,
          5.781700264623973,
          7.058437435567437,
          9.705282742026855,
          10.223897821009853,
          6.9516157216044485,
          5.497463414203803,
          6.109739417914267,
          5.472456639040367,
          6.233840055822016,
          5.370121349260838,
          4.099837580613443,
          4.633222793132524,
          7.755170922199948,
          6.254110279552623,
          5.1463689872348475,
          6.688487711814001,
          4.6287681499322195,
          9.989487071859921,
          8.253636791426521,
          7.3205369701675185,
          5.981419181722682,
          6.812565902240983
         ],
         "yaxis": "y"
        },
        {
         "alignmentgroup": "True",
         "hovertemplate": "product=Fonio<br>season_name=Main<br>type=orig_unit<br>year=%{x}<br>value=%{y}<extra></extra>",
         "legendgroup": "Fonio",
         "marker": {
          "color": "#FFA15A",
          "pattern": {
           "shape": ""
          }
         },
         "name": "Fonio",
         "offsetgroup": "Fonio",
         "orientation": "v",
         "showlegend": true,
         "textposition": "auto",
         "type": "bar",
         "x": [
          1994,
          1998,
          2000,
          2001,
          2002,
          2003,
          2004
         ],
         "xaxis": "x2",
         "y": [
          314,
          2270,
          363,
          1172,
          350,
          2770,
          2178
         ],
         "yaxis": "y2"
        },
        {
         "alignmentgroup": "True",
         "hovertemplate": "product=Fonio<br>season_name=Main<br>type=percent<br>year=%{x}<br>value=%{y}<extra></extra>",
         "legendgroup": "Fonio",
         "marker": {
          "color": "#FFA15A",
          "pattern": {
           "shape": ""
          }
         },
         "name": "Fonio",
         "offsetgroup": "Fonio",
         "orientation": "v",
         "showlegend": false,
         "textposition": "auto",
         "type": "bar",
         "x": [
          1994,
          1998,
          2000,
          2001,
          2002,
          2003,
          2004
         ],
         "xaxis": "x",
         "y": [
          0.024477065807838667,
          0.19233461002844518,
          0.02806656182298118,
          0.05744137867150638,
          0.0200656352662598,
          0.12028427037819632,
          0.15115452041303382
         ],
         "yaxis": "y"
        },
        {
         "alignmentgroup": "True",
         "hovertemplate": "product=Wheat<br>season_name=Main<br>type=orig_unit<br>year=%{x}<br>value=%{y}<extra></extra>",
         "legendgroup": "Wheat",
         "marker": {
          "color": "#19d3f3",
          "pattern": {
           "shape": ""
          }
         },
         "name": "Wheat",
         "offsetgroup": "Wheat",
         "orientation": "v",
         "showlegend": true,
         "textposition": "auto",
         "type": "bar",
         "x": [
          1985,
          1986,
          1987,
          1988,
          1989,
          1990,
          1991,
          1992,
          1993,
          1994,
          1995,
          2000,
          2001,
          2002,
          2003,
          2005,
          2006,
          2007,
          2008,
          2009,
          2010,
          2011,
          2012,
          2013,
          2014,
          2015,
          2016,
          2017
         ],
         "xaxis": "x2",
         "y": [
          5300,
          640,
          1071,
          2450,
          450,
          2100,
          3421,
          2400,
          2006,
          2932,
          2642,
          2688,
          3562,
          4000,
          2890,
          3603,
          1865,
          8392.5,
          8100,
          50,
          1698,
          1722.6,
          875,
          1756.656,
          808.626,
          964.6,
          1742,
          3778.56
         ],
         "yaxis": "y2"
        },
        {
         "alignmentgroup": "True",
         "hovertemplate": "product=Wheat<br>season_name=Main<br>type=percent<br>year=%{x}<br>value=%{y}<extra></extra>",
         "legendgroup": "Wheat",
         "marker": {
          "color": "#19d3f3",
          "pattern": {
           "shape": ""
          }
         },
         "name": "Wheat",
         "offsetgroup": "Wheat",
         "orientation": "v",
         "showlegend": false,
         "textposition": "auto",
         "type": "bar",
         "x": [
          1985,
          1986,
          1987,
          1988,
          1989,
          1990,
          1991,
          1992,
          1993,
          1994,
          1995,
          2000,
          2001,
          2002,
          2003,
          2005,
          2006,
          2007,
          2008,
          2009,
          2010,
          2011,
          2012,
          2013,
          2014,
          2015,
          2016,
          2017
         ],
         "xaxis": "x",
         "y": [
          0.7315904915321851,
          0.09016459264623218,
          0.17836889885933838,
          0.2960295787921993,
          0.06571885473942474,
          0.31675115878132254,
          0.3654399165929591,
          0.21199390870835644,
          0.262400242779088,
          0.22855655079166548,
          0.32466455220991863,
          0.2078317305238937,
          0.17457866111596052,
          0.229321545900112,
          0.12549514129710737,
          0.1330690222824942,
          0.07418579058207499,
          0.3655288772974241,
          0.3785540374050403,
          0.0023377404531684997,
          0.04695156132290666,
          0.06671955932741967,
          0.021439531757609324,
          0.04639339240825955,
          0.02270036824798527,
          0.029002120851564447,
          0.040432994014992556,
          0.09229349155965301
         ],
         "yaxis": "y"
        },
        {
         "alignmentgroup": "True",
         "hovertemplate": "product=Bambara groundnut<br>season_name=Main<br>type=orig_unit<br>year=%{x}<br>value=%{y}<extra></extra>",
         "legendgroup": "Bambara groundnut",
         "marker": {
          "color": "#FF6692",
          "pattern": {
           "shape": ""
          }
         },
         "name": "Bambara groundnut",
         "offsetgroup": "Bambara groundnut",
         "orientation": "v",
         "showlegend": true,
         "textposition": "auto",
         "type": "bar",
         "x": [
          1998,
          2000,
          2001,
          2003,
          2004,
          2005,
          2008,
          2009,
          2010,
          2011,
          2012,
          2013,
          2014,
          2015,
          2016,
          2017
         ],
         "xaxis": "x2",
         "y": [
          45994,
          22412,
          42526,
          46282,
          12158.5,
          658.288,
          61,
          5228.75,
          7754.099999999999,
          10282.41,
          24734.95,
          27987.5171,
          443.556,
          35269.331375,
          37550.51022835,
          36729.5841879
         ],
         "yaxis": "y2"
        },
        {
         "alignmentgroup": "True",
         "hovertemplate": "product=Bambara groundnut<br>season_name=Main<br>type=percent<br>year=%{x}<br>value=%{y}<extra></extra>",
         "legendgroup": "Bambara groundnut",
         "marker": {
          "color": "#FF6692",
          "pattern": {
           "shape": ""
          }
         },
         "name": "Bambara groundnut",
         "offsetgroup": "Bambara groundnut",
         "orientation": "v",
         "showlegend": false,
         "textposition": "auto",
         "type": "bar",
         "x": [
          1998,
          2000,
          2001,
          2003,
          2004,
          2005,
          2008,
          2009,
          2010,
          2011,
          2012,
          2013,
          2014,
          2015,
          2016,
          2017
         ],
         "xaxis": "x",
         "y": [
          3.897021169008065,
          1.732858907924667,
          2.0842594448673037,
          2.0097460655753365,
          0.8438072710936051,
          0.024312445334526377,
          0.0028508390471243777,
          0.24446920789009582,
          0.21440936493165522,
          0.3982572065620883,
          0.6060637097690044,
          0.7391520385056461,
          0.01245184366889434,
          1.0604244359233088,
          0.8715726494390311,
          0.8971411247235757
         ],
         "yaxis": "y"
        },
        {
         "alignmentgroup": "True",
         "hovertemplate": "product=Cassava<br>season_name=Main<br>type=orig_unit<br>year=%{x}<br>value=%{y}<extra></extra>",
         "legendgroup": "Cassava",
         "marker": {
          "color": "#B6E880",
          "pattern": {
           "shape": ""
          }
         },
         "name": "Cassava",
         "offsetgroup": "Cassava",
         "orientation": "v",
         "showlegend": true,
         "textposition": "auto",
         "type": "bar",
         "x": [
          2001,
          2002,
          2003,
          2004,
          2005,
          2006,
          2007,
          2008,
          2009,
          2010,
          2011,
          2012,
          2013,
          2014,
          2015,
          2016,
          2017
         ],
         "xaxis": "x2",
         "y": [
          305956,
          289557,
          349035,
          73568,
          744378,
          413442.416,
          249563.52,
          160017,
          191527,
          302466.891,
          305974.616,
          239265.974,
          223978.60924594,
          166887.717,
          140971.11291443,
          492533.56524808,
          298928.03695008
         ],
         "yaxis": "y2"
        },
        {
         "alignmentgroup": "True",
         "hovertemplate": "product=Cassava<br>season_name=Main<br>type=percent<br>year=%{x}<br>value=%{y}<extra></extra>",
         "legendgroup": "Cassava",
         "marker": {
          "color": "#B6E880",
          "pattern": {
           "shape": ""
          }
         },
         "name": "Cassava",
         "offsetgroup": "Cassava",
         "orientation": "v",
         "showlegend": false,
         "textposition": "auto",
         "type": "bar",
         "x": [
          2001,
          2002,
          2003,
          2004,
          2005,
          2006,
          2007,
          2008,
          2009,
          2010,
          2011,
          2012,
          2013,
          2014,
          2015,
          2016,
          2017
         ],
         "xaxis": "x",
         "y": [
          14.995336563839084,
          16.600414716549682,
          15.156469426517601,
          5.105663800618032,
          27.49199352445142,
          16.44587264939578,
          10.869547009829402,
          7.478405111536091,
          8.954808315480063,
          8.36354109595726,
          11.85097616678071,
          5.862571940672374,
          5.915288770142318,
          4.684999779830913,
          4.23850430574729,
          11.432035990733963,
          7.301488465234337
         ],
         "yaxis": "y"
        },
        {
         "alignmentgroup": "True",
         "hovertemplate": "product=Cowpeas<br>season_name=Main<br>type=orig_unit<br>year=%{x}<br>value=%{y}<extra></extra>",
         "legendgroup": "Cowpeas",
         "marker": {
          "color": "#FF97FF",
          "pattern": {
           "shape": ""
          }
         },
         "name": "Cowpeas",
         "offsetgroup": "Cowpeas",
         "orientation": "v",
         "showlegend": true,
         "textposition": "auto",
         "type": "bar",
         "x": [
          1991,
          1992,
          1994,
          1998,
          2000,
          2001,
          2002,
          2003,
          2004,
          2005,
          2006,
          2007,
          2008,
          2009,
          2010,
          2011,
          2012,
          2013,
          2014,
          2015,
          2016,
          2017
         ],
         "xaxis": "x2",
         "y": [
          11600,
          13617,
          23970,
          72142,
          71621,
          83349,
          29262,
          94837,
          46282,
          19719.5,
          13463.6,
          68383.65,
          52327.3,
          48510,
          91558.983,
          80350.753,
          124059.965,
          121123.92477854001,
          113922.075,
          138087.55514058,
          144070.16259837,
          143214.07747612
         ],
         "yaxis": "y2"
        },
        {
         "alignmentgroup": "True",
         "hovertemplate": "product=Cowpeas<br>season_name=Main<br>type=percent<br>year=%{x}<br>value=%{y}<extra></extra>",
         "legendgroup": "Cowpeas",
         "marker": {
          "color": "#FF97FF",
          "pattern": {
           "shape": ""
          }
         },
         "name": "Cowpeas",
         "offsetgroup": "Cowpeas",
         "orientation": "v",
         "showlegend": false,
         "textposition": "auto",
         "type": "bar",
         "x": [
          1991,
          1992,
          1994,
          1998,
          2000,
          2001,
          2002,
          2003,
          2004,
          2005,
          2006,
          2007,
          2008,
          2009,
          2010,
          2011,
          2012,
          2013,
          2014,
          2015,
          2016,
          2017
         ],
         "xaxis": "x",
         "y": [
          1.239141488593489,
          1.2028004395340373,
          1.8685199599168558,
          6.112512527168323,
          5.5376176978615295,
          4.085052449566028,
          1.6776017690322695,
          4.118194711139713,
          3.211998858473844,
          0.7282971370801121,
          0.535553785566126,
          2.978397236818587,
          2.4455198372228106,
          2.268075787664078,
          2.5317062455756587,
          3.112136788451378,
          3.0397572108176014,
          3.1988902621112607,
          3.1981077210905866,
          4.151805890819169,
          3.3439655695056816,
          3.498085845074784
         ],
         "yaxis": "y"
        },
        {
         "alignmentgroup": "True",
         "hovertemplate": "product=Groundnuts (In Shell)<br>season_name=Main<br>type=orig_unit<br>year=%{x}<br>value=%{y}<extra></extra>",
         "legendgroup": "Groundnuts (In Shell)",
         "marker": {
          "color": "#FECB52",
          "pattern": {
           "shape": ""
          }
         },
         "name": "Groundnuts (In Shell)",
         "offsetgroup": "Groundnuts (In Shell)",
         "orientation": "v",
         "showlegend": true,
         "textposition": "auto",
         "type": "bar",
         "x": [
          1983,
          1984,
          1985,
          1986,
          1987,
          1988,
          1989,
          1990,
          1991,
          1992,
          1993,
          1994,
          1998,
          2000,
          2001,
          2002,
          2003,
          2004,
          2005,
          2006,
          2007,
          2008,
          2009,
          2010,
          2011,
          2012,
          2013,
          2014,
          2015,
          2016,
          2017
         ],
         "xaxis": "x2",
         "y": [
          80406,
          92642,
          120007,
          96470,
          93810,
          93144,
          141741,
          108420,
          230417,
          223763,
          190000,
          207212,
          387277,
          358791,
          448089,
          379968,
          414868,
          342572,
          486254.544,
          420016.04,
          464327.843,
          548342.096,
          517449,
          823314.475,
          569928.507,
          1040800.249,
          965161.70728252,
          791087.594,
          720137.8443,
          871248.588861,
          909758.7359585799
         ],
         "yaxis": "y2"
        },
        {
         "alignmentgroup": "True",
         "hovertemplate": "product=Groundnuts (In Shell)<br>season_name=Main<br>type=percent<br>year=%{x}<br>value=%{y}<extra></extra>",
         "legendgroup": "Groundnuts (In Shell)",
         "marker": {
          "color": "#FECB52",
          "pattern": {
           "shape": ""
          }
         },
         "name": "Groundnuts (In Shell)",
         "offsetgroup": "Groundnuts (In Shell)",
         "orientation": "v",
         "showlegend": false,
         "textposition": "auto",
         "type": "bar",
         "x": [
          1983,
          1984,
          1985,
          1986,
          1987,
          1988,
          1989,
          1990,
          1991,
          1992,
          1993,
          1994,
          1998,
          2000,
          2001,
          2002,
          2003,
          2004,
          2005,
          2006,
          2007,
          2008,
          2009,
          2010,
          2011,
          2012,
          2013,
          2014,
          2015,
          2016,
          2017
         ],
         "xaxis": "x",
         "y": [
          19.605003291639235,
          23.156412893124365,
          16.56527926741565,
          13.590903519659403,
          15.623516715214317,
          11.254440443681883,
          20.700124865824005,
          16.35340982622428,
          24.613729687693617,
          19.765163747628318,
          24.85346267598541,
          16.152680764884924,
          32.81355540439919,
          27.74112887886843,
          21.961476047386196,
          21.783712288143438,
          18.015196636556517,
          23.774704484358967,
          17.958761240771594,
          16.70735763246779,
          20.223441781319586,
          25.626804237029905,
          24.193229195031737,
          22.76554773910436,
          22.074410098208645,
          25.50202284772936,
          25.489979724763234,
          22.20801668535598,
          21.652005795328325,
          20.222266922495706,
          22.22137804309414
         ],
         "yaxis": "y"
        },
        {
         "alignmentgroup": "True",
         "hovertemplate": "product=Sesame Seed<br>season_name=Main<br>type=orig_unit<br>year=%{x}<br>value=%{y}<extra></extra>",
         "legendgroup": "Sesame Seed",
         "marker": {
          "color": "#636efa",
          "pattern": {
           "shape": ""
          }
         },
         "name": "Sesame Seed",
         "offsetgroup": "Sesame Seed",
         "orientation": "v",
         "showlegend": true,
         "textposition": "auto",
         "type": "bar",
         "x": [
          1983,
          1984,
          1985,
          1986,
          1987,
          1988,
          1989,
          1990,
          1991,
          1992,
          1993,
          1994,
          1998,
          2000,
          2001,
          2002,
          2003,
          2004,
          2005,
          2006,
          2007,
          2008,
          2009,
          2010,
          2011,
          2012,
          2013,
          2014,
          2015,
          2016,
          2017
         ],
         "xaxis": "x2",
         "y": [
          7867,
          8902,
          11527,
          11148,
          10939,
          10734,
          1052,
          10133,
          13270,
          16325,
          11755,
          16563.3,
          26183,
          33014,
          43390,
          24694,
          21062,
          17548,
          25902.39,
          37114.51,
          40040.94,
          40517,
          57565.700000000004,
          126038.616,
          68877.79299999999,
          124624.581,
          125881.24978571,
          204847.976,
          152623.81220528,
          153610.54385454,
          174979.38487093
         ],
         "yaxis": "y2"
        },
        {
         "alignmentgroup": "True",
         "hovertemplate": "product=Sesame Seed<br>season_name=Main<br>type=percent<br>year=%{x}<br>value=%{y}<extra></extra>",
         "legendgroup": "Sesame Seed",
         "marker": {
          "color": "#636efa",
          "pattern": {
           "shape": ""
          }
         },
         "name": "Sesame Seed",
         "offsetgroup": "Sesame Seed",
         "orientation": "v",
         "showlegend": false,
         "textposition": "auto",
         "type": "bar",
         "x": [
          1983,
          1984,
          1985,
          1986,
          1987,
          1988,
          1989,
          1990,
          1991,
          1992,
          1993,
          1994,
          1998,
          2000,
          2001,
          2002,
          2003,
          2004,
          2005,
          2006,
          2007,
          2008,
          2009,
          2010,
          2011,
          2012,
          2013,
          2014,
          2015,
          2016,
          2017
         ],
         "xaxis": "x",
         "y": [
          1.9181722868358815,
          2.2251072685670983,
          1.5911403011116032,
          1.5705544981565567,
          1.8218276233634942,
          1.296972040308354,
          0.15363607819083297,
          1.5283997580624482,
          1.4175351339341034,
          1.4420002331932995,
          1.5376444934537288,
          1.2911496308757138,
          2.2184568697686258,
          2.552588077200828,
          2.126605307642203,
          1.4157165636143416,
          0.9145946941175346,
          1.217841838479301,
          0.9566488237801429,
          1.4763374082661276,
          1.7439523198252636,
          1.8935646831530886,
          2.691473312099238,
          3.48510589409793,
          2.667767326370156,
          3.053591613860864,
          3.3245315065388907,
          5.750649237168294,
          4.588859886381927,
          3.5654042481689823,
          4.273971666639793
         ],
         "yaxis": "y"
        },
        {
         "alignmentgroup": "True",
         "hovertemplate": "product=Sweet Potatoes<br>season_name=Main<br>type=orig_unit<br>year=%{x}<br>value=%{y}<extra></extra>",
         "legendgroup": "Sweet Potatoes",
         "marker": {
          "color": "#EF553B",
          "pattern": {
           "shape": ""
          }
         },
         "name": "Sweet Potatoes",
         "offsetgroup": "Sweet Potatoes",
         "orientation": "v",
         "showlegend": true,
         "textposition": "auto",
         "type": "bar",
         "x": [
          2003,
          2005,
          2006,
          2007,
          2008,
          2009,
          2010,
          2011,
          2012,
          2013,
          2014,
          2015,
          2016,
          2017
         ],
         "xaxis": "x2",
         "y": [
          4474,
          10575,
          1074,
          57657.520000000004,
          43342,
          28856,
          50152,
          84162.60800000001,
          37136.392,
          145942.1494,
          36611.278999999995,
          97128.075,
          170431.05026571002,
          210197.90660972
         ],
         "yaxis": "y2"
        },
        {
         "alignmentgroup": "True",
         "hovertemplate": "product=Sweet Potatoes<br>season_name=Main<br>type=percent<br>year=%{x}<br>value=%{y}<extra></extra>",
         "legendgroup": "Sweet Potatoes",
         "marker": {
          "color": "#EF553B",
          "pattern": {
           "shape": ""
          }
         },
         "name": "Sweet Potatoes",
         "offsetgroup": "Sweet Potatoes",
         "orientation": "v",
         "showlegend": false,
         "textposition": "auto",
         "type": "bar",
         "x": [
          2003,
          2005,
          2006,
          2007,
          2008,
          2009,
          2010,
          2011,
          2012,
          2013,
          2014,
          2015,
          2016,
          2017
         ],
         "xaxis": "x",
         "y": [
          0.194278637426733,
          0.39056478230290764,
          0.04272146867836383,
          2.5112289012039057,
          2.02559124558139,
          1.3491567703326044,
          1.3867577758930594,
          3.2597771494289827,
          0.9099278350251758,
          3.8543410924045687,
          1.027779857844949,
          2.920298744795579,
          3.9558195380954917,
          5.134204225827015
         ],
         "yaxis": "y"
        },
        {
         "alignmentgroup": "True",
         "hovertemplate": "product=Taro<br>season_name=Main<br>type=orig_unit<br>year=%{x}<br>value=%{y}<extra></extra>",
         "legendgroup": "Taro",
         "marker": {
          "color": "#00cc96",
          "pattern": {
           "shape": ""
          }
         },
         "name": "Taro",
         "offsetgroup": "Taro",
         "orientation": "v",
         "showlegend": true,
         "textposition": "auto",
         "type": "bar",
         "x": [
          2003,
          2005,
          2006,
          2007,
          2008,
          2009,
          2010,
          2011,
          2013,
          2014,
          2015,
          2016
         ],
         "xaxis": "x2",
         "y": [
          41600,
          640,
          49170,
          27929.999999999996,
          25500,
          28152,
          33901.08,
          11516.786,
          23554.095,
          4251.652,
          20273.727533330002,
          18973.71115
         ],
         "yaxis": "y2"
        },
        {
         "alignmentgroup": "True",
         "hovertemplate": "product=Taro<br>season_name=Main<br>type=percent<br>year=%{x}<br>value=%{y}<extra></extra>",
         "legendgroup": "Taro",
         "marker": {
          "color": "#00cc96",
          "pattern": {
           "shape": ""
          }
         },
         "name": "Taro",
         "offsetgroup": "Taro",
         "orientation": "v",
         "showlegend": false,
         "textposition": "auto",
         "type": "bar",
         "x": [
          2003,
          2005,
          2006,
          2007,
          2008,
          2009,
          2010,
          2011,
          2013,
          2014,
          2015,
          2016
         ],
         "xaxis": "x",
         "y": [
          1.8064352518891578,
          0.023637017557811904,
          1.955879529716154,
          1.2164696506305694,
          1.1917441918306826,
          1.3162413847519918,
          0.9374020238708862,
          0.44606692603517717,
          0.6220650896683382,
          0.11935563049207307,
          0.6095595024189574,
          0.4403926230597861
         ],
         "yaxis": "y"
        }
       ],
       "layout": {
        "annotations": [
         {
          "showarrow": false,
          "text": "",
          "textangle": 90,
          "x": 0.98,
          "xanchor": "left",
          "xref": "paper",
          "y": 0.2375,
          "yanchor": "middle",
          "yref": "paper"
         },
         {
          "showarrow": false,
          "text": "",
          "textangle": 90,
          "x": 0.98,
          "xanchor": "left",
          "xref": "paper",
          "y": 0.7625,
          "yanchor": "middle",
          "yref": "paper"
         },
         {
          "align": "left",
          "font": {
           "color": "dimgrey",
           "family": "arial",
           "size": 15
          },
          "showarrow": false,
          "text": "National grain production in Chad - Main",
          "x": 0,
          "xref": "paper",
          "y": -0.13,
          "yref": "paper"
         }
        ],
        "barmode": "relative",
        "font": {
         "color": "black",
         "family": "arial",
         "size": 15
        },
        "height": 600,
        "legend": {
         "title": {
          "text": "Product"
         },
         "tracegroupgap": 0,
         "x": 1,
         "y": 1.01
        },
        "margin": {
         "b": 0,
         "l": 0,
         "r": 0,
         "t": 0
        },
        "template": {
         "data": {
          "bar": [
           {
            "error_x": {
             "color": "#2a3f5f"
            },
            "error_y": {
             "color": "#2a3f5f"
            },
            "marker": {
             "line": {
              "color": "#E5ECF6",
              "width": 0.5
             },
             "pattern": {
              "fillmode": "overlay",
              "size": 10,
              "solidity": 0.2
             }
            },
            "type": "bar"
           }
          ],
          "barpolar": [
           {
            "marker": {
             "line": {
              "color": "#E5ECF6",
              "width": 0.5
             },
             "pattern": {
              "fillmode": "overlay",
              "size": 10,
              "solidity": 0.2
             }
            },
            "type": "barpolar"
           }
          ],
          "carpet": [
           {
            "aaxis": {
             "endlinecolor": "#2a3f5f",
             "gridcolor": "white",
             "linecolor": "white",
             "minorgridcolor": "white",
             "startlinecolor": "#2a3f5f"
            },
            "baxis": {
             "endlinecolor": "#2a3f5f",
             "gridcolor": "white",
             "linecolor": "white",
             "minorgridcolor": "white",
             "startlinecolor": "#2a3f5f"
            },
            "type": "carpet"
           }
          ],
          "choropleth": [
           {
            "colorbar": {
             "outlinewidth": 0,
             "ticks": ""
            },
            "type": "choropleth"
           }
          ],
          "contour": [
           {
            "colorbar": {
             "outlinewidth": 0,
             "ticks": ""
            },
            "colorscale": [
             [
              0,
              "#0d0887"
             ],
             [
              0.1111111111111111,
              "#46039f"
             ],
             [
              0.2222222222222222,
              "#7201a8"
             ],
             [
              0.3333333333333333,
              "#9c179e"
             ],
             [
              0.4444444444444444,
              "#bd3786"
             ],
             [
              0.5555555555555556,
              "#d8576b"
             ],
             [
              0.6666666666666666,
              "#ed7953"
             ],
             [
              0.7777777777777778,
              "#fb9f3a"
             ],
             [
              0.8888888888888888,
              "#fdca26"
             ],
             [
              1,
              "#f0f921"
             ]
            ],
            "type": "contour"
           }
          ],
          "contourcarpet": [
           {
            "colorbar": {
             "outlinewidth": 0,
             "ticks": ""
            },
            "type": "contourcarpet"
           }
          ],
          "heatmap": [
           {
            "colorbar": {
             "outlinewidth": 0,
             "ticks": ""
            },
            "colorscale": [
             [
              0,
              "#0d0887"
             ],
             [
              0.1111111111111111,
              "#46039f"
             ],
             [
              0.2222222222222222,
              "#7201a8"
             ],
             [
              0.3333333333333333,
              "#9c179e"
             ],
             [
              0.4444444444444444,
              "#bd3786"
             ],
             [
              0.5555555555555556,
              "#d8576b"
             ],
             [
              0.6666666666666666,
              "#ed7953"
             ],
             [
              0.7777777777777778,
              "#fb9f3a"
             ],
             [
              0.8888888888888888,
              "#fdca26"
             ],
             [
              1,
              "#f0f921"
             ]
            ],
            "type": "heatmap"
           }
          ],
          "heatmapgl": [
           {
            "colorbar": {
             "outlinewidth": 0,
             "ticks": ""
            },
            "colorscale": [
             [
              0,
              "#0d0887"
             ],
             [
              0.1111111111111111,
              "#46039f"
             ],
             [
              0.2222222222222222,
              "#7201a8"
             ],
             [
              0.3333333333333333,
              "#9c179e"
             ],
             [
              0.4444444444444444,
              "#bd3786"
             ],
             [
              0.5555555555555556,
              "#d8576b"
             ],
             [
              0.6666666666666666,
              "#ed7953"
             ],
             [
              0.7777777777777778,
              "#fb9f3a"
             ],
             [
              0.8888888888888888,
              "#fdca26"
             ],
             [
              1,
              "#f0f921"
             ]
            ],
            "type": "heatmapgl"
           }
          ],
          "histogram": [
           {
            "marker": {
             "pattern": {
              "fillmode": "overlay",
              "size": 10,
              "solidity": 0.2
             }
            },
            "type": "histogram"
           }
          ],
          "histogram2d": [
           {
            "colorbar": {
             "outlinewidth": 0,
             "ticks": ""
            },
            "colorscale": [
             [
              0,
              "#0d0887"
             ],
             [
              0.1111111111111111,
              "#46039f"
             ],
             [
              0.2222222222222222,
              "#7201a8"
             ],
             [
              0.3333333333333333,
              "#9c179e"
             ],
             [
              0.4444444444444444,
              "#bd3786"
             ],
             [
              0.5555555555555556,
              "#d8576b"
             ],
             [
              0.6666666666666666,
              "#ed7953"
             ],
             [
              0.7777777777777778,
              "#fb9f3a"
             ],
             [
              0.8888888888888888,
              "#fdca26"
             ],
             [
              1,
              "#f0f921"
             ]
            ],
            "type": "histogram2d"
           }
          ],
          "histogram2dcontour": [
           {
            "colorbar": {
             "outlinewidth": 0,
             "ticks": ""
            },
            "colorscale": [
             [
              0,
              "#0d0887"
             ],
             [
              0.1111111111111111,
              "#46039f"
             ],
             [
              0.2222222222222222,
              "#7201a8"
             ],
             [
              0.3333333333333333,
              "#9c179e"
             ],
             [
              0.4444444444444444,
              "#bd3786"
             ],
             [
              0.5555555555555556,
              "#d8576b"
             ],
             [
              0.6666666666666666,
              "#ed7953"
             ],
             [
              0.7777777777777778,
              "#fb9f3a"
             ],
             [
              0.8888888888888888,
              "#fdca26"
             ],
             [
              1,
              "#f0f921"
             ]
            ],
            "type": "histogram2dcontour"
           }
          ],
          "mesh3d": [
           {
            "colorbar": {
             "outlinewidth": 0,
             "ticks": ""
            },
            "type": "mesh3d"
           }
          ],
          "parcoords": [
           {
            "line": {
             "colorbar": {
              "outlinewidth": 0,
              "ticks": ""
             }
            },
            "type": "parcoords"
           }
          ],
          "pie": [
           {
            "automargin": true,
            "type": "pie"
           }
          ],
          "scatter": [
           {
            "fillpattern": {
             "fillmode": "overlay",
             "size": 10,
             "solidity": 0.2
            },
            "type": "scatter"
           }
          ],
          "scatter3d": [
           {
            "line": {
             "colorbar": {
              "outlinewidth": 0,
              "ticks": ""
             }
            },
            "marker": {
             "colorbar": {
              "outlinewidth": 0,
              "ticks": ""
             }
            },
            "type": "scatter3d"
           }
          ],
          "scattercarpet": [
           {
            "marker": {
             "colorbar": {
              "outlinewidth": 0,
              "ticks": ""
             }
            },
            "type": "scattercarpet"
           }
          ],
          "scattergeo": [
           {
            "marker": {
             "colorbar": {
              "outlinewidth": 0,
              "ticks": ""
             }
            },
            "type": "scattergeo"
           }
          ],
          "scattergl": [
           {
            "marker": {
             "colorbar": {
              "outlinewidth": 0,
              "ticks": ""
             }
            },
            "type": "scattergl"
           }
          ],
          "scattermapbox": [
           {
            "marker": {
             "colorbar": {
              "outlinewidth": 0,
              "ticks": ""
             }
            },
            "type": "scattermapbox"
           }
          ],
          "scatterpolar": [
           {
            "marker": {
             "colorbar": {
              "outlinewidth": 0,
              "ticks": ""
             }
            },
            "type": "scatterpolar"
           }
          ],
          "scatterpolargl": [
           {
            "marker": {
             "colorbar": {
              "outlinewidth": 0,
              "ticks": ""
             }
            },
            "type": "scatterpolargl"
           }
          ],
          "scatterternary": [
           {
            "marker": {
             "colorbar": {
              "outlinewidth": 0,
              "ticks": ""
             }
            },
            "type": "scatterternary"
           }
          ],
          "surface": [
           {
            "colorbar": {
             "outlinewidth": 0,
             "ticks": ""
            },
            "colorscale": [
             [
              0,
              "#0d0887"
             ],
             [
              0.1111111111111111,
              "#46039f"
             ],
             [
              0.2222222222222222,
              "#7201a8"
             ],
             [
              0.3333333333333333,
              "#9c179e"
             ],
             [
              0.4444444444444444,
              "#bd3786"
             ],
             [
              0.5555555555555556,
              "#d8576b"
             ],
             [
              0.6666666666666666,
              "#ed7953"
             ],
             [
              0.7777777777777778,
              "#fb9f3a"
             ],
             [
              0.8888888888888888,
              "#fdca26"
             ],
             [
              1,
              "#f0f921"
             ]
            ],
            "type": "surface"
           }
          ],
          "table": [
           {
            "cells": {
             "fill": {
              "color": "#EBF0F8"
             },
             "line": {
              "color": "white"
             }
            },
            "header": {
             "fill": {
              "color": "#C8D4E3"
             },
             "line": {
              "color": "white"
             }
            },
            "type": "table"
           }
          ]
         },
         "layout": {
          "annotationdefaults": {
           "arrowcolor": "#2a3f5f",
           "arrowhead": 0,
           "arrowwidth": 1
          },
          "autotypenumbers": "strict",
          "coloraxis": {
           "colorbar": {
            "outlinewidth": 0,
            "ticks": ""
           }
          },
          "colorscale": {
           "diverging": [
            [
             0,
             "#8e0152"
            ],
            [
             0.1,
             "#c51b7d"
            ],
            [
             0.2,
             "#de77ae"
            ],
            [
             0.3,
             "#f1b6da"
            ],
            [
             0.4,
             "#fde0ef"
            ],
            [
             0.5,
             "#f7f7f7"
            ],
            [
             0.6,
             "#e6f5d0"
            ],
            [
             0.7,
             "#b8e186"
            ],
            [
             0.8,
             "#7fbc41"
            ],
            [
             0.9,
             "#4d9221"
            ],
            [
             1,
             "#276419"
            ]
           ],
           "sequential": [
            [
             0,
             "#0d0887"
            ],
            [
             0.1111111111111111,
             "#46039f"
            ],
            [
             0.2222222222222222,
             "#7201a8"
            ],
            [
             0.3333333333333333,
             "#9c179e"
            ],
            [
             0.4444444444444444,
             "#bd3786"
            ],
            [
             0.5555555555555556,
             "#d8576b"
            ],
            [
             0.6666666666666666,
             "#ed7953"
            ],
            [
             0.7777777777777778,
             "#fb9f3a"
            ],
            [
             0.8888888888888888,
             "#fdca26"
            ],
            [
             1,
             "#f0f921"
            ]
           ],
           "sequentialminus": [
            [
             0,
             "#0d0887"
            ],
            [
             0.1111111111111111,
             "#46039f"
            ],
            [
             0.2222222222222222,
             "#7201a8"
            ],
            [
             0.3333333333333333,
             "#9c179e"
            ],
            [
             0.4444444444444444,
             "#bd3786"
            ],
            [
             0.5555555555555556,
             "#d8576b"
            ],
            [
             0.6666666666666666,
             "#ed7953"
            ],
            [
             0.7777777777777778,
             "#fb9f3a"
            ],
            [
             0.8888888888888888,
             "#fdca26"
            ],
            [
             1,
             "#f0f921"
            ]
           ]
          },
          "colorway": [
           "#636efa",
           "#EF553B",
           "#00cc96",
           "#ab63fa",
           "#FFA15A",
           "#19d3f3",
           "#FF6692",
           "#B6E880",
           "#FF97FF",
           "#FECB52"
          ],
          "font": {
           "color": "#2a3f5f"
          },
          "geo": {
           "bgcolor": "white",
           "lakecolor": "white",
           "landcolor": "#E5ECF6",
           "showlakes": true,
           "showland": true,
           "subunitcolor": "white"
          },
          "hoverlabel": {
           "align": "left"
          },
          "hovermode": "closest",
          "mapbox": {
           "style": "light"
          },
          "paper_bgcolor": "white",
          "plot_bgcolor": "#E5ECF6",
          "polar": {
           "angularaxis": {
            "gridcolor": "white",
            "linecolor": "white",
            "ticks": ""
           },
           "bgcolor": "#E5ECF6",
           "radialaxis": {
            "gridcolor": "white",
            "linecolor": "white",
            "ticks": ""
           }
          },
          "scene": {
           "xaxis": {
            "backgroundcolor": "#E5ECF6",
            "gridcolor": "white",
            "gridwidth": 2,
            "linecolor": "white",
            "showbackground": true,
            "ticks": "",
            "zerolinecolor": "white"
           },
           "yaxis": {
            "backgroundcolor": "#E5ECF6",
            "gridcolor": "white",
            "gridwidth": 2,
            "linecolor": "white",
            "showbackground": true,
            "ticks": "",
            "zerolinecolor": "white"
           },
           "zaxis": {
            "backgroundcolor": "#E5ECF6",
            "gridcolor": "white",
            "gridwidth": 2,
            "linecolor": "white",
            "showbackground": true,
            "ticks": "",
            "zerolinecolor": "white"
           }
          },
          "shapedefaults": {
           "line": {
            "color": "#2a3f5f"
           }
          },
          "ternary": {
           "aaxis": {
            "gridcolor": "white",
            "linecolor": "white",
            "ticks": ""
           },
           "baxis": {
            "gridcolor": "white",
            "linecolor": "white",
            "ticks": ""
           },
           "bgcolor": "#E5ECF6",
           "caxis": {
            "gridcolor": "white",
            "linecolor": "white",
            "ticks": ""
           }
          },
          "title": {
           "x": 0.05
          },
          "xaxis": {
           "automargin": true,
           "gridcolor": "white",
           "linecolor": "white",
           "ticks": "",
           "title": {
            "standoff": 15
           },
           "zerolinecolor": "white",
           "zerolinewidth": 2
          },
          "yaxis": {
           "automargin": true,
           "gridcolor": "white",
           "linecolor": "white",
           "ticks": "",
           "title": {
            "standoff": 15
           },
           "zerolinecolor": "white",
           "zerolinewidth": 2
          }
         }
        },
        "width": 900,
        "xaxis": {
         "anchor": "y",
         "domain": [
          0,
          0.98
         ],
         "dtick": 1,
         "range": [
          1982.5,
          2017.5
         ],
         "title": {
          "text": ""
         }
        },
        "xaxis2": {
         "anchor": "y2",
         "domain": [
          0,
          0.98
         ],
         "matches": "x",
         "showticklabels": false
        },
        "yaxis": {
         "anchor": "x",
         "domain": [
          0,
          0.475
         ],
         "range": [
          0,
          100
         ],
         "title": {
          "text": "Production (%)"
         }
        },
        "yaxis2": {
         "anchor": "x2",
         "domain": [
          0.525,
          1
         ],
         "title": {
          "text": "Production (t)"
         }
        }
       }
      }
     },
     "metadata": {},
     "output_type": "display_data"
    },
    {
     "name": "stdout",
     "output_type": "stream",
     "text": [
      "../figures/TD_bar_natgrainprod_Cold-off.png is saved.\n"
     ]
    },
    {
     "data": {
      "application/vnd.plotly.v1+json": {
       "config": {
        "plotlyServerURL": "https://plot.ly"
       },
       "data": [
        {
         "alignmentgroup": "True",
         "hovertemplate": "product=Sorghum<br>season_name=Cold-off<br>type=orig_unit<br>year=%{x}<br>value=%{y}<extra></extra>",
         "legendgroup": "Sorghum",
         "marker": {
          "color": "#636efa",
          "pattern": {
           "shape": ""
          }
         },
         "name": "Sorghum",
         "offsetgroup": "Sorghum",
         "orientation": "v",
         "showlegend": true,
         "textposition": "auto",
         "type": "bar",
         "x": [
          1983,
          1984,
          1985,
          1986,
          1987,
          1988,
          1989,
          1990,
          1991,
          1992,
          1993,
          1994,
          1995,
          2000,
          2001,
          2002,
          2003,
          2004,
          2005,
          2006,
          2007,
          2008,
          2009,
          2010,
          2011,
          2012,
          2013,
          2014,
          2015,
          2016,
          2017
         ],
         "xaxis": "x2",
         "y": [
          37939,
          18772,
          95277,
          42301,
          36241,
          84517,
          74899,
          56686,
          131049.99999999999,
          97808,
          75328,
          121761,
          97651,
          119284,
          205025,
          42125,
          287419,
          265463,
          323855,
          390832,
          583950,
          313200,
          238687.622,
          574956.6680000001,
          206424.24800000002,
          494555.321,
          469557.60533334,
          494445.097,
          383041.97186625,
          453715.81378841994,
          519636.41262371
         ],
         "yaxis": "y2"
        },
        {
         "alignmentgroup": "True",
         "hovertemplate": "product=Sorghum<br>season_name=Cold-off<br>type=percent<br>year=%{x}<br>value=%{y}<extra></extra>",
         "legendgroup": "Sorghum",
         "marker": {
          "color": "#636efa",
          "pattern": {
           "shape": ""
          }
         },
         "name": "Sorghum",
         "offsetgroup": "Sorghum",
         "orientation": "v",
         "showlegend": false,
         "textposition": "auto",
         "type": "bar",
         "x": [
          1983,
          1984,
          1985,
          1986,
          1987,
          1988,
          1989,
          1990,
          1991,
          1992,
          1993,
          1994,
          1995,
          2000,
          2001,
          2002,
          2003,
          2004,
          2005,
          2006,
          2007,
          2008,
          2009,
          2010,
          2011,
          2012,
          2013,
          2014,
          2015,
          2016,
          2017
         ],
         "xaxis": "x",
         "y": [
          100,
          100,
          100,
          100,
          100,
          100,
          100,
          100,
          100,
          100,
          100,
          100,
          100,
          100,
          100,
          100,
          100,
          100,
          100,
          100,
          100,
          100,
          100,
          100,
          100,
          100,
          100,
          100,
          100,
          100,
          100
         ],
         "yaxis": "y"
        }
       ],
       "layout": {
        "annotations": [
         {
          "showarrow": false,
          "text": "",
          "textangle": 90,
          "x": 0.98,
          "xanchor": "left",
          "xref": "paper",
          "y": 0.2375,
          "yanchor": "middle",
          "yref": "paper"
         },
         {
          "showarrow": false,
          "text": "",
          "textangle": 90,
          "x": 0.98,
          "xanchor": "left",
          "xref": "paper",
          "y": 0.7625,
          "yanchor": "middle",
          "yref": "paper"
         },
         {
          "align": "left",
          "font": {
           "color": "dimgrey",
           "family": "arial",
           "size": 15
          },
          "showarrow": false,
          "text": "National grain production in Chad - Cold-off",
          "x": 0,
          "xref": "paper",
          "y": -0.13,
          "yref": "paper"
         }
        ],
        "barmode": "relative",
        "font": {
         "color": "black",
         "family": "arial",
         "size": 15
        },
        "height": 600,
        "legend": {
         "title": {
          "text": "Product"
         },
         "tracegroupgap": 0,
         "x": 1,
         "y": 1.01
        },
        "margin": {
         "b": 0,
         "l": 0,
         "r": 0,
         "t": 0
        },
        "template": {
         "data": {
          "bar": [
           {
            "error_x": {
             "color": "#2a3f5f"
            },
            "error_y": {
             "color": "#2a3f5f"
            },
            "marker": {
             "line": {
              "color": "#E5ECF6",
              "width": 0.5
             },
             "pattern": {
              "fillmode": "overlay",
              "size": 10,
              "solidity": 0.2
             }
            },
            "type": "bar"
           }
          ],
          "barpolar": [
           {
            "marker": {
             "line": {
              "color": "#E5ECF6",
              "width": 0.5
             },
             "pattern": {
              "fillmode": "overlay",
              "size": 10,
              "solidity": 0.2
             }
            },
            "type": "barpolar"
           }
          ],
          "carpet": [
           {
            "aaxis": {
             "endlinecolor": "#2a3f5f",
             "gridcolor": "white",
             "linecolor": "white",
             "minorgridcolor": "white",
             "startlinecolor": "#2a3f5f"
            },
            "baxis": {
             "endlinecolor": "#2a3f5f",
             "gridcolor": "white",
             "linecolor": "white",
             "minorgridcolor": "white",
             "startlinecolor": "#2a3f5f"
            },
            "type": "carpet"
           }
          ],
          "choropleth": [
           {
            "colorbar": {
             "outlinewidth": 0,
             "ticks": ""
            },
            "type": "choropleth"
           }
          ],
          "contour": [
           {
            "colorbar": {
             "outlinewidth": 0,
             "ticks": ""
            },
            "colorscale": [
             [
              0,
              "#0d0887"
             ],
             [
              0.1111111111111111,
              "#46039f"
             ],
             [
              0.2222222222222222,
              "#7201a8"
             ],
             [
              0.3333333333333333,
              "#9c179e"
             ],
             [
              0.4444444444444444,
              "#bd3786"
             ],
             [
              0.5555555555555556,
              "#d8576b"
             ],
             [
              0.6666666666666666,
              "#ed7953"
             ],
             [
              0.7777777777777778,
              "#fb9f3a"
             ],
             [
              0.8888888888888888,
              "#fdca26"
             ],
             [
              1,
              "#f0f921"
             ]
            ],
            "type": "contour"
           }
          ],
          "contourcarpet": [
           {
            "colorbar": {
             "outlinewidth": 0,
             "ticks": ""
            },
            "type": "contourcarpet"
           }
          ],
          "heatmap": [
           {
            "colorbar": {
             "outlinewidth": 0,
             "ticks": ""
            },
            "colorscale": [
             [
              0,
              "#0d0887"
             ],
             [
              0.1111111111111111,
              "#46039f"
             ],
             [
              0.2222222222222222,
              "#7201a8"
             ],
             [
              0.3333333333333333,
              "#9c179e"
             ],
             [
              0.4444444444444444,
              "#bd3786"
             ],
             [
              0.5555555555555556,
              "#d8576b"
             ],
             [
              0.6666666666666666,
              "#ed7953"
             ],
             [
              0.7777777777777778,
              "#fb9f3a"
             ],
             [
              0.8888888888888888,
              "#fdca26"
             ],
             [
              1,
              "#f0f921"
             ]
            ],
            "type": "heatmap"
           }
          ],
          "heatmapgl": [
           {
            "colorbar": {
             "outlinewidth": 0,
             "ticks": ""
            },
            "colorscale": [
             [
              0,
              "#0d0887"
             ],
             [
              0.1111111111111111,
              "#46039f"
             ],
             [
              0.2222222222222222,
              "#7201a8"
             ],
             [
              0.3333333333333333,
              "#9c179e"
             ],
             [
              0.4444444444444444,
              "#bd3786"
             ],
             [
              0.5555555555555556,
              "#d8576b"
             ],
             [
              0.6666666666666666,
              "#ed7953"
             ],
             [
              0.7777777777777778,
              "#fb9f3a"
             ],
             [
              0.8888888888888888,
              "#fdca26"
             ],
             [
              1,
              "#f0f921"
             ]
            ],
            "type": "heatmapgl"
           }
          ],
          "histogram": [
           {
            "marker": {
             "pattern": {
              "fillmode": "overlay",
              "size": 10,
              "solidity": 0.2
             }
            },
            "type": "histogram"
           }
          ],
          "histogram2d": [
           {
            "colorbar": {
             "outlinewidth": 0,
             "ticks": ""
            },
            "colorscale": [
             [
              0,
              "#0d0887"
             ],
             [
              0.1111111111111111,
              "#46039f"
             ],
             [
              0.2222222222222222,
              "#7201a8"
             ],
             [
              0.3333333333333333,
              "#9c179e"
             ],
             [
              0.4444444444444444,
              "#bd3786"
             ],
             [
              0.5555555555555556,
              "#d8576b"
             ],
             [
              0.6666666666666666,
              "#ed7953"
             ],
             [
              0.7777777777777778,
              "#fb9f3a"
             ],
             [
              0.8888888888888888,
              "#fdca26"
             ],
             [
              1,
              "#f0f921"
             ]
            ],
            "type": "histogram2d"
           }
          ],
          "histogram2dcontour": [
           {
            "colorbar": {
             "outlinewidth": 0,
             "ticks": ""
            },
            "colorscale": [
             [
              0,
              "#0d0887"
             ],
             [
              0.1111111111111111,
              "#46039f"
             ],
             [
              0.2222222222222222,
              "#7201a8"
             ],
             [
              0.3333333333333333,
              "#9c179e"
             ],
             [
              0.4444444444444444,
              "#bd3786"
             ],
             [
              0.5555555555555556,
              "#d8576b"
             ],
             [
              0.6666666666666666,
              "#ed7953"
             ],
             [
              0.7777777777777778,
              "#fb9f3a"
             ],
             [
              0.8888888888888888,
              "#fdca26"
             ],
             [
              1,
              "#f0f921"
             ]
            ],
            "type": "histogram2dcontour"
           }
          ],
          "mesh3d": [
           {
            "colorbar": {
             "outlinewidth": 0,
             "ticks": ""
            },
            "type": "mesh3d"
           }
          ],
          "parcoords": [
           {
            "line": {
             "colorbar": {
              "outlinewidth": 0,
              "ticks": ""
             }
            },
            "type": "parcoords"
           }
          ],
          "pie": [
           {
            "automargin": true,
            "type": "pie"
           }
          ],
          "scatter": [
           {
            "fillpattern": {
             "fillmode": "overlay",
             "size": 10,
             "solidity": 0.2
            },
            "type": "scatter"
           }
          ],
          "scatter3d": [
           {
            "line": {
             "colorbar": {
              "outlinewidth": 0,
              "ticks": ""
             }
            },
            "marker": {
             "colorbar": {
              "outlinewidth": 0,
              "ticks": ""
             }
            },
            "type": "scatter3d"
           }
          ],
          "scattercarpet": [
           {
            "marker": {
             "colorbar": {
              "outlinewidth": 0,
              "ticks": ""
             }
            },
            "type": "scattercarpet"
           }
          ],
          "scattergeo": [
           {
            "marker": {
             "colorbar": {
              "outlinewidth": 0,
              "ticks": ""
             }
            },
            "type": "scattergeo"
           }
          ],
          "scattergl": [
           {
            "marker": {
             "colorbar": {
              "outlinewidth": 0,
              "ticks": ""
             }
            },
            "type": "scattergl"
           }
          ],
          "scattermapbox": [
           {
            "marker": {
             "colorbar": {
              "outlinewidth": 0,
              "ticks": ""
             }
            },
            "type": "scattermapbox"
           }
          ],
          "scatterpolar": [
           {
            "marker": {
             "colorbar": {
              "outlinewidth": 0,
              "ticks": ""
             }
            },
            "type": "scatterpolar"
           }
          ],
          "scatterpolargl": [
           {
            "marker": {
             "colorbar": {
              "outlinewidth": 0,
              "ticks": ""
             }
            },
            "type": "scatterpolargl"
           }
          ],
          "scatterternary": [
           {
            "marker": {
             "colorbar": {
              "outlinewidth": 0,
              "ticks": ""
             }
            },
            "type": "scatterternary"
           }
          ],
          "surface": [
           {
            "colorbar": {
             "outlinewidth": 0,
             "ticks": ""
            },
            "colorscale": [
             [
              0,
              "#0d0887"
             ],
             [
              0.1111111111111111,
              "#46039f"
             ],
             [
              0.2222222222222222,
              "#7201a8"
             ],
             [
              0.3333333333333333,
              "#9c179e"
             ],
             [
              0.4444444444444444,
              "#bd3786"
             ],
             [
              0.5555555555555556,
              "#d8576b"
             ],
             [
              0.6666666666666666,
              "#ed7953"
             ],
             [
              0.7777777777777778,
              "#fb9f3a"
             ],
             [
              0.8888888888888888,
              "#fdca26"
             ],
             [
              1,
              "#f0f921"
             ]
            ],
            "type": "surface"
           }
          ],
          "table": [
           {
            "cells": {
             "fill": {
              "color": "#EBF0F8"
             },
             "line": {
              "color": "white"
             }
            },
            "header": {
             "fill": {
              "color": "#C8D4E3"
             },
             "line": {
              "color": "white"
             }
            },
            "type": "table"
           }
          ]
         },
         "layout": {
          "annotationdefaults": {
           "arrowcolor": "#2a3f5f",
           "arrowhead": 0,
           "arrowwidth": 1
          },
          "autotypenumbers": "strict",
          "coloraxis": {
           "colorbar": {
            "outlinewidth": 0,
            "ticks": ""
           }
          },
          "colorscale": {
           "diverging": [
            [
             0,
             "#8e0152"
            ],
            [
             0.1,
             "#c51b7d"
            ],
            [
             0.2,
             "#de77ae"
            ],
            [
             0.3,
             "#f1b6da"
            ],
            [
             0.4,
             "#fde0ef"
            ],
            [
             0.5,
             "#f7f7f7"
            ],
            [
             0.6,
             "#e6f5d0"
            ],
            [
             0.7,
             "#b8e186"
            ],
            [
             0.8,
             "#7fbc41"
            ],
            [
             0.9,
             "#4d9221"
            ],
            [
             1,
             "#276419"
            ]
           ],
           "sequential": [
            [
             0,
             "#0d0887"
            ],
            [
             0.1111111111111111,
             "#46039f"
            ],
            [
             0.2222222222222222,
             "#7201a8"
            ],
            [
             0.3333333333333333,
             "#9c179e"
            ],
            [
             0.4444444444444444,
             "#bd3786"
            ],
            [
             0.5555555555555556,
             "#d8576b"
            ],
            [
             0.6666666666666666,
             "#ed7953"
            ],
            [
             0.7777777777777778,
             "#fb9f3a"
            ],
            [
             0.8888888888888888,
             "#fdca26"
            ],
            [
             1,
             "#f0f921"
            ]
           ],
           "sequentialminus": [
            [
             0,
             "#0d0887"
            ],
            [
             0.1111111111111111,
             "#46039f"
            ],
            [
             0.2222222222222222,
             "#7201a8"
            ],
            [
             0.3333333333333333,
             "#9c179e"
            ],
            [
             0.4444444444444444,
             "#bd3786"
            ],
            [
             0.5555555555555556,
             "#d8576b"
            ],
            [
             0.6666666666666666,
             "#ed7953"
            ],
            [
             0.7777777777777778,
             "#fb9f3a"
            ],
            [
             0.8888888888888888,
             "#fdca26"
            ],
            [
             1,
             "#f0f921"
            ]
           ]
          },
          "colorway": [
           "#636efa",
           "#EF553B",
           "#00cc96",
           "#ab63fa",
           "#FFA15A",
           "#19d3f3",
           "#FF6692",
           "#B6E880",
           "#FF97FF",
           "#FECB52"
          ],
          "font": {
           "color": "#2a3f5f"
          },
          "geo": {
           "bgcolor": "white",
           "lakecolor": "white",
           "landcolor": "#E5ECF6",
           "showlakes": true,
           "showland": true,
           "subunitcolor": "white"
          },
          "hoverlabel": {
           "align": "left"
          },
          "hovermode": "closest",
          "mapbox": {
           "style": "light"
          },
          "paper_bgcolor": "white",
          "plot_bgcolor": "#E5ECF6",
          "polar": {
           "angularaxis": {
            "gridcolor": "white",
            "linecolor": "white",
            "ticks": ""
           },
           "bgcolor": "#E5ECF6",
           "radialaxis": {
            "gridcolor": "white",
            "linecolor": "white",
            "ticks": ""
           }
          },
          "scene": {
           "xaxis": {
            "backgroundcolor": "#E5ECF6",
            "gridcolor": "white",
            "gridwidth": 2,
            "linecolor": "white",
            "showbackground": true,
            "ticks": "",
            "zerolinecolor": "white"
           },
           "yaxis": {
            "backgroundcolor": "#E5ECF6",
            "gridcolor": "white",
            "gridwidth": 2,
            "linecolor": "white",
            "showbackground": true,
            "ticks": "",
            "zerolinecolor": "white"
           },
           "zaxis": {
            "backgroundcolor": "#E5ECF6",
            "gridcolor": "white",
            "gridwidth": 2,
            "linecolor": "white",
            "showbackground": true,
            "ticks": "",
            "zerolinecolor": "white"
           }
          },
          "shapedefaults": {
           "line": {
            "color": "#2a3f5f"
           }
          },
          "ternary": {
           "aaxis": {
            "gridcolor": "white",
            "linecolor": "white",
            "ticks": ""
           },
           "baxis": {
            "gridcolor": "white",
            "linecolor": "white",
            "ticks": ""
           },
           "bgcolor": "#E5ECF6",
           "caxis": {
            "gridcolor": "white",
            "linecolor": "white",
            "ticks": ""
           }
          },
          "title": {
           "x": 0.05
          },
          "xaxis": {
           "automargin": true,
           "gridcolor": "white",
           "linecolor": "white",
           "ticks": "",
           "title": {
            "standoff": 15
           },
           "zerolinecolor": "white",
           "zerolinewidth": 2
          },
          "yaxis": {
           "automargin": true,
           "gridcolor": "white",
           "linecolor": "white",
           "ticks": "",
           "title": {
            "standoff": 15
           },
           "zerolinecolor": "white",
           "zerolinewidth": 2
          }
         }
        },
        "width": 900,
        "xaxis": {
         "anchor": "y",
         "domain": [
          0,
          0.98
         ],
         "dtick": 1,
         "range": [
          1982.5,
          2017.5
         ],
         "title": {
          "text": ""
         }
        },
        "xaxis2": {
         "anchor": "y2",
         "domain": [
          0,
          0.98
         ],
         "matches": "x",
         "showticklabels": false
        },
        "yaxis": {
         "anchor": "x",
         "domain": [
          0,
          0.475
         ],
         "range": [
          0,
          100
         ],
         "title": {
          "text": "Production (%)"
         }
        },
        "yaxis2": {
         "anchor": "x2",
         "domain": [
          0.525,
          1
         ],
         "title": {
          "text": "Production (t)"
         }
        }
       }
      }
     },
     "metadata": {},
     "output_type": "display_data"
    }
   ],
   "source": [
    "# Bar chart of national grain production\n",
    "country_iso, country_name = 'TD', 'Chad'\n",
    "df = pd.read_csv('../data/crop/adm_crop_production_%s.csv' % country_iso, index_col=0)\n",
    "df['year'] = df['harvest_year']\n",
    "year = [df['year'].min(), df['year'].max()]\n",
    "product_order = ['Sorghum','Millet','Maize','Rice','Fonio','Wheat']\n",
    "for season_name in ['Main','Cold-off']:\n",
    "    footnote = 'National grain production in %s - %s' % (country_name, season_name)\n",
    "    fn_save = '../figures/%s_bar_natgrainprod_%s.png' % (country_iso, season_name)\n",
    "    sub = df[df['season_name'] == season_name]\n",
    "    fig = PlotBarProduction(sub, year, product_order, footnote, fn_save)\n",
    "    fig.show()"
   ]
  },
  {
   "cell_type": "code",
   "execution_count": 8,
   "id": "1ad3d436",
   "metadata": {},
   "outputs": [
    {
     "name": "stdout",
     "output_type": "stream",
     "text": [
      "../figures/TD_line_pay_Sorghum_Main.png is saved.\n"
     ]
    },
    {
     "data": {
      "application/vnd.plotly.v1+json": {
       "config": {
        "plotlyServerURL": "https://plot.ly"
       },
       "data": [
        {
         "connectgaps": false,
         "hovertemplate": "fnid=TD2012A101<br>indicator=production<br>year=%{x}<br>value=%{y}<extra></extra>",
         "legendgroup": "TD2012A101",
         "line": {
          "color": "#636efa",
          "dash": "solid"
         },
         "marker": {
          "symbol": "circle"
         },
         "mode": "lines+markers",
         "name": "TD2012A101",
         "showlegend": true,
         "type": "scattergl",
         "x": [
          1983,
          1984,
          1985,
          1986,
          1987,
          1988,
          1989,
          1990,
          1991,
          1992,
          1993,
          1994,
          1995,
          1996,
          1997,
          1998,
          1999,
          2000,
          2001,
          2002,
          2003,
          2004,
          2005,
          2006,
          2007,
          2008,
          2009,
          2010,
          2011,
          2012,
          2013,
          2014,
          2015,
          2016,
          2017
         ],
         "xaxis": "x3",
         "y": [
          null,
          null,
          30,
          132,
          3850,
          3402,
          94,
          null,
          324,
          222,
          null,
          1000,
          80,
          null,
          null,
          null,
          null,
          170,
          null,
          null,
          null,
          null,
          4140,
          null,
          null,
          72,
          147.768,
          13,
          28.8,
          60,
          65.25,
          37.928,
          44.16,
          60.85422,
          52.5809133
         ],
         "yaxis": "y3"
        },
        {
         "connectgaps": false,
         "hovertemplate": "fnid=TD2012A101<br>indicator=area<br>year=%{x}<br>value=%{y}<extra></extra>",
         "legendgroup": "TD2012A101",
         "line": {
          "color": "#636efa",
          "dash": "solid"
         },
         "marker": {
          "symbol": "circle"
         },
         "mode": "lines+markers",
         "name": "TD2012A101",
         "showlegend": false,
         "type": "scattergl",
         "x": [
          1983,
          1984,
          1985,
          1986,
          1987,
          1988,
          1989,
          1990,
          1991,
          1992,
          1993,
          1994,
          1995,
          1996,
          1997,
          1998,
          1999,
          2000,
          2001,
          2002,
          2003,
          2004,
          2005,
          2006,
          2007,
          2008,
          2009,
          2010,
          2011,
          2012,
          2013,
          2014,
          2015,
          2016,
          2017
         ],
         "xaxis": "x2",
         "y": [
          null,
          null,
          50,
          147,
          1925,
          1491,
          118,
          null,
          460,
          237,
          null,
          1400,
          800,
          null,
          null,
          null,
          null,
          1354,
          null,
          null,
          null,
          null,
          6900,
          null,
          null,
          240,
          564,
          65,
          48,
          100,
          87,
          88,
          96,
          102,
          92.65
         ],
         "yaxis": "y2"
        },
        {
         "connectgaps": false,
         "hovertemplate": "fnid=TD2012A101<br>indicator=yield<br>year=%{x}<br>value=%{y}<extra></extra>",
         "legendgroup": "TD2012A101",
         "line": {
          "color": "#636efa",
          "dash": "solid"
         },
         "marker": {
          "symbol": "circle"
         },
         "mode": "lines+markers",
         "name": "TD2012A101",
         "showlegend": false,
         "type": "scattergl",
         "x": [
          1983,
          1984,
          1985,
          1986,
          1987,
          1988,
          1989,
          1990,
          1991,
          1992,
          1993,
          1994,
          1995,
          1996,
          1997,
          1998,
          1999,
          2000,
          2001,
          2002,
          2003,
          2004,
          2005,
          2006,
          2007,
          2008,
          2009,
          2010,
          2011,
          2012,
          2013,
          2014,
          2015,
          2016,
          2017
         ],
         "xaxis": "x",
         "y": [
          null,
          null,
          0.6,
          0.8979591836734694,
          2,
          2.2816901408450705,
          0.7966101694915254,
          null,
          0.7043478260869566,
          0.9367088607594936,
          null,
          0.7142857142857143,
          0.1,
          null,
          null,
          null,
          null,
          0.1255539143279173,
          null,
          null,
          null,
          null,
          0.6,
          null,
          null,
          0.3,
          0.262,
          0.2,
          0.6,
          0.6,
          0.75,
          0.431,
          0.4599999999999999,
          0.59661,
          0.567522
         ],
         "yaxis": "y"
        },
        {
         "connectgaps": false,
         "hovertemplate": "fnid=TD2012A102<br>indicator=production<br>year=%{x}<br>value=%{y}<extra></extra>",
         "legendgroup": "TD2012A102",
         "line": {
          "color": "#EF553B",
          "dash": "solid"
         },
         "marker": {
          "symbol": "circle"
         },
         "mode": "lines+markers",
         "name": "TD2012A102",
         "showlegend": true,
         "type": "scattergl",
         "x": [
          1983,
          1984,
          1985,
          1986,
          1987,
          1988,
          1989,
          1990,
          1991,
          1992,
          1993,
          1994,
          1995,
          1996,
          1997,
          1998,
          1999,
          2000,
          2001,
          2002,
          2003,
          2004,
          2005,
          2006,
          2007,
          2008,
          2009,
          2010,
          2011,
          2012,
          2013,
          2014,
          2015,
          2016,
          2017
         ],
         "xaxis": "x3",
         "y": [
          840,
          null,
          1550,
          990,
          835,
          2640,
          3716,
          1350,
          2100,
          6300,
          2100,
          18500,
          19517,
          null,
          null,
          null,
          null,
          17678,
          28196,
          30624,
          28545,
          23516,
          46871.24,
          26274.4,
          23796,
          15366.8,
          8810,
          47525.79,
          16342.301,
          8860.006,
          16446.21,
          55322.403,
          22528.638,
          30902.97029703,
          28680.21068182
         ],
         "yaxis": "y3"
        },
        {
         "connectgaps": false,
         "hovertemplate": "fnid=TD2012A102<br>indicator=area<br>year=%{x}<br>value=%{y}<extra></extra>",
         "legendgroup": "TD2012A102",
         "line": {
          "color": "#EF553B",
          "dash": "solid"
         },
         "marker": {
          "symbol": "circle"
         },
         "mode": "lines+markers",
         "name": "TD2012A102",
         "showlegend": false,
         "type": "scattergl",
         "x": [
          1983,
          1984,
          1985,
          1986,
          1987,
          1988,
          1989,
          1990,
          1991,
          1992,
          1993,
          1994,
          1995,
          1996,
          1997,
          1998,
          1999,
          2000,
          2001,
          2002,
          2003,
          2004,
          2005,
          2006,
          2007,
          2008,
          2009,
          2010,
          2011,
          2012,
          2013,
          2014,
          2015,
          2016,
          2017
         ],
         "xaxis": "x2",
         "y": [
          3200,
          null,
          4500,
          2450,
          2087,
          3773,
          6193,
          4500,
          10700,
          18000,
          21000,
          29000,
          42800,
          null,
          null,
          null,
          null,
          61382,
          77250,
          52800,
          62000,
          53690,
          101894,
          65686,
          59490,
          38417,
          55552,
          51103,
          45207,
          72623,
          39345,
          63809,
          54417,
          55080,
          51078.0895
         ],
         "yaxis": "y2"
        },
        {
         "connectgaps": false,
         "hovertemplate": "fnid=TD2012A102<br>indicator=yield<br>year=%{x}<br>value=%{y}<extra></extra>",
         "legendgroup": "TD2012A102",
         "line": {
          "color": "#EF553B",
          "dash": "solid"
         },
         "marker": {
          "symbol": "circle"
         },
         "mode": "lines+markers",
         "name": "TD2012A102",
         "showlegend": false,
         "type": "scattergl",
         "x": [
          1983,
          1984,
          1985,
          1986,
          1987,
          1988,
          1989,
          1990,
          1991,
          1992,
          1993,
          1994,
          1995,
          1996,
          1997,
          1998,
          1999,
          2000,
          2001,
          2002,
          2003,
          2004,
          2005,
          2006,
          2007,
          2008,
          2009,
          2010,
          2011,
          2012,
          2013,
          2014,
          2015,
          2016,
          2017
         ],
         "xaxis": "x",
         "y": [
          0.2625,
          null,
          0.3444444444444444,
          0.4040816326530612,
          0.4000958313368472,
          0.6997084548104956,
          0.6000322945260779,
          0.3,
          0.1962616822429906,
          0.35,
          0.1,
          0.6379310344827587,
          0.4560046728971962,
          null,
          null,
          null,
          null,
          0.2879997393372649,
          0.3649967637540453,
          0.58,
          0.4604032258064516,
          0.437995902402682,
          0.4599999999999999,
          0.4,
          0.4,
          0.3999999999999999,
          0.1585901497695852,
          0.93,
          0.3614993474461919,
          0.122,
          0.418,
          0.867,
          0.414,
          0.5610561056105664,
          0.5614973262032441
         ],
         "yaxis": "y"
        },
        {
         "connectgaps": false,
         "hovertemplate": "fnid=TD2012A104<br>indicator=production<br>year=%{x}<br>value=%{y}<extra></extra>",
         "legendgroup": "TD2012A104",
         "line": {
          "color": "#00cc96",
          "dash": "solid"
         },
         "marker": {
          "symbol": "circle"
         },
         "mode": "lines+markers",
         "name": "TD2012A104",
         "showlegend": true,
         "type": "scattergl",
         "x": [
          1983,
          1984,
          1985,
          1986,
          1987,
          1988,
          1989,
          1990,
          1991,
          1992,
          1993,
          1994,
          1995,
          1996,
          1997,
          1998,
          1999,
          2000,
          2001,
          2002,
          2003,
          2004,
          2005,
          2006,
          2007,
          2008,
          2009,
          2010,
          2011,
          2012,
          2013,
          2014,
          2015,
          2016,
          2017
         ],
         "xaxis": "x3",
         "y": [
          96.30189933857808,
          3921.913228788656,
          7718.854527137936,
          17452.697650360165,
          11855.425424681283,
          22119.296558766982,
          11803.966394500369,
          19304.487607870687,
          45239.83881905415,
          71160.48745018593,
          22844.133755315368,
          52836.661931763054,
          39276.47235008816,
          null,
          null,
          null,
          null,
          55718.36762189455,
          53903.33411451326,
          72817.46822201154,
          94797.82539929004,
          28945.704476767263,
          84398.8375545293,
          127864.28079746503,
          42395.051307432455,
          86385.45017111383,
          65640.40376977842,
          99330.714,
          108395.752,
          82771.146,
          98108.57,
          160660.007,
          129202.467,
          133562.387808,
          113890.84767123
         ],
         "yaxis": "y3"
        },
        {
         "connectgaps": false,
         "hovertemplate": "fnid=TD2012A104<br>indicator=area<br>year=%{x}<br>value=%{y}<extra></extra>",
         "legendgroup": "TD2012A104",
         "line": {
          "color": "#00cc96",
          "dash": "solid"
         },
         "marker": {
          "symbol": "circle"
         },
         "mode": "lines+markers",
         "name": "TD2012A104",
         "showlegend": false,
         "type": "scattergl",
         "x": [
          1983,
          1984,
          1985,
          1986,
          1987,
          1988,
          1989,
          1990,
          1991,
          1992,
          1993,
          1994,
          1995,
          1996,
          1997,
          1998,
          1999,
          2000,
          2001,
          2002,
          2003,
          2004,
          2005,
          2006,
          2007,
          2008,
          2009,
          2010,
          2011,
          2012,
          2013,
          2014,
          2015,
          2016,
          2017
         ],
         "xaxis": "x2",
         "y": [
          5555.369872531561,
          26502.13567217617,
          15511.221954534329,
          27440.895408476656,
          23901.249261031975,
          29891.080374091012,
          25780.97412064071,
          37124.01463052055,
          58075.191204180664,
          79173.39357835769,
          45798.53686101842,
          67567.91201455516,
          66345.39248325702,
          null,
          null,
          null,
          null,
          61703.78796093808,
          77115.0323711209,
          108986.55027817472,
          95199.20583470122,
          57891.40895353453,
          129844.3654685066,
          143667.73123310678,
          47634.889109474665,
          143975.75028518972,
          123953.04164179393,
          122178,
          125673,
          124281,
          121874,
          191871,
          162111,
          169495.416,
          161961.66
         ],
         "yaxis": "y2"
        },
        {
         "connectgaps": false,
         "hovertemplate": "fnid=TD2012A104<br>indicator=yield<br>year=%{x}<br>value=%{y}<extra></extra>",
         "legendgroup": "TD2012A104",
         "line": {
          "color": "#00cc96",
          "dash": "solid"
         },
         "marker": {
          "symbol": "circle"
         },
         "mode": "lines+markers",
         "name": "TD2012A104",
         "showlegend": false,
         "type": "scattergl",
         "x": [
          1983,
          1984,
          1985,
          1986,
          1987,
          1988,
          1989,
          1990,
          1991,
          1992,
          1993,
          1994,
          1995,
          1996,
          1997,
          1998,
          1999,
          2000,
          2001,
          2002,
          2003,
          2004,
          2005,
          2006,
          2007,
          2008,
          2009,
          2010,
          2011,
          2012,
          2013,
          2014,
          2015,
          2016,
          2017
         ],
         "xaxis": "x",
         "y": [
          0.0173349212650522,
          0.1479847993120856,
          0.4976303317535545,
          0.6360105015002143,
          0.4960169778242548,
          0.7399965568972725,
          0.4578557171371543,
          0.52,
          0.7789873417721519,
          0.8987929433611885,
          0.4987961476725521,
          0.7819786102074788,
          0.5920000000000001,
          null,
          null,
          null,
          null,
          0.902997521921464,
          0.6989990467111535,
          0.6681326093555023,
          0.9957837837837836,
          0.5,
          0.6499999999999999,
          0.89,
          0.8900000000000001,
          0.6,
          0.5295586368866168,
          0.8130000000000001,
          0.8625221964940758,
          0.6659999999999999,
          0.805,
          0.8373334532055392,
          0.797,
          0.788,
          0.7031963470319457
         ],
         "yaxis": "y"
        },
        {
         "connectgaps": false,
         "hovertemplate": "fnid=TD2012A107<br>indicator=production<br>year=%{x}<br>value=%{y}<extra></extra>",
         "legendgroup": "TD2012A107",
         "line": {
          "color": "#ab63fa",
          "dash": "solid"
         },
         "marker": {
          "symbol": "circle"
         },
         "mode": "lines+markers",
         "name": "TD2012A107",
         "showlegend": true,
         "type": "scattergl",
         "x": [
          1983,
          1984,
          1985,
          1986,
          1987,
          1988,
          1989,
          1990,
          1991,
          1992,
          1993,
          1994,
          1995,
          1996,
          1997,
          1998,
          1999,
          2000,
          2001,
          2002,
          2003,
          2004,
          2005,
          2006,
          2007,
          2008,
          2009,
          2010,
          2011,
          2012,
          2013,
          2014,
          2015,
          2016,
          2017
         ],
         "xaxis": "x3",
         "y": [
          829,
          4584,
          27480,
          31050,
          27225,
          25137,
          39888,
          23050,
          32200,
          33000,
          16730,
          33320,
          40509,
          null,
          null,
          null,
          null,
          21909,
          48747,
          34100,
          65016,
          38916,
          52464,
          39420.401,
          43627.55,
          44380,
          19370,
          101736.495,
          18548,
          257876.718,
          82374.822,
          52874.357,
          95368,
          111010.43528319,
          116507.05
         ],
         "yaxis": "y3"
        },
        {
         "connectgaps": false,
         "hovertemplate": "fnid=TD2012A107<br>indicator=area<br>year=%{x}<br>value=%{y}<extra></extra>",
         "legendgroup": "TD2012A107",
         "line": {
          "color": "#ab63fa",
          "dash": "solid"
         },
         "marker": {
          "symbol": "circle"
         },
         "mode": "lines+markers",
         "name": "TD2012A107",
         "showlegend": false,
         "type": "scattergl",
         "x": [
          1983,
          1984,
          1985,
          1986,
          1987,
          1988,
          1989,
          1990,
          1991,
          1992,
          1993,
          1994,
          1995,
          1996,
          1997,
          1998,
          1999,
          2000,
          2001,
          2002,
          2003,
          2004,
          2005,
          2006,
          2007,
          2008,
          2009,
          2010,
          2011,
          2012,
          2013,
          2014,
          2015,
          2016,
          2017
         ],
         "xaxis": "x2",
         "y": [
          1270,
          8650,
          64600,
          69000,
          60500,
          35910,
          56983,
          46100,
          48000,
          43400,
          32700,
          49000,
          50700,
          null,
          null,
          null,
          null,
          53832,
          73380,
          62000,
          71520,
          59870,
          69952,
          61307,
          67850,
          70000,
          63928,
          112665,
          37096,
          102454,
          111619,
          91165,
          91000,
          112476,
          105915.5
         ],
         "yaxis": "y2"
        },
        {
         "connectgaps": false,
         "hovertemplate": "fnid=TD2012A107<br>indicator=yield<br>year=%{x}<br>value=%{y}<extra></extra>",
         "legendgroup": "TD2012A107",
         "line": {
          "color": "#ab63fa",
          "dash": "solid"
         },
         "marker": {
          "symbol": "circle"
         },
         "mode": "lines+markers",
         "name": "TD2012A107",
         "showlegend": false,
         "type": "scattergl",
         "x": [
          1983,
          1984,
          1985,
          1986,
          1987,
          1988,
          1989,
          1990,
          1991,
          1992,
          1993,
          1994,
          1995,
          1996,
          1997,
          1998,
          1999,
          2000,
          2001,
          2002,
          2003,
          2004,
          2005,
          2006,
          2007,
          2008,
          2009,
          2010,
          2011,
          2012,
          2013,
          2014,
          2015,
          2016,
          2017
         ],
         "xaxis": "x",
         "y": [
          0.6527559055118111,
          0.5299421965317919,
          0.4253869969040247,
          0.45,
          0.45,
          0.7,
          0.699998245090641,
          0.5,
          0.6708333333333333,
          0.7603686635944701,
          0.5116207951070336,
          0.68,
          0.7989940828402367,
          null,
          null,
          null,
          null,
          0.4069884083816317,
          0.6643090760425184,
          0.55,
          0.9090604026845638,
          0.6500083514280942,
          0.75,
          0.643,
          0.643,
          0.634,
          0.3029971217619822,
          0.903,
          0.5,
          2.517,
          0.738,
          0.5799852684692591,
          1.048,
          0.9869699783348448,
          1.1
         ],
         "yaxis": "y"
        },
        {
         "connectgaps": false,
         "hovertemplate": "fnid=TD2012A108<br>indicator=production<br>year=%{x}<br>value=%{y}<extra></extra>",
         "legendgroup": "TD2012A108",
         "line": {
          "color": "#FFA15A",
          "dash": "solid"
         },
         "marker": {
          "symbol": "circle"
         },
         "mode": "lines+markers",
         "name": "TD2012A108",
         "showlegend": true,
         "type": "scattergl",
         "x": [
          1983,
          1984,
          1985,
          1986,
          1987,
          1988,
          1989,
          1990,
          1991,
          1992,
          1993,
          1994,
          1995,
          1996,
          1997,
          1998,
          1999,
          2000,
          2001,
          2002,
          2003,
          2004,
          2005,
          2006,
          2007,
          2008,
          2009,
          2010,
          2011,
          2012,
          2013,
          2014,
          2015,
          2016,
          2017
         ],
         "xaxis": "x3",
         "y": [
          34.69810066142195,
          1413.086771211344,
          2781.1454728620643,
          6288.302349639835,
          4271.574575318715,
          7969.703441233014,
          4253.033605499635,
          6955.512392129315,
          16300.16118094585,
          25639.512549814077,
          8230.866244684632,
          19037.338068236953,
          14151.527649911844,
          null,
          null,
          null,
          null,
          20075.632378105456,
          19421.66588548675,
          26236.531777988468,
          34156.174600709965,
          10429.29552323274,
          30409.362445470702,
          46070.199202534975,
          15275.16869256755,
          31125.14982888618,
          23650.596230221578,
          80741.44,
          63081.9,
          34413.316,
          30694.18,
          42361.5,
          55699.315,
          54846.21495483,
          45345.63079818
         ],
         "yaxis": "y3"
        },
        {
         "connectgaps": false,
         "hovertemplate": "fnid=TD2012A108<br>indicator=area<br>year=%{x}<br>value=%{y}<extra></extra>",
         "legendgroup": "TD2012A108",
         "line": {
          "color": "#FFA15A",
          "dash": "solid"
         },
         "marker": {
          "symbol": "circle"
         },
         "mode": "lines+markers",
         "name": "TD2012A108",
         "showlegend": false,
         "type": "scattergl",
         "x": [
          1983,
          1984,
          1985,
          1986,
          1987,
          1988,
          1989,
          1990,
          1991,
          1992,
          1993,
          1994,
          1995,
          1996,
          1997,
          1998,
          1999,
          2000,
          2001,
          2002,
          2003,
          2004,
          2005,
          2006,
          2007,
          2008,
          2009,
          2010,
          2011,
          2012,
          2013,
          2014,
          2015,
          2016,
          2017
         ],
         "xaxis": "x2",
         "y": [
          2001.63012746844,
          9548.864327823836,
          5588.778045465672,
          9887.104591523346,
          8611.750738968029,
          10769.91962590899,
          9289.025879359297,
          13375.985369479453,
          20924.80879581934,
          28526.606421642315,
          16501.46313898158,
          24345.087985444847,
          23904.60751674298,
          null,
          null,
          null,
          null,
          22232.212039061924,
          27784.967628879094,
          39268.449721825265,
          34300.794165298794,
          20858.59104646548,
          46783.6345314934,
          51764.268766893234,
          17163.110890525335,
          51875.2497148103,
          44660.9583582061,
          95552,
          76842,
          89852,
          54230,
          84723,
          89405,
          90280,
          84615.454
         ],
         "yaxis": "y2"
        },
        {
         "connectgaps": false,
         "hovertemplate": "fnid=TD2012A108<br>indicator=yield<br>year=%{x}<br>value=%{y}<extra></extra>",
         "legendgroup": "TD2012A108",
         "line": {
          "color": "#FFA15A",
          "dash": "solid"
         },
         "marker": {
          "symbol": "circle"
         },
         "mode": "lines+markers",
         "name": "TD2012A108",
         "showlegend": false,
         "type": "scattergl",
         "x": [
          1983,
          1984,
          1985,
          1986,
          1987,
          1988,
          1989,
          1990,
          1991,
          1992,
          1993,
          1994,
          1995,
          1996,
          1997,
          1998,
          1999,
          2000,
          2001,
          2002,
          2003,
          2004,
          2005,
          2006,
          2007,
          2008,
          2009,
          2010,
          2011,
          2012,
          2013,
          2014,
          2015,
          2016,
          2017
         ],
         "xaxis": "x",
         "y": [
          0.0173349212650522,
          0.1479847993120856,
          0.4976303317535545,
          0.6360105015002143,
          0.4960169778242548,
          0.7399965568972726,
          0.4578557171371543,
          0.52,
          0.7789873417721519,
          0.8987929433611885,
          0.4987961476725521,
          0.7819786102074789,
          0.592,
          null,
          null,
          null,
          null,
          0.902997521921464,
          0.6989990467111535,
          0.6681326093555024,
          0.9957837837837836,
          0.5,
          0.6499999999999999,
          0.8899999999999999,
          0.8900000000000001,
          0.6,
          0.5295586368866168,
          0.845,
          0.8209299601780277,
          0.383,
          0.5660000000000001,
          0.5,
          0.623,
          0.607512349964887,
          0.5359024699930109
         ],
         "yaxis": "y"
        },
        {
         "connectgaps": false,
         "hovertemplate": "fnid=TD2012A110<br>indicator=production<br>year=%{x}<br>value=%{y}<extra></extra>",
         "legendgroup": "TD2012A110",
         "line": {
          "color": "#19d3f3",
          "dash": "solid"
         },
         "marker": {
          "symbol": "circle"
         },
         "mode": "lines+markers",
         "name": "TD2012A110",
         "showlegend": true,
         "type": "scattergl",
         "x": [
          1983,
          1984,
          1985,
          1986,
          1987,
          1988,
          1989,
          1990,
          1991,
          1992,
          1993,
          1994,
          1995,
          1996,
          1997,
          1998,
          1999,
          2000,
          2001,
          2002,
          2003,
          2004,
          2005,
          2006,
          2007,
          2008,
          2009,
          2010,
          2011,
          2012,
          2013,
          2014,
          2015,
          2016,
          2017
         ],
         "xaxis": "x3",
         "y": [
          null,
          null,
          null,
          null,
          null,
          null,
          null,
          null,
          null,
          null,
          120,
          null,
          null,
          null,
          null,
          null,
          null,
          81,
          null,
          null,
          505,
          null,
          1332,
          2055.6,
          3186,
          1243.2,
          82,
          133,
          116,
          691.6,
          82.705,
          94,
          117.6,
          315.34167,
          340.308
         ],
         "yaxis": "y3"
        },
        {
         "connectgaps": false,
         "hovertemplate": "fnid=TD2012A110<br>indicator=area<br>year=%{x}<br>value=%{y}<extra></extra>",
         "legendgroup": "TD2012A110",
         "line": {
          "color": "#19d3f3",
          "dash": "solid"
         },
         "marker": {
          "symbol": "circle"
         },
         "mode": "lines+markers",
         "name": "TD2012A110",
         "showlegend": false,
         "type": "scattergl",
         "x": [
          1983,
          1984,
          1985,
          1986,
          1987,
          1988,
          1989,
          1990,
          1991,
          1992,
          1993,
          1994,
          1995,
          1996,
          1997,
          1998,
          1999,
          2000,
          2001,
          2002,
          2003,
          2004,
          2005,
          2006,
          2007,
          2008,
          2009,
          2010,
          2011,
          2012,
          2013,
          2014,
          2015,
          2016,
          2017
         ],
         "xaxis": "x2",
         "y": [
          null,
          null,
          null,
          null,
          null,
          null,
          null,
          null,
          null,
          null,
          300,
          null,
          null,
          null,
          null,
          null,
          null,
          271,
          null,
          null,
          560,
          null,
          1332,
          2055.6,
          3186,
          1554,
          102,
          133,
          166,
          364,
          97.3,
          235,
          147,
          323,
          310.5
         ],
         "yaxis": "y2"
        },
        {
         "connectgaps": false,
         "hovertemplate": "fnid=TD2012A110<br>indicator=yield<br>year=%{x}<br>value=%{y}<extra></extra>",
         "legendgroup": "TD2012A110",
         "line": {
          "color": "#19d3f3",
          "dash": "solid"
         },
         "marker": {
          "symbol": "circle"
         },
         "mode": "lines+markers",
         "name": "TD2012A110",
         "showlegend": false,
         "type": "scattergl",
         "x": [
          1983,
          1984,
          1985,
          1986,
          1987,
          1988,
          1989,
          1990,
          1991,
          1992,
          1993,
          1994,
          1995,
          1996,
          1997,
          1998,
          1999,
          2000,
          2001,
          2002,
          2003,
          2004,
          2005,
          2006,
          2007,
          2008,
          2009,
          2010,
          2011,
          2012,
          2013,
          2014,
          2015,
          2016,
          2017
         ],
         "xaxis": "x",
         "y": [
          null,
          null,
          null,
          null,
          null,
          null,
          null,
          null,
          null,
          null,
          0.4,
          null,
          null,
          null,
          null,
          null,
          null,
          0.2988929889298893,
          null,
          null,
          0.9017857142857144,
          null,
          1,
          1,
          1,
          0.8,
          0.803921568627451,
          1,
          0.6987951807228916,
          1.9,
          0.85,
          0.4,
          0.7999999999999999,
          0.97629,
          1.096
         ],
         "yaxis": "y"
        },
        {
         "connectgaps": false,
         "hovertemplate": "fnid=TD2012A111<br>indicator=production<br>year=%{x}<br>value=%{y}<extra></extra>",
         "legendgroup": "TD2012A111",
         "line": {
          "color": "#FF6692",
          "dash": "solid"
         },
         "marker": {
          "symbol": "circle"
         },
         "mode": "lines+markers",
         "name": "TD2012A111",
         "showlegend": true,
         "type": "scattergl",
         "x": [
          1983,
          1984,
          1985,
          1986,
          1987,
          1988,
          1989,
          1990,
          1991,
          1992,
          1993,
          1994,
          1995,
          1996,
          1997,
          1998,
          1999,
          2000,
          2001,
          2002,
          2003,
          2004,
          2005,
          2006,
          2007,
          2008,
          2009,
          2010,
          2011,
          2012,
          2013,
          2014,
          2015,
          2016,
          2017
         ],
         "xaxis": "x3",
         "y": [
          20468,
          20602,
          26217,
          17347,
          12514,
          17051,
          19085,
          19450,
          13790,
          28908,
          11470,
          17839,
          22277,
          null,
          null,
          null,
          null,
          24260,
          32034,
          18876,
          19378,
          15635,
          47880,
          37232,
          18238.176,
          12751.2,
          30537,
          48381,
          36255.04,
          18801.64,
          48416.4,
          54904.304,
          35062.68,
          51289.72255319,
          43675.35447019
         ],
         "yaxis": "y3"
        },
        {
         "connectgaps": false,
         "hovertemplate": "fnid=TD2012A111<br>indicator=area<br>year=%{x}<br>value=%{y}<extra></extra>",
         "legendgroup": "TD2012A111",
         "line": {
          "color": "#FF6692",
          "dash": "solid"
         },
         "marker": {
          "symbol": "circle"
         },
         "mode": "lines+markers",
         "name": "TD2012A111",
         "showlegend": false,
         "type": "scattergl",
         "x": [
          1983,
          1984,
          1985,
          1986,
          1987,
          1988,
          1989,
          1990,
          1991,
          1992,
          1993,
          1994,
          1995,
          1996,
          1997,
          1998,
          1999,
          2000,
          2001,
          2002,
          2003,
          2004,
          2005,
          2006,
          2007,
          2008,
          2009,
          2010,
          2011,
          2012,
          2013,
          2014,
          2015,
          2016,
          2017
         ],
         "xaxis": "x2",
         "y": [
          37644,
          44187,
          49094,
          40345,
          31284,
          36048,
          36561,
          38900,
          39400,
          39600,
          38230,
          37714,
          47000,
          null,
          null,
          null,
          null,
          41050,
          58351,
          27200,
          26000,
          26410,
          59850,
          44750,
          42218,
          25300,
          46357,
          54916,
          45922,
          49478,
          80694,
          52402,
          47382,
          62516,
          60860.079
         ],
         "yaxis": "y2"
        },
        {
         "connectgaps": false,
         "hovertemplate": "fnid=TD2012A111<br>indicator=yield<br>year=%{x}<br>value=%{y}<extra></extra>",
         "legendgroup": "TD2012A111",
         "line": {
          "color": "#FF6692",
          "dash": "solid"
         },
         "marker": {
          "symbol": "circle"
         },
         "mode": "lines+markers",
         "name": "TD2012A111",
         "showlegend": false,
         "type": "scattergl",
         "x": [
          1983,
          1984,
          1985,
          1986,
          1987,
          1988,
          1989,
          1990,
          1991,
          1992,
          1993,
          1994,
          1995,
          1996,
          1997,
          1998,
          1999,
          2000,
          2001,
          2002,
          2003,
          2004,
          2005,
          2006,
          2007,
          2008,
          2009,
          2010,
          2011,
          2012,
          2013,
          2014,
          2015,
          2016,
          2017
         ],
         "xaxis": "x",
         "y": [
          0.5437254276909999,
          0.4662457283816507,
          0.5340163767466493,
          0.4299665386045359,
          0.4000127860887355,
          0.473008211273857,
          0.5220043215448155,
          0.5,
          0.35,
          0.73,
          0.3000261574679571,
          0.4730073712679641,
          0.4739787234042553,
          null,
          null,
          null,
          null,
          0.5909866017052375,
          0.5489880207708523,
          0.6939705882352941,
          0.7453076923076923,
          0.59201060204468,
          0.8,
          0.832,
          0.432,
          0.504,
          0.6587354660569061,
          0.881000072838517,
          0.7894917468751361,
          0.38,
          0.6,
          1.047752070531659,
          0.74,
          0.8204255319148698,
          0.7176355204893836
         ],
         "yaxis": "y"
        },
        {
         "connectgaps": false,
         "hovertemplate": "fnid=TD2012A112<br>indicator=production<br>year=%{x}<br>value=%{y}<extra></extra>",
         "legendgroup": "TD2012A112",
         "line": {
          "color": "#B6E880",
          "dash": "solid"
         },
         "marker": {
          "symbol": "circle"
         },
         "mode": "lines+markers",
         "name": "TD2012A112",
         "showlegend": true,
         "type": "scattergl",
         "x": [
          1983,
          1984,
          1985,
          1986,
          1987,
          1988,
          1989,
          1990,
          1991,
          1992,
          1993,
          1994,
          1995,
          1996,
          1997,
          1998,
          1999,
          2000,
          2001,
          2002,
          2003,
          2004,
          2005,
          2006,
          2007,
          2008,
          2009,
          2010,
          2011,
          2012,
          2013,
          2014,
          2015,
          2016,
          2017
         ],
         "xaxis": "x3",
         "y": [
          45264,
          45264,
          58066,
          57355,
          48334,
          47505,
          32409,
          52500,
          27885,
          60040,
          48087,
          32172,
          42413,
          null,
          null,
          null,
          null,
          57516,
          61339,
          21445,
          62269,
          63370,
          39777.04,
          76731.192,
          67167.84,
          48691.2,
          62037,
          65027,
          57583.046,
          92598.809,
          57848.51,
          73577.103,
          76338.912,
          79321.5890645,
          81900.14857353
         ],
         "yaxis": "y3"
        },
        {
         "connectgaps": false,
         "hovertemplate": "fnid=TD2012A112<br>indicator=area<br>year=%{x}<br>value=%{y}<extra></extra>",
         "legendgroup": "TD2012A112",
         "line": {
          "color": "#B6E880",
          "dash": "solid"
         },
         "marker": {
          "symbol": "circle"
         },
         "mode": "lines+markers",
         "name": "TD2012A112",
         "showlegend": false,
         "type": "scattergl",
         "x": [
          1983,
          1984,
          1985,
          1986,
          1987,
          1988,
          1989,
          1990,
          1991,
          1992,
          1993,
          1994,
          1995,
          1996,
          1997,
          1998,
          1999,
          2000,
          2001,
          2002,
          2003,
          2004,
          2005,
          2006,
          2007,
          2008,
          2009,
          2010,
          2011,
          2012,
          2013,
          2014,
          2015,
          2016,
          2017
         ],
         "xaxis": "x2",
         "y": [
          60698,
          69698,
          70807,
          74706,
          69049,
          76374,
          70917,
          70000,
          71500,
          76000,
          73980,
          51724,
          71887,
          null,
          null,
          null,
          null,
          75283,
          91532,
          33300,
          77698,
          91050,
          53392,
          76808,
          81912,
          63400,
          80299,
          85337,
          67836,
          46933,
          69697,
          72198,
          61169,
          69288,
          65890.03512
         ],
         "yaxis": "y2"
        },
        {
         "connectgaps": false,
         "hovertemplate": "fnid=TD2012A112<br>indicator=yield<br>year=%{x}<br>value=%{y}<extra></extra>",
         "legendgroup": "TD2012A112",
         "line": {
          "color": "#B6E880",
          "dash": "solid"
         },
         "marker": {
          "symbol": "circle"
         },
         "mode": "lines+markers",
         "name": "TD2012A112",
         "showlegend": false,
         "type": "scattergl",
         "x": [
          1983,
          1984,
          1985,
          1986,
          1987,
          1988,
          1989,
          1990,
          1991,
          1992,
          1993,
          1994,
          1995,
          1996,
          1997,
          1998,
          1999,
          2000,
          2001,
          2002,
          2003,
          2004,
          2005,
          2006,
          2007,
          2008,
          2009,
          2010,
          2011,
          2012,
          2013,
          2014,
          2015,
          2016,
          2017
         ],
         "xaxis": "x",
         "y": [
          0.7457247355761311,
          0.6494303997245258,
          0.8200601635431525,
          0.7677428854442749,
          0.6999956552593086,
          0.6220048707675387,
          0.4569990270316003,
          0.75,
          0.39,
          0.79,
          0.65,
          0.6219936586497564,
          0.5899954094620724,
          null,
          null,
          null,
          null,
          0.763997183959194,
          0.6701372197701351,
          0.643993993993994,
          0.8014234600633221,
          0.6959912136188907,
          0.745,
          0.999,
          0.82,
          0.7679999999999999,
          0.7725750009340091,
          0.7620024139587752,
          0.8488567427324725,
          1.973,
          0.8300000000000001,
          1.019101678716862,
          1.248,
          1.144809910294712,
          1.2429823178022612
         ],
         "yaxis": "y"
        },
        {
         "connectgaps": false,
         "hovertemplate": "fnid=TD2012A113<br>indicator=production<br>year=%{x}<br>value=%{y}<extra></extra>",
         "legendgroup": "TD2012A113",
         "line": {
          "color": "#FF97FF",
          "dash": "solid"
         },
         "marker": {
          "symbol": "circle"
         },
         "mode": "lines+markers",
         "name": "TD2012A113",
         "showlegend": true,
         "type": "scattergl",
         "x": [
          1983,
          1984,
          1985,
          1986,
          1987,
          1988,
          1989,
          1990,
          1991,
          1992,
          1993,
          1994,
          1995,
          1996,
          1997,
          1998,
          1999,
          2000,
          2001,
          2002,
          2003,
          2004,
          2005,
          2006,
          2007,
          2008,
          2009,
          2010,
          2011,
          2012,
          2013,
          2014,
          2015,
          2016,
          2017
         ],
         "xaxis": "x3",
         "y": [
          18263.820398820793,
          16655.953739336404,
          31188.24288638922,
          27294.095537581103,
          29967.097632678415,
          22882.11755476079,
          26704.61218581059,
          35748.60805775866,
          30940.253338403007,
          27289.52195985185,
          21960.79572996774,
          37920.54930385105,
          38423.13467876573,
          null,
          null,
          null,
          null,
          30811.684986680644,
          26149.176579357863,
          26505.407466936424,
          26170.519942094383,
          23905.582615507177,
          21912.586155298977,
          44584.490897766584,
          36762.03563991525,
          41073.77706052002,
          53432.60043557071,
          27202.032,
          67320,
          43124.832,
          21125.08138,
          61407.676,
          48175.668,
          60080.11015912,
          46675.75522983
         ],
         "yaxis": "y3"
        },
        {
         "connectgaps": false,
         "hovertemplate": "fnid=TD2012A113<br>indicator=area<br>year=%{x}<br>value=%{y}<extra></extra>",
         "legendgroup": "TD2012A113",
         "line": {
          "color": "#FF97FF",
          "dash": "solid"
         },
         "marker": {
          "symbol": "circle"
         },
         "mode": "lines+markers",
         "name": "TD2012A113",
         "showlegend": false,
         "type": "scattergl",
         "x": [
          1983,
          1984,
          1985,
          1986,
          1987,
          1988,
          1989,
          1990,
          1991,
          1992,
          1993,
          1994,
          1995,
          1996,
          1997,
          1998,
          1999,
          2000,
          2001,
          2002,
          2003,
          2004,
          2005,
          2006,
          2007,
          2008,
          2009,
          2010,
          2011,
          2012,
          2013,
          2014,
          2015,
          2016,
          2017
         ],
         "xaxis": "x2",
         "y": [
          32861.15598468967,
          33375.42939157911,
          35807.556392935716,
          34221.54127149109,
          25732.472830692503,
          26301.629170332995,
          45415.626851491776,
          45481.68964091433,
          45837.41235318964,
          42178.550169786475,
          43921.59145993548,
          43587.21211039669,
          49835.22746386085,
          null,
          null,
          null,
          null,
          47631.27117366369,
          40757.69202189825,
          35673.90628818085,
          41748.6338632366,
          30687.69021268754,
          35004.131238496775,
          73089.32934060096,
          66477.4604700095,
          57931.9845705501,
          72715.82049271188,
          51519,
          94428,
          99826,
          34405.67,
          84074,
          78462,
          85366,
          75424.72275
         ],
         "yaxis": "y2"
        },
        {
         "connectgaps": false,
         "hovertemplate": "fnid=TD2012A113<br>indicator=yield<br>year=%{x}<br>value=%{y}<extra></extra>",
         "legendgroup": "TD2012A113",
         "line": {
          "color": "#FF97FF",
          "dash": "solid"
         },
         "marker": {
          "symbol": "circle"
         },
         "mode": "lines+markers",
         "name": "TD2012A113",
         "showlegend": false,
         "type": "scattergl",
         "x": [
          1983,
          1984,
          1985,
          1986,
          1987,
          1988,
          1989,
          1990,
          1991,
          1992,
          1993,
          1994,
          1995,
          1996,
          1997,
          1998,
          1999,
          2000,
          2001,
          2002,
          2003,
          2004,
          2005,
          2006,
          2007,
          2008,
          2009,
          2010,
          2011,
          2012,
          2013,
          2014,
          2015,
          2016,
          2017
         ],
         "xaxis": "x",
         "y": [
          0.5557875202969148,
          0.4990483730986494,
          0.8709961256262152,
          0.7975706097235009,
          1.1645634615004838,
          0.8699886005757675,
          0.5880049233523553,
          0.7859999999999999,
          0.6749999999999999,
          0.647,
          0.5,
          0.869992538357506,
          0.7710034976087777,
          null,
          null,
          null,
          null,
          0.646879334257975,
          0.641576479976061,
          0.7429914529914531,
          0.6268593129975413,
          0.7789958269854937,
          0.6259999999999999,
          0.61,
          0.553,
          0.709,
          0.7348139658401589,
          0.528,
          0.7129241326725124,
          0.432,
          0.614,
          0.7304003140090872,
          0.614,
          0.7037943696450577,
          0.6188389367308612
         ],
         "yaxis": "y"
        },
        {
         "connectgaps": false,
         "hovertemplate": "fnid=TD2012A114<br>indicator=production<br>year=%{x}<br>value=%{y}<extra></extra>",
         "legendgroup": "TD2012A114",
         "line": {
          "color": "#FECB52",
          "dash": "solid"
         },
         "marker": {
          "symbol": "circle"
         },
         "mode": "lines+markers",
         "name": "TD2012A114",
         "showlegend": true,
         "type": "scattergl",
         "x": [
          1983,
          1984,
          1985,
          1986,
          1987,
          1988,
          1989,
          1990,
          1991,
          1992,
          1993,
          1994,
          1995,
          1996,
          1997,
          1998,
          1999,
          2000,
          2001,
          2002,
          2003,
          2004,
          2005,
          2006,
          2007,
          2008,
          2009,
          2010,
          2011,
          2012,
          2013,
          2014,
          2015,
          2016,
          2017
         ],
         "xaxis": "x3",
         "y": [
          30779.515440710016,
          31215.90793009053,
          39114.72274739287,
          35219.31060233891,
          29557.837989474723,
          30303.803323479227,
          23979.988810489293,
          27911.39779794139,
          31981.80997680785,
          34913.06054316705,
          32936.0031991462,
          51337.589033074706,
          52321.13352690693,
          null,
          null,
          null,
          null,
          51552.46249231283,
          60847.4009970876,
          54416.1497544786,
          48645.02522169393,
          53741.62430769502,
          58891.65378376645,
          91549.03699237046,
          71969.8715005371,
          44905.78399289035,
          69560.29825016324,
          46716.628,
          53407.928,
          48414.306,
          75810.30979478,
          65220.975,
          41097.924,
          65791.57280865,
          68196.374064
         ],
         "yaxis": "y3"
        },
        {
         "connectgaps": false,
         "hovertemplate": "fnid=TD2012A114<br>indicator=area<br>year=%{x}<br>value=%{y}<extra></extra>",
         "legendgroup": "TD2012A114",
         "line": {
          "color": "#FECB52",
          "dash": "solid"
         },
         "marker": {
          "symbol": "circle"
         },
         "mode": "lines+markers",
         "name": "TD2012A114",
         "showlegend": false,
         "type": "scattergl",
         "x": [
          1983,
          1984,
          1985,
          1986,
          1987,
          1988,
          1989,
          1990,
          1991,
          1992,
          1993,
          1994,
          1995,
          1996,
          1997,
          1998,
          1999,
          2000,
          2001,
          2002,
          2003,
          2004,
          2005,
          2006,
          2007,
          2008,
          2009,
          2010,
          2011,
          2012,
          2013,
          2014,
          2015,
          2016,
          2017
         ],
         "xaxis": "x2",
         "y": [
          56117.969703547526,
          54133.712991047054,
          56387.66912274589,
          53705.073667721525,
          48825.563231259985,
          30425.638790057543,
          34553.64591676102,
          40925.640818806925,
          44857.60360383439,
          46242.097542224335,
          49454.12347928902,
          51544.15552868249,
          58787.82781433871,
          null,
          null,
          null,
          null,
          60437.036993748814,
          75546.29624218601,
          64018.99971115129,
          56884.97934541556,
          67177.30728340645,
          68879.12723247538,
          98865.05074770028,
          95959.8286673828,
          59477.85959323226,
          90569.71686644304,
          70642,
          57015,
          50802,
          78772,
          71570,
          64316,
          68344.155,
          71037.88965
         ],
         "yaxis": "y2"
        },
        {
         "connectgaps": false,
         "hovertemplate": "fnid=TD2012A114<br>indicator=yield<br>year=%{x}<br>value=%{y}<extra></extra>",
         "legendgroup": "TD2012A114",
         "line": {
          "color": "#FECB52",
          "dash": "solid"
         },
         "marker": {
          "symbol": "circle"
         },
         "mode": "lines+markers",
         "name": "TD2012A114",
         "showlegend": false,
         "type": "scattergl",
         "x": [
          1983,
          1984,
          1985,
          1986,
          1987,
          1988,
          1989,
          1990,
          1991,
          1992,
          1993,
          1994,
          1995,
          1996,
          1997,
          1998,
          1999,
          2000,
          2001,
          2002,
          2003,
          2004,
          2005,
          2006,
          2007,
          2008,
          2009,
          2010,
          2011,
          2012,
          2013,
          2014,
          2015,
          2016,
          2017
         ],
         "xaxis": "x",
         "y": [
          0.5484787778907168,
          0.5766445012787723,
          0.6936751129444118,
          0.6557911235769676,
          0.6053762831055407,
          0.9959956315981068,
          0.693993012148604,
          0.6820027063599459,
          0.7129629629629629,
          0.755005988023952,
          0.6659910414333707,
          0.9959924361260932,
          0.8899994347834279,
          null,
          null,
          null,
          null,
          0.8529945387237474,
          0.805431953964007,
          0.8500000000000001,
          0.8551471017737885,
          0.7999967024723214,
          0.8549999999999999,
          0.926,
          0.7500000000000001,
          0.755,
          0.7680304262487542,
          0.6613151949265309,
          0.9367346838551258,
          0.953,
          0.9624017391304016,
          0.9112892971915608,
          0.639,
          0.9626510534609728,
          0.96
         ],
         "yaxis": "y"
        },
        {
         "connectgaps": false,
         "hovertemplate": "fnid=TD2012A115<br>indicator=production<br>year=%{x}<br>value=%{y}<extra></extra>",
         "legendgroup": "TD2012A115",
         "line": {
          "color": "#636efa",
          "dash": "solid"
         },
         "marker": {
          "symbol": "circle"
         },
         "mode": "lines+markers",
         "name": "TD2012A115",
         "showlegend": true,
         "type": "scattergl",
         "x": [
          1983,
          1984,
          1985,
          1986,
          1987,
          1988,
          1989,
          1990,
          1991,
          1992,
          1993,
          1994,
          1995,
          1996,
          1997,
          1998,
          1999,
          2000,
          2001,
          2002,
          2003,
          2004,
          2005,
          2006,
          2007,
          2008,
          2009,
          2010,
          2011,
          2012,
          2013,
          2014,
          2015,
          2016,
          2017
         ],
         "xaxis": "x3",
         "y": [
          24799.484559289984,
          25151.09206990947,
          31515.277252607128,
          28376.68939766109,
          23815.162010525277,
          24416.196676520773,
          19321.011189510707,
          22488.60220205861,
          25768.19002319215,
          28129.939456832948,
          26536.9968008538,
          41363.410966925294,
          42155.86647309307,
          null,
          null,
          null,
          null,
          41536.53750768717,
          49025.5990029124,
          43843.8502455214,
          39193.97477830607,
          43300.37569230498,
          47449.82621623355,
          73762.33500762955,
          57987.1284994629,
          36181.21600710965,
          56045.70174983677,
          30315.208,
          57055.37,
          53000.88,
          39782.638,
          65062.268,
          41763.975,
          52084.43199062,
          56006.685
         ],
         "yaxis": "y3"
        },
        {
         "connectgaps": false,
         "hovertemplate": "fnid=TD2012A115<br>indicator=area<br>year=%{x}<br>value=%{y}<extra></extra>",
         "legendgroup": "TD2012A115",
         "line": {
          "color": "#636efa",
          "dash": "solid"
         },
         "marker": {
          "symbol": "circle"
         },
         "mode": "lines+markers",
         "name": "TD2012A115",
         "showlegend": false,
         "type": "scattergl",
         "x": [
          1983,
          1984,
          1985,
          1986,
          1987,
          1988,
          1989,
          1990,
          1991,
          1992,
          1993,
          1994,
          1995,
          1996,
          1997,
          1998,
          1999,
          2000,
          2001,
          2002,
          2003,
          2004,
          2005,
          2006,
          2007,
          2008,
          2009,
          2010,
          2011,
          2012,
          2013,
          2014,
          2015,
          2016,
          2017
         ],
         "xaxis": "x2",
         "y": [
          45215.030296452474,
          43616.287008952946,
          45432.33087725411,
          43270.926332278475,
          39339.436768740015,
          24514.361209942457,
          27840.35408323898,
          32974.359181193075,
          36142.39639616561,
          37257.902457775665,
          39845.87652071098,
          41529.84447131751,
          47366.17218566129,
          null,
          null,
          null,
          null,
          48694.963006251186,
          60868.70375781398,
          51581.00028884871,
          45833.02065458444,
          54125.69271659355,
          55496.87276752463,
          79656.94925229973,
          77316.1713326172,
          47922.14040676774,
          72973.28313355695,
          95032,
          62759,
          69738,
          48163,
          66304,
          55025,
          60981.78,
          64375.5
         ],
         "yaxis": "y2"
        },
        {
         "connectgaps": false,
         "hovertemplate": "fnid=TD2012A115<br>indicator=yield<br>year=%{x}<br>value=%{y}<extra></extra>",
         "legendgroup": "TD2012A115",
         "line": {
          "color": "#636efa",
          "dash": "solid"
         },
         "marker": {
          "symbol": "circle"
         },
         "mode": "lines+markers",
         "name": "TD2012A115",
         "showlegend": false,
         "type": "scattergl",
         "x": [
          1983,
          1984,
          1985,
          1986,
          1987,
          1988,
          1989,
          1990,
          1991,
          1992,
          1993,
          1994,
          1995,
          1996,
          1997,
          1998,
          1999,
          2000,
          2001,
          2002,
          2003,
          2004,
          2005,
          2006,
          2007,
          2008,
          2009,
          2010,
          2011,
          2012,
          2013,
          2014,
          2015,
          2016,
          2017
         ],
         "xaxis": "x",
         "y": [
          0.5484787778907168,
          0.5766445012787724,
          0.6936751129444116,
          0.6557911235769676,
          0.6053762831055408,
          0.9959956315981072,
          0.693993012148604,
          0.6820027063599459,
          0.712962962962963,
          0.755005988023952,
          0.6659910414333706,
          0.9959924361260932,
          0.8899994347834278,
          null,
          null,
          null,
          null,
          0.8529945387237473,
          0.8054319539640069,
          0.8499999999999999,
          0.8551471017737884,
          0.7999967024723214,
          0.855,
          0.926,
          0.75,
          0.755,
          0.7680304262487542,
          0.319,
          0.9091185328000764,
          0.76,
          0.826,
          0.9812721404440152,
          0.759,
          0.8540982567353725,
          0.87
         ],
         "yaxis": "y"
        },
        {
         "connectgaps": false,
         "hovertemplate": "fnid=TD2012A116<br>indicator=production<br>year=%{x}<br>value=%{y}<extra></extra>",
         "legendgroup": "TD2012A116",
         "line": {
          "color": "#EF553B",
          "dash": "solid"
         },
         "marker": {
          "symbol": "circle"
         },
         "mode": "lines+markers",
         "name": "TD2012A116",
         "showlegend": true,
         "type": "scattergl",
         "x": [
          1983,
          1984,
          1985,
          1986,
          1987,
          1988,
          1989,
          1990,
          1991,
          1992,
          1993,
          1994,
          1995,
          1996,
          1997,
          1998,
          1999,
          2000,
          2001,
          2002,
          2003,
          2004,
          2005,
          2006,
          2007,
          2008,
          2009,
          2010,
          2011,
          2012,
          2013,
          2014,
          2015,
          2016,
          2017
         ],
         "xaxis": "x3",
         "y": [
          17676.179601179207,
          16120.046260663596,
          30184.75711361078,
          26415.904462418897,
          29002.902367321585,
          22145.88244523921,
          25845.38781418941,
          34598.39194224134,
          29944.746661596993,
          26411.47804014815,
          21254.20427003226,
          36700.45069614895,
          37186.86532123427,
          null,
          null,
          null,
          null,
          29820.315013319356,
          25307.823420642137,
          25652.592533063576,
          25328.480057905617,
          23136.417384492823,
          21207.54584470102,
          43149.97910223342,
          35579.212360084755,
          39752.22293947998,
          51713.39956442929,
          78061.34,
          34679,
          41352.717,
          50088.528,
          42029.853,
          45272.717,
          48924.6556575,
          43508.09265943
         ],
         "yaxis": "y3"
        },
        {
         "connectgaps": false,
         "hovertemplate": "fnid=TD2012A116<br>indicator=area<br>year=%{x}<br>value=%{y}<extra></extra>",
         "legendgroup": "TD2012A116",
         "line": {
          "color": "#EF553B",
          "dash": "solid"
         },
         "marker": {
          "symbol": "circle"
         },
         "mode": "lines+markers",
         "name": "TD2012A116",
         "showlegend": false,
         "type": "scattergl",
         "x": [
          1983,
          1984,
          1985,
          1986,
          1987,
          1988,
          1989,
          1990,
          1991,
          1992,
          1993,
          1994,
          1995,
          1996,
          1997,
          1998,
          1999,
          2000,
          2001,
          2002,
          2003,
          2004,
          2005,
          2006,
          2007,
          2008,
          2009,
          2010,
          2011,
          2012,
          2013,
          2014,
          2015,
          2016,
          2017
         ],
         "xaxis": "x2",
         "y": [
          31803.844015310333,
          32301.570608420887,
          34655.443607064284,
          33120.45872850891,
          24904.527169307497,
          25455.370829667005,
          43954.373148508224,
          44018.31035908567,
          44362.58764681036,
          40821.449830213525,
          42508.40854006452,
          42184.78788960331,
          48231.77253613915,
          null,
          null,
          null,
          null,
          46098.72882633631,
          39446.30797810175,
          34526.09371181915,
          40405.3661367634,
          29700.30978731246,
          33877.868761503225,
          70737.67065939904,
          64338.53952999051,
          56068.0154294499,
          70376.17950728812,
          90769,
          46939,
          53221,
          52836,
          49954,
          54349,
          57453.65,
          51174.9
         ],
         "yaxis": "y2"
        },
        {
         "connectgaps": false,
         "hovertemplate": "fnid=TD2012A116<br>indicator=yield<br>year=%{x}<br>value=%{y}<extra></extra>",
         "legendgroup": "TD2012A116",
         "line": {
          "color": "#EF553B",
          "dash": "solid"
         },
         "marker": {
          "symbol": "circle"
         },
         "mode": "lines+markers",
         "name": "TD2012A116",
         "showlegend": false,
         "type": "scattergl",
         "x": [
          1983,
          1984,
          1985,
          1986,
          1987,
          1988,
          1989,
          1990,
          1991,
          1992,
          1993,
          1994,
          1995,
          1996,
          1997,
          1998,
          1999,
          2000,
          2001,
          2002,
          2003,
          2004,
          2005,
          2006,
          2007,
          2008,
          2009,
          2010,
          2011,
          2012,
          2013,
          2014,
          2015,
          2016,
          2017
         ],
         "xaxis": "x",
         "y": [
          0.5557875202969149,
          0.4990483730986494,
          0.8709961256262152,
          0.7975706097235009,
          1.1645634615004838,
          0.8699886005757675,
          0.5880049233523553,
          0.786,
          0.675,
          0.647,
          0.5,
          0.8699925383575059,
          0.7710034976087776,
          null,
          null,
          null,
          null,
          0.6468793342579751,
          0.641576479976061,
          0.7429914529914529,
          0.6268593129975412,
          0.7789958269854939,
          0.626,
          0.6100000000000001,
          0.553,
          0.709,
          0.7348139658401587,
          0.86,
          0.738809944822003,
          0.7769999999999999,
          0.948,
          0.8413711214317172,
          0.833,
          0.8515499999999999,
          0.8501842242863201
         ],
         "yaxis": "y"
        },
        {
         "connectgaps": false,
         "hovertemplate": "fnid=TD2012A118<br>indicator=production<br>year=%{x}<br>value=%{y}<extra></extra>",
         "legendgroup": "TD2012A118",
         "line": {
          "color": "#00cc96",
          "dash": "solid"
         },
         "marker": {
          "symbol": "circle"
         },
         "mode": "lines+markers",
         "name": "TD2012A118",
         "showlegend": true,
         "type": "scattergl",
         "x": [
          1983,
          1984,
          1985,
          1986,
          1987,
          1988,
          1989,
          1990,
          1991,
          1992,
          1993,
          1994,
          1995,
          1996,
          1997,
          1998,
          1999,
          2000,
          2001,
          2002,
          2003,
          2004,
          2005,
          2006,
          2007,
          2008,
          2009,
          2010,
          2011,
          2012,
          2013,
          2014,
          2015,
          2016,
          2017
         ],
         "xaxis": "x3",
         "y": [
          2803.4148590260465,
          3701.041738999986,
          2002.969071016228,
          3219.587321559419,
          2916.1745993202935,
          4253.341914322794,
          4939.915201443357,
          690.6534093022624,
          2040.061090849862,
          2544.512560587282,
          3234.424129492872,
          18150.238065192058,
          9643.925156744805,
          null,
          null,
          null,
          null,
          4891.695575659633,
          9552.678787954062,
          18419.526129184236,
          16023.752568129825,
          19381.693123668698,
          13272.11816879153,
          17926.648853315703,
          17578.99499534021,
          18492.226488058157,
          12092.74030616131,
          64494.105,
          31082.64,
          null,
          87591.971,
          85970.7,
          54284.399,
          74170.3347,
          69853.82544
         ],
         "yaxis": "y3"
        },
        {
         "connectgaps": false,
         "hovertemplate": "fnid=TD2012A118<br>indicator=area<br>year=%{x}<br>value=%{y}<extra></extra>",
         "legendgroup": "TD2012A118",
         "line": {
          "color": "#00cc96",
          "dash": "solid"
         },
         "marker": {
          "symbol": "circle"
         },
         "mode": "lines+markers",
         "name": "TD2012A118",
         "showlegend": false,
         "type": "scattergl",
         "x": [
          1983,
          1984,
          1985,
          1986,
          1987,
          1988,
          1989,
          1990,
          1991,
          1992,
          1993,
          1994,
          1995,
          1996,
          1997,
          1998,
          1999,
          2000,
          2001,
          2002,
          2003,
          2004,
          2005,
          2006,
          2007,
          2008,
          2009,
          2010,
          2011,
          2012,
          2013,
          2014,
          2015,
          2016,
          2017
         ],
         "xaxis": "x2",
         "y": [
          4380.196622153822,
          16449.939876018278,
          4451.042380036062,
          4836.799386305855,
          5835.316560227278,
          6076.414689145898,
          8981.832602714438,
          3635.017943696118,
          4451.042380036062,
          3635.017943696118,
          8086.06032373218,
          19071.232917661186,
          19287.850313489605,
          null,
          null,
          null,
          null,
          20815.670610436984,
          24369.45703069744,
          28078.659014060828,
          18546.00991681693,
          28211.819365263575,
          16590.147710989415,
          23372.423537569364,
          22919.15905520236,
          24109.81289186201,
          23359.81225082593,
          91481,
          115980,
          118906,
          153401,
          95523,
          95069,
          122317.6,
          116423.0424
         ],
         "yaxis": "y2"
        },
        {
         "connectgaps": false,
         "hovertemplate": "fnid=TD2012A118<br>indicator=yield<br>year=%{x}<br>value=%{y}<extra></extra>",
         "legendgroup": "TD2012A118",
         "line": {
          "color": "#00cc96",
          "dash": "solid"
         },
         "marker": {
          "symbol": "circle"
         },
         "mode": "lines+markers",
         "name": "TD2012A118",
         "showlegend": false,
         "type": "scattergl",
         "x": [
          1983,
          1984,
          1985,
          1986,
          1987,
          1988,
          1989,
          1990,
          1991,
          1992,
          1993,
          1994,
          1995,
          1996,
          1997,
          1998,
          1999,
          2000,
          2001,
          2002,
          2003,
          2004,
          2005,
          2006,
          2007,
          2008,
          2009,
          2010,
          2011,
          2012,
          2013,
          2014,
          2015,
          2016,
          2017
         ],
         "xaxis": "x",
         "y": [
          0.6400203234820898,
          0.2249881620780626,
          0.45,
          0.6656441717791411,
          0.4997457411645054,
          0.6999755829569039,
          0.5499896758207723,
          0.19,
          0.4583333333333333,
          0.6999999999999998,
          0.3999999999999999,
          0.9517076396452466,
          0.5,
          null,
          null,
          null,
          null,
          0.2350006236746912,
          0.3919939117199391,
          0.655997357992074,
          0.8639999999999999,
          0.6870061399702861,
          0.7999999999999999,
          0.767,
          0.767,
          0.7669999999999999,
          0.5176728381339515,
          0.7050000000000001,
          0.268,
          null,
          0.5710000000000001,
          0.9,
          0.571,
          0.606375,
          0.6
         ],
         "yaxis": "y"
        },
        {
         "connectgaps": false,
         "hovertemplate": "fnid=TD2012A119<br>indicator=production<br>year=%{x}<br>value=%{y}<extra></extra>",
         "legendgroup": "TD2012A119",
         "line": {
          "color": "#ab63fa",
          "dash": "solid"
         },
         "marker": {
          "symbol": "circle"
         },
         "mode": "lines+markers",
         "name": "TD2012A119",
         "showlegend": true,
         "type": "scattergl",
         "x": [
          1983,
          1984,
          1985,
          1986,
          1987,
          1988,
          1989,
          1990,
          1991,
          1992,
          1993,
          1994,
          1995,
          1996,
          1997,
          1998,
          1999,
          2000,
          2001,
          2002,
          2003,
          2004,
          2005,
          2006,
          2007,
          2008,
          2009,
          2010,
          2011,
          2012,
          2013,
          2014,
          2015,
          2016,
          2017
         ],
         "xaxis": "x3",
         "y": [
          2031,
          3095,
          3300,
          3987,
          2990,
          3205,
          2671,
          5400,
          9070,
          2800,
          11000,
          28637,
          8910,
          null,
          null,
          null,
          null,
          5297,
          32640,
          27000,
          31380,
          29477,
          32407.5,
          50971.5,
          41151,
          33090.84,
          72583,
          13228.75,
          19246.396,
          21753.756,
          23264.06,
          23171.304,
          22715.188,
          26148.18391304,
          27535.79556
         ],
         "yaxis": "y3"
        },
        {
         "connectgaps": false,
         "hovertemplate": "fnid=TD2012A119<br>indicator=area<br>year=%{x}<br>value=%{y}<extra></extra>",
         "legendgroup": "TD2012A119",
         "line": {
          "color": "#ab63fa",
          "dash": "solid"
         },
         "marker": {
          "symbol": "circle"
         },
         "mode": "lines+markers",
         "name": "TD2012A119",
         "showlegend": false,
         "type": "scattergl",
         "x": [
          1983,
          1984,
          1985,
          1986,
          1987,
          1988,
          1989,
          1990,
          1991,
          1992,
          1993,
          1994,
          1995,
          1996,
          1997,
          1998,
          1999,
          2000,
          2001,
          2002,
          2003,
          2004,
          2005,
          2006,
          2007,
          2008,
          2009,
          2010,
          2011,
          2012,
          2013,
          2014,
          2015,
          2016,
          2017
         ],
         "xaxis": "x2",
         "y": [
          10818,
          14262,
          6050,
          8800,
          6645,
          5980,
          4857,
          9000,
          19000,
          3500,
          20000,
          31991,
          11200,
          null,
          null,
          null,
          null,
          13245,
          27200,
          30000,
          26845,
          35092,
          21605,
          33981,
          27434,
          48663,
          30273,
          13925,
          23998,
          22947,
          24749,
          19374,
          19804,
          25153,
          24919.272
         ],
         "yaxis": "y2"
        },
        {
         "connectgaps": false,
         "hovertemplate": "fnid=TD2012A119<br>indicator=yield<br>year=%{x}<br>value=%{y}<extra></extra>",
         "legendgroup": "TD2012A119",
         "line": {
          "color": "#ab63fa",
          "dash": "solid"
         },
         "marker": {
          "symbol": "circle"
         },
         "mode": "lines+markers",
         "name": "TD2012A119",
         "showlegend": false,
         "type": "scattergl",
         "x": [
          1983,
          1984,
          1985,
          1986,
          1987,
          1988,
          1989,
          1990,
          1991,
          1992,
          1993,
          1994,
          1995,
          1996,
          1997,
          1998,
          1999,
          2000,
          2001,
          2002,
          2003,
          2004,
          2005,
          2006,
          2007,
          2008,
          2009,
          2010,
          2011,
          2012,
          2013,
          2014,
          2015,
          2016,
          2017
         ],
         "xaxis": "x",
         "y": [
          0.1877426511369939,
          0.217010236993409,
          0.5454545454545454,
          0.4530681818181818,
          0.4499623777276147,
          0.5359531772575251,
          0.5499279390570311,
          0.6,
          0.4773684210526315,
          0.8,
          0.55,
          0.89515801319121,
          0.7955357142857142,
          null,
          null,
          null,
          null,
          0.3999244998112495,
          1.2,
          0.9,
          1.1689327621531012,
          0.8399920209734413,
          1.5,
          1.5,
          1.5,
          0.6799999999999999,
          2.397615036501173,
          0.95,
          0.802,
          0.948,
          0.94,
          1.196,
          1.147,
          1.039565217391166,
          1.105
         ],
         "yaxis": "y"
        },
        {
         "connectgaps": false,
         "hovertemplate": "fnid=TD2012A120<br>indicator=production<br>year=%{x}<br>value=%{y}<extra></extra>",
         "legendgroup": "TD2012A120",
         "line": {
          "color": "#FFA15A",
          "dash": "solid"
         },
         "marker": {
          "symbol": "circle"
         },
         "mode": "lines+markers",
         "name": "TD2012A120",
         "showlegend": true,
         "type": "scattergl",
         "x": [
          1983,
          1984,
          1985,
          1986,
          1987,
          1988,
          1989,
          1990,
          1991,
          1992,
          1993,
          1994,
          1995,
          1996,
          1997,
          1998,
          1999,
          2000,
          2001,
          2002,
          2003,
          2004,
          2005,
          2006,
          2007,
          2008,
          2009,
          2010,
          2011,
          2012,
          2013,
          2014,
          2015,
          2016,
          2017
         ],
         "xaxis": "x3",
         "y": [
          4754.5851409739535,
          6276.958261000014,
          3397.0309289837724,
          5460.412678440582,
          4945.825400679707,
          7213.658085677206,
          8378.084798556643,
          1171.3465906977378,
          3459.9389091501384,
          4315.487439412718,
          5485.5758705071285,
          30782.76193480795,
          16356.0748432552,
          null,
          null,
          null,
          null,
          8296.304424340367,
          16201.32121204594,
          31239.473870815767,
          27176.24743187018,
          32871.306876331306,
          22509.481831208468,
          30403.5551466843,
          29813.935004659794,
          31362.773511941843,
          20509.259693838692,
          250016.975,
          44429,
          235525.336,
          117354.195,
          98777.1,
          122869.86,
          137987.1891288,
          153704.4052824
         ],
         "yaxis": "y3"
        },
        {
         "connectgaps": false,
         "hovertemplate": "fnid=TD2012A120<br>indicator=area<br>year=%{x}<br>value=%{y}<extra></extra>",
         "legendgroup": "TD2012A120",
         "line": {
          "color": "#FFA15A",
          "dash": "solid"
         },
         "marker": {
          "symbol": "circle"
         },
         "mode": "lines+markers",
         "name": "TD2012A120",
         "showlegend": false,
         "type": "scattergl",
         "x": [
          1983,
          1984,
          1985,
          1986,
          1987,
          1988,
          1989,
          1990,
          1991,
          1992,
          1993,
          1994,
          1995,
          1996,
          1997,
          1998,
          1999,
          2000,
          2001,
          2002,
          2003,
          2004,
          2005,
          2006,
          2007,
          2008,
          2009,
          2010,
          2011,
          2012,
          2013,
          2014,
          2015,
          2016,
          2017
         ],
         "xaxis": "x2",
         "y": [
          7428.803377846179,
          27899.06012398173,
          7548.957619963938,
          8203.200613694145,
          9896.683439772723,
          10305.585310854103,
          15233.167397285564,
          6164.982056303883,
          7548.957619963938,
          6164.982056303883,
          13713.93967626782,
          32344.76708233882,
          32712.1496865104,
          null,
          null,
          null,
          null,
          35303.32938956302,
          41330.54296930256,
          47621.340985939176,
          31453.990083183075,
          47847.18063473643,
          28136.85228901059,
          39639.57646243064,
          38870.840944797645,
          40890.187108138,
          39618.187749174074,
          144851,
          148948,
          164473,
          151035,
          103611,
          134284,
          140788.888,
          142318.89378
         ],
         "yaxis": "y2"
        },
        {
         "connectgaps": false,
         "hovertemplate": "fnid=TD2012A120<br>indicator=yield<br>year=%{x}<br>value=%{y}<extra></extra>",
         "legendgroup": "TD2012A120",
         "line": {
          "color": "#FFA15A",
          "dash": "solid"
         },
         "marker": {
          "symbol": "circle"
         },
         "mode": "lines+markers",
         "name": "TD2012A120",
         "showlegend": false,
         "type": "scattergl",
         "x": [
          1983,
          1984,
          1985,
          1986,
          1987,
          1988,
          1989,
          1990,
          1991,
          1992,
          1993,
          1994,
          1995,
          1996,
          1997,
          1998,
          1999,
          2000,
          2001,
          2002,
          2003,
          2004,
          2005,
          2006,
          2007,
          2008,
          2009,
          2010,
          2011,
          2012,
          2013,
          2014,
          2015,
          2016,
          2017
         ],
         "xaxis": "x",
         "y": [
          0.6400203234820899,
          0.2249881620780626,
          0.45,
          0.6656441717791411,
          0.4997457411645054,
          0.6999755829569039,
          0.5499896758207722,
          0.19,
          0.4583333333333333,
          0.7000000000000001,
          0.4,
          0.9517076396452466,
          0.5,
          null,
          null,
          null,
          null,
          0.2350006236746912,
          0.3919939117199392,
          0.655997357992074,
          0.8640000000000001,
          0.6870061399702863,
          0.7999999999999999,
          0.767,
          0.767,
          0.7669999999999999,
          0.5176728381339515,
          1.726028643226488,
          0.2982853076241373,
          1.4320000000000002,
          0.777,
          0.953345687233981,
          0.915,
          0.9801,
          1.0799999999999998
         ],
         "yaxis": "y"
        },
        {
         "connectgaps": false,
         "hovertemplate": "fnid=TD2012A121<br>indicator=production<br>year=%{x}<br>value=%{y}<extra></extra>",
         "legendgroup": "TD2012A121",
         "line": {
          "color": "#19d3f3",
          "dash": "solid"
         },
         "marker": {
          "symbol": "circle"
         },
         "mode": "lines+markers",
         "name": "TD2012A121",
         "showlegend": true,
         "type": "scattergl",
         "x": [
          1983,
          1984,
          1985,
          1986,
          1987,
          1988,
          1989,
          1990,
          1991,
          1992,
          1993,
          1994,
          1995,
          1996,
          1997,
          1998,
          1999,
          2000,
          2001,
          2002,
          2003,
          2004,
          2005,
          2006,
          2007,
          2008,
          2009,
          2010,
          2011,
          2012,
          2013,
          2014,
          2015,
          2016,
          2017
         ],
         "xaxis": "x3",
         "y": [
          21461,
          26704,
          44200,
          37284,
          23886,
          16368,
          11401,
          26825,
          12770,
          33220,
          9890,
          52323,
          52483,
          null,
          null,
          null,
          null,
          19100,
          25802,
          31500,
          40132,
          42230,
          29604.96,
          43971.84,
          66754.08,
          22658.4,
          47081,
          44080,
          27848.727,
          39261.75,
          38921.22,
          32344.878,
          34376.832,
          32626.44,
          35272.06722
         ],
         "yaxis": "y3"
        },
        {
         "connectgaps": false,
         "hovertemplate": "fnid=TD2012A121<br>indicator=area<br>year=%{x}<br>value=%{y}<extra></extra>",
         "legendgroup": "TD2012A121",
         "line": {
          "color": "#19d3f3",
          "dash": "solid"
         },
         "marker": {
          "symbol": "circle"
         },
         "mode": "lines+markers",
         "name": "TD2012A121",
         "showlegend": false,
         "type": "scattergl",
         "x": [
          1983,
          1984,
          1985,
          1986,
          1987,
          1988,
          1989,
          1990,
          1991,
          1992,
          1993,
          1994,
          1995,
          1996,
          1997,
          1998,
          1999,
          2000,
          2001,
          2002,
          2003,
          2004,
          2005,
          2006,
          2007,
          2008,
          2009,
          2010,
          2011,
          2012,
          2013,
          2014,
          2015,
          2016,
          2017
         ],
         "xaxis": "x2",
         "y": [
          42957,
          56015,
          59831,
          57534,
          47582,
          21824,
          39315,
          40400,
          41200,
          55000,
          43000,
          69765,
          85757,
          null,
          null,
          null,
          null,
          37377,
          49715,
          70000,
          55771,
          50575,
          41118,
          61072,
          92714,
          31470,
          74581,
          58000,
          46849,
          52349,
          49899,
          36070,
          45472,
          39547.2,
          43545.762
         ],
         "yaxis": "y2"
        },
        {
         "connectgaps": false,
         "hovertemplate": "fnid=TD2012A121<br>indicator=yield<br>year=%{x}<br>value=%{y}<extra></extra>",
         "legendgroup": "TD2012A121",
         "line": {
          "color": "#19d3f3",
          "dash": "solid"
         },
         "marker": {
          "symbol": "circle"
         },
         "mode": "lines+markers",
         "name": "TD2012A121",
         "showlegend": false,
         "type": "scattergl",
         "x": [
          1983,
          1984,
          1985,
          1986,
          1987,
          1988,
          1989,
          1990,
          1991,
          1992,
          1993,
          1994,
          1995,
          1996,
          1997,
          1998,
          1999,
          2000,
          2001,
          2002,
          2003,
          2004,
          2005,
          2006,
          2007,
          2008,
          2009,
          2010,
          2011,
          2012,
          2013,
          2014,
          2015,
          2016,
          2017
         ],
         "xaxis": "x",
         "y": [
          0.4995926158716856,
          0.4767294474694278,
          0.7387474720462637,
          0.6480342058608822,
          0.5019965533184818,
          0.75,
          0.2899910975454661,
          0.6639851485148515,
          0.3099514563106796,
          0.604,
          0.23,
          0.7499892496237368,
          0.6119966883169887,
          null,
          null,
          null,
          null,
          0.5110094443106723,
          0.5189982902544503,
          0.45,
          0.7195854476340751,
          0.8349975284231339,
          0.72,
          0.72,
          0.72,
          0.7200000000000001,
          0.6312733806197289,
          0.76,
          0.5944358897735277,
          0.75,
          0.78,
          0.8967252009980593,
          0.756,
          0.8250000000000001,
          0.8099999999999999
         ],
         "yaxis": "y"
        },
        {
         "connectgaps": false,
         "hovertemplate": "fnid=TD2012A123<br>indicator=production<br>year=%{x}<br>value=%{y}<extra></extra>",
         "legendgroup": "TD2012A123",
         "line": {
          "color": "#FF6692",
          "dash": "solid"
         },
         "marker": {
          "symbol": "circle"
         },
         "mode": "lines+markers",
         "name": "TD2012A123",
         "showlegend": true,
         "type": "scattergl",
         "x": [
          1983,
          1984,
          1985,
          1986,
          1987,
          1988,
          1989,
          1990,
          1991,
          1992,
          1993,
          1994,
          1995,
          1996,
          1997,
          1998,
          1999,
          2000,
          2001,
          2002,
          2003,
          2004,
          2005,
          2006,
          2007,
          2008,
          2009,
          2010,
          2011,
          2012,
          2013,
          2014,
          2015,
          2016,
          2017
         ],
         "xaxis": "x3",
         "y": [
          null,
          null,
          null,
          637,
          16,
          1272,
          2520,
          2440,
          2100,
          2040,
          1470,
          8800,
          1744,
          null,
          null,
          null,
          null,
          3000,
          8060,
          5424,
          6000,
          570,
          2138.8,
          2139.648,
          5288.96,
          6000,
          7670,
          20748.174,
          12514.26,
          19312,
          11260.8,
          7845.625,
          10487.04,
          31922.87868,
          18442.2659
         ],
         "yaxis": "y3"
        },
        {
         "connectgaps": false,
         "hovertemplate": "fnid=TD2012A123<br>indicator=area<br>year=%{x}<br>value=%{y}<extra></extra>",
         "legendgroup": "TD2012A123",
         "line": {
          "color": "#FF6692",
          "dash": "solid"
         },
         "marker": {
          "symbol": "circle"
         },
         "mode": "lines+markers",
         "name": "TD2012A123",
         "showlegend": false,
         "type": "scattergl",
         "x": [
          1983,
          1984,
          1985,
          1986,
          1987,
          1988,
          1989,
          1990,
          1991,
          1992,
          1993,
          1994,
          1995,
          1996,
          1997,
          1998,
          1999,
          2000,
          2001,
          2002,
          2003,
          2004,
          2005,
          2006,
          2007,
          2008,
          2009,
          2010,
          2011,
          2012,
          2013,
          2014,
          2015,
          2016,
          2017
         ],
         "xaxis": "x2",
         "y": [
          null,
          null,
          null,
          2551,
          47,
          2120,
          7000,
          6100,
          10000,
          3400,
          7000,
          21900,
          16000,
          null,
          null,
          null,
          null,
          14998,
          24800,
          12000,
          13000,
          1900,
          21388,
          8358,
          20660,
          12000,
          24216,
          30378,
          35468,
          39504,
          23460,
          12394,
          21848,
          31842,
          27525.77
         ],
         "yaxis": "y2"
        },
        {
         "connectgaps": false,
         "hovertemplate": "fnid=TD2012A123<br>indicator=yield<br>year=%{x}<br>value=%{y}<extra></extra>",
         "legendgroup": "TD2012A123",
         "line": {
          "color": "#FF6692",
          "dash": "solid"
         },
         "marker": {
          "symbol": "circle"
         },
         "mode": "lines+markers",
         "name": "TD2012A123",
         "showlegend": false,
         "type": "scattergl",
         "x": [
          1983,
          1984,
          1985,
          1986,
          1987,
          1988,
          1989,
          1990,
          1991,
          1992,
          1993,
          1994,
          1995,
          1996,
          1997,
          1998,
          1999,
          2000,
          2001,
          2002,
          2003,
          2004,
          2005,
          2006,
          2007,
          2008,
          2009,
          2010,
          2011,
          2012,
          2013,
          2014,
          2015,
          2016,
          2017
         ],
         "xaxis": "x",
         "y": [
          null,
          null,
          null,
          0.2497059976479811,
          0.3404255319148936,
          0.6,
          0.36,
          0.4,
          0.21,
          0.6,
          0.21,
          0.4018264840182648,
          0.109,
          null,
          null,
          null,
          null,
          0.2000266702226963,
          0.325,
          0.452,
          0.4615384615384615,
          0.3,
          0.1,
          0.256,
          0.256,
          0.5,
          0.3167327386851668,
          0.6829999999999999,
          0.3528324123153264,
          0.4888618874038072,
          0.48,
          0.6330179925770534,
          0.48,
          1.00254,
          0.6699999999999999
         ],
         "yaxis": "y"
        }
       ],
       "layout": {
        "annotations": [
         {
          "showarrow": false,
          "text": "",
          "textangle": 90,
          "x": 0.98,
          "xanchor": "left",
          "xref": "paper",
          "y": 0.16333333333333333,
          "yanchor": "middle",
          "yref": "paper"
         },
         {
          "showarrow": false,
          "text": "",
          "textangle": 90,
          "x": 0.98,
          "xanchor": "left",
          "xref": "paper",
          "y": 0.5,
          "yanchor": "middle",
          "yref": "paper"
         },
         {
          "showarrow": false,
          "text": "",
          "textangle": 90,
          "x": 0.98,
          "xanchor": "left",
          "xref": "paper",
          "y": 0.8366666666666667,
          "yanchor": "middle",
          "yref": "paper"
         },
         {
          "align": "left",
          "font": {
           "color": "dimgrey",
           "family": "arial",
           "size": 15
          },
          "showarrow": false,
          "text": "Production-Area-Yield (PAY) time-series of TD - Sorghum - Main",
          "x": -0.014,
          "xref": "paper",
          "y": -0.14,
          "yref": "paper"
         }
        ],
        "font": {
         "color": "black",
         "family": "arial",
         "size": 16
        },
        "height": 600,
        "legend": {
         "font": {
          "size": 14
         },
         "title": {
          "text": "FNID"
         },
         "tracegroupgap": 0,
         "x": 1,
         "xanchor": "left",
         "y": 1,
         "yanchor": "top"
        },
        "margin": {
         "b": 25,
         "l": 0,
         "r": 0,
         "t": 0
        },
        "template": {
         "data": {
          "bar": [
           {
            "error_x": {
             "color": "#2a3f5f"
            },
            "error_y": {
             "color": "#2a3f5f"
            },
            "marker": {
             "line": {
              "color": "#E5ECF6",
              "width": 0.5
             },
             "pattern": {
              "fillmode": "overlay",
              "size": 10,
              "solidity": 0.2
             }
            },
            "type": "bar"
           }
          ],
          "barpolar": [
           {
            "marker": {
             "line": {
              "color": "#E5ECF6",
              "width": 0.5
             },
             "pattern": {
              "fillmode": "overlay",
              "size": 10,
              "solidity": 0.2
             }
            },
            "type": "barpolar"
           }
          ],
          "carpet": [
           {
            "aaxis": {
             "endlinecolor": "#2a3f5f",
             "gridcolor": "white",
             "linecolor": "white",
             "minorgridcolor": "white",
             "startlinecolor": "#2a3f5f"
            },
            "baxis": {
             "endlinecolor": "#2a3f5f",
             "gridcolor": "white",
             "linecolor": "white",
             "minorgridcolor": "white",
             "startlinecolor": "#2a3f5f"
            },
            "type": "carpet"
           }
          ],
          "choropleth": [
           {
            "colorbar": {
             "outlinewidth": 0,
             "ticks": ""
            },
            "type": "choropleth"
           }
          ],
          "contour": [
           {
            "colorbar": {
             "outlinewidth": 0,
             "ticks": ""
            },
            "colorscale": [
             [
              0,
              "#0d0887"
             ],
             [
              0.1111111111111111,
              "#46039f"
             ],
             [
              0.2222222222222222,
              "#7201a8"
             ],
             [
              0.3333333333333333,
              "#9c179e"
             ],
             [
              0.4444444444444444,
              "#bd3786"
             ],
             [
              0.5555555555555556,
              "#d8576b"
             ],
             [
              0.6666666666666666,
              "#ed7953"
             ],
             [
              0.7777777777777778,
              "#fb9f3a"
             ],
             [
              0.8888888888888888,
              "#fdca26"
             ],
             [
              1,
              "#f0f921"
             ]
            ],
            "type": "contour"
           }
          ],
          "contourcarpet": [
           {
            "colorbar": {
             "outlinewidth": 0,
             "ticks": ""
            },
            "type": "contourcarpet"
           }
          ],
          "heatmap": [
           {
            "colorbar": {
             "outlinewidth": 0,
             "ticks": ""
            },
            "colorscale": [
             [
              0,
              "#0d0887"
             ],
             [
              0.1111111111111111,
              "#46039f"
             ],
             [
              0.2222222222222222,
              "#7201a8"
             ],
             [
              0.3333333333333333,
              "#9c179e"
             ],
             [
              0.4444444444444444,
              "#bd3786"
             ],
             [
              0.5555555555555556,
              "#d8576b"
             ],
             [
              0.6666666666666666,
              "#ed7953"
             ],
             [
              0.7777777777777778,
              "#fb9f3a"
             ],
             [
              0.8888888888888888,
              "#fdca26"
             ],
             [
              1,
              "#f0f921"
             ]
            ],
            "type": "heatmap"
           }
          ],
          "heatmapgl": [
           {
            "colorbar": {
             "outlinewidth": 0,
             "ticks": ""
            },
            "colorscale": [
             [
              0,
              "#0d0887"
             ],
             [
              0.1111111111111111,
              "#46039f"
             ],
             [
              0.2222222222222222,
              "#7201a8"
             ],
             [
              0.3333333333333333,
              "#9c179e"
             ],
             [
              0.4444444444444444,
              "#bd3786"
             ],
             [
              0.5555555555555556,
              "#d8576b"
             ],
             [
              0.6666666666666666,
              "#ed7953"
             ],
             [
              0.7777777777777778,
              "#fb9f3a"
             ],
             [
              0.8888888888888888,
              "#fdca26"
             ],
             [
              1,
              "#f0f921"
             ]
            ],
            "type": "heatmapgl"
           }
          ],
          "histogram": [
           {
            "marker": {
             "pattern": {
              "fillmode": "overlay",
              "size": 10,
              "solidity": 0.2
             }
            },
            "type": "histogram"
           }
          ],
          "histogram2d": [
           {
            "colorbar": {
             "outlinewidth": 0,
             "ticks": ""
            },
            "colorscale": [
             [
              0,
              "#0d0887"
             ],
             [
              0.1111111111111111,
              "#46039f"
             ],
             [
              0.2222222222222222,
              "#7201a8"
             ],
             [
              0.3333333333333333,
              "#9c179e"
             ],
             [
              0.4444444444444444,
              "#bd3786"
             ],
             [
              0.5555555555555556,
              "#d8576b"
             ],
             [
              0.6666666666666666,
              "#ed7953"
             ],
             [
              0.7777777777777778,
              "#fb9f3a"
             ],
             [
              0.8888888888888888,
              "#fdca26"
             ],
             [
              1,
              "#f0f921"
             ]
            ],
            "type": "histogram2d"
           }
          ],
          "histogram2dcontour": [
           {
            "colorbar": {
             "outlinewidth": 0,
             "ticks": ""
            },
            "colorscale": [
             [
              0,
              "#0d0887"
             ],
             [
              0.1111111111111111,
              "#46039f"
             ],
             [
              0.2222222222222222,
              "#7201a8"
             ],
             [
              0.3333333333333333,
              "#9c179e"
             ],
             [
              0.4444444444444444,
              "#bd3786"
             ],
             [
              0.5555555555555556,
              "#d8576b"
             ],
             [
              0.6666666666666666,
              "#ed7953"
             ],
             [
              0.7777777777777778,
              "#fb9f3a"
             ],
             [
              0.8888888888888888,
              "#fdca26"
             ],
             [
              1,
              "#f0f921"
             ]
            ],
            "type": "histogram2dcontour"
           }
          ],
          "mesh3d": [
           {
            "colorbar": {
             "outlinewidth": 0,
             "ticks": ""
            },
            "type": "mesh3d"
           }
          ],
          "parcoords": [
           {
            "line": {
             "colorbar": {
              "outlinewidth": 0,
              "ticks": ""
             }
            },
            "type": "parcoords"
           }
          ],
          "pie": [
           {
            "automargin": true,
            "type": "pie"
           }
          ],
          "scatter": [
           {
            "fillpattern": {
             "fillmode": "overlay",
             "size": 10,
             "solidity": 0.2
            },
            "type": "scatter"
           }
          ],
          "scatter3d": [
           {
            "line": {
             "colorbar": {
              "outlinewidth": 0,
              "ticks": ""
             }
            },
            "marker": {
             "colorbar": {
              "outlinewidth": 0,
              "ticks": ""
             }
            },
            "type": "scatter3d"
           }
          ],
          "scattercarpet": [
           {
            "marker": {
             "colorbar": {
              "outlinewidth": 0,
              "ticks": ""
             }
            },
            "type": "scattercarpet"
           }
          ],
          "scattergeo": [
           {
            "marker": {
             "colorbar": {
              "outlinewidth": 0,
              "ticks": ""
             }
            },
            "type": "scattergeo"
           }
          ],
          "scattergl": [
           {
            "marker": {
             "colorbar": {
              "outlinewidth": 0,
              "ticks": ""
             }
            },
            "type": "scattergl"
           }
          ],
          "scattermapbox": [
           {
            "marker": {
             "colorbar": {
              "outlinewidth": 0,
              "ticks": ""
             }
            },
            "type": "scattermapbox"
           }
          ],
          "scatterpolar": [
           {
            "marker": {
             "colorbar": {
              "outlinewidth": 0,
              "ticks": ""
             }
            },
            "type": "scatterpolar"
           }
          ],
          "scatterpolargl": [
           {
            "marker": {
             "colorbar": {
              "outlinewidth": 0,
              "ticks": ""
             }
            },
            "type": "scatterpolargl"
           }
          ],
          "scatterternary": [
           {
            "marker": {
             "colorbar": {
              "outlinewidth": 0,
              "ticks": ""
             }
            },
            "type": "scatterternary"
           }
          ],
          "surface": [
           {
            "colorbar": {
             "outlinewidth": 0,
             "ticks": ""
            },
            "colorscale": [
             [
              0,
              "#0d0887"
             ],
             [
              0.1111111111111111,
              "#46039f"
             ],
             [
              0.2222222222222222,
              "#7201a8"
             ],
             [
              0.3333333333333333,
              "#9c179e"
             ],
             [
              0.4444444444444444,
              "#bd3786"
             ],
             [
              0.5555555555555556,
              "#d8576b"
             ],
             [
              0.6666666666666666,
              "#ed7953"
             ],
             [
              0.7777777777777778,
              "#fb9f3a"
             ],
             [
              0.8888888888888888,
              "#fdca26"
             ],
             [
              1,
              "#f0f921"
             ]
            ],
            "type": "surface"
           }
          ],
          "table": [
           {
            "cells": {
             "fill": {
              "color": "#EBF0F8"
             },
             "line": {
              "color": "white"
             }
            },
            "header": {
             "fill": {
              "color": "#C8D4E3"
             },
             "line": {
              "color": "white"
             }
            },
            "type": "table"
           }
          ]
         },
         "layout": {
          "annotationdefaults": {
           "arrowcolor": "#2a3f5f",
           "arrowhead": 0,
           "arrowwidth": 1
          },
          "autotypenumbers": "strict",
          "coloraxis": {
           "colorbar": {
            "outlinewidth": 0,
            "ticks": ""
           }
          },
          "colorscale": {
           "diverging": [
            [
             0,
             "#8e0152"
            ],
            [
             0.1,
             "#c51b7d"
            ],
            [
             0.2,
             "#de77ae"
            ],
            [
             0.3,
             "#f1b6da"
            ],
            [
             0.4,
             "#fde0ef"
            ],
            [
             0.5,
             "#f7f7f7"
            ],
            [
             0.6,
             "#e6f5d0"
            ],
            [
             0.7,
             "#b8e186"
            ],
            [
             0.8,
             "#7fbc41"
            ],
            [
             0.9,
             "#4d9221"
            ],
            [
             1,
             "#276419"
            ]
           ],
           "sequential": [
            [
             0,
             "#0d0887"
            ],
            [
             0.1111111111111111,
             "#46039f"
            ],
            [
             0.2222222222222222,
             "#7201a8"
            ],
            [
             0.3333333333333333,
             "#9c179e"
            ],
            [
             0.4444444444444444,
             "#bd3786"
            ],
            [
             0.5555555555555556,
             "#d8576b"
            ],
            [
             0.6666666666666666,
             "#ed7953"
            ],
            [
             0.7777777777777778,
             "#fb9f3a"
            ],
            [
             0.8888888888888888,
             "#fdca26"
            ],
            [
             1,
             "#f0f921"
            ]
           ],
           "sequentialminus": [
            [
             0,
             "#0d0887"
            ],
            [
             0.1111111111111111,
             "#46039f"
            ],
            [
             0.2222222222222222,
             "#7201a8"
            ],
            [
             0.3333333333333333,
             "#9c179e"
            ],
            [
             0.4444444444444444,
             "#bd3786"
            ],
            [
             0.5555555555555556,
             "#d8576b"
            ],
            [
             0.6666666666666666,
             "#ed7953"
            ],
            [
             0.7777777777777778,
             "#fb9f3a"
            ],
            [
             0.8888888888888888,
             "#fdca26"
            ],
            [
             1,
             "#f0f921"
            ]
           ]
          },
          "colorway": [
           "#636efa",
           "#EF553B",
           "#00cc96",
           "#ab63fa",
           "#FFA15A",
           "#19d3f3",
           "#FF6692",
           "#B6E880",
           "#FF97FF",
           "#FECB52"
          ],
          "font": {
           "color": "#2a3f5f"
          },
          "geo": {
           "bgcolor": "white",
           "lakecolor": "white",
           "landcolor": "#E5ECF6",
           "showlakes": true,
           "showland": true,
           "subunitcolor": "white"
          },
          "hoverlabel": {
           "align": "left"
          },
          "hovermode": "closest",
          "mapbox": {
           "style": "light"
          },
          "paper_bgcolor": "white",
          "plot_bgcolor": "#E5ECF6",
          "polar": {
           "angularaxis": {
            "gridcolor": "white",
            "linecolor": "white",
            "ticks": ""
           },
           "bgcolor": "#E5ECF6",
           "radialaxis": {
            "gridcolor": "white",
            "linecolor": "white",
            "ticks": ""
           }
          },
          "scene": {
           "xaxis": {
            "backgroundcolor": "#E5ECF6",
            "gridcolor": "white",
            "gridwidth": 2,
            "linecolor": "white",
            "showbackground": true,
            "ticks": "",
            "zerolinecolor": "white"
           },
           "yaxis": {
            "backgroundcolor": "#E5ECF6",
            "gridcolor": "white",
            "gridwidth": 2,
            "linecolor": "white",
            "showbackground": true,
            "ticks": "",
            "zerolinecolor": "white"
           },
           "zaxis": {
            "backgroundcolor": "#E5ECF6",
            "gridcolor": "white",
            "gridwidth": 2,
            "linecolor": "white",
            "showbackground": true,
            "ticks": "",
            "zerolinecolor": "white"
           }
          },
          "shapedefaults": {
           "line": {
            "color": "#2a3f5f"
           }
          },
          "ternary": {
           "aaxis": {
            "gridcolor": "white",
            "linecolor": "white",
            "ticks": ""
           },
           "baxis": {
            "gridcolor": "white",
            "linecolor": "white",
            "ticks": ""
           },
           "bgcolor": "#E5ECF6",
           "caxis": {
            "gridcolor": "white",
            "linecolor": "white",
            "ticks": ""
           }
          },
          "title": {
           "x": 0.05
          },
          "xaxis": {
           "automargin": true,
           "gridcolor": "white",
           "linecolor": "white",
           "ticks": "",
           "title": {
            "standoff": 15
           },
           "zerolinecolor": "white",
           "zerolinewidth": 2
          },
          "yaxis": {
           "automargin": true,
           "gridcolor": "white",
           "linecolor": "white",
           "ticks": "",
           "title": {
            "standoff": 15
           },
           "zerolinecolor": "white",
           "zerolinewidth": 2
          }
         }
        },
        "width": 900,
        "xaxis": {
         "anchor": "y",
         "domain": [
          0,
          0.98
         ],
         "dtick": 1,
         "range": [
          1983,
          2017
         ],
         "title": {
          "text": ""
         }
        },
        "xaxis2": {
         "anchor": "y2",
         "domain": [
          0,
          0.98
         ],
         "dtick": 1,
         "matches": "x",
         "showticklabels": false
        },
        "xaxis3": {
         "anchor": "y3",
         "domain": [
          0,
          0.98
         ],
         "dtick": 1,
         "matches": "x",
         "showticklabels": false
        },
        "yaxis": {
         "anchor": "x",
         "domain": [
          0,
          0.32666666666666666
         ],
         "title": {
          "text": "Yield (mt/ha)"
         }
        },
        "yaxis2": {
         "anchor": "x2",
         "domain": [
          0.33666666666666667,
          0.6633333333333333
         ],
         "title": {
          "text": "Area (ha)"
         }
        },
        "yaxis3": {
         "anchor": "x3",
         "domain": [
          0.6733333333333333,
          1
         ],
         "title": {
          "text": "Production (mt)"
         }
        }
       }
      }
     },
     "metadata": {},
     "output_type": "display_data"
    },
    {
     "name": "stdout",
     "output_type": "stream",
     "text": [
      "../figures/TD_line_pay_Millet_Main.png is saved.\n"
     ]
    },
    {
     "data": {
      "application/vnd.plotly.v1+json": {
       "config": {
        "plotlyServerURL": "https://plot.ly"
       },
       "data": [
        {
         "connectgaps": false,
         "hovertemplate": "fnid=TD2012A101<br>indicator=production<br>year=%{x}<br>value=%{y}<extra></extra>",
         "legendgroup": "TD2012A101",
         "line": {
          "color": "#636efa",
          "dash": "solid"
         },
         "marker": {
          "symbol": "circle"
         },
         "mode": "lines+markers",
         "name": "TD2012A101",
         "showlegend": true,
         "type": "scattergl",
         "x": [
          1983,
          1984,
          1985,
          1986,
          1987,
          1988,
          1989,
          1990,
          1991,
          1992,
          1993,
          1994,
          1995,
          1996,
          1997,
          1998,
          1999,
          2000,
          2001,
          2002,
          2003,
          2004,
          2005,
          2006,
          2007,
          2008,
          2009,
          2010,
          2011,
          2012,
          2013,
          2014,
          2015,
          2016,
          2017
         ],
         "xaxis": "x3",
         "y": [
          4100.389245354839,
          null,
          22137.419009356458,
          3697.374694158862,
          1543.2335367099454,
          5335.685607383351,
          632.1936005556604,
          4065.62214498758,
          1035.9176844121932,
          7748.09665327476,
          4966.728623894077,
          5264.732341327722,
          2940.3033453452936,
          null,
          null,
          13197.30748634712,
          null,
          4214.624003704403,
          6584.4630899624335,
          1766.7363247851788,
          11352.522568900748,
          4042.917099849779,
          10359.176844121932,
          5551.383536192466,
          18945.203188207255,
          19141.73947798539,
          6166.690259426887,
          5799,
          7246.5,
          23744.70117647,
          8706.78922941,
          15440.808,
          8384.19,
          12754.919163,
          10858.89
         ],
         "yaxis": "y3"
        },
        {
         "connectgaps": false,
         "hovertemplate": "fnid=TD2012A101<br>indicator=area<br>year=%{x}<br>value=%{y}<extra></extra>",
         "legendgroup": "TD2012A101",
         "line": {
          "color": "#636efa",
          "dash": "solid"
         },
         "marker": {
          "symbol": "circle"
         },
         "mode": "lines+markers",
         "name": "TD2012A101",
         "showlegend": false,
         "type": "scattergl",
         "x": [
          1983,
          1984,
          1985,
          1986,
          1987,
          1988,
          1989,
          1990,
          1991,
          1992,
          1993,
          1994,
          1995,
          1996,
          1997,
          1998,
          1999,
          2000,
          2001,
          2002,
          2003,
          2004,
          2005,
          2006,
          2007,
          2008,
          2009,
          2010,
          2011,
          2012,
          2013,
          2014,
          2015,
          2016,
          2017
         ],
         "xaxis": "x2",
         "y": [
          33418.988312201574,
          null,
          64425.56557851174,
          24649.16462772575,
          10288.223578066303,
          20063.4550425504,
          15802.001883249284,
          27104.147633250537,
          7804.859266119264,
          25826.9888442492,
          24833.643119470384,
          26323.66170663861,
          26252.708440582977,
          null,
          null,
          43991.02495449039,
          null,
          28097.49335802935,
          16056.724108388997,
          17667.363247851787,
          28381.30642225187,
          26252.708440582977,
          25897.94211030483,
          27756.917680962328,
          66241.96918953586,
          68855.1779783647,
          27529.867229584313,
          33135,
          24155,
          34640,
          25719,
          38796,
          28911,
          31716.82,
          31025.4
         ],
         "yaxis": "y2"
        },
        {
         "connectgaps": false,
         "hovertemplate": "fnid=TD2012A101<br>indicator=yield<br>year=%{x}<br>value=%{y}<extra></extra>",
         "legendgroup": "TD2012A101",
         "line": {
          "color": "#636efa",
          "dash": "solid"
         },
         "marker": {
          "symbol": "circle"
         },
         "mode": "lines+markers",
         "name": "TD2012A101",
         "showlegend": false,
         "type": "scattergl",
         "x": [
          1983,
          1984,
          1985,
          1986,
          1987,
          1988,
          1989,
          1990,
          1991,
          1992,
          1993,
          1994,
          1995,
          1996,
          1997,
          1998,
          1999,
          2000,
          2001,
          2002,
          2003,
          2004,
          2005,
          2006,
          2007,
          2008,
          2009,
          2010,
          2011,
          2012,
          2013,
          2014,
          2015,
          2016,
          2017
         ],
         "xaxis": "x",
         "y": [
          0.1226963906581741,
          null,
          0.3436123348017621,
          0.15,
          0.15,
          0.2659405170279733,
          0.0400071842306138,
          0.15,
          0.1327272727272727,
          0.3,
          0.2,
          0.1999999999999999,
          0.112,
          null,
          null,
          0.3,
          null,
          0.15,
          0.410075121520106,
          0.1,
          0.3999999999999999,
          0.154,
          0.4,
          0.2,
          0.286,
          0.278,
          0.224,
          0.175011317338162,
          0.3,
          0.6854705882352772,
          0.3385352941175784,
          0.398,
          0.29,
          0.40215,
          0.35
         ],
         "yaxis": "y"
        },
        {
         "connectgaps": false,
         "hovertemplate": "fnid=TD2012A102<br>indicator=production<br>year=%{x}<br>value=%{y}<extra></extra>",
         "legendgroup": "TD2012A102",
         "line": {
          "color": "#EF553B",
          "dash": "solid"
         },
         "marker": {
          "symbol": "circle"
         },
         "mode": "lines+markers",
         "name": "TD2012A102",
         "showlegend": true,
         "type": "scattergl",
         "x": [
          1983,
          1984,
          1985,
          1986,
          1987,
          1988,
          1989,
          1990,
          1991,
          1992,
          1993,
          1994,
          1995,
          1996,
          1997,
          1998,
          1999,
          2000,
          2001,
          2002,
          2003,
          2004,
          2005,
          2006,
          2007,
          2008,
          2009,
          2010,
          2011,
          2012,
          2013,
          2014,
          2015,
          2016,
          2017
         ],
         "xaxis": "x3",
         "y": [
          15000,
          null,
          10000,
          14782,
          13520,
          34400,
          24068,
          6060,
          22100,
          18900,
          12500,
          29100,
          32360,
          null,
          null,
          36000,
          null,
          31000,
          42256,
          51250,
          69740,
          15442,
          102050.4,
          65399.09,
          62510,
          22176,
          28557,
          78103,
          21286.575,
          59760.77933913,
          44955.008,
          80209.408,
          39367.014,
          60593.65592644,
          50350.8107716
         ],
         "yaxis": "y3"
        },
        {
         "connectgaps": false,
         "hovertemplate": "fnid=TD2012A102<br>indicator=area<br>year=%{x}<br>value=%{y}<extra></extra>",
         "legendgroup": "TD2012A102",
         "line": {
          "color": "#EF553B",
          "dash": "solid"
         },
         "marker": {
          "symbol": "circle"
         },
         "mode": "lines+markers",
         "name": "TD2012A102",
         "showlegend": false,
         "type": "scattergl",
         "x": [
          1983,
          1984,
          1985,
          1986,
          1987,
          1988,
          1989,
          1990,
          1991,
          1992,
          1993,
          1994,
          1995,
          1996,
          1997,
          1998,
          1999,
          2000,
          2001,
          2002,
          2003,
          2004,
          2005,
          2006,
          2007,
          2008,
          2009,
          2010,
          2011,
          2012,
          2013,
          2014,
          2015,
          2016,
          2017
         ],
         "xaxis": "x2",
         "y": [
          57500,
          null,
          43000,
          48782,
          52000,
          57335,
          60170,
          40400,
          69200,
          63000,
          50000,
          97000,
          90900,
          null,
          null,
          120000,
          null,
          103337,
          139000,
          125000,
          144200,
          56153,
          212605,
          139147,
          133000,
          99000,
          185582,
          166176,
          101897,
          195104,
          117376,
          156659,
          147442,
          143695.6,
          135172.422
         ],
         "yaxis": "y2"
        },
        {
         "connectgaps": false,
         "hovertemplate": "fnid=TD2012A102<br>indicator=yield<br>year=%{x}<br>value=%{y}<extra></extra>",
         "legendgroup": "TD2012A102",
         "line": {
          "color": "#EF553B",
          "dash": "solid"
         },
         "marker": {
          "symbol": "circle"
         },
         "mode": "lines+markers",
         "name": "TD2012A102",
         "showlegend": false,
         "type": "scattergl",
         "x": [
          1983,
          1984,
          1985,
          1986,
          1987,
          1988,
          1989,
          1990,
          1991,
          1992,
          1993,
          1994,
          1995,
          1996,
          1997,
          1998,
          1999,
          2000,
          2001,
          2002,
          2003,
          2004,
          2005,
          2006,
          2007,
          2008,
          2009,
          2010,
          2011,
          2012,
          2013,
          2014,
          2015,
          2016,
          2017
         ],
         "xaxis": "x",
         "y": [
          0.2608695652173913,
          null,
          0.2325581395348837,
          0.3030216063302037,
          0.26,
          0.5999825586465509,
          0.4,
          0.15,
          0.319364161849711,
          0.3,
          0.25,
          0.3,
          0.355995599559956,
          null,
          null,
          0.3,
          null,
          0.2999893552164278,
          0.304,
          0.41,
          0.483633841886269,
          0.2749986643634356,
          0.48,
          0.47,
          0.47,
          0.224,
          0.1538780700714509,
          0.4700016849605238,
          0.2089028626946819,
          0.3063021739130412,
          0.383,
          0.512,
          0.267,
          0.4216806633358293,
          0.3724932203375035
         ],
         "yaxis": "y"
        },
        {
         "connectgaps": false,
         "hovertemplate": "fnid=TD2012A104<br>indicator=production<br>year=%{x}<br>value=%{y}<extra></extra>",
         "legendgroup": "TD2012A104",
         "line": {
          "color": "#00cc96",
          "dash": "solid"
         },
         "marker": {
          "symbol": "circle"
         },
         "mode": "lines+markers",
         "name": "TD2012A104",
         "showlegend": true,
         "type": "scattergl",
         "x": [
          1983,
          1984,
          1985,
          1986,
          1987,
          1988,
          1989,
          1990,
          1991,
          1992,
          1993,
          1994,
          1995,
          1996,
          1997,
          1998,
          1999,
          2000,
          2001,
          2002,
          2003,
          2004,
          2005,
          2006,
          2007,
          2008,
          2009,
          2010,
          2011,
          2012,
          2013,
          2014,
          2015,
          2016,
          2017
         ],
         "xaxis": "x3",
         "y": [
          3076.309937721352,
          null,
          13962.53153775848,
          30722.122382483143,
          23035.141704358502,
          35954.277542963835,
          19181.027699995713,
          21198.006440613215,
          41697.886304338506,
          33768.078990774586,
          22024.375834342507,
          38978.22798741859,
          32670.80613188335,
          null,
          null,
          48805.11839035187,
          null,
          51832.104167749625,
          68568.1711821661,
          51339.62139774934,
          60516.950550882546,
          37423.37868737147,
          74733.84298926366,
          101181.3924951215,
          43117.76952507554,
          67814.78636905103,
          49404.59664659259,
          54329,
          50813.9,
          72203.15031429,
          73301.607,
          108114.961,
          88315.885,
          90024.7068,
          91204.31065116
         ],
         "yaxis": "y3"
        },
        {
         "connectgaps": false,
         "hovertemplate": "fnid=TD2012A104<br>indicator=area<br>year=%{x}<br>value=%{y}<extra></extra>",
         "legendgroup": "TD2012A104",
         "line": {
          "color": "#00cc96",
          "dash": "solid"
         },
         "marker": {
          "symbol": "circle"
         },
         "mode": "lines+markers",
         "name": "TD2012A104",
         "showlegend": false,
         "type": "scattergl",
         "x": [
          1983,
          1984,
          1985,
          1986,
          1987,
          1988,
          1989,
          1990,
          1991,
          1992,
          1993,
          1994,
          1995,
          1996,
          1997,
          1998,
          1999,
          2000,
          2001,
          2002,
          2003,
          2004,
          2005,
          2006,
          2007,
          2008,
          2009,
          2010,
          2011,
          2012,
          2013,
          2014,
          2015,
          2016,
          2017
         ],
         "xaxis": "x2",
         "y": [
          26100.06914354364,
          null,
          27925.06307551696,
          43577.51622928567,
          46070.283408717005,
          57071.08882735204,
          46505.85368603621,
          57291.90929895463,
          59568.409006197864,
          53877.15973808979,
          57982.44754348508,
          83892.04954485604,
          79298.07313563919,
          null,
          null,
          105260.03463027674,
          null,
          86101.01309411772,
          129865.20229939734,
          100469.52041300124,
          110030.8191834228,
          67308.50801082485,
          135879.71452593396,
          134192.8282428667,
          81817.3994783217,
          126049.78879005768,
          107569.16416665714,
          81698,
          94441,
          93706,
          114713,
          146299,
          134015,
          138286.8,
          133264.551
         ],
         "yaxis": "y2"
        },
        {
         "connectgaps": false,
         "hovertemplate": "fnid=TD2012A104<br>indicator=yield<br>year=%{x}<br>value=%{y}<extra></extra>",
         "legendgroup": "TD2012A104",
         "line": {
          "color": "#00cc96",
          "dash": "solid"
         },
         "marker": {
          "symbol": "circle"
         },
         "mode": "lines+markers",
         "name": "TD2012A104",
         "showlegend": false,
         "type": "scattergl",
         "x": [
          1983,
          1984,
          1985,
          1986,
          1987,
          1988,
          1989,
          1990,
          1991,
          1992,
          1993,
          1994,
          1995,
          1996,
          1997,
          1998,
          1999,
          2000,
          2001,
          2002,
          2003,
          2004,
          2005,
          2006,
          2007,
          2008,
          2009,
          2010,
          2011,
          2012,
          2013,
          2014,
          2015,
          2016,
          2017
         ],
         "xaxis": "x",
         "y": [
          0.1178659688908271,
          null,
          0.5,
          0.7049993905305866,
          0.5,
          0.6299910914917098,
          0.4124432986326404,
          0.37,
          0.7000000000000001,
          0.6267605633802817,
          0.379845569951577,
          0.4646236228449445,
          0.412,
          null,
          null,
          0.4636623820406162,
          null,
          0.601991803639889,
          0.5279949514426954,
          0.5109969788519638,
          0.55,
          0.5559977452085683,
          0.5499999999999999,
          0.7540000000000001,
          0.527,
          0.538,
          0.4592821467874375,
          0.6649979191657078,
          0.5380491523808516,
          0.7705285714286172,
          0.639,
          0.739,
          0.6589999999999999,
          0.651,
          0.6843853820597797
         ],
         "yaxis": "y"
        },
        {
         "connectgaps": false,
         "hovertemplate": "fnid=TD2012A107<br>indicator=production<br>year=%{x}<br>value=%{y}<extra></extra>",
         "legendgroup": "TD2012A107",
         "line": {
          "color": "#ab63fa",
          "dash": "solid"
         },
         "marker": {
          "symbol": "circle"
         },
         "mode": "lines+markers",
         "name": "TD2012A107",
         "showlegend": true,
         "type": "scattergl",
         "x": [
          1983,
          1984,
          1985,
          1986,
          1987,
          1988,
          1989,
          1990,
          1991,
          1992,
          1993,
          1994,
          1995,
          1996,
          1997,
          1998,
          1999,
          2000,
          2001,
          2002,
          2003,
          2004,
          2005,
          2006,
          2007,
          2008,
          2009,
          2010,
          2011,
          2012,
          2013,
          2014,
          2015,
          2016,
          2017
         ],
         "xaxis": "x3",
         "y": [
          9444,
          null,
          12750,
          25800,
          21682,
          12732,
          8242,
          5577,
          13600,
          8600,
          3540,
          9040,
          7435,
          null,
          null,
          12850,
          null,
          9922,
          29035,
          14257,
          30349,
          14582,
          20871,
          18741,
          24660,
          27675,
          13712,
          46181,
          13199.6,
          20188.5861,
          30645.30530714,
          30150.032,
          25510.94,
          33420.7640655,
          32346.86832
         ],
         "yaxis": "y3"
        },
        {
         "connectgaps": false,
         "hovertemplate": "fnid=TD2012A107<br>indicator=area<br>year=%{x}<br>value=%{y}<extra></extra>",
         "legendgroup": "TD2012A107",
         "line": {
          "color": "#ab63fa",
          "dash": "solid"
         },
         "marker": {
          "symbol": "circle"
         },
         "mode": "lines+markers",
         "name": "TD2012A107",
         "showlegend": false,
         "type": "scattergl",
         "x": [
          1983,
          1984,
          1985,
          1986,
          1987,
          1988,
          1989,
          1990,
          1991,
          1992,
          1993,
          1994,
          1995,
          1996,
          1997,
          1998,
          1999,
          2000,
          2001,
          2002,
          2003,
          2004,
          2005,
          2006,
          2007,
          2008,
          2009,
          2010,
          2011,
          2012,
          2013,
          2014,
          2015,
          2016,
          2017
         ],
         "xaxis": "x2",
         "y": [
          15890,
          null,
          32800,
          64500,
          50062,
          25465,
          41242,
          42900,
          36000,
          15400,
          11700,
          22600,
          15270,
          null,
          null,
          32125,
          null,
          24806,
          39029,
          26500,
          43356,
          39410,
          34785,
          31235,
          41100,
          45000,
          44522,
          63962,
          36191,
          61590,
          66867,
          58652,
          59605,
          61292.7,
          63425.232
         ],
         "yaxis": "y2"
        },
        {
         "connectgaps": false,
         "hovertemplate": "fnid=TD2012A107<br>indicator=yield<br>year=%{x}<br>value=%{y}<extra></extra>",
         "legendgroup": "TD2012A107",
         "line": {
          "color": "#ab63fa",
          "dash": "solid"
         },
         "marker": {
          "symbol": "circle"
         },
         "mode": "lines+markers",
         "name": "TD2012A107",
         "showlegend": false,
         "type": "scattergl",
         "x": [
          1983,
          1984,
          1985,
          1986,
          1987,
          1988,
          1989,
          1990,
          1991,
          1992,
          1993,
          1994,
          1995,
          1996,
          1997,
          1998,
          1999,
          2000,
          2001,
          2002,
          2003,
          2004,
          2005,
          2006,
          2007,
          2008,
          2009,
          2010,
          2011,
          2012,
          2013,
          2014,
          2015,
          2016,
          2017
         ],
         "xaxis": "x",
         "y": [
          0.5943360604153556,
          null,
          0.3887195121951219,
          0.4,
          0.4331029523390995,
          0.499980365207147,
          0.1998448183890209,
          0.13,
          0.3777777777777777,
          0.5584415584415584,
          0.3025641025641025,
          0.4,
          0.4869024230517354,
          null,
          null,
          0.4,
          null,
          0.3999838748689833,
          0.7439339977965103,
          0.538,
          0.6999953870283236,
          0.3700076122811469,
          0.6,
          0.6,
          0.6,
          0.615,
          0.3079825704146264,
          0.722006816547325,
          0.3647205106241883,
          0.32779,
          0.4583023809523382,
          0.5140495123780945,
          0.428,
          0.545265,
          0.51
         ],
         "yaxis": "y"
        },
        {
         "connectgaps": false,
         "hovertemplate": "fnid=TD2012A108<br>indicator=production<br>year=%{x}<br>value=%{y}<extra></extra>",
         "legendgroup": "TD2012A108",
         "line": {
          "color": "#FFA15A",
          "dash": "solid"
         },
         "marker": {
          "symbol": "circle"
         },
         "mode": "lines+markers",
         "name": "TD2012A108",
         "showlegend": true,
         "type": "scattergl",
         "x": [
          1983,
          1984,
          1985,
          1986,
          1987,
          1988,
          1989,
          1990,
          1991,
          1992,
          1993,
          1994,
          1995,
          1996,
          1997,
          1998,
          1999,
          2000,
          2001,
          2002,
          2003,
          2004,
          2005,
          2006,
          2007,
          2008,
          2009,
          2010,
          2011,
          2012,
          2013,
          2014,
          2015,
          2016,
          2017
         ],
         "xaxis": "x3",
         "y": [
          977.6900622786476,
          null,
          4437.468462241519,
          9763.877617516857,
          7320.858295641497,
          11426.722457036163,
          6095.972300004286,
          6736.993559386784,
          13252.113695661492,
          10731.921009225412,
          6999.624165657491,
          12387.772012581405,
          10383.193868116648,
          null,
          null,
          15510.881609648126,
          null,
          16472.895832250375,
          21791.82881783389,
          16316.37860225066,
          19233.04944911745,
          11893.621312628533,
          23751.357010736327,
          32156.721504878496,
          13703.37047492446,
          21552.393630948965,
          15701.403353407408,
          53905,
          11516.9,
          26247.47456,
          27828.85025,
          29886.85,
          27030.64,
          27469.0143,
          31105.88325
         ],
         "yaxis": "y3"
        },
        {
         "connectgaps": false,
         "hovertemplate": "fnid=TD2012A108<br>indicator=area<br>year=%{x}<br>value=%{y}<extra></extra>",
         "legendgroup": "TD2012A108",
         "line": {
          "color": "#FFA15A",
          "dash": "solid"
         },
         "marker": {
          "symbol": "circle"
         },
         "mode": "lines+markers",
         "name": "TD2012A108",
         "showlegend": false,
         "type": "scattergl",
         "x": [
          1983,
          1984,
          1985,
          1986,
          1987,
          1988,
          1989,
          1990,
          1991,
          1992,
          1993,
          1994,
          1995,
          1996,
          1997,
          1998,
          1999,
          2000,
          2001,
          2002,
          2003,
          2004,
          2005,
          2006,
          2007,
          2008,
          2009,
          2010,
          2011,
          2012,
          2013,
          2014,
          2015,
          2016,
          2017
         ],
         "xaxis": "x2",
         "y": [
          8294.93085645636,
          null,
          8874.936924483038,
          13849.48377071433,
          14641.716591282991,
          18137.911172647953,
          14780.146313963787,
          18208.090701045363,
          18931.590993802132,
          17122.84026191021,
          18427.552456514914,
          26661.95045514396,
          25201.926864360797,
          null,
          null,
          33452.96536972325,
          null,
          27363.986905882277,
          41272.79770060266,
          31930.479586998754,
          34969.18081657719,
          21391.491989175145,
          43184.28547406605,
          42648.171757133285,
          26002.60052167829,
          40060.21120994232,
          34186.83583334286,
          86803,
          31415,
          76554,
          68691,
          85391,
          82160,
          72669.35,
          79758.675
         ],
         "yaxis": "y2"
        },
        {
         "connectgaps": false,
         "hovertemplate": "fnid=TD2012A108<br>indicator=yield<br>year=%{x}<br>value=%{y}<extra></extra>",
         "legendgroup": "TD2012A108",
         "line": {
          "color": "#FFA15A",
          "dash": "solid"
         },
         "marker": {
          "symbol": "circle"
         },
         "mode": "lines+markers",
         "name": "TD2012A108",
         "showlegend": false,
         "type": "scattergl",
         "x": [
          1983,
          1984,
          1985,
          1986,
          1987,
          1988,
          1989,
          1990,
          1991,
          1992,
          1993,
          1994,
          1995,
          1996,
          1997,
          1998,
          1999,
          2000,
          2001,
          2002,
          2003,
          2004,
          2005,
          2006,
          2007,
          2008,
          2009,
          2010,
          2011,
          2012,
          2013,
          2014,
          2015,
          2016,
          2017
         ],
         "xaxis": "x",
         "y": [
          0.1178659688908271,
          null,
          0.5,
          0.7049993905305867,
          0.5,
          0.6299910914917098,
          0.4124432986326404,
          0.37,
          0.7,
          0.6267605633802816,
          0.379845569951577,
          0.4646236228449445,
          0.412,
          null,
          null,
          0.4636623820406162,
          null,
          0.6019918036398889,
          0.5279949514426954,
          0.5109969788519637,
          0.5499999999999999,
          0.5559977452085683,
          0.55,
          0.754,
          0.527,
          0.5379999999999999,
          0.4592821467874376,
          0.6210038823542965,
          0.3666051249403151,
          0.3428622222222222,
          0.4051309523809523,
          0.35,
          0.329,
          0.3779999999999999,
          0.3899999999999999
         ],
         "yaxis": "y"
        },
        {
         "connectgaps": false,
         "hovertemplate": "fnid=TD2012A109<br>indicator=production<br>year=%{x}<br>value=%{y}<extra></extra>",
         "legendgroup": "TD2012A109",
         "line": {
          "color": "#19d3f3",
          "dash": "solid"
         },
         "marker": {
          "symbol": "circle"
         },
         "mode": "lines+markers",
         "name": "TD2012A109",
         "showlegend": true,
         "type": "scattergl",
         "x": [
          1983,
          1984,
          1985,
          1986,
          1987,
          1988,
          1989,
          1990,
          1991,
          1992,
          1993,
          1994,
          1995,
          1996,
          1997,
          1998,
          1999,
          2000,
          2001,
          2002,
          2003,
          2004,
          2005,
          2006,
          2007,
          2008,
          2009,
          2010,
          2011,
          2012,
          2013,
          2014,
          2015,
          2016,
          2017
         ],
         "xaxis": "x3",
         "y": [
          1678.6107546451617,
          null,
          9062.580990643544,
          1513.625305841138,
          631.7664632900547,
          2184.314392616649,
          258.80639944433966,
          1664.3778550124202,
          424.0823155878069,
          3171.9033467252407,
          2033.2713761059233,
          2155.2676586722787,
          1203.696654654707,
          null,
          null,
          5402.692513652883,
          null,
          1725.3759962955978,
          2695.536910037567,
          723.2636752148213,
          4647.477431099253,
          1655.0829001502216,
          4240.823155878069,
          2272.6164638075347,
          7755.756811792745,
          7836.214522014615,
          2524.509740573115,
          14945,
          779.433,
          25165.1335,
          3076.042,
          2293.083,
          4162.494,
          7749.67495268,
          5703.5
         ],
         "yaxis": "y3"
        },
        {
         "connectgaps": false,
         "hovertemplate": "fnid=TD2012A109<br>indicator=area<br>year=%{x}<br>value=%{y}<extra></extra>",
         "legendgroup": "TD2012A109",
         "line": {
          "color": "#19d3f3",
          "dash": "solid"
         },
         "marker": {
          "symbol": "circle"
         },
         "mode": "lines+markers",
         "name": "TD2012A109",
         "showlegend": false,
         "type": "scattergl",
         "x": [
          1983,
          1984,
          1985,
          1986,
          1987,
          1988,
          1989,
          1990,
          1991,
          1992,
          1993,
          1994,
          1995,
          1996,
          1997,
          1998,
          1999,
          2000,
          2001,
          2002,
          2003,
          2004,
          2005,
          2006,
          2007,
          2008,
          2009,
          2010,
          2011,
          2012,
          2013,
          2014,
          2015,
          2016,
          2017
         ],
         "xaxis": "x2",
         "y": [
          13681.011687798427,
          null,
          26374.434421488266,
          10090.835372274254,
          4211.776421933699,
          8213.5449574496,
          6468.998116750718,
          11095.852366749468,
          3195.1407338807367,
          10573.011155750804,
          10166.356880529616,
          10776.338293361394,
          10747.291559417024,
          null,
          null,
          18008.975045509607,
          null,
          11502.506641970653,
          6573.275891611007,
          7232.636752148213,
          11618.693577748134,
          10747.291559417024,
          10602.057889695172,
          11363.082319037674,
          27118.030810464144,
          28187.822021635304,
          11270.13277041569,
          30131,
          8959,
          46150,
          8714,
          16263,
          14973,
          20954,
          18700
         ],
         "yaxis": "y2"
        },
        {
         "connectgaps": false,
         "hovertemplate": "fnid=TD2012A109<br>indicator=yield<br>year=%{x}<br>value=%{y}<extra></extra>",
         "legendgroup": "TD2012A109",
         "line": {
          "color": "#19d3f3",
          "dash": "solid"
         },
         "marker": {
          "symbol": "circle"
         },
         "mode": "lines+markers",
         "name": "TD2012A109",
         "showlegend": false,
         "type": "scattergl",
         "x": [
          1983,
          1984,
          1985,
          1986,
          1987,
          1988,
          1989,
          1990,
          1991,
          1992,
          1993,
          1994,
          1995,
          1996,
          1997,
          1998,
          1999,
          2000,
          2001,
          2002,
          2003,
          2004,
          2005,
          2006,
          2007,
          2008,
          2009,
          2010,
          2011,
          2012,
          2013,
          2014,
          2015,
          2016,
          2017
         ],
         "xaxis": "x",
         "y": [
          0.1226963906581741,
          null,
          0.3436123348017621,
          0.15,
          0.15,
          0.2659405170279732,
          0.0400071842306138,
          0.15,
          0.1327272727272727,
          0.3,
          0.2,
          0.1999999999999999,
          0.1119999999999999,
          null,
          null,
          0.3,
          null,
          0.15,
          0.410075121520106,
          0.0999999999999999,
          0.3999999999999999,
          0.1539999999999999,
          0.4,
          0.1999999999999999,
          0.286,
          0.278,
          0.224,
          0.4960007965218546,
          0.087,
          0.54529,
          0.353,
          0.141,
          0.2779999999999999,
          0.3698422712933091,
          0.305
         ],
         "yaxis": "y"
        },
        {
         "connectgaps": false,
         "hovertemplate": "fnid=TD2012A110<br>indicator=production<br>year=%{x}<br>value=%{y}<extra></extra>",
         "legendgroup": "TD2012A110",
         "line": {
          "color": "#FF6692",
          "dash": "solid"
         },
         "marker": {
          "symbol": "circle"
         },
         "mode": "lines+markers",
         "name": "TD2012A110",
         "showlegend": true,
         "type": "scattergl",
         "x": [
          1983,
          1984,
          1985,
          1986,
          1987,
          1988,
          1989,
          1990,
          1991,
          1992,
          1993,
          1994,
          1995,
          1996,
          1997,
          1998,
          1999,
          2000,
          2001,
          2002,
          2003,
          2004,
          2005,
          2006,
          2007,
          2008,
          2009,
          2010,
          2011,
          2012,
          2013,
          2014,
          2015,
          2016,
          2017
         ],
         "xaxis": "x3",
         "y": [
          null,
          null,
          null,
          null,
          null,
          43150,
          4423,
          780,
          9780,
          38481,
          11150,
          37748,
          4510,
          null,
          null,
          34192,
          null,
          3290,
          29186,
          5627,
          40025,
          10024,
          31791,
          35037,
          39668.5,
          15554.336,
          15446,
          42502,
          7568.5,
          25435.375,
          26301.08,
          25461,
          47368.2,
          58003.7634714,
          40810.1974056
         ],
         "yaxis": "y3"
        },
        {
         "connectgaps": false,
         "hovertemplate": "fnid=TD2012A110<br>indicator=area<br>year=%{x}<br>value=%{y}<extra></extra>",
         "legendgroup": "TD2012A110",
         "line": {
          "color": "#FF6692",
          "dash": "solid"
         },
         "marker": {
          "symbol": "circle"
         },
         "mode": "lines+markers",
         "name": "TD2012A110",
         "showlegend": false,
         "type": "scattergl",
         "x": [
          1983,
          1984,
          1985,
          1986,
          1987,
          1988,
          1989,
          1990,
          1991,
          1992,
          1993,
          1994,
          1995,
          1996,
          1997,
          1998,
          1999,
          2000,
          2001,
          2002,
          2003,
          2004,
          2005,
          2006,
          2007,
          2008,
          2009,
          2010,
          2011,
          2012,
          2013,
          2014,
          2015,
          2016,
          2017
         ],
         "xaxis": "x2",
         "y": [
          null,
          null,
          null,
          null,
          null,
          63845,
          55651,
          31049,
          30700,
          58963,
          39190,
          62913,
          61548,
          null,
          null,
          54017,
          null,
          14630,
          54150,
          16900,
          67328,
          35800,
          63582,
          70074,
          79337,
          69439,
          77230,
          85003,
          15137,
          29069,
          50579,
          50922,
          78947,
          76759,
          66901.96296
         ],
         "yaxis": "y2"
        },
        {
         "connectgaps": false,
         "hovertemplate": "fnid=TD2012A110<br>indicator=yield<br>year=%{x}<br>value=%{y}<extra></extra>",
         "legendgroup": "TD2012A110",
         "line": {
          "color": "#FF6692",
          "dash": "solid"
         },
         "marker": {
          "symbol": "circle"
         },
         "mode": "lines+markers",
         "name": "TD2012A110",
         "showlegend": false,
         "type": "scattergl",
         "x": [
          1983,
          1984,
          1985,
          1986,
          1987,
          1988,
          1989,
          1990,
          1991,
          1992,
          1993,
          1994,
          1995,
          1996,
          1997,
          1998,
          1999,
          2000,
          2001,
          2002,
          2003,
          2004,
          2005,
          2006,
          2007,
          2008,
          2009,
          2010,
          2011,
          2012,
          2013,
          2014,
          2015,
          2016,
          2017
         ],
         "xaxis": "x",
         "y": [
          null,
          null,
          null,
          null,
          null,
          0.6758555877515858,
          0.0794774577276239,
          0.0251215820155238,
          0.3185667752442996,
          0.6526296151824025,
          0.284511354937484,
          0.6000031789932129,
          0.0732761421979593,
          null,
          null,
          0.632985911842568,
          null,
          0.2248803827751196,
          0.5389843028624192,
          0.3329585798816568,
          0.594477780418251,
          0.28,
          0.5,
          0.5,
          0.5,
          0.2239999999999999,
          0.2,
          0.500005882145336,
          0.5,
          0.875,
          0.52,
          0.5,
          0.6,
          0.7556607495068982,
          0.61
         ],
         "yaxis": "y"
        },
        {
         "connectgaps": false,
         "hovertemplate": "fnid=TD2012A111<br>indicator=production<br>year=%{x}<br>value=%{y}<extra></extra>",
         "legendgroup": "TD2012A111",
         "line": {
          "color": "#B6E880",
          "dash": "solid"
         },
         "marker": {
          "symbol": "circle"
         },
         "mode": "lines+markers",
         "name": "TD2012A111",
         "showlegend": true,
         "type": "scattergl",
         "x": [
          1983,
          1984,
          1985,
          1986,
          1987,
          1988,
          1989,
          1990,
          1991,
          1992,
          1993,
          1994,
          1995,
          1996,
          1997,
          1998,
          1999,
          2000,
          2001,
          2002,
          2003,
          2004,
          2005,
          2006,
          2007,
          2008,
          2009,
          2010,
          2011,
          2012,
          2013,
          2014,
          2015,
          2016,
          2017
         ],
         "xaxis": "x3",
         "y": [
          8445,
          10660,
          14385,
          14276,
          12697,
          13669,
          8235,
          13939,
          5540,
          14496,
          8670,
          13456,
          12537,
          null,
          null,
          13217,
          null,
          10681,
          16669,
          5943,
          14144,
          8710,
          35215.72,
          18012.765,
          51117.885,
          13694,
          12929,
          13179,
          11443.262,
          12141.41785714,
          12024.07112903,
          16061.265,
          10220.859,
          16156.13537507,
          17595.85905
         ],
         "yaxis": "y3"
        },
        {
         "connectgaps": false,
         "hovertemplate": "fnid=TD2012A111<br>indicator=area<br>year=%{x}<br>value=%{y}<extra></extra>",
         "legendgroup": "TD2012A111",
         "line": {
          "color": "#B6E880",
          "dash": "solid"
         },
         "marker": {
          "symbol": "circle"
         },
         "mode": "lines+markers",
         "name": "TD2012A111",
         "showlegend": false,
         "type": "scattergl",
         "x": [
          1983,
          1984,
          1985,
          1986,
          1987,
          1988,
          1989,
          1990,
          1991,
          1992,
          1993,
          1994,
          1995,
          1996,
          1997,
          1998,
          1999,
          2000,
          2001,
          2002,
          2003,
          2004,
          2005,
          2006,
          2007,
          2008,
          2009,
          2010,
          2011,
          2012,
          2013,
          2014,
          2015,
          2016,
          2017
         ],
         "xaxis": "x2",
         "y": [
          16765,
          21756,
          24120,
          29504,
          25234,
          22605,
          23196,
          26300,
          27000,
          24000,
          28900,
          22242,
          27985,
          null,
          null,
          23188,
          null,
          34234,
          34656,
          15600,
          28289,
          17420,
          42946,
          31881,
          77805,
          16700,
          21514,
          24633,
          22062,
          22755,
          23599,
          22599,
          18219,
          27147,
          25501.245
         ],
         "yaxis": "y2"
        },
        {
         "connectgaps": false,
         "hovertemplate": "fnid=TD2012A111<br>indicator=yield<br>year=%{x}<br>value=%{y}<extra></extra>",
         "legendgroup": "TD2012A111",
         "line": {
          "color": "#B6E880",
          "dash": "solid"
         },
         "marker": {
          "symbol": "circle"
         },
         "mode": "lines+markers",
         "name": "TD2012A111",
         "showlegend": false,
         "type": "scattergl",
         "x": [
          1983,
          1984,
          1985,
          1986,
          1987,
          1988,
          1989,
          1990,
          1991,
          1992,
          1993,
          1994,
          1995,
          1996,
          1997,
          1998,
          1999,
          2000,
          2001,
          2002,
          2003,
          2004,
          2005,
          2006,
          2007,
          2008,
          2009,
          2010,
          2011,
          2012,
          2013,
          2014,
          2015,
          2016,
          2017
         ],
         "xaxis": "x",
         "y": [
          0.5037280047718461,
          0.4899797756940614,
          0.5963930348258707,
          0.4838665943600868,
          0.5031703257509709,
          0.6046892280468923,
          0.3550181065700983,
          0.53,
          0.2051851851851852,
          0.604,
          0.3,
          0.6049815664058987,
          0.4479899946399857,
          null,
          null,
          0.5699930998792478,
          null,
          0.3119997663141906,
          0.4809845337026777,
          0.3809615384615384,
          0.4999823252854466,
          0.5,
          0.8200000000000001,
          0.565,
          0.657,
          0.82,
          0.6009575160360695,
          0.5350140056022409,
          0.5186865198078143,
          0.533571428571303,
          0.5095161290321624,
          0.7107068896853843,
          0.561,
          0.5951352037083287,
          0.69
         ],
         "yaxis": "y"
        },
        {
         "connectgaps": false,
         "hovertemplate": "fnid=TD2012A112<br>indicator=production<br>year=%{x}<br>value=%{y}<extra></extra>",
         "legendgroup": "TD2012A112",
         "line": {
          "color": "#FF97FF",
          "dash": "solid"
         },
         "marker": {
          "symbol": "circle"
         },
         "mode": "lines+markers",
         "name": "TD2012A112",
         "showlegend": true,
         "type": "scattergl",
         "x": [
          1983,
          1984,
          1985,
          1986,
          1987,
          1988,
          1989,
          1990,
          1991,
          1992,
          1993,
          1994,
          1995,
          1996,
          1997,
          1998,
          1999,
          2000,
          2001,
          2002,
          2003,
          2004,
          2005,
          2006,
          2007,
          2008,
          2009,
          2010,
          2011,
          2012,
          2013,
          2014,
          2015,
          2016,
          2017
         ],
         "xaxis": "x3",
         "y": [
          12449,
          16544,
          22888,
          24389,
          25596,
          21985,
          15988,
          28000,
          15480,
          24360,
          20760,
          10459,
          9938,
          null,
          null,
          21132,
          null,
          10144,
          15447,
          19428,
          32241,
          25494.48,
          16323.6,
          18568,
          20343.96,
          15995.2,
          9689,
          15057,
          16025.543,
          29037.372,
          16621.35,
          16793.962,
          19246.171,
          24923.4277737,
          23373.72414
         ],
         "yaxis": "y3"
        },
        {
         "connectgaps": false,
         "hovertemplate": "fnid=TD2012A112<br>indicator=area<br>year=%{x}<br>value=%{y}<extra></extra>",
         "legendgroup": "TD2012A112",
         "line": {
          "color": "#FF97FF",
          "dash": "solid"
         },
         "marker": {
          "symbol": "circle"
         },
         "mode": "lines+markers",
         "name": "TD2012A112",
         "showlegend": false,
         "type": "scattergl",
         "x": [
          1983,
          1984,
          1985,
          1986,
          1987,
          1988,
          1989,
          1990,
          1991,
          1992,
          1993,
          1994,
          1995,
          1996,
          1997,
          1998,
          1999,
          2000,
          2001,
          2002,
          2003,
          2004,
          2005,
          2006,
          2007,
          2008,
          2009,
          2010,
          2011,
          2012,
          2013,
          2014,
          2015,
          2016,
          2017
         ],
         "xaxis": "x2",
         "y": [
          19469,
          24037,
          30032,
          35122,
          37660,
          50434,
          32898,
          40000,
          41500,
          35000,
          34800,
          23989,
          20406,
          null,
          null,
          26283,
          null,
          20089,
          23846,
          30500,
          39228,
          36630,
          27206,
          26375,
          25272,
          20800,
          19236,
          22849,
          22611,
          26591,
          22926,
          24534,
          20069,
          29789,
          27178.749
         ],
         "yaxis": "y2"
        },
        {
         "connectgaps": false,
         "hovertemplate": "fnid=TD2012A112<br>indicator=yield<br>year=%{x}<br>value=%{y}<extra></extra>",
         "legendgroup": "TD2012A112",
         "line": {
          "color": "#FF97FF",
          "dash": "solid"
         },
         "marker": {
          "symbol": "circle"
         },
         "mode": "lines+markers",
         "name": "TD2012A112",
         "showlegend": false,
         "type": "scattergl",
         "x": [
          1983,
          1984,
          1985,
          1986,
          1987,
          1988,
          1989,
          1990,
          1991,
          1992,
          1993,
          1994,
          1995,
          1996,
          1997,
          1998,
          1999,
          2000,
          2001,
          2002,
          2003,
          2004,
          2005,
          2006,
          2007,
          2008,
          2009,
          2010,
          2011,
          2012,
          2013,
          2014,
          2015,
          2016,
          2017
         ],
         "xaxis": "x",
         "y": [
          0.6394267810365196,
          0.6882722469526147,
          0.7621204049014385,
          0.6944080633221342,
          0.6796601168348381,
          0.4359162469762462,
          0.485986990090583,
          0.7,
          0.373012048192771,
          0.696,
          0.596551724137931,
          0.4359914961023802,
          0.487013623444085,
          null,
          null,
          0.8040178061865084,
          null,
          0.5049529593309772,
          0.6477815985909586,
          0.6369836065573771,
          0.8218874273478128,
          0.696,
          0.6,
          0.704,
          0.8049999999999999,
          0.769,
          0.5036909960490746,
          0.6589785110945774,
          0.7087498562646499,
          1.092,
          0.725,
          0.6845178935355017,
          0.959,
          0.8366654729497466,
          0.86
         ],
         "yaxis": "y"
        },
        {
         "connectgaps": false,
         "hovertemplate": "fnid=TD2012A113<br>indicator=production<br>year=%{x}<br>value=%{y}<extra></extra>",
         "legendgroup": "TD2012A113",
         "line": {
          "color": "#FECB52",
          "dash": "solid"
         },
         "marker": {
          "symbol": "circle"
         },
         "mode": "lines+markers",
         "name": "TD2012A113",
         "showlegend": true,
         "type": "scattergl",
         "x": [
          1983,
          1984,
          1985,
          1986,
          1987,
          1988,
          1989,
          1990,
          1991,
          1992,
          1993,
          1994,
          1995,
          1996,
          1997,
          1998,
          1999,
          2000,
          2001,
          2002,
          2003,
          2004,
          2005,
          2006,
          2007,
          2008,
          2009,
          2010,
          2011,
          2012,
          2013,
          2014,
          2015,
          2016,
          2017
         ],
         "xaxis": "x3",
         "y": [
          18032.107779851165,
          20163.105217056334,
          36626.474798296294,
          33456.86930172564,
          23382.999738693783,
          26521.873053279174,
          16072.232719609374,
          21506.93972022997,
          17049.37641500434,
          24856.74755662328,
          21456.65069516318,
          29245.163452382083,
          19154.530880994633,
          null,
          null,
          17606.04798414643,
          null,
          18222.08854121459,
          14026.44724154515,
          34130.183470675416,
          32212.914390004094,
          35697.373186389785,
          30566.486632251508,
          41773.60959674191,
          26707.998322720818,
          28534.830973313692,
          28229.604529505545,
          11382,
          22542,
          19008.83221622,
          42627.9696669,
          22290.967,
          29491.956,
          29958.79285207,
          25142.21518066
         ],
         "yaxis": "y3"
        },
        {
         "connectgaps": false,
         "hovertemplate": "fnid=TD2012A113<br>indicator=area<br>year=%{x}<br>value=%{y}<extra></extra>",
         "legendgroup": "TD2012A113",
         "line": {
          "color": "#FECB52",
          "dash": "solid"
         },
         "marker": {
          "symbol": "circle"
         },
         "mode": "lines+markers",
         "name": "TD2012A113",
         "showlegend": false,
         "type": "scattergl",
         "x": [
          1983,
          1984,
          1985,
          1986,
          1987,
          1988,
          1989,
          1990,
          1991,
          1992,
          1993,
          1994,
          1995,
          1996,
          1997,
          1998,
          1999,
          2000,
          2001,
          2002,
          2003,
          2004,
          2005,
          2006,
          2007,
          2008,
          2009,
          2010,
          2011,
          2012,
          2013,
          2014,
          2015,
          2016,
          2017
         ],
         "xaxis": "x2",
         "y": [
          28823.992867447727,
          36118.69533685802,
          44163.542430181245,
          43657.15988610595,
          37315.853516920186,
          39540.4444174441,
          32016.647500507326,
          33037.09563415425,
          38666.67260690865,
          43304.43825195694,
          44701.3556149233,
          43584.520183231696,
          32967.94822468741,
          null,
          null,
          26515.586925145828,
          null,
          30472.355355748023,
          26375.895188849194,
          52915.22970916545,
          49016.43334912636,
          47032.112235032655,
          46524.33277359438,
          61072.52865020747,
          42393.64813130288,
          43234.592383808624,
          54037.652810308915,
          35905,
          39003,
          41246,
          88076.2,
          37615,
          42804,
          50458.8,
          44575.38
         ],
         "yaxis": "y2"
        },
        {
         "connectgaps": false,
         "hovertemplate": "fnid=TD2012A113<br>indicator=yield<br>year=%{x}<br>value=%{y}<extra></extra>",
         "legendgroup": "TD2012A113",
         "line": {
          "color": "#FECB52",
          "dash": "solid"
         },
         "marker": {
          "symbol": "circle"
         },
         "mode": "lines+markers",
         "name": "TD2012A113",
         "showlegend": false,
         "type": "scattergl",
         "x": [
          1983,
          1984,
          1985,
          1986,
          1987,
          1988,
          1989,
          1990,
          1991,
          1992,
          1993,
          1994,
          1995,
          1996,
          1997,
          1998,
          1999,
          2000,
          2001,
          2002,
          2003,
          2004,
          2005,
          2006,
          2007,
          2008,
          2009,
          2010,
          2011,
          2012,
          2013,
          2014,
          2015,
          2016,
          2017
         ],
         "xaxis": "x",
         "y": [
          0.6255936803334302,
          0.5582456683168316,
          0.8293373398703149,
          0.7663546916246701,
          0.6266237412495789,
          0.6707530338626769,
          0.5019961168437357,
          0.6509936575052854,
          0.4409320809248555,
          0.574,
          0.48,
          0.6709988621977212,
          0.5810046397322092,
          null,
          null,
          0.6639886204989068,
          null,
          0.5979875309434308,
          0.5317903768238752,
          0.6449973600844773,
          0.657186012710536,
          0.759,
          0.657,
          0.684,
          0.6300000000000001,
          0.66,
          0.5224061938552613,
          0.3170032028965325,
          0.5779555418813938,
          0.4608648648649565,
          0.4839896551724529,
          0.5926084540741725,
          0.689,
          0.5937278106508677,
          0.56403815695256
         ],
         "yaxis": "y"
        },
        {
         "connectgaps": false,
         "hovertemplate": "fnid=TD2012A114<br>indicator=production<br>year=%{x}<br>value=%{y}<extra></extra>",
         "legendgroup": "TD2012A114",
         "line": {
          "color": "#636efa",
          "dash": "solid"
         },
         "marker": {
          "symbol": "circle"
         },
         "mode": "lines+markers",
         "name": "TD2012A114",
         "showlegend": true,
         "type": "scattergl",
         "x": [
          1983,
          1984,
          1985,
          1986,
          1987,
          1988,
          1989,
          1990,
          1991,
          1992,
          1993,
          1994,
          1995,
          1996,
          1997,
          1998,
          1999,
          2000,
          2001,
          2002,
          2003,
          2004,
          2005,
          2006,
          2007,
          2008,
          2009,
          2010,
          2011,
          2012,
          2013,
          2014,
          2015,
          2016,
          2017
         ],
         "xaxis": "x3",
         "y": [
          13070.741937937864,
          14297.264878450364,
          21994.298328443012,
          16931.298628468034,
          16455.914182873574,
          15447.66416591016,
          9080.46432843012,
          12375.53102485446,
          11247.658124522508,
          7512.938493120283,
          23373.06857506093,
          22813.79275671451,
          18100.34044320604,
          null,
          null,
          7949.484340218463,
          null,
          11225.908509364592,
          33154.95799233385,
          5442.064421298667,
          17933.33446967204,
          32935.007241329724,
          41721.97604864316,
          35496.61477287153,
          36530.9526764449,
          10932.28870473272,
          15420.477146962765,
          19319,
          12206.362,
          10867.392,
          18715.95,
          18142.677,
          14004.352,
          16451.87029377,
          19054.562625
         ],
         "yaxis": "y3"
        },
        {
         "connectgaps": false,
         "hovertemplate": "fnid=TD2012A114<br>indicator=area<br>year=%{x}<br>value=%{y}<extra></extra>",
         "legendgroup": "TD2012A114",
         "line": {
          "color": "#636efa",
          "dash": "solid"
         },
         "marker": {
          "symbol": "circle"
         },
         "mode": "lines+markers",
         "name": "TD2012A114",
         "showlegend": false,
         "type": "scattergl",
         "x": [
          1983,
          1984,
          1985,
          1986,
          1987,
          1988,
          1989,
          1990,
          1991,
          1992,
          1993,
          1994,
          1995,
          1996,
          1997,
          1998,
          1999,
          2000,
          2001,
          2002,
          2003,
          2004,
          2005,
          2006,
          2007,
          2008,
          2009,
          2010,
          2011,
          2012,
          2013,
          2014,
          2015,
          2016,
          2017
         ],
         "xaxis": "x2",
         "y": [
          23234.803164414177,
          29079.235466134294,
          33906.096487251896,
          31139.234730376957,
          28865.62317440476,
          17505.333114243043,
          17395.808266483535,
          19186.267657162018,
          20662.13440002063,
          12039.965533846607,
          31164.091433414575,
          25866.506598522068,
          24166.152756354957,
          null,
          null,
          9033.081238264658,
          null,
          21926.719167059488,
          48873.71557574805,
          13438.155079712666,
          22398.21975280432,
          39208.34195396396,
          52152.47006080395,
          44370.768466089416,
          42330.1885010949,
          17632.72371731084,
          32441.10455197224,
          34437,
          19621,
          18867,
          34029,
          27856,
          23656,
          24475.1,
          25924.575
         ],
         "yaxis": "y2"
        },
        {
         "connectgaps": false,
         "hovertemplate": "fnid=TD2012A114<br>indicator=yield<br>year=%{x}<br>value=%{y}<extra></extra>",
         "legendgroup": "TD2012A114",
         "line": {
          "color": "#636efa",
          "dash": "solid"
         },
         "marker": {
          "symbol": "circle"
         },
         "mode": "lines+markers",
         "name": "TD2012A114",
         "showlegend": false,
         "type": "scattergl",
         "x": [
          1983,
          1984,
          1985,
          1986,
          1987,
          1988,
          1989,
          1990,
          1991,
          1992,
          1993,
          1994,
          1995,
          1996,
          1997,
          1998,
          1999,
          2000,
          2001,
          2002,
          2003,
          2004,
          2005,
          2006,
          2007,
          2008,
          2009,
          2010,
          2011,
          2012,
          2013,
          2014,
          2015,
          2016,
          2017
         ],
         "xaxis": "x",
         "y": [
          0.5625501470981545,
          0.4916657762581472,
          0.6486827033218786,
          0.5437287966473758,
          0.5700869190818331,
          0.882454739084132,
          0.5219915159633848,
          0.6450202429149797,
          0.544360902255639,
          0.624,
          0.75,
          0.881981981981982,
          0.7489955321269004,
          null,
          null,
          0.8800412761200447,
          null,
          0.5119739265977044,
          0.6783801395444936,
          0.404971098265896,
          0.8006589214496272,
          0.84,
          0.8,
          0.7999999999999999,
          0.863,
          0.62,
          0.47533761133991,
          0.5609954409501409,
          0.6221070281840885,
          0.576,
          0.55,
          0.6513023047099368,
          0.5920000000000001,
          0.6721880725214606,
          0.7349999999999999
         ],
         "yaxis": "y"
        },
        {
         "connectgaps": false,
         "hovertemplate": "fnid=TD2012A115<br>indicator=production<br>year=%{x}<br>value=%{y}<extra></extra>",
         "legendgroup": "TD2012A115",
         "line": {
          "color": "#EF553B",
          "dash": "solid"
         },
         "marker": {
          "symbol": "circle"
         },
         "mode": "lines+markers",
         "name": "TD2012A115",
         "showlegend": true,
         "type": "scattergl",
         "x": [
          1983,
          1984,
          1985,
          1986,
          1987,
          1988,
          1989,
          1990,
          1991,
          1992,
          1993,
          1994,
          1995,
          1996,
          1997,
          1998,
          1999,
          2000,
          2001,
          2002,
          2003,
          2004,
          2005,
          2006,
          2007,
          2008,
          2009,
          2010,
          2011,
          2012,
          2013,
          2014,
          2015,
          2016,
          2017
         ],
         "xaxis": "x3",
         "y": [
          3756.2580620621343,
          4108.735121549632,
          6320.701671556983,
          4865.701371531964,
          4729.0858171264235,
          4439.335834089837,
          2609.535671569879,
          3556.468975145536,
          3232.3418754774893,
          2159.061506879715,
          6716.9314249390645,
          6556.2072432854875,
          5201.659556793954,
          null,
          null,
          2284.515659781535,
          null,
          3226.091490635406,
          9528.042007666138,
          1563.935578701332,
          5153.665530327956,
          9464.832758670267,
          11990.02395135683,
          10200.985227128462,
          10498.232323555098,
          3141.711295267278,
          4431.522853037232,
          11448,
          7514.208,
          2829.633,
          2288,
          6304.2,
          4577.853,
          5537.12544,
          6113.585475
         ],
         "yaxis": "y3"
        },
        {
         "connectgaps": false,
         "hovertemplate": "fnid=TD2012A115<br>indicator=area<br>year=%{x}<br>value=%{y}<extra></extra>",
         "legendgroup": "TD2012A115",
         "line": {
          "color": "#EF553B",
          "dash": "solid"
         },
         "marker": {
          "symbol": "circle"
         },
         "mode": "lines+markers",
         "name": "TD2012A115",
         "showlegend": false,
         "type": "scattergl",
         "x": [
          1983,
          1984,
          1985,
          1986,
          1987,
          1988,
          1989,
          1990,
          1991,
          1992,
          1993,
          1994,
          1995,
          1996,
          1997,
          1998,
          1999,
          2000,
          2001,
          2002,
          2003,
          2004,
          2005,
          2006,
          2007,
          2008,
          2009,
          2010,
          2011,
          2012,
          2013,
          2014,
          2015,
          2016,
          2017
         ],
         "xaxis": "x2",
         "y": [
          6677.196835585819,
          8356.764533865697,
          9743.903512748097,
          8948.765269623038,
          8295.376825595233,
          5030.666885756955,
          4999.191733516463,
          5513.732342837982,
          5937.8655999793655,
          3460.03446615339,
          8955.90856658542,
          7433.493401477928,
          6944.847243645039,
          null,
          null,
          2595.91876173534,
          null,
          6301.280832940509,
          14045.284424251944,
          3861.844920287332,
          6436.7802471956775,
          11267.658046036033,
          14987.529939196038,
          12751.231533910575,
          12164.811498905096,
          5067.276282689158,
          9322.895448027752,
          14317,
          11970,
          5763,
          4576,
          10093,
          7517,
          8265.6,
          8206.155
         ],
         "yaxis": "y2"
        },
        {
         "connectgaps": false,
         "hovertemplate": "fnid=TD2012A115<br>indicator=yield<br>year=%{x}<br>value=%{y}<extra></extra>",
         "legendgroup": "TD2012A115",
         "line": {
          "color": "#EF553B",
          "dash": "solid"
         },
         "marker": {
          "symbol": "circle"
         },
         "mode": "lines+markers",
         "name": "TD2012A115",
         "showlegend": false,
         "type": "scattergl",
         "x": [
          1983,
          1984,
          1985,
          1986,
          1987,
          1988,
          1989,
          1990,
          1991,
          1992,
          1993,
          1994,
          1995,
          1996,
          1997,
          1998,
          1999,
          2000,
          2001,
          2002,
          2003,
          2004,
          2005,
          2006,
          2007,
          2008,
          2009,
          2010,
          2011,
          2012,
          2013,
          2014,
          2015,
          2016,
          2017
         ],
         "xaxis": "x",
         "y": [
          0.5625501470981545,
          0.4916657762581473,
          0.6486827033218785,
          0.5437287966473757,
          0.5700869190818332,
          0.8824547390841321,
          0.5219915159633847,
          0.6450202429149797,
          0.5443609022556392,
          0.6239999999999999,
          0.75,
          0.8819819819819819,
          0.7489955321269004,
          null,
          null,
          0.8800412761200447,
          null,
          0.5119739265977045,
          0.6783801395444937,
          0.4049710982658959,
          0.8006589214496271,
          0.84,
          0.8,
          0.8,
          0.863,
          0.62,
          0.47533761133991,
          0.7996088566040371,
          0.6277533834586466,
          0.491,
          0.5,
          0.6246111166154761,
          0.609,
          0.6698999999999999,
          0.7449999999999999
         ],
         "yaxis": "y"
        },
        {
         "connectgaps": false,
         "hovertemplate": "fnid=TD2012A116<br>indicator=production<br>year=%{x}<br>value=%{y}<extra></extra>",
         "legendgroup": "TD2012A116",
         "line": {
          "color": "#00cc96",
          "dash": "solid"
         },
         "marker": {
          "symbol": "circle"
         },
         "mode": "lines+markers",
         "name": "TD2012A116",
         "showlegend": true,
         "type": "scattergl",
         "x": [
          1983,
          1984,
          1985,
          1986,
          1987,
          1988,
          1989,
          1990,
          1991,
          1992,
          1993,
          1994,
          1995,
          1996,
          1997,
          1998,
          1999,
          2000,
          2001,
          2002,
          2003,
          2004,
          2005,
          2006,
          2007,
          2008,
          2009,
          2010,
          2011,
          2012,
          2013,
          2014,
          2015,
          2016,
          2017
         ],
         "xaxis": "x3",
         "y": [
          7784.892220148838,
          8704.894782943666,
          15812.525201703718,
          14444.130698274372,
          10095.000261306224,
          11450.12694672083,
          6938.76728039063,
          9285.060279770036,
          7360.623584995667,
          10731.25244337672,
          9263.349304836824,
          12625.836547617924,
          8269.469119005373,
          null,
          null,
          7600.952015853575,
          null,
          7866.911458785414,
          6055.552758454854,
          14734.81652932459,
          13907.08560999591,
          15411.409813610226,
          13196.283367748496,
          18034.666403258103,
          11530.481677279193,
          12319.169026686315,
          12187.395470494464,
          22147,
          13047,
          13518.212,
          16538.144,
          9835.56,
          12492.678,
          14413.707,
          11267.77455463
         ],
         "yaxis": "y3"
        },
        {
         "connectgaps": false,
         "hovertemplate": "fnid=TD2012A116<br>indicator=area<br>year=%{x}<br>value=%{y}<extra></extra>",
         "legendgroup": "TD2012A116",
         "line": {
          "color": "#00cc96",
          "dash": "solid"
         },
         "marker": {
          "symbol": "circle"
         },
         "mode": "lines+markers",
         "name": "TD2012A116",
         "showlegend": false,
         "type": "scattergl",
         "x": [
          1983,
          1984,
          1985,
          1986,
          1987,
          1988,
          1989,
          1990,
          1991,
          1992,
          1993,
          1994,
          1995,
          1996,
          1997,
          1998,
          1999,
          2000,
          2001,
          2002,
          2003,
          2004,
          2005,
          2006,
          2007,
          2008,
          2009,
          2010,
          2011,
          2012,
          2013,
          2014,
          2015,
          2016,
          2017
         ],
         "xaxis": "x2",
         "y": [
          12444.00713255228,
          15593.304663141987,
          19066.45756981876,
          18847.840113894064,
          16110.146483079823,
          17070.555582555906,
          13822.35249949268,
          14262.90436584576,
          16693.32739309136,
          18695.56174804307,
          19298.644385076717,
          18816.479816768315,
          14233.051775312597,
          null,
          null,
          11447.413074854176,
          null,
          13155.644644251985,
          11387.104811150812,
          22844.770290834564,
          21161.566650873658,
          20304.887764967356,
          20085.667226405625,
          26366.471349792548,
          18302.351868697133,
          18665.407616191387,
          23329.3471896911,
          34987,
          20368,
          27532,
          23392,
          14109,
          19581,
          23110,
          19563.255
         ],
         "yaxis": "y2"
        },
        {
         "connectgaps": false,
         "hovertemplate": "fnid=TD2012A116<br>indicator=yield<br>year=%{x}<br>value=%{y}<extra></extra>",
         "legendgroup": "TD2012A116",
         "line": {
          "color": "#00cc96",
          "dash": "solid"
         },
         "marker": {
          "symbol": "circle"
         },
         "mode": "lines+markers",
         "name": "TD2012A116",
         "showlegend": false,
         "type": "scattergl",
         "x": [
          1983,
          1984,
          1985,
          1986,
          1987,
          1988,
          1989,
          1990,
          1991,
          1992,
          1993,
          1994,
          1995,
          1996,
          1997,
          1998,
          1999,
          2000,
          2001,
          2002,
          2003,
          2004,
          2005,
          2006,
          2007,
          2008,
          2009,
          2010,
          2011,
          2012,
          2013,
          2014,
          2015,
          2016,
          2017
         ],
         "xaxis": "x",
         "y": [
          0.6255936803334303,
          0.5582456683168316,
          0.8293373398703148,
          0.7663546916246701,
          0.6266237412495789,
          0.6707530338626769,
          0.5019961168437357,
          0.6509936575052855,
          0.4409320809248555,
          0.574,
          0.48,
          0.6709988621977212,
          0.5810046397322091,
          null,
          null,
          0.6639886204989068,
          null,
          0.5979875309434308,
          0.5317903768238752,
          0.6449973600844773,
          0.657186012710536,
          0.7590000000000001,
          0.657,
          0.684,
          0.63,
          0.66,
          0.5224061938552612,
          0.63300654528825,
          0.6405636292223095,
          0.491,
          0.707,
          0.6971124813948543,
          0.638,
          0.6237,
          0.5759662466511835
         ],
         "yaxis": "y"
        },
        {
         "connectgaps": false,
         "hovertemplate": "fnid=TD2012A118<br>indicator=production<br>year=%{x}<br>value=%{y}<extra></extra>",
         "legendgroup": "TD2012A118",
         "line": {
          "color": "#ab63fa",
          "dash": "solid"
         },
         "marker": {
          "symbol": "circle"
         },
         "mode": "lines+markers",
         "name": "TD2012A118",
         "showlegend": true,
         "type": "scattergl",
         "x": [
          1983,
          1984,
          1985,
          1986,
          1987,
          1988,
          1989,
          1990,
          1991,
          1992,
          1993,
          1994,
          1995,
          1996,
          1997,
          1998,
          1999,
          2000,
          2001,
          2002,
          2003,
          2004,
          2005,
          2006,
          2007,
          2008,
          2009,
          2010,
          2011,
          2012,
          2013,
          2014,
          2015,
          2016,
          2017
         ],
         "xaxis": "x3",
         "y": [
          3007.48057141346,
          null,
          14877.08939377234,
          14459.633135352262,
          15338.792168061826,
          30166.505015139315,
          23975.84031654112,
          5735.374462840508,
          27958.66799864112,
          31710.003039743195,
          19237.615595395266,
          30908.43572326839,
          29971.563843772645,
          null,
          null,
          47613.09859860328,
          null,
          25098.675813459024,
          40559.94746747819,
          45099.3834941383,
          59187.73064849943,
          24636.973039169538,
          27920.192767450328,
          52387.87478938039,
          46367.27061264548,
          46785.88112800129,
          35318.97972543935,
          158973,
          61431,
          188048.099,
          111723.08,
          168011.85,
          115723.714,
          148354.79490216,
          150434.186175
         ],
         "yaxis": "y3"
        },
        {
         "connectgaps": false,
         "hovertemplate": "fnid=TD2012A118<br>indicator=area<br>year=%{x}<br>value=%{y}<extra></extra>",
         "legendgroup": "TD2012A118",
         "line": {
          "color": "#ab63fa",
          "dash": "solid"
         },
         "marker": {
          "symbol": "circle"
         },
         "mode": "lines+markers",
         "name": "TD2012A118",
         "showlegend": false,
         "type": "scattergl",
         "x": [
          1983,
          1984,
          1985,
          1986,
          1987,
          1988,
          1989,
          1990,
          1991,
          1992,
          1993,
          1994,
          1995,
          1996,
          1997,
          1998,
          1999,
          2000,
          2001,
          2002,
          2003,
          2004,
          2005,
          2006,
          2007,
          2008,
          2009,
          2010,
          2011,
          2012,
          2013,
          2014,
          2015,
          2016,
          2017
         ],
         "xaxis": "x2",
         "y": [
          20741.35588110199,
          null,
          37192.72348443085,
          28240.81969404025,
          40368.21256537743,
          46401.77006994656,
          53279.85889915355,
          35846.090392753176,
          73744.19311568185,
          73744.19311568185,
          58289.975254047655,
          61816.87144653679,
          68742.41306087909,
          null,
          null,
          105806.88577467397,
          null,
          83106.49937210754,
          104267.87652704232,
          79964.35549152632,
          78874.2239411206,
          72461.68540932216,
          39885.98966778618,
          81856.05435840685,
          72448.86033225857,
          73102.93926250201,
          88424.41757652798,
          248395,
          210380,
          253093,
          192626,
          197661,
          178862,
          222721.84,
          200578.9149
         ],
         "yaxis": "y2"
        },
        {
         "connectgaps": false,
         "hovertemplate": "fnid=TD2012A118<br>indicator=yield<br>year=%{x}<br>value=%{y}<extra></extra>",
         "legendgroup": "TD2012A118",
         "line": {
          "color": "#ab63fa",
          "dash": "solid"
         },
         "marker": {
          "symbol": "circle"
         },
         "mode": "lines+markers",
         "name": "TD2012A118",
         "showlegend": false,
         "type": "scattergl",
         "x": [
          1983,
          1984,
          1985,
          1986,
          1987,
          1988,
          1989,
          1990,
          1991,
          1992,
          1993,
          1994,
          1995,
          1996,
          1997,
          1998,
          1999,
          2000,
          2001,
          2002,
          2003,
          2004,
          2005,
          2006,
          2007,
          2008,
          2009,
          2010,
          2011,
          2012,
          2013,
          2014,
          2015,
          2016,
          2017
         ],
         "xaxis": "x",
         "y": [
          0.1449992270830113,
          null,
          0.4,
          0.5120118074477747,
          0.3799720421908756,
          0.6501153936512762,
          0.449998194663425,
          0.16,
          0.3791304347826087,
          0.43,
          0.33003300330033,
          0.5,
          0.4359981343283582,
          null,
          null,
          0.4499999999999999,
          null,
          0.3020061728395062,
          0.3889975399753997,
          0.5639935846030473,
          0.7504065040650406,
          0.34,
          0.7,
          0.64,
          0.6399999999999999,
          0.64,
          0.3994256416206769,
          0.6400008051691862,
          0.2920001901321418,
          0.743,
          0.58,
          0.85,
          0.647,
          0.666099,
          0.75
         ],
         "yaxis": "y"
        },
        {
         "connectgaps": false,
         "hovertemplate": "fnid=TD2012A119<br>indicator=production<br>year=%{x}<br>value=%{y}<extra></extra>",
         "legendgroup": "TD2012A119",
         "line": {
          "color": "#FFA15A",
          "dash": "solid"
         },
         "marker": {
          "symbol": "circle"
         },
         "mode": "lines+markers",
         "name": "TD2012A119",
         "showlegend": true,
         "type": "scattergl",
         "x": [
          1983,
          1984,
          1985,
          1986,
          1987,
          1988,
          1989,
          1990,
          1991,
          1992,
          1993,
          1994,
          1995,
          1996,
          1997,
          1998,
          1999,
          2000,
          2001,
          2002,
          2003,
          2004,
          2005,
          2006,
          2007,
          2008,
          2009,
          2010,
          2011,
          2012,
          2013,
          2014,
          2015,
          2016,
          2017
         ],
         "xaxis": "x3",
         "y": [
          1257,
          null,
          1800,
          1510,
          2169,
          2360,
          1721,
          4250,
          2660,
          3900,
          3000,
          3086,
          1537,
          null,
          null,
          1340,
          null,
          2155,
          4080,
          5460,
          3425,
          5302,
          4969.74,
          4207.42,
          4008.777,
          2339.353,
          3100,
          2170,
          5106.861,
          6834.114,
          6503.76,
          4642.855,
          4334.83,
          5760.14955975,
          5878.26840744
         ],
         "yaxis": "y3"
        },
        {
         "connectgaps": false,
         "hovertemplate": "fnid=TD2012A119<br>indicator=area<br>year=%{x}<br>value=%{y}<extra></extra>",
         "legendgroup": "TD2012A119",
         "line": {
          "color": "#FFA15A",
          "dash": "solid"
         },
         "marker": {
          "symbol": "circle"
         },
         "mode": "lines+markers",
         "name": "TD2012A119",
         "showlegend": false,
         "type": "scattergl",
         "x": [
          1983,
          1984,
          1985,
          1986,
          1987,
          1988,
          1989,
          1990,
          1991,
          1992,
          1993,
          1994,
          1995,
          1996,
          1997,
          1998,
          1999,
          2000,
          2001,
          2002,
          2003,
          2004,
          2005,
          2006,
          2007,
          2008,
          2009,
          2010,
          2011,
          2012,
          2013,
          2014,
          2015,
          2016,
          2017
         ],
         "xaxis": "x2",
         "y": [
          2831,
          null,
          3950,
          4270,
          6197,
          5077,
          3825,
          8500,
          7000,
          6100,
          5000,
          5065,
          2730,
          null,
          null,
          2200,
          null,
          5390,
          5100,
          7800,
          5031,
          8837,
          6780,
          5740,
          5469,
          3281,
          4349,
          2972,
          7773,
          9198,
          9033,
          6085,
          5930,
          7604,
          7734.563694
         ],
         "yaxis": "y2"
        },
        {
         "connectgaps": false,
         "hovertemplate": "fnid=TD2012A119<br>indicator=yield<br>year=%{x}<br>value=%{y}<extra></extra>",
         "legendgroup": "TD2012A119",
         "line": {
          "color": "#FFA15A",
          "dash": "solid"
         },
         "marker": {
          "symbol": "circle"
         },
         "mode": "lines+markers",
         "name": "TD2012A119",
         "showlegend": false,
         "type": "scattergl",
         "x": [
          1983,
          1984,
          1985,
          1986,
          1987,
          1988,
          1989,
          1990,
          1991,
          1992,
          1993,
          1994,
          1995,
          1996,
          1997,
          1998,
          1999,
          2000,
          2001,
          2002,
          2003,
          2004,
          2005,
          2006,
          2007,
          2008,
          2009,
          2010,
          2011,
          2012,
          2013,
          2014,
          2015,
          2016,
          2017
         ],
         "xaxis": "x",
         "y": [
          0.444012716354645,
          null,
          0.4556962025316455,
          0.3536299765807962,
          0.3500080684202033,
          0.4648414417963364,
          0.4499346405228758,
          0.5,
          0.38,
          0.639344262295082,
          0.6,
          0.609279368213228,
          0.563003663003663,
          null,
          null,
          0.6090909090909091,
          null,
          0.3998144712430426,
          0.8,
          0.7,
          0.6807791691512621,
          0.5999773678850289,
          0.733,
          0.733,
          0.733,
          0.713,
          0.7128075419636698,
          0.7301480484522207,
          0.657,
          0.743,
          0.72,
          0.7629999999999999,
          0.731,
          0.757515723270647,
          0.76
         ],
         "yaxis": "y"
        },
        {
         "connectgaps": false,
         "hovertemplate": "fnid=TD2012A120<br>indicator=production<br>year=%{x}<br>value=%{y}<extra></extra>",
         "legendgroup": "TD2012A120",
         "line": {
          "color": "#19d3f3",
          "dash": "solid"
         },
         "marker": {
          "symbol": "circle"
         },
         "mode": "lines+markers",
         "name": "TD2012A120",
         "showlegend": true,
         "type": "scattergl",
         "x": [
          1983,
          1984,
          1985,
          1986,
          1987,
          1988,
          1989,
          1990,
          1991,
          1992,
          1993,
          1994,
          1995,
          1996,
          1997,
          1998,
          1999,
          2000,
          2001,
          2002,
          2003,
          2004,
          2005,
          2006,
          2007,
          2008,
          2009,
          2010,
          2011,
          2012,
          2013,
          2014,
          2015,
          2016,
          2017
         ],
         "xaxis": "x3",
         "y": [
          1682.51942858654,
          null,
          8322.91060622766,
          8089.366864647737,
          8581.207831938174,
          16876.49498486068,
          13413.159683458878,
          3208.625537159491,
          15641.332001358878,
          17739.9969602568,
          10762.384404604732,
          17291.564276731606,
          16767.436156227355,
          null,
          null,
          26636.901401396713,
          null,
          14041.324186540976,
          22691.0525325218,
          25230.616505861697,
          33112.26935150056,
          13783.02696083046,
          15619.807232549669,
          29308.125210619608,
          25939.92938735451,
          26174.11887199871,
          19759.020274560648,
          94513,
          21575,
          193308.244,
          58761,
          55158.45,
          84231.46,
          90570.718392,
          99671.6096376
         ],
         "yaxis": "y3"
        },
        {
         "connectgaps": false,
         "hovertemplate": "fnid=TD2012A120<br>indicator=area<br>year=%{x}<br>value=%{y}<extra></extra>",
         "legendgroup": "TD2012A120",
         "line": {
          "color": "#19d3f3",
          "dash": "solid"
         },
         "marker": {
          "symbol": "circle"
         },
         "mode": "lines+markers",
         "name": "TD2012A120",
         "showlegend": false,
         "type": "scattergl",
         "x": [
          1983,
          1984,
          1985,
          1986,
          1987,
          1988,
          1989,
          1990,
          1991,
          1992,
          1993,
          1994,
          1995,
          1996,
          1997,
          1998,
          1999,
          2000,
          2001,
          2002,
          2003,
          2004,
          2005,
          2006,
          2007,
          2008,
          2009,
          2010,
          2011,
          2012,
          2013,
          2014,
          2015,
          2016,
          2017
         ],
         "xaxis": "x2",
         "y": [
          11603.644118898002,
          null,
          20807.27651556915,
          15799.180305959748,
          22583.787434622573,
          25959.229930053436,
          29807.14110084645,
          20053.90960724682,
          41255.806884318146,
          41255.806884318146,
          32610.02474595234,
          34583.12855346321,
          38457.58693912091,
          null,
          null,
          59193.11422532603,
          null,
          46493.50062789245,
          58332.12347295765,
          44735.64450847367,
          44125.776058879404,
          40538.31459067783,
          22314.010332213813,
          45793.94564159314,
          40531.13966774142,
          40897.06073749799,
          49468.58242347201,
          180025,
          87836,
          170767,
          97935,
          78444,
          100876,
          131490.59,
          126970.20336
         ],
         "yaxis": "y2"
        },
        {
         "connectgaps": false,
         "hovertemplate": "fnid=TD2012A120<br>indicator=yield<br>year=%{x}<br>value=%{y}<extra></extra>",
         "legendgroup": "TD2012A120",
         "line": {
          "color": "#19d3f3",
          "dash": "solid"
         },
         "marker": {
          "symbol": "circle"
         },
         "mode": "lines+markers",
         "name": "TD2012A120",
         "showlegend": false,
         "type": "scattergl",
         "x": [
          1983,
          1984,
          1985,
          1986,
          1987,
          1988,
          1989,
          1990,
          1991,
          1992,
          1993,
          1994,
          1995,
          1996,
          1997,
          1998,
          1999,
          2000,
          2001,
          2002,
          2003,
          2004,
          2005,
          2006,
          2007,
          2008,
          2009,
          2010,
          2011,
          2012,
          2013,
          2014,
          2015,
          2016,
          2017
         ],
         "xaxis": "x",
         "y": [
          0.1449992270830113,
          null,
          0.4000000000000001,
          0.5120118074477747,
          0.3799720421908756,
          0.6501153936512762,
          0.449998194663425,
          0.16,
          0.3791304347826086,
          0.43,
          0.33003300330033,
          0.5,
          0.4359981343283582,
          null,
          null,
          0.4499999999999999,
          null,
          0.3020061728395061,
          0.3889975399753997,
          0.5639935846030474,
          0.7504065040650406,
          0.3399999999999999,
          0.7,
          0.6399999999999999,
          0.64,
          0.64,
          0.3994256416206769,
          0.5249993056519928,
          0.2456282162211394,
          1.132,
          0.6,
          0.7031570292182958,
          0.8350000000000001,
          0.6888,
          0.785
         ],
         "yaxis": "y"
        },
        {
         "connectgaps": false,
         "hovertemplate": "fnid=TD2012A121<br>indicator=production<br>year=%{x}<br>value=%{y}<extra></extra>",
         "legendgroup": "TD2012A121",
         "line": {
          "color": "#FF6692",
          "dash": "solid"
         },
         "marker": {
          "symbol": "circle"
         },
         "mode": "lines+markers",
         "name": "TD2012A121",
         "showlegend": true,
         "type": "scattergl",
         "x": [
          1983,
          1984,
          1985,
          1986,
          1987,
          1988,
          1989,
          1990,
          1991,
          1992,
          1993,
          1994,
          1995,
          1996,
          1997,
          1998,
          1999,
          2000,
          2001,
          2002,
          2003,
          2004,
          2005,
          2006,
          2007,
          2008,
          2009,
          2010,
          2011,
          2012,
          2013,
          2014,
          2015,
          2016,
          2017
         ],
         "xaxis": "x3",
         "y": [
          9955,
          13298,
          16868,
          21978,
          21826,
          35281,
          7157,
          15125,
          8250,
          21846,
          15800,
          24542,
          12498,
          null,
          null,
          17878,
          null,
          19266,
          14879,
          27390,
          30100,
          21281,
          24652.32,
          23793.34,
          13656,
          11849.4,
          21529,
          30532,
          14756.473,
          27540,
          17079.0554,
          15989.505,
          19510.385,
          19982.20048184,
          20659.9248
         ],
         "yaxis": "y3"
        },
        {
         "connectgaps": false,
         "hovertemplate": "fnid=TD2012A121<br>indicator=area<br>year=%{x}<br>value=%{y}<extra></extra>",
         "legendgroup": "TD2012A121",
         "line": {
          "color": "#FF6692",
          "dash": "solid"
         },
         "marker": {
          "symbol": "circle"
         },
         "mode": "lines+markers",
         "name": "TD2012A121",
         "showlegend": false,
         "type": "scattergl",
         "x": [
          1983,
          1984,
          1985,
          1986,
          1987,
          1988,
          1989,
          1990,
          1991,
          1992,
          1993,
          1994,
          1995,
          1996,
          1997,
          1998,
          1999,
          2000,
          2001,
          2002,
          2003,
          2004,
          2005,
          2006,
          2007,
          2008,
          2009,
          2010,
          2011,
          2012,
          2013,
          2014,
          2015,
          2016,
          2017
         ],
         "xaxis": "x2",
         "y": [
          22267,
          29361,
          29612,
          33525,
          35839,
          34607,
          27870,
          27500,
          33000,
          33000,
          31600,
          35061,
          47886,
          null,
          null,
          32212,
          null,
          38533,
          28028,
          41500,
          51361,
          40925,
          42504,
          41023,
          22760,
          17400,
          41407,
          34422,
          30179,
          36720,
          27578,
          19331,
          28235,
          28409,
          28496.448
         ],
         "yaxis": "y2"
        },
        {
         "connectgaps": false,
         "hovertemplate": "fnid=TD2012A121<br>indicator=yield<br>year=%{x}<br>value=%{y}<extra></extra>",
         "legendgroup": "TD2012A121",
         "line": {
          "color": "#FF6692",
          "dash": "solid"
         },
         "marker": {
          "symbol": "circle"
         },
         "mode": "lines+markers",
         "name": "TD2012A121",
         "showlegend": false,
         "type": "scattergl",
         "x": [
          1983,
          1984,
          1985,
          1986,
          1987,
          1988,
          1989,
          1990,
          1991,
          1992,
          1993,
          1994,
          1995,
          1996,
          1997,
          1998,
          1999,
          2000,
          2001,
          2002,
          2003,
          2004,
          2005,
          2006,
          2007,
          2008,
          2009,
          2010,
          2011,
          2012,
          2013,
          2014,
          2015,
          2016,
          2017
         ],
         "xaxis": "x",
         "y": [
          0.4470741455966228,
          0.4529137290964204,
          0.5696339321896529,
          0.6555704697986577,
          0.609001367225648,
          1.0194758285895915,
          0.2567994259059921,
          0.55,
          0.25,
          0.662,
          0.5,
          0.6999800347964975,
          0.2609948627991479,
          null,
          null,
          0.5550105550726437,
          null,
          0.4999870241092051,
          0.5308619951477095,
          0.66,
          0.5860477794435467,
          0.52,
          0.58,
          0.58,
          0.6,
          0.6809999999999999,
          0.5199362426642838,
          0.8869908779269072,
          0.4889649425096922,
          0.75,
          0.6193000000000001,
          0.827143189695308,
          0.691,
          0.7033757077630328,
          0.725
         ],
         "yaxis": "y"
        },
        {
         "connectgaps": false,
         "hovertemplate": "fnid=TD2012A123<br>indicator=production<br>year=%{x}<br>value=%{y}<extra></extra>",
         "legendgroup": "TD2012A123",
         "line": {
          "color": "#B6E880",
          "dash": "solid"
         },
         "marker": {
          "symbol": "circle"
         },
         "mode": "lines+markers",
         "name": "TD2012A123",
         "showlegend": true,
         "type": "scattergl",
         "x": [
          1983,
          1984,
          1985,
          1986,
          1987,
          1988,
          1989,
          1990,
          1991,
          1992,
          1993,
          1994,
          1995,
          1996,
          1997,
          1998,
          1999,
          2000,
          2001,
          2002,
          2003,
          2004,
          2005,
          2006,
          2007,
          2008,
          2009,
          2010,
          2011,
          2012,
          2013,
          2014,
          2015,
          2016,
          2017
         ],
         "xaxis": "x3",
         "y": [
          null,
          null,
          20000,
          12500,
          8490,
          32296,
          11245,
          4530,
          9700,
          12720,
          9840,
          14040,
          6316,
          null,
          null,
          28105,
          null,
          18444,
          20400,
          31723,
          39060,
          9750,
          39208.4,
          34830.74,
          38423.8,
          11480,
          24875,
          85458,
          30883.194,
          91174.63539167,
          37886,
          69963.48,
          38149.912,
          63551.43146442,
          62465.34672
         ],
         "yaxis": "y3"
        },
        {
         "connectgaps": false,
         "hovertemplate": "fnid=TD2012A123<br>indicator=area<br>year=%{x}<br>value=%{y}<extra></extra>",
         "legendgroup": "TD2012A123",
         "line": {
          "color": "#B6E880",
          "dash": "solid"
         },
         "marker": {
          "symbol": "circle"
         },
         "mode": "lines+markers",
         "name": "TD2012A123",
         "showlegend": false,
         "type": "scattergl",
         "x": [
          1983,
          1984,
          1985,
          1986,
          1987,
          1988,
          1989,
          1990,
          1991,
          1992,
          1993,
          1994,
          1995,
          1996,
          1997,
          1998,
          1999,
          2000,
          2001,
          2002,
          2003,
          2004,
          2005,
          2006,
          2007,
          2008,
          2009,
          2010,
          2011,
          2012,
          2013,
          2014,
          2015,
          2016,
          2017
         ],
         "xaxis": "x2",
         "y": [
          null,
          null,
          35000,
          53639,
          28300,
          64592,
          44980,
          30200,
          36000,
          31800,
          32800,
          40100,
          46100,
          null,
          null,
          80300,
          null,
          196213,
          68000,
          68075,
          86250,
          39000,
          140030,
          75719,
          83530,
          40000,
          111840,
          160334,
          134052,
          181421,
          94715,
          111871,
          106564,
          125725,
          122481.072
         ],
         "yaxis": "y2"
        },
        {
         "connectgaps": false,
         "hovertemplate": "fnid=TD2012A123<br>indicator=yield<br>year=%{x}<br>value=%{y}<extra></extra>",
         "legendgroup": "TD2012A123",
         "line": {
          "color": "#B6E880",
          "dash": "solid"
         },
         "marker": {
          "symbol": "circle"
         },
         "mode": "lines+markers",
         "name": "TD2012A123",
         "showlegend": false,
         "type": "scattergl",
         "x": [
          1983,
          1984,
          1985,
          1986,
          1987,
          1988,
          1989,
          1990,
          1991,
          1992,
          1993,
          1994,
          1995,
          1996,
          1997,
          1998,
          1999,
          2000,
          2001,
          2002,
          2003,
          2004,
          2005,
          2006,
          2007,
          2008,
          2009,
          2010,
          2011,
          2012,
          2013,
          2014,
          2015,
          2016,
          2017
         ],
         "xaxis": "x",
         "y": [
          null,
          null,
          0.5714285714285714,
          0.2330393929789891,
          0.3,
          0.5,
          0.25,
          0.15,
          0.2694444444444444,
          0.4,
          0.3,
          0.3501246882793017,
          0.1370065075921908,
          null,
          null,
          0.35,
          null,
          0.09399988787695,
          0.3,
          0.4660007344840249,
          0.4528695652173913,
          0.25,
          0.28,
          0.4599999999999999,
          0.46,
          0.287,
          0.2224159513590844,
          0.5329998627864333,
          0.2303821949691164,
          0.5025583333333518,
          0.4,
          0.6253942487329156,
          0.358,
          0.5054796696314973,
          0.51
         ],
         "yaxis": "y"
        }
       ],
       "layout": {
        "annotations": [
         {
          "showarrow": false,
          "text": "",
          "textangle": 90,
          "x": 0.98,
          "xanchor": "left",
          "xref": "paper",
          "y": 0.16333333333333333,
          "yanchor": "middle",
          "yref": "paper"
         },
         {
          "showarrow": false,
          "text": "",
          "textangle": 90,
          "x": 0.98,
          "xanchor": "left",
          "xref": "paper",
          "y": 0.5,
          "yanchor": "middle",
          "yref": "paper"
         },
         {
          "showarrow": false,
          "text": "",
          "textangle": 90,
          "x": 0.98,
          "xanchor": "left",
          "xref": "paper",
          "y": 0.8366666666666667,
          "yanchor": "middle",
          "yref": "paper"
         },
         {
          "align": "left",
          "font": {
           "color": "dimgrey",
           "family": "arial",
           "size": 15
          },
          "showarrow": false,
          "text": "Production-Area-Yield (PAY) time-series of TD - Millet - Main",
          "x": -0.014,
          "xref": "paper",
          "y": -0.14,
          "yref": "paper"
         }
        ],
        "font": {
         "color": "black",
         "family": "arial",
         "size": 16
        },
        "height": 600,
        "legend": {
         "font": {
          "size": 14
         },
         "title": {
          "text": "FNID"
         },
         "tracegroupgap": 0,
         "x": 1,
         "xanchor": "left",
         "y": 1,
         "yanchor": "top"
        },
        "margin": {
         "b": 25,
         "l": 0,
         "r": 0,
         "t": 0
        },
        "template": {
         "data": {
          "bar": [
           {
            "error_x": {
             "color": "#2a3f5f"
            },
            "error_y": {
             "color": "#2a3f5f"
            },
            "marker": {
             "line": {
              "color": "#E5ECF6",
              "width": 0.5
             },
             "pattern": {
              "fillmode": "overlay",
              "size": 10,
              "solidity": 0.2
             }
            },
            "type": "bar"
           }
          ],
          "barpolar": [
           {
            "marker": {
             "line": {
              "color": "#E5ECF6",
              "width": 0.5
             },
             "pattern": {
              "fillmode": "overlay",
              "size": 10,
              "solidity": 0.2
             }
            },
            "type": "barpolar"
           }
          ],
          "carpet": [
           {
            "aaxis": {
             "endlinecolor": "#2a3f5f",
             "gridcolor": "white",
             "linecolor": "white",
             "minorgridcolor": "white",
             "startlinecolor": "#2a3f5f"
            },
            "baxis": {
             "endlinecolor": "#2a3f5f",
             "gridcolor": "white",
             "linecolor": "white",
             "minorgridcolor": "white",
             "startlinecolor": "#2a3f5f"
            },
            "type": "carpet"
           }
          ],
          "choropleth": [
           {
            "colorbar": {
             "outlinewidth": 0,
             "ticks": ""
            },
            "type": "choropleth"
           }
          ],
          "contour": [
           {
            "colorbar": {
             "outlinewidth": 0,
             "ticks": ""
            },
            "colorscale": [
             [
              0,
              "#0d0887"
             ],
             [
              0.1111111111111111,
              "#46039f"
             ],
             [
              0.2222222222222222,
              "#7201a8"
             ],
             [
              0.3333333333333333,
              "#9c179e"
             ],
             [
              0.4444444444444444,
              "#bd3786"
             ],
             [
              0.5555555555555556,
              "#d8576b"
             ],
             [
              0.6666666666666666,
              "#ed7953"
             ],
             [
              0.7777777777777778,
              "#fb9f3a"
             ],
             [
              0.8888888888888888,
              "#fdca26"
             ],
             [
              1,
              "#f0f921"
             ]
            ],
            "type": "contour"
           }
          ],
          "contourcarpet": [
           {
            "colorbar": {
             "outlinewidth": 0,
             "ticks": ""
            },
            "type": "contourcarpet"
           }
          ],
          "heatmap": [
           {
            "colorbar": {
             "outlinewidth": 0,
             "ticks": ""
            },
            "colorscale": [
             [
              0,
              "#0d0887"
             ],
             [
              0.1111111111111111,
              "#46039f"
             ],
             [
              0.2222222222222222,
              "#7201a8"
             ],
             [
              0.3333333333333333,
              "#9c179e"
             ],
             [
              0.4444444444444444,
              "#bd3786"
             ],
             [
              0.5555555555555556,
              "#d8576b"
             ],
             [
              0.6666666666666666,
              "#ed7953"
             ],
             [
              0.7777777777777778,
              "#fb9f3a"
             ],
             [
              0.8888888888888888,
              "#fdca26"
             ],
             [
              1,
              "#f0f921"
             ]
            ],
            "type": "heatmap"
           }
          ],
          "heatmapgl": [
           {
            "colorbar": {
             "outlinewidth": 0,
             "ticks": ""
            },
            "colorscale": [
             [
              0,
              "#0d0887"
             ],
             [
              0.1111111111111111,
              "#46039f"
             ],
             [
              0.2222222222222222,
              "#7201a8"
             ],
             [
              0.3333333333333333,
              "#9c179e"
             ],
             [
              0.4444444444444444,
              "#bd3786"
             ],
             [
              0.5555555555555556,
              "#d8576b"
             ],
             [
              0.6666666666666666,
              "#ed7953"
             ],
             [
              0.7777777777777778,
              "#fb9f3a"
             ],
             [
              0.8888888888888888,
              "#fdca26"
             ],
             [
              1,
              "#f0f921"
             ]
            ],
            "type": "heatmapgl"
           }
          ],
          "histogram": [
           {
            "marker": {
             "pattern": {
              "fillmode": "overlay",
              "size": 10,
              "solidity": 0.2
             }
            },
            "type": "histogram"
           }
          ],
          "histogram2d": [
           {
            "colorbar": {
             "outlinewidth": 0,
             "ticks": ""
            },
            "colorscale": [
             [
              0,
              "#0d0887"
             ],
             [
              0.1111111111111111,
              "#46039f"
             ],
             [
              0.2222222222222222,
              "#7201a8"
             ],
             [
              0.3333333333333333,
              "#9c179e"
             ],
             [
              0.4444444444444444,
              "#bd3786"
             ],
             [
              0.5555555555555556,
              "#d8576b"
             ],
             [
              0.6666666666666666,
              "#ed7953"
             ],
             [
              0.7777777777777778,
              "#fb9f3a"
             ],
             [
              0.8888888888888888,
              "#fdca26"
             ],
             [
              1,
              "#f0f921"
             ]
            ],
            "type": "histogram2d"
           }
          ],
          "histogram2dcontour": [
           {
            "colorbar": {
             "outlinewidth": 0,
             "ticks": ""
            },
            "colorscale": [
             [
              0,
              "#0d0887"
             ],
             [
              0.1111111111111111,
              "#46039f"
             ],
             [
              0.2222222222222222,
              "#7201a8"
             ],
             [
              0.3333333333333333,
              "#9c179e"
             ],
             [
              0.4444444444444444,
              "#bd3786"
             ],
             [
              0.5555555555555556,
              "#d8576b"
             ],
             [
              0.6666666666666666,
              "#ed7953"
             ],
             [
              0.7777777777777778,
              "#fb9f3a"
             ],
             [
              0.8888888888888888,
              "#fdca26"
             ],
             [
              1,
              "#f0f921"
             ]
            ],
            "type": "histogram2dcontour"
           }
          ],
          "mesh3d": [
           {
            "colorbar": {
             "outlinewidth": 0,
             "ticks": ""
            },
            "type": "mesh3d"
           }
          ],
          "parcoords": [
           {
            "line": {
             "colorbar": {
              "outlinewidth": 0,
              "ticks": ""
             }
            },
            "type": "parcoords"
           }
          ],
          "pie": [
           {
            "automargin": true,
            "type": "pie"
           }
          ],
          "scatter": [
           {
            "fillpattern": {
             "fillmode": "overlay",
             "size": 10,
             "solidity": 0.2
            },
            "type": "scatter"
           }
          ],
          "scatter3d": [
           {
            "line": {
             "colorbar": {
              "outlinewidth": 0,
              "ticks": ""
             }
            },
            "marker": {
             "colorbar": {
              "outlinewidth": 0,
              "ticks": ""
             }
            },
            "type": "scatter3d"
           }
          ],
          "scattercarpet": [
           {
            "marker": {
             "colorbar": {
              "outlinewidth": 0,
              "ticks": ""
             }
            },
            "type": "scattercarpet"
           }
          ],
          "scattergeo": [
           {
            "marker": {
             "colorbar": {
              "outlinewidth": 0,
              "ticks": ""
             }
            },
            "type": "scattergeo"
           }
          ],
          "scattergl": [
           {
            "marker": {
             "colorbar": {
              "outlinewidth": 0,
              "ticks": ""
             }
            },
            "type": "scattergl"
           }
          ],
          "scattermapbox": [
           {
            "marker": {
             "colorbar": {
              "outlinewidth": 0,
              "ticks": ""
             }
            },
            "type": "scattermapbox"
           }
          ],
          "scatterpolar": [
           {
            "marker": {
             "colorbar": {
              "outlinewidth": 0,
              "ticks": ""
             }
            },
            "type": "scatterpolar"
           }
          ],
          "scatterpolargl": [
           {
            "marker": {
             "colorbar": {
              "outlinewidth": 0,
              "ticks": ""
             }
            },
            "type": "scatterpolargl"
           }
          ],
          "scatterternary": [
           {
            "marker": {
             "colorbar": {
              "outlinewidth": 0,
              "ticks": ""
             }
            },
            "type": "scatterternary"
           }
          ],
          "surface": [
           {
            "colorbar": {
             "outlinewidth": 0,
             "ticks": ""
            },
            "colorscale": [
             [
              0,
              "#0d0887"
             ],
             [
              0.1111111111111111,
              "#46039f"
             ],
             [
              0.2222222222222222,
              "#7201a8"
             ],
             [
              0.3333333333333333,
              "#9c179e"
             ],
             [
              0.4444444444444444,
              "#bd3786"
             ],
             [
              0.5555555555555556,
              "#d8576b"
             ],
             [
              0.6666666666666666,
              "#ed7953"
             ],
             [
              0.7777777777777778,
              "#fb9f3a"
             ],
             [
              0.8888888888888888,
              "#fdca26"
             ],
             [
              1,
              "#f0f921"
             ]
            ],
            "type": "surface"
           }
          ],
          "table": [
           {
            "cells": {
             "fill": {
              "color": "#EBF0F8"
             },
             "line": {
              "color": "white"
             }
            },
            "header": {
             "fill": {
              "color": "#C8D4E3"
             },
             "line": {
              "color": "white"
             }
            },
            "type": "table"
           }
          ]
         },
         "layout": {
          "annotationdefaults": {
           "arrowcolor": "#2a3f5f",
           "arrowhead": 0,
           "arrowwidth": 1
          },
          "autotypenumbers": "strict",
          "coloraxis": {
           "colorbar": {
            "outlinewidth": 0,
            "ticks": ""
           }
          },
          "colorscale": {
           "diverging": [
            [
             0,
             "#8e0152"
            ],
            [
             0.1,
             "#c51b7d"
            ],
            [
             0.2,
             "#de77ae"
            ],
            [
             0.3,
             "#f1b6da"
            ],
            [
             0.4,
             "#fde0ef"
            ],
            [
             0.5,
             "#f7f7f7"
            ],
            [
             0.6,
             "#e6f5d0"
            ],
            [
             0.7,
             "#b8e186"
            ],
            [
             0.8,
             "#7fbc41"
            ],
            [
             0.9,
             "#4d9221"
            ],
            [
             1,
             "#276419"
            ]
           ],
           "sequential": [
            [
             0,
             "#0d0887"
            ],
            [
             0.1111111111111111,
             "#46039f"
            ],
            [
             0.2222222222222222,
             "#7201a8"
            ],
            [
             0.3333333333333333,
             "#9c179e"
            ],
            [
             0.4444444444444444,
             "#bd3786"
            ],
            [
             0.5555555555555556,
             "#d8576b"
            ],
            [
             0.6666666666666666,
             "#ed7953"
            ],
            [
             0.7777777777777778,
             "#fb9f3a"
            ],
            [
             0.8888888888888888,
             "#fdca26"
            ],
            [
             1,
             "#f0f921"
            ]
           ],
           "sequentialminus": [
            [
             0,
             "#0d0887"
            ],
            [
             0.1111111111111111,
             "#46039f"
            ],
            [
             0.2222222222222222,
             "#7201a8"
            ],
            [
             0.3333333333333333,
             "#9c179e"
            ],
            [
             0.4444444444444444,
             "#bd3786"
            ],
            [
             0.5555555555555556,
             "#d8576b"
            ],
            [
             0.6666666666666666,
             "#ed7953"
            ],
            [
             0.7777777777777778,
             "#fb9f3a"
            ],
            [
             0.8888888888888888,
             "#fdca26"
            ],
            [
             1,
             "#f0f921"
            ]
           ]
          },
          "colorway": [
           "#636efa",
           "#EF553B",
           "#00cc96",
           "#ab63fa",
           "#FFA15A",
           "#19d3f3",
           "#FF6692",
           "#B6E880",
           "#FF97FF",
           "#FECB52"
          ],
          "font": {
           "color": "#2a3f5f"
          },
          "geo": {
           "bgcolor": "white",
           "lakecolor": "white",
           "landcolor": "#E5ECF6",
           "showlakes": true,
           "showland": true,
           "subunitcolor": "white"
          },
          "hoverlabel": {
           "align": "left"
          },
          "hovermode": "closest",
          "mapbox": {
           "style": "light"
          },
          "paper_bgcolor": "white",
          "plot_bgcolor": "#E5ECF6",
          "polar": {
           "angularaxis": {
            "gridcolor": "white",
            "linecolor": "white",
            "ticks": ""
           },
           "bgcolor": "#E5ECF6",
           "radialaxis": {
            "gridcolor": "white",
            "linecolor": "white",
            "ticks": ""
           }
          },
          "scene": {
           "xaxis": {
            "backgroundcolor": "#E5ECF6",
            "gridcolor": "white",
            "gridwidth": 2,
            "linecolor": "white",
            "showbackground": true,
            "ticks": "",
            "zerolinecolor": "white"
           },
           "yaxis": {
            "backgroundcolor": "#E5ECF6",
            "gridcolor": "white",
            "gridwidth": 2,
            "linecolor": "white",
            "showbackground": true,
            "ticks": "",
            "zerolinecolor": "white"
           },
           "zaxis": {
            "backgroundcolor": "#E5ECF6",
            "gridcolor": "white",
            "gridwidth": 2,
            "linecolor": "white",
            "showbackground": true,
            "ticks": "",
            "zerolinecolor": "white"
           }
          },
          "shapedefaults": {
           "line": {
            "color": "#2a3f5f"
           }
          },
          "ternary": {
           "aaxis": {
            "gridcolor": "white",
            "linecolor": "white",
            "ticks": ""
           },
           "baxis": {
            "gridcolor": "white",
            "linecolor": "white",
            "ticks": ""
           },
           "bgcolor": "#E5ECF6",
           "caxis": {
            "gridcolor": "white",
            "linecolor": "white",
            "ticks": ""
           }
          },
          "title": {
           "x": 0.05
          },
          "xaxis": {
           "automargin": true,
           "gridcolor": "white",
           "linecolor": "white",
           "ticks": "",
           "title": {
            "standoff": 15
           },
           "zerolinecolor": "white",
           "zerolinewidth": 2
          },
          "yaxis": {
           "automargin": true,
           "gridcolor": "white",
           "linecolor": "white",
           "ticks": "",
           "title": {
            "standoff": 15
           },
           "zerolinecolor": "white",
           "zerolinewidth": 2
          }
         }
        },
        "width": 900,
        "xaxis": {
         "anchor": "y",
         "domain": [
          0,
          0.98
         ],
         "dtick": 1,
         "range": [
          1983,
          2017
         ],
         "title": {
          "text": ""
         }
        },
        "xaxis2": {
         "anchor": "y2",
         "domain": [
          0,
          0.98
         ],
         "dtick": 1,
         "matches": "x",
         "showticklabels": false
        },
        "xaxis3": {
         "anchor": "y3",
         "domain": [
          0,
          0.98
         ],
         "dtick": 1,
         "matches": "x",
         "showticklabels": false
        },
        "yaxis": {
         "anchor": "x",
         "domain": [
          0,
          0.32666666666666666
         ],
         "title": {
          "text": "Yield (mt/ha)"
         }
        },
        "yaxis2": {
         "anchor": "x2",
         "domain": [
          0.33666666666666667,
          0.6633333333333333
         ],
         "title": {
          "text": "Area (ha)"
         }
        },
        "yaxis3": {
         "anchor": "x3",
         "domain": [
          0.6733333333333333,
          1
         ],
         "title": {
          "text": "Production (mt)"
         }
        }
       }
      }
     },
     "metadata": {},
     "output_type": "display_data"
    },
    {
     "name": "stdout",
     "output_type": "stream",
     "text": [
      "../figures/TD_line_pay_Maize_Main.png is saved.\n"
     ]
    },
    {
     "data": {
      "application/vnd.plotly.v1+json": {
       "config": {
        "plotlyServerURL": "https://plot.ly"
       },
       "data": [
        {
         "connectgaps": false,
         "hovertemplate": "fnid=TD2012A101<br>indicator=production<br>year=%{x}<br>value=%{y}<extra></extra>",
         "legendgroup": "TD2012A101",
         "line": {
          "color": "#636efa",
          "dash": "solid"
         },
         "marker": {
          "symbol": "circle"
         },
         "mode": "lines+markers",
         "name": "TD2012A101",
         "showlegend": true,
         "type": "scattergl",
         "x": [
          1984,
          1985,
          1986,
          1987,
          1988,
          1989,
          1990,
          1991,
          1992,
          1993,
          1994,
          1995,
          1996,
          1997,
          1998,
          1999,
          2000,
          2001,
          2002,
          2003,
          2004,
          2005,
          2006,
          2007,
          2008,
          2009,
          2010,
          2011,
          2012,
          2013,
          2014,
          2015,
          2016,
          2017
         ],
         "xaxis": "x3",
         "y": [
          181.77243668656251,
          10975.666198235236,
          8433.93297338076,
          765.6008562137421,
          12583.890129597705,
          9895.81468876676,
          15707.91132960066,
          17626.534803271115,
          24669.44650268606,
          null,
          677.7955266278602,
          308.08887573993644,
          null,
          null,
          null,
          null,
          null,
          338.8977633139301,
          null,
          null,
          null,
          831.8399644978284,
          1829.2776997058727,
          616.1777514798729,
          475.61220192352687,
          null,
          811.35,
          656,
          2000,
          1304.184,
          1766.24,
          1483.5,
          1375.731,
          1370.27052536
         ],
         "yaxis": "y3"
        },
        {
         "connectgaps": false,
         "hovertemplate": "fnid=TD2012A101<br>indicator=area<br>year=%{x}<br>value=%{y}<extra></extra>",
         "legendgroup": "TD2012A101",
         "line": {
          "color": "#636efa",
          "dash": "solid"
         },
         "marker": {
          "symbol": "circle"
         },
         "mode": "lines+markers",
         "name": "TD2012A101",
         "showlegend": false,
         "type": "scattergl",
         "x": [
          1984,
          1985,
          1986,
          1987,
          1988,
          1989,
          1990,
          1991,
          1992,
          1993,
          1994,
          1995,
          1996,
          1997,
          1998,
          1999,
          2000,
          2001,
          2002,
          2003,
          2004,
          2005,
          2006,
          2007,
          2008,
          2009,
          2010,
          2011,
          2012,
          2013,
          2014,
          2015,
          2016,
          2017
         ],
         "xaxis": "x2",
         "y": [
          92.42666272198092,
          6585.399718941141,
          10544.341772199325,
          870.3510739653204,
          12700.96390237888,
          7908.641440244169,
          13947.953626936272,
          13009.052778118816,
          19480.459613036182,
          null,
          1682.935483729403,
          770.2221893498411,
          null,
          null,
          null,
          null,
          null,
          169.44888165696506,
          null,
          null,
          null,
          1386.399940829714,
          3658.5553994117454,
          1232.3555029597458,
          951.2244038470536,
          null,
          1350,
          1312,
          4000,
          3327,
          2324,
          1725,
          2175,
          2180.2
         ],
         "yaxis": "y2"
        },
        {
         "connectgaps": false,
         "hovertemplate": "fnid=TD2012A101<br>indicator=yield<br>year=%{x}<br>value=%{y}<extra></extra>",
         "legendgroup": "TD2012A101",
         "line": {
          "color": "#636efa",
          "dash": "solid"
         },
         "marker": {
          "symbol": "circle"
         },
         "mode": "lines+markers",
         "name": "TD2012A101",
         "showlegend": false,
         "type": "scattergl",
         "x": [
          1984,
          1985,
          1986,
          1987,
          1988,
          1989,
          1990,
          1991,
          1992,
          1993,
          1994,
          1995,
          1996,
          1997,
          1998,
          1999,
          2000,
          2001,
          2002,
          2003,
          2004,
          2005,
          2006,
          2007,
          2008,
          2009,
          2010,
          2011,
          2012,
          2013,
          2014,
          2015,
          2016,
          2017
         ],
         "xaxis": "x",
         "y": [
          1.9666666666666668,
          1.6666666666666667,
          0.7998539079620162,
          0.8796460176991151,
          0.9907822922983628,
          1.251266069341644,
          1.1261803523110057,
          1.3549437537004143,
          1.2663688122726553,
          null,
          0.402745995423341,
          0.4,
          null,
          null,
          null,
          null,
          null,
          2,
          null,
          null,
          null,
          0.6,
          0.5,
          0.5,
          0.5,
          null,
          0.601,
          0.5,
          0.5,
          0.392,
          0.76,
          0.86,
          0.63252,
          0.6285068
         ],
         "yaxis": "y"
        },
        {
         "connectgaps": false,
         "hovertemplate": "fnid=TD2012A102<br>indicator=production<br>year=%{x}<br>value=%{y}<extra></extra>",
         "legendgroup": "TD2012A102",
         "line": {
          "color": "#EF553B",
          "dash": "solid"
         },
         "marker": {
          "symbol": "circle"
         },
         "mode": "lines+markers",
         "name": "TD2012A102",
         "showlegend": true,
         "type": "scattergl",
         "x": [
          1984,
          1985,
          1986,
          1987,
          1988,
          1989,
          1990,
          1991,
          1992,
          1993,
          1994,
          1995,
          1996,
          1997,
          1998,
          1999,
          2000,
          2001,
          2002,
          2003,
          2004,
          2005,
          2006,
          2007,
          2008,
          2009,
          2010,
          2011,
          2012,
          2013,
          2014,
          2015,
          2016,
          2017
         ],
         "xaxis": "x3",
         "y": [
          null,
          null,
          null,
          null,
          null,
          null,
          null,
          null,
          null,
          null,
          200,
          150,
          null,
          null,
          null,
          null,
          null,
          null,
          null,
          null,
          null,
          null,
          null,
          null,
          null,
          null,
          null,
          null,
          null,
          2.35,
          null,
          1.26,
          21.42,
          28.05
         ],
         "yaxis": "y3"
        },
        {
         "connectgaps": false,
         "hovertemplate": "fnid=TD2012A102<br>indicator=area<br>year=%{x}<br>value=%{y}<extra></extra>",
         "legendgroup": "TD2012A102",
         "line": {
          "color": "#EF553B",
          "dash": "solid"
         },
         "marker": {
          "symbol": "circle"
         },
         "mode": "lines+markers",
         "name": "TD2012A102",
         "showlegend": false,
         "type": "scattergl",
         "x": [
          1984,
          1985,
          1986,
          1987,
          1988,
          1989,
          1990,
          1991,
          1992,
          1993,
          1994,
          1995,
          1996,
          1997,
          1998,
          1999,
          2000,
          2001,
          2002,
          2003,
          2004,
          2005,
          2006,
          2007,
          2008,
          2009,
          2010,
          2011,
          2012,
          2013,
          2014,
          2015,
          2016,
          2017
         ],
         "xaxis": "x2",
         "y": [
          null,
          null,
          null,
          null,
          null,
          null,
          null,
          null,
          null,
          null,
          400,
          300,
          null,
          null,
          null,
          null,
          null,
          null,
          null,
          null,
          null,
          null,
          null,
          null,
          null,
          null,
          null,
          null,
          null,
          5,
          null,
          6,
          60,
          56.1
         ],
         "yaxis": "y2"
        },
        {
         "connectgaps": false,
         "hovertemplate": "fnid=TD2012A102<br>indicator=yield<br>year=%{x}<br>value=%{y}<extra></extra>",
         "legendgroup": "TD2012A102",
         "line": {
          "color": "#EF553B",
          "dash": "solid"
         },
         "marker": {
          "symbol": "circle"
         },
         "mode": "lines+markers",
         "name": "TD2012A102",
         "showlegend": false,
         "type": "scattergl",
         "x": [
          1984,
          1985,
          1986,
          1987,
          1988,
          1989,
          1990,
          1991,
          1992,
          1993,
          1994,
          1995,
          1996,
          1997,
          1998,
          1999,
          2000,
          2001,
          2002,
          2003,
          2004,
          2005,
          2006,
          2007,
          2008,
          2009,
          2010,
          2011,
          2012,
          2013,
          2014,
          2015,
          2016,
          2017
         ],
         "xaxis": "x",
         "y": [
          null,
          null,
          null,
          null,
          null,
          null,
          null,
          null,
          null,
          null,
          0.5,
          0.5,
          null,
          null,
          null,
          null,
          null,
          null,
          null,
          null,
          null,
          null,
          null,
          null,
          null,
          null,
          null,
          null,
          null,
          0.47,
          null,
          0.21,
          0.357,
          0.5
         ],
         "yaxis": "y"
        },
        {
         "connectgaps": false,
         "hovertemplate": "fnid=TD2012A104<br>indicator=production<br>year=%{x}<br>value=%{y}<extra></extra>",
         "legendgroup": "TD2012A104",
         "line": {
          "color": "#00cc96",
          "dash": "solid"
         },
         "marker": {
          "symbol": "circle"
         },
         "mode": "lines+markers",
         "name": "TD2012A104",
         "showlegend": true,
         "type": "scattergl",
         "x": [
          1984,
          1985,
          1986,
          1987,
          1988,
          1989,
          1990,
          1991,
          1992,
          1993,
          1994,
          1995,
          1996,
          1997,
          1998,
          1999,
          2000,
          2001,
          2002,
          2003,
          2004,
          2005,
          2006,
          2007,
          2008,
          2009,
          2010,
          2011,
          2012,
          2013,
          2014,
          2015,
          2016,
          2017
         ],
         "xaxis": "x3",
         "y": [
          2075.827761530489,
          2460.240309962061,
          794.6576201177458,
          233.10776936890528,
          5502.327453230149,
          null,
          245.4089709187156,
          221.4216278965855,
          23372.28294463958,
          15459.5350477241,
          36448.460192087936,
          11630.786065345645,
          null,
          null,
          42025.20991469444,
          null,
          5559.528040436768,
          16490.375737598206,
          5166.5046509203285,
          16606.622092243913,
          9133.642150734153,
          9740.306658166925,
          17944.343932481523,
          9157.980078000452,
          28028.705972095475,
          15888.84698181248,
          25047.6,
          31922.8,
          19798.277,
          30679.861,
          33476.711,
          34326.8697,
          42748.10176,
          22885.89333333
         ],
         "yaxis": "y3"
        },
        {
         "connectgaps": false,
         "hovertemplate": "fnid=TD2012A104<br>indicator=area<br>year=%{x}<br>value=%{y}<extra></extra>",
         "legendgroup": "TD2012A104",
         "line": {
          "color": "#00cc96",
          "dash": "solid"
         },
         "marker": {
          "symbol": "circle"
         },
         "mode": "lines+markers",
         "name": "TD2012A104",
         "showlegend": false,
         "type": "scattergl",
         "x": [
          1984,
          1985,
          1986,
          1987,
          1988,
          1989,
          1990,
          1991,
          1992,
          1993,
          1994,
          1995,
          1996,
          1997,
          1998,
          1999,
          2000,
          2001,
          2002,
          2003,
          2004,
          2005,
          2006,
          2007,
          2008,
          2009,
          2010,
          2011,
          2012,
          2013,
          2014,
          2015,
          2016,
          2017
         ],
         "xaxis": "x2",
         "y": [
          4170.107325385694,
          3536.5954455704627,
          1324.83940691457,
          2650.9089339841207,
          2751.1637266150747,
          null,
          430.54205424336067,
          276.7770348707319,
          11993.671511065048,
          10986.818164213077,
          16255.422787996828,
          6599.594631473229,
          null,
          null,
          18744.57092160094,
          null,
          12693.609879249254,
          13407.079569138252,
          12916.26162730082,
          6150.600774905153,
          10148.4912785935,
          11459.18430372579,
          24086.36769460607,
          12292.590708725438,
          37876.62969202091,
          21709.16049510523,
          20873,
          37187,
          24841,
          28381,
          43060,
          43070.1,
          39544.96,
          39232.96
         ],
         "yaxis": "y2"
        },
        {
         "connectgaps": false,
         "hovertemplate": "fnid=TD2012A104<br>indicator=yield<br>year=%{x}<br>value=%{y}<extra></extra>",
         "legendgroup": "TD2012A104",
         "line": {
          "color": "#00cc96",
          "dash": "solid"
         },
         "marker": {
          "symbol": "circle"
         },
         "mode": "lines+markers",
         "name": "TD2012A104",
         "showlegend": false,
         "type": "scattergl",
         "x": [
          1984,
          1985,
          1986,
          1987,
          1988,
          1989,
          1990,
          1991,
          1992,
          1993,
          1994,
          1995,
          1996,
          1997,
          1998,
          1999,
          2000,
          2001,
          2002,
          2003,
          2004,
          2005,
          2006,
          2007,
          2008,
          2009,
          2010,
          2011,
          2012,
          2013,
          2014,
          2015,
          2016,
          2017
         ],
         "xaxis": "x",
         "y": [
          0.497787610619469,
          0.6956521739130435,
          0.5998142989786444,
          0.0879350348027842,
          2,
          null,
          0.5700000000000001,
          0.8,
          1.948717948717949,
          1.4070984717012818,
          2.242233909720383,
          1.7623485554520038,
          null,
          null,
          2.241993699960625,
          null,
          0.4379784862874309,
          1.2299752270850537,
          0.4,
          2.6999999999999997,
          0.9,
          0.8500000000000001,
          0.745,
          0.745,
          0.74,
          0.731895965548504,
          1.2,
          0.8584397773415441,
          0.7969999999999999,
          1.081,
          0.7774433581049699,
          0.797,
          1.081,
          0.5833333333332484
         ],
         "yaxis": "y"
        },
        {
         "connectgaps": false,
         "hovertemplate": "fnid=TD2012A107<br>indicator=production<br>year=%{x}<br>value=%{y}<extra></extra>",
         "legendgroup": "TD2012A107",
         "line": {
          "color": "#ab63fa",
          "dash": "solid"
         },
         "marker": {
          "symbol": "circle"
         },
         "mode": "lines+markers",
         "name": "TD2012A107",
         "showlegend": true,
         "type": "scattergl",
         "x": [
          1984,
          1985,
          1986,
          1987,
          1988,
          1989,
          1990,
          1991,
          1992,
          1993,
          1994,
          1995,
          1996,
          1997,
          1998,
          1999,
          2000,
          2001,
          2002,
          2003,
          2004,
          2005,
          2006,
          2007,
          2008,
          2009,
          2010,
          2011,
          2012,
          2013,
          2014,
          2015,
          2016,
          2017
         ],
         "xaxis": "x3",
         "y": [
          null,
          null,
          null,
          null,
          null,
          null,
          null,
          null,
          null,
          null,
          80,
          54,
          null,
          null,
          80,
          null,
          null,
          657,
          1397,
          1506,
          3493,
          2174.9,
          533.4,
          662.9,
          513,
          140,
          1290.9,
          885.3,
          1245.3,
          869.6,
          1104.421,
          1254.226,
          1710.8154,
          1590.908
         ],
         "yaxis": "y3"
        },
        {
         "connectgaps": false,
         "hovertemplate": "fnid=TD2012A107<br>indicator=area<br>year=%{x}<br>value=%{y}<extra></extra>",
         "legendgroup": "TD2012A107",
         "line": {
          "color": "#ab63fa",
          "dash": "solid"
         },
         "marker": {
          "symbol": "circle"
         },
         "mode": "lines+markers",
         "name": "TD2012A107",
         "showlegend": false,
         "type": "scattergl",
         "x": [
          1984,
          1985,
          1986,
          1987,
          1988,
          1989,
          1990,
          1991,
          1992,
          1993,
          1994,
          1995,
          1996,
          1997,
          1998,
          1999,
          2000,
          2001,
          2002,
          2003,
          2004,
          2005,
          2006,
          2007,
          2008,
          2009,
          2010,
          2011,
          2012,
          2013,
          2014,
          2015,
          2016,
          2017
         ],
         "xaxis": "x2",
         "y": [
          null,
          null,
          null,
          null,
          null,
          null,
          null,
          null,
          null,
          null,
          300,
          200,
          null,
          null,
          300,
          null,
          null,
          2680,
          2328,
          3012,
          6985,
          3107,
          762,
          947,
          732,
          700,
          1986,
          1519,
          1779,
          2174,
          1911,
          1994,
          2771,
          2629.6
         ],
         "yaxis": "y2"
        },
        {
         "connectgaps": false,
         "hovertemplate": "fnid=TD2012A107<br>indicator=yield<br>year=%{x}<br>value=%{y}<extra></extra>",
         "legendgroup": "TD2012A107",
         "line": {
          "color": "#ab63fa",
          "dash": "solid"
         },
         "marker": {
          "symbol": "circle"
         },
         "mode": "lines+markers",
         "name": "TD2012A107",
         "showlegend": false,
         "type": "scattergl",
         "x": [
          1984,
          1985,
          1986,
          1987,
          1988,
          1989,
          1990,
          1991,
          1992,
          1993,
          1994,
          1995,
          1996,
          1997,
          1998,
          1999,
          2000,
          2001,
          2002,
          2003,
          2004,
          2005,
          2006,
          2007,
          2008,
          2009,
          2010,
          2011,
          2012,
          2013,
          2014,
          2015,
          2016,
          2017
         ],
         "xaxis": "x",
         "y": [
          null,
          null,
          null,
          null,
          null,
          null,
          null,
          null,
          null,
          null,
          0.2666666666666666,
          0.27,
          null,
          null,
          0.2666666666666666,
          null,
          null,
          0.2451492537313432,
          0.6000859106529209,
          0.5,
          0.5000715819613457,
          0.7000000000000001,
          0.7,
          0.7,
          0.7008196721311475,
          0.2,
          0.65,
          0.5828176431863068,
          0.7,
          0.4,
          0.5779283097854526,
          0.629,
          0.6174,
          0.605
         ],
         "yaxis": "y"
        },
        {
         "connectgaps": false,
         "hovertemplate": "fnid=TD2012A108<br>indicator=production<br>year=%{x}<br>value=%{y}<extra></extra>",
         "legendgroup": "TD2012A108",
         "line": {
          "color": "#FFA15A",
          "dash": "solid"
         },
         "marker": {
          "symbol": "circle"
         },
         "mode": "lines+markers",
         "name": "TD2012A108",
         "showlegend": true,
         "type": "scattergl",
         "x": [
          1984,
          1985,
          1986,
          1987,
          1988,
          1989,
          1990,
          1991,
          1992,
          1993,
          1994,
          1995,
          1996,
          1997,
          1998,
          1999,
          2000,
          2001,
          2002,
          2003,
          2004,
          2005,
          2006,
          2007,
          2008,
          2009,
          2010,
          2011,
          2012,
          2013,
          2014,
          2015,
          2016,
          2017
         ],
         "xaxis": "x3",
         "y": [
          1299.1722384695108,
          1539.759690037939,
          497.34237988225425,
          145.89223063109472,
          3443.67254676985,
          null,
          153.5910290812844,
          138.5783721034145,
          14627.71705536042,
          9675.4649522759,
          22811.539807912064,
          7279.213934654356,
          null,
          null,
          26301.79008530556,
          null,
          3479.4719595632323,
          10320.624262401794,
          3233.4953490796715,
          10393.377907756088,
          5716.357849265848,
          6096.043341833079,
          11230.60106751848,
          5731.589921999548,
          17541.974027904525,
          9944.15301818752,
          24633.9,
          23859.8,
          49642.161,
          16545.72592593,
          6445.424,
          28721.844,
          23701.46731509,
          27299.6568
         ],
         "yaxis": "y3"
        },
        {
         "connectgaps": false,
         "hovertemplate": "fnid=TD2012A108<br>indicator=area<br>year=%{x}<br>value=%{y}<extra></extra>",
         "legendgroup": "TD2012A108",
         "line": {
          "color": "#FFA15A",
          "dash": "solid"
         },
         "marker": {
          "symbol": "circle"
         },
         "mode": "lines+markers",
         "name": "TD2012A108",
         "showlegend": false,
         "type": "scattergl",
         "x": [
          1984,
          1985,
          1986,
          1987,
          1988,
          1989,
          1990,
          1991,
          1992,
          1993,
          1994,
          1995,
          1996,
          1997,
          1998,
          1999,
          2000,
          2001,
          2002,
          2003,
          2004,
          2005,
          2006,
          2007,
          2008,
          2009,
          2010,
          2011,
          2012,
          2013,
          2014,
          2015,
          2016,
          2017
         ],
         "xaxis": "x2",
         "y": [
          2609.8926746143065,
          2213.4045544295373,
          829.16059308543,
          1659.091066015879,
          1721.836273384925,
          null,
          269.45794575663933,
          173.22296512926812,
          7506.328488934952,
          6876.181835786925,
          10173.577212003172,
          4130.405368526771,
          null,
          null,
          11731.429078399056,
          null,
          7944.390120750746,
          8390.920430861748,
          8083.738372699179,
          3849.399225094847,
          6351.508721406498,
          7171.81569627421,
          15074.63230539393,
          7693.409291274562,
          23705.370307979087,
          13586.839504894771,
          27371,
          18856,
          46093,
          26434,
          19469,
          41991,
          36748.5975,
          34999.56
         ],
         "yaxis": "y2"
        },
        {
         "connectgaps": false,
         "hovertemplate": "fnid=TD2012A108<br>indicator=yield<br>year=%{x}<br>value=%{y}<extra></extra>",
         "legendgroup": "TD2012A108",
         "line": {
          "color": "#FFA15A",
          "dash": "solid"
         },
         "marker": {
          "symbol": "circle"
         },
         "mode": "lines+markers",
         "name": "TD2012A108",
         "showlegend": false,
         "type": "scattergl",
         "x": [
          1984,
          1985,
          1986,
          1987,
          1988,
          1989,
          1990,
          1991,
          1992,
          1993,
          1994,
          1995,
          1996,
          1997,
          1998,
          1999,
          2000,
          2001,
          2002,
          2003,
          2004,
          2005,
          2006,
          2007,
          2008,
          2009,
          2010,
          2011,
          2012,
          2013,
          2014,
          2015,
          2016,
          2017
         ],
         "xaxis": "x",
         "y": [
          0.4977876106194689,
          0.6956521739130435,
          0.5998142989786444,
          0.0879350348027842,
          2,
          null,
          0.57,
          0.8,
          1.948717948717949,
          1.4070984717012822,
          2.2422339097203827,
          1.762348555452004,
          null,
          null,
          2.2419936999606245,
          null,
          0.4379784862874309,
          1.2299752270850537,
          0.3999999999999999,
          2.6999999999999997,
          0.9,
          0.8500000000000001,
          0.745,
          0.7449999999999999,
          0.7400000000000001,
          0.731895965548504,
          0.9,
          1.2653691132795926,
          1.077,
          0.6259259259260801,
          0.33106086599209,
          0.684,
          0.644962499999898,
          0.78
         ],
         "yaxis": "y"
        },
        {
         "connectgaps": false,
         "hovertemplate": "fnid=TD2012A109<br>indicator=production<br>year=%{x}<br>value=%{y}<extra></extra>",
         "legendgroup": "TD2012A109",
         "line": {
          "color": "#19d3f3",
          "dash": "solid"
         },
         "marker": {
          "symbol": "circle"
         },
         "mode": "lines+markers",
         "name": "TD2012A109",
         "showlegend": true,
         "type": "scattergl",
         "x": [
          1984,
          1985,
          1986,
          1987,
          1988,
          1989,
          1990,
          1991,
          1992,
          1993,
          1994,
          1995,
          1996,
          1997,
          1998,
          1999,
          2000,
          2001,
          2002,
          2003,
          2004,
          2005,
          2006,
          2007,
          2008,
          2009,
          2010,
          2011,
          2012,
          2013,
          2014,
          2015,
          2016,
          2017
         ],
         "xaxis": "x3",
         "y": [
          54.2275633134375,
          3274.3338017647643,
          2516.06702661924,
          228.39914378625795,
          3754.109870402296,
          2952.1853112332415,
          4686.08867039934,
          5258.465196728886,
          7359.553497313939,
          null,
          202.20447337213983,
          91.91112426006356,
          null,
          null,
          null,
          null,
          null,
          101.10223668606992,
          null,
          null,
          null,
          248.1600355021716,
          545.7223002941274,
          183.82224852012712,
          141.88779807647313,
          null,
          205.2,
          266.56,
          459,
          396.06,
          382.006,
          209.723,
          475.193376,
          714.78
         ],
         "yaxis": "y3"
        },
        {
         "connectgaps": false,
         "hovertemplate": "fnid=TD2012A109<br>indicator=area<br>year=%{x}<br>value=%{y}<extra></extra>",
         "legendgroup": "TD2012A109",
         "line": {
          "color": "#19d3f3",
          "dash": "solid"
         },
         "marker": {
          "symbol": "circle"
         },
         "mode": "lines+markers",
         "name": "TD2012A109",
         "showlegend": false,
         "type": "scattergl",
         "x": [
          1984,
          1985,
          1986,
          1987,
          1988,
          1989,
          1990,
          1991,
          1992,
          1993,
          1994,
          1995,
          1996,
          1997,
          1998,
          1999,
          2000,
          2001,
          2002,
          2003,
          2004,
          2005,
          2006,
          2007,
          2008,
          2009,
          2010,
          2011,
          2012,
          2013,
          2014,
          2015,
          2016,
          2017
         ],
         "xaxis": "x2",
         "y": [
          27.573337278019068,
          1964.6002810588584,
          3145.6582278006754,
          259.64892603467956,
          3789.03609762112,
          2359.3585597558317,
          4161.0463730637275,
          3880.947221881184,
          5811.5403869638185,
          null,
          502.0645162705972,
          229.7778106501589,
          null,
          null,
          null,
          null,
          null,
          50.55111834303496,
          null,
          null,
          null,
          413.6000591702861,
          1091.4446005882548,
          367.64449704025424,
          283.77559615294626,
          null,
          342,
          1568,
          1020,
          861,
          409,
          401,
          892,
          752.4
         ],
         "yaxis": "y2"
        },
        {
         "connectgaps": false,
         "hovertemplate": "fnid=TD2012A109<br>indicator=yield<br>year=%{x}<br>value=%{y}<extra></extra>",
         "legendgroup": "TD2012A109",
         "line": {
          "color": "#19d3f3",
          "dash": "solid"
         },
         "marker": {
          "symbol": "circle"
         },
         "mode": "lines+markers",
         "name": "TD2012A109",
         "showlegend": false,
         "type": "scattergl",
         "x": [
          1984,
          1985,
          1986,
          1987,
          1988,
          1989,
          1990,
          1991,
          1992,
          1993,
          1994,
          1995,
          1996,
          1997,
          1998,
          1999,
          2000,
          2001,
          2002,
          2003,
          2004,
          2005,
          2006,
          2007,
          2008,
          2009,
          2010,
          2011,
          2012,
          2013,
          2014,
          2015,
          2016,
          2017
         ],
         "xaxis": "x",
         "y": [
          1.9666666666666663,
          1.6666666666666663,
          0.799853907962016,
          0.8796460176991151,
          0.9907822922983628,
          1.2512660693416435,
          1.1261803523110054,
          1.3549437537004143,
          1.2663688122726555,
          null,
          0.4027459954233409,
          0.4,
          null,
          null,
          null,
          null,
          null,
          2,
          null,
          null,
          null,
          0.6,
          0.5,
          0.5,
          0.5,
          null,
          0.6,
          0.17,
          0.45,
          0.46,
          0.934,
          0.523,
          0.532728,
          0.95
         ],
         "yaxis": "y"
        },
        {
         "connectgaps": false,
         "hovertemplate": "fnid=TD2012A110<br>indicator=production<br>year=%{x}<br>value=%{y}<extra></extra>",
         "legendgroup": "TD2012A110",
         "line": {
          "color": "#FF6692",
          "dash": "solid"
         },
         "marker": {
          "symbol": "circle"
         },
         "mode": "lines+markers",
         "name": "TD2012A110",
         "showlegend": true,
         "type": "scattergl",
         "x": [
          1984,
          1985,
          1986,
          1987,
          1988,
          1989,
          1990,
          1991,
          1992,
          1993,
          1994,
          1995,
          1996,
          1997,
          1998,
          1999,
          2000,
          2001,
          2002,
          2003,
          2004,
          2005,
          2006,
          2007,
          2008,
          2009,
          2010,
          2011,
          2012,
          2013,
          2014,
          2015,
          2016,
          2017
         ],
         "xaxis": "x3",
         "y": [
          null,
          null,
          null,
          null,
          null,
          null,
          null,
          null,
          null,
          17220,
          26030,
          11926,
          null,
          null,
          62011,
          null,
          34141,
          31844,
          25972,
          34747,
          37488,
          62151,
          34626,
          67065,
          45719.478,
          42327,
          50275.5,
          59937,
          76568.115,
          58186.9674,
          98340.9,
          103548.3,
          106096.7324025,
          73270.21
         ],
         "yaxis": "y3"
        },
        {
         "connectgaps": false,
         "hovertemplate": "fnid=TD2012A110<br>indicator=area<br>year=%{x}<br>value=%{y}<extra></extra>",
         "legendgroup": "TD2012A110",
         "line": {
          "color": "#FF6692",
          "dash": "solid"
         },
         "marker": {
          "symbol": "circle"
         },
         "mode": "lines+markers",
         "name": "TD2012A110",
         "showlegend": false,
         "type": "scattergl",
         "x": [
          1984,
          1985,
          1986,
          1987,
          1988,
          1989,
          1990,
          1991,
          1992,
          1993,
          1994,
          1995,
          1996,
          1997,
          1998,
          1999,
          2000,
          2001,
          2002,
          2003,
          2004,
          2005,
          2006,
          2007,
          2008,
          2009,
          2010,
          2011,
          2012,
          2013,
          2014,
          2015,
          2016,
          2017
         ],
         "xaxis": "x2",
         "y": [
          null,
          null,
          null,
          null,
          null,
          null,
          null,
          null,
          null,
          18170,
          17270,
          13000,
          null,
          null,
          40626,
          null,
          28404,
          29380,
          29150,
          30484,
          31240,
          41434,
          23084,
          44710,
          33642,
          28218,
          33517,
          25858,
          32513,
          24123.95,
          46829,
          45021,
          45169.65,
          37193
         ],
         "yaxis": "y2"
        },
        {
         "connectgaps": false,
         "hovertemplate": "fnid=TD2012A110<br>indicator=yield<br>year=%{x}<br>value=%{y}<extra></extra>",
         "legendgroup": "TD2012A110",
         "line": {
          "color": "#FF6692",
          "dash": "solid"
         },
         "marker": {
          "symbol": "circle"
         },
         "mode": "lines+markers",
         "name": "TD2012A110",
         "showlegend": false,
         "type": "scattergl",
         "x": [
          1984,
          1985,
          1986,
          1987,
          1988,
          1989,
          1990,
          1991,
          1992,
          1993,
          1994,
          1995,
          1996,
          1997,
          1998,
          1999,
          2000,
          2001,
          2002,
          2003,
          2004,
          2005,
          2006,
          2007,
          2008,
          2009,
          2010,
          2011,
          2012,
          2013,
          2014,
          2015,
          2016,
          2017
         ],
         "xaxis": "x",
         "y": [
          null,
          null,
          null,
          null,
          null,
          null,
          null,
          null,
          null,
          0.9477160154100164,
          1.5072379849449913,
          0.9173846153846154,
          null,
          null,
          1.526387042780485,
          null,
          1.201978594564146,
          1.083866575901974,
          0.8909777015437392,
          1.1398438525127936,
          1.2,
          1.5,
          1.5,
          1.5,
          1.359,
          1.5,
          1.5,
          2.317928687446825,
          2.355,
          2.412,
          2.1,
          2.3000000000000003,
          2.3488499999999997,
          1.97
         ],
         "yaxis": "y"
        },
        {
         "connectgaps": false,
         "hovertemplate": "fnid=TD2012A111<br>indicator=production<br>year=%{x}<br>value=%{y}<extra></extra>",
         "legendgroup": "TD2012A111",
         "line": {
          "color": "#B6E880",
          "dash": "solid"
         },
         "marker": {
          "symbol": "circle"
         },
         "mode": "lines+markers",
         "name": "TD2012A111",
         "showlegend": true,
         "type": "scattergl",
         "x": [
          1984,
          1985,
          1986,
          1987,
          1988,
          1989,
          1990,
          1991,
          1992,
          1993,
          1994,
          1995,
          1996,
          1997,
          1998,
          1999,
          2000,
          2001,
          2002,
          2003,
          2004,
          2005,
          2006,
          2007,
          2008,
          2009,
          2010,
          2011,
          2012,
          2013,
          2014,
          2015,
          2016,
          2017
         ],
         "xaxis": "x3",
         "y": [
          null,
          null,
          3908,
          null,
          294,
          206,
          340,
          1180,
          6960,
          2295,
          2142,
          2142,
          null,
          null,
          2440,
          null,
          5000,
          6573,
          2791,
          6230,
          5517,
          8948.8,
          9726.613,
          7746.05,
          7501.2,
          6654,
          6893.898,
          10387.322,
          11128.8,
          9072.5455,
          14128.32,
          8594.52,
          15432.2893494,
          15136.7940418
         ],
         "yaxis": "y3"
        },
        {
         "connectgaps": false,
         "hovertemplate": "fnid=TD2012A111<br>indicator=area<br>year=%{x}<br>value=%{y}<extra></extra>",
         "legendgroup": "TD2012A111",
         "line": {
          "color": "#B6E880",
          "dash": "solid"
         },
         "marker": {
          "symbol": "circle"
         },
         "mode": "lines+markers",
         "name": "TD2012A111",
         "showlegend": false,
         "type": "scattergl",
         "x": [
          1984,
          1985,
          1986,
          1987,
          1988,
          1989,
          1990,
          1991,
          1992,
          1993,
          1994,
          1995,
          1996,
          1997,
          1998,
          1999,
          2000,
          2001,
          2002,
          2003,
          2004,
          2005,
          2006,
          2007,
          2008,
          2009,
          2010,
          2011,
          2012,
          2013,
          2014,
          2015,
          2016,
          2017
         ],
         "xaxis": "x2",
         "y": [
          null,
          null,
          4885,
          null,
          420,
          348,
          500,
          1800,
          9600,
          8830,
          3060,
          4344,
          null,
          null,
          2870,
          null,
          6060,
          9141,
          2800,
          7000,
          7516,
          11186,
          9659,
          9113,
          11400,
          7112,
          9354,
          13086,
          13911,
          8425,
          12264,
          11490,
          17352.324,
          16219.5264
         ],
         "yaxis": "y2"
        },
        {
         "connectgaps": false,
         "hovertemplate": "fnid=TD2012A111<br>indicator=yield<br>year=%{x}<br>value=%{y}<extra></extra>",
         "legendgroup": "TD2012A111",
         "line": {
          "color": "#B6E880",
          "dash": "solid"
         },
         "marker": {
          "symbol": "circle"
         },
         "mode": "lines+markers",
         "name": "TD2012A111",
         "showlegend": false,
         "type": "scattergl",
         "x": [
          1984,
          1985,
          1986,
          1987,
          1988,
          1989,
          1990,
          1991,
          1992,
          1993,
          1994,
          1995,
          1996,
          1997,
          1998,
          1999,
          2000,
          2001,
          2002,
          2003,
          2004,
          2005,
          2006,
          2007,
          2008,
          2009,
          2010,
          2011,
          2012,
          2013,
          2014,
          2015,
          2016,
          2017
         ],
         "xaxis": "x",
         "y": [
          null,
          null,
          0.8,
          null,
          0.7,
          0.5919540229885057,
          0.68,
          0.6555555555555556,
          0.725,
          0.2599093997734994,
          0.7,
          0.4930939226519337,
          null,
          null,
          0.8501742160278746,
          null,
          0.8250825082508251,
          0.7190679356744338,
          0.9967857142857144,
          0.89,
          0.7340340606705694,
          0.7999999999999999,
          1.007,
          0.85,
          0.658,
          0.935601799775028,
          0.737,
          0.7937736512303225,
          0.7999999999999999,
          1.07686,
          1.1520156555772991,
          0.748,
          0.88935,
          0.9332451311155424
         ],
         "yaxis": "y"
        },
        {
         "connectgaps": false,
         "hovertemplate": "fnid=TD2012A112<br>indicator=production<br>year=%{x}<br>value=%{y}<extra></extra>",
         "legendgroup": "TD2012A112",
         "line": {
          "color": "#FF97FF",
          "dash": "solid"
         },
         "marker": {
          "symbol": "circle"
         },
         "mode": "lines+markers",
         "name": "TD2012A112",
         "showlegend": true,
         "type": "scattergl",
         "x": [
          1984,
          1985,
          1986,
          1987,
          1988,
          1989,
          1990,
          1991,
          1992,
          1993,
          1994,
          1995,
          1996,
          1997,
          1998,
          1999,
          2000,
          2001,
          2002,
          2003,
          2004,
          2005,
          2006,
          2007,
          2008,
          2009,
          2010,
          2011,
          2012,
          2013,
          2014,
          2015,
          2016,
          2017
         ],
         "xaxis": "x3",
         "y": [
          null,
          null,
          3701,
          null,
          5704,
          514,
          1158,
          7950,
          998,
          333,
          11568,
          4402,
          null,
          null,
          7270,
          null,
          2066,
          3147,
          5626,
          7200,
          9280,
          5205.61,
          15840,
          15069.48,
          10719.9,
          7439,
          9241.2,
          10082.915,
          5380,
          19072.38,
          28898.253,
          19874.949,
          20305.95141377,
          19746.29475
         ],
         "yaxis": "y3"
        },
        {
         "connectgaps": false,
         "hovertemplate": "fnid=TD2012A112<br>indicator=area<br>year=%{x}<br>value=%{y}<extra></extra>",
         "legendgroup": "TD2012A112",
         "line": {
          "color": "#FF97FF",
          "dash": "solid"
         },
         "marker": {
          "symbol": "circle"
         },
         "mode": "lines+markers",
         "name": "TD2012A112",
         "showlegend": false,
         "type": "scattergl",
         "x": [
          1984,
          1985,
          1986,
          1987,
          1988,
          1989,
          1990,
          1991,
          1992,
          1993,
          1994,
          1995,
          1996,
          1997,
          1998,
          1999,
          2000,
          2001,
          2002,
          2003,
          2004,
          2005,
          2006,
          2007,
          2008,
          2009,
          2010,
          2011,
          2012,
          2013,
          2014,
          2015,
          2016,
          2017
         ],
         "xaxis": "x2",
         "y": [
          null,
          null,
          4627,
          null,
          7050,
          1075,
          1700,
          11000,
          1400,
          1280,
          14300,
          8893,
          null,
          null,
          9031,
          null,
          3130,
          5936,
          8360,
          9000,
          11600,
          5849,
          19200,
          16932,
          12900,
          10417,
          10872,
          12555,
          10760,
          15506,
          21091,
          20899,
          19921,
          19359.1125
         ],
         "yaxis": "y2"
        },
        {
         "connectgaps": false,
         "hovertemplate": "fnid=TD2012A112<br>indicator=yield<br>year=%{x}<br>value=%{y}<extra></extra>",
         "legendgroup": "TD2012A112",
         "line": {
          "color": "#FF97FF",
          "dash": "solid"
         },
         "marker": {
          "symbol": "circle"
         },
         "mode": "lines+markers",
         "name": "TD2012A112",
         "showlegend": false,
         "type": "scattergl",
         "x": [
          1984,
          1985,
          1986,
          1987,
          1988,
          1989,
          1990,
          1991,
          1992,
          1993,
          1994,
          1995,
          1996,
          1997,
          1998,
          1999,
          2000,
          2001,
          2002,
          2003,
          2004,
          2005,
          2006,
          2007,
          2008,
          2009,
          2010,
          2011,
          2012,
          2013,
          2014,
          2015,
          2016,
          2017
         ],
         "xaxis": "x",
         "y": [
          null,
          null,
          0.7998703263453641,
          null,
          0.8090780141843972,
          0.4781395348837209,
          0.6811764705882353,
          0.7227272727272728,
          0.7128571428571429,
          0.26015625,
          0.808951048951049,
          0.4949960643202519,
          null,
          null,
          0.8050049828368951,
          null,
          0.6600638977635783,
          0.530154986522911,
          0.6729665071770335,
          0.8,
          0.8,
          0.8899999999999999,
          0.825,
          0.89,
          0.831,
          0.7141211481232601,
          0.8500000000000001,
          0.803099561927519,
          0.5,
          1.23,
          1.370169882888436,
          0.951,
          1.0193239000938707,
          1.02
         ],
         "yaxis": "y"
        },
        {
         "connectgaps": false,
         "hovertemplate": "fnid=TD2012A113<br>indicator=production<br>year=%{x}<br>value=%{y}<extra></extra>",
         "legendgroup": "TD2012A113",
         "line": {
          "color": "#FECB52",
          "dash": "solid"
         },
         "marker": {
          "symbol": "circle"
         },
         "mode": "lines+markers",
         "name": "TD2012A113",
         "showlegend": true,
         "type": "scattergl",
         "x": [
          1984,
          1985,
          1986,
          1987,
          1988,
          1989,
          1990,
          1991,
          1992,
          1993,
          1994,
          1995,
          1996,
          1997,
          1998,
          1999,
          2000,
          2001,
          2002,
          2003,
          2004,
          2005,
          2006,
          2007,
          2008,
          2009,
          2010,
          2011,
          2012,
          2013,
          2014,
          2015,
          2016,
          2017
         ],
         "xaxis": "x3",
         "y": [
          null,
          null,
          3073.653280130434,
          null,
          673.3746639595436,
          1844.290199247328,
          2394.384746026823,
          2996.050656566897,
          810.4071448090788,
          2492.124759249252,
          5638.960260335171,
          2816.778773018222,
          null,
          null,
          5044.661687475181,
          null,
          2455.779226694178,
          3215.106163588018,
          5782.377767174112,
          5218.530856725129,
          6014.203326174042,
          8675.285696219853,
          6723.255550738998,
          6002.145450170974,
          6688.614328967251,
          8892.376579859618,
          3131.14,
          5929,
          11122.562,
          10824.94,
          11185.138,
          9449.847,
          13554.74918374,
          10716.0377625
         ],
         "yaxis": "y3"
        },
        {
         "connectgaps": false,
         "hovertemplate": "fnid=TD2012A113<br>indicator=area<br>year=%{x}<br>value=%{y}<extra></extra>",
         "legendgroup": "TD2012A113",
         "line": {
          "color": "#FECB52",
          "dash": "solid"
         },
         "marker": {
          "symbol": "circle"
         },
         "mode": "lines+markers",
         "name": "TD2012A113",
         "showlegend": false,
         "type": "scattergl",
         "x": [
          1984,
          1985,
          1986,
          1987,
          1988,
          1989,
          1990,
          1991,
          1992,
          1993,
          1994,
          1995,
          1996,
          1997,
          1998,
          1999,
          2000,
          2001,
          2002,
          2003,
          2004,
          2005,
          2006,
          2007,
          2008,
          2009,
          2010,
          2011,
          2012,
          2013,
          2014,
          2015,
          2016,
          2017
         ],
         "xaxis": "x2",
         "y": [
          null,
          null,
          3841.821022240372,
          null,
          815.3187032624671,
          2877.190941994899,
          3192.5129947024316,
          3339.859748304082,
          1227.889613347089,
          4341.817672795307,
          6827.066250209815,
          3451.8432810413365,
          null,
          null,
          7310.854757868568,
          null,
          3373.258345787123,
          5450.847571570397,
          5942.9857285999105,
          6139.448066735445,
          7517.631368756218,
          10206.218466141005,
          8003.875655641665,
          7061.34758843644,
          6989.14767917163,
          10935.093740623835,
          3331,
          6730,
          9922,
          11690,
          12428,
          9905.5,
          13499,
          11280.03975
         ],
         "yaxis": "y2"
        },
        {
         "connectgaps": false,
         "hovertemplate": "fnid=TD2012A113<br>indicator=yield<br>year=%{x}<br>value=%{y}<extra></extra>",
         "legendgroup": "TD2012A113",
         "line": {
          "color": "#FECB52",
          "dash": "solid"
         },
         "marker": {
          "symbol": "circle"
         },
         "mode": "lines+markers",
         "name": "TD2012A113",
         "showlegend": false,
         "type": "scattergl",
         "x": [
          1984,
          1985,
          1986,
          1987,
          1988,
          1989,
          1990,
          1991,
          1992,
          1993,
          1994,
          1995,
          1996,
          1997,
          1998,
          1999,
          2000,
          2001,
          2002,
          2003,
          2004,
          2005,
          2006,
          2007,
          2008,
          2009,
          2010,
          2011,
          2012,
          2013,
          2014,
          2015,
          2016,
          2017
         ],
         "xaxis": "x",
         "y": [
          null,
          null,
          0.8000511378164152,
          null,
          0.8259036144578312,
          0.6410037555479686,
          0.7499999999999999,
          0.8970588235294117,
          0.66,
          0.5739819004524886,
          0.8259712230215828,
          0.8160216277746158,
          null,
          null,
          0.6900235136042996,
          null,
          0.7280139778683751,
          0.5898360064876554,
          0.9729752066115704,
          0.8500000000000001,
          0.8000130667712008,
          0.8499999999999999,
          0.84,
          0.8500000000000001,
          0.957,
          0.813196191160618,
          0.94,
          0.8809806835066865,
          1.121,
          0.926,
          0.8999950112648858,
          0.954,
          1.0041298750825989,
          0.95
         ],
         "yaxis": "y"
        },
        {
         "connectgaps": false,
         "hovertemplate": "fnid=TD2012A114<br>indicator=production<br>year=%{x}<br>value=%{y}<extra></extra>",
         "legendgroup": "TD2012A114",
         "line": {
          "color": "#636efa",
          "dash": "solid"
         },
         "marker": {
          "symbol": "circle"
         },
         "mode": "lines+markers",
         "name": "TD2012A114",
         "showlegend": true,
         "type": "scattergl",
         "x": [
          1984,
          1985,
          1986,
          1987,
          1988,
          1989,
          1990,
          1991,
          1992,
          1993,
          1994,
          1995,
          1996,
          1997,
          1998,
          1999,
          2000,
          2001,
          2002,
          2003,
          2004,
          2005,
          2006,
          2007,
          2008,
          2009,
          2010,
          2011,
          2012,
          2013,
          2014,
          2015,
          2016,
          2017
         ],
         "xaxis": "x3",
         "y": [
          null,
          null,
          1219.5017758906552,
          null,
          286.8574768335664,
          467.0371482245404,
          439.00919934149994,
          2305.155795890873,
          680.106759631327,
          1915.0525073554943,
          5367.352211102234,
          4195.898347582505,
          null,
          null,
          3008.714512750866,
          null,
          1429.9973919918566,
          4149.56643208197,
          3431.993740780456,
          4039.4566328985966,
          2734.7270124452266,
          13269.453449366594,
          9927.065919163657,
          13822.888466019976,
          10026.197914368182,
          12275.955611293291,
          8768.97,
          10307.594,
          20372.274,
          23765.35181053,
          17694.88,
          7994.175,
          18832.40740741,
          17397.68033631
         ],
         "yaxis": "y3"
        },
        {
         "connectgaps": false,
         "hovertemplate": "fnid=TD2012A114<br>indicator=area<br>year=%{x}<br>value=%{y}<extra></extra>",
         "legendgroup": "TD2012A114",
         "line": {
          "color": "#636efa",
          "dash": "solid"
         },
         "marker": {
          "symbol": "circle"
         },
         "mode": "lines+markers",
         "name": "TD2012A114",
         "showlegend": false,
         "type": "scattergl",
         "x": [
          1984,
          1985,
          1986,
          1987,
          1988,
          1989,
          1990,
          1991,
          1992,
          1993,
          1994,
          1995,
          1996,
          1997,
          1998,
          1999,
          2000,
          2001,
          2002,
          2003,
          2004,
          2005,
          2006,
          2007,
          2008,
          2009,
          2010,
          2011,
          2012,
          2013,
          2014,
          2015,
          2016,
          2017
         ],
         "xaxis": "x2",
         "y": [
          null,
          null,
          1581.8631150213916,
          null,
          288.85947318235503,
          470.7551414437192,
          486.1991132772312,
          2230.795931507296,
          906.6183465228372,
          3546.3935321398044,
          5405.390141729218,
          5025.010835459384,
          null,
          null,
          3775.1931148585018,
          null,
          3174.5942102219215,
          5548.389880928404,
          5719.989567967426,
          4837.395177630052,
          3278.984019837327,
          15891.561017205502,
          11191.731588685068,
          13672.49106431254,
          12212.177727610457,
          14600.845371193653,
          13470,
          9391,
          8658,
          20058,
          13402,
          7613.5,
          11825,
          12425.6
         ],
         "yaxis": "y2"
        },
        {
         "connectgaps": false,
         "hovertemplate": "fnid=TD2012A114<br>indicator=yield<br>year=%{x}<br>value=%{y}<extra></extra>",
         "legendgroup": "TD2012A114",
         "line": {
          "color": "#636efa",
          "dash": "solid"
         },
         "marker": {
          "symbol": "circle"
         },
         "mode": "lines+markers",
         "name": "TD2012A114",
         "showlegend": false,
         "type": "scattergl",
         "x": [
          1984,
          1985,
          1986,
          1987,
          1988,
          1989,
          1990,
          1991,
          1992,
          1993,
          1994,
          1995,
          1996,
          1997,
          1998,
          1999,
          2000,
          2001,
          2002,
          2003,
          2004,
          2005,
          2006,
          2007,
          2008,
          2009,
          2010,
          2011,
          2012,
          2013,
          2014,
          2015,
          2016,
          2017
         ],
         "xaxis": "x",
         "y": [
          null,
          null,
          0.7709274995480021,
          null,
          0.993069306930693,
          0.9921020656136088,
          0.9029411764705882,
          1.0333333333333334,
          0.7501577287066246,
          0.5399999999999999,
          0.9929629629629628,
          0.8350028457598179,
          null,
          null,
          0.796969696969697,
          null,
          0.4504504504504504,
          0.7478865979381444,
          0.6,
          0.8350478893224549,
          0.8340165721761884,
          0.835,
          0.8870000000000001,
          1.011,
          0.8209999999999998,
          0.840770195095197,
          0.6509999999999999,
          1.097603450111809,
          2.353,
          1.184831578947552,
          1.3203163706909418,
          1.05,
          1.5925925925928115,
          1.400148108446272
         ],
         "yaxis": "y"
        },
        {
         "connectgaps": false,
         "hovertemplate": "fnid=TD2012A115<br>indicator=production<br>year=%{x}<br>value=%{y}<extra></extra>",
         "legendgroup": "TD2012A115",
         "line": {
          "color": "#EF553B",
          "dash": "solid"
         },
         "marker": {
          "symbol": "circle"
         },
         "mode": "lines+markers",
         "name": "TD2012A115",
         "showlegend": true,
         "type": "scattergl",
         "x": [
          1984,
          1985,
          1986,
          1987,
          1988,
          1989,
          1990,
          1991,
          1992,
          1993,
          1994,
          1995,
          1996,
          1997,
          1998,
          1999,
          2000,
          2001,
          2002,
          2003,
          2004,
          2005,
          2006,
          2007,
          2008,
          2009,
          2010,
          2011,
          2012,
          2013,
          2014,
          2015,
          2016,
          2017
         ],
         "xaxis": "x3",
         "y": [
          null,
          null,
          3044.498224109345,
          null,
          716.1425231664336,
          1165.9628517754595,
          1095.9908006585,
          5754.8442041091275,
          1697.893240368673,
          4780.947492644506,
          13399.647788897766,
          10475.101652417496,
          null,
          null,
          7511.285487249134,
          null,
          3570.002608008144,
          10359.433567918031,
          8568.006259219545,
          10084.543367101403,
          6827.272987554774,
          33127.32155063341,
          24783.01808083635,
          34508.977533980025,
          25030.502085631815,
          30647.044388706712,
          8489.892,
          51157.49,
          28842.462,
          64242.7520625,
          34860.11,
          28852.925,
          44498.98564348,
          41457.41394385
         ],
         "yaxis": "y3"
        },
        {
         "connectgaps": false,
         "hovertemplate": "fnid=TD2012A115<br>indicator=area<br>year=%{x}<br>value=%{y}<extra></extra>",
         "legendgroup": "TD2012A115",
         "line": {
          "color": "#EF553B",
          "dash": "solid"
         },
         "marker": {
          "symbol": "circle"
         },
         "mode": "lines+markers",
         "name": "TD2012A115",
         "showlegend": false,
         "type": "scattergl",
         "x": [
          1984,
          1985,
          1986,
          1987,
          1988,
          1989,
          1990,
          1991,
          1992,
          1993,
          1994,
          1995,
          1996,
          1997,
          1998,
          1999,
          2000,
          2001,
          2002,
          2003,
          2004,
          2005,
          2006,
          2007,
          2008,
          2009,
          2010,
          2011,
          2012,
          2013,
          2014,
          2015,
          2016,
          2017
         ],
         "xaxis": "x2",
         "y": [
          null,
          null,
          3949.1368849786086,
          null,
          721.1405268176451,
          1175.2448585562809,
          1213.8008867227688,
          5569.204068492704,
          2263.381653477163,
          8853.606467860196,
          13494.609858270784,
          12544.989164540615,
          null,
          null,
          9424.8068851415,
          null,
          7925.405789778079,
          13851.610119071598,
          14280.010432032575,
          12076.604822369947,
          8186.015980162673,
          39673.4389827945,
          27940.268411314937,
          34133.50893568747,
          30487.82227238955,
          36451.15462880635,
          45159,
          35775,
          37851,
          53055,
          30095,
          30371.5,
          37422,
          39331.026
         ],
         "yaxis": "y2"
        },
        {
         "connectgaps": false,
         "hovertemplate": "fnid=TD2012A115<br>indicator=yield<br>year=%{x}<br>value=%{y}<extra></extra>",
         "legendgroup": "TD2012A115",
         "line": {
          "color": "#EF553B",
          "dash": "solid"
         },
         "marker": {
          "symbol": "circle"
         },
         "mode": "lines+markers",
         "name": "TD2012A115",
         "showlegend": false,
         "type": "scattergl",
         "x": [
          1984,
          1985,
          1986,
          1987,
          1988,
          1989,
          1990,
          1991,
          1992,
          1993,
          1994,
          1995,
          1996,
          1997,
          1998,
          1999,
          2000,
          2001,
          2002,
          2003,
          2004,
          2005,
          2006,
          2007,
          2008,
          2009,
          2010,
          2011,
          2012,
          2013,
          2014,
          2015,
          2016,
          2017
         ],
         "xaxis": "x",
         "y": [
          null,
          null,
          0.7709274995480021,
          null,
          0.9930693069306932,
          0.9921020656136088,
          0.9029411764705882,
          1.0333333333333332,
          0.7501577287066246,
          0.54,
          0.9929629629629628,
          0.8350028457598179,
          null,
          null,
          0.796969696969697,
          null,
          0.4504504504504504,
          0.7478865979381443,
          0.6,
          0.8350478893224548,
          0.8340165721761884,
          0.8350000000000001,
          0.8870000000000001,
          1.011,
          0.8209999999999998,
          0.8407701950951971,
          0.188,
          1.4299787561146051,
          0.762,
          1.2108708333333331,
          1.1583356039209172,
          0.95,
          1.189112972141521,
          1.0540638818791557
         ],
         "yaxis": "y"
        },
        {
         "connectgaps": false,
         "hovertemplate": "fnid=TD2012A116<br>indicator=production<br>year=%{x}<br>value=%{y}<extra></extra>",
         "legendgroup": "TD2012A116",
         "line": {
          "color": "#00cc96",
          "dash": "solid"
         },
         "marker": {
          "symbol": "circle"
         },
         "mode": "lines+markers",
         "name": "TD2012A116",
         "showlegend": true,
         "type": "scattergl",
         "x": [
          1984,
          1985,
          1986,
          1987,
          1988,
          1989,
          1990,
          1991,
          1992,
          1993,
          1994,
          1995,
          1996,
          1997,
          1998,
          1999,
          2000,
          2001,
          2002,
          2003,
          2004,
          2005,
          2006,
          2007,
          2008,
          2009,
          2010,
          2011,
          2012,
          2013,
          2014,
          2015,
          2016,
          2017
         ],
         "xaxis": "x3",
         "y": [
          null,
          null,
          3184.346719869566,
          null,
          697.6253360404564,
          1910.709800752672,
          2480.615253973177,
          3103.949343433103,
          839.5928551909212,
          2581.875240750748,
          5842.039739664829,
          2918.221226981778,
          null,
          null,
          5226.338312524819,
          null,
          2544.220773305822,
          3330.893836411982,
          5990.622232825888,
          5406.469143274871,
          6230.796673825958,
          8987.714303780147,
          6965.3844492610015,
          6218.304549829027,
          6929.49567103275,
          9212.623420140382,
          12832.904,
          4939,
          3434.019,
          10559.23,
          10089.242,
          12607.602,
          14048.92038462,
          10432.78330463
         ],
         "yaxis": "y3"
        },
        {
         "connectgaps": false,
         "hovertemplate": "fnid=TD2012A116<br>indicator=area<br>year=%{x}<br>value=%{y}<extra></extra>",
         "legendgroup": "TD2012A116",
         "line": {
          "color": "#00cc96",
          "dash": "solid"
         },
         "marker": {
          "symbol": "circle"
         },
         "mode": "lines+markers",
         "name": "TD2012A116",
         "showlegend": false,
         "type": "scattergl",
         "x": [
          1984,
          1985,
          1986,
          1987,
          1988,
          1989,
          1990,
          1991,
          1992,
          1993,
          1994,
          1995,
          1996,
          1997,
          1998,
          1999,
          2000,
          2001,
          2002,
          2003,
          2004,
          2005,
          2006,
          2007,
          2008,
          2009,
          2010,
          2011,
          2012,
          2013,
          2014,
          2015,
          2016,
          2017
         ],
         "xaxis": "x2",
         "y": [
          null,
          null,
          3980.178977759628,
          null,
          844.6812967375329,
          2980.809058005101,
          3307.4870052975684,
          3460.140251695918,
          1272.110386652911,
          4498.182327204693,
          7072.933749790185,
          3576.1567189586635,
          null,
          null,
          7574.145242131432,
          null,
          3494.741654212877,
          5647.152428429603,
          6157.0142714000895,
          6360.551933264555,
          7788.368631243782,
          10573.781533858995,
          8292.124344358335,
          7315.65241156356,
          7240.85232082837,
          11328.906259376165,
          13784,
          6238,
          9357,
          8135,
          11440,
          14763,
          13947,
          11833.29
         ],
         "yaxis": "y2"
        },
        {
         "connectgaps": false,
         "hovertemplate": "fnid=TD2012A116<br>indicator=yield<br>year=%{x}<br>value=%{y}<extra></extra>",
         "legendgroup": "TD2012A116",
         "line": {
          "color": "#00cc96",
          "dash": "solid"
         },
         "marker": {
          "symbol": "circle"
         },
         "mode": "lines+markers",
         "name": "TD2012A116",
         "showlegend": false,
         "type": "scattergl",
         "x": [
          1984,
          1985,
          1986,
          1987,
          1988,
          1989,
          1990,
          1991,
          1992,
          1993,
          1994,
          1995,
          1996,
          1997,
          1998,
          1999,
          2000,
          2001,
          2002,
          2003,
          2004,
          2005,
          2006,
          2007,
          2008,
          2009,
          2010,
          2011,
          2012,
          2013,
          2014,
          2015,
          2016,
          2017
         ],
         "xaxis": "x",
         "y": [
          null,
          null,
          0.8000511378164152,
          null,
          0.8259036144578314,
          0.6410037555479685,
          0.7500000000000001,
          0.8970588235294118,
          0.6599999999999999,
          0.5739819004524888,
          0.8259712230215828,
          0.8160216277746158,
          null,
          null,
          0.6900235136042996,
          null,
          0.7280139778683751,
          0.5898360064876554,
          0.9729752066115702,
          0.8499999999999999,
          0.8000130667712009,
          0.8500000000000001,
          0.84,
          0.8500000000000001,
          0.957,
          0.813196191160618,
          0.931,
          0.7917601795447259,
          0.367,
          1.298,
          0.8819267482517482,
          0.8540000000000001,
          1.0073076923080233,
          0.8816468881122663
         ],
         "yaxis": "y"
        },
        {
         "connectgaps": false,
         "hovertemplate": "fnid=TD2012A118<br>indicator=production<br>year=%{x}<br>value=%{y}<extra></extra>",
         "legendgroup": "TD2012A118",
         "line": {
          "color": "#ab63fa",
          "dash": "solid"
         },
         "marker": {
          "symbol": "circle"
         },
         "mode": "lines+markers",
         "name": "TD2012A118",
         "showlegend": true,
         "type": "scattergl",
         "x": [
          1984,
          1985,
          1986,
          1987,
          1988,
          1989,
          1990,
          1991,
          1992,
          1993,
          1994,
          1995,
          1996,
          1997,
          1998,
          1999,
          2000,
          2001,
          2002,
          2003,
          2004,
          2005,
          2006,
          2007,
          2008,
          2009,
          2010,
          2011,
          2012,
          2013,
          2014,
          2015,
          2016,
          2017
         ],
         "xaxis": "x3",
         "y": [
          0.4881631763601737,
          4.430523877856363,
          2.8194242859085943,
          2.8194242859085943,
          0.1449989632752991,
          0.9747152531283996,
          null,
          0.8055497959738841,
          0.3222199183895536,
          0.3463864122687701,
          5.297295458324261,
          4.631911326849833,
          null,
          null,
          10.398036766430897,
          null,
          null,
          26.083702393634365,
          null,
          null,
          59.88457183269854,
          59.87329413555491,
          null,
          null,
          122.44356898803038,
          36.773348186207805,
          112.5,
          30,
          246.977,
          481.44,
          880.872,
          627.996,
          537.82365,
          678.27474
         ],
         "yaxis": "y3"
        },
        {
         "connectgaps": false,
         "hovertemplate": "fnid=TD2012A118<br>indicator=area<br>year=%{x}<br>value=%{y}<extra></extra>",
         "legendgroup": "TD2012A118",
         "line": {
          "color": "#ab63fa",
          "dash": "solid"
         },
         "marker": {
          "symbol": "circle"
         },
         "mode": "lines+markers",
         "name": "TD2012A118",
         "showlegend": false,
         "type": "scattergl",
         "x": [
          1984,
          1985,
          1986,
          1987,
          1988,
          1989,
          1990,
          1991,
          1992,
          1993,
          1994,
          1995,
          1996,
          1997,
          1998,
          1999,
          2000,
          2001,
          2002,
          2003,
          2004,
          2005,
          2006,
          2007,
          2008,
          2009,
          2010,
          2011,
          2012,
          2013,
          2014,
          2015,
          2016,
          2017
         ],
         "xaxis": "x2",
         "y": [
          1.5788776001088127,
          6.444398367791073,
          5.638848571817189,
          4.076081967627854,
          0.9505487592491833,
          1.216380191920565,
          0.8055497959738841,
          2.416649387921652,
          2.416649387921652,
          3.4638641226877014,
          5.985234984085959,
          10.472147347660492,
          null,
          null,
          13.863511988710544,
          null,
          null,
          60.819009596028245,
          null,
          null,
          115.83806066104452,
          85.53327733650701,
          null,
          126.14909804951024,
          153.05446123503796,
          37.80445192505438,
          150,
          110,
          257,
          680,
          867,
          887,
          961,
          858
         ],
         "yaxis": "y2"
        },
        {
         "connectgaps": false,
         "hovertemplate": "fnid=TD2012A118<br>indicator=yield<br>year=%{x}<br>value=%{y}<extra></extra>",
         "legendgroup": "TD2012A118",
         "line": {
          "color": "#ab63fa",
          "dash": "solid"
         },
         "marker": {
          "symbol": "circle"
         },
         "mode": "lines+markers",
         "name": "TD2012A118",
         "showlegend": false,
         "type": "scattergl",
         "x": [
          1984,
          1985,
          1986,
          1987,
          1988,
          1989,
          1990,
          1991,
          1992,
          1993,
          1994,
          1995,
          1996,
          1997,
          1998,
          1999,
          2000,
          2001,
          2002,
          2003,
          2004,
          2005,
          2006,
          2007,
          2008,
          2009,
          2010,
          2011,
          2012,
          2013,
          2014,
          2015,
          2016,
          2017
         ],
         "xaxis": "x",
         "y": [
          0.3091836734693877,
          0.6875,
          0.5,
          0.691699604743083,
          0.1525423728813559,
          0.8013245033112582,
          null,
          0.3333333333333333,
          0.1333333333333333,
          0.1,
          0.8850605652759084,
          0.4423076923076923,
          null,
          null,
          0.7500290528762347,
          null,
          null,
          0.4288741721854304,
          null,
          null,
          0.5169680111265647,
          0.7,
          null,
          null,
          0.8,
          0.972725335606222,
          0.75,
          0.2727272727272727,
          0.961,
          0.708,
          1.016,
          0.708,
          0.5596500000000001,
          0.79053
         ],
         "yaxis": "y"
        },
        {
         "connectgaps": false,
         "hovertemplate": "fnid=TD2012A119<br>indicator=production<br>year=%{x}<br>value=%{y}<extra></extra>",
         "legendgroup": "TD2012A119",
         "line": {
          "color": "#FFA15A",
          "dash": "solid"
         },
         "marker": {
          "symbol": "circle"
         },
         "mode": "lines+markers",
         "name": "TD2012A119",
         "showlegend": true,
         "type": "scattergl",
         "x": [
          1984,
          1985,
          1986,
          1987,
          1988,
          1989,
          1990,
          1991,
          1992,
          1993,
          1994,
          1995,
          1996,
          1997,
          1998,
          1999,
          2000,
          2001,
          2002,
          2003,
          2004,
          2005,
          2006,
          2007,
          2008,
          2009,
          2010,
          2011,
          2012,
          2013,
          2014,
          2015,
          2016,
          2017
         ],
         "xaxis": "x3",
         "y": [
          null,
          null,
          null,
          325,
          null,
          null,
          null,
          970,
          null,
          600,
          1344.6,
          873,
          null,
          null,
          2000,
          null,
          2680,
          5390,
          8800,
          6596,
          null,
          10440,
          20910,
          27562.5,
          37986,
          51155,
          22824.9,
          15544.144,
          36514.8,
          46462.208,
          34508.789,
          37104.132,
          39416.40948,
          42197.649252
         ],
         "yaxis": "y3"
        },
        {
         "connectgaps": false,
         "hovertemplate": "fnid=TD2012A119<br>indicator=area<br>year=%{x}<br>value=%{y}<extra></extra>",
         "legendgroup": "TD2012A119",
         "line": {
          "color": "#FFA15A",
          "dash": "solid"
         },
         "marker": {
          "symbol": "circle"
         },
         "mode": "lines+markers",
         "name": "TD2012A119",
         "showlegend": false,
         "type": "scattergl",
         "x": [
          1984,
          1985,
          1986,
          1987,
          1988,
          1989,
          1990,
          1991,
          1992,
          1993,
          1994,
          1995,
          1996,
          1997,
          1998,
          1999,
          2000,
          2001,
          2002,
          2003,
          2004,
          2005,
          2006,
          2007,
          2008,
          2009,
          2010,
          2011,
          2012,
          2013,
          2014,
          2015,
          2016,
          2017
         ],
         "xaxis": "x2",
         "y": [
          null,
          null,
          null,
          650,
          null,
          null,
          null,
          3000,
          null,
          1300,
          1344.6,
          1570,
          null,
          null,
          4000,
          null,
          6700,
          4300,
          8800,
          3365,
          null,
          6960,
          13940,
          18375,
          25324,
          35789,
          25361,
          13552,
          30429,
          38848,
          24773,
          27982,
          29974,
          32813
         ],
         "yaxis": "y2"
        },
        {
         "connectgaps": false,
         "hovertemplate": "fnid=TD2012A119<br>indicator=yield<br>year=%{x}<br>value=%{y}<extra></extra>",
         "legendgroup": "TD2012A119",
         "line": {
          "color": "#FFA15A",
          "dash": "solid"
         },
         "marker": {
          "symbol": "circle"
         },
         "mode": "lines+markers",
         "name": "TD2012A119",
         "showlegend": false,
         "type": "scattergl",
         "x": [
          1984,
          1985,
          1986,
          1987,
          1988,
          1989,
          1990,
          1991,
          1992,
          1993,
          1994,
          1995,
          1996,
          1997,
          1998,
          1999,
          2000,
          2001,
          2002,
          2003,
          2004,
          2005,
          2006,
          2007,
          2008,
          2009,
          2010,
          2011,
          2012,
          2013,
          2014,
          2015,
          2016,
          2017
         ],
         "xaxis": "x",
         "y": [
          null,
          null,
          null,
          0.5,
          null,
          null,
          null,
          0.3233333333333333,
          null,
          0.4615384615384615,
          1,
          0.5560509554140127,
          null,
          null,
          0.5,
          null,
          0.4,
          1.2534883720930232,
          1,
          1.9601783060921247,
          null,
          1.5,
          1.5,
          1.5,
          1.5,
          1.429349800217944,
          0.9,
          1.147,
          1.2000000000000002,
          1.196,
          1.3929999999999998,
          1.3259999999999998,
          1.31502,
          1.286004
         ],
         "yaxis": "y"
        },
        {
         "connectgaps": false,
         "hovertemplate": "fnid=TD2012A120<br>indicator=production<br>year=%{x}<br>value=%{y}<extra></extra>",
         "legendgroup": "TD2012A120",
         "line": {
          "color": "#19d3f3",
          "dash": "solid"
         },
         "marker": {
          "symbol": "circle"
         },
         "mode": "lines+markers",
         "name": "TD2012A120",
         "showlegend": true,
         "type": "scattergl",
         "x": [
          1984,
          1985,
          1986,
          1987,
          1988,
          1989,
          1990,
          1991,
          1992,
          1993,
          1994,
          1995,
          1996,
          1997,
          1998,
          1999,
          2000,
          2001,
          2002,
          2003,
          2004,
          2005,
          2006,
          2007,
          2008,
          2009,
          2010,
          2011,
          2012,
          2013,
          2014,
          2015,
          2016,
          2017
         ],
         "xaxis": "x3",
         "y": [
          60.11183682363983,
          545.5694761221437,
          347.1805757140914,
          347.1805757140914,
          17.8550010367247,
          120.0252847468716,
          null,
          99.19445020402613,
          39.67778008161045,
          42.65361358773123,
          652.3027045416758,
          570.3680886731502,
          null,
          null,
          1280.4019632335692,
          null,
          null,
          3211.916297606366,
          null,
          null,
          7374.115428167302,
          7372.726705864446,
          null,
          null,
          15077.55643101197,
          4528.226651813792,
          33532.1,
          68045,
          185665.37,
          120811.861,
          34510.17,
          49283.085,
          96128.50133333,
          94099.4775
         ],
         "yaxis": "y3"
        },
        {
         "connectgaps": false,
         "hovertemplate": "fnid=TD2012A120<br>indicator=area<br>year=%{x}<br>value=%{y}<extra></extra>",
         "legendgroup": "TD2012A120",
         "line": {
          "color": "#19d3f3",
          "dash": "solid"
         },
         "marker": {
          "symbol": "circle"
         },
         "mode": "lines+markers",
         "name": "TD2012A120",
         "showlegend": false,
         "type": "scattergl",
         "x": [
          1984,
          1985,
          1986,
          1987,
          1988,
          1989,
          1990,
          1991,
          1992,
          1993,
          1994,
          1995,
          1996,
          1997,
          1998,
          1999,
          2000,
          2001,
          2002,
          2003,
          2004,
          2005,
          2006,
          2007,
          2008,
          2009,
          2010,
          2011,
          2012,
          2013,
          2014,
          2015,
          2016,
          2017
         ],
         "xaxis": "x2",
         "y": [
          194.4211223998912,
          793.555601632209,
          694.3611514281828,
          501.92391803237217,
          117.04945124075084,
          149.78361980807944,
          99.19445020402613,
          297.58335061207833,
          297.58335061207833,
          426.5361358773123,
          737.014765015914,
          1289.5278526523396,
          null,
          null,
          1707.1364880112894,
          null,
          null,
          7489.180990403972,
          null,
          null,
          14264.161939338956,
          10532.466722663494,
          null,
          15533.85090195049,
          18846.94553876496,
          4655.195548074946,
          47903,
          52604,
          97207,
          87103,
          40035,
          40035,
          70961,
          68685.75
         ],
         "yaxis": "y2"
        },
        {
         "connectgaps": false,
         "hovertemplate": "fnid=TD2012A120<br>indicator=yield<br>year=%{x}<br>value=%{y}<extra></extra>",
         "legendgroup": "TD2012A120",
         "line": {
          "color": "#19d3f3",
          "dash": "solid"
         },
         "marker": {
          "symbol": "circle"
         },
         "mode": "lines+markers",
         "name": "TD2012A120",
         "showlegend": false,
         "type": "scattergl",
         "x": [
          1984,
          1985,
          1986,
          1987,
          1988,
          1989,
          1990,
          1991,
          1992,
          1993,
          1994,
          1995,
          1996,
          1997,
          1998,
          1999,
          2000,
          2001,
          2002,
          2003,
          2004,
          2005,
          2006,
          2007,
          2008,
          2009,
          2010,
          2011,
          2012,
          2013,
          2014,
          2015,
          2016,
          2017
         ],
         "xaxis": "x",
         "y": [
          0.3091836734693877,
          0.6875,
          0.5,
          0.6916996047430829,
          0.1525423728813559,
          0.8013245033112583,
          null,
          0.3333333333333333,
          0.1333333333333333,
          0.1,
          0.8850605652759086,
          0.4423076923076923,
          null,
          null,
          0.7500290528762348,
          null,
          null,
          0.4288741721854305,
          null,
          null,
          0.5169680111265647,
          0.7,
          null,
          null,
          0.8,
          0.972725335606222,
          0.7,
          1.293532811193065,
          1.91,
          1.387,
          0.862,
          1.231,
          1.3546666666666196,
          1.37
         ],
         "yaxis": "y"
        },
        {
         "connectgaps": false,
         "hovertemplate": "fnid=TD2012A121<br>indicator=production<br>year=%{x}<br>value=%{y}<extra></extra>",
         "legendgroup": "TD2012A121",
         "line": {
          "color": "#FF6692",
          "dash": "solid"
         },
         "marker": {
          "symbol": "circle"
         },
         "mode": "lines+markers",
         "name": "TD2012A121",
         "showlegend": true,
         "type": "scattergl",
         "x": [
          1984,
          1985,
          1986,
          1987,
          1988,
          1989,
          1990,
          1991,
          1992,
          1993,
          1994,
          1995,
          1996,
          1997,
          1998,
          1999,
          2000,
          2001,
          2002,
          2003,
          2004,
          2005,
          2006,
          2007,
          2008,
          2009,
          2010,
          2011,
          2012,
          2013,
          2014,
          2015,
          2016,
          2017
         ],
         "xaxis": "x3",
         "y": [
          null,
          null,
          4264,
          null,
          195,
          94,
          122,
          170,
          5370,
          3680,
          8466,
          3063,
          null,
          null,
          4172,
          null,
          1088,
          6140,
          7590,
          9950,
          9955,
          7306.2,
          12099.6,
          6909.3,
          4544.295,
          8630,
          7705.32,
          5522.29,
          3545.25,
          4708.371,
          4617.763,
          5565.34,
          4893.59475,
          4925.25684725
         ],
         "yaxis": "y3"
        },
        {
         "connectgaps": false,
         "hovertemplate": "fnid=TD2012A121<br>indicator=area<br>year=%{x}<br>value=%{y}<extra></extra>",
         "legendgroup": "TD2012A121",
         "line": {
          "color": "#FF6692",
          "dash": "solid"
         },
         "marker": {
          "symbol": "circle"
         },
         "mode": "lines+markers",
         "name": "TD2012A121",
         "showlegend": false,
         "type": "scattergl",
         "x": [
          1984,
          1985,
          1986,
          1987,
          1988,
          1989,
          1990,
          1991,
          1992,
          1993,
          1994,
          1995,
          1996,
          1997,
          1998,
          1999,
          2000,
          2001,
          2002,
          2003,
          2004,
          2005,
          2006,
          2007,
          2008,
          2009,
          2010,
          2011,
          2012,
          2013,
          2014,
          2015,
          2016,
          2017
         ],
         "xaxis": "x2",
         "y": [
          null,
          null,
          5331,
          null,
          236,
          154,
          200,
          480,
          7150,
          3740,
          10250,
          5758,
          null,
          null,
          5349,
          null,
          2114,
          9433,
          13800,
          10700,
          12126,
          8118,
          13444,
          7677,
          5745,
          10787,
          9173,
          7705,
          4727,
          4859,
          5596,
          6787,
          5492.25,
          5787.3525
         ],
         "yaxis": "y2"
        },
        {
         "connectgaps": false,
         "hovertemplate": "fnid=TD2012A121<br>indicator=yield<br>year=%{x}<br>value=%{y}<extra></extra>",
         "legendgroup": "TD2012A121",
         "line": {
          "color": "#FF6692",
          "dash": "solid"
         },
         "marker": {
          "symbol": "circle"
         },
         "mode": "lines+markers",
         "name": "TD2012A121",
         "showlegend": false,
         "type": "scattergl",
         "x": [
          1984,
          1985,
          1986,
          1987,
          1988,
          1989,
          1990,
          1991,
          1992,
          1993,
          1994,
          1995,
          1996,
          1997,
          1998,
          1999,
          2000,
          2001,
          2002,
          2003,
          2004,
          2005,
          2006,
          2007,
          2008,
          2009,
          2010,
          2011,
          2012,
          2013,
          2014,
          2015,
          2016,
          2017
         ],
         "xaxis": "x",
         "y": [
          null,
          null,
          0.7998499343462765,
          null,
          0.826271186440678,
          0.6103896103896104,
          0.61,
          0.3541666666666667,
          0.7510489510489511,
          0.983957219251337,
          0.8259512195121951,
          0.5319555401180965,
          null,
          null,
          0.7799588708169751,
          null,
          0.5146641438032167,
          0.6509063924520301,
          0.55,
          0.9299065420560748,
          0.8209632195282863,
          0.9,
          0.9,
          0.9,
          0.791,
          0.8000370816723834,
          0.84,
          0.7167151200519143,
          0.75,
          0.969,
          0.825189957112223,
          0.8200000000000001,
          0.891,
          0.8510379914218116
         ],
         "yaxis": "y"
        }
       ],
       "layout": {
        "annotations": [
         {
          "showarrow": false,
          "text": "",
          "textangle": 90,
          "x": 0.98,
          "xanchor": "left",
          "xref": "paper",
          "y": 0.16333333333333333,
          "yanchor": "middle",
          "yref": "paper"
         },
         {
          "showarrow": false,
          "text": "",
          "textangle": 90,
          "x": 0.98,
          "xanchor": "left",
          "xref": "paper",
          "y": 0.5,
          "yanchor": "middle",
          "yref": "paper"
         },
         {
          "showarrow": false,
          "text": "",
          "textangle": 90,
          "x": 0.98,
          "xanchor": "left",
          "xref": "paper",
          "y": 0.8366666666666667,
          "yanchor": "middle",
          "yref": "paper"
         },
         {
          "align": "left",
          "font": {
           "color": "dimgrey",
           "family": "arial",
           "size": 15
          },
          "showarrow": false,
          "text": "Production-Area-Yield (PAY) time-series of TD - Maize - Main",
          "x": -0.014,
          "xref": "paper",
          "y": -0.14,
          "yref": "paper"
         }
        ],
        "font": {
         "color": "black",
         "family": "arial",
         "size": 16
        },
        "height": 600,
        "legend": {
         "font": {
          "size": 14
         },
         "title": {
          "text": "FNID"
         },
         "tracegroupgap": 0,
         "x": 1,
         "xanchor": "left",
         "y": 1,
         "yanchor": "top"
        },
        "margin": {
         "b": 25,
         "l": 0,
         "r": 0,
         "t": 0
        },
        "template": {
         "data": {
          "bar": [
           {
            "error_x": {
             "color": "#2a3f5f"
            },
            "error_y": {
             "color": "#2a3f5f"
            },
            "marker": {
             "line": {
              "color": "#E5ECF6",
              "width": 0.5
             },
             "pattern": {
              "fillmode": "overlay",
              "size": 10,
              "solidity": 0.2
             }
            },
            "type": "bar"
           }
          ],
          "barpolar": [
           {
            "marker": {
             "line": {
              "color": "#E5ECF6",
              "width": 0.5
             },
             "pattern": {
              "fillmode": "overlay",
              "size": 10,
              "solidity": 0.2
             }
            },
            "type": "barpolar"
           }
          ],
          "carpet": [
           {
            "aaxis": {
             "endlinecolor": "#2a3f5f",
             "gridcolor": "white",
             "linecolor": "white",
             "minorgridcolor": "white",
             "startlinecolor": "#2a3f5f"
            },
            "baxis": {
             "endlinecolor": "#2a3f5f",
             "gridcolor": "white",
             "linecolor": "white",
             "minorgridcolor": "white",
             "startlinecolor": "#2a3f5f"
            },
            "type": "carpet"
           }
          ],
          "choropleth": [
           {
            "colorbar": {
             "outlinewidth": 0,
             "ticks": ""
            },
            "type": "choropleth"
           }
          ],
          "contour": [
           {
            "colorbar": {
             "outlinewidth": 0,
             "ticks": ""
            },
            "colorscale": [
             [
              0,
              "#0d0887"
             ],
             [
              0.1111111111111111,
              "#46039f"
             ],
             [
              0.2222222222222222,
              "#7201a8"
             ],
             [
              0.3333333333333333,
              "#9c179e"
             ],
             [
              0.4444444444444444,
              "#bd3786"
             ],
             [
              0.5555555555555556,
              "#d8576b"
             ],
             [
              0.6666666666666666,
              "#ed7953"
             ],
             [
              0.7777777777777778,
              "#fb9f3a"
             ],
             [
              0.8888888888888888,
              "#fdca26"
             ],
             [
              1,
              "#f0f921"
             ]
            ],
            "type": "contour"
           }
          ],
          "contourcarpet": [
           {
            "colorbar": {
             "outlinewidth": 0,
             "ticks": ""
            },
            "type": "contourcarpet"
           }
          ],
          "heatmap": [
           {
            "colorbar": {
             "outlinewidth": 0,
             "ticks": ""
            },
            "colorscale": [
             [
              0,
              "#0d0887"
             ],
             [
              0.1111111111111111,
              "#46039f"
             ],
             [
              0.2222222222222222,
              "#7201a8"
             ],
             [
              0.3333333333333333,
              "#9c179e"
             ],
             [
              0.4444444444444444,
              "#bd3786"
             ],
             [
              0.5555555555555556,
              "#d8576b"
             ],
             [
              0.6666666666666666,
              "#ed7953"
             ],
             [
              0.7777777777777778,
              "#fb9f3a"
             ],
             [
              0.8888888888888888,
              "#fdca26"
             ],
             [
              1,
              "#f0f921"
             ]
            ],
            "type": "heatmap"
           }
          ],
          "heatmapgl": [
           {
            "colorbar": {
             "outlinewidth": 0,
             "ticks": ""
            },
            "colorscale": [
             [
              0,
              "#0d0887"
             ],
             [
              0.1111111111111111,
              "#46039f"
             ],
             [
              0.2222222222222222,
              "#7201a8"
             ],
             [
              0.3333333333333333,
              "#9c179e"
             ],
             [
              0.4444444444444444,
              "#bd3786"
             ],
             [
              0.5555555555555556,
              "#d8576b"
             ],
             [
              0.6666666666666666,
              "#ed7953"
             ],
             [
              0.7777777777777778,
              "#fb9f3a"
             ],
             [
              0.8888888888888888,
              "#fdca26"
             ],
             [
              1,
              "#f0f921"
             ]
            ],
            "type": "heatmapgl"
           }
          ],
          "histogram": [
           {
            "marker": {
             "pattern": {
              "fillmode": "overlay",
              "size": 10,
              "solidity": 0.2
             }
            },
            "type": "histogram"
           }
          ],
          "histogram2d": [
           {
            "colorbar": {
             "outlinewidth": 0,
             "ticks": ""
            },
            "colorscale": [
             [
              0,
              "#0d0887"
             ],
             [
              0.1111111111111111,
              "#46039f"
             ],
             [
              0.2222222222222222,
              "#7201a8"
             ],
             [
              0.3333333333333333,
              "#9c179e"
             ],
             [
              0.4444444444444444,
              "#bd3786"
             ],
             [
              0.5555555555555556,
              "#d8576b"
             ],
             [
              0.6666666666666666,
              "#ed7953"
             ],
             [
              0.7777777777777778,
              "#fb9f3a"
             ],
             [
              0.8888888888888888,
              "#fdca26"
             ],
             [
              1,
              "#f0f921"
             ]
            ],
            "type": "histogram2d"
           }
          ],
          "histogram2dcontour": [
           {
            "colorbar": {
             "outlinewidth": 0,
             "ticks": ""
            },
            "colorscale": [
             [
              0,
              "#0d0887"
             ],
             [
              0.1111111111111111,
              "#46039f"
             ],
             [
              0.2222222222222222,
              "#7201a8"
             ],
             [
              0.3333333333333333,
              "#9c179e"
             ],
             [
              0.4444444444444444,
              "#bd3786"
             ],
             [
              0.5555555555555556,
              "#d8576b"
             ],
             [
              0.6666666666666666,
              "#ed7953"
             ],
             [
              0.7777777777777778,
              "#fb9f3a"
             ],
             [
              0.8888888888888888,
              "#fdca26"
             ],
             [
              1,
              "#f0f921"
             ]
            ],
            "type": "histogram2dcontour"
           }
          ],
          "mesh3d": [
           {
            "colorbar": {
             "outlinewidth": 0,
             "ticks": ""
            },
            "type": "mesh3d"
           }
          ],
          "parcoords": [
           {
            "line": {
             "colorbar": {
              "outlinewidth": 0,
              "ticks": ""
             }
            },
            "type": "parcoords"
           }
          ],
          "pie": [
           {
            "automargin": true,
            "type": "pie"
           }
          ],
          "scatter": [
           {
            "fillpattern": {
             "fillmode": "overlay",
             "size": 10,
             "solidity": 0.2
            },
            "type": "scatter"
           }
          ],
          "scatter3d": [
           {
            "line": {
             "colorbar": {
              "outlinewidth": 0,
              "ticks": ""
             }
            },
            "marker": {
             "colorbar": {
              "outlinewidth": 0,
              "ticks": ""
             }
            },
            "type": "scatter3d"
           }
          ],
          "scattercarpet": [
           {
            "marker": {
             "colorbar": {
              "outlinewidth": 0,
              "ticks": ""
             }
            },
            "type": "scattercarpet"
           }
          ],
          "scattergeo": [
           {
            "marker": {
             "colorbar": {
              "outlinewidth": 0,
              "ticks": ""
             }
            },
            "type": "scattergeo"
           }
          ],
          "scattergl": [
           {
            "marker": {
             "colorbar": {
              "outlinewidth": 0,
              "ticks": ""
             }
            },
            "type": "scattergl"
           }
          ],
          "scattermapbox": [
           {
            "marker": {
             "colorbar": {
              "outlinewidth": 0,
              "ticks": ""
             }
            },
            "type": "scattermapbox"
           }
          ],
          "scatterpolar": [
           {
            "marker": {
             "colorbar": {
              "outlinewidth": 0,
              "ticks": ""
             }
            },
            "type": "scatterpolar"
           }
          ],
          "scatterpolargl": [
           {
            "marker": {
             "colorbar": {
              "outlinewidth": 0,
              "ticks": ""
             }
            },
            "type": "scatterpolargl"
           }
          ],
          "scatterternary": [
           {
            "marker": {
             "colorbar": {
              "outlinewidth": 0,
              "ticks": ""
             }
            },
            "type": "scatterternary"
           }
          ],
          "surface": [
           {
            "colorbar": {
             "outlinewidth": 0,
             "ticks": ""
            },
            "colorscale": [
             [
              0,
              "#0d0887"
             ],
             [
              0.1111111111111111,
              "#46039f"
             ],
             [
              0.2222222222222222,
              "#7201a8"
             ],
             [
              0.3333333333333333,
              "#9c179e"
             ],
             [
              0.4444444444444444,
              "#bd3786"
             ],
             [
              0.5555555555555556,
              "#d8576b"
             ],
             [
              0.6666666666666666,
              "#ed7953"
             ],
             [
              0.7777777777777778,
              "#fb9f3a"
             ],
             [
              0.8888888888888888,
              "#fdca26"
             ],
             [
              1,
              "#f0f921"
             ]
            ],
            "type": "surface"
           }
          ],
          "table": [
           {
            "cells": {
             "fill": {
              "color": "#EBF0F8"
             },
             "line": {
              "color": "white"
             }
            },
            "header": {
             "fill": {
              "color": "#C8D4E3"
             },
             "line": {
              "color": "white"
             }
            },
            "type": "table"
           }
          ]
         },
         "layout": {
          "annotationdefaults": {
           "arrowcolor": "#2a3f5f",
           "arrowhead": 0,
           "arrowwidth": 1
          },
          "autotypenumbers": "strict",
          "coloraxis": {
           "colorbar": {
            "outlinewidth": 0,
            "ticks": ""
           }
          },
          "colorscale": {
           "diverging": [
            [
             0,
             "#8e0152"
            ],
            [
             0.1,
             "#c51b7d"
            ],
            [
             0.2,
             "#de77ae"
            ],
            [
             0.3,
             "#f1b6da"
            ],
            [
             0.4,
             "#fde0ef"
            ],
            [
             0.5,
             "#f7f7f7"
            ],
            [
             0.6,
             "#e6f5d0"
            ],
            [
             0.7,
             "#b8e186"
            ],
            [
             0.8,
             "#7fbc41"
            ],
            [
             0.9,
             "#4d9221"
            ],
            [
             1,
             "#276419"
            ]
           ],
           "sequential": [
            [
             0,
             "#0d0887"
            ],
            [
             0.1111111111111111,
             "#46039f"
            ],
            [
             0.2222222222222222,
             "#7201a8"
            ],
            [
             0.3333333333333333,
             "#9c179e"
            ],
            [
             0.4444444444444444,
             "#bd3786"
            ],
            [
             0.5555555555555556,
             "#d8576b"
            ],
            [
             0.6666666666666666,
             "#ed7953"
            ],
            [
             0.7777777777777778,
             "#fb9f3a"
            ],
            [
             0.8888888888888888,
             "#fdca26"
            ],
            [
             1,
             "#f0f921"
            ]
           ],
           "sequentialminus": [
            [
             0,
             "#0d0887"
            ],
            [
             0.1111111111111111,
             "#46039f"
            ],
            [
             0.2222222222222222,
             "#7201a8"
            ],
            [
             0.3333333333333333,
             "#9c179e"
            ],
            [
             0.4444444444444444,
             "#bd3786"
            ],
            [
             0.5555555555555556,
             "#d8576b"
            ],
            [
             0.6666666666666666,
             "#ed7953"
            ],
            [
             0.7777777777777778,
             "#fb9f3a"
            ],
            [
             0.8888888888888888,
             "#fdca26"
            ],
            [
             1,
             "#f0f921"
            ]
           ]
          },
          "colorway": [
           "#636efa",
           "#EF553B",
           "#00cc96",
           "#ab63fa",
           "#FFA15A",
           "#19d3f3",
           "#FF6692",
           "#B6E880",
           "#FF97FF",
           "#FECB52"
          ],
          "font": {
           "color": "#2a3f5f"
          },
          "geo": {
           "bgcolor": "white",
           "lakecolor": "white",
           "landcolor": "#E5ECF6",
           "showlakes": true,
           "showland": true,
           "subunitcolor": "white"
          },
          "hoverlabel": {
           "align": "left"
          },
          "hovermode": "closest",
          "mapbox": {
           "style": "light"
          },
          "paper_bgcolor": "white",
          "plot_bgcolor": "#E5ECF6",
          "polar": {
           "angularaxis": {
            "gridcolor": "white",
            "linecolor": "white",
            "ticks": ""
           },
           "bgcolor": "#E5ECF6",
           "radialaxis": {
            "gridcolor": "white",
            "linecolor": "white",
            "ticks": ""
           }
          },
          "scene": {
           "xaxis": {
            "backgroundcolor": "#E5ECF6",
            "gridcolor": "white",
            "gridwidth": 2,
            "linecolor": "white",
            "showbackground": true,
            "ticks": "",
            "zerolinecolor": "white"
           },
           "yaxis": {
            "backgroundcolor": "#E5ECF6",
            "gridcolor": "white",
            "gridwidth": 2,
            "linecolor": "white",
            "showbackground": true,
            "ticks": "",
            "zerolinecolor": "white"
           },
           "zaxis": {
            "backgroundcolor": "#E5ECF6",
            "gridcolor": "white",
            "gridwidth": 2,
            "linecolor": "white",
            "showbackground": true,
            "ticks": "",
            "zerolinecolor": "white"
           }
          },
          "shapedefaults": {
           "line": {
            "color": "#2a3f5f"
           }
          },
          "ternary": {
           "aaxis": {
            "gridcolor": "white",
            "linecolor": "white",
            "ticks": ""
           },
           "baxis": {
            "gridcolor": "white",
            "linecolor": "white",
            "ticks": ""
           },
           "bgcolor": "#E5ECF6",
           "caxis": {
            "gridcolor": "white",
            "linecolor": "white",
            "ticks": ""
           }
          },
          "title": {
           "x": 0.05
          },
          "xaxis": {
           "automargin": true,
           "gridcolor": "white",
           "linecolor": "white",
           "ticks": "",
           "title": {
            "standoff": 15
           },
           "zerolinecolor": "white",
           "zerolinewidth": 2
          },
          "yaxis": {
           "automargin": true,
           "gridcolor": "white",
           "linecolor": "white",
           "ticks": "",
           "title": {
            "standoff": 15
           },
           "zerolinecolor": "white",
           "zerolinewidth": 2
          }
         }
        },
        "width": 900,
        "xaxis": {
         "anchor": "y",
         "domain": [
          0,
          0.98
         ],
         "dtick": 1,
         "range": [
          1983,
          2017
         ],
         "title": {
          "text": ""
         }
        },
        "xaxis2": {
         "anchor": "y2",
         "domain": [
          0,
          0.98
         ],
         "dtick": 1,
         "matches": "x",
         "showticklabels": false
        },
        "xaxis3": {
         "anchor": "y3",
         "domain": [
          0,
          0.98
         ],
         "dtick": 1,
         "matches": "x",
         "showticklabels": false
        },
        "yaxis": {
         "anchor": "x",
         "domain": [
          0,
          0.32666666666666666
         ],
         "title": {
          "text": "Yield (mt/ha)"
         }
        },
        "yaxis2": {
         "anchor": "x2",
         "domain": [
          0.33666666666666667,
          0.6633333333333333
         ],
         "title": {
          "text": "Area (ha)"
         }
        },
        "yaxis3": {
         "anchor": "x3",
         "domain": [
          0.6733333333333333,
          1
         ],
         "title": {
          "text": "Production (mt)"
         }
        }
       }
      }
     },
     "metadata": {},
     "output_type": "display_data"
    },
    {
     "name": "stdout",
     "output_type": "stream",
     "text": [
      "../figures/TD_line_pay_Sorghum_Cold-off.png is saved.\n"
     ]
    },
    {
     "data": {
      "application/vnd.plotly.v1+json": {
       "config": {
        "plotlyServerURL": "https://plot.ly"
       },
       "data": [
        {
         "connectgaps": false,
         "hovertemplate": "fnid=TD2012A101<br>indicator=production<br>year=%{x}<br>value=%{y}<extra></extra>",
         "legendgroup": "TD2012A101",
         "line": {
          "color": "#636efa",
          "dash": "solid"
         },
         "marker": {
          "symbol": "circle"
         },
         "mode": "lines+markers",
         "name": "TD2012A101",
         "showlegend": true,
         "type": "scattergl",
         "x": [
          1983,
          1984,
          1985,
          1986,
          1987,
          1988,
          1989,
          1990,
          1991,
          1992,
          1993,
          1994,
          1995,
          1996,
          1997,
          1998,
          1999,
          2000,
          2001,
          2002,
          2003,
          2004,
          2005,
          2006,
          2007,
          2008,
          2009,
          2010,
          2011,
          2012,
          2013,
          2014,
          2015,
          2016,
          2017
         ],
         "xaxis": "x3",
         "y": [
          null,
          null,
          null,
          null,
          null,
          45,
          null,
          null,
          null,
          null,
          null,
          null,
          null,
          null,
          null,
          null,
          null,
          null,
          null,
          null,
          null,
          null,
          null,
          null,
          null,
          null,
          null,
          null,
          null,
          null,
          null,
          null,
          null,
          null,
          null
         ],
         "yaxis": "y3"
        },
        {
         "connectgaps": false,
         "hovertemplate": "fnid=TD2012A101<br>indicator=area<br>year=%{x}<br>value=%{y}<extra></extra>",
         "legendgroup": "TD2012A101",
         "line": {
          "color": "#636efa",
          "dash": "solid"
         },
         "marker": {
          "symbol": "circle"
         },
         "mode": "lines+markers",
         "name": "TD2012A101",
         "showlegend": false,
         "type": "scattergl",
         "x": [
          1983,
          1984,
          1985,
          1986,
          1987,
          1988,
          1989,
          1990,
          1991,
          1992,
          1993,
          1994,
          1995,
          1996,
          1997,
          1998,
          1999,
          2000,
          2001,
          2002,
          2003,
          2004,
          2005,
          2006,
          2007,
          2008,
          2009,
          2010,
          2011,
          2012,
          2013,
          2014,
          2015,
          2016,
          2017
         ],
         "xaxis": "x2",
         "y": [
          null,
          null,
          null,
          null,
          null,
          90,
          null,
          null,
          null,
          null,
          null,
          null,
          null,
          null,
          null,
          null,
          null,
          null,
          null,
          null,
          null,
          null,
          null,
          null,
          null,
          null,
          null,
          null,
          null,
          null,
          null,
          null,
          null,
          null,
          null
         ],
         "yaxis": "y2"
        },
        {
         "connectgaps": false,
         "hovertemplate": "fnid=TD2012A101<br>indicator=yield<br>year=%{x}<br>value=%{y}<extra></extra>",
         "legendgroup": "TD2012A101",
         "line": {
          "color": "#636efa",
          "dash": "solid"
         },
         "marker": {
          "symbol": "circle"
         },
         "mode": "lines+markers",
         "name": "TD2012A101",
         "showlegend": false,
         "type": "scattergl",
         "x": [
          1983,
          1984,
          1985,
          1986,
          1987,
          1988,
          1989,
          1990,
          1991,
          1992,
          1993,
          1994,
          1995,
          1996,
          1997,
          1998,
          1999,
          2000,
          2001,
          2002,
          2003,
          2004,
          2005,
          2006,
          2007,
          2008,
          2009,
          2010,
          2011,
          2012,
          2013,
          2014,
          2015,
          2016,
          2017
         ],
         "xaxis": "x",
         "y": [
          null,
          null,
          null,
          null,
          null,
          0.5,
          null,
          null,
          null,
          null,
          null,
          null,
          null,
          null,
          null,
          null,
          null,
          null,
          null,
          null,
          null,
          null,
          null,
          null,
          null,
          null,
          null,
          null,
          null,
          null,
          null,
          null,
          null,
          null,
          null
         ],
         "yaxis": "y"
        },
        {
         "connectgaps": false,
         "hovertemplate": "fnid=TD2012A102<br>indicator=production<br>year=%{x}<br>value=%{y}<extra></extra>",
         "legendgroup": "TD2012A102",
         "line": {
          "color": "#EF553B",
          "dash": "solid"
         },
         "marker": {
          "symbol": "circle"
         },
         "mode": "lines+markers",
         "name": "TD2012A102",
         "showlegend": true,
         "type": "scattergl",
         "x": [
          1983,
          1984,
          1985,
          1986,
          1987,
          1988,
          1989,
          1990,
          1991,
          1992,
          1993,
          1994,
          1995,
          1996,
          1997,
          1998,
          1999,
          2000,
          2001,
          2002,
          2003,
          2004,
          2005,
          2006,
          2007,
          2008,
          2009,
          2010,
          2011,
          2012,
          2013,
          2014,
          2015,
          2016,
          2017
         ],
         "xaxis": "x3",
         "y": [
          11400,
          1353,
          40000,
          7350,
          5691,
          12320,
          10388,
          1800,
          11100,
          9180,
          3000,
          6000,
          2700,
          null,
          null,
          null,
          null,
          null,
          10922,
          5000,
          16020,
          6240,
          7200,
          7200,
          null,
          9600,
          19692,
          28933,
          14546.25,
          79768.8,
          68733,
          83445.5,
          28867.605,
          57707.70504732,
          54579.63664332
         ],
         "yaxis": "y3"
        },
        {
         "connectgaps": false,
         "hovertemplate": "fnid=TD2012A102<br>indicator=area<br>year=%{x}<br>value=%{y}<extra></extra>",
         "legendgroup": "TD2012A102",
         "line": {
          "color": "#EF553B",
          "dash": "solid"
         },
         "marker": {
          "symbol": "circle"
         },
         "mode": "lines+markers",
         "name": "TD2012A102",
         "showlegend": false,
         "type": "scattergl",
         "x": [
          1983,
          1984,
          1985,
          1986,
          1987,
          1988,
          1989,
          1990,
          1991,
          1992,
          1993,
          1994,
          1995,
          1996,
          1997,
          1998,
          1999,
          2000,
          2001,
          2002,
          2003,
          2004,
          2005,
          2006,
          2007,
          2008,
          2009,
          2010,
          2011,
          2012,
          2013,
          2014,
          2015,
          2016,
          2017
         ],
         "xaxis": "x2",
         "y": [
          19000,
          4511,
          50000,
          10500,
          18200,
          17600,
          14840,
          3000,
          25000,
          15300,
          5000,
          10000,
          4500,
          null,
          null,
          null,
          null,
          null,
          24203,
          10000,
          26700,
          10400,
          12000,
          12000,
          12000,
          12000,
          25825,
          38577,
          38790,
          99711,
          109100,
          166891,
          61815,
          103645,
          97252.002
         ],
         "yaxis": "y2"
        },
        {
         "connectgaps": false,
         "hovertemplate": "fnid=TD2012A102<br>indicator=yield<br>year=%{x}<br>value=%{y}<extra></extra>",
         "legendgroup": "TD2012A102",
         "line": {
          "color": "#EF553B",
          "dash": "solid"
         },
         "marker": {
          "symbol": "circle"
         },
         "mode": "lines+markers",
         "name": "TD2012A102",
         "showlegend": false,
         "type": "scattergl",
         "x": [
          1983,
          1984,
          1985,
          1986,
          1987,
          1988,
          1989,
          1990,
          1991,
          1992,
          1993,
          1994,
          1995,
          1996,
          1997,
          1998,
          1999,
          2000,
          2001,
          2002,
          2003,
          2004,
          2005,
          2006,
          2007,
          2008,
          2009,
          2010,
          2011,
          2012,
          2013,
          2014,
          2015,
          2016,
          2017
         ],
         "xaxis": "x",
         "y": [
          0.6,
          0.2999334958989137,
          0.8,
          0.7,
          0.3126923076923077,
          0.7,
          0.7,
          0.6,
          0.444,
          0.6,
          0.6,
          0.6,
          0.6,
          null,
          null,
          null,
          null,
          null,
          0.4512663719373631,
          0.5,
          0.6,
          0.6,
          0.6,
          0.6,
          null,
          0.8,
          0.7625169409486932,
          0.7500064805454028,
          0.375,
          0.8,
          0.63,
          0.5,
          0.4669999999999999,
          0.5567823343848715,
          0.5612186435331172
         ],
         "yaxis": "y"
        },
        {
         "connectgaps": false,
         "hovertemplate": "fnid=TD2012A104<br>indicator=production<br>year=%{x}<br>value=%{y}<extra></extra>",
         "legendgroup": "TD2012A104",
         "line": {
          "color": "#00cc96",
          "dash": "solid"
         },
         "marker": {
          "symbol": "circle"
         },
         "mode": "lines+markers",
         "name": "TD2012A104",
         "showlegend": true,
         "type": "scattergl",
         "x": [
          1983,
          1984,
          1985,
          1986,
          1987,
          1988,
          1989,
          1990,
          1991,
          1992,
          1993,
          1994,
          1995,
          1996,
          1997,
          1998,
          1999,
          2000,
          2001,
          2002,
          2003,
          2004,
          2005,
          2006,
          2007,
          2008,
          2009,
          2010,
          2011,
          2012,
          2013,
          2014,
          2015,
          2016,
          2017
         ],
         "xaxis": "x3",
         "y": [
          37.291299983923,
          142.17308118870642,
          10876.629161977542,
          2471.325526017897,
          1452.8068952070005,
          6992.118746985562,
          6689.126934616188,
          3918.694106643909,
          6533.746518016509,
          6836.738330385883,
          2775.8711425532683,
          15405.968305858189,
          6992.118746985562,
          null,
          null,
          null,
          null,
          9155.014146053096,
          11503.589142957248,
          13013.10989022313,
          14294.998327170482,
          5718.776232951192,
          18645.649991961494,
          19267.171658360217,
          22996.301656752516,
          18645.649991961494,
          11454.644311728349,
          34848.3,
          16860.55,
          5876.577,
          23267.54733333,
          9841.875,
          14344.312,
          18478.0548268,
          16786.044
         ],
         "yaxis": "y3"
        },
        {
         "connectgaps": false,
         "hovertemplate": "fnid=TD2012A104<br>indicator=area<br>year=%{x}<br>value=%{y}<extra></extra>",
         "legendgroup": "TD2012A104",
         "line": {
          "color": "#00cc96",
          "dash": "solid"
         },
         "marker": {
          "symbol": "circle"
         },
         "mode": "lines+markers",
         "name": "TD2012A104",
         "showlegend": false,
         "type": "scattergl",
         "x": [
          1983,
          1984,
          1985,
          1986,
          1987,
          1988,
          1989,
          1990,
          1991,
          1992,
          1993,
          1994,
          1995,
          1996,
          1997,
          1998,
          1999,
          2000,
          2001,
          2002,
          2003,
          2004,
          2005,
          2006,
          2007,
          2008,
          2009,
          2010,
          2011,
          2012,
          2013,
          2014,
          2015,
          2016,
          2017
         ],
         "xaxis": "x2",
         "y": [
          2709.8344654984044,
          567.1385205888289,
          15538.041659967916,
          4119.134844057495,
          5030.440987414613,
          9322.824995980747,
          16189.86250760357,
          7535.950205084439,
          8005.9759652984685,
          8545.922912982354,
          14347.827668814374,
          17091.84582596471,
          7769.020829983958,
          null,
          null,
          null,
          null,
          15259.133812171493,
          16022.051657675916,
          15538.041659967916,
          17868.747908963105,
          8798.416089956832,
          23307.062489951873,
          24083.96457295027,
          28745.377070940645,
          23307.062489951873,
          22997.07855883551,
          40998,
          18191,
          3009,
          27633.66666667,
          11815,
          17036,
          16304.06,
          15732
         ],
         "yaxis": "y2"
        },
        {
         "connectgaps": false,
         "hovertemplate": "fnid=TD2012A104<br>indicator=yield<br>year=%{x}<br>value=%{y}<extra></extra>",
         "legendgroup": "TD2012A104",
         "line": {
          "color": "#00cc96",
          "dash": "solid"
         },
         "marker": {
          "symbol": "circle"
         },
         "mode": "lines+markers",
         "name": "TD2012A104",
         "showlegend": false,
         "type": "scattergl",
         "x": [
          1983,
          1984,
          1985,
          1986,
          1987,
          1988,
          1989,
          1990,
          1991,
          1992,
          1993,
          1994,
          1995,
          1996,
          1997,
          1998,
          1999,
          2000,
          2001,
          2002,
          2003,
          2004,
          2005,
          2006,
          2007,
          2008,
          2009,
          2010,
          2011,
          2012,
          2013,
          2014,
          2015,
          2016,
          2017
         ],
         "xaxis": "x",
         "y": [
          0.0137614678899082,
          0.2506849315068493,
          0.7000000000000001,
          0.5999622783855149,
          0.2888030888030888,
          0.75,
          0.4131676184077931,
          0.52,
          0.8161086851043183,
          0.7999999999999999,
          0.1934697855750487,
          0.9013636363636364,
          0.9,
          null,
          null,
          null,
          null,
          0.5999694516572476,
          0.7179847742811425,
          0.8375,
          0.7999999999999999,
          0.6499779249448123,
          0.7999999999999999,
          0.8,
          0.7999999999999999,
          0.7999999999999999,
          0.4980912806999763,
          0.8500000000000001,
          0.9268621845967786,
          1.953,
          0.8419999999997778,
          0.8329983072365637,
          0.842,
          1.1333407032849483,
          1.0670000000000002
         ],
         "yaxis": "y"
        },
        {
         "connectgaps": false,
         "hovertemplate": "fnid=TD2012A107<br>indicator=production<br>year=%{x}<br>value=%{y}<extra></extra>",
         "legendgroup": "TD2012A107",
         "line": {
          "color": "#ab63fa",
          "dash": "solid"
         },
         "marker": {
          "symbol": "circle"
         },
         "mode": "lines+markers",
         "name": "TD2012A107",
         "showlegend": true,
         "type": "scattergl",
         "x": [
          1983,
          1984,
          1985,
          1986,
          1987,
          1988,
          1989,
          1990,
          1991,
          1992,
          1993,
          1994,
          1995,
          1996,
          1997,
          1998,
          1999,
          2000,
          2001,
          2002,
          2003,
          2004,
          2005,
          2006,
          2007,
          2008,
          2009,
          2010,
          2011,
          2012,
          2013,
          2014,
          2015,
          2016,
          2017
         ],
         "xaxis": "x3",
         "y": [
          1040,
          213,
          350,
          5182,
          647,
          3500,
          6055,
          8960,
          10000,
          11400,
          3000,
          2500,
          null,
          null,
          null,
          null,
          null,
          6700,
          36472,
          670,
          33404,
          8550,
          null,
          22934,
          15800,
          15800,
          7789,
          16634,
          9311.7,
          15223.648,
          52325.24,
          18836.71,
          14859.64458873,
          20324.68729691,
          28684.88615
         ],
         "yaxis": "y3"
        },
        {
         "connectgaps": false,
         "hovertemplate": "fnid=TD2012A107<br>indicator=area<br>year=%{x}<br>value=%{y}<extra></extra>",
         "legendgroup": "TD2012A107",
         "line": {
          "color": "#ab63fa",
          "dash": "solid"
         },
         "marker": {
          "symbol": "circle"
         },
         "mode": "lines+markers",
         "name": "TD2012A107",
         "showlegend": false,
         "type": "scattergl",
         "x": [
          1983,
          1984,
          1985,
          1986,
          1987,
          1988,
          1989,
          1990,
          1991,
          1992,
          1993,
          1994,
          1995,
          1996,
          1997,
          1998,
          1999,
          2000,
          2001,
          2002,
          2003,
          2004,
          2005,
          2006,
          2007,
          2008,
          2009,
          2010,
          2011,
          2012,
          2013,
          2014,
          2015,
          2016,
          2017
         ],
         "xaxis": "x2",
         "y": [
          1550,
          532,
          750,
          7403,
          1750,
          5000,
          8650,
          12800,
          13000,
          14500,
          5000,
          5000,
          null,
          null,
          null,
          null,
          null,
          10000,
          38572,
          null,
          37116,
          9500,
          null,
          29030,
          20000,
          20000,
          13516,
          20792.5,
          16763,
          11344,
          43244,
          34831,
          27477,
          28151.55,
          30036.53
         ],
         "yaxis": "y2"
        },
        {
         "connectgaps": false,
         "hovertemplate": "fnid=TD2012A107<br>indicator=yield<br>year=%{x}<br>value=%{y}<extra></extra>",
         "legendgroup": "TD2012A107",
         "line": {
          "color": "#ab63fa",
          "dash": "solid"
         },
         "marker": {
          "symbol": "circle"
         },
         "mode": "lines+markers",
         "name": "TD2012A107",
         "showlegend": false,
         "type": "scattergl",
         "x": [
          1983,
          1984,
          1985,
          1986,
          1987,
          1988,
          1989,
          1990,
          1991,
          1992,
          1993,
          1994,
          1995,
          1996,
          1997,
          1998,
          1999,
          2000,
          2001,
          2002,
          2003,
          2004,
          2005,
          2006,
          2007,
          2008,
          2009,
          2010,
          2011,
          2012,
          2013,
          2014,
          2015,
          2016,
          2017
         ],
         "xaxis": "x",
         "y": [
          0.6709677419354839,
          0.400375939849624,
          0.4666666666666667,
          0.6999864919627178,
          0.3697142857142857,
          0.7,
          0.7,
          0.7,
          0.7692307692307693,
          0.7862068965517242,
          0.6,
          0.5,
          null,
          null,
          null,
          null,
          null,
          0.67,
          0.9455563621279685,
          null,
          0.8999892229766139,
          0.9,
          null,
          0.7900103341370995,
          0.79,
          0.79,
          0.5762799644865345,
          0.8,
          0.5554912605142278,
          1.342,
          1.21,
          0.5408030202980104,
          0.5408030202980675,
          0.7219740048739768,
          0.955
         ],
         "yaxis": "y"
        },
        {
         "connectgaps": false,
         "hovertemplate": "fnid=TD2012A108<br>indicator=production<br>year=%{x}<br>value=%{y}<extra></extra>",
         "legendgroup": "TD2012A108",
         "line": {
          "color": "#FFA15A",
          "dash": "solid"
         },
         "marker": {
          "symbol": "circle"
         },
         "mode": "lines+markers",
         "name": "TD2012A108",
         "showlegend": true,
         "type": "scattergl",
         "x": [
          1983,
          1984,
          1985,
          1986,
          1987,
          1988,
          1989,
          1990,
          1991,
          1992,
          1993,
          1994,
          1995,
          1996,
          1997,
          1998,
          1999,
          2000,
          2001,
          2002,
          2003,
          2004,
          2005,
          2006,
          2007,
          2008,
          2009,
          2010,
          2011,
          2012,
          2013,
          2014,
          2015,
          2016,
          2017
         ],
         "xaxis": "x3",
         "y": [
          10.708700016077,
          40.82691881129356,
          3123.3708380224584,
          709.6744739821029,
          417.1931047929998,
          2007.8812530144376,
          1920.873065383812,
          1125.3058933560917,
          1876.2534819834912,
          1963.2616696141167,
          797.1288574467317,
          4424.0316941418105,
          2007.8812530144376,
          null,
          null,
          null,
          null,
          2628.9858539469037,
          3303.410857042753,
          3736.89010977687,
          4105.001672829517,
          1642.2237670488082,
          5354.3500080385,
          5532.8283416397835,
          6603.6983432474835,
          5354.3500080385,
          3289.355688271652,
          1824,
          2413.5,
          2106.15,
          5327.61666667,
          1992.5,
          5167.04,
          5661.48535717,
          5604.9
         ],
         "yaxis": "y3"
        },
        {
         "connectgaps": false,
         "hovertemplate": "fnid=TD2012A108<br>indicator=area<br>year=%{x}<br>value=%{y}<extra></extra>",
         "legendgroup": "TD2012A108",
         "line": {
          "color": "#FFA15A",
          "dash": "solid"
         },
         "marker": {
          "symbol": "circle"
         },
         "mode": "lines+markers",
         "name": "TD2012A108",
         "showlegend": false,
         "type": "scattergl",
         "x": [
          1983,
          1984,
          1985,
          1986,
          1987,
          1988,
          1989,
          1990,
          1991,
          1992,
          1993,
          1994,
          1995,
          1996,
          1997,
          1998,
          1999,
          2000,
          2001,
          2002,
          2003,
          2004,
          2005,
          2006,
          2007,
          2008,
          2009,
          2010,
          2011,
          2012,
          2013,
          2014,
          2015,
          2016,
          2017
         ],
         "xaxis": "x2",
         "y": [
          778.1655345015953,
          162.86147941117105,
          4461.9583400320835,
          1182.8651559425052,
          1444.5590125853869,
          2677.17500401925,
          4649.1374923964295,
          2164.0497949155606,
          2299.024034701531,
          2454.0770870176457,
          4120.172331185626,
          4908.154174035291,
          2230.9791700160417,
          null,
          null,
          null,
          null,
          4381.8661878285075,
          4600.948342324083,
          4461.9583400320835,
          5131.252091036896,
          2526.583910043167,
          6692.937510048125,
          6916.035427049729,
          8254.622929059355,
          6692.937510048125,
          6603.921441164485,
          1920,
          3705,
          3950,
          7951.66666667,
          3985,
          7712,
          5725.8,
          5495
         ],
         "yaxis": "y2"
        },
        {
         "connectgaps": false,
         "hovertemplate": "fnid=TD2012A108<br>indicator=yield<br>year=%{x}<br>value=%{y}<extra></extra>",
         "legendgroup": "TD2012A108",
         "line": {
          "color": "#FFA15A",
          "dash": "solid"
         },
         "marker": {
          "symbol": "circle"
         },
         "mode": "lines+markers",
         "name": "TD2012A108",
         "showlegend": false,
         "type": "scattergl",
         "x": [
          1983,
          1984,
          1985,
          1986,
          1987,
          1988,
          1989,
          1990,
          1991,
          1992,
          1993,
          1994,
          1995,
          1996,
          1997,
          1998,
          1999,
          2000,
          2001,
          2002,
          2003,
          2004,
          2005,
          2006,
          2007,
          2008,
          2009,
          2010,
          2011,
          2012,
          2013,
          2014,
          2015,
          2016,
          2017
         ],
         "xaxis": "x",
         "y": [
          0.0137614678899082,
          0.2506849315068493,
          0.7,
          0.599962278385515,
          0.2888030888030888,
          0.75,
          0.4131676184077931,
          0.52,
          0.8161086851043183,
          0.8,
          0.1934697855750487,
          0.9013636363636364,
          0.9,
          null,
          null,
          null,
          null,
          0.5999694516572477,
          0.7179847742811424,
          0.8375,
          0.8,
          0.6499779249448123,
          0.8,
          0.8,
          0.7999999999999999,
          0.8,
          0.4980912806999764,
          0.95,
          0.651417004048583,
          0.5332025316455696,
          0.6700000000001384,
          0.5,
          0.67,
          0.9887675708494882,
          1.02
         ],
         "yaxis": "y"
        },
        {
         "connectgaps": false,
         "hovertemplate": "fnid=TD2012A109<br>indicator=production<br>year=%{x}<br>value=%{y}<extra></extra>",
         "legendgroup": "TD2012A109",
         "line": {
          "color": "#19d3f3",
          "dash": "solid"
         },
         "marker": {
          "symbol": "circle"
         },
         "mode": "lines+markers",
         "name": "TD2012A109",
         "showlegend": true,
         "type": "scattergl",
         "x": [
          1983,
          1984,
          1985,
          1986,
          1987,
          1988,
          1989,
          1990,
          1991,
          1992,
          1993,
          1994,
          1995,
          1996,
          1997,
          1998,
          1999,
          2000,
          2001,
          2002,
          2003,
          2004,
          2005,
          2006,
          2007,
          2008,
          2009,
          2010,
          2011,
          2012,
          2013,
          2014,
          2015,
          2016,
          2017
         ],
         "xaxis": "x3",
         "y": [
          null,
          null,
          null,
          null,
          null,
          45,
          null,
          null,
          null,
          null,
          null,
          null,
          null,
          null,
          null,
          null,
          null,
          null,
          null,
          null,
          null,
          null,
          null,
          null,
          null,
          null,
          null,
          null,
          null,
          null,
          null,
          null,
          null,
          null,
          null
         ],
         "yaxis": "y3"
        },
        {
         "connectgaps": false,
         "hovertemplate": "fnid=TD2012A109<br>indicator=area<br>year=%{x}<br>value=%{y}<extra></extra>",
         "legendgroup": "TD2012A109",
         "line": {
          "color": "#19d3f3",
          "dash": "solid"
         },
         "marker": {
          "symbol": "circle"
         },
         "mode": "lines+markers",
         "name": "TD2012A109",
         "showlegend": false,
         "type": "scattergl",
         "x": [
          1983,
          1984,
          1985,
          1986,
          1987,
          1988,
          1989,
          1990,
          1991,
          1992,
          1993,
          1994,
          1995,
          1996,
          1997,
          1998,
          1999,
          2000,
          2001,
          2002,
          2003,
          2004,
          2005,
          2006,
          2007,
          2008,
          2009,
          2010,
          2011,
          2012,
          2013,
          2014,
          2015,
          2016,
          2017
         ],
         "xaxis": "x2",
         "y": [
          null,
          null,
          null,
          null,
          null,
          90,
          null,
          null,
          null,
          null,
          null,
          null,
          null,
          null,
          null,
          null,
          null,
          null,
          null,
          null,
          null,
          null,
          null,
          null,
          null,
          null,
          null,
          null,
          null,
          null,
          null,
          null,
          null,
          null,
          null
         ],
         "yaxis": "y2"
        },
        {
         "connectgaps": false,
         "hovertemplate": "fnid=TD2012A109<br>indicator=yield<br>year=%{x}<br>value=%{y}<extra></extra>",
         "legendgroup": "TD2012A109",
         "line": {
          "color": "#19d3f3",
          "dash": "solid"
         },
         "marker": {
          "symbol": "circle"
         },
         "mode": "lines+markers",
         "name": "TD2012A109",
         "showlegend": false,
         "type": "scattergl",
         "x": [
          1983,
          1984,
          1985,
          1986,
          1987,
          1988,
          1989,
          1990,
          1991,
          1992,
          1993,
          1994,
          1995,
          1996,
          1997,
          1998,
          1999,
          2000,
          2001,
          2002,
          2003,
          2004,
          2005,
          2006,
          2007,
          2008,
          2009,
          2010,
          2011,
          2012,
          2013,
          2014,
          2015,
          2016,
          2017
         ],
         "xaxis": "x",
         "y": [
          null,
          null,
          null,
          null,
          null,
          0.5,
          null,
          null,
          null,
          null,
          null,
          null,
          null,
          null,
          null,
          null,
          null,
          null,
          null,
          null,
          null,
          null,
          null,
          null,
          null,
          null,
          null,
          null,
          null,
          null,
          null,
          null,
          null,
          null,
          null
         ],
         "yaxis": "y"
        },
        {
         "connectgaps": false,
         "hovertemplate": "fnid=TD2012A110<br>indicator=production<br>year=%{x}<br>value=%{y}<extra></extra>",
         "legendgroup": "TD2012A110",
         "line": {
          "color": "#FF6692",
          "dash": "solid"
         },
         "marker": {
          "symbol": "circle"
         },
         "mode": "lines+markers",
         "name": "TD2012A110",
         "showlegend": true,
         "type": "scattergl",
         "x": [
          1983,
          1984,
          1985,
          1986,
          1987,
          1988,
          1989,
          1990,
          1991,
          1992,
          1993,
          1994,
          1995,
          1996,
          1997,
          1998,
          1999,
          2000,
          2001,
          2002,
          2003,
          2004,
          2005,
          2006,
          2007,
          2008,
          2009,
          2010,
          2011,
          2012,
          2013,
          2014,
          2015,
          2016,
          2017
         ],
         "xaxis": "x3",
         "y": [
          null,
          null,
          null,
          null,
          null,
          null,
          null,
          null,
          null,
          null,
          null,
          null,
          null,
          null,
          null,
          null,
          null,
          null,
          null,
          null,
          null,
          null,
          null,
          null,
          null,
          null,
          null,
          272.5,
          28,
          950,
          null,
          345.6,
          465,
          733.788,
          644
         ],
         "yaxis": "y3"
        },
        {
         "connectgaps": false,
         "hovertemplate": "fnid=TD2012A110<br>indicator=area<br>year=%{x}<br>value=%{y}<extra></extra>",
         "legendgroup": "TD2012A110",
         "line": {
          "color": "#FF6692",
          "dash": "solid"
         },
         "marker": {
          "symbol": "circle"
         },
         "mode": "lines+markers",
         "name": "TD2012A110",
         "showlegend": false,
         "type": "scattergl",
         "x": [
          1983,
          1984,
          1985,
          1986,
          1987,
          1988,
          1989,
          1990,
          1991,
          1992,
          1993,
          1994,
          1995,
          1996,
          1997,
          1998,
          1999,
          2000,
          2001,
          2002,
          2003,
          2004,
          2005,
          2006,
          2007,
          2008,
          2009,
          2010,
          2011,
          2012,
          2013,
          2014,
          2015,
          2016,
          2017
         ],
         "xaxis": "x2",
         "y": [
          null,
          null,
          null,
          null,
          null,
          null,
          null,
          null,
          null,
          null,
          null,
          null,
          null,
          null,
          null,
          null,
          null,
          null,
          null,
          null,
          null,
          null,
          null,
          null,
          null,
          null,
          null,
          545,
          40,
          500,
          630,
          216,
          310,
          392.4,
          460
         ],
         "yaxis": "y2"
        },
        {
         "connectgaps": false,
         "hovertemplate": "fnid=TD2012A110<br>indicator=yield<br>year=%{x}<br>value=%{y}<extra></extra>",
         "legendgroup": "TD2012A110",
         "line": {
          "color": "#FF6692",
          "dash": "solid"
         },
         "marker": {
          "symbol": "circle"
         },
         "mode": "lines+markers",
         "name": "TD2012A110",
         "showlegend": false,
         "type": "scattergl",
         "x": [
          1983,
          1984,
          1985,
          1986,
          1987,
          1988,
          1989,
          1990,
          1991,
          1992,
          1993,
          1994,
          1995,
          1996,
          1997,
          1998,
          1999,
          2000,
          2001,
          2002,
          2003,
          2004,
          2005,
          2006,
          2007,
          2008,
          2009,
          2010,
          2011,
          2012,
          2013,
          2014,
          2015,
          2016,
          2017
         ],
         "xaxis": "x",
         "y": [
          null,
          null,
          null,
          null,
          null,
          null,
          null,
          null,
          null,
          null,
          null,
          null,
          null,
          null,
          null,
          null,
          null,
          null,
          null,
          null,
          null,
          null,
          null,
          null,
          null,
          null,
          null,
          0.5,
          0.7,
          1.9,
          null,
          1.6,
          1.5,
          1.87,
          1.4
         ],
         "yaxis": "y"
        },
        {
         "connectgaps": false,
         "hovertemplate": "fnid=TD2012A111<br>indicator=production<br>year=%{x}<br>value=%{y}<extra></extra>",
         "legendgroup": "TD2012A111",
         "line": {
          "color": "#B6E880",
          "dash": "solid"
         },
         "marker": {
          "symbol": "circle"
         },
         "mode": "lines+markers",
         "name": "TD2012A111",
         "showlegend": true,
         "type": "scattergl",
         "x": [
          1983,
          1984,
          1985,
          1986,
          1987,
          1988,
          1989,
          1990,
          1991,
          1992,
          1993,
          1994,
          1995,
          1996,
          1997,
          1998,
          1999,
          2000,
          2001,
          2002,
          2003,
          2004,
          2005,
          2006,
          2007,
          2008,
          2009,
          2010,
          2011,
          2012,
          2013,
          2014,
          2015,
          2016,
          2017
         ],
         "xaxis": "x3",
         "y": [
          null,
          null,
          null,
          null,
          null,
          null,
          null,
          null,
          null,
          null,
          120,
          null,
          null,
          null,
          null,
          null,
          null,
          null,
          null,
          null,
          null,
          null,
          1400,
          null,
          null,
          null,
          null,
          null,
          null,
          null,
          null,
          null,
          null,
          null,
          null
         ],
         "yaxis": "y3"
        },
        {
         "connectgaps": false,
         "hovertemplate": "fnid=TD2012A111<br>indicator=area<br>year=%{x}<br>value=%{y}<extra></extra>",
         "legendgroup": "TD2012A111",
         "line": {
          "color": "#B6E880",
          "dash": "solid"
         },
         "marker": {
          "symbol": "circle"
         },
         "mode": "lines+markers",
         "name": "TD2012A111",
         "showlegend": false,
         "type": "scattergl",
         "x": [
          1983,
          1984,
          1985,
          1986,
          1987,
          1988,
          1989,
          1990,
          1991,
          1992,
          1993,
          1994,
          1995,
          1996,
          1997,
          1998,
          1999,
          2000,
          2001,
          2002,
          2003,
          2004,
          2005,
          2006,
          2007,
          2008,
          2009,
          2010,
          2011,
          2012,
          2013,
          2014,
          2015,
          2016,
          2017
         ],
         "xaxis": "x2",
         "y": [
          null,
          null,
          null,
          null,
          null,
          null,
          null,
          null,
          null,
          null,
          200,
          null,
          null,
          null,
          null,
          null,
          null,
          null,
          null,
          null,
          null,
          null,
          2000,
          null,
          null,
          null,
          null,
          null,
          null,
          null,
          null,
          null,
          null,
          null,
          null
         ],
         "yaxis": "y2"
        },
        {
         "connectgaps": false,
         "hovertemplate": "fnid=TD2012A111<br>indicator=yield<br>year=%{x}<br>value=%{y}<extra></extra>",
         "legendgroup": "TD2012A111",
         "line": {
          "color": "#B6E880",
          "dash": "solid"
         },
         "marker": {
          "symbol": "circle"
         },
         "mode": "lines+markers",
         "name": "TD2012A111",
         "showlegend": false,
         "type": "scattergl",
         "x": [
          1983,
          1984,
          1985,
          1986,
          1987,
          1988,
          1989,
          1990,
          1991,
          1992,
          1993,
          1994,
          1995,
          1996,
          1997,
          1998,
          1999,
          2000,
          2001,
          2002,
          2003,
          2004,
          2005,
          2006,
          2007,
          2008,
          2009,
          2010,
          2011,
          2012,
          2013,
          2014,
          2015,
          2016,
          2017
         ],
         "xaxis": "x",
         "y": [
          null,
          null,
          null,
          null,
          null,
          null,
          null,
          null,
          null,
          null,
          0.6,
          null,
          null,
          null,
          null,
          null,
          null,
          null,
          null,
          null,
          null,
          null,
          0.7,
          null,
          null,
          null,
          null,
          null,
          null,
          null,
          null,
          null,
          null,
          null,
          null
         ],
         "yaxis": "y"
        },
        {
         "connectgaps": false,
         "hovertemplate": "fnid=TD2012A112<br>indicator=production<br>year=%{x}<br>value=%{y}<extra></extra>",
         "legendgroup": "TD2012A112",
         "line": {
          "color": "#FF97FF",
          "dash": "solid"
         },
         "marker": {
          "symbol": "circle"
         },
         "mode": "lines+markers",
         "name": "TD2012A112",
         "showlegend": true,
         "type": "scattergl",
         "x": [
          1983,
          1984,
          1985,
          1986,
          1987,
          1988,
          1989,
          1990,
          1991,
          1992,
          1993,
          1994,
          1995,
          1996,
          1997,
          1998,
          1999,
          2000,
          2001,
          2002,
          2003,
          2004,
          2005,
          2006,
          2007,
          2008,
          2009,
          2010,
          2011,
          2012,
          2013,
          2014,
          2015,
          2016,
          2017
         ],
         "xaxis": "x3",
         "y": [
          null,
          null,
          null,
          null,
          null,
          null,
          null,
          null,
          null,
          null,
          null,
          null,
          null,
          null,
          null,
          null,
          null,
          120,
          156,
          null,
          180,
          null,
          null,
          null,
          null,
          null,
          null,
          null,
          null,
          null,
          null,
          null,
          null,
          null,
          null
         ],
         "yaxis": "y3"
        },
        {
         "connectgaps": false,
         "hovertemplate": "fnid=TD2012A112<br>indicator=area<br>year=%{x}<br>value=%{y}<extra></extra>",
         "legendgroup": "TD2012A112",
         "line": {
          "color": "#FF97FF",
          "dash": "solid"
         },
         "marker": {
          "symbol": "circle"
         },
         "mode": "lines+markers",
         "name": "TD2012A112",
         "showlegend": false,
         "type": "scattergl",
         "x": [
          1983,
          1984,
          1985,
          1986,
          1987,
          1988,
          1989,
          1990,
          1991,
          1992,
          1993,
          1994,
          1995,
          1996,
          1997,
          1998,
          1999,
          2000,
          2001,
          2002,
          2003,
          2004,
          2005,
          2006,
          2007,
          2008,
          2009,
          2010,
          2011,
          2012,
          2013,
          2014,
          2015,
          2016,
          2017
         ],
         "xaxis": "x2",
         "y": [
          null,
          null,
          null,
          null,
          null,
          null,
          null,
          null,
          null,
          null,
          null,
          null,
          null,
          null,
          null,
          null,
          null,
          150,
          165,
          null,
          200,
          null,
          null,
          null,
          null,
          null,
          null,
          null,
          null,
          null,
          null,
          null,
          null,
          null,
          null
         ],
         "yaxis": "y2"
        },
        {
         "connectgaps": false,
         "hovertemplate": "fnid=TD2012A112<br>indicator=yield<br>year=%{x}<br>value=%{y}<extra></extra>",
         "legendgroup": "TD2012A112",
         "line": {
          "color": "#FF97FF",
          "dash": "solid"
         },
         "marker": {
          "symbol": "circle"
         },
         "mode": "lines+markers",
         "name": "TD2012A112",
         "showlegend": false,
         "type": "scattergl",
         "x": [
          1983,
          1984,
          1985,
          1986,
          1987,
          1988,
          1989,
          1990,
          1991,
          1992,
          1993,
          1994,
          1995,
          1996,
          1997,
          1998,
          1999,
          2000,
          2001,
          2002,
          2003,
          2004,
          2005,
          2006,
          2007,
          2008,
          2009,
          2010,
          2011,
          2012,
          2013,
          2014,
          2015,
          2016,
          2017
         ],
         "xaxis": "x",
         "y": [
          null,
          null,
          null,
          null,
          null,
          null,
          null,
          null,
          null,
          null,
          null,
          null,
          null,
          null,
          null,
          null,
          null,
          0.8,
          0.9454545454545454,
          null,
          0.9,
          null,
          null,
          null,
          null,
          null,
          null,
          null,
          null,
          null,
          null,
          null,
          null,
          null,
          null
         ],
         "yaxis": "y"
        },
        {
         "connectgaps": false,
         "hovertemplate": "fnid=TD2012A114<br>indicator=production<br>year=%{x}<br>value=%{y}<extra></extra>",
         "legendgroup": "TD2012A114",
         "line": {
          "color": "#FECB52",
          "dash": "solid"
         },
         "marker": {
          "symbol": "circle"
         },
         "mode": "lines+markers",
         "name": "TD2012A114",
         "showlegend": true,
         "type": "scattergl",
         "x": [
          1983,
          1984,
          1985,
          1986,
          1987,
          1988,
          1989,
          1990,
          1991,
          1992,
          1993,
          1994,
          1995,
          1996,
          1997,
          1998,
          1999,
          2000,
          2001,
          2002,
          2003,
          2004,
          2005,
          2006,
          2007,
          2008,
          2009,
          2010,
          2011,
          2012,
          2013,
          2014,
          2015,
          2016,
          2017
         ],
         "xaxis": "x3",
         "y": [
          5304.303787609123,
          5681.741569009519,
          12759.750743600456,
          14297.242285206969,
          10388.365484512447,
          16538.331650938493,
          7081.371649258202,
          7219.23311061603,
          11449.226242034272,
          15595.998125437727,
          13639.03786909002,
          22358.775299972654,
          25218.560004480776,
          null,
          null,
          null,
          null,
          15285.809837382614,
          12750.50393826548,
          6724.949334528206,
          6876.2606945550915,
          23755.883524220888,
          23537.322670848724,
          20174.84800358462,
          26899.797338112825,
          22864.827737395903,
          30990.77063565037,
          19492.623,
          30031.444,
          41600.395,
          60221.58666667,
          46316.737,
          null,
          40994.8993425,
          50948.95258039
         ],
         "yaxis": "y3"
        },
        {
         "connectgaps": false,
         "hovertemplate": "fnid=TD2012A114<br>indicator=area<br>year=%{x}<br>value=%{y}<extra></extra>",
         "legendgroup": "TD2012A114",
         "line": {
          "color": "#FECB52",
          "dash": "solid"
         },
         "marker": {
          "symbol": "circle"
         },
         "mode": "lines+markers",
         "name": "TD2012A114",
         "showlegend": false,
         "type": "scattergl",
         "x": [
          1983,
          1984,
          1985,
          1986,
          1987,
          1988,
          1989,
          1990,
          1991,
          1992,
          1993,
          1994,
          1995,
          1996,
          1997,
          1998,
          1999,
          2000,
          2001,
          2002,
          2003,
          2004,
          2005,
          2006,
          2007,
          2008,
          2009,
          2010,
          2011,
          2012,
          2013,
          2014,
          2015,
          2016,
          2017
         ],
         "xaxis": "x2",
         "y": [
          13061.532844987409,
          18532.279128626105,
          20909.548718381822,
          17405.009496425813,
          17157.026989715087,
          13337.255767703064,
          12899.293442291915,
          11644.24977273559,
          16501.344429598586,
          24834.39727374585,
          24798.25067107276,
          18031.270403203755,
          21015.466670400645,
          null,
          null,
          null,
          null,
          18733.186989995134,
          13449.898669056412,
          8406.186668160259,
          8596.16648686068,
          26395.42613802321,
          29421.653338560904,
          25218.560004480776,
          26899.797338112825,
          28581.034671744877,
          40405.1768391791,
          54297,
          48248,
          76331,
          59625.33333333,
          64002,
          null,
          57248.25,
          67869.627
         ],
         "yaxis": "y2"
        },
        {
         "connectgaps": false,
         "hovertemplate": "fnid=TD2012A114<br>indicator=yield<br>year=%{x}<br>value=%{y}<extra></extra>",
         "legendgroup": "TD2012A114",
         "line": {
          "color": "#FECB52",
          "dash": "solid"
         },
         "marker": {
          "symbol": "circle"
         },
         "mode": "lines+markers",
         "name": "TD2012A114",
         "showlegend": false,
         "type": "scattergl",
         "x": [
          1983,
          1984,
          1985,
          1986,
          1987,
          1988,
          1989,
          1990,
          1991,
          1992,
          1993,
          1994,
          1995,
          1996,
          1997,
          1998,
          1999,
          2000,
          2001,
          2002,
          2003,
          2004,
          2005,
          2006,
          2007,
          2008,
          2009,
          2010,
          2011,
          2012,
          2013,
          2014,
          2015,
          2016,
          2017
         ],
         "xaxis": "x",
         "y": [
          0.4061011713219205,
          0.3065862287943391,
          0.6102355873602959,
          0.8214440956290752,
          0.6054875061244488,
          1.2400100844573303,
          0.5489736070381231,
          0.6199826739820965,
          0.6938359653591443,
          0.6279998646041364,
          0.55,
          1.24,
          1.2000000000000002,
          null,
          null,
          null,
          null,
          0.8159748709894549,
          0.948,
          0.7999999999999999,
          0.7999217680422452,
          0.9,
          0.8,
          0.7999999999999999,
          1,
          0.8,
          0.767,
          0.359,
          0.6224391477366937,
          0.5449999999999999,
          1.0100000000001124,
          0.723676400737477,
          null,
          0.71609,
          0.7506885602950198
         ],
         "yaxis": "y"
        },
        {
         "connectgaps": false,
         "hovertemplate": "fnid=TD2012A115<br>indicator=production<br>year=%{x}<br>value=%{y}<extra></extra>",
         "legendgroup": "TD2012A115",
         "line": {
          "color": "#636efa",
          "dash": "solid"
         },
         "marker": {
          "symbol": "circle"
         },
         "mode": "lines+markers",
         "name": "TD2012A115",
         "showlegend": true,
         "type": "scattergl",
         "x": [
          1983,
          1984,
          1985,
          1986,
          1987,
          1988,
          1989,
          1990,
          1991,
          1992,
          1993,
          1994,
          1995,
          1996,
          1997,
          1998,
          1999,
          2000,
          2001,
          2002,
          2003,
          2004,
          2005,
          2006,
          2007,
          2008,
          2009,
          2010,
          2011,
          2012,
          2013,
          2014,
          2015,
          2016,
          2017
         ],
         "xaxis": "x3",
         "y": [
          1005.6962123908772,
          1077.2584309904817,
          2419.2492563995447,
          2710.7577147930333,
          1969.6345154875532,
          3135.6683490615087,
          1342.6283507417988,
          1368.7668893839705,
          2170.7737579657287,
          2957.0018745622733,
          2585.9621309099816,
          4239.224700027346,
          4781.439995519227,
          null,
          null,
          null,
          null,
          2898.190162617387,
          2417.496061734521,
          1275.0506654717938,
          1303.739305444909,
          4504.116475779111,
          4462.677329151278,
          3825.151996415381,
          5100.202661887175,
          4335.172262604098,
          5875.851364349634,
          15729.245,
          7282,
          7877.052,
          15111.64266667,
          8179.459,
          6324.48727752,
          7226.57169231,
          10198.125
         ],
         "yaxis": "y3"
        },
        {
         "connectgaps": false,
         "hovertemplate": "fnid=TD2012A115<br>indicator=area<br>year=%{x}<br>value=%{y}<extra></extra>",
         "legendgroup": "TD2012A115",
         "line": {
          "color": "#636efa",
          "dash": "solid"
         },
         "marker": {
          "symbol": "circle"
         },
         "mode": "lines+markers",
         "name": "TD2012A115",
         "showlegend": false,
         "type": "scattergl",
         "x": [
          1983,
          1984,
          1985,
          1986,
          1987,
          1988,
          1989,
          1990,
          1991,
          1992,
          1993,
          1994,
          1995,
          1996,
          1997,
          1998,
          1999,
          2000,
          2001,
          2002,
          2003,
          2004,
          2005,
          2006,
          2007,
          2008,
          2009,
          2010,
          2011,
          2012,
          2013,
          2014,
          2015,
          2016,
          2017
         ],
         "xaxis": "x2",
         "y": [
          2476.4671550125913,
          3513.7208713738955,
          3964.4512816181746,
          3299.990503574186,
          3252.9730102849135,
          2528.744232296935,
          2445.7065577080843,
          2207.7502272644106,
          3128.6555704014136,
          4708.60272625415,
          4701.749328927239,
          3418.729596796247,
          3984.533329599355,
          null,
          null,
          null,
          null,
          3551.813010004865,
          2550.1013309435875,
          1593.8133318397422,
          1629.8335131393203,
          5004.57386197679,
          5578.346661439097,
          4781.439995519227,
          5100.202661887175,
          5418.9653282551235,
          7660.823160820904,
          20615,
          9540,
          10761,
          13638.66666667,
          10327,
          7985,
          9547.3,
          11025
         ],
         "yaxis": "y2"
        },
        {
         "connectgaps": false,
         "hovertemplate": "fnid=TD2012A115<br>indicator=yield<br>year=%{x}<br>value=%{y}<extra></extra>",
         "legendgroup": "TD2012A115",
         "line": {
          "color": "#636efa",
          "dash": "solid"
         },
         "marker": {
          "symbol": "circle"
         },
         "mode": "lines+markers",
         "name": "TD2012A115",
         "showlegend": false,
         "type": "scattergl",
         "x": [
          1983,
          1984,
          1985,
          1986,
          1987,
          1988,
          1989,
          1990,
          1991,
          1992,
          1993,
          1994,
          1995,
          1996,
          1997,
          1998,
          1999,
          2000,
          2001,
          2002,
          2003,
          2004,
          2005,
          2006,
          2007,
          2008,
          2009,
          2010,
          2011,
          2012,
          2013,
          2014,
          2015,
          2016,
          2017
         ],
         "xaxis": "x",
         "y": [
          0.4061011713219204,
          0.3065862287943391,
          0.6102355873602959,
          0.8214440956290752,
          0.6054875061244488,
          1.24001008445733,
          0.5489736070381231,
          0.6199826739820965,
          0.6938359653591442,
          0.6279998646041363,
          0.55,
          1.2400000000000002,
          1.2000000000000002,
          null,
          null,
          null,
          null,
          0.8159748709894549,
          0.948,
          0.8,
          0.7999217680422452,
          0.9,
          0.8,
          0.7999999999999999,
          1,
          0.7999999999999999,
          0.7670000000000001,
          0.763,
          0.7633123689727463,
          0.732,
          1.1079999999999737,
          0.7920459959329912,
          0.7920459959323732,
          0.7569230769233187,
          0.925
         ],
         "yaxis": "y"
        },
        {
         "connectgaps": false,
         "hovertemplate": "fnid=TD2012A116<br>indicator=production<br>year=%{x}<br>value=%{y}<extra></extra>",
         "legendgroup": "TD2012A116",
         "line": {
          "color": "#EF553B",
          "dash": "solid"
         },
         "marker": {
          "symbol": "circle"
         },
         "mode": "lines+markers",
         "name": "TD2012A116",
         "showlegend": true,
         "type": "scattergl",
         "x": [
          1983,
          1984,
          1985,
          1986,
          1987,
          1988,
          1989,
          1990,
          1991,
          1992,
          1993,
          1994,
          1995,
          1996,
          1997,
          1998,
          1999,
          2000,
          2001,
          2002,
          2003,
          2004,
          2005,
          2006,
          2007,
          2008,
          2009,
          2010,
          2011,
          2012,
          2013,
          2014,
          2015,
          2016,
          2017
         ],
         "xaxis": "x3",
         "y": [
          null,
          null,
          124,
          257,
          203,
          1617,
          3699,
          2024,
          2010,
          656,
          1340,
          8164,
          2571,
          null,
          null,
          null,
          null,
          835,
          763,
          805,
          765,
          560,
          855,
          720,
          null,
          null,
          4795,
          3216,
          2925,
          616,
          3581.032,
          5186.4,
          1204,
          8844.24996,
          5740.56
         ],
         "yaxis": "y3"
        },
        {
         "connectgaps": false,
         "hovertemplate": "fnid=TD2012A116<br>indicator=area<br>year=%{x}<br>value=%{y}<extra></extra>",
         "legendgroup": "TD2012A116",
         "line": {
          "color": "#EF553B",
          "dash": "solid"
         },
         "marker": {
          "symbol": "circle"
         },
         "mode": "lines+markers",
         "name": "TD2012A116",
         "showlegend": false,
         "type": "scattergl",
         "x": [
          1983,
          1984,
          1985,
          1986,
          1987,
          1988,
          1989,
          1990,
          1991,
          1992,
          1993,
          1994,
          1995,
          1996,
          1997,
          1998,
          1999,
          2000,
          2001,
          2002,
          2003,
          2004,
          2005,
          2006,
          2007,
          2008,
          2009,
          2010,
          2011,
          2012,
          2013,
          2014,
          2015,
          2016,
          2017
         ],
         "xaxis": "x2",
         "y": [
          null,
          null,
          177,
          367,
          300,
          1617,
          3699,
          3114,
          5020,
          1208,
          2680,
          8164,
          4285,
          null,
          null,
          null,
          null,
          835,
          900,
          1150,
          900,
          800,
          950,
          800,
          null,
          null,
          5994,
          4288,
          4875,
          675,
          3279.33333333,
          6483,
          1505,
          4262.7,
          3376.8
         ],
         "yaxis": "y2"
        },
        {
         "connectgaps": false,
         "hovertemplate": "fnid=TD2012A116<br>indicator=yield<br>year=%{x}<br>value=%{y}<extra></extra>",
         "legendgroup": "TD2012A116",
         "line": {
          "color": "#EF553B",
          "dash": "solid"
         },
         "marker": {
          "symbol": "circle"
         },
         "mode": "lines+markers",
         "name": "TD2012A116",
         "showlegend": false,
         "type": "scattergl",
         "x": [
          1983,
          1984,
          1985,
          1986,
          1987,
          1988,
          1989,
          1990,
          1991,
          1992,
          1993,
          1994,
          1995,
          1996,
          1997,
          1998,
          1999,
          2000,
          2001,
          2002,
          2003,
          2004,
          2005,
          2006,
          2007,
          2008,
          2009,
          2010,
          2011,
          2012,
          2013,
          2014,
          2015,
          2016,
          2017
         ],
         "xaxis": "x",
         "y": [
          null,
          null,
          0.7005649717514124,
          0.7002724795640327,
          0.6766666666666666,
          1,
          1,
          0.6499678869621066,
          0.4003984063745019,
          0.543046357615894,
          0.5,
          1,
          0.6,
          null,
          null,
          null,
          null,
          1,
          0.8477777777777777,
          0.7,
          0.85,
          0.7,
          0.9,
          0.9,
          null,
          null,
          0.7999666332999666,
          0.75,
          0.6,
          0.9125925925925926,
          1.09200000000111,
          0.7999999999999999,
          0.8,
          2.0748,
          1.7
         ],
         "yaxis": "y"
        },
        {
         "connectgaps": false,
         "hovertemplate": "fnid=TD2012A118<br>indicator=production<br>year=%{x}<br>value=%{y}<extra></extra>",
         "legendgroup": "TD2012A118",
         "line": {
          "color": "#00cc96",
          "dash": "solid"
         },
         "marker": {
          "symbol": "circle"
         },
         "mode": "lines+markers",
         "name": "TD2012A118",
         "showlegend": true,
         "type": "scattergl",
         "x": [
          1983,
          1984,
          1985,
          1986,
          1987,
          1988,
          1989,
          1990,
          1991,
          1992,
          1993,
          1994,
          1995,
          1996,
          1997,
          1998,
          1999,
          2000,
          2001,
          2002,
          2003,
          2004,
          2005,
          2006,
          2007,
          2008,
          2009,
          2010,
          2011,
          2012,
          2013,
          2014,
          2015,
          2016,
          2017
         ],
         "xaxis": "x3",
         "y": [
          191.05277710678823,
          null,
          92.71406200588235,
          146.8899789046529,
          84.98789017205883,
          226.22231129435295,
          130.20144774359412,
          null,
          241.05656121529412,
          129.7996868082353,
          92.71406200588235,
          200.07694580869412,
          97.47338385551764,
          null,
          null,
          null,
          null,
          null,
          null,
          null,
          null,
          null,
          null,
          1430.2071205027412,
          760.2553084482354,
          741.7124960470588,
          797.3718379379236,
          null,
          null,
          807.5,
          null,
          895,
          174.045,
          393.75,
          494.78625
         ],
         "yaxis": "y3"
        },
        {
         "connectgaps": false,
         "hovertemplate": "fnid=TD2012A118<br>indicator=area<br>year=%{x}<br>value=%{y}<extra></extra>",
         "legendgroup": "TD2012A118",
         "line": {
          "color": "#00cc96",
          "dash": "solid"
         },
         "marker": {
          "symbol": "circle"
         },
         "mode": "lines+markers",
         "name": "TD2012A118",
         "showlegend": false,
         "type": "scattergl",
         "x": [
          1983,
          1984,
          1985,
          1986,
          1987,
          1988,
          1989,
          1990,
          1991,
          1992,
          1993,
          1994,
          1995,
          1996,
          1997,
          1998,
          1999,
          2000,
          2001,
          2002,
          2003,
          2004,
          2005,
          2006,
          2007,
          2008,
          2009,
          2010,
          2011,
          2012,
          2013,
          2014,
          2015,
          2016,
          2017
         ],
         "xaxis": "x2",
         "y": [
          339.9515606882353,
          null,
          154.5234366764706,
          209.84282700664707,
          169.97578034411765,
          377.03718549058823,
          217.0127144684353,
          null,
          309.0468733529412,
          216.3328113470588,
          154.5234366764706,
          240.43846746858824,
          117.43781187411766,
          null,
          null,
          null,
          null,
          null,
          null,
          null,
          null,
          null,
          null,
          1596.227100867941,
          950.3191355602942,
          927.1406200588236,
          950.3809449349648,
          null,
          null,
          850,
          283.33333333,
          1000,
          283,
          625,
          640.5
         ],
         "yaxis": "y2"
        },
        {
         "connectgaps": false,
         "hovertemplate": "fnid=TD2012A118<br>indicator=yield<br>year=%{x}<br>value=%{y}<extra></extra>",
         "legendgroup": "TD2012A118",
         "line": {
          "color": "#00cc96",
          "dash": "solid"
         },
         "marker": {
          "symbol": "circle"
         },
         "mode": "lines+markers",
         "name": "TD2012A118",
         "showlegend": false,
         "type": "scattergl",
         "x": [
          1983,
          1984,
          1985,
          1986,
          1987,
          1988,
          1989,
          1990,
          1991,
          1992,
          1993,
          1994,
          1995,
          1996,
          1997,
          1998,
          1999,
          2000,
          2001,
          2002,
          2003,
          2004,
          2005,
          2006,
          2007,
          2008,
          2009,
          2010,
          2011,
          2012,
          2013,
          2014,
          2015,
          2016,
          2017
         ],
         "xaxis": "x",
         "y": [
          0.562,
          null,
          0.6,
          0.7,
          0.5,
          0.6,
          0.5999715180860153,
          null,
          0.78,
          0.6,
          0.6,
          0.832133676092545,
          0.83,
          null,
          null,
          null,
          null,
          null,
          null,
          null,
          null,
          null,
          null,
          0.8959922555663117,
          0.8,
          0.8,
          0.8390023413111343,
          null,
          null,
          0.95,
          null,
          0.895,
          0.615,
          0.63,
          0.7725
         ],
         "yaxis": "y"
        },
        {
         "connectgaps": false,
         "hovertemplate": "fnid=TD2012A119<br>indicator=production<br>year=%{x}<br>value=%{y}<extra></extra>",
         "legendgroup": "TD2012A119",
         "line": {
          "color": "#ab63fa",
          "dash": "solid"
         },
         "marker": {
          "symbol": "circle"
         },
         "mode": "lines+markers",
         "name": "TD2012A119",
         "showlegend": true,
         "type": "scattergl",
         "x": [
          1983,
          1984,
          1985,
          1986,
          1987,
          1988,
          1989,
          1990,
          1991,
          1992,
          1993,
          1994,
          1995,
          1996,
          1997,
          1998,
          1999,
          2000,
          2001,
          2002,
          2003,
          2004,
          2005,
          2006,
          2007,
          2008,
          2009,
          2010,
          2011,
          2012,
          2013,
          2014,
          2015,
          2016,
          2017
         ],
         "xaxis": "x3",
         "y": [
          12568,
          10264,
          22000,
          4114,
          11550,
          29771,
          33075,
          30240,
          78000,
          45000,
          45000,
          51000,
          48000,
          null,
          null,
          null,
          null,
          80000,
          125000,
          10000,
          204870,
          209292,
          256000,
          258100,
          477225,
          207000,
          129000,
          441657,
          123025.804,
          330213.94,
          214924.64,
          292380.016,
          297814.48,
          278517.42614108,
          324554.3208
         ],
         "yaxis": "y3"
        },
        {
         "connectgaps": false,
         "hovertemplate": "fnid=TD2012A119<br>indicator=area<br>year=%{x}<br>value=%{y}<extra></extra>",
         "legendgroup": "TD2012A119",
         "line": {
          "color": "#ab63fa",
          "dash": "solid"
         },
         "marker": {
          "symbol": "circle"
         },
         "mode": "lines+markers",
         "name": "TD2012A119",
         "showlegend": false,
         "type": "scattergl",
         "x": [
          1983,
          1984,
          1985,
          1986,
          1987,
          1988,
          1989,
          1990,
          1991,
          1992,
          1993,
          1994,
          1995,
          1996,
          1997,
          1998,
          1999,
          2000,
          2001,
          2002,
          2003,
          2004,
          2005,
          2006,
          2007,
          2008,
          2009,
          2010,
          2011,
          2012,
          2013,
          2014,
          2015,
          2016,
          2017
         ],
         "xaxis": "x2",
         "y": [
          18844,
          20736,
          24450,
          5143,
          14741,
          42530,
          36750,
          37800,
          60000,
          45000,
          45000,
          51000,
          48000,
          null,
          null,
          null,
          null,
          80000,
          125000,
          10000,
          196570,
          226262,
          256000,
          258100,
          318150,
          200000,
          191696,
          294438,
          164473,
          211540,
          169232,
          207068,
          201226,
          211540,
          222297.48
         ],
         "yaxis": "y2"
        },
        {
         "connectgaps": false,
         "hovertemplate": "fnid=TD2012A119<br>indicator=yield<br>year=%{x}<br>value=%{y}<extra></extra>",
         "legendgroup": "TD2012A119",
         "line": {
          "color": "#ab63fa",
          "dash": "solid"
         },
         "marker": {
          "symbol": "circle"
         },
         "mode": "lines+markers",
         "name": "TD2012A119",
         "showlegend": false,
         "type": "scattergl",
         "x": [
          1983,
          1984,
          1985,
          1986,
          1987,
          1988,
          1989,
          1990,
          1991,
          1992,
          1993,
          1994,
          1995,
          1996,
          1997,
          1998,
          1999,
          2000,
          2001,
          2002,
          2003,
          2004,
          2005,
          2006,
          2007,
          2008,
          2009,
          2010,
          2011,
          2012,
          2013,
          2014,
          2015,
          2016,
          2017
         ],
         "xaxis": "x",
         "y": [
          0.6669496922097219,
          0.4949845679012346,
          0.8997955010224948,
          0.799922224382656,
          0.7835289329082152,
          0.7,
          0.9,
          0.8,
          1.3,
          1,
          1,
          1,
          1,
          null,
          null,
          null,
          null,
          1,
          1,
          1,
          1.0422241440708144,
          0.9249984531207184,
          1,
          1,
          1.5,
          1.035,
          0.672940489107754,
          1.5,
          0.748,
          1.561,
          1.27,
          1.412,
          1.48,
          1.3166182572614162,
          1.46
         ],
         "yaxis": "y"
        },
        {
         "connectgaps": false,
         "hovertemplate": "fnid=TD2012A120<br>indicator=production<br>year=%{x}<br>value=%{y}<extra></extra>",
         "legendgroup": "TD2012A120",
         "line": {
          "color": "#FFA15A",
          "dash": "solid"
         },
         "marker": {
          "symbol": "circle"
         },
         "mode": "lines+markers",
         "name": "TD2012A120",
         "showlegend": true,
         "type": "scattergl",
         "x": [
          1983,
          1984,
          1985,
          1986,
          1987,
          1988,
          1989,
          1990,
          1991,
          1992,
          1993,
          1994,
          1995,
          1996,
          1997,
          1998,
          1999,
          2000,
          2001,
          2002,
          2003,
          2004,
          2005,
          2006,
          2007,
          2008,
          2009,
          2010,
          2011,
          2012,
          2013,
          2014,
          2015,
          2016,
          2017
         ],
         "xaxis": "x3",
         "y": [
          5990.947222893212,
          null,
          2907.2859379941174,
          4606.110021095346,
          2665.012109827941,
          7093.777688705647,
          4082.798552256406,
          null,
          7558.943438784706,
          4070.200313191765,
          2907.2859379941174,
          6273.923054191306,
          3056.526616144482,
          null,
          null,
          null,
          null,
          null,
          null,
          null,
          null,
          null,
          null,
          44847.792879497254,
          23839.744691551765,
          23258.28750395294,
          25003.628162062076,
          7200,
          null,
          9492.859,
          23469.9,
          18036.3,
          6554.208,
          11495.78237433,
          17175.00225
         ],
         "yaxis": "y3"
        },
        {
         "connectgaps": false,
         "hovertemplate": "fnid=TD2012A120<br>indicator=area<br>year=%{x}<br>value=%{y}<extra></extra>",
         "legendgroup": "TD2012A120",
         "line": {
          "color": "#FFA15A",
          "dash": "solid"
         },
         "marker": {
          "symbol": "circle"
         },
         "mode": "lines+markers",
         "name": "TD2012A120",
         "showlegend": false,
         "type": "scattergl",
         "x": [
          1983,
          1984,
          1985,
          1986,
          1987,
          1988,
          1989,
          1990,
          1991,
          1992,
          1993,
          1994,
          1995,
          1996,
          1997,
          1998,
          1999,
          2000,
          2001,
          2002,
          2003,
          2004,
          2005,
          2006,
          2007,
          2008,
          2009,
          2010,
          2011,
          2012,
          2013,
          2014,
          2015,
          2016,
          2017
         ],
         "xaxis": "x2",
         "y": [
          10660.048439311764,
          null,
          4845.476563323529,
          6580.157172993353,
          5330.024219655882,
          11822.962814509412,
          6804.987285531564,
          null,
          9690.95312664706,
          6783.667188652941,
          4845.476563323529,
          7539.561532531411,
          3682.562188125882,
          null,
          null,
          null,
          null,
          null,
          null,
          null,
          null,
          null,
          null,
          50053.772899132055,
          29799.680864439702,
          29072.859379941176,
          29801.619055065035,
          7200,
          null,
          6233,
          26077.66666667,
          17700,
          6432,
          11645.24,
          13262.55
         ],
         "yaxis": "y2"
        },
        {
         "connectgaps": false,
         "hovertemplate": "fnid=TD2012A120<br>indicator=yield<br>year=%{x}<br>value=%{y}<extra></extra>",
         "legendgroup": "TD2012A120",
         "line": {
          "color": "#FFA15A",
          "dash": "solid"
         },
         "marker": {
          "symbol": "circle"
         },
         "mode": "lines+markers",
         "name": "TD2012A120",
         "showlegend": false,
         "type": "scattergl",
         "x": [
          1983,
          1984,
          1985,
          1986,
          1987,
          1988,
          1989,
          1990,
          1991,
          1992,
          1993,
          1994,
          1995,
          1996,
          1997,
          1998,
          1999,
          2000,
          2001,
          2002,
          2003,
          2004,
          2005,
          2006,
          2007,
          2008,
          2009,
          2010,
          2011,
          2012,
          2013,
          2014,
          2015,
          2016,
          2017
         ],
         "xaxis": "x",
         "y": [
          0.562,
          null,
          0.6,
          0.6999999999999998,
          0.5,
          0.6,
          0.5999715180860155,
          null,
          0.78,
          0.6,
          0.6,
          0.8321336760925451,
          0.83,
          null,
          null,
          null,
          null,
          null,
          null,
          null,
          null,
          null,
          null,
          0.8959922555663117,
          0.8,
          0.7999999999999999,
          0.8390023413111342,
          1,
          null,
          1.523,
          0.899999999999885,
          1.019,
          1.019,
          0.9871657754009364,
          1.2950000000000002
         ],
         "yaxis": "y"
        },
        {
         "connectgaps": false,
         "hovertemplate": "fnid=TD2012A121<br>indicator=production<br>year=%{x}<br>value=%{y}<extra></extra>",
         "legendgroup": "TD2012A121",
         "line": {
          "color": "#19d3f3",
          "dash": "solid"
         },
         "marker": {
          "symbol": "circle"
         },
         "mode": "lines+markers",
         "name": "TD2012A121",
         "showlegend": true,
         "type": "scattergl",
         "x": [
          1983,
          1984,
          1985,
          1986,
          1987,
          1988,
          1989,
          1990,
          1991,
          1992,
          1993,
          1994,
          1995,
          1996,
          1997,
          1998,
          1999,
          2000,
          2001,
          2002,
          2003,
          2004,
          2005,
          2006,
          2007,
          2008,
          2009,
          2010,
          2011,
          2012,
          2013,
          2014,
          2015,
          2016,
          2017
         ],
         "xaxis": "x3",
         "y": [
          391,
          null,
          174,
          432,
          420,
          175,
          79,
          30,
          110,
          19,
          70,
          1195,
          2226,
          null,
          null,
          null,
          null,
          1661,
          1737,
          900,
          5600,
          5200,
          6400,
          6800,
          null,
          5600,
          null,
          4340,
          null,
          null,
          2595.4,
          8989,
          7267.15,
          3337.41375,
          4225.19895
         ],
         "yaxis": "y3"
        },
        {
         "connectgaps": false,
         "hovertemplate": "fnid=TD2012A121<br>indicator=area<br>year=%{x}<br>value=%{y}<extra></extra>",
         "legendgroup": "TD2012A121",
         "line": {
          "color": "#19d3f3",
          "dash": "solid"
         },
         "marker": {
          "symbol": "circle"
         },
         "mode": "lines+markers",
         "name": "TD2012A121",
         "showlegend": false,
         "type": "scattergl",
         "x": [
          1983,
          1984,
          1985,
          1986,
          1987,
          1988,
          1989,
          1990,
          1991,
          1992,
          1993,
          1994,
          1995,
          1996,
          1997,
          1998,
          1999,
          2000,
          2001,
          2002,
          2003,
          2004,
          2005,
          2006,
          2007,
          2008,
          2009,
          2010,
          2011,
          2012,
          2013,
          2014,
          2015,
          2016,
          2017
         ],
         "xaxis": "x2",
         "y": [
          553,
          null,
          347,
          500,
          600,
          500,
          183,
          100,
          550,
          50,
          327,
          3413,
          5080,
          null,
          null,
          null,
          null,
          5113,
          3000,
          1500,
          7000,
          6500,
          8000,
          8500,
          null,
          7000,
          null,
          6200,
          null,
          630,
          3415,
          8989,
          9955,
          4977.5,
          5993.19
         ],
         "yaxis": "y2"
        },
        {
         "connectgaps": false,
         "hovertemplate": "fnid=TD2012A121<br>indicator=yield<br>year=%{x}<br>value=%{y}<extra></extra>",
         "legendgroup": "TD2012A121",
         "line": {
          "color": "#19d3f3",
          "dash": "solid"
         },
         "marker": {
          "symbol": "circle"
         },
         "mode": "lines+markers",
         "name": "TD2012A121",
         "showlegend": false,
         "type": "scattergl",
         "x": [
          1983,
          1984,
          1985,
          1986,
          1987,
          1988,
          1989,
          1990,
          1991,
          1992,
          1993,
          1994,
          1995,
          1996,
          1997,
          1998,
          1999,
          2000,
          2001,
          2002,
          2003,
          2004,
          2005,
          2006,
          2007,
          2008,
          2009,
          2010,
          2011,
          2012,
          2013,
          2014,
          2015,
          2016,
          2017
         ],
         "xaxis": "x",
         "y": [
          0.7070524412296564,
          null,
          0.5014409221902018,
          0.864,
          0.7,
          0.35,
          0.4316939890710382,
          0.3,
          0.2,
          0.38,
          0.2140672782874617,
          0.3501318488133607,
          0.4381889763779527,
          null,
          null,
          null,
          null,
          0.3248582045765695,
          0.579,
          0.6,
          0.8,
          0.8,
          0.8,
          0.8,
          null,
          0.8,
          null,
          0.7,
          null,
          null,
          0.76,
          1,
          0.73,
          0.6705,
          0.7050000000000001
         ],
         "yaxis": "y"
        },
        {
         "connectgaps": false,
         "hovertemplate": "fnid=TD2012A123<br>indicator=production<br>year=%{x}<br>value=%{y}<extra></extra>",
         "legendgroup": "TD2012A123",
         "line": {
          "color": "#FF6692",
          "dash": "solid"
         },
         "marker": {
          "symbol": "circle"
         },
         "mode": "lines+markers",
         "name": "TD2012A123",
         "showlegend": true,
         "type": "scattergl",
         "x": [
          1983,
          1984,
          1985,
          1986,
          1987,
          1988,
          1989,
          1990,
          1991,
          1992,
          1993,
          1994,
          1995,
          1996,
          1997,
          1998,
          1999,
          2000,
          2001,
          2002,
          2003,
          2004,
          2005,
          2006,
          2007,
          2008,
          2009,
          2010,
          2011,
          2012,
          2013,
          2014,
          2015,
          2016,
          2017
         ],
         "xaxis": "x3",
         "y": [
          null,
          null,
          450,
          24,
          752,
          1050,
          356,
          null,
          null,
          null,
          null,
          null,
          null,
          null,
          null,
          null,
          null,
          null,
          null,
          null,
          null,
          null,
          null,
          null,
          4725,
          null,
          null,
          810,
          null,
          22.4,
          null,
          null,
          null,
          null,
          null
         ],
         "yaxis": "y3"
        },
        {
         "connectgaps": false,
         "hovertemplate": "fnid=TD2012A123<br>indicator=area<br>year=%{x}<br>value=%{y}<extra></extra>",
         "legendgroup": "TD2012A123",
         "line": {
          "color": "#FF6692",
          "dash": "solid"
         },
         "marker": {
          "symbol": "circle"
         },
         "mode": "lines+markers",
         "name": "TD2012A123",
         "showlegend": false,
         "type": "scattergl",
         "x": [
          1983,
          1984,
          1985,
          1986,
          1987,
          1988,
          1989,
          1990,
          1991,
          1992,
          1993,
          1994,
          1995,
          1996,
          1997,
          1998,
          1999,
          2000,
          2001,
          2002,
          2003,
          2004,
          2005,
          2006,
          2007,
          2008,
          2009,
          2010,
          2011,
          2012,
          2013,
          2014,
          2015,
          2016,
          2017
         ],
         "xaxis": "x2",
         "y": [
          null,
          null,
          350,
          40,
          1880,
          1750,
          396,
          null,
          null,
          null,
          null,
          null,
          null,
          null,
          null,
          null,
          null,
          null,
          null,
          null,
          null,
          null,
          null,
          null,
          6750,
          null,
          null,
          1800,
          null,
          32,
          null,
          null,
          null,
          null,
          null
         ],
         "yaxis": "y2"
        },
        {
         "connectgaps": false,
         "hovertemplate": "fnid=TD2012A123<br>indicator=yield<br>year=%{x}<br>value=%{y}<extra></extra>",
         "legendgroup": "TD2012A123",
         "line": {
          "color": "#FF6692",
          "dash": "solid"
         },
         "marker": {
          "symbol": "circle"
         },
         "mode": "lines+markers",
         "name": "TD2012A123",
         "showlegend": false,
         "type": "scattergl",
         "x": [
          1983,
          1984,
          1985,
          1986,
          1987,
          1988,
          1989,
          1990,
          1991,
          1992,
          1993,
          1994,
          1995,
          1996,
          1997,
          1998,
          1999,
          2000,
          2001,
          2002,
          2003,
          2004,
          2005,
          2006,
          2007,
          2008,
          2009,
          2010,
          2011,
          2012,
          2013,
          2014,
          2015,
          2016,
          2017
         ],
         "xaxis": "x",
         "y": [
          null,
          null,
          1.2857142857142858,
          0.6,
          0.4,
          0.6,
          0.898989898989899,
          null,
          null,
          null,
          null,
          null,
          null,
          null,
          null,
          null,
          null,
          null,
          null,
          null,
          null,
          null,
          null,
          null,
          0.7,
          null,
          null,
          0.45,
          null,
          0.7,
          null,
          null,
          null,
          null,
          null
         ],
         "yaxis": "y"
        }
       ],
       "layout": {
        "annotations": [
         {
          "showarrow": false,
          "text": "",
          "textangle": 90,
          "x": 0.98,
          "xanchor": "left",
          "xref": "paper",
          "y": 0.16333333333333333,
          "yanchor": "middle",
          "yref": "paper"
         },
         {
          "showarrow": false,
          "text": "",
          "textangle": 90,
          "x": 0.98,
          "xanchor": "left",
          "xref": "paper",
          "y": 0.5,
          "yanchor": "middle",
          "yref": "paper"
         },
         {
          "showarrow": false,
          "text": "",
          "textangle": 90,
          "x": 0.98,
          "xanchor": "left",
          "xref": "paper",
          "y": 0.8366666666666667,
          "yanchor": "middle",
          "yref": "paper"
         },
         {
          "align": "left",
          "font": {
           "color": "dimgrey",
           "family": "arial",
           "size": 15
          },
          "showarrow": false,
          "text": "Production-Area-Yield (PAY) time-series of TD - Sorghum - Cold-off",
          "x": -0.014,
          "xref": "paper",
          "y": -0.14,
          "yref": "paper"
         }
        ],
        "font": {
         "color": "black",
         "family": "arial",
         "size": 16
        },
        "height": 600,
        "legend": {
         "font": {
          "size": 14
         },
         "title": {
          "text": "FNID"
         },
         "tracegroupgap": 0,
         "x": 1,
         "xanchor": "left",
         "y": 1,
         "yanchor": "top"
        },
        "margin": {
         "b": 25,
         "l": 0,
         "r": 0,
         "t": 0
        },
        "template": {
         "data": {
          "bar": [
           {
            "error_x": {
             "color": "#2a3f5f"
            },
            "error_y": {
             "color": "#2a3f5f"
            },
            "marker": {
             "line": {
              "color": "#E5ECF6",
              "width": 0.5
             },
             "pattern": {
              "fillmode": "overlay",
              "size": 10,
              "solidity": 0.2
             }
            },
            "type": "bar"
           }
          ],
          "barpolar": [
           {
            "marker": {
             "line": {
              "color": "#E5ECF6",
              "width": 0.5
             },
             "pattern": {
              "fillmode": "overlay",
              "size": 10,
              "solidity": 0.2
             }
            },
            "type": "barpolar"
           }
          ],
          "carpet": [
           {
            "aaxis": {
             "endlinecolor": "#2a3f5f",
             "gridcolor": "white",
             "linecolor": "white",
             "minorgridcolor": "white",
             "startlinecolor": "#2a3f5f"
            },
            "baxis": {
             "endlinecolor": "#2a3f5f",
             "gridcolor": "white",
             "linecolor": "white",
             "minorgridcolor": "white",
             "startlinecolor": "#2a3f5f"
            },
            "type": "carpet"
           }
          ],
          "choropleth": [
           {
            "colorbar": {
             "outlinewidth": 0,
             "ticks": ""
            },
            "type": "choropleth"
           }
          ],
          "contour": [
           {
            "colorbar": {
             "outlinewidth": 0,
             "ticks": ""
            },
            "colorscale": [
             [
              0,
              "#0d0887"
             ],
             [
              0.1111111111111111,
              "#46039f"
             ],
             [
              0.2222222222222222,
              "#7201a8"
             ],
             [
              0.3333333333333333,
              "#9c179e"
             ],
             [
              0.4444444444444444,
              "#bd3786"
             ],
             [
              0.5555555555555556,
              "#d8576b"
             ],
             [
              0.6666666666666666,
              "#ed7953"
             ],
             [
              0.7777777777777778,
              "#fb9f3a"
             ],
             [
              0.8888888888888888,
              "#fdca26"
             ],
             [
              1,
              "#f0f921"
             ]
            ],
            "type": "contour"
           }
          ],
          "contourcarpet": [
           {
            "colorbar": {
             "outlinewidth": 0,
             "ticks": ""
            },
            "type": "contourcarpet"
           }
          ],
          "heatmap": [
           {
            "colorbar": {
             "outlinewidth": 0,
             "ticks": ""
            },
            "colorscale": [
             [
              0,
              "#0d0887"
             ],
             [
              0.1111111111111111,
              "#46039f"
             ],
             [
              0.2222222222222222,
              "#7201a8"
             ],
             [
              0.3333333333333333,
              "#9c179e"
             ],
             [
              0.4444444444444444,
              "#bd3786"
             ],
             [
              0.5555555555555556,
              "#d8576b"
             ],
             [
              0.6666666666666666,
              "#ed7953"
             ],
             [
              0.7777777777777778,
              "#fb9f3a"
             ],
             [
              0.8888888888888888,
              "#fdca26"
             ],
             [
              1,
              "#f0f921"
             ]
            ],
            "type": "heatmap"
           }
          ],
          "heatmapgl": [
           {
            "colorbar": {
             "outlinewidth": 0,
             "ticks": ""
            },
            "colorscale": [
             [
              0,
              "#0d0887"
             ],
             [
              0.1111111111111111,
              "#46039f"
             ],
             [
              0.2222222222222222,
              "#7201a8"
             ],
             [
              0.3333333333333333,
              "#9c179e"
             ],
             [
              0.4444444444444444,
              "#bd3786"
             ],
             [
              0.5555555555555556,
              "#d8576b"
             ],
             [
              0.6666666666666666,
              "#ed7953"
             ],
             [
              0.7777777777777778,
              "#fb9f3a"
             ],
             [
              0.8888888888888888,
              "#fdca26"
             ],
             [
              1,
              "#f0f921"
             ]
            ],
            "type": "heatmapgl"
           }
          ],
          "histogram": [
           {
            "marker": {
             "pattern": {
              "fillmode": "overlay",
              "size": 10,
              "solidity": 0.2
             }
            },
            "type": "histogram"
           }
          ],
          "histogram2d": [
           {
            "colorbar": {
             "outlinewidth": 0,
             "ticks": ""
            },
            "colorscale": [
             [
              0,
              "#0d0887"
             ],
             [
              0.1111111111111111,
              "#46039f"
             ],
             [
              0.2222222222222222,
              "#7201a8"
             ],
             [
              0.3333333333333333,
              "#9c179e"
             ],
             [
              0.4444444444444444,
              "#bd3786"
             ],
             [
              0.5555555555555556,
              "#d8576b"
             ],
             [
              0.6666666666666666,
              "#ed7953"
             ],
             [
              0.7777777777777778,
              "#fb9f3a"
             ],
             [
              0.8888888888888888,
              "#fdca26"
             ],
             [
              1,
              "#f0f921"
             ]
            ],
            "type": "histogram2d"
           }
          ],
          "histogram2dcontour": [
           {
            "colorbar": {
             "outlinewidth": 0,
             "ticks": ""
            },
            "colorscale": [
             [
              0,
              "#0d0887"
             ],
             [
              0.1111111111111111,
              "#46039f"
             ],
             [
              0.2222222222222222,
              "#7201a8"
             ],
             [
              0.3333333333333333,
              "#9c179e"
             ],
             [
              0.4444444444444444,
              "#bd3786"
             ],
             [
              0.5555555555555556,
              "#d8576b"
             ],
             [
              0.6666666666666666,
              "#ed7953"
             ],
             [
              0.7777777777777778,
              "#fb9f3a"
             ],
             [
              0.8888888888888888,
              "#fdca26"
             ],
             [
              1,
              "#f0f921"
             ]
            ],
            "type": "histogram2dcontour"
           }
          ],
          "mesh3d": [
           {
            "colorbar": {
             "outlinewidth": 0,
             "ticks": ""
            },
            "type": "mesh3d"
           }
          ],
          "parcoords": [
           {
            "line": {
             "colorbar": {
              "outlinewidth": 0,
              "ticks": ""
             }
            },
            "type": "parcoords"
           }
          ],
          "pie": [
           {
            "automargin": true,
            "type": "pie"
           }
          ],
          "scatter": [
           {
            "fillpattern": {
             "fillmode": "overlay",
             "size": 10,
             "solidity": 0.2
            },
            "type": "scatter"
           }
          ],
          "scatter3d": [
           {
            "line": {
             "colorbar": {
              "outlinewidth": 0,
              "ticks": ""
             }
            },
            "marker": {
             "colorbar": {
              "outlinewidth": 0,
              "ticks": ""
             }
            },
            "type": "scatter3d"
           }
          ],
          "scattercarpet": [
           {
            "marker": {
             "colorbar": {
              "outlinewidth": 0,
              "ticks": ""
             }
            },
            "type": "scattercarpet"
           }
          ],
          "scattergeo": [
           {
            "marker": {
             "colorbar": {
              "outlinewidth": 0,
              "ticks": ""
             }
            },
            "type": "scattergeo"
           }
          ],
          "scattergl": [
           {
            "marker": {
             "colorbar": {
              "outlinewidth": 0,
              "ticks": ""
             }
            },
            "type": "scattergl"
           }
          ],
          "scattermapbox": [
           {
            "marker": {
             "colorbar": {
              "outlinewidth": 0,
              "ticks": ""
             }
            },
            "type": "scattermapbox"
           }
          ],
          "scatterpolar": [
           {
            "marker": {
             "colorbar": {
              "outlinewidth": 0,
              "ticks": ""
             }
            },
            "type": "scatterpolar"
           }
          ],
          "scatterpolargl": [
           {
            "marker": {
             "colorbar": {
              "outlinewidth": 0,
              "ticks": ""
             }
            },
            "type": "scatterpolargl"
           }
          ],
          "scatterternary": [
           {
            "marker": {
             "colorbar": {
              "outlinewidth": 0,
              "ticks": ""
             }
            },
            "type": "scatterternary"
           }
          ],
          "surface": [
           {
            "colorbar": {
             "outlinewidth": 0,
             "ticks": ""
            },
            "colorscale": [
             [
              0,
              "#0d0887"
             ],
             [
              0.1111111111111111,
              "#46039f"
             ],
             [
              0.2222222222222222,
              "#7201a8"
             ],
             [
              0.3333333333333333,
              "#9c179e"
             ],
             [
              0.4444444444444444,
              "#bd3786"
             ],
             [
              0.5555555555555556,
              "#d8576b"
             ],
             [
              0.6666666666666666,
              "#ed7953"
             ],
             [
              0.7777777777777778,
              "#fb9f3a"
             ],
             [
              0.8888888888888888,
              "#fdca26"
             ],
             [
              1,
              "#f0f921"
             ]
            ],
            "type": "surface"
           }
          ],
          "table": [
           {
            "cells": {
             "fill": {
              "color": "#EBF0F8"
             },
             "line": {
              "color": "white"
             }
            },
            "header": {
             "fill": {
              "color": "#C8D4E3"
             },
             "line": {
              "color": "white"
             }
            },
            "type": "table"
           }
          ]
         },
         "layout": {
          "annotationdefaults": {
           "arrowcolor": "#2a3f5f",
           "arrowhead": 0,
           "arrowwidth": 1
          },
          "autotypenumbers": "strict",
          "coloraxis": {
           "colorbar": {
            "outlinewidth": 0,
            "ticks": ""
           }
          },
          "colorscale": {
           "diverging": [
            [
             0,
             "#8e0152"
            ],
            [
             0.1,
             "#c51b7d"
            ],
            [
             0.2,
             "#de77ae"
            ],
            [
             0.3,
             "#f1b6da"
            ],
            [
             0.4,
             "#fde0ef"
            ],
            [
             0.5,
             "#f7f7f7"
            ],
            [
             0.6,
             "#e6f5d0"
            ],
            [
             0.7,
             "#b8e186"
            ],
            [
             0.8,
             "#7fbc41"
            ],
            [
             0.9,
             "#4d9221"
            ],
            [
             1,
             "#276419"
            ]
           ],
           "sequential": [
            [
             0,
             "#0d0887"
            ],
            [
             0.1111111111111111,
             "#46039f"
            ],
            [
             0.2222222222222222,
             "#7201a8"
            ],
            [
             0.3333333333333333,
             "#9c179e"
            ],
            [
             0.4444444444444444,
             "#bd3786"
            ],
            [
             0.5555555555555556,
             "#d8576b"
            ],
            [
             0.6666666666666666,
             "#ed7953"
            ],
            [
             0.7777777777777778,
             "#fb9f3a"
            ],
            [
             0.8888888888888888,
             "#fdca26"
            ],
            [
             1,
             "#f0f921"
            ]
           ],
           "sequentialminus": [
            [
             0,
             "#0d0887"
            ],
            [
             0.1111111111111111,
             "#46039f"
            ],
            [
             0.2222222222222222,
             "#7201a8"
            ],
            [
             0.3333333333333333,
             "#9c179e"
            ],
            [
             0.4444444444444444,
             "#bd3786"
            ],
            [
             0.5555555555555556,
             "#d8576b"
            ],
            [
             0.6666666666666666,
             "#ed7953"
            ],
            [
             0.7777777777777778,
             "#fb9f3a"
            ],
            [
             0.8888888888888888,
             "#fdca26"
            ],
            [
             1,
             "#f0f921"
            ]
           ]
          },
          "colorway": [
           "#636efa",
           "#EF553B",
           "#00cc96",
           "#ab63fa",
           "#FFA15A",
           "#19d3f3",
           "#FF6692",
           "#B6E880",
           "#FF97FF",
           "#FECB52"
          ],
          "font": {
           "color": "#2a3f5f"
          },
          "geo": {
           "bgcolor": "white",
           "lakecolor": "white",
           "landcolor": "#E5ECF6",
           "showlakes": true,
           "showland": true,
           "subunitcolor": "white"
          },
          "hoverlabel": {
           "align": "left"
          },
          "hovermode": "closest",
          "mapbox": {
           "style": "light"
          },
          "paper_bgcolor": "white",
          "plot_bgcolor": "#E5ECF6",
          "polar": {
           "angularaxis": {
            "gridcolor": "white",
            "linecolor": "white",
            "ticks": ""
           },
           "bgcolor": "#E5ECF6",
           "radialaxis": {
            "gridcolor": "white",
            "linecolor": "white",
            "ticks": ""
           }
          },
          "scene": {
           "xaxis": {
            "backgroundcolor": "#E5ECF6",
            "gridcolor": "white",
            "gridwidth": 2,
            "linecolor": "white",
            "showbackground": true,
            "ticks": "",
            "zerolinecolor": "white"
           },
           "yaxis": {
            "backgroundcolor": "#E5ECF6",
            "gridcolor": "white",
            "gridwidth": 2,
            "linecolor": "white",
            "showbackground": true,
            "ticks": "",
            "zerolinecolor": "white"
           },
           "zaxis": {
            "backgroundcolor": "#E5ECF6",
            "gridcolor": "white",
            "gridwidth": 2,
            "linecolor": "white",
            "showbackground": true,
            "ticks": "",
            "zerolinecolor": "white"
           }
          },
          "shapedefaults": {
           "line": {
            "color": "#2a3f5f"
           }
          },
          "ternary": {
           "aaxis": {
            "gridcolor": "white",
            "linecolor": "white",
            "ticks": ""
           },
           "baxis": {
            "gridcolor": "white",
            "linecolor": "white",
            "ticks": ""
           },
           "bgcolor": "#E5ECF6",
           "caxis": {
            "gridcolor": "white",
            "linecolor": "white",
            "ticks": ""
           }
          },
          "title": {
           "x": 0.05
          },
          "xaxis": {
           "automargin": true,
           "gridcolor": "white",
           "linecolor": "white",
           "ticks": "",
           "title": {
            "standoff": 15
           },
           "zerolinecolor": "white",
           "zerolinewidth": 2
          },
          "yaxis": {
           "automargin": true,
           "gridcolor": "white",
           "linecolor": "white",
           "ticks": "",
           "title": {
            "standoff": 15
           },
           "zerolinecolor": "white",
           "zerolinewidth": 2
          }
         }
        },
        "width": 900,
        "xaxis": {
         "anchor": "y",
         "domain": [
          0,
          0.98
         ],
         "dtick": 1,
         "range": [
          1983,
          2017
         ],
         "title": {
          "text": ""
         }
        },
        "xaxis2": {
         "anchor": "y2",
         "domain": [
          0,
          0.98
         ],
         "dtick": 1,
         "matches": "x",
         "showticklabels": false
        },
        "xaxis3": {
         "anchor": "y3",
         "domain": [
          0,
          0.98
         ],
         "dtick": 1,
         "matches": "x",
         "showticklabels": false
        },
        "yaxis": {
         "anchor": "x",
         "domain": [
          0,
          0.32666666666666666
         ],
         "title": {
          "text": "Yield (mt/ha)"
         }
        },
        "yaxis2": {
         "anchor": "x2",
         "domain": [
          0.33666666666666667,
          0.6633333333333333
         ],
         "title": {
          "text": "Area (ha)"
         }
        },
        "yaxis3": {
         "anchor": "x3",
         "domain": [
          0.6733333333333333,
          1
         ],
         "title": {
          "text": "Production (mt)"
         }
        }
       }
      }
     },
     "metadata": {},
     "output_type": "display_data"
    }
   ],
   "source": [
    "# Lineplot of Production-Area-Yield time-series\n",
    "country_iso, country_name = 'TD', 'Chad'\n",
    "df = pd.read_csv('../data/crop/adm_crop_production_%s.csv' % country_iso, index_col=0)\n",
    "df['year'] = df['harvest_year']\n",
    "year = [df['year'].min(), df['year'].max()]\n",
    "product_season = [\n",
    "    ['Sorghum','Main'],\n",
    "    ['Millet','Main'],\n",
    "    ['Maize','Main'],\n",
    "    ['Sorghum','Cold-off'],\n",
    "]\n",
    "for product_name, season_name in product_season:\n",
    "    footnote = 'Production-Area-Yield (PAY) time-series of %s - %s - %s' % (country_iso, product_name, season_name)\n",
    "    fn_save = '../figures/%s_line_pay_%s_%s.png' % (country_iso, product_name, season_name)\n",
    "    sub = df[(df['product'] == product_name) & (df['season_name'] == season_name)]\n",
    "    fig = PlotLinePAY(sub, year, footnote, fn_save)\n",
    "    fig.show()"
   ]
  }
 ],
 "metadata": {
  "kernelspec": {
   "display_name": "Python 3 (ipykernel)",
   "language": "python",
   "name": "python3"
  },
  "language_info": {
   "codemirror_mode": {
    "name": "ipython",
    "version": 3
   },
   "file_extension": ".py",
   "mimetype": "text/x-python",
   "name": "python",
   "nbconvert_exporter": "python",
   "pygments_lexer": "ipython3",
   "version": "3.10.10"
  }
 },
 "nbformat": 4,
 "nbformat_minor": 5
}
