{
 "cells": [
  {
   "cell_type": "markdown",
   "id": "5a54535d-4fd0-4290-a987-d6baff7aa821",
   "metadata": {},
   "source": [
    "# HarvestStat Data Profiling - Zimbabwe"
   ]
  },
  {
   "cell_type": "code",
   "execution_count": 1,
   "id": "423b4763-5783-4282-ba84-d8ae8ba04fb5",
   "metadata": {},
   "outputs": [],
   "source": [
    "import glob, json\n",
    "import warnings\n",
    "warnings.simplefilter(action='ignore', category=FutureWarning)\n",
    "import requests\n",
    "import numpy as np\n",
    "import pandas as pd\n",
    "import geopandas as gpd\n",
    "from tools import save_npz, PrintAdminUnits, PlotAdminShapes\n",
    "from tools import FDW_PD_Sweeper, FDW_PD_AvalTable, FDW_PD_Compiling, FDW_PD_ValidateFnidName\n",
    "from tools import FDW_PD_CreateAdminLink, FDW_PD_RatioAdminLink, FDW_PD_ConnectAdminLink\n",
    "from tools import FDW_PD_CaliSeasonYear\n",
    "from tools_graphic import PlotBarProduction, PlotLinePAY\n",
    "warnings.simplefilter(action='ignore', category=pd.errors.PerformanceWarning)\n",
    "pd.options.mode.chained_assignment = None"
   ]
  },
  {
   "cell_type": "code",
   "execution_count": 2,
   "id": "5f52d24c",
   "metadata": {},
   "outputs": [
    {
     "name": "stdout",
     "output_type": "stream",
     "text": [
      "- FEWS NET admin shapefiles ------------------- #\n",
      "| year\t | Admin1   | # units   | Admin2   | # units   | Admin3   | # units   |\n",
      "| 1981\t | ZW1981A1 | 8\t| ZW1981A2\t| 58\t| nan\t| 0\t|\n",
      "| 2007\t | ZW2007A1 | 10\t| ZW2007A2\t| 84\t| nan\t| 0\t|\n",
      "| 2008\t | ZW2008A1 | 10\t| ZW2008A2\t| 84\t| nan\t| 0\t|\n",
      "| 2009\t | ZW2009A1 | 10\t| ZW2009A2\t| 85\t| nan\t| 0\t|\n",
      "| 2011\t | ZW2011A1 | 10\t| ZW2011A2\t| 89\t| nan\t| 0\t|\n",
      "----------------------------------------------- #\n",
      "(0, 0)\n"
     ]
    }
   ],
   "source": [
    "# Load FEWS NET administrative boundaries ------- #\n",
    "epsg = 'epsg:32736' # Zimbabwe\n",
    "fn_shapes = sorted(glob.glob('../data/shapefile/fewsnet/ZW_Admin?_????.shp'))\n",
    "shape_all = []\n",
    "for fn in fn_shapes:\n",
    "    name = fn[-18:-4]\n",
    "    exec('%s = gpd.read_file(\"%s\").to_crs(\"%s\")' % (name, fn, epsg))\n",
    "    exec('%s[\"area\"] = %s[\"geometry\"].area/10**6' % (name, name))\n",
    "    exec('shape_all.append(%s)' % (name))\n",
    "shape_all = pd.concat(shape_all, axis=0).reset_index(drop=True)\n",
    "PrintAdminUnits(shape_all)\n",
    "# ----------------------------------------------- #\n",
    "\n",
    "# FDW API host address -------------------------- #\n",
    "host = 'https://fdw.fews.net'\n",
    "auth = tuple(json.loads(open('token.json', \"r\").read()))\n",
    "parameters = {\n",
    "    'format': 'json',\n",
    "    'country': 'Zimbabwe',\n",
    "    'product': ['R011','R012','R013','R014','R015','R017','R018'],\n",
    "}\n",
    "endpoint = '/api/cropproductionindicatorvalue/'\n",
    "response = requests.get(host + endpoint, auth=auth, params=parameters, proxies={})\n",
    "response.raise_for_status()\n",
    "df = pd.DataFrame.from_records(response.json())\n",
    "# ----------------------------------------------- #\n",
    "print(df.shape)"
   ]
  },
  {
   "cell_type": "code",
   "execution_count": 3,
   "id": "8b644325",
   "metadata": {},
   "outputs": [
    {
     "name": "stdout",
     "output_type": "stream",
     "text": [
      "../figures/ZW_admin_shapes.png is saved.\n"
     ]
    }
   ],
   "source": [
    "# FEWS NET Shapefile comparison ----------------- #\n",
    "shape_used = pd.concat([ZW_Admin1_2011], axis=0)\n",
    "PlotAdminShapes(shape_used, label=True)\n",
    "# ----------------------------------------------- #\n",
    "# Define the latest shapefile ------------------- #\n",
    "latest_level = 1\n",
    "shape_latest = ZW_Admin1_2011.copy().to_crs('epsg:4326')\n",
    "# ----------------------------------------------- #"
   ]
  },
  {
   "cell_type": "markdown",
   "id": "c306101b-6d9e-45d3-af48-3cecb4033e29",
   "metadata": {},
   "source": [
    "- Zimbabwe crop seasonal calendar\n",
    "\n",
    "![FEWS NET](../figures/crop_calendar/seasonal-calendar-zimbabwe.png)\n",
    "<img src=\"../figures/crop_calendar/Zimbabwe_-_Crop_calendar.jpg\"  width=\"60%\">\n",
    "\n",
    "- FDW data consists of `ZW2011A2`.\n",
    "\n",
    "| Year  | Admin-1  | # units  | Admin-2  | # units |\n",
    "| :---: | :----:   | :----:   | :----:   | :---:   |\n",
    "| 1981\t | ZW1981A1 | 8\t| ZW1981A2\t| 58\t|\n",
    "| 2007\t | ZW2007A1 | 10\t| ZW2007A2\t| 84\t|\n",
    "| 2008\t | ZW2008A1 | 10\t| ZW2008A2\t| 84\t|\n",
    "| 2009\t | ZW2009A1 | 10\t| ZW2009A2\t| 85\t|\n",
    "| 2011\t | ZW2011A1 | 10\t| **`ZW2011A2`**\t| 89\t|\n",
    "\n",
    "- Comparison between admin boundaries.\n",
    "\n",
    "<img src=\"../figures/ZW_admin_shapes.png\"  width=\"60%\">"
   ]
  },
  {
   "cell_type": "code",
   "execution_count": 4,
   "id": "9da75e41-e996-4d06-99b2-dcba8bce63e2",
   "metadata": {},
   "outputs": [
    {
     "name": "stdout",
     "output_type": "stream",
     "text": [
      "All [season_name, product, crop_production_system] are in the external crop calendar.\n",
      "../data/crop/adm_crop_production_ZW.csv is saved.\n"
     ]
    }
   ],
   "source": [
    "# Load data from the admin-1 level auxiliary data\n",
    "df = pd.read_excel('../data/auxiliary/zimbabwe/GSCD_Zimbabwe_Maize_Production.xlsx', sheet_name='Sheet1', header=[0,1], index_col=0).T\n",
    "area, prod = df.loc['Area'], df.loc['Production']\n",
    "assert all(area.isna() == prod.isna())\n",
    "crop = prod / area\n",
    "area = area.stack().reset_index()\n",
    "area.columns = ['year', 'province', 'value']\n",
    "area['indicator'] = 'area'\n",
    "prod = prod.stack().reset_index()\n",
    "prod.columns = ['year', 'province', 'value']\n",
    "prod['indicator'] = 'production'\n",
    "crop = crop.stack().reset_index()\n",
    "crop.columns = ['year', 'province', 'value']\n",
    "crop['indicator'] = 'yield'\n",
    "df = pd.concat([area, prod, crop], axis=0)\n",
    "# Exclude total\n",
    "df = df[df['province'] != 'Total']\n",
    "# Modify years\n",
    "df['harvest_year'] = df['year'].apply(lambda x: int(x.split('-')[1]))\n",
    "df['harvest_month'] = 0\n",
    "df['planting_year'] = df['harvest_year']\n",
    "df['planting_month'] = 0\n",
    "# FNID and country names\n",
    "fnid_dict = {\n",
    "    'Mashonaland West': 'ZW2011A114', \n",
    "    'Mashonaland Central' : 'ZW2011A112', \n",
    "    'Mashonaland East': 'ZW2011A113',\n",
    "    'Manicaland' : 'ZW2011A111', \n",
    "    'Midlands' : 'ZW2011A117', \n",
    "    'Masvingo' : 'ZW2011A118', \n",
    "    'Matabeleland North' : 'ZW2011A115',\n",
    "    'Matabeleland South' : 'ZW2011A116'\n",
    "}\n",
    "df['fnid'] = df['province'].apply(lambda x: fnid_dict[x])\n",
    "df['country'] = 'Zimbabwe'\n",
    "df['country_code'] = 'ZW'\n",
    "df = df.rename(columns = {'province': 'admin_1'})\n",
    "df['admin_2'] = np.nan\n",
    "df['name'] = df['admin_1']\n",
    "# Other variables\n",
    "df['product'] = 'Maize'\n",
    "df['season_name'] = 'Main'\n",
    "df['crop_production_system'] = 'none'\n",
    "df['gscd_code'] = 'calibrated'\n",
    "# Organize columns\n",
    "names = [\n",
    "    'fnid','country','country_code','admin_1','admin_2','name',\n",
    "    'product','season_name','planting_year','planting_month','harvest_year','harvest_month',\n",
    "    'crop_production_system','indicator','value'\n",
    "]\n",
    "stack = df[names]\n",
    "# Final Processing ------------------------------ #\n",
    "# Manual change of product name\n",
    "product_category_custom = {'Maize':'Maize'}\n",
    "# Calibration of crop calendar using External Crop Calendar (ECC)\n",
    "ecc = pd.read_csv('../data/crop_calendar/external_crop_calendar.csv')\n",
    "ecc = ecc[ecc['country'] == 'Zimbabwe']\n",
    "stack, link_ratio = FDW_PD_CaliSeasonYear(stack, ecc, link_ratio=None)\n",
    "# None admin names\n",
    "stack.loc[stack['admin_1'].isna(), 'admin_1'] = 'none'\n",
    "stack.loc[stack['admin_2'].isna(), 'admin_2'] = 'none'\n",
    "# ----------------------------------------------- #\n",
    "\n",
    "# Save data\n",
    "fn_out = '../data/crop/adm_crop_production_ZW.csv'\n",
    "stack.to_csv(fn_out); print(f'{fn_out} is saved.')"
   ]
  },
  {
   "cell_type": "markdown",
   "id": "857a5d56",
   "metadata": {},
   "source": [
    "# Visualization of production data"
   ]
  },
  {
   "cell_type": "code",
   "execution_count": 5,
   "id": "2fc649e6",
   "metadata": {},
   "outputs": [
    {
     "name": "stdout",
     "output_type": "stream",
     "text": [
      "../figures/ZW_bar_natgrainprod_Main.png is saved.\n"
     ]
    },
    {
     "data": {
      "application/vnd.plotly.v1+json": {
       "config": {
        "plotlyServerURL": "https://plot.ly"
       },
       "data": [
        {
         "alignmentgroup": "True",
         "hovertemplate": "product=Maize<br>season_name=Main<br>type=orig_unit<br>year=%{x}<br>value=%{y}<extra></extra>",
         "legendgroup": "Maize",
         "marker": {
          "color": "#636efa",
          "pattern": {
           "shape": ""
          }
         },
         "name": "Maize",
         "offsetgroup": "Maize",
         "orientation": "v",
         "showlegend": true,
         "textposition": "auto",
         "type": "bar",
         "x": [
          2001,
          2003,
          2004,
          2006,
          2007,
          2008,
          2009,
          2010,
          2011,
          2012,
          2013,
          2014,
          2015,
          2016,
          2017,
          2018,
          2019,
          2020,
          2021,
          2022
         ],
         "xaxis": "x2",
         "y": [
          1466748,
          798644,
          708075,
          1485000,
          799000,
          471152,
          1242565,
          1327572,
          1451629,
          968041,
          772762,
          1437508,
          742226,
          511816,
          2155526,
          1700702,
          776635,
          907629,
          2717171,
          1557933
         ],
         "yaxis": "y2"
        },
        {
         "alignmentgroup": "True",
         "hovertemplate": "product=Maize<br>season_name=Main<br>type=percent<br>year=%{x}<br>value=%{y}<extra></extra>",
         "legendgroup": "Maize",
         "marker": {
          "color": "#636efa",
          "pattern": {
           "shape": ""
          }
         },
         "name": "Maize",
         "offsetgroup": "Maize",
         "orientation": "v",
         "showlegend": false,
         "textposition": "auto",
         "type": "bar",
         "x": [
          2001,
          2003,
          2004,
          2006,
          2007,
          2008,
          2009,
          2010,
          2011,
          2012,
          2013,
          2014,
          2015,
          2016,
          2017,
          2018,
          2019,
          2020,
          2021,
          2022
         ],
         "xaxis": "x",
         "y": [
          100,
          100,
          100,
          100,
          100,
          100,
          100,
          100,
          100,
          100,
          100,
          100,
          100,
          100,
          100,
          100,
          100,
          100,
          100,
          100
         ],
         "yaxis": "y"
        }
       ],
       "layout": {
        "annotations": [
         {
          "showarrow": false,
          "text": "",
          "textangle": 90,
          "x": 0.98,
          "xanchor": "left",
          "xref": "paper",
          "y": 0.2375,
          "yanchor": "middle",
          "yref": "paper"
         },
         {
          "showarrow": false,
          "text": "",
          "textangle": 90,
          "x": 0.98,
          "xanchor": "left",
          "xref": "paper",
          "y": 0.7625,
          "yanchor": "middle",
          "yref": "paper"
         },
         {
          "align": "left",
          "font": {
           "color": "dimgrey",
           "family": "arial",
           "size": 15
          },
          "showarrow": false,
          "text": "National crop production in Zimbabwe - Main",
          "x": 0,
          "xref": "paper",
          "y": -0.13,
          "yref": "paper"
         }
        ],
        "barmode": "relative",
        "font": {
         "color": "black",
         "family": "arial",
         "size": 15
        },
        "height": 600,
        "legend": {
         "title": {
          "text": "Product"
         },
         "tracegroupgap": 0,
         "x": 1,
         "y": 1.01
        },
        "margin": {
         "b": 0,
         "l": 0,
         "r": 0,
         "t": 0
        },
        "template": {
         "data": {
          "bar": [
           {
            "error_x": {
             "color": "#2a3f5f"
            },
            "error_y": {
             "color": "#2a3f5f"
            },
            "marker": {
             "line": {
              "color": "#E5ECF6",
              "width": 0.5
             },
             "pattern": {
              "fillmode": "overlay",
              "size": 10,
              "solidity": 0.2
             }
            },
            "type": "bar"
           }
          ],
          "barpolar": [
           {
            "marker": {
             "line": {
              "color": "#E5ECF6",
              "width": 0.5
             },
             "pattern": {
              "fillmode": "overlay",
              "size": 10,
              "solidity": 0.2
             }
            },
            "type": "barpolar"
           }
          ],
          "carpet": [
           {
            "aaxis": {
             "endlinecolor": "#2a3f5f",
             "gridcolor": "white",
             "linecolor": "white",
             "minorgridcolor": "white",
             "startlinecolor": "#2a3f5f"
            },
            "baxis": {
             "endlinecolor": "#2a3f5f",
             "gridcolor": "white",
             "linecolor": "white",
             "minorgridcolor": "white",
             "startlinecolor": "#2a3f5f"
            },
            "type": "carpet"
           }
          ],
          "choropleth": [
           {
            "colorbar": {
             "outlinewidth": 0,
             "ticks": ""
            },
            "type": "choropleth"
           }
          ],
          "contour": [
           {
            "colorbar": {
             "outlinewidth": 0,
             "ticks": ""
            },
            "colorscale": [
             [
              0,
              "#0d0887"
             ],
             [
              0.1111111111111111,
              "#46039f"
             ],
             [
              0.2222222222222222,
              "#7201a8"
             ],
             [
              0.3333333333333333,
              "#9c179e"
             ],
             [
              0.4444444444444444,
              "#bd3786"
             ],
             [
              0.5555555555555556,
              "#d8576b"
             ],
             [
              0.6666666666666666,
              "#ed7953"
             ],
             [
              0.7777777777777778,
              "#fb9f3a"
             ],
             [
              0.8888888888888888,
              "#fdca26"
             ],
             [
              1,
              "#f0f921"
             ]
            ],
            "type": "contour"
           }
          ],
          "contourcarpet": [
           {
            "colorbar": {
             "outlinewidth": 0,
             "ticks": ""
            },
            "type": "contourcarpet"
           }
          ],
          "heatmap": [
           {
            "colorbar": {
             "outlinewidth": 0,
             "ticks": ""
            },
            "colorscale": [
             [
              0,
              "#0d0887"
             ],
             [
              0.1111111111111111,
              "#46039f"
             ],
             [
              0.2222222222222222,
              "#7201a8"
             ],
             [
              0.3333333333333333,
              "#9c179e"
             ],
             [
              0.4444444444444444,
              "#bd3786"
             ],
             [
              0.5555555555555556,
              "#d8576b"
             ],
             [
              0.6666666666666666,
              "#ed7953"
             ],
             [
              0.7777777777777778,
              "#fb9f3a"
             ],
             [
              0.8888888888888888,
              "#fdca26"
             ],
             [
              1,
              "#f0f921"
             ]
            ],
            "type": "heatmap"
           }
          ],
          "heatmapgl": [
           {
            "colorbar": {
             "outlinewidth": 0,
             "ticks": ""
            },
            "colorscale": [
             [
              0,
              "#0d0887"
             ],
             [
              0.1111111111111111,
              "#46039f"
             ],
             [
              0.2222222222222222,
              "#7201a8"
             ],
             [
              0.3333333333333333,
              "#9c179e"
             ],
             [
              0.4444444444444444,
              "#bd3786"
             ],
             [
              0.5555555555555556,
              "#d8576b"
             ],
             [
              0.6666666666666666,
              "#ed7953"
             ],
             [
              0.7777777777777778,
              "#fb9f3a"
             ],
             [
              0.8888888888888888,
              "#fdca26"
             ],
             [
              1,
              "#f0f921"
             ]
            ],
            "type": "heatmapgl"
           }
          ],
          "histogram": [
           {
            "marker": {
             "pattern": {
              "fillmode": "overlay",
              "size": 10,
              "solidity": 0.2
             }
            },
            "type": "histogram"
           }
          ],
          "histogram2d": [
           {
            "colorbar": {
             "outlinewidth": 0,
             "ticks": ""
            },
            "colorscale": [
             [
              0,
              "#0d0887"
             ],
             [
              0.1111111111111111,
              "#46039f"
             ],
             [
              0.2222222222222222,
              "#7201a8"
             ],
             [
              0.3333333333333333,
              "#9c179e"
             ],
             [
              0.4444444444444444,
              "#bd3786"
             ],
             [
              0.5555555555555556,
              "#d8576b"
             ],
             [
              0.6666666666666666,
              "#ed7953"
             ],
             [
              0.7777777777777778,
              "#fb9f3a"
             ],
             [
              0.8888888888888888,
              "#fdca26"
             ],
             [
              1,
              "#f0f921"
             ]
            ],
            "type": "histogram2d"
           }
          ],
          "histogram2dcontour": [
           {
            "colorbar": {
             "outlinewidth": 0,
             "ticks": ""
            },
            "colorscale": [
             [
              0,
              "#0d0887"
             ],
             [
              0.1111111111111111,
              "#46039f"
             ],
             [
              0.2222222222222222,
              "#7201a8"
             ],
             [
              0.3333333333333333,
              "#9c179e"
             ],
             [
              0.4444444444444444,
              "#bd3786"
             ],
             [
              0.5555555555555556,
              "#d8576b"
             ],
             [
              0.6666666666666666,
              "#ed7953"
             ],
             [
              0.7777777777777778,
              "#fb9f3a"
             ],
             [
              0.8888888888888888,
              "#fdca26"
             ],
             [
              1,
              "#f0f921"
             ]
            ],
            "type": "histogram2dcontour"
           }
          ],
          "mesh3d": [
           {
            "colorbar": {
             "outlinewidth": 0,
             "ticks": ""
            },
            "type": "mesh3d"
           }
          ],
          "parcoords": [
           {
            "line": {
             "colorbar": {
              "outlinewidth": 0,
              "ticks": ""
             }
            },
            "type": "parcoords"
           }
          ],
          "pie": [
           {
            "automargin": true,
            "type": "pie"
           }
          ],
          "scatter": [
           {
            "fillpattern": {
             "fillmode": "overlay",
             "size": 10,
             "solidity": 0.2
            },
            "type": "scatter"
           }
          ],
          "scatter3d": [
           {
            "line": {
             "colorbar": {
              "outlinewidth": 0,
              "ticks": ""
             }
            },
            "marker": {
             "colorbar": {
              "outlinewidth": 0,
              "ticks": ""
             }
            },
            "type": "scatter3d"
           }
          ],
          "scattercarpet": [
           {
            "marker": {
             "colorbar": {
              "outlinewidth": 0,
              "ticks": ""
             }
            },
            "type": "scattercarpet"
           }
          ],
          "scattergeo": [
           {
            "marker": {
             "colorbar": {
              "outlinewidth": 0,
              "ticks": ""
             }
            },
            "type": "scattergeo"
           }
          ],
          "scattergl": [
           {
            "marker": {
             "colorbar": {
              "outlinewidth": 0,
              "ticks": ""
             }
            },
            "type": "scattergl"
           }
          ],
          "scattermapbox": [
           {
            "marker": {
             "colorbar": {
              "outlinewidth": 0,
              "ticks": ""
             }
            },
            "type": "scattermapbox"
           }
          ],
          "scatterpolar": [
           {
            "marker": {
             "colorbar": {
              "outlinewidth": 0,
              "ticks": ""
             }
            },
            "type": "scatterpolar"
           }
          ],
          "scatterpolargl": [
           {
            "marker": {
             "colorbar": {
              "outlinewidth": 0,
              "ticks": ""
             }
            },
            "type": "scatterpolargl"
           }
          ],
          "scatterternary": [
           {
            "marker": {
             "colorbar": {
              "outlinewidth": 0,
              "ticks": ""
             }
            },
            "type": "scatterternary"
           }
          ],
          "surface": [
           {
            "colorbar": {
             "outlinewidth": 0,
             "ticks": ""
            },
            "colorscale": [
             [
              0,
              "#0d0887"
             ],
             [
              0.1111111111111111,
              "#46039f"
             ],
             [
              0.2222222222222222,
              "#7201a8"
             ],
             [
              0.3333333333333333,
              "#9c179e"
             ],
             [
              0.4444444444444444,
              "#bd3786"
             ],
             [
              0.5555555555555556,
              "#d8576b"
             ],
             [
              0.6666666666666666,
              "#ed7953"
             ],
             [
              0.7777777777777778,
              "#fb9f3a"
             ],
             [
              0.8888888888888888,
              "#fdca26"
             ],
             [
              1,
              "#f0f921"
             ]
            ],
            "type": "surface"
           }
          ],
          "table": [
           {
            "cells": {
             "fill": {
              "color": "#EBF0F8"
             },
             "line": {
              "color": "white"
             }
            },
            "header": {
             "fill": {
              "color": "#C8D4E3"
             },
             "line": {
              "color": "white"
             }
            },
            "type": "table"
           }
          ]
         },
         "layout": {
          "annotationdefaults": {
           "arrowcolor": "#2a3f5f",
           "arrowhead": 0,
           "arrowwidth": 1
          },
          "autotypenumbers": "strict",
          "coloraxis": {
           "colorbar": {
            "outlinewidth": 0,
            "ticks": ""
           }
          },
          "colorscale": {
           "diverging": [
            [
             0,
             "#8e0152"
            ],
            [
             0.1,
             "#c51b7d"
            ],
            [
             0.2,
             "#de77ae"
            ],
            [
             0.3,
             "#f1b6da"
            ],
            [
             0.4,
             "#fde0ef"
            ],
            [
             0.5,
             "#f7f7f7"
            ],
            [
             0.6,
             "#e6f5d0"
            ],
            [
             0.7,
             "#b8e186"
            ],
            [
             0.8,
             "#7fbc41"
            ],
            [
             0.9,
             "#4d9221"
            ],
            [
             1,
             "#276419"
            ]
           ],
           "sequential": [
            [
             0,
             "#0d0887"
            ],
            [
             0.1111111111111111,
             "#46039f"
            ],
            [
             0.2222222222222222,
             "#7201a8"
            ],
            [
             0.3333333333333333,
             "#9c179e"
            ],
            [
             0.4444444444444444,
             "#bd3786"
            ],
            [
             0.5555555555555556,
             "#d8576b"
            ],
            [
             0.6666666666666666,
             "#ed7953"
            ],
            [
             0.7777777777777778,
             "#fb9f3a"
            ],
            [
             0.8888888888888888,
             "#fdca26"
            ],
            [
             1,
             "#f0f921"
            ]
           ],
           "sequentialminus": [
            [
             0,
             "#0d0887"
            ],
            [
             0.1111111111111111,
             "#46039f"
            ],
            [
             0.2222222222222222,
             "#7201a8"
            ],
            [
             0.3333333333333333,
             "#9c179e"
            ],
            [
             0.4444444444444444,
             "#bd3786"
            ],
            [
             0.5555555555555556,
             "#d8576b"
            ],
            [
             0.6666666666666666,
             "#ed7953"
            ],
            [
             0.7777777777777778,
             "#fb9f3a"
            ],
            [
             0.8888888888888888,
             "#fdca26"
            ],
            [
             1,
             "#f0f921"
            ]
           ]
          },
          "colorway": [
           "#636efa",
           "#EF553B",
           "#00cc96",
           "#ab63fa",
           "#FFA15A",
           "#19d3f3",
           "#FF6692",
           "#B6E880",
           "#FF97FF",
           "#FECB52"
          ],
          "font": {
           "color": "#2a3f5f"
          },
          "geo": {
           "bgcolor": "white",
           "lakecolor": "white",
           "landcolor": "#E5ECF6",
           "showlakes": true,
           "showland": true,
           "subunitcolor": "white"
          },
          "hoverlabel": {
           "align": "left"
          },
          "hovermode": "closest",
          "mapbox": {
           "style": "light"
          },
          "paper_bgcolor": "white",
          "plot_bgcolor": "#E5ECF6",
          "polar": {
           "angularaxis": {
            "gridcolor": "white",
            "linecolor": "white",
            "ticks": ""
           },
           "bgcolor": "#E5ECF6",
           "radialaxis": {
            "gridcolor": "white",
            "linecolor": "white",
            "ticks": ""
           }
          },
          "scene": {
           "xaxis": {
            "backgroundcolor": "#E5ECF6",
            "gridcolor": "white",
            "gridwidth": 2,
            "linecolor": "white",
            "showbackground": true,
            "ticks": "",
            "zerolinecolor": "white"
           },
           "yaxis": {
            "backgroundcolor": "#E5ECF6",
            "gridcolor": "white",
            "gridwidth": 2,
            "linecolor": "white",
            "showbackground": true,
            "ticks": "",
            "zerolinecolor": "white"
           },
           "zaxis": {
            "backgroundcolor": "#E5ECF6",
            "gridcolor": "white",
            "gridwidth": 2,
            "linecolor": "white",
            "showbackground": true,
            "ticks": "",
            "zerolinecolor": "white"
           }
          },
          "shapedefaults": {
           "line": {
            "color": "#2a3f5f"
           }
          },
          "ternary": {
           "aaxis": {
            "gridcolor": "white",
            "linecolor": "white",
            "ticks": ""
           },
           "baxis": {
            "gridcolor": "white",
            "linecolor": "white",
            "ticks": ""
           },
           "bgcolor": "#E5ECF6",
           "caxis": {
            "gridcolor": "white",
            "linecolor": "white",
            "ticks": ""
           }
          },
          "title": {
           "x": 0.05
          },
          "xaxis": {
           "automargin": true,
           "gridcolor": "white",
           "linecolor": "white",
           "ticks": "",
           "title": {
            "standoff": 15
           },
           "zerolinecolor": "white",
           "zerolinewidth": 2
          },
          "yaxis": {
           "automargin": true,
           "gridcolor": "white",
           "linecolor": "white",
           "ticks": "",
           "title": {
            "standoff": 15
           },
           "zerolinecolor": "white",
           "zerolinewidth": 2
          }
         }
        },
        "width": 900,
        "xaxis": {
         "anchor": "y",
         "domain": [
          0,
          0.98
         ],
         "dtick": 1,
         "range": [
          2000.5,
          2022.5
         ],
         "title": {
          "text": ""
         }
        },
        "xaxis2": {
         "anchor": "y2",
         "domain": [
          0,
          0.98
         ],
         "matches": "x",
         "showticklabels": false
        },
        "yaxis": {
         "anchor": "x",
         "domain": [
          0,
          0.475
         ],
         "range": [
          0,
          100
         ],
         "title": {
          "text": "Production (%)"
         }
        },
        "yaxis2": {
         "anchor": "x2",
         "domain": [
          0.525,
          1
         ],
         "title": {
          "text": "Production (t)"
         }
        }
       }
      }
     },
     "metadata": {},
     "output_type": "display_data"
    }
   ],
   "source": [
    "# Bar chart of national crop production\n",
    "country_iso, country_name = 'ZW', 'Zimbabwe'\n",
    "df = pd.read_csv('../data/crop/adm_crop_production_%s.csv' % country_iso, index_col=0)\n",
    "df['year'] = df['harvest_year']\n",
    "year = [df['year'].min(), df['year'].max()]\n",
    "product_order = ['Maize']\n",
    "for season_name in ['Main']:\n",
    "    footnote = 'National crop production in %s - %s' % (country_name, season_name)\n",
    "    fn_save = '../figures/%s_bar_natgrainprod_%s.png' % (country_iso, season_name)\n",
    "    sub = df[df['season_name'] == season_name]\n",
    "    fig = PlotBarProduction(sub, year, product_order, footnote, fn_save)\n",
    "    fig.show()"
   ]
  },
  {
   "cell_type": "code",
   "execution_count": 6,
   "id": "76c3a8b9",
   "metadata": {},
   "outputs": [
    {
     "name": "stdout",
     "output_type": "stream",
     "text": [
      "../figures/ZW_line_pay_Maize_Main.png is saved.\n"
     ]
    },
    {
     "data": {
      "application/vnd.plotly.v1+json": {
       "config": {
        "plotlyServerURL": "https://plot.ly"
       },
       "data": [
        {
         "connectgaps": false,
         "hovertemplate": "fnid=ZW2011A111<br>indicator=production<br>year=%{x}<br>value=%{y}<extra></extra>",
         "legendgroup": "ZW2011A111",
         "line": {
          "color": "#636efa",
          "dash": "solid"
         },
         "marker": {
          "symbol": "circle"
         },
         "mode": "lines+markers",
         "name": "ZW2011A111",
         "orientation": "v",
         "showlegend": true,
         "type": "scatter",
         "x": [
          2001,
          2002,
          2003,
          2004,
          2005,
          2006,
          2007,
          2008,
          2009,
          2010,
          2011,
          2012,
          2013,
          2014,
          2015,
          2016,
          2017,
          2018,
          2019,
          2020,
          2021,
          2022
         ],
         "xaxis": "x3",
         "y": [
          176919,
          null,
          94135,
          42420,
          null,
          258000,
          134000,
          108697,
          168936,
          118658,
          159885,
          157655,
          138454,
          176294,
          89384,
          71774,
          267369,
          211105,
          51070,
          65867,
          297059,
          143426
         ],
         "yaxis": "y3"
        },
        {
         "connectgaps": false,
         "hovertemplate": "fnid=ZW2011A111<br>indicator=area<br>year=%{x}<br>value=%{y}<extra></extra>",
         "legendgroup": "ZW2011A111",
         "line": {
          "color": "#636efa",
          "dash": "solid"
         },
         "marker": {
          "symbol": "circle"
         },
         "mode": "lines+markers",
         "name": "ZW2011A111",
         "orientation": "v",
         "showlegend": false,
         "type": "scatter",
         "x": [
          2001,
          2002,
          2003,
          2004,
          2005,
          2006,
          2007,
          2008,
          2009,
          2010,
          2011,
          2012,
          2013,
          2014,
          2015,
          2016,
          2017,
          2018,
          2019,
          2020,
          2021,
          2022
         ],
         "xaxis": "x2",
         "y": [
          158629,
          null,
          171155,
          121199,
          null,
          292000,
          237000,
          315063,
          216585,
          237052,
          262106,
          247334,
          189663,
          217648,
          209392,
          188460,
          264695,
          257468,
          233414,
          229996,
          265759,
          250032
         ],
         "yaxis": "y2"
        },
        {
         "connectgaps": false,
         "hovertemplate": "fnid=ZW2011A111<br>indicator=yield<br>year=%{x}<br>value=%{y}<extra></extra>",
         "legendgroup": "ZW2011A111",
         "line": {
          "color": "#636efa",
          "dash": "solid"
         },
         "marker": {
          "symbol": "circle"
         },
         "mode": "lines+markers",
         "name": "ZW2011A111",
         "orientation": "v",
         "showlegend": false,
         "type": "scatter",
         "x": [
          2001,
          2002,
          2003,
          2004,
          2005,
          2006,
          2007,
          2008,
          2009,
          2010,
          2011,
          2012,
          2013,
          2014,
          2015,
          2016,
          2017,
          2018,
          2019,
          2020,
          2021,
          2022
         ],
         "xaxis": "x",
         "y": [
          1.115300480996539,
          null,
          0.5499985393356899,
          0.3500028878126057,
          null,
          0.8835616438356164,
          0.5654008438818565,
          0.3450008411016209,
          0.7799986148625251,
          0.5005568398494845,
          0.6100012971851083,
          0.6374174193600556,
          0.7300000527250966,
          0.809995956774241,
          0.4268739970963551,
          0.3808447415897272,
          1.0101021930901604,
          0.8199271365761959,
          0.218795787741952,
          0.2863832414476773,
          1.1177758796503598,
          0.5736305752863633
         ],
         "yaxis": "y"
        },
        {
         "connectgaps": false,
         "hovertemplate": "fnid=ZW2011A112<br>indicator=production<br>year=%{x}<br>value=%{y}<extra></extra>",
         "legendgroup": "ZW2011A112",
         "line": {
          "color": "#EF553B",
          "dash": "solid"
         },
         "marker": {
          "symbol": "circle"
         },
         "mode": "lines+markers",
         "name": "ZW2011A112",
         "orientation": "v",
         "showlegend": true,
         "type": "scatter",
         "x": [
          2001,
          2002,
          2003,
          2004,
          2005,
          2006,
          2007,
          2008,
          2009,
          2010,
          2011,
          2012,
          2013,
          2014,
          2015,
          2016,
          2017,
          2018,
          2019,
          2020,
          2021,
          2022
         ],
         "xaxis": "x3",
         "y": [
          247981,
          null,
          167964,
          76115,
          null,
          234000,
          170000,
          113279,
          174691,
          223516,
          296722,
          155383,
          157050,
          245516,
          190117,
          110316,
          455666,
          359877,
          159184,
          182938,
          544786,
          336998
         ],
         "yaxis": "y3"
        },
        {
         "connectgaps": false,
         "hovertemplate": "fnid=ZW2011A112<br>indicator=area<br>year=%{x}<br>value=%{y}<extra></extra>",
         "legendgroup": "ZW2011A112",
         "line": {
          "color": "#EF553B",
          "dash": "solid"
         },
         "marker": {
          "symbol": "circle"
         },
         "mode": "lines+markers",
         "name": "ZW2011A112",
         "orientation": "v",
         "showlegend": false,
         "type": "scatter",
         "x": [
          2001,
          2002,
          2003,
          2004,
          2005,
          2006,
          2007,
          2008,
          2009,
          2010,
          2011,
          2012,
          2013,
          2014,
          2015,
          2016,
          2017,
          2018,
          2019,
          2020,
          2021,
          2022
         ],
         "xaxis": "x2",
         "y": [
          140175,
          null,
          221005,
          138390,
          null,
          202000,
          207000,
          226106,
          180094,
          179839,
          231814,
          185706,
          144083,
          193320,
          180652,
          154041,
          229917,
          208124,
          208699,
          202361,
          231665,
          215235
         ],
         "yaxis": "y2"
        },
        {
         "connectgaps": false,
         "hovertemplate": "fnid=ZW2011A112<br>indicator=yield<br>year=%{x}<br>value=%{y}<extra></extra>",
         "legendgroup": "ZW2011A112",
         "line": {
          "color": "#EF553B",
          "dash": "solid"
         },
         "marker": {
          "symbol": "circle"
         },
         "mode": "lines+markers",
         "name": "ZW2011A112",
         "orientation": "v",
         "showlegend": false,
         "type": "scatter",
         "x": [
          2001,
          2002,
          2003,
          2004,
          2005,
          2006,
          2007,
          2008,
          2009,
          2010,
          2011,
          2012,
          2013,
          2014,
          2015,
          2016,
          2017,
          2018,
          2019,
          2020,
          2021,
          2022
         ],
         "xaxis": "x",
         "y": [
          1.7690815052612805,
          null,
          0.7600009049569014,
          0.5500036129778163,
          null,
          1.1584158415841583,
          0.821256038647343,
          0.5009995311933341,
          0.9699990005219497,
          1.2428672312457254,
          1.2800003451042643,
          0.8367150226702422,
          1.0899967379912967,
          1.2699979308917857,
          1.0523935522440937,
          0.716146999824722,
          1.9818717189246555,
          1.729147046952778,
          0.7627444309747531,
          0.9040180667223428,
          2.351611162670235,
          1.5657211884684183
         ],
         "yaxis": "y"
        },
        {
         "connectgaps": false,
         "hovertemplate": "fnid=ZW2011A113<br>indicator=production<br>year=%{x}<br>value=%{y}<extra></extra>",
         "legendgroup": "ZW2011A113",
         "line": {
          "color": "#00cc96",
          "dash": "solid"
         },
         "marker": {
          "symbol": "circle"
         },
         "mode": "lines+markers",
         "name": "ZW2011A113",
         "orientation": "v",
         "showlegend": true,
         "type": "scatter",
         "x": [
          2001,
          2002,
          2003,
          2004,
          2005,
          2006,
          2007,
          2008,
          2009,
          2010,
          2011,
          2012,
          2013,
          2014,
          2015,
          2016,
          2017,
          2018,
          2019,
          2020,
          2021,
          2022
         ],
         "xaxis": "x3",
         "y": [
          293628,
          null,
          200220,
          140453,
          null,
          206000,
          151000,
          87999,
          186161,
          181994,
          148507,
          129657,
          98732,
          163287,
          102978,
          89338,
          274491,
          224817,
          153831,
          129385,
          408880,
          139169
         ],
         "yaxis": "y3"
        },
        {
         "connectgaps": false,
         "hovertemplate": "fnid=ZW2011A113<br>indicator=area<br>year=%{x}<br>value=%{y}<extra></extra>",
         "legendgroup": "ZW2011A113",
         "line": {
          "color": "#00cc96",
          "dash": "solid"
         },
         "marker": {
          "symbol": "circle"
         },
         "mode": "lines+markers",
         "name": "ZW2011A113",
         "orientation": "v",
         "showlegend": false,
         "type": "scatter",
         "x": [
          2001,
          2002,
          2003,
          2004,
          2005,
          2006,
          2007,
          2008,
          2009,
          2010,
          2011,
          2012,
          2013,
          2014,
          2015,
          2016,
          2017,
          2018,
          2019,
          2020,
          2021,
          2022
         ],
         "xaxis": "x2",
         "y": [
          220136,
          null,
          282000,
          255369,
          null,
          245000,
          281000,
          322341,
          241768,
          243995,
          247511,
          229926,
          156719,
          201589,
          186058,
          146796,
          218559,
          219003,
          206960,
          193053,
          219610,
          190048
         ],
         "yaxis": "y2"
        },
        {
         "connectgaps": false,
         "hovertemplate": "fnid=ZW2011A113<br>indicator=yield<br>year=%{x}<br>value=%{y}<extra></extra>",
         "legendgroup": "ZW2011A113",
         "line": {
          "color": "#00cc96",
          "dash": "solid"
         },
         "marker": {
          "symbol": "circle"
         },
         "mode": "lines+markers",
         "name": "ZW2011A113",
         "orientation": "v",
         "showlegend": false,
         "type": "scatter",
         "x": [
          2001,
          2002,
          2003,
          2004,
          2005,
          2006,
          2007,
          2008,
          2009,
          2010,
          2011,
          2012,
          2013,
          2014,
          2015,
          2016,
          2017,
          2018,
          2019,
          2020,
          2021,
          2022
         ],
         "xaxis": "x",
         "y": [
          1.3338481665879274,
          null,
          0.71,
          0.5500001957951043,
          null,
          0.8408163265306122,
          0.5373665480427047,
          0.2729997114856627,
          0.7699985109691936,
          0.7458923338593004,
          0.60000161608979,
          0.5639075180710316,
          0.6299938105781686,
          0.8099995535470685,
          0.553472573068613,
          0.6085860650153955,
          1.255912591108122,
          1.026547581539979,
          0.7432885581754929,
          0.670204555225767,
          1.8618459997267884,
          0.732283423135208
         ],
         "yaxis": "y"
        },
        {
         "connectgaps": false,
         "hovertemplate": "fnid=ZW2011A114<br>indicator=production<br>year=%{x}<br>value=%{y}<extra></extra>",
         "legendgroup": "ZW2011A114",
         "line": {
          "color": "#ab63fa",
          "dash": "solid"
         },
         "marker": {
          "symbol": "circle"
         },
         "mode": "lines+markers",
         "name": "ZW2011A114",
         "orientation": "v",
         "showlegend": true,
         "type": "scatter",
         "x": [
          2001,
          2002,
          2003,
          2004,
          2005,
          2006,
          2007,
          2008,
          2009,
          2010,
          2011,
          2012,
          2013,
          2014,
          2015,
          2016,
          2017,
          2018,
          2019,
          2020,
          2021,
          2022
         ],
         "xaxis": "x3",
         "y": [
          475210,
          null,
          131929,
          109197,
          null,
          208000,
          155000,
          84814,
          246556,
          336855,
          451089,
          245989,
          175002,
          340114,
          215827,
          143573,
          543622,
          461463,
          228073,
          309984,
          833566,
          619997
         ],
         "yaxis": "y3"
        },
        {
         "connectgaps": false,
         "hovertemplate": "fnid=ZW2011A114<br>indicator=area<br>year=%{x}<br>value=%{y}<extra></extra>",
         "legendgroup": "ZW2011A114",
         "line": {
          "color": "#ab63fa",
          "dash": "solid"
         },
         "marker": {
          "symbol": "circle"
         },
         "mode": "lines+markers",
         "name": "ZW2011A114",
         "orientation": "v",
         "showlegend": false,
         "type": "scatter",
         "x": [
          2001,
          2002,
          2003,
          2004,
          2005,
          2006,
          2007,
          2008,
          2009,
          2010,
          2011,
          2012,
          2013,
          2014,
          2015,
          2016,
          2017,
          2018,
          2019,
          2020,
          2021,
          2022
         ],
         "xaxis": "x2",
         "y": [
          198919,
          null,
          155210,
          181995,
          null,
          199000,
          216000,
          190594,
          195679,
          263621,
          379066,
          257153,
          224362,
          265714,
          230880,
          202898,
          279456,
          297539,
          297360,
          302611,
          356356,
          343053
         ],
         "yaxis": "y2"
        },
        {
         "connectgaps": false,
         "hovertemplate": "fnid=ZW2011A114<br>indicator=yield<br>year=%{x}<br>value=%{y}<extra></extra>",
         "legendgroup": "ZW2011A114",
         "line": {
          "color": "#ab63fa",
          "dash": "solid"
         },
         "marker": {
          "symbol": "circle"
         },
         "mode": "lines+markers",
         "name": "ZW2011A114",
         "orientation": "v",
         "showlegend": false,
         "type": "scatter",
         "x": [
          2001,
          2002,
          2003,
          2004,
          2005,
          2006,
          2007,
          2008,
          2009,
          2010,
          2011,
          2012,
          2013,
          2014,
          2015,
          2016,
          2017,
          2018,
          2019,
          2020,
          2021,
          2022
         ],
         "xaxis": "x",
         "y": [
          2.388962341455567,
          null,
          0.8500032214419174,
          0.6,
          null,
          1.0452261306532664,
          0.7175925925925926,
          0.4449982685708889,
          1.260002350788792,
          1.2778003269845726,
          1.1900012135089932,
          0.9565861568793677,
          0.7799983954502099,
          1.2800003010755925,
          0.9348016285516284,
          0.7076117063746316,
          1.945286556738807,
          1.550932818890969,
          0.7669928705945656,
          1.0243646133154445,
          2.3391383897001874,
          1.8072921676825449
         ],
         "yaxis": "y"
        },
        {
         "connectgaps": false,
         "hovertemplate": "fnid=ZW2011A115<br>indicator=production<br>year=%{x}<br>value=%{y}<extra></extra>",
         "legendgroup": "ZW2011A115",
         "line": {
          "color": "#FFA15A",
          "dash": "solid"
         },
         "marker": {
          "symbol": "circle"
         },
         "mode": "lines+markers",
         "name": "ZW2011A115",
         "orientation": "v",
         "showlegend": true,
         "type": "scatter",
         "x": [
          2001,
          2002,
          2003,
          2004,
          2005,
          2006,
          2007,
          2008,
          2009,
          2010,
          2011,
          2012,
          2013,
          2014,
          2015,
          2016,
          2017,
          2018,
          2019,
          2020,
          2021,
          2022
         ],
         "xaxis": "x3",
         "y": [
          65052,
          null,
          18462,
          38354,
          null,
          68000,
          8000,
          8540,
          51821,
          73311,
          79807,
          38447,
          36204,
          78764,
          23532,
          15155,
          67759,
          46142,
          13031,
          20002,
          115240,
          30533
         ],
         "yaxis": "y3"
        },
        {
         "connectgaps": false,
         "hovertemplate": "fnid=ZW2011A115<br>indicator=area<br>year=%{x}<br>value=%{y}<extra></extra>",
         "legendgroup": "ZW2011A115",
         "line": {
          "color": "#FFA15A",
          "dash": "solid"
         },
         "marker": {
          "symbol": "circle"
         },
         "mode": "lines+markers",
         "name": "ZW2011A115",
         "orientation": "v",
         "showlegend": false,
         "type": "scatter",
         "x": [
          2001,
          2002,
          2003,
          2004,
          2005,
          2006,
          2007,
          2008,
          2009,
          2010,
          2011,
          2012,
          2013,
          2014,
          2015,
          2016,
          2017,
          2018,
          2019,
          2020,
          2021,
          2022
         ],
         "xaxis": "x2",
         "y": [
          90076,
          null,
          46154,
          85232,
          null,
          93000,
          63000,
          76246,
          80971,
          100936,
          166265,
          110283,
          100566,
          131273,
          128430,
          76276,
          127184,
          114414,
          98736,
          90321,
          149584,
          132668
         ],
         "yaxis": "y2"
        },
        {
         "connectgaps": false,
         "hovertemplate": "fnid=ZW2011A115<br>indicator=yield<br>year=%{x}<br>value=%{y}<extra></extra>",
         "legendgroup": "ZW2011A115",
         "line": {
          "color": "#FFA15A",
          "dash": "solid"
         },
         "marker": {
          "symbol": "circle"
         },
         "mode": "lines+markers",
         "name": "ZW2011A115",
         "orientation": "v",
         "showlegend": false,
         "type": "scatter",
         "x": [
          2001,
          2002,
          2003,
          2004,
          2005,
          2006,
          2007,
          2008,
          2009,
          2010,
          2011,
          2012,
          2013,
          2014,
          2015,
          2016,
          2017,
          2018,
          2019,
          2020,
          2021,
          2022
         ],
         "xaxis": "x",
         "y": [
          0.7221901505395444,
          null,
          0.4000086666377779,
          0.4499953069269757,
          null,
          0.7311827956989247,
          0.1269841269841269,
          0.1120058757180704,
          0.6399945659557126,
          0.7263117222794642,
          0.4799987971010134,
          0.3486212743577886,
          0.3600023864924527,
          0.6000015235425411,
          0.1832282177061434,
          0.1986863495726047,
          0.5327635551641716,
          0.4032898071914276,
          0.1319782045049424,
          0.2214545897410347,
          0.7704032516846722,
          0.2301459281816263
         ],
         "yaxis": "y"
        },
        {
         "connectgaps": false,
         "hovertemplate": "fnid=ZW2011A116<br>indicator=production<br>year=%{x}<br>value=%{y}<extra></extra>",
         "legendgroup": "ZW2011A116",
         "line": {
          "color": "#19d3f3",
          "dash": "solid"
         },
         "marker": {
          "symbol": "circle"
         },
         "mode": "lines+markers",
         "name": "ZW2011A116",
         "orientation": "v",
         "showlegend": true,
         "type": "scatter",
         "x": [
          2001,
          2002,
          2003,
          2004,
          2005,
          2006,
          2007,
          2008,
          2009,
          2010,
          2011,
          2012,
          2013,
          2014,
          2015,
          2016,
          2017,
          2018,
          2019,
          2020,
          2021,
          2022
         ],
         "xaxis": "x3",
         "y": [
          10034,
          null,
          4956,
          29150,
          null,
          51000,
          4000,
          6592,
          71145,
          58290,
          35741,
          20435,
          17010,
          77616,
          12080,
          17793,
          74287,
          65983,
          16781,
          25833,
          84923,
          43877
         ],
         "yaxis": "y3"
        },
        {
         "connectgaps": false,
         "hovertemplate": "fnid=ZW2011A116<br>indicator=area<br>year=%{x}<br>value=%{y}<extra></extra>",
         "legendgroup": "ZW2011A116",
         "line": {
          "color": "#19d3f3",
          "dash": "solid"
         },
         "marker": {
          "symbol": "circle"
         },
         "mode": "lines+markers",
         "name": "ZW2011A116",
         "orientation": "v",
         "showlegend": false,
         "type": "scatter",
         "x": [
          2001,
          2002,
          2003,
          2004,
          2005,
          2006,
          2007,
          2008,
          2009,
          2010,
          2011,
          2012,
          2013,
          2014,
          2015,
          2016,
          2017,
          2018,
          2019,
          2020,
          2021,
          2022
         ],
         "xaxis": "x2",
         "y": [
          35513,
          null,
          24782,
          72874,
          null,
          81000,
          52000,
          67958,
          97459,
          139643,
          148922,
          131144,
          47251,
          127239,
          109968,
          60789,
          117531,
          97963,
          87517,
          83368,
          125632,
          136227
         ],
         "yaxis": "y2"
        },
        {
         "connectgaps": false,
         "hovertemplate": "fnid=ZW2011A116<br>indicator=yield<br>year=%{x}<br>value=%{y}<extra></extra>",
         "legendgroup": "ZW2011A116",
         "line": {
          "color": "#19d3f3",
          "dash": "solid"
         },
         "marker": {
          "symbol": "circle"
         },
         "mode": "lines+markers",
         "name": "ZW2011A116",
         "orientation": "v",
         "showlegend": false,
         "type": "scatter",
         "x": [
          2001,
          2002,
          2003,
          2004,
          2005,
          2006,
          2007,
          2008,
          2009,
          2010,
          2011,
          2012,
          2013,
          2014,
          2015,
          2016,
          2017,
          2018,
          2019,
          2020,
          2021,
          2022
         ],
         "xaxis": "x",
         "y": [
          0.2825444203531101,
          null,
          0.1999838592526834,
          0.4000054889260916,
          null,
          0.6296296296296297,
          0.0769230769230769,
          0.0970010889078548,
          0.7299992817492484,
          0.4174215678551735,
          0.2399981198211144,
          0.1558210821692185,
          0.3599923811136272,
          0.6100016504373659,
          0.1098501382220282,
          0.2927009820855747,
          0.6320630301792719,
          0.6735502179394262,
          0.1917456037112789,
          0.30986709528836,
          0.6759663143148242,
          0.3220873982397028
         ],
         "yaxis": "y"
        },
        {
         "connectgaps": false,
         "hovertemplate": "fnid=ZW2011A117<br>indicator=production<br>year=%{x}<br>value=%{y}<extra></extra>",
         "legendgroup": "ZW2011A117",
         "line": {
          "color": "#FF6692",
          "dash": "solid"
         },
         "marker": {
          "symbol": "circle"
         },
         "mode": "lines+markers",
         "name": "ZW2011A117",
         "orientation": "v",
         "showlegend": true,
         "type": "scatter",
         "x": [
          2001,
          2002,
          2003,
          2004,
          2005,
          2006,
          2007,
          2008,
          2009,
          2010,
          2011,
          2012,
          2013,
          2014,
          2015,
          2016,
          2017,
          2018,
          2019,
          2020,
          2021,
          2022
         ],
         "xaxis": "x3",
         "y": [
          83680,
          null,
          80895,
          141840,
          null,
          282000,
          81000,
          28841,
          202183,
          278747,
          199808,
          179161,
          100740,
          239244,
          80362,
          52049,
          321394,
          228515,
          93703,
          123162,
          300845,
          165702
         ],
         "yaxis": "y3"
        },
        {
         "connectgaps": false,
         "hovertemplate": "fnid=ZW2011A117<br>indicator=area<br>year=%{x}<br>value=%{y}<extra></extra>",
         "legendgroup": "ZW2011A117",
         "line": {
          "color": "#FF6692",
          "dash": "solid"
         },
         "marker": {
          "symbol": "circle"
         },
         "mode": "lines+markers",
         "name": "ZW2011A117",
         "orientation": "v",
         "showlegend": false,
         "type": "scatter",
         "x": [
          2001,
          2002,
          2003,
          2004,
          2005,
          2006,
          2007,
          2008,
          2009,
          2010,
          2011,
          2012,
          2013,
          2014,
          2015,
          2016,
          2017,
          2018,
          2019,
          2020,
          2021,
          2022
         ],
         "xaxis": "x2",
         "y": [
          209348,
          null,
          269649,
          354599,
          null,
          358000,
          326000,
          294297,
          301765,
          408569,
          384246,
          316116,
          239856,
          351829,
          295450,
          209417,
          392777,
          336848,
          333118,
          302653,
          360336,
          392038
         ],
         "yaxis": "y2"
        },
        {
         "connectgaps": false,
         "hovertemplate": "fnid=ZW2011A117<br>indicator=yield<br>year=%{x}<br>value=%{y}<extra></extra>",
         "legendgroup": "ZW2011A117",
         "line": {
          "color": "#FF6692",
          "dash": "solid"
         },
         "marker": {
          "symbol": "circle"
         },
         "mode": "lines+markers",
         "name": "ZW2011A117",
         "orientation": "v",
         "showlegend": false,
         "type": "scatter",
         "x": [
          2001,
          2002,
          2003,
          2004,
          2005,
          2006,
          2007,
          2008,
          2009,
          2010,
          2011,
          2012,
          2013,
          2014,
          2015,
          2016,
          2017,
          2018,
          2019,
          2020,
          2021,
          2022
         ],
         "xaxis": "x",
         "y": [
          0.3997172172650324,
          null,
          0.3000011125574358,
          0.400001128034766,
          null,
          0.7877094972067039,
          0.2484662576687116,
          0.0979996398196379,
          0.6700014912266168,
          0.6822519574417051,
          0.5200002081999552,
          0.5667571397841299,
          0.4200020012007204,
          0.6800007958411615,
          0.2719986461330174,
          0.2485423819460693,
          0.8182607433734663,
          0.6783920343893982,
          0.2812907138011155,
          0.406941282590954,
          0.8349013143288486,
          0.4226682107346737
         ],
         "yaxis": "y"
        },
        {
         "connectgaps": false,
         "hovertemplate": "fnid=ZW2011A118<br>indicator=production<br>year=%{x}<br>value=%{y}<extra></extra>",
         "legendgroup": "ZW2011A118",
         "line": {
          "color": "#B6E880",
          "dash": "solid"
         },
         "marker": {
          "symbol": "circle"
         },
         "mode": "lines+markers",
         "name": "ZW2011A118",
         "orientation": "v",
         "showlegend": true,
         "type": "scatter",
         "x": [
          2001,
          2002,
          2003,
          2004,
          2005,
          2006,
          2007,
          2008,
          2009,
          2010,
          2011,
          2012,
          2013,
          2014,
          2015,
          2016,
          2017,
          2018,
          2019,
          2020,
          2021,
          2022
         ],
         "xaxis": "x3",
         "y": [
          114244,
          null,
          100083,
          130546,
          null,
          178000,
          96000,
          32390,
          141072,
          56201,
          80070,
          41314,
          49570,
          116673,
          27946,
          11818,
          150938,
          102800,
          60962,
          50458,
          131872,
          78231
         ],
         "yaxis": "y3"
        },
        {
         "connectgaps": false,
         "hovertemplate": "fnid=ZW2011A118<br>indicator=area<br>year=%{x}<br>value=%{y}<extra></extra>",
         "legendgroup": "ZW2011A118",
         "line": {
          "color": "#B6E880",
          "dash": "solid"
         },
         "marker": {
          "symbol": "circle"
         },
         "mode": "lines+markers",
         "name": "ZW2011A118",
         "orientation": "v",
         "showlegend": false,
         "type": "scatter",
         "x": [
          2001,
          2002,
          2003,
          2004,
          2005,
          2006,
          2007,
          2008,
          2009,
          2010,
          2011,
          2012,
          2013,
          2014,
          2015,
          2016,
          2017,
          2018,
          2019,
          2020,
          2021,
          2022
         ],
         "xaxis": "x2",
         "y": [
          170270,
          null,
          217571,
          310823,
          null,
          242000,
          245000,
          229717,
          207459,
          229887,
          276105,
          212124,
          150213,
          216062,
          193680,
          123320,
          245178,
          191359,
          157953,
          178403,
          242908,
          241453
         ],
         "yaxis": "y2"
        },
        {
         "connectgaps": false,
         "hovertemplate": "fnid=ZW2011A118<br>indicator=yield<br>year=%{x}<br>value=%{y}<extra></extra>",
         "legendgroup": "ZW2011A118",
         "line": {
          "color": "#B6E880",
          "dash": "solid"
         },
         "marker": {
          "symbol": "circle"
         },
         "mode": "lines+markers",
         "name": "ZW2011A118",
         "orientation": "v",
         "showlegend": false,
         "type": "scatter",
         "x": [
          2001,
          2002,
          2003,
          2004,
          2005,
          2006,
          2007,
          2008,
          2009,
          2010,
          2011,
          2012,
          2013,
          2014,
          2015,
          2016,
          2017,
          2018,
          2019,
          2020,
          2021,
          2022
         ],
         "xaxis": "x",
         "y": [
          0.6709578904093498,
          null,
          0.4600015627082653,
          0.4200010938701447,
          null,
          0.7355371900826446,
          0.3918367346938775,
          0.1409995777413077,
          0.6799994215724553,
          0.2444722842091984,
          0.2899983701852556,
          0.1947634402519281,
          0.3299980694081071,
          0.5399977784154548,
          0.1442895497728211,
          0.0958319818358741,
          0.6156261981091289,
          0.5372101651869,
          0.3859502510240388,
          0.2828315667337432,
          0.5428886656676601,
          0.3240009442831524
         ],
         "yaxis": "y"
        }
       ],
       "layout": {
        "annotations": [
         {
          "showarrow": false,
          "text": "",
          "textangle": 90,
          "x": 0.98,
          "xanchor": "left",
          "xref": "paper",
          "y": 0.16333333333333333,
          "yanchor": "middle",
          "yref": "paper"
         },
         {
          "showarrow": false,
          "text": "",
          "textangle": 90,
          "x": 0.98,
          "xanchor": "left",
          "xref": "paper",
          "y": 0.5,
          "yanchor": "middle",
          "yref": "paper"
         },
         {
          "showarrow": false,
          "text": "",
          "textangle": 90,
          "x": 0.98,
          "xanchor": "left",
          "xref": "paper",
          "y": 0.8366666666666667,
          "yanchor": "middle",
          "yref": "paper"
         },
         {
          "align": "left",
          "font": {
           "color": "dimgrey",
           "family": "arial",
           "size": 15
          },
          "showarrow": false,
          "text": "Production-Area-Yield time-series of ZW - Maize - Main",
          "x": -0.014,
          "xref": "paper",
          "y": -0.14,
          "yref": "paper"
         }
        ],
        "font": {
         "color": "black",
         "family": "arial",
         "size": 16
        },
        "height": 600,
        "legend": {
         "font": {
          "size": 14
         },
         "title": {
          "text": "FNID"
         },
         "tracegroupgap": 0,
         "x": 1,
         "xanchor": "left",
         "y": 1,
         "yanchor": "top"
        },
        "margin": {
         "b": 25,
         "l": 0,
         "r": 0,
         "t": 0
        },
        "template": {
         "data": {
          "bar": [
           {
            "error_x": {
             "color": "#2a3f5f"
            },
            "error_y": {
             "color": "#2a3f5f"
            },
            "marker": {
             "line": {
              "color": "#E5ECF6",
              "width": 0.5
             },
             "pattern": {
              "fillmode": "overlay",
              "size": 10,
              "solidity": 0.2
             }
            },
            "type": "bar"
           }
          ],
          "barpolar": [
           {
            "marker": {
             "line": {
              "color": "#E5ECF6",
              "width": 0.5
             },
             "pattern": {
              "fillmode": "overlay",
              "size": 10,
              "solidity": 0.2
             }
            },
            "type": "barpolar"
           }
          ],
          "carpet": [
           {
            "aaxis": {
             "endlinecolor": "#2a3f5f",
             "gridcolor": "white",
             "linecolor": "white",
             "minorgridcolor": "white",
             "startlinecolor": "#2a3f5f"
            },
            "baxis": {
             "endlinecolor": "#2a3f5f",
             "gridcolor": "white",
             "linecolor": "white",
             "minorgridcolor": "white",
             "startlinecolor": "#2a3f5f"
            },
            "type": "carpet"
           }
          ],
          "choropleth": [
           {
            "colorbar": {
             "outlinewidth": 0,
             "ticks": ""
            },
            "type": "choropleth"
           }
          ],
          "contour": [
           {
            "colorbar": {
             "outlinewidth": 0,
             "ticks": ""
            },
            "colorscale": [
             [
              0,
              "#0d0887"
             ],
             [
              0.1111111111111111,
              "#46039f"
             ],
             [
              0.2222222222222222,
              "#7201a8"
             ],
             [
              0.3333333333333333,
              "#9c179e"
             ],
             [
              0.4444444444444444,
              "#bd3786"
             ],
             [
              0.5555555555555556,
              "#d8576b"
             ],
             [
              0.6666666666666666,
              "#ed7953"
             ],
             [
              0.7777777777777778,
              "#fb9f3a"
             ],
             [
              0.8888888888888888,
              "#fdca26"
             ],
             [
              1,
              "#f0f921"
             ]
            ],
            "type": "contour"
           }
          ],
          "contourcarpet": [
           {
            "colorbar": {
             "outlinewidth": 0,
             "ticks": ""
            },
            "type": "contourcarpet"
           }
          ],
          "heatmap": [
           {
            "colorbar": {
             "outlinewidth": 0,
             "ticks": ""
            },
            "colorscale": [
             [
              0,
              "#0d0887"
             ],
             [
              0.1111111111111111,
              "#46039f"
             ],
             [
              0.2222222222222222,
              "#7201a8"
             ],
             [
              0.3333333333333333,
              "#9c179e"
             ],
             [
              0.4444444444444444,
              "#bd3786"
             ],
             [
              0.5555555555555556,
              "#d8576b"
             ],
             [
              0.6666666666666666,
              "#ed7953"
             ],
             [
              0.7777777777777778,
              "#fb9f3a"
             ],
             [
              0.8888888888888888,
              "#fdca26"
             ],
             [
              1,
              "#f0f921"
             ]
            ],
            "type": "heatmap"
           }
          ],
          "heatmapgl": [
           {
            "colorbar": {
             "outlinewidth": 0,
             "ticks": ""
            },
            "colorscale": [
             [
              0,
              "#0d0887"
             ],
             [
              0.1111111111111111,
              "#46039f"
             ],
             [
              0.2222222222222222,
              "#7201a8"
             ],
             [
              0.3333333333333333,
              "#9c179e"
             ],
             [
              0.4444444444444444,
              "#bd3786"
             ],
             [
              0.5555555555555556,
              "#d8576b"
             ],
             [
              0.6666666666666666,
              "#ed7953"
             ],
             [
              0.7777777777777778,
              "#fb9f3a"
             ],
             [
              0.8888888888888888,
              "#fdca26"
             ],
             [
              1,
              "#f0f921"
             ]
            ],
            "type": "heatmapgl"
           }
          ],
          "histogram": [
           {
            "marker": {
             "pattern": {
              "fillmode": "overlay",
              "size": 10,
              "solidity": 0.2
             }
            },
            "type": "histogram"
           }
          ],
          "histogram2d": [
           {
            "colorbar": {
             "outlinewidth": 0,
             "ticks": ""
            },
            "colorscale": [
             [
              0,
              "#0d0887"
             ],
             [
              0.1111111111111111,
              "#46039f"
             ],
             [
              0.2222222222222222,
              "#7201a8"
             ],
             [
              0.3333333333333333,
              "#9c179e"
             ],
             [
              0.4444444444444444,
              "#bd3786"
             ],
             [
              0.5555555555555556,
              "#d8576b"
             ],
             [
              0.6666666666666666,
              "#ed7953"
             ],
             [
              0.7777777777777778,
              "#fb9f3a"
             ],
             [
              0.8888888888888888,
              "#fdca26"
             ],
             [
              1,
              "#f0f921"
             ]
            ],
            "type": "histogram2d"
           }
          ],
          "histogram2dcontour": [
           {
            "colorbar": {
             "outlinewidth": 0,
             "ticks": ""
            },
            "colorscale": [
             [
              0,
              "#0d0887"
             ],
             [
              0.1111111111111111,
              "#46039f"
             ],
             [
              0.2222222222222222,
              "#7201a8"
             ],
             [
              0.3333333333333333,
              "#9c179e"
             ],
             [
              0.4444444444444444,
              "#bd3786"
             ],
             [
              0.5555555555555556,
              "#d8576b"
             ],
             [
              0.6666666666666666,
              "#ed7953"
             ],
             [
              0.7777777777777778,
              "#fb9f3a"
             ],
             [
              0.8888888888888888,
              "#fdca26"
             ],
             [
              1,
              "#f0f921"
             ]
            ],
            "type": "histogram2dcontour"
           }
          ],
          "mesh3d": [
           {
            "colorbar": {
             "outlinewidth": 0,
             "ticks": ""
            },
            "type": "mesh3d"
           }
          ],
          "parcoords": [
           {
            "line": {
             "colorbar": {
              "outlinewidth": 0,
              "ticks": ""
             }
            },
            "type": "parcoords"
           }
          ],
          "pie": [
           {
            "automargin": true,
            "type": "pie"
           }
          ],
          "scatter": [
           {
            "fillpattern": {
             "fillmode": "overlay",
             "size": 10,
             "solidity": 0.2
            },
            "type": "scatter"
           }
          ],
          "scatter3d": [
           {
            "line": {
             "colorbar": {
              "outlinewidth": 0,
              "ticks": ""
             }
            },
            "marker": {
             "colorbar": {
              "outlinewidth": 0,
              "ticks": ""
             }
            },
            "type": "scatter3d"
           }
          ],
          "scattercarpet": [
           {
            "marker": {
             "colorbar": {
              "outlinewidth": 0,
              "ticks": ""
             }
            },
            "type": "scattercarpet"
           }
          ],
          "scattergeo": [
           {
            "marker": {
             "colorbar": {
              "outlinewidth": 0,
              "ticks": ""
             }
            },
            "type": "scattergeo"
           }
          ],
          "scattergl": [
           {
            "marker": {
             "colorbar": {
              "outlinewidth": 0,
              "ticks": ""
             }
            },
            "type": "scattergl"
           }
          ],
          "scattermapbox": [
           {
            "marker": {
             "colorbar": {
              "outlinewidth": 0,
              "ticks": ""
             }
            },
            "type": "scattermapbox"
           }
          ],
          "scatterpolar": [
           {
            "marker": {
             "colorbar": {
              "outlinewidth": 0,
              "ticks": ""
             }
            },
            "type": "scatterpolar"
           }
          ],
          "scatterpolargl": [
           {
            "marker": {
             "colorbar": {
              "outlinewidth": 0,
              "ticks": ""
             }
            },
            "type": "scatterpolargl"
           }
          ],
          "scatterternary": [
           {
            "marker": {
             "colorbar": {
              "outlinewidth": 0,
              "ticks": ""
             }
            },
            "type": "scatterternary"
           }
          ],
          "surface": [
           {
            "colorbar": {
             "outlinewidth": 0,
             "ticks": ""
            },
            "colorscale": [
             [
              0,
              "#0d0887"
             ],
             [
              0.1111111111111111,
              "#46039f"
             ],
             [
              0.2222222222222222,
              "#7201a8"
             ],
             [
              0.3333333333333333,
              "#9c179e"
             ],
             [
              0.4444444444444444,
              "#bd3786"
             ],
             [
              0.5555555555555556,
              "#d8576b"
             ],
             [
              0.6666666666666666,
              "#ed7953"
             ],
             [
              0.7777777777777778,
              "#fb9f3a"
             ],
             [
              0.8888888888888888,
              "#fdca26"
             ],
             [
              1,
              "#f0f921"
             ]
            ],
            "type": "surface"
           }
          ],
          "table": [
           {
            "cells": {
             "fill": {
              "color": "#EBF0F8"
             },
             "line": {
              "color": "white"
             }
            },
            "header": {
             "fill": {
              "color": "#C8D4E3"
             },
             "line": {
              "color": "white"
             }
            },
            "type": "table"
           }
          ]
         },
         "layout": {
          "annotationdefaults": {
           "arrowcolor": "#2a3f5f",
           "arrowhead": 0,
           "arrowwidth": 1
          },
          "autotypenumbers": "strict",
          "coloraxis": {
           "colorbar": {
            "outlinewidth": 0,
            "ticks": ""
           }
          },
          "colorscale": {
           "diverging": [
            [
             0,
             "#8e0152"
            ],
            [
             0.1,
             "#c51b7d"
            ],
            [
             0.2,
             "#de77ae"
            ],
            [
             0.3,
             "#f1b6da"
            ],
            [
             0.4,
             "#fde0ef"
            ],
            [
             0.5,
             "#f7f7f7"
            ],
            [
             0.6,
             "#e6f5d0"
            ],
            [
             0.7,
             "#b8e186"
            ],
            [
             0.8,
             "#7fbc41"
            ],
            [
             0.9,
             "#4d9221"
            ],
            [
             1,
             "#276419"
            ]
           ],
           "sequential": [
            [
             0,
             "#0d0887"
            ],
            [
             0.1111111111111111,
             "#46039f"
            ],
            [
             0.2222222222222222,
             "#7201a8"
            ],
            [
             0.3333333333333333,
             "#9c179e"
            ],
            [
             0.4444444444444444,
             "#bd3786"
            ],
            [
             0.5555555555555556,
             "#d8576b"
            ],
            [
             0.6666666666666666,
             "#ed7953"
            ],
            [
             0.7777777777777778,
             "#fb9f3a"
            ],
            [
             0.8888888888888888,
             "#fdca26"
            ],
            [
             1,
             "#f0f921"
            ]
           ],
           "sequentialminus": [
            [
             0,
             "#0d0887"
            ],
            [
             0.1111111111111111,
             "#46039f"
            ],
            [
             0.2222222222222222,
             "#7201a8"
            ],
            [
             0.3333333333333333,
             "#9c179e"
            ],
            [
             0.4444444444444444,
             "#bd3786"
            ],
            [
             0.5555555555555556,
             "#d8576b"
            ],
            [
             0.6666666666666666,
             "#ed7953"
            ],
            [
             0.7777777777777778,
             "#fb9f3a"
            ],
            [
             0.8888888888888888,
             "#fdca26"
            ],
            [
             1,
             "#f0f921"
            ]
           ]
          },
          "colorway": [
           "#636efa",
           "#EF553B",
           "#00cc96",
           "#ab63fa",
           "#FFA15A",
           "#19d3f3",
           "#FF6692",
           "#B6E880",
           "#FF97FF",
           "#FECB52"
          ],
          "font": {
           "color": "#2a3f5f"
          },
          "geo": {
           "bgcolor": "white",
           "lakecolor": "white",
           "landcolor": "#E5ECF6",
           "showlakes": true,
           "showland": true,
           "subunitcolor": "white"
          },
          "hoverlabel": {
           "align": "left"
          },
          "hovermode": "closest",
          "mapbox": {
           "style": "light"
          },
          "paper_bgcolor": "white",
          "plot_bgcolor": "#E5ECF6",
          "polar": {
           "angularaxis": {
            "gridcolor": "white",
            "linecolor": "white",
            "ticks": ""
           },
           "bgcolor": "#E5ECF6",
           "radialaxis": {
            "gridcolor": "white",
            "linecolor": "white",
            "ticks": ""
           }
          },
          "scene": {
           "xaxis": {
            "backgroundcolor": "#E5ECF6",
            "gridcolor": "white",
            "gridwidth": 2,
            "linecolor": "white",
            "showbackground": true,
            "ticks": "",
            "zerolinecolor": "white"
           },
           "yaxis": {
            "backgroundcolor": "#E5ECF6",
            "gridcolor": "white",
            "gridwidth": 2,
            "linecolor": "white",
            "showbackground": true,
            "ticks": "",
            "zerolinecolor": "white"
           },
           "zaxis": {
            "backgroundcolor": "#E5ECF6",
            "gridcolor": "white",
            "gridwidth": 2,
            "linecolor": "white",
            "showbackground": true,
            "ticks": "",
            "zerolinecolor": "white"
           }
          },
          "shapedefaults": {
           "line": {
            "color": "#2a3f5f"
           }
          },
          "ternary": {
           "aaxis": {
            "gridcolor": "white",
            "linecolor": "white",
            "ticks": ""
           },
           "baxis": {
            "gridcolor": "white",
            "linecolor": "white",
            "ticks": ""
           },
           "bgcolor": "#E5ECF6",
           "caxis": {
            "gridcolor": "white",
            "linecolor": "white",
            "ticks": ""
           }
          },
          "title": {
           "x": 0.05
          },
          "xaxis": {
           "automargin": true,
           "gridcolor": "white",
           "linecolor": "white",
           "ticks": "",
           "title": {
            "standoff": 15
           },
           "zerolinecolor": "white",
           "zerolinewidth": 2
          },
          "yaxis": {
           "automargin": true,
           "gridcolor": "white",
           "linecolor": "white",
           "ticks": "",
           "title": {
            "standoff": 15
           },
           "zerolinecolor": "white",
           "zerolinewidth": 2
          }
         }
        },
        "width": 900,
        "xaxis": {
         "anchor": "y",
         "domain": [
          0,
          0.98
         ],
         "dtick": 1,
         "range": [
          2001,
          2022
         ],
         "title": {
          "text": ""
         }
        },
        "xaxis2": {
         "anchor": "y2",
         "domain": [
          0,
          0.98
         ],
         "dtick": 1,
         "matches": "x",
         "showticklabels": false
        },
        "xaxis3": {
         "anchor": "y3",
         "domain": [
          0,
          0.98
         ],
         "dtick": 1,
         "matches": "x",
         "showticklabels": false
        },
        "yaxis": {
         "anchor": "x",
         "domain": [
          0,
          0.32666666666666666
         ],
         "title": {
          "text": "Yield (mt/ha)"
         }
        },
        "yaxis2": {
         "anchor": "x2",
         "domain": [
          0.33666666666666667,
          0.6633333333333333
         ],
         "title": {
          "text": "Area (ha)"
         }
        },
        "yaxis3": {
         "anchor": "x3",
         "domain": [
          0.6733333333333333,
          1
         ],
         "title": {
          "text": "Production (mt)"
         }
        }
       }
      }
     },
     "metadata": {},
     "output_type": "display_data"
    }
   ],
   "source": [
    "# Lineplot of Production-Area-Yield time-series\n",
    "country_iso, country_name = 'ZW', 'Zimbabwe'\n",
    "df = pd.read_csv('../data/crop/adm_crop_production_%s.csv' % country_iso, index_col=0)\n",
    "df['year'] = df['harvest_year']\n",
    "year = [df['year'].min(), df['year'].max()]\n",
    "product_season = [\n",
    "    ['Maize','Main'],\n",
    "]\n",
    "for product_name, season_name in product_season:\n",
    "    footnote = 'Production-Area-Yield time-series of %s - %s - %s' % (country_iso, product_name, season_name)\n",
    "    fn_save = '../figures/%s_line_pay_%s_%s.png' % (country_iso, product_name, season_name)\n",
    "    sub = df[(df['product'] == product_name) & (df['season_name'] == season_name)]\n",
    "    fig = PlotLinePAY(sub, year, footnote, fn_save)\n",
    "    fig.show()"
   ]
  },
  {
   "cell_type": "code",
   "execution_count": null,
   "id": "ec543d0a",
   "metadata": {},
   "outputs": [],
   "source": []
  },
  {
   "cell_type": "code",
   "execution_count": null,
   "id": "c92f5f70",
   "metadata": {},
   "outputs": [],
   "source": []
  }
 ],
 "metadata": {
  "kernelspec": {
   "display_name": "Python 3 (ipykernel)",
   "language": "python",
   "name": "python3"
  },
  "language_info": {
   "codemirror_mode": {
    "name": "ipython",
    "version": 3
   },
   "file_extension": ".py",
   "mimetype": "text/x-python",
   "name": "python",
   "nbconvert_exporter": "python",
   "pygments_lexer": "ipython3",
   "version": "3.10.10"
  }
 },
 "nbformat": 4,
 "nbformat_minor": 5
}
