{
 "cells": [
  {
   "attachments": {},
   "cell_type": "markdown",
   "id": "5a54535d-4fd0-4290-a987-d6baff7aa821",
   "metadata": {},
   "source": [
    "## FDW Crop Production Data Profiling - South Sudan"
   ]
  },
  {
   "cell_type": "code",
   "execution_count": null,
   "id": "423b4763-5783-4282-ba84-d8ae8ba04fb5",
   "metadata": {},
   "outputs": [],
   "source": [
    "import os, sys, glob, json\n",
    "from itertools import product, compress, chain\n",
    "from functools import reduce\n",
    "import warnings\n",
    "warnings.simplefilter(action='ignore', category=FutureWarning)\n",
    "import requests\n",
    "import numpy as np\n",
    "import pandas as pd\n",
    "import geopandas as gpd\n",
    "from tools import save_hdf, save_npz, load_npz, PrintAdminUnits, PlotAdminShapes\n",
    "from tools import FDW_PD_Sweeper, FDW_PD_AvalTable, FDW_PD_Compiling, FDW_PD_GrainTypeAgg, FDW_PD_ValidateFnidName\n",
    "from tools import FDW_PD_CreateAdminLink, FDW_PD_RatioAdminLink, FDW_PD_ConnectAdminLink\n",
    "from tools import FDW_PD_CaliSeasonYear\n",
    "from tools_graphic import PlotBarProduction, PlotLinePAY, PlotHeatCropSystem, PlotHeatSeasonData\n",
    "import plotly.express as px\n",
    "import plotly.graph_objects as go\n",
    "from plotly.subplots import make_subplots\n",
    "warnings.simplefilter(action='ignore', category=pd.errors.PerformanceWarning)\n",
    "pd.options.mode.chained_assignment = None"
   ]
  },
  {
   "cell_type": "code",
   "execution_count": 31,
   "id": "1546e288-588d-4af4-be71-c096579f7737",
   "metadata": {},
   "outputs": [
    {
     "name": "stdout",
     "output_type": "stream",
     "text": [
      "- FEWS NET admin shapefiles ------------------- #\n",
      "| year\t | Admin1   | # units   | Admin2   | # units   | Admin3   | # units   |\n",
      "| 2011\t | SS2011A1 | 10\t| SS2011A2\t| 79\t| nan\t| 0\t|\n",
      "----------------------------------------------- #\n"
     ]
    }
   ],
   "source": [
    "# CPCV2 grain code ------------------------------ #\n",
    "grain_code = pd.read_hdf('../data/crop/grain_cpcv2_code.hdf')\n",
    "product_category = grain_code[['product', 'product_category']].set_index('product').to_dict()['product_category']\n",
    "# ----------------------------------------------- #\n",
    "\n",
    "# Load FEWS NET administrative boundaries ------- #\n",
    "epsg = 'epsg:20135' # South Sudan\n",
    "fn_shapes = sorted(glob.glob('../data/shapefile/fewsnet/SS_Admin?_????.shp'))\n",
    "shape_all = []\n",
    "for fn in fn_shapes:\n",
    "    name = fn[-18:-4]\n",
    "    exec('%s = gpd.read_file(\"%s\").to_crs(\"%s\")' % (name, fn, epsg))\n",
    "    exec('%s[\"area\"] = %s[\"geometry\"].area/10**6' % (name, name))\n",
    "    exec('shape_all.append(%s)' % (name))\n",
    "shape_all = pd.concat(shape_all, axis=0).reset_index(drop=True)\n",
    "PrintAdminUnits(shape_all)\n",
    "# ----------------------------------------------- #\n",
    "\n",
    "# FDW API host address -------------------------- #\n",
    "host = 'https://fdw.fews.net'\n",
    "auth = tuple(json.loads(open('token.json', \"r\").read()))\n",
    "parameters = {\n",
    "    'format': 'json',\n",
    "    'country': 'South Sudan',\n",
    "    'product': 'R011',\n",
    "    # 'survey_type': 'crop:best'\n",
    "}\n",
    "endpoint = '/api/cropproductionindicatorvalue/'\n",
    "response = requests.get(host + endpoint, auth=auth, params=parameters, proxies={})\n",
    "response.raise_for_status()\n",
    "df = pd.DataFrame.from_records(response.json())\n",
    "df_origin = df.copy()\n",
    "# ----------------------------------------------- #"
   ]
  },
  {
   "cell_type": "code",
   "execution_count": 32,
   "id": "5ea098df",
   "metadata": {},
   "outputs": [
    {
     "name": "stdout",
     "output_type": "stream",
     "text": [
      "- Remove missing records ---------------------- #\n",
      "Orignial data points: 2,376\n",
      "Removed 1,426 \"Missing Value\" points\n",
      "178/594 \"Area Harvested\" points are retained.\n",
      "0/594 \"Area Planted\" points are retained.\n",
      "594/594 \"Quantity Produced\" points are retained.\n",
      "178/594 \"Yield\" points are retained.\n",
      "Current data points: 950\n",
      "\n"
     ]
    },
    {
     "ename": "AssertionError",
     "evalue": "",
     "output_type": "error",
     "traceback": [
      "\u001b[0;31m---------------------------------------------------------------------------\u001b[0m",
      "\u001b[0;31mAssertionError\u001b[0m                            Traceback (most recent call last)",
      "Cell \u001b[0;32mIn[32], line 15\u001b[0m\n\u001b[1;32m      8\u001b[0m df\u001b[39m.\u001b[39mloc[df[\u001b[39m'\u001b[39m\u001b[39mpopulation_group\u001b[39m\u001b[39m'\u001b[39m] \u001b[39m==\u001b[39m \u001b[39m'\u001b[39m\u001b[39m'\u001b[39m, \u001b[39m'\u001b[39m\u001b[39mpopulation_group\u001b[39m\u001b[39m'\u001b[39m] \u001b[39m=\u001b[39m \u001b[39m'\u001b[39m\u001b[39mnone\u001b[39m\u001b[39m'\u001b[39m\n\u001b[1;32m      9\u001b[0m \u001b[39m# # 2. Manual setting\u001b[39;00m\n\u001b[1;32m     10\u001b[0m \u001b[39m# # a) Remove reporting units\u001b[39;00m\n\u001b[1;32m     11\u001b[0m \u001b[39m# df = df[df['fnid'] != 'MG1982R3010101']\u001b[39;00m\n\u001b[1;32m     12\u001b[0m \u001b[39m# ----------------------------------------------- #\u001b[39;00m\n\u001b[1;32m     13\u001b[0m \n\u001b[1;32m     14\u001b[0m \u001b[39m# FDW Production Data Inspection ---------------- #\u001b[39;00m\n\u001b[0;32m---> 15\u001b[0m df, df_raw \u001b[39m=\u001b[39m FDW_PD_Sweeper(df, area_priority\u001b[39m=\u001b[39;49m\u001b[39m'\u001b[39;49m\u001b[39mArea Harvested\u001b[39;49m\u001b[39m'\u001b[39;49m)\n\u001b[1;32m     16\u001b[0m table_dict \u001b[39m=\u001b[39m FDW_PD_AvalTable(df, shape_all)\n\u001b[1;32m     17\u001b[0m \u001b[39m# ----------------------------------------------- #\u001b[39;00m\n\u001b[1;32m     18\u001b[0m \n\u001b[1;32m     19\u001b[0m \u001b[39m# FEWS NET Shapefile comparison ----------------- #\u001b[39;00m\n",
      "File \u001b[0;32m~/gscd/notebook/tools.py:98\u001b[0m, in \u001b[0;36mFDW_PD_Sweeper\u001b[0;34m(df, area_priority)\u001b[0m\n\u001b[1;32m     96\u001b[0m \u001b[39m# - Check duplicated data points\u001b[39;00m\n\u001b[1;32m     97\u001b[0m rows \u001b[39m=\u001b[39m [\u001b[39m'\u001b[39m\u001b[39mfnid\u001b[39m\u001b[39m'\u001b[39m,\u001b[39m'\u001b[39m\u001b[39mcrop_production_system\u001b[39m\u001b[39m'\u001b[39m,\u001b[39m'\u001b[39m\u001b[39mseason_year\u001b[39m\u001b[39m'\u001b[39m, \u001b[39m'\u001b[39m\u001b[39mproduct\u001b[39m\u001b[39m'\u001b[39m,\u001b[39m'\u001b[39m\u001b[39mindicator\u001b[39m\u001b[39m'\u001b[39m]\n\u001b[0;32m---> 98\u001b[0m \u001b[39massert\u001b[39;00m df[df[rows]\u001b[39m.\u001b[39mduplicated(keep\u001b[39m=\u001b[39m\u001b[39mFalse\u001b[39;00m)]\u001b[39m.\u001b[39mshape[\u001b[39m0\u001b[39m] \u001b[39m==\u001b[39m \u001b[39m0\u001b[39m\n\u001b[1;32m     99\u001b[0m \u001b[39m# ---------------------------------------------------- #\u001b[39;00m\n\u001b[1;32m    100\u001b[0m \n\u001b[1;32m    101\u001b[0m \u001b[39m# Minor changes -------------------------------------- #\u001b[39;00m\n\u001b[1;32m    102\u001b[0m \u001b[39m# planting year and month (based on FDW's \"season_date\"; \"planting_month\" might be manually changed later)\u001b[39;00m\n\u001b[1;32m    103\u001b[0m df[\u001b[39m'\u001b[39m\u001b[39mseason_date\u001b[39m\u001b[39m'\u001b[39m] \u001b[39m=\u001b[39m pd\u001b[39m.\u001b[39mto_datetime(pd\u001b[39m.\u001b[39mto_datetime(df[\u001b[39m'\u001b[39m\u001b[39mseason_date\u001b[39m\u001b[39m'\u001b[39m])\u001b[39m.\u001b[39mdt\u001b[39m.\u001b[39mstrftime(\u001b[39m'\u001b[39m\u001b[39m%\u001b[39m\u001b[39mY-\u001b[39m\u001b[39m%\u001b[39m\u001b[39mm-01\u001b[39m\u001b[39m'\u001b[39m))\n",
      "\u001b[0;31mAssertionError\u001b[0m: "
     ]
    }
   ],
   "source": [
    "# Manual Pre-processing before Sweeping --------- #\n",
    "# 1. Default setting \n",
    "# a) None-type crop production system\n",
    "df.loc[df['crop_production_system'].isna(), 'crop_production_system'] = 'none'\n",
    "df.loc[df['crop_production_system'] == '', 'crop_production_system'] = 'none'\n",
    "# b) None-type population group\n",
    "df.loc[df['population_group'].isna(), 'population_group'] = 'none'\n",
    "df.loc[df['population_group'] == '', 'population_group'] = 'none'\n",
    "# # 2. Manual setting\n",
    "# # a) Remove reporting units\n",
    "# df = df[df['fnid'] != 'MG1982R3010101']\n",
    "# ----------------------------------------------- #\n",
    "\n",
    "# FDW Production Data Inspection ---------------- #\n",
    "df, df_raw = FDW_PD_Sweeper(df, area_priority='Area Harvested')\n",
    "table_dict = FDW_PD_AvalTable(df, shape_all)\n",
    "# ----------------------------------------------- #\n",
    "\n",
    "# FEWS NET Shapefile comparison ----------------- #\n",
    "shape_used = pd.concat([\n",
    "    SS_Admin1_2011, SS_Admin2_2011\n",
    "], axis=0)\n",
    "PlotAdminShapes(shape_used, label=True)\n",
    "# ----------------------------------------------- #"
   ]
  },
  {
   "attachments": {},
   "cell_type": "markdown",
   "id": "c306101b-6d9e-45d3-af48-3cecb4033e29",
   "metadata": {},
   "source": [
    "- South Sudan crop seasonal calendar\n",
    "\n",
    "![FEWS NET](../figures/crop_calendar/seasonal-calendar-south-sudan.png)\n",
    "\n",
    "![USDA](../figures/crop_calendar/eafrica_od_calendar.png)\n",
    "\n",
    "<!-- ![FAO](../figures/crop_calendar/Somalia_-_Crop_calendar.jpg) -->\n",
    "<img src=\"../figures/crop_calendar/Somalia_-_Crop_calendar.jpg\" alt=\"drawing\" width=\"800\"/>\n",
    "\n",
    "- FDW data consists of `SS2011A1` and `SS2011A2`.\n",
    "\n",
    "| Year  | Admin-1  | # units  | Admin-2  | # units |\n",
    "| :---: | :----:   | :----:   | :----:   | :---:   |\n",
    "| 2011  | SS2011A1 | 10 | **`SS2011A2`** | 79       |\n",
    "\n",
    "- Comparison between admin boundaries.\n",
    "\n",
    "![image](https://github.com/chc-ucsb/gscd/blob/main/figures/SS_admin_shapes.png?raw=true)\n",
    "\n",
    "- **FDW data consists of only 5 years records (mostly \"Quantity Produced\").**\n",
    "- **`SS2011A2`** is used to represent the current admin-level 2 crop data.\n",
    "- Burkina Faso has a single crop season: `Main`.\n",
    "- Burkina Faso has no population group(s)."
   ]
  },
  {
   "cell_type": "code",
   "execution_count": null,
   "id": "fa07821d-4806-4275-b67b-00c96ec7dc93",
   "metadata": {},
   "outputs": [],
   "source": [
    "# Define the latest shapefile ------------------- #\n",
    "latest_level = 2\n",
    "shape_latest = SS_Admin2_2011.copy().to_crs('epsg:4326')\n",
    "# ----------------------------------------------- #\n",
    "\n",
    "# # Validation of FNIDs and Names ----------------- #\n",
    "# df = FDW_PD_ValidateFnidName(df, shape_used, shape_latest)\n",
    "# # ----------------------------------------------- #\n",
    "\n",
    "# # FDW Production Data Compiling ----------------- #\n",
    "# area, prod = FDW_PD_Compiling(df, shape_used)\n",
    "# area_all, prod_all = area.copy(), prod.copy()\n",
    "# mdx_pss = area.columns.droplevel([0,1]).unique()\n",
    "# # ----------------------------------------------- #"
   ]
  },
  {
   "cell_type": "code",
   "execution_count": null,
   "id": "d1eca1e5-5912-40c3-ada1-6fcd5171d487",
   "metadata": {},
   "outputs": [],
   "source": []
  }
 ],
 "metadata": {
  "kernelspec": {
   "display_name": "Python 3 (ipykernel)",
   "language": "python",
   "name": "python3"
  },
  "language_info": {
   "codemirror_mode": {
    "name": "ipython",
    "version": 3
   },
   "file_extension": ".py",
   "mimetype": "text/x-python",
   "name": "python",
   "nbconvert_exporter": "python",
   "pygments_lexer": "ipython3",
   "version": "3.10.10"
  }
 },
 "nbformat": 4,
 "nbformat_minor": 5
}
