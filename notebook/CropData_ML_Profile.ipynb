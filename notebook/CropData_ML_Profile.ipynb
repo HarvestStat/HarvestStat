{
 "cells": [
  {
   "attachments": {},
   "cell_type": "markdown",
   "id": "60d467f8-fee5-4752-9632-9a2bb58f8d01",
   "metadata": {},
   "source": [
    "## HarvestStat Data Profiling - Mali"
   ]
  },
  {
   "cell_type": "code",
   "execution_count": 1,
   "id": "f7477c2a-096a-4839-b6a3-b1466fa895f8",
   "metadata": {},
   "outputs": [],
   "source": [
    "import glob, json\n",
    "import warnings\n",
    "warnings.simplefilter(action='ignore', category=FutureWarning)\n",
    "import requests\n",
    "import numpy as np\n",
    "import pandas as pd\n",
    "import geopandas as gpd\n",
    "from tools import save_npz, PrintAdminUnits, PlotAdminShapes\n",
    "from tools import FDW_PD_Sweeper, FDW_PD_AvalTable, FDW_PD_Compiling, FDW_PD_ValidateFnidName\n",
    "from tools import FDW_PD_CreateAdminLink, FDW_PD_RatioAdminLink, FDW_PD_ConnectAdminLink\n",
    "from tools import FDW_PD_CaliSeasonYear\n",
    "from tools_graphic import PlotBarProduction, PlotLinePAY\n",
    "warnings.simplefilter(action='ignore', category=pd.errors.PerformanceWarning)\n",
    "pd.options.mode.chained_assignment = None"
   ]
  },
  {
   "cell_type": "code",
   "execution_count": 2,
   "id": "e7e59e34-54bd-45f6-85f5-96dab5826703",
   "metadata": {},
   "outputs": [
    {
     "name": "stdout",
     "output_type": "stream",
     "text": [
      "- FEWS NET admin shapefiles ------------------- #\n",
      "| year\t | Admin1   | # units   | Admin2   | # units   | Admin3   | # units   |\n",
      "| 1980\t | ML1980A1 | 8\t| nan\t| 0\t| nan\t| 0\t|\n",
      "| 1993\t | ML1993A1 | 9\t| ML1993A2\t| 50\t| nan\t| 0\t|\n",
      "| 2001\t | ML2001A1 | 9\t| ML2001A2\t| 50\t| nan\t| 0\t|\n",
      "| 2016\t | ML2016A1 | 11\t| nan\t| 0\t| nan\t| 0\t|\n",
      "----------------------------------------------- #\n"
     ]
    }
   ],
   "source": [
    "# Load FEWS NET administrative boundaries ------- #\n",
    "epsg = 'epsg:32629' # Mali\n",
    "fn_shapes = sorted(glob.glob('../data/shapefile/fewsnet/ML_Admin?_????.shp'))\n",
    "shape_all = []\n",
    "for fn in fn_shapes:\n",
    "    name = fn[-18:-4]\n",
    "    exec('%s = gpd.read_file(\"%s\").to_crs(\"%s\")' % (name, fn, epsg))\n",
    "    exec('%s[\"area\"] = %s[\"geometry\"].area/10**6' % (name, name))\n",
    "    exec('shape_all.append(%s)' % (name))\n",
    "shape_all = pd.concat(shape_all, axis=0).reset_index(drop=True)\n",
    "PrintAdminUnits(shape_all)\n",
    "# ----------------------------------------------- #\n",
    "\n",
    "# FDW API host address -------------------------- #\n",
    "host = 'https://fdw.fews.net'\n",
    "auth = tuple(json.loads(open('token.json', \"r\").read()))\n",
    "parameters = {\n",
    "    'format': 'json',\n",
    "    'country': 'Mali',\n",
    "    'product': ['R011','R012','R013','R014','R015','R017','R018'],\n",
    "    'survey_type': 'crop:best'\n",
    "}\n",
    "endpoint = '/api/cropproductionindicatorvalue/'\n",
    "response = requests.get(host + endpoint, auth=auth, params=parameters, proxies={})\n",
    "response.raise_for_status()\n",
    "df = pd.DataFrame.from_records(response.json())\n",
    "# ----------------------------------------------- #"
   ]
  },
  {
   "cell_type": "code",
   "execution_count": 3,
   "id": "93c74406-8eb3-40f0-9c2f-27d14a248782",
   "metadata": {},
   "outputs": [
    {
     "name": "stdout",
     "output_type": "stream",
     "text": [
      "- Remove missing records ---------------------- #\n",
      "Orignial data points: 6,523\n",
      "Removed 512 \"Missing Value\" points\n",
      "2,006/2,112 \"Area Planted\" points are retained.\n",
      "2,051/2,112 \"Quantity Produced\" points are retained.\n",
      "1,954/2,112 \"Yield\" points are retained.\n",
      "0/187 \"Area Harvested\" points are retained.\n",
      "Current data points: 6,011\n",
      "\n",
      "- Minor changes are applied ------------------- #\n",
      "\n",
      "- Basic information --------------------------- #\n",
      "Data period: 1982 - 2021\n",
      "17 grain types are found: Bambara groundnut, Barley (Unspecified), Beans (mixed), Cowpeas (Mixed), Fonio, Gram (Green), Groundnuts (In Shell), Maize (Corn), Millet, Rice (Paddy), Sesame Seed, Sorghum, Soybean (unspecified), Sugarcane (for sugar), Sweet Potatoes, Wheat Grain, Yams\n",
      "1 seasons are found: Main (10-01)\n",
      "1 crop production system are found: none\n",
      "Data sources include:\n",
      "[1] Direction Nationale de l'Agriculture/Direction Nationale de la Statistique et de l'Informatique, Mali --- Annuaire Statistique, Mali\n",
      "[2] Direction Nationale de l'Agriculture/Direction Nationale de la Statistique et de l'Informatique, Mali --- FEWS NET Agro Maps, Mali\n",
      "[3] Direction Nationale de l'Agriculture (DNA), Mali --- Annuaire Statistique, Mali\n",
      "[4] Direction Nationale de la Statistique et de l'Informatique (DNSI), Mali --- Annuaire Statistique, Mali\n",
      "[5] Ministere De L'agriculture, Mali --- Official agricultural statistics, Mali\n",
      "Administrative-1 fnids: 24\n",
      "Administrative-2 fnids: 0\n",
      "0 reporting units are found: \n",
      "\n",
      "- Total production over time ------------------ #\n",
      "season_name             Main\n",
      "                            \n",
      "Bambara groundnut       0.3%\n",
      "Barley (Unspecified)    0.0%\n",
      "Beans (mixed)           0.0%\n",
      "Cowpeas (Mixed)         2.1%\n",
      "Fonio                   0.5%\n",
      "Gram (Green)            0.1%\n",
      "Groundnuts (In Shell)   5.1%\n",
      "Maize (Corn)           21.2%\n",
      "Millet                 23.5%\n",
      "Rice (Paddy)           24.5%\n",
      "Sesame Seed             0.2%\n",
      "Sorghum                18.3%\n",
      "Soybean (unspecified)   0.0%\n",
      "Sugarcane (for sugar)   3.7%\n",
      "Sweet Potatoes          0.0%\n",
      "Wheat Grain             0.3%\n",
      "Yams                    0.0%\n",
      "\n",
      "- Crop calendar ------------------------------- #\n",
      "                  product season_name planting_month harvest_month\n",
      "0       Bambara groundnut        Main          10-01         12-01\n",
      "1    Barley (Unspecified)        Main          10-01         12-01\n",
      "2           Beans (mixed)        Main          10-01         12-01\n",
      "3         Cowpeas (Mixed)        Main          10-01         12-01\n",
      "4                   Fonio        Main          10-01         12-01\n",
      "5            Gram (Green)        Main          10-01         12-01\n",
      "6   Groundnuts (In Shell)        Main          10-01         12-01\n",
      "7            Maize (Corn)        Main          10-01         12-01\n",
      "8                  Millet        Main          10-01         12-01\n",
      "9            Rice (Paddy)        Main          10-01         12-01\n",
      "10            Sesame Seed        Main          10-01         12-01\n",
      "11                Sorghum        Main          10-01         12-01\n",
      "12  Soybean (unspecified)        Main          10-01         12-01\n",
      "13  Sugarcane (for sugar)        Main          10-01         12-01\n",
      "14         Sweet Potatoes        Main          10-01         12-01\n",
      "15            Wheat Grain        Main          10-01         12-01\n",
      "16                   Yams        Main          10-01         12-01\n",
      "\n",
      "- Recorded years per season ------------------- #\n",
      "Main: 40 years (1982-2021) (missing: 1 years)\n",
      "\n",
      "- Number of \"Quantity Produced\" data points --- #\n",
      "ML1980A1: 515 data points are found.\n",
      "ML1993A1: 1,237 data points are found.\n",
      "ML2016A1: 299 data points are found.\n",
      "\n",
      "- Districts with population group(s) ---------- #\n",
      "0 districts includes 'population_group'.\n",
      "\n",
      "Table of available data\n",
      "----------------------------------------------- #\n",
      "Crop type: Bambara groundnut\n",
      "----------------------------------------------- #\n",
      "season_name              Main              \n",
      "crop_production_system   none              \n",
      "fnid_short             1980A1 1993A1 2016A1\n",
      "year                                       \n",
      "1984                      5/8    NaN    NaN\n",
      "1985                      4/8    NaN    NaN\n",
      "1986                      1/8    NaN    NaN\n",
      "1987                      5/8    NaN    NaN\n",
      "1988                      4/8    NaN    NaN\n",
      "1989                      5/8    NaN    NaN\n",
      "1990                      5/8    NaN    NaN\n",
      "1991                      NaN    NaN    NaN\n",
      "1992                      5/8    NaN    NaN\n",
      "1993                      5/8    NaN    NaN\n",
      "1994                      NaN    3/9    NaN\n",
      "1995                      NaN    5/9    NaN\n",
      "1996                      NaN    5/9    NaN\n",
      "1997                      NaN    5/9    NaN\n",
      "1998                      NaN    5/9    NaN\n",
      "1999                      NaN    5/9    NaN\n",
      "2000                      NaN    5/9    NaN\n",
      "2001                      NaN    NaN    NaN\n",
      "2002                      NaN    5/9    NaN\n",
      "2003                      NaN    4/9    NaN\n",
      "2004                      NaN    4/9    NaN\n",
      "2005                      NaN    5/9    NaN\n",
      "2006                      NaN    5/9    NaN\n",
      "2007                      NaN    5/9    NaN\n",
      "2008                      NaN    5/9    NaN\n",
      "2009                      NaN    5/9    NaN\n",
      "2010                      NaN    NaN    NaN\n",
      "2011                      NaN    5/9    NaN\n",
      "2012                      NaN    5/9    NaN\n",
      "2013                      NaN    4/9    NaN\n",
      "2014                      NaN    4/9    NaN\n",
      "2015                      NaN    4/9    NaN\n",
      "2016                      NaN    5/9    NaN\n",
      "2017                      NaN    NaN   5/11\n",
      "2018                      NaN    NaN   5/11\n",
      "2019                      NaN    NaN   5/11\n",
      "2020                      NaN    NaN   5/11\n",
      "2021                      NaN    NaN   5/11\n",
      "----------------------------------------------- #\n",
      "Crop type: Barley (Unspecified)\n",
      "----------------------------------------------- #\n",
      "season_name              Main\n",
      "crop_production_system   none\n",
      "fnid_short             1993A1\n",
      "year                         \n",
      "1997                      1/9\n",
      "1998                      1/9\n",
      "1999                      2/9\n",
      "2000                      2/9\n",
      "2001                      1/9\n",
      "2002                      2/9\n",
      "----------------------------------------------- #\n",
      "Crop type: Beans (mixed)\n",
      "----------------------------------------------- #\n",
      "season_name              Main\n",
      "crop_production_system   none\n",
      "fnid_short             1993A1\n",
      "year                         \n",
      "2003                      4/9\n",
      "2004                      4/9\n",
      "2005                      4/9\n",
      "2006                      4/9\n",
      "2007                      4/9\n",
      "----------------------------------------------- #\n",
      "Crop type: Cowpeas (Mixed)\n",
      "----------------------------------------------- #\n",
      "season_name              Main              \n",
      "crop_production_system   none              \n",
      "fnid_short             1980A1 1993A1 2016A1\n",
      "year                                       \n",
      "1984                      6/8    NaN    NaN\n",
      "1985                      6/8    NaN    NaN\n",
      "1986                      6/8    NaN    NaN\n",
      "1987                      5/8    NaN    NaN\n",
      "1988                      6/8    NaN    NaN\n",
      "1989                      6/8    NaN    NaN\n",
      "1990                      6/8    NaN    NaN\n",
      "1991                      5/8    NaN    NaN\n",
      "1992                      5/8    NaN    NaN\n",
      "1993                      5/8    NaN    NaN\n",
      "1994                      NaN    5/9    NaN\n",
      "1995                      NaN    5/9    NaN\n",
      "1996                      NaN    6/9    NaN\n",
      "1997                      NaN    7/9    NaN\n",
      "1998                      NaN    6/9    NaN\n",
      "1999                      NaN    6/9    NaN\n",
      "2000                      NaN    7/9    NaN\n",
      "2001                      NaN    7/9    NaN\n",
      "2002                      NaN    7/9    NaN\n",
      "2003                      NaN    7/9    NaN\n",
      "2004                      NaN    6/9    NaN\n",
      "2005                      NaN    7/9    NaN\n",
      "2006                      NaN    7/9    NaN\n",
      "2007                      NaN    7/9    NaN\n",
      "2008                      NaN    7/9    NaN\n",
      "2009                      NaN    7/9    NaN\n",
      "2010                      NaN    NaN    NaN\n",
      "2011                      NaN    6/9    NaN\n",
      "2012                      NaN    6/9    NaN\n",
      "2013                      NaN    7/9    NaN\n",
      "2014                      NaN    7/9    NaN\n",
      "2015                      NaN    7/9    NaN\n",
      "2016                      NaN    NaN    NaN\n",
      "2017                      NaN    NaN   8/11\n",
      "2018                      NaN    NaN   8/11\n",
      "2019                      NaN    NaN   9/11\n",
      "2020                      NaN    NaN   9/11\n",
      "2021                      NaN    NaN   8/11\n",
      "----------------------------------------------- #\n",
      "Crop type: Fonio\n",
      "----------------------------------------------- #\n",
      "season_name              Main              \n",
      "crop_production_system   none              \n",
      "fnid_short             1980A1 1993A1 2016A1\n",
      "year                                       \n",
      "1982                      4/8    NaN    NaN\n",
      "1983                      5/8    NaN    NaN\n",
      "1984                      5/8    NaN    NaN\n",
      "1985                      5/8    NaN    NaN\n",
      "1986                      5/8    NaN    NaN\n",
      "1987                      5/8    NaN    NaN\n",
      "1988                      5/8    NaN    NaN\n",
      "1989                      5/8    NaN    NaN\n",
      "1990                      5/8    NaN    NaN\n",
      "1991                      5/8    NaN    NaN\n",
      "1992                      5/8    NaN    NaN\n",
      "1993                      5/8    NaN    NaN\n",
      "1994                      NaN    5/9    NaN\n",
      "1995                      NaN    5/9    NaN\n",
      "1996                      NaN    5/9    NaN\n",
      "1997                      NaN    5/9    NaN\n",
      "1998                      NaN    5/9    NaN\n",
      "1999                      NaN    5/9    NaN\n",
      "2000                      NaN    5/9    NaN\n",
      "2001                      NaN    5/9    NaN\n",
      "2002                      NaN    5/9    NaN\n",
      "2003                      NaN    5/9    NaN\n",
      "2004                      NaN    5/9    NaN\n",
      "2005                      NaN    5/9    NaN\n",
      "2006                      NaN    5/9    NaN\n",
      "2007                      NaN    5/9    NaN\n",
      "2008                      NaN    5/9    NaN\n",
      "2009                      NaN    5/9    NaN\n",
      "2010                      NaN    NaN    NaN\n",
      "2011                      NaN    5/9    NaN\n",
      "2012                      NaN    5/9    NaN\n",
      "2013                      NaN    5/9    NaN\n",
      "2014                      NaN    5/9    NaN\n",
      "2015                      NaN    5/9    NaN\n",
      "2016                      NaN    5/9    NaN\n",
      "2017                      NaN    NaN   5/11\n",
      "2018                      NaN    NaN   5/11\n",
      "2019                      NaN    NaN   5/11\n",
      "2020                      NaN    NaN   5/11\n",
      "2021                      NaN    NaN   5/11\n",
      "----------------------------------------------- #\n",
      "Crop type: Gram (Green)\n",
      "----------------------------------------------- #\n",
      "season_name              Main\n",
      "crop_production_system   none\n",
      "fnid_short             1993A1\n",
      "year                         \n",
      "2016                      8/9\n",
      "----------------------------------------------- #\n",
      "Crop type: Groundnuts (In Shell)\n",
      "----------------------------------------------- #\n",
      "season_name              Main              \n",
      "crop_production_system   none              \n",
      "fnid_short             1980A1 1993A1 2016A1\n",
      "year                                       \n",
      "1982                      4/8    NaN    NaN\n",
      "1983                      5/8    NaN    NaN\n",
      "1984                      6/8    NaN    NaN\n",
      "1985                      5/8    NaN    NaN\n",
      "1986                      6/8    NaN    NaN\n",
      "1987                      5/8    NaN    NaN\n",
      "1988                      6/8    NaN    NaN\n",
      "1989                      6/8    NaN    NaN\n",
      "1990                      6/8    NaN    NaN\n",
      "1991                      5/8    NaN    NaN\n",
      "1992                      5/8    NaN    NaN\n",
      "1993                      5/8    NaN    NaN\n",
      "1994                      NaN    5/9    NaN\n",
      "1995                      NaN    5/9    NaN\n",
      "1996                      NaN    5/9    NaN\n",
      "1997                      NaN    5/9    NaN\n",
      "1998                      NaN    NaN    NaN\n",
      "1999                      NaN    6/9    NaN\n",
      "2000                      NaN    5/9    NaN\n",
      "2001                      NaN    5/9    NaN\n",
      "2002                      NaN    5/9    NaN\n",
      "2003                      NaN    6/9    NaN\n",
      "2004                      NaN    6/9    NaN\n",
      "2005                      NaN    6/9    NaN\n",
      "2006                      NaN    6/9    NaN\n",
      "2007                      NaN    6/9    NaN\n",
      "2008                      NaN    6/9    NaN\n",
      "2009                      NaN    6/9    NaN\n",
      "2010                      NaN    NaN    NaN\n",
      "2011                      NaN    6/9    NaN\n",
      "2012                      NaN    6/9    NaN\n",
      "2013                      NaN    6/9    NaN\n",
      "2014                      NaN    6/9    NaN\n",
      "2015                      NaN    6/9    NaN\n",
      "2016                      NaN    7/9    NaN\n",
      "2017                      NaN    NaN   7/11\n",
      "2018                      NaN    NaN   7/11\n",
      "2019                      NaN    NaN   7/11\n",
      "2020                      NaN    NaN   7/11\n",
      "2021                      NaN    NaN   7/11\n",
      "----------------------------------------------- #\n",
      "Crop type: Maize (Corn)\n",
      "----------------------------------------------- #\n",
      "season_name              Main              \n",
      "crop_production_system   none              \n",
      "fnid_short             1980A1 1993A1 2016A1\n",
      "year                                       \n",
      "1982                      4/8    NaN    NaN\n",
      "1983                      5/8    NaN    NaN\n",
      "1984                      5/8    NaN    NaN\n",
      "1985                      5/8    NaN    NaN\n",
      "1986                      5/8    NaN    NaN\n",
      "1987                      5/8    NaN    NaN\n",
      "1988                      5/8    NaN    NaN\n",
      "1989                      5/8    NaN    NaN\n",
      "1990                      5/8    NaN    NaN\n",
      "1991                      5/8    NaN    NaN\n",
      "1992                      5/8    NaN    NaN\n",
      "1993                      5/8    NaN    NaN\n",
      "1994                      NaN    5/9    NaN\n",
      "1995                      NaN    5/9    NaN\n",
      "1996                      NaN    5/9    NaN\n",
      "1997                      NaN    5/9    NaN\n",
      "1998                      NaN    5/9    NaN\n",
      "1999                      NaN    5/9    NaN\n",
      "2000                      NaN    6/9    NaN\n",
      "2001                      NaN    6/9    NaN\n",
      "2002                      NaN    6/9    NaN\n",
      "2003                      NaN    6/9    NaN\n",
      "2004                      NaN    7/9    NaN\n",
      "2005                      NaN    7/9    NaN\n",
      "2006                      NaN    6/9    NaN\n",
      "2007                      NaN    6/9    NaN\n",
      "2008                      NaN    6/9    NaN\n",
      "2009                      NaN    7/9    NaN\n",
      "2010                      NaN    NaN    NaN\n",
      "2011                      NaN    6/9    NaN\n",
      "2012                      NaN    7/9    NaN\n",
      "2013                      NaN    6/9    NaN\n",
      "2014                      NaN    6/9    NaN\n",
      "2015                      NaN    6/9    NaN\n",
      "2016                      NaN    7/9    NaN\n",
      "2017                      NaN    NaN   7/11\n",
      "2018                      NaN    NaN   6/11\n",
      "2019                      NaN    NaN   5/11\n",
      "2020                      NaN    NaN   6/11\n",
      "2021                      NaN    NaN   6/11\n",
      "----------------------------------------------- #\n",
      "Crop type: Millet\n",
      "----------------------------------------------- #\n",
      "season_name              Main              \n",
      "crop_production_system   none              \n",
      "fnid_short             1980A1 1993A1 2016A1\n",
      "year                                       \n",
      "1982                      5/8    NaN    NaN\n",
      "1983                      6/8    NaN    NaN\n",
      "1984                      6/8    NaN    NaN\n",
      "1985                      7/8    NaN    NaN\n",
      "1986                      7/8    NaN    NaN\n",
      "1987                      7/8    NaN    NaN\n",
      "1988                      7/8    NaN    NaN\n",
      "1989                      7/8    NaN    NaN\n",
      "1990                      7/8    NaN    NaN\n",
      "1991                      7/8    NaN    NaN\n",
      "1992                      7/8    NaN    NaN\n",
      "1993                      7/8    NaN    NaN\n",
      "1994                      NaN    7/9    NaN\n",
      "1995                      NaN    7/9    NaN\n",
      "1996                      NaN    7/9    NaN\n",
      "1997                      NaN    7/9    NaN\n",
      "1998                      NaN    7/9    NaN\n",
      "1999                      NaN    7/9    NaN\n",
      "2000                      NaN    7/9    NaN\n",
      "2001                      NaN    7/9    NaN\n",
      "2002                      NaN    7/9    NaN\n",
      "2003                      NaN    7/9    NaN\n",
      "2004                      NaN    7/9    NaN\n",
      "2005                      NaN    7/9    NaN\n",
      "2006                      NaN    7/9    NaN\n",
      "2007                      NaN    7/9    NaN\n",
      "2008                      NaN    7/9    NaN\n",
      "2009                      NaN    7/9    NaN\n",
      "2010                      NaN    NaN    NaN\n",
      "2011                      NaN    7/9    NaN\n",
      "2012                      NaN    7/9    NaN\n",
      "2013                      NaN    7/9    NaN\n",
      "2014                      NaN    7/9    NaN\n",
      "2015                      NaN    7/9    NaN\n",
      "2016                      NaN    7/9    NaN\n",
      "2017                      NaN    NaN   7/11\n",
      "2018                      NaN    NaN   7/11\n",
      "2019                      NaN    NaN   7/11\n",
      "2020                      NaN    NaN   7/11\n",
      "2021                      NaN    NaN   7/11\n",
      "----------------------------------------------- #\n",
      "Crop type: Rice (Paddy)\n",
      "----------------------------------------------- #\n",
      "season_name              Main              \n",
      "crop_production_system   none              \n",
      "fnid_short             1980A1 1993A1 2016A1\n",
      "year                                       \n",
      "1982                      5/8    NaN    NaN\n",
      "1983                      7/8    NaN    NaN\n",
      "1984                      7/8    NaN    NaN\n",
      "1985                      7/8    NaN    NaN\n",
      "1986                      7/8    NaN    NaN\n",
      "1987                      7/8    NaN    NaN\n",
      "1988                      7/8    NaN    NaN\n",
      "1989                      7/8    NaN    NaN\n",
      "1990                      7/8    NaN    NaN\n",
      "1991                      7/8    NaN    NaN\n",
      "1992                      7/8    NaN    NaN\n",
      "1993                      7/8    NaN    NaN\n",
      "1994                      NaN    7/9    NaN\n",
      "1995                      NaN    7/9    NaN\n",
      "1996                      NaN    7/9    NaN\n",
      "1997                      NaN    NaN    NaN\n",
      "1998                      NaN    7/9    NaN\n",
      "1999                      NaN    7/9    NaN\n",
      "2000                      NaN    7/9    NaN\n",
      "2001                      NaN    7/9    NaN\n",
      "2002                      NaN    7/9    NaN\n",
      "2003                      NaN    7/9    NaN\n",
      "2004                      NaN    7/9    NaN\n",
      "2005                      NaN    7/9    NaN\n",
      "2006                      NaN    7/9    NaN\n",
      "2007                      NaN    7/9    NaN\n",
      "2008                      NaN    7/9    NaN\n",
      "2009                      NaN    7/9    NaN\n",
      "2010                      NaN    NaN    NaN\n",
      "2011                      NaN    7/9    NaN\n",
      "2012                      NaN    7/9    NaN\n",
      "2013                      NaN    7/9    NaN\n",
      "2014                      NaN    7/9    NaN\n",
      "2015                      NaN    7/9    NaN\n",
      "2016                      NaN    7/9    NaN\n",
      "2017                      NaN    NaN   7/11\n",
      "2018                      NaN    NaN   7/11\n",
      "2019                      NaN    NaN   7/11\n",
      "2020                      NaN    NaN   7/11\n",
      "2021                      NaN    NaN   7/11\n",
      "----------------------------------------------- #\n",
      "Crop type: Sesame Seed\n",
      "----------------------------------------------- #\n",
      "season_name              Main       \n",
      "crop_production_system   none       \n",
      "fnid_short             1993A1 2016A1\n",
      "year                                \n",
      "2004                      5/9    NaN\n",
      "2005                      5/9    NaN\n",
      "2006                      5/9    NaN\n",
      "2007                      5/9    NaN\n",
      "2008                      5/9    NaN\n",
      "2009                      5/9    NaN\n",
      "2010                      NaN    NaN\n",
      "2011                      5/9    NaN\n",
      "2012                      5/9    NaN\n",
      "2013                      5/9    NaN\n",
      "2014                      5/9    NaN\n",
      "2015                      5/9    NaN\n",
      "2016                      5/9    NaN\n",
      "2017                      NaN   5/11\n",
      "2018                      NaN   5/11\n",
      "2019                      NaN   5/11\n",
      "2020                      NaN    NaN\n",
      "2021                      NaN   5/11\n",
      "----------------------------------------------- #\n",
      "Crop type: Sorghum\n",
      "----------------------------------------------- #\n",
      "season_name              Main              \n",
      "crop_production_system   none              \n",
      "fnid_short             1980A1 1993A1 2016A1\n",
      "year                                       \n",
      "1982                      5/8    NaN    NaN\n",
      "1983                      7/8    NaN    NaN\n",
      "1984                      7/8    NaN    NaN\n",
      "1985                      7/8    NaN    NaN\n",
      "1986                      7/8    NaN    NaN\n",
      "1987                      7/8    NaN    NaN\n",
      "1988                      7/8    NaN    NaN\n",
      "1989                      7/8    NaN    NaN\n",
      "1990                      7/8    NaN    NaN\n",
      "1991                      7/8    NaN    NaN\n",
      "1992                      7/8    NaN    NaN\n",
      "1993                      7/8    NaN    NaN\n",
      "1994                      NaN    7/9    NaN\n",
      "1995                      NaN    7/9    NaN\n",
      "1996                      NaN    7/9    NaN\n",
      "1997                      NaN    7/9    NaN\n",
      "1998                      NaN    7/9    NaN\n",
      "1999                      NaN    7/9    NaN\n",
      "2000                      NaN    7/9    NaN\n",
      "2001                      NaN    7/9    NaN\n",
      "2002                      NaN    7/9    NaN\n",
      "2003                      NaN    7/9    NaN\n",
      "2004                      NaN    7/9    NaN\n",
      "2005                      NaN    7/9    NaN\n",
      "2006                      NaN    7/9    NaN\n",
      "2007                      NaN    7/9    NaN\n",
      "2008                      NaN    7/9    NaN\n",
      "2009                      NaN    7/9    NaN\n",
      "2010                      NaN    NaN    NaN\n",
      "2011                      NaN    7/9    NaN\n",
      "2012                      NaN    7/9    NaN\n",
      "2013                      NaN    7/9    NaN\n",
      "2014                      NaN    6/9    NaN\n",
      "2015                      NaN    7/9    NaN\n",
      "2016                      NaN    7/9    NaN\n",
      "2017                      NaN    NaN   7/11\n",
      "2018                      NaN    NaN   7/11\n",
      "2019                      NaN    NaN   5/11\n",
      "2020                      NaN    NaN   7/11\n",
      "2021                      NaN    NaN   7/11\n",
      "----------------------------------------------- #\n",
      "Crop type: Soybean (unspecified)\n",
      "----------------------------------------------- #\n",
      "season_name              Main       \n",
      "crop_production_system   none       \n",
      "fnid_short             1993A1 2016A1\n",
      "year                                \n",
      "2004                      5/9    NaN\n",
      "2005                      1/9    NaN\n",
      "2006                      3/9    NaN\n",
      "2007                      2/9    NaN\n",
      "2008                      4/9    NaN\n",
      "2009                      2/9    NaN\n",
      "2010                      NaN    NaN\n",
      "2011                      3/9    NaN\n",
      "2012                      2/9    NaN\n",
      "2013                      2/9    NaN\n",
      "2014                      2/9    NaN\n",
      "2015                      2/9    NaN\n",
      "2016                      3/9    NaN\n",
      "2017                      NaN   3/11\n",
      "2018                      NaN   3/11\n",
      "2019                      NaN   3/11\n",
      "2020                      NaN    NaN\n",
      "2021                      NaN   3/11\n",
      "----------------------------------------------- #\n",
      "Crop type: Sugarcane (for sugar)\n",
      "----------------------------------------------- #\n",
      "season_name              Main       \n",
      "crop_production_system   none       \n",
      "fnid_short             1980A1 1993A1\n",
      "year                                \n",
      "1984                      1/8    NaN\n",
      "1985                      1/8    NaN\n",
      "1986                      1/8    NaN\n",
      "1987                      1/8    NaN\n",
      "1988                      1/8    NaN\n",
      "1989                      1/8    NaN\n",
      "1990                      1/8    NaN\n",
      "1991                      1/8    NaN\n",
      "1992                      1/8    NaN\n",
      "1993                      1/8    NaN\n",
      "1994                      NaN    1/9\n",
      "1995                      NaN    1/9\n",
      "1996                      NaN    1/9\n",
      "1997                      NaN    1/9\n",
      "1998                      NaN    NaN\n",
      "1999                      NaN    NaN\n",
      "2000                      NaN    1/9\n",
      "2001                      NaN    1/9\n",
      "2002                      NaN    1/9\n",
      "2003                      NaN    1/9\n",
      "2004                      NaN    1/9\n",
      "2005                      NaN    1/9\n",
      "2006                      NaN    1/9\n",
      "2007                      NaN    1/9\n",
      "2008                      NaN    NaN\n",
      "2009                      NaN    1/9\n",
      "2010                      NaN    NaN\n",
      "2011                      NaN    1/9\n",
      "2012                      NaN    1/9\n",
      "2013                      NaN    1/9\n",
      "----------------------------------------------- #\n",
      "Crop type: Sweet Potatoes\n",
      "----------------------------------------------- #\n",
      "season_name              Main       \n",
      "crop_production_system   none       \n",
      "fnid_short             1980A1 1993A1\n",
      "year                                \n",
      "1990                      3/8    NaN\n",
      "1991                      NaN    NaN\n",
      "1992                      NaN    NaN\n",
      "1993                      2/8    NaN\n",
      "1994                      NaN    1/9\n",
      "1995                      NaN    1/9\n",
      "1996                      NaN    1/9\n",
      "1997                      NaN    NaN\n",
      "1998                      NaN    NaN\n",
      "1999                      NaN    NaN\n",
      "2000                      NaN    NaN\n",
      "2001                      NaN    2/9\n",
      "2002                      NaN    NaN\n",
      "2003                      NaN    NaN\n",
      "2004                      NaN    NaN\n",
      "2005                      NaN    NaN\n",
      "2006                      NaN    NaN\n",
      "2007                      NaN    NaN\n",
      "2008                      NaN    NaN\n",
      "2009                      NaN    NaN\n",
      "2010                      NaN    NaN\n",
      "2011                      NaN    NaN\n",
      "2012                      NaN    NaN\n",
      "2013                      NaN    3/9\n",
      "----------------------------------------------- #\n",
      "Crop type: Wheat Grain\n",
      "----------------------------------------------- #\n",
      "season_name              Main              \n",
      "crop_production_system   none              \n",
      "fnid_short             1980A1 1993A1 2016A1\n",
      "year                                       \n",
      "1987                      1/8    NaN    NaN\n",
      "1988                      NaN    NaN    NaN\n",
      "1989                      NaN    NaN    NaN\n",
      "1990                      NaN    NaN    NaN\n",
      "1991                      1/8    NaN    NaN\n",
      "1992                      1/8    NaN    NaN\n",
      "1993                      NaN    NaN    NaN\n",
      "1994                      NaN    1/9    NaN\n",
      "1995                      NaN    1/9    NaN\n",
      "1996                      NaN    1/9    NaN\n",
      "1997                      NaN    2/9    NaN\n",
      "1998                      NaN    1/9    NaN\n",
      "1999                      NaN    2/9    NaN\n",
      "2000                      NaN    2/9    NaN\n",
      "2001                      NaN    2/9    NaN\n",
      "2002                      NaN    2/9    NaN\n",
      "2003                      NaN    2/9    NaN\n",
      "2004                      NaN    2/9    NaN\n",
      "2005                      NaN    1/9    NaN\n",
      "2006                      NaN    3/9    NaN\n",
      "2007                      NaN    3/9    NaN\n",
      "2008                      NaN    3/9    NaN\n",
      "2009                      NaN    2/9    NaN\n",
      "2010                      NaN    NaN    NaN\n",
      "2011                      NaN    3/9    NaN\n",
      "2012                      NaN    3/9    NaN\n",
      "2013                      NaN    3/9    NaN\n",
      "2014                      NaN    3/9    NaN\n",
      "2015                      NaN    3/9    NaN\n",
      "2016                      NaN    2/9    NaN\n",
      "2017                      NaN    NaN   2/11\n",
      "2018                      NaN    NaN   1/11\n",
      "2019                      NaN    NaN   3/11\n",
      "2020                      NaN    NaN   2/11\n",
      "2021                      NaN    NaN   1/11\n",
      "----------------------------------------------- #\n",
      "Crop type: Yams\n",
      "----------------------------------------------- #\n",
      "season_name              Main       \n",
      "crop_production_system   none       \n",
      "fnid_short             1980A1 1993A1\n",
      "year                                \n",
      "1985                      1/8    NaN\n",
      "1986                      2/8    NaN\n",
      "1987                      1/8    NaN\n",
      "1988                      2/8    NaN\n",
      "1989                      2/8    NaN\n",
      "1990                      2/8    NaN\n",
      "1991                      NaN    NaN\n",
      "1992                      2/8    NaN\n",
      "1993                      NaN    NaN\n",
      "1994                      NaN    1/9\n",
      "----------------------------------------------- #\n",
      "../figures/ML_admin_shapes.png is saved.\n"
     ]
    }
   ],
   "source": [
    "# Manual Pre-processing before Sweeping --------- #\n",
    "# 1. Default setting \n",
    "# a) None-type crop production system\n",
    "df.loc[df['crop_production_system'].isna(), 'crop_production_system'] = 'none'\n",
    "df.loc[df['crop_production_system'] == '', 'crop_production_system'] = 'none'\n",
    "# b) None-type population group\n",
    "df.loc[df['population_group'].isna(), 'population_group'] = 'none'\n",
    "df.loc[df['population_group'] == '', 'population_group'] = 'none'\n",
    "# 2. Manual setting\n",
    "# a) Add admin names to reporting units\n",
    "admin_level = 'admin_1'\n",
    "reporting_unit = df.loc[df['fnid'].map(lambda x: x[6] != 'A'), 'fnid'].unique()\n",
    "df.loc[df.fnid.isin(reporting_unit),admin_level] = df.loc[df.fnid.isin(reporting_unit), 'locality_name'].map(lambda x: x.split(' ')[0])\n",
    "# ----------------------------------------------- #\n",
    "\n",
    "# FDW Production Data Inspection ---------------- #\n",
    "df, df_raw = FDW_PD_Sweeper(df, area_priority='Area Planted')\n",
    "table_dict = FDW_PD_AvalTable(df, shape_all)\n",
    "# ----------------------------------------------- #\n",
    "\n",
    "# FEWS NET Shapefile comparison ----------------- #\n",
    "shape_used = pd.concat([ML_Admin1_1980, ML_Admin1_1993, ML_Admin1_2016], axis=0)\n",
    "PlotAdminShapes(shape_used, label=True)\n",
    "# ----------------------------------------------- #"
   ]
  },
  {
   "attachments": {},
   "cell_type": "markdown",
   "id": "5496ca39-6587-48cc-b90b-af1c11138a76",
   "metadata": {},
   "source": [
    "- Mali crop seasonal calendar\n",
    "\n",
    "![FEWS NET](https://fews.net/sites/default/files/styles/large_width_880/public/2023-03/seasonal-calendar-mali.png?itok=KHYcSEwF)\n",
    "\n",
    "- FDW data consists of `ML1980A1`, `ML1993A1`, and `ML2016A1`.\n",
    "\n",
    "| Year | Admin-1 | # units  | Admin-2  | # units |\n",
    "| :---: | :----:  | :----:   | :----:   | :---:  |\n",
    "| 1980  | **`ML1980A1`** | 8        | - | -      |\n",
    "| 1993  | **`ML1993A1`** | 9  | ML1993A2 | 50      |\n",
    "| 2001  | ML2001A1 | 9  | ML2001A2 | 50     |\n",
    "| 2016  | **`ML2016A1`**| 11  | - | -      |\n",
    "\n",
    "- Comparison between admin boundaries.\n",
    "\n",
    "![image](https://github.com/chc-ucsb/gscd/blob/main/figures/ML_admin_shapes.png?raw=true)\n",
    "\n",
    "- In 1993, 1 district is divided and added.\n",
    "\n",
    "| 1980-1992 |1993-2015|\n",
    "| :---:|:---:|\n",
    "|ML1980A110 (Gao) | ML1993A107 (Gao), ML1993A108 (Kidal)|\n",
    "\n",
    "- In 2016, 2 district is divided and added.\n",
    "\n",
    "| 1993-2015 |2016-present|\n",
    "| :---:|:---:|\n",
    "|ML1993A107 (Gao) | ML2016A107 (Gao), ML2016A110 (Menaka)|\n",
    "|ML1993A106 (Tombouctou) | ML2016A106 (Tombouctou), ML2016A111 (Taoudenit)|\n",
    "\n",
    "- **`ML2016A1`** is used to represent current admin-level 1 crop data.\n",
    "- Mali has a single crop season: `Main`.\n",
    "- Mali has no population group(s)."
   ]
  },
  {
   "cell_type": "code",
   "execution_count": 4,
   "id": "83637a50-9c46-4433-a102-65abf9ba79fa",
   "metadata": {},
   "outputs": [],
   "source": [
    "# Define the latest shapefile ------------------- #\n",
    "latest_level = 1\n",
    "shape_latest = ML_Admin1_2016.copy().to_crs('epsg:4326')\n",
    "# ----------------------------------------------- #\n",
    "\n",
    "# Validation of FNIDs and Names ----------------- #\n",
    "df = FDW_PD_ValidateFnidName(df, shape_used, shape_latest)\n",
    "# ----------------------------------------------- #\n",
    "\n",
    "# FDW Production Data Compiling ----------------- #\n",
    "area, prod = FDW_PD_Compiling(df, shape_used)\n",
    "area_all, prod_all = area.copy(), prod.copy()\n",
    "mdx_pss = area.columns.droplevel([0,1]).unique()\n",
    "# ----------------------------------------------- #"
   ]
  },
  {
   "cell_type": "code",
   "execution_count": 5,
   "id": "22f36ad7-e767-42b7-a414-295eca560986",
   "metadata": {},
   "outputs": [
    {
     "name": "stdout",
     "output_type": "stream",
     "text": [
      "CBR is considered for 'ML1980A110' as no record found in: ['ML2016A110']\n",
      "CBR is considered for 'ML1980A106' as no record found in: ['ML2016A111']\n",
      "CBR is considered for 'ML1993A107' as no record found in: ['ML2016A110']\n",
      "CBR is considered for 'ML1993A106' as no record found in: ['ML2016A111']\n"
     ]
    }
   ],
   "source": [
    "# Link admin boundaries ------------------------- #\n",
    "link_1980, over_1980 = FDW_PD_CreateAdminLink(ML_Admin1_1980, ML_Admin1_2016, 'ADMIN1', 'ADMIN1', prod, epsg)\n",
    "link_1980['ML1980A109'].update(method='PBR')\n",
    "link_1980['ML1980A102'].update(method='PBR', fnids={'ML2016A102': {'name': 'Koulikoro'}})\n",
    "link_1980['ML1980A110'].update(method='PBR')\n",
    "link_1980['ML1980A106'].update(method='PBR')\n",
    "assert all(np.unique([v['method'] for k,v in link_1980.items()]) == 'PBR')\n",
    "link_1993, over_1993 = FDW_PD_CreateAdminLink(ML_Admin1_1993, ML_Admin1_2016, 'ADMIN1', 'ADMIN1', prod, epsg)\n",
    "link_1993['ML1993A109'].update(method='PBR')\n",
    "link_1993['ML1993A102'].update(method='PBR', fnids={'ML2016A102': {'name': 'Koulikoro'}})\n",
    "link_1993['ML1993A106'].update(method='PBR')\n",
    "link_1993['ML1993A107'].update(method='PBR')\n",
    "link_1993['ML1993A108'].update(method='PBR')\n",
    "assert all(np.unique([v['method'] for k,v in link_1993.items()]) == 'PBR')\n",
    "# Crop specific ratios\n",
    "link_ratio_1980 = FDW_PD_RatioAdminLink(link_1980, prod, over_1980, mdx_pss)\n",
    "link_ratio_1993 = FDW_PD_RatioAdminLink(link_1993, prod, over_1993, mdx_pss)\n",
    "# Merge link_ratio\n",
    "assert link_ratio_1980.keys() == link_ratio_1993.keys()\n",
    "link_merged = [link_ratio_1980, link_ratio_1993]\n",
    "fnids_new = list(link_merged[0].keys())\n",
    "link_ratio = dict()\n",
    "for fnid in fnids_new:\n",
    "    container = []\n",
    "    for link in link_merged:\n",
    "        container.append(link[fnid])\n",
    "    link_ratio[fnid] = pd.concat(container, axis=1)\n",
    "# Add current unit to link_ratio\n",
    "for fnid_new in link_ratio.keys():\n",
    "    link_ratio[fnid_new][fnid_new] = 1.0\n",
    "    link_ratio[fnid_new] = link_ratio[fnid_new].sort_index(axis=1, ascending=False)\n",
    "# Connect data with AdminLink\n",
    "area_new, prod_new = FDW_PD_ConnectAdminLink(link_ratio, area, prod, validation=False) # Okay to ignore the validation\n",
    "# ----------------------------------------------- #"
   ]
  },
  {
   "cell_type": "code",
   "execution_count": 6,
   "id": "0ad8d3ee-7e34-4afc-a549-e7a1540f759f",
   "metadata": {},
   "outputs": [
    {
     "name": "stdout",
     "output_type": "stream",
     "text": [
      "All [season_name, product, crop_production_system] are in the external crop calendar.\n",
      "../data/crop/adm_crop_production_ML.csv is saved.\n",
      "../data/crop/adm_crop_production_ML_ratio.npz is saved.\n"
     ]
    }
   ],
   "source": [
    "# Manual correction ----------------------------- #\n",
    "crop_new = prod_new/area_new\n",
    "# ----------------------------------------------- #\n",
    "\n",
    "# Complete long format DataFrame ---------------- #\n",
    "df_area = area_new.T.stack().rename('value').reset_index()\n",
    "df_area['indicator'] = 'area'\n",
    "df_prod = prod_new.T.stack().rename('value').reset_index()\n",
    "df_prod['indicator'] = 'production'\n",
    "df_yield = (prod_new/area_new).T.stack().rename('value').reset_index()\n",
    "df_yield['indicator'] = 'yield'\n",
    "stack = pd.concat([df_area, df_prod, df_yield], axis=0)\n",
    "# Add \"planting year\"\n",
    "cols = ['season_name','product','crop_production_system','planting_month','harvest_year','harvest_month','planting_year']\n",
    "season_table = df[cols].drop_duplicates()\n",
    "stack = stack.merge(season_table, on=cols[:-1])\n",
    "# Add country and admin names\n",
    "stack = stack.merge(df[['fnid','country','country_code','admin_1','admin_2']].drop_duplicates(), on='fnid', how='inner')\n",
    "names = [\n",
    "    'fnid','country','country_code','admin_1','admin_2','name',\n",
    "    'product','season_name','planting_year','planting_month','harvest_year','harvest_month',\n",
    "    'crop_production_system','indicator','value'\n",
    "]\n",
    "stack = stack[names]\n",
    "# ----------------------------------------------- #\n",
    "\n",
    "# Final Processing ------------------------------ #\n",
    "# Manual change of product name\n",
    "product_category_custom = {\n",
    "    'Bambara groundnut': 'Bambara groundnut',\n",
    "    'Barley (Unspecified)': 'Barley',\n",
    "    'Beans (mixed)': 'Beans (mixed)',\n",
    "    'Cowpeas (Mixed)': 'Cowpeas',\n",
    "    'Fonio': 'Fonio',\n",
    "    'Gram (Green)': 'Gram',\n",
    "    'Groundnuts (In Shell)': 'Groundnuts (In Shell)',\n",
    "    'Maize (Corn)': 'Maize',\n",
    "    'Millet': 'Millet',\n",
    "    'Rice (Paddy)': 'Rice',\n",
    "    'Sesame Seed': 'Sesame Seed',\n",
    "    'Sorghum': 'Sorghum',\n",
    "    'Soybean (unspecified)': 'Soybean',\n",
    "    'Sugarcane (for sugar)': 'Sugarcane',\n",
    "    'Sweet Potatoes': 'Sweet Potatoes',\n",
    "    'Wheat Grain': 'Wheat',\n",
    "    'Yams': 'Yams'\n",
    "}\n",
    "stack['product'] = stack['product'].replace(product_category_custom)\n",
    "for f, r in link_ratio.items():\n",
    "    mdx = pd.MultiIndex.from_frame(r.index.to_frame().reset_index(drop=True).replace(product_category_custom))\n",
    "    r.index = mdx\n",
    "    link_ratio[f] = r\n",
    "# Calibration of crop calendar using External Crop Calendar (ECC)\n",
    "ecc = pd.read_csv('../data/crop_calendar/external_crop_calendar.csv')\n",
    "ecc = ecc[ecc['country'] == 'Mali']\n",
    "stack, link_ratio = FDW_PD_CaliSeasonYear(stack, ecc, link_ratio)\n",
    "# None admin names\n",
    "stack.loc[stack['admin_1'].isna(), 'admin_1'] = 'none'\n",
    "stack.loc[stack['admin_2'].isna(), 'admin_2'] = 'none'\n",
    "# ----------------------------------------------- #\n",
    "\n",
    "# Save data\n",
    "fn_out = '../data/crop/adm_crop_production_ML.csv'\n",
    "stack.to_csv(fn_out); print(f'{fn_out} is saved.')\n",
    "save_npz('../data/crop/adm_crop_production_ML_ratio.npz', link_ratio)"
   ]
  },
  {
   "attachments": {},
   "cell_type": "markdown",
   "id": "a4c61e0f-1aef-4f04-8a85-743faadb006c",
   "metadata": {},
   "source": [
    "## Visualization of production data"
   ]
  },
  {
   "cell_type": "code",
   "execution_count": 7,
   "id": "82c788f2-55fa-4a60-9ed6-6ae21ecf8194",
   "metadata": {},
   "outputs": [
    {
     "name": "stdout",
     "output_type": "stream",
     "text": [
      "../figures/ML_bar_natgrainprod_Main.png is saved.\n"
     ]
    },
    {
     "data": {
      "application/vnd.plotly.v1+json": {
       "config": {
        "plotlyServerURL": "https://plot.ly"
       },
       "data": [
        {
         "alignmentgroup": "True",
         "hovertemplate": "product=Maize<br>season_name=Main<br>type=orig_unit<br>year=%{x}<br>value=%{y}<extra></extra>",
         "legendgroup": "Maize",
         "marker": {
          "color": "#636efa",
          "pattern": {
           "shape": ""
          }
         },
         "name": "Maize",
         "offsetgroup": "Maize",
         "orientation": "v",
         "showlegend": true,
         "textposition": "auto",
         "type": "bar",
         "x": [
          1982,
          1983,
          1984,
          1985,
          1986,
          1987,
          1988,
          1989,
          1990,
          1991,
          1992,
          1993,
          1994,
          1995,
          1996,
          1997,
          1998,
          1999,
          2000,
          2001,
          2002,
          2003,
          2004,
          2005,
          2006,
          2007,
          2008,
          2009,
          2011,
          2012,
          2013,
          2014,
          2015,
          2016,
          2017,
          2018,
          2019,
          2020,
          2021
         ],
         "xaxis": "x2",
         "y": [
          83969,
          89311,
          101440,
          168205,
          213423,
          178609,
          214519,
          225394,
          185579,
          192530,
          192530,
          283373,
          322493,
          264460,
          289760,
          337713,
          385051,
          613892,
          214588,
          301931,
          365174,
          454758,
          459463,
          634594,
          706736.62118063,
          689918,
          557741,
          816378,
          1332484,
          1713737,
          1488769,
          1974010,
          2276036,
          2534380,
          2534380,
          3599476,
          3994493,
          3816536.32024199,
          3393204
         ],
         "yaxis": "y2"
        },
        {
         "alignmentgroup": "True",
         "hovertemplate": "product=Maize<br>season_name=Main<br>type=percent<br>year=%{x}<br>value=%{y}<extra></extra>",
         "legendgroup": "Maize",
         "marker": {
          "color": "#636efa",
          "pattern": {
           "shape": ""
          }
         },
         "name": "Maize",
         "offsetgroup": "Maize",
         "orientation": "v",
         "showlegend": false,
         "textposition": "auto",
         "type": "bar",
         "x": [
          1982,
          1983,
          1984,
          1985,
          1986,
          1987,
          1988,
          1989,
          1990,
          1991,
          1992,
          1993,
          1994,
          1995,
          1996,
          1997,
          1998,
          1999,
          2000,
          2001,
          2002,
          2003,
          2004,
          2005,
          2006,
          2007,
          2008,
          2009,
          2011,
          2012,
          2013,
          2014,
          2015,
          2016,
          2017,
          2018,
          2019,
          2020,
          2021
         ],
         "xaxis": "x",
         "y": [
          7.011083020243877,
          6.707472315370086,
          7.34466043895647,
          7.85690176539615,
          10.171917380903926,
          8.834835435243846,
          7.938100878590378,
          8.989263247651223,
          9.124320146477643,
          9.295393438040286,
          9.203305419269334,
          11.30648798170597,
          10.65315673925065,
          9.780372464808448,
          10.890449058135514,
          16.2018742021112,
          14.570319535870023,
          18.561794437013045,
          7.316653204317544,
          9.69880886185451,
          11.91266556701325,
          10.937603722014897,
          13.33629106455321,
          15.280614794115488,
          16.09599680115346,
          14.838733905104009,
          12.072161849015348,
          14.336266868264877,
          20.632408577583973,
          22.733142514116942,
          21.612683529807963,
          25.887608343744358,
          26.30357323353233,
          26.413778725504173,
          26.413774871454475,
          37.00872697983847,
          36.011812724686564,
          34.503023911668265,
          30.67370706300776
         ],
         "yaxis": "y"
        },
        {
         "alignmentgroup": "True",
         "hovertemplate": "product=Millet<br>season_name=Main<br>type=orig_unit<br>year=%{x}<br>value=%{y}<extra></extra>",
         "legendgroup": "Millet",
         "marker": {
          "color": "#EF553B",
          "pattern": {
           "shape": ""
          }
         },
         "name": "Millet",
         "offsetgroup": "Millet",
         "orientation": "v",
         "showlegend": true,
         "textposition": "auto",
         "type": "bar",
         "x": [
          1982,
          1983,
          1984,
          1985,
          1986,
          1987,
          1988,
          1989,
          1990,
          1991,
          1992,
          1993,
          1994,
          1995,
          1996,
          1997,
          1998,
          1999,
          2000,
          2001,
          2002,
          2003,
          2004,
          2005,
          2006,
          2007,
          2008,
          2009,
          2011,
          2012,
          2013,
          2014,
          2015,
          2016,
          2017,
          2018,
          2019,
          2020,
          2021
         ],
         "xaxis": "x2",
         "y": [
          502289.9,
          544304,
          517564.412,
          856166,
          805763,
          693526,
          999901,
          841793,
          739126,
          603248,
          582297,
          708062,
          897592,
          706660,
          738840,
          641088,
          811815,
          818905,
          759114,
          792548,
          795146,
          1260498,
          974673,
          1157810,
          1128774.17910655,
          1175107,
          1253259,
          1449592,
          1458783,
          1772275,
          1147757,
          1432218,
          1864301,
          1927105,
          1927105,
          1500677,
          1773081,
          1878526.5292883702,
          1940727
         ],
         "yaxis": "y2"
        },
        {
         "alignmentgroup": "True",
         "hovertemplate": "product=Millet<br>season_name=Main<br>type=percent<br>year=%{x}<br>value=%{y}<extra></extra>",
         "legendgroup": "Millet",
         "marker": {
          "color": "#EF553B",
          "pattern": {
           "shape": ""
          }
         },
         "name": "Millet",
         "offsetgroup": "Millet",
         "orientation": "v",
         "showlegend": false,
         "textposition": "auto",
         "type": "bar",
         "x": [
          1982,
          1983,
          1984,
          1985,
          1986,
          1987,
          1988,
          1989,
          1990,
          1991,
          1992,
          1993,
          1994,
          1995,
          1996,
          1997,
          1998,
          1999,
          2000,
          2001,
          2002,
          2003,
          2004,
          2005,
          2006,
          2007,
          2008,
          2009,
          2011,
          2012,
          2013,
          2014,
          2015,
          2016,
          2017,
          2018,
          2019,
          2020,
          2021
         ],
         "xaxis": "x",
         "y": [
          41.93924173361592,
          40.87854811999865,
          37.473726946255596,
          39.99174909706703,
          38.40333358911312,
          34.30503546888971,
          37.00052212905802,
          33.572760929883074,
          36.34043858726167,
          29.124954556229817,
          27.834919938317537,
          28.25143712810569,
          29.650839751242565,
          26.134001383882392,
          27.768841048153103,
          30.756373395406943,
          30.71905787548227,
          24.760619577127844,
          25.882965872007325,
          25.4587027030847,
          25.939164274971155,
          30.316844599528398,
          28.290684605204923,
          27.879319083973144,
          25.70794413592448,
          25.27416313681489,
          27.12647176150781,
          25.456023756276895,
          22.588043745391072,
          23.509663471820122,
          16.66216102707794,
          18.782426961799008,
          21.545255823215253,
          20.08464596895995,
          20.08464303839767,
          15.42950845565384,
          15.984972540369949,
          16.982635646614312,
          17.54368186742379
         ],
         "yaxis": "y"
        },
        {
         "alignmentgroup": "True",
         "hovertemplate": "product=Rice<br>season_name=Main<br>type=orig_unit<br>year=%{x}<br>value=%{y}<extra></extra>",
         "legendgroup": "Rice",
         "marker": {
          "color": "#00cc96",
          "pattern": {
           "shape": ""
          }
         },
         "name": "Rice",
         "offsetgroup": "Rice",
         "orientation": "v",
         "showlegend": true,
         "textposition": "auto",
         "type": "bar",
         "x": [
          1982,
          1983,
          1984,
          1985,
          1986,
          1987,
          1988,
          1989,
          1990,
          1991,
          1992,
          1993,
          1994,
          1995,
          1996,
          1998,
          1999,
          2000,
          2001,
          2002,
          2003,
          2004,
          2005,
          2006,
          2007,
          2008,
          2009,
          2011,
          2012,
          2013,
          2014,
          2015,
          2016,
          2017,
          2018,
          2019,
          2020,
          2021
         ],
         "xaxis": "x2",
         "y": [
          152408,
          152634,
          109354,
          201650,
          225138,
          242013.9,
          275111,
          313555,
          256376,
          410018,
          402754.78,
          411202.66,
          469127,
          462700,
          613970,
          705213,
          727060,
          742808,
          940938,
          693203,
          938217,
          718086,
          945824,
          1053236.2448833,
          1082383,
          1304618,
          1614408,
          1588346,
          1914867,
          2275982,
          2251031,
          2246012,
          2811051,
          2811051,
          2707558,
          3184724,
          3196336.33077932,
          3014106
         ],
         "yaxis": "y2"
        },
        {
         "alignmentgroup": "True",
         "hovertemplate": "product=Rice<br>season_name=Main<br>type=percent<br>year=%{x}<br>value=%{y}<extra></extra>",
         "legendgroup": "Rice",
         "marker": {
          "color": "#00cc96",
          "pattern": {
           "shape": ""
          }
         },
         "name": "Rice",
         "offsetgroup": "Rice",
         "orientation": "v",
         "showlegend": false,
         "textposition": "auto",
         "type": "bar",
         "x": [
          1982,
          1983,
          1984,
          1985,
          1986,
          1987,
          1988,
          1989,
          1990,
          1991,
          1992,
          1993,
          1994,
          1995,
          1996,
          1998,
          1999,
          2000,
          2001,
          2002,
          2003,
          2004,
          2005,
          2006,
          2007,
          2008,
          2009,
          2011,
          2012,
          2013,
          2014,
          2015,
          2016,
          2017,
          2018,
          2019,
          2020,
          2021
         ],
         "xaxis": "x",
         "y": [
          12.725471792558313,
          11.463182915701289,
          7.917665591893195,
          9.41912690462313,
          10.730264007637173,
          11.971137958006373,
          10.180258489037696,
          12.505339261991356,
          12.605180014297698,
          19.795764954440358,
          19.25245545842533,
          16.406848688250207,
          15.497029273858468,
          17.111768658651094,
          23.075679901378596,
          26.685241048197533,
          21.983570829029706,
          25.326991879288247,
          30.225375376677643,
          22.61359108000648,
          22.565509020748735,
          20.84303612125624,
          22.774832738773902,
          23.98756017507632,
          23.279858360570664,
          28.238124231746824,
          28.350327816601823,
          24.59421924358656,
          25.401181398650763,
          33.04077307194023,
          29.52052365369335,
          25.95659344816708,
          29.297295235958,
          29.297290961172745,
          27.83829501962994,
          28.7114495551287,
          28.896166470550007,
          27.246756900219992
         ],
         "yaxis": "y"
        },
        {
         "alignmentgroup": "True",
         "hovertemplate": "product=Sorghum<br>season_name=Main<br>type=orig_unit<br>year=%{x}<br>value=%{y}<extra></extra>",
         "legendgroup": "Sorghum",
         "marker": {
          "color": "#ab63fa",
          "pattern": {
           "shape": ""
          }
         },
         "name": "Sorghum",
         "offsetgroup": "Sorghum",
         "orientation": "v",
         "showlegend": true,
         "textposition": "auto",
         "type": "bar",
         "x": [
          1982,
          1983,
          1984,
          1985,
          1986,
          1987,
          1988,
          1989,
          1990,
          1991,
          1992,
          1993,
          1994,
          1995,
          1996,
          1997,
          1998,
          1999,
          2000,
          2001,
          2002,
          2003,
          2004,
          2005,
          2006,
          2007,
          2008,
          2009,
          2011,
          2012,
          2013,
          2014,
          2015,
          2016,
          2017,
          2018,
          2019,
          2020,
          2021
         ],
         "xaxis": "x2",
         "y": [
          293359,
          427458,
          369818,
          452055,
          464565,
          513176,
          676929,
          672282,
          550164,
          602204,
          602233,
          775168,
          746217,
          710270,
          540260,
          558802,
          598974,
          688830,
          564662,
          517748,
          641848,
          727632,
          664083,
          629127,
          769680.45747491,
          900790,
          969597,
          969064,
          1225530,
          1212440,
          837225,
          1152988,
          1527455,
          1637913,
          1637913,
          1428698,
          1443385,
          1511110.41200509,
          1801016
         ],
         "yaxis": "y2"
        },
        {
         "alignmentgroup": "True",
         "hovertemplate": "product=Sorghum<br>season_name=Main<br>type=percent<br>year=%{x}<br>value=%{y}<extra></extra>",
         "legendgroup": "Sorghum",
         "marker": {
          "color": "#ab63fa",
          "pattern": {
           "shape": ""
          }
         },
         "name": "Sorghum",
         "offsetgroup": "Sorghum",
         "orientation": "v",
         "showlegend": false,
         "textposition": "auto",
         "type": "bar",
         "x": [
          1982,
          1983,
          1984,
          1985,
          1986,
          1987,
          1988,
          1989,
          1990,
          1991,
          1992,
          1993,
          1994,
          1995,
          1996,
          1997,
          1998,
          1999,
          2000,
          2001,
          2002,
          2003,
          2004,
          2005,
          2006,
          2007,
          2008,
          2009,
          2011,
          2012,
          2013,
          2014,
          2015,
          2016,
          2017,
          2018,
          2019,
          2020,
          2021
         ],
         "xaxis": "x",
         "y": [
          24.49432890394936,
          32.103130644416325,
          26.77629765589515,
          21.115613254993352,
          22.141553619148976,
          25.384082041312006,
          25.049206315726373,
          26.812248217155116,
          27.049787255383023,
          29.074549992009622,
          28.78789919785399,
          30.92894409771945,
          24.650354154953448,
          26.267507942900615,
          20.305335478148443,
          26.808679878737696,
          22.665160131198757,
          20.827638838831092,
          19.252875424797068,
          16.63141211272591,
          20.938293988225666,
          17.500627743672776,
          19.275554678008216,
          15.148972955271391,
          17.529548929742134,
          19.374162022702176,
          20.986680040233253,
          17.017558185580985,
          18.976314675513166,
          16.08331459834032,
          12.154121269480672,
          15.120542332124517,
          17.652411672497763,
          17.070633272684727,
          17.070630781898775,
          14.68944207952526,
          13.012642733288486,
          13.661046117144423,
          16.280729717337948
         ],
         "yaxis": "y"
        },
        {
         "alignmentgroup": "True",
         "hovertemplate": "product=Wheat<br>season_name=Main<br>type=orig_unit<br>year=%{x}<br>value=%{y}<extra></extra>",
         "legendgroup": "Wheat",
         "marker": {
          "color": "#FFA15A",
          "pattern": {
           "shape": ""
          }
         },
         "name": "Wheat",
         "offsetgroup": "Wheat",
         "orientation": "v",
         "showlegend": true,
         "textposition": "auto",
         "type": "bar",
         "x": [
          1987,
          1991,
          1992,
          1994,
          1995,
          1996,
          1997,
          1998,
          1999,
          2000,
          2001,
          2002,
          2003,
          2004,
          2005,
          2006,
          2007,
          2008,
          2009,
          2011,
          2012,
          2013,
          2014,
          2015,
          2016,
          2017,
          2018,
          2019,
          2020,
          2021
         ],
         "xaxis": "x2",
         "y": [
          1425,
          1256,
          1256,
          2210,
          6150,
          3086,
          2638,
          6630,
          7495,
          6075,
          9180,
          4651.68,
          5701,
          8942,
          4805,
          8565,
          8585,
          13016,
          15247,
          33842,
          40319,
          27430,
          45668,
          35756,
          40137,
          40137,
          28015,
          29145,
          8226,
          37124
         ],
         "yaxis": "y2"
        },
        {
         "alignmentgroup": "True",
         "hovertemplate": "product=Wheat<br>season_name=Main<br>type=percent<br>year=%{x}<br>value=%{y}<extra></extra>",
         "legendgroup": "Wheat",
         "marker": {
          "color": "#FFA15A",
          "pattern": {
           "shape": ""
          }
         },
         "name": "Wheat",
         "offsetgroup": "Wheat",
         "orientation": "v",
         "showlegend": false,
         "textposition": "auto",
         "type": "bar",
         "x": [
          1987,
          1991,
          1992,
          1994,
          1995,
          1996,
          1997,
          1998,
          1999,
          2000,
          2001,
          2002,
          2003,
          2004,
          2005,
          2006,
          2007,
          2008,
          2009,
          2011,
          2012,
          2013,
          2014,
          2015,
          2016,
          2017,
          2018,
          2019,
          2020,
          2021
         ],
         "xaxis": "x",
         "y": [
          0.07048715627556551,
          0.06063997381280112,
          0.06003922301252939,
          0.0730046121737338,
          0.2274419218731451,
          0.1159853871942511,
          0.12655877666885593,
          0.25087902257835526,
          0.2266207236865976,
          0.20713492001523423,
          0.2948854716866582,
          0.15174658700993005,
          0.13711749726053624,
          0.2595488966450722,
          0.11570130522148793,
          0.19506872641122716,
          0.18464590078142318,
          0.28172800390644365,
          0.26774981802600584,
          0.5240152760427869,
          0.5348414447646757,
          0.3982054363186179,
          0.5989003590873995,
          0.4132230617346043,
          0.41831526318293266,
          0.41831520214631124,
          0.288041783398521,
          0.26275281540385476,
          0.07436634971664235,
          0.33559158276575773
         ],
         "yaxis": "y"
        },
        {
         "alignmentgroup": "True",
         "hovertemplate": "product=Barley<br>season_name=Main<br>type=orig_unit<br>year=%{x}<br>value=%{y}<extra></extra>",
         "legendgroup": "Barley",
         "marker": {
          "color": "#19d3f3",
          "pattern": {
           "shape": ""
          }
         },
         "name": "Barley",
         "offsetgroup": "Barley",
         "orientation": "v",
         "showlegend": true,
         "textposition": "auto",
         "type": "bar",
         "x": [
          1997,
          1998,
          1999,
          2000,
          2001,
          2002
         ],
         "xaxis": "x2",
         "y": [
          46,
          51,
          57,
          133,
          75,
          56
         ],
         "yaxis": "y2"
        },
        {
         "alignmentgroup": "True",
         "hovertemplate": "product=Barley<br>season_name=Main<br>type=percent<br>year=%{x}<br>value=%{y}<extra></extra>",
         "legendgroup": "Barley",
         "marker": {
          "color": "#19d3f3",
          "pattern": {
           "shape": ""
          }
         },
         "name": "Barley",
         "offsetgroup": "Barley",
         "orientation": "v",
         "showlegend": false,
         "textposition": "auto",
         "type": "bar",
         "x": [
          1997,
          1998,
          1999,
          2000,
          2001,
          2002
         ],
         "xaxis": "x",
         "y": [
          0.0022068626712537427,
          0.0019298386352181172,
          0.001723466477669922,
          0.004534805656300601,
          0.0024091950301197563,
          0.0018268257645745372
         ],
         "yaxis": "y"
        },
        {
         "alignmentgroup": "True",
         "hovertemplate": "product=Fonio<br>season_name=Main<br>type=orig_unit<br>year=%{x}<br>value=%{y}<extra></extra>",
         "legendgroup": "Fonio",
         "marker": {
          "color": "#FF6692",
          "pattern": {
           "shape": ""
          }
         },
         "name": "Fonio",
         "offsetgroup": "Fonio",
         "orientation": "v",
         "showlegend": true,
         "textposition": "auto",
         "type": "bar",
         "x": [
          1982,
          1983,
          1984,
          1985,
          1986,
          1987,
          1988,
          1989,
          1990,
          1991,
          1992,
          1993,
          1994,
          1995,
          1996,
          1997,
          1998,
          1999,
          2000,
          2001,
          2002,
          2003,
          2004,
          2005,
          2006,
          2007,
          2008,
          2009,
          2011,
          2012,
          2013,
          2014,
          2015,
          2016,
          2017,
          2018,
          2019,
          2020,
          2021
         ],
         "xaxis": "x2",
         "y": [
          37807,
          23537,
          24535,
          20486,
          17243,
          15589,
          20184,
          18929,
          21568,
          20898,
          20899,
          29735,
          19272,
          22170,
          15000,
          15116,
          15593,
          31253,
          22738,
          21398,
          16321,
          22437,
          19655,
          26598,
          26247.08244361,
          28691,
          21380,
          16611,
          51021,
          21035,
          22090,
          25651,
          20294,
          14626,
          14626,
          46189,
          28149,
          40537.9921088,
          47029
         ],
         "yaxis": "y2"
        },
        {
         "alignmentgroup": "True",
         "hovertemplate": "product=Fonio<br>season_name=Main<br>type=percent<br>year=%{x}<br>value=%{y}<extra></extra>",
         "legendgroup": "Fonio",
         "marker": {
          "color": "#FF6692",
          "pattern": {
           "shape": ""
          }
         },
         "name": "Fonio",
         "offsetgroup": "Fonio",
         "orientation": "v",
         "showlegend": false,
         "textposition": "auto",
         "type": "bar",
         "x": [
          1982,
          1983,
          1984,
          1985,
          1986,
          1987,
          1988,
          1989,
          1990,
          1991,
          1992,
          1993,
          1994,
          1995,
          1996,
          1997,
          1998,
          1999,
          2000,
          2001,
          2002,
          2003,
          2004,
          2005,
          2006,
          2007,
          2008,
          2009,
          2011,
          2012,
          2013,
          2014,
          2015,
          2016,
          2017,
          2018,
          2019,
          2020,
          2021
         ],
         "xaxis": "x",
         "y": [
          3.1567366021550844,
          1.7676856813479382,
          1.7764318204830143,
          0.9569066886591095,
          0.8218156965225228,
          0.7711047573191514,
          0.7468924810085269,
          0.7549347543181717,
          1.0604289112411953,
          1.0089603286145843,
          0.999012517308003,
          1.186416560985087,
          0.6366266451638904,
          0.8199003915329475,
          0.5637656538929897,
          0.7251942638841646,
          0.5900387027246294,
          0.9449736460810187,
          0.7752812858117524,
          0.6873594033933673,
          0.5324218447075182,
          0.5396430952525262,
          0.5705025233235175,
          0.6404627089034622,
          0.5977799117671317,
          0.6170850948537929,
          0.4627646530055136,
          0.29170277610218287,
          0.7900178298853209,
          0.2790344450662207,
          0.3206838530178005,
          0.3363929471610511,
          0.23453263270058344,
          0.1524348864965885,
          0.15243486425472627,
          0.47490137188628545,
          0.2537735117791425,
          0.3664797590534292,
          0.42513028083964066
         ],
         "yaxis": "y"
        },
        {
         "alignmentgroup": "True",
         "hovertemplate": "product=Bambara groundnut<br>season_name=Main<br>type=orig_unit<br>year=%{x}<br>value=%{y}<extra></extra>",
         "legendgroup": "Bambara groundnut",
         "marker": {
          "color": "#B6E880",
          "pattern": {
           "shape": ""
          }
         },
         "name": "Bambara groundnut",
         "offsetgroup": "Bambara groundnut",
         "orientation": "v",
         "showlegend": true,
         "textposition": "auto",
         "type": "bar",
         "x": [
          1984,
          1985,
          1986,
          1987,
          1988,
          1989,
          1990,
          1992,
          1993,
          1994,
          1995,
          1996,
          1997,
          1998,
          1999,
          2000,
          2002,
          2003,
          2004,
          2005,
          2006,
          2007,
          2008,
          2009,
          2011,
          2012,
          2013,
          2014,
          2015,
          2016,
          2017,
          2018,
          2019,
          2020,
          2021
         ],
         "xaxis": "x2",
         "y": [
          10115,
          16804,
          2107,
          8540,
          11620,
          7505,
          17883,
          16332,
          11024,
          5880,
          9604,
          7165,
          8399,
          9321,
          21717,
          16562,
          4367,
          32809,
          10766,
          17169,
          18049.43638038,
          12929,
          24558,
          24978,
          19177,
          24786,
          20383,
          25295,
          26617.83036,
          25962.5,
          25963,
          24616,
          27381,
          26076,
          33262
         ],
         "yaxis": "y2"
        },
        {
         "alignmentgroup": "True",
         "hovertemplate": "product=Bambara groundnut<br>season_name=Main<br>type=percent<br>year=%{x}<br>value=%{y}<extra></extra>",
         "legendgroup": "Bambara groundnut",
         "marker": {
          "color": "#B6E880",
          "pattern": {
           "shape": ""
          }
         },
         "name": "Bambara groundnut",
         "offsetgroup": "Bambara groundnut",
         "orientation": "v",
         "showlegend": false,
         "textposition": "auto",
         "type": "bar",
         "x": [
          1984,
          1985,
          1986,
          1987,
          1988,
          1989,
          1990,
          1992,
          1993,
          1994,
          1995,
          1996,
          1997,
          1998,
          1999,
          2000,
          2002,
          2003,
          2004,
          2005,
          2006,
          2007,
          2008,
          2009,
          2011,
          2012,
          2013,
          2014,
          2015,
          2016,
          2017,
          2018,
          2019,
          2020,
          2021
         ],
         "xaxis": "x",
         "y": [
          0.7323663282733113,
          0.7849194570061347,
          0.10042136940050778,
          0.42242829094268736,
          0.4299886360146196,
          0.2993177310559395,
          0.8792493610778144,
          0.7807011068794825,
          0.439853915194202,
          0.19423851564776232,
          0.35517922238531474,
          0.2692920606762181,
          0.40294433860565615,
          0.3527063905660406,
          0.6566407279922402,
          0.5647026412003802,
          0.14245978774816076,
          0.7891050636065485,
          0.31249199522264,
          0.41341846188298154,
          0.4110777077829768,
          0.27807651149714857,
          0.5315516533446868,
          0.4386341545650668,
          0.2969399252015993,
          0.3287923820019656,
          0.29590307723231457,
          0.33172428359279515,
          0.30761554307225375,
          0.2705859934819964,
          0.27059116509267456,
          0.2530942902066034,
          0.24684971139382217,
          0.23573753163276998,
          0.30068007827698073
         ],
         "yaxis": "y"
        },
        {
         "alignmentgroup": "True",
         "hovertemplate": "product=Beans (mixed)<br>season_name=Main<br>type=orig_unit<br>year=%{x}<br>value=%{y}<extra></extra>",
         "legendgroup": "Beans (mixed)",
         "marker": {
          "color": "#FF97FF",
          "pattern": {
           "shape": ""
          }
         },
         "name": "Beans (mixed)",
         "offsetgroup": "Beans (mixed)",
         "orientation": "v",
         "showlegend": true,
         "textposition": "auto",
         "type": "bar",
         "x": [
          2003,
          2004,
          2005,
          2006,
          2007
         ],
         "xaxis": "x2",
         "y": [
          4367,
          32301,
          11283,
          15910,
          17956
         ],
         "yaxis": "y2"
        },
        {
         "alignmentgroup": "True",
         "hovertemplate": "product=Beans (mixed)<br>season_name=Main<br>type=percent<br>year=%{x}<br>value=%{y}<extra></extra>",
         "legendgroup": "Beans (mixed)",
         "marker": {
          "color": "#FF97FF",
          "pattern": {
           "shape": ""
          }
         },
         "name": "Beans (mixed)",
         "offsetgroup": "Beans (mixed)",
         "orientation": "v",
         "showlegend": false,
         "textposition": "auto",
         "type": "bar",
         "x": [
          2003,
          2004,
          2005,
          2006,
          2007
         ],
         "xaxis": "x",
         "y": [
          0.10503282065194909,
          0.9375630631326858,
          0.2716873729061495,
          0.36235183154729994,
          0.386197063998979
         ],
         "yaxis": "y"
        },
        {
         "alignmentgroup": "True",
         "hovertemplate": "product=Cowpeas<br>season_name=Main<br>type=orig_unit<br>year=%{x}<br>value=%{y}<extra></extra>",
         "legendgroup": "Cowpeas",
         "marker": {
          "color": "#FECB52",
          "pattern": {
           "shape": ""
          }
         },
         "name": "Cowpeas",
         "offsetgroup": "Cowpeas",
         "orientation": "v",
         "showlegend": true,
         "textposition": "auto",
         "type": "bar",
         "x": [
          1984,
          1985,
          1986,
          1987,
          1988,
          1989,
          1990,
          1991,
          1992,
          1993,
          1994,
          1995,
          1996,
          1997,
          1998,
          1999,
          2000,
          2001,
          2002,
          2003,
          2004,
          2005,
          2006,
          2007,
          2008,
          2009,
          2011,
          2012,
          2013,
          2014,
          2015,
          2017,
          2018,
          2019,
          2020,
          2021
         ],
         "xaxis": "x2",
         "y": [
          48216,
          126966.6,
          41210,
          14700,
          65690,
          11554,
          34819,
          113582,
          113582,
          47375,
          69343,
          69363,
          67919,
          73294,
          110060,
          119723,
          100126,
          98007,
          90529.76,
          160874,
          35547.25,
          94914,
          71979.62627098,
          59454.8,
          77906,
          106001,
          85519,
          128990.40000000001,
          170066,
          181974.056,
          186359.31279999999,
          180080,
          53881.34454,
          257218.2,
          215434,
          224956
         ],
         "yaxis": "y2"
        },
        {
         "alignmentgroup": "True",
         "hovertemplate": "product=Cowpeas<br>season_name=Main<br>type=percent<br>year=%{x}<br>value=%{y}<extra></extra>",
         "legendgroup": "Cowpeas",
         "marker": {
          "color": "#FECB52",
          "pattern": {
           "shape": ""
          }
         },
         "name": "Cowpeas",
         "offsetgroup": "Cowpeas",
         "orientation": "v",
         "showlegend": false,
         "textposition": "auto",
         "type": "bar",
         "x": [
          1984,
          1985,
          1986,
          1987,
          1988,
          1989,
          1990,
          1991,
          1992,
          1993,
          1994,
          1995,
          1996,
          1997,
          1998,
          1999,
          2000,
          2001,
          2002,
          2003,
          2004,
          2005,
          2006,
          2007,
          2008,
          2009,
          2011,
          2012,
          2013,
          2014,
          2015,
          2017,
          2018,
          2019,
          2020,
          2021
         ],
         "xaxis": "x",
         "y": [
          3.49103063608759,
          5.930644770882833,
          1.9641028158495137,
          0.7271306647374126,
          2.4308049483477077,
          0.4608017407888508,
          1.7119377902683228,
          5.4837655299407455,
          5.429438716727001,
          1.8902466647610052,
          2.2906601004358476,
          2.5652120368921896,
          2.5526932964505313,
          3.5162998397146046,
          4.164667454747176,
          3.619975036948703,
          3.4139244446823604,
          3.148239697559293,
          2.9532517505133806,
          3.86925806951263,
          1.03178813646461,
          2.2854679883022486,
          1.6393431435185262,
          1.2787519046918299,
          1.6862555218450672,
          1.861464449437571,
          1.3241907213493023,
          1.7110893597751289,
          2.468873705175431,
          2.3864484427386907,
          2.153707512528606,
          1.876826907903125,
          0.5539917391830006,
          2.318915979520048,
          1.947610039491263,
          2.033545417860516
         ],
         "yaxis": "y"
        },
        {
         "alignmentgroup": "True",
         "hovertemplate": "product=Gram<br>season_name=Main<br>type=orig_unit<br>year=%{x}<br>value=%{y}<extra></extra>",
         "legendgroup": "Gram",
         "marker": {
          "color": "#636efa",
          "pattern": {
           "shape": ""
          }
         },
         "name": "Gram",
         "offsetgroup": "Gram",
         "orientation": "v",
         "showlegend": true,
         "textposition": "auto",
         "type": "bar",
         "x": [
          2016
         ],
         "xaxis": "x2",
         "y": [
          180078.7
         ],
         "yaxis": "y2"
        },
        {
         "alignmentgroup": "True",
         "hovertemplate": "product=Gram<br>season_name=Main<br>type=percent<br>year=%{x}<br>value=%{y}<extra></extra>",
         "legendgroup": "Gram",
         "marker": {
          "color": "#636efa",
          "pattern": {
           "shape": ""
          }
         },
         "name": "Gram",
         "offsetgroup": "Gram",
         "orientation": "v",
         "showlegend": false,
         "textposition": "auto",
         "type": "bar",
         "x": [
          2016
         ],
         "xaxis": "x",
         "y": [
          1.8768136329107903
         ],
         "yaxis": "y"
        },
        {
         "alignmentgroup": "True",
         "hovertemplate": "product=Groundnuts (In Shell)<br>season_name=Main<br>type=orig_unit<br>year=%{x}<br>value=%{y}<extra></extra>",
         "legendgroup": "Groundnuts (In Shell)",
         "marker": {
          "color": "#EF553B",
          "pattern": {
           "shape": ""
          }
         },
         "name": "Groundnuts (In Shell)",
         "offsetgroup": "Groundnuts (In Shell)",
         "orientation": "v",
         "showlegend": true,
         "textposition": "auto",
         "type": "bar",
         "x": [
          1982,
          1983,
          1984,
          1985,
          1986,
          1987,
          1988,
          1989,
          1990,
          1991,
          1992,
          1993,
          1994,
          1995,
          1996,
          1997,
          1999,
          2000,
          2001,
          2002,
          2003,
          2004,
          2005,
          2006,
          2007,
          2008,
          2009,
          2011,
          2012,
          2013,
          2014,
          2015,
          2016,
          2017,
          2018,
          2019,
          2020,
          2021
         ],
         "xaxis": "x2",
         "y": [
          127828,
          94271,
          53709,
          101141,
          107015,
          100680,
          171759,
          156983,
          179941,
          102020,
          127487,
          215150,
          215160,
          157100,
          134130,
          144329,
          278356,
          193073,
          139832,
          120844,
          214455,
          169780,
          279503,
          265548.95127996,
          324375,
          388587,
          293433,
          267359.672,
          318412.428,
          515673,
          510645.65,
          421534.70107250003,
          374317.39999999997,
          374317,
          301207,
          301207,
          368671,
          506141
         ],
         "yaxis": "y2"
        },
        {
         "alignmentgroup": "True",
         "hovertemplate": "product=Groundnuts (In Shell)<br>season_name=Main<br>type=percent<br>year=%{x}<br>value=%{y}<extra></extra>",
         "legendgroup": "Groundnuts (In Shell)",
         "marker": {
          "color": "#EF553B",
          "pattern": {
           "shape": ""
          }
         },
         "name": "Groundnuts (In Shell)",
         "offsetgroup": "Groundnuts (In Shell)",
         "orientation": "v",
         "showlegend": false,
         "textposition": "auto",
         "type": "bar",
         "x": [
          1982,
          1983,
          1984,
          1985,
          1986,
          1987,
          1988,
          1989,
          1990,
          1991,
          1992,
          1993,
          1994,
          1995,
          1996,
          1997,
          1999,
          2000,
          2001,
          2002,
          2003,
          2004,
          2005,
          2006,
          2007,
          2008,
          2009,
          2011,
          2012,
          2013,
          2014,
          2015,
          2016,
          2017,
          2018,
          2019,
          2020,
          2021
         ],
         "xaxis": "x",
         "y": [
          10.673137947477453,
          7.079980323165717,
          3.88874573655277,
          4.724323899134579,
          5.100423752442022,
          4.980103083385218,
          6.355801904753447,
          6.260865472931985,
          8.847117893066207,
          4.925549465272269,
          6.094124541559184,
          8.584413085452884,
          7.1075440521722015,
          5.8099391750034295,
          5.041192477111115,
          6.9242235321604655,
          8.416442716812082,
          6.58307167277388,
          4.491767459356077,
          3.9421595123972386,
          5.15796051131526,
          4.928003989308919,
          6.730252219213641,
          6.047903762524086,
          6.976646950026109,
          8.41086661447397,
          5.152924008186854,
          4.139842572123071,
          4.223819118096884,
          7.486102514135276,
          6.696721186638752,
          4.871570080673444,
          3.9012054138314047,
          3.901200675730642,
          3.096919559240347,
          2.7154910711734046,
          3.3329341741288903,
          4.5753867927120835
         ],
         "yaxis": "y"
        },
        {
         "alignmentgroup": "True",
         "hovertemplate": "product=Sesame Seed<br>season_name=Main<br>type=orig_unit<br>year=%{x}<br>value=%{y}<extra></extra>",
         "legendgroup": "Sesame Seed",
         "marker": {
          "color": "#00cc96",
          "pattern": {
           "shape": ""
          }
         },
         "name": "Sesame Seed",
         "offsetgroup": "Sesame Seed",
         "orientation": "v",
         "showlegend": true,
         "textposition": "auto",
         "type": "bar",
         "x": [
          2004,
          2005,
          2006,
          2007,
          2008,
          2009,
          2011,
          2012,
          2013,
          2014,
          2015,
          2016,
          2017,
          2018,
          2019,
          2021
         ],
         "xaxis": "x2",
         "y": [
          2425,
          4872,
          4499,
          2239,
          7259,
          9909,
          16945,
          12007,
          15506.2,
          22592.796,
          43384.10704,
          37577,
          37577,
          27827.148,
          46698,
          59637
         ],
         "yaxis": "y2"
        },
        {
         "alignmentgroup": "True",
         "hovertemplate": "product=Sesame Seed<br>season_name=Main<br>type=percent<br>year=%{x}<br>value=%{y}<extra></extra>",
         "legendgroup": "Sesame Seed",
         "marker": {
          "color": "#00cc96",
          "pattern": {
           "shape": ""
          }
         },
         "name": "Sesame Seed",
         "offsetgroup": "Sesame Seed",
         "orientation": "v",
         "showlegend": false,
         "textposition": "auto",
         "type": "bar",
         "x": [
          2004,
          2005,
          2006,
          2007,
          2008,
          2009,
          2011,
          2012,
          2013,
          2014,
          2015,
          2016,
          2017,
          2018,
          2019,
          2021
         ],
         "xaxis": "x",
         "y": [
          0.07038761735230374,
          0.11731462206848892,
          0.10246517222698318,
          0.0481563391787544,
          0.15711920562053427,
          0.17401016244636267,
          0.2623792580977786,
          0.1592758061283628,
          0.22510583801107373,
          0.2962869763770772,
          0.5013791682987639,
          0.39163446806251245,
          0.3916344109189012,
          0.2861103457724286,
          0.42099951874178104,
          0.5391034161567044
         ],
         "yaxis": "y"
        },
        {
         "alignmentgroup": "True",
         "hovertemplate": "product=Soybean<br>season_name=Main<br>type=orig_unit<br>year=%{x}<br>value=%{y}<extra></extra>",
         "legendgroup": "Soybean",
         "marker": {
          "color": "#ab63fa",
          "pattern": {
           "shape": ""
          }
         },
         "name": "Soybean",
         "offsetgroup": "Soybean",
         "orientation": "v",
         "showlegend": true,
         "textposition": "auto",
         "type": "bar",
         "x": [
          2004,
          2005,
          2006,
          2007,
          2008,
          2009,
          2011,
          2012,
          2013,
          2014,
          2015,
          2016,
          2017,
          2018,
          2019,
          2021
         ],
         "xaxis": "x2",
         "y": [
          1548,
          2124,
          2004.6,
          5187,
          2138,
          1874,
          1238,
          1663,
          1610,
          3235,
          5203.698,
          11768.85,
          11768.85,
          7875,
          6693,
          5054
         ],
         "yaxis": "y2"
        },
        {
         "alignmentgroup": "True",
         "hovertemplate": "product=Soybean<br>season_name=Main<br>type=percent<br>year=%{x}<br>value=%{y}<extra></extra>",
         "legendgroup": "Soybean",
         "marker": {
          "color": "#ab63fa",
          "pattern": {
           "shape": ""
          }
         },
         "name": "Soybean",
         "offsetgroup": "Soybean",
         "orientation": "v",
         "showlegend": false,
         "textposition": "auto",
         "type": "bar",
         "x": [
          2004,
          2005,
          2006,
          2007,
          2008,
          2009,
          2011,
          2012,
          2013,
          2014,
          2015,
          2016,
          2017,
          2018,
          2019,
          2021
         ],
         "xaxis": "x",
         "y": [
          0.04493197181912008,
          0.05114455198552349,
          0.045654964268995436,
          0.11156182729798975,
          0.04627646530055136,
          0.032908976125187575,
          0.01916940227353496,
          0.02206010373877466,
          0.023372612193692115,
          0.04242451304300029,
          0.060137823579322,
          0.12265713892693668,
          0.12265712102996276,
          0.08096837566529905,
          0.060339838514256304,
          0.045686883398829314
         ],
         "yaxis": "y"
        },
        {
         "alignmentgroup": "True",
         "hovertemplate": "product=Sugarcane<br>season_name=Main<br>type=orig_unit<br>year=%{x}<br>value=%{y}<extra></extra>",
         "legendgroup": "Sugarcane",
         "marker": {
          "color": "#FFA15A",
          "pattern": {
           "shape": ""
          }
         },
         "name": "Sugarcane",
         "offsetgroup": "Sugarcane",
         "orientation": "v",
         "showlegend": true,
         "textposition": "auto",
         "type": "bar",
         "x": [
          1984,
          1985,
          1986,
          1987,
          1988,
          1989,
          1990,
          1991,
          1992,
          1993,
          1994,
          1995,
          1996,
          1997,
          2000,
          2001,
          2002,
          2003,
          2004,
          2005,
          2006,
          2007,
          2009,
          2011,
          2012,
          2013
         ],
         "xaxis": "x2",
         "y": [
          146388,
          184353,
          210465,
          245626,
          261304,
          257571,
          35300,
          25485,
          25485,
          20661,
          262333,
          293240,
          249950,
          302982,
          312992,
          285235,
          333286,
          336000,
          347939,
          344312,
          319529,
          341825,
          377000,
          377964,
          377964,
          335690
         ],
         "yaxis": "y2"
        },
        {
         "alignmentgroup": "True",
         "hovertemplate": "product=Sugarcane<br>season_name=Main<br>type=percent<br>year=%{x}<br>value=%{y}<extra></extra>",
         "legendgroup": "Sugarcane",
         "marker": {
          "color": "#FFA15A",
          "pattern": {
           "shape": ""
          }
         },
         "name": "Sugarcane",
         "offsetgroup": "Sugarcane",
         "orientation": "v",
         "showlegend": false,
         "textposition": "auto",
         "type": "bar",
         "x": [
          1984,
          1985,
          1986,
          1987,
          1988,
          1989,
          1990,
          1991,
          1992,
          1993,
          1994,
          1995,
          1996,
          1997,
          2000,
          2001,
          2002,
          2003,
          2004,
          2005,
          2006,
          2007,
          2009,
          2011,
          2012,
          2013
         ],
         "xaxis": "x",
         "y": [
          10.599074845602914,
          8.611179282162103,
          10.030936644934917,
          12.149809296380388,
          9.669341699239602,
          10.272560600374337,
          1.7355870069924981,
          1.2304217616395194,
          1.2182321643903755,
          0.8243669939974064,
          8.665845667589188,
          10.844726694322125,
          9.394215012703519,
          14.535644910039162,
          10.671863849449908,
          9.16248992554945,
          10.872418781642663,
          8.081297856435743,
          10.099215337708541,
          8.290811197382093,
          7.277304738056392,
          7.351960982482233,
          6.620429028386186,
          5.852458772951832,
          5.0137853574998354,
          4.873262228136961
         ],
         "yaxis": "y"
        },
        {
         "alignmentgroup": "True",
         "hovertemplate": "product=Sweet Potatoes<br>season_name=Main<br>type=orig_unit<br>year=%{x}<br>value=%{y}<extra></extra>",
         "legendgroup": "Sweet Potatoes",
         "marker": {
          "color": "#19d3f3",
          "pattern": {
           "shape": ""
          }
         },
         "name": "Sweet Potatoes",
         "offsetgroup": "Sweet Potatoes",
         "orientation": "v",
         "showlegend": true,
         "textposition": "auto",
         "type": "bar",
         "x": [
          1990,
          1993,
          1995,
          1996,
          2001,
          2013
         ],
         "xaxis": "x2",
         "y": [
          1853,
          4536,
          2270,
          600,
          6181,
          30223
         ],
         "yaxis": "y2"
        },
        {
         "alignmentgroup": "True",
         "hovertemplate": "product=Sweet Potatoes<br>season_name=Main<br>type=percent<br>year=%{x}<br>value=%{y}<extra></extra>",
         "legendgroup": "Sweet Potatoes",
         "marker": {
          "color": "#19d3f3",
          "pattern": {
           "shape": ""
          }
         },
         "name": "Sweet Potatoes",
         "offsetgroup": "Sweet Potatoes",
         "orientation": "v",
         "showlegend": false,
         "textposition": "auto",
         "type": "bar",
         "x": [
          1990,
          1993,
          1995,
          1996,
          2001,
          2013
         ],
         "xaxis": "x",
         "y": [
          0.09110602617442207,
          0.1809848838280933,
          0.08395010774829909,
          0.02255062615571959,
          0.1985497930822695,
          0.4387518374720229
         ],
         "yaxis": "y"
        },
        {
         "alignmentgroup": "True",
         "hovertemplate": "product=Yams<br>season_name=Main<br>type=orig_unit<br>year=%{x}<br>value=%{y}<extra></extra>",
         "legendgroup": "Yams",
         "marker": {
          "color": "#FF6692",
          "pattern": {
           "shape": ""
          }
         },
         "name": "Yams",
         "offsetgroup": "Yams",
         "orientation": "v",
         "showlegend": true,
         "textposition": "auto",
         "type": "bar",
         "x": [
          1985,
          1986,
          1987,
          1988,
          1989,
          1990,
          1992,
          1994
         ],
         "xaxis": "x2",
         "y": [
          13030,
          11230,
          7760,
          5380,
          1803,
          11285,
          7110,
          17579
         ],
         "yaxis": "y2"
        },
        {
         "alignmentgroup": "True",
         "hovertemplate": "product=Yams<br>season_name=Main<br>type=percent<br>year=%{x}<br>value=%{y}<extra></extra>",
         "legendgroup": "Yams",
         "marker": {
          "color": "#FF6692",
          "pattern": {
           "shape": ""
          }
         },
         "name": "Yams",
         "offsetgroup": "Yams",
         "orientation": "v",
         "showlegend": false,
         "textposition": "auto",
         "type": "bar",
         "x": [
          1985,
          1986,
          1987,
          1988,
          1989,
          1990,
          1992,
          1994
         ],
         "xaxis": "x",
         "y": [
          0.6086348800755734,
          0.5352311240473195,
          0.38384584750764095,
          0.19908251822363626,
          0.0719080438499479,
          0.5548470077594998,
          0.3398717162572325,
          0.5807004875122473
         ],
         "yaxis": "y"
        }
       ],
       "layout": {
        "annotations": [
         {
          "showarrow": false,
          "text": "",
          "textangle": 90,
          "x": 0.98,
          "xanchor": "left",
          "xref": "paper",
          "y": 0.2375,
          "yanchor": "middle",
          "yref": "paper"
         },
         {
          "showarrow": false,
          "text": "",
          "textangle": 90,
          "x": 0.98,
          "xanchor": "left",
          "xref": "paper",
          "y": 0.7625,
          "yanchor": "middle",
          "yref": "paper"
         },
         {
          "align": "left",
          "font": {
           "color": "dimgrey",
           "family": "arial",
           "size": 15
          },
          "showarrow": false,
          "text": "National crop production in Mali - Main",
          "x": 0,
          "xref": "paper",
          "y": -0.13,
          "yref": "paper"
         }
        ],
        "barmode": "relative",
        "font": {
         "color": "black",
         "family": "arial",
         "size": 15
        },
        "height": 600,
        "legend": {
         "title": {
          "text": "Product"
         },
         "tracegroupgap": 0,
         "x": 1,
         "y": 1.01
        },
        "margin": {
         "b": 0,
         "l": 0,
         "r": 0,
         "t": 0
        },
        "template": {
         "data": {
          "bar": [
           {
            "error_x": {
             "color": "#2a3f5f"
            },
            "error_y": {
             "color": "#2a3f5f"
            },
            "marker": {
             "line": {
              "color": "#E5ECF6",
              "width": 0.5
             },
             "pattern": {
              "fillmode": "overlay",
              "size": 10,
              "solidity": 0.2
             }
            },
            "type": "bar"
           }
          ],
          "barpolar": [
           {
            "marker": {
             "line": {
              "color": "#E5ECF6",
              "width": 0.5
             },
             "pattern": {
              "fillmode": "overlay",
              "size": 10,
              "solidity": 0.2
             }
            },
            "type": "barpolar"
           }
          ],
          "carpet": [
           {
            "aaxis": {
             "endlinecolor": "#2a3f5f",
             "gridcolor": "white",
             "linecolor": "white",
             "minorgridcolor": "white",
             "startlinecolor": "#2a3f5f"
            },
            "baxis": {
             "endlinecolor": "#2a3f5f",
             "gridcolor": "white",
             "linecolor": "white",
             "minorgridcolor": "white",
             "startlinecolor": "#2a3f5f"
            },
            "type": "carpet"
           }
          ],
          "choropleth": [
           {
            "colorbar": {
             "outlinewidth": 0,
             "ticks": ""
            },
            "type": "choropleth"
           }
          ],
          "contour": [
           {
            "colorbar": {
             "outlinewidth": 0,
             "ticks": ""
            },
            "colorscale": [
             [
              0,
              "#0d0887"
             ],
             [
              0.1111111111111111,
              "#46039f"
             ],
             [
              0.2222222222222222,
              "#7201a8"
             ],
             [
              0.3333333333333333,
              "#9c179e"
             ],
             [
              0.4444444444444444,
              "#bd3786"
             ],
             [
              0.5555555555555556,
              "#d8576b"
             ],
             [
              0.6666666666666666,
              "#ed7953"
             ],
             [
              0.7777777777777778,
              "#fb9f3a"
             ],
             [
              0.8888888888888888,
              "#fdca26"
             ],
             [
              1,
              "#f0f921"
             ]
            ],
            "type": "contour"
           }
          ],
          "contourcarpet": [
           {
            "colorbar": {
             "outlinewidth": 0,
             "ticks": ""
            },
            "type": "contourcarpet"
           }
          ],
          "heatmap": [
           {
            "colorbar": {
             "outlinewidth": 0,
             "ticks": ""
            },
            "colorscale": [
             [
              0,
              "#0d0887"
             ],
             [
              0.1111111111111111,
              "#46039f"
             ],
             [
              0.2222222222222222,
              "#7201a8"
             ],
             [
              0.3333333333333333,
              "#9c179e"
             ],
             [
              0.4444444444444444,
              "#bd3786"
             ],
             [
              0.5555555555555556,
              "#d8576b"
             ],
             [
              0.6666666666666666,
              "#ed7953"
             ],
             [
              0.7777777777777778,
              "#fb9f3a"
             ],
             [
              0.8888888888888888,
              "#fdca26"
             ],
             [
              1,
              "#f0f921"
             ]
            ],
            "type": "heatmap"
           }
          ],
          "heatmapgl": [
           {
            "colorbar": {
             "outlinewidth": 0,
             "ticks": ""
            },
            "colorscale": [
             [
              0,
              "#0d0887"
             ],
             [
              0.1111111111111111,
              "#46039f"
             ],
             [
              0.2222222222222222,
              "#7201a8"
             ],
             [
              0.3333333333333333,
              "#9c179e"
             ],
             [
              0.4444444444444444,
              "#bd3786"
             ],
             [
              0.5555555555555556,
              "#d8576b"
             ],
             [
              0.6666666666666666,
              "#ed7953"
             ],
             [
              0.7777777777777778,
              "#fb9f3a"
             ],
             [
              0.8888888888888888,
              "#fdca26"
             ],
             [
              1,
              "#f0f921"
             ]
            ],
            "type": "heatmapgl"
           }
          ],
          "histogram": [
           {
            "marker": {
             "pattern": {
              "fillmode": "overlay",
              "size": 10,
              "solidity": 0.2
             }
            },
            "type": "histogram"
           }
          ],
          "histogram2d": [
           {
            "colorbar": {
             "outlinewidth": 0,
             "ticks": ""
            },
            "colorscale": [
             [
              0,
              "#0d0887"
             ],
             [
              0.1111111111111111,
              "#46039f"
             ],
             [
              0.2222222222222222,
              "#7201a8"
             ],
             [
              0.3333333333333333,
              "#9c179e"
             ],
             [
              0.4444444444444444,
              "#bd3786"
             ],
             [
              0.5555555555555556,
              "#d8576b"
             ],
             [
              0.6666666666666666,
              "#ed7953"
             ],
             [
              0.7777777777777778,
              "#fb9f3a"
             ],
             [
              0.8888888888888888,
              "#fdca26"
             ],
             [
              1,
              "#f0f921"
             ]
            ],
            "type": "histogram2d"
           }
          ],
          "histogram2dcontour": [
           {
            "colorbar": {
             "outlinewidth": 0,
             "ticks": ""
            },
            "colorscale": [
             [
              0,
              "#0d0887"
             ],
             [
              0.1111111111111111,
              "#46039f"
             ],
             [
              0.2222222222222222,
              "#7201a8"
             ],
             [
              0.3333333333333333,
              "#9c179e"
             ],
             [
              0.4444444444444444,
              "#bd3786"
             ],
             [
              0.5555555555555556,
              "#d8576b"
             ],
             [
              0.6666666666666666,
              "#ed7953"
             ],
             [
              0.7777777777777778,
              "#fb9f3a"
             ],
             [
              0.8888888888888888,
              "#fdca26"
             ],
             [
              1,
              "#f0f921"
             ]
            ],
            "type": "histogram2dcontour"
           }
          ],
          "mesh3d": [
           {
            "colorbar": {
             "outlinewidth": 0,
             "ticks": ""
            },
            "type": "mesh3d"
           }
          ],
          "parcoords": [
           {
            "line": {
             "colorbar": {
              "outlinewidth": 0,
              "ticks": ""
             }
            },
            "type": "parcoords"
           }
          ],
          "pie": [
           {
            "automargin": true,
            "type": "pie"
           }
          ],
          "scatter": [
           {
            "fillpattern": {
             "fillmode": "overlay",
             "size": 10,
             "solidity": 0.2
            },
            "type": "scatter"
           }
          ],
          "scatter3d": [
           {
            "line": {
             "colorbar": {
              "outlinewidth": 0,
              "ticks": ""
             }
            },
            "marker": {
             "colorbar": {
              "outlinewidth": 0,
              "ticks": ""
             }
            },
            "type": "scatter3d"
           }
          ],
          "scattercarpet": [
           {
            "marker": {
             "colorbar": {
              "outlinewidth": 0,
              "ticks": ""
             }
            },
            "type": "scattercarpet"
           }
          ],
          "scattergeo": [
           {
            "marker": {
             "colorbar": {
              "outlinewidth": 0,
              "ticks": ""
             }
            },
            "type": "scattergeo"
           }
          ],
          "scattergl": [
           {
            "marker": {
             "colorbar": {
              "outlinewidth": 0,
              "ticks": ""
             }
            },
            "type": "scattergl"
           }
          ],
          "scattermapbox": [
           {
            "marker": {
             "colorbar": {
              "outlinewidth": 0,
              "ticks": ""
             }
            },
            "type": "scattermapbox"
           }
          ],
          "scatterpolar": [
           {
            "marker": {
             "colorbar": {
              "outlinewidth": 0,
              "ticks": ""
             }
            },
            "type": "scatterpolar"
           }
          ],
          "scatterpolargl": [
           {
            "marker": {
             "colorbar": {
              "outlinewidth": 0,
              "ticks": ""
             }
            },
            "type": "scatterpolargl"
           }
          ],
          "scatterternary": [
           {
            "marker": {
             "colorbar": {
              "outlinewidth": 0,
              "ticks": ""
             }
            },
            "type": "scatterternary"
           }
          ],
          "surface": [
           {
            "colorbar": {
             "outlinewidth": 0,
             "ticks": ""
            },
            "colorscale": [
             [
              0,
              "#0d0887"
             ],
             [
              0.1111111111111111,
              "#46039f"
             ],
             [
              0.2222222222222222,
              "#7201a8"
             ],
             [
              0.3333333333333333,
              "#9c179e"
             ],
             [
              0.4444444444444444,
              "#bd3786"
             ],
             [
              0.5555555555555556,
              "#d8576b"
             ],
             [
              0.6666666666666666,
              "#ed7953"
             ],
             [
              0.7777777777777778,
              "#fb9f3a"
             ],
             [
              0.8888888888888888,
              "#fdca26"
             ],
             [
              1,
              "#f0f921"
             ]
            ],
            "type": "surface"
           }
          ],
          "table": [
           {
            "cells": {
             "fill": {
              "color": "#EBF0F8"
             },
             "line": {
              "color": "white"
             }
            },
            "header": {
             "fill": {
              "color": "#C8D4E3"
             },
             "line": {
              "color": "white"
             }
            },
            "type": "table"
           }
          ]
         },
         "layout": {
          "annotationdefaults": {
           "arrowcolor": "#2a3f5f",
           "arrowhead": 0,
           "arrowwidth": 1
          },
          "autotypenumbers": "strict",
          "coloraxis": {
           "colorbar": {
            "outlinewidth": 0,
            "ticks": ""
           }
          },
          "colorscale": {
           "diverging": [
            [
             0,
             "#8e0152"
            ],
            [
             0.1,
             "#c51b7d"
            ],
            [
             0.2,
             "#de77ae"
            ],
            [
             0.3,
             "#f1b6da"
            ],
            [
             0.4,
             "#fde0ef"
            ],
            [
             0.5,
             "#f7f7f7"
            ],
            [
             0.6,
             "#e6f5d0"
            ],
            [
             0.7,
             "#b8e186"
            ],
            [
             0.8,
             "#7fbc41"
            ],
            [
             0.9,
             "#4d9221"
            ],
            [
             1,
             "#276419"
            ]
           ],
           "sequential": [
            [
             0,
             "#0d0887"
            ],
            [
             0.1111111111111111,
             "#46039f"
            ],
            [
             0.2222222222222222,
             "#7201a8"
            ],
            [
             0.3333333333333333,
             "#9c179e"
            ],
            [
             0.4444444444444444,
             "#bd3786"
            ],
            [
             0.5555555555555556,
             "#d8576b"
            ],
            [
             0.6666666666666666,
             "#ed7953"
            ],
            [
             0.7777777777777778,
             "#fb9f3a"
            ],
            [
             0.8888888888888888,
             "#fdca26"
            ],
            [
             1,
             "#f0f921"
            ]
           ],
           "sequentialminus": [
            [
             0,
             "#0d0887"
            ],
            [
             0.1111111111111111,
             "#46039f"
            ],
            [
             0.2222222222222222,
             "#7201a8"
            ],
            [
             0.3333333333333333,
             "#9c179e"
            ],
            [
             0.4444444444444444,
             "#bd3786"
            ],
            [
             0.5555555555555556,
             "#d8576b"
            ],
            [
             0.6666666666666666,
             "#ed7953"
            ],
            [
             0.7777777777777778,
             "#fb9f3a"
            ],
            [
             0.8888888888888888,
             "#fdca26"
            ],
            [
             1,
             "#f0f921"
            ]
           ]
          },
          "colorway": [
           "#636efa",
           "#EF553B",
           "#00cc96",
           "#ab63fa",
           "#FFA15A",
           "#19d3f3",
           "#FF6692",
           "#B6E880",
           "#FF97FF",
           "#FECB52"
          ],
          "font": {
           "color": "#2a3f5f"
          },
          "geo": {
           "bgcolor": "white",
           "lakecolor": "white",
           "landcolor": "#E5ECF6",
           "showlakes": true,
           "showland": true,
           "subunitcolor": "white"
          },
          "hoverlabel": {
           "align": "left"
          },
          "hovermode": "closest",
          "mapbox": {
           "style": "light"
          },
          "paper_bgcolor": "white",
          "plot_bgcolor": "#E5ECF6",
          "polar": {
           "angularaxis": {
            "gridcolor": "white",
            "linecolor": "white",
            "ticks": ""
           },
           "bgcolor": "#E5ECF6",
           "radialaxis": {
            "gridcolor": "white",
            "linecolor": "white",
            "ticks": ""
           }
          },
          "scene": {
           "xaxis": {
            "backgroundcolor": "#E5ECF6",
            "gridcolor": "white",
            "gridwidth": 2,
            "linecolor": "white",
            "showbackground": true,
            "ticks": "",
            "zerolinecolor": "white"
           },
           "yaxis": {
            "backgroundcolor": "#E5ECF6",
            "gridcolor": "white",
            "gridwidth": 2,
            "linecolor": "white",
            "showbackground": true,
            "ticks": "",
            "zerolinecolor": "white"
           },
           "zaxis": {
            "backgroundcolor": "#E5ECF6",
            "gridcolor": "white",
            "gridwidth": 2,
            "linecolor": "white",
            "showbackground": true,
            "ticks": "",
            "zerolinecolor": "white"
           }
          },
          "shapedefaults": {
           "line": {
            "color": "#2a3f5f"
           }
          },
          "ternary": {
           "aaxis": {
            "gridcolor": "white",
            "linecolor": "white",
            "ticks": ""
           },
           "baxis": {
            "gridcolor": "white",
            "linecolor": "white",
            "ticks": ""
           },
           "bgcolor": "#E5ECF6",
           "caxis": {
            "gridcolor": "white",
            "linecolor": "white",
            "ticks": ""
           }
          },
          "title": {
           "x": 0.05
          },
          "xaxis": {
           "automargin": true,
           "gridcolor": "white",
           "linecolor": "white",
           "ticks": "",
           "title": {
            "standoff": 15
           },
           "zerolinecolor": "white",
           "zerolinewidth": 2
          },
          "yaxis": {
           "automargin": true,
           "gridcolor": "white",
           "linecolor": "white",
           "ticks": "",
           "title": {
            "standoff": 15
           },
           "zerolinecolor": "white",
           "zerolinewidth": 2
          }
         }
        },
        "width": 900,
        "xaxis": {
         "anchor": "y",
         "domain": [
          0,
          0.98
         ],
         "dtick": 1,
         "range": [
          1981.5,
          2021.5
         ],
         "title": {
          "text": ""
         }
        },
        "xaxis2": {
         "anchor": "y2",
         "domain": [
          0,
          0.98
         ],
         "matches": "x",
         "showticklabels": false
        },
        "yaxis": {
         "anchor": "x",
         "domain": [
          0,
          0.475
         ],
         "range": [
          0,
          100
         ],
         "title": {
          "text": "Production (%)"
         }
        },
        "yaxis2": {
         "anchor": "x2",
         "domain": [
          0.525,
          1
         ],
         "title": {
          "text": "Production (t)"
         }
        }
       }
      }
     },
     "metadata": {},
     "output_type": "display_data"
    }
   ],
   "source": [
    "# Bar chart of national grain production\n",
    "country_iso, country_name = 'ML', 'Mali'\n",
    "df = pd.read_csv('../data/crop/adm_crop_production_%s.csv' % country_iso, index_col=0)\n",
    "df['year'] = df['harvest_year']\n",
    "year = [df['year'].min(), df['year'].max()]\n",
    "product_order = ['Maize','Millet','Rice','Sorghum','Wheat','Barley','Fonio']\n",
    "for season_name in ['Main']:\n",
    "    footnote = 'National crop production in %s - %s' % (country_name, season_name)\n",
    "    fn_save = '../figures/%s_bar_natgrainprod_%s.png' % (country_iso, season_name)\n",
    "    sub = df[df['season_name'] == season_name]\n",
    "    fig = PlotBarProduction(sub, year, product_order, footnote, fn_save)\n",
    "    fig.show()"
   ]
  },
  {
   "cell_type": "code",
   "execution_count": 8,
   "id": "f53383d1-6a64-409f-9109-b5bf74505257",
   "metadata": {},
   "outputs": [
    {
     "name": "stdout",
     "output_type": "stream",
     "text": [
      "../figures/ML_line_pay_Maize_Main.png is saved.\n"
     ]
    },
    {
     "data": {
      "application/vnd.plotly.v1+json": {
       "config": {
        "plotlyServerURL": "https://plot.ly"
       },
       "data": [
        {
         "connectgaps": false,
         "hovertemplate": "fnid=ML2016A101<br>indicator=production<br>year=%{x}<br>value=%{y}<extra></extra>",
         "legendgroup": "ML2016A101",
         "line": {
          "color": "#636efa",
          "dash": "solid"
         },
         "marker": {
          "symbol": "circle"
         },
         "mode": "markers+lines",
         "name": "ML2016A101",
         "orientation": "v",
         "showlegend": true,
         "type": "scatter",
         "x": [
          1982,
          1983,
          1984,
          1985,
          1986,
          1987,
          1988,
          1989,
          1990,
          1991,
          1992,
          1993,
          1994,
          1995,
          1996,
          1997,
          1998,
          1999,
          2000,
          2001,
          2002,
          2003,
          2004,
          2005,
          2006,
          2007,
          2008,
          2009,
          2010,
          2011,
          2012,
          2013,
          2014,
          2015,
          2016,
          2017,
          2018,
          2019,
          2020,
          2021
         ],
         "xaxis": "x3",
         "y": [
          10244,
          7829,
          9235,
          8306,
          11778,
          39443,
          36867,
          23896,
          15011,
          23425,
          23425,
          23592,
          32307,
          30100,
          21230,
          18799,
          19233,
          45372,
          18048,
          42167,
          38334,
          46552,
          48293,
          70657,
          53593,
          57889,
          81590,
          48595,
          null,
          50122,
          127834,
          67285,
          164430,
          196595,
          152495,
          152495,
          112362,
          269898,
          365629.33828412,
          163527
         ],
         "yaxis": "y3"
        },
        {
         "connectgaps": false,
         "hovertemplate": "fnid=ML2016A101<br>indicator=area<br>year=%{x}<br>value=%{y}<extra></extra>",
         "legendgroup": "ML2016A101",
         "line": {
          "color": "#636efa",
          "dash": "solid"
         },
         "marker": {
          "symbol": "circle"
         },
         "mode": "markers+lines",
         "name": "ML2016A101",
         "orientation": "v",
         "showlegend": false,
         "type": "scatter",
         "x": [
          1982,
          1983,
          1984,
          1985,
          1986,
          1987,
          1988,
          1989,
          1990,
          1991,
          1992,
          1993,
          1994,
          1995,
          1996,
          1997,
          1998,
          1999,
          2000,
          2001,
          2002,
          2003,
          2004,
          2005,
          2006,
          2007,
          2008,
          2009,
          2010,
          2011,
          2012,
          2013,
          2014,
          2015,
          2016,
          2017,
          2018,
          2019,
          2020,
          2021
         ],
         "xaxis": "x2",
         "y": [
          13585,
          12727,
          13706,
          17785,
          12268,
          16222,
          17018,
          21247,
          29323,
          29666,
          29666,
          27538,
          null,
          31701,
          19661,
          18109,
          16478,
          42227,
          19673,
          44819,
          55682,
          52006,
          28871,
          65582,
          62715,
          54384,
          66574,
          40348,
          null,
          71676,
          38672,
          48662,
          null,
          92212,
          149840,
          149840,
          115991,
          99963,
          141957.46541167,
          87153
         ],
         "yaxis": "y2"
        },
        {
         "connectgaps": false,
         "hovertemplate": "fnid=ML2016A101<br>indicator=yield<br>year=%{x}<br>value=%{y}<extra></extra>",
         "legendgroup": "ML2016A101",
         "line": {
          "color": "#636efa",
          "dash": "solid"
         },
         "marker": {
          "symbol": "circle"
         },
         "mode": "markers+lines",
         "name": "ML2016A101",
         "orientation": "v",
         "showlegend": false,
         "type": "scatter",
         "x": [
          1982,
          1983,
          1984,
          1985,
          1986,
          1987,
          1988,
          1989,
          1990,
          1991,
          1992,
          1993,
          1994,
          1995,
          1996,
          1997,
          1998,
          1999,
          2000,
          2001,
          2002,
          2003,
          2004,
          2005,
          2006,
          2007,
          2008,
          2009,
          2010,
          2011,
          2012,
          2013,
          2014,
          2015,
          2016,
          2017,
          2018,
          2019,
          2020,
          2021
         ],
         "xaxis": "x",
         "y": [
          0.754066985645933,
          0.6151488960477725,
          0.6737924996351963,
          0.4670227719988754,
          0.9600586892729052,
          2.4314511157687093,
          2.1663532730050536,
          1.1246764249070458,
          0.5119189714558537,
          0.7896244859435043,
          0.7896244859435043,
          0.8567070956496478,
          null,
          0.9494968612977508,
          1.0798026550022888,
          1.0381026009166712,
          1.1671926204636485,
          1.0744784142846993,
          0.9173994815228994,
          0.9408286664137976,
          0.6884450989547789,
          0.8951274852901588,
          1.672716566797132,
          1.077384038303193,
          0.8545483536633979,
          1.064449102677258,
          1.225553519391955,
          1.204396748289878,
          null,
          0.699285674423796,
          3.3055957798924287,
          1.3827010809255682,
          null,
          2.1319893289376655,
          1.0177189001601707,
          1.0177189001601707,
          0.968713089808692,
          2.699978992227124,
          2.5756259963067953,
          1.8763209528071323
         ],
         "yaxis": "y"
        },
        {
         "connectgaps": false,
         "hovertemplate": "fnid=ML2016A102<br>indicator=production<br>year=%{x}<br>value=%{y}<extra></extra>",
         "legendgroup": "ML2016A102",
         "line": {
          "color": "#EF553B",
          "dash": "solid"
         },
         "marker": {
          "symbol": "circle"
         },
         "mode": "markers+lines",
         "name": "ML2016A102",
         "orientation": "v",
         "showlegend": true,
         "type": "scatter",
         "x": [
          1982,
          1983,
          1984,
          1985,
          1986,
          1987,
          1988,
          1989,
          1990,
          1991,
          1992,
          1993,
          1994,
          1995,
          1996,
          1997,
          1998,
          1999,
          2000,
          2001,
          2002,
          2003,
          2004,
          2005,
          2006,
          2007,
          2008,
          2009,
          2010,
          2011,
          2012,
          2013,
          2014,
          2015,
          2016,
          2017,
          2018,
          2019,
          2020,
          2021
         ],
         "xaxis": "x3",
         "y": [
          null,
          15605,
          20553,
          22846,
          30628,
          26194,
          42959,
          28872,
          31660,
          33379,
          33379,
          52565,
          43920,
          44190,
          63620,
          71020,
          120160,
          101176,
          30103,
          45139,
          58306,
          73322,
          60471,
          131882,
          95111,
          80521,
          54434,
          94664,
          null,
          305197,
          237275,
          248271,
          258640,
          465234,
          523615,
          523615,
          1062382,
          1076620,
          807429.34899326,
          831052
         ],
         "yaxis": "y3"
        },
        {
         "connectgaps": false,
         "hovertemplate": "fnid=ML2016A102<br>indicator=area<br>year=%{x}<br>value=%{y}<extra></extra>",
         "legendgroup": "ML2016A102",
         "line": {
          "color": "#EF553B",
          "dash": "solid"
         },
         "marker": {
          "symbol": "circle"
         },
         "mode": "markers+lines",
         "name": "ML2016A102",
         "orientation": "v",
         "showlegend": false,
         "type": "scatter",
         "x": [
          1982,
          1983,
          1984,
          1985,
          1986,
          1987,
          1988,
          1989,
          1990,
          1991,
          1992,
          1993,
          1994,
          1995,
          1996,
          1997,
          1998,
          1999,
          2000,
          2001,
          2002,
          2003,
          2004,
          2005,
          2006,
          2007,
          2008,
          2009,
          2010,
          2011,
          2012,
          2013,
          2014,
          2015,
          2016,
          2017,
          2018,
          2019,
          2020,
          2021
         ],
         "xaxis": "x2",
         "y": [
          null,
          4526,
          12005,
          14466,
          21165,
          17604,
          27742,
          24964,
          35635,
          29449,
          29449,
          45661,
          null,
          43421,
          44089,
          50224,
          76404,
          86861,
          27924,
          63937,
          67117,
          53302,
          47349,
          94853,
          71448,
          64089,
          34887,
          56923,
          null,
          294112,
          104063,
          108525,
          null,
          200052,
          244895,
          244895,
          382861,
          347430,
          317605.4774503,
          315983
         ],
         "yaxis": "y2"
        },
        {
         "connectgaps": false,
         "hovertemplate": "fnid=ML2016A102<br>indicator=yield<br>year=%{x}<br>value=%{y}<extra></extra>",
         "legendgroup": "ML2016A102",
         "line": {
          "color": "#EF553B",
          "dash": "solid"
         },
         "marker": {
          "symbol": "circle"
         },
         "mode": "markers+lines",
         "name": "ML2016A102",
         "orientation": "v",
         "showlegend": false,
         "type": "scatter",
         "x": [
          1982,
          1983,
          1984,
          1985,
          1986,
          1987,
          1988,
          1989,
          1990,
          1991,
          1992,
          1993,
          1994,
          1995,
          1996,
          1997,
          1998,
          1999,
          2000,
          2001,
          2002,
          2003,
          2004,
          2005,
          2006,
          2007,
          2008,
          2009,
          2010,
          2011,
          2012,
          2013,
          2014,
          2015,
          2016,
          2017,
          2018,
          2019,
          2020,
          2021
         ],
         "xaxis": "x",
         "y": [
          null,
          3.447856827220504,
          1.712036651395252,
          1.5792893681736486,
          1.4471060713442003,
          1.48795728243581,
          1.5485184918174608,
          1.1565454254125942,
          0.8884523642486319,
          1.1334510509694726,
          1.1334510509694726,
          1.1512012439499792,
          null,
          1.017710324497363,
          1.4429903150445689,
          1.414064988849952,
          1.5726925291869536,
          1.1648035366850484,
          1.078033233061166,
          0.7059918357132803,
          0.8687217843467377,
          1.3755956624516903,
          1.2771336247861624,
          1.3903830137159603,
          1.3311919157989027,
          1.256393452854624,
          1.5602946656347636,
          1.6630184635384642,
          null,
          1.037689723642694,
          2.2801091646406504,
          2.2876848652384245,
          null,
          2.325565353008218,
          2.1381204189550624,
          2.1381204189550624,
          2.774850402626541,
          3.098811271335233,
          2.542240000000029,
          2.630052882591785
         ],
         "yaxis": "y"
        },
        {
         "connectgaps": false,
         "hovertemplate": "fnid=ML2016A103<br>indicator=production<br>year=%{x}<br>value=%{y}<extra></extra>",
         "legendgroup": "ML2016A103",
         "line": {
          "color": "#00cc96",
          "dash": "solid"
         },
         "marker": {
          "symbol": "circle"
         },
         "mode": "markers+lines",
         "name": "ML2016A103",
         "orientation": "v",
         "showlegend": true,
         "type": "scatter",
         "x": [
          1982,
          1983,
          1984,
          1985,
          1986,
          1987,
          1988,
          1989,
          1990,
          1991,
          1992,
          1993,
          1994,
          1995,
          1996,
          1997,
          1998,
          1999,
          2000,
          2001,
          2002,
          2003,
          2004,
          2005,
          2006,
          2007,
          2008,
          2009,
          2010,
          2011,
          2012,
          2013,
          2014,
          2015,
          2016,
          2017,
          2018,
          2019,
          2020,
          2021
         ],
         "xaxis": "x3",
         "y": [
          68019,
          53399,
          71228,
          128346,
          150409,
          101117,
          112575,
          154416,
          126607,
          124218,
          124218,
          196596,
          236334,
          180300,
          168260,
          226098,
          214192,
          405136,
          136807,
          195048,
          247878,
          310697,
          318134,
          393409,
          525542.14557209,
          501011,
          355291,
          607260,
          null,
          887307,
          1193244,
          1113185,
          1459037,
          6569,
          1753149,
          1753149,
          2280658,
          2418654,
          2463226.91741108,
          2210927
         ],
         "yaxis": "y3"
        },
        {
         "connectgaps": false,
         "hovertemplate": "fnid=ML2016A103<br>indicator=area<br>year=%{x}<br>value=%{y}<extra></extra>",
         "legendgroup": "ML2016A103",
         "line": {
          "color": "#00cc96",
          "dash": "solid"
         },
         "marker": {
          "symbol": "circle"
         },
         "mode": "markers+lines",
         "name": "ML2016A103",
         "orientation": "v",
         "showlegend": false,
         "type": "scatter",
         "x": [
          1982,
          1983,
          1984,
          1985,
          1986,
          1987,
          1988,
          1989,
          1990,
          1991,
          1992,
          1993,
          1994,
          1995,
          1996,
          1997,
          1998,
          1999,
          2000,
          2001,
          2002,
          2003,
          2004,
          2005,
          2006,
          2007,
          2008,
          2009,
          2010,
          2011,
          2012,
          2013,
          2014,
          2015,
          2016,
          2017,
          2018,
          2019,
          2020,
          2021
         ],
         "xaxis": "x2",
         "y": [
          16322,
          17643,
          53710,
          68544,
          83533,
          73119,
          85918,
          64494,
          87235,
          121013,
          121013,
          170508,
          null,
          114563,
          88683,
          110945,
          118016,
          244559,
          90405,
          139186,
          168818,
          195452,
          150123,
          226082,
          239696.86528015,
          257879,
          213123,
          240512,
          null,
          503559,
          354800,
          446832,
          null,
          2645,
          437016,
          437016,
          682514,
          666608,
          895393.28150167,
          689353
         ],
         "yaxis": "y2"
        },
        {
         "connectgaps": false,
         "hovertemplate": "fnid=ML2016A103<br>indicator=yield<br>year=%{x}<br>value=%{y}<extra></extra>",
         "legendgroup": "ML2016A103",
         "line": {
          "color": "#00cc96",
          "dash": "solid"
         },
         "marker": {
          "symbol": "circle"
         },
         "mode": "markers+lines",
         "name": "ML2016A103",
         "orientation": "v",
         "showlegend": false,
         "type": "scatter",
         "x": [
          1982,
          1983,
          1984,
          1985,
          1986,
          1987,
          1988,
          1989,
          1990,
          1991,
          1992,
          1993,
          1994,
          1995,
          1996,
          1997,
          1998,
          1999,
          2000,
          2001,
          2002,
          2003,
          2004,
          2005,
          2006,
          2007,
          2008,
          2009,
          2010,
          2011,
          2012,
          2013,
          2014,
          2015,
          2016,
          2017,
          2018,
          2019,
          2020,
          2021
         ],
         "xaxis": "x",
         "y": [
          4.167320181350325,
          3.0266394604092275,
          1.3261590020480358,
          1.8724614845938377,
          1.8005937773095664,
          1.382910050739206,
          1.3102609464838566,
          2.394269234347381,
          1.4513326073250417,
          1.026484757835935,
          1.026484757835935,
          1.1530016186923782,
          null,
          1.573806551853565,
          1.8973196666779428,
          2.0379287034116005,
          1.8149403470715837,
          1.656598203296546,
          1.5132680714562248,
          1.4013478367077148,
          1.46831499010769,
          1.5896332603401346,
          2.119155625720243,
          1.740116417936855,
          2.192528237521393,
          1.942814265605187,
          1.6670701895149749,
          2.5248636242682276,
          null,
          1.7620715745324778,
          3.363145434047351,
          2.491283077308698,
          null,
          2.483553875236295,
          4.011635729584271,
          4.011635729584271,
          3.3415548985075763,
          3.628300290425557,
          2.7509999999999843,
          3.2072494063273824
         ],
         "yaxis": "y"
        },
        {
         "connectgaps": false,
         "hovertemplate": "fnid=ML2016A104<br>indicator=production<br>year=%{x}<br>value=%{y}<extra></extra>",
         "legendgroup": "ML2016A104",
         "line": {
          "color": "#ab63fa",
          "dash": "solid"
         },
         "marker": {
          "symbol": "circle"
         },
         "mode": "markers+lines",
         "name": "ML2016A104",
         "orientation": "v",
         "showlegend": true,
         "type": "scatter",
         "x": [
          1982,
          1983,
          1984,
          1985,
          1986,
          1987,
          1988,
          1989,
          1990,
          1991,
          1992,
          1993,
          1994,
          1995,
          1996,
          1997,
          1998,
          1999,
          2000,
          2001,
          2002,
          2003,
          2004,
          2005,
          2006,
          2007,
          2008,
          2009,
          2010,
          2011,
          2012,
          2013,
          2014,
          2015,
          2016,
          2017,
          2018,
          2019,
          2020,
          2021
         ],
         "xaxis": "x3",
         "y": [
          5706,
          10940,
          424,
          8707,
          20597,
          11307,
          22118,
          17362,
          11475,
          9910,
          9910,
          10385,
          9891,
          8890,
          35100,
          21597,
          30345,
          59827,
          27089,
          16750,
          19827,
          22612,
          31399,
          32522,
          29273.43902747,
          45556,
          35693,
          26694,
          null,
          43490,
          99293,
          55093,
          87139,
          72295,
          103047,
          103047,
          140220,
          225675,
          162847.30269049,
          183899
         ],
         "yaxis": "y3"
        },
        {
         "connectgaps": false,
         "hovertemplate": "fnid=ML2016A104<br>indicator=area<br>year=%{x}<br>value=%{y}<extra></extra>",
         "legendgroup": "ML2016A104",
         "line": {
          "color": "#ab63fa",
          "dash": "solid"
         },
         "marker": {
          "symbol": "circle"
         },
         "mode": "markers+lines",
         "name": "ML2016A104",
         "orientation": "v",
         "showlegend": false,
         "type": "scatter",
         "x": [
          1982,
          1983,
          1984,
          1985,
          1986,
          1987,
          1988,
          1989,
          1990,
          1991,
          1992,
          1993,
          1994,
          1995,
          1996,
          1997,
          1998,
          1999,
          2000,
          2001,
          2002,
          2003,
          2004,
          2005,
          2006,
          2007,
          2008,
          2009,
          2010,
          2011,
          2012,
          2013,
          2014,
          2015,
          2016,
          2017,
          2018,
          2019,
          2020,
          2021
         ],
         "xaxis": "x2",
         "y": [
          3671,
          10703,
          6227,
          5994,
          11641,
          10228,
          12219,
          12197,
          13890,
          9753,
          9753,
          11060,
          null,
          13600,
          26636,
          16708,
          19122,
          41818,
          19484,
          9100,
          25603,
          14506,
          23221,
          22990,
          33106.83286796,
          30971,
          21918,
          16560,
          null,
          44688,
          30553,
          27109,
          null,
          34091,
          54049,
          54049,
          49173,
          44601,
          65356.95186763,
          74660
         ],
         "yaxis": "y2"
        },
        {
         "connectgaps": false,
         "hovertemplate": "fnid=ML2016A104<br>indicator=yield<br>year=%{x}<br>value=%{y}<extra></extra>",
         "legendgroup": "ML2016A104",
         "line": {
          "color": "#ab63fa",
          "dash": "solid"
         },
         "marker": {
          "symbol": "circle"
         },
         "mode": "markers+lines",
         "name": "ML2016A104",
         "orientation": "v",
         "showlegend": false,
         "type": "scatter",
         "x": [
          1982,
          1983,
          1984,
          1985,
          1986,
          1987,
          1988,
          1989,
          1990,
          1991,
          1992,
          1993,
          1994,
          1995,
          1996,
          1997,
          1998,
          1999,
          2000,
          2001,
          2002,
          2003,
          2004,
          2005,
          2006,
          2007,
          2008,
          2009,
          2010,
          2011,
          2012,
          2013,
          2014,
          2015,
          2016,
          2017,
          2018,
          2019,
          2020,
          2021
         ],
         "xaxis": "x",
         "y": [
          1.5543448651593572,
          1.0221433243015976,
          0.06809057330978,
          1.4526192859526192,
          1.7693497122240358,
          1.10549472037544,
          1.8101317620099844,
          1.4234647864228909,
          0.826133909287257,
          1.01609761099149,
          1.01609761099149,
          0.9389692585895116,
          null,
          0.6536764705882353,
          1.3177654302447814,
          1.292614316495092,
          1.586915594603075,
          1.4306518723994452,
          1.3903202627797169,
          1.8406593406593408,
          0.7744014373315627,
          1.558803253826003,
          1.3521812152792732,
          1.4146150500217485,
          0.8842113996292328,
          1.4709244131606989,
          1.6284788758098367,
          1.6119565217391305,
          null,
          0.9731919083422844,
          3.249860897456878,
          2.0322771035449483,
          null,
          2.120647678272858,
          1.9065477622157672,
          1.9065477622157672,
          2.851564883167592,
          5.059864128606982,
          2.4916599999998628,
          2.463152960085722
         ],
         "yaxis": "y"
        },
        {
         "connectgaps": false,
         "hovertemplate": "fnid=ML2016A105<br>indicator=production<br>year=%{x}<br>value=%{y}<extra></extra>",
         "legendgroup": "ML2016A105",
         "line": {
          "color": "#FFA15A",
          "dash": "solid"
         },
         "marker": {
          "symbol": "circle"
         },
         "mode": "markers+lines",
         "name": "ML2016A105",
         "orientation": "v",
         "showlegend": true,
         "type": "scatter",
         "x": [
          1982,
          1983,
          1984,
          1985,
          1986,
          1987,
          1988,
          1989,
          1990,
          1991,
          1992,
          1993,
          1994,
          1995,
          1996,
          1997,
          1998,
          1999,
          2000,
          2001,
          2002,
          2003,
          2004,
          2005,
          2006,
          2007,
          2008,
          2009,
          2010,
          2011,
          2012,
          2013,
          2014,
          2015,
          2016,
          2017,
          2018,
          2019,
          2020,
          2021
         ],
         "xaxis": "x3",
         "y": [
          null,
          1538,
          null,
          null,
          11,
          548,
          null,
          848,
          826,
          1598,
          1598,
          235,
          41,
          980,
          1550,
          199,
          1121,
          2381,
          1657,
          827,
          168,
          625,
          1090,
          5958,
          2863,
          202,
          260,
          1733,
          null,
          12118,
          6537,
          4478,
          2525,
          1532964,
          1648,
          1648,
          2583,
          3646,
          1905.04840978,
          1890
         ],
         "yaxis": "y3"
        },
        {
         "connectgaps": false,
         "hovertemplate": "fnid=ML2016A105<br>indicator=area<br>year=%{x}<br>value=%{y}<extra></extra>",
         "legendgroup": "ML2016A105",
         "line": {
          "color": "#FFA15A",
          "dash": "solid"
         },
         "marker": {
          "symbol": "circle"
         },
         "mode": "markers+lines",
         "name": "ML2016A105",
         "orientation": "v",
         "showlegend": false,
         "type": "scatter",
         "x": [
          1982,
          1983,
          1984,
          1985,
          1986,
          1987,
          1988,
          1989,
          1990,
          1991,
          1992,
          1993,
          1994,
          1995,
          1996,
          1997,
          1998,
          1999,
          2000,
          2001,
          2002,
          2003,
          2004,
          2005,
          2006,
          2007,
          2008,
          2009,
          2010,
          2011,
          2012,
          2013,
          2014,
          2015,
          2016,
          2017,
          2018,
          2019,
          2020,
          2021
         ],
         "xaxis": "x2",
         "y": [
          2185,
          1762,
          3662,
          2253,
          377,
          971,
          4,
          1504,
          3814,
          1682,
          1682,
          2158,
          null,
          2080,
          2153,
          1021,
          2020,
          3421,
          3125,
          2785,
          340,
          1037,
          2489,
          14492,
          5032,
          377,
          682,
          998,
          null,
          10815,
          3067,
          2264,
          null,
          569824,
          371,
          371,
          2470,
          1516,
          2151.5516865,
          1872
         ],
         "yaxis": "y2"
        },
        {
         "connectgaps": false,
         "hovertemplate": "fnid=ML2016A105<br>indicator=yield<br>year=%{x}<br>value=%{y}<extra></extra>",
         "legendgroup": "ML2016A105",
         "line": {
          "color": "#FFA15A",
          "dash": "solid"
         },
         "marker": {
          "symbol": "circle"
         },
         "mode": "markers+lines",
         "name": "ML2016A105",
         "orientation": "v",
         "showlegend": false,
         "type": "scatter",
         "x": [
          1982,
          1983,
          1984,
          1985,
          1986,
          1987,
          1988,
          1989,
          1990,
          1991,
          1992,
          1993,
          1994,
          1995,
          1996,
          1997,
          1998,
          1999,
          2000,
          2001,
          2002,
          2003,
          2004,
          2005,
          2006,
          2007,
          2008,
          2009,
          2010,
          2011,
          2012,
          2013,
          2014,
          2015,
          2016,
          2017,
          2018,
          2019,
          2020,
          2021
         ],
         "xaxis": "x",
         "y": [
          null,
          0.8728717366628831,
          null,
          null,
          0.0291777188328912,
          0.564366632337796,
          null,
          0.5638297872340425,
          0.2165705296276874,
          0.9500594530321046,
          0.9500594530321046,
          0.1088971269694161,
          null,
          0.4711538461538461,
          0.7199256850905713,
          0.1949069539666993,
          0.554950495049505,
          0.6959953230049694,
          0.53024,
          0.2969479353680431,
          0.4941176470588235,
          0.6027000964320154,
          0.4379268782643632,
          0.4111233784156776,
          0.5689586645468998,
          0.5358090185676393,
          0.3812316715542522,
          1.7364729458917836,
          null,
          1.120480813684697,
          2.131398761004238,
          1.9779151943462896,
          null,
          2.690241197281968,
          4.442048517520216,
          4.442048517520216,
          1.045748987854251,
          2.405013192612137,
          0.8854300000010713,
          1.0096153846153846
         ],
         "yaxis": "y"
        },
        {
         "connectgaps": false,
         "hovertemplate": "fnid=ML2016A106<br>indicator=production<br>year=%{x}<br>value=%{y}<extra></extra>",
         "legendgroup": "ML2016A106",
         "line": {
          "color": "#19d3f3",
          "dash": "solid"
         },
         "marker": {
          "symbol": "circle"
         },
         "mode": "markers+lines",
         "name": "ML2016A106",
         "orientation": "v",
         "showlegend": true,
         "type": "scatter",
         "x": [
          1982,
          1983,
          1984,
          1985,
          1986,
          1987,
          1988,
          1989,
          1990,
          1991,
          1992,
          1993,
          1994,
          1995,
          1996,
          1997,
          1998,
          1999,
          2000,
          2001,
          2002,
          2003,
          2004,
          2005,
          2006,
          2007,
          2008,
          2009,
          2010,
          2011,
          2012,
          2013,
          2014,
          2015,
          2016,
          2017,
          2018,
          2019,
          2020,
          2021
         ],
         "xaxis": "x3",
         "y": [
          null,
          null,
          null,
          null,
          null,
          null,
          null,
          null,
          null,
          null,
          null,
          null,
          null,
          null,
          null,
          null,
          null,
          null,
          884,
          2000,
          661,
          950,
          76,
          130,
          354.03658107,
          4739,
          30473,
          37242,
          null,
          34250,
          49512,
          457,
          2239,
          2379,
          380,
          380,
          1271,
          null,
          15498.36445326,
          1909
         ],
         "yaxis": "y3"
        },
        {
         "connectgaps": false,
         "hovertemplate": "fnid=ML2016A106<br>indicator=area<br>year=%{x}<br>value=%{y}<extra></extra>",
         "legendgroup": "ML2016A106",
         "line": {
          "color": "#19d3f3",
          "dash": "solid"
         },
         "marker": {
          "symbol": "circle"
         },
         "mode": "markers+lines",
         "name": "ML2016A106",
         "orientation": "v",
         "showlegend": false,
         "type": "scatter",
         "x": [
          1982,
          1983,
          1984,
          1985,
          1986,
          1987,
          1988,
          1989,
          1990,
          1991,
          1992,
          1993,
          1994,
          1995,
          1996,
          1997,
          1998,
          1999,
          2000,
          2001,
          2002,
          2003,
          2004,
          2005,
          2006,
          2007,
          2008,
          2009,
          2010,
          2011,
          2012,
          2013,
          2014,
          2015,
          2016,
          2017,
          2018,
          2019,
          2020,
          2021
         ],
         "xaxis": "x2",
         "y": [
          null,
          null,
          null,
          null,
          null,
          null,
          null,
          null,
          null,
          null,
          null,
          null,
          null,
          null,
          null,
          null,
          null,
          null,
          442,
          800,
          601,
          380,
          120,
          200,
          485.09145267,
          2216,
          15079,
          18735,
          null,
          16250,
          16255,
          640,
          392,
          816,
          230,
          230,
          478,
          null,
          9685.91922401,
          1126
         ],
         "yaxis": "y2"
        },
        {
         "connectgaps": false,
         "hovertemplate": "fnid=ML2016A106<br>indicator=yield<br>year=%{x}<br>value=%{y}<extra></extra>",
         "legendgroup": "ML2016A106",
         "line": {
          "color": "#19d3f3",
          "dash": "solid"
         },
         "marker": {
          "symbol": "circle"
         },
         "mode": "markers+lines",
         "name": "ML2016A106",
         "orientation": "v",
         "showlegend": false,
         "type": "scatter",
         "x": [
          1982,
          1983,
          1984,
          1985,
          1986,
          1987,
          1988,
          1989,
          1990,
          1991,
          1992,
          1993,
          1994,
          1995,
          1996,
          1997,
          1998,
          1999,
          2000,
          2001,
          2002,
          2003,
          2004,
          2005,
          2006,
          2007,
          2008,
          2009,
          2010,
          2011,
          2012,
          2013,
          2014,
          2015,
          2016,
          2017,
          2018,
          2019,
          2020,
          2021
         ],
         "xaxis": "x",
         "y": [
          null,
          null,
          null,
          null,
          null,
          null,
          null,
          null,
          null,
          null,
          null,
          null,
          null,
          null,
          null,
          null,
          null,
          null,
          2,
          2.5,
          1.0998336106489184,
          2.5,
          0.6333333333333333,
          0.65,
          0.7298347128594852,
          2.1385379061371843,
          2.020889979441608,
          1.987830264211369,
          null,
          2.107692307692308,
          3.04595509074131,
          0.7140625,
          5.711734693877551,
          2.9154411764705883,
          1.6521739130434785,
          1.6521739130434785,
          2.6589958158995817,
          null,
          1.600092267426904,
          1.6953818827708704
         ],
         "yaxis": "y"
        },
        {
         "connectgaps": false,
         "hovertemplate": "fnid=ML2016A107<br>indicator=production<br>year=%{x}<br>value=%{y}<extra></extra>",
         "legendgroup": "ML2016A107",
         "line": {
          "color": "#FF6692",
          "dash": "solid"
         },
         "marker": {
          "symbol": "circle"
         },
         "mode": "markers+lines",
         "name": "ML2016A107",
         "orientation": "v",
         "showlegend": true,
         "type": "scatter",
         "x": [
          1982,
          1983,
          1984,
          1985,
          1986,
          1987,
          1988,
          1989,
          1990,
          1991,
          1992,
          1993,
          1994,
          1995,
          1996,
          1997,
          1998,
          1999,
          2000,
          2001,
          2002,
          2003,
          2004,
          2005,
          2006,
          2007,
          2008,
          2009,
          2010,
          2011,
          2012,
          2013,
          2014,
          2015,
          2016,
          2017,
          2018,
          2019,
          2020,
          2021
         ],
         "xaxis": "x3",
         "y": [
          null,
          null,
          null,
          null,
          null,
          null,
          null,
          null,
          null,
          null,
          null,
          null,
          null,
          null,
          null,
          null,
          null,
          null,
          null,
          null,
          null,
          null,
          null,
          36,
          null,
          null,
          null,
          190,
          null,
          null,
          42,
          null,
          null,
          null,
          46,
          46,
          null,
          null,
          null,
          null
         ],
         "yaxis": "y3"
        },
        {
         "connectgaps": false,
         "hovertemplate": "fnid=ML2016A107<br>indicator=area<br>year=%{x}<br>value=%{y}<extra></extra>",
         "legendgroup": "ML2016A107",
         "line": {
          "color": "#FF6692",
          "dash": "solid"
         },
         "marker": {
          "symbol": "circle"
         },
         "mode": "markers+lines",
         "name": "ML2016A107",
         "orientation": "v",
         "showlegend": false,
         "type": "scatter",
         "x": [
          1982,
          1983,
          1984,
          1985,
          1986,
          1987,
          1988,
          1989,
          1990,
          1991,
          1992,
          1993,
          1994,
          1995,
          1996,
          1997,
          1998,
          1999,
          2000,
          2001,
          2002,
          2003,
          2004,
          2005,
          2006,
          2007,
          2008,
          2009,
          2010,
          2011,
          2012,
          2013,
          2014,
          2015,
          2016,
          2017,
          2018,
          2019,
          2020,
          2021
         ],
         "xaxis": "x2",
         "y": [
          null,
          null,
          null,
          null,
          null,
          null,
          null,
          null,
          null,
          null,
          null,
          null,
          null,
          null,
          null,
          null,
          null,
          null,
          null,
          null,
          null,
          null,
          246,
          662,
          null,
          null,
          null,
          60,
          null,
          null,
          null,
          null,
          null,
          null,
          14,
          14,
          null,
          null,
          null,
          null
         ],
         "yaxis": "y2"
        },
        {
         "connectgaps": false,
         "hovertemplate": "fnid=ML2016A107<br>indicator=yield<br>year=%{x}<br>value=%{y}<extra></extra>",
         "legendgroup": "ML2016A107",
         "line": {
          "color": "#FF6692",
          "dash": "solid"
         },
         "marker": {
          "symbol": "circle"
         },
         "mode": "markers+lines",
         "name": "ML2016A107",
         "orientation": "v",
         "showlegend": false,
         "type": "scatter",
         "x": [
          1982,
          1983,
          1984,
          1985,
          1986,
          1987,
          1988,
          1989,
          1990,
          1991,
          1992,
          1993,
          1994,
          1995,
          1996,
          1997,
          1998,
          1999,
          2000,
          2001,
          2002,
          2003,
          2004,
          2005,
          2006,
          2007,
          2008,
          2009,
          2010,
          2011,
          2012,
          2013,
          2014,
          2015,
          2016,
          2017,
          2018,
          2019,
          2020,
          2021
         ],
         "xaxis": "x",
         "y": [
          null,
          null,
          null,
          null,
          null,
          null,
          null,
          null,
          null,
          null,
          null,
          null,
          null,
          null,
          null,
          null,
          null,
          null,
          null,
          null,
          null,
          null,
          null,
          0.0543806646525679,
          null,
          null,
          null,
          3.1666666666666665,
          null,
          null,
          null,
          null,
          null,
          null,
          3.2857142857142856,
          3.2857142857142856,
          null,
          null,
          null,
          null
         ],
         "yaxis": "y"
        }
       ],
       "layout": {
        "annotations": [
         {
          "showarrow": false,
          "text": "",
          "textangle": 90,
          "x": 0.98,
          "xanchor": "left",
          "xref": "paper",
          "y": 0.16333333333333333,
          "yanchor": "middle",
          "yref": "paper"
         },
         {
          "showarrow": false,
          "text": "",
          "textangle": 90,
          "x": 0.98,
          "xanchor": "left",
          "xref": "paper",
          "y": 0.5,
          "yanchor": "middle",
          "yref": "paper"
         },
         {
          "showarrow": false,
          "text": "",
          "textangle": 90,
          "x": 0.98,
          "xanchor": "left",
          "xref": "paper",
          "y": 0.8366666666666667,
          "yanchor": "middle",
          "yref": "paper"
         },
         {
          "align": "left",
          "font": {
           "color": "dimgrey",
           "family": "arial",
           "size": 15
          },
          "showarrow": false,
          "text": "Production-Area-Yield time-series of ML - Maize - Main",
          "x": -0.014,
          "xref": "paper",
          "y": -0.14,
          "yref": "paper"
         }
        ],
        "font": {
         "color": "black",
         "family": "arial",
         "size": 16
        },
        "height": 600,
        "legend": {
         "font": {
          "size": 14
         },
         "title": {
          "text": "FNID"
         },
         "tracegroupgap": 0,
         "x": 1,
         "xanchor": "left",
         "y": 1,
         "yanchor": "top"
        },
        "margin": {
         "b": 25,
         "l": 0,
         "r": 0,
         "t": 0
        },
        "template": {
         "data": {
          "bar": [
           {
            "error_x": {
             "color": "#2a3f5f"
            },
            "error_y": {
             "color": "#2a3f5f"
            },
            "marker": {
             "line": {
              "color": "#E5ECF6",
              "width": 0.5
             },
             "pattern": {
              "fillmode": "overlay",
              "size": 10,
              "solidity": 0.2
             }
            },
            "type": "bar"
           }
          ],
          "barpolar": [
           {
            "marker": {
             "line": {
              "color": "#E5ECF6",
              "width": 0.5
             },
             "pattern": {
              "fillmode": "overlay",
              "size": 10,
              "solidity": 0.2
             }
            },
            "type": "barpolar"
           }
          ],
          "carpet": [
           {
            "aaxis": {
             "endlinecolor": "#2a3f5f",
             "gridcolor": "white",
             "linecolor": "white",
             "minorgridcolor": "white",
             "startlinecolor": "#2a3f5f"
            },
            "baxis": {
             "endlinecolor": "#2a3f5f",
             "gridcolor": "white",
             "linecolor": "white",
             "minorgridcolor": "white",
             "startlinecolor": "#2a3f5f"
            },
            "type": "carpet"
           }
          ],
          "choropleth": [
           {
            "colorbar": {
             "outlinewidth": 0,
             "ticks": ""
            },
            "type": "choropleth"
           }
          ],
          "contour": [
           {
            "colorbar": {
             "outlinewidth": 0,
             "ticks": ""
            },
            "colorscale": [
             [
              0,
              "#0d0887"
             ],
             [
              0.1111111111111111,
              "#46039f"
             ],
             [
              0.2222222222222222,
              "#7201a8"
             ],
             [
              0.3333333333333333,
              "#9c179e"
             ],
             [
              0.4444444444444444,
              "#bd3786"
             ],
             [
              0.5555555555555556,
              "#d8576b"
             ],
             [
              0.6666666666666666,
              "#ed7953"
             ],
             [
              0.7777777777777778,
              "#fb9f3a"
             ],
             [
              0.8888888888888888,
              "#fdca26"
             ],
             [
              1,
              "#f0f921"
             ]
            ],
            "type": "contour"
           }
          ],
          "contourcarpet": [
           {
            "colorbar": {
             "outlinewidth": 0,
             "ticks": ""
            },
            "type": "contourcarpet"
           }
          ],
          "heatmap": [
           {
            "colorbar": {
             "outlinewidth": 0,
             "ticks": ""
            },
            "colorscale": [
             [
              0,
              "#0d0887"
             ],
             [
              0.1111111111111111,
              "#46039f"
             ],
             [
              0.2222222222222222,
              "#7201a8"
             ],
             [
              0.3333333333333333,
              "#9c179e"
             ],
             [
              0.4444444444444444,
              "#bd3786"
             ],
             [
              0.5555555555555556,
              "#d8576b"
             ],
             [
              0.6666666666666666,
              "#ed7953"
             ],
             [
              0.7777777777777778,
              "#fb9f3a"
             ],
             [
              0.8888888888888888,
              "#fdca26"
             ],
             [
              1,
              "#f0f921"
             ]
            ],
            "type": "heatmap"
           }
          ],
          "heatmapgl": [
           {
            "colorbar": {
             "outlinewidth": 0,
             "ticks": ""
            },
            "colorscale": [
             [
              0,
              "#0d0887"
             ],
             [
              0.1111111111111111,
              "#46039f"
             ],
             [
              0.2222222222222222,
              "#7201a8"
             ],
             [
              0.3333333333333333,
              "#9c179e"
             ],
             [
              0.4444444444444444,
              "#bd3786"
             ],
             [
              0.5555555555555556,
              "#d8576b"
             ],
             [
              0.6666666666666666,
              "#ed7953"
             ],
             [
              0.7777777777777778,
              "#fb9f3a"
             ],
             [
              0.8888888888888888,
              "#fdca26"
             ],
             [
              1,
              "#f0f921"
             ]
            ],
            "type": "heatmapgl"
           }
          ],
          "histogram": [
           {
            "marker": {
             "pattern": {
              "fillmode": "overlay",
              "size": 10,
              "solidity": 0.2
             }
            },
            "type": "histogram"
           }
          ],
          "histogram2d": [
           {
            "colorbar": {
             "outlinewidth": 0,
             "ticks": ""
            },
            "colorscale": [
             [
              0,
              "#0d0887"
             ],
             [
              0.1111111111111111,
              "#46039f"
             ],
             [
              0.2222222222222222,
              "#7201a8"
             ],
             [
              0.3333333333333333,
              "#9c179e"
             ],
             [
              0.4444444444444444,
              "#bd3786"
             ],
             [
              0.5555555555555556,
              "#d8576b"
             ],
             [
              0.6666666666666666,
              "#ed7953"
             ],
             [
              0.7777777777777778,
              "#fb9f3a"
             ],
             [
              0.8888888888888888,
              "#fdca26"
             ],
             [
              1,
              "#f0f921"
             ]
            ],
            "type": "histogram2d"
           }
          ],
          "histogram2dcontour": [
           {
            "colorbar": {
             "outlinewidth": 0,
             "ticks": ""
            },
            "colorscale": [
             [
              0,
              "#0d0887"
             ],
             [
              0.1111111111111111,
              "#46039f"
             ],
             [
              0.2222222222222222,
              "#7201a8"
             ],
             [
              0.3333333333333333,
              "#9c179e"
             ],
             [
              0.4444444444444444,
              "#bd3786"
             ],
             [
              0.5555555555555556,
              "#d8576b"
             ],
             [
              0.6666666666666666,
              "#ed7953"
             ],
             [
              0.7777777777777778,
              "#fb9f3a"
             ],
             [
              0.8888888888888888,
              "#fdca26"
             ],
             [
              1,
              "#f0f921"
             ]
            ],
            "type": "histogram2dcontour"
           }
          ],
          "mesh3d": [
           {
            "colorbar": {
             "outlinewidth": 0,
             "ticks": ""
            },
            "type": "mesh3d"
           }
          ],
          "parcoords": [
           {
            "line": {
             "colorbar": {
              "outlinewidth": 0,
              "ticks": ""
             }
            },
            "type": "parcoords"
           }
          ],
          "pie": [
           {
            "automargin": true,
            "type": "pie"
           }
          ],
          "scatter": [
           {
            "fillpattern": {
             "fillmode": "overlay",
             "size": 10,
             "solidity": 0.2
            },
            "type": "scatter"
           }
          ],
          "scatter3d": [
           {
            "line": {
             "colorbar": {
              "outlinewidth": 0,
              "ticks": ""
             }
            },
            "marker": {
             "colorbar": {
              "outlinewidth": 0,
              "ticks": ""
             }
            },
            "type": "scatter3d"
           }
          ],
          "scattercarpet": [
           {
            "marker": {
             "colorbar": {
              "outlinewidth": 0,
              "ticks": ""
             }
            },
            "type": "scattercarpet"
           }
          ],
          "scattergeo": [
           {
            "marker": {
             "colorbar": {
              "outlinewidth": 0,
              "ticks": ""
             }
            },
            "type": "scattergeo"
           }
          ],
          "scattergl": [
           {
            "marker": {
             "colorbar": {
              "outlinewidth": 0,
              "ticks": ""
             }
            },
            "type": "scattergl"
           }
          ],
          "scattermapbox": [
           {
            "marker": {
             "colorbar": {
              "outlinewidth": 0,
              "ticks": ""
             }
            },
            "type": "scattermapbox"
           }
          ],
          "scatterpolar": [
           {
            "marker": {
             "colorbar": {
              "outlinewidth": 0,
              "ticks": ""
             }
            },
            "type": "scatterpolar"
           }
          ],
          "scatterpolargl": [
           {
            "marker": {
             "colorbar": {
              "outlinewidth": 0,
              "ticks": ""
             }
            },
            "type": "scatterpolargl"
           }
          ],
          "scatterternary": [
           {
            "marker": {
             "colorbar": {
              "outlinewidth": 0,
              "ticks": ""
             }
            },
            "type": "scatterternary"
           }
          ],
          "surface": [
           {
            "colorbar": {
             "outlinewidth": 0,
             "ticks": ""
            },
            "colorscale": [
             [
              0,
              "#0d0887"
             ],
             [
              0.1111111111111111,
              "#46039f"
             ],
             [
              0.2222222222222222,
              "#7201a8"
             ],
             [
              0.3333333333333333,
              "#9c179e"
             ],
             [
              0.4444444444444444,
              "#bd3786"
             ],
             [
              0.5555555555555556,
              "#d8576b"
             ],
             [
              0.6666666666666666,
              "#ed7953"
             ],
             [
              0.7777777777777778,
              "#fb9f3a"
             ],
             [
              0.8888888888888888,
              "#fdca26"
             ],
             [
              1,
              "#f0f921"
             ]
            ],
            "type": "surface"
           }
          ],
          "table": [
           {
            "cells": {
             "fill": {
              "color": "#EBF0F8"
             },
             "line": {
              "color": "white"
             }
            },
            "header": {
             "fill": {
              "color": "#C8D4E3"
             },
             "line": {
              "color": "white"
             }
            },
            "type": "table"
           }
          ]
         },
         "layout": {
          "annotationdefaults": {
           "arrowcolor": "#2a3f5f",
           "arrowhead": 0,
           "arrowwidth": 1
          },
          "autotypenumbers": "strict",
          "coloraxis": {
           "colorbar": {
            "outlinewidth": 0,
            "ticks": ""
           }
          },
          "colorscale": {
           "diverging": [
            [
             0,
             "#8e0152"
            ],
            [
             0.1,
             "#c51b7d"
            ],
            [
             0.2,
             "#de77ae"
            ],
            [
             0.3,
             "#f1b6da"
            ],
            [
             0.4,
             "#fde0ef"
            ],
            [
             0.5,
             "#f7f7f7"
            ],
            [
             0.6,
             "#e6f5d0"
            ],
            [
             0.7,
             "#b8e186"
            ],
            [
             0.8,
             "#7fbc41"
            ],
            [
             0.9,
             "#4d9221"
            ],
            [
             1,
             "#276419"
            ]
           ],
           "sequential": [
            [
             0,
             "#0d0887"
            ],
            [
             0.1111111111111111,
             "#46039f"
            ],
            [
             0.2222222222222222,
             "#7201a8"
            ],
            [
             0.3333333333333333,
             "#9c179e"
            ],
            [
             0.4444444444444444,
             "#bd3786"
            ],
            [
             0.5555555555555556,
             "#d8576b"
            ],
            [
             0.6666666666666666,
             "#ed7953"
            ],
            [
             0.7777777777777778,
             "#fb9f3a"
            ],
            [
             0.8888888888888888,
             "#fdca26"
            ],
            [
             1,
             "#f0f921"
            ]
           ],
           "sequentialminus": [
            [
             0,
             "#0d0887"
            ],
            [
             0.1111111111111111,
             "#46039f"
            ],
            [
             0.2222222222222222,
             "#7201a8"
            ],
            [
             0.3333333333333333,
             "#9c179e"
            ],
            [
             0.4444444444444444,
             "#bd3786"
            ],
            [
             0.5555555555555556,
             "#d8576b"
            ],
            [
             0.6666666666666666,
             "#ed7953"
            ],
            [
             0.7777777777777778,
             "#fb9f3a"
            ],
            [
             0.8888888888888888,
             "#fdca26"
            ],
            [
             1,
             "#f0f921"
            ]
           ]
          },
          "colorway": [
           "#636efa",
           "#EF553B",
           "#00cc96",
           "#ab63fa",
           "#FFA15A",
           "#19d3f3",
           "#FF6692",
           "#B6E880",
           "#FF97FF",
           "#FECB52"
          ],
          "font": {
           "color": "#2a3f5f"
          },
          "geo": {
           "bgcolor": "white",
           "lakecolor": "white",
           "landcolor": "#E5ECF6",
           "showlakes": true,
           "showland": true,
           "subunitcolor": "white"
          },
          "hoverlabel": {
           "align": "left"
          },
          "hovermode": "closest",
          "mapbox": {
           "style": "light"
          },
          "paper_bgcolor": "white",
          "plot_bgcolor": "#E5ECF6",
          "polar": {
           "angularaxis": {
            "gridcolor": "white",
            "linecolor": "white",
            "ticks": ""
           },
           "bgcolor": "#E5ECF6",
           "radialaxis": {
            "gridcolor": "white",
            "linecolor": "white",
            "ticks": ""
           }
          },
          "scene": {
           "xaxis": {
            "backgroundcolor": "#E5ECF6",
            "gridcolor": "white",
            "gridwidth": 2,
            "linecolor": "white",
            "showbackground": true,
            "ticks": "",
            "zerolinecolor": "white"
           },
           "yaxis": {
            "backgroundcolor": "#E5ECF6",
            "gridcolor": "white",
            "gridwidth": 2,
            "linecolor": "white",
            "showbackground": true,
            "ticks": "",
            "zerolinecolor": "white"
           },
           "zaxis": {
            "backgroundcolor": "#E5ECF6",
            "gridcolor": "white",
            "gridwidth": 2,
            "linecolor": "white",
            "showbackground": true,
            "ticks": "",
            "zerolinecolor": "white"
           }
          },
          "shapedefaults": {
           "line": {
            "color": "#2a3f5f"
           }
          },
          "ternary": {
           "aaxis": {
            "gridcolor": "white",
            "linecolor": "white",
            "ticks": ""
           },
           "baxis": {
            "gridcolor": "white",
            "linecolor": "white",
            "ticks": ""
           },
           "bgcolor": "#E5ECF6",
           "caxis": {
            "gridcolor": "white",
            "linecolor": "white",
            "ticks": ""
           }
          },
          "title": {
           "x": 0.05
          },
          "xaxis": {
           "automargin": true,
           "gridcolor": "white",
           "linecolor": "white",
           "ticks": "",
           "title": {
            "standoff": 15
           },
           "zerolinecolor": "white",
           "zerolinewidth": 2
          },
          "yaxis": {
           "automargin": true,
           "gridcolor": "white",
           "linecolor": "white",
           "ticks": "",
           "title": {
            "standoff": 15
           },
           "zerolinecolor": "white",
           "zerolinewidth": 2
          }
         }
        },
        "width": 900,
        "xaxis": {
         "anchor": "y",
         "domain": [
          0,
          0.98
         ],
         "dtick": 1,
         "range": [
          1982,
          2021
         ],
         "title": {
          "text": ""
         }
        },
        "xaxis2": {
         "anchor": "y2",
         "domain": [
          0,
          0.98
         ],
         "dtick": 1,
         "matches": "x",
         "showticklabels": false
        },
        "xaxis3": {
         "anchor": "y3",
         "domain": [
          0,
          0.98
         ],
         "dtick": 1,
         "matches": "x",
         "showticklabels": false
        },
        "yaxis": {
         "anchor": "x",
         "domain": [
          0,
          0.32666666666666666
         ],
         "title": {
          "text": "Yield (mt/ha)"
         }
        },
        "yaxis2": {
         "anchor": "x2",
         "domain": [
          0.33666666666666667,
          0.6633333333333333
         ],
         "title": {
          "text": "Area (ha)"
         }
        },
        "yaxis3": {
         "anchor": "x3",
         "domain": [
          0.6733333333333333,
          1
         ],
         "title": {
          "text": "Production (mt)"
         }
        }
       }
      }
     },
     "metadata": {},
     "output_type": "display_data"
    },
    {
     "name": "stdout",
     "output_type": "stream",
     "text": [
      "../figures/ML_line_pay_Millet_Main.png is saved.\n"
     ]
    },
    {
     "data": {
      "application/vnd.plotly.v1+json": {
       "config": {
        "plotlyServerURL": "https://plot.ly"
       },
       "data": [
        {
         "connectgaps": false,
         "hovertemplate": "fnid=ML2016A101<br>indicator=production<br>year=%{x}<br>value=%{y}<extra></extra>",
         "legendgroup": "ML2016A101",
         "line": {
          "color": "#636efa",
          "dash": "solid"
         },
         "marker": {
          "symbol": "circle"
         },
         "mode": "markers+lines",
         "name": "ML2016A101",
         "orientation": "v",
         "showlegend": true,
         "type": "scatter",
         "x": [
          1982,
          1983,
          1984,
          1985,
          1986,
          1987,
          1988,
          1989,
          1990,
          1991,
          1992,
          1993,
          1994,
          1995,
          1996,
          1997,
          1998,
          1999,
          2000,
          2001,
          2002,
          2003,
          2004,
          2005,
          2006,
          2007,
          2008,
          2009,
          2010,
          2011,
          2012,
          2013,
          2014,
          2015,
          2016,
          2017,
          2018,
          2019,
          2020,
          2021
         ],
         "xaxis": "x3",
         "y": [
          18081,
          46889,
          5087,
          26213,
          8494,
          32790,
          11333,
          21113,
          4629,
          15377,
          15377,
          12608,
          17672,
          22590,
          33750,
          28434,
          31601,
          69801,
          13897,
          5743,
          40242,
          44885,
          57219,
          37610,
          48690,
          30136,
          36926,
          21135,
          null,
          22666,
          54212,
          44380,
          49976,
          70735,
          57326,
          57326,
          19187,
          30666,
          40159.54918248,
          62857
         ],
         "yaxis": "y3"
        },
        {
         "connectgaps": false,
         "hovertemplate": "fnid=ML2016A101<br>indicator=area<br>year=%{x}<br>value=%{y}<extra></extra>",
         "legendgroup": "ML2016A101",
         "line": {
          "color": "#636efa",
          "dash": "solid"
         },
         "marker": {
          "symbol": "circle"
         },
         "mode": "markers+lines",
         "name": "ML2016A101",
         "orientation": "v",
         "showlegend": false,
         "type": "scatter",
         "x": [
          1982,
          1983,
          1984,
          1985,
          1986,
          1987,
          1988,
          1989,
          1990,
          1991,
          1992,
          1993,
          1994,
          1995,
          1996,
          1997,
          1998,
          1999,
          2000,
          2001,
          2002,
          2003,
          2004,
          2005,
          2006,
          2007,
          2008,
          2009,
          2010,
          2011,
          2012,
          2013,
          2014,
          2015,
          2016,
          2017,
          2018,
          2019,
          2020,
          2021
         ],
         "xaxis": "x2",
         "y": [
          15068,
          77044,
          20897,
          28803,
          12596,
          30825,
          19791,
          22645,
          13128,
          15081,
          15081,
          20897,
          null,
          29423,
          38471,
          35216,
          39534,
          76443,
          18633,
          12704,
          59318,
          63108,
          53266,
          47457,
          76757,
          43116,
          52381,
          23734,
          null,
          47721,
          51612,
          67582,
          49976,
          71714,
          57977,
          57977,
          53392,
          37489,
          49825.12522485,
          74259
         ],
         "yaxis": "y2"
        },
        {
         "connectgaps": false,
         "hovertemplate": "fnid=ML2016A101<br>indicator=yield<br>year=%{x}<br>value=%{y}<extra></extra>",
         "legendgroup": "ML2016A101",
         "line": {
          "color": "#636efa",
          "dash": "solid"
         },
         "marker": {
          "symbol": "circle"
         },
         "mode": "markers+lines",
         "name": "ML2016A101",
         "orientation": "v",
         "showlegend": false,
         "type": "scatter",
         "x": [
          1982,
          1983,
          1984,
          1985,
          1986,
          1987,
          1988,
          1989,
          1990,
          1991,
          1992,
          1993,
          1994,
          1995,
          1996,
          1997,
          1998,
          1999,
          2000,
          2001,
          2002,
          2003,
          2004,
          2005,
          2006,
          2007,
          2008,
          2009,
          2010,
          2011,
          2012,
          2013,
          2014,
          2015,
          2016,
          2017,
          2018,
          2019,
          2020,
          2021
         ],
         "xaxis": "x",
         "y": [
          1.1999601805149986,
          0.6086002803592753,
          0.2434320715892233,
          0.9100788112349408,
          0.674341060654176,
          1.0637469586374697,
          0.572634025567177,
          0.9323470964892911,
          0.3526051188299817,
          1.019627345666733,
          1.019627345666733,
          0.6033401923721108,
          null,
          0.7677667131155899,
          0.87728418808973,
          0.8074170831440255,
          0.7993372793038903,
          0.9131117303088576,
          0.7458272956582408,
          0.4520623425692695,
          0.6784112748238309,
          0.7112410470938708,
          1.074212443209552,
          0.7925069009840487,
          0.634339539064841,
          0.6989516652750719,
          0.7049502682270289,
          0.8904946490267127,
          null,
          0.4749690911757926,
          1.0503758815779276,
          0.6566837323547691,
          1,
          0.986348551189447,
          0.9887714093519844,
          0.9887714093519844,
          0.3593609529517531,
          0.8179999466510176,
          0.8060099999999728,
          0.8464563217926446
         ],
         "yaxis": "y"
        },
        {
         "connectgaps": false,
         "hovertemplate": "fnid=ML2016A102<br>indicator=production<br>year=%{x}<br>value=%{y}<extra></extra>",
         "legendgroup": "ML2016A102",
         "line": {
          "color": "#EF553B",
          "dash": "solid"
         },
         "marker": {
          "symbol": "circle"
         },
         "mode": "markers+lines",
         "name": "ML2016A102",
         "orientation": "v",
         "showlegend": true,
         "type": "scatter",
         "x": [
          1982,
          1983,
          1984,
          1985,
          1986,
          1987,
          1988,
          1989,
          1990,
          1991,
          1992,
          1993,
          1994,
          1995,
          1996,
          1997,
          1998,
          1999,
          2000,
          2001,
          2002,
          2003,
          2004,
          2005,
          2006,
          2007,
          2008,
          2009,
          2010,
          2011,
          2012,
          2013,
          2014,
          2015,
          2016,
          2017,
          2018,
          2019,
          2020,
          2021
         ],
         "xaxis": "x3",
         "y": [
          null,
          9437,
          119982,
          129743,
          115292,
          110897,
          163015,
          116176,
          78964,
          68735,
          47783,
          94849,
          115979,
          106530,
          89630,
          96347,
          121323,
          107589,
          109581,
          43059,
          146692,
          162470,
          161239,
          250494,
          148112,
          184409,
          201141,
          183410,
          null,
          205049,
          294196,
          138251,
          195564,
          260436,
          330052,
          330052,
          232448,
          291950,
          308834.17274483,
          393095
         ],
         "yaxis": "y3"
        },
        {
         "connectgaps": false,
         "hovertemplate": "fnid=ML2016A102<br>indicator=area<br>year=%{x}<br>value=%{y}<extra></extra>",
         "legendgroup": "ML2016A102",
         "line": {
          "color": "#EF553B",
          "dash": "solid"
         },
         "marker": {
          "symbol": "circle"
         },
         "mode": "markers+lines",
         "name": "ML2016A102",
         "orientation": "v",
         "showlegend": false,
         "type": "scatter",
         "x": [
          1982,
          1983,
          1984,
          1985,
          1986,
          1987,
          1988,
          1989,
          1990,
          1991,
          1992,
          1993,
          1994,
          1995,
          1996,
          1997,
          1998,
          1999,
          2000,
          2001,
          2002,
          2003,
          2004,
          2005,
          2006,
          2007,
          2008,
          2009,
          2010,
          2011,
          2012,
          2013,
          2014,
          2015,
          2016,
          2017,
          2018,
          2019,
          2020,
          2021
         ],
         "xaxis": "x2",
         "y": [
          null,
          39936,
          114905,
          84697,
          116504,
          88814,
          129232,
          98539,
          153091,
          101321,
          101321,
          166313,
          null,
          143703,
          111172,
          109120,
          128537,
          151004,
          162788,
          70689,
          218385,
          257344,
          196892,
          290930,
          185440,
          205507,
          230123,
          178608,
          null,
          297562,
          286741,
          180054,
          195564,
          282436,
          318023,
          318023,
          309111,
          346322,
          350804.41267757,
          407864
         ],
         "yaxis": "y2"
        },
        {
         "connectgaps": false,
         "hovertemplate": "fnid=ML2016A102<br>indicator=yield<br>year=%{x}<br>value=%{y}<extra></extra>",
         "legendgroup": "ML2016A102",
         "line": {
          "color": "#EF553B",
          "dash": "solid"
         },
         "marker": {
          "symbol": "circle"
         },
         "mode": "markers+lines",
         "name": "ML2016A102",
         "orientation": "v",
         "showlegend": false,
         "type": "scatter",
         "x": [
          1982,
          1983,
          1984,
          1985,
          1986,
          1987,
          1988,
          1989,
          1990,
          1991,
          1992,
          1993,
          1994,
          1995,
          1996,
          1997,
          1998,
          1999,
          2000,
          2001,
          2002,
          2003,
          2004,
          2005,
          2006,
          2007,
          2008,
          2009,
          2010,
          2011,
          2012,
          2013,
          2014,
          2015,
          2016,
          2017,
          2018,
          2019,
          2020,
          2021
         ],
         "xaxis": "x",
         "y": [
          null,
          0.2363030849358974,
          1.0441843261824986,
          1.5318488258143736,
          0.989596923710774,
          1.248643231922895,
          1.2614135817754115,
          1.178984970417804,
          0.5157977934692438,
          0.6783884880725615,
          0.4716001618618055,
          0.5703041854815919,
          null,
          0.7413206404876725,
          0.8062281869535495,
          0.8829453812316715,
          0.9438760823731688,
          0.7124910598394745,
          0.6731515836548149,
          0.6091329626957518,
          0.6717128007875999,
          0.6313339343446904,
          0.8189210328504967,
          0.8610112398171381,
          0.7987057808455565,
          0.8973368303756076,
          0.8740586555885331,
          1.0268856938099078,
          null,
          0.6890967260604512,
          1.0259990723335692,
          0.7678307618825464,
          1,
          0.9221062470789844,
          1.0378243083047451,
          1.0378243083047451,
          0.7519887677889172,
          0.8430015996673615,
          0.8803600000000128,
          0.9637894003883648
         ],
         "yaxis": "y"
        },
        {
         "connectgaps": false,
         "hovertemplate": "fnid=ML2016A103<br>indicator=production<br>year=%{x}<br>value=%{y}<extra></extra>",
         "legendgroup": "ML2016A103",
         "line": {
          "color": "#00cc96",
          "dash": "solid"
         },
         "marker": {
          "symbol": "circle"
         },
         "mode": "markers+lines",
         "name": "ML2016A103",
         "orientation": "v",
         "showlegend": true,
         "type": "scatter",
         "x": [
          1982,
          1983,
          1984,
          1985,
          1986,
          1987,
          1988,
          1989,
          1990,
          1991,
          1992,
          1993,
          1994,
          1995,
          1996,
          1997,
          1998,
          1999,
          2000,
          2001,
          2002,
          2003,
          2004,
          2005,
          2006,
          2007,
          2008,
          2009,
          2010,
          2011,
          2012,
          2013,
          2014,
          2015,
          2016,
          2017,
          2018,
          2019,
          2020,
          2021
         ],
         "xaxis": "x3",
         "y": [
          39630,
          49689,
          109182,
          162157,
          143520,
          101580,
          155827,
          147344,
          134831,
          62787,
          62788,
          73148,
          89175,
          77460,
          59130,
          69275,
          60282,
          128070,
          94124,
          66285,
          119549,
          144953,
          141534,
          139837,
          257502.80514036,
          222279,
          281104,
          251175,
          null,
          214623,
          205708,
          137786,
          190629,
          618108,
          146826,
          146826,
          183316,
          141254,
          241044.02952917,
          287085
         ],
         "yaxis": "y3"
        },
        {
         "connectgaps": false,
         "hovertemplate": "fnid=ML2016A103<br>indicator=area<br>year=%{x}<br>value=%{y}<extra></extra>",
         "legendgroup": "ML2016A103",
         "line": {
          "color": "#00cc96",
          "dash": "solid"
         },
         "marker": {
          "symbol": "circle"
         },
         "mode": "markers+lines",
         "name": "ML2016A103",
         "orientation": "v",
         "showlegend": false,
         "type": "scatter",
         "x": [
          1982,
          1983,
          1984,
          1985,
          1986,
          1987,
          1988,
          1989,
          1990,
          1991,
          1992,
          1993,
          1994,
          1995,
          1996,
          1997,
          1998,
          1999,
          2000,
          2001,
          2002,
          2003,
          2004,
          2005,
          2006,
          2007,
          2008,
          2009,
          2010,
          2011,
          2012,
          2013,
          2014,
          2015,
          2016,
          2017,
          2018,
          2019,
          2020,
          2021
         ],
         "xaxis": "x2",
         "y": [
          22285,
          23944,
          104302,
          125693,
          120995,
          116049,
          151218,
          124445,
          117937,
          101663,
          101663,
          134843,
          null,
          99204,
          59833,
          63849,
          57971,
          124737,
          88898,
          77257,
          129890,
          156268,
          102552,
          132475,
          235789.49047624,
          244708,
          236674,
          218245,
          null,
          241245,
          166041,
          148041,
          190629,
          685264,
          127434,
          127434,
          230900,
          148519,
          234061.9612258,
          303804
         ],
         "yaxis": "y2"
        },
        {
         "connectgaps": false,
         "hovertemplate": "fnid=ML2016A103<br>indicator=yield<br>year=%{x}<br>value=%{y}<extra></extra>",
         "legendgroup": "ML2016A103",
         "line": {
          "color": "#00cc96",
          "dash": "solid"
         },
         "marker": {
          "symbol": "circle"
         },
         "mode": "markers+lines",
         "name": "ML2016A103",
         "orientation": "v",
         "showlegend": false,
         "type": "scatter",
         "x": [
          1982,
          1983,
          1984,
          1985,
          1986,
          1987,
          1988,
          1989,
          1990,
          1991,
          1992,
          1993,
          1994,
          1995,
          1996,
          1997,
          1998,
          1999,
          2000,
          2001,
          2002,
          2003,
          2004,
          2005,
          2006,
          2007,
          2008,
          2009,
          2010,
          2011,
          2012,
          2013,
          2014,
          2015,
          2016,
          2017,
          2018,
          2019,
          2020,
          2021
         ],
         "xaxis": "x",
         "y": [
          1.7783262284047563,
          2.0752171734046105,
          1.0467872140515042,
          1.2901036652796891,
          1.186164717550312,
          0.8753199079699092,
          1.0304791757594995,
          1.1840089999598216,
          1.1432459703061804,
          0.6175993232542814,
          0.6176091596746112,
          0.5424679071216155,
          null,
          0.7808152897060603,
          0.9882506309227348,
          1.0849817538254318,
          1.03986475996619,
          1.0267202193414946,
          1.0587864743863753,
          0.8579805066207593,
          0.9203864808684272,
          0.9275923413622752,
          1.380119354083782,
          1.0555727495753915,
          1.0920877118834438,
          0.908343822024617,
          1.1877265774863317,
          1.1508854727485165,
          null,
          0.8896474538332401,
          1.2388988261935303,
          0.930728649495748,
          1,
          0.901999813210675,
          1.152172889495739,
          1.152172889495739,
          0.7939194456474664,
          0.9510836997286544,
          1.029830000000019,
          0.944967808192124
         ],
         "yaxis": "y"
        },
        {
         "connectgaps": false,
         "hovertemplate": "fnid=ML2016A104<br>indicator=production<br>year=%{x}<br>value=%{y}<extra></extra>",
         "legendgroup": "ML2016A104",
         "line": {
          "color": "#ab63fa",
          "dash": "solid"
         },
         "marker": {
          "symbol": "circle"
         },
         "mode": "markers+lines",
         "name": "ML2016A104",
         "orientation": "v",
         "showlegend": true,
         "type": "scatter",
         "x": [
          1982,
          1983,
          1984,
          1985,
          1986,
          1987,
          1988,
          1989,
          1990,
          1991,
          1992,
          1993,
          1994,
          1995,
          1996,
          1997,
          1998,
          1999,
          2000,
          2001,
          2002,
          2003,
          2004,
          2005,
          2006,
          2007,
          2008,
          2009,
          2010,
          2011,
          2012,
          2013,
          2014,
          2015,
          2016,
          2017,
          2018,
          2019,
          2020,
          2021
         ],
         "xaxis": "x3",
         "y": [
          296387,
          327223,
          186132,
          379275,
          394869,
          200751,
          323434,
          386093,
          322102,
          242383,
          242383,
          316210,
          396341,
          256800,
          288070,
          228890,
          276917,
          194533,
          221294,
          237766,
          275264,
          402331,
          368484,
          449971,
          399047.46478976,
          426240,
          420671,
          648619,
          null,
          549644,
          697379,
          443077,
          530563,
          606019,
          748650,
          748650,
          628025,
          636816,
          909683.97108417,
          634010
         ],
         "yaxis": "y3"
        },
        {
         "connectgaps": false,
         "hovertemplate": "fnid=ML2016A104<br>indicator=area<br>year=%{x}<br>value=%{y}<extra></extra>",
         "legendgroup": "ML2016A104",
         "line": {
          "color": "#ab63fa",
          "dash": "solid"
         },
         "marker": {
          "symbol": "circle"
         },
         "mode": "markers+lines",
         "name": "ML2016A104",
         "orientation": "v",
         "showlegend": false,
         "type": "scatter",
         "x": [
          1982,
          1983,
          1984,
          1985,
          1986,
          1987,
          1988,
          1989,
          1990,
          1991,
          1992,
          1993,
          1994,
          1995,
          1996,
          1997,
          1998,
          1999,
          2000,
          2001,
          2002,
          2003,
          2004,
          2005,
          2006,
          2007,
          2008,
          2009,
          2010,
          2011,
          2012,
          2013,
          2014,
          2015,
          2016,
          2017,
          2018,
          2019,
          2020,
          2021
         ],
         "xaxis": "x2",
         "y": [
          274642,
          425592,
          391123,
          365548,
          322722,
          317915,
          503505,
          440952,
          395930,
          406041,
          406041,
          499759,
          null,
          485767,
          320792,
          265976,
          286902,
          205508,
          325303,
          285164,
          533046,
          533159,
          387315,
          460743,
          490434.47681144,
          512582,
          501864,
          602161,
          null,
          822983,
          690189,
          551582,
          530563,
          612559,
          799539,
          799539,
          771293,
          718174,
          946246.95336208,
          659612
         ],
         "yaxis": "y2"
        },
        {
         "connectgaps": false,
         "hovertemplate": "fnid=ML2016A104<br>indicator=yield<br>year=%{x}<br>value=%{y}<extra></extra>",
         "legendgroup": "ML2016A104",
         "line": {
          "color": "#ab63fa",
          "dash": "solid"
         },
         "marker": {
          "symbol": "circle"
         },
         "mode": "markers+lines",
         "name": "ML2016A104",
         "orientation": "v",
         "showlegend": false,
         "type": "scatter",
         "x": [
          1982,
          1983,
          1984,
          1985,
          1986,
          1987,
          1988,
          1989,
          1990,
          1991,
          1992,
          1993,
          1994,
          1995,
          1996,
          1997,
          1998,
          1999,
          2000,
          2001,
          2002,
          2003,
          2004,
          2005,
          2006,
          2007,
          2008,
          2009,
          2010,
          2011,
          2012,
          2013,
          2014,
          2015,
          2016,
          2017,
          2018,
          2019,
          2020,
          2021
         ],
         "xaxis": "x",
         "y": [
          1.0791757997684257,
          0.7688654861933495,
          0.4758912158067922,
          1.0375518399772397,
          1.2235577369996469,
          0.6314612396395263,
          0.6423650212013783,
          0.8755896333387762,
          0.8135326951733892,
          0.5969421807157406,
          0.5969421807157406,
          0.6327249734371967,
          null,
          0.5286485084412897,
          0.89799620938178,
          0.8605663668902457,
          0.9651971753421028,
          0.9465957529633884,
          0.6802703940633809,
          0.8337868735183964,
          0.5163982095353872,
          0.754617290526841,
          0.9513806591534024,
          0.9766203718775978,
          0.8136611181664211,
          0.8315547561170701,
          0.8382171265522134,
          1.077152123767564,
          null,
          0.6678679875525982,
          1.0104174363833676,
          0.8032840085427008,
          1,
          0.9893234774119718,
          0.9363520728819984,
          0.9363520728819984,
          0.8142495783055207,
          0.8867154756368234,
          0.9613600000000008,
          0.9611862731423928
         ],
         "yaxis": "y"
        },
        {
         "connectgaps": false,
         "hovertemplate": "fnid=ML2016A105<br>indicator=production<br>year=%{x}<br>value=%{y}<extra></extra>",
         "legendgroup": "ML2016A105",
         "line": {
          "color": "#FFA15A",
          "dash": "solid"
         },
         "marker": {
          "symbol": "circle"
         },
         "mode": "markers+lines",
         "name": "ML2016A105",
         "orientation": "v",
         "showlegend": true,
         "type": "scatter",
         "x": [
          1982,
          1983,
          1984,
          1985,
          1986,
          1987,
          1988,
          1989,
          1990,
          1991,
          1992,
          1993,
          1994,
          1995,
          1996,
          1997,
          1998,
          1999,
          2000,
          2001,
          2002,
          2003,
          2004,
          2005,
          2006,
          2007,
          2008,
          2009,
          2010,
          2011,
          2012,
          2013,
          2014,
          2015,
          2016,
          2017,
          2018,
          2019,
          2020,
          2021
         ],
         "xaxis": "x3",
         "y": [
          148130,
          108403,
          86077,
          137212,
          125157,
          235922,
          315609,
          132159,
          183892,
          198026,
          198026,
          195514,
          243013,
          223090,
          232390,
          206115,
          297738,
          283654,
          312016,
          366286,
          182577,
          450155,
          239517,
          245162,
          247762,
          272922,
          256771,
          294116,
          null,
          423437,
          490087,
          354320,
          430668,
          210022,
          625089,
          625089,
          415996,
          586656,
          347236.22234713,
          490730
         ],
         "yaxis": "y3"
        },
        {
         "connectgaps": false,
         "hovertemplate": "fnid=ML2016A105<br>indicator=area<br>year=%{x}<br>value=%{y}<extra></extra>",
         "legendgroup": "ML2016A105",
         "line": {
          "color": "#FFA15A",
          "dash": "solid"
         },
         "marker": {
          "symbol": "circle"
         },
         "mode": "markers+lines",
         "name": "ML2016A105",
         "orientation": "v",
         "showlegend": false,
         "type": "scatter",
         "x": [
          1982,
          1983,
          1984,
          1985,
          1986,
          1987,
          1988,
          1989,
          1990,
          1991,
          1992,
          1993,
          1994,
          1995,
          1996,
          1997,
          1998,
          1999,
          2000,
          2001,
          2002,
          2003,
          2004,
          2005,
          2006,
          2007,
          2008,
          2009,
          2010,
          2011,
          2012,
          2013,
          2014,
          2015,
          2016,
          2017,
          2018,
          2019,
          2020,
          2021
         ],
         "xaxis": "x2",
         "y": [
          216462,
          323553,
          232458,
          200646,
          207373,
          189475,
          343648,
          253306,
          394132,
          369723,
          369723,
          458223,
          null,
          447038,
          337407,
          341778,
          346983,
          303832,
          425577,
          545937,
          497738,
          778278,
          358906,
          488048,
          447731,
          509422,
          452811,
          344871,
          null,
          759420,
          468773,
          431186,
          430668,
          190284,
          703658,
          703658,
          757125,
          790672,
          359785.54205398,
          616279
         ],
         "yaxis": "y2"
        },
        {
         "connectgaps": false,
         "hovertemplate": "fnid=ML2016A105<br>indicator=yield<br>year=%{x}<br>value=%{y}<extra></extra>",
         "legendgroup": "ML2016A105",
         "line": {
          "color": "#FFA15A",
          "dash": "solid"
         },
         "marker": {
          "symbol": "circle"
         },
         "mode": "markers+lines",
         "name": "ML2016A105",
         "orientation": "v",
         "showlegend": false,
         "type": "scatter",
         "x": [
          1982,
          1983,
          1984,
          1985,
          1986,
          1987,
          1988,
          1989,
          1990,
          1991,
          1992,
          1993,
          1994,
          1995,
          1996,
          1997,
          1998,
          1999,
          2000,
          2001,
          2002,
          2003,
          2004,
          2005,
          2006,
          2007,
          2008,
          2009,
          2010,
          2011,
          2012,
          2013,
          2014,
          2015,
          2016,
          2017,
          2018,
          2019,
          2020,
          2021
         ],
         "xaxis": "x",
         "y": [
          0.6843233454370744,
          0.3350393907644188,
          0.3702905471095853,
          0.683851160750775,
          0.6035356579689738,
          1.2451352421163742,
          0.9184077893658628,
          0.5217365557862822,
          0.4665746501172196,
          0.5356063864027935,
          0.5356063864027935,
          0.4266787132029601,
          null,
          0.499040350037357,
          0.688752752610349,
          0.6030669030774363,
          0.8580766204684379,
          0.9335882987967036,
          0.7331599217062952,
          0.6709308949567441,
          0.366813464111641,
          0.5783987212795428,
          0.6673530116520761,
          0.5023317378618497,
          0.5533724490821498,
          0.5357483579429235,
          0.5670599875003036,
          0.8528290288252709,
          null,
          0.5575794685417819,
          1.0454676357213406,
          0.8217335442245342,
          1,
          1.1037291627251895,
          0.8883420639003606,
          0.8883420639003606,
          0.5494416377744759,
          0.7419713863650161,
          0.96511999999998,
          0.796278958069316
         ],
         "yaxis": "y"
        },
        {
         "connectgaps": false,
         "hovertemplate": "fnid=ML2016A106<br>indicator=production<br>year=%{x}<br>value=%{y}<extra></extra>",
         "legendgroup": "ML2016A106",
         "line": {
          "color": "#19d3f3",
          "dash": "solid"
         },
         "marker": {
          "symbol": "circle"
         },
         "mode": "markers+lines",
         "name": "ML2016A106",
         "orientation": "v",
         "showlegend": true,
         "type": "scatter",
         "x": [
          1982,
          1983,
          1984,
          1985,
          1986,
          1987,
          1988,
          1989,
          1990,
          1991,
          1992,
          1993,
          1994,
          1995,
          1996,
          1997,
          1998,
          1999,
          2000,
          2001,
          2002,
          2003,
          2004,
          2005,
          2006,
          2007,
          2008,
          2009,
          2010,
          2011,
          2012,
          2013,
          2014,
          2015,
          2016,
          2017,
          2018,
          2019,
          2020,
          2021
         ],
         "xaxis": "x3",
         "y": [
          null,
          2663,
          11104.412,
          21437,
          18431,
          11586,
          30610,
          38908,
          13404,
          14626,
          14626,
          14436,
          33804,
          18710,
          34460,
          8424,
          21207,
          33466,
          7141,
          39798,
          23189,
          41400,
          3873,
          19382,
          21879.90917643,
          34081,
          45520,
          48860,
          null,
          39480,
          30348,
          25558,
          31853,
          82419,
          12123,
          12123,
          13679,
          67073,
          28082.09464873,
          61296
         ],
         "yaxis": "y3"
        },
        {
         "connectgaps": false,
         "hovertemplate": "fnid=ML2016A106<br>indicator=area<br>year=%{x}<br>value=%{y}<extra></extra>",
         "legendgroup": "ML2016A106",
         "line": {
          "color": "#19d3f3",
          "dash": "solid"
         },
         "marker": {
          "symbol": "circle"
         },
         "mode": "markers+lines",
         "name": "ML2016A106",
         "orientation": "v",
         "showlegend": false,
         "type": "scatter",
         "x": [
          1982,
          1983,
          1984,
          1985,
          1986,
          1987,
          1988,
          1989,
          1990,
          1991,
          1992,
          1993,
          1994,
          1995,
          1996,
          1997,
          1998,
          1999,
          2000,
          2001,
          2002,
          2003,
          2004,
          2005,
          2006,
          2007,
          2008,
          2009,
          2010,
          2011,
          2012,
          2013,
          2014,
          2015,
          2016,
          2017,
          2018,
          2019,
          2020,
          2021
         ],
         "xaxis": "x2",
         "y": [
          null,
          30442,
          45886,
          33672,
          39916,
          36890,
          48053.37519623,
          72422,
          33455,
          60336,
          59555,
          35382,
          null,
          77269,
          61763,
          52016,
          44689,
          65599,
          34427,
          99676,
          88927,
          77843,
          57579,
          41473,
          40236.02206848,
          59590,
          85278,
          67188,
          null,
          56400,
          72850,
          49625,
          31853,
          80457,
          25474,
          25474,
          33907,
          74556,
          40958.68651546,
          77973
         ],
         "yaxis": "y2"
        },
        {
         "connectgaps": false,
         "hovertemplate": "fnid=ML2016A106<br>indicator=yield<br>year=%{x}<br>value=%{y}<extra></extra>",
         "legendgroup": "ML2016A106",
         "line": {
          "color": "#19d3f3",
          "dash": "solid"
         },
         "marker": {
          "symbol": "circle"
         },
         "mode": "markers+lines",
         "name": "ML2016A106",
         "orientation": "v",
         "showlegend": false,
         "type": "scatter",
         "x": [
          1982,
          1983,
          1984,
          1985,
          1986,
          1987,
          1988,
          1989,
          1990,
          1991,
          1992,
          1993,
          1994,
          1995,
          1996,
          1997,
          1998,
          1999,
          2000,
          2001,
          2002,
          2003,
          2004,
          2005,
          2006,
          2007,
          2008,
          2009,
          2010,
          2011,
          2012,
          2013,
          2014,
          2015,
          2016,
          2017,
          2018,
          2019,
          2020,
          2021
         ],
         "xaxis": "x",
         "y": [
          null,
          0.0874778266868142,
          0.242,
          0.6366417201235448,
          0.4617446637939673,
          0.3140688533477907,
          0.637000000000031,
          0.537240065173566,
          0.4006575997608728,
          0.2424091752850702,
          0.2455881118294014,
          0.4080040698660336,
          null,
          0.2421410915114729,
          0.5579392192736752,
          0.1619501691787142,
          0.4745463089350847,
          0.510160215856949,
          0.2074244052633107,
          0.3992736466150327,
          0.2607644472432444,
          0.5318397286846601,
          0.0672641067055697,
          0.4673401972367564,
          0.5437890738600184,
          0.5719248196006042,
          0.5337836253195432,
          0.7272131928320533,
          null,
          0.7,
          0.4165820178448867,
          0.5150226700251889,
          1,
          1.024385696707558,
          0.4758969930124833,
          0.4758969930124833,
          0.4034270209691214,
          0.8996324910134664,
          0.6856200000000077,
          0.7861182717094379
         ],
         "yaxis": "y"
        },
        {
         "connectgaps": false,
         "hovertemplate": "fnid=ML2016A107<br>indicator=production<br>year=%{x}<br>value=%{y}<extra></extra>",
         "legendgroup": "ML2016A107",
         "line": {
          "color": "#FF6692",
          "dash": "solid"
         },
         "marker": {
          "symbol": "circle"
         },
         "mode": "markers+lines",
         "name": "ML2016A107",
         "orientation": "v",
         "showlegend": true,
         "type": "scatter",
         "x": [
          1982,
          1983,
          1984,
          1985,
          1986,
          1987,
          1988,
          1989,
          1990,
          1991,
          1992,
          1993,
          1994,
          1995,
          1996,
          1997,
          1998,
          1999,
          2000,
          2001,
          2002,
          2003,
          2004,
          2005,
          2006,
          2007,
          2008,
          2009,
          2010,
          2011,
          2012,
          2013,
          2014,
          2015,
          2016,
          2017,
          2018,
          2019,
          2020,
          2021
         ],
         "xaxis": "x3",
         "y": [
          61.9,
          null,
          null,
          129,
          null,
          null,
          73,
          null,
          1304,
          1314,
          1314,
          1297,
          1608,
          1480,
          1410,
          3603,
          2747,
          1792,
          1061,
          33611,
          7633,
          14304,
          2807,
          15354,
          5780,
          5040,
          11126,
          2277,
          null,
          3884,
          345,
          4385,
          2965,
          16562,
          7039,
          7039,
          8026,
          18666,
          3486.48975186,
          11654
         ],
         "yaxis": "y3"
        },
        {
         "connectgaps": false,
         "hovertemplate": "fnid=ML2016A107<br>indicator=area<br>year=%{x}<br>value=%{y}<extra></extra>",
         "legendgroup": "ML2016A107",
         "line": {
          "color": "#FF6692",
          "dash": "solid"
         },
         "marker": {
          "symbol": "circle"
         },
         "mode": "markers+lines",
         "name": "ML2016A107",
         "orientation": "v",
         "showlegend": false,
         "type": "scatter",
         "x": [
          1982,
          1983,
          1984,
          1985,
          1986,
          1987,
          1988,
          1989,
          1990,
          1991,
          1992,
          1993,
          1994,
          1995,
          1996,
          1997,
          1998,
          1999,
          2000,
          2001,
          2002,
          2003,
          2004,
          2005,
          2006,
          2007,
          2008,
          2009,
          2010,
          2011,
          2012,
          2013,
          2014,
          2015,
          2016,
          2017,
          2018,
          2019,
          2020,
          2021
         ],
         "xaxis": "x2",
         "y": [
          797,
          null,
          null,
          1629,
          1771,
          1774,
          416,
          443,
          5037,
          6348,
          6270,
          2713,
          null,
          3135,
          6218,
          10986,
          6200,
          5184,
          22998,
          50961,
          30286,
          22889,
          28097,
          23064,
          19473,
          11354,
          17077,
          4907,
          null,
          4012,
          14790,
          8938,
          5867,
          20287,
          8048,
          8048,
          10505,
          33168,
          8270.4472717,
          24582
         ],
         "yaxis": "y2"
        },
        {
         "connectgaps": false,
         "hovertemplate": "fnid=ML2016A107<br>indicator=yield<br>year=%{x}<br>value=%{y}<extra></extra>",
         "legendgroup": "ML2016A107",
         "line": {
          "color": "#FF6692",
          "dash": "solid"
         },
         "marker": {
          "symbol": "circle"
         },
         "mode": "markers+lines",
         "name": "ML2016A107",
         "orientation": "v",
         "showlegend": false,
         "type": "scatter",
         "x": [
          1982,
          1983,
          1984,
          1985,
          1986,
          1987,
          1988,
          1989,
          1990,
          1991,
          1992,
          1993,
          1994,
          1995,
          1996,
          1997,
          1998,
          1999,
          2000,
          2001,
          2002,
          2003,
          2004,
          2005,
          2006,
          2007,
          2008,
          2009,
          2010,
          2011,
          2012,
          2013,
          2014,
          2015,
          2016,
          2017,
          2018,
          2019,
          2020,
          2021
         ],
         "xaxis": "x",
         "y": [
          0.0776662484316185,
          null,
          null,
          0.0791896869244935,
          null,
          null,
          0.1754807692307692,
          null,
          0.258884256501886,
          0.2069943289224952,
          0.2095693779904306,
          0.4780685587910063,
          null,
          0.4720893141945773,
          0.2267610164039884,
          0.3279628618241398,
          0.4430645161290322,
          0.345679012345679,
          0.0461344464736064,
          0.6595435725358607,
          0.2520306412203658,
          0.6249290051990039,
          0.0999039043314232,
          0.6657127991675338,
          0.2968212396651774,
          0.4438964241676942,
          0.6515195877496047,
          0.4640309761565111,
          null,
          0.9680957128614156,
          0.0233265720081135,
          0.4906019243678675,
          0.5053690131242543,
          0.8163848770148371,
          0.8746272365805169,
          0.8746272365805169,
          0.764017134697763,
          0.5627713458755427,
          0.4215600000002596,
          0.4740867301277357
         ],
         "yaxis": "y"
        }
       ],
       "layout": {
        "annotations": [
         {
          "showarrow": false,
          "text": "",
          "textangle": 90,
          "x": 0.98,
          "xanchor": "left",
          "xref": "paper",
          "y": 0.16333333333333333,
          "yanchor": "middle",
          "yref": "paper"
         },
         {
          "showarrow": false,
          "text": "",
          "textangle": 90,
          "x": 0.98,
          "xanchor": "left",
          "xref": "paper",
          "y": 0.5,
          "yanchor": "middle",
          "yref": "paper"
         },
         {
          "showarrow": false,
          "text": "",
          "textangle": 90,
          "x": 0.98,
          "xanchor": "left",
          "xref": "paper",
          "y": 0.8366666666666667,
          "yanchor": "middle",
          "yref": "paper"
         },
         {
          "align": "left",
          "font": {
           "color": "dimgrey",
           "family": "arial",
           "size": 15
          },
          "showarrow": false,
          "text": "Production-Area-Yield time-series of ML - Millet - Main",
          "x": -0.014,
          "xref": "paper",
          "y": -0.14,
          "yref": "paper"
         }
        ],
        "font": {
         "color": "black",
         "family": "arial",
         "size": 16
        },
        "height": 600,
        "legend": {
         "font": {
          "size": 14
         },
         "title": {
          "text": "FNID"
         },
         "tracegroupgap": 0,
         "x": 1,
         "xanchor": "left",
         "y": 1,
         "yanchor": "top"
        },
        "margin": {
         "b": 25,
         "l": 0,
         "r": 0,
         "t": 0
        },
        "template": {
         "data": {
          "bar": [
           {
            "error_x": {
             "color": "#2a3f5f"
            },
            "error_y": {
             "color": "#2a3f5f"
            },
            "marker": {
             "line": {
              "color": "#E5ECF6",
              "width": 0.5
             },
             "pattern": {
              "fillmode": "overlay",
              "size": 10,
              "solidity": 0.2
             }
            },
            "type": "bar"
           }
          ],
          "barpolar": [
           {
            "marker": {
             "line": {
              "color": "#E5ECF6",
              "width": 0.5
             },
             "pattern": {
              "fillmode": "overlay",
              "size": 10,
              "solidity": 0.2
             }
            },
            "type": "barpolar"
           }
          ],
          "carpet": [
           {
            "aaxis": {
             "endlinecolor": "#2a3f5f",
             "gridcolor": "white",
             "linecolor": "white",
             "minorgridcolor": "white",
             "startlinecolor": "#2a3f5f"
            },
            "baxis": {
             "endlinecolor": "#2a3f5f",
             "gridcolor": "white",
             "linecolor": "white",
             "minorgridcolor": "white",
             "startlinecolor": "#2a3f5f"
            },
            "type": "carpet"
           }
          ],
          "choropleth": [
           {
            "colorbar": {
             "outlinewidth": 0,
             "ticks": ""
            },
            "type": "choropleth"
           }
          ],
          "contour": [
           {
            "colorbar": {
             "outlinewidth": 0,
             "ticks": ""
            },
            "colorscale": [
             [
              0,
              "#0d0887"
             ],
             [
              0.1111111111111111,
              "#46039f"
             ],
             [
              0.2222222222222222,
              "#7201a8"
             ],
             [
              0.3333333333333333,
              "#9c179e"
             ],
             [
              0.4444444444444444,
              "#bd3786"
             ],
             [
              0.5555555555555556,
              "#d8576b"
             ],
             [
              0.6666666666666666,
              "#ed7953"
             ],
             [
              0.7777777777777778,
              "#fb9f3a"
             ],
             [
              0.8888888888888888,
              "#fdca26"
             ],
             [
              1,
              "#f0f921"
             ]
            ],
            "type": "contour"
           }
          ],
          "contourcarpet": [
           {
            "colorbar": {
             "outlinewidth": 0,
             "ticks": ""
            },
            "type": "contourcarpet"
           }
          ],
          "heatmap": [
           {
            "colorbar": {
             "outlinewidth": 0,
             "ticks": ""
            },
            "colorscale": [
             [
              0,
              "#0d0887"
             ],
             [
              0.1111111111111111,
              "#46039f"
             ],
             [
              0.2222222222222222,
              "#7201a8"
             ],
             [
              0.3333333333333333,
              "#9c179e"
             ],
             [
              0.4444444444444444,
              "#bd3786"
             ],
             [
              0.5555555555555556,
              "#d8576b"
             ],
             [
              0.6666666666666666,
              "#ed7953"
             ],
             [
              0.7777777777777778,
              "#fb9f3a"
             ],
             [
              0.8888888888888888,
              "#fdca26"
             ],
             [
              1,
              "#f0f921"
             ]
            ],
            "type": "heatmap"
           }
          ],
          "heatmapgl": [
           {
            "colorbar": {
             "outlinewidth": 0,
             "ticks": ""
            },
            "colorscale": [
             [
              0,
              "#0d0887"
             ],
             [
              0.1111111111111111,
              "#46039f"
             ],
             [
              0.2222222222222222,
              "#7201a8"
             ],
             [
              0.3333333333333333,
              "#9c179e"
             ],
             [
              0.4444444444444444,
              "#bd3786"
             ],
             [
              0.5555555555555556,
              "#d8576b"
             ],
             [
              0.6666666666666666,
              "#ed7953"
             ],
             [
              0.7777777777777778,
              "#fb9f3a"
             ],
             [
              0.8888888888888888,
              "#fdca26"
             ],
             [
              1,
              "#f0f921"
             ]
            ],
            "type": "heatmapgl"
           }
          ],
          "histogram": [
           {
            "marker": {
             "pattern": {
              "fillmode": "overlay",
              "size": 10,
              "solidity": 0.2
             }
            },
            "type": "histogram"
           }
          ],
          "histogram2d": [
           {
            "colorbar": {
             "outlinewidth": 0,
             "ticks": ""
            },
            "colorscale": [
             [
              0,
              "#0d0887"
             ],
             [
              0.1111111111111111,
              "#46039f"
             ],
             [
              0.2222222222222222,
              "#7201a8"
             ],
             [
              0.3333333333333333,
              "#9c179e"
             ],
             [
              0.4444444444444444,
              "#bd3786"
             ],
             [
              0.5555555555555556,
              "#d8576b"
             ],
             [
              0.6666666666666666,
              "#ed7953"
             ],
             [
              0.7777777777777778,
              "#fb9f3a"
             ],
             [
              0.8888888888888888,
              "#fdca26"
             ],
             [
              1,
              "#f0f921"
             ]
            ],
            "type": "histogram2d"
           }
          ],
          "histogram2dcontour": [
           {
            "colorbar": {
             "outlinewidth": 0,
             "ticks": ""
            },
            "colorscale": [
             [
              0,
              "#0d0887"
             ],
             [
              0.1111111111111111,
              "#46039f"
             ],
             [
              0.2222222222222222,
              "#7201a8"
             ],
             [
              0.3333333333333333,
              "#9c179e"
             ],
             [
              0.4444444444444444,
              "#bd3786"
             ],
             [
              0.5555555555555556,
              "#d8576b"
             ],
             [
              0.6666666666666666,
              "#ed7953"
             ],
             [
              0.7777777777777778,
              "#fb9f3a"
             ],
             [
              0.8888888888888888,
              "#fdca26"
             ],
             [
              1,
              "#f0f921"
             ]
            ],
            "type": "histogram2dcontour"
           }
          ],
          "mesh3d": [
           {
            "colorbar": {
             "outlinewidth": 0,
             "ticks": ""
            },
            "type": "mesh3d"
           }
          ],
          "parcoords": [
           {
            "line": {
             "colorbar": {
              "outlinewidth": 0,
              "ticks": ""
             }
            },
            "type": "parcoords"
           }
          ],
          "pie": [
           {
            "automargin": true,
            "type": "pie"
           }
          ],
          "scatter": [
           {
            "fillpattern": {
             "fillmode": "overlay",
             "size": 10,
             "solidity": 0.2
            },
            "type": "scatter"
           }
          ],
          "scatter3d": [
           {
            "line": {
             "colorbar": {
              "outlinewidth": 0,
              "ticks": ""
             }
            },
            "marker": {
             "colorbar": {
              "outlinewidth": 0,
              "ticks": ""
             }
            },
            "type": "scatter3d"
           }
          ],
          "scattercarpet": [
           {
            "marker": {
             "colorbar": {
              "outlinewidth": 0,
              "ticks": ""
             }
            },
            "type": "scattercarpet"
           }
          ],
          "scattergeo": [
           {
            "marker": {
             "colorbar": {
              "outlinewidth": 0,
              "ticks": ""
             }
            },
            "type": "scattergeo"
           }
          ],
          "scattergl": [
           {
            "marker": {
             "colorbar": {
              "outlinewidth": 0,
              "ticks": ""
             }
            },
            "type": "scattergl"
           }
          ],
          "scattermapbox": [
           {
            "marker": {
             "colorbar": {
              "outlinewidth": 0,
              "ticks": ""
             }
            },
            "type": "scattermapbox"
           }
          ],
          "scatterpolar": [
           {
            "marker": {
             "colorbar": {
              "outlinewidth": 0,
              "ticks": ""
             }
            },
            "type": "scatterpolar"
           }
          ],
          "scatterpolargl": [
           {
            "marker": {
             "colorbar": {
              "outlinewidth": 0,
              "ticks": ""
             }
            },
            "type": "scatterpolargl"
           }
          ],
          "scatterternary": [
           {
            "marker": {
             "colorbar": {
              "outlinewidth": 0,
              "ticks": ""
             }
            },
            "type": "scatterternary"
           }
          ],
          "surface": [
           {
            "colorbar": {
             "outlinewidth": 0,
             "ticks": ""
            },
            "colorscale": [
             [
              0,
              "#0d0887"
             ],
             [
              0.1111111111111111,
              "#46039f"
             ],
             [
              0.2222222222222222,
              "#7201a8"
             ],
             [
              0.3333333333333333,
              "#9c179e"
             ],
             [
              0.4444444444444444,
              "#bd3786"
             ],
             [
              0.5555555555555556,
              "#d8576b"
             ],
             [
              0.6666666666666666,
              "#ed7953"
             ],
             [
              0.7777777777777778,
              "#fb9f3a"
             ],
             [
              0.8888888888888888,
              "#fdca26"
             ],
             [
              1,
              "#f0f921"
             ]
            ],
            "type": "surface"
           }
          ],
          "table": [
           {
            "cells": {
             "fill": {
              "color": "#EBF0F8"
             },
             "line": {
              "color": "white"
             }
            },
            "header": {
             "fill": {
              "color": "#C8D4E3"
             },
             "line": {
              "color": "white"
             }
            },
            "type": "table"
           }
          ]
         },
         "layout": {
          "annotationdefaults": {
           "arrowcolor": "#2a3f5f",
           "arrowhead": 0,
           "arrowwidth": 1
          },
          "autotypenumbers": "strict",
          "coloraxis": {
           "colorbar": {
            "outlinewidth": 0,
            "ticks": ""
           }
          },
          "colorscale": {
           "diverging": [
            [
             0,
             "#8e0152"
            ],
            [
             0.1,
             "#c51b7d"
            ],
            [
             0.2,
             "#de77ae"
            ],
            [
             0.3,
             "#f1b6da"
            ],
            [
             0.4,
             "#fde0ef"
            ],
            [
             0.5,
             "#f7f7f7"
            ],
            [
             0.6,
             "#e6f5d0"
            ],
            [
             0.7,
             "#b8e186"
            ],
            [
             0.8,
             "#7fbc41"
            ],
            [
             0.9,
             "#4d9221"
            ],
            [
             1,
             "#276419"
            ]
           ],
           "sequential": [
            [
             0,
             "#0d0887"
            ],
            [
             0.1111111111111111,
             "#46039f"
            ],
            [
             0.2222222222222222,
             "#7201a8"
            ],
            [
             0.3333333333333333,
             "#9c179e"
            ],
            [
             0.4444444444444444,
             "#bd3786"
            ],
            [
             0.5555555555555556,
             "#d8576b"
            ],
            [
             0.6666666666666666,
             "#ed7953"
            ],
            [
             0.7777777777777778,
             "#fb9f3a"
            ],
            [
             0.8888888888888888,
             "#fdca26"
            ],
            [
             1,
             "#f0f921"
            ]
           ],
           "sequentialminus": [
            [
             0,
             "#0d0887"
            ],
            [
             0.1111111111111111,
             "#46039f"
            ],
            [
             0.2222222222222222,
             "#7201a8"
            ],
            [
             0.3333333333333333,
             "#9c179e"
            ],
            [
             0.4444444444444444,
             "#bd3786"
            ],
            [
             0.5555555555555556,
             "#d8576b"
            ],
            [
             0.6666666666666666,
             "#ed7953"
            ],
            [
             0.7777777777777778,
             "#fb9f3a"
            ],
            [
             0.8888888888888888,
             "#fdca26"
            ],
            [
             1,
             "#f0f921"
            ]
           ]
          },
          "colorway": [
           "#636efa",
           "#EF553B",
           "#00cc96",
           "#ab63fa",
           "#FFA15A",
           "#19d3f3",
           "#FF6692",
           "#B6E880",
           "#FF97FF",
           "#FECB52"
          ],
          "font": {
           "color": "#2a3f5f"
          },
          "geo": {
           "bgcolor": "white",
           "lakecolor": "white",
           "landcolor": "#E5ECF6",
           "showlakes": true,
           "showland": true,
           "subunitcolor": "white"
          },
          "hoverlabel": {
           "align": "left"
          },
          "hovermode": "closest",
          "mapbox": {
           "style": "light"
          },
          "paper_bgcolor": "white",
          "plot_bgcolor": "#E5ECF6",
          "polar": {
           "angularaxis": {
            "gridcolor": "white",
            "linecolor": "white",
            "ticks": ""
           },
           "bgcolor": "#E5ECF6",
           "radialaxis": {
            "gridcolor": "white",
            "linecolor": "white",
            "ticks": ""
           }
          },
          "scene": {
           "xaxis": {
            "backgroundcolor": "#E5ECF6",
            "gridcolor": "white",
            "gridwidth": 2,
            "linecolor": "white",
            "showbackground": true,
            "ticks": "",
            "zerolinecolor": "white"
           },
           "yaxis": {
            "backgroundcolor": "#E5ECF6",
            "gridcolor": "white",
            "gridwidth": 2,
            "linecolor": "white",
            "showbackground": true,
            "ticks": "",
            "zerolinecolor": "white"
           },
           "zaxis": {
            "backgroundcolor": "#E5ECF6",
            "gridcolor": "white",
            "gridwidth": 2,
            "linecolor": "white",
            "showbackground": true,
            "ticks": "",
            "zerolinecolor": "white"
           }
          },
          "shapedefaults": {
           "line": {
            "color": "#2a3f5f"
           }
          },
          "ternary": {
           "aaxis": {
            "gridcolor": "white",
            "linecolor": "white",
            "ticks": ""
           },
           "baxis": {
            "gridcolor": "white",
            "linecolor": "white",
            "ticks": ""
           },
           "bgcolor": "#E5ECF6",
           "caxis": {
            "gridcolor": "white",
            "linecolor": "white",
            "ticks": ""
           }
          },
          "title": {
           "x": 0.05
          },
          "xaxis": {
           "automargin": true,
           "gridcolor": "white",
           "linecolor": "white",
           "ticks": "",
           "title": {
            "standoff": 15
           },
           "zerolinecolor": "white",
           "zerolinewidth": 2
          },
          "yaxis": {
           "automargin": true,
           "gridcolor": "white",
           "linecolor": "white",
           "ticks": "",
           "title": {
            "standoff": 15
           },
           "zerolinecolor": "white",
           "zerolinewidth": 2
          }
         }
        },
        "width": 900,
        "xaxis": {
         "anchor": "y",
         "domain": [
          0,
          0.98
         ],
         "dtick": 1,
         "range": [
          1982,
          2021
         ],
         "title": {
          "text": ""
         }
        },
        "xaxis2": {
         "anchor": "y2",
         "domain": [
          0,
          0.98
         ],
         "dtick": 1,
         "matches": "x",
         "showticklabels": false
        },
        "xaxis3": {
         "anchor": "y3",
         "domain": [
          0,
          0.98
         ],
         "dtick": 1,
         "matches": "x",
         "showticklabels": false
        },
        "yaxis": {
         "anchor": "x",
         "domain": [
          0,
          0.32666666666666666
         ],
         "title": {
          "text": "Yield (mt/ha)"
         }
        },
        "yaxis2": {
         "anchor": "x2",
         "domain": [
          0.33666666666666667,
          0.6633333333333333
         ],
         "title": {
          "text": "Area (ha)"
         }
        },
        "yaxis3": {
         "anchor": "x3",
         "domain": [
          0.6733333333333333,
          1
         ],
         "title": {
          "text": "Production (mt)"
         }
        }
       }
      }
     },
     "metadata": {},
     "output_type": "display_data"
    },
    {
     "name": "stdout",
     "output_type": "stream",
     "text": [
      "../figures/ML_line_pay_Rice_Main.png is saved.\n"
     ]
    },
    {
     "data": {
      "application/vnd.plotly.v1+json": {
       "config": {
        "plotlyServerURL": "https://plot.ly"
       },
       "data": [
        {
         "connectgaps": false,
         "hovertemplate": "fnid=ML2016A101<br>indicator=production<br>year=%{x}<br>value=%{y}<extra></extra>",
         "legendgroup": "ML2016A101",
         "line": {
          "color": "#636efa",
          "dash": "solid"
         },
         "marker": {
          "symbol": "circle"
         },
         "mode": "markers+lines",
         "name": "ML2016A101",
         "orientation": "v",
         "showlegend": true,
         "type": "scatter",
         "x": [
          1982,
          1983,
          1984,
          1985,
          1986,
          1987,
          1988,
          1989,
          1990,
          1991,
          1992,
          1993,
          1994,
          1995,
          1996,
          1997,
          1998,
          1999,
          2000,
          2001,
          2002,
          2003,
          2004,
          2005,
          2006,
          2007,
          2008,
          2009,
          2010,
          2011,
          2012,
          2013,
          2014,
          2015,
          2016,
          2017,
          2018,
          2019,
          2020,
          2021
         ],
         "xaxis": "x3",
         "y": [
          1153,
          1209,
          1101,
          126,
          96,
          193,
          null,
          null,
          531,
          2171,
          2171,
          2621,
          3437,
          3850,
          3480,
          null,
          594,
          2638,
          1437,
          6895,
          3222,
          1024,
          3719,
          1761,
          7887.32710662,
          3585,
          2333,
          4410,
          null,
          2601,
          21475,
          28786,
          18806,
          44226,
          18053,
          18053,
          32743,
          31288,
          56000.14190816,
          79532
         ],
         "yaxis": "y3"
        },
        {
         "connectgaps": false,
         "hovertemplate": "fnid=ML2016A101<br>indicator=area<br>year=%{x}<br>value=%{y}<extra></extra>",
         "legendgroup": "ML2016A101",
         "line": {
          "color": "#636efa",
          "dash": "solid"
         },
         "marker": {
          "symbol": "circle"
         },
         "mode": "markers+lines",
         "name": "ML2016A101",
         "orientation": "v",
         "showlegend": false,
         "type": "scatter",
         "x": [
          1982,
          1983,
          1984,
          1985,
          1986,
          1987,
          1988,
          1989,
          1990,
          1991,
          1992,
          1993,
          1994,
          1995,
          1996,
          1997,
          1998,
          1999,
          2000,
          2001,
          2002,
          2003,
          2004,
          2005,
          2006,
          2007,
          2008,
          2009,
          2010,
          2011,
          2012,
          2013,
          2014,
          2015,
          2016,
          2017,
          2018,
          2019,
          2020,
          2021
         ],
         "xaxis": "x2",
         "y": [
          1013,
          1364,
          932,
          1149,
          485,
          502,
          1196,
          1279,
          2811,
          1632,
          1632,
          1915,
          null,
          5315,
          1813,
          null,
          572,
          3345,
          2998,
          4451,
          3890,
          758,
          2493,
          1979,
          6219.39238518,
          1995,
          2813,
          4799,
          null,
          3367,
          8329,
          18960,
          null,
          20909,
          5971,
          5971,
          6231,
          8249,
          21292.01771354,
          21261
         ],
         "yaxis": "y2"
        },
        {
         "connectgaps": false,
         "hovertemplate": "fnid=ML2016A101<br>indicator=yield<br>year=%{x}<br>value=%{y}<extra></extra>",
         "legendgroup": "ML2016A101",
         "line": {
          "color": "#636efa",
          "dash": "solid"
         },
         "marker": {
          "symbol": "circle"
         },
         "mode": "markers+lines",
         "name": "ML2016A101",
         "orientation": "v",
         "showlegend": false,
         "type": "scatter",
         "x": [
          1982,
          1983,
          1984,
          1985,
          1986,
          1987,
          1988,
          1989,
          1990,
          1991,
          1992,
          1993,
          1994,
          1995,
          1996,
          1997,
          1998,
          1999,
          2000,
          2001,
          2002,
          2003,
          2004,
          2005,
          2006,
          2007,
          2008,
          2009,
          2010,
          2011,
          2012,
          2013,
          2014,
          2015,
          2016,
          2017,
          2018,
          2019,
          2020,
          2021
         ],
         "xaxis": "x",
         "y": [
          1.138203356367226,
          0.8863636363636364,
          1.1813304721030042,
          0.1096605744125326,
          0.1979381443298969,
          0.3844621513944223,
          null,
          null,
          0.1889007470651013,
          1.3302696078431373,
          1.3302696078431373,
          1.368668407310705,
          null,
          0.7243650047036688,
          1.9194704908990623,
          null,
          1.0384615384615383,
          0.7886397608370702,
          0.4793195463642428,
          1.5490900921141315,
          0.8282776349614396,
          1.3509234828496042,
          1.4917769755314882,
          0.8898433552299141,
          1.2681829056829523,
          1.7969924812030076,
          0.8293636686811233,
          0.9189414461346114,
          null,
          0.7724977724977725,
          2.578340737183335,
          1.5182489451476793,
          null,
          2.1151657181118177,
          3.0234466588511135,
          3.0234466588511135,
          5.2548547584657355,
          3.792944599345375,
          2.630100287421255,
          3.74074596679366
         ],
         "yaxis": "y"
        },
        {
         "connectgaps": false,
         "hovertemplate": "fnid=ML2016A102<br>indicator=production<br>year=%{x}<br>value=%{y}<extra></extra>",
         "legendgroup": "ML2016A102",
         "line": {
          "color": "#EF553B",
          "dash": "solid"
         },
         "marker": {
          "symbol": "circle"
         },
         "mode": "markers+lines",
         "name": "ML2016A102",
         "orientation": "v",
         "showlegend": true,
         "type": "scatter",
         "x": [
          1982,
          1983,
          1984,
          1985,
          1986,
          1987,
          1988,
          1989,
          1990,
          1991,
          1992,
          1993,
          1994,
          1995,
          1996,
          1997,
          1998,
          1999,
          2000,
          2001,
          2002,
          2003,
          2004,
          2005,
          2006,
          2007,
          2008,
          2009,
          2010,
          2011,
          2012,
          2013,
          2014,
          2015,
          2016,
          2017,
          2018,
          2019,
          2020,
          2021
         ],
         "xaxis": "x3",
         "y": [
          null,
          409,
          1403,
          3681,
          1455,
          1159,
          46,
          527,
          8301,
          14548,
          14548,
          18016,
          17431,
          19990,
          30060,
          null,
          37611,
          25599,
          26801,
          35793,
          17741,
          24691,
          20141,
          48817,
          21065.8398156,
          31669,
          38661,
          44464,
          null,
          160506,
          103348,
          75408,
          111409,
          124955,
          161302,
          161302,
          190526,
          254048,
          241864.41494781,
          172249
         ],
         "yaxis": "y3"
        },
        {
         "connectgaps": false,
         "hovertemplate": "fnid=ML2016A102<br>indicator=area<br>year=%{x}<br>value=%{y}<extra></extra>",
         "legendgroup": "ML2016A102",
         "line": {
          "color": "#EF553B",
          "dash": "solid"
         },
         "marker": {
          "symbol": "circle"
         },
         "mode": "markers+lines",
         "name": "ML2016A102",
         "orientation": "v",
         "showlegend": false,
         "type": "scatter",
         "x": [
          1982,
          1983,
          1984,
          1985,
          1986,
          1987,
          1988,
          1989,
          1990,
          1991,
          1992,
          1993,
          1994,
          1995,
          1996,
          1997,
          1998,
          1999,
          2000,
          2001,
          2002,
          2003,
          2004,
          2005,
          2006,
          2007,
          2008,
          2009,
          2010,
          2011,
          2012,
          2013,
          2014,
          2015,
          2016,
          2017,
          2018,
          2019,
          2020,
          2021
         ],
         "xaxis": "x2",
         "y": [
          null,
          270,
          1036,
          3876,
          1540,
          1856,
          2785,
          3479,
          8365,
          6334,
          6334,
          13626,
          null,
          15482,
          21113,
          null,
          22887,
          21779,
          22923,
          23984,
          12996,
          20818,
          16675,
          26494,
          10740.75148689,
          12134,
          18223,
          14640,
          null,
          67276,
          58321,
          22778,
          null,
          60302,
          84324,
          84324,
          48541,
          57090,
          90323.94653673,
          66422
         ],
         "yaxis": "y2"
        },
        {
         "connectgaps": false,
         "hovertemplate": "fnid=ML2016A102<br>indicator=yield<br>year=%{x}<br>value=%{y}<extra></extra>",
         "legendgroup": "ML2016A102",
         "line": {
          "color": "#EF553B",
          "dash": "solid"
         },
         "marker": {
          "symbol": "circle"
         },
         "mode": "markers+lines",
         "name": "ML2016A102",
         "orientation": "v",
         "showlegend": false,
         "type": "scatter",
         "x": [
          1982,
          1983,
          1984,
          1985,
          1986,
          1987,
          1988,
          1989,
          1990,
          1991,
          1992,
          1993,
          1994,
          1995,
          1996,
          1997,
          1998,
          1999,
          2000,
          2001,
          2002,
          2003,
          2004,
          2005,
          2006,
          2007,
          2008,
          2009,
          2010,
          2011,
          2012,
          2013,
          2014,
          2015,
          2016,
          2017,
          2018,
          2019,
          2020,
          2021
         ],
         "xaxis": "x",
         "y": [
          null,
          1.5148148148148148,
          1.3542471042471045,
          0.9496904024767802,
          0.9448051948051948,
          0.6244612068965517,
          0.0165170556552962,
          0.1514803104340327,
          0.9923490735206216,
          2.296810862014525,
          2.296810862014525,
          1.3221781887567885,
          null,
          1.2911768505361063,
          1.4237673471320986,
          null,
          1.6433346441211167,
          1.17539831948207,
          1.1691750643458536,
          1.492369913275517,
          1.365112342259157,
          1.1860409261216256,
          1.207856071964018,
          1.842568128632898,
          1.9613003653713288,
          2.6099390143398713,
          2.1215496899522583,
          3.0371584699453553,
          null,
          2.3857839348356027,
          1.7720546629858884,
          3.310562823777329,
          null,
          2.0721534940797985,
          1.9128836392960489,
          1.9128836392960489,
          3.925053047938856,
          4.449956209493782,
          2.677744100225475,
          2.5932522357050374
         ],
         "yaxis": "y"
        },
        {
         "connectgaps": false,
         "hovertemplate": "fnid=ML2016A103<br>indicator=production<br>year=%{x}<br>value=%{y}<extra></extra>",
         "legendgroup": "ML2016A103",
         "line": {
          "color": "#00cc96",
          "dash": "solid"
         },
         "marker": {
          "symbol": "circle"
         },
         "mode": "markers+lines",
         "name": "ML2016A103",
         "orientation": "v",
         "showlegend": true,
         "type": "scatter",
         "x": [
          1982,
          1983,
          1984,
          1985,
          1986,
          1987,
          1988,
          1989,
          1990,
          1991,
          1992,
          1993,
          1994,
          1995,
          1996,
          1997,
          1998,
          1999,
          2000,
          2001,
          2002,
          2003,
          2004,
          2005,
          2006,
          2007,
          2008,
          2009,
          2010,
          2011,
          2012,
          2013,
          2014,
          2015,
          2016,
          2017,
          2018,
          2019,
          2020,
          2021
         ],
         "xaxis": "x3",
         "y": [
          12706,
          20849,
          10599,
          9010,
          25275,
          14732,
          8459,
          24538,
          13225,
          50223,
          50223,
          57604,
          61324,
          65850,
          74000,
          null,
          88946,
          119114,
          92796,
          89054,
          74094,
          103077,
          81288,
          118157,
          124744.75212577,
          127605,
          127321,
          135020,
          null,
          97185,
          113040,
          129868,
          267730,
          537656,
          347601,
          347601,
          376119,
          72055,
          500624.00588084,
          463566
         ],
         "yaxis": "y3"
        },
        {
         "connectgaps": false,
         "hovertemplate": "fnid=ML2016A103<br>indicator=area<br>year=%{x}<br>value=%{y}<extra></extra>",
         "legendgroup": "ML2016A103",
         "line": {
          "color": "#00cc96",
          "dash": "solid"
         },
         "marker": {
          "symbol": "circle"
         },
         "mode": "markers+lines",
         "name": "ML2016A103",
         "orientation": "v",
         "showlegend": false,
         "type": "scatter",
         "x": [
          1982,
          1983,
          1984,
          1985,
          1986,
          1987,
          1988,
          1989,
          1990,
          1991,
          1992,
          1993,
          1994,
          1995,
          1996,
          1997,
          1998,
          1999,
          2000,
          2001,
          2002,
          2003,
          2004,
          2005,
          2006,
          2007,
          2008,
          2009,
          2010,
          2011,
          2012,
          2013,
          2014,
          2015,
          2016,
          2017,
          2018,
          2019,
          2020,
          2021
         ],
         "xaxis": "x2",
         "y": [
          11919,
          16692,
          14239,
          7915,
          21411,
          12117,
          9629,
          13461,
          13935,
          8984,
          8984,
          36197,
          null,
          48180,
          50680,
          null,
          55612,
          78695,
          64822,
          68191,
          63348,
          60904,
          19418,
          59321,
          66096.03907802,
          53180,
          60120,
          44687,
          null,
          67511,
          41301,
          46186,
          null,
          218823,
          116704,
          116704,
          103578,
          24505,
          196981.70905192,
          176578
         ],
         "yaxis": "y2"
        },
        {
         "connectgaps": false,
         "hovertemplate": "fnid=ML2016A103<br>indicator=yield<br>year=%{x}<br>value=%{y}<extra></extra>",
         "legendgroup": "ML2016A103",
         "line": {
          "color": "#00cc96",
          "dash": "solid"
         },
         "marker": {
          "symbol": "circle"
         },
         "mode": "markers+lines",
         "name": "ML2016A103",
         "orientation": "v",
         "showlegend": false,
         "type": "scatter",
         "x": [
          1982,
          1983,
          1984,
          1985,
          1986,
          1987,
          1988,
          1989,
          1990,
          1991,
          1992,
          1993,
          1994,
          1995,
          1996,
          1997,
          1998,
          1999,
          2000,
          2001,
          2002,
          2003,
          2004,
          2005,
          2006,
          2007,
          2008,
          2009,
          2010,
          2011,
          2012,
          2013,
          2014,
          2015,
          2016,
          2017,
          2018,
          2019,
          2020,
          2021
         ],
         "xaxis": "x",
         "y": [
          1.06602902928098,
          1.2490414569853825,
          0.7443640705105695,
          1.1383449147188882,
          1.1804679837466725,
          1.2158124948419575,
          0.8784920552497664,
          1.822895772973776,
          0.949049156799426,
          5.590271593944791,
          5.590271593944791,
          1.5914026024256154,
          null,
          1.3667496886674968,
          1.4601420678768746,
          null,
          1.59940300654535,
          1.5136158586949615,
          1.4315510166301564,
          1.3059494654719832,
          1.1696344004546315,
          1.6924504137659266,
          4.186218972087754,
          1.991824143220782,
          1.887325683442556,
          2.399492290334712,
          2.1177811044577513,
          3.0214603799762796,
          null,
          1.4395431855549463,
          2.736979734146873,
          2.811847746070238,
          null,
          2.457036051968943,
          2.978484027968193,
          2.978484027968193,
          3.63126339570179,
          2.9404203223831873,
          2.541474577971534,
          2.625276081958115
         ],
         "yaxis": "y"
        },
        {
         "connectgaps": false,
         "hovertemplate": "fnid=ML2016A104<br>indicator=production<br>year=%{x}<br>value=%{y}<extra></extra>",
         "legendgroup": "ML2016A104",
         "line": {
          "color": "#ab63fa",
          "dash": "solid"
         },
         "marker": {
          "symbol": "circle"
         },
         "mode": "markers+lines",
         "name": "ML2016A104",
         "orientation": "v",
         "showlegend": true,
         "type": "scatter",
         "x": [
          1982,
          1983,
          1984,
          1985,
          1986,
          1987,
          1988,
          1989,
          1990,
          1991,
          1992,
          1993,
          1994,
          1995,
          1996,
          1997,
          1998,
          1999,
          2000,
          2001,
          2002,
          2003,
          2004,
          2005,
          2006,
          2007,
          2008,
          2009,
          2010,
          2011,
          2012,
          2013,
          2014,
          2015,
          2016,
          2017,
          2018,
          2019,
          2020,
          2021
         ],
         "xaxis": "x3",
         "y": [
          93118,
          76613,
          87682,
          109532,
          114311,
          124982,
          155072,
          160014,
          153534,
          218645,
          218645,
          238752,
          234390,
          276630,
          330780,
          null,
          381083,
          396902,
          429094,
          467949,
          438610,
          515461,
          429153,
          513297,
          520817.56620931,
          515560,
          677852,
          834306,
          null,
          801087,
          952471,
          1212946,
          1080536,
          861958,
          1217296,
          1217296,
          1026435,
          1469119,
          1556429.47439568,
          1283268
         ],
         "yaxis": "y3"
        },
        {
         "connectgaps": false,
         "hovertemplate": "fnid=ML2016A104<br>indicator=area<br>year=%{x}<br>value=%{y}<extra></extra>",
         "legendgroup": "ML2016A104",
         "line": {
          "color": "#ab63fa",
          "dash": "solid"
         },
         "marker": {
          "symbol": "circle"
         },
         "mode": "markers+lines",
         "name": "ML2016A104",
         "orientation": "v",
         "showlegend": false,
         "type": "scatter",
         "x": [
          1982,
          1983,
          1984,
          1985,
          1986,
          1987,
          1988,
          1989,
          1990,
          1991,
          1992,
          1993,
          1994,
          1995,
          1996,
          1997,
          1998,
          1999,
          2000,
          2001,
          2002,
          2003,
          2004,
          2005,
          2006,
          2007,
          2008,
          2009,
          2010,
          2011,
          2012,
          2013,
          2014,
          2015,
          2016,
          2017,
          2018,
          2019,
          2020,
          2021
         ],
         "xaxis": "x2",
         "y": [
          35784,
          56833,
          71771,
          65793,
          73889,
          73470,
          87151,
          72948,
          69946,
          70249,
          70866,
          70866,
          null,
          83353,
          91912,
          null,
          97535,
          100493,
          110034,
          123619,
          114970,
          123626,
          112341,
          104097,
          108170.96560381,
          116482,
          146850,
          141147,
          null,
          293057,
          261015,
          266013,
          236959,
          247172,
          264627,
          264627,
          263878,
          328349,
          324442.48879443,
          266088
         ],
         "yaxis": "y2"
        },
        {
         "connectgaps": false,
         "hovertemplate": "fnid=ML2016A104<br>indicator=yield<br>year=%{x}<br>value=%{y}<extra></extra>",
         "legendgroup": "ML2016A104",
         "line": {
          "color": "#ab63fa",
          "dash": "solid"
         },
         "marker": {
          "symbol": "circle"
         },
         "mode": "markers+lines",
         "name": "ML2016A104",
         "orientation": "v",
         "showlegend": false,
         "type": "scatter",
         "x": [
          1982,
          1983,
          1984,
          1985,
          1986,
          1987,
          1988,
          1989,
          1990,
          1991,
          1992,
          1993,
          1994,
          1995,
          1996,
          1997,
          1998,
          1999,
          2000,
          2001,
          2002,
          2003,
          2004,
          2005,
          2006,
          2007,
          2008,
          2009,
          2010,
          2011,
          2012,
          2013,
          2014,
          2015,
          2016,
          2017,
          2018,
          2019,
          2020,
          2021
         ],
         "xaxis": "x",
         "y": [
          2.6022244578582607,
          1.3480372318899232,
          1.2216912123280992,
          1.6647971668718555,
          1.547063839001746,
          1.7011297128079488,
          1.7793484871085816,
          2.1935351209080443,
          2.195036170760301,
          3.112428646671127,
          3.085330059549008,
          3.3690627381254763,
          null,
          3.318776768682591,
          3.5988771868744016,
          null,
          3.907141026298252,
          3.949548724786801,
          3.8996491993383864,
          3.78541324553669,
          3.8149952161433416,
          4.169519356769611,
          3.820092397254786,
          4.930949018703709,
          4.814763030930786,
          4.426091584965918,
          4.615948246510044,
          5.910901400667389,
          null,
          2.733553540778757,
          3.6491044575982223,
          4.559724524741272,
          4.560012491612473,
          3.4872801126341173,
          4.600044591065916,
          4.600044591065916,
          3.889808926852561,
          4.4742606190364524,
          4.797243049697629,
          4.822720303057635
         ],
         "yaxis": "y"
        },
        {
         "connectgaps": false,
         "hovertemplate": "fnid=ML2016A105<br>indicator=production<br>year=%{x}<br>value=%{y}<extra></extra>",
         "legendgroup": "ML2016A105",
         "line": {
          "color": "#FFA15A",
          "dash": "solid"
         },
         "marker": {
          "symbol": "circle"
         },
         "mode": "markers+lines",
         "name": "ML2016A105",
         "orientation": "v",
         "showlegend": true,
         "type": "scatter",
         "x": [
          1982,
          1983,
          1984,
          1985,
          1986,
          1987,
          1988,
          1989,
          1990,
          1991,
          1992,
          1993,
          1994,
          1995,
          1996,
          1997,
          1998,
          1999,
          2000,
          2001,
          2002,
          2003,
          2004,
          2005,
          2006,
          2007,
          2008,
          2009,
          2010,
          2011,
          2012,
          2013,
          2014,
          2015,
          2016,
          2017,
          2018,
          2019,
          2020,
          2021
         ],
         "xaxis": "x3",
         "y": [
          33548,
          29107,
          4654,
          43079,
          53812,
          65471,
          70578,
          77539,
          50282,
          67882,
          67882,
          63687,
          102706,
          66670,
          108530,
          null,
          132860,
          88271,
          108398,
          205733,
          68228,
          189491,
          114358,
          117744,
          195631.56093586,
          247722,
          294191,
          387261,
          null,
          278356,
          534535,
          585767,
          581809,
          273796,
          639172,
          639172,
          483592,
          869805,
          356720.64959873,
          615346
         ],
         "yaxis": "y3"
        },
        {
         "connectgaps": false,
         "hovertemplate": "fnid=ML2016A105<br>indicator=area<br>year=%{x}<br>value=%{y}<extra></extra>",
         "legendgroup": "ML2016A105",
         "line": {
          "color": "#FFA15A",
          "dash": "solid"
         },
         "marker": {
          "symbol": "circle"
         },
         "mode": "markers+lines",
         "name": "ML2016A105",
         "orientation": "v",
         "showlegend": false,
         "type": "scatter",
         "x": [
          1982,
          1983,
          1984,
          1985,
          1986,
          1987,
          1988,
          1989,
          1990,
          1991,
          1992,
          1993,
          1994,
          1995,
          1996,
          1997,
          1998,
          1999,
          2000,
          2001,
          2002,
          2003,
          2004,
          2005,
          2006,
          2007,
          2008,
          2009,
          2010,
          2011,
          2012,
          2013,
          2014,
          2015,
          2016,
          2017,
          2018,
          2019,
          2020,
          2021
         ],
         "xaxis": "x2",
         "y": [
          47437,
          72660,
          55364,
          50921,
          67084,
          33197,
          105612,
          79374,
          34257,
          45894,
          45094,
          79672,
          null,
          108846,
          109441,
          null,
          111901,
          69779,
          111578,
          182532,
          107648,
          154862,
          119626,
          156818,
          130245.48782419,
          140186,
          189048,
          216001,
          null,
          215429,
          396468,
          191079,
          null,
          107992,
          232431,
          232431,
          194923,
          385379,
          146680.52228544,
          261341
         ],
         "yaxis": "y2"
        },
        {
         "connectgaps": false,
         "hovertemplate": "fnid=ML2016A105<br>indicator=yield<br>year=%{x}<br>value=%{y}<extra></extra>",
         "legendgroup": "ML2016A105",
         "line": {
          "color": "#FFA15A",
          "dash": "solid"
         },
         "marker": {
          "symbol": "circle"
         },
         "mode": "markers+lines",
         "name": "ML2016A105",
         "orientation": "v",
         "showlegend": false,
         "type": "scatter",
         "x": [
          1982,
          1983,
          1984,
          1985,
          1986,
          1987,
          1988,
          1989,
          1990,
          1991,
          1992,
          1993,
          1994,
          1995,
          1996,
          1997,
          1998,
          1999,
          2000,
          2001,
          2002,
          2003,
          2004,
          2005,
          2006,
          2007,
          2008,
          2009,
          2010,
          2011,
          2012,
          2013,
          2014,
          2015,
          2016,
          2017,
          2018,
          2019,
          2020,
          2021
         ],
         "xaxis": "x",
         "y": [
          0.7072116702152328,
          0.4005917974126066,
          0.0840618452423957,
          0.8459967400483102,
          0.8021584878659591,
          1.9721962827966384,
          0.6682763322349733,
          0.9768815985083276,
          1.4677876054529002,
          1.4791040223122849,
          1.505344391715084,
          0.799364896073903,
          null,
          0.6125167668081509,
          0.9916758801546038,
          null,
          1.187299487940233,
          1.2650080969919315,
          0.9714997580168132,
          1.1271064799596784,
          0.6338064803804994,
          1.223611990029833,
          0.955962750572618,
          0.7508321748778839,
          1.5020217913416736,
          1.767095145021614,
          1.556170919554822,
          1.792866699691205,
          null,
          1.2921008777833995,
          1.3482424811081852,
          3.065574971608602,
          null,
          2.535335950811171,
          2.7499429938347295,
          2.7499429938347295,
          2.4809386270476033,
          2.257011928517122,
          2.4319565000222205,
          2.3545712306909365
         ],
         "yaxis": "y"
        },
        {
         "connectgaps": false,
         "hovertemplate": "fnid=ML2016A106<br>indicator=production<br>year=%{x}<br>value=%{y}<extra></extra>",
         "legendgroup": "ML2016A106",
         "line": {
          "color": "#19d3f3",
          "dash": "solid"
         },
         "marker": {
          "symbol": "circle"
         },
         "mode": "markers+lines",
         "name": "ML2016A106",
         "orientation": "v",
         "showlegend": true,
         "type": "scatter",
         "x": [
          1982,
          1983,
          1984,
          1985,
          1986,
          1987,
          1988,
          1989,
          1990,
          1991,
          1992,
          1993,
          1994,
          1995,
          1996,
          1997,
          1998,
          1999,
          2000,
          2001,
          2002,
          2003,
          2004,
          2005,
          2006,
          2007,
          2008,
          2009,
          2010,
          2011,
          2012,
          2013,
          2014,
          2015,
          2016,
          2017,
          2018,
          2019,
          2020,
          2021
         ],
         "xaxis": "x3",
         "y": [
          null,
          4588,
          1687,
          9597,
          21504,
          19549.9,
          15683,
          18765,
          18592,
          43317,
          36053.78,
          23225.66,
          42159,
          24260,
          58240,
          null,
          46426,
          78702,
          52976,
          99613,
          67662,
          74607,
          44231,
          103735,
          134444.48886913,
          121403,
          130101,
          136863,
          null,
          194129,
          156864,
          181310,
          69411,
          265039,
          318659,
          318659,
          450054,
          256999,
          366256.59526288,
          335491
         ],
         "yaxis": "y3"
        },
        {
         "connectgaps": false,
         "hovertemplate": "fnid=ML2016A106<br>indicator=area<br>year=%{x}<br>value=%{y}<extra></extra>",
         "legendgroup": "ML2016A106",
         "line": {
          "color": "#19d3f3",
          "dash": "solid"
         },
         "marker": {
          "symbol": "circle"
         },
         "mode": "markers+lines",
         "name": "ML2016A106",
         "orientation": "v",
         "showlegend": false,
         "type": "scatter",
         "x": [
          1982,
          1983,
          1984,
          1985,
          1986,
          1987,
          1988,
          1989,
          1990,
          1991,
          1992,
          1993,
          1994,
          1995,
          1996,
          1997,
          1998,
          1999,
          2000,
          2001,
          2002,
          2003,
          2004,
          2005,
          2006,
          2007,
          2008,
          2009,
          2010,
          2011,
          2012,
          2013,
          2014,
          2015,
          2016,
          2017,
          2018,
          2019,
          2020,
          2021
         ],
         "xaxis": "x2",
         "y": [
          null,
          18578,
          14662,
          6402,
          7751,
          14270,
          7834,
          13871,
          22135,
          41012,
          34013,
          21911,
          null,
          29517,
          31221,
          null,
          21882,
          25589,
          12586,
          32042,
          27571,
          23497,
          22349,
          36258,
          42244.34192315,
          39108,
          38236,
          24749,
          null,
          49930,
          71772,
          51090,
          null,
          46204,
          92257,
          92257,
          91873,
          81016,
          86177.41410364,
          86959
         ],
         "yaxis": "y2"
        },
        {
         "connectgaps": false,
         "hovertemplate": "fnid=ML2016A106<br>indicator=yield<br>year=%{x}<br>value=%{y}<extra></extra>",
         "legendgroup": "ML2016A106",
         "line": {
          "color": "#19d3f3",
          "dash": "solid"
         },
         "marker": {
          "symbol": "circle"
         },
         "mode": "markers+lines",
         "name": "ML2016A106",
         "orientation": "v",
         "showlegend": false,
         "type": "scatter",
         "x": [
          1982,
          1983,
          1984,
          1985,
          1986,
          1987,
          1988,
          1989,
          1990,
          1991,
          1992,
          1993,
          1994,
          1995,
          1996,
          1997,
          1998,
          1999,
          2000,
          2001,
          2002,
          2003,
          2004,
          2005,
          2006,
          2007,
          2008,
          2009,
          2010,
          2011,
          2012,
          2013,
          2014,
          2015,
          2016,
          2017,
          2018,
          2019,
          2020,
          2021
         ],
         "xaxis": "x",
         "y": [
          null,
          0.2469587684357842,
          0.1150593370617923,
          1.4990627928772258,
          2.774351696555283,
          1.37,
          2.00191473066122,
          1.352822435296662,
          0.8399367517506212,
          1.0562030625182874,
          1.06,
          1.06,
          null,
          0.8218992445031676,
          1.865411101502194,
          null,
          2.1216524997715016,
          3.0756184297940523,
          4.209121245828698,
          3.10882591598527,
          2.454100322802945,
          3.1751712984636336,
          1.979104210479216,
          2.861023774063655,
          3.1825442828227395,
          3.104300910299683,
          3.402578721623601,
          5.530041617843145,
          null,
          3.888023232525536,
          2.185587694365491,
          3.548835388530045,
          null,
          5.736278244307852,
          3.454036008107786,
          3.454036008107786,
          4.898653576132269,
          3.1722005529771895,
          4.250029999999848,
          3.85803654595844
         ],
         "yaxis": "y"
        },
        {
         "connectgaps": false,
         "hovertemplate": "fnid=ML2016A107<br>indicator=production<br>year=%{x}<br>value=%{y}<extra></extra>",
         "legendgroup": "ML2016A107",
         "line": {
          "color": "#FF6692",
          "dash": "solid"
         },
         "marker": {
          "symbol": "circle"
         },
         "mode": "markers+lines",
         "name": "ML2016A107",
         "orientation": "v",
         "showlegend": true,
         "type": "scatter",
         "x": [
          1982,
          1983,
          1984,
          1985,
          1986,
          1987,
          1988,
          1989,
          1990,
          1991,
          1992,
          1993,
          1994,
          1995,
          1996,
          1997,
          1998,
          1999,
          2000,
          2001,
          2002,
          2003,
          2004,
          2005,
          2006,
          2007,
          2008,
          2009,
          2010,
          2011,
          2012,
          2013,
          2014,
          2015,
          2016,
          2017,
          2018,
          2019,
          2020,
          2021
         ],
         "xaxis": "x3",
         "y": [
          11883,
          19859,
          2228,
          26625,
          8685,
          15927,
          25273,
          32172,
          11911,
          13232,
          13232,
          7297,
          7680,
          5450,
          8880,
          null,
          17693,
          15834,
          31306,
          35901,
          23646,
          29866,
          25196,
          42313,
          48644.70982101,
          34839,
          34159,
          72084,
          null,
          54482,
          33134,
          61897,
          121330,
          138382,
          108968,
          108968,
          148089,
          231410,
          118441.04878522,
          64654
         ],
         "yaxis": "y3"
        },
        {
         "connectgaps": false,
         "hovertemplate": "fnid=ML2016A107<br>indicator=area<br>year=%{x}<br>value=%{y}<extra></extra>",
         "legendgroup": "ML2016A107",
         "line": {
          "color": "#FF6692",
          "dash": "solid"
         },
         "marker": {
          "symbol": "circle"
         },
         "mode": "markers+lines",
         "name": "ML2016A107",
         "orientation": "v",
         "showlegend": false,
         "type": "scatter",
         "x": [
          1982,
          1983,
          1984,
          1985,
          1986,
          1987,
          1988,
          1989,
          1990,
          1991,
          1992,
          1993,
          1994,
          1995,
          1996,
          1997,
          1998,
          1999,
          2000,
          2001,
          2002,
          2003,
          2004,
          2005,
          2006,
          2007,
          2008,
          2009,
          2010,
          2011,
          2012,
          2013,
          2014,
          2015,
          2016,
          2017,
          2018,
          2019,
          2020,
          2021
         ],
         "xaxis": "x2",
         "y": [
          12590,
          15227,
          7152,
          23751,
          18437,
          14196,
          10528,
          14355,
          16886,
          12235,
          10176,
          9677,
          null,
          11976,
          17972,
          null,
          12365,
          25407,
          27798,
          33420,
          26188,
          21176,
          22013,
          29056,
          44777.74679956,
          28785,
          27262,
          80761,
          null,
          49584,
          31505,
          33060,
          null,
          59863,
          39838,
          39838,
          58850,
          42306,
          58745.56648756,
          30103
         ],
         "yaxis": "y2"
        },
        {
         "connectgaps": false,
         "hovertemplate": "fnid=ML2016A107<br>indicator=yield<br>year=%{x}<br>value=%{y}<extra></extra>",
         "legendgroup": "ML2016A107",
         "line": {
          "color": "#FF6692",
          "dash": "solid"
         },
         "marker": {
          "symbol": "circle"
         },
         "mode": "markers+lines",
         "name": "ML2016A107",
         "orientation": "v",
         "showlegend": false,
         "type": "scatter",
         "x": [
          1982,
          1983,
          1984,
          1985,
          1986,
          1987,
          1988,
          1989,
          1990,
          1991,
          1992,
          1993,
          1994,
          1995,
          1996,
          1997,
          1998,
          1999,
          2000,
          2001,
          2002,
          2003,
          2004,
          2005,
          2006,
          2007,
          2008,
          2009,
          2010,
          2011,
          2012,
          2013,
          2014,
          2015,
          2016,
          2017,
          2018,
          2019,
          2020,
          2021
         ],
         "xaxis": "x",
         "y": [
          0.9438443208895948,
          1.3041964930715175,
          0.3115212527964205,
          1.1210054313502589,
          0.4710636220643271,
          1.1219357565511412,
          2.4005509118541033,
          2.2411703239289444,
          0.7053772355797703,
          1.081487535758071,
          1.300314465408805,
          0.7540560090937274,
          null,
          0.4550768203072812,
          0.4941019363454262,
          null,
          1.4308936514355035,
          0.6232140748612587,
          1.1261961292179294,
          1.0742369838420107,
          0.902932640904231,
          1.4103702304495656,
          1.1445963748693952,
          1.456256883259912,
          1.0863590354101516,
          1.2103178738926523,
          1.2529895092069547,
          0.8925595274947066,
          null,
          1.09878186511778,
          1.051706078400254,
          1.8722625529340593,
          null,
          2.3116449225732087,
          2.7352778753953513,
          2.7352778753953513,
          2.516380628717078,
          5.469909705479128,
          2.0161699999999345,
          2.1477593595322726
         ],
         "yaxis": "y"
        }
       ],
       "layout": {
        "annotations": [
         {
          "showarrow": false,
          "text": "",
          "textangle": 90,
          "x": 0.98,
          "xanchor": "left",
          "xref": "paper",
          "y": 0.16333333333333333,
          "yanchor": "middle",
          "yref": "paper"
         },
         {
          "showarrow": false,
          "text": "",
          "textangle": 90,
          "x": 0.98,
          "xanchor": "left",
          "xref": "paper",
          "y": 0.5,
          "yanchor": "middle",
          "yref": "paper"
         },
         {
          "showarrow": false,
          "text": "",
          "textangle": 90,
          "x": 0.98,
          "xanchor": "left",
          "xref": "paper",
          "y": 0.8366666666666667,
          "yanchor": "middle",
          "yref": "paper"
         },
         {
          "align": "left",
          "font": {
           "color": "dimgrey",
           "family": "arial",
           "size": 15
          },
          "showarrow": false,
          "text": "Production-Area-Yield time-series of ML - Rice - Main",
          "x": -0.014,
          "xref": "paper",
          "y": -0.14,
          "yref": "paper"
         }
        ],
        "font": {
         "color": "black",
         "family": "arial",
         "size": 16
        },
        "height": 600,
        "legend": {
         "font": {
          "size": 14
         },
         "title": {
          "text": "FNID"
         },
         "tracegroupgap": 0,
         "x": 1,
         "xanchor": "left",
         "y": 1,
         "yanchor": "top"
        },
        "margin": {
         "b": 25,
         "l": 0,
         "r": 0,
         "t": 0
        },
        "template": {
         "data": {
          "bar": [
           {
            "error_x": {
             "color": "#2a3f5f"
            },
            "error_y": {
             "color": "#2a3f5f"
            },
            "marker": {
             "line": {
              "color": "#E5ECF6",
              "width": 0.5
             },
             "pattern": {
              "fillmode": "overlay",
              "size": 10,
              "solidity": 0.2
             }
            },
            "type": "bar"
           }
          ],
          "barpolar": [
           {
            "marker": {
             "line": {
              "color": "#E5ECF6",
              "width": 0.5
             },
             "pattern": {
              "fillmode": "overlay",
              "size": 10,
              "solidity": 0.2
             }
            },
            "type": "barpolar"
           }
          ],
          "carpet": [
           {
            "aaxis": {
             "endlinecolor": "#2a3f5f",
             "gridcolor": "white",
             "linecolor": "white",
             "minorgridcolor": "white",
             "startlinecolor": "#2a3f5f"
            },
            "baxis": {
             "endlinecolor": "#2a3f5f",
             "gridcolor": "white",
             "linecolor": "white",
             "minorgridcolor": "white",
             "startlinecolor": "#2a3f5f"
            },
            "type": "carpet"
           }
          ],
          "choropleth": [
           {
            "colorbar": {
             "outlinewidth": 0,
             "ticks": ""
            },
            "type": "choropleth"
           }
          ],
          "contour": [
           {
            "colorbar": {
             "outlinewidth": 0,
             "ticks": ""
            },
            "colorscale": [
             [
              0,
              "#0d0887"
             ],
             [
              0.1111111111111111,
              "#46039f"
             ],
             [
              0.2222222222222222,
              "#7201a8"
             ],
             [
              0.3333333333333333,
              "#9c179e"
             ],
             [
              0.4444444444444444,
              "#bd3786"
             ],
             [
              0.5555555555555556,
              "#d8576b"
             ],
             [
              0.6666666666666666,
              "#ed7953"
             ],
             [
              0.7777777777777778,
              "#fb9f3a"
             ],
             [
              0.8888888888888888,
              "#fdca26"
             ],
             [
              1,
              "#f0f921"
             ]
            ],
            "type": "contour"
           }
          ],
          "contourcarpet": [
           {
            "colorbar": {
             "outlinewidth": 0,
             "ticks": ""
            },
            "type": "contourcarpet"
           }
          ],
          "heatmap": [
           {
            "colorbar": {
             "outlinewidth": 0,
             "ticks": ""
            },
            "colorscale": [
             [
              0,
              "#0d0887"
             ],
             [
              0.1111111111111111,
              "#46039f"
             ],
             [
              0.2222222222222222,
              "#7201a8"
             ],
             [
              0.3333333333333333,
              "#9c179e"
             ],
             [
              0.4444444444444444,
              "#bd3786"
             ],
             [
              0.5555555555555556,
              "#d8576b"
             ],
             [
              0.6666666666666666,
              "#ed7953"
             ],
             [
              0.7777777777777778,
              "#fb9f3a"
             ],
             [
              0.8888888888888888,
              "#fdca26"
             ],
             [
              1,
              "#f0f921"
             ]
            ],
            "type": "heatmap"
           }
          ],
          "heatmapgl": [
           {
            "colorbar": {
             "outlinewidth": 0,
             "ticks": ""
            },
            "colorscale": [
             [
              0,
              "#0d0887"
             ],
             [
              0.1111111111111111,
              "#46039f"
             ],
             [
              0.2222222222222222,
              "#7201a8"
             ],
             [
              0.3333333333333333,
              "#9c179e"
             ],
             [
              0.4444444444444444,
              "#bd3786"
             ],
             [
              0.5555555555555556,
              "#d8576b"
             ],
             [
              0.6666666666666666,
              "#ed7953"
             ],
             [
              0.7777777777777778,
              "#fb9f3a"
             ],
             [
              0.8888888888888888,
              "#fdca26"
             ],
             [
              1,
              "#f0f921"
             ]
            ],
            "type": "heatmapgl"
           }
          ],
          "histogram": [
           {
            "marker": {
             "pattern": {
              "fillmode": "overlay",
              "size": 10,
              "solidity": 0.2
             }
            },
            "type": "histogram"
           }
          ],
          "histogram2d": [
           {
            "colorbar": {
             "outlinewidth": 0,
             "ticks": ""
            },
            "colorscale": [
             [
              0,
              "#0d0887"
             ],
             [
              0.1111111111111111,
              "#46039f"
             ],
             [
              0.2222222222222222,
              "#7201a8"
             ],
             [
              0.3333333333333333,
              "#9c179e"
             ],
             [
              0.4444444444444444,
              "#bd3786"
             ],
             [
              0.5555555555555556,
              "#d8576b"
             ],
             [
              0.6666666666666666,
              "#ed7953"
             ],
             [
              0.7777777777777778,
              "#fb9f3a"
             ],
             [
              0.8888888888888888,
              "#fdca26"
             ],
             [
              1,
              "#f0f921"
             ]
            ],
            "type": "histogram2d"
           }
          ],
          "histogram2dcontour": [
           {
            "colorbar": {
             "outlinewidth": 0,
             "ticks": ""
            },
            "colorscale": [
             [
              0,
              "#0d0887"
             ],
             [
              0.1111111111111111,
              "#46039f"
             ],
             [
              0.2222222222222222,
              "#7201a8"
             ],
             [
              0.3333333333333333,
              "#9c179e"
             ],
             [
              0.4444444444444444,
              "#bd3786"
             ],
             [
              0.5555555555555556,
              "#d8576b"
             ],
             [
              0.6666666666666666,
              "#ed7953"
             ],
             [
              0.7777777777777778,
              "#fb9f3a"
             ],
             [
              0.8888888888888888,
              "#fdca26"
             ],
             [
              1,
              "#f0f921"
             ]
            ],
            "type": "histogram2dcontour"
           }
          ],
          "mesh3d": [
           {
            "colorbar": {
             "outlinewidth": 0,
             "ticks": ""
            },
            "type": "mesh3d"
           }
          ],
          "parcoords": [
           {
            "line": {
             "colorbar": {
              "outlinewidth": 0,
              "ticks": ""
             }
            },
            "type": "parcoords"
           }
          ],
          "pie": [
           {
            "automargin": true,
            "type": "pie"
           }
          ],
          "scatter": [
           {
            "fillpattern": {
             "fillmode": "overlay",
             "size": 10,
             "solidity": 0.2
            },
            "type": "scatter"
           }
          ],
          "scatter3d": [
           {
            "line": {
             "colorbar": {
              "outlinewidth": 0,
              "ticks": ""
             }
            },
            "marker": {
             "colorbar": {
              "outlinewidth": 0,
              "ticks": ""
             }
            },
            "type": "scatter3d"
           }
          ],
          "scattercarpet": [
           {
            "marker": {
             "colorbar": {
              "outlinewidth": 0,
              "ticks": ""
             }
            },
            "type": "scattercarpet"
           }
          ],
          "scattergeo": [
           {
            "marker": {
             "colorbar": {
              "outlinewidth": 0,
              "ticks": ""
             }
            },
            "type": "scattergeo"
           }
          ],
          "scattergl": [
           {
            "marker": {
             "colorbar": {
              "outlinewidth": 0,
              "ticks": ""
             }
            },
            "type": "scattergl"
           }
          ],
          "scattermapbox": [
           {
            "marker": {
             "colorbar": {
              "outlinewidth": 0,
              "ticks": ""
             }
            },
            "type": "scattermapbox"
           }
          ],
          "scatterpolar": [
           {
            "marker": {
             "colorbar": {
              "outlinewidth": 0,
              "ticks": ""
             }
            },
            "type": "scatterpolar"
           }
          ],
          "scatterpolargl": [
           {
            "marker": {
             "colorbar": {
              "outlinewidth": 0,
              "ticks": ""
             }
            },
            "type": "scatterpolargl"
           }
          ],
          "scatterternary": [
           {
            "marker": {
             "colorbar": {
              "outlinewidth": 0,
              "ticks": ""
             }
            },
            "type": "scatterternary"
           }
          ],
          "surface": [
           {
            "colorbar": {
             "outlinewidth": 0,
             "ticks": ""
            },
            "colorscale": [
             [
              0,
              "#0d0887"
             ],
             [
              0.1111111111111111,
              "#46039f"
             ],
             [
              0.2222222222222222,
              "#7201a8"
             ],
             [
              0.3333333333333333,
              "#9c179e"
             ],
             [
              0.4444444444444444,
              "#bd3786"
             ],
             [
              0.5555555555555556,
              "#d8576b"
             ],
             [
              0.6666666666666666,
              "#ed7953"
             ],
             [
              0.7777777777777778,
              "#fb9f3a"
             ],
             [
              0.8888888888888888,
              "#fdca26"
             ],
             [
              1,
              "#f0f921"
             ]
            ],
            "type": "surface"
           }
          ],
          "table": [
           {
            "cells": {
             "fill": {
              "color": "#EBF0F8"
             },
             "line": {
              "color": "white"
             }
            },
            "header": {
             "fill": {
              "color": "#C8D4E3"
             },
             "line": {
              "color": "white"
             }
            },
            "type": "table"
           }
          ]
         },
         "layout": {
          "annotationdefaults": {
           "arrowcolor": "#2a3f5f",
           "arrowhead": 0,
           "arrowwidth": 1
          },
          "autotypenumbers": "strict",
          "coloraxis": {
           "colorbar": {
            "outlinewidth": 0,
            "ticks": ""
           }
          },
          "colorscale": {
           "diverging": [
            [
             0,
             "#8e0152"
            ],
            [
             0.1,
             "#c51b7d"
            ],
            [
             0.2,
             "#de77ae"
            ],
            [
             0.3,
             "#f1b6da"
            ],
            [
             0.4,
             "#fde0ef"
            ],
            [
             0.5,
             "#f7f7f7"
            ],
            [
             0.6,
             "#e6f5d0"
            ],
            [
             0.7,
             "#b8e186"
            ],
            [
             0.8,
             "#7fbc41"
            ],
            [
             0.9,
             "#4d9221"
            ],
            [
             1,
             "#276419"
            ]
           ],
           "sequential": [
            [
             0,
             "#0d0887"
            ],
            [
             0.1111111111111111,
             "#46039f"
            ],
            [
             0.2222222222222222,
             "#7201a8"
            ],
            [
             0.3333333333333333,
             "#9c179e"
            ],
            [
             0.4444444444444444,
             "#bd3786"
            ],
            [
             0.5555555555555556,
             "#d8576b"
            ],
            [
             0.6666666666666666,
             "#ed7953"
            ],
            [
             0.7777777777777778,
             "#fb9f3a"
            ],
            [
             0.8888888888888888,
             "#fdca26"
            ],
            [
             1,
             "#f0f921"
            ]
           ],
           "sequentialminus": [
            [
             0,
             "#0d0887"
            ],
            [
             0.1111111111111111,
             "#46039f"
            ],
            [
             0.2222222222222222,
             "#7201a8"
            ],
            [
             0.3333333333333333,
             "#9c179e"
            ],
            [
             0.4444444444444444,
             "#bd3786"
            ],
            [
             0.5555555555555556,
             "#d8576b"
            ],
            [
             0.6666666666666666,
             "#ed7953"
            ],
            [
             0.7777777777777778,
             "#fb9f3a"
            ],
            [
             0.8888888888888888,
             "#fdca26"
            ],
            [
             1,
             "#f0f921"
            ]
           ]
          },
          "colorway": [
           "#636efa",
           "#EF553B",
           "#00cc96",
           "#ab63fa",
           "#FFA15A",
           "#19d3f3",
           "#FF6692",
           "#B6E880",
           "#FF97FF",
           "#FECB52"
          ],
          "font": {
           "color": "#2a3f5f"
          },
          "geo": {
           "bgcolor": "white",
           "lakecolor": "white",
           "landcolor": "#E5ECF6",
           "showlakes": true,
           "showland": true,
           "subunitcolor": "white"
          },
          "hoverlabel": {
           "align": "left"
          },
          "hovermode": "closest",
          "mapbox": {
           "style": "light"
          },
          "paper_bgcolor": "white",
          "plot_bgcolor": "#E5ECF6",
          "polar": {
           "angularaxis": {
            "gridcolor": "white",
            "linecolor": "white",
            "ticks": ""
           },
           "bgcolor": "#E5ECF6",
           "radialaxis": {
            "gridcolor": "white",
            "linecolor": "white",
            "ticks": ""
           }
          },
          "scene": {
           "xaxis": {
            "backgroundcolor": "#E5ECF6",
            "gridcolor": "white",
            "gridwidth": 2,
            "linecolor": "white",
            "showbackground": true,
            "ticks": "",
            "zerolinecolor": "white"
           },
           "yaxis": {
            "backgroundcolor": "#E5ECF6",
            "gridcolor": "white",
            "gridwidth": 2,
            "linecolor": "white",
            "showbackground": true,
            "ticks": "",
            "zerolinecolor": "white"
           },
           "zaxis": {
            "backgroundcolor": "#E5ECF6",
            "gridcolor": "white",
            "gridwidth": 2,
            "linecolor": "white",
            "showbackground": true,
            "ticks": "",
            "zerolinecolor": "white"
           }
          },
          "shapedefaults": {
           "line": {
            "color": "#2a3f5f"
           }
          },
          "ternary": {
           "aaxis": {
            "gridcolor": "white",
            "linecolor": "white",
            "ticks": ""
           },
           "baxis": {
            "gridcolor": "white",
            "linecolor": "white",
            "ticks": ""
           },
           "bgcolor": "#E5ECF6",
           "caxis": {
            "gridcolor": "white",
            "linecolor": "white",
            "ticks": ""
           }
          },
          "title": {
           "x": 0.05
          },
          "xaxis": {
           "automargin": true,
           "gridcolor": "white",
           "linecolor": "white",
           "ticks": "",
           "title": {
            "standoff": 15
           },
           "zerolinecolor": "white",
           "zerolinewidth": 2
          },
          "yaxis": {
           "automargin": true,
           "gridcolor": "white",
           "linecolor": "white",
           "ticks": "",
           "title": {
            "standoff": 15
           },
           "zerolinecolor": "white",
           "zerolinewidth": 2
          }
         }
        },
        "width": 900,
        "xaxis": {
         "anchor": "y",
         "domain": [
          0,
          0.98
         ],
         "dtick": 1,
         "range": [
          1982,
          2021
         ],
         "title": {
          "text": ""
         }
        },
        "xaxis2": {
         "anchor": "y2",
         "domain": [
          0,
          0.98
         ],
         "dtick": 1,
         "matches": "x",
         "showticklabels": false
        },
        "xaxis3": {
         "anchor": "y3",
         "domain": [
          0,
          0.98
         ],
         "dtick": 1,
         "matches": "x",
         "showticklabels": false
        },
        "yaxis": {
         "anchor": "x",
         "domain": [
          0,
          0.32666666666666666
         ],
         "title": {
          "text": "Yield (mt/ha)"
         }
        },
        "yaxis2": {
         "anchor": "x2",
         "domain": [
          0.33666666666666667,
          0.6633333333333333
         ],
         "title": {
          "text": "Area (ha)"
         }
        },
        "yaxis3": {
         "anchor": "x3",
         "domain": [
          0.6733333333333333,
          1
         ],
         "title": {
          "text": "Production (mt)"
         }
        }
       }
      }
     },
     "metadata": {},
     "output_type": "display_data"
    },
    {
     "name": "stdout",
     "output_type": "stream",
     "text": [
      "../figures/ML_line_pay_Sorghum_Main.png is saved.\n"
     ]
    },
    {
     "data": {
      "application/vnd.plotly.v1+json": {
       "config": {
        "plotlyServerURL": "https://plot.ly"
       },
       "data": [
        {
         "connectgaps": false,
         "hovertemplate": "fnid=ML2016A101<br>indicator=production<br>year=%{x}<br>value=%{y}<extra></extra>",
         "legendgroup": "ML2016A101",
         "line": {
          "color": "#636efa",
          "dash": "solid"
         },
         "marker": {
          "symbol": "circle"
         },
         "mode": "markers+lines",
         "name": "ML2016A101",
         "orientation": "v",
         "showlegend": true,
         "type": "scatter",
         "x": [
          1982,
          1983,
          1984,
          1985,
          1986,
          1987,
          1988,
          1989,
          1990,
          1991,
          1992,
          1993,
          1994,
          1995,
          1996,
          1997,
          1998,
          1999,
          2000,
          2001,
          2002,
          2003,
          2004,
          2005,
          2006,
          2007,
          2008,
          2009,
          2010,
          2011,
          2012,
          2013,
          2014,
          2015,
          2016,
          2017,
          2018,
          2019,
          2020,
          2021
         ],
         "xaxis": "x3",
         "y": [
          98941,
          68247,
          58518,
          94614,
          42828,
          132130,
          131562,
          115910,
          42691,
          155097,
          155097,
          148804,
          189377,
          163560,
          103630,
          110274,
          134738,
          144759,
          99606,
          94977,
          139527,
          200611,
          140268,
          146256,
          123334,
          148533,
          233441,
          142078,
          null,
          84542,
          280407,
          91804,
          228473,
          304600,
          384333,
          384333,
          175963,
          671450,
          326595.50656838,
          651430
         ],
         "yaxis": "y3"
        },
        {
         "connectgaps": false,
         "hovertemplate": "fnid=ML2016A101<br>indicator=area<br>year=%{x}<br>value=%{y}<extra></extra>",
         "legendgroup": "ML2016A101",
         "line": {
          "color": "#636efa",
          "dash": "solid"
         },
         "marker": {
          "symbol": "circle"
         },
         "mode": "markers+lines",
         "name": "ML2016A101",
         "orientation": "v",
         "showlegend": false,
         "type": "scatter",
         "x": [
          1982,
          1983,
          1984,
          1985,
          1986,
          1987,
          1988,
          1989,
          1990,
          1991,
          1992,
          1993,
          1994,
          1995,
          1996,
          1997,
          1998,
          1999,
          2000,
          2001,
          2002,
          2003,
          2004,
          2005,
          2006,
          2007,
          2008,
          2009,
          2010,
          2011,
          2012,
          2013,
          2014,
          2015,
          2016,
          2017,
          2018,
          2019,
          2020,
          2021
         ],
         "xaxis": "x2",
         "y": [
          98177,
          122726,
          69025,
          95502,
          67169,
          77647,
          103135,
          120752,
          167650,
          199327,
          199327,
          187794,
          null,
          106896,
          117177,
          123565,
          157647,
          154541,
          123830,
          143786,
          222860,
          197991,
          107716,
          169154,
          191053,
          183683,
          242971,
          176494,
          null,
          167222,
          261599,
          122018,
          228473,
          300679,
          313506,
          313506,
          267713,
          697066,
          340743.16268298,
          657993
         ],
         "yaxis": "y2"
        },
        {
         "connectgaps": false,
         "hovertemplate": "fnid=ML2016A101<br>indicator=yield<br>year=%{x}<br>value=%{y}<extra></extra>",
         "legendgroup": "ML2016A101",
         "line": {
          "color": "#636efa",
          "dash": "solid"
         },
         "marker": {
          "symbol": "circle"
         },
         "mode": "markers+lines",
         "name": "ML2016A101",
         "orientation": "v",
         "showlegend": false,
         "type": "scatter",
         "x": [
          1982,
          1983,
          1984,
          1985,
          1986,
          1987,
          1988,
          1989,
          1990,
          1991,
          1992,
          1993,
          1994,
          1995,
          1996,
          1997,
          1998,
          1999,
          2000,
          2001,
          2002,
          2003,
          2004,
          2005,
          2006,
          2007,
          2008,
          2009,
          2010,
          2011,
          2012,
          2013,
          2014,
          2015,
          2016,
          2017,
          2018,
          2019,
          2020,
          2021
         ],
         "xaxis": "x",
         "y": [
          1.0077818633692208,
          0.5560924335511628,
          0.8477797899311843,
          0.9907017654080544,
          0.6376155667048787,
          1.7016755315723724,
          1.275629029912251,
          0.9599012852789188,
          0.2546436027438115,
          0.7781033176639391,
          0.7781033176639391,
          0.7923788832444061,
          null,
          1.5300853165693755,
          0.884388574549613,
          0.8924371788127706,
          0.85468166219465,
          0.9367028814359944,
          0.8043769684244528,
          0.6605441419887889,
          0.626074665709414,
          1.0132329247289018,
          1.3022020869694382,
          0.864632228620074,
          0.6455486173993604,
          0.8086377073545183,
          0.9607772120952708,
          0.8050018697519462,
          null,
          0.5055674492590688,
          1.0718962992977803,
          0.7523807962759593,
          1,
          1.0130404850355363,
          1.2259191211651452,
          1.2259191211651452,
          0.6572822388154479,
          0.9632516863539464,
          0.958479999999992,
          0.9900257297570036
         ],
         "yaxis": "y"
        },
        {
         "connectgaps": false,
         "hovertemplate": "fnid=ML2016A102<br>indicator=production<br>year=%{x}<br>value=%{y}<extra></extra>",
         "legendgroup": "ML2016A102",
         "line": {
          "color": "#EF553B",
          "dash": "solid"
         },
         "marker": {
          "symbol": "circle"
         },
         "mode": "markers+lines",
         "name": "ML2016A102",
         "orientation": "v",
         "showlegend": true,
         "type": "scatter",
         "x": [
          1982,
          1983,
          1984,
          1985,
          1986,
          1987,
          1988,
          1989,
          1990,
          1991,
          1992,
          1993,
          1994,
          1995,
          1996,
          1997,
          1998,
          1999,
          2000,
          2001,
          2002,
          2003,
          2004,
          2005,
          2006,
          2007,
          2008,
          2009,
          2010,
          2011,
          2012,
          2013,
          2014,
          2015,
          2016,
          2017,
          2018,
          2019,
          2020,
          2021
         ],
         "xaxis": "x3",
         "y": [
          null,
          91203,
          98646,
          135505,
          141938,
          110638,
          172014,
          225123,
          131398,
          120470,
          120470,
          236646,
          203948,
          199150,
          164000,
          169090,
          215520,
          200135,
          223832,
          179344,
          203809,
          176214,
          270245,
          181964,
          193598,
          195357,
          189197,
          217955,
          null,
          386371,
          331138,
          273483,
          403269,
          541921,
          527681,
          527681,
          545483,
          328761,
          398623.43056144,
          406879
         ],
         "yaxis": "y3"
        },
        {
         "connectgaps": false,
         "hovertemplate": "fnid=ML2016A102<br>indicator=area<br>year=%{x}<br>value=%{y}<extra></extra>",
         "legendgroup": "ML2016A102",
         "line": {
          "color": "#EF553B",
          "dash": "solid"
         },
         "marker": {
          "symbol": "circle"
         },
         "mode": "markers+lines",
         "name": "ML2016A102",
         "orientation": "v",
         "showlegend": false,
         "type": "scatter",
         "x": [
          1982,
          1983,
          1984,
          1985,
          1986,
          1987,
          1988,
          1989,
          1990,
          1991,
          1992,
          1993,
          1994,
          1995,
          1996,
          1997,
          1998,
          1999,
          2000,
          2001,
          2002,
          2003,
          2004,
          2005,
          2006,
          2007,
          2008,
          2009,
          2010,
          2011,
          2012,
          2013,
          2014,
          2015,
          2016,
          2017,
          2018,
          2019,
          2020,
          2021
         ],
         "xaxis": "x2",
         "y": [
          null,
          47923,
          73125,
          70146,
          82178,
          112209,
          191766,
          168129,
          226335,
          207067,
          207067,
          278837,
          null,
          214335,
          172857,
          180129,
          211015,
          239534,
          271439,
          243795,
          284712,
          203662,
          177581,
          215929,
          236913,
          222784,
          207042,
          216720,
          null,
          607441,
          362131,
          316839,
          403269,
          498091,
          531473,
          531473,
          601561,
          363141,
          420968.43509635,
          449968
         ],
         "yaxis": "y2"
        },
        {
         "connectgaps": false,
         "hovertemplate": "fnid=ML2016A102<br>indicator=yield<br>year=%{x}<br>value=%{y}<extra></extra>",
         "legendgroup": "ML2016A102",
         "line": {
          "color": "#EF553B",
          "dash": "solid"
         },
         "marker": {
          "symbol": "circle"
         },
         "mode": "markers+lines",
         "name": "ML2016A102",
         "orientation": "v",
         "showlegend": false,
         "type": "scatter",
         "x": [
          1982,
          1983,
          1984,
          1985,
          1986,
          1987,
          1988,
          1989,
          1990,
          1991,
          1992,
          1993,
          1994,
          1995,
          1996,
          1997,
          1998,
          1999,
          2000,
          2001,
          2002,
          2003,
          2004,
          2005,
          2006,
          2007,
          2008,
          2009,
          2010,
          2011,
          2012,
          2013,
          2014,
          2015,
          2016,
          2017,
          2018,
          2019,
          2020,
          2021
         ],
         "xaxis": "x",
         "y": [
          null,
          1.9031154143104565,
          1.3490051282051283,
          1.9317566219028883,
          1.7272019275231814,
          0.9859993405163578,
          0.896999468101749,
          1.338989704334172,
          0.5805465350034241,
          0.5817923667218823,
          0.5817923667218823,
          0.8486893776650875,
          null,
          0.929152961485525,
          0.9487611146786072,
          0.938716142320226,
          1.0213491931853185,
          0.835518131037765,
          0.8246125280449751,
          0.735634446973892,
          0.7158426761077861,
          0.8652276811579971,
          1.5218125813009276,
          0.8427029254986593,
          0.8171691718056839,
          0.8768897227808101,
          0.9138097584065068,
          1.0056985972683647,
          null,
          0.6360634201510929,
          0.914414949286308,
          0.8631607851306183,
          1,
          1.087995968608146,
          0.992865112620961,
          0.992865112620961,
          0.9067791961247488,
          0.9053260303848918,
          0.9469200000000102,
          0.9042398570565018
         ],
         "yaxis": "y"
        },
        {
         "connectgaps": false,
         "hovertemplate": "fnid=ML2016A103<br>indicator=production<br>year=%{x}<br>value=%{y}<extra></extra>",
         "legendgroup": "ML2016A103",
         "line": {
          "color": "#00cc96",
          "dash": "solid"
         },
         "marker": {
          "symbol": "circle"
         },
         "mode": "markers+lines",
         "name": "ML2016A103",
         "orientation": "v",
         "showlegend": true,
         "type": "scatter",
         "x": [
          1982,
          1983,
          1984,
          1985,
          1986,
          1987,
          1988,
          1989,
          1990,
          1991,
          1992,
          1993,
          1994,
          1995,
          1996,
          1997,
          1998,
          1999,
          2000,
          2001,
          2002,
          2003,
          2004,
          2005,
          2006,
          2007,
          2008,
          2009,
          2010,
          2011,
          2012,
          2013,
          2014,
          2015,
          2016,
          2017,
          2018,
          2019,
          2020,
          2021
         ],
         "xaxis": "x3",
         "y": [
          59561,
          154493,
          182295,
          162157,
          165808,
          170874,
          155014,
          204049,
          186803,
          140638,
          140667,
          165322,
          191016,
          209870,
          175190,
          179240,
          145288,
          200004,
          125320,
          118050,
          190723,
          168086,
          127787,
          165378,
          313293.60286531,
          402332,
          363138,
          359967,
          null,
          496599,
          254775,
          310153,
          258584,
          54646,
          334866,
          334866,
          368084,
          83160,
          354424.49603597,
          414585
         ],
         "yaxis": "y3"
        },
        {
         "connectgaps": false,
         "hovertemplate": "fnid=ML2016A103<br>indicator=area<br>year=%{x}<br>value=%{y}<extra></extra>",
         "legendgroup": "ML2016A103",
         "line": {
          "color": "#00cc96",
          "dash": "solid"
         },
         "marker": {
          "symbol": "circle"
         },
         "mode": "markers+lines",
         "name": "ML2016A103",
         "orientation": "v",
         "showlegend": false,
         "type": "scatter",
         "x": [
          1982,
          1983,
          1984,
          1985,
          1986,
          1987,
          1988,
          1989,
          1990,
          1991,
          1992,
          1993,
          1994,
          1995,
          1996,
          1997,
          1998,
          1999,
          2000,
          2001,
          2002,
          2003,
          2004,
          2005,
          2006,
          2007,
          2008,
          2009,
          2010,
          2011,
          2012,
          2013,
          2014,
          2015,
          2016,
          2017,
          2018,
          2019,
          2020,
          2021
         ],
         "xaxis": "x2",
         "y": [
          48464,
          88843,
          147029,
          179599,
          162460,
          178725,
          198999,
          197308,
          181190,
          197169,
          197169,
          267488,
          null,
          260338,
          137861,
          150631,
          149086,
          183380,
          133882,
          150358,
          219313,
          175890,
          127462,
          179273,
          281097.30488192,
          444643,
          305860,
          297327,
          null,
          548255,
          277824,
          326110,
          258584,
          58030,
          326719,
          326719,
          378150,
          111458,
          327937.02271155,
          392011
         ],
         "yaxis": "y2"
        },
        {
         "connectgaps": false,
         "hovertemplate": "fnid=ML2016A103<br>indicator=yield<br>year=%{x}<br>value=%{y}<extra></extra>",
         "legendgroup": "ML2016A103",
         "line": {
          "color": "#00cc96",
          "dash": "solid"
         },
         "marker": {
          "symbol": "circle"
         },
         "mode": "markers+lines",
         "name": "ML2016A103",
         "orientation": "v",
         "showlegend": false,
         "type": "scatter",
         "x": [
          1982,
          1983,
          1984,
          1985,
          1986,
          1987,
          1988,
          1989,
          1990,
          1991,
          1992,
          1993,
          1994,
          1995,
          1996,
          1997,
          1998,
          1999,
          2000,
          2001,
          2002,
          2003,
          2004,
          2005,
          2006,
          2007,
          2008,
          2009,
          2010,
          2011,
          2012,
          2013,
          2014,
          2015,
          2016,
          2017,
          2018,
          2019,
          2020,
          2021
         ],
         "xaxis": "x",
         "y": [
          1.228974083856058,
          1.738943979829587,
          1.2398574430894584,
          0.9028836463454696,
          1.0206081496983872,
          0.9560721779269828,
          0.7789687385363746,
          1.0341648590021693,
          1.030978530823997,
          0.7132865714184279,
          0.7134336533633583,
          0.6180538940064602,
          null,
          0.8061443200762086,
          1.2707727348561233,
          1.189927704124649,
          0.9745247709375796,
          1.090653288253899,
          0.9360481618141347,
          0.7851261655515503,
          0.8696383707304173,
          0.9556313605094092,
          1.002549779542138,
          0.9224925114211286,
          1.114537910624631,
          0.9048427614963016,
          1.18726868501929,
          1.2106771332573227,
          null,
          0.9057810690280982,
          0.917037404975812,
          0.9510686578148476,
          1,
          0.941685335171463,
          1.0249358011012522,
          1.0249358011012522,
          0.9733809334920004,
          0.7461106425738844,
          1.0807700000000249,
          1.057585118784932
         ],
         "yaxis": "y"
        },
        {
         "connectgaps": false,
         "hovertemplate": "fnid=ML2016A104<br>indicator=production<br>year=%{x}<br>value=%{y}<extra></extra>",
         "legendgroup": "ML2016A104",
         "line": {
          "color": "#ab63fa",
          "dash": "solid"
         },
         "marker": {
          "symbol": "circle"
         },
         "mode": "markers+lines",
         "name": "ML2016A104",
         "orientation": "v",
         "showlegend": true,
         "type": "scatter",
         "x": [
          1982,
          1983,
          1984,
          1985,
          1986,
          1987,
          1988,
          1989,
          1990,
          1991,
          1992,
          1993,
          1994,
          1995,
          1996,
          1997,
          1998,
          1999,
          2000,
          2001,
          2002,
          2003,
          2004,
          2005,
          2006,
          2007,
          2008,
          2009,
          2010,
          2011,
          2012,
          2013,
          2014,
          2015,
          2016,
          2017,
          2018,
          2019,
          2020,
          2021
         ],
         "xaxis": "x3",
         "y": [
          111223,
          82249,
          23205,
          45810,
          83201,
          64058,
          157591,
          105391,
          145084,
          112833,
          112833,
          185854,
          141294,
          122200,
          83650,
          86533,
          77679,
          94775,
          90338,
          79173,
          84519,
          130010,
          102469,
          107082,
          105647.42716048,
          110030,
          136165,
          202146,
          null,
          152626,
          283467,
          122151,
          203338,
          261914,
          335344,
          335344,
          284444,
          342134,
          380216.32935489,
          234353
         ],
         "yaxis": "y3"
        },
        {
         "connectgaps": false,
         "hovertemplate": "fnid=ML2016A104<br>indicator=area<br>year=%{x}<br>value=%{y}<extra></extra>",
         "legendgroup": "ML2016A104",
         "line": {
          "color": "#ab63fa",
          "dash": "solid"
         },
         "marker": {
          "symbol": "circle"
         },
         "mode": "markers+lines",
         "name": "ML2016A104",
         "orientation": "v",
         "showlegend": false,
         "type": "scatter",
         "x": [
          1982,
          1983,
          1984,
          1985,
          1986,
          1987,
          1988,
          1989,
          1990,
          1991,
          1992,
          1993,
          1994,
          1995,
          1996,
          1997,
          1998,
          1999,
          2000,
          2001,
          2002,
          2003,
          2004,
          2005,
          2006,
          2007,
          2008,
          2009,
          2010,
          2011,
          2012,
          2013,
          2014,
          2015,
          2016,
          2017,
          2018,
          2019,
          2020,
          2021
         ],
         "xaxis": "x2",
         "y": [
          94508,
          131537,
          64549,
          55308,
          69052,
          87983,
          131912,
          91810,
          153386,
          194551,
          194551,
          209475,
          null,
          137270,
          86734,
          87274,
          66861,
          94380,
          93099,
          94229,
          139802,
          134934,
          102752,
          119141,
          140970.95136638,
          156149,
          161436,
          171442,
          null,
          248710,
          281645,
          142165,
          203338,
          255512,
          319893,
          319893,
          267496,
          401005,
          363763.31463399,
          231553
         ],
         "yaxis": "y2"
        },
        {
         "connectgaps": false,
         "hovertemplate": "fnid=ML2016A104<br>indicator=yield<br>year=%{x}<br>value=%{y}<extra></extra>",
         "legendgroup": "ML2016A104",
         "line": {
          "color": "#ab63fa",
          "dash": "solid"
         },
         "marker": {
          "symbol": "circle"
         },
         "mode": "markers+lines",
         "name": "ML2016A104",
         "orientation": "v",
         "showlegend": false,
         "type": "scatter",
         "x": [
          1982,
          1983,
          1984,
          1985,
          1986,
          1987,
          1988,
          1989,
          1990,
          1991,
          1992,
          1993,
          1994,
          1995,
          1996,
          1997,
          1998,
          1999,
          2000,
          2001,
          2002,
          2003,
          2004,
          2005,
          2006,
          2007,
          2008,
          2009,
          2010,
          2011,
          2012,
          2013,
          2014,
          2015,
          2016,
          2017,
          2018,
          2019,
          2020,
          2021
         ],
         "xaxis": "x",
         "y": [
          1.176863334320904,
          0.6252917430076709,
          0.3594943376349749,
          0.8282707745714906,
          1.2049035509471122,
          0.7280724685450598,
          1.1946676572260295,
          1.1479250626293431,
          0.945875112461372,
          0.5799661785341633,
          0.5799661785341633,
          0.8872371404702232,
          null,
          0.8902163619144752,
          0.9644430096617244,
          0.9915094988198088,
          1.1617983577870508,
          1.0041852087306633,
          0.9703433978882696,
          0.8402190408472976,
          0.604562166492611,
          0.9635080854343604,
          0.9972457957022736,
          0.8987837939919927,
          0.7494269289983364,
          0.704647484133744,
          0.843461185856934,
          1.1790926377433768,
          null,
          0.6136705399863295,
          1.006469136679153,
          0.8592199205148947,
          1,
          1.0250555746892511,
          1.04830052548821,
          1.04830052548821,
          1.0633579567544935,
          0.8531913567162505,
          1.0452300000000128,
          1.0120922639741226
         ],
         "yaxis": "y"
        },
        {
         "connectgaps": false,
         "hovertemplate": "fnid=ML2016A105<br>indicator=production<br>year=%{x}<br>value=%{y}<extra></extra>",
         "legendgroup": "ML2016A105",
         "line": {
          "color": "#FFA15A",
          "dash": "solid"
         },
         "marker": {
          "symbol": "circle"
         },
         "mode": "markers+lines",
         "name": "ML2016A105",
         "orientation": "v",
         "showlegend": true,
         "type": "scatter",
         "x": [
          1982,
          1983,
          1984,
          1985,
          1986,
          1987,
          1988,
          1989,
          1990,
          1991,
          1992,
          1993,
          1994,
          1995,
          1996,
          1997,
          1998,
          1999,
          2000,
          2001,
          2002,
          2003,
          2004,
          2005,
          2006,
          2007,
          2008,
          2009,
          2010,
          2011,
          2012,
          2013,
          2014,
          2015,
          2016,
          2017,
          2018,
          2019,
          2020,
          2021
         ],
         "xaxis": "x3",
         "y": [
          21759,
          24481,
          5713,
          13186,
          20062,
          18816,
          25358,
          11648,
          38011,
          51047,
          51047,
          28087,
          11567,
          14020,
          11510,
          10748,
          19485,
          39759,
          25492,
          34953,
          17069,
          41758,
          18691,
          18867,
          21164,
          38032,
          30451,
          31563,
          null,
          50269,
          45035,
          20450,
          49270,
          345312,
          46387,
          46387,
          40430,
          17880,
          19128.20689474,
          49730
         ],
         "yaxis": "y3"
        },
        {
         "connectgaps": false,
         "hovertemplate": "fnid=ML2016A105<br>indicator=area<br>year=%{x}<br>value=%{y}<extra></extra>",
         "legendgroup": "ML2016A105",
         "line": {
          "color": "#FFA15A",
          "dash": "solid"
         },
         "marker": {
          "symbol": "circle"
         },
         "mode": "markers+lines",
         "name": "ML2016A105",
         "orientation": "v",
         "showlegend": false,
         "type": "scatter",
         "x": [
          1982,
          1983,
          1984,
          1985,
          1986,
          1987,
          1988,
          1989,
          1990,
          1991,
          1992,
          1993,
          1994,
          1995,
          1996,
          1997,
          1998,
          1999,
          2000,
          2001,
          2002,
          2003,
          2004,
          2005,
          2006,
          2007,
          2008,
          2009,
          2010,
          2011,
          2012,
          2013,
          2014,
          2015,
          2016,
          2017,
          2018,
          2019,
          2020,
          2021
         ],
         "xaxis": "x2",
         "y": [
          34611,
          36655,
          17655,
          19146,
          21062,
          22479,
          32407,
          25052,
          51896,
          90470,
          90470,
          62649,
          null,
          23181,
          20138,
          20652,
          23652,
          53545,
          52191,
          50726,
          39256,
          100031,
          35050,
          46044,
          49741,
          76268,
          55968,
          43295,
          null,
          96433,
          60703,
          28057,
          49270,
          321205,
          51890,
          51890,
          61223,
          28474,
          21225.49839073,
          63322
         ],
         "yaxis": "y2"
        },
        {
         "connectgaps": false,
         "hovertemplate": "fnid=ML2016A105<br>indicator=yield<br>year=%{x}<br>value=%{y}<extra></extra>",
         "legendgroup": "ML2016A105",
         "line": {
          "color": "#FFA15A",
          "dash": "solid"
         },
         "marker": {
          "symbol": "circle"
         },
         "mode": "markers+lines",
         "name": "ML2016A105",
         "orientation": "v",
         "showlegend": false,
         "type": "scatter",
         "x": [
          1982,
          1983,
          1984,
          1985,
          1986,
          1987,
          1988,
          1989,
          1990,
          1991,
          1992,
          1993,
          1994,
          1995,
          1996,
          1997,
          1998,
          1999,
          2000,
          2001,
          2002,
          2003,
          2004,
          2005,
          2006,
          2007,
          2008,
          2009,
          2010,
          2011,
          2012,
          2013,
          2014,
          2015,
          2016,
          2017,
          2018,
          2019,
          2020,
          2021
         ],
         "xaxis": "x",
         "y": [
          0.628672965242264,
          0.6678761424089483,
          0.3235910506938544,
          0.6887078240885824,
          0.9525211280979964,
          0.8370479113839584,
          0.7824852655290524,
          0.4649528979722178,
          0.732445660551873,
          0.5642422902619653,
          0.5642422902619653,
          0.4483231974971667,
          null,
          0.604805659807601,
          0.571556261793624,
          0.5204338562851055,
          0.823820395738204,
          0.7425343169296853,
          0.4884367036462225,
          0.6890549225249379,
          0.4348125127369064,
          0.4174505903170017,
          0.5332667617689015,
          0.4097602293458431,
          0.4254840071570736,
          0.4986626107935176,
          0.5440787592910235,
          0.7290218270008084,
          null,
          0.5212842076882395,
          0.7418908455924749,
          0.7288733649356667,
          1,
          1.0750517582229415,
          0.8939487377143959,
          0.8939487377143959,
          0.6603727357365696,
          0.6279412797639953,
          0.9011899999999072,
          0.7853510628217681
         ],
         "yaxis": "y"
        },
        {
         "connectgaps": false,
         "hovertemplate": "fnid=ML2016A106<br>indicator=production<br>year=%{x}<br>value=%{y}<extra></extra>",
         "legendgroup": "ML2016A106",
         "line": {
          "color": "#19d3f3",
          "dash": "solid"
         },
         "marker": {
          "symbol": "circle"
         },
         "mode": "markers+lines",
         "name": "ML2016A106",
         "orientation": "v",
         "showlegend": true,
         "type": "scatter",
         "x": [
          1982,
          1983,
          1984,
          1985,
          1986,
          1987,
          1988,
          1989,
          1990,
          1991,
          1992,
          1993,
          1994,
          1995,
          1996,
          1997,
          1998,
          1999,
          2000,
          2001,
          2002,
          2003,
          2004,
          2005,
          2006,
          2007,
          2008,
          2009,
          2010,
          2011,
          2012,
          2013,
          2014,
          2015,
          2016,
          2017,
          2018,
          2019,
          2020,
          2021
         ],
         "xaxis": "x3",
         "y": [
          null,
          6785,
          1267,
          328,
          9529,
          1824,
          33851,
          9982,
          4799,
          16645,
          16645,
          9155,
          6787,
          1160,
          1820,
          2456,
          5270,
          8587,
          51,
          9822,
          5359,
          10660,
          3232,
          9495,
          10107.42744912,
          4783,
          12771,
          14997,
          null,
          50800,
          17383,
          18167,
          10054,
          18923,
          8814,
          8814,
          8954,
          null,
          28627.74742758,
          37630
         ],
         "yaxis": "y3"
        },
        {
         "connectgaps": false,
         "hovertemplate": "fnid=ML2016A106<br>indicator=area<br>year=%{x}<br>value=%{y}<extra></extra>",
         "legendgroup": "ML2016A106",
         "line": {
          "color": "#19d3f3",
          "dash": "solid"
         },
         "marker": {
          "symbol": "circle"
         },
         "mode": "markers+lines",
         "name": "ML2016A106",
         "orientation": "v",
         "showlegend": false,
         "type": "scatter",
         "x": [
          1982,
          1983,
          1984,
          1985,
          1986,
          1987,
          1988,
          1989,
          1990,
          1991,
          1992,
          1993,
          1994,
          1995,
          1996,
          1997,
          1998,
          1999,
          2000,
          2001,
          2002,
          2003,
          2004,
          2005,
          2006,
          2007,
          2008,
          2009,
          2010,
          2011,
          2012,
          2013,
          2014,
          2015,
          2016,
          2017,
          2018,
          2019,
          2020,
          2021
         ],
         "xaxis": "x2",
         "y": [
          null,
          13040,
          15384,
          1649,
          9426,
          4239,
          19417,
          59431,
          12828,
          37907,
          20849,
          22221,
          null,
          7497,
          3520,
          5202,
          4867,
          6087,
          281,
          17111,
          13765,
          9482,
          8036,
          14291,
          13051.27004407,
          3639,
          10669,
          13529,
          null,
          36000,
          37380,
          21761,
          10054,
          23566,
          16075,
          16075,
          9843,
          null,
          20631.31508388,
          26080
         ],
         "yaxis": "y2"
        },
        {
         "connectgaps": false,
         "hovertemplate": "fnid=ML2016A106<br>indicator=yield<br>year=%{x}<br>value=%{y}<extra></extra>",
         "legendgroup": "ML2016A106",
         "line": {
          "color": "#19d3f3",
          "dash": "solid"
         },
         "marker": {
          "symbol": "circle"
         },
         "mode": "markers+lines",
         "name": "ML2016A106",
         "orientation": "v",
         "showlegend": false,
         "type": "scatter",
         "x": [
          1982,
          1983,
          1984,
          1985,
          1986,
          1987,
          1988,
          1989,
          1990,
          1991,
          1992,
          1993,
          1994,
          1995,
          1996,
          1997,
          1998,
          1999,
          2000,
          2001,
          2002,
          2003,
          2004,
          2005,
          2006,
          2007,
          2008,
          2009,
          2010,
          2011,
          2012,
          2013,
          2014,
          2015,
          2016,
          2017,
          2018,
          2019,
          2020,
          2021
         ],
         "xaxis": "x",
         "y": [
          null,
          0.5203220858895705,
          0.0823582943317732,
          0.1989084293511218,
          1.010927222575854,
          0.4302901627742392,
          1.7433692125457074,
          0.167959482424997,
          0.3741035235422513,
          0.4391009576067745,
          0.7983596335555662,
          0.4119976598712929,
          null,
          0.1547285580899026,
          0.5170454545454546,
          0.4721261053440984,
          1.0828025477707006,
          1.410711352061771,
          0.1814946619217081,
          0.5740167143942493,
          0.3893207410098074,
          1.124235393376925,
          0.4021901443504231,
          0.6644041704569309,
          0.774440143755391,
          1.3143720802418246,
          1.1970194020058111,
          1.1085076502328333,
          null,
          1.4111111111111112,
          0.4650347779561262,
          0.8348421487983089,
          1,
          0.802978867860477,
          0.5483048211508553,
          0.5483048211508553,
          0.9096820075180332,
          null,
          1.387587136893077,
          1.4428680981595092
         ],
         "yaxis": "y"
        },
        {
         "connectgaps": false,
         "hovertemplate": "fnid=ML2016A107<br>indicator=production<br>year=%{x}<br>value=%{y}<extra></extra>",
         "legendgroup": "ML2016A107",
         "line": {
          "color": "#FF6692",
          "dash": "solid"
         },
         "marker": {
          "symbol": "circle"
         },
         "mode": "markers+lines",
         "name": "ML2016A107",
         "orientation": "v",
         "showlegend": true,
         "type": "scatter",
         "x": [
          1982,
          1983,
          1984,
          1985,
          1986,
          1987,
          1988,
          1989,
          1990,
          1991,
          1992,
          1993,
          1994,
          1995,
          1996,
          1997,
          1998,
          1999,
          2000,
          2001,
          2002,
          2003,
          2004,
          2005,
          2006,
          2007,
          2008,
          2009,
          2010,
          2011,
          2012,
          2013,
          2014,
          2015,
          2016,
          2017,
          2018,
          2019,
          2020,
          2021
         ],
         "xaxis": "x3",
         "y": [
          1875,
          null,
          174,
          455,
          1199,
          14836,
          1539,
          179,
          1378,
          5474,
          5474,
          1300,
          2228,
          310,
          460,
          461,
          994,
          811,
          23,
          1429,
          842,
          293,
          1391,
          85,
          2536,
          1723,
          4434,
          358,
          null,
          4323,
          235,
          1017,
          null,
          139,
          488,
          488,
          5340,
          null,
          3494.69516209,
          6409
         ],
         "yaxis": "y3"
        },
        {
         "connectgaps": false,
         "hovertemplate": "fnid=ML2016A107<br>indicator=area<br>year=%{x}<br>value=%{y}<extra></extra>",
         "legendgroup": "ML2016A107",
         "line": {
          "color": "#FF6692",
          "dash": "solid"
         },
         "marker": {
          "symbol": "circle"
         },
         "mode": "markers+lines",
         "name": "ML2016A107",
         "orientation": "v",
         "showlegend": false,
         "type": "scatter",
         "x": [
          1982,
          1983,
          1984,
          1985,
          1986,
          1987,
          1988,
          1989,
          1990,
          1991,
          1992,
          1993,
          1994,
          1995,
          1996,
          1997,
          1998,
          1999,
          2000,
          2001,
          2002,
          2003,
          2004,
          2005,
          2006,
          2007,
          2008,
          2009,
          2010,
          2011,
          2012,
          2013,
          2014,
          2015,
          2016,
          2017,
          2018,
          2019,
          2020,
          2021
         ],
         "xaxis": "x2",
         "y": [
          4475,
          374,
          365,
          3524,
          6340,
          7941,
          1477,
          185,
          5332,
          7343,
          4039,
          2114,
          null,
          1488,
          2381,
          3650,
          1957,
          1596,
          46,
          2473,
          3695,
          341,
          18424,
          340,
          4227,
          3077,
          7049,
          600,
          null,
          9705,
          3035,
          1155,
          null,
          184,
          566,
          566,
          9710,
          null,
          5509.70417179,
          10898
         ],
         "yaxis": "y2"
        },
        {
         "connectgaps": false,
         "hovertemplate": "fnid=ML2016A107<br>indicator=yield<br>year=%{x}<br>value=%{y}<extra></extra>",
         "legendgroup": "ML2016A107",
         "line": {
          "color": "#FF6692",
          "dash": "solid"
         },
         "marker": {
          "symbol": "circle"
         },
         "mode": "markers+lines",
         "name": "ML2016A107",
         "orientation": "v",
         "showlegend": false,
         "type": "scatter",
         "x": [
          1982,
          1983,
          1984,
          1985,
          1986,
          1987,
          1988,
          1989,
          1990,
          1991,
          1992,
          1993,
          1994,
          1995,
          1996,
          1997,
          1998,
          1999,
          2000,
          2001,
          2002,
          2003,
          2004,
          2005,
          2006,
          2007,
          2008,
          2009,
          2010,
          2011,
          2012,
          2013,
          2014,
          2015,
          2016,
          2017,
          2018,
          2019,
          2020,
          2021
         ],
         "xaxis": "x",
         "y": [
          0.4189944134078212,
          null,
          0.4767123287671233,
          0.1291146424517593,
          0.1891167192429022,
          1.8682785543382443,
          1.041976980365606,
          0.9675675675675676,
          0.2584396099024756,
          0.7454718779790277,
          1.3552859618717503,
          0.6149479659413434,
          null,
          0.2083333333333333,
          0.1931961360772784,
          0.1263013698630136,
          0.5079202861522739,
          0.5081453634085213,
          0.5,
          0.5778406793368378,
          0.2278755074424898,
          0.8592375366568915,
          0.0754993486756404,
          0.25,
          0.5999526851194701,
          0.5599610009749756,
          0.6290253936728614,
          0.5966666666666667,
          null,
          0.4454404945904173,
          0.0774299835255354,
          0.8805194805194805,
          null,
          0.7554347826086957,
          0.8621908127208481,
          0.8621908127208481,
          0.5499485066941298,
          null,
          0.6342800000012775,
          0.5880895577170123
         ],
         "yaxis": "y"
        }
       ],
       "layout": {
        "annotations": [
         {
          "showarrow": false,
          "text": "",
          "textangle": 90,
          "x": 0.98,
          "xanchor": "left",
          "xref": "paper",
          "y": 0.16333333333333333,
          "yanchor": "middle",
          "yref": "paper"
         },
         {
          "showarrow": false,
          "text": "",
          "textangle": 90,
          "x": 0.98,
          "xanchor": "left",
          "xref": "paper",
          "y": 0.5,
          "yanchor": "middle",
          "yref": "paper"
         },
         {
          "showarrow": false,
          "text": "",
          "textangle": 90,
          "x": 0.98,
          "xanchor": "left",
          "xref": "paper",
          "y": 0.8366666666666667,
          "yanchor": "middle",
          "yref": "paper"
         },
         {
          "align": "left",
          "font": {
           "color": "dimgrey",
           "family": "arial",
           "size": 15
          },
          "showarrow": false,
          "text": "Production-Area-Yield time-series of ML - Sorghum - Main",
          "x": -0.014,
          "xref": "paper",
          "y": -0.14,
          "yref": "paper"
         }
        ],
        "font": {
         "color": "black",
         "family": "arial",
         "size": 16
        },
        "height": 600,
        "legend": {
         "font": {
          "size": 14
         },
         "title": {
          "text": "FNID"
         },
         "tracegroupgap": 0,
         "x": 1,
         "xanchor": "left",
         "y": 1,
         "yanchor": "top"
        },
        "margin": {
         "b": 25,
         "l": 0,
         "r": 0,
         "t": 0
        },
        "template": {
         "data": {
          "bar": [
           {
            "error_x": {
             "color": "#2a3f5f"
            },
            "error_y": {
             "color": "#2a3f5f"
            },
            "marker": {
             "line": {
              "color": "#E5ECF6",
              "width": 0.5
             },
             "pattern": {
              "fillmode": "overlay",
              "size": 10,
              "solidity": 0.2
             }
            },
            "type": "bar"
           }
          ],
          "barpolar": [
           {
            "marker": {
             "line": {
              "color": "#E5ECF6",
              "width": 0.5
             },
             "pattern": {
              "fillmode": "overlay",
              "size": 10,
              "solidity": 0.2
             }
            },
            "type": "barpolar"
           }
          ],
          "carpet": [
           {
            "aaxis": {
             "endlinecolor": "#2a3f5f",
             "gridcolor": "white",
             "linecolor": "white",
             "minorgridcolor": "white",
             "startlinecolor": "#2a3f5f"
            },
            "baxis": {
             "endlinecolor": "#2a3f5f",
             "gridcolor": "white",
             "linecolor": "white",
             "minorgridcolor": "white",
             "startlinecolor": "#2a3f5f"
            },
            "type": "carpet"
           }
          ],
          "choropleth": [
           {
            "colorbar": {
             "outlinewidth": 0,
             "ticks": ""
            },
            "type": "choropleth"
           }
          ],
          "contour": [
           {
            "colorbar": {
             "outlinewidth": 0,
             "ticks": ""
            },
            "colorscale": [
             [
              0,
              "#0d0887"
             ],
             [
              0.1111111111111111,
              "#46039f"
             ],
             [
              0.2222222222222222,
              "#7201a8"
             ],
             [
              0.3333333333333333,
              "#9c179e"
             ],
             [
              0.4444444444444444,
              "#bd3786"
             ],
             [
              0.5555555555555556,
              "#d8576b"
             ],
             [
              0.6666666666666666,
              "#ed7953"
             ],
             [
              0.7777777777777778,
              "#fb9f3a"
             ],
             [
              0.8888888888888888,
              "#fdca26"
             ],
             [
              1,
              "#f0f921"
             ]
            ],
            "type": "contour"
           }
          ],
          "contourcarpet": [
           {
            "colorbar": {
             "outlinewidth": 0,
             "ticks": ""
            },
            "type": "contourcarpet"
           }
          ],
          "heatmap": [
           {
            "colorbar": {
             "outlinewidth": 0,
             "ticks": ""
            },
            "colorscale": [
             [
              0,
              "#0d0887"
             ],
             [
              0.1111111111111111,
              "#46039f"
             ],
             [
              0.2222222222222222,
              "#7201a8"
             ],
             [
              0.3333333333333333,
              "#9c179e"
             ],
             [
              0.4444444444444444,
              "#bd3786"
             ],
             [
              0.5555555555555556,
              "#d8576b"
             ],
             [
              0.6666666666666666,
              "#ed7953"
             ],
             [
              0.7777777777777778,
              "#fb9f3a"
             ],
             [
              0.8888888888888888,
              "#fdca26"
             ],
             [
              1,
              "#f0f921"
             ]
            ],
            "type": "heatmap"
           }
          ],
          "heatmapgl": [
           {
            "colorbar": {
             "outlinewidth": 0,
             "ticks": ""
            },
            "colorscale": [
             [
              0,
              "#0d0887"
             ],
             [
              0.1111111111111111,
              "#46039f"
             ],
             [
              0.2222222222222222,
              "#7201a8"
             ],
             [
              0.3333333333333333,
              "#9c179e"
             ],
             [
              0.4444444444444444,
              "#bd3786"
             ],
             [
              0.5555555555555556,
              "#d8576b"
             ],
             [
              0.6666666666666666,
              "#ed7953"
             ],
             [
              0.7777777777777778,
              "#fb9f3a"
             ],
             [
              0.8888888888888888,
              "#fdca26"
             ],
             [
              1,
              "#f0f921"
             ]
            ],
            "type": "heatmapgl"
           }
          ],
          "histogram": [
           {
            "marker": {
             "pattern": {
              "fillmode": "overlay",
              "size": 10,
              "solidity": 0.2
             }
            },
            "type": "histogram"
           }
          ],
          "histogram2d": [
           {
            "colorbar": {
             "outlinewidth": 0,
             "ticks": ""
            },
            "colorscale": [
             [
              0,
              "#0d0887"
             ],
             [
              0.1111111111111111,
              "#46039f"
             ],
             [
              0.2222222222222222,
              "#7201a8"
             ],
             [
              0.3333333333333333,
              "#9c179e"
             ],
             [
              0.4444444444444444,
              "#bd3786"
             ],
             [
              0.5555555555555556,
              "#d8576b"
             ],
             [
              0.6666666666666666,
              "#ed7953"
             ],
             [
              0.7777777777777778,
              "#fb9f3a"
             ],
             [
              0.8888888888888888,
              "#fdca26"
             ],
             [
              1,
              "#f0f921"
             ]
            ],
            "type": "histogram2d"
           }
          ],
          "histogram2dcontour": [
           {
            "colorbar": {
             "outlinewidth": 0,
             "ticks": ""
            },
            "colorscale": [
             [
              0,
              "#0d0887"
             ],
             [
              0.1111111111111111,
              "#46039f"
             ],
             [
              0.2222222222222222,
              "#7201a8"
             ],
             [
              0.3333333333333333,
              "#9c179e"
             ],
             [
              0.4444444444444444,
              "#bd3786"
             ],
             [
              0.5555555555555556,
              "#d8576b"
             ],
             [
              0.6666666666666666,
              "#ed7953"
             ],
             [
              0.7777777777777778,
              "#fb9f3a"
             ],
             [
              0.8888888888888888,
              "#fdca26"
             ],
             [
              1,
              "#f0f921"
             ]
            ],
            "type": "histogram2dcontour"
           }
          ],
          "mesh3d": [
           {
            "colorbar": {
             "outlinewidth": 0,
             "ticks": ""
            },
            "type": "mesh3d"
           }
          ],
          "parcoords": [
           {
            "line": {
             "colorbar": {
              "outlinewidth": 0,
              "ticks": ""
             }
            },
            "type": "parcoords"
           }
          ],
          "pie": [
           {
            "automargin": true,
            "type": "pie"
           }
          ],
          "scatter": [
           {
            "fillpattern": {
             "fillmode": "overlay",
             "size": 10,
             "solidity": 0.2
            },
            "type": "scatter"
           }
          ],
          "scatter3d": [
           {
            "line": {
             "colorbar": {
              "outlinewidth": 0,
              "ticks": ""
             }
            },
            "marker": {
             "colorbar": {
              "outlinewidth": 0,
              "ticks": ""
             }
            },
            "type": "scatter3d"
           }
          ],
          "scattercarpet": [
           {
            "marker": {
             "colorbar": {
              "outlinewidth": 0,
              "ticks": ""
             }
            },
            "type": "scattercarpet"
           }
          ],
          "scattergeo": [
           {
            "marker": {
             "colorbar": {
              "outlinewidth": 0,
              "ticks": ""
             }
            },
            "type": "scattergeo"
           }
          ],
          "scattergl": [
           {
            "marker": {
             "colorbar": {
              "outlinewidth": 0,
              "ticks": ""
             }
            },
            "type": "scattergl"
           }
          ],
          "scattermapbox": [
           {
            "marker": {
             "colorbar": {
              "outlinewidth": 0,
              "ticks": ""
             }
            },
            "type": "scattermapbox"
           }
          ],
          "scatterpolar": [
           {
            "marker": {
             "colorbar": {
              "outlinewidth": 0,
              "ticks": ""
             }
            },
            "type": "scatterpolar"
           }
          ],
          "scatterpolargl": [
           {
            "marker": {
             "colorbar": {
              "outlinewidth": 0,
              "ticks": ""
             }
            },
            "type": "scatterpolargl"
           }
          ],
          "scatterternary": [
           {
            "marker": {
             "colorbar": {
              "outlinewidth": 0,
              "ticks": ""
             }
            },
            "type": "scatterternary"
           }
          ],
          "surface": [
           {
            "colorbar": {
             "outlinewidth": 0,
             "ticks": ""
            },
            "colorscale": [
             [
              0,
              "#0d0887"
             ],
             [
              0.1111111111111111,
              "#46039f"
             ],
             [
              0.2222222222222222,
              "#7201a8"
             ],
             [
              0.3333333333333333,
              "#9c179e"
             ],
             [
              0.4444444444444444,
              "#bd3786"
             ],
             [
              0.5555555555555556,
              "#d8576b"
             ],
             [
              0.6666666666666666,
              "#ed7953"
             ],
             [
              0.7777777777777778,
              "#fb9f3a"
             ],
             [
              0.8888888888888888,
              "#fdca26"
             ],
             [
              1,
              "#f0f921"
             ]
            ],
            "type": "surface"
           }
          ],
          "table": [
           {
            "cells": {
             "fill": {
              "color": "#EBF0F8"
             },
             "line": {
              "color": "white"
             }
            },
            "header": {
             "fill": {
              "color": "#C8D4E3"
             },
             "line": {
              "color": "white"
             }
            },
            "type": "table"
           }
          ]
         },
         "layout": {
          "annotationdefaults": {
           "arrowcolor": "#2a3f5f",
           "arrowhead": 0,
           "arrowwidth": 1
          },
          "autotypenumbers": "strict",
          "coloraxis": {
           "colorbar": {
            "outlinewidth": 0,
            "ticks": ""
           }
          },
          "colorscale": {
           "diverging": [
            [
             0,
             "#8e0152"
            ],
            [
             0.1,
             "#c51b7d"
            ],
            [
             0.2,
             "#de77ae"
            ],
            [
             0.3,
             "#f1b6da"
            ],
            [
             0.4,
             "#fde0ef"
            ],
            [
             0.5,
             "#f7f7f7"
            ],
            [
             0.6,
             "#e6f5d0"
            ],
            [
             0.7,
             "#b8e186"
            ],
            [
             0.8,
             "#7fbc41"
            ],
            [
             0.9,
             "#4d9221"
            ],
            [
             1,
             "#276419"
            ]
           ],
           "sequential": [
            [
             0,
             "#0d0887"
            ],
            [
             0.1111111111111111,
             "#46039f"
            ],
            [
             0.2222222222222222,
             "#7201a8"
            ],
            [
             0.3333333333333333,
             "#9c179e"
            ],
            [
             0.4444444444444444,
             "#bd3786"
            ],
            [
             0.5555555555555556,
             "#d8576b"
            ],
            [
             0.6666666666666666,
             "#ed7953"
            ],
            [
             0.7777777777777778,
             "#fb9f3a"
            ],
            [
             0.8888888888888888,
             "#fdca26"
            ],
            [
             1,
             "#f0f921"
            ]
           ],
           "sequentialminus": [
            [
             0,
             "#0d0887"
            ],
            [
             0.1111111111111111,
             "#46039f"
            ],
            [
             0.2222222222222222,
             "#7201a8"
            ],
            [
             0.3333333333333333,
             "#9c179e"
            ],
            [
             0.4444444444444444,
             "#bd3786"
            ],
            [
             0.5555555555555556,
             "#d8576b"
            ],
            [
             0.6666666666666666,
             "#ed7953"
            ],
            [
             0.7777777777777778,
             "#fb9f3a"
            ],
            [
             0.8888888888888888,
             "#fdca26"
            ],
            [
             1,
             "#f0f921"
            ]
           ]
          },
          "colorway": [
           "#636efa",
           "#EF553B",
           "#00cc96",
           "#ab63fa",
           "#FFA15A",
           "#19d3f3",
           "#FF6692",
           "#B6E880",
           "#FF97FF",
           "#FECB52"
          ],
          "font": {
           "color": "#2a3f5f"
          },
          "geo": {
           "bgcolor": "white",
           "lakecolor": "white",
           "landcolor": "#E5ECF6",
           "showlakes": true,
           "showland": true,
           "subunitcolor": "white"
          },
          "hoverlabel": {
           "align": "left"
          },
          "hovermode": "closest",
          "mapbox": {
           "style": "light"
          },
          "paper_bgcolor": "white",
          "plot_bgcolor": "#E5ECF6",
          "polar": {
           "angularaxis": {
            "gridcolor": "white",
            "linecolor": "white",
            "ticks": ""
           },
           "bgcolor": "#E5ECF6",
           "radialaxis": {
            "gridcolor": "white",
            "linecolor": "white",
            "ticks": ""
           }
          },
          "scene": {
           "xaxis": {
            "backgroundcolor": "#E5ECF6",
            "gridcolor": "white",
            "gridwidth": 2,
            "linecolor": "white",
            "showbackground": true,
            "ticks": "",
            "zerolinecolor": "white"
           },
           "yaxis": {
            "backgroundcolor": "#E5ECF6",
            "gridcolor": "white",
            "gridwidth": 2,
            "linecolor": "white",
            "showbackground": true,
            "ticks": "",
            "zerolinecolor": "white"
           },
           "zaxis": {
            "backgroundcolor": "#E5ECF6",
            "gridcolor": "white",
            "gridwidth": 2,
            "linecolor": "white",
            "showbackground": true,
            "ticks": "",
            "zerolinecolor": "white"
           }
          },
          "shapedefaults": {
           "line": {
            "color": "#2a3f5f"
           }
          },
          "ternary": {
           "aaxis": {
            "gridcolor": "white",
            "linecolor": "white",
            "ticks": ""
           },
           "baxis": {
            "gridcolor": "white",
            "linecolor": "white",
            "ticks": ""
           },
           "bgcolor": "#E5ECF6",
           "caxis": {
            "gridcolor": "white",
            "linecolor": "white",
            "ticks": ""
           }
          },
          "title": {
           "x": 0.05
          },
          "xaxis": {
           "automargin": true,
           "gridcolor": "white",
           "linecolor": "white",
           "ticks": "",
           "title": {
            "standoff": 15
           },
           "zerolinecolor": "white",
           "zerolinewidth": 2
          },
          "yaxis": {
           "automargin": true,
           "gridcolor": "white",
           "linecolor": "white",
           "ticks": "",
           "title": {
            "standoff": 15
           },
           "zerolinecolor": "white",
           "zerolinewidth": 2
          }
         }
        },
        "width": 900,
        "xaxis": {
         "anchor": "y",
         "domain": [
          0,
          0.98
         ],
         "dtick": 1,
         "range": [
          1982,
          2021
         ],
         "title": {
          "text": ""
         }
        },
        "xaxis2": {
         "anchor": "y2",
         "domain": [
          0,
          0.98
         ],
         "dtick": 1,
         "matches": "x",
         "showticklabels": false
        },
        "xaxis3": {
         "anchor": "y3",
         "domain": [
          0,
          0.98
         ],
         "dtick": 1,
         "matches": "x",
         "showticklabels": false
        },
        "yaxis": {
         "anchor": "x",
         "domain": [
          0,
          0.32666666666666666
         ],
         "title": {
          "text": "Yield (mt/ha)"
         }
        },
        "yaxis2": {
         "anchor": "x2",
         "domain": [
          0.33666666666666667,
          0.6633333333333333
         ],
         "title": {
          "text": "Area (ha)"
         }
        },
        "yaxis3": {
         "anchor": "x3",
         "domain": [
          0.6733333333333333,
          1
         ],
         "title": {
          "text": "Production (mt)"
         }
        }
       }
      }
     },
     "metadata": {},
     "output_type": "display_data"
    }
   ],
   "source": [
    "# Lineplot of Production-Area-Yield time-series\n",
    "country_iso, country_name = 'ML', 'Mali'\n",
    "df = pd.read_csv('../data/crop/adm_crop_production_%s.csv' % country_iso, index_col=0)\n",
    "df['year'] = df['harvest_year']\n",
    "product_season = [\n",
    "    ['Maize','Main'],\n",
    "    ['Millet','Main'],\n",
    "    ['Rice','Main'],\n",
    "    ['Sorghum','Main'],\n",
    "]\n",
    "for product_name, season_name in product_season:\n",
    "    footnote = 'Production-Area-Yield time-series of %s - %s - %s' % (country_iso, product_name, season_name)\n",
    "    fn_save = '../figures/%s_line_pay_%s_%s.png' % (country_iso, product_name, season_name)\n",
    "    sub = df[(df['product'] == product_name) & (df['season_name'] == season_name)]\n",
    "    fig = PlotLinePAY(sub, year, footnote, fn_save)\n",
    "    fig.show()"
   ]
  }
 ],
 "metadata": {
  "kernelspec": {
   "display_name": "Python 3 (ipykernel)",
   "language": "python",
   "name": "python3"
  },
  "language_info": {
   "codemirror_mode": {
    "name": "ipython",
    "version": 3
   },
   "file_extension": ".py",
   "mimetype": "text/x-python",
   "name": "python",
   "nbconvert_exporter": "python",
   "pygments_lexer": "ipython3",
   "version": "3.10.10"
  }
 },
 "nbformat": 4,
 "nbformat_minor": 5
}
