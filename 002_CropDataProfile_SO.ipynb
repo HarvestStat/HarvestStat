{
 "cells": [
  {
   "cell_type": "markdown",
   "id": "806456d9-3cf8-40e4-9962-3899d3dc8930",
   "metadata": {},
   "source": [
    "## FDW Crop Production Data Profiling - Somalia"
   ]
  },
  {
   "cell_type": "code",
   "execution_count": 6,
   "id": "423b4763-5783-4282-ba84-d8ae8ba04fb5",
   "metadata": {},
   "outputs": [],
   "source": [
    "import os, sys, glob, json\n",
    "from itertools import product, compress, chain\n",
    "from functools import reduce\n",
    "import warnings\n",
    "warnings.simplefilter(action='ignore', category=FutureWarning)\n",
    "import requests\n",
    "import numpy as np\n",
    "import pandas as pd\n",
    "import geopandas as gpd\n",
    "from tools import save_hdf, save_npz, load_npz, PrintAdminUnits, PlotAdminShapes\n",
    "from tools import FDW_PD_Sweeper, FDW_PD_AvalTable, FDW_PD_Compiling, FDW_PD_GrainTypeAgg, FDW_PD_ValidateFnidName\n",
    "from tools import FDW_PD_CreateAdminLink, FDW_PD_RatioAdminLink, FDW_PD_ConnectAdminLink\n",
    "from tools_graphic import PlotBarProduction, PlotLinePAY, PlotHeatCropSystem, PlotHeatSeasonData\n",
    "import plotly.express as px\n",
    "import plotly.graph_objects as go\n",
    "from plotly.subplots import make_subplots\n",
    "warnings.simplefilter(action='ignore', category=pd.errors.PerformanceWarning)\n",
    "pd.options.mode.chained_assignment = None"
   ]
  },
  {
   "cell_type": "markdown",
   "id": "aa0e1674",
   "metadata": {},
   "source": [
    "## Status\n",
    "Currently exploring the functions written by Donghoon using local data. Decide whether to restructure local files depending on how we will collaborate"
   ]
  },
  {
   "cell_type": "code",
   "execution_count": 15,
   "id": "ee0aff66-ec30-4592-8f88-1f9dc4704a9d",
   "metadata": {},
   "outputs": [
    {
     "name": "stderr",
     "output_type": "stream",
     "text": [
      "/Users/wanders7/opt/anaconda3/lib/python3.8/site-packages/IPython/core/interactiveshell.py:3165: DtypeWarning: Columns (6,7,9,10,33) have mixed types.Specify dtype option on import or set low_memory=False.\n",
      "  has_raised = await self.run_ast_nodes(code_ast.body, cell_name,\n"
     ]
    },
    {
     "name": "stdout",
     "output_type": "stream",
     "text": [
      "- Remove missing records ---------------------- #\n",
      "Orignial data points: 21,099\n",
      "Removed 214 \"Missing Historic Data\" points\n",
      "Removed 3,215 \"Not Collected\" points\n",
      "5,065/5,275 \"Area Harvested\" points are retained.\n",
      "2,636/5,274 \"Area Planted\" points are retained.\n",
      "5,011/5,275 \"Quantity Produced\" points are retained.\n",
      "4,958/5,275 \"Yield\" points are retained.\n",
      "Current data points: 17,670\n",
      "\n"
     ]
    },
    {
     "ename": "KeyError",
     "evalue": "'locality_name'",
     "output_type": "error",
     "traceback": [
      "\u001b[0;31m---------------------------------------------------------------------------\u001b[0m",
      "\u001b[0;31mKeyError\u001b[0m                                  Traceback (most recent call last)",
      "\u001b[0;32m~/opt/anaconda3/lib/python3.8/site-packages/pandas/core/indexes/base.py\u001b[0m in \u001b[0;36mget_loc\u001b[0;34m(self, key, method, tolerance)\u001b[0m\n\u001b[1;32m   3079\u001b[0m             \u001b[0;32mtry\u001b[0m\u001b[0;34m:\u001b[0m\u001b[0;34m\u001b[0m\u001b[0;34m\u001b[0m\u001b[0m\n\u001b[0;32m-> 3080\u001b[0;31m                 \u001b[0;32mreturn\u001b[0m \u001b[0mself\u001b[0m\u001b[0;34m.\u001b[0m\u001b[0m_engine\u001b[0m\u001b[0;34m.\u001b[0m\u001b[0mget_loc\u001b[0m\u001b[0;34m(\u001b[0m\u001b[0mcasted_key\u001b[0m\u001b[0;34m)\u001b[0m\u001b[0;34m\u001b[0m\u001b[0;34m\u001b[0m\u001b[0m\n\u001b[0m\u001b[1;32m   3081\u001b[0m             \u001b[0;32mexcept\u001b[0m \u001b[0mKeyError\u001b[0m \u001b[0;32mas\u001b[0m \u001b[0merr\u001b[0m\u001b[0;34m:\u001b[0m\u001b[0;34m\u001b[0m\u001b[0;34m\u001b[0m\u001b[0m\n",
      "\u001b[0;32mpandas/_libs/index.pyx\u001b[0m in \u001b[0;36mpandas._libs.index.IndexEngine.get_loc\u001b[0;34m()\u001b[0m\n",
      "\u001b[0;32mpandas/_libs/index.pyx\u001b[0m in \u001b[0;36mpandas._libs.index.IndexEngine.get_loc\u001b[0;34m()\u001b[0m\n",
      "\u001b[0;32mpandas/_libs/hashtable_class_helper.pxi\u001b[0m in \u001b[0;36mpandas._libs.hashtable.PyObjectHashTable.get_item\u001b[0;34m()\u001b[0m\n",
      "\u001b[0;32mpandas/_libs/hashtable_class_helper.pxi\u001b[0m in \u001b[0;36mpandas._libs.hashtable.PyObjectHashTable.get_item\u001b[0;34m()\u001b[0m\n",
      "\u001b[0;31mKeyError\u001b[0m: 'locality_name'",
      "\nThe above exception was the direct cause of the following exception:\n",
      "\u001b[0;31mKeyError\u001b[0m                                  Traceback (most recent call last)",
      "\u001b[0;32m<ipython-input-15-ff5aeff92c16>\u001b[0m in \u001b[0;36m<module>\u001b[0;34m\u001b[0m\n\u001b[1;32m     58\u001b[0m \u001b[0;34m\u001b[0m\u001b[0m\n\u001b[1;32m     59\u001b[0m \u001b[0;31m# FDW Production Data Inspection ---------------- #\u001b[0m\u001b[0;34m\u001b[0m\u001b[0;34m\u001b[0m\u001b[0;34m\u001b[0m\u001b[0m\n\u001b[0;32m---> 60\u001b[0;31m \u001b[0mdf\u001b[0m\u001b[0;34m,\u001b[0m \u001b[0mdf_raw\u001b[0m \u001b[0;34m=\u001b[0m \u001b[0mFDW_PD_Sweeper\u001b[0m\u001b[0;34m(\u001b[0m\u001b[0mdf\u001b[0m\u001b[0;34m)\u001b[0m\u001b[0;34m\u001b[0m\u001b[0;34m\u001b[0m\u001b[0m\n\u001b[0m\u001b[1;32m     61\u001b[0m \u001b[0mtable_dict\u001b[0m \u001b[0;34m=\u001b[0m \u001b[0mFDW_PD_AvalTable\u001b[0m\u001b[0;34m(\u001b[0m\u001b[0mdf\u001b[0m\u001b[0;34m,\u001b[0m \u001b[0mshape_all\u001b[0m\u001b[0;34m)\u001b[0m\u001b[0;34m\u001b[0m\u001b[0;34m\u001b[0m\u001b[0m\n\u001b[1;32m     62\u001b[0m \u001b[0;31m# ----------------------------------------------- #\u001b[0m\u001b[0;34m\u001b[0m\u001b[0;34m\u001b[0m\u001b[0;34m\u001b[0m\u001b[0m\n",
      "\u001b[0;32m~/Documents/Code/Project/NASA_GSCD/gscd/tools.py\u001b[0m in \u001b[0;36mFDW_PD_Sweeper\u001b[0;34m(df)\u001b[0m\n\u001b[1;32m    412\u001b[0m     \u001b[0;31m# (Manual) Add names to reporting units\u001b[0m\u001b[0;34m\u001b[0m\u001b[0;34m\u001b[0m\u001b[0;34m\u001b[0m\u001b[0m\n\u001b[1;32m    413\u001b[0m     \u001b[0mreporting_unit\u001b[0m \u001b[0;34m=\u001b[0m \u001b[0mdf\u001b[0m\u001b[0;34m.\u001b[0m\u001b[0mloc\u001b[0m\u001b[0;34m[\u001b[0m\u001b[0mdf\u001b[0m\u001b[0;34m[\u001b[0m\u001b[0;34m'fnid'\u001b[0m\u001b[0;34m]\u001b[0m\u001b[0;34m.\u001b[0m\u001b[0mmap\u001b[0m\u001b[0;34m(\u001b[0m\u001b[0;32mlambda\u001b[0m \u001b[0mx\u001b[0m\u001b[0;34m:\u001b[0m \u001b[0mx\u001b[0m\u001b[0;34m[\u001b[0m\u001b[0;36m6\u001b[0m\u001b[0;34m]\u001b[0m \u001b[0;34m!=\u001b[0m \u001b[0;34m'A'\u001b[0m\u001b[0;34m)\u001b[0m\u001b[0;34m,\u001b[0m \u001b[0;34m'fnid'\u001b[0m\u001b[0;34m]\u001b[0m\u001b[0;34m.\u001b[0m\u001b[0munique\u001b[0m\u001b[0;34m(\u001b[0m\u001b[0;34m)\u001b[0m\u001b[0;34m\u001b[0m\u001b[0;34m\u001b[0m\u001b[0m\n\u001b[0;32m--> 414\u001b[0;31m     \u001b[0mdf\u001b[0m\u001b[0;34m.\u001b[0m\u001b[0mloc\u001b[0m\u001b[0;34m[\u001b[0m\u001b[0mdf\u001b[0m\u001b[0;34m.\u001b[0m\u001b[0mfnid\u001b[0m\u001b[0;34m.\u001b[0m\u001b[0misin\u001b[0m\u001b[0;34m(\u001b[0m\u001b[0mreporting_unit\u001b[0m\u001b[0;34m)\u001b[0m\u001b[0;34m,\u001b[0m\u001b[0;34m'name'\u001b[0m\u001b[0;34m]\u001b[0m \u001b[0;34m=\u001b[0m \u001b[0mdf\u001b[0m\u001b[0;34m.\u001b[0m\u001b[0mloc\u001b[0m\u001b[0;34m[\u001b[0m\u001b[0mdf\u001b[0m\u001b[0;34m.\u001b[0m\u001b[0mfnid\u001b[0m\u001b[0;34m.\u001b[0m\u001b[0misin\u001b[0m\u001b[0;34m(\u001b[0m\u001b[0mreporting_unit\u001b[0m\u001b[0;34m)\u001b[0m\u001b[0;34m,\u001b[0m \u001b[0;34m'locality_name'\u001b[0m\u001b[0;34m]\u001b[0m\u001b[0;34m.\u001b[0m\u001b[0mmap\u001b[0m\u001b[0;34m(\u001b[0m\u001b[0;32mlambda\u001b[0m \u001b[0mx\u001b[0m\u001b[0;34m:\u001b[0m \u001b[0mx\u001b[0m\u001b[0;34m.\u001b[0m\u001b[0msplit\u001b[0m\u001b[0;34m(\u001b[0m\u001b[0;34m' '\u001b[0m\u001b[0;34m)\u001b[0m\u001b[0;34m[\u001b[0m\u001b[0;36m0\u001b[0m\u001b[0;34m]\u001b[0m\u001b[0;34m)\u001b[0m\u001b[0;34m\u001b[0m\u001b[0;34m\u001b[0m\u001b[0m\n\u001b[0m\u001b[1;32m    415\u001b[0m     \u001b[0;32massert\u001b[0m \u001b[0mdf\u001b[0m\u001b[0;34m[\u001b[0m\u001b[0;34m'name'\u001b[0m\u001b[0;34m]\u001b[0m\u001b[0;34m.\u001b[0m\u001b[0misna\u001b[0m\u001b[0;34m(\u001b[0m\u001b[0;34m)\u001b[0m\u001b[0;34m.\u001b[0m\u001b[0msum\u001b[0m\u001b[0;34m(\u001b[0m\u001b[0;34m)\u001b[0m \u001b[0;34m==\u001b[0m \u001b[0;36m0\u001b[0m\u001b[0;34m\u001b[0m\u001b[0;34m\u001b[0m\u001b[0m\n\u001b[1;32m    416\u001b[0m     \u001b[0mprint\u001b[0m\u001b[0;34m(\u001b[0m\u001b[0;34m'- Minor changes are applied.. ----------------- #'\u001b[0m\u001b[0;34m)\u001b[0m\u001b[0;34m\u001b[0m\u001b[0;34m\u001b[0m\u001b[0m\n",
      "\u001b[0;32m~/opt/anaconda3/lib/python3.8/site-packages/pandas/core/indexing.py\u001b[0m in \u001b[0;36m__getitem__\u001b[0;34m(self, key)\u001b[0m\n\u001b[1;32m    887\u001b[0m                     \u001b[0;31m# AttributeError for IntervalTree get_value\u001b[0m\u001b[0;34m\u001b[0m\u001b[0;34m\u001b[0m\u001b[0;34m\u001b[0m\u001b[0m\n\u001b[1;32m    888\u001b[0m                     \u001b[0;32mreturn\u001b[0m \u001b[0mself\u001b[0m\u001b[0;34m.\u001b[0m\u001b[0mobj\u001b[0m\u001b[0;34m.\u001b[0m\u001b[0m_get_value\u001b[0m\u001b[0;34m(\u001b[0m\u001b[0;34m*\u001b[0m\u001b[0mkey\u001b[0m\u001b[0;34m,\u001b[0m \u001b[0mtakeable\u001b[0m\u001b[0;34m=\u001b[0m\u001b[0mself\u001b[0m\u001b[0;34m.\u001b[0m\u001b[0m_takeable\u001b[0m\u001b[0;34m)\u001b[0m\u001b[0;34m\u001b[0m\u001b[0;34m\u001b[0m\u001b[0m\n\u001b[0;32m--> 889\u001b[0;31m             \u001b[0;32mreturn\u001b[0m \u001b[0mself\u001b[0m\u001b[0;34m.\u001b[0m\u001b[0m_getitem_tuple\u001b[0m\u001b[0;34m(\u001b[0m\u001b[0mkey\u001b[0m\u001b[0;34m)\u001b[0m\u001b[0;34m\u001b[0m\u001b[0;34m\u001b[0m\u001b[0m\n\u001b[0m\u001b[1;32m    890\u001b[0m         \u001b[0;32melse\u001b[0m\u001b[0;34m:\u001b[0m\u001b[0;34m\u001b[0m\u001b[0;34m\u001b[0m\u001b[0m\n\u001b[1;32m    891\u001b[0m             \u001b[0;31m# we by definition only have the 0th axis\u001b[0m\u001b[0;34m\u001b[0m\u001b[0;34m\u001b[0m\u001b[0;34m\u001b[0m\u001b[0m\n",
      "\u001b[0;32m~/opt/anaconda3/lib/python3.8/site-packages/pandas/core/indexing.py\u001b[0m in \u001b[0;36m_getitem_tuple\u001b[0;34m(self, tup)\u001b[0m\n\u001b[1;32m   1058\u001b[0m     \u001b[0;32mdef\u001b[0m \u001b[0m_getitem_tuple\u001b[0m\u001b[0;34m(\u001b[0m\u001b[0mself\u001b[0m\u001b[0;34m,\u001b[0m \u001b[0mtup\u001b[0m\u001b[0;34m:\u001b[0m \u001b[0mTuple\u001b[0m\u001b[0;34m)\u001b[0m\u001b[0;34m:\u001b[0m\u001b[0;34m\u001b[0m\u001b[0;34m\u001b[0m\u001b[0m\n\u001b[1;32m   1059\u001b[0m         \u001b[0;32mwith\u001b[0m \u001b[0msuppress\u001b[0m\u001b[0;34m(\u001b[0m\u001b[0mIndexingError\u001b[0m\u001b[0;34m)\u001b[0m\u001b[0;34m:\u001b[0m\u001b[0;34m\u001b[0m\u001b[0;34m\u001b[0m\u001b[0m\n\u001b[0;32m-> 1060\u001b[0;31m             \u001b[0;32mreturn\u001b[0m \u001b[0mself\u001b[0m\u001b[0;34m.\u001b[0m\u001b[0m_getitem_lowerdim\u001b[0m\u001b[0;34m(\u001b[0m\u001b[0mtup\u001b[0m\u001b[0;34m)\u001b[0m\u001b[0;34m\u001b[0m\u001b[0;34m\u001b[0m\u001b[0m\n\u001b[0m\u001b[1;32m   1061\u001b[0m \u001b[0;34m\u001b[0m\u001b[0m\n\u001b[1;32m   1062\u001b[0m         \u001b[0;31m# no multi-index, so validate all of the indexers\u001b[0m\u001b[0;34m\u001b[0m\u001b[0;34m\u001b[0m\u001b[0;34m\u001b[0m\u001b[0m\n",
      "\u001b[0;32m~/opt/anaconda3/lib/python3.8/site-packages/pandas/core/indexing.py\u001b[0m in \u001b[0;36m_getitem_lowerdim\u001b[0;34m(self, tup)\u001b[0m\n\u001b[1;32m    805\u001b[0m                 \u001b[0;31m# We don't need to check for tuples here because those are\u001b[0m\u001b[0;34m\u001b[0m\u001b[0;34m\u001b[0m\u001b[0;34m\u001b[0m\u001b[0m\n\u001b[1;32m    806\u001b[0m                 \u001b[0;31m#  caught by the _is_nested_tuple_indexer check above.\u001b[0m\u001b[0;34m\u001b[0m\u001b[0;34m\u001b[0m\u001b[0;34m\u001b[0m\u001b[0m\n\u001b[0;32m--> 807\u001b[0;31m                 \u001b[0msection\u001b[0m \u001b[0;34m=\u001b[0m \u001b[0mself\u001b[0m\u001b[0;34m.\u001b[0m\u001b[0m_getitem_axis\u001b[0m\u001b[0;34m(\u001b[0m\u001b[0mkey\u001b[0m\u001b[0;34m,\u001b[0m \u001b[0maxis\u001b[0m\u001b[0;34m=\u001b[0m\u001b[0mi\u001b[0m\u001b[0;34m)\u001b[0m\u001b[0;34m\u001b[0m\u001b[0;34m\u001b[0m\u001b[0m\n\u001b[0m\u001b[1;32m    808\u001b[0m \u001b[0;34m\u001b[0m\u001b[0m\n\u001b[1;32m    809\u001b[0m                 \u001b[0;31m# We should never have a scalar section here, because\u001b[0m\u001b[0;34m\u001b[0m\u001b[0;34m\u001b[0m\u001b[0;34m\u001b[0m\u001b[0m\n",
      "\u001b[0;32m~/opt/anaconda3/lib/python3.8/site-packages/pandas/core/indexing.py\u001b[0m in \u001b[0;36m_getitem_axis\u001b[0;34m(self, key, axis)\u001b[0m\n\u001b[1;32m   1122\u001b[0m         \u001b[0;31m# fall thru to straight lookup\u001b[0m\u001b[0;34m\u001b[0m\u001b[0;34m\u001b[0m\u001b[0;34m\u001b[0m\u001b[0m\n\u001b[1;32m   1123\u001b[0m         \u001b[0mself\u001b[0m\u001b[0;34m.\u001b[0m\u001b[0m_validate_key\u001b[0m\u001b[0;34m(\u001b[0m\u001b[0mkey\u001b[0m\u001b[0;34m,\u001b[0m \u001b[0maxis\u001b[0m\u001b[0;34m)\u001b[0m\u001b[0;34m\u001b[0m\u001b[0;34m\u001b[0m\u001b[0m\n\u001b[0;32m-> 1124\u001b[0;31m         \u001b[0;32mreturn\u001b[0m \u001b[0mself\u001b[0m\u001b[0;34m.\u001b[0m\u001b[0m_get_label\u001b[0m\u001b[0;34m(\u001b[0m\u001b[0mkey\u001b[0m\u001b[0;34m,\u001b[0m \u001b[0maxis\u001b[0m\u001b[0;34m=\u001b[0m\u001b[0maxis\u001b[0m\u001b[0;34m)\u001b[0m\u001b[0;34m\u001b[0m\u001b[0;34m\u001b[0m\u001b[0m\n\u001b[0m\u001b[1;32m   1125\u001b[0m \u001b[0;34m\u001b[0m\u001b[0m\n\u001b[1;32m   1126\u001b[0m     \u001b[0;32mdef\u001b[0m \u001b[0m_get_slice_axis\u001b[0m\u001b[0;34m(\u001b[0m\u001b[0mself\u001b[0m\u001b[0;34m,\u001b[0m \u001b[0mslice_obj\u001b[0m\u001b[0;34m:\u001b[0m \u001b[0mslice\u001b[0m\u001b[0;34m,\u001b[0m \u001b[0maxis\u001b[0m\u001b[0;34m:\u001b[0m \u001b[0mint\u001b[0m\u001b[0;34m)\u001b[0m\u001b[0;34m:\u001b[0m\u001b[0;34m\u001b[0m\u001b[0;34m\u001b[0m\u001b[0m\n",
      "\u001b[0;32m~/opt/anaconda3/lib/python3.8/site-packages/pandas/core/indexing.py\u001b[0m in \u001b[0;36m_get_label\u001b[0;34m(self, label, axis)\u001b[0m\n\u001b[1;32m   1071\u001b[0m     \u001b[0;32mdef\u001b[0m \u001b[0m_get_label\u001b[0m\u001b[0;34m(\u001b[0m\u001b[0mself\u001b[0m\u001b[0;34m,\u001b[0m \u001b[0mlabel\u001b[0m\u001b[0;34m,\u001b[0m \u001b[0maxis\u001b[0m\u001b[0;34m:\u001b[0m \u001b[0mint\u001b[0m\u001b[0;34m)\u001b[0m\u001b[0;34m:\u001b[0m\u001b[0;34m\u001b[0m\u001b[0;34m\u001b[0m\u001b[0m\n\u001b[1;32m   1072\u001b[0m         \u001b[0;31m# GH#5667 this will fail if the label is not present in the axis.\u001b[0m\u001b[0;34m\u001b[0m\u001b[0;34m\u001b[0m\u001b[0;34m\u001b[0m\u001b[0m\n\u001b[0;32m-> 1073\u001b[0;31m         \u001b[0;32mreturn\u001b[0m \u001b[0mself\u001b[0m\u001b[0;34m.\u001b[0m\u001b[0mobj\u001b[0m\u001b[0;34m.\u001b[0m\u001b[0mxs\u001b[0m\u001b[0;34m(\u001b[0m\u001b[0mlabel\u001b[0m\u001b[0;34m,\u001b[0m \u001b[0maxis\u001b[0m\u001b[0;34m=\u001b[0m\u001b[0maxis\u001b[0m\u001b[0;34m)\u001b[0m\u001b[0;34m\u001b[0m\u001b[0;34m\u001b[0m\u001b[0m\n\u001b[0m\u001b[1;32m   1074\u001b[0m \u001b[0;34m\u001b[0m\u001b[0m\n\u001b[1;32m   1075\u001b[0m     \u001b[0;32mdef\u001b[0m \u001b[0m_handle_lowerdim_multi_index_axis0\u001b[0m\u001b[0;34m(\u001b[0m\u001b[0mself\u001b[0m\u001b[0;34m,\u001b[0m \u001b[0mtup\u001b[0m\u001b[0;34m:\u001b[0m \u001b[0mTuple\u001b[0m\u001b[0;34m)\u001b[0m\u001b[0;34m:\u001b[0m\u001b[0;34m\u001b[0m\u001b[0;34m\u001b[0m\u001b[0m\n",
      "\u001b[0;32m~/opt/anaconda3/lib/python3.8/site-packages/pandas/core/generic.py\u001b[0m in \u001b[0;36mxs\u001b[0;34m(self, key, axis, level, drop_level)\u001b[0m\n\u001b[1;32m   3722\u001b[0m         \u001b[0;32mif\u001b[0m \u001b[0maxis\u001b[0m \u001b[0;34m==\u001b[0m \u001b[0;36m1\u001b[0m\u001b[0;34m:\u001b[0m\u001b[0;34m\u001b[0m\u001b[0;34m\u001b[0m\u001b[0m\n\u001b[1;32m   3723\u001b[0m             \u001b[0;32mif\u001b[0m \u001b[0mdrop_level\u001b[0m\u001b[0;34m:\u001b[0m\u001b[0;34m\u001b[0m\u001b[0;34m\u001b[0m\u001b[0m\n\u001b[0;32m-> 3724\u001b[0;31m                 \u001b[0;32mreturn\u001b[0m \u001b[0mself\u001b[0m\u001b[0;34m[\u001b[0m\u001b[0mkey\u001b[0m\u001b[0;34m]\u001b[0m\u001b[0;34m\u001b[0m\u001b[0;34m\u001b[0m\u001b[0m\n\u001b[0m\u001b[1;32m   3725\u001b[0m             \u001b[0mindex\u001b[0m \u001b[0;34m=\u001b[0m \u001b[0mself\u001b[0m\u001b[0;34m.\u001b[0m\u001b[0mcolumns\u001b[0m\u001b[0;34m\u001b[0m\u001b[0;34m\u001b[0m\u001b[0m\n\u001b[1;32m   3726\u001b[0m         \u001b[0;32melse\u001b[0m\u001b[0;34m:\u001b[0m\u001b[0;34m\u001b[0m\u001b[0;34m\u001b[0m\u001b[0m\n",
      "\u001b[0;32m~/opt/anaconda3/lib/python3.8/site-packages/pandas/core/frame.py\u001b[0m in \u001b[0;36m__getitem__\u001b[0;34m(self, key)\u001b[0m\n\u001b[1;32m   3022\u001b[0m             \u001b[0;32mif\u001b[0m \u001b[0mself\u001b[0m\u001b[0;34m.\u001b[0m\u001b[0mcolumns\u001b[0m\u001b[0;34m.\u001b[0m\u001b[0mnlevels\u001b[0m \u001b[0;34m>\u001b[0m \u001b[0;36m1\u001b[0m\u001b[0;34m:\u001b[0m\u001b[0;34m\u001b[0m\u001b[0;34m\u001b[0m\u001b[0m\n\u001b[1;32m   3023\u001b[0m                 \u001b[0;32mreturn\u001b[0m \u001b[0mself\u001b[0m\u001b[0;34m.\u001b[0m\u001b[0m_getitem_multilevel\u001b[0m\u001b[0;34m(\u001b[0m\u001b[0mkey\u001b[0m\u001b[0;34m)\u001b[0m\u001b[0;34m\u001b[0m\u001b[0;34m\u001b[0m\u001b[0m\n\u001b[0;32m-> 3024\u001b[0;31m             \u001b[0mindexer\u001b[0m \u001b[0;34m=\u001b[0m \u001b[0mself\u001b[0m\u001b[0;34m.\u001b[0m\u001b[0mcolumns\u001b[0m\u001b[0;34m.\u001b[0m\u001b[0mget_loc\u001b[0m\u001b[0;34m(\u001b[0m\u001b[0mkey\u001b[0m\u001b[0;34m)\u001b[0m\u001b[0;34m\u001b[0m\u001b[0;34m\u001b[0m\u001b[0m\n\u001b[0m\u001b[1;32m   3025\u001b[0m             \u001b[0;32mif\u001b[0m \u001b[0mis_integer\u001b[0m\u001b[0;34m(\u001b[0m\u001b[0mindexer\u001b[0m\u001b[0;34m)\u001b[0m\u001b[0;34m:\u001b[0m\u001b[0;34m\u001b[0m\u001b[0;34m\u001b[0m\u001b[0m\n\u001b[1;32m   3026\u001b[0m                 \u001b[0mindexer\u001b[0m \u001b[0;34m=\u001b[0m \u001b[0;34m[\u001b[0m\u001b[0mindexer\u001b[0m\u001b[0;34m]\u001b[0m\u001b[0;34m\u001b[0m\u001b[0;34m\u001b[0m\u001b[0m\n",
      "\u001b[0;32m~/opt/anaconda3/lib/python3.8/site-packages/pandas/core/indexes/base.py\u001b[0m in \u001b[0;36mget_loc\u001b[0;34m(self, key, method, tolerance)\u001b[0m\n\u001b[1;32m   3080\u001b[0m                 \u001b[0;32mreturn\u001b[0m \u001b[0mself\u001b[0m\u001b[0;34m.\u001b[0m\u001b[0m_engine\u001b[0m\u001b[0;34m.\u001b[0m\u001b[0mget_loc\u001b[0m\u001b[0;34m(\u001b[0m\u001b[0mcasted_key\u001b[0m\u001b[0;34m)\u001b[0m\u001b[0;34m\u001b[0m\u001b[0;34m\u001b[0m\u001b[0m\n\u001b[1;32m   3081\u001b[0m             \u001b[0;32mexcept\u001b[0m \u001b[0mKeyError\u001b[0m \u001b[0;32mas\u001b[0m \u001b[0merr\u001b[0m\u001b[0;34m:\u001b[0m\u001b[0;34m\u001b[0m\u001b[0;34m\u001b[0m\u001b[0m\n\u001b[0;32m-> 3082\u001b[0;31m                 \u001b[0;32mraise\u001b[0m \u001b[0mKeyError\u001b[0m\u001b[0;34m(\u001b[0m\u001b[0mkey\u001b[0m\u001b[0;34m)\u001b[0m \u001b[0;32mfrom\u001b[0m \u001b[0merr\u001b[0m\u001b[0;34m\u001b[0m\u001b[0;34m\u001b[0m\u001b[0m\n\u001b[0m\u001b[1;32m   3083\u001b[0m \u001b[0;34m\u001b[0m\u001b[0m\n\u001b[1;32m   3084\u001b[0m         \u001b[0;32mif\u001b[0m \u001b[0mtolerance\u001b[0m \u001b[0;32mis\u001b[0m \u001b[0;32mnot\u001b[0m \u001b[0;32mNone\u001b[0m\u001b[0;34m:\u001b[0m\u001b[0;34m\u001b[0m\u001b[0;34m\u001b[0m\u001b[0m\n",
      "\u001b[0;31mKeyError\u001b[0m: 'locality_name'"
     ]
    }
   ],
   "source": [
    "# CPCV2 grain code ------------------------------ #\n",
    "grain_code = pd.read_hdf('./data/crop/grain_cpcv2_code.hdf')\n",
    "product_category = grain_code[['product', 'product_category']].set_index('product').to_dict()['product_category']\n",
    "# ----------------------------------------------- #\n",
    "\n",
    "# Load FEWS NET administrative boundaries ------- #\n",
    "epsg = 'epsg:32639' # Somalia\n",
    "fn_shapes = sorted(glob.glob('./data/shapefile/fewsnet/SO_Admin?_????.shp'))\n",
    "shape_all = []\n",
    "for fn in fn_shapes:\n",
    "    name = fn[-18:-4]\n",
    "    exec('%s = gpd.read_file(\"%s\").to_crs(\"%s\")' % (name, fn, epsg))\n",
    "    exec('%s[\"area\"] = %s[\"geometry\"].area/10**6' % (name, name))\n",
    "    exec('shape_all.append(%s)' % (name))\n",
    "shape_all = pd.concat(shape_all, axis=0).reset_index(drop=True)\n",
    "PrintAdminUnits(shape_all)\n",
    "# ----------------------------------------------- #\n",
    "\"\"\"\n",
    "# FDW API host address -------------------------- #\n",
    "host = 'https://fdw.fews.net'\n",
    "auth = tuple(json.loads(open('token.json', \"r\").read()))\n",
    "parameters = {\n",
    "    'format': 'json',\n",
    "    'country': 'Somalia',\n",
    "    'product': 'R011',\n",
    "    'survey_type': 'crop:best'\n",
    "}\n",
    "endpoint = '/api/cropproductionindicatorvalue/'\n",
    "response = requests.get(host + endpoint, auth=auth, params=parameters, proxies={})\n",
    "response.raise_for_status()\n",
    "df = pd.DataFrame.from_records(response.json())\n",
    "df_origin = df.copy()\n",
    "# ----------------------------------------------- #\n",
    "\"\"\"\n",
    "df = pd.read_csv('/Volumes/Svalbard/LargeDatasets/FEWS_Data_Warehouse/Crop_production/FDW/allCrops_SSH_Africa.csv')\n",
    "df = df[df['country']=='Somalia']\n",
    "\n",
    "# Manual Pre-processing before Sweeping --------- #\n",
    "# 1. Default setting \n",
    "# a) None-type population group\n",
    "df.loc[df['population_group'].isna(), 'population_group'] = 'none'\n",
    "df.loc[df['population_group'] == '', 'population_group'] = 'none'\n",
    "# 2. Manual setting\n",
    "# a) Add names to reporting units \n",
    "#reporting_unit = df.loc[df['fnid'].map(lambda x: x[6] != 'A'), 'fnid'].unique()\n",
    "#df.loc[df.fnid.isin(reporting_unit),'name'] = df.loc[df.fnid.isin(reporting_unit), 'locality_name'].map(lambda x: x.split(' ')[0])\n",
    "# b) Delay one year of Deyr season data \n",
    "# This is an ongoing discussion. Currently we, suspect that the Deyr season data is not year off.\n",
    "# For example, the 2019-02-01 data corresponds to 2020-02-01 data.\n",
    "idx_deyr = df['season_name'] == 'Deyr'\n",
    "delayed = pd.to_datetime(df.loc[idx_deyr, 'season_date']) + pd.offsets.DateOffset(years=1)\n",
    "df.loc[idx_deyr, 'season_date'] = delayed.dt.strftime('%Y-%m-%d')\n",
    "# c) Control population groups\n",
    "# Data of Awdal (SO1990A111) prior to 2017 has a population group (Borama (SO1990A21109) and Baki (SO1990A21102))\n",
    "# This is not duplicated data, so we will link the data except for one duplicated data point:\n",
    "df = df[df['id'] != 27061759]\n",
    "# ----------------------------------------------- #\n",
    "\n",
    "# FDW Production Data Inspection ---------------- #\n",
    "df, df_raw = FDW_PD_Sweeper(df)\n",
    "table_dict = FDW_PD_AvalTable(df, shape_all)\n",
    "# ----------------------------------------------- #\n",
    "\n",
    "# FEWS NET Shapefile comparison ----------------- #\n",
    "shape_used = pd.concat([SO_Admin1_1990, SO_Admin2_1990], axis=0)\n",
    "PlotAdminShapes(shape_used, label=True)\n",
    "# ----------------------------------------------- #"
   ]
  },
  {
   "cell_type": "code",
   "execution_count": 14,
   "id": "5a85c43b",
   "metadata": {},
   "outputs": [
    {
     "data": {
      "text/plain": [
       "Index(['country', 'source_organization', 'source_document', 'fnid', 'admin_0',\n",
       "       'admin_1', 'admin_2', 'admin_3', 'admin_4', 'population_group',\n",
       "       'crop_production_system', 'start_date', 'period_date', 'season_name',\n",
       "       'season_type', 'indicator', 'value', 'population', 'value_per_capita',\n",
       "       'product', 'unit', 'unit_name', 'cpcv2', 'cpcv2_description',\n",
       "       'geographic_group', 'fewsnet_region', 'country_code',\n",
       "       'collection_schedule', 'collection_date', 'season_date', 'season_year',\n",
       "       'status', 'collection_status', 'publication_name', 'document_type',\n",
       "       'id', 'dataseries_name'],\n",
       "      dtype='object')"
      ]
     },
     "execution_count": 14,
     "metadata": {},
     "output_type": "execute_result"
    }
   ],
   "source": [
    "df[df.fnid.isin(reporting_unit)].columns"
   ]
  },
  {
   "cell_type": "markdown",
   "id": "c306101b-6d9e-45d3-af48-3cecb4033e29",
   "metadata": {},
   "source": [
    "- Somalia crop seasonal calendar </br>\n",
    "\n",
    "![FEWS NET](https://fews.net/sites/default/files/styles/large/public/seasonal-calendar-somalia.png?itok=6LQ1arWc)\n",
    "\n",
    "- FDW data consists of `SO1990A1` and `SO1990A2`.\n",
    "\n",
    "| Year | Admin-1 | # units | Admin-2  | # units |\n",
    "| :--- | :----:  | :----:  | :----:   | ---:    |\n",
    "| 1990 | SO1990A1| 18      | **`SO1990A2`** | 74      |\n",
    "\n",
    "- Comparison between admin boundaries.\n",
    "\n",
    "![image](https://github.com/chc-ucsb/gscd/blob/main/figures/SO_admin_shapes.png?raw=true)\n",
    "\n",
    "<!-- - Most of reliable data are admin-2 level, and FDW has few data for admin-1 level. Therefore, we aggregate/merge admin-2 level data to represent admin-1 level. -->\n",
    "- Afmadow (SO1990A22802) has two crop reporting units: Afmadow (SO1990R22805) and Afmadow (Hagar) (SO1990R22806). This is confirmed by FEWS NET crop reporting unit (./data/admin_boundaries/SO_Crop_Units_1990.shp). Since SO1990A22802 has only one off-season record, we aggregate SO1990R22805 and SO1990R22806 to replace SO1990A22802.\n",
    "\n",
    "| District |Crop reporting units|\n",
    "| :---:|:---:|\n",
    "|Afmadow (SO1990A22802) | Afmadow (SO1990R22805) and  Hagar (SO1990R22806)|\n",
    "\n",
    "- **`SO1990A2`** is used to represent the current admin-level 2 crop data.\n",
    "- Somalia has four crop seasons: `Deyr`, `Gu`, `Gu off-season`, `Deyr off-season`.\n",
    "- Somalia has three crop production systems: `agro_pastoral`, `riverine`, `None`.\n",
    "- Somalia has no population group(s).\n",
    "\n",
    "In Admin-2 level data, we found unrealistic records. So, we manually remove those records:\n",
    "- 26 districts have the exactly same `1 mt/ha` yield values in `Deyr` season of `2001`.\n",
    "- Three districts have unrealistic yield values in `Gu` season of `2005`: Bu'aale (11.65 mt/ha), Jilib (2.27 mt/ha), and Saakow (20.8 mt/ha)."
   ]
  },
  {
   "cell_type": "code",
   "execution_count": 3,
   "id": "8e2cc64c-0dbd-4b7e-93a9-3ee32545589b",
   "metadata": {},
   "outputs": [],
   "source": [
    "# Define the latest shapefile ------------------- #\n",
    "latest_level = 2\n",
    "shape_latest = SO_Admin2_1990.copy().to_crs('epsg:4326')\n",
    "# ----------------------------------------------- #\n",
    "\n",
    "# Validation of FNIDs and Names ----------------- #\n",
    "df = FDW_PD_ValidateFnidName(df, shape_used, shape_latest)\n",
    "df['season_name'] = df['season_name'].replace({'Gu off-season':'Gu-off', 'Deyr off-season':'Deyr-off'})\n",
    "# ----------------------------------------------- #\n",
    "\n",
    "# FDW Production Data Compiling ----------------- #\n",
    "area, prod = FDW_PD_Compiling(df, shape_used)\n",
    "area_all, prod_all = area.copy(), prod.copy()\n",
    "mdx_pss = area.columns.droplevel([0,1]).unique()\n",
    "# ----------------------------------------------- #"
   ]
  },
  {
   "cell_type": "code",
   "execution_count": 4,
   "id": "07203b90-3118-4c6c-8d26-d5ce42d985f6",
   "metadata": {},
   "outputs": [
    {
     "name": "stdout",
     "output_type": "stream",
     "text": [
      "CBR is considered for 'SO1990A21604' as no record found in: ['SO1990A21604']\n",
      "CBR is considered for 'SO1990A21202' as no record found in: ['SO1990A21202']\n",
      "CBR is considered for 'SO1990A21102' as no record found in: ['SO1990A21102']\n",
      "CBR is considered for 'SO1990A21703' as no record found in: ['SO1990A21703']\n",
      "CBR is considered for 'SO1990A21802' as no record found in: ['SO1990A21802']\n",
      "CBR is considered for 'SO1990A21103' as no record found in: ['SO1990A21103']\n",
      "CBR is considered for 'SO1990A21603' as no record found in: ['SO1990A21603']\n",
      "CBR is considered for 'SO1990A21605' as no record found in: ['SO1990A21605']\n",
      "CBR is considered for 'SO1990A21104' as no record found in: ['SO1990A21104']\n",
      "CBR is considered for 'SO1990A21601' as no record found in: ['SO1990A21601']\n",
      "CBR is considered for 'SO1990A21503' as no record found in: ['SO1990A21503']\n",
      "CBR is considered for 'SO1990A21502' as no record found in: ['SO1990A21502']\n",
      "CBR is considered for 'SO1990A21606' as no record found in: ['SO1990A21606']\n",
      "CBR is considered for 'SO1990A21101' as no record found in: ['SO1990A21101']\n",
      "CBR is considered for 'SO1990A21402' as no record found in: ['SO1990A21402']\n",
      "CBR is considered for 'SO1990A21602' as no record found in: ['SO1990A21602']\n",
      "CBR is considered for 'SO1990A21403' as no record found in: ['SO1990A21403']\n",
      "CBR is considered for 'SO1990A21404' as no record found in: ['SO1990A21404']\n",
      "CBR is considered for 'SO1990A21701' as no record found in: ['SO1990A21701']\n",
      "CBR is considered for 'SO1990A21401' as no record found in: ['SO1990A21401']\n",
      "CBR is considered for 'SO1990A21302' as no record found in: ['SO1990A21302']\n",
      "CBR is considered for 'SO1990A21702' as no record found in: ['SO1990A21702']\n",
      "CBR is considered for 'SO1990A21903' as no record found in: ['SO1990A21903']\n",
      "CBR is considered for 'SO1990A21902' as no record found in: ['SO1990A21902']\n",
      "CBR is considered for 'SO1990A21901' as no record found in: ['SO1990A21901']\n",
      "CBR is considered for 'SO1990A22604' as no record found in: ['SO1990A22604']\n",
      "CBR is considered for 'SO1990A22201' as no record found in: ['SO1990A22201']\n",
      "CBR is considered for 'SO1990A21804' as no record found in: ['SO1990A21804']\n",
      "CBR is considered for 'SO1990A21801' as no record found in: ['SO1990A21801']\n",
      "- Aggregation of grain types ------------------ #\n",
      "3 crops: Maize (Corn), Rice (Paddy), Sorghum\n",
      "3 crops: Maize, Rice, Sorghum\n",
      "\n",
      "./data/crop/adm_crop_production_raw_SO.hdf is saved.\n",
      "./data/crop/adm_crop_production_SO.hdf is saved.\n",
      "./data/crop/adm_crop_production_SO_ratio.npz is saved.\n"
     ]
    }
   ],
   "source": [
    "# Link admin boundaries ------------------------- #\n",
    "link, over = FDW_PD_CreateAdminLink(SO_Admin2_1990, SO_Admin2_1990, 'ADMIN2', 'ADMIN2', area, epsg)\n",
    "# Crop specific ratios\n",
    "link_ratio = FDW_PD_RatioAdminLink(link, area, over, mdx_pss)\n",
    "# Add current unit to link_ratio\n",
    "for fnid_new in link_ratio.keys():\n",
    "    link_ratio[fnid_new][fnid_new] = 1.0\n",
    "    link_ratio[fnid_new] = link_ratio[fnid_new].sort_index(axis=1, ascending=False)\n",
    "# Manual Editing\n",
    "link_ratio['SO1990A22802'][['SO1990R22805', 'SO1990R22806']] = 1.0\n",
    "# Connect data with AdminLink\n",
    "area_new, prod_new = FDW_PD_ConnectAdminLink(link_ratio, area, prod, validation=False)\n",
    "# ----------------------------------------------- #\n",
    "\n",
    "# Aggregate grain data by grain type ------------ #\n",
    "[area_new, prod_new, area_all, prod_all] = FDW_PD_GrainTypeAgg([area_new, prod_new, area_all, prod_all], product_category)\n",
    "# ----------------------------------------------- #\n",
    "\n",
    "# Manual correction ----------------------------- #\n",
    "crop_new = prod_new/area_new\n",
    "# - Remove data before 1995\n",
    "area_new = area_new.loc[1995:]\n",
    "prod_new = prod_new.loc[1995:]\n",
    "# - Unrealistic values in 2005 in Gu season\n",
    "target = ['SO1990A22701','SO1990A22702','SO1990A22703']\n",
    "area_new.loc[2005,pd.IndexSlice[target,:,'Maize','Gu',:]] = np.nan\n",
    "prod_new.loc[2005,pd.IndexSlice[target,:,'Maize','Gu',:]] = np.nan\n",
    "# # - Districts have the same 1 mt/ha yield records in 2001 in Deyr season\n",
    "# temp = crop_new.loc[2001, pd.IndexSlice[:,:,'Maize','Deyr']]\n",
    "# target = temp.index.get_level_values(0)[temp == 1]\n",
    "# area_new.loc[2001,pd.IndexSlice[target,:,'Maize','Deyr',:]] = np.nan\n",
    "# prod_new.loc[2001,pd.IndexSlice[target,:,'Maize','Deyr',:]] = np.nan\n",
    "# # - Unrealistic values in 1995 in Dery season\n",
    "# target = ['SO1990A22605']\n",
    "# area_new.loc[1995,pd.IndexSlice[target,:,'Maize','Deyr',:]] = np.nan\n",
    "# prod_new.loc[1995,pd.IndexSlice[target,:,'Maize','Deyr',:]] = np.nan\n",
    "# ----------------------------------------------- #\n",
    "\n",
    "# Complete long format DataFrame\n",
    "df_area = area_new.T.stack().reset_index().rename({0:'value'},axis=1)\n",
    "df_area['indicator'] = 'area'\n",
    "df_prod = prod_new.T.stack().reset_index().rename({0:'value'},axis=1)\n",
    "df_prod['indicator'] = 'production'\n",
    "df_yield = (prod_new/area_new).T.stack().reset_index().rename({0:'value'},axis=1)\n",
    "df_yield['indicator'] = 'yield'\n",
    "stack = pd.concat([df_area, df_prod, df_yield], axis=0)\n",
    "# Insert a country name\n",
    "stack['country'] = 'Somalia'\n",
    "stack = stack[['fnid','country','name','product','year','season_name','season_date','indicator','value']]\n",
    "stack = stack.reset_index(drop=True)\n",
    "# Change season_date to harvest_end\n",
    "stack.rename(columns={'season_date':'harvest_end'},inplace=True)\n",
    "stack['harvest_end'] = stack['harvest_end'].replace({\n",
    "    '07-01':'07-01', # Gu\n",
    "    '02-01':'02-01', # Deyr\n",
    "    '09-01':'09-01', # Gu off-season\n",
    "    '03-01':'03-01', # Deyr off-season\n",
    "})\n",
    "\n",
    "# Save data\n",
    "save_hdf('./data/crop/adm_crop_production_raw_SO.hdf', df)\n",
    "save_hdf('./data/crop/adm_crop_production_SO.hdf', stack)\n",
    "save_npz('./data/crop/adm_crop_production_SO_ratio.npz', link_ratio)"
   ]
  },
  {
   "cell_type": "markdown",
   "id": "f4fe73f3-c52f-4f82-9996-d9a55f9aefd8",
   "metadata": {},
   "source": [
    "## Visualization of production data"
   ]
  },
  {
   "cell_type": "code",
   "execution_count": 5,
   "id": "01be7394-b46b-4dae-8e83-214e5582136d",
   "metadata": {},
   "outputs": [
    {
     "name": "stdout",
     "output_type": "stream",
     "text": [
      "./figures/SO_bar_natgrainprod_Gu.png is saved.\n",
      "./figures/SO_bar_natgrainprod_Deyr.png is saved.\n"
     ]
    }
   ],
   "source": [
    "# Bar chart of national grain production\n",
    "country_iso, country_name = 'SO', 'Somalia'\n",
    "df = pd.read_hdf('./data/crop/adm_crop_production_%s.hdf' % country_iso)\n",
    "year = [df['year'].min(), df['year'].max()]\n",
    "product_order = ['Maize','Sorghum','Rice']\n",
    "for season_name in ['Gu','Deyr']:\n",
    "    footnote = 'National grain production in %s - %s' % (country_name, season_name)\n",
    "    fn_save = './figures/%s_bar_natgrainprod_%s.png' % (country_iso, season_name)\n",
    "    sub = df[df['season_name'] == season_name]\n",
    "    fig = PlotBarProduction(sub, year, product_order, footnote, fn_save)\n",
    "    # fig.show()"
   ]
  },
  {
   "cell_type": "markdown",
   "id": "824b7370-d92d-4d9c-a313-74b146a7533a",
   "metadata": {},
   "source": [
    "![image](https://github.com/chc-ucsb/gscd/blob/main/figures/SO_bar_natgrainprod_Gu.png?raw=true)\n",
    "![image](https://github.com/chc-ucsb/gscd/blob/main/figures/SO_bar_natgrainprod_Deyr.png?raw=true)"
   ]
  },
  {
   "cell_type": "code",
   "execution_count": 6,
   "id": "9950cc84-eb0c-400f-ac63-52f524a6ba1d",
   "metadata": {},
   "outputs": [
    {
     "name": "stdout",
     "output_type": "stream",
     "text": [
      "./figures/SO_line_pay_Maize_Gu.png is saved.\n",
      "./figures/SO_line_pay_Maize_Deyr.png is saved.\n",
      "./figures/SO_line_pay_Sorghum_Gu.png is saved.\n",
      "./figures/SO_line_pay_Sorghum_Deyr.png is saved.\n"
     ]
    }
   ],
   "source": [
    "# Lineplot of Production-Area-Yield (PAY) time-series\n",
    "country_iso, country_name = 'SO', 'Somalia'\n",
    "df = pd.read_hdf('./data/crop/adm_crop_production_%s.hdf' % country_iso)\n",
    "year = [df['year'].min(), df['year'].max()]\n",
    "product_season = [\n",
    "    ['Maize','Gu'],\n",
    "    ['Maize','Deyr'],\n",
    "    ['Sorghum','Gu'],\n",
    "    ['Sorghum','Deyr'],    \n",
    "]\n",
    "for product_name, season_name in product_season:\n",
    "    footnote = 'Production-Area-Yield (PAY) time-series of %s - %s - %s' % (country_iso, product_name, season_name)\n",
    "    fn_save = './figures/%s_line_pay_%s_%s.png' % (country_iso, product_name, season_name)\n",
    "    sub = df[(df['product'] == product_name) & (df['season_name'] == season_name)]\n",
    "    fig = PlotLinePAY(sub, year, footnote, fn_save)\n",
    "    # fig.show()"
   ]
  },
  {
   "cell_type": "markdown",
   "id": "ca6a222f-ad95-481a-83af-3b462060e961",
   "metadata": {},
   "source": [
    "![image](https://github.com/chc-ucsb/gscd/blob/main/figures/SO_line_pay_Maize_Gu.png?raw=true)\n",
    "![image](https://github.com/chc-ucsb/gscd/blob/main/figures/SO_line_pay_Maize_Deyr.png?raw=true)\n",
    "![image](https://github.com/chc-ucsb/gscd/blob/main/figures/SO_line_pay_Sorghum_Gu.png?raw=true)\n",
    "![image](https://github.com/chc-ucsb/gscd/blob/main/figures/SO_line_pay_Sorghum_Deyr.png?raw=true)"
   ]
  },
  {
   "cell_type": "code",
   "execution_count": 7,
   "id": "5ce92803-e960-4371-9c26-f2471deaf856",
   "metadata": {},
   "outputs": [
    {
     "name": "stdout",
     "output_type": "stream",
     "text": [
      "./figures/SO_heat_seasondata_Maize (Corn).png is saved.\n",
      "./figures/SO_heat_seasondata_Sorghum.png is saved.\n"
     ]
    }
   ],
   "source": [
    "# Heatmap of seasonal data availability\n",
    "country_iso, country_name = 'SO', 'Somalia'\n",
    "df = pd.read_hdf('./data/crop/adm_crop_production_raw_%s.hdf' % country_iso)\n",
    "code = {'Gu':1,'Deyr':10}\n",
    "comb = {1:1,10:2,11:3,12:3,20:3,21:3,22:3}\n",
    "comb_name = {1:'Gu',2:'Deyr',3:'Gu + Deyr'}\n",
    "for product_name in ['Maize (Corn)','Sorghum']:\n",
    "    data = df[(df['product'] == product_name) & (df['season_name'].isin(code.keys()))]\n",
    "    footnote = 'Seasonal data availability in %s - %s (uncorrected)' % (country_name, product_name)\n",
    "    fn_save = './figures/%s_heat_seasondata_%s.png' % (country_iso, product_name)\n",
    "    fig = PlotHeatSeasonData(data, code, comb, comb_name, footnote, fn_save)\n",
    "    # fig.show()"
   ]
  },
  {
   "cell_type": "markdown",
   "id": "a0588cf1-20a7-479e-a1c4-86df02f9b4f5",
   "metadata": {},
   "source": [
    "![image](https://github.com/chc-ucsb/gscd/blob/main/figures/SO_heat_seasondata_Maize%20(Corn).png?raw=true)\n",
    "![image](https://github.com/chc-ucsb/gscd/blob/main/figures/SO_heat_seasondata_Sorghum.png?raw=true)"
   ]
  },
  {
   "cell_type": "code",
   "execution_count": 8,
   "id": "18f42143-3a22-4234-98f5-991facefbd82",
   "metadata": {},
   "outputs": [
    {
     "name": "stdout",
     "output_type": "stream",
     "text": [
      "./figures/SO_heat_cropsystem_Maize (Corn)_Gu.png is saved.\n",
      "./figures/SO_heat_cropsystem_Maize (Corn)_Deyr.png is saved.\n"
     ]
    }
   ],
   "source": [
    "# Heatmap of crop production system(s) per crop type\n",
    "country_iso, country_name = 'SO', 'Somalia'\n",
    "df = pd.read_hdf('./data/crop/adm_crop_production_raw_%s.hdf' % country_iso)\n",
    "product_season = [\n",
    "    ['Maize (Corn)', 'Gu'],\n",
    "    ['Maize (Corn)', 'Deyr'],\n",
    "]\n",
    "code = {'none':1,'riverine':10,'agro_pastoral':100}\n",
    "comb = {1:1,10:2,11:3,100:4,101:5,110:6,111:7}\n",
    "comb_name = {1:'None',2:'Riverine',3:'Riverine + None',4:'Agro_pastoral',5:'Agro_pastoral + None',6:'Agro_pastoral + Riverine',7:'All'}\n",
    "for product_name, season_name in product_season:\n",
    "    data = df[(df['product'] == product_name) & (df['season_name'] == season_name)]\n",
    "    footnote = 'Reported crop production system(s) in %s - %s - %s (uncorrected)' % ('Somalia', product_name, season_name)\n",
    "    fn_save = './figures/%s_heat_cropsystem_%s_%s.png' % (country_iso, product_name, season_name)\n",
    "    fig = PlotHeatCropSystem(data, code, comb, comb_name, footnote, fn_save)\n",
    "    # fig.show()"
   ]
  },
  {
   "cell_type": "markdown",
   "id": "7ba20f5c-f252-4a24-920a-17d9005602c3",
   "metadata": {},
   "source": [
    "![image](https://github.com/chc-ucsb/gscd/blob/main/figures/SO_heat_cropsystem_Maize%20(Corn)_Gu.png?raw=true)\n",
    "![image](https://github.com/chc-ucsb/gscd/blob/main/figures/SO_heat_seasondata_SorghumSO_heat_cropsystem_Maize%20(Corn)_Deyr.png?raw=true)"
   ]
  },
  {
   "cell_type": "markdown",
   "id": "148025c4-b4c1-482b-b45c-3de965b1bf36",
   "metadata": {},
   "source": [
    "### Irrigated (or riverine) districts"
   ]
  },
  {
   "cell_type": "code",
   "execution_count": 9,
   "id": "aea37b23-b9b9-4c5b-a098-84b7abc63fdb",
   "metadata": {},
   "outputs": [
    {
     "name": "stdout",
     "output_type": "stream",
     "text": [
      "./figures/SO_map_cropsystem_Maize (Corn)_Gu.png is saved.\n",
      "./figures/SO_map_cropsystem_Maize (Corn)_Deyr.png is saved.\n",
      "./figures/SO_map_cropsystem_Sorghum_Gu.png is saved.\n",
      "./figures/SO_map_cropsystem_Sorghum_Deyr.png is saved.\n"
     ]
    }
   ],
   "source": [
    "from tools_graphic import PlotMapCropSystem\n",
    "country_iso, country_name = 'SO', 'Somalia'\n",
    "df = pd.read_hdf('./data/crop/adm_crop_production_raw_%s.hdf' % country_iso)\n",
    "product_season = [\n",
    "    ['Maize (Corn)', 'Gu'],\n",
    "    ['Maize (Corn)', 'Deyr'],\n",
    "    ['Sorghum', 'Gu'],\n",
    "    ['Sorghum', 'Deyr']\n",
    "]\n",
    "for product_name, season_name in product_season:\n",
    "    sub = df[(df['product'] == product_name)&(df['season_name'] == season_name)]\n",
    "    footnote = 'Crop production system(s) in %s - %s - %s' % ('Somalia', product_name, season_name)\n",
    "    fn_save = './figures/%s_map_cropsystem_%s_%s.png' % (country_iso, product_name, season_name)\n",
    "    fig = PlotMapCropSystem(sub, footnote, fn_save)\n",
    "    # fig.show()"
   ]
  },
  {
   "cell_type": "markdown",
   "id": "97c0116d-39c8-4bb2-b600-b1a6e8f73114",
   "metadata": {},
   "source": [
    "![image](https://github.com/chc-ucsb/gscd/blob/main/figures/SO_map_cropsystem_Maize%20(Corn)_Gu.png?raw=true)\n",
    "![image](https://github.com/chc-ucsb/gscd/blob/main/figures/SO_map_cropsystem_Maize%20(Corn)_Deyr.png?raw=true)\n",
    "![image](https://github.com/chc-ucsb/gscd/blob/main/figures/SO_map_cropsystem_Sorghum_Gu.png?raw=true)\n",
    "![image](https://github.com/chc-ucsb/gscd/blob/main/figures/SO_map_cropsystem_Sorghum_Deyr.png?raw=true)"
   ]
  },
  {
   "cell_type": "code",
   "execution_count": 10,
   "id": "aef5cea0-85f2-4cd7-9c83-189b99c78ae8",
   "metadata": {},
   "outputs": [],
   "source": [
    "# Calibrated PAY time-series per FNID\n",
    "from tools_graphic import PlotLineCropTS\n",
    "country_iso, country_name = 'SO', 'Somalia'\n",
    "df = pd.read_hdf('./data/crop/adm_crop_production_%s.hdf' % country_iso)\n",
    "link_ratio = load_npz('./data/crop/adm_crop_production_%s_ratio.npz' % country_iso)\n",
    "year_all = np.arange(df['year'].min(), df['year'].max()+1)\n",
    "prod_season = [\n",
    "    ['Maize', 'Gu'],\n",
    "    ['Sorghum', 'Gu'],\n",
    "    ['Maize', 'Deyr'],\n",
    "    ['Sorghum', 'Deyr']\n",
    "]\n",
    "for product_name, season_name in prod_season:\n",
    "    sub = df[\n",
    "        (df['product'] == product_name) &\n",
    "        (df['season_name'] == season_name)\n",
    "    ]\n",
    "    for fnid in sub['fnid'].unique():\n",
    "        sub_fps = sub[sub['fnid'] == fnid]\n",
    "        fn_save = './figures/crop_calibrated/%s_%s_%s_%s.png' % (country_iso, product_name, season_name, fnid)\n",
    "        # fig = PlotLineCropTS(sub_fps, fnid, product_name, season_name, link_ratio, year_all, fn_save)"
   ]
  },
  {
   "cell_type": "code",
   "execution_count": null,
   "id": "871ae7c4-fb9e-4865-a429-de38caf56e32",
   "metadata": {},
   "outputs": [],
   "source": []
  }
 ],
 "metadata": {
  "kernelspec": {
   "display_name": "Python 3",
   "language": "python",
   "name": "python3"
  },
  "language_info": {
   "codemirror_mode": {
    "name": "ipython",
    "version": 3
   },
   "file_extension": ".py",
   "mimetype": "text/x-python",
   "name": "python",
   "nbconvert_exporter": "python",
   "pygments_lexer": "ipython3",
   "version": "3.8.12"
  }
 },
 "nbformat": 4,
 "nbformat_minor": 5
}
