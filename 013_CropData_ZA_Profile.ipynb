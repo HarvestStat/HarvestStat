{
 "cells": [
  {
   "cell_type": "markdown",
   "id": "5a54535d-4fd0-4290-a987-d6baff7aa821",
   "metadata": {},
   "source": [
    "## FDW Crop Production Data Profiling - South Africa"
   ]
  },
  {
   "cell_type": "code",
   "execution_count": 1,
   "id": "423b4763-5783-4282-ba84-d8ae8ba04fb5",
   "metadata": {},
   "outputs": [],
   "source": [
    "import os, sys, glob, json\n",
    "from itertools import product, compress, chain\n",
    "from functools import reduce\n",
    "import warnings\n",
    "warnings.simplefilter(action='ignore', category=FutureWarning)\n",
    "import requests\n",
    "import numpy as np\n",
    "import pandas as pd\n",
    "import geopandas as gpd\n",
    "from tools import save_hdf, save_npz, load_npz, PrintAdminUnits, PlotAdminShapes\n",
    "from tools import FDW_PD_Sweeper, FDW_PD_AvalTable, FDW_PD_Compiling, FDW_PD_GrainTypeAgg, FDW_PD_ValidateFnidName\n",
    "from tools import FDW_PD_CreateAdminLink, FDW_PD_RatioAdminLink, FDW_PD_ConnectAdminLink\n",
    "from tools import FDW_PD_CaliSeasonYear\n",
    "from tools_graphic import PlotBarProduction, PlotLinePAY, PlotHeatCropSystem, PlotHeatSeasonData\n",
    "import plotly.express as px\n",
    "import plotly.graph_objects as go\n",
    "from plotly.subplots import make_subplots\n",
    "warnings.simplefilter(action='ignore', category=pd.errors.PerformanceWarning)\n",
    "pd.options.mode.chained_assignment = None"
   ]
  },
  {
   "cell_type": "code",
   "execution_count": 2,
   "id": "1546e288-588d-4af4-be71-c096579f7737",
   "metadata": {},
   "outputs": [
    {
     "name": "stdout",
     "output_type": "stream",
     "text": [
      "- FEWS NET admin shapefiles ------------------- #\n",
      "| year\t | Admin1   | # units   | Admin2   | # units   | Admin3   | # units   |\n",
      "| 1994\t | ZA1994A1 | 9\t| nan\t| 0\t| nan\t| 0\t|\n",
      "----------------------------------------------- #\n"
     ]
    }
   ],
   "source": [
    "# CPCV2 grain code ------------------------------ #\n",
    "grain_code = pd.read_hdf('./data/crop/grain_cpcv2_code.hdf')\n",
    "product_category = grain_code[['product', 'product_category']].set_index('product').to_dict()['product_category']\n",
    "# ----------------------------------------------- #\n",
    "\n",
    "# Load FEWS NET administrative boundaries ------- #\n",
    "epsg = 'EPSG:22234' # South Africa\n",
    "fn_shapes = sorted(glob.glob('./data/shapefile/fewsnet/ZA_Admin?_????.shp'))\n",
    "shape_all = []\n",
    "for fn in fn_shapes:\n",
    "    name = fn[-18:-4]\n",
    "    exec('%s = gpd.read_file(\"%s\").to_crs(\"%s\")' % (name, fn, epsg))\n",
    "    exec('%s[\"area\"] = %s[\"geometry\"].area/10**6' % (name, name))\n",
    "    exec('shape_all.append(%s)' % (name))\n",
    "shape_all = pd.concat(shape_all, axis=0).reset_index(drop=True)\n",
    "PrintAdminUnits(shape_all)\n",
    "# ----------------------------------------------- #\n",
    "\n",
    "# FDW API host address -------------------------- #\n",
    "host = 'https://fdw.fews.net'\n",
    "auth = tuple(json.loads(open('token.json', \"r\").read()))\n",
    "parameters = {\n",
    "    'format': 'json',\n",
    "    'country': 'South Africa',\n",
    "    'product': 'R011',\n",
    "    'survey_type': 'crop:best'\n",
    "}\n",
    "endpoint = '/api/cropproductionindicatorvalue/'\n",
    "response = requests.get(host + endpoint, auth=auth, params=parameters, proxies={})\n",
    "response.raise_for_status()\n",
    "df = pd.DataFrame.from_records(response.json())\n",
    "df_origin = df.copy()\n",
    "# ----------------------------------------------- #\n",
    "\n",
    "# Save country level (admin_0) data\n",
    "# I'm not sure the accuracy of admin_0 level data. \n",
    "# If it is country-level aggregation, the production values are too low.\n",
    "# For example, ZA1994A0's annual maize production is less than 1 million metric ton.\n",
    "df_country = df[df['fnid'] == 'ZA1994A0'].reset_index(drop=True)\n",
    "df = df[df['fnid'] != 'ZA1994A0'].reset_index(drop=True)"
   ]
  },
  {
   "cell_type": "code",
   "execution_count": 3,
   "id": "2e724214-9333-4fed-97ad-ad7e7f5ba5c6",
   "metadata": {},
   "outputs": [
    {
     "name": "stdout",
     "output_type": "stream",
     "text": [
      "- Remove missing records ---------------------- #\n",
      "Orignial data points: 6,080\n",
      "Removed 1,261 \"Missing Value\" points\n",
      "2,004/2,012 \"Yield\" points are retained.\n",
      "1,410/1,418 \"Quantity Produced\" points are retained.\n",
      "0/1,238 \"Area Harvested\" points are retained.\n",
      "1,405/1,412 \"Area Planted\" points are retained.\n",
      "Current data points: 4,819\n",
      "\n",
      "- Minor changes are applied ------------------- #\n",
      "\n",
      "- Basic information --------------------------- #\n",
      "Data period: 1979 - 2019\n",
      "5 grain types are found: Barley (Unspecified), Maize Grain (White), Maize Grain (Yellow), Sorghum, Wheat Grain\n",
      "2 seasons are found: Winter (04-01), Summer (10-01)\n",
      "2 crop production system are found: none, Commercial (PS)\n",
      "Data sources include:\n",
      "[1] RSA DAFF/Directorate, Statistics and Economic Analysis, South Africa --- CEC, South Africa\n",
      "[2] FEWS NET, South Africa --- Official agricultural statistics, South Africa\n",
      "[3] FEWS NET, South Africa --- CEC, South Africa\n",
      "Administrative-1 fnids: 9\n",
      "Administrative-2 fnids: 0\n",
      "0 reporting units are found: \n",
      "\n",
      "- Total production over time ------------------ #\n",
      "season_name          Summer Winter\n",
      "                                  \n",
      "Barley (Unspecified)   0.0%   1.0%\n",
      "Maize Grain (White)   42.5%   0.0%\n",
      "Maize Grain (Yellow)  34.2%   0.0%\n",
      "Sorghum                2.1%   0.0%\n",
      "Wheat Grain            1.3%  19.0%\n",
      "\n",
      "- Crop calendar ------------------------------- #\n",
      "                product season_name planting_month harvest_month\n",
      "0  Barley (Unspecified)      Winter          04-01         11-01\n",
      "1   Maize Grain (White)      Summer          10-01         04-01\n",
      "2  Maize Grain (Yellow)      Summer          10-01         04-01\n",
      "3               Sorghum      Summer          10-01         04-01\n",
      "4           Wheat Grain      Winter          04-01         11-01\n",
      "5           Wheat Grain      Summer          10-01         04-01\n",
      "\n",
      "- Recorded years per season ------------------- #\n",
      "Winter: 39 years (1979-2017) (missing: 0 years)\n",
      "Summer: 33 years (1987-2019) (missing: 0 years)\n",
      "\n",
      "- Number of \"Quantity Produced\" data points --- #\n",
      "ZA1994A1: 1,410 data points are found.\n",
      "\n",
      "- Districts with population group(s) ---------- #\n",
      "0 districts includes 'population_group'.\n",
      "\n",
      "Table of available data\n",
      "----------------------------------------------- #\n",
      "Crop type: Barley (Unspecified)\n",
      "----------------------------------------------- #\n",
      "season_name                     Winter       \n",
      "crop_production_system Commercial (PS)   none\n",
      "fnid_short                      1994A1 1994A1\n",
      "year                                         \n",
      "1997                               3/9    3/9\n",
      "1998                               3/9    3/9\n",
      "1999                               3/9    1/9\n",
      "2000                               4/9    1/9\n",
      "2001                               5/9    1/9\n",
      "2002                               4/9    NaN\n",
      "2003                               6/9    3/9\n",
      "2004                               5/9    3/9\n",
      "2005                               5/9    2/9\n",
      "2006                               4/9    2/9\n",
      "2007                               4/9    4/9\n",
      "2008                               4/9    3/9\n",
      "2009                               4/9    2/9\n",
      "2010                               4/9    2/9\n",
      "2011                               4/9    3/9\n",
      "2012                               4/9    1/9\n",
      "2013                               5/9    3/9\n",
      "2014                               5/9    3/9\n",
      "2015                               6/9    NaN\n",
      "----------------------------------------------- #\n",
      "Crop type: Maize Grain (White)\n",
      "----------------------------------------------- #\n",
      "season_name                     Summer       \n",
      "crop_production_system Commercial (PS)   none\n",
      "fnid_short                      1994A1 1994A1\n",
      "year                                         \n",
      "1987                               9/9    6/9\n",
      "1988                               9/9    7/9\n",
      "1989                               9/9    6/9\n",
      "1990                               9/9    8/9\n",
      "1991                               9/9    7/9\n",
      "1992                               9/9    8/9\n",
      "1993                               9/9    7/9\n",
      "1994                               9/9    8/9\n",
      "1995                               9/9    8/9\n",
      "1996                               9/9    5/9\n",
      "1997                               9/9    6/9\n",
      "1998                               8/9    6/9\n",
      "1999                               8/9    9/9\n",
      "2000                               8/9    8/9\n",
      "2001                               9/9    NaN\n",
      "2002                               9/9    4/9\n",
      "2003                               9/9    6/9\n",
      "2004                               9/9    7/9\n",
      "2005                               8/9    7/9\n",
      "2006                               8/9    5/9\n",
      "2007                               9/9    4/9\n",
      "2008                               9/9    4/9\n",
      "2009                               9/9    2/9\n",
      "2010                               9/9    4/9\n",
      "2011                               9/9    4/9\n",
      "2012                               9/9    6/9\n",
      "2013                               9/9    4/9\n",
      "2014                               9/9    1/9\n",
      "2015                               9/9    3/9\n",
      "2016                               9/9    NaN\n",
      "2017                               9/9    NaN\n",
      "2018                               7/9    NaN\n",
      "2019                               9/9    NaN\n",
      "----------------------------------------------- #\n",
      "Crop type: Maize Grain (Yellow)\n",
      "----------------------------------------------- #\n",
      "season_name                     Summer       \n",
      "crop_production_system Commercial (PS)   none\n",
      "fnid_short                      1994A1 1994A1\n",
      "year                                         \n",
      "1987                               9/9    6/9\n",
      "1988                               9/9    7/9\n",
      "1989                               9/9    7/9\n",
      "1990                               9/9    8/9\n",
      "1991                               9/9    7/9\n",
      "1992                               9/9    8/9\n",
      "1993                               9/9    7/9\n",
      "1994                               9/9    4/9\n",
      "1995                               9/9    9/9\n",
      "1996                               9/9    8/9\n",
      "1997                               9/9    7/9\n",
      "1998                               9/9    7/9\n",
      "1999                               9/9    7/9\n",
      "2000                               9/9    8/9\n",
      "2001                               9/9    NaN\n",
      "2002                               8/9    2/9\n",
      "2003                               9/9    5/9\n",
      "2004                               8/9    4/9\n",
      "2005                               9/9    4/9\n",
      "2006                               9/9    4/9\n",
      "2007                               9/9    3/9\n",
      "2008                               9/9    5/9\n",
      "2009                               9/9    5/9\n",
      "2010                               9/9    3/9\n",
      "2011                               9/9    5/9\n",
      "2012                               9/9    4/9\n",
      "2013                               9/9    6/9\n",
      "2014                               9/9    3/9\n",
      "2015                               9/9    2/9\n",
      "2016                               9/9    NaN\n",
      "2017                               9/9    NaN\n",
      "2018                               9/9    NaN\n",
      "2019                               9/9    NaN\n",
      "----------------------------------------------- #\n",
      "Crop type: Sorghum\n",
      "----------------------------------------------- #\n",
      "season_name                     Summer       \n",
      "crop_production_system Commercial (PS)   none\n",
      "fnid_short                      1994A1 1994A1\n",
      "year                                         \n",
      "1987                               6/9    6/9\n",
      "1988                               6/9    5/9\n",
      "1989                               6/9    6/9\n",
      "1990                               8/9    5/9\n",
      "1991                               8/9    7/9\n",
      "1992                               7/9    4/9\n",
      "1993                               7/9    5/9\n",
      "1994                               7/9    NaN\n",
      "1995                               6/9    NaN\n",
      "1996                               6/9    NaN\n",
      "1997                               6/9    NaN\n",
      "1998                               6/9    NaN\n",
      "1999                               7/9    NaN\n",
      "2000                               6/9    NaN\n",
      "2001                               5/9    NaN\n",
      "2002                               7/9    NaN\n",
      "2003                               7/9    NaN\n",
      "2004                               7/9    NaN\n",
      "2005                               8/9    NaN\n",
      "2006                               7/9    NaN\n",
      "2007                               6/9    NaN\n",
      "2008                               6/9    NaN\n",
      "2009                               6/9    NaN\n",
      "2010                               7/9    NaN\n",
      "2011                               6/9    NaN\n",
      "2012                               6/9    NaN\n",
      "2013                               6/9    NaN\n",
      "2014                               6/9    NaN\n",
      "2015                               6/9    NaN\n",
      "2016                               5/9    NaN\n",
      "2017                               6/9    NaN\n",
      "2018                               6/9    NaN\n",
      "2019                               6/9    NaN\n",
      "----------------------------------------------- #\n",
      "Crop type: Wheat Grain\n",
      "----------------------------------------------- #\n",
      "season_name            Summer          Winter       \n",
      "crop_production_system   none Commercial (PS)   none\n",
      "fnid_short             1994A1          1994A1 1994A1\n",
      "year                                                \n",
      "1979                      NaN             9/9    8/9\n",
      "1980                      NaN             9/9    6/9\n",
      "1981                      NaN             9/9    7/9\n",
      "1982                      NaN             9/9    7/9\n",
      "1983                      NaN             9/9    8/9\n",
      "1984                      NaN             9/9    9/9\n",
      "1985                      NaN             9/9    9/9\n",
      "1986                      NaN             9/9    9/9\n",
      "1987                      NaN             9/9    9/9\n",
      "1988                      NaN             9/9    9/9\n",
      "1989                      NaN             9/9    9/9\n",
      "1990                      NaN             9/9    9/9\n",
      "1991                      NaN             9/9    9/9\n",
      "1992                      NaN             9/9    9/9\n",
      "1993                      NaN             9/9    9/9\n",
      "1994                      7/9             9/9    9/9\n",
      "1995                      6/9             9/9    9/9\n",
      "1996                      6/9             9/9    6/9\n",
      "1997                      6/9             9/9    8/9\n",
      "1998                      6/9             9/9    5/9\n",
      "1999                      7/9             9/9    7/9\n",
      "2000                      6/9             9/9    3/9\n",
      "2001                      5/9             9/9    6/9\n",
      "2002                      7/9             9/9    5/9\n",
      "2003                      7/9             9/9    4/9\n",
      "2004                      7/9             9/9    7/9\n",
      "2005                      8/9             9/9    7/9\n",
      "2006                      7/9             9/9    6/9\n",
      "2007                      6/9             9/9    4/9\n",
      "2008                      6/9             9/9    3/9\n",
      "2009                      6/9             9/9    3/9\n",
      "2010                      7/9             9/9    2/9\n",
      "2011                      6/9             9/9    6/9\n",
      "2012                      6/9             9/9    4/9\n",
      "2013                      6/9             9/9    5/9\n",
      "2014                      6/9             9/9    3/9\n",
      "2015                      6/9             9/9    NaN\n",
      "2016                      5/9             9/9    NaN\n",
      "2017                      NaN             9/9    NaN\n",
      "----------------------------------------------- #\n",
      "./figures/ZA_admin_shapes.png is saved.\n"
     ]
    }
   ],
   "source": [
    "# Manual Pre-processing before Sweeping --------- #\n",
    "# 1. Default setting \n",
    "# a) None-type crop production system\n",
    "df.loc[df['crop_production_system'].isna(), 'crop_production_system'] = 'none'\n",
    "df.loc[df['crop_production_system'] == '', 'crop_production_system'] = 'none'\n",
    "# b) None-type population group\n",
    "df.loc[df['population_group'].isna(), 'population_group'] = 'none'\n",
    "df.loc[df['population_group'] == '', 'population_group'] = 'none'\n",
    "# 2. Manual setting\n",
    "# a) Add admin names to reporting units\n",
    "admin_level = 'admin_1'\n",
    "reporting_unit = df.loc[df['fnid'].map(lambda x: x[6] != 'A'), 'fnid'].unique()\n",
    "df.loc[df.fnid.isin(reporting_unit),admin_level] = df.loc[df.fnid.isin(reporting_unit), 'locality_name'].map(lambda x: x.split(' ')[0])\n",
    "# There are duplicate data points in Summer 1999 and Summer 2000 with different \"publication_name\" such as, \n",
    "# \"CEC, 2001, South Afric\", \"FEWS NET, South Africa\", and 'Official Database, 2016, South Africa'.\n",
    "# We temporarily select data points updated recently (latest \"collection_date\").\n",
    "rows = ['fnid','crop_production_system','season_year', 'product','indicator']\n",
    "df['collection_date'] = pd.to_datetime(df['collection_date'])\n",
    "df = df.sort_values(by=['collection_date']).drop_duplicates(rows, keep='last').reset_index(drop=True)\n",
    "# Also, \"season_date\", \"start_date\", \"period_date\" are different by \"publication_name\"\n",
    "df.loc[df['season_name'] == 'Summer', 'season_date'] = df.loc[df['season_name'] == 'Summer', 'season_date'].map(lambda x: x[:5]+'10-01')\n",
    "df.loc[df['season_name'] == 'Summer', 'start_date'] = df.loc[df['season_name'] == 'Summer', 'start_date'].map(lambda x: x[:5]+'04-01')\n",
    "df.loc[df['season_name'] == 'Summer', 'period_date'] = df.loc[df['season_name'] == 'Summer', 'period_date'].map(lambda x: x[:5]+'04-30')\n",
    "df.loc[df['season_name'] == 'Winter', 'season_date'] = df.loc[df['season_name'] == 'Winter', 'season_date'].map(lambda x: x[:5]+'04-01')\n",
    "df.loc[df['season_name'] == 'Winter', 'start_date'] = df.loc[df['season_name'] == 'Winter', 'start_date'].map(lambda x: x[:5]+'11-01')\n",
    "df.loc[df['season_name'] == 'Winter', 'period_date'] = df.loc[df['season_name'] == 'Winter', 'period_date'].map(lambda x: x[:5]+'11-30')\n",
    "# A new data source for a period of 2016-2019(or current) with a crop_production_system of \"Commercial (PS)\" \n",
    "# has overlapped with the old sources including 'CEC, 2016, South Africa', 'CEC, 2017, South Africa'.\n",
    "# We temporarily select the data points with the latest \"collection_date\".\n",
    "df = df.reset_index(drop=True)\n",
    "cols = ['fnid','product','season_name','season_date','start_date','period_date','indicator','value']\n",
    "df = df.sort_values(by=['collection_date']).drop_duplicates(cols, keep='last').reset_index(drop=True)\n",
    "# ----------------------------------------------- #\n",
    "\n",
    "# FDW Production Data Inspection ---------------- #\n",
    "df, df_raw = FDW_PD_Sweeper(df, area_priority=\"Area Planted\")\n",
    "table_dict = FDW_PD_AvalTable(df, shape_all)\n",
    "# ----------------------------------------------- #\n",
    "\n",
    "# FEWS NET Shapefile comparison ----------------- #\n",
    "shape_used = pd.concat([ZA_Admin1_1994], axis=0)\n",
    "PlotAdminShapes(shape_used, label=True)\n",
    "# ----------------------------------------------- #"
   ]
  },
  {
   "attachments": {},
   "cell_type": "markdown",
   "id": "c306101b-6d9e-45d3-af48-3cecb4033e29",
   "metadata": {},
   "source": [
    "## South Africa\n",
    "Southern Africa crop seasonal calendar\n",
    "\n",
    "<!-- ![FEWS NET](https://fews.net/sites/default/files/styles/large/public/seasonal-calendar-southern-africa.png?itok=azI0iL6A) -->\n",
    "\n",
    "![USDA](https://ipad.fas.usda.gov/rssiws/al/crop_calendar/images/safrica_sf_calendar.png)\n",
    "\n",
    "- In South Africa, basd on the FEWS NET data, there were four times of changes in administrative units: 1980, 1998, 2011, and 2012.\n",
    "\n",
    "| Year | Admin-1 | # units  | Admin-2  | # units |\n",
    "| :---: | :----:  | :----:   | :----:   | :---:  |\n",
    "| 1994  |**`ZA1994A1`** | 9  | nan      | 0 |\n",
    "\n",
    "- Here, we use **`ZA1994A1`** to represent all admin-level 1 crop data.\n",
    "- South Africa has two crop seasons: `Summer` and `Winter`.\n",
    "- South Africa has two crop production system: `none` and `Commercial (PS)`."
   ]
  },
  {
   "cell_type": "code",
   "execution_count": 4,
   "id": "b829c5de-2d2a-497f-aef5-aa7e76b30cdc",
   "metadata": {},
   "outputs": [],
   "source": [
    "# Define the latest shapefile ------------------- #\n",
    "latest_level = 1\n",
    "shape_latest = ZA_Admin1_1994.copy().to_crs('epsg:4326')\n",
    "# ----------------------------------------------- #\n",
    "\n",
    "# Validation of FNIDs and Names ----------------- #\n",
    "shape_used['ADMIN2'] = 'None'\n",
    "shape_all['ADMIN2'] = 'None'\n",
    "shape_latest['ADMIN2'] = 'None'\n",
    "df = FDW_PD_ValidateFnidName(df, shape_used, shape_latest)\n",
    "# ----------------------------------------------- #\n",
    "\n",
    "# FDW Production Data Compiling ----------------- #\n",
    "area, prod = FDW_PD_Compiling(df, shape_used)\n",
    "area_all, prod_all = area.copy(), prod.copy()\n",
    "mdx_pss = area.columns.droplevel([0,1]).unique()\n",
    "# ----------------------------------------------- #"
   ]
  },
  {
   "cell_type": "code",
   "execution_count": 5,
   "id": "789cd401-4c6a-4927-ad88-2ffea4be6b15",
   "metadata": {},
   "outputs": [],
   "source": [
    "# Link admin boundaries ------------------------- #\n",
    "link, over = FDW_PD_CreateAdminLink(ZA_Admin1_1994, ZA_Admin1_1994, 'ADMIN1', 'ADMIN1', prod, epsg)\n",
    "# Crop specific ratios\n",
    "link_ratio = FDW_PD_RatioAdminLink(link, prod, over, mdx_pss)\n",
    "# Add current unit to link_ratio\n",
    "for fnid_new in link_ratio.keys():\n",
    "    link_ratio[fnid_new][fnid_new] = 1.0\n",
    "    link_ratio[fnid_new] = link_ratio[fnid_new].sort_index(axis=1, ascending=False)\n",
    "# Connect data with AdminLink\n",
    "area_new, prod_new = FDW_PD_ConnectAdminLink(link_ratio, area, prod, validation=True)\n",
    "# ----------------------------------------------- #"
   ]
  },
  {
   "cell_type": "code",
   "execution_count": 6,
   "id": "20272ff1-9c5b-4fb9-a282-32d4fd9b738c",
   "metadata": {},
   "outputs": [
    {
     "name": "stdout",
     "output_type": "stream",
     "text": [
      "./data/crop/adm_crop_production_ZA.hdf is saved.\n",
      "./data/crop/adm_crop_production_ZA_raw.hdf is saved.\n",
      "./data/crop/adm_crop_production_ZA_ratio.npz is saved.\n"
     ]
    }
   ],
   "source": [
    "# Manual correction ----------------------------- #\n",
    "crop_new = prod_new/area_new\n",
    "# Potential typo: 26 -> 1260\n",
    "area_new.loc[2000,pd.IndexSlice['ZA1994A101',:,'Maize Grain (Yellow)','Summer',:,:,'none']] = 1260\n",
    "# Potential typo: 31 -> 1310\n",
    "area_new.loc[2001,pd.IndexSlice['ZA1994A101',:,'Maize Grain (Yellow)','Summer',:,:,'none']] = 1310\n",
    "# Potential typo: 15450 -> 1204500 (from the removed source)\n",
    "prod_new.loc[2001,pd.IndexSlice['ZA1994A108',:,'Maize Grain (Yellow)','Summer',:,:,'none']] = 1204500\n",
    "# Potential typo: 20000 -> 330000 (from the removed source)\n",
    "area_new.loc[2001,pd.IndexSlice['ZA1994A108',:,'Maize Grain (Yellow)','Summer',:,:,'none']] = 300000\n",
    "# Potential typo: 25000 -> 972000 (from the removed source)\n",
    "prod_new.loc[2001,pd.IndexSlice['ZA1994A108',:,'Maize Grain (White)','Summer',:,:,'none']] = 972000\n",
    "# Potential typo: 50000 -> 270000 (from the removed source)\n",
    "area_new.loc[2001,pd.IndexSlice['ZA1994A108',:,'Maize Grain (White)','Summer',:,:,'none']] = 270000\n",
    "# ----------------------------------------------- #\n",
    "\n",
    "# Complete long format DataFrame ---------------- #\n",
    "df_area = area_new.T.stack().rename('value').reset_index()\n",
    "df_area['indicator'] = 'area'\n",
    "df_prod = prod_new.T.stack().rename('value').reset_index()\n",
    "df_prod['indicator'] = 'production'\n",
    "df_yield = (prod_new/area_new).T.stack().rename('value').reset_index()\n",
    "df_yield['indicator'] = 'yield'\n",
    "stack = pd.concat([df_area, df_prod, df_yield], axis=0)\n",
    "# Add \"planting year\"\n",
    "cols = ['season_name','product','crop_production_system','planting_month','harvest_year','harvest_month','planting_year']\n",
    "season_table = df[cols].drop_duplicates()\n",
    "stack = stack.merge(season_table, on=cols[:-1])\n",
    "# Add country and admin names\n",
    "stack = stack.merge(df[['fnid','country','country_code','admin_1','admin_2']].drop_duplicates(), on='fnid', how='inner')\n",
    "names = [\n",
    "    'fnid','country','country_code','admin_1','admin_2','name',\n",
    "    'product','season_name','planting_year','planting_month','harvest_year','harvest_month',\n",
    "    'crop_production_system','indicator','value'\n",
    "]\n",
    "stack_gscd = stack[names]\n",
    "stack_gscd['gscd_code'] = 'calibrated'\n",
    "# ----------------------------------------------- #\n",
    "\n",
    "# Reported FDW data ----------------------------- #\n",
    "stack_fdw = df[names]\n",
    "stack_fdw['indicator'] = stack_fdw['indicator'].replace({'Area Harvested':'area','Quantity Produced':'production','Yield':'yield'})\n",
    "stack_fdw['gscd_code'] = 'reported'\n",
    "# ----------------------------------------------- #\n",
    "\n",
    "# Final Processing ------------------------------ #\n",
    "stack = pd.concat([stack_fdw,stack_gscd], axis=0).reset_index(drop=True)\n",
    "# Seperate \"Maize Grain (White)\" and \"Maize Grain (Yellow)\"\n",
    "product_category_custom = {\n",
    "    'Barley (Unspecified)':'Barley',\n",
    "    'Maize Grain (White)':'Maize (White)',\n",
    "    'Maize Grain (Yellow)':'Maize (Yellow)',\n",
    "    'Sorghum':'Sorghum',\n",
    "    'Wheat Grain':'Wheat'\n",
    "}\n",
    "stack['product'] = stack['product'].replace(product_category_custom)\n",
    "df['product'] = df['product'].replace(product_category_custom)\n",
    "for f, r in link_ratio.items():\n",
    "    mdx = pd.MultiIndex.from_frame(r.index.to_frame().reset_index(drop=True).replace(product_category_custom))\n",
    "    r.index = mdx\n",
    "    link_ratio[f] = r\n",
    "# Calibration of planting and Harvest year and season\n",
    "crop_calendar = {\n",
    "    'season_name': ['Winter','Spring'],\n",
    "    'crop_production_system':['rainfed','irrigated'],\n",
    "    'planting_month':['10-01','03-01'],\n",
    "    'harvest_month':['07-01','06-01']\n",
    "}\n",
    "cs = {\n",
    "    'Summer': {'planting_month':{'10-01':'10-01'},'harvest_month':{'04-01':'04-01'}},\n",
    "    'Winter': {'planting_month':{'04-01':'04-01'},'harvest_month':{'11-01':'11-01'}},\n",
    "}\n",
    "cy = {'Summer': {'planting_year':-1, 'harvest_year': -1}}\n",
    "stack, df, link_ratio = FDW_PD_CaliSeasonYear(stack, df, link_ratio, cs, cy)\n",
    "stack.loc[stack['admin_1'].isna(), 'admin_1'] = 'none'\n",
    "stack.loc[stack['admin_2'].isna(), 'admin_2'] = 'none'\n",
    "# # ----------------------------------------------- #\n",
    "\n",
    "# Save data\n",
    "save_hdf('./data/crop/adm_crop_production_ZA.hdf', stack)\n",
    "save_hdf('./data/crop/adm_crop_production_ZA_raw.hdf', df)\n",
    "save_npz('./data/crop/adm_crop_production_ZA_ratio.npz', link_ratio)"
   ]
  },
  {
   "cell_type": "markdown",
   "id": "bf1e7c1c-6138-4f8e-b6e3-9afa1f3b3cd2",
   "metadata": {},
   "source": [
    "## Visualization of production data"
   ]
  },
  {
   "cell_type": "code",
   "execution_count": 7,
   "id": "6f75d416-b5a8-49ce-987f-6723589512f1",
   "metadata": {},
   "outputs": [
    {
     "name": "stdout",
     "output_type": "stream",
     "text": [
      "./figures/ZA_bar_natgrainprod_Summer.png is saved.\n"
     ]
    },
    {
     "data": {
      "application/vnd.plotly.v1+json": {
       "config": {
        "plotlyServerURL": "https://plot.ly"
       },
       "data": [
        {
         "alignmentgroup": "True",
         "hovertemplate": "product=Maize (White)<br>season_name=Summer<br>type=orig_unit<br>year=%{x}<br>value=%{y}<extra></extra>",
         "legendgroup": "Maize (White)",
         "marker": {
          "color": "#636efa",
          "pattern": {
           "shape": ""
          }
         },
         "name": "Maize (White)",
         "offsetgroup": "Maize (White)",
         "orientation": "v",
         "showlegend": true,
         "textposition": "auto",
         "type": "bar",
         "x": [
          1987,
          1988,
          1989,
          1990,
          1991,
          1992,
          1993,
          1994,
          1995,
          1996,
          1997,
          1998,
          1999,
          2000,
          2001,
          2002,
          2003,
          2004,
          2005,
          2006,
          2007,
          2008,
          2009,
          2010,
          2011,
          2012,
          2013,
          2014,
          2015,
          2016,
          2017,
          2018,
          2019
         ],
         "xaxis": "x2",
         "y": [
          3573000,
          3776000,
          6367000,
          4361000,
          3829000,
          1252000,
          4416000,
          5759000,
          2120000,
          5836000,
          5209200,
          4459500,
          4457807,
          7406508,
          4109790,
          5537480,
          6365550,
          5805000,
          6540700,
          4038900,
          4315000,
          7480000,
          6775000,
          7830000,
          6052000,
          6903656,
          5606800,
          7710000,
          4735000,
          3253775,
          9916000,
          6759800,
          5538240
         ],
         "yaxis": "y2"
        },
        {
         "alignmentgroup": "True",
         "hovertemplate": "product=Maize (White)<br>season_name=Summer<br>type=percent<br>year=%{x}<br>value=%{y}<extra></extra>",
         "legendgroup": "Maize (White)",
         "marker": {
          "color": "#636efa",
          "pattern": {
           "shape": ""
          }
         },
         "name": "Maize (White)",
         "offsetgroup": "Maize (White)",
         "orientation": "v",
         "showlegend": false,
         "textposition": "auto",
         "type": "bar",
         "x": [
          1987,
          1988,
          1989,
          1990,
          1991,
          1992,
          1993,
          1994,
          1995,
          1996,
          1997,
          1998,
          1999,
          2000,
          2001,
          2002,
          2003,
          2004,
          2005,
          2006,
          2007,
          2008,
          2009,
          2010,
          2011,
          2012,
          2013,
          2014,
          2015,
          2016,
          2017,
          2018,
          2019
         ],
         "xaxis": "x",
         "y": [
          47.52653790478368,
          51.64063642161024,
          53.01052225979852,
          50.57092029450111,
          47.320543727754,
          40.8024924717446,
          47.041278295605856,
          44.488164402423294,
          43.426160164691666,
          55.13937525840677,
          50.61308563766735,
          57.67067130497756,
          56.18523075796455,
          51.724824590367845,
          54.24534403336722,
          54.772954772954776,
          64.7532192361174,
          56.978798586572445,
          54.64243943191312,
          60.63048862868723,
          57.80772734580141,
          56.62376987130961,
          53.757041974133145,
          59.28225317989097,
          56.71977507029054,
          55.7121340359997,
          46.31805039239983,
          52.165087956698244,
          46.439780306002355,
          42.33833321947776,
          58.4256422342682,
          52.00124160483964,
          48.92072985717939
         ],
         "yaxis": "y"
        },
        {
         "alignmentgroup": "True",
         "hovertemplate": "product=Maize (Yellow)<br>season_name=Summer<br>type=orig_unit<br>year=%{x}<br>value=%{y}<extra></extra>",
         "legendgroup": "Maize (Yellow)",
         "marker": {
          "color": "#EF553B",
          "pattern": {
           "shape": ""
          }
         },
         "name": "Maize (Yellow)",
         "offsetgroup": "Maize (Yellow)",
         "orientation": "v",
         "showlegend": true,
         "textposition": "auto",
         "type": "bar",
         "x": [
          1987,
          1988,
          1989,
          1990,
          1991,
          1992,
          1993,
          1994,
          1995,
          1996,
          1997,
          1998,
          1999,
          2000,
          2001,
          2002,
          2003,
          2004,
          2005,
          2006,
          2007,
          2008,
          2009,
          2010,
          2011,
          2012,
          2013,
          2014,
          2015,
          2016,
          2017,
          2018,
          2019
         ],
         "xaxis": "x2",
         "y": [
          3496000,
          2954000,
          5185000,
          3980000,
          3996000,
          1704000,
          4661000,
          6308000,
          2269250,
          3858088,
          4373000,
          2744000,
          2711944,
          5313366,
          3115350,
          4177850,
          3025900,
          3657000,
          4909300,
          2430600,
          2810000,
          5220000,
          5275000,
          4985000,
          4308000,
          5217000,
          6203800,
          6540000,
          5220000,
          4283100,
          6904000,
          6129650,
          5648080
         ],
         "yaxis": "y2"
        },
        {
         "alignmentgroup": "True",
         "hovertemplate": "product=Maize (Yellow)<br>season_name=Summer<br>type=percent<br>year=%{x}<br>value=%{y}<extra></extra>",
         "legendgroup": "Maize (Yellow)",
         "marker": {
          "color": "#EF553B",
          "pattern": {
           "shape": ""
          }
         },
         "name": "Maize (Yellow)",
         "offsetgroup": "Maize (Yellow)",
         "orientation": "v",
         "showlegend": false,
         "textposition": "auto",
         "type": "bar",
         "x": [
          1987,
          1988,
          1989,
          1990,
          1991,
          1992,
          1993,
          1994,
          1995,
          1996,
          1997,
          1998,
          1999,
          2000,
          2001,
          2002,
          2003,
          2004,
          2005,
          2006,
          2007,
          2008,
          2009,
          2010,
          2011,
          2012,
          2013,
          2014,
          2015,
          2016,
          2017,
          2018,
          2019
         ],
         "xaxis": "x",
         "y": [
          46.50231640501644,
          40.39895126838894,
          43.16939813366661,
          46.152777521695576,
          49.3844065646657,
          55.53310476985048,
          49.651131824234355,
          48.72917885926136,
          46.48340280836158,
          36.45177553323442,
          42.48848642661433,
          35.48566477427031,
          36.301416721027465,
          38.47296957262647,
          41.119675831210486,
          41.32442719399241,
          30.780807013780056,
          35.89517078916372,
          41.01336675020886,
          36.487277640171136,
          37.64535662611864,
          39.51551854655564,
          41.85511386177894,
          37.74227740763173,
          40.37488284910965,
          42.10091048363512,
          51.24989673688558,
          44.2489851150203,
          51.19654766575128,
          55.73197747611472,
          40.678765024746646,
          47.153674754150316,
          49.8909754528041
         ],
         "yaxis": "y"
        },
        {
         "alignmentgroup": "True",
         "hovertemplate": "product=Wheat<br>season_name=Summer<br>type=orig_unit<br>year=%{x}<br>value=%{y}<extra></extra>",
         "legendgroup": "Wheat",
         "marker": {
          "color": "#00cc96",
          "pattern": {
           "shape": ""
          }
         },
         "name": "Wheat",
         "offsetgroup": "Wheat",
         "orientation": "v",
         "showlegend": true,
         "textposition": "auto",
         "type": "bar",
         "x": [
          1994,
          1995,
          1996,
          1997,
          1998,
          1999,
          2000,
          2001,
          2002,
          2003,
          2004,
          2005,
          2006,
          2007,
          2008,
          2009,
          2010,
          2011,
          2012,
          2013,
          2014,
          2015,
          2016
         ],
         "xaxis": "x2",
         "y": [
          439008,
          246300,
          445000,
          355000,
          264600,
          155950,
          352450,
          175580,
          197275,
          219513.5,
          363000,
          260000,
          96000,
          169700,
          255000,
          276500,
          196500,
          155000,
          135500,
          147200,
          265000,
          120500,
          74150
         ],
         "yaxis": "y2"
        },
        {
         "alignmentgroup": "True",
         "hovertemplate": "product=Wheat<br>season_name=Summer<br>type=percent<br>year=%{x}<br>value=%{y}<extra></extra>",
         "legendgroup": "Wheat",
         "marker": {
          "color": "#00cc96",
          "pattern": {
           "shape": ""
          }
         },
         "name": "Wheat",
         "offsetgroup": "Wheat",
         "orientation": "v",
         "showlegend": false,
         "textposition": "auto",
         "type": "bar",
         "x": [
          1994,
          1995,
          1996,
          1997,
          1998,
          1999,
          2000,
          2001,
          2002,
          2003,
          2004,
          2005,
          2006,
          2007,
          2008,
          2009,
          2010,
          2011,
          2012,
          2013,
          2014,
          2015,
          2016
         ],
         "xaxis": "x",
         "y": [
          3.3913283691576743,
          5.045218513473375,
          4.204424604179406,
          3.449213967859156,
          3.421831960376065,
          3.7566762605039994,
          4.901102918502842,
          2.3174900677111516,
          1.9513090165264078,
          2.2329894181629952,
          3.5630153121319204,
          2.172096908939014,
          1.4411168655708173,
          2.2734580140399765,
          1.9303557910673734,
          2.1939220820439576,
          1.4877347062386432,
          1.4526710402999063,
          1.0934777401825875,
          1.2160264353572905,
          1.7929634641407306,
          1.1818360141231856,
          0.9648446522037559
         ],
         "yaxis": "y"
        },
        {
         "alignmentgroup": "True",
         "hovertemplate": "product=Sorghum<br>season_name=Summer<br>type=orig_unit<br>year=%{x}<br>value=%{y}<extra></extra>",
         "legendgroup": "Sorghum",
         "marker": {
          "color": "#ab63fa",
          "pattern": {
           "shape": ""
          }
         },
         "name": "Sorghum",
         "offsetgroup": "Sorghum",
         "orientation": "v",
         "showlegend": true,
         "textposition": "auto",
         "type": "bar",
         "x": [
          1987,
          1988,
          1989,
          1990,
          1991,
          1992,
          1993,
          1994,
          1995,
          1996,
          1997,
          1998,
          1999,
          2000,
          2001,
          2002,
          2003,
          2004,
          2005,
          2006,
          2007,
          2008,
          2009,
          2010,
          2011,
          2012,
          2013,
          2014,
          2015,
          2016,
          2017,
          2018,
          2019
         ],
         "xaxis": "x2",
         "y": [
          897810.12847295,
          582071,
          458823,
          282533,
          266623,
          112440,
          310500,
          439008,
          246300,
          445000,
          355000,
          264600,
          155950,
          352450,
          175580,
          197275,
          219513,
          363000,
          260000,
          96000,
          169700,
          255000,
          276500,
          196500,
          155000,
          135500,
          147200,
          265000,
          120500,
          74150,
          152000,
          109855,
          134525
         ],
         "yaxis": "y2"
        },
        {
         "alignmentgroup": "True",
         "hovertemplate": "product=Sorghum<br>season_name=Summer<br>type=percent<br>year=%{x}<br>value=%{y}<extra></extra>",
         "legendgroup": "Sorghum",
         "marker": {
          "color": "#ab63fa",
          "pattern": {
           "shape": ""
          }
         },
         "name": "Sorghum",
         "offsetgroup": "Sorghum",
         "orientation": "v",
         "showlegend": false,
         "textposition": "auto",
         "type": "bar",
         "x": [
          1987,
          1988,
          1989,
          1990,
          1991,
          1992,
          1993,
          1994,
          1995,
          1996,
          1997,
          1998,
          1999,
          2000,
          2001,
          2002,
          2003,
          2004,
          2005,
          2006,
          2007,
          2008,
          2009,
          2010,
          2011,
          2012,
          2013,
          2014,
          2015,
          2016,
          2017,
          2018,
          2019
         ],
         "xaxis": "x",
         "y": [
          5.971145690199883,
          7.9604123100008195,
          3.8200796065348728,
          3.276302183803321,
          3.2950497075802962,
          3.664402758404922,
          3.307589880159787,
          3.3913283691576743,
          5.045218513473375,
          4.204424604179406,
          3.449213967859156,
          3.421831960376065,
          3.7566762605039994,
          4.901102918502842,
          2.3174900677111516,
          1.9513090165264078,
          2.2329843319395555,
          3.5630153121319204,
          2.172096908939014,
          1.4411168655708173,
          2.2734580140399765,
          1.9303557910673734,
          2.1939220820439576,
          1.4877347062386432,
          1.4526710402999063,
          1.0934777401825875,
          1.2160264353572905,
          1.7929634641407306,
          1.1818360141231856,
          0.9648446522037559,
          0.895592740985152,
          0.8450836410100385,
          1.1882946900165137
         ],
         "yaxis": "y"
        }
       ],
       "layout": {
        "annotations": [
         {
          "showarrow": false,
          "text": "",
          "textangle": 90,
          "x": 0.98,
          "xanchor": "left",
          "xref": "paper",
          "y": 0.2375,
          "yanchor": "middle",
          "yref": "paper"
         },
         {
          "showarrow": false,
          "text": "",
          "textangle": 90,
          "x": 0.98,
          "xanchor": "left",
          "xref": "paper",
          "y": 0.7625,
          "yanchor": "middle",
          "yref": "paper"
         },
         {
          "align": "left",
          "font": {
           "color": "dimgrey",
           "family": "arial",
           "size": 15
          },
          "showarrow": false,
          "text": "National grain production in South Africa - Summer",
          "x": 0,
          "xref": "paper",
          "y": -0.13,
          "yref": "paper"
         }
        ],
        "barmode": "relative",
        "font": {
         "color": "black",
         "family": "arial",
         "size": 15
        },
        "height": 600,
        "legend": {
         "title": {
          "text": "Product"
         },
         "tracegroupgap": 0,
         "x": 1,
         "y": 1.01
        },
        "margin": {
         "b": 0,
         "l": 0,
         "r": 0,
         "t": 0
        },
        "template": {
         "data": {
          "bar": [
           {
            "error_x": {
             "color": "#2a3f5f"
            },
            "error_y": {
             "color": "#2a3f5f"
            },
            "marker": {
             "line": {
              "color": "#E5ECF6",
              "width": 0.5
             },
             "pattern": {
              "fillmode": "overlay",
              "size": 10,
              "solidity": 0.2
             }
            },
            "type": "bar"
           }
          ],
          "barpolar": [
           {
            "marker": {
             "line": {
              "color": "#E5ECF6",
              "width": 0.5
             },
             "pattern": {
              "fillmode": "overlay",
              "size": 10,
              "solidity": 0.2
             }
            },
            "type": "barpolar"
           }
          ],
          "carpet": [
           {
            "aaxis": {
             "endlinecolor": "#2a3f5f",
             "gridcolor": "white",
             "linecolor": "white",
             "minorgridcolor": "white",
             "startlinecolor": "#2a3f5f"
            },
            "baxis": {
             "endlinecolor": "#2a3f5f",
             "gridcolor": "white",
             "linecolor": "white",
             "minorgridcolor": "white",
             "startlinecolor": "#2a3f5f"
            },
            "type": "carpet"
           }
          ],
          "choropleth": [
           {
            "colorbar": {
             "outlinewidth": 0,
             "ticks": ""
            },
            "type": "choropleth"
           }
          ],
          "contour": [
           {
            "colorbar": {
             "outlinewidth": 0,
             "ticks": ""
            },
            "colorscale": [
             [
              0,
              "#0d0887"
             ],
             [
              0.1111111111111111,
              "#46039f"
             ],
             [
              0.2222222222222222,
              "#7201a8"
             ],
             [
              0.3333333333333333,
              "#9c179e"
             ],
             [
              0.4444444444444444,
              "#bd3786"
             ],
             [
              0.5555555555555556,
              "#d8576b"
             ],
             [
              0.6666666666666666,
              "#ed7953"
             ],
             [
              0.7777777777777778,
              "#fb9f3a"
             ],
             [
              0.8888888888888888,
              "#fdca26"
             ],
             [
              1,
              "#f0f921"
             ]
            ],
            "type": "contour"
           }
          ],
          "contourcarpet": [
           {
            "colorbar": {
             "outlinewidth": 0,
             "ticks": ""
            },
            "type": "contourcarpet"
           }
          ],
          "heatmap": [
           {
            "colorbar": {
             "outlinewidth": 0,
             "ticks": ""
            },
            "colorscale": [
             [
              0,
              "#0d0887"
             ],
             [
              0.1111111111111111,
              "#46039f"
             ],
             [
              0.2222222222222222,
              "#7201a8"
             ],
             [
              0.3333333333333333,
              "#9c179e"
             ],
             [
              0.4444444444444444,
              "#bd3786"
             ],
             [
              0.5555555555555556,
              "#d8576b"
             ],
             [
              0.6666666666666666,
              "#ed7953"
             ],
             [
              0.7777777777777778,
              "#fb9f3a"
             ],
             [
              0.8888888888888888,
              "#fdca26"
             ],
             [
              1,
              "#f0f921"
             ]
            ],
            "type": "heatmap"
           }
          ],
          "heatmapgl": [
           {
            "colorbar": {
             "outlinewidth": 0,
             "ticks": ""
            },
            "colorscale": [
             [
              0,
              "#0d0887"
             ],
             [
              0.1111111111111111,
              "#46039f"
             ],
             [
              0.2222222222222222,
              "#7201a8"
             ],
             [
              0.3333333333333333,
              "#9c179e"
             ],
             [
              0.4444444444444444,
              "#bd3786"
             ],
             [
              0.5555555555555556,
              "#d8576b"
             ],
             [
              0.6666666666666666,
              "#ed7953"
             ],
             [
              0.7777777777777778,
              "#fb9f3a"
             ],
             [
              0.8888888888888888,
              "#fdca26"
             ],
             [
              1,
              "#f0f921"
             ]
            ],
            "type": "heatmapgl"
           }
          ],
          "histogram": [
           {
            "marker": {
             "pattern": {
              "fillmode": "overlay",
              "size": 10,
              "solidity": 0.2
             }
            },
            "type": "histogram"
           }
          ],
          "histogram2d": [
           {
            "colorbar": {
             "outlinewidth": 0,
             "ticks": ""
            },
            "colorscale": [
             [
              0,
              "#0d0887"
             ],
             [
              0.1111111111111111,
              "#46039f"
             ],
             [
              0.2222222222222222,
              "#7201a8"
             ],
             [
              0.3333333333333333,
              "#9c179e"
             ],
             [
              0.4444444444444444,
              "#bd3786"
             ],
             [
              0.5555555555555556,
              "#d8576b"
             ],
             [
              0.6666666666666666,
              "#ed7953"
             ],
             [
              0.7777777777777778,
              "#fb9f3a"
             ],
             [
              0.8888888888888888,
              "#fdca26"
             ],
             [
              1,
              "#f0f921"
             ]
            ],
            "type": "histogram2d"
           }
          ],
          "histogram2dcontour": [
           {
            "colorbar": {
             "outlinewidth": 0,
             "ticks": ""
            },
            "colorscale": [
             [
              0,
              "#0d0887"
             ],
             [
              0.1111111111111111,
              "#46039f"
             ],
             [
              0.2222222222222222,
              "#7201a8"
             ],
             [
              0.3333333333333333,
              "#9c179e"
             ],
             [
              0.4444444444444444,
              "#bd3786"
             ],
             [
              0.5555555555555556,
              "#d8576b"
             ],
             [
              0.6666666666666666,
              "#ed7953"
             ],
             [
              0.7777777777777778,
              "#fb9f3a"
             ],
             [
              0.8888888888888888,
              "#fdca26"
             ],
             [
              1,
              "#f0f921"
             ]
            ],
            "type": "histogram2dcontour"
           }
          ],
          "mesh3d": [
           {
            "colorbar": {
             "outlinewidth": 0,
             "ticks": ""
            },
            "type": "mesh3d"
           }
          ],
          "parcoords": [
           {
            "line": {
             "colorbar": {
              "outlinewidth": 0,
              "ticks": ""
             }
            },
            "type": "parcoords"
           }
          ],
          "pie": [
           {
            "automargin": true,
            "type": "pie"
           }
          ],
          "scatter": [
           {
            "fillpattern": {
             "fillmode": "overlay",
             "size": 10,
             "solidity": 0.2
            },
            "type": "scatter"
           }
          ],
          "scatter3d": [
           {
            "line": {
             "colorbar": {
              "outlinewidth": 0,
              "ticks": ""
             }
            },
            "marker": {
             "colorbar": {
              "outlinewidth": 0,
              "ticks": ""
             }
            },
            "type": "scatter3d"
           }
          ],
          "scattercarpet": [
           {
            "marker": {
             "colorbar": {
              "outlinewidth": 0,
              "ticks": ""
             }
            },
            "type": "scattercarpet"
           }
          ],
          "scattergeo": [
           {
            "marker": {
             "colorbar": {
              "outlinewidth": 0,
              "ticks": ""
             }
            },
            "type": "scattergeo"
           }
          ],
          "scattergl": [
           {
            "marker": {
             "colorbar": {
              "outlinewidth": 0,
              "ticks": ""
             }
            },
            "type": "scattergl"
           }
          ],
          "scattermapbox": [
           {
            "marker": {
             "colorbar": {
              "outlinewidth": 0,
              "ticks": ""
             }
            },
            "type": "scattermapbox"
           }
          ],
          "scatterpolar": [
           {
            "marker": {
             "colorbar": {
              "outlinewidth": 0,
              "ticks": ""
             }
            },
            "type": "scatterpolar"
           }
          ],
          "scatterpolargl": [
           {
            "marker": {
             "colorbar": {
              "outlinewidth": 0,
              "ticks": ""
             }
            },
            "type": "scatterpolargl"
           }
          ],
          "scatterternary": [
           {
            "marker": {
             "colorbar": {
              "outlinewidth": 0,
              "ticks": ""
             }
            },
            "type": "scatterternary"
           }
          ],
          "surface": [
           {
            "colorbar": {
             "outlinewidth": 0,
             "ticks": ""
            },
            "colorscale": [
             [
              0,
              "#0d0887"
             ],
             [
              0.1111111111111111,
              "#46039f"
             ],
             [
              0.2222222222222222,
              "#7201a8"
             ],
             [
              0.3333333333333333,
              "#9c179e"
             ],
             [
              0.4444444444444444,
              "#bd3786"
             ],
             [
              0.5555555555555556,
              "#d8576b"
             ],
             [
              0.6666666666666666,
              "#ed7953"
             ],
             [
              0.7777777777777778,
              "#fb9f3a"
             ],
             [
              0.8888888888888888,
              "#fdca26"
             ],
             [
              1,
              "#f0f921"
             ]
            ],
            "type": "surface"
           }
          ],
          "table": [
           {
            "cells": {
             "fill": {
              "color": "#EBF0F8"
             },
             "line": {
              "color": "white"
             }
            },
            "header": {
             "fill": {
              "color": "#C8D4E3"
             },
             "line": {
              "color": "white"
             }
            },
            "type": "table"
           }
          ]
         },
         "layout": {
          "annotationdefaults": {
           "arrowcolor": "#2a3f5f",
           "arrowhead": 0,
           "arrowwidth": 1
          },
          "autotypenumbers": "strict",
          "coloraxis": {
           "colorbar": {
            "outlinewidth": 0,
            "ticks": ""
           }
          },
          "colorscale": {
           "diverging": [
            [
             0,
             "#8e0152"
            ],
            [
             0.1,
             "#c51b7d"
            ],
            [
             0.2,
             "#de77ae"
            ],
            [
             0.3,
             "#f1b6da"
            ],
            [
             0.4,
             "#fde0ef"
            ],
            [
             0.5,
             "#f7f7f7"
            ],
            [
             0.6,
             "#e6f5d0"
            ],
            [
             0.7,
             "#b8e186"
            ],
            [
             0.8,
             "#7fbc41"
            ],
            [
             0.9,
             "#4d9221"
            ],
            [
             1,
             "#276419"
            ]
           ],
           "sequential": [
            [
             0,
             "#0d0887"
            ],
            [
             0.1111111111111111,
             "#46039f"
            ],
            [
             0.2222222222222222,
             "#7201a8"
            ],
            [
             0.3333333333333333,
             "#9c179e"
            ],
            [
             0.4444444444444444,
             "#bd3786"
            ],
            [
             0.5555555555555556,
             "#d8576b"
            ],
            [
             0.6666666666666666,
             "#ed7953"
            ],
            [
             0.7777777777777778,
             "#fb9f3a"
            ],
            [
             0.8888888888888888,
             "#fdca26"
            ],
            [
             1,
             "#f0f921"
            ]
           ],
           "sequentialminus": [
            [
             0,
             "#0d0887"
            ],
            [
             0.1111111111111111,
             "#46039f"
            ],
            [
             0.2222222222222222,
             "#7201a8"
            ],
            [
             0.3333333333333333,
             "#9c179e"
            ],
            [
             0.4444444444444444,
             "#bd3786"
            ],
            [
             0.5555555555555556,
             "#d8576b"
            ],
            [
             0.6666666666666666,
             "#ed7953"
            ],
            [
             0.7777777777777778,
             "#fb9f3a"
            ],
            [
             0.8888888888888888,
             "#fdca26"
            ],
            [
             1,
             "#f0f921"
            ]
           ]
          },
          "colorway": [
           "#636efa",
           "#EF553B",
           "#00cc96",
           "#ab63fa",
           "#FFA15A",
           "#19d3f3",
           "#FF6692",
           "#B6E880",
           "#FF97FF",
           "#FECB52"
          ],
          "font": {
           "color": "#2a3f5f"
          },
          "geo": {
           "bgcolor": "white",
           "lakecolor": "white",
           "landcolor": "#E5ECF6",
           "showlakes": true,
           "showland": true,
           "subunitcolor": "white"
          },
          "hoverlabel": {
           "align": "left"
          },
          "hovermode": "closest",
          "mapbox": {
           "style": "light"
          },
          "paper_bgcolor": "white",
          "plot_bgcolor": "#E5ECF6",
          "polar": {
           "angularaxis": {
            "gridcolor": "white",
            "linecolor": "white",
            "ticks": ""
           },
           "bgcolor": "#E5ECF6",
           "radialaxis": {
            "gridcolor": "white",
            "linecolor": "white",
            "ticks": ""
           }
          },
          "scene": {
           "xaxis": {
            "backgroundcolor": "#E5ECF6",
            "gridcolor": "white",
            "gridwidth": 2,
            "linecolor": "white",
            "showbackground": true,
            "ticks": "",
            "zerolinecolor": "white"
           },
           "yaxis": {
            "backgroundcolor": "#E5ECF6",
            "gridcolor": "white",
            "gridwidth": 2,
            "linecolor": "white",
            "showbackground": true,
            "ticks": "",
            "zerolinecolor": "white"
           },
           "zaxis": {
            "backgroundcolor": "#E5ECF6",
            "gridcolor": "white",
            "gridwidth": 2,
            "linecolor": "white",
            "showbackground": true,
            "ticks": "",
            "zerolinecolor": "white"
           }
          },
          "shapedefaults": {
           "line": {
            "color": "#2a3f5f"
           }
          },
          "ternary": {
           "aaxis": {
            "gridcolor": "white",
            "linecolor": "white",
            "ticks": ""
           },
           "baxis": {
            "gridcolor": "white",
            "linecolor": "white",
            "ticks": ""
           },
           "bgcolor": "#E5ECF6",
           "caxis": {
            "gridcolor": "white",
            "linecolor": "white",
            "ticks": ""
           }
          },
          "title": {
           "x": 0.05
          },
          "xaxis": {
           "automargin": true,
           "gridcolor": "white",
           "linecolor": "white",
           "ticks": "",
           "title": {
            "standoff": 15
           },
           "zerolinecolor": "white",
           "zerolinewidth": 2
          },
          "yaxis": {
           "automargin": true,
           "gridcolor": "white",
           "linecolor": "white",
           "ticks": "",
           "title": {
            "standoff": 15
           },
           "zerolinecolor": "white",
           "zerolinewidth": 2
          }
         }
        },
        "width": 900,
        "xaxis": {
         "anchor": "y",
         "domain": [
          0,
          0.98
         ],
         "dtick": 1,
         "range": [
          1978.5,
          2019.5
         ],
         "title": {
          "text": ""
         }
        },
        "xaxis2": {
         "anchor": "y2",
         "domain": [
          0,
          0.98
         ],
         "matches": "x",
         "showticklabels": false
        },
        "yaxis": {
         "anchor": "x",
         "domain": [
          0,
          0.475
         ],
         "range": [
          0,
          100
         ],
         "title": {
          "text": "Production (%)"
         }
        },
        "yaxis2": {
         "anchor": "x2",
         "domain": [
          0.525,
          1
         ],
         "title": {
          "text": "Production (t)"
         }
        }
       }
      }
     },
     "metadata": {},
     "output_type": "display_data"
    },
    {
     "name": "stdout",
     "output_type": "stream",
     "text": [
      "./figures/ZA_bar_natgrainprod_Winter.png is saved.\n"
     ]
    },
    {
     "data": {
      "application/vnd.plotly.v1+json": {
       "config": {
        "plotlyServerURL": "https://plot.ly"
       },
       "data": [
        {
         "alignmentgroup": "True",
         "hovertemplate": "product=Wheat<br>season_name=Winter<br>type=orig_unit<br>year=%{x}<br>value=%{y}<extra></extra>",
         "legendgroup": "Wheat",
         "marker": {
          "color": "#00cc96",
          "pattern": {
           "shape": ""
          }
         },
         "name": "Wheat",
         "offsetgroup": "Wheat",
         "orientation": "v",
         "showlegend": true,
         "textposition": "auto",
         "type": "bar",
         "x": [
          1979,
          1980,
          1981,
          1982,
          1983,
          1984,
          1985,
          1986,
          1987,
          1988,
          1989,
          1990,
          1991,
          1992,
          1993,
          1994,
          1995,
          1996,
          1997,
          1998,
          1999,
          2000,
          2001,
          2002,
          2003,
          2004,
          2005,
          2006,
          2007,
          2008,
          2009,
          2010,
          2011,
          2012,
          2013,
          2014,
          2015,
          2016,
          2017
         ],
         "xaxis": "x2",
         "y": [
          2088354,
          1469664,
          2339000,
          2420000,
          1774255,
          2332813,
          1679892,
          2320810,
          3135101,
          3598400,
          2002869,
          1702371,
          2132985,
          1316073,
          1975344,
          1832241,
          1968512,
          2700000,
          2492000,
          1683000,
          1769100,
          2348550,
          2450000,
          2427000,
          1540000,
          1680000,
          1905000,
          2105000,
          1905000,
          2130000,
          1958000,
          1430000,
          2005000,
          1870000,
          1870000,
          1750000,
          1457015,
          1909540,
          1521750
         ],
         "yaxis": "y2"
        },
        {
         "alignmentgroup": "True",
         "hovertemplate": "product=Wheat<br>season_name=Winter<br>type=percent<br>year=%{x}<br>value=%{y}<extra></extra>",
         "legendgroup": "Wheat",
         "marker": {
          "color": "#00cc96",
          "pattern": {
           "shape": ""
          }
         },
         "name": "Wheat",
         "offsetgroup": "Wheat",
         "orientation": "v",
         "showlegend": false,
         "textposition": "auto",
         "type": "bar",
         "x": [
          1979,
          1980,
          1981,
          1982,
          1983,
          1984,
          1985,
          1986,
          1987,
          1988,
          1989,
          1990,
          1991,
          1992,
          1993,
          1994,
          1995,
          1996,
          1997,
          1998,
          1999,
          2000,
          2001,
          2002,
          2003,
          2004,
          2005,
          2006,
          2007,
          2008,
          2009,
          2010,
          2011,
          2012,
          2013,
          2014,
          2015,
          2016,
          2017
         ],
         "xaxis": "x",
         "y": [
          100,
          100,
          100,
          100,
          100,
          100,
          100,
          100,
          100,
          100,
          100,
          100,
          100,
          100,
          100,
          100,
          100,
          100,
          92.94033841919375,
          88.66761498340445,
          95.11801709769342,
          94.97283515274792,
          93.98672907385478,
          92.93972129571834,
          86.51685393258427,
          90.0804289544236,
          89.43661971830986,
          89.91883810337463,
          89.54171562867215,
          91.7312661498708,
          90.06439742410303,
          88.05418719211822,
          86.5343116098403,
          86.25461254612546,
          87.48538011695906,
          85.28265107212476,
          81.37984615625217,
          100,
          100
         ],
         "yaxis": "y"
        },
        {
         "alignmentgroup": "True",
         "hovertemplate": "product=Barley<br>season_name=Winter<br>type=orig_unit<br>year=%{x}<br>value=%{y}<extra></extra>",
         "legendgroup": "Barley",
         "marker": {
          "color": "#FFA15A",
          "pattern": {
           "shape": ""
          }
         },
         "name": "Barley",
         "offsetgroup": "Barley",
         "orientation": "v",
         "showlegend": true,
         "textposition": "auto",
         "type": "bar",
         "x": [
          1997,
          1998,
          1999,
          2000,
          2001,
          2002,
          2003,
          2004,
          2005,
          2006,
          2007,
          2008,
          2009,
          2010,
          2011,
          2012,
          2013,
          2014,
          2015
         ],
         "xaxis": "x2",
         "y": [
          189290,
          215100,
          90800,
          124590,
          156751,
          184370,
          240000,
          185000,
          225000,
          236000,
          222500,
          192000,
          216000,
          194000,
          312000,
          298000,
          267500,
          302000,
          333373
         ],
         "yaxis": "y2"
        },
        {
         "alignmentgroup": "True",
         "hovertemplate": "product=Barley<br>season_name=Winter<br>type=percent<br>year=%{x}<br>value=%{y}<extra></extra>",
         "legendgroup": "Barley",
         "marker": {
          "color": "#FFA15A",
          "pattern": {
           "shape": ""
          }
         },
         "name": "Barley",
         "offsetgroup": "Barley",
         "orientation": "v",
         "showlegend": false,
         "textposition": "auto",
         "type": "bar",
         "x": [
          1997,
          1998,
          1999,
          2000,
          2001,
          2002,
          2003,
          2004,
          2005,
          2006,
          2007,
          2008,
          2009,
          2010,
          2011,
          2012,
          2013,
          2014,
          2015
         ],
         "xaxis": "x",
         "y": [
          7.059661580806253,
          11.332385016595543,
          4.881982902306575,
          5.027164847252074,
          6.013270926145228,
          7.060278704281661,
          13.48314606741573,
          9.919571045576408,
          10.56338028169014,
          10.081161896625373,
          10.45828437132785,
          8.2687338501292,
          9.935602575896963,
          11.945812807881774,
          13.465688390159688,
          13.745387453874539,
          12.514619883040936,
          14.717348927875243,
          18.620153843747836
         ],
         "yaxis": "y"
        }
       ],
       "layout": {
        "annotations": [
         {
          "showarrow": false,
          "text": "",
          "textangle": 90,
          "x": 0.98,
          "xanchor": "left",
          "xref": "paper",
          "y": 0.2375,
          "yanchor": "middle",
          "yref": "paper"
         },
         {
          "showarrow": false,
          "text": "",
          "textangle": 90,
          "x": 0.98,
          "xanchor": "left",
          "xref": "paper",
          "y": 0.7625,
          "yanchor": "middle",
          "yref": "paper"
         },
         {
          "align": "left",
          "font": {
           "color": "dimgrey",
           "family": "arial",
           "size": 15
          },
          "showarrow": false,
          "text": "National grain production in South Africa - Winter",
          "x": 0,
          "xref": "paper",
          "y": -0.13,
          "yref": "paper"
         }
        ],
        "barmode": "relative",
        "font": {
         "color": "black",
         "family": "arial",
         "size": 15
        },
        "height": 600,
        "legend": {
         "title": {
          "text": "Product"
         },
         "tracegroupgap": 0,
         "x": 1,
         "y": 1.01
        },
        "margin": {
         "b": 0,
         "l": 0,
         "r": 0,
         "t": 0
        },
        "template": {
         "data": {
          "bar": [
           {
            "error_x": {
             "color": "#2a3f5f"
            },
            "error_y": {
             "color": "#2a3f5f"
            },
            "marker": {
             "line": {
              "color": "#E5ECF6",
              "width": 0.5
             },
             "pattern": {
              "fillmode": "overlay",
              "size": 10,
              "solidity": 0.2
             }
            },
            "type": "bar"
           }
          ],
          "barpolar": [
           {
            "marker": {
             "line": {
              "color": "#E5ECF6",
              "width": 0.5
             },
             "pattern": {
              "fillmode": "overlay",
              "size": 10,
              "solidity": 0.2
             }
            },
            "type": "barpolar"
           }
          ],
          "carpet": [
           {
            "aaxis": {
             "endlinecolor": "#2a3f5f",
             "gridcolor": "white",
             "linecolor": "white",
             "minorgridcolor": "white",
             "startlinecolor": "#2a3f5f"
            },
            "baxis": {
             "endlinecolor": "#2a3f5f",
             "gridcolor": "white",
             "linecolor": "white",
             "minorgridcolor": "white",
             "startlinecolor": "#2a3f5f"
            },
            "type": "carpet"
           }
          ],
          "choropleth": [
           {
            "colorbar": {
             "outlinewidth": 0,
             "ticks": ""
            },
            "type": "choropleth"
           }
          ],
          "contour": [
           {
            "colorbar": {
             "outlinewidth": 0,
             "ticks": ""
            },
            "colorscale": [
             [
              0,
              "#0d0887"
             ],
             [
              0.1111111111111111,
              "#46039f"
             ],
             [
              0.2222222222222222,
              "#7201a8"
             ],
             [
              0.3333333333333333,
              "#9c179e"
             ],
             [
              0.4444444444444444,
              "#bd3786"
             ],
             [
              0.5555555555555556,
              "#d8576b"
             ],
             [
              0.6666666666666666,
              "#ed7953"
             ],
             [
              0.7777777777777778,
              "#fb9f3a"
             ],
             [
              0.8888888888888888,
              "#fdca26"
             ],
             [
              1,
              "#f0f921"
             ]
            ],
            "type": "contour"
           }
          ],
          "contourcarpet": [
           {
            "colorbar": {
             "outlinewidth": 0,
             "ticks": ""
            },
            "type": "contourcarpet"
           }
          ],
          "heatmap": [
           {
            "colorbar": {
             "outlinewidth": 0,
             "ticks": ""
            },
            "colorscale": [
             [
              0,
              "#0d0887"
             ],
             [
              0.1111111111111111,
              "#46039f"
             ],
             [
              0.2222222222222222,
              "#7201a8"
             ],
             [
              0.3333333333333333,
              "#9c179e"
             ],
             [
              0.4444444444444444,
              "#bd3786"
             ],
             [
              0.5555555555555556,
              "#d8576b"
             ],
             [
              0.6666666666666666,
              "#ed7953"
             ],
             [
              0.7777777777777778,
              "#fb9f3a"
             ],
             [
              0.8888888888888888,
              "#fdca26"
             ],
             [
              1,
              "#f0f921"
             ]
            ],
            "type": "heatmap"
           }
          ],
          "heatmapgl": [
           {
            "colorbar": {
             "outlinewidth": 0,
             "ticks": ""
            },
            "colorscale": [
             [
              0,
              "#0d0887"
             ],
             [
              0.1111111111111111,
              "#46039f"
             ],
             [
              0.2222222222222222,
              "#7201a8"
             ],
             [
              0.3333333333333333,
              "#9c179e"
             ],
             [
              0.4444444444444444,
              "#bd3786"
             ],
             [
              0.5555555555555556,
              "#d8576b"
             ],
             [
              0.6666666666666666,
              "#ed7953"
             ],
             [
              0.7777777777777778,
              "#fb9f3a"
             ],
             [
              0.8888888888888888,
              "#fdca26"
             ],
             [
              1,
              "#f0f921"
             ]
            ],
            "type": "heatmapgl"
           }
          ],
          "histogram": [
           {
            "marker": {
             "pattern": {
              "fillmode": "overlay",
              "size": 10,
              "solidity": 0.2
             }
            },
            "type": "histogram"
           }
          ],
          "histogram2d": [
           {
            "colorbar": {
             "outlinewidth": 0,
             "ticks": ""
            },
            "colorscale": [
             [
              0,
              "#0d0887"
             ],
             [
              0.1111111111111111,
              "#46039f"
             ],
             [
              0.2222222222222222,
              "#7201a8"
             ],
             [
              0.3333333333333333,
              "#9c179e"
             ],
             [
              0.4444444444444444,
              "#bd3786"
             ],
             [
              0.5555555555555556,
              "#d8576b"
             ],
             [
              0.6666666666666666,
              "#ed7953"
             ],
             [
              0.7777777777777778,
              "#fb9f3a"
             ],
             [
              0.8888888888888888,
              "#fdca26"
             ],
             [
              1,
              "#f0f921"
             ]
            ],
            "type": "histogram2d"
           }
          ],
          "histogram2dcontour": [
           {
            "colorbar": {
             "outlinewidth": 0,
             "ticks": ""
            },
            "colorscale": [
             [
              0,
              "#0d0887"
             ],
             [
              0.1111111111111111,
              "#46039f"
             ],
             [
              0.2222222222222222,
              "#7201a8"
             ],
             [
              0.3333333333333333,
              "#9c179e"
             ],
             [
              0.4444444444444444,
              "#bd3786"
             ],
             [
              0.5555555555555556,
              "#d8576b"
             ],
             [
              0.6666666666666666,
              "#ed7953"
             ],
             [
              0.7777777777777778,
              "#fb9f3a"
             ],
             [
              0.8888888888888888,
              "#fdca26"
             ],
             [
              1,
              "#f0f921"
             ]
            ],
            "type": "histogram2dcontour"
           }
          ],
          "mesh3d": [
           {
            "colorbar": {
             "outlinewidth": 0,
             "ticks": ""
            },
            "type": "mesh3d"
           }
          ],
          "parcoords": [
           {
            "line": {
             "colorbar": {
              "outlinewidth": 0,
              "ticks": ""
             }
            },
            "type": "parcoords"
           }
          ],
          "pie": [
           {
            "automargin": true,
            "type": "pie"
           }
          ],
          "scatter": [
           {
            "fillpattern": {
             "fillmode": "overlay",
             "size": 10,
             "solidity": 0.2
            },
            "type": "scatter"
           }
          ],
          "scatter3d": [
           {
            "line": {
             "colorbar": {
              "outlinewidth": 0,
              "ticks": ""
             }
            },
            "marker": {
             "colorbar": {
              "outlinewidth": 0,
              "ticks": ""
             }
            },
            "type": "scatter3d"
           }
          ],
          "scattercarpet": [
           {
            "marker": {
             "colorbar": {
              "outlinewidth": 0,
              "ticks": ""
             }
            },
            "type": "scattercarpet"
           }
          ],
          "scattergeo": [
           {
            "marker": {
             "colorbar": {
              "outlinewidth": 0,
              "ticks": ""
             }
            },
            "type": "scattergeo"
           }
          ],
          "scattergl": [
           {
            "marker": {
             "colorbar": {
              "outlinewidth": 0,
              "ticks": ""
             }
            },
            "type": "scattergl"
           }
          ],
          "scattermapbox": [
           {
            "marker": {
             "colorbar": {
              "outlinewidth": 0,
              "ticks": ""
             }
            },
            "type": "scattermapbox"
           }
          ],
          "scatterpolar": [
           {
            "marker": {
             "colorbar": {
              "outlinewidth": 0,
              "ticks": ""
             }
            },
            "type": "scatterpolar"
           }
          ],
          "scatterpolargl": [
           {
            "marker": {
             "colorbar": {
              "outlinewidth": 0,
              "ticks": ""
             }
            },
            "type": "scatterpolargl"
           }
          ],
          "scatterternary": [
           {
            "marker": {
             "colorbar": {
              "outlinewidth": 0,
              "ticks": ""
             }
            },
            "type": "scatterternary"
           }
          ],
          "surface": [
           {
            "colorbar": {
             "outlinewidth": 0,
             "ticks": ""
            },
            "colorscale": [
             [
              0,
              "#0d0887"
             ],
             [
              0.1111111111111111,
              "#46039f"
             ],
             [
              0.2222222222222222,
              "#7201a8"
             ],
             [
              0.3333333333333333,
              "#9c179e"
             ],
             [
              0.4444444444444444,
              "#bd3786"
             ],
             [
              0.5555555555555556,
              "#d8576b"
             ],
             [
              0.6666666666666666,
              "#ed7953"
             ],
             [
              0.7777777777777778,
              "#fb9f3a"
             ],
             [
              0.8888888888888888,
              "#fdca26"
             ],
             [
              1,
              "#f0f921"
             ]
            ],
            "type": "surface"
           }
          ],
          "table": [
           {
            "cells": {
             "fill": {
              "color": "#EBF0F8"
             },
             "line": {
              "color": "white"
             }
            },
            "header": {
             "fill": {
              "color": "#C8D4E3"
             },
             "line": {
              "color": "white"
             }
            },
            "type": "table"
           }
          ]
         },
         "layout": {
          "annotationdefaults": {
           "arrowcolor": "#2a3f5f",
           "arrowhead": 0,
           "arrowwidth": 1
          },
          "autotypenumbers": "strict",
          "coloraxis": {
           "colorbar": {
            "outlinewidth": 0,
            "ticks": ""
           }
          },
          "colorscale": {
           "diverging": [
            [
             0,
             "#8e0152"
            ],
            [
             0.1,
             "#c51b7d"
            ],
            [
             0.2,
             "#de77ae"
            ],
            [
             0.3,
             "#f1b6da"
            ],
            [
             0.4,
             "#fde0ef"
            ],
            [
             0.5,
             "#f7f7f7"
            ],
            [
             0.6,
             "#e6f5d0"
            ],
            [
             0.7,
             "#b8e186"
            ],
            [
             0.8,
             "#7fbc41"
            ],
            [
             0.9,
             "#4d9221"
            ],
            [
             1,
             "#276419"
            ]
           ],
           "sequential": [
            [
             0,
             "#0d0887"
            ],
            [
             0.1111111111111111,
             "#46039f"
            ],
            [
             0.2222222222222222,
             "#7201a8"
            ],
            [
             0.3333333333333333,
             "#9c179e"
            ],
            [
             0.4444444444444444,
             "#bd3786"
            ],
            [
             0.5555555555555556,
             "#d8576b"
            ],
            [
             0.6666666666666666,
             "#ed7953"
            ],
            [
             0.7777777777777778,
             "#fb9f3a"
            ],
            [
             0.8888888888888888,
             "#fdca26"
            ],
            [
             1,
             "#f0f921"
            ]
           ],
           "sequentialminus": [
            [
             0,
             "#0d0887"
            ],
            [
             0.1111111111111111,
             "#46039f"
            ],
            [
             0.2222222222222222,
             "#7201a8"
            ],
            [
             0.3333333333333333,
             "#9c179e"
            ],
            [
             0.4444444444444444,
             "#bd3786"
            ],
            [
             0.5555555555555556,
             "#d8576b"
            ],
            [
             0.6666666666666666,
             "#ed7953"
            ],
            [
             0.7777777777777778,
             "#fb9f3a"
            ],
            [
             0.8888888888888888,
             "#fdca26"
            ],
            [
             1,
             "#f0f921"
            ]
           ]
          },
          "colorway": [
           "#636efa",
           "#EF553B",
           "#00cc96",
           "#ab63fa",
           "#FFA15A",
           "#19d3f3",
           "#FF6692",
           "#B6E880",
           "#FF97FF",
           "#FECB52"
          ],
          "font": {
           "color": "#2a3f5f"
          },
          "geo": {
           "bgcolor": "white",
           "lakecolor": "white",
           "landcolor": "#E5ECF6",
           "showlakes": true,
           "showland": true,
           "subunitcolor": "white"
          },
          "hoverlabel": {
           "align": "left"
          },
          "hovermode": "closest",
          "mapbox": {
           "style": "light"
          },
          "paper_bgcolor": "white",
          "plot_bgcolor": "#E5ECF6",
          "polar": {
           "angularaxis": {
            "gridcolor": "white",
            "linecolor": "white",
            "ticks": ""
           },
           "bgcolor": "#E5ECF6",
           "radialaxis": {
            "gridcolor": "white",
            "linecolor": "white",
            "ticks": ""
           }
          },
          "scene": {
           "xaxis": {
            "backgroundcolor": "#E5ECF6",
            "gridcolor": "white",
            "gridwidth": 2,
            "linecolor": "white",
            "showbackground": true,
            "ticks": "",
            "zerolinecolor": "white"
           },
           "yaxis": {
            "backgroundcolor": "#E5ECF6",
            "gridcolor": "white",
            "gridwidth": 2,
            "linecolor": "white",
            "showbackground": true,
            "ticks": "",
            "zerolinecolor": "white"
           },
           "zaxis": {
            "backgroundcolor": "#E5ECF6",
            "gridcolor": "white",
            "gridwidth": 2,
            "linecolor": "white",
            "showbackground": true,
            "ticks": "",
            "zerolinecolor": "white"
           }
          },
          "shapedefaults": {
           "line": {
            "color": "#2a3f5f"
           }
          },
          "ternary": {
           "aaxis": {
            "gridcolor": "white",
            "linecolor": "white",
            "ticks": ""
           },
           "baxis": {
            "gridcolor": "white",
            "linecolor": "white",
            "ticks": ""
           },
           "bgcolor": "#E5ECF6",
           "caxis": {
            "gridcolor": "white",
            "linecolor": "white",
            "ticks": ""
           }
          },
          "title": {
           "x": 0.05
          },
          "xaxis": {
           "automargin": true,
           "gridcolor": "white",
           "linecolor": "white",
           "ticks": "",
           "title": {
            "standoff": 15
           },
           "zerolinecolor": "white",
           "zerolinewidth": 2
          },
          "yaxis": {
           "automargin": true,
           "gridcolor": "white",
           "linecolor": "white",
           "ticks": "",
           "title": {
            "standoff": 15
           },
           "zerolinecolor": "white",
           "zerolinewidth": 2
          }
         }
        },
        "width": 900,
        "xaxis": {
         "anchor": "y",
         "domain": [
          0,
          0.98
         ],
         "dtick": 1,
         "range": [
          1978.5,
          2019.5
         ],
         "title": {
          "text": ""
         }
        },
        "xaxis2": {
         "anchor": "y2",
         "domain": [
          0,
          0.98
         ],
         "matches": "x",
         "showticklabels": false
        },
        "yaxis": {
         "anchor": "x",
         "domain": [
          0,
          0.475
         ],
         "range": [
          0,
          100
         ],
         "title": {
          "text": "Production (%)"
         }
        },
        "yaxis2": {
         "anchor": "x2",
         "domain": [
          0.525,
          1
         ],
         "title": {
          "text": "Production (t)"
         }
        }
       }
      }
     },
     "metadata": {},
     "output_type": "display_data"
    }
   ],
   "source": [
    "# Bar chart of national grain production\n",
    "country_iso, country_name = 'ZA', 'South Africa'\n",
    "df = pd.read_hdf('./data/crop/adm_crop_production_%s.hdf' % country_iso)\n",
    "df = df[df['gscd_code']=='calibrated']; df['year'] = df['harvest_year']\n",
    "year = [df['year'].min(), df['year'].max()]\n",
    "product_order = ['Maize (White)','Maize (Yellow)','Wheat','Sorghum']\n",
    "for season_name in ['Summer','Winter']:\n",
    "    footnote = 'National grain production in %s - %s' % (country_name, season_name)\n",
    "    fn_save = './figures/%s_bar_natgrainprod_%s.png' % (country_iso, season_name)\n",
    "    sub = df[df['season_name'] == season_name]\n",
    "    fig = PlotBarProduction(sub, year, product_order, footnote, fn_save)\n",
    "    fig.show()"
   ]
  },
  {
   "cell_type": "code",
   "execution_count": 8,
   "id": "ccb7fdc2-515d-4d5d-a437-369dd25bc884",
   "metadata": {},
   "outputs": [
    {
     "name": "stdout",
     "output_type": "stream",
     "text": [
      "./figures/ZA_line_pay_Maize (White)_Summer.png is saved.\n"
     ]
    },
    {
     "data": {
      "application/vnd.plotly.v1+json": {
       "config": {
        "plotlyServerURL": "https://plot.ly"
       },
       "data": [
        {
         "connectgaps": false,
         "hovertemplate": "fnid=ZA1994A101<br>indicator=production<br>year=%{x}<br>value=%{y}<extra></extra>",
         "legendgroup": "ZA1994A101",
         "line": {
          "color": "#636efa",
          "dash": "solid"
         },
         "marker": {
          "symbol": "circle"
         },
         "mode": "lines+markers",
         "name": "ZA1994A101",
         "orientation": "v",
         "showlegend": true,
         "type": "scatter",
         "x": [
          1987,
          1988,
          1989,
          1990,
          1991,
          1992,
          1993,
          1994,
          1995,
          1996,
          1997,
          1998,
          1999,
          2000,
          2001,
          2002,
          2003,
          2004,
          2005,
          2006,
          2007,
          2008,
          2009,
          2010,
          2011,
          2012,
          2013,
          2014,
          2015,
          2016,
          2017,
          2018,
          2019
         ],
         "xaxis": "x3",
         "y": [
          1000,
          2000,
          2000,
          2000,
          2000,
          null,
          2000,
          2000,
          1000,
          9000,
          7900,
          null,
          1,
          3,
          840,
          480,
          300,
          600,
          null,
          null,
          300,
          10000,
          15000,
          3500,
          2000,
          5000,
          3000,
          4500,
          4050,
          5000,
          2000,
          null,
          3600
         ],
         "yaxis": "y3"
        },
        {
         "connectgaps": false,
         "hovertemplate": "fnid=ZA1994A101<br>indicator=area<br>year=%{x}<br>value=%{y}<extra></extra>",
         "legendgroup": "ZA1994A101",
         "line": {
          "color": "#636efa",
          "dash": "solid"
         },
         "marker": {
          "symbol": "circle"
         },
         "mode": "lines+markers",
         "name": "ZA1994A101",
         "orientation": "v",
         "showlegend": false,
         "type": "scatter",
         "x": [
          1987,
          1988,
          1989,
          1990,
          1991,
          1992,
          1993,
          1994,
          1995,
          1996,
          1997,
          1998,
          1999,
          2000,
          2001,
          2002,
          2003,
          2004,
          2005,
          2006,
          2007,
          2008,
          2009,
          2010,
          2011,
          2012,
          2013,
          2014,
          2015,
          2016,
          2017,
          2018,
          2019
         ],
         "xaxis": "x2",
         "y": [
          1000,
          1000,
          1000,
          1000,
          1000,
          1000,
          1000,
          1063,
          1000,
          1000,
          1000,
          null,
          1,
          2,
          105,
          80,
          50,
          100,
          null,
          null,
          30,
          1000,
          1500,
          500,
          300,
          500,
          300,
          500,
          450,
          500,
          200,
          null,
          400
         ],
         "yaxis": "y2"
        },
        {
         "connectgaps": false,
         "hovertemplate": "fnid=ZA1994A101<br>indicator=yield<br>year=%{x}<br>value=%{y}<extra></extra>",
         "legendgroup": "ZA1994A101",
         "line": {
          "color": "#636efa",
          "dash": "solid"
         },
         "marker": {
          "symbol": "circle"
         },
         "mode": "lines+markers",
         "name": "ZA1994A101",
         "orientation": "v",
         "showlegend": false,
         "type": "scatter",
         "x": [
          1987,
          1988,
          1989,
          1990,
          1991,
          1992,
          1993,
          1994,
          1995,
          1996,
          1997,
          1998,
          1999,
          2000,
          2001,
          2002,
          2003,
          2004,
          2005,
          2006,
          2007,
          2008,
          2009,
          2010,
          2011,
          2012,
          2013,
          2014,
          2015,
          2016,
          2017,
          2018,
          2019
         ],
         "xaxis": "x",
         "y": [
          1,
          2,
          2,
          2,
          2,
          null,
          2,
          1.881467544684854,
          1,
          9,
          7.9,
          null,
          1,
          1.5,
          8,
          6,
          6,
          6,
          null,
          null,
          10,
          10,
          10,
          7,
          6.666666666666667,
          10,
          10,
          9,
          9,
          10,
          10,
          null,
          9
         ],
         "yaxis": "y"
        },
        {
         "connectgaps": false,
         "hovertemplate": "fnid=ZA1994A102<br>indicator=production<br>year=%{x}<br>value=%{y}<extra></extra>",
         "legendgroup": "ZA1994A102",
         "line": {
          "color": "#EF553B",
          "dash": "solid"
         },
         "marker": {
          "symbol": "circle"
         },
         "mode": "lines+markers",
         "name": "ZA1994A102",
         "orientation": "v",
         "showlegend": true,
         "type": "scatter",
         "x": [
          1987,
          1988,
          1989,
          1990,
          1991,
          1992,
          1993,
          1994,
          1995,
          1996,
          1997,
          1998,
          1999,
          2000,
          2001,
          2002,
          2003,
          2004,
          2005,
          2006,
          2007,
          2008,
          2009,
          2010,
          2011,
          2012,
          2013,
          2014,
          2015,
          2016,
          2017,
          2018,
          2019
         ],
         "xaxis": "x3",
         "y": [
          12000,
          22000,
          27000,
          40000,
          41000,
          2000,
          26000,
          30000,
          60000,
          48000,
          15800,
          14000,
          67500,
          72100,
          19600,
          11000,
          14700,
          20000,
          19000,
          15400,
          15000,
          15000,
          15900,
          14500,
          10500,
          17756,
          18500,
          13750,
          15600,
          9200,
          30800,
          21700,
          22800
         ],
         "yaxis": "y3"
        },
        {
         "connectgaps": false,
         "hovertemplate": "fnid=ZA1994A102<br>indicator=area<br>year=%{x}<br>value=%{y}<extra></extra>",
         "legendgroup": "ZA1994A102",
         "line": {
          "color": "#EF553B",
          "dash": "solid"
         },
         "marker": {
          "symbol": "circle"
         },
         "mode": "lines+markers",
         "name": "ZA1994A102",
         "orientation": "v",
         "showlegend": false,
         "type": "scatter",
         "x": [
          1987,
          1988,
          1989,
          1990,
          1991,
          1992,
          1993,
          1994,
          1995,
          1996,
          1997,
          1998,
          1999,
          2000,
          2001,
          2002,
          2003,
          2004,
          2005,
          2006,
          2007,
          2008,
          2009,
          2010,
          2011,
          2012,
          2013,
          2014,
          2015,
          2016,
          2017,
          2018,
          2019
         ],
         "xaxis": "x2",
         "y": [
          6000,
          13000,
          15000,
          22000,
          22000,
          12000,
          12000,
          12386,
          14400,
          16000,
          6000,
          5000,
          69500,
          70500,
          4900,
          2500,
          3500,
          5000,
          4000,
          3000,
          3000,
          3000,
          3000,
          3200,
          3000,
          3500,
          3700,
          2500,
          2600,
          2000,
          4400,
          3500,
          3800
         ],
         "yaxis": "y2"
        },
        {
         "connectgaps": false,
         "hovertemplate": "fnid=ZA1994A102<br>indicator=yield<br>year=%{x}<br>value=%{y}<extra></extra>",
         "legendgroup": "ZA1994A102",
         "line": {
          "color": "#EF553B",
          "dash": "solid"
         },
         "marker": {
          "symbol": "circle"
         },
         "mode": "lines+markers",
         "name": "ZA1994A102",
         "orientation": "v",
         "showlegend": false,
         "type": "scatter",
         "x": [
          1987,
          1988,
          1989,
          1990,
          1991,
          1992,
          1993,
          1994,
          1995,
          1996,
          1997,
          1998,
          1999,
          2000,
          2001,
          2002,
          2003,
          2004,
          2005,
          2006,
          2007,
          2008,
          2009,
          2010,
          2011,
          2012,
          2013,
          2014,
          2015,
          2016,
          2017,
          2018,
          2019
         ],
         "xaxis": "x",
         "y": [
          2,
          1.6923076923076923,
          1.8,
          1.8181818181818181,
          1.8636363636363635,
          0.16666666666666666,
          2.1666666666666665,
          2.4220894558372357,
          4.166666666666667,
          3,
          2.6333333333333333,
          2.8,
          1.712962962962963,
          2.062962962962963,
          4,
          4.4,
          4.2,
          4,
          4.75,
          5.133333333333334,
          5,
          5,
          5.3,
          4.53125,
          3.5,
          5.073142857142857,
          5,
          5.5,
          6,
          4.6,
          7,
          6.2,
          6
         ],
         "yaxis": "y"
        },
        {
         "connectgaps": false,
         "hovertemplate": "fnid=ZA1994A103<br>indicator=production<br>year=%{x}<br>value=%{y}<extra></extra>",
         "legendgroup": "ZA1994A103",
         "line": {
          "color": "#00cc96",
          "dash": "solid"
         },
         "marker": {
          "symbol": "circle"
         },
         "mode": "lines+markers",
         "name": "ZA1994A103",
         "orientation": "v",
         "showlegend": true,
         "type": "scatter",
         "x": [
          1987,
          1988,
          1989,
          1990,
          1991,
          1992,
          1993,
          1994,
          1995,
          1996,
          1997,
          1998,
          1999,
          2000,
          2001,
          2002,
          2003,
          2004,
          2005,
          2006,
          2007,
          2008,
          2009,
          2010,
          2011,
          2012,
          2013,
          2014,
          2015,
          2016,
          2017,
          2018,
          2019
         ],
         "xaxis": "x3",
         "y": [
          19000,
          10000,
          33000,
          16000,
          19000,
          16000,
          22000,
          22000,
          23000,
          53000,
          19000,
          21000,
          28000,
          32800,
          29750,
          37000,
          113050,
          62400,
          30500,
          16500,
          42700,
          36000,
          28750,
          23000,
          23000,
          25400,
          25300,
          25300,
          35000,
          34875,
          46200,
          null,
          39440
         ],
         "yaxis": "y3"
        },
        {
         "connectgaps": false,
         "hovertemplate": "fnid=ZA1994A103<br>indicator=area<br>year=%{x}<br>value=%{y}<extra></extra>",
         "legendgroup": "ZA1994A103",
         "line": {
          "color": "#00cc96",
          "dash": "solid"
         },
         "marker": {
          "symbol": "circle"
         },
         "mode": "lines+markers",
         "name": "ZA1994A103",
         "orientation": "v",
         "showlegend": false,
         "type": "scatter",
         "x": [
          1987,
          1988,
          1989,
          1990,
          1991,
          1992,
          1993,
          1994,
          1995,
          1996,
          1997,
          1998,
          1999,
          2000,
          2001,
          2002,
          2003,
          2004,
          2005,
          2006,
          2007,
          2008,
          2009,
          2010,
          2011,
          2012,
          2013,
          2014,
          2015,
          2016,
          2017,
          2018,
          2019
         ],
         "xaxis": "x2",
         "y": [
          4000,
          2000,
          6000,
          3000,
          6000,
          3000,
          4000,
          5000,
          3000,
          10000,
          3000,
          3000,
          3700,
          4000,
          3500,
          4000,
          11900,
          6200,
          3000,
          1500,
          3770,
          3000,
          2500,
          2000,
          2000,
          2200,
          2200,
          2200,
          3500,
          3750,
          3500,
          null,
          3400
         ],
         "yaxis": "y2"
        },
        {
         "connectgaps": false,
         "hovertemplate": "fnid=ZA1994A103<br>indicator=yield<br>year=%{x}<br>value=%{y}<extra></extra>",
         "legendgroup": "ZA1994A103",
         "line": {
          "color": "#00cc96",
          "dash": "solid"
         },
         "marker": {
          "symbol": "circle"
         },
         "mode": "lines+markers",
         "name": "ZA1994A103",
         "orientation": "v",
         "showlegend": false,
         "type": "scatter",
         "x": [
          1987,
          1988,
          1989,
          1990,
          1991,
          1992,
          1993,
          1994,
          1995,
          1996,
          1997,
          1998,
          1999,
          2000,
          2001,
          2002,
          2003,
          2004,
          2005,
          2006,
          2007,
          2008,
          2009,
          2010,
          2011,
          2012,
          2013,
          2014,
          2015,
          2016,
          2017,
          2018,
          2019
         ],
         "xaxis": "x",
         "y": [
          4.75,
          5,
          5.5,
          5.333333333333333,
          3.1666666666666665,
          5.333333333333333,
          5.5,
          4.4,
          7.666666666666667,
          5.3,
          6.333333333333333,
          7,
          7.5675675675675675,
          8.2,
          8.5,
          9.25,
          9.5,
          10.064516129032258,
          10.166666666666666,
          11,
          11.326259946949602,
          12,
          11.5,
          11.5,
          11.5,
          11.545454545454545,
          11.5,
          11.5,
          10,
          9.3,
          13.2,
          null,
          11.6
         ],
         "yaxis": "y"
        },
        {
         "connectgaps": false,
         "hovertemplate": "fnid=ZA1994A104<br>indicator=production<br>year=%{x}<br>value=%{y}<extra></extra>",
         "legendgroup": "ZA1994A104",
         "line": {
          "color": "#ab63fa",
          "dash": "solid"
         },
         "marker": {
          "symbol": "circle"
         },
         "mode": "lines+markers",
         "name": "ZA1994A104",
         "orientation": "v",
         "showlegend": true,
         "type": "scatter",
         "x": [
          1987,
          1988,
          1989,
          1990,
          1991,
          1992,
          1993,
          1994,
          1995,
          1996,
          1997,
          1998,
          1999,
          2000,
          2001,
          2002,
          2003,
          2004,
          2005,
          2006,
          2007,
          2008,
          2009,
          2010,
          2011,
          2012,
          2013,
          2014,
          2015,
          2016,
          2017,
          2018,
          2019
         ],
         "xaxis": "x3",
         "y": [
          1477000,
          1440000,
          2235000,
          1588000,
          1170000,
          555000,
          1967000,
          2186000,
          710000,
          2232000,
          2050000,
          1725000,
          893699,
          1257565,
          1647000,
          2064000,
          2515000,
          2050000,
          2658000,
          1400000,
          1925000,
          2978000,
          2627250,
          3174000,
          2590000,
          3050000,
          2574000,
          3759500,
          2236000,
          1111500,
          5110000,
          3477600,
          2795000
         ],
         "yaxis": "y3"
        },
        {
         "connectgaps": false,
         "hovertemplate": "fnid=ZA1994A104<br>indicator=area<br>year=%{x}<br>value=%{y}<extra></extra>",
         "legendgroup": "ZA1994A104",
         "line": {
          "color": "#ab63fa",
          "dash": "solid"
         },
         "marker": {
          "symbol": "circle"
         },
         "mode": "lines+markers",
         "name": "ZA1994A104",
         "orientation": "v",
         "showlegend": false,
         "type": "scatter",
         "x": [
          1987,
          1988,
          1989,
          1990,
          1991,
          1992,
          1993,
          1994,
          1995,
          1996,
          1997,
          1998,
          1999,
          2000,
          2001,
          2002,
          2003,
          2004,
          2005,
          2006,
          2007,
          2008,
          2009,
          2010,
          2011,
          2012,
          2013,
          2014,
          2015,
          2016,
          2017,
          2018,
          2019
         ],
         "xaxis": "x2",
         "y": [
          929000,
          791000,
          769000,
          663000,
          474000,
          711000,
          727000,
          712000,
          460000,
          683000,
          694000,
          665000,
          341545,
          375615,
          610000,
          688000,
          805000,
          660000,
          660000,
          345000,
          640000,
          690000,
          565000,
          690000,
          595000,
          710000,
          725000,
          730000,
          710000,
          390000,
          805000,
          644000,
          650000
         ],
         "yaxis": "y2"
        },
        {
         "connectgaps": false,
         "hovertemplate": "fnid=ZA1994A104<br>indicator=yield<br>year=%{x}<br>value=%{y}<extra></extra>",
         "legendgroup": "ZA1994A104",
         "line": {
          "color": "#ab63fa",
          "dash": "solid"
         },
         "marker": {
          "symbol": "circle"
         },
         "mode": "lines+markers",
         "name": "ZA1994A104",
         "orientation": "v",
         "showlegend": false,
         "type": "scatter",
         "x": [
          1987,
          1988,
          1989,
          1990,
          1991,
          1992,
          1993,
          1994,
          1995,
          1996,
          1997,
          1998,
          1999,
          2000,
          2001,
          2002,
          2003,
          2004,
          2005,
          2006,
          2007,
          2008,
          2009,
          2010,
          2011,
          2012,
          2013,
          2014,
          2015,
          2016,
          2017,
          2018,
          2019
         ],
         "xaxis": "x",
         "y": [
          1.5898815931108718,
          1.820480404551201,
          2.906371911573472,
          2.3951734539969833,
          2.4683544303797467,
          0.7805907172995781,
          2.705639614855571,
          3.0702247191011236,
          1.5434782608695652,
          3.267935578330893,
          2.9538904899135447,
          2.593984962406015,
          2.408651026392962,
          2.7441056910569106,
          2.7,
          3,
          3.124223602484472,
          3.106060606060606,
          4.027272727272727,
          4.057971014492754,
          3.0078125,
          4.315942028985507,
          4.65,
          4.6,
          4.352941176470588,
          4.295774647887324,
          3.550344827586207,
          5.15,
          3.149295774647887,
          2.85,
          6.3478260869565215,
          5.4,
          4.3
         ],
         "yaxis": "y"
        },
        {
         "connectgaps": false,
         "hovertemplate": "fnid=ZA1994A105<br>indicator=production<br>year=%{x}<br>value=%{y}<extra></extra>",
         "legendgroup": "ZA1994A105",
         "line": {
          "color": "#FFA15A",
          "dash": "solid"
         },
         "marker": {
          "symbol": "circle"
         },
         "mode": "lines+markers",
         "name": "ZA1994A105",
         "orientation": "v",
         "showlegend": true,
         "type": "scatter",
         "x": [
          1987,
          1988,
          1989,
          1990,
          1991,
          1992,
          1993,
          1994,
          1995,
          1996,
          1997,
          1998,
          1999,
          2000,
          2001,
          2002,
          2003,
          2004,
          2005,
          2006,
          2007,
          2008,
          2009,
          2010,
          2011,
          2012,
          2013,
          2014,
          2015,
          2016,
          2017,
          2018,
          2019
         ],
         "xaxis": "x3",
         "y": [
          164000,
          115000,
          136000,
          102000,
          106000,
          54000,
          75000,
          196000,
          131000,
          145000,
          121000,
          111000,
          78500,
          74637.5,
          81600,
          147500,
          207500,
          175000,
          170000,
          175000,
          190000,
          237000,
          248000,
          272000,
          214500,
          242000,
          284000,
          266600,
          224000,
          209000,
          350000,
          301500,
          270000
         ],
         "yaxis": "y3"
        },
        {
         "connectgaps": false,
         "hovertemplate": "fnid=ZA1994A105<br>indicator=area<br>year=%{x}<br>value=%{y}<extra></extra>",
         "legendgroup": "ZA1994A105",
         "line": {
          "color": "#FFA15A",
          "dash": "solid"
         },
         "marker": {
          "symbol": "circle"
         },
         "mode": "lines+markers",
         "name": "ZA1994A105",
         "orientation": "v",
         "showlegend": false,
         "type": "scatter",
         "x": [
          1987,
          1988,
          1989,
          1990,
          1991,
          1992,
          1993,
          1994,
          1995,
          1996,
          1997,
          1998,
          1999,
          2000,
          2001,
          2002,
          2003,
          2004,
          2005,
          2006,
          2007,
          2008,
          2009,
          2010,
          2011,
          2012,
          2013,
          2014,
          2015,
          2016,
          2017,
          2018,
          2019
         ],
         "xaxis": "x2",
         "y": [
          54000,
          41000,
          37000,
          29000,
          29000,
          28000,
          22000,
          30530,
          29000,
          35000,
          33000,
          36000,
          80500,
          65275,
          25500,
          32500,
          45000,
          35700,
          35000,
          32000,
          38000,
          41000,
          40000,
          46000,
          39000,
          44000,
          47000,
          43000,
          40000,
          38000,
          50000,
          45000,
          45000
         ],
         "yaxis": "y2"
        },
        {
         "connectgaps": false,
         "hovertemplate": "fnid=ZA1994A105<br>indicator=yield<br>year=%{x}<br>value=%{y}<extra></extra>",
         "legendgroup": "ZA1994A105",
         "line": {
          "color": "#FFA15A",
          "dash": "solid"
         },
         "marker": {
          "symbol": "circle"
         },
         "mode": "lines+markers",
         "name": "ZA1994A105",
         "orientation": "v",
         "showlegend": false,
         "type": "scatter",
         "x": [
          1987,
          1988,
          1989,
          1990,
          1991,
          1992,
          1993,
          1994,
          1995,
          1996,
          1997,
          1998,
          1999,
          2000,
          2001,
          2002,
          2003,
          2004,
          2005,
          2006,
          2007,
          2008,
          2009,
          2010,
          2011,
          2012,
          2013,
          2014,
          2015,
          2016,
          2017,
          2018,
          2019
         ],
         "xaxis": "x",
         "y": [
          3.037037037037037,
          2.8048780487804876,
          3.675675675675676,
          3.5172413793103448,
          3.6551724137931036,
          1.9285714285714286,
          3.409090909090909,
          6.419914837864396,
          4.517241379310345,
          4.142857142857143,
          3.6666666666666665,
          3.0833333333333335,
          1.5337837837837838,
          1.9,
          3.2,
          4.538461538461538,
          4.611111111111111,
          4.901960784313726,
          4.857142857142857,
          5.46875,
          5,
          5.780487804878049,
          6.2,
          5.913043478260869,
          5.5,
          5.5,
          6.042553191489362,
          6.2,
          5.6,
          5.5,
          7,
          6.7,
          6
         ],
         "yaxis": "y"
        },
        {
         "connectgaps": false,
         "hovertemplate": "fnid=ZA1994A106<br>indicator=production<br>year=%{x}<br>value=%{y}<extra></extra>",
         "legendgroup": "ZA1994A106",
         "line": {
          "color": "#19d3f3",
          "dash": "solid"
         },
         "marker": {
          "symbol": "circle"
         },
         "mode": "lines+markers",
         "name": "ZA1994A106",
         "orientation": "v",
         "showlegend": true,
         "type": "scatter",
         "x": [
          1987,
          1988,
          1989,
          1990,
          1991,
          1992,
          1993,
          1994,
          1995,
          1996,
          1997,
          1998,
          1999,
          2000,
          2001,
          2002,
          2003,
          2004,
          2005,
          2006,
          2007,
          2008,
          2009,
          2010,
          2011,
          2012,
          2013,
          2014,
          2015,
          2016,
          2017,
          2018,
          2019
         ],
         "xaxis": "x3",
         "y": [
          1217000,
          1511000,
          3231000,
          2033000,
          1892000,
          332000,
          1727000,
          2439000,
          802000,
          2362000,
          2235000,
          1729500,
          599300,
          1104000,
          1495000,
          2046500,
          2135000,
          2050000,
          2185000,
          1380000,
          1152000,
          2165000,
          2019750,
          2350000,
          1824500,
          2106500,
          1158000,
          2193000,
          1046000,
          782000,
          2599000,
          1739000,
          1267500
         ],
         "yaxis": "y3"
        },
        {
         "connectgaps": false,
         "hovertemplate": "fnid=ZA1994A106<br>indicator=area<br>year=%{x}<br>value=%{y}<extra></extra>",
         "legendgroup": "ZA1994A106",
         "line": {
          "color": "#19d3f3",
          "dash": "solid"
         },
         "marker": {
          "symbol": "circle"
         },
         "mode": "lines+markers",
         "name": "ZA1994A106",
         "orientation": "v",
         "showlegend": false,
         "type": "scatter",
         "x": [
          1987,
          1988,
          1989,
          1990,
          1991,
          1992,
          1993,
          1994,
          1995,
          1996,
          1997,
          1998,
          1999,
          2000,
          2001,
          2002,
          2003,
          2004,
          2005,
          2006,
          2007,
          2008,
          2009,
          2010,
          2011,
          2012,
          2013,
          2014,
          2015,
          2016,
          2017,
          2018,
          2019
         ],
         "xaxis": "x2",
         "y": [
          1051000,
          1088000,
          1115000,
          1037000,
          997000,
          894000,
          1008000,
          1027000,
          669000,
          895000,
          811000,
          808000,
          397450,
          431500,
          650000,
          787000,
          960000,
          760000,
          680000,
          420000,
          620000,
          610000,
          560000,
          635000,
          500000,
          610000,
          565000,
          510000,
          465000,
          340000,
          520000,
          370000,
          390000
         ],
         "yaxis": "y2"
        },
        {
         "connectgaps": false,
         "hovertemplate": "fnid=ZA1994A106<br>indicator=yield<br>year=%{x}<br>value=%{y}<extra></extra>",
         "legendgroup": "ZA1994A106",
         "line": {
          "color": "#19d3f3",
          "dash": "solid"
         },
         "marker": {
          "symbol": "circle"
         },
         "mode": "lines+markers",
         "name": "ZA1994A106",
         "orientation": "v",
         "showlegend": false,
         "type": "scatter",
         "x": [
          1987,
          1988,
          1989,
          1990,
          1991,
          1992,
          1993,
          1994,
          1995,
          1996,
          1997,
          1998,
          1999,
          2000,
          2001,
          2002,
          2003,
          2004,
          2005,
          2006,
          2007,
          2008,
          2009,
          2010,
          2011,
          2012,
          2013,
          2014,
          2015,
          2016,
          2017,
          2018,
          2019
         ],
         "xaxis": "x",
         "y": [
          1.1579448144624167,
          1.3887867647058822,
          2.897757847533632,
          1.9604628736740597,
          1.8976930792377131,
          0.3713646532438479,
          1.7132936507936507,
          2.3748782862706914,
          1.1988041853512705,
          2.6391061452513966,
          2.755856966707768,
          2.140470297029703,
          1.2762942054890605,
          1.8217391304347825,
          2.3,
          2.600381194409149,
          2.2239583333333335,
          2.6973684210526314,
          3.213235294117647,
          3.2857142857142856,
          1.8580645161290323,
          3.5491803278688523,
          3.6066964285714285,
          3.7007874015748032,
          3.649,
          3.4532786885245903,
          2.049557522123894,
          4.3,
          2.249462365591398,
          2.3,
          4.998076923076923,
          4.7,
          3.25
         ],
         "yaxis": "y"
        },
        {
         "connectgaps": false,
         "hovertemplate": "fnid=ZA1994A107<br>indicator=production<br>year=%{x}<br>value=%{y}<extra></extra>",
         "legendgroup": "ZA1994A107",
         "line": {
          "color": "#FF6692",
          "dash": "solid"
         },
         "marker": {
          "symbol": "circle"
         },
         "mode": "lines+markers",
         "name": "ZA1994A107",
         "orientation": "v",
         "showlegend": true,
         "type": "scatter",
         "x": [
          1987,
          1988,
          1989,
          1990,
          1991,
          1992,
          1993,
          1994,
          1995,
          1996,
          1997,
          1998,
          1999,
          2000,
          2001,
          2002,
          2003,
          2004,
          2005,
          2006,
          2007,
          2008,
          2009,
          2010,
          2011,
          2012,
          2013,
          2014,
          2015,
          2016,
          2017,
          2018,
          2019
         ],
         "xaxis": "x3",
         "y": [
          182000,
          195000,
          88000,
          160000,
          143000,
          64000,
          174000,
          256000,
          103000,
          191000,
          179000,
          157500,
          179000,
          110800,
          168000,
          236000,
          265000,
          297000,
          250700,
          245000,
          174000,
          400000,
          358800,
          493000,
          362500,
          378500,
          370000,
          357150,
          193600,
          205800,
          390000,
          290000,
          259200
         ],
         "yaxis": "y3"
        },
        {
         "connectgaps": false,
         "hovertemplate": "fnid=ZA1994A107<br>indicator=area<br>year=%{x}<br>value=%{y}<extra></extra>",
         "legendgroup": "ZA1994A107",
         "line": {
          "color": "#FF6692",
          "dash": "solid"
         },
         "marker": {
          "symbol": "circle"
         },
         "mode": "lines+markers",
         "name": "ZA1994A107",
         "orientation": "v",
         "showlegend": false,
         "type": "scatter",
         "x": [
          1987,
          1988,
          1989,
          1990,
          1991,
          1992,
          1993,
          1994,
          1995,
          1996,
          1997,
          1998,
          1999,
          2000,
          2001,
          2002,
          2003,
          2004,
          2005,
          2006,
          2007,
          2008,
          2009,
          2010,
          2011,
          2012,
          2013,
          2014,
          2015,
          2016,
          2017,
          2018,
          2019
         ],
         "xaxis": "x2",
         "y": [
          75000,
          86000,
          26000,
          58000,
          47000,
          62000,
          62000,
          55000,
          53000,
          49000,
          50000,
          53700,
          60000,
          32650,
          56000,
          60500,
          75500,
          80000,
          60000,
          50000,
          60000,
          80000,
          69000,
          85000,
          74000,
          74000,
          74000,
          65000,
          44000,
          49000,
          60000,
          50000,
          48000
         ],
         "yaxis": "y2"
        },
        {
         "connectgaps": false,
         "hovertemplate": "fnid=ZA1994A107<br>indicator=yield<br>year=%{x}<br>value=%{y}<extra></extra>",
         "legendgroup": "ZA1994A107",
         "line": {
          "color": "#FF6692",
          "dash": "solid"
         },
         "marker": {
          "symbol": "circle"
         },
         "mode": "lines+markers",
         "name": "ZA1994A107",
         "orientation": "v",
         "showlegend": false,
         "type": "scatter",
         "x": [
          1987,
          1988,
          1989,
          1990,
          1991,
          1992,
          1993,
          1994,
          1995,
          1996,
          1997,
          1998,
          1999,
          2000,
          2001,
          2002,
          2003,
          2004,
          2005,
          2006,
          2007,
          2008,
          2009,
          2010,
          2011,
          2012,
          2013,
          2014,
          2015,
          2016,
          2017,
          2018,
          2019
         ],
         "xaxis": "x",
         "y": [
          2.4266666666666667,
          2.2674418604651163,
          3.3846153846153846,
          2.7586206896551726,
          3.0425531914893615,
          1.032258064516129,
          2.806451612903226,
          4.654545454545454,
          1.9433962264150944,
          3.8979591836734695,
          3.58,
          2.9329608938547485,
          2.9833333333333334,
          2.7,
          3,
          3.9008264462809916,
          3.5099337748344372,
          3.7125,
          4.178333333333334,
          4.9,
          2.9,
          5,
          5.2,
          5.8,
          4.898648648648648,
          5.114864864864865,
          5,
          5.4946153846153845,
          4.4,
          4.2,
          6.5,
          5.8,
          5.4
         ],
         "yaxis": "y"
        },
        {
         "connectgaps": false,
         "hovertemplate": "fnid=ZA1994A108<br>indicator=production<br>year=%{x}<br>value=%{y}<extra></extra>",
         "legendgroup": "ZA1994A108",
         "line": {
          "color": "#B6E880",
          "dash": "solid"
         },
         "marker": {
          "symbol": "circle"
         },
         "mode": "lines+markers",
         "name": "ZA1994A108",
         "orientation": "v",
         "showlegend": true,
         "type": "scatter",
         "x": [
          1987,
          1988,
          1989,
          1990,
          1991,
          1992,
          1993,
          1994,
          1995,
          1996,
          1997,
          1998,
          1999,
          2000,
          2001,
          2002,
          2003,
          2004,
          2005,
          2006,
          2007,
          2008,
          2009,
          2010,
          2011,
          2012,
          2013,
          2014,
          2015,
          2016,
          2017,
          2018,
          2019
         ],
         "xaxis": "x3",
         "y": [
          400000,
          389000,
          524000,
          365000,
          374000,
          207000,
          378000,
          556000,
          267000,
          744000,
          532000,
          661000,
          426750,
          972000,
          599200,
          905000,
          975000,
          1055000,
          1133500,
          765000,
          720000,
          1475000,
          1290000,
          1370000,
          900000,
          904000,
          1020000,
          907200,
          824000,
          720000,
          1088000,
          840000,
          797500
         ],
         "yaxis": "y3"
        },
        {
         "connectgaps": false,
         "hovertemplate": "fnid=ZA1994A108<br>indicator=area<br>year=%{x}<br>value=%{y}<extra></extra>",
         "legendgroup": "ZA1994A108",
         "line": {
          "color": "#B6E880",
          "dash": "solid"
         },
         "marker": {
          "symbol": "circle"
         },
         "mode": "lines+markers",
         "name": "ZA1994A108",
         "orientation": "v",
         "showlegend": false,
         "type": "scatter",
         "x": [
          1987,
          1988,
          1989,
          1990,
          1991,
          1992,
          1993,
          1994,
          1995,
          1996,
          1997,
          1998,
          1999,
          2000,
          2001,
          2002,
          2003,
          2004,
          2005,
          2006,
          2007,
          2008,
          2009,
          2010,
          2011,
          2012,
          2013,
          2014,
          2015,
          2016,
          2017,
          2018,
          2019
         ],
         "xaxis": "x2",
         "y": [
          141000,
          158000,
          149000,
          118000,
          110000,
          134000,
          113000,
          150000,
          152000,
          199000,
          174000,
          210000,
          145000,
          270000,
          214000,
          232000,
          280000,
          262000,
          224000,
          156000,
          220000,
          268000,
          215000,
          232000,
          180000,
          160000,
          170000,
          168000,
          154000,
          160000,
          160000,
          140000,
          145000
         ],
         "yaxis": "y2"
        },
        {
         "connectgaps": false,
         "hovertemplate": "fnid=ZA1994A108<br>indicator=yield<br>year=%{x}<br>value=%{y}<extra></extra>",
         "legendgroup": "ZA1994A108",
         "line": {
          "color": "#B6E880",
          "dash": "solid"
         },
         "marker": {
          "symbol": "circle"
         },
         "mode": "lines+markers",
         "name": "ZA1994A108",
         "orientation": "v",
         "showlegend": false,
         "type": "scatter",
         "x": [
          1987,
          1988,
          1989,
          1990,
          1991,
          1992,
          1993,
          1994,
          1995,
          1996,
          1997,
          1998,
          1999,
          2000,
          2001,
          2002,
          2003,
          2004,
          2005,
          2006,
          2007,
          2008,
          2009,
          2010,
          2011,
          2012,
          2013,
          2014,
          2015,
          2016,
          2017,
          2018,
          2019
         ],
         "xaxis": "x",
         "y": [
          2.8368794326241136,
          2.462025316455696,
          3.5167785234899327,
          3.093220338983051,
          3.4,
          1.544776119402985,
          3.3451327433628317,
          3.7066666666666666,
          1.756578947368421,
          3.7386934673366836,
          3.057471264367816,
          3.1476190476190475,
          1.9947257383966244,
          3.6,
          2.8,
          3.9008620689655173,
          3.482142857142857,
          4.026717557251908,
          5.060267857142857,
          4.903846153846154,
          3.272727272727273,
          5.503731343283582,
          6,
          5.905172413793103,
          5,
          5.65,
          6,
          5.4,
          5.35064935064935,
          4.5,
          6.8,
          6,
          5.5
         ],
         "yaxis": "y"
        },
        {
         "connectgaps": false,
         "hovertemplate": "fnid=ZA1994A109<br>indicator=production<br>year=%{x}<br>value=%{y}<extra></extra>",
         "legendgroup": "ZA1994A109",
         "line": {
          "color": "#FF97FF",
          "dash": "solid"
         },
         "marker": {
          "symbol": "circle"
         },
         "mode": "lines+markers",
         "name": "ZA1994A109",
         "orientation": "v",
         "showlegend": true,
         "type": "scatter",
         "x": [
          1987,
          1988,
          1989,
          1990,
          1991,
          1992,
          1993,
          1994,
          1995,
          1996,
          1997,
          1998,
          1999,
          2000,
          2001,
          2002,
          2003,
          2004,
          2005,
          2006,
          2007,
          2008,
          2009,
          2010,
          2011,
          2012,
          2013,
          2014,
          2015,
          2016,
          2017,
          2018,
          2019
         ],
         "xaxis": "x3",
         "y": [
          101000,
          92000,
          91000,
          55000,
          82000,
          22000,
          45000,
          72000,
          23000,
          52000,
          49500,
          40500,
          59654,
          95750,
          68800,
          90000,
          140000,
          95000,
          94000,
          42000,
          96000,
          164000,
          171550,
          130000,
          125000,
          174500,
          154000,
          183000,
          156750,
          176400,
          300000,
          90000,
          83200
         ],
         "yaxis": "y3"
        },
        {
         "connectgaps": false,
         "hovertemplate": "fnid=ZA1994A109<br>indicator=area<br>year=%{x}<br>value=%{y}<extra></extra>",
         "legendgroup": "ZA1994A109",
         "line": {
          "color": "#FF97FF",
          "dash": "solid"
         },
         "marker": {
          "symbol": "circle"
         },
         "mode": "lines+markers",
         "name": "ZA1994A109",
         "orientation": "v",
         "showlegend": false,
         "type": "scatter",
         "x": [
          1987,
          1988,
          1989,
          1990,
          1991,
          1992,
          1993,
          1994,
          1995,
          1996,
          1997,
          1998,
          1999,
          2000,
          2001,
          2002,
          2003,
          2004,
          2005,
          2006,
          2007,
          2008,
          2009,
          2010,
          2011,
          2012,
          2013,
          2014,
          2015,
          2016,
          2017,
          2018,
          2019
         ],
         "xaxis": "x2",
         "y": [
          56000,
          71000,
          42000,
          34000,
          31000,
          36000,
          35000,
          34399,
          19500,
          16000,
          22000,
          16500,
          101030,
          103250,
          32000,
          36000,
          51500,
          33000,
          34000,
          12000,
          40000,
          41000,
          33000,
          26000,
          25000,
          32000,
          30000,
          30000,
          28500,
          31500,
          40000,
          12000,
          12800
         ],
         "yaxis": "y2"
        },
        {
         "connectgaps": false,
         "hovertemplate": "fnid=ZA1994A109<br>indicator=yield<br>year=%{x}<br>value=%{y}<extra></extra>",
         "legendgroup": "ZA1994A109",
         "line": {
          "color": "#FF97FF",
          "dash": "solid"
         },
         "marker": {
          "symbol": "circle"
         },
         "mode": "lines+markers",
         "name": "ZA1994A109",
         "orientation": "v",
         "showlegend": false,
         "type": "scatter",
         "x": [
          1987,
          1988,
          1989,
          1990,
          1991,
          1992,
          1993,
          1994,
          1995,
          1996,
          1997,
          1998,
          1999,
          2000,
          2001,
          2002,
          2003,
          2004,
          2005,
          2006,
          2007,
          2008,
          2009,
          2010,
          2011,
          2012,
          2013,
          2014,
          2015,
          2016,
          2017,
          2018,
          2019
         ],
         "xaxis": "x",
         "y": [
          1.8035714285714286,
          1.295774647887324,
          2.1666666666666665,
          1.6176470588235294,
          2.6451612903225805,
          0.6111111111111112,
          1.2857142857142858,
          2.093084101282014,
          1.1794871794871795,
          3.25,
          2.25,
          2.4545454545454546,
          0.8476482488747017,
          1.7299703264094957,
          2.15,
          2.5,
          2.7184466019417477,
          2.878787878787879,
          2.764705882352941,
          3.5,
          2.4,
          4,
          5.198484848484848,
          5,
          5,
          5.453125,
          5.133333333333334,
          6.1,
          5.5,
          5.6,
          7.5,
          7.5,
          6.5
         ],
         "yaxis": "y"
        }
       ],
       "layout": {
        "annotations": [
         {
          "showarrow": false,
          "text": "",
          "textangle": 90,
          "x": 0.98,
          "xanchor": "left",
          "xref": "paper",
          "y": 0.16333333333333333,
          "yanchor": "middle",
          "yref": "paper"
         },
         {
          "showarrow": false,
          "text": "",
          "textangle": 90,
          "x": 0.98,
          "xanchor": "left",
          "xref": "paper",
          "y": 0.5,
          "yanchor": "middle",
          "yref": "paper"
         },
         {
          "showarrow": false,
          "text": "",
          "textangle": 90,
          "x": 0.98,
          "xanchor": "left",
          "xref": "paper",
          "y": 0.8366666666666667,
          "yanchor": "middle",
          "yref": "paper"
         },
         {
          "align": "left",
          "font": {
           "color": "dimgrey",
           "family": "arial",
           "size": 15
          },
          "showarrow": false,
          "text": "Production-Area-Yield (PAY) time-series of ZA - Maize (White) - Summer",
          "x": -0.014,
          "xref": "paper",
          "y": -0.14,
          "yref": "paper"
         }
        ],
        "font": {
         "color": "black",
         "family": "arial",
         "size": 16
        },
        "height": 600,
        "legend": {
         "font": {
          "size": 14
         },
         "title": {
          "text": "FNID"
         },
         "tracegroupgap": 0,
         "x": 1,
         "xanchor": "left",
         "y": 1,
         "yanchor": "top"
        },
        "margin": {
         "b": 25,
         "l": 0,
         "r": 0,
         "t": 0
        },
        "template": {
         "data": {
          "bar": [
           {
            "error_x": {
             "color": "#2a3f5f"
            },
            "error_y": {
             "color": "#2a3f5f"
            },
            "marker": {
             "line": {
              "color": "#E5ECF6",
              "width": 0.5
             },
             "pattern": {
              "fillmode": "overlay",
              "size": 10,
              "solidity": 0.2
             }
            },
            "type": "bar"
           }
          ],
          "barpolar": [
           {
            "marker": {
             "line": {
              "color": "#E5ECF6",
              "width": 0.5
             },
             "pattern": {
              "fillmode": "overlay",
              "size": 10,
              "solidity": 0.2
             }
            },
            "type": "barpolar"
           }
          ],
          "carpet": [
           {
            "aaxis": {
             "endlinecolor": "#2a3f5f",
             "gridcolor": "white",
             "linecolor": "white",
             "minorgridcolor": "white",
             "startlinecolor": "#2a3f5f"
            },
            "baxis": {
             "endlinecolor": "#2a3f5f",
             "gridcolor": "white",
             "linecolor": "white",
             "minorgridcolor": "white",
             "startlinecolor": "#2a3f5f"
            },
            "type": "carpet"
           }
          ],
          "choropleth": [
           {
            "colorbar": {
             "outlinewidth": 0,
             "ticks": ""
            },
            "type": "choropleth"
           }
          ],
          "contour": [
           {
            "colorbar": {
             "outlinewidth": 0,
             "ticks": ""
            },
            "colorscale": [
             [
              0,
              "#0d0887"
             ],
             [
              0.1111111111111111,
              "#46039f"
             ],
             [
              0.2222222222222222,
              "#7201a8"
             ],
             [
              0.3333333333333333,
              "#9c179e"
             ],
             [
              0.4444444444444444,
              "#bd3786"
             ],
             [
              0.5555555555555556,
              "#d8576b"
             ],
             [
              0.6666666666666666,
              "#ed7953"
             ],
             [
              0.7777777777777778,
              "#fb9f3a"
             ],
             [
              0.8888888888888888,
              "#fdca26"
             ],
             [
              1,
              "#f0f921"
             ]
            ],
            "type": "contour"
           }
          ],
          "contourcarpet": [
           {
            "colorbar": {
             "outlinewidth": 0,
             "ticks": ""
            },
            "type": "contourcarpet"
           }
          ],
          "heatmap": [
           {
            "colorbar": {
             "outlinewidth": 0,
             "ticks": ""
            },
            "colorscale": [
             [
              0,
              "#0d0887"
             ],
             [
              0.1111111111111111,
              "#46039f"
             ],
             [
              0.2222222222222222,
              "#7201a8"
             ],
             [
              0.3333333333333333,
              "#9c179e"
             ],
             [
              0.4444444444444444,
              "#bd3786"
             ],
             [
              0.5555555555555556,
              "#d8576b"
             ],
             [
              0.6666666666666666,
              "#ed7953"
             ],
             [
              0.7777777777777778,
              "#fb9f3a"
             ],
             [
              0.8888888888888888,
              "#fdca26"
             ],
             [
              1,
              "#f0f921"
             ]
            ],
            "type": "heatmap"
           }
          ],
          "heatmapgl": [
           {
            "colorbar": {
             "outlinewidth": 0,
             "ticks": ""
            },
            "colorscale": [
             [
              0,
              "#0d0887"
             ],
             [
              0.1111111111111111,
              "#46039f"
             ],
             [
              0.2222222222222222,
              "#7201a8"
             ],
             [
              0.3333333333333333,
              "#9c179e"
             ],
             [
              0.4444444444444444,
              "#bd3786"
             ],
             [
              0.5555555555555556,
              "#d8576b"
             ],
             [
              0.6666666666666666,
              "#ed7953"
             ],
             [
              0.7777777777777778,
              "#fb9f3a"
             ],
             [
              0.8888888888888888,
              "#fdca26"
             ],
             [
              1,
              "#f0f921"
             ]
            ],
            "type": "heatmapgl"
           }
          ],
          "histogram": [
           {
            "marker": {
             "pattern": {
              "fillmode": "overlay",
              "size": 10,
              "solidity": 0.2
             }
            },
            "type": "histogram"
           }
          ],
          "histogram2d": [
           {
            "colorbar": {
             "outlinewidth": 0,
             "ticks": ""
            },
            "colorscale": [
             [
              0,
              "#0d0887"
             ],
             [
              0.1111111111111111,
              "#46039f"
             ],
             [
              0.2222222222222222,
              "#7201a8"
             ],
             [
              0.3333333333333333,
              "#9c179e"
             ],
             [
              0.4444444444444444,
              "#bd3786"
             ],
             [
              0.5555555555555556,
              "#d8576b"
             ],
             [
              0.6666666666666666,
              "#ed7953"
             ],
             [
              0.7777777777777778,
              "#fb9f3a"
             ],
             [
              0.8888888888888888,
              "#fdca26"
             ],
             [
              1,
              "#f0f921"
             ]
            ],
            "type": "histogram2d"
           }
          ],
          "histogram2dcontour": [
           {
            "colorbar": {
             "outlinewidth": 0,
             "ticks": ""
            },
            "colorscale": [
             [
              0,
              "#0d0887"
             ],
             [
              0.1111111111111111,
              "#46039f"
             ],
             [
              0.2222222222222222,
              "#7201a8"
             ],
             [
              0.3333333333333333,
              "#9c179e"
             ],
             [
              0.4444444444444444,
              "#bd3786"
             ],
             [
              0.5555555555555556,
              "#d8576b"
             ],
             [
              0.6666666666666666,
              "#ed7953"
             ],
             [
              0.7777777777777778,
              "#fb9f3a"
             ],
             [
              0.8888888888888888,
              "#fdca26"
             ],
             [
              1,
              "#f0f921"
             ]
            ],
            "type": "histogram2dcontour"
           }
          ],
          "mesh3d": [
           {
            "colorbar": {
             "outlinewidth": 0,
             "ticks": ""
            },
            "type": "mesh3d"
           }
          ],
          "parcoords": [
           {
            "line": {
             "colorbar": {
              "outlinewidth": 0,
              "ticks": ""
             }
            },
            "type": "parcoords"
           }
          ],
          "pie": [
           {
            "automargin": true,
            "type": "pie"
           }
          ],
          "scatter": [
           {
            "fillpattern": {
             "fillmode": "overlay",
             "size": 10,
             "solidity": 0.2
            },
            "type": "scatter"
           }
          ],
          "scatter3d": [
           {
            "line": {
             "colorbar": {
              "outlinewidth": 0,
              "ticks": ""
             }
            },
            "marker": {
             "colorbar": {
              "outlinewidth": 0,
              "ticks": ""
             }
            },
            "type": "scatter3d"
           }
          ],
          "scattercarpet": [
           {
            "marker": {
             "colorbar": {
              "outlinewidth": 0,
              "ticks": ""
             }
            },
            "type": "scattercarpet"
           }
          ],
          "scattergeo": [
           {
            "marker": {
             "colorbar": {
              "outlinewidth": 0,
              "ticks": ""
             }
            },
            "type": "scattergeo"
           }
          ],
          "scattergl": [
           {
            "marker": {
             "colorbar": {
              "outlinewidth": 0,
              "ticks": ""
             }
            },
            "type": "scattergl"
           }
          ],
          "scattermapbox": [
           {
            "marker": {
             "colorbar": {
              "outlinewidth": 0,
              "ticks": ""
             }
            },
            "type": "scattermapbox"
           }
          ],
          "scatterpolar": [
           {
            "marker": {
             "colorbar": {
              "outlinewidth": 0,
              "ticks": ""
             }
            },
            "type": "scatterpolar"
           }
          ],
          "scatterpolargl": [
           {
            "marker": {
             "colorbar": {
              "outlinewidth": 0,
              "ticks": ""
             }
            },
            "type": "scatterpolargl"
           }
          ],
          "scatterternary": [
           {
            "marker": {
             "colorbar": {
              "outlinewidth": 0,
              "ticks": ""
             }
            },
            "type": "scatterternary"
           }
          ],
          "surface": [
           {
            "colorbar": {
             "outlinewidth": 0,
             "ticks": ""
            },
            "colorscale": [
             [
              0,
              "#0d0887"
             ],
             [
              0.1111111111111111,
              "#46039f"
             ],
             [
              0.2222222222222222,
              "#7201a8"
             ],
             [
              0.3333333333333333,
              "#9c179e"
             ],
             [
              0.4444444444444444,
              "#bd3786"
             ],
             [
              0.5555555555555556,
              "#d8576b"
             ],
             [
              0.6666666666666666,
              "#ed7953"
             ],
             [
              0.7777777777777778,
              "#fb9f3a"
             ],
             [
              0.8888888888888888,
              "#fdca26"
             ],
             [
              1,
              "#f0f921"
             ]
            ],
            "type": "surface"
           }
          ],
          "table": [
           {
            "cells": {
             "fill": {
              "color": "#EBF0F8"
             },
             "line": {
              "color": "white"
             }
            },
            "header": {
             "fill": {
              "color": "#C8D4E3"
             },
             "line": {
              "color": "white"
             }
            },
            "type": "table"
           }
          ]
         },
         "layout": {
          "annotationdefaults": {
           "arrowcolor": "#2a3f5f",
           "arrowhead": 0,
           "arrowwidth": 1
          },
          "autotypenumbers": "strict",
          "coloraxis": {
           "colorbar": {
            "outlinewidth": 0,
            "ticks": ""
           }
          },
          "colorscale": {
           "diverging": [
            [
             0,
             "#8e0152"
            ],
            [
             0.1,
             "#c51b7d"
            ],
            [
             0.2,
             "#de77ae"
            ],
            [
             0.3,
             "#f1b6da"
            ],
            [
             0.4,
             "#fde0ef"
            ],
            [
             0.5,
             "#f7f7f7"
            ],
            [
             0.6,
             "#e6f5d0"
            ],
            [
             0.7,
             "#b8e186"
            ],
            [
             0.8,
             "#7fbc41"
            ],
            [
             0.9,
             "#4d9221"
            ],
            [
             1,
             "#276419"
            ]
           ],
           "sequential": [
            [
             0,
             "#0d0887"
            ],
            [
             0.1111111111111111,
             "#46039f"
            ],
            [
             0.2222222222222222,
             "#7201a8"
            ],
            [
             0.3333333333333333,
             "#9c179e"
            ],
            [
             0.4444444444444444,
             "#bd3786"
            ],
            [
             0.5555555555555556,
             "#d8576b"
            ],
            [
             0.6666666666666666,
             "#ed7953"
            ],
            [
             0.7777777777777778,
             "#fb9f3a"
            ],
            [
             0.8888888888888888,
             "#fdca26"
            ],
            [
             1,
             "#f0f921"
            ]
           ],
           "sequentialminus": [
            [
             0,
             "#0d0887"
            ],
            [
             0.1111111111111111,
             "#46039f"
            ],
            [
             0.2222222222222222,
             "#7201a8"
            ],
            [
             0.3333333333333333,
             "#9c179e"
            ],
            [
             0.4444444444444444,
             "#bd3786"
            ],
            [
             0.5555555555555556,
             "#d8576b"
            ],
            [
             0.6666666666666666,
             "#ed7953"
            ],
            [
             0.7777777777777778,
             "#fb9f3a"
            ],
            [
             0.8888888888888888,
             "#fdca26"
            ],
            [
             1,
             "#f0f921"
            ]
           ]
          },
          "colorway": [
           "#636efa",
           "#EF553B",
           "#00cc96",
           "#ab63fa",
           "#FFA15A",
           "#19d3f3",
           "#FF6692",
           "#B6E880",
           "#FF97FF",
           "#FECB52"
          ],
          "font": {
           "color": "#2a3f5f"
          },
          "geo": {
           "bgcolor": "white",
           "lakecolor": "white",
           "landcolor": "#E5ECF6",
           "showlakes": true,
           "showland": true,
           "subunitcolor": "white"
          },
          "hoverlabel": {
           "align": "left"
          },
          "hovermode": "closest",
          "mapbox": {
           "style": "light"
          },
          "paper_bgcolor": "white",
          "plot_bgcolor": "#E5ECF6",
          "polar": {
           "angularaxis": {
            "gridcolor": "white",
            "linecolor": "white",
            "ticks": ""
           },
           "bgcolor": "#E5ECF6",
           "radialaxis": {
            "gridcolor": "white",
            "linecolor": "white",
            "ticks": ""
           }
          },
          "scene": {
           "xaxis": {
            "backgroundcolor": "#E5ECF6",
            "gridcolor": "white",
            "gridwidth": 2,
            "linecolor": "white",
            "showbackground": true,
            "ticks": "",
            "zerolinecolor": "white"
           },
           "yaxis": {
            "backgroundcolor": "#E5ECF6",
            "gridcolor": "white",
            "gridwidth": 2,
            "linecolor": "white",
            "showbackground": true,
            "ticks": "",
            "zerolinecolor": "white"
           },
           "zaxis": {
            "backgroundcolor": "#E5ECF6",
            "gridcolor": "white",
            "gridwidth": 2,
            "linecolor": "white",
            "showbackground": true,
            "ticks": "",
            "zerolinecolor": "white"
           }
          },
          "shapedefaults": {
           "line": {
            "color": "#2a3f5f"
           }
          },
          "ternary": {
           "aaxis": {
            "gridcolor": "white",
            "linecolor": "white",
            "ticks": ""
           },
           "baxis": {
            "gridcolor": "white",
            "linecolor": "white",
            "ticks": ""
           },
           "bgcolor": "#E5ECF6",
           "caxis": {
            "gridcolor": "white",
            "linecolor": "white",
            "ticks": ""
           }
          },
          "title": {
           "x": 0.05
          },
          "xaxis": {
           "automargin": true,
           "gridcolor": "white",
           "linecolor": "white",
           "ticks": "",
           "title": {
            "standoff": 15
           },
           "zerolinecolor": "white",
           "zerolinewidth": 2
          },
          "yaxis": {
           "automargin": true,
           "gridcolor": "white",
           "linecolor": "white",
           "ticks": "",
           "title": {
            "standoff": 15
           },
           "zerolinecolor": "white",
           "zerolinewidth": 2
          }
         }
        },
        "width": 900,
        "xaxis": {
         "anchor": "y",
         "domain": [
          0,
          0.98
         ],
         "dtick": 1,
         "range": [
          1979,
          2019
         ],
         "title": {
          "text": ""
         }
        },
        "xaxis2": {
         "anchor": "y2",
         "domain": [
          0,
          0.98
         ],
         "dtick": 1,
         "matches": "x",
         "showticklabels": false
        },
        "xaxis3": {
         "anchor": "y3",
         "domain": [
          0,
          0.98
         ],
         "dtick": 1,
         "matches": "x",
         "showticklabels": false
        },
        "yaxis": {
         "anchor": "x",
         "domain": [
          0,
          0.32666666666666666
         ],
         "title": {
          "text": "Yield (mt/ha)"
         }
        },
        "yaxis2": {
         "anchor": "x2",
         "domain": [
          0.33666666666666667,
          0.6633333333333333
         ],
         "title": {
          "text": "Area (ha)"
         }
        },
        "yaxis3": {
         "anchor": "x3",
         "domain": [
          0.6733333333333333,
          1
         ],
         "title": {
          "text": "Production (mt)"
         }
        }
       }
      }
     },
     "metadata": {},
     "output_type": "display_data"
    },
    {
     "name": "stdout",
     "output_type": "stream",
     "text": [
      "./figures/ZA_line_pay_Maize (Yellow)_Summer.png is saved.\n"
     ]
    },
    {
     "data": {
      "application/vnd.plotly.v1+json": {
       "config": {
        "plotlyServerURL": "https://plot.ly"
       },
       "data": [
        {
         "connectgaps": false,
         "hovertemplate": "fnid=ZA1994A101<br>indicator=production<br>year=%{x}<br>value=%{y}<extra></extra>",
         "legendgroup": "ZA1994A101",
         "line": {
          "color": "#636efa",
          "dash": "solid"
         },
         "marker": {
          "symbol": "circle"
         },
         "mode": "lines+markers",
         "name": "ZA1994A101",
         "orientation": "v",
         "showlegend": true,
         "type": "scatter",
         "x": [
          1987,
          1988,
          1989,
          1990,
          1991,
          1992,
          1993,
          1994,
          1995,
          1996,
          1997,
          1998,
          1999,
          2000,
          2001,
          2002,
          2003,
          2004,
          2005,
          2006,
          2007,
          2008,
          2009,
          2010,
          2011,
          2012,
          2013,
          2014,
          2015,
          2016,
          2017,
          2018,
          2019
         ],
         "xaxis": "x3",
         "y": [
          3000,
          2000,
          2000,
          2000,
          1000,
          2000,
          3000,
          4000,
          1900,
          16000,
          16900,
          5000,
          3769.5,
          4243,
          7800,
          14000,
          20400,
          14000,
          20000,
          27000,
          20000,
          30000,
          35000,
          14000,
          12400,
          25000,
          30000,
          28500,
          34200,
          40000,
          20000,
          33750,
          30600
         ],
         "yaxis": "y3"
        },
        {
         "connectgaps": false,
         "hovertemplate": "fnid=ZA1994A101<br>indicator=area<br>year=%{x}<br>value=%{y}<extra></extra>",
         "legendgroup": "ZA1994A101",
         "line": {
          "color": "#636efa",
          "dash": "solid"
         },
         "marker": {
          "symbol": "circle"
         },
         "mode": "lines+markers",
         "name": "ZA1994A101",
         "orientation": "v",
         "showlegend": false,
         "type": "scatter",
         "x": [
          1987,
          1988,
          1989,
          1990,
          1991,
          1992,
          1993,
          1994,
          1995,
          1996,
          1997,
          1998,
          1999,
          2000,
          2001,
          2002,
          2003,
          2004,
          2005,
          2006,
          2007,
          2008,
          2009,
          2010,
          2011,
          2012,
          2013,
          2014,
          2015,
          2016,
          2017,
          2018,
          2019
         ],
         "xaxis": "x2",
         "y": [
          2000,
          1000,
          1000,
          1000,
          1000,
          1000,
          1000,
          1600,
          1700,
          3000,
          3000,
          1000,
          1130,
          1375,
          1300,
          2000,
          3000,
          2000,
          2000,
          2700,
          2000,
          3000,
          3500,
          2000,
          2000,
          2500,
          3000,
          3000,
          3800,
          4000,
          2000,
          3750,
          3400
         ],
         "yaxis": "y2"
        },
        {
         "connectgaps": false,
         "hovertemplate": "fnid=ZA1994A101<br>indicator=yield<br>year=%{x}<br>value=%{y}<extra></extra>",
         "legendgroup": "ZA1994A101",
         "line": {
          "color": "#636efa",
          "dash": "solid"
         },
         "marker": {
          "symbol": "circle"
         },
         "mode": "lines+markers",
         "name": "ZA1994A101",
         "orientation": "v",
         "showlegend": false,
         "type": "scatter",
         "x": [
          1987,
          1988,
          1989,
          1990,
          1991,
          1992,
          1993,
          1994,
          1995,
          1996,
          1997,
          1998,
          1999,
          2000,
          2001,
          2002,
          2003,
          2004,
          2005,
          2006,
          2007,
          2008,
          2009,
          2010,
          2011,
          2012,
          2013,
          2014,
          2015,
          2016,
          2017,
          2018,
          2019
         ],
         "xaxis": "x",
         "y": [
          1.5,
          2,
          2,
          2,
          1,
          2,
          3,
          2.5,
          1.1176470588235294,
          5.333333333333333,
          5.633333333333334,
          5,
          3.7654761904761904,
          2.948112807463952,
          6,
          7,
          6.8,
          7,
          10,
          10,
          10,
          10,
          10,
          7,
          6.2,
          10,
          10,
          9.5,
          9,
          10,
          10,
          9,
          9
         ],
         "yaxis": "y"
        },
        {
         "connectgaps": false,
         "hovertemplate": "fnid=ZA1994A102<br>indicator=production<br>year=%{x}<br>value=%{y}<extra></extra>",
         "legendgroup": "ZA1994A102",
         "line": {
          "color": "#EF553B",
          "dash": "solid"
         },
         "marker": {
          "symbol": "circle"
         },
         "mode": "lines+markers",
         "name": "ZA1994A102",
         "orientation": "v",
         "showlegend": true,
         "type": "scatter",
         "x": [
          1987,
          1988,
          1989,
          1990,
          1991,
          1992,
          1993,
          1994,
          1995,
          1996,
          1997,
          1998,
          1999,
          2000,
          2001,
          2002,
          2003,
          2004,
          2005,
          2006,
          2007,
          2008,
          2009,
          2010,
          2011,
          2012,
          2013,
          2014,
          2015,
          2016,
          2017,
          2018,
          2019
         ],
         "xaxis": "x3",
         "y": [
          74000,
          48000,
          43000,
          22000,
          21000,
          32000,
          39000,
          46000,
          30006,
          69000,
          29000,
          20000,
          57500,
          59750,
          25200,
          33600,
          35800,
          61600,
          68900,
          55000,
          67600,
          70000,
          76500,
          66000,
          57600,
          75000,
          90000,
          97600,
          84000,
          66000,
          66500,
          71500,
          69630
         ],
         "yaxis": "y3"
        },
        {
         "connectgaps": false,
         "hovertemplate": "fnid=ZA1994A102<br>indicator=area<br>year=%{x}<br>value=%{y}<extra></extra>",
         "legendgroup": "ZA1994A102",
         "line": {
          "color": "#EF553B",
          "dash": "solid"
         },
         "marker": {
          "symbol": "circle"
         },
         "mode": "lines+markers",
         "name": "ZA1994A102",
         "orientation": "v",
         "showlegend": false,
         "type": "scatter",
         "x": [
          1987,
          1988,
          1989,
          1990,
          1991,
          1992,
          1993,
          1994,
          1995,
          1996,
          1997,
          1998,
          1999,
          2000,
          2001,
          2002,
          2003,
          2004,
          2005,
          2006,
          2007,
          2008,
          2009,
          2010,
          2011,
          2012,
          2013,
          2014,
          2015,
          2016,
          2017,
          2018,
          2019
         ],
         "xaxis": "x2",
         "y": [
          38000,
          29000,
          24000,
          13000,
          11000,
          19000,
          17000,
          19000,
          18000,
          24000,
          9000,
          5000,
          55000,
          56000,
          6000,
          7000,
          7000,
          15000,
          13000,
          10000,
          13000,
          13000,
          13000,
          13200,
          12000,
          13500,
          15000,
          16000,
          14000,
          12000,
          9500,
          11000,
          10200
         ],
         "yaxis": "y2"
        },
        {
         "connectgaps": false,
         "hovertemplate": "fnid=ZA1994A102<br>indicator=yield<br>year=%{x}<br>value=%{y}<extra></extra>",
         "legendgroup": "ZA1994A102",
         "line": {
          "color": "#EF553B",
          "dash": "solid"
         },
         "marker": {
          "symbol": "circle"
         },
         "mode": "lines+markers",
         "name": "ZA1994A102",
         "orientation": "v",
         "showlegend": false,
         "type": "scatter",
         "x": [
          1987,
          1988,
          1989,
          1990,
          1991,
          1992,
          1993,
          1994,
          1995,
          1996,
          1997,
          1998,
          1999,
          2000,
          2001,
          2002,
          2003,
          2004,
          2005,
          2006,
          2007,
          2008,
          2009,
          2010,
          2011,
          2012,
          2013,
          2014,
          2015,
          2016,
          2017,
          2018,
          2019
         ],
         "xaxis": "x",
         "y": [
          1.9473684210526316,
          1.6551724137931034,
          1.7916666666666667,
          1.6923076923076923,
          1.9090909090909092,
          1.6842105263157894,
          2.2941176470588234,
          2.4210526315789473,
          1.667,
          2.875,
          3.2222222222222223,
          4,
          2.4523809523809526,
          2.2023809523809526,
          4.2,
          4.8,
          5.114285714285714,
          4.1066666666666665,
          5.3,
          5.5,
          5.2,
          5.384615384615385,
          5.884615384615385,
          5,
          4.8,
          5.555555555555555,
          6,
          6.1,
          6,
          5.5,
          7,
          6.5,
          6.826470588235294
         ],
         "yaxis": "y"
        },
        {
         "connectgaps": false,
         "hovertemplate": "fnid=ZA1994A103<br>indicator=production<br>year=%{x}<br>value=%{y}<extra></extra>",
         "legendgroup": "ZA1994A103",
         "line": {
          "color": "#00cc96",
          "dash": "solid"
         },
         "marker": {
          "symbol": "circle"
         },
         "mode": "lines+markers",
         "name": "ZA1994A103",
         "orientation": "v",
         "showlegend": true,
         "type": "scatter",
         "x": [
          1987,
          1988,
          1989,
          1990,
          1991,
          1992,
          1993,
          1994,
          1995,
          1996,
          1997,
          1998,
          1999,
          2000,
          2001,
          2002,
          2003,
          2004,
          2005,
          2006,
          2007,
          2008,
          2009,
          2010,
          2011,
          2012,
          2013,
          2014,
          2015,
          2016,
          2017,
          2018,
          2019
         ],
         "xaxis": "x3",
         "y": [
          93000,
          100000,
          129000,
          88000,
          91000,
          109000,
          135000,
          156000,
          137009,
          127007,
          173300,
          155000,
          152000,
          220000,
          288550,
          473500,
          421500,
          448500,
          526400,
          278000,
          498000,
          626000,
          605000,
          586000,
          515200,
          592000,
          650000,
          638400,
          644000,
          675000,
          666000,
          636400,
          630750
         ],
         "yaxis": "y3"
        },
        {
         "connectgaps": false,
         "hovertemplate": "fnid=ZA1994A103<br>indicator=area<br>year=%{x}<br>value=%{y}<extra></extra>",
         "legendgroup": "ZA1994A103",
         "line": {
          "color": "#00cc96",
          "dash": "solid"
         },
         "marker": {
          "symbol": "circle"
         },
         "mode": "lines+markers",
         "name": "ZA1994A103",
         "orientation": "v",
         "showlegend": false,
         "type": "scatter",
         "x": [
          1987,
          1988,
          1989,
          1990,
          1991,
          1992,
          1993,
          1994,
          1995,
          1996,
          1997,
          1998,
          1999,
          2000,
          2001,
          2002,
          2003,
          2004,
          2005,
          2006,
          2007,
          2008,
          2009,
          2010,
          2011,
          2012,
          2013,
          2014,
          2015,
          2016,
          2017,
          2018,
          2019
         ],
         "xaxis": "x2",
         "y": [
          20000,
          21000,
          23000,
          15000,
          13000,
          19000,
          22000,
          24000,
          19000,
          17000,
          22000,
          17000,
          19000,
          20000,
          29000,
          48300,
          43000,
          42500,
          47000,
          25000,
          45000,
          52000,
          48000,
          51000,
          45000,
          47000,
          51000,
          48000,
          46000,
          50000,
          45000,
          43000,
          43500
         ],
         "yaxis": "y2"
        },
        {
         "connectgaps": false,
         "hovertemplate": "fnid=ZA1994A103<br>indicator=yield<br>year=%{x}<br>value=%{y}<extra></extra>",
         "legendgroup": "ZA1994A103",
         "line": {
          "color": "#00cc96",
          "dash": "solid"
         },
         "marker": {
          "symbol": "circle"
         },
         "mode": "lines+markers",
         "name": "ZA1994A103",
         "orientation": "v",
         "showlegend": false,
         "type": "scatter",
         "x": [
          1987,
          1988,
          1989,
          1990,
          1991,
          1992,
          1993,
          1994,
          1995,
          1996,
          1997,
          1998,
          1999,
          2000,
          2001,
          2002,
          2003,
          2004,
          2005,
          2006,
          2007,
          2008,
          2009,
          2010,
          2011,
          2012,
          2013,
          2014,
          2015,
          2016,
          2017,
          2018,
          2019
         ],
         "xaxis": "x",
         "y": [
          4.65,
          4.761904761904762,
          5.608695652173913,
          5.866666666666666,
          7,
          5.7368421052631575,
          6.136363636363637,
          6.5,
          7.211,
          7.471,
          7.877272727272727,
          9.117647058823529,
          8,
          11,
          9.95,
          9.803312629399587,
          9.80232558139535,
          10.552941176470588,
          11.2,
          11.12,
          11.066666666666666,
          12.038461538461538,
          12.604166666666666,
          11.490196078431373,
          11.448888888888888,
          12.595744680851064,
          12.745098039215685,
          13.3,
          14,
          13.5,
          14.8,
          14.8,
          14.5
         ],
         "yaxis": "y"
        },
        {
         "connectgaps": false,
         "hovertemplate": "fnid=ZA1994A104<br>indicator=production<br>year=%{x}<br>value=%{y}<extra></extra>",
         "legendgroup": "ZA1994A104",
         "line": {
          "color": "#ab63fa",
          "dash": "solid"
         },
         "marker": {
          "symbol": "circle"
         },
         "mode": "lines+markers",
         "name": "ZA1994A104",
         "orientation": "v",
         "showlegend": true,
         "type": "scatter",
         "x": [
          1987,
          1988,
          1989,
          1990,
          1991,
          1992,
          1993,
          1994,
          1995,
          1996,
          1997,
          1998,
          1999,
          2000,
          2001,
          2002,
          2003,
          2004,
          2005,
          2006,
          2007,
          2008,
          2009,
          2010,
          2011,
          2012,
          2013,
          2014,
          2015,
          2016,
          2017,
          2018,
          2019
         ],
         "xaxis": "x3",
         "y": [
          785000,
          822000,
          1405000,
          1191000,
          951000,
          295000,
          1349000,
          2150000,
          547080,
          1059950,
          1360000,
          815000,
          425343,
          677355,
          949000,
          1153000,
          821500,
          1050000,
          1455000,
          680000,
          930000,
          1950000,
          1900000,
          1902000,
          1461500,
          1773000,
          2310800,
          2487750,
          1708500,
          1007500,
          2252000,
          2009000,
          1710000
         ],
         "yaxis": "y3"
        },
        {
         "connectgaps": false,
         "hovertemplate": "fnid=ZA1994A104<br>indicator=area<br>year=%{x}<br>value=%{y}<extra></extra>",
         "legendgroup": "ZA1994A104",
         "line": {
          "color": "#ab63fa",
          "dash": "solid"
         },
         "marker": {
          "symbol": "circle"
         },
         "mode": "lines+markers",
         "name": "ZA1994A104",
         "orientation": "v",
         "showlegend": false,
         "type": "scatter",
         "x": [
          1987,
          1988,
          1989,
          1990,
          1991,
          1992,
          1993,
          1994,
          1995,
          1996,
          1997,
          1998,
          1999,
          2000,
          2001,
          2002,
          2003,
          2004,
          2005,
          2006,
          2007,
          2008,
          2009,
          2010,
          2011,
          2012,
          2013,
          2014,
          2015,
          2016,
          2017,
          2018,
          2019
         ],
         "xaxis": "x2",
         "y": [
          494000,
          452000,
          483000,
          498000,
          455000,
          423000,
          529000,
          608000,
          470000,
          425000,
          485000,
          360000,
          181065,
          226075,
          365000,
          378000,
          310000,
          350000,
          385000,
          190000,
          380000,
          480000,
          390000,
          466000,
          395000,
          450000,
          505000,
          465000,
          510000,
          310000,
          355000,
          410000,
          380000
         ],
         "yaxis": "y2"
        },
        {
         "connectgaps": false,
         "hovertemplate": "fnid=ZA1994A104<br>indicator=yield<br>year=%{x}<br>value=%{y}<extra></extra>",
         "legendgroup": "ZA1994A104",
         "line": {
          "color": "#ab63fa",
          "dash": "solid"
         },
         "marker": {
          "symbol": "circle"
         },
         "mode": "lines+markers",
         "name": "ZA1994A104",
         "orientation": "v",
         "showlegend": false,
         "type": "scatter",
         "x": [
          1987,
          1988,
          1989,
          1990,
          1991,
          1992,
          1993,
          1994,
          1995,
          1996,
          1997,
          1998,
          1999,
          2000,
          2001,
          2002,
          2003,
          2004,
          2005,
          2006,
          2007,
          2008,
          2009,
          2010,
          2011,
          2012,
          2013,
          2014,
          2015,
          2016,
          2017,
          2018,
          2019
         ],
         "xaxis": "x",
         "y": [
          1.5890688259109311,
          1.8185840707964602,
          2.908902691511387,
          2.391566265060241,
          2.0901098901098902,
          0.6973995271867612,
          2.5500945179584122,
          3.536184210526316,
          1.164,
          2.494,
          2.804123711340206,
          2.263888888888889,
          2.2750000000000004,
          2.5953488372093023,
          2.6,
          3.0502645502645502,
          2.65,
          3,
          3.779220779220779,
          3.5789473684210527,
          2.4473684210526314,
          4.0625,
          4.871794871794871,
          4.081545064377682,
          3.7,
          3.94,
          4.5758415841584155,
          5.35,
          3.35,
          3.25,
          6.343661971830986,
          4.9,
          4.5
         ],
         "yaxis": "y"
        },
        {
         "connectgaps": false,
         "hovertemplate": "fnid=ZA1994A105<br>indicator=production<br>year=%{x}<br>value=%{y}<extra></extra>",
         "legendgroup": "ZA1994A105",
         "line": {
          "color": "#FFA15A",
          "dash": "solid"
         },
         "marker": {
          "symbol": "circle"
         },
         "mode": "lines+markers",
         "name": "ZA1994A105",
         "orientation": "v",
         "showlegend": true,
         "type": "scatter",
         "x": [
          1987,
          1988,
          1989,
          1990,
          1991,
          1992,
          1993,
          1994,
          1995,
          1996,
          1997,
          1998,
          1999,
          2000,
          2001,
          2002,
          2003,
          2004,
          2005,
          2006,
          2007,
          2008,
          2009,
          2010,
          2011,
          2012,
          2013,
          2014,
          2015,
          2016,
          2017,
          2018,
          2019
         ],
         "xaxis": "x3",
         "y": [
          164000,
          185000,
          226000,
          217000,
          234000,
          183000,
          220000,
          163000,
          134993,
          182990,
          218000,
          158000,
          66500,
          85950,
          165600,
          255000,
          177600,
          215000,
          230000,
          135000,
          169200,
          252000,
          273000,
          252000,
          235000,
          270000,
          315000,
          292500,
          283500,
          304800,
          390000,
          380000,
          399600
         ],
         "yaxis": "y3"
        },
        {
         "connectgaps": false,
         "hovertemplate": "fnid=ZA1994A105<br>indicator=area<br>year=%{x}<br>value=%{y}<extra></extra>",
         "legendgroup": "ZA1994A105",
         "line": {
          "color": "#FFA15A",
          "dash": "solid"
         },
         "marker": {
          "symbol": "circle"
         },
         "mode": "lines+markers",
         "name": "ZA1994A105",
         "orientation": "v",
         "showlegend": false,
         "type": "scatter",
         "x": [
          1987,
          1988,
          1989,
          1990,
          1991,
          1992,
          1993,
          1994,
          1995,
          1996,
          1997,
          1998,
          1999,
          2000,
          2001,
          2002,
          2003,
          2004,
          2005,
          2006,
          2007,
          2008,
          2009,
          2010,
          2011,
          2012,
          2013,
          2014,
          2015,
          2016,
          2017,
          2018,
          2019
         ],
         "xaxis": "x2",
         "y": [
          54000,
          67000,
          62000,
          63000,
          53000,
          58000,
          61000,
          62000,
          61000,
          58000,
          64000,
          54000,
          31500,
          31900,
          46000,
          50000,
          40000,
          43000,
          46000,
          27000,
          36000,
          42000,
          42000,
          42000,
          42000,
          45000,
          48000,
          45000,
          45000,
          48000,
          50000,
          50000,
          54000
         ],
         "yaxis": "y2"
        },
        {
         "connectgaps": false,
         "hovertemplate": "fnid=ZA1994A105<br>indicator=yield<br>year=%{x}<br>value=%{y}<extra></extra>",
         "legendgroup": "ZA1994A105",
         "line": {
          "color": "#FFA15A",
          "dash": "solid"
         },
         "marker": {
          "symbol": "circle"
         },
         "mode": "lines+markers",
         "name": "ZA1994A105",
         "orientation": "v",
         "showlegend": false,
         "type": "scatter",
         "x": [
          1987,
          1988,
          1989,
          1990,
          1991,
          1992,
          1993,
          1994,
          1995,
          1996,
          1997,
          1998,
          1999,
          2000,
          2001,
          2002,
          2003,
          2004,
          2005,
          2006,
          2007,
          2008,
          2009,
          2010,
          2011,
          2012,
          2013,
          2014,
          2015,
          2016,
          2017,
          2018,
          2019
         ],
         "xaxis": "x",
         "y": [
          3.037037037037037,
          2.7611940298507465,
          3.6451612903225805,
          3.4444444444444446,
          4.415094339622642,
          3.1551724137931036,
          3.6065573770491803,
          2.629032258064516,
          2.213,
          3.155,
          3.40625,
          2.925925925925926,
          1.4950980392156863,
          1.9,
          3.6,
          5.1,
          4.44,
          5,
          5,
          5,
          4.7,
          6,
          6.5,
          6,
          5.595238095238095,
          6,
          6.5625,
          6.5,
          6.3,
          6.35,
          7.8,
          7.6,
          7.4
         ],
         "yaxis": "y"
        },
        {
         "connectgaps": false,
         "hovertemplate": "fnid=ZA1994A106<br>indicator=production<br>year=%{x}<br>value=%{y}<extra></extra>",
         "legendgroup": "ZA1994A106",
         "line": {
          "color": "#19d3f3",
          "dash": "solid"
         },
         "marker": {
          "symbol": "circle"
         },
         "mode": "lines+markers",
         "name": "ZA1994A106",
         "orientation": "v",
         "showlegend": true,
         "type": "scatter",
         "x": [
          1987,
          1988,
          1989,
          1990,
          1991,
          1992,
          1993,
          1994,
          1995,
          1996,
          1997,
          1998,
          1999,
          2000,
          2001,
          2002,
          2003,
          2004,
          2005,
          2006,
          2007,
          2008,
          2009,
          2010,
          2011,
          2012,
          2013,
          2014,
          2015,
          2016,
          2017,
          2018,
          2019
         ],
         "xaxis": "x3",
         "y": [
          661000,
          539000,
          1218000,
          740000,
          681000,
          72000,
          739000,
          1196000,
          365040,
          912945,
          1150000,
          545400,
          211675,
          410000,
          638000,
          838750,
          466000,
          518400,
          677500,
          310000,
          240000,
          664000,
          555000,
          518000,
          508000,
          558000,
          455000,
          705000,
          444000,
          285000,
          561000,
          440000,
          399000
         ],
         "yaxis": "y3"
        },
        {
         "connectgaps": false,
         "hovertemplate": "fnid=ZA1994A106<br>indicator=area<br>year=%{x}<br>value=%{y}<extra></extra>",
         "legendgroup": "ZA1994A106",
         "line": {
          "color": "#19d3f3",
          "dash": "solid"
         },
         "marker": {
          "symbol": "circle"
         },
         "mode": "lines+markers",
         "name": "ZA1994A106",
         "orientation": "v",
         "showlegend": false,
         "type": "scatter",
         "x": [
          1987,
          1988,
          1989,
          1990,
          1991,
          1992,
          1993,
          1994,
          1995,
          1996,
          1997,
          1998,
          1999,
          2000,
          2001,
          2002,
          2003,
          2004,
          2005,
          2006,
          2007,
          2008,
          2009,
          2010,
          2011,
          2012,
          2013,
          2014,
          2015,
          2016,
          2017,
          2018,
          2019
         ],
         "xaxis": "x2",
         "y": [
          571000,
          388000,
          420000,
          377000,
          377000,
          494000,
          402000,
          460000,
          360000,
          363000,
          460000,
          295000,
          138750,
          162500,
          290000,
          305000,
          210000,
          192000,
          215000,
          107000,
          150000,
          170000,
          135000,
          140000,
          145000,
          155000,
          175000,
          155000,
          185000,
          100000,
          110000,
          110000,
          95000
         ],
         "yaxis": "y2"
        },
        {
         "connectgaps": false,
         "hovertemplate": "fnid=ZA1994A106<br>indicator=yield<br>year=%{x}<br>value=%{y}<extra></extra>",
         "legendgroup": "ZA1994A106",
         "line": {
          "color": "#19d3f3",
          "dash": "solid"
         },
         "marker": {
          "symbol": "circle"
         },
         "mode": "lines+markers",
         "name": "ZA1994A106",
         "orientation": "v",
         "showlegend": false,
         "type": "scatter",
         "x": [
          1987,
          1988,
          1989,
          1990,
          1991,
          1992,
          1993,
          1994,
          1995,
          1996,
          1997,
          1998,
          1999,
          2000,
          2001,
          2002,
          2003,
          2004,
          2005,
          2006,
          2007,
          2008,
          2009,
          2010,
          2011,
          2012,
          2013,
          2014,
          2015,
          2016,
          2017,
          2018,
          2019
         ],
         "xaxis": "x",
         "y": [
          1.157618213660245,
          1.3891752577319587,
          2.9,
          1.9628647214854111,
          1.806366047745358,
          0.145748987854251,
          1.8383084577114428,
          2.6,
          1.014,
          2.515,
          2.5,
          1.8488135593220338,
          1.239812508194572,
          1.7666666666666666,
          2.2,
          2.75,
          2.219047619047619,
          2.7,
          3.1511627906976742,
          2.897196261682243,
          1.6,
          3.9058823529411764,
          4.111111111111111,
          3.7,
          3.503448275862069,
          3.6,
          2.6,
          4.548387096774194,
          2.4,
          2.85,
          5.1,
          4,
          4.2
         ],
         "yaxis": "y"
        },
        {
         "connectgaps": false,
         "hovertemplate": "fnid=ZA1994A107<br>indicator=production<br>year=%{x}<br>value=%{y}<extra></extra>",
         "legendgroup": "ZA1994A107",
         "line": {
          "color": "#FF6692",
          "dash": "solid"
         },
         "marker": {
          "symbol": "circle"
         },
         "mode": "lines+markers",
         "name": "ZA1994A107",
         "orientation": "v",
         "showlegend": true,
         "type": "scatter",
         "x": [
          1987,
          1988,
          1989,
          1990,
          1991,
          1992,
          1993,
          1994,
          1995,
          1996,
          1997,
          1998,
          1999,
          2000,
          2001,
          2002,
          2003,
          2004,
          2005,
          2006,
          2007,
          2008,
          2009,
          2010,
          2011,
          2012,
          2013,
          2014,
          2015,
          2016,
          2017,
          2018,
          2019
         ],
         "xaxis": "x3",
         "y": [
          242000,
          164000,
          446000,
          234000,
          292000,
          99000,
          276000,
          460000,
          178048,
          273978,
          210000,
          212500,
          150000,
          99200,
          154000,
          247500,
          153500,
          185500,
          232300,
          80000,
          80000,
          168000,
          175500,
          192000,
          180300,
          200000,
          230000,
          291250,
          292500,
          224000,
          414000,
          372000,
          348000
         ],
         "yaxis": "y3"
        },
        {
         "connectgaps": false,
         "hovertemplate": "fnid=ZA1994A107<br>indicator=area<br>year=%{x}<br>value=%{y}<extra></extra>",
         "legendgroup": "ZA1994A107",
         "line": {
          "color": "#FF6692",
          "dash": "solid"
         },
         "marker": {
          "symbol": "circle"
         },
         "mode": "lines+markers",
         "name": "ZA1994A107",
         "orientation": "v",
         "showlegend": false,
         "type": "scatter",
         "x": [
          1987,
          1988,
          1989,
          1990,
          1991,
          1992,
          1993,
          1994,
          1995,
          1996,
          1997,
          1998,
          1999,
          2000,
          2001,
          2002,
          2003,
          2004,
          2005,
          2006,
          2007,
          2008,
          2009,
          2010,
          2011,
          2012,
          2013,
          2014,
          2015,
          2016,
          2017,
          2018,
          2019
         ],
         "xaxis": "x2",
         "y": [
          100000,
          73000,
          134000,
          84000,
          87000,
          89000,
          95000,
          100000,
          107000,
          62000,
          78000,
          78300,
          60000,
          27600,
          55000,
          66000,
          51000,
          54500,
          56000,
          20000,
          35000,
          36000,
          30000,
          40000,
          41000,
          42000,
          43500,
          53000,
          65000,
          56000,
          60000,
          62000,
          60000
         ],
         "yaxis": "y2"
        },
        {
         "connectgaps": false,
         "hovertemplate": "fnid=ZA1994A107<br>indicator=yield<br>year=%{x}<br>value=%{y}<extra></extra>",
         "legendgroup": "ZA1994A107",
         "line": {
          "color": "#FF6692",
          "dash": "solid"
         },
         "marker": {
          "symbol": "circle"
         },
         "mode": "lines+markers",
         "name": "ZA1994A107",
         "orientation": "v",
         "showlegend": false,
         "type": "scatter",
         "x": [
          1987,
          1988,
          1989,
          1990,
          1991,
          1992,
          1993,
          1994,
          1995,
          1996,
          1997,
          1998,
          1999,
          2000,
          2001,
          2002,
          2003,
          2004,
          2005,
          2006,
          2007,
          2008,
          2009,
          2010,
          2011,
          2012,
          2013,
          2014,
          2015,
          2016,
          2017,
          2018,
          2019
         ],
         "xaxis": "x",
         "y": [
          2.42,
          2.2465753424657535,
          3.328358208955224,
          2.7857142857142856,
          3.3563218390804597,
          1.1123595505617978,
          2.905263157894737,
          4.6,
          1.664,
          4.419,
          2.6923076923076925,
          2.713920817369093,
          2.5,
          2.8,
          2.8,
          3.75,
          3.0098039215686274,
          3.403669724770642,
          4.148214285714285,
          4,
          2.2857142857142856,
          4.666666666666667,
          5.85,
          4.8,
          4.397560975609756,
          4.761904761904762,
          5.287356321839081,
          5.495283018867925,
          4.5,
          4,
          6.9,
          6,
          5.8
         ],
         "yaxis": "y"
        },
        {
         "connectgaps": false,
         "hovertemplate": "fnid=ZA1994A108<br>indicator=production<br>year=%{x}<br>value=%{y}<extra></extra>",
         "legendgroup": "ZA1994A108",
         "line": {
          "color": "#B6E880",
          "dash": "solid"
         },
         "marker": {
          "symbol": "circle"
         },
         "mode": "lines+markers",
         "name": "ZA1994A108",
         "orientation": "v",
         "showlegend": true,
         "type": "scatter",
         "x": [
          1987,
          1988,
          1989,
          1990,
          1991,
          1992,
          1993,
          1994,
          1995,
          1996,
          1997,
          1998,
          1999,
          2000,
          2001,
          2002,
          2003,
          2004,
          2005,
          2006,
          2007,
          2008,
          2009,
          2010,
          2011,
          2012,
          2013,
          2014,
          2015,
          2016,
          2017,
          2018,
          2019
         ],
         "xaxis": "x3",
         "y": [
          1413000,
          1091000,
          1670000,
          1467000,
          1700000,
          885000,
          1876000,
          2116000,
          868172,
          1204218,
          1200000,
          825000,
          437000,
          1204500,
          868000,
          1162500,
          907500,
          1164000,
          1673200,
          850000,
          770000,
          1400000,
          1580000,
          1375000,
          1290000,
          1625000,
          1985000,
          1875000,
          1605300,
          1551000,
          2342500,
          2040000,
          1943500
         ],
         "yaxis": "y3"
        },
        {
         "connectgaps": false,
         "hovertemplate": "fnid=ZA1994A108<br>indicator=area<br>year=%{x}<br>value=%{y}<extra></extra>",
         "legendgroup": "ZA1994A108",
         "line": {
          "color": "#B6E880",
          "dash": "solid"
         },
         "marker": {
          "symbol": "circle"
         },
         "mode": "lines+markers",
         "name": "ZA1994A108",
         "orientation": "v",
         "showlegend": false,
         "type": "scatter",
         "x": [
          1987,
          1988,
          1989,
          1990,
          1991,
          1992,
          1993,
          1994,
          1995,
          1996,
          1997,
          1998,
          1999,
          2000,
          2001,
          2002,
          2003,
          2004,
          2005,
          2006,
          2007,
          2008,
          2009,
          2010,
          2011,
          2012,
          2013,
          2014,
          2015,
          2016,
          2017,
          2018,
          2019
         ],
         "xaxis": "x2",
         "y": [
          499000,
          444000,
          476000,
          475000,
          481000,
          495000,
          539000,
          594000,
          508000,
          447000,
          441000,
          345000,
          167500,
          315000,
          310000,
          310000,
          280000,
          295000,
          336000,
          180000,
          250000,
          250000,
          262000,
          250000,
          260000,
          290000,
          300000,
          332000,
          315000,
          330000,
          330000,
          340000,
          338000
         ],
         "yaxis": "y2"
        },
        {
         "connectgaps": false,
         "hovertemplate": "fnid=ZA1994A108<br>indicator=yield<br>year=%{x}<br>value=%{y}<extra></extra>",
         "legendgroup": "ZA1994A108",
         "line": {
          "color": "#B6E880",
          "dash": "solid"
         },
         "marker": {
          "symbol": "circle"
         },
         "mode": "lines+markers",
         "name": "ZA1994A108",
         "orientation": "v",
         "showlegend": false,
         "type": "scatter",
         "x": [
          1987,
          1988,
          1989,
          1990,
          1991,
          1992,
          1993,
          1994,
          1995,
          1996,
          1997,
          1998,
          1999,
          2000,
          2001,
          2002,
          2003,
          2004,
          2005,
          2006,
          2007,
          2008,
          2009,
          2010,
          2011,
          2012,
          2013,
          2014,
          2015,
          2016,
          2017,
          2018,
          2019
         ],
         "xaxis": "x",
         "y": [
          2.8316633266533064,
          2.4572072072072073,
          3.508403361344538,
          3.088421052631579,
          3.5343035343035343,
          1.7878787878787878,
          3.4805194805194803,
          3.5622895622895623,
          1.709,
          2.694,
          2.7210884353741496,
          2.391304347826087,
          1.7553732210281732,
          3.8324999999999996,
          2.8,
          3.75,
          3.2410714285714284,
          3.9457627118644067,
          4.979761904761904,
          4.722222222222222,
          3.08,
          5.6,
          6.030534351145038,
          5.5,
          4.961538461538462,
          5.603448275862069,
          6.616666666666666,
          5.647590361445783,
          5.096190476190476,
          4.7,
          7.098484848484849,
          6,
          5.75
         ],
         "yaxis": "y"
        },
        {
         "connectgaps": false,
         "hovertemplate": "fnid=ZA1994A109<br>indicator=production<br>year=%{x}<br>value=%{y}<extra></extra>",
         "legendgroup": "ZA1994A109",
         "line": {
          "color": "#FF97FF",
          "dash": "solid"
         },
         "marker": {
          "symbol": "circle"
         },
         "mode": "lines+markers",
         "name": "ZA1994A109",
         "orientation": "v",
         "showlegend": true,
         "type": "scatter",
         "x": [
          1987,
          1988,
          1989,
          1990,
          1991,
          1992,
          1993,
          1994,
          1995,
          1996,
          1997,
          1998,
          1999,
          2000,
          2001,
          2002,
          2003,
          2004,
          2005,
          2006,
          2007,
          2008,
          2009,
          2010,
          2011,
          2012,
          2013,
          2014,
          2015,
          2016,
          2017,
          2018,
          2019
         ],
         "xaxis": "x3",
         "y": [
          61000,
          3000,
          46000,
          19000,
          25000,
          27000,
          24000,
          17000,
          7002,
          12000,
          15800,
          8100,
          3184.5,
          5685,
          19200,
          null,
          22100,
          null,
          26000,
          15600,
          35200,
          60000,
          75000,
          80000,
          48000,
          99000,
          138000,
          124000,
          124000,
          129800,
          192000,
          147000,
          117000
         ],
         "yaxis": "y3"
        },
        {
         "connectgaps": false,
         "hovertemplate": "fnid=ZA1994A109<br>indicator=area<br>year=%{x}<br>value=%{y}<extra></extra>",
         "legendgroup": "ZA1994A109",
         "line": {
          "color": "#FF97FF",
          "dash": "solid"
         },
         "marker": {
          "symbol": "circle"
         },
         "mode": "lines+markers",
         "name": "ZA1994A109",
         "orientation": "v",
         "showlegend": false,
         "type": "scatter",
         "x": [
          1987,
          1988,
          1989,
          1990,
          1991,
          1992,
          1993,
          1994,
          1995,
          1996,
          1997,
          1998,
          1999,
          2000,
          2001,
          2002,
          2003,
          2004,
          2005,
          2006,
          2007,
          2008,
          2009,
          2010,
          2011,
          2012,
          2013,
          2014,
          2015,
          2016,
          2017,
          2018,
          2019
         ],
         "xaxis": "x2",
         "y": [
          34000,
          2000,
          22000,
          12000,
          12000,
          8000,
          12000,
          10000,
          6000,
          4000,
          5000,
          3500,
          2988,
          3490,
          9600,
          null,
          8500,
          null,
          10000,
          5500,
          16000,
          16000,
          15000,
          18500,
          12000,
          18000,
          23500,
          20000,
          21000,
          22000,
          24000,
          21000,
          18000
         ],
         "yaxis": "y2"
        },
        {
         "connectgaps": false,
         "hovertemplate": "fnid=ZA1994A109<br>indicator=yield<br>year=%{x}<br>value=%{y}<extra></extra>",
         "legendgroup": "ZA1994A109",
         "line": {
          "color": "#FF97FF",
          "dash": "solid"
         },
         "marker": {
          "symbol": "circle"
         },
         "mode": "lines+markers",
         "name": "ZA1994A109",
         "orientation": "v",
         "showlegend": false,
         "type": "scatter",
         "x": [
          1987,
          1988,
          1989,
          1990,
          1991,
          1992,
          1993,
          1994,
          1995,
          1996,
          1997,
          1998,
          1999,
          2000,
          2001,
          2002,
          2003,
          2004,
          2005,
          2006,
          2007,
          2008,
          2009,
          2010,
          2011,
          2012,
          2013,
          2014,
          2015,
          2016,
          2017,
          2018,
          2019
         ],
         "xaxis": "x",
         "y": [
          1.7941176470588236,
          1.5,
          2.090909090909091,
          1.5833333333333333,
          2.0833333333333335,
          3.375,
          2,
          1.7,
          1.167,
          3,
          3.16,
          2.3142857142857145,
          1.063340053763441,
          1.4798657718120805,
          2,
          null,
          2.6,
          null,
          2.6,
          2.8363636363636364,
          2.2,
          3.75,
          5,
          4.324324324324325,
          4,
          5.5,
          5.872340425531915,
          6.2,
          5.904761904761905,
          5.9,
          8,
          7,
          6.5
         ],
         "yaxis": "y"
        }
       ],
       "layout": {
        "annotations": [
         {
          "showarrow": false,
          "text": "",
          "textangle": 90,
          "x": 0.98,
          "xanchor": "left",
          "xref": "paper",
          "y": 0.16333333333333333,
          "yanchor": "middle",
          "yref": "paper"
         },
         {
          "showarrow": false,
          "text": "",
          "textangle": 90,
          "x": 0.98,
          "xanchor": "left",
          "xref": "paper",
          "y": 0.5,
          "yanchor": "middle",
          "yref": "paper"
         },
         {
          "showarrow": false,
          "text": "",
          "textangle": 90,
          "x": 0.98,
          "xanchor": "left",
          "xref": "paper",
          "y": 0.8366666666666667,
          "yanchor": "middle",
          "yref": "paper"
         },
         {
          "align": "left",
          "font": {
           "color": "dimgrey",
           "family": "arial",
           "size": 15
          },
          "showarrow": false,
          "text": "Production-Area-Yield (PAY) time-series of ZA - Maize (Yellow) - Summer",
          "x": -0.014,
          "xref": "paper",
          "y": -0.14,
          "yref": "paper"
         }
        ],
        "font": {
         "color": "black",
         "family": "arial",
         "size": 16
        },
        "height": 600,
        "legend": {
         "font": {
          "size": 14
         },
         "title": {
          "text": "FNID"
         },
         "tracegroupgap": 0,
         "x": 1,
         "xanchor": "left",
         "y": 1,
         "yanchor": "top"
        },
        "margin": {
         "b": 25,
         "l": 0,
         "r": 0,
         "t": 0
        },
        "template": {
         "data": {
          "bar": [
           {
            "error_x": {
             "color": "#2a3f5f"
            },
            "error_y": {
             "color": "#2a3f5f"
            },
            "marker": {
             "line": {
              "color": "#E5ECF6",
              "width": 0.5
             },
             "pattern": {
              "fillmode": "overlay",
              "size": 10,
              "solidity": 0.2
             }
            },
            "type": "bar"
           }
          ],
          "barpolar": [
           {
            "marker": {
             "line": {
              "color": "#E5ECF6",
              "width": 0.5
             },
             "pattern": {
              "fillmode": "overlay",
              "size": 10,
              "solidity": 0.2
             }
            },
            "type": "barpolar"
           }
          ],
          "carpet": [
           {
            "aaxis": {
             "endlinecolor": "#2a3f5f",
             "gridcolor": "white",
             "linecolor": "white",
             "minorgridcolor": "white",
             "startlinecolor": "#2a3f5f"
            },
            "baxis": {
             "endlinecolor": "#2a3f5f",
             "gridcolor": "white",
             "linecolor": "white",
             "minorgridcolor": "white",
             "startlinecolor": "#2a3f5f"
            },
            "type": "carpet"
           }
          ],
          "choropleth": [
           {
            "colorbar": {
             "outlinewidth": 0,
             "ticks": ""
            },
            "type": "choropleth"
           }
          ],
          "contour": [
           {
            "colorbar": {
             "outlinewidth": 0,
             "ticks": ""
            },
            "colorscale": [
             [
              0,
              "#0d0887"
             ],
             [
              0.1111111111111111,
              "#46039f"
             ],
             [
              0.2222222222222222,
              "#7201a8"
             ],
             [
              0.3333333333333333,
              "#9c179e"
             ],
             [
              0.4444444444444444,
              "#bd3786"
             ],
             [
              0.5555555555555556,
              "#d8576b"
             ],
             [
              0.6666666666666666,
              "#ed7953"
             ],
             [
              0.7777777777777778,
              "#fb9f3a"
             ],
             [
              0.8888888888888888,
              "#fdca26"
             ],
             [
              1,
              "#f0f921"
             ]
            ],
            "type": "contour"
           }
          ],
          "contourcarpet": [
           {
            "colorbar": {
             "outlinewidth": 0,
             "ticks": ""
            },
            "type": "contourcarpet"
           }
          ],
          "heatmap": [
           {
            "colorbar": {
             "outlinewidth": 0,
             "ticks": ""
            },
            "colorscale": [
             [
              0,
              "#0d0887"
             ],
             [
              0.1111111111111111,
              "#46039f"
             ],
             [
              0.2222222222222222,
              "#7201a8"
             ],
             [
              0.3333333333333333,
              "#9c179e"
             ],
             [
              0.4444444444444444,
              "#bd3786"
             ],
             [
              0.5555555555555556,
              "#d8576b"
             ],
             [
              0.6666666666666666,
              "#ed7953"
             ],
             [
              0.7777777777777778,
              "#fb9f3a"
             ],
             [
              0.8888888888888888,
              "#fdca26"
             ],
             [
              1,
              "#f0f921"
             ]
            ],
            "type": "heatmap"
           }
          ],
          "heatmapgl": [
           {
            "colorbar": {
             "outlinewidth": 0,
             "ticks": ""
            },
            "colorscale": [
             [
              0,
              "#0d0887"
             ],
             [
              0.1111111111111111,
              "#46039f"
             ],
             [
              0.2222222222222222,
              "#7201a8"
             ],
             [
              0.3333333333333333,
              "#9c179e"
             ],
             [
              0.4444444444444444,
              "#bd3786"
             ],
             [
              0.5555555555555556,
              "#d8576b"
             ],
             [
              0.6666666666666666,
              "#ed7953"
             ],
             [
              0.7777777777777778,
              "#fb9f3a"
             ],
             [
              0.8888888888888888,
              "#fdca26"
             ],
             [
              1,
              "#f0f921"
             ]
            ],
            "type": "heatmapgl"
           }
          ],
          "histogram": [
           {
            "marker": {
             "pattern": {
              "fillmode": "overlay",
              "size": 10,
              "solidity": 0.2
             }
            },
            "type": "histogram"
           }
          ],
          "histogram2d": [
           {
            "colorbar": {
             "outlinewidth": 0,
             "ticks": ""
            },
            "colorscale": [
             [
              0,
              "#0d0887"
             ],
             [
              0.1111111111111111,
              "#46039f"
             ],
             [
              0.2222222222222222,
              "#7201a8"
             ],
             [
              0.3333333333333333,
              "#9c179e"
             ],
             [
              0.4444444444444444,
              "#bd3786"
             ],
             [
              0.5555555555555556,
              "#d8576b"
             ],
             [
              0.6666666666666666,
              "#ed7953"
             ],
             [
              0.7777777777777778,
              "#fb9f3a"
             ],
             [
              0.8888888888888888,
              "#fdca26"
             ],
             [
              1,
              "#f0f921"
             ]
            ],
            "type": "histogram2d"
           }
          ],
          "histogram2dcontour": [
           {
            "colorbar": {
             "outlinewidth": 0,
             "ticks": ""
            },
            "colorscale": [
             [
              0,
              "#0d0887"
             ],
             [
              0.1111111111111111,
              "#46039f"
             ],
             [
              0.2222222222222222,
              "#7201a8"
             ],
             [
              0.3333333333333333,
              "#9c179e"
             ],
             [
              0.4444444444444444,
              "#bd3786"
             ],
             [
              0.5555555555555556,
              "#d8576b"
             ],
             [
              0.6666666666666666,
              "#ed7953"
             ],
             [
              0.7777777777777778,
              "#fb9f3a"
             ],
             [
              0.8888888888888888,
              "#fdca26"
             ],
             [
              1,
              "#f0f921"
             ]
            ],
            "type": "histogram2dcontour"
           }
          ],
          "mesh3d": [
           {
            "colorbar": {
             "outlinewidth": 0,
             "ticks": ""
            },
            "type": "mesh3d"
           }
          ],
          "parcoords": [
           {
            "line": {
             "colorbar": {
              "outlinewidth": 0,
              "ticks": ""
             }
            },
            "type": "parcoords"
           }
          ],
          "pie": [
           {
            "automargin": true,
            "type": "pie"
           }
          ],
          "scatter": [
           {
            "fillpattern": {
             "fillmode": "overlay",
             "size": 10,
             "solidity": 0.2
            },
            "type": "scatter"
           }
          ],
          "scatter3d": [
           {
            "line": {
             "colorbar": {
              "outlinewidth": 0,
              "ticks": ""
             }
            },
            "marker": {
             "colorbar": {
              "outlinewidth": 0,
              "ticks": ""
             }
            },
            "type": "scatter3d"
           }
          ],
          "scattercarpet": [
           {
            "marker": {
             "colorbar": {
              "outlinewidth": 0,
              "ticks": ""
             }
            },
            "type": "scattercarpet"
           }
          ],
          "scattergeo": [
           {
            "marker": {
             "colorbar": {
              "outlinewidth": 0,
              "ticks": ""
             }
            },
            "type": "scattergeo"
           }
          ],
          "scattergl": [
           {
            "marker": {
             "colorbar": {
              "outlinewidth": 0,
              "ticks": ""
             }
            },
            "type": "scattergl"
           }
          ],
          "scattermapbox": [
           {
            "marker": {
             "colorbar": {
              "outlinewidth": 0,
              "ticks": ""
             }
            },
            "type": "scattermapbox"
           }
          ],
          "scatterpolar": [
           {
            "marker": {
             "colorbar": {
              "outlinewidth": 0,
              "ticks": ""
             }
            },
            "type": "scatterpolar"
           }
          ],
          "scatterpolargl": [
           {
            "marker": {
             "colorbar": {
              "outlinewidth": 0,
              "ticks": ""
             }
            },
            "type": "scatterpolargl"
           }
          ],
          "scatterternary": [
           {
            "marker": {
             "colorbar": {
              "outlinewidth": 0,
              "ticks": ""
             }
            },
            "type": "scatterternary"
           }
          ],
          "surface": [
           {
            "colorbar": {
             "outlinewidth": 0,
             "ticks": ""
            },
            "colorscale": [
             [
              0,
              "#0d0887"
             ],
             [
              0.1111111111111111,
              "#46039f"
             ],
             [
              0.2222222222222222,
              "#7201a8"
             ],
             [
              0.3333333333333333,
              "#9c179e"
             ],
             [
              0.4444444444444444,
              "#bd3786"
             ],
             [
              0.5555555555555556,
              "#d8576b"
             ],
             [
              0.6666666666666666,
              "#ed7953"
             ],
             [
              0.7777777777777778,
              "#fb9f3a"
             ],
             [
              0.8888888888888888,
              "#fdca26"
             ],
             [
              1,
              "#f0f921"
             ]
            ],
            "type": "surface"
           }
          ],
          "table": [
           {
            "cells": {
             "fill": {
              "color": "#EBF0F8"
             },
             "line": {
              "color": "white"
             }
            },
            "header": {
             "fill": {
              "color": "#C8D4E3"
             },
             "line": {
              "color": "white"
             }
            },
            "type": "table"
           }
          ]
         },
         "layout": {
          "annotationdefaults": {
           "arrowcolor": "#2a3f5f",
           "arrowhead": 0,
           "arrowwidth": 1
          },
          "autotypenumbers": "strict",
          "coloraxis": {
           "colorbar": {
            "outlinewidth": 0,
            "ticks": ""
           }
          },
          "colorscale": {
           "diverging": [
            [
             0,
             "#8e0152"
            ],
            [
             0.1,
             "#c51b7d"
            ],
            [
             0.2,
             "#de77ae"
            ],
            [
             0.3,
             "#f1b6da"
            ],
            [
             0.4,
             "#fde0ef"
            ],
            [
             0.5,
             "#f7f7f7"
            ],
            [
             0.6,
             "#e6f5d0"
            ],
            [
             0.7,
             "#b8e186"
            ],
            [
             0.8,
             "#7fbc41"
            ],
            [
             0.9,
             "#4d9221"
            ],
            [
             1,
             "#276419"
            ]
           ],
           "sequential": [
            [
             0,
             "#0d0887"
            ],
            [
             0.1111111111111111,
             "#46039f"
            ],
            [
             0.2222222222222222,
             "#7201a8"
            ],
            [
             0.3333333333333333,
             "#9c179e"
            ],
            [
             0.4444444444444444,
             "#bd3786"
            ],
            [
             0.5555555555555556,
             "#d8576b"
            ],
            [
             0.6666666666666666,
             "#ed7953"
            ],
            [
             0.7777777777777778,
             "#fb9f3a"
            ],
            [
             0.8888888888888888,
             "#fdca26"
            ],
            [
             1,
             "#f0f921"
            ]
           ],
           "sequentialminus": [
            [
             0,
             "#0d0887"
            ],
            [
             0.1111111111111111,
             "#46039f"
            ],
            [
             0.2222222222222222,
             "#7201a8"
            ],
            [
             0.3333333333333333,
             "#9c179e"
            ],
            [
             0.4444444444444444,
             "#bd3786"
            ],
            [
             0.5555555555555556,
             "#d8576b"
            ],
            [
             0.6666666666666666,
             "#ed7953"
            ],
            [
             0.7777777777777778,
             "#fb9f3a"
            ],
            [
             0.8888888888888888,
             "#fdca26"
            ],
            [
             1,
             "#f0f921"
            ]
           ]
          },
          "colorway": [
           "#636efa",
           "#EF553B",
           "#00cc96",
           "#ab63fa",
           "#FFA15A",
           "#19d3f3",
           "#FF6692",
           "#B6E880",
           "#FF97FF",
           "#FECB52"
          ],
          "font": {
           "color": "#2a3f5f"
          },
          "geo": {
           "bgcolor": "white",
           "lakecolor": "white",
           "landcolor": "#E5ECF6",
           "showlakes": true,
           "showland": true,
           "subunitcolor": "white"
          },
          "hoverlabel": {
           "align": "left"
          },
          "hovermode": "closest",
          "mapbox": {
           "style": "light"
          },
          "paper_bgcolor": "white",
          "plot_bgcolor": "#E5ECF6",
          "polar": {
           "angularaxis": {
            "gridcolor": "white",
            "linecolor": "white",
            "ticks": ""
           },
           "bgcolor": "#E5ECF6",
           "radialaxis": {
            "gridcolor": "white",
            "linecolor": "white",
            "ticks": ""
           }
          },
          "scene": {
           "xaxis": {
            "backgroundcolor": "#E5ECF6",
            "gridcolor": "white",
            "gridwidth": 2,
            "linecolor": "white",
            "showbackground": true,
            "ticks": "",
            "zerolinecolor": "white"
           },
           "yaxis": {
            "backgroundcolor": "#E5ECF6",
            "gridcolor": "white",
            "gridwidth": 2,
            "linecolor": "white",
            "showbackground": true,
            "ticks": "",
            "zerolinecolor": "white"
           },
           "zaxis": {
            "backgroundcolor": "#E5ECF6",
            "gridcolor": "white",
            "gridwidth": 2,
            "linecolor": "white",
            "showbackground": true,
            "ticks": "",
            "zerolinecolor": "white"
           }
          },
          "shapedefaults": {
           "line": {
            "color": "#2a3f5f"
           }
          },
          "ternary": {
           "aaxis": {
            "gridcolor": "white",
            "linecolor": "white",
            "ticks": ""
           },
           "baxis": {
            "gridcolor": "white",
            "linecolor": "white",
            "ticks": ""
           },
           "bgcolor": "#E5ECF6",
           "caxis": {
            "gridcolor": "white",
            "linecolor": "white",
            "ticks": ""
           }
          },
          "title": {
           "x": 0.05
          },
          "xaxis": {
           "automargin": true,
           "gridcolor": "white",
           "linecolor": "white",
           "ticks": "",
           "title": {
            "standoff": 15
           },
           "zerolinecolor": "white",
           "zerolinewidth": 2
          },
          "yaxis": {
           "automargin": true,
           "gridcolor": "white",
           "linecolor": "white",
           "ticks": "",
           "title": {
            "standoff": 15
           },
           "zerolinecolor": "white",
           "zerolinewidth": 2
          }
         }
        },
        "width": 900,
        "xaxis": {
         "anchor": "y",
         "domain": [
          0,
          0.98
         ],
         "dtick": 1,
         "range": [
          1979,
          2019
         ],
         "title": {
          "text": ""
         }
        },
        "xaxis2": {
         "anchor": "y2",
         "domain": [
          0,
          0.98
         ],
         "dtick": 1,
         "matches": "x",
         "showticklabels": false
        },
        "xaxis3": {
         "anchor": "y3",
         "domain": [
          0,
          0.98
         ],
         "dtick": 1,
         "matches": "x",
         "showticklabels": false
        },
        "yaxis": {
         "anchor": "x",
         "domain": [
          0,
          0.32666666666666666
         ],
         "title": {
          "text": "Yield (mt/ha)"
         }
        },
        "yaxis2": {
         "anchor": "x2",
         "domain": [
          0.33666666666666667,
          0.6633333333333333
         ],
         "title": {
          "text": "Area (ha)"
         }
        },
        "yaxis3": {
         "anchor": "x3",
         "domain": [
          0.6733333333333333,
          1
         ],
         "title": {
          "text": "Production (mt)"
         }
        }
       }
      }
     },
     "metadata": {},
     "output_type": "display_data"
    },
    {
     "name": "stdout",
     "output_type": "stream",
     "text": [
      "./figures/ZA_line_pay_Wheat_Winter.png is saved.\n"
     ]
    },
    {
     "data": {
      "application/vnd.plotly.v1+json": {
       "config": {
        "plotlyServerURL": "https://plot.ly"
       },
       "data": [
        {
         "connectgaps": false,
         "hovertemplate": "fnid=ZA1994A101<br>indicator=production<br>year=%{x}<br>value=%{y}<extra></extra>",
         "legendgroup": "ZA1994A101",
         "line": {
          "color": "#636efa",
          "dash": "solid"
         },
         "marker": {
          "symbol": "circle"
         },
         "mode": "lines+markers",
         "name": "ZA1994A101",
         "showlegend": true,
         "type": "scattergl",
         "x": [
          1979,
          1980,
          1981,
          1982,
          1983,
          1984,
          1985,
          1986,
          1987,
          1988,
          1989,
          1990,
          1991,
          1992,
          1993,
          1994,
          1995,
          1996,
          1997,
          1998,
          1999,
          2000,
          2001,
          2002,
          2003,
          2004,
          2005,
          2006,
          2007,
          2008,
          2009,
          2010,
          2011,
          2012,
          2013,
          2014,
          2015,
          2016,
          2017
         ],
         "xaxis": "x3",
         "y": [
          505938,
          478000,
          660000,
          709000,
          752830,
          726961,
          759498,
          704116,
          859786,
          727956,
          622924,
          489354,
          496479,
          627251,
          742796,
          738144,
          815175,
          806000,
          605000,
          590000,
          610000,
          691000,
          730000,
          891800,
          530000,
          520000,
          645000,
          730000,
          812000,
          860000,
          714000,
          530000,
          710000,
          897600,
          928000,
          899000,
          697500,
          1098200,
          586800
         ],
         "yaxis": "y3"
        },
        {
         "connectgaps": false,
         "hovertemplate": "fnid=ZA1994A101<br>indicator=area<br>year=%{x}<br>value=%{y}<extra></extra>",
         "legendgroup": "ZA1994A101",
         "line": {
          "color": "#636efa",
          "dash": "solid"
         },
         "marker": {
          "symbol": "circle"
         },
         "mode": "lines+markers",
         "name": "ZA1994A101",
         "showlegend": false,
         "type": "scattergl",
         "x": [
          1979,
          1980,
          1981,
          1982,
          1983,
          1984,
          1985,
          1986,
          1987,
          1988,
          1989,
          1990,
          1991,
          1992,
          1993,
          1994,
          1995,
          1996,
          1997,
          1998,
          1999,
          2000,
          2001,
          2002,
          2003,
          2004,
          2005,
          2006,
          2007,
          2008,
          2009,
          2010,
          2011,
          2012,
          2013,
          2014,
          2015,
          2016,
          2017
         ],
         "xaxis": "x2",
         "y": [
          547000,
          543000,
          533000,
          553000,
          570000,
          644000,
          677000,
          687000,
          660000,
          653000,
          512000,
          334576,
          327563,
          334932,
          417997,
          397795,
          400800,
          403000,
          400000,
          300000,
          310000,
          345500,
          374000,
          383000,
          325000,
          302000,
          292000,
          325000,
          350000,
          300000,
          265000,
          265000,
          265000,
          272000,
          310000,
          310000,
          310000,
          323000,
          326000
         ],
         "yaxis": "y2"
        },
        {
         "connectgaps": false,
         "hovertemplate": "fnid=ZA1994A101<br>indicator=yield<br>year=%{x}<br>value=%{y}<extra></extra>",
         "legendgroup": "ZA1994A101",
         "line": {
          "color": "#636efa",
          "dash": "solid"
         },
         "marker": {
          "symbol": "circle"
         },
         "mode": "lines+markers",
         "name": "ZA1994A101",
         "showlegend": false,
         "type": "scattergl",
         "x": [
          1979,
          1980,
          1981,
          1982,
          1983,
          1984,
          1985,
          1986,
          1987,
          1988,
          1989,
          1990,
          1991,
          1992,
          1993,
          1994,
          1995,
          1996,
          1997,
          1998,
          1999,
          2000,
          2001,
          2002,
          2003,
          2004,
          2005,
          2006,
          2007,
          2008,
          2009,
          2010,
          2011,
          2012,
          2013,
          2014,
          2015,
          2016,
          2017
         ],
         "xaxis": "x",
         "y": [
          0.9249323583180987,
          0.8802946593001841,
          1.2382739212007505,
          1.2820976491862568,
          1.3207543859649122,
          1.1288214285714286,
          1.1218581979320532,
          1.0249141193595341,
          1.3027060606060605,
          1.1147871362940276,
          1.2166484375,
          1.462609392185931,
          1.5156748472812864,
          1.872771189375754,
          1.777036677296727,
          1.8555889339986678,
          2.033869760479042,
          2,
          1.5125,
          1.9666666666666666,
          1.967741935483871,
          2,
          1.9518716577540107,
          2.3284595300261097,
          1.6307692307692307,
          1.7218543046357615,
          2.208904109589041,
          2.246153846153846,
          2.32,
          2.8666666666666667,
          2.6943396226415093,
          2,
          2.6792452830188678,
          3.3,
          2.9935483870967743,
          2.9,
          2.25,
          3.4,
          1.8
         ],
         "yaxis": "y"
        },
        {
         "connectgaps": false,
         "hovertemplate": "fnid=ZA1994A102<br>indicator=production<br>year=%{x}<br>value=%{y}<extra></extra>",
         "legendgroup": "ZA1994A102",
         "line": {
          "color": "#EF553B",
          "dash": "solid"
         },
         "marker": {
          "symbol": "circle"
         },
         "mode": "lines+markers",
         "name": "ZA1994A102",
         "showlegend": true,
         "type": "scattergl",
         "x": [
          1979,
          1980,
          1981,
          1982,
          1983,
          1984,
          1985,
          1986,
          1987,
          1988,
          1989,
          1990,
          1991,
          1992,
          1993,
          1994,
          1995,
          1996,
          1997,
          1998,
          1999,
          2000,
          2001,
          2002,
          2003,
          2004,
          2005,
          2006,
          2007,
          2008,
          2009,
          2010,
          2011,
          2012,
          2013,
          2014,
          2015,
          2016,
          2017
         ],
         "xaxis": "x3",
         "y": [
          32102,
          19664,
          54000,
          49000,
          59095,
          50026,
          34031,
          27858,
          28703,
          36102,
          19085,
          17387,
          11200,
          17865,
          24808,
          37753,
          29817,
          18000,
          24000,
          10000,
          10500,
          14500,
          9000,
          10500,
          8500,
          14000,
          14500,
          8000,
          15200,
          22000,
          20000,
          18000,
          21000,
          18500,
          19800,
          12000,
          14880,
          11000,
          9500
         ],
         "yaxis": "y3"
        },
        {
         "connectgaps": false,
         "hovertemplate": "fnid=ZA1994A102<br>indicator=area<br>year=%{x}<br>value=%{y}<extra></extra>",
         "legendgroup": "ZA1994A102",
         "line": {
          "color": "#EF553B",
          "dash": "solid"
         },
         "marker": {
          "symbol": "circle"
         },
         "mode": "lines+markers",
         "name": "ZA1994A102",
         "showlegend": false,
         "type": "scattergl",
         "x": [
          1979,
          1980,
          1981,
          1982,
          1983,
          1984,
          1985,
          1986,
          1987,
          1988,
          1989,
          1990,
          1991,
          1992,
          1993,
          1994,
          1995,
          1996,
          1997,
          1998,
          1999,
          2000,
          2001,
          2002,
          2003,
          2004,
          2005,
          2006,
          2007,
          2008,
          2009,
          2010,
          2011,
          2012,
          2013,
          2014,
          2015,
          2016,
          2017
         ],
         "xaxis": "x2",
         "y": [
          107000,
          111000,
          118000,
          123000,
          121000,
          96000,
          113000,
          144000,
          36000,
          36000,
          36000,
          5838,
          7029,
          5942,
          15209,
          16110,
          16550,
          17000,
          13000,
          5000,
          4000,
          4300,
          2900,
          3500,
          2500,
          4000,
          4000,
          2800,
          3800,
          5500,
          5000,
          4500,
          5000,
          4500,
          4500,
          3000,
          3100,
          2200,
          1900
         ],
         "yaxis": "y2"
        },
        {
         "connectgaps": false,
         "hovertemplate": "fnid=ZA1994A102<br>indicator=yield<br>year=%{x}<br>value=%{y}<extra></extra>",
         "legendgroup": "ZA1994A102",
         "line": {
          "color": "#EF553B",
          "dash": "solid"
         },
         "marker": {
          "symbol": "circle"
         },
         "mode": "lines+markers",
         "name": "ZA1994A102",
         "showlegend": false,
         "type": "scattergl",
         "x": [
          1979,
          1980,
          1981,
          1982,
          1983,
          1984,
          1985,
          1986,
          1987,
          1988,
          1989,
          1990,
          1991,
          1992,
          1993,
          1994,
          1995,
          1996,
          1997,
          1998,
          1999,
          2000,
          2001,
          2002,
          2003,
          2004,
          2005,
          2006,
          2007,
          2008,
          2009,
          2010,
          2011,
          2012,
          2013,
          2014,
          2015,
          2016,
          2017
         ],
         "xaxis": "x",
         "y": [
          0.300018691588785,
          0.17715315315315316,
          0.4576271186440678,
          0.3983739837398374,
          0.4883884297520661,
          0.5211041666666667,
          0.3011592920353982,
          0.19345833333333334,
          0.7973055555555556,
          1.0028333333333332,
          0.5301388888888889,
          2.9782459746488525,
          1.593398776497368,
          3.006563446650959,
          1.6311394569005195,
          2.343451272501552,
          1.801631419939577,
          1.0588235294117647,
          1.8461538461538463,
          2,
          2.625,
          3.372093023255814,
          3.103448275862069,
          3,
          3.4,
          3.5,
          3.625,
          2.857142857142857,
          4,
          4,
          4,
          4,
          4.2,
          4.111111111111111,
          4.4,
          4,
          4.8,
          5,
          5
         ],
         "yaxis": "y"
        },
        {
         "connectgaps": false,
         "hovertemplate": "fnid=ZA1994A103<br>indicator=production<br>year=%{x}<br>value=%{y}<extra></extra>",
         "legendgroup": "ZA1994A103",
         "line": {
          "color": "#00cc96",
          "dash": "solid"
         },
         "marker": {
          "symbol": "circle"
         },
         "mode": "lines+markers",
         "name": "ZA1994A103",
         "showlegend": true,
         "type": "scattergl",
         "x": [
          1979,
          1980,
          1981,
          1982,
          1983,
          1984,
          1985,
          1986,
          1987,
          1988,
          1989,
          1990,
          1991,
          1992,
          1993,
          1994,
          1995,
          1996,
          1997,
          1998,
          1999,
          2000,
          2001,
          2002,
          2003,
          2004,
          2005,
          2006,
          2007,
          2008,
          2009,
          2010,
          2011,
          2012,
          2013,
          2014,
          2015,
          2016,
          2017
         ],
         "xaxis": "x3",
         "y": [
          106000,
          125000,
          147000,
          156000,
          100011,
          142405,
          169544,
          197017,
          213587,
          262898,
          241402,
          227342,
          227953,
          276393,
          252282,
          364796,
          278242,
          345000,
          310000,
          225500,
          295000,
          324800,
          240000,
          320000,
          280000,
          300000,
          306000,
          250000,
          264500,
          332000,
          277200,
          252300,
          336000,
          272600,
          320000,
          285000,
          259200,
          266000,
          311600
         ],
         "yaxis": "y3"
        },
        {
         "connectgaps": false,
         "hovertemplate": "fnid=ZA1994A103<br>indicator=area<br>year=%{x}<br>value=%{y}<extra></extra>",
         "legendgroup": "ZA1994A103",
         "line": {
          "color": "#00cc96",
          "dash": "solid"
         },
         "marker": {
          "symbol": "circle"
         },
         "mode": "lines+markers",
         "name": "ZA1994A103",
         "showlegend": false,
         "type": "scattergl",
         "x": [
          1979,
          1980,
          1981,
          1982,
          1983,
          1984,
          1985,
          1986,
          1987,
          1988,
          1989,
          1990,
          1991,
          1992,
          1993,
          1994,
          1995,
          1996,
          1997,
          1998,
          1999,
          2000,
          2001,
          2002,
          2003,
          2004,
          2005,
          2006,
          2007,
          2008,
          2009,
          2010,
          2011,
          2012,
          2013,
          2014,
          2015,
          2016,
          2017
         ],
         "xaxis": "x2",
         "y": [
          74000,
          52000,
          92000,
          96000,
          83000,
          46000,
          53000,
          51000,
          46000,
          47000,
          47000,
          53011,
          53832,
          55031,
          52465,
          55268,
          56000,
          68000,
          65000,
          35000,
          43000,
          56000,
          44500,
          54000,
          48500,
          51100,
          48500,
          40000,
          42000,
          50000,
          44000,
          38000,
          42000,
          42000,
          42000,
          38000,
          36000,
          35000,
          38000
         ],
         "yaxis": "y2"
        },
        {
         "connectgaps": false,
         "hovertemplate": "fnid=ZA1994A103<br>indicator=yield<br>year=%{x}<br>value=%{y}<extra></extra>",
         "legendgroup": "ZA1994A103",
         "line": {
          "color": "#00cc96",
          "dash": "solid"
         },
         "marker": {
          "symbol": "circle"
         },
         "mode": "lines+markers",
         "name": "ZA1994A103",
         "showlegend": false,
         "type": "scattergl",
         "x": [
          1979,
          1980,
          1981,
          1982,
          1983,
          1984,
          1985,
          1986,
          1987,
          1988,
          1989,
          1990,
          1991,
          1992,
          1993,
          1994,
          1995,
          1996,
          1997,
          1998,
          1999,
          2000,
          2001,
          2002,
          2003,
          2004,
          2005,
          2006,
          2007,
          2008,
          2009,
          2010,
          2011,
          2012,
          2013,
          2014,
          2015,
          2016,
          2017
         ],
         "xaxis": "x",
         "y": [
          1.4324324324324325,
          2.4038461538461537,
          1.5978260869565217,
          1.625,
          1.2049518072289156,
          3.0957608695652175,
          3.198943396226415,
          3.863078431372549,
          4.643195652173913,
          5.593574468085106,
          5.136212765957447,
          4.288581615136481,
          4.234525932530837,
          5.022496411113736,
          4.808577146669208,
          6.600492147354708,
          4.9686071428571426,
          5.073529411764706,
          4.769230769230769,
          6.442857142857143,
          6.8604651162790695,
          5.8,
          5.393258426966292,
          5.925925925925926,
          5.77319587628866,
          5.870841487279844,
          6.309278350515464,
          6.25,
          6.2976190476190474,
          6.64,
          6.3,
          6.639473684210526,
          8,
          6.4904761904761905,
          7.619047619047619,
          7.5,
          7.2,
          7.6,
          8.2
         ],
         "yaxis": "y"
        },
        {
         "connectgaps": false,
         "hovertemplate": "fnid=ZA1994A104<br>indicator=production<br>year=%{x}<br>value=%{y}<extra></extra>",
         "legendgroup": "ZA1994A104",
         "line": {
          "color": "#ab63fa",
          "dash": "solid"
         },
         "marker": {
          "symbol": "circle"
         },
         "mode": "lines+markers",
         "name": "ZA1994A104",
         "showlegend": true,
         "type": "scattergl",
         "x": [
          1979,
          1980,
          1981,
          1982,
          1983,
          1984,
          1985,
          1986,
          1987,
          1988,
          1989,
          1990,
          1991,
          1992,
          1993,
          1994,
          1995,
          1996,
          1997,
          1998,
          1999,
          2000,
          2001,
          2002,
          2003,
          2004,
          2005,
          2006,
          2007,
          2008,
          2009,
          2010,
          2011,
          2012,
          2013,
          2014,
          2015,
          2016,
          2017
         ],
         "xaxis": "x3",
         "y": [
          1253293,
          556000,
          1108000,
          1121000,
          692165,
          1100117,
          446266,
          1155621,
          1659633,
          2126432,
          895971,
          713403,
          1107414,
          249946,
          788955,
          451371,
          638828,
          1217000,
          1180000,
          590500,
          538500,
          908000,
          1100000,
          820000,
          480000,
          510000,
          580000,
          780000,
          570000,
          560000,
          622000,
          378000,
          550500,
          360000,
          270000,
          245500,
          184000,
          308000,
          328000
         ],
         "yaxis": "y3"
        },
        {
         "connectgaps": false,
         "hovertemplate": "fnid=ZA1994A104<br>indicator=area<br>year=%{x}<br>value=%{y}<extra></extra>",
         "legendgroup": "ZA1994A104",
         "line": {
          "color": "#ab63fa",
          "dash": "solid"
         },
         "marker": {
          "symbol": "circle"
         },
         "mode": "lines+markers",
         "name": "ZA1994A104",
         "showlegend": false,
         "type": "scattergl",
         "x": [
          1979,
          1980,
          1981,
          1982,
          1983,
          1984,
          1985,
          1986,
          1987,
          1988,
          1989,
          1990,
          1991,
          1992,
          1993,
          1994,
          1995,
          1996,
          1997,
          1998,
          1999,
          2000,
          2001,
          2002,
          2003,
          2004,
          2005,
          2006,
          2007,
          2008,
          2009,
          2010,
          2011,
          2012,
          2013,
          2014,
          2015,
          2016,
          2017
         ],
         "xaxis": "x2",
         "y": [
          946000,
          703000,
          812000,
          948000,
          828000,
          919000,
          874000,
          828000,
          862000,
          1119000,
          1113000,
          1030630,
          946464,
          301321,
          529319,
          515482,
          819000,
          702000,
          790000,
          330000,
          300000,
          443000,
          500000,
          440000,
          320000,
          352600,
          380000,
          360000,
          215000,
          280000,
          235000,
          204000,
          225000,
          130000,
          90000,
          69500,
          80000,
          110000,
          80000
         ],
         "yaxis": "y2"
        },
        {
         "connectgaps": false,
         "hovertemplate": "fnid=ZA1994A104<br>indicator=yield<br>year=%{x}<br>value=%{y}<extra></extra>",
         "legendgroup": "ZA1994A104",
         "line": {
          "color": "#ab63fa",
          "dash": "solid"
         },
         "marker": {
          "symbol": "circle"
         },
         "mode": "lines+markers",
         "name": "ZA1994A104",
         "showlegend": false,
         "type": "scattergl",
         "x": [
          1979,
          1980,
          1981,
          1982,
          1983,
          1984,
          1985,
          1986,
          1987,
          1988,
          1989,
          1990,
          1991,
          1992,
          1993,
          1994,
          1995,
          1996,
          1997,
          1998,
          1999,
          2000,
          2001,
          2002,
          2003,
          2004,
          2005,
          2006,
          2007,
          2008,
          2009,
          2010,
          2011,
          2012,
          2013,
          2014,
          2015,
          2016,
          2017
         ],
         "xaxis": "x",
         "y": [
          1.3248340380549684,
          0.7908961593172119,
          1.3645320197044335,
          1.1824894514767932,
          0.8359480676328502,
          1.1970805223068552,
          0.5106018306636155,
          1.395677536231884,
          1.9253283062645012,
          1.9002966934763181,
          0.8050053908355795,
          0.692200886836207,
          1.170054011563039,
          0.8295007649649377,
          1.4905095037208187,
          0.8756290229338755,
          0.780009768009768,
          1.7336182336182335,
          1.4936708860759493,
          1.7893939393939393,
          1.795,
          2.049661399548533,
          2.2,
          1.8636363636363635,
          1.5,
          1.4463981849120817,
          1.5263157894736843,
          2.1666666666666665,
          2.6511627906976742,
          2,
          2.646808510638298,
          1.8529411764705883,
          2.4466666666666668,
          2.769230769230769,
          3,
          3.5323741007194243,
          2.3,
          2.8,
          4.1
         ],
         "yaxis": "y"
        },
        {
         "connectgaps": false,
         "hovertemplate": "fnid=ZA1994A105<br>indicator=production<br>year=%{x}<br>value=%{y}<extra></extra>",
         "legendgroup": "ZA1994A105",
         "line": {
          "color": "#FFA15A",
          "dash": "solid"
         },
         "marker": {
          "symbol": "circle"
         },
         "mode": "lines+markers",
         "name": "ZA1994A105",
         "showlegend": true,
         "type": "scattergl",
         "x": [
          1979,
          1980,
          1981,
          1982,
          1983,
          1984,
          1985,
          1986,
          1987,
          1988,
          1989,
          1990,
          1991,
          1992,
          1993,
          1994,
          1995,
          1996,
          1997,
          1998,
          1999,
          2000,
          2001,
          2002,
          2003,
          2004,
          2005,
          2006,
          2007,
          2008,
          2009,
          2010,
          2011,
          2012,
          2013,
          2014,
          2015,
          2016,
          2017
         ],
         "xaxis": "x3",
         "y": [
          2948,
          3000,
          4000,
          11000,
          9300,
          25274,
          30537,
          47610,
          50706,
          61335,
          24078,
          24145,
          20391,
          19940,
          15021,
          22023,
          12412,
          24000,
          23000,
          22000,
          37000,
          43700,
          50000,
          39600,
          31900,
          34000,
          41500,
          31000,
          28800,
          38200,
          35000,
          30500,
          40500,
          32500,
          42000,
          39000,
          41610,
          37050,
          42750
         ],
         "yaxis": "y3"
        },
        {
         "connectgaps": false,
         "hovertemplate": "fnid=ZA1994A105<br>indicator=area<br>year=%{x}<br>value=%{y}<extra></extra>",
         "legendgroup": "ZA1994A105",
         "line": {
          "color": "#FFA15A",
          "dash": "solid"
         },
         "marker": {
          "symbol": "circle"
         },
         "mode": "lines+markers",
         "name": "ZA1994A105",
         "showlegend": false,
         "type": "scattergl",
         "x": [
          1979,
          1980,
          1981,
          1982,
          1983,
          1984,
          1985,
          1986,
          1987,
          1988,
          1989,
          1990,
          1991,
          1992,
          1993,
          1994,
          1995,
          1996,
          1997,
          1998,
          1999,
          2000,
          2001,
          2002,
          2003,
          2004,
          2005,
          2006,
          2007,
          2008,
          2009,
          2010,
          2011,
          2012,
          2013,
          2014,
          2015,
          2016,
          2017
         ],
         "xaxis": "x2",
         "y": [
          3000,
          2000,
          2000,
          2000,
          2000,
          5850,
          8675,
          12000,
          13000,
          13000,
          13000,
          6377,
          5378,
          4530,
          4304,
          3635,
          3500,
          5000,
          5800,
          5000,
          6000,
          8700,
          11000,
          8600,
          7000,
          6600,
          9000,
          7000,
          6000,
          7500,
          7000,
          6100,
          7500,
          6500,
          7000,
          6500,
          7300,
          6500,
          7500
         ],
         "yaxis": "y2"
        },
        {
         "connectgaps": false,
         "hovertemplate": "fnid=ZA1994A105<br>indicator=yield<br>year=%{x}<br>value=%{y}<extra></extra>",
         "legendgroup": "ZA1994A105",
         "line": {
          "color": "#FFA15A",
          "dash": "solid"
         },
         "marker": {
          "symbol": "circle"
         },
         "mode": "lines+markers",
         "name": "ZA1994A105",
         "showlegend": false,
         "type": "scattergl",
         "x": [
          1979,
          1980,
          1981,
          1982,
          1983,
          1984,
          1985,
          1986,
          1987,
          1988,
          1989,
          1990,
          1991,
          1992,
          1993,
          1994,
          1995,
          1996,
          1997,
          1998,
          1999,
          2000,
          2001,
          2002,
          2003,
          2004,
          2005,
          2006,
          2007,
          2008,
          2009,
          2010,
          2011,
          2012,
          2013,
          2014,
          2015,
          2016,
          2017
         ],
         "xaxis": "x",
         "y": [
          0.9826666666666667,
          1.5,
          2,
          5.5,
          4.65,
          4.32034188034188,
          3.520115273775216,
          3.9675,
          3.9004615384615384,
          4.718076923076923,
          1.8521538461538463,
          3.7862631331347028,
          3.7915582000743773,
          4.401766004415011,
          3.4900092936802976,
          6.0585969738652,
          3.5462857142857143,
          4.8,
          3.9655172413793105,
          4.4,
          6.166666666666667,
          5.022988505747127,
          4.545454545454546,
          4.604651162790698,
          4.557142857142857,
          5.151515151515151,
          4.611111111111111,
          4.428571428571429,
          4.8,
          5.093333333333334,
          5,
          5,
          5.4,
          5,
          6,
          6,
          5.7,
          5.7,
          5.7
         ],
         "yaxis": "y"
        },
        {
         "connectgaps": false,
         "hovertemplate": "fnid=ZA1994A106<br>indicator=production<br>year=%{x}<br>value=%{y}<extra></extra>",
         "legendgroup": "ZA1994A106",
         "line": {
          "color": "#19d3f3",
          "dash": "solid"
         },
         "marker": {
          "symbol": "circle"
         },
         "mode": "lines+markers",
         "name": "ZA1994A106",
         "showlegend": true,
         "type": "scattergl",
         "x": [
          1979,
          1980,
          1981,
          1982,
          1983,
          1984,
          1985,
          1986,
          1987,
          1988,
          1989,
          1990,
          1991,
          1992,
          1993,
          1994,
          1995,
          1996,
          1997,
          1998,
          1999,
          2000,
          2001,
          2002,
          2003,
          2004,
          2005,
          2006,
          2007,
          2008,
          2009,
          2010,
          2011,
          2012,
          2013,
          2014,
          2015,
          2016,
          2017
         ],
         "xaxis": "x3",
         "y": [
          121101,
          108000,
          174000,
          190000,
          85046,
          72219,
          63837,
          70170,
          139294,
          184488,
          109616,
          142437,
          176521,
          62182,
          67063,
          90248,
          110480,
          139000,
          170000,
          146000,
          140000,
          171550,
          130000,
          145600,
          130000,
          145000,
          162000,
          138000,
          118000,
          150000,
          136800,
          123200,
          125500,
          114000,
          110000,
          107100,
          87000,
          69600,
          83700
         ],
         "yaxis": "y3"
        },
        {
         "connectgaps": false,
         "hovertemplate": "fnid=ZA1994A106<br>indicator=area<br>year=%{x}<br>value=%{y}<extra></extra>",
         "legendgroup": "ZA1994A106",
         "line": {
          "color": "#19d3f3",
          "dash": "solid"
         },
         "marker": {
          "symbol": "circle"
         },
         "mode": "lines+markers",
         "name": "ZA1994A106",
         "showlegend": false,
         "type": "scattergl",
         "x": [
          1979,
          1980,
          1981,
          1982,
          1983,
          1984,
          1985,
          1986,
          1987,
          1988,
          1989,
          1990,
          1991,
          1992,
          1993,
          1994,
          1995,
          1996,
          1997,
          1998,
          1999,
          2000,
          2001,
          2002,
          2003,
          2004,
          2005,
          2006,
          2007,
          2008,
          2009,
          2010,
          2011,
          2012,
          2013,
          2014,
          2015,
          2016,
          2017
         ],
         "xaxis": "x2",
         "y": [
          78000,
          80000,
          66000,
          87000,
          57000,
          39000,
          71000,
          81000,
          58000,
          58000,
          58000,
          92713,
          71215,
          33932,
          25118,
          25418,
          42600,
          60000,
          66500,
          50000,
          32000,
          36500,
          26400,
          28000,
          26000,
          28000,
          30000,
          28000,
          22500,
          25000,
          24000,
          22000,
          22000,
          20000,
          18500,
          18000,
          15000,
          12000,
          13500
         ],
         "yaxis": "y2"
        },
        {
         "connectgaps": false,
         "hovertemplate": "fnid=ZA1994A106<br>indicator=yield<br>year=%{x}<br>value=%{y}<extra></extra>",
         "legendgroup": "ZA1994A106",
         "line": {
          "color": "#19d3f3",
          "dash": "solid"
         },
         "marker": {
          "symbol": "circle"
         },
         "mode": "lines+markers",
         "name": "ZA1994A106",
         "showlegend": false,
         "type": "scattergl",
         "x": [
          1979,
          1980,
          1981,
          1982,
          1983,
          1984,
          1985,
          1986,
          1987,
          1988,
          1989,
          1990,
          1991,
          1992,
          1993,
          1994,
          1995,
          1996,
          1997,
          1998,
          1999,
          2000,
          2001,
          2002,
          2003,
          2004,
          2005,
          2006,
          2007,
          2008,
          2009,
          2010,
          2011,
          2012,
          2013,
          2014,
          2015,
          2016,
          2017
         ],
         "xaxis": "x",
         "y": [
          1.552576923076923,
          1.35,
          2.6363636363636362,
          2.1839080459770117,
          1.4920350877192983,
          1.8517692307692308,
          0.899112676056338,
          0.8662962962962963,
          2.4016206896551724,
          3.1808275862068967,
          1.8899310344827587,
          1.536321767173967,
          2.4787053289335113,
          1.8325474478368502,
          2.669917987100884,
          3.5505547249980327,
          2.5934272300469483,
          2.316666666666667,
          2.556390977443609,
          2.92,
          4.375,
          4.7,
          4.924242424242424,
          5.2,
          5,
          5.178571428571429,
          5.4,
          4.928571428571429,
          5.2444444444444445,
          6,
          5.7,
          5.6,
          5.704545454545454,
          5.7,
          5.945945945945946,
          5.95,
          5.8,
          5.8,
          6.2
         ],
         "yaxis": "y"
        },
        {
         "connectgaps": false,
         "hovertemplate": "fnid=ZA1994A107<br>indicator=production<br>year=%{x}<br>value=%{y}<extra></extra>",
         "legendgroup": "ZA1994A107",
         "line": {
          "color": "#FF6692",
          "dash": "solid"
         },
         "marker": {
          "symbol": "circle"
         },
         "mode": "lines+markers",
         "name": "ZA1994A107",
         "showlegend": true,
         "type": "scattergl",
         "x": [
          1979,
          1980,
          1981,
          1982,
          1983,
          1984,
          1985,
          1986,
          1987,
          1988,
          1989,
          1990,
          1991,
          1992,
          1993,
          1994,
          1995,
          1996,
          1997,
          1998,
          1999,
          2000,
          2001,
          2002,
          2003,
          2004,
          2005,
          2006,
          2007,
          2008,
          2009,
          2010,
          2011,
          2012,
          2013,
          2014,
          2015,
          2016,
          2017
         ],
         "xaxis": "x3",
         "y": [
          1920,
          3000,
          3000,
          4000,
          2613,
          30962,
          38596,
          31983,
          52415,
          63286,
          31071,
          8217,
          8676,
          9138,
          7597,
          9057,
          9347,
          8000,
          17500,
          13500,
          17000,
          18000,
          16000,
          12000,
          8600,
          14000,
          14000,
          10000,
          11050,
          12800,
          12800,
          9600,
          11300,
          8420,
          6200,
          3550,
          1500,
          2190,
          4200
         ],
         "yaxis": "y3"
        },
        {
         "connectgaps": false,
         "hovertemplate": "fnid=ZA1994A107<br>indicator=area<br>year=%{x}<br>value=%{y}<extra></extra>",
         "legendgroup": "ZA1994A107",
         "line": {
          "color": "#FF6692",
          "dash": "solid"
         },
         "marker": {
          "symbol": "circle"
         },
         "mode": "lines+markers",
         "name": "ZA1994A107",
         "showlegend": false,
         "type": "scattergl",
         "x": [
          1979,
          1980,
          1981,
          1982,
          1983,
          1984,
          1985,
          1986,
          1987,
          1988,
          1989,
          1990,
          1991,
          1992,
          1993,
          1994,
          1995,
          1996,
          1997,
          1998,
          1999,
          2000,
          2001,
          2002,
          2003,
          2004,
          2005,
          2006,
          2007,
          2008,
          2009,
          2010,
          2011,
          2012,
          2013,
          2014,
          2015,
          2016,
          2017
         ],
         "xaxis": "x2",
         "y": [
          4000,
          2000,
          3000,
          3000,
          5000,
          7000,
          9000,
          9000,
          17000,
          17000,
          16000,
          2992,
          2130,
          2324,
          2235,
          2861,
          2800,
          1800,
          3000,
          2000,
          4000,
          5000,
          3700,
          2500,
          2000,
          2500,
          2500,
          2000,
          1700,
          2000,
          2000,
          1500,
          1700,
          1500,
          1000,
          570,
          250,
          365,
          700
         ],
         "yaxis": "y2"
        },
        {
         "connectgaps": false,
         "hovertemplate": "fnid=ZA1994A107<br>indicator=yield<br>year=%{x}<br>value=%{y}<extra></extra>",
         "legendgroup": "ZA1994A107",
         "line": {
          "color": "#FF6692",
          "dash": "solid"
         },
         "marker": {
          "symbol": "circle"
         },
         "mode": "lines+markers",
         "name": "ZA1994A107",
         "showlegend": false,
         "type": "scattergl",
         "x": [
          1979,
          1980,
          1981,
          1982,
          1983,
          1984,
          1985,
          1986,
          1987,
          1988,
          1989,
          1990,
          1991,
          1992,
          1993,
          1994,
          1995,
          1996,
          1997,
          1998,
          1999,
          2000,
          2001,
          2002,
          2003,
          2004,
          2005,
          2006,
          2007,
          2008,
          2009,
          2010,
          2011,
          2012,
          2013,
          2014,
          2015,
          2016,
          2017
         ],
         "xaxis": "x",
         "y": [
          0.48,
          1.5,
          1,
          1.3333333333333333,
          0.5226,
          4.4231428571428575,
          4.288444444444444,
          3.5536666666666665,
          3.083235294117647,
          3.7227058823529413,
          1.9419375,
          2.7463235294117645,
          4.073239436619718,
          3.932013769363167,
          3.3991051454138703,
          3.165676336945124,
          3.338214285714286,
          4.444444444444445,
          5.833333333333333,
          6.75,
          4.25,
          3.6,
          4.324324324324325,
          4.8,
          4.3,
          5.6,
          5.6,
          5,
          6.5,
          6.4,
          6.4,
          6.4,
          6.647058823529412,
          5.613333333333333,
          6.2,
          6.228070175438597,
          6,
          6,
          6
         ],
         "yaxis": "y"
        },
        {
         "connectgaps": false,
         "hovertemplate": "fnid=ZA1994A108<br>indicator=production<br>year=%{x}<br>value=%{y}<extra></extra>",
         "legendgroup": "ZA1994A108",
         "line": {
          "color": "#B6E880",
          "dash": "solid"
         },
         "marker": {
          "symbol": "circle"
         },
         "mode": "lines+markers",
         "name": "ZA1994A108",
         "showlegend": true,
         "type": "scattergl",
         "x": [
          1979,
          1980,
          1981,
          1982,
          1983,
          1984,
          1985,
          1986,
          1987,
          1988,
          1989,
          1990,
          1991,
          1992,
          1993,
          1994,
          1995,
          1996,
          1997,
          1998,
          1999,
          2000,
          2001,
          2002,
          2003,
          2004,
          2005,
          2006,
          2007,
          2008,
          2009,
          2010,
          2011,
          2012,
          2013,
          2014,
          2015,
          2016,
          2017
         ],
         "xaxis": "x3",
         "y": [
          38502,
          88000,
          92000,
          104000,
          48370,
          83036,
          76171,
          50878,
          90678,
          99519,
          46607,
          67810,
          67430,
          44781,
          37788,
          72149,
          40708,
          78000,
          88000,
          47000,
          69100,
          102000,
          115000,
          119500,
          36000,
          80000,
          92000,
          77000,
          25000,
          45000,
          41200,
          23400,
          34200,
          25380,
          28000,
          21350,
          20125,
          13800,
          25200
         ],
         "yaxis": "y3"
        },
        {
         "connectgaps": false,
         "hovertemplate": "fnid=ZA1994A108<br>indicator=area<br>year=%{x}<br>value=%{y}<extra></extra>",
         "legendgroup": "ZA1994A108",
         "line": {
          "color": "#B6E880",
          "dash": "solid"
         },
         "marker": {
          "symbol": "circle"
         },
         "mode": "lines+markers",
         "name": "ZA1994A108",
         "showlegend": false,
         "type": "scattergl",
         "x": [
          1979,
          1980,
          1981,
          1982,
          1983,
          1984,
          1985,
          1986,
          1987,
          1988,
          1989,
          1990,
          1991,
          1992,
          1993,
          1994,
          1995,
          1996,
          1997,
          1998,
          1999,
          2000,
          2001,
          2002,
          2003,
          2004,
          2005,
          2006,
          2007,
          2008,
          2009,
          2010,
          2011,
          2012,
          2013,
          2014,
          2015,
          2016,
          2017
         ],
         "xaxis": "x2",
         "y": [
          34000,
          46000,
          49000,
          50000,
          40000,
          53000,
          36000,
          25000,
          29000,
          30000,
          25000,
          20875,
          17097,
          7285,
          7824,
          12095,
          10500,
          17000,
          22000,
          9000,
          11000,
          20000,
          25000,
          23500,
          9000,
          15700,
          18000,
          15000,
          5000,
          8000,
          7500,
          4500,
          5500,
          4700,
          4500,
          3500,
          3500,
          2300,
          4000
         ],
         "yaxis": "y2"
        },
        {
         "connectgaps": false,
         "hovertemplate": "fnid=ZA1994A108<br>indicator=yield<br>year=%{x}<br>value=%{y}<extra></extra>",
         "legendgroup": "ZA1994A108",
         "line": {
          "color": "#B6E880",
          "dash": "solid"
         },
         "marker": {
          "symbol": "circle"
         },
         "mode": "lines+markers",
         "name": "ZA1994A108",
         "showlegend": false,
         "type": "scattergl",
         "x": [
          1979,
          1980,
          1981,
          1982,
          1983,
          1984,
          1985,
          1986,
          1987,
          1988,
          1989,
          1990,
          1991,
          1992,
          1993,
          1994,
          1995,
          1996,
          1997,
          1998,
          1999,
          2000,
          2001,
          2002,
          2003,
          2004,
          2005,
          2006,
          2007,
          2008,
          2009,
          2010,
          2011,
          2012,
          2013,
          2014,
          2015,
          2016,
          2017
         ],
         "xaxis": "x",
         "y": [
          1.1324117647058825,
          1.9130434782608696,
          1.8775510204081634,
          2.08,
          1.20925,
          1.5667169811320756,
          2.115861111111111,
          2.03512,
          3.1268275862068964,
          3.3173,
          1.86428,
          3.2483832335329343,
          3.9439667777972742,
          6.147014413177763,
          4.829754601226994,
          5.965192228193469,
          3.876952380952381,
          4.588235294117647,
          4,
          5.222222222222222,
          6.281818181818182,
          5.1,
          4.6,
          5.085106382978723,
          4,
          5.095541401273885,
          5.111111111111111,
          5.133333333333334,
          5,
          5.625,
          5.493333333333333,
          5.2,
          6.218181818181818,
          5.4,
          6.222222222222222,
          6.1,
          5.75,
          6,
          6.3
         ],
         "yaxis": "y"
        },
        {
         "connectgaps": false,
         "hovertemplate": "fnid=ZA1994A109<br>indicator=production<br>year=%{x}<br>value=%{y}<extra></extra>",
         "legendgroup": "ZA1994A109",
         "line": {
          "color": "#FF97FF",
          "dash": "solid"
         },
         "marker": {
          "symbol": "circle"
         },
         "mode": "lines+markers",
         "name": "ZA1994A109",
         "showlegend": true,
         "type": "scattergl",
         "x": [
          1979,
          1980,
          1981,
          1982,
          1983,
          1984,
          1985,
          1986,
          1987,
          1988,
          1989,
          1990,
          1991,
          1992,
          1993,
          1994,
          1995,
          1996,
          1997,
          1998,
          1999,
          2000,
          2001,
          2002,
          2003,
          2004,
          2005,
          2006,
          2007,
          2008,
          2009,
          2010,
          2011,
          2012,
          2013,
          2014,
          2015,
          2016,
          2017
         ],
         "xaxis": "x3",
         "y": [
          26550,
          89000,
          97000,
          76000,
          24825,
          101813,
          61412,
          35557,
          40299,
          36384,
          12115,
          12276,
          16921,
          8577,
          39034,
          46700,
          33503,
          65000,
          74500,
          38500,
          52000,
          75000,
          60000,
          68000,
          35000,
          63000,
          50000,
          81000,
          60450,
          110000,
          99000,
          65000,
          176000,
          141000,
          146000,
          137500,
          151200,
          103700,
          130000
         ],
         "yaxis": "y3"
        },
        {
         "connectgaps": false,
         "hovertemplate": "fnid=ZA1994A109<br>indicator=area<br>year=%{x}<br>value=%{y}<extra></extra>",
         "legendgroup": "ZA1994A109",
         "line": {
          "color": "#FF97FF",
          "dash": "solid"
         },
         "marker": {
          "symbol": "circle"
         },
         "mode": "lines+markers",
         "name": "ZA1994A109",
         "showlegend": false,
         "type": "scattergl",
         "x": [
          1979,
          1980,
          1981,
          1982,
          1983,
          1984,
          1985,
          1986,
          1987,
          1988,
          1989,
          1990,
          1991,
          1992,
          1993,
          1994,
          1995,
          1996,
          1997,
          1998,
          1999,
          2000,
          2001,
          2002,
          2003,
          2004,
          2005,
          2006,
          2007,
          2008,
          2009,
          2010,
          2011,
          2012,
          2013,
          2014,
          2015,
          2016,
          2017
         ],
         "xaxis": "x2",
         "y": [
          108000,
          84000,
          112000,
          112000,
          103000,
          113000,
          116000,
          99000,
          8000,
          12000,
          10000,
          3620,
          3258,
          2003,
          10327,
          10827,
          11400,
          20000,
          17000,
          9000,
          8000,
          15000,
          15000,
          17000,
          8000,
          15500,
          11000,
          18000,
          11000,
          20000,
          18000,
          12500,
          31000,
          30000,
          28000,
          27500,
          27000,
          17000,
          20000
         ],
         "yaxis": "y2"
        },
        {
         "connectgaps": false,
         "hovertemplate": "fnid=ZA1994A109<br>indicator=yield<br>year=%{x}<br>value=%{y}<extra></extra>",
         "legendgroup": "ZA1994A109",
         "line": {
          "color": "#FF97FF",
          "dash": "solid"
         },
         "marker": {
          "symbol": "circle"
         },
         "mode": "lines+markers",
         "name": "ZA1994A109",
         "showlegend": false,
         "type": "scattergl",
         "x": [
          1979,
          1980,
          1981,
          1982,
          1983,
          1984,
          1985,
          1986,
          1987,
          1988,
          1989,
          1990,
          1991,
          1992,
          1993,
          1994,
          1995,
          1996,
          1997,
          1998,
          1999,
          2000,
          2001,
          2002,
          2003,
          2004,
          2005,
          2006,
          2007,
          2008,
          2009,
          2010,
          2011,
          2012,
          2013,
          2014,
          2015,
          2016,
          2017
         ],
         "xaxis": "x",
         "y": [
          0.24583333333333332,
          1.0595238095238095,
          0.8660714285714286,
          0.6785714285714286,
          0.24101941747572816,
          0.901,
          0.5294137931034483,
          0.3591616161616162,
          5.037375,
          3.032,
          1.2115,
          3.3911602209944753,
          5.193677102516881,
          4.282076884672991,
          3.779800522901133,
          4.313290846956682,
          2.938859649122807,
          3.25,
          4.382352941176471,
          4.277777777777778,
          6.5,
          5,
          4,
          4,
          4.375,
          4.064516129032258,
          4.545454545454546,
          4.5,
          5.495454545454545,
          5.5,
          5.5,
          5.2,
          5.67741935483871,
          4.7,
          5.214285714285714,
          5,
          5.6,
          6.1,
          6.5
         ],
         "yaxis": "y"
        }
       ],
       "layout": {
        "annotations": [
         {
          "showarrow": false,
          "text": "",
          "textangle": 90,
          "x": 0.98,
          "xanchor": "left",
          "xref": "paper",
          "y": 0.16333333333333333,
          "yanchor": "middle",
          "yref": "paper"
         },
         {
          "showarrow": false,
          "text": "",
          "textangle": 90,
          "x": 0.98,
          "xanchor": "left",
          "xref": "paper",
          "y": 0.5,
          "yanchor": "middle",
          "yref": "paper"
         },
         {
          "showarrow": false,
          "text": "",
          "textangle": 90,
          "x": 0.98,
          "xanchor": "left",
          "xref": "paper",
          "y": 0.8366666666666667,
          "yanchor": "middle",
          "yref": "paper"
         },
         {
          "align": "left",
          "font": {
           "color": "dimgrey",
           "family": "arial",
           "size": 15
          },
          "showarrow": false,
          "text": "Production-Area-Yield (PAY) time-series of ZA - Wheat - Winter",
          "x": -0.014,
          "xref": "paper",
          "y": -0.14,
          "yref": "paper"
         }
        ],
        "font": {
         "color": "black",
         "family": "arial",
         "size": 16
        },
        "height": 600,
        "legend": {
         "font": {
          "size": 14
         },
         "title": {
          "text": "FNID"
         },
         "tracegroupgap": 0,
         "x": 1,
         "xanchor": "left",
         "y": 1,
         "yanchor": "top"
        },
        "margin": {
         "b": 25,
         "l": 0,
         "r": 0,
         "t": 0
        },
        "template": {
         "data": {
          "bar": [
           {
            "error_x": {
             "color": "#2a3f5f"
            },
            "error_y": {
             "color": "#2a3f5f"
            },
            "marker": {
             "line": {
              "color": "#E5ECF6",
              "width": 0.5
             },
             "pattern": {
              "fillmode": "overlay",
              "size": 10,
              "solidity": 0.2
             }
            },
            "type": "bar"
           }
          ],
          "barpolar": [
           {
            "marker": {
             "line": {
              "color": "#E5ECF6",
              "width": 0.5
             },
             "pattern": {
              "fillmode": "overlay",
              "size": 10,
              "solidity": 0.2
             }
            },
            "type": "barpolar"
           }
          ],
          "carpet": [
           {
            "aaxis": {
             "endlinecolor": "#2a3f5f",
             "gridcolor": "white",
             "linecolor": "white",
             "minorgridcolor": "white",
             "startlinecolor": "#2a3f5f"
            },
            "baxis": {
             "endlinecolor": "#2a3f5f",
             "gridcolor": "white",
             "linecolor": "white",
             "minorgridcolor": "white",
             "startlinecolor": "#2a3f5f"
            },
            "type": "carpet"
           }
          ],
          "choropleth": [
           {
            "colorbar": {
             "outlinewidth": 0,
             "ticks": ""
            },
            "type": "choropleth"
           }
          ],
          "contour": [
           {
            "colorbar": {
             "outlinewidth": 0,
             "ticks": ""
            },
            "colorscale": [
             [
              0,
              "#0d0887"
             ],
             [
              0.1111111111111111,
              "#46039f"
             ],
             [
              0.2222222222222222,
              "#7201a8"
             ],
             [
              0.3333333333333333,
              "#9c179e"
             ],
             [
              0.4444444444444444,
              "#bd3786"
             ],
             [
              0.5555555555555556,
              "#d8576b"
             ],
             [
              0.6666666666666666,
              "#ed7953"
             ],
             [
              0.7777777777777778,
              "#fb9f3a"
             ],
             [
              0.8888888888888888,
              "#fdca26"
             ],
             [
              1,
              "#f0f921"
             ]
            ],
            "type": "contour"
           }
          ],
          "contourcarpet": [
           {
            "colorbar": {
             "outlinewidth": 0,
             "ticks": ""
            },
            "type": "contourcarpet"
           }
          ],
          "heatmap": [
           {
            "colorbar": {
             "outlinewidth": 0,
             "ticks": ""
            },
            "colorscale": [
             [
              0,
              "#0d0887"
             ],
             [
              0.1111111111111111,
              "#46039f"
             ],
             [
              0.2222222222222222,
              "#7201a8"
             ],
             [
              0.3333333333333333,
              "#9c179e"
             ],
             [
              0.4444444444444444,
              "#bd3786"
             ],
             [
              0.5555555555555556,
              "#d8576b"
             ],
             [
              0.6666666666666666,
              "#ed7953"
             ],
             [
              0.7777777777777778,
              "#fb9f3a"
             ],
             [
              0.8888888888888888,
              "#fdca26"
             ],
             [
              1,
              "#f0f921"
             ]
            ],
            "type": "heatmap"
           }
          ],
          "heatmapgl": [
           {
            "colorbar": {
             "outlinewidth": 0,
             "ticks": ""
            },
            "colorscale": [
             [
              0,
              "#0d0887"
             ],
             [
              0.1111111111111111,
              "#46039f"
             ],
             [
              0.2222222222222222,
              "#7201a8"
             ],
             [
              0.3333333333333333,
              "#9c179e"
             ],
             [
              0.4444444444444444,
              "#bd3786"
             ],
             [
              0.5555555555555556,
              "#d8576b"
             ],
             [
              0.6666666666666666,
              "#ed7953"
             ],
             [
              0.7777777777777778,
              "#fb9f3a"
             ],
             [
              0.8888888888888888,
              "#fdca26"
             ],
             [
              1,
              "#f0f921"
             ]
            ],
            "type": "heatmapgl"
           }
          ],
          "histogram": [
           {
            "marker": {
             "pattern": {
              "fillmode": "overlay",
              "size": 10,
              "solidity": 0.2
             }
            },
            "type": "histogram"
           }
          ],
          "histogram2d": [
           {
            "colorbar": {
             "outlinewidth": 0,
             "ticks": ""
            },
            "colorscale": [
             [
              0,
              "#0d0887"
             ],
             [
              0.1111111111111111,
              "#46039f"
             ],
             [
              0.2222222222222222,
              "#7201a8"
             ],
             [
              0.3333333333333333,
              "#9c179e"
             ],
             [
              0.4444444444444444,
              "#bd3786"
             ],
             [
              0.5555555555555556,
              "#d8576b"
             ],
             [
              0.6666666666666666,
              "#ed7953"
             ],
             [
              0.7777777777777778,
              "#fb9f3a"
             ],
             [
              0.8888888888888888,
              "#fdca26"
             ],
             [
              1,
              "#f0f921"
             ]
            ],
            "type": "histogram2d"
           }
          ],
          "histogram2dcontour": [
           {
            "colorbar": {
             "outlinewidth": 0,
             "ticks": ""
            },
            "colorscale": [
             [
              0,
              "#0d0887"
             ],
             [
              0.1111111111111111,
              "#46039f"
             ],
             [
              0.2222222222222222,
              "#7201a8"
             ],
             [
              0.3333333333333333,
              "#9c179e"
             ],
             [
              0.4444444444444444,
              "#bd3786"
             ],
             [
              0.5555555555555556,
              "#d8576b"
             ],
             [
              0.6666666666666666,
              "#ed7953"
             ],
             [
              0.7777777777777778,
              "#fb9f3a"
             ],
             [
              0.8888888888888888,
              "#fdca26"
             ],
             [
              1,
              "#f0f921"
             ]
            ],
            "type": "histogram2dcontour"
           }
          ],
          "mesh3d": [
           {
            "colorbar": {
             "outlinewidth": 0,
             "ticks": ""
            },
            "type": "mesh3d"
           }
          ],
          "parcoords": [
           {
            "line": {
             "colorbar": {
              "outlinewidth": 0,
              "ticks": ""
             }
            },
            "type": "parcoords"
           }
          ],
          "pie": [
           {
            "automargin": true,
            "type": "pie"
           }
          ],
          "scatter": [
           {
            "fillpattern": {
             "fillmode": "overlay",
             "size": 10,
             "solidity": 0.2
            },
            "type": "scatter"
           }
          ],
          "scatter3d": [
           {
            "line": {
             "colorbar": {
              "outlinewidth": 0,
              "ticks": ""
             }
            },
            "marker": {
             "colorbar": {
              "outlinewidth": 0,
              "ticks": ""
             }
            },
            "type": "scatter3d"
           }
          ],
          "scattercarpet": [
           {
            "marker": {
             "colorbar": {
              "outlinewidth": 0,
              "ticks": ""
             }
            },
            "type": "scattercarpet"
           }
          ],
          "scattergeo": [
           {
            "marker": {
             "colorbar": {
              "outlinewidth": 0,
              "ticks": ""
             }
            },
            "type": "scattergeo"
           }
          ],
          "scattergl": [
           {
            "marker": {
             "colorbar": {
              "outlinewidth": 0,
              "ticks": ""
             }
            },
            "type": "scattergl"
           }
          ],
          "scattermapbox": [
           {
            "marker": {
             "colorbar": {
              "outlinewidth": 0,
              "ticks": ""
             }
            },
            "type": "scattermapbox"
           }
          ],
          "scatterpolar": [
           {
            "marker": {
             "colorbar": {
              "outlinewidth": 0,
              "ticks": ""
             }
            },
            "type": "scatterpolar"
           }
          ],
          "scatterpolargl": [
           {
            "marker": {
             "colorbar": {
              "outlinewidth": 0,
              "ticks": ""
             }
            },
            "type": "scatterpolargl"
           }
          ],
          "scatterternary": [
           {
            "marker": {
             "colorbar": {
              "outlinewidth": 0,
              "ticks": ""
             }
            },
            "type": "scatterternary"
           }
          ],
          "surface": [
           {
            "colorbar": {
             "outlinewidth": 0,
             "ticks": ""
            },
            "colorscale": [
             [
              0,
              "#0d0887"
             ],
             [
              0.1111111111111111,
              "#46039f"
             ],
             [
              0.2222222222222222,
              "#7201a8"
             ],
             [
              0.3333333333333333,
              "#9c179e"
             ],
             [
              0.4444444444444444,
              "#bd3786"
             ],
             [
              0.5555555555555556,
              "#d8576b"
             ],
             [
              0.6666666666666666,
              "#ed7953"
             ],
             [
              0.7777777777777778,
              "#fb9f3a"
             ],
             [
              0.8888888888888888,
              "#fdca26"
             ],
             [
              1,
              "#f0f921"
             ]
            ],
            "type": "surface"
           }
          ],
          "table": [
           {
            "cells": {
             "fill": {
              "color": "#EBF0F8"
             },
             "line": {
              "color": "white"
             }
            },
            "header": {
             "fill": {
              "color": "#C8D4E3"
             },
             "line": {
              "color": "white"
             }
            },
            "type": "table"
           }
          ]
         },
         "layout": {
          "annotationdefaults": {
           "arrowcolor": "#2a3f5f",
           "arrowhead": 0,
           "arrowwidth": 1
          },
          "autotypenumbers": "strict",
          "coloraxis": {
           "colorbar": {
            "outlinewidth": 0,
            "ticks": ""
           }
          },
          "colorscale": {
           "diverging": [
            [
             0,
             "#8e0152"
            ],
            [
             0.1,
             "#c51b7d"
            ],
            [
             0.2,
             "#de77ae"
            ],
            [
             0.3,
             "#f1b6da"
            ],
            [
             0.4,
             "#fde0ef"
            ],
            [
             0.5,
             "#f7f7f7"
            ],
            [
             0.6,
             "#e6f5d0"
            ],
            [
             0.7,
             "#b8e186"
            ],
            [
             0.8,
             "#7fbc41"
            ],
            [
             0.9,
             "#4d9221"
            ],
            [
             1,
             "#276419"
            ]
           ],
           "sequential": [
            [
             0,
             "#0d0887"
            ],
            [
             0.1111111111111111,
             "#46039f"
            ],
            [
             0.2222222222222222,
             "#7201a8"
            ],
            [
             0.3333333333333333,
             "#9c179e"
            ],
            [
             0.4444444444444444,
             "#bd3786"
            ],
            [
             0.5555555555555556,
             "#d8576b"
            ],
            [
             0.6666666666666666,
             "#ed7953"
            ],
            [
             0.7777777777777778,
             "#fb9f3a"
            ],
            [
             0.8888888888888888,
             "#fdca26"
            ],
            [
             1,
             "#f0f921"
            ]
           ],
           "sequentialminus": [
            [
             0,
             "#0d0887"
            ],
            [
             0.1111111111111111,
             "#46039f"
            ],
            [
             0.2222222222222222,
             "#7201a8"
            ],
            [
             0.3333333333333333,
             "#9c179e"
            ],
            [
             0.4444444444444444,
             "#bd3786"
            ],
            [
             0.5555555555555556,
             "#d8576b"
            ],
            [
             0.6666666666666666,
             "#ed7953"
            ],
            [
             0.7777777777777778,
             "#fb9f3a"
            ],
            [
             0.8888888888888888,
             "#fdca26"
            ],
            [
             1,
             "#f0f921"
            ]
           ]
          },
          "colorway": [
           "#636efa",
           "#EF553B",
           "#00cc96",
           "#ab63fa",
           "#FFA15A",
           "#19d3f3",
           "#FF6692",
           "#B6E880",
           "#FF97FF",
           "#FECB52"
          ],
          "font": {
           "color": "#2a3f5f"
          },
          "geo": {
           "bgcolor": "white",
           "lakecolor": "white",
           "landcolor": "#E5ECF6",
           "showlakes": true,
           "showland": true,
           "subunitcolor": "white"
          },
          "hoverlabel": {
           "align": "left"
          },
          "hovermode": "closest",
          "mapbox": {
           "style": "light"
          },
          "paper_bgcolor": "white",
          "plot_bgcolor": "#E5ECF6",
          "polar": {
           "angularaxis": {
            "gridcolor": "white",
            "linecolor": "white",
            "ticks": ""
           },
           "bgcolor": "#E5ECF6",
           "radialaxis": {
            "gridcolor": "white",
            "linecolor": "white",
            "ticks": ""
           }
          },
          "scene": {
           "xaxis": {
            "backgroundcolor": "#E5ECF6",
            "gridcolor": "white",
            "gridwidth": 2,
            "linecolor": "white",
            "showbackground": true,
            "ticks": "",
            "zerolinecolor": "white"
           },
           "yaxis": {
            "backgroundcolor": "#E5ECF6",
            "gridcolor": "white",
            "gridwidth": 2,
            "linecolor": "white",
            "showbackground": true,
            "ticks": "",
            "zerolinecolor": "white"
           },
           "zaxis": {
            "backgroundcolor": "#E5ECF6",
            "gridcolor": "white",
            "gridwidth": 2,
            "linecolor": "white",
            "showbackground": true,
            "ticks": "",
            "zerolinecolor": "white"
           }
          },
          "shapedefaults": {
           "line": {
            "color": "#2a3f5f"
           }
          },
          "ternary": {
           "aaxis": {
            "gridcolor": "white",
            "linecolor": "white",
            "ticks": ""
           },
           "baxis": {
            "gridcolor": "white",
            "linecolor": "white",
            "ticks": ""
           },
           "bgcolor": "#E5ECF6",
           "caxis": {
            "gridcolor": "white",
            "linecolor": "white",
            "ticks": ""
           }
          },
          "title": {
           "x": 0.05
          },
          "xaxis": {
           "automargin": true,
           "gridcolor": "white",
           "linecolor": "white",
           "ticks": "",
           "title": {
            "standoff": 15
           },
           "zerolinecolor": "white",
           "zerolinewidth": 2
          },
          "yaxis": {
           "automargin": true,
           "gridcolor": "white",
           "linecolor": "white",
           "ticks": "",
           "title": {
            "standoff": 15
           },
           "zerolinecolor": "white",
           "zerolinewidth": 2
          }
         }
        },
        "width": 900,
        "xaxis": {
         "anchor": "y",
         "domain": [
          0,
          0.98
         ],
         "dtick": 1,
         "range": [
          1979,
          2019
         ],
         "title": {
          "text": ""
         }
        },
        "xaxis2": {
         "anchor": "y2",
         "domain": [
          0,
          0.98
         ],
         "dtick": 1,
         "matches": "x",
         "showticklabels": false
        },
        "xaxis3": {
         "anchor": "y3",
         "domain": [
          0,
          0.98
         ],
         "dtick": 1,
         "matches": "x",
         "showticklabels": false
        },
        "yaxis": {
         "anchor": "x",
         "domain": [
          0,
          0.32666666666666666
         ],
         "title": {
          "text": "Yield (mt/ha)"
         }
        },
        "yaxis2": {
         "anchor": "x2",
         "domain": [
          0.33666666666666667,
          0.6633333333333333
         ],
         "title": {
          "text": "Area (ha)"
         }
        },
        "yaxis3": {
         "anchor": "x3",
         "domain": [
          0.6733333333333333,
          1
         ],
         "title": {
          "text": "Production (mt)"
         }
        }
       }
      }
     },
     "metadata": {},
     "output_type": "display_data"
    }
   ],
   "source": [
    "# Lineplot of Production-Area-Yield (PAY) time-series\n",
    "country_iso, country_name = 'ZA', 'South Africa'\n",
    "df = pd.read_hdf('./data/crop/adm_crop_production_%s.hdf' % country_iso)\n",
    "df = df[df['gscd_code']=='calibrated']; df['year'] = df['harvest_year']\n",
    "year = [df['year'].min(), df['year'].max()]\n",
    "product_season = [\n",
    "    ['Maize (White)','Summer'],\n",
    "    ['Maize (Yellow)','Summer'],\n",
    "    ['Wheat','Winter'],\n",
    "]\n",
    "for product_name, season_name in product_season:\n",
    "    footnote = 'Production-Area-Yield (PAY) time-series of %s - %s - %s' % (country_iso, product_name, season_name)\n",
    "    fn_save = './figures/%s_line_pay_%s_%s.png' % (country_iso, product_name, season_name)\n",
    "    sub = df[(df['product'] == product_name) & (df['season_name'] == season_name)]\n",
    "    fig = PlotLinePAY(sub, year, footnote, fn_save)\n",
    "    fig.show()"
   ]
  },
  {
   "cell_type": "code",
   "execution_count": 9,
   "id": "d552013f-bcaa-4ad5-9391-6d43d1105464",
   "metadata": {},
   "outputs": [
    {
     "name": "stdout",
     "output_type": "stream",
     "text": [
      "./figures/crop_calibrated/ZA_Maize (White)_Summer_ZA1994A101.png is saved.\n",
      "./figures/crop_calibrated/ZA_Maize (White)_Summer_ZA1994A102.png is saved.\n",
      "./figures/crop_calibrated/ZA_Maize (White)_Summer_ZA1994A103.png is saved.\n",
      "./figures/crop_calibrated/ZA_Maize (White)_Summer_ZA1994A104.png is saved.\n",
      "./figures/crop_calibrated/ZA_Maize (White)_Summer_ZA1994A105.png is saved.\n",
      "./figures/crop_calibrated/ZA_Maize (White)_Summer_ZA1994A106.png is saved.\n",
      "./figures/crop_calibrated/ZA_Maize (White)_Summer_ZA1994A107.png is saved.\n",
      "./figures/crop_calibrated/ZA_Maize (White)_Summer_ZA1994A108.png is saved.\n",
      "./figures/crop_calibrated/ZA_Maize (White)_Summer_ZA1994A109.png is saved.\n",
      "./figures/crop_calibrated/ZA_Maize (Yellow)_Summer_ZA1994A101.png is saved.\n",
      "./figures/crop_calibrated/ZA_Maize (Yellow)_Summer_ZA1994A102.png is saved.\n",
      "./figures/crop_calibrated/ZA_Maize (Yellow)_Summer_ZA1994A103.png is saved.\n",
      "./figures/crop_calibrated/ZA_Maize (Yellow)_Summer_ZA1994A104.png is saved.\n",
      "./figures/crop_calibrated/ZA_Maize (Yellow)_Summer_ZA1994A105.png is saved.\n",
      "./figures/crop_calibrated/ZA_Maize (Yellow)_Summer_ZA1994A106.png is saved.\n",
      "./figures/crop_calibrated/ZA_Maize (Yellow)_Summer_ZA1994A107.png is saved.\n",
      "./figures/crop_calibrated/ZA_Maize (Yellow)_Summer_ZA1994A108.png is saved.\n",
      "./figures/crop_calibrated/ZA_Maize (Yellow)_Summer_ZA1994A109.png is saved.\n",
      "./figures/crop_calibrated/ZA_Wheat_Winter_ZA1994A101.png is saved.\n",
      "./figures/crop_calibrated/ZA_Wheat_Winter_ZA1994A102.png is saved.\n",
      "./figures/crop_calibrated/ZA_Wheat_Winter_ZA1994A103.png is saved.\n",
      "./figures/crop_calibrated/ZA_Wheat_Winter_ZA1994A104.png is saved.\n",
      "./figures/crop_calibrated/ZA_Wheat_Winter_ZA1994A105.png is saved.\n",
      "./figures/crop_calibrated/ZA_Wheat_Winter_ZA1994A106.png is saved.\n",
      "./figures/crop_calibrated/ZA_Wheat_Winter_ZA1994A107.png is saved.\n",
      "./figures/crop_calibrated/ZA_Wheat_Winter_ZA1994A108.png is saved.\n",
      "./figures/crop_calibrated/ZA_Wheat_Winter_ZA1994A109.png is saved.\n"
     ]
    }
   ],
   "source": [
    "# Calibrated PAY time-series per FNID\n",
    "from tools_graphic import PlotLineCropTS\n",
    "country_iso, country_name = 'ZA', 'South Africa'\n",
    "df = pd.read_hdf('./data/crop/adm_crop_production_%s.hdf' % country_iso)\n",
    "df = df[df['gscd_code']=='calibrated']; df['year'] = df['harvest_year']\n",
    "link_ratio = load_npz('./data/crop/adm_crop_production_%s_ratio.npz' % country_iso)\n",
    "year_all = np.arange(df['year'].min(), df['year'].max()+1)\n",
    "product_season = [\n",
    "    ['Maize (White)','Summer'],\n",
    "    ['Maize (Yellow)','Summer'],\n",
    "    ['Wheat','Winter'],\n",
    "]\n",
    "for product_name, season_name in product_season:\n",
    "    sub = df[\n",
    "        (df['product'] == product_name) &\n",
    "        (df['season_name'] == season_name)\n",
    "    ]\n",
    "    for fnid in sub['fnid'].unique():\n",
    "        sub_fps = sub[sub['fnid'] == fnid]\n",
    "        fn_save = './figures/crop_calibrated/%s_%s_%s_%s.png' % (country_iso, product_name, season_name, fnid)\n",
    "        fig = PlotLineCropTS(sub_fps, fnid, product_name, season_name, link_ratio, year_all, fn_save)"
   ]
  },
  {
   "cell_type": "code",
   "execution_count": null,
   "id": "86246787-530e-49d2-a19a-b288321ecd53",
   "metadata": {},
   "outputs": [],
   "source": []
  }
 ],
 "metadata": {
  "kernelspec": {
   "display_name": "Python 3 (ipykernel)",
   "language": "python",
   "name": "python3"
  },
  "language_info": {
   "codemirror_mode": {
    "name": "ipython",
    "version": 3
   },
   "file_extension": ".py",
   "mimetype": "text/x-python",
   "name": "python",
   "nbconvert_exporter": "python",
   "pygments_lexer": "ipython3",
   "version": "3.10.10"
  }
 },
 "nbformat": 4,
 "nbformat_minor": 5
}
